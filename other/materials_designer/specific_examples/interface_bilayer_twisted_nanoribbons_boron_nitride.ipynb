{
 "cells": [
  {
   "cell_type": "markdown",
   "id": "6b26b3bd88c951b3",
   "metadata": {
    "collapsed": false
   },
   "source": [
    "# Twisted bilayer Boron Nitride (TBBN).\n",
    "\n",
    "## 0. Introduction\n",
    "\n",
    "This tutorial demonstrates the process of creating a twisted bilayer boron nitride structure as described in:\n",
    "\n",
    "> **Lede Xian, Dante M. Kennes, Nicolas Tancogne-Dejean, Massimo Altarelli, and Angel Rubio**,\n",
    "> \"Multiflat Bands and Strong Correlations in Twisted Bilayer Boron Nitride: Doping-Induced Correlated Insulator and Superconductor\"\n",
    "> Phys. Rev. Lett. 125, 086402 – Published 20 August 2020\n",
    "> [DOI: 10.1021/acs.nanolett.9b00986](https://pubs.acs.org/doi/10.1021/acs.nanolett.9b00986)\n",
    "\n",
    "We will reproduce the structure shown in Figure 1(a,b) of the paper, which shows a twisted bilayer h-BN with specific stacking regions.\n",
    "\n",
    "Key features to reproduce:\n",
    "1. Hexagonal boron nitride bilayer structure\n",
    "2. Twisted configurations with 2 specific twist angles\n",
    "\n",
    "The image shows the twisted bilayer h-BN structure with a twist angle of 2.64° (a) and 62.64° (b).\n",
    "\n",
    "<img src=\"https://github.com/Exabyte-io/documentation/raw/12617167278ae3523adc028583b21ea4e8ebd197/images/tutorials/materials/interfaces/twisted-bilayer-boron-nitride/tbbn-paper-image.png\" alt=\"Twisted bilayer h-BN\" width=\"800\"/>"
   ]
  },
  {
   "cell_type": "markdown",
   "id": "21f76cc671b0e835",
   "metadata": {
    "collapsed": false
   },
   "source": [
    "## 1. Prepare the Environment\n",
    "### 1.1. Set up structure parameters\n"
   ]
  },
  {
   "cell_type": "code",
   "id": "47af0a587ce80b91",
   "metadata": {
    "collapsed": false,
    "ExecuteTime": {
     "end_time": "2025-08-08T18:33:23.640918Z",
     "start_time": "2025-08-08T18:33:23.636417Z"
    }
   },
   "source": [
    "# Material and structure parameters\n",
    "TWIST_ANGLE_A = 2.64  # Twist angle in degrees for A material\n",
    "TWIST_ANGLE_B = 60 + 2.64  # Twist angle in degrees for B material\n",
    "\n",
    "# Nanoribbons parameters\n",
    "\n",
    "RIBBON_WIDTH = 40  # Width of the nanoribbon in unit cells\n",
    "RIBBON_LENGTH = 40  # Length of the nanoribbon in unit cells\n",
    "VACUUM_PADDING = 30.0  # Vacuum padding in Angstroms\n",
    "\n",
    "# Interface parameters\n",
    "INTERFACE_DISTANCE = 3.23  # Distance between layers in Angstroms\n",
    "INTERFACE_VACUUM = 20.0  # Vacuum layer thickness in Angstroms\n",
    "\n",
    "# Visualization settings\n",
    "SHOW_INTERMEDIATE_STEPS = True\n",
    "VISUALIZE_REPETITIONS = [1, 1, 1]"
   ],
   "outputs": [],
   "execution_count": 1
  },
  {
   "cell_type": "markdown",
   "id": "4b91848e28033a8b",
   "metadata": {
    "collapsed": false
   },
   "source": [
    "### 1.2. Install Packages\n"
   ]
  },
  {
   "cell_type": "code",
   "id": "f67b53c0f60f257c",
   "metadata": {
    "collapsed": false,
    "ExecuteTime": {
     "end_time": "2025-08-08T18:33:23.799128Z",
     "start_time": "2025-08-08T18:33:23.797045Z"
    }
   },
   "source": [
    "import sys\n",
    "\n",
    "if sys.platform == \"emscripten\":\n",
    "    import micropip\n",
    "\n",
    "    await micropip.install(\"https://exabyte-io.github.io/api-examples/mat3ra_api_examples-0.1.dev1+g03efa43-py3-none-any.whl\", deps=False)\n",
    "    await micropip.install('mat3ra-utils')\n",
    "    from mat3ra.utils.jupyterlite.packages import install_packages\n",
    "\n",
    "    await install_packages(\"specific_examples\")"
   ],
   "outputs": [],
   "execution_count": 2
  },
  {
   "cell_type": "markdown",
   "id": "c4370f1ce85b6507",
   "metadata": {
    "collapsed": false
   },
   "source": [
    "### 1.3. Get input material\n",
    "We'll use hexagonal boron nitride (h-BN) as our starting material.\n"
   ]
  },
  {
   "cell_type": "code",
   "id": "f1c2ac4b7553961b",
   "metadata": {
    "collapsed": false,
    "ExecuteTime": {
     "end_time": "2025-08-08T18:33:26.321935Z",
     "start_time": "2025-08-08T18:33:23.811737Z"
    }
   },
   "source": [
    "from mat3ra.made.material import Material\n",
    "from mat3ra.standata.materials import Materials\n",
    "from utils.visualize import visualize_materials\n",
    "\n",
    "material = Material.create(Materials.get_by_name_first_match(\"BN\"))\n",
    "\n",
    "print(\"Initial material properties:\")\n",
    "print(f\"Formula: {material.formula}\")\n",
    "print(f\"Number of atoms: {len(material.basis.elements.ids)}\")\n",
    "print(f\"Lattice vectors:\\n{material.basis.cell.vector_arrays}\")\n",
    "\n",
    "if SHOW_INTERMEDIATE_STEPS:\n",
    "    visualize_materials(material, repetitions=VISUALIZE_REPETITIONS)\n"
   ],
   "outputs": [
    {
     "name": "stdout",
     "output_type": "stream",
     "text": [
      "Initial material properties:\n",
      "Formula: None\n",
      "Number of atoms: 2\n",
      "Lattice vectors:\n",
      "[[2.508995, 0.0, 1.5363163479133569e-16], [-1.2544979999999997, 2.1728542739935413, 1.5363169602367562e-16], [0.0, 0.0, 20.0]]\n"
     ]
    },
    {
     "data": {
      "text/plain": [
       "GridBox(children=(VBox(children=(Label(value='BN - Material - rotation: 0x,0y,0z', layout=Layout(align_self='c…"
      ],
      "application/vnd.jupyter.widget-view+json": {
       "version_major": 2,
       "version_minor": 0,
       "model_id": "05052c20d08742c29b4f9a0e2f33f59c"
      }
     },
     "metadata": {},
     "output_type": "display_data"
    }
   ],
   "execution_count": 3
  },
  {
   "cell_type": "markdown",
   "id": "26064d36be06507f",
   "metadata": {
    "collapsed": false
   },
   "source": [
    "## 2. Create Twisted Bilayer Structure\n",
    "### 2.1. Create nanoribbon\n"
   ]
  },
  {
   "cell_type": "code",
   "id": "80ac5dd96d8622b7",
   "metadata": {
    "collapsed": false,
    "ExecuteTime": {
     "end_time": "2025-08-08T18:33:32.457521Z",
     "start_time": "2025-08-08T18:33:26.366172Z"
    }
   },
   "source": [
    "\n",
    "from mat3ra.made.tools.helpers import create_nanoribbon\n",
    "\n",
    "nanoribbon = create_nanoribbon(\n",
    "    material=material,\n",
    "    width=RIBBON_WIDTH,\n",
    "    length=RIBBON_LENGTH,\n",
    "    vacuum_length=VACUUM_PADDING,\n",
    "    vacuum_width=VACUUM_PADDING,\n",
    ")\n"
   ],
   "outputs": [
    {
     "name": "stderr",
     "output_type": "stream",
     "text": [
      "/Users/mat3ra/code/GREEN/api-examples/.venv-3.11.2/lib/python3.11/site-packages/spglib/spglib.py:115: DeprecationWarning: dict interface (SpglibDataset['number']) is deprecated.Use attribute interface ({self.__class__.__name__}.{key}) instead\n",
      "  warnings.warn(\n",
      "/Users/mat3ra/code/GREEN/api-examples/.venv-3.11.2/lib/python3.11/site-packages/spglib/spglib.py:115: DeprecationWarning: dict interface (SpglibDataset['wyckoffs']) is deprecated.Use attribute interface ({self.__class__.__name__}.{key}) instead\n",
      "  warnings.warn(\n",
      "/Users/mat3ra/code/GREEN/api-examples/.venv-3.11.2/lib/python3.11/site-packages/spglib/spglib.py:115: DeprecationWarning: dict interface (SpglibDataset['equivalent_atoms']) is deprecated.Use attribute interface ({self.__class__.__name__}.{key}) instead\n",
      "  warnings.warn(\n",
      "/Users/mat3ra/code/GREEN/api-examples/.venv-3.11.2/lib/python3.11/site-packages/spglib/spglib.py:115: DeprecationWarning: dict interface (SpglibDataset['rotations']) is deprecated.Use attribute interface ({self.__class__.__name__}.{key}) instead\n",
      "  warnings.warn(\n",
      "/Users/mat3ra/code/GREEN/api-examples/.venv-3.11.2/lib/python3.11/site-packages/spglib/spglib.py:115: DeprecationWarning: dict interface (SpglibDataset['international']) is deprecated.Use attribute interface ({self.__class__.__name__}.{key}) instead\n",
      "  warnings.warn(\n"
     ]
    }
   ],
   "execution_count": 4
  },
  {
   "cell_type": "markdown",
   "id": "f3019591d1ab5506",
   "metadata": {
    "collapsed": false
   },
   "source": [
    "### 2.2. Generate and analyze interfaces\n"
   ]
  },
  {
   "cell_type": "code",
   "id": "2293065288b4308c",
   "metadata": {
    "jupyter": {
     "is_executing": true
    },
    "ExecuteTime": {
     "start_time": "2025-08-08T18:33:32.500618Z"
    }
   },
   "source": [
    "from mat3ra.made.tools.helpers import create_interface_twisted\n",
    "\n",
    "interface_a = create_interface_twisted(\n",
    "    material1=nanoribbon,\n",
    "    material2=nanoribbon,\n",
    "    angle=TWIST_ANGLE_A,\n",
    "    gap=INTERFACE_DISTANCE,\n",
    "    vacuum_x=VACUUM_PADDING,\n",
    "    vacuum_y=VACUUM_PADDING,\n",
    ")\n",
    "\n",
    "interface_b = create_interface_twisted(\n",
    "    material1=nanoribbon,\n",
    "    material2=nanoribbon,\n",
    "    angle=TWIST_ANGLE_B,\n",
    "    gap=INTERFACE_DISTANCE,\n",
    "    vacuum_x=VACUUM_PADDING,\n",
    "    vacuum_y=VACUUM_PADDING,\n",
    ")"
   ],
   "outputs": [],
   "execution_count": null
  },
  {
   "cell_type": "markdown",
   "id": "fe5b798439e5b43a",
   "metadata": {
    "collapsed": false
   },
   "source": [
    "### 2.3. Select and visualize the best interface\n"
   ]
  },
  {
   "cell_type": "code",
   "id": "c4049a69b2dcbaa1",
   "metadata": {
    "collapsed": false
   },
   "source": [
    "visualize_materials([interface_a, interface_b], repetitions=VISUALIZE_REPETITIONS)\n",
    "visualize_materials([interface_a, interface_b], repetitions=VISUALIZE_REPETITIONS, rotation=\"-90x\")"
   ],
   "outputs": [],
   "execution_count": null
  },
  {
   "cell_type": "markdown",
   "id": "d58a1e4ada9d1a74",
   "metadata": {
    "collapsed": false
   },
   "source": [
    "## 5. Download the Materials\n"
   ]
  },
  {
   "cell_type": "code",
   "id": "a64a81bb1ab4d47d",
   "metadata": {
    "collapsed": false
   },
   "source": [
    "from utils.jupyterlite import download_content_to_file, set_materials\n",
    "interface_a.name += f\" ({TWIST_ANGLE_A} degrees)\"\n",
    "interface_b.name += f\" ({TWIST_ANGLE_B} degrees)\"\n",
    "set_materials([interface_a, interface_b])\n",
    "download_content_to_file(interface_a.to_json(), \"twisted_bilayer_h-BN_A.json\")\n",
    "download_content_to_file(interface_b.to_json(), \"twisted_bilayer_h-BN_B.json\")"
   ],
   "outputs": [],
   "execution_count": null
  }
 ],
 "metadata": {
  "kernelspec": {
   "display_name": "Python 3",
   "language": "python",
   "name": "python3"
  },
  "language_info": {
   "codemirror_mode": {
    "name": "ipython",
    "version": 2
   },
   "file_extension": ".py",
   "mimetype": "text/x-python",
   "name": "python",
   "nbconvert_exporter": "python",
   "pygments_lexer": "ipython2",
   "version": "2.7.6"
  }
 },
 "nbformat": 4,
 "nbformat_minor": 5
}
