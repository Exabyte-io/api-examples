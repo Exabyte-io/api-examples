{
 "cells": [
  {
   "cell_type": "markdown",
   "id": "c9f342d4ac1988c6",
   "metadata": {
    "collapsed": false
   },
   "source": [
    "# Create a nanowire\n",
    "\n",
    "Create a nanowire from original material by creating a slab (with specific Miller indices) and cutting a cylinder along its Z axis, then, optionally, rotating to align along X axis.\n",
    "\n",
    "<h2 style=\"color:green\">Usage</h2>\n",
    "\n",
    "1. Make sure to select Input Materials (in the outer runtime) before running the notebook.\n",
    "1. Set notebook parameters in cell 1.1. below (or use the default values).\n",
    "1. Click “Run” > “Run All” to run all cells. \n",
    "1. Scroll down to view results. "
   ]
  },
  {
   "cell_type": "markdown",
   "id": "cbcd112c418fcaa4",
   "metadata": {
    "collapsed": false
   },
   "source": [
    "## 1. Prepare the Environment\n",
    "### 1.1. Set up nanowire parameters"
   ]
  },
  {
   "cell_type": "code",
   "execution_count": null,
   "id": "2269749714d81b93",
   "metadata": {
    "collapsed": false
   },
   "outputs": [],
   "source": [
    "MILLER_INDICES= (0,0,1)  # Miller indices of the nanowire direction\n",
    "RADIUS = 5.0 # Wire radius in Angstroms\n",
    "LENGTH = 30.0 # Wire length in Angstroms\n",
    "VACUUM = 10.0 # Vacuum thickness on the sides in Angstroms\n",
    "ALIGN_ALONG_X = True"
   ]
  },
  {
   "cell_type": "markdown",
   "id": "65c906791f69bac9",
   "metadata": {
    "collapsed": false
   },
   "source": [
    "### 1.2. Install Packages\n",
    "The step executes only in Pyodide environment. For other environments, the packages should be installed via `pip install` (see [README](../../README.ipynb))."
   ]
  },
  {
   "cell_type": "code",
   "execution_count": null,
   "id": "6dac92b719d539ec",
   "metadata": {
    "collapsed": false
   },
   "outputs": [],
   "source": [
    "import sys\n",
    "\n",
    "if sys.platform == \"emscripten\":\n",
    "    import micropip\n",
    "  \n",
    "    await micropip.install(\"https://exabyte-io.github.io/api-examples/mat3ra_api_examples-0.1.dev1+g03efa43-py3-none-any.whl\", deps=False)\n",
    "    await micropip.install('mat3ra-utils')\n",
    "    from mat3ra.utils.jupyterlite.packages import install_packages\n",
    "    await install_packages(\"\")"
   ]
  },
  {
   "cell_type": "markdown",
   "id": "2fe1d71e1b02aed9",
   "metadata": {
    "collapsed": false
   },
   "source": [
    "### 1.3. Get input materials"
   ]
  },
  {
   "cell_type": "code",
   "execution_count": null,
   "id": "b95701d7a0e593fe",
   "metadata": {
    "collapsed": false
   },
   "outputs": [],
   "source": [
    "from utils.jupyterlite import get_materials\n",
    "\n",
    "materials = get_materials(globals())\n",
    "material = materials[0] "
   ]
  },
  {
   "cell_type": "markdown",
   "id": "a8ebe61794b2e803",
   "metadata": {
    "collapsed": false
   },
   "source": [
    "### 1.4. Preview the material"
   ]
  },
  {
   "cell_type": "code",
   "execution_count": null,
   "id": "c98ec170f3ee6d24",
   "metadata": {
    "collapsed": false
   },
   "outputs": [],
   "source": [
    "from utils.visualize import visualize_materials as visualize\n",
    "visualize(material, repetitions=[3,3,3], rotation=\"0x\")\n",
    "visualize(material, repetitions=[3,3,3], rotation=\"-90x\")"
   ]
  },
  {
   "cell_type": "markdown",
   "id": "38ecf94e650e268d",
   "metadata": {
    "collapsed": false
   },
   "source": [
    "## 2. Create nanowire\n",
    "### 2.1. Create a slab and cut a cylinder"
   ]
  },
  {
   "cell_type": "code",
   "execution_count": null,
   "id": "c4b34b3287960dcc",
   "metadata": {
    "collapsed": false
   },
   "outputs": [],
   "source": [
    "import math\n",
    "from mat3ra.made.tools.helpers import create_supercell\n",
    "from mat3ra.made.tools.modify import filter_by_cylinder, add_vacuum_sides\n",
    "from mat3ra.made.tools.helpers import create_slab\n",
    "\n",
    "slab_unit_cell = create_slab(\n",
    "    crystal=material,\n",
    "    miller_indices=MILLER_INDICES,\n",
    "    number_of_layers=1,\n",
    "    vacuum=0,\n",
    "    use_orthogonal_c=True,\n",
    ")\n",
    "\n",
    "n_for_x = math.ceil(int(2*RADIUS / slab_unit_cell.lattice.a)) + 1\n",
    "n_for_y = math.ceil(int(2*RADIUS / slab_unit_cell.lattice.b)) + 1\n",
    "n_for_z = int(LENGTH / slab_unit_cell.lattice.c)\n",
    "supercell = create_supercell(slab_unit_cell, supercell_matrix=[[n_for_x, 0, 0], [0, n_for_y, 0], [0, 0, n_for_z]])\n",
    "nanowire_z = filter_by_cylinder(supercell, radius=RADIUS, use_cartesian_coordinates=True)\n",
    "nanowire_z = add_vacuum_sides(nanowire_z, vacuum=VACUUM, on_x=True, on_y=True)    "
   ]
  },
  {
   "cell_type": "markdown",
   "id": "ae940638396f93a6",
   "metadata": {
    "collapsed": false
   },
   "source": [
    "### 2.2. Rotate to align along X axis (optional)"
   ]
  },
  {
   "cell_type": "code",
   "execution_count": null,
   "id": "7401ab24726bf4e5",
   "metadata": {
    "collapsed": false
   },
   "outputs": [],
   "source": [
    "rotate_90_degree_matrix = [[0, 0, 1], [0, 1, 0], [-1, 0, 0]]\n",
    "nanowire_x = create_supercell(nanowire_z, supercell_matrix=rotate_90_degree_matrix)\n",
    "nanowire = nanowire_x if ALIGN_ALONG_X else nanowire_z"
   ]
  },
  {
   "cell_type": "markdown",
   "id": "d8f41816d0b48edc",
   "metadata": {
    "collapsed": false
   },
   "source": [
    "## 3. Visualize the result"
   ]
  },
  {
   "cell_type": "code",
   "execution_count": null,
   "id": "aea078560283ca95",
   "metadata": {
    "collapsed": false
   },
   "outputs": [],
   "source": [
    "visualize(nanowire, repetitions=[1, 1, 1], rotation=\"0x\")\n",
    "visualize(nanowire, repetitions=[1, 1, 1], rotation=\"-90x\")\n",
    "visualize(nanowire, repetitions=[1, 1, 1], rotation=\"-90y\")"
   ]
  },
  {
   "cell_type": "markdown",
   "id": "a212abe25bf59b4f",
   "metadata": {
    "collapsed": false
   },
   "source": [
    "# 4. Pass material to the outside runtime"
   ]
  },
  {
   "cell_type": "code",
   "execution_count": null,
   "id": "cdaf612bc6198546",
   "metadata": {
    "collapsed": false
   },
   "outputs": [],
   "source": [
    "from utils.jupyterlite import set_materials\n",
    "set_materials(nanowire)"
   ]
  }
 ],
 "metadata": {
  "kernelspec": {
   "display_name": "Python 3",
   "language": "python",
   "name": "python3"
  },
  "language_info": {
   "codemirror_mode": {
    "name": "ipython",
    "version": 2
   },
   "file_extension": ".py",
   "mimetype": "text/x-python",
   "name": "python",
   "nbconvert_exporter": "python",
   "pygments_lexer": "ipython2",
   "version": "2.7.6"
  }
 },
 "nbformat": 4,
 "nbformat_minor": 5
}
