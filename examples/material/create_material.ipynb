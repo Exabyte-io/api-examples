{
  "nbformat": 4,
  "nbformat_minor": 0,
  "metadata": {
    "colab": {
      "name": "create_material.ipynb",
      "provenance": [],
      "collapsed_sections": []
    },
    "kernelspec": {
      "display_name": "Python 3",
      "language": "python",
      "name": "python3"
    },
    "language_info": {
      "codemirror_mode": {
        "name": "ipython",
        "version": 3
      },
      "file_extension": ".py",
      "mimetype": "text/x-python",
      "name": "python",
      "nbconvert_exporter": "python",
      "pygments_lexer": "ipython3",
      "version": "3.8.6"
    }
  },
  "cells": [
    {
      "cell_type": "markdown",
      "metadata": {
        "id": "6naVAdmtsRA7"
      },
      "source": [
        "[![Open In Colab](https://colab.research.google.com/assets/colab-badge.svg)](https://colab.research.google.com/github/Exabyte-io/exabyte-api-examples/blob/feature/SOF-4400-skinny-req/examples/material/create_material.ipynb)"
      ]
    },
    {
      "cell_type": "markdown",
      "metadata": {
        "id": "4icy6yP1nrTF"
      },
      "source": [
        "# Overview\n",
        "\n",
        "In this example we create a material from a JSON config with [tags](https://docs.exabyte.io/entities-general/data/#tags) to identify the material."
      ]
    },
    {
      "cell_type": "markdown",
      "metadata": {
        "id": "UC33AKk8stwN"
      },
      "source": [
        "# Complete Authorization Form and Initialize Settings\n",
        "\n",
        "This will also determine environment and set all environment variables. We determine if we are using Jupyter Notebooks or Google Colab to run this tutorial. If google drive, we will have some extra steps to do."
      ]
    },
    {
      "cell_type": "code",
      "metadata": {
        "cellView": "form",
        "id": "63oC9xGZsuyy",
        "outputId": "1419f649-9ac2-4e50-a197-ff90c3769987"
      },
      "source": [
        "#@title Authorization Form\n",
        "ACCOUNT_ID = \"\" #@param {type:\"string\"}\n",
        "AUTH_TOKEN = \"\" #@param {type:\"string\"}\n",
        "MATERIALS_PROJECT_API_KEY = \"\" #@param {type:\"string\"}\n",
        "\n",
        "import os\n",
        "\n",
        "if 'google.colab' in str(get_ipython()):\n",
        "  print('Running on CoLab')\n",
        "  os.environ['notebook_environment'] = \"Colab\"\n",
        "elif 'ZMQInteractiveShell'  in str(get_ipython()):\n",
        "  print('Running in Jupyter')\n",
        "  os.environ['notebook_environment'] = \"Jupyter\"\n",
        "else:\n",
        "  print('Unknown Environment')\n",
        "  os.environ['notebook_environment'] = \"\"\n",
        "    \n",
        "if os.environ['notebook_environment'] == \"Colab\":\n",
        "    !git clone -b feature/SOF-4400-skinny-req https://github.com/Exabyte-io/exabyte-api-examples.git\n",
        "    %cd /content/exabyte-api-examples/examples/material\n",
        "    !pip install --no-deps -r ../../requirements-colab.txt\n",
        "\n",
        "with open('../settings.py') as settings:\n",
        "    settings_filelines = settings.readlines()\n",
        "with open('../settings.py', \"w\") as settings:\n",
        "    for line in settings_filelines:\n",
        "        if 'ACCOUNT_ID = ' in line:\n",
        "            settings.write('%s \"%s\"\\n' % (\"ACCOUNT_ID =\", ACCOUNT_ID))\n",
        "        elif 'AUTH_TOKEN = ' in line:\n",
        "            settings.write('%s \"%s\"\\n' % (\"AUTH_TOKEN =\", AUTH_TOKEN))\n",
        "        elif 'MATERIALS_PROJECT_API_KEY = ' in line:\n",
        "            settings.write('%s \"%s\"\\n' % (\"MATERIALS_PROJECT_API_KEY =\", MATERIALS_PROJECT_API_KEY))\n",
        "        else:\n",
        "            settings.write(line)"
      ],
      "execution_count": null,
      "outputs": [
        {
          "output_type": "stream",
          "text": [
            "Running in Jupyter\n"
          ],
          "name": "stdout"
        }
      ]
    },
    {
      "cell_type": "markdown",
      "metadata": {
        "id": "n3qID8yysRA9"
      },
      "source": [
        "# Imports"
      ]
    },
    {
      "cell_type": "code",
      "metadata": {
        "id": "eohqW-ICsRA-"
      },
      "source": [
        "import sys\n",
        "module_path = os.path.abspath(os.path.join('..'))\n",
        "if module_path not in sys.path: sys.path.append(module_path)\n",
        "from settings import ENDPOINT_ARGS\n",
        "from utils.generic import display_JSON\n",
        "\n",
        "if os.environ['notebook_environment'] == \"Jupyter\":\n",
        "    from utils.generic import ensure_packages_are_installed\n",
        "    ensure_packages_are_installed()\n",
        "\n",
        "from exabyte_api_client.endpoints.materials import MaterialEndpoints"
      ],
      "execution_count": null,
      "outputs": []
    },
    {
      "cell_type": "markdown",
      "metadata": {
        "id": "-afD9DmxsRA_"
      },
      "source": [
        "## Create material config\n",
        "\n",
        "Create material config in JSON format. See [Material](https://docs.exabyte.io/api/Material/put_materials_create) endpoint for more information about material config format."
      ]
    },
    {
      "cell_type": "code",
      "metadata": {
        "id": "YrcuQGZSsRA_"
      },
      "source": [
        "CONFIG = {\n",
        "    \"name\": \"TEST MATERIAL\",\n",
        "    \"basis\": {\n",
        "        \"elements\": [\n",
        "            {\n",
        "                \"id\": 1,\n",
        "                \"value\": \"Si\"\n",
        "            },\n",
        "            {\n",
        "                \"id\": 2,\n",
        "                \"value\": \"Si\"\n",
        "            }\n",
        "        ],\n",
        "        \"coordinates\": [\n",
        "            {\n",
        "                \"id\": 1,\n",
        "                \"value\": [\n",
        "                    0,\n",
        "                    0,\n",
        "                    0\n",
        "                ]\n",
        "            },\n",
        "            {\n",
        "                \"id\": 2,\n",
        "                \"value\": [\n",
        "                    0.25,\n",
        "                    0.25,\n",
        "                    0.25\n",
        "                ]\n",
        "            }\n",
        "        ],\n",
        "        \"units\": \"crystal\",\n",
        "        \"name\": \"basis\"\n",
        "    },\n",
        "    \"lattice\": {\n",
        "        \"type\": \"FCC\",\n",
        "        \"a\": 3.867,\n",
        "        \"b\": 3.867,\n",
        "        \"c\": 3.867,\n",
        "        \"alpha\": 60,\n",
        "        \"beta\": 60,\n",
        "        \"gamma\": 60,\n",
        "        \"units\": {\n",
        "            \"length\": \"angstrom\",\n",
        "            \"angle\": \"degree\"\n",
        "        },\n",
        "        \"vectors\": {\n",
        "            \"a\": [\n",
        "                3.867,\n",
        "                0,\n",
        "                0\n",
        "            ],\n",
        "            \"b\": [\n",
        "                1.9335000000000004,\n",
        "                3.348920236434424,\n",
        "                0\n",
        "            ],\n",
        "            \"c\": [\n",
        "                1.9335000000000004,\n",
        "                1.1163067454781415,\n",
        "                3.1573922784475164\n",
        "            ],\n",
        "            \"name\": \"lattice vectors\",\n",
        "            \"alat\": 1,\n",
        "            \"units\": \"angstrom\"\n",
        "        }\n",
        "    },\n",
        "    \"tags\": [\n",
        "        \"REST API\"\n",
        "    ]\n",
        "}"
      ],
      "execution_count": null,
      "outputs": []
    },
    {
      "cell_type": "markdown",
      "metadata": {
        "id": "1S914EcCsRBA"
      },
      "source": [
        "## Create material\n",
        "\n",
        "Initialize `MaterialEndpoints` class and call `create` function to create material."
      ]
    },
    {
      "cell_type": "code",
      "metadata": {
        "id": "sEr2jm5wsRBA"
      },
      "source": [
        "endpoint = MaterialEndpoints(*ENDPOINT_ARGS)\n",
        "material = endpoint.create(CONFIG)"
      ],
      "execution_count": null,
      "outputs": []
    },
    {
      "cell_type": "markdown",
      "metadata": {
        "id": "Lr8AYzECsRBA"
      },
      "source": [
        "## Print new material"
      ]
    },
    {
      "cell_type": "code",
      "metadata": {
        "id": "NGMxmSLUsRBB",
        "outputId": "0f8e0efa-e94b-4292-968c-a6252658c14a"
      },
      "source": [
        "display_JSON(material)"
      ],
      "execution_count": null,
      "outputs": [
        {
          "output_type": "stream",
          "text": [
            "{\n",
            "    \"_id\": \"g7kuhCvfnhAsdXtGy\",\n",
            "    \"name\": \"TEST MATERIAL\",\n",
            "    \"basis\": {\n",
            "        \"elements\": [\n",
            "            {\n",
            "                \"id\": 0,\n",
            "                \"value\": \"Si\"\n",
            "            },\n",
            "            {\n",
            "                \"id\": 1,\n",
            "                \"value\": \"Si\"\n",
            "            }\n",
            "        ],\n",
            "        \"coordinates\": [\n",
            "            {\n",
            "                \"id\": 0,\n",
            "                \"value\": [\n",
            "                    0,\n",
            "                    0,\n",
            "                    0\n",
            "                ]\n",
            "            },\n",
            "            {\n",
            "                \"id\": 1,\n",
            "                \"value\": [\n",
            "                    0.25,\n",
            "                    0.25,\n",
            "                    0.25\n",
            "                ]\n",
            "            }\n",
            "        ],\n",
            "        \"units\": \"crystal\",\n",
            "        \"cell\": [\n",
            "            [\n",
            "                1,\n",
            "                0,\n",
            "                6.123233995736766e-17\n",
            "            ],\n",
            "            [\n",
            "                1.6081226496766366e-16,\n",
            "                1,\n",
            "                6.123233995736766e-17\n",
            "            ],\n",
            "            [\n",
            "                0,\n",
            "                0,\n",
            "                1\n",
            "            ]\n",
            "        ]\n",
            "    },\n",
            "    \"lattice\": {\n",
            "        \"a\": 3.867,\n",
            "        \"b\": 3.867,\n",
            "        \"c\": 3.867,\n",
            "        \"alpha\": 60,\n",
            "        \"beta\": 60,\n",
            "        \"gamma\": 59.99999,\n",
            "        \"units\": {\n",
            "            \"length\": \"angstrom\",\n",
            "            \"angle\": \"degree\"\n",
            "        },\n",
            "        \"type\": \"FCC\",\n",
            "        \"vectors\": {\n",
            "            \"a\": [\n",
            "                3.34892,\n",
            "                0,\n",
            "                1.9335\n",
            "            ],\n",
            "            \"b\": [\n",
            "                1.116307,\n",
            "                3.157392,\n",
            "                1.9335\n",
            "            ],\n",
            "            \"c\": [\n",
            "                0,\n",
            "                0,\n",
            "                3.867\n",
            "            ],\n",
            "            \"alat\": 1,\n",
            "            \"units\": \"angstrom\"\n",
            "        }\n",
            "    },\n",
            "    \"tags\": [\n",
            "        \"REST API\"\n",
            "    ],\n",
            "    \"owner\": {\n",
            "        \"_id\": \"HnTMM74xxPnTMFcm3\",\n",
            "        \"slug\": \"bsmith\",\n",
            "        \"cls\": \"Account\"\n",
            "    },\n",
            "    \"creator\": {\n",
            "        \"_id\": \"acky7GjD9aownD6iJ\",\n",
            "        \"slug\": \"bsmith\",\n",
            "        \"cls\": \"User\"\n",
            "    },\n",
            "    \"hash\": \"a665723ef7429caef6ca89385fe25bae\",\n",
            "    \"formula\": \"Si\",\n",
            "    \"unitCellFormula\": \"Si2\",\n",
            "    \"derivedProperties\": [\n",
            "        {\n",
            "            \"name\": \"volume\",\n",
            "            \"units\": \"angstrom^3\",\n",
            "            \"value\": 40.88909038874689\n",
            "        },\n",
            "        {\n",
            "            \"name\": \"density\",\n",
            "            \"units\": \"g/cm^3\",\n",
            "            \"value\": 2.281149788933887\n",
            "        },\n",
            "        {\n",
            "            \"spaceGroupSymbol\": \"Fd-3m\",\n",
            "            \"tolerance\": {\n",
            "                \"value\": 0.3,\n",
            "                \"units\": \"angstrom\"\n",
            "            },\n",
            "            \"name\": \"symmetry\"\n",
            "        },\n",
            "        {\n",
            "            \"name\": \"elemental_ratio\",\n",
            "            \"value\": 1,\n",
            "            \"element\": \"Si\"\n",
            "        },\n",
            "        {\n",
            "            \"name\": \"p-norm\",\n",
            "            \"value\": 1,\n",
            "            \"degree\": 0\n",
            "        },\n",
            "        {\n",
            "            \"name\": \"p-norm\",\n",
            "            \"value\": 1,\n",
            "            \"degree\": 2\n",
            "        },\n",
            "        {\n",
            "            \"name\": \"p-norm\",\n",
            "            \"value\": 1,\n",
            "            \"degree\": 3\n",
            "        },\n",
            "        {\n",
            "            \"name\": \"p-norm\",\n",
            "            \"value\": 1,\n",
            "            \"degree\": 5\n",
            "        },\n",
            "        {\n",
            "            \"name\": \"p-norm\",\n",
            "            \"value\": 1,\n",
            "            \"degree\": 7\n",
            "        },\n",
            "        {\n",
            "            \"name\": \"p-norm\",\n",
            "            \"value\": 1,\n",
            "            \"degree\": 10\n",
            "        }\n",
            "    ],\n",
            "    \"schemaVersion\": \"0.2.0\",\n",
            "    \"exabyteId\": \"tSohSgyQHg5sakYho\",\n",
            "    \"inSet\": [\n",
            "        {\n",
            "            \"_id\": \"nQtFH6EKKxYJFY98d\",\n",
            "            \"slug\": \"read\",\n",
            "            \"cls\": \"Team\"\n",
            "        },\n",
            "        {\n",
            "            \"_id\": \"3u3HBozhqNSF7x7dD\",\n",
            "            \"slug\": \"admin\",\n",
            "            \"cls\": \"Team\"\n",
            "        },\n",
            "        {\n",
            "            \"_id\": \"Q2KgxfbBTPqpSY4fw\",\n",
            "            \"slug\": \"owner\",\n",
            "            \"cls\": \"Team\"\n",
            "        },\n",
            "        {\n",
            "            \"_id\": \"QBnghAhrZstXct3eZ\",\n",
            "            \"slug\": \"read\",\n",
            "            \"cls\": \"Team\"\n",
            "        },\n",
            "        {\n",
            "            \"_id\": \"vTz2KjNZWRShYYXJR\",\n",
            "            \"slug\": \"comment\",\n",
            "            \"cls\": \"Team\"\n",
            "        },\n",
            "        {\n",
            "            \"_id\": \"3fSoLrHgwEbjuR7NL\",\n",
            "            \"slug\": \"execute\",\n",
            "            \"cls\": \"Team\"\n",
            "        },\n",
            "        {\n",
            "            \"_id\": \"MdDcBrcPRAG62hAmk\",\n",
            "            \"slug\": \"edit\",\n",
            "            \"cls\": \"Team\"\n",
            "        }\n",
            "    ],\n",
            "    \"isDefault\": false,\n",
            "    \"createdAt\": \"2021-06-22T15:08:03.880Z\",\n",
            "    \"isEntitySet\": false,\n",
            "    \"scaledHash\": \"87e416358789a7c435eaaba0344af51d\",\n",
            "    \"updatedAt\": \"2021-06-22T15:08:04.220Z\"\n",
            "}\n"
          ],
          "name": "stdout"
        }
      ]
    },
    {
      "cell_type": "code",
      "metadata": {
        "id": "snyI6w9XnrTK"
      },
      "source": [
        ""
      ],
      "execution_count": null,
      "outputs": []
    }
  ]
}