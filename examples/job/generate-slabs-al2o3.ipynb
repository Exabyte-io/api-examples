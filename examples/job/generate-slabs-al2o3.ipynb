version https://git-lfs.github.com/spec/v1
oid sha256:3d3f0f42b797fe019b9a9705a72eac33f0ee0a82e82d3bd6ac96d594a912b85e
size 35842
