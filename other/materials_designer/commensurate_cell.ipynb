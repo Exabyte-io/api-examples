{
 "cells": [
  {
   "cell_type": "markdown",
   "source": [
    " # Create a Twisted Interface with Commensurate Lattices\n",
    " Use commensurate lattice matching algorithm to create twisted interfaces between two materials.\n",
    " \n",
    " <h2 style=\"color:green\">Usage</h2>\n",
    " 1. Make sure to select Input Materials (in the outer runtime) before running the notebook.\n",
    " 1. Set notebook parameters in cell 1.1. below (or use the default values).\n",
    " 1. Set material parameters for the substrate and film in cell 2.1. (or use default).\n",
    " 1. Set interface parameters in cell 3.1. (or use default).\n",
    " 1. Click \"Run\" > \"Run All\" to run all cells. \n",
    " 1. Wait for the run to complete (depending on the parameters can take a few min). \n",
    " 1. Scroll down to view results. \n",
    " \n",
    " ## Summary\n",
    " 1. Prepare the Environment: Set up the notebook and install packages, preview the input materials\n",
    " 1. Create and visualize the initial materials\n",
    " 1. Generate twisted interfaces with commensurate lattice matching\n",
    " 1. Select the interface with the desired twist angle and visualize it\n",
    " \n",
    " ## Notes\n",
    " 1. We perform commensurate lattice matching to find valid supercells that achieve the desired twist angle.\n",
    " 1. When the matching is finished, interfaces with angles close to the target are presented.\n",
    " 1. The algorithm searches for supercell matrices within specified size limits.\n",
    " 1. For more information, see [Introduction](Introduction.ipynb)\n"
   ],
   "metadata": {
    "collapsed": false
   },
   "id": "536d623ca076bbdd"
  },
  {
   "cell_type": "markdown",
   "source": [
    " ## 1. Prepare the Environment\n",
    " ### 1.1. Set up the notebook \n",
    " Set the following flags to control the notebook behavior \n"
   ],
   "metadata": {
    "collapsed": false
   },
   "id": "cc65bd914eecf844"
  },
  {
   "cell_type": "code",
   "outputs": [],
   "source": [
    "# Material selection and basic parameters\n",
    "FILM_INDEX = 1  # Index in the list of materials, to access as materials[FILM_INDEX]\n",
    "SUBSTRATE_INDEX = 1  # Can be None to use same material as film\n",
    "\n",
    "# Twisted interface parameters\n",
    "TARGET_TWIST_ANGLE = 17.5  # in degrees\n",
    "INTERFACE_DISTANCE = 3.0  # in Angstrom\n",
    "INTERFACE_VACUUM = 20.0  # in Angstrom\n",
    "\n",
    "# Search algorithm parameters\n",
    "MAX_REPETITION =6  # Maximum supercell size to search\n",
    "ANGLE_TOLERANCE = 0.5  # in degrees\n",
    "RETURN_FIRST_MATCH = True  # If True, returns first solution within tolerance\n",
    "\n",
    "# Visualization parameters\n",
    "SHOW_INTERMEDIATE_STEPS = True\n",
    "VISUALIZE_REPETITIONS = [3, 3, 1]\n"
   ],
   "metadata": {
    "collapsed": false,
    "ExecuteTime": {
     "end_time": "2024-10-29T22:06:57.289971Z",
     "start_time": "2024-10-29T22:06:57.285251Z"
    }
   },
   "id": "be4987fdf0286ebb",
   "execution_count": 28
  },
  {
   "cell_type": "markdown",
   "source": [
    " ### 1.2. Import required packages\n"
   ],
   "metadata": {
    "collapsed": false
   },
   "id": "5ffda79fd5cad69"
  },
  {
   "cell_type": "code",
   "outputs": [],
   "source": [
    "from mat3ra.made.material import Material\n",
    "from mat3ra.made.tools.build.interface.builders import (\n",
    "    CommensurateLatticeTwistedInterfaceBuilder,\n",
    "    CommensurateLatticeTwistedInterfaceBuilderParameters,\n",
    "    TwistedInterfaceConfiguration,\n",
    ")\n",
    "from mat3ra.made.tools.build.supercell import create_supercell\n",
    "from utils.jupyterlite import get_data\n",
    "from utils.visualize import visualize_materials\n",
    "import plotly.graph_objs as go\n",
    "import numpy as np\n"
   ],
   "metadata": {
    "collapsed": false,
    "ExecuteTime": {
     "end_time": "2024-10-29T22:06:57.297772Z",
     "start_time": "2024-10-29T22:06:57.292940Z"
    }
   },
   "id": "9f851434739f468a",
   "execution_count": 29
  },
  {
   "cell_type": "markdown",
   "source": [
    " ### 1.3. Load and preview input materials\n"
   ],
   "metadata": {
    "collapsed": false
   },
   "id": "111e138010f911c"
  },
  {
   "cell_type": "code",
   "outputs": [
    {
     "name": "stdout",
     "output_type": "stream",
     "text": [
      "0: Data from 0-Ni has been read successfully.\n",
      "1: Data from 1-Graphene has been read successfully.\n",
      "2: Data from 10-Al2O3, Sapphire, RHL (R-3c) 3D (Bulk), mp-1143 (1) has been read successfully.\n",
      "3: Data from 11-ZnO, Zinc Oxide, HEX (P6_3mc) 3D (Bulk), mp-2133 has been read successfully.\n",
      "4: Data from 12-Cd4 Te4 has been read successfully.\n",
      "5: Data from 13-Si4 C4 has been read successfully.\n",
      "6: Data from 14-GaN, Gallium Nitride, HEX (P6_3mc) 3D (Bulk), mp-804 has been read successfully.\n",
      "7: Data from 15-WS2, Tungsten Disulfide, HEX (P-6m2) 2D (Monolayer), 2dm-3749 has been read successfully.\n",
      "8: Data from 16 - In4 P4 has been read successfully.\n",
      "9: Data from 4-Te2Mo has been read successfully.\n",
      "10: Data from 5-HfO2 has been read successfully.\n",
      "11: Data from 6-Ni4(110), termination Ni_Pmmm_2, Slab, Terrace, 1 steps, [2 0 0] has been read successfully.\n",
      "12: Data from 7-Ag4 has been read successfully.\n",
      "13: Data from 8-Si, Silicene, HEX (P-3m1) 2D (Monolayer), 2dm-5934 has been read successfully.\n",
      "14: Data from 9-GaAs, Gallium Arsenide, FCC (F-43m) 3D (Bulk), mp-2534 has been read successfully.\n",
      "15: Data from C1, Vacancy  Defect has been read successfully.\n",
      "16: Data from Cu1 Ni27, Interstitial Cu Defect has been read successfully.\n",
      "17: Data from Ga2N2(001)-C4Si4(111), Interface, Strain 0.082pct has been read successfully.\n",
      "18: Data from Heterostructure_M0_M1_M2 has been read successfully.\n",
      "19: Data from N-doped Graphene has been read successfully.\n",
      "20: Data from N1, Vacancy  Defect has been read successfully.\n",
      "21: Data from N4Ti4(001), termination TiN_P4:mmm_4, Slab has been read successfully.\n",
      "22: Data from Ni26 C1, Substitution C Defect has been read successfully.\n",
      "23: Data from Ni27 C1, Interstitial C Defect has been read successfully.\n",
      "24: Data from Ni4(001), termination Ni_P4:mmm_2, Slab has been read successfully.\n",
      "25: Data from Ni4(111), termination Ni_P6:mmm_4, Slab has been read successfully.\n",
      "26: Data from Ni4(111), termination Ni_R-3m_4, Slab has been read successfully.\n",
      "27: Data from Ni8(001), termination Ni_P6:mmm_2, Slab has been read successfully.\n",
      "28: Data from TiN has been read successfully.\n",
      "29: Data from Twisted Interface has been read successfully.\n"
     ]
    }
   ],
   "source": [
    "# Get the input materials data\n",
    "get_data(\"materials_in\", globals())\n",
    "materials = list(map(Material, globals()[\"materials_in\"]))\n",
    "\n"
   ],
   "metadata": {
    "collapsed": false,
    "ExecuteTime": {
     "end_time": "2024-10-29T22:06:57.382103Z",
     "start_time": "2024-10-29T22:06:57.327560Z"
    }
   },
   "id": "d3a815612098f191",
   "execution_count": 30
  },
  {
   "cell_type": "markdown",
   "source": [
    " ## 2. Prepare Materials\n",
    " ### 2.1. Select and visualize initial materials\n"
   ],
   "metadata": {
    "collapsed": false
   },
   "id": "8a01e2ba7092ecbe"
  },
  {
   "cell_type": "code",
   "outputs": [
    {
     "name": "stdout",
     "output_type": "stream",
     "text": [
      "\n",
      "Selected materials:\n",
      "Film: None\n",
      "Substrate: None\n",
      "\n",
      "Visualizing film:\n"
     ]
    },
    {
     "data": {
      "text/plain": "GridBox(children=(VBox(children=(Label(value='C2 - Material - rotation: 0x,0y,0z', layout=Layout(align_self='c…",
      "application/vnd.jupyter.widget-view+json": {
       "version_major": 2,
       "version_minor": 0,
       "model_id": "3355558367c1413d894bb7cbbb4f0b95"
      }
     },
     "metadata": {},
     "output_type": "display_data"
    }
   ],
   "source": [
    "# Select materials\n",
    "film = materials[FILM_INDEX]\n",
    "substrate = materials[SUBSTRATE_INDEX] if SUBSTRATE_INDEX is not None else film\n",
    "\n",
    "print(\"\\nSelected materials:\")\n",
    "print(f\"Film: {film.formula}\")\n",
    "print(f\"Substrate: {substrate.formula}\")\n",
    "\n",
    "if SHOW_INTERMEDIATE_STEPS:\n",
    "    print(\"\\nVisualizing film:\")\n",
    "    visualize_materials(film, repetitions=VISUALIZE_REPETITIONS)\n",
    "    if substrate is not film:\n",
    "        print(\"\\nVisualizing substrate:\")\n",
    "        visualize_materials(substrate, repetitions=VISUALIZE_REPETITIONS)\n"
   ],
   "metadata": {
    "collapsed": false,
    "ExecuteTime": {
     "end_time": "2024-10-29T22:06:57.456163Z",
     "start_time": "2024-10-29T22:06:57.384305Z"
    }
   },
   "id": "c920d29700ada27a",
   "execution_count": 31
  },
  {
   "cell_type": "markdown",
   "source": [
    " ## 3. Generate Twisted Interface\n",
    " ### 3.1. Set up interface configuration and builder\n"
   ],
   "metadata": {
    "collapsed": false
   },
   "id": "ce38ef341148321"
  },
  {
   "cell_type": "code",
   "outputs": [],
   "source": [
    "# Create configuration\n",
    "config = TwistedInterfaceConfiguration(\n",
    "    film=film,\n",
    "    substrate=film,\n",
    "    twist_angle=TARGET_TWIST_ANGLE,\n",
    "    distance_z=INTERFACE_DISTANCE\n",
    ")\n",
    "\n",
    "# Set up builder parameters\n",
    "params = CommensurateLatticeTwistedInterfaceBuilderParameters(\n",
    "    max_repetition_int=MAX_REPETITION,\n",
    "    angle_tolerance=ANGLE_TOLERANCE,\n",
    "    return_first_match=RETURN_FIRST_MATCH\n",
    ")\n",
    "\n",
    "# Create builder\n",
    "builder = CommensurateLatticeTwistedInterfaceBuilder(build_parameters=params)\n"
   ],
   "metadata": {
    "collapsed": false,
    "ExecuteTime": {
     "end_time": "2024-10-29T22:06:57.461949Z",
     "start_time": "2024-10-29T22:06:57.458026Z"
    }
   },
   "id": "d48726a8e99c5590",
   "execution_count": 32
  },
  {
   "cell_type": "markdown",
   "source": [
    "### 3.2. Generate and analyze interfaces\n"
   ],
   "metadata": {
    "collapsed": false
   },
   "id": "211084a2225f5e98"
  },
  {
   "cell_type": "code",
   "outputs": [],
   "source": [
    "# Generate interfaces\n",
    "interfaces = builder.get_materials(config)\n",
    "\n",
    "print(f\"\\nFound {len(interfaces)} possible interface(s)\")\n",
    "for i, interface in enumerate(interfaces):\n",
    "    actual_angle = interface.metadata.get(\"actual_twist_angle\", \"unknown\")\n",
    "    print(f\"\\nInterface {i+1}:\")\n",
    "    print(f\"Actual twist angle: {actual_angle}°\")\n",
    "    print(f\"Number of atoms: {len(interface.basis.elements.ids)}\")\n",
    "\n",
    "# Plot solutions\n",
    "def plot_interface_solutions(interfaces):\n",
    "    data = []\n",
    "    for i, interface in enumerate(interfaces):\n",
    "        angle = interface.metadata.get(\"actual_twist_angle\", 0)\n",
    "        size = len(interface.basis.elements.ids)\n",
    "        \n",
    "        hover_text = (\n",
    "            f\"Interface {i+1}<br>\"\n",
    "            f\"Angle: {angle:.2f}°<br>\"\n",
    "            f\"Atoms: {size}<br>\"\n",
    "        )\n",
    "        \n",
    "        trace = go.Scatter(\n",
    "            x=[angle],\n",
    "            y=[size],\n",
    "            text=[hover_text],\n",
    "            mode=\"markers\",\n",
    "            hoverinfo=\"text\",\n",
    "            name=f\"Interface {i+1}\"\n",
    "        )\n",
    "        data.append(trace)\n",
    "    \n",
    "    layout = go.Layout(\n",
    "        title=\"Twisted Interface Solutions\",\n",
    "        xaxis=dict(title=\"Twist Angle (°)\"),\n",
    "        yaxis=dict(title=\"Number of Atoms\"),\n",
    "        hovermode=\"closest\"\n",
    "    )\n",
    "    \n",
    "    fig = go.Figure(data=data, layout=layout)\n",
    "    fig.show()\n",
    "\n",
    "if len(interfaces) > 0:\n",
    "    plot_interface_solutions(interfaces)\n"
   ],
   "metadata": {
    "collapsed": false,
    "ExecuteTime": {
     "start_time": "2024-10-29T22:07:16.778909Z"
    }
   },
   "id": "51acc60bf57a26d5",
   "execution_count": null
  },
  {
   "cell_type": "markdown",
   "source": [
    "## 4. Select and Visualize Interface\n",
    "### 4.1. Select interface based on criteria\n"
   ],
   "metadata": {
    "collapsed": false
   },
   "id": "370d3acc33cb8907"
  },
  {
   "cell_type": "code",
   "outputs": [],
   "source": [
    "if len(interfaces) == 0:\n",
    "    print(\"No interfaces found! Try adjusting the search parameters.\")\n",
    "else:\n",
    "    # Select interface closest to target angle\n",
    "    angles = [interface.metadata.get(\"actual_twist_angle\", 0) for interface in interfaces]\n",
    "    angle_diffs = [abs(angle - TARGET_TWIST_ANGLE) for angle in angles]\n",
    "    best_index = angle_diffs.index(min(angle_diffs))\n",
    "    \n",
    "    selected_interface = interfaces[best_index]\n",
    "    actual_angle = selected_interface.metadata.get(\"actual_twist_angle\", \"unknown\")\n",
    "    \n",
    "    print(f\"Selected interface {best_index + 1}:\")\n",
    "    print(f\"Target angle: {TARGET_TWIST_ANGLE}°\")\n",
    "    print(f\"Actual angle: {actual_angle}°\")\n",
    "    print(f\"Number of atoms: {len(selected_interface.atoms)}\")\n",
    "    print(f\"Cell volume: {selected_interface.lattice.volume:.2f} Å³\")\n",
    "    \n",
    "    # Visualize the selected interface\n",
    "    visualize_materials(selected_interface, repetitions=[1, 1, 1])\n"
   ],
   "metadata": {
    "collapsed": false
   },
   "id": "8fa34c8952f76602",
   "execution_count": null
  },
  {
   "cell_type": "markdown",
   "source": [
    "### 4.2. Export selected interface\n"
   ],
   "metadata": {
    "collapsed": false
   },
   "id": "87b8655d47b47019"
  },
  {
   "cell_type": "code",
   "outputs": [],
   "source": [
    "if 'selected_interface' in locals():\n",
    "    # Add vacuum if specified\n",
    "    if INTERFACE_VACUUM > 0:\n",
    "        selected_interface.lattice.vector_arrays[2][2] = INTERFACE_VACUUM\n",
    "    \n",
    "    # Export the interface\n",
    "    selected_interface.to_file(\"twisted_interface.json\")\n",
    "    print(\"Interface exported to 'twisted_interface.json'\")\n",
    "    \n",
    "    # Print final statistics\n",
    "    print(f\"\\nFinal interface properties:\")\n",
    "    print(f\"Twist angle: {actual_angle}°\")\n",
    "    print(f\"Cell vectors:\\n{selected_interface.lattice.vector_arrays}\")\n",
    "    print(f\"Number of atoms: {len(selected_interface.atoms)}\")"
   ],
   "metadata": {
    "collapsed": false
   },
   "id": "28bebacd2e299c2c",
   "execution_count": null
  }
 ],
 "metadata": {
  "kernelspec": {
   "display_name": "Python 3",
   "language": "python",
   "name": "python3"
  },
  "language_info": {
   "codemirror_mode": {
    "name": "ipython",
    "version": 2
   },
   "file_extension": ".py",
   "mimetype": "text/x-python",
   "name": "python",
   "nbconvert_exporter": "python",
   "pygments_lexer": "ipython2",
   "version": "2.7.6"
  }
 },
 "nbformat": 4,
 "nbformat_minor": 5
}
