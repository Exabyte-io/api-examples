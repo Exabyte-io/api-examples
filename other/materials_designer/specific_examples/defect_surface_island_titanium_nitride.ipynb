{
 "cells": [
  {
   "cell_type": "markdown",
   "id": "0",
   "metadata": {},
   "source": [
    "# Island Surface Defect Formation on TiN(001) Surface\n",
    "\n",
    "## 0. Introduction\n",
    "\n",
    "This tutorial demonstrates the process of creating a rectangular island defect on a slab. \n",
    "\n",
    "\n",
    "> **D. G. Sangiovanni, A. B. Mei, D. Edström, L. Hultman, V. Chirita, I. Petrov, and J. E. Greene**, \"Effects of surface vibrations on interlayer mass transport: Ab initio molecular dynamics investigation of Ti adatom descent pathways and rates from TiN/TiN(001) islands\", Physical Review B, 2018. [DOI: 10.1103/PhysRevB.97.035406](https://journals.aps.org/prb/abstract/10.1103/PhysRevB.97.035406).\n",
    "> \n",
    "\n",
    "![Fig 2.](https://github.com/Exabyte-io/documentation/raw/12617167278ae3523adc028583b21ea4e8ebd197/images/tutorials/materials/defects/defect-creation-surface-island-titanium-nitride/0.png)\n",
    "\n",
    "In this notebook we will reproduce material from FIG. 2 a)\n"
   ]
  },
  {
   "cell_type": "markdown",
   "id": "1",
   "metadata": {},
   "source": [
    "## 1. Prepare the Environment\n",
    "### 1.1. Set up defects parameters \n",
    "\n"
   ]
  },
  {
   "cell_type": "code",
   "execution_count": null,
   "id": "2",
   "metadata": {},
   "outputs": [],
   "source": [
    "NUMBER_OF_ADDED_LAYERS = 0.5\n",
    "\n",
    "SHAPE_PARAMETERS = {\n",
    "    'shape': 'box',\n",
    "    'min_coordinate': [0.25, 0.2, 0],\n",
    "    'max_coordinate': [0.65, 0.6, 1]\n",
    "}\n",
    "\n",
    "SLAB_PARAMETERS = {\n",
    "    \"miller_indices\": (0, 0, 1),\n",
    "    \"thickness\": 3,\n",
    "    \"vacuum\": 10.0,\n",
    "    \"USE_ORTHOGONAL_C\": True,\n",
    "    \"xy_supercell_matrix\": [[10, 0], [0, 10]]\n",
    "}"
   ]
  },
  {
   "cell_type": "markdown",
   "id": "3",
   "metadata": {},
   "source": [
    "### 1.2. Install Packages\n",
    "The step executes only in Pyodide environment. For other environments, the packages should be installed via `pip install` (see [README](../../README.ipynb))."
   ]
  },
  {
   "cell_type": "code",
   "execution_count": null,
   "id": "4",
   "metadata": {},
   "outputs": [],
   "source": [
    "import sys\n",
    "\n",
    "if sys.platform == \"emscripten\":\n",
    "    import micropip\n",
    "\n",
    "    await micropip.install(\n",
    "        \"mat3ra-api-examples\", deps=False)\n",
    "    await micropip.install('mat3ra-utils')\n",
    "    from mat3ra.utils.jupyterlite.packages import install_packages\n",
    "\n",
    "    await install_packages(\"specific_examples\")"
   ]
  },
  {
   "cell_type": "markdown",
   "id": "5",
   "metadata": {},
   "source": [
    "### 1.3. Get input material\n",
    "In this notebook we will use materials from Standata."
   ]
  },
  {
   "cell_type": "code",
   "execution_count": null,
   "id": "6",
   "metadata": {},
   "outputs": [],
   "source": [
    "from mat3ra.made.material import Material\n",
    "from mat3ra.standata.materials import Materials\n",
    "\n",
    "material = Material.create(Materials.get_by_name_first_match(\"TiN\"))"
   ]
  },
  {
   "cell_type": "markdown",
   "id": "7",
   "metadata": {},
   "source": [
    "### 1.4. Preview Slab or create a new one"
   ]
  },
  {
   "cell_type": "code",
   "execution_count": null,
   "id": "8",
   "metadata": {},
   "outputs": [],
   "source": [
    "from mat3ra.made.tools.helpers import create_slab\n",
    "from utils.visualize import visualize_materials\n",
    "\n",
    "slab = create_slab(\n",
    "    crystal=material,\n",
    "    termination_top=None,  # Use default termination\n",
    "    miller_indices=SLAB_PARAMETERS[\"miller_indices\"],\n",
    "    number_of_layers=SLAB_PARAMETERS[\"thickness\"],\n",
    "    vacuum=SLAB_PARAMETERS[\"vacuum\"],\n",
    "    use_orthogonal_c=SLAB_PARAMETERS[\"USE_ORTHOGONAL_C\"],\n",
    "    xy_supercell_matrix=SLAB_PARAMETERS[\"xy_supercell_matrix\"]\n",
    ")\n",
    "\n",
    "visualize_materials(slab)"
   ]
  },
  {
   "cell_type": "markdown",
   "id": "9",
   "metadata": {},
   "source": [
    "## 2. Create the Target Material"
   ]
  },
  {
   "cell_type": "code",
   "execution_count": null,
   "id": "10",
   "metadata": {},
   "outputs": [],
   "source": [
    "from mat3ra.made.tools.entities.coordinate import BoxCoordinateCondition\n",
    "from mat3ra.made.tools.helpers import create_island\n",
    "\n",
    "coordinate_condition = BoxCoordinateCondition(\n",
    "    min_coordinate=SHAPE_PARAMETERS['min_coordinate'],\n",
    "    max_coordinate=SHAPE_PARAMETERS['max_coordinate']\n",
    ")\n",
    "\n",
    "slab_with_island = create_island(\n",
    "    slab=slab,\n",
    "    condition=coordinate_condition,\n",
    "    number_of_added_layers=NUMBER_OF_ADDED_LAYERS,\n",
    "    use_cartesian_coordinates=False,\n",
    ")"
   ]
  },
  {
   "cell_type": "markdown",
   "id": "11",
   "metadata": {},
   "source": [
    "## 3. Visualize the Result(s)"
   ]
  },
  {
   "cell_type": "code",
   "execution_count": null,
   "id": "12",
   "metadata": {},
   "outputs": [],
   "source": [
    "visualize_materials([{\"material\": slab, \"title\": \"Original material\", \"rotation\": \"-45x\"},\n",
    "                     {\"material\": slab_with_island,\n",
    "                      \"title\": f\"Material with Island Defect ({SHAPE_PARAMETERS['shape']})\",\"rotation\": \"-45x\"}],\n",
    "                    # viewer=\"wave\"\n",
    "                    )"
   ]
  },
  {
   "cell_type": "markdown",
   "id": "13",
   "metadata": {},
   "source": [
    "## 4. Pass data to the outside runtime"
   ]
  },
  {
   "cell_type": "code",
   "execution_count": null,
   "id": "14",
   "metadata": {},
   "outputs": [],
   "source": [
    "from utils.jupyterlite import download_content_to_file, set_materials\n",
    "\n",
    "set_materials(slab_with_island)\n",
    "download_content_to_file(slab_with_island.to_json(), \"TiN_slab_with_island.json\")"
   ]
  }
 ],
 "metadata": {
  "kernelspec": {
   "display_name": "Python 3",
   "language": "python",
   "name": "python3"
  },
  "language_info": {
   "codemirror_mode": {
    "name": "ipython",
    "version": 2
   },
   "file_extension": ".py",
   "mimetype": "text/x-python",
   "name": "python",
   "nbconvert_exporter": "python",
   "pygments_lexer": "ipython2",
   "version": "2.7.6"
  }
 },
 "nbformat": 4,
 "nbformat_minor": 5
}
