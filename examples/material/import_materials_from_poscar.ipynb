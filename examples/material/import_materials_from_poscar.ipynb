version https://git-lfs.github.com/spec/v1
oid sha256:08346fe66f8a5b91c9c0be1a4eda6be71d2f3e6f1ddb563ec1f5e62b39b8e27e
size 11714
