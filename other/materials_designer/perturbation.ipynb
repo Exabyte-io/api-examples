{
 "cells": [
  {
   "cell_type": "code",
   "outputs": [],
   "source": [
    "from utils.jupyterlite import get_data\n",
    "from mat3ra.made.material import Material\n",
    "\n",
    "get_data(\"materials\", globals())\n",
    "materials = list(map(Material, globals()[\"materials\"]))\n",
    "clean_material = materials[1]"
   ],
   "metadata": {
    "collapsed": false
   },
   "id": "f52fb83e14d7705",
   "execution_count": null
  },
  {
   "cell_type": "code",
   "execution_count": null,
   "id": "initial_id",
   "metadata": {
    "collapsed": true
   },
   "outputs": [],
   "source": [
    "from mat3ra.made.tools.modify import translate_to_z_level\n",
    "from mat3ra.made.tools.build.slab import SlabConfiguration, get_terminations, create_slab\n",
    "\n",
    "from utils.visualize import visualize_materials\n",
    "\n",
    "# clean_material = Material.create(Material.default_config)\n",
    "\n",
    "clean_material = clean_material\n",
    "slab_config = SlabConfiguration(\n",
    "    bulk=clean_material,\n",
    "    miller_indices=(0, 0, 1),\n",
    "    thickness=1,\n",
    "    vacuum=1,\n",
    "    xy_supercell_matrix=[[50, 0], [0, 50]],\n",
    "    use_orthogonal_z=True,\n",
    ")\n",
    "t = get_terminations(slab_config)[0]\n",
    "slab = create_slab(slab_config, t)\n",
    "slab = translate_to_z_level(slab, \"center\")\n",
    "\n",
    "visualize_materials([{\"material\":slab, \"title\":\"slab\", \"rotation\":\"-90x\"}, {\"material\":slab, \"title\":\"slab\"}], repetitions=[1, 1, 1])"
   ]
  },
  {
   "cell_type": "code",
   "outputs": [],
   "source": [
    "from utils.jupyterlite import set_data\n",
    "import numpy as np\n",
    "from mat3ra.made.tools.build.deformation.builders import DeformationBuilder\n",
    "from mat3ra.made.tools.build.deformation.configuration import DeformationConfiguration\n",
    "from mat3ra.made.tools.utils import DeformationFunctionBuilder\n",
    "\n",
    "\n",
    "sine_perturbation_config = DeformationConfiguration(\n",
    "    slab=slab,\n",
    "    deformation_function=DeformationFunctionBuilder().sine_wave_radial(amplitude=0.1, wavelength=0.5)\n",
    ")\n",
    "rectangular_perturbation_config = DeformationConfiguration(\n",
    "    slab=slab,\n",
    "    deformation_function=DeformationFunctionBuilder().rectangular_trench(trench_width=0.2, trench_depth=0.2, center_position=[0.5,0.5])\n",
    ")\n",
    "builder = DeformationBuilder()\n",
    "material = builder.get_material(rectangular_perturbation_config) \n",
    "visualize_materials([{\"material\":material, \"title\":\"perturbed slab\", \"rotation\":\"-90x\"}, {\"material\":material, \"title\":\"perturbed slab\", \"rotation\":\"-90x,90y\"}, {\"material\":material, \"title\":\"perturbed slab\"}], repetitions=[1, 1, 1])\n",
    "\n",
    "set_data(\"materials\", [material.to_json()])\n",
    "# material.metadata"
   ],
   "metadata": {
    "collapsed": false
   },
   "id": "4cb32fef0b9fad88",
   "execution_count": null
  },
  {
   "cell_type": "code",
   "outputs": [],
   "source": [
    "from utils.jupyterlite import set_data\n",
    "import numpy as np\n",
    "from mat3ra.made.tools.build.deformation.builders import ContinuousDeformationBuilder\n",
    "from mat3ra.made.tools.build.deformation.configuration import DeformationConfiguration\n",
    "from mat3ra.made.tools.utils import DeformationFunctionBuilder\n",
    "\n",
    "\n",
    "perturbation_config = DeformationConfiguration(\n",
    "    slab=slab,\n",
    "    deformation_function=DeformationFunctionBuilder().sine_wave(amplitude=5, wavelength=2.47*50/4)\n",
    ")\n",
    "builder = ContinuousDeformationBuilder()\n",
    "material = builder.get_material(perturbation_config) \n",
    "visualize_materials([{\"material\":material, \"title\":\"perturbed slab\", \"rotation\":\"-90x\"}, {\"material\":material, \"title\":\"perturbed slab\", \"rotation\":\"-90x,90y\"}, {\"material\":material, \"title\":\"perturbed slab\"}], repetitions=[1, 1, 1])\n",
    "\n",
    "set_data(\"materials\", [material.to_json()])\n",
    "material.metadata"
   ],
   "metadata": {
    "collapsed": false
   },
   "id": "ac2b86fe7b06d942",
   "execution_count": null
  },
  {
   "cell_type": "code",
   "outputs": [],
   "source": [
    "import numpy as np\n",
    "import matplotlib.pyplot as plt\n",
    "from mpl_toolkits.mplot3d import Axes3D\n",
    "\n",
    "# Create a 2D grid\n",
    "x = np.linspace(0, 10, 100)\n",
    "y = np.linspace(0, 10, 100)\n",
    "x, y = np.meshgrid(x, y)\n",
    "\n",
    "# Create a flat plane (z = 0 for all points)\n",
    "z = np.zeros_like(x)\n",
    "\n",
    "# Define the coordinates of the two dots\n",
    "dots_x = [2, 4]\n",
    "dots_y = [5, 5]\n",
    "dots_z = [0, 0]\n",
    "\n",
    "# Calculate the Euclidean distance between the two dots\n",
    "distance = np.sqrt((dots_x[1] - dots_x[0])**2 + (dots_y[1] - dots_y[0])**2)\n",
    "\n",
    "# Plot the flat plane in 3D space\n",
    "fig = plt.figure(figsize=(10, 7))\n",
    "ax = fig.add_subplot(111, projection='3d')\n",
    "ax.plot_surface(x, y, z, cmap='viridis', alpha=0.6)\n",
    "\n",
    "# Plot the two dots\n",
    "ax.scatter(dots_x, dots_y, dots_z, color='red', s=100)\n",
    "\n",
    "# Plot a line connecting the two dots\n",
    "ax.plot(dots_x, dots_y, dots_z, color='red', linestyle='--')\n",
    "\n",
    "# Display the distance on the plot\n",
    "ax.text((dots_x[0] + dots_x[1]) / 2, (dots_y[0] + dots_y[1]) / 2, 0.1, f'Distance: {distance:.2f}', color='red')\n",
    "\n",
    "ax.set_title('Flat 2D Plane in 3D Space with Two Dots')\n",
    "ax.set_xlabel('X')\n",
    "ax.set_ylabel('Y')\n",
    "ax.set_zlabel('Z')\n",
    "\n",
    "plt.show()\n"
   ],
   "metadata": {
    "collapsed": false
   },
   "id": "cd8b83a4a6d8a524",
   "execution_count": null
  },
  {
   "cell_type": "code",
   "outputs": [],
   "source": [],
   "metadata": {
    "collapsed": false
   },
   "id": "f5da23d121c4976",
   "execution_count": null
  }
 ],
 "metadata": {
  "kernelspec": {
   "display_name": "Python 3",
   "language": "python",
   "name": "python3"
  },
  "language_info": {
   "codemirror_mode": {
    "name": "ipython",
    "version": 2
   },
   "file_extension": ".py",
   "mimetype": "text/x-python",
   "name": "python",
   "nbconvert_exporter": "python",
   "pygments_lexer": "ipython2",
   "version": "2.7.6"
  }
 },
 "nbformat": 4,
 "nbformat_minor": 5
}
