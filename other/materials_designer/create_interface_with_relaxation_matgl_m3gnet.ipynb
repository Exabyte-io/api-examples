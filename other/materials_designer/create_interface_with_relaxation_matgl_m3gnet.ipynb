{
  "cells": [
    {
      "cell_type": "markdown",
      "metadata": {},
      "source": [
        "# Create an interface between two materials with minimal strain\n",
        "\n",
        "Use Zur and McGill superlattices matching [algorithm](https://doi.org/10.1063/1.3330840) to create interfaces between two materials using the Pymatgen [implementation](https://pymatgen.org/pymatgen.analysis.interfaces.html#pymatgen.analysis.interfaces.zsl).\n",
        "\n",
        "<h2 style=\"color:green\">Usage</h2>\n",
        "\n",
        "0. Make sure to select Input Materials\n",
        "1. Execute \"Run first: ...\" cell below to load Input Materials into the current kernel\n",
        "2. Set Input Parameters (e.g. `MILLER_INDICES`, `THICKNESS`, `MAX_AREA`) below or use the default values\n",
        "3. Click \"Run\" > \"Run All\" to run all cells\n",
        "4. Wait for the run to complete (depending on the area, it can take 1-2 min or more). Scroll down to view cell results.\n",
        "5. Review the strain plot and modify its parameters as needed\n",
        "\n",
        "## Methodology\n",
        "\n",
        "The following happens in the script below:\n",
        "\n",
        "1. Create slabs for each input material. The materials data is passed in from and back to the web application according to this description (TBA).\n",
        "   We assume that two input materials are either in bulk form (e.g. Ni crystal) or layered (e.g. graphene). \n",
        "   \n",
        "   We construct the interface along the Z-axis. The material corresponding to the bottom of the interface is referred to as the \"**substrate**\", and the top - as the \"**layer**\". \n",
        "\n",
        "2. Perform strain matching on the slabs to extract the supercell dimensions. The algorithm has a set of parameters, such as the maximum area considered, that can be configured by editing the cells below.\n",
        "\n",
        "3. When the strain matching is finished, the interface with the lowest strain (and the smallest number of atoms) is selected. We create the corresponding supercells and place them at a specified distance from each other (note no shift is performed currently).\n"
      ]
    },
    {
      "cell_type": "markdown",
      "metadata": {},
      "source": [
        "<h2 style=\"color:red\">Run first: load input materials in current kernel</h2>\n"
      ]
    },
    {
      "cell_type": "code",
      "execution_count": 1,
      "metadata": {},
      "outputs": [],
      "source": [
        "# %pip install mat3ra-standata\n",
        "from mat3ra.standata.materials import materials_data\n",
        "\n",
        "materials_jsons = list(materials_data[\"filesMapByName\"].values())\n"
      ]
    },
    {
      "cell_type": "code",
      "execution_count": 2,
      "metadata": {},
      "outputs": [
        {
          "data": {
            "text/plain": [
              "{'basis': {'elements': [{'id': 0, 'value': 'Si'}, {'id': 1, 'value': 'Si'}],\n",
              "  'coordinates': [{'id': 0, 'value': [0, 0, 0]},\n",
              "   {'id': 1, 'value': [0.25, 0.25, 0.25]}]},\n",
              " 'lattice': {'a': 3.867,\n",
              "  'b': 3.867,\n",
              "  'c': 3.867,\n",
              "  'alpha': 60,\n",
              "  'beta': 60,\n",
              "  'gamma': 60,\n",
              "  'type': 'TRI',\n",
              "  'units': {'length': 'angstrom', 'angle': 'degree'}},\n",
              " 'name': 'Si (mp-149)',\n",
              " 'isNonPeriodic': False,\n",
              " 'external': {'id': 'mp-149',\n",
              "  'source': 'materials project',\n",
              "  'doi': '10.17188/1190959',\n",
              "  'url': 'https://next-gen.materialsproject.org/materials/mp-149/',\n",
              "  'origin': True}}"
            ]
          },
          "execution_count": 2,
          "metadata": {},
          "output_type": "execute_result"
        }
      ],
      "source": [
        "import re\n",
        "\n",
        "# Search for materials with regex\n",
        "pattern = r\"(Si|WS2)\"\n",
        "materials_in = [item for item in materials_jsons if re.search(pattern, item['name'])]\n",
        "materials_in[0]\n"
      ]
    },
    {
      "cell_type": "markdown",
      "metadata": {},
      "source": [
        "## 1. Set Input Parameters\n",
        "\n",
        "### 1.1. Select Substrate and Layer from Input Materials"
      ]
    },
    {
      "cell_type": "code",
      "execution_count": 3,
      "metadata": {},
      "outputs": [],
      "source": [
        "SUBSTRATE_PARAMETERS = {\n",
        "    \"MATERIAL_INDEX\": 0,  # the index of the material in the materials_in list\n",
        "    \"MILLER_INDICES\": (1, 1, 1),  # the miller indices of the interfacial plane\n",
        "    \"THICKNESS\": 3,  # in layers\n",
        "}\n",
        "\n",
        "LAYER_PARAMETERS = {\n",
        "    \"MATERIAL_INDEX\": 1, # the index of the material in the materials_in list\n",
        "    \"MILLER_INDICES\": (0, 0, 1),  # the miller indices of the interfacial plane\n",
        "    \"THICKNESS\": 1,  # in layers\n",
        "}"
      ]
    },
    {
      "cell_type": "markdown",
      "metadata": {},
      "source": [
        "### 1.2. Set Interface Parameters\n",
        "\n",
        "The distance between layer and substrate and maximum area to consider when matching.\n"
      ]
    },
    {
      "cell_type": "code",
      "execution_count": 4,
      "metadata": {},
      "outputs": [],
      "source": [
        "INTERFACE_PARAMETERS = {\n",
        "    \"DISTANCE_Z\": 3.0, # in Angstroms\n",
        "    \"MAX_AREA\": 200, # in Angstroms^2\n",
        "}"
      ]
    },
    {
      "cell_type": "markdown",
      "metadata": {},
      "source": [
        "### 1.3. Set Algorithm Parameters"
      ]
    },
    {
      "cell_type": "code",
      "execution_count": 5,
      "metadata": {},
      "outputs": [],
      "source": [
        "ZSL_PARAMETERS = {\n",
        "    \"MAX_AREA\": INTERFACE_PARAMETERS[\"MAX_AREA\"],  # The area to consider in Angstrom^2\n",
        "    \"MAX_AREA_TOL\": 0.09,  # The area within this tolerance is considered equal\n",
        "    \"MAX_LENGTH_TOL\": 0.03,  # supercell lattice vectors lengths within this tolerance are considered equal\n",
        "    \"MAX_ANGLE_TOL\": 0.01,  # supercell lattice angles within this tolerance are considered equal\n",
        "    \"STRAIN_TOL\": 10e-6,  # strains within this tolerance are considered equal\n",
        "}"
      ]
    },
    {
      "cell_type": "markdown",
      "metadata": {},
      "source": [
        "## 2. Install Packages"
      ]
    },
    {
      "cell_type": "code",
      "execution_count": 6,
      "metadata": {},
      "outputs": [],
      "source": [
        "# !python --version\n",
        "# !pip list\n",
        "#!pip install pymatgen==2024.2.8 ase==3.22.1 nbformat==5.9.2 ipykernel==6.29.2 matgl==0.9.2 nglview==3.1.1"
      ]
    },
    {
      "cell_type": "markdown",
      "metadata": {},
      "source": [
        "## 3. Create interfaces\n",
        "\n",
        "### 3.1. Extract Interfaces and Terminations\n",
        "\n",
        "Extract all possible layer/substrate supercell combinations within the maximum area including different terminations."
      ]
    },
    {
      "cell_type": "code",
      "execution_count": 7,
      "metadata": {
        "tags": [],
        "trusted": true
      },
      "outputs": [
        {
          "name": "stdout",
          "output_type": "stream",
          "text": [
            "Full Formula (Si2)\n",
            "Reduced Formula: Si\n",
            "abc   :   3.867000   3.867000   3.867000\n",
            "angles:  60.000000  60.000000  60.000000\n",
            "pbc   :       True       True       True\n",
            "Sites (2)\n",
            "  #  SP       a     b     c\n",
            "---  ----  ----  ----  ----\n",
            "  0  Si    0     0     0\n",
            "  1  Si    0.25  0.25  0.25 \n",
            "\n",
            "Full Formula (W1 S2)\n",
            "Reduced Formula: WS2\n",
            "abc   :   3.184222   3.184222  12.978280\n",
            "angles:  90.000000  90.000000 120.000000\n",
            "pbc   :       True       True       True\n",
            "Sites (3)\n",
            "  #  SP           a         b         c\n",
            "---  ----  --------  --------  --------\n",
            "  0  W     0.333333  0.666667  0.120195\n",
            "  1  S     0         0         0\n",
            "  2  S     0         0         0.24039 \n",
            "\n",
            "Creating interfaces...\n"
          ]
        },
        {
          "name": "stderr",
          "output_type": "stream",
          "text": [
            "spglib: Too many lattice symmetries was found.\n",
            "        Reduce angle tolerance to 4.750000\n",
            "        (line 1015, /Users/runner/work/spglib/spglib/src/symmetry.c).\n",
            "spglib: Too many lattice symmetries was found.\n",
            "        Reduce angle tolerance to 4.512500\n",
            "        (line 1015, /Users/runner/work/spglib/spglib/src/symmetry.c).\n",
            "spglib: Too many lattice symmetries was found.\n",
            "        Reduce angle tolerance to 4.286875\n",
            "        (line 1015, /Users/runner/work/spglib/spglib/src/symmetry.c).\n",
            "spglib: Too many lattice symmetries was found.\n",
            "        Reduce angle tolerance to 4.072531\n",
            "        (line 1015, /Users/runner/work/spglib/spglib/src/symmetry.c).\n",
            "spglib: Too many lattice symmetries was found.\n",
            "        Reduce angle tolerance to 3.868905\n",
            "        (line 1015, /Users/runner/work/spglib/spglib/src/symmetry.c).\n",
            "spglib: Too many lattice symmetries was found.\n",
            "        Reduce angle tolerance to 3.675459\n",
            "        (line 1015, /Users/runner/work/spglib/spglib/src/symmetry.c).\n",
            "spglib: Too many lattice symmetries was found.\n",
            "        Reduce angle tolerance to 3.491686\n",
            "        (line 1015, /Users/runner/work/spglib/spglib/src/symmetry.c).\n",
            "spglib: Too many lattice symmetries was found.\n",
            "        Reduce angle tolerance to 3.317102\n",
            "        (line 1015, /Users/runner/work/spglib/spglib/src/symmetry.c).\n",
            "spglib: Too many lattice symmetries was found.\n",
            "        Reduce angle tolerance to 3.151247\n",
            "        (line 1015, /Users/runner/work/spglib/spglib/src/symmetry.c).\n",
            "spglib: Too many lattice symmetries was found.\n",
            "        Reduce angle tolerance to 2.993685\n",
            "        (line 1015, /Users/runner/work/spglib/spglib/src/symmetry.c).\n",
            "spglib: Too many lattice symmetries was found.\n",
            "        Reduce angle tolerance to 2.844000\n",
            "        (line 1015, /Users/runner/work/spglib/spglib/src/symmetry.c).\n",
            "spglib: Too many lattice symmetries was found.\n",
            "        Reduce angle tolerance to 2.701800\n",
            "        (line 1015, /Users/runner/work/spglib/spglib/src/symmetry.c).\n",
            "spglib: Too many lattice symmetries was found.\n",
            "        Reduce angle tolerance to 2.566710\n",
            "        (line 1015, /Users/runner/work/spglib/spglib/src/symmetry.c).\n",
            "spglib: Too many lattice symmetries was found.\n",
            "        Reduce angle tolerance to 2.438375\n",
            "        (line 1015, /Users/runner/work/spglib/spglib/src/symmetry.c).\n",
            "spglib: Too many lattice symmetries was found.\n",
            "        Reduce angle tolerance to 2.316456\n",
            "        (line 1015, /Users/runner/work/spglib/spglib/src/symmetry.c).\n",
            "spglib: Too many lattice symmetries was found.\n",
            "        Reduce angle tolerance to 2.200633\n",
            "        (line 1015, /Users/runner/work/spglib/spglib/src/symmetry.c).\n",
            "spglib: Too many lattice symmetries was found.\n",
            "        Reduce angle tolerance to 2.090602\n",
            "        (line 1015, /Users/runner/work/spglib/spglib/src/symmetry.c).\n",
            "spglib: Too many lattice symmetries was found.\n",
            "        Reduce angle tolerance to 1.986072\n",
            "        (line 1015, /Users/runner/work/spglib/spglib/src/symmetry.c).\n",
            "spglib: Too many lattice symmetries was found.\n",
            "        Reduce angle tolerance to 1.886768\n",
            "        (line 1015, /Users/runner/work/spglib/spglib/src/symmetry.c).\n",
            "spglib: Too many lattice symmetries was found.\n",
            "        Reduce angle tolerance to 1.792430\n",
            "        (line 1015, /Users/runner/work/spglib/spglib/src/symmetry.c).\n",
            "spglib: Too many lattice symmetries was found.\n",
            "        Reduce angle tolerance to 1.702808\n",
            "        (line 1015, /Users/runner/work/spglib/spglib/src/symmetry.c).\n",
            "spglib: Too many lattice symmetries was found.\n",
            "        Reduce angle tolerance to 4.750000\n",
            "        (line 1015, /Users/runner/work/spglib/spglib/src/symmetry.c).\n",
            "spglib: Too many lattice symmetries was found.\n",
            "        Reduce angle tolerance to 4.512500\n",
            "        (line 1015, /Users/runner/work/spglib/spglib/src/symmetry.c).\n",
            "spglib: Too many lattice symmetries was found.\n",
            "        Reduce angle tolerance to 4.286875\n",
            "        (line 1015, /Users/runner/work/spglib/spglib/src/symmetry.c).\n",
            "spglib: Too many lattice symmetries was found.\n",
            "        Reduce angle tolerance to 4.072531\n",
            "        (line 1015, /Users/runner/work/spglib/spglib/src/symmetry.c).\n",
            "spglib: Too many lattice symmetries was found.\n",
            "        Reduce angle tolerance to 3.868905\n",
            "        (line 1015, /Users/runner/work/spglib/spglib/src/symmetry.c).\n",
            "spglib: Too many lattice symmetries was found.\n",
            "        Reduce angle tolerance to 3.675459\n",
            "        (line 1015, /Users/runner/work/spglib/spglib/src/symmetry.c).\n",
            "spglib: Too many lattice symmetries was found.\n",
            "        Reduce angle tolerance to 3.491686\n",
            "        (line 1015, /Users/runner/work/spglib/spglib/src/symmetry.c).\n",
            "spglib: Too many lattice symmetries was found.\n",
            "        Reduce angle tolerance to 3.317102\n",
            "        (line 1015, /Users/runner/work/spglib/spglib/src/symmetry.c).\n",
            "spglib: Too many lattice symmetries was found.\n",
            "        Reduce angle tolerance to 3.151247\n",
            "        (line 1015, /Users/runner/work/spglib/spglib/src/symmetry.c).\n",
            "spglib: Too many lattice symmetries was found.\n",
            "        Reduce angle tolerance to 2.993685\n",
            "        (line 1015, /Users/runner/work/spglib/spglib/src/symmetry.c).\n",
            "spglib: Too many lattice symmetries was found.\n",
            "        Reduce angle tolerance to 2.844000\n",
            "        (line 1015, /Users/runner/work/spglib/spglib/src/symmetry.c).\n",
            "spglib: Too many lattice symmetries was found.\n",
            "        Reduce angle tolerance to 2.701800\n",
            "        (line 1015, /Users/runner/work/spglib/spglib/src/symmetry.c).\n",
            "spglib: Too many lattice symmetries was found.\n",
            "        Reduce angle tolerance to 2.566710\n",
            "        (line 1015, /Users/runner/work/spglib/spglib/src/symmetry.c).\n",
            "spglib: Too many lattice symmetries was found.\n",
            "        Reduce angle tolerance to 2.438375\n",
            "        (line 1015, /Users/runner/work/spglib/spglib/src/symmetry.c).\n",
            "spglib: Too many lattice symmetries was found.\n",
            "        Reduce angle tolerance to 2.316456\n",
            "        (line 1015, /Users/runner/work/spglib/spglib/src/symmetry.c).\n",
            "spglib: Too many lattice symmetries was found.\n",
            "        Reduce angle tolerance to 2.200633\n",
            "        (line 1015, /Users/runner/work/spglib/spglib/src/symmetry.c).\n",
            "spglib: Too many lattice symmetries was found.\n",
            "        Reduce angle tolerance to 2.090602\n",
            "        (line 1015, /Users/runner/work/spglib/spglib/src/symmetry.c).\n",
            "spglib: Too many lattice symmetries was found.\n",
            "        Reduce angle tolerance to 1.986072\n",
            "        (line 1015, /Users/runner/work/spglib/spglib/src/symmetry.c).\n",
            "spglib: Too many lattice symmetries was found.\n",
            "        Reduce angle tolerance to 1.886768\n",
            "        (line 1015, /Users/runner/work/spglib/spglib/src/symmetry.c).\n",
            "spglib: Too many lattice symmetries was found.\n",
            "        Reduce angle tolerance to 1.792430\n",
            "        (line 1015, /Users/runner/work/spglib/spglib/src/symmetry.c).\n",
            "spglib: Too many lattice symmetries was found.\n",
            "        Reduce angle tolerance to 1.702808\n",
            "        (line 1015, /Users/runner/work/spglib/spglib/src/symmetry.c).\n"
          ]
        }
      ],
      "source": [
        "from src.pymatgen_coherent_interface_builder import CoherentInterfaceBuilder, ZSLGenerator\n",
        "from src.utils import to_pymatgen\n",
        "\n",
        "if \"materials_in\" in globals():\n",
        "    pymatgen_materials = [to_pymatgen(item) for item in materials_in]\n",
        "for material in pymatgen_materials:\n",
        "    print(material, \"\\n\")\n",
        "\n",
        "\n",
        "def create_interfaces(settings):\n",
        "    print(\"Creating interfaces...\")\n",
        "    zsl = ZSLGenerator(\n",
        "        max_area_ratio_tol=settings[\"ZSL_PARAMETERS\"][\"MAX_AREA_TOL\"],\n",
        "        max_area=settings[\"ZSL_PARAMETERS\"][\"MAX_AREA\"],\n",
        "        max_length_tol=settings[\"ZSL_PARAMETERS\"][\"MAX_LENGTH_TOL\"],\n",
        "        max_angle_tol=settings[\"ZSL_PARAMETERS\"][\"MAX_ANGLE_TOL\"],\n",
        "    )\n",
        "\n",
        "    cib = CoherentInterfaceBuilder(\n",
        "        substrate_structure=pymatgen_materials[settings[\"SUBSTRATE_PARAMETERS\"][\"MATERIAL_INDEX\"]],\n",
        "        film_structure=pymatgen_materials[settings[\"LAYER_PARAMETERS\"][\"MATERIAL_INDEX\"]],\n",
        "        substrate_miller=settings[\"SUBSTRATE_PARAMETERS\"][\"MILLER_INDICES\"],\n",
        "        film_miller=settings[\"LAYER_PARAMETERS\"][\"MILLER_INDICES\"],\n",
        "        zslgen=zsl,\n",
        "        strain_tol=settings[\"ZSL_PARAMETERS\"][\"STRAIN_TOL\"],\n",
        "    )\n",
        "\n",
        "    # Find terminations\n",
        "    cib._find_terminations()\n",
        "    terminations = cib.terminations\n",
        "\n",
        "    # Create interfaces for each termination\n",
        "    interfaces = {}\n",
        "    for termination in terminations:\n",
        "        interfaces[termination] = []\n",
        "        for interface in cib.get_interfaces(\n",
        "            termination,\n",
        "            gap=settings[\"INTERFACE_PARAMETERS\"][\"DISTANCE_Z\"],\n",
        "            film_thickness=settings[\"LAYER_PARAMETERS\"][\"THICKNESS\"],\n",
        "            substrate_thickness=settings[\"SUBSTRATE_PARAMETERS\"][\"THICKNESS\"],\n",
        "            in_layers=True,\n",
        "        ):\n",
        "            # Wrap atoms to unit cell\n",
        "            interface[\"interface\"].make_supercell((1,1,1), to_unit_cell=True)\n",
        "            interfaces[termination].append(interface)\n",
        "    return interfaces, terminations\n",
        "\n",
        "\n",
        "interfaces, terminations = create_interfaces(\n",
        "    settings={\n",
        "        \"SUBSTRATE_PARAMETERS\": SUBSTRATE_PARAMETERS,\n",
        "        \"LAYER_PARAMETERS\": LAYER_PARAMETERS,\n",
        "        \"ZSL_PARAMETERS\": ZSL_PARAMETERS,\n",
        "        \"INTERFACE_PARAMETERS\": INTERFACE_PARAMETERS,\n",
        "    }\n",
        ")"
      ]
    },
    {
      "cell_type": "markdown",
      "metadata": {},
      "source": [
        "### 3.2. Print out the interfaces and terminations"
      ]
    },
    {
      "cell_type": "code",
      "execution_count": 8,
      "metadata": {},
      "outputs": [
        {
          "name": "stdout",
          "output_type": "stream",
          "text": [
            "Found 1 terminations\n",
            "Found 0 interfaces for ('S_P6/mmm_1', 'Si_R-3m_1') termination\n"
          ]
        }
      ],
      "source": [
        "print(f'Found {len(terminations)} terminations')\n",
        "for termination in terminations:\n",
        "    print(f\"Found {len(interfaces[termination])} interfaces for\", termination, \"termination\")"
      ]
    },
    {
      "cell_type": "markdown",
      "metadata": {},
      "source": [
        "## 4. Sort interfaces by strain\n",
        "\n",
        "### 4.1. Sort all interfaces"
      ]
    },
    {
      "cell_type": "code",
      "execution_count": 9,
      "metadata": {},
      "outputs": [],
      "source": [
        "# Could be \"strain\", \"von_mises_strain\", \"mean_abs_strain\"\n",
        "strain_mode = \"mean_abs_strain\"\n",
        "\n",
        "# Sort interfaces by the specified strain mode and number of sites\n",
        "def sort_interfaces(interfaces, terminations):\n",
        "    sorted_interfaces = {}\n",
        "    for termination in terminations:\n",
        "        sorted_interfaces[termination] = sorted(\n",
        "            interfaces[termination], key=lambda x: (x[strain_mode], x[\"interface\"].num_sites)\n",
        "        )\n",
        "    return sorted_interfaces\n",
        "\n",
        "\n",
        "sorted_interfaces = sort_interfaces(interfaces, terminations)"
      ]
    },
    {
      "cell_type": "markdown",
      "metadata": {},
      "source": [
        "### 4.2. Print out interfaces with lowest strain for each termination"
      ]
    },
    {
      "cell_type": "code",
      "execution_count": 10,
      "metadata": {},
      "outputs": [
        {
          "name": "stdout",
          "output_type": "stream",
          "text": [
            "Interface with lowest strain for termination ('S_P6/mmm_1', 'Si_R-3m_1') (index 0):\n"
          ]
        },
        {
          "ename": "IndexError",
          "evalue": "list index out of range",
          "output_type": "error",
          "traceback": [
            "\u001b[0;31m---------------------------------------------------------------------------\u001b[0m",
            "\u001b[0;31mIndexError\u001b[0m                                Traceback (most recent call last)",
            "Cell \u001b[0;32mIn[10], line 3\u001b[0m\n\u001b[1;32m      1\u001b[0m \u001b[38;5;28;01mfor\u001b[39;00m termination \u001b[38;5;129;01min\u001b[39;00m terminations:\n\u001b[1;32m      2\u001b[0m     \u001b[38;5;28mprint\u001b[39m(\u001b[38;5;124mf\u001b[39m\u001b[38;5;124m\"\u001b[39m\u001b[38;5;124mInterface with lowest strain for termination \u001b[39m\u001b[38;5;132;01m{\u001b[39;00mtermination\u001b[38;5;132;01m}\u001b[39;00m\u001b[38;5;124m (index 0):\u001b[39m\u001b[38;5;124m\"\u001b[39m)\n\u001b[0;32m----> 3\u001b[0m     first_interface \u001b[38;5;241m=\u001b[39m \u001b[43minterfaces\u001b[49m\u001b[43m[\u001b[49m\u001b[43mtermination\u001b[49m\u001b[43m]\u001b[49m\u001b[43m[\u001b[49m\u001b[38;5;241;43m0\u001b[39;49m\u001b[43m]\u001b[49m\n\u001b[1;32m      4\u001b[0m     \u001b[38;5;28mprint\u001b[39m(\u001b[38;5;124m\"\u001b[39m\u001b[38;5;124m    strain:\u001b[39m\u001b[38;5;124m\"\u001b[39m, first_interface[strain_mode] \u001b[38;5;241m*\u001b[39m \u001b[38;5;241m100\u001b[39m, \u001b[38;5;124m\"\u001b[39m\u001b[38;5;124m%\u001b[39m\u001b[38;5;124m\"\u001b[39m)\n\u001b[1;32m      5\u001b[0m     \u001b[38;5;28mprint\u001b[39m(\u001b[38;5;124m\"\u001b[39m\u001b[38;5;124m    number of atoms:\u001b[39m\u001b[38;5;124m\"\u001b[39m, first_interface[\u001b[38;5;124m\"\u001b[39m\u001b[38;5;124minterface\u001b[39m\u001b[38;5;124m\"\u001b[39m]\u001b[38;5;241m.\u001b[39mnum_sites)\n",
            "\u001b[0;31mIndexError\u001b[0m: list index out of range"
          ]
        }
      ],
      "source": [
        "for termination in terminations:\n",
        "    print(f\"Interface with lowest strain for termination {termination} (index 0):\")\n",
        "    first_interface = interfaces[termination][0]\n",
        "    print(\"    strain:\", first_interface[strain_mode] * 100, \"%\")\n",
        "    print(\"    number of atoms:\", first_interface[\"interface\"].num_sites)"
      ]
    },
    {
      "cell_type": "markdown",
      "metadata": {},
      "source": [
        "## 5. Plot the results\n",
        "\n",
        "Plot the number of atoms vs strain. Adjust the parameters as needed.\n"
      ]
    },
    {
      "cell_type": "code",
      "execution_count": null,
      "metadata": {},
      "outputs": [
        {
          "data": {
            "application/vnd.plotly.v1+json": {
              "config": {
                "plotlyServerURL": "https://plot.ly"
              },
              "data": [
                {
                  "hoverinfo": "text",
                  "mode": "markers",
                  "name": "Indices: 0",
                  "text": [
                    "Termination: ('C_P6/mmm_2', 'Ni_R-3m_1')<br>Termination index: 0<br>Interfaces Index Range: 0<br>Strain: 0.07%<br>Atoms: 5"
                  ],
                  "type": "scatter",
                  "x": [
                    0.06600000000000002
                  ],
                  "y": [
                    5
                  ]
                },
                {
                  "hoverinfo": "text",
                  "mode": "markers",
                  "name": "Indices: 1-9",
                  "text": [
                    "Termination: ('C_P6/mmm_2', 'Ni_R-3m_1')<br>Termination index: 0<br>Interfaces Index Range: 1-9<br>Strain: 0.07%<br>Atoms: 10"
                  ],
                  "type": "scatter",
                  "x": [
                    0.06600000000000002
                  ],
                  "y": [
                    10
                  ]
                },
                {
                  "hoverinfo": "text",
                  "mode": "markers",
                  "name": "Indices: 10-19",
                  "text": [
                    "Termination: ('C_P6/mmm_2', 'Ni_R-3m_1')<br>Termination index: 0<br>Interfaces Index Range: 10-19<br>Strain: 0.07%<br>Atoms: 15"
                  ],
                  "type": "scatter",
                  "x": [
                    0.06600000000000002
                  ],
                  "y": [
                    15
                  ]
                },
                {
                  "hoverinfo": "text",
                  "mode": "markers",
                  "name": "Indices: 20-38",
                  "text": [
                    "Termination: ('C_P6/mmm_2', 'Ni_R-3m_1')<br>Termination index: 0<br>Interfaces Index Range: 20-38<br>Strain: 0.07%<br>Atoms: 20"
                  ],
                  "type": "scatter",
                  "x": [
                    0.06600000000000002
                  ],
                  "y": [
                    20
                  ]
                },
                {
                  "hoverinfo": "text",
                  "mode": "markers",
                  "name": "Indices: 39-56",
                  "text": [
                    "Termination: ('C_P6/mmm_2', 'Ni_R-3m_1')<br>Termination index: 0<br>Interfaces Index Range: 39-56<br>Strain: 0.07%<br>Atoms: 25"
                  ],
                  "type": "scatter",
                  "x": [
                    0.06600000000000002
                  ],
                  "y": [
                    25
                  ]
                },
                {
                  "hoverinfo": "text",
                  "mode": "markers",
                  "name": "Indices: 57-110",
                  "text": [
                    "Termination: ('C_P6/mmm_2', 'Ni_R-3m_1')<br>Termination index: 0<br>Interfaces Index Range: 57-110<br>Strain: 0.07%<br>Atoms: 30"
                  ],
                  "type": "scatter",
                  "x": [
                    0.06600000000000002
                  ],
                  "y": [
                    30
                  ]
                },
                {
                  "hoverinfo": "text",
                  "mode": "markers",
                  "name": "Indices: 111-132",
                  "text": [
                    "Termination: ('C_P6/mmm_2', 'Ni_R-3m_1')<br>Termination index: 0<br>Interfaces Index Range: 111-132<br>Strain: 0.07%<br>Atoms: 35"
                  ],
                  "type": "scatter",
                  "x": [
                    0.06600000000000002
                  ],
                  "y": [
                    35
                  ]
                },
                {
                  "hoverinfo": "text",
                  "mode": "markers",
                  "name": "Indices: 133-177",
                  "text": [
                    "Termination: ('C_P6/mmm_2', 'Ni_R-3m_1')<br>Termination index: 0<br>Interfaces Index Range: 133-177<br>Strain: 0.07%<br>Atoms: 40"
                  ],
                  "type": "scatter",
                  "x": [
                    0.06600000000000002
                  ],
                  "y": [
                    40
                  ]
                },
                {
                  "hoverinfo": "text",
                  "mode": "markers",
                  "name": "Indices: 178-232",
                  "text": [
                    "Termination: ('C_P6/mmm_2', 'Ni_R-3m_1')<br>Termination index: 0<br>Interfaces Index Range: 178-232<br>Strain: 0.07%<br>Atoms: 45"
                  ],
                  "type": "scatter",
                  "x": [
                    0.06600000000000002
                  ],
                  "y": [
                    45
                  ]
                }
              ],
              "layout": {
                "height": 600,
                "hovermode": "closest",
                "legend": {
                  "title": {
                    "text": "Interfaces Index Range"
                  }
                },
                "template": {
                  "data": {
                    "bar": [
                      {
                        "error_x": {
                          "color": "#2a3f5f"
                        },
                        "error_y": {
                          "color": "#2a3f5f"
                        },
                        "marker": {
                          "line": {
                            "color": "#E5ECF6",
                            "width": 0.5
                          },
                          "pattern": {
                            "fillmode": "overlay",
                            "size": 10,
                            "solidity": 0.2
                          }
                        },
                        "type": "bar"
                      }
                    ],
                    "barpolar": [
                      {
                        "marker": {
                          "line": {
                            "color": "#E5ECF6",
                            "width": 0.5
                          },
                          "pattern": {
                            "fillmode": "overlay",
                            "size": 10,
                            "solidity": 0.2
                          }
                        },
                        "type": "barpolar"
                      }
                    ],
                    "carpet": [
                      {
                        "aaxis": {
                          "endlinecolor": "#2a3f5f",
                          "gridcolor": "white",
                          "linecolor": "white",
                          "minorgridcolor": "white",
                          "startlinecolor": "#2a3f5f"
                        },
                        "baxis": {
                          "endlinecolor": "#2a3f5f",
                          "gridcolor": "white",
                          "linecolor": "white",
                          "minorgridcolor": "white",
                          "startlinecolor": "#2a3f5f"
                        },
                        "type": "carpet"
                      }
                    ],
                    "choropleth": [
                      {
                        "colorbar": {
                          "outlinewidth": 0,
                          "ticks": ""
                        },
                        "type": "choropleth"
                      }
                    ],
                    "contour": [
                      {
                        "colorbar": {
                          "outlinewidth": 0,
                          "ticks": ""
                        },
                        "colorscale": [
                          [
                            0,
                            "#0d0887"
                          ],
                          [
                            0.1111111111111111,
                            "#46039f"
                          ],
                          [
                            0.2222222222222222,
                            "#7201a8"
                          ],
                          [
                            0.3333333333333333,
                            "#9c179e"
                          ],
                          [
                            0.4444444444444444,
                            "#bd3786"
                          ],
                          [
                            0.5555555555555556,
                            "#d8576b"
                          ],
                          [
                            0.6666666666666666,
                            "#ed7953"
                          ],
                          [
                            0.7777777777777778,
                            "#fb9f3a"
                          ],
                          [
                            0.8888888888888888,
                            "#fdca26"
                          ],
                          [
                            1,
                            "#f0f921"
                          ]
                        ],
                        "type": "contour"
                      }
                    ],
                    "contourcarpet": [
                      {
                        "colorbar": {
                          "outlinewidth": 0,
                          "ticks": ""
                        },
                        "type": "contourcarpet"
                      }
                    ],
                    "heatmap": [
                      {
                        "colorbar": {
                          "outlinewidth": 0,
                          "ticks": ""
                        },
                        "colorscale": [
                          [
                            0,
                            "#0d0887"
                          ],
                          [
                            0.1111111111111111,
                            "#46039f"
                          ],
                          [
                            0.2222222222222222,
                            "#7201a8"
                          ],
                          [
                            0.3333333333333333,
                            "#9c179e"
                          ],
                          [
                            0.4444444444444444,
                            "#bd3786"
                          ],
                          [
                            0.5555555555555556,
                            "#d8576b"
                          ],
                          [
                            0.6666666666666666,
                            "#ed7953"
                          ],
                          [
                            0.7777777777777778,
                            "#fb9f3a"
                          ],
                          [
                            0.8888888888888888,
                            "#fdca26"
                          ],
                          [
                            1,
                            "#f0f921"
                          ]
                        ],
                        "type": "heatmap"
                      }
                    ],
                    "heatmapgl": [
                      {
                        "colorbar": {
                          "outlinewidth": 0,
                          "ticks": ""
                        },
                        "colorscale": [
                          [
                            0,
                            "#0d0887"
                          ],
                          [
                            0.1111111111111111,
                            "#46039f"
                          ],
                          [
                            0.2222222222222222,
                            "#7201a8"
                          ],
                          [
                            0.3333333333333333,
                            "#9c179e"
                          ],
                          [
                            0.4444444444444444,
                            "#bd3786"
                          ],
                          [
                            0.5555555555555556,
                            "#d8576b"
                          ],
                          [
                            0.6666666666666666,
                            "#ed7953"
                          ],
                          [
                            0.7777777777777778,
                            "#fb9f3a"
                          ],
                          [
                            0.8888888888888888,
                            "#fdca26"
                          ],
                          [
                            1,
                            "#f0f921"
                          ]
                        ],
                        "type": "heatmapgl"
                      }
                    ],
                    "histogram": [
                      {
                        "marker": {
                          "pattern": {
                            "fillmode": "overlay",
                            "size": 10,
                            "solidity": 0.2
                          }
                        },
                        "type": "histogram"
                      }
                    ],
                    "histogram2d": [
                      {
                        "colorbar": {
                          "outlinewidth": 0,
                          "ticks": ""
                        },
                        "colorscale": [
                          [
                            0,
                            "#0d0887"
                          ],
                          [
                            0.1111111111111111,
                            "#46039f"
                          ],
                          [
                            0.2222222222222222,
                            "#7201a8"
                          ],
                          [
                            0.3333333333333333,
                            "#9c179e"
                          ],
                          [
                            0.4444444444444444,
                            "#bd3786"
                          ],
                          [
                            0.5555555555555556,
                            "#d8576b"
                          ],
                          [
                            0.6666666666666666,
                            "#ed7953"
                          ],
                          [
                            0.7777777777777778,
                            "#fb9f3a"
                          ],
                          [
                            0.8888888888888888,
                            "#fdca26"
                          ],
                          [
                            1,
                            "#f0f921"
                          ]
                        ],
                        "type": "histogram2d"
                      }
                    ],
                    "histogram2dcontour": [
                      {
                        "colorbar": {
                          "outlinewidth": 0,
                          "ticks": ""
                        },
                        "colorscale": [
                          [
                            0,
                            "#0d0887"
                          ],
                          [
                            0.1111111111111111,
                            "#46039f"
                          ],
                          [
                            0.2222222222222222,
                            "#7201a8"
                          ],
                          [
                            0.3333333333333333,
                            "#9c179e"
                          ],
                          [
                            0.4444444444444444,
                            "#bd3786"
                          ],
                          [
                            0.5555555555555556,
                            "#d8576b"
                          ],
                          [
                            0.6666666666666666,
                            "#ed7953"
                          ],
                          [
                            0.7777777777777778,
                            "#fb9f3a"
                          ],
                          [
                            0.8888888888888888,
                            "#fdca26"
                          ],
                          [
                            1,
                            "#f0f921"
                          ]
                        ],
                        "type": "histogram2dcontour"
                      }
                    ],
                    "mesh3d": [
                      {
                        "colorbar": {
                          "outlinewidth": 0,
                          "ticks": ""
                        },
                        "type": "mesh3d"
                      }
                    ],
                    "parcoords": [
                      {
                        "line": {
                          "colorbar": {
                            "outlinewidth": 0,
                            "ticks": ""
                          }
                        },
                        "type": "parcoords"
                      }
                    ],
                    "pie": [
                      {
                        "automargin": true,
                        "type": "pie"
                      }
                    ],
                    "scatter": [
                      {
                        "fillpattern": {
                          "fillmode": "overlay",
                          "size": 10,
                          "solidity": 0.2
                        },
                        "type": "scatter"
                      }
                    ],
                    "scatter3d": [
                      {
                        "line": {
                          "colorbar": {
                            "outlinewidth": 0,
                            "ticks": ""
                          }
                        },
                        "marker": {
                          "colorbar": {
                            "outlinewidth": 0,
                            "ticks": ""
                          }
                        },
                        "type": "scatter3d"
                      }
                    ],
                    "scattercarpet": [
                      {
                        "marker": {
                          "colorbar": {
                            "outlinewidth": 0,
                            "ticks": ""
                          }
                        },
                        "type": "scattercarpet"
                      }
                    ],
                    "scattergeo": [
                      {
                        "marker": {
                          "colorbar": {
                            "outlinewidth": 0,
                            "ticks": ""
                          }
                        },
                        "type": "scattergeo"
                      }
                    ],
                    "scattergl": [
                      {
                        "marker": {
                          "colorbar": {
                            "outlinewidth": 0,
                            "ticks": ""
                          }
                        },
                        "type": "scattergl"
                      }
                    ],
                    "scattermapbox": [
                      {
                        "marker": {
                          "colorbar": {
                            "outlinewidth": 0,
                            "ticks": ""
                          }
                        },
                        "type": "scattermapbox"
                      }
                    ],
                    "scatterpolar": [
                      {
                        "marker": {
                          "colorbar": {
                            "outlinewidth": 0,
                            "ticks": ""
                          }
                        },
                        "type": "scatterpolar"
                      }
                    ],
                    "scatterpolargl": [
                      {
                        "marker": {
                          "colorbar": {
                            "outlinewidth": 0,
                            "ticks": ""
                          }
                        },
                        "type": "scatterpolargl"
                      }
                    ],
                    "scatterternary": [
                      {
                        "marker": {
                          "colorbar": {
                            "outlinewidth": 0,
                            "ticks": ""
                          }
                        },
                        "type": "scatterternary"
                      }
                    ],
                    "surface": [
                      {
                        "colorbar": {
                          "outlinewidth": 0,
                          "ticks": ""
                        },
                        "colorscale": [
                          [
                            0,
                            "#0d0887"
                          ],
                          [
                            0.1111111111111111,
                            "#46039f"
                          ],
                          [
                            0.2222222222222222,
                            "#7201a8"
                          ],
                          [
                            0.3333333333333333,
                            "#9c179e"
                          ],
                          [
                            0.4444444444444444,
                            "#bd3786"
                          ],
                          [
                            0.5555555555555556,
                            "#d8576b"
                          ],
                          [
                            0.6666666666666666,
                            "#ed7953"
                          ],
                          [
                            0.7777777777777778,
                            "#fb9f3a"
                          ],
                          [
                            0.8888888888888888,
                            "#fdca26"
                          ],
                          [
                            1,
                            "#f0f921"
                          ]
                        ],
                        "type": "surface"
                      }
                    ],
                    "table": [
                      {
                        "cells": {
                          "fill": {
                            "color": "#EBF0F8"
                          },
                          "line": {
                            "color": "white"
                          }
                        },
                        "header": {
                          "fill": {
                            "color": "#C8D4E3"
                          },
                          "line": {
                            "color": "white"
                          }
                        },
                        "type": "table"
                      }
                    ]
                  },
                  "layout": {
                    "annotationdefaults": {
                      "arrowcolor": "#2a3f5f",
                      "arrowhead": 0,
                      "arrowwidth": 1
                    },
                    "autotypenumbers": "strict",
                    "coloraxis": {
                      "colorbar": {
                        "outlinewidth": 0,
                        "ticks": ""
                      }
                    },
                    "colorscale": {
                      "diverging": [
                        [
                          0,
                          "#8e0152"
                        ],
                        [
                          0.1,
                          "#c51b7d"
                        ],
                        [
                          0.2,
                          "#de77ae"
                        ],
                        [
                          0.3,
                          "#f1b6da"
                        ],
                        [
                          0.4,
                          "#fde0ef"
                        ],
                        [
                          0.5,
                          "#f7f7f7"
                        ],
                        [
                          0.6,
                          "#e6f5d0"
                        ],
                        [
                          0.7,
                          "#b8e186"
                        ],
                        [
                          0.8,
                          "#7fbc41"
                        ],
                        [
                          0.9,
                          "#4d9221"
                        ],
                        [
                          1,
                          "#276419"
                        ]
                      ],
                      "sequential": [
                        [
                          0,
                          "#0d0887"
                        ],
                        [
                          0.1111111111111111,
                          "#46039f"
                        ],
                        [
                          0.2222222222222222,
                          "#7201a8"
                        ],
                        [
                          0.3333333333333333,
                          "#9c179e"
                        ],
                        [
                          0.4444444444444444,
                          "#bd3786"
                        ],
                        [
                          0.5555555555555556,
                          "#d8576b"
                        ],
                        [
                          0.6666666666666666,
                          "#ed7953"
                        ],
                        [
                          0.7777777777777778,
                          "#fb9f3a"
                        ],
                        [
                          0.8888888888888888,
                          "#fdca26"
                        ],
                        [
                          1,
                          "#f0f921"
                        ]
                      ],
                      "sequentialminus": [
                        [
                          0,
                          "#0d0887"
                        ],
                        [
                          0.1111111111111111,
                          "#46039f"
                        ],
                        [
                          0.2222222222222222,
                          "#7201a8"
                        ],
                        [
                          0.3333333333333333,
                          "#9c179e"
                        ],
                        [
                          0.4444444444444444,
                          "#bd3786"
                        ],
                        [
                          0.5555555555555556,
                          "#d8576b"
                        ],
                        [
                          0.6666666666666666,
                          "#ed7953"
                        ],
                        [
                          0.7777777777777778,
                          "#fb9f3a"
                        ],
                        [
                          0.8888888888888888,
                          "#fdca26"
                        ],
                        [
                          1,
                          "#f0f921"
                        ]
                      ]
                    },
                    "colorway": [
                      "#636efa",
                      "#EF553B",
                      "#00cc96",
                      "#ab63fa",
                      "#FFA15A",
                      "#19d3f3",
                      "#FF6692",
                      "#B6E880",
                      "#FF97FF",
                      "#FECB52"
                    ],
                    "font": {
                      "color": "#2a3f5f"
                    },
                    "geo": {
                      "bgcolor": "white",
                      "lakecolor": "white",
                      "landcolor": "#E5ECF6",
                      "showlakes": true,
                      "showland": true,
                      "subunitcolor": "white"
                    },
                    "hoverlabel": {
                      "align": "left"
                    },
                    "hovermode": "closest",
                    "mapbox": {
                      "style": "light"
                    },
                    "paper_bgcolor": "white",
                    "plot_bgcolor": "#E5ECF6",
                    "polar": {
                      "angularaxis": {
                        "gridcolor": "white",
                        "linecolor": "white",
                        "ticks": ""
                      },
                      "bgcolor": "#E5ECF6",
                      "radialaxis": {
                        "gridcolor": "white",
                        "linecolor": "white",
                        "ticks": ""
                      }
                    },
                    "scene": {
                      "xaxis": {
                        "backgroundcolor": "#E5ECF6",
                        "gridcolor": "white",
                        "gridwidth": 2,
                        "linecolor": "white",
                        "showbackground": true,
                        "ticks": "",
                        "zerolinecolor": "white"
                      },
                      "yaxis": {
                        "backgroundcolor": "#E5ECF6",
                        "gridcolor": "white",
                        "gridwidth": 2,
                        "linecolor": "white",
                        "showbackground": true,
                        "ticks": "",
                        "zerolinecolor": "white"
                      },
                      "zaxis": {
                        "backgroundcolor": "#E5ECF6",
                        "gridcolor": "white",
                        "gridwidth": 2,
                        "linecolor": "white",
                        "showbackground": true,
                        "ticks": "",
                        "zerolinecolor": "white"
                      }
                    },
                    "shapedefaults": {
                      "line": {
                        "color": "#2a3f5f"
                      }
                    },
                    "ternary": {
                      "aaxis": {
                        "gridcolor": "white",
                        "linecolor": "white",
                        "ticks": ""
                      },
                      "baxis": {
                        "gridcolor": "white",
                        "linecolor": "white",
                        "ticks": ""
                      },
                      "bgcolor": "#E5ECF6",
                      "caxis": {
                        "gridcolor": "white",
                        "linecolor": "white",
                        "ticks": ""
                      }
                    },
                    "title": {
                      "x": 0.05
                    },
                    "xaxis": {
                      "automargin": true,
                      "gridcolor": "white",
                      "linecolor": "white",
                      "ticks": "",
                      "title": {
                        "standoff": 15
                      },
                      "zerolinecolor": "white",
                      "zerolinewidth": 2
                    },
                    "yaxis": {
                      "automargin": true,
                      "gridcolor": "white",
                      "linecolor": "white",
                      "ticks": "",
                      "title": {
                        "standoff": 15
                      },
                      "zerolinecolor": "white",
                      "zerolinewidth": 2
                    }
                  }
                },
                "xaxis": {
                  "title": {
                    "text": "Strain (%)"
                  },
                  "type": "log"
                },
                "yaxis": {
                  "title": {
                    "text": "Number of atoms"
                  },
                  "type": "log"
                }
              }
            }
          },
          "metadata": {},
          "output_type": "display_data"
        },
        {
          "name": "stdout",
          "output_type": "stream",
          "text": [
            "Termination 0: ('C_P6/mmm_2', 'Ni_R-3m_1')\n"
          ]
        }
      ],
      "source": [
        "import plotly.graph_objs as go\n",
        "from collections import defaultdict\n",
        "\n",
        "PLOT_SETTINGS = {\n",
        "    \"HEIGHT\": 600,\n",
        "    \"X_SCALE\": \"log\",  # or linear\n",
        "    \"Y_SCALE\": \"log\",  # or linear\n",
        "}\n",
        "\n",
        "\n",
        "def plot_strain_vs_atoms(sorted_interfaces, terminations, settings):\n",
        "    # Create a mapping from termination to its index\n",
        "    termination_to_index = {termination: i for i, termination in enumerate(terminations)}\n",
        "\n",
        "    grouped_interfaces = defaultdict(list)\n",
        "    for termination, interfaces in sorted_interfaces.items():\n",
        "        for index, interface_data in enumerate(interfaces):\n",
        "            strain_percentage = interface_data[\"mean_abs_strain\"] * 100\n",
        "            num_sites = interface_data[\"interface\"].num_sites\n",
        "            key = (strain_percentage, num_sites)\n",
        "            grouped_interfaces[key].append((index, termination))\n",
        "    \n",
        "    data = []\n",
        "    for (strain, num_sites), indices_and_terminations in grouped_interfaces.items():\n",
        "        termination_indices = defaultdict(list)\n",
        "        for index, termination in indices_and_terminations:\n",
        "            termination_indices[termination].append(index)\n",
        "        all_indices = [index for indices in termination_indices.values() for index in indices]\n",
        "        index_range = f\"{min(all_indices)}-{max(all_indices)}\" if len(all_indices) > 1 else str(min(all_indices))\n",
        "        \n",
        "        hover_text = \"<br>-----<br>\".join(\n",
        "             f\"Termination: {termination}<br>Termination index: {termination_to_index[termination]}<br>Interfaces Index Range: {index_range}<br>Strain: {strain:.2f}%<br>Atoms: {num_sites}\"\n",
        "            for termination, indices in termination_indices.items()\n",
        "        )\n",
        "        trace = go.Scatter(\n",
        "            x=[strain],\n",
        "            y=[num_sites],\n",
        "            text=[hover_text],\n",
        "            mode=\"markers\",\n",
        "            hoverinfo=\"text\",\n",
        "            name=f\"Indices: {index_range}\",\n",
        "        )\n",
        "        data.append(trace)\n",
        "\n",
        "    layout = go.Layout(\n",
        "        xaxis=dict(title=\"Strain (%)\", type=settings[\"X_SCALE\"]),\n",
        "        yaxis=dict(title=\"Number of atoms\", type=settings[\"Y_SCALE\"]),\n",
        "        hovermode=\"closest\",\n",
        "        height=settings[\"HEIGHT\"],\n",
        "        legend_title_text=\"Interfaces Index Range\",\n",
        "    )\n",
        "    fig = go.Figure(data=data, layout=layout)\n",
        "    fig.show()\n",
        "\n",
        "\n",
        "\n",
        "plot_strain_vs_atoms(sorted_interfaces, terminations, PLOT_SETTINGS)\n",
        "\n",
        "for i, termination in enumerate(terminations):\n",
        "    print(f\"Termination {i}:\", termination)"
      ]
    },
    {
      "cell_type": "markdown",
      "metadata": {},
      "source": [
        "## 6. Select the interface to relax\n",
        "\n",
        "### 6.1. Select the interface with the desired termination and strain\n",
        "\n",
        "The data in `sorted_interfaces` now contains an object with the following structure:\n",
        "\n",
        "```json\n",
        "{\n",
        "    \"('C_P6/mmm_2', 'Si_R-3m_1')\": [\n",
        "        { ...interface for ('C_P6/mmm_2', 'Si_R-3m_1') at index 0...},\n",
        "        { ...interface for ('C_P6/mmm_2', 'Si_R-3m_1') at index 1...},\n",
        "        ...\n",
        "    ],\n",
        "    \"<termination at index 1>\": [\n",
        "        { ...interface for 'termination at index 1' at index 0...},\n",
        "        { ...interface for 'termination at index 1' at index 1...},\n",
        "        ...\n",
        "    ]\n",
        "}\n",
        "```\n",
        "\n",
        "Select the index for termination first, and for it - the index in the list of corresponding interfaces sorted by strain (index 0 has minimum strain)."
      ]
    },
    {
      "cell_type": "code",
      "execution_count": null,
      "metadata": {},
      "outputs": [],
      "source": [
        "termination_index = 0\n",
        "interface_index = 0\n",
        "\n",
        "termination = terminations[termination_index]\n",
        "\n",
        "interface = sorted_interfaces[termination][interface_index][\"interface\"]"
      ]
    },
    {
      "cell_type": "markdown",
      "metadata": {},
      "source": [
        "## 7. Apply relaxation\n",
        "### 7.1. Apply relaxation to the selected interface"
      ]
    },
    {
      "cell_type": "code",
      "execution_count": null,
      "metadata": {},
      "outputs": [
        {
          "name": "stderr",
          "output_type": "stream",
          "text": [
            "/Users/mat3ra/code/green/api-examples/.venv-3.10/lib/python3.10/site-packages/matgl/apps/pes.py:60: UserWarning:\n",
            "\n",
            "To copy construct from a tensor, it is recommended to use sourceTensor.clone().detach() or sourceTensor.clone().detach().requires_grad_(True), rather than torch.tensor(sourceTensor).\n",
            "\n",
            "/Users/mat3ra/code/green/api-examples/.venv-3.10/lib/python3.10/site-packages/matgl/apps/pes.py:66: UserWarning:\n",
            "\n",
            "To copy construct from a tensor, it is recommended to use sourceTensor.clone().detach() or sourceTensor.clone().detach().requires_grad_(True), rather than torch.tensor(sourceTensor).\n",
            "\n",
            "/Users/mat3ra/code/green/api-examples/.venv-3.10/lib/python3.10/site-packages/matgl/apps/pes.py:67: UserWarning:\n",
            "\n",
            "To copy construct from a tensor, it is recommended to use sourceTensor.clone().detach() or sourceTensor.clone().detach().requires_grad_(True), rather than torch.tensor(sourceTensor).\n",
            "\n",
            "/Users/mat3ra/code/green/api-examples/.venv-3.10/lib/python3.10/site-packages/matgl/layers/_basis.py:121: UserWarning:\n",
            "\n",
            "To copy construct from a tensor, it is recommended to use sourceTensor.clone().detach() or sourceTensor.clone().detach().requires_grad_(True), rather than torch.tensor(sourceTensor).\n",
            "\n"
          ]
        },
        {
          "name": "stdout",
          "output_type": "stream",
          "text": [
            "Ni3 C2\n",
            "1.0\n",
            "   2.4599995727812636    0.0000000000000000    0.0000000000000002\n",
            "   1.2299996151168615    2.1304228614681318    0.0000000000000002\n",
            "   0.0000000000000000    0.0000000000000000   27.0171630732453210\n",
            "Ni C\n",
            "3 2\n",
            "direct\n",
            "   0.3333334726277728    0.3333336565779657    0.0000000000000000 Ni\n",
            "   0.0000002089416588    0.0000004848669485    0.0743446501461779 Ni\n",
            "   0.6666669452555456    0.6666673131559313    0.1486893002923558 Ni\n",
            "   0.0000000000000000    0.0000000000000000    0.2597298263411789 C\n",
            "   0.3333330000000001    0.3333330000000000    0.2597298263411789 C\n",
            "\n",
            "Ni3 C2\n",
            "1.0\n",
            "   2.4599995727812636    0.0000000000000000    0.0000000000000002\n",
            "   1.2299996151168615    2.1304228614681318    0.0000000000000002\n",
            "   0.0000000000000000    0.0000000000000000   27.0171630732453210\n",
            "Ni C\n",
            "3 2\n",
            "direct\n",
            "   0.3333341723412202    0.3333329825529395   -0.0173027729325095 Ni\n",
            "   0.0000008748175968    0.0000011112052201    0.0577821722288098 Ni\n",
            "   0.6666657896260539    0.6666680027415587    0.1327744640898099 Ni\n",
            "   0.0000208946317000   -0.0000061540823121    0.2846198681641744 C\n",
            "   0.3333121301526332    0.3333383804459837    0.2846198693128253 C\n",
            "\n",
            "The final energy is -34.621 eV.\n"
          ]
        }
      ],
      "source": [
        "# Per https://github.com/materialsvirtuallab/matgl/blob/main/examples/Relaxations%20and%20Simulations%20using%20the%20M3GNet%20Universal%20Potential.ipynb\n",
        "\n",
        "import matgl\n",
        "from matgl.ext.ase import M3GNetCalculator, MolecularDynamics, Relaxer\n",
        "\n",
        "from pymatgen.io.ase import AseAtomsAdaptor\n",
        "from matgl.ext.ase import M3GNetCalculator\n",
        "from matgl.apps.pes import Potential\n",
        "ase_adaptor = AseAtomsAdaptor()\n",
        "\n",
        "def get_energy(structure, pot: Potential):\n",
        "    atoms = ase_adaptor.get_atoms(structure)\n",
        "    calc = M3GNetCalculator(pot)\n",
        "    atoms.set_calculator(calc)\n",
        "    return float(atoms.get_potential_energy())\n",
        "\n",
        "pot = matgl.load_model(\"M3GNet-MP-2021.2.8-PES\")\n",
        "\n",
        "relaxer = Relaxer(potential=pot, relax_cell=False)\n",
        "relax_results = relaxer.relax(interface, fmax=0.01)\n",
        "\n",
        "# extract results\n",
        "relaxed_interface = relax_results[\"final_structure\"]\n",
        "relaxed_energy = relax_results[\"trajectory\"].energies[-1]\n",
        "\n",
        "# print out the final relaxed structure and energy\n",
        "print(interface.to(fmt=\"poscar\"))\n",
        "print(relaxed_interface.to(fmt=\"poscar\"))\n",
        "\n",
        "print(f\"The final energy is {float(relaxed_energy):.3f} eV.\")"
      ]
    },
    {
      "cell_type": "markdown",
      "metadata": {},
      "source": [
        "### 7.2. View structure before and after relaxation"
      ]
    },
    {
      "cell_type": "code",
      "execution_count": null,
      "metadata": {},
      "outputs": [],
      "source": [
        "from src.utils import poscar_to_ase\n",
        "\n",
        "ase_structure = poscar_to_ase(relaxed_interface.to(fmt=\"poscar\"))\n",
        "ase_interface = poscar_to_ase(interface.to(fmt=\"poscar\"))\n",
        "\n",
        "from ase.visualize import view\n",
        "\n",
        "# view(ase_structure, viewer=\"x3d\")\n",
        "# view(ase_interface, viewer=\"x3d\")\n"
      ]
    },
    {
      "cell_type": "markdown",
      "metadata": {},
      "source": [
        "### 7.3. Calculate energy energy using matgl M3GNet"
      ]
    },
    {
      "cell_type": "code",
      "execution_count": null,
      "metadata": {},
      "outputs": [
        {
          "name": "stdout",
          "output_type": "stream",
          "text": [
            "Interface energy: -34.6208 eV\n",
            "Substrate energy: -16.3257 eV\n",
            "Layer energy: -18.2532 eV\n",
            "Substrate energy + layer energy: -34.5789 eV\n",
            "Delta: -0.0419 eV\n"
          ]
        }
      ],
      "source": [
        "\n",
        "nickel_relaxed_interface = relaxed_interface.copy()\n",
        "graphene_relaxed_interface = relaxed_interface.copy()\n",
        "nickel_relaxed_interface.remove_species([\"C\"])\n",
        "graphene_relaxed_interface.remove_species([\"Ni\"])\n",
        "\n",
        "substrate_energy = get_energy(nickel_relaxed_interface, pot)\n",
        "layer_energy = get_energy(graphene_relaxed_interface, pot)\n",
        "delta = relaxed_energy - substrate_energy - layer_energy\n",
        "\n",
        "print(f\"Interface energy: {relaxed_energy:.4f} eV\")\n",
        "print(f\"Substrate energy: {substrate_energy:.4f} eV\")\n",
        "print(f\"Layer energy: {layer_energy:.4f} eV\")\n",
        "print(f\"Substrate energy + layer energy: {substrate_energy + layer_energy:.4f} eV\")\n",
        "print(f\"Delta: {delta:.4f} eV\")\n"
      ]
    },
    {
      "cell_type": "code",
      "execution_count": null,
      "metadata": {},
      "outputs": [],
      "source": []
    }
  ],
  "metadata": {
    "kernelspec": {
      "display_name": ".venv",
      "language": "python",
      "name": "python3"
    },
    "language_info": {
      "codemirror_mode": {
        "name": "ipython",
        "version": 3
      },
      "file_extension": ".py",
      "mimetype": "text/x-python",
      "name": "python",
      "nbconvert_exporter": "python",
      "pygments_lexer": "ipython3",
      "version": "3.10.12"
    },
    "widgets": {
      "application/vnd.jupyter.widget-state+json": {
        "state": {},
        "version_major": 2,
        "version_minor": 0
      }
    }
  },
  "nbformat": 4,
  "nbformat_minor": 4
}
