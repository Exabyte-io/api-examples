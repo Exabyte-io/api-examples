{
 "cells": [
  {
   "cell_type": "code",
   "execution_count": null,
   "metadata": {},
   "outputs": [],
   "source": [
    "import json\n",
    "import argparse\n",
    "\n",
    "from endpoints.login import LoginEndpoint\n",
    "\n",
    "HOST = 'platform.exabyte.io'\n",
    "PORT = 443\n",
    "SECURE = True\n",
    "\n",
    "\n",
    "def parse_arguments():\n",
    "    parser = argparse.ArgumentParser()\n",
    "    parser.add_argument('-u', '--username', required=True, help='username')\n",
    "    parser.add_argument('-p', '--password', required=True, help='password')\n",
    "    return parser.parse_args()\n",
    "\n",
    "\n",
    "if __name__ == '__main__':\n",
    "    args = parse_arguments()\n",
    "    login_endpoint = LoginEndpoint(HOST, PORT, args.username, args.password, secure=SECURE)\n",
    "    auth_params = login_endpoint.login()\n",
    "    print json.dumps(auth_params, indent=4)\n"
   ]
  }
 ],
 "metadata": {
  "kernelspec": {
   "display_name": "Python 2",
   "language": "python",
   "name": "python2"
  },
  "language_info": {
   "codemirror_mode": {
    "name": "ipython",
    "version": 2
   },
   "file_extension": ".py",
   "mimetype": "text/x-python",
   "name": "python",
   "nbconvert_exporter": "python",
   "pygments_lexer": "ipython2",
   "version": "2.7.10"
  }
 },
 "nbformat": 4,
 "nbformat_minor": 2
}
