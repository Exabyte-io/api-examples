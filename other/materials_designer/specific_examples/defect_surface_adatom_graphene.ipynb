{
 "cells": [
  {
   "cell_type": "markdown",
   "source": [
    "# Adatom Defect on Graphene surface\n",
    "\n",
    "## 0. Introduction\n",
    "\n",
    "This tutorial demonstrates creation of metal adatom on graphene hollow site.\n",
    "\n",
    "> **Chan, K. T., Neaton, J. B., & Cohen, M. L. (2008).** \n",
    "> First-principles study of metal adatom adsorption on graphene. Physical Review B, 77(23). \n",
    "> [DOI:10.1103/physrevb.77.235430 ](https://journals.aps.org/prb/abstract/10.1103/PhysRevB.77.235430)\n",
    "    \n",
    "\n",
    "Below is the figure 1 from the manuscript that shows the adsorption of metal adatom on graphene hollow site.\n",
    "\n",
    "\n",
    "![Fig 1.](https://i.imgur.com/EByeJg5.png)\n",
    "\n"
   ],
   "metadata": {
    "collapsed": false
   },
   "id": "c62d2c5007947f56"
  },
  {
   "cell_type": "markdown",
   "source": [
    "## 1. Prepare the Environment\n",
    "### 1.1. Set up defects parameters \n",
    "Adatom Defect Configuration parameters are described in [Adatom Defect Configuration](https://github.com/Exabyte-io/made/blob/8196b759242551c77d1791bf5bd2f4150763cfef/src/py/mat3ra/made/tools/build/defect/configuration.py#L141).\n"
   ],
   "metadata": {
    "collapsed": false
   },
   "id": "4d0772a456c9952c"
  },
  {
   "cell_type": "code",
   "outputs": [],
   "source": [
    "# Name of material to find in Standata\n",
    "MATERIAL_NAME = \"Graphene\"\n",
    "SUPERCELL_MATRIX = [[4, 0, 0], [0, 4, 0], [0, 0, 1]]\n",
    "\n",
    "# Defect parameters\n",
    "DEFECT_TYPE = \"adatom\"\n",
    "PLACEMENT_METHOD = \"coordinate\"\n",
    "# Using crystal coordinates for the defect placement\n",
    "USE_CARTESIAN_COORDINATES = False\n",
    "HOLLOW_SITE_COORDINATE = [1 / 2, 1 / 2]  # in crystal coordinates\n",
    "BRIDGE_SITE_COORDINATE = [3 / 8, 1 / 2]  # in crystal coordinates\n",
    "TOP_SITE_COORDINATE = [7 / 12, 5 / 12]  # in crystal coordinates\n",
    "\n",
    "# Setting data according to Table 1 in the manuscript, distance_z is the `h` from the table.\n",
    "# Uncomment the lines to create the defect for the desired adatom.\n",
    "ADATOM_PARAMETERS = [\n",
    "    {\"chemical_element\": \"Li\", \"distance_z\": 1.71, \"position_on_surface\": HOLLOW_SITE_COORDINATE},\n",
    "    {\"chemical_element\": \"Na\", \"distance_z\": 2.28, \"position_on_surface\": HOLLOW_SITE_COORDINATE},\n",
    "    {\"chemical_element\": \"K\", \"distance_z\": 2.60, \"position_on_surface\": HOLLOW_SITE_COORDINATE},\n",
    "    # {\"chemical_element\": \"Ca\", \"distance_z\": 2.29, \"position_on_surface\": HOLLOW_SITE_COORDINATE},\n",
    "    # {\"chemical_element\": \"Al\", \"distance_z\": 2.13, \"position_on_surface\": HOLLOW_SITE_COORDINATE},\n",
    "    # {\"chemical_element\": \"Ga\", \"distance_z\": 2.20, \"position_on_surface\": HOLLOW_SITE_COORDINATE},\n",
    "    # {\"chemical_element\": \"In\", \"distance_z\": 2.45, \"position_on_surface\": HOLLOW_SITE_COORDINATE},\n",
    "    {\"chemical_element\": \"Sn\", \"distance_z\": 2.82, \"position_on_surface\": TOP_SITE_COORDINATE},\n",
    "    # {\"chemical_element\": \"Ti\", \"distance_z\": 1.80, \"position_on_surface\": HOLLOW_SITE_COORDINATE},\n",
    "    # {\"chemical_element\": \"Fe\", \"distance_z\": 1.53, \"position_on_surface\": HOLLOW_SITE_COORDINATE},\n",
    "    {\"chemical_element\": \"Pd\", \"distance_z\": 2.21, \"position_on_surface\": BRIDGE_SITE_COORDINATE},\n",
    "    # {\"chemical_element\": \"Au\", \"distance_z\": 2.69, \"position_on_surface\": TOP_SITE_COORDINATE},\n",
    "]"
   ],
   "metadata": {
    "collapsed": false
   },
   "id": "b5459bac655071be",
   "execution_count": null
  },
  {
   "cell_type": "markdown",
   "source": [
    "### 1.2. Install Packages\n",
    "The step executes only in Pyodide environment. For other environments, the packages should be installed via `pip install` (see [README](../../README.ipynb))."
   ],
   "metadata": {
    "collapsed": false
   },
   "id": "d572e8697122fef5"
  },
  {
   "cell_type": "code",
   "outputs": [],
   "source": [
    "import sys\n",
    "\n",
    "if sys.platform == \"emscripten\":\n",
    "    import micropip\n",
    "\n",
    "    await micropip.install('mat3ra-api-examples', deps=False)\n",
    "    from utils.jupyterlite import install_packages\n",
    "\n",
    "    await install_packages(\"create_point_defect.ipynb\")\n",
    "    await install_packages(\"specific_examples\")"
   ],
   "metadata": {
    "collapsed": false
   },
   "id": "58b0da5bbc87efc6",
   "execution_count": null
  },
  {
   "cell_type": "markdown",
   "source": [
    "### 1.3. Load input material"
   ],
   "metadata": {
    "collapsed": false
   },
   "id": "b342c025f3e369d4"
  },
  {
   "cell_type": "code",
   "outputs": [],
   "source": [
    "from mat3ra.standata.materials import Materials\n",
    "from mat3ra.made.material import Material\n",
    "\n",
    "material = Material(Materials.get_by_name_first_match(MATERIAL_NAME))"
   ],
   "metadata": {
    "collapsed": false
   },
   "id": "7ebdb82cd32c735c",
   "execution_count": null
  },
  {
   "cell_type": "markdown",
   "source": [
    "### 1.4. Create and preview Supercell"
   ],
   "metadata": {
    "collapsed": false
   },
   "id": "8f459296488702b1"
  },
  {
   "cell_type": "code",
   "outputs": [],
   "source": [
    "from utils.visualize import visualize_materials as visualize\n",
    "from mat3ra.made.tools.build.supercell import create_supercell\n",
    "\n",
    "supercell = create_supercell(material, supercell_matrix=SUPERCELL_MATRIX)\n",
    "visualize(supercell, repetitions=[1, 1, 1], rotation=\"0x\")"
   ],
   "metadata": {
    "collapsed": false
   },
   "id": "926503f431d18cad",
   "execution_count": null
  },
  {
   "cell_type": "markdown",
   "source": [
    "## 2. Create the Defect\n",
    "### 2.1. Initialize Configuration and Builder parameters"
   ],
   "metadata": {
    "collapsed": false
   },
   "id": "2de6554d42e97c9d"
  },
  {
   "cell_type": "code",
   "outputs": [],
   "source": [
    "from mat3ra.made.tools.build.defect import AdatomSlabPointDefectConfiguration\n",
    "from mat3ra.made.tools.build.defect.builders import PointDefectBuilderParameters\n",
    "\n",
    "configurations = [AdatomSlabPointDefectConfiguration(crystal=supercell,\n",
    "                                                     defect_type=DEFECT_TYPE,\n",
    "                                                     placement_method=PLACEMENT_METHOD,\n",
    "                                                     chemical_element=adatom_parameters[\"chemical_element\"],\n",
    "                                                     distance_z=adatom_parameters[\"distance_z\"],\n",
    "                                                     position_on_surface=adatom_parameters[\"position_on_surface\"],\n",
    "                                                     use_cartesian_coordinates=USE_CARTESIAN_COORDINATES\n",
    "                                                     ) for adatom_parameters in ADATOM_PARAMETERS]\n",
    "\n",
    "defect_builder_parameters = PointDefectBuilderParameters()"
   ],
   "metadata": {
    "collapsed": false
   },
   "id": "74bee7e5ba62200a",
   "execution_count": null
  },
  {
   "cell_type": "markdown",
   "source": [
    "### 2.2. Create the defects"
   ],
   "metadata": {
    "collapsed": false
   },
   "id": "a0f09aafb5d9f4d1"
  },
  {
   "cell_type": "code",
   "outputs": [],
   "source": [
    "from mat3ra.made.tools.build.defect import create_slab_defect\n",
    "\n",
    "materials_with_adatom = [create_slab_defect(config) for config in configurations]"
   ],
   "metadata": {
    "collapsed": false
   },
   "id": "6fc8ad13e12845f",
   "execution_count": null
  },
  {
   "cell_type": "markdown",
   "source": [
    "## 3. Visualize Result(s)"
   ],
   "metadata": {
    "collapsed": false
   },
   "id": "5ebf2d6bb1a82b9a"
  },
  {
   "cell_type": "code",
   "outputs": [],
   "source": [
    "from utils.visualize import visualize_materials as visualize\n",
    "\n",
    "for material_with_defect in materials_with_adatom:\n",
    "    title = f\"{material_with_defect.metadata['build']['configuration']['chemical_element']} adatom\"\n",
    "    visualize([{\"material\": material_with_defect, \"title\": title},\n",
    "               {\"material\": material_with_defect, \"title\": title, \"rotation\": \"-90x\"}])"
   ],
   "metadata": {
    "collapsed": false
   },
   "id": "93a18e3e1d6e3e6e",
   "execution_count": null
  },
  {
   "cell_type": "markdown",
   "source": [
    "## 4. Download the Results"
   ],
   "metadata": {
    "collapsed": false
   },
   "id": "61176790d8d979e0"
  },
  {
   "cell_type": "code",
   "outputs": [],
   "source": [
    "from utils.jupyterlite import download_content_to_file\n",
    "\n",
    "for material_with_defect in materials_with_adatom:\n",
    "    download_content_to_file(material_with_defect.to_json(),\n",
    "                             f\"{material_with_defect.metadata['build']['configuration']['chemical_element']}_adatom.json\")"
   ],
   "metadata": {
    "collapsed": false
   },
   "id": "20ab1b4be207428c",
   "execution_count": null
  }
 ],
 "metadata": {
  "kernelspec": {
   "display_name": "Python 3",
   "language": "python",
   "name": "python3"
  },
  "language_info": {
   "codemirror_mode": {
    "name": "ipython",
    "version": 2
   },
   "file_extension": ".py",
   "mimetype": "text/x-python",
   "name": "python",
   "nbconvert_exporter": "python",
   "pygments_lexer": "ipython2",
   "version": "2.7.6"
  }
 },
 "nbformat": 4,
 "nbformat_minor": 5
}
