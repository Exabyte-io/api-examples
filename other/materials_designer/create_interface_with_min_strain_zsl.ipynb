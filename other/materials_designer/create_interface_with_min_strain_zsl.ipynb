{
  "cells": [
    {
      "cell_type": "markdown",
      "metadata": {},
      "source": [
        "# Create an interface between two materials with minimal strain\n",
        "\n",
        "Use Zur and McGill superlattices matching [algorithm](https://doi.org/10.1063/1.3330840) to create interfaces between two materials using the Pymatgen [implementation](https://pymatgen.org/pymatgen.analysis.interfaces.html#pymatgen.analysis.interfaces.zsl).\n",
        "\n",
        "## Usage\n",
        "\n",
        "1.  Execute cell below to load selected materials into global `materials_in` variable\n",
        "2.  Specify parameters (e.g. `MAX_AREA`) below or use the default values\n",
        "3.  Click \"Run\" > \"Run All\" to run all cells\n",
        "4.  Review the strain plot and modify its parameters as needed\n",
        "\n",
        "## Methodology\n",
        "\n",
        "The following happens in the script below:\n",
        "\n",
        "1. Create slabs for each input material. The materials data is passed in from and back to the web application according to the description [here](TBA).\n",
        "   We assume that two input materials are either in the bulk form (e.g. Ni crystal) or layered (e.g. graphene).\n",
        "\n",
        "2. Perform strain matching on the slabs to extract the supercell dimensions. The algorithm has a set of parameters, such as the maximum area considered, that can be configured by editing the cells below.\n",
        "\n",
        "3. When the strain matching is finished, the interface with the lowest strain (and the smallest number of atoms) is selected. We create the corresponding supercells and place them at a specified distance from each other (note no shift is performed currently).\n"
      ]
    },
    {
      "cell_type": "markdown",
      "metadata": {},
      "source": [
        "Execute cell below to install necessary packages and load materials into the environment.\n",
        "\n",
        "> **_IMPORTANT:_** This cell must be executed before the rest of the cells due to asynchronous nature of materials loading.\n"
      ]
    },
    {
      "cell_type": "code",
      "execution_count": null,
      "metadata": {},
      "outputs": [],
      "source": [
        "from jupyterlite.utils import install_packages, get_data, set_data\n",
        "\n",
        "await install_packages(\"create_interface_with_min_strain_zsl.ipynb\")\n",
        "\n",
        "# Get the list of input materials and load them into `materials_in` variable\n",
        "get_data(\"materials_in\")"
      ]
    },
    {
      "cell_type": "markdown",
      "metadata": {},
      "source": [
        "## Parameters\n",
        "\n",
        "### The algorithm parameters\n",
        "\n",
        "The following parameters are used for ZSL\n"
      ]
    },
    {
      "cell_type": "code",
      "execution_count": null,
      "metadata": {},
      "outputs": [],
      "source": [
        "ZSL_PARAMETERS = {\n",
        "    \"MAX_AREA\": 400,  # The area to consider in Angstrom^2\n",
        "    \"MAX_AREA_TOL\": 0.09,  # The area within this tolerance is considered equal\n",
        "    \"MAX_LENGTH_TOL\": 0.03,  # supercell lattice vectors lengths within this tolerance are considered equal\n",
        "    \"MAX_ANGLE_TOL\": 0.01,  # supercell lattice angles within this tolerance are considered equal\n",
        "    \"STRAIN_TOL\": 10e-6,  # strains within this tolerance are considered equal\n",
        "}"
      ]
    },
    {
      "cell_type": "markdown",
      "metadata": {},
      "source": [
        "### Select Materials\n",
        "\n",
        "We set which material is considered \"substrate\" (bottom) and which \"layer\" (top) using the indexes from the list of materials passed. Additionally, we also set miller indices and thickness of the corresponding slabs.\n"
      ]
    },
    {
      "cell_type": "code",
      "execution_count": null,
      "metadata": {},
      "outputs": [],
      "source": [
        "SUBSTRATE_PARAMETERS = {\n",
        "    \"MATERIAL_INDEX\": 0,  # the index in the list of input materials\n",
        "    \"MILLER_INDICES\": (1, 1, 1),  # the miller indices of the interfacial plane\n",
        "    \"THICKNESS\": 3,  # in layers\n",
        "}\n",
        "\n",
        "LAYER_PARAMETERS = {\n",
        "    \"MATERIAL_INDEX\": 1,  # the index in the list of input materials\n",
        "    \"MILLER_INDICES\": (0, 0, 1),  # the miller indices of the interfacial plane\n",
        "    \"THICKNESS\": 1,  # in layers\n",
        "}"
      ]
    },
    {
      "cell_type": "markdown",
      "metadata": {},
      "source": [
        "## Interface Parameters\n",
        "\n",
        "The resulting interface will be set accordingly\n"
      ]
    },
    {
      "cell_type": "code",
      "execution_count": null,
      "metadata": {},
      "outputs": [],
      "source": [
        "INTERFACE_PARAMETERS = {\"DISTANCE_Z\": 3.0}  # in Angstrom"
      ]
    },
    {
      "cell_type": "markdown",
      "metadata": {},
      "source": [
        "## Create interfaces\n",
        "\n",
        "All possible combinations within the maximum area considered are produced.\n"
      ]
    },
    {
      "cell_type": "code",
      "execution_count": null,
      "metadata": {
        "tags": [],
        "trusted": true
      },
      "outputs": [],
      "source": [
        "from src.pymatgen_coherent_interface_builder import CoherentInterfaceBuilder, ZSLGenerator\n",
        "from src.utils import to_pymatgen, from_pymatgen\n",
        "from operator import itemgetter\n",
        "\n",
        "pymatgen_materials = [to_pymatgen(item) for item in materials_in]\n",
        "for material in pymatgen_materials:\n",
        "    print(material)\n",
        "\n",
        "\n",
        "def create_interfaces(settings):\n",
        "    print(\"Creating interfaces...\")\n",
        "    zsl = ZSLGenerator(\n",
        "        max_area_ratio_tol=settings[\"ZSL_PARAMETERS\"][\"MAX_AREA_TOL\"],\n",
        "        max_area=settings[\"ZSL_PARAMETERS\"][\"MAX_AREA\"],\n",
        "        max_length_tol=settings[\"ZSL_PARAMETERS\"][\"MAX_LENGTH_TOL\"],\n",
        "        max_angle_tol=settings[\"ZSL_PARAMETERS\"][\"MAX_ANGLE_TOL\"],\n",
        "    )\n",
        "\n",
        "    cib = CoherentInterfaceBuilder(\n",
        "        substrate_structure=pymatgen_materials[settings[\"SUBSTRATE_PARAMETERS\"][\"MATERIAL_INDEX\"]],\n",
        "        film_structure=pymatgen_materials[settings[\"LAYER_PARAMETERS\"][\"MATERIAL_INDEX\"]],\n",
        "        substrate_miller=settings[\"SUBSTRATE_PARAMETERS\"][\"MILLER_INDICES\"],\n",
        "        film_miller=settings[\"LAYER_PARAMETERS\"][\"MILLER_INDICES\"],\n",
        "        zslgen=zsl,\n",
        "        strain_tol=settings[\"ZSL_PARAMETERS\"][\"STRAIN_TOL\"],\n",
        "    )\n",
        "\n",
        "    # Find terminations\n",
        "    cib._find_terminations()\n",
        "    terminations = cib.terminations\n",
        "\n",
        "    # Create interfaces for each termination\n",
        "    interfaces = {}\n",
        "    for termination in terminations:\n",
        "        interfaces[termination] = []\n",
        "        for interface in cib.get_interfaces(\n",
        "            termination,\n",
        "            gap=settings[\"INTERFACE_PARAMETERS\"][\"DISTANCE_Z\"],\n",
        "            film_thickness=settings[\"LAYER_PARAMETERS\"][\"THICKNESS\"],\n",
        "            substrate_thickness=settings[\"SUBSTRATE_PARAMETERS\"][\"THICKNESS\"],\n",
        "            in_layers=True,\n",
        "        ):\n",
        "            interfaces[termination].append(interface)\n",
        "    return interfaces, terminations\n",
        "\n",
        "\n",
        "interfaces, terminations = create_interfaces(\n",
        "    settings={\n",
        "        \"SUBSTRATE_PARAMETERS\": SUBSTRATE_PARAMETERS,\n",
        "        \"LAYER_PARAMETERS\": LAYER_PARAMETERS,\n",
        "        \"ZSL_PARAMETERS\": ZSL_PARAMETERS,\n",
        "        \"INTERFACE_PARAMETERS\": INTERFACE_PARAMETERS,\n",
        "    }\n",
        ")\n",
        "\n",
        "for termination in terminations:\n",
        "    print(f\"Found {len(interfaces[terminations[0]])} interfaces for\", termination, \"termination\")"
      ]
    },
    {
      "cell_type": "markdown",
      "metadata": {},
      "source": [
        "## Sort interfaces by strain\n",
        "\n",
        "We use mean absolute strain and sort the output accordingly.\n"
      ]
    },
    {
      "cell_type": "code",
      "execution_count": null,
      "metadata": {},
      "outputs": [],
      "source": [
        "strain_modes = {\n",
        "    \"VON_MISES\": \"von_mises_strain\",\n",
        "    \"STRAIN\": \"strain\",\n",
        "    \"MEAN\": \"mean_abs_strain\",\n",
        "}\n",
        "strain_mode = strain_modes[\"MEAN\"]\n",
        "\n",
        "# For each interface make a unitary supercell to wrap elements inside the unit cell\n",
        "for termination in terminations:\n",
        "    for i, interface in enumerate(interfaces[termination]):\n",
        "        interfaces[termination][i] = interface[\"interface\"].make_supercell((1, 1, 1), to_unit_cell=True)\n",
        "\n",
        "# Sort interfaces by ascending strain and then by ascending number of atoms\n",
        "sorted_interfaces = sorted(\n",
        "    interfaces,\n",
        "    key=lambda x: (itemgetter(strain_mode)(x), x[\"interface\"].num_sites),\n",
        ")\n",
        "for termination in terminations:\n",
        "    print(f\"Interface with lowest strain for termination {termination} (index 0):\")\n",
        "    print(\"    strain:\", sorted_interfaces[termination][0][strain_mode] * 100, \"%\")\n",
        "    print(\"    number of atoms:\", sorted_interfaces[termination][0][\"interface\"].num_sites)"
      ]
    },
    {
      "cell_type": "markdown",
      "metadata": {},
      "source": [
        "## Plot the number of atoms vs strain\n",
        "\n",
        "Adjust the plot parameters as needed.\n"
      ]
    },
    {
      "cell_type": "code",
      "execution_count": null,
      "metadata": {},
      "outputs": [],
      "source": [
        "import plotly.graph_objs as go\n",
        "import plotly.express as px\n",
        "from collections import defaultdict\n",
        "\n",
        "PLOT_SETTINGS = {\n",
        "    \"HEIGHT\": 600,\n",
        "    \"X_SCALE\": \"log\",\n",
        "    \"Y_SCALE\": \"log\",\n",
        "}\n",
        "\n",
        "\n",
        "def plotly_strain_vs_atoms(strain_mode, sorted_interfaces, settings):\n",
        "    # Group interfaces by strain and number of atoms\n",
        "    grouped_interfaces = defaultdict(list)\n",
        "    for termination, interfaces in sorted_interfaces.items():\n",
        "        for index, i in enumerate(interfaces):\n",
        "            key = (i[strain_mode] * 100, i[\"interface\"].num_sites)  # in percentage\n",
        "            grouped_interfaces[key].append((index, termination))\n",
        "\n",
        "    x = []\n",
        "    y = []\n",
        "    hover_text = []\n",
        "    for (strain, num_sites), indices_and_terminations in grouped_interfaces.items():\n",
        "        x.append(strain)\n",
        "        y.append(num_sites)\n",
        "        # Only include the interface with the smallest index for each termination\n",
        "        indices_and_terminations = sorted(indices_and_terminations)\n",
        "        termination_indices = defaultdict(list)\n",
        "        for index, termination in indices_and_terminations:\n",
        "            termination_indices[termination].append(index)\n",
        "        hover_text.append(\n",
        "            \"<br>-----<br>\".join(\n",
        "                f\"Termination: {termination}<br>Index: {min(indices)}<br>Strain: {strain:.2f}%<br>Atoms: {num_sites}\"\n",
        "                for termination, indices in termination_indices.items()\n",
        "            )\n",
        "        )\n",
        "\n",
        "    fig = px.scatter(x=x, y=y, log_x=(settings[\"X_SCALE\"] == \"log\"), log_y=(settings[\"Y_SCALE\"] == \"log\"))\n",
        "    fig.update_traces(hovertemplate=hover_text)\n",
        "    fig.update_layout(\n",
        "        xaxis=dict(title=\"Strain (%)\"),\n",
        "        yaxis=dict(title=\"Number of atoms\"),\n",
        "        hovermode=\"closest\",\n",
        "        height=settings[\"HEIGHT\"],\n",
        "    )\n",
        "    fig.show()\n",
        "\n",
        "\n",
        "plotly_strain_vs_atoms(strain_mode, sorted_interfaces, settings=PLOT_SETTINGS)\n",
        "print(\"Terminations:\", terminations)"
      ]
    },
    {
      "cell_type": "markdown",
      "metadata": {},
      "source": [
        "## Select interface with desired termination and with minimal strain\n",
        "\n",
        "Select termination by its index in the terminations list (0 by default) and interface by its index in the sorted array for that termination.\n"
      ]
    },
    {
      "cell_type": "code",
      "execution_count": null,
      "metadata": {},
      "outputs": [],
      "source": [
        "termination_index = 0\n",
        "interface_index = 0\n",
        "selected_interface = from_pymatgen(sorted_interfaces[terminations[termination_index]][interface_index][\"interface\"])"
      ]
    },
    {
      "cell_type": "markdown",
      "metadata": {},
      "source": [
        "## Pass to the outside runtime\n",
        "\n",
        "As below\n"
      ]
    },
    {
      "cell_type": "code",
      "execution_count": null,
      "metadata": {},
      "outputs": [],
      "source": [
        "output_materials = [selected_interface]\n",
        "set_data(\"materials\", output_materials)"
      ]
    }
  ],
  "metadata": {
    "kernelspec": {
      "display_name": ".venv",
      "language": "python",
      "name": "python3"
    },
    "language_info": {
      "codemirror_mode": {
        "name": "ipython",
        "version": 3
      },
      "file_extension": ".py",
      "mimetype": "text/x-python",
      "name": "python",
      "nbconvert_exporter": "python",
      "pygments_lexer": "ipython3",
      "version": "3.10.12"
    },
    "widgets": {
      "application/vnd.jupyter.widget-state+json": {
        "state": {},
        "version_major": 2,
        "version_minor": 0
      }
    }
  },
  "nbformat": 4,
  "nbformat_minor": 4
}
