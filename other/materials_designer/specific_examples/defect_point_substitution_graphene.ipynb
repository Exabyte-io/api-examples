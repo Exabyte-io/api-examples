{
 "cells": [
  {
   "cell_type": "markdown",
   "source": [
    "# Substitutional Point Defects in Graphene\n",
    "\n",
    "## 0. Introduction\n",
    "\n",
    "This tutorial demonstrates the process of creating materials with substitution defects, based on the work presented in the following manuscript, where nitrogen defects in graphene are studied.\n",
    "\n",
    "[//]: # (<embed src=\"https://journals.aps.org/prb/abstract/10.1103/PhysRevB.84.245446\" width=\"100%\" height=\"300\">)\n",
    "\n",
    "> **Yoshitaka Fujimoto and Susumu Saito**, \"Formation, stabilities, and electronic properties of nitrogen defects in graphene\", Physical Review B, 2011. [DOI: 10.1103/PhysRevB.84.245446](https://journals.aps.org/prb/abstract/10.1103/PhysRevB.84.245446).\n",
    "> \n",
    "Below is the figure 1 from the manuscript demonstrating the nitrogen substitution defects in graphene.\n",
    "\n",
    "![Fig 1.](https://i.imgur.com/V6r07c3.png)\n",
    "\n",
    "In this notebook we will reproduce material from FIG. 1 b)\n"
   ],
   "metadata": {
    "collapsed": false
   },
   "id": "f0ccd3190ce70a68"
  },
  {
   "cell_type": "markdown",
   "source": [
    "## 1. Prepare the Environment\n",
    "### 1.1. Set up defects parameters \n",
    "Defect Configuration parameters are described in [Defect Configuration](https://github.com/Exabyte-io/made/blob/8196b759242551c77d1791bf5bd2f4150763cfef/src/py/mat3ra/made/tools/build/defect/configuration.py#L102).\n",
    "\n",
    "Note that we use approximate coordinates in crystal coordinates to define the defect positions. The approximate coordinates are used to find the closest site in the crystal to the given coordinates. The approximate coordinates are in the range of [0, 1] for each axis. Adjust the approximate coordinates to place the defect at the desired site in the crystal. Using the visuals provided in the notebook could help in determining the approximate coordinates.\n",
    "(Coordinates found using 3D editor in Materials Designer)"
   ],
   "metadata": {
    "collapsed": false
   },
   "id": "aae97744e3023a1b"
  },
  {
   "cell_type": "code",
   "outputs": [],
   "source": [
    "# Element to be placed at the site (ignored for vacancy)\n",
    "CHEMICAL_ELEMENT = \"N\"\n",
    "\n",
    "SUPERCELL_MATRIX = [[4, 0, 0], [0, 4, 0], [0, 0, 1]]\n",
    "USE_CARTESIAN_COORDINATES = True\n",
    "\n",
    "DEFECT_CONFIGS = [\n",
    "    {\n",
    "        \"defect_type\": \"substitution\",\n",
    "        \"approximate_coordinate\": [4.9, 2.85, 10],\n",
    "        \"chemical_element\": CHEMICAL_ELEMENT,\n",
    "        \"use_cartesian_coordinates\": USE_CARTESIAN_COORDINATES\n",
    "    },\n",
    "      {\n",
    "        \"defect_type\": \"substitution\",\n",
    "        \"approximate_coordinate\": [3.7, 4.9, 10],\n",
    "        \"chemical_element\": CHEMICAL_ELEMENT,\n",
    "        \"use_cartesian_coordinates\": USE_CARTESIAN_COORDINATES\n",
    "    },\n",
    "      {\n",
    "        \"defect_type\": \"substitution\",\n",
    "        \"approximate_coordinate\": [2.45, 2.85, 10],\n",
    "        \"chemical_element\": CHEMICAL_ELEMENT,\n",
    "        \"use_cartesian_coordinates\": USE_CARTESIAN_COORDINATES\n",
    "    },\n",
    "      {\n",
    "        \"defect_type\": \"vacancy\",\n",
    "        \"approximate_coordinate\": [3.7, 3.55, 10],\n",
    "        \"use_cartesian_coordinates\": USE_CARTESIAN_COORDINATES\n",
    "    },\n",
    "    \n",
    "]  "
   ],
   "metadata": {
    "collapsed": false
   },
   "id": "dff59577346dbece",
   "execution_count": null
  },
  {
   "cell_type": "markdown",
   "source": [
    "### 1.2. Install Packages\n",
    "The step executes only in Pyodide environment. For other environments, the packages should be installed via `pip install` (see [README](../../README.ipynb))."
   ],
   "metadata": {
    "collapsed": false
   },
   "id": "14d161d4b61ca219"
  },
  {
   "cell_type": "code",
   "outputs": [],
   "source": [
    "import sys\n",
    "\n",
    "if sys.platform == \"emscripten\":\n",
    "    import micropip\n",
    "\n",
    "    await micropip.install('mat3ra-api-examples', deps=False)\n",
    "    from utils.jupyterlite import install_packages\n",
    "\n",
    "    await install_packages(\"create_point_defect.ipynb\")"
   ],
   "metadata": {
    "collapsed": false
   },
   "id": "8c6ea8b36f1a6cc",
   "execution_count": null
  },
  {
   "cell_type": "markdown",
   "source": [
    "### 1.3. Load input material\n",
    "In this notebook we will use the material from the `uploads` folder that has a few pre-set materials."
   ],
   "metadata": {
    "collapsed": false
   },
   "id": "da6733a515019677"
  },
  {
   "cell_type": "code",
   "outputs": [],
   "source": [
    "from utils.jupyterlite import load_material_from_folder\n",
    "\n",
    "material = load_material_from_folder(\"../uploads\", \"Graphene\")"
   ],
   "metadata": {
    "collapsed": false
   },
   "id": "14c40630ba2974e6",
   "execution_count": null
  },
  {
   "cell_type": "markdown",
   "source": [
    "### 1.4. Create and preview Supercell"
   ],
   "metadata": {
    "collapsed": false
   },
   "id": "9fcc51573071c301"
  },
  {
   "cell_type": "code",
   "outputs": [],
   "source": [
    "from utils.visualize import visualize_materials as visualize\n",
    "from mat3ra.made.tools.build.supercell import create_supercell\n",
    "\n",
    "supercell = create_supercell(material, supercell_matrix=SUPERCELL_MATRIX)\n",
    "visualize(supercell, repetitions=[1, 1, 1], rotation=\"0x\")"
   ],
   "metadata": {
    "collapsed": false
   },
   "id": "6d5a793dd5e45f16",
   "execution_count": null
  },
  {
   "cell_type": "markdown",
   "source": [
    "## 2. Create the Defect\n",
    "### 2.1. Initialize Configuration and Builder parameters"
   ],
   "metadata": {
    "collapsed": false
   },
   "id": "e41cf1646620915d"
  },
  {
   "cell_type": "code",
   "outputs": [],
   "source": [
    "from mat3ra.made.tools.build.defect import PointDefectConfiguration\n",
    "from mat3ra.made.tools.build.defect.builders import PointDefectBuilderParameters\n",
    "\n",
    "defect_configurations = [PointDefectConfiguration.from_dict(supercell, defect) for defect in DEFECT_CONFIGS]\n",
    "\n",
    "defect_builder_parameters = PointDefectBuilderParameters(center_defect=False)"
   ],
   "metadata": {
    "collapsed": false
   },
   "id": "ae3bc8ed1bf133f4",
   "execution_count": null
  },
  {
   "cell_type": "markdown",
   "source": [
    "### 2.2. Create the defects"
   ],
   "metadata": {
    "collapsed": false
   },
   "id": "3a7b1416f29b2606"
  },
  {
   "cell_type": "code",
   "outputs": [],
   "source": [
    "from mat3ra.made.tools.build.defect import create_defects\n",
    "\n",
    "material_with_defect = create_defects(builder_parameters=defect_builder_parameters, configurations=defect_configurations)"
   ],
   "metadata": {
    "collapsed": false
   },
   "id": "db2d621e2fd4bbeb",
   "execution_count": null
  },
  {
   "cell_type": "markdown",
   "source": [
    "## 3. Visualize Result(s)"
   ],
   "metadata": {
    "collapsed": false
   },
   "id": "2b58b5e76bd167d8"
  },
  {
   "cell_type": "code",
   "outputs": [],
   "source": [
    "from utils.visualize import visualize_materials as visualize\n",
    "\n",
    "visualize([{\"material\": supercell, \"title\": \"Original material\"},\n",
    "           {\"material\": material_with_defect, \"title\": f\"Material with defect\"}],\n",
    "          rotation=\"-90x\")\n",
    "visualize([{\"material\": supercell, \"title\": \"Original material\"},\n",
    "           {\"material\": material_with_defect, \"title\": f\"Material with defect\"}])"
   ],
   "metadata": {
    "collapsed": false
   },
   "id": "d4a1e920884b1a48",
   "execution_count": null
  },
  {
   "cell_type": "markdown",
   "source": [
    "## 4. Write resulting material to the folder"
   ],
   "metadata": {
    "collapsed": false
   },
   "id": "865c3b666e06fd10"
  },
  {
   "cell_type": "code",
   "outputs": [],
   "source": [
    "from utils.jupyterlite import download_content_to_file\n",
    "material_with_defect.name = \"N-doped Graphene\"\n",
    "download_content_to_file(material_with_defect.to_json(), \"N-doped_Graphene.json\")"
   ],
   "metadata": {
    "collapsed": false
   },
   "id": "7dcf867f46422fa9",
   "execution_count": null
  }
 ],
 "metadata": {
  "kernelspec": {
   "display_name": "Python 3",
   "language": "python",
   "name": "python3"
  },
  "language_info": {
   "codemirror_mode": {
    "name": "ipython",
    "version": 2
   },
   "file_extension": ".py",
   "mimetype": "text/x-python",
   "name": "python",
   "nbconvert_exporter": "python",
   "pygments_lexer": "ipython2",
   "version": "2.7.6"
  }
 },
 "nbformat": 4,
 "nbformat_minor": 5
}
