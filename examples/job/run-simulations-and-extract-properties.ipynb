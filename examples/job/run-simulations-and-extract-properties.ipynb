version https://git-lfs.github.com/spec/v1
oid sha256:b3575e7a7a68bfa24a7e492c37c5d8dc8c1fa5d8591a51ced0b24b9fdf40e701
size 68873
