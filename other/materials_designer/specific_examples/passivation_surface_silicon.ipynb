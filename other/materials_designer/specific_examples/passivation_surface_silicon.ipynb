{
 "cells": [
  {
   "cell_type": "markdown",
   "id": "0",
   "metadata": {},
   "source": [
    "# Passivation of Silicon (001) Surface\n",
    "\n",
    "## 0. Introduction.\n",
    "\n",
    "In this notebook, we will demonstrate how to passivate a reconstructed silicon (100) surface with hydrogen atoms. Following the publication: \n",
    "\n",
    "> **Hansen, U., & Vogl, P.**\n",
    "> \"Hydrogen passivation of silicon surfaces: A classical molecular-dynamics study.\"\n",
    "> Physical Review B, 57(20), 13295–13304. (1998).\n",
    "> [DOI: 10.1103/PhysRevB.57.13295](https://doi.org/10.1103/PhysRevB.57.13295)\n",
    "\n",
    "\n",
    "This notebook will focus on recreating the material from Fig. 8.:\n",
    "\n",
    "<img src=\"https://github.com/Exabyte-io/documentation/raw/12617167278ae3523adc028583b21ea4e8ebd197/images/tutorials/materials/passivation/passivation_surface_silicon/0-figure-from-manuscript.webp\" alt=\"H-Passivated Silicon (100)\" width=\"400\"/>"
   ]
  },
  {
   "cell_type": "markdown",
   "id": "1",
   "metadata": {},
   "source": [
    "## 1. Prepare the environment\n",
    "### 1.1. Set up the notebook"
   ]
  },
  {
   "cell_type": "code",
   "execution_count": null,
   "id": "2",
   "metadata": {},
   "outputs": [],
   "source": [
    "# Material selection\n",
    "MATERIAL_NAME = \"Silicon.*100.*reconstructed\"  # Name (regex) of the material to import from Standata\n",
    "\n",
    "# Passivation parameters\n",
    "PASSIVANT = \"H\"  # Chemical symbol of passivating atom\n",
    "BOND_LENGTH = 1.46  # Distance from surface to passivant, in Angstroms\n",
    "SURFACE = \"top\"  # Which surface to passivate: \"top\", \"bottom\" or \"both\"\n",
    "\n",
    "# Surface detection parameters\n",
    "SHADOWING_RADIUS = 1.8  # Radius to exclude subsurface atoms, in Angstroms\n",
    "DEPTH = 0.5  # How deep to look for surface atoms, in Angstroms\n",
    "\n",
    "# Visualization parameters\n",
    "SHOW_INTERMEDIATE_STEPS = True\n",
    "CELL_REPETITIONS_FOR_VISUALIZATION = [1, 1, 1]  # Structure repeat in view"
   ]
  },
  {
   "cell_type": "markdown",
   "id": "3",
   "metadata": {},
   "source": [
    "### 1.2. Install packages\n",
    "The step executes only in Pyodide environment. For other environments, the packages should be installed via `pip install`."
   ]
  },
  {
   "cell_type": "code",
   "execution_count": null,
   "id": "4",
   "metadata": {},
   "outputs": [],
   "source": [
    "import sys\n",
    "\n",
    "if sys.platform == \"emscripten\":\n",
    "    import micropip\n",
    "\n",
    "    await micropip.install(\"mat3ra-api-examples\", deps=False)\n",
    "    await micropip.install('mat3ra-utils')\n",
    "    from mat3ra.utils.jupyterlite.packages import install_packages\n",
    "\n",
    "    await install_packages(\"specific_examples\")"
   ]
  },
  {
   "cell_type": "markdown",
   "id": "5",
   "metadata": {},
   "source": [
    "### 1.3. Load and preview input material"
   ]
  },
  {
   "cell_type": "code",
   "execution_count": null,
   "id": "6",
   "metadata": {},
   "outputs": [],
   "source": [
    "from mat3ra.made.material import Material\n",
    "from mat3ra.standata.materials import Materials\n",
    "\n",
    "slab = Material.create(Materials.get_by_name_first_match(MATERIAL_NAME))"
   ]
  },
  {
   "cell_type": "markdown",
   "id": "7",
   "metadata": {},
   "source": [
    "## 2. Prepare the material\n",
    "### 2.1. Visualize original material"
   ]
  },
  {
   "cell_type": "code",
   "execution_count": null,
   "id": "8",
   "metadata": {},
   "outputs": [],
   "source": [
    "from utils.visualize import visualize_materials\n",
    "\n",
    "if SHOW_INTERMEDIATE_STEPS:\n",
    "    print(\"Initial slab structure:\")\n",
    "    visualize_materials(slab, repetitions=CELL_REPETITIONS_FOR_VISUALIZATION)\n",
    "    visualize_materials(slab, repetitions=CELL_REPETITIONS_FOR_VISUALIZATION, rotation=\"-90x\")"
   ]
  },
  {
   "cell_type": "markdown",
   "id": "9",
   "metadata": {},
   "source": [
    "### 2.2. Adjust structure to match the one from the manuscript"
   ]
  },
  {
   "cell_type": "code",
   "execution_count": null,
   "id": "10",
   "metadata": {},
   "outputs": [],
   "source": [
    "from mat3ra.made.tools.modify import translate_to_z_level\n",
    "# Find coordinates of the Si atoms, list in descending order, and change the second one from the top\n",
    "si_atoms_coordinates = [coordinate for coordinate in slab.basis.coordinates.values]\n",
    "si_atoms_sorted = sorted(si_atoms_coordinates, key=lambda x: x[2], reverse=True)\n",
    "second_from_top_index = 1\n",
    "second_si_atom_coordinate = si_atoms_sorted[second_from_top_index]\n",
    "\n",
    "print(f\"Coordinates of the second Si atom: {second_si_atom_coordinate}\")\n",
    "adjusted_coordinate = [\n",
    "    coord + delta for coord, delta in zip(second_si_atom_coordinate, [0.025, 0, 0.025])\n",
    "]\n",
    "print(f\"Adjusted coordinate: {adjusted_coordinate}\")\n",
    "new_coordinates = si_atoms_coordinates.copy()\n",
    "index_to_adjust = slab.basis.coordinates.get_element_id_by_value(second_si_atom_coordinate)\n",
    "new_coordinates[index_to_adjust] = adjusted_coordinate\n",
    "slab.set_coordinates(new_coordinates)\n",
    "slab = translate_to_z_level(slab, \"center\")"
   ]
  },
  {
   "cell_type": "markdown",
   "id": "11",
   "metadata": {},
   "source": [
    "### 2.3. Visualize adjusted material"
   ]
  },
  {
   "cell_type": "code",
   "execution_count": null,
   "id": "12",
   "metadata": {},
   "outputs": [],
   "source": [
    "if SHOW_INTERMEDIATE_STEPS:\n",
    "    print(\"Adjusted slab structure:\")\n",
    "    visualize_materials(slab, repetitions=CELL_REPETITIONS_FOR_VISUALIZATION)\n",
    "    visualize_materials(slab, repetitions=CELL_REPETITIONS_FOR_VISUALIZATION, rotation=\"-90x\")"
   ]
  },
  {
   "cell_type": "markdown",
   "id": "13",
   "metadata": {},
   "source": [
    "## 3. Create passivated material\n"
   ]
  },
  {
   "cell_type": "code",
   "execution_count": null,
   "id": "14",
   "metadata": {},
   "outputs": [],
   "source": [
    "from mat3ra.made.tools.helpers import passivate_surface\n",
    "\n",
    "passivated_slab = passivate_surface(\n",
    "    material=slab,\n",
    "    passivant=PASSIVANT,\n",
    "    bond_length=BOND_LENGTH,\n",
    "    surface=SURFACE,\n",
    "    shadowing_radius=SHADOWING_RADIUS,\n",
    "    depth=DEPTH\n",
    ")\n",
    "\n",
    "print(\"\\nPassivation completed:\")\n",
    "print(f\"Passivant used: {PASSIVANT}\")\n",
    "print(f\"Bond length: {BOND_LENGTH} Å\")\n",
    "print(f\"Surfaces passivated: {SURFACE}\")\n",
    "print(f\"Number of atoms: {len(passivated_slab.basis.elements.ids)}\")"
   ]
  },
  {
   "cell_type": "markdown",
   "id": "15",
   "metadata": {},
   "source": [
    "## 4. Visualize the result"
   ]
  },
  {
   "cell_type": "code",
   "execution_count": null,
   "id": "16",
   "metadata": {},
   "outputs": [],
   "source": [
    "print(\"Final passivated structure:\")\n",
    "visualize_materials(passivated_slab, viewer=\"wave\")"
   ]
  },
  {
   "cell_type": "markdown",
   "id": "17",
   "metadata": {},
   "source": [
    "### 5. Pass data to the outside runtime\n"
   ]
  },
  {
   "cell_type": "code",
   "execution_count": null,
   "id": "18",
   "metadata": {},
   "outputs": [],
   "source": [
    "from utils.jupyterlite import download_content_to_file, set_materials\n",
    "\n",
    "set_materials(passivated_slab)\n",
    "download_content_to_file(passivated_slab.to_json(), f\"{slab.name}_passivated.json\")"
   ]
  }
 ],
 "metadata": {
  "kernelspec": {
   "display_name": "Python 3",
   "language": "python",
   "name": "python3"
  },
  "language_info": {
   "codemirror_mode": {
    "name": "ipython",
    "version": 2
   },
   "file_extension": ".py",
   "mimetype": "text/x-python",
   "name": "python",
   "nbconvert_exporter": "python",
   "pygments_lexer": "ipython2",
   "version": "2.7.6"
  }
 },
 "nbformat": 4,
 "nbformat_minor": 5
}
