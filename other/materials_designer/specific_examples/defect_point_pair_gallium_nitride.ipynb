{
 "cells": [
  {
   "cell_type": "markdown",
   "id": "4f901763903359e6",
   "metadata": {
    "collapsed": false
   },
   "source": [
    "# Vacancy and Substitutional defect pair in GaN\n",
    "\n",
    "Focusing on recreating the defect pair in GaN from the Figure 1. c) in the publication:\n",
    "\n",
    "<img src=\"https://github.com/Exabyte-io/documentation/raw/12617167278ae3523adc028583b21ea4e8ebd197/images/tutorials/materials/defects/defect_point_pair_gallium_nitride/0-figure-from-manuscript.webp\" width=\"400\" />"
   ]
  },
  {
   "cell_type": "markdown",
   "id": "7863267c827cfbc2",
   "metadata": {
    "collapsed": false
   },
   "source": [
    "## 1. Prepare the Environment\n",
    "### 1.1. Set up defects parameters \n",
    "Defect Configuration parameters are described in [Defect Configuration](https://github.com/Exabyte-io/made/blob/8196b759242551c77d1791bf5bd2f4150763cfef/src/py/mat3ra/made/tools/build/defect/configuration.py#L102)."
   ]
  },
  {
   "cell_type": "code",
   "id": "f941f8a0bb45817f",
   "metadata": {},
   "source": [
    "from types import SimpleNamespace\n",
    "\n",
    "SUPERCELL_MATRIX = [[3, 0, 0], [0, 3, 0], [0, 0, 2]]\n",
    "\n",
    "# Configuration using SimpleNamespace for dot notation access\n",
    "PRIMARY_DEFECT_CONFIG = SimpleNamespace(\n",
    "    defect_type=\"substitution\",\n",
    "    coordinate=[0.5, 0.5, 0.5],\n",
    "    element=\"Mg\",\n",
    "    placement_method=\"closest_site\",\n",
    ")\n",
    "\n",
    "SECONDARY_DEFECT_CONFIG = SimpleNamespace(\n",
    "    defect_type=\"vacancy\",\n",
    "    coordinate=[0.5, 0.5, 0.65],\n",
    "    placement_method=\"closest_site\",\n",
    ")"
   ],
   "outputs": [],
   "execution_count": null
  },
  {
   "cell_type": "markdown",
   "id": "808283dd8fe53a58",
   "metadata": {},
   "source": [
    "### 1.2. Install Packages\n",
    "The step executes only in Pyodide environment. For other environments, the packages should be installed via `pip install` (see [README](../../README.ipynb))."
   ]
  },
  {
   "cell_type": "code",
   "id": "e02d623e22f90fc7",
   "metadata": {},
   "source": [
    "import sys\n",
    "\n",
    "if sys.platform == \"emscripten\":\n",
    "    import micropip\n",
    "\n",
    "    await micropip.install(\"mat3ra-api-examples\", deps=False)\n",
    "    await micropip.install('mat3ra-utils')\n",
    "    from mat3ra.utils.jupyterlite.packages import install_packages\n",
    "\n",
    "    await install_packages(\"specific_examples|create_point_defect.ipynb\")"
   ],
   "outputs": [],
   "execution_count": null
  },
  {
   "cell_type": "markdown",
   "id": "683ce558645b4465",
   "metadata": {
    "collapsed": false
   },
   "source": [
    "### 1.3. Get input materials\n",
    "Materials are loaded with `get_materials()`."
   ]
  },
  {
   "cell_type": "code",
   "id": "4a6bab14f63024d1",
   "metadata": {
    "collapsed": false
   },
   "source": [
    "from mat3ra.standata.materials import Materials\n",
    "from mat3ra.made.material import Material\n",
    "from utils.visualize import visualize_materials as visualize\n",
    "\n",
    "material = Material.create(Materials.get_by_name_first_match(\"GaN\"))\n",
    "visualize(material)"
   ],
   "outputs": [],
   "execution_count": null
  },
  {
   "cell_type": "code",
   "id": "c574c219",
   "metadata": {},
   "source": [
    "unit_cell = material\n"
   ],
   "outputs": [],
   "execution_count": null
  },
  {
   "cell_type": "markdown",
   "id": "acfef1aa207eb977",
   "metadata": {
    "collapsed": false
   },
   "source": [
    "### 1.4. Create and preview Supercell"
   ]
  },
  {
   "cell_type": "code",
   "id": "4580fda63efa927e",
   "metadata": {
    "collapsed": false
   },
   "source": [
    "from mat3ra.made.tools.build.supercell import create_supercell\n",
    "\n",
    "supercell = create_supercell(unit_cell, supercell_matrix=SUPERCELL_MATRIX)\n",
    "visualize(supercell, repetitions=[1, 1, 1], rotation=\"-90x\")"
   ],
   "outputs": [],
   "execution_count": null
  },
  {
   "cell_type": "code",
   "id": "85013c49",
   "metadata": {},
   "source": [
    "from mat3ra.made.tools.build.defect.pair_defect.helpers import create_pair_defect\n",
    "\n",
    "material_with_defect = create_pair_defect(\n",
    "    material=supercell,\n",
    "    defect_type_1=PRIMARY_DEFECT_CONFIG.defect_type,\n",
    "    coordinate_1=PRIMARY_DEFECT_CONFIG.coordinate,\n",
    "    element_1=PRIMARY_DEFECT_CONFIG.element if hasattr(PRIMARY_DEFECT_CONFIG, \"element\") else None,\n",
    "    placement_method_1=PRIMARY_DEFECT_CONFIG.placement_method if hasattr(PRIMARY_DEFECT_CONFIG, 'placement_method') else None,\n",
    "    defect_type_2=SECONDARY_DEFECT_CONFIG.defect_type,\n",
    "    coordinate_2=SECONDARY_DEFECT_CONFIG.coordinate,\n",
    "    element_2=SECONDARY_DEFECT_CONFIG.element if hasattr(SECONDARY_DEFECT_CONFIG, \"element\") else None,\n",
    "    placement_method_2=SECONDARY_DEFECT_CONFIG.placement_method if hasattr(SECONDARY_DEFECT_CONFIG, 'placement_method') else None,\n",
    ")\n"
   ],
   "outputs": [],
   "execution_count": null
  },
  {
   "cell_type": "markdown",
   "id": "4391a0f444f4b64a",
   "metadata": {
    "collapsed": false
   },
   "source": [
    "## 2. Create the Defect"
   ]
  },
  {
   "cell_type": "markdown",
   "id": "f99753a31e0123a",
   "metadata": {
    "collapsed": false
   },
   "source": [
    "## 3. Visualize Result(s)"
   ]
  },
  {
   "cell_type": "code",
   "id": "951f0cffe9389d5e",
   "metadata": {
    "collapsed": false
   },
   "source": [
    "from utils.visualize import visualize_materials as visualize\n",
    "\n",
    "visualize([{\"material\": supercell, \"title\": \"Original material\"},\n",
    "           {\"material\": material_with_defect, \"title\": f\"Material with defect\"}],\n",
    "          viewer=\"wave\")"
   ],
   "outputs": [],
   "execution_count": null
  },
  {
   "cell_type": "markdown",
   "id": "1c5d8e66b5b105ee",
   "metadata": {
    "collapsed": false
   },
   "source": [
    "## 4. Pass data to the outside runtime"
   ]
  },
  {
   "cell_type": "code",
   "id": "b9e1aba13faf1bf0",
   "metadata": {
    "collapsed": false
   },
   "source": [
    "from utils.jupyterlite import download_content_to_file, set_materials\n",
    "\n",
    "set_materials(material_with_defect)\n",
    "download_content_to_file(material_with_defect.to_json(), \"Mg substitution and vacancy in GaN.json\")"
   ],
   "outputs": [],
   "execution_count": null
  }
 ],
 "metadata": {
  "kernelspec": {
   "display_name": "Python 3",
   "language": "python",
   "name": "python3"
  },
  "language_info": {
   "codemirror_mode": {
    "name": "ipython",
    "version": 2
   },
   "file_extension": ".py",
   "mimetype": "text/x-python",
   "name": "python",
   "nbconvert_exporter": "python",
   "pygments_lexer": "ipython2",
   "version": "2.7.6"
  }
 },
 "nbformat": 4,
 "nbformat_minor": 5
}
