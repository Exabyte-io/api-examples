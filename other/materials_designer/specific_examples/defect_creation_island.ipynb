{
 "cells": [
  {
   "cell_type": "markdown",
   "source": [
    "# Island defect on \n",
    "\n",
    "## 0. Introduction\n",
    "\n",
    "This tutorial demonstrates the process of creating a rectangular island defect on a slab. \n",
    "\n",
    "\n",
    "> **D. G. Sangiovanni, A. B. Mei, D. Edström, L. Hultman, V. Chirita, I. Petrov, and J. E. Greene**, \"Effects of surface vibrations on interlayer mass transport: Ab initio molecular dynamics investigation of Ti adatom descent pathways and rates from TiN/TiN(001) islands\", Physical Review B, 2018. [DOI: 10.1103/PhysRevB.97.035406](https://journals.aps.org/prb/abstract/10.1103/PhysRevB.97.035406).\n",
    "> \n",
    "Below is the figure 1 from the manuscript demonstrating the nitrogen substitution defects in graphene.\n",
    "\n",
    "![Fig 2.](https://journals.aps.org/prb/article/10.1103/PhysRevB.97.035406/figures/2/medium)\n",
    "\n",
    "In this notebook we will reproduce material from FIG. 2 a)\n"
   ],
   "metadata": {
    "collapsed": false
   },
   "id": "f0ccd3190ce70a68"
  },
  {
   "cell_type": "markdown",
   "source": [
    "## 1. Prepare the Environment\n",
    "### 1.1. Set up defects parameters \n",
    "\n"
   ],
   "metadata": {
    "collapsed": false
   },
   "id": "aae97744e3023a1b"
  },
  {
   "cell_type": "code",
   "outputs": [],
   "source": [
    "# Choose the island shape: 'cylinder', 'sphere', 'box', or 'triangular_prism'\n",
    "ISLAND_SHAPE = 'box'\n",
    "AUTO_ADD_VACUUM = True\n",
    "VACUUM_THICKNESS = 10.0\n",
    "\n",
    "BOX_PARAMS = {\n",
    "    'min_coordinate': [0.25, 0.25, 0],\n",
    "    'max_coordinate': [0.75, 0.75, 1]\n",
    "}\n",
    "\n",
    "# Create slab with default parameters if imported material is not a slab\n",
    "DEFAULT_SLAB_PARAMETERS = {\n",
    "    \"miller_indices\": (0,0,1),\n",
    "    \"thickness\": 3,\n",
    "    \"vacuum\": 5.0,\n",
    "    \"use_orthogonal_z\": True,\n",
    "    \"xy_supercell_matrix\": [[9, 0], [0, 9]]\n",
    "}"
   ],
   "metadata": {
    "collapsed": false,
    "ExecuteTime": {
     "end_time": "2024-10-18T03:16:59.408047Z",
     "start_time": "2024-10-18T03:16:59.404709Z"
    }
   },
   "id": "139422d7e6c3cb3e",
   "execution_count": 53
  },
  {
   "cell_type": "markdown",
   "source": [
    "### 1.2. Install Packages\n",
    "The step executes only in Pyodide environment. For other environments, the packages should be installed via `pip install` (see [README](../../README.ipynb))."
   ],
   "metadata": {
    "collapsed": false
   },
   "id": "bede1fdd496fb639"
  },
  {
   "cell_type": "code",
   "outputs": [],
   "source": [
    "import sys\n",
    "\n",
    "if sys.platform == \"emscripten\":\n",
    "    import micropip\n",
    "    await micropip.install('mat3ra-api-examples', deps=False)\n",
    "    from utils.jupyterlite import install_packages\n",
    "    await install_packages(\"\", \"../../config.yml\")"
   ],
   "metadata": {
    "collapsed": false,
    "ExecuteTime": {
     "end_time": "2024-10-18T03:16:59.430043Z",
     "start_time": "2024-10-18T03:16:59.427074Z"
    }
   },
   "id": "a457db594c9e2b24",
   "execution_count": 54
  },
  {
   "cell_type": "markdown",
   "source": [
    "### 1.3. Get input material\n",
    "Materials are loaded with `get_materials()`."
   ],
   "metadata": {
    "collapsed": false
   },
   "id": "7d419807867fb1c9"
  },
  {
   "cell_type": "code",
   "outputs": [
    {
     "name": "stdout",
     "output_type": "stream",
     "text": [
      "INFO: 0: 0-Ni\n",
      "INFO: 1: 1-Graphene\n",
      "INFO: 2: 10-Al2O3, Sapphire, RHL (R-3c) 3D (Bulk), mp-1143 (1)\n",
      "INFO: 3: 11-ZnO, Zinc Oxide, HEX (P6_3mc) 3D (Bulk), mp-2133\n",
      "INFO: 4: 12-Cd4 Te4\n",
      "INFO: 5: 13-Si4 C4\n",
      "INFO: 6: 14-GaN, Gallium Nitride, HEX (P6_3mc) 3D (Bulk), mp-804\n",
      "INFO: 7: 15-WS2, Tungsten Disulfide, HEX (P-6m2) 2D (Monolayer), 2dm-3749\n",
      "INFO: 8: 16 - In4 P4\n",
      "INFO: 9: 17 - Ti4 N4\n",
      "INFO: 10: 4-Te2Mo\n",
      "INFO: 11: 5-HfO2\n",
      "INFO: 12: 6-Ni4(110), termination Ni_Pmmm_2, Slab, Terrace, 1 steps, [2 0 0]\n",
      "INFO: 13: 7-Ag4\n",
      "INFO: 14: 8-Si, Silicene, HEX (P-3m1) 2D (Monolayer), 2dm-5934\n",
      "INFO: 15: 9-GaAs, Gallium Arsenide, FCC (F-43m) 3D (Bulk), mp-2534\n",
      "INFO: 16: C1, Vacancy  Defect\n",
      "INFO: 17: Cu1 Ni27, Interstitial Cu Defect\n",
      "INFO: 18: Ga2N2(001)-C4Si4(111), Interface, Strain 0.082pct\n",
      "INFO: 19: Heterostructure_M0_M1_M2\n",
      "INFO: 20: N1, Vacancy  Defect\n",
      "INFO: 21: Ni26 C1, Substitution C Defect\n",
      "INFO: 22: Ni27 C1, Interstitial C Defect\n",
      "INFO: 23: Ni4(111), termination Ni_P6:mmm_4, Slab\n",
      "INFO: 24: Ni4(111), termination Ni_R-3m_4, Slab\n",
      "INFO: Successfully loaded 25 materials from folder '../uploads'\n",
      "INFO: Found: 'Ti4 N4'\n"
     ]
    }
   ],
   "source": [
    "from utils.jupyterlite import load_material_from_folder\n",
    "\n",
    "# TODO: load from standata\n",
    "material = load_material_from_folder(\"../uploads\", \"Ti4 N4\")"
   ],
   "metadata": {
    "collapsed": false,
    "ExecuteTime": {
     "end_time": "2024-10-18T03:16:59.464067Z",
     "start_time": "2024-10-18T03:16:59.432179Z"
    }
   },
   "id": "ba2d38ba55128111",
   "execution_count": 55
  },
  {
   "cell_type": "markdown",
   "source": [
    "### 1.4. Preview Slab or create a new one"
   ],
   "metadata": {
    "collapsed": false
   },
   "id": "3230f242ef26d70f"
  },
  {
   "cell_type": "code",
   "outputs": [
    {
     "name": "stdout",
     "output_type": "stream",
     "text": [
      "The material is not a slab. Creating a new slab...\n"
     ]
    },
    {
     "data": {
      "text/plain": "GridBox(children=(VBox(children=(Label(value='N972Ti972 - Original material - rotation: 0x,0y,0z', layout=Layo…",
      "application/vnd.jupyter.widget-view+json": {
       "version_major": 2,
       "version_minor": 0,
       "model_id": "d5157abf8eab47daac4d9be21bcb84a3"
      }
     },
     "metadata": {},
     "output_type": "display_data"
    },
    {
     "data": {
      "text/plain": "GridBox(children=(VBox(children=(Label(value='N972Ti972 - Original material - rotation: -90x', layout=Layout(a…",
      "application/vnd.jupyter.widget-view+json": {
       "version_major": 2,
       "version_minor": 0,
       "model_id": "351aedbb78f244388d3097c161a0c581"
      }
     },
     "metadata": {},
     "output_type": "display_data"
    }
   ],
   "source": [
    "from mat3ra.made.tools.build.slab import create_slab, SlabConfiguration\n",
    "from utils.visualize import visualize_materials as visualize\n",
    "\n",
    "slab = material\n",
    "if not slab.metadata or slab.metadata[\"build\"][\"configuration\"][\"type\"] != SlabConfiguration.__name__:\n",
    "    print(\"The material is not a slab. Creating a new slab...\")\n",
    "    slab_config = SlabConfiguration(\n",
    "        bulk=material,\n",
    "        miller_indices=DEFAULT_SLAB_PARAMETERS[\"miller_indices\"],\n",
    "        thickness=DEFAULT_SLAB_PARAMETERS[\"thickness\"],\n",
    "        vacuum= DEFAULT_SLAB_PARAMETERS[\"vacuum\"],\n",
    "        use_orthogonal_z=DEFAULT_SLAB_PARAMETERS[\"use_orthogonal_z\"],\n",
    "        xy_supercell_matrix=DEFAULT_SLAB_PARAMETERS[\"xy_supercell_matrix\"]\n",
    "    )\n",
    "        \n",
    "    slab = create_slab(slab_config)\n",
    "\n",
    "visualize([{\"material\": slab, \"title\": \"Original material\"}])\n",
    "visualize([{\"material\": slab, \"title\": \"Original material\"}], rotation=\"-90x\")"
   ],
   "metadata": {
    "collapsed": false,
    "ExecuteTime": {
     "end_time": "2024-10-18T03:17:01.012168Z",
     "start_time": "2024-10-18T03:16:59.465567Z"
    }
   },
   "id": "953c746c1e789a42",
   "execution_count": 56
  },
  {
   "cell_type": "markdown",
   "source": [
    "## 2. Create the Target Material\n",
    "### 2.1. Initialize the defect configuration and builder"
   ],
   "metadata": {
    "collapsed": false
   },
   "id": "1098e7479b4ddbe"
  },
  {
   "cell_type": "code",
   "outputs": [],
   "source": [
    "from mat3ra.made.tools.utils.coordinate import (\n",
    "    BoxCoordinateCondition,\n",
    ")\n",
    "from mat3ra.made.tools.build.defect import IslandSlabDefectConfiguration\n",
    "\n",
    "coordinate_condition= BoxCoordinateCondition(\n",
    "    min_coordinate=BOX_PARAMS['min_coordinate'],\n",
    "    max_coordinate=BOX_PARAMS['max_coordinate']\n",
    ")\n",
    "\n",
    "\n",
    "island_config = IslandSlabDefectConfiguration(\n",
    "    crystal=slab,\n",
    "    condition=coordinate_condition,\n",
    "    number_of_added_layers=1,\n",
    ")\n",
    "\n",
    "from mat3ra.made.tools.build.defect import IslandSlabDefectBuilder, SlabDefectBuilderParameters\n",
    "params = SlabDefectBuilderParameters(\n",
    "    auto_add_vacuum=AUTO_ADD_VACUUM,\n",
    "    vacuum_thickness=VACUUM_THICKNESS,\n",
    ")\n",
    "builder = IslandSlabDefectBuilder(build_parameters=params)"
   ],
   "metadata": {
    "collapsed": false,
    "ExecuteTime": {
     "end_time": "2024-10-18T03:17:01.025226Z",
     "start_time": "2024-10-18T03:17:01.017547Z"
    }
   },
   "id": "c1dfcb6ba96a8856",
   "execution_count": 57
  },
  {
   "cell_type": "markdown",
   "source": [
    "### 2.2. Create the island"
   ],
   "metadata": {
    "collapsed": false
   },
   "id": "ade21ddf312cca79"
  },
  {
   "cell_type": "code",
   "outputs": [],
   "source": [
    "slab_with_island = builder.get_material(island_config)"
   ],
   "metadata": {
    "collapsed": false,
    "ExecuteTime": {
     "end_time": "2024-10-18T03:17:02.258309Z",
     "start_time": "2024-10-18T03:17:01.026985Z"
    }
   },
   "id": "cc2bca4b2f492280",
   "execution_count": 58
  },
  {
   "cell_type": "markdown",
   "source": [
    "## 3. Visualize the Result(s)"
   ],
   "metadata": {
    "collapsed": false
   },
   "id": "163254119be36953"
  },
  {
   "cell_type": "code",
   "outputs": [
    {
     "data": {
      "text/plain": "GridBox(children=(VBox(children=(Label(value='N972Ti972 - Original material - rotation: -90x', layout=Layout(a…",
      "application/vnd.jupyter.widget-view+json": {
       "version_major": 2,
       "version_minor": 0,
       "model_id": "6a388ac7cbdb43ac9de6bb259d35877c"
      }
     },
     "metadata": {},
     "output_type": "display_data"
    },
    {
     "data": {
      "text/plain": "GridBox(children=(VBox(children=(Label(value='N972Ti972 - Original material - rotation: 0x,0y,0z', layout=Layo…",
      "application/vnd.jupyter.widget-view+json": {
       "version_major": 2,
       "version_minor": 0,
       "model_id": "bdba6b99a8f34578b7ff0b05e50f6471"
      }
     },
     "metadata": {},
     "output_type": "display_data"
    }
   ],
   "source": [
    "visualize([{\"material\": slab, \"title\": \"Original material\"},\n",
    "           {\"material\": slab_with_island, \"title\": f\"Material with Island Defect ({ISLAND_SHAPE})\"}],\n",
    "rotation=\"-90x\")\n",
    "\n",
    "visualize([{\"material\": slab, \"title\": \"Original material\"},\n",
    "           {\"material\": slab_with_island, \"title\": f\"Material with Island Defect ({ISLAND_SHAPE})\"}])"
   ],
   "metadata": {
    "collapsed": false,
    "ExecuteTime": {
     "end_time": "2024-10-18T03:17:04.814236Z",
     "start_time": "2024-10-18T03:17:02.260509Z"
    }
   },
   "id": "70d32719704d9ef2",
   "execution_count": 59
  },
  {
   "cell_type": "markdown",
   "source": [
    "## 4. Pass data to the outside runtime"
   ],
   "metadata": {
    "collapsed": false
   },
   "id": "6ac5c59b901acf80"
  },
  {
   "cell_type": "code",
   "outputs": [
    {
     "name": "stdout",
     "output_type": "stream",
     "text": [
      "Data for materials written to uploads/N4Ti4(001), termination TiN_P4:mmm_4, Slab.json\n"
     ]
    }
   ],
   "source": [
    "from utils.jupyterlite import set_materials\n",
    "\n",
    "set_materials(slab_with_island)"
   ],
   "metadata": {
    "collapsed": false,
    "ExecuteTime": {
     "end_time": "2024-10-18T03:17:04.918728Z",
     "start_time": "2024-10-18T03:17:04.815880Z"
    }
   },
   "id": "3ec05765edc89d01",
   "execution_count": 60
  }
 ],
 "metadata": {
  "kernelspec": {
   "display_name": "Python 3",
   "language": "python",
   "name": "python3"
  },
  "language_info": {
   "codemirror_mode": {
    "name": "ipython",
    "version": 2
   },
   "file_extension": ".py",
   "mimetype": "text/x-python",
   "name": "python",
   "nbconvert_exporter": "python",
   "pygments_lexer": "ipython2",
   "version": "2.7.6"
  }
 },
 "nbformat": 4,
 "nbformat_minor": 5
}
