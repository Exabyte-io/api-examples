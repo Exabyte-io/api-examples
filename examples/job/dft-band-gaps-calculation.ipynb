version https://git-lfs.github.com/spec/v1
oid sha256:90af48ed51acdd895ca09b13e7156f41d27ecea6c33a402ef2df4530841f7d37
size 24965
