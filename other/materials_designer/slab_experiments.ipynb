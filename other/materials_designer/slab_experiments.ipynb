{
 "cells": [
  {
   "cell_type": "code",
   "outputs": [],
   "source": [
    "DEFECT_TYPE = \"island\"\n",
    "APPROXIMATE_POSITION_ON_SURFACE = [0.5, 0.5]  # Position of the defect in crystal coordinates\n",
    "DISTANCE_Z = 2.0  # Distance of the defect from the surface in Angstrom\n",
    "CHEMICAL_ELEMENT = \"Ni\"  # Element to be placed at the site \n",
    "MILLER_INDICES = (0,0,1 )  # Miller indices of the surface\n",
    "SLAB_THICKNESS = 3\n",
    "# Thickness of the slab in unit cells\n",
    "VACUUM = 6  # Vacuum thickness in Angstrom\n",
    "SUPERCELL_MATRIX = [[3, 0, 0], [0, 3, 0], [0, 0, 1]]"
   ],
   "metadata": {
    "collapsed": false
   },
   "id": "2be3c9fc3d12bb2c",
   "execution_count": null
  },
  {
   "cell_type": "code",
   "execution_count": null,
   "id": "initial_id",
   "metadata": {
    "collapsed": true
   },
   "outputs": [],
   "source": [
    "from mat3ra.made.material import Material\n",
    "from utils.jupyterlite import get_data\n",
    "\n",
    "# Get the list of input materials and load them into `materials_in` variable\n",
    "get_data(\"materials_in\", globals())\n",
    "materials = list(map(Material, globals()[\"materials_in\"]))\n"
   ]
  },
  {
   "cell_type": "code",
   "outputs": [],
   "source": [
    "from mat3ra.made.tools.convert import to_pymatgen, from_pymatgen\n",
    "from mat3ra.made.tools.build.slab import SlabConfiguration, get_terminations, create_slab\n",
    "from utils.visualize import visualize_materials as visualize\n",
    "\n",
    "material = materials[0]\n",
    "slab_config = SlabConfiguration(\n",
    "    bulk=material,\n",
    "    miller_indices=MILLER_INDICES,\n",
    "    thickness=SLAB_THICKNESS,\n",
    "    vacuum=VACUUM,\n",
    "    use_orthogonal_z=True,\n",
    "    xy_supercell_matrix=SUPERCELL_MATRIX\n",
    ")\n",
    "termination = get_terminations(slab_config)[0]\n",
    "slab = create_slab(slab_config, termination)\n",
    "\n",
    "\n",
    "pymatgen_structure = to_pymatgen(material)\n",
    "conv_struct =  pymatgen_structure.to_conventional()\n",
    "conv_material = from_pymatgen(conv_struct)\n",
    "\n",
    "visualize([{\"material\": material, \"rotation\": \"0x\"}, {\"material\": material, \"rotation\": \"-90x\"}], repetitions=[1, 1, 1])\n",
    "visualize([{\"material\": conv_material, \"rotation\": \"0x\"}, {\"material\": conv_material, \"rotation\": \"-90x\"}], repetitions=[1, 1, 1])\n",
    "visualize([{\"material\": slab, \"rotation\": \"0x\"}, {\"material\": slab, \"rotation\": \"-90x\"}], repetitions=[1, 1, 1])\n"
   ],
   "metadata": {
    "collapsed": false
   },
   "id": "71aad8f47b63efe1",
   "execution_count": null
  },
  {
   "cell_type": "code",
   "outputs": [],
   "source": [
    "\n",
    "from utils.jupyterlite import set_data\n",
    "from mat3ra.made.tools.build.defect.builders import TerraceSlabDefectBuilder\n",
    "from mat3ra.made.tools.build.defect.configuration import TerraceSlabDefectConfiguration\n",
    "\n",
    "clean_material = Material.create(Material.default_config)\n",
    "\n",
    "slab_config = SlabConfiguration(\n",
    "    bulk=clean_material,\n",
    "    miller_indices=(0, 1, 1),\n",
    "    thickness=6,\n",
    "    vacuum=3,\n",
    "    xy_supercell_matrix=[[10, 0], [0, 2]],\n",
    "    use_orthogonal_z=True,\n",
    "    use_conventional_cell=False\n",
    ")\n",
    "t = get_terminations(slab_config)[0]\n",
    "slab = create_slab(slab_config, t)\n",
    "\n",
    "config = TerraceSlabDefectConfiguration(\n",
    "    crystal=slab,\n",
    "    cut_direction=[1, 0, 3],\n",
    "    pivot_coordinate=[0.5, 0.5, 0.5],\n",
    "    steps_number=1,\n",
    ")\n",
    "new_slab = TerraceSlabDefectBuilder().get_material(configuration=config)\n",
    "visualize([{\"material\": slab, \"rotation\": \"0x\"}, {\"material\": slab, \"rotation\": \"-90x\"}], repetitions=[1, 1, 1])\n",
    "visualize([{\"material\": new_slab, \"rotation\": \"0x\"}, {\"material\": new_slab, \"rotation\": \"-90x\"}], repetitions=[3, 3, 1])\n",
    "set_data(\"materials\", [new_slab.to_json()])\n",
    "print(new_slab.basis.coordinates.values[42])"
   ],
   "metadata": {
    "collapsed": false
   },
   "id": "138e8a6152ad1324",
   "execution_count": null
  },
  {
   "cell_type": "code",
   "outputs": [],
   "source": [
    "from mat3ra.made.tools.convert import from_ase, to_ase\n",
    "from ase import Atoms\n",
    "from ase.build import molecule\n",
    "from ase.neighborlist import neighbor_list\n",
    "from ase.geometry import get_distances\n",
    "import numpy as np\n",
    "\n",
    "# Function to passivate undercoordinated atoms in a structure\n",
    "def passivate_structure(structure, max_coordination=3, passivant='H', bond_length=1.0, cutoff=1.0):\n",
    "    \"\"\"\n",
    "    Passivates dangling bonds on undercoordinated atoms in the provided structure.\n",
    "\n",
    "    Args:\n",
    "    structure (ase.Atoms): The ASE Atoms object to be passivated.\n",
    "    max_coordination (int): Maximum number of neighbors before an atom is considered fully coordinated.\n",
    "    passivant (str): Type of atom used to passivate (default is 'H' for hydrogen).\n",
    "    bond_length (float): Target bond length for the passivant atom.\n",
    "\n",
    "    Returns:\n",
    "    ase.Atoms: The modified structure with passivated atoms.\n",
    "    \"\"\"\n",
    "    if cutoff is None:\n",
    "        cutoff = np.min(structure.cell.lengths())/2\n",
    "    # Calculate nearest neighbors\n",
    "    i, j, d = neighbor_list('ijd', structure, cutoff=cutoff)\n",
    "    \n",
    "    # Count neighbors for each atom\n",
    "    neighbor_counts = np.bincount(i, minlength=len(structure))\n",
    "    \n",
    "    # Determine undercoordinated atoms\n",
    "    undercoordinated_indices = np.where(neighbor_counts < max_coordination)[0]\n",
    "    print(undercoordinated_indices)\n",
    "    \n",
    "    # New atoms object to add passivating atoms\n",
    "    new_atoms = structure.copy()\n",
    "\n",
    "    for index in undercoordinated_indices:\n",
    "        # Get positions of neighbors\n",
    "        neighbors = j[i == index]\n",
    "        position = structure.positions[index]\n",
    "        \n",
    "        # Calculate the direction vector pointing away from neighbors\n",
    "        direction = np.zeros(3)\n",
    "        for neighbor in neighbors:\n",
    "            direction += (position - structure.positions[neighbor])\n",
    "        \n",
    "        if np.linalg.norm(direction) > 0:\n",
    "            direction = direction / np.linalg.norm(direction)  # Normalize the direction vector\n",
    "        \n",
    "        # Calculate the position for the new atom\n",
    "        new_atom_position = position + direction * bond_length\n",
    "        \n",
    "        # Add the passivant atom\n",
    "        new_atoms += Atoms(passivant, positions=[new_atom_position])\n",
    "    \n",
    "    return new_atoms\n",
    "\n",
    "# Example usage:\n",
    "# Load or define your structure\n",
    "\n",
    "ase_atoms = to_ase(new_slab)\n",
    "\n",
    "# Passivate the structure\n",
    "passivated_structure = passivate_structure(ase_atoms, max_coordination=4, cutoff=2.0)\n",
    "\n",
    "print(passivated_structure)\n",
    "\n",
    "ase_material = from_ase(ase_atoms)\n",
    "ase_passivated_material = from_ase(passivated_structure)\n",
    "visualize([{\"material\": ase_material, \"rotation\": \"0x\"}, {\"material\": ase_material, \"rotation\": \"-90x\"}], repetitions=[1, 1, 1])\n",
    "visualize([{\"material\": ase_passivated_material, \"rotation\": \"0x\"}, {\"material\": ase_passivated_material, \"rotation\": \"-90x\"}], repetitions=[1, 1, 1])"
   ],
   "metadata": {
    "collapsed": false
   },
   "id": "661646d999aa895d",
   "execution_count": null
  },
  {
   "cell_type": "code",
   "outputs": [],
   "source": [],
   "metadata": {
    "collapsed": false
   },
   "id": "641fc03cb688ee24",
   "execution_count": null
  }
 ],
 "metadata": {
  "kernelspec": {
   "display_name": "Python 3",
   "language": "python",
   "name": "python3"
  },
  "language_info": {
   "codemirror_mode": {
    "name": "ipython",
    "version": 2
   },
   "file_extension": ".py",
   "mimetype": "text/x-python",
   "name": "python",
   "nbconvert_exporter": "python",
   "pygments_lexer": "ipython2",
   "version": "2.7.6"
  }
 },
 "nbformat": 4,
 "nbformat_minor": 5
}
