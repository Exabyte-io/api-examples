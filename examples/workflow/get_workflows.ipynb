version https://git-lfs.github.com/spec/v1
oid sha256:31d42ab81ce4df0a00e0ee871c23dc494d8f2a2f2a24932e34dc2ed3eaeb4486
size 40325
