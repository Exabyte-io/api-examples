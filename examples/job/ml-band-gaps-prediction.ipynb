version https://git-lfs.github.com/spec/v1
oid sha256:d48a819db9b647bbde34e3a96c3390e09a4b9e0e21c546c6e4ed2167d8336152
size 46825
