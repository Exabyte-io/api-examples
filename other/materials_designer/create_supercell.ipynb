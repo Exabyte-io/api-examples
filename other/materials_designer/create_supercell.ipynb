{
 "cells": [
  {
   "cell_type": "markdown",
   "id": "bfcbf5c3f9adb668",
   "metadata": {
    "collapsed": false
   },
   "source": [
    "# Create a supercell\n",
    "\n",
    "Create a supercell of the original structure. The supercell is set either with the supercell matrix or the number of repetitions in each direction.\n",
    "\n",
    "<h2 style=\"color:green\">Usage</h2>\n",
    "\n",
    "1. Make sure to select Input Materials (in the outer runtime) before running the notebook.\n",
    "1. Set notebook parameters in cell 1.1. below (or use the default values).\n",
    "1. Click “Run” > “Run All” to run all cells. \n",
    "1. Scroll down to view results. "
   ]
  },
  {
   "cell_type": "markdown",
   "id": "e3702ff2a5270ce6",
   "metadata": {
    "collapsed": false
   },
   "source": [
    "## 1. Prepare the Environment\n",
    "### 1.1. Set up transformation parameters "
   ]
  },
  {
   "cell_type": "code",
   "execution_count": null,
   "id": "e93f72e7c37dea10",
   "metadata": {
    "collapsed": false
   },
   "outputs": [],
   "source": [
    "SUPERCELL_MATRIX = [\n",
    "    [3, 0, 0], \n",
    "    [0, 3, 0], \n",
    "    [0, 0, 1]\n",
    "] \n",
    "\n",
    "# or use the scaling factor\n",
    "SCALING_FACTOR = None # [3, 3, 1]"
   ]
  },
  {
   "cell_type": "markdown",
   "id": "9f3ffe460d75942f",
   "metadata": {
    "collapsed": false
   },
   "source": [
    "### 1.2. Install Packages\n",
    "The step executes only in Pyodide environment. For other environments, the packages should be installed via `pip install` (see [README](../../README.ipynb))."
   ]
  },
  {
   "cell_type": "code",
   "execution_count": null,
   "id": "9eb0650f7183279c",
   "metadata": {
    "collapsed": false
   },
   "outputs": [],
   "source": [
    "import sys\n",
    "\n",
    "if sys.platform == \"emscripten\":\n",
    "    import micropip\n",
    "  \n",
    "    await micropip.install(\"mat3ra-api-examples\", deps=False)\n",
    "    await micropip.install('mat3ra-utils')\n",
    "    from mat3ra.utils.jupyterlite.packages import install_packages\n",
    "    await install_packages(\"\")"
   ]
  },
  {
   "cell_type": "markdown",
   "id": "f348991bf39a14e7",
   "metadata": {
    "collapsed": false
   },
   "source": [
    "### 1.3. Get input materials"
   ]
  },
  {
   "cell_type": "code",
   "execution_count": null,
   "id": "4b72580121ca40d0",
   "metadata": {
    "collapsed": false
   },
   "outputs": [],
   "source": [
    "from utils.jupyterlite import get_materials\n",
    "\n",
    "materials = get_materials(globals())\n",
    "material = materials[0]"
   ]
  },
  {
   "cell_type": "markdown",
   "id": "aa183a2ac1a6993",
   "metadata": {
    "collapsed": false
   },
   "source": [
    "### 1.4. Preview the material"
   ]
  },
  {
   "cell_type": "code",
   "execution_count": null,
   "id": "d3cba46f185c1a1b",
   "metadata": {
    "collapsed": false
   },
   "outputs": [],
   "source": [
    "from utils.visualize import visualize_materials as visualize\n",
    "repetitions = SCALING_FACTOR if SCALING_FACTOR else [3, 3, 1]\n",
    "visualize(material, repetitions=repetitions, rotation=\"0x\")\n",
    "visualize(material, repetitions=repetitions, rotation=\"-90x\")"
   ]
  },
  {
   "cell_type": "markdown",
   "id": "ba9e20ebe63ffda7",
   "metadata": {
    "collapsed": false
   },
   "source": [
    "## 2. Create supercell"
   ]
  },
  {
   "cell_type": "code",
   "execution_count": null,
   "id": "2795d5bdbbaafbe6",
   "metadata": {
    "collapsed": false
   },
   "outputs": [],
   "source": [
    "from mat3ra.made.tools.helpers import create_supercell\n",
    "\n",
    "if SUPERCELL_MATRIX:\n",
    "    supercell = create_supercell(material, supercell_matrix=SUPERCELL_MATRIX)\n",
    "elif SCALING_FACTOR:\n",
    "    supercell = create_supercell(material, scaling_factor=SCALING_FACTOR)"
   ]
  },
  {
   "cell_type": "markdown",
   "id": "d8f41816d0b48edc",
   "metadata": {
    "collapsed": false
   },
   "source": [
    "## 3. Visualize the result"
   ]
  },
  {
   "cell_type": "code",
   "execution_count": null,
   "id": "aea078560283ca95",
   "metadata": {
    "collapsed": false
   },
   "outputs": [],
   "source": [
    "visualize(supercell, repetitions=[1, 1, 1], rotation=\"0x\")\n",
    "visualize(supercell, repetitions=[1, 1, 1], rotation=\"-90x\")"
   ]
  },
  {
   "cell_type": "markdown",
   "id": "a212abe25bf59b4f",
   "metadata": {
    "collapsed": false
   },
   "source": [
    "# 4. Pass material to the outside runtime"
   ]
  },
  {
   "cell_type": "code",
   "execution_count": null,
   "id": "cdaf612bc6198546",
   "metadata": {
    "collapsed": false
   },
   "outputs": [],
   "source": [
    "from utils.jupyterlite import set_materials\n",
    "set_materials(supercell)"
   ]
  }
 ],
 "metadata": {
  "kernelspec": {
   "display_name": "Python 3",
   "language": "python",
   "name": "python3"
  },
  "language_info": {
   "codemirror_mode": {
    "name": "ipython",
    "version": 2
   },
   "file_extension": ".py",
   "mimetype": "text/x-python",
   "name": "python",
   "nbconvert_exporter": "python",
   "pygments_lexer": "ipython2",
   "version": "2.7.6"
  }
 },
 "nbformat": 4,
 "nbformat_minor": 5
}
