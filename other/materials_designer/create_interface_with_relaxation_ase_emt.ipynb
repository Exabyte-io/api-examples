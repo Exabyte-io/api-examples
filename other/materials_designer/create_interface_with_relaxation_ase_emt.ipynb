{
 "cells": [
  {
   "cell_type": "markdown",
   "metadata": {},
   "source": [
    "\n",
    "\n",
    "# Create an interface with ZSL and relax it using EMT potentials\n",
    "\n",
    "Use Zur and McGill superlattices matching [algorithm](https://doi.org/10.1063/1.3330840) to create interfaces between two materials using the Pymatgen [implementation](https://pymatgen.org/pymatgen.analysis.interfaces.html#pymatgen.analysis.interfaces.zsl).\n",
    "\n",
    "<h2 style=\"color:green\">Usage</h2>\n",
    "\n",
    "1. Drop the materials files into the \"uploads\" folder in the JupyterLab file browser\n",
    "1. Set Input Parameters (e.g. `distance_z`, `max_area`, `miller_indices`) below or use the default values\n",
    "1. Click \"Run\" > \"Run All\" to run all cells\n",
    "1. Wait for the run to complete (depending on the area, it can take 1-2 min or more). Scroll down to view cell results.\n",
    "1. Review the strain plot and modify its parameters as needed\n",
    "\n",
    "## Methodology\n",
    "\n",
    "The following happens in the script below:\n",
    "\n",
    "1. Create slabs for each input material. The materials data is passed in from and back to the web application according to this description (TBA).\n",
    "   We assume that two input materials are either in bulk form (e.g. Ni crystal) or layered (e.g. graphene). \n",
    "   \n",
    "   We construct the interface along the Z-axis. The material corresponding to the bottom of the interface is referred to as the \"**substrate**\", and the top - as the \"**layer**\". \n",
    "\n",
    "2. Perform strain matching on the slabs to extract the supercell dimensions. The algorithm has a set of parameters, such as the maximum area considered, that can be configured by editing the cells below.\n",
    "\n",
    "3. When the strain matching is finished, the interface with the lowest strain (and the smallest number of atoms) is selected. We create the corresponding supercells and place them at a specified distance from each other (note no shift is performed currently).\n"
   ]
  },
  {
   "cell_type": "markdown",
   "metadata": {},
   "source": [
    "## 1. Set Input Parameters\n",
    "\n",
    "### 1.1. Select Substrate and Layer from Input Materials\n",
    "Imported `InterfaceSettings` is a class that specifies the parameters for the construction of the interface. The default values are assumed if properties are not set during the initialization.\n",
    "Additionally, specify if the termination selection is done using interactive prompt, or the via selecting the termination index in the code."
   ]
  },
  {
   "cell_type": "code",
   "execution_count": null,
   "metadata": {},
   "outputs": [],
   "source": [
    "from mat3ra.made.tools.build.interface import InterfaceSettings\n",
    "\n",
    "interface_settings = InterfaceSettings()\n",
    "interface_settings.max_area = 50  # maximum area to consider when matching\n",
    "interface_settings.SubstrateParameters.miller_indices = (1, 1, 1) # the Miller indices of the interfacial plane of the substrate\n",
    "interface_settings.SubstrateParameters.thickness = 6 # substrate thickness in layers\n",
    "interface_settings.LayerParameters.miller_indices = (0, 0, 1)  # the Miller indices of the interfacial plane of the layer\n",
    "interface_settings.LayerParameters.thickness = 1 # layer thickness in layers\n",
    "\n",
    "IS_TERMINATION_SELECTION_INTERACTIVE = False  # if True, the user can select the termination interactively\n",
    "TERMINATION_INDEX = 0  # the default termination index that is used if no termination selected, ignored in interactive mode"
   ]
  },
  {
   "cell_type": "markdown",
   "metadata": {},
   "source": [
    "### 1.2. Set Algorithm Parameters for Strain Matching (Optional)\n",
    "The search algorithm for supercells matching can be tuned by setting its parameters directly, otherwise the default values are used."
   ]
  },
  {
   "cell_type": "code",
   "execution_count": null,
   "metadata": {},
   "outputs": [],
   "source": [
    "from mat3ra.made.tools.build.interface import ZSLParameters\n",
    "interface_settings.ZSLParameters = ZSLParameters(\n",
    "    max_area_tol=0.09,  # maximum tolerance on ratio of super-lattices to consider equal\n",
    "    max_length_tol=0.03,  # maximum length tolerance for two vectors to be considered equal\n",
    "    max_angle_tol=0.01, # maximum angle tolerance for two sets of vectors to have equal angles\n",
    ")"
   ]
  },
  {
   "cell_type": "markdown",
   "source": [
    "### 1.3. Set Relaxation Parameters"
   ],
   "metadata": {
    "collapsed": false
   }
  },
  {
   "cell_type": "code",
   "outputs": [],
   "source": [
    "RELAXATION_PARAMETERS = {\n",
    "    \"FMAX\": 0.018,\n",
    "}\n",
    "\n",
    "from mat3ra.made.tools.modify import RelaxationSettings, CalculatorEnum, OptimizerEnum\n",
    "relaxation_settings = RelaxationSettings()\n",
    "\n",
    "relaxation_settings.optimizer = OptimizerEnum.BFGS\n",
    "relaxation_settings.calculator = CalculatorEnum.EMT\n",
    "relaxation_settings.fmax = 0.05"
   ],
   "metadata": {
    "collapsed": false
   },
   "execution_count": null
  },
  {
   "cell_type": "markdown",
   "metadata": {},
   "source": [
    "## 2. Install Packages\n",
    "The step executes only in Pyodide environment. For other environments, the packages should be installed via `pip install` as directed in README."
   ]
  },
  {
   "cell_type": "code",
   "execution_count": null,
   "metadata": {},
   "outputs": [],
   "source": [
    "import sys\n",
    "\n",
    "if sys.platform == \"emscripten\":\n",
    "    import micropip\n",
    "    await micropip.install('mat3ra-api-examples', deps=False)\n",
    "    from utils.jupyterlite import install_packages\n",
    "    await install_packages(\"create_interface_with_min_strain_zsl.ipynb\", \"../../config.yml\")"
   ]
  },
  {
   "cell_type": "markdown",
   "metadata": {},
   "source": [
    "## 3. Load input Materials\n"
   ]
  },
  {
   "cell_type": "code",
   "execution_count": null,
   "metadata": {
    "tags": [],
    "trusted": true
   },
   "outputs": [],
   "source": [
    "from mat3ra.made.material import Material\n",
    "from utils.jupyterlite import get_data\n",
    "\n",
    "from utils.visualize import visualize_materials as visualize\n",
    "\n",
    "# Get the list of input materials and load them into `materials_in` variable\n",
    "get_data(\"materials_in\", globals())\n",
    "materials = list(map(Material, globals()[\"materials_in\"]))\n",
    "visualize(materials, repetitions=[1, 1, 1], rotation=\"0x\")"
   ]
  },
  {
   "cell_type": "markdown",
   "metadata": {},
   "source": [
    "## 4. Create interfaces\n",
    "\n",
    "### 4.1. Initialize the interface builder\n",
    "\n",
    "Initialize the interface builder with the materials and interface settings."
   ]
  },
  {
   "cell_type": "code",
   "execution_count": null,
   "metadata": {},
   "outputs": [],
   "source": [
    "from mat3ra.made.tools.build import init_interface_builder\n",
    "\n",
    "interface_builder = init_interface_builder(\n",
    "    substrate=materials[0],\n",
    "    layer=materials[1],\n",
    "    settings=interface_settings\n",
    ")"
   ]
  },
  {
   "cell_type": "markdown",
   "metadata": {},
   "source": [
    "### 4.2. Select the termination\n",
    "Possible terminations for the interface are found by the interface builder. The user can select the termination interactively or use the default one."
   ]
  },
  {
   "cell_type": "code",
   "execution_count": null,
   "metadata": {},
   "outputs": [],
   "source": [
    "from utils.io import ui_prompt_select_array_element_by_index, ui_prompt_select_array_element_by_index_pyodide\n",
    "terminations = interface_builder.terminations\n",
    "\n",
    "if IS_TERMINATION_SELECTION_INTERACTIVE:\n",
    "    if sys.platform == \"emscripten\":\n",
    "        selected_termination = await ui_prompt_select_array_element_by_index_pyodide(terminations, element_name=\"termination\")\n",
    "    else:\n",
    "         selected_termination = ui_prompt_select_array_element_by_index(terminations, element_name=\"termination\")\n",
    "else:    \n",
    "    selected_termination = terminations[TERMINATION_INDEX]"
   ]
  },
  {
   "cell_type": "markdown",
   "metadata": {},
   "source": [
    "### 4.3. Create interfaces for the selected termination"
   ]
  },
  {
   "cell_type": "code",
   "execution_count": null,
   "metadata": {},
   "outputs": [],
   "source": [
    "from mat3ra.made.tools.build import create_interfaces\n",
    "\n",
    "interface_data_holder = create_interfaces(\n",
    "    settings=interface_settings,\n",
    "    sort_by_strain_and_size=True,\n",
    "    remove_duplicates=True,\n",
    "    interface_builder=interface_builder,\n",
    "    termination=selected_termination,\n",
    ")"
   ]
  },
  {
   "cell_type": "markdown",
   "metadata": {},
   "source": [
    "### 4.3. Print out interface with the lowest strain for selected termination\n"
   ]
  },
  {
   "cell_type": "code",
   "execution_count": null,
   "metadata": {},
   "outputs": [],
   "source": [
    "print(f\"Interface with lowest strain for termination {selected_termination} (index 0):\")\n",
    "interfaces = interface_data_holder.get_interfaces_for_termination(selected_termination)\n",
    "first_interface = interfaces[0]\n",
    "print(f\"    strain: {first_interface.get_mean_abs_strain() * 100:.3f}%\")\n",
    "print(\"    number of atoms:\", first_interface.num_sites)"
   ]
  },
  {
   "cell_type": "markdown",
   "source": [
    "## 5. Plot the results\n",
    "\n",
    "Plot the number of atoms vs strain. Adjust the parameters as needed."
   ],
   "metadata": {
    "collapsed": false
   }
  },
  {
   "cell_type": "code",
   "outputs": [],
   "source": [
    "from utils.plot import plot_strain_vs_atoms\n",
    "\n",
    "PLOT_SETTINGS = {\n",
    "    \"HEIGHT\": 600,\n",
    "    \"X_SCALE\": \"log\",  # or linear\n",
    "    \"Y_SCALE\": \"log\",  # or linear\n",
    "}\n",
    "\n",
    "plot_strain_vs_atoms(interface_data_holder, PLOT_SETTINGS)\n",
    "\n",
    "print(\"Terminations: \\n\", interface_data_holder.terminations)"
   ],
   "metadata": {
    "collapsed": false
   },
   "execution_count": null
  },
  {
   "cell_type": "markdown",
   "metadata": {},
   "source": [
    "## 6. Select the interface to relax\n",
    "\n",
    "### 6.1. Select the interface with the desired termination and strain\n",
    "\n",
    "\n",
    "Select the index for termination first, and for it - the index in the list of corresponding interfaces sorted by strain (index 0 has minimum strain)."
   ]
  },
  {
   "cell_type": "code",
   "execution_count": null,
   "metadata": {},
   "outputs": [],
   "source": [
    "# Could be either the termination as tuple, e.g. `('Ni_P6/mmm_1', 'C_C2/m_2')` or its index: `0`\n",
    "termination_or_its_index = selected_termination\n",
    "# select the first interface with the lowest strain and the smallest number of atoms\n",
    "interfaces_slice_range_or_index = 0\n",
    "interface = interface_data_holder.get_interfaces_as_materials(termination_or_its_index, interfaces_slice_range_or_index)[0]"
   ]
  },
  {
   "cell_type": "markdown",
   "source": [
    "### 6.2. Visualize the selected interface(s)"
   ],
   "metadata": {
    "collapsed": false
   }
  },
  {
   "cell_type": "code",
   "outputs": [],
   "source": [
    "visualize(interface, repetitions=[1, 1, 1], rotation=\"0x\")"
   ],
   "metadata": {
    "collapsed": false
   },
   "execution_count": null
  },
  {
   "cell_type": "markdown",
   "source": [],
   "metadata": {
    "collapsed": false
   }
  },
  {
   "cell_type": "markdown",
   "metadata": {},
   "source": [
    "## 7. Apply relaxation\n",
    "### 7.1. Apply relaxation to the selected interface"
   ]
  },
  {
   "cell_type": "code",
   "outputs": [],
   "source": [
    "from utils.plot import create_realtime_plot, update_plot\n",
    "\n",
    "from mat3ra.made.tools.modify import relax_atoms\n",
    "from mat3ra.made.tools.convert import to_ase\n",
    "\n",
    "final_interface = relax_atoms(Material(interface), relaxation_settings)\n",
    "\n",
    "f = create_realtime_plot()\n",
    "steps = []\n",
    "energies = []\n",
    "update_plot(f, steps, energies)\n",
    "\n",
    "visualize(final_interface, repetitions=[1, 1, 1], rotation=\"0x\")"
   ],
   "metadata": {
    "collapsed": false
   },
   "execution_count": null
  },
  {
   "cell_type": "code",
   "execution_count": null,
   "metadata": {},
   "outputs": [],
   "source": [
    "import plotly.graph_objs as go\n",
    "from IPython.display import display\n",
    "from plotly.subplots import make_subplots\n",
    "from src.utils import ase_to_poscar, pymatgen_to_ase\n",
    "from ase.optimize import BFGS\n",
    "from ase.calculators.emt import EMT\n",
    "\n",
    "\n",
    "# Set up the calculator \n",
    "calculator = EMT()\n",
    "print(calculator)\n",
    "\n",
    "# Set up the interface for relaxation\n",
    "ase_interface = to_ase(interface)\n",
    "print(ase_interface)\n",
    "ase_interface.set_calculator(calculator)\n",
    "print(ase_interface)\n",
    "dyn = BFGS(ase_interface)\n",
    "\n"
   ]
  },
  {
   "cell_type": "code",
   "outputs": [],
   "source": [
    "# Initialize empty lists to store steps and energies\n",
    "steps = []\n",
    "energies = []\n",
    "\n",
    "# Create a plotly figure widget\n",
    "fig = make_subplots(rows=1, cols=1, specs=[[{\"type\": \"scatter\"}]])\n",
    "scatter = go.Scatter(x=[], y=[], mode='lines+markers', name='Energy')\n",
    "fig.add_trace(scatter)\n",
    "fig.update_layout(title_text='Real-time Optimization Progress', xaxis_title='Step', yaxis_title='Energy (eV)')\n",
    "\n",
    "# Display figure widget\n",
    "f = go.FigureWidget(fig)\n",
    "display(f)\n",
    "\n",
    "\n",
    "# Define a callback function to update the plot at each step\n",
    "def plotly_callback():\n",
    "    step = dyn.nsteps\n",
    "    energy = ase_interface.get_total_energy()\n",
    "\n",
    "    # Add the new step and energy to the lists\n",
    "    steps.append(step)\n",
    "    energies.append(energy)\n",
    "\n",
    "    print(f\"Step: {step}, Energy: {energy:.4f} eV\")\n",
    "\n",
    "    # Update the figure with the new data\n",
    "    with f.batch_update():\n",
    "        f.data[0].x = steps\n",
    "        f.data[0].y = energies\n",
    "\n",
    "\n",
    "# Run the relaxation\n",
    "dyn.attach(plotly_callback, interval=1)\n",
    "dyn.run(fmax=RELAXATION_PARAMETERS[\"FMAX\"])\n",
    "\n",
    "# Extract results\n",
    "ase_original_interface = pymatgen_to_ase(interface)\n",
    "ase_original_interface.set_calculator(calculator)\n",
    "ase_final_interface = ase_interface\n",
    "\n",
    "original_energy = ase_original_interface.get_total_energy()\n",
    "relaxed_energy = ase_interface.get_total_energy()\n",
    "\n",
    "# Print out the final relaxed structure and energy\n",
    "print('Original structure:\\n', ase_to_poscar(ase_original_interface))\n",
    "print('\\nRelaxed structure:\\n', ase_to_poscar(ase_final_interface))\n",
    "print(f\"The final energy is {float(relaxed_energy):.3f} eV.\")"
   ],
   "metadata": {
    "collapsed": false
   },
   "execution_count": null
  },
  {
   "cell_type": "markdown",
   "metadata": {},
   "source": [
    "### 7.2. View structure before and after relaxation"
   ]
  },
  {
   "cell_type": "code",
   "execution_count": null,
   "metadata": {},
   "outputs": [],
   "source": [
    "import base64\n",
    "from ase.io import write\n",
    "from ase.build import make_supercell\n",
    "from IPython.display import HTML\n",
    "import io\n",
    "\n",
    "\n",
    "def visualize_material_base64(material, title: str, rotation: str = '0x', number_of_repetitions: int = 3):\n",
    "    \"\"\"\n",
    "    Returns an HTML string with a Base64-encoded image for visualization,\n",
    "    including the name of the file, positioned horizontally.\n",
    "    \"\"\"\n",
    "    # Set the number of unit cell repetition for the structure\n",
    "    n = number_of_repetitions\n",
    "    material_repeat = make_supercell(material, [[n, 0, 0], [0, n, 0], [0, 0, 1]])\n",
    "    text = f\"{material.symbols} - {title}\"\n",
    "\n",
    "    # Write image to a buffer to display in HTML\n",
    "    buf = io.BytesIO()\n",
    "    write(buf, material_repeat, format='png', rotation=rotation)\n",
    "    buf.seek(0)\n",
    "    img_str = base64.b64encode(buf.read()).decode('utf-8')\n",
    "    html_str = f'''\n",
    "    <div style=\"display: inline-block; margin: 10px; vertical-align: top;\">\n",
    "        <p>{text}</p>\n",
    "        <img src=\"data:image/png;base64,{img_str}\" alt=\"{title}\" />\n",
    "    </div>\n",
    "    '''\n",
    "    return html_str\n",
    "\n",
    "\n",
    "html_original = visualize_material_base64(ase_original_interface, \"original\", \"-90x\")\n",
    "html_relaxed = visualize_material_base64(ase_final_interface, \"relaxed\", \"-90x\")\n",
    "\n",
    "# Display the interfaces before and after relaxation\n",
    "html_content = f'<div style=\"display: flex;\">{html_original}{html_relaxed}</div>'\n",
    "display(HTML(html_content))\n",
    "\n"
   ]
  },
  {
   "cell_type": "markdown",
   "metadata": {},
   "source": [
    "### 7.3. Calculate energy energy using ASE EMT"
   ]
  },
  {
   "cell_type": "code",
   "execution_count": null,
   "metadata": {},
   "outputs": [],
   "source": [
    "def filter_atoms_by_tag(atoms, material_index):\n",
    "    \"\"\"Filter atoms by their tag, corresponding to the material index.\"\"\"\n",
    "    return atoms[atoms.get_tags() == material_index]\n",
    "\n",
    "\n",
    "def calculate_energy(atoms, calculator):\n",
    "    \"\"\"Set calculator for atoms and return their total energy.\"\"\"\n",
    "    atoms.set_calculator(calculator)\n",
    "    return atoms.get_total_energy()\n",
    "\n",
    "\n",
    "def calculate_delta_energy(total_energy, *component_energies):\n",
    "    \"\"\"Calculate the delta energy by subtracting component energies from the total energy.\"\"\"\n",
    "    return total_energy - sum(component_energies)\n",
    "\n",
    "\n",
    "# Filter atoms for original and relaxed interfaces\n",
    "substrate_original_interface = filter_atoms_by_tag(ase_original_interface, SUBSTRATE_PARAMETERS[\"MATERIAL_INDEX\"])\n",
    "layer_original_interface = filter_atoms_by_tag(ase_original_interface, LAYER_PARAMETERS[\"MATERIAL_INDEX\"])\n",
    "substrate_relaxed_interface = filter_atoms_by_tag(ase_final_interface, SUBSTRATE_PARAMETERS[\"MATERIAL_INDEX\"])\n",
    "layer_relaxed_interface = filter_atoms_by_tag(ase_final_interface, LAYER_PARAMETERS[\"MATERIAL_INDEX\"])\n",
    "\n",
    "# Calculate energies\n",
    "original_substrate_energy = calculate_energy(substrate_original_interface, calculator)\n",
    "original_layer_energy = calculate_energy(layer_original_interface, calculator)\n",
    "relaxed_substrate_energy = calculate_energy(substrate_relaxed_interface, calculator)\n",
    "relaxed_layer_energy = calculate_energy(layer_relaxed_interface, calculator)\n",
    "\n",
    "# Calculate delta energies\n",
    "delta_original = calculate_delta_energy(original_energy, original_substrate_energy, original_layer_energy)\n",
    "delta_relaxed = calculate_delta_energy(relaxed_energy, relaxed_substrate_energy, relaxed_layer_energy)\n",
    "\n",
    "# Calculate area and effective delta per area\n",
    "area = ase_original_interface.get_volume() / ase_original_interface.cell[2, 2]\n",
    "number_of_interface_atoms = ase_final_interface.get_global_number_of_atoms()\n",
    "number_of_substrate_atoms = substrate_relaxed_interface.get_global_number_of_atoms()\n",
    "number_of_layer_atoms = layer_relaxed_interface.get_global_number_of_atoms()\n",
    "effective_delta_relaxed = (relaxed_energy/number_of_interface_atoms - (relaxed_substrate_energy/number_of_substrate_atoms + relaxed_layer_energy/number_of_layer_atoms)) / (2 * area)\n",
    "\n",
    "# Print out the metrics\n",
    "print(f\"Original Substrate energy: {original_substrate_energy:.4f} eV\")\n",
    "print(f\"Relaxed Substrate energy: {relaxed_substrate_energy:.4f} eV\")\n",
    "print(f\"Original Layer energy: {original_layer_energy:.4f} eV\")\n",
    "print(f\"Relaxed Layer energy: {relaxed_layer_energy:.4f} eV\")\n",
    "print(\"\\nDelta between interface energy and sum of component energies\")\n",
    "print(f\"Original Delta: {delta_original:.4f} eV\")\n",
    "print(f\"Relaxed Delta: {delta_relaxed:.4f} eV\")\n",
    "print(f\"Original Delta per area: {delta_original / area:.4f} eV/Ang^2\")\n",
    "print(f\"Relaxed Delta per area: {delta_relaxed / area:.4f} eV/Ang^2\")\n",
    "print(f\"Relaxed interface energy: {relaxed_energy:.4f} eV\")\n",
    "print(f\"Effective relaxed Delta per area: {effective_delta_relaxed:.4f} eV/Ang^2 ({effective_delta_relaxed / 0.16:.4f} J/m^2)\\n\")\n",
    "\n",
    "# Print out the POSCARs\n",
    "print(\"Relaxed interface:\\n\", ase_to_poscar(ase_final_interface))\n",
    "print(\"Relaxed substrate:\\n\", ase_to_poscar(substrate_relaxed_interface))\n",
    "print(\"Relaxed layer:\\n\", ase_to_poscar(layer_relaxed_interface))"
   ]
  },
  {
   "cell_type": "code",
   "outputs": [],
   "source": [],
   "metadata": {
    "collapsed": false
   }
  }
 ],
 "metadata": {
  "kernelspec": {
   "display_name": ".venv",
   "language": "python",
   "name": "python3"
  },
  "language_info": {
   "codemirror_mode": {
    "name": "ipython",
    "version": 3
   },
   "file_extension": ".py",
   "mimetype": "text/x-python",
   "name": "python",
   "nbconvert_exporter": "python",
   "pygments_lexer": "ipython3",
   "version": "3.10.12"
  },
  "widgets": {
   "application/vnd.jupyter.widget-state+json": {
    "state": {},
    "version_major": 2,
    "version_minor": 0
   }
  }
 },
 "nbformat": 4,
 "nbformat_minor": 4
}
