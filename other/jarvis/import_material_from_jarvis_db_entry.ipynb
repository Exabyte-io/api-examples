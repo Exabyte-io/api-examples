{
 "cells": [
  {
   "cell_type": "markdown",
   "source": [
    "<a href=\"https://colab.research.google.com/github/Exabyte-io/api-examples/blob/dev/other/material/import_material_from_jarvis_db_entry.ipynb\" target=\"_parent\">\n",
    "<img alt=\"Open in Google Colab\" src=\"https://user-images.githubusercontent.com/20477508/128780728-491fea90-9b23-495f-a091-11681150db37.jpeg\" width=\"150\" border=\"0\">\n",
    "</a>"
   ],
   "metadata": {
    "collapsed": false
   },
   "id": "3c567b6400249971"
  },
  {
   "cell_type": "markdown",
   "source": [
    "## Install Packages\n",
    "First, install `express-py` which includes `jarvis-tools` as dependency. Note that installing `numpy==1.23.5` might also be needed if using Google Colab."
   ],
   "metadata": {
    "collapsed": false
   },
   "id": "8b00ab6854f2263b"
  },
  {
   "cell_type": "code",
   "execution_count": null,
   "outputs": [],
   "source": [
    "!pip install express-py"
   ],
   "metadata": {
    "collapsed": false
   },
   "id": "b1288bc79ee2c828"
  },
  {
   "cell_type": "markdown",
   "source": [
    "## Get Materials Data From JARVIS\n",
    "Then, let's get the dataset containing 2D materials from JARVIS and wrap it into a pandas dataframe."
   ],
   "metadata": {
    "collapsed": false
   },
   "id": "f418c51a7f794f9f"
  },
  {
   "cell_type": "code",
   "execution_count": null,
   "outputs": [],
   "source": [
    "import pandas as pd\n",
    "from jarvis.db.figshare import data, get_jid_data\n",
    "\n",
    "dft_2d=data('dft_2d')\n",
    "df = pd.DataFrame(dft_2d)"
   ],
   "metadata": {
    "collapsed": false
   },
   "id": "b1ee775d1476f884"
  },
  {
   "cell_type": "markdown",
   "source": [
    "## Extract Structure and Convert to ESSE\n",
    "Next, we extract an entry from the JARVIS dataset and convert it into ESSE format ready to be uploaded to Mat3ra.com."
   ],
   "metadata": {
    "collapsed": false
   },
   "id": "15fe5f9de299c935"
  },
  {
   "cell_type": "code",
   "execution_count": null,
   "outputs": [],
   "source": [
    "import json\n",
    "from express import ExPrESS\n",
    "\n",
    "## Note: JVASP-670 is an entry for MoTe2\n",
    "jarvis_db_entry = json.dumps(json.loads(df[(df['jid']=='JVASP-670')].to_json(orient='records'))[0])\n",
    "\n",
    "kwargs = {\n",
    "    \"structure_string\": jarvis_db_entry,\n",
    "    \"cell_type\": \"original\",\n",
    "    \"structure_format\": \"jarvis-db-entry\"\n",
    "}\n",
    "\n",
    "handler = ExPrESS(\"structure\", **kwargs)\n",
    "data = handler.property(\"material\", **kwargs)\n",
    "\n",
    "# To preview resulting JSON data\n",
    "print(json.dumps(data, indent=4))"
   ],
   "metadata": {
    "collapsed": false
   },
   "id": "c41fb68c6d25fe48"
  },
  {
   "cell_type": "markdown",
   "source": [
    "## Upload to Mat3ra.com\n",
    "Finally, we can upload the material to Mat3ra.com using the REST API: follow the explanation in another example notebook [here](../../examples/material/create_material.ipynb). One can replace the content of the `CONFIG` variable with the JSON data above."
   ],
   "metadata": {
    "collapsed": false
   },
   "id": "a4a48479c7ea090f"
  }
 ],
 "metadata": {
  "kernelspec": {
   "display_name": "Python 3",
   "language": "python",
   "name": "python3"
  },
  "language_info": {
   "codemirror_mode": {
    "name": "ipython",
    "version": 2
   },
   "file_extension": ".py",
   "mimetype": "text/x-python",
   "name": "python",
   "nbconvert_exporter": "python",
   "pygments_lexer": "ipython2",
   "version": "2.7.6"
  }
 },
 "nbformat": 4,
 "nbformat_minor": 5
}
