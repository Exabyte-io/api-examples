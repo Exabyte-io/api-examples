{
  "nbformat": 4,
  "nbformat_minor": 0,
  "metadata": {
    "kernelspec": {
      "display_name": "Python 3",
      "language": "python",
      "name": "python3"
    },
    "language_info": {
      "codemirror_mode": {
        "name": "ipython",
        "version": 3
      },
      "file_extension": ".py",
      "mimetype": "text/x-python",
      "name": "python",
      "nbconvert_exporter": "python",
      "pygments_lexer": "ipython3",
      "version": "3.8.6"
    },
    "colab": {
      "name": "get_materials_by_formula.ipynb",
      "provenance": []
    }
  },
  "cells": [
    {
      "cell_type": "markdown",
      "metadata": {
        "id": "M9pqcsQ_CzO_"
      },
      "source": [
        "<a href=\"https://colab.research.google.com/github/Exabyte-io/exabyte-api-examples/blob/feature/SOF-4618/examples/material/get_materials_by_formula.ipynb\" target=\"_blank\">Open in Google Colab</a>"
      ]
    },
    {
      "cell_type": "markdown",
      "metadata": {
        "id": "wK3ZoE8wCzPB"
      },
      "source": [
        "# Overview\n",
        "\n",
        "Inside this example we contact [Material](https://docs.exabyte.io/api/Material/get_materials) endpoint to obtain a list materials that an account has access to. We use chemical formula to filter the list."
      ]
    },
    {
      "cell_type": "markdown",
      "metadata": {
        "id": "eTDhujSFCzPC"
      },
      "source": [
        "# Complete Authorization Form and Initialize Settings\n",
        "\n",
        "This will also determine environment and set all environment variables. We determine if we are using Jupyter Notebooks or Google Colab to run this tutorial.\n",
        "\n",
        "ACCOUNT_ID and AUTH_TOKEN - Authentication parameters needed for when making requests to [Exabyte.io's API Endpoints](https://docs.exabyte.io/rest-api/endpoints/).\n",
        "\n",
        "MATERIALS_PROJECT_API_KEY - Authentication parameter needed for when making requests to [Material Project's API](https://materialsproject.org/open)\n",
        "\n",
        "ORGANIZATION_ID - Authentication parameter needed for when working with collaborative accounts https://docs.exabyte.io/collaboration/organizations/overview/\n",
        "\n",
        "> <span style=\"color: orange\">**NOTE**</span>: If you are running this notebook from Jupyter, the variables ACCOUNT_ID, AUTH_TOKEN, MATERIALS_PROJECT_API_KEY, and ORGANIZATION_ID should be set in the file [settings.json](../settings.json) if you need to use these variables. To obtain API token parameters, please see the following link to the documentation explaining how to get them: https://docs.exabyte.io/accounts/ui/preferences/api/"
      ]
    },
    {
      "cell_type": "code",
      "metadata": {
        "id": "LbQQf3GpCzPD",
        "cellView": "form"
      },
      "source": [
        "#@title Authorization Form\n",
        "ACCOUNT_ID = \"ACCOUNT_ID\" #@param {type:\"string\"}\n",
        "AUTH_TOKEN = \"AUTH_TOKEN\" #@param {type:\"string\"}\n",
        "MATERIALS_PROJECT_API_KEY = \"MATERIALS_PROJECT_API_KEY\" #@param {type:\"string\"}\n",
        "ORGANIZATION_ID  = \"ORGANIZATION_ID\" #@param {type:\"string\"}\n",
        "import os, glob, sys, importlib, urllib.request\n",
        "\n",
        "# The below execution sets up runtime using code stored remotely in a url\n",
        "exec(urllib.request.urlopen('https://raw.githubusercontent.com/Exabyte-io/exabyte-api-examples/dev/examples/utils/initialize_settings.py').read())"
      ],
      "execution_count": null,
      "outputs": []
    },
    {
      "cell_type": "markdown",
      "metadata": {
        "id": "ClaSpX4BCzPD"
      },
      "source": [
        "# Imports"
      ]
    },
    {
      "cell_type": "code",
      "metadata": {
        "id": "kMwJxlkQCzPE"
      },
      "source": [
        "from utils.generic import display_JSON\n",
        "import settings; importlib.reload(settings)\n",
        "from settings import ENDPOINT_ARGS, ACCOUNT_ID\n",
        "\n",
        "from exabyte_api_client.endpoints.materials import MaterialEndpoints"
      ],
      "execution_count": null,
      "outputs": []
    },
    {
      "cell_type": "markdown",
      "metadata": {
        "id": "mbtRgwoBCzPE"
      },
      "source": [
        "## Set Parameters\n",
        "\n",
        "- **QUERY**: A query describing the documents to find. See [Meteor collection](https://docs.meteor.com/api/collections.html#Mongo-Collection-find) for more information."
      ]
    },
    {
      "cell_type": "code",
      "metadata": {
        "id": "KZWqlxVcCzPF"
      },
      "source": [
        "QUERY = {\n",
        "    \"formula\": \"Si\",\n",
        "    \"owner._id\": ACCOUNT_ID\n",
        "}"
      ],
      "execution_count": null,
      "outputs": []
    },
    {
      "cell_type": "markdown",
      "metadata": {
        "id": "wtOfD1UuCzPF"
      },
      "source": [
        "## Initialize the endpoint"
      ]
    },
    {
      "cell_type": "code",
      "metadata": {
        "id": "dolF1C6-CzPG"
      },
      "source": [
        "endpoint = MaterialEndpoints(*ENDPOINT_ARGS)"
      ],
      "execution_count": null,
      "outputs": []
    },
    {
      "cell_type": "markdown",
      "metadata": {
        "id": "kziWNLGnCzPG"
      },
      "source": [
        "## List materials\n",
        "\n",
        "Contact the endpoint to list materials according to the query above."
      ]
    },
    {
      "cell_type": "code",
      "metadata": {
        "id": "IE-K3TexCzPH"
      },
      "source": [
        "materials = endpoint.list(QUERY)"
      ],
      "execution_count": null,
      "outputs": []
    },
    {
      "cell_type": "markdown",
      "metadata": {
        "id": "fP8c01zaCzPH"
      },
      "source": [
        "## Print materials\n",
        "\n",
        "Print the list of materials saved under the corresponding variable in pretty JSON below."
      ]
    },
    {
      "cell_type": "code",
      "metadata": {
        "pycharm": {
          "name": "#%%\n"
        },
        "id": "LRVpf37eCzPH"
      },
      "source": [
        "display_JSON(materials)"
      ],
      "execution_count": null,
      "outputs": []
    }
  ]
}