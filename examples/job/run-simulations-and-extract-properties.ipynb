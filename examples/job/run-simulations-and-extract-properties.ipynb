version https://git-lfs.github.com/spec/v1
oid sha256:7b78bcadfbaa51fe086007125842551c9245e0df2ef9918c729bef6ddd3c4d0e
size 65452
