{
 "cells": [
  {
   "cell_type": "markdown",
   "id": "0",
   "metadata": {},
   "source": [
    "# Band Structure for Twisted Molybdenum Disulfide bilayers at various angles.\n",
    "\n",
    "## 0. Introduction.\n",
    "\n",
    "This notebook demonstrates how to generate a twisted interface between two materials using commensurate lattices. The example uses molybdenum disulfide (MoS2) as both the film and substrate materials. The notebook uses the new `create_commensurate_interface` function which first creates a slab from the material and then performs commensurate lattice matching to find valid supercells for the target twist angle. The algorithm searches for supercell matrices within specified size limits to achieve the target twist angle within tolerance. The generated interface is visualized and analyzed to determine the actual twist angle and the number of atoms in the interface.\n",
    "Then we calculate the band structure of the interface using a workflow, submitting a job and visualizing the results.\n",
    "\n",
    "> **Kaihui Liu, Liming Zhang, Ting Cao, Chenhao Jin, Diana Qiu, Qin Zhou, Alex Zettl, Peidong Yang, Steve G. Louie & Feng Wang**\n",
    "> Evolution of interlayer coupling in twisted molybdenum disulfide bilayers. Nature Communications, 5, 4966. 2014.\n",
    " > [https://doi.org/10.1038/ncomms5966](https://doi.org/10.1038/ncomms5966)\n",
    "\n",
    "The twisted MoS2 bilayers are shown in the following Figure 4 from the article.\n",
    "\n",
    "<img src=\"https://github.com/Exabyte-io/documentation/raw/12617167278ae3523adc028583b21ea4e8ebd197/images/tutorials/materials/interfaces/twisted-bilayer-molybdenum-disulfide/MoS2-twisted-bilayers.png\" alt=\"Twisted MoS2 bilayers\" width=\"600\"/>"
   ]
  },
  {
   "cell_type": "markdown",
   "id": "1",
   "metadata": {},
   "source": [
    "## 1. Prepare the Environment\n",
    "### 1.1. Set up the notebook\n",
    "Let's set angles and corresponding distances for the twisted interface from the article."
   ]
  },
  {
   "cell_type": "code",
   "execution_count": null,
   "id": "2",
   "metadata": {},
   "outputs": [],
   "source": [
    "# Uncomment lines to reproduce specific cases from the article\n",
    "INTERFACE_PARAMETERS = [\n",
    "    # {\"angle\": 0.0, \"distance\": 6.8},\n",
    "    # {\"angle\": 13.0, \"distance\": 6.5},\n",
    "    # {\"angle\": 22.0, \"distance\": 6.5},\n",
    "    # {\"angle\": 38.0, \"distance\": 6.5},\n",
    "    # {\"angle\": 47.0, \"distance\": 6.5},\n",
    "    {\"angle\": 60.0, \"distance\": 6.1},  # AB1\n",
    "]\n",
    "\n",
    "# Slab creation parameters\n",
    "MILLER_INDICES = (0, 0, 1)  # Miller indices for slab creation\n",
    "NUMBER_OF_LAYERS = 1  # Number of layers in the slab\n",
    "\n",
    "INTERFACE_VACUUM = 20.0  # in Angstroms\n",
    "\n",
    "# Search algorithm parameters\n",
    "MAX_REPETITION = None  # Maximum supercell matrix element value (None for automatic)\n",
    "ANGLE_TOLERANCE = 0.5  # in degrees\n",
    "RETURN_FIRST_MATCH = True  # If True, returns first solution within tolerance\n",
    "\n",
    "# Visualization parameters\n",
    "SHOW_INTERMEDIATE_STEPS = True\n",
    "VISUALIZE_REPETITIONS = [3, 3, 1]"
   ]
  },
  {
   "cell_type": "markdown",
   "id": "3",
   "metadata": {},
   "source": [
    " ### 1.2. Install packages\n",
    "The step executes only in Pyodide environment. For other environments, the packages should be installed via `pip install` (see [README](../../README.ipynb))."
   ]
  },
  {
   "cell_type": "code",
   "execution_count": null,
   "id": "4",
   "metadata": {},
   "outputs": [],
   "source": [
    "import sys\n",
    "\n",
    "if sys.platform == \"emscripten\":\n",
    "    import micropip\n",
    "\n",
    "    await micropip.install(\"mat3ra-api-examples\", deps=False)\n",
    "    await micropip.install(\"mat3ra-utils\")\n",
    "    from mat3ra.utils.jupyterlite.packages import install_packages\n",
    "\n",
    "    await install_packages(\"specific_examples|api_examples\")"
   ]
  },
  {
   "cell_type": "markdown",
   "id": "5",
   "metadata": {},
   "source": [
    "### 1.3. Get input material\n",
    "We'll use the MoS2 material from Standata.\n"
   ]
  },
  {
   "cell_type": "code",
   "execution_count": null,
   "id": "6",
   "metadata": {},
   "outputs": [],
   "source": [
    "from mat3ra.made.material import Material\n",
    "from mat3ra.standata.materials import Materials\n",
    "from utils.visualize import visualize_materials\n",
    "\n",
    "material = Material.create(Materials.get_by_name_and_categories(\"MoS2\", \"2D\"))\n",
    "\n",
    "print(\"Initial material properties:\")\n",
    "print(f\"Formula: {material.formula}\")\n",
    "print(f\"Number of atoms: {len(material.basis.elements.ids)}\")\n",
    "\n",
    "if SHOW_INTERMEDIATE_STEPS:\n",
    "    visualize_materials(material, repetitions=VISUALIZE_REPETITIONS)\n",
    "    visualize_materials(material, repetitions=VISUALIZE_REPETITIONS, rotation=\"-90x\")"
   ]
  },
  {
   "cell_type": "markdown",
   "id": "7",
   "metadata": {},
   "source": [
    " ## 3. Generate Twisted Interface\n",
    " ### 3.1. Create slab\n"
   ]
  },
  {
   "cell_type": "code",
   "execution_count": null,
   "id": "8",
   "metadata": {},
   "outputs": [],
   "source": [
    "from mat3ra.made.tools.modify import translate_to_z_level\n",
    "from mat3ra.esse.models.core.reusable.axis_enum import AxisEnum\n",
    "from mat3ra.made.tools.helpers import create_slab\n",
    "from mat3ra.made.tools.helpers import create_interface_commensurate as create_commensurate_interface\n",
    "\n",
    "slab = create_slab(\n",
    "    crystal=material,\n",
    "    miller_indices=MILLER_INDICES,\n",
    "    number_of_layers=NUMBER_OF_LAYERS,\n",
    "    vacuum=0.0,  # No vacuum in the slab, it is a 2D material\n",
    ")\n",
    "slab = translate_to_z_level(slab, \"center\")\n",
    "\n",
    "visualize_materials(slab, rotation=\"-90x\")"
   ]
  },
  {
   "cell_type": "markdown",
   "id": "9",
   "metadata": {},
   "source": [
    "### 3.2. Create twisted interfaces"
   ]
  },
  {
   "cell_type": "code",
   "execution_count": null,
   "id": "10",
   "metadata": {},
   "outputs": [],
   "source": [
    "interfaces = []\n",
    "for parameters in INTERFACE_PARAMETERS:\n",
    "    interface = create_commensurate_interface(\n",
    "        material=slab,\n",
    "        target_angle=parameters[\"angle\"],\n",
    "        angle_tolerance=ANGLE_TOLERANCE,\n",
    "        max_repetition_int=MAX_REPETITION,\n",
    "        return_first_match=RETURN_FIRST_MATCH,\n",
    "        direction=AxisEnum.z,\n",
    "        gap=parameters[\"distance\"],\n",
    "        vacuum=INTERFACE_VACUUM,\n",
    "    )\n",
    "\n",
    "    # resetting labels to not interfere with pseudopotential element names\n",
    "    original_labels = interface.basis.labels\n",
    "    interface.basis.set_labels_from_list([])\n",
    "    interface.name = f\"{interface.name} {parameters['angle']} degrees\"\n",
    "    interfaces.append(interface)\n",
    "    print(f\"Created interface with twist angle {parameters['angle']}° and {len(interface.basis.elements.ids)} atoms\")"
   ]
  },
  {
   "cell_type": "markdown",
   "id": "11",
   "metadata": {},
   "source": [
    "## 4. Preview the  materials\n"
   ]
  },
  {
   "cell_type": "code",
   "execution_count": null,
   "id": "12",
   "metadata": {},
   "outputs": [],
   "source": [
    "from utils.visualize import visualize_materials\n",
    "\n",
    "for interface in interfaces:\n",
    "    visualize_materials(interface, title=interface.name, viewer=\"wave\")"
   ]
  },
  {
   "cell_type": "markdown",
   "id": "ed801fd8207071b1",
   "metadata": {},
   "source": [
    "## 5. Save materials"
   ]
  },
  {
   "cell_type": "code",
   "execution_count": null,
   "id": "3a28d9803d4d66cc",
   "metadata": {},
   "outputs": [],
   "source": [
    "from utils.jupyterlite import set_materials\n",
    "\n",
    "set_materials(interfaces)"
   ]
  },
  {
   "cell_type": "markdown",
   "id": "ccabb1ef14be9745",
   "metadata": {},
   "source": [
    "## 6. Add materials to your collection\n",
    "### 6.1. Authenticate on the Platform"
   ]
  },
  {
   "cell_type": "code",
   "execution_count": null,
   "id": "864643067a2220b8",
   "metadata": {},
   "outputs": [],
   "source": [
    "ACCOUNT_ID = \"ACCOUNT_ID\"\n",
    "AUTH_TOKEN = \"AUTH_TOKEN\"\n",
    "ORGANIZATION_ID = \"ORGANIZATION_ID\"\n",
    "\n",
    "import os\n",
    "import sys\n",
    "\n",
    "if sys.platform == \"emscripten\":\n",
    "    # Only works if launched within the Platform, otherwise requires redirect to Login\n",
    "    apiConfig = data_from_host.get(\"apiConfig\")\n",
    "    os.environ.update(data_from_host.get(\"environ\", {}))\n",
    "    os.environ.update(\n",
    "        dict(\n",
    "            ACCOUNT_ID=apiConfig.get(\"accountId\"),\n",
    "            AUTH_TOKEN=apiConfig.get(\"authToken\"),\n",
    "            ORGANIZATION_ID=apiConfig.get(\"organizationId\") or \"\",\n",
    "        )\n",
    "    )"
   ]
  },
  {
   "cell_type": "markdown",
   "id": "13",
   "metadata": {},
   "source": [
    "### 6.2. Add materials to your Collection via API\n"
   ]
  },
  {
   "cell_type": "code",
   "execution_count": null,
   "id": "a04951f277d7dda",
   "metadata": {},
   "outputs": [],
   "source": [
    "from utils.settings import ENDPOINT_ARGS, ACCOUNT_ID\n",
    "from utils.generic import display_JSON\n",
    "from exabyte_api_client.endpoints.materials import MaterialEndpoints\n",
    "\n",
    "OWNER_ID = os.getenv(\"ORGANIZATION_ID\") or ACCOUNT_ID\n",
    "endpoint = MaterialEndpoints(*ENDPOINT_ARGS)\n",
    "\n",
    "saved_materials = []\n",
    "for interface in interfaces:\n",
    "    RAW_CONFIG = interface.to_dict()\n",
    "    fields = [\"name\", \"lattice\", \"basis\"]\n",
    "    CONFIG = {key: RAW_CONFIG[key] for key in fields}\n",
    "\n",
    "    saved_material = endpoint.create(CONFIG, OWNER_ID)\n",
    "    saved_materials.append(saved_material)"
   ]
  },
  {
   "cell_type": "markdown",
   "id": "1b331ab644de9c92",
   "metadata": {},
   "source": [
    "### 6.3. Verify material creation"
   ]
  },
  {
   "cell_type": "code",
   "execution_count": null,
   "id": "74c71d77416d5d6a",
   "metadata": {},
   "outputs": [],
   "source": [
    "for saved_material in saved_materials:\n",
    "    display_JSON(saved_material)"
   ]
  },
  {
   "cell_type": "markdown",
   "id": "bd62d6bdc54de1d4",
   "metadata": {},
   "source": [
    "### 6.4. Get material id"
   ]
  },
  {
   "cell_type": "code",
   "execution_count": null,
   "id": "b94582729a97af3b",
   "metadata": {},
   "outputs": [],
   "source": [
    "material_ids = [saved_material.get(\"_id\") for saved_material in saved_materials]\n",
    "print(\"Material IDs:\", material_ids)"
   ]
  },
  {
   "cell_type": "markdown",
   "id": "8701b981ca321fd4",
   "metadata": {},
   "source": [
    "## 7. Setup workflow"
   ]
  },
  {
   "cell_type": "markdown",
   "id": "9378dd5bdba80208",
   "metadata": {},
   "source": [
    "### 7.1. Set Parameters\n",
    "\n",
    "- **QUERY**: A query describing the documents to find. See [Meteor collection](https://docs.meteor.com/api/collections.html#Mongo-Collection-find) for more information.\n",
    "\n",
    "- **limit**: Maximum number of results to return. See [Meteor collection](https://docs.meteor.com/api/collections.html#Mongo-Collection-find) for more information."
   ]
  },
  {
   "cell_type": "code",
   "execution_count": null,
   "id": "b2bb916363814bef",
   "metadata": {
    "id": "xCEktmwiIQAZ"
   },
   "outputs": [],
   "source": [
    "OWNER_ID = os.getenv(\"ORGANIZATION_ID\") or ACCOUNT_ID\n",
    "WORKFLOW_SYSTEM_NAME = \"espresso-band-structure\"  # Name of the workflow to copy\n",
    "RELAXATION_WORKFLOW_QUERY = {\"systemName\": \"espresso-variable-cell-relaxation\"}\n",
    "\n",
    "OPTIONS = {\"limit\": 1}"
   ]
  },
  {
   "cell_type": "markdown",
   "id": "4d62b7581cadce68",
   "metadata": {},
   "source": [
    "### 7.2. Initialize the endpoint\n",
    "\n",
    "Initialize a helper class to interact with `WorkflowEndpoints`. This only has to be done once."
   ]
  },
  {
   "cell_type": "code",
   "execution_count": null,
   "id": "73260868efc509f2",
   "metadata": {
    "id": "dX3VXdWJIQAX"
   },
   "outputs": [],
   "source": [
    "from exabyte_api_client import BankWorkflowEndpoints, WorkflowEndpoints\n",
    "from utils.settings import ENDPOINT_ARGS, ACCOUNT_ID\n",
    "from utils.generic import display_JSON, copy_bank_workflow_by_system_name\n",
    "\n",
    "bank_workflow_endpoints = BankWorkflowEndpoints(*ENDPOINT_ARGS)\n",
    "workflow_endpoints = WorkflowEndpoints(*ENDPOINT_ARGS)\n",
    "\n",
    "band_structure_workflow_id = copy_bank_workflow_by_system_name(bank_workflow_endpoints, WORKFLOW_SYSTEM_NAME, OWNER_ID)"
   ]
  },
  {
   "cell_type": "markdown",
   "id": "eae964add22dd5a2",
   "metadata": {},
   "source": [
    "### 7.3. Get the relaxation subworkflow"
   ]
  },
  {
   "cell_type": "code",
   "execution_count": null,
   "id": "94872b1b48700ea1",
   "metadata": {},
   "outputs": [],
   "source": [
    "relaxation_workflow = bank_workflow_endpoints.list(RELAXATION_WORKFLOW_QUERY, OPTIONS)[0]\n",
    "swf_0 = relaxation_workflow[\"subworkflows\"][0]"
   ]
  },
  {
   "cell_type": "markdown",
   "id": "ff507af7aca261ca",
   "metadata": {},
   "source": [
    "### 7.4. Create the modifier for the workflow\n",
    "\n",
    "Contact the endpoint to get the workflow by its ID. Adjust the necessary parameters in the workflow modifier to set the functional and method for the band gap calculation."
   ]
  },
  {
   "cell_type": "code",
   "execution_count": null,
   "id": "3974759be94c7273",
   "metadata": {},
   "outputs": [],
   "source": [
    "QUERY = {\"_id\": band_structure_workflow_id, \"owner._id\": OWNER_ID}\n",
    "workflow = workflow_endpoints.list(QUERY, OPTIONS)[0]\n",
    "\n",
    "modifier_0 = {\n",
    "    \"name\": \"Band Structure (LDA)\",\n",
    "}\n",
    "\n",
    "swf_1 = workflow[\"subworkflows\"][0]\n",
    "\n",
    "model = {\n",
    "    \"type\": \"dft\",\n",
    "    \"subtype\": \"lda\",  # Is changed\n",
    "    \"method\": {\"type\": \"pseudopotential\", \"subtype\": \"us\", \"data\": {}},\n",
    "    \"functional\": {\"slug\": \"pz\"},  # Is changed\n",
    "    \"refiners\": [],\n",
    "    \"modifiers\": [],\n",
    "}"
   ]
  },
  {
   "cell_type": "markdown",
   "id": "f60906d975fac765",
   "metadata": {},
   "source": [
    "### 7.5.Combine the subworkflows"
   ]
  },
  {
   "cell_type": "code",
   "execution_count": null,
   "id": "196798728b1f0e4d",
   "metadata": {},
   "outputs": [],
   "source": [
    "swf_0[\"model\"] = model\n",
    "swf_1[\"model\"] = model\n",
    "\n",
    "# remove the last unit from the subworkflow, since it is not needed for band structure calculation\n",
    "del swf_1[\"units\"][1][\"next\"]  # remove the connection to the last unit\n",
    "swf_1[\"units\"] = [swf_1[\"units\"][0], swf_1[\"units\"][1]]\n",
    "\n",
    "modifier_1 = {\"subworkflows\": [swf_0, swf_1]}"
   ]
  },
  {
   "cell_type": "markdown",
   "id": "d532dbee49974759",
   "metadata": {},
   "source": [
    "### 7.6. Update workflow\n",
    "\n"
   ]
  },
  {
   "cell_type": "code",
   "execution_count": null,
   "id": "4769f332a5e9a45a",
   "metadata": {
    "colab": {
     "base_uri": "https://localhost:8080/"
    },
    "id": "KSJgpWRzIQAb",
    "outputId": "7ee3b7f6-208f-427e-ee32-07486078072c"
   },
   "outputs": [],
   "source": [
    "workflow_endpoints.update(id_=band_structure_workflow_id, modifier=modifier_0)\n",
    "workflow_endpoints.update(id_=band_structure_workflow_id, modifier=modifier_1)"
   ]
  },
  {
   "cell_type": "markdown",
   "id": "9a79acc38b2335fc",
   "metadata": {},
   "source": [
    "### 7.7. Get units"
   ]
  },
  {
   "cell_type": "code",
   "execution_count": null,
   "id": "f3abdd51b2f8bf7a",
   "metadata": {},
   "outputs": [],
   "source": [
    "unit_0 = relaxation_workflow[\"units\"][0]\n",
    "unit_1 = workflow[\"units\"][0]\n",
    "\n",
    "# Connect the units\n",
    "unit_0[\"next\"] = unit_1[\"flowchartId\"]\n",
    "unit_1[\"head\"] = False"
   ]
  },
  {
   "cell_type": "markdown",
   "id": "c7b7cd2b8b0ac11f",
   "metadata": {},
   "source": [
    "### 7.8. Create modifier for units"
   ]
  },
  {
   "cell_type": "code",
   "execution_count": null,
   "id": "74f0541ba00ce363",
   "metadata": {},
   "outputs": [],
   "source": [
    "modifier_2 = {\"units\": [unit_0, unit_1]}\n",
    "workflow_endpoints.update(id_=band_structure_workflow_id, modifier=modifier_2)"
   ]
  },
  {
   "cell_type": "markdown",
   "id": "f1fe16cd23312cd8",
   "metadata": {},
   "source": [
    "### 7.9. Verify the workflow"
   ]
  },
  {
   "cell_type": "code",
   "execution_count": null,
   "id": "ca2e043c42b56d4",
   "metadata": {},
   "outputs": [],
   "source": [
    "# Fetch the updated workflow\n",
    "workflow = workflow_endpoints.list(QUERY, OPTIONS)[0]\n",
    "display_JSON(workflow)"
   ]
  },
  {
   "cell_type": "markdown",
   "id": "acf0eba783f93826",
   "metadata": {},
   "source": [
    "## 8. Create a job with the workflow and material\n",
    "### 8.1. Set Parameters"
   ]
  },
  {
   "cell_type": "code",
   "execution_count": null,
   "id": "556b192138037930",
   "metadata": {},
   "outputs": [],
   "source": [
    "from exabyte_api_client.endpoints.materials import MaterialEndpoints\n",
    "from exabyte_api_client.endpoints.jobs import JobEndpoints\n",
    "from exabyte_api_client.endpoints.projects import ProjectEndpoints\n",
    "\n",
    "from datetime import datetime\n",
    "\n",
    "material_endpoints = MaterialEndpoints(*ENDPOINT_ARGS)\n",
    "OWNER_ID = os.getenv(\"ORGANIZATION_ID\") or ACCOUNT_ID\n",
    "\n",
    "project_endpoints = ProjectEndpoints(*ENDPOINT_ARGS)\n",
    "project_id = project_endpoints.list({\"isDefault\": True, \"owner._id\": OWNER_ID})[0][\"_id\"]\n",
    "\n",
    "job_endpoints = JobEndpoints(*ENDPOINT_ARGS)\n",
    "\n",
    "timestamp = datetime.now().strftime(\"%Y-%m-%d %H:%M\")  # for name to be found easily\n",
    "\n",
    "JOB_NAME = f\"Band Structure {timestamp}\""
   ]
  },
  {
   "cell_type": "markdown",
   "id": "e0775edb5c484080",
   "metadata": {},
   "source": [
    "### 8.2. Create jobs"
   ]
  },
  {
   "cell_type": "code",
   "execution_count": null,
   "id": "a06f4c60fb9813c6",
   "metadata": {},
   "outputs": [],
   "source": [
    "jobs = job_endpoints.create_by_ids(\n",
    "    materials=saved_materials, workflow_id=workflow[\"_id\"], project_id=project_id, prefix=JOB_NAME, owner_id=OWNER_ID\n",
    ")\n",
    "\n",
    "display_JSON(jobs)"
   ]
  },
  {
   "cell_type": "markdown",
   "id": "b320c41164de1cda",
   "metadata": {},
   "source": [
    "### 8.3. Move jobs to set"
   ]
  },
  {
   "cell_type": "code",
   "execution_count": null,
   "id": "36be8bd088fa8569",
   "metadata": {},
   "outputs": [],
   "source": [
    "from exabyte_api_client import ProjectEndpoints\n",
    "\n",
    "project_endpoints = ProjectEndpoints(*ENDPOINT_ARGS)\n",
    "project_id = project_endpoints.list({\"isDefault\": True, \"owner._id\": OWNER_ID})[0][\"_id\"]\n",
    "\n",
    "JOBS_SET_NAME = None\n",
    "\n",
    "if JOBS_SET_NAME is not None:\n",
    "    jobs_set = job_endpoints.create_set({\"name\": JOBS_SET_NAME, \"projectId\": project_id, \"owner\": {\"_id\": OWNER_ID}})\n",
    "    for job in jobs:\n",
    "        job_endpoints.move_to_set(job[\"_id\"], \"\", jobs_set[\"_id\"])\n",
    "\n",
    "workflow_in_job = jobs[0][\"workflow\"]"
   ]
  },
  {
   "cell_type": "markdown",
   "id": "730ea43eae2a85e1",
   "metadata": {},
   "source": [
    "### 8.4. Update job with new parameters"
   ]
  },
  {
   "cell_type": "code",
   "execution_count": null,
   "id": "4d0c0bb588b4fbe6",
   "metadata": {},
   "outputs": [],
   "source": [
    "kgrid_relax = [6, 6, 1]\n",
    "\n",
    "modifier_relax = {\n",
    "    \"workflow.subworkflows.0.units.0.context\": {\n",
    "        \"kgrid\": {\n",
    "            \"dimensions\": kgrid_relax,\n",
    "            \"shifts\": [0, 0, 0],\n",
    "            \"reciprocalVectorRatios\": [1, 1, 1],\n",
    "            \"gridMetricType\": \"KPPRA\",\n",
    "            \"gridMetricValue\": 2,\n",
    "            \"preferGridMetric\": False,\n",
    "        },\n",
    "        \"isKgridEdited\": True,\n",
    "        \"subworkflowContext\": {},\n",
    "    }\n",
    "}"
   ]
  },
  {
   "cell_type": "markdown",
   "id": "fc822d46b4295289",
   "metadata": {},
   "source": "### 8.5. Update each job with the modifier"
  },
  {
   "cell_type": "code",
   "execution_count": null,
   "id": "2c8f1c529cda6b1e",
   "metadata": {},
   "outputs": [],
   "source": [
    "for job in jobs:\n",
    "    job_endpoints.update(id_=job[\"_id\"], modifier={\"updateParameters\": {\"skipRender\": False}, **modifier_relax})"
   ]
  },
  {
   "cell_type": "markdown",
   "id": "ca04d2a65d580354",
   "metadata": {},
   "source": [
    "## 9. Submit the job"
   ]
  },
  {
   "cell_type": "code",
   "execution_count": null,
   "id": "482606f85a9606",
   "metadata": {},
   "outputs": [],
   "source": [
    "for job in jobs:\n",
    "    job_endpoints.submit(job[\"_id\"])"
   ]
  },
  {
   "cell_type": "markdown",
   "id": "dc894f38be19083",
   "metadata": {},
   "source": [
    "## 10. Get results\n",
    "### 10.1. Wait for jobs to finish"
   ]
  },
  {
   "cell_type": "code",
   "execution_count": null,
   "id": "dc2a179ba96bba05",
   "metadata": {},
   "outputs": [],
   "source": [
    "from utils.generic import wait_for_jobs_to_finish\n",
    "\n",
    "job_ids = [job[\"_id\"] for job in jobs]\n",
    "\n",
    "wait_for_jobs_to_finish(job_endpoints, job_ids, poll_interval=60)"
   ]
  },
  {
   "cell_type": "markdown",
   "id": "11db5733d3c40bcd",
   "metadata": {},
   "source": [
    "### 10.2. Get the Band Gap property"
   ]
  },
  {
   "cell_type": "code",
   "execution_count": null,
   "id": "74321d4024212f8c",
   "metadata": {},
   "outputs": [],
   "source": [
    "from exabyte_api_client.endpoints.properties import PropertiesEndpoints\n",
    "\n",
    "property_endpoints = PropertiesEndpoints(*ENDPOINT_ARGS)\n",
    "\n",
    "results = []\n",
    "for material in saved_materials:\n",
    "    job = next((job for job in jobs if job[\"_material\"][\"_id\"] == material[\"_id\"]))\n",
    "    unit_flowchart_id_0 = job[\"workflow\"][\"subworkflows\"][1][\"units\"][0][\"flowchartId\"]\n",
    "    fermi_level = property_endpoints.get_property(\n",
    "        job[\"_id\"],\n",
    "        unit_flowchart_id=unit_flowchart_id_0,\n",
    "        property_name=\"fermi_energy\",\n",
    "    )\n",
    "\n",
    "    unit_flowchart_id_1 = job[\"workflow\"][\"subworkflows\"][1][\"units\"][1][\"flowchartId\"]\n",
    "    band_structure = property_endpoints.get_property(\n",
    "        job[\"_id\"],\n",
    "        unit_flowchart_id=unit_flowchart_id_1,\n",
    "        property_name=\"band_structure\",\n",
    "    )\n",
    "\n",
    "    results.append(\n",
    "        {\n",
    "            \"material_id\": material[\"_id\"],\n",
    "            \"fermi_level\": fermi_level,\n",
    "            \"band_structure\": band_structure,\n",
    "        }\n",
    "    )"
   ]
  },
  {
   "cell_type": "markdown",
   "id": "8a14436bb11da911",
   "metadata": {},
   "source": [
    "### 10.3. Plotting functions"
   ]
  },
  {
   "cell_type": "code",
   "execution_count": null,
   "id": "7001d244ae11f10a",
   "metadata": {},
   "outputs": [],
   "source": [
    "import matplotlib.pyplot as plt\n",
    "import numpy as np\n",
    "\n",
    "\n",
    "def get_high_symmetry_points():\n",
    "    \"\"\"High-symmetry points for 2D hexagonal lattices (like MoS2)\"\"\"\n",
    "    return {\n",
    "        (0, 0, 0): \"Γ\",\n",
    "        (0.5, 0, 0): \"M\",\n",
    "        (0, 0.5, 0): \"M\",\n",
    "        (-0.5, 0, 0): \"M\",\n",
    "        (0, -0.5, 0): \"M\",\n",
    "        (1 / 3, 1 / 3, 0): \"K\",\n",
    "        (-1 / 3, 1 / 3, 0): \"K\",\n",
    "        (1 / 3, -1 / 3, 0): \"K\",\n",
    "        (-1 / 3, -1 / 3, 0): \"K\",\n",
    "    }\n",
    "\n",
    "\n",
    "def find_high_symmetry_labels(xDataArray, tolerance=0.05):\n",
    "    \"\"\"Find high-symmetry points in the k-path\"\"\"\n",
    "    high_sym_points = get_high_symmetry_points()\n",
    "    labels = []\n",
    "    positions = []\n",
    "\n",
    "    for i, k_point in enumerate(xDataArray):\n",
    "        k_frac = np.array(k_point)\n",
    "        best_match = None\n",
    "        best_distance = float(\"inf\")\n",
    "\n",
    "        for sym_k, label in high_sym_points.items():\n",
    "            distance = np.linalg.norm(k_frac - np.array(sym_k))\n",
    "            if distance < tolerance and distance < best_distance:\n",
    "                best_distance = distance\n",
    "                best_match = (label, i)\n",
    "\n",
    "        if best_match:\n",
    "            label, pos = best_match\n",
    "            # Avoid consecutive duplicates\n",
    "            if not labels or labels[-1] != label:\n",
    "                labels.append(label)\n",
    "                positions.append(pos)\n",
    "\n",
    "    return positions, labels\n",
    "\n",
    "\n",
    "def plot_band_structure_with_labels(band_structure_data, ylim=None, title=\"Band Structure\"):\n",
    "    xDataArray = band_structure_data[\"xDataArray\"]\n",
    "    yDataSeries = band_structure_data[\"yDataSeries\"]\n",
    "\n",
    "    # Calculate k-point distances\n",
    "    k_distances = [0]\n",
    "    for i in range(1, len(xDataArray)):\n",
    "        prev_k = np.array(xDataArray[i - 1])\n",
    "        curr_k = np.array(xDataArray[i])\n",
    "        distance = np.linalg.norm(curr_k - prev_k)\n",
    "        k_distances.append(k_distances[-1] + distance)\n",
    "\n",
    "    # Find high-symmetry points\n",
    "    sym_positions, sym_labels = find_high_symmetry_labels(xDataArray)\n",
    "\n",
    "    # Plot bands\n",
    "    plt.figure(figsize=(10, 6))\n",
    "    for energies in yDataSeries:\n",
    "        plt.plot(k_distances, energies, \"b-\", linewidth=1)\n",
    "\n",
    "    # Add vertical lines at high-symmetry points\n",
    "    for pos in sym_positions:\n",
    "        plt.axvline(x=k_distances[pos], color=\"r\", linestyle=\"--\", alpha=0.5)\n",
    "\n",
    "    # Set x-axis labels\n",
    "    if sym_positions and sym_labels:\n",
    "        plt.xticks([k_distances[pos] for pos in sym_positions], sym_labels)\n",
    "\n",
    "    # Set y-axis limits\n",
    "    if ylim:\n",
    "        plt.ylim(ylim)\n",
    "\n",
    "    plt.xlabel(\"k-point path\")\n",
    "    plt.ylabel(\"Energy (eV)\")\n",
    "    plt.title(title)\n",
    "    plt.grid(True, alpha=0.3)\n",
    "    plt.tight_layout()\n",
    "    plt.show()"
   ]
  },
  {
   "cell_type": "markdown",
   "id": "4c0a71319d232ce4",
   "metadata": {},
   "source": [
    "### 10.4. Plot the band structure"
   ]
  },
  {
   "cell_type": "code",
   "execution_count": null,
   "id": "55dbf69e4be9ccf2",
   "metadata": {},
   "outputs": [],
   "source": [
    "MAX_E = 4.0  # Maximum energy for y-axis limit, eV\n",
    "MIN_E = -2.0  # Minimum energy for y-axis limit, eV\n",
    "\n",
    "for result in results:\n",
    "    if result[\"band_structure\"]:\n",
    "        band_data = result[\"band_structure\"][\"data\"]\n",
    "        # adjust for Fermi level\n",
    "        fermi_level = result[\"fermi_level\"][\"data\"][\"value\"]\n",
    "        for i in range(len(band_data[\"yDataSeries\"])):\n",
    "            band_data[\"yDataSeries\"][i] = [e - fermi_level for e in band_data[\"yDataSeries\"][i]]\n",
    "\n",
    "        plot_band_structure_with_labels(band_data, ylim=[MIN_E, MAX_E])"
   ]
  }
 ],
 "metadata": {
  "kernelspec": {
   "display_name": "Python 3",
   "language": "python",
   "name": "python3"
  },
  "language_info": {
   "codemirror_mode": {
    "name": "ipython",
    "version": 2
   },
   "file_extension": ".py",
   "mimetype": "text/x-python",
   "name": "python",
   "nbconvert_exporter": "python",
   "pygments_lexer": "ipython2",
   "version": "2.7.6"
  }
 },
 "nbformat": 4,
 "nbformat_minor": 5
}
