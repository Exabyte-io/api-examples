{
  "cells": [
    {
      "cell_type": "markdown",
      "metadata": {},
      "source": [
        "Interface creation employs Zur and McGill matching superlattices algorithm\n"
      ]
    },
    {
      "cell_type": "code",
      "execution_count": null,
      "metadata": {},
      "outputs": [],
      "source": [
        "from utils import install_packages\n",
        "\n",
        "await install_packages(verbose=False)\n",
        "from definitions import get_materials, set_materials, to_pymatgen, from_pymatgen, plot_strain_vs_atoms\n",
        "from params import (\n",
        "    zsl_widgets,\n",
        "    interface_widgets,\n",
        "    update_params,\n",
        "    display_form,\n",
        "    get_zsl_generator_params,\n",
        "    get_interface_params,\n",
        "    get_plot_settings,\n",
        ")\n",
        "\n",
        "display_form(zsl_widgets, interface_widgets, update_params)"
      ]
    },
    {
      "cell_type": "code",
      "execution_count": null,
      "metadata": {},
      "outputs": [],
      "source": [
        "get_materials()"
      ]
    },
    {
      "cell_type": "code",
      "execution_count": null,
      "metadata": {
        "tags": [],
        "trusted": true
      },
      "outputs": [],
      "source": [
        "from pymatgen_coherent_interface_builder import CoherentInterfaceBuilder, ZSLGenerator\n",
        "from operator import itemgetter\n",
        "\n",
        "pymatgen_materials = [to_pymatgen(item) for item in data]\n",
        "for material in pymatgen_materials:\n",
        "    print(material)\n",
        "\n",
        "\n",
        "def create_interfaces(settings):\n",
        "    # Create Interface Builder class\n",
        "    zsl = ZSLGenerator(\n",
        "        max_area_ratio_tol=settings[\"MAX_AREA_TOL\"],\n",
        "        max_area=settings[\"MAX_AREA\"],\n",
        "        max_length_tol=settings[\"MAX_LENGTH_TOL\"],\n",
        "        max_angle_tol=settings[\"MAX_ANGLE_TOL\"],\n",
        "    )\n",
        "\n",
        "    cib = CoherentInterfaceBuilder(\n",
        "        substrate_structure=pymatgen_materials[settings[\"SUBSTRATE_INDEX\"]],\n",
        "        film_structure=pymatgen_materials[settings[\"LAYER_INDEX\"]],\n",
        "        substrate_miller=settings[\"SUBSTRATE_MILLER\"],\n",
        "        film_miller=settings[\"LAYER_MILLER\"],\n",
        "        zslgen=zsl,\n",
        "        strain_tol=settings[\"STRAIN_TOL\"],\n",
        "    )\n",
        "\n",
        "    # Run the Interface Building process\n",
        "    cib._find_terminations()\n",
        "    matches = cib.zsl_matches\n",
        "    terminations = cib.terminations\n",
        "\n",
        "    # Create interfaces\n",
        "    interfaces = []\n",
        "    for termination in terminations:\n",
        "        interfaces = list(\n",
        "            cib.get_interfaces(\n",
        "                termination,\n",
        "                gap=settings[\"DISPLACEMENT_Z\"],\n",
        "                film_thickness=settings[\"LAYER_THICKNESS\"],\n",
        "                substrate_thickness=settings[\"SUBSTRATE_THICKNESS\"],\n",
        "                in_layers=True,\n",
        "            )\n",
        "        )\n",
        "\n",
        "    print(f\"Found {len(matches)} interfaces\")\n",
        "    print(f\"Found {len(terminations)} terminations:\", terminations)\n",
        "\n",
        "    strain_modes = {\n",
        "        \"VON_MISES\": \"von_mises_strain\",\n",
        "        \"STRAIN\": \"strain\",\n",
        "        \"MEAN\": \"mean_abs_strain\",\n",
        "    }\n",
        "    strain_mode = strain_modes[\"MEAN\"]\n",
        "    interfaces_list = list(interfaces)\n",
        "\n",
        "    # Sort interfaces by ascending strain and then by ascending number of atoms\n",
        "    sorted_interfaces = sorted(\n",
        "        interfaces_list,\n",
        "        key=lambda x: (itemgetter(strain_mode)(x), x[\"interface\"].num_sites),\n",
        "    )\n",
        "\n",
        "    print(\"Interface with lowest strain (index 0):\")\n",
        "    print(\"    strain:\", sorted_interfaces[0][strain_mode] * 100, \"%\")\n",
        "    print(\"    number of atoms:\", sorted_interfaces[0][\"interface\"].num_sites)\n",
        "    PS = get_plot_settings()\n",
        "    # plot stran vs number of atoms via matplotlib\n",
        "    plot_strain_vs_atoms(strain_mode, sorted_interfaces, settings=PS)\n",
        "    return sorted_interfaces\n",
        "\n",
        "\n",
        "ZP = get_zsl_generator_params()\n",
        "IP = get_interface_params()\n",
        "interfaces = create_interfaces(settings={**ZP, **IP})"
      ]
    },
    {
      "cell_type": "code",
      "execution_count": null,
      "metadata": {},
      "outputs": [],
      "source": [
        "m3_esse = from_pymatgen(interfaces[0][\"interface\"])\n",
        "set_materials([m3_esse])"
      ]
    }
  ],
  "metadata": {
    "kernelspec": {
      "display_name": ".venv",
      "language": "python",
      "name": "python3"
    },
    "language_info": {
      "codemirror_mode": {
        "name": "ipython",
        "version": 3
      },
      "file_extension": ".py",
      "mimetype": "text/x-python",
      "name": "python",
      "nbconvert_exporter": "python",
      "pygments_lexer": "ipython3",
      "version": "3.10.12"
    },
    "widgets": {
      "application/vnd.jupyter.widget-state+json": {
        "state": {},
        "version_major": 2,
        "version_minor": 0
      }
    }
  },
  "nbformat": 4,
  "nbformat_minor": 4
}
