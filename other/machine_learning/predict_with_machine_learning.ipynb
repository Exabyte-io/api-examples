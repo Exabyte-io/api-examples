{
 "cells": [
  {
   "cell_type": "markdown",
   "id": "married-camera",
   "metadata": {},
   "source": [
    "# Predict Adsorption Energies with Machine Learning\n",
    "\n",
    "This notebook was created to facilitate our April 2021 webinar, which detailed the creation of a simple model of CO adsorption. The video can be found in the following link:\n",
    "\n",
    "https://www.youtube.com/watch?v=wOrqnR8UAbQ\n",
    "\n",
    "The descriptors and dataset used in the machine learning portion of this notebook are based on the following work:\n",
    "\n",
    "Dean, J.; Taylor, M. G.; Mpourmpakis, G. Unfolding Adsorption on Metal Nanoparticles: Connecting Stability with catalysis. Sci Adv 2019, 5 (9), eaax5101. DOI: doi.org/10.1126/sciadv.aax5101\n",
    "\n",
    "In this notebook example, we automate the placement of CO molecules to several Cu slabs. We then submit all of these adsorbed states to the cluster as DFT geometry optimization calculations using VASP."
   ]
  },
  {
   "cell_type": "code",
   "execution_count": 1,
   "id": "disturbed-mobility",
   "metadata": {},
   "outputs": [],
   "source": [
    "import pandas\n",
    "import numpy as np\n",
    "import sklearn.preprocessing, sklearn.model_selection, sklearn.linear_model\n",
    "import matplotlib.pyplot as plt\n",
    "\n",
    "import sklearn.neural_network\n",
    "import sklearn.linear_model\n",
    "import sklearn.kernel_ridge "
   ]
  },
  {
   "cell_type": "markdown",
   "id": "recovered-regulation",
   "metadata": {},
   "source": [
    "# Load the Data\n",
    "\n",
    "We begin by loading the data from the CSV using Pandas, and split it into the target and descriptors."
   ]
  },
  {
   "cell_type": "code",
   "execution_count": 2,
   "id": "piano-supply",
   "metadata": {},
   "outputs": [],
   "source": [
    "datafile = \"data_to_train_with.csv\"\n",
    "target_column_name = \"PBE_BE_eV\"\n",
    "\n",
    "data = pandas.read_csv(datafile)\n",
    "target = data.pop(target_column_name).to_numpy()\n",
    "target = target.reshape(-1, 1)  # Reshape array from a row vector into a column vector\n",
    "descriptors = data.to_numpy()"
   ]
  },
  {
   "cell_type": "markdown",
   "id": "marine-exercise",
   "metadata": {},
   "source": [
    "# Train/Test Split\n",
    "\n",
    "Next, we perform an 80/20 train/test split on the dataset. 80% is kept for training, and 20% is kept for prediction."
   ]
  },
  {
   "cell_type": "code",
   "execution_count": 3,
   "id": "handmade-flashing",
   "metadata": {},
   "outputs": [],
   "source": [
    "percent_held_as_test = 0.2\n",
    "train_descriptors, test_descriptors, train_target, test_target = sklearn.model_selection.train_test_split(descriptors,\n",
    "                                                                                                          target,\n",
    "                                                                                                          test_size=percent_held_as_test)"
   ]
  },
  {
   "cell_type": "markdown",
   "id": "proprietary-perry",
   "metadata": {},
   "source": [
    "# Standardize the Data\n",
    "\n",
    "Next, we will scale the data such that it has a mean of 0 and a standard deviation of 1. We will also save the scaler, so that we can unscale our data at the end of the pipeline (for parity plot generation)."
   ]
  },
  {
   "cell_type": "code",
   "execution_count": 4,
   "id": "sweet-rally",
   "metadata": {},
   "outputs": [],
   "source": [
    "scaler = sklearn.preprocessing.StandardScaler\n",
    "descriptor_scaler = scaler()\n",
    "train_descriptors = descriptor_scaler.fit_transform(train_descriptors)\n",
    "test_descriptors = descriptor_scaler.transform(test_descriptors)\n",
    "\n",
    "target_scaler = scaler()\n",
    "train_target = target_scaler.fit_transform(train_target)\n",
    "test_target = target_scaler.transform(test_target)"
   ]
  },
  {
   "cell_type": "markdown",
   "id": "greatest-craps",
   "metadata": {},
   "source": [
    "# Model Selection and Regression\n",
    "\n",
    "Next, to demonstrate the programmatic selection of models, we will choose between three types of model:\n",
    "- Ridge Regression\n",
    "- Kernelized Ridge Regression\n",
    "- Neural Network"
   ]
  },
  {
   "cell_type": "code",
   "execution_count": 5,
   "id": "southern-clark",
   "metadata": {},
   "outputs": [
    {
     "name": "stdout",
     "output_type": "stream",
     "text": [
      "Neural Network: RMSE = 0.17005692232240036\n",
      "Ridge Regression: RMSE = 0.16753888132961392\n",
      "Kernelized Ridge Regression: RMSE = 0.1675388813296137\n",
      "Best Model:  Kernelized Ridge Regression\n"
     ]
    }
   ],
   "source": [
    "\n",
    "train_target = train_target.flatten()\n",
    "test_target = test_target.flatten()\n",
    "\n",
    "# Initialize the model\n",
    "models = {\"Neural Network\" : sklearn.neural_network.MLPRegressor(hidden_layer_sizes=(100,)),\n",
    "          \"Ridge Regression\" : sklearn.linear_model.Ridge(alpha=1.0),\n",
    "          \"Kernelized Ridge Regression\": sklearn.kernel_ridge.KernelRidge(alpha=1.0,\n",
    "                                                                          kernel=\"linear\")}\n",
    "best_name = None\n",
    "best_model = None\n",
    "best_rmse = np.inf\n",
    "for name, model in models.items():\n",
    "    # Train the model and save\n",
    "    model.fit(train_descriptors, train_target)\n",
    "    train_predictions = model.predict(train_descriptors)\n",
    "    test_predictions = model.predict(test_descriptors)\n",
    "\n",
    "    # Scale predictions so they have the same shape as the saved target\n",
    "    train_predictions = train_predictions.reshape(-1, 1)\n",
    "    test_predictions = test_predictions.reshape(-1, 1)\n",
    "\n",
    "    test_target = test_target.reshape(-1, 1)\n",
    "    y_true = target_scaler.inverse_transform(test_target)\n",
    "    y_pred = target_scaler.inverse_transform(test_predictions)\n",
    "\n",
    "    # RMSE\n",
    "    mse = sklearn.metrics.mean_squared_error(y_true, y_pred)\n",
    "    rmse = np.sqrt(mse)\n",
    "    print(f\"{name}: RMSE = {rmse}\")\n",
    "    \n",
    "    if rmse < best_rmse:\n",
    "        best_name = name\n",
    "        best_model = model\n",
    "        best_rmse = rmse\n",
    "        \n",
    "print(\"Best Model: \", best_name)\n",
    "\n",
    "model = best_model"
   ]
  },
  {
   "cell_type": "markdown",
   "id": "working-cooling",
   "metadata": {},
   "source": [
    "# Parity plot                               \n",
    "                                                                   \n",
    "Finally, we generate a parity plot of predicted versus actual values for the training and testing set."
   ]
  },
  {
   "cell_type": "code",
   "execution_count": 6,
   "id": "utility-convergence",
   "metadata": {},
   "outputs": [
    {
     "name": "stderr",
     "output_type": "stream",
     "text": [
      "/Users/mat3ra/PycharmProjects/exabyte-api-examples/.env/lib/python3.8/site-packages/numpy/core/_asarray.py:171: VisibleDeprecationWarning: Creating an ndarray from ragged nested sequences (which is a list-or-tuple of lists-or-tuples-or ndarrays with different lengths or shapes) is deprecated. If you meant to do this, you must specify 'dtype=object' when creating the ndarray.\n",
      "  return array(a, dtype, copy=False, order=order, subok=True)\n"
     ]
    },
    {
     "data": {
      "image/png": "[encoded data removed]",
      "text/plain": [
       "<Figure size 432x288 with 1 Axes>"
      ]
     },
     "metadata": {
      "needs_background": "light"
     },
     "output_type": "display_data"
    }
   ],
   "source": [
    "# Un-transform the data\n",
    "train_target = target_scaler.inverse_transform(train_target)\n",
    "train_predictions = target_scaler.inverse_transform(train_predictions)\n",
    "test_target = target_scaler.inverse_transform(test_target)\n",
    "test_predictions = target_scaler.inverse_transform(test_predictions)\n",
    "\n",
    "# Plot the data\n",
    "plt.scatter(train_target, train_predictions, c=\"#203d78\", label=\"Training Set\")\n",
    "plt.scatter(test_target, test_predictions, c=\"#67ac5b\", label=\"Testing Set\")\n",
    "plt.xlabel(\"Actual Value\")\n",
    "plt.ylabel(\"Predicted Value\")\n",
    "\n",
    "# Scale the plot\n",
    "target_range = (min(min(train_target), min(test_target)),\n",
    "                max(max(train_target), max(test_target)))\n",
    "predictions_range = (min(min(train_predictions), min(test_predictions)),\n",
    "                     max(max(train_predictions), max(test_predictions)))\n",
    "\n",
    "limits = (min(min(target_range), min(target_range)),\n",
    "          max(max(predictions_range), max(predictions_range)))\n",
    "plt.xlim = (limits[0], limits[1])\n",
    "plt.ylim = (limits[0], limits[1])\n",
    "\n",
    "# Draw a parity line, as a guide to the eye\n",
    "plt.plot((limits[0], limits[1]), (limits[0], limits[1]), c=\"black\", linestyle=\"dotted\", label=\"Parity\")\n",
    "plt.legend()\n",
    "\n",
    "# Save the figure\n",
    "plt.show()"
   ]
  }
 ],
 "metadata": {
  "kernelspec": {
   "display_name": "Python 3",
   "language": "python",
   "name": "python3"
  },
  "language_info": {
   "codemirror_mode": {
    "name": "ipython",
    "version": 3
   },
   "file_extension": ".py",
   "mimetype": "text/x-python",
   "name": "python",
   "nbconvert_exporter": "python",
   "pygments_lexer": "ipython3",
   "version": "3.8.6"
  }
 },
 "nbformat": 4,
 "nbformat_minor": 5
}
