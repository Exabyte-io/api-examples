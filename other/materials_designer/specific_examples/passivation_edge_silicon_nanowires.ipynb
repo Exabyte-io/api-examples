{
 "cells": [
  {
   "cell_type": "code",
   "execution_count": null,
   "id": "initial_id",
   "metadata": {
    "collapsed": true
   },
   "outputs": [],
   "source": [
    "from mat3ra.standata.materials import Materials\n",
    "from mat3ra.made.material import Material\n",
    "\n",
    "silicon = Material(Materials.get_by_name_first_match('Silicon'))\n",
    "\n"
   ]
  },
  {
   "cell_type": "code",
   "outputs": [],
   "source": [
    "BOND_LENGTH = 1.46\n",
    "PASSIVANT = \"H\""
   ],
   "metadata": {
    "collapsed": false
   },
   "id": "f704e7abe8fbe895",
   "execution_count": null
  },
  {
   "cell_type": "code",
   "outputs": [],
   "source": [
    "from utils.visualize import visualize_materials\n",
    "visualize_materials(silicon)"
   ],
   "metadata": {
    "collapsed": false
   },
   "id": "a918967d646088db",
   "execution_count": null
  },
  {
   "cell_type": "markdown",
   "source": [
    "## Create a silicon nanowire"
   ],
   "metadata": {
    "collapsed": false
   },
   "id": "602e2ef359ef1b83"
  },
  {
   "cell_type": "code",
   "outputs": [],
   "source": [
    "from mat3ra.made.tools.modify import filter_by_cylinder, rotate, filter_by_box, add_vacuum_sides\n",
    "from mat3ra.made.tools.build.slab import create_slab, SlabConfiguration\n",
    "\n",
    "\n",
    "slab_config = SlabConfiguration(bulk=silicon, miller_indices=(1,1,0), thickness=2, vacuum=0, use_orthogonal_z=True, xy_supercell_matrix=[[3,0],[0,2]]) \n",
    "silicon_slab = create_slab(slab_config)\n",
    "\n",
    "visualize_materials(silicon_slab)\n",
    "visualize_materials(silicon_slab, rotation=\"-90x\")\n",
    "\n",
    "rotated_slab = rotate(silicon_slab, \"z\", -45)\n",
    "silicon_nanowire = filter_by_box(rotated_slab, [0.2,0.28,0], [0.78,0.87,1])\n",
    "visualize_materials(silicon_nanowire)\n",
    "visualize_materials(silicon_nanowire, rotation=\"-90x\")\n",
    "nanowire_xy_pbc = rotate(silicon_nanowire, \"z\", -45)\n",
    "# nanowire_xy = rotate(nanowire_xy, \"x\", 90, rotate_cell=True)\n",
    "nanowire_xy = add_vacuum_sides(nanowire_xy_pbc, 10.0, on_x=True, on_y=True)\n",
    "visualize_materials(nanowire_xy)\n",
    "visualize_materials(nanowire_xy, rotation=\"-90x\")"
   ],
   "metadata": {
    "collapsed": false
   },
   "id": "f8431fd833f6ed",
   "execution_count": null
  },
  {
   "cell_type": "markdown",
   "source": [
    "## Add passivation"
   ],
   "metadata": {
    "collapsed": false
   },
   "id": "5d7fa9201651fa72"
  },
  {
   "cell_type": "code",
   "outputs": [],
   "source": [
    "from mat3ra.made.tools.modify import add_vacuum\n",
    "from mat3ra.made.tools.build.utils import merge_materials\n",
    "from mat3ra.made.tools.build.passivation import PassivationConfiguration, create_passivation, SurfacePassivationBuilder, SurfacePassivationBuilderParameters, CoordinationBasedPassivationBuilderParameters, CoordinationBasedPassivationBuilder\n",
    "\n",
    "# Surface passivation\n",
    "nanowire_xy = add_vacuum(nanowire_xy, 10.0, on_top=True, to_bottom=True)\n",
    "params = SurfacePassivationBuilderParameters(\n",
    "    shadowing_radius=2.9,\n",
    "    bond_length=1.46\n",
    ")\n",
    "passivation_builder = SurfacePassivationBuilder(params)\n",
    "\n",
    "# Under-coordination passivation\n",
    "# params = CoordinationBasedPassivationBuilderParameters(shadowing_radius=1.8, coordination_threshold=4, depth=10.0)\n",
    "# passivation_builder = CoordinationBasedPassivationBuilder(params)\n",
    "\n",
    "ANGLE = 90\n",
    "ANGLE_Z = 45\n",
    "nanowire_yz = rotate(nanowire_xy, \"z\", ANGLE_Z)\n",
    "nanowire_yz= rotate(nanowire_yz, \"y\", ANGLE)\n",
    "\n",
    "nanowire_xz = rotate(nanowire_xy, \"z\", ANGLE_Z)\n",
    "nanowire_xz =   rotate(nanowire_xz, \"x\", ANGLE)\n",
    "\n",
    "# visualize_materials([nanowire_yz, nanowire_xz])\n",
    "# visualize_materials([nanowire_yz, nanowire_xz], rotation=\"-90x\")\n",
    "\n",
    "passivation_config_yz = PassivationConfiguration(\n",
    "    slab=nanowire_yz,\n",
    "    passivant=PASSIVANT,\n",
    "    bond_length=BOND_LENGTH\n",
    ")\n",
    "\n",
    "passivation_config_xz = PassivationConfiguration(\n",
    "    slab=nanowire_xz,\n",
    "    passivant=PASSIVANT,\n",
    "    bond_length=BOND_LENGTH,\n",
    ")\n",
    "\n",
    "passivated_nanowire_yz = create_passivation(passivation_config_yz, passivation_builder)\n",
    "visualize_materials([{\"material\": passivated_nanowire_yz}, {\"material\": passivated_nanowire_yz, \"rotation\": \"-90x\"}])\n",
    "\n",
    "passivated_nanowire_xz = create_passivation(passivation_config_xz, passivation_builder)\n",
    "visualize_materials([{\"material\": passivated_nanowire_xz}, {\"material\": passivated_nanowire_xz, \"rotation\": \"-90x\"}])\n",
    "\n",
    "reversed_passivated_nanowire_yz = rotate(passivated_nanowire_yz, \"y\", -ANGLE)\n",
    "reversed_passivated_nanowire_yz = rotate(reversed_passivated_nanowire_yz, \"z\", -ANGLE_Z)\n",
    "reversed_passivated_nanowire_xz = rotate(passivated_nanowire_xz, \"x\", -ANGLE)\n",
    "reversed_passivated_nanowire_xz = rotate(reversed_passivated_nanowire_xz, \"z\", -ANGLE_Z)\n",
    "\n",
    "passivated_nanowire = merge_materials([reversed_passivated_nanowire_xz, reversed_passivated_nanowire_yz])\n",
    "visualize_materials([{ \"material\": passivated_nanowire}, {\"material\": passivated_nanowire, \"rotation\": \"-90x\"}])\n"
   ],
   "metadata": {
    "collapsed": false
   },
   "id": "a3d7f595b356a5f0",
   "execution_count": null
  },
  {
   "cell_type": "code",
   "outputs": [],
   "source": [
    "from utils.jupyterlite import set_materials\n",
    "passivated_nanowire.name = \"H-Passivated Silicon Nanowire\"\n",
    "set_materials([passivated_nanowire])"
   ],
   "metadata": {
    "collapsed": false
   },
   "id": "13f32826a5011952",
   "execution_count": null
  }
 ],
 "metadata": {
  "kernelspec": {
   "display_name": "Python 3",
   "language": "python",
   "name": "python3"
  },
  "language_info": {
   "codemirror_mode": {
    "name": "ipython",
    "version": 2
   },
   "file_extension": ".py",
   "mimetype": "text/x-python",
   "name": "python",
   "nbconvert_exporter": "python",
   "pygments_lexer": "ipython2",
   "version": "2.7.6"
  }
 },
 "nbformat": 4,
 "nbformat_minor": 5
}
