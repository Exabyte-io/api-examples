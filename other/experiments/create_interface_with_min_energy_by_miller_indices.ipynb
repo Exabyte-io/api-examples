{
 "cells": [
  {
   "cell_type": "markdown",
   "source": [
    "# HKL Interface Cycling\n",
    "\n",
    "This notebook takes two materials, cycles through Miller indices and constructs a coherent interface using ZSL algorithm, optimizes it with a relaxer and calculator, and then calculates the delta energy for the interface. The delta energy is then plotted as a function of the Miller index."
   ],
   "metadata": {
    "collapsed": false
   },
   "id": "376f4cc936968586"
  },
  {
   "cell_type": "markdown",
   "source": [],
   "metadata": {
    "collapsed": false
   },
   "id": "e510520c24cfcf80"
  },
  {
   "cell_type": "code",
   "outputs": [],
   "source": [
    "SETTINGS = {\n",
    "    \"MAX_H\": 2,\n",
    "    \"MAX_K\": 2,\n",
    "    \"MAX_L\": 2,\n",
    "    \"verbose\": False,\n",
    "}\n",
    "\n",
    "SUBSTRATE_PARAMETERS = {\n",
    "    \"MATERIAL_INDEX\": 0,  # the index of the material in the materials_in list\n",
    "    \"MILLER_INDICES\": (1, 1, 1),  # the miller indices of the interfacial plane\n",
    "    \"THICKNESS\": 6,  # in layers\n",
    "}\n",
    "\n",
    "LAYER_PARAMETERS = {\n",
    "    \"MATERIAL_INDEX\": 1, # the index of the material in the materials_in list\n",
    "    \"MILLER_INDICES\": (0, 0, 1),  # the miller indices of the interfacial plane\n",
    "    \"THICKNESS\": 1,  # in layers\n",
    "}\n"
   ],
   "metadata": {
    "collapsed": false
   },
   "id": "1e26bda891a89de5"
  },
  {
   "cell_type": "code",
   "outputs": [
    {
     "name": "stdout",
     "output_type": "stream",
     "text": [
      "Package                    Version\r\n",
      "-------------------------- -----------------\r\n",
      "accelerate                 0.27.2\r\n",
      "aiohttp                    3.9.3\r\n",
      "aiosignal                  1.3.1\r\n",
      "alignn                     2024.2.4\r\n",
      "anyio                      4.3.0\r\n",
      "appnope                    0.1.4\r\n",
      "argon2-cffi                23.1.0\r\n",
      "argon2-cffi-bindings       21.2.0\r\n",
      "arrow                      1.3.0\r\n",
      "ase                        3.22.1\r\n",
      "asttokens                  2.4.1\r\n",
      "async-lru                  2.0.4\r\n",
      "attrs                      23.2.0\r\n",
      "Babel                      2.14.0\r\n",
      "beautifulsoup4             4.12.3\r\n",
      "bleach                     6.1.0\r\n",
      "build                      1.0.3\r\n",
      "certifi                    2024.2.2\r\n",
      "cffi                       1.16.0\r\n",
      "cfgv                       3.4.0\r\n",
      "charset-normalizer         3.3.2\r\n",
      "click                      8.1.7\r\n",
      "colorama                   0.4.6\r\n",
      "comm                       0.2.1\r\n",
      "contourpy                  1.2.0\r\n",
      "cycler                     0.12.1\r\n",
      "debugpy                    1.8.1\r\n",
      "decorator                  5.1.1\r\n",
      "defusedxml                 0.7.1\r\n",
      "dgl                        2.0.0\r\n",
      "distlib                    0.3.8\r\n",
      "executing                  2.0.1\r\n",
      "fastjsonschema             2.19.1\r\n",
      "filelock                   3.13.1\r\n",
      "flake8                     7.0.0\r\n",
      "fonttools                  4.49.0\r\n",
      "fqdn                       1.5.1\r\n",
      "frozenlist                 1.4.1\r\n",
      "fsspec                     2024.2.0\r\n",
      "future                     1.0.0\r\n",
      "ghp-import                 2.1.0\r\n",
      "h11                        0.14.0\r\n",
      "httpcore                   1.0.4\r\n",
      "httpx                      0.27.0\r\n",
      "huggingface-hub            0.20.3\r\n",
      "identify                   2.5.35\r\n",
      "idna                       3.6\r\n",
      "ipykernel                  6.29.2\r\n",
      "ipython                    8.22.1\r\n",
      "ipython-genutils           0.2.0\r\n",
      "ipywidgets                 8.1.2\r\n",
      "isoduration                20.11.0\r\n",
      "jarvis-tools               2023.12.12\r\n",
      "jedi                       0.19.1\r\n",
      "Jinja2                     3.1.3\r\n",
      "joblib                     1.3.2\r\n",
      "json5                      0.9.17\r\n",
      "jsonpointer                2.4\r\n",
      "jsonschema                 4.21.1\r\n",
      "jsonschema-specifications  2023.12.1\r\n",
      "jupyter                    1.0.0\r\n",
      "jupyter_client             8.6.0\r\n",
      "jupyter-console            6.6.3\r\n",
      "jupyter_core               5.7.1\r\n",
      "jupyter-events             0.9.0\r\n",
      "jupyter-lsp                2.2.2\r\n",
      "jupyter_server             2.12.5\r\n",
      "jupyter_server_terminals   0.5.2\r\n",
      "jupyterlab                 4.1.2\r\n",
      "jupyterlab_pygments        0.3.0\r\n",
      "jupyterlab_server          2.25.3\r\n",
      "jupyterlab_widgets         3.0.10\r\n",
      "kiwisolver                 1.4.5\r\n",
      "latexcodec                 2.0.1\r\n",
      "lightning-utilities        0.10.1\r\n",
      "Markdown                   3.5.2\r\n",
      "MarkupSafe                 2.1.5\r\n",
      "mat3ra-api-examples        0.1.0\r\n",
      "matgl                      0.9.2\r\n",
      "matplotlib                 3.8.3\r\n",
      "matplotlib-inline          0.1.6\r\n",
      "mccabe                     0.7.0\r\n",
      "mergedeep                  1.3.4\r\n",
      "mistune                    3.0.2\r\n",
      "mkdocs                     1.5.3\r\n",
      "mkdocs-material            9.5.10\r\n",
      "mkdocs-material-extensions 1.3.1\r\n",
      "monty                      2024.2.2\r\n",
      "mpmath                     1.3.0\r\n",
      "multidict                  6.0.5\r\n",
      "nbclient                   0.9.0\r\n",
      "nbconvert                  7.16.1\r\n",
      "nbformat                   5.9.2\r\n",
      "nest-asyncio               1.6.0\r\n",
      "networkx                   3.2.1\r\n",
      "nglview                    3.1.1\r\n",
      "nodeenv                    1.8.0\r\n",
      "notebook                   7.1.0\r\n",
      "notebook_shim              0.2.4\r\n",
      "numpy                      1.26.4\r\n",
      "overrides                  7.7.0\r\n",
      "packaging                  23.2\r\n",
      "paginate                   0.5.6\r\n",
      "palettable                 3.3.3\r\n",
      "pandas                     2.2.0\r\n",
      "pandocfilters              1.5.1\r\n",
      "parso                      0.8.3\r\n",
      "pathspec                   0.12.1\r\n",
      "pexpect                    4.9.0\r\n",
      "pillow                     10.2.0\r\n",
      "pip                        23.3.2\r\n",
      "pip-tools                  7.4.0\r\n",
      "platformdirs               4.2.0\r\n",
      "plotly                     5.19.0\r\n",
      "pre-commit                 3.6.2\r\n",
      "prometheus_client          0.20.0\r\n",
      "prompt-toolkit             3.0.43\r\n",
      "psutil                     5.9.8\r\n",
      "ptyprocess                 0.7.0\r\n",
      "pure-eval                  0.2.2\r\n",
      "pybtex                     0.24.0\r\n",
      "pycodestyle                2.11.1\r\n",
      "pycparser                  2.21\r\n",
      "pydantic                   1.8.1\r\n",
      "pydocstyle                 6.3.0\r\n",
      "pyflakes                   3.2.0\r\n",
      "Pygments                   2.17.2\r\n",
      "pymatgen                   2024.2.8\r\n",
      "pymdown-extensions         10.7\r\n",
      "pyparsing                  2.4.7\r\n",
      "pyproject_hooks            1.0.0\r\n",
      "PyQt5                      5.15.10\r\n",
      "PyQt5-Qt5                  5.15.12\r\n",
      "PyQt5-sip                  12.13.0\r\n",
      "python-dateutil            2.8.2\r\n",
      "python-json-logger         2.0.7\r\n",
      "pytorch-ignite             0.5.0.dev20240223\r\n",
      "pytorch-lightning          2.2.0.post0\r\n",
      "pytz                       2024.1\r\n",
      "PyYAML                     6.0.1\r\n",
      "pyyaml_env_tag             0.1\r\n",
      "pyzmq                      25.1.2\r\n",
      "qtconsole                  5.5.1\r\n",
      "QtPy                       2.4.1\r\n",
      "referencing                0.33.0\r\n",
      "regex                      2023.12.25\r\n",
      "requests                   2.31.0\r\n",
      "rfc3339-validator          0.1.4\r\n",
      "rfc3986-validator          0.1.1\r\n",
      "rpds-py                    0.18.0\r\n",
      "ruamel.yaml                0.18.6\r\n",
      "ruamel.yaml.clib           0.2.8\r\n",
      "safetensors                0.4.2\r\n",
      "scikit-learn               1.4.1.post1\r\n",
      "scipy                      1.12.0\r\n",
      "Send2Trash                 1.8.2\r\n",
      "setuptools                 69.0.3\r\n",
      "six                        1.16.0\r\n",
      "sniffio                    1.3.0\r\n",
      "snowballstemmer            2.2.0\r\n",
      "soupsieve                  2.5\r\n",
      "spglib                     2.0.2\r\n",
      "stack-data                 0.6.3\r\n",
      "sympy                      1.12\r\n",
      "tabulate                   0.9.0\r\n",
      "tenacity                   8.2.3\r\n",
      "terminado                  0.18.0\r\n",
      "threadpoolctl              3.3.0\r\n",
      "tinycss2                   1.2.1\r\n",
      "toolz                      0.12.1\r\n",
      "torch                      2.0.0\r\n",
      "torchdata                  0.7.1\r\n",
      "torchmetrics               1.3.1\r\n",
      "tornado                    6.4\r\n",
      "tqdm                       4.66.2\r\n",
      "traitlets                  5.14.1\r\n",
      "types-python-dateutil      2.8.19.20240106\r\n",
      "typing_extensions          4.9.0\r\n",
      "tzdata                     2024.1\r\n",
      "uncertainties              3.1.7\r\n",
      "uri-template               1.3.0\r\n",
      "urllib3                    2.2.1\r\n",
      "virtualenv                 20.25.1\r\n",
      "watchdog                   4.0.0\r\n",
      "wcwidth                    0.2.13\r\n",
      "webcolors                  1.13\r\n",
      "webencodings               0.5.1\r\n",
      "websocket-client           1.7.0\r\n",
      "wheel                      0.42.0\r\n",
      "widgetsnbextension         4.0.10\r\n",
      "xmltodict                  0.13.0\r\n",
      "yarl                       1.9.4\r\n",
      "\r\n",
      "\u001B[1m[\u001B[0m\u001B[34;49mnotice\u001B[0m\u001B[1;39;49m]\u001B[0m\u001B[39;49m A new release of pip is available: \u001B[0m\u001B[31;49m23.3.2\u001B[0m\u001B[39;49m -> \u001B[0m\u001B[32;49m24.0\u001B[0m\r\n",
      "\u001B[1m[\u001B[0m\u001B[34;49mnotice\u001B[0m\u001B[1;39;49m]\u001B[0m\u001B[39;49m To update, run: \u001B[0m\u001B[32;49mpip install --upgrade pip\u001B[0m\r\n",
      "Full Formula (Ni1)\n",
      "Reduced Formula: Ni\n",
      "abc   :   2.460000   2.460000   2.460000\n",
      "angles:  60.000000  60.000000  60.000000\n",
      "pbc   :       True       True       True\n",
      "Sites (1)\n",
      "  #  SP      a    b    c\n",
      "---  ----  ---  ---  ---\n",
      "  0  Ni      0    0    0 \n",
      "\n",
      "Full Formula (C2)\n",
      "Reduced Formula: C\n",
      "abc   :   2.467291   2.467291  20.000000\n",
      "angles:  90.000000  90.000000 120.000000\n",
      "pbc   :       True       True       True\n",
      "Sites (2)\n",
      "  #  SP           a         b    c\n",
      "---  ----  --------  --------  ---\n",
      "  0  C     0         0           0\n",
      "  1  C     0.333333  0.666667    0 \n",
      "\n",
      "Creating interfaces...\n",
      "Found 1 terminations\n",
      "Found 233 interfaces for ('C_P6/mmm_2', 'Ni_R-3m_1') termination\n",
      "Interface with lowest strain for termination ('C_P6/mmm_2', 'Ni_R-3m_1') (index 0):\n",
      "    strain: 0.06600000000000002 %\n",
      "    number of atoms: 8\n"
     ]
    },
    {
     "data": {
      "application/vnd.plotly.v1+json": {
       "data": [
        {
         "hoverinfo": "text",
         "mode": "markers",
         "name": "Indices: 0",
         "text": [
          "Termination: ('C_P6/mmm_2', 'Ni_R-3m_1')<br>Termination index: 0<br>Interfaces Index Range: 0<br>Strain: 0.07%<br>Atoms: 8"
         ],
         "x": [
          0.06600000000000002
         ],
         "y": [
          8
         ],
         "type": "scatter"
        },
        {
         "hoverinfo": "text",
         "mode": "markers",
         "name": "Indices: 1-9",
         "text": [
          "Termination: ('C_P6/mmm_2', 'Ni_R-3m_1')<br>Termination index: 0<br>Interfaces Index Range: 1-9<br>Strain: 0.07%<br>Atoms: 16"
         ],
         "x": [
          0.06600000000000002
         ],
         "y": [
          16
         ],
         "type": "scatter"
        },
        {
         "hoverinfo": "text",
         "mode": "markers",
         "name": "Indices: 10-19",
         "text": [
          "Termination: ('C_P6/mmm_2', 'Ni_R-3m_1')<br>Termination index: 0<br>Interfaces Index Range: 10-19<br>Strain: 0.07%<br>Atoms: 24"
         ],
         "x": [
          0.06600000000000002
         ],
         "y": [
          24
         ],
         "type": "scatter"
        },
        {
         "hoverinfo": "text",
         "mode": "markers",
         "name": "Indices: 20-38",
         "text": [
          "Termination: ('C_P6/mmm_2', 'Ni_R-3m_1')<br>Termination index: 0<br>Interfaces Index Range: 20-38<br>Strain: 0.07%<br>Atoms: 32"
         ],
         "x": [
          0.06600000000000002
         ],
         "y": [
          32
         ],
         "type": "scatter"
        },
        {
         "hoverinfo": "text",
         "mode": "markers",
         "name": "Indices: 39-56",
         "text": [
          "Termination: ('C_P6/mmm_2', 'Ni_R-3m_1')<br>Termination index: 0<br>Interfaces Index Range: 39-56<br>Strain: 0.07%<br>Atoms: 40"
         ],
         "x": [
          0.06600000000000002
         ],
         "y": [
          40
         ],
         "type": "scatter"
        },
        {
         "hoverinfo": "text",
         "mode": "markers",
         "name": "Indices: 57-110",
         "text": [
          "Termination: ('C_P6/mmm_2', 'Ni_R-3m_1')<br>Termination index: 0<br>Interfaces Index Range: 57-110<br>Strain: 0.07%<br>Atoms: 48"
         ],
         "x": [
          0.06600000000000002
         ],
         "y": [
          48
         ],
         "type": "scatter"
        },
        {
         "hoverinfo": "text",
         "mode": "markers",
         "name": "Indices: 111-132",
         "text": [
          "Termination: ('C_P6/mmm_2', 'Ni_R-3m_1')<br>Termination index: 0<br>Interfaces Index Range: 111-132<br>Strain: 0.07%<br>Atoms: 56"
         ],
         "x": [
          0.06600000000000002
         ],
         "y": [
          56
         ],
         "type": "scatter"
        },
        {
         "hoverinfo": "text",
         "mode": "markers",
         "name": "Indices: 133-177",
         "text": [
          "Termination: ('C_P6/mmm_2', 'Ni_R-3m_1')<br>Termination index: 0<br>Interfaces Index Range: 133-177<br>Strain: 0.07%<br>Atoms: 64"
         ],
         "x": [
          0.06600000000000002
         ],
         "y": [
          64
         ],
         "type": "scatter"
        },
        {
         "hoverinfo": "text",
         "mode": "markers",
         "name": "Indices: 178-232",
         "text": [
          "Termination: ('C_P6/mmm_2', 'Ni_R-3m_1')<br>Termination index: 0<br>Interfaces Index Range: 178-232<br>Strain: 0.07%<br>Atoms: 72"
         ],
         "x": [
          0.06600000000000002
         ],
         "y": [
          72
         ],
         "type": "scatter"
        }
       ],
       "layout": {
        "height": 600,
        "hovermode": "closest",
        "legend": {
         "title": {
          "text": "Interfaces Index Range"
         }
        },
        "xaxis": {
         "title": {
          "text": "Strain (%)"
         },
         "type": "log"
        },
        "yaxis": {
         "title": {
          "text": "Number of atoms"
         },
         "type": "log"
        },
        "template": {
         "data": {
          "histogram2dcontour": [
           {
            "type": "histogram2dcontour",
            "colorbar": {
             "outlinewidth": 0,
             "ticks": ""
            },
            "colorscale": [
             [
              0.0,
              "#0d0887"
             ],
             [
              0.1111111111111111,
              "#46039f"
             ],
             [
              0.2222222222222222,
              "#7201a8"
             ],
             [
              0.3333333333333333,
              "#9c179e"
             ],
             [
              0.4444444444444444,
              "#bd3786"
             ],
             [
              0.5555555555555556,
              "#d8576b"
             ],
             [
              0.6666666666666666,
              "#ed7953"
             ],
             [
              0.7777777777777778,
              "#fb9f3a"
             ],
             [
              0.8888888888888888,
              "#fdca26"
             ],
             [
              1.0,
              "#f0f921"
             ]
            ]
           }
          ],
          "choropleth": [
           {
            "type": "choropleth",
            "colorbar": {
             "outlinewidth": 0,
             "ticks": ""
            }
           }
          ],
          "histogram2d": [
           {
            "type": "histogram2d",
            "colorbar": {
             "outlinewidth": 0,
             "ticks": ""
            },
            "colorscale": [
             [
              0.0,
              "#0d0887"
             ],
             [
              0.1111111111111111,
              "#46039f"
             ],
             [
              0.2222222222222222,
              "#7201a8"
             ],
             [
              0.3333333333333333,
              "#9c179e"
             ],
             [
              0.4444444444444444,
              "#bd3786"
             ],
             [
              0.5555555555555556,
              "#d8576b"
             ],
             [
              0.6666666666666666,
              "#ed7953"
             ],
             [
              0.7777777777777778,
              "#fb9f3a"
             ],
             [
              0.8888888888888888,
              "#fdca26"
             ],
             [
              1.0,
              "#f0f921"
             ]
            ]
           }
          ],
          "heatmap": [
           {
            "type": "heatmap",
            "colorbar": {
             "outlinewidth": 0,
             "ticks": ""
            },
            "colorscale": [
             [
              0.0,
              "#0d0887"
             ],
             [
              0.1111111111111111,
              "#46039f"
             ],
             [
              0.2222222222222222,
              "#7201a8"
             ],
             [
              0.3333333333333333,
              "#9c179e"
             ],
             [
              0.4444444444444444,
              "#bd3786"
             ],
             [
              0.5555555555555556,
              "#d8576b"
             ],
             [
              0.6666666666666666,
              "#ed7953"
             ],
             [
              0.7777777777777778,
              "#fb9f3a"
             ],
             [
              0.8888888888888888,
              "#fdca26"
             ],
             [
              1.0,
              "#f0f921"
             ]
            ]
           }
          ],
          "heatmapgl": [
           {
            "type": "heatmapgl",
            "colorbar": {
             "outlinewidth": 0,
             "ticks": ""
            },
            "colorscale": [
             [
              0.0,
              "#0d0887"
             ],
             [
              0.1111111111111111,
              "#46039f"
             ],
             [
              0.2222222222222222,
              "#7201a8"
             ],
             [
              0.3333333333333333,
              "#9c179e"
             ],
             [
              0.4444444444444444,
              "#bd3786"
             ],
             [
              0.5555555555555556,
              "#d8576b"
             ],
             [
              0.6666666666666666,
              "#ed7953"
             ],
             [
              0.7777777777777778,
              "#fb9f3a"
             ],
             [
              0.8888888888888888,
              "#fdca26"
             ],
             [
              1.0,
              "#f0f921"
             ]
            ]
           }
          ],
          "contourcarpet": [
           {
            "type": "contourcarpet",
            "colorbar": {
             "outlinewidth": 0,
             "ticks": ""
            }
           }
          ],
          "contour": [
           {
            "type": "contour",
            "colorbar": {
             "outlinewidth": 0,
             "ticks": ""
            },
            "colorscale": [
             [
              0.0,
              "#0d0887"
             ],
             [
              0.1111111111111111,
              "#46039f"
             ],
             [
              0.2222222222222222,
              "#7201a8"
             ],
             [
              0.3333333333333333,
              "#9c179e"
             ],
             [
              0.4444444444444444,
              "#bd3786"
             ],
             [
              0.5555555555555556,
              "#d8576b"
             ],
             [
              0.6666666666666666,
              "#ed7953"
             ],
             [
              0.7777777777777778,
              "#fb9f3a"
             ],
             [
              0.8888888888888888,
              "#fdca26"
             ],
             [
              1.0,
              "#f0f921"
             ]
            ]
           }
          ],
          "surface": [
           {
            "type": "surface",
            "colorbar": {
             "outlinewidth": 0,
             "ticks": ""
            },
            "colorscale": [
             [
              0.0,
              "#0d0887"
             ],
             [
              0.1111111111111111,
              "#46039f"
             ],
             [
              0.2222222222222222,
              "#7201a8"
             ],
             [
              0.3333333333333333,
              "#9c179e"
             ],
             [
              0.4444444444444444,
              "#bd3786"
             ],
             [
              0.5555555555555556,
              "#d8576b"
             ],
             [
              0.6666666666666666,
              "#ed7953"
             ],
             [
              0.7777777777777778,
              "#fb9f3a"
             ],
             [
              0.8888888888888888,
              "#fdca26"
             ],
             [
              1.0,
              "#f0f921"
             ]
            ]
           }
          ],
          "mesh3d": [
           {
            "type": "mesh3d",
            "colorbar": {
             "outlinewidth": 0,
             "ticks": ""
            }
           }
          ],
          "scatter": [
           {
            "marker": {
             "line": {
              "color": "#283442"
             }
            },
            "type": "scatter"
           }
          ],
          "parcoords": [
           {
            "type": "parcoords",
            "line": {
             "colorbar": {
              "outlinewidth": 0,
              "ticks": ""
             }
            }
           }
          ],
          "scatterpolargl": [
           {
            "type": "scatterpolargl",
            "marker": {
             "colorbar": {
              "outlinewidth": 0,
              "ticks": ""
             }
            }
           }
          ],
          "bar": [
           {
            "error_x": {
             "color": "#f2f5fa"
            },
            "error_y": {
             "color": "#f2f5fa"
            },
            "marker": {
             "line": {
              "color": "rgb(17,17,17)",
              "width": 0.5
             },
             "pattern": {
              "fillmode": "overlay",
              "size": 10,
              "solidity": 0.2
             }
            },
            "type": "bar"
           }
          ],
          "scattergeo": [
           {
            "type": "scattergeo",
            "marker": {
             "colorbar": {
              "outlinewidth": 0,
              "ticks": ""
             }
            }
           }
          ],
          "scatterpolar": [
           {
            "type": "scatterpolar",
            "marker": {
             "colorbar": {
              "outlinewidth": 0,
              "ticks": ""
             }
            }
           }
          ],
          "histogram": [
           {
            "marker": {
             "pattern": {
              "fillmode": "overlay",
              "size": 10,
              "solidity": 0.2
             }
            },
            "type": "histogram"
           }
          ],
          "scattergl": [
           {
            "marker": {
             "line": {
              "color": "#283442"
             }
            },
            "type": "scattergl"
           }
          ],
          "scatter3d": [
           {
            "type": "scatter3d",
            "line": {
             "colorbar": {
              "outlinewidth": 0,
              "ticks": ""
             }
            },
            "marker": {
             "colorbar": {
              "outlinewidth": 0,
              "ticks": ""
             }
            }
           }
          ],
          "scattermapbox": [
           {
            "type": "scattermapbox",
            "marker": {
             "colorbar": {
              "outlinewidth": 0,
              "ticks": ""
             }
            }
           }
          ],
          "scatterternary": [
           {
            "type": "scatterternary",
            "marker": {
             "colorbar": {
              "outlinewidth": 0,
              "ticks": ""
             }
            }
           }
          ],
          "scattercarpet": [
           {
            "type": "scattercarpet",
            "marker": {
             "colorbar": {
              "outlinewidth": 0,
              "ticks": ""
             }
            }
           }
          ],
          "carpet": [
           {
            "aaxis": {
             "endlinecolor": "#A2B1C6",
             "gridcolor": "#506784",
             "linecolor": "#506784",
             "minorgridcolor": "#506784",
             "startlinecolor": "#A2B1C6"
            },
            "baxis": {
             "endlinecolor": "#A2B1C6",
             "gridcolor": "#506784",
             "linecolor": "#506784",
             "minorgridcolor": "#506784",
             "startlinecolor": "#A2B1C6"
            },
            "type": "carpet"
           }
          ],
          "table": [
           {
            "cells": {
             "fill": {
              "color": "#506784"
             },
             "line": {
              "color": "rgb(17,17,17)"
             }
            },
            "header": {
             "fill": {
              "color": "#2a3f5f"
             },
             "line": {
              "color": "rgb(17,17,17)"
             }
            },
            "type": "table"
           }
          ],
          "barpolar": [
           {
            "marker": {
             "line": {
              "color": "rgb(17,17,17)",
              "width": 0.5
             },
             "pattern": {
              "fillmode": "overlay",
              "size": 10,
              "solidity": 0.2
             }
            },
            "type": "barpolar"
           }
          ],
          "pie": [
           {
            "automargin": true,
            "type": "pie"
           }
          ]
         },
         "layout": {
          "autotypenumbers": "strict",
          "colorway": [
           "#636efa",
           "#EF553B",
           "#00cc96",
           "#ab63fa",
           "#FFA15A",
           "#19d3f3",
           "#FF6692",
           "#B6E880",
           "#FF97FF",
           "#FECB52"
          ],
          "font": {
           "color": "#f2f5fa"
          },
          "hovermode": "closest",
          "hoverlabel": {
           "align": "left"
          },
          "paper_bgcolor": "rgb(17,17,17)",
          "plot_bgcolor": "rgb(17,17,17)",
          "polar": {
           "bgcolor": "rgb(17,17,17)",
           "angularaxis": {
            "gridcolor": "#506784",
            "linecolor": "#506784",
            "ticks": ""
           },
           "radialaxis": {
            "gridcolor": "#506784",
            "linecolor": "#506784",
            "ticks": ""
           }
          },
          "ternary": {
           "bgcolor": "rgb(17,17,17)",
           "aaxis": {
            "gridcolor": "#506784",
            "linecolor": "#506784",
            "ticks": ""
           },
           "baxis": {
            "gridcolor": "#506784",
            "linecolor": "#506784",
            "ticks": ""
           },
           "caxis": {
            "gridcolor": "#506784",
            "linecolor": "#506784",
            "ticks": ""
           }
          },
          "coloraxis": {
           "colorbar": {
            "outlinewidth": 0,
            "ticks": ""
           }
          },
          "colorscale": {
           "sequential": [
            [
             0.0,
             "#0d0887"
            ],
            [
             0.1111111111111111,
             "#46039f"
            ],
            [
             0.2222222222222222,
             "#7201a8"
            ],
            [
             0.3333333333333333,
             "#9c179e"
            ],
            [
             0.4444444444444444,
             "#bd3786"
            ],
            [
             0.5555555555555556,
             "#d8576b"
            ],
            [
             0.6666666666666666,
             "#ed7953"
            ],
            [
             0.7777777777777778,
             "#fb9f3a"
            ],
            [
             0.8888888888888888,
             "#fdca26"
            ],
            [
             1.0,
             "#f0f921"
            ]
           ],
           "sequentialminus": [
            [
             0.0,
             "#0d0887"
            ],
            [
             0.1111111111111111,
             "#46039f"
            ],
            [
             0.2222222222222222,
             "#7201a8"
            ],
            [
             0.3333333333333333,
             "#9c179e"
            ],
            [
             0.4444444444444444,
             "#bd3786"
            ],
            [
             0.5555555555555556,
             "#d8576b"
            ],
            [
             0.6666666666666666,
             "#ed7953"
            ],
            [
             0.7777777777777778,
             "#fb9f3a"
            ],
            [
             0.8888888888888888,
             "#fdca26"
            ],
            [
             1.0,
             "#f0f921"
            ]
           ],
           "diverging": [
            [
             0,
             "#8e0152"
            ],
            [
             0.1,
             "#c51b7d"
            ],
            [
             0.2,
             "#de77ae"
            ],
            [
             0.3,
             "#f1b6da"
            ],
            [
             0.4,
             "#fde0ef"
            ],
            [
             0.5,
             "#f7f7f7"
            ],
            [
             0.6,
             "#e6f5d0"
            ],
            [
             0.7,
             "#b8e186"
            ],
            [
             0.8,
             "#7fbc41"
            ],
            [
             0.9,
             "#4d9221"
            ],
            [
             1,
             "#276419"
            ]
           ]
          },
          "xaxis": {
           "gridcolor": "#283442",
           "linecolor": "#506784",
           "ticks": "",
           "title": {
            "standoff": 15
           },
           "zerolinecolor": "#283442",
           "automargin": true,
           "zerolinewidth": 2
          },
          "yaxis": {
           "gridcolor": "#283442",
           "linecolor": "#506784",
           "ticks": "",
           "title": {
            "standoff": 15
           },
           "zerolinecolor": "#283442",
           "automargin": true,
           "zerolinewidth": 2
          },
          "scene": {
           "xaxis": {
            "backgroundcolor": "rgb(17,17,17)",
            "gridcolor": "#506784",
            "linecolor": "#506784",
            "showbackground": true,
            "ticks": "",
            "zerolinecolor": "#C8D4E3",
            "gridwidth": 2
           },
           "yaxis": {
            "backgroundcolor": "rgb(17,17,17)",
            "gridcolor": "#506784",
            "linecolor": "#506784",
            "showbackground": true,
            "ticks": "",
            "zerolinecolor": "#C8D4E3",
            "gridwidth": 2
           },
           "zaxis": {
            "backgroundcolor": "rgb(17,17,17)",
            "gridcolor": "#506784",
            "linecolor": "#506784",
            "showbackground": true,
            "ticks": "",
            "zerolinecolor": "#C8D4E3",
            "gridwidth": 2
           }
          },
          "shapedefaults": {
           "line": {
            "color": "#f2f5fa"
           }
          },
          "annotationdefaults": {
           "arrowcolor": "#f2f5fa",
           "arrowhead": 0,
           "arrowwidth": 1
          },
          "geo": {
           "bgcolor": "rgb(17,17,17)",
           "landcolor": "rgb(17,17,17)",
           "subunitcolor": "#506784",
           "showland": true,
           "showlakes": true,
           "lakecolor": "rgb(17,17,17)"
          },
          "title": {
           "x": 0.05
          },
          "updatemenudefaults": {
           "bgcolor": "#506784",
           "borderwidth": 0
          },
          "sliderdefaults": {
           "bgcolor": "#C8D4E3",
           "borderwidth": 1,
           "bordercolor": "rgb(17,17,17)",
           "tickwidth": 0
          },
          "mapbox": {
           "style": "dark"
          }
         }
        }
       },
       "config": {
        "plotlyServerURL": "https://plot.ly"
       }
      },
      "text/html": "<div>                            <div id=\"c904e1e5-0c4d-4f0a-afa0-7978fe4d80ae\" class=\"plotly-graph-div\" style=\"height:600px; width:100%;\"></div>            <script type=\"text/javascript\">                require([\"plotly\"], function(Plotly) {                    window.PLOTLYENV=window.PLOTLYENV || {};                                    if (document.getElementById(\"c904e1e5-0c4d-4f0a-afa0-7978fe4d80ae\")) {                    Plotly.newPlot(                        \"c904e1e5-0c4d-4f0a-afa0-7978fe4d80ae\",                        [{\"hoverinfo\":\"text\",\"mode\":\"markers\",\"name\":\"Indices: 0\",\"text\":[\"Termination: ('C_P6\\u002fmmm_2', 'Ni_R-3m_1')\\u003cbr\\u003eTermination index: 0\\u003cbr\\u003eInterfaces Index Range: 0\\u003cbr\\u003eStrain: 0.07%\\u003cbr\\u003eAtoms: 8\"],\"x\":[0.06600000000000002],\"y\":[8],\"type\":\"scatter\"},{\"hoverinfo\":\"text\",\"mode\":\"markers\",\"name\":\"Indices: 1-9\",\"text\":[\"Termination: ('C_P6\\u002fmmm_2', 'Ni_R-3m_1')\\u003cbr\\u003eTermination index: 0\\u003cbr\\u003eInterfaces Index Range: 1-9\\u003cbr\\u003eStrain: 0.07%\\u003cbr\\u003eAtoms: 16\"],\"x\":[0.06600000000000002],\"y\":[16],\"type\":\"scatter\"},{\"hoverinfo\":\"text\",\"mode\":\"markers\",\"name\":\"Indices: 10-19\",\"text\":[\"Termination: ('C_P6\\u002fmmm_2', 'Ni_R-3m_1')\\u003cbr\\u003eTermination index: 0\\u003cbr\\u003eInterfaces Index Range: 10-19\\u003cbr\\u003eStrain: 0.07%\\u003cbr\\u003eAtoms: 24\"],\"x\":[0.06600000000000002],\"y\":[24],\"type\":\"scatter\"},{\"hoverinfo\":\"text\",\"mode\":\"markers\",\"name\":\"Indices: 20-38\",\"text\":[\"Termination: ('C_P6\\u002fmmm_2', 'Ni_R-3m_1')\\u003cbr\\u003eTermination index: 0\\u003cbr\\u003eInterfaces Index Range: 20-38\\u003cbr\\u003eStrain: 0.07%\\u003cbr\\u003eAtoms: 32\"],\"x\":[0.06600000000000002],\"y\":[32],\"type\":\"scatter\"},{\"hoverinfo\":\"text\",\"mode\":\"markers\",\"name\":\"Indices: 39-56\",\"text\":[\"Termination: ('C_P6\\u002fmmm_2', 'Ni_R-3m_1')\\u003cbr\\u003eTermination index: 0\\u003cbr\\u003eInterfaces Index Range: 39-56\\u003cbr\\u003eStrain: 0.07%\\u003cbr\\u003eAtoms: 40\"],\"x\":[0.06600000000000002],\"y\":[40],\"type\":\"scatter\"},{\"hoverinfo\":\"text\",\"mode\":\"markers\",\"name\":\"Indices: 57-110\",\"text\":[\"Termination: ('C_P6\\u002fmmm_2', 'Ni_R-3m_1')\\u003cbr\\u003eTermination index: 0\\u003cbr\\u003eInterfaces Index Range: 57-110\\u003cbr\\u003eStrain: 0.07%\\u003cbr\\u003eAtoms: 48\"],\"x\":[0.06600000000000002],\"y\":[48],\"type\":\"scatter\"},{\"hoverinfo\":\"text\",\"mode\":\"markers\",\"name\":\"Indices: 111-132\",\"text\":[\"Termination: ('C_P6\\u002fmmm_2', 'Ni_R-3m_1')\\u003cbr\\u003eTermination index: 0\\u003cbr\\u003eInterfaces Index Range: 111-132\\u003cbr\\u003eStrain: 0.07%\\u003cbr\\u003eAtoms: 56\"],\"x\":[0.06600000000000002],\"y\":[56],\"type\":\"scatter\"},{\"hoverinfo\":\"text\",\"mode\":\"markers\",\"name\":\"Indices: 133-177\",\"text\":[\"Termination: ('C_P6\\u002fmmm_2', 'Ni_R-3m_1')\\u003cbr\\u003eTermination index: 0\\u003cbr\\u003eInterfaces Index Range: 133-177\\u003cbr\\u003eStrain: 0.07%\\u003cbr\\u003eAtoms: 64\"],\"x\":[0.06600000000000002],\"y\":[64],\"type\":\"scatter\"},{\"hoverinfo\":\"text\",\"mode\":\"markers\",\"name\":\"Indices: 178-232\",\"text\":[\"Termination: ('C_P6\\u002fmmm_2', 'Ni_R-3m_1')\\u003cbr\\u003eTermination index: 0\\u003cbr\\u003eInterfaces Index Range: 178-232\\u003cbr\\u003eStrain: 0.07%\\u003cbr\\u003eAtoms: 72\"],\"x\":[0.06600000000000002],\"y\":[72],\"type\":\"scatter\"}],                        {\"height\":600,\"hovermode\":\"closest\",\"legend\":{\"title\":{\"text\":\"Interfaces Index Range\"}},\"xaxis\":{\"title\":{\"text\":\"Strain (%)\"},\"type\":\"log\"},\"yaxis\":{\"title\":{\"text\":\"Number of atoms\"},\"type\":\"log\"},\"template\":{\"data\":{\"histogram2dcontour\":[{\"type\":\"histogram2dcontour\",\"colorbar\":{\"outlinewidth\":0,\"ticks\":\"\"},\"colorscale\":[[0.0,\"#0d0887\"],[0.1111111111111111,\"#46039f\"],[0.2222222222222222,\"#7201a8\"],[0.3333333333333333,\"#9c179e\"],[0.4444444444444444,\"#bd3786\"],[0.5555555555555556,\"#d8576b\"],[0.6666666666666666,\"#ed7953\"],[0.7777777777777778,\"#fb9f3a\"],[0.8888888888888888,\"#fdca26\"],[1.0,\"#f0f921\"]]}],\"choropleth\":[{\"type\":\"choropleth\",\"colorbar\":{\"outlinewidth\":0,\"ticks\":\"\"}}],\"histogram2d\":[{\"type\":\"histogram2d\",\"colorbar\":{\"outlinewidth\":0,\"ticks\":\"\"},\"colorscale\":[[0.0,\"#0d0887\"],[0.1111111111111111,\"#46039f\"],[0.2222222222222222,\"#7201a8\"],[0.3333333333333333,\"#9c179e\"],[0.4444444444444444,\"#bd3786\"],[0.5555555555555556,\"#d8576b\"],[0.6666666666666666,\"#ed7953\"],[0.7777777777777778,\"#fb9f3a\"],[0.8888888888888888,\"#fdca26\"],[1.0,\"#f0f921\"]]}],\"heatmap\":[{\"type\":\"heatmap\",\"colorbar\":{\"outlinewidth\":0,\"ticks\":\"\"},\"colorscale\":[[0.0,\"#0d0887\"],[0.1111111111111111,\"#46039f\"],[0.2222222222222222,\"#7201a8\"],[0.3333333333333333,\"#9c179e\"],[0.4444444444444444,\"#bd3786\"],[0.5555555555555556,\"#d8576b\"],[0.6666666666666666,\"#ed7953\"],[0.7777777777777778,\"#fb9f3a\"],[0.8888888888888888,\"#fdca26\"],[1.0,\"#f0f921\"]]}],\"heatmapgl\":[{\"type\":\"heatmapgl\",\"colorbar\":{\"outlinewidth\":0,\"ticks\":\"\"},\"colorscale\":[[0.0,\"#0d0887\"],[0.1111111111111111,\"#46039f\"],[0.2222222222222222,\"#7201a8\"],[0.3333333333333333,\"#9c179e\"],[0.4444444444444444,\"#bd3786\"],[0.5555555555555556,\"#d8576b\"],[0.6666666666666666,\"#ed7953\"],[0.7777777777777778,\"#fb9f3a\"],[0.8888888888888888,\"#fdca26\"],[1.0,\"#f0f921\"]]}],\"contourcarpet\":[{\"type\":\"contourcarpet\",\"colorbar\":{\"outlinewidth\":0,\"ticks\":\"\"}}],\"contour\":[{\"type\":\"contour\",\"colorbar\":{\"outlinewidth\":0,\"ticks\":\"\"},\"colorscale\":[[0.0,\"#0d0887\"],[0.1111111111111111,\"#46039f\"],[0.2222222222222222,\"#7201a8\"],[0.3333333333333333,\"#9c179e\"],[0.4444444444444444,\"#bd3786\"],[0.5555555555555556,\"#d8576b\"],[0.6666666666666666,\"#ed7953\"],[0.7777777777777778,\"#fb9f3a\"],[0.8888888888888888,\"#fdca26\"],[1.0,\"#f0f921\"]]}],\"surface\":[{\"type\":\"surface\",\"colorbar\":{\"outlinewidth\":0,\"ticks\":\"\"},\"colorscale\":[[0.0,\"#0d0887\"],[0.1111111111111111,\"#46039f\"],[0.2222222222222222,\"#7201a8\"],[0.3333333333333333,\"#9c179e\"],[0.4444444444444444,\"#bd3786\"],[0.5555555555555556,\"#d8576b\"],[0.6666666666666666,\"#ed7953\"],[0.7777777777777778,\"#fb9f3a\"],[0.8888888888888888,\"#fdca26\"],[1.0,\"#f0f921\"]]}],\"mesh3d\":[{\"type\":\"mesh3d\",\"colorbar\":{\"outlinewidth\":0,\"ticks\":\"\"}}],\"scatter\":[{\"marker\":{\"line\":{\"color\":\"#283442\"}},\"type\":\"scatter\"}],\"parcoords\":[{\"type\":\"parcoords\",\"line\":{\"colorbar\":{\"outlinewidth\":0,\"ticks\":\"\"}}}],\"scatterpolargl\":[{\"type\":\"scatterpolargl\",\"marker\":{\"colorbar\":{\"outlinewidth\":0,\"ticks\":\"\"}}}],\"bar\":[{\"error_x\":{\"color\":\"#f2f5fa\"},\"error_y\":{\"color\":\"#f2f5fa\"},\"marker\":{\"line\":{\"color\":\"rgb(17,17,17)\",\"width\":0.5},\"pattern\":{\"fillmode\":\"overlay\",\"size\":10,\"solidity\":0.2}},\"type\":\"bar\"}],\"scattergeo\":[{\"type\":\"scattergeo\",\"marker\":{\"colorbar\":{\"outlinewidth\":0,\"ticks\":\"\"}}}],\"scatterpolar\":[{\"type\":\"scatterpolar\",\"marker\":{\"colorbar\":{\"outlinewidth\":0,\"ticks\":\"\"}}}],\"histogram\":[{\"marker\":{\"pattern\":{\"fillmode\":\"overlay\",\"size\":10,\"solidity\":0.2}},\"type\":\"histogram\"}],\"scattergl\":[{\"marker\":{\"line\":{\"color\":\"#283442\"}},\"type\":\"scattergl\"}],\"scatter3d\":[{\"type\":\"scatter3d\",\"line\":{\"colorbar\":{\"outlinewidth\":0,\"ticks\":\"\"}},\"marker\":{\"colorbar\":{\"outlinewidth\":0,\"ticks\":\"\"}}}],\"scattermapbox\":[{\"type\":\"scattermapbox\",\"marker\":{\"colorbar\":{\"outlinewidth\":0,\"ticks\":\"\"}}}],\"scatterternary\":[{\"type\":\"scatterternary\",\"marker\":{\"colorbar\":{\"outlinewidth\":0,\"ticks\":\"\"}}}],\"scattercarpet\":[{\"type\":\"scattercarpet\",\"marker\":{\"colorbar\":{\"outlinewidth\":0,\"ticks\":\"\"}}}],\"carpet\":[{\"aaxis\":{\"endlinecolor\":\"#A2B1C6\",\"gridcolor\":\"#506784\",\"linecolor\":\"#506784\",\"minorgridcolor\":\"#506784\",\"startlinecolor\":\"#A2B1C6\"},\"baxis\":{\"endlinecolor\":\"#A2B1C6\",\"gridcolor\":\"#506784\",\"linecolor\":\"#506784\",\"minorgridcolor\":\"#506784\",\"startlinecolor\":\"#A2B1C6\"},\"type\":\"carpet\"}],\"table\":[{\"cells\":{\"fill\":{\"color\":\"#506784\"},\"line\":{\"color\":\"rgb(17,17,17)\"}},\"header\":{\"fill\":{\"color\":\"#2a3f5f\"},\"line\":{\"color\":\"rgb(17,17,17)\"}},\"type\":\"table\"}],\"barpolar\":[{\"marker\":{\"line\":{\"color\":\"rgb(17,17,17)\",\"width\":0.5},\"pattern\":{\"fillmode\":\"overlay\",\"size\":10,\"solidity\":0.2}},\"type\":\"barpolar\"}],\"pie\":[{\"automargin\":true,\"type\":\"pie\"}]},\"layout\":{\"autotypenumbers\":\"strict\",\"colorway\":[\"#636efa\",\"#EF553B\",\"#00cc96\",\"#ab63fa\",\"#FFA15A\",\"#19d3f3\",\"#FF6692\",\"#B6E880\",\"#FF97FF\",\"#FECB52\"],\"font\":{\"color\":\"#f2f5fa\"},\"hovermode\":\"closest\",\"hoverlabel\":{\"align\":\"left\"},\"paper_bgcolor\":\"rgb(17,17,17)\",\"plot_bgcolor\":\"rgb(17,17,17)\",\"polar\":{\"bgcolor\":\"rgb(17,17,17)\",\"angularaxis\":{\"gridcolor\":\"#506784\",\"linecolor\":\"#506784\",\"ticks\":\"\"},\"radialaxis\":{\"gridcolor\":\"#506784\",\"linecolor\":\"#506784\",\"ticks\":\"\"}},\"ternary\":{\"bgcolor\":\"rgb(17,17,17)\",\"aaxis\":{\"gridcolor\":\"#506784\",\"linecolor\":\"#506784\",\"ticks\":\"\"},\"baxis\":{\"gridcolor\":\"#506784\",\"linecolor\":\"#506784\",\"ticks\":\"\"},\"caxis\":{\"gridcolor\":\"#506784\",\"linecolor\":\"#506784\",\"ticks\":\"\"}},\"coloraxis\":{\"colorbar\":{\"outlinewidth\":0,\"ticks\":\"\"}},\"colorscale\":{\"sequential\":[[0.0,\"#0d0887\"],[0.1111111111111111,\"#46039f\"],[0.2222222222222222,\"#7201a8\"],[0.3333333333333333,\"#9c179e\"],[0.4444444444444444,\"#bd3786\"],[0.5555555555555556,\"#d8576b\"],[0.6666666666666666,\"#ed7953\"],[0.7777777777777778,\"#fb9f3a\"],[0.8888888888888888,\"#fdca26\"],[1.0,\"#f0f921\"]],\"sequentialminus\":[[0.0,\"#0d0887\"],[0.1111111111111111,\"#46039f\"],[0.2222222222222222,\"#7201a8\"],[0.3333333333333333,\"#9c179e\"],[0.4444444444444444,\"#bd3786\"],[0.5555555555555556,\"#d8576b\"],[0.6666666666666666,\"#ed7953\"],[0.7777777777777778,\"#fb9f3a\"],[0.8888888888888888,\"#fdca26\"],[1.0,\"#f0f921\"]],\"diverging\":[[0,\"#8e0152\"],[0.1,\"#c51b7d\"],[0.2,\"#de77ae\"],[0.3,\"#f1b6da\"],[0.4,\"#fde0ef\"],[0.5,\"#f7f7f7\"],[0.6,\"#e6f5d0\"],[0.7,\"#b8e186\"],[0.8,\"#7fbc41\"],[0.9,\"#4d9221\"],[1,\"#276419\"]]},\"xaxis\":{\"gridcolor\":\"#283442\",\"linecolor\":\"#506784\",\"ticks\":\"\",\"title\":{\"standoff\":15},\"zerolinecolor\":\"#283442\",\"automargin\":true,\"zerolinewidth\":2},\"yaxis\":{\"gridcolor\":\"#283442\",\"linecolor\":\"#506784\",\"ticks\":\"\",\"title\":{\"standoff\":15},\"zerolinecolor\":\"#283442\",\"automargin\":true,\"zerolinewidth\":2},\"scene\":{\"xaxis\":{\"backgroundcolor\":\"rgb(17,17,17)\",\"gridcolor\":\"#506784\",\"linecolor\":\"#506784\",\"showbackground\":true,\"ticks\":\"\",\"zerolinecolor\":\"#C8D4E3\",\"gridwidth\":2},\"yaxis\":{\"backgroundcolor\":\"rgb(17,17,17)\",\"gridcolor\":\"#506784\",\"linecolor\":\"#506784\",\"showbackground\":true,\"ticks\":\"\",\"zerolinecolor\":\"#C8D4E3\",\"gridwidth\":2},\"zaxis\":{\"backgroundcolor\":\"rgb(17,17,17)\",\"gridcolor\":\"#506784\",\"linecolor\":\"#506784\",\"showbackground\":true,\"ticks\":\"\",\"zerolinecolor\":\"#C8D4E3\",\"gridwidth\":2}},\"shapedefaults\":{\"line\":{\"color\":\"#f2f5fa\"}},\"annotationdefaults\":{\"arrowcolor\":\"#f2f5fa\",\"arrowhead\":0,\"arrowwidth\":1},\"geo\":{\"bgcolor\":\"rgb(17,17,17)\",\"landcolor\":\"rgb(17,17,17)\",\"subunitcolor\":\"#506784\",\"showland\":true,\"showlakes\":true,\"lakecolor\":\"rgb(17,17,17)\"},\"title\":{\"x\":0.05},\"updatemenudefaults\":{\"bgcolor\":\"#506784\",\"borderwidth\":0},\"sliderdefaults\":{\"bgcolor\":\"#C8D4E3\",\"borderwidth\":1,\"bordercolor\":\"rgb(17,17,17)\",\"tickwidth\":0},\"mapbox\":{\"style\":\"dark\"}}}},                        {\"responsive\": true}                    ).then(function(){\n                            \nvar gd = document.getElementById('c904e1e5-0c4d-4f0a-afa0-7978fe4d80ae');\nvar x = new MutationObserver(function (mutations, observer) {{\n        var display = window.getComputedStyle(gd).display;\n        if (!display || display === 'none') {{\n            console.log([gd, 'removed!']);\n            Plotly.purge(gd);\n            observer.disconnect();\n        }}\n}});\n\n// Listen for the removal of the full notebook cells\nvar notebookContainer = gd.closest('#notebook-container');\nif (notebookContainer) {{\n    x.observe(notebookContainer, {childList: true});\n}}\n\n// Listen for the clearing of the current output cell\nvar outputEl = gd.closest('.output');\nif (outputEl) {{\n    x.observe(outputEl, {childList: true});\n}}\n\n                        })                };                });            </script>        </div>"
     },
     "metadata": {},
     "output_type": "display_data"
    },
    {
     "name": "stdout",
     "output_type": "stream",
     "text": [
      "Termination 0: ('C_P6/mmm_2', 'Ni_R-3m_1')\n"
     ]
    },
    {
     "data": {
      "application/vnd.jupyter.widget-view+json": {
       "version_major": 2,
       "version_minor": 0,
       "model_id": "f587c0c2d6e94bffa1b3293680cc524a"
      },
      "text/plain": "FigureWidget({\n    'data': [{'mode': 'lines+markers',\n              'name': 'Energy',\n              'type': 'scatter',\n              'uid': 'e6c1f7f0-a44b-412f-b797-574069d5664c',\n              'x': [],\n              'y': []}],\n    'layout': {'template': '...',\n               'title': {'text': 'Real-time Optimization Progress'},\n               'xaxis': {'anchor': 'y', 'domain': [0.0, 1.0], 'title': {'text': 'Step'}},\n               'yaxis': {'anchor': 'x', 'domain': [0.0, 1.0], 'title': {'text': 'Energy (eV)'}}}\n})"
     },
     "metadata": {},
     "output_type": "display_data"
    },
    {
     "name": "stdout",
     "output_type": "stream",
     "text": [
      "      Step     Time          Energy         fmax\n",
      "BFGS:    0 18:28:27        1.384447        0.2831\n",
      "Step: 0, Energy: 1.3844 eV\n",
      "BFGS:    1 18:28:27        1.382948        0.2530\n",
      "Step: 1, Energy: 1.3829 eV\n",
      "BFGS:    2 18:28:27        1.374722        0.2612\n",
      "Step: 2, Energy: 1.3747 eV\n",
      "BFGS:    3 18:28:27        1.372230        0.3067\n",
      "Step: 3, Energy: 1.3722 eV\n",
      "BFGS:    4 18:28:28        1.364045        0.3518\n",
      "Step: 4, Energy: 1.3640 eV\n",
      "BFGS:    5 18:28:28        1.351208        0.3386\n",
      "Step: 5, Energy: 1.3512 eV\n",
      "BFGS:    6 18:28:28        1.306172        0.6166\n",
      "Step: 6, Energy: 1.3062 eV\n",
      "BFGS:    7 18:28:28        1.219871        0.7009\n",
      "Step: 7, Energy: 1.2199 eV\n",
      "BFGS:    8 18:28:28        1.195533        0.8384\n",
      "Step: 8, Energy: 1.1955 eV\n",
      "BFGS:    9 18:28:28        1.171260        0.6394\n",
      "Step: 9, Energy: 1.1713 eV\n",
      "BFGS:   10 18:28:28        1.154252        0.5923\n",
      "Step: 10, Energy: 1.1543 eV\n",
      "BFGS:   11 18:28:28        1.087553        0.8525\n",
      "Step: 11, Energy: 1.0876 eV\n",
      "BFGS:   12 18:28:28        1.035911        0.5102\n",
      "Step: 12, Energy: 1.0359 eV\n",
      "BFGS:   13 18:28:28        0.994874        0.6768\n",
      "Step: 13, Energy: 0.9949 eV\n",
      "BFGS:   14 18:28:28        0.974219        0.5608\n",
      "Step: 14, Energy: 0.9742 eV\n",
      "BFGS:   15 18:28:28        0.906830        0.6525\n",
      "Step: 15, Energy: 0.9068 eV\n",
      "BFGS:   16 18:28:28        0.871763        0.6329\n",
      "Step: 16, Energy: 0.8718 eV\n",
      "BFGS:   17 18:28:28        0.837173        0.7031\n",
      "Step: 17, Energy: 0.8372 eV\n",
      "BFGS:   18 18:28:28        0.801958        0.6433\n",
      "Step: 18, Energy: 0.8020 eV\n",
      "BFGS:   19 18:28:28        0.770145        0.5555\n",
      "Step: 19, Energy: 0.7701 eV\n",
      "BFGS:   20 18:28:28        0.759875        0.4651\n",
      "Step: 20, Energy: 0.7599 eV\n",
      "BFGS:   21 18:28:28        0.739228        0.4129\n",
      "Step: 21, Energy: 0.7392 eV\n",
      "BFGS:   22 18:28:28        0.719303        0.4793\n",
      "Step: 22, Energy: 0.7193 eV\n",
      "BFGS:   23 18:28:28        0.694479        0.4058\n",
      "Step: 23, Energy: 0.6945 eV\n",
      "BFGS:   24 18:28:28        0.685053        0.1795\n",
      "Step: 24, Energy: 0.6851 eV\n",
      "BFGS:   25 18:28:28        0.683443        0.0907\n",
      "Step: 25, Energy: 0.6834 eV\n",
      "BFGS:   26 18:28:28        0.682998        0.0502\n",
      "Step: 26, Energy: 0.6830 eV\n",
      "BFGS:   27 18:28:28        0.682794        0.0171\n",
      "Step: 27, Energy: 0.6828 eV\n",
      "Original structure:\n",
      " Ni  C \n",
      " 1.0000000000000000\n",
      "     2.4600000000000000    0.0000000000000000    0.0000000000000002\n",
      "     1.2300000000000002    2.1304224933097191    0.0000000000000002\n",
      "     0.0000000000000000    0.0000000000000000   33.0429079454110308\n",
      " Ni  C  \n",
      "   6   2\n",
      "Cartesian\n",
      "  1.2299999999999998  0.7101408311032396  0.0000000000000001\n",
      "  3.6899999999999995  2.1304224933097187  2.0085815890822065\n",
      "  2.4599999999999995  1.4202816622064791  4.0171631781644122\n",
      "  1.2299999999999991  0.7101408311032391  6.0257447672466178\n",
      "  3.6899999999999986  2.1304224933097182  8.0343263563288261\n",
      "  2.4599999999999969  1.4202816622064762 10.0429079454110326\n",
      "  1.2300000000000026  2.1304224933097147 13.0429079454110326\n",
      "  1.2299987700000026  0.7101401209624039 13.0429079454110326\n",
      "\n",
      "\n",
      "Relaxed structure:\n",
      " Ni  C \n",
      " 1.0000000000000000\n",
      "     2.4600000000000000    0.0000000000000000    0.0000000000000002\n",
      "     1.2300000000000002    2.1304224933097191    0.0000000000000002\n",
      "     0.0000000000000000    0.0000000000000000   33.0429079454110308\n",
      " Ni  C  \n",
      "   6   2\n",
      "Cartesian\n",
      "  1.2300000000014573  0.7101408311040658  0.3099640945337328\n",
      "  3.6899999999368331  2.1304224932732496  2.3321166454425941\n",
      "  2.4599999982433478  1.4202816611922755  4.3481591483785431\n",
      "  1.2299999801787729  0.7101408196594431  6.3646884377695008\n",
      "  3.6899998984095381  2.1304224346564333  8.3787538724028732\n",
      "  2.4599997649936767  1.4202815265255231 10.3987728552671861\n",
      "  1.2300002437651767  2.1304226340476156 12.0415829309182918\n",
      "  1.2299988844711989  0.7101401870523921 12.0405017423424727\n",
      "\n",
      "The final energy is 0.683 eV.\n"
     ]
    },
    {
     "data": {
      "text/plain": "<IPython.core.display.HTML object>",
      "text/html": "<div style=\"display: flex;\">\n    <div style=\"display: inline-block; margin: 10px; vertical-align: top;\">\n        <p>Ni6C2 - original</p>\n        <img src=\"data:image/png;base64,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\" alt=\"original\" />\n    </div>\n    \n    <div style=\"display: inline-block; margin: 10px; vertical-align: top;\">\n        <p>Ni6C2 - relaxed</p>\n        <img src=\"data:image/png;base64,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\" alt=\"relaxed\" />\n    </div>\n    </div>"
     },
     "metadata": {},
     "output_type": "display_data"
    },
    {
     "name": "stdout",
     "output_type": "stream",
     "text": [
      "Bulk substrate energy per atom: -0.013 eV\n",
      "Free layer energy per atom: 0.220 eV\n",
      "Interface energy per atom: 0.085 eV\n",
      "Effective interface delta energy: 0.050 eV/Å^2 (0.315 J/m^2)\n"
     ]
    }
   ],
   "source": [
    "%run create_interface_with_relaxation_ase_emt.ipynb"
   ],
   "metadata": {
    "collapsed": false,
    "ExecuteTime": {
     "end_time": "2024-02-28T02:28:29.114597Z",
     "start_time": "2024-02-28T02:28:23.502096Z"
    }
   },
   "id": "7cc1760211290efa",
   "execution_count": 3
  },
  {
   "cell_type": "code",
   "outputs": [],
   "source": [],
   "metadata": {
    "collapsed": false
   },
   "id": "5a049ce90fd5de34"
  }
 ],
 "metadata": {
  "kernelspec": {
   "display_name": "Python 3",
   "language": "python",
   "name": "python3"
  },
  "language_info": {
   "codemirror_mode": {
    "name": "ipython",
    "version": 2
   },
   "file_extension": ".py",
   "mimetype": "text/x-python",
   "name": "python",
   "nbconvert_exporter": "python",
   "pygments_lexer": "ipython2",
   "version": "2.7.6"
  }
 },
 "nbformat": 4,
 "nbformat_minor": 5
}
