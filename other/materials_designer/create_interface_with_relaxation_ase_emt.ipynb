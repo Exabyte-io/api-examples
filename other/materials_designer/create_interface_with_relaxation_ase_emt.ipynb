{
 "cells": [
  {
   "cell_type": "markdown",
   "metadata": {},
   "source": [
    "# Create an interface with minimal strain and relax it using ASE EMT\n",
    "\n",
    "Use Zur and McGill superlattices matching [algorithm](https://doi.org/10.1063/1.3330840) to create interfaces between two materials using the Pymatgen [implementation](https://pymatgen.org/pymatgen.analysis.interfaces.html#pymatgen.analysis.interfaces.zsl). And then relax the interface using the EMT (Effective Medium Theory) potential. \n",
    ">**_NOTE:_** The [EMT potential](https://wiki.fysik.dtu.dk/ase/ase/calculators/emt.html) is available for a limited number of elements (Al, Cu, Ag, Au, Ni, Pd and Pt., as well as H, C, N, O in a limited way). If the interface contains elements not supported by EMT, the relaxation will not be performed.\n",
    "\n",
    "<h2 style=\"color:green\">Usage</h2>\n",
    "\n",
    "0. Make sure to select Input Materials\n",
    "1. Execute \"Run first: ...\" cell below to load Input Materials into the current kernel\n",
    "2. Set Input Parameters (e.g. `MILLER_INDICES`, `THICKNESS`, `MAX_AREA`) below or use the default values\n",
    "3. Click \"Run\" > \"Run All\" to run all cells\n",
    "4. Wait for the run to complete (depending on the parameters it can take a few min or more). Scroll down to view cell results.\n",
    "5. Review the strain plot and modify its parameters as needed\n",
    "6. Apply relaxation to the selected interface and analyze the difference\n",
    "7. Pass the results back to the web application\n",
    "\n",
    "## Methodology\n",
    "\n",
    "The following happens in the script below:\n",
    "\n",
    "1. [Same as in create_interface_with_min_strain_zsl.ipynb](create_interface_with_min_strain_zsl.ipynb)\n",
    "\n",
    "2. The interface with the lowest strain is selected and relaxed using the BFGS algorithm. The EMT potential is used as an energy calculator. The relaxed structure and energy are printed out.\n"
   ]
  },
  {
   "cell_type": "markdown",
   "metadata": {},
   "source": [
    "<h2 style=\"color:red\">Run first: load input materials in current kernel</h2>\n"
   ]
  },
  {
   "cell_type": "code",
   "execution_count": 28,
   "metadata": {
    "ExecuteTime": {
     "end_time": "2024-02-24T01:43:10.975641Z",
     "start_time": "2024-02-24T01:43:10.716821Z"
    }
   },
   "outputs": [
    {
     "ename": "ImportError",
     "evalue": "This module intended to be used in a Pyodide environment. Please install packages yourself using pip.",
     "output_type": "error",
     "traceback": [
      "\u001B[0;31m---------------------------------------------------------------------------\u001B[0m",
      "\u001B[0;31mModuleNotFoundError\u001B[0m                       Traceback (most recent call last)",
      "File \u001B[0;32m~/code/GREEN/api-examples/other/materials_designer/jupyterlite/utils.py:6\u001B[0m\n\u001B[1;32m      5\u001B[0m \u001B[38;5;28;01mtry\u001B[39;00m:\n\u001B[0;32m----> 6\u001B[0m     \u001B[38;5;28;01mimport\u001B[39;00m \u001B[38;5;21;01mmicropip\u001B[39;00m\n\u001B[1;32m      7\u001B[0m \u001B[38;5;28;01mexcept\u001B[39;00m \u001B[38;5;167;01mImportError\u001B[39;00m:\n",
      "\u001B[0;31mModuleNotFoundError\u001B[0m: No module named 'micropip'",
      "\nDuring handling of the above exception, another exception occurred:\n",
      "\u001B[0;31mImportError\u001B[0m                               Traceback (most recent call last)",
      "Cell \u001B[0;32mIn[28], line 1\u001B[0m\n\u001B[0;32m----> 1\u001B[0m \u001B[38;5;28;01mfrom\u001B[39;00m \u001B[38;5;21;01mjupyterlite\u001B[39;00m\u001B[38;5;21;01m.\u001B[39;00m\u001B[38;5;21;01mutils\u001B[39;00m \u001B[38;5;28;01mimport\u001B[39;00m get_data\n\u001B[1;32m      3\u001B[0m \u001B[38;5;66;03m# Get the list of input materials and load them into `materials_in` variable\u001B[39;00m\n\u001B[1;32m      4\u001B[0m get_data(\u001B[38;5;124m\"\u001B[39m\u001B[38;5;124mmaterials_in\u001B[39m\u001B[38;5;124m\"\u001B[39m)\n",
      "File \u001B[0;32m~/code/GREEN/api-examples/other/materials_designer/jupyterlite/utils.py:8\u001B[0m\n\u001B[1;32m      6\u001B[0m     \u001B[38;5;28;01mimport\u001B[39;00m \u001B[38;5;21;01mmicropip\u001B[39;00m\n\u001B[1;32m      7\u001B[0m \u001B[38;5;28;01mexcept\u001B[39;00m \u001B[38;5;167;01mImportError\u001B[39;00m:\n\u001B[0;32m----> 8\u001B[0m     \u001B[38;5;28;01mraise\u001B[39;00m \u001B[38;5;167;01mImportError\u001B[39;00m(\n\u001B[1;32m      9\u001B[0m         \u001B[38;5;124m\"\u001B[39m\u001B[38;5;124mThis module intended to be used in a Pyodide environment. Please install packages yourself using pip.\u001B[39m\u001B[38;5;124m\"\u001B[39m\n\u001B[1;32m     10\u001B[0m     )\n\u001B[1;32m     12\u001B[0m \u001B[38;5;28;01masync\u001B[39;00m \u001B[38;5;28;01mdef\u001B[39;00m \u001B[38;5;21minstall_package\u001B[39m(pkg, verbose\u001B[38;5;241m=\u001B[39m\u001B[38;5;28;01mTrue\u001B[39;00m):\n\u001B[1;32m     13\u001B[0m \u001B[38;5;250m        \u001B[39m\u001B[38;5;124;03m\"\"\"\u001B[39;00m\n\u001B[1;32m     14\u001B[0m \u001B[38;5;124;03m        Installs a package in a Pyodide environment.\u001B[39;00m\n\u001B[1;32m     15\u001B[0m \u001B[38;5;124;03m        Args:\u001B[39;00m\n\u001B[0;32m   (...)\u001B[0m\n\u001B[1;32m     20\u001B[0m \u001B[38;5;124;03m            None\u001B[39;00m\n\u001B[1;32m     21\u001B[0m \u001B[38;5;124;03m        \"\"\"\u001B[39;00m\n",
      "\u001B[0;31mImportError\u001B[0m: This module intended to be used in a Pyodide environment. Please install packages yourself using pip."
     ]
    }
   ],
   "source": [
    "from jupyterlite.utils import get_data\n",
    "\n",
    "# Get the list of input materials and load them into `materials_in` variable\n",
    "get_data(\"materials_in\")"
   ]
  },
  {
   "cell_type": "markdown",
   "metadata": {},
   "source": [
    "## 1. Set Input Parameters\n",
    "\n",
    "### 1.1. Select Substrate and Layer from Input Materials\n"
   ]
  },
  {
   "cell_type": "code",
   "execution_count": 29,
   "metadata": {
    "ExecuteTime": {
     "end_time": "2024-02-24T01:43:11.037065Z",
     "start_time": "2024-02-24T01:43:10.942569Z"
    }
   },
   "outputs": [],
   "source": [
    "SUBSTRATE_PARAMETERS = {\n",
    "    \"MATERIAL_INDEX\": 0,  # the index of the material in the materials_in list\n",
    "    \"MILLER_INDICES\": (1, 1, 1),  # the miller indices of the interfacial plane\n",
    "    \"THICKNESS\": 3,  # in layers\n",
    "}\n",
    "\n",
    "LAYER_PARAMETERS = {\n",
    "    \"MATERIAL_INDEX\": 1, # the index of the material in the materials_in list\n",
    "    \"MILLER_INDICES\": (0, 0, 1),  # the miller indices of the interfacial plane\n",
    "    \"THICKNESS\": 1,  # in layers\n",
    "}"
   ]
  },
  {
   "cell_type": "markdown",
   "metadata": {},
   "source": [
    "### 1.2. Set Interface Parameters\n",
    "\n",
    "The distance between layer and substrate and maximum area to consider when matching.\n"
   ]
  },
  {
   "cell_type": "code",
   "execution_count": 30,
   "metadata": {
    "ExecuteTime": {
     "end_time": "2024-02-24T01:43:11.247908Z",
     "start_time": "2024-02-24T01:43:11.021550Z"
    }
   },
   "outputs": [],
   "source": [
    "INTERFACE_PARAMETERS = {\n",
    "    \"DISTANCE_Z\": 3.0, # in Angstroms\n",
    "    \"MAX_AREA\": 400, # in Angstroms^2\n",
    "}"
   ]
  },
  {
   "cell_type": "markdown",
   "metadata": {},
   "source": [
    "### 1.3. Set Algorithm Parameters\n"
   ]
  },
  {
   "cell_type": "code",
   "execution_count": 31,
   "metadata": {
    "ExecuteTime": {
     "end_time": "2024-02-24T01:43:11.322105Z",
     "start_time": "2024-02-24T01:43:11.232841Z"
    }
   },
   "outputs": [],
   "source": [
    "ZSL_PARAMETERS = {\n",
    "    \"MAX_AREA\": INTERFACE_PARAMETERS[\"MAX_AREA\"],  # The area to consider in Angstrom^2\n",
    "    \"MAX_AREA_TOL\": 0.09,  # The area within this tolerance is considered equal\n",
    "    \"MAX_LENGTH_TOL\": 0.03,  # supercell lattice vectors lengths within this tolerance are considered equal\n",
    "    \"MAX_ANGLE_TOL\": 0.01,  # supercell lattice angles within this tolerance are considered equal\n",
    "    \"STRAIN_TOL\": 10e-6,  # strains within this tolerance are considered equal\n",
    "}\n",
    "RELAXATION_PARAMETERS = {\n",
    "    # Relaxation stops when the largest force component is less than fmax.\n",
    "    # In ev/Angstrom, per https://wiki.fysik.dtu.dk/ase/ase/optimize.html\n",
    "    \"FMAX\": 0.05,\n",
    "    # The optimization algorithm: BFGS, FIRE, etc. \n",
    "    # per https://wiki.fysik.dtu.dk/ase/ase/optimize.html#local-optimization\n",
    "    \"OPTIMIZER\": \"BFGS\",  \n",
    "}"
   ]
  },
  {
   "cell_type": "markdown",
   "metadata": {},
   "source": [
    "## 2. Install Packages\n"
   ]
  },
  {
   "cell_type": "code",
   "execution_count": 32,
   "metadata": {
    "ExecuteTime": {
     "end_time": "2024-02-24T01:43:11.423825Z",
     "start_time": "2024-02-24T01:43:11.298836Z"
    }
   },
   "outputs": [
    {
     "ename": "ImportError",
     "evalue": "This module intended to be used in a Pyodide environment. Please install packages yourself using pip.",
     "output_type": "error",
     "traceback": [
      "\u001B[0;31m---------------------------------------------------------------------------\u001B[0m",
      "\u001B[0;31mModuleNotFoundError\u001B[0m                       Traceback (most recent call last)",
      "File \u001B[0;32m~/code/GREEN/api-examples/other/materials_designer/jupyterlite/utils.py:6\u001B[0m\n\u001B[1;32m      5\u001B[0m \u001B[38;5;28;01mtry\u001B[39;00m:\n\u001B[0;32m----> 6\u001B[0m     \u001B[38;5;28;01mimport\u001B[39;00m \u001B[38;5;21;01mmicropip\u001B[39;00m\n\u001B[1;32m      7\u001B[0m \u001B[38;5;28;01mexcept\u001B[39;00m \u001B[38;5;167;01mImportError\u001B[39;00m:\n",
      "\u001B[0;31mModuleNotFoundError\u001B[0m: No module named 'micropip'",
      "\nDuring handling of the above exception, another exception occurred:\n",
      "\u001B[0;31mImportError\u001B[0m                               Traceback (most recent call last)",
      "Cell \u001B[0;32mIn[32], line 1\u001B[0m\n\u001B[0;32m----> 1\u001B[0m \u001B[38;5;28;01mfrom\u001B[39;00m \u001B[38;5;21;01mjupyterlite\u001B[39;00m\u001B[38;5;21;01m.\u001B[39;00m\u001B[38;5;21;01mutils\u001B[39;00m \u001B[38;5;28;01mimport\u001B[39;00m install_packages\n\u001B[1;32m      3\u001B[0m \u001B[38;5;28;01mawait\u001B[39;00m install_packages(\u001B[38;5;124m\"\u001B[39m\u001B[38;5;124mcreate_interface_with_min_strain_zsl.ipynb\u001B[39m\u001B[38;5;124m\"\u001B[39m)\n",
      "File \u001B[0;32m~/code/GREEN/api-examples/other/materials_designer/jupyterlite/utils.py:8\u001B[0m\n\u001B[1;32m      6\u001B[0m     \u001B[38;5;28;01mimport\u001B[39;00m \u001B[38;5;21;01mmicropip\u001B[39;00m\n\u001B[1;32m      7\u001B[0m \u001B[38;5;28;01mexcept\u001B[39;00m \u001B[38;5;167;01mImportError\u001B[39;00m:\n\u001B[0;32m----> 8\u001B[0m     \u001B[38;5;28;01mraise\u001B[39;00m \u001B[38;5;167;01mImportError\u001B[39;00m(\n\u001B[1;32m      9\u001B[0m         \u001B[38;5;124m\"\u001B[39m\u001B[38;5;124mThis module intended to be used in a Pyodide environment. Please install packages yourself using pip.\u001B[39m\u001B[38;5;124m\"\u001B[39m\n\u001B[1;32m     10\u001B[0m     )\n\u001B[1;32m     12\u001B[0m \u001B[38;5;28;01masync\u001B[39;00m \u001B[38;5;28;01mdef\u001B[39;00m \u001B[38;5;21minstall_package\u001B[39m(pkg, verbose\u001B[38;5;241m=\u001B[39m\u001B[38;5;28;01mTrue\u001B[39;00m):\n\u001B[1;32m     13\u001B[0m \u001B[38;5;250m        \u001B[39m\u001B[38;5;124;03m\"\"\"\u001B[39;00m\n\u001B[1;32m     14\u001B[0m \u001B[38;5;124;03m        Installs a package in a Pyodide environment.\u001B[39;00m\n\u001B[1;32m     15\u001B[0m \u001B[38;5;124;03m        Args:\u001B[39;00m\n\u001B[0;32m   (...)\u001B[0m\n\u001B[1;32m     20\u001B[0m \u001B[38;5;124;03m            None\u001B[39;00m\n\u001B[1;32m     21\u001B[0m \u001B[38;5;124;03m        \"\"\"\u001B[39;00m\n",
      "\u001B[0;31mImportError\u001B[0m: This module intended to be used in a Pyodide environment. Please install packages yourself using pip."
     ]
    }
   ],
   "source": [
    "from jupyterlite.utils import install_packages\n",
    "\n",
    "await install_packages(\"create_interface_with_min_strain_zsl.ipynb\")"
   ]
  },
  {
   "cell_type": "markdown",
   "metadata": {},
   "source": [
    "## 3. Create interfaces\n",
    "\n",
    "### 3.1. Extract Interfaces and Terminations\n",
    "\n",
    "Extract all possible layer/substrate supercell combinations within the maximum area including different terminations.\n"
   ]
  },
  {
   "cell_type": "code",
   "execution_count": 33,
   "metadata": {
    "tags": [],
    "trusted": true,
    "ExecuteTime": {
     "end_time": "2024-02-24T02:02:00.167288Z",
     "start_time": "2024-02-24T01:43:11.414797Z"
    }
   },
   "outputs": [
    {
     "name": "stdout",
     "output_type": "stream",
     "text": [
      "Full Formula (Ni1)\n",
      "Reduced Formula: Ni\n",
      "abc   :   2.460000   2.460000   2.460000\n",
      "angles:  60.000000  60.000000  60.000000\n",
      "pbc   :       True       True       True\n",
      "Sites (1)\n",
      "  #  SP      a    b    c\n",
      "---  ----  ---  ---  ---\n",
      "  0  Ni      0    0    0 \n",
      "\n",
      "Full Formula (C2)\n",
      "Reduced Formula: C\n",
      "abc   :   2.467291   2.467291  20.000000\n",
      "angles:  90.000000  90.000000 120.000000\n",
      "pbc   :       True       True       True\n",
      "Sites (2)\n",
      "  #  SP           a         b    c\n",
      "---  ----  --------  --------  ---\n",
      "  0  C     0         0           0\n",
      "  1  C     0.333333  0.666667    0 \n",
      "\n",
      "Creating interfaces...\n"
     ]
    }
   ],
   "source": [
    "from src.pymatgen_coherent_interface_builder import CoherentInterfaceBuilder, ZSLGenerator\n",
    "from src.utils import to_pymatgen\n",
    "\n",
    "if \"materials_in\" in globals():\n",
    "    pymatgen_materials = [to_pymatgen(item) for item in materials_in]\n",
    "    for material in pymatgen_materials:\n",
    "        print(material, \"\\n\")\n",
    "\n",
    "\n",
    "def create_interfaces(settings: dict):\n",
    "    print(\"Creating interfaces...\")\n",
    "    zsl = ZSLGenerator(\n",
    "        max_area_ratio_tol=settings[\"ZSL_PARAMETERS\"][\"MAX_AREA_TOL\"],\n",
    "        max_area=settings[\"ZSL_PARAMETERS\"][\"MAX_AREA\"],\n",
    "        max_length_tol=settings[\"ZSL_PARAMETERS\"][\"MAX_LENGTH_TOL\"],\n",
    "        max_angle_tol=settings[\"ZSL_PARAMETERS\"][\"MAX_ANGLE_TOL\"],\n",
    "    )\n",
    "\n",
    "    cib = CoherentInterfaceBuilder(\n",
    "        substrate_structure=pymatgen_materials[settings[\"SUBSTRATE_PARAMETERS\"][\"MATERIAL_INDEX\"]],\n",
    "        film_structure=pymatgen_materials[settings[\"LAYER_PARAMETERS\"][\"MATERIAL_INDEX\"]],\n",
    "        substrate_miller=settings[\"SUBSTRATE_PARAMETERS\"][\"MILLER_INDICES\"],\n",
    "        film_miller=settings[\"LAYER_PARAMETERS\"][\"MILLER_INDICES\"],\n",
    "        zslgen=zsl,\n",
    "        strain_tol=settings[\"ZSL_PARAMETERS\"][\"STRAIN_TOL\"],\n",
    "    )\n",
    "\n",
    "    # Find terminations\n",
    "    cib._find_terminations()\n",
    "    terminations = cib.terminations\n",
    "\n",
    "    # Create interfaces for each termination\n",
    "    interfaces = {}\n",
    "    for termination in terminations:\n",
    "        interfaces[termination] = []\n",
    "        for interface in cib.get_interfaces(\n",
    "            termination,\n",
    "            gap=settings[\"INTERFACE_PARAMETERS\"][\"DISTANCE_Z\"],\n",
    "            film_thickness=settings[\"LAYER_PARAMETERS\"][\"THICKNESS\"],\n",
    "            substrate_thickness=settings[\"SUBSTRATE_PARAMETERS\"][\"THICKNESS\"],\n",
    "            in_layers=True,\n",
    "        ):\n",
    "            # Wrap atoms to unit cell\n",
    "            interface[\"interface\"].make_supercell((1,1,1), to_unit_cell=True)\n",
    "            interfaces[termination].append(interface)\n",
    "    return interfaces, terminations\n",
    "\n",
    "\n",
    "interfaces, terminations = create_interfaces(\n",
    "    settings={\n",
    "        \"SUBSTRATE_PARAMETERS\": SUBSTRATE_PARAMETERS,\n",
    "        \"LAYER_PARAMETERS\": LAYER_PARAMETERS,\n",
    "        \"ZSL_PARAMETERS\": ZSL_PARAMETERS,\n",
    "        \"INTERFACE_PARAMETERS\": INTERFACE_PARAMETERS,\n",
    "    }\n",
    ")\n"
   ]
  },
  {
   "cell_type": "markdown",
   "metadata": {},
   "source": [
    "### 3.2. Print out the interfaces and terminations\n"
   ]
  },
  {
   "cell_type": "code",
   "execution_count": 34,
   "metadata": {
    "ExecuteTime": {
     "end_time": "2024-02-24T02:02:00.170063Z",
     "start_time": "2024-02-24T02:02:00.166427Z"
    }
   },
   "outputs": [
    {
     "name": "stdout",
     "output_type": "stream",
     "text": [
      "Found 1 terminations\n",
      "Found 30617 interfaces for ('C_P6/mmm_2', 'Ni_R-3m_1') termination\n"
     ]
    }
   ],
   "source": [
    "print(f'Found {len(terminations)} terminations')\n",
    "for termination in terminations:\n",
    "    print(f\"Found {len(interfaces[termination])} interfaces for\", termination, \"termination\")"
   ]
  },
  {
   "cell_type": "markdown",
   "metadata": {},
   "source": [
    "## 4. Sort interfaces by strain\n",
    "\n",
    "### 4.1. Sort all interfaces\n"
   ]
  },
  {
   "cell_type": "code",
   "execution_count": 35,
   "metadata": {
    "ExecuteTime": {
     "end_time": "2024-02-24T02:02:00.216353Z",
     "start_time": "2024-02-24T02:02:00.166939Z"
    }
   },
   "outputs": [],
   "source": [
    "# Could be \"strain\", \"von_mises_strain\", \"mean_abs_strain\"\n",
    "strain_mode = \"mean_abs_strain\"\n",
    "\n",
    "# Sort interfaces by the specified strain mode and number of sites\n",
    "def sort_interfaces(interfaces, terminations):\n",
    "    sorted_interfaces = {}\n",
    "    for termination in terminations:\n",
    "        sorted_interfaces[termination] = sorted(\n",
    "            interfaces[termination], key=lambda x: (x[strain_mode], x[\"interface\"].num_sites)\n",
    "        )\n",
    "    return sorted_interfaces\n",
    "\n",
    "\n",
    "sorted_interfaces = sort_interfaces(interfaces, terminations)"
   ]
  },
  {
   "cell_type": "markdown",
   "metadata": {},
   "source": [
    "### 4.2. Print out interfaces with lowest strain for each termination\n"
   ]
  },
  {
   "cell_type": "code",
   "execution_count": 36,
   "metadata": {
    "ExecuteTime": {
     "end_time": "2024-02-24T02:02:00.217471Z",
     "start_time": "2024-02-24T02:02:00.216240Z"
    }
   },
   "outputs": [
    {
     "name": "stdout",
     "output_type": "stream",
     "text": [
      "Interface with lowest strain for termination ('C_P6/mmm_2', 'Ni_R-3m_1') (index 0):\n",
      "    strain: 0.06600000000000002 %\n",
      "    number of atoms: 5\n"
     ]
    }
   ],
   "source": [
    "for termination in terminations:\n",
    "    print(f\"Interface with lowest strain for termination {termination} (index 0):\")\n",
    "    first_interface = interfaces[termination][0]\n",
    "    print(\"    strain:\", first_interface[strain_mode] * 100, \"%\")\n",
    "    print(\"    number of atoms:\", first_interface[\"interface\"].num_sites)"
   ]
  },
  {
   "cell_type": "markdown",
   "metadata": {},
   "source": [
    "## 5. Plot the results\n",
    "\n",
    "Plot the number of atoms vs strain. Adjust the parameters as needed.\n"
   ]
  },
  {
   "cell_type": "code",
   "execution_count": 37,
   "metadata": {
    "ExecuteTime": {
     "end_time": "2024-02-24T02:02:00.466541Z",
     "start_time": "2024-02-24T02:02:00.266128Z"
    }
   },
   "outputs": [
    {
     "data": {
      "application/vnd.plotly.v1+json": {
       "data": [
        {
         "hoverinfo": "text",
         "mode": "markers",
         "name": "Indices: 0",
         "text": [
          "Termination: ('C_P6/mmm_2', 'Ni_R-3m_1')<br>Termination index: 0<br>Interfaces Index Range: 0<br>Strain: 0.07%<br>Atoms: 5"
         ],
         "x": [
          0.06600000000000002
         ],
         "y": [
          5
         ],
         "type": "scatter"
        },
        {
         "hoverinfo": "text",
         "mode": "markers",
         "name": "Indices: 1-9",
         "text": [
          "Termination: ('C_P6/mmm_2', 'Ni_R-3m_1')<br>Termination index: 0<br>Interfaces Index Range: 1-9<br>Strain: 0.07%<br>Atoms: 10"
         ],
         "x": [
          0.06600000000000002
         ],
         "y": [
          10
         ],
         "type": "scatter"
        },
        {
         "hoverinfo": "text",
         "mode": "markers",
         "name": "Indices: 10-19",
         "text": [
          "Termination: ('C_P6/mmm_2', 'Ni_R-3m_1')<br>Termination index: 0<br>Interfaces Index Range: 10-19<br>Strain: 0.07%<br>Atoms: 15"
         ],
         "x": [
          0.06600000000000002
         ],
         "y": [
          15
         ],
         "type": "scatter"
        },
        {
         "hoverinfo": "text",
         "mode": "markers",
         "name": "Indices: 20-38",
         "text": [
          "Termination: ('C_P6/mmm_2', 'Ni_R-3m_1')<br>Termination index: 0<br>Interfaces Index Range: 20-38<br>Strain: 0.07%<br>Atoms: 20"
         ],
         "x": [
          0.06600000000000002
         ],
         "y": [
          20
         ],
         "type": "scatter"
        },
        {
         "hoverinfo": "text",
         "mode": "markers",
         "name": "Indices: 39-56",
         "text": [
          "Termination: ('C_P6/mmm_2', 'Ni_R-3m_1')<br>Termination index: 0<br>Interfaces Index Range: 39-56<br>Strain: 0.07%<br>Atoms: 25"
         ],
         "x": [
          0.06600000000000002
         ],
         "y": [
          25
         ],
         "type": "scatter"
        },
        {
         "hoverinfo": "text",
         "mode": "markers",
         "name": "Indices: 57-110",
         "text": [
          "Termination: ('C_P6/mmm_2', 'Ni_R-3m_1')<br>Termination index: 0<br>Interfaces Index Range: 57-110<br>Strain: 0.07%<br>Atoms: 30"
         ],
         "x": [
          0.06600000000000002
         ],
         "y": [
          30
         ],
         "type": "scatter"
        },
        {
         "hoverinfo": "text",
         "mode": "markers",
         "name": "Indices: 111-132",
         "text": [
          "Termination: ('C_P6/mmm_2', 'Ni_R-3m_1')<br>Termination index: 0<br>Interfaces Index Range: 111-132<br>Strain: 0.07%<br>Atoms: 35"
         ],
         "x": [
          0.06600000000000002
         ],
         "y": [
          35
         ],
         "type": "scatter"
        },
        {
         "hoverinfo": "text",
         "mode": "markers",
         "name": "Indices: 133-177",
         "text": [
          "Termination: ('C_P6/mmm_2', 'Ni_R-3m_1')<br>Termination index: 0<br>Interfaces Index Range: 133-177<br>Strain: 0.07%<br>Atoms: 40"
         ],
         "x": [
          0.06600000000000002
         ],
         "y": [
          40
         ],
         "type": "scatter"
        },
        {
         "hoverinfo": "text",
         "mode": "markers",
         "name": "Indices: 178-232",
         "text": [
          "Termination: ('C_P6/mmm_2', 'Ni_R-3m_1')<br>Termination index: 0<br>Interfaces Index Range: 178-232<br>Strain: 0.07%<br>Atoms: 45"
         ],
         "x": [
          0.06600000000000002
         ],
         "y": [
          45
         ],
         "type": "scatter"
        },
        {
         "hoverinfo": "text",
         "mode": "markers",
         "name": "Indices: 233-322",
         "text": [
          "Termination: ('C_P6/mmm_2', 'Ni_R-3m_1')<br>Termination index: 0<br>Interfaces Index Range: 233-322<br>Strain: 0.07%<br>Atoms: 50"
         ],
         "x": [
          0.06600000000000002
         ],
         "y": [
          50
         ],
         "type": "scatter"
        },
        {
         "hoverinfo": "text",
         "mode": "markers",
         "name": "Indices: 323-376",
         "text": [
          "Termination: ('C_P6/mmm_2', 'Ni_R-3m_1')<br>Termination index: 0<br>Interfaces Index Range: 323-376<br>Strain: 0.07%<br>Atoms: 55"
         ],
         "x": [
          0.06600000000000002
         ],
         "y": [
          55
         ],
         "type": "scatter"
        },
        {
         "hoverinfo": "text",
         "mode": "markers",
         "name": "Indices: 377-494",
         "text": [
          "Termination: ('C_P6/mmm_2', 'Ni_R-3m_1')<br>Termination index: 0<br>Interfaces Index Range: 377-494<br>Strain: 0.07%<br>Atoms: 60"
         ],
         "x": [
          0.06600000000000002
         ],
         "y": [
          60
         ],
         "type": "scatter"
        },
        {
         "hoverinfo": "text",
         "mode": "markers",
         "name": "Indices: 495-552",
         "text": [
          "Termination: ('C_P6/mmm_2', 'Ni_R-3m_1')<br>Termination index: 0<br>Interfaces Index Range: 495-552<br>Strain: 0.07%<br>Atoms: 65"
         ],
         "x": [
          0.06600000000000002
         ],
         "y": [
          65
         ],
         "type": "scatter"
        },
        {
         "hoverinfo": "text",
         "mode": "markers",
         "name": "Indices: 553-678",
         "text": [
          "Termination: ('C_P6/mmm_2', 'Ni_R-3m_1')<br>Termination index: 0<br>Interfaces Index Range: 553-678<br>Strain: 0.07%<br>Atoms: 70"
         ],
         "x": [
          0.06600000000000002
         ],
         "y": [
          70
         ],
         "type": "scatter"
        },
        {
         "hoverinfo": "text",
         "mode": "markers",
         "name": "Indices: 679-786",
         "text": [
          "Termination: ('C_P6/mmm_2', 'Ni_R-3m_1')<br>Termination index: 0<br>Interfaces Index Range: 679-786<br>Strain: 0.07%<br>Atoms: 75"
         ],
         "x": [
          0.06600000000000002
         ],
         "y": [
          75
         ],
         "type": "scatter"
        },
        {
         "hoverinfo": "text",
         "mode": "markers",
         "name": "Indices: 787-913",
         "text": [
          "Termination: ('C_P6/mmm_2', 'Ni_R-3m_1')<br>Termination index: 0<br>Interfaces Index Range: 787-913<br>Strain: 0.07%<br>Atoms: 80"
         ],
         "x": [
          0.06600000000000002
         ],
         "y": [
          80
         ],
         "type": "scatter"
        },
        {
         "hoverinfo": "text",
         "mode": "markers",
         "name": "Indices: 914-1003",
         "text": [
          "Termination: ('C_P6/mmm_2', 'Ni_R-3m_1')<br>Termination index: 0<br>Interfaces Index Range: 914-1003<br>Strain: 0.07%<br>Atoms: 85"
         ],
         "x": [
          0.06600000000000002
         ],
         "y": [
          85
         ],
         "type": "scatter"
        },
        {
         "hoverinfo": "text",
         "mode": "markers",
         "name": "Indices: 1004-1210",
         "text": [
          "Termination: ('C_P6/mmm_2', 'Ni_R-3m_1')<br>Termination index: 0<br>Interfaces Index Range: 1004-1210<br>Strain: 0.07%<br>Atoms: 90"
         ],
         "x": [
          0.06600000000000002
         ],
         "y": [
          90
         ],
         "type": "scatter"
        },
        {
         "hoverinfo": "text",
         "mode": "markers",
         "name": "Indices: 1211-1304",
         "text": [
          "Termination: ('C_P6/mmm_2', 'Ni_R-3m_1')<br>Termination index: 0<br>Interfaces Index Range: 1211-1304<br>Strain: 0.07%<br>Atoms: 95"
         ],
         "x": [
          0.06600000000000002
         ],
         "y": [
          95
         ],
         "type": "scatter"
        },
        {
         "hoverinfo": "text",
         "mode": "markers",
         "name": "Indices: 1305-1502",
         "text": [
          "Termination: ('C_P6/mmm_2', 'Ni_R-3m_1')<br>Termination index: 0<br>Interfaces Index Range: 1305-1502<br>Strain: 0.07%<br>Atoms: 100"
         ],
         "x": [
          0.06600000000000002
         ],
         "y": [
          100
         ],
         "type": "scatter"
        },
        {
         "hoverinfo": "text",
         "mode": "markers",
         "name": "Indices: 1503-1650",
         "text": [
          "Termination: ('C_P6/mmm_2', 'Ni_R-3m_1')<br>Termination index: 0<br>Interfaces Index Range: 1503-1650<br>Strain: 0.07%<br>Atoms: 105"
         ],
         "x": [
          0.06600000000000002
         ],
         "y": [
          105
         ],
         "type": "scatter"
        },
        {
         "hoverinfo": "text",
         "mode": "markers",
         "name": "Indices: 1651-1848",
         "text": [
          "Termination: ('C_P6/mmm_2', 'Ni_R-3m_1')<br>Termination index: 0<br>Interfaces Index Range: 1651-1848<br>Strain: 0.07%<br>Atoms: 110"
         ],
         "x": [
          0.06600000000000002
         ],
         "y": [
          110
         ],
         "type": "scatter"
        },
        {
         "hoverinfo": "text",
         "mode": "markers",
         "name": "Indices: 1849-1974",
         "text": [
          "Termination: ('C_P6/mmm_2', 'Ni_R-3m_1')<br>Termination index: 0<br>Interfaces Index Range: 1849-1974<br>Strain: 0.07%<br>Atoms: 115"
         ],
         "x": [
          0.06600000000000002
         ],
         "y": [
          115
         ],
         "type": "scatter"
        },
        {
         "hoverinfo": "text",
         "mode": "markers",
         "name": "Indices: 1975-2244",
         "text": [
          "Termination: ('C_P6/mmm_2', 'Ni_R-3m_1')<br>Termination index: 0<br>Interfaces Index Range: 1975-2244<br>Strain: 0.07%<br>Atoms: 120"
         ],
         "x": [
          0.06600000000000002
         ],
         "y": [
          120
         ],
         "type": "scatter"
        },
        {
         "hoverinfo": "text",
         "mode": "markers",
         "name": "Indices: 2245-2407",
         "text": [
          "Termination: ('C_P6/mmm_2', 'Ni_R-3m_1')<br>Termination index: 0<br>Interfaces Index Range: 2245-2407<br>Strain: 0.07%<br>Atoms: 125"
         ],
         "x": [
          0.06600000000000002
         ],
         "y": [
          125
         ],
         "type": "scatter"
        },
        {
         "hoverinfo": "text",
         "mode": "markers",
         "name": "Indices: 2408-2641",
         "text": [
          "Termination: ('C_P6/mmm_2', 'Ni_R-3m_1')<br>Termination index: 0<br>Interfaces Index Range: 2408-2641<br>Strain: 0.07%<br>Atoms: 130"
         ],
         "x": [
          0.06600000000000002
         ],
         "y": [
          130
         ],
         "type": "scatter"
        },
        {
         "hoverinfo": "text",
         "mode": "markers",
         "name": "Indices: 2642-2849",
         "text": [
          "Termination: ('C_P6/mmm_2', 'Ni_R-3m_1')<br>Termination index: 0<br>Interfaces Index Range: 2642-2849<br>Strain: 0.07%<br>Atoms: 135"
         ],
         "x": [
          0.06600000000000002
         ],
         "y": [
          135
         ],
         "type": "scatter"
        },
        {
         "hoverinfo": "text",
         "mode": "markers",
         "name": "Indices: 2850-3123",
         "text": [
          "Termination: ('C_P6/mmm_2', 'Ni_R-3m_1')<br>Termination index: 0<br>Interfaces Index Range: 2850-3123<br>Strain: 0.07%<br>Atoms: 140"
         ],
         "x": [
          0.06600000000000002
         ],
         "y": [
          140
         ],
         "type": "scatter"
        },
        {
         "hoverinfo": "text",
         "mode": "markers",
         "name": "Indices: 3124-3285",
         "text": [
          "Termination: ('C_P6/mmm_2', 'Ni_R-3m_1')<br>Termination index: 0<br>Interfaces Index Range: 3124-3285<br>Strain: 0.07%<br>Atoms: 145"
         ],
         "x": [
          0.06600000000000002
         ],
         "y": [
          145
         ],
         "type": "scatter"
        },
        {
         "hoverinfo": "text",
         "mode": "markers",
         "name": "Indices: 3286-3681",
         "text": [
          "Termination: ('C_P6/mmm_2', 'Ni_R-3m_1')<br>Termination index: 0<br>Interfaces Index Range: 3286-3681<br>Strain: 0.07%<br>Atoms: 150"
         ],
         "x": [
          0.06600000000000002
         ],
         "y": [
          150
         ],
         "type": "scatter"
        },
        {
         "hoverinfo": "text",
         "mode": "markers",
         "name": "Indices: 3682-3847",
         "text": [
          "Termination: ('C_P6/mmm_2', 'Ni_R-3m_1')<br>Termination index: 0<br>Interfaces Index Range: 3682-3847<br>Strain: 0.07%<br>Atoms: 155"
         ],
         "x": [
          0.06600000000000002
         ],
         "y": [
          155
         ],
         "type": "scatter"
        },
        {
         "hoverinfo": "text",
         "mode": "markers",
         "name": "Indices: 3848-4144",
         "text": [
          "Termination: ('C_P6/mmm_2', 'Ni_R-3m_1')<br>Termination index: 0<br>Interfaces Index Range: 3848-4144<br>Strain: 0.07%<br>Atoms: 160"
         ],
         "x": [
          0.06600000000000002
         ],
         "y": [
          160
         ],
         "type": "scatter"
        },
        {
         "hoverinfo": "text",
         "mode": "markers",
         "name": "Indices: 4145-4396",
         "text": [
          "Termination: ('C_P6/mmm_2', 'Ni_R-3m_1')<br>Termination index: 0<br>Interfaces Index Range: 4145-4396<br>Strain: 0.07%<br>Atoms: 165"
         ],
         "x": [
          0.06600000000000002
         ],
         "y": [
          165
         ],
         "type": "scatter"
        },
        {
         "hoverinfo": "text",
         "mode": "markers",
         "name": "Indices: 4397-4702",
         "text": [
          "Termination: ('C_P6/mmm_2', 'Ni_R-3m_1')<br>Termination index: 0<br>Interfaces Index Range: 4397-4702<br>Strain: 0.07%<br>Atoms: 170"
         ],
         "x": [
          0.06600000000000002
         ],
         "y": [
          170
         ],
         "type": "scatter"
        },
        {
         "hoverinfo": "text",
         "mode": "markers",
         "name": "Indices: 4703-4954",
         "text": [
          "Termination: ('C_P6/mmm_2', 'Ni_R-3m_1')<br>Termination index: 0<br>Interfaces Index Range: 4703-4954<br>Strain: 0.07%<br>Atoms: 175"
         ],
         "x": [
          0.06600000000000002
         ],
         "y": [
          175
         ],
         "type": "scatter"
        },
        {
         "hoverinfo": "text",
         "mode": "markers",
         "name": "Indices: 4955-5423",
         "text": [
          "Termination: ('C_P6/mmm_2', 'Ni_R-3m_1')<br>Termination index: 0<br>Interfaces Index Range: 4955-5423<br>Strain: 0.07%<br>Atoms: 180"
         ],
         "x": [
          0.06600000000000002
         ],
         "y": [
          180
         ],
         "type": "scatter"
        },
        {
         "hoverinfo": "text",
         "mode": "markers",
         "name": "Indices: 5424-5625",
         "text": [
          "Termination: ('C_P6/mmm_2', 'Ni_R-3m_1')<br>Termination index: 0<br>Interfaces Index Range: 5424-5625<br>Strain: 0.07%<br>Atoms: 185"
         ],
         "x": [
          0.06600000000000002
         ],
         "y": [
          185
         ],
         "type": "scatter"
        },
        {
         "hoverinfo": "text",
         "mode": "markers",
         "name": "Indices: 5626-5967",
         "text": [
          "Termination: ('C_P6/mmm_2', 'Ni_R-3m_1')<br>Termination index: 0<br>Interfaces Index Range: 5626-5967<br>Strain: 0.07%<br>Atoms: 190"
         ],
         "x": [
          0.06600000000000002
         ],
         "y": [
          190
         ],
         "type": "scatter"
        },
        {
         "hoverinfo": "text",
         "mode": "markers",
         "name": "Indices: 5968-6259",
         "text": [
          "Termination: ('C_P6/mmm_2', 'Ni_R-3m_1')<br>Termination index: 0<br>Interfaces Index Range: 5968-6259<br>Strain: 0.07%<br>Atoms: 195"
         ],
         "x": [
          0.06600000000000002
         ],
         "y": [
          195
         ],
         "type": "scatter"
        },
        {
         "hoverinfo": "text",
         "mode": "markers",
         "name": "Indices: 6260-6709",
         "text": [
          "Termination: ('C_P6/mmm_2', 'Ni_R-3m_1')<br>Termination index: 0<br>Interfaces Index Range: 6260-6709<br>Strain: 0.07%<br>Atoms: 200"
         ],
         "x": [
          0.06600000000000002
         ],
         "y": [
          200
         ],
         "type": "scatter"
        },
        {
         "hoverinfo": "text",
         "mode": "markers",
         "name": "Indices: 6710-6943",
         "text": [
          "Termination: ('C_P6/mmm_2', 'Ni_R-3m_1')<br>Termination index: 0<br>Interfaces Index Range: 6710-6943<br>Strain: 0.07%<br>Atoms: 205"
         ],
         "x": [
          0.06600000000000002
         ],
         "y": [
          205
         ],
         "type": "scatter"
        },
        {
         "hoverinfo": "text",
         "mode": "markers",
         "name": "Indices: 6944-7555",
         "text": [
          "Termination: ('C_P6/mmm_2', 'Ni_R-3m_1')<br>Termination index: 0<br>Interfaces Index Range: 6944-7555<br>Strain: 0.07%<br>Atoms: 210"
         ],
         "x": [
          0.06600000000000002
         ],
         "y": [
          210
         ],
         "type": "scatter"
        },
        {
         "hoverinfo": "text",
         "mode": "markers",
         "name": "Indices: 7556-7793",
         "text": [
          "Termination: ('C_P6/mmm_2', 'Ni_R-3m_1')<br>Termination index: 0<br>Interfaces Index Range: 7556-7793<br>Strain: 0.07%<br>Atoms: 215"
         ],
         "x": [
          0.06600000000000002
         ],
         "y": [
          215
         ],
         "type": "scatter"
        },
        {
         "hoverinfo": "text",
         "mode": "markers",
         "name": "Indices: 7794-8243",
         "text": [
          "Termination: ('C_P6/mmm_2', 'Ni_R-3m_1')<br>Termination index: 0<br>Interfaces Index Range: 7794-8243<br>Strain: 0.07%<br>Atoms: 220"
         ],
         "x": [
          0.06600000000000002
         ],
         "y": [
          220
         ],
         "type": "scatter"
        },
        {
         "hoverinfo": "text",
         "mode": "markers",
         "name": "Indices: 8244-8657",
         "text": [
          "Termination: ('C_P6/mmm_2', 'Ni_R-3m_1')<br>Termination index: 0<br>Interfaces Index Range: 8244-8657<br>Strain: 0.07%<br>Atoms: 225"
         ],
         "x": [
          0.06600000000000002
         ],
         "y": [
          225
         ],
         "type": "scatter"
        },
        {
         "hoverinfo": "text",
         "mode": "markers",
         "name": "Indices: 8658-9071",
         "text": [
          "Termination: ('C_P6/mmm_2', 'Ni_R-3m_1')<br>Termination index: 0<br>Interfaces Index Range: 8658-9071<br>Strain: 0.07%<br>Atoms: 230"
         ],
         "x": [
          0.06600000000000002
         ],
         "y": [
          230
         ],
         "type": "scatter"
        },
        {
         "hoverinfo": "text",
         "mode": "markers",
         "name": "Indices: 9072-9341",
         "text": [
          "Termination: ('C_P6/mmm_2', 'Ni_R-3m_1')<br>Termination index: 0<br>Interfaces Index Range: 9072-9341<br>Strain: 0.07%<br>Atoms: 235"
         ],
         "x": [
          0.06600000000000002
         ],
         "y": [
          235
         ],
         "type": "scatter"
        },
        {
         "hoverinfo": "text",
         "mode": "markers",
         "name": "Indices: 9342-9963",
         "text": [
          "Termination: ('C_P6/mmm_2', 'Ni_R-3m_1')<br>Termination index: 0<br>Interfaces Index Range: 9342-9963<br>Strain: 0.07%<br>Atoms: 240"
         ],
         "x": [
          0.06600000000000002
         ],
         "y": [
          240
         ],
         "type": "scatter"
        },
        {
         "hoverinfo": "text",
         "mode": "markers",
         "name": "Indices: 9964-10278",
         "text": [
          "Termination: ('C_P6/mmm_2', 'Ni_R-3m_1')<br>Termination index: 0<br>Interfaces Index Range: 9964-10278<br>Strain: 0.07%<br>Atoms: 245"
         ],
         "x": [
          0.06600000000000002
         ],
         "y": [
          245
         ],
         "type": "scatter"
        },
        {
         "hoverinfo": "text",
         "mode": "markers",
         "name": "Indices: 10279-10809",
         "text": [
          "Termination: ('C_P6/mmm_2', 'Ni_R-3m_1')<br>Termination index: 0<br>Interfaces Index Range: 10279-10809<br>Strain: 0.07%<br>Atoms: 250"
         ],
         "x": [
          0.06600000000000002
         ],
         "y": [
          250
         ],
         "type": "scatter"
        },
        {
         "hoverinfo": "text",
         "mode": "markers",
         "name": "Indices: 10810-11205",
         "text": [
          "Termination: ('C_P6/mmm_2', 'Ni_R-3m_1')<br>Termination index: 0<br>Interfaces Index Range: 10810-11205<br>Strain: 0.07%<br>Atoms: 255"
         ],
         "x": [
          0.06600000000000002
         ],
         "y": [
          255
         ],
         "type": "scatter"
        },
        {
         "hoverinfo": "text",
         "mode": "markers",
         "name": "Indices: 11206-11731",
         "text": [
          "Termination: ('C_P6/mmm_2', 'Ni_R-3m_1')<br>Termination index: 0<br>Interfaces Index Range: 11206-11731<br>Strain: 0.07%<br>Atoms: 260"
         ],
         "x": [
          0.06600000000000002
         ],
         "y": [
          260
         ],
         "type": "scatter"
        },
        {
         "hoverinfo": "text",
         "mode": "markers",
         "name": "Indices: 11732-12037",
         "text": [
          "Termination: ('C_P6/mmm_2', 'Ni_R-3m_1')<br>Termination index: 0<br>Interfaces Index Range: 11732-12037<br>Strain: 0.07%<br>Atoms: 265"
         ],
         "x": [
          0.06600000000000002
         ],
         "y": [
          265
         ],
         "type": "scatter"
        },
        {
         "hoverinfo": "text",
         "mode": "markers",
         "name": "Indices: 12038-12721",
         "text": [
          "Termination: ('C_P6/mmm_2', 'Ni_R-3m_1')<br>Termination index: 0<br>Interfaces Index Range: 12038-12721<br>Strain: 0.07%<br>Atoms: 270"
         ],
         "x": [
          0.06600000000000002
         ],
         "y": [
          270
         ],
         "type": "scatter"
        },
        {
         "hoverinfo": "text",
         "mode": "markers",
         "name": "Indices: 12722-13117",
         "text": [
          "Termination: ('C_P6/mmm_2', 'Ni_R-3m_1')<br>Termination index: 0<br>Interfaces Index Range: 12722-13117<br>Strain: 0.07%<br>Atoms: 275"
         ],
         "x": [
          0.06600000000000002
         ],
         "y": [
          275
         ],
         "type": "scatter"
        },
        {
         "hoverinfo": "text",
         "mode": "markers",
         "name": "Indices: 13118-13747",
         "text": [
          "Termination: ('C_P6/mmm_2', 'Ni_R-3m_1')<br>Termination index: 0<br>Interfaces Index Range: 13118-13747<br>Strain: 0.07%<br>Atoms: 280"
         ],
         "x": [
          0.06600000000000002
         ],
         "y": [
          280
         ],
         "type": "scatter"
        },
        {
         "hoverinfo": "text",
         "mode": "markers",
         "name": "Indices: 13748-14183",
         "text": [
          "Termination: ('C_P6/mmm_2', 'Ni_R-3m_1')<br>Termination index: 0<br>Interfaces Index Range: 13748-14183<br>Strain: 0.07%<br>Atoms: 285"
         ],
         "x": [
          0.06600000000000002
         ],
         "y": [
          285
         ],
         "type": "scatter"
        },
        {
         "hoverinfo": "text",
         "mode": "markers",
         "name": "Indices: 14184-14705",
         "text": [
          "Termination: ('C_P6/mmm_2', 'Ni_R-3m_1')<br>Termination index: 0<br>Interfaces Index Range: 14184-14705<br>Strain: 0.07%<br>Atoms: 290"
         ],
         "x": [
          0.06600000000000002
         ],
         "y": [
          290
         ],
         "type": "scatter"
        },
        {
         "hoverinfo": "text",
         "mode": "markers",
         "name": "Indices: 14706-15047",
         "text": [
          "Termination: ('C_P6/mmm_2', 'Ni_R-3m_1')<br>Termination index: 0<br>Interfaces Index Range: 14706-15047<br>Strain: 0.07%<br>Atoms: 295"
         ],
         "x": [
          0.06600000000000002
         ],
         "y": [
          295
         ],
         "type": "scatter"
        },
        {
         "hoverinfo": "text",
         "mode": "markers",
         "name": "Indices: 15048-15947",
         "text": [
          "Termination: ('C_P6/mmm_2', 'Ni_R-3m_1')<br>Termination index: 0<br>Interfaces Index Range: 15048-15947<br>Strain: 0.07%<br>Atoms: 300"
         ],
         "x": [
          0.06600000000000002
         ],
         "y": [
          300
         ],
         "type": "scatter"
        },
        {
         "hoverinfo": "text",
         "mode": "markers",
         "name": "Indices: 15948-16293",
         "text": [
          "Termination: ('C_P6/mmm_2', 'Ni_R-3m_1')<br>Termination index: 0<br>Interfaces Index Range: 15948-16293<br>Strain: 0.07%<br>Atoms: 305"
         ],
         "x": [
          0.06600000000000002
         ],
         "y": [
          305
         ],
         "type": "scatter"
        },
        {
         "hoverinfo": "text",
         "mode": "markers",
         "name": "Indices: 16294-16851",
         "text": [
          "Termination: ('C_P6/mmm_2', 'Ni_R-3m_1')<br>Termination index: 0<br>Interfaces Index Range: 16294-16851<br>Strain: 0.07%<br>Atoms: 310"
         ],
         "x": [
          0.06600000000000002
         ],
         "y": [
          310
         ],
         "type": "scatter"
        },
        {
         "hoverinfo": "text",
         "mode": "markers",
         "name": "Indices: 16852-17485",
         "text": [
          "Termination: ('C_P6/mmm_2', 'Ni_R-3m_1')<br>Termination index: 0<br>Interfaces Index Range: 16852-17485<br>Strain: 0.07%<br>Atoms: 315"
         ],
         "x": [
          0.06600000000000002
         ],
         "y": [
          315
         ],
         "type": "scatter"
        },
        {
         "hoverinfo": "text",
         "mode": "markers",
         "name": "Indices: 17486-18152",
         "text": [
          "Termination: ('C_P6/mmm_2', 'Ni_R-3m_1')<br>Termination index: 0<br>Interfaces Index Range: 17486-18152<br>Strain: 0.07%<br>Atoms: 320"
         ],
         "x": [
          0.06600000000000002
         ],
         "y": [
          320
         ],
         "type": "scatter"
        },
        {
         "hoverinfo": "text",
         "mode": "markers",
         "name": "Indices: 18153-18620",
         "text": [
          "Termination: ('C_P6/mmm_2', 'Ni_R-3m_1')<br>Termination index: 0<br>Interfaces Index Range: 18153-18620<br>Strain: 0.07%<br>Atoms: 325"
         ],
         "x": [
          0.06600000000000002
         ],
         "y": [
          325
         ],
         "type": "scatter"
        },
        {
         "hoverinfo": "text",
         "mode": "markers",
         "name": "Indices: 18621-19448",
         "text": [
          "Termination: ('C_P6/mmm_2', 'Ni_R-3m_1')<br>Termination index: 0<br>Interfaces Index Range: 18621-19448<br>Strain: 0.07%<br>Atoms: 330"
         ],
         "x": [
          0.06600000000000002
         ],
         "y": [
          330
         ],
         "type": "scatter"
        },
        {
         "hoverinfo": "text",
         "mode": "markers",
         "name": "Indices: 19449-19830",
         "text": [
          "Termination: ('C_P6/mmm_2', 'Ni_R-3m_1')<br>Termination index: 0<br>Interfaces Index Range: 19449-19830<br>Strain: 0.07%<br>Atoms: 335"
         ],
         "x": [
          0.06600000000000002
         ],
         "y": [
          335
         ],
         "type": "scatter"
        },
        {
         "hoverinfo": "text",
         "mode": "markers",
         "name": "Indices: 19831-20532",
         "text": [
          "Termination: ('C_P6/mmm_2', 'Ni_R-3m_1')<br>Termination index: 0<br>Interfaces Index Range: 19831-20532<br>Strain: 0.07%<br>Atoms: 340"
         ],
         "x": [
          0.06600000000000002
         ],
         "y": [
          340
         ],
         "type": "scatter"
        },
        {
         "hoverinfo": "text",
         "mode": "markers",
         "name": "Indices: 20533-21072",
         "text": [
          "Termination: ('C_P6/mmm_2', 'Ni_R-3m_1')<br>Termination index: 0<br>Interfaces Index Range: 20533-21072<br>Strain: 0.07%<br>Atoms: 345"
         ],
         "x": [
          0.06600000000000002
         ],
         "y": [
          345
         ],
         "type": "scatter"
        },
        {
         "hoverinfo": "text",
         "mode": "markers",
         "name": "Indices: 21073-22044",
         "text": [
          "Termination: ('C_P6/mmm_2', 'Ni_R-3m_1')<br>Termination index: 0<br>Interfaces Index Range: 21073-22044<br>Strain: 0.07%<br>Atoms: 350"
         ],
         "x": [
          0.06600000000000002
         ],
         "y": [
          350
         ],
         "type": "scatter"
        },
        {
         "hoverinfo": "text",
         "mode": "markers",
         "name": "Indices: 22045-22458",
         "text": [
          "Termination: ('C_P6/mmm_2', 'Ni_R-3m_1')<br>Termination index: 0<br>Interfaces Index Range: 22045-22458<br>Strain: 0.07%<br>Atoms: 355"
         ],
         "x": [
          0.06600000000000002
         ],
         "y": [
          355
         ],
         "type": "scatter"
        },
        {
         "hoverinfo": "text",
         "mode": "markers",
         "name": "Indices: 22459-23493",
         "text": [
          "Termination: ('C_P6/mmm_2', 'Ni_R-3m_1')<br>Termination index: 0<br>Interfaces Index Range: 22459-23493<br>Strain: 0.07%<br>Atoms: 360"
         ],
         "x": [
          0.06600000000000002
         ],
         "y": [
          360
         ],
         "type": "scatter"
        },
        {
         "hoverinfo": "text",
         "mode": "markers",
         "name": "Indices: 23494-23911",
         "text": [
          "Termination: ('C_P6/mmm_2', 'Ni_R-3m_1')<br>Termination index: 0<br>Interfaces Index Range: 23494-23911<br>Strain: 0.07%<br>Atoms: 365"
         ],
         "x": [
          0.06600000000000002
         ],
         "y": [
          365
         ],
         "type": "scatter"
        },
        {
         "hoverinfo": "text",
         "mode": "markers",
         "name": "Indices: 23912-24577",
         "text": [
          "Termination: ('C_P6/mmm_2', 'Ni_R-3m_1')<br>Termination index: 0<br>Interfaces Index Range: 23912-24577<br>Strain: 0.07%<br>Atoms: 370"
         ],
         "x": [
          0.06600000000000002
         ],
         "y": [
          370
         ],
         "type": "scatter"
        },
        {
         "hoverinfo": "text",
         "mode": "markers",
         "name": "Indices: 24578-25271",
         "text": [
          "Termination: ('C_P6/mmm_2', 'Ni_R-3m_1')<br>Termination index: 0<br>Interfaces Index Range: 24578-25271<br>Strain: 0.07%<br>Atoms: 375"
         ],
         "x": [
          0.06600000000000002
         ],
         "y": [
          375
         ],
         "type": "scatter"
        },
        {
         "hoverinfo": "text",
         "mode": "markers",
         "name": "Indices: 25272-25273",
         "text": [
          "Termination: ('C_P6/mmm_2', 'Ni_R-3m_1')<br>Termination index: 0<br>Interfaces Index Range: 25272-25273<br>Strain: 0.08%<br>Atoms: 378"
         ],
         "x": [
          0.082
         ],
         "y": [
          378
         ],
         "type": "scatter"
        },
        {
         "hoverinfo": "text",
         "mode": "markers",
         "name": "Indices: 25274-25275",
         "text": [
          "Termination: ('C_P6/mmm_2', 'Ni_R-3m_1')<br>Termination index: 0<br>Interfaces Index Range: 25274-25275<br>Strain: 0.11%<br>Atoms: 318"
         ],
         "x": [
          0.11
         ],
         "y": [
          318
         ],
         "type": "scatter"
        },
        {
         "hoverinfo": "text",
         "mode": "markers",
         "name": "Indices: 25276-25278",
         "text": [
          "Termination: ('C_P6/mmm_2', 'Ni_R-3m_1')<br>Termination index: 0<br>Interfaces Index Range: 25276-25278<br>Strain: 0.17%<br>Atoms: 243"
         ],
         "x": [
          0.165
         ],
         "y": [
          243
         ],
         "type": "scatter"
        },
        {
         "hoverinfo": "text",
         "mode": "markers",
         "name": "Indices: 25279-25290",
         "text": [
          "Termination: ('C_P6/mmm_2', 'Ni_R-3m_1')<br>Termination index: 0<br>Interfaces Index Range: 25279-25290<br>Strain: 0.18%<br>Atoms: 363"
         ],
         "x": [
          0.184
         ],
         "y": [
          363
         ],
         "type": "scatter"
        },
        {
         "hoverinfo": "text",
         "mode": "markers",
         "name": "Indices: 25291-25302",
         "text": [
          "Termination: ('C_P6/mmm_2', 'Ni_R-3m_1')<br>Termination index: 0<br>Interfaces Index Range: 25291-25302<br>Strain: 0.19%<br>Atoms: 353"
         ],
         "x": [
          0.19100000000000003
         ],
         "y": [
          353
         ],
         "type": "scatter"
        },
        {
         "hoverinfo": "text",
         "mode": "markers",
         "name": "Indices: 25303-25314",
         "text": [
          "Termination: ('C_P6/mmm_2', 'Ni_R-3m_1')<br>Termination index: 0<br>Interfaces Index Range: 25303-25314<br>Strain: 0.19%<br>Atoms: 378"
         ],
         "x": [
          0.193
         ],
         "y": [
          378
         ],
         "type": "scatter"
        },
        {
         "hoverinfo": "text",
         "mode": "markers",
         "name": "Indices: 25315-25326",
         "text": [
          "Termination: ('C_P6/mmm_2', 'Ni_R-3m_1')<br>Termination index: 0<br>Interfaces Index Range: 25315-25326<br>Strain: 0.21%<br>Atoms: 358"
         ],
         "x": [
          0.20600000000000002
         ],
         "y": [
          358
         ],
         "type": "scatter"
        },
        {
         "hoverinfo": "text",
         "mode": "markers",
         "name": "Indices: 25327-25338",
         "text": [
          "Termination: ('C_P6/mmm_2', 'Ni_R-3m_1')<br>Termination index: 0<br>Interfaces Index Range: 25327-25338<br>Strain: 0.21%<br>Atoms: 378"
         ],
         "x": [
          0.20700000000000002
         ],
         "y": [
          378
         ],
         "type": "scatter"
        },
        {
         "hoverinfo": "text",
         "mode": "markers",
         "name": "Indices: 25339-25350",
         "text": [
          "Termination: ('C_P6/mmm_2', 'Ni_R-3m_1')<br>Termination index: 0<br>Interfaces Index Range: 25339-25350<br>Strain: 0.21%<br>Atoms: 343"
         ],
         "x": [
          0.21300000000000005
         ],
         "y": [
          343
         ],
         "type": "scatter"
        },
        {
         "hoverinfo": "text",
         "mode": "markers",
         "name": "Indices: 25351-25362",
         "text": [
          "Termination: ('C_P6/mmm_2', 'Ni_R-3m_1')<br>Termination index: 0<br>Interfaces Index Range: 25351-25362<br>Strain: 0.22%<br>Atoms: 353"
         ],
         "x": [
          0.217
         ],
         "y": [
          353
         ],
         "type": "scatter"
        },
        {
         "hoverinfo": "text",
         "mode": "markers",
         "name": "Indices: 25363-25374",
         "text": [
          "Termination: ('C_P6/mmm_2', 'Ni_R-3m_1')<br>Termination index: 0<br>Interfaces Index Range: 25363-25374<br>Strain: 0.22%<br>Atoms: 358"
         ],
         "x": [
          0.218
         ],
         "y": [
          358
         ],
         "type": "scatter"
        },
        {
         "hoverinfo": "text",
         "mode": "markers",
         "name": "Indices: 25375-25386",
         "text": [
          "Termination: ('C_P6/mmm_2', 'Ni_R-3m_1')<br>Termination index: 0<br>Interfaces Index Range: 25375-25386<br>Strain: 0.22%<br>Atoms: 368"
         ],
         "x": [
          0.219
         ],
         "y": [
          368
         ],
         "type": "scatter"
        },
        {
         "hoverinfo": "text",
         "mode": "markers",
         "name": "Indices: 25387-25398",
         "text": [
          "Termination: ('C_P6/mmm_2', 'Ni_R-3m_1')<br>Termination index: 0<br>Interfaces Index Range: 25387-25398<br>Strain: 0.22%<br>Atoms: 362"
         ],
         "x": [
          0.22100000000000003
         ],
         "y": [
          362
         ],
         "type": "scatter"
        },
        {
         "hoverinfo": "text",
         "mode": "markers",
         "name": "Indices: 25399-25410",
         "text": [
          "Termination: ('C_P6/mmm_2', 'Ni_R-3m_1')<br>Termination index: 0<br>Interfaces Index Range: 25399-25410<br>Strain: 0.23%<br>Atoms: 298"
         ],
         "x": [
          0.22500000000000003
         ],
         "y": [
          298
         ],
         "type": "scatter"
        },
        {
         "hoverinfo": "text",
         "mode": "markers",
         "name": "Indices: 25411-25422",
         "text": [
          "Termination: ('C_P6/mmm_2', 'Ni_R-3m_1')<br>Termination index: 0<br>Interfaces Index Range: 25411-25422<br>Strain: 0.23%<br>Atoms: 348"
         ],
         "x": [
          0.22700000000000004
         ],
         "y": [
          348
         ],
         "type": "scatter"
        },
        {
         "hoverinfo": "text",
         "mode": "markers",
         "name": "Indices: 25423-25434",
         "text": [
          "Termination: ('C_P6/mmm_2', 'Ni_R-3m_1')<br>Termination index: 0<br>Interfaces Index Range: 25423-25434<br>Strain: 0.23%<br>Atoms: 352"
         ],
         "x": [
          0.22700000000000004
         ],
         "y": [
          352
         ],
         "type": "scatter"
        },
        {
         "hoverinfo": "text",
         "mode": "markers",
         "name": "Indices: 25435-25446",
         "text": [
          "Termination: ('C_P6/mmm_2', 'Ni_R-3m_1')<br>Termination index: 0<br>Interfaces Index Range: 25435-25446<br>Strain: 0.23%<br>Atoms: 323"
         ],
         "x": [
          0.22800000000000004
         ],
         "y": [
          323
         ],
         "type": "scatter"
        },
        {
         "hoverinfo": "text",
         "mode": "markers",
         "name": "Indices: 25447-25458",
         "text": [
          "Termination: ('C_P6/mmm_2', 'Ni_R-3m_1')<br>Termination index: 0<br>Interfaces Index Range: 25447-25458<br>Strain: 0.23%<br>Atoms: 303"
         ],
         "x": [
          0.23000000000000004
         ],
         "y": [
          303
         ],
         "type": "scatter"
        },
        {
         "hoverinfo": "text",
         "mode": "markers",
         "name": "Indices: 25459-25461",
         "text": [
          "Termination: ('C_P6/mmm_2', 'Ni_R-3m_1')<br>Termination index: 0<br>Interfaces Index Range: 25459-25461<br>Strain: 0.23%<br>Atoms: 378"
         ],
         "x": [
          0.234
         ],
         "y": [
          378
         ],
         "type": "scatter"
        },
        {
         "hoverinfo": "text",
         "mode": "markers",
         "name": "Indices: 25462-25473",
         "text": [
          "Termination: ('C_P6/mmm_2', 'Ni_R-3m_1')<br>Termination index: 0<br>Interfaces Index Range: 25462-25473<br>Strain: 0.24%<br>Atoms: 288"
         ],
         "x": [
          0.23500000000000001
         ],
         "y": [
          288
         ],
         "type": "scatter"
        },
        {
         "hoverinfo": "text",
         "mode": "markers",
         "name": "Indices: 25474-25485",
         "text": [
          "Termination: ('C_P6/mmm_2', 'Ni_R-3m_1')<br>Termination index: 0<br>Interfaces Index Range: 25474-25485<br>Strain: 0.24%<br>Atoms: 353"
         ],
         "x": [
          0.23600000000000002
         ],
         "y": [
          353
         ],
         "type": "scatter"
        },
        {
         "hoverinfo": "text",
         "mode": "markers",
         "name": "Indices: 25486-25487",
         "text": [
          "Termination: ('C_P6/mmm_2', 'Ni_R-3m_1')<br>Termination index: 0<br>Interfaces Index Range: 25486-25487<br>Strain: 0.24%<br>Atoms: 371"
         ],
         "x": [
          0.23700000000000002
         ],
         "y": [
          371
         ],
         "type": "scatter"
        },
        {
         "hoverinfo": "text",
         "mode": "markers",
         "name": "Indices: 25488-25490",
         "text": [
          "Termination: ('C_P6/mmm_2', 'Ni_R-3m_1')<br>Termination index: 0<br>Interfaces Index Range: 25488-25490<br>Strain: 0.24%<br>Atoms: 373"
         ],
         "x": [
          0.23700000000000002
         ],
         "y": [
          373
         ],
         "type": "scatter"
        },
        {
         "hoverinfo": "text",
         "mode": "markers",
         "name": "Indices: 25491-25502",
         "text": [
          "Termination: ('C_P6/mmm_2', 'Ni_R-3m_1')<br>Termination index: 0<br>Interfaces Index Range: 25491-25502<br>Strain: 0.24%<br>Atoms: 308"
         ],
         "x": [
          0.23800000000000002
         ],
         "y": [
          308
         ],
         "type": "scatter"
        },
        {
         "hoverinfo": "text",
         "mode": "markers",
         "name": "Indices: 25503-25504",
         "text": [
          "Termination: ('C_P6/mmm_2', 'Ni_R-3m_1')<br>Termination index: 0<br>Interfaces Index Range: 25503-25504<br>Strain: 0.24%<br>Atoms: 317"
         ],
         "x": [
          0.23800000000000002
         ],
         "y": [
          317
         ],
         "type": "scatter"
        },
        {
         "hoverinfo": "text",
         "mode": "markers",
         "name": "Indices: 25505-25507",
         "text": [
          "Termination: ('C_P6/mmm_2', 'Ni_R-3m_1')<br>Termination index: 0<br>Interfaces Index Range: 25505-25507<br>Strain: 0.24%<br>Atoms: 368"
         ],
         "x": [
          0.24000000000000002
         ],
         "y": [
          368
         ],
         "type": "scatter"
        },
        {
         "hoverinfo": "text",
         "mode": "markers",
         "name": "Indices: 25508-25519",
         "text": [
          "Termination: ('C_P6/mmm_2', 'Ni_R-3m_1')<br>Termination index: 0<br>Interfaces Index Range: 25508-25519<br>Strain: 0.24%<br>Atoms: 378"
         ],
         "x": [
          0.24000000000000002
         ],
         "y": [
          378
         ],
         "type": "scatter"
        },
        {
         "hoverinfo": "text",
         "mode": "markers",
         "name": "Indices: 25520-25521",
         "text": [
          "Termination: ('C_P6/mmm_2', 'Ni_R-3m_1')<br>Termination index: 0<br>Interfaces Index Range: 25520-25521<br>Strain: 0.24%<br>Atoms: 183"
         ],
         "x": [
          0.24100000000000002
         ],
         "y": [
          183
         ],
         "type": "scatter"
        },
        {
         "hoverinfo": "text",
         "mode": "markers",
         "name": "Indices: 25522-25539",
         "text": [
          "Termination: ('C_P6/mmm_2', 'Ni_R-3m_1')<br>Termination index: 0<br>Interfaces Index Range: 25522-25539<br>Strain: 0.24%<br>Atoms: 366"
         ],
         "x": [
          0.24100000000000002
         ],
         "y": [
          366
         ],
         "type": "scatter"
        },
        {
         "hoverinfo": "text",
         "mode": "markers",
         "name": "Indices: 25540-25563",
         "text": [
          "Termination: ('C_P6/mmm_2', 'Ni_R-3m_1')<br>Termination index: 0<br>Interfaces Index Range: 25540-25563<br>Strain: 0.24%<br>Atoms: 378"
         ],
         "x": [
          0.24200000000000002
         ],
         "y": [
          378
         ],
         "type": "scatter"
        },
        {
         "hoverinfo": "text",
         "mode": "markers",
         "name": "Indices: 25564-25575",
         "text": [
          "Termination: ('C_P6/mmm_2', 'Ni_R-3m_1')<br>Termination index: 0<br>Interfaces Index Range: 25564-25575<br>Strain: 0.24%<br>Atoms: 357"
         ],
         "x": [
          0.24300000000000002
         ],
         "y": [
          357
         ],
         "type": "scatter"
        },
        {
         "hoverinfo": "text",
         "mode": "markers",
         "name": "Indices: 25576-25578",
         "text": [
          "Termination: ('C_P6/mmm_2', 'Ni_R-3m_1')<br>Termination index: 0<br>Interfaces Index Range: 25576-25578<br>Strain: 0.24%<br>Atoms: 363"
         ],
         "x": [
          0.24300000000000002
         ],
         "y": [
          363
         ],
         "type": "scatter"
        },
        {
         "hoverinfo": "text",
         "mode": "markers",
         "name": "Indices: 25579-25590",
         "text": [
          "Termination: ('C_P6/mmm_2', 'Ni_R-3m_1')<br>Termination index: 0<br>Interfaces Index Range: 25579-25590<br>Strain: 0.25%<br>Atoms: 363"
         ],
         "x": [
          0.24600000000000005
         ],
         "y": [
          363
         ],
         "type": "scatter"
        },
        {
         "hoverinfo": "text",
         "mode": "markers",
         "name": "Indices: 25591-25596",
         "text": [
          "Termination: ('C_P6/mmm_2', 'Ni_R-3m_1')<br>Termination index: 0<br>Interfaces Index Range: 25591-25596<br>Strain: 0.25%<br>Atoms: 358"
         ],
         "x": [
          0.24700000000000005
         ],
         "y": [
          358
         ],
         "type": "scatter"
        },
        {
         "hoverinfo": "text",
         "mode": "markers",
         "name": "Indices: 25597-25608",
         "text": [
          "Termination: ('C_P6/mmm_2', 'Ni_R-3m_1')<br>Termination index: 0<br>Interfaces Index Range: 25597-25608<br>Strain: 0.25%<br>Atoms: 363"
         ],
         "x": [
          0.24700000000000005
         ],
         "y": [
          363
         ],
         "type": "scatter"
        },
        {
         "hoverinfo": "text",
         "mode": "markers",
         "name": "Indices: 25609-25620",
         "text": [
          "Termination: ('C_P6/mmm_2', 'Ni_R-3m_1')<br>Termination index: 0<br>Interfaces Index Range: 25609-25620<br>Strain: 0.25%<br>Atoms: 378"
         ],
         "x": [
          0.24700000000000005
         ],
         "y": [
          378
         ],
         "type": "scatter"
        },
        {
         "hoverinfo": "text",
         "mode": "markers",
         "name": "Indices: 25621-25632",
         "text": [
          "Termination: ('C_P6/mmm_2', 'Ni_R-3m_1')<br>Termination index: 0<br>Interfaces Index Range: 25621-25632<br>Strain: 0.25%<br>Atoms: 368"
         ],
         "x": [
          0.249
         ],
         "y": [
          368
         ],
         "type": "scatter"
        },
        {
         "hoverinfo": "text",
         "mode": "markers",
         "name": "Indices: 25633-25644",
         "text": [
          "Termination: ('C_P6/mmm_2', 'Ni_R-3m_1')<br>Termination index: 0<br>Interfaces Index Range: 25633-25644<br>Strain: 0.25%<br>Atoms: 342"
         ],
         "x": [
          0.25
         ],
         "y": [
          342
         ],
         "type": "scatter"
        },
        {
         "hoverinfo": "text",
         "mode": "markers",
         "name": "Indices: 25645-25647",
         "text": [
          "Termination: ('C_P6/mmm_2', 'Ni_R-3m_1')<br>Termination index: 0<br>Interfaces Index Range: 25645-25647<br>Strain: 0.25%<br>Atoms: 353"
         ],
         "x": [
          0.25
         ],
         "y": [
          353
         ],
         "type": "scatter"
        },
        {
         "hoverinfo": "text",
         "mode": "markers",
         "name": "Indices: 25648-25659",
         "text": [
          "Termination: ('C_P6/mmm_2', 'Ni_R-3m_1')<br>Termination index: 0<br>Interfaces Index Range: 25648-25659<br>Strain: 0.25%<br>Atoms: 353"
         ],
         "x": [
          0.253
         ],
         "y": [
          353
         ],
         "type": "scatter"
        },
        {
         "hoverinfo": "text",
         "mode": "markers",
         "name": "Indices: 25660-25662",
         "text": [
          "Termination: ('C_P6/mmm_2', 'Ni_R-3m_1')<br>Termination index: 0<br>Interfaces Index Range: 25660-25662<br>Strain: 0.25%<br>Atoms: 348"
         ],
         "x": [
          0.254
         ],
         "y": [
          348
         ],
         "type": "scatter"
        },
        {
         "hoverinfo": "text",
         "mode": "markers",
         "name": "Indices: 25663-25674",
         "text": [
          "Termination: ('C_P6/mmm_2', 'Ni_R-3m_1')<br>Termination index: 0<br>Interfaces Index Range: 25663-25674<br>Strain: 0.25%<br>Atoms: 358"
         ],
         "x": [
          0.254
         ],
         "y": [
          358
         ],
         "type": "scatter"
        },
        {
         "hoverinfo": "text",
         "mode": "markers",
         "name": "Indices: 25675-25680",
         "text": [
          "Termination: ('C_P6/mmm_2', 'Ni_R-3m_1')<br>Termination index: 0<br>Interfaces Index Range: 25675-25680<br>Strain: 0.25%<br>Atoms: 378"
         ],
         "x": [
          0.254
         ],
         "y": [
          378
         ],
         "type": "scatter"
        },
        {
         "hoverinfo": "text",
         "mode": "markers",
         "name": "Indices: 25681-25692",
         "text": [
          "Termination: ('C_P6/mmm_2', 'Ni_R-3m_1')<br>Termination index: 0<br>Interfaces Index Range: 25681-25692<br>Strain: 0.26%<br>Atoms: 297"
         ],
         "x": [
          0.255
         ],
         "y": [
          297
         ],
         "type": "scatter"
        },
        {
         "hoverinfo": "text",
         "mode": "markers",
         "name": "Indices: 25693-25695",
         "text": [
          "Termination: ('C_P6/mmm_2', 'Ni_R-3m_1')<br>Termination index: 0<br>Interfaces Index Range: 25693-25695<br>Strain: 0.26%<br>Atoms: 348"
         ],
         "x": [
          0.255
         ],
         "y": [
          348
         ],
         "type": "scatter"
        },
        {
         "hoverinfo": "text",
         "mode": "markers",
         "name": "Indices: 25696-25707",
         "text": [
          "Termination: ('C_P6/mmm_2', 'Ni_R-3m_1')<br>Termination index: 0<br>Interfaces Index Range: 25696-25707<br>Strain: 0.26%<br>Atoms: 352"
         ],
         "x": [
          0.256
         ],
         "y": [
          352
         ],
         "type": "scatter"
        },
        {
         "hoverinfo": "text",
         "mode": "markers",
         "name": "Indices: 25708-25719",
         "text": [
          "Termination: ('C_P6/mmm_2', 'Ni_R-3m_1')<br>Termination index: 0<br>Interfaces Index Range: 25708-25719<br>Strain: 0.26%<br>Atoms: 353"
         ],
         "x": [
          0.256
         ],
         "y": [
          353
         ],
         "type": "scatter"
        },
        {
         "hoverinfo": "text",
         "mode": "markers",
         "name": "Indices: 25720-25731",
         "text": [
          "Termination: ('C_P6/mmm_2', 'Ni_R-3m_1')<br>Termination index: 0<br>Interfaces Index Range: 25720-25731<br>Strain: 0.26%<br>Atoms: 358"
         ],
         "x": [
          0.256
         ],
         "y": [
          358
         ],
         "type": "scatter"
        },
        {
         "hoverinfo": "text",
         "mode": "markers",
         "name": "Indices: 25732-25743",
         "text": [
          "Termination: ('C_P6/mmm_2', 'Ni_R-3m_1')<br>Termination index: 0<br>Interfaces Index Range: 25732-25743<br>Strain: 0.26%<br>Atoms: 288"
         ],
         "x": [
          0.257
         ],
         "y": [
          288
         ],
         "type": "scatter"
        },
        {
         "hoverinfo": "text",
         "mode": "markers",
         "name": "Indices: 25744-25746",
         "text": [
          "Termination: ('C_P6/mmm_2', 'Ni_R-3m_1')<br>Termination index: 0<br>Interfaces Index Range: 25744-25746<br>Strain: 0.26%<br>Atoms: 343"
         ],
         "x": [
          0.258
         ],
         "y": [
          343
         ],
         "type": "scatter"
        },
        {
         "hoverinfo": "text",
         "mode": "markers",
         "name": "Indices: 25747-25758",
         "text": [
          "Termination: ('C_P6/mmm_2', 'Ni_R-3m_1')<br>Termination index: 0<br>Interfaces Index Range: 25747-25758<br>Strain: 0.26%<br>Atoms: 353"
         ],
         "x": [
          0.258
         ],
         "y": [
          353
         ],
         "type": "scatter"
        },
        {
         "hoverinfo": "text",
         "mode": "markers",
         "name": "Indices: 25759-25770",
         "text": [
          "Termination: ('C_P6/mmm_2', 'Ni_R-3m_1')<br>Termination index: 0<br>Interfaces Index Range: 25759-25770<br>Strain: 0.26%<br>Atoms: 357"
         ],
         "x": [
          0.258
         ],
         "y": [
          357
         ],
         "type": "scatter"
        },
        {
         "hoverinfo": "text",
         "mode": "markers",
         "name": "Indices: 25771-25782",
         "text": [
          "Termination: ('C_P6/mmm_2', 'Ni_R-3m_1')<br>Termination index: 0<br>Interfaces Index Range: 25771-25782<br>Strain: 0.26%<br>Atoms: 368"
         ],
         "x": [
          0.258
         ],
         "y": [
          368
         ],
         "type": "scatter"
        },
        {
         "hoverinfo": "text",
         "mode": "markers",
         "name": "Indices: 25783-25794",
         "text": [
          "Termination: ('C_P6/mmm_2', 'Ni_R-3m_1')<br>Termination index: 0<br>Interfaces Index Range: 25783-25794<br>Strain: 0.26%<br>Atoms: 328"
         ],
         "x": [
          0.259
         ],
         "y": [
          328
         ],
         "type": "scatter"
        },
        {
         "hoverinfo": "text",
         "mode": "markers",
         "name": "Indices: 25795-25806",
         "text": [
          "Termination: ('C_P6/mmm_2', 'Ni_R-3m_1')<br>Termination index: 0<br>Interfaces Index Range: 25795-25806<br>Strain: 0.26%<br>Atoms: 353"
         ],
         "x": [
          0.259
         ],
         "y": [
          353
         ],
         "type": "scatter"
        },
        {
         "hoverinfo": "text",
         "mode": "markers",
         "name": "Indices: 25807-25812",
         "text": [
          "Termination: ('C_P6/mmm_2', 'Ni_R-3m_1')<br>Termination index: 0<br>Interfaces Index Range: 25807-25812<br>Strain: 0.26%<br>Atoms: 373"
         ],
         "x": [
          0.259
         ],
         "y": [
          373
         ],
         "type": "scatter"
        },
        {
         "hoverinfo": "text",
         "mode": "markers",
         "name": "Indices: 25813-25824",
         "text": [
          "Termination: ('C_P6/mmm_2', 'Ni_R-3m_1')<br>Termination index: 0<br>Interfaces Index Range: 25813-25824<br>Strain: 0.26%<br>Atoms: 302"
         ],
         "x": [
          0.26
         ],
         "y": [
          302
         ],
         "type": "scatter"
        },
        {
         "hoverinfo": "text",
         "mode": "markers",
         "name": "Indices: 25825-25836",
         "text": [
          "Termination: ('C_P6/mmm_2', 'Ni_R-3m_1')<br>Termination index: 0<br>Interfaces Index Range: 25825-25836<br>Strain: 0.26%<br>Atoms: 358"
         ],
         "x": [
          0.26
         ],
         "y": [
          358
         ],
         "type": "scatter"
        },
        {
         "hoverinfo": "text",
         "mode": "markers",
         "name": "Indices: 25837-25848",
         "text": [
          "Termination: ('C_P6/mmm_2', 'Ni_R-3m_1')<br>Termination index: 0<br>Interfaces Index Range: 25837-25848<br>Strain: 0.26%<br>Atoms: 322"
         ],
         "x": [
          0.262
         ],
         "y": [
          322
         ],
         "type": "scatter"
        },
        {
         "hoverinfo": "text",
         "mode": "markers",
         "name": "Indices: 25849-25854",
         "text": [
          "Termination: ('C_P6/mmm_2', 'Ni_R-3m_1')<br>Termination index: 0<br>Interfaces Index Range: 25849-25854<br>Strain: 0.26%<br>Atoms: 338"
         ],
         "x": [
          0.262
         ],
         "y": [
          338
         ],
         "type": "scatter"
        },
        {
         "hoverinfo": "text",
         "mode": "markers",
         "name": "Indices: 25855-25866",
         "text": [
          "Termination: ('C_P6/mmm_2', 'Ni_R-3m_1')<br>Termination index: 0<br>Interfaces Index Range: 25855-25866<br>Strain: 0.26%<br>Atoms: 346"
         ],
         "x": [
          0.262
         ],
         "y": [
          346
         ],
         "type": "scatter"
        },
        {
         "hoverinfo": "text",
         "mode": "markers",
         "name": "Indices: 25867-25878",
         "text": [
          "Termination: ('C_P6/mmm_2', 'Ni_R-3m_1')<br>Termination index: 0<br>Interfaces Index Range: 25867-25878<br>Strain: 0.26%<br>Atoms: 367"
         ],
         "x": [
          0.262
         ],
         "y": [
          367
         ],
         "type": "scatter"
        },
        {
         "hoverinfo": "text",
         "mode": "markers",
         "name": "Indices: 25879-25890",
         "text": [
          "Termination: ('C_P6/mmm_2', 'Ni_R-3m_1')<br>Termination index: 0<br>Interfaces Index Range: 25879-25890<br>Strain: 0.26%<br>Atoms: 287"
         ],
         "x": [
          0.263
         ],
         "y": [
          287
         ],
         "type": "scatter"
        },
        {
         "hoverinfo": "text",
         "mode": "markers",
         "name": "Indices: 25891-25902",
         "text": [
          "Termination: ('C_P6/mmm_2', 'Ni_R-3m_1')<br>Termination index: 0<br>Interfaces Index Range: 25891-25902<br>Strain: 0.26%<br>Atoms: 348"
         ],
         "x": [
          0.263
         ],
         "y": [
          348
         ],
         "type": "scatter"
        },
        {
         "hoverinfo": "text",
         "mode": "markers",
         "name": "Indices: 25903-25908",
         "text": [
          "Termination: ('C_P6/mmm_2', 'Ni_R-3m_1')<br>Termination index: 0<br>Interfaces Index Range: 25903-25908<br>Strain: 0.26%<br>Atoms: 368"
         ],
         "x": [
          0.263
         ],
         "y": [
          368
         ],
         "type": "scatter"
        },
        {
         "hoverinfo": "text",
         "mode": "markers",
         "name": "Indices: 25909-25920",
         "text": [
          "Termination: ('C_P6/mmm_2', 'Ni_R-3m_1')<br>Termination index: 0<br>Interfaces Index Range: 25909-25920<br>Strain: 0.27%<br>Atoms: 343"
         ],
         "x": [
          0.265
         ],
         "y": [
          343
         ],
         "type": "scatter"
        },
        {
         "hoverinfo": "text",
         "mode": "markers",
         "name": "Indices: 25921-25932",
         "text": [
          "Termination: ('C_P6/mmm_2', 'Ni_R-3m_1')<br>Termination index: 0<br>Interfaces Index Range: 25921-25932<br>Strain: 0.27%<br>Atoms: 358"
         ],
         "x": [
          0.265
         ],
         "y": [
          358
         ],
         "type": "scatter"
        },
        {
         "hoverinfo": "text",
         "mode": "markers",
         "name": "Indices: 25933-25935",
         "text": [
          "Termination: ('C_P6/mmm_2', 'Ni_R-3m_1')<br>Termination index: 0<br>Interfaces Index Range: 25933-25935<br>Strain: 0.27%<br>Atoms: 333"
         ],
         "x": [
          0.266
         ],
         "y": [
          333
         ],
         "type": "scatter"
        },
        {
         "hoverinfo": "text",
         "mode": "markers",
         "name": "Indices: 25936-25947",
         "text": [
          "Termination: ('C_P6/mmm_2', 'Ni_R-3m_1')<br>Termination index: 0<br>Interfaces Index Range: 25936-25947<br>Strain: 0.27%<br>Atoms: 298"
         ],
         "x": [
          0.267
         ],
         "y": [
          298
         ],
         "type": "scatter"
        },
        {
         "hoverinfo": "text",
         "mode": "markers",
         "name": "Indices: 25948-25959",
         "text": [
          "Termination: ('C_P6/mmm_2', 'Ni_R-3m_1')<br>Termination index: 0<br>Interfaces Index Range: 25948-25959<br>Strain: 0.27%<br>Atoms: 347"
         ],
         "x": [
          0.267
         ],
         "y": [
          347
         ],
         "type": "scatter"
        },
        {
         "hoverinfo": "text",
         "mode": "markers",
         "name": "Indices: 25960-25971",
         "text": [
          "Termination: ('C_P6/mmm_2', 'Ni_R-3m_1')<br>Termination index: 0<br>Interfaces Index Range: 25960-25971<br>Strain: 0.27%<br>Atoms: 353"
         ],
         "x": [
          0.268
         ],
         "y": [
          353
         ],
         "type": "scatter"
        },
        {
         "hoverinfo": "text",
         "mode": "markers",
         "name": "Indices: 25972-25977",
         "text": [
          "Termination: ('C_P6/mmm_2', 'Ni_R-3m_1')<br>Termination index: 0<br>Interfaces Index Range: 25972-25977<br>Strain: 0.27%<br>Atoms: 363"
         ],
         "x": [
          0.268
         ],
         "y": [
          363
         ],
         "type": "scatter"
        },
        {
         "hoverinfo": "text",
         "mode": "markers",
         "name": "Indices: 25978-25989",
         "text": [
          "Termination: ('C_P6/mmm_2', 'Ni_R-3m_1')<br>Termination index: 0<br>Interfaces Index Range: 25978-25989<br>Strain: 0.27%<br>Atoms: 273"
         ],
         "x": [
          0.269
         ],
         "y": [
          273
         ],
         "type": "scatter"
        },
        {
         "hoverinfo": "text",
         "mode": "markers",
         "name": "Indices: 25990-26001",
         "text": [
          "Termination: ('C_P6/mmm_2', 'Ni_R-3m_1')<br>Termination index: 0<br>Interfaces Index Range: 25990-26001<br>Strain: 0.27%<br>Atoms: 307"
         ],
         "x": [
          0.27
         ],
         "y": [
          307
         ],
         "type": "scatter"
        },
        {
         "hoverinfo": "text",
         "mode": "markers",
         "name": "Indices: 26002-26007",
         "text": [
          "Termination: ('C_P6/mmm_2', 'Ni_R-3m_1')<br>Termination index: 0<br>Interfaces Index Range: 26002-26007<br>Strain: 0.27%<br>Atoms: 328"
         ],
         "x": [
          0.27
         ],
         "y": [
          328
         ],
         "type": "scatter"
        },
        {
         "hoverinfo": "text",
         "mode": "markers",
         "name": "Indices: 26008-26019",
         "text": [
          "Termination: ('C_P6/mmm_2', 'Ni_R-3m_1')<br>Termination index: 0<br>Interfaces Index Range: 26008-26019<br>Strain: 0.27%<br>Atoms: 298"
         ],
         "x": [
          0.272
         ],
         "y": [
          298
         ],
         "type": "scatter"
        },
        {
         "hoverinfo": "text",
         "mode": "markers",
         "name": "Indices: 26020-26022",
         "text": [
          "Termination: ('C_P6/mmm_2', 'Ni_R-3m_1')<br>Termination index: 0<br>Interfaces Index Range: 26020-26022<br>Strain: 0.27%<br>Atoms: 358"
         ],
         "x": [
          0.272
         ],
         "y": [
          358
         ],
         "type": "scatter"
        },
        {
         "hoverinfo": "text",
         "mode": "markers",
         "name": "Indices: 26023-26025",
         "text": [
          "Termination: ('C_P6/mmm_2', 'Ni_R-3m_1')<br>Termination index: 0<br>Interfaces Index Range: 26023-26025<br>Strain: 0.27%<br>Atoms: 323"
         ],
         "x": [
          0.274
         ],
         "y": [
          323
         ],
         "type": "scatter"
        },
        {
         "hoverinfo": "text",
         "mode": "markers",
         "name": "Indices: 26026-26037",
         "text": [
          "Termination: ('C_P6/mmm_2', 'Ni_R-3m_1')<br>Termination index: 0<br>Interfaces Index Range: 26026-26037<br>Strain: 0.27%<br>Atoms: 343"
         ],
         "x": [
          0.274
         ],
         "y": [
          343
         ],
         "type": "scatter"
        },
        {
         "hoverinfo": "text",
         "mode": "markers",
         "name": "Indices: 26038-26049",
         "text": [
          "Termination: ('C_P6/mmm_2', 'Ni_R-3m_1')<br>Termination index: 0<br>Interfaces Index Range: 26038-26049<br>Strain: 0.28%<br>Atoms: 353"
         ],
         "x": [
          0.275
         ],
         "y": [
          353
         ],
         "type": "scatter"
        },
        {
         "hoverinfo": "text",
         "mode": "markers",
         "name": "Indices: 26050-26061",
         "text": [
          "Termination: ('C_P6/mmm_2', 'Ni_R-3m_1')<br>Termination index: 0<br>Interfaces Index Range: 26050-26061<br>Strain: 0.28%<br>Atoms: 348"
         ],
         "x": [
          0.276
         ],
         "y": [
          348
         ],
         "type": "scatter"
        },
        {
         "hoverinfo": "text",
         "mode": "markers",
         "name": "Indices: 26062-26067",
         "text": [
          "Termination: ('C_P6/mmm_2', 'Ni_R-3m_1')<br>Termination index: 0<br>Interfaces Index Range: 26062-26067<br>Strain: 0.28%<br>Atoms: 353"
         ],
         "x": [
          0.277
         ],
         "y": [
          353
         ],
         "type": "scatter"
        },
        {
         "hoverinfo": "text",
         "mode": "markers",
         "name": "Indices: 26068-26070",
         "text": [
          "Termination: ('C_P6/mmm_2', 'Ni_R-3m_1')<br>Termination index: 0<br>Interfaces Index Range: 26068-26070<br>Strain: 0.28%<br>Atoms: 318"
         ],
         "x": [
          0.278
         ],
         "y": [
          318
         ],
         "type": "scatter"
        },
        {
         "hoverinfo": "text",
         "mode": "markers",
         "name": "Indices: 26071-26073",
         "text": [
          "Termination: ('C_P6/mmm_2', 'Ni_R-3m_1')<br>Termination index: 0<br>Interfaces Index Range: 26071-26073<br>Strain: 0.28%<br>Atoms: 318"
         ],
         "x": [
          0.279
         ],
         "y": [
          318
         ],
         "type": "scatter"
        },
        {
         "hoverinfo": "text",
         "mode": "markers",
         "name": "Indices: 26074-26085",
         "text": [
          "Termination: ('C_P6/mmm_2', 'Ni_R-3m_1')<br>Termination index: 0<br>Interfaces Index Range: 26074-26085<br>Strain: 0.28%<br>Atoms: 323"
         ],
         "x": [
          0.28200000000000003
         ],
         "y": [
          323
         ],
         "type": "scatter"
        },
        {
         "hoverinfo": "text",
         "mode": "markers",
         "name": "Indices: 26086-26088",
         "text": [
          "Termination: ('C_P6/mmm_2', 'Ni_R-3m_1')<br>Termination index: 0<br>Interfaces Index Range: 26086-26088<br>Strain: 0.28%<br>Atoms: 348"
         ],
         "x": [
          0.28200000000000003
         ],
         "y": [
          348
         ],
         "type": "scatter"
        },
        {
         "hoverinfo": "text",
         "mode": "markers",
         "name": "Indices: 26089-26100",
         "text": [
          "Termination: ('C_P6/mmm_2', 'Ni_R-3m_1')<br>Termination index: 0<br>Interfaces Index Range: 26089-26100<br>Strain: 0.28%<br>Atoms: 352"
         ],
         "x": [
          0.28200000000000003
         ],
         "y": [
          352
         ],
         "type": "scatter"
        },
        {
         "hoverinfo": "text",
         "mode": "markers",
         "name": "Indices: 26101-26103",
         "text": [
          "Termination: ('C_P6/mmm_2', 'Ni_R-3m_1')<br>Termination index: 0<br>Interfaces Index Range: 26101-26103<br>Strain: 0.28%<br>Atoms: 313"
         ],
         "x": [
          0.28300000000000003
         ],
         "y": [
          313
         ],
         "type": "scatter"
        },
        {
         "hoverinfo": "text",
         "mode": "markers",
         "name": "Indices: 26104-26115",
         "text": [
          "Termination: ('C_P6/mmm_2', 'Ni_R-3m_1')<br>Termination index: 0<br>Interfaces Index Range: 26104-26115<br>Strain: 0.29%<br>Atoms: 287"
         ],
         "x": [
          0.28600000000000003
         ],
         "y": [
          287
         ],
         "type": "scatter"
        },
        {
         "hoverinfo": "text",
         "mode": "markers",
         "name": "Indices: 26116-26121",
         "text": [
          "Termination: ('C_P6/mmm_2', 'Ni_R-3m_1')<br>Termination index: 0<br>Interfaces Index Range: 26116-26121<br>Strain: 0.29%<br>Atoms: 343"
         ],
         "x": [
          0.28700000000000003
         ],
         "y": [
          343
         ],
         "type": "scatter"
        },
        {
         "hoverinfo": "text",
         "mode": "markers",
         "name": "Indices: 26122-26133",
         "text": [
          "Termination: ('C_P6/mmm_2', 'Ni_R-3m_1')<br>Termination index: 0<br>Interfaces Index Range: 26122-26133<br>Strain: 0.29%<br>Atoms: 288"
         ],
         "x": [
          0.28800000000000003
         ],
         "y": [
          288
         ],
         "type": "scatter"
        },
        {
         "hoverinfo": "text",
         "mode": "markers",
         "name": "Indices: 26134-26139",
         "text": [
          "Termination: ('C_P6/mmm_2', 'Ni_R-3m_1')<br>Termination index: 0<br>Interfaces Index Range: 26134-26139<br>Strain: 0.29%<br>Atoms: 308"
         ],
         "x": [
          0.28800000000000003
         ],
         "y": [
          308
         ],
         "type": "scatter"
        },
        {
         "hoverinfo": "text",
         "mode": "markers",
         "name": "Indices: 26140-26151",
         "text": [
          "Termination: ('C_P6/mmm_2', 'Ni_R-3m_1')<br>Termination index: 0<br>Interfaces Index Range: 26140-26151<br>Strain: 0.29%<br>Atoms: 268"
         ],
         "x": [
          0.28900000000000003
         ],
         "y": [
          268
         ],
         "type": "scatter"
        },
        {
         "hoverinfo": "text",
         "mode": "markers",
         "name": "Indices: 26152-26154",
         "text": [
          "Termination: ('C_P6/mmm_2', 'Ni_R-3m_1')<br>Termination index: 0<br>Interfaces Index Range: 26152-26154<br>Strain: 0.29%<br>Atoms: 242"
         ],
         "x": [
          0.29100000000000004
         ],
         "y": [
          242
         ],
         "type": "scatter"
        },
        {
         "hoverinfo": "text",
         "mode": "markers",
         "name": "Indices: 26155-26157",
         "text": [
          "Termination: ('C_P6/mmm_2', 'Ni_R-3m_1')<br>Termination index: 0<br>Interfaces Index Range: 26155-26157<br>Strain: 0.29%<br>Atoms: 303"
         ],
         "x": [
          0.29200000000000004
         ],
         "y": [
          303
         ],
         "type": "scatter"
        },
        {
         "hoverinfo": "text",
         "mode": "markers",
         "name": "Indices: 26158-26169",
         "text": [
          "Termination: ('C_P6/mmm_2', 'Ni_R-3m_1')<br>Termination index: 0<br>Interfaces Index Range: 26158-26169<br>Strain: 0.29%<br>Atoms: 253"
         ],
         "x": [
          0.29300000000000004
         ],
         "y": [
          253
         ],
         "type": "scatter"
        },
        {
         "hoverinfo": "text",
         "mode": "markers",
         "name": "Indices: 26170-26172",
         "text": [
          "Termination: ('C_P6/mmm_2', 'Ni_R-3m_1')<br>Termination index: 0<br>Interfaces Index Range: 26170-26172<br>Strain: 0.29%<br>Atoms: 338"
         ],
         "x": [
          0.29300000000000004
         ],
         "y": [
          338
         ],
         "type": "scatter"
        },
        {
         "hoverinfo": "text",
         "mode": "markers",
         "name": "Indices: 26173-26178",
         "text": [
          "Termination: ('C_P6/mmm_2', 'Ni_R-3m_1')<br>Termination index: 0<br>Interfaces Index Range: 26173-26178<br>Strain: 0.30%<br>Atoms: 372"
         ],
         "x": [
          0.29500000000000004
         ],
         "y": [
          372
         ],
         "type": "scatter"
        },
        {
         "hoverinfo": "text",
         "mode": "markers",
         "name": "Indices: 26179-26190",
         "text": [
          "Termination: ('C_P6/mmm_2', 'Ni_R-3m_1')<br>Termination index: 0<br>Interfaces Index Range: 26179-26190<br>Strain: 0.30%<br>Atoms: 272"
         ],
         "x": [
          0.29600000000000004
         ],
         "y": [
          272
         ],
         "type": "scatter"
        },
        {
         "hoverinfo": "text",
         "mode": "markers",
         "name": "Indices: 26191-26202",
         "text": [
          "Termination: ('C_P6/mmm_2', 'Ni_R-3m_1')<br>Termination index: 0<br>Interfaces Index Range: 26191-26202<br>Strain: 0.30%<br>Atoms: 273"
         ],
         "x": [
          0.29600000000000004
         ],
         "y": [
          273
         ],
         "type": "scatter"
        },
        {
         "hoverinfo": "text",
         "mode": "markers",
         "name": "Indices: 26203-26214",
         "text": [
          "Termination: ('C_P6/mmm_2', 'Ni_R-3m_1')<br>Termination index: 0<br>Interfaces Index Range: 26203-26214<br>Strain: 0.30%<br>Atoms: 308"
         ],
         "x": [
          0.29600000000000004
         ],
         "y": [
          308
         ],
         "type": "scatter"
        },
        {
         "hoverinfo": "text",
         "mode": "markers",
         "name": "Indices: 26215-26226",
         "text": [
          "Termination: ('C_P6/mmm_2', 'Ni_R-3m_1')<br>Termination index: 0<br>Interfaces Index Range: 26215-26226<br>Strain: 0.30%<br>Atoms: 323"
         ],
         "x": [
          0.29600000000000004
         ],
         "y": [
          323
         ],
         "type": "scatter"
        },
        {
         "hoverinfo": "text",
         "mode": "markers",
         "name": "Indices: 26227-26229",
         "text": [
          "Termination: ('C_P6/mmm_2', 'Ni_R-3m_1')<br>Termination index: 0<br>Interfaces Index Range: 26227-26229<br>Strain: 0.30%<br>Atoms: 298"
         ],
         "x": [
          0.29700000000000004
         ],
         "y": [
          298
         ],
         "type": "scatter"
        },
        {
         "hoverinfo": "text",
         "mode": "markers",
         "name": "Indices: 26230-26233",
         "text": [
          "Termination: ('C_P6/mmm_2', 'Ni_R-3m_1')<br>Termination index: 0<br>Interfaces Index Range: 26230-26233<br>Strain: 0.30%<br>Atoms: 311"
         ],
         "x": [
          0.29700000000000004
         ],
         "y": [
          311
         ],
         "type": "scatter"
        },
        {
         "hoverinfo": "text",
         "mode": "markers",
         "name": "Indices: 26234-26236",
         "text": [
          "Termination: ('C_P6/mmm_2', 'Ni_R-3m_1')<br>Termination index: 0<br>Interfaces Index Range: 26234-26236<br>Strain: 0.30%<br>Atoms: 372"
         ],
         "x": [
          0.29700000000000004
         ],
         "y": [
          372
         ],
         "type": "scatter"
        },
        {
         "hoverinfo": "text",
         "mode": "markers",
         "name": "Indices: 26237-26248",
         "text": [
          "Termination: ('C_P6/mmm_2', 'Ni_R-3m_1')<br>Termination index: 0<br>Interfaces Index Range: 26237-26248<br>Strain: 0.30%<br>Atoms: 303"
         ],
         "x": [
          0.29800000000000004
         ],
         "y": [
          303
         ],
         "type": "scatter"
        },
        {
         "hoverinfo": "text",
         "mode": "markers",
         "name": "Indices: 26249-26254",
         "text": [
          "Termination: ('C_P6/mmm_2', 'Ni_R-3m_1')<br>Termination index: 0<br>Interfaces Index Range: 26249-26254<br>Strain: 0.30%<br>Atoms: 333"
         ],
         "x": [
          0.29800000000000004
         ],
         "y": [
          333
         ],
         "type": "scatter"
        },
        {
         "hoverinfo": "text",
         "mode": "markers",
         "name": "Indices: 26255-26260",
         "text": [
          "Termination: ('C_P6/mmm_2', 'Ni_R-3m_1')<br>Termination index: 0<br>Interfaces Index Range: 26255-26260<br>Strain: 0.30%<br>Atoms: 367"
         ],
         "x": [
          0.299
         ],
         "y": [
          367
         ],
         "type": "scatter"
        },
        {
         "hoverinfo": "text",
         "mode": "markers",
         "name": "Indices: 26261-26263",
         "text": [
          "Termination: ('C_P6/mmm_2', 'Ni_R-3m_1')<br>Termination index: 0<br>Interfaces Index Range: 26261-26263<br>Strain: 0.30%<br>Atoms: 367"
         ],
         "x": [
          0.3
         ],
         "y": [
          367
         ],
         "type": "scatter"
        },
        {
         "hoverinfo": "text",
         "mode": "markers",
         "name": "Indices: 26264-26269",
         "text": [
          "Termination: ('C_P6/mmm_2', 'Ni_R-3m_1')<br>Termination index: 0<br>Interfaces Index Range: 26264-26269<br>Strain: 0.30%<br>Atoms: 328"
         ],
         "x": [
          0.302
         ],
         "y": [
          328
         ],
         "type": "scatter"
        },
        {
         "hoverinfo": "text",
         "mode": "markers",
         "name": "Indices: 26270-26275",
         "text": [
          "Termination: ('C_P6/mmm_2', 'Ni_R-3m_1')<br>Termination index: 0<br>Interfaces Index Range: 26270-26275<br>Strain: 0.30%<br>Atoms: 362"
         ],
         "x": [
          0.302
         ],
         "y": [
          362
         ],
         "type": "scatter"
        },
        {
         "hoverinfo": "text",
         "mode": "markers",
         "name": "Indices: 26276-26281",
         "text": [
          "Termination: ('C_P6/mmm_2', 'Ni_R-3m_1')<br>Termination index: 0<br>Interfaces Index Range: 26276-26281<br>Strain: 0.30%<br>Atoms: 293"
         ],
         "x": [
          0.303
         ],
         "y": [
          293
         ],
         "type": "scatter"
        },
        {
         "hoverinfo": "text",
         "mode": "markers",
         "name": "Indices: 26282-26293",
         "text": [
          "Termination: ('C_P6/mmm_2', 'Ni_R-3m_1')<br>Termination index: 0<br>Interfaces Index Range: 26282-26293<br>Strain: 0.30%<br>Atoms: 297"
         ],
         "x": [
          0.303
         ],
         "y": [
          297
         ],
         "type": "scatter"
        },
        {
         "hoverinfo": "text",
         "mode": "markers",
         "name": "Indices: 26294-26296",
         "text": [
          "Termination: ('C_P6/mmm_2', 'Ni_R-3m_1')<br>Termination index: 0<br>Interfaces Index Range: 26294-26296<br>Strain: 0.30%<br>Atoms: 362"
         ],
         "x": [
          0.303
         ],
         "y": [
          362
         ],
         "type": "scatter"
        },
        {
         "hoverinfo": "text",
         "mode": "markers",
         "name": "Indices: 26297-26302",
         "text": [
          "Termination: ('C_P6/mmm_2', 'Ni_R-3m_1')<br>Termination index: 0<br>Interfaces Index Range: 26297-26302<br>Strain: 0.30%<br>Atoms: 376"
         ],
         "x": [
          0.303
         ],
         "y": [
          376
         ],
         "type": "scatter"
        },
        {
         "hoverinfo": "text",
         "mode": "markers",
         "name": "Indices: 26303-26305",
         "text": [
          "Termination: ('C_P6/mmm_2', 'Ni_R-3m_1')<br>Termination index: 0<br>Interfaces Index Range: 26303-26305<br>Strain: 0.30%<br>Atoms: 328"
         ],
         "x": [
          0.304
         ],
         "y": [
          328
         ],
         "type": "scatter"
        },
        {
         "hoverinfo": "text",
         "mode": "markers",
         "name": "Indices: 26306-26311",
         "text": [
          "Termination: ('C_P6/mmm_2', 'Ni_R-3m_1')<br>Termination index: 0<br>Interfaces Index Range: 26306-26311<br>Strain: 0.30%<br>Atoms: 357"
         ],
         "x": [
          0.305
         ],
         "y": [
          357
         ],
         "type": "scatter"
        },
        {
         "hoverinfo": "text",
         "mode": "markers",
         "name": "Indices: 26312-26323",
         "text": [
          "Termination: ('C_P6/mmm_2', 'Ni_R-3m_1')<br>Termination index: 0<br>Interfaces Index Range: 26312-26323<br>Strain: 0.31%<br>Atoms: 223"
         ],
         "x": [
          0.30600000000000005
         ],
         "y": [
          223
         ],
         "type": "scatter"
        },
        {
         "hoverinfo": "text",
         "mode": "markers",
         "name": "Indices: 26324-26329",
         "text": [
          "Termination: ('C_P6/mmm_2', 'Ni_R-3m_1')<br>Termination index: 0<br>Interfaces Index Range: 26324-26329<br>Strain: 0.31%<br>Atoms: 327"
         ],
         "x": [
          0.30600000000000005
         ],
         "y": [
          327
         ],
         "type": "scatter"
        },
        {
         "hoverinfo": "text",
         "mode": "markers",
         "name": "Indices: 26330-26332",
         "text": [
          "Termination: ('C_P6/mmm_2', 'Ni_R-3m_1')<br>Termination index: 0<br>Interfaces Index Range: 26330-26332<br>Strain: 0.31%<br>Atoms: 357"
         ],
         "x": [
          0.30600000000000005
         ],
         "y": [
          357
         ],
         "type": "scatter"
        },
        {
         "hoverinfo": "text",
         "mode": "markers",
         "name": "Indices: 26333-26338",
         "text": [
          "Termination: ('C_P6/mmm_2', 'Ni_R-3m_1')<br>Termination index: 0<br>Interfaces Index Range: 26333-26338<br>Strain: 0.31%<br>Atoms: 371"
         ],
         "x": [
          0.30700000000000005
         ],
         "y": [
          371
         ],
         "type": "scatter"
        },
        {
         "hoverinfo": "text",
         "mode": "markers",
         "name": "Indices: 26339-26341",
         "text": [
          "Termination: ('C_P6/mmm_2', 'Ni_R-3m_1')<br>Termination index: 0<br>Interfaces Index Range: 26339-26341<br>Strain: 0.31%<br>Atoms: 288"
         ],
         "x": [
          0.30800000000000005
         ],
         "y": [
          288
         ],
         "type": "scatter"
        },
        {
         "hoverinfo": "text",
         "mode": "markers",
         "name": "Indices: 26342-26365",
         "text": [
          "Termination: ('C_P6/mmm_2', 'Ni_R-3m_1')<br>Termination index: 0<br>Interfaces Index Range: 26342-26365<br>Strain: 0.31%<br>Atoms: 298"
         ],
         "x": [
          0.30800000000000005
         ],
         "y": [
          298
         ],
         "type": "scatter"
        },
        {
         "hoverinfo": "text",
         "mode": "markers",
         "name": "Indices: 26366-26368",
         "text": [
          "Termination: ('C_P6/mmm_2', 'Ni_R-3m_1')<br>Termination index: 0<br>Interfaces Index Range: 26366-26368<br>Strain: 0.31%<br>Atoms: 352"
         ],
         "x": [
          0.30800000000000005
         ],
         "y": [
          352
         ],
         "type": "scatter"
        },
        {
         "hoverinfo": "text",
         "mode": "markers",
         "name": "Indices: 26369-26380",
         "text": [
          "Termination: ('C_P6/mmm_2', 'Ni_R-3m_1')<br>Termination index: 0<br>Interfaces Index Range: 26369-26380<br>Strain: 0.31%<br>Atoms: 238"
         ],
         "x": [
          0.30900000000000005
         ],
         "y": [
          238
         ],
         "type": "scatter"
        },
        {
         "hoverinfo": "text",
         "mode": "markers",
         "name": "Indices: 26381-26392",
         "text": [
          "Termination: ('C_P6/mmm_2', 'Ni_R-3m_1')<br>Termination index: 0<br>Interfaces Index Range: 26381-26392<br>Strain: 0.31%<br>Atoms: 298"
         ],
         "x": [
          0.30900000000000005
         ],
         "y": [
          298
         ],
         "type": "scatter"
        },
        {
         "hoverinfo": "text",
         "mode": "markers",
         "name": "Indices: 26393-26404",
         "text": [
          "Termination: ('C_P6/mmm_2', 'Ni_R-3m_1')<br>Termination index: 0<br>Interfaces Index Range: 26393-26404<br>Strain: 0.31%<br>Atoms: 297"
         ],
         "x": [
          0.31000000000000005
         ],
         "y": [
          297
         ],
         "type": "scatter"
        },
        {
         "hoverinfo": "text",
         "mode": "markers",
         "name": "Indices: 26405-26410",
         "text": [
          "Termination: ('C_P6/mmm_2', 'Ni_R-3m_1')<br>Termination index: 0<br>Interfaces Index Range: 26405-26410<br>Strain: 0.31%<br>Atoms: 323"
         ],
         "x": [
          0.31000000000000005
         ],
         "y": [
          323
         ],
         "type": "scatter"
        },
        {
         "hoverinfo": "text",
         "mode": "markers",
         "name": "Indices: 26411-26413",
         "text": [
          "Termination: ('C_P6/mmm_2', 'Ni_R-3m_1')<br>Termination index: 0<br>Interfaces Index Range: 26411-26413<br>Strain: 0.31%<br>Atoms: 352"
         ],
         "x": [
          0.31000000000000005
         ],
         "y": [
          352
         ],
         "type": "scatter"
        },
        {
         "hoverinfo": "text",
         "mode": "markers",
         "name": "Indices: 26414-26419",
         "text": [
          "Termination: ('C_P6/mmm_2', 'Ni_R-3m_1')<br>Termination index: 0<br>Interfaces Index Range: 26414-26419<br>Strain: 0.31%<br>Atoms: 366"
         ],
         "x": [
          0.31100000000000005
         ],
         "y": [
          366
         ],
         "type": "scatter"
        },
        {
         "hoverinfo": "text",
         "mode": "markers",
         "name": "Indices: 26420-26425",
         "text": [
          "Termination: ('C_P6/mmm_2', 'Ni_R-3m_1')<br>Termination index: 0<br>Interfaces Index Range: 26420-26425<br>Strain: 0.31%<br>Atoms: 347"
         ],
         "x": [
          0.31200000000000006
         ],
         "y": [
          347
         ],
         "type": "scatter"
        },
        {
         "hoverinfo": "text",
         "mode": "markers",
         "name": "Indices: 26426-26428",
         "text": [
          "Termination: ('C_P6/mmm_2', 'Ni_R-3m_1')<br>Termination index: 0<br>Interfaces Index Range: 26426-26428<br>Strain: 0.31%<br>Atoms: 283"
         ],
         "x": [
          0.31300000000000006
         ],
         "y": [
          283
         ],
         "type": "scatter"
        },
        {
         "hoverinfo": "text",
         "mode": "markers",
         "name": "Indices: 26429-26440",
         "text": [
          "Termination: ('C_P6/mmm_2', 'Ni_R-3m_1')<br>Termination index: 0<br>Interfaces Index Range: 26429-26440<br>Strain: 0.31%<br>Atoms: 308"
         ],
         "x": [
          0.31300000000000006
         ],
         "y": [
          308
         ],
         "type": "scatter"
        },
        {
         "hoverinfo": "text",
         "mode": "markers",
         "name": "Indices: 26441-26443",
         "text": [
          "Termination: ('C_P6/mmm_2', 'Ni_R-3m_1')<br>Termination index: 0<br>Interfaces Index Range: 26441-26443<br>Strain: 0.31%<br>Atoms: 347"
         ],
         "x": [
          0.31300000000000006
         ],
         "y": [
          347
         ],
         "type": "scatter"
        },
        {
         "hoverinfo": "text",
         "mode": "markers",
         "name": "Indices: 26444-26446",
         "text": [
          "Termination: ('C_P6/mmm_2', 'Ni_R-3m_1')<br>Termination index: 0<br>Interfaces Index Range: 26444-26446<br>Strain: 0.31%<br>Atoms: 283"
         ],
         "x": [
          0.31400000000000006
         ],
         "y": [
          283
         ],
         "type": "scatter"
        },
        {
         "hoverinfo": "text",
         "mode": "markers",
         "name": "Indices: 26447-26458",
         "text": [
          "Termination: ('C_P6/mmm_2', 'Ni_R-3m_1')<br>Termination index: 0<br>Interfaces Index Range: 26447-26458<br>Strain: 0.31%<br>Atoms: 303"
         ],
         "x": [
          0.31400000000000006
         ],
         "y": [
          303
         ],
         "type": "scatter"
        },
        {
         "hoverinfo": "text",
         "mode": "markers",
         "name": "Indices: 26459-26461",
         "text": [
          "Termination: ('C_P6/mmm_2', 'Ni_R-3m_1')<br>Termination index: 0<br>Interfaces Index Range: 26459-26461<br>Strain: 0.32%<br>Atoms: 342"
         ],
         "x": [
          0.31500000000000006
         ],
         "y": [
          342
         ],
         "type": "scatter"
        },
        {
         "hoverinfo": "text",
         "mode": "markers",
         "name": "Indices: 26462-26473",
         "text": [
          "Termination: ('C_P6/mmm_2', 'Ni_R-3m_1')<br>Termination index: 0<br>Interfaces Index Range: 26462-26473<br>Strain: 0.32%<br>Atoms: 252"
         ],
         "x": [
          0.316
         ],
         "y": [
          252
         ],
         "type": "scatter"
        },
        {
         "hoverinfo": "text",
         "mode": "markers",
         "name": "Indices: 26474-26485",
         "text": [
          "Termination: ('C_P6/mmm_2', 'Ni_R-3m_1')<br>Termination index: 0<br>Interfaces Index Range: 26474-26485<br>Strain: 0.32%<br>Atoms: 298"
         ],
         "x": [
          0.316
         ],
         "y": [
          298
         ],
         "type": "scatter"
        },
        {
         "hoverinfo": "text",
         "mode": "markers",
         "name": "Indices: 26486-26488",
         "text": [
          "Termination: ('C_P6/mmm_2', 'Ni_R-3m_1')<br>Termination index: 0<br>Interfaces Index Range: 26486-26488<br>Strain: 0.32%<br>Atoms: 318"
         ],
         "x": [
          0.316
         ],
         "y": [
          318
         ],
         "type": "scatter"
        },
        {
         "hoverinfo": "text",
         "mode": "markers",
         "name": "Indices: 26489-26494",
         "text": [
          "Termination: ('C_P6/mmm_2', 'Ni_R-3m_1')<br>Termination index: 0<br>Interfaces Index Range: 26489-26494<br>Strain: 0.32%<br>Atoms: 361"
         ],
         "x": [
          0.316
         ],
         "y": [
          361
         ],
         "type": "scatter"
        },
        {
         "hoverinfo": "text",
         "mode": "markers",
         "name": "Indices: 26495-26506",
         "text": [
          "Termination: ('C_P6/mmm_2', 'Ni_R-3m_1')<br>Termination index: 0<br>Interfaces Index Range: 26495-26506<br>Strain: 0.32%<br>Atoms: 288"
         ],
         "x": [
          0.317
         ],
         "y": [
          288
         ],
         "type": "scatter"
        },
        {
         "hoverinfo": "text",
         "mode": "markers",
         "name": "Indices: 26507-26509",
         "text": [
          "Termination: ('C_P6/mmm_2', 'Ni_R-3m_1')<br>Termination index: 0<br>Interfaces Index Range: 26507-26509<br>Strain: 0.32%<br>Atoms: 342"
         ],
         "x": [
          0.317
         ],
         "y": [
          342
         ],
         "type": "scatter"
        },
        {
         "hoverinfo": "text",
         "mode": "markers",
         "name": "Indices: 26510-26521",
         "text": [
          "Termination: ('C_P6/mmm_2', 'Ni_R-3m_1')<br>Termination index: 0<br>Interfaces Index Range: 26510-26521<br>Strain: 0.32%<br>Atoms: 267"
         ],
         "x": [
          0.318
         ],
         "y": [
          267
         ],
         "type": "scatter"
        },
        {
         "hoverinfo": "text",
         "mode": "markers",
         "name": "Indices: 26522-26533",
         "text": [
          "Termination: ('C_P6/mmm_2', 'Ni_R-3m_1')<br>Termination index: 0<br>Interfaces Index Range: 26522-26533<br>Strain: 0.32%<br>Atoms: 288"
         ],
         "x": [
          0.318
         ],
         "y": [
          288
         ],
         "type": "scatter"
        },
        {
         "hoverinfo": "text",
         "mode": "markers",
         "name": "Indices: 26534-26536",
         "text": [
          "Termination: ('C_P6/mmm_2', 'Ni_R-3m_1')<br>Termination index: 0<br>Interfaces Index Range: 26534-26536<br>Strain: 0.32%<br>Atoms: 278"
         ],
         "x": [
          0.319
         ],
         "y": [
          278
         ],
         "type": "scatter"
        },
        {
         "hoverinfo": "text",
         "mode": "markers",
         "name": "Indices: 26537-26542",
         "text": [
          "Termination: ('C_P6/mmm_2', 'Ni_R-3m_1')<br>Termination index: 0<br>Interfaces Index Range: 26537-26542<br>Strain: 0.32%<br>Atoms: 337"
         ],
         "x": [
          0.319
         ],
         "y": [
          337
         ],
         "type": "scatter"
        },
        {
         "hoverinfo": "text",
         "mode": "markers",
         "name": "Indices: 26543-26554",
         "text": [
          "Termination: ('C_P6/mmm_2', 'Ni_R-3m_1')<br>Termination index: 0<br>Interfaces Index Range: 26543-26554<br>Strain: 0.32%<br>Atoms: 222"
         ],
         "x": [
          0.32
         ],
         "y": [
          222
         ],
         "type": "scatter"
        },
        {
         "hoverinfo": "text",
         "mode": "markers",
         "name": "Indices: 26555-26566",
         "text": [
          "Termination: ('C_P6/mmm_2', 'Ni_R-3m_1')<br>Termination index: 0<br>Interfaces Index Range: 26555-26566<br>Strain: 0.32%<br>Atoms: 258"
         ],
         "x": [
          0.32
         ],
         "y": [
          258
         ],
         "type": "scatter"
        },
        {
         "hoverinfo": "text",
         "mode": "markers",
         "name": "Indices: 26567-26569",
         "text": [
          "Termination: ('C_P6/mmm_2', 'Ni_R-3m_1')<br>Termination index: 0<br>Interfaces Index Range: 26567-26569<br>Strain: 0.32%<br>Atoms: 337"
         ],
         "x": [
          0.32
         ],
         "y": [
          337
         ],
         "type": "scatter"
        },
        {
         "hoverinfo": "text",
         "mode": "markers",
         "name": "Indices: 26570-26575",
         "text": [
          "Termination: ('C_P6/mmm_2', 'Ni_R-3m_1')<br>Termination index: 0<br>Interfaces Index Range: 26570-26575<br>Strain: 0.32%<br>Atoms: 356"
         ],
         "x": [
          0.32
         ],
         "y": [
          356
         ],
         "type": "scatter"
        },
        {
         "hoverinfo": "text",
         "mode": "markers",
         "name": "Indices: 26576-26587",
         "text": [
          "Termination: ('C_P6/mmm_2', 'Ni_R-3m_1')<br>Termination index: 0<br>Interfaces Index Range: 26576-26587<br>Strain: 0.32%<br>Atoms: 288"
         ],
         "x": [
          0.321
         ],
         "y": [
          288
         ],
         "type": "scatter"
        },
        {
         "hoverinfo": "text",
         "mode": "markers",
         "name": "Indices: 26588-26593",
         "text": [
          "Termination: ('C_P6/mmm_2', 'Ni_R-3m_1')<br>Termination index: 0<br>Interfaces Index Range: 26588-26593<br>Strain: 0.32%<br>Atoms: 313"
         ],
         "x": [
          0.322
         ],
         "y": [
          313
         ],
         "type": "scatter"
        },
        {
         "hoverinfo": "text",
         "mode": "markers",
         "name": "Indices: 26594-26596",
         "text": [
          "Termination: ('C_P6/mmm_2', 'Ni_R-3m_1')<br>Termination index: 0<br>Interfaces Index Range: 26594-26596<br>Strain: 0.32%<br>Atoms: 332"
         ],
         "x": [
          0.323
         ],
         "y": [
          332
         ],
         "type": "scatter"
        },
        {
         "hoverinfo": "text",
         "mode": "markers",
         "name": "Indices: 26597-26599",
         "text": [
          "Termination: ('C_P6/mmm_2', 'Ni_R-3m_1')<br>Termination index: 0<br>Interfaces Index Range: 26597-26599<br>Strain: 0.32%<br>Atoms: 332"
         ],
         "x": [
          0.324
         ],
         "y": [
          332
         ],
         "type": "scatter"
        },
        {
         "hoverinfo": "text",
         "mode": "markers",
         "name": "Indices: 26600-26611",
         "text": [
          "Termination: ('C_P6/mmm_2', 'Ni_R-3m_1')<br>Termination index: 0<br>Interfaces Index Range: 26600-26611<br>Strain: 0.32%<br>Atoms: 356"
         ],
         "x": [
          0.324
         ],
         "y": [
          356
         ],
         "type": "scatter"
        },
        {
         "hoverinfo": "text",
         "mode": "markers",
         "name": "Indices: 26612-26614",
         "text": [
          "Termination: ('C_P6/mmm_2', 'Ni_R-3m_1')<br>Termination index: 0<br>Interfaces Index Range: 26612-26614<br>Strain: 0.33%<br>Atoms: 273"
         ],
         "x": [
          0.325
         ],
         "y": [
          273
         ],
         "type": "scatter"
        },
        {
         "hoverinfo": "text",
         "mode": "markers",
         "name": "Indices: 26615-26620",
         "text": [
          "Termination: ('C_P6/mmm_2', 'Ni_R-3m_1')<br>Termination index: 0<br>Interfaces Index Range: 26615-26620<br>Strain: 0.33%<br>Atoms: 351"
         ],
         "x": [
          0.325
         ],
         "y": [
          351
         ],
         "type": "scatter"
        },
        {
         "hoverinfo": "text",
         "mode": "markers",
         "name": "Indices: 26621-26632",
         "text": [
          "Termination: ('C_P6/mmm_2', 'Ni_R-3m_1')<br>Termination index: 0<br>Interfaces Index Range: 26621-26632<br>Strain: 0.33%<br>Atoms: 372"
         ],
         "x": [
          0.325
         ],
         "y": [
          372
         ],
         "type": "scatter"
        },
        {
         "hoverinfo": "text",
         "mode": "markers",
         "name": "Indices: 26633-26644",
         "text": [
          "Termination: ('C_P6/mmm_2', 'Ni_R-3m_1')<br>Termination index: 0<br>Interfaces Index Range: 26633-26644<br>Strain: 0.33%<br>Atoms: 287"
         ],
         "x": [
          0.326
         ],
         "y": [
          287
         ],
         "type": "scatter"
        },
        {
         "hoverinfo": "text",
         "mode": "markers",
         "name": "Indices: 26645-26650",
         "text": [
          "Termination: ('C_P6/mmm_2', 'Ni_R-3m_1')<br>Termination index: 0<br>Interfaces Index Range: 26645-26650<br>Strain: 0.33%<br>Atoms: 327"
         ],
         "x": [
          0.326
         ],
         "y": [
          327
         ],
         "type": "scatter"
        },
        {
         "hoverinfo": "text",
         "mode": "markers",
         "name": "Indices: 26651-26662",
         "text": [
          "Termination: ('C_P6/mmm_2', 'Ni_R-3m_1')<br>Termination index: 0<br>Interfaces Index Range: 26651-26662<br>Strain: 0.33%<br>Atoms: 237"
         ],
         "x": [
          0.328
         ],
         "y": [
          237
         ],
         "type": "scatter"
        },
        {
         "hoverinfo": "text",
         "mode": "markers",
         "name": "Indices: 26663-26665",
         "text": [
          "Termination: ('C_P6/mmm_2', 'Ni_R-3m_1')<br>Termination index: 0<br>Interfaces Index Range: 26663-26665<br>Strain: 0.33%<br>Atoms: 308"
         ],
         "x": [
          0.328
         ],
         "y": [
          308
         ],
         "type": "scatter"
        },
        {
         "hoverinfo": "text",
         "mode": "markers",
         "name": "Indices: 26666-26668",
         "text": [
          "Termination: ('C_P6/mmm_2', 'Ni_R-3m_1')<br>Termination index: 0<br>Interfaces Index Range: 26666-26668<br>Strain: 0.33%<br>Atoms: 327"
         ],
         "x": [
          0.328
         ],
         "y": [
          327
         ],
         "type": "scatter"
        },
        {
         "hoverinfo": "text",
         "mode": "markers",
         "name": "Indices: 26669-26680",
         "text": [
          "Termination: ('C_P6/mmm_2', 'Ni_R-3m_1')<br>Termination index: 0<br>Interfaces Index Range: 26669-26680<br>Strain: 0.33%<br>Atoms: 272"
         ],
         "x": [
          0.329
         ],
         "y": [
          272
         ],
         "type": "scatter"
        },
        {
         "hoverinfo": "text",
         "mode": "markers",
         "name": "Indices: 26681-26683",
         "text": [
          "Termination: ('C_P6/mmm_2', 'Ni_R-3m_1')<br>Termination index: 0<br>Interfaces Index Range: 26681-26683<br>Strain: 0.33%<br>Atoms: 322"
         ],
         "x": [
          0.33
         ],
         "y": [
          322
         ],
         "type": "scatter"
        },
        {
         "hoverinfo": "text",
         "mode": "markers",
         "name": "Indices: 26684-26689",
         "text": [
          "Termination: ('C_P6/mmm_2', 'Ni_R-3m_1')<br>Termination index: 0<br>Interfaces Index Range: 26684-26689<br>Strain: 0.33%<br>Atoms: 346"
         ],
         "x": [
          0.33
         ],
         "y": [
          346
         ],
         "type": "scatter"
        },
        {
         "hoverinfo": "text",
         "mode": "markers",
         "name": "Indices: 26690-26692",
         "text": [
          "Termination: ('C_P6/mmm_2', 'Ni_R-3m_1')<br>Termination index: 0<br>Interfaces Index Range: 26690-26692<br>Strain: 0.33%<br>Atoms: 268"
         ],
         "x": [
          0.33100000000000007
         ],
         "y": [
          268
         ],
         "type": "scatter"
        },
        {
         "hoverinfo": "text",
         "mode": "markers",
         "name": "Indices: 26693-26704",
         "text": [
          "Termination: ('C_P6/mmm_2', 'Ni_R-3m_1')<br>Termination index: 0<br>Interfaces Index Range: 26693-26704<br>Strain: 0.33%<br>Atoms: 288"
         ],
         "x": [
          0.33100000000000007
         ],
         "y": [
          288
         ],
         "type": "scatter"
        },
        {
         "hoverinfo": "text",
         "mode": "markers",
         "name": "Indices: 26705-26716",
         "text": [
          "Termination: ('C_P6/mmm_2', 'Ni_R-3m_1')<br>Termination index: 0<br>Interfaces Index Range: 26705-26716<br>Strain: 0.33%<br>Atoms: 367"
         ],
         "x": [
          0.33100000000000007
         ],
         "y": [
          367
         ],
         "type": "scatter"
        },
        {
         "hoverinfo": "text",
         "mode": "markers",
         "name": "Indices: 26717-26719",
         "text": [
          "Termination: ('C_P6/mmm_2', 'Ni_R-3m_1')<br>Termination index: 0<br>Interfaces Index Range: 26717-26719<br>Strain: 0.33%<br>Atoms: 322"
         ],
         "x": [
          0.3320000000000001
         ],
         "y": [
          322
         ],
         "type": "scatter"
        },
        {
         "hoverinfo": "text",
         "mode": "markers",
         "name": "Indices: 26720-26731",
         "text": [
          "Termination: ('C_P6/mmm_2', 'Ni_R-3m_1')<br>Termination index: 0<br>Interfaces Index Range: 26720-26731<br>Strain: 0.33%<br>Atoms: 373"
         ],
         "x": [
          0.333
         ],
         "y": [
          373
         ],
         "type": "scatter"
        },
        {
         "hoverinfo": "text",
         "mode": "markers",
         "name": "Indices: 26732-26743",
         "text": [
          "Termination: ('C_P6/mmm_2', 'Ni_R-3m_1')<br>Termination index: 0<br>Interfaces Index Range: 26732-26743<br>Strain: 0.33%<br>Atoms: 298"
         ],
         "x": [
          0.334
         ],
         "y": [
          298
         ],
         "type": "scatter"
        },
        {
         "hoverinfo": "text",
         "mode": "markers",
         "name": "Indices: 26744-26749",
         "text": [
          "Termination: ('C_P6/mmm_2', 'Ni_R-3m_1')<br>Termination index: 0<br>Interfaces Index Range: 26744-26749<br>Strain: 0.33%<br>Atoms: 317"
         ],
         "x": [
          0.334
         ],
         "y": [
          317
         ],
         "type": "scatter"
        },
        {
         "hoverinfo": "text",
         "mode": "markers",
         "name": "Indices: 26750-26761",
         "text": [
          "Termination: ('C_P6/mmm_2', 'Ni_R-3m_1')<br>Termination index: 0<br>Interfaces Index Range: 26750-26761<br>Strain: 0.33%<br>Atoms: 352"
         ],
         "x": [
          0.334
         ],
         "y": [
          352
         ],
         "type": "scatter"
        },
        {
         "hoverinfo": "text",
         "mode": "markers",
         "name": "Indices: 26762-26773",
         "text": [
          "Termination: ('C_P6/mmm_2', 'Ni_R-3m_1')<br>Termination index: 0<br>Interfaces Index Range: 26762-26773<br>Strain: 0.34%<br>Atoms: 273"
         ],
         "x": [
          0.335
         ],
         "y": [
          273
         ],
         "type": "scatter"
        },
        {
         "hoverinfo": "text",
         "mode": "markers",
         "name": "Indices: 26774-26779",
         "text": [
          "Termination: ('C_P6/mmm_2', 'Ni_R-3m_1')<br>Termination index: 0<br>Interfaces Index Range: 26774-26779<br>Strain: 0.34%<br>Atoms: 303"
         ],
         "x": [
          0.335
         ],
         "y": [
          303
         ],
         "type": "scatter"
        },
        {
         "hoverinfo": "text",
         "mode": "markers",
         "name": "Indices: 26780-26785",
         "text": [
          "Termination: ('C_P6/mmm_2', 'Ni_R-3m_1')<br>Termination index: 0<br>Interfaces Index Range: 26780-26785<br>Strain: 0.34%<br>Atoms: 341"
         ],
         "x": [
          0.335
         ],
         "y": [
          341
         ],
         "type": "scatter"
        },
        {
         "hoverinfo": "text",
         "mode": "markers",
         "name": "Indices: 26786-26797",
         "text": [
          "Termination: ('C_P6/mmm_2', 'Ni_R-3m_1')<br>Termination index: 0<br>Interfaces Index Range: 26786-26797<br>Strain: 0.34%<br>Atoms: 298"
         ],
         "x": [
          0.336
         ],
         "y": [
          298
         ],
         "type": "scatter"
        },
        {
         "hoverinfo": "text",
         "mode": "markers",
         "name": "Indices: 26798-26800",
         "text": [
          "Termination: ('C_P6/mmm_2', 'Ni_R-3m_1')<br>Termination index: 0<br>Interfaces Index Range: 26798-26800<br>Strain: 0.34%<br>Atoms: 317"
         ],
         "x": [
          0.336
         ],
         "y": [
          317
         ],
         "type": "scatter"
        },
        {
         "hoverinfo": "text",
         "mode": "markers",
         "name": "Indices: 26801-26812",
         "text": [
          "Termination: ('C_P6/mmm_2', 'Ni_R-3m_1')<br>Termination index: 0<br>Interfaces Index Range: 26801-26812<br>Strain: 0.34%<br>Atoms: 273"
         ],
         "x": [
          0.337
         ],
         "y": [
          273
         ],
         "type": "scatter"
        },
        {
         "hoverinfo": "text",
         "mode": "markers",
         "name": "Indices: 26813-26815",
         "text": [
          "Termination: ('C_P6/mmm_2', 'Ni_R-3m_1')<br>Termination index: 0<br>Interfaces Index Range: 26813-26815<br>Strain: 0.34%<br>Atoms: 263"
         ],
         "x": [
          0.338
         ],
         "y": [
          263
         ],
         "type": "scatter"
        },
        {
         "hoverinfo": "text",
         "mode": "markers",
         "name": "Indices: 26816-26818",
         "text": [
          "Termination: ('C_P6/mmm_2', 'Ni_R-3m_1')<br>Termination index: 0<br>Interfaces Index Range: 26816-26818<br>Strain: 0.34%<br>Atoms: 312"
         ],
         "x": [
          0.339
         ],
         "y": [
          312
         ],
         "type": "scatter"
        },
        {
         "hoverinfo": "text",
         "mode": "markers",
         "name": "Indices: 26819-26830",
         "text": [
          "Termination: ('C_P6/mmm_2', 'Ni_R-3m_1')<br>Termination index: 0<br>Interfaces Index Range: 26819-26830<br>Strain: 0.34%<br>Atoms: 288"
         ],
         "x": [
          0.34
         ],
         "y": [
          288
         ],
         "type": "scatter"
        },
        {
         "hoverinfo": "text",
         "mode": "markers",
         "name": "Indices: 26831-26833",
         "text": [
          "Termination: ('C_P6/mmm_2', 'Ni_R-3m_1')<br>Termination index: 0<br>Interfaces Index Range: 26831-26833<br>Strain: 0.34%<br>Atoms: 312"
         ],
         "x": [
          0.34
         ],
         "y": [
          312
         ],
         "type": "scatter"
        },
        {
         "hoverinfo": "text",
         "mode": "markers",
         "name": "Indices: 26834-26839",
         "text": [
          "Termination: ('C_P6/mmm_2', 'Ni_R-3m_1')<br>Termination index: 0<br>Interfaces Index Range: 26834-26839<br>Strain: 0.34%<br>Atoms: 336"
         ],
         "x": [
          0.34
         ],
         "y": [
          336
         ],
         "type": "scatter"
        },
        {
         "hoverinfo": "text",
         "mode": "markers",
         "name": "Indices: 26840-26851",
         "text": [
          "Termination: ('C_P6/mmm_2', 'Ni_R-3m_1')<br>Termination index: 0<br>Interfaces Index Range: 26840-26851<br>Strain: 0.34%<br>Atoms: 218"
         ],
         "x": [
          0.342
         ],
         "y": [
          218
         ],
         "type": "scatter"
        },
        {
         "hoverinfo": "text",
         "mode": "markers",
         "name": "Indices: 26852-26857",
         "text": [
          "Termination: ('C_P6/mmm_2', 'Ni_R-3m_1')<br>Termination index: 0<br>Interfaces Index Range: 26852-26857<br>Strain: 0.34%<br>Atoms: 298"
         ],
         "x": [
          0.342
         ],
         "y": [
          298
         ],
         "type": "scatter"
        },
        {
         "hoverinfo": "text",
         "mode": "markers",
         "name": "Indices: 26858-26869",
         "text": [
          "Termination: ('C_P6/mmm_2', 'Ni_R-3m_1')<br>Termination index: 0<br>Interfaces Index Range: 26858-26869<br>Strain: 0.34%<br>Atoms: 268"
         ],
         "x": [
          0.343
         ],
         "y": [
          268
         ],
         "type": "scatter"
        },
        {
         "hoverinfo": "text",
         "mode": "markers",
         "name": "Indices: 26870-26875",
         "text": [
          "Termination: ('C_P6/mmm_2', 'Ni_R-3m_1')<br>Termination index: 0<br>Interfaces Index Range: 26870-26875<br>Strain: 0.34%<br>Atoms: 307"
         ],
         "x": [
          0.343
         ],
         "y": [
          307
         ],
         "type": "scatter"
        },
        {
         "hoverinfo": "text",
         "mode": "markers",
         "name": "Indices: 26876-26877",
         "text": [
          "Termination: ('C_P6/mmm_2', 'Ni_R-3m_1')<br>Termination index: 0<br>Interfaces Index Range: 26876-26877<br>Strain: 0.34%<br>Atoms: 138"
         ],
         "x": [
          0.34400000000000003
         ],
         "y": [
          138
         ],
         "type": "scatter"
        },
        {
         "hoverinfo": "text",
         "mode": "markers",
         "name": "Indices: 26878-26880",
         "text": [
          "Termination: ('C_P6/mmm_2', 'Ni_R-3m_1')<br>Termination index: 0<br>Interfaces Index Range: 26878-26880<br>Strain: 0.34%<br>Atoms: 258"
         ],
         "x": [
          0.34400000000000003
         ],
         "y": [
          258
         ],
         "type": "scatter"
        },
        {
         "hoverinfo": "text",
         "mode": "markers",
         "name": "Indices: 26881-26898",
         "text": [
          "Termination: ('C_P6/mmm_2', 'Ni_R-3m_1')<br>Termination index: 0<br>Interfaces Index Range: 26881-26898<br>Strain: 0.34%<br>Atoms: 276"
         ],
         "x": [
          0.34400000000000003
         ],
         "y": [
          276
         ],
         "type": "scatter"
        },
        {
         "hoverinfo": "text",
         "mode": "markers",
         "name": "Indices: 26899-26901",
         "text": [
          "Termination: ('C_P6/mmm_2', 'Ni_R-3m_1')<br>Termination index: 0<br>Interfaces Index Range: 26899-26901<br>Strain: 0.35%<br>Atoms: 258"
         ],
         "x": [
          0.34500000000000003
         ],
         "y": [
          258
         ],
         "type": "scatter"
        },
        {
         "hoverinfo": "text",
         "mode": "markers",
         "name": "Indices: 26902-26904",
         "text": [
          "Termination: ('C_P6/mmm_2', 'Ni_R-3m_1')<br>Termination index: 0<br>Interfaces Index Range: 26902-26904<br>Strain: 0.35%<br>Atoms: 307"
         ],
         "x": [
          0.34500000000000003
         ],
         "y": [
          307
         ],
         "type": "scatter"
        },
        {
         "hoverinfo": "text",
         "mode": "markers",
         "name": "Indices: 26905-26910",
         "text": [
          "Termination: ('C_P6/mmm_2', 'Ni_R-3m_1')<br>Termination index: 0<br>Interfaces Index Range: 26905-26910<br>Strain: 0.35%<br>Atoms: 331"
         ],
         "x": [
          0.34500000000000003
         ],
         "y": [
          331
         ],
         "type": "scatter"
        },
        {
         "hoverinfo": "text",
         "mode": "markers",
         "name": "Indices: 26911-26922",
         "text": [
          "Termination: ('C_P6/mmm_2', 'Ni_R-3m_1')<br>Termination index: 0<br>Interfaces Index Range: 26911-26922<br>Strain: 0.35%<br>Atoms: 357"
         ],
         "x": [
          0.34500000000000003
         ],
         "y": [
          357
         ],
         "type": "scatter"
        },
        {
         "hoverinfo": "text",
         "mode": "markers",
         "name": "Indices: 26923-26925",
         "text": [
          "Termination: ('C_P6/mmm_2', 'Ni_R-3m_1')<br>Termination index: 0<br>Interfaces Index Range: 26923-26925<br>Strain: 0.35%<br>Atoms: 302"
         ],
         "x": [
          0.34700000000000003
         ],
         "y": [
          302
         ],
         "type": "scatter"
        },
        {
         "hoverinfo": "text",
         "mode": "markers",
         "name": "Indices: 26926-26931",
         "text": [
          "Termination: ('C_P6/mmm_2', 'Ni_R-3m_1')<br>Termination index: 0<br>Interfaces Index Range: 26926-26931<br>Strain: 0.35%<br>Atoms: 327"
         ],
         "x": [
          0.34700000000000003
         ],
         "y": [
          327
         ],
         "type": "scatter"
        },
        {
         "hoverinfo": "text",
         "mode": "markers",
         "name": "Indices: 26932-26934",
         "text": [
          "Termination: ('C_P6/mmm_2', 'Ni_R-3m_1')<br>Termination index: 0<br>Interfaces Index Range: 26932-26934<br>Strain: 0.35%<br>Atoms: 293"
         ],
         "x": [
          0.34900000000000003
         ],
         "y": [
          293
         ],
         "type": "scatter"
        },
        {
         "hoverinfo": "text",
         "mode": "markers",
         "name": "Indices: 26935-26937",
         "text": [
          "Termination: ('C_P6/mmm_2', 'Ni_R-3m_1')<br>Termination index: 0<br>Interfaces Index Range: 26935-26937<br>Strain: 0.35%<br>Atoms: 302"
         ],
         "x": [
          0.34900000000000003
         ],
         "y": [
          302
         ],
         "type": "scatter"
        },
        {
         "hoverinfo": "text",
         "mode": "markers",
         "name": "Indices: 26938-26940",
         "text": [
          "Termination: ('C_P6/mmm_2', 'Ni_R-3m_1')<br>Termination index: 0<br>Interfaces Index Range: 26938-26940<br>Strain: 0.35%<br>Atoms: 253"
         ],
         "x": [
          0.35100000000000003
         ],
         "y": [
          253
         ],
         "type": "scatter"
        },
        {
         "hoverinfo": "text",
         "mode": "markers",
         "name": "Indices: 26941-26946",
         "text": [
          "Termination: ('C_P6/mmm_2', 'Ni_R-3m_1')<br>Termination index: 0<br>Interfaces Index Range: 26941-26946<br>Strain: 0.35%<br>Atoms: 326"
         ],
         "x": [
          0.35100000000000003
         ],
         "y": [
          326
         ],
         "type": "scatter"
        },
        {
         "hoverinfo": "text",
         "mode": "markers",
         "name": "Indices: 26947-26958",
         "text": [
          "Termination: ('C_P6/mmm_2', 'Ni_R-3m_1')<br>Termination index: 0<br>Interfaces Index Range: 26947-26958<br>Strain: 0.35%<br>Atoms: 347"
         ],
         "x": [
          0.35100000000000003
         ],
         "y": [
          347
         ],
         "type": "scatter"
        },
        {
         "hoverinfo": "text",
         "mode": "markers",
         "name": "Indices: 26959-26970",
         "text": [
          "Termination: ('C_P6/mmm_2', 'Ni_R-3m_1')<br>Termination index: 0<br>Interfaces Index Range: 26959-26970<br>Strain: 0.35%<br>Atoms: 288"
         ],
         "x": [
          0.35200000000000004
         ],
         "y": [
          288
         ],
         "type": "scatter"
        },
        {
         "hoverinfo": "text",
         "mode": "markers",
         "name": "Indices: 26971-26976",
         "text": [
          "Termination: ('C_P6/mmm_2', 'Ni_R-3m_1')<br>Termination index: 0<br>Interfaces Index Range: 26971-26976<br>Strain: 0.35%<br>Atoms: 297"
         ],
         "x": [
          0.35200000000000004
         ],
         "y": [
          297
         ],
         "type": "scatter"
        },
        {
         "hoverinfo": "text",
         "mode": "markers",
         "name": "Indices: 26977-26988",
         "text": [
          "Termination: ('C_P6/mmm_2', 'Ni_R-3m_1')<br>Termination index: 0<br>Interfaces Index Range: 26977-26988<br>Strain: 0.35%<br>Atoms: 257"
         ],
         "x": [
          0.35300000000000004
         ],
         "y": [
          257
         ],
         "type": "scatter"
        },
        {
         "hoverinfo": "text",
         "mode": "markers",
         "name": "Indices: 26989-27000",
         "text": [
          "Termination: ('C_P6/mmm_2', 'Ni_R-3m_1')<br>Termination index: 0<br>Interfaces Index Range: 26989-27000<br>Strain: 0.35%<br>Atoms: 352"
         ],
         "x": [
          0.35300000000000004
         ],
         "y": [
          352
         ],
         "type": "scatter"
        },
        {
         "hoverinfo": "text",
         "mode": "markers",
         "name": "Indices: 27001-27024",
         "text": [
          "Termination: ('C_P6/mmm_2', 'Ni_R-3m_1')<br>Termination index: 0<br>Interfaces Index Range: 27001-27024<br>Strain: 0.35%<br>Atoms: 371"
         ],
         "x": [
          0.35300000000000004
         ],
         "y": [
          371
         ],
         "type": "scatter"
        },
        {
         "hoverinfo": "text",
         "mode": "markers",
         "name": "Indices: 27025-27027",
         "text": [
          "Termination: ('C_P6/mmm_2', 'Ni_R-3m_1')<br>Termination index: 0<br>Interfaces Index Range: 27025-27027<br>Strain: 0.35%<br>Atoms: 297"
         ],
         "x": [
          0.35400000000000004
         ],
         "y": [
          297
         ],
         "type": "scatter"
        },
        {
         "hoverinfo": "text",
         "mode": "markers",
         "name": "Indices: 27028-27039",
         "text": [
          "Termination: ('C_P6/mmm_2', 'Ni_R-3m_1')<br>Termination index: 0<br>Interfaces Index Range: 27028-27039<br>Strain: 0.36%<br>Atoms: 357"
         ],
         "x": [
          0.35500000000000004
         ],
         "y": [
          357
         ],
         "type": "scatter"
        },
        {
         "hoverinfo": "text",
         "mode": "markers",
         "name": "Indices: 27040-27051",
         "text": [
          "Termination: ('C_P6/mmm_2', 'Ni_R-3m_1')<br>Termination index: 0<br>Interfaces Index Range: 27040-27051<br>Strain: 0.36%<br>Atoms: 217"
         ],
         "x": [
          0.35600000000000004
         ],
         "y": [
          217
         ],
         "type": "scatter"
        },
        {
         "hoverinfo": "text",
         "mode": "markers",
         "name": "Indices: 27052-27063",
         "text": [
          "Termination: ('C_P6/mmm_2', 'Ni_R-3m_1')<br>Termination index: 0<br>Interfaces Index Range: 27052-27063<br>Strain: 0.36%<br>Atoms: 258"
         ],
         "x": [
          0.35600000000000004
         ],
         "y": [
          258
         ],
         "type": "scatter"
        },
        {
         "hoverinfo": "text",
         "mode": "markers",
         "name": "Indices: 27064-27069",
         "text": [
          "Termination: ('C_P6/mmm_2', 'Ni_R-3m_1')<br>Termination index: 0<br>Interfaces Index Range: 27064-27069<br>Strain: 0.36%<br>Atoms: 288"
         ],
         "x": [
          0.35600000000000004
         ],
         "y": [
          288
         ],
         "type": "scatter"
        },
        {
         "hoverinfo": "text",
         "mode": "markers",
         "name": "Indices: 27070-27075",
         "text": [
          "Termination: ('C_P6/mmm_2', 'Ni_R-3m_1')<br>Termination index: 0<br>Interfaces Index Range: 27070-27075<br>Strain: 0.36%<br>Atoms: 321"
         ],
         "x": [
          0.35600000000000004
         ],
         "y": [
          321
         ],
         "type": "scatter"
        },
        {
         "hoverinfo": "text",
         "mode": "markers",
         "name": "Indices: 27076-27081",
         "text": [
          "Termination: ('C_P6/mmm_2', 'Ni_R-3m_1')<br>Termination index: 0<br>Interfaces Index Range: 27076-27081<br>Strain: 0.36%<br>Atoms: 369"
         ],
         "x": [
          0.35600000000000004
         ],
         "y": [
          369
         ],
         "type": "scatter"
        },
        {
         "hoverinfo": "text",
         "mode": "markers",
         "name": "Indices: 27082-27087",
         "text": [
          "Termination: ('C_P6/mmm_2', 'Ni_R-3m_1')<br>Termination index: 0<br>Interfaces Index Range: 27082-27087<br>Strain: 0.36%<br>Atoms: 292"
         ],
         "x": [
          0.35700000000000004
         ],
         "y": [
          292
         ],
         "type": "scatter"
        },
        {
         "hoverinfo": "text",
         "mode": "markers",
         "name": "Indices: 27088-27090",
         "text": [
          "Termination: ('C_P6/mmm_2', 'Ni_R-3m_1')<br>Termination index: 0<br>Interfaces Index Range: 27088-27090<br>Strain: 0.36%<br>Atoms: 248"
         ],
         "x": [
          0.35900000000000004
         ],
         "y": [
          248
         ],
         "type": "scatter"
        },
        {
         "hoverinfo": "text",
         "mode": "markers",
         "name": "Indices: 27091-27093",
         "text": [
          "Termination: ('C_P6/mmm_2', 'Ni_R-3m_1')<br>Termination index: 0<br>Interfaces Index Range: 27091-27093<br>Strain: 0.36%<br>Atoms: 292"
         ],
         "x": [
          0.35900000000000004
         ],
         "y": [
          292
         ],
         "type": "scatter"
        },
        {
         "hoverinfo": "text",
         "mode": "markers",
         "name": "Indices: 27094-27096",
         "text": [
          "Termination: ('C_P6/mmm_2', 'Ni_R-3m_1')<br>Termination index: 0<br>Interfaces Index Range: 27094-27096<br>Strain: 0.36%<br>Atoms: 248"
         ],
         "x": [
          0.36000000000000004
         ],
         "y": [
          248
         ],
         "type": "scatter"
        },
        {
         "hoverinfo": "text",
         "mode": "markers",
         "name": "Indices: 27097-27102",
         "text": [
          "Termination: ('C_P6/mmm_2', 'Ni_R-3m_1')<br>Termination index: 0<br>Interfaces Index Range: 27097-27102<br>Strain: 0.36%<br>Atoms: 364"
         ],
         "x": [
          0.36000000000000004
         ],
         "y": [
          364
         ],
         "type": "scatter"
        },
        {
         "hoverinfo": "text",
         "mode": "markers",
         "name": "Indices: 27103-27104",
         "text": [
          "Termination: ('C_P6/mmm_2', 'Ni_R-3m_1')<br>Termination index: 0<br>Interfaces Index Range: 27103-27104<br>Strain: 0.36%<br>Atoms: 369"
         ],
         "x": [
          0.36000000000000004
         ],
         "y": [
          369
         ],
         "type": "scatter"
        },
        {
         "hoverinfo": "text",
         "mode": "markers",
         "name": "Indices: 27105-27116",
         "text": [
          "Termination: ('C_P6/mmm_2', 'Ni_R-3m_1')<br>Termination index: 0<br>Interfaces Index Range: 27105-27116<br>Strain: 0.36%<br>Atoms: 253"
         ],
         "x": [
          0.36200000000000004
         ],
         "y": [
          253
         ],
         "type": "scatter"
        },
        {
         "hoverinfo": "text",
         "mode": "markers",
         "name": "Indices: 27117-27128",
         "text": [
          "Termination: ('C_P6/mmm_2', 'Ni_R-3m_1')<br>Termination index: 0<br>Interfaces Index Range: 27117-27128<br>Strain: 0.36%<br>Atoms: 273"
         ],
         "x": [
          0.36200000000000004
         ],
         "y": [
          273
         ],
         "type": "scatter"
        },
        {
         "hoverinfo": "text",
         "mode": "markers",
         "name": "Indices: 27129-27131",
         "text": [
          "Termination: ('C_P6/mmm_2', 'Ni_R-3m_1')<br>Termination index: 0<br>Interfaces Index Range: 27129-27131<br>Strain: 0.36%<br>Atoms: 287"
         ],
         "x": [
          0.36200000000000004
         ],
         "y": [
          287
         ],
         "type": "scatter"
        },
        {
         "hoverinfo": "text",
         "mode": "markers",
         "name": "Indices: 27132-27137",
         "text": [
          "Termination: ('C_P6/mmm_2', 'Ni_R-3m_1')<br>Termination index: 0<br>Interfaces Index Range: 27132-27137<br>Strain: 0.36%<br>Atoms: 316"
         ],
         "x": [
          0.36200000000000004
         ],
         "y": [
          316
         ],
         "type": "scatter"
        },
        {
         "hoverinfo": "text",
         "mode": "markers",
         "name": "Indices: 27138-27149",
         "text": [
          "Termination: ('C_P6/mmm_2', 'Ni_R-3m_1')<br>Termination index: 0<br>Interfaces Index Range: 27138-27149<br>Strain: 0.36%<br>Atoms: 356"
         ],
         "x": [
          0.36200000000000004
         ],
         "y": [
          356
         ],
         "type": "scatter"
        },
        {
         "hoverinfo": "text",
         "mode": "markers",
         "name": "Indices: 27150-27161",
         "text": [
          "Termination: ('C_P6/mmm_2', 'Ni_R-3m_1')<br>Termination index: 0<br>Interfaces Index Range: 27150-27161<br>Strain: 0.36%<br>Atoms: 362"
         ],
         "x": [
          0.36300000000000004
         ],
         "y": [
          362
         ],
         "type": "scatter"
        },
        {
         "hoverinfo": "text",
         "mode": "markers",
         "name": "Indices: 27162-27163",
         "text": [
          "Termination: ('C_P6/mmm_2', 'Ni_R-3m_1')<br>Termination index: 0<br>Interfaces Index Range: 27162-27163<br>Strain: 0.36%<br>Atoms: 182"
         ],
         "x": [
          0.36400000000000005
         ],
         "y": [
          182
         ],
         "type": "scatter"
        },
        {
         "hoverinfo": "text",
         "mode": "markers",
         "name": "Indices: 27164-27175",
         "text": [
          "Termination: ('C_P6/mmm_2', 'Ni_R-3m_1')<br>Termination index: 0<br>Interfaces Index Range: 27164-27175<br>Strain: 0.36%<br>Atoms: 203"
         ],
         "x": [
          0.36400000000000005
         ],
         "y": [
          203
         ],
         "type": "scatter"
        },
        {
         "hoverinfo": "text",
         "mode": "markers",
         "name": "Indices: 27176-27178",
         "text": [
          "Termination: ('C_P6/mmm_2', 'Ni_R-3m_1')<br>Termination index: 0<br>Interfaces Index Range: 27176-27178<br>Strain: 0.36%<br>Atoms: 283"
         ],
         "x": [
          0.36400000000000005
         ],
         "y": [
          283
         ],
         "type": "scatter"
        },
        {
         "hoverinfo": "text",
         "mode": "markers",
         "name": "Indices: 27179-27181",
         "text": [
          "Termination: ('C_P6/mmm_2', 'Ni_R-3m_1')<br>Termination index: 0<br>Interfaces Index Range: 27179-27181<br>Strain: 0.36%<br>Atoms: 287"
         ],
         "x": [
          0.36400000000000005
         ],
         "y": [
          287
         ],
         "type": "scatter"
        },
        {
         "hoverinfo": "text",
         "mode": "markers",
         "name": "Indices: 27182-27199",
         "text": [
          "Termination: ('C_P6/mmm_2', 'Ni_R-3m_1')<br>Termination index: 0<br>Interfaces Index Range: 27182-27199<br>Strain: 0.36%<br>Atoms: 364"
         ],
         "x": [
          0.36400000000000005
         ],
         "y": [
          364
         ],
         "type": "scatter"
        },
        {
         "hoverinfo": "text",
         "mode": "markers",
         "name": "Indices: 27200-27202",
         "text": [
          "Termination: ('C_P6/mmm_2', 'Ni_R-3m_1')<br>Termination index: 0<br>Interfaces Index Range: 27200-27202<br>Strain: 0.37%<br>Atoms: 243"
         ],
         "x": [
          0.36600000000000005
         ],
         "y": [
          243
         ],
         "type": "scatter"
        },
        {
         "hoverinfo": "text",
         "mode": "markers",
         "name": "Indices: 27203-27205",
         "text": [
          "Termination: ('C_P6/mmm_2', 'Ni_R-3m_1')<br>Termination index: 0<br>Interfaces Index Range: 27203-27205<br>Strain: 0.37%<br>Atoms: 243"
         ],
         "x": [
          0.367
         ],
         "y": [
          243
         ],
         "type": "scatter"
        },
        {
         "hoverinfo": "text",
         "mode": "markers",
         "name": "Indices: 27206-27211",
         "text": [
          "Termination: ('C_P6/mmm_2', 'Ni_R-3m_1')<br>Termination index: 0<br>Interfaces Index Range: 27206-27211<br>Strain: 0.37%<br>Atoms: 282"
         ],
         "x": [
          0.367
         ],
         "y": [
          282
         ],
         "type": "scatter"
        },
        {
         "hoverinfo": "text",
         "mode": "markers",
         "name": "Indices: 27212-27223",
         "text": [
          "Termination: ('C_P6/mmm_2', 'Ni_R-3m_1')<br>Termination index: 0<br>Interfaces Index Range: 27212-27223<br>Strain: 0.37%<br>Atoms: 366"
         ],
         "x": [
          0.367
         ],
         "y": [
          366
         ],
         "type": "scatter"
        },
        {
         "hoverinfo": "text",
         "mode": "markers",
         "name": "Indices: 27224-27229",
         "text": [
          "Termination: ('C_P6/mmm_2', 'Ni_R-3m_1')<br>Termination index: 0<br>Interfaces Index Range: 27224-27229<br>Strain: 0.37%<br>Atoms: 311"
         ],
         "x": [
          0.368
         ],
         "y": [
          311
         ],
         "type": "scatter"
        },
        {
         "hoverinfo": "text",
         "mode": "markers",
         "name": "Indices: 27230-27232",
         "text": [
          "Termination: ('C_P6/mmm_2', 'Ni_R-3m_1')<br>Termination index: 0<br>Interfaces Index Range: 27230-27232<br>Strain: 0.37%<br>Atoms: 282"
         ],
         "x": [
          0.369
         ],
         "y": [
          282
         ],
         "type": "scatter"
        },
        {
         "hoverinfo": "text",
         "mode": "markers",
         "name": "Indices: 27233-27244",
         "text": [
          "Termination: ('C_P6/mmm_2', 'Ni_R-3m_1')<br>Termination index: 0<br>Interfaces Index Range: 27233-27244<br>Strain: 0.37%<br>Atoms: 342"
         ],
         "x": [
          0.369
         ],
         "y": [
          342
         ],
         "type": "scatter"
        },
        {
         "hoverinfo": "text",
         "mode": "markers",
         "name": "Indices: 27245-27256",
         "text": [
          "Termination: ('C_P6/mmm_2', 'Ni_R-3m_1')<br>Termination index: 0<br>Interfaces Index Range: 27245-27256<br>Strain: 0.37%<br>Atoms: 362"
         ],
         "x": [
          0.369
         ],
         "y": [
          362
         ],
         "type": "scatter"
        },
        {
         "hoverinfo": "text",
         "mode": "markers",
         "name": "Indices: 27257-27268",
         "text": [
          "Termination: ('C_P6/mmm_2', 'Ni_R-3m_1')<br>Termination index: 0<br>Interfaces Index Range: 27257-27268<br>Strain: 0.37%<br>Atoms: 352"
         ],
         "x": [
          0.37
         ],
         "y": [
          352
         ],
         "type": "scatter"
        },
        {
         "hoverinfo": "text",
         "mode": "markers",
         "name": "Indices: 27269-27280",
         "text": [
          "Termination: ('C_P6/mmm_2', 'Ni_R-3m_1')<br>Termination index: 0<br>Interfaces Index Range: 27269-27280<br>Strain: 0.37%<br>Atoms: 202"
         ],
         "x": [
          0.372
         ],
         "y": [
          202
         ],
         "type": "scatter"
        },
        {
         "hoverinfo": "text",
         "mode": "markers",
         "name": "Indices: 27281-27283",
         "text": [
          "Termination: ('C_P6/mmm_2', 'Ni_R-3m_1')<br>Termination index: 0<br>Interfaces Index Range: 27281-27283<br>Strain: 0.37%<br>Atoms: 277"
         ],
         "x": [
          0.372
         ],
         "y": [
          277
         ],
         "type": "scatter"
        },
        {
         "hoverinfo": "text",
         "mode": "markers",
         "name": "Indices: 27284-27289",
         "text": [
          "Termination: ('C_P6/mmm_2', 'Ni_R-3m_1')<br>Termination index: 0<br>Interfaces Index Range: 27284-27289<br>Strain: 0.37%<br>Atoms: 278"
         ],
         "x": [
          0.372
         ],
         "y": [
          278
         ],
         "type": "scatter"
        },
        {
         "hoverinfo": "text",
         "mode": "markers",
         "name": "Indices: 27290-27301",
         "text": [
          "Termination: ('C_P6/mmm_2', 'Ni_R-3m_1')<br>Termination index: 0<br>Interfaces Index Range: 27290-27301<br>Strain: 0.37%<br>Atoms: 273"
         ],
         "x": [
          0.373
         ],
         "y": [
          273
         ],
         "type": "scatter"
        },
        {
         "hoverinfo": "text",
         "mode": "markers",
         "name": "Indices: 27302-27304",
         "text": [
          "Termination: ('C_P6/mmm_2', 'Ni_R-3m_1')<br>Termination index: 0<br>Interfaces Index Range: 27302-27304<br>Strain: 0.37%<br>Atoms: 238"
         ],
         "x": [
          0.374
         ],
         "y": [
          238
         ],
         "type": "scatter"
        },
        {
         "hoverinfo": "text",
         "mode": "markers",
         "name": "Indices: 27305-27307",
         "text": [
          "Termination: ('C_P6/mmm_2', 'Ni_R-3m_1')<br>Termination index: 0<br>Interfaces Index Range: 27305-27307<br>Strain: 0.37%<br>Atoms: 277"
         ],
         "x": [
          0.374
         ],
         "y": [
          277
         ],
         "type": "scatter"
        },
        {
         "hoverinfo": "text",
         "mode": "markers",
         "name": "Indices: 27308-27310",
         "text": [
          "Termination: ('C_P6/mmm_2', 'Ni_R-3m_1')<br>Termination index: 0<br>Interfaces Index Range: 27308-27310<br>Strain: 0.38%<br>Atoms: 238"
         ],
         "x": [
          0.37500000000000006
         ],
         "y": [
          238
         ],
         "type": "scatter"
        },
        {
         "hoverinfo": "text",
         "mode": "markers",
         "name": "Indices: 27311-27322",
         "text": [
          "Termination: ('C_P6/mmm_2', 'Ni_R-3m_1')<br>Termination index: 0<br>Interfaces Index Range: 27311-27322<br>Strain: 0.38%<br>Atoms: 268"
         ],
         "x": [
          0.37700000000000006
         ],
         "y": [
          268
         ],
         "type": "scatter"
        },
        {
         "hoverinfo": "text",
         "mode": "markers",
         "name": "Indices: 27323-27328",
         "text": [
          "Termination: ('C_P6/mmm_2', 'Ni_R-3m_1')<br>Termination index: 0<br>Interfaces Index Range: 27323-27328<br>Strain: 0.38%<br>Atoms: 272"
         ],
         "x": [
          0.37800000000000006
         ],
         "y": [
          272
         ],
         "type": "scatter"
        },
        {
         "hoverinfo": "text",
         "mode": "markers",
         "name": "Indices: 27329-27340",
         "text": [
          "Termination: ('C_P6/mmm_2', 'Ni_R-3m_1')<br>Termination index: 0<br>Interfaces Index Range: 27329-27340<br>Strain: 0.38%<br>Atoms: 352"
         ],
         "x": [
          0.37800000000000006
         ],
         "y": [
          352
         ],
         "type": "scatter"
        },
        {
         "hoverinfo": "text",
         "mode": "markers",
         "name": "Indices: 27341-27343",
         "text": [
          "Termination: ('C_P6/mmm_2', 'Ni_R-3m_1')<br>Termination index: 0<br>Interfaces Index Range: 27341-27343<br>Strain: 0.38%<br>Atoms: 272"
         ],
         "x": [
          0.38000000000000006
         ],
         "y": [
          272
         ],
         "type": "scatter"
        },
        {
         "hoverinfo": "text",
         "mode": "markers",
         "name": "Indices: 27344-27349",
         "text": [
          "Termination: ('C_P6/mmm_2', 'Ni_R-3m_1')<br>Termination index: 0<br>Interfaces Index Range: 27344-27349<br>Strain: 0.38%<br>Atoms: 273"
         ],
         "x": [
          0.38000000000000006
         ],
         "y": [
          273
         ],
         "type": "scatter"
        },
        {
         "hoverinfo": "text",
         "mode": "markers",
         "name": "Indices: 27350-27361",
         "text": [
          "Termination: ('C_P6/mmm_2', 'Ni_R-3m_1')<br>Termination index: 0<br>Interfaces Index Range: 27350-27361<br>Strain: 0.38%<br>Atoms: 367"
         ],
         "x": [
          0.38000000000000006
         ],
         "y": [
          367
         ],
         "type": "scatter"
        },
        {
         "hoverinfo": "text",
         "mode": "markers",
         "name": "Indices: 27362-27373",
         "text": [
          "Termination: ('C_P6/mmm_2', 'Ni_R-3m_1')<br>Termination index: 0<br>Interfaces Index Range: 27362-27373<br>Strain: 0.38%<br>Atoms: 344"
         ],
         "x": [
          0.38100000000000006
         ],
         "y": [
          344
         ],
         "type": "scatter"
        },
        {
         "hoverinfo": "text",
         "mode": "markers",
         "name": "Indices: 27374-27385",
         "text": [
          "Termination: ('C_P6/mmm_2', 'Ni_R-3m_1')<br>Termination index: 0<br>Interfaces Index Range: 27374-27385<br>Strain: 0.38%<br>Atoms: 357"
         ],
         "x": [
          0.38100000000000006
         ],
         "y": [
          357
         ],
         "type": "scatter"
        },
        {
         "hoverinfo": "text",
         "mode": "markers",
         "name": "Indices: 27386-27388",
         "text": [
          "Termination: ('C_P6/mmm_2', 'Ni_R-3m_1')<br>Termination index: 0<br>Interfaces Index Range: 27386-27388<br>Strain: 0.38%<br>Atoms: 233"
         ],
         "x": [
          0.38200000000000006
         ],
         "y": [
          233
         ],
         "type": "scatter"
        },
        {
         "hoverinfo": "text",
         "mode": "markers",
         "name": "Indices: 27389-27394",
         "text": [
          "Termination: ('C_P6/mmm_2', 'Ni_R-3m_1')<br>Termination index: 0<br>Interfaces Index Range: 27389-27394<br>Strain: 0.38%<br>Atoms: 267"
         ],
         "x": [
          0.38400000000000006
         ],
         "y": [
          267
         ],
         "type": "scatter"
        },
        {
         "hoverinfo": "text",
         "mode": "markers",
         "name": "Indices: 27395-27397",
         "text": [
          "Termination: ('C_P6/mmm_2', 'Ni_R-3m_1')<br>Termination index: 0<br>Interfaces Index Range: 27395-27397<br>Strain: 0.39%<br>Atoms: 267"
         ],
         "x": [
          0.386
         ],
         "y": [
          267
         ],
         "type": "scatter"
        },
        {
         "hoverinfo": "text",
         "mode": "markers",
         "name": "Indices: 27398-27409",
         "text": [
          "Termination: ('C_P6/mmm_2', 'Ni_R-3m_1')<br>Termination index: 0<br>Interfaces Index Range: 27398-27409<br>Strain: 0.39%<br>Atoms: 322"
         ],
         "x": [
          0.386
         ],
         "y": [
          322
         ],
         "type": "scatter"
        },
        {
         "hoverinfo": "text",
         "mode": "markers",
         "name": "Indices: 27410-27421",
         "text": [
          "Termination: ('C_P6/mmm_2', 'Ni_R-3m_1')<br>Termination index: 0<br>Interfaces Index Range: 27410-27421<br>Strain: 0.39%<br>Atoms: 357"
         ],
         "x": [
          0.386
         ],
         "y": [
          357
         ],
         "type": "scatter"
        },
        {
         "hoverinfo": "text",
         "mode": "markers",
         "name": "Indices: 27422-27427",
         "text": [
          "Termination: ('C_P6/mmm_2', 'Ni_R-3m_1')<br>Termination index: 0<br>Interfaces Index Range: 27422-27427<br>Strain: 0.39%<br>Atoms: 268"
         ],
         "x": [
          0.388
         ],
         "y": [
          268
         ],
         "type": "scatter"
        },
        {
         "hoverinfo": "text",
         "mode": "markers",
         "name": "Indices: 27428-27431",
         "text": [
          "Termination: ('C_P6/mmm_2', 'Ni_R-3m_1')<br>Termination index: 0<br>Interfaces Index Range: 27428-27431<br>Strain: 0.39%<br>Atoms: 374"
         ],
         "x": [
          0.388
         ],
         "y": [
          374
         ],
         "type": "scatter"
        },
        {
         "hoverinfo": "text",
         "mode": "markers",
         "name": "Indices: 27432-27443",
         "text": [
          "Termination: ('C_P6/mmm_2', 'Ni_R-3m_1')<br>Termination index: 0<br>Interfaces Index Range: 27432-27443<br>Strain: 0.39%<br>Atoms: 238"
         ],
         "x": [
          0.389
         ],
         "y": [
          238
         ],
         "type": "scatter"
        },
        {
         "hoverinfo": "text",
         "mode": "markers",
         "name": "Indices: 27444-27449",
         "text": [
          "Termination: ('C_P6/mmm_2', 'Ni_R-3m_1')<br>Termination index: 0<br>Interfaces Index Range: 27444-27449<br>Strain: 0.39%<br>Atoms: 262"
         ],
         "x": [
          0.389
         ],
         "y": [
          262
         ],
         "type": "scatter"
        },
        {
         "hoverinfo": "text",
         "mode": "markers",
         "name": "Indices: 27450-27461",
         "text": [
          "Termination: ('C_P6/mmm_2', 'Ni_R-3m_1')<br>Termination index: 0<br>Interfaces Index Range: 27450-27461<br>Strain: 0.39%<br>Atoms: 352"
         ],
         "x": [
          0.389
         ],
         "y": [
          352
         ],
         "type": "scatter"
        },
        {
         "hoverinfo": "text",
         "mode": "markers",
         "name": "Indices: 27462-27473",
         "text": [
          "Termination: ('C_P6/mmm_2', 'Ni_R-3m_1')<br>Termination index: 0<br>Interfaces Index Range: 27462-27473<br>Strain: 0.39%<br>Atoms: 198"
         ],
         "x": [
          0.391
         ],
         "y": [
          198
         ],
         "type": "scatter"
        },
        {
         "hoverinfo": "text",
         "mode": "markers",
         "name": "Indices: 27474-27476",
         "text": [
          "Termination: ('C_P6/mmm_2', 'Ni_R-3m_1')<br>Termination index: 0<br>Interfaces Index Range: 27474-27476<br>Strain: 0.39%<br>Atoms: 228"
         ],
         "x": [
          0.391
         ],
         "y": [
          228
         ],
         "type": "scatter"
        },
        {
         "hoverinfo": "text",
         "mode": "markers",
         "name": "Indices: 27477-27488",
         "text": [
          "Termination: ('C_P6/mmm_2', 'Ni_R-3m_1')<br>Termination index: 0<br>Interfaces Index Range: 27477-27488<br>Strain: 0.39%<br>Atoms: 297"
         ],
         "x": [
          0.391
         ],
         "y": [
          297
         ],
         "type": "scatter"
        },
        {
         "hoverinfo": "text",
         "mode": "markers",
         "name": "Indices: 27489-27491",
         "text": [
          "Termination: ('C_P6/mmm_2', 'Ni_R-3m_1')<br>Termination index: 0<br>Interfaces Index Range: 27489-27491<br>Strain: 0.39%<br>Atoms: 262"
         ],
         "x": [
          0.39200000000000007
         ],
         "y": [
          262
         ],
         "type": "scatter"
        },
        {
         "hoverinfo": "text",
         "mode": "markers",
         "name": "Indices: 27492-27503",
         "text": [
          "Termination: ('C_P6/mmm_2', 'Ni_R-3m_1')<br>Termination index: 0<br>Interfaces Index Range: 27492-27503<br>Strain: 0.39%<br>Atoms: 276"
         ],
         "x": [
          0.39200000000000007
         ],
         "y": [
          276
         ],
         "type": "scatter"
        },
        {
         "hoverinfo": "text",
         "mode": "markers",
         "name": "Indices: 27504-27515",
         "text": [
          "Termination: ('C_P6/mmm_2', 'Ni_R-3m_1')<br>Termination index: 0<br>Interfaces Index Range: 27504-27515<br>Strain: 0.39%<br>Atoms: 342"
         ],
         "x": [
          0.394
         ],
         "y": [
          342
         ],
         "type": "scatter"
        },
        {
         "hoverinfo": "text",
         "mode": "markers",
         "name": "Indices: 27516-27527",
         "text": [
          "Termination: ('C_P6/mmm_2', 'Ni_R-3m_1')<br>Termination index: 0<br>Interfaces Index Range: 27516-27527<br>Strain: 0.40%<br>Atoms: 373"
         ],
         "x": [
          0.395
         ],
         "y": [
          373
         ],
         "type": "scatter"
        },
        {
         "hoverinfo": "text",
         "mode": "markers",
         "name": "Indices: 27528-27533",
         "text": [
          "Termination: ('C_P6/mmm_2', 'Ni_R-3m_1')<br>Termination index: 0<br>Interfaces Index Range: 27528-27533<br>Strain: 0.40%<br>Atoms: 257"
         ],
         "x": [
          0.396
         ],
         "y": [
          257
         ],
         "type": "scatter"
        },
        {
         "hoverinfo": "text",
         "mode": "markers",
         "name": "Indices: 27534-27545",
         "text": [
          "Termination: ('C_P6/mmm_2', 'Ni_R-3m_1')<br>Termination index: 0<br>Interfaces Index Range: 27534-27545<br>Strain: 0.40%<br>Atoms: 287"
         ],
         "x": [
          0.396
         ],
         "y": [
          287
         ],
         "type": "scatter"
        },
        {
         "hoverinfo": "text",
         "mode": "markers",
         "name": "Indices: 27546-27557",
         "text": [
          "Termination: ('C_P6/mmm_2', 'Ni_R-3m_1')<br>Termination index: 0<br>Interfaces Index Range: 27546-27557<br>Strain: 0.40%<br>Atoms: 297"
         ],
         "x": [
          0.396
         ],
         "y": [
          297
         ],
         "type": "scatter"
        },
        {
         "hoverinfo": "text",
         "mode": "markers",
         "name": "Indices: 27558-27569",
         "text": [
          "Termination: ('C_P6/mmm_2', 'Ni_R-3m_1')<br>Termination index: 0<br>Interfaces Index Range: 27558-27569<br>Strain: 0.40%<br>Atoms: 347"
         ],
         "x": [
          0.396
         ],
         "y": [
          347
         ],
         "type": "scatter"
        },
        {
         "hoverinfo": "text",
         "mode": "markers",
         "name": "Indices: 27570-27581",
         "text": [
          "Termination: ('C_P6/mmm_2', 'Ni_R-3m_1')<br>Termination index: 0<br>Interfaces Index Range: 27570-27581<br>Strain: 0.40%<br>Atoms: 352"
         ],
         "x": [
          0.396
         ],
         "y": [
          352
         ],
         "type": "scatter"
        },
        {
         "hoverinfo": "text",
         "mode": "markers",
         "name": "Indices: 27582-27587",
         "text": [
          "Termination: ('C_P6/mmm_2', 'Ni_R-3m_1')<br>Termination index: 0<br>Interfaces Index Range: 27582-27587<br>Strain: 0.40%<br>Atoms: 263"
         ],
         "x": [
          0.397
         ],
         "y": [
          263
         ],
         "type": "scatter"
        },
        {
         "hoverinfo": "text",
         "mode": "markers",
         "name": "Indices: 27588-27599",
         "text": [
          "Termination: ('C_P6/mmm_2', 'Ni_R-3m_1')<br>Termination index: 0<br>Interfaces Index Range: 27588-27599<br>Strain: 0.40%<br>Atoms: 253"
         ],
         "x": [
          0.398
         ],
         "y": [
          253
         ],
         "type": "scatter"
        },
        {
         "hoverinfo": "text",
         "mode": "markers",
         "name": "Indices: 27600-27602",
         "text": [
          "Termination: ('C_P6/mmm_2', 'Ni_R-3m_1')<br>Termination index: 0<br>Interfaces Index Range: 27600-27602<br>Strain: 0.40%<br>Atoms: 257"
         ],
         "x": [
          0.398
         ],
         "y": [
          257
         ],
         "type": "scatter"
        },
        {
         "hoverinfo": "text",
         "mode": "markers",
         "name": "Indices: 27603-27605",
         "text": [
          "Termination: ('C_P6/mmm_2', 'Ni_R-3m_1')<br>Termination index: 0<br>Interfaces Index Range: 27603-27605<br>Strain: 0.40%<br>Atoms: 352"
         ],
         "x": [
          0.398
         ],
         "y": [
          352
         ],
         "type": "scatter"
        },
        {
         "hoverinfo": "text",
         "mode": "markers",
         "name": "Indices: 27606-27617",
         "text": [
          "Termination: ('C_P6/mmm_2', 'Ni_R-3m_1')<br>Termination index: 0<br>Interfaces Index Range: 27606-27617<br>Strain: 0.40%<br>Atoms: 371"
         ],
         "x": [
          0.399
         ],
         "y": [
          371
         ],
         "type": "scatter"
        },
        {
         "hoverinfo": "text",
         "mode": "markers",
         "name": "Indices: 27618-27620",
         "text": [
          "Termination: ('C_P6/mmm_2', 'Ni_R-3m_1')<br>Termination index: 0<br>Interfaces Index Range: 27618-27620<br>Strain: 0.40%<br>Atoms: 223"
         ],
         "x": [
          0.4
         ],
         "y": [
          223
         ],
         "type": "scatter"
        },
        {
         "hoverinfo": "text",
         "mode": "markers",
         "name": "Indices: 27621-27632",
         "text": [
          "Termination: ('C_P6/mmm_2', 'Ni_R-3m_1')<br>Termination index: 0<br>Interfaces Index Range: 27621-27632<br>Strain: 0.40%<br>Atoms: 369"
         ],
         "x": [
          0.4
         ],
         "y": [
          369
         ],
         "type": "scatter"
        },
        {
         "hoverinfo": "text",
         "mode": "markers",
         "name": "Indices: 27633-27644",
         "text": [
          "Termination: ('C_P6/mmm_2', 'Ni_R-3m_1')<br>Termination index: 0<br>Interfaces Index Range: 27633-27644<br>Strain: 0.40%<br>Atoms: 197"
         ],
         "x": [
          0.4010000000000001
         ],
         "y": [
          197
         ],
         "type": "scatter"
        },
        {
         "hoverinfo": "text",
         "mode": "markers",
         "name": "Indices: 27645-27656",
         "text": [
          "Termination: ('C_P6/mmm_2', 'Ni_R-3m_1')<br>Termination index: 0<br>Interfaces Index Range: 27645-27656<br>Strain: 0.40%<br>Atoms: 258"
         ],
         "x": [
          0.4010000000000001
         ],
         "y": [
          258
         ],
         "type": "scatter"
        },
        {
         "hoverinfo": "text",
         "mode": "markers",
         "name": "Indices: 27657-27659",
         "text": [
          "Termination: ('C_P6/mmm_2', 'Ni_R-3m_1')<br>Termination index: 0<br>Interfaces Index Range: 27657-27659<br>Strain: 0.40%<br>Atoms: 252"
         ],
         "x": [
          0.402
         ],
         "y": [
          252
         ],
         "type": "scatter"
        },
        {
         "hoverinfo": "text",
         "mode": "markers",
         "name": "Indices: 27660-27671",
         "text": [
          "Termination: ('C_P6/mmm_2', 'Ni_R-3m_1')<br>Termination index: 0<br>Interfaces Index Range: 27660-27671<br>Strain: 0.40%<br>Atoms: 307"
         ],
         "x": [
          0.4030000000000001
         ],
         "y": [
          307
         ],
         "type": "scatter"
        },
        {
         "hoverinfo": "text",
         "mode": "markers",
         "name": "Indices: 27672-27674",
         "text": [
          "Termination: ('C_P6/mmm_2', 'Ni_R-3m_1')<br>Termination index: 0<br>Interfaces Index Range: 27672-27674<br>Strain: 0.40%<br>Atoms: 252"
         ],
         "x": [
          0.404
         ],
         "y": [
          252
         ],
         "type": "scatter"
        },
        {
         "hoverinfo": "text",
         "mode": "markers",
         "name": "Indices: 27675-27698",
         "text": [
          "Termination: ('C_P6/mmm_2', 'Ni_R-3m_1')<br>Termination index: 0<br>Interfaces Index Range: 27675-27698<br>Strain: 0.40%<br>Atoms: 369"
         ],
         "x": [
          0.404
         ],
         "y": [
          369
         ],
         "type": "scatter"
        },
        {
         "hoverinfo": "text",
         "mode": "markers",
         "name": "Indices: 27699-27701",
         "text": [
          "Termination: ('C_P6/mmm_2', 'Ni_R-3m_1')<br>Termination index: 0<br>Interfaces Index Range: 27699-27701<br>Strain: 0.41%<br>Atoms: 258"
         ],
         "x": [
          0.406
         ],
         "y": [
          258
         ],
         "type": "scatter"
        },
        {
         "hoverinfo": "text",
         "mode": "markers",
         "name": "Indices: 27702-27704",
         "text": [
          "Termination: ('C_P6/mmm_2', 'Ni_R-3m_1')<br>Termination index: 0<br>Interfaces Index Range: 27702-27704<br>Strain: 0.41%<br>Atoms: 342"
         ],
         "x": [
          0.40800000000000003
         ],
         "y": [
          342
         ],
         "type": "scatter"
        },
        {
         "hoverinfo": "text",
         "mode": "markers",
         "name": "Indices: 27705-27716",
         "text": [
          "Termination: ('C_P6/mmm_2', 'Ni_R-3m_1')<br>Termination index: 0<br>Interfaces Index Range: 27705-27716<br>Strain: 0.41%<br>Atoms: 183"
         ],
         "x": [
          0.4090000000000001
         ],
         "y": [
          183
         ],
         "type": "scatter"
        },
        {
         "hoverinfo": "text",
         "mode": "markers",
         "name": "Indices: 27717-27719",
         "text": [
          "Termination: ('C_P6/mmm_2', 'Ni_R-3m_1')<br>Termination index: 0<br>Interfaces Index Range: 27717-27719<br>Strain: 0.41%<br>Atoms: 218"
         ],
         "x": [
          0.4090000000000001
         ],
         "y": [
          218
         ],
         "type": "scatter"
        },
        {
         "hoverinfo": "text",
         "mode": "markers",
         "name": "Indices: 27720-27725",
         "text": [
          "Termination: ('C_P6/mmm_2', 'Ni_R-3m_1')<br>Termination index: 0<br>Interfaces Index Range: 27720-27725<br>Strain: 0.41%<br>Atoms: 247"
         ],
         "x": [
          0.4090000000000001
         ],
         "y": [
          247
         ],
         "type": "scatter"
        },
        {
         "hoverinfo": "text",
         "mode": "markers",
         "name": "Indices: 27726-27749",
         "text": [
          "Termination: ('C_P6/mmm_2', 'Ni_R-3m_1')<br>Termination index: 0<br>Interfaces Index Range: 27726-27749<br>Strain: 0.41%<br>Atoms: 366"
         ],
         "x": [
          0.4090000000000001
         ],
         "y": [
          366
         ],
         "type": "scatter"
        },
        {
         "hoverinfo": "text",
         "mode": "markers",
         "name": "Indices: 27750-27752",
         "text": [
          "Termination: ('C_P6/mmm_2', 'Ni_R-3m_1')<br>Termination index: 0<br>Interfaces Index Range: 27750-27752<br>Strain: 0.41%<br>Atoms: 218"
         ],
         "x": [
          0.411
         ],
         "y": [
          218
         ],
         "type": "scatter"
        },
        {
         "hoverinfo": "text",
         "mode": "markers",
         "name": "Indices: 27753-27755",
         "text": [
          "Termination: ('C_P6/mmm_2', 'Ni_R-3m_1')<br>Termination index: 0<br>Interfaces Index Range: 27753-27755<br>Strain: 0.41%<br>Atoms: 247"
         ],
         "x": [
          0.411
         ],
         "y": [
          247
         ],
         "type": "scatter"
        },
        {
         "hoverinfo": "text",
         "mode": "markers",
         "name": "Indices: 27756-27758",
         "text": [
          "Termination: ('C_P6/mmm_2', 'Ni_R-3m_1')<br>Termination index: 0<br>Interfaces Index Range: 27756-27758<br>Strain: 0.41%<br>Atoms: 242"
         ],
         "x": [
          0.415
         ],
         "y": [
          242
         ],
         "type": "scatter"
        },
        {
         "hoverinfo": "text",
         "mode": "markers",
         "name": "Indices: 27759-27770",
         "text": [
          "Termination: ('C_P6/mmm_2', 'Ni_R-3m_1')<br>Termination index: 0<br>Interfaces Index Range: 27759-27770<br>Strain: 0.41%<br>Atoms: 322"
         ],
         "x": [
          0.415
         ],
         "y": [
          322
         ],
         "type": "scatter"
        },
        {
         "hoverinfo": "text",
         "mode": "markers",
         "name": "Indices: 27771-27776",
         "text": [
          "Termination: ('C_P6/mmm_2', 'Ni_R-3m_1')<br>Termination index: 0<br>Interfaces Index Range: 27771-27776<br>Strain: 0.42%<br>Atoms: 253"
         ],
         "x": [
          0.41600000000000004
         ],
         "y": [
          253
         ],
         "type": "scatter"
        },
        {
         "hoverinfo": "text",
         "mode": "markers",
         "name": "Indices: 27777-27788",
         "text": [
          "Termination: ('C_P6/mmm_2', 'Ni_R-3m_1')<br>Termination index: 0<br>Interfaces Index Range: 27777-27788<br>Strain: 0.42%<br>Atoms: 302"
         ],
         "x": [
          0.41600000000000004
         ],
         "y": [
          302
         ],
         "type": "scatter"
        },
        {
         "hoverinfo": "text",
         "mode": "markers",
         "name": "Indices: 27789-27792",
         "text": [
          "Termination: ('C_P6/mmm_2', 'Ni_R-3m_1')<br>Termination index: 0<br>Interfaces Index Range: 27789-27792<br>Strain: 0.42%<br>Atoms: 309"
         ],
         "x": [
          0.41600000000000004
         ],
         "y": [
          309
         ],
         "type": "scatter"
        },
        {
         "hoverinfo": "text",
         "mode": "markers",
         "name": "Indices: 27793-27798",
         "text": [
          "Termination: ('C_P6/mmm_2', 'Ni_R-3m_1')<br>Termination index: 0<br>Interfaces Index Range: 27793-27798<br>Strain: 0.42%<br>Atoms: 203"
         ],
         "x": [
          0.41700000000000004
         ],
         "y": [
          203
         ],
         "type": "scatter"
        },
        {
         "hoverinfo": "text",
         "mode": "markers",
         "name": "Indices: 27799-27801",
         "text": [
          "Termination: ('C_P6/mmm_2', 'Ni_R-3m_1')<br>Termination index: 0<br>Interfaces Index Range: 27799-27801<br>Strain: 0.42%<br>Atoms: 242"
         ],
         "x": [
          0.41800000000000004
         ],
         "y": [
          242
         ],
         "type": "scatter"
        },
        {
         "hoverinfo": "text",
         "mode": "markers",
         "name": "Indices: 27802-27804",
         "text": [
          "Termination: ('C_P6/mmm_2', 'Ni_R-3m_1')<br>Termination index: 0<br>Interfaces Index Range: 27802-27804<br>Strain: 0.42%<br>Atoms: 332"
         ],
         "x": [
          0.41800000000000004
         ],
         "y": [
          332
         ],
         "type": "scatter"
        },
        {
         "hoverinfo": "text",
         "mode": "markers",
         "name": "Indices: 27805-27807",
         "text": [
          "Termination: ('C_P6/mmm_2', 'Ni_R-3m_1')<br>Termination index: 0<br>Interfaces Index Range: 27805-27807<br>Strain: 0.42%<br>Atoms: 213"
         ],
         "x": [
          0.41900000000000004
         ],
         "y": [
          213
         ],
         "type": "scatter"
        },
        {
         "hoverinfo": "text",
         "mode": "markers",
         "name": "Indices: 27808-27819",
         "text": [
          "Termination: ('C_P6/mmm_2', 'Ni_R-3m_1')<br>Termination index: 0<br>Interfaces Index Range: 27808-27819<br>Strain: 0.42%<br>Atoms: 306"
         ],
         "x": [
          0.41900000000000004
         ],
         "y": [
          306
         ],
         "type": "scatter"
        },
        {
         "hoverinfo": "text",
         "mode": "markers",
         "name": "Indices: 27820-27831",
         "text": [
          "Termination: ('C_P6/mmm_2', 'Ni_R-3m_1')<br>Termination index: 0<br>Interfaces Index Range: 27820-27831<br>Strain: 0.42%<br>Atoms: 364"
         ],
         "x": [
          0.41900000000000004
         ],
         "y": [
          364
         ],
         "type": "scatter"
        },
        {
         "hoverinfo": "text",
         "mode": "markers",
         "name": "Indices: 27832-27834",
         "text": [
          "Termination: ('C_P6/mmm_2', 'Ni_R-3m_1')<br>Termination index: 0<br>Interfaces Index Range: 27832-27834<br>Strain: 0.42%<br>Atoms: 213"
         ],
         "x": [
          0.42100000000000004
         ],
         "y": [
          213
         ],
         "type": "scatter"
        },
        {
         "hoverinfo": "text",
         "mode": "markers",
         "name": "Indices: 27835-27846",
         "text": [
          "Termination: ('C_P6/mmm_2', 'Ni_R-3m_1')<br>Termination index: 0<br>Interfaces Index Range: 27835-27846<br>Strain: 0.42%<br>Atoms: 373"
         ],
         "x": [
          0.42100000000000004
         ],
         "y": [
          373
         ],
         "type": "scatter"
        },
        {
         "hoverinfo": "text",
         "mode": "markers",
         "name": "Indices: 27847-27858",
         "text": [
          "Termination: ('C_P6/mmm_2', 'Ni_R-3m_1')<br>Termination index: 0<br>Interfaces Index Range: 27847-27858<br>Strain: 0.42%<br>Atoms: 272"
         ],
         "x": [
          0.42200000000000004
         ],
         "y": [
          272
         ],
         "type": "scatter"
        },
        {
         "hoverinfo": "text",
         "mode": "markers",
         "name": "Indices: 27859-27864",
         "text": [
          "Termination: ('C_P6/mmm_2', 'Ni_R-3m_1')<br>Termination index: 0<br>Interfaces Index Range: 27859-27864<br>Strain: 0.42%<br>Atoms: 327"
         ],
         "x": [
          0.42200000000000004
         ],
         "y": [
          327
         ],
         "type": "scatter"
        },
        {
         "hoverinfo": "text",
         "mode": "markers",
         "name": "Indices: 27865-27888",
         "text": [
          "Termination: ('C_P6/mmm_2', 'Ni_R-3m_1')<br>Termination index: 0<br>Interfaces Index Range: 27865-27888<br>Strain: 0.42%<br>Atoms: 351"
         ],
         "x": [
          0.42200000000000004
         ],
         "y": [
          351
         ],
         "type": "scatter"
        },
        {
         "hoverinfo": "text",
         "mode": "markers",
         "name": "Indices: 27889-27891",
         "text": [
          "Termination: ('C_P6/mmm_2', 'Ni_R-3m_1')<br>Termination index: 0<br>Interfaces Index Range: 27889-27891<br>Strain: 0.42%<br>Atoms: 237"
         ],
         "x": [
          0.42300000000000004
         ],
         "y": [
          237
         ],
         "type": "scatter"
        },
        {
         "hoverinfo": "text",
         "mode": "markers",
         "name": "Indices: 27892-27903",
         "text": [
          "Termination: ('C_P6/mmm_2', 'Ni_R-3m_1')<br>Termination index: 0<br>Interfaces Index Range: 27892-27903<br>Strain: 0.42%<br>Atoms: 287"
         ],
         "x": [
          0.42400000000000004
         ],
         "y": [
          287
         ],
         "type": "scatter"
        },
        {
         "hoverinfo": "text",
         "mode": "markers",
         "name": "Indices: 27904-27906",
         "text": [
          "Termination: ('C_P6/mmm_2', 'Ni_R-3m_1')<br>Termination index: 0<br>Interfaces Index Range: 27904-27906<br>Strain: 0.43%<br>Atoms: 237"
         ],
         "x": [
          0.42500000000000004
         ],
         "y": [
          237
         ],
         "type": "scatter"
        },
        {
         "hoverinfo": "text",
         "mode": "markers",
         "name": "Indices: 27907-27918",
         "text": [
          "Termination: ('C_P6/mmm_2', 'Ni_R-3m_1')<br>Termination index: 0<br>Interfaces Index Range: 27907-27918<br>Strain: 0.43%<br>Atoms: 346"
         ],
         "x": [
          0.42500000000000004
         ],
         "y": [
          346
         ],
         "type": "scatter"
        },
        {
         "hoverinfo": "text",
         "mode": "markers",
         "name": "Indices: 27919-27921",
         "text": [
          "Termination: ('C_P6/mmm_2', 'Ni_R-3m_1')<br>Termination index: 0<br>Interfaces Index Range: 27919-27921<br>Strain: 0.43%<br>Atoms: 248"
         ],
         "x": [
          0.4260000000000001
         ],
         "y": [
          248
         ],
         "type": "scatter"
        },
        {
         "hoverinfo": "text",
         "mode": "markers",
         "name": "Indices: 27922-27933",
         "text": [
          "Termination: ('C_P6/mmm_2', 'Ni_R-3m_1')<br>Termination index: 0<br>Interfaces Index Range: 27922-27933<br>Strain: 0.43%<br>Atoms: 346"
         ],
         "x": [
          0.4260000000000001
         ],
         "y": [
          346
         ],
         "type": "scatter"
        },
        {
         "hoverinfo": "text",
         "mode": "markers",
         "name": "Indices: 27934-27945",
         "text": [
          "Termination: ('C_P6/mmm_2', 'Ni_R-3m_1')<br>Termination index: 0<br>Interfaces Index Range: 27934-27945<br>Strain: 0.43%<br>Atoms: 238"
         ],
         "x": [
          0.42700000000000005
         ],
         "y": [
          238
         ],
         "type": "scatter"
        },
        {
         "hoverinfo": "text",
         "mode": "markers",
         "name": "Indices: 27946-27957",
         "text": [
          "Termination: ('C_P6/mmm_2', 'Ni_R-3m_1')<br>Termination index: 0<br>Interfaces Index Range: 27946-27957<br>Strain: 0.43%<br>Atoms: 297"
         ],
         "x": [
          0.42700000000000005
         ],
         "y": [
          297
         ],
         "type": "scatter"
        },
        {
         "hoverinfo": "text",
         "mode": "markers",
         "name": "Indices: 27958-27960",
         "text": [
          "Termination: ('C_P6/mmm_2', 'Ni_R-3m_1')<br>Termination index: 0<br>Interfaces Index Range: 27958-27960<br>Strain: 0.43%<br>Atoms: 322"
         ],
         "x": [
          0.428
         ],
         "y": [
          322
         ],
         "type": "scatter"
        },
        {
         "hoverinfo": "text",
         "mode": "markers",
         "name": "Indices: 27961-27963",
         "text": [
          "Termination: ('C_P6/mmm_2', 'Ni_R-3m_1')<br>Termination index: 0<br>Interfaces Index Range: 27961-27963<br>Strain: 0.43%<br>Atoms: 208"
         ],
         "x": [
          0.42900000000000005
         ],
         "y": [
          208
         ],
         "type": "scatter"
        },
        {
         "hoverinfo": "text",
         "mode": "markers",
         "name": "Indices: 27964-27975",
         "text": [
          "Termination: ('C_P6/mmm_2', 'Ni_R-3m_1')<br>Termination index: 0<br>Interfaces Index Range: 27964-27975<br>Strain: 0.43%<br>Atoms: 218"
         ],
         "x": [
          0.43
         ],
         "y": [
          218
         ],
         "type": "scatter"
        },
        {
         "hoverinfo": "text",
         "mode": "markers",
         "name": "Indices: 27976-27978",
         "text": [
          "Termination: ('C_P6/mmm_2', 'Ni_R-3m_1')<br>Termination index: 0<br>Interfaces Index Range: 27976-27978<br>Strain: 0.43%<br>Atoms: 232"
         ],
         "x": [
          0.43
         ],
         "y": [
          232
         ],
         "type": "scatter"
        },
        {
         "hoverinfo": "text",
         "mode": "markers",
         "name": "Indices: 27979-27990",
         "text": [
          "Termination: ('C_P6/mmm_2', 'Ni_R-3m_1')<br>Termination index: 0<br>Interfaces Index Range: 27979-27990<br>Strain: 0.43%<br>Atoms: 302"
         ],
         "x": [
          0.43100000000000005
         ],
         "y": [
          302
         ],
         "type": "scatter"
        },
        {
         "hoverinfo": "text",
         "mode": "markers",
         "name": "Indices: 27991-28002",
         "text": [
          "Termination: ('C_P6/mmm_2', 'Ni_R-3m_1')<br>Termination index: 0<br>Interfaces Index Range: 27991-28002<br>Strain: 0.43%<br>Atoms: 307"
         ],
         "x": [
          0.43100000000000005
         ],
         "y": [
          307
         ],
         "type": "scatter"
        },
        {
         "hoverinfo": "text",
         "mode": "markers",
         "name": "Indices: 28003-28005",
         "text": [
          "Termination: ('C_P6/mmm_2', 'Ni_R-3m_1')<br>Termination index: 0<br>Interfaces Index Range: 28003-28005<br>Strain: 0.43%<br>Atoms: 232"
         ],
         "x": [
          0.43300000000000005
         ],
         "y": [
          232
         ],
         "type": "scatter"
        },
        {
         "hoverinfo": "text",
         "mode": "markers",
         "name": "Indices: 28006-28017",
         "text": [
          "Termination: ('C_P6/mmm_2', 'Ni_R-3m_1')<br>Termination index: 0<br>Interfaces Index Range: 28006-28017<br>Strain: 0.43%<br>Atoms: 297"
         ],
         "x": [
          0.434
         ],
         "y": [
          297
         ],
         "type": "scatter"
        },
        {
         "hoverinfo": "text",
         "mode": "markers",
         "name": "Indices: 28018-28029",
         "text": [
          "Termination: ('C_P6/mmm_2', 'Ni_R-3m_1')<br>Termination index: 0<br>Interfaces Index Range: 28018-28029<br>Strain: 0.44%<br>Atoms: 356"
         ],
         "x": [
          0.43500000000000005
         ],
         "y": [
          356
         ],
         "type": "scatter"
        },
        {
         "hoverinfo": "text",
         "mode": "markers",
         "name": "Indices: 28030-28041",
         "text": [
          "Termination: ('C_P6/mmm_2', 'Ni_R-3m_1')<br>Termination index: 0<br>Interfaces Index Range: 28030-28041<br>Strain: 0.44%<br>Atoms: 223"
         ],
         "x": [
          0.436
         ],
         "y": [
          223
         ],
         "type": "scatter"
        },
        {
         "hoverinfo": "text",
         "mode": "markers",
         "name": "Indices: 28042-28044",
         "text": [
          "Termination: ('C_P6/mmm_2', 'Ni_R-3m_1')<br>Termination index: 0<br>Interfaces Index Range: 28042-28044<br>Strain: 0.44%<br>Atoms: 243"
         ],
         "x": [
          0.436
         ],
         "y": [
          243
         ],
         "type": "scatter"
        },
        {
         "hoverinfo": "text",
         "mode": "markers",
         "name": "Indices: 28045-28056",
         "text": [
          "Termination: ('C_P6/mmm_2', 'Ni_R-3m_1')<br>Termination index: 0<br>Interfaces Index Range: 28045-28056<br>Strain: 0.44%<br>Atoms: 257"
         ],
         "x": [
          0.436
         ],
         "y": [
          257
         ],
         "type": "scatter"
        },
        {
         "hoverinfo": "text",
         "mode": "markers",
         "name": "Indices: 28057-28062",
         "text": [
          "Termination: ('C_P6/mmm_2', 'Ni_R-3m_1')<br>Termination index: 0<br>Interfaces Index Range: 28057-28062<br>Strain: 0.44%<br>Atoms: 227"
         ],
         "x": [
          0.438
         ],
         "y": [
          227
         ],
         "type": "scatter"
        },
        {
         "hoverinfo": "text",
         "mode": "markers",
         "name": "Indices: 28063-28074",
         "text": [
          "Termination: ('C_P6/mmm_2', 'Ni_R-3m_1')<br>Termination index: 0<br>Interfaces Index Range: 28063-28074<br>Strain: 0.44%<br>Atoms: 287"
         ],
         "x": [
          0.438
         ],
         "y": [
          287
         ],
         "type": "scatter"
        },
        {
         "hoverinfo": "text",
         "mode": "markers",
         "name": "Indices: 28075-28077",
         "text": [
          "Termination: ('C_P6/mmm_2', 'Ni_R-3m_1')<br>Termination index: 0<br>Interfaces Index Range: 28075-28077<br>Strain: 0.44%<br>Atoms: 203"
         ],
         "x": [
          0.44
         ],
         "y": [
          203
         ],
         "type": "scatter"
        },
        {
         "hoverinfo": "text",
         "mode": "markers",
         "name": "Indices: 28078-28089",
         "text": [
          "Termination: ('C_P6/mmm_2', 'Ni_R-3m_1')<br>Termination index: 0<br>Interfaces Index Range: 28078-28089<br>Strain: 0.44%<br>Atoms: 267"
         ],
         "x": [
          0.44
         ],
         "y": [
          267
         ],
         "type": "scatter"
        },
        {
         "hoverinfo": "text",
         "mode": "markers",
         "name": "Indices: 28090-28092",
         "text": [
          "Termination: ('C_P6/mmm_2', 'Ni_R-3m_1')<br>Termination index: 0<br>Interfaces Index Range: 28090-28092<br>Strain: 0.44%<br>Atoms: 312"
         ],
         "x": [
          0.44
         ],
         "y": [
          312
         ],
         "type": "scatter"
        },
        {
         "hoverinfo": "text",
         "mode": "markers",
         "name": "Indices: 28093-28104",
         "text": [
          "Termination: ('C_P6/mmm_2', 'Ni_R-3m_1')<br>Termination index: 0<br>Interfaces Index Range: 28093-28104<br>Strain: 0.44%<br>Atoms: 354"
         ],
         "x": [
          0.44
         ],
         "y": [
          354
         ],
         "type": "scatter"
        },
        {
         "hoverinfo": "text",
         "mode": "markers",
         "name": "Indices: 28105-28110",
         "text": [
          "Termination: ('C_P6/mmm_2', 'Ni_R-3m_1')<br>Termination index: 0<br>Interfaces Index Range: 28105-28110<br>Strain: 0.44%<br>Atoms: 202"
         ],
         "x": [
          0.44100000000000006
         ],
         "y": [
          202
         ],
         "type": "scatter"
        },
        {
         "hoverinfo": "text",
         "mode": "markers",
         "name": "Indices: 28111-28113",
         "text": [
          "Termination: ('C_P6/mmm_2', 'Ni_R-3m_1')<br>Termination index: 0<br>Interfaces Index Range: 28111-28113<br>Strain: 0.44%<br>Atoms: 227"
         ],
         "x": [
          0.44100000000000006
         ],
         "y": [
          227
         ],
         "type": "scatter"
        },
        {
         "hoverinfo": "text",
         "mode": "markers",
         "name": "Indices: 28114-28116",
         "text": [
          "Termination: ('C_P6/mmm_2', 'Ni_R-3m_1')<br>Termination index: 0<br>Interfaces Index Range: 28114-28116<br>Strain: 0.44%<br>Atoms: 203"
         ],
         "x": [
          0.44200000000000006
         ],
         "y": [
          203
         ],
         "type": "scatter"
        },
        {
         "hoverinfo": "text",
         "mode": "markers",
         "name": "Indices: 28117-28128",
         "text": [
          "Termination: ('C_P6/mmm_2', 'Ni_R-3m_1')<br>Termination index: 0<br>Interfaces Index Range: 28117-28128<br>Strain: 0.44%<br>Atoms: 336"
         ],
         "x": [
          0.44200000000000006
         ],
         "y": [
          336
         ],
         "type": "scatter"
        },
        {
         "hoverinfo": "text",
         "mode": "markers",
         "name": "Indices: 28129-28140",
         "text": [
          "Termination: ('C_P6/mmm_2', 'Ni_R-3m_1')<br>Termination index: 0<br>Interfaces Index Range: 28129-28140<br>Strain: 0.44%<br>Atoms: 372"
         ],
         "x": [
          0.44400000000000006
         ],
         "y": [
          372
         ],
         "type": "scatter"
        },
        {
         "hoverinfo": "text",
         "mode": "markers",
         "name": "Indices: 28141-28152",
         "text": [
          "Termination: ('C_P6/mmm_2', 'Ni_R-3m_1')<br>Termination index: 0<br>Interfaces Index Range: 28141-28152<br>Strain: 0.45%<br>Atoms: 272"
         ],
         "x": [
          0.445
         ],
         "y": [
          272
         ],
         "type": "scatter"
        },
        {
         "hoverinfo": "text",
         "mode": "markers",
         "name": "Indices: 28153-28158",
         "text": [
          "Termination: ('C_P6/mmm_2', 'Ni_R-3m_1')<br>Termination index: 0<br>Interfaces Index Range: 28153-28158<br>Strain: 0.45%<br>Atoms: 222"
         ],
         "x": [
          0.44600000000000006
         ],
         "y": [
          222
         ],
         "type": "scatter"
        },
        {
         "hoverinfo": "text",
         "mode": "markers",
         "name": "Indices: 28159-28161",
         "text": [
          "Termination: ('C_P6/mmm_2', 'Ni_R-3m_1')<br>Termination index: 0<br>Interfaces Index Range: 28159-28161<br>Strain: 0.45%<br>Atoms: 238"
         ],
         "x": [
          0.447
         ],
         "y": [
          238
         ],
         "type": "scatter"
        },
        {
         "hoverinfo": "text",
         "mode": "markers",
         "name": "Indices: 28162-28173",
         "text": [
          "Termination: ('C_P6/mmm_2', 'Ni_R-3m_1')<br>Termination index: 0<br>Interfaces Index Range: 28162-28173<br>Strain: 0.45%<br>Atoms: 287"
         ],
         "x": [
          0.447
         ],
         "y": [
          287
         ],
         "type": "scatter"
        },
        {
         "hoverinfo": "text",
         "mode": "markers",
         "name": "Indices: 28174-28176",
         "text": [
          "Termination: ('C_P6/mmm_2', 'Ni_R-3m_1')<br>Termination index: 0<br>Interfaces Index Range: 28174-28176<br>Strain: 0.45%<br>Atoms: 222"
         ],
         "x": [
          0.449
         ],
         "y": [
          222
         ],
         "type": "scatter"
        },
        {
         "hoverinfo": "text",
         "mode": "markers",
         "name": "Indices: 28177-28188",
         "text": [
          "Termination: ('C_P6/mmm_2', 'Ni_R-3m_1')<br>Termination index: 0<br>Interfaces Index Range: 28177-28188<br>Strain: 0.45%<br>Atoms: 223"
         ],
         "x": [
          0.449
         ],
         "y": [
          223
         ],
         "type": "scatter"
        },
        {
         "hoverinfo": "text",
         "mode": "markers",
         "name": "Indices: 28189-28200",
         "text": [
          "Termination: ('C_P6/mmm_2', 'Ni_R-3m_1')<br>Termination index: 0<br>Interfaces Index Range: 28189-28200<br>Strain: 0.45%<br>Atoms: 336"
         ],
         "x": [
          0.45000000000000007
         ],
         "y": [
          336
         ],
         "type": "scatter"
        },
        {
         "hoverinfo": "text",
         "mode": "markers",
         "name": "Indices: 28201-28212",
         "text": [
          "Termination: ('C_P6/mmm_2', 'Ni_R-3m_1')<br>Termination index: 0<br>Interfaces Index Range: 28201-28212<br>Strain: 0.45%<br>Atoms: 297"
         ],
         "x": [
          0.451
         ],
         "y": [
          297
         ],
         "type": "scatter"
        },
        {
         "hoverinfo": "text",
         "mode": "markers",
         "name": "Indices: 28213-28224",
         "text": [
          "Termination: ('C_P6/mmm_2', 'Ni_R-3m_1')<br>Termination index: 0<br>Interfaces Index Range: 28213-28224<br>Strain: 0.45%<br>Atoms: 344"
         ],
         "x": [
          0.451
         ],
         "y": [
          344
         ],
         "type": "scatter"
        },
        {
         "hoverinfo": "text",
         "mode": "markers",
         "name": "Indices: 28225-28227",
         "text": [
          "Termination: ('C_P6/mmm_2', 'Ni_R-3m_1')<br>Termination index: 0<br>Interfaces Index Range: 28225-28227<br>Strain: 0.45%<br>Atoms: 198"
         ],
         "x": [
          0.45200000000000007
         ],
         "y": [
          198
         ],
         "type": "scatter"
        },
        {
         "hoverinfo": "text",
         "mode": "markers",
         "name": "Indices: 28228-28230",
         "text": [
          "Termination: ('C_P6/mmm_2', 'Ni_R-3m_1')<br>Termination index: 0<br>Interfaces Index Range: 28228-28230<br>Strain: 0.45%<br>Atoms: 302"
         ],
         "x": [
          0.45200000000000007
         ],
         "y": [
          302
         ],
         "type": "scatter"
        },
        {
         "hoverinfo": "text",
         "mode": "markers",
         "name": "Indices: 28231-28232",
         "text": [
          "Termination: ('C_P6/mmm_2', 'Ni_R-3m_1')<br>Termination index: 0<br>Interfaces Index Range: 28231-28232<br>Strain: 0.45%<br>Atoms: 329"
         ],
         "x": [
          0.45200000000000007
         ],
         "y": [
          329
         ],
         "type": "scatter"
        },
        {
         "hoverinfo": "text",
         "mode": "markers",
         "name": "Indices: 28233-28235",
         "text": [
          "Termination: ('C_P6/mmm_2', 'Ni_R-3m_1')<br>Termination index: 0<br>Interfaces Index Range: 28233-28235<br>Strain: 0.45%<br>Atoms: 198"
         ],
         "x": [
          0.453
         ],
         "y": [
          198
         ],
         "type": "scatter"
        },
        {
         "hoverinfo": "text",
         "mode": "markers",
         "name": "Indices: 28236-28247",
         "text": [
          "Termination: ('C_P6/mmm_2', 'Ni_R-3m_1')<br>Termination index: 0<br>Interfaces Index Range: 28236-28247<br>Strain: 0.45%<br>Atoms: 297"
         ],
         "x": [
          0.453
         ],
         "y": [
          297
         ],
         "type": "scatter"
        },
        {
         "hoverinfo": "text",
         "mode": "markers",
         "name": "Indices: 28248-28253",
         "text": [
          "Termination: ('C_P6/mmm_2', 'Ni_R-3m_1')<br>Termination index: 0<br>Interfaces Index Range: 28248-28253<br>Strain: 0.45%<br>Atoms: 203"
         ],
         "x": [
          0.45400000000000007
         ],
         "y": [
          203
         ],
         "type": "scatter"
        },
        {
         "hoverinfo": "text",
         "mode": "markers",
         "name": "Indices: 28254-28259",
         "text": [
          "Termination: ('C_P6/mmm_2', 'Ni_R-3m_1')<br>Termination index: 0<br>Interfaces Index Range: 28254-28259<br>Strain: 0.45%<br>Atoms: 217"
         ],
         "x": [
          0.45400000000000007
         ],
         "y": [
          217
         ],
         "type": "scatter"
        },
        {
         "hoverinfo": "text",
         "mode": "markers",
         "name": "Indices: 28260-28271",
         "text": [
          "Termination: ('C_P6/mmm_2', 'Ni_R-3m_1')<br>Termination index: 0<br>Interfaces Index Range: 28260-28271<br>Strain: 0.45%<br>Atoms: 339"
         ],
         "x": [
          0.45400000000000007
         ],
         "y": [
          339
         ],
         "type": "scatter"
        },
        {
         "hoverinfo": "text",
         "mode": "markers",
         "name": "Indices: 28272-28283",
         "text": [
          "Termination: ('C_P6/mmm_2', 'Ni_R-3m_1')<br>Termination index: 0<br>Interfaces Index Range: 28272-28283<br>Strain: 0.46%<br>Atoms: 266"
         ],
         "x": [
          0.45600000000000007
         ],
         "y": [
          266
         ],
         "type": "scatter"
        },
        {
         "hoverinfo": "text",
         "mode": "markers",
         "name": "Indices: 28284-28295",
         "text": [
          "Termination: ('C_P6/mmm_2', 'Ni_R-3m_1')<br>Termination index: 0<br>Interfaces Index Range: 28284-28295<br>Strain: 0.46%<br>Atoms: 287"
         ],
         "x": [
          0.457
         ],
         "y": [
          287
         ],
         "type": "scatter"
        },
        {
         "hoverinfo": "text",
         "mode": "markers",
         "name": "Indices: 28296-28298",
         "text": [
          "Termination: ('C_P6/mmm_2', 'Ni_R-3m_1')<br>Termination index: 0<br>Interfaces Index Range: 28296-28298<br>Strain: 0.46%<br>Atoms: 217"
         ],
         "x": [
          0.4580000000000001
         ],
         "y": [
          217
         ],
         "type": "scatter"
        },
        {
         "hoverinfo": "text",
         "mode": "markers",
         "name": "Indices: 28299-28304",
         "text": [
          "Termination: ('C_P6/mmm_2', 'Ni_R-3m_1')<br>Termination index: 0<br>Interfaces Index Range: 28299-28304<br>Strain: 0.46%<br>Atoms: 233"
         ],
         "x": [
          0.4580000000000001
         ],
         "y": [
          233
         ],
         "type": "scatter"
        },
        {
         "hoverinfo": "text",
         "mode": "markers",
         "name": "Indices: 28305-28316",
         "text": [
          "Termination: ('C_P6/mmm_2', 'Ni_R-3m_1')<br>Termination index: 0<br>Interfaces Index Range: 28305-28316<br>Strain: 0.46%<br>Atoms: 178"
         ],
         "x": [
          0.459
         ],
         "y": [
          178
         ],
         "type": "scatter"
        },
        {
         "hoverinfo": "text",
         "mode": "markers",
         "name": "Indices: 28317-28340",
         "text": [
          "Termination: ('C_P6/mmm_2', 'Ni_R-3m_1')<br>Termination index: 0<br>Interfaces Index Range: 28317-28340<br>Strain: 0.46%<br>Atoms: 356"
         ],
         "x": [
          0.459
         ],
         "y": [
          356
         ],
         "type": "scatter"
        },
        {
         "hoverinfo": "text",
         "mode": "markers",
         "name": "Indices: 28341-28342",
         "text": [
          "Termination: ('C_P6/mmm_2', 'Ni_R-3m_1')<br>Termination index: 0<br>Interfaces Index Range: 28341-28342<br>Strain: 0.46%<br>Atoms: 137"
         ],
         "x": [
          0.4600000000000001
         ],
         "y": [
          137
         ],
         "type": "scatter"
        },
        {
         "hoverinfo": "text",
         "mode": "markers",
         "name": "Indices: 28343-28360",
         "text": [
          "Termination: ('C_P6/mmm_2', 'Ni_R-3m_1')<br>Termination index: 0<br>Interfaces Index Range: 28343-28360<br>Strain: 0.46%<br>Atoms: 274"
         ],
         "x": [
          0.4600000000000001
         ],
         "y": [
          274
         ],
         "type": "scatter"
        },
        {
         "hoverinfo": "text",
         "mode": "markers",
         "name": "Indices: 28361-28384",
         "text": [
          "Termination: ('C_P6/mmm_2', 'Ni_R-3m_1')<br>Termination index: 0<br>Interfaces Index Range: 28361-28384<br>Strain: 0.46%<br>Atoms: 351"
         ],
         "x": [
          0.4600000000000001
         ],
         "y": [
          351
         ],
         "type": "scatter"
        },
        {
         "hoverinfo": "text",
         "mode": "markers",
         "name": "Indices: 28385-28387",
         "text": [
          "Termination: ('C_P6/mmm_2', 'Ni_R-3m_1')<br>Termination index: 0<br>Interfaces Index Range: 28385-28387<br>Strain: 0.46%<br>Atoms: 212"
         ],
         "x": [
          0.463
         ],
         "y": [
          212
         ],
         "type": "scatter"
        },
        {
         "hoverinfo": "text",
         "mode": "markers",
         "name": "Indices: 28388-28399",
         "text": [
          "Termination: ('C_P6/mmm_2', 'Ni_R-3m_1')<br>Termination index: 0<br>Interfaces Index Range: 28388-28399<br>Strain: 0.46%<br>Atoms: 311"
         ],
         "x": [
          0.463
         ],
         "y": [
          311
         ],
         "type": "scatter"
        },
        {
         "hoverinfo": "text",
         "mode": "markers",
         "name": "Indices: 28400-28402",
         "text": [
          "Termination: ('C_P6/mmm_2', 'Ni_R-3m_1')<br>Termination index: 0<br>Interfaces Index Range: 28400-28402<br>Strain: 0.46%<br>Atoms: 193"
         ],
         "x": [
          0.464
         ],
         "y": [
          193
         ],
         "type": "scatter"
        },
        {
         "hoverinfo": "text",
         "mode": "markers",
         "name": "Indices: 28403-28408",
         "text": [
          "Termination: ('C_P6/mmm_2', 'Ni_R-3m_1')<br>Termination index: 0<br>Interfaces Index Range: 28403-28408<br>Strain: 0.47%<br>Atoms: 193"
         ],
         "x": [
          0.465
         ],
         "y": [
          193
         ],
         "type": "scatter"
        },
        {
         "hoverinfo": "text",
         "mode": "markers",
         "name": "Indices: 28409-28411",
         "text": [
          "Termination: ('C_P6/mmm_2', 'Ni_R-3m_1')<br>Termination index: 0<br>Interfaces Index Range: 28409-28411<br>Strain: 0.47%<br>Atoms: 212"
         ],
         "x": [
          0.4670000000000001
         ],
         "y": [
          212
         ],
         "type": "scatter"
        },
        {
         "hoverinfo": "text",
         "mode": "markers",
         "name": "Indices: 28412-28423",
         "text": [
          "Termination: ('C_P6/mmm_2', 'Ni_R-3m_1')<br>Termination index: 0<br>Interfaces Index Range: 28412-28423<br>Strain: 0.47%<br>Atoms: 287"
         ],
         "x": [
          0.468
         ],
         "y": [
          287
         ],
         "type": "scatter"
        },
        {
         "hoverinfo": "text",
         "mode": "markers",
         "name": "Indices: 28424-28435",
         "text": [
          "Termination: ('C_P6/mmm_2', 'Ni_R-3m_1')<br>Termination index: 0<br>Interfaces Index Range: 28424-28435<br>Strain: 0.47%<br>Atoms: 198"
         ],
         "x": [
          0.47000000000000003
         ],
         "y": [
          198
         ],
         "type": "scatter"
        },
        {
         "hoverinfo": "text",
         "mode": "markers",
         "name": "Indices: 28436-28447",
         "text": [
          "Termination: ('C_P6/mmm_2', 'Ni_R-3m_1')<br>Termination index: 0<br>Interfaces Index Range: 28436-28447<br>Strain: 0.47%<br>Atoms: 203"
         ],
         "x": [
          0.47000000000000003
         ],
         "y": [
          203
         ],
         "type": "scatter"
        },
        {
         "hoverinfo": "text",
         "mode": "markers",
         "name": "Indices: 28448-28453",
         "text": [
          "Termination: ('C_P6/mmm_2', 'Ni_R-3m_1')<br>Termination index: 0<br>Interfaces Index Range: 28448-28453<br>Strain: 0.47%<br>Atoms: 228"
         ],
         "x": [
          0.47000000000000003
         ],
         "y": [
          228
         ],
         "type": "scatter"
        },
        {
         "hoverinfo": "text",
         "mode": "markers",
         "name": "Indices: 28454-28477",
         "text": [
          "Termination: ('C_P6/mmm_2', 'Ni_R-3m_1')<br>Termination index: 0<br>Interfaces Index Range: 28454-28477<br>Strain: 0.47%<br>Atoms: 316"
         ],
         "x": [
          0.4710000000000001
         ],
         "y": [
          316
         ],
         "type": "scatter"
        },
        {
         "hoverinfo": "text",
         "mode": "markers",
         "name": "Indices: 28478-28480",
         "text": [
          "Termination: ('C_P6/mmm_2', 'Ni_R-3m_1')<br>Termination index: 0<br>Interfaces Index Range: 28478-28480<br>Strain: 0.47%<br>Atoms: 287"
         ],
         "x": [
          0.47200000000000003
         ],
         "y": [
          287
         ],
         "type": "scatter"
        },
        {
         "hoverinfo": "text",
         "mode": "markers",
         "name": "Indices: 28481-28483",
         "text": [
          "Termination: ('C_P6/mmm_2', 'Ni_R-3m_1')<br>Termination index: 0<br>Interfaces Index Range: 28481-28483<br>Strain: 0.47%<br>Atoms: 207"
         ],
         "x": [
          0.4730000000000001
         ],
         "y": [
          207
         ],
         "type": "scatter"
        },
        {
         "hoverinfo": "text",
         "mode": "markers",
         "name": "Indices: 28484-28495",
         "text": [
          "Termination: ('C_P6/mmm_2', 'Ni_R-3m_1')<br>Termination index: 0<br>Interfaces Index Range: 28484-28495<br>Strain: 0.47%<br>Atoms: 252"
         ],
         "x": [
          0.4730000000000001
         ],
         "y": [
          252
         ],
         "type": "scatter"
        },
        {
         "hoverinfo": "text",
         "mode": "markers",
         "name": "Indices: 28496-28519",
         "text": [
          "Termination: ('C_P6/mmm_2', 'Ni_R-3m_1')<br>Termination index: 0<br>Interfaces Index Range: 28496-28519<br>Strain: 0.47%<br>Atoms: 326"
         ],
         "x": [
          0.47400000000000003
         ],
         "y": [
          326
         ],
         "type": "scatter"
        },
        {
         "hoverinfo": "text",
         "mode": "markers",
         "name": "Indices: 28520-28531",
         "text": [
          "Termination: ('C_P6/mmm_2', 'Ni_R-3m_1')<br>Termination index: 0<br>Interfaces Index Range: 28520-28531<br>Strain: 0.47%<br>Atoms: 336"
         ],
         "x": [
          0.47400000000000003
         ],
         "y": [
          336
         ],
         "type": "scatter"
        },
        {
         "hoverinfo": "text",
         "mode": "markers",
         "name": "Indices: 28532-28543",
         "text": [
          "Termination: ('C_P6/mmm_2', 'Ni_R-3m_1')<br>Termination index: 0<br>Interfaces Index Range: 28532-28543<br>Strain: 0.47%<br>Atoms: 359"
         ],
         "x": [
          0.47400000000000003
         ],
         "y": [
          359
         ],
         "type": "scatter"
        },
        {
         "hoverinfo": "text",
         "mode": "markers",
         "name": "Indices: 28544-28555",
         "text": [
          "Termination: ('C_P6/mmm_2', 'Ni_R-3m_1')<br>Termination index: 0<br>Interfaces Index Range: 28544-28555<br>Strain: 0.48%<br>Atoms: 218"
         ],
         "x": [
          0.4750000000000001
         ],
         "y": [
          218
         ],
         "type": "scatter"
        },
        {
         "hoverinfo": "text",
         "mode": "markers",
         "name": "Indices: 28556-28558",
         "text": [
          "Termination: ('C_P6/mmm_2', 'Ni_R-3m_1')<br>Termination index: 0<br>Interfaces Index Range: 28556-28558<br>Strain: 0.48%<br>Atoms: 207"
         ],
         "x": [
          0.47600000000000003
         ],
         "y": [
          207
         ],
         "type": "scatter"
        },
        {
         "hoverinfo": "text",
         "mode": "markers",
         "name": "Indices: 28559-28570",
         "text": [
          "Termination: ('C_P6/mmm_2', 'Ni_R-3m_1')<br>Termination index: 0<br>Interfaces Index Range: 28559-28570<br>Strain: 0.48%<br>Atoms: 354"
         ],
         "x": [
          0.47600000000000003
         ],
         "y": [
          354
         ],
         "type": "scatter"
        },
        {
         "hoverinfo": "text",
         "mode": "markers",
         "name": "Indices: 28571-28576",
         "text": [
          "Termination: ('C_P6/mmm_2', 'Ni_R-3m_1')<br>Termination index: 0<br>Interfaces Index Range: 28571-28576<br>Strain: 0.48%<br>Atoms: 376"
         ],
         "x": [
          0.47600000000000003
         ],
         "y": [
          376
         ],
         "type": "scatter"
        },
        {
         "hoverinfo": "text",
         "mode": "markers",
         "name": "Indices: 28577-28588",
         "text": [
          "Termination: ('C_P6/mmm_2', 'Ni_R-3m_1')<br>Termination index: 0<br>Interfaces Index Range: 28577-28588<br>Strain: 0.48%<br>Atoms: 272"
         ],
         "x": [
          0.4770000000000001
         ],
         "y": [
          272
         ],
         "type": "scatter"
        },
        {
         "hoverinfo": "text",
         "mode": "markers",
         "name": "Indices: 28589-28590",
         "text": [
          "Termination: ('C_P6/mmm_2', 'Ni_R-3m_1')<br>Termination index: 0<br>Interfaces Index Range: 28589-28590<br>Strain: 0.48%<br>Atoms: 314"
         ],
         "x": [
          0.47800000000000004
         ],
         "y": [
          314
         ],
         "type": "scatter"
        },
        {
         "hoverinfo": "text",
         "mode": "markers",
         "name": "Indices: 28591-28602",
         "text": [
          "Termination: ('C_P6/mmm_2', 'Ni_R-3m_1')<br>Termination index: 0<br>Interfaces Index Range: 28591-28602<br>Strain: 0.48%<br>Atoms: 366"
         ],
         "x": [
          0.47800000000000004
         ],
         "y": [
          366
         ],
         "type": "scatter"
        },
        {
         "hoverinfo": "text",
         "mode": "markers",
         "name": "Indices: 28603-28626",
         "text": [
          "Termination: ('C_P6/mmm_2', 'Ni_R-3m_1')<br>Termination index: 0<br>Interfaces Index Range: 28603-28626<br>Strain: 0.48%<br>Atoms: 371"
         ],
         "x": [
          0.47800000000000004
         ],
         "y": [
          371
         ],
         "type": "scatter"
        },
        {
         "hoverinfo": "text",
         "mode": "markers",
         "name": "Indices: 28627-28638",
         "text": [
          "Termination: ('C_P6/mmm_2', 'Ni_R-3m_1')<br>Termination index: 0<br>Interfaces Index Range: 28627-28638<br>Strain: 0.48%<br>Atoms: 372"
         ],
         "x": [
          0.47800000000000004
         ],
         "y": [
          372
         ],
         "type": "scatter"
        },
        {
         "hoverinfo": "text",
         "mode": "markers",
         "name": "Indices: 28639-28644",
         "text": [
          "Termination: ('C_P6/mmm_2', 'Ni_R-3m_1')<br>Termination index: 0<br>Interfaces Index Range: 28639-28644<br>Strain: 0.48%<br>Atoms: 376"
         ],
         "x": [
          0.47800000000000004
         ],
         "y": [
          376
         ],
         "type": "scatter"
        },
        {
         "hoverinfo": "text",
         "mode": "markers",
         "name": "Indices: 28645-28668",
         "text": [
          "Termination: ('C_P6/mmm_2', 'Ni_R-3m_1')<br>Termination index: 0<br>Interfaces Index Range: 28645-28668<br>Strain: 0.48%<br>Atoms: 270"
         ],
         "x": [
          0.48000000000000004
         ],
         "y": [
          270
         ],
         "type": "scatter"
        },
        {
         "hoverinfo": "text",
         "mode": "markers",
         "name": "Indices: 28669-28674",
         "text": [
          "Termination: ('C_P6/mmm_2', 'Ni_R-3m_1')<br>Termination index: 0<br>Interfaces Index Range: 28669-28674<br>Strain: 0.48%<br>Atoms: 202"
         ],
         "x": [
          0.48200000000000004
         ],
         "y": [
          202
         ],
         "type": "scatter"
        },
        {
         "hoverinfo": "text",
         "mode": "markers",
         "name": "Indices: 28675-28680",
         "text": [
          "Termination: ('C_P6/mmm_2', 'Ni_R-3m_1')<br>Termination index: 0<br>Interfaces Index Range: 28675-28680<br>Strain: 0.48%<br>Atoms: 223"
         ],
         "x": [
          0.48200000000000004
         ],
         "y": [
          223
         ],
         "type": "scatter"
        },
        {
         "hoverinfo": "text",
         "mode": "markers",
         "name": "Indices: 28681-28704",
         "text": [
          "Termination: ('C_P6/mmm_2', 'Ni_R-3m_1')<br>Termination index: 0<br>Interfaces Index Range: 28681-28704<br>Strain: 0.48%<br>Atoms: 326"
         ],
         "x": [
          0.483
         ],
         "y": [
          326
         ],
         "type": "scatter"
        },
        {
         "hoverinfo": "text",
         "mode": "markers",
         "name": "Indices: 28705-28707",
         "text": [
          "Termination: ('C_P6/mmm_2', 'Ni_R-3m_1')<br>Termination index: 0<br>Interfaces Index Range: 28705-28707<br>Strain: 0.49%<br>Atoms: 202"
         ],
         "x": [
          0.48600000000000004
         ],
         "y": [
          202
         ],
         "type": "scatter"
        },
        {
         "hoverinfo": "text",
         "mode": "markers",
         "name": "Indices: 28708-28710",
         "text": [
          "Termination: ('C_P6/mmm_2', 'Ni_R-3m_1')<br>Termination index: 0<br>Interfaces Index Range: 28708-28710<br>Strain: 0.49%<br>Atoms: 277"
         ],
         "x": [
          0.48600000000000004
         ],
         "y": [
          277
         ],
         "type": "scatter"
        },
        {
         "hoverinfo": "text",
         "mode": "markers",
         "name": "Indices: 28711-28722",
         "text": [
          "Termination: ('C_P6/mmm_2', 'Ni_R-3m_1')<br>Termination index: 0<br>Interfaces Index Range: 28711-28722<br>Strain: 0.49%<br>Atoms: 272"
         ],
         "x": [
          0.48700000000000004
         ],
         "y": [
          272
         ],
         "type": "scatter"
        },
        {
         "hoverinfo": "text",
         "mode": "markers",
         "name": "Indices: 28723-28734",
         "text": [
          "Termination: ('C_P6/mmm_2', 'Ni_R-3m_1')<br>Termination index: 0<br>Interfaces Index Range: 28723-28734<br>Strain: 0.49%<br>Atoms: 282"
         ],
         "x": [
          0.48700000000000004
         ],
         "y": [
          282
         ],
         "type": "scatter"
        },
        {
         "hoverinfo": "text",
         "mode": "markers",
         "name": "Indices: 28735-28746",
         "text": [
          "Termination: ('C_P6/mmm_2', 'Ni_R-3m_1')<br>Termination index: 0<br>Interfaces Index Range: 28735-28746<br>Strain: 0.49%<br>Atoms: 347"
         ],
         "x": [
          0.48800000000000004
         ],
         "y": [
          347
         ],
         "type": "scatter"
        },
        {
         "hoverinfo": "text",
         "mode": "markers",
         "name": "Indices: 28747-28749",
         "text": [
          "Termination: ('C_P6/mmm_2', 'Ni_R-3m_1')<br>Termination index: 0<br>Interfaces Index Range: 28747-28749<br>Strain: 0.49%<br>Atoms: 183"
         ],
         "x": [
          0.49000000000000005
         ],
         "y": [
          183
         ],
         "type": "scatter"
        },
        {
         "hoverinfo": "text",
         "mode": "markers",
         "name": "Indices: 28750-28755",
         "text": [
          "Termination: ('C_P6/mmm_2', 'Ni_R-3m_1')<br>Termination index: 0<br>Interfaces Index Range: 28750-28755<br>Strain: 0.49%<br>Atoms: 366"
         ],
         "x": [
          0.49000000000000005
         ],
         "y": [
          366
         ],
         "type": "scatter"
        },
        {
         "hoverinfo": "text",
         "mode": "markers",
         "name": "Indices: 28756-28767",
         "text": [
          "Termination: ('C_P6/mmm_2', 'Ni_R-3m_1')<br>Termination index: 0<br>Interfaces Index Range: 28756-28767<br>Strain: 0.49%<br>Atoms: 267"
         ],
         "x": [
          0.49100000000000005
         ],
         "y": [
          267
         ],
         "type": "scatter"
        },
        {
         "hoverinfo": "text",
         "mode": "markers",
         "name": "Indices: 28768-28773",
         "text": [
          "Termination: ('C_P6/mmm_2', 'Ni_R-3m_1')<br>Termination index: 0<br>Interfaces Index Range: 28768-28773<br>Strain: 0.49%<br>Atoms: 183"
         ],
         "x": [
          0.4920000000000001
         ],
         "y": [
          183
         ],
         "type": "scatter"
        },
        {
         "hoverinfo": "text",
         "mode": "markers",
         "name": "Indices: 28774-28785",
         "text": [
          "Termination: ('C_P6/mmm_2', 'Ni_R-3m_1')<br>Termination index: 0<br>Interfaces Index Range: 28774-28785<br>Strain: 0.49%<br>Atoms: 351"
         ],
         "x": [
          0.4920000000000001
         ],
         "y": [
          351
         ],
         "type": "scatter"
        },
        {
         "hoverinfo": "text",
         "mode": "markers",
         "name": "Indices: 28786-28791",
         "text": [
          "Termination: ('C_P6/mmm_2', 'Ni_R-3m_1')<br>Termination index: 0<br>Interfaces Index Range: 28786-28791<br>Strain: 0.49%<br>Atoms: 366"
         ],
         "x": [
          0.4920000000000001
         ],
         "y": [
          366
         ],
         "type": "scatter"
        },
        {
         "hoverinfo": "text",
         "mode": "markers",
         "name": "Indices: 28792-28794",
         "text": [
          "Termination: ('C_P6/mmm_2', 'Ni_R-3m_1')<br>Termination index: 0<br>Interfaces Index Range: 28792-28794<br>Strain: 0.49%<br>Atoms: 197"
         ],
         "x": [
          0.49300000000000005
         ],
         "y": [
          197
         ],
         "type": "scatter"
        },
        {
         "hoverinfo": "text",
         "mode": "markers",
         "name": "Indices: 28795-28797",
         "text": [
          "Termination: ('C_P6/mmm_2', 'Ni_R-3m_1')<br>Termination index: 0<br>Interfaces Index Range: 28795-28797<br>Strain: 0.50%<br>Atoms: 218"
         ],
         "x": [
          0.49500000000000005
         ],
         "y": [
          218
         ],
         "type": "scatter"
        },
        {
         "hoverinfo": "text",
         "mode": "markers",
         "name": "Indices: 28798-28800",
         "text": [
          "Termination: ('C_P6/mmm_2', 'Ni_R-3m_1')<br>Termination index: 0<br>Interfaces Index Range: 28798-28800<br>Strain: 0.50%<br>Atoms: 197"
         ],
         "x": [
          0.49700000000000005
         ],
         "y": [
          197
         ],
         "type": "scatter"
        },
        {
         "hoverinfo": "text",
         "mode": "markers",
         "name": "Indices: 28801-28812",
         "text": [
          "Termination: ('C_P6/mmm_2', 'Ni_R-3m_1')<br>Termination index: 0<br>Interfaces Index Range: 28801-28812<br>Strain: 0.50%<br>Atoms: 376"
         ],
         "x": [
          0.49900000000000005
         ],
         "y": [
          376
         ],
         "type": "scatter"
        },
        {
         "hoverinfo": "text",
         "mode": "markers",
         "name": "Indices: 28813-28824",
         "text": [
          "Termination: ('C_P6/mmm_2', 'Ni_R-3m_1')<br>Termination index: 0<br>Interfaces Index Range: 28813-28824<br>Strain: 0.50%<br>Atoms: 237"
         ],
         "x": [
          0.5
         ],
         "y": [
          237
         ],
         "type": "scatter"
        },
        {
         "hoverinfo": "text",
         "mode": "markers",
         "name": "Indices: 28825-28836",
         "text": [
          "Termination: ('C_P6/mmm_2', 'Ni_R-3m_1')<br>Termination index: 0<br>Interfaces Index Range: 28825-28836<br>Strain: 0.50%<br>Atoms: 274"
         ],
         "x": [
          0.5
         ],
         "y": [
          274
         ],
         "type": "scatter"
        },
        {
         "hoverinfo": "text",
         "mode": "markers",
         "name": "Indices: 28837-28839",
         "text": [
          "Termination: ('C_P6/mmm_2', 'Ni_R-3m_1')<br>Termination index: 0<br>Interfaces Index Range: 28837-28839<br>Strain: 0.50%<br>Atoms: 192"
         ],
         "x": [
          0.5030000000000001
         ],
         "y": [
          192
         ],
         "type": "scatter"
        },
        {
         "hoverinfo": "text",
         "mode": "markers",
         "name": "Indices: 28840-28851",
         "text": [
          "Termination: ('C_P6/mmm_2', 'Ni_R-3m_1')<br>Termination index: 0<br>Interfaces Index Range: 28840-28851<br>Strain: 0.50%<br>Atoms: 336"
         ],
         "x": [
          0.5030000000000001
         ],
         "y": [
          336
         ],
         "type": "scatter"
        },
        {
         "hoverinfo": "text",
         "mode": "markers",
         "name": "Indices: 28852-28863",
         "text": [
          "Termination: ('C_P6/mmm_2', 'Ni_R-3m_1')<br>Termination index: 0<br>Interfaces Index Range: 28852-28863<br>Strain: 0.51%<br>Atoms: 283"
         ],
         "x": [
          0.5050000000000001
         ],
         "y": [
          283
         ],
         "type": "scatter"
        },
        {
         "hoverinfo": "text",
         "mode": "markers",
         "name": "Indices: 28864-28866",
         "text": [
          "Termination: ('C_P6/mmm_2', 'Ni_R-3m_1')<br>Termination index: 0<br>Interfaces Index Range: 28864-28866<br>Strain: 0.51%<br>Atoms: 192"
         ],
         "x": [
          0.5070000000000001
         ],
         "y": [
          192
         ],
         "type": "scatter"
        },
        {
         "hoverinfo": "text",
         "mode": "markers",
         "name": "Indices: 28867-28878",
         "text": [
          "Termination: ('C_P6/mmm_2', 'Ni_R-3m_1')<br>Termination index: 0<br>Interfaces Index Range: 28867-28878<br>Strain: 0.51%<br>Atoms: 371"
         ],
         "x": [
          0.5070000000000001
         ],
         "y": [
          371
         ],
         "type": "scatter"
        },
        {
         "hoverinfo": "text",
         "mode": "markers",
         "name": "Indices: 28879-28881",
         "text": [
          "Termination: ('C_P6/mmm_2', 'Ni_R-3m_1')<br>Termination index: 0<br>Interfaces Index Range: 28879-28881<br>Strain: 0.51%<br>Atoms: 213"
         ],
         "x": [
          0.5090000000000001
         ],
         "y": [
          213
         ],
         "type": "scatter"
        },
        {
         "hoverinfo": "text",
         "mode": "markers",
         "name": "Indices: 28882-28893",
         "text": [
          "Termination: ('C_P6/mmm_2', 'Ni_R-3m_1')<br>Termination index: 0<br>Interfaces Index Range: 28882-28893<br>Strain: 0.51%<br>Atoms: 252"
         ],
         "x": [
          0.51
         ],
         "y": [
          252
         ],
         "type": "scatter"
        },
        {
         "hoverinfo": "text",
         "mode": "markers",
         "name": "Indices: 28894-28905",
         "text": [
          "Termination: ('C_P6/mmm_2', 'Ni_R-3m_1')<br>Termination index: 0<br>Interfaces Index Range: 28894-28905<br>Strain: 0.51%<br>Atoms: 257"
         ],
         "x": [
          0.513
         ],
         "y": [
          257
         ],
         "type": "scatter"
        },
        {
         "hoverinfo": "text",
         "mode": "markers",
         "name": "Indices: 28906-28917",
         "text": [
          "Termination: ('C_P6/mmm_2', 'Ni_R-3m_1')<br>Termination index: 0<br>Interfaces Index Range: 28906-28917<br>Strain: 0.51%<br>Atoms: 203"
         ],
         "x": [
          0.514
         ],
         "y": [
          203
         ],
         "type": "scatter"
        },
        {
         "hoverinfo": "text",
         "mode": "markers",
         "name": "Indices: 28918-28929",
         "text": [
          "Termination: ('C_P6/mmm_2', 'Ni_R-3m_1')<br>Termination index: 0<br>Interfaces Index Range: 28918-28929<br>Strain: 0.52%<br>Atoms: 266"
         ],
         "x": [
          0.515
         ],
         "y": [
          266
         ],
         "type": "scatter"
        },
        {
         "hoverinfo": "text",
         "mode": "markers",
         "name": "Indices: 28930-28941",
         "text": [
          "Termination: ('C_P6/mmm_2', 'Ni_R-3m_1')<br>Termination index: 0<br>Interfaces Index Range: 28930-28941<br>Strain: 0.52%<br>Atoms: 366"
         ],
         "x": [
          0.515
         ],
         "y": [
          366
         ],
         "type": "scatter"
        },
        {
         "hoverinfo": "text",
         "mode": "markers",
         "name": "Indices: 28942-28953",
         "text": [
          "Termination: ('C_P6/mmm_2', 'Ni_R-3m_1')<br>Termination index: 0<br>Interfaces Index Range: 28942-28953<br>Strain: 0.52%<br>Atoms: 339"
         ],
         "x": [
          0.516
         ],
         "y": [
          339
         ],
         "type": "scatter"
        },
        {
         "hoverinfo": "text",
         "mode": "markers",
         "name": "Indices: 28954-28965",
         "text": [
          "Termination: ('C_P6/mmm_2', 'Ni_R-3m_1')<br>Termination index: 0<br>Interfaces Index Range: 28954-28965<br>Strain: 0.52%<br>Atoms: 324"
         ],
         "x": [
          0.518
         ],
         "y": [
          324
         ],
         "type": "scatter"
        },
        {
         "hoverinfo": "text",
         "mode": "markers",
         "name": "Indices: 28966-28968",
         "text": [
          "Termination: ('C_P6/mmm_2', 'Ni_R-3m_1')<br>Termination index: 0<br>Interfaces Index Range: 28966-28968<br>Strain: 0.52%<br>Atoms: 187"
         ],
         "x": [
          0.519
         ],
         "y": [
          187
         ],
         "type": "scatter"
        },
        {
         "hoverinfo": "text",
         "mode": "markers",
         "name": "Indices: 28969-28992",
         "text": [
          "Termination: ('C_P6/mmm_2', 'Ni_R-3m_1')<br>Termination index: 0<br>Interfaces Index Range: 28969-28992<br>Strain: 0.52%<br>Atoms: 270"
         ],
         "x": [
          0.52
         ],
         "y": [
          270
         ],
         "type": "scatter"
        },
        {
         "hoverinfo": "text",
         "mode": "markers",
         "name": "Indices: 28993-29016",
         "text": [
          "Termination: ('C_P6/mmm_2', 'Ni_R-3m_1')<br>Termination index: 0<br>Interfaces Index Range: 28993-29016<br>Strain: 0.52%<br>Atoms: 316"
         ],
         "x": [
          0.52
         ],
         "y": [
          316
         ],
         "type": "scatter"
        },
        {
         "hoverinfo": "text",
         "mode": "markers",
         "name": "Indices: 29017-29028",
         "text": [
          "Termination: ('C_P6/mmm_2', 'Ni_R-3m_1')<br>Termination index: 0<br>Interfaces Index Range: 29017-29028<br>Strain: 0.52%<br>Atoms: 178"
         ],
         "x": [
          0.523
         ],
         "y": [
          178
         ],
         "type": "scatter"
        },
        {
         "hoverinfo": "text",
         "mode": "markers",
         "name": "Indices: 29029-29034",
         "text": [
          "Termination: ('C_P6/mmm_2', 'Ni_R-3m_1')<br>Termination index: 0<br>Interfaces Index Range: 29029-29034<br>Strain: 0.52%<br>Atoms: 208"
         ],
         "x": [
          0.523
         ],
         "y": [
          208
         ],
         "type": "scatter"
        },
        {
         "hoverinfo": "text",
         "mode": "markers",
         "name": "Indices: 29035-29058",
         "text": [
          "Termination: ('C_P6/mmm_2', 'Ni_R-3m_1')<br>Termination index: 0<br>Interfaces Index Range: 29035-29058<br>Strain: 0.52%<br>Atoms: 356"
         ],
         "x": [
          0.523
         ],
         "y": [
          356
         ],
         "type": "scatter"
        },
        {
         "hoverinfo": "text",
         "mode": "markers",
         "name": "Indices: 29059-29070",
         "text": [
          "Termination: ('C_P6/mmm_2', 'Ni_R-3m_1')<br>Termination index: 0<br>Interfaces Index Range: 29059-29070<br>Strain: 0.52%<br>Atoms: 361"
         ],
         "x": [
          0.523
         ],
         "y": [
          361
         ],
         "type": "scatter"
        },
        {
         "hoverinfo": "text",
         "mode": "markers",
         "name": "Indices: 29071-29082",
         "text": [
          "Termination: ('C_P6/mmm_2', 'Ni_R-3m_1')<br>Termination index: 0<br>Interfaces Index Range: 29071-29082<br>Strain: 0.52%<br>Atoms: 371"
         ],
         "x": [
          0.523
         ],
         "y": [
          371
         ],
         "type": "scatter"
        },
        {
         "hoverinfo": "text",
         "mode": "markers",
         "name": "Indices: 29083-29088",
         "text": [
          "Termination: ('C_P6/mmm_2', 'Ni_R-3m_1')<br>Termination index: 0<br>Interfaces Index Range: 29083-29088<br>Strain: 0.52%<br>Atoms: 202"
         ],
         "x": [
          0.524
         ],
         "y": [
          202
         ],
         "type": "scatter"
        },
        {
         "hoverinfo": "text",
         "mode": "markers",
         "name": "Indices: 29089-29100",
         "text": [
          "Termination: ('C_P6/mmm_2', 'Ni_R-3m_1')<br>Termination index: 0<br>Interfaces Index Range: 29089-29100<br>Strain: 0.53%<br>Atoms: 351"
         ],
         "x": [
          0.525
         ],
         "y": [
          351
         ],
         "type": "scatter"
        },
        {
         "hoverinfo": "text",
         "mode": "markers",
         "name": "Indices: 29101-29112",
         "text": [
          "Termination: ('C_P6/mmm_2', 'Ni_R-3m_1')<br>Termination index: 0<br>Interfaces Index Range: 29101-29112<br>Strain: 0.53%<br>Atoms: 183"
         ],
         "x": [
          0.527
         ],
         "y": [
          183
         ],
         "type": "scatter"
        },
        {
         "hoverinfo": "text",
         "mode": "markers",
         "name": "Indices: 29113-29115",
         "text": [
          "Termination: ('C_P6/mmm_2', 'Ni_R-3m_1')<br>Termination index: 0<br>Interfaces Index Range: 29113-29115<br>Strain: 0.53%<br>Atoms: 252"
         ],
         "x": [
          0.527
         ],
         "y": [
          252
         ],
         "type": "scatter"
        },
        {
         "hoverinfo": "text",
         "mode": "markers",
         "name": "Indices: 29116-29139",
         "text": [
          "Termination: ('C_P6/mmm_2', 'Ni_R-3m_1')<br>Termination index: 0<br>Interfaces Index Range: 29116-29139<br>Strain: 0.53%<br>Atoms: 366"
         ],
         "x": [
          0.527
         ],
         "y": [
          366
         ],
         "type": "scatter"
        },
        {
         "hoverinfo": "text",
         "mode": "markers",
         "name": "Indices: 29140-29151",
         "text": [
          "Termination: ('C_P6/mmm_2', 'Ni_R-3m_1')<br>Termination index: 0<br>Interfaces Index Range: 29140-29151<br>Strain: 0.53%<br>Atoms: 276"
         ],
         "x": [
          0.5280000000000001
         ],
         "y": [
          276
         ],
         "type": "scatter"
        },
        {
         "hoverinfo": "text",
         "mode": "markers",
         "name": "Indices: 29152-29163",
         "text": [
          "Termination: ('C_P6/mmm_2', 'Ni_R-3m_1')<br>Termination index: 0<br>Interfaces Index Range: 29152-29163<br>Strain: 0.53%<br>Atoms: 359"
         ],
         "x": [
          0.5280000000000001
         ],
         "y": [
          359
         ],
         "type": "scatter"
        },
        {
         "hoverinfo": "text",
         "mode": "markers",
         "name": "Indices: 29164-29187",
         "text": [
          "Termination: ('C_P6/mmm_2', 'Ni_R-3m_1')<br>Termination index: 0<br>Interfaces Index Range: 29164-29187<br>Strain: 0.53%<br>Atoms: 371"
         ],
         "x": [
          0.5280000000000001
         ],
         "y": [
          371
         ],
         "type": "scatter"
        },
        {
         "hoverinfo": "text",
         "mode": "markers",
         "name": "Indices: 29188-29199",
         "text": [
          "Termination: ('C_P6/mmm_2', 'Ni_R-3m_1')<br>Termination index: 0<br>Interfaces Index Range: 29188-29199<br>Strain: 0.53%<br>Atoms: 283"
         ],
         "x": [
          0.529
         ],
         "y": [
          283
         ],
         "type": "scatter"
        },
        {
         "hoverinfo": "text",
         "mode": "markers",
         "name": "Indices: 29200-29203",
         "text": [
          "Termination: ('C_P6/mmm_2', 'Ni_R-3m_1')<br>Termination index: 0<br>Interfaces Index Range: 29200-29203<br>Strain: 0.53%<br>Atoms: 191"
         ],
         "x": [
          0.531
         ],
         "y": [
          191
         ],
         "type": "scatter"
        },
        {
         "hoverinfo": "text",
         "mode": "markers",
         "name": "Indices: 29204-29215",
         "text": [
          "Termination: ('C_P6/mmm_2', 'Ni_R-3m_1')<br>Termination index: 0<br>Interfaces Index Range: 29204-29215<br>Strain: 0.53%<br>Atoms: 356"
         ],
         "x": [
          0.532
         ],
         "y": [
          356
         ],
         "type": "scatter"
        },
        {
         "hoverinfo": "text",
         "mode": "markers",
         "name": "Indices: 29216-29221",
         "text": [
          "Termination: ('C_P6/mmm_2', 'Ni_R-3m_1')<br>Termination index: 0<br>Interfaces Index Range: 29216-29221<br>Strain: 0.53%<br>Atoms: 203"
         ],
         "x": [
          0.534
         ],
         "y": [
          203
         ],
         "type": "scatter"
        },
        {
         "hoverinfo": "text",
         "mode": "markers",
         "name": "Indices: 29222-29233",
         "text": [
          "Termination: ('C_P6/mmm_2', 'Ni_R-3m_1')<br>Termination index: 0<br>Interfaces Index Range: 29222-29233<br>Strain: 0.54%<br>Atoms: 344"
         ],
         "x": [
          0.535
         ],
         "y": [
          344
         ],
         "type": "scatter"
        },
        {
         "hoverinfo": "text",
         "mode": "markers",
         "name": "Indices: 29234-29245",
         "text": [
          "Termination: ('C_P6/mmm_2', 'Ni_R-3m_1')<br>Termination index: 0<br>Interfaces Index Range: 29234-29245<br>Strain: 0.54%<br>Atoms: 237"
         ],
         "x": [
          0.536
         ],
         "y": [
          237
         ],
         "type": "scatter"
        },
        {
         "hoverinfo": "text",
         "mode": "markers",
         "name": "Indices: 29246-29257",
         "text": [
          "Termination: ('C_P6/mmm_2', 'Ni_R-3m_1')<br>Termination index: 0<br>Interfaces Index Range: 29246-29257<br>Strain: 0.54%<br>Atoms: 344"
         ],
         "x": [
          0.536
         ],
         "y": [
          344
         ],
         "type": "scatter"
        },
        {
         "hoverinfo": "text",
         "mode": "markers",
         "name": "Indices: 29258-29269",
         "text": [
          "Termination: ('C_P6/mmm_2', 'Ni_R-3m_1')<br>Termination index: 0<br>Interfaces Index Range: 29258-29269<br>Strain: 0.54%<br>Atoms: 198"
         ],
         "x": [
          0.537
         ],
         "y": [
          198
         ],
         "type": "scatter"
        },
        {
         "hoverinfo": "text",
         "mode": "markers",
         "name": "Indices: 29270-29281",
         "text": [
          "Termination: ('C_P6/mmm_2', 'Ni_R-3m_1')<br>Termination index: 0<br>Interfaces Index Range: 29270-29281<br>Strain: 0.54%<br>Atoms: 217"
         ],
         "x": [
          0.537
         ],
         "y": [
          217
         ],
         "type": "scatter"
        },
        {
         "hoverinfo": "text",
         "mode": "markers",
         "name": "Indices: 29282-29284",
         "text": [
          "Termination: ('C_P6/mmm_2', 'Ni_R-3m_1')<br>Termination index: 0<br>Interfaces Index Range: 29282-29284<br>Strain: 0.54%<br>Atoms: 203"
         ],
         "x": [
          0.538
         ],
         "y": [
          203
         ],
         "type": "scatter"
        },
        {
         "hoverinfo": "text",
         "mode": "markers",
         "name": "Indices: 29285-29296",
         "text": [
          "Termination: ('C_P6/mmm_2', 'Ni_R-3m_1')<br>Termination index: 0<br>Interfaces Index Range: 29285-29296<br>Strain: 0.54%<br>Atoms: 351"
         ],
         "x": [
          0.541
         ],
         "y": [
          351
         ],
         "type": "scatter"
        },
        {
         "hoverinfo": "text",
         "mode": "markers",
         "name": "Indices: 29297-29308",
         "text": [
          "Termination: ('C_P6/mmm_2', 'Ni_R-3m_1')<br>Termination index: 0<br>Interfaces Index Range: 29297-29308<br>Strain: 0.54%<br>Atoms: 366"
         ],
         "x": [
          0.541
         ],
         "y": [
          366
         ],
         "type": "scatter"
        },
        {
         "hoverinfo": "text",
         "mode": "markers",
         "name": "Indices: 29309-29320",
         "text": [
          "Termination: ('C_P6/mmm_2', 'Ni_R-3m_1')<br>Termination index: 0<br>Interfaces Index Range: 29309-29320<br>Strain: 0.54%<br>Atoms: 282"
         ],
         "x": [
          0.542
         ],
         "y": [
          282
         ],
         "type": "scatter"
        },
        {
         "hoverinfo": "text",
         "mode": "markers",
         "name": "Indices: 29321-29332",
         "text": [
          "Termination: ('C_P6/mmm_2', 'Ni_R-3m_1')<br>Termination index: 0<br>Interfaces Index Range: 29321-29332<br>Strain: 0.54%<br>Atoms: 222"
         ],
         "x": [
          0.544
         ],
         "y": [
          222
         ],
         "type": "scatter"
        },
        {
         "hoverinfo": "text",
         "mode": "markers",
         "name": "Indices: 29333-29344",
         "text": [
          "Termination: ('C_P6/mmm_2', 'Ni_R-3m_1')<br>Termination index: 0<br>Interfaces Index Range: 29333-29344<br>Strain: 0.54%<br>Atoms: 354"
         ],
         "x": [
          0.544
         ],
         "y": [
          354
         ],
         "type": "scatter"
        },
        {
         "hoverinfo": "text",
         "mode": "markers",
         "name": "Indices: 29345-29347",
         "text": [
          "Termination: ('C_P6/mmm_2', 'Ni_R-3m_1')<br>Termination index: 0<br>Interfaces Index Range: 29345-29347<br>Strain: 0.55%<br>Atoms: 242"
         ],
         "x": [
          0.546
         ],
         "y": [
          242
         ],
         "type": "scatter"
        },
        {
         "hoverinfo": "text",
         "mode": "markers",
         "name": "Indices: 29348-29359",
         "text": [
          "Termination: ('C_P6/mmm_2', 'Ni_R-3m_1')<br>Termination index: 0<br>Interfaces Index Range: 29348-29359<br>Strain: 0.55%<br>Atoms: 311"
         ],
         "x": [
          0.549
         ],
         "y": [
          311
         ],
         "type": "scatter"
        },
        {
         "hoverinfo": "text",
         "mode": "markers",
         "name": "Indices: 29360-29371",
         "text": [
          "Termination: ('C_P6/mmm_2', 'Ni_R-3m_1')<br>Termination index: 0<br>Interfaces Index Range: 29360-29371<br>Strain: 0.55%<br>Atoms: 346"
         ],
         "x": [
          0.55
         ],
         "y": [
          346
         ],
         "type": "scatter"
        },
        {
         "hoverinfo": "text",
         "mode": "markers",
         "name": "Indices: 29372-29383",
         "text": [
          "Termination: ('C_P6/mmm_2', 'Ni_R-3m_1')<br>Termination index: 0<br>Interfaces Index Range: 29372-29383<br>Strain: 0.55%<br>Atoms: 336"
         ],
         "x": [
          0.553
         ],
         "y": [
          336
         ],
         "type": "scatter"
        },
        {
         "hoverinfo": "text",
         "mode": "markers",
         "name": "Indices: 29384-29386",
         "text": [
          "Termination: ('C_P6/mmm_2', 'Ni_R-3m_1')<br>Termination index: 0<br>Interfaces Index Range: 29384-29386<br>Strain: 0.55%<br>Atoms: 198"
         ],
         "x": [
          0.554
         ],
         "y": [
          198
         ],
         "type": "scatter"
        },
        {
         "hoverinfo": "text",
         "mode": "markers",
         "name": "Indices: 29387-29389",
         "text": [
          "Termination: ('C_P6/mmm_2', 'Ni_R-3m_1')<br>Termination index: 0<br>Interfaces Index Range: 29387-29389<br>Strain: 0.56%<br>Atoms: 237"
         ],
         "x": [
          0.555
         ],
         "y": [
          237
         ],
         "type": "scatter"
        },
        {
         "hoverinfo": "text",
         "mode": "markers",
         "name": "Indices: 29390-29401",
         "text": [
          "Termination: ('C_P6/mmm_2', 'Ni_R-3m_1')<br>Termination index: 0<br>Interfaces Index Range: 29390-29401<br>Strain: 0.56%<br>Atoms: 222"
         ],
         "x": [
          0.556
         ],
         "y": [
          222
         ],
         "type": "scatter"
        },
        {
         "hoverinfo": "text",
         "mode": "markers",
         "name": "Indices: 29402-29413",
         "text": [
          "Termination: ('C_P6/mmm_2', 'Ni_R-3m_1')<br>Termination index: 0<br>Interfaces Index Range: 29402-29413<br>Strain: 0.56%<br>Atoms: 339"
         ],
         "x": [
          0.557
         ],
         "y": [
          339
         ],
         "type": "scatter"
        },
        {
         "hoverinfo": "text",
         "mode": "markers",
         "name": "Indices: 29414-29425",
         "text": [
          "Termination: ('C_P6/mmm_2', 'Ni_R-3m_1')<br>Termination index: 0<br>Interfaces Index Range: 29414-29425<br>Strain: 0.56%<br>Atoms: 341"
         ],
         "x": [
          0.559
         ],
         "y": [
          341
         ],
         "type": "scatter"
        },
        {
         "hoverinfo": "text",
         "mode": "markers",
         "name": "Indices: 29426-29427",
         "text": [
          "Termination: ('C_P6/mmm_2', 'Ni_R-3m_1')<br>Termination index: 0<br>Interfaces Index Range: 29426-29427<br>Strain: 0.56%<br>Atoms: 326"
         ],
         "x": [
          0.56
         ],
         "y": [
          326
         ],
         "type": "scatter"
        },
        {
         "hoverinfo": "text",
         "mode": "markers",
         "name": "Indices: 29428-29439",
         "text": [
          "Termination: ('C_P6/mmm_2', 'Ni_R-3m_1')<br>Termination index: 0<br>Interfaces Index Range: 29428-29439<br>Strain: 0.56%<br>Atoms: 283"
         ],
         "x": [
          0.562
         ],
         "y": [
          283
         ],
         "type": "scatter"
        },
        {
         "hoverinfo": "text",
         "mode": "markers",
         "name": "Indices: 29440-29442",
         "text": [
          "Termination: ('C_P6/mmm_2', 'Ni_R-3m_1')<br>Termination index: 0<br>Interfaces Index Range: 29440-29442<br>Strain: 0.57%<br>Atoms: 232"
         ],
         "x": [
          0.5660000000000001
         ],
         "y": [
          232
         ],
         "type": "scatter"
        },
        {
         "hoverinfo": "text",
         "mode": "markers",
         "name": "Indices: 29443-29454",
         "text": [
          "Termination: ('C_P6/mmm_2', 'Ni_R-3m_1')<br>Termination index: 0<br>Interfaces Index Range: 29443-29454<br>Strain: 0.57%<br>Atoms: 336"
         ],
         "x": [
          0.5680000000000001
         ],
         "y": [
          336
         ],
         "type": "scatter"
        },
        {
         "hoverinfo": "text",
         "mode": "markers",
         "name": "Indices: 29455-29466",
         "text": [
          "Termination: ('C_P6/mmm_2', 'Ni_R-3m_1')<br>Termination index: 0<br>Interfaces Index Range: 29455-29466<br>Strain: 0.57%<br>Atoms: 371"
         ],
         "x": [
          0.5700000000000001
         ],
         "y": [
          371
         ],
         "type": "scatter"
        },
        {
         "hoverinfo": "text",
         "mode": "markers",
         "name": "Indices: 29467-29478",
         "text": [
          "Termination: ('C_P6/mmm_2', 'Ni_R-3m_1')<br>Termination index: 0<br>Interfaces Index Range: 29467-29478<br>Strain: 0.57%<br>Atoms: 197"
         ],
         "x": [
          0.5720000000000001
         ],
         "y": [
          197
         ],
         "type": "scatter"
        },
        {
         "hoverinfo": "text",
         "mode": "markers",
         "name": "Indices: 29479-29490",
         "text": [
          "Termination: ('C_P6/mmm_2', 'Ni_R-3m_1')<br>Termination index: 0<br>Interfaces Index Range: 29479-29490<br>Strain: 0.57%<br>Atoms: 202"
         ],
         "x": [
          0.5730000000000001
         ],
         "y": [
          202
         ],
         "type": "scatter"
        },
        {
         "hoverinfo": "text",
         "mode": "markers",
         "name": "Indices: 29491-29502",
         "text": [
          "Termination: ('C_P6/mmm_2', 'Ni_R-3m_1')<br>Termination index: 0<br>Interfaces Index Range: 29491-29502<br>Strain: 0.57%<br>Atoms: 276"
         ],
         "x": [
          0.5730000000000001
         ],
         "y": [
          276
         ],
         "type": "scatter"
        },
        {
         "hoverinfo": "text",
         "mode": "markers",
         "name": "Indices: 29503-29514",
         "text": [
          "Termination: ('C_P6/mmm_2', 'Ni_R-3m_1')<br>Termination index: 0<br>Interfaces Index Range: 29503-29514<br>Strain: 0.58%<br>Atoms: 358"
         ],
         "x": [
          0.5760000000000001
         ],
         "y": [
          358
         ],
         "type": "scatter"
        },
        {
         "hoverinfo": "text",
         "mode": "markers",
         "name": "Indices: 29515-29538",
         "text": [
          "Termination: ('C_P6/mmm_2', 'Ni_R-3m_1')<br>Termination index: 0<br>Interfaces Index Range: 29515-29538<br>Strain: 0.58%<br>Atoms: 270"
         ],
         "x": [
          0.5770000000000001
         ],
         "y": [
          270
         ],
         "type": "scatter"
        },
        {
         "hoverinfo": "text",
         "mode": "markers",
         "name": "Indices: 29539-29550",
         "text": [
          "Termination: ('C_P6/mmm_2', 'Ni_R-3m_1')<br>Termination index: 0<br>Interfaces Index Range: 29539-29550<br>Strain: 0.58%<br>Atoms: 331"
         ],
         "x": [
          0.5780000000000001
         ],
         "y": [
          331
         ],
         "type": "scatter"
        },
        {
         "hoverinfo": "text",
         "mode": "markers",
         "name": "Indices: 29551-29562",
         "text": [
          "Termination: ('C_P6/mmm_2', 'Ni_R-3m_1')<br>Termination index: 0<br>Interfaces Index Range: 29551-29562<br>Strain: 0.58%<br>Atoms: 356"
         ],
         "x": [
          0.5780000000000001
         ],
         "y": [
          356
         ],
         "type": "scatter"
        },
        {
         "hoverinfo": "text",
         "mode": "markers",
         "name": "Indices: 29563-29574",
         "text": [
          "Termination: ('C_P6/mmm_2', 'Ni_R-3m_1')<br>Termination index: 0<br>Interfaces Index Range: 29563-29574<br>Strain: 0.58%<br>Atoms: 217"
         ],
         "x": [
          0.5800000000000001
         ],
         "y": [
          217
         ],
         "type": "scatter"
        },
        {
         "hoverinfo": "text",
         "mode": "markers",
         "name": "Indices: 29575-29586",
         "text": [
          "Termination: ('C_P6/mmm_2', 'Ni_R-3m_1')<br>Termination index: 0<br>Interfaces Index Range: 29575-29586<br>Strain: 0.58%<br>Atoms: 364"
         ],
         "x": [
          0.5800000000000001
         ],
         "y": [
          364
         ],
         "type": "scatter"
        },
        {
         "hoverinfo": "text",
         "mode": "markers",
         "name": "Indices: 29587-29610",
         "text": [
          "Termination: ('C_P6/mmm_2', 'Ni_R-3m_1')<br>Termination index: 0<br>Interfaces Index Range: 29587-29610<br>Strain: 0.58%<br>Atoms: 351"
         ],
         "x": [
          0.581
         ],
         "y": [
          351
         ],
         "type": "scatter"
        },
        {
         "hoverinfo": "text",
         "mode": "markers",
         "name": "Indices: 29611-29634",
         "text": [
          "Termination: ('C_P6/mmm_2', 'Ni_R-3m_1')<br>Termination index: 0<br>Interfaces Index Range: 29611-29634<br>Strain: 0.58%<br>Atoms: 369"
         ],
         "x": [
          0.581
         ],
         "y": [
          369
         ],
         "type": "scatter"
        },
        {
         "hoverinfo": "text",
         "mode": "markers",
         "name": "Indices: 29635-29646",
         "text": [
          "Termination: ('C_P6/mmm_2', 'Ni_R-3m_1')<br>Termination index: 0<br>Interfaces Index Range: 29635-29646<br>Strain: 0.58%<br>Atoms: 183"
         ],
         "x": [
          0.5820000000000001
         ],
         "y": [
          183
         ],
         "type": "scatter"
        },
        {
         "hoverinfo": "text",
         "mode": "markers",
         "name": "Indices: 29647-29670",
         "text": [
          "Termination: ('C_P6/mmm_2', 'Ni_R-3m_1')<br>Termination index: 0<br>Interfaces Index Range: 29647-29670<br>Strain: 0.58%<br>Atoms: 366"
         ],
         "x": [
          0.5820000000000001
         ],
         "y": [
          366
         ],
         "type": "scatter"
        },
        {
         "hoverinfo": "text",
         "mode": "markers",
         "name": "Indices: 29671-29672",
         "text": [
          "Termination: ('C_P6/mmm_2', 'Ni_R-3m_1')<br>Termination index: 0<br>Interfaces Index Range: 29671-29672<br>Strain: 0.58%<br>Atoms: 311"
         ],
         "x": [
          0.583
         ],
         "y": [
          311
         ],
         "type": "scatter"
        },
        {
         "hoverinfo": "text",
         "mode": "markers",
         "name": "Indices: 29673-29684",
         "text": [
          "Termination: ('C_P6/mmm_2', 'Ni_R-3m_1')<br>Termination index: 0<br>Interfaces Index Range: 29673-29684<br>Strain: 0.59%<br>Atoms: 336"
         ],
         "x": [
          0.5860000000000001
         ],
         "y": [
          336
         ],
         "type": "scatter"
        },
        {
         "hoverinfo": "text",
         "mode": "markers",
         "name": "Indices: 29685-29696",
         "text": [
          "Termination: ('C_P6/mmm_2', 'Ni_R-3m_1')<br>Termination index: 0<br>Interfaces Index Range: 29685-29696<br>Strain: 0.59%<br>Atoms: 344"
         ],
         "x": [
          0.5880000000000001
         ],
         "y": [
          344
         ],
         "type": "scatter"
        },
        {
         "hoverinfo": "text",
         "mode": "markers",
         "name": "Indices: 29697-29702",
         "text": [
          "Termination: ('C_P6/mmm_2', 'Ni_R-3m_1')<br>Termination index: 0<br>Interfaces Index Range: 29697-29702<br>Strain: 0.59%<br>Atoms: 376"
         ],
         "x": [
          0.5880000000000001
         ],
         "y": [
          376
         ],
         "type": "scatter"
        },
        {
         "hoverinfo": "text",
         "mode": "markers",
         "name": "Indices: 29703-29714",
         "text": [
          "Termination: ('C_P6/mmm_2', 'Ni_R-3m_1')<br>Termination index: 0<br>Interfaces Index Range: 29703-29714<br>Strain: 0.59%<br>Atoms: 326"
         ],
         "x": [
          0.5890000000000001
         ],
         "y": [
          326
         ],
         "type": "scatter"
        },
        {
         "hoverinfo": "text",
         "mode": "markers",
         "name": "Indices: 29715-29726",
         "text": [
          "Termination: ('C_P6/mmm_2', 'Ni_R-3m_1')<br>Termination index: 0<br>Interfaces Index Range: 29715-29726<br>Strain: 0.59%<br>Atoms: 348"
         ],
         "x": [
          0.5920000000000001
         ],
         "y": [
          348
         ],
         "type": "scatter"
        },
        {
         "hoverinfo": "text",
         "mode": "markers",
         "name": "Indices: 29727-29738",
         "text": [
          "Termination: ('C_P6/mmm_2', 'Ni_R-3m_1')<br>Termination index: 0<br>Interfaces Index Range: 29727-29738<br>Strain: 0.59%<br>Atoms: 359"
         ],
         "x": [
          0.5930000000000001
         ],
         "y": [
          359
         ],
         "type": "scatter"
        },
        {
         "hoverinfo": "text",
         "mode": "markers",
         "name": "Indices: 29739-29750",
         "text": [
          "Termination: ('C_P6/mmm_2', 'Ni_R-3m_1')<br>Termination index: 0<br>Interfaces Index Range: 29739-29750<br>Strain: 0.60%<br>Atoms: 294"
         ],
         "x": [
          0.5950000000000001
         ],
         "y": [
          294
         ],
         "type": "scatter"
        },
        {
         "hoverinfo": "text",
         "mode": "markers",
         "name": "Indices: 29751-29762",
         "text": [
          "Termination: ('C_P6/mmm_2', 'Ni_R-3m_1')<br>Termination index: 0<br>Interfaces Index Range: 29751-29762<br>Strain: 0.60%<br>Atoms: 321"
         ],
         "x": [
          0.5990000000000001
         ],
         "y": [
          321
         ],
         "type": "scatter"
        },
        {
         "hoverinfo": "text",
         "mode": "markers",
         "name": "Indices: 29763-29774",
         "text": [
          "Termination: ('C_P6/mmm_2', 'Ni_R-3m_1')<br>Termination index: 0<br>Interfaces Index Range: 29763-29774<br>Strain: 0.60%<br>Atoms: 339"
         ],
         "x": [
          0.6010000000000001
         ],
         "y": [
          339
         ],
         "type": "scatter"
        },
        {
         "hoverinfo": "text",
         "mode": "markers",
         "name": "Indices: 29775-29786",
         "text": [
          "Termination: ('C_P6/mmm_2', 'Ni_R-3m_1')<br>Termination index: 0<br>Interfaces Index Range: 29775-29786<br>Strain: 0.61%<br>Atoms: 306"
         ],
         "x": [
          0.606
         ],
         "y": [
          306
         ],
         "type": "scatter"
        },
        {
         "hoverinfo": "text",
         "mode": "markers",
         "name": "Indices: 29787-29792",
         "text": [
          "Termination: ('C_P6/mmm_2', 'Ni_R-3m_1')<br>Termination index: 0<br>Interfaces Index Range: 29787-29792<br>Strain: 0.61%<br>Atoms: 366"
         ],
         "x": [
          0.606
         ],
         "y": [
          366
         ],
         "type": "scatter"
        },
        {
         "hoverinfo": "text",
         "mode": "markers",
         "name": "Indices: 29793-29804",
         "text": [
          "Termination: ('C_P6/mmm_2', 'Ni_R-3m_1')<br>Termination index: 0<br>Interfaces Index Range: 29793-29804<br>Strain: 0.61%<br>Atoms: 324"
         ],
         "x": [
          0.6070000000000001
         ],
         "y": [
          324
         ],
         "type": "scatter"
        },
        {
         "hoverinfo": "text",
         "mode": "markers",
         "name": "Indices: 29805-29816",
         "text": [
          "Termination: ('C_P6/mmm_2', 'Ni_R-3m_1')<br>Termination index: 0<br>Interfaces Index Range: 29805-29816<br>Strain: 0.61%<br>Atoms: 344"
         ],
         "x": [
          0.608
         ],
         "y": [
          344
         ],
         "type": "scatter"
        },
        {
         "hoverinfo": "text",
         "mode": "markers",
         "name": "Indices: 29817-29828",
         "text": [
          "Termination: ('C_P6/mmm_2', 'Ni_R-3m_1')<br>Termination index: 0<br>Interfaces Index Range: 29817-29828<br>Strain: 0.61%<br>Atoms: 369"
         ],
         "x": [
          0.608
         ],
         "y": [
          369
         ],
         "type": "scatter"
        },
        {
         "hoverinfo": "text",
         "mode": "markers",
         "name": "Indices: 29829-29834",
         "text": [
          "Termination: ('C_P6/mmm_2', 'Ni_R-3m_1')<br>Termination index: 0<br>Interfaces Index Range: 29829-29834<br>Strain: 0.61%<br>Atoms: 278"
         ],
         "x": [
          0.6090000000000001
         ],
         "y": [
          278
         ],
         "type": "scatter"
        },
        {
         "hoverinfo": "text",
         "mode": "markers",
         "name": "Indices: 29835-29846",
         "text": [
          "Termination: ('C_P6/mmm_2', 'Ni_R-3m_1')<br>Termination index: 0<br>Interfaces Index Range: 29835-29846<br>Strain: 0.61%<br>Atoms: 266"
         ],
         "x": [
          0.61
         ],
         "y": [
          266
         ],
         "type": "scatter"
        },
        {
         "hoverinfo": "text",
         "mode": "markers",
         "name": "Indices: 29847-29852",
         "text": [
          "Termination: ('C_P6/mmm_2', 'Ni_R-3m_1')<br>Termination index: 0<br>Interfaces Index Range: 29847-29852<br>Strain: 0.61%<br>Atoms: 278"
         ],
         "x": [
          0.61
         ],
         "y": [
          278
         ],
         "type": "scatter"
        },
        {
         "hoverinfo": "text",
         "mode": "markers",
         "name": "Indices: 29853-29864",
         "text": [
          "Termination: ('C_P6/mmm_2', 'Ni_R-3m_1')<br>Termination index: 0<br>Interfaces Index Range: 29853-29864<br>Strain: 0.61%<br>Atoms: 316"
         ],
         "x": [
          0.61
         ],
         "y": [
          316
         ],
         "type": "scatter"
        },
        {
         "hoverinfo": "text",
         "mode": "markers",
         "name": "Indices: 29865-29870",
         "text": [
          "Termination: ('C_P6/mmm_2', 'Ni_R-3m_1')<br>Termination index: 0<br>Interfaces Index Range: 29865-29870<br>Strain: 0.61%<br>Atoms: 254"
         ],
         "x": [
          0.6110000000000001
         ],
         "y": [
          254
         ],
         "type": "scatter"
        },
        {
         "hoverinfo": "text",
         "mode": "markers",
         "name": "Indices: 29871-29873",
         "text": [
          "Termination: ('C_P6/mmm_2', 'Ni_R-3m_1')<br>Termination index: 0<br>Interfaces Index Range: 29871-29873<br>Strain: 0.61%<br>Atoms: 212"
         ],
         "x": [
          0.6120000000000001
         ],
         "y": [
          212
         ],
         "type": "scatter"
        },
        {
         "hoverinfo": "text",
         "mode": "markers",
         "name": "Indices: 29874-29885",
         "text": [
          "Termination: ('C_P6/mmm_2', 'Ni_R-3m_1')<br>Termination index: 0<br>Interfaces Index Range: 29874-29885<br>Strain: 0.61%<br>Atoms: 336"
         ],
         "x": [
          0.6120000000000001
         ],
         "y": [
          336
         ],
         "type": "scatter"
        },
        {
         "hoverinfo": "text",
         "mode": "markers",
         "name": "Indices: 29886-29897",
         "text": [
          "Termination: ('C_P6/mmm_2', 'Ni_R-3m_1')<br>Termination index: 0<br>Interfaces Index Range: 29886-29897<br>Strain: 0.61%<br>Atoms: 178"
         ],
         "x": [
          0.615
         ],
         "y": [
          178
         ],
         "type": "scatter"
        },
        {
         "hoverinfo": "text",
         "mode": "markers",
         "name": "Indices: 29898-29909",
         "text": [
          "Termination: ('C_P6/mmm_2', 'Ni_R-3m_1')<br>Termination index: 0<br>Interfaces Index Range: 29898-29909<br>Strain: 0.61%<br>Atoms: 202"
         ],
         "x": [
          0.615
         ],
         "y": [
          202
         ],
         "type": "scatter"
        },
        {
         "hoverinfo": "text",
         "mode": "markers",
         "name": "Indices: 29910-29933",
         "text": [
          "Termination: ('C_P6/mmm_2', 'Ni_R-3m_1')<br>Termination index: 0<br>Interfaces Index Range: 29910-29933<br>Strain: 0.61%<br>Atoms: 356"
         ],
         "x": [
          0.615
         ],
         "y": [
          356
         ],
         "type": "scatter"
        },
        {
         "hoverinfo": "text",
         "mode": "markers",
         "name": "Indices: 29934-29945",
         "text": [
          "Termination: ('C_P6/mmm_2', 'Ni_R-3m_1')<br>Termination index: 0<br>Interfaces Index Range: 29934-29945<br>Strain: 0.61%<br>Atoms: 364"
         ],
         "x": [
          0.615
         ],
         "y": [
          364
         ],
         "type": "scatter"
        },
        {
         "hoverinfo": "text",
         "mode": "markers",
         "name": "Indices: 29946-29957",
         "text": [
          "Termination: ('C_P6/mmm_2', 'Ni_R-3m_1')<br>Termination index: 0<br>Interfaces Index Range: 29946-29957<br>Strain: 0.62%<br>Atoms: 339"
         ],
         "x": [
          0.617
         ],
         "y": [
          339
         ],
         "type": "scatter"
        },
        {
         "hoverinfo": "text",
         "mode": "markers",
         "name": "Indices: 29958-29963",
         "text": [
          "Termination: ('C_P6/mmm_2', 'Ni_R-3m_1')<br>Termination index: 0<br>Interfaces Index Range: 29958-29963<br>Strain: 0.62%<br>Atoms: 362"
         ],
         "x": [
          0.6200000000000001
         ],
         "y": [
          362
         ],
         "type": "scatter"
        },
        {
         "hoverinfo": "text",
         "mode": "markers",
         "name": "Indices: 29964-29975",
         "text": [
          "Termination: ('C_P6/mmm_2', 'Ni_R-3m_1')<br>Termination index: 0<br>Interfaces Index Range: 29964-29975<br>Strain: 0.62%<br>Atoms: 369"
         ],
         "x": [
          0.6200000000000001
         ],
         "y": [
          369
         ],
         "type": "scatter"
        },
        {
         "hoverinfo": "text",
         "mode": "markers",
         "name": "Indices: 29976-29987",
         "text": [
          "Termination: ('C_P6/mmm_2', 'Ni_R-3m_1')<br>Termination index: 0<br>Interfaces Index Range: 29976-29987<br>Strain: 0.62%<br>Atoms: 311"
         ],
         "x": [
          0.621
         ],
         "y": [
          311
         ],
         "type": "scatter"
        },
        {
         "hoverinfo": "text",
         "mode": "markers",
         "name": "Indices: 29988-29999",
         "text": [
          "Termination: ('C_P6/mmm_2', 'Ni_R-3m_1')<br>Termination index: 0<br>Interfaces Index Range: 29988-29999<br>Strain: 0.62%<br>Atoms: 372"
         ],
         "x": [
          0.6220000000000001
         ],
         "y": [
          372
         ],
         "type": "scatter"
        },
        {
         "hoverinfo": "text",
         "mode": "markers",
         "name": "Indices: 30000-30002",
         "text": [
          "Termination: ('C_P6/mmm_2', 'Ni_R-3m_1')<br>Termination index: 0<br>Interfaces Index Range: 30000-30002<br>Strain: 0.62%<br>Atoms: 207"
         ],
         "x": [
          0.6240000000000001
         ],
         "y": [
          207
         ],
         "type": "scatter"
        },
        {
         "hoverinfo": "text",
         "mode": "markers",
         "name": "Indices: 30003-30014",
         "text": [
          "Termination: ('C_P6/mmm_2', 'Ni_R-3m_1')<br>Termination index: 0<br>Interfaces Index Range: 30003-30014<br>Strain: 0.63%<br>Atoms: 274"
         ],
         "x": [
          0.6260000000000001
         ],
         "y": [
          274
         ],
         "type": "scatter"
        },
        {
         "hoverinfo": "text",
         "mode": "markers",
         "name": "Indices: 30015-30026",
         "text": [
          "Termination: ('C_P6/mmm_2', 'Ni_R-3m_1')<br>Termination index: 0<br>Interfaces Index Range: 30015-30026<br>Strain: 0.63%<br>Atoms: 356"
         ],
         "x": [
          0.627
         ],
         "y": [
          356
         ],
         "type": "scatter"
        },
        {
         "hoverinfo": "text",
         "mode": "markers",
         "name": "Indices: 30027-30050",
         "text": [
          "Termination: ('C_P6/mmm_2', 'Ni_R-3m_1')<br>Termination index: 0<br>Interfaces Index Range: 30027-30050<br>Strain: 0.63%<br>Atoms: 369"
         ],
         "x": [
          0.6280000000000001
         ],
         "y": [
          369
         ],
         "type": "scatter"
        },
        {
         "hoverinfo": "text",
         "mode": "markers",
         "name": "Indices: 30051-30062",
         "text": [
          "Termination: ('C_P6/mmm_2', 'Ni_R-3m_1')<br>Termination index: 0<br>Interfaces Index Range: 30051-30062<br>Strain: 0.63%<br>Atoms: 282"
         ],
         "x": [
          0.629
         ],
         "y": [
          282
         ],
         "type": "scatter"
        },
        {
         "hoverinfo": "text",
         "mode": "markers",
         "name": "Indices: 30063-30074",
         "text": [
          "Termination: ('C_P6/mmm_2', 'Ni_R-3m_1')<br>Termination index: 0<br>Interfaces Index Range: 30063-30074<br>Strain: 0.63%<br>Atoms: 358"
         ],
         "x": [
          0.6300000000000001
         ],
         "y": [
          358
         ],
         "type": "scatter"
        },
        {
         "hoverinfo": "text",
         "mode": "markers",
         "name": "Indices: 30075-30078",
         "text": [
          "Termination: ('C_P6/mmm_2', 'Ni_R-3m_1')<br>Termination index: 0<br>Interfaces Index Range: 30075-30078<br>Strain: 0.63%<br>Atoms: 189"
         ],
         "x": [
          0.632
         ],
         "y": [
          189
         ],
         "type": "scatter"
        },
        {
         "hoverinfo": "text",
         "mode": "markers",
         "name": "Indices: 30079-30084",
         "text": [
          "Termination: ('C_P6/mmm_2', 'Ni_R-3m_1')<br>Termination index: 0<br>Interfaces Index Range: 30079-30084<br>Strain: 0.63%<br>Atoms: 363"
         ],
         "x": [
          0.632
         ],
         "y": [
          363
         ],
         "type": "scatter"
        },
        {
         "hoverinfo": "text",
         "mode": "markers",
         "name": "Indices: 30085-30096",
         "text": [
          "Termination: ('C_P6/mmm_2', 'Ni_R-3m_1')<br>Termination index: 0<br>Interfaces Index Range: 30085-30096<br>Strain: 0.63%<br>Atoms: 351"
         ],
         "x": [
          0.633
         ],
         "y": [
          351
         ],
         "type": "scatter"
        },
        {
         "hoverinfo": "text",
         "mode": "markers",
         "name": "Indices: 30097-30102",
         "text": [
          "Termination: ('C_P6/mmm_2', 'Ni_R-3m_1')<br>Termination index: 0<br>Interfaces Index Range: 30097-30102<br>Strain: 0.63%<br>Atoms: 202"
         ],
         "x": [
          0.634
         ],
         "y": [
          202
         ],
         "type": "scatter"
        },
        {
         "hoverinfo": "text",
         "mode": "markers",
         "name": "Indices: 30103-30114",
         "text": [
          "Termination: ('C_P6/mmm_2', 'Ni_R-3m_1')<br>Termination index: 0<br>Interfaces Index Range: 30103-30114<br>Strain: 0.63%<br>Atoms: 339"
         ],
         "x": [
          0.634
         ],
         "y": [
          339
         ],
         "type": "scatter"
        },
        {
         "hoverinfo": "text",
         "mode": "markers",
         "name": "Indices: 30115-30138",
         "text": [
          "Termination: ('C_P6/mmm_2', 'Ni_R-3m_1')<br>Termination index: 0<br>Interfaces Index Range: 30115-30138<br>Strain: 0.64%<br>Atoms: 326"
         ],
         "x": [
          0.635
         ],
         "y": [
          326
         ],
         "type": "scatter"
        },
        {
         "hoverinfo": "text",
         "mode": "markers",
         "name": "Indices: 30139-30150",
         "text": [
          "Termination: ('C_P6/mmm_2', 'Ni_R-3m_1')<br>Termination index: 0<br>Interfaces Index Range: 30139-30150<br>Strain: 0.64%<br>Atoms: 348"
         ],
         "x": [
          0.635
         ],
         "y": [
          348
         ],
         "type": "scatter"
        },
        {
         "hoverinfo": "text",
         "mode": "markers",
         "name": "Indices: 30151-30162",
         "text": [
          "Termination: ('C_P6/mmm_2', 'Ni_R-3m_1')<br>Termination index: 0<br>Interfaces Index Range: 30151-30162<br>Strain: 0.64%<br>Atoms: 197"
         ],
         "x": [
          0.636
         ],
         "y": [
          197
         ],
         "type": "scatter"
        },
        {
         "hoverinfo": "text",
         "mode": "markers",
         "name": "Indices: 30163-30166",
         "text": [
          "Termination: ('C_P6/mmm_2', 'Ni_R-3m_1')<br>Termination index: 0<br>Interfaces Index Range: 30163-30166<br>Strain: 0.64%<br>Atoms: 327"
         ],
         "x": [
          0.636
         ],
         "y": [
          327
         ],
         "type": "scatter"
        },
        {
         "hoverinfo": "text",
         "mode": "markers",
         "name": "Indices: 30167-30178",
         "text": [
          "Termination: ('C_P6/mmm_2', 'Ni_R-3m_1')<br>Termination index: 0<br>Interfaces Index Range: 30167-30178<br>Strain: 0.64%<br>Atoms: 328"
         ],
         "x": [
          0.637
         ],
         "y": [
          328
         ],
         "type": "scatter"
        },
        {
         "hoverinfo": "text",
         "mode": "markers",
         "name": "Indices: 30179-30190",
         "text": [
          "Termination: ('C_P6/mmm_2', 'Ni_R-3m_1')<br>Termination index: 0<br>Interfaces Index Range: 30179-30190<br>Strain: 0.64%<br>Atoms: 336"
         ],
         "x": [
          0.6390000000000001
         ],
         "y": [
          336
         ],
         "type": "scatter"
        },
        {
         "hoverinfo": "text",
         "mode": "markers",
         "name": "Indices: 30191-30202",
         "text": [
          "Termination: ('C_P6/mmm_2', 'Ni_R-3m_1')<br>Termination index: 0<br>Interfaces Index Range: 30191-30202<br>Strain: 0.64%<br>Atoms: 364"
         ],
         "x": [
          0.64
         ],
         "y": [
          364
         ],
         "type": "scatter"
        },
        {
         "hoverinfo": "text",
         "mode": "markers",
         "name": "Indices: 30203-30214",
         "text": [
          "Termination: ('C_P6/mmm_2', 'Ni_R-3m_1')<br>Termination index: 0<br>Interfaces Index Range: 30203-30214<br>Strain: 0.65%<br>Atoms: 347"
         ],
         "x": [
          0.65
         ],
         "y": [
          347
         ],
         "type": "scatter"
        },
        {
         "hoverinfo": "text",
         "mode": "markers",
         "name": "Indices: 30215-30226",
         "text": [
          "Termination: ('C_P6/mmm_2', 'Ni_R-3m_1')<br>Termination index: 0<br>Interfaces Index Range: 30215-30226<br>Strain: 0.65%<br>Atoms: 318"
         ],
         "x": [
          0.651
         ],
         "y": [
          318
         ],
         "type": "scatter"
        },
        {
         "hoverinfo": "text",
         "mode": "markers",
         "name": "Indices: 30227-30229",
         "text": [
          "Termination: ('C_P6/mmm_2', 'Ni_R-3m_1')<br>Termination index: 0<br>Interfaces Index Range: 30227-30229<br>Strain: 0.65%<br>Atoms: 197"
         ],
         "x": [
          0.652
         ],
         "y": [
          197
         ],
         "type": "scatter"
        },
        {
         "hoverinfo": "text",
         "mode": "markers",
         "name": "Indices: 30230-30241",
         "text": [
          "Termination: ('C_P6/mmm_2', 'Ni_R-3m_1')<br>Termination index: 0<br>Interfaces Index Range: 30230-30241<br>Strain: 0.65%<br>Atoms: 306"
         ],
         "x": [
          0.654
         ],
         "y": [
          306
         ],
         "type": "scatter"
        },
        {
         "hoverinfo": "text",
         "mode": "markers",
         "name": "Indices: 30242-30265",
         "text": [
          "Termination: ('C_P6/mmm_2', 'Ni_R-3m_1')<br>Termination index: 0<br>Interfaces Index Range: 30242-30265<br>Strain: 0.66%<br>Atoms: 316"
         ],
         "x": [
          0.655
         ],
         "y": [
          316
         ],
         "type": "scatter"
        },
        {
         "hoverinfo": "text",
         "mode": "markers",
         "name": "Indices: 30266-30271",
         "text": [
          "Termination: ('C_P6/mmm_2', 'Ni_R-3m_1')<br>Termination index: 0<br>Interfaces Index Range: 30266-30271<br>Strain: 0.66%<br>Atoms: 278"
         ],
         "x": [
          0.657
         ],
         "y": [
          278
         ],
         "type": "scatter"
        },
        {
         "hoverinfo": "text",
         "mode": "markers",
         "name": "Indices: 30272-30283",
         "text": [
          "Termination: ('C_P6/mmm_2', 'Ni_R-3m_1')<br>Termination index: 0<br>Interfaces Index Range: 30272-30283<br>Strain: 0.66%<br>Atoms: 347"
         ],
         "x": [
          0.657
         ],
         "y": [
          347
         ],
         "type": "scatter"
        },
        {
         "hoverinfo": "text",
         "mode": "markers",
         "name": "Indices: 30284-30295",
         "text": [
          "Termination: ('C_P6/mmm_2', 'Ni_R-3m_1')<br>Termination index: 0<br>Interfaces Index Range: 30284-30295<br>Strain: 0.66%<br>Atoms: 372"
         ],
         "x": [
          0.658
         ],
         "y": [
          372
         ],
         "type": "scatter"
        },
        {
         "hoverinfo": "text",
         "mode": "markers",
         "name": "Indices: 30296-30307",
         "text": [
          "Termination: ('C_P6/mmm_2', 'Ni_R-3m_1')<br>Termination index: 0<br>Interfaces Index Range: 30296-30307<br>Strain: 0.66%<br>Atoms: 318"
         ],
         "x": [
          0.661
         ],
         "y": [
          318
         ],
         "type": "scatter"
        },
        {
         "hoverinfo": "text",
         "mode": "markers",
         "name": "Indices: 30308-30319",
         "text": [
          "Termination: ('C_P6/mmm_2', 'Ni_R-3m_1')<br>Termination index: 0<br>Interfaces Index Range: 30308-30319<br>Strain: 0.66%<br>Atoms: 311"
         ],
         "x": [
          0.6620000000000001
         ],
         "y": [
          311
         ],
         "type": "scatter"
        },
        {
         "hoverinfo": "text",
         "mode": "markers",
         "name": "Indices: 30320-30331",
         "text": [
          "Termination: ('C_P6/mmm_2', 'Ni_R-3m_1')<br>Termination index: 0<br>Interfaces Index Range: 30320-30331<br>Strain: 0.66%<br>Atoms: 336"
         ],
         "x": [
          0.6620000000000001
         ],
         "y": [
          336
         ],
         "type": "scatter"
        },
        {
         "hoverinfo": "text",
         "mode": "markers",
         "name": "Indices: 30332-30343",
         "text": [
          "Termination: ('C_P6/mmm_2', 'Ni_R-3m_1')<br>Termination index: 0<br>Interfaces Index Range: 30332-30343<br>Strain: 0.66%<br>Atoms: 324"
         ],
         "x": [
          0.663
         ],
         "y": [
          324
         ],
         "type": "scatter"
        },
        {
         "hoverinfo": "text",
         "mode": "markers",
         "name": "Indices: 30344-30355",
         "text": [
          "Termination: ('C_P6/mmm_2', 'Ni_R-3m_1')<br>Termination index: 0<br>Interfaces Index Range: 30344-30355<br>Strain: 0.67%<br>Atoms: 369"
         ],
         "x": [
          0.666
         ],
         "y": [
          369
         ],
         "type": "scatter"
        },
        {
         "hoverinfo": "text",
         "mode": "markers",
         "name": "Indices: 30356-30358",
         "text": [
          "Termination: ('C_P6/mmm_2', 'Ni_R-3m_1')<br>Termination index: 0<br>Interfaces Index Range: 30356-30358<br>Strain: 0.67%<br>Atoms: 192"
         ],
         "x": [
          0.667
         ],
         "y": [
          192
         ],
         "type": "scatter"
        },
        {
         "hoverinfo": "text",
         "mode": "markers",
         "name": "Indices: 30359-30370",
         "text": [
          "Termination: ('C_P6/mmm_2', 'Ni_R-3m_1')<br>Termination index: 0<br>Interfaces Index Range: 30359-30370<br>Strain: 0.67%<br>Atoms: 294"
         ],
         "x": [
          0.667
         ],
         "y": [
          294
         ],
         "type": "scatter"
        },
        {
         "hoverinfo": "text",
         "mode": "markers",
         "name": "Indices: 30371-30382",
         "text": [
          "Termination: ('C_P6/mmm_2', 'Ni_R-3m_1')<br>Termination index: 0<br>Interfaces Index Range: 30371-30382<br>Strain: 0.67%<br>Atoms: 274"
         ],
         "x": [
          0.669
         ],
         "y": [
          274
         ],
         "type": "scatter"
        },
        {
         "hoverinfo": "text",
         "mode": "markers",
         "name": "Indices: 30383-30394",
         "text": [
          "Termination: ('C_P6/mmm_2', 'Ni_R-3m_1')<br>Termination index: 0<br>Interfaces Index Range: 30383-30394<br>Strain: 0.67%<br>Atoms: 358"
         ],
         "x": [
          0.67
         ],
         "y": [
          358
         ],
         "type": "scatter"
        },
        {
         "hoverinfo": "text",
         "mode": "markers",
         "name": "Indices: 30395-30400",
         "text": [
          "Termination: ('C_P6/mmm_2', 'Ni_R-3m_1')<br>Termination index: 0<br>Interfaces Index Range: 30395-30400<br>Strain: 0.68%<br>Atoms: 187"
         ],
         "x": [
          0.682
         ],
         "y": [
          187
         ],
         "type": "scatter"
        },
        {
         "hoverinfo": "text",
         "mode": "markers",
         "name": "Indices: 30401-30412",
         "text": [
          "Termination: ('C_P6/mmm_2', 'Ni_R-3m_1')<br>Termination index: 0<br>Interfaces Index Range: 30401-30412<br>Strain: 0.68%<br>Atoms: 318"
         ],
         "x": [
          0.682
         ],
         "y": [
          318
         ],
         "type": "scatter"
        },
        {
         "hoverinfo": "text",
         "mode": "markers",
         "name": "Indices: 30413-30424",
         "text": [
          "Termination: ('C_P6/mmm_2', 'Ni_R-3m_1')<br>Termination index: 0<br>Interfaces Index Range: 30413-30424<br>Strain: 0.69%<br>Atoms: 356"
         ],
         "x": [
          0.687
         ],
         "y": [
          356
         ],
         "type": "scatter"
        },
        {
         "hoverinfo": "text",
         "mode": "markers",
         "name": "Indices: 30425-30448",
         "text": [
          "Termination: ('C_P6/mmm_2', 'Ni_R-3m_1')<br>Termination index: 0<br>Interfaces Index Range: 30425-30448<br>Strain: 0.69%<br>Atoms: 375"
         ],
         "x": [
          0.6920000000000001
         ],
         "y": [
          375
         ],
         "type": "scatter"
        },
        {
         "hoverinfo": "text",
         "mode": "markers",
         "name": "Indices: 30449-30460",
         "text": [
          "Termination: ('C_P6/mmm_2', 'Ni_R-3m_1')<br>Termination index: 0<br>Interfaces Index Range: 30449-30460<br>Strain: 0.69%<br>Atoms: 328"
         ],
         "x": [
          0.6930000000000001
         ],
         "y": [
          328
         ],
         "type": "scatter"
        },
        {
         "hoverinfo": "text",
         "mode": "markers",
         "name": "Indices: 30461-30472",
         "text": [
          "Termination: ('C_P6/mmm_2', 'Ni_R-3m_1')<br>Termination index: 0<br>Interfaces Index Range: 30461-30472<br>Strain: 0.69%<br>Atoms: 348"
         ],
         "x": [
          0.6930000000000001
         ],
         "y": [
          348
         ],
         "type": "scatter"
        },
        {
         "hoverinfo": "text",
         "mode": "markers",
         "name": "Indices: 30473-30478",
         "text": [
          "Termination: ('C_P6/mmm_2', 'Ni_R-3m_1')<br>Termination index: 0<br>Interfaces Index Range: 30473-30478<br>Strain: 0.70%<br>Atoms: 362"
         ],
         "x": [
          0.6960000000000001
         ],
         "y": [
          362
         ],
         "type": "scatter"
        },
        {
         "hoverinfo": "text",
         "mode": "markers",
         "name": "Indices: 30479-30490",
         "text": [
          "Termination: ('C_P6/mmm_2', 'Ni_R-3m_1')<br>Termination index: 0<br>Interfaces Index Range: 30479-30490<br>Strain: 0.70%<br>Atoms: 363"
         ],
         "x": [
          0.7030000000000001
         ],
         "y": [
          363
         ],
         "type": "scatter"
        },
        {
         "hoverinfo": "text",
         "mode": "markers",
         "name": "Indices: 30491-30502",
         "text": [
          "Termination: ('C_P6/mmm_2', 'Ni_R-3m_1')<br>Termination index: 0<br>Interfaces Index Range: 30491-30502<br>Strain: 0.72%<br>Atoms: 318"
         ],
         "x": [
          0.719
         ],
         "y": [
          318
         ],
         "type": "scatter"
        },
        {
         "hoverinfo": "text",
         "mode": "markers",
         "name": "Indices: 30503-30514",
         "text": [
          "Termination: ('C_P6/mmm_2', 'Ni_R-3m_1')<br>Termination index: 0<br>Interfaces Index Range: 30503-30514<br>Strain: 0.73%<br>Atoms: 328"
         ],
         "x": [
          0.7300000000000001
         ],
         "y": [
          328
         ],
         "type": "scatter"
        },
        {
         "hoverinfo": "text",
         "mode": "markers",
         "name": "Indices: 30515-30526",
         "text": [
          "Termination: ('C_P6/mmm_2', 'Ni_R-3m_1')<br>Termination index: 0<br>Interfaces Index Range: 30515-30526<br>Strain: 0.73%<br>Atoms: 372"
         ],
         "x": [
          0.7300000000000001
         ],
         "y": [
          372
         ],
         "type": "scatter"
        },
        {
         "hoverinfo": "text",
         "mode": "markers",
         "name": "Indices: 30527-30538",
         "text": [
          "Termination: ('C_P6/mmm_2', 'Ni_R-3m_1')<br>Termination index: 0<br>Interfaces Index Range: 30527-30538<br>Strain: 0.74%<br>Atoms: 294"
         ],
         "x": [
          0.744
         ],
         "y": [
          294
         ],
         "type": "scatter"
        },
        {
         "hoverinfo": "text",
         "mode": "markers",
         "name": "Indices: 30539-30562",
         "text": [
          "Termination: ('C_P6/mmm_2', 'Ni_R-3m_1')<br>Termination index: 0<br>Interfaces Index Range: 30539-30562<br>Strain: 0.75%<br>Atoms: 375"
         ],
         "x": [
          0.748
         ],
         "y": [
          375
         ],
         "type": "scatter"
        },
        {
         "hoverinfo": "text",
         "mode": "markers",
         "name": "Indices: 30563-30568",
         "text": [
          "Termination: ('C_P6/mmm_2', 'Ni_R-3m_1')<br>Termination index: 0<br>Interfaces Index Range: 30563-30568<br>Strain: 0.75%<br>Atoms: 362"
         ],
         "x": [
          0.7490000000000001
         ],
         "y": [
          362
         ],
         "type": "scatter"
        },
        {
         "hoverinfo": "text",
         "mode": "markers",
         "name": "Indices: 30569-30580",
         "text": [
          "Termination: ('C_P6/mmm_2', 'Ni_R-3m_1')<br>Termination index: 0<br>Interfaces Index Range: 30569-30580<br>Strain: 0.75%<br>Atoms: 318"
         ],
         "x": [
          0.751
         ],
         "y": [
          318
         ],
         "type": "scatter"
        },
        {
         "hoverinfo": "text",
         "mode": "markers",
         "name": "Indices: 30581-30592",
         "text": [
          "Termination: ('C_P6/mmm_2', 'Ni_R-3m_1')<br>Termination index: 0<br>Interfaces Index Range: 30581-30592<br>Strain: 0.76%<br>Atoms: 318"
         ],
         "x": [
          0.763
         ],
         "y": [
          318
         ],
         "type": "scatter"
        },
        {
         "hoverinfo": "text",
         "mode": "markers",
         "name": "Indices: 30593-30616",
         "text": [
          "Termination: ('C_P6/mmm_2', 'Ni_R-3m_1')<br>Termination index: 0<br>Interfaces Index Range: 30593-30616<br>Strain: 0.83%<br>Atoms: 375"
         ],
         "x": [
          0.8320000000000001
         ],
         "y": [
          375
         ],
         "type": "scatter"
        }
       ],
       "layout": {
        "height": 600,
        "hovermode": "closest",
        "legend": {
         "title": {
          "text": "Interfaces Index Range"
         }
        },
        "xaxis": {
         "title": {
          "text": "Strain (%)"
         },
         "type": "log"
        },
        "yaxis": {
         "title": {
          "text": "Number of atoms"
         },
         "type": "log"
        },
        "template": {
         "data": {
          "histogram2dcontour": [
           {
            "type": "histogram2dcontour",
            "colorbar": {
             "outlinewidth": 0,
             "ticks": ""
            },
            "colorscale": [
             [
              0.0,
              "#0d0887"
             ],
             [
              0.1111111111111111,
              "#46039f"
             ],
             [
              0.2222222222222222,
              "#7201a8"
             ],
             [
              0.3333333333333333,
              "#9c179e"
             ],
             [
              0.4444444444444444,
              "#bd3786"
             ],
             [
              0.5555555555555556,
              "#d8576b"
             ],
             [
              0.6666666666666666,
              "#ed7953"
             ],
             [
              0.7777777777777778,
              "#fb9f3a"
             ],
             [
              0.8888888888888888,
              "#fdca26"
             ],
             [
              1.0,
              "#f0f921"
             ]
            ]
           }
          ],
          "choropleth": [
           {
            "type": "choropleth",
            "colorbar": {
             "outlinewidth": 0,
             "ticks": ""
            }
           }
          ],
          "histogram2d": [
           {
            "type": "histogram2d",
            "colorbar": {
             "outlinewidth": 0,
             "ticks": ""
            },
            "colorscale": [
             [
              0.0,
              "#0d0887"
             ],
             [
              0.1111111111111111,
              "#46039f"
             ],
             [
              0.2222222222222222,
              "#7201a8"
             ],
             [
              0.3333333333333333,
              "#9c179e"
             ],
             [
              0.4444444444444444,
              "#bd3786"
             ],
             [
              0.5555555555555556,
              "#d8576b"
             ],
             [
              0.6666666666666666,
              "#ed7953"
             ],
             [
              0.7777777777777778,
              "#fb9f3a"
             ],
             [
              0.8888888888888888,
              "#fdca26"
             ],
             [
              1.0,
              "#f0f921"
             ]
            ]
           }
          ],
          "heatmap": [
           {
            "type": "heatmap",
            "colorbar": {
             "outlinewidth": 0,
             "ticks": ""
            },
            "colorscale": [
             [
              0.0,
              "#0d0887"
             ],
             [
              0.1111111111111111,
              "#46039f"
             ],
             [
              0.2222222222222222,
              "#7201a8"
             ],
             [
              0.3333333333333333,
              "#9c179e"
             ],
             [
              0.4444444444444444,
              "#bd3786"
             ],
             [
              0.5555555555555556,
              "#d8576b"
             ],
             [
              0.6666666666666666,
              "#ed7953"
             ],
             [
              0.7777777777777778,
              "#fb9f3a"
             ],
             [
              0.8888888888888888,
              "#fdca26"
             ],
             [
              1.0,
              "#f0f921"
             ]
            ]
           }
          ],
          "heatmapgl": [
           {
            "type": "heatmapgl",
            "colorbar": {
             "outlinewidth": 0,
             "ticks": ""
            },
            "colorscale": [
             [
              0.0,
              "#0d0887"
             ],
             [
              0.1111111111111111,
              "#46039f"
             ],
             [
              0.2222222222222222,
              "#7201a8"
             ],
             [
              0.3333333333333333,
              "#9c179e"
             ],
             [
              0.4444444444444444,
              "#bd3786"
             ],
             [
              0.5555555555555556,
              "#d8576b"
             ],
             [
              0.6666666666666666,
              "#ed7953"
             ],
             [
              0.7777777777777778,
              "#fb9f3a"
             ],
             [
              0.8888888888888888,
              "#fdca26"
             ],
             [
              1.0,
              "#f0f921"
             ]
            ]
           }
          ],
          "contourcarpet": [
           {
            "type": "contourcarpet",
            "colorbar": {
             "outlinewidth": 0,
             "ticks": ""
            }
           }
          ],
          "contour": [
           {
            "type": "contour",
            "colorbar": {
             "outlinewidth": 0,
             "ticks": ""
            },
            "colorscale": [
             [
              0.0,
              "#0d0887"
             ],
             [
              0.1111111111111111,
              "#46039f"
             ],
             [
              0.2222222222222222,
              "#7201a8"
             ],
             [
              0.3333333333333333,
              "#9c179e"
             ],
             [
              0.4444444444444444,
              "#bd3786"
             ],
             [
              0.5555555555555556,
              "#d8576b"
             ],
             [
              0.6666666666666666,
              "#ed7953"
             ],
             [
              0.7777777777777778,
              "#fb9f3a"
             ],
             [
              0.8888888888888888,
              "#fdca26"
             ],
             [
              1.0,
              "#f0f921"
             ]
            ]
           }
          ],
          "surface": [
           {
            "type": "surface",
            "colorbar": {
             "outlinewidth": 0,
             "ticks": ""
            },
            "colorscale": [
             [
              0.0,
              "#0d0887"
             ],
             [
              0.1111111111111111,
              "#46039f"
             ],
             [
              0.2222222222222222,
              "#7201a8"
             ],
             [
              0.3333333333333333,
              "#9c179e"
             ],
             [
              0.4444444444444444,
              "#bd3786"
             ],
             [
              0.5555555555555556,
              "#d8576b"
             ],
             [
              0.6666666666666666,
              "#ed7953"
             ],
             [
              0.7777777777777778,
              "#fb9f3a"
             ],
             [
              0.8888888888888888,
              "#fdca26"
             ],
             [
              1.0,
              "#f0f921"
             ]
            ]
           }
          ],
          "mesh3d": [
           {
            "type": "mesh3d",
            "colorbar": {
             "outlinewidth": 0,
             "ticks": ""
            }
           }
          ],
          "scatter": [
           {
            "marker": {
             "line": {
              "color": "#283442"
             }
            },
            "type": "scatter"
           }
          ],
          "parcoords": [
           {
            "type": "parcoords",
            "line": {
             "colorbar": {
              "outlinewidth": 0,
              "ticks": ""
             }
            }
           }
          ],
          "scatterpolargl": [
           {
            "type": "scatterpolargl",
            "marker": {
             "colorbar": {
              "outlinewidth": 0,
              "ticks": ""
             }
            }
           }
          ],
          "bar": [
           {
            "error_x": {
             "color": "#f2f5fa"
            },
            "error_y": {
             "color": "#f2f5fa"
            },
            "marker": {
             "line": {
              "color": "rgb(17,17,17)",
              "width": 0.5
             },
             "pattern": {
              "fillmode": "overlay",
              "size": 10,
              "solidity": 0.2
             }
            },
            "type": "bar"
           }
          ],
          "scattergeo": [
           {
            "type": "scattergeo",
            "marker": {
             "colorbar": {
              "outlinewidth": 0,
              "ticks": ""
             }
            }
           }
          ],
          "scatterpolar": [
           {
            "type": "scatterpolar",
            "marker": {
             "colorbar": {
              "outlinewidth": 0,
              "ticks": ""
             }
            }
           }
          ],
          "histogram": [
           {
            "marker": {
             "pattern": {
              "fillmode": "overlay",
              "size": 10,
              "solidity": 0.2
             }
            },
            "type": "histogram"
           }
          ],
          "scattergl": [
           {
            "marker": {
             "line": {
              "color": "#283442"
             }
            },
            "type": "scattergl"
           }
          ],
          "scatter3d": [
           {
            "type": "scatter3d",
            "line": {
             "colorbar": {
              "outlinewidth": 0,
              "ticks": ""
             }
            },
            "marker": {
             "colorbar": {
              "outlinewidth": 0,
              "ticks": ""
             }
            }
           }
          ],
          "scattermapbox": [
           {
            "type": "scattermapbox",
            "marker": {
             "colorbar": {
              "outlinewidth": 0,
              "ticks": ""
             }
            }
           }
          ],
          "scatterternary": [
           {
            "type": "scatterternary",
            "marker": {
             "colorbar": {
              "outlinewidth": 0,
              "ticks": ""
             }
            }
           }
          ],
          "scattercarpet": [
           {
            "type": "scattercarpet",
            "marker": {
             "colorbar": {
              "outlinewidth": 0,
              "ticks": ""
             }
            }
           }
          ],
          "carpet": [
           {
            "aaxis": {
             "endlinecolor": "#A2B1C6",
             "gridcolor": "#506784",
             "linecolor": "#506784",
             "minorgridcolor": "#506784",
             "startlinecolor": "#A2B1C6"
            },
            "baxis": {
             "endlinecolor": "#A2B1C6",
             "gridcolor": "#506784",
             "linecolor": "#506784",
             "minorgridcolor": "#506784",
             "startlinecolor": "#A2B1C6"
            },
            "type": "carpet"
           }
          ],
          "table": [
           {
            "cells": {
             "fill": {
              "color": "#506784"
             },
             "line": {
              "color": "rgb(17,17,17)"
             }
            },
            "header": {
             "fill": {
              "color": "#2a3f5f"
             },
             "line": {
              "color": "rgb(17,17,17)"
             }
            },
            "type": "table"
           }
          ],
          "barpolar": [
           {
            "marker": {
             "line": {
              "color": "rgb(17,17,17)",
              "width": 0.5
             },
             "pattern": {
              "fillmode": "overlay",
              "size": 10,
              "solidity": 0.2
             }
            },
            "type": "barpolar"
           }
          ],
          "pie": [
           {
            "automargin": true,
            "type": "pie"
           }
          ]
         },
         "layout": {
          "autotypenumbers": "strict",
          "colorway": [
           "#636efa",
           "#EF553B",
           "#00cc96",
           "#ab63fa",
           "#FFA15A",
           "#19d3f3",
           "#FF6692",
           "#B6E880",
           "#FF97FF",
           "#FECB52"
          ],
          "font": {
           "color": "#f2f5fa"
          },
          "hovermode": "closest",
          "hoverlabel": {
           "align": "left"
          },
          "paper_bgcolor": "rgb(17,17,17)",
          "plot_bgcolor": "rgb(17,17,17)",
          "polar": {
           "bgcolor": "rgb(17,17,17)",
           "angularaxis": {
            "gridcolor": "#506784",
            "linecolor": "#506784",
            "ticks": ""
           },
           "radialaxis": {
            "gridcolor": "#506784",
            "linecolor": "#506784",
            "ticks": ""
           }
          },
          "ternary": {
           "bgcolor": "rgb(17,17,17)",
           "aaxis": {
            "gridcolor": "#506784",
            "linecolor": "#506784",
            "ticks": ""
           },
           "baxis": {
            "gridcolor": "#506784",
            "linecolor": "#506784",
            "ticks": ""
           },
           "caxis": {
            "gridcolor": "#506784",
            "linecolor": "#506784",
            "ticks": ""
           }
          },
          "coloraxis": {
           "colorbar": {
            "outlinewidth": 0,
            "ticks": ""
           }
          },
          "colorscale": {
           "sequential": [
            [
             0.0,
             "#0d0887"
            ],
            [
             0.1111111111111111,
             "#46039f"
            ],
            [
             0.2222222222222222,
             "#7201a8"
            ],
            [
             0.3333333333333333,
             "#9c179e"
            ],
            [
             0.4444444444444444,
             "#bd3786"
            ],
            [
             0.5555555555555556,
             "#d8576b"
            ],
            [
             0.6666666666666666,
             "#ed7953"
            ],
            [
             0.7777777777777778,
             "#fb9f3a"
            ],
            [
             0.8888888888888888,
             "#fdca26"
            ],
            [
             1.0,
             "#f0f921"
            ]
           ],
           "sequentialminus": [
            [
             0.0,
             "#0d0887"
            ],
            [
             0.1111111111111111,
             "#46039f"
            ],
            [
             0.2222222222222222,
             "#7201a8"
            ],
            [
             0.3333333333333333,
             "#9c179e"
            ],
            [
             0.4444444444444444,
             "#bd3786"
            ],
            [
             0.5555555555555556,
             "#d8576b"
            ],
            [
             0.6666666666666666,
             "#ed7953"
            ],
            [
             0.7777777777777778,
             "#fb9f3a"
            ],
            [
             0.8888888888888888,
             "#fdca26"
            ],
            [
             1.0,
             "#f0f921"
            ]
           ],
           "diverging": [
            [
             0,
             "#8e0152"
            ],
            [
             0.1,
             "#c51b7d"
            ],
            [
             0.2,
             "#de77ae"
            ],
            [
             0.3,
             "#f1b6da"
            ],
            [
             0.4,
             "#fde0ef"
            ],
            [
             0.5,
             "#f7f7f7"
            ],
            [
             0.6,
             "#e6f5d0"
            ],
            [
             0.7,
             "#b8e186"
            ],
            [
             0.8,
             "#7fbc41"
            ],
            [
             0.9,
             "#4d9221"
            ],
            [
             1,
             "#276419"
            ]
           ]
          },
          "xaxis": {
           "gridcolor": "#283442",
           "linecolor": "#506784",
           "ticks": "",
           "title": {
            "standoff": 15
           },
           "zerolinecolor": "#283442",
           "automargin": true,
           "zerolinewidth": 2
          },
          "yaxis": {
           "gridcolor": "#283442",
           "linecolor": "#506784",
           "ticks": "",
           "title": {
            "standoff": 15
           },
           "zerolinecolor": "#283442",
           "automargin": true,
           "zerolinewidth": 2
          },
          "scene": {
           "xaxis": {
            "backgroundcolor": "rgb(17,17,17)",
            "gridcolor": "#506784",
            "linecolor": "#506784",
            "showbackground": true,
            "ticks": "",
            "zerolinecolor": "#C8D4E3",
            "gridwidth": 2
           },
           "yaxis": {
            "backgroundcolor": "rgb(17,17,17)",
            "gridcolor": "#506784",
            "linecolor": "#506784",
            "showbackground": true,
            "ticks": "",
            "zerolinecolor": "#C8D4E3",
            "gridwidth": 2
           },
           "zaxis": {
            "backgroundcolor": "rgb(17,17,17)",
            "gridcolor": "#506784",
            "linecolor": "#506784",
            "showbackground": true,
            "ticks": "",
            "zerolinecolor": "#C8D4E3",
            "gridwidth": 2
           }
          },
          "shapedefaults": {
           "line": {
            "color": "#f2f5fa"
           }
          },
          "annotationdefaults": {
           "arrowcolor": "#f2f5fa",
           "arrowhead": 0,
           "arrowwidth": 1
          },
          "geo": {
           "bgcolor": "rgb(17,17,17)",
           "landcolor": "rgb(17,17,17)",
           "subunitcolor": "#506784",
           "showland": true,
           "showlakes": true,
           "lakecolor": "rgb(17,17,17)"
          },
          "title": {
           "x": 0.05
          },
          "updatemenudefaults": {
           "bgcolor": "#506784",
           "borderwidth": 0
          },
          "sliderdefaults": {
           "bgcolor": "#C8D4E3",
           "borderwidth": 1,
           "bordercolor": "rgb(17,17,17)",
           "tickwidth": 0
          },
          "mapbox": {
           "style": "dark"
          }
         }
        }
       },
       "config": {
        "plotlyServerURL": "https://plot.ly"
       }
      },
      "text/html": "<div>                            <div id=\"38d342bf-339c-4bef-8798-4e3a39e086ee\" class=\"plotly-graph-div\" style=\"height:600px; width:100%;\"></div>            <script type=\"text/javascript\">                require([\"plotly\"], function(Plotly) {                    window.PLOTLYENV=window.PLOTLYENV || {};                                    if (document.getElementById(\"38d342bf-339c-4bef-8798-4e3a39e086ee\")) {                    Plotly.newPlot(                        \"38d342bf-339c-4bef-8798-4e3a39e086ee\",                        [{\"hoverinfo\":\"text\",\"mode\":\"markers\",\"name\":\"Indices: 0\",\"text\":[\"Termination: ('C_P6\\u002fmmm_2', 'Ni_R-3m_1')\\u003cbr\\u003eTermination index: 0\\u003cbr\\u003eInterfaces Index Range: 0\\u003cbr\\u003eStrain: 0.07%\\u003cbr\\u003eAtoms: 5\"],\"x\":[0.06600000000000002],\"y\":[5],\"type\":\"scatter\"},{\"hoverinfo\":\"text\",\"mode\":\"markers\",\"name\":\"Indices: 1-9\",\"text\":[\"Termination: ('C_P6\\u002fmmm_2', 'Ni_R-3m_1')\\u003cbr\\u003eTermination index: 0\\u003cbr\\u003eInterfaces Index Range: 1-9\\u003cbr\\u003eStrain: 0.07%\\u003cbr\\u003eAtoms: 10\"],\"x\":[0.06600000000000002],\"y\":[10],\"type\":\"scatter\"},{\"hoverinfo\":\"text\",\"mode\":\"markers\",\"name\":\"Indices: 10-19\",\"text\":[\"Termination: ('C_P6\\u002fmmm_2', 'Ni_R-3m_1')\\u003cbr\\u003eTermination index: 0\\u003cbr\\u003eInterfaces Index Range: 10-19\\u003cbr\\u003eStrain: 0.07%\\u003cbr\\u003eAtoms: 15\"],\"x\":[0.06600000000000002],\"y\":[15],\"type\":\"scatter\"},{\"hoverinfo\":\"text\",\"mode\":\"markers\",\"name\":\"Indices: 20-38\",\"text\":[\"Termination: ('C_P6\\u002fmmm_2', 'Ni_R-3m_1')\\u003cbr\\u003eTermination index: 0\\u003cbr\\u003eInterfaces Index Range: 20-38\\u003cbr\\u003eStrain: 0.07%\\u003cbr\\u003eAtoms: 20\"],\"x\":[0.06600000000000002],\"y\":[20],\"type\":\"scatter\"},{\"hoverinfo\":\"text\",\"mode\":\"markers\",\"name\":\"Indices: 39-56\",\"text\":[\"Termination: ('C_P6\\u002fmmm_2', 'Ni_R-3m_1')\\u003cbr\\u003eTermination index: 0\\u003cbr\\u003eInterfaces Index Range: 39-56\\u003cbr\\u003eStrain: 0.07%\\u003cbr\\u003eAtoms: 25\"],\"x\":[0.06600000000000002],\"y\":[25],\"type\":\"scatter\"},{\"hoverinfo\":\"text\",\"mode\":\"markers\",\"name\":\"Indices: 57-110\",\"text\":[\"Termination: ('C_P6\\u002fmmm_2', 'Ni_R-3m_1')\\u003cbr\\u003eTermination index: 0\\u003cbr\\u003eInterfaces Index Range: 57-110\\u003cbr\\u003eStrain: 0.07%\\u003cbr\\u003eAtoms: 30\"],\"x\":[0.06600000000000002],\"y\":[30],\"type\":\"scatter\"},{\"hoverinfo\":\"text\",\"mode\":\"markers\",\"name\":\"Indices: 111-132\",\"text\":[\"Termination: ('C_P6\\u002fmmm_2', 'Ni_R-3m_1')\\u003cbr\\u003eTermination index: 0\\u003cbr\\u003eInterfaces Index Range: 111-132\\u003cbr\\u003eStrain: 0.07%\\u003cbr\\u003eAtoms: 35\"],\"x\":[0.06600000000000002],\"y\":[35],\"type\":\"scatter\"},{\"hoverinfo\":\"text\",\"mode\":\"markers\",\"name\":\"Indices: 133-177\",\"text\":[\"Termination: ('C_P6\\u002fmmm_2', 'Ni_R-3m_1')\\u003cbr\\u003eTermination index: 0\\u003cbr\\u003eInterfaces Index Range: 133-177\\u003cbr\\u003eStrain: 0.07%\\u003cbr\\u003eAtoms: 40\"],\"x\":[0.06600000000000002],\"y\":[40],\"type\":\"scatter\"},{\"hoverinfo\":\"text\",\"mode\":\"markers\",\"name\":\"Indices: 178-232\",\"text\":[\"Termination: ('C_P6\\u002fmmm_2', 'Ni_R-3m_1')\\u003cbr\\u003eTermination index: 0\\u003cbr\\u003eInterfaces Index Range: 178-232\\u003cbr\\u003eStrain: 0.07%\\u003cbr\\u003eAtoms: 45\"],\"x\":[0.06600000000000002],\"y\":[45],\"type\":\"scatter\"},{\"hoverinfo\":\"text\",\"mode\":\"markers\",\"name\":\"Indices: 233-322\",\"text\":[\"Termination: ('C_P6\\u002fmmm_2', 'Ni_R-3m_1')\\u003cbr\\u003eTermination index: 0\\u003cbr\\u003eInterfaces Index Range: 233-322\\u003cbr\\u003eStrain: 0.07%\\u003cbr\\u003eAtoms: 50\"],\"x\":[0.06600000000000002],\"y\":[50],\"type\":\"scatter\"},{\"hoverinfo\":\"text\",\"mode\":\"markers\",\"name\":\"Indices: 323-376\",\"text\":[\"Termination: ('C_P6\\u002fmmm_2', 'Ni_R-3m_1')\\u003cbr\\u003eTermination index: 0\\u003cbr\\u003eInterfaces Index Range: 323-376\\u003cbr\\u003eStrain: 0.07%\\u003cbr\\u003eAtoms: 55\"],\"x\":[0.06600000000000002],\"y\":[55],\"type\":\"scatter\"},{\"hoverinfo\":\"text\",\"mode\":\"markers\",\"name\":\"Indices: 377-494\",\"text\":[\"Termination: ('C_P6\\u002fmmm_2', 'Ni_R-3m_1')\\u003cbr\\u003eTermination index: 0\\u003cbr\\u003eInterfaces Index Range: 377-494\\u003cbr\\u003eStrain: 0.07%\\u003cbr\\u003eAtoms: 60\"],\"x\":[0.06600000000000002],\"y\":[60],\"type\":\"scatter\"},{\"hoverinfo\":\"text\",\"mode\":\"markers\",\"name\":\"Indices: 495-552\",\"text\":[\"Termination: ('C_P6\\u002fmmm_2', 'Ni_R-3m_1')\\u003cbr\\u003eTermination index: 0\\u003cbr\\u003eInterfaces Index Range: 495-552\\u003cbr\\u003eStrain: 0.07%\\u003cbr\\u003eAtoms: 65\"],\"x\":[0.06600000000000002],\"y\":[65],\"type\":\"scatter\"},{\"hoverinfo\":\"text\",\"mode\":\"markers\",\"name\":\"Indices: 553-678\",\"text\":[\"Termination: ('C_P6\\u002fmmm_2', 'Ni_R-3m_1')\\u003cbr\\u003eTermination index: 0\\u003cbr\\u003eInterfaces Index Range: 553-678\\u003cbr\\u003eStrain: 0.07%\\u003cbr\\u003eAtoms: 70\"],\"x\":[0.06600000000000002],\"y\":[70],\"type\":\"scatter\"},{\"hoverinfo\":\"text\",\"mode\":\"markers\",\"name\":\"Indices: 679-786\",\"text\":[\"Termination: ('C_P6\\u002fmmm_2', 'Ni_R-3m_1')\\u003cbr\\u003eTermination index: 0\\u003cbr\\u003eInterfaces Index Range: 679-786\\u003cbr\\u003eStrain: 0.07%\\u003cbr\\u003eAtoms: 75\"],\"x\":[0.06600000000000002],\"y\":[75],\"type\":\"scatter\"},{\"hoverinfo\":\"text\",\"mode\":\"markers\",\"name\":\"Indices: 787-913\",\"text\":[\"Termination: ('C_P6\\u002fmmm_2', 'Ni_R-3m_1')\\u003cbr\\u003eTermination index: 0\\u003cbr\\u003eInterfaces Index Range: 787-913\\u003cbr\\u003eStrain: 0.07%\\u003cbr\\u003eAtoms: 80\"],\"x\":[0.06600000000000002],\"y\":[80],\"type\":\"scatter\"},{\"hoverinfo\":\"text\",\"mode\":\"markers\",\"name\":\"Indices: 914-1003\",\"text\":[\"Termination: ('C_P6\\u002fmmm_2', 'Ni_R-3m_1')\\u003cbr\\u003eTermination index: 0\\u003cbr\\u003eInterfaces Index Range: 914-1003\\u003cbr\\u003eStrain: 0.07%\\u003cbr\\u003eAtoms: 85\"],\"x\":[0.06600000000000002],\"y\":[85],\"type\":\"scatter\"},{\"hoverinfo\":\"text\",\"mode\":\"markers\",\"name\":\"Indices: 1004-1210\",\"text\":[\"Termination: ('C_P6\\u002fmmm_2', 'Ni_R-3m_1')\\u003cbr\\u003eTermination index: 0\\u003cbr\\u003eInterfaces Index Range: 1004-1210\\u003cbr\\u003eStrain: 0.07%\\u003cbr\\u003eAtoms: 90\"],\"x\":[0.06600000000000002],\"y\":[90],\"type\":\"scatter\"},{\"hoverinfo\":\"text\",\"mode\":\"markers\",\"name\":\"Indices: 1211-1304\",\"text\":[\"Termination: ('C_P6\\u002fmmm_2', 'Ni_R-3m_1')\\u003cbr\\u003eTermination index: 0\\u003cbr\\u003eInterfaces Index Range: 1211-1304\\u003cbr\\u003eStrain: 0.07%\\u003cbr\\u003eAtoms: 95\"],\"x\":[0.06600000000000002],\"y\":[95],\"type\":\"scatter\"},{\"hoverinfo\":\"text\",\"mode\":\"markers\",\"name\":\"Indices: 1305-1502\",\"text\":[\"Termination: ('C_P6\\u002fmmm_2', 'Ni_R-3m_1')\\u003cbr\\u003eTermination index: 0\\u003cbr\\u003eInterfaces Index Range: 1305-1502\\u003cbr\\u003eStrain: 0.07%\\u003cbr\\u003eAtoms: 100\"],\"x\":[0.06600000000000002],\"y\":[100],\"type\":\"scatter\"},{\"hoverinfo\":\"text\",\"mode\":\"markers\",\"name\":\"Indices: 1503-1650\",\"text\":[\"Termination: ('C_P6\\u002fmmm_2', 'Ni_R-3m_1')\\u003cbr\\u003eTermination index: 0\\u003cbr\\u003eInterfaces Index Range: 1503-1650\\u003cbr\\u003eStrain: 0.07%\\u003cbr\\u003eAtoms: 105\"],\"x\":[0.06600000000000002],\"y\":[105],\"type\":\"scatter\"},{\"hoverinfo\":\"text\",\"mode\":\"markers\",\"name\":\"Indices: 1651-1848\",\"text\":[\"Termination: ('C_P6\\u002fmmm_2', 'Ni_R-3m_1')\\u003cbr\\u003eTermination index: 0\\u003cbr\\u003eInterfaces Index Range: 1651-1848\\u003cbr\\u003eStrain: 0.07%\\u003cbr\\u003eAtoms: 110\"],\"x\":[0.06600000000000002],\"y\":[110],\"type\":\"scatter\"},{\"hoverinfo\":\"text\",\"mode\":\"markers\",\"name\":\"Indices: 1849-1974\",\"text\":[\"Termination: ('C_P6\\u002fmmm_2', 'Ni_R-3m_1')\\u003cbr\\u003eTermination index: 0\\u003cbr\\u003eInterfaces Index Range: 1849-1974\\u003cbr\\u003eStrain: 0.07%\\u003cbr\\u003eAtoms: 115\"],\"x\":[0.06600000000000002],\"y\":[115],\"type\":\"scatter\"},{\"hoverinfo\":\"text\",\"mode\":\"markers\",\"name\":\"Indices: 1975-2244\",\"text\":[\"Termination: ('C_P6\\u002fmmm_2', 'Ni_R-3m_1')\\u003cbr\\u003eTermination index: 0\\u003cbr\\u003eInterfaces Index Range: 1975-2244\\u003cbr\\u003eStrain: 0.07%\\u003cbr\\u003eAtoms: 120\"],\"x\":[0.06600000000000002],\"y\":[120],\"type\":\"scatter\"},{\"hoverinfo\":\"text\",\"mode\":\"markers\",\"name\":\"Indices: 2245-2407\",\"text\":[\"Termination: ('C_P6\\u002fmmm_2', 'Ni_R-3m_1')\\u003cbr\\u003eTermination index: 0\\u003cbr\\u003eInterfaces Index Range: 2245-2407\\u003cbr\\u003eStrain: 0.07%\\u003cbr\\u003eAtoms: 125\"],\"x\":[0.06600000000000002],\"y\":[125],\"type\":\"scatter\"},{\"hoverinfo\":\"text\",\"mode\":\"markers\",\"name\":\"Indices: 2408-2641\",\"text\":[\"Termination: ('C_P6\\u002fmmm_2', 'Ni_R-3m_1')\\u003cbr\\u003eTermination index: 0\\u003cbr\\u003eInterfaces Index Range: 2408-2641\\u003cbr\\u003eStrain: 0.07%\\u003cbr\\u003eAtoms: 130\"],\"x\":[0.06600000000000002],\"y\":[130],\"type\":\"scatter\"},{\"hoverinfo\":\"text\",\"mode\":\"markers\",\"name\":\"Indices: 2642-2849\",\"text\":[\"Termination: ('C_P6\\u002fmmm_2', 'Ni_R-3m_1')\\u003cbr\\u003eTermination index: 0\\u003cbr\\u003eInterfaces Index Range: 2642-2849\\u003cbr\\u003eStrain: 0.07%\\u003cbr\\u003eAtoms: 135\"],\"x\":[0.06600000000000002],\"y\":[135],\"type\":\"scatter\"},{\"hoverinfo\":\"text\",\"mode\":\"markers\",\"name\":\"Indices: 2850-3123\",\"text\":[\"Termination: ('C_P6\\u002fmmm_2', 'Ni_R-3m_1')\\u003cbr\\u003eTermination index: 0\\u003cbr\\u003eInterfaces Index Range: 2850-3123\\u003cbr\\u003eStrain: 0.07%\\u003cbr\\u003eAtoms: 140\"],\"x\":[0.06600000000000002],\"y\":[140],\"type\":\"scatter\"},{\"hoverinfo\":\"text\",\"mode\":\"markers\",\"name\":\"Indices: 3124-3285\",\"text\":[\"Termination: ('C_P6\\u002fmmm_2', 'Ni_R-3m_1')\\u003cbr\\u003eTermination index: 0\\u003cbr\\u003eInterfaces Index Range: 3124-3285\\u003cbr\\u003eStrain: 0.07%\\u003cbr\\u003eAtoms: 145\"],\"x\":[0.06600000000000002],\"y\":[145],\"type\":\"scatter\"},{\"hoverinfo\":\"text\",\"mode\":\"markers\",\"name\":\"Indices: 3286-3681\",\"text\":[\"Termination: ('C_P6\\u002fmmm_2', 'Ni_R-3m_1')\\u003cbr\\u003eTermination index: 0\\u003cbr\\u003eInterfaces Index Range: 3286-3681\\u003cbr\\u003eStrain: 0.07%\\u003cbr\\u003eAtoms: 150\"],\"x\":[0.06600000000000002],\"y\":[150],\"type\":\"scatter\"},{\"hoverinfo\":\"text\",\"mode\":\"markers\",\"name\":\"Indices: 3682-3847\",\"text\":[\"Termination: ('C_P6\\u002fmmm_2', 'Ni_R-3m_1')\\u003cbr\\u003eTermination index: 0\\u003cbr\\u003eInterfaces Index Range: 3682-3847\\u003cbr\\u003eStrain: 0.07%\\u003cbr\\u003eAtoms: 155\"],\"x\":[0.06600000000000002],\"y\":[155],\"type\":\"scatter\"},{\"hoverinfo\":\"text\",\"mode\":\"markers\",\"name\":\"Indices: 3848-4144\",\"text\":[\"Termination: ('C_P6\\u002fmmm_2', 'Ni_R-3m_1')\\u003cbr\\u003eTermination index: 0\\u003cbr\\u003eInterfaces Index Range: 3848-4144\\u003cbr\\u003eStrain: 0.07%\\u003cbr\\u003eAtoms: 160\"],\"x\":[0.06600000000000002],\"y\":[160],\"type\":\"scatter\"},{\"hoverinfo\":\"text\",\"mode\":\"markers\",\"name\":\"Indices: 4145-4396\",\"text\":[\"Termination: ('C_P6\\u002fmmm_2', 'Ni_R-3m_1')\\u003cbr\\u003eTermination index: 0\\u003cbr\\u003eInterfaces Index Range: 4145-4396\\u003cbr\\u003eStrain: 0.07%\\u003cbr\\u003eAtoms: 165\"],\"x\":[0.06600000000000002],\"y\":[165],\"type\":\"scatter\"},{\"hoverinfo\":\"text\",\"mode\":\"markers\",\"name\":\"Indices: 4397-4702\",\"text\":[\"Termination: ('C_P6\\u002fmmm_2', 'Ni_R-3m_1')\\u003cbr\\u003eTermination index: 0\\u003cbr\\u003eInterfaces Index Range: 4397-4702\\u003cbr\\u003eStrain: 0.07%\\u003cbr\\u003eAtoms: 170\"],\"x\":[0.06600000000000002],\"y\":[170],\"type\":\"scatter\"},{\"hoverinfo\":\"text\",\"mode\":\"markers\",\"name\":\"Indices: 4703-4954\",\"text\":[\"Termination: ('C_P6\\u002fmmm_2', 'Ni_R-3m_1')\\u003cbr\\u003eTermination index: 0\\u003cbr\\u003eInterfaces Index Range: 4703-4954\\u003cbr\\u003eStrain: 0.07%\\u003cbr\\u003eAtoms: 175\"],\"x\":[0.06600000000000002],\"y\":[175],\"type\":\"scatter\"},{\"hoverinfo\":\"text\",\"mode\":\"markers\",\"name\":\"Indices: 4955-5423\",\"text\":[\"Termination: ('C_P6\\u002fmmm_2', 'Ni_R-3m_1')\\u003cbr\\u003eTermination index: 0\\u003cbr\\u003eInterfaces Index Range: 4955-5423\\u003cbr\\u003eStrain: 0.07%\\u003cbr\\u003eAtoms: 180\"],\"x\":[0.06600000000000002],\"y\":[180],\"type\":\"scatter\"},{\"hoverinfo\":\"text\",\"mode\":\"markers\",\"name\":\"Indices: 5424-5625\",\"text\":[\"Termination: ('C_P6\\u002fmmm_2', 'Ni_R-3m_1')\\u003cbr\\u003eTermination index: 0\\u003cbr\\u003eInterfaces Index Range: 5424-5625\\u003cbr\\u003eStrain: 0.07%\\u003cbr\\u003eAtoms: 185\"],\"x\":[0.06600000000000002],\"y\":[185],\"type\":\"scatter\"},{\"hoverinfo\":\"text\",\"mode\":\"markers\",\"name\":\"Indices: 5626-5967\",\"text\":[\"Termination: ('C_P6\\u002fmmm_2', 'Ni_R-3m_1')\\u003cbr\\u003eTermination index: 0\\u003cbr\\u003eInterfaces Index Range: 5626-5967\\u003cbr\\u003eStrain: 0.07%\\u003cbr\\u003eAtoms: 190\"],\"x\":[0.06600000000000002],\"y\":[190],\"type\":\"scatter\"},{\"hoverinfo\":\"text\",\"mode\":\"markers\",\"name\":\"Indices: 5968-6259\",\"text\":[\"Termination: ('C_P6\\u002fmmm_2', 'Ni_R-3m_1')\\u003cbr\\u003eTermination index: 0\\u003cbr\\u003eInterfaces Index Range: 5968-6259\\u003cbr\\u003eStrain: 0.07%\\u003cbr\\u003eAtoms: 195\"],\"x\":[0.06600000000000002],\"y\":[195],\"type\":\"scatter\"},{\"hoverinfo\":\"text\",\"mode\":\"markers\",\"name\":\"Indices: 6260-6709\",\"text\":[\"Termination: ('C_P6\\u002fmmm_2', 'Ni_R-3m_1')\\u003cbr\\u003eTermination index: 0\\u003cbr\\u003eInterfaces Index Range: 6260-6709\\u003cbr\\u003eStrain: 0.07%\\u003cbr\\u003eAtoms: 200\"],\"x\":[0.06600000000000002],\"y\":[200],\"type\":\"scatter\"},{\"hoverinfo\":\"text\",\"mode\":\"markers\",\"name\":\"Indices: 6710-6943\",\"text\":[\"Termination: ('C_P6\\u002fmmm_2', 'Ni_R-3m_1')\\u003cbr\\u003eTermination index: 0\\u003cbr\\u003eInterfaces Index Range: 6710-6943\\u003cbr\\u003eStrain: 0.07%\\u003cbr\\u003eAtoms: 205\"],\"x\":[0.06600000000000002],\"y\":[205],\"type\":\"scatter\"},{\"hoverinfo\":\"text\",\"mode\":\"markers\",\"name\":\"Indices: 6944-7555\",\"text\":[\"Termination: ('C_P6\\u002fmmm_2', 'Ni_R-3m_1')\\u003cbr\\u003eTermination index: 0\\u003cbr\\u003eInterfaces Index Range: 6944-7555\\u003cbr\\u003eStrain: 0.07%\\u003cbr\\u003eAtoms: 210\"],\"x\":[0.06600000000000002],\"y\":[210],\"type\":\"scatter\"},{\"hoverinfo\":\"text\",\"mode\":\"markers\",\"name\":\"Indices: 7556-7793\",\"text\":[\"Termination: ('C_P6\\u002fmmm_2', 'Ni_R-3m_1')\\u003cbr\\u003eTermination index: 0\\u003cbr\\u003eInterfaces Index Range: 7556-7793\\u003cbr\\u003eStrain: 0.07%\\u003cbr\\u003eAtoms: 215\"],\"x\":[0.06600000000000002],\"y\":[215],\"type\":\"scatter\"},{\"hoverinfo\":\"text\",\"mode\":\"markers\",\"name\":\"Indices: 7794-8243\",\"text\":[\"Termination: ('C_P6\\u002fmmm_2', 'Ni_R-3m_1')\\u003cbr\\u003eTermination index: 0\\u003cbr\\u003eInterfaces Index Range: 7794-8243\\u003cbr\\u003eStrain: 0.07%\\u003cbr\\u003eAtoms: 220\"],\"x\":[0.06600000000000002],\"y\":[220],\"type\":\"scatter\"},{\"hoverinfo\":\"text\",\"mode\":\"markers\",\"name\":\"Indices: 8244-8657\",\"text\":[\"Termination: ('C_P6\\u002fmmm_2', 'Ni_R-3m_1')\\u003cbr\\u003eTermination index: 0\\u003cbr\\u003eInterfaces Index Range: 8244-8657\\u003cbr\\u003eStrain: 0.07%\\u003cbr\\u003eAtoms: 225\"],\"x\":[0.06600000000000002],\"y\":[225],\"type\":\"scatter\"},{\"hoverinfo\":\"text\",\"mode\":\"markers\",\"name\":\"Indices: 8658-9071\",\"text\":[\"Termination: ('C_P6\\u002fmmm_2', 'Ni_R-3m_1')\\u003cbr\\u003eTermination index: 0\\u003cbr\\u003eInterfaces Index Range: 8658-9071\\u003cbr\\u003eStrain: 0.07%\\u003cbr\\u003eAtoms: 230\"],\"x\":[0.06600000000000002],\"y\":[230],\"type\":\"scatter\"},{\"hoverinfo\":\"text\",\"mode\":\"markers\",\"name\":\"Indices: 9072-9341\",\"text\":[\"Termination: ('C_P6\\u002fmmm_2', 'Ni_R-3m_1')\\u003cbr\\u003eTermination index: 0\\u003cbr\\u003eInterfaces Index Range: 9072-9341\\u003cbr\\u003eStrain: 0.07%\\u003cbr\\u003eAtoms: 235\"],\"x\":[0.06600000000000002],\"y\":[235],\"type\":\"scatter\"},{\"hoverinfo\":\"text\",\"mode\":\"markers\",\"name\":\"Indices: 9342-9963\",\"text\":[\"Termination: ('C_P6\\u002fmmm_2', 'Ni_R-3m_1')\\u003cbr\\u003eTermination index: 0\\u003cbr\\u003eInterfaces Index Range: 9342-9963\\u003cbr\\u003eStrain: 0.07%\\u003cbr\\u003eAtoms: 240\"],\"x\":[0.06600000000000002],\"y\":[240],\"type\":\"scatter\"},{\"hoverinfo\":\"text\",\"mode\":\"markers\",\"name\":\"Indices: 9964-10278\",\"text\":[\"Termination: ('C_P6\\u002fmmm_2', 'Ni_R-3m_1')\\u003cbr\\u003eTermination index: 0\\u003cbr\\u003eInterfaces Index Range: 9964-10278\\u003cbr\\u003eStrain: 0.07%\\u003cbr\\u003eAtoms: 245\"],\"x\":[0.06600000000000002],\"y\":[245],\"type\":\"scatter\"},{\"hoverinfo\":\"text\",\"mode\":\"markers\",\"name\":\"Indices: 10279-10809\",\"text\":[\"Termination: ('C_P6\\u002fmmm_2', 'Ni_R-3m_1')\\u003cbr\\u003eTermination index: 0\\u003cbr\\u003eInterfaces Index Range: 10279-10809\\u003cbr\\u003eStrain: 0.07%\\u003cbr\\u003eAtoms: 250\"],\"x\":[0.06600000000000002],\"y\":[250],\"type\":\"scatter\"},{\"hoverinfo\":\"text\",\"mode\":\"markers\",\"name\":\"Indices: 10810-11205\",\"text\":[\"Termination: ('C_P6\\u002fmmm_2', 'Ni_R-3m_1')\\u003cbr\\u003eTermination index: 0\\u003cbr\\u003eInterfaces Index Range: 10810-11205\\u003cbr\\u003eStrain: 0.07%\\u003cbr\\u003eAtoms: 255\"],\"x\":[0.06600000000000002],\"y\":[255],\"type\":\"scatter\"},{\"hoverinfo\":\"text\",\"mode\":\"markers\",\"name\":\"Indices: 11206-11731\",\"text\":[\"Termination: ('C_P6\\u002fmmm_2', 'Ni_R-3m_1')\\u003cbr\\u003eTermination index: 0\\u003cbr\\u003eInterfaces Index Range: 11206-11731\\u003cbr\\u003eStrain: 0.07%\\u003cbr\\u003eAtoms: 260\"],\"x\":[0.06600000000000002],\"y\":[260],\"type\":\"scatter\"},{\"hoverinfo\":\"text\",\"mode\":\"markers\",\"name\":\"Indices: 11732-12037\",\"text\":[\"Termination: ('C_P6\\u002fmmm_2', 'Ni_R-3m_1')\\u003cbr\\u003eTermination index: 0\\u003cbr\\u003eInterfaces Index Range: 11732-12037\\u003cbr\\u003eStrain: 0.07%\\u003cbr\\u003eAtoms: 265\"],\"x\":[0.06600000000000002],\"y\":[265],\"type\":\"scatter\"},{\"hoverinfo\":\"text\",\"mode\":\"markers\",\"name\":\"Indices: 12038-12721\",\"text\":[\"Termination: ('C_P6\\u002fmmm_2', 'Ni_R-3m_1')\\u003cbr\\u003eTermination index: 0\\u003cbr\\u003eInterfaces Index Range: 12038-12721\\u003cbr\\u003eStrain: 0.07%\\u003cbr\\u003eAtoms: 270\"],\"x\":[0.06600000000000002],\"y\":[270],\"type\":\"scatter\"},{\"hoverinfo\":\"text\",\"mode\":\"markers\",\"name\":\"Indices: 12722-13117\",\"text\":[\"Termination: ('C_P6\\u002fmmm_2', 'Ni_R-3m_1')\\u003cbr\\u003eTermination index: 0\\u003cbr\\u003eInterfaces Index Range: 12722-13117\\u003cbr\\u003eStrain: 0.07%\\u003cbr\\u003eAtoms: 275\"],\"x\":[0.06600000000000002],\"y\":[275],\"type\":\"scatter\"},{\"hoverinfo\":\"text\",\"mode\":\"markers\",\"name\":\"Indices: 13118-13747\",\"text\":[\"Termination: ('C_P6\\u002fmmm_2', 'Ni_R-3m_1')\\u003cbr\\u003eTermination index: 0\\u003cbr\\u003eInterfaces Index Range: 13118-13747\\u003cbr\\u003eStrain: 0.07%\\u003cbr\\u003eAtoms: 280\"],\"x\":[0.06600000000000002],\"y\":[280],\"type\":\"scatter\"},{\"hoverinfo\":\"text\",\"mode\":\"markers\",\"name\":\"Indices: 13748-14183\",\"text\":[\"Termination: ('C_P6\\u002fmmm_2', 'Ni_R-3m_1')\\u003cbr\\u003eTermination index: 0\\u003cbr\\u003eInterfaces Index Range: 13748-14183\\u003cbr\\u003eStrain: 0.07%\\u003cbr\\u003eAtoms: 285\"],\"x\":[0.06600000000000002],\"y\":[285],\"type\":\"scatter\"},{\"hoverinfo\":\"text\",\"mode\":\"markers\",\"name\":\"Indices: 14184-14705\",\"text\":[\"Termination: ('C_P6\\u002fmmm_2', 'Ni_R-3m_1')\\u003cbr\\u003eTermination index: 0\\u003cbr\\u003eInterfaces Index Range: 14184-14705\\u003cbr\\u003eStrain: 0.07%\\u003cbr\\u003eAtoms: 290\"],\"x\":[0.06600000000000002],\"y\":[290],\"type\":\"scatter\"},{\"hoverinfo\":\"text\",\"mode\":\"markers\",\"name\":\"Indices: 14706-15047\",\"text\":[\"Termination: ('C_P6\\u002fmmm_2', 'Ni_R-3m_1')\\u003cbr\\u003eTermination index: 0\\u003cbr\\u003eInterfaces Index Range: 14706-15047\\u003cbr\\u003eStrain: 0.07%\\u003cbr\\u003eAtoms: 295\"],\"x\":[0.06600000000000002],\"y\":[295],\"type\":\"scatter\"},{\"hoverinfo\":\"text\",\"mode\":\"markers\",\"name\":\"Indices: 15048-15947\",\"text\":[\"Termination: ('C_P6\\u002fmmm_2', 'Ni_R-3m_1')\\u003cbr\\u003eTermination index: 0\\u003cbr\\u003eInterfaces Index Range: 15048-15947\\u003cbr\\u003eStrain: 0.07%\\u003cbr\\u003eAtoms: 300\"],\"x\":[0.06600000000000002],\"y\":[300],\"type\":\"scatter\"},{\"hoverinfo\":\"text\",\"mode\":\"markers\",\"name\":\"Indices: 15948-16293\",\"text\":[\"Termination: ('C_P6\\u002fmmm_2', 'Ni_R-3m_1')\\u003cbr\\u003eTermination index: 0\\u003cbr\\u003eInterfaces Index Range: 15948-16293\\u003cbr\\u003eStrain: 0.07%\\u003cbr\\u003eAtoms: 305\"],\"x\":[0.06600000000000002],\"y\":[305],\"type\":\"scatter\"},{\"hoverinfo\":\"text\",\"mode\":\"markers\",\"name\":\"Indices: 16294-16851\",\"text\":[\"Termination: ('C_P6\\u002fmmm_2', 'Ni_R-3m_1')\\u003cbr\\u003eTermination index: 0\\u003cbr\\u003eInterfaces Index Range: 16294-16851\\u003cbr\\u003eStrain: 0.07%\\u003cbr\\u003eAtoms: 310\"],\"x\":[0.06600000000000002],\"y\":[310],\"type\":\"scatter\"},{\"hoverinfo\":\"text\",\"mode\":\"markers\",\"name\":\"Indices: 16852-17485\",\"text\":[\"Termination: ('C_P6\\u002fmmm_2', 'Ni_R-3m_1')\\u003cbr\\u003eTermination index: 0\\u003cbr\\u003eInterfaces Index Range: 16852-17485\\u003cbr\\u003eStrain: 0.07%\\u003cbr\\u003eAtoms: 315\"],\"x\":[0.06600000000000002],\"y\":[315],\"type\":\"scatter\"},{\"hoverinfo\":\"text\",\"mode\":\"markers\",\"name\":\"Indices: 17486-18152\",\"text\":[\"Termination: ('C_P6\\u002fmmm_2', 'Ni_R-3m_1')\\u003cbr\\u003eTermination index: 0\\u003cbr\\u003eInterfaces Index Range: 17486-18152\\u003cbr\\u003eStrain: 0.07%\\u003cbr\\u003eAtoms: 320\"],\"x\":[0.06600000000000002],\"y\":[320],\"type\":\"scatter\"},{\"hoverinfo\":\"text\",\"mode\":\"markers\",\"name\":\"Indices: 18153-18620\",\"text\":[\"Termination: ('C_P6\\u002fmmm_2', 'Ni_R-3m_1')\\u003cbr\\u003eTermination index: 0\\u003cbr\\u003eInterfaces Index Range: 18153-18620\\u003cbr\\u003eStrain: 0.07%\\u003cbr\\u003eAtoms: 325\"],\"x\":[0.06600000000000002],\"y\":[325],\"type\":\"scatter\"},{\"hoverinfo\":\"text\",\"mode\":\"markers\",\"name\":\"Indices: 18621-19448\",\"text\":[\"Termination: ('C_P6\\u002fmmm_2', 'Ni_R-3m_1')\\u003cbr\\u003eTermination index: 0\\u003cbr\\u003eInterfaces Index Range: 18621-19448\\u003cbr\\u003eStrain: 0.07%\\u003cbr\\u003eAtoms: 330\"],\"x\":[0.06600000000000002],\"y\":[330],\"type\":\"scatter\"},{\"hoverinfo\":\"text\",\"mode\":\"markers\",\"name\":\"Indices: 19449-19830\",\"text\":[\"Termination: ('C_P6\\u002fmmm_2', 'Ni_R-3m_1')\\u003cbr\\u003eTermination index: 0\\u003cbr\\u003eInterfaces Index Range: 19449-19830\\u003cbr\\u003eStrain: 0.07%\\u003cbr\\u003eAtoms: 335\"],\"x\":[0.06600000000000002],\"y\":[335],\"type\":\"scatter\"},{\"hoverinfo\":\"text\",\"mode\":\"markers\",\"name\":\"Indices: 19831-20532\",\"text\":[\"Termination: ('C_P6\\u002fmmm_2', 'Ni_R-3m_1')\\u003cbr\\u003eTermination index: 0\\u003cbr\\u003eInterfaces Index Range: 19831-20532\\u003cbr\\u003eStrain: 0.07%\\u003cbr\\u003eAtoms: 340\"],\"x\":[0.06600000000000002],\"y\":[340],\"type\":\"scatter\"},{\"hoverinfo\":\"text\",\"mode\":\"markers\",\"name\":\"Indices: 20533-21072\",\"text\":[\"Termination: ('C_P6\\u002fmmm_2', 'Ni_R-3m_1')\\u003cbr\\u003eTermination index: 0\\u003cbr\\u003eInterfaces Index Range: 20533-21072\\u003cbr\\u003eStrain: 0.07%\\u003cbr\\u003eAtoms: 345\"],\"x\":[0.06600000000000002],\"y\":[345],\"type\":\"scatter\"},{\"hoverinfo\":\"text\",\"mode\":\"markers\",\"name\":\"Indices: 21073-22044\",\"text\":[\"Termination: ('C_P6\\u002fmmm_2', 'Ni_R-3m_1')\\u003cbr\\u003eTermination index: 0\\u003cbr\\u003eInterfaces Index Range: 21073-22044\\u003cbr\\u003eStrain: 0.07%\\u003cbr\\u003eAtoms: 350\"],\"x\":[0.06600000000000002],\"y\":[350],\"type\":\"scatter\"},{\"hoverinfo\":\"text\",\"mode\":\"markers\",\"name\":\"Indices: 22045-22458\",\"text\":[\"Termination: ('C_P6\\u002fmmm_2', 'Ni_R-3m_1')\\u003cbr\\u003eTermination index: 0\\u003cbr\\u003eInterfaces Index Range: 22045-22458\\u003cbr\\u003eStrain: 0.07%\\u003cbr\\u003eAtoms: 355\"],\"x\":[0.06600000000000002],\"y\":[355],\"type\":\"scatter\"},{\"hoverinfo\":\"text\",\"mode\":\"markers\",\"name\":\"Indices: 22459-23493\",\"text\":[\"Termination: ('C_P6\\u002fmmm_2', 'Ni_R-3m_1')\\u003cbr\\u003eTermination index: 0\\u003cbr\\u003eInterfaces Index Range: 22459-23493\\u003cbr\\u003eStrain: 0.07%\\u003cbr\\u003eAtoms: 360\"],\"x\":[0.06600000000000002],\"y\":[360],\"type\":\"scatter\"},{\"hoverinfo\":\"text\",\"mode\":\"markers\",\"name\":\"Indices: 23494-23911\",\"text\":[\"Termination: ('C_P6\\u002fmmm_2', 'Ni_R-3m_1')\\u003cbr\\u003eTermination index: 0\\u003cbr\\u003eInterfaces Index Range: 23494-23911\\u003cbr\\u003eStrain: 0.07%\\u003cbr\\u003eAtoms: 365\"],\"x\":[0.06600000000000002],\"y\":[365],\"type\":\"scatter\"},{\"hoverinfo\":\"text\",\"mode\":\"markers\",\"name\":\"Indices: 23912-24577\",\"text\":[\"Termination: ('C_P6\\u002fmmm_2', 'Ni_R-3m_1')\\u003cbr\\u003eTermination index: 0\\u003cbr\\u003eInterfaces Index Range: 23912-24577\\u003cbr\\u003eStrain: 0.07%\\u003cbr\\u003eAtoms: 370\"],\"x\":[0.06600000000000002],\"y\":[370],\"type\":\"scatter\"},{\"hoverinfo\":\"text\",\"mode\":\"markers\",\"name\":\"Indices: 24578-25271\",\"text\":[\"Termination: ('C_P6\\u002fmmm_2', 'Ni_R-3m_1')\\u003cbr\\u003eTermination index: 0\\u003cbr\\u003eInterfaces Index Range: 24578-25271\\u003cbr\\u003eStrain: 0.07%\\u003cbr\\u003eAtoms: 375\"],\"x\":[0.06600000000000002],\"y\":[375],\"type\":\"scatter\"},{\"hoverinfo\":\"text\",\"mode\":\"markers\",\"name\":\"Indices: 25272-25273\",\"text\":[\"Termination: ('C_P6\\u002fmmm_2', 'Ni_R-3m_1')\\u003cbr\\u003eTermination index: 0\\u003cbr\\u003eInterfaces Index Range: 25272-25273\\u003cbr\\u003eStrain: 0.08%\\u003cbr\\u003eAtoms: 378\"],\"x\":[0.082],\"y\":[378],\"type\":\"scatter\"},{\"hoverinfo\":\"text\",\"mode\":\"markers\",\"name\":\"Indices: 25274-25275\",\"text\":[\"Termination: ('C_P6\\u002fmmm_2', 'Ni_R-3m_1')\\u003cbr\\u003eTermination index: 0\\u003cbr\\u003eInterfaces Index Range: 25274-25275\\u003cbr\\u003eStrain: 0.11%\\u003cbr\\u003eAtoms: 318\"],\"x\":[0.11],\"y\":[318],\"type\":\"scatter\"},{\"hoverinfo\":\"text\",\"mode\":\"markers\",\"name\":\"Indices: 25276-25278\",\"text\":[\"Termination: ('C_P6\\u002fmmm_2', 'Ni_R-3m_1')\\u003cbr\\u003eTermination index: 0\\u003cbr\\u003eInterfaces Index Range: 25276-25278\\u003cbr\\u003eStrain: 0.17%\\u003cbr\\u003eAtoms: 243\"],\"x\":[0.165],\"y\":[243],\"type\":\"scatter\"},{\"hoverinfo\":\"text\",\"mode\":\"markers\",\"name\":\"Indices: 25279-25290\",\"text\":[\"Termination: ('C_P6\\u002fmmm_2', 'Ni_R-3m_1')\\u003cbr\\u003eTermination index: 0\\u003cbr\\u003eInterfaces Index Range: 25279-25290\\u003cbr\\u003eStrain: 0.18%\\u003cbr\\u003eAtoms: 363\"],\"x\":[0.184],\"y\":[363],\"type\":\"scatter\"},{\"hoverinfo\":\"text\",\"mode\":\"markers\",\"name\":\"Indices: 25291-25302\",\"text\":[\"Termination: ('C_P6\\u002fmmm_2', 'Ni_R-3m_1')\\u003cbr\\u003eTermination index: 0\\u003cbr\\u003eInterfaces Index Range: 25291-25302\\u003cbr\\u003eStrain: 0.19%\\u003cbr\\u003eAtoms: 353\"],\"x\":[0.19100000000000003],\"y\":[353],\"type\":\"scatter\"},{\"hoverinfo\":\"text\",\"mode\":\"markers\",\"name\":\"Indices: 25303-25314\",\"text\":[\"Termination: ('C_P6\\u002fmmm_2', 'Ni_R-3m_1')\\u003cbr\\u003eTermination index: 0\\u003cbr\\u003eInterfaces Index Range: 25303-25314\\u003cbr\\u003eStrain: 0.19%\\u003cbr\\u003eAtoms: 378\"],\"x\":[0.193],\"y\":[378],\"type\":\"scatter\"},{\"hoverinfo\":\"text\",\"mode\":\"markers\",\"name\":\"Indices: 25315-25326\",\"text\":[\"Termination: ('C_P6\\u002fmmm_2', 'Ni_R-3m_1')\\u003cbr\\u003eTermination index: 0\\u003cbr\\u003eInterfaces Index Range: 25315-25326\\u003cbr\\u003eStrain: 0.21%\\u003cbr\\u003eAtoms: 358\"],\"x\":[0.20600000000000002],\"y\":[358],\"type\":\"scatter\"},{\"hoverinfo\":\"text\",\"mode\":\"markers\",\"name\":\"Indices: 25327-25338\",\"text\":[\"Termination: ('C_P6\\u002fmmm_2', 'Ni_R-3m_1')\\u003cbr\\u003eTermination index: 0\\u003cbr\\u003eInterfaces Index Range: 25327-25338\\u003cbr\\u003eStrain: 0.21%\\u003cbr\\u003eAtoms: 378\"],\"x\":[0.20700000000000002],\"y\":[378],\"type\":\"scatter\"},{\"hoverinfo\":\"text\",\"mode\":\"markers\",\"name\":\"Indices: 25339-25350\",\"text\":[\"Termination: ('C_P6\\u002fmmm_2', 'Ni_R-3m_1')\\u003cbr\\u003eTermination index: 0\\u003cbr\\u003eInterfaces Index Range: 25339-25350\\u003cbr\\u003eStrain: 0.21%\\u003cbr\\u003eAtoms: 343\"],\"x\":[0.21300000000000005],\"y\":[343],\"type\":\"scatter\"},{\"hoverinfo\":\"text\",\"mode\":\"markers\",\"name\":\"Indices: 25351-25362\",\"text\":[\"Termination: ('C_P6\\u002fmmm_2', 'Ni_R-3m_1')\\u003cbr\\u003eTermination index: 0\\u003cbr\\u003eInterfaces Index Range: 25351-25362\\u003cbr\\u003eStrain: 0.22%\\u003cbr\\u003eAtoms: 353\"],\"x\":[0.217],\"y\":[353],\"type\":\"scatter\"},{\"hoverinfo\":\"text\",\"mode\":\"markers\",\"name\":\"Indices: 25363-25374\",\"text\":[\"Termination: ('C_P6\\u002fmmm_2', 'Ni_R-3m_1')\\u003cbr\\u003eTermination index: 0\\u003cbr\\u003eInterfaces Index Range: 25363-25374\\u003cbr\\u003eStrain: 0.22%\\u003cbr\\u003eAtoms: 358\"],\"x\":[0.218],\"y\":[358],\"type\":\"scatter\"},{\"hoverinfo\":\"text\",\"mode\":\"markers\",\"name\":\"Indices: 25375-25386\",\"text\":[\"Termination: ('C_P6\\u002fmmm_2', 'Ni_R-3m_1')\\u003cbr\\u003eTermination index: 0\\u003cbr\\u003eInterfaces Index Range: 25375-25386\\u003cbr\\u003eStrain: 0.22%\\u003cbr\\u003eAtoms: 368\"],\"x\":[0.219],\"y\":[368],\"type\":\"scatter\"},{\"hoverinfo\":\"text\",\"mode\":\"markers\",\"name\":\"Indices: 25387-25398\",\"text\":[\"Termination: ('C_P6\\u002fmmm_2', 'Ni_R-3m_1')\\u003cbr\\u003eTermination index: 0\\u003cbr\\u003eInterfaces Index Range: 25387-25398\\u003cbr\\u003eStrain: 0.22%\\u003cbr\\u003eAtoms: 362\"],\"x\":[0.22100000000000003],\"y\":[362],\"type\":\"scatter\"},{\"hoverinfo\":\"text\",\"mode\":\"markers\",\"name\":\"Indices: 25399-25410\",\"text\":[\"Termination: ('C_P6\\u002fmmm_2', 'Ni_R-3m_1')\\u003cbr\\u003eTermination index: 0\\u003cbr\\u003eInterfaces Index Range: 25399-25410\\u003cbr\\u003eStrain: 0.23%\\u003cbr\\u003eAtoms: 298\"],\"x\":[0.22500000000000003],\"y\":[298],\"type\":\"scatter\"},{\"hoverinfo\":\"text\",\"mode\":\"markers\",\"name\":\"Indices: 25411-25422\",\"text\":[\"Termination: ('C_P6\\u002fmmm_2', 'Ni_R-3m_1')\\u003cbr\\u003eTermination index: 0\\u003cbr\\u003eInterfaces Index Range: 25411-25422\\u003cbr\\u003eStrain: 0.23%\\u003cbr\\u003eAtoms: 348\"],\"x\":[0.22700000000000004],\"y\":[348],\"type\":\"scatter\"},{\"hoverinfo\":\"text\",\"mode\":\"markers\",\"name\":\"Indices: 25423-25434\",\"text\":[\"Termination: ('C_P6\\u002fmmm_2', 'Ni_R-3m_1')\\u003cbr\\u003eTermination index: 0\\u003cbr\\u003eInterfaces Index Range: 25423-25434\\u003cbr\\u003eStrain: 0.23%\\u003cbr\\u003eAtoms: 352\"],\"x\":[0.22700000000000004],\"y\":[352],\"type\":\"scatter\"},{\"hoverinfo\":\"text\",\"mode\":\"markers\",\"name\":\"Indices: 25435-25446\",\"text\":[\"Termination: ('C_P6\\u002fmmm_2', 'Ni_R-3m_1')\\u003cbr\\u003eTermination index: 0\\u003cbr\\u003eInterfaces Index Range: 25435-25446\\u003cbr\\u003eStrain: 0.23%\\u003cbr\\u003eAtoms: 323\"],\"x\":[0.22800000000000004],\"y\":[323],\"type\":\"scatter\"},{\"hoverinfo\":\"text\",\"mode\":\"markers\",\"name\":\"Indices: 25447-25458\",\"text\":[\"Termination: ('C_P6\\u002fmmm_2', 'Ni_R-3m_1')\\u003cbr\\u003eTermination index: 0\\u003cbr\\u003eInterfaces Index Range: 25447-25458\\u003cbr\\u003eStrain: 0.23%\\u003cbr\\u003eAtoms: 303\"],\"x\":[0.23000000000000004],\"y\":[303],\"type\":\"scatter\"},{\"hoverinfo\":\"text\",\"mode\":\"markers\",\"name\":\"Indices: 25459-25461\",\"text\":[\"Termination: ('C_P6\\u002fmmm_2', 'Ni_R-3m_1')\\u003cbr\\u003eTermination index: 0\\u003cbr\\u003eInterfaces Index Range: 25459-25461\\u003cbr\\u003eStrain: 0.23%\\u003cbr\\u003eAtoms: 378\"],\"x\":[0.234],\"y\":[378],\"type\":\"scatter\"},{\"hoverinfo\":\"text\",\"mode\":\"markers\",\"name\":\"Indices: 25462-25473\",\"text\":[\"Termination: ('C_P6\\u002fmmm_2', 'Ni_R-3m_1')\\u003cbr\\u003eTermination index: 0\\u003cbr\\u003eInterfaces Index Range: 25462-25473\\u003cbr\\u003eStrain: 0.24%\\u003cbr\\u003eAtoms: 288\"],\"x\":[0.23500000000000001],\"y\":[288],\"type\":\"scatter\"},{\"hoverinfo\":\"text\",\"mode\":\"markers\",\"name\":\"Indices: 25474-25485\",\"text\":[\"Termination: ('C_P6\\u002fmmm_2', 'Ni_R-3m_1')\\u003cbr\\u003eTermination index: 0\\u003cbr\\u003eInterfaces Index Range: 25474-25485\\u003cbr\\u003eStrain: 0.24%\\u003cbr\\u003eAtoms: 353\"],\"x\":[0.23600000000000002],\"y\":[353],\"type\":\"scatter\"},{\"hoverinfo\":\"text\",\"mode\":\"markers\",\"name\":\"Indices: 25486-25487\",\"text\":[\"Termination: ('C_P6\\u002fmmm_2', 'Ni_R-3m_1')\\u003cbr\\u003eTermination index: 0\\u003cbr\\u003eInterfaces Index Range: 25486-25487\\u003cbr\\u003eStrain: 0.24%\\u003cbr\\u003eAtoms: 371\"],\"x\":[0.23700000000000002],\"y\":[371],\"type\":\"scatter\"},{\"hoverinfo\":\"text\",\"mode\":\"markers\",\"name\":\"Indices: 25488-25490\",\"text\":[\"Termination: ('C_P6\\u002fmmm_2', 'Ni_R-3m_1')\\u003cbr\\u003eTermination index: 0\\u003cbr\\u003eInterfaces Index Range: 25488-25490\\u003cbr\\u003eStrain: 0.24%\\u003cbr\\u003eAtoms: 373\"],\"x\":[0.23700000000000002],\"y\":[373],\"type\":\"scatter\"},{\"hoverinfo\":\"text\",\"mode\":\"markers\",\"name\":\"Indices: 25491-25502\",\"text\":[\"Termination: ('C_P6\\u002fmmm_2', 'Ni_R-3m_1')\\u003cbr\\u003eTermination index: 0\\u003cbr\\u003eInterfaces Index Range: 25491-25502\\u003cbr\\u003eStrain: 0.24%\\u003cbr\\u003eAtoms: 308\"],\"x\":[0.23800000000000002],\"y\":[308],\"type\":\"scatter\"},{\"hoverinfo\":\"text\",\"mode\":\"markers\",\"name\":\"Indices: 25503-25504\",\"text\":[\"Termination: ('C_P6\\u002fmmm_2', 'Ni_R-3m_1')\\u003cbr\\u003eTermination index: 0\\u003cbr\\u003eInterfaces Index Range: 25503-25504\\u003cbr\\u003eStrain: 0.24%\\u003cbr\\u003eAtoms: 317\"],\"x\":[0.23800000000000002],\"y\":[317],\"type\":\"scatter\"},{\"hoverinfo\":\"text\",\"mode\":\"markers\",\"name\":\"Indices: 25505-25507\",\"text\":[\"Termination: ('C_P6\\u002fmmm_2', 'Ni_R-3m_1')\\u003cbr\\u003eTermination index: 0\\u003cbr\\u003eInterfaces Index Range: 25505-25507\\u003cbr\\u003eStrain: 0.24%\\u003cbr\\u003eAtoms: 368\"],\"x\":[0.24000000000000002],\"y\":[368],\"type\":\"scatter\"},{\"hoverinfo\":\"text\",\"mode\":\"markers\",\"name\":\"Indices: 25508-25519\",\"text\":[\"Termination: ('C_P6\\u002fmmm_2', 'Ni_R-3m_1')\\u003cbr\\u003eTermination index: 0\\u003cbr\\u003eInterfaces Index Range: 25508-25519\\u003cbr\\u003eStrain: 0.24%\\u003cbr\\u003eAtoms: 378\"],\"x\":[0.24000000000000002],\"y\":[378],\"type\":\"scatter\"},{\"hoverinfo\":\"text\",\"mode\":\"markers\",\"name\":\"Indices: 25520-25521\",\"text\":[\"Termination: ('C_P6\\u002fmmm_2', 'Ni_R-3m_1')\\u003cbr\\u003eTermination index: 0\\u003cbr\\u003eInterfaces Index Range: 25520-25521\\u003cbr\\u003eStrain: 0.24%\\u003cbr\\u003eAtoms: 183\"],\"x\":[0.24100000000000002],\"y\":[183],\"type\":\"scatter\"},{\"hoverinfo\":\"text\",\"mode\":\"markers\",\"name\":\"Indices: 25522-25539\",\"text\":[\"Termination: ('C_P6\\u002fmmm_2', 'Ni_R-3m_1')\\u003cbr\\u003eTermination index: 0\\u003cbr\\u003eInterfaces Index Range: 25522-25539\\u003cbr\\u003eStrain: 0.24%\\u003cbr\\u003eAtoms: 366\"],\"x\":[0.24100000000000002],\"y\":[366],\"type\":\"scatter\"},{\"hoverinfo\":\"text\",\"mode\":\"markers\",\"name\":\"Indices: 25540-25563\",\"text\":[\"Termination: ('C_P6\\u002fmmm_2', 'Ni_R-3m_1')\\u003cbr\\u003eTermination index: 0\\u003cbr\\u003eInterfaces Index Range: 25540-25563\\u003cbr\\u003eStrain: 0.24%\\u003cbr\\u003eAtoms: 378\"],\"x\":[0.24200000000000002],\"y\":[378],\"type\":\"scatter\"},{\"hoverinfo\":\"text\",\"mode\":\"markers\",\"name\":\"Indices: 25564-25575\",\"text\":[\"Termination: ('C_P6\\u002fmmm_2', 'Ni_R-3m_1')\\u003cbr\\u003eTermination index: 0\\u003cbr\\u003eInterfaces Index Range: 25564-25575\\u003cbr\\u003eStrain: 0.24%\\u003cbr\\u003eAtoms: 357\"],\"x\":[0.24300000000000002],\"y\":[357],\"type\":\"scatter\"},{\"hoverinfo\":\"text\",\"mode\":\"markers\",\"name\":\"Indices: 25576-25578\",\"text\":[\"Termination: ('C_P6\\u002fmmm_2', 'Ni_R-3m_1')\\u003cbr\\u003eTermination index: 0\\u003cbr\\u003eInterfaces Index Range: 25576-25578\\u003cbr\\u003eStrain: 0.24%\\u003cbr\\u003eAtoms: 363\"],\"x\":[0.24300000000000002],\"y\":[363],\"type\":\"scatter\"},{\"hoverinfo\":\"text\",\"mode\":\"markers\",\"name\":\"Indices: 25579-25590\",\"text\":[\"Termination: ('C_P6\\u002fmmm_2', 'Ni_R-3m_1')\\u003cbr\\u003eTermination index: 0\\u003cbr\\u003eInterfaces Index Range: 25579-25590\\u003cbr\\u003eStrain: 0.25%\\u003cbr\\u003eAtoms: 363\"],\"x\":[0.24600000000000005],\"y\":[363],\"type\":\"scatter\"},{\"hoverinfo\":\"text\",\"mode\":\"markers\",\"name\":\"Indices: 25591-25596\",\"text\":[\"Termination: ('C_P6\\u002fmmm_2', 'Ni_R-3m_1')\\u003cbr\\u003eTermination index: 0\\u003cbr\\u003eInterfaces Index Range: 25591-25596\\u003cbr\\u003eStrain: 0.25%\\u003cbr\\u003eAtoms: 358\"],\"x\":[0.24700000000000005],\"y\":[358],\"type\":\"scatter\"},{\"hoverinfo\":\"text\",\"mode\":\"markers\",\"name\":\"Indices: 25597-25608\",\"text\":[\"Termination: ('C_P6\\u002fmmm_2', 'Ni_R-3m_1')\\u003cbr\\u003eTermination index: 0\\u003cbr\\u003eInterfaces Index Range: 25597-25608\\u003cbr\\u003eStrain: 0.25%\\u003cbr\\u003eAtoms: 363\"],\"x\":[0.24700000000000005],\"y\":[363],\"type\":\"scatter\"},{\"hoverinfo\":\"text\",\"mode\":\"markers\",\"name\":\"Indices: 25609-25620\",\"text\":[\"Termination: ('C_P6\\u002fmmm_2', 'Ni_R-3m_1')\\u003cbr\\u003eTermination index: 0\\u003cbr\\u003eInterfaces Index Range: 25609-25620\\u003cbr\\u003eStrain: 0.25%\\u003cbr\\u003eAtoms: 378\"],\"x\":[0.24700000000000005],\"y\":[378],\"type\":\"scatter\"},{\"hoverinfo\":\"text\",\"mode\":\"markers\",\"name\":\"Indices: 25621-25632\",\"text\":[\"Termination: ('C_P6\\u002fmmm_2', 'Ni_R-3m_1')\\u003cbr\\u003eTermination index: 0\\u003cbr\\u003eInterfaces Index Range: 25621-25632\\u003cbr\\u003eStrain: 0.25%\\u003cbr\\u003eAtoms: 368\"],\"x\":[0.249],\"y\":[368],\"type\":\"scatter\"},{\"hoverinfo\":\"text\",\"mode\":\"markers\",\"name\":\"Indices: 25633-25644\",\"text\":[\"Termination: ('C_P6\\u002fmmm_2', 'Ni_R-3m_1')\\u003cbr\\u003eTermination index: 0\\u003cbr\\u003eInterfaces Index Range: 25633-25644\\u003cbr\\u003eStrain: 0.25%\\u003cbr\\u003eAtoms: 342\"],\"x\":[0.25],\"y\":[342],\"type\":\"scatter\"},{\"hoverinfo\":\"text\",\"mode\":\"markers\",\"name\":\"Indices: 25645-25647\",\"text\":[\"Termination: ('C_P6\\u002fmmm_2', 'Ni_R-3m_1')\\u003cbr\\u003eTermination index: 0\\u003cbr\\u003eInterfaces Index Range: 25645-25647\\u003cbr\\u003eStrain: 0.25%\\u003cbr\\u003eAtoms: 353\"],\"x\":[0.25],\"y\":[353],\"type\":\"scatter\"},{\"hoverinfo\":\"text\",\"mode\":\"markers\",\"name\":\"Indices: 25648-25659\",\"text\":[\"Termination: ('C_P6\\u002fmmm_2', 'Ni_R-3m_1')\\u003cbr\\u003eTermination index: 0\\u003cbr\\u003eInterfaces Index Range: 25648-25659\\u003cbr\\u003eStrain: 0.25%\\u003cbr\\u003eAtoms: 353\"],\"x\":[0.253],\"y\":[353],\"type\":\"scatter\"},{\"hoverinfo\":\"text\",\"mode\":\"markers\",\"name\":\"Indices: 25660-25662\",\"text\":[\"Termination: ('C_P6\\u002fmmm_2', 'Ni_R-3m_1')\\u003cbr\\u003eTermination index: 0\\u003cbr\\u003eInterfaces Index Range: 25660-25662\\u003cbr\\u003eStrain: 0.25%\\u003cbr\\u003eAtoms: 348\"],\"x\":[0.254],\"y\":[348],\"type\":\"scatter\"},{\"hoverinfo\":\"text\",\"mode\":\"markers\",\"name\":\"Indices: 25663-25674\",\"text\":[\"Termination: ('C_P6\\u002fmmm_2', 'Ni_R-3m_1')\\u003cbr\\u003eTermination index: 0\\u003cbr\\u003eInterfaces Index Range: 25663-25674\\u003cbr\\u003eStrain: 0.25%\\u003cbr\\u003eAtoms: 358\"],\"x\":[0.254],\"y\":[358],\"type\":\"scatter\"},{\"hoverinfo\":\"text\",\"mode\":\"markers\",\"name\":\"Indices: 25675-25680\",\"text\":[\"Termination: ('C_P6\\u002fmmm_2', 'Ni_R-3m_1')\\u003cbr\\u003eTermination index: 0\\u003cbr\\u003eInterfaces Index Range: 25675-25680\\u003cbr\\u003eStrain: 0.25%\\u003cbr\\u003eAtoms: 378\"],\"x\":[0.254],\"y\":[378],\"type\":\"scatter\"},{\"hoverinfo\":\"text\",\"mode\":\"markers\",\"name\":\"Indices: 25681-25692\",\"text\":[\"Termination: ('C_P6\\u002fmmm_2', 'Ni_R-3m_1')\\u003cbr\\u003eTermination index: 0\\u003cbr\\u003eInterfaces Index Range: 25681-25692\\u003cbr\\u003eStrain: 0.26%\\u003cbr\\u003eAtoms: 297\"],\"x\":[0.255],\"y\":[297],\"type\":\"scatter\"},{\"hoverinfo\":\"text\",\"mode\":\"markers\",\"name\":\"Indices: 25693-25695\",\"text\":[\"Termination: ('C_P6\\u002fmmm_2', 'Ni_R-3m_1')\\u003cbr\\u003eTermination index: 0\\u003cbr\\u003eInterfaces Index Range: 25693-25695\\u003cbr\\u003eStrain: 0.26%\\u003cbr\\u003eAtoms: 348\"],\"x\":[0.255],\"y\":[348],\"type\":\"scatter\"},{\"hoverinfo\":\"text\",\"mode\":\"markers\",\"name\":\"Indices: 25696-25707\",\"text\":[\"Termination: ('C_P6\\u002fmmm_2', 'Ni_R-3m_1')\\u003cbr\\u003eTermination index: 0\\u003cbr\\u003eInterfaces Index Range: 25696-25707\\u003cbr\\u003eStrain: 0.26%\\u003cbr\\u003eAtoms: 352\"],\"x\":[0.256],\"y\":[352],\"type\":\"scatter\"},{\"hoverinfo\":\"text\",\"mode\":\"markers\",\"name\":\"Indices: 25708-25719\",\"text\":[\"Termination: ('C_P6\\u002fmmm_2', 'Ni_R-3m_1')\\u003cbr\\u003eTermination index: 0\\u003cbr\\u003eInterfaces Index Range: 25708-25719\\u003cbr\\u003eStrain: 0.26%\\u003cbr\\u003eAtoms: 353\"],\"x\":[0.256],\"y\":[353],\"type\":\"scatter\"},{\"hoverinfo\":\"text\",\"mode\":\"markers\",\"name\":\"Indices: 25720-25731\",\"text\":[\"Termination: ('C_P6\\u002fmmm_2', 'Ni_R-3m_1')\\u003cbr\\u003eTermination index: 0\\u003cbr\\u003eInterfaces Index Range: 25720-25731\\u003cbr\\u003eStrain: 0.26%\\u003cbr\\u003eAtoms: 358\"],\"x\":[0.256],\"y\":[358],\"type\":\"scatter\"},{\"hoverinfo\":\"text\",\"mode\":\"markers\",\"name\":\"Indices: 25732-25743\",\"text\":[\"Termination: ('C_P6\\u002fmmm_2', 'Ni_R-3m_1')\\u003cbr\\u003eTermination index: 0\\u003cbr\\u003eInterfaces Index Range: 25732-25743\\u003cbr\\u003eStrain: 0.26%\\u003cbr\\u003eAtoms: 288\"],\"x\":[0.257],\"y\":[288],\"type\":\"scatter\"},{\"hoverinfo\":\"text\",\"mode\":\"markers\",\"name\":\"Indices: 25744-25746\",\"text\":[\"Termination: ('C_P6\\u002fmmm_2', 'Ni_R-3m_1')\\u003cbr\\u003eTermination index: 0\\u003cbr\\u003eInterfaces Index Range: 25744-25746\\u003cbr\\u003eStrain: 0.26%\\u003cbr\\u003eAtoms: 343\"],\"x\":[0.258],\"y\":[343],\"type\":\"scatter\"},{\"hoverinfo\":\"text\",\"mode\":\"markers\",\"name\":\"Indices: 25747-25758\",\"text\":[\"Termination: ('C_P6\\u002fmmm_2', 'Ni_R-3m_1')\\u003cbr\\u003eTermination index: 0\\u003cbr\\u003eInterfaces Index Range: 25747-25758\\u003cbr\\u003eStrain: 0.26%\\u003cbr\\u003eAtoms: 353\"],\"x\":[0.258],\"y\":[353],\"type\":\"scatter\"},{\"hoverinfo\":\"text\",\"mode\":\"markers\",\"name\":\"Indices: 25759-25770\",\"text\":[\"Termination: ('C_P6\\u002fmmm_2', 'Ni_R-3m_1')\\u003cbr\\u003eTermination index: 0\\u003cbr\\u003eInterfaces Index Range: 25759-25770\\u003cbr\\u003eStrain: 0.26%\\u003cbr\\u003eAtoms: 357\"],\"x\":[0.258],\"y\":[357],\"type\":\"scatter\"},{\"hoverinfo\":\"text\",\"mode\":\"markers\",\"name\":\"Indices: 25771-25782\",\"text\":[\"Termination: ('C_P6\\u002fmmm_2', 'Ni_R-3m_1')\\u003cbr\\u003eTermination index: 0\\u003cbr\\u003eInterfaces Index Range: 25771-25782\\u003cbr\\u003eStrain: 0.26%\\u003cbr\\u003eAtoms: 368\"],\"x\":[0.258],\"y\":[368],\"type\":\"scatter\"},{\"hoverinfo\":\"text\",\"mode\":\"markers\",\"name\":\"Indices: 25783-25794\",\"text\":[\"Termination: ('C_P6\\u002fmmm_2', 'Ni_R-3m_1')\\u003cbr\\u003eTermination index: 0\\u003cbr\\u003eInterfaces Index Range: 25783-25794\\u003cbr\\u003eStrain: 0.26%\\u003cbr\\u003eAtoms: 328\"],\"x\":[0.259],\"y\":[328],\"type\":\"scatter\"},{\"hoverinfo\":\"text\",\"mode\":\"markers\",\"name\":\"Indices: 25795-25806\",\"text\":[\"Termination: ('C_P6\\u002fmmm_2', 'Ni_R-3m_1')\\u003cbr\\u003eTermination index: 0\\u003cbr\\u003eInterfaces Index Range: 25795-25806\\u003cbr\\u003eStrain: 0.26%\\u003cbr\\u003eAtoms: 353\"],\"x\":[0.259],\"y\":[353],\"type\":\"scatter\"},{\"hoverinfo\":\"text\",\"mode\":\"markers\",\"name\":\"Indices: 25807-25812\",\"text\":[\"Termination: ('C_P6\\u002fmmm_2', 'Ni_R-3m_1')\\u003cbr\\u003eTermination index: 0\\u003cbr\\u003eInterfaces Index Range: 25807-25812\\u003cbr\\u003eStrain: 0.26%\\u003cbr\\u003eAtoms: 373\"],\"x\":[0.259],\"y\":[373],\"type\":\"scatter\"},{\"hoverinfo\":\"text\",\"mode\":\"markers\",\"name\":\"Indices: 25813-25824\",\"text\":[\"Termination: ('C_P6\\u002fmmm_2', 'Ni_R-3m_1')\\u003cbr\\u003eTermination index: 0\\u003cbr\\u003eInterfaces Index Range: 25813-25824\\u003cbr\\u003eStrain: 0.26%\\u003cbr\\u003eAtoms: 302\"],\"x\":[0.26],\"y\":[302],\"type\":\"scatter\"},{\"hoverinfo\":\"text\",\"mode\":\"markers\",\"name\":\"Indices: 25825-25836\",\"text\":[\"Termination: ('C_P6\\u002fmmm_2', 'Ni_R-3m_1')\\u003cbr\\u003eTermination index: 0\\u003cbr\\u003eInterfaces Index Range: 25825-25836\\u003cbr\\u003eStrain: 0.26%\\u003cbr\\u003eAtoms: 358\"],\"x\":[0.26],\"y\":[358],\"type\":\"scatter\"},{\"hoverinfo\":\"text\",\"mode\":\"markers\",\"name\":\"Indices: 25837-25848\",\"text\":[\"Termination: ('C_P6\\u002fmmm_2', 'Ni_R-3m_1')\\u003cbr\\u003eTermination index: 0\\u003cbr\\u003eInterfaces Index Range: 25837-25848\\u003cbr\\u003eStrain: 0.26%\\u003cbr\\u003eAtoms: 322\"],\"x\":[0.262],\"y\":[322],\"type\":\"scatter\"},{\"hoverinfo\":\"text\",\"mode\":\"markers\",\"name\":\"Indices: 25849-25854\",\"text\":[\"Termination: ('C_P6\\u002fmmm_2', 'Ni_R-3m_1')\\u003cbr\\u003eTermination index: 0\\u003cbr\\u003eInterfaces Index Range: 25849-25854\\u003cbr\\u003eStrain: 0.26%\\u003cbr\\u003eAtoms: 338\"],\"x\":[0.262],\"y\":[338],\"type\":\"scatter\"},{\"hoverinfo\":\"text\",\"mode\":\"markers\",\"name\":\"Indices: 25855-25866\",\"text\":[\"Termination: ('C_P6\\u002fmmm_2', 'Ni_R-3m_1')\\u003cbr\\u003eTermination index: 0\\u003cbr\\u003eInterfaces Index Range: 25855-25866\\u003cbr\\u003eStrain: 0.26%\\u003cbr\\u003eAtoms: 346\"],\"x\":[0.262],\"y\":[346],\"type\":\"scatter\"},{\"hoverinfo\":\"text\",\"mode\":\"markers\",\"name\":\"Indices: 25867-25878\",\"text\":[\"Termination: ('C_P6\\u002fmmm_2', 'Ni_R-3m_1')\\u003cbr\\u003eTermination index: 0\\u003cbr\\u003eInterfaces Index Range: 25867-25878\\u003cbr\\u003eStrain: 0.26%\\u003cbr\\u003eAtoms: 367\"],\"x\":[0.262],\"y\":[367],\"type\":\"scatter\"},{\"hoverinfo\":\"text\",\"mode\":\"markers\",\"name\":\"Indices: 25879-25890\",\"text\":[\"Termination: ('C_P6\\u002fmmm_2', 'Ni_R-3m_1')\\u003cbr\\u003eTermination index: 0\\u003cbr\\u003eInterfaces Index Range: 25879-25890\\u003cbr\\u003eStrain: 0.26%\\u003cbr\\u003eAtoms: 287\"],\"x\":[0.263],\"y\":[287],\"type\":\"scatter\"},{\"hoverinfo\":\"text\",\"mode\":\"markers\",\"name\":\"Indices: 25891-25902\",\"text\":[\"Termination: ('C_P6\\u002fmmm_2', 'Ni_R-3m_1')\\u003cbr\\u003eTermination index: 0\\u003cbr\\u003eInterfaces Index Range: 25891-25902\\u003cbr\\u003eStrain: 0.26%\\u003cbr\\u003eAtoms: 348\"],\"x\":[0.263],\"y\":[348],\"type\":\"scatter\"},{\"hoverinfo\":\"text\",\"mode\":\"markers\",\"name\":\"Indices: 25903-25908\",\"text\":[\"Termination: ('C_P6\\u002fmmm_2', 'Ni_R-3m_1')\\u003cbr\\u003eTermination index: 0\\u003cbr\\u003eInterfaces Index Range: 25903-25908\\u003cbr\\u003eStrain: 0.26%\\u003cbr\\u003eAtoms: 368\"],\"x\":[0.263],\"y\":[368],\"type\":\"scatter\"},{\"hoverinfo\":\"text\",\"mode\":\"markers\",\"name\":\"Indices: 25909-25920\",\"text\":[\"Termination: ('C_P6\\u002fmmm_2', 'Ni_R-3m_1')\\u003cbr\\u003eTermination index: 0\\u003cbr\\u003eInterfaces Index Range: 25909-25920\\u003cbr\\u003eStrain: 0.27%\\u003cbr\\u003eAtoms: 343\"],\"x\":[0.265],\"y\":[343],\"type\":\"scatter\"},{\"hoverinfo\":\"text\",\"mode\":\"markers\",\"name\":\"Indices: 25921-25932\",\"text\":[\"Termination: ('C_P6\\u002fmmm_2', 'Ni_R-3m_1')\\u003cbr\\u003eTermination index: 0\\u003cbr\\u003eInterfaces Index Range: 25921-25932\\u003cbr\\u003eStrain: 0.27%\\u003cbr\\u003eAtoms: 358\"],\"x\":[0.265],\"y\":[358],\"type\":\"scatter\"},{\"hoverinfo\":\"text\",\"mode\":\"markers\",\"name\":\"Indices: 25933-25935\",\"text\":[\"Termination: ('C_P6\\u002fmmm_2', 'Ni_R-3m_1')\\u003cbr\\u003eTermination index: 0\\u003cbr\\u003eInterfaces Index Range: 25933-25935\\u003cbr\\u003eStrain: 0.27%\\u003cbr\\u003eAtoms: 333\"],\"x\":[0.266],\"y\":[333],\"type\":\"scatter\"},{\"hoverinfo\":\"text\",\"mode\":\"markers\",\"name\":\"Indices: 25936-25947\",\"text\":[\"Termination: ('C_P6\\u002fmmm_2', 'Ni_R-3m_1')\\u003cbr\\u003eTermination index: 0\\u003cbr\\u003eInterfaces Index Range: 25936-25947\\u003cbr\\u003eStrain: 0.27%\\u003cbr\\u003eAtoms: 298\"],\"x\":[0.267],\"y\":[298],\"type\":\"scatter\"},{\"hoverinfo\":\"text\",\"mode\":\"markers\",\"name\":\"Indices: 25948-25959\",\"text\":[\"Termination: ('C_P6\\u002fmmm_2', 'Ni_R-3m_1')\\u003cbr\\u003eTermination index: 0\\u003cbr\\u003eInterfaces Index Range: 25948-25959\\u003cbr\\u003eStrain: 0.27%\\u003cbr\\u003eAtoms: 347\"],\"x\":[0.267],\"y\":[347],\"type\":\"scatter\"},{\"hoverinfo\":\"text\",\"mode\":\"markers\",\"name\":\"Indices: 25960-25971\",\"text\":[\"Termination: ('C_P6\\u002fmmm_2', 'Ni_R-3m_1')\\u003cbr\\u003eTermination index: 0\\u003cbr\\u003eInterfaces Index Range: 25960-25971\\u003cbr\\u003eStrain: 0.27%\\u003cbr\\u003eAtoms: 353\"],\"x\":[0.268],\"y\":[353],\"type\":\"scatter\"},{\"hoverinfo\":\"text\",\"mode\":\"markers\",\"name\":\"Indices: 25972-25977\",\"text\":[\"Termination: ('C_P6\\u002fmmm_2', 'Ni_R-3m_1')\\u003cbr\\u003eTermination index: 0\\u003cbr\\u003eInterfaces Index Range: 25972-25977\\u003cbr\\u003eStrain: 0.27%\\u003cbr\\u003eAtoms: 363\"],\"x\":[0.268],\"y\":[363],\"type\":\"scatter\"},{\"hoverinfo\":\"text\",\"mode\":\"markers\",\"name\":\"Indices: 25978-25989\",\"text\":[\"Termination: ('C_P6\\u002fmmm_2', 'Ni_R-3m_1')\\u003cbr\\u003eTermination index: 0\\u003cbr\\u003eInterfaces Index Range: 25978-25989\\u003cbr\\u003eStrain: 0.27%\\u003cbr\\u003eAtoms: 273\"],\"x\":[0.269],\"y\":[273],\"type\":\"scatter\"},{\"hoverinfo\":\"text\",\"mode\":\"markers\",\"name\":\"Indices: 25990-26001\",\"text\":[\"Termination: ('C_P6\\u002fmmm_2', 'Ni_R-3m_1')\\u003cbr\\u003eTermination index: 0\\u003cbr\\u003eInterfaces Index Range: 25990-26001\\u003cbr\\u003eStrain: 0.27%\\u003cbr\\u003eAtoms: 307\"],\"x\":[0.27],\"y\":[307],\"type\":\"scatter\"},{\"hoverinfo\":\"text\",\"mode\":\"markers\",\"name\":\"Indices: 26002-26007\",\"text\":[\"Termination: ('C_P6\\u002fmmm_2', 'Ni_R-3m_1')\\u003cbr\\u003eTermination index: 0\\u003cbr\\u003eInterfaces Index Range: 26002-26007\\u003cbr\\u003eStrain: 0.27%\\u003cbr\\u003eAtoms: 328\"],\"x\":[0.27],\"y\":[328],\"type\":\"scatter\"},{\"hoverinfo\":\"text\",\"mode\":\"markers\",\"name\":\"Indices: 26008-26019\",\"text\":[\"Termination: ('C_P6\\u002fmmm_2', 'Ni_R-3m_1')\\u003cbr\\u003eTermination index: 0\\u003cbr\\u003eInterfaces Index Range: 26008-26019\\u003cbr\\u003eStrain: 0.27%\\u003cbr\\u003eAtoms: 298\"],\"x\":[0.272],\"y\":[298],\"type\":\"scatter\"},{\"hoverinfo\":\"text\",\"mode\":\"markers\",\"name\":\"Indices: 26020-26022\",\"text\":[\"Termination: ('C_P6\\u002fmmm_2', 'Ni_R-3m_1')\\u003cbr\\u003eTermination index: 0\\u003cbr\\u003eInterfaces Index Range: 26020-26022\\u003cbr\\u003eStrain: 0.27%\\u003cbr\\u003eAtoms: 358\"],\"x\":[0.272],\"y\":[358],\"type\":\"scatter\"},{\"hoverinfo\":\"text\",\"mode\":\"markers\",\"name\":\"Indices: 26023-26025\",\"text\":[\"Termination: ('C_P6\\u002fmmm_2', 'Ni_R-3m_1')\\u003cbr\\u003eTermination index: 0\\u003cbr\\u003eInterfaces Index Range: 26023-26025\\u003cbr\\u003eStrain: 0.27%\\u003cbr\\u003eAtoms: 323\"],\"x\":[0.274],\"y\":[323],\"type\":\"scatter\"},{\"hoverinfo\":\"text\",\"mode\":\"markers\",\"name\":\"Indices: 26026-26037\",\"text\":[\"Termination: ('C_P6\\u002fmmm_2', 'Ni_R-3m_1')\\u003cbr\\u003eTermination index: 0\\u003cbr\\u003eInterfaces Index Range: 26026-26037\\u003cbr\\u003eStrain: 0.27%\\u003cbr\\u003eAtoms: 343\"],\"x\":[0.274],\"y\":[343],\"type\":\"scatter\"},{\"hoverinfo\":\"text\",\"mode\":\"markers\",\"name\":\"Indices: 26038-26049\",\"text\":[\"Termination: ('C_P6\\u002fmmm_2', 'Ni_R-3m_1')\\u003cbr\\u003eTermination index: 0\\u003cbr\\u003eInterfaces Index Range: 26038-26049\\u003cbr\\u003eStrain: 0.28%\\u003cbr\\u003eAtoms: 353\"],\"x\":[0.275],\"y\":[353],\"type\":\"scatter\"},{\"hoverinfo\":\"text\",\"mode\":\"markers\",\"name\":\"Indices: 26050-26061\",\"text\":[\"Termination: ('C_P6\\u002fmmm_2', 'Ni_R-3m_1')\\u003cbr\\u003eTermination index: 0\\u003cbr\\u003eInterfaces Index Range: 26050-26061\\u003cbr\\u003eStrain: 0.28%\\u003cbr\\u003eAtoms: 348\"],\"x\":[0.276],\"y\":[348],\"type\":\"scatter\"},{\"hoverinfo\":\"text\",\"mode\":\"markers\",\"name\":\"Indices: 26062-26067\",\"text\":[\"Termination: ('C_P6\\u002fmmm_2', 'Ni_R-3m_1')\\u003cbr\\u003eTermination index: 0\\u003cbr\\u003eInterfaces Index Range: 26062-26067\\u003cbr\\u003eStrain: 0.28%\\u003cbr\\u003eAtoms: 353\"],\"x\":[0.277],\"y\":[353],\"type\":\"scatter\"},{\"hoverinfo\":\"text\",\"mode\":\"markers\",\"name\":\"Indices: 26068-26070\",\"text\":[\"Termination: ('C_P6\\u002fmmm_2', 'Ni_R-3m_1')\\u003cbr\\u003eTermination index: 0\\u003cbr\\u003eInterfaces Index Range: 26068-26070\\u003cbr\\u003eStrain: 0.28%\\u003cbr\\u003eAtoms: 318\"],\"x\":[0.278],\"y\":[318],\"type\":\"scatter\"},{\"hoverinfo\":\"text\",\"mode\":\"markers\",\"name\":\"Indices: 26071-26073\",\"text\":[\"Termination: ('C_P6\\u002fmmm_2', 'Ni_R-3m_1')\\u003cbr\\u003eTermination index: 0\\u003cbr\\u003eInterfaces Index Range: 26071-26073\\u003cbr\\u003eStrain: 0.28%\\u003cbr\\u003eAtoms: 318\"],\"x\":[0.279],\"y\":[318],\"type\":\"scatter\"},{\"hoverinfo\":\"text\",\"mode\":\"markers\",\"name\":\"Indices: 26074-26085\",\"text\":[\"Termination: ('C_P6\\u002fmmm_2', 'Ni_R-3m_1')\\u003cbr\\u003eTermination index: 0\\u003cbr\\u003eInterfaces Index Range: 26074-26085\\u003cbr\\u003eStrain: 0.28%\\u003cbr\\u003eAtoms: 323\"],\"x\":[0.28200000000000003],\"y\":[323],\"type\":\"scatter\"},{\"hoverinfo\":\"text\",\"mode\":\"markers\",\"name\":\"Indices: 26086-26088\",\"text\":[\"Termination: ('C_P6\\u002fmmm_2', 'Ni_R-3m_1')\\u003cbr\\u003eTermination index: 0\\u003cbr\\u003eInterfaces Index Range: 26086-26088\\u003cbr\\u003eStrain: 0.28%\\u003cbr\\u003eAtoms: 348\"],\"x\":[0.28200000000000003],\"y\":[348],\"type\":\"scatter\"},{\"hoverinfo\":\"text\",\"mode\":\"markers\",\"name\":\"Indices: 26089-26100\",\"text\":[\"Termination: ('C_P6\\u002fmmm_2', 'Ni_R-3m_1')\\u003cbr\\u003eTermination index: 0\\u003cbr\\u003eInterfaces Index Range: 26089-26100\\u003cbr\\u003eStrain: 0.28%\\u003cbr\\u003eAtoms: 352\"],\"x\":[0.28200000000000003],\"y\":[352],\"type\":\"scatter\"},{\"hoverinfo\":\"text\",\"mode\":\"markers\",\"name\":\"Indices: 26101-26103\",\"text\":[\"Termination: ('C_P6\\u002fmmm_2', 'Ni_R-3m_1')\\u003cbr\\u003eTermination index: 0\\u003cbr\\u003eInterfaces Index Range: 26101-26103\\u003cbr\\u003eStrain: 0.28%\\u003cbr\\u003eAtoms: 313\"],\"x\":[0.28300000000000003],\"y\":[313],\"type\":\"scatter\"},{\"hoverinfo\":\"text\",\"mode\":\"markers\",\"name\":\"Indices: 26104-26115\",\"text\":[\"Termination: ('C_P6\\u002fmmm_2', 'Ni_R-3m_1')\\u003cbr\\u003eTermination index: 0\\u003cbr\\u003eInterfaces Index Range: 26104-26115\\u003cbr\\u003eStrain: 0.29%\\u003cbr\\u003eAtoms: 287\"],\"x\":[0.28600000000000003],\"y\":[287],\"type\":\"scatter\"},{\"hoverinfo\":\"text\",\"mode\":\"markers\",\"name\":\"Indices: 26116-26121\",\"text\":[\"Termination: ('C_P6\\u002fmmm_2', 'Ni_R-3m_1')\\u003cbr\\u003eTermination index: 0\\u003cbr\\u003eInterfaces Index Range: 26116-26121\\u003cbr\\u003eStrain: 0.29%\\u003cbr\\u003eAtoms: 343\"],\"x\":[0.28700000000000003],\"y\":[343],\"type\":\"scatter\"},{\"hoverinfo\":\"text\",\"mode\":\"markers\",\"name\":\"Indices: 26122-26133\",\"text\":[\"Termination: ('C_P6\\u002fmmm_2', 'Ni_R-3m_1')\\u003cbr\\u003eTermination index: 0\\u003cbr\\u003eInterfaces Index Range: 26122-26133\\u003cbr\\u003eStrain: 0.29%\\u003cbr\\u003eAtoms: 288\"],\"x\":[0.28800000000000003],\"y\":[288],\"type\":\"scatter\"},{\"hoverinfo\":\"text\",\"mode\":\"markers\",\"name\":\"Indices: 26134-26139\",\"text\":[\"Termination: ('C_P6\\u002fmmm_2', 'Ni_R-3m_1')\\u003cbr\\u003eTermination index: 0\\u003cbr\\u003eInterfaces Index Range: 26134-26139\\u003cbr\\u003eStrain: 0.29%\\u003cbr\\u003eAtoms: 308\"],\"x\":[0.28800000000000003],\"y\":[308],\"type\":\"scatter\"},{\"hoverinfo\":\"text\",\"mode\":\"markers\",\"name\":\"Indices: 26140-26151\",\"text\":[\"Termination: ('C_P6\\u002fmmm_2', 'Ni_R-3m_1')\\u003cbr\\u003eTermination index: 0\\u003cbr\\u003eInterfaces Index Range: 26140-26151\\u003cbr\\u003eStrain: 0.29%\\u003cbr\\u003eAtoms: 268\"],\"x\":[0.28900000000000003],\"y\":[268],\"type\":\"scatter\"},{\"hoverinfo\":\"text\",\"mode\":\"markers\",\"name\":\"Indices: 26152-26154\",\"text\":[\"Termination: ('C_P6\\u002fmmm_2', 'Ni_R-3m_1')\\u003cbr\\u003eTermination index: 0\\u003cbr\\u003eInterfaces Index Range: 26152-26154\\u003cbr\\u003eStrain: 0.29%\\u003cbr\\u003eAtoms: 242\"],\"x\":[0.29100000000000004],\"y\":[242],\"type\":\"scatter\"},{\"hoverinfo\":\"text\",\"mode\":\"markers\",\"name\":\"Indices: 26155-26157\",\"text\":[\"Termination: ('C_P6\\u002fmmm_2', 'Ni_R-3m_1')\\u003cbr\\u003eTermination index: 0\\u003cbr\\u003eInterfaces Index Range: 26155-26157\\u003cbr\\u003eStrain: 0.29%\\u003cbr\\u003eAtoms: 303\"],\"x\":[0.29200000000000004],\"y\":[303],\"type\":\"scatter\"},{\"hoverinfo\":\"text\",\"mode\":\"markers\",\"name\":\"Indices: 26158-26169\",\"text\":[\"Termination: ('C_P6\\u002fmmm_2', 'Ni_R-3m_1')\\u003cbr\\u003eTermination index: 0\\u003cbr\\u003eInterfaces Index Range: 26158-26169\\u003cbr\\u003eStrain: 0.29%\\u003cbr\\u003eAtoms: 253\"],\"x\":[0.29300000000000004],\"y\":[253],\"type\":\"scatter\"},{\"hoverinfo\":\"text\",\"mode\":\"markers\",\"name\":\"Indices: 26170-26172\",\"text\":[\"Termination: ('C_P6\\u002fmmm_2', 'Ni_R-3m_1')\\u003cbr\\u003eTermination index: 0\\u003cbr\\u003eInterfaces Index Range: 26170-26172\\u003cbr\\u003eStrain: 0.29%\\u003cbr\\u003eAtoms: 338\"],\"x\":[0.29300000000000004],\"y\":[338],\"type\":\"scatter\"},{\"hoverinfo\":\"text\",\"mode\":\"markers\",\"name\":\"Indices: 26173-26178\",\"text\":[\"Termination: ('C_P6\\u002fmmm_2', 'Ni_R-3m_1')\\u003cbr\\u003eTermination index: 0\\u003cbr\\u003eInterfaces Index Range: 26173-26178\\u003cbr\\u003eStrain: 0.30%\\u003cbr\\u003eAtoms: 372\"],\"x\":[0.29500000000000004],\"y\":[372],\"type\":\"scatter\"},{\"hoverinfo\":\"text\",\"mode\":\"markers\",\"name\":\"Indices: 26179-26190\",\"text\":[\"Termination: ('C_P6\\u002fmmm_2', 'Ni_R-3m_1')\\u003cbr\\u003eTermination index: 0\\u003cbr\\u003eInterfaces Index Range: 26179-26190\\u003cbr\\u003eStrain: 0.30%\\u003cbr\\u003eAtoms: 272\"],\"x\":[0.29600000000000004],\"y\":[272],\"type\":\"scatter\"},{\"hoverinfo\":\"text\",\"mode\":\"markers\",\"name\":\"Indices: 26191-26202\",\"text\":[\"Termination: ('C_P6\\u002fmmm_2', 'Ni_R-3m_1')\\u003cbr\\u003eTermination index: 0\\u003cbr\\u003eInterfaces Index Range: 26191-26202\\u003cbr\\u003eStrain: 0.30%\\u003cbr\\u003eAtoms: 273\"],\"x\":[0.29600000000000004],\"y\":[273],\"type\":\"scatter\"},{\"hoverinfo\":\"text\",\"mode\":\"markers\",\"name\":\"Indices: 26203-26214\",\"text\":[\"Termination: ('C_P6\\u002fmmm_2', 'Ni_R-3m_1')\\u003cbr\\u003eTermination index: 0\\u003cbr\\u003eInterfaces Index Range: 26203-26214\\u003cbr\\u003eStrain: 0.30%\\u003cbr\\u003eAtoms: 308\"],\"x\":[0.29600000000000004],\"y\":[308],\"type\":\"scatter\"},{\"hoverinfo\":\"text\",\"mode\":\"markers\",\"name\":\"Indices: 26215-26226\",\"text\":[\"Termination: ('C_P6\\u002fmmm_2', 'Ni_R-3m_1')\\u003cbr\\u003eTermination index: 0\\u003cbr\\u003eInterfaces Index Range: 26215-26226\\u003cbr\\u003eStrain: 0.30%\\u003cbr\\u003eAtoms: 323\"],\"x\":[0.29600000000000004],\"y\":[323],\"type\":\"scatter\"},{\"hoverinfo\":\"text\",\"mode\":\"markers\",\"name\":\"Indices: 26227-26229\",\"text\":[\"Termination: ('C_P6\\u002fmmm_2', 'Ni_R-3m_1')\\u003cbr\\u003eTermination index: 0\\u003cbr\\u003eInterfaces Index Range: 26227-26229\\u003cbr\\u003eStrain: 0.30%\\u003cbr\\u003eAtoms: 298\"],\"x\":[0.29700000000000004],\"y\":[298],\"type\":\"scatter\"},{\"hoverinfo\":\"text\",\"mode\":\"markers\",\"name\":\"Indices: 26230-26233\",\"text\":[\"Termination: ('C_P6\\u002fmmm_2', 'Ni_R-3m_1')\\u003cbr\\u003eTermination index: 0\\u003cbr\\u003eInterfaces Index Range: 26230-26233\\u003cbr\\u003eStrain: 0.30%\\u003cbr\\u003eAtoms: 311\"],\"x\":[0.29700000000000004],\"y\":[311],\"type\":\"scatter\"},{\"hoverinfo\":\"text\",\"mode\":\"markers\",\"name\":\"Indices: 26234-26236\",\"text\":[\"Termination: ('C_P6\\u002fmmm_2', 'Ni_R-3m_1')\\u003cbr\\u003eTermination index: 0\\u003cbr\\u003eInterfaces Index Range: 26234-26236\\u003cbr\\u003eStrain: 0.30%\\u003cbr\\u003eAtoms: 372\"],\"x\":[0.29700000000000004],\"y\":[372],\"type\":\"scatter\"},{\"hoverinfo\":\"text\",\"mode\":\"markers\",\"name\":\"Indices: 26237-26248\",\"text\":[\"Termination: ('C_P6\\u002fmmm_2', 'Ni_R-3m_1')\\u003cbr\\u003eTermination index: 0\\u003cbr\\u003eInterfaces Index Range: 26237-26248\\u003cbr\\u003eStrain: 0.30%\\u003cbr\\u003eAtoms: 303\"],\"x\":[0.29800000000000004],\"y\":[303],\"type\":\"scatter\"},{\"hoverinfo\":\"text\",\"mode\":\"markers\",\"name\":\"Indices: 26249-26254\",\"text\":[\"Termination: ('C_P6\\u002fmmm_2', 'Ni_R-3m_1')\\u003cbr\\u003eTermination index: 0\\u003cbr\\u003eInterfaces Index Range: 26249-26254\\u003cbr\\u003eStrain: 0.30%\\u003cbr\\u003eAtoms: 333\"],\"x\":[0.29800000000000004],\"y\":[333],\"type\":\"scatter\"},{\"hoverinfo\":\"text\",\"mode\":\"markers\",\"name\":\"Indices: 26255-26260\",\"text\":[\"Termination: ('C_P6\\u002fmmm_2', 'Ni_R-3m_1')\\u003cbr\\u003eTermination index: 0\\u003cbr\\u003eInterfaces Index Range: 26255-26260\\u003cbr\\u003eStrain: 0.30%\\u003cbr\\u003eAtoms: 367\"],\"x\":[0.299],\"y\":[367],\"type\":\"scatter\"},{\"hoverinfo\":\"text\",\"mode\":\"markers\",\"name\":\"Indices: 26261-26263\",\"text\":[\"Termination: ('C_P6\\u002fmmm_2', 'Ni_R-3m_1')\\u003cbr\\u003eTermination index: 0\\u003cbr\\u003eInterfaces Index Range: 26261-26263\\u003cbr\\u003eStrain: 0.30%\\u003cbr\\u003eAtoms: 367\"],\"x\":[0.3],\"y\":[367],\"type\":\"scatter\"},{\"hoverinfo\":\"text\",\"mode\":\"markers\",\"name\":\"Indices: 26264-26269\",\"text\":[\"Termination: ('C_P6\\u002fmmm_2', 'Ni_R-3m_1')\\u003cbr\\u003eTermination index: 0\\u003cbr\\u003eInterfaces Index Range: 26264-26269\\u003cbr\\u003eStrain: 0.30%\\u003cbr\\u003eAtoms: 328\"],\"x\":[0.302],\"y\":[328],\"type\":\"scatter\"},{\"hoverinfo\":\"text\",\"mode\":\"markers\",\"name\":\"Indices: 26270-26275\",\"text\":[\"Termination: ('C_P6\\u002fmmm_2', 'Ni_R-3m_1')\\u003cbr\\u003eTermination index: 0\\u003cbr\\u003eInterfaces Index Range: 26270-26275\\u003cbr\\u003eStrain: 0.30%\\u003cbr\\u003eAtoms: 362\"],\"x\":[0.302],\"y\":[362],\"type\":\"scatter\"},{\"hoverinfo\":\"text\",\"mode\":\"markers\",\"name\":\"Indices: 26276-26281\",\"text\":[\"Termination: ('C_P6\\u002fmmm_2', 'Ni_R-3m_1')\\u003cbr\\u003eTermination index: 0\\u003cbr\\u003eInterfaces Index Range: 26276-26281\\u003cbr\\u003eStrain: 0.30%\\u003cbr\\u003eAtoms: 293\"],\"x\":[0.303],\"y\":[293],\"type\":\"scatter\"},{\"hoverinfo\":\"text\",\"mode\":\"markers\",\"name\":\"Indices: 26282-26293\",\"text\":[\"Termination: ('C_P6\\u002fmmm_2', 'Ni_R-3m_1')\\u003cbr\\u003eTermination index: 0\\u003cbr\\u003eInterfaces Index Range: 26282-26293\\u003cbr\\u003eStrain: 0.30%\\u003cbr\\u003eAtoms: 297\"],\"x\":[0.303],\"y\":[297],\"type\":\"scatter\"},{\"hoverinfo\":\"text\",\"mode\":\"markers\",\"name\":\"Indices: 26294-26296\",\"text\":[\"Termination: ('C_P6\\u002fmmm_2', 'Ni_R-3m_1')\\u003cbr\\u003eTermination index: 0\\u003cbr\\u003eInterfaces Index Range: 26294-26296\\u003cbr\\u003eStrain: 0.30%\\u003cbr\\u003eAtoms: 362\"],\"x\":[0.303],\"y\":[362],\"type\":\"scatter\"},{\"hoverinfo\":\"text\",\"mode\":\"markers\",\"name\":\"Indices: 26297-26302\",\"text\":[\"Termination: ('C_P6\\u002fmmm_2', 'Ni_R-3m_1')\\u003cbr\\u003eTermination index: 0\\u003cbr\\u003eInterfaces Index Range: 26297-26302\\u003cbr\\u003eStrain: 0.30%\\u003cbr\\u003eAtoms: 376\"],\"x\":[0.303],\"y\":[376],\"type\":\"scatter\"},{\"hoverinfo\":\"text\",\"mode\":\"markers\",\"name\":\"Indices: 26303-26305\",\"text\":[\"Termination: ('C_P6\\u002fmmm_2', 'Ni_R-3m_1')\\u003cbr\\u003eTermination index: 0\\u003cbr\\u003eInterfaces Index Range: 26303-26305\\u003cbr\\u003eStrain: 0.30%\\u003cbr\\u003eAtoms: 328\"],\"x\":[0.304],\"y\":[328],\"type\":\"scatter\"},{\"hoverinfo\":\"text\",\"mode\":\"markers\",\"name\":\"Indices: 26306-26311\",\"text\":[\"Termination: ('C_P6\\u002fmmm_2', 'Ni_R-3m_1')\\u003cbr\\u003eTermination index: 0\\u003cbr\\u003eInterfaces Index Range: 26306-26311\\u003cbr\\u003eStrain: 0.30%\\u003cbr\\u003eAtoms: 357\"],\"x\":[0.305],\"y\":[357],\"type\":\"scatter\"},{\"hoverinfo\":\"text\",\"mode\":\"markers\",\"name\":\"Indices: 26312-26323\",\"text\":[\"Termination: ('C_P6\\u002fmmm_2', 'Ni_R-3m_1')\\u003cbr\\u003eTermination index: 0\\u003cbr\\u003eInterfaces Index Range: 26312-26323\\u003cbr\\u003eStrain: 0.31%\\u003cbr\\u003eAtoms: 223\"],\"x\":[0.30600000000000005],\"y\":[223],\"type\":\"scatter\"},{\"hoverinfo\":\"text\",\"mode\":\"markers\",\"name\":\"Indices: 26324-26329\",\"text\":[\"Termination: ('C_P6\\u002fmmm_2', 'Ni_R-3m_1')\\u003cbr\\u003eTermination index: 0\\u003cbr\\u003eInterfaces Index Range: 26324-26329\\u003cbr\\u003eStrain: 0.31%\\u003cbr\\u003eAtoms: 327\"],\"x\":[0.30600000000000005],\"y\":[327],\"type\":\"scatter\"},{\"hoverinfo\":\"text\",\"mode\":\"markers\",\"name\":\"Indices: 26330-26332\",\"text\":[\"Termination: ('C_P6\\u002fmmm_2', 'Ni_R-3m_1')\\u003cbr\\u003eTermination index: 0\\u003cbr\\u003eInterfaces Index Range: 26330-26332\\u003cbr\\u003eStrain: 0.31%\\u003cbr\\u003eAtoms: 357\"],\"x\":[0.30600000000000005],\"y\":[357],\"type\":\"scatter\"},{\"hoverinfo\":\"text\",\"mode\":\"markers\",\"name\":\"Indices: 26333-26338\",\"text\":[\"Termination: ('C_P6\\u002fmmm_2', 'Ni_R-3m_1')\\u003cbr\\u003eTermination index: 0\\u003cbr\\u003eInterfaces Index Range: 26333-26338\\u003cbr\\u003eStrain: 0.31%\\u003cbr\\u003eAtoms: 371\"],\"x\":[0.30700000000000005],\"y\":[371],\"type\":\"scatter\"},{\"hoverinfo\":\"text\",\"mode\":\"markers\",\"name\":\"Indices: 26339-26341\",\"text\":[\"Termination: ('C_P6\\u002fmmm_2', 'Ni_R-3m_1')\\u003cbr\\u003eTermination index: 0\\u003cbr\\u003eInterfaces Index Range: 26339-26341\\u003cbr\\u003eStrain: 0.31%\\u003cbr\\u003eAtoms: 288\"],\"x\":[0.30800000000000005],\"y\":[288],\"type\":\"scatter\"},{\"hoverinfo\":\"text\",\"mode\":\"markers\",\"name\":\"Indices: 26342-26365\",\"text\":[\"Termination: ('C_P6\\u002fmmm_2', 'Ni_R-3m_1')\\u003cbr\\u003eTermination index: 0\\u003cbr\\u003eInterfaces Index Range: 26342-26365\\u003cbr\\u003eStrain: 0.31%\\u003cbr\\u003eAtoms: 298\"],\"x\":[0.30800000000000005],\"y\":[298],\"type\":\"scatter\"},{\"hoverinfo\":\"text\",\"mode\":\"markers\",\"name\":\"Indices: 26366-26368\",\"text\":[\"Termination: ('C_P6\\u002fmmm_2', 'Ni_R-3m_1')\\u003cbr\\u003eTermination index: 0\\u003cbr\\u003eInterfaces Index Range: 26366-26368\\u003cbr\\u003eStrain: 0.31%\\u003cbr\\u003eAtoms: 352\"],\"x\":[0.30800000000000005],\"y\":[352],\"type\":\"scatter\"},{\"hoverinfo\":\"text\",\"mode\":\"markers\",\"name\":\"Indices: 26369-26380\",\"text\":[\"Termination: ('C_P6\\u002fmmm_2', 'Ni_R-3m_1')\\u003cbr\\u003eTermination index: 0\\u003cbr\\u003eInterfaces Index Range: 26369-26380\\u003cbr\\u003eStrain: 0.31%\\u003cbr\\u003eAtoms: 238\"],\"x\":[0.30900000000000005],\"y\":[238],\"type\":\"scatter\"},{\"hoverinfo\":\"text\",\"mode\":\"markers\",\"name\":\"Indices: 26381-26392\",\"text\":[\"Termination: ('C_P6\\u002fmmm_2', 'Ni_R-3m_1')\\u003cbr\\u003eTermination index: 0\\u003cbr\\u003eInterfaces Index Range: 26381-26392\\u003cbr\\u003eStrain: 0.31%\\u003cbr\\u003eAtoms: 298\"],\"x\":[0.30900000000000005],\"y\":[298],\"type\":\"scatter\"},{\"hoverinfo\":\"text\",\"mode\":\"markers\",\"name\":\"Indices: 26393-26404\",\"text\":[\"Termination: ('C_P6\\u002fmmm_2', 'Ni_R-3m_1')\\u003cbr\\u003eTermination index: 0\\u003cbr\\u003eInterfaces Index Range: 26393-26404\\u003cbr\\u003eStrain: 0.31%\\u003cbr\\u003eAtoms: 297\"],\"x\":[0.31000000000000005],\"y\":[297],\"type\":\"scatter\"},{\"hoverinfo\":\"text\",\"mode\":\"markers\",\"name\":\"Indices: 26405-26410\",\"text\":[\"Termination: ('C_P6\\u002fmmm_2', 'Ni_R-3m_1')\\u003cbr\\u003eTermination index: 0\\u003cbr\\u003eInterfaces Index Range: 26405-26410\\u003cbr\\u003eStrain: 0.31%\\u003cbr\\u003eAtoms: 323\"],\"x\":[0.31000000000000005],\"y\":[323],\"type\":\"scatter\"},{\"hoverinfo\":\"text\",\"mode\":\"markers\",\"name\":\"Indices: 26411-26413\",\"text\":[\"Termination: ('C_P6\\u002fmmm_2', 'Ni_R-3m_1')\\u003cbr\\u003eTermination index: 0\\u003cbr\\u003eInterfaces Index Range: 26411-26413\\u003cbr\\u003eStrain: 0.31%\\u003cbr\\u003eAtoms: 352\"],\"x\":[0.31000000000000005],\"y\":[352],\"type\":\"scatter\"},{\"hoverinfo\":\"text\",\"mode\":\"markers\",\"name\":\"Indices: 26414-26419\",\"text\":[\"Termination: ('C_P6\\u002fmmm_2', 'Ni_R-3m_1')\\u003cbr\\u003eTermination index: 0\\u003cbr\\u003eInterfaces Index Range: 26414-26419\\u003cbr\\u003eStrain: 0.31%\\u003cbr\\u003eAtoms: 366\"],\"x\":[0.31100000000000005],\"y\":[366],\"type\":\"scatter\"},{\"hoverinfo\":\"text\",\"mode\":\"markers\",\"name\":\"Indices: 26420-26425\",\"text\":[\"Termination: ('C_P6\\u002fmmm_2', 'Ni_R-3m_1')\\u003cbr\\u003eTermination index: 0\\u003cbr\\u003eInterfaces Index Range: 26420-26425\\u003cbr\\u003eStrain: 0.31%\\u003cbr\\u003eAtoms: 347\"],\"x\":[0.31200000000000006],\"y\":[347],\"type\":\"scatter\"},{\"hoverinfo\":\"text\",\"mode\":\"markers\",\"name\":\"Indices: 26426-26428\",\"text\":[\"Termination: ('C_P6\\u002fmmm_2', 'Ni_R-3m_1')\\u003cbr\\u003eTermination index: 0\\u003cbr\\u003eInterfaces Index Range: 26426-26428\\u003cbr\\u003eStrain: 0.31%\\u003cbr\\u003eAtoms: 283\"],\"x\":[0.31300000000000006],\"y\":[283],\"type\":\"scatter\"},{\"hoverinfo\":\"text\",\"mode\":\"markers\",\"name\":\"Indices: 26429-26440\",\"text\":[\"Termination: ('C_P6\\u002fmmm_2', 'Ni_R-3m_1')\\u003cbr\\u003eTermination index: 0\\u003cbr\\u003eInterfaces Index Range: 26429-26440\\u003cbr\\u003eStrain: 0.31%\\u003cbr\\u003eAtoms: 308\"],\"x\":[0.31300000000000006],\"y\":[308],\"type\":\"scatter\"},{\"hoverinfo\":\"text\",\"mode\":\"markers\",\"name\":\"Indices: 26441-26443\",\"text\":[\"Termination: ('C_P6\\u002fmmm_2', 'Ni_R-3m_1')\\u003cbr\\u003eTermination index: 0\\u003cbr\\u003eInterfaces Index Range: 26441-26443\\u003cbr\\u003eStrain: 0.31%\\u003cbr\\u003eAtoms: 347\"],\"x\":[0.31300000000000006],\"y\":[347],\"type\":\"scatter\"},{\"hoverinfo\":\"text\",\"mode\":\"markers\",\"name\":\"Indices: 26444-26446\",\"text\":[\"Termination: ('C_P6\\u002fmmm_2', 'Ni_R-3m_1')\\u003cbr\\u003eTermination index: 0\\u003cbr\\u003eInterfaces Index Range: 26444-26446\\u003cbr\\u003eStrain: 0.31%\\u003cbr\\u003eAtoms: 283\"],\"x\":[0.31400000000000006],\"y\":[283],\"type\":\"scatter\"},{\"hoverinfo\":\"text\",\"mode\":\"markers\",\"name\":\"Indices: 26447-26458\",\"text\":[\"Termination: ('C_P6\\u002fmmm_2', 'Ni_R-3m_1')\\u003cbr\\u003eTermination index: 0\\u003cbr\\u003eInterfaces Index Range: 26447-26458\\u003cbr\\u003eStrain: 0.31%\\u003cbr\\u003eAtoms: 303\"],\"x\":[0.31400000000000006],\"y\":[303],\"type\":\"scatter\"},{\"hoverinfo\":\"text\",\"mode\":\"markers\",\"name\":\"Indices: 26459-26461\",\"text\":[\"Termination: ('C_P6\\u002fmmm_2', 'Ni_R-3m_1')\\u003cbr\\u003eTermination index: 0\\u003cbr\\u003eInterfaces Index Range: 26459-26461\\u003cbr\\u003eStrain: 0.32%\\u003cbr\\u003eAtoms: 342\"],\"x\":[0.31500000000000006],\"y\":[342],\"type\":\"scatter\"},{\"hoverinfo\":\"text\",\"mode\":\"markers\",\"name\":\"Indices: 26462-26473\",\"text\":[\"Termination: ('C_P6\\u002fmmm_2', 'Ni_R-3m_1')\\u003cbr\\u003eTermination index: 0\\u003cbr\\u003eInterfaces Index Range: 26462-26473\\u003cbr\\u003eStrain: 0.32%\\u003cbr\\u003eAtoms: 252\"],\"x\":[0.316],\"y\":[252],\"type\":\"scatter\"},{\"hoverinfo\":\"text\",\"mode\":\"markers\",\"name\":\"Indices: 26474-26485\",\"text\":[\"Termination: ('C_P6\\u002fmmm_2', 'Ni_R-3m_1')\\u003cbr\\u003eTermination index: 0\\u003cbr\\u003eInterfaces Index Range: 26474-26485\\u003cbr\\u003eStrain: 0.32%\\u003cbr\\u003eAtoms: 298\"],\"x\":[0.316],\"y\":[298],\"type\":\"scatter\"},{\"hoverinfo\":\"text\",\"mode\":\"markers\",\"name\":\"Indices: 26486-26488\",\"text\":[\"Termination: ('C_P6\\u002fmmm_2', 'Ni_R-3m_1')\\u003cbr\\u003eTermination index: 0\\u003cbr\\u003eInterfaces Index Range: 26486-26488\\u003cbr\\u003eStrain: 0.32%\\u003cbr\\u003eAtoms: 318\"],\"x\":[0.316],\"y\":[318],\"type\":\"scatter\"},{\"hoverinfo\":\"text\",\"mode\":\"markers\",\"name\":\"Indices: 26489-26494\",\"text\":[\"Termination: ('C_P6\\u002fmmm_2', 'Ni_R-3m_1')\\u003cbr\\u003eTermination index: 0\\u003cbr\\u003eInterfaces Index Range: 26489-26494\\u003cbr\\u003eStrain: 0.32%\\u003cbr\\u003eAtoms: 361\"],\"x\":[0.316],\"y\":[361],\"type\":\"scatter\"},{\"hoverinfo\":\"text\",\"mode\":\"markers\",\"name\":\"Indices: 26495-26506\",\"text\":[\"Termination: ('C_P6\\u002fmmm_2', 'Ni_R-3m_1')\\u003cbr\\u003eTermination index: 0\\u003cbr\\u003eInterfaces Index Range: 26495-26506\\u003cbr\\u003eStrain: 0.32%\\u003cbr\\u003eAtoms: 288\"],\"x\":[0.317],\"y\":[288],\"type\":\"scatter\"},{\"hoverinfo\":\"text\",\"mode\":\"markers\",\"name\":\"Indices: 26507-26509\",\"text\":[\"Termination: ('C_P6\\u002fmmm_2', 'Ni_R-3m_1')\\u003cbr\\u003eTermination index: 0\\u003cbr\\u003eInterfaces Index Range: 26507-26509\\u003cbr\\u003eStrain: 0.32%\\u003cbr\\u003eAtoms: 342\"],\"x\":[0.317],\"y\":[342],\"type\":\"scatter\"},{\"hoverinfo\":\"text\",\"mode\":\"markers\",\"name\":\"Indices: 26510-26521\",\"text\":[\"Termination: ('C_P6\\u002fmmm_2', 'Ni_R-3m_1')\\u003cbr\\u003eTermination index: 0\\u003cbr\\u003eInterfaces Index Range: 26510-26521\\u003cbr\\u003eStrain: 0.32%\\u003cbr\\u003eAtoms: 267\"],\"x\":[0.318],\"y\":[267],\"type\":\"scatter\"},{\"hoverinfo\":\"text\",\"mode\":\"markers\",\"name\":\"Indices: 26522-26533\",\"text\":[\"Termination: ('C_P6\\u002fmmm_2', 'Ni_R-3m_1')\\u003cbr\\u003eTermination index: 0\\u003cbr\\u003eInterfaces Index Range: 26522-26533\\u003cbr\\u003eStrain: 0.32%\\u003cbr\\u003eAtoms: 288\"],\"x\":[0.318],\"y\":[288],\"type\":\"scatter\"},{\"hoverinfo\":\"text\",\"mode\":\"markers\",\"name\":\"Indices: 26534-26536\",\"text\":[\"Termination: ('C_P6\\u002fmmm_2', 'Ni_R-3m_1')\\u003cbr\\u003eTermination index: 0\\u003cbr\\u003eInterfaces Index Range: 26534-26536\\u003cbr\\u003eStrain: 0.32%\\u003cbr\\u003eAtoms: 278\"],\"x\":[0.319],\"y\":[278],\"type\":\"scatter\"},{\"hoverinfo\":\"text\",\"mode\":\"markers\",\"name\":\"Indices: 26537-26542\",\"text\":[\"Termination: ('C_P6\\u002fmmm_2', 'Ni_R-3m_1')\\u003cbr\\u003eTermination index: 0\\u003cbr\\u003eInterfaces Index Range: 26537-26542\\u003cbr\\u003eStrain: 0.32%\\u003cbr\\u003eAtoms: 337\"],\"x\":[0.319],\"y\":[337],\"type\":\"scatter\"},{\"hoverinfo\":\"text\",\"mode\":\"markers\",\"name\":\"Indices: 26543-26554\",\"text\":[\"Termination: ('C_P6\\u002fmmm_2', 'Ni_R-3m_1')\\u003cbr\\u003eTermination index: 0\\u003cbr\\u003eInterfaces Index Range: 26543-26554\\u003cbr\\u003eStrain: 0.32%\\u003cbr\\u003eAtoms: 222\"],\"x\":[0.32],\"y\":[222],\"type\":\"scatter\"},{\"hoverinfo\":\"text\",\"mode\":\"markers\",\"name\":\"Indices: 26555-26566\",\"text\":[\"Termination: ('C_P6\\u002fmmm_2', 'Ni_R-3m_1')\\u003cbr\\u003eTermination index: 0\\u003cbr\\u003eInterfaces Index Range: 26555-26566\\u003cbr\\u003eStrain: 0.32%\\u003cbr\\u003eAtoms: 258\"],\"x\":[0.32],\"y\":[258],\"type\":\"scatter\"},{\"hoverinfo\":\"text\",\"mode\":\"markers\",\"name\":\"Indices: 26567-26569\",\"text\":[\"Termination: ('C_P6\\u002fmmm_2', 'Ni_R-3m_1')\\u003cbr\\u003eTermination index: 0\\u003cbr\\u003eInterfaces Index Range: 26567-26569\\u003cbr\\u003eStrain: 0.32%\\u003cbr\\u003eAtoms: 337\"],\"x\":[0.32],\"y\":[337],\"type\":\"scatter\"},{\"hoverinfo\":\"text\",\"mode\":\"markers\",\"name\":\"Indices: 26570-26575\",\"text\":[\"Termination: ('C_P6\\u002fmmm_2', 'Ni_R-3m_1')\\u003cbr\\u003eTermination index: 0\\u003cbr\\u003eInterfaces Index Range: 26570-26575\\u003cbr\\u003eStrain: 0.32%\\u003cbr\\u003eAtoms: 356\"],\"x\":[0.32],\"y\":[356],\"type\":\"scatter\"},{\"hoverinfo\":\"text\",\"mode\":\"markers\",\"name\":\"Indices: 26576-26587\",\"text\":[\"Termination: ('C_P6\\u002fmmm_2', 'Ni_R-3m_1')\\u003cbr\\u003eTermination index: 0\\u003cbr\\u003eInterfaces Index Range: 26576-26587\\u003cbr\\u003eStrain: 0.32%\\u003cbr\\u003eAtoms: 288\"],\"x\":[0.321],\"y\":[288],\"type\":\"scatter\"},{\"hoverinfo\":\"text\",\"mode\":\"markers\",\"name\":\"Indices: 26588-26593\",\"text\":[\"Termination: ('C_P6\\u002fmmm_2', 'Ni_R-3m_1')\\u003cbr\\u003eTermination index: 0\\u003cbr\\u003eInterfaces Index Range: 26588-26593\\u003cbr\\u003eStrain: 0.32%\\u003cbr\\u003eAtoms: 313\"],\"x\":[0.322],\"y\":[313],\"type\":\"scatter\"},{\"hoverinfo\":\"text\",\"mode\":\"markers\",\"name\":\"Indices: 26594-26596\",\"text\":[\"Termination: ('C_P6\\u002fmmm_2', 'Ni_R-3m_1')\\u003cbr\\u003eTermination index: 0\\u003cbr\\u003eInterfaces Index Range: 26594-26596\\u003cbr\\u003eStrain: 0.32%\\u003cbr\\u003eAtoms: 332\"],\"x\":[0.323],\"y\":[332],\"type\":\"scatter\"},{\"hoverinfo\":\"text\",\"mode\":\"markers\",\"name\":\"Indices: 26597-26599\",\"text\":[\"Termination: ('C_P6\\u002fmmm_2', 'Ni_R-3m_1')\\u003cbr\\u003eTermination index: 0\\u003cbr\\u003eInterfaces Index Range: 26597-26599\\u003cbr\\u003eStrain: 0.32%\\u003cbr\\u003eAtoms: 332\"],\"x\":[0.324],\"y\":[332],\"type\":\"scatter\"},{\"hoverinfo\":\"text\",\"mode\":\"markers\",\"name\":\"Indices: 26600-26611\",\"text\":[\"Termination: ('C_P6\\u002fmmm_2', 'Ni_R-3m_1')\\u003cbr\\u003eTermination index: 0\\u003cbr\\u003eInterfaces Index Range: 26600-26611\\u003cbr\\u003eStrain: 0.32%\\u003cbr\\u003eAtoms: 356\"],\"x\":[0.324],\"y\":[356],\"type\":\"scatter\"},{\"hoverinfo\":\"text\",\"mode\":\"markers\",\"name\":\"Indices: 26612-26614\",\"text\":[\"Termination: ('C_P6\\u002fmmm_2', 'Ni_R-3m_1')\\u003cbr\\u003eTermination index: 0\\u003cbr\\u003eInterfaces Index Range: 26612-26614\\u003cbr\\u003eStrain: 0.33%\\u003cbr\\u003eAtoms: 273\"],\"x\":[0.325],\"y\":[273],\"type\":\"scatter\"},{\"hoverinfo\":\"text\",\"mode\":\"markers\",\"name\":\"Indices: 26615-26620\",\"text\":[\"Termination: ('C_P6\\u002fmmm_2', 'Ni_R-3m_1')\\u003cbr\\u003eTermination index: 0\\u003cbr\\u003eInterfaces Index Range: 26615-26620\\u003cbr\\u003eStrain: 0.33%\\u003cbr\\u003eAtoms: 351\"],\"x\":[0.325],\"y\":[351],\"type\":\"scatter\"},{\"hoverinfo\":\"text\",\"mode\":\"markers\",\"name\":\"Indices: 26621-26632\",\"text\":[\"Termination: ('C_P6\\u002fmmm_2', 'Ni_R-3m_1')\\u003cbr\\u003eTermination index: 0\\u003cbr\\u003eInterfaces Index Range: 26621-26632\\u003cbr\\u003eStrain: 0.33%\\u003cbr\\u003eAtoms: 372\"],\"x\":[0.325],\"y\":[372],\"type\":\"scatter\"},{\"hoverinfo\":\"text\",\"mode\":\"markers\",\"name\":\"Indices: 26633-26644\",\"text\":[\"Termination: ('C_P6\\u002fmmm_2', 'Ni_R-3m_1')\\u003cbr\\u003eTermination index: 0\\u003cbr\\u003eInterfaces Index Range: 26633-26644\\u003cbr\\u003eStrain: 0.33%\\u003cbr\\u003eAtoms: 287\"],\"x\":[0.326],\"y\":[287],\"type\":\"scatter\"},{\"hoverinfo\":\"text\",\"mode\":\"markers\",\"name\":\"Indices: 26645-26650\",\"text\":[\"Termination: ('C_P6\\u002fmmm_2', 'Ni_R-3m_1')\\u003cbr\\u003eTermination index: 0\\u003cbr\\u003eInterfaces Index Range: 26645-26650\\u003cbr\\u003eStrain: 0.33%\\u003cbr\\u003eAtoms: 327\"],\"x\":[0.326],\"y\":[327],\"type\":\"scatter\"},{\"hoverinfo\":\"text\",\"mode\":\"markers\",\"name\":\"Indices: 26651-26662\",\"text\":[\"Termination: ('C_P6\\u002fmmm_2', 'Ni_R-3m_1')\\u003cbr\\u003eTermination index: 0\\u003cbr\\u003eInterfaces Index Range: 26651-26662\\u003cbr\\u003eStrain: 0.33%\\u003cbr\\u003eAtoms: 237\"],\"x\":[0.328],\"y\":[237],\"type\":\"scatter\"},{\"hoverinfo\":\"text\",\"mode\":\"markers\",\"name\":\"Indices: 26663-26665\",\"text\":[\"Termination: ('C_P6\\u002fmmm_2', 'Ni_R-3m_1')\\u003cbr\\u003eTermination index: 0\\u003cbr\\u003eInterfaces Index Range: 26663-26665\\u003cbr\\u003eStrain: 0.33%\\u003cbr\\u003eAtoms: 308\"],\"x\":[0.328],\"y\":[308],\"type\":\"scatter\"},{\"hoverinfo\":\"text\",\"mode\":\"markers\",\"name\":\"Indices: 26666-26668\",\"text\":[\"Termination: ('C_P6\\u002fmmm_2', 'Ni_R-3m_1')\\u003cbr\\u003eTermination index: 0\\u003cbr\\u003eInterfaces Index Range: 26666-26668\\u003cbr\\u003eStrain: 0.33%\\u003cbr\\u003eAtoms: 327\"],\"x\":[0.328],\"y\":[327],\"type\":\"scatter\"},{\"hoverinfo\":\"text\",\"mode\":\"markers\",\"name\":\"Indices: 26669-26680\",\"text\":[\"Termination: ('C_P6\\u002fmmm_2', 'Ni_R-3m_1')\\u003cbr\\u003eTermination index: 0\\u003cbr\\u003eInterfaces Index Range: 26669-26680\\u003cbr\\u003eStrain: 0.33%\\u003cbr\\u003eAtoms: 272\"],\"x\":[0.329],\"y\":[272],\"type\":\"scatter\"},{\"hoverinfo\":\"text\",\"mode\":\"markers\",\"name\":\"Indices: 26681-26683\",\"text\":[\"Termination: ('C_P6\\u002fmmm_2', 'Ni_R-3m_1')\\u003cbr\\u003eTermination index: 0\\u003cbr\\u003eInterfaces Index Range: 26681-26683\\u003cbr\\u003eStrain: 0.33%\\u003cbr\\u003eAtoms: 322\"],\"x\":[0.33],\"y\":[322],\"type\":\"scatter\"},{\"hoverinfo\":\"text\",\"mode\":\"markers\",\"name\":\"Indices: 26684-26689\",\"text\":[\"Termination: ('C_P6\\u002fmmm_2', 'Ni_R-3m_1')\\u003cbr\\u003eTermination index: 0\\u003cbr\\u003eInterfaces Index Range: 26684-26689\\u003cbr\\u003eStrain: 0.33%\\u003cbr\\u003eAtoms: 346\"],\"x\":[0.33],\"y\":[346],\"type\":\"scatter\"},{\"hoverinfo\":\"text\",\"mode\":\"markers\",\"name\":\"Indices: 26690-26692\",\"text\":[\"Termination: ('C_P6\\u002fmmm_2', 'Ni_R-3m_1')\\u003cbr\\u003eTermination index: 0\\u003cbr\\u003eInterfaces Index Range: 26690-26692\\u003cbr\\u003eStrain: 0.33%\\u003cbr\\u003eAtoms: 268\"],\"x\":[0.33100000000000007],\"y\":[268],\"type\":\"scatter\"},{\"hoverinfo\":\"text\",\"mode\":\"markers\",\"name\":\"Indices: 26693-26704\",\"text\":[\"Termination: ('C_P6\\u002fmmm_2', 'Ni_R-3m_1')\\u003cbr\\u003eTermination index: 0\\u003cbr\\u003eInterfaces Index Range: 26693-26704\\u003cbr\\u003eStrain: 0.33%\\u003cbr\\u003eAtoms: 288\"],\"x\":[0.33100000000000007],\"y\":[288],\"type\":\"scatter\"},{\"hoverinfo\":\"text\",\"mode\":\"markers\",\"name\":\"Indices: 26705-26716\",\"text\":[\"Termination: ('C_P6\\u002fmmm_2', 'Ni_R-3m_1')\\u003cbr\\u003eTermination index: 0\\u003cbr\\u003eInterfaces Index Range: 26705-26716\\u003cbr\\u003eStrain: 0.33%\\u003cbr\\u003eAtoms: 367\"],\"x\":[0.33100000000000007],\"y\":[367],\"type\":\"scatter\"},{\"hoverinfo\":\"text\",\"mode\":\"markers\",\"name\":\"Indices: 26717-26719\",\"text\":[\"Termination: ('C_P6\\u002fmmm_2', 'Ni_R-3m_1')\\u003cbr\\u003eTermination index: 0\\u003cbr\\u003eInterfaces Index Range: 26717-26719\\u003cbr\\u003eStrain: 0.33%\\u003cbr\\u003eAtoms: 322\"],\"x\":[0.3320000000000001],\"y\":[322],\"type\":\"scatter\"},{\"hoverinfo\":\"text\",\"mode\":\"markers\",\"name\":\"Indices: 26720-26731\",\"text\":[\"Termination: ('C_P6\\u002fmmm_2', 'Ni_R-3m_1')\\u003cbr\\u003eTermination index: 0\\u003cbr\\u003eInterfaces Index Range: 26720-26731\\u003cbr\\u003eStrain: 0.33%\\u003cbr\\u003eAtoms: 373\"],\"x\":[0.333],\"y\":[373],\"type\":\"scatter\"},{\"hoverinfo\":\"text\",\"mode\":\"markers\",\"name\":\"Indices: 26732-26743\",\"text\":[\"Termination: ('C_P6\\u002fmmm_2', 'Ni_R-3m_1')\\u003cbr\\u003eTermination index: 0\\u003cbr\\u003eInterfaces Index Range: 26732-26743\\u003cbr\\u003eStrain: 0.33%\\u003cbr\\u003eAtoms: 298\"],\"x\":[0.334],\"y\":[298],\"type\":\"scatter\"},{\"hoverinfo\":\"text\",\"mode\":\"markers\",\"name\":\"Indices: 26744-26749\",\"text\":[\"Termination: ('C_P6\\u002fmmm_2', 'Ni_R-3m_1')\\u003cbr\\u003eTermination index: 0\\u003cbr\\u003eInterfaces Index Range: 26744-26749\\u003cbr\\u003eStrain: 0.33%\\u003cbr\\u003eAtoms: 317\"],\"x\":[0.334],\"y\":[317],\"type\":\"scatter\"},{\"hoverinfo\":\"text\",\"mode\":\"markers\",\"name\":\"Indices: 26750-26761\",\"text\":[\"Termination: ('C_P6\\u002fmmm_2', 'Ni_R-3m_1')\\u003cbr\\u003eTermination index: 0\\u003cbr\\u003eInterfaces Index Range: 26750-26761\\u003cbr\\u003eStrain: 0.33%\\u003cbr\\u003eAtoms: 352\"],\"x\":[0.334],\"y\":[352],\"type\":\"scatter\"},{\"hoverinfo\":\"text\",\"mode\":\"markers\",\"name\":\"Indices: 26762-26773\",\"text\":[\"Termination: ('C_P6\\u002fmmm_2', 'Ni_R-3m_1')\\u003cbr\\u003eTermination index: 0\\u003cbr\\u003eInterfaces Index Range: 26762-26773\\u003cbr\\u003eStrain: 0.34%\\u003cbr\\u003eAtoms: 273\"],\"x\":[0.335],\"y\":[273],\"type\":\"scatter\"},{\"hoverinfo\":\"text\",\"mode\":\"markers\",\"name\":\"Indices: 26774-26779\",\"text\":[\"Termination: ('C_P6\\u002fmmm_2', 'Ni_R-3m_1')\\u003cbr\\u003eTermination index: 0\\u003cbr\\u003eInterfaces Index Range: 26774-26779\\u003cbr\\u003eStrain: 0.34%\\u003cbr\\u003eAtoms: 303\"],\"x\":[0.335],\"y\":[303],\"type\":\"scatter\"},{\"hoverinfo\":\"text\",\"mode\":\"markers\",\"name\":\"Indices: 26780-26785\",\"text\":[\"Termination: ('C_P6\\u002fmmm_2', 'Ni_R-3m_1')\\u003cbr\\u003eTermination index: 0\\u003cbr\\u003eInterfaces Index Range: 26780-26785\\u003cbr\\u003eStrain: 0.34%\\u003cbr\\u003eAtoms: 341\"],\"x\":[0.335],\"y\":[341],\"type\":\"scatter\"},{\"hoverinfo\":\"text\",\"mode\":\"markers\",\"name\":\"Indices: 26786-26797\",\"text\":[\"Termination: ('C_P6\\u002fmmm_2', 'Ni_R-3m_1')\\u003cbr\\u003eTermination index: 0\\u003cbr\\u003eInterfaces Index Range: 26786-26797\\u003cbr\\u003eStrain: 0.34%\\u003cbr\\u003eAtoms: 298\"],\"x\":[0.336],\"y\":[298],\"type\":\"scatter\"},{\"hoverinfo\":\"text\",\"mode\":\"markers\",\"name\":\"Indices: 26798-26800\",\"text\":[\"Termination: ('C_P6\\u002fmmm_2', 'Ni_R-3m_1')\\u003cbr\\u003eTermination index: 0\\u003cbr\\u003eInterfaces Index Range: 26798-26800\\u003cbr\\u003eStrain: 0.34%\\u003cbr\\u003eAtoms: 317\"],\"x\":[0.336],\"y\":[317],\"type\":\"scatter\"},{\"hoverinfo\":\"text\",\"mode\":\"markers\",\"name\":\"Indices: 26801-26812\",\"text\":[\"Termination: ('C_P6\\u002fmmm_2', 'Ni_R-3m_1')\\u003cbr\\u003eTermination index: 0\\u003cbr\\u003eInterfaces Index Range: 26801-26812\\u003cbr\\u003eStrain: 0.34%\\u003cbr\\u003eAtoms: 273\"],\"x\":[0.337],\"y\":[273],\"type\":\"scatter\"},{\"hoverinfo\":\"text\",\"mode\":\"markers\",\"name\":\"Indices: 26813-26815\",\"text\":[\"Termination: ('C_P6\\u002fmmm_2', 'Ni_R-3m_1')\\u003cbr\\u003eTermination index: 0\\u003cbr\\u003eInterfaces Index Range: 26813-26815\\u003cbr\\u003eStrain: 0.34%\\u003cbr\\u003eAtoms: 263\"],\"x\":[0.338],\"y\":[263],\"type\":\"scatter\"},{\"hoverinfo\":\"text\",\"mode\":\"markers\",\"name\":\"Indices: 26816-26818\",\"text\":[\"Termination: ('C_P6\\u002fmmm_2', 'Ni_R-3m_1')\\u003cbr\\u003eTermination index: 0\\u003cbr\\u003eInterfaces Index Range: 26816-26818\\u003cbr\\u003eStrain: 0.34%\\u003cbr\\u003eAtoms: 312\"],\"x\":[0.339],\"y\":[312],\"type\":\"scatter\"},{\"hoverinfo\":\"text\",\"mode\":\"markers\",\"name\":\"Indices: 26819-26830\",\"text\":[\"Termination: ('C_P6\\u002fmmm_2', 'Ni_R-3m_1')\\u003cbr\\u003eTermination index: 0\\u003cbr\\u003eInterfaces Index Range: 26819-26830\\u003cbr\\u003eStrain: 0.34%\\u003cbr\\u003eAtoms: 288\"],\"x\":[0.34],\"y\":[288],\"type\":\"scatter\"},{\"hoverinfo\":\"text\",\"mode\":\"markers\",\"name\":\"Indices: 26831-26833\",\"text\":[\"Termination: ('C_P6\\u002fmmm_2', 'Ni_R-3m_1')\\u003cbr\\u003eTermination index: 0\\u003cbr\\u003eInterfaces Index Range: 26831-26833\\u003cbr\\u003eStrain: 0.34%\\u003cbr\\u003eAtoms: 312\"],\"x\":[0.34],\"y\":[312],\"type\":\"scatter\"},{\"hoverinfo\":\"text\",\"mode\":\"markers\",\"name\":\"Indices: 26834-26839\",\"text\":[\"Termination: ('C_P6\\u002fmmm_2', 'Ni_R-3m_1')\\u003cbr\\u003eTermination index: 0\\u003cbr\\u003eInterfaces Index Range: 26834-26839\\u003cbr\\u003eStrain: 0.34%\\u003cbr\\u003eAtoms: 336\"],\"x\":[0.34],\"y\":[336],\"type\":\"scatter\"},{\"hoverinfo\":\"text\",\"mode\":\"markers\",\"name\":\"Indices: 26840-26851\",\"text\":[\"Termination: ('C_P6\\u002fmmm_2', 'Ni_R-3m_1')\\u003cbr\\u003eTermination index: 0\\u003cbr\\u003eInterfaces Index Range: 26840-26851\\u003cbr\\u003eStrain: 0.34%\\u003cbr\\u003eAtoms: 218\"],\"x\":[0.342],\"y\":[218],\"type\":\"scatter\"},{\"hoverinfo\":\"text\",\"mode\":\"markers\",\"name\":\"Indices: 26852-26857\",\"text\":[\"Termination: ('C_P6\\u002fmmm_2', 'Ni_R-3m_1')\\u003cbr\\u003eTermination index: 0\\u003cbr\\u003eInterfaces Index Range: 26852-26857\\u003cbr\\u003eStrain: 0.34%\\u003cbr\\u003eAtoms: 298\"],\"x\":[0.342],\"y\":[298],\"type\":\"scatter\"},{\"hoverinfo\":\"text\",\"mode\":\"markers\",\"name\":\"Indices: 26858-26869\",\"text\":[\"Termination: ('C_P6\\u002fmmm_2', 'Ni_R-3m_1')\\u003cbr\\u003eTermination index: 0\\u003cbr\\u003eInterfaces Index Range: 26858-26869\\u003cbr\\u003eStrain: 0.34%\\u003cbr\\u003eAtoms: 268\"],\"x\":[0.343],\"y\":[268],\"type\":\"scatter\"},{\"hoverinfo\":\"text\",\"mode\":\"markers\",\"name\":\"Indices: 26870-26875\",\"text\":[\"Termination: ('C_P6\\u002fmmm_2', 'Ni_R-3m_1')\\u003cbr\\u003eTermination index: 0\\u003cbr\\u003eInterfaces Index Range: 26870-26875\\u003cbr\\u003eStrain: 0.34%\\u003cbr\\u003eAtoms: 307\"],\"x\":[0.343],\"y\":[307],\"type\":\"scatter\"},{\"hoverinfo\":\"text\",\"mode\":\"markers\",\"name\":\"Indices: 26876-26877\",\"text\":[\"Termination: ('C_P6\\u002fmmm_2', 'Ni_R-3m_1')\\u003cbr\\u003eTermination index: 0\\u003cbr\\u003eInterfaces Index Range: 26876-26877\\u003cbr\\u003eStrain: 0.34%\\u003cbr\\u003eAtoms: 138\"],\"x\":[0.34400000000000003],\"y\":[138],\"type\":\"scatter\"},{\"hoverinfo\":\"text\",\"mode\":\"markers\",\"name\":\"Indices: 26878-26880\",\"text\":[\"Termination: ('C_P6\\u002fmmm_2', 'Ni_R-3m_1')\\u003cbr\\u003eTermination index: 0\\u003cbr\\u003eInterfaces Index Range: 26878-26880\\u003cbr\\u003eStrain: 0.34%\\u003cbr\\u003eAtoms: 258\"],\"x\":[0.34400000000000003],\"y\":[258],\"type\":\"scatter\"},{\"hoverinfo\":\"text\",\"mode\":\"markers\",\"name\":\"Indices: 26881-26898\",\"text\":[\"Termination: ('C_P6\\u002fmmm_2', 'Ni_R-3m_1')\\u003cbr\\u003eTermination index: 0\\u003cbr\\u003eInterfaces Index Range: 26881-26898\\u003cbr\\u003eStrain: 0.34%\\u003cbr\\u003eAtoms: 276\"],\"x\":[0.34400000000000003],\"y\":[276],\"type\":\"scatter\"},{\"hoverinfo\":\"text\",\"mode\":\"markers\",\"name\":\"Indices: 26899-26901\",\"text\":[\"Termination: ('C_P6\\u002fmmm_2', 'Ni_R-3m_1')\\u003cbr\\u003eTermination index: 0\\u003cbr\\u003eInterfaces Index Range: 26899-26901\\u003cbr\\u003eStrain: 0.35%\\u003cbr\\u003eAtoms: 258\"],\"x\":[0.34500000000000003],\"y\":[258],\"type\":\"scatter\"},{\"hoverinfo\":\"text\",\"mode\":\"markers\",\"name\":\"Indices: 26902-26904\",\"text\":[\"Termination: ('C_P6\\u002fmmm_2', 'Ni_R-3m_1')\\u003cbr\\u003eTermination index: 0\\u003cbr\\u003eInterfaces Index Range: 26902-26904\\u003cbr\\u003eStrain: 0.35%\\u003cbr\\u003eAtoms: 307\"],\"x\":[0.34500000000000003],\"y\":[307],\"type\":\"scatter\"},{\"hoverinfo\":\"text\",\"mode\":\"markers\",\"name\":\"Indices: 26905-26910\",\"text\":[\"Termination: ('C_P6\\u002fmmm_2', 'Ni_R-3m_1')\\u003cbr\\u003eTermination index: 0\\u003cbr\\u003eInterfaces Index Range: 26905-26910\\u003cbr\\u003eStrain: 0.35%\\u003cbr\\u003eAtoms: 331\"],\"x\":[0.34500000000000003],\"y\":[331],\"type\":\"scatter\"},{\"hoverinfo\":\"text\",\"mode\":\"markers\",\"name\":\"Indices: 26911-26922\",\"text\":[\"Termination: ('C_P6\\u002fmmm_2', 'Ni_R-3m_1')\\u003cbr\\u003eTermination index: 0\\u003cbr\\u003eInterfaces Index Range: 26911-26922\\u003cbr\\u003eStrain: 0.35%\\u003cbr\\u003eAtoms: 357\"],\"x\":[0.34500000000000003],\"y\":[357],\"type\":\"scatter\"},{\"hoverinfo\":\"text\",\"mode\":\"markers\",\"name\":\"Indices: 26923-26925\",\"text\":[\"Termination: ('C_P6\\u002fmmm_2', 'Ni_R-3m_1')\\u003cbr\\u003eTermination index: 0\\u003cbr\\u003eInterfaces Index Range: 26923-26925\\u003cbr\\u003eStrain: 0.35%\\u003cbr\\u003eAtoms: 302\"],\"x\":[0.34700000000000003],\"y\":[302],\"type\":\"scatter\"},{\"hoverinfo\":\"text\",\"mode\":\"markers\",\"name\":\"Indices: 26926-26931\",\"text\":[\"Termination: ('C_P6\\u002fmmm_2', 'Ni_R-3m_1')\\u003cbr\\u003eTermination index: 0\\u003cbr\\u003eInterfaces Index Range: 26926-26931\\u003cbr\\u003eStrain: 0.35%\\u003cbr\\u003eAtoms: 327\"],\"x\":[0.34700000000000003],\"y\":[327],\"type\":\"scatter\"},{\"hoverinfo\":\"text\",\"mode\":\"markers\",\"name\":\"Indices: 26932-26934\",\"text\":[\"Termination: ('C_P6\\u002fmmm_2', 'Ni_R-3m_1')\\u003cbr\\u003eTermination index: 0\\u003cbr\\u003eInterfaces Index Range: 26932-26934\\u003cbr\\u003eStrain: 0.35%\\u003cbr\\u003eAtoms: 293\"],\"x\":[0.34900000000000003],\"y\":[293],\"type\":\"scatter\"},{\"hoverinfo\":\"text\",\"mode\":\"markers\",\"name\":\"Indices: 26935-26937\",\"text\":[\"Termination: ('C_P6\\u002fmmm_2', 'Ni_R-3m_1')\\u003cbr\\u003eTermination index: 0\\u003cbr\\u003eInterfaces Index Range: 26935-26937\\u003cbr\\u003eStrain: 0.35%\\u003cbr\\u003eAtoms: 302\"],\"x\":[0.34900000000000003],\"y\":[302],\"type\":\"scatter\"},{\"hoverinfo\":\"text\",\"mode\":\"markers\",\"name\":\"Indices: 26938-26940\",\"text\":[\"Termination: ('C_P6\\u002fmmm_2', 'Ni_R-3m_1')\\u003cbr\\u003eTermination index: 0\\u003cbr\\u003eInterfaces Index Range: 26938-26940\\u003cbr\\u003eStrain: 0.35%\\u003cbr\\u003eAtoms: 253\"],\"x\":[0.35100000000000003],\"y\":[253],\"type\":\"scatter\"},{\"hoverinfo\":\"text\",\"mode\":\"markers\",\"name\":\"Indices: 26941-26946\",\"text\":[\"Termination: ('C_P6\\u002fmmm_2', 'Ni_R-3m_1')\\u003cbr\\u003eTermination index: 0\\u003cbr\\u003eInterfaces Index Range: 26941-26946\\u003cbr\\u003eStrain: 0.35%\\u003cbr\\u003eAtoms: 326\"],\"x\":[0.35100000000000003],\"y\":[326],\"type\":\"scatter\"},{\"hoverinfo\":\"text\",\"mode\":\"markers\",\"name\":\"Indices: 26947-26958\",\"text\":[\"Termination: ('C_P6\\u002fmmm_2', 'Ni_R-3m_1')\\u003cbr\\u003eTermination index: 0\\u003cbr\\u003eInterfaces Index Range: 26947-26958\\u003cbr\\u003eStrain: 0.35%\\u003cbr\\u003eAtoms: 347\"],\"x\":[0.35100000000000003],\"y\":[347],\"type\":\"scatter\"},{\"hoverinfo\":\"text\",\"mode\":\"markers\",\"name\":\"Indices: 26959-26970\",\"text\":[\"Termination: ('C_P6\\u002fmmm_2', 'Ni_R-3m_1')\\u003cbr\\u003eTermination index: 0\\u003cbr\\u003eInterfaces Index Range: 26959-26970\\u003cbr\\u003eStrain: 0.35%\\u003cbr\\u003eAtoms: 288\"],\"x\":[0.35200000000000004],\"y\":[288],\"type\":\"scatter\"},{\"hoverinfo\":\"text\",\"mode\":\"markers\",\"name\":\"Indices: 26971-26976\",\"text\":[\"Termination: ('C_P6\\u002fmmm_2', 'Ni_R-3m_1')\\u003cbr\\u003eTermination index: 0\\u003cbr\\u003eInterfaces Index Range: 26971-26976\\u003cbr\\u003eStrain: 0.35%\\u003cbr\\u003eAtoms: 297\"],\"x\":[0.35200000000000004],\"y\":[297],\"type\":\"scatter\"},{\"hoverinfo\":\"text\",\"mode\":\"markers\",\"name\":\"Indices: 26977-26988\",\"text\":[\"Termination: ('C_P6\\u002fmmm_2', 'Ni_R-3m_1')\\u003cbr\\u003eTermination index: 0\\u003cbr\\u003eInterfaces Index Range: 26977-26988\\u003cbr\\u003eStrain: 0.35%\\u003cbr\\u003eAtoms: 257\"],\"x\":[0.35300000000000004],\"y\":[257],\"type\":\"scatter\"},{\"hoverinfo\":\"text\",\"mode\":\"markers\",\"name\":\"Indices: 26989-27000\",\"text\":[\"Termination: ('C_P6\\u002fmmm_2', 'Ni_R-3m_1')\\u003cbr\\u003eTermination index: 0\\u003cbr\\u003eInterfaces Index Range: 26989-27000\\u003cbr\\u003eStrain: 0.35%\\u003cbr\\u003eAtoms: 352\"],\"x\":[0.35300000000000004],\"y\":[352],\"type\":\"scatter\"},{\"hoverinfo\":\"text\",\"mode\":\"markers\",\"name\":\"Indices: 27001-27024\",\"text\":[\"Termination: ('C_P6\\u002fmmm_2', 'Ni_R-3m_1')\\u003cbr\\u003eTermination index: 0\\u003cbr\\u003eInterfaces Index Range: 27001-27024\\u003cbr\\u003eStrain: 0.35%\\u003cbr\\u003eAtoms: 371\"],\"x\":[0.35300000000000004],\"y\":[371],\"type\":\"scatter\"},{\"hoverinfo\":\"text\",\"mode\":\"markers\",\"name\":\"Indices: 27025-27027\",\"text\":[\"Termination: ('C_P6\\u002fmmm_2', 'Ni_R-3m_1')\\u003cbr\\u003eTermination index: 0\\u003cbr\\u003eInterfaces Index Range: 27025-27027\\u003cbr\\u003eStrain: 0.35%\\u003cbr\\u003eAtoms: 297\"],\"x\":[0.35400000000000004],\"y\":[297],\"type\":\"scatter\"},{\"hoverinfo\":\"text\",\"mode\":\"markers\",\"name\":\"Indices: 27028-27039\",\"text\":[\"Termination: ('C_P6\\u002fmmm_2', 'Ni_R-3m_1')\\u003cbr\\u003eTermination index: 0\\u003cbr\\u003eInterfaces Index Range: 27028-27039\\u003cbr\\u003eStrain: 0.36%\\u003cbr\\u003eAtoms: 357\"],\"x\":[0.35500000000000004],\"y\":[357],\"type\":\"scatter\"},{\"hoverinfo\":\"text\",\"mode\":\"markers\",\"name\":\"Indices: 27040-27051\",\"text\":[\"Termination: ('C_P6\\u002fmmm_2', 'Ni_R-3m_1')\\u003cbr\\u003eTermination index: 0\\u003cbr\\u003eInterfaces Index Range: 27040-27051\\u003cbr\\u003eStrain: 0.36%\\u003cbr\\u003eAtoms: 217\"],\"x\":[0.35600000000000004],\"y\":[217],\"type\":\"scatter\"},{\"hoverinfo\":\"text\",\"mode\":\"markers\",\"name\":\"Indices: 27052-27063\",\"text\":[\"Termination: ('C_P6\\u002fmmm_2', 'Ni_R-3m_1')\\u003cbr\\u003eTermination index: 0\\u003cbr\\u003eInterfaces Index Range: 27052-27063\\u003cbr\\u003eStrain: 0.36%\\u003cbr\\u003eAtoms: 258\"],\"x\":[0.35600000000000004],\"y\":[258],\"type\":\"scatter\"},{\"hoverinfo\":\"text\",\"mode\":\"markers\",\"name\":\"Indices: 27064-27069\",\"text\":[\"Termination: ('C_P6\\u002fmmm_2', 'Ni_R-3m_1')\\u003cbr\\u003eTermination index: 0\\u003cbr\\u003eInterfaces Index Range: 27064-27069\\u003cbr\\u003eStrain: 0.36%\\u003cbr\\u003eAtoms: 288\"],\"x\":[0.35600000000000004],\"y\":[288],\"type\":\"scatter\"},{\"hoverinfo\":\"text\",\"mode\":\"markers\",\"name\":\"Indices: 27070-27075\",\"text\":[\"Termination: ('C_P6\\u002fmmm_2', 'Ni_R-3m_1')\\u003cbr\\u003eTermination index: 0\\u003cbr\\u003eInterfaces Index Range: 27070-27075\\u003cbr\\u003eStrain: 0.36%\\u003cbr\\u003eAtoms: 321\"],\"x\":[0.35600000000000004],\"y\":[321],\"type\":\"scatter\"},{\"hoverinfo\":\"text\",\"mode\":\"markers\",\"name\":\"Indices: 27076-27081\",\"text\":[\"Termination: ('C_P6\\u002fmmm_2', 'Ni_R-3m_1')\\u003cbr\\u003eTermination index: 0\\u003cbr\\u003eInterfaces Index Range: 27076-27081\\u003cbr\\u003eStrain: 0.36%\\u003cbr\\u003eAtoms: 369\"],\"x\":[0.35600000000000004],\"y\":[369],\"type\":\"scatter\"},{\"hoverinfo\":\"text\",\"mode\":\"markers\",\"name\":\"Indices: 27082-27087\",\"text\":[\"Termination: ('C_P6\\u002fmmm_2', 'Ni_R-3m_1')\\u003cbr\\u003eTermination index: 0\\u003cbr\\u003eInterfaces Index Range: 27082-27087\\u003cbr\\u003eStrain: 0.36%\\u003cbr\\u003eAtoms: 292\"],\"x\":[0.35700000000000004],\"y\":[292],\"type\":\"scatter\"},{\"hoverinfo\":\"text\",\"mode\":\"markers\",\"name\":\"Indices: 27088-27090\",\"text\":[\"Termination: ('C_P6\\u002fmmm_2', 'Ni_R-3m_1')\\u003cbr\\u003eTermination index: 0\\u003cbr\\u003eInterfaces Index Range: 27088-27090\\u003cbr\\u003eStrain: 0.36%\\u003cbr\\u003eAtoms: 248\"],\"x\":[0.35900000000000004],\"y\":[248],\"type\":\"scatter\"},{\"hoverinfo\":\"text\",\"mode\":\"markers\",\"name\":\"Indices: 27091-27093\",\"text\":[\"Termination: ('C_P6\\u002fmmm_2', 'Ni_R-3m_1')\\u003cbr\\u003eTermination index: 0\\u003cbr\\u003eInterfaces Index Range: 27091-27093\\u003cbr\\u003eStrain: 0.36%\\u003cbr\\u003eAtoms: 292\"],\"x\":[0.35900000000000004],\"y\":[292],\"type\":\"scatter\"},{\"hoverinfo\":\"text\",\"mode\":\"markers\",\"name\":\"Indices: 27094-27096\",\"text\":[\"Termination: ('C_P6\\u002fmmm_2', 'Ni_R-3m_1')\\u003cbr\\u003eTermination index: 0\\u003cbr\\u003eInterfaces Index Range: 27094-27096\\u003cbr\\u003eStrain: 0.36%\\u003cbr\\u003eAtoms: 248\"],\"x\":[0.36000000000000004],\"y\":[248],\"type\":\"scatter\"},{\"hoverinfo\":\"text\",\"mode\":\"markers\",\"name\":\"Indices: 27097-27102\",\"text\":[\"Termination: ('C_P6\\u002fmmm_2', 'Ni_R-3m_1')\\u003cbr\\u003eTermination index: 0\\u003cbr\\u003eInterfaces Index Range: 27097-27102\\u003cbr\\u003eStrain: 0.36%\\u003cbr\\u003eAtoms: 364\"],\"x\":[0.36000000000000004],\"y\":[364],\"type\":\"scatter\"},{\"hoverinfo\":\"text\",\"mode\":\"markers\",\"name\":\"Indices: 27103-27104\",\"text\":[\"Termination: ('C_P6\\u002fmmm_2', 'Ni_R-3m_1')\\u003cbr\\u003eTermination index: 0\\u003cbr\\u003eInterfaces Index Range: 27103-27104\\u003cbr\\u003eStrain: 0.36%\\u003cbr\\u003eAtoms: 369\"],\"x\":[0.36000000000000004],\"y\":[369],\"type\":\"scatter\"},{\"hoverinfo\":\"text\",\"mode\":\"markers\",\"name\":\"Indices: 27105-27116\",\"text\":[\"Termination: ('C_P6\\u002fmmm_2', 'Ni_R-3m_1')\\u003cbr\\u003eTermination index: 0\\u003cbr\\u003eInterfaces Index Range: 27105-27116\\u003cbr\\u003eStrain: 0.36%\\u003cbr\\u003eAtoms: 253\"],\"x\":[0.36200000000000004],\"y\":[253],\"type\":\"scatter\"},{\"hoverinfo\":\"text\",\"mode\":\"markers\",\"name\":\"Indices: 27117-27128\",\"text\":[\"Termination: ('C_P6\\u002fmmm_2', 'Ni_R-3m_1')\\u003cbr\\u003eTermination index: 0\\u003cbr\\u003eInterfaces Index Range: 27117-27128\\u003cbr\\u003eStrain: 0.36%\\u003cbr\\u003eAtoms: 273\"],\"x\":[0.36200000000000004],\"y\":[273],\"type\":\"scatter\"},{\"hoverinfo\":\"text\",\"mode\":\"markers\",\"name\":\"Indices: 27129-27131\",\"text\":[\"Termination: ('C_P6\\u002fmmm_2', 'Ni_R-3m_1')\\u003cbr\\u003eTermination index: 0\\u003cbr\\u003eInterfaces Index Range: 27129-27131\\u003cbr\\u003eStrain: 0.36%\\u003cbr\\u003eAtoms: 287\"],\"x\":[0.36200000000000004],\"y\":[287],\"type\":\"scatter\"},{\"hoverinfo\":\"text\",\"mode\":\"markers\",\"name\":\"Indices: 27132-27137\",\"text\":[\"Termination: ('C_P6\\u002fmmm_2', 'Ni_R-3m_1')\\u003cbr\\u003eTermination index: 0\\u003cbr\\u003eInterfaces Index Range: 27132-27137\\u003cbr\\u003eStrain: 0.36%\\u003cbr\\u003eAtoms: 316\"],\"x\":[0.36200000000000004],\"y\":[316],\"type\":\"scatter\"},{\"hoverinfo\":\"text\",\"mode\":\"markers\",\"name\":\"Indices: 27138-27149\",\"text\":[\"Termination: ('C_P6\\u002fmmm_2', 'Ni_R-3m_1')\\u003cbr\\u003eTermination index: 0\\u003cbr\\u003eInterfaces Index Range: 27138-27149\\u003cbr\\u003eStrain: 0.36%\\u003cbr\\u003eAtoms: 356\"],\"x\":[0.36200000000000004],\"y\":[356],\"type\":\"scatter\"},{\"hoverinfo\":\"text\",\"mode\":\"markers\",\"name\":\"Indices: 27150-27161\",\"text\":[\"Termination: ('C_P6\\u002fmmm_2', 'Ni_R-3m_1')\\u003cbr\\u003eTermination index: 0\\u003cbr\\u003eInterfaces Index Range: 27150-27161\\u003cbr\\u003eStrain: 0.36%\\u003cbr\\u003eAtoms: 362\"],\"x\":[0.36300000000000004],\"y\":[362],\"type\":\"scatter\"},{\"hoverinfo\":\"text\",\"mode\":\"markers\",\"name\":\"Indices: 27162-27163\",\"text\":[\"Termination: ('C_P6\\u002fmmm_2', 'Ni_R-3m_1')\\u003cbr\\u003eTermination index: 0\\u003cbr\\u003eInterfaces Index Range: 27162-27163\\u003cbr\\u003eStrain: 0.36%\\u003cbr\\u003eAtoms: 182\"],\"x\":[0.36400000000000005],\"y\":[182],\"type\":\"scatter\"},{\"hoverinfo\":\"text\",\"mode\":\"markers\",\"name\":\"Indices: 27164-27175\",\"text\":[\"Termination: ('C_P6\\u002fmmm_2', 'Ni_R-3m_1')\\u003cbr\\u003eTermination index: 0\\u003cbr\\u003eInterfaces Index Range: 27164-27175\\u003cbr\\u003eStrain: 0.36%\\u003cbr\\u003eAtoms: 203\"],\"x\":[0.36400000000000005],\"y\":[203],\"type\":\"scatter\"},{\"hoverinfo\":\"text\",\"mode\":\"markers\",\"name\":\"Indices: 27176-27178\",\"text\":[\"Termination: ('C_P6\\u002fmmm_2', 'Ni_R-3m_1')\\u003cbr\\u003eTermination index: 0\\u003cbr\\u003eInterfaces Index Range: 27176-27178\\u003cbr\\u003eStrain: 0.36%\\u003cbr\\u003eAtoms: 283\"],\"x\":[0.36400000000000005],\"y\":[283],\"type\":\"scatter\"},{\"hoverinfo\":\"text\",\"mode\":\"markers\",\"name\":\"Indices: 27179-27181\",\"text\":[\"Termination: ('C_P6\\u002fmmm_2', 'Ni_R-3m_1')\\u003cbr\\u003eTermination index: 0\\u003cbr\\u003eInterfaces Index Range: 27179-27181\\u003cbr\\u003eStrain: 0.36%\\u003cbr\\u003eAtoms: 287\"],\"x\":[0.36400000000000005],\"y\":[287],\"type\":\"scatter\"},{\"hoverinfo\":\"text\",\"mode\":\"markers\",\"name\":\"Indices: 27182-27199\",\"text\":[\"Termination: ('C_P6\\u002fmmm_2', 'Ni_R-3m_1')\\u003cbr\\u003eTermination index: 0\\u003cbr\\u003eInterfaces Index Range: 27182-27199\\u003cbr\\u003eStrain: 0.36%\\u003cbr\\u003eAtoms: 364\"],\"x\":[0.36400000000000005],\"y\":[364],\"type\":\"scatter\"},{\"hoverinfo\":\"text\",\"mode\":\"markers\",\"name\":\"Indices: 27200-27202\",\"text\":[\"Termination: ('C_P6\\u002fmmm_2', 'Ni_R-3m_1')\\u003cbr\\u003eTermination index: 0\\u003cbr\\u003eInterfaces Index Range: 27200-27202\\u003cbr\\u003eStrain: 0.37%\\u003cbr\\u003eAtoms: 243\"],\"x\":[0.36600000000000005],\"y\":[243],\"type\":\"scatter\"},{\"hoverinfo\":\"text\",\"mode\":\"markers\",\"name\":\"Indices: 27203-27205\",\"text\":[\"Termination: ('C_P6\\u002fmmm_2', 'Ni_R-3m_1')\\u003cbr\\u003eTermination index: 0\\u003cbr\\u003eInterfaces Index Range: 27203-27205\\u003cbr\\u003eStrain: 0.37%\\u003cbr\\u003eAtoms: 243\"],\"x\":[0.367],\"y\":[243],\"type\":\"scatter\"},{\"hoverinfo\":\"text\",\"mode\":\"markers\",\"name\":\"Indices: 27206-27211\",\"text\":[\"Termination: ('C_P6\\u002fmmm_2', 'Ni_R-3m_1')\\u003cbr\\u003eTermination index: 0\\u003cbr\\u003eInterfaces Index Range: 27206-27211\\u003cbr\\u003eStrain: 0.37%\\u003cbr\\u003eAtoms: 282\"],\"x\":[0.367],\"y\":[282],\"type\":\"scatter\"},{\"hoverinfo\":\"text\",\"mode\":\"markers\",\"name\":\"Indices: 27212-27223\",\"text\":[\"Termination: ('C_P6\\u002fmmm_2', 'Ni_R-3m_1')\\u003cbr\\u003eTermination index: 0\\u003cbr\\u003eInterfaces Index Range: 27212-27223\\u003cbr\\u003eStrain: 0.37%\\u003cbr\\u003eAtoms: 366\"],\"x\":[0.367],\"y\":[366],\"type\":\"scatter\"},{\"hoverinfo\":\"text\",\"mode\":\"markers\",\"name\":\"Indices: 27224-27229\",\"text\":[\"Termination: ('C_P6\\u002fmmm_2', 'Ni_R-3m_1')\\u003cbr\\u003eTermination index: 0\\u003cbr\\u003eInterfaces Index Range: 27224-27229\\u003cbr\\u003eStrain: 0.37%\\u003cbr\\u003eAtoms: 311\"],\"x\":[0.368],\"y\":[311],\"type\":\"scatter\"},{\"hoverinfo\":\"text\",\"mode\":\"markers\",\"name\":\"Indices: 27230-27232\",\"text\":[\"Termination: ('C_P6\\u002fmmm_2', 'Ni_R-3m_1')\\u003cbr\\u003eTermination index: 0\\u003cbr\\u003eInterfaces Index Range: 27230-27232\\u003cbr\\u003eStrain: 0.37%\\u003cbr\\u003eAtoms: 282\"],\"x\":[0.369],\"y\":[282],\"type\":\"scatter\"},{\"hoverinfo\":\"text\",\"mode\":\"markers\",\"name\":\"Indices: 27233-27244\",\"text\":[\"Termination: ('C_P6\\u002fmmm_2', 'Ni_R-3m_1')\\u003cbr\\u003eTermination index: 0\\u003cbr\\u003eInterfaces Index Range: 27233-27244\\u003cbr\\u003eStrain: 0.37%\\u003cbr\\u003eAtoms: 342\"],\"x\":[0.369],\"y\":[342],\"type\":\"scatter\"},{\"hoverinfo\":\"text\",\"mode\":\"markers\",\"name\":\"Indices: 27245-27256\",\"text\":[\"Termination: ('C_P6\\u002fmmm_2', 'Ni_R-3m_1')\\u003cbr\\u003eTermination index: 0\\u003cbr\\u003eInterfaces Index Range: 27245-27256\\u003cbr\\u003eStrain: 0.37%\\u003cbr\\u003eAtoms: 362\"],\"x\":[0.369],\"y\":[362],\"type\":\"scatter\"},{\"hoverinfo\":\"text\",\"mode\":\"markers\",\"name\":\"Indices: 27257-27268\",\"text\":[\"Termination: ('C_P6\\u002fmmm_2', 'Ni_R-3m_1')\\u003cbr\\u003eTermination index: 0\\u003cbr\\u003eInterfaces Index Range: 27257-27268\\u003cbr\\u003eStrain: 0.37%\\u003cbr\\u003eAtoms: 352\"],\"x\":[0.37],\"y\":[352],\"type\":\"scatter\"},{\"hoverinfo\":\"text\",\"mode\":\"markers\",\"name\":\"Indices: 27269-27280\",\"text\":[\"Termination: ('C_P6\\u002fmmm_2', 'Ni_R-3m_1')\\u003cbr\\u003eTermination index: 0\\u003cbr\\u003eInterfaces Index Range: 27269-27280\\u003cbr\\u003eStrain: 0.37%\\u003cbr\\u003eAtoms: 202\"],\"x\":[0.372],\"y\":[202],\"type\":\"scatter\"},{\"hoverinfo\":\"text\",\"mode\":\"markers\",\"name\":\"Indices: 27281-27283\",\"text\":[\"Termination: ('C_P6\\u002fmmm_2', 'Ni_R-3m_1')\\u003cbr\\u003eTermination index: 0\\u003cbr\\u003eInterfaces Index Range: 27281-27283\\u003cbr\\u003eStrain: 0.37%\\u003cbr\\u003eAtoms: 277\"],\"x\":[0.372],\"y\":[277],\"type\":\"scatter\"},{\"hoverinfo\":\"text\",\"mode\":\"markers\",\"name\":\"Indices: 27284-27289\",\"text\":[\"Termination: ('C_P6\\u002fmmm_2', 'Ni_R-3m_1')\\u003cbr\\u003eTermination index: 0\\u003cbr\\u003eInterfaces Index Range: 27284-27289\\u003cbr\\u003eStrain: 0.37%\\u003cbr\\u003eAtoms: 278\"],\"x\":[0.372],\"y\":[278],\"type\":\"scatter\"},{\"hoverinfo\":\"text\",\"mode\":\"markers\",\"name\":\"Indices: 27290-27301\",\"text\":[\"Termination: ('C_P6\\u002fmmm_2', 'Ni_R-3m_1')\\u003cbr\\u003eTermination index: 0\\u003cbr\\u003eInterfaces Index Range: 27290-27301\\u003cbr\\u003eStrain: 0.37%\\u003cbr\\u003eAtoms: 273\"],\"x\":[0.373],\"y\":[273],\"type\":\"scatter\"},{\"hoverinfo\":\"text\",\"mode\":\"markers\",\"name\":\"Indices: 27302-27304\",\"text\":[\"Termination: ('C_P6\\u002fmmm_2', 'Ni_R-3m_1')\\u003cbr\\u003eTermination index: 0\\u003cbr\\u003eInterfaces Index Range: 27302-27304\\u003cbr\\u003eStrain: 0.37%\\u003cbr\\u003eAtoms: 238\"],\"x\":[0.374],\"y\":[238],\"type\":\"scatter\"},{\"hoverinfo\":\"text\",\"mode\":\"markers\",\"name\":\"Indices: 27305-27307\",\"text\":[\"Termination: ('C_P6\\u002fmmm_2', 'Ni_R-3m_1')\\u003cbr\\u003eTermination index: 0\\u003cbr\\u003eInterfaces Index Range: 27305-27307\\u003cbr\\u003eStrain: 0.37%\\u003cbr\\u003eAtoms: 277\"],\"x\":[0.374],\"y\":[277],\"type\":\"scatter\"},{\"hoverinfo\":\"text\",\"mode\":\"markers\",\"name\":\"Indices: 27308-27310\",\"text\":[\"Termination: ('C_P6\\u002fmmm_2', 'Ni_R-3m_1')\\u003cbr\\u003eTermination index: 0\\u003cbr\\u003eInterfaces Index Range: 27308-27310\\u003cbr\\u003eStrain: 0.38%\\u003cbr\\u003eAtoms: 238\"],\"x\":[0.37500000000000006],\"y\":[238],\"type\":\"scatter\"},{\"hoverinfo\":\"text\",\"mode\":\"markers\",\"name\":\"Indices: 27311-27322\",\"text\":[\"Termination: ('C_P6\\u002fmmm_2', 'Ni_R-3m_1')\\u003cbr\\u003eTermination index: 0\\u003cbr\\u003eInterfaces Index Range: 27311-27322\\u003cbr\\u003eStrain: 0.38%\\u003cbr\\u003eAtoms: 268\"],\"x\":[0.37700000000000006],\"y\":[268],\"type\":\"scatter\"},{\"hoverinfo\":\"text\",\"mode\":\"markers\",\"name\":\"Indices: 27323-27328\",\"text\":[\"Termination: ('C_P6\\u002fmmm_2', 'Ni_R-3m_1')\\u003cbr\\u003eTermination index: 0\\u003cbr\\u003eInterfaces Index Range: 27323-27328\\u003cbr\\u003eStrain: 0.38%\\u003cbr\\u003eAtoms: 272\"],\"x\":[0.37800000000000006],\"y\":[272],\"type\":\"scatter\"},{\"hoverinfo\":\"text\",\"mode\":\"markers\",\"name\":\"Indices: 27329-27340\",\"text\":[\"Termination: ('C_P6\\u002fmmm_2', 'Ni_R-3m_1')\\u003cbr\\u003eTermination index: 0\\u003cbr\\u003eInterfaces Index Range: 27329-27340\\u003cbr\\u003eStrain: 0.38%\\u003cbr\\u003eAtoms: 352\"],\"x\":[0.37800000000000006],\"y\":[352],\"type\":\"scatter\"},{\"hoverinfo\":\"text\",\"mode\":\"markers\",\"name\":\"Indices: 27341-27343\",\"text\":[\"Termination: ('C_P6\\u002fmmm_2', 'Ni_R-3m_1')\\u003cbr\\u003eTermination index: 0\\u003cbr\\u003eInterfaces Index Range: 27341-27343\\u003cbr\\u003eStrain: 0.38%\\u003cbr\\u003eAtoms: 272\"],\"x\":[0.38000000000000006],\"y\":[272],\"type\":\"scatter\"},{\"hoverinfo\":\"text\",\"mode\":\"markers\",\"name\":\"Indices: 27344-27349\",\"text\":[\"Termination: ('C_P6\\u002fmmm_2', 'Ni_R-3m_1')\\u003cbr\\u003eTermination index: 0\\u003cbr\\u003eInterfaces Index Range: 27344-27349\\u003cbr\\u003eStrain: 0.38%\\u003cbr\\u003eAtoms: 273\"],\"x\":[0.38000000000000006],\"y\":[273],\"type\":\"scatter\"},{\"hoverinfo\":\"text\",\"mode\":\"markers\",\"name\":\"Indices: 27350-27361\",\"text\":[\"Termination: ('C_P6\\u002fmmm_2', 'Ni_R-3m_1')\\u003cbr\\u003eTermination index: 0\\u003cbr\\u003eInterfaces Index Range: 27350-27361\\u003cbr\\u003eStrain: 0.38%\\u003cbr\\u003eAtoms: 367\"],\"x\":[0.38000000000000006],\"y\":[367],\"type\":\"scatter\"},{\"hoverinfo\":\"text\",\"mode\":\"markers\",\"name\":\"Indices: 27362-27373\",\"text\":[\"Termination: ('C_P6\\u002fmmm_2', 'Ni_R-3m_1')\\u003cbr\\u003eTermination index: 0\\u003cbr\\u003eInterfaces Index Range: 27362-27373\\u003cbr\\u003eStrain: 0.38%\\u003cbr\\u003eAtoms: 344\"],\"x\":[0.38100000000000006],\"y\":[344],\"type\":\"scatter\"},{\"hoverinfo\":\"text\",\"mode\":\"markers\",\"name\":\"Indices: 27374-27385\",\"text\":[\"Termination: ('C_P6\\u002fmmm_2', 'Ni_R-3m_1')\\u003cbr\\u003eTermination index: 0\\u003cbr\\u003eInterfaces Index Range: 27374-27385\\u003cbr\\u003eStrain: 0.38%\\u003cbr\\u003eAtoms: 357\"],\"x\":[0.38100000000000006],\"y\":[357],\"type\":\"scatter\"},{\"hoverinfo\":\"text\",\"mode\":\"markers\",\"name\":\"Indices: 27386-27388\",\"text\":[\"Termination: ('C_P6\\u002fmmm_2', 'Ni_R-3m_1')\\u003cbr\\u003eTermination index: 0\\u003cbr\\u003eInterfaces Index Range: 27386-27388\\u003cbr\\u003eStrain: 0.38%\\u003cbr\\u003eAtoms: 233\"],\"x\":[0.38200000000000006],\"y\":[233],\"type\":\"scatter\"},{\"hoverinfo\":\"text\",\"mode\":\"markers\",\"name\":\"Indices: 27389-27394\",\"text\":[\"Termination: ('C_P6\\u002fmmm_2', 'Ni_R-3m_1')\\u003cbr\\u003eTermination index: 0\\u003cbr\\u003eInterfaces Index Range: 27389-27394\\u003cbr\\u003eStrain: 0.38%\\u003cbr\\u003eAtoms: 267\"],\"x\":[0.38400000000000006],\"y\":[267],\"type\":\"scatter\"},{\"hoverinfo\":\"text\",\"mode\":\"markers\",\"name\":\"Indices: 27395-27397\",\"text\":[\"Termination: ('C_P6\\u002fmmm_2', 'Ni_R-3m_1')\\u003cbr\\u003eTermination index: 0\\u003cbr\\u003eInterfaces Index Range: 27395-27397\\u003cbr\\u003eStrain: 0.39%\\u003cbr\\u003eAtoms: 267\"],\"x\":[0.386],\"y\":[267],\"type\":\"scatter\"},{\"hoverinfo\":\"text\",\"mode\":\"markers\",\"name\":\"Indices: 27398-27409\",\"text\":[\"Termination: ('C_P6\\u002fmmm_2', 'Ni_R-3m_1')\\u003cbr\\u003eTermination index: 0\\u003cbr\\u003eInterfaces Index Range: 27398-27409\\u003cbr\\u003eStrain: 0.39%\\u003cbr\\u003eAtoms: 322\"],\"x\":[0.386],\"y\":[322],\"type\":\"scatter\"},{\"hoverinfo\":\"text\",\"mode\":\"markers\",\"name\":\"Indices: 27410-27421\",\"text\":[\"Termination: ('C_P6\\u002fmmm_2', 'Ni_R-3m_1')\\u003cbr\\u003eTermination index: 0\\u003cbr\\u003eInterfaces Index Range: 27410-27421\\u003cbr\\u003eStrain: 0.39%\\u003cbr\\u003eAtoms: 357\"],\"x\":[0.386],\"y\":[357],\"type\":\"scatter\"},{\"hoverinfo\":\"text\",\"mode\":\"markers\",\"name\":\"Indices: 27422-27427\",\"text\":[\"Termination: ('C_P6\\u002fmmm_2', 'Ni_R-3m_1')\\u003cbr\\u003eTermination index: 0\\u003cbr\\u003eInterfaces Index Range: 27422-27427\\u003cbr\\u003eStrain: 0.39%\\u003cbr\\u003eAtoms: 268\"],\"x\":[0.388],\"y\":[268],\"type\":\"scatter\"},{\"hoverinfo\":\"text\",\"mode\":\"markers\",\"name\":\"Indices: 27428-27431\",\"text\":[\"Termination: ('C_P6\\u002fmmm_2', 'Ni_R-3m_1')\\u003cbr\\u003eTermination index: 0\\u003cbr\\u003eInterfaces Index Range: 27428-27431\\u003cbr\\u003eStrain: 0.39%\\u003cbr\\u003eAtoms: 374\"],\"x\":[0.388],\"y\":[374],\"type\":\"scatter\"},{\"hoverinfo\":\"text\",\"mode\":\"markers\",\"name\":\"Indices: 27432-27443\",\"text\":[\"Termination: ('C_P6\\u002fmmm_2', 'Ni_R-3m_1')\\u003cbr\\u003eTermination index: 0\\u003cbr\\u003eInterfaces Index Range: 27432-27443\\u003cbr\\u003eStrain: 0.39%\\u003cbr\\u003eAtoms: 238\"],\"x\":[0.389],\"y\":[238],\"type\":\"scatter\"},{\"hoverinfo\":\"text\",\"mode\":\"markers\",\"name\":\"Indices: 27444-27449\",\"text\":[\"Termination: ('C_P6\\u002fmmm_2', 'Ni_R-3m_1')\\u003cbr\\u003eTermination index: 0\\u003cbr\\u003eInterfaces Index Range: 27444-27449\\u003cbr\\u003eStrain: 0.39%\\u003cbr\\u003eAtoms: 262\"],\"x\":[0.389],\"y\":[262],\"type\":\"scatter\"},{\"hoverinfo\":\"text\",\"mode\":\"markers\",\"name\":\"Indices: 27450-27461\",\"text\":[\"Termination: ('C_P6\\u002fmmm_2', 'Ni_R-3m_1')\\u003cbr\\u003eTermination index: 0\\u003cbr\\u003eInterfaces Index Range: 27450-27461\\u003cbr\\u003eStrain: 0.39%\\u003cbr\\u003eAtoms: 352\"],\"x\":[0.389],\"y\":[352],\"type\":\"scatter\"},{\"hoverinfo\":\"text\",\"mode\":\"markers\",\"name\":\"Indices: 27462-27473\",\"text\":[\"Termination: ('C_P6\\u002fmmm_2', 'Ni_R-3m_1')\\u003cbr\\u003eTermination index: 0\\u003cbr\\u003eInterfaces Index Range: 27462-27473\\u003cbr\\u003eStrain: 0.39%\\u003cbr\\u003eAtoms: 198\"],\"x\":[0.391],\"y\":[198],\"type\":\"scatter\"},{\"hoverinfo\":\"text\",\"mode\":\"markers\",\"name\":\"Indices: 27474-27476\",\"text\":[\"Termination: ('C_P6\\u002fmmm_2', 'Ni_R-3m_1')\\u003cbr\\u003eTermination index: 0\\u003cbr\\u003eInterfaces Index Range: 27474-27476\\u003cbr\\u003eStrain: 0.39%\\u003cbr\\u003eAtoms: 228\"],\"x\":[0.391],\"y\":[228],\"type\":\"scatter\"},{\"hoverinfo\":\"text\",\"mode\":\"markers\",\"name\":\"Indices: 27477-27488\",\"text\":[\"Termination: ('C_P6\\u002fmmm_2', 'Ni_R-3m_1')\\u003cbr\\u003eTermination index: 0\\u003cbr\\u003eInterfaces Index Range: 27477-27488\\u003cbr\\u003eStrain: 0.39%\\u003cbr\\u003eAtoms: 297\"],\"x\":[0.391],\"y\":[297],\"type\":\"scatter\"},{\"hoverinfo\":\"text\",\"mode\":\"markers\",\"name\":\"Indices: 27489-27491\",\"text\":[\"Termination: ('C_P6\\u002fmmm_2', 'Ni_R-3m_1')\\u003cbr\\u003eTermination index: 0\\u003cbr\\u003eInterfaces Index Range: 27489-27491\\u003cbr\\u003eStrain: 0.39%\\u003cbr\\u003eAtoms: 262\"],\"x\":[0.39200000000000007],\"y\":[262],\"type\":\"scatter\"},{\"hoverinfo\":\"text\",\"mode\":\"markers\",\"name\":\"Indices: 27492-27503\",\"text\":[\"Termination: ('C_P6\\u002fmmm_2', 'Ni_R-3m_1')\\u003cbr\\u003eTermination index: 0\\u003cbr\\u003eInterfaces Index Range: 27492-27503\\u003cbr\\u003eStrain: 0.39%\\u003cbr\\u003eAtoms: 276\"],\"x\":[0.39200000000000007],\"y\":[276],\"type\":\"scatter\"},{\"hoverinfo\":\"text\",\"mode\":\"markers\",\"name\":\"Indices: 27504-27515\",\"text\":[\"Termination: ('C_P6\\u002fmmm_2', 'Ni_R-3m_1')\\u003cbr\\u003eTermination index: 0\\u003cbr\\u003eInterfaces Index Range: 27504-27515\\u003cbr\\u003eStrain: 0.39%\\u003cbr\\u003eAtoms: 342\"],\"x\":[0.394],\"y\":[342],\"type\":\"scatter\"},{\"hoverinfo\":\"text\",\"mode\":\"markers\",\"name\":\"Indices: 27516-27527\",\"text\":[\"Termination: ('C_P6\\u002fmmm_2', 'Ni_R-3m_1')\\u003cbr\\u003eTermination index: 0\\u003cbr\\u003eInterfaces Index Range: 27516-27527\\u003cbr\\u003eStrain: 0.40%\\u003cbr\\u003eAtoms: 373\"],\"x\":[0.395],\"y\":[373],\"type\":\"scatter\"},{\"hoverinfo\":\"text\",\"mode\":\"markers\",\"name\":\"Indices: 27528-27533\",\"text\":[\"Termination: ('C_P6\\u002fmmm_2', 'Ni_R-3m_1')\\u003cbr\\u003eTermination index: 0\\u003cbr\\u003eInterfaces Index Range: 27528-27533\\u003cbr\\u003eStrain: 0.40%\\u003cbr\\u003eAtoms: 257\"],\"x\":[0.396],\"y\":[257],\"type\":\"scatter\"},{\"hoverinfo\":\"text\",\"mode\":\"markers\",\"name\":\"Indices: 27534-27545\",\"text\":[\"Termination: ('C_P6\\u002fmmm_2', 'Ni_R-3m_1')\\u003cbr\\u003eTermination index: 0\\u003cbr\\u003eInterfaces Index Range: 27534-27545\\u003cbr\\u003eStrain: 0.40%\\u003cbr\\u003eAtoms: 287\"],\"x\":[0.396],\"y\":[287],\"type\":\"scatter\"},{\"hoverinfo\":\"text\",\"mode\":\"markers\",\"name\":\"Indices: 27546-27557\",\"text\":[\"Termination: ('C_P6\\u002fmmm_2', 'Ni_R-3m_1')\\u003cbr\\u003eTermination index: 0\\u003cbr\\u003eInterfaces Index Range: 27546-27557\\u003cbr\\u003eStrain: 0.40%\\u003cbr\\u003eAtoms: 297\"],\"x\":[0.396],\"y\":[297],\"type\":\"scatter\"},{\"hoverinfo\":\"text\",\"mode\":\"markers\",\"name\":\"Indices: 27558-27569\",\"text\":[\"Termination: ('C_P6\\u002fmmm_2', 'Ni_R-3m_1')\\u003cbr\\u003eTermination index: 0\\u003cbr\\u003eInterfaces Index Range: 27558-27569\\u003cbr\\u003eStrain: 0.40%\\u003cbr\\u003eAtoms: 347\"],\"x\":[0.396],\"y\":[347],\"type\":\"scatter\"},{\"hoverinfo\":\"text\",\"mode\":\"markers\",\"name\":\"Indices: 27570-27581\",\"text\":[\"Termination: ('C_P6\\u002fmmm_2', 'Ni_R-3m_1')\\u003cbr\\u003eTermination index: 0\\u003cbr\\u003eInterfaces Index Range: 27570-27581\\u003cbr\\u003eStrain: 0.40%\\u003cbr\\u003eAtoms: 352\"],\"x\":[0.396],\"y\":[352],\"type\":\"scatter\"},{\"hoverinfo\":\"text\",\"mode\":\"markers\",\"name\":\"Indices: 27582-27587\",\"text\":[\"Termination: ('C_P6\\u002fmmm_2', 'Ni_R-3m_1')\\u003cbr\\u003eTermination index: 0\\u003cbr\\u003eInterfaces Index Range: 27582-27587\\u003cbr\\u003eStrain: 0.40%\\u003cbr\\u003eAtoms: 263\"],\"x\":[0.397],\"y\":[263],\"type\":\"scatter\"},{\"hoverinfo\":\"text\",\"mode\":\"markers\",\"name\":\"Indices: 27588-27599\",\"text\":[\"Termination: ('C_P6\\u002fmmm_2', 'Ni_R-3m_1')\\u003cbr\\u003eTermination index: 0\\u003cbr\\u003eInterfaces Index Range: 27588-27599\\u003cbr\\u003eStrain: 0.40%\\u003cbr\\u003eAtoms: 253\"],\"x\":[0.398],\"y\":[253],\"type\":\"scatter\"},{\"hoverinfo\":\"text\",\"mode\":\"markers\",\"name\":\"Indices: 27600-27602\",\"text\":[\"Termination: ('C_P6\\u002fmmm_2', 'Ni_R-3m_1')\\u003cbr\\u003eTermination index: 0\\u003cbr\\u003eInterfaces Index Range: 27600-27602\\u003cbr\\u003eStrain: 0.40%\\u003cbr\\u003eAtoms: 257\"],\"x\":[0.398],\"y\":[257],\"type\":\"scatter\"},{\"hoverinfo\":\"text\",\"mode\":\"markers\",\"name\":\"Indices: 27603-27605\",\"text\":[\"Termination: ('C_P6\\u002fmmm_2', 'Ni_R-3m_1')\\u003cbr\\u003eTermination index: 0\\u003cbr\\u003eInterfaces Index Range: 27603-27605\\u003cbr\\u003eStrain: 0.40%\\u003cbr\\u003eAtoms: 352\"],\"x\":[0.398],\"y\":[352],\"type\":\"scatter\"},{\"hoverinfo\":\"text\",\"mode\":\"markers\",\"name\":\"Indices: 27606-27617\",\"text\":[\"Termination: ('C_P6\\u002fmmm_2', 'Ni_R-3m_1')\\u003cbr\\u003eTermination index: 0\\u003cbr\\u003eInterfaces Index Range: 27606-27617\\u003cbr\\u003eStrain: 0.40%\\u003cbr\\u003eAtoms: 371\"],\"x\":[0.399],\"y\":[371],\"type\":\"scatter\"},{\"hoverinfo\":\"text\",\"mode\":\"markers\",\"name\":\"Indices: 27618-27620\",\"text\":[\"Termination: ('C_P6\\u002fmmm_2', 'Ni_R-3m_1')\\u003cbr\\u003eTermination index: 0\\u003cbr\\u003eInterfaces Index Range: 27618-27620\\u003cbr\\u003eStrain: 0.40%\\u003cbr\\u003eAtoms: 223\"],\"x\":[0.4],\"y\":[223],\"type\":\"scatter\"},{\"hoverinfo\":\"text\",\"mode\":\"markers\",\"name\":\"Indices: 27621-27632\",\"text\":[\"Termination: ('C_P6\\u002fmmm_2', 'Ni_R-3m_1')\\u003cbr\\u003eTermination index: 0\\u003cbr\\u003eInterfaces Index Range: 27621-27632\\u003cbr\\u003eStrain: 0.40%\\u003cbr\\u003eAtoms: 369\"],\"x\":[0.4],\"y\":[369],\"type\":\"scatter\"},{\"hoverinfo\":\"text\",\"mode\":\"markers\",\"name\":\"Indices: 27633-27644\",\"text\":[\"Termination: ('C_P6\\u002fmmm_2', 'Ni_R-3m_1')\\u003cbr\\u003eTermination index: 0\\u003cbr\\u003eInterfaces Index Range: 27633-27644\\u003cbr\\u003eStrain: 0.40%\\u003cbr\\u003eAtoms: 197\"],\"x\":[0.4010000000000001],\"y\":[197],\"type\":\"scatter\"},{\"hoverinfo\":\"text\",\"mode\":\"markers\",\"name\":\"Indices: 27645-27656\",\"text\":[\"Termination: ('C_P6\\u002fmmm_2', 'Ni_R-3m_1')\\u003cbr\\u003eTermination index: 0\\u003cbr\\u003eInterfaces Index Range: 27645-27656\\u003cbr\\u003eStrain: 0.40%\\u003cbr\\u003eAtoms: 258\"],\"x\":[0.4010000000000001],\"y\":[258],\"type\":\"scatter\"},{\"hoverinfo\":\"text\",\"mode\":\"markers\",\"name\":\"Indices: 27657-27659\",\"text\":[\"Termination: ('C_P6\\u002fmmm_2', 'Ni_R-3m_1')\\u003cbr\\u003eTermination index: 0\\u003cbr\\u003eInterfaces Index Range: 27657-27659\\u003cbr\\u003eStrain: 0.40%\\u003cbr\\u003eAtoms: 252\"],\"x\":[0.402],\"y\":[252],\"type\":\"scatter\"},{\"hoverinfo\":\"text\",\"mode\":\"markers\",\"name\":\"Indices: 27660-27671\",\"text\":[\"Termination: ('C_P6\\u002fmmm_2', 'Ni_R-3m_1')\\u003cbr\\u003eTermination index: 0\\u003cbr\\u003eInterfaces Index Range: 27660-27671\\u003cbr\\u003eStrain: 0.40%\\u003cbr\\u003eAtoms: 307\"],\"x\":[0.4030000000000001],\"y\":[307],\"type\":\"scatter\"},{\"hoverinfo\":\"text\",\"mode\":\"markers\",\"name\":\"Indices: 27672-27674\",\"text\":[\"Termination: ('C_P6\\u002fmmm_2', 'Ni_R-3m_1')\\u003cbr\\u003eTermination index: 0\\u003cbr\\u003eInterfaces Index Range: 27672-27674\\u003cbr\\u003eStrain: 0.40%\\u003cbr\\u003eAtoms: 252\"],\"x\":[0.404],\"y\":[252],\"type\":\"scatter\"},{\"hoverinfo\":\"text\",\"mode\":\"markers\",\"name\":\"Indices: 27675-27698\",\"text\":[\"Termination: ('C_P6\\u002fmmm_2', 'Ni_R-3m_1')\\u003cbr\\u003eTermination index: 0\\u003cbr\\u003eInterfaces Index Range: 27675-27698\\u003cbr\\u003eStrain: 0.40%\\u003cbr\\u003eAtoms: 369\"],\"x\":[0.404],\"y\":[369],\"type\":\"scatter\"},{\"hoverinfo\":\"text\",\"mode\":\"markers\",\"name\":\"Indices: 27699-27701\",\"text\":[\"Termination: ('C_P6\\u002fmmm_2', 'Ni_R-3m_1')\\u003cbr\\u003eTermination index: 0\\u003cbr\\u003eInterfaces Index Range: 27699-27701\\u003cbr\\u003eStrain: 0.41%\\u003cbr\\u003eAtoms: 258\"],\"x\":[0.406],\"y\":[258],\"type\":\"scatter\"},{\"hoverinfo\":\"text\",\"mode\":\"markers\",\"name\":\"Indices: 27702-27704\",\"text\":[\"Termination: ('C_P6\\u002fmmm_2', 'Ni_R-3m_1')\\u003cbr\\u003eTermination index: 0\\u003cbr\\u003eInterfaces Index Range: 27702-27704\\u003cbr\\u003eStrain: 0.41%\\u003cbr\\u003eAtoms: 342\"],\"x\":[0.40800000000000003],\"y\":[342],\"type\":\"scatter\"},{\"hoverinfo\":\"text\",\"mode\":\"markers\",\"name\":\"Indices: 27705-27716\",\"text\":[\"Termination: ('C_P6\\u002fmmm_2', 'Ni_R-3m_1')\\u003cbr\\u003eTermination index: 0\\u003cbr\\u003eInterfaces Index Range: 27705-27716\\u003cbr\\u003eStrain: 0.41%\\u003cbr\\u003eAtoms: 183\"],\"x\":[0.4090000000000001],\"y\":[183],\"type\":\"scatter\"},{\"hoverinfo\":\"text\",\"mode\":\"markers\",\"name\":\"Indices: 27717-27719\",\"text\":[\"Termination: ('C_P6\\u002fmmm_2', 'Ni_R-3m_1')\\u003cbr\\u003eTermination index: 0\\u003cbr\\u003eInterfaces Index Range: 27717-27719\\u003cbr\\u003eStrain: 0.41%\\u003cbr\\u003eAtoms: 218\"],\"x\":[0.4090000000000001],\"y\":[218],\"type\":\"scatter\"},{\"hoverinfo\":\"text\",\"mode\":\"markers\",\"name\":\"Indices: 27720-27725\",\"text\":[\"Termination: ('C_P6\\u002fmmm_2', 'Ni_R-3m_1')\\u003cbr\\u003eTermination index: 0\\u003cbr\\u003eInterfaces Index Range: 27720-27725\\u003cbr\\u003eStrain: 0.41%\\u003cbr\\u003eAtoms: 247\"],\"x\":[0.4090000000000001],\"y\":[247],\"type\":\"scatter\"},{\"hoverinfo\":\"text\",\"mode\":\"markers\",\"name\":\"Indices: 27726-27749\",\"text\":[\"Termination: ('C_P6\\u002fmmm_2', 'Ni_R-3m_1')\\u003cbr\\u003eTermination index: 0\\u003cbr\\u003eInterfaces Index Range: 27726-27749\\u003cbr\\u003eStrain: 0.41%\\u003cbr\\u003eAtoms: 366\"],\"x\":[0.4090000000000001],\"y\":[366],\"type\":\"scatter\"},{\"hoverinfo\":\"text\",\"mode\":\"markers\",\"name\":\"Indices: 27750-27752\",\"text\":[\"Termination: ('C_P6\\u002fmmm_2', 'Ni_R-3m_1')\\u003cbr\\u003eTermination index: 0\\u003cbr\\u003eInterfaces Index Range: 27750-27752\\u003cbr\\u003eStrain: 0.41%\\u003cbr\\u003eAtoms: 218\"],\"x\":[0.411],\"y\":[218],\"type\":\"scatter\"},{\"hoverinfo\":\"text\",\"mode\":\"markers\",\"name\":\"Indices: 27753-27755\",\"text\":[\"Termination: ('C_P6\\u002fmmm_2', 'Ni_R-3m_1')\\u003cbr\\u003eTermination index: 0\\u003cbr\\u003eInterfaces Index Range: 27753-27755\\u003cbr\\u003eStrain: 0.41%\\u003cbr\\u003eAtoms: 247\"],\"x\":[0.411],\"y\":[247],\"type\":\"scatter\"},{\"hoverinfo\":\"text\",\"mode\":\"markers\",\"name\":\"Indices: 27756-27758\",\"text\":[\"Termination: ('C_P6\\u002fmmm_2', 'Ni_R-3m_1')\\u003cbr\\u003eTermination index: 0\\u003cbr\\u003eInterfaces Index Range: 27756-27758\\u003cbr\\u003eStrain: 0.41%\\u003cbr\\u003eAtoms: 242\"],\"x\":[0.415],\"y\":[242],\"type\":\"scatter\"},{\"hoverinfo\":\"text\",\"mode\":\"markers\",\"name\":\"Indices: 27759-27770\",\"text\":[\"Termination: ('C_P6\\u002fmmm_2', 'Ni_R-3m_1')\\u003cbr\\u003eTermination index: 0\\u003cbr\\u003eInterfaces Index Range: 27759-27770\\u003cbr\\u003eStrain: 0.41%\\u003cbr\\u003eAtoms: 322\"],\"x\":[0.415],\"y\":[322],\"type\":\"scatter\"},{\"hoverinfo\":\"text\",\"mode\":\"markers\",\"name\":\"Indices: 27771-27776\",\"text\":[\"Termination: ('C_P6\\u002fmmm_2', 'Ni_R-3m_1')\\u003cbr\\u003eTermination index: 0\\u003cbr\\u003eInterfaces Index Range: 27771-27776\\u003cbr\\u003eStrain: 0.42%\\u003cbr\\u003eAtoms: 253\"],\"x\":[0.41600000000000004],\"y\":[253],\"type\":\"scatter\"},{\"hoverinfo\":\"text\",\"mode\":\"markers\",\"name\":\"Indices: 27777-27788\",\"text\":[\"Termination: ('C_P6\\u002fmmm_2', 'Ni_R-3m_1')\\u003cbr\\u003eTermination index: 0\\u003cbr\\u003eInterfaces Index Range: 27777-27788\\u003cbr\\u003eStrain: 0.42%\\u003cbr\\u003eAtoms: 302\"],\"x\":[0.41600000000000004],\"y\":[302],\"type\":\"scatter\"},{\"hoverinfo\":\"text\",\"mode\":\"markers\",\"name\":\"Indices: 27789-27792\",\"text\":[\"Termination: ('C_P6\\u002fmmm_2', 'Ni_R-3m_1')\\u003cbr\\u003eTermination index: 0\\u003cbr\\u003eInterfaces Index Range: 27789-27792\\u003cbr\\u003eStrain: 0.42%\\u003cbr\\u003eAtoms: 309\"],\"x\":[0.41600000000000004],\"y\":[309],\"type\":\"scatter\"},{\"hoverinfo\":\"text\",\"mode\":\"markers\",\"name\":\"Indices: 27793-27798\",\"text\":[\"Termination: ('C_P6\\u002fmmm_2', 'Ni_R-3m_1')\\u003cbr\\u003eTermination index: 0\\u003cbr\\u003eInterfaces Index Range: 27793-27798\\u003cbr\\u003eStrain: 0.42%\\u003cbr\\u003eAtoms: 203\"],\"x\":[0.41700000000000004],\"y\":[203],\"type\":\"scatter\"},{\"hoverinfo\":\"text\",\"mode\":\"markers\",\"name\":\"Indices: 27799-27801\",\"text\":[\"Termination: ('C_P6\\u002fmmm_2', 'Ni_R-3m_1')\\u003cbr\\u003eTermination index: 0\\u003cbr\\u003eInterfaces Index Range: 27799-27801\\u003cbr\\u003eStrain: 0.42%\\u003cbr\\u003eAtoms: 242\"],\"x\":[0.41800000000000004],\"y\":[242],\"type\":\"scatter\"},{\"hoverinfo\":\"text\",\"mode\":\"markers\",\"name\":\"Indices: 27802-27804\",\"text\":[\"Termination: ('C_P6\\u002fmmm_2', 'Ni_R-3m_1')\\u003cbr\\u003eTermination index: 0\\u003cbr\\u003eInterfaces Index Range: 27802-27804\\u003cbr\\u003eStrain: 0.42%\\u003cbr\\u003eAtoms: 332\"],\"x\":[0.41800000000000004],\"y\":[332],\"type\":\"scatter\"},{\"hoverinfo\":\"text\",\"mode\":\"markers\",\"name\":\"Indices: 27805-27807\",\"text\":[\"Termination: ('C_P6\\u002fmmm_2', 'Ni_R-3m_1')\\u003cbr\\u003eTermination index: 0\\u003cbr\\u003eInterfaces Index Range: 27805-27807\\u003cbr\\u003eStrain: 0.42%\\u003cbr\\u003eAtoms: 213\"],\"x\":[0.41900000000000004],\"y\":[213],\"type\":\"scatter\"},{\"hoverinfo\":\"text\",\"mode\":\"markers\",\"name\":\"Indices: 27808-27819\",\"text\":[\"Termination: ('C_P6\\u002fmmm_2', 'Ni_R-3m_1')\\u003cbr\\u003eTermination index: 0\\u003cbr\\u003eInterfaces Index Range: 27808-27819\\u003cbr\\u003eStrain: 0.42%\\u003cbr\\u003eAtoms: 306\"],\"x\":[0.41900000000000004],\"y\":[306],\"type\":\"scatter\"},{\"hoverinfo\":\"text\",\"mode\":\"markers\",\"name\":\"Indices: 27820-27831\",\"text\":[\"Termination: ('C_P6\\u002fmmm_2', 'Ni_R-3m_1')\\u003cbr\\u003eTermination index: 0\\u003cbr\\u003eInterfaces Index Range: 27820-27831\\u003cbr\\u003eStrain: 0.42%\\u003cbr\\u003eAtoms: 364\"],\"x\":[0.41900000000000004],\"y\":[364],\"type\":\"scatter\"},{\"hoverinfo\":\"text\",\"mode\":\"markers\",\"name\":\"Indices: 27832-27834\",\"text\":[\"Termination: ('C_P6\\u002fmmm_2', 'Ni_R-3m_1')\\u003cbr\\u003eTermination index: 0\\u003cbr\\u003eInterfaces Index Range: 27832-27834\\u003cbr\\u003eStrain: 0.42%\\u003cbr\\u003eAtoms: 213\"],\"x\":[0.42100000000000004],\"y\":[213],\"type\":\"scatter\"},{\"hoverinfo\":\"text\",\"mode\":\"markers\",\"name\":\"Indices: 27835-27846\",\"text\":[\"Termination: ('C_P6\\u002fmmm_2', 'Ni_R-3m_1')\\u003cbr\\u003eTermination index: 0\\u003cbr\\u003eInterfaces Index Range: 27835-27846\\u003cbr\\u003eStrain: 0.42%\\u003cbr\\u003eAtoms: 373\"],\"x\":[0.42100000000000004],\"y\":[373],\"type\":\"scatter\"},{\"hoverinfo\":\"text\",\"mode\":\"markers\",\"name\":\"Indices: 27847-27858\",\"text\":[\"Termination: ('C_P6\\u002fmmm_2', 'Ni_R-3m_1')\\u003cbr\\u003eTermination index: 0\\u003cbr\\u003eInterfaces Index Range: 27847-27858\\u003cbr\\u003eStrain: 0.42%\\u003cbr\\u003eAtoms: 272\"],\"x\":[0.42200000000000004],\"y\":[272],\"type\":\"scatter\"},{\"hoverinfo\":\"text\",\"mode\":\"markers\",\"name\":\"Indices: 27859-27864\",\"text\":[\"Termination: ('C_P6\\u002fmmm_2', 'Ni_R-3m_1')\\u003cbr\\u003eTermination index: 0\\u003cbr\\u003eInterfaces Index Range: 27859-27864\\u003cbr\\u003eStrain: 0.42%\\u003cbr\\u003eAtoms: 327\"],\"x\":[0.42200000000000004],\"y\":[327],\"type\":\"scatter\"},{\"hoverinfo\":\"text\",\"mode\":\"markers\",\"name\":\"Indices: 27865-27888\",\"text\":[\"Termination: ('C_P6\\u002fmmm_2', 'Ni_R-3m_1')\\u003cbr\\u003eTermination index: 0\\u003cbr\\u003eInterfaces Index Range: 27865-27888\\u003cbr\\u003eStrain: 0.42%\\u003cbr\\u003eAtoms: 351\"],\"x\":[0.42200000000000004],\"y\":[351],\"type\":\"scatter\"},{\"hoverinfo\":\"text\",\"mode\":\"markers\",\"name\":\"Indices: 27889-27891\",\"text\":[\"Termination: ('C_P6\\u002fmmm_2', 'Ni_R-3m_1')\\u003cbr\\u003eTermination index: 0\\u003cbr\\u003eInterfaces Index Range: 27889-27891\\u003cbr\\u003eStrain: 0.42%\\u003cbr\\u003eAtoms: 237\"],\"x\":[0.42300000000000004],\"y\":[237],\"type\":\"scatter\"},{\"hoverinfo\":\"text\",\"mode\":\"markers\",\"name\":\"Indices: 27892-27903\",\"text\":[\"Termination: ('C_P6\\u002fmmm_2', 'Ni_R-3m_1')\\u003cbr\\u003eTermination index: 0\\u003cbr\\u003eInterfaces Index Range: 27892-27903\\u003cbr\\u003eStrain: 0.42%\\u003cbr\\u003eAtoms: 287\"],\"x\":[0.42400000000000004],\"y\":[287],\"type\":\"scatter\"},{\"hoverinfo\":\"text\",\"mode\":\"markers\",\"name\":\"Indices: 27904-27906\",\"text\":[\"Termination: ('C_P6\\u002fmmm_2', 'Ni_R-3m_1')\\u003cbr\\u003eTermination index: 0\\u003cbr\\u003eInterfaces Index Range: 27904-27906\\u003cbr\\u003eStrain: 0.43%\\u003cbr\\u003eAtoms: 237\"],\"x\":[0.42500000000000004],\"y\":[237],\"type\":\"scatter\"},{\"hoverinfo\":\"text\",\"mode\":\"markers\",\"name\":\"Indices: 27907-27918\",\"text\":[\"Termination: ('C_P6\\u002fmmm_2', 'Ni_R-3m_1')\\u003cbr\\u003eTermination index: 0\\u003cbr\\u003eInterfaces Index Range: 27907-27918\\u003cbr\\u003eStrain: 0.43%\\u003cbr\\u003eAtoms: 346\"],\"x\":[0.42500000000000004],\"y\":[346],\"type\":\"scatter\"},{\"hoverinfo\":\"text\",\"mode\":\"markers\",\"name\":\"Indices: 27919-27921\",\"text\":[\"Termination: ('C_P6\\u002fmmm_2', 'Ni_R-3m_1')\\u003cbr\\u003eTermination index: 0\\u003cbr\\u003eInterfaces Index Range: 27919-27921\\u003cbr\\u003eStrain: 0.43%\\u003cbr\\u003eAtoms: 248\"],\"x\":[0.4260000000000001],\"y\":[248],\"type\":\"scatter\"},{\"hoverinfo\":\"text\",\"mode\":\"markers\",\"name\":\"Indices: 27922-27933\",\"text\":[\"Termination: ('C_P6\\u002fmmm_2', 'Ni_R-3m_1')\\u003cbr\\u003eTermination index: 0\\u003cbr\\u003eInterfaces Index Range: 27922-27933\\u003cbr\\u003eStrain: 0.43%\\u003cbr\\u003eAtoms: 346\"],\"x\":[0.4260000000000001],\"y\":[346],\"type\":\"scatter\"},{\"hoverinfo\":\"text\",\"mode\":\"markers\",\"name\":\"Indices: 27934-27945\",\"text\":[\"Termination: ('C_P6\\u002fmmm_2', 'Ni_R-3m_1')\\u003cbr\\u003eTermination index: 0\\u003cbr\\u003eInterfaces Index Range: 27934-27945\\u003cbr\\u003eStrain: 0.43%\\u003cbr\\u003eAtoms: 238\"],\"x\":[0.42700000000000005],\"y\":[238],\"type\":\"scatter\"},{\"hoverinfo\":\"text\",\"mode\":\"markers\",\"name\":\"Indices: 27946-27957\",\"text\":[\"Termination: ('C_P6\\u002fmmm_2', 'Ni_R-3m_1')\\u003cbr\\u003eTermination index: 0\\u003cbr\\u003eInterfaces Index Range: 27946-27957\\u003cbr\\u003eStrain: 0.43%\\u003cbr\\u003eAtoms: 297\"],\"x\":[0.42700000000000005],\"y\":[297],\"type\":\"scatter\"},{\"hoverinfo\":\"text\",\"mode\":\"markers\",\"name\":\"Indices: 27958-27960\",\"text\":[\"Termination: ('C_P6\\u002fmmm_2', 'Ni_R-3m_1')\\u003cbr\\u003eTermination index: 0\\u003cbr\\u003eInterfaces Index Range: 27958-27960\\u003cbr\\u003eStrain: 0.43%\\u003cbr\\u003eAtoms: 322\"],\"x\":[0.428],\"y\":[322],\"type\":\"scatter\"},{\"hoverinfo\":\"text\",\"mode\":\"markers\",\"name\":\"Indices: 27961-27963\",\"text\":[\"Termination: ('C_P6\\u002fmmm_2', 'Ni_R-3m_1')\\u003cbr\\u003eTermination index: 0\\u003cbr\\u003eInterfaces Index Range: 27961-27963\\u003cbr\\u003eStrain: 0.43%\\u003cbr\\u003eAtoms: 208\"],\"x\":[0.42900000000000005],\"y\":[208],\"type\":\"scatter\"},{\"hoverinfo\":\"text\",\"mode\":\"markers\",\"name\":\"Indices: 27964-27975\",\"text\":[\"Termination: ('C_P6\\u002fmmm_2', 'Ni_R-3m_1')\\u003cbr\\u003eTermination index: 0\\u003cbr\\u003eInterfaces Index Range: 27964-27975\\u003cbr\\u003eStrain: 0.43%\\u003cbr\\u003eAtoms: 218\"],\"x\":[0.43],\"y\":[218],\"type\":\"scatter\"},{\"hoverinfo\":\"text\",\"mode\":\"markers\",\"name\":\"Indices: 27976-27978\",\"text\":[\"Termination: ('C_P6\\u002fmmm_2', 'Ni_R-3m_1')\\u003cbr\\u003eTermination index: 0\\u003cbr\\u003eInterfaces Index Range: 27976-27978\\u003cbr\\u003eStrain: 0.43%\\u003cbr\\u003eAtoms: 232\"],\"x\":[0.43],\"y\":[232],\"type\":\"scatter\"},{\"hoverinfo\":\"text\",\"mode\":\"markers\",\"name\":\"Indices: 27979-27990\",\"text\":[\"Termination: ('C_P6\\u002fmmm_2', 'Ni_R-3m_1')\\u003cbr\\u003eTermination index: 0\\u003cbr\\u003eInterfaces Index Range: 27979-27990\\u003cbr\\u003eStrain: 0.43%\\u003cbr\\u003eAtoms: 302\"],\"x\":[0.43100000000000005],\"y\":[302],\"type\":\"scatter\"},{\"hoverinfo\":\"text\",\"mode\":\"markers\",\"name\":\"Indices: 27991-28002\",\"text\":[\"Termination: ('C_P6\\u002fmmm_2', 'Ni_R-3m_1')\\u003cbr\\u003eTermination index: 0\\u003cbr\\u003eInterfaces Index Range: 27991-28002\\u003cbr\\u003eStrain: 0.43%\\u003cbr\\u003eAtoms: 307\"],\"x\":[0.43100000000000005],\"y\":[307],\"type\":\"scatter\"},{\"hoverinfo\":\"text\",\"mode\":\"markers\",\"name\":\"Indices: 28003-28005\",\"text\":[\"Termination: ('C_P6\\u002fmmm_2', 'Ni_R-3m_1')\\u003cbr\\u003eTermination index: 0\\u003cbr\\u003eInterfaces Index Range: 28003-28005\\u003cbr\\u003eStrain: 0.43%\\u003cbr\\u003eAtoms: 232\"],\"x\":[0.43300000000000005],\"y\":[232],\"type\":\"scatter\"},{\"hoverinfo\":\"text\",\"mode\":\"markers\",\"name\":\"Indices: 28006-28017\",\"text\":[\"Termination: ('C_P6\\u002fmmm_2', 'Ni_R-3m_1')\\u003cbr\\u003eTermination index: 0\\u003cbr\\u003eInterfaces Index Range: 28006-28017\\u003cbr\\u003eStrain: 0.43%\\u003cbr\\u003eAtoms: 297\"],\"x\":[0.434],\"y\":[297],\"type\":\"scatter\"},{\"hoverinfo\":\"text\",\"mode\":\"markers\",\"name\":\"Indices: 28018-28029\",\"text\":[\"Termination: ('C_P6\\u002fmmm_2', 'Ni_R-3m_1')\\u003cbr\\u003eTermination index: 0\\u003cbr\\u003eInterfaces Index Range: 28018-28029\\u003cbr\\u003eStrain: 0.44%\\u003cbr\\u003eAtoms: 356\"],\"x\":[0.43500000000000005],\"y\":[356],\"type\":\"scatter\"},{\"hoverinfo\":\"text\",\"mode\":\"markers\",\"name\":\"Indices: 28030-28041\",\"text\":[\"Termination: ('C_P6\\u002fmmm_2', 'Ni_R-3m_1')\\u003cbr\\u003eTermination index: 0\\u003cbr\\u003eInterfaces Index Range: 28030-28041\\u003cbr\\u003eStrain: 0.44%\\u003cbr\\u003eAtoms: 223\"],\"x\":[0.436],\"y\":[223],\"type\":\"scatter\"},{\"hoverinfo\":\"text\",\"mode\":\"markers\",\"name\":\"Indices: 28042-28044\",\"text\":[\"Termination: ('C_P6\\u002fmmm_2', 'Ni_R-3m_1')\\u003cbr\\u003eTermination index: 0\\u003cbr\\u003eInterfaces Index Range: 28042-28044\\u003cbr\\u003eStrain: 0.44%\\u003cbr\\u003eAtoms: 243\"],\"x\":[0.436],\"y\":[243],\"type\":\"scatter\"},{\"hoverinfo\":\"text\",\"mode\":\"markers\",\"name\":\"Indices: 28045-28056\",\"text\":[\"Termination: ('C_P6\\u002fmmm_2', 'Ni_R-3m_1')\\u003cbr\\u003eTermination index: 0\\u003cbr\\u003eInterfaces Index Range: 28045-28056\\u003cbr\\u003eStrain: 0.44%\\u003cbr\\u003eAtoms: 257\"],\"x\":[0.436],\"y\":[257],\"type\":\"scatter\"},{\"hoverinfo\":\"text\",\"mode\":\"markers\",\"name\":\"Indices: 28057-28062\",\"text\":[\"Termination: ('C_P6\\u002fmmm_2', 'Ni_R-3m_1')\\u003cbr\\u003eTermination index: 0\\u003cbr\\u003eInterfaces Index Range: 28057-28062\\u003cbr\\u003eStrain: 0.44%\\u003cbr\\u003eAtoms: 227\"],\"x\":[0.438],\"y\":[227],\"type\":\"scatter\"},{\"hoverinfo\":\"text\",\"mode\":\"markers\",\"name\":\"Indices: 28063-28074\",\"text\":[\"Termination: ('C_P6\\u002fmmm_2', 'Ni_R-3m_1')\\u003cbr\\u003eTermination index: 0\\u003cbr\\u003eInterfaces Index Range: 28063-28074\\u003cbr\\u003eStrain: 0.44%\\u003cbr\\u003eAtoms: 287\"],\"x\":[0.438],\"y\":[287],\"type\":\"scatter\"},{\"hoverinfo\":\"text\",\"mode\":\"markers\",\"name\":\"Indices: 28075-28077\",\"text\":[\"Termination: ('C_P6\\u002fmmm_2', 'Ni_R-3m_1')\\u003cbr\\u003eTermination index: 0\\u003cbr\\u003eInterfaces Index Range: 28075-28077\\u003cbr\\u003eStrain: 0.44%\\u003cbr\\u003eAtoms: 203\"],\"x\":[0.44],\"y\":[203],\"type\":\"scatter\"},{\"hoverinfo\":\"text\",\"mode\":\"markers\",\"name\":\"Indices: 28078-28089\",\"text\":[\"Termination: ('C_P6\\u002fmmm_2', 'Ni_R-3m_1')\\u003cbr\\u003eTermination index: 0\\u003cbr\\u003eInterfaces Index Range: 28078-28089\\u003cbr\\u003eStrain: 0.44%\\u003cbr\\u003eAtoms: 267\"],\"x\":[0.44],\"y\":[267],\"type\":\"scatter\"},{\"hoverinfo\":\"text\",\"mode\":\"markers\",\"name\":\"Indices: 28090-28092\",\"text\":[\"Termination: ('C_P6\\u002fmmm_2', 'Ni_R-3m_1')\\u003cbr\\u003eTermination index: 0\\u003cbr\\u003eInterfaces Index Range: 28090-28092\\u003cbr\\u003eStrain: 0.44%\\u003cbr\\u003eAtoms: 312\"],\"x\":[0.44],\"y\":[312],\"type\":\"scatter\"},{\"hoverinfo\":\"text\",\"mode\":\"markers\",\"name\":\"Indices: 28093-28104\",\"text\":[\"Termination: ('C_P6\\u002fmmm_2', 'Ni_R-3m_1')\\u003cbr\\u003eTermination index: 0\\u003cbr\\u003eInterfaces Index Range: 28093-28104\\u003cbr\\u003eStrain: 0.44%\\u003cbr\\u003eAtoms: 354\"],\"x\":[0.44],\"y\":[354],\"type\":\"scatter\"},{\"hoverinfo\":\"text\",\"mode\":\"markers\",\"name\":\"Indices: 28105-28110\",\"text\":[\"Termination: ('C_P6\\u002fmmm_2', 'Ni_R-3m_1')\\u003cbr\\u003eTermination index: 0\\u003cbr\\u003eInterfaces Index Range: 28105-28110\\u003cbr\\u003eStrain: 0.44%\\u003cbr\\u003eAtoms: 202\"],\"x\":[0.44100000000000006],\"y\":[202],\"type\":\"scatter\"},{\"hoverinfo\":\"text\",\"mode\":\"markers\",\"name\":\"Indices: 28111-28113\",\"text\":[\"Termination: ('C_P6\\u002fmmm_2', 'Ni_R-3m_1')\\u003cbr\\u003eTermination index: 0\\u003cbr\\u003eInterfaces Index Range: 28111-28113\\u003cbr\\u003eStrain: 0.44%\\u003cbr\\u003eAtoms: 227\"],\"x\":[0.44100000000000006],\"y\":[227],\"type\":\"scatter\"},{\"hoverinfo\":\"text\",\"mode\":\"markers\",\"name\":\"Indices: 28114-28116\",\"text\":[\"Termination: ('C_P6\\u002fmmm_2', 'Ni_R-3m_1')\\u003cbr\\u003eTermination index: 0\\u003cbr\\u003eInterfaces Index Range: 28114-28116\\u003cbr\\u003eStrain: 0.44%\\u003cbr\\u003eAtoms: 203\"],\"x\":[0.44200000000000006],\"y\":[203],\"type\":\"scatter\"},{\"hoverinfo\":\"text\",\"mode\":\"markers\",\"name\":\"Indices: 28117-28128\",\"text\":[\"Termination: ('C_P6\\u002fmmm_2', 'Ni_R-3m_1')\\u003cbr\\u003eTermination index: 0\\u003cbr\\u003eInterfaces Index Range: 28117-28128\\u003cbr\\u003eStrain: 0.44%\\u003cbr\\u003eAtoms: 336\"],\"x\":[0.44200000000000006],\"y\":[336],\"type\":\"scatter\"},{\"hoverinfo\":\"text\",\"mode\":\"markers\",\"name\":\"Indices: 28129-28140\",\"text\":[\"Termination: ('C_P6\\u002fmmm_2', 'Ni_R-3m_1')\\u003cbr\\u003eTermination index: 0\\u003cbr\\u003eInterfaces Index Range: 28129-28140\\u003cbr\\u003eStrain: 0.44%\\u003cbr\\u003eAtoms: 372\"],\"x\":[0.44400000000000006],\"y\":[372],\"type\":\"scatter\"},{\"hoverinfo\":\"text\",\"mode\":\"markers\",\"name\":\"Indices: 28141-28152\",\"text\":[\"Termination: ('C_P6\\u002fmmm_2', 'Ni_R-3m_1')\\u003cbr\\u003eTermination index: 0\\u003cbr\\u003eInterfaces Index Range: 28141-28152\\u003cbr\\u003eStrain: 0.45%\\u003cbr\\u003eAtoms: 272\"],\"x\":[0.445],\"y\":[272],\"type\":\"scatter\"},{\"hoverinfo\":\"text\",\"mode\":\"markers\",\"name\":\"Indices: 28153-28158\",\"text\":[\"Termination: ('C_P6\\u002fmmm_2', 'Ni_R-3m_1')\\u003cbr\\u003eTermination index: 0\\u003cbr\\u003eInterfaces Index Range: 28153-28158\\u003cbr\\u003eStrain: 0.45%\\u003cbr\\u003eAtoms: 222\"],\"x\":[0.44600000000000006],\"y\":[222],\"type\":\"scatter\"},{\"hoverinfo\":\"text\",\"mode\":\"markers\",\"name\":\"Indices: 28159-28161\",\"text\":[\"Termination: ('C_P6\\u002fmmm_2', 'Ni_R-3m_1')\\u003cbr\\u003eTermination index: 0\\u003cbr\\u003eInterfaces Index Range: 28159-28161\\u003cbr\\u003eStrain: 0.45%\\u003cbr\\u003eAtoms: 238\"],\"x\":[0.447],\"y\":[238],\"type\":\"scatter\"},{\"hoverinfo\":\"text\",\"mode\":\"markers\",\"name\":\"Indices: 28162-28173\",\"text\":[\"Termination: ('C_P6\\u002fmmm_2', 'Ni_R-3m_1')\\u003cbr\\u003eTermination index: 0\\u003cbr\\u003eInterfaces Index Range: 28162-28173\\u003cbr\\u003eStrain: 0.45%\\u003cbr\\u003eAtoms: 287\"],\"x\":[0.447],\"y\":[287],\"type\":\"scatter\"},{\"hoverinfo\":\"text\",\"mode\":\"markers\",\"name\":\"Indices: 28174-28176\",\"text\":[\"Termination: ('C_P6\\u002fmmm_2', 'Ni_R-3m_1')\\u003cbr\\u003eTermination index: 0\\u003cbr\\u003eInterfaces Index Range: 28174-28176\\u003cbr\\u003eStrain: 0.45%\\u003cbr\\u003eAtoms: 222\"],\"x\":[0.449],\"y\":[222],\"type\":\"scatter\"},{\"hoverinfo\":\"text\",\"mode\":\"markers\",\"name\":\"Indices: 28177-28188\",\"text\":[\"Termination: ('C_P6\\u002fmmm_2', 'Ni_R-3m_1')\\u003cbr\\u003eTermination index: 0\\u003cbr\\u003eInterfaces Index Range: 28177-28188\\u003cbr\\u003eStrain: 0.45%\\u003cbr\\u003eAtoms: 223\"],\"x\":[0.449],\"y\":[223],\"type\":\"scatter\"},{\"hoverinfo\":\"text\",\"mode\":\"markers\",\"name\":\"Indices: 28189-28200\",\"text\":[\"Termination: ('C_P6\\u002fmmm_2', 'Ni_R-3m_1')\\u003cbr\\u003eTermination index: 0\\u003cbr\\u003eInterfaces Index Range: 28189-28200\\u003cbr\\u003eStrain: 0.45%\\u003cbr\\u003eAtoms: 336\"],\"x\":[0.45000000000000007],\"y\":[336],\"type\":\"scatter\"},{\"hoverinfo\":\"text\",\"mode\":\"markers\",\"name\":\"Indices: 28201-28212\",\"text\":[\"Termination: ('C_P6\\u002fmmm_2', 'Ni_R-3m_1')\\u003cbr\\u003eTermination index: 0\\u003cbr\\u003eInterfaces Index Range: 28201-28212\\u003cbr\\u003eStrain: 0.45%\\u003cbr\\u003eAtoms: 297\"],\"x\":[0.451],\"y\":[297],\"type\":\"scatter\"},{\"hoverinfo\":\"text\",\"mode\":\"markers\",\"name\":\"Indices: 28213-28224\",\"text\":[\"Termination: ('C_P6\\u002fmmm_2', 'Ni_R-3m_1')\\u003cbr\\u003eTermination index: 0\\u003cbr\\u003eInterfaces Index Range: 28213-28224\\u003cbr\\u003eStrain: 0.45%\\u003cbr\\u003eAtoms: 344\"],\"x\":[0.451],\"y\":[344],\"type\":\"scatter\"},{\"hoverinfo\":\"text\",\"mode\":\"markers\",\"name\":\"Indices: 28225-28227\",\"text\":[\"Termination: ('C_P6\\u002fmmm_2', 'Ni_R-3m_1')\\u003cbr\\u003eTermination index: 0\\u003cbr\\u003eInterfaces Index Range: 28225-28227\\u003cbr\\u003eStrain: 0.45%\\u003cbr\\u003eAtoms: 198\"],\"x\":[0.45200000000000007],\"y\":[198],\"type\":\"scatter\"},{\"hoverinfo\":\"text\",\"mode\":\"markers\",\"name\":\"Indices: 28228-28230\",\"text\":[\"Termination: ('C_P6\\u002fmmm_2', 'Ni_R-3m_1')\\u003cbr\\u003eTermination index: 0\\u003cbr\\u003eInterfaces Index Range: 28228-28230\\u003cbr\\u003eStrain: 0.45%\\u003cbr\\u003eAtoms: 302\"],\"x\":[0.45200000000000007],\"y\":[302],\"type\":\"scatter\"},{\"hoverinfo\":\"text\",\"mode\":\"markers\",\"name\":\"Indices: 28231-28232\",\"text\":[\"Termination: ('C_P6\\u002fmmm_2', 'Ni_R-3m_1')\\u003cbr\\u003eTermination index: 0\\u003cbr\\u003eInterfaces Index Range: 28231-28232\\u003cbr\\u003eStrain: 0.45%\\u003cbr\\u003eAtoms: 329\"],\"x\":[0.45200000000000007],\"y\":[329],\"type\":\"scatter\"},{\"hoverinfo\":\"text\",\"mode\":\"markers\",\"name\":\"Indices: 28233-28235\",\"text\":[\"Termination: ('C_P6\\u002fmmm_2', 'Ni_R-3m_1')\\u003cbr\\u003eTermination index: 0\\u003cbr\\u003eInterfaces Index Range: 28233-28235\\u003cbr\\u003eStrain: 0.45%\\u003cbr\\u003eAtoms: 198\"],\"x\":[0.453],\"y\":[198],\"type\":\"scatter\"},{\"hoverinfo\":\"text\",\"mode\":\"markers\",\"name\":\"Indices: 28236-28247\",\"text\":[\"Termination: ('C_P6\\u002fmmm_2', 'Ni_R-3m_1')\\u003cbr\\u003eTermination index: 0\\u003cbr\\u003eInterfaces Index Range: 28236-28247\\u003cbr\\u003eStrain: 0.45%\\u003cbr\\u003eAtoms: 297\"],\"x\":[0.453],\"y\":[297],\"type\":\"scatter\"},{\"hoverinfo\":\"text\",\"mode\":\"markers\",\"name\":\"Indices: 28248-28253\",\"text\":[\"Termination: ('C_P6\\u002fmmm_2', 'Ni_R-3m_1')\\u003cbr\\u003eTermination index: 0\\u003cbr\\u003eInterfaces Index Range: 28248-28253\\u003cbr\\u003eStrain: 0.45%\\u003cbr\\u003eAtoms: 203\"],\"x\":[0.45400000000000007],\"y\":[203],\"type\":\"scatter\"},{\"hoverinfo\":\"text\",\"mode\":\"markers\",\"name\":\"Indices: 28254-28259\",\"text\":[\"Termination: ('C_P6\\u002fmmm_2', 'Ni_R-3m_1')\\u003cbr\\u003eTermination index: 0\\u003cbr\\u003eInterfaces Index Range: 28254-28259\\u003cbr\\u003eStrain: 0.45%\\u003cbr\\u003eAtoms: 217\"],\"x\":[0.45400000000000007],\"y\":[217],\"type\":\"scatter\"},{\"hoverinfo\":\"text\",\"mode\":\"markers\",\"name\":\"Indices: 28260-28271\",\"text\":[\"Termination: ('C_P6\\u002fmmm_2', 'Ni_R-3m_1')\\u003cbr\\u003eTermination index: 0\\u003cbr\\u003eInterfaces Index Range: 28260-28271\\u003cbr\\u003eStrain: 0.45%\\u003cbr\\u003eAtoms: 339\"],\"x\":[0.45400000000000007],\"y\":[339],\"type\":\"scatter\"},{\"hoverinfo\":\"text\",\"mode\":\"markers\",\"name\":\"Indices: 28272-28283\",\"text\":[\"Termination: ('C_P6\\u002fmmm_2', 'Ni_R-3m_1')\\u003cbr\\u003eTermination index: 0\\u003cbr\\u003eInterfaces Index Range: 28272-28283\\u003cbr\\u003eStrain: 0.46%\\u003cbr\\u003eAtoms: 266\"],\"x\":[0.45600000000000007],\"y\":[266],\"type\":\"scatter\"},{\"hoverinfo\":\"text\",\"mode\":\"markers\",\"name\":\"Indices: 28284-28295\",\"text\":[\"Termination: ('C_P6\\u002fmmm_2', 'Ni_R-3m_1')\\u003cbr\\u003eTermination index: 0\\u003cbr\\u003eInterfaces Index Range: 28284-28295\\u003cbr\\u003eStrain: 0.46%\\u003cbr\\u003eAtoms: 287\"],\"x\":[0.457],\"y\":[287],\"type\":\"scatter\"},{\"hoverinfo\":\"text\",\"mode\":\"markers\",\"name\":\"Indices: 28296-28298\",\"text\":[\"Termination: ('C_P6\\u002fmmm_2', 'Ni_R-3m_1')\\u003cbr\\u003eTermination index: 0\\u003cbr\\u003eInterfaces Index Range: 28296-28298\\u003cbr\\u003eStrain: 0.46%\\u003cbr\\u003eAtoms: 217\"],\"x\":[0.4580000000000001],\"y\":[217],\"type\":\"scatter\"},{\"hoverinfo\":\"text\",\"mode\":\"markers\",\"name\":\"Indices: 28299-28304\",\"text\":[\"Termination: ('C_P6\\u002fmmm_2', 'Ni_R-3m_1')\\u003cbr\\u003eTermination index: 0\\u003cbr\\u003eInterfaces Index Range: 28299-28304\\u003cbr\\u003eStrain: 0.46%\\u003cbr\\u003eAtoms: 233\"],\"x\":[0.4580000000000001],\"y\":[233],\"type\":\"scatter\"},{\"hoverinfo\":\"text\",\"mode\":\"markers\",\"name\":\"Indices: 28305-28316\",\"text\":[\"Termination: ('C_P6\\u002fmmm_2', 'Ni_R-3m_1')\\u003cbr\\u003eTermination index: 0\\u003cbr\\u003eInterfaces Index Range: 28305-28316\\u003cbr\\u003eStrain: 0.46%\\u003cbr\\u003eAtoms: 178\"],\"x\":[0.459],\"y\":[178],\"type\":\"scatter\"},{\"hoverinfo\":\"text\",\"mode\":\"markers\",\"name\":\"Indices: 28317-28340\",\"text\":[\"Termination: ('C_P6\\u002fmmm_2', 'Ni_R-3m_1')\\u003cbr\\u003eTermination index: 0\\u003cbr\\u003eInterfaces Index Range: 28317-28340\\u003cbr\\u003eStrain: 0.46%\\u003cbr\\u003eAtoms: 356\"],\"x\":[0.459],\"y\":[356],\"type\":\"scatter\"},{\"hoverinfo\":\"text\",\"mode\":\"markers\",\"name\":\"Indices: 28341-28342\",\"text\":[\"Termination: ('C_P6\\u002fmmm_2', 'Ni_R-3m_1')\\u003cbr\\u003eTermination index: 0\\u003cbr\\u003eInterfaces Index Range: 28341-28342\\u003cbr\\u003eStrain: 0.46%\\u003cbr\\u003eAtoms: 137\"],\"x\":[0.4600000000000001],\"y\":[137],\"type\":\"scatter\"},{\"hoverinfo\":\"text\",\"mode\":\"markers\",\"name\":\"Indices: 28343-28360\",\"text\":[\"Termination: ('C_P6\\u002fmmm_2', 'Ni_R-3m_1')\\u003cbr\\u003eTermination index: 0\\u003cbr\\u003eInterfaces Index Range: 28343-28360\\u003cbr\\u003eStrain: 0.46%\\u003cbr\\u003eAtoms: 274\"],\"x\":[0.4600000000000001],\"y\":[274],\"type\":\"scatter\"},{\"hoverinfo\":\"text\",\"mode\":\"markers\",\"name\":\"Indices: 28361-28384\",\"text\":[\"Termination: ('C_P6\\u002fmmm_2', 'Ni_R-3m_1')\\u003cbr\\u003eTermination index: 0\\u003cbr\\u003eInterfaces Index Range: 28361-28384\\u003cbr\\u003eStrain: 0.46%\\u003cbr\\u003eAtoms: 351\"],\"x\":[0.4600000000000001],\"y\":[351],\"type\":\"scatter\"},{\"hoverinfo\":\"text\",\"mode\":\"markers\",\"name\":\"Indices: 28385-28387\",\"text\":[\"Termination: ('C_P6\\u002fmmm_2', 'Ni_R-3m_1')\\u003cbr\\u003eTermination index: 0\\u003cbr\\u003eInterfaces Index Range: 28385-28387\\u003cbr\\u003eStrain: 0.46%\\u003cbr\\u003eAtoms: 212\"],\"x\":[0.463],\"y\":[212],\"type\":\"scatter\"},{\"hoverinfo\":\"text\",\"mode\":\"markers\",\"name\":\"Indices: 28388-28399\",\"text\":[\"Termination: ('C_P6\\u002fmmm_2', 'Ni_R-3m_1')\\u003cbr\\u003eTermination index: 0\\u003cbr\\u003eInterfaces Index Range: 28388-28399\\u003cbr\\u003eStrain: 0.46%\\u003cbr\\u003eAtoms: 311\"],\"x\":[0.463],\"y\":[311],\"type\":\"scatter\"},{\"hoverinfo\":\"text\",\"mode\":\"markers\",\"name\":\"Indices: 28400-28402\",\"text\":[\"Termination: ('C_P6\\u002fmmm_2', 'Ni_R-3m_1')\\u003cbr\\u003eTermination index: 0\\u003cbr\\u003eInterfaces Index Range: 28400-28402\\u003cbr\\u003eStrain: 0.46%\\u003cbr\\u003eAtoms: 193\"],\"x\":[0.464],\"y\":[193],\"type\":\"scatter\"},{\"hoverinfo\":\"text\",\"mode\":\"markers\",\"name\":\"Indices: 28403-28408\",\"text\":[\"Termination: ('C_P6\\u002fmmm_2', 'Ni_R-3m_1')\\u003cbr\\u003eTermination index: 0\\u003cbr\\u003eInterfaces Index Range: 28403-28408\\u003cbr\\u003eStrain: 0.47%\\u003cbr\\u003eAtoms: 193\"],\"x\":[0.465],\"y\":[193],\"type\":\"scatter\"},{\"hoverinfo\":\"text\",\"mode\":\"markers\",\"name\":\"Indices: 28409-28411\",\"text\":[\"Termination: ('C_P6\\u002fmmm_2', 'Ni_R-3m_1')\\u003cbr\\u003eTermination index: 0\\u003cbr\\u003eInterfaces Index Range: 28409-28411\\u003cbr\\u003eStrain: 0.47%\\u003cbr\\u003eAtoms: 212\"],\"x\":[0.4670000000000001],\"y\":[212],\"type\":\"scatter\"},{\"hoverinfo\":\"text\",\"mode\":\"markers\",\"name\":\"Indices: 28412-28423\",\"text\":[\"Termination: ('C_P6\\u002fmmm_2', 'Ni_R-3m_1')\\u003cbr\\u003eTermination index: 0\\u003cbr\\u003eInterfaces Index Range: 28412-28423\\u003cbr\\u003eStrain: 0.47%\\u003cbr\\u003eAtoms: 287\"],\"x\":[0.468],\"y\":[287],\"type\":\"scatter\"},{\"hoverinfo\":\"text\",\"mode\":\"markers\",\"name\":\"Indices: 28424-28435\",\"text\":[\"Termination: ('C_P6\\u002fmmm_2', 'Ni_R-3m_1')\\u003cbr\\u003eTermination index: 0\\u003cbr\\u003eInterfaces Index Range: 28424-28435\\u003cbr\\u003eStrain: 0.47%\\u003cbr\\u003eAtoms: 198\"],\"x\":[0.47000000000000003],\"y\":[198],\"type\":\"scatter\"},{\"hoverinfo\":\"text\",\"mode\":\"markers\",\"name\":\"Indices: 28436-28447\",\"text\":[\"Termination: ('C_P6\\u002fmmm_2', 'Ni_R-3m_1')\\u003cbr\\u003eTermination index: 0\\u003cbr\\u003eInterfaces Index Range: 28436-28447\\u003cbr\\u003eStrain: 0.47%\\u003cbr\\u003eAtoms: 203\"],\"x\":[0.47000000000000003],\"y\":[203],\"type\":\"scatter\"},{\"hoverinfo\":\"text\",\"mode\":\"markers\",\"name\":\"Indices: 28448-28453\",\"text\":[\"Termination: ('C_P6\\u002fmmm_2', 'Ni_R-3m_1')\\u003cbr\\u003eTermination index: 0\\u003cbr\\u003eInterfaces Index Range: 28448-28453\\u003cbr\\u003eStrain: 0.47%\\u003cbr\\u003eAtoms: 228\"],\"x\":[0.47000000000000003],\"y\":[228],\"type\":\"scatter\"},{\"hoverinfo\":\"text\",\"mode\":\"markers\",\"name\":\"Indices: 28454-28477\",\"text\":[\"Termination: ('C_P6\\u002fmmm_2', 'Ni_R-3m_1')\\u003cbr\\u003eTermination index: 0\\u003cbr\\u003eInterfaces Index Range: 28454-28477\\u003cbr\\u003eStrain: 0.47%\\u003cbr\\u003eAtoms: 316\"],\"x\":[0.4710000000000001],\"y\":[316],\"type\":\"scatter\"},{\"hoverinfo\":\"text\",\"mode\":\"markers\",\"name\":\"Indices: 28478-28480\",\"text\":[\"Termination: ('C_P6\\u002fmmm_2', 'Ni_R-3m_1')\\u003cbr\\u003eTermination index: 0\\u003cbr\\u003eInterfaces Index Range: 28478-28480\\u003cbr\\u003eStrain: 0.47%\\u003cbr\\u003eAtoms: 287\"],\"x\":[0.47200000000000003],\"y\":[287],\"type\":\"scatter\"},{\"hoverinfo\":\"text\",\"mode\":\"markers\",\"name\":\"Indices: 28481-28483\",\"text\":[\"Termination: ('C_P6\\u002fmmm_2', 'Ni_R-3m_1')\\u003cbr\\u003eTermination index: 0\\u003cbr\\u003eInterfaces Index Range: 28481-28483\\u003cbr\\u003eStrain: 0.47%\\u003cbr\\u003eAtoms: 207\"],\"x\":[0.4730000000000001],\"y\":[207],\"type\":\"scatter\"},{\"hoverinfo\":\"text\",\"mode\":\"markers\",\"name\":\"Indices: 28484-28495\",\"text\":[\"Termination: ('C_P6\\u002fmmm_2', 'Ni_R-3m_1')\\u003cbr\\u003eTermination index: 0\\u003cbr\\u003eInterfaces Index Range: 28484-28495\\u003cbr\\u003eStrain: 0.47%\\u003cbr\\u003eAtoms: 252\"],\"x\":[0.4730000000000001],\"y\":[252],\"type\":\"scatter\"},{\"hoverinfo\":\"text\",\"mode\":\"markers\",\"name\":\"Indices: 28496-28519\",\"text\":[\"Termination: ('C_P6\\u002fmmm_2', 'Ni_R-3m_1')\\u003cbr\\u003eTermination index: 0\\u003cbr\\u003eInterfaces Index Range: 28496-28519\\u003cbr\\u003eStrain: 0.47%\\u003cbr\\u003eAtoms: 326\"],\"x\":[0.47400000000000003],\"y\":[326],\"type\":\"scatter\"},{\"hoverinfo\":\"text\",\"mode\":\"markers\",\"name\":\"Indices: 28520-28531\",\"text\":[\"Termination: ('C_P6\\u002fmmm_2', 'Ni_R-3m_1')\\u003cbr\\u003eTermination index: 0\\u003cbr\\u003eInterfaces Index Range: 28520-28531\\u003cbr\\u003eStrain: 0.47%\\u003cbr\\u003eAtoms: 336\"],\"x\":[0.47400000000000003],\"y\":[336],\"type\":\"scatter\"},{\"hoverinfo\":\"text\",\"mode\":\"markers\",\"name\":\"Indices: 28532-28543\",\"text\":[\"Termination: ('C_P6\\u002fmmm_2', 'Ni_R-3m_1')\\u003cbr\\u003eTermination index: 0\\u003cbr\\u003eInterfaces Index Range: 28532-28543\\u003cbr\\u003eStrain: 0.47%\\u003cbr\\u003eAtoms: 359\"],\"x\":[0.47400000000000003],\"y\":[359],\"type\":\"scatter\"},{\"hoverinfo\":\"text\",\"mode\":\"markers\",\"name\":\"Indices: 28544-28555\",\"text\":[\"Termination: ('C_P6\\u002fmmm_2', 'Ni_R-3m_1')\\u003cbr\\u003eTermination index: 0\\u003cbr\\u003eInterfaces Index Range: 28544-28555\\u003cbr\\u003eStrain: 0.48%\\u003cbr\\u003eAtoms: 218\"],\"x\":[0.4750000000000001],\"y\":[218],\"type\":\"scatter\"},{\"hoverinfo\":\"text\",\"mode\":\"markers\",\"name\":\"Indices: 28556-28558\",\"text\":[\"Termination: ('C_P6\\u002fmmm_2', 'Ni_R-3m_1')\\u003cbr\\u003eTermination index: 0\\u003cbr\\u003eInterfaces Index Range: 28556-28558\\u003cbr\\u003eStrain: 0.48%\\u003cbr\\u003eAtoms: 207\"],\"x\":[0.47600000000000003],\"y\":[207],\"type\":\"scatter\"},{\"hoverinfo\":\"text\",\"mode\":\"markers\",\"name\":\"Indices: 28559-28570\",\"text\":[\"Termination: ('C_P6\\u002fmmm_2', 'Ni_R-3m_1')\\u003cbr\\u003eTermination index: 0\\u003cbr\\u003eInterfaces Index Range: 28559-28570\\u003cbr\\u003eStrain: 0.48%\\u003cbr\\u003eAtoms: 354\"],\"x\":[0.47600000000000003],\"y\":[354],\"type\":\"scatter\"},{\"hoverinfo\":\"text\",\"mode\":\"markers\",\"name\":\"Indices: 28571-28576\",\"text\":[\"Termination: ('C_P6\\u002fmmm_2', 'Ni_R-3m_1')\\u003cbr\\u003eTermination index: 0\\u003cbr\\u003eInterfaces Index Range: 28571-28576\\u003cbr\\u003eStrain: 0.48%\\u003cbr\\u003eAtoms: 376\"],\"x\":[0.47600000000000003],\"y\":[376],\"type\":\"scatter\"},{\"hoverinfo\":\"text\",\"mode\":\"markers\",\"name\":\"Indices: 28577-28588\",\"text\":[\"Termination: ('C_P6\\u002fmmm_2', 'Ni_R-3m_1')\\u003cbr\\u003eTermination index: 0\\u003cbr\\u003eInterfaces Index Range: 28577-28588\\u003cbr\\u003eStrain: 0.48%\\u003cbr\\u003eAtoms: 272\"],\"x\":[0.4770000000000001],\"y\":[272],\"type\":\"scatter\"},{\"hoverinfo\":\"text\",\"mode\":\"markers\",\"name\":\"Indices: 28589-28590\",\"text\":[\"Termination: ('C_P6\\u002fmmm_2', 'Ni_R-3m_1')\\u003cbr\\u003eTermination index: 0\\u003cbr\\u003eInterfaces Index Range: 28589-28590\\u003cbr\\u003eStrain: 0.48%\\u003cbr\\u003eAtoms: 314\"],\"x\":[0.47800000000000004],\"y\":[314],\"type\":\"scatter\"},{\"hoverinfo\":\"text\",\"mode\":\"markers\",\"name\":\"Indices: 28591-28602\",\"text\":[\"Termination: ('C_P6\\u002fmmm_2', 'Ni_R-3m_1')\\u003cbr\\u003eTermination index: 0\\u003cbr\\u003eInterfaces Index Range: 28591-28602\\u003cbr\\u003eStrain: 0.48%\\u003cbr\\u003eAtoms: 366\"],\"x\":[0.47800000000000004],\"y\":[366],\"type\":\"scatter\"},{\"hoverinfo\":\"text\",\"mode\":\"markers\",\"name\":\"Indices: 28603-28626\",\"text\":[\"Termination: ('C_P6\\u002fmmm_2', 'Ni_R-3m_1')\\u003cbr\\u003eTermination index: 0\\u003cbr\\u003eInterfaces Index Range: 28603-28626\\u003cbr\\u003eStrain: 0.48%\\u003cbr\\u003eAtoms: 371\"],\"x\":[0.47800000000000004],\"y\":[371],\"type\":\"scatter\"},{\"hoverinfo\":\"text\",\"mode\":\"markers\",\"name\":\"Indices: 28627-28638\",\"text\":[\"Termination: ('C_P6\\u002fmmm_2', 'Ni_R-3m_1')\\u003cbr\\u003eTermination index: 0\\u003cbr\\u003eInterfaces Index Range: 28627-28638\\u003cbr\\u003eStrain: 0.48%\\u003cbr\\u003eAtoms: 372\"],\"x\":[0.47800000000000004],\"y\":[372],\"type\":\"scatter\"},{\"hoverinfo\":\"text\",\"mode\":\"markers\",\"name\":\"Indices: 28639-28644\",\"text\":[\"Termination: ('C_P6\\u002fmmm_2', 'Ni_R-3m_1')\\u003cbr\\u003eTermination index: 0\\u003cbr\\u003eInterfaces Index Range: 28639-28644\\u003cbr\\u003eStrain: 0.48%\\u003cbr\\u003eAtoms: 376\"],\"x\":[0.47800000000000004],\"y\":[376],\"type\":\"scatter\"},{\"hoverinfo\":\"text\",\"mode\":\"markers\",\"name\":\"Indices: 28645-28668\",\"text\":[\"Termination: ('C_P6\\u002fmmm_2', 'Ni_R-3m_1')\\u003cbr\\u003eTermination index: 0\\u003cbr\\u003eInterfaces Index Range: 28645-28668\\u003cbr\\u003eStrain: 0.48%\\u003cbr\\u003eAtoms: 270\"],\"x\":[0.48000000000000004],\"y\":[270],\"type\":\"scatter\"},{\"hoverinfo\":\"text\",\"mode\":\"markers\",\"name\":\"Indices: 28669-28674\",\"text\":[\"Termination: ('C_P6\\u002fmmm_2', 'Ni_R-3m_1')\\u003cbr\\u003eTermination index: 0\\u003cbr\\u003eInterfaces Index Range: 28669-28674\\u003cbr\\u003eStrain: 0.48%\\u003cbr\\u003eAtoms: 202\"],\"x\":[0.48200000000000004],\"y\":[202],\"type\":\"scatter\"},{\"hoverinfo\":\"text\",\"mode\":\"markers\",\"name\":\"Indices: 28675-28680\",\"text\":[\"Termination: ('C_P6\\u002fmmm_2', 'Ni_R-3m_1')\\u003cbr\\u003eTermination index: 0\\u003cbr\\u003eInterfaces Index Range: 28675-28680\\u003cbr\\u003eStrain: 0.48%\\u003cbr\\u003eAtoms: 223\"],\"x\":[0.48200000000000004],\"y\":[223],\"type\":\"scatter\"},{\"hoverinfo\":\"text\",\"mode\":\"markers\",\"name\":\"Indices: 28681-28704\",\"text\":[\"Termination: ('C_P6\\u002fmmm_2', 'Ni_R-3m_1')\\u003cbr\\u003eTermination index: 0\\u003cbr\\u003eInterfaces Index Range: 28681-28704\\u003cbr\\u003eStrain: 0.48%\\u003cbr\\u003eAtoms: 326\"],\"x\":[0.483],\"y\":[326],\"type\":\"scatter\"},{\"hoverinfo\":\"text\",\"mode\":\"markers\",\"name\":\"Indices: 28705-28707\",\"text\":[\"Termination: ('C_P6\\u002fmmm_2', 'Ni_R-3m_1')\\u003cbr\\u003eTermination index: 0\\u003cbr\\u003eInterfaces Index Range: 28705-28707\\u003cbr\\u003eStrain: 0.49%\\u003cbr\\u003eAtoms: 202\"],\"x\":[0.48600000000000004],\"y\":[202],\"type\":\"scatter\"},{\"hoverinfo\":\"text\",\"mode\":\"markers\",\"name\":\"Indices: 28708-28710\",\"text\":[\"Termination: ('C_P6\\u002fmmm_2', 'Ni_R-3m_1')\\u003cbr\\u003eTermination index: 0\\u003cbr\\u003eInterfaces Index Range: 28708-28710\\u003cbr\\u003eStrain: 0.49%\\u003cbr\\u003eAtoms: 277\"],\"x\":[0.48600000000000004],\"y\":[277],\"type\":\"scatter\"},{\"hoverinfo\":\"text\",\"mode\":\"markers\",\"name\":\"Indices: 28711-28722\",\"text\":[\"Termination: ('C_P6\\u002fmmm_2', 'Ni_R-3m_1')\\u003cbr\\u003eTermination index: 0\\u003cbr\\u003eInterfaces Index Range: 28711-28722\\u003cbr\\u003eStrain: 0.49%\\u003cbr\\u003eAtoms: 272\"],\"x\":[0.48700000000000004],\"y\":[272],\"type\":\"scatter\"},{\"hoverinfo\":\"text\",\"mode\":\"markers\",\"name\":\"Indices: 28723-28734\",\"text\":[\"Termination: ('C_P6\\u002fmmm_2', 'Ni_R-3m_1')\\u003cbr\\u003eTermination index: 0\\u003cbr\\u003eInterfaces Index Range: 28723-28734\\u003cbr\\u003eStrain: 0.49%\\u003cbr\\u003eAtoms: 282\"],\"x\":[0.48700000000000004],\"y\":[282],\"type\":\"scatter\"},{\"hoverinfo\":\"text\",\"mode\":\"markers\",\"name\":\"Indices: 28735-28746\",\"text\":[\"Termination: ('C_P6\\u002fmmm_2', 'Ni_R-3m_1')\\u003cbr\\u003eTermination index: 0\\u003cbr\\u003eInterfaces Index Range: 28735-28746\\u003cbr\\u003eStrain: 0.49%\\u003cbr\\u003eAtoms: 347\"],\"x\":[0.48800000000000004],\"y\":[347],\"type\":\"scatter\"},{\"hoverinfo\":\"text\",\"mode\":\"markers\",\"name\":\"Indices: 28747-28749\",\"text\":[\"Termination: ('C_P6\\u002fmmm_2', 'Ni_R-3m_1')\\u003cbr\\u003eTermination index: 0\\u003cbr\\u003eInterfaces Index Range: 28747-28749\\u003cbr\\u003eStrain: 0.49%\\u003cbr\\u003eAtoms: 183\"],\"x\":[0.49000000000000005],\"y\":[183],\"type\":\"scatter\"},{\"hoverinfo\":\"text\",\"mode\":\"markers\",\"name\":\"Indices: 28750-28755\",\"text\":[\"Termination: ('C_P6\\u002fmmm_2', 'Ni_R-3m_1')\\u003cbr\\u003eTermination index: 0\\u003cbr\\u003eInterfaces Index Range: 28750-28755\\u003cbr\\u003eStrain: 0.49%\\u003cbr\\u003eAtoms: 366\"],\"x\":[0.49000000000000005],\"y\":[366],\"type\":\"scatter\"},{\"hoverinfo\":\"text\",\"mode\":\"markers\",\"name\":\"Indices: 28756-28767\",\"text\":[\"Termination: ('C_P6\\u002fmmm_2', 'Ni_R-3m_1')\\u003cbr\\u003eTermination index: 0\\u003cbr\\u003eInterfaces Index Range: 28756-28767\\u003cbr\\u003eStrain: 0.49%\\u003cbr\\u003eAtoms: 267\"],\"x\":[0.49100000000000005],\"y\":[267],\"type\":\"scatter\"},{\"hoverinfo\":\"text\",\"mode\":\"markers\",\"name\":\"Indices: 28768-28773\",\"text\":[\"Termination: ('C_P6\\u002fmmm_2', 'Ni_R-3m_1')\\u003cbr\\u003eTermination index: 0\\u003cbr\\u003eInterfaces Index Range: 28768-28773\\u003cbr\\u003eStrain: 0.49%\\u003cbr\\u003eAtoms: 183\"],\"x\":[0.4920000000000001],\"y\":[183],\"type\":\"scatter\"},{\"hoverinfo\":\"text\",\"mode\":\"markers\",\"name\":\"Indices: 28774-28785\",\"text\":[\"Termination: ('C_P6\\u002fmmm_2', 'Ni_R-3m_1')\\u003cbr\\u003eTermination index: 0\\u003cbr\\u003eInterfaces Index Range: 28774-28785\\u003cbr\\u003eStrain: 0.49%\\u003cbr\\u003eAtoms: 351\"],\"x\":[0.4920000000000001],\"y\":[351],\"type\":\"scatter\"},{\"hoverinfo\":\"text\",\"mode\":\"markers\",\"name\":\"Indices: 28786-28791\",\"text\":[\"Termination: ('C_P6\\u002fmmm_2', 'Ni_R-3m_1')\\u003cbr\\u003eTermination index: 0\\u003cbr\\u003eInterfaces Index Range: 28786-28791\\u003cbr\\u003eStrain: 0.49%\\u003cbr\\u003eAtoms: 366\"],\"x\":[0.4920000000000001],\"y\":[366],\"type\":\"scatter\"},{\"hoverinfo\":\"text\",\"mode\":\"markers\",\"name\":\"Indices: 28792-28794\",\"text\":[\"Termination: ('C_P6\\u002fmmm_2', 'Ni_R-3m_1')\\u003cbr\\u003eTermination index: 0\\u003cbr\\u003eInterfaces Index Range: 28792-28794\\u003cbr\\u003eStrain: 0.49%\\u003cbr\\u003eAtoms: 197\"],\"x\":[0.49300000000000005],\"y\":[197],\"type\":\"scatter\"},{\"hoverinfo\":\"text\",\"mode\":\"markers\",\"name\":\"Indices: 28795-28797\",\"text\":[\"Termination: ('C_P6\\u002fmmm_2', 'Ni_R-3m_1')\\u003cbr\\u003eTermination index: 0\\u003cbr\\u003eInterfaces Index Range: 28795-28797\\u003cbr\\u003eStrain: 0.50%\\u003cbr\\u003eAtoms: 218\"],\"x\":[0.49500000000000005],\"y\":[218],\"type\":\"scatter\"},{\"hoverinfo\":\"text\",\"mode\":\"markers\",\"name\":\"Indices: 28798-28800\",\"text\":[\"Termination: ('C_P6\\u002fmmm_2', 'Ni_R-3m_1')\\u003cbr\\u003eTermination index: 0\\u003cbr\\u003eInterfaces Index Range: 28798-28800\\u003cbr\\u003eStrain: 0.50%\\u003cbr\\u003eAtoms: 197\"],\"x\":[0.49700000000000005],\"y\":[197],\"type\":\"scatter\"},{\"hoverinfo\":\"text\",\"mode\":\"markers\",\"name\":\"Indices: 28801-28812\",\"text\":[\"Termination: ('C_P6\\u002fmmm_2', 'Ni_R-3m_1')\\u003cbr\\u003eTermination index: 0\\u003cbr\\u003eInterfaces Index Range: 28801-28812\\u003cbr\\u003eStrain: 0.50%\\u003cbr\\u003eAtoms: 376\"],\"x\":[0.49900000000000005],\"y\":[376],\"type\":\"scatter\"},{\"hoverinfo\":\"text\",\"mode\":\"markers\",\"name\":\"Indices: 28813-28824\",\"text\":[\"Termination: ('C_P6\\u002fmmm_2', 'Ni_R-3m_1')\\u003cbr\\u003eTermination index: 0\\u003cbr\\u003eInterfaces Index Range: 28813-28824\\u003cbr\\u003eStrain: 0.50%\\u003cbr\\u003eAtoms: 237\"],\"x\":[0.5],\"y\":[237],\"type\":\"scatter\"},{\"hoverinfo\":\"text\",\"mode\":\"markers\",\"name\":\"Indices: 28825-28836\",\"text\":[\"Termination: ('C_P6\\u002fmmm_2', 'Ni_R-3m_1')\\u003cbr\\u003eTermination index: 0\\u003cbr\\u003eInterfaces Index Range: 28825-28836\\u003cbr\\u003eStrain: 0.50%\\u003cbr\\u003eAtoms: 274\"],\"x\":[0.5],\"y\":[274],\"type\":\"scatter\"},{\"hoverinfo\":\"text\",\"mode\":\"markers\",\"name\":\"Indices: 28837-28839\",\"text\":[\"Termination: ('C_P6\\u002fmmm_2', 'Ni_R-3m_1')\\u003cbr\\u003eTermination index: 0\\u003cbr\\u003eInterfaces Index Range: 28837-28839\\u003cbr\\u003eStrain: 0.50%\\u003cbr\\u003eAtoms: 192\"],\"x\":[0.5030000000000001],\"y\":[192],\"type\":\"scatter\"},{\"hoverinfo\":\"text\",\"mode\":\"markers\",\"name\":\"Indices: 28840-28851\",\"text\":[\"Termination: ('C_P6\\u002fmmm_2', 'Ni_R-3m_1')\\u003cbr\\u003eTermination index: 0\\u003cbr\\u003eInterfaces Index Range: 28840-28851\\u003cbr\\u003eStrain: 0.50%\\u003cbr\\u003eAtoms: 336\"],\"x\":[0.5030000000000001],\"y\":[336],\"type\":\"scatter\"},{\"hoverinfo\":\"text\",\"mode\":\"markers\",\"name\":\"Indices: 28852-28863\",\"text\":[\"Termination: ('C_P6\\u002fmmm_2', 'Ni_R-3m_1')\\u003cbr\\u003eTermination index: 0\\u003cbr\\u003eInterfaces Index Range: 28852-28863\\u003cbr\\u003eStrain: 0.51%\\u003cbr\\u003eAtoms: 283\"],\"x\":[0.5050000000000001],\"y\":[283],\"type\":\"scatter\"},{\"hoverinfo\":\"text\",\"mode\":\"markers\",\"name\":\"Indices: 28864-28866\",\"text\":[\"Termination: ('C_P6\\u002fmmm_2', 'Ni_R-3m_1')\\u003cbr\\u003eTermination index: 0\\u003cbr\\u003eInterfaces Index Range: 28864-28866\\u003cbr\\u003eStrain: 0.51%\\u003cbr\\u003eAtoms: 192\"],\"x\":[0.5070000000000001],\"y\":[192],\"type\":\"scatter\"},{\"hoverinfo\":\"text\",\"mode\":\"markers\",\"name\":\"Indices: 28867-28878\",\"text\":[\"Termination: ('C_P6\\u002fmmm_2', 'Ni_R-3m_1')\\u003cbr\\u003eTermination index: 0\\u003cbr\\u003eInterfaces Index Range: 28867-28878\\u003cbr\\u003eStrain: 0.51%\\u003cbr\\u003eAtoms: 371\"],\"x\":[0.5070000000000001],\"y\":[371],\"type\":\"scatter\"},{\"hoverinfo\":\"text\",\"mode\":\"markers\",\"name\":\"Indices: 28879-28881\",\"text\":[\"Termination: ('C_P6\\u002fmmm_2', 'Ni_R-3m_1')\\u003cbr\\u003eTermination index: 0\\u003cbr\\u003eInterfaces Index Range: 28879-28881\\u003cbr\\u003eStrain: 0.51%\\u003cbr\\u003eAtoms: 213\"],\"x\":[0.5090000000000001],\"y\":[213],\"type\":\"scatter\"},{\"hoverinfo\":\"text\",\"mode\":\"markers\",\"name\":\"Indices: 28882-28893\",\"text\":[\"Termination: ('C_P6\\u002fmmm_2', 'Ni_R-3m_1')\\u003cbr\\u003eTermination index: 0\\u003cbr\\u003eInterfaces Index Range: 28882-28893\\u003cbr\\u003eStrain: 0.51%\\u003cbr\\u003eAtoms: 252\"],\"x\":[0.51],\"y\":[252],\"type\":\"scatter\"},{\"hoverinfo\":\"text\",\"mode\":\"markers\",\"name\":\"Indices: 28894-28905\",\"text\":[\"Termination: ('C_P6\\u002fmmm_2', 'Ni_R-3m_1')\\u003cbr\\u003eTermination index: 0\\u003cbr\\u003eInterfaces Index Range: 28894-28905\\u003cbr\\u003eStrain: 0.51%\\u003cbr\\u003eAtoms: 257\"],\"x\":[0.513],\"y\":[257],\"type\":\"scatter\"},{\"hoverinfo\":\"text\",\"mode\":\"markers\",\"name\":\"Indices: 28906-28917\",\"text\":[\"Termination: ('C_P6\\u002fmmm_2', 'Ni_R-3m_1')\\u003cbr\\u003eTermination index: 0\\u003cbr\\u003eInterfaces Index Range: 28906-28917\\u003cbr\\u003eStrain: 0.51%\\u003cbr\\u003eAtoms: 203\"],\"x\":[0.514],\"y\":[203],\"type\":\"scatter\"},{\"hoverinfo\":\"text\",\"mode\":\"markers\",\"name\":\"Indices: 28918-28929\",\"text\":[\"Termination: ('C_P6\\u002fmmm_2', 'Ni_R-3m_1')\\u003cbr\\u003eTermination index: 0\\u003cbr\\u003eInterfaces Index Range: 28918-28929\\u003cbr\\u003eStrain: 0.52%\\u003cbr\\u003eAtoms: 266\"],\"x\":[0.515],\"y\":[266],\"type\":\"scatter\"},{\"hoverinfo\":\"text\",\"mode\":\"markers\",\"name\":\"Indices: 28930-28941\",\"text\":[\"Termination: ('C_P6\\u002fmmm_2', 'Ni_R-3m_1')\\u003cbr\\u003eTermination index: 0\\u003cbr\\u003eInterfaces Index Range: 28930-28941\\u003cbr\\u003eStrain: 0.52%\\u003cbr\\u003eAtoms: 366\"],\"x\":[0.515],\"y\":[366],\"type\":\"scatter\"},{\"hoverinfo\":\"text\",\"mode\":\"markers\",\"name\":\"Indices: 28942-28953\",\"text\":[\"Termination: ('C_P6\\u002fmmm_2', 'Ni_R-3m_1')\\u003cbr\\u003eTermination index: 0\\u003cbr\\u003eInterfaces Index Range: 28942-28953\\u003cbr\\u003eStrain: 0.52%\\u003cbr\\u003eAtoms: 339\"],\"x\":[0.516],\"y\":[339],\"type\":\"scatter\"},{\"hoverinfo\":\"text\",\"mode\":\"markers\",\"name\":\"Indices: 28954-28965\",\"text\":[\"Termination: ('C_P6\\u002fmmm_2', 'Ni_R-3m_1')\\u003cbr\\u003eTermination index: 0\\u003cbr\\u003eInterfaces Index Range: 28954-28965\\u003cbr\\u003eStrain: 0.52%\\u003cbr\\u003eAtoms: 324\"],\"x\":[0.518],\"y\":[324],\"type\":\"scatter\"},{\"hoverinfo\":\"text\",\"mode\":\"markers\",\"name\":\"Indices: 28966-28968\",\"text\":[\"Termination: ('C_P6\\u002fmmm_2', 'Ni_R-3m_1')\\u003cbr\\u003eTermination index: 0\\u003cbr\\u003eInterfaces Index Range: 28966-28968\\u003cbr\\u003eStrain: 0.52%\\u003cbr\\u003eAtoms: 187\"],\"x\":[0.519],\"y\":[187],\"type\":\"scatter\"},{\"hoverinfo\":\"text\",\"mode\":\"markers\",\"name\":\"Indices: 28969-28992\",\"text\":[\"Termination: ('C_P6\\u002fmmm_2', 'Ni_R-3m_1')\\u003cbr\\u003eTermination index: 0\\u003cbr\\u003eInterfaces Index Range: 28969-28992\\u003cbr\\u003eStrain: 0.52%\\u003cbr\\u003eAtoms: 270\"],\"x\":[0.52],\"y\":[270],\"type\":\"scatter\"},{\"hoverinfo\":\"text\",\"mode\":\"markers\",\"name\":\"Indices: 28993-29016\",\"text\":[\"Termination: ('C_P6\\u002fmmm_2', 'Ni_R-3m_1')\\u003cbr\\u003eTermination index: 0\\u003cbr\\u003eInterfaces Index Range: 28993-29016\\u003cbr\\u003eStrain: 0.52%\\u003cbr\\u003eAtoms: 316\"],\"x\":[0.52],\"y\":[316],\"type\":\"scatter\"},{\"hoverinfo\":\"text\",\"mode\":\"markers\",\"name\":\"Indices: 29017-29028\",\"text\":[\"Termination: ('C_P6\\u002fmmm_2', 'Ni_R-3m_1')\\u003cbr\\u003eTermination index: 0\\u003cbr\\u003eInterfaces Index Range: 29017-29028\\u003cbr\\u003eStrain: 0.52%\\u003cbr\\u003eAtoms: 178\"],\"x\":[0.523],\"y\":[178],\"type\":\"scatter\"},{\"hoverinfo\":\"text\",\"mode\":\"markers\",\"name\":\"Indices: 29029-29034\",\"text\":[\"Termination: ('C_P6\\u002fmmm_2', 'Ni_R-3m_1')\\u003cbr\\u003eTermination index: 0\\u003cbr\\u003eInterfaces Index Range: 29029-29034\\u003cbr\\u003eStrain: 0.52%\\u003cbr\\u003eAtoms: 208\"],\"x\":[0.523],\"y\":[208],\"type\":\"scatter\"},{\"hoverinfo\":\"text\",\"mode\":\"markers\",\"name\":\"Indices: 29035-29058\",\"text\":[\"Termination: ('C_P6\\u002fmmm_2', 'Ni_R-3m_1')\\u003cbr\\u003eTermination index: 0\\u003cbr\\u003eInterfaces Index Range: 29035-29058\\u003cbr\\u003eStrain: 0.52%\\u003cbr\\u003eAtoms: 356\"],\"x\":[0.523],\"y\":[356],\"type\":\"scatter\"},{\"hoverinfo\":\"text\",\"mode\":\"markers\",\"name\":\"Indices: 29059-29070\",\"text\":[\"Termination: ('C_P6\\u002fmmm_2', 'Ni_R-3m_1')\\u003cbr\\u003eTermination index: 0\\u003cbr\\u003eInterfaces Index Range: 29059-29070\\u003cbr\\u003eStrain: 0.52%\\u003cbr\\u003eAtoms: 361\"],\"x\":[0.523],\"y\":[361],\"type\":\"scatter\"},{\"hoverinfo\":\"text\",\"mode\":\"markers\",\"name\":\"Indices: 29071-29082\",\"text\":[\"Termination: ('C_P6\\u002fmmm_2', 'Ni_R-3m_1')\\u003cbr\\u003eTermination index: 0\\u003cbr\\u003eInterfaces Index Range: 29071-29082\\u003cbr\\u003eStrain: 0.52%\\u003cbr\\u003eAtoms: 371\"],\"x\":[0.523],\"y\":[371],\"type\":\"scatter\"},{\"hoverinfo\":\"text\",\"mode\":\"markers\",\"name\":\"Indices: 29083-29088\",\"text\":[\"Termination: ('C_P6\\u002fmmm_2', 'Ni_R-3m_1')\\u003cbr\\u003eTermination index: 0\\u003cbr\\u003eInterfaces Index Range: 29083-29088\\u003cbr\\u003eStrain: 0.52%\\u003cbr\\u003eAtoms: 202\"],\"x\":[0.524],\"y\":[202],\"type\":\"scatter\"},{\"hoverinfo\":\"text\",\"mode\":\"markers\",\"name\":\"Indices: 29089-29100\",\"text\":[\"Termination: ('C_P6\\u002fmmm_2', 'Ni_R-3m_1')\\u003cbr\\u003eTermination index: 0\\u003cbr\\u003eInterfaces Index Range: 29089-29100\\u003cbr\\u003eStrain: 0.53%\\u003cbr\\u003eAtoms: 351\"],\"x\":[0.525],\"y\":[351],\"type\":\"scatter\"},{\"hoverinfo\":\"text\",\"mode\":\"markers\",\"name\":\"Indices: 29101-29112\",\"text\":[\"Termination: ('C_P6\\u002fmmm_2', 'Ni_R-3m_1')\\u003cbr\\u003eTermination index: 0\\u003cbr\\u003eInterfaces Index Range: 29101-29112\\u003cbr\\u003eStrain: 0.53%\\u003cbr\\u003eAtoms: 183\"],\"x\":[0.527],\"y\":[183],\"type\":\"scatter\"},{\"hoverinfo\":\"text\",\"mode\":\"markers\",\"name\":\"Indices: 29113-29115\",\"text\":[\"Termination: ('C_P6\\u002fmmm_2', 'Ni_R-3m_1')\\u003cbr\\u003eTermination index: 0\\u003cbr\\u003eInterfaces Index Range: 29113-29115\\u003cbr\\u003eStrain: 0.53%\\u003cbr\\u003eAtoms: 252\"],\"x\":[0.527],\"y\":[252],\"type\":\"scatter\"},{\"hoverinfo\":\"text\",\"mode\":\"markers\",\"name\":\"Indices: 29116-29139\",\"text\":[\"Termination: ('C_P6\\u002fmmm_2', 'Ni_R-3m_1')\\u003cbr\\u003eTermination index: 0\\u003cbr\\u003eInterfaces Index Range: 29116-29139\\u003cbr\\u003eStrain: 0.53%\\u003cbr\\u003eAtoms: 366\"],\"x\":[0.527],\"y\":[366],\"type\":\"scatter\"},{\"hoverinfo\":\"text\",\"mode\":\"markers\",\"name\":\"Indices: 29140-29151\",\"text\":[\"Termination: ('C_P6\\u002fmmm_2', 'Ni_R-3m_1')\\u003cbr\\u003eTermination index: 0\\u003cbr\\u003eInterfaces Index Range: 29140-29151\\u003cbr\\u003eStrain: 0.53%\\u003cbr\\u003eAtoms: 276\"],\"x\":[0.5280000000000001],\"y\":[276],\"type\":\"scatter\"},{\"hoverinfo\":\"text\",\"mode\":\"markers\",\"name\":\"Indices: 29152-29163\",\"text\":[\"Termination: ('C_P6\\u002fmmm_2', 'Ni_R-3m_1')\\u003cbr\\u003eTermination index: 0\\u003cbr\\u003eInterfaces Index Range: 29152-29163\\u003cbr\\u003eStrain: 0.53%\\u003cbr\\u003eAtoms: 359\"],\"x\":[0.5280000000000001],\"y\":[359],\"type\":\"scatter\"},{\"hoverinfo\":\"text\",\"mode\":\"markers\",\"name\":\"Indices: 29164-29187\",\"text\":[\"Termination: ('C_P6\\u002fmmm_2', 'Ni_R-3m_1')\\u003cbr\\u003eTermination index: 0\\u003cbr\\u003eInterfaces Index Range: 29164-29187\\u003cbr\\u003eStrain: 0.53%\\u003cbr\\u003eAtoms: 371\"],\"x\":[0.5280000000000001],\"y\":[371],\"type\":\"scatter\"},{\"hoverinfo\":\"text\",\"mode\":\"markers\",\"name\":\"Indices: 29188-29199\",\"text\":[\"Termination: ('C_P6\\u002fmmm_2', 'Ni_R-3m_1')\\u003cbr\\u003eTermination index: 0\\u003cbr\\u003eInterfaces Index Range: 29188-29199\\u003cbr\\u003eStrain: 0.53%\\u003cbr\\u003eAtoms: 283\"],\"x\":[0.529],\"y\":[283],\"type\":\"scatter\"},{\"hoverinfo\":\"text\",\"mode\":\"markers\",\"name\":\"Indices: 29200-29203\",\"text\":[\"Termination: ('C_P6\\u002fmmm_2', 'Ni_R-3m_1')\\u003cbr\\u003eTermination index: 0\\u003cbr\\u003eInterfaces Index Range: 29200-29203\\u003cbr\\u003eStrain: 0.53%\\u003cbr\\u003eAtoms: 191\"],\"x\":[0.531],\"y\":[191],\"type\":\"scatter\"},{\"hoverinfo\":\"text\",\"mode\":\"markers\",\"name\":\"Indices: 29204-29215\",\"text\":[\"Termination: ('C_P6\\u002fmmm_2', 'Ni_R-3m_1')\\u003cbr\\u003eTermination index: 0\\u003cbr\\u003eInterfaces Index Range: 29204-29215\\u003cbr\\u003eStrain: 0.53%\\u003cbr\\u003eAtoms: 356\"],\"x\":[0.532],\"y\":[356],\"type\":\"scatter\"},{\"hoverinfo\":\"text\",\"mode\":\"markers\",\"name\":\"Indices: 29216-29221\",\"text\":[\"Termination: ('C_P6\\u002fmmm_2', 'Ni_R-3m_1')\\u003cbr\\u003eTermination index: 0\\u003cbr\\u003eInterfaces Index Range: 29216-29221\\u003cbr\\u003eStrain: 0.53%\\u003cbr\\u003eAtoms: 203\"],\"x\":[0.534],\"y\":[203],\"type\":\"scatter\"},{\"hoverinfo\":\"text\",\"mode\":\"markers\",\"name\":\"Indices: 29222-29233\",\"text\":[\"Termination: ('C_P6\\u002fmmm_2', 'Ni_R-3m_1')\\u003cbr\\u003eTermination index: 0\\u003cbr\\u003eInterfaces Index Range: 29222-29233\\u003cbr\\u003eStrain: 0.54%\\u003cbr\\u003eAtoms: 344\"],\"x\":[0.535],\"y\":[344],\"type\":\"scatter\"},{\"hoverinfo\":\"text\",\"mode\":\"markers\",\"name\":\"Indices: 29234-29245\",\"text\":[\"Termination: ('C_P6\\u002fmmm_2', 'Ni_R-3m_1')\\u003cbr\\u003eTermination index: 0\\u003cbr\\u003eInterfaces Index Range: 29234-29245\\u003cbr\\u003eStrain: 0.54%\\u003cbr\\u003eAtoms: 237\"],\"x\":[0.536],\"y\":[237],\"type\":\"scatter\"},{\"hoverinfo\":\"text\",\"mode\":\"markers\",\"name\":\"Indices: 29246-29257\",\"text\":[\"Termination: ('C_P6\\u002fmmm_2', 'Ni_R-3m_1')\\u003cbr\\u003eTermination index: 0\\u003cbr\\u003eInterfaces Index Range: 29246-29257\\u003cbr\\u003eStrain: 0.54%\\u003cbr\\u003eAtoms: 344\"],\"x\":[0.536],\"y\":[344],\"type\":\"scatter\"},{\"hoverinfo\":\"text\",\"mode\":\"markers\",\"name\":\"Indices: 29258-29269\",\"text\":[\"Termination: ('C_P6\\u002fmmm_2', 'Ni_R-3m_1')\\u003cbr\\u003eTermination index: 0\\u003cbr\\u003eInterfaces Index Range: 29258-29269\\u003cbr\\u003eStrain: 0.54%\\u003cbr\\u003eAtoms: 198\"],\"x\":[0.537],\"y\":[198],\"type\":\"scatter\"},{\"hoverinfo\":\"text\",\"mode\":\"markers\",\"name\":\"Indices: 29270-29281\",\"text\":[\"Termination: ('C_P6\\u002fmmm_2', 'Ni_R-3m_1')\\u003cbr\\u003eTermination index: 0\\u003cbr\\u003eInterfaces Index Range: 29270-29281\\u003cbr\\u003eStrain: 0.54%\\u003cbr\\u003eAtoms: 217\"],\"x\":[0.537],\"y\":[217],\"type\":\"scatter\"},{\"hoverinfo\":\"text\",\"mode\":\"markers\",\"name\":\"Indices: 29282-29284\",\"text\":[\"Termination: ('C_P6\\u002fmmm_2', 'Ni_R-3m_1')\\u003cbr\\u003eTermination index: 0\\u003cbr\\u003eInterfaces Index Range: 29282-29284\\u003cbr\\u003eStrain: 0.54%\\u003cbr\\u003eAtoms: 203\"],\"x\":[0.538],\"y\":[203],\"type\":\"scatter\"},{\"hoverinfo\":\"text\",\"mode\":\"markers\",\"name\":\"Indices: 29285-29296\",\"text\":[\"Termination: ('C_P6\\u002fmmm_2', 'Ni_R-3m_1')\\u003cbr\\u003eTermination index: 0\\u003cbr\\u003eInterfaces Index Range: 29285-29296\\u003cbr\\u003eStrain: 0.54%\\u003cbr\\u003eAtoms: 351\"],\"x\":[0.541],\"y\":[351],\"type\":\"scatter\"},{\"hoverinfo\":\"text\",\"mode\":\"markers\",\"name\":\"Indices: 29297-29308\",\"text\":[\"Termination: ('C_P6\\u002fmmm_2', 'Ni_R-3m_1')\\u003cbr\\u003eTermination index: 0\\u003cbr\\u003eInterfaces Index Range: 29297-29308\\u003cbr\\u003eStrain: 0.54%\\u003cbr\\u003eAtoms: 366\"],\"x\":[0.541],\"y\":[366],\"type\":\"scatter\"},{\"hoverinfo\":\"text\",\"mode\":\"markers\",\"name\":\"Indices: 29309-29320\",\"text\":[\"Termination: ('C_P6\\u002fmmm_2', 'Ni_R-3m_1')\\u003cbr\\u003eTermination index: 0\\u003cbr\\u003eInterfaces Index Range: 29309-29320\\u003cbr\\u003eStrain: 0.54%\\u003cbr\\u003eAtoms: 282\"],\"x\":[0.542],\"y\":[282],\"type\":\"scatter\"},{\"hoverinfo\":\"text\",\"mode\":\"markers\",\"name\":\"Indices: 29321-29332\",\"text\":[\"Termination: ('C_P6\\u002fmmm_2', 'Ni_R-3m_1')\\u003cbr\\u003eTermination index: 0\\u003cbr\\u003eInterfaces Index Range: 29321-29332\\u003cbr\\u003eStrain: 0.54%\\u003cbr\\u003eAtoms: 222\"],\"x\":[0.544],\"y\":[222],\"type\":\"scatter\"},{\"hoverinfo\":\"text\",\"mode\":\"markers\",\"name\":\"Indices: 29333-29344\",\"text\":[\"Termination: ('C_P6\\u002fmmm_2', 'Ni_R-3m_1')\\u003cbr\\u003eTermination index: 0\\u003cbr\\u003eInterfaces Index Range: 29333-29344\\u003cbr\\u003eStrain: 0.54%\\u003cbr\\u003eAtoms: 354\"],\"x\":[0.544],\"y\":[354],\"type\":\"scatter\"},{\"hoverinfo\":\"text\",\"mode\":\"markers\",\"name\":\"Indices: 29345-29347\",\"text\":[\"Termination: ('C_P6\\u002fmmm_2', 'Ni_R-3m_1')\\u003cbr\\u003eTermination index: 0\\u003cbr\\u003eInterfaces Index Range: 29345-29347\\u003cbr\\u003eStrain: 0.55%\\u003cbr\\u003eAtoms: 242\"],\"x\":[0.546],\"y\":[242],\"type\":\"scatter\"},{\"hoverinfo\":\"text\",\"mode\":\"markers\",\"name\":\"Indices: 29348-29359\",\"text\":[\"Termination: ('C_P6\\u002fmmm_2', 'Ni_R-3m_1')\\u003cbr\\u003eTermination index: 0\\u003cbr\\u003eInterfaces Index Range: 29348-29359\\u003cbr\\u003eStrain: 0.55%\\u003cbr\\u003eAtoms: 311\"],\"x\":[0.549],\"y\":[311],\"type\":\"scatter\"},{\"hoverinfo\":\"text\",\"mode\":\"markers\",\"name\":\"Indices: 29360-29371\",\"text\":[\"Termination: ('C_P6\\u002fmmm_2', 'Ni_R-3m_1')\\u003cbr\\u003eTermination index: 0\\u003cbr\\u003eInterfaces Index Range: 29360-29371\\u003cbr\\u003eStrain: 0.55%\\u003cbr\\u003eAtoms: 346\"],\"x\":[0.55],\"y\":[346],\"type\":\"scatter\"},{\"hoverinfo\":\"text\",\"mode\":\"markers\",\"name\":\"Indices: 29372-29383\",\"text\":[\"Termination: ('C_P6\\u002fmmm_2', 'Ni_R-3m_1')\\u003cbr\\u003eTermination index: 0\\u003cbr\\u003eInterfaces Index Range: 29372-29383\\u003cbr\\u003eStrain: 0.55%\\u003cbr\\u003eAtoms: 336\"],\"x\":[0.553],\"y\":[336],\"type\":\"scatter\"},{\"hoverinfo\":\"text\",\"mode\":\"markers\",\"name\":\"Indices: 29384-29386\",\"text\":[\"Termination: ('C_P6\\u002fmmm_2', 'Ni_R-3m_1')\\u003cbr\\u003eTermination index: 0\\u003cbr\\u003eInterfaces Index Range: 29384-29386\\u003cbr\\u003eStrain: 0.55%\\u003cbr\\u003eAtoms: 198\"],\"x\":[0.554],\"y\":[198],\"type\":\"scatter\"},{\"hoverinfo\":\"text\",\"mode\":\"markers\",\"name\":\"Indices: 29387-29389\",\"text\":[\"Termination: ('C_P6\\u002fmmm_2', 'Ni_R-3m_1')\\u003cbr\\u003eTermination index: 0\\u003cbr\\u003eInterfaces Index Range: 29387-29389\\u003cbr\\u003eStrain: 0.56%\\u003cbr\\u003eAtoms: 237\"],\"x\":[0.555],\"y\":[237],\"type\":\"scatter\"},{\"hoverinfo\":\"text\",\"mode\":\"markers\",\"name\":\"Indices: 29390-29401\",\"text\":[\"Termination: ('C_P6\\u002fmmm_2', 'Ni_R-3m_1')\\u003cbr\\u003eTermination index: 0\\u003cbr\\u003eInterfaces Index Range: 29390-29401\\u003cbr\\u003eStrain: 0.56%\\u003cbr\\u003eAtoms: 222\"],\"x\":[0.556],\"y\":[222],\"type\":\"scatter\"},{\"hoverinfo\":\"text\",\"mode\":\"markers\",\"name\":\"Indices: 29402-29413\",\"text\":[\"Termination: ('C_P6\\u002fmmm_2', 'Ni_R-3m_1')\\u003cbr\\u003eTermination index: 0\\u003cbr\\u003eInterfaces Index Range: 29402-29413\\u003cbr\\u003eStrain: 0.56%\\u003cbr\\u003eAtoms: 339\"],\"x\":[0.557],\"y\":[339],\"type\":\"scatter\"},{\"hoverinfo\":\"text\",\"mode\":\"markers\",\"name\":\"Indices: 29414-29425\",\"text\":[\"Termination: ('C_P6\\u002fmmm_2', 'Ni_R-3m_1')\\u003cbr\\u003eTermination index: 0\\u003cbr\\u003eInterfaces Index Range: 29414-29425\\u003cbr\\u003eStrain: 0.56%\\u003cbr\\u003eAtoms: 341\"],\"x\":[0.559],\"y\":[341],\"type\":\"scatter\"},{\"hoverinfo\":\"text\",\"mode\":\"markers\",\"name\":\"Indices: 29426-29427\",\"text\":[\"Termination: ('C_P6\\u002fmmm_2', 'Ni_R-3m_1')\\u003cbr\\u003eTermination index: 0\\u003cbr\\u003eInterfaces Index Range: 29426-29427\\u003cbr\\u003eStrain: 0.56%\\u003cbr\\u003eAtoms: 326\"],\"x\":[0.56],\"y\":[326],\"type\":\"scatter\"},{\"hoverinfo\":\"text\",\"mode\":\"markers\",\"name\":\"Indices: 29428-29439\",\"text\":[\"Termination: ('C_P6\\u002fmmm_2', 'Ni_R-3m_1')\\u003cbr\\u003eTermination index: 0\\u003cbr\\u003eInterfaces Index Range: 29428-29439\\u003cbr\\u003eStrain: 0.56%\\u003cbr\\u003eAtoms: 283\"],\"x\":[0.562],\"y\":[283],\"type\":\"scatter\"},{\"hoverinfo\":\"text\",\"mode\":\"markers\",\"name\":\"Indices: 29440-29442\",\"text\":[\"Termination: ('C_P6\\u002fmmm_2', 'Ni_R-3m_1')\\u003cbr\\u003eTermination index: 0\\u003cbr\\u003eInterfaces Index Range: 29440-29442\\u003cbr\\u003eStrain: 0.57%\\u003cbr\\u003eAtoms: 232\"],\"x\":[0.5660000000000001],\"y\":[232],\"type\":\"scatter\"},{\"hoverinfo\":\"text\",\"mode\":\"markers\",\"name\":\"Indices: 29443-29454\",\"text\":[\"Termination: ('C_P6\\u002fmmm_2', 'Ni_R-3m_1')\\u003cbr\\u003eTermination index: 0\\u003cbr\\u003eInterfaces Index Range: 29443-29454\\u003cbr\\u003eStrain: 0.57%\\u003cbr\\u003eAtoms: 336\"],\"x\":[0.5680000000000001],\"y\":[336],\"type\":\"scatter\"},{\"hoverinfo\":\"text\",\"mode\":\"markers\",\"name\":\"Indices: 29455-29466\",\"text\":[\"Termination: ('C_P6\\u002fmmm_2', 'Ni_R-3m_1')\\u003cbr\\u003eTermination index: 0\\u003cbr\\u003eInterfaces Index Range: 29455-29466\\u003cbr\\u003eStrain: 0.57%\\u003cbr\\u003eAtoms: 371\"],\"x\":[0.5700000000000001],\"y\":[371],\"type\":\"scatter\"},{\"hoverinfo\":\"text\",\"mode\":\"markers\",\"name\":\"Indices: 29467-29478\",\"text\":[\"Termination: ('C_P6\\u002fmmm_2', 'Ni_R-3m_1')\\u003cbr\\u003eTermination index: 0\\u003cbr\\u003eInterfaces Index Range: 29467-29478\\u003cbr\\u003eStrain: 0.57%\\u003cbr\\u003eAtoms: 197\"],\"x\":[0.5720000000000001],\"y\":[197],\"type\":\"scatter\"},{\"hoverinfo\":\"text\",\"mode\":\"markers\",\"name\":\"Indices: 29479-29490\",\"text\":[\"Termination: ('C_P6\\u002fmmm_2', 'Ni_R-3m_1')\\u003cbr\\u003eTermination index: 0\\u003cbr\\u003eInterfaces Index Range: 29479-29490\\u003cbr\\u003eStrain: 0.57%\\u003cbr\\u003eAtoms: 202\"],\"x\":[0.5730000000000001],\"y\":[202],\"type\":\"scatter\"},{\"hoverinfo\":\"text\",\"mode\":\"markers\",\"name\":\"Indices: 29491-29502\",\"text\":[\"Termination: ('C_P6\\u002fmmm_2', 'Ni_R-3m_1')\\u003cbr\\u003eTermination index: 0\\u003cbr\\u003eInterfaces Index Range: 29491-29502\\u003cbr\\u003eStrain: 0.57%\\u003cbr\\u003eAtoms: 276\"],\"x\":[0.5730000000000001],\"y\":[276],\"type\":\"scatter\"},{\"hoverinfo\":\"text\",\"mode\":\"markers\",\"name\":\"Indices: 29503-29514\",\"text\":[\"Termination: ('C_P6\\u002fmmm_2', 'Ni_R-3m_1')\\u003cbr\\u003eTermination index: 0\\u003cbr\\u003eInterfaces Index Range: 29503-29514\\u003cbr\\u003eStrain: 0.58%\\u003cbr\\u003eAtoms: 358\"],\"x\":[0.5760000000000001],\"y\":[358],\"type\":\"scatter\"},{\"hoverinfo\":\"text\",\"mode\":\"markers\",\"name\":\"Indices: 29515-29538\",\"text\":[\"Termination: ('C_P6\\u002fmmm_2', 'Ni_R-3m_1')\\u003cbr\\u003eTermination index: 0\\u003cbr\\u003eInterfaces Index Range: 29515-29538\\u003cbr\\u003eStrain: 0.58%\\u003cbr\\u003eAtoms: 270\"],\"x\":[0.5770000000000001],\"y\":[270],\"type\":\"scatter\"},{\"hoverinfo\":\"text\",\"mode\":\"markers\",\"name\":\"Indices: 29539-29550\",\"text\":[\"Termination: ('C_P6\\u002fmmm_2', 'Ni_R-3m_1')\\u003cbr\\u003eTermination index: 0\\u003cbr\\u003eInterfaces Index Range: 29539-29550\\u003cbr\\u003eStrain: 0.58%\\u003cbr\\u003eAtoms: 331\"],\"x\":[0.5780000000000001],\"y\":[331],\"type\":\"scatter\"},{\"hoverinfo\":\"text\",\"mode\":\"markers\",\"name\":\"Indices: 29551-29562\",\"text\":[\"Termination: ('C_P6\\u002fmmm_2', 'Ni_R-3m_1')\\u003cbr\\u003eTermination index: 0\\u003cbr\\u003eInterfaces Index Range: 29551-29562\\u003cbr\\u003eStrain: 0.58%\\u003cbr\\u003eAtoms: 356\"],\"x\":[0.5780000000000001],\"y\":[356],\"type\":\"scatter\"},{\"hoverinfo\":\"text\",\"mode\":\"markers\",\"name\":\"Indices: 29563-29574\",\"text\":[\"Termination: ('C_P6\\u002fmmm_2', 'Ni_R-3m_1')\\u003cbr\\u003eTermination index: 0\\u003cbr\\u003eInterfaces Index Range: 29563-29574\\u003cbr\\u003eStrain: 0.58%\\u003cbr\\u003eAtoms: 217\"],\"x\":[0.5800000000000001],\"y\":[217],\"type\":\"scatter\"},{\"hoverinfo\":\"text\",\"mode\":\"markers\",\"name\":\"Indices: 29575-29586\",\"text\":[\"Termination: ('C_P6\\u002fmmm_2', 'Ni_R-3m_1')\\u003cbr\\u003eTermination index: 0\\u003cbr\\u003eInterfaces Index Range: 29575-29586\\u003cbr\\u003eStrain: 0.58%\\u003cbr\\u003eAtoms: 364\"],\"x\":[0.5800000000000001],\"y\":[364],\"type\":\"scatter\"},{\"hoverinfo\":\"text\",\"mode\":\"markers\",\"name\":\"Indices: 29587-29610\",\"text\":[\"Termination: ('C_P6\\u002fmmm_2', 'Ni_R-3m_1')\\u003cbr\\u003eTermination index: 0\\u003cbr\\u003eInterfaces Index Range: 29587-29610\\u003cbr\\u003eStrain: 0.58%\\u003cbr\\u003eAtoms: 351\"],\"x\":[0.581],\"y\":[351],\"type\":\"scatter\"},{\"hoverinfo\":\"text\",\"mode\":\"markers\",\"name\":\"Indices: 29611-29634\",\"text\":[\"Termination: ('C_P6\\u002fmmm_2', 'Ni_R-3m_1')\\u003cbr\\u003eTermination index: 0\\u003cbr\\u003eInterfaces Index Range: 29611-29634\\u003cbr\\u003eStrain: 0.58%\\u003cbr\\u003eAtoms: 369\"],\"x\":[0.581],\"y\":[369],\"type\":\"scatter\"},{\"hoverinfo\":\"text\",\"mode\":\"markers\",\"name\":\"Indices: 29635-29646\",\"text\":[\"Termination: ('C_P6\\u002fmmm_2', 'Ni_R-3m_1')\\u003cbr\\u003eTermination index: 0\\u003cbr\\u003eInterfaces Index Range: 29635-29646\\u003cbr\\u003eStrain: 0.58%\\u003cbr\\u003eAtoms: 183\"],\"x\":[0.5820000000000001],\"y\":[183],\"type\":\"scatter\"},{\"hoverinfo\":\"text\",\"mode\":\"markers\",\"name\":\"Indices: 29647-29670\",\"text\":[\"Termination: ('C_P6\\u002fmmm_2', 'Ni_R-3m_1')\\u003cbr\\u003eTermination index: 0\\u003cbr\\u003eInterfaces Index Range: 29647-29670\\u003cbr\\u003eStrain: 0.58%\\u003cbr\\u003eAtoms: 366\"],\"x\":[0.5820000000000001],\"y\":[366],\"type\":\"scatter\"},{\"hoverinfo\":\"text\",\"mode\":\"markers\",\"name\":\"Indices: 29671-29672\",\"text\":[\"Termination: ('C_P6\\u002fmmm_2', 'Ni_R-3m_1')\\u003cbr\\u003eTermination index: 0\\u003cbr\\u003eInterfaces Index Range: 29671-29672\\u003cbr\\u003eStrain: 0.58%\\u003cbr\\u003eAtoms: 311\"],\"x\":[0.583],\"y\":[311],\"type\":\"scatter\"},{\"hoverinfo\":\"text\",\"mode\":\"markers\",\"name\":\"Indices: 29673-29684\",\"text\":[\"Termination: ('C_P6\\u002fmmm_2', 'Ni_R-3m_1')\\u003cbr\\u003eTermination index: 0\\u003cbr\\u003eInterfaces Index Range: 29673-29684\\u003cbr\\u003eStrain: 0.59%\\u003cbr\\u003eAtoms: 336\"],\"x\":[0.5860000000000001],\"y\":[336],\"type\":\"scatter\"},{\"hoverinfo\":\"text\",\"mode\":\"markers\",\"name\":\"Indices: 29685-29696\",\"text\":[\"Termination: ('C_P6\\u002fmmm_2', 'Ni_R-3m_1')\\u003cbr\\u003eTermination index: 0\\u003cbr\\u003eInterfaces Index Range: 29685-29696\\u003cbr\\u003eStrain: 0.59%\\u003cbr\\u003eAtoms: 344\"],\"x\":[0.5880000000000001],\"y\":[344],\"type\":\"scatter\"},{\"hoverinfo\":\"text\",\"mode\":\"markers\",\"name\":\"Indices: 29697-29702\",\"text\":[\"Termination: ('C_P6\\u002fmmm_2', 'Ni_R-3m_1')\\u003cbr\\u003eTermination index: 0\\u003cbr\\u003eInterfaces Index Range: 29697-29702\\u003cbr\\u003eStrain: 0.59%\\u003cbr\\u003eAtoms: 376\"],\"x\":[0.5880000000000001],\"y\":[376],\"type\":\"scatter\"},{\"hoverinfo\":\"text\",\"mode\":\"markers\",\"name\":\"Indices: 29703-29714\",\"text\":[\"Termination: ('C_P6\\u002fmmm_2', 'Ni_R-3m_1')\\u003cbr\\u003eTermination index: 0\\u003cbr\\u003eInterfaces Index Range: 29703-29714\\u003cbr\\u003eStrain: 0.59%\\u003cbr\\u003eAtoms: 326\"],\"x\":[0.5890000000000001],\"y\":[326],\"type\":\"scatter\"},{\"hoverinfo\":\"text\",\"mode\":\"markers\",\"name\":\"Indices: 29715-29726\",\"text\":[\"Termination: ('C_P6\\u002fmmm_2', 'Ni_R-3m_1')\\u003cbr\\u003eTermination index: 0\\u003cbr\\u003eInterfaces Index Range: 29715-29726\\u003cbr\\u003eStrain: 0.59%\\u003cbr\\u003eAtoms: 348\"],\"x\":[0.5920000000000001],\"y\":[348],\"type\":\"scatter\"},{\"hoverinfo\":\"text\",\"mode\":\"markers\",\"name\":\"Indices: 29727-29738\",\"text\":[\"Termination: ('C_P6\\u002fmmm_2', 'Ni_R-3m_1')\\u003cbr\\u003eTermination index: 0\\u003cbr\\u003eInterfaces Index Range: 29727-29738\\u003cbr\\u003eStrain: 0.59%\\u003cbr\\u003eAtoms: 359\"],\"x\":[0.5930000000000001],\"y\":[359],\"type\":\"scatter\"},{\"hoverinfo\":\"text\",\"mode\":\"markers\",\"name\":\"Indices: 29739-29750\",\"text\":[\"Termination: ('C_P6\\u002fmmm_2', 'Ni_R-3m_1')\\u003cbr\\u003eTermination index: 0\\u003cbr\\u003eInterfaces Index Range: 29739-29750\\u003cbr\\u003eStrain: 0.60%\\u003cbr\\u003eAtoms: 294\"],\"x\":[0.5950000000000001],\"y\":[294],\"type\":\"scatter\"},{\"hoverinfo\":\"text\",\"mode\":\"markers\",\"name\":\"Indices: 29751-29762\",\"text\":[\"Termination: ('C_P6\\u002fmmm_2', 'Ni_R-3m_1')\\u003cbr\\u003eTermination index: 0\\u003cbr\\u003eInterfaces Index Range: 29751-29762\\u003cbr\\u003eStrain: 0.60%\\u003cbr\\u003eAtoms: 321\"],\"x\":[0.5990000000000001],\"y\":[321],\"type\":\"scatter\"},{\"hoverinfo\":\"text\",\"mode\":\"markers\",\"name\":\"Indices: 29763-29774\",\"text\":[\"Termination: ('C_P6\\u002fmmm_2', 'Ni_R-3m_1')\\u003cbr\\u003eTermination index: 0\\u003cbr\\u003eInterfaces Index Range: 29763-29774\\u003cbr\\u003eStrain: 0.60%\\u003cbr\\u003eAtoms: 339\"],\"x\":[0.6010000000000001],\"y\":[339],\"type\":\"scatter\"},{\"hoverinfo\":\"text\",\"mode\":\"markers\",\"name\":\"Indices: 29775-29786\",\"text\":[\"Termination: ('C_P6\\u002fmmm_2', 'Ni_R-3m_1')\\u003cbr\\u003eTermination index: 0\\u003cbr\\u003eInterfaces Index Range: 29775-29786\\u003cbr\\u003eStrain: 0.61%\\u003cbr\\u003eAtoms: 306\"],\"x\":[0.606],\"y\":[306],\"type\":\"scatter\"},{\"hoverinfo\":\"text\",\"mode\":\"markers\",\"name\":\"Indices: 29787-29792\",\"text\":[\"Termination: ('C_P6\\u002fmmm_2', 'Ni_R-3m_1')\\u003cbr\\u003eTermination index: 0\\u003cbr\\u003eInterfaces Index Range: 29787-29792\\u003cbr\\u003eStrain: 0.61%\\u003cbr\\u003eAtoms: 366\"],\"x\":[0.606],\"y\":[366],\"type\":\"scatter\"},{\"hoverinfo\":\"text\",\"mode\":\"markers\",\"name\":\"Indices: 29793-29804\",\"text\":[\"Termination: ('C_P6\\u002fmmm_2', 'Ni_R-3m_1')\\u003cbr\\u003eTermination index: 0\\u003cbr\\u003eInterfaces Index Range: 29793-29804\\u003cbr\\u003eStrain: 0.61%\\u003cbr\\u003eAtoms: 324\"],\"x\":[0.6070000000000001],\"y\":[324],\"type\":\"scatter\"},{\"hoverinfo\":\"text\",\"mode\":\"markers\",\"name\":\"Indices: 29805-29816\",\"text\":[\"Termination: ('C_P6\\u002fmmm_2', 'Ni_R-3m_1')\\u003cbr\\u003eTermination index: 0\\u003cbr\\u003eInterfaces Index Range: 29805-29816\\u003cbr\\u003eStrain: 0.61%\\u003cbr\\u003eAtoms: 344\"],\"x\":[0.608],\"y\":[344],\"type\":\"scatter\"},{\"hoverinfo\":\"text\",\"mode\":\"markers\",\"name\":\"Indices: 29817-29828\",\"text\":[\"Termination: ('C_P6\\u002fmmm_2', 'Ni_R-3m_1')\\u003cbr\\u003eTermination index: 0\\u003cbr\\u003eInterfaces Index Range: 29817-29828\\u003cbr\\u003eStrain: 0.61%\\u003cbr\\u003eAtoms: 369\"],\"x\":[0.608],\"y\":[369],\"type\":\"scatter\"},{\"hoverinfo\":\"text\",\"mode\":\"markers\",\"name\":\"Indices: 29829-29834\",\"text\":[\"Termination: ('C_P6\\u002fmmm_2', 'Ni_R-3m_1')\\u003cbr\\u003eTermination index: 0\\u003cbr\\u003eInterfaces Index Range: 29829-29834\\u003cbr\\u003eStrain: 0.61%\\u003cbr\\u003eAtoms: 278\"],\"x\":[0.6090000000000001],\"y\":[278],\"type\":\"scatter\"},{\"hoverinfo\":\"text\",\"mode\":\"markers\",\"name\":\"Indices: 29835-29846\",\"text\":[\"Termination: ('C_P6\\u002fmmm_2', 'Ni_R-3m_1')\\u003cbr\\u003eTermination index: 0\\u003cbr\\u003eInterfaces Index Range: 29835-29846\\u003cbr\\u003eStrain: 0.61%\\u003cbr\\u003eAtoms: 266\"],\"x\":[0.61],\"y\":[266],\"type\":\"scatter\"},{\"hoverinfo\":\"text\",\"mode\":\"markers\",\"name\":\"Indices: 29847-29852\",\"text\":[\"Termination: ('C_P6\\u002fmmm_2', 'Ni_R-3m_1')\\u003cbr\\u003eTermination index: 0\\u003cbr\\u003eInterfaces Index Range: 29847-29852\\u003cbr\\u003eStrain: 0.61%\\u003cbr\\u003eAtoms: 278\"],\"x\":[0.61],\"y\":[278],\"type\":\"scatter\"},{\"hoverinfo\":\"text\",\"mode\":\"markers\",\"name\":\"Indices: 29853-29864\",\"text\":[\"Termination: ('C_P6\\u002fmmm_2', 'Ni_R-3m_1')\\u003cbr\\u003eTermination index: 0\\u003cbr\\u003eInterfaces Index Range: 29853-29864\\u003cbr\\u003eStrain: 0.61%\\u003cbr\\u003eAtoms: 316\"],\"x\":[0.61],\"y\":[316],\"type\":\"scatter\"},{\"hoverinfo\":\"text\",\"mode\":\"markers\",\"name\":\"Indices: 29865-29870\",\"text\":[\"Termination: ('C_P6\\u002fmmm_2', 'Ni_R-3m_1')\\u003cbr\\u003eTermination index: 0\\u003cbr\\u003eInterfaces Index Range: 29865-29870\\u003cbr\\u003eStrain: 0.61%\\u003cbr\\u003eAtoms: 254\"],\"x\":[0.6110000000000001],\"y\":[254],\"type\":\"scatter\"},{\"hoverinfo\":\"text\",\"mode\":\"markers\",\"name\":\"Indices: 29871-29873\",\"text\":[\"Termination: ('C_P6\\u002fmmm_2', 'Ni_R-3m_1')\\u003cbr\\u003eTermination index: 0\\u003cbr\\u003eInterfaces Index Range: 29871-29873\\u003cbr\\u003eStrain: 0.61%\\u003cbr\\u003eAtoms: 212\"],\"x\":[0.6120000000000001],\"y\":[212],\"type\":\"scatter\"},{\"hoverinfo\":\"text\",\"mode\":\"markers\",\"name\":\"Indices: 29874-29885\",\"text\":[\"Termination: ('C_P6\\u002fmmm_2', 'Ni_R-3m_1')\\u003cbr\\u003eTermination index: 0\\u003cbr\\u003eInterfaces Index Range: 29874-29885\\u003cbr\\u003eStrain: 0.61%\\u003cbr\\u003eAtoms: 336\"],\"x\":[0.6120000000000001],\"y\":[336],\"type\":\"scatter\"},{\"hoverinfo\":\"text\",\"mode\":\"markers\",\"name\":\"Indices: 29886-29897\",\"text\":[\"Termination: ('C_P6\\u002fmmm_2', 'Ni_R-3m_1')\\u003cbr\\u003eTermination index: 0\\u003cbr\\u003eInterfaces Index Range: 29886-29897\\u003cbr\\u003eStrain: 0.61%\\u003cbr\\u003eAtoms: 178\"],\"x\":[0.615],\"y\":[178],\"type\":\"scatter\"},{\"hoverinfo\":\"text\",\"mode\":\"markers\",\"name\":\"Indices: 29898-29909\",\"text\":[\"Termination: ('C_P6\\u002fmmm_2', 'Ni_R-3m_1')\\u003cbr\\u003eTermination index: 0\\u003cbr\\u003eInterfaces Index Range: 29898-29909\\u003cbr\\u003eStrain: 0.61%\\u003cbr\\u003eAtoms: 202\"],\"x\":[0.615],\"y\":[202],\"type\":\"scatter\"},{\"hoverinfo\":\"text\",\"mode\":\"markers\",\"name\":\"Indices: 29910-29933\",\"text\":[\"Termination: ('C_P6\\u002fmmm_2', 'Ni_R-3m_1')\\u003cbr\\u003eTermination index: 0\\u003cbr\\u003eInterfaces Index Range: 29910-29933\\u003cbr\\u003eStrain: 0.61%\\u003cbr\\u003eAtoms: 356\"],\"x\":[0.615],\"y\":[356],\"type\":\"scatter\"},{\"hoverinfo\":\"text\",\"mode\":\"markers\",\"name\":\"Indices: 29934-29945\",\"text\":[\"Termination: ('C_P6\\u002fmmm_2', 'Ni_R-3m_1')\\u003cbr\\u003eTermination index: 0\\u003cbr\\u003eInterfaces Index Range: 29934-29945\\u003cbr\\u003eStrain: 0.61%\\u003cbr\\u003eAtoms: 364\"],\"x\":[0.615],\"y\":[364],\"type\":\"scatter\"},{\"hoverinfo\":\"text\",\"mode\":\"markers\",\"name\":\"Indices: 29946-29957\",\"text\":[\"Termination: ('C_P6\\u002fmmm_2', 'Ni_R-3m_1')\\u003cbr\\u003eTermination index: 0\\u003cbr\\u003eInterfaces Index Range: 29946-29957\\u003cbr\\u003eStrain: 0.62%\\u003cbr\\u003eAtoms: 339\"],\"x\":[0.617],\"y\":[339],\"type\":\"scatter\"},{\"hoverinfo\":\"text\",\"mode\":\"markers\",\"name\":\"Indices: 29958-29963\",\"text\":[\"Termination: ('C_P6\\u002fmmm_2', 'Ni_R-3m_1')\\u003cbr\\u003eTermination index: 0\\u003cbr\\u003eInterfaces Index Range: 29958-29963\\u003cbr\\u003eStrain: 0.62%\\u003cbr\\u003eAtoms: 362\"],\"x\":[0.6200000000000001],\"y\":[362],\"type\":\"scatter\"},{\"hoverinfo\":\"text\",\"mode\":\"markers\",\"name\":\"Indices: 29964-29975\",\"text\":[\"Termination: ('C_P6\\u002fmmm_2', 'Ni_R-3m_1')\\u003cbr\\u003eTermination index: 0\\u003cbr\\u003eInterfaces Index Range: 29964-29975\\u003cbr\\u003eStrain: 0.62%\\u003cbr\\u003eAtoms: 369\"],\"x\":[0.6200000000000001],\"y\":[369],\"type\":\"scatter\"},{\"hoverinfo\":\"text\",\"mode\":\"markers\",\"name\":\"Indices: 29976-29987\",\"text\":[\"Termination: ('C_P6\\u002fmmm_2', 'Ni_R-3m_1')\\u003cbr\\u003eTermination index: 0\\u003cbr\\u003eInterfaces Index Range: 29976-29987\\u003cbr\\u003eStrain: 0.62%\\u003cbr\\u003eAtoms: 311\"],\"x\":[0.621],\"y\":[311],\"type\":\"scatter\"},{\"hoverinfo\":\"text\",\"mode\":\"markers\",\"name\":\"Indices: 29988-29999\",\"text\":[\"Termination: ('C_P6\\u002fmmm_2', 'Ni_R-3m_1')\\u003cbr\\u003eTermination index: 0\\u003cbr\\u003eInterfaces Index Range: 29988-29999\\u003cbr\\u003eStrain: 0.62%\\u003cbr\\u003eAtoms: 372\"],\"x\":[0.6220000000000001],\"y\":[372],\"type\":\"scatter\"},{\"hoverinfo\":\"text\",\"mode\":\"markers\",\"name\":\"Indices: 30000-30002\",\"text\":[\"Termination: ('C_P6\\u002fmmm_2', 'Ni_R-3m_1')\\u003cbr\\u003eTermination index: 0\\u003cbr\\u003eInterfaces Index Range: 30000-30002\\u003cbr\\u003eStrain: 0.62%\\u003cbr\\u003eAtoms: 207\"],\"x\":[0.6240000000000001],\"y\":[207],\"type\":\"scatter\"},{\"hoverinfo\":\"text\",\"mode\":\"markers\",\"name\":\"Indices: 30003-30014\",\"text\":[\"Termination: ('C_P6\\u002fmmm_2', 'Ni_R-3m_1')\\u003cbr\\u003eTermination index: 0\\u003cbr\\u003eInterfaces Index Range: 30003-30014\\u003cbr\\u003eStrain: 0.63%\\u003cbr\\u003eAtoms: 274\"],\"x\":[0.6260000000000001],\"y\":[274],\"type\":\"scatter\"},{\"hoverinfo\":\"text\",\"mode\":\"markers\",\"name\":\"Indices: 30015-30026\",\"text\":[\"Termination: ('C_P6\\u002fmmm_2', 'Ni_R-3m_1')\\u003cbr\\u003eTermination index: 0\\u003cbr\\u003eInterfaces Index Range: 30015-30026\\u003cbr\\u003eStrain: 0.63%\\u003cbr\\u003eAtoms: 356\"],\"x\":[0.627],\"y\":[356],\"type\":\"scatter\"},{\"hoverinfo\":\"text\",\"mode\":\"markers\",\"name\":\"Indices: 30027-30050\",\"text\":[\"Termination: ('C_P6\\u002fmmm_2', 'Ni_R-3m_1')\\u003cbr\\u003eTermination index: 0\\u003cbr\\u003eInterfaces Index Range: 30027-30050\\u003cbr\\u003eStrain: 0.63%\\u003cbr\\u003eAtoms: 369\"],\"x\":[0.6280000000000001],\"y\":[369],\"type\":\"scatter\"},{\"hoverinfo\":\"text\",\"mode\":\"markers\",\"name\":\"Indices: 30051-30062\",\"text\":[\"Termination: ('C_P6\\u002fmmm_2', 'Ni_R-3m_1')\\u003cbr\\u003eTermination index: 0\\u003cbr\\u003eInterfaces Index Range: 30051-30062\\u003cbr\\u003eStrain: 0.63%\\u003cbr\\u003eAtoms: 282\"],\"x\":[0.629],\"y\":[282],\"type\":\"scatter\"},{\"hoverinfo\":\"text\",\"mode\":\"markers\",\"name\":\"Indices: 30063-30074\",\"text\":[\"Termination: ('C_P6\\u002fmmm_2', 'Ni_R-3m_1')\\u003cbr\\u003eTermination index: 0\\u003cbr\\u003eInterfaces Index Range: 30063-30074\\u003cbr\\u003eStrain: 0.63%\\u003cbr\\u003eAtoms: 358\"],\"x\":[0.6300000000000001],\"y\":[358],\"type\":\"scatter\"},{\"hoverinfo\":\"text\",\"mode\":\"markers\",\"name\":\"Indices: 30075-30078\",\"text\":[\"Termination: ('C_P6\\u002fmmm_2', 'Ni_R-3m_1')\\u003cbr\\u003eTermination index: 0\\u003cbr\\u003eInterfaces Index Range: 30075-30078\\u003cbr\\u003eStrain: 0.63%\\u003cbr\\u003eAtoms: 189\"],\"x\":[0.632],\"y\":[189],\"type\":\"scatter\"},{\"hoverinfo\":\"text\",\"mode\":\"markers\",\"name\":\"Indices: 30079-30084\",\"text\":[\"Termination: ('C_P6\\u002fmmm_2', 'Ni_R-3m_1')\\u003cbr\\u003eTermination index: 0\\u003cbr\\u003eInterfaces Index Range: 30079-30084\\u003cbr\\u003eStrain: 0.63%\\u003cbr\\u003eAtoms: 363\"],\"x\":[0.632],\"y\":[363],\"type\":\"scatter\"},{\"hoverinfo\":\"text\",\"mode\":\"markers\",\"name\":\"Indices: 30085-30096\",\"text\":[\"Termination: ('C_P6\\u002fmmm_2', 'Ni_R-3m_1')\\u003cbr\\u003eTermination index: 0\\u003cbr\\u003eInterfaces Index Range: 30085-30096\\u003cbr\\u003eStrain: 0.63%\\u003cbr\\u003eAtoms: 351\"],\"x\":[0.633],\"y\":[351],\"type\":\"scatter\"},{\"hoverinfo\":\"text\",\"mode\":\"markers\",\"name\":\"Indices: 30097-30102\",\"text\":[\"Termination: ('C_P6\\u002fmmm_2', 'Ni_R-3m_1')\\u003cbr\\u003eTermination index: 0\\u003cbr\\u003eInterfaces Index Range: 30097-30102\\u003cbr\\u003eStrain: 0.63%\\u003cbr\\u003eAtoms: 202\"],\"x\":[0.634],\"y\":[202],\"type\":\"scatter\"},{\"hoverinfo\":\"text\",\"mode\":\"markers\",\"name\":\"Indices: 30103-30114\",\"text\":[\"Termination: ('C_P6\\u002fmmm_2', 'Ni_R-3m_1')\\u003cbr\\u003eTermination index: 0\\u003cbr\\u003eInterfaces Index Range: 30103-30114\\u003cbr\\u003eStrain: 0.63%\\u003cbr\\u003eAtoms: 339\"],\"x\":[0.634],\"y\":[339],\"type\":\"scatter\"},{\"hoverinfo\":\"text\",\"mode\":\"markers\",\"name\":\"Indices: 30115-30138\",\"text\":[\"Termination: ('C_P6\\u002fmmm_2', 'Ni_R-3m_1')\\u003cbr\\u003eTermination index: 0\\u003cbr\\u003eInterfaces Index Range: 30115-30138\\u003cbr\\u003eStrain: 0.64%\\u003cbr\\u003eAtoms: 326\"],\"x\":[0.635],\"y\":[326],\"type\":\"scatter\"},{\"hoverinfo\":\"text\",\"mode\":\"markers\",\"name\":\"Indices: 30139-30150\",\"text\":[\"Termination: ('C_P6\\u002fmmm_2', 'Ni_R-3m_1')\\u003cbr\\u003eTermination index: 0\\u003cbr\\u003eInterfaces Index Range: 30139-30150\\u003cbr\\u003eStrain: 0.64%\\u003cbr\\u003eAtoms: 348\"],\"x\":[0.635],\"y\":[348],\"type\":\"scatter\"},{\"hoverinfo\":\"text\",\"mode\":\"markers\",\"name\":\"Indices: 30151-30162\",\"text\":[\"Termination: ('C_P6\\u002fmmm_2', 'Ni_R-3m_1')\\u003cbr\\u003eTermination index: 0\\u003cbr\\u003eInterfaces Index Range: 30151-30162\\u003cbr\\u003eStrain: 0.64%\\u003cbr\\u003eAtoms: 197\"],\"x\":[0.636],\"y\":[197],\"type\":\"scatter\"},{\"hoverinfo\":\"text\",\"mode\":\"markers\",\"name\":\"Indices: 30163-30166\",\"text\":[\"Termination: ('C_P6\\u002fmmm_2', 'Ni_R-3m_1')\\u003cbr\\u003eTermination index: 0\\u003cbr\\u003eInterfaces Index Range: 30163-30166\\u003cbr\\u003eStrain: 0.64%\\u003cbr\\u003eAtoms: 327\"],\"x\":[0.636],\"y\":[327],\"type\":\"scatter\"},{\"hoverinfo\":\"text\",\"mode\":\"markers\",\"name\":\"Indices: 30167-30178\",\"text\":[\"Termination: ('C_P6\\u002fmmm_2', 'Ni_R-3m_1')\\u003cbr\\u003eTermination index: 0\\u003cbr\\u003eInterfaces Index Range: 30167-30178\\u003cbr\\u003eStrain: 0.64%\\u003cbr\\u003eAtoms: 328\"],\"x\":[0.637],\"y\":[328],\"type\":\"scatter\"},{\"hoverinfo\":\"text\",\"mode\":\"markers\",\"name\":\"Indices: 30179-30190\",\"text\":[\"Termination: ('C_P6\\u002fmmm_2', 'Ni_R-3m_1')\\u003cbr\\u003eTermination index: 0\\u003cbr\\u003eInterfaces Index Range: 30179-30190\\u003cbr\\u003eStrain: 0.64%\\u003cbr\\u003eAtoms: 336\"],\"x\":[0.6390000000000001],\"y\":[336],\"type\":\"scatter\"},{\"hoverinfo\":\"text\",\"mode\":\"markers\",\"name\":\"Indices: 30191-30202\",\"text\":[\"Termination: ('C_P6\\u002fmmm_2', 'Ni_R-3m_1')\\u003cbr\\u003eTermination index: 0\\u003cbr\\u003eInterfaces Index Range: 30191-30202\\u003cbr\\u003eStrain: 0.64%\\u003cbr\\u003eAtoms: 364\"],\"x\":[0.64],\"y\":[364],\"type\":\"scatter\"},{\"hoverinfo\":\"text\",\"mode\":\"markers\",\"name\":\"Indices: 30203-30214\",\"text\":[\"Termination: ('C_P6\\u002fmmm_2', 'Ni_R-3m_1')\\u003cbr\\u003eTermination index: 0\\u003cbr\\u003eInterfaces Index Range: 30203-30214\\u003cbr\\u003eStrain: 0.65%\\u003cbr\\u003eAtoms: 347\"],\"x\":[0.65],\"y\":[347],\"type\":\"scatter\"},{\"hoverinfo\":\"text\",\"mode\":\"markers\",\"name\":\"Indices: 30215-30226\",\"text\":[\"Termination: ('C_P6\\u002fmmm_2', 'Ni_R-3m_1')\\u003cbr\\u003eTermination index: 0\\u003cbr\\u003eInterfaces Index Range: 30215-30226\\u003cbr\\u003eStrain: 0.65%\\u003cbr\\u003eAtoms: 318\"],\"x\":[0.651],\"y\":[318],\"type\":\"scatter\"},{\"hoverinfo\":\"text\",\"mode\":\"markers\",\"name\":\"Indices: 30227-30229\",\"text\":[\"Termination: ('C_P6\\u002fmmm_2', 'Ni_R-3m_1')\\u003cbr\\u003eTermination index: 0\\u003cbr\\u003eInterfaces Index Range: 30227-30229\\u003cbr\\u003eStrain: 0.65%\\u003cbr\\u003eAtoms: 197\"],\"x\":[0.652],\"y\":[197],\"type\":\"scatter\"},{\"hoverinfo\":\"text\",\"mode\":\"markers\",\"name\":\"Indices: 30230-30241\",\"text\":[\"Termination: ('C_P6\\u002fmmm_2', 'Ni_R-3m_1')\\u003cbr\\u003eTermination index: 0\\u003cbr\\u003eInterfaces Index Range: 30230-30241\\u003cbr\\u003eStrain: 0.65%\\u003cbr\\u003eAtoms: 306\"],\"x\":[0.654],\"y\":[306],\"type\":\"scatter\"},{\"hoverinfo\":\"text\",\"mode\":\"markers\",\"name\":\"Indices: 30242-30265\",\"text\":[\"Termination: ('C_P6\\u002fmmm_2', 'Ni_R-3m_1')\\u003cbr\\u003eTermination index: 0\\u003cbr\\u003eInterfaces Index Range: 30242-30265\\u003cbr\\u003eStrain: 0.66%\\u003cbr\\u003eAtoms: 316\"],\"x\":[0.655],\"y\":[316],\"type\":\"scatter\"},{\"hoverinfo\":\"text\",\"mode\":\"markers\",\"name\":\"Indices: 30266-30271\",\"text\":[\"Termination: ('C_P6\\u002fmmm_2', 'Ni_R-3m_1')\\u003cbr\\u003eTermination index: 0\\u003cbr\\u003eInterfaces Index Range: 30266-30271\\u003cbr\\u003eStrain: 0.66%\\u003cbr\\u003eAtoms: 278\"],\"x\":[0.657],\"y\":[278],\"type\":\"scatter\"},{\"hoverinfo\":\"text\",\"mode\":\"markers\",\"name\":\"Indices: 30272-30283\",\"text\":[\"Termination: ('C_P6\\u002fmmm_2', 'Ni_R-3m_1')\\u003cbr\\u003eTermination index: 0\\u003cbr\\u003eInterfaces Index Range: 30272-30283\\u003cbr\\u003eStrain: 0.66%\\u003cbr\\u003eAtoms: 347\"],\"x\":[0.657],\"y\":[347],\"type\":\"scatter\"},{\"hoverinfo\":\"text\",\"mode\":\"markers\",\"name\":\"Indices: 30284-30295\",\"text\":[\"Termination: ('C_P6\\u002fmmm_2', 'Ni_R-3m_1')\\u003cbr\\u003eTermination index: 0\\u003cbr\\u003eInterfaces Index Range: 30284-30295\\u003cbr\\u003eStrain: 0.66%\\u003cbr\\u003eAtoms: 372\"],\"x\":[0.658],\"y\":[372],\"type\":\"scatter\"},{\"hoverinfo\":\"text\",\"mode\":\"markers\",\"name\":\"Indices: 30296-30307\",\"text\":[\"Termination: ('C_P6\\u002fmmm_2', 'Ni_R-3m_1')\\u003cbr\\u003eTermination index: 0\\u003cbr\\u003eInterfaces Index Range: 30296-30307\\u003cbr\\u003eStrain: 0.66%\\u003cbr\\u003eAtoms: 318\"],\"x\":[0.661],\"y\":[318],\"type\":\"scatter\"},{\"hoverinfo\":\"text\",\"mode\":\"markers\",\"name\":\"Indices: 30308-30319\",\"text\":[\"Termination: ('C_P6\\u002fmmm_2', 'Ni_R-3m_1')\\u003cbr\\u003eTermination index: 0\\u003cbr\\u003eInterfaces Index Range: 30308-30319\\u003cbr\\u003eStrain: 0.66%\\u003cbr\\u003eAtoms: 311\"],\"x\":[0.6620000000000001],\"y\":[311],\"type\":\"scatter\"},{\"hoverinfo\":\"text\",\"mode\":\"markers\",\"name\":\"Indices: 30320-30331\",\"text\":[\"Termination: ('C_P6\\u002fmmm_2', 'Ni_R-3m_1')\\u003cbr\\u003eTermination index: 0\\u003cbr\\u003eInterfaces Index Range: 30320-30331\\u003cbr\\u003eStrain: 0.66%\\u003cbr\\u003eAtoms: 336\"],\"x\":[0.6620000000000001],\"y\":[336],\"type\":\"scatter\"},{\"hoverinfo\":\"text\",\"mode\":\"markers\",\"name\":\"Indices: 30332-30343\",\"text\":[\"Termination: ('C_P6\\u002fmmm_2', 'Ni_R-3m_1')\\u003cbr\\u003eTermination index: 0\\u003cbr\\u003eInterfaces Index Range: 30332-30343\\u003cbr\\u003eStrain: 0.66%\\u003cbr\\u003eAtoms: 324\"],\"x\":[0.663],\"y\":[324],\"type\":\"scatter\"},{\"hoverinfo\":\"text\",\"mode\":\"markers\",\"name\":\"Indices: 30344-30355\",\"text\":[\"Termination: ('C_P6\\u002fmmm_2', 'Ni_R-3m_1')\\u003cbr\\u003eTermination index: 0\\u003cbr\\u003eInterfaces Index Range: 30344-30355\\u003cbr\\u003eStrain: 0.67%\\u003cbr\\u003eAtoms: 369\"],\"x\":[0.666],\"y\":[369],\"type\":\"scatter\"},{\"hoverinfo\":\"text\",\"mode\":\"markers\",\"name\":\"Indices: 30356-30358\",\"text\":[\"Termination: ('C_P6\\u002fmmm_2', 'Ni_R-3m_1')\\u003cbr\\u003eTermination index: 0\\u003cbr\\u003eInterfaces Index Range: 30356-30358\\u003cbr\\u003eStrain: 0.67%\\u003cbr\\u003eAtoms: 192\"],\"x\":[0.667],\"y\":[192],\"type\":\"scatter\"},{\"hoverinfo\":\"text\",\"mode\":\"markers\",\"name\":\"Indices: 30359-30370\",\"text\":[\"Termination: ('C_P6\\u002fmmm_2', 'Ni_R-3m_1')\\u003cbr\\u003eTermination index: 0\\u003cbr\\u003eInterfaces Index Range: 30359-30370\\u003cbr\\u003eStrain: 0.67%\\u003cbr\\u003eAtoms: 294\"],\"x\":[0.667],\"y\":[294],\"type\":\"scatter\"},{\"hoverinfo\":\"text\",\"mode\":\"markers\",\"name\":\"Indices: 30371-30382\",\"text\":[\"Termination: ('C_P6\\u002fmmm_2', 'Ni_R-3m_1')\\u003cbr\\u003eTermination index: 0\\u003cbr\\u003eInterfaces Index Range: 30371-30382\\u003cbr\\u003eStrain: 0.67%\\u003cbr\\u003eAtoms: 274\"],\"x\":[0.669],\"y\":[274],\"type\":\"scatter\"},{\"hoverinfo\":\"text\",\"mode\":\"markers\",\"name\":\"Indices: 30383-30394\",\"text\":[\"Termination: ('C_P6\\u002fmmm_2', 'Ni_R-3m_1')\\u003cbr\\u003eTermination index: 0\\u003cbr\\u003eInterfaces Index Range: 30383-30394\\u003cbr\\u003eStrain: 0.67%\\u003cbr\\u003eAtoms: 358\"],\"x\":[0.67],\"y\":[358],\"type\":\"scatter\"},{\"hoverinfo\":\"text\",\"mode\":\"markers\",\"name\":\"Indices: 30395-30400\",\"text\":[\"Termination: ('C_P6\\u002fmmm_2', 'Ni_R-3m_1')\\u003cbr\\u003eTermination index: 0\\u003cbr\\u003eInterfaces Index Range: 30395-30400\\u003cbr\\u003eStrain: 0.68%\\u003cbr\\u003eAtoms: 187\"],\"x\":[0.682],\"y\":[187],\"type\":\"scatter\"},{\"hoverinfo\":\"text\",\"mode\":\"markers\",\"name\":\"Indices: 30401-30412\",\"text\":[\"Termination: ('C_P6\\u002fmmm_2', 'Ni_R-3m_1')\\u003cbr\\u003eTermination index: 0\\u003cbr\\u003eInterfaces Index Range: 30401-30412\\u003cbr\\u003eStrain: 0.68%\\u003cbr\\u003eAtoms: 318\"],\"x\":[0.682],\"y\":[318],\"type\":\"scatter\"},{\"hoverinfo\":\"text\",\"mode\":\"markers\",\"name\":\"Indices: 30413-30424\",\"text\":[\"Termination: ('C_P6\\u002fmmm_2', 'Ni_R-3m_1')\\u003cbr\\u003eTermination index: 0\\u003cbr\\u003eInterfaces Index Range: 30413-30424\\u003cbr\\u003eStrain: 0.69%\\u003cbr\\u003eAtoms: 356\"],\"x\":[0.687],\"y\":[356],\"type\":\"scatter\"},{\"hoverinfo\":\"text\",\"mode\":\"markers\",\"name\":\"Indices: 30425-30448\",\"text\":[\"Termination: ('C_P6\\u002fmmm_2', 'Ni_R-3m_1')\\u003cbr\\u003eTermination index: 0\\u003cbr\\u003eInterfaces Index Range: 30425-30448\\u003cbr\\u003eStrain: 0.69%\\u003cbr\\u003eAtoms: 375\"],\"x\":[0.6920000000000001],\"y\":[375],\"type\":\"scatter\"},{\"hoverinfo\":\"text\",\"mode\":\"markers\",\"name\":\"Indices: 30449-30460\",\"text\":[\"Termination: ('C_P6\\u002fmmm_2', 'Ni_R-3m_1')\\u003cbr\\u003eTermination index: 0\\u003cbr\\u003eInterfaces Index Range: 30449-30460\\u003cbr\\u003eStrain: 0.69%\\u003cbr\\u003eAtoms: 328\"],\"x\":[0.6930000000000001],\"y\":[328],\"type\":\"scatter\"},{\"hoverinfo\":\"text\",\"mode\":\"markers\",\"name\":\"Indices: 30461-30472\",\"text\":[\"Termination: ('C_P6\\u002fmmm_2', 'Ni_R-3m_1')\\u003cbr\\u003eTermination index: 0\\u003cbr\\u003eInterfaces Index Range: 30461-30472\\u003cbr\\u003eStrain: 0.69%\\u003cbr\\u003eAtoms: 348\"],\"x\":[0.6930000000000001],\"y\":[348],\"type\":\"scatter\"},{\"hoverinfo\":\"text\",\"mode\":\"markers\",\"name\":\"Indices: 30473-30478\",\"text\":[\"Termination: ('C_P6\\u002fmmm_2', 'Ni_R-3m_1')\\u003cbr\\u003eTermination index: 0\\u003cbr\\u003eInterfaces Index Range: 30473-30478\\u003cbr\\u003eStrain: 0.70%\\u003cbr\\u003eAtoms: 362\"],\"x\":[0.6960000000000001],\"y\":[362],\"type\":\"scatter\"},{\"hoverinfo\":\"text\",\"mode\":\"markers\",\"name\":\"Indices: 30479-30490\",\"text\":[\"Termination: ('C_P6\\u002fmmm_2', 'Ni_R-3m_1')\\u003cbr\\u003eTermination index: 0\\u003cbr\\u003eInterfaces Index Range: 30479-30490\\u003cbr\\u003eStrain: 0.70%\\u003cbr\\u003eAtoms: 363\"],\"x\":[0.7030000000000001],\"y\":[363],\"type\":\"scatter\"},{\"hoverinfo\":\"text\",\"mode\":\"markers\",\"name\":\"Indices: 30491-30502\",\"text\":[\"Termination: ('C_P6\\u002fmmm_2', 'Ni_R-3m_1')\\u003cbr\\u003eTermination index: 0\\u003cbr\\u003eInterfaces Index Range: 30491-30502\\u003cbr\\u003eStrain: 0.72%\\u003cbr\\u003eAtoms: 318\"],\"x\":[0.719],\"y\":[318],\"type\":\"scatter\"},{\"hoverinfo\":\"text\",\"mode\":\"markers\",\"name\":\"Indices: 30503-30514\",\"text\":[\"Termination: ('C_P6\\u002fmmm_2', 'Ni_R-3m_1')\\u003cbr\\u003eTermination index: 0\\u003cbr\\u003eInterfaces Index Range: 30503-30514\\u003cbr\\u003eStrain: 0.73%\\u003cbr\\u003eAtoms: 328\"],\"x\":[0.7300000000000001],\"y\":[328],\"type\":\"scatter\"},{\"hoverinfo\":\"text\",\"mode\":\"markers\",\"name\":\"Indices: 30515-30526\",\"text\":[\"Termination: ('C_P6\\u002fmmm_2', 'Ni_R-3m_1')\\u003cbr\\u003eTermination index: 0\\u003cbr\\u003eInterfaces Index Range: 30515-30526\\u003cbr\\u003eStrain: 0.73%\\u003cbr\\u003eAtoms: 372\"],\"x\":[0.7300000000000001],\"y\":[372],\"type\":\"scatter\"},{\"hoverinfo\":\"text\",\"mode\":\"markers\",\"name\":\"Indices: 30527-30538\",\"text\":[\"Termination: ('C_P6\\u002fmmm_2', 'Ni_R-3m_1')\\u003cbr\\u003eTermination index: 0\\u003cbr\\u003eInterfaces Index Range: 30527-30538\\u003cbr\\u003eStrain: 0.74%\\u003cbr\\u003eAtoms: 294\"],\"x\":[0.744],\"y\":[294],\"type\":\"scatter\"},{\"hoverinfo\":\"text\",\"mode\":\"markers\",\"name\":\"Indices: 30539-30562\",\"text\":[\"Termination: ('C_P6\\u002fmmm_2', 'Ni_R-3m_1')\\u003cbr\\u003eTermination index: 0\\u003cbr\\u003eInterfaces Index Range: 30539-30562\\u003cbr\\u003eStrain: 0.75%\\u003cbr\\u003eAtoms: 375\"],\"x\":[0.748],\"y\":[375],\"type\":\"scatter\"},{\"hoverinfo\":\"text\",\"mode\":\"markers\",\"name\":\"Indices: 30563-30568\",\"text\":[\"Termination: ('C_P6\\u002fmmm_2', 'Ni_R-3m_1')\\u003cbr\\u003eTermination index: 0\\u003cbr\\u003eInterfaces Index Range: 30563-30568\\u003cbr\\u003eStrain: 0.75%\\u003cbr\\u003eAtoms: 362\"],\"x\":[0.7490000000000001],\"y\":[362],\"type\":\"scatter\"},{\"hoverinfo\":\"text\",\"mode\":\"markers\",\"name\":\"Indices: 30569-30580\",\"text\":[\"Termination: ('C_P6\\u002fmmm_2', 'Ni_R-3m_1')\\u003cbr\\u003eTermination index: 0\\u003cbr\\u003eInterfaces Index Range: 30569-30580\\u003cbr\\u003eStrain: 0.75%\\u003cbr\\u003eAtoms: 318\"],\"x\":[0.751],\"y\":[318],\"type\":\"scatter\"},{\"hoverinfo\":\"text\",\"mode\":\"markers\",\"name\":\"Indices: 30581-30592\",\"text\":[\"Termination: ('C_P6\\u002fmmm_2', 'Ni_R-3m_1')\\u003cbr\\u003eTermination index: 0\\u003cbr\\u003eInterfaces Index Range: 30581-30592\\u003cbr\\u003eStrain: 0.76%\\u003cbr\\u003eAtoms: 318\"],\"x\":[0.763],\"y\":[318],\"type\":\"scatter\"},{\"hoverinfo\":\"text\",\"mode\":\"markers\",\"name\":\"Indices: 30593-30616\",\"text\":[\"Termination: ('C_P6\\u002fmmm_2', 'Ni_R-3m_1')\\u003cbr\\u003eTermination index: 0\\u003cbr\\u003eInterfaces Index Range: 30593-30616\\u003cbr\\u003eStrain: 0.83%\\u003cbr\\u003eAtoms: 375\"],\"x\":[0.8320000000000001],\"y\":[375],\"type\":\"scatter\"}],                        {\"height\":600,\"hovermode\":\"closest\",\"legend\":{\"title\":{\"text\":\"Interfaces Index Range\"}},\"xaxis\":{\"title\":{\"text\":\"Strain (%)\"},\"type\":\"log\"},\"yaxis\":{\"title\":{\"text\":\"Number of atoms\"},\"type\":\"log\"},\"template\":{\"data\":{\"histogram2dcontour\":[{\"type\":\"histogram2dcontour\",\"colorbar\":{\"outlinewidth\":0,\"ticks\":\"\"},\"colorscale\":[[0.0,\"#0d0887\"],[0.1111111111111111,\"#46039f\"],[0.2222222222222222,\"#7201a8\"],[0.3333333333333333,\"#9c179e\"],[0.4444444444444444,\"#bd3786\"],[0.5555555555555556,\"#d8576b\"],[0.6666666666666666,\"#ed7953\"],[0.7777777777777778,\"#fb9f3a\"],[0.8888888888888888,\"#fdca26\"],[1.0,\"#f0f921\"]]}],\"choropleth\":[{\"type\":\"choropleth\",\"colorbar\":{\"outlinewidth\":0,\"ticks\":\"\"}}],\"histogram2d\":[{\"type\":\"histogram2d\",\"colorbar\":{\"outlinewidth\":0,\"ticks\":\"\"},\"colorscale\":[[0.0,\"#0d0887\"],[0.1111111111111111,\"#46039f\"],[0.2222222222222222,\"#7201a8\"],[0.3333333333333333,\"#9c179e\"],[0.4444444444444444,\"#bd3786\"],[0.5555555555555556,\"#d8576b\"],[0.6666666666666666,\"#ed7953\"],[0.7777777777777778,\"#fb9f3a\"],[0.8888888888888888,\"#fdca26\"],[1.0,\"#f0f921\"]]}],\"heatmap\":[{\"type\":\"heatmap\",\"colorbar\":{\"outlinewidth\":0,\"ticks\":\"\"},\"colorscale\":[[0.0,\"#0d0887\"],[0.1111111111111111,\"#46039f\"],[0.2222222222222222,\"#7201a8\"],[0.3333333333333333,\"#9c179e\"],[0.4444444444444444,\"#bd3786\"],[0.5555555555555556,\"#d8576b\"],[0.6666666666666666,\"#ed7953\"],[0.7777777777777778,\"#fb9f3a\"],[0.8888888888888888,\"#fdca26\"],[1.0,\"#f0f921\"]]}],\"heatmapgl\":[{\"type\":\"heatmapgl\",\"colorbar\":{\"outlinewidth\":0,\"ticks\":\"\"},\"colorscale\":[[0.0,\"#0d0887\"],[0.1111111111111111,\"#46039f\"],[0.2222222222222222,\"#7201a8\"],[0.3333333333333333,\"#9c179e\"],[0.4444444444444444,\"#bd3786\"],[0.5555555555555556,\"#d8576b\"],[0.6666666666666666,\"#ed7953\"],[0.7777777777777778,\"#fb9f3a\"],[0.8888888888888888,\"#fdca26\"],[1.0,\"#f0f921\"]]}],\"contourcarpet\":[{\"type\":\"contourcarpet\",\"colorbar\":{\"outlinewidth\":0,\"ticks\":\"\"}}],\"contour\":[{\"type\":\"contour\",\"colorbar\":{\"outlinewidth\":0,\"ticks\":\"\"},\"colorscale\":[[0.0,\"#0d0887\"],[0.1111111111111111,\"#46039f\"],[0.2222222222222222,\"#7201a8\"],[0.3333333333333333,\"#9c179e\"],[0.4444444444444444,\"#bd3786\"],[0.5555555555555556,\"#d8576b\"],[0.6666666666666666,\"#ed7953\"],[0.7777777777777778,\"#fb9f3a\"],[0.8888888888888888,\"#fdca26\"],[1.0,\"#f0f921\"]]}],\"surface\":[{\"type\":\"surface\",\"colorbar\":{\"outlinewidth\":0,\"ticks\":\"\"},\"colorscale\":[[0.0,\"#0d0887\"],[0.1111111111111111,\"#46039f\"],[0.2222222222222222,\"#7201a8\"],[0.3333333333333333,\"#9c179e\"],[0.4444444444444444,\"#bd3786\"],[0.5555555555555556,\"#d8576b\"],[0.6666666666666666,\"#ed7953\"],[0.7777777777777778,\"#fb9f3a\"],[0.8888888888888888,\"#fdca26\"],[1.0,\"#f0f921\"]]}],\"mesh3d\":[{\"type\":\"mesh3d\",\"colorbar\":{\"outlinewidth\":0,\"ticks\":\"\"}}],\"scatter\":[{\"marker\":{\"line\":{\"color\":\"#283442\"}},\"type\":\"scatter\"}],\"parcoords\":[{\"type\":\"parcoords\",\"line\":{\"colorbar\":{\"outlinewidth\":0,\"ticks\":\"\"}}}],\"scatterpolargl\":[{\"type\":\"scatterpolargl\",\"marker\":{\"colorbar\":{\"outlinewidth\":0,\"ticks\":\"\"}}}],\"bar\":[{\"error_x\":{\"color\":\"#f2f5fa\"},\"error_y\":{\"color\":\"#f2f5fa\"},\"marker\":{\"line\":{\"color\":\"rgb(17,17,17)\",\"width\":0.5},\"pattern\":{\"fillmode\":\"overlay\",\"size\":10,\"solidity\":0.2}},\"type\":\"bar\"}],\"scattergeo\":[{\"type\":\"scattergeo\",\"marker\":{\"colorbar\":{\"outlinewidth\":0,\"ticks\":\"\"}}}],\"scatterpolar\":[{\"type\":\"scatterpolar\",\"marker\":{\"colorbar\":{\"outlinewidth\":0,\"ticks\":\"\"}}}],\"histogram\":[{\"marker\":{\"pattern\":{\"fillmode\":\"overlay\",\"size\":10,\"solidity\":0.2}},\"type\":\"histogram\"}],\"scattergl\":[{\"marker\":{\"line\":{\"color\":\"#283442\"}},\"type\":\"scattergl\"}],\"scatter3d\":[{\"type\":\"scatter3d\",\"line\":{\"colorbar\":{\"outlinewidth\":0,\"ticks\":\"\"}},\"marker\":{\"colorbar\":{\"outlinewidth\":0,\"ticks\":\"\"}}}],\"scattermapbox\":[{\"type\":\"scattermapbox\",\"marker\":{\"colorbar\":{\"outlinewidth\":0,\"ticks\":\"\"}}}],\"scatterternary\":[{\"type\":\"scatterternary\",\"marker\":{\"colorbar\":{\"outlinewidth\":0,\"ticks\":\"\"}}}],\"scattercarpet\":[{\"type\":\"scattercarpet\",\"marker\":{\"colorbar\":{\"outlinewidth\":0,\"ticks\":\"\"}}}],\"carpet\":[{\"aaxis\":{\"endlinecolor\":\"#A2B1C6\",\"gridcolor\":\"#506784\",\"linecolor\":\"#506784\",\"minorgridcolor\":\"#506784\",\"startlinecolor\":\"#A2B1C6\"},\"baxis\":{\"endlinecolor\":\"#A2B1C6\",\"gridcolor\":\"#506784\",\"linecolor\":\"#506784\",\"minorgridcolor\":\"#506784\",\"startlinecolor\":\"#A2B1C6\"},\"type\":\"carpet\"}],\"table\":[{\"cells\":{\"fill\":{\"color\":\"#506784\"},\"line\":{\"color\":\"rgb(17,17,17)\"}},\"header\":{\"fill\":{\"color\":\"#2a3f5f\"},\"line\":{\"color\":\"rgb(17,17,17)\"}},\"type\":\"table\"}],\"barpolar\":[{\"marker\":{\"line\":{\"color\":\"rgb(17,17,17)\",\"width\":0.5},\"pattern\":{\"fillmode\":\"overlay\",\"size\":10,\"solidity\":0.2}},\"type\":\"barpolar\"}],\"pie\":[{\"automargin\":true,\"type\":\"pie\"}]},\"layout\":{\"autotypenumbers\":\"strict\",\"colorway\":[\"#636efa\",\"#EF553B\",\"#00cc96\",\"#ab63fa\",\"#FFA15A\",\"#19d3f3\",\"#FF6692\",\"#B6E880\",\"#FF97FF\",\"#FECB52\"],\"font\":{\"color\":\"#f2f5fa\"},\"hovermode\":\"closest\",\"hoverlabel\":{\"align\":\"left\"},\"paper_bgcolor\":\"rgb(17,17,17)\",\"plot_bgcolor\":\"rgb(17,17,17)\",\"polar\":{\"bgcolor\":\"rgb(17,17,17)\",\"angularaxis\":{\"gridcolor\":\"#506784\",\"linecolor\":\"#506784\",\"ticks\":\"\"},\"radialaxis\":{\"gridcolor\":\"#506784\",\"linecolor\":\"#506784\",\"ticks\":\"\"}},\"ternary\":{\"bgcolor\":\"rgb(17,17,17)\",\"aaxis\":{\"gridcolor\":\"#506784\",\"linecolor\":\"#506784\",\"ticks\":\"\"},\"baxis\":{\"gridcolor\":\"#506784\",\"linecolor\":\"#506784\",\"ticks\":\"\"},\"caxis\":{\"gridcolor\":\"#506784\",\"linecolor\":\"#506784\",\"ticks\":\"\"}},\"coloraxis\":{\"colorbar\":{\"outlinewidth\":0,\"ticks\":\"\"}},\"colorscale\":{\"sequential\":[[0.0,\"#0d0887\"],[0.1111111111111111,\"#46039f\"],[0.2222222222222222,\"#7201a8\"],[0.3333333333333333,\"#9c179e\"],[0.4444444444444444,\"#bd3786\"],[0.5555555555555556,\"#d8576b\"],[0.6666666666666666,\"#ed7953\"],[0.7777777777777778,\"#fb9f3a\"],[0.8888888888888888,\"#fdca26\"],[1.0,\"#f0f921\"]],\"sequentialminus\":[[0.0,\"#0d0887\"],[0.1111111111111111,\"#46039f\"],[0.2222222222222222,\"#7201a8\"],[0.3333333333333333,\"#9c179e\"],[0.4444444444444444,\"#bd3786\"],[0.5555555555555556,\"#d8576b\"],[0.6666666666666666,\"#ed7953\"],[0.7777777777777778,\"#fb9f3a\"],[0.8888888888888888,\"#fdca26\"],[1.0,\"#f0f921\"]],\"diverging\":[[0,\"#8e0152\"],[0.1,\"#c51b7d\"],[0.2,\"#de77ae\"],[0.3,\"#f1b6da\"],[0.4,\"#fde0ef\"],[0.5,\"#f7f7f7\"],[0.6,\"#e6f5d0\"],[0.7,\"#b8e186\"],[0.8,\"#7fbc41\"],[0.9,\"#4d9221\"],[1,\"#276419\"]]},\"xaxis\":{\"gridcolor\":\"#283442\",\"linecolor\":\"#506784\",\"ticks\":\"\",\"title\":{\"standoff\":15},\"zerolinecolor\":\"#283442\",\"automargin\":true,\"zerolinewidth\":2},\"yaxis\":{\"gridcolor\":\"#283442\",\"linecolor\":\"#506784\",\"ticks\":\"\",\"title\":{\"standoff\":15},\"zerolinecolor\":\"#283442\",\"automargin\":true,\"zerolinewidth\":2},\"scene\":{\"xaxis\":{\"backgroundcolor\":\"rgb(17,17,17)\",\"gridcolor\":\"#506784\",\"linecolor\":\"#506784\",\"showbackground\":true,\"ticks\":\"\",\"zerolinecolor\":\"#C8D4E3\",\"gridwidth\":2},\"yaxis\":{\"backgroundcolor\":\"rgb(17,17,17)\",\"gridcolor\":\"#506784\",\"linecolor\":\"#506784\",\"showbackground\":true,\"ticks\":\"\",\"zerolinecolor\":\"#C8D4E3\",\"gridwidth\":2},\"zaxis\":{\"backgroundcolor\":\"rgb(17,17,17)\",\"gridcolor\":\"#506784\",\"linecolor\":\"#506784\",\"showbackground\":true,\"ticks\":\"\",\"zerolinecolor\":\"#C8D4E3\",\"gridwidth\":2}},\"shapedefaults\":{\"line\":{\"color\":\"#f2f5fa\"}},\"annotationdefaults\":{\"arrowcolor\":\"#f2f5fa\",\"arrowhead\":0,\"arrowwidth\":1},\"geo\":{\"bgcolor\":\"rgb(17,17,17)\",\"landcolor\":\"rgb(17,17,17)\",\"subunitcolor\":\"#506784\",\"showland\":true,\"showlakes\":true,\"lakecolor\":\"rgb(17,17,17)\"},\"title\":{\"x\":0.05},\"updatemenudefaults\":{\"bgcolor\":\"#506784\",\"borderwidth\":0},\"sliderdefaults\":{\"bgcolor\":\"#C8D4E3\",\"borderwidth\":1,\"bordercolor\":\"rgb(17,17,17)\",\"tickwidth\":0},\"mapbox\":{\"style\":\"dark\"}}}},                        {\"responsive\": true}                    ).then(function(){\n                            \nvar gd = document.getElementById('38d342bf-339c-4bef-8798-4e3a39e086ee');\nvar x = new MutationObserver(function (mutations, observer) {{\n        var display = window.getComputedStyle(gd).display;\n        if (!display || display === 'none') {{\n            console.log([gd, 'removed!']);\n            Plotly.purge(gd);\n            observer.disconnect();\n        }}\n}});\n\n// Listen for the removal of the full notebook cells\nvar notebookContainer = gd.closest('#notebook-container');\nif (notebookContainer) {{\n    x.observe(notebookContainer, {childList: true});\n}}\n\n// Listen for the clearing of the current output cell\nvar outputEl = gd.closest('.output');\nif (outputEl) {{\n    x.observe(outputEl, {childList: true});\n}}\n\n                        })                };                });            </script>        </div>"
     },
     "metadata": {},
     "output_type": "display_data"
    },
    {
     "name": "stdout",
     "output_type": "stream",
     "text": [
      "Termination 0: ('C_P6/mmm_2', 'Ni_R-3m_1')\n"
     ]
    }
   ],
   "source": [
    "import plotly.graph_objs as go\n",
    "from collections import defaultdict\n",
    "\n",
    "PLOT_SETTINGS = {\n",
    "    \"HEIGHT\": 600,\n",
    "    \"X_SCALE\": \"log\",  # or linear\n",
    "    \"Y_SCALE\": \"log\",  # or linear\n",
    "}\n",
    "\n",
    "\n",
    "def plot_strain_vs_atoms(sorted_interfaces, terminations, settings):\n",
    "    # Create a mapping from termination to its index\n",
    "    termination_to_index = {termination: i for i, termination in enumerate(terminations)}\n",
    "\n",
    "    grouped_interfaces = defaultdict(list)\n",
    "    for termination, interfaces in sorted_interfaces.items():\n",
    "        for index, interface_data in enumerate(interfaces):\n",
    "            strain_percentage = interface_data[\"mean_abs_strain\"] * 100\n",
    "            num_sites = interface_data[\"interface\"].num_sites\n",
    "            key = (strain_percentage, num_sites)\n",
    "            grouped_interfaces[key].append((index, termination))\n",
    "\n",
    "    data = []\n",
    "    for (strain, num_sites), indices_and_terminations in grouped_interfaces.items():\n",
    "        termination_indices = defaultdict(list)\n",
    "        for index, termination in indices_and_terminations:\n",
    "            termination_indices[termination].append(index)\n",
    "        all_indices = [index for indices in termination_indices.values() for index in indices]\n",
    "        index_range = f\"{min(all_indices)}-{max(all_indices)}\" if len(all_indices) > 1 else str(min(all_indices))\n",
    "\n",
    "        hover_text = \"<br>-----<br>\".join(\n",
    "             f\"Termination: {termination}<br>Termination index: {termination_to_index[termination]}<br>Interfaces Index Range: {index_range}<br>Strain: {strain:.2f}%<br>Atoms: {num_sites}\"\n",
    "            for termination, indices in termination_indices.items()\n",
    "        )\n",
    "        trace = go.Scatter(\n",
    "            x=[strain],\n",
    "            y=[num_sites],\n",
    "            text=[hover_text],\n",
    "            mode=\"markers\",\n",
    "            hoverinfo=\"text\",\n",
    "            name=f\"Indices: {index_range}\",\n",
    "        )\n",
    "        data.append(trace)\n",
    "\n",
    "    layout = go.Layout(\n",
    "        xaxis=dict(title=\"Strain (%)\", type=settings[\"X_SCALE\"]),\n",
    "        yaxis=dict(title=\"Number of atoms\", type=settings[\"Y_SCALE\"]),\n",
    "        hovermode=\"closest\",\n",
    "        height=settings[\"HEIGHT\"],\n",
    "        legend_title_text=\"Interfaces Index Range\",\n",
    "    )\n",
    "    fig = go.Figure(data=data, layout=layout)\n",
    "    fig.show()\n",
    "\n",
    "\n",
    "\n",
    "plot_strain_vs_atoms(sorted_interfaces, terminations, PLOT_SETTINGS)\n",
    "\n",
    "for i, termination in enumerate(terminations):\n",
    "    print(f\"Termination {i}:\", termination)"
   ]
  },
  {
   "cell_type": "markdown",
   "metadata": {},
   "source": [
    "## 6. Select the interface with the desired termination and strain\n",
    "\n",
    "The data in `sorted_interfaces` now contains an object with the following structure:\n",
    "\n",
    "```json\n",
    "{\n",
    "    \"('C_P6/mmm_2', 'Si_R-3m_1')\": [\n",
    "        { ...interface for ('C_P6/mmm_2', 'Si_R-3m_1') at index 0...},\n",
    "        { ...interface for ('C_P6/mmm_2', 'Si_R-3m_1') at index 1...},\n",
    "        ...\n",
    "    ],\n",
    "    \"<termination at index 1>\": [\n",
    "        { ...interface for 'termination at index 1' at index 0...},\n",
    "        { ...interface for 'termination at index 1' at index 1...},\n",
    "        ...\n",
    "    ]\n",
    "}\n",
    "```\n",
    "\n",
    "Select the index for termination first, and for it - the index in the list of corresponding interfaces sorted by strain (index 0 has minimum strain).\n"
   ]
  },
  {
   "cell_type": "code",
   "execution_count": 38,
   "metadata": {
    "ExecuteTime": {
     "start_time": "2024-02-24T02:02:00.521349Z"
    }
   },
   "outputs": [],
   "source": [
    "termination_index = 0\n",
    "interface_index = 0\n",
    "\n",
    "termination = terminations[termination_index]\n",
    "\n",
    "interface = sorted_interfaces[termination][interface_index][\"interface\"]\n",
    "\n",
    "interface_strain = f\"{sorted_interfaces[termination][interface_index]['mean_abs_strain']*100:.2f}%\""
   ]
  },
  {
   "cell_type": "markdown",
   "metadata": {},
   "source": [
    "## 7. Apply relaxation to the interface\n",
    "\n",
    "### 7.1. Apply relaxation to the selected interface with ASE\n",
    "\n",
    "Optimizer is set from the available options in the settings and EMT is used as the energy calculator."
   ]
  },
  {
   "cell_type": "code",
   "execution_count": 39,
   "metadata": {
    "ExecuteTime": {
     "end_time": "2024-02-24T02:02:00.521979Z",
     "start_time": "2024-02-24T02:02:00.521589Z"
    }
   },
   "outputs": [
    {
     "ename": "AttributeError",
     "evalue": "'Atom' object has no attribute 'tags'",
     "output_type": "error",
     "traceback": [
      "\u001B[0;31m---------------------------------------------------------------------------\u001B[0m",
      "\u001B[0;31mAttributeError\u001B[0m                            Traceback (most recent call last)",
      "Cell \u001B[0;32mIn[39], line 12\u001B[0m\n\u001B[1;32m      9\u001B[0m \u001B[38;5;28;01mfrom\u001B[39;00m \u001B[38;5;21;01mase\u001B[39;00m\u001B[38;5;21;01m.\u001B[39;00m\u001B[38;5;21;01moptimize\u001B[39;00m \u001B[38;5;28;01mimport\u001B[39;00m BFGS, FIRE\n\u001B[1;32m     10\u001B[0m \u001B[38;5;28;01mfrom\u001B[39;00m \u001B[38;5;21;01mase\u001B[39;00m\u001B[38;5;21;01m.\u001B[39;00m\u001B[38;5;21;01mcalculators\u001B[39;00m\u001B[38;5;21;01m.\u001B[39;00m\u001B[38;5;21;01memt\u001B[39;00m \u001B[38;5;28;01mimport\u001B[39;00m EMT, parameters \u001B[38;5;28;01mas\u001B[39;00m EMT_parameters\n\u001B[0;32m---> 12\u001B[0m ase_original_interface \u001B[38;5;241m=\u001B[39m \u001B[43mpymatgen_to_ase\u001B[49m\u001B[43m(\u001B[49m\u001B[43minterface\u001B[49m\u001B[43m)\u001B[49m\n\u001B[1;32m     14\u001B[0m \u001B[38;5;66;03m# Callback function to update the graph\u001B[39;00m\n\u001B[1;32m     15\u001B[0m \u001B[38;5;28;01mdef\u001B[39;00m \u001B[38;5;21mupdate_graph\u001B[39m(dyn):\n",
      "File \u001B[0;32m~/code/GREEN/api-examples/other/materials_designer/src/utils.py:157\u001B[0m, in \u001B[0;36mpymatgen_to_ase\u001B[0;34m(structure)\u001B[0m\n\u001B[1;32m    145\u001B[0m \u001B[38;5;250m\u001B[39m\u001B[38;5;124;03m\"\"\"\u001B[39;00m\n\u001B[1;32m    146\u001B[0m \u001B[38;5;124;03mConverts a Pymatgen Structure object to an ASE Atoms object,\u001B[39;00m\n\u001B[1;32m    147\u001B[0m \u001B[38;5;124;03mtransferring the 'interface_label' property to the ASE atom tags.\u001B[39;00m\n\u001B[0;32m   (...)\u001B[0m\n\u001B[1;32m    153\u001B[0m \u001B[38;5;124;03m    Atoms: The resulting ASE Atoms object with 'interface_label' as tags.\u001B[39;00m\n\u001B[1;32m    154\u001B[0m \u001B[38;5;124;03m\"\"\"\u001B[39;00m\n\u001B[1;32m    155\u001B[0m \u001B[38;5;66;03m# Define a mapping from string labels to integer tags\u001B[39;00m\n\u001B[1;32m    156\u001B[0m label_to_tag \u001B[38;5;241m=\u001B[39m {\n\u001B[0;32m--> 157\u001B[0m     \u001B[38;5;124m\"\u001B[39m\u001B[38;5;124msubstrate\u001B[39m\u001B[38;5;124m\"\u001B[39m: \u001B[38;5;241m0\u001B[39m,\n\u001B[1;32m    158\u001B[0m     \u001B[38;5;124m\"\u001B[39m\u001B[38;5;124mfilm\u001B[39m\u001B[38;5;124m\"\u001B[39m: \u001B[38;5;241m1\u001B[39m,\n\u001B[1;32m    159\u001B[0m }\n\u001B[1;32m    161\u001B[0m adaptor \u001B[38;5;241m=\u001B[39m AseAtomsAdaptor()\n\u001B[1;32m    162\u001B[0m atoms \u001B[38;5;241m=\u001B[39m adaptor\u001B[38;5;241m.\u001B[39mget_atoms(structure)\n",
      "\u001B[0;31mAttributeError\u001B[0m: 'Atom' object has no attribute 'tags'"
     ]
    }
   ],
   "source": [
    "import logging\n",
    "\n",
    "import plotly.graph_objs as go\n",
    "from IPython.display import display\n",
    "from plotly.subplots import make_subplots\n",
    "\n",
    "# Per https://github.com/materialsvirtuallab/matgl/blob/main/examples/Relaxations%20and%20Simulations%20using%20the%20M3GNet%20Universal%20Potential.ipynb\n",
    "from src.utils import poscar_to_ase, ase_to_poscar, ase_to_pymatgen, pymatgen_to_ase\n",
    "from ase.optimize import BFGS, FIRE\n",
    "from ase.calculators.emt import EMT, parameters as EMT_parameters\n",
    "\n",
    "ase_original_interface = pymatgen_to_ase(interface)\n",
    "\n",
    "# Create a plotly figure widget to display energy convergence\n",
    "fig = make_subplots(rows=1, cols=1, specs=[[{\"type\": \"scatter\"}]])\n",
    "scatter = go.Scatter(x=[], y=[], mode='lines+markers', name='Energy')\n",
    "fig.add_trace(scatter)\n",
    "fig.update_layout(title_text='Real-time Optimization Progress', xaxis_title='Step', yaxis_title='Energy (eV)')\n",
    "# Display figure widget\n",
    "f = go.FigureWidget(fig)\n",
    "display(f)\n",
    "    \n",
    "# Define a callback function to update the plot at each step\n",
    "def plotly_callback():\n",
    "    step = dyn.nsteps\n",
    "    energy = ase_interface.get_total_energy()\n",
    "\n",
    "    # Add the new step and energy to the lists\n",
    "    steps.append(step)\n",
    "    energies.append(energy)\n",
    "\n",
    "    print(f\"Step: {step}, Energy: {energy:.4f} eV\")\n",
    "\n",
    "    # Update the figure with the new data\n",
    "    with f.batch_update():\n",
    "        f.data[0].x = steps\n",
    "        f.data[0].y = energies\n",
    "\n",
    "\n",
    "# check if EMT potential is available for every element in the interface\n",
    "emt_elements = EMT_parameters.keys()\n",
    "unique_elements = set(site.species_string for site in interface.sites)\n",
    "if unique_elements.issubset(emt_elements):\n",
    "    # select optimizer based on the setup parameters\n",
    "    optimizer = {\"BFGS\": BFGS, \"FIRE\": FIRE}[RELAXATION_PARAMETERS[\"OPTIMIZER\"]]\n",
    "    \n",
    "    # relax the interface in place\n",
    "    ase_interface = ase_original_interface.copy()\n",
    "    ase_interface.set_calculator(EMT())\n",
    "    dyn = optimizer(ase_interface)\n",
    "    steps = []\n",
    "    energies = []\n",
    "    \n",
    "    \n",
    "    dyn.attach(plotly_callback, interval=1)\n",
    "    dyn.run(fmax=RELAXATION_PARAMETERS[\"FMAX\"])\n",
    "    \n",
    "    # extract results\n",
    "    ase_final_interface = ase_interface\n",
    "    name_relaxation_suffix = f\"Relaxed {RELAXATION_PARAMETERS['OPTIMIZER']} fmax={RELAXATION_PARAMETERS['FMAX']}\"\n",
    "    relaxed_energy = ase_interface.get_total_energy()\n",
    "    \n",
    "    # print out the final relaxed structure and energy\n",
    "    print('Original structure:\\n', ase_to_poscar(ase_original_interface))\n",
    "    print('\\nRelaxed structure:\\n', ase_to_poscar(ase_final_interface))\n",
    "    print(f\"The final energy is {float(relaxed_energy):.3f} eV.\")\n",
    "    \n",
    "else :\n",
    "    logging.warning(f\"The EMT potential is not implemented for the following elements in the interface: {unique_elements - emt_elements}.\\nList of supported elements: {list(emt_elements)}.\")\n",
    "    ase_final_interface = ase_original_interface\n",
    "    name_relaxation_suffix = \"Non-relaxed\"\n",
    "    "
   ]
  },
  {
   "cell_type": "markdown",
   "metadata": {},
   "source": [
    "### 7.2. View structure before and after relaxation\n"
   ]
  },
  {
   "cell_type": "code",
   "execution_count": null,
   "metadata": {
    "ExecuteTime": {
     "start_time": "2024-02-24T02:02:00.521842Z"
    }
   },
   "outputs": [],
   "source": [
    "import base64\n",
    "from ase.io import write\n",
    "from ase.build import make_supercell\n",
    "from IPython.display import HTML\n",
    "import io\n",
    "from src.utils import calculate_average_interlayer_distance\n",
    "\n",
    "def visualize_material_base64(material, title: str, rotation: str = '0x', number_of_repetitions: int = 3):\n",
    "    \"\"\"\n",
    "    Returns an HTML string with a Base64-encoded image for visualization,\n",
    "    including the name of the file, positioned horizontally.\n",
    "    \"\"\"\n",
    "    # Set the number of unit cell repetition for the structure\n",
    "    n = number_of_repetitions\n",
    "    material_repeat = make_supercell(material, [[n,0,0],[0,n,0],[0,0,1]])\n",
    "    text = f\"{material.symbols} - {title}\"\n",
    "    \n",
    "    # Write image to a buffer to display in HTML\n",
    "    buf = io.BytesIO()\n",
    "    write(buf, material_repeat, format='png', rotation=rotation)\n",
    "    buf.seek(0)\n",
    "    img_str = base64.b64encode(buf.read()).decode('utf-8')\n",
    "    html_str = f'''\n",
    "    <div style=\"display: inline-block; margin: 10px; vertical-align: top;\">\n",
    "        <p>{text}</p>\n",
    "        <img src=\"data:image/png;base64,{img_str}\" alt=\"{title}\" />\n",
    "    </div>\n",
    "    '''\n",
    "    return html_str\n",
    "\n",
    "html_original = visualize_material_base64(ase_original_interface, \"original\", \"-90x\")\n",
    "html_relaxed = visualize_material_base64(ase_final_interface, \"relaxed\", \"-90x\")\n",
    "\n",
    "# Display the interfaces before and after relaxation\n",
    "html_content = f'<div style=\"display: flex;\">{html_original}{html_relaxed}</div>'\n",
    "display(HTML(html_content))\n",
    "\n",
    "# Calculate the average interlayer distance\n",
    "average_distance = calculate_average_interlayer_distance(ase_final_interface, SUBSTRATE_PARAMETERS[\"MATERIAL_INDEX\"], LAYER_PARAMETERS[\"MATERIAL_INDEX\"])\n",
    "print(\"Interfacial distance:\")\n",
    "print(f\"     Original: {INTERFACE_PARAMETERS['DISTANCE_Z']:.3f} Å\")\n",
    "print(f\"Final average: {average_distance:.3f} Å\")\n",
    "print(f\"        Delta: {average_distance - INTERFACE_PARAMETERS['DISTANCE_Z']:.3f} Å\")"
   ]
  },
  {
   "cell_type": "markdown",
   "metadata": {},
   "source": [
    "### 8. Pass relaxed interface to Materials Designer\n",
    "Optionally, you can pass original interface as well."
   ]
  },
  {
   "cell_type": "code",
   "execution_count": null,
   "metadata": {
    "ExecuteTime": {
     "start_time": "2024-02-24T02:02:00.521977Z"
    }
   },
   "outputs": [],
   "source": [
    "from jupyterlite.utils import set_data\n",
    "from src.utils import from_pymatgen\n",
    "\n",
    "esse_final_interface = from_pymatgen(ase_to_pymatgen(ase_final_interface))\n",
    "esse_final_interface['name'] = f\"{esse_final_interface['name']}, Interface, Strain: {interface_strain}, {name_relaxation_suffix}\"\n",
    "\n",
    "materials_out = [esse_final_interface]\n",
    "set_data(\"materials\", materials_out)"
   ]
  },
  {
   "cell_type": "markdown",
   "source": [
    "## References\n",
    "\n",
    "[1] https://www.nature.com/articles/srep23439 Graphene/Au(111) and Graphene/Ag(111) interfaces, interfacial distance: 3.23 A and 3.13 A respectively\n",
    "\n",
    "[2] https://pubs.rsc.org/en/content/articlelanding/2014/nr/c3nr05279f Graphene-nickel interfaces, interfacial distance: 2.1 A"
   ],
   "metadata": {
    "collapsed": false
   }
  }
 ],
 "metadata": {
  "kernelspec": {
   "display_name": ".venv",
   "language": "python",
   "name": "python3"
  },
  "language_info": {
   "codemirror_mode": {
    "name": "ipython",
    "version": 3
   },
   "file_extension": ".py",
   "mimetype": "text/x-python",
   "name": "python",
   "nbconvert_exporter": "python",
   "pygments_lexer": "ipython3",
   "version": "3.10.12"
  },
  "widgets": {
   "application/vnd.jupyter.widget-state+json": {
    "state": {},
    "version_major": 2,
    "version_minor": 0
   }
  }
 },
 "nbformat": 4,
 "nbformat_minor": 4
}
