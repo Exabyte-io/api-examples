{
 "cells": [
  {
   "cell_type": "markdown",
   "source": [
    "# Create a point defect pair in a bulk material\n",
    "\n",
    "Create a pair of point defects: substitution, vacancy, or interstitial in a bulk material.\n",
    "\n",
    "<h2 style=\"color:green\">Usage</h2>\n",
    "\n",
    "1. Make sure to select Input Materials (in the outer runtime) before running the notebook. \n",
    "1. Set notebook parameters in cell 1.1. below (or use the default values) -- to create multiple defects, fill `DEFECT_CONFIGS` with a list of dictionaries. \n",
    "1. Click “Run” > “Run All” to run all cells. \n",
    "1. Scroll down to view results. \n",
    "\n",
    "## Notes\n",
    "\n",
    "1. For more information, see [Introduction](Introduction.ipynb)\n",
    "<!-- # TODO: use a hashtag-based anchor link to interface creation documention above -->\n"
   ],
   "metadata": {
    "collapsed": false
   },
   "id": "f2e1e795020d7b3f"
  },
  {
   "cell_type": "markdown",
   "source": [
    "## 1. Prepare the Environment\n",
    "### 1.1. Set up defects parameters \n",
    "Defect Configuration parameters are described in [Defect Configuration](https://github.com/Exabyte-io/made/blob/8196b759242551c77d1791bf5bd2f4150763cfef/src/py/mat3ra/made/tools/build/defect/configuration.py#L102)."
   ],
   "metadata": {
    "collapsed": false
   },
   "id": "5e43ff288847b784"
  },
  {
   "metadata": {},
   "cell_type": "code",
   "source": [
    "from types import SimpleNamespace\n",
    "\n",
    "# Selected material will be used as a unit cell to create a supercell first.\n",
    "SUPERCELL_MATRIX = [[3, 0, 0], [0, 3, 0], [0, 0, 3]]\n",
    "\n",
    "# List of dictionaries with defect parameters\n",
    "PRIMARY_DEFECT_CONFIG = SimpleNamespace(\n",
    "    defect_type=\"vacancy\",\n",
    "    coordinate=[0.5, 0.5, 0.5],  # Approx. coord that will be resolved to the closest site\n",
    "    use_cartesian_coordinates=False,  # Use cartesian or crystal coordinates\n",
    "    # \"site_id\": 0, # Index of the atom in the host material\n",
    "    # \"coordinate\": None, # Exact position (override the approximate coordinate)\n",
    ")\n",
    "\n",
    "SECONDARY_DEFECT_CONFIG = SimpleNamespace(\n",
    "    defect_type=\"substitution\",\n",
    "    approximate_coordinate=[0.15, 0.15, 0.15],  # Approx. coord that will be resolved to the closest site\n",
    "    chemical_element=\"C\",  # Element to substitute\n",
    "    # \"site_id\": 0, # Index of the atom in the host material\n",
    "    # \"coordinate\": None, # Exact position (override the approximate coordinate)\n",
    ")"
   ],
   "id": "71f275fbc0163e6f",
   "outputs": [],
   "execution_count": null
  },
  {
   "metadata": {},
   "cell_type": "markdown",
   "source": [
    "### 1.2. Install Packages\n",
    "The step executes only in Pyodide environment. For other environments, the packages should be installed via `pip install` (see [README](../../README.ipynb))."
   ],
   "id": "709d92aa693bd65f"
  },
  {
   "metadata": {},
   "cell_type": "code",
   "source": [
    "import sys\n",
    "\n",
    "if sys.platform == \"emscripten\":\n",
    "    import micropip\n",
    "\n",
    "    await micropip.install(\"mat3ra-api-examples\", deps=False)\n",
    "    await micropip.install('mat3ra-utils')\n",
    "    from mat3ra.utils.jupyterlite.packages import install_packages\n",
    "\n",
    "    await install_packages(\"\")"
   ],
   "id": "d499bc9a7f6855f7",
   "outputs": [],
   "execution_count": null
  },
  {
   "cell_type": "markdown",
   "source": [
    "### 1.3. Get input materials\n",
    "Materials are loaded with `get_materials()`."
   ],
   "metadata": {
    "collapsed": false
   },
   "id": "919ad7af8dceeedd"
  },
  {
   "cell_type": "code",
   "source": [
    "from utils.jupyterlite import get_materials\n",
    "\n",
    "materials = get_materials(globals())"
   ],
   "metadata": {
    "collapsed": false
   },
   "id": "be38fdda1984c654",
   "outputs": [],
   "execution_count": null
  },
  {
   "cell_type": "markdown",
   "source": [
    "### 1.4. Create and preview Supercell"
   ],
   "metadata": {
    "collapsed": false
   },
   "id": "a132fe0ef8bbf0d0"
  },
  {
   "cell_type": "code",
   "source": [
    "from utils.visualize import visualize_materials as visualize\n",
    "from mat3ra.made.tools.build.supercell import create_supercell\n",
    "\n",
    "unit_cell = materials[0]\n",
    "supercell = create_supercell(unit_cell, supercell_matrix=SUPERCELL_MATRIX)\n",
    "visualize(supercell, repetitions=[1, 1, 1], rotation=\"0x\")"
   ],
   "metadata": {
    "collapsed": false
   },
   "id": "e2d24109d3068c9e",
   "outputs": [],
   "execution_count": null
  },
  {
   "cell_type": "markdown",
   "source": [
    "## 2. Create the Defect\n",
    "### 2.1. Initialize Configuration and Builder parameters"
   ],
   "metadata": {
    "collapsed": false
   },
   "id": "5da5b0380583c952"
  },
  {
   "metadata": {},
   "cell_type": "code",
   "source": [
    "from mat3ra.made.tools.build.defect.pair_defect.helpers import create_pair_defect\n",
    "\n",
    "material_with_defect = create_pair_defect(\n",
    "    material=supercell,\n",
    "    defect_type_1=PRIMARY_DEFECT_CONFIG.defect_type,\n",
    "    coordinate_1=PRIMARY_DEFECT_CONFIG.coordinate,\n",
    "    element_1=PRIMARY_DEFECT_CONFIG.chemical_element if hasattr(PRIMARY_DEFECT_CONFIG, \"chemical_element\") else None,\n",
    "    placement_method_1=PRIMARY_DEFECT_CONFIG.placement_method if hasattr(PRIMARY_DEFECT_CONFIG,\n",
    "                                                                         'placement_method') else None,\n",
    "    defect_type_2=SECONDARY_DEFECT_CONFIG.defect_type,\n",
    "    coordinate_2=SECONDARY_DEFECT_CONFIG.approximate_coordinate,\n",
    "    element_2=SECONDARY_DEFECT_CONFIG.chemical_element if hasattr(SECONDARY_DEFECT_CONFIG,\n",
    "                                                                  \"chemical_element\") else None,\n",
    "    placement_method_2=SECONDARY_DEFECT_CONFIG.placement_method if hasattr(SECONDARY_DEFECT_CONFIG,\n",
    "                                                                           'placement_method') else None,\n",
    ")"
   ],
   "id": "c4f50fb621da6474",
   "outputs": [],
   "execution_count": null
  },
  {
   "metadata": {},
   "cell_type": "markdown",
   "source": "## 3. Visualize Result(s)",
   "id": "ae5f5d5e9be9113"
  },
  {
   "metadata": {},
   "cell_type": "code",
   "source": [
    "from utils.visualize import visualize_materials as visualize\n",
    "\n",
    "visualize([{\"material\": supercell, \"title\": \"Original material\"},\n",
    "           {\"material\": material_with_defect, \"title\": f\"Material with defect\"}],\n",
    "          rotation=\"-90x\")\n",
    "visualize([{\"material\": supercell, \"title\": \"Original material\"},\n",
    "           {\"material\": material_with_defect, \"title\": f\"Material with defect\"}])"
   ],
   "id": "8308ef3260816859",
   "outputs": [],
   "execution_count": null
  },
  {
   "cell_type": "markdown",
   "source": [
    "## 4. Pass data to the outside runtime"
   ],
   "metadata": {
    "collapsed": false
   },
   "id": "d381df29a6bbdd82"
  },
  {
   "cell_type": "code",
   "source": [
    "from utils.jupyterlite import set_materials\n",
    "\n",
    "set_materials([material_with_defect])"
   ],
   "metadata": {
    "collapsed": false
   },
   "id": "61daa5afcbc078a9",
   "outputs": [],
   "execution_count": null
  }
 ],
 "metadata": {
  "kernelspec": {
   "display_name": "Python 3",
   "language": "python",
   "name": "python3"
  },
  "language_info": {
   "codemirror_mode": {
    "name": "ipython",
    "version": 2
   },
   "file_extension": ".py",
   "mimetype": "text/x-python",
   "name": "python",
   "nbconvert_exporter": "python",
   "pygments_lexer": "ipython2",
   "version": "2.7.6"
  }
 },
 "nbformat": 4,
 "nbformat_minor": 5
}
