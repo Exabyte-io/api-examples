{
 "cells": [
  {
   "metadata": {},
   "cell_type": "markdown",
   "source": [
    "# Batch GIF Processing Notebook\n",
    "\n",
    "This notebook provides functionality to:\n",
    "1. Process multiple GIFs from an input folder\n",
    "2. Resize all GIFs to specified square dimensions\n",
    "3. Add text overlay with the GIF filename and standard text\n",
    "4. Add logo overlay at selected positions\n",
    "5. Compress the resulting GIFs\n",
    "\n",
    "# Usage\n",
    "- Place your GIFs in the `input` directory, or keep them at the root of the `api-examples` folder if they were downloaded with `record_gifs_with_wave.ipynb`.\n",
    "- Run All Cells to process the GIFs and save the results in the `output` directory.\n",
    "- You can select available fonts for text overlays by running the `font_manager.list_fonts()` command in the 3.2. cell and setting `FONT_NAME` to one of the listed fonts.\n",
    "- If you wish to use LLM to generate descriptions for the GIFs, install `ollama` and ensure the service is running and the model is pulled.\n",
    "- Descriptions will be saved in `descriptions.txt` in the current working directory.\n",
    "- You can customize the logo, text overlays, and GIF quality settings in the respective sections of the notebook.\n"
   ],
   "id": "28f8a295c4c03fa5"
  },
  {
   "metadata": {},
   "cell_type": "markdown",
   "source": "## 1. Input/Output Settings",
   "id": "c4119fd75a2937e5"
  },
  {
   "metadata": {
    "ExecuteTime": {
     "end_time": "2025-03-24T20:32:00.323804Z",
     "start_time": "2025-03-24T20:32:00.321154Z"
    }
   },
   "cell_type": "code",
   "source": [
    "# Directory settings\n",
    "INPUT_DIR = \"input\"\n",
    "OUTPUT_DIR = \"output\"\n",
    "ASSETS_DIR = \"assets\"\n",
    "\n",
    "# GIF Settings\n",
    "GIF_SIZE = 600  # Size for square output\n",
    "QUALITY = 30  # GIF quality (1-100)\n",
    "\n",
    "# Logo Settings\n",
    "LOGO_FILE = \"logo.png\"  # Place your logo in files/assets/\n",
    "LOGO_POSITION = (15, 10)\n",
    "\n",
    "# Text Overlay Settings\n",
    "FONT_SIZE = 16\n",
    "TEXT_COLOR = (255, 255, 255)\n",
    "STROKE_COLOR = (0, 0, 0)\n",
    "FONT_NAME = \"lucida-grande\"  # Use `font_manager.list_fonts()` below in 3.2. to see available fonts\n",
    "\n",
    "TEXT_2 = \"Available in our materials bank\""
   ],
   "id": "ff83c26628e7ec46",
   "outputs": [],
   "execution_count": 4
  },
  {
   "metadata": {},
   "cell_type": "markdown",
   "source": "## 2. Utility Functions",
   "id": "96b41f843ed53919"
  },
  {
   "metadata": {
    "ExecuteTime": {
     "end_time": "2025-03-24T20:32:00.332203Z",
     "start_time": "2025-03-24T20:32:00.327940Z"
    }
   },
   "cell_type": "code",
   "source": [
    "import os\n",
    "import shutil\n",
    "import re\n",
    "\n",
    "\n",
    "def copy_and_clean_gifs(source_folder, target_folder=\"input\"):\n",
    "    \"\"\"\n",
    "    Copy GIF files from source folder to target folder,\n",
    "    removing numbered duplicates (e.g., removes 'xxx1.gif' if 'xxx.gif' exists)\n",
    "\n",
    "    Args:\n",
    "        source_folder (str): Path to source folder containing GIFs\n",
    "        target_folder (str): Path to target folder (defaults to 'input')\n",
    "    \"\"\"\n",
    "\n",
    "    # Ensure target folder exists\n",
    "    os.makedirs(target_folder, exist_ok=True)\n",
    "\n",
    "    # Get all GIF files from source\n",
    "    gif_files = [f for f in os.listdir(source_folder) if f.lower().endswith('.gif')]\n",
    "\n",
    "    # Dictionary to store base names and their variations\n",
    "    file_groups = {}\n",
    "\n",
    "    # Group files by their base names\n",
    "    for file in gif_files:\n",
    "        # Remove .gif extension\n",
    "        base = file[:-4]\n",
    "        # Check if the filename ends with a number\n",
    "        match = re.match(r'(.*?)\\d+$', base)\n",
    "\n",
    "        if match:\n",
    "            # If it has a number, use the part before the number as key\n",
    "            key = match.group(1).rstrip()\n",
    "        else:\n",
    "            # If no number, use the whole base as key\n",
    "            key = base\n",
    "\n",
    "        if key not in file_groups:\n",
    "            file_groups[key] = []\n",
    "        file_groups[key].append(file)\n",
    "\n",
    "    # Copy files, skipping numbered versions if base version exists\n",
    "    copied_count = 0\n",
    "    skipped_count = 0\n",
    "\n",
    "    for base_name, variations in file_groups.items():\n",
    "        # Sort variations to ensure base version (without number) comes first if it exists\n",
    "        variations.sort(key=lambda x: (len(x), x))\n",
    "\n",
    "        # Copy the first variation (usually the base version)\n",
    "        source_path = os.path.join(source_folder, variations[0])\n",
    "        target_path = os.path.join(target_folder, variations[0])\n",
    "        shutil.copy2(source_path, target_path)\n",
    "        copied_count += 1\n",
    "\n",
    "        # Count skipped variations\n",
    "        skipped_count += len(variations) - 1\n",
    "\n",
    "    print(f\"Copied {copied_count} files\")\n",
    "    if skipped_count > 0:\n",
    "        print(f\"Skipped {skipped_count} numbered variations\")\n",
    "\n",
    "# Example usage:\n",
    "# copy_and_clean_gifs(\"/path/to/source/folder\")\n",
    "# Or with custom target: copy_and_clean_gifs(\"/path/to/source\", \"custom_input\")"
   ],
   "id": "beafdf7911dee370",
   "outputs": [],
   "execution_count": 5
  },
  {
   "metadata": {},
   "cell_type": "markdown",
   "source": "## 2.1. Copy and Clean GIFs",
   "id": "839f510115d46896"
  },
  {
   "metadata": {
    "ExecuteTime": {
     "end_time": "2025-03-24T20:32:00.342115Z",
     "start_time": "2025-03-24T20:32:00.338703Z"
    }
   },
   "cell_type": "code",
   "source": [
    "import json\n",
    "\n",
    "# GIFs generated by `record_gifs_with_wave.ipynb` are downloaded to the root of `api-examples`\n",
    "# They need to be copied to input directory and pruned from duplications due to possible bugs.\n",
    "current_dir = os.getcwd()\n",
    "print(current_dir)\n",
    "parent_dir = os.path.abspath(os.path.join(os.getcwd(), os.pardir, os.pardir))\n",
    "print(parent_dir)\n",
    "copy_and_clean_gifs(parent_dir, INPUT_DIR)\n",
    "\n",
    "# Some symbols needed to be encoded and decoded\n",
    "# Load the symbols from the JSON file\n",
    "with open('symbols_map.json', 'r') as file:\n",
    "    symbols = json.load(file)\n",
    "\n",
    "# Extract the \"OVER\" symbol\n",
    "SLASH_SYMBOL = symbols[\"/\"]\n",
    "\n",
    "# Create directories if they don't exist\n",
    "for directory in [INPUT_DIR, OUTPUT_DIR, ASSETS_DIR]:\n",
    "    os.makedirs(directory, exist_ok=True)"
   ],
   "id": "4ac1cc7071a612a2",
   "outputs": [
    {
     "name": "stdout",
     "output_type": "stream",
     "text": [
      "/Users/mat3ra/code/RED/api-examples/other/media_generation\n",
      "/Users/mat3ra/code/RED/api-examples\n",
      "Copied 0 files\n"
     ]
    }
   ],
   "execution_count": 6
  },
  {
   "metadata": {},
   "cell_type": "markdown",
   "source": "## 2.2. List fonts",
   "id": "57108e5b06ef8cce"
  },
  {
   "metadata": {
    "ExecuteTime": {
     "end_time": "2025-03-24T20:32:01.300296Z",
     "start_time": "2025-03-24T20:32:00.354424Z"
    }
   },
   "cell_type": "code",
   "source": [
    "from other.media_generation.utils.font_manager import FontManager\n",
    "\n",
    "# Initialize font manager and list available fonts\n",
    "font_manager = FontManager()\n",
    "print(\"Available fonts:\")\n",
    "# print(font_manager.list_fonts())\n"
   ],
   "id": "77d8a123f4796db9",
   "outputs": [
    {
     "name": "stdout",
     "output_type": "stream",
     "text": [
      "Available fonts:\n"
     ]
    }
   ],
   "execution_count": 7
  },
  {
   "metadata": {},
   "cell_type": "markdown",
   "source": "## 2.3. Define Text Overlays",
   "id": "6758710ce94551ef"
  },
  {
   "metadata": {
    "ExecuteTime": {
     "end_time": "2025-03-24T20:32:01.308269Z",
     "start_time": "2025-03-24T20:32:01.305732Z"
    }
   },
   "cell_type": "code",
   "source": [
    "def create_text_overlays(filename):\n",
    "    \"\"\"Create text overlays using the GIF filename as text_1\"\"\"\n",
    "    # Clean up filename by removing extension and replacing underscores/hyphens with spaces\n",
    "    clean_name = os.path.splitext(filename)[0].replace(SLASH_SYMBOL, \"/\")\n",
    "\n",
    "    return [\n",
    "        {\n",
    "            \"text\": clean_name,\n",
    "            \"position\": (10, GIF_SIZE - 10 - FONT_SIZE),  # Bottom left\n",
    "            \"font\": FONT_NAME,\n",
    "            \"color\": TEXT_COLOR,\n",
    "            \"stroke_width\": 2,\n",
    "            \"stroke_fill\": STROKE_COLOR\n",
    "        },\n",
    "        {\n",
    "            \"text\": TEXT_2,\n",
    "            \"position\": (GIF_SIZE // 2 + 50, GIF_SIZE - 10 - FONT_SIZE),  # Bottom right\n",
    "            \"font\": FONT_NAME,\n",
    "            \"color\": TEXT_COLOR,\n",
    "            \"stroke_width\": 2,\n",
    "            \"stroke_fill\": STROKE_COLOR\n",
    "        }\n",
    "    ]\n"
   ],
   "id": "4340871c4e59cc92",
   "outputs": [],
   "execution_count": 8
  },
  {
   "metadata": {},
   "cell_type": "markdown",
   "source": "## 3. Process All GIFs",
   "id": "348711dac2da3b96"
  },
  {
   "metadata": {
    "ExecuteTime": {
     "end_time": "2025-03-24T20:32:09.748392Z",
     "start_time": "2025-03-24T20:32:01.318342Z"
    }
   },
   "cell_type": "code",
   "source": [
    "from other.media_generation.utils.gif_processor import GIFProcessor\n",
    "\n",
    "\n",
    "def process_all_gifs():\n",
    "    \"\"\"Process all GIFs in the input directory\"\"\"\n",
    "    # Get logo path\n",
    "    logo_path = os.path.join(ASSETS_DIR, LOGO_FILE)\n",
    "    if not os.path.exists(logo_path):\n",
    "        print(f\"Warning: Logo file not found at {logo_path}\")\n",
    "        return\n",
    "\n",
    "    # Get all GIF files from input directory\n",
    "    gif_files = [f for f in os.listdir(INPUT_DIR) if f.lower().endswith('.gif')]\n",
    "\n",
    "    if not gif_files:\n",
    "        print(\"No GIF files found in input directory\")\n",
    "        return\n",
    "\n",
    "    print(f\"Found {len(gif_files)} GIF files to process\")\n",
    "\n",
    "    # Process each GIF\n",
    "    for gif_file in gif_files:\n",
    "        try:\n",
    "            print(f\"\\nProcessing: {gif_file}\")\n",
    "\n",
    "            input_path = os.path.join(INPUT_DIR, gif_file)\n",
    "            output_path = os.path.join(OUTPUT_DIR, f\"{gif_file}\")\n",
    "\n",
    "            # Create GIF processor\n",
    "            gif_processor = GIFProcessor(input_path)\n",
    "\n",
    "            # Make square and resize\n",
    "            gif_processor.make_square(size=GIF_SIZE)\n",
    "\n",
    "            # Add text overlays\n",
    "            text_overlays = create_text_overlays(gif_file)\n",
    "            for overlay in text_overlays:\n",
    "                gif_processor.add_text(\n",
    "                    text=overlay[\"text\"],\n",
    "                    position=overlay[\"position\"],\n",
    "                    font_path=overlay[\"font\"],\n",
    "                    font_size=FONT_SIZE,\n",
    "                    color=overlay[\"color\"],\n",
    "                    stroke_width=overlay[\"stroke_width\"],\n",
    "                    stroke_fill=overlay[\"stroke_fill\"]\n",
    "                )\n",
    "\n",
    "            # Add logo\n",
    "            gif_processor.add_image_overlay(logo_path, position=LOGO_POSITION)\n",
    "\n",
    "            # Optimize and save\n",
    "            gif_processor.optimize(quality=QUALITY)\n",
    "            gif_processor.save(output_path, optimize=False, quality=QUALITY)\n",
    "\n",
    "            filename = text_overlays[0][\"text\"]\n",
    "            print(f\"Filename: {filename}\")\n",
    "            print(f\"Successfully processed: {gif_file}\")\n",
    "\n",
    "        except Exception as e:\n",
    "            print(f\"Error processing {gif_file}: {str(e)}\")\n",
    "            continue\n",
    "\n",
    "\n",
    "# Run the batch processing\n",
    "process_all_gifs()"
   ],
   "id": "228b136f3a8379d4",
   "outputs": [
    {
     "name": "stdout",
     "output_type": "stream",
     "text": [
      "Found 3 GIF files to process\n",
      "\n",
      "Processing: Diamond, N-Substitution.gif\n",
      "Size on disk: 4.71 MB\n",
      "Filename: Diamond, N-Substitution\n",
      "Successfully processed: Diamond, N-Substitution.gif\n",
      "\n",
      "Processing: Ni, Co-Substitution and Vacancy.gif\n",
      "Size on disk: 2.55 MB\n",
      "Filename: Ni, Co-Substitution and Vacancy\n",
      "Successfully processed: Ni, Co-Substitution and Vacancy.gif\n",
      "\n",
      "Processing: GaAs, Be-Substitution.gif\n"
     ]
    },
    {
     "ename": "KeyboardInterrupt",
     "evalue": "",
     "output_type": "error",
     "traceback": [
      "\u001B[0;31m---------------------------------------------------------------------------\u001B[0m",
      "\u001B[0;31mKeyboardInterrupt\u001B[0m                         Traceback (most recent call last)",
      "Cell \u001B[0;32mIn[9], line 65\u001B[0m\n\u001B[1;32m     61\u001B[0m             \u001B[38;5;28;01mcontinue\u001B[39;00m\n\u001B[1;32m     64\u001B[0m \u001B[38;5;66;03m# Run the batch processing\u001B[39;00m\n\u001B[0;32m---> 65\u001B[0m \u001B[43mprocess_all_gifs\u001B[49m\u001B[43m(\u001B[49m\u001B[43m)\u001B[49m\n",
      "Cell \u001B[0;32mIn[9], line 38\u001B[0m, in \u001B[0;36mprocess_all_gifs\u001B[0;34m()\u001B[0m\n\u001B[1;32m     36\u001B[0m text_overlays \u001B[38;5;241m=\u001B[39m create_text_overlays(gif_file)\n\u001B[1;32m     37\u001B[0m \u001B[38;5;28;01mfor\u001B[39;00m overlay \u001B[38;5;129;01min\u001B[39;00m text_overlays:\n\u001B[0;32m---> 38\u001B[0m     \u001B[43mgif_processor\u001B[49m\u001B[38;5;241;43m.\u001B[39;49m\u001B[43madd_text\u001B[49m\u001B[43m(\u001B[49m\n\u001B[1;32m     39\u001B[0m \u001B[43m        \u001B[49m\u001B[43mtext\u001B[49m\u001B[38;5;241;43m=\u001B[39;49m\u001B[43moverlay\u001B[49m\u001B[43m[\u001B[49m\u001B[38;5;124;43m\"\u001B[39;49m\u001B[38;5;124;43mtext\u001B[39;49m\u001B[38;5;124;43m\"\u001B[39;49m\u001B[43m]\u001B[49m\u001B[43m,\u001B[49m\n\u001B[1;32m     40\u001B[0m \u001B[43m        \u001B[49m\u001B[43mposition\u001B[49m\u001B[38;5;241;43m=\u001B[39;49m\u001B[43moverlay\u001B[49m\u001B[43m[\u001B[49m\u001B[38;5;124;43m\"\u001B[39;49m\u001B[38;5;124;43mposition\u001B[39;49m\u001B[38;5;124;43m\"\u001B[39;49m\u001B[43m]\u001B[49m\u001B[43m,\u001B[49m\n\u001B[1;32m     41\u001B[0m \u001B[43m        \u001B[49m\u001B[43mfont_path\u001B[49m\u001B[38;5;241;43m=\u001B[39;49m\u001B[43moverlay\u001B[49m\u001B[43m[\u001B[49m\u001B[38;5;124;43m\"\u001B[39;49m\u001B[38;5;124;43mfont\u001B[39;49m\u001B[38;5;124;43m\"\u001B[39;49m\u001B[43m]\u001B[49m\u001B[43m,\u001B[49m\n\u001B[1;32m     42\u001B[0m \u001B[43m        \u001B[49m\u001B[43mfont_size\u001B[49m\u001B[38;5;241;43m=\u001B[39;49m\u001B[43mFONT_SIZE\u001B[49m\u001B[43m,\u001B[49m\n\u001B[1;32m     43\u001B[0m \u001B[43m        \u001B[49m\u001B[43mcolor\u001B[49m\u001B[38;5;241;43m=\u001B[39;49m\u001B[43moverlay\u001B[49m\u001B[43m[\u001B[49m\u001B[38;5;124;43m\"\u001B[39;49m\u001B[38;5;124;43mcolor\u001B[39;49m\u001B[38;5;124;43m\"\u001B[39;49m\u001B[43m]\u001B[49m\u001B[43m,\u001B[49m\n\u001B[1;32m     44\u001B[0m \u001B[43m        \u001B[49m\u001B[43mstroke_width\u001B[49m\u001B[38;5;241;43m=\u001B[39;49m\u001B[43moverlay\u001B[49m\u001B[43m[\u001B[49m\u001B[38;5;124;43m\"\u001B[39;49m\u001B[38;5;124;43mstroke_width\u001B[39;49m\u001B[38;5;124;43m\"\u001B[39;49m\u001B[43m]\u001B[49m\u001B[43m,\u001B[49m\n\u001B[1;32m     45\u001B[0m \u001B[43m        \u001B[49m\u001B[43mstroke_fill\u001B[49m\u001B[38;5;241;43m=\u001B[39;49m\u001B[43moverlay\u001B[49m\u001B[43m[\u001B[49m\u001B[38;5;124;43m\"\u001B[39;49m\u001B[38;5;124;43mstroke_fill\u001B[39;49m\u001B[38;5;124;43m\"\u001B[39;49m\u001B[43m]\u001B[49m\n\u001B[1;32m     46\u001B[0m \u001B[43m    \u001B[49m\u001B[43m)\u001B[49m\n\u001B[1;32m     48\u001B[0m \u001B[38;5;66;03m# Add logo\u001B[39;00m\n\u001B[1;32m     49\u001B[0m gif_processor\u001B[38;5;241m.\u001B[39madd_image_overlay(logo_path, position\u001B[38;5;241m=\u001B[39mLOGO_POSITION)\n",
      "File \u001B[0;32m~/code/RED/api-examples/other/media_generation/utils/gif_processor.py:112\u001B[0m, in \u001B[0;36mGIFProcessor.add_text\u001B[0;34m(self, text, position, font_path, font_size, color, stroke_width, stroke_fill)\u001B[0m\n\u001B[1;32m    110\u001B[0m     frame_rgba \u001B[38;5;241m=\u001B[39m frame\u001B[38;5;241m.\u001B[39mconvert(\u001B[38;5;124m'\u001B[39m\u001B[38;5;124mRGBA\u001B[39m\u001B[38;5;124m'\u001B[39m)\n\u001B[1;32m    111\u001B[0m     draw \u001B[38;5;241m=\u001B[39m ImageDraw\u001B[38;5;241m.\u001B[39mDraw(frame_rgba)\n\u001B[0;32m--> 112\u001B[0m     \u001B[43mdraw\u001B[49m\u001B[38;5;241;43m.\u001B[39;49m\u001B[43mtext\u001B[49m\u001B[43m(\u001B[49m\u001B[43mposition\u001B[49m\u001B[43m,\u001B[49m\u001B[43m \u001B[49m\u001B[43mtext\u001B[49m\u001B[43m,\u001B[49m\u001B[43m \u001B[49m\u001B[43mfont\u001B[49m\u001B[38;5;241;43m=\u001B[39;49m\u001B[43mfont\u001B[49m\u001B[43m,\u001B[49m\u001B[43m \u001B[49m\u001B[43mfill\u001B[49m\u001B[38;5;241;43m=\u001B[39;49m\u001B[43mcolor\u001B[49m\u001B[43m,\u001B[49m\n\u001B[1;32m    113\u001B[0m \u001B[43m             \u001B[49m\u001B[43mstroke_width\u001B[49m\u001B[38;5;241;43m=\u001B[39;49m\u001B[43mstroke_width\u001B[49m\u001B[43m,\u001B[49m\u001B[43m \u001B[49m\u001B[43mstroke_fill\u001B[49m\u001B[38;5;241;43m=\u001B[39;49m\u001B[43mstroke_fill\u001B[49m\u001B[43m)\u001B[49m\n\u001B[1;32m    114\u001B[0m     \u001B[38;5;28mself\u001B[39m\u001B[38;5;241m.\u001B[39mframes[i] \u001B[38;5;241m=\u001B[39m frame_rgba\n\u001B[1;32m    115\u001B[0m \u001B[38;5;28;01mreturn\u001B[39;00m \u001B[38;5;28mself\u001B[39m\n",
      "File \u001B[0;32m~/code/RED/api-examples/.venv-3.11.2/lib/python3.11/site-packages/PIL/ImageDraw.py:695\u001B[0m, in \u001B[0;36mImageDraw.text\u001B[0;34m(self, xy, text, fill, font, anchor, spacing, align, direction, features, language, stroke_width, stroke_fill, embedded_color, *args, **kwargs)\u001B[0m\n\u001B[1;32m    692\u001B[0m     draw_text(stroke_ink, stroke_width)\n\u001B[1;32m    694\u001B[0m     \u001B[38;5;66;03m# Draw normal text\u001B[39;00m\n\u001B[0;32m--> 695\u001B[0m     \u001B[43mdraw_text\u001B[49m\u001B[43m(\u001B[49m\u001B[43mink\u001B[49m\u001B[43m,\u001B[49m\u001B[43m \u001B[49m\u001B[38;5;241;43m0\u001B[39;49m\u001B[43m)\u001B[49m\n\u001B[1;32m    696\u001B[0m \u001B[38;5;28;01melse\u001B[39;00m:\n\u001B[1;32m    697\u001B[0m     \u001B[38;5;66;03m# Only draw normal text\u001B[39;00m\n\u001B[1;32m    698\u001B[0m     draw_text(ink)\n",
      "File \u001B[0;32m~/code/RED/api-examples/.venv-3.11.2/lib/python3.11/site-packages/PIL/ImageDraw.py:639\u001B[0m, in \u001B[0;36mImageDraw.text.<locals>.draw_text\u001B[0;34m(ink, stroke_width)\u001B[0m\n\u001B[1;32m    637\u001B[0m start \u001B[38;5;241m=\u001B[39m (math\u001B[38;5;241m.\u001B[39mmodf(xy[\u001B[38;5;241m0\u001B[39m])[\u001B[38;5;241m0\u001B[39m], math\u001B[38;5;241m.\u001B[39mmodf(xy[\u001B[38;5;241m1\u001B[39m])[\u001B[38;5;241m0\u001B[39m])\n\u001B[1;32m    638\u001B[0m \u001B[38;5;28;01mtry\u001B[39;00m:\n\u001B[0;32m--> 639\u001B[0m     mask, offset \u001B[38;5;241m=\u001B[39m \u001B[43mfont\u001B[49m\u001B[38;5;241;43m.\u001B[39;49m\u001B[43mgetmask2\u001B[49m\u001B[43m(\u001B[49m\u001B[43m  \u001B[49m\u001B[38;5;66;43;03m# type: ignore[union-attr,misc]\u001B[39;49;00m\n\u001B[1;32m    640\u001B[0m \u001B[43m        \u001B[49m\u001B[43mtext\u001B[49m\u001B[43m,\u001B[49m\n\u001B[1;32m    641\u001B[0m \u001B[43m        \u001B[49m\u001B[43mmode\u001B[49m\u001B[43m,\u001B[49m\n\u001B[1;32m    642\u001B[0m \u001B[43m        \u001B[49m\u001B[43mdirection\u001B[49m\u001B[38;5;241;43m=\u001B[39;49m\u001B[43mdirection\u001B[49m\u001B[43m,\u001B[49m\n\u001B[1;32m    643\u001B[0m \u001B[43m        \u001B[49m\u001B[43mfeatures\u001B[49m\u001B[38;5;241;43m=\u001B[39;49m\u001B[43mfeatures\u001B[49m\u001B[43m,\u001B[49m\n\u001B[1;32m    644\u001B[0m \u001B[43m        \u001B[49m\u001B[43mlanguage\u001B[49m\u001B[38;5;241;43m=\u001B[39;49m\u001B[43mlanguage\u001B[49m\u001B[43m,\u001B[49m\n\u001B[1;32m    645\u001B[0m \u001B[43m        \u001B[49m\u001B[43mstroke_width\u001B[49m\u001B[38;5;241;43m=\u001B[39;49m\u001B[43mstroke_width\u001B[49m\u001B[43m,\u001B[49m\n\u001B[1;32m    646\u001B[0m \u001B[43m        \u001B[49m\u001B[43manchor\u001B[49m\u001B[38;5;241;43m=\u001B[39;49m\u001B[43manchor\u001B[49m\u001B[43m,\u001B[49m\n\u001B[1;32m    647\u001B[0m \u001B[43m        \u001B[49m\u001B[43mink\u001B[49m\u001B[38;5;241;43m=\u001B[39;49m\u001B[43mink\u001B[49m\u001B[43m,\u001B[49m\n\u001B[1;32m    648\u001B[0m \u001B[43m        \u001B[49m\u001B[43mstart\u001B[49m\u001B[38;5;241;43m=\u001B[39;49m\u001B[43mstart\u001B[49m\u001B[43m,\u001B[49m\n\u001B[1;32m    649\u001B[0m \u001B[43m        \u001B[49m\u001B[38;5;241;43m*\u001B[39;49m\u001B[43margs\u001B[49m\u001B[43m,\u001B[49m\n\u001B[1;32m    650\u001B[0m \u001B[43m        \u001B[49m\u001B[38;5;241;43m*\u001B[39;49m\u001B[38;5;241;43m*\u001B[39;49m\u001B[43mkwargs\u001B[49m\u001B[43m,\u001B[49m\n\u001B[1;32m    651\u001B[0m \u001B[43m    \u001B[49m\u001B[43m)\u001B[49m\n\u001B[1;32m    652\u001B[0m     coord \u001B[38;5;241m=\u001B[39m [coord[\u001B[38;5;241m0\u001B[39m] \u001B[38;5;241m+\u001B[39m offset[\u001B[38;5;241m0\u001B[39m], coord[\u001B[38;5;241m1\u001B[39m] \u001B[38;5;241m+\u001B[39m offset[\u001B[38;5;241m1\u001B[39m]]\n\u001B[1;32m    653\u001B[0m \u001B[38;5;28;01mexcept\u001B[39;00m \u001B[38;5;167;01mAttributeError\u001B[39;00m:\n",
      "File \u001B[0;32m~/code/RED/api-examples/.venv-3.11.2/lib/python3.11/site-packages/PIL/ImageFont.py:639\u001B[0m, in \u001B[0;36mFreeTypeFont.getmask2\u001B[0;34m(self, text, mode, direction, features, language, stroke_width, anchor, ink, start, *args, **kwargs)\u001B[0m\n\u001B[1;32m    636\u001B[0m     Image\u001B[38;5;241m.\u001B[39m_decompression_bomb_check(size)\n\u001B[1;32m    637\u001B[0m     \u001B[38;5;28;01mreturn\u001B[39;00m Image\u001B[38;5;241m.\u001B[39mcore\u001B[38;5;241m.\u001B[39mfill(\u001B[38;5;124m\"\u001B[39m\u001B[38;5;124mRGBA\u001B[39m\u001B[38;5;124m\"\u001B[39m \u001B[38;5;28;01mif\u001B[39;00m mode \u001B[38;5;241m==\u001B[39m \u001B[38;5;124m\"\u001B[39m\u001B[38;5;124mRGBA\u001B[39m\u001B[38;5;124m\"\u001B[39m \u001B[38;5;28;01melse\u001B[39;00m \u001B[38;5;124m\"\u001B[39m\u001B[38;5;124mL\u001B[39m\u001B[38;5;124m\"\u001B[39m, size)\n\u001B[0;32m--> 639\u001B[0m \u001B[38;5;28;01mreturn\u001B[39;00m \u001B[38;5;28;43mself\u001B[39;49m\u001B[38;5;241;43m.\u001B[39;49m\u001B[43mfont\u001B[49m\u001B[38;5;241;43m.\u001B[39;49m\u001B[43mrender\u001B[49m\u001B[43m(\u001B[49m\n\u001B[1;32m    640\u001B[0m \u001B[43m    \u001B[49m\u001B[43mtext\u001B[49m\u001B[43m,\u001B[49m\n\u001B[1;32m    641\u001B[0m \u001B[43m    \u001B[49m\u001B[43mfill\u001B[49m\u001B[43m,\u001B[49m\n\u001B[1;32m    642\u001B[0m \u001B[43m    \u001B[49m\u001B[43mmode\u001B[49m\u001B[43m,\u001B[49m\n\u001B[1;32m    643\u001B[0m \u001B[43m    \u001B[49m\u001B[43mdirection\u001B[49m\u001B[43m,\u001B[49m\n\u001B[1;32m    644\u001B[0m \u001B[43m    \u001B[49m\u001B[43mfeatures\u001B[49m\u001B[43m,\u001B[49m\n\u001B[1;32m    645\u001B[0m \u001B[43m    \u001B[49m\u001B[43mlanguage\u001B[49m\u001B[43m,\u001B[49m\n\u001B[1;32m    646\u001B[0m \u001B[43m    \u001B[49m\u001B[43mstroke_width\u001B[49m\u001B[43m,\u001B[49m\n\u001B[1;32m    647\u001B[0m \u001B[43m    \u001B[49m\u001B[43manchor\u001B[49m\u001B[43m,\u001B[49m\n\u001B[1;32m    648\u001B[0m \u001B[43m    \u001B[49m\u001B[43mink\u001B[49m\u001B[43m,\u001B[49m\n\u001B[1;32m    649\u001B[0m \u001B[43m    \u001B[49m\u001B[43mstart\u001B[49m\u001B[43m[\u001B[49m\u001B[38;5;241;43m0\u001B[39;49m\u001B[43m]\u001B[49m\u001B[43m,\u001B[49m\n\u001B[1;32m    650\u001B[0m \u001B[43m    \u001B[49m\u001B[43mstart\u001B[49m\u001B[43m[\u001B[49m\u001B[38;5;241;43m1\u001B[39;49m\u001B[43m]\u001B[49m\u001B[43m,\u001B[49m\n\u001B[1;32m    651\u001B[0m \u001B[43m\u001B[49m\u001B[43m)\u001B[49m\n",
      "\u001B[0;31mKeyboardInterrupt\u001B[0m: "
     ]
    }
   ],
   "execution_count": 9
  }
 ],
 "metadata": {
  "kernelspec": {
   "name": "python3",
   "language": "python",
   "display_name": "Python 3 (ipykernel)"
  }
 },
 "nbformat": 5,
 "nbformat_minor": 9
}
