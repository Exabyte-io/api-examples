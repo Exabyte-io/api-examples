{
 "cells": [
  {
   "cell_type": "markdown",
   "source": [
    "# Create a Twisted Interface between Nanoribbons\n",
    "\n",
    "Use nanoribbon interface builder to create twisted interfaces between two nanoribbons.\n",
    "\n",
    "<h2 style=\"color:green\">Usage</h2>\n",
    "\n",
    "1. Make sure to select Input Materials (in the outer runtime) before running the notebook.\n",
    "1. Set notebook parameters in cell 1.1. below (or use the default values).\n",
    "1. Click \"Run\" > \"Run All\" to run all cells. \n",
    "1. Wait for the run to complete (depending on the parameters can take a few min). \n",
    "1. Scroll down to view results. \n",
    "\n",
    "## Summary\n",
    "1. Prepare the Environment: Set up the notebook and install packages, preview the input materials\n",
    "1. Create and visualize the initial nanoribbons\n",
    "1. Generate twisted interface between nanoribbons\n",
    "1. Visualize the final interface\n",
    "\n",
    "## Notes\n",
    "1. Nanoribbons are created from the input materials with specified width and length.\n",
    "1. The top nanoribbon is rotated by the specified twist angle.\n",
    "1. Vacuum is added along x and y directions to isolate the ribbons.\n",
    "1. For more information, see [Introduction](Introduction.ipynb)\n"
   ],
   "metadata": {
    "collapsed": false
   },
   "id": "66b6951c7a25247c"
  },
  {
   "cell_type": "markdown",
   "source": [
    "## 1. Prepare the Environment\n",
    "### 1.1. Set up the notebook \n",
    "Set the following flags to control the notebook behavior \n"
   ],
   "metadata": {
    "collapsed": false
   },
   "id": "9b35a4b3a796c4ad"
  },
  {
   "cell_type": "code",
   "outputs": [],
   "source": [
    "# Material selection and basic parameters\n",
    "FILM_INDEX = 0  # Index in the list of materials, to access as materials[FILM_INDEX]\n",
    "SUBSTRATE_INDEX = None  # Can be None to use same material as film\n",
    "\n",
    "# Interface parameters\n",
    "TWIST_ANGLE = 15.0  # in degrees\n",
    "INTERFACE_DISTANCE = 3.0  # in Angstroms\n",
    "INTERFACE_VACUUM = 20.0  # in Angstroms\n",
    "\n",
    "# Nanoribbon parameters\n",
    "RIBBON_WIDTH = 5  # Width of the nanoribbon in unit cells\n",
    "RIBBON_LENGTH = 10  # Length of the nanoribbon in unit cells\n",
    "VACUUM_X = 5.0  # Vacuum along x on both sides, in Angstroms\n",
    "VACUUM_Y = 5.0  # Vacuum along y on both sides, in Angstroms\n",
    "\n",
    "# Visualization parameters\n",
    "SHOW_INTERMEDIATE_STEPS = True\n",
    "VISUALIZE_REPETITIONS = [1, 1, 1]"
   ],
   "metadata": {
    "collapsed": false
   },
   "id": "aaf8db99c7f77c5c",
   "execution_count": null
  },
  {
   "cell_type": "markdown",
   "source": [
    "### 1.2. Install packages\n",
    "The step executes only in Pyodide environment. For other environments, the packages should be installed via `pip install` (see [README](../../README.ipynb))."
   ],
   "metadata": {
    "collapsed": false
   },
   "id": "eb558b99e13b8fdc"
  },
  {
   "cell_type": "code",
   "outputs": [],
   "source": [
    "import sys\n",
    "\n",
    "if sys.platform == \"emscripten\":\n",
    "    import micropip\n",
    "  \n",
    "    await micropip.install('mat3ra-api-examples', deps=False)\n",
    "    from utils.jupyterlite import install_packages\n",
    "    await install_packages(\"\")"
   ],
   "metadata": {
    "collapsed": false
   },
   "id": "bd2ed90db5f76f9b",
   "execution_count": null
  },
  {
   "cell_type": "markdown",
   "source": [
    "### 1.3. Load and preview input materials\n"
   ],
   "metadata": {
    "collapsed": false
   },
   "id": "f201817580d12456"
  },
  {
   "cell_type": "code",
   "outputs": [],
   "source": [
    "from utils.jupyterlite import get_materials\n",
    "\n",
    "materials = get_materials(globals())"
   ],
   "metadata": {
    "collapsed": false
   },
   "id": "dcba2976f2baaa55",
   "execution_count": null
  },
  {
   "cell_type": "markdown",
   "source": [
    "## 2. Prepare Materials\n",
    "### 2.1. Select and visualize initial materials\n"
   ],
   "metadata": {
    "collapsed": false
   },
   "id": "ee9e7669eecf3deb"
  },
  {
   "cell_type": "code",
   "outputs": [],
   "source": [
    "from utils.visualize import visualize_materials\n",
    "\n",
    "film = materials[FILM_INDEX]\n",
    "substrate = materials[SUBSTRATE_INDEX] if SUBSTRATE_INDEX is not None else film\n",
    "\n",
    "if SHOW_INTERMEDIATE_STEPS:\n",
    "    print(\"\\nInitial material structure:\")\n",
    "    visualize_materials(film, repetitions=VISUALIZE_REPETITIONS)"
   ],
   "metadata": {
    "collapsed": false
   },
   "id": "27cc97b9bc42e73b",
   "execution_count": null
  },
  {
   "cell_type": "markdown",
   "source": [
    "## 3. Generate Nanoribbon Interface\n",
    "### 3.1. Set up interface configuration and builder\n"
   ],
   "metadata": {
    "collapsed": false
   },
   "id": "6e7eb48ae2c4a49d"
  },
  {
   "cell_type": "code",
   "outputs": [],
   "source": [
    "from mat3ra.made.tools.build.interface.builders import NanoRibbonTwistedInterfaceBuilder\n",
    "from mat3ra.made.tools.build.interface.configuration import NanoRibbonTwistedInterfaceConfiguration\n",
    "\n",
    "config = NanoRibbonTwistedInterfaceConfiguration(\n",
    "    film=film,\n",
    "    substrate=substrate,\n",
    "    twist_angle=TWIST_ANGLE,\n",
    "    distance_z=INTERFACE_DISTANCE,\n",
    "    ribbon_width=RIBBON_WIDTH,\n",
    "    ribbon_length=RIBBON_LENGTH,\n",
    "    vacuum_x=VACUUM_X,\n",
    "    vacuum_y=VACUUM_Y\n",
    ")\n",
    "\n",
    "builder = NanoRibbonTwistedInterfaceBuilder()"
   ],
   "metadata": {
    "collapsed": false
   },
   "id": "99c0719450f2fbab",
   "execution_count": null
  },
  {
   "cell_type": "markdown",
   "source": [
    "### 3.2. Generate and analyze interface\n"
   ],
   "metadata": {
    "collapsed": false
   },
   "id": "3f38902c015ac965"
  },
  {
   "cell_type": "code",
   "outputs": [],
   "source": [
    "interface = builder.get_material(config)\n",
    "\n",
    "print(\"\\nInterface created successfully!\")\n",
    "print(f\"Twist angle: {TWIST_ANGLE}°\")\n",
    "print(f\"Number of atoms: {len(interface.basis.elements.ids)}\")\n",
    "print(f\"Cell vectors:\\n{interface.basis.cell.vectors_as_array}\")\n",
    "\n",
    "if SHOW_INTERMEDIATE_STEPS:\n",
    "    visualize_materials(interface, repetitions=VISUALIZE_REPETITIONS)\n",
    "    visualize_materials(interface, repetitions=VISUALIZE_REPETITIONS, rotation=\"-90x\")"
   ],
   "metadata": {
    "collapsed": false
   },
   "id": "5a6e5f0a57746216",
   "execution_count": null
  },
  {
   "cell_type": "markdown",
   "source": [
    "## 4. Pass data to the outside runtime\n"
   ],
   "metadata": {
    "collapsed": false
   },
   "id": "c296c52797efcf29"
  },
  {
   "cell_type": "code",
   "outputs": [],
   "source": [
    "from utils.jupyterlite import set_materials\n",
    "\n",
    "set_materials(interface)"
   ],
   "metadata": {
    "collapsed": false
   },
   "id": "6cf7cccac63dca3d",
   "execution_count": null
  }
 ],
 "metadata": {
  "kernelspec": {
   "display_name": "Python 3",
   "language": "python",
   "name": "python3"
  },
  "language_info": {
   "codemirror_mode": {
    "name": "ipython",
    "version": 2
   },
   "file_extension": ".py",
   "mimetype": "text/x-python",
   "name": "python",
   "nbconvert_exporter": "python",
   "pygments_lexer": "ipython2",
   "version": "2.7.6"
  }
 },
 "nbformat": 4,
 "nbformat_minor": 5
}
