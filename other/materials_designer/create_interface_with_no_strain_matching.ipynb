{
 "cells": [
  {
   "cell_type": "markdown",
   "metadata": {},
   "source": [
    "# Create an interface between two materials with no strain matching\n",
    "\n",
    "Interface created from two slabs with provided terminations. The interface is created without strain matching, so the film is wrapped into the substrate slab cell without any scaling of atomic coordinates.\n",
    "\n",
    "<h2 style=\"color:green\">Usage</h2>\n",
    "\n",
    "1. Make sure to select Input Materials\n",
    "2. Set notebook settings\n",
    "2. Create slab configurations, view possible terminations and select the termination pair for the interface\n",
    "3. Create the interface with no strain matching based on the selected confgiurations\n",
    "4. Visualize the interface\n",
    "5. Pass the interface to the outside runtime\n"
   ]
  },
  {
   "cell_type": "markdown",
   "source": [
    "## 1. Prepare the Environment\n",
    "### 1.1. Set up the notebook \n",
    "\n",
    "Set the following flags to control the notebook behavior:"
   ],
   "metadata": {
    "collapsed": false
   }
  },
  {
   "cell_type": "code",
   "outputs": [],
   "source": [
    "IS_TERMINATIONS_SELECTION_INTERACTIVE = False # Enable interactive selection of terminations via UI prompt\n",
    "ENABLE_FILM_SCALING = False # Enable scaling of the film slab to match the substrate lattice"
   ],
   "metadata": {
    "collapsed": false
   },
   "execution_count": null
  },
  {
   "cell_type": "markdown",
   "source": [
    "\n",
    "### 1.2. Install the Required Packages\n",
    "Note: the step executes only when using Pyodide. For other environments (e.g. Colab, JupyterLab), the packages should be installed via `pip install .` (see [README](../../README.ipynb))."
   ],
   "metadata": {
    "collapsed": false
   }
  },
  {
   "cell_type": "code",
   "outputs": [],
   "source": [
    "import sys\n",
    "\n",
    "if sys.platform == \"emscripten\":\n",
    "    import micropip\n",
    "    await micropip.install('mat3ra-api-examples', deps=False)\n",
    "    from utils.jupyterlite import install_packages\n",
    "    await install_packages(\"create_interface_with_min_strain_zsl.ipynb\", \"../../config.yml\")"
   ],
   "metadata": {
    "collapsed": false
   },
   "execution_count": null
  },
  {
   "cell_type": "markdown",
   "source": [
    "### 1.3. Get input materials and assign `substrate` and `film`\n"
   ],
   "metadata": {
    "collapsed": false
   }
  },
  {
   "cell_type": "code",
   "outputs": [],
   "source": [
    "from mat3ra.made.material import Material\n",
    "from utils.jupyterlite import get_data\n",
    "\n",
    "# Get the list of input materials and load them into `materials_in` variable\n",
    "get_data(\"materials_in\", globals())\n",
    "materials = list(map(Material, globals()[\"materials_in\"]))\n",
    "substrate = materials[0]\n",
    "film = materials[1]"
   ],
   "metadata": {
    "collapsed": false
   },
   "execution_count": null
  },
  {
   "cell_type": "markdown",
   "source": [
    "### 1.4. Visualize Substrate and Film"
   ],
   "metadata": {
    "collapsed": false
   }
  },
  {
   "cell_type": "code",
   "outputs": [],
   "source": [
    "from utils.visualize import visualize_materials as visualize\n",
    "visualize([substrate, film], repetitions=[3, 3, 1], rotation=\"0x\")"
   ],
   "metadata": {
    "collapsed": false
   },
   "execution_count": null
  },
  {
   "cell_type": "markdown",
   "source": [
    "## 2. Create Slabs for the Interface\n",
    "\n",
    "### 2.1. Create Substrate and Layer Slabs via SlabGenerator\n",
    "Slab Configuration lets define the slab thickness, vacuum, and the Miller indices of the interfacial plane and get the slabs with possible terminations.\n",
    "Define the substrate slab cell that will be used as a base for the interface and the film slab cell that will be placed on top of the substrate slab."
   ],
   "metadata": {
    "collapsed": false
   }
  },
  {
   "cell_type": "code",
   "outputs": [],
   "source": [
    "from mat3ra.made.tools.build.slab import SlabConfiguration\n",
    "\n",
    "substrate_slab_configuration = SlabConfiguration(\n",
    "    bulk=substrate,\n",
    "    # the Miller indices of the interfacial plane of the substrate\n",
    "    miller_indices=(1,1,1),\n",
    "    thickness=3,\n",
    "    vacuum=3,\n",
    "    xy_supercell_matrix=[[1, 0], [0, 1]],\n",
    "    use_orthogonal_z=True\n",
    ")\n",
    "\n",
    "film_slab_configuration = SlabConfiguration(\n",
    "    bulk=film,\n",
    "    # the Miller indices of the interfacial plane of the layer\n",
    "    miller_indices=(0, 0, 1),\n",
    "    thickness=1,\n",
    "    vacuum=1,\n",
    "    xy_supercell_matrix=[[1, 0], [0, 1]],\n",
    "    use_orthogonal_z=True\n",
    ")\n",
    "\n",
    "substrate_slab_terminations = substrate_slab_configuration.terminations\n",
    "film_slab_terminations = film_slab_configuration.terminations\n",
    "\n",
    "print(f\"Substrate terminations: {substrate_slab_terminations}\")\n",
    "print(f\"Film terminations: {film_slab_terminations}\")"
   ],
   "metadata": {
    "collapsed": false
   },
   "execution_count": null
  },
  {
   "cell_type": "markdown",
   "source": [
    "### 2.2. Visualize slabs for possible terminations"
   ],
   "metadata": {
    "collapsed": false
   }
  },
  {
   "cell_type": "code",
   "outputs": [],
   "source": [
    "for termination in substrate_slab_terminations:\n",
    "    visualize(substrate_slab_configuration.get_material(termination=termination), repetitions=[3, 3, 1], rotation=\"-90x\", title=f\"Termination: {termination}\")\n",
    "    \n",
    "for termination in film_slab_terminations:\n",
    "    visualize(film_slab_configuration.get_material(termination=termination), repetitions=[3, 3, 1], rotation=\"-90x\", title=f\"Termination: {termination}\")\n",
    "    "
   ],
   "metadata": {
    "collapsed": false
   },
   "execution_count": null
  },
  {
   "cell_type": "markdown",
   "source": [
    "### 2.3. Select the termination pair for the interface\n",
    "Select termination that will be facing interfacial plane for substrate and film"
   ],
   "metadata": {
    "collapsed": false
   }
  },
  {
   "cell_type": "code",
   "outputs": [],
   "source": [
    "from utils.io import ui_prompt_select_array_element_by_index, ui_prompt_select_array_element_by_index_pyodide\n",
    "\n",
    "substrate_termination = substrate_slab_terminations[0]\n",
    "film_termination = film_slab_terminations[0]\n",
    "\n",
    "if IS_TERMINATIONS_SELECTION_INTERACTIVE:\n",
    "    if sys.platform == \"emscripten\":\n",
    "        substrate_termination = await ui_prompt_select_array_element_by_index_pyodide(substrate_slab_terminations, element_name=\"substrate termination\")\n",
    "        film_termination = await ui_prompt_select_array_element_by_index_pyodide(film_slab_terminations, element_name=\"film termination\")\n",
    "    else:\n",
    "        substrate_termination = ui_prompt_select_array_element_by_index(substrate_slab_terminations, element_name=\"substrate termination\")\n",
    "        film_termination = ui_prompt_select_array_element_by_index(film_slab_terminations, element_name=\"film termination\")\n",
    "\n",
    "termination_pair = (substrate_termination, film_termination)"
   ],
   "metadata": {
    "collapsed": false
   },
   "execution_count": null
  },
  {
   "cell_type": "markdown",
   "metadata": {},
   "source": [
    "## 3. Create an interface\n",
    "### 3.1. Initialize the Interface Builder\n",
    "We use no strain matching for the interface construction. Substrate slab cell is used as a base and the film slab is wrapped into it with optionally scaling atomic coordinates (preserve coordinates in crystal/alat units)."
   ]
  },
  {
   "cell_type": "code",
   "execution_count": null,
   "metadata": {},
   "outputs": [],
   "source": [
    "from mat3ra.made.tools.build.interface import InterfaceConfiguration, InterfaceConfigurationStrainMatcher\n",
    "\n",
    "interface_configuration = InterfaceConfiguration(substrate_slab_configuration, film_slab_configuration, termination_pair, distance_z=3.0, vacuum=5.0, shift_a=0.0, shift_b=0.5)\n",
    "\n",
    "interface = interface_configuration.get_material()\n",
    "\n",
    "if ENABLE_FILM_SCALING:\n",
    "    film_scaling_strain_matcher = InterfaceConfigurationStrainMatcher(interface_configuration, strain_matching_parameters=None)\n",
    "    interface = film_scaling_strain_matcher.get_interfaces()[0]"
   ]
  },
  {
   "cell_type": "markdown",
   "source": [
    "### 6.2. Visualize the interface\n"
   ],
   "metadata": {
    "collapsed": false
   }
  },
  {
   "cell_type": "code",
   "outputs": [],
   "source": [
    "visualize([interface], repetitions=[3, 3, 1], rotation=\"0x\")\n",
    "visualize([interface], repetitions=[3, 3, 1], rotation=\"-90x\")"
   ],
   "metadata": {
    "collapsed": false
   },
   "execution_count": null
  },
  {
   "cell_type": "markdown",
   "metadata": {},
   "source": [
    "### 6.3. Pass data to the outside runtime\n",
    "Enrich the interface names with the strain values and pass them to the application runtime."
   ]
  },
  {
   "cell_type": "code",
   "execution_count": null,
   "metadata": {},
   "outputs": [],
   "source": [
    "from utils.jupyterlite import set_data\n",
    "\n",
    "if \"Interface\" not in interface[\"name\"]:\n",
    "    interface[\"name\"] = f'{interface[\"name\"]}, Interface'\n",
    "\n",
    "set_data(\"materials\", [interface])"
   ]
  }
 ],
 "metadata": {
  "kernelspec": {
   "display_name": ".venv",
   "language": "python",
   "name": "python3"
  },
  "language_info": {
   "codemirror_mode": {
    "name": "ipython",
    "version": 3
   },
   "file_extension": ".py",
   "mimetype": "text/x-python",
   "name": "python",
   "nbconvert_exporter": "python",
   "pygments_lexer": "ipython3",
   "version": "3.10.12"
  },
  "widgets": {
   "application/vnd.jupyter.widget-state+json": {
    "state": {},
    "version_major": 2,
    "version_minor": 0
   }
  }
 },
 "nbformat": 4,
 "nbformat_minor": 4
}
