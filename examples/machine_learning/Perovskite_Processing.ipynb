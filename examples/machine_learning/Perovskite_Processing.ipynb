version https://git-lfs.github.com/spec/v1
oid sha256:da28855fb156754eeef2e9d6ebf18e905d22b4f1506444a233dc31ee3301e9b1
size 754471
