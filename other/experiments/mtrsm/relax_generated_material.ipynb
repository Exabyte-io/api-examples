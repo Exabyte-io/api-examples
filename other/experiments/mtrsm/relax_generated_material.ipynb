{
 "cells": [
  {
   "cell_type": "markdown",
   "id": "ba05a8b053f7ed1f",
   "metadata": {},
   "source": [
    "# Calculate Vacancy Formation Energy in Silicon using MatterSim Potential\n",
    "\n",
    "This notebook demonstrates how to compute the vacancy formation energy in silicon using the MatterSim potential within the Mat3ra framework.\n",
    "\n",
    "## Methodology\n",
    "\n",
    "The vacancy formation energy is calculated using the following approach:\n",
    "\n",
    "1. **Create pristine supercell**: Build a silicon supercell from the unit cell and relax it using MatterSim potential\n",
    "2. **Create vacancy**: Remove a single atom from the center of the supercell\n",
    "3. **Relax vacancy structure**: Optimize the geometry of the defective supercell\n",
    "4. **Calculate formation energy**: Compute the energy difference according to the formula:\n",
    "   \n",
    "   E_formation = E_vacancy - (N_vacancy/N_bulk) × E_bulk\n",
    "   \n",
    "   where:\n",
    "   - E_vacancy: Total energy of the supercell with vacancy\n",
    "   - E_bulk: Total energy of the pristine supercell\n",
    "   - N_vacancy: Number of atoms in vacancy supercell\n",
    "   - N_bulk: Number of atoms in pristine supercell"
   ]
  },
  {
   "cell_type": "code",
   "id": "39067e0f5d2c0ffb",
   "metadata": {},
   "source": [
    "import json\n",
    "\n",
    "# Install required packages if not already installed\n",
    "# INFO: if not installed correctly, clear environment and run `pip install .[forcefields]` in the terminal\n",
    "try:\n",
    "    import mattersim\n",
    "except ImportError:\n",
    "    import subprocess, sys\n",
    "    subprocess.run([sys.executable, \"-m\", \"pip\", \"install\", \".[forcefields]\", \"--quiet\"], check=False)\n",
    "    import mattersim"
   ],
   "outputs": [],
   "execution_count": null
  },
  {
   "cell_type": "markdown",
   "id": "ad71b3bcdb13e36a",
   "metadata": {},
   "source": [
    "## 1. Prepare materials\n",
    "### 1.1. Load material data"
   ]
  },
  {
   "cell_type": "code",
   "id": "2819d078b48216b9",
   "metadata": {},
   "source": [
    "from ase.io import read\n",
    "from mat3ra.standata.materials import Materials\n",
    "from mat3ra.made.material import Material\n",
    "from mat3ra.made.tools.convert import from_ase\n",
    "import json\n",
    "FOLDER = \"data\"\n",
    "FILE_NAME = \"generated_crystals.extxyz\"\n",
    "atoms = read(f\"{FOLDER}/{FILE_NAME}\")\n",
    "\n",
    "# source_json = json.loads(source)\n",
    "original_material = Material.create(from_ase(atoms))"
   ],
   "outputs": [],
   "execution_count": null
  },
  {
   "cell_type": "markdown",
   "id": "f011303e40ab0ee5",
   "metadata": {},
   "source": [
    "### 1.2. Add modifications to material\n",
    "Use any of the tools to modify the material, e.g. create supercell, add vacancy, add interstitials, etc.\n",
    "Below is the example of creating a supercell and adding a vacancy."
   ]
  },
  {
   "cell_type": "code",
   "id": "b7e53d295d59fe89",
   "metadata": {},
   "source": [
    "# from mat3ra.made.tools.helpers import create_vacancy, create_supercell\n",
    "\n",
    "# supercell = create_supercell(original_material, scaling_factor=[2,2,2])\n",
    "# material = create_vacancy(supercell, coordinate=[0.5, 0.5, 0.5], placement_method=\"closest_site\")"
   ],
   "outputs": [],
   "execution_count": null
  },
  {
   "cell_type": "markdown",
   "id": "45c3dade8bcd52b3",
   "metadata": {},
   "source": [
    "## 1.3. Visualize materials"
   ]
  },
  {
   "cell_type": "code",
   "id": "4b91a2ae59c983a3",
   "metadata": {},
   "source": [
    "from utils.visualize import visualize_materials\n",
    "\n",
    "visualize_materials([material], rotation=\"-90x,-90y\")"
   ],
   "outputs": [],
   "execution_count": null
  },
  {
   "cell_type": "markdown",
   "id": "8ce27a1c8864c29f",
   "metadata": {},
   "source": [
    "## 2. Setup calculation\n",
    "### 2.1. Convert to ASE atoms"
   ]
  },
  {
   "cell_type": "code",
   "id": "62b389e5458ce7c2",
   "metadata": {},
   "source": [
    "from mat3ra.made.tools.convert import to_ase\n",
    "\n",
    "original_material_atoms =  to_ase(original_material)\n",
    "material_atoms = to_ase(material)"
   ],
   "outputs": [],
   "execution_count": null
  },
  {
   "cell_type": "markdown",
   "id": "c4c3b2a928a369ad",
   "metadata": {},
   "source": [
    "### 2.2. Setup MatterSim calculator"
   ]
  },
  {
   "cell_type": "code",
   "id": "361cd269cb3e2db4",
   "metadata": {},
   "source": [
    "from mattersim.forcefield.potential import MatterSimCalculator\n",
    "from mattersim.applications.relax import Relaxer\n",
    "\n",
    "original_material_atoms.calc = MatterSimCalculator()\n",
    "material_atoms.calc = MatterSimCalculator()"
   ],
   "outputs": [],
   "execution_count": null
  },
  {
   "cell_type": "markdown",
   "id": "8119275fe9ffb1d8",
   "metadata": {},
   "source": [
    "### 2.3. Relax structures"
   ]
  },
  {
   "cell_type": "code",
   "id": "48cbd2f29d0cbd2c",
   "metadata": {},
   "source": [
    "relaxer = Relaxer(optimizer=\"BFGS\", constrain_symmetry=True)\n",
    "relaxer.relax(material_atoms, steps=500)  # In-place relaxation\n"
   ],
   "outputs": [],
   "execution_count": null
  },
  {
   "cell_type": "markdown",
   "id": "116af57af6793bb",
   "metadata": {},
   "source": [
    "### 2.4. Visualize relaxed structures"
   ]
  },
  {
   "cell_type": "code",
   "id": "6426cc56c5d51eef",
   "metadata": {},
   "source": [
    "from mat3ra.made.tools.convert import from_ase\n",
    "\n",
    "relaxed_material = Material.create(from_ase(material_atoms))\n",
    "\n",
    "visualize_materials([original_material, relaxed_material], rotation=\"-90x,-90y\")"
   ],
   "outputs": [],
   "execution_count": null
  },
  {
   "cell_type": "markdown",
   "id": "7754f5d01964b082",
   "metadata": {},
   "source": [
    "## 3. Calculate energy differences\n",
    "\n",
    "### 3.1. Get energies and atom counts"
   ]
  },
  {
   "cell_type": "code",
   "id": "2f4694776e7d1430",
   "metadata": {},
   "source": [
    "energy_relaxed = material_atoms.get_potential_energy()\n",
    "energy_original = original_material_atoms.get_potential_energy()"
   ],
   "outputs": [],
   "execution_count": null
  },
  {
   "cell_type": "markdown",
   "id": "baae670f86c9b639",
   "metadata": {},
   "source": "### 3.2. Calculate energy difference"
  },
  {
   "cell_type": "code",
   "id": "430936d099f5b816",
   "metadata": {},
   "source": [
    "e_difference = energy_relaxed - energy_original\n",
    "print(f\"Energy difference: {e_difference} eV\")\n",
    "\n",
    "n_original = len(original_material_atoms)\n",
    "n_relaxed = len(material_atoms)\n",
    "\n",
    "energy_original_per_atom = energy_original / n_original\n",
    "energy_difference_per_atom = e_difference / n_relaxed\n",
    "\n",
    "print(f\"Energy difference per atom: {energy_difference_per_atom} eV/atom\")\n"
   ],
   "outputs": [],
   "execution_count": null
  },
  {
   "metadata": {},
   "cell_type": "code",
   "source": "",
   "id": "fa73a94409748e1c",
   "outputs": [],
   "execution_count": null
  }
 ],
 "metadata": {
  "kernelspec": {
   "display_name": "Python 3",
   "language": "python",
   "name": "python3"
  },
  "language_info": {
   "codemirror_mode": {
    "name": "ipython",
    "version": 2
   },
   "file_extension": ".py",
   "mimetype": "text/x-python",
   "name": "python",
   "nbconvert_exporter": "python",
   "pygments_lexer": "ipython2",
   "version": "2.7.6"
  }
 },
 "nbformat": 4,
 "nbformat_minor": 5
}
