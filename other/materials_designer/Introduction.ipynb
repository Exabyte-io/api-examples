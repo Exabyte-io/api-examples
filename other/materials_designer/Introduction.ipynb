{
 "cells": [
  {
   "cell_type": "markdown",
   "metadata": {},
   "source": [
    "# Materials Transformations with Python Notebooks\n",
    "\n",
    "## Overview\n",
    "\n",
    "This Jupyter Lite distribution contains pre-configured examples of materials transformations including simple ones like creation of supercell or a surface, and more complex like creating an interface with Zur and McGill Superlattice matching algorithm\n",
    "\n",
    "## Examples\n",
    "### 1. Builders / Transformations\n",
    "\n",
    "#### [1.1. Interface creation with Zur and McGill Superlattice (ZSL) algorithm](create_interface_with_min_strain_zsl.ipynb)\n",
    "\n",
    "This notebook lets user create an interface between two materials by finding matching superlattices and selecting optimal variants by (1) minimal strain and (2) minimal number of atoms. [Click here to open the notebook](create_interface_with_min_strain_zsl.ipynb).\n",
    "\n",
    "#### [1.2. Relaxed interface creation with ZSL algorithm and EMT potential](create_interface_with_relaxation_ase_emt.ipynb)\n",
    "\n",
    "This notebook lets user create an interface between two materials and then relax it using the EMT potential. Interface creation is done in the same way as in the previous example, employing ZSL algorithm. [Click here to open the notebook](create_interface_with_relaxation_ase_emt.ipynb).\n",
    "\n",
    "### 2. Data Import\n",
    "\n",
    "#### [2.1. Materials import from files in ASE-supported formats](import_materials_from_files.ipynb)\n",
    "\n",
    "This notebook demonstrates a workflow for converting materials data from user uploaded files in [formats supported by ASE](https://wiki.fysik.dtu.dk/ase/ase/io/io.html) into ESSE format for use with Mat3ra.com platform. [Click here to open the notebook](import_materials_from_files.ipynb).\n",
    "\n",
    "#### [2.2. Materials import from JARVIS](import_material_from_jarvis_db_entry.ipynb)\n",
    "\n",
    "This notebook demonstrates a workflow for converting materials data from the [JARVIS](https://jarvis.nist.gov/) database into ESSE format for use with Mat3ra.com platform. [Click here to open the notebook](import_material_from_jarvis_db_entry.ipynb).\n"
   ]
  }
 ],
 "metadata": {
  "language_info": {
   "name": "python"
  }
 },
 "nbformat": 4,
 "nbformat_minor": 2
}
