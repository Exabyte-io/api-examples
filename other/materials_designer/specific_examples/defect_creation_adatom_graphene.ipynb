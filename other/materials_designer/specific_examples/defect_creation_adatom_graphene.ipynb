{
 "cells": [
  {
   "cell_type": "markdown",
   "source": [
    "# Adatom Defect in Graphene\n",
    "\n",
    "## 0. Introduction\n",
    "\n",
    "This tutorial demonstrates creation of metal adatom on graphene hollow site.\n",
    "\n",
    "> **Chan, K. T., Neaton, J. B., & Cohen, M. L. (2008). \n",
    "> First-principles study of metal adatom adsorption on graphene. Physical Review B, 77(23). \n",
    "> [DOI](doi:10.1103/physrevb.77.235430 )\n",
    "\n",
    "\n",
    "Below is the figure 1 from the manuscript that shows the adsorption of metal adatom on graphene.\n",
    "\n",
    "\n",
    "![Fig 1.](https://i.imgur.com/adatom_graphene.png)\n",
    "\n"
   ],
   "metadata": {
    "collapsed": false
   },
   "id": "c62d2c5007947f56"
  },
  {
   "cell_type": "markdown",
   "source": [
    "## 1. Prepare the Environment\n",
    "### 1.1. Set up defects parameters \n",
    "Defect Configuration parameters are described in [Defect Configuration](https://github.com/Exabyte-io/made/blob/8196b759242551c77d1791bf5bd2f4150763cfef/src/py/mat3ra/made/tools/build/defect/configuration.py#L102).\n",
    "\n",
    "Note that we use approximate coordinates in crystal coordinates to define the defect positions. The approximate coordinates are used to find the closest site in the crystal to the given coordinates. The approximate coordinates are in the range of [0, 1] for each axis. Adjust the approximate coordinates to place the defect at the desired site in the crystal. Using the visuals provided in the notebook could help in determining the approximate coordinates.\n",
    "(Coordinates found using 3D editor in Materials Designer)"
   ],
   "metadata": {
    "collapsed": false
   },
   "id": "4d0772a456c9952c"
  },
  {
   "cell_type": "code",
   "outputs": [],
   "source": [
    "# Element to be placed at the site (ignored for vacancy)\n",
    "MATERIAL_NAME = \"Graphene\"\n",
    "\n",
    "SUPERCELL_MATRIX = [[4, 0, 0], [0, 4, 0], [0, 0, 1]]\n",
    "USE_CARTESIAN_COORDINATES = False\n",
    "\n",
    "# Defect parameters\n",
    "DEFECT_TYPE = \"adatom\"\n",
    "PLACEMENT_METHOD = \"equidistant\"\n",
    "DISTANCE_Z = 2.5\n",
    "APPROXIMATE_POSITION_ON_SURFACE = [0.5, 0.5]\n",
    "CHEMICAL_ELEMENT = \"Ti\"\n"
   ],
   "metadata": {
    "collapsed": false
   },
   "id": "b5459bac655071be",
   "execution_count": null
  },
  {
   "cell_type": "markdown",
   "source": [
    "### 1.2. Install Packages\n",
    "The step executes only in Pyodide environment. For other environments, the packages should be installed via `pip install` (see [README](../../README.ipynb))."
   ],
   "metadata": {
    "collapsed": false
   },
   "id": "d572e8697122fef5"
  },
  {
   "cell_type": "code",
   "outputs": [],
   "source": [
    "import sys\n",
    "\n",
    "if sys.platform == \"emscripten\":\n",
    "    import micropip\n",
    "\n",
    "    await micropip.install('mat3ra-api-examples', deps=False)\n",
    "    from utils.jupyterlite import install_packages\n",
    "\n",
    "    await install_packages(\"create_point_defect.ipynb\", \"../../../config.yml\")"
   ],
   "metadata": {
    "collapsed": false
   },
   "id": "58b0da5bbc87efc6",
   "execution_count": null
  },
  {
   "cell_type": "markdown",
   "source": [
    "### 1.3. Load input material\n",
    "In this notebook we will use the material from the `uploads` folder that has a few pre-set materials."
   ],
   "metadata": {
    "collapsed": false
   },
   "id": "b342c025f3e369d4"
  },
  {
   "cell_type": "code",
   "outputs": [],
   "source": [
    "from mat3ra.standata.materials import Materials\n",
    "from mat3ra.made.material import Material\n",
    "\n",
    "material = Material(Materials.get_by_name_first_match(MATERIAL_NAME))"
   ],
   "metadata": {
    "collapsed": false
   },
   "id": "7ebdb82cd32c735c",
   "execution_count": null
  },
  {
   "cell_type": "markdown",
   "source": [
    "### 1.4. Create and preview Supercell"
   ],
   "metadata": {
    "collapsed": false
   },
   "id": "8f459296488702b1"
  },
  {
   "cell_type": "code",
   "outputs": [],
   "source": [
    "from utils.visualize import visualize_materials as visualize\n",
    "from mat3ra.made.tools.build.supercell import create_supercell\n",
    "\n",
    "supercell = create_supercell(material, supercell_matrix=SUPERCELL_MATRIX)\n",
    "visualize(supercell, repetitions=[1, 1, 1], rotation=\"0x\")"
   ],
   "metadata": {
    "collapsed": false
   },
   "id": "926503f431d18cad",
   "execution_count": null
  },
  {
   "cell_type": "markdown",
   "source": [
    "## 2. Create the Defect\n",
    "### 2.1. Initialize Configuration and Builder parameters"
   ],
   "metadata": {
    "collapsed": false
   },
   "id": "2de6554d42e97c9d"
  },
  {
   "cell_type": "code",
   "outputs": [],
   "source": [
    "from mat3ra.made.tools.build.defect import  AdatomSlabPointDefectConfiguration\n",
    "from mat3ra.made.tools.build.defect.builders import PointDefectBuilderParameters\n",
    "\n",
    "adatom_config = AdatomSlabPointDefectConfiguration(crystal=supercell, \n",
    "                                              defect_type=DEFECT_TYPE, \n",
    "                                              placement_method=PLACEMENT_METHOD,\n",
    "                                              chemical_element=CHEMICAL_ELEMENT, \n",
    "                                              distance_z=DISTANCE_Z, \n",
    "                                              position_on_surface=APPROXIMATE_POSITION_ON_SURFACE\n",
    ")\n",
    "\n",
    "defect_builder_parameters = PointDefectBuilderParameters()"
   ],
   "metadata": {
    "collapsed": false
   },
   "id": "74bee7e5ba62200a",
   "execution_count": null
  },
  {
   "cell_type": "markdown",
   "source": [
    "### 2.2. Create the defects"
   ],
   "metadata": {
    "collapsed": false
   },
   "id": "a0f09aafb5d9f4d1"
  },
  {
   "cell_type": "code",
   "outputs": [],
   "source": [
    "from mat3ra.made.tools.build.defect import create_slab_defect\n",
    "\n",
    "material_with_defect = create_slab_defect(adatom_config)"
   ],
   "metadata": {
    "collapsed": false
   },
   "id": "6fc8ad13e12845f",
   "execution_count": null
  },
  {
   "cell_type": "markdown",
   "source": [
    "## 3. Visualize Result(s)"
   ],
   "metadata": {
    "collapsed": false
   },
   "id": "5ebf2d6bb1a82b9a"
  },
  {
   "cell_type": "code",
   "outputs": [],
   "source": [
    "from utils.visualize import visualize_materials as visualize\n",
    "\n",
    "visualize([{\"material\": supercell, \"title\": \"Original material\"},\n",
    "           {\"material\": material_with_defect, \"title\": f\"Material with defect\"}],\n",
    "          rotation=\"-90x\")\n",
    "visualize([{\"material\": supercell, \"title\": \"Original material\"},\n",
    "           {\"material\": material_with_defect, \"title\": f\"Material with defect\"}])"
   ],
   "metadata": {
    "collapsed": false
   },
   "id": "93a18e3e1d6e3e6e",
   "execution_count": null
  },
  {
   "cell_type": "markdown",
   "source": [
    "## 4. Write resulting material to the folder"
   ],
   "metadata": {
    "collapsed": false
   },
   "id": "61176790d8d979e0"
  },
  {
   "cell_type": "code",
   "outputs": [],
   "source": [
    "from utils.jupyterlite import download_content_to_file\n",
    "material_with_defect.name = \"N-doped Graphene\"\n",
    "download_content_to_file(material_with_defect.to_json(), \"N-doped_Graphene.json\")"
   ],
   "metadata": {
    "collapsed": false
   },
   "id": "20ab1b4be207428c",
   "execution_count": null
  }
 ],
 "metadata": {
  "kernelspec": {
   "display_name": "Python 3",
   "language": "python",
   "name": "python3"
  },
  "language_info": {
   "codemirror_mode": {
    "name": "ipython",
    "version": 2
   },
   "file_extension": ".py",
   "mimetype": "text/x-python",
   "name": "python",
   "nbconvert_exporter": "python",
   "pygments_lexer": "ipython2",
   "version": "2.7.6"
  }
 },
 "nbformat": 4,
 "nbformat_minor": 5
}
