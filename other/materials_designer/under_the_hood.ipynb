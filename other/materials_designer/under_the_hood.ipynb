{
 "cells": [
  {
   "cell_type": "markdown",
   "metadata": {
    "pycharm": {
     "name": "#%% md\n"
    }
   },
   "source": [
    "# Under the hood.\n",
    "\n",
    "## 1. Runtime / Kernels.\n",
    "\n",
    "### 1.1. Pyodide vs Python.\n",
    "\n",
    "The notebooks are designed to work in both conventional Python runtime (e.g. in JupyterLab, Colab), and in [Pyodide](https://pyodide.org/en/stable/) runtime kernel available with no setup on the web. The [JupyterLite](https://jupyterlite.readthedocs.io/en/stable/) framework is used for Pyodide.\n",
    "\n",
    "### 1.2. Installing Packages.\n",
    "\n",
    "The packages are installed based on the configuration(s) from the [config.yaml](../../config.yml) file available either (1) globally for all notebooks or (2) specific to a certain notebook by its name.\n",
    "\n",
    "In Pyodide, the packages are installed as:\n",
    "\n",
    "```python\n",
    "import sys\n",
    "\n",
    "if sys.platform == \"emscripten\":\n",
    "    import micropip\n",
    "    await micropip.install('mat3ra-api-examples', deps=False)\n",
    "    from utils.jupyterlite import install_packages\n",
    "    await install_packages(\"create_interface_with_min_strain_zsl.ipynb\")\n",
    "```\n",
    "\n",
    "where `create_interface_with_min_strain_zsl.ipynb` is the name of the current notebook, and `\"../../config.yml\"` is the relative path to the config file.\n",
    "\n",
    "\n",
    "## 2. Data Exchange.\n",
    "\n",
    "### 2.1. Pass Data to and from the Outside Runtime.\n",
    "The data is passed in *from* and *back to* the outside runtime (e.g. web application) using the `get_data` and `set_data` [helpers](../../utils/jupyterlite.py). The `get_data` function is used to retrieve the data from the outside runtime, while the `set_data` function is used to send the data back to the outside runtime.\n",
    "\n",
    "To get data, use `get_materials` function, a wrapper around `get_data('materials')\n",
    "\n",
    "```python\n",
    "from utils.jupyterlite import get_materials\n",
    "materials = get_materials(globals())\n",
    "```\n",
    "\n",
    "Similarly, to pass data to the outside runtime, `set_materials` helper can be used:\n",
    "\n",
    "```python\n",
    "from utils.jupyterlite import set_materials\n",
    "set_materials(interface)\n",
    "```\n",
    "\n",
    "where `interface` is the desired structure to be passed outside.\n",
    "\n",
    "### 2.2. Uploads Folder.\n",
    "The **\"uploads\"** folder is used to exchange files between different notebooks when a user uploads a file, or when the notebook generates a file as part of its output.\n",
    "\n",
    "### 2.3. Passing Data between notebooks.\n",
    "When running JupyterLab (Python) locally, the files only get stored in the \"uploads\" folder and are not sent to the outside runtime. In JupyterLite (Pyodide) environment, the files are sent to the outside runtime and stored in the \"uploads\" folder.\n",
    "\n",
    "\n",
    "## 3. Specific Considerations.\n",
    "\n",
    "### 3.1. Interface creation.\n",
    "\n",
    "The following conventions are used in the interface creation examples:\n",
    "\n",
    "3. We assume that two input materials are either in bulk form (e.g. Ni crystal) or layered (e.g. graphene).\n",
    "1. We construct the interface along the Z-axis. The material corresponding to the bottom of the interface is referred to as the \"**substrate**\", and the top - as the \"**film**\"."
   ]
  }
 ],
 "metadata": {
  "language_info": {
   "name": "python"
  },
  "kernelspec": {
   "name": "python3",
   "language": "python",
   "display_name": "Python 3 (ipykernel)"
  }
 },
 "nbformat": 4,
 "nbformat_minor": 2
}
