{
 "cells": [
  {
   "cell_type": "markdown",
   "metadata": {
    "id": "6naVAdmtsRA7"
   },
   "source": [
    "[![Open In Colab](https://colab.research.google.com/assets/colab-badge.svg)](https://colab.research.google.com/github/Exabyte-io/exabyte-api-examples/blob/feature/SOF-4400-skinny-req/examples/material/create_material.ipynb)"
   ]
  },
  {
   "cell_type": "markdown",
   "metadata": {
    "id": "4icy6yP1nrTF"
   },
   "source": [
    "# Overview\n",
    "\n",
    "In this example we create a material from a JSON config with [tags](https://docs.exabyte.io/entities-general/data/#tags) to identify the material."
   ]
  },
  {
   "cell_type": "markdown",
   "metadata": {
    "id": "UC33AKk8stwN"
   },
   "source": [
    "# Complete Authorization Form and Initialize Settings\n",
    "\n",
    "This will also determine environment and set all environment variables. We determine if we are using Jupyter Notebooks or Google Colab to run this tutorial. If google drive, we will have some extra steps to do."
   ]
  },
  {
   "cell_type": "code",
   "execution_count": null,
   "metadata": {
    "cellView": "form",
    "id": "63oC9xGZsuyy",
    "outputId": "1419f649-9ac2-4e50-a197-ff90c3769987"
   },
   "outputs": [],
   "source": [
    "#@title Authorization Form\n",
    "ACCOUNT_ID = \"\" #@param {type:\"string\"}\n",
    "AUTH_TOKEN = \"\" #@param {type:\"string\"}\n",
    "MATERIALS_PROJECT_API_KEY = \"\" #@param {type:\"string\"}\n",
    "ORGANIZATION_ID = \"\"#@param {type:\"string\"}\n",
    "\n",
    "import os, glob\n",
    "\n",
    "if 'google.colab' in str(get_ipython()):\n",
    "  from google.colab import _message\n",
    "  notebook_name = _message.blocking_request('get_ipynb')['ipynb']['metadata']['colab']['name']\n",
    "  !git clone -b feature/SOF-4400-skinny-req https://github.com/Exabyte-io/exabyte-api-examples.git    \n",
    "  notebook_path = glob.glob('**/'+notebook_name, recursive=True)[0][0:-len(notebook_name)]\n",
    "  os.chdir(notebook_path)\n",
    "  !pip install --no-deps -r ../../requirements-colab.txt\n",
    "  os.environ['notebook_environment'] = \"Colab\"\n",
    "elif 'ZMQInteractiveShell'  in str(get_ipython()):\n",
    "  os.environ['notebook_environment'] = \"Jupyter\"\n",
    "else:\n",
    "  os.environ['notebook_environment'] = \"\""
   ]
  },
  {
   "cell_type": "markdown",
   "metadata": {
    "id": "n3qID8yysRA9"
   },
   "source": [
    "# Imports"
   ]
  },
  {
   "cell_type": "code",
   "execution_count": null,
   "metadata": {
    "id": "eohqW-ICsRA-"
   },
   "outputs": [],
   "source": [
    "import sys, importlib\n",
    "module_path = os.path.abspath(os.path.join('..'))\n",
    "if module_path not in sys.path: sys.path.append(module_path)\n",
    "from utils.generic import display_JSON, update_settings_with_users_authorization_info\n",
    "update_settings_with_users_authorization_info(ACCOUNT_ID, AUTH_TOKEN, MATERIALS_PROJECT_API_KEY, ORGANIZATION_ID)\n",
    "\n",
    "import settings; importlib.reload(settings)\n",
    "from settings import ENDPOINT_ARGS\n",
    "\n",
    "if os.environ['notebook_environment'] == \"Jupyter\":\n",
    "    from utils.generic import ensure_packages_are_installed\n",
    "    ensure_packages_are_installed()\n",
    "\n",
    "from exabyte_api_client.endpoints.materials import MaterialEndpoints"
   ]
  },
  {
   "cell_type": "markdown",
   "metadata": {
    "id": "-afD9DmxsRA_"
   },
   "source": [
    "## Create material config\n",
    "\n",
    "Create material config in JSON format. See [Material](https://docs.exabyte.io/api/Material/put_materials_create) endpoint for more information about material config format."
   ]
  },
  {
   "cell_type": "code",
   "execution_count": null,
   "metadata": {
    "id": "YrcuQGZSsRA_"
   },
   "outputs": [],
   "source": [
    "CONFIG = {\n",
    "    \"name\": \"TEST MATERIAL\",\n",
    "    \"basis\": {\n",
    "        \"elements\": [\n",
    "            {\n",
    "                \"id\": 1,\n",
    "                \"value\": \"Si\"\n",
    "            },\n",
    "            {\n",
    "                \"id\": 2,\n",
    "                \"value\": \"Si\"\n",
    "            }\n",
    "        ],\n",
    "        \"coordinates\": [\n",
    "            {\n",
    "                \"id\": 1,\n",
    "                \"value\": [\n",
    "                    0,\n",
    "                    0,\n",
    "                    0\n",
    "                ]\n",
    "            },\n",
    "            {\n",
    "                \"id\": 2,\n",
    "                \"value\": [\n",
    "                    0.25,\n",
    "                    0.25,\n",
    "                    0.25\n",
    "                ]\n",
    "            }\n",
    "        ],\n",
    "        \"units\": \"crystal\",\n",
    "        \"name\": \"basis\"\n",
    "    },\n",
    "    \"lattice\": {\n",
    "        \"type\": \"FCC\",\n",
    "        \"a\": 3.867,\n",
    "        \"b\": 3.867,\n",
    "        \"c\": 3.867,\n",
    "        \"alpha\": 60,\n",
    "        \"beta\": 60,\n",
    "        \"gamma\": 60,\n",
    "        \"units\": {\n",
    "            \"length\": \"angstrom\",\n",
    "            \"angle\": \"degree\"\n",
    "        },\n",
    "        \"vectors\": {\n",
    "            \"a\": [\n",
    "                3.867,\n",
    "                0,\n",
    "                0\n",
    "            ],\n",
    "            \"b\": [\n",
    "                1.9335000000000004,\n",
    "                3.348920236434424,\n",
    "                0\n",
    "            ],\n",
    "            \"c\": [\n",
    "                1.9335000000000004,\n",
    "                1.1163067454781415,\n",
    "                3.1573922784475164\n",
    "            ],\n",
    "            \"name\": \"lattice vectors\",\n",
    "            \"alat\": 1,\n",
    "            \"units\": \"angstrom\"\n",
    "        }\n",
    "    },\n",
    "    \"tags\": [\n",
    "        \"REST API\"\n",
    "    ]\n",
    "}"
   ]
  },
  {
   "cell_type": "markdown",
   "metadata": {
    "id": "1S914EcCsRBA"
   },
   "source": [
    "## Create material\n",
    "\n",
    "Initialize `MaterialEndpoints` class and call `create` function to create material."
   ]
  },
  {
   "cell_type": "code",
   "execution_count": null,
   "metadata": {
    "id": "sEr2jm5wsRBA"
   },
   "outputs": [],
   "source": [
    "endpoint = MaterialEndpoints(*ENDPOINT_ARGS)\n",
    "material = endpoint.create(CONFIG)"
   ]
  },
  {
   "cell_type": "markdown",
   "metadata": {
    "id": "Lr8AYzECsRBA"
   },
   "source": [
    "## Print new material"
   ]
  },
  {
   "cell_type": "code",
   "execution_count": null,
   "metadata": {
    "id": "NGMxmSLUsRBB",
    "outputId": "0f8e0efa-e94b-4292-968c-a6252658c14a"
   },
   "outputs": [],
   "source": [
    "display_JSON(material)"
   ]
  }
 ],
 "metadata": {
  "colab": {
   "collapsed_sections": [],
   "name": "create_material.ipynb",
   "provenance": []
  },
  "kernelspec": {
   "display_name": "Python 3",
   "language": "python",
   "name": "python3"
  },
  "language_info": {
   "codemirror_mode": {
    "name": "ipython",
    "version": 3
   },
   "file_extension": ".py",
   "mimetype": "text/x-python",
   "name": "python",
   "nbconvert_exporter": "python",
   "pygments_lexer": "ipython3",
   "version": "3.8.6"
  }
 },
 "nbformat": 4,
 "nbformat_minor": 1
}
