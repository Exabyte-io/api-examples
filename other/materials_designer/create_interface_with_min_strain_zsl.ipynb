{
 "cells": [
  {
   "cell_type": "markdown",
   "metadata": {},
   "source": [
    "# Create an interface between two materials with minimal strain\n",
    "\n",
    "Use Zur and McGill superlattices matching [algorithm](https://doi.org/10.1063/1.3330840) to create interfaces between two materials using the Pymatgen [implementation](https://pymatgen.org/pymatgen.analysis.interfaces.html#pymatgen.analysis.interfaces.zsl).\n",
    "\n",
    "<h2 style=\"color:green\">Usage</h2>\n",
    "\n",
    "1. Make sure to select Input Materials\n",
    "2. Set notebook parameters\n",
    "3. Create slab configurations, view possible terminations and select the termination pair for the interface\n",
    "4. Set strain matching algorithm parameters (optional)\n",
    "5. Generate interfaces with strain matcher and analyze the plot of strain vs number of atoms\n",
    "6. Select the interface with the desired strain and visualize it\n",
    "7. Pass the selected interface to the outside runtime\n",
    "\n",
    "## Methodology\n",
    "\n",
    "The following happens in the script below:\n",
    "\n",
    "1. Create slabs for each input material. The materials data is passed in from and back to the web application according to this description (TBA).\n",
    "   We assume that two input materials are either in bulk form (e.g. Ni crystal) or layered (e.g. graphene). \n",
    "   \n",
    "   We construct the interface along the Z-axis. The material corresponding to the bottom of the interface is referred to as the \"**substrate**\", and the top - as the \"**film**\". \n",
    "\n",
    "2. Perform strain matching on the slabs to extract the supercell dimensions. The algorithm has a set of parameters, such as the maximum area considered, that can be configured by editing the cells below.\n",
    "\n",
    "3. When the strain matching is finished, the interface with the lowest strain (and the smallest number of atoms) is selected. We create the corresponding supercells and place them at a specified distance from each other (note no shift is performed currently).\n"
   ]
  },
  {
   "cell_type": "markdown",
   "source": [
    "## 1. Prepare the Environment\n",
    "### 1.1. Set up the notebook \n",
    "\n",
    "Set the following flags to control the notebook behavior "
   ],
   "metadata": {
    "collapsed": false
   }
  },
  {
   "cell_type": "code",
   "outputs": [],
   "source": [
    "IS_TERMINATIONS_SELECTION_INTERACTIVE = False # Enable interactive selection of terminations via UI prompt"
   ],
   "metadata": {
    "collapsed": false
   },
   "execution_count": null
  },
  {
   "cell_type": "markdown",
   "source": [
    "## 1. Install Packages\n",
    "The step executes only in Pyodide environment. For other environments, the packages should be installed via `pip install` (see [README](../../README.ipynb))."
   ],
   "metadata": {
    "collapsed": false
   }
  },
  {
   "cell_type": "code",
   "outputs": [],
   "source": [
    "import sys\n",
    "\n",
    "if sys.platform == \"emscripten\":\n",
    "    import micropip\n",
    "    await micropip.install('mat3ra-api-examples', deps=False)\n",
    "    from utils.jupyterlite import install_packages\n",
    "    await install_packages(\"create_interface_with_min_strain_zsl.ipynb\", \"../../config.yml\")"
   ],
   "metadata": {
    "collapsed": false
   },
   "execution_count": null
  },
  {
   "cell_type": "markdown",
   "source": [
    "### 1.3. Get input materials and assign `substrate` and `film`\n",
    "Materials are loaded with `get_data()`. The first material is assigned as substrate and the second as film."
   ],
   "metadata": {}
  },
  {
   "cell_type": "code",
   "outputs": [],
   "source": [
    "from mat3ra.made.material import Material\n",
    "from utils.jupyterlite import get_data\n",
    "\n",
    "# Get the list of input materials and load them into `materials_in` variable\n",
    "get_data(\"materials_in\", globals())\n",
    "materials = list(map(Material, globals()[\"materials_in\"]))\n",
    "substrate = materials[0]\n",
    "film = materials[1]"
   ],
   "metadata": {
    "collapsed": false
   },
   "execution_count": null
  },
  {
   "cell_type": "markdown",
   "source": [
    "### 1.4. Preview Substrate and Film"
   ],
   "metadata": {
    "collapsed": false
   }
  },
  {
   "cell_type": "code",
   "outputs": [],
   "source": [
    "from utils.visualize import visualize_materials as visualize\n",
    "visualize([substrate, film], repetitions=[3, 3, 1], rotation=\"0x\")"
   ],
   "metadata": {
    "collapsed": false
   },
   "execution_count": null
  },
  {
   "cell_type": "markdown",
   "source": [
    "## 2. Configure slabs and select termination pair\n",
    "\n",
    "### 2.1. Create Substrate and Layer Slabs\n",
    "Slab Configuration lets define the slab thickness, vacuum, and the Miller indices of the interfacial plane and get the slabs with possible terminations.\n",
    "Define the substrate slab cell that will be used as a base for the interface and the film slab cell that will be placed on top of the substrate slab."
   ],
   "metadata": {}
  },
  {
   "cell_type": "code",
   "outputs": [],
   "source": [
    "from mat3ra.made.tools.build.slab import SlabConfiguration\n",
    "\n",
    "film_slab_configuration = SlabConfiguration(\n",
    "    bulk=film,\n",
    "    # the Miller indices of the interfacial plane of the layer\n",
    "    miller_indices=(0, 0, 1),\n",
    "    thickness=1,\n",
    "    vacuum=1,\n",
    "    xy_supercell_matrix=[[1, 0], [0, 1]],\n",
    "    use_orthogonal_z=True\n",
    ")\n",
    "\n",
    "substrate_slab_configuration = SlabConfiguration(\n",
    "    bulk=substrate,\n",
    "    # the Miller indices of the interfacial plane of the substrate\n",
    "    miller_indices=(0,0,1),\n",
    "    thickness=3,\n",
    "    vacuum=3,\n",
    "    xy_supercell_matrix=[[1, 0], [0, 1]],\n",
    "    use_orthogonal_z=True\n",
    ")\n",
    "\n",
    "film_slab_terminations = film_slab_configuration.terminations\n",
    "substrate_slab_terminations = substrate_slab_configuration.terminations\n",
    "\n",
    "print(f\"Film terminations: {film_slab_terminations}\")\n",
    "print(f\"Substrate terminations: {substrate_slab_terminations}\")"
   ],
   "metadata": {},
   "execution_count": null
  },
  {
   "cell_type": "markdown",
   "source": [
    "### 2.2. Visualize slabs for possible terminations"
   ],
   "metadata": {
    "collapsed": false
   }
  },
  {
   "cell_type": "code",
   "outputs": [],
   "source": [
    "for termination in film_slab_terminations:\n",
    "    visualize(film_slab_configuration.get_slab(termination=termination), repetitions=[3, 3, 1], rotation=\"-90x\", title=f\"Termination: {termination}\")\n",
    "\n",
    "for termination in substrate_slab_terminations:\n",
    "    visualize(substrate_slab_configuration.get_slab(termination=termination), repetitions=[3, 3, 1], rotation=\"-90x\", title=f\"Termination: {termination}\")    "
   ],
   "metadata": {
    "collapsed": false
   },
   "execution_count": null
  },
  {
   "cell_type": "markdown",
   "source": [
    "### 2.3. Select the termination pair for the interface"
   ],
   "metadata": {
    "collapsed": false
   }
  },
  {
   "cell_type": "code",
   "outputs": [],
   "source": [
    "from itertools import product\n",
    "from utils.io import ui_prompt_select_array_element_by_index, ui_prompt_select_array_element_by_index_pyodide\n",
    "\n",
    "# Set the termination pair indices\n",
    "SUBSTRATE_TERMINATION_INDEX = 0\n",
    "FILM_TERMINATION_INDEX = 0\n",
    "\n",
    "termination_pair = (film_slab_terminations[FILM_TERMINATION_INDEX], substrate_slab_terminations[SUBSTRATE_TERMINATION_INDEX])\n",
    "termination_pairs = list(product(film_slab_terminations, substrate_slab_terminations))\n",
    "if IS_TERMINATIONS_SELECTION_INTERACTIVE:\n",
    "    if sys.platform == \"emscripten\":\n",
    "        termination_pair = await ui_prompt_select_array_element_by_index_pyodide(termination_pairs, element_name=\"film/substrate termination pair\")\n",
    "    else:\n",
    "        termination_pair = ui_prompt_select_array_element_by_index(termination_pairs, element_name=\"film/substrate termination pair\")"
   ],
   "metadata": {
    "collapsed": false
   },
   "execution_count": null
  },
  {
   "cell_type": "markdown",
   "source": [
    "## 3. Create interfaces\n",
    "\n",
    "### 3.1. Initialize the Interface Configuration"
   ],
   "metadata": {
    "collapsed": false
   }
  },
  {
   "cell_type": "code",
   "outputs": [],
   "source": [
    "from mat3ra.made.tools.build.interface import InterfaceConfiguration\n",
    "\n",
    "film_termination, substrate_termination = termination_pair\n",
    "interface_configuration = InterfaceConfiguration(film_slab_configuration, substrate_slab_configuration, film_termination, substrate_termination, distance_z=3.0, vacuum=5.0)"
   ],
   "metadata": {
    "collapsed": false
   },
   "execution_count": null
  },
  {
   "cell_type": "markdown",
   "source": [
    "### 3.2. Set Strain Matching Algorithm Parameters (Optional)\n",
    "The search algorithm for supercells matching can be tuned by setting its parameters directly, otherwise the default values are used."
   ],
   "metadata": {
    "collapsed": false
   }
  },
  {
   "cell_type": "code",
   "outputs": [],
   "source": [
    "from mat3ra.made.tools.build.interface import ZSLStrainMatchingParameters\n",
    "zsl_strain_matching_parameters = ZSLStrainMatchingParameters(max_area = 100)"
   ],
   "metadata": {
    "collapsed": false
   },
   "execution_count": null
  },
  {
   "cell_type": "markdown",
   "source": [
    "### 3.3. Generate interfaces with strain matcher\n",
    "Interfaces are sorted by size and strain."
   ],
   "metadata": {
    "collapsed": false
   }
  },
  {
   "cell_type": "code",
   "outputs": [],
   "source": [
    "from mat3ra.made.tools.build.interface import ZSLStrainMatchingInterfaceBuilder, ZSLStrainMatchingInterfaceBuilderParameters\n",
    "\n",
    "matched_interfaces_builder = ZSLStrainMatchingInterfaceBuilder(build_parameters=ZSLStrainMatchingInterfaceBuilderParameters(strain_matching_parameters=zsl_strain_matching_parameters))\n",
    "\n",
    "interfaces_sorted_by_size_and_strain= matched_interfaces_builder.get_materials(configuration=interface_configuration)"
   ],
   "metadata": {
    "collapsed": false
   },
   "execution_count": null
  },
  {
   "cell_type": "markdown",
   "source": [
    "## 4. Plot the results\n",
    "\n",
    "Plot the number of atoms vs strain. Adjust the parameters as needed.\n"
   ],
   "metadata": {
    "collapsed": false
   }
  },
  {
   "cell_type": "code",
   "outputs": [],
   "source": [
    "from utils.plot import plot_strain_vs_atoms\n",
    "\n",
    "PLOT_SETTINGS = {\n",
    "    \"HEIGHT\": 600,\n",
    "    \"X_SCALE\": \"log\",  # or linear\n",
    "    \"Y_SCALE\": \"log\",  # or linear\n",
    "}\n",
    "\n",
    "plot_strain_vs_atoms(interfaces_sorted_by_size_and_strain, PLOT_SETTINGS)"
   ],
   "metadata": {
    "collapsed": false
   },
   "execution_count": null
  },
  {
   "cell_type": "markdown",
   "source": [
    "## 5. Select the interface to pass outside this kernel\n",
    "\n",
    "### 5.1. Select the interface with the desired strain\n",
    "\n",
    "Select the index for the interface with the lowest strain and the smallest number of atoms."
   ],
   "metadata": {
    "collapsed": false
   }
  },
  {
   "cell_type": "code",
   "outputs": [],
   "source": [
    "# select the first interface with the lowest strain and the smallest number of atoms\n",
    "interfaces_slice_range_or_index = slice(0, 1)\n",
    "selected_interfaces = interfaces_sorted_by_size_and_strain[interfaces_slice_range_or_index]"
   ],
   "metadata": {
    "collapsed": false
   },
   "execution_count": null
  },
  {
   "cell_type": "markdown",
   "source": [
    "### 5.2. Visualize the selected interface(s)"
   ],
   "metadata": {
    "collapsed": false
   }
  },
  {
   "cell_type": "code",
   "outputs": [],
   "source": [
    "visualize(selected_interfaces, repetitions=[1, 1, 1], rotation=\"0x\")"
   ],
   "metadata": {
    "collapsed": false
   },
   "execution_count": null
  },
  {
   "cell_type": "markdown",
   "metadata": {},
   "source": [
    "### 6. Pass data to the outside runtime\n",
    "Enrich the selected interfaces names with the strain values and pass them to the application runtime."
   ]
  },
  {
   "cell_type": "code",
   "execution_count": null,
   "metadata": {},
   "outputs": [],
   "source": [
    "from utils.jupyterlite import set_data\n",
    "\n",
    "for interface in selected_interfaces:\n",
    "    if \"Interface, Strain:\" not in interface.name:\n",
    "        interface.name = f'{interface.name}, Interface, Strain:{interface.metadata[\"mean_abs_strain\"] * 100:.3f}%'\n",
    "\n",
    "materials_as_json = [selected_interface.to_json() for selected_interface in selected_interfaces]\n",
    "set_data(\"materials\", materials_as_json)"
   ]
  }
 ],
 "metadata": {
  "kernelspec": {
   "display_name": ".venv",
   "language": "python",
   "name": "python3"
  },
  "language_info": {
   "codemirror_mode": {
    "name": "ipython",
    "version": 3
   },
   "file_extension": ".py",
   "mimetype": "text/x-python",
   "name": "python",
   "nbconvert_exporter": "python",
   "pygments_lexer": "ipython3",
   "version": "3.10.12"
  },
  "widgets": {
   "application/vnd.jupyter.widget-state+json": {
    "state": {},
    "version_major": 2,
    "version_minor": 0
   }
  }
 },
 "nbformat": 4,
 "nbformat_minor": 4
}
