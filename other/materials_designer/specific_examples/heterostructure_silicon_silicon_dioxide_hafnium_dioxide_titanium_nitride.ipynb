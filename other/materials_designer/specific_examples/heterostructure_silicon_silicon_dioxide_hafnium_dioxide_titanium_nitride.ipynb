{
 "cells": [
  {
   "cell_type": "markdown",
   "id": "3ae4cc7db0846f04",
   "metadata": {
    "collapsed": false
   },
   "source": [
    "# Create High-k Metal Gate Stack Tutorial (Simplified)\n",
    "\n",
    "This notebook demonstrates how to create a high-k metal gate stack heterostructure with four materials: Si (substrate), SiO2 (gate oxide), HfO2 (high-k dielectric), and TiN (metal gate) using the **new simplified `create_heterostructure` function**.\n",
    "\n",
    "This approach replaces the complex multi-step interface creation with a single function call that automatically handles strain matching and layer stacking.\n",
    "\n",
    "We'll create a representation of the material from the [QuantumATK tutorial](https://docs.quantumatk.com/tutorials/hkmg_builder/hkmg_builder.html) without the amorphous step.\n",
    "\n",
    "<img src=\"https://docs.quantumatk.com/_images/update_square_default_stack.png\" alt=\"High-k Metal Gate Stack\" width=\"700\"/>\n",
    "\n",
    "## Key Improvements:\n",
    "- **Simplified Configuration**: Replace complex `SimpleNamespace` structures with simple lists\n",
    "- **Single Function Call**: Use `create_heterostructure()` instead of manual interface creation\n",
    "- **Automatic Optimization**: Built-in strain matching and supercell optimization\n"
   ]
  },
  {
   "cell_type": "markdown",
   "id": "f1db6e522c6716dc",
   "metadata": {
    "collapsed": false
   },
   "source": [
    "## 1. Configuration Parameters\n"
   ]
  },
  {
   "metadata": {},
   "cell_type": "code",
   "source": [
    "from types import SimpleNamespace\n",
    "# Structure parameters for each layer\n",
    "STRUCTURE_PARAMS = [\n",
    "    SimpleNamespace(\n",
    "        # Silicon substrate\n",
    "        name = \"Silicon\",\n",
    "        slab_params=SimpleNamespace(\n",
    "            miller_indices=(0, 0, 1),\n",
    "            thickness=4,  # atomic layers\n",
    "            xy_supercell_matrix=[[2, 0], [0, 2]],\n",
    "        ),\n",
    "        termination_formula=None,  # Use default termination for substrate\n",
    "    ),\n",
    "    SimpleNamespace(\n",
    "        # SiO2 layer\n",
    "        name = \"SiO2\",\n",
    "        slab_params=SimpleNamespace(\n",
    "            miller_indices=(1, 1, 1),\n",
    "            thickness=5,\n",
    "        ),\n",
    "        termination_formula=None,  # Use default termination for SiO2\n",
    "    ),\n",
    "    SimpleNamespace(\n",
    "        # HfO2 layer\n",
    "        name = \"HfO2.*MCL\",\n",
    "        slab_params=SimpleNamespace(\n",
    "            miller_indices=(0, 0, 1),\n",
    "            thickness=2,\n",
    "        ),\n",
    "        termination_formula=None,  # Use default termination for HfO2\n",
    "    ),\n",
    "    SimpleNamespace(\n",
    "        # TiN layer\n",
    "        name = \"TiN\",\n",
    "        slab_params=SimpleNamespace(\n",
    "            miller_indices=(1, 1, 1),\n",
    "            thickness=5,\n",
    "        ),\n",
    "        termination_formula=None,  # Use default termination for TiN\n",
    "    )\n",
    "]\n",
    "\n",
    "GAPS = [1.0, 1.0, 1.0]  # Gaps between layers\n",
    "\n",
    "VACUUM = 10.0 # Vacuum thickness over the heterostructure"
   ],
   "id": "d437c36db077a11c",
   "outputs": [],
   "execution_count": null
  },
  {
   "cell_type": "markdown",
   "id": "a671bb0a66616061",
   "metadata": {
    "collapsed": false
   },
   "source": [
    "### 1.2. Install Packages\n",
    "The step executes only in Pyodide environment. For other environments, the packages should be installed via `pip install` (see [README](../../README.ipynb))."
   ]
  },
  {
   "cell_type": "code",
   "id": "c11956a7712639b9",
   "metadata": {
    "collapsed": false
   },
   "source": [
    "import sys\n",
    "\n",
    "if sys.platform == \"emscripten\":\n",
    "    import micropip\n",
    "\n",
    "    await micropip.install(\"https://exabyte-io.github.io/api-examples/mat3ra_api_examples-0.1.dev1+g2d074bd-py3-none-any.whl\", deps=False)\n",
    "    await micropip.install('mat3ra-utils')\n",
    "    from mat3ra.utils.jupyterlite.packages import install_packages\n",
    "\n",
    "    await install_packages(\"specific_examples\")"
   ],
   "outputs": [],
   "execution_count": null
  },
  {
   "cell_type": "markdown",
   "id": "15599efa4b241366",
   "metadata": {
    "collapsed": false
   },
   "source": [
    "### 1.3. Get input material\n",
    "In this notebook we will use materials from Standata."
   ]
  },
  {
   "metadata": {},
   "cell_type": "code",
   "source": [
    "from mat3ra.standata.materials import Materials\n",
    "from mat3ra.made.tools.build import MaterialWithBuildMetadata\n",
    "from mat3ra.made.tools.helpers import StackComponentDict\n",
    "\n",
    "# Get materials from Standata\n",
    "crystals = [\n",
    "    MaterialWithBuildMetadata.create(Materials.get_by_name_first_match(STRUCTURE_PARAMS[0].name)),\n",
    "    MaterialWithBuildMetadata.create(Materials.get_by_name_first_match(STRUCTURE_PARAMS[1].name)),\n",
    "    MaterialWithBuildMetadata.create(Materials.get_by_name_first_match(STRUCTURE_PARAMS[2].name)),\n",
    "    MaterialWithBuildMetadata.create(Materials.get_by_name_first_match(STRUCTURE_PARAMS[3].name))\n",
    "]"
   ],
   "id": "1ef3c5ae52672e83",
   "outputs": [],
   "execution_count": null
  },
  {
   "metadata": {},
   "cell_type": "markdown",
   "source": [
    "## 2. Create the heterostructure\n",
    " ### 2.1. Create a list of dictionaries for each layer's parameters"
   ],
   "id": "988a23f9a0675323"
  },
  {
   "metadata": {},
   "cell_type": "code",
   "source": [
    "stack_component_dicts = [\n",
    "    StackComponentDict(\n",
    "        crystal=crystals[i],\n",
    "        miller_indices=dict.slab_params.miller_indices,\n",
    "        thickness=dict.slab_params.thickness,\n",
    "        xy_supercell_matrix=dict.slab_params.xy_supercell_matrix if hasattr(dict.slab_params, 'xy_supercell_matrix') else None,\n",
    "    ) for i, dict in enumerate(STRUCTURE_PARAMS)\n",
    "]"
   ],
   "id": "a038f7e04d307710",
   "outputs": [],
   "execution_count": null
  },
  {
   "metadata": {},
   "cell_type": "markdown",
   "source": [
    "### 2.1. Create the heterostructure\n",
    "Using the `create_heterostructure` function, then flipping to match the example."
   ],
   "id": "3da2b64a397a1c1e"
  },
  {
   "metadata": {},
   "cell_type": "code",
   "source": [
    "from mat3ra.made.tools.operations.core.unary import rotate\n",
    "from mat3ra.made.tools.helpers import create_heterostructure\n",
    "\n",
    "heterostructure = create_heterostructure(\n",
    "    stack_component_dicts= stack_component_dicts,\n",
    "    gaps= GAPS,\n",
    "    vacuum=VACUUM,\n",
    "    use_conventional_cell=True,\n",
    "    optimize_layer_supercells=True,\n",
    ")\n",
    "\n",
    "flipped_heterostructure = rotate(heterostructure, angle=90, axis=[1,0,0])"
   ],
   "id": "d534ad4b1b1be01c",
   "outputs": [],
   "execution_count": null
  },
  {
   "metadata": {},
   "cell_type": "markdown",
   "source": "## 3. Visualize the material\n",
   "id": "1e7b3bbe711cd26"
  },
  {
   "metadata": {},
   "cell_type": "code",
   "source": [
    "from utils.visualize import visualize_materials as visualize\n",
    "\n",
    "visualize(\n",
    "    flipped_heterostructure,\n",
    "    repetitions=[1, 1, 1],\n",
    "    viewer=\"wave\",\n",
    "    rotation='-90x'\n",
    ")\n"
   ],
   "id": "a5bf257d138dfbaa",
   "outputs": [],
   "execution_count": null
  },
  {
   "metadata": {},
   "cell_type": "markdown",
   "source": "## 4. Save the material",
   "id": "1886c9e81c03d2ef"
  },
  {
   "metadata": {},
   "cell_type": "code",
   "source": [
    "from utils.jupyterlite import download_content_to_file, set_materials\n",
    "\n",
    "flipped_heterostructure.name = \"Si-SiO2-HfO2-TiN Heterostructure\"\n",
    "set_materials(flipped_heterostructure)\n",
    "download_content_to_file(flipped_heterostructure.to_json(), \"heterostructure_high_k_metal_gate.json\")\n"
   ],
   "id": "5a245b0917b5c527",
   "outputs": [],
   "execution_count": null
  }
 ],
 "metadata": {
  "kernelspec": {
   "display_name": ".venv-3.11.2",
   "language": "python",
   "name": "python3"
  },
  "language_info": {
   "codemirror_mode": {
    "name": "ipython",
    "version": 3
   },
   "file_extension": ".py",
   "mimetype": "text/x-python",
   "name": "python",
   "nbconvert_exporter": "python",
   "pygments_lexer": "ipython3",
   "version": "3.11.2"
  }
 },
 "nbformat": 4,
 "nbformat_minor": 5
}
