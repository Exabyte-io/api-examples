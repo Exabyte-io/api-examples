{
 "cells": [
  {
   "attachments": {},
   "cell_type": "markdown",
   "metadata": {
    "id": "MLXQKxebuC-n"
   },
   "source": [
    "<a href=\"https://colab.research.google.com/github/Exabyte-io/api-examples/blob/dev/examples/material/import_materials_from_poscar.ipynb\" target=\"_parent\">\n",
    "<img alt=\"Open in Google Colab\" src=\"https://user-images.githubusercontent.com/20477508/128780728-491fea90-9b23-495f-a091-11681150db37.jpeg\" width=\"150\" border=\"0\">\n",
    "</a>"
   ]
  },
  {
   "attachments": {},
   "cell_type": "markdown",
   "metadata": {
    "id": "JHlckWayuC-p"
   },
   "source": [
    "# Overview\n",
    "\n",
    "This example demonstrates how to import a material from a POSCAR file via [Material](https://docs.exabyte.io/api/Material/post_materials_import) endpoints."
   ]
  },
  {
   "attachments": {},
   "cell_type": "markdown",
   "metadata": {
    "id": "K_Kn5WW9uC-q"
   },
   "source": [
    "# Complete Authorization Form and Initialize Settings\n",
    "\n",
    "This will also determine environment and set all environment variables. We determine if we are using Jupyter Notebooks or Google Colab to run this tutorial.\n",
    "\n",
    "If you are running this notebook from Google Colab, Colab takes ~1 min to execute the following cell.\n",
    "\n",
    "ACCOUNT_ID and AUTH_TOKEN - Authentication parameters needed for when making requests to [Exabyte.io's API Endpoints](https://docs.exabyte.io/rest-api/endpoints/).\n",
    "\n",
    "MATERIALS_PROJECT_API_KEY - Authentication parameter needed for when making requests to [Material Project's API](https://materialsproject.org/open)\n",
    "\n",
    "ORGANIZATION_ID - Authentication parameter needed for when working with collaborative accounts https://docs.exabyte.io/collaboration/organizations/overview/\n",
    "\n",
    "> <span style=\"color: orange\">**NOTE**</span>: If you are running this notebook from Jupyter, the variables ACCOUNT_ID, AUTH_TOKEN, MATERIALS_PROJECT_API_KEY, and ORGANIZATION_ID should be set in the file [settings.json](../settings.json) if you need to use these variables. To obtain API token parameters, please see the following link to the documentation explaining how to get them: https://docs.exabyte.io/accounts/ui/preferences/api/"
   ]
  },
  {
   "cell_type": "code",
   "execution_count": 1,
   "metadata": {
    "cellView": "form",
    "id": "uHaV3rUuuC-r"
   },
   "outputs": [],
   "source": [
    "#@title Authorization Form\n",
    "ACCOUNT_ID = \"ACCOUNT_ID\" #@param {type:\"string\"}\n",
    "AUTH_TOKEN = \"AUTH_TOKEN\" #@param {type:\"string\"}\n",
    "MATERIALS_PROJECT_API_KEY = \"MATERIALS_PROJECT_API_KEY\" #@param {type:\"string\"}\n",
    "ORGANIZATION_ID  = \"ORGANIZATION_ID\" #@param {type:\"string\"}\n",
    "\n",
    "import os, importlib\n",
    "os.environ.update(\n",
    "    dict(\n",
    "        ACCOUNT_ID=ACCOUNT_ID,\n",
    "        AUTH_TOKEN=AUTH_TOKEN,\n",
    "        MATERIALS_PROJECT_API_KEY=MATERIALS_PROJECT_API_KEY,\n",
    "        ORGANIZATION_ID=ORGANIZATION_ID,\n",
    "    )\n",
    ")\n",
    "\n",
    "!GIT_BRANCH=\"bugfix/SOF-5578-WIP\"; export GIT_BRANCH; export NEED_GIT_LFS=true; curl -s \"https://raw.githubusercontent.com/Exabyte-io/api-examples/${GIT_BRANCH}/scripts/env.sh\" | bash\n",
    "if \"COLAB_JUPYTER_IP\" in os.environ:\n",
    "    from utils.initialize_settings import get_notebook_info\n",
    "    os.chdir(os.path.join(\"api-examples\", os.path.dirname(get_notebook_info()[\"notebook_path\"])))"
   ]
  },
  {
   "attachments": {},
   "cell_type": "markdown",
   "metadata": {
    "id": "QuS0AUReuC-s"
   },
   "source": [
    "# Imports"
   ]
  },
  {
   "cell_type": "code",
   "execution_count": 2,
   "metadata": {
    "id": "XCRPc4MLuC-s"
   },
   "outputs": [],
   "source": [
    "from utils.generic import display_JSON\n",
    "import utils.settings; importlib.reload(utils.settings)\n",
    "from utils.settings import ENDPOINT_ARGS\n",
    "\n",
    "from exabyte_api_client.endpoints.materials import MaterialEndpoints"
   ]
  },
  {
   "attachments": {},
   "cell_type": "markdown",
   "metadata": {
    "id": "LvfQMJqsuC-t"
   },
   "source": [
    "## Set Parameters\n",
    "\n",
    "- **NAME**: material name\n",
    "- **POSCAR_PATH**: absolute path to the POSCAR file"
   ]
  },
  {
   "cell_type": "code",
   "execution_count": 3,
   "metadata": {
    "id": "cSLWWPheuC-t"
   },
   "outputs": [],
   "source": [
    "NAME = \"My Material\"\n",
    "POSCAR_PATH = \"../assets/mp-978534.poscar\""
   ]
  },
  {
   "attachments": {},
   "cell_type": "markdown",
   "metadata": {
    "id": "A6XJ_CbNuC-u"
   },
   "source": [
    "## Import material\n",
    "\n",
    "Initialize `MaterialEndpoints` class and call `import_from_file` function to import the material."
   ]
  },
  {
   "cell_type": "code",
   "execution_count": 4,
   "metadata": {
    "id": "7Jsik4LMuC-v"
   },
   "outputs": [],
   "source": [
    "content  = \"\"\n",
    "with open(POSCAR_PATH) as f:\n",
    "    content = f.read()\n",
    "\n",
    "endpoint = MaterialEndpoints(*ENDPOINT_ARGS)\n",
    "material = endpoint.import_from_file(NAME, content)"
   ]
  },
  {
   "attachments": {},
   "cell_type": "markdown",
   "metadata": {
    "id": "QnR-YtwSuC-v"
   },
   "source": [
    "## Print imported material\n",
    "\n",
    "Print the list of imported materials in pretty JSON below."
   ]
  },
  {
   "cell_type": "code",
   "execution_count": 5,
   "metadata": {
    "id": "5_3peD-MuC-v"
   },
   "outputs": [
    {
     "name": "stdout",
     "output_type": "stream",
     "text": [
      "{\n",
      "    \"_id\": \"HRfdn9WzgCNwZEs86\",\n",
      "    \"name\": \"My Material\",\n",
      "    \"tags\": [],\n",
      "    \"src\": {\n",
      "        \"extension\": \"poscar\",\n",
      "        \"filename\": \"My Material.poscar\",\n",
      "        \"text\": \"mp-978534\\n1.0\\n   3.940618000\\t   0.000000000\\t   0.000000000\\n  -1.970309000\\t   3.412675295\\t   0.000000000\\n   0.000000000\\t   0.000000000\\t   6.508731000\\nGe Si\\n2 2\\ndirect\\n   0.000000000    0.000000000    0.000000000 Ge\\n   0.333334000    0.666666000    0.500439000 Ge\\n   0.000000000    0.000000000    0.374560000 Si\\n   0.333334000    0.666666000    0.874561000 Si\",\n",
      "        \"hash\": \"3ec342f1db9bb96465491c98ba5679d5\"\n",
      "    },\n",
      "    \"hash\": \"8fa5b91b6d76115c571fabbe3507934d\",\n",
      "    \"formula\": \"SiGe\",\n",
      "    \"unitCellFormula\": \"Si2 Ge2\",\n",
      "    \"lattice\": {\n",
      "        \"a\": 3.940618,\n",
      "        \"b\": 3.940618,\n",
      "        \"c\": 6.508731,\n",
      "        \"alpha\": 90,\n",
      "        \"beta\": 90,\n",
      "        \"gamma\": 120,\n",
      "        \"units\": {\n",
      "            \"length\": \"angstrom\",\n",
      "            \"angle\": \"degree\"\n",
      "        },\n",
      "        \"type\": \"HEX\",\n",
      "        \"vectors\": {\n",
      "            \"a\": [\n",
      "                3.940618,\n",
      "                0,\n",
      "                0\n",
      "            ],\n",
      "            \"b\": [\n",
      "                -1.970309,\n",
      "                3.412675,\n",
      "                0\n",
      "            ],\n",
      "            \"c\": [\n",
      "                0,\n",
      "                0,\n",
      "                6.508731\n",
      "            ],\n",
      "            \"alat\": 1,\n",
      "            \"units\": \"angstrom\"\n",
      "        }\n",
      "    },\n",
      "    \"basis\": {\n",
      "        \"elements\": [\n",
      "            {\n",
      "                \"id\": 0,\n",
      "                \"value\": \"Ge\"\n",
      "            },\n",
      "            {\n",
      "                \"id\": 1,\n",
      "                \"value\": \"Ge\"\n",
      "            },\n",
      "            {\n",
      "                \"id\": 2,\n",
      "                \"value\": \"Si\"\n",
      "            },\n",
      "            {\n",
      "                \"id\": 3,\n",
      "                \"value\": \"Si\"\n",
      "            }\n",
      "        ],\n",
      "        \"coordinates\": [\n",
      "            {\n",
      "                \"id\": 0,\n",
      "                \"value\": [\n",
      "                    0,\n",
      "                    0,\n",
      "                    0\n",
      "                ]\n",
      "            },\n",
      "            {\n",
      "                \"id\": 1,\n",
      "                \"value\": [\n",
      "                    0.333334,\n",
      "                    0.666666,\n",
      "                    0.500439\n",
      "                ]\n",
      "            },\n",
      "            {\n",
      "                \"id\": 2,\n",
      "                \"value\": [\n",
      "                    0,\n",
      "                    0,\n",
      "                    0.37456\n",
      "                ]\n",
      "            },\n",
      "            {\n",
      "                \"id\": 3,\n",
      "                \"value\": [\n",
      "                    0.333334,\n",
      "                    0.666666,\n",
      "                    0.874561\n",
      "                ]\n",
      "            }\n",
      "        ],\n",
      "        \"units\": \"crystal\",\n",
      "        \"cell\": [\n",
      "            [\n",
      "                1,\n",
      "                0,\n",
      "                6.123233995736766e-17\n",
      "            ],\n",
      "            [\n",
      "                1.6081226496766366e-16,\n",
      "                1,\n",
      "                6.123233995736766e-17\n",
      "            ],\n",
      "            [\n",
      "                0,\n",
      "                0,\n",
      "                1\n",
      "            ]\n",
      "        ]\n",
      "    },\n",
      "    \"derivedProperties\": [\n",
      "        {\n",
      "            \"name\": \"volume\",\n",
      "            \"units\": \"angstrom^3\",\n",
      "            \"value\": 87.5297379435026\n",
      "        },\n",
      "        {\n",
      "            \"name\": \"density\",\n",
      "            \"units\": \"g/cm^3\",\n",
      "            \"value\": 3.8217554783673156\n",
      "        },\n",
      "        {\n",
      "            \"spaceGroupSymbol\": \"P6_3mc\",\n",
      "            \"tolerance\": {\n",
      "                \"value\": 0.3,\n",
      "                \"units\": \"angstrom\"\n",
      "            },\n",
      "            \"name\": \"symmetry\"\n",
      "        },\n",
      "        {\n",
      "            \"name\": \"elemental_ratio\",\n",
      "            \"value\": 0.5,\n",
      "            \"element\": \"Ge\"\n",
      "        },\n",
      "        {\n",
      "            \"name\": \"elemental_ratio\",\n",
      "            \"value\": 0.5,\n",
      "            \"element\": \"Si\"\n",
      "        },\n",
      "        {\n",
      "            \"name\": \"p-norm\",\n",
      "            \"value\": 2,\n",
      "            \"degree\": 0\n",
      "        },\n",
      "        {\n",
      "            \"name\": \"p-norm\",\n",
      "            \"value\": 0.7071067811865476,\n",
      "            \"degree\": 2\n",
      "        },\n",
      "        {\n",
      "            \"name\": \"p-norm\",\n",
      "            \"value\": 0.6299605249474366,\n",
      "            \"degree\": 3\n",
      "        },\n",
      "        {\n",
      "            \"name\": \"p-norm\",\n",
      "            \"value\": 0.5743491774985174,\n",
      "            \"degree\": 5\n",
      "        },\n",
      "        {\n",
      "            \"name\": \"p-norm\",\n",
      "            \"value\": 0.5520447568369062,\n",
      "            \"degree\": 7\n",
      "        },\n",
      "        {\n",
      "            \"name\": \"p-norm\",\n",
      "            \"value\": 0.5358867312681466,\n",
      "            \"degree\": 10\n",
      "        }\n",
      "    ],\n",
      "    \"creator\": {\n",
      "        \"_id\": \"acky7GjD9aownD6iJ\",\n",
      "        \"slug\": \"bsmith\",\n",
      "        \"cls\": \"User\"\n",
      "    },\n",
      "    \"owner\": {\n",
      "        \"_id\": \"5b143a4ecd313f405b314224\",\n",
      "        \"slug\": \"exabyte-io\",\n",
      "        \"cls\": \"Account\"\n",
      "    },\n",
      "    \"schemaVersion\": \"0.2.0\",\n",
      "    \"exabyteId\": \"gkqRopeiSSSmEwwmB\",\n",
      "    \"inSet\": [\n",
      "        {\n",
      "            \"_id\": \"5b143a7dacd8211c4898ab23\",\n",
      "            \"slug\": \"owner\",\n",
      "            \"cls\": \"Team\"\n",
      "        },\n",
      "        {\n",
      "            \"_id\": \"5b143a7dacd8211c4898ab24\",\n",
      "            \"slug\": \"admin\",\n",
      "            \"cls\": \"Team\"\n",
      "        },\n",
      "        {\n",
      "            \"_id\": \"5b143a7dacd8211c4898ab26\",\n",
      "            \"slug\": \"read\",\n",
      "            \"cls\": \"Team\"\n",
      "        },\n",
      "        {\n",
      "            \"_id\": \"5b143a7dacd8211c4898ab27\",\n",
      "            \"slug\": \"comment\",\n",
      "            \"cls\": \"Team\"\n",
      "        },\n",
      "        {\n",
      "            \"_id\": \"5b143a7dacd8211c4898ab28\",\n",
      "            \"slug\": \"execute\",\n",
      "            \"cls\": \"Team\"\n",
      "        },\n",
      "        {\n",
      "            \"_id\": \"5b143a7dacd8211c4898ab29\",\n",
      "            \"slug\": \"edit\",\n",
      "            \"cls\": \"Team\"\n",
      "        }\n",
      "    ],\n",
      "    \"isDefault\": false,\n",
      "    \"createdAt\": \"2021-07-12T14:08:36.187Z\",\n",
      "    \"isEntitySet\": false,\n",
      "    \"scaledHash\": \"59e2267262840a240a8193a7ab6ce493\",\n",
      "    \"updatedAt\": \"2021-07-12T14:08:36.349Z\"\n",
      "}\n"
     ]
    }
   ],
   "source": [
    "display_JSON(material)"
   ]
  }
 ],
 "metadata": {
  "colab": {
   "name": "import_materials_from_poscar.ipynb",
   "provenance": []
  },
  "kernelspec": {
   "display_name": "Python 3",
   "language": "python",
   "name": "python3"
  },
  "language_info": {
   "codemirror_mode": {
    "name": "ipython",
    "version": 3
   },
   "file_extension": ".py",
   "mimetype": "text/x-python",
   "name": "python",
   "nbconvert_exporter": "python",
   "pygments_lexer": "ipython3",
   "version": "3.8.6"
  }
 },
 "nbformat": 4,
 "nbformat_minor": 1
}
