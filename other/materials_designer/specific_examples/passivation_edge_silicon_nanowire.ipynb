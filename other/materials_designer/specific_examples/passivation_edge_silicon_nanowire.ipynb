{
 "cells": [
  {
   "cell_type": "markdown",
   "source": [
    "# Passivation of Silicon Nanowire\n",
    "\n",
    "## 0. Introduction.\n",
    "\n",
    "In this notebook, we will demonstrate how to passivate a Silicon Nanowire using the Coordination Based Passivation Builder. The passivation is based on the coordination number of the atoms in the material. The passivation builder will saturate the bonds of the atoms with a coordination number below a certain threshold. The threshold can be set interactively or manually.\n",
    "Following the publication:\n",
    "\n",
    "> **B. Aradi, L. E. Ramos, P. Deák, Th. Köhler, F. Bechstedt, R. Q. Zhang, and Th. Frauenheim**,\n",
    "> Theoretical study of the chemical gap tuning in silicon nanowires\n",
    "> Phys. Rev. B 76, 035305 (2007)\n",
    "> DOI: [10.1103/PhysRevB.76.035305](https://doi.org/10.1103/PhysRevB.76.035305)\n",
    "\n",
    "\n",
    "This notebook will focus on recreating the material from Fig. 1. (Silicon nanowire passivated with hydrogen):\n",
    "\n",
    "<img src=\"https://i.imgur.com/StKnrzu.png\" alt=\"Silicon Nanowire Passivated with Hydrogen\" width=\"400\"/>"
   ],
   "metadata": {
    "collapsed": false
   },
   "id": "81aa051ca1ca2e05"
  },
  {
   "cell_type": "markdown",
   "source": [
    "## 1. Prepare the environment\n",
    "### 1.1. Set up the notebook"
   ],
   "metadata": {
    "collapsed": false
   },
   "id": "af879d0489a86849"
  },
  {
   "cell_type": "code",
   "outputs": [],
   "source": [
    "# Enable interactive selection of coordination threshold\n",
    "IS_COORDINATION_SELECTION_INTERACTIVE = False\n",
    "\n",
    "BOND_LENGTH = 1.46 # in Angstroms\n",
    "PASSIVANT = \"H\" # Chemical symbol of the passivant\n",
    "COORDINATION_SEARCH_RADIUS = 2.5 # in Angstroms (sphere in which to search for neighbors)\n",
    "COORDINATION_THRESHOLD = 3 # Coordination number below which to passivate\n",
    "MAX_BONDS_TO_SATURATE = 2 # Maximum number of bonds to saturate"
   ],
   "metadata": {
    "collapsed": false
   },
   "id": "f704e7abe8fbe895",
   "execution_count": null
  },
  {
   "cell_type": "markdown",
   "source": [
    " ### 1.2. Install packages\n",
    "The step executes only in Pyodide environment. For other environments, the packages should be installed via `pip install` (see [README](../../README.ipynb))."
   ],
   "metadata": {
    "collapsed": false
   },
   "id": "aca8179cd83de117"
  },
  {
   "cell_type": "code",
   "outputs": [],
   "source": [
    "import sys\n",
    "\n",
    "if sys.platform == \"emscripten\":\n",
    "    import micropip\n",
    "\n",
    "    await micropip.install('mat3ra-api-examples', deps=False)\n",
    "    from utils.jupyterlite import install_packages\n",
    "\n",
    "    await install_packages(\"specific_examples\")"
   ],
   "metadata": {
    "collapsed": false
   },
   "id": "37904650f2478a1d",
   "execution_count": null
  },
  {
   "cell_type": "markdown",
   "source": [
    "## 2. Create the Silicon Nanowire\n",
    "### 2.1. Get input material\n",
    "Import the Silicon from Standata"
   ],
   "metadata": {
    "collapsed": false
   },
   "id": "25ed776c9802142e"
  },
  {
   "cell_type": "code",
   "outputs": [],
   "source": [
    "from mat3ra.standata.materials import Materials\n",
    "from mat3ra.made.material import Material\n",
    "\n",
    "silicon = Material(Materials.get_by_name_first_match('Silicon'))"
   ],
   "metadata": {
    "collapsed": false
   },
   "id": "6d48372afc12056e",
   "execution_count": null
  },
  {
   "cell_type": "markdown",
   "source": [
    "### 2.2. Create a silicon nanowire"
   ],
   "metadata": {
    "collapsed": false
   },
   "id": "602e2ef359ef1b83"
  },
  {
   "cell_type": "code",
   "outputs": [],
   "source": [
    "from mat3ra.made.tools.modify import rotate, filter_by_box, add_vacuum_sides\n",
    "from mat3ra.made.tools.build.slab import create_slab, SlabConfiguration\n",
    "\n",
    "slab_config = SlabConfiguration(bulk=silicon, miller_indices=(1,1,0), thickness=2, vacuum=0, use_orthogonal_z=True, xy_supercell_matrix=[[3,0],[0,2]]) \n",
    "silicon_slab = create_slab(slab_config)\n",
    "rotated_slab = rotate(silicon_slab, \"z\", -45)\n",
    "silicon_nanowire = filter_by_box(rotated_slab, [0.2,0.28,0], [0.78,0.87,1])\n",
    "nanowire_xy_pbc = rotate(silicon_nanowire, \"z\", -45)\n",
    "nanowire_xy_pbc = add_vacuum_sides(nanowire_xy_pbc, 10.0, on_x=True, on_y=True)"
   ],
   "metadata": {
    "collapsed": false
   },
   "id": "f8431fd833f6ed",
   "execution_count": null
  },
  {
   "cell_type": "markdown",
   "source": [
    "### 2.3. Visualize the Material"
   ],
   "metadata": {
    "collapsed": false
   },
   "id": "ea153d126ac5695d"
  },
  {
   "cell_type": "code",
   "outputs": [],
   "source": [
    "from utils.visualize import visualize_materials\n",
    "\n",
    "visualize_materials([{\"material\": nanowire_xy_pbc}, {\"material\": nanowire_xy_pbc, \"rotation\": \"-90x\"}])"
   ],
   "metadata": {
    "collapsed": false
   },
   "id": "76a4b4b6318d2549",
   "execution_count": null
  },
  {
   "cell_type": "markdown",
   "source": [
    "### 2.4. Compute the radial distribution function (RDF) of the Material"
   ],
   "metadata": {
    "collapsed": false
   },
   "id": "4eb261774078348f"
  },
  {
   "cell_type": "code",
   "outputs": [],
   "source": [
    "from utils.plot import plot_rdf\n",
    "\n",
    "plot_rdf(nanowire_xy_pbc, cutoff=10.0)"
   ],
   "metadata": {
    "collapsed": false
   },
   "id": "bb206aac50a38bb6",
   "execution_count": null
  },
  {
   "cell_type": "markdown",
   "source": [
    "## 3. Create passivated material\n",
    "### 3.1. Set the passivation parameters including the coordination threshold"
   ],
   "metadata": {
    "collapsed": false
   },
   "id": "a79faa88a33c8fdb"
  },
  {
   "cell_type": "code",
   "outputs": [],
   "source": [
    "from utils.io import select_coordination_threshold\n",
    "from mat3ra.made.tools.build.passivation import get_unique_coordination_numbers, PassivationConfiguration\n",
    "\n",
    "config = PassivationConfiguration(\n",
    "    slab=nanowire_xy_pbc,\n",
    "    passivant=PASSIVANT,\n",
    "    bond_length=BOND_LENGTH\n",
    ")\n",
    "\n",
    "coordination_numbers = get_unique_coordination_numbers(config)\n",
    "print(f\"Unique coordination numbers: {coordination_numbers}\")\n",
    "\n",
    "coordination_threshold = COORDINATION_THRESHOLD\n",
    "if IS_COORDINATION_SELECTION_INTERACTIVE:\n",
    "    coordination_threshold = await select_coordination_threshold(coordination_numbers, COORDINATION_THRESHOLD)"
   ],
   "metadata": {
    "collapsed": false
   },
   "id": "7b80ee26896bbbfb",
   "execution_count": null
  },
  {
   "cell_type": "markdown",
   "source": [
    "### 3.2. Create the passivated material"
   ],
   "metadata": {
    "collapsed": false
   },
   "id": "47744926ab328a82"
  },
  {
   "cell_type": "code",
   "outputs": [],
   "source": [
    "from mat3ra.made.tools.build.passivation import CoordinationBasedPassivationBuilderParameters, CoordinationBasedPassivationBuilder, create_passivation\n",
    "params = CoordinationBasedPassivationBuilderParameters(\n",
    "    shadowing_radius=COORDINATION_SEARCH_RADIUS, \n",
    "    coordination_threshold=coordination_threshold,    \n",
    "    bonds_to_passivate=MAX_BONDS_TO_SATURATE\n",
    ")\n",
    "\n",
    "passivation_builder = CoordinationBasedPassivationBuilder(params)\n",
    "passivated_nanowire = create_passivation(config, passivation_builder)"
   ],
   "metadata": {
    "collapsed": false
   },
   "id": "398b2dedef23e0fc",
   "execution_count": null
  },
  {
   "cell_type": "markdown",
   "source": [
    "## 4. Preview the Material"
   ],
   "metadata": {
    "collapsed": false
   },
   "id": "2b1a300ab807ce6d"
  },
  {
   "cell_type": "code",
   "outputs": [],
   "source": [
    "visualize_materials([{\"material\": passivated_nanowire}, {\"material\": passivated_nanowire, \"rotation\": \"-90x\"}])"
   ],
   "metadata": {
    "collapsed": false
   },
   "id": "cb85e7e42c0944f2",
   "execution_count": null
  },
  {
   "cell_type": "markdown",
   "source": [
    "## 5. Download the Material"
   ],
   "metadata": {
    "collapsed": false
   },
   "id": "5d7fa9201651fa72"
  },
  {
   "cell_type": "code",
   "outputs": [],
   "source": [
    "from utils.jupyterlite import download_content_to_file\n",
    "passivated_nanowire.name = \"H-Passivated Silicon Nanowire\"\n",
    "download_content_to_file(passivated_nanowire, \"passivated_nanowire.json\")"
   ],
   "metadata": {
    "collapsed": false
   },
   "id": "13f32826a5011952",
   "execution_count": null
  }
 ],
 "metadata": {
  "kernelspec": {
   "display_name": "Python 3",
   "language": "python",
   "name": "python3"
  },
  "language_info": {
   "codemirror_mode": {
    "name": "ipython",
    "version": 2
   },
   "file_extension": ".py",
   "mimetype": "text/x-python",
   "name": "python",
   "nbconvert_exporter": "python",
   "pygments_lexer": "ipython2",
   "version": "2.7.6"
  }
 },
 "nbformat": 4,
 "nbformat_minor": 5
}
