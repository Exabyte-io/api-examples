{
  "cells": [
    {
      "cell_type": "markdown",
      "metadata": {},
      "source": [
        "# Create an interface between two materials with minimal strain\n",
        "\n",
        "Use Zur and McGill superlattices matching [algorithm](https://doi.org/10.1063/1.3330840) to create interfaces between two materials using the Pymatgen [implementation](https://pymatgen.org/pymatgen.analysis.interfaces.html#pymatgen.analysis.interfaces.zsl).\n",
        "\n",
        "<h2 style=\"color:green\">Usage</h2>\n",
        "\n",
        "0. Make sure to select Input Materials\n",
        "1. Execute \"Run first: ...\" cell below to load Input Materials into the current kernel\n",
        "2. Set Input Parameters (e.g. `MILLER_INDICES`, `THICKNESS`, `MAX_AREA`) below or use the default values\n",
        "3. Click \"Run\" > \"Run All\" to run all cells\n",
        "4. Wait for the run to complete (depending on the area, it can take 1-2 min or more). Scroll down to view cell results.\n",
        "5. Review the strain plot and modify its parameters as needed\n",
        "\n",
        "## Methodology\n",
        "\n",
        "The following happens in the script below:\n",
        "\n",
        "1. Create slabs for each input material. The materials data is passed in from and back to the web application according to this description (TBA).\n",
        "   We assume that two input materials are either in bulk form (e.g. Ni crystal) or layered (e.g. graphene). \n",
        "   \n",
        "   We construct the interface along the Z-axis. The material corresponding to the bottom of the interface is referred to as the \"**substrate**\", and the top - as the \"**layer**\". \n",
        "\n",
        "2. Perform strain matching on the slabs to extract the supercell dimensions. The algorithm has a set of parameters, such as the maximum area considered, that can be configured by editing the cells below.\n",
        "\n",
        "3. When the strain matching is finished, the interface with the lowest strain (and the smallest number of atoms) is selected. We create the corresponding supercells and place them at a specified distance from each other (note no shift is performed currently).\n"
      ]
    },
    {
      "cell_type": "markdown",
      "metadata": {},
      "source": [
        "<h2 style=\"color:red\">Run first: load input materials in current kernel</h2>\n"
      ]
    },
    {
      "cell_type": "code",
      "execution_count": 30,
      "metadata": {},
      "outputs": [],
      "source": [
        "import json\n",
        "materials_in = []\n",
        "for file in [\"Ni.json\", \"Gr.json\"]:\n",
        "    with open(file, \"r\") as f:\n",
        "        data = f.read()\n",
        "        materials_in.append(json.loads(data))"
      ]
    },
    {
      "cell_type": "markdown",
      "metadata": {},
      "source": [
        "## 1. Set Input Parameters\n",
        "\n",
        "### 1.1. Select Substrate and Layer from Input Materials"
      ]
    },
    {
      "cell_type": "code",
      "execution_count": 31,
      "metadata": {},
      "outputs": [],
      "source": [
        "SUBSTRATE_PARAMETERS = {\n",
        "    \"MATERIAL_INDEX\": 0,  # the index of the material in the materials_in list\n",
        "    \"MILLER_INDICES\": (1, 1, 2),  # the miller indices of the interfacial plane\n",
        "    \"THICKNESS\": 3,  # in layers\n",
        "}\n",
        "\n",
        "LAYER_PARAMETERS = {\n",
        "    \"MATERIAL_INDEX\": 1, # the index of the material in the materials_in list\n",
        "    \"MILLER_INDICES\": (0, 0, 1),  # the miller indices of the interfacial plane\n",
        "    \"THICKNESS\": 1,  # in layers\n",
        "}"
      ]
    },
    {
      "cell_type": "markdown",
      "metadata": {},
      "source": [
        "### 1.2. Set Interface Parameters\n",
        "\n",
        "The distance between layer and substrate and maximum area to consider when matching.\n"
      ]
    },
    {
      "cell_type": "code",
      "execution_count": 32,
      "metadata": {},
      "outputs": [],
      "source": [
        "INTERFACE_PARAMETERS = {\n",
        "    \"DISTANCE_Z\": 3.0, # in Angstroms\n",
        "    \"MAX_AREA\": 50, # in Angstroms^2\n",
        "}"
      ]
    },
    {
      "cell_type": "markdown",
      "metadata": {},
      "source": [
        "### 1.3. Set Algorithm Parameters"
      ]
    },
    {
      "cell_type": "code",
      "execution_count": 33,
      "metadata": {},
      "outputs": [],
      "source": [
        "ZSL_PARAMETERS = {\n",
        "    \"MAX_AREA\": INTERFACE_PARAMETERS[\"MAX_AREA\"],  # The area to consider in Angstrom^2\n",
        "    \"MAX_AREA_TOL\": 0.09,  # The area within this tolerance is considered equal\n",
        "    \"MAX_LENGTH_TOL\": 0.03,  # supercell lattice vectors lengths within this tolerance are considered equal\n",
        "    \"MAX_ANGLE_TOL\": 0.01,  # supercell lattice angles within this tolerance are considered equal\n",
        "    \"STRAIN_TOL\": 10e-6,  # strains within this tolerance are considered equal\n",
        "}"
      ]
    },
    {
      "cell_type": "markdown",
      "metadata": {},
      "source": [
        "## 2. Install Packages"
      ]
    },
    {
      "cell_type": "code",
      "execution_count": 34,
      "metadata": {},
      "outputs": [],
      "source": [
        "# from jupyterlite.utils import install_packages\n",
        "\n",
        "# await install_packages(\"create_interface_with_min_strain_zsl.ipynb\")"
      ]
    },
    {
      "cell_type": "markdown",
      "metadata": {},
      "source": [
        "## 3. Create interfaces\n",
        "\n",
        "### 3.1. Extract Interfaces and Terminations\n",
        "\n",
        "Extract all possible layer/substrate supercell combinations within the maximum area including different terminations."
      ]
    },
    {
      "cell_type": "code",
      "execution_count": 35,
      "metadata": {
        "tags": [],
        "trusted": true
      },
      "outputs": [
        {
          "name": "stdout",
          "output_type": "stream",
          "text": [
            "Full Formula (Ni1)\n",
            "Reduced Formula: Ni\n",
            "abc   :   2.460000   2.460000   2.460000\n",
            "angles:  60.000004  59.999994  60.000003\n",
            "pbc   :       True       True       True\n",
            "Sites (1)\n",
            "  #  SP      a    b    c\n",
            "---  ----  ---  ---  ---\n",
            "  0  Ni      0    0    0 \n",
            "\n",
            "Full Formula (C2)\n",
            "Reduced Formula: C\n",
            "abc   :   2.467291   2.467291  20.000000\n",
            "angles:  90.000000  90.000000 119.999986\n",
            "pbc   :       True       True       True\n",
            "Sites (2)\n",
            "  #  SP           a         b    c\n",
            "---  ----  --------  --------  ---\n",
            "  0  C     0         0           0\n",
            "  1  C     0.333333  0.666667    0 \n",
            "\n",
            "Creating interfaces...\n"
          ]
        },
        {
          "name": "stderr",
          "output_type": "stream",
          "text": [
            "spglib: Too many lattice symmetries was found.\n",
            "        Reduce angle tolerance to 4.750000\n",
            "        (line 1015, /Users/runner/work/spglib/spglib/src/symmetry.c).\n",
            "spglib: Too many lattice symmetries was found.\n",
            "        Reduce angle tolerance to 4.512500\n",
            "        (line 1015, /Users/runner/work/spglib/spglib/src/symmetry.c).\n",
            "spglib: Too many lattice symmetries was found.\n",
            "        Reduce angle tolerance to 4.286875\n",
            "        (line 1015, /Users/runner/work/spglib/spglib/src/symmetry.c).\n",
            "spglib: Too many lattice symmetries was found.\n",
            "        Reduce angle tolerance to 4.072531\n",
            "        (line 1015, /Users/runner/work/spglib/spglib/src/symmetry.c).\n",
            "spglib: Too many lattice symmetries was found.\n",
            "        Reduce angle tolerance to 3.868905\n",
            "        (line 1015, /Users/runner/work/spglib/spglib/src/symmetry.c).\n",
            "spglib: Too many lattice symmetries was found.\n",
            "        Reduce angle tolerance to 3.675459\n",
            "        (line 1015, /Users/runner/work/spglib/spglib/src/symmetry.c).\n",
            "spglib: Too many lattice symmetries was found.\n",
            "        Reduce angle tolerance to 3.491686\n",
            "        (line 1015, /Users/runner/work/spglib/spglib/src/symmetry.c).\n",
            "spglib: Too many lattice symmetries was found.\n",
            "        Reduce angle tolerance to 3.317102\n",
            "        (line 1015, /Users/runner/work/spglib/spglib/src/symmetry.c).\n",
            "spglib: Too many lattice symmetries was found.\n",
            "        Reduce angle tolerance to 3.151247\n",
            "        (line 1015, /Users/runner/work/spglib/spglib/src/symmetry.c).\n",
            "spglib: Too many lattice symmetries was found.\n",
            "        Reduce angle tolerance to 2.993685\n",
            "        (line 1015, /Users/runner/work/spglib/spglib/src/symmetry.c).\n",
            "spglib: Too many lattice symmetries was found.\n",
            "        Reduce angle tolerance to 2.844000\n",
            "        (line 1015, /Users/runner/work/spglib/spglib/src/symmetry.c).\n",
            "spglib: Too many lattice symmetries was found.\n",
            "        Reduce angle tolerance to 2.701800\n",
            "        (line 1015, /Users/runner/work/spglib/spglib/src/symmetry.c).\n",
            "spglib: Too many lattice symmetries was found.\n",
            "        Reduce angle tolerance to 2.566710\n",
            "        (line 1015, /Users/runner/work/spglib/spglib/src/symmetry.c).\n",
            "spglib: Too many lattice symmetries was found.\n",
            "        Reduce angle tolerance to 2.438375\n",
            "        (line 1015, /Users/runner/work/spglib/spglib/src/symmetry.c).\n",
            "spglib: Too many lattice symmetries was found.\n",
            "        Reduce angle tolerance to 2.316456\n",
            "        (line 1015, /Users/runner/work/spglib/spglib/src/symmetry.c).\n",
            "spglib: Too many lattice symmetries was found.\n",
            "        Reduce angle tolerance to 2.200633\n",
            "        (line 1015, /Users/runner/work/spglib/spglib/src/symmetry.c).\n",
            "spglib: Too many lattice symmetries was found.\n",
            "        Reduce angle tolerance to 2.090602\n",
            "        (line 1015, /Users/runner/work/spglib/spglib/src/symmetry.c).\n",
            "spglib: Too many lattice symmetries was found.\n",
            "        Reduce angle tolerance to 1.986072\n",
            "        (line 1015, /Users/runner/work/spglib/spglib/src/symmetry.c).\n",
            "spglib: Too many lattice symmetries was found.\n",
            "        Reduce angle tolerance to 1.886768\n",
            "        (line 1015, /Users/runner/work/spglib/spglib/src/symmetry.c).\n",
            "spglib: Too many lattice symmetries was found.\n",
            "        Reduce angle tolerance to 1.792430\n",
            "        (line 1015, /Users/runner/work/spglib/spglib/src/symmetry.c).\n",
            "spglib: Too many lattice symmetries was found.\n",
            "        Reduce angle tolerance to 1.702808\n",
            "        (line 1015, /Users/runner/work/spglib/spglib/src/symmetry.c).\n",
            "spglib: Too many lattice symmetries was found.\n",
            "        Reduce angle tolerance to 1.617668\n",
            "        (line 1015, /Users/runner/work/spglib/spglib/src/symmetry.c).\n",
            "spglib: Too many lattice symmetries was found.\n",
            "        Reduce angle tolerance to 1.536784\n",
            "        (line 1015, /Users/runner/work/spglib/spglib/src/symmetry.c).\n",
            "spglib: Too many lattice symmetries was found.\n",
            "        Reduce angle tolerance to 1.459945\n",
            "        (line 1015, /Users/runner/work/spglib/spglib/src/symmetry.c).\n",
            "spglib: Too many lattice symmetries was found.\n",
            "        Reduce angle tolerance to 1.386948\n",
            "        (line 1015, /Users/runner/work/spglib/spglib/src/symmetry.c).\n",
            "spglib: Too many lattice symmetries was found.\n",
            "        Reduce angle tolerance to 1.317600\n",
            "        (line 1015, /Users/runner/work/spglib/spglib/src/symmetry.c).\n",
            "spglib: Too many lattice symmetries was found.\n",
            "        Reduce angle tolerance to 1.251720\n",
            "        (line 1015, /Users/runner/work/spglib/spglib/src/symmetry.c).\n",
            "spglib: Too many lattice symmetries was found.\n",
            "        Reduce angle tolerance to 1.189134\n",
            "        (line 1015, /Users/runner/work/spglib/spglib/src/symmetry.c).\n",
            "spglib: Too many lattice symmetries was found.\n",
            "        Reduce angle tolerance to 1.129678\n",
            "        (line 1015, /Users/runner/work/spglib/spglib/src/symmetry.c).\n",
            "spglib: Too many lattice symmetries was found.\n",
            "        Reduce angle tolerance to 1.073194\n",
            "        (line 1015, /Users/runner/work/spglib/spglib/src/symmetry.c).\n",
            "spglib: Too many lattice symmetries was found.\n",
            "        Reduce angle tolerance to 1.019534\n",
            "        (line 1015, /Users/runner/work/spglib/spglib/src/symmetry.c).\n",
            "spglib: Too many lattice symmetries was found.\n",
            "        Reduce angle tolerance to 0.968557\n",
            "        (line 1015, /Users/runner/work/spglib/spglib/src/symmetry.c).\n",
            "spglib: Too many lattice symmetries was found.\n",
            "        Reduce angle tolerance to 0.920130\n",
            "        (line 1015, /Users/runner/work/spglib/spglib/src/symmetry.c).\n",
            "spglib: Too many lattice symmetries was found.\n",
            "        Reduce angle tolerance to 0.874123\n",
            "        (line 1015, /Users/runner/work/spglib/spglib/src/symmetry.c).\n"
          ]
        }
      ],
      "source": [
        "from src.pymatgen_coherent_interface_builder import CoherentInterfaceBuilder, ZSLGenerator\n",
        "from src.utils import to_pymatgen\n",
        "\n",
        "if \"materials_in\" in globals():\n",
        "    pymatgen_materials = [to_pymatgen(item) for item in materials_in]\n",
        "for material in pymatgen_materials:\n",
        "    print(material, \"\\n\")\n",
        "\n",
        "\n",
        "def create_interfaces(settings):\n",
        "    print(\"Creating interfaces...\")\n",
        "    zsl = ZSLGenerator(\n",
        "        max_area_ratio_tol=settings[\"ZSL_PARAMETERS\"][\"MAX_AREA_TOL\"],\n",
        "        max_area=settings[\"ZSL_PARAMETERS\"][\"MAX_AREA\"],\n",
        "        max_length_tol=settings[\"ZSL_PARAMETERS\"][\"MAX_LENGTH_TOL\"],\n",
        "        max_angle_tol=settings[\"ZSL_PARAMETERS\"][\"MAX_ANGLE_TOL\"],\n",
        "    )\n",
        "\n",
        "    cib = CoherentInterfaceBuilder(\n",
        "        substrate_structure=pymatgen_materials[settings[\"SUBSTRATE_PARAMETERS\"][\"MATERIAL_INDEX\"]],\n",
        "        film_structure=pymatgen_materials[settings[\"LAYER_PARAMETERS\"][\"MATERIAL_INDEX\"]],\n",
        "        substrate_miller=settings[\"SUBSTRATE_PARAMETERS\"][\"MILLER_INDICES\"],\n",
        "        film_miller=settings[\"LAYER_PARAMETERS\"][\"MILLER_INDICES\"],\n",
        "        zslgen=zsl,\n",
        "        strain_tol=settings[\"ZSL_PARAMETERS\"][\"STRAIN_TOL\"],\n",
        "    )\n",
        "\n",
        "    # Find terminations\n",
        "    cib._find_terminations()\n",
        "    terminations = cib.terminations\n",
        "\n",
        "    # Create interfaces for each termination\n",
        "    interfaces = {}\n",
        "    for termination in terminations:\n",
        "        interfaces[termination] = []\n",
        "        for interface in cib.get_interfaces(\n",
        "            termination,\n",
        "            gap=settings[\"INTERFACE_PARAMETERS\"][\"DISTANCE_Z\"],\n",
        "            film_thickness=settings[\"LAYER_PARAMETERS\"][\"THICKNESS\"],\n",
        "            substrate_thickness=settings[\"SUBSTRATE_PARAMETERS\"][\"THICKNESS\"],\n",
        "            in_layers=True,\n",
        "        ):\n",
        "            # Wrap atoms to unit cell\n",
        "            interface[\"interface\"].make_supercell((1,1,1), to_unit_cell=True)\n",
        "            interfaces[termination].append(interface)\n",
        "    return interfaces, terminations\n",
        "\n",
        "\n",
        "interfaces, terminations = create_interfaces(\n",
        "    settings={\n",
        "        \"SUBSTRATE_PARAMETERS\": SUBSTRATE_PARAMETERS,\n",
        "        \"LAYER_PARAMETERS\": LAYER_PARAMETERS,\n",
        "        \"ZSL_PARAMETERS\": ZSL_PARAMETERS,\n",
        "        \"INTERFACE_PARAMETERS\": INTERFACE_PARAMETERS,\n",
        "    }\n",
        ")"
      ]
    },
    {
      "cell_type": "markdown",
      "metadata": {},
      "source": [
        "### 3.2. Print out the interfaces and terminations"
      ]
    },
    {
      "cell_type": "code",
      "execution_count": 36,
      "metadata": {},
      "outputs": [
        {
          "name": "stdout",
          "output_type": "stream",
          "text": [
            "Found 1 terminations\n",
            "Found 3 interfaces for ('C_P6/mmm_2', 'Ni_Pmmm_1') termination\n"
          ]
        }
      ],
      "source": [
        "print(f'Found {len(terminations)} terminations')\n",
        "for termination in terminations:\n",
        "    print(f\"Found {len(interfaces[termination])} interfaces for\", termination, \"termination\")"
      ]
    },
    {
      "cell_type": "markdown",
      "metadata": {},
      "source": [
        "## 4. Sort interfaces by strain\n",
        "\n",
        "### 4.1. Sort all interfaces"
      ]
    },
    {
      "cell_type": "code",
      "execution_count": 37,
      "metadata": {},
      "outputs": [],
      "source": [
        "# Could be \"strain\", \"von_mises_strain\", \"mean_abs_strain\"\n",
        "strain_mode = \"mean_abs_strain\"\n",
        "\n",
        "# Sort interfaces by the specified strain mode and number of sites\n",
        "def sort_interfaces(interfaces, terminations):\n",
        "    sorted_interfaces = {}\n",
        "    for termination in terminations:\n",
        "        sorted_interfaces[termination] = sorted(\n",
        "            interfaces[termination], key=lambda x: (x[strain_mode], x[\"interface\"].num_sites)\n",
        "        )\n",
        "    return sorted_interfaces\n",
        "\n",
        "\n",
        "sorted_interfaces = sort_interfaces(interfaces, terminations)"
      ]
    },
    {
      "cell_type": "markdown",
      "metadata": {},
      "source": [
        "### 4.2. Print out interfaces with lowest strain for each termination"
      ]
    },
    {
      "cell_type": "code",
      "execution_count": 38,
      "metadata": {},
      "outputs": [
        {
          "name": "stdout",
          "output_type": "stream",
          "text": [
            "Interface with lowest strain for termination ('C_P6/mmm_2', 'Ni_Pmmm_1') (index 0):\n",
            "    strain: 0.23000000000000004 %\n",
            "    number of atoms: 36\n"
          ]
        }
      ],
      "source": [
        "for termination in terminations:\n",
        "    print(f\"Interface with lowest strain for termination {termination} (index 0):\")\n",
        "    first_interface = interfaces[termination][0]\n",
        "    print(\"    strain:\", first_interface[strain_mode] * 100, \"%\")\n",
        "    print(\"    number of atoms:\", first_interface[\"interface\"].num_sites)"
      ]
    },
    {
      "cell_type": "markdown",
      "metadata": {},
      "source": [
        "## 5. Plot the results\n",
        "\n",
        "Plot the number of atoms vs strain. Adjust the parameters as needed.\n"
      ]
    },
    {
      "cell_type": "code",
      "execution_count": 39,
      "metadata": {},
      "outputs": [
        {
          "data": {
            "application/vnd.plotly.v1+json": {
              "config": {
                "plotlyServerURL": "https://plot.ly"
              },
              "data": [
                {
                  "hoverinfo": "text",
                  "mode": "markers",
                  "name": "Indices: 0",
                  "text": [
                    "Termination: ('C_P6/mmm_2', 'Ni_Pmmm_1')<br>Termination index: 0<br>Interfaces Index Range: 0<br>Strain: 0.23%<br>Atoms: 36"
                  ],
                  "type": "scatter",
                  "x": [
                    0.23000000000000004
                  ],
                  "y": [
                    36
                  ]
                },
                {
                  "hoverinfo": "text",
                  "mode": "markers",
                  "name": "Indices: 1-2",
                  "text": [
                    "Termination: ('C_P6/mmm_2', 'Ni_Pmmm_1')<br>Termination index: 0<br>Interfaces Index Range: 1-2<br>Strain: 0.36%<br>Atoms: 36"
                  ],
                  "type": "scatter",
                  "x": [
                    0.36400000000000005
                  ],
                  "y": [
                    36
                  ]
                }
              ],
              "layout": {
                "height": 600,
                "hovermode": "closest",
                "legend": {
                  "title": {
                    "text": "Interfaces Index Range"
                  }
                },
                "template": {
                  "data": {
                    "bar": [
                      {
                        "error_x": {
                          "color": "#2a3f5f"
                        },
                        "error_y": {
                          "color": "#2a3f5f"
                        },
                        "marker": {
                          "line": {
                            "color": "#E5ECF6",
                            "width": 0.5
                          },
                          "pattern": {
                            "fillmode": "overlay",
                            "size": 10,
                            "solidity": 0.2
                          }
                        },
                        "type": "bar"
                      }
                    ],
                    "barpolar": [
                      {
                        "marker": {
                          "line": {
                            "color": "#E5ECF6",
                            "width": 0.5
                          },
                          "pattern": {
                            "fillmode": "overlay",
                            "size": 10,
                            "solidity": 0.2
                          }
                        },
                        "type": "barpolar"
                      }
                    ],
                    "carpet": [
                      {
                        "aaxis": {
                          "endlinecolor": "#2a3f5f",
                          "gridcolor": "white",
                          "linecolor": "white",
                          "minorgridcolor": "white",
                          "startlinecolor": "#2a3f5f"
                        },
                        "baxis": {
                          "endlinecolor": "#2a3f5f",
                          "gridcolor": "white",
                          "linecolor": "white",
                          "minorgridcolor": "white",
                          "startlinecolor": "#2a3f5f"
                        },
                        "type": "carpet"
                      }
                    ],
                    "choropleth": [
                      {
                        "colorbar": {
                          "outlinewidth": 0,
                          "ticks": ""
                        },
                        "type": "choropleth"
                      }
                    ],
                    "contour": [
                      {
                        "colorbar": {
                          "outlinewidth": 0,
                          "ticks": ""
                        },
                        "colorscale": [
                          [
                            0,
                            "#0d0887"
                          ],
                          [
                            0.1111111111111111,
                            "#46039f"
                          ],
                          [
                            0.2222222222222222,
                            "#7201a8"
                          ],
                          [
                            0.3333333333333333,
                            "#9c179e"
                          ],
                          [
                            0.4444444444444444,
                            "#bd3786"
                          ],
                          [
                            0.5555555555555556,
                            "#d8576b"
                          ],
                          [
                            0.6666666666666666,
                            "#ed7953"
                          ],
                          [
                            0.7777777777777778,
                            "#fb9f3a"
                          ],
                          [
                            0.8888888888888888,
                            "#fdca26"
                          ],
                          [
                            1,
                            "#f0f921"
                          ]
                        ],
                        "type": "contour"
                      }
                    ],
                    "contourcarpet": [
                      {
                        "colorbar": {
                          "outlinewidth": 0,
                          "ticks": ""
                        },
                        "type": "contourcarpet"
                      }
                    ],
                    "heatmap": [
                      {
                        "colorbar": {
                          "outlinewidth": 0,
                          "ticks": ""
                        },
                        "colorscale": [
                          [
                            0,
                            "#0d0887"
                          ],
                          [
                            0.1111111111111111,
                            "#46039f"
                          ],
                          [
                            0.2222222222222222,
                            "#7201a8"
                          ],
                          [
                            0.3333333333333333,
                            "#9c179e"
                          ],
                          [
                            0.4444444444444444,
                            "#bd3786"
                          ],
                          [
                            0.5555555555555556,
                            "#d8576b"
                          ],
                          [
                            0.6666666666666666,
                            "#ed7953"
                          ],
                          [
                            0.7777777777777778,
                            "#fb9f3a"
                          ],
                          [
                            0.8888888888888888,
                            "#fdca26"
                          ],
                          [
                            1,
                            "#f0f921"
                          ]
                        ],
                        "type": "heatmap"
                      }
                    ],
                    "heatmapgl": [
                      {
                        "colorbar": {
                          "outlinewidth": 0,
                          "ticks": ""
                        },
                        "colorscale": [
                          [
                            0,
                            "#0d0887"
                          ],
                          [
                            0.1111111111111111,
                            "#46039f"
                          ],
                          [
                            0.2222222222222222,
                            "#7201a8"
                          ],
                          [
                            0.3333333333333333,
                            "#9c179e"
                          ],
                          [
                            0.4444444444444444,
                            "#bd3786"
                          ],
                          [
                            0.5555555555555556,
                            "#d8576b"
                          ],
                          [
                            0.6666666666666666,
                            "#ed7953"
                          ],
                          [
                            0.7777777777777778,
                            "#fb9f3a"
                          ],
                          [
                            0.8888888888888888,
                            "#fdca26"
                          ],
                          [
                            1,
                            "#f0f921"
                          ]
                        ],
                        "type": "heatmapgl"
                      }
                    ],
                    "histogram": [
                      {
                        "marker": {
                          "pattern": {
                            "fillmode": "overlay",
                            "size": 10,
                            "solidity": 0.2
                          }
                        },
                        "type": "histogram"
                      }
                    ],
                    "histogram2d": [
                      {
                        "colorbar": {
                          "outlinewidth": 0,
                          "ticks": ""
                        },
                        "colorscale": [
                          [
                            0,
                            "#0d0887"
                          ],
                          [
                            0.1111111111111111,
                            "#46039f"
                          ],
                          [
                            0.2222222222222222,
                            "#7201a8"
                          ],
                          [
                            0.3333333333333333,
                            "#9c179e"
                          ],
                          [
                            0.4444444444444444,
                            "#bd3786"
                          ],
                          [
                            0.5555555555555556,
                            "#d8576b"
                          ],
                          [
                            0.6666666666666666,
                            "#ed7953"
                          ],
                          [
                            0.7777777777777778,
                            "#fb9f3a"
                          ],
                          [
                            0.8888888888888888,
                            "#fdca26"
                          ],
                          [
                            1,
                            "#f0f921"
                          ]
                        ],
                        "type": "histogram2d"
                      }
                    ],
                    "histogram2dcontour": [
                      {
                        "colorbar": {
                          "outlinewidth": 0,
                          "ticks": ""
                        },
                        "colorscale": [
                          [
                            0,
                            "#0d0887"
                          ],
                          [
                            0.1111111111111111,
                            "#46039f"
                          ],
                          [
                            0.2222222222222222,
                            "#7201a8"
                          ],
                          [
                            0.3333333333333333,
                            "#9c179e"
                          ],
                          [
                            0.4444444444444444,
                            "#bd3786"
                          ],
                          [
                            0.5555555555555556,
                            "#d8576b"
                          ],
                          [
                            0.6666666666666666,
                            "#ed7953"
                          ],
                          [
                            0.7777777777777778,
                            "#fb9f3a"
                          ],
                          [
                            0.8888888888888888,
                            "#fdca26"
                          ],
                          [
                            1,
                            "#f0f921"
                          ]
                        ],
                        "type": "histogram2dcontour"
                      }
                    ],
                    "mesh3d": [
                      {
                        "colorbar": {
                          "outlinewidth": 0,
                          "ticks": ""
                        },
                        "type": "mesh3d"
                      }
                    ],
                    "parcoords": [
                      {
                        "line": {
                          "colorbar": {
                            "outlinewidth": 0,
                            "ticks": ""
                          }
                        },
                        "type": "parcoords"
                      }
                    ],
                    "pie": [
                      {
                        "automargin": true,
                        "type": "pie"
                      }
                    ],
                    "scatter": [
                      {
                        "fillpattern": {
                          "fillmode": "overlay",
                          "size": 10,
                          "solidity": 0.2
                        },
                        "type": "scatter"
                      }
                    ],
                    "scatter3d": [
                      {
                        "line": {
                          "colorbar": {
                            "outlinewidth": 0,
                            "ticks": ""
                          }
                        },
                        "marker": {
                          "colorbar": {
                            "outlinewidth": 0,
                            "ticks": ""
                          }
                        },
                        "type": "scatter3d"
                      }
                    ],
                    "scattercarpet": [
                      {
                        "marker": {
                          "colorbar": {
                            "outlinewidth": 0,
                            "ticks": ""
                          }
                        },
                        "type": "scattercarpet"
                      }
                    ],
                    "scattergeo": [
                      {
                        "marker": {
                          "colorbar": {
                            "outlinewidth": 0,
                            "ticks": ""
                          }
                        },
                        "type": "scattergeo"
                      }
                    ],
                    "scattergl": [
                      {
                        "marker": {
                          "colorbar": {
                            "outlinewidth": 0,
                            "ticks": ""
                          }
                        },
                        "type": "scattergl"
                      }
                    ],
                    "scattermapbox": [
                      {
                        "marker": {
                          "colorbar": {
                            "outlinewidth": 0,
                            "ticks": ""
                          }
                        },
                        "type": "scattermapbox"
                      }
                    ],
                    "scatterpolar": [
                      {
                        "marker": {
                          "colorbar": {
                            "outlinewidth": 0,
                            "ticks": ""
                          }
                        },
                        "type": "scatterpolar"
                      }
                    ],
                    "scatterpolargl": [
                      {
                        "marker": {
                          "colorbar": {
                            "outlinewidth": 0,
                            "ticks": ""
                          }
                        },
                        "type": "scatterpolargl"
                      }
                    ],
                    "scatterternary": [
                      {
                        "marker": {
                          "colorbar": {
                            "outlinewidth": 0,
                            "ticks": ""
                          }
                        },
                        "type": "scatterternary"
                      }
                    ],
                    "surface": [
                      {
                        "colorbar": {
                          "outlinewidth": 0,
                          "ticks": ""
                        },
                        "colorscale": [
                          [
                            0,
                            "#0d0887"
                          ],
                          [
                            0.1111111111111111,
                            "#46039f"
                          ],
                          [
                            0.2222222222222222,
                            "#7201a8"
                          ],
                          [
                            0.3333333333333333,
                            "#9c179e"
                          ],
                          [
                            0.4444444444444444,
                            "#bd3786"
                          ],
                          [
                            0.5555555555555556,
                            "#d8576b"
                          ],
                          [
                            0.6666666666666666,
                            "#ed7953"
                          ],
                          [
                            0.7777777777777778,
                            "#fb9f3a"
                          ],
                          [
                            0.8888888888888888,
                            "#fdca26"
                          ],
                          [
                            1,
                            "#f0f921"
                          ]
                        ],
                        "type": "surface"
                      }
                    ],
                    "table": [
                      {
                        "cells": {
                          "fill": {
                            "color": "#EBF0F8"
                          },
                          "line": {
                            "color": "white"
                          }
                        },
                        "header": {
                          "fill": {
                            "color": "#C8D4E3"
                          },
                          "line": {
                            "color": "white"
                          }
                        },
                        "type": "table"
                      }
                    ]
                  },
                  "layout": {
                    "annotationdefaults": {
                      "arrowcolor": "#2a3f5f",
                      "arrowhead": 0,
                      "arrowwidth": 1
                    },
                    "autotypenumbers": "strict",
                    "coloraxis": {
                      "colorbar": {
                        "outlinewidth": 0,
                        "ticks": ""
                      }
                    },
                    "colorscale": {
                      "diverging": [
                        [
                          0,
                          "#8e0152"
                        ],
                        [
                          0.1,
                          "#c51b7d"
                        ],
                        [
                          0.2,
                          "#de77ae"
                        ],
                        [
                          0.3,
                          "#f1b6da"
                        ],
                        [
                          0.4,
                          "#fde0ef"
                        ],
                        [
                          0.5,
                          "#f7f7f7"
                        ],
                        [
                          0.6,
                          "#e6f5d0"
                        ],
                        [
                          0.7,
                          "#b8e186"
                        ],
                        [
                          0.8,
                          "#7fbc41"
                        ],
                        [
                          0.9,
                          "#4d9221"
                        ],
                        [
                          1,
                          "#276419"
                        ]
                      ],
                      "sequential": [
                        [
                          0,
                          "#0d0887"
                        ],
                        [
                          0.1111111111111111,
                          "#46039f"
                        ],
                        [
                          0.2222222222222222,
                          "#7201a8"
                        ],
                        [
                          0.3333333333333333,
                          "#9c179e"
                        ],
                        [
                          0.4444444444444444,
                          "#bd3786"
                        ],
                        [
                          0.5555555555555556,
                          "#d8576b"
                        ],
                        [
                          0.6666666666666666,
                          "#ed7953"
                        ],
                        [
                          0.7777777777777778,
                          "#fb9f3a"
                        ],
                        [
                          0.8888888888888888,
                          "#fdca26"
                        ],
                        [
                          1,
                          "#f0f921"
                        ]
                      ],
                      "sequentialminus": [
                        [
                          0,
                          "#0d0887"
                        ],
                        [
                          0.1111111111111111,
                          "#46039f"
                        ],
                        [
                          0.2222222222222222,
                          "#7201a8"
                        ],
                        [
                          0.3333333333333333,
                          "#9c179e"
                        ],
                        [
                          0.4444444444444444,
                          "#bd3786"
                        ],
                        [
                          0.5555555555555556,
                          "#d8576b"
                        ],
                        [
                          0.6666666666666666,
                          "#ed7953"
                        ],
                        [
                          0.7777777777777778,
                          "#fb9f3a"
                        ],
                        [
                          0.8888888888888888,
                          "#fdca26"
                        ],
                        [
                          1,
                          "#f0f921"
                        ]
                      ]
                    },
                    "colorway": [
                      "#636efa",
                      "#EF553B",
                      "#00cc96",
                      "#ab63fa",
                      "#FFA15A",
                      "#19d3f3",
                      "#FF6692",
                      "#B6E880",
                      "#FF97FF",
                      "#FECB52"
                    ],
                    "font": {
                      "color": "#2a3f5f"
                    },
                    "geo": {
                      "bgcolor": "white",
                      "lakecolor": "white",
                      "landcolor": "#E5ECF6",
                      "showlakes": true,
                      "showland": true,
                      "subunitcolor": "white"
                    },
                    "hoverlabel": {
                      "align": "left"
                    },
                    "hovermode": "closest",
                    "mapbox": {
                      "style": "light"
                    },
                    "paper_bgcolor": "white",
                    "plot_bgcolor": "#E5ECF6",
                    "polar": {
                      "angularaxis": {
                        "gridcolor": "white",
                        "linecolor": "white",
                        "ticks": ""
                      },
                      "bgcolor": "#E5ECF6",
                      "radialaxis": {
                        "gridcolor": "white",
                        "linecolor": "white",
                        "ticks": ""
                      }
                    },
                    "scene": {
                      "xaxis": {
                        "backgroundcolor": "#E5ECF6",
                        "gridcolor": "white",
                        "gridwidth": 2,
                        "linecolor": "white",
                        "showbackground": true,
                        "ticks": "",
                        "zerolinecolor": "white"
                      },
                      "yaxis": {
                        "backgroundcolor": "#E5ECF6",
                        "gridcolor": "white",
                        "gridwidth": 2,
                        "linecolor": "white",
                        "showbackground": true,
                        "ticks": "",
                        "zerolinecolor": "white"
                      },
                      "zaxis": {
                        "backgroundcolor": "#E5ECF6",
                        "gridcolor": "white",
                        "gridwidth": 2,
                        "linecolor": "white",
                        "showbackground": true,
                        "ticks": "",
                        "zerolinecolor": "white"
                      }
                    },
                    "shapedefaults": {
                      "line": {
                        "color": "#2a3f5f"
                      }
                    },
                    "ternary": {
                      "aaxis": {
                        "gridcolor": "white",
                        "linecolor": "white",
                        "ticks": ""
                      },
                      "baxis": {
                        "gridcolor": "white",
                        "linecolor": "white",
                        "ticks": ""
                      },
                      "bgcolor": "#E5ECF6",
                      "caxis": {
                        "gridcolor": "white",
                        "linecolor": "white",
                        "ticks": ""
                      }
                    },
                    "title": {
                      "x": 0.05
                    },
                    "xaxis": {
                      "automargin": true,
                      "gridcolor": "white",
                      "linecolor": "white",
                      "ticks": "",
                      "title": {
                        "standoff": 15
                      },
                      "zerolinecolor": "white",
                      "zerolinewidth": 2
                    },
                    "yaxis": {
                      "automargin": true,
                      "gridcolor": "white",
                      "linecolor": "white",
                      "ticks": "",
                      "title": {
                        "standoff": 15
                      },
                      "zerolinecolor": "white",
                      "zerolinewidth": 2
                    }
                  }
                },
                "xaxis": {
                  "title": {
                    "text": "Strain (%)"
                  },
                  "type": "log"
                },
                "yaxis": {
                  "title": {
                    "text": "Number of atoms"
                  },
                  "type": "log"
                }
              }
            }
          },
          "metadata": {},
          "output_type": "display_data"
        },
        {
          "name": "stdout",
          "output_type": "stream",
          "text": [
            "Termination 0: ('C_P6/mmm_2', 'Ni_Pmmm_1')\n"
          ]
        }
      ],
      "source": [
        "import plotly.graph_objs as go\n",
        "from collections import defaultdict\n",
        "\n",
        "PLOT_SETTINGS = {\n",
        "    \"HEIGHT\": 600,\n",
        "    \"X_SCALE\": \"log\",  # or linear\n",
        "    \"Y_SCALE\": \"log\",  # or linear\n",
        "}\n",
        "\n",
        "\n",
        "def plot_strain_vs_atoms(sorted_interfaces, terminations, settings):\n",
        "    # Create a mapping from termination to its index\n",
        "    termination_to_index = {termination: i for i, termination in enumerate(terminations)}\n",
        "\n",
        "    grouped_interfaces = defaultdict(list)\n",
        "    for termination, interfaces in sorted_interfaces.items():\n",
        "        for index, interface_data in enumerate(interfaces):\n",
        "            strain_percentage = interface_data[\"mean_abs_strain\"] * 100\n",
        "            num_sites = interface_data[\"interface\"].num_sites\n",
        "            key = (strain_percentage, num_sites)\n",
        "            grouped_interfaces[key].append((index, termination))\n",
        "    \n",
        "    data = []\n",
        "    for (strain, num_sites), indices_and_terminations in grouped_interfaces.items():\n",
        "        termination_indices = defaultdict(list)\n",
        "        for index, termination in indices_and_terminations:\n",
        "            termination_indices[termination].append(index)\n",
        "        all_indices = [index for indices in termination_indices.values() for index in indices]\n",
        "        index_range = f\"{min(all_indices)}-{max(all_indices)}\" if len(all_indices) > 1 else str(min(all_indices))\n",
        "        \n",
        "        hover_text = \"<br>-----<br>\".join(\n",
        "             f\"Termination: {termination}<br>Termination index: {termination_to_index[termination]}<br>Interfaces Index Range: {index_range}<br>Strain: {strain:.2f}%<br>Atoms: {num_sites}\"\n",
        "            for termination, indices in termination_indices.items()\n",
        "        )\n",
        "        trace = go.Scatter(\n",
        "            x=[strain],\n",
        "            y=[num_sites],\n",
        "            text=[hover_text],\n",
        "            mode=\"markers\",\n",
        "            hoverinfo=\"text\",\n",
        "            name=f\"Indices: {index_range}\",\n",
        "        )\n",
        "        data.append(trace)\n",
        "\n",
        "    layout = go.Layout(\n",
        "        xaxis=dict(title=\"Strain (%)\", type=settings[\"X_SCALE\"]),\n",
        "        yaxis=dict(title=\"Number of atoms\", type=settings[\"Y_SCALE\"]),\n",
        "        hovermode=\"closest\",\n",
        "        height=settings[\"HEIGHT\"],\n",
        "        legend_title_text=\"Interfaces Index Range\",\n",
        "    )\n",
        "    fig = go.Figure(data=data, layout=layout)\n",
        "    fig.show()\n",
        "\n",
        "\n",
        "\n",
        "plot_strain_vs_atoms(sorted_interfaces, terminations, PLOT_SETTINGS)\n",
        "\n",
        "for i, termination in enumerate(terminations):\n",
        "    print(f\"Termination {i}:\", termination)"
      ]
    },
    {
      "cell_type": "markdown",
      "metadata": {},
      "source": [
        "## 6. Select the interface to relax\n",
        "\n",
        "### 6.1. Select the interface with the desired termination and strain\n",
        "\n",
        "The data in `sorted_interfaces` now contains an object with the following structure:\n",
        "\n",
        "```json\n",
        "{\n",
        "    \"('C_P6/mmm_2', 'Si_R-3m_1')\": [\n",
        "        { ...interface for ('C_P6/mmm_2', 'Si_R-3m_1') at index 0...},\n",
        "        { ...interface for ('C_P6/mmm_2', 'Si_R-3m_1') at index 1...},\n",
        "        ...\n",
        "    ],\n",
        "    \"<termination at index 1>\": [\n",
        "        { ...interface for 'termination at index 1' at index 0...},\n",
        "        { ...interface for 'termination at index 1' at index 1...},\n",
        "        ...\n",
        "    ]\n",
        "}\n",
        "```\n",
        "\n",
        "Select the index for termination first, and for it - the index in the list of corresponding interfaces sorted by strain (index 0 has minimum strain)."
      ]
    },
    {
      "cell_type": "code",
      "execution_count": 40,
      "metadata": {},
      "outputs": [],
      "source": [
        "termination_index = 0\n",
        "interface_index = 0\n",
        "\n",
        "termination = terminations[termination_index]\n",
        "\n",
        "interface = sorted_interfaces[termination][interface_index][\"interface\"]"
      ]
    },
    {
      "cell_type": "markdown",
      "metadata": {},
      "source": [
        "## 7. Apply relaxation\n",
        "### 7.1. Apply relaxation to the selected interface"
      ]
    },
    {
      "cell_type": "code",
      "execution_count": 41,
      "metadata": {},
      "outputs": [
        {
          "name": "stdout",
          "output_type": "stream",
          "text": [
            "      Step     Time          Energy         fmax\n",
            "BFGS:    0 17:00:09      -11.324706        0.1384\n",
            "BFGS:    1 17:00:09      -11.332162        0.1633\n",
            "BFGS:    2 17:00:09      -11.438082        0.3872\n",
            "BFGS:    3 17:00:09      -11.848308        0.7513\n",
            "BFGS:    4 17:00:09      -13.314651        1.0419\n",
            "BFGS:    5 17:00:09      -15.551924        0.1847\n",
            "BFGS:    6 17:00:09      -15.578726        0.1916\n",
            "BFGS:    7 17:00:09      -15.588771        0.1926\n",
            "BFGS:    8 17:00:09      -15.724151        0.2215\n",
            "BFGS:    9 17:00:09      -16.280454        0.4926\n",
            "BFGS:   10 17:00:09      -18.473614        1.1777\n",
            "BFGS:   11 17:00:09      -24.367547        2.5491\n",
            "BFGS:   12 17:00:09       50.246599      142.9838\n",
            "BFGS:   13 17:00:09      -24.575055        2.4819\n",
            "BFGS:   14 17:00:09      -24.726183        2.4586\n",
            "BFGS:   15 17:00:09      -20.550417       97.5342\n",
            "BFGS:   16 17:00:09      -25.728115        2.1086\n",
            "BFGS:   17 17:00:09      -25.933369        2.0235\n",
            "BFGS:   18 17:00:09      -26.098170        1.7169\n",
            "BFGS:   19 17:00:09      -26.113015        1.6028\n",
            "BFGS:   20 17:00:09      -26.130375        1.3099\n",
            "BFGS:   21 17:00:09      -26.163154        1.2111\n",
            "BFGS:   22 17:00:09      -26.172043        0.4650\n",
            "BFGS:   23 17:00:09      -26.176936        0.4813\n",
            "BFGS:   24 17:00:09      -26.189101        0.6393\n",
            "BFGS:   25 17:00:09      -26.209362        0.7847\n",
            "BFGS:   26 17:00:09      -26.266929        1.0402\n",
            "BFGS:   27 17:00:09      -26.354708        1.0553\n",
            "BFGS:   28 17:00:09      -26.434690        0.7288\n",
            "BFGS:   29 17:00:09      -26.471910        0.3288\n",
            "BFGS:   30 17:00:09      -26.477073        0.1512\n",
            "BFGS:   31 17:00:09      -26.478002        0.1258\n",
            "BFGS:   32 17:00:09      -26.479019        0.1044\n",
            "BFGS:   33 17:00:09      -26.480153        0.0437\n",
            "BFGS:   34 17:00:09      -26.480299        0.0210\n",
            "BFGS:   35 17:00:09      -26.480333        0.0191\n",
            "BFGS:   36 17:00:09      -26.480374        0.0234\n",
            "BFGS:   37 17:00:09      -26.480564        0.0490\n",
            "BFGS:   38 17:00:09      -26.481572        0.2413\n",
            "BFGS:   39 17:00:09      -26.480226        0.7745\n",
            "BFGS:   40 17:00:09      -26.484563        0.3687\n",
            "BFGS:   41 17:00:09      -26.489663        0.3637\n",
            "BFGS:   42 17:00:09      -26.568288        0.7684\n",
            "BFGS:   43 17:00:09      -26.791987        2.4408\n",
            "BFGS:   44 17:00:09      -26.956100        3.1923\n",
            "BFGS:   45 17:00:09      -27.305227        1.8082\n",
            "BFGS:   46 17:00:09      -27.454340        2.3761\n",
            "BFGS:   47 17:00:09      -27.220745        6.8062\n",
            "BFGS:   48 17:00:09      -27.993421        1.5172\n",
            "BFGS:   49 17:00:09      -28.162487        1.4789\n",
            "BFGS:   50 17:00:09      -28.446873        1.7200\n",
            "BFGS:   51 17:00:10      -29.064853        2.1427\n",
            "BFGS:   52 17:00:10      -29.292517        2.4882\n",
            "BFGS:   53 17:00:10      -29.523291        2.6305\n",
            "BFGS:   54 17:00:10      -30.071732        3.0258\n",
            "BFGS:   55 17:00:10      -30.958488        4.3610\n",
            "BFGS:   56 17:00:10      -30.317420       19.2348\n",
            "BFGS:   57 17:00:10      -31.162953        4.5574\n",
            "BFGS:   58 17:00:10      -32.419570        4.1273\n",
            "BFGS:   59 17:00:10      -29.947136       41.7934\n",
            "BFGS:   60 17:00:10      -34.261603        2.5603\n",
            "BFGS:   61 17:00:10      -34.370146        3.3268\n",
            "BFGS:   62 17:00:10      -34.914962        1.7803\n",
            "BFGS:   63 17:00:10      -35.272035        3.0717\n",
            "BFGS:   64 17:00:10      -36.109994        6.1716\n",
            "BFGS:   65 17:00:10      -37.214090       10.4483\n",
            "BFGS:   66 17:00:10      -38.387416       10.9996\n",
            "BFGS:   67 17:00:10      -39.535323       12.3242\n",
            "BFGS:   68 17:00:10      -40.807751        4.5175\n"
          ]
        },
        {
          "name": "stdout",
          "output_type": "stream",
          "text": [
            "BFGS:   69 17:00:10      -39.556184       60.9746\n",
            "BFGS:   70 17:00:10      -43.157249        4.0983\n",
            "BFGS:   71 17:00:10      -40.661733       33.6850\n",
            "BFGS:   72 17:00:10      -40.560012        4.6626\n",
            "BFGS:   73 17:00:10      -43.253337        3.2947\n",
            "BFGS:   74 17:00:10      -38.863907       89.9271\n",
            "BFGS:   75 17:00:10      -44.113839        3.5139\n",
            "BFGS:   76 17:00:10      -45.050002        4.4006\n",
            "BFGS:   77 17:00:10      -38.452922      137.5509\n",
            "BFGS:   78 17:00:10      -43.071188        6.3074\n",
            "BFGS:   79 17:00:10      -45.166037        3.9328\n",
            "BFGS:   80 17:00:10      -34.279462      195.0648\n",
            "BFGS:   81 17:00:10      -45.787660       24.7740\n",
            "BFGS:   82 17:00:10      -46.190383        4.1507\n",
            "BFGS:   83 17:00:10      -47.717238        3.8678\n",
            "BFGS:   84 17:00:10      -30.151939      120.3003\n",
            "BFGS:   85 17:00:10      -49.541524        5.4584\n",
            "BFGS:   86 17:00:10      -50.364700        3.4218\n",
            "BFGS:   87 17:00:10      -51.285314        7.1383\n",
            "BFGS:   88 17:00:10      -51.738432        4.7966\n",
            "BFGS:   89 17:00:10      -53.425076        4.9942\n",
            "BFGS:   90 17:00:10      -48.855586      104.8932\n",
            "BFGS:   91 17:00:10      -54.196315        4.6690\n",
            "BFGS:   92 17:00:10      -54.588803        4.9394\n",
            "BFGS:   93 17:00:10      -55.224186        4.8856\n",
            "BFGS:   94 17:00:10      -55.715168        5.7156\n",
            "BFGS:   95 17:00:10      -56.126496        6.5532\n",
            "BFGS:   96 17:00:10      -57.070307        3.3854\n",
            "BFGS:   97 17:00:10      -54.796189       53.8403\n",
            "BFGS:   98 17:00:10      -57.918872        4.6328\n",
            "BFGS:   99 17:00:10      -58.733456        3.2065\n",
            "BFGS:  100 17:00:10      -46.526300      215.4624\n",
            "BFGS:  101 17:00:10      -59.650532        3.3962\n",
            "BFGS:  102 17:00:10      -59.901380        3.3788\n",
            "BFGS:  103 17:00:10      -60.377064        3.6865\n",
            "BFGS:  104 17:00:10      -60.349395        5.8832\n",
            "BFGS:  105 17:00:10      -61.017478        3.8482\n",
            "BFGS:  106 17:00:10      -61.197490        4.9155\n",
            "BFGS:  107 17:00:10      -61.384478        4.0939\n",
            "BFGS:  108 17:00:10      -61.616313        3.0205\n",
            "BFGS:  109 17:00:10      -61.864591        2.5585\n",
            "BFGS:  110 17:00:10      -62.348903        3.6851\n",
            "BFGS:  111 17:00:10      -62.804881        5.4954\n",
            "BFGS:  112 17:00:10      -61.862724       16.2703\n",
            "BFGS:  113 17:00:10      -63.291373        2.5439\n",
            "BFGS:  114 17:00:10      -63.721260        8.5067\n",
            "BFGS:  115 17:00:10      -64.331935        3.3836\n",
            "BFGS:  116 17:00:10      -64.581689        4.7322\n",
            "BFGS:  117 17:00:10      -64.723914        3.1561\n",
            "BFGS:  118 17:00:10      -64.877041        2.7387\n",
            "BFGS:  119 17:00:10      -64.976057        2.3163\n",
            "BFGS:  120 17:00:10      -65.111470        1.2615\n",
            "BFGS:  121 17:00:10      -65.375929        4.4283\n",
            "BFGS:  122 17:00:10      -65.478838       11.2355\n",
            "BFGS:  123 17:00:10      -66.194288        5.7598\n",
            "BFGS:  124 17:00:10      -67.044943        3.6665\n",
            "BFGS:  125 17:00:10      -67.437424        5.8777\n",
            "BFGS:  126 17:00:10      -67.700398        4.4626\n",
            "BFGS:  127 17:00:10      -67.768306        6.7518\n",
            "BFGS:  128 17:00:10      -68.066527        3.4760\n",
            "BFGS:  129 17:00:10      -68.019932        9.6501\n",
            "BFGS:  130 17:00:10      -68.435076        2.1571\n",
            "BFGS:  131 17:00:10      -68.950433       18.2051\n",
            "BFGS:  132 17:00:10      -62.283758       67.0615\n",
            "BFGS:  133 17:00:10      -69.288528       10.8892\n",
            "BFGS:  134 17:00:10      -67.928000       22.6220\n",
            "BFGS:  135 17:00:10      -69.776503        4.3792\n",
            "BFGS:  136 17:00:10      -69.890727        5.8560\n",
            "BFGS:  137 17:00:10      -70.329118        3.1701\n",
            "BFGS:  138 17:00:10      -70.659789        2.9594\n",
            "BFGS:  139 17:00:11      -71.580065        7.1663\n",
            "BFGS:  140 17:00:11      -70.334653       18.6014\n",
            "BFGS:  141 17:00:11      -72.045930        6.6710\n",
            "BFGS:  142 17:00:11      -72.372364        4.9230\n",
            "BFGS:  143 17:00:11      -68.313319       44.0357\n",
            "BFGS:  144 17:00:11      -72.857020        4.5069\n",
            "BFGS:  145 17:00:11      -73.017308        4.3276\n",
            "BFGS:  146 17:00:11      -73.304273        2.9004\n",
            "BFGS:  147 17:00:11      -73.403598        2.1363\n",
            "BFGS:  148 17:00:11      -73.456717        1.4823\n",
            "BFGS:  149 17:00:11      -73.490839        1.2522\n",
            "BFGS:  150 17:00:11      -73.520995        1.0484\n",
            "BFGS:  151 17:00:11      -73.541781        0.8239\n",
            "BFGS:  152 17:00:11      -73.609499        1.5272\n",
            "BFGS:  153 17:00:11      -73.411754        7.5683\n",
            "BFGS:  154 17:00:11      -73.708867        2.4666\n",
            "BFGS:  155 17:00:11      -73.799450        2.5299\n",
            "BFGS:  156 17:00:11      -73.941705        6.6851\n",
            "BFGS:  157 17:00:11      -74.117693        3.0015\n",
            "BFGS:  158 17:00:11      -74.221032        3.7668\n",
            "BFGS:  159 17:00:11      -74.358433        5.5710\n",
            "BFGS:  160 17:00:11      -74.480761        5.7064\n",
            "BFGS:  161 17:00:11      -74.611227        7.5741\n",
            "BFGS:  162 17:00:11      -74.845132        3.7386\n",
            "BFGS:  163 17:00:11      -75.051244        5.2505\n",
            "BFGS:  164 17:00:11      -75.404079        5.1775\n",
            "BFGS:  165 17:00:11      -74.824829       24.4848\n",
            "BFGS:  166 17:00:11      -76.025017        4.2811\n",
            "BFGS:  167 17:00:11      -76.997689        4.3025\n",
            "BFGS:  168 17:00:11      -75.588352       34.1517\n",
            "BFGS:  169 17:00:11      -77.476705        4.7538\n",
            "BFGS:  170 17:00:11      -77.853151        4.4086\n",
            "BFGS:  171 17:00:11      -79.029128        9.8985\n",
            "BFGS:  172 17:00:11      -79.453834        4.7211\n",
            "BFGS:  173 17:00:11      -79.924020        4.4965\n",
            "BFGS:  174 17:00:11      -79.901082        7.0743\n",
            "BFGS:  175 17:00:11      -79.598802        5.6533\n",
            "BFGS:  176 17:00:11      -80.081482        1.4008\n",
            "BFGS:  177 17:00:11      -80.140912        1.7911\n",
            "BFGS:  178 17:00:11      -80.172664        1.1257\n",
            "BFGS:  179 17:00:11      -80.191669        1.0863\n",
            "BFGS:  180 17:00:11      -80.214970        1.1150\n",
            "BFGS:  181 17:00:11      -80.232184        0.9508\n",
            "BFGS:  182 17:00:11      -80.239890        0.7700\n",
            "BFGS:  183 17:00:11      -80.255291        0.6870\n",
            "BFGS:  184 17:00:11      -80.268411        0.8586\n",
            "BFGS:  185 17:00:11      -80.297021        1.1487\n",
            "BFGS:  186 17:00:11      -80.330254        1.2955\n",
            "BFGS:  187 17:00:11      -80.365189        1.0972\n",
            "BFGS:  188 17:00:11      -80.409932        0.5643\n",
            "BFGS:  189 17:00:11      -80.423785        0.6378\n",
            "BFGS:  190 17:00:11      -80.433885        0.5434\n",
            "BFGS:  191 17:00:11      -80.440343        0.4600\n",
            "BFGS:  192 17:00:11      -80.444994        0.2679\n",
            "BFGS:  193 17:00:11      -80.448186        0.4090\n",
            "BFGS:  194 17:00:11      -80.450378        0.3934\n",
            "BFGS:  195 17:00:11      -80.452425        0.2701\n",
            "BFGS:  196 17:00:11      -80.453750        0.2450\n",
            "BFGS:  197 17:00:11      -80.454592        0.1962\n",
            "BFGS:  198 17:00:11      -80.455229        0.1480\n",
            "BFGS:  199 17:00:11      -80.455934        0.1367\n",
            "BFGS:  200 17:00:11      -80.456650        0.1152\n",
            "BFGS:  201 17:00:11      -80.457139        0.1046\n",
            "BFGS:  202 17:00:11      -80.457555        0.0895\n",
            "BFGS:  203 17:00:11      -80.458095        0.1040\n",
            "BFGS:  204 17:00:11      -80.458947        0.1175\n",
            "BFGS:  205 17:00:11      -80.460054        0.1382\n",
            "BFGS:  206 17:00:11      -80.461246        0.1433\n",
            "BFGS:  207 17:00:11      -80.462451        0.1936\n",
            "BFGS:  208 17:00:11      -80.464042        0.2015\n",
            "BFGS:  209 17:00:11      -80.467180        0.2843\n",
            "BFGS:  210 17:00:11      -80.472734        0.4912\n",
            "BFGS:  211 17:00:11      -80.482994        0.6160\n",
            "BFGS:  212 17:00:11      -80.513912        1.1351\n",
            "BFGS:  213 17:00:11      -80.448185        2.4565\n",
            "BFGS:  214 17:00:11      -80.580102        2.3667\n",
            "BFGS:  215 17:00:11      -80.378028        1.5134\n",
            "BFGS:  216 17:00:11      -80.602630        1.2396\n",
            "BFGS:  217 17:00:11      -80.267341        4.8824\n",
            "BFGS:  218 17:00:11      -80.688379        0.9656\n",
            "BFGS:  219 17:00:11      -80.782241        1.2130\n",
            "BFGS:  220 17:00:11      -80.587165        4.5140\n",
            "BFGS:  221 17:00:11      -80.138315       13.8356\n",
            "BFGS:  222 17:00:11      -80.996521        3.5646\n",
            "BFGS:  223 17:00:11      -81.258114        2.3521\n",
            "BFGS:  224 17:00:11      -81.456828        1.8545\n",
            "BFGS:  225 17:00:11      -81.706755        3.5975\n",
            "BFGS:  226 17:00:11      -74.325888       95.3231\n",
            "BFGS:  227 17:00:11      -81.842153        3.3753\n",
            "BFGS:  228 17:00:11      -82.010400        3.7700\n",
            "BFGS:  229 17:00:11      -70.974148      188.5715\n",
            "BFGS:  230 17:00:11      -82.021211        4.6074\n",
            "BFGS:  231 17:00:11      -82.246595        3.3164\n",
            "BFGS:  232 17:00:11      -82.384390        3.3589\n",
            "BFGS:  233 17:00:11      -82.567184        3.4142\n",
            "BFGS:  234 17:00:11      -82.669056        2.9981\n",
            "BFGS:  235 17:00:11      -82.726349        2.7633\n",
            "BFGS:  236 17:00:11      -82.808295        1.8808\n",
            "BFGS:  237 17:00:11      -82.847173        1.4235\n",
            "BFGS:  238 17:00:11      -82.896644        0.6781\n",
            "BFGS:  239 17:00:11      -82.906015        0.4393\n",
            "BFGS:  240 17:00:11      -82.913390        0.3373\n",
            "BFGS:  241 17:00:11      -82.918125        0.3599\n",
            "BFGS:  242 17:00:11      -82.923887        0.5484\n",
            "BFGS:  243 17:00:11      -82.938049        0.7540\n",
            "BFGS:  244 17:00:11      -82.951243        1.5421\n",
            "BFGS:  245 17:00:11      -82.984679        1.0250\n",
            "BFGS:  246 17:00:11      -83.044978        1.0126\n",
            "BFGS:  247 17:00:11      -82.075648       16.3771\n",
            "BFGS:  248 17:00:11      -83.130626        1.4402\n",
            "BFGS:  249 17:00:12      -83.181044        0.9672\n",
            "BFGS:  250 17:00:12      -83.305207        1.6284\n",
            "BFGS:  251 17:00:12      -83.342092        2.6959\n",
            "BFGS:  252 17:00:12      -83.436279        1.2713\n",
            "BFGS:  253 17:00:12      -83.529393        1.1319\n",
            "BFGS:  254 17:00:12      -83.758514        2.6958\n",
            "BFGS:  255 17:00:12      -84.185149        6.9480\n",
            "BFGS:  256 17:00:12      -78.222441       93.8192\n",
            "BFGS:  257 17:00:12      -84.680948        5.2928\n",
            "BFGS:  258 17:00:12      -85.028287        6.9690\n",
            "BFGS:  259 17:00:12      -85.871315        4.9988\n",
            "BFGS:  260 17:00:12      -85.907351       19.4191\n",
            "BFGS:  261 17:00:12      -86.378242        7.7402\n",
            "BFGS:  262 17:00:12      -87.256720        6.5912\n",
            "BFGS:  263 17:00:12      -87.739775       25.3138\n",
            "BFGS:  264 17:00:12      -78.525680       92.4512\n",
            "BFGS:  265 17:00:12      -77.457508       71.3390\n",
            "BFGS:  266 17:00:12      -85.619771       15.1435\n",
            "BFGS:  267 17:00:12      -87.779568        7.8812\n",
            "BFGS:  268 17:00:12      -88.850321        5.2591\n",
            "BFGS:  269 17:00:12      -89.501440        4.5011\n",
            "BFGS:  270 17:00:12      -89.787235        4.7333\n",
            "BFGS:  271 17:00:12      -89.958650        2.9851\n",
            "BFGS:  272 17:00:12      -90.076419        2.6732\n",
            "BFGS:  273 17:00:12      -90.130043        2.1179\n",
            "BFGS:  274 17:00:12      -90.228191        1.3311\n",
            "BFGS:  275 17:00:12      -90.306498        1.8443\n",
            "BFGS:  276 17:00:12      -90.359104        1.4537\n",
            "BFGS:  277 17:00:12      -90.403210        1.1992\n",
            "BFGS:  278 17:00:12      -90.469352        1.4701\n",
            "BFGS:  279 17:00:12      -90.583032        2.5905\n",
            "BFGS:  280 17:00:12      -90.793976        3.6070\n",
            "BFGS:  281 17:00:12      -89.205716       31.4377\n",
            "BFGS:  282 17:00:12      -90.964497        4.5055\n",
            "BFGS:  283 17:00:12      -91.080328        4.0157\n",
            "BFGS:  284 17:00:12      -91.366680        3.4879\n",
            "BFGS:  285 17:00:12      -91.683059        4.2599\n",
            "BFGS:  286 17:00:12      -92.003598        6.6464\n",
            "BFGS:  287 17:00:12      -92.257209        2.0064\n",
            "BFGS:  288 17:00:12      -92.476932        2.5224\n",
            "BFGS:  289 17:00:12      -92.942112       11.3688\n",
            "BFGS:  290 17:00:12      -93.739967        4.9367\n",
            "BFGS:  291 17:00:12      -88.047202       69.8159\n",
            "BFGS:  292 17:00:12      -89.267535       49.8859\n",
            "BFGS:  293 17:00:12      -92.464103        6.7200\n",
            "BFGS:  294 17:00:12      -93.330224        5.2188\n",
            "BFGS:  295 17:00:12      -94.287333        3.6453\n",
            "BFGS:  296 17:00:12      -92.814274       32.8729\n",
            "BFGS:  297 17:00:12      -94.748390        3.8593\n",
            "BFGS:  298 17:00:12      -94.942204        2.8561\n",
            "BFGS:  299 17:00:12      -95.181014        2.7404\n",
            "BFGS:  300 17:00:12      -95.218760        2.8159\n",
            "BFGS:  301 17:00:12      -95.290966        1.7188\n",
            "BFGS:  302 17:00:12      -95.328634        1.3247\n",
            "BFGS:  303 17:00:12      -95.363260        0.9549\n",
            "BFGS:  304 17:00:12      -95.384865        0.5629\n",
            "BFGS:  305 17:00:12      -95.391449        0.5833\n",
            "BFGS:  306 17:00:12      -95.399188        0.3238\n",
            "BFGS:  307 17:00:12      -95.403922        0.3863\n",
            "BFGS:  308 17:00:12      -95.409074        0.3820\n",
            "BFGS:  309 17:00:12      -95.412280        0.2943\n",
            "BFGS:  310 17:00:12      -95.414406        0.1668\n",
            "BFGS:  311 17:00:12      -95.415744        0.1214\n",
            "BFGS:  312 17:00:12      -95.416317        0.0906\n",
            "BFGS:  313 17:00:12      -95.416633        0.0736\n",
            "BFGS:  314 17:00:12      -95.416888        0.0545\n",
            "BFGS:  315 17:00:12      -95.417072        0.0525\n",
            "BFGS:  316 17:00:12      -95.417193        0.0462\n",
            "BFGS:  317 17:00:12      -95.417281        0.0384\n",
            "BFGS:  318 17:00:12      -95.417371        0.0447\n",
            "BFGS:  319 17:00:12      -95.417470        0.0418\n",
            "BFGS:  320 17:00:12      -95.417590        0.0503\n",
            "BFGS:  321 17:00:12      -95.417792        0.0637\n",
            "BFGS:  322 17:00:12      -95.420103        0.3214\n",
            "BFGS:  323 17:00:12      -95.413596        0.6592\n",
            "BFGS:  324 17:00:12      -95.426603        0.3560\n",
            "BFGS:  325 17:00:12      -95.413319        1.4370\n",
            "BFGS:  326 17:00:12      -95.440399        0.6240\n",
            "BFGS:  327 17:00:12      -95.460874        0.7765\n",
            "BFGS:  328 17:00:12      -95.346851        8.3164\n",
            "BFGS:  329 17:00:12      -95.514750        1.7918\n",
            "BFGS:  330 17:00:12      -95.555898        1.1655\n",
            "BFGS:  331 17:00:12      -95.078738       15.5355\n",
            "BFGS:  332 17:00:12      -95.597336        1.1703\n",
            "BFGS:  333 17:00:12      -95.624765        0.9397\n",
            "BFGS:  334 17:00:12      -95.611271        3.9588\n",
            "BFGS:  335 17:00:12      -95.672663        0.5857\n",
            "BFGS:  336 17:00:12      -95.684293        0.5394\n",
            "BFGS:  337 17:00:12      -95.705141        1.5019\n",
            "BFGS:  338 17:00:12      -95.725397        1.2567\n",
            "BFGS:  339 17:00:12      -95.796516        1.6477\n",
            "BFGS:  340 17:00:12      -95.830459        1.3004\n",
            "BFGS:  341 17:00:12      -95.787013        2.9968\n",
            "BFGS:  342 17:00:12      -95.881376        1.3675\n",
            "BFGS:  343 17:00:12      -95.907646        1.6592\n",
            "BFGS:  344 17:00:12      -95.960567        1.1737\n",
            "BFGS:  345 17:00:12      -95.359237       13.1994\n",
            "BFGS:  346 17:00:12      -96.017611        1.0028\n",
            "BFGS:  347 17:00:12      -96.049374        0.9169\n",
            "BFGS:  348 17:00:12      -95.687591       12.9940\n",
            "BFGS:  349 17:00:12      -96.094946        0.9392\n",
            "BFGS:  350 17:00:12      -96.121819        0.7064\n",
            "BFGS:  351 17:00:12      -96.023826        7.0355\n",
            "BFGS:  352 17:00:12      -96.166918        0.8682\n",
            "BFGS:  353 17:00:12      -96.188782        1.0576\n",
            "BFGS:  354 17:00:12      -96.163841        7.0894\n",
            "BFGS:  355 17:00:12      -96.268695        1.9546\n",
            "BFGS:  356 17:00:12      -96.333170        1.9770\n",
            "BFGS:  357 17:00:12      -96.922566        3.5459\n",
            "BFGS:  358 17:00:12      -97.090663        3.1497\n",
            "BFGS:  359 17:00:12      -96.063627       24.6758\n",
            "BFGS:  360 17:00:12      -97.043450        3.3200\n",
            "BFGS:  361 17:00:12      -96.801513        9.2020\n",
            "BFGS:  362 17:00:12      -97.216063        2.1530\n",
            "BFGS:  363 17:00:12      -97.259370        1.5418\n",
            "BFGS:  364 17:00:12      -97.296142        0.8733\n",
            "BFGS:  365 17:00:13      -97.316471        0.7061\n",
            "BFGS:  366 17:00:13      -97.323210        0.5667\n",
            "BFGS:  367 17:00:13      -97.329554        0.4646\n",
            "BFGS:  368 17:00:13      -97.335753        0.4126\n",
            "BFGS:  369 17:00:13      -97.339798        0.3138\n",
            "BFGS:  370 17:00:13      -97.343225        0.2550\n",
            "BFGS:  371 17:00:13      -97.345494        0.2138\n",
            "BFGS:  372 17:00:13      -97.347195        0.1616\n",
            "BFGS:  373 17:00:13      -97.348293        0.1217\n",
            "BFGS:  374 17:00:13      -97.348906        0.1069\n",
            "BFGS:  375 17:00:13      -97.349322        0.0748\n",
            "BFGS:  376 17:00:13      -97.349635        0.0724\n",
            "BFGS:  377 17:00:13      -97.349852        0.0483\n",
            "BFGS:  378 17:00:13      -97.349999        0.0445\n",
            "BFGS:  379 17:00:13      -97.350099        0.0407\n",
            "BFGS:  380 17:00:13      -97.350170        0.0303\n",
            "BFGS:  381 17:00:13      -97.350216        0.0222\n",
            "BFGS:  382 17:00:13      -97.350245        0.0191\n",
            "BFGS:  383 17:00:13      -97.350266        0.0192\n",
            "BFGS:  384 17:00:13      -97.350285        0.0187\n",
            "BFGS:  385 17:00:13      -97.350302        0.0169\n",
            "BFGS:  386 17:00:13      -97.350318        0.0162\n",
            "BFGS:  387 17:00:13      -97.350336        0.0142\n",
            "BFGS:  388 17:00:13      -97.350354        0.0137\n",
            "BFGS:  389 17:00:13      -97.350371        0.0151\n",
            "BFGS:  390 17:00:13      -97.350388        0.0235\n",
            "BFGS:  391 17:00:13      -97.350406        0.0270\n",
            "BFGS:  392 17:00:13      -97.350427        0.0239\n",
            "BFGS:  393 17:00:13      -97.350454        0.0246\n",
            "BFGS:  394 17:00:13      -97.350490        0.0295\n",
            "BFGS:  395 17:00:13      -97.350537        0.0327\n",
            "BFGS:  396 17:00:13      -97.350596        0.0351\n",
            "BFGS:  397 17:00:13      -97.350664        0.0390\n",
            "BFGS:  398 17:00:13      -97.350739        0.0312\n",
            "BFGS:  399 17:00:13      -97.350814        0.0299\n",
            "BFGS:  400 17:00:13      -97.350888        0.0303\n",
            "BFGS:  401 17:00:13      -97.350966        0.0426\n",
            "BFGS:  402 17:00:13      -97.351064        0.0518\n",
            "BFGS:  403 17:00:13      -97.351187        0.0708\n",
            "BFGS:  404 17:00:13      -97.351230        0.1073\n",
            "BFGS:  405 17:00:13      -97.351339        0.0673\n",
            "BFGS:  406 17:00:13      -97.351475        0.0311\n",
            "BFGS:  407 17:00:13      -97.351526        0.0219\n",
            "BFGS:  408 17:00:13      -97.351580        0.0253\n",
            "BFGS:  409 17:00:13      -97.351594        0.0225\n",
            "BFGS:  410 17:00:13      -97.351626        0.0144\n",
            "BFGS:  411 17:00:13      -97.351636        0.0123\n",
            "BFGS:  412 17:00:13      -97.351643        0.0086\n",
            "Original structure:\n",
            " Ni  C \n",
            " 1.0000000000000000\n",
            "     2.4600000686580152    0.0000000000000000    0.0000000000000002\n",
            "     0.0000075375295471   17.3948258624982834    0.0000000000000011\n",
            "     0.0000000000000000    0.0000000000000000   26.6899999999999977\n",
            " Ni  C  \n",
            "  20  16\n",
            "Cartesian\n",
            "  1.2300068181056012 15.6553432762484537  0.0000000000000011\n",
            "  1.2300007880819621  1.7394825862498284  0.0000000000000002\n",
            "  1.2300022955878709  5.2184477587494849  0.0000000000000004\n",
            "  1.2300038030937803  8.6974129312491435  0.0000000000000007\n",
            "  1.2300053105996898 12.1763781037487977  0.0000000000000009\n",
            "  0.0000000000000000  0.0000000000000000  1.2300000000000002\n",
            "  2.4600015761639242  3.4789651724996569  1.2300000000000006\n",
            "  0.0000030150118188  6.9579303449993137  1.2300000000000006\n",
            "  0.0000045225177283 10.4368955174989715  1.2300000000000009\n",
            "  2.4600060986816525 13.9158606899986275  1.2300000000000013\n",
            "  1.2300068181056012 15.6553432762484537  2.4600000000000013\n",
            "  1.2300007880819621  1.7394825862498284  2.4600000000000004\n",
            "  1.2300022955878709  5.2184477587494849  2.4600000000000009\n",
            "  1.2300038030937803  8.6974129312491435  2.4600000000000009\n",
            "  1.2300053105996898 12.1763781037487977  2.4600000000000013\n",
            "  0.0000000000000000  0.0000000000000000  3.6900000000000004\n",
            "  2.4600015761639242  3.4789651724996569  3.6900000000000008\n",
            "  0.0000030150118188  6.9579303449993137  3.6900000000000008\n",
            "  0.0000045225177283 10.4368955174989715  3.6900000000000008\n",
            "  2.4600060986816525 13.9158606899986275  3.6900000000000013\n",
            "  0.0000000000000000  0.0000000000000000  6.6899999999999977\n",
            "  1.2300009765202005  2.1743532328122854  6.6899999999999977\n",
            "  0.0000018843823868  4.3487064656245709  6.6899999999999977\n",
            "  1.2300028609025873  6.5230596984368567  6.6900000000000013\n",
            "  0.0000037687647735  8.6974129312491417  6.6900000000000013\n",
            "  1.2300047452849741 10.8717661640614267  6.6899999999999986\n",
            "  0.0000056531471603 13.0461193968737135  6.6899999999999986\n",
            "  1.2300066296673611 15.2204726296859985  6.6899999999999986\n",
            "  2.4599994667857579  1.4495695466592680  6.6899999999999977\n",
            "  1.2300003746479433  3.6239227794715529  6.6899999999999977\n",
            "  2.4600013511681440  5.7982760122838384  6.6900000000000013\n",
            "  1.2300022590303301  7.9726292450961260  6.6900000000000013\n",
            "  2.4600032355505306 10.1469824779084110  6.6899999999999986\n",
            "  1.2300041434127169 12.3213357107206960  6.6899999999999986\n",
            "  2.4600051199329176 14.4956889435329810  6.6899999999999986\n",
            "  1.2300060277951037 16.6700421763452660  6.6899999999999986\n",
            "\n",
            "\n",
            "Relaxed structure:\n",
            " Ni  C \n",
            " 1.0000000000000000\n",
            "     2.4600000686580152    0.0000000000000000    0.0000000000000002\n",
            "     0.0000075375295471   17.3948258624982834    0.0000000000000011\n",
            "     0.0000000000000000    0.0000000000000000   26.6899999999999977\n",
            " Ni  C  \n",
            "  20  16\n",
            "Cartesian\n",
            "  1.1385800904901915 15.3883243872666657  1.4325991544198740\n",
            "  1.5894977822256093  3.1762376860017913  1.7063446155199433\n",
            "  0.8896408740622226  3.9647994846240153  1.3088135480937442\n",
            "  1.0962343861699790  8.1873196150537773  1.8297014312916666\n",
            "  1.7793581204915323 14.5359830648705000  1.1081837718973426\n",
            " -0.6814702878576279 -1.1936459782522504  1.8260107317298966\n",
            "  2.8701722571012911  3.0168213786106697  1.6679297252288925\n",
            "  0.6132954749427573  9.1171787799485813  1.4603966574970424\n",
            " -0.6136871088000464  8.9959059551585607  1.5696921174823717\n",
            "  2.4192526154539005 15.3889815927430558  1.4324366159062056\n",
            "  1.1235566048383836 15.6492064994794973  2.5316359628175662\n",
            "  0.5493315888058355 -1.1391808381199378  1.7985472739422064\n",
            "  0.8853505232167431  3.7294713652049971  2.3910271514938914\n",
            "  1.1658006447099634  9.1046996754234737  2.4459344608935245\n",
            "  1.7792299319551510 14.8415394795450553  2.1680143734409616\n",
            " -0.0258441086054154 -1.7449606820714147  2.5315459729161716\n",
            "  2.3549776784900756  3.9803572612217897  1.8751254771940389\n",
            "  0.0635948283161745  8.1346646446389634  1.3642932236890954\n",
            "  0.1347844559082122  8.6447089174873799  2.3445586280042461\n",
            "  3.0084121037749441 14.7750204736530577  2.1392712664893807\n",
            " -0.2067478076146826 -2.0100066493962792  6.9716518406839061\n",
            "  0.9246242966710501  2.4133947710466286  6.6882931738768043\n",
            "  0.3095581420188570  3.3506701719698517  6.6764611069146182\n",
            "  1.4352938258547379  7.8250939448137107  6.3980682338569368\n",
            " -0.4100470465729615  8.3235248107996984  7.1922478298218628\n",
            "  1.4350618175676502  8.9311691863497593  6.4784540589067330\n",
            " -0.2066019539517524 14.2773299350452518  6.9120192037231432\n",
            "  1.6388490233260329 14.8717005327475409  6.1868136882002149\n",
            "  2.1547356564509568  2.4132613475103195  6.6886980010184773\n",
            "  1.5397862609793651  3.3505887109202543  6.6765388640247005\n",
            "  2.6646791389813593  7.8243987517731313  6.3985636971229933\n",
            "  0.8200509884030466  8.3231419867569088  7.1919467313042311\n",
            "  2.6649978829681400  8.9306710034250187  6.4781283872009530\n",
            "  1.0237236352240757 14.2780018757519542  6.9120553433422494\n",
            "  2.8682623554609084 14.8718544212163568  6.1871749031858592\n",
            "  1.0238222812241882 15.3855426100355892  6.9708227768626250\n",
            "\n",
            "The final energy is -97.352 eV.\n"
          ]
        }
      ],
      "source": [
        "# Per https://github.com/materialsvirtuallab/matgl/blob/main/examples/Relaxations%20and%20Simulations%20using%20the%20M3GNet%20Universal%20Potential.ipynb\n",
        "from src.utils import poscar_to_ase, ase_to_poscar, ase_to_pymatgen, pymatgen_to_ase\n",
        "from ase.optimize import BFGS\n",
        "from ase.calculators.lj import LennardJones as LJ\n",
        "\n",
        "# relax the interface\n",
        "ase_interface = poscar_to_ase(interface.to(fmt=\"poscar\"))\n",
        "ase_interface.set_calculator(LJ())\n",
        "dyn = BFGS(ase_interface)\n",
        "dyn.run(fmax=0.01)\n",
        "\n",
        "# extract results\n",
        "ase_original_interface = pymatgen_to_ase(interface)\n",
        "ase_relaxed_interface = ase_interface\n",
        "relaxed_energy = ase_interface.get_total_energy()\n",
        "\n",
        "# print out the final relaxed structure and energy\n",
        "print('Original structure:\\n', ase_to_poscar(ase_original_interface))\n",
        "print('\\nRelaxed structure:\\n', ase_to_poscar(ase_relaxed_interface))\n",
        "print(f\"The final energy is {float(relaxed_energy):.3f} eV.\")"
      ]
    },
    {
      "cell_type": "markdown",
      "metadata": {},
      "source": [
        "### 7.2. View structure before and after relaxation"
      ]
    },
    {
      "cell_type": "code",
      "execution_count": 42,
      "metadata": {},
      "outputs": [],
      "source": [
        "from ase.visualize import view\n",
        "\n",
        "# view(ase_original_interface, viewer=\"x3d\")\n",
        "# view(ase_relaxed_interface, viewer=\"x3d\")\n"
      ]
    },
    {
      "cell_type": "markdown",
      "metadata": {},
      "source": [
        "### 7.3. Calculate energy energy using ASE LJ"
      ]
    },
    {
      "cell_type": "code",
      "execution_count": 55,
      "metadata": {},
      "outputs": [
        {
          "name": "stdout",
          "output_type": "stream",
          "text": [
            "Interface area: 42.79127281604002 Ang^2\n",
            "Relaxed interface energy: -97.3516 eV\n",
            "Original Substrate energy: -1.1239 eV\n",
            "Original Layer energy: -10.2008 eV\n",
            "Original Delta: -86.0269 eV\n",
            "Original Delta per area: -2.0104 eV/Ang^2\n",
            "\n",
            "Relaxed Substrate energy: -57.8833 eV\n",
            "Relaxed Layer energy: -39.4684 eV\n",
            "Relaxed Delta: 0.0000 eV\n",
            "Relaxed Delta per area: 0.0000 eV/Ang^2\n",
            "Effective relaxed Delta per area: -0.5568 eV/Ang^2\n",
            "\n",
            "Ni  C \n",
            " 1.0000000000000000\n",
            "     2.4600000686580152    0.0000000000000000    0.0000000000000002\n",
            "     0.0000075375295471   17.3948258624982834    0.0000000000000011\n",
            "     0.0000000000000000    0.0000000000000000   26.6899999999999977\n",
            " Ni  C  \n",
            "  20  16\n",
            "Cartesian\n",
            "  1.1385800904901915 15.3883243872666657  1.4325991544198740\n",
            "  1.5894977822256093  3.1762376860017913  1.7063446155199433\n",
            "  0.8896408740622226  3.9647994846240153  1.3088135480937442\n",
            "  1.0962343861699790  8.1873196150537773  1.8297014312916666\n",
            "  1.7793581204915323 14.5359830648705000  1.1081837718973426\n",
            " -0.6814702878576279 -1.1936459782522504  1.8260107317298966\n",
            "  2.8701722571012911  3.0168213786106697  1.6679297252288925\n",
            "  0.6132954749427573  9.1171787799485813  1.4603966574970424\n",
            " -0.6136871088000464  8.9959059551585607  1.5696921174823717\n",
            "  2.4192526154539005 15.3889815927430558  1.4324366159062056\n",
            "  1.1235566048383836 15.6492064994794973  2.5316359628175662\n",
            "  0.5493315888058355 -1.1391808381199378  1.7985472739422064\n",
            "  0.8853505232167431  3.7294713652049971  2.3910271514938914\n",
            "  1.1658006447099634  9.1046996754234737  2.4459344608935245\n",
            "  1.7792299319551510 14.8415394795450553  2.1680143734409616\n",
            " -0.0258441086054154 -1.7449606820714147  2.5315459729161716\n",
            "  2.3549776784900756  3.9803572612217897  1.8751254771940389\n",
            "  0.0635948283161745  8.1346646446389634  1.3642932236890954\n",
            "  0.1347844559082122  8.6447089174873799  2.3445586280042461\n",
            "  3.0084121037749441 14.7750204736530577  2.1392712664893807\n",
            " -0.2067478076146826 -2.0100066493962792  6.9716518406839061\n",
            "  0.9246242966710501  2.4133947710466286  6.6882931738768043\n",
            "  0.3095581420188570  3.3506701719698517  6.6764611069146182\n",
            "  1.4352938258547379  7.8250939448137107  6.3980682338569368\n",
            " -0.4100470465729615  8.3235248107996984  7.1922478298218628\n",
            "  1.4350618175676502  8.9311691863497593  6.4784540589067330\n",
            " -0.2066019539517524 14.2773299350452518  6.9120192037231432\n",
            "  1.6388490233260329 14.8717005327475409  6.1868136882002149\n",
            "  2.1547356564509568  2.4132613475103195  6.6886980010184773\n",
            "  1.5397862609793651  3.3505887109202543  6.6765388640247005\n",
            "  2.6646791389813593  7.8243987517731313  6.3985636971229933\n",
            "  0.8200509884030466  8.3231419867569088  7.1919467313042311\n",
            "  2.6649978829681400  8.9306710034250187  6.4781283872009530\n",
            "  1.0237236352240757 14.2780018757519542  6.9120553433422494\n",
            "  2.8682623554609084 14.8718544212163568  6.1871749031858592\n",
            "  1.0238222812241882 15.3855426100355892  6.9708227768626250\n",
            "\n",
            "Ni \n",
            " 1.0000000000000000\n",
            "     2.4600000686580152    0.0000000000000000    0.0000000000000002\n",
            "     0.0000075375295471   17.3948258624982834    0.0000000000000011\n",
            "     0.0000000000000000    0.0000000000000000   26.6899999999999977\n",
            " Ni \n",
            "  20\n",
            "Cartesian\n",
            "  1.1385800904901915 15.3883243872666657  1.4325991544198740\n",
            "  1.5894977822256093  3.1762376860017913  1.7063446155199433\n",
            "  0.8896408740622226  3.9647994846240153  1.3088135480937442\n",
            "  1.0962343861699790  8.1873196150537773  1.8297014312916666\n",
            "  1.7793581204915323 14.5359830648705000  1.1081837718973426\n",
            " -0.6814702878576279 -1.1936459782522504  1.8260107317298966\n",
            "  2.8701722571012911  3.0168213786106697  1.6679297252288925\n",
            "  0.6132954749427573  9.1171787799485813  1.4603966574970424\n",
            " -0.6136871088000464  8.9959059551585607  1.5696921174823717\n",
            "  2.4192526154539005 15.3889815927430558  1.4324366159062056\n",
            "  1.1235566048383836 15.6492064994794973  2.5316359628175662\n",
            "  0.5493315888058355 -1.1391808381199378  1.7985472739422064\n",
            "  0.8853505232167431  3.7294713652049971  2.3910271514938914\n",
            "  1.1658006447099634  9.1046996754234737  2.4459344608935245\n",
            "  1.7792299319551510 14.8415394795450553  2.1680143734409616\n",
            " -0.0258441086054154 -1.7449606820714147  2.5315459729161716\n",
            "  2.3549776784900756  3.9803572612217897  1.8751254771940389\n",
            "  0.0635948283161745  8.1346646446389634  1.3642932236890954\n",
            "  0.1347844559082122  8.6447089174873799  2.3445586280042461\n",
            "  3.0084121037749441 14.7750204736530577  2.1392712664893807\n",
            "\n",
            " C \n",
            " 1.0000000000000000\n",
            "     2.4600000686580152    0.0000000000000000    0.0000000000000002\n",
            "     0.0000075375295471   17.3948258624982834    0.0000000000000011\n",
            "     0.0000000000000000    0.0000000000000000   26.6899999999999977\n",
            " C  \n",
            "  16\n",
            "Cartesian\n",
            " -0.2067478076146826 -2.0100066493962792  6.9716518406839061\n",
            "  0.9246242966710501  2.4133947710466286  6.6882931738768043\n",
            "  0.3095581420188570  3.3506701719698517  6.6764611069146182\n",
            "  1.4352938258547379  7.8250939448137107  6.3980682338569368\n",
            " -0.4100470465729615  8.3235248107996984  7.1922478298218628\n",
            "  1.4350618175676502  8.9311691863497593  6.4784540589067330\n",
            " -0.2066019539517524 14.2773299350452518  6.9120192037231432\n",
            "  1.6388490233260329 14.8717005327475409  6.1868136882002149\n",
            "  2.1547356564509568  2.4132613475103195  6.6886980010184773\n",
            "  1.5397862609793651  3.3505887109202543  6.6765388640247005\n",
            "  2.6646791389813593  7.8243987517731313  6.3985636971229933\n",
            "  0.8200509884030466  8.3231419867569088  7.1919467313042311\n",
            "  2.6649978829681400  8.9306710034250187  6.4781283872009530\n",
            "  1.0237236352240757 14.2780018757519542  6.9120553433422494\n",
            "  2.8682623554609084 14.8718544212163568  6.1871749031858592\n",
            "  1.0238222812241882 15.3855426100355892  6.9708227768626250\n",
            "\n",
            "Ni \n",
            " 1.0000000000000000\n",
            "     2.4600000686580152    0.0000000000000000    0.0000000000000002\n",
            "     0.0000075375295471   17.3948258624982834    0.0000000000000011\n",
            "     0.0000000000000000    0.0000000000000000   26.6899999999999977\n",
            " Ni \n",
            "  20\n",
            "Cartesian\n",
            "  1.2300068181056012 15.6553432762484537  0.0000000000000011\n",
            "  1.2300007880819621  1.7394825862498284  0.0000000000000002\n",
            "  1.2300022955878709  5.2184477587494849  0.0000000000000004\n",
            "  1.2300038030937803  8.6974129312491435  0.0000000000000007\n",
            "  1.2300053105996898 12.1763781037487977  0.0000000000000009\n",
            "  0.0000000000000000  0.0000000000000000  1.2300000000000002\n",
            "  2.4600015761639242  3.4789651724996569  1.2300000000000006\n",
            "  0.0000030150118188  6.9579303449993137  1.2300000000000006\n",
            "  0.0000045225177283 10.4368955174989715  1.2300000000000009\n",
            "  2.4600060986816525 13.9158606899986275  1.2300000000000013\n",
            "  1.2300068181056012 15.6553432762484537  2.4600000000000013\n",
            "  1.2300007880819621  1.7394825862498284  2.4600000000000004\n",
            "  1.2300022955878709  5.2184477587494849  2.4600000000000009\n",
            "  1.2300038030937803  8.6974129312491435  2.4600000000000009\n",
            "  1.2300053105996898 12.1763781037487977  2.4600000000000013\n",
            "  0.0000000000000000  0.0000000000000000  3.6900000000000004\n",
            "  2.4600015761639242  3.4789651724996569  3.6900000000000008\n",
            "  0.0000030150118188  6.9579303449993137  3.6900000000000008\n",
            "  0.0000045225177283 10.4368955174989715  3.6900000000000008\n",
            "  2.4600060986816525 13.9158606899986275  3.6900000000000013\n",
            "\n",
            " C \n",
            " 1.0000000000000000\n",
            "     2.4600000686580152    0.0000000000000000    0.0000000000000002\n",
            "     0.0000075375295471   17.3948258624982834    0.0000000000000011\n",
            "     0.0000000000000000    0.0000000000000000   26.6899999999999977\n",
            " C  \n",
            "  16\n",
            "Cartesian\n",
            "  0.0000000000000000  0.0000000000000000  6.6899999999999977\n",
            "  1.2300009765202005  2.1743532328122854  6.6899999999999977\n",
            "  0.0000018843823868  4.3487064656245709  6.6899999999999977\n",
            "  1.2300028609025873  6.5230596984368567  6.6900000000000013\n",
            "  0.0000037687647735  8.6974129312491417  6.6900000000000013\n",
            "  1.2300047452849741 10.8717661640614267  6.6899999999999986\n",
            "  0.0000056531471603 13.0461193968737135  6.6899999999999986\n",
            "  1.2300066296673611 15.2204726296859985  6.6899999999999986\n",
            "  2.4599994667857579  1.4495695466592680  6.6899999999999977\n",
            "  1.2300003746479433  3.6239227794715529  6.6899999999999977\n",
            "  2.4600013511681440  5.7982760122838384  6.6900000000000013\n",
            "  1.2300022590303301  7.9726292450961260  6.6900000000000013\n",
            "  2.4600032355505306 10.1469824779084110  6.6899999999999986\n",
            "  1.2300041434127169 12.3213357107206960  6.6899999999999986\n",
            "  2.4600051199329176 14.4956889435329810  6.6899999999999986\n",
            "  1.2300060277951037 16.6700421763452660  6.6899999999999986\n",
            "\n"
          ]
        }
      ],
      "source": [
        "from ase import Atoms\n",
        "nickel_relaxed_interface = ase_relaxed_interface.copy()\n",
        "graphene_relaxed_interface = ase_relaxed_interface.copy()\n",
        "nickel_original_interface = ase_original_interface.copy()\n",
        "graphene_original_interface = ase_original_interface.copy()\n",
        "\n",
        "del nickel_relaxed_interface[[atom.index for atom in nickel_relaxed_interface if atom.symbol != 'Ni']]\n",
        "del graphene_relaxed_interface[[atom.index for atom in graphene_relaxed_interface if atom.symbol != 'C']]\n",
        "del nickel_original_interface[[atom.index for atom in nickel_original_interface if atom.symbol != 'Ni']]\n",
        "del graphene_original_interface[[atom.index for atom in graphene_original_interface if atom.symbol != 'C']]\n",
        "\n",
        "#set LJ calculator\n",
        "nickel_relaxed_interface.set_calculator(LJ())\n",
        "graphene_relaxed_interface.set_calculator(LJ())\n",
        "nickel_original_interface.set_calculator(LJ())\n",
        "graphene_original_interface.set_calculator(LJ())\n",
        "\n",
        "original_substrate_energy = nickel_original_interface.get_total_energy()\n",
        "original_layer_energy = graphene_original_interface.get_total_energy()\n",
        "relaxed_substrate_energy = nickel_relaxed_interface.get_total_energy()\n",
        "relaxed_layer_energy = graphene_relaxed_interface.get_total_energy()\n",
        "\n",
        "delta_original = relaxed_energy - original_substrate_energy - original_layer_energy\n",
        "delta_relaxed = relaxed_energy - relaxed_substrate_energy - relaxed_layer_energy\n",
        "\n",
        "# calculate area of interface\n",
        "area = ase_original_interface.get_volume() / ase_original_interface.cell[2, 2]\n",
        "print('Interface area:', area, 'Ang^2')\n",
        "print()\n",
        "effective_delta_relaxed = (relaxed_energy*ase_relaxed_interface.get_global_number_of_atoms() - \n",
        "                           nickel_relaxed_interface.get_global_number_of_atoms()*relaxed_substrate_energy - \n",
        "                           graphene_relaxed_interface.get_global_number_of_atoms()*relaxed_layer_energy)/(2*area*ase_relaxed_interface.get_global_number_of_atoms())\n",
        "\n",
        "print(f\"Relaxed interface energy: {relaxed_energy:.4f} eV\")\n",
        "print(f\"Original Substrate energy: {original_substrate_energy:.4f} eV\")\n",
        "print(f\"Original Layer energy: {original_layer_energy:.4f} eV\")\n",
        "print(f\"Original Delta: {delta_original:.4f} eV\")\n",
        "print(f\"Original Delta per area: {delta_original / area:.4f} eV/Ang^2\")\n",
        "print()\n",
        "\n",
        "print(f\"Relaxed Substrate energy: {relaxed_substrate_energy:.4f} eV\")\n",
        "print(f\"Relaxed Layer energy: {relaxed_layer_energy:.4f} eV\")\n",
        "print(f\"Relaxed Delta: {delta_relaxed:.4f} eV\")\n",
        "print(f\"Relaxed Delta per area: {delta_relaxed / area:.4f} eV/Ang^2\")\n",
        "print(f\"Effective relaxed Delta per area: {effective_delta_relaxed:.4f} eV/Ang^2\")\n",
        "print()\n",
        "\n",
        "print(ase_to_poscar(ase_relaxed_interface))\n",
        "print(ase_to_poscar(nickel_relaxed_interface))\n",
        "print(ase_to_poscar(graphene_relaxed_interface))\n",
        "print(ase_to_poscar(nickel_original_interface))\n",
        "print(ase_to_poscar(graphene_original_interface))"
      ]
    },
    {
      "cell_type": "markdown",
      "metadata": {},
      "source": [
        "## 8. Pass relaxed interface to Materials Designer"
      ]
    },
    {
      "cell_type": "code",
      "execution_count": null,
      "metadata": {},
      "outputs": [
        {
          "ename": "ImportError",
          "evalue": "This module intended to be used in a Pyodide environment. Please install packages yourself using pip.",
          "output_type": "error",
          "traceback": [
            "\u001b[0;31m---------------------------------------------------------------------------\u001b[0m",
            "\u001b[0;31mModuleNotFoundError\u001b[0m                       Traceback (most recent call last)",
            "File \u001b[0;32m~/code/green/api-examples/other/materials_designer/jupyterlite/utils.py:6\u001b[0m\n\u001b[1;32m      5\u001b[0m \u001b[38;5;28;01mtry\u001b[39;00m:\n\u001b[0;32m----> 6\u001b[0m     \u001b[38;5;28;01mimport\u001b[39;00m \u001b[38;5;21;01mmicropip\u001b[39;00m\n\u001b[1;32m      7\u001b[0m \u001b[38;5;28;01mexcept\u001b[39;00m \u001b[38;5;167;01mImportError\u001b[39;00m:\n",
            "\u001b[0;31mModuleNotFoundError\u001b[0m: No module named 'micropip'",
            "\nDuring handling of the above exception, another exception occurred:\n",
            "\u001b[0;31mImportError\u001b[0m                               Traceback (most recent call last)",
            "Cell \u001b[0;32mIn[199], line 1\u001b[0m\n\u001b[0;32m----> 1\u001b[0m \u001b[38;5;28;01mfrom\u001b[39;00m \u001b[38;5;21;01mjupyterlite\u001b[39;00m\u001b[38;5;21;01m.\u001b[39;00m\u001b[38;5;21;01mutils\u001b[39;00m \u001b[38;5;28;01mimport\u001b[39;00m set_data\n\u001b[1;32m      2\u001b[0m \u001b[38;5;28;01mfrom\u001b[39;00m \u001b[38;5;21;01msrc\u001b[39;00m\u001b[38;5;21;01m.\u001b[39;00m\u001b[38;5;21;01mutils\u001b[39;00m \u001b[38;5;28;01mimport\u001b[39;00m from_pymatgen\n\u001b[1;32m      4\u001b[0m esse_interface \u001b[38;5;241m=\u001b[39m from_pymatgen(ase_to_pymatgen(ase_relaxed_interface))\n",
            "File \u001b[0;32m~/code/green/api-examples/other/materials_designer/jupyterlite/utils.py:8\u001b[0m\n\u001b[1;32m      6\u001b[0m     \u001b[38;5;28;01mimport\u001b[39;00m \u001b[38;5;21;01mmicropip\u001b[39;00m\n\u001b[1;32m      7\u001b[0m \u001b[38;5;28;01mexcept\u001b[39;00m \u001b[38;5;167;01mImportError\u001b[39;00m:\n\u001b[0;32m----> 8\u001b[0m     \u001b[38;5;28;01mraise\u001b[39;00m \u001b[38;5;167;01mImportError\u001b[39;00m(\n\u001b[1;32m      9\u001b[0m         \u001b[38;5;124m\"\u001b[39m\u001b[38;5;124mThis module intended to be used in a Pyodide environment. Please install packages yourself using pip.\u001b[39m\u001b[38;5;124m\"\u001b[39m\n\u001b[1;32m     10\u001b[0m     )\n\u001b[1;32m     12\u001b[0m \u001b[38;5;28;01masync\u001b[39;00m \u001b[38;5;28;01mdef\u001b[39;00m \u001b[38;5;21minstall_package\u001b[39m(pkg, verbose\u001b[38;5;241m=\u001b[39m\u001b[38;5;28;01mTrue\u001b[39;00m):\n\u001b[1;32m     13\u001b[0m \u001b[38;5;250m        \u001b[39m\u001b[38;5;124;03m\"\"\"\u001b[39;00m\n\u001b[1;32m     14\u001b[0m \u001b[38;5;124;03m        Installs a package in a Pyodide environment.\u001b[39;00m\n\u001b[1;32m     15\u001b[0m \u001b[38;5;124;03m        Args:\u001b[39;00m\n\u001b[0;32m   (...)\u001b[0m\n\u001b[1;32m     20\u001b[0m \u001b[38;5;124;03m            None\u001b[39;00m\n\u001b[1;32m     21\u001b[0m \u001b[38;5;124;03m        \"\"\"\u001b[39;00m\n",
            "\u001b[0;31mImportError\u001b[0m: This module intended to be used in a Pyodide environment. Please install packages yourself using pip."
          ]
        }
      ],
      "source": [
        "from jupyterlite.utils import set_data\n",
        "from src.utils import from_pymatgen\n",
        "\n",
        "esse_interface = from_pymatgen(ase_to_pymatgen(ase_relaxed_interface))\n",
        "set_data(\"materials\", [esse_interface] )"
      ]
    },
    {
      "cell_type": "code",
      "execution_count": null,
      "metadata": {},
      "outputs": [],
      "source": []
    }
  ],
  "metadata": {
    "kernelspec": {
      "display_name": ".venv",
      "language": "python",
      "name": "python3"
    },
    "language_info": {
      "codemirror_mode": {
        "name": "ipython",
        "version": 3
      },
      "file_extension": ".py",
      "mimetype": "text/x-python",
      "name": "python",
      "nbconvert_exporter": "python",
      "pygments_lexer": "ipython3",
      "version": "3.10.12"
    },
    "widgets": {
      "application/vnd.jupyter.widget-state+json": {
        "state": {},
        "version_major": 2,
        "version_minor": 0
      }
    }
  },
  "nbformat": 4,
  "nbformat_minor": 4
}
