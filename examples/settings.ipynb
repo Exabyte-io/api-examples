{
 "cells": [
  {
   "cell_type": "markdown",
   "metadata": {},
   "source": [
    "# Overview\n",
    "\n",
    "This file contains settings that is used inside the examples. It is imported inside the examples via [nbimporter](https://github.com/grst/nbimporter) package.\n",
    "\n",
    "# Settings\n",
    "\n",
    "- **HOST**: Hostname of the RESTful API server. Defaults to platform.exabyte.io.\n",
    "\n",
    "\n",
    "- **PORT**: The port RESTful API server is listening on. Defaults to 443.\n",
    "\n",
    "\n",
    "- **VERSION**: RESTFul API version. Defaults to 2018-10-01.\n",
    "\n",
    "\n",
    "- **SECURE**: Whether to use secure connection. Defaults to True.\n",
    "\n",
    "\n",
    "- **ACCOUNT_ID**: Your account ID.\n",
    "\n",
    "\n",
    "- **AUTH_TOKEN**: Your authentication token."
   ]
  },
  {
   "cell_type": "code",
   "execution_count": null,
   "metadata": {},
   "outputs": [],
   "source": [
    "PORT = 443\n",
    "SECURE = True\n",
    "VERSION = \"2018-10-01\"\n",
    "HOST = \"platform.exabyte.io\"\n",
    "\n",
    "# Authentication parameters\n",
    "ACCOUNT_ID = \"knJyjbqxww7kt4GpA\"\n",
    "AUTH_TOKEN = \"Jh6umOZqjfTQldC4gMnObb-rdoiNMg87ga0yZ-wcnQ9\"\n"
   ]
  }
 ],
 "metadata": {
  "kernelspec": {
   "display_name": "Python 2",
   "language": "python",
   "name": "python2"
  },
  "language_info": {
   "codemirror_mode": {
    "name": "ipython",
    "version": 2
   },
   "file_extension": ".py",
   "mimetype": "text/x-python",
   "name": "python",
   "nbconvert_exporter": "python",
   "pygments_lexer": "ipython2",
   "version": "2.7.10"
  }
 },
 "nbformat": 4,
 "nbformat_minor": 2
}
