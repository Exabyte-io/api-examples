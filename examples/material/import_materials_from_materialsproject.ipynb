version https://git-lfs.github.com/spec/v1
oid sha256:de46bb1d0912325a59107232b3f94a54fdd7b0c9b5a1aec9d0fe857af3babac4
size 22896
