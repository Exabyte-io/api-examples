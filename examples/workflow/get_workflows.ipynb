version https://git-lfs.github.com/spec/v1
oid sha256:daf4eaa4cd012c9d7bd20b196fe00d4c0e4af63eae43cfcffcb5bc4739f757e3
size 13990
