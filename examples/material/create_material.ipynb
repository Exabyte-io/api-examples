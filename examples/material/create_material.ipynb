version https://git-lfs.github.com/spec/v1
oid sha256:2e32c7da661bc4f0466e199aa5b1868ae43cebdf9227bc3dd21e0663136a1496
size 11545
