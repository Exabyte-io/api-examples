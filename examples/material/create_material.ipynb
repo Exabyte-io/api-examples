{
 "cells": [
  {
   "cell_type": "markdown",
   "metadata": {},
   "source": [
    "<a href=\"https://colab.research.google.com/github/Exabyte-io/exabyte-api-examples/blob/dev/examples/material/create_material.ipynb\" target=\"_parent\">\n",
    "<img alt=\"Open in Google Colab\" src=\"https://user-images.githubusercontent.com/20477508/128780728-491fea90-9b23-495f-a091-11681150db37.jpeg\" width=\"150\" border=\"0\">\n",
    "</a>"
   ]
  },
  {
   "cell_type": "markdown",
   "metadata": {
    "id": "4icy6yP1nrTF"
   },
   "source": [
    "# Overview\n",
    "\n",
    "In this example we create a material from a JSON config with [tags](https://docs.exabyte.io/entities-general/data/#tags) to identify the material."
   ]
  },
  {
   "cell_type": "markdown",
   "metadata": {
    "id": "UC33AKk8stwN"
   },
   "source": [
    "# Complete Authorization Form and Initialize Settings\n",
    "\n",
    "The following environment variables need to be set:\n",
    "\n",
    "ACCOUNT_ID and AUTH_TOKEN - Authentication parameters needed for when making requests to [Exabyte.io's API Endpoints](https://docs.exabyte.io/rest-api/endpoints/).\n",
    "\n",
    "MATERIALS_PROJECT_API_KEY - Authentication parameter needed for when making requests to [Material Project's API](https://materialsproject.org/open)\n",
    "\n",
    "ORGANIZATION_ID - Authentication parameter needed for when working with collaborative accounts https://docs.exabyte.io/collaboration/organizations/overview/"
   ]
  },
  {
   "cell_type": "code",
   "execution_count": null,
   "metadata": {
    "cellView": "form",
    "id": "63oC9xGZsuyy",
    "outputId": "1419f649-9ac2-4e50-a197-ff90c3769987"
   },
   "outputs": [],
   "source": [
    "#@title Authorization Form\n",
    "ACCOUNT_ID = \"ACCOUNT_ID\" #@param {type:\"string\"}\n",
    "AUTH_TOKEN = \"AUTH_TOKEN\" #@param {type:\"string\"}\n",
    "MATERIALS_PROJECT_API_KEY = \"MATERIALS_PROJECT_API_KEY\" #@param {type:\"string\"}\n",
    "ORGANIZATION_ID  = \"ORGANIZATION_ID\" #@param {type:\"string\"}"
   ]
  },
  {
   "cell_type": "code",
   "execution_count": null,
   "metadata": {},
   "outputs": [],
   "source": [
    "from exabyte_api_examples_utils.enum import (\n",
    "    HOST,\n",
    "    PORT,\n",
    "    VERSION,\n",
    "    SECURE,\n",
    ")\n",
    "\n",
    "ENDPOINT_ARGS = [HOST, PORT, ACCOUNT_ID, AUTH_TOKEN, VERSION, SECURE]"
   ]
  },
  {
   "cell_type": "markdown",
   "metadata": {
    "id": "n3qID8yysRA9"
   },
   "source": [
    "# Imports"
   ]
  },
  {
   "cell_type": "code",
   "execution_count": null,
   "metadata": {
    "id": "eohqW-ICsRA-"
   },
   "outputs": [],
   "source": [
    "from exabyte_api_examples_utils.generic import display_JSON\n",
    "from exabyte_api_client.endpoints.materials import MaterialEndpoints"
   ]
  },
  {
   "cell_type": "markdown",
   "metadata": {
    "id": "-afD9DmxsRA_"
   },
   "source": [
    "## Create material config\n",
    "\n",
    "Create material config in JSON format. See [Material](https://docs.exabyte.io/api/Material/put_materials_create) endpoint for more information about material config format."
   ]
  },
  {
   "cell_type": "code",
   "execution_count": null,
   "metadata": {
    "id": "YrcuQGZSsRA_"
   },
   "outputs": [],
   "source": [
    "CONFIG = {\n",
    "    \"name\": \"TEST MATERIAL\",\n",
    "    \"basis\": {\n",
    "        \"elements\": [\n",
    "            {\n",
    "                \"id\": 1,\n",
    "                \"value\": \"Si\"\n",
    "            },\n",
    "            {\n",
    "                \"id\": 2,\n",
    "                \"value\": \"Si\"\n",
    "            }\n",
    "        ],\n",
    "        \"coordinates\": [\n",
    "            {\n",
    "                \"id\": 1,\n",
    "                \"value\": [\n",
    "                    0,\n",
    "                    0,\n",
    "                    0\n",
    "                ]\n",
    "            },\n",
    "            {\n",
    "                \"id\": 2,\n",
    "                \"value\": [\n",
    "                    0.25,\n",
    "                    0.25,\n",
    "                    0.25\n",
    "                ]\n",
    "            }\n",
    "        ],\n",
    "        \"units\": \"crystal\",\n",
    "        \"name\": \"basis\"\n",
    "    },\n",
    "    \"lattice\": {\n",
    "        \"type\": \"FCC\",\n",
    "        \"a\": 3.867,\n",
    "        \"b\": 3.867,\n",
    "        \"c\": 3.867,\n",
    "        \"alpha\": 60,\n",
    "        \"beta\": 60,\n",
    "        \"gamma\": 60,\n",
    "        \"units\": {\n",
    "            \"length\": \"angstrom\",\n",
    "            \"angle\": \"degree\"\n",
    "        },\n",
    "        \"vectors\": {\n",
    "            \"a\": [\n",
    "                3.867,\n",
    "                0,\n",
    "                0\n",
    "            ],\n",
    "            \"b\": [\n",
    "                1.9335000000000004,\n",
    "                3.348920236434424,\n",
    "                0\n",
    "            ],\n",
    "            \"c\": [\n",
    "                1.9335000000000004,\n",
    "                1.1163067454781415,\n",
    "                3.1573922784475164\n",
    "            ],\n",
    "            \"name\": \"lattice vectors\",\n",
    "            \"alat\": 1,\n",
    "            \"units\": \"angstrom\"\n",
    "        }\n",
    "    },\n",
    "    \"tags\": [\n",
    "        \"REST API\"\n",
    "    ]\n",
    "}"
   ]
  },
  {
   "cell_type": "markdown",
   "metadata": {
    "id": "1S914EcCsRBA"
   },
   "source": [
    "## Create material\n",
    "\n",
    "Initialize `MaterialEndpoints` class and call `create` function to create material."
   ]
  },
  {
   "cell_type": "code",
   "execution_count": null,
   "metadata": {
    "id": "sEr2jm5wsRBA"
   },
   "outputs": [],
   "source": [
    "endpoint = MaterialEndpoints(*ENDPOINT_ARGS)\n",
    "material = endpoint.create(CONFIG)"
   ]
  },
  {
   "cell_type": "markdown",
   "metadata": {
    "id": "Lr8AYzECsRBA"
   },
   "source": [
    "## Print new material"
   ]
  },
  {
   "cell_type": "code",
   "execution_count": null,
   "metadata": {
    "id": "NGMxmSLUsRBB",
    "outputId": "0f8e0efa-e94b-4292-968c-a6252658c14a"
   },
   "outputs": [],
   "source": [
    "display_JSON(material)"
   ]
  }
 ],
 "metadata": {
  "colab": {
   "collapsed_sections": [],
   "name": "create_material.ipynb",
   "provenance": []
  },
  "kernelspec": {
   "display_name": "Python 3",
   "language": "python",
   "name": "python3"
  },
  "language_info": {
   "codemirror_mode": {
    "name": "ipython",
    "version": 3
   },
   "file_extension": ".py",
   "mimetype": "text/x-python",
   "name": "python",
   "nbconvert_exporter": "python",
   "pygments_lexer": "ipython3",
   "version": "3.8.12"
  }
 },
 "nbformat": 4,
 "nbformat_minor": 1
}
