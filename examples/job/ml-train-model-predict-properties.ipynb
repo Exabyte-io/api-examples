{
 "cells": [
  {
   "cell_type": "markdown",
   "metadata": {
    "id": "n7Si3HU22QxW"
   },
   "source": [
    "<a href=\"https://colab.research.google.com/github/Exabyte-io/api-examples/blob/dev/examples/job/ml-train-model-predict-properties.ipynb\" target=\"_parent\">\n",
    "<img alt=\"Open in Google Colab\" src=\"https://user-images.githubusercontent.com/20477508/128780728-491fea90-9b23-495f-a091-11681150db37.jpeg\" width=\"150\" border=\"0\">\n",
    "</a>"
   ]
  },
  {
   "cell_type": "markdown",
   "metadata": {
    "id": "7m-SyWOK2QxY"
   },
   "source": [
    "# Overview\n",
    "\n",
    "This example demonstrates how to use Exabyte RESTful API to build a machine learning (ML) model for a set of materials called \"train materials\" and use the model to predict properties of another set called \"target materials\". The general approach can work for multiple properties, we use the Electronic Band Gap in this example.\n",
    "\n",
    "\n",
    "\n",
    "## Steps\n",
    "\n",
    "We follow the below steps:\n",
    "\n",
    "- Import materials from [materials project](https://materialsproject.org/)\n",
    "- Calculate band gap for the \"train materials\"\n",
    "- Build ML Train model based on the \"train materials\"\n",
    "- Create and submit a job to predict band gap for the \"target materials\"\n",
    "- Extract band gap for \"target materials\"\n",
    "- Output the results as Pandas dataFrame\n",
    "\n",
    "## Pre-requisites\n",
    "\n",
    "The explanation below assumes that the reader is familiar with the concepts used in Exabyte platform and RESTful API. We outline these below and direct the reader to the original sources of information:\n",
    "\n",
    "- [Generating RESTful API authentication parameters](../system/get_authentication_params.ipynb)\n",
    "- [Importing materials from materials project](../material/import_materials_from_materialsproject.ipynb)\n",
    "- [Creating and submitting jobs](./create_and_submit_job.ipynb)\n",
    "- [Running DFT calculations](./dft-band-gaps-calculation.ipynb)"
   ]
  },
  {
   "cell_type": "markdown",
   "metadata": {
    "id": "nl8vlnAD2QxZ"
   },
   "source": [
    "# Complete Authorization Form and Initialize Settings\n",
    "\n",
    "This will also determine environment and set all environment variables. We determine if we are using Jupyter Notebooks or Google Colab to run this tutorial.\n",
    "\n",
    "If you are running this notebook from Google Colab, Colab takes ~1 min to execute the following cell.\n",
    "\n",
    "ACCOUNT_ID and AUTH_TOKEN - Authentication parameters needed for when making requests to [Exabyte.io's API Endpoints](https://docs.exabyte.io/rest-api/endpoints/).\n",
    "\n",
    "MATERIALS_PROJECT_API_KEY - Authentication parameter needed for when making requests to [Material Project's API](https://materialsproject.org/open)\n",
    "\n",
    "ORGANIZATION_ID - Authentication parameter needed for when working with collaborative accounts https://docs.exabyte.io/collaboration/organizations/overview/\n",
    "\n",
    "> <span style=\"color: orange\">**NOTE**</span>: If you are running this notebook from Jupyter, the variables ACCOUNT_ID, AUTH_TOKEN, MATERIALS_PROJECT_API_KEY, and ORGANIZATION_ID should be set in the file [settings.json](../settings.json) if you need to use these variables. To obtain API token parameters, please see the following link to the documentation explaining how to get them: https://docs.exabyte.io/accounts/ui/preferences/api/"
   ]
  },
  {
   "cell_type": "code",
   "execution_count": 1,
   "metadata": {
    "cellView": "form",
    "colab": {
     "base_uri": "https://localhost:8080/"
    },
    "id": "6fBhrNDO2QxZ",
    "outputId": "2f059fa9-ccf4-476d-cf20-043ad9cd320d"
   },
   "outputs": [
    {
     "name": "stdout",
     "output_type": "stream",
     "text": [
      "Cloning into 'exabyte-api-examples'...\n",
      "remote: Enumerating objects: 2455, done.\u001b[K\n",
      "remote: Counting objects: 100% (421/421), done.\u001b[K\n",
      "remote: Compressing objects: 100% (203/203), done.\u001b[K\n",
      "remote: Total 2455 (delta 325), reused 302 (delta 218), pack-reused 2034\u001b[K\n",
      "Receiving objects: 100% (2455/2455), 34.86 MiB | 24.62 MiB/s, done.\n",
      "Resolving deltas: 100% (1387/1387), done.\n"
     ]
    }
   ],
   "source": [
    "#@title Authorization Form\n",
    "ACCOUNT_ID = \"ACCOUNT_ID\" #@param {type:\"string\"}\n",
    "AUTH_TOKEN = \"AUTH_TOKEN\" #@param {type:\"string\"}\n",
    "MATERIALS_PROJECT_API_KEY = \"MATERIALS_PROJECT_API_KEY\" #@param {type:\"string\"}\n",
    "ORGANIZATION_ID  = \"ORGANIZATION_ID\" #@param {type:\"string\"}\n",
    "import os, glob, sys, importlib, urllib.request\n",
    "\n",
    "# The below execution sets up runtime using code stored remotely in a url\n",
    "exec(urllib.request.urlopen('https://raw.githubusercontent.com/Exabyte-io/api-examples/dev/examples/utils/initialize_settings.py').read())"
   ]
  },
  {
   "cell_type": "markdown",
   "metadata": {
    "id": "EMKMnghw2Qxa"
   },
   "source": [
    "# Imports"
   ]
  },
  {
   "cell_type": "code",
   "execution_count": 2,
   "metadata": {
    "id": "xpXAOeAp2Qxa"
   },
   "outputs": [],
   "source": [
    "import time\n",
    "from IPython.display import IFrame\n",
    "\n",
    "# Import settings file and utils file\n",
    "import settings; importlib.reload(settings)\n",
    "from settings import ENDPOINT_ARGS, ACCOUNT_ID, MATERIALS_PROJECT_API_KEY\n",
    "from utils.generic import dataframe_to_html, copy_bank_workflow_by_system_name, wait_for_jobs_to_finish, get_property_by_subworkow_and_unit_indicies, display_JSON\n",
    "\n",
    "import pandas as pd\n",
    "\n",
    "# Import relevant portions of the API client\n",
    "from exabyte_api_client.endpoints.jobs import JobEndpoints\n",
    "from exabyte_api_client.utils.materials import flatten_material\n",
    "from exabyte_api_client.endpoints.projects import ProjectEndpoints\n",
    "from exabyte_api_client.endpoints.materials import MaterialEndpoints\n",
    "from exabyte_api_client.endpoints.workflows import WorkflowEndpoints\n",
    "from exabyte_api_client.endpoints.bank_workflows import BankWorkflowEndpoints\n",
    "from exabyte_api_client.endpoints.raw_properties import RawPropertiesEndpoints"
   ]
  },
  {
   "cell_type": "markdown",
   "metadata": {
    "id": "TNXq-lpw2Qxb"
   },
   "source": [
    "#### Materials\n",
    "\n",
    "Set parameters for the materials to be imported:\n",
    "\n",
    "- **TRAIN_MATERIALS_PROJECT_IDS**: a list of material IDs to train ML model based on\n",
    "- **TARGET_MATERIALS_PROJECT_IDS**: a list of material IDs to predict the property for"
   ]
  },
  {
   "cell_type": "code",
   "execution_count": 3,
   "metadata": {
    "id": "qeZIEenS2Qxb"
   },
   "outputs": [],
   "source": [
    "TRAIN_MATERIALS_PROJECT_IDS = [\"mp-149\", \"mp-978534\"] # Si, SiGe\n",
    "TARGET_MATERIALS_PROJECT_IDS = [\"mp-32\"] # Ge"
   ]
  },
  {
   "cell_type": "markdown",
   "metadata": {
    "id": "zSGV807V2Qxb"
   },
   "source": [
    "#### Jobs\n",
    "\n",
    "Set parameters for the jobs to be ran for the imported materials:\n",
    "\n",
    "- **JOB_NAME_PREFIX**: prefix to be used for the job name with \"{JOB_NAME_PREFIX} {FORMULA}\" convention (e.g.  \"Job Name Prefix - SiGe\")"
   ]
  },
  {
   "cell_type": "code",
   "execution_count": 4,
   "metadata": {
    "id": "1Z68p_zB2Qxc"
   },
   "outputs": [],
   "source": [
    "JOB_NAME_PREFIX = \"Job Name Prefix\""
   ]
  },
  {
   "cell_type": "markdown",
   "metadata": {
    "id": "6hyr1rez2Qxc"
   },
   "source": [
    "#### Compute\n",
    "\n",
    "Setup compute parameters. See [this](https://docs.exabyte.io/infrastructure/compute-settings/ui) for more information about compute parameters.\n",
    "\n",
    "- **NODES**: Number of nodes. Defaults to 1.\n",
    "- **PPN**: Number of MPI processes per each node, Defaults to 1.\n",
    "- **QUEUE**: The name of queue to submit the jobs into. Defaults to D.\n",
    "- **TIME_LIMIT**: Job walltime. Defaults to \"01:00:00\" (one hour).\n",
    "- **CLUSTER**: The full qualified domain name (FQDN) or alias of the cluster to submit the jobs into."
   ]
  },
  {
   "cell_type": "code",
   "execution_count": 5,
   "metadata": {
    "id": "wiudje4-2Qxc"
   },
   "outputs": [],
   "source": [
    "PPN = \"1\"\n",
    "QUEUE = \"D\"\n",
    "NODES = \"1\"\n",
    "TIME_LIMIT = \"01:00:00\"\n",
    "CLUSTER = \"cluster-001\""
   ]
  },
  {
   "cell_type": "markdown",
   "metadata": {
    "id": "fDGy9Qh52Qxd"
   },
   "source": [
    "### Initialize the endpoints"
   ]
  },
  {
   "cell_type": "code",
   "execution_count": 6,
   "metadata": {
    "id": "EaRDDZ2E2Qxd"
   },
   "outputs": [],
   "source": [
    "job_endpoints = JobEndpoints(*ENDPOINT_ARGS)\n",
    "project_endpoints = ProjectEndpoints(*ENDPOINT_ARGS)\n",
    "material_endpoints = MaterialEndpoints(*ENDPOINT_ARGS)\n",
    "workflow_endpoints = WorkflowEndpoints(*ENDPOINT_ARGS)\n",
    "bank_workflow_endpoints = BankWorkflowEndpoints(*ENDPOINT_ARGS)\n",
    "raw_property_endpoints = RawPropertiesEndpoints(*ENDPOINT_ARGS)"
   ]
  },
  {
   "cell_type": "markdown",
   "metadata": {
    "id": "uKukWQNL2Qxd"
   },
   "source": [
    "Retrieve the owner and project IDs as they are needed by the endpoints. The default material is used to extract the owner ID. One can extract the owner ID from any other account's [entities](https://docs.exabyte.io/entities-general/overview/)."
   ]
  },
  {
   "cell_type": "code",
   "execution_count": 7,
   "metadata": {
    "id": "g_YTcLgD2Qxd"
   },
   "outputs": [],
   "source": [
    "owner_id = material_endpoints.list({\"isDefault\": True, \"owner._id\": ACCOUNT_ID})[0][\"owner\"][\"_id\"]\n",
    "project_id = project_endpoints.list({\"isDefault\": True, \"owner._id\": ACCOUNT_ID})[0][\"_id\"]"
   ]
  },
  {
   "cell_type": "markdown",
   "metadata": {
    "id": "c1aYxrn12Qxe"
   },
   "source": [
    "### Create workflows\n",
    "\n",
    "Copy \"ML: Train Model\" and \"Band Gap\" bank workflows to the account's workflows. We use exabyte bank workflows which are identified by \"systemName\" field. The below can be adjusted to get the bank workflows by ID."
   ]
  },
  {
   "cell_type": "code",
   "execution_count": 8,
   "metadata": {
    "id": "_JUT4f9E2Qxe"
   },
   "outputs": [],
   "source": [
    "band_gap_workflow_id = copy_bank_workflow_by_system_name(bank_workflow_endpoints, \"espresso-band-gap\", owner_id)\n",
    "ml_train_workflow_id = copy_bank_workflow_by_system_name(bank_workflow_endpoints, \"exabyteml-ml-train-model\", owner_id)"
   ]
  },
  {
   "cell_type": "markdown",
   "metadata": {
    "id": "aleETRhq2Qxe"
   },
   "source": [
    "### Import materials\n",
    "\n",
    "Import materials from materials project."
   ]
  },
  {
   "cell_type": "code",
   "execution_count": 9,
   "metadata": {
    "id": "t1dMm9ke2Qxe"
   },
   "outputs": [],
   "source": [
    "train_materials = material_endpoints.import_from_materialsproject(MATERIALS_PROJECT_API_KEY, TRAIN_MATERIALS_PROJECT_IDS, owner_id)\n",
    "target_materials = material_endpoints.import_from_materialsproject(MATERIALS_PROJECT_API_KEY, TARGET_MATERIALS_PROJECT_IDS, owner_id)"
   ]
  },
  {
   "cell_type": "markdown",
   "metadata": {
    "id": "eZTeParO2Qxe"
   },
   "source": [
    "### Calculate Properties for \"train materials\"\n",
    "\n",
    "Create jobs for the \"train materials\"."
   ]
  },
  {
   "cell_type": "code",
   "execution_count": 10,
   "metadata": {
    "id": "gJ7TMXLt2Qxe"
   },
   "outputs": [],
   "source": [
    "compute = job_endpoints.get_compute(CLUSTER, PPN, NODES, QUEUE, TIME_LIMIT)\n",
    "jobs = job_endpoints.create_by_ids(train_materials, band_gap_workflow_id, project_id, owner_id, JOB_NAME_PREFIX, compute)"
   ]
  },
  {
   "cell_type": "markdown",
   "metadata": {
    "id": "ZXJbytcT2Qxe"
   },
   "source": [
    "Submit the jobs for execution."
   ]
  },
  {
   "cell_type": "code",
   "execution_count": 11,
   "metadata": {
    "id": "uKLT6vQr2Qxf"
   },
   "outputs": [],
   "source": [
    "for job in jobs: job_endpoints.submit(job[\"_id\"])"
   ]
  },
  {
   "cell_type": "markdown",
   "metadata": {
    "id": "pUpm3qYO2Qxf"
   },
   "source": [
    "Monitor the jobs and print the status until they are all finished."
   ]
  },
  {
   "cell_type": "code",
   "execution_count": 12,
   "metadata": {
    "colab": {
     "base_uri": "https://localhost:8080/"
    },
    "id": "VIfaCdYQ2Qxf",
    "outputId": "d0a4aa6a-a26b-48ed-b318-39e030ee9ae3"
   },
   "outputs": [
    {
     "name": "stdout",
     "output_type": "stream",
     "text": [
      "Wait for jobs to finish, poll interval: 10 sec\n",
      "+---------------------+------------------+---------------+-----------------+----------------+\n",
      "|        TIME         |   SUBMITTED-JOBS |   ACTIVE-JOBS |   FINISHED-JOBS |   ERRORED-JOBS |\n",
      "+=====================+==================+===============+=================+================+\n",
      "| 2021-07-12-13:53:54 |                2 |             0 |               0 |              0 |\n",
      "+---------------------+------------------+---------------+-----------------+----------------+\n",
      "+---------------------+------------------+---------------+-----------------+----------------+\n",
      "|        TIME         |   SUBMITTED-JOBS |   ACTIVE-JOBS |   FINISHED-JOBS |   ERRORED-JOBS |\n",
      "+=====================+==================+===============+=================+================+\n",
      "| 2021-07-12-13:54:05 |                2 |             0 |               0 |              0 |\n",
      "+---------------------+------------------+---------------+-----------------+----------------+\n",
      "+---------------------+------------------+---------------+-----------------+----------------+\n",
      "|        TIME         |   SUBMITTED-JOBS |   ACTIVE-JOBS |   FINISHED-JOBS |   ERRORED-JOBS |\n",
      "+=====================+==================+===============+=================+================+\n",
      "| 2021-07-12-13:54:16 |                0 |             2 |               0 |              0 |\n",
      "+---------------------+------------------+---------------+-----------------+----------------+\n",
      "+---------------------+------------------+---------------+-----------------+----------------+\n",
      "|        TIME         |   SUBMITTED-JOBS |   ACTIVE-JOBS |   FINISHED-JOBS |   ERRORED-JOBS |\n",
      "+=====================+==================+===============+=================+================+\n",
      "| 2021-07-12-13:54:26 |                0 |             2 |               0 |              0 |\n",
      "+---------------------+------------------+---------------+-----------------+----------------+\n",
      "+---------------------+------------------+---------------+-----------------+----------------+\n",
      "|        TIME         |   SUBMITTED-JOBS |   ACTIVE-JOBS |   FINISHED-JOBS |   ERRORED-JOBS |\n",
      "+=====================+==================+===============+=================+================+\n",
      "| 2021-07-12-13:54:37 |                0 |             2 |               0 |              0 |\n",
      "+---------------------+------------------+---------------+-----------------+----------------+\n",
      "+---------------------+------------------+---------------+-----------------+----------------+\n",
      "|        TIME         |   SUBMITTED-JOBS |   ACTIVE-JOBS |   FINISHED-JOBS |   ERRORED-JOBS |\n",
      "+=====================+==================+===============+=================+================+\n",
      "| 2021-07-12-13:54:47 |                0 |             2 |               0 |              0 |\n",
      "+---------------------+------------------+---------------+-----------------+----------------+\n",
      "+---------------------+------------------+---------------+-----------------+----------------+\n",
      "|        TIME         |   SUBMITTED-JOBS |   ACTIVE-JOBS |   FINISHED-JOBS |   ERRORED-JOBS |\n",
      "+=====================+==================+===============+=================+================+\n",
      "| 2021-07-12-13:54:58 |                0 |             2 |               0 |              0 |\n",
      "+---------------------+------------------+---------------+-----------------+----------------+\n",
      "+---------------------+------------------+---------------+-----------------+----------------+\n",
      "|        TIME         |   SUBMITTED-JOBS |   ACTIVE-JOBS |   FINISHED-JOBS |   ERRORED-JOBS |\n",
      "+=====================+==================+===============+=================+================+\n",
      "| 2021-07-12-13:55:09 |                0 |             2 |               0 |              0 |\n",
      "+---------------------+------------------+---------------+-----------------+----------------+\n",
      "+---------------------+------------------+---------------+-----------------+----------------+\n",
      "|        TIME         |   SUBMITTED-JOBS |   ACTIVE-JOBS |   FINISHED-JOBS |   ERRORED-JOBS |\n",
      "+=====================+==================+===============+=================+================+\n",
      "| 2021-07-12-13:55:19 |                0 |             2 |               0 |              0 |\n",
      "+---------------------+------------------+---------------+-----------------+----------------+\n",
      "+---------------------+------------------+---------------+-----------------+----------------+\n",
      "|        TIME         |   SUBMITTED-JOBS |   ACTIVE-JOBS |   FINISHED-JOBS |   ERRORED-JOBS |\n",
      "+=====================+==================+===============+=================+================+\n",
      "| 2021-07-12-13:55:30 |                0 |             2 |               0 |              0 |\n",
      "+---------------------+------------------+---------------+-----------------+----------------+\n",
      "+---------------------+------------------+---------------+-----------------+----------------+\n",
      "|        TIME         |   SUBMITTED-JOBS |   ACTIVE-JOBS |   FINISHED-JOBS |   ERRORED-JOBS |\n",
      "+=====================+==================+===============+=================+================+\n",
      "| 2021-07-12-13:55:40 |                0 |             2 |               0 |              0 |\n",
      "+---------------------+------------------+---------------+-----------------+----------------+\n",
      "+---------------------+------------------+---------------+-----------------+----------------+\n",
      "|        TIME         |   SUBMITTED-JOBS |   ACTIVE-JOBS |   FINISHED-JOBS |   ERRORED-JOBS |\n",
      "+=====================+==================+===============+=================+================+\n",
      "| 2021-07-12-13:55:51 |                0 |             2 |               0 |              0 |\n",
      "+---------------------+------------------+---------------+-----------------+----------------+\n",
      "+---------------------+------------------+---------------+-----------------+----------------+\n",
      "|        TIME         |   SUBMITTED-JOBS |   ACTIVE-JOBS |   FINISHED-JOBS |   ERRORED-JOBS |\n",
      "+=====================+==================+===============+=================+================+\n",
      "| 2021-07-12-13:56:02 |                0 |             2 |               0 |              0 |\n",
      "+---------------------+------------------+---------------+-----------------+----------------+\n",
      "+---------------------+------------------+---------------+-----------------+----------------+\n",
      "|        TIME         |   SUBMITTED-JOBS |   ACTIVE-JOBS |   FINISHED-JOBS |   ERRORED-JOBS |\n",
      "+=====================+==================+===============+=================+================+\n",
      "| 2021-07-12-13:56:12 |                0 |             2 |               0 |              0 |\n",
      "+---------------------+------------------+---------------+-----------------+----------------+\n",
      "+---------------------+------------------+---------------+-----------------+----------------+\n",
      "|        TIME         |   SUBMITTED-JOBS |   ACTIVE-JOBS |   FINISHED-JOBS |   ERRORED-JOBS |\n",
      "+=====================+==================+===============+=================+================+\n",
      "| 2021-07-12-13:56:23 |                0 |             2 |               0 |              0 |\n",
      "+---------------------+------------------+---------------+-----------------+----------------+\n",
      "+---------------------+------------------+---------------+-----------------+----------------+\n",
      "|        TIME         |   SUBMITTED-JOBS |   ACTIVE-JOBS |   FINISHED-JOBS |   ERRORED-JOBS |\n",
      "+=====================+==================+===============+=================+================+\n",
      "| 2021-07-12-13:56:34 |                0 |             2 |               0 |              0 |\n",
      "+---------------------+------------------+---------------+-----------------+----------------+\n",
      "+---------------------+------------------+---------------+-----------------+----------------+\n",
      "|        TIME         |   SUBMITTED-JOBS |   ACTIVE-JOBS |   FINISHED-JOBS |   ERRORED-JOBS |\n",
      "+=====================+==================+===============+=================+================+\n",
      "| 2021-07-12-13:56:44 |                0 |             1 |               1 |              0 |\n",
      "+---------------------+------------------+---------------+-----------------+----------------+\n",
      "+---------------------+------------------+---------------+-----------------+----------------+\n",
      "|        TIME         |   SUBMITTED-JOBS |   ACTIVE-JOBS |   FINISHED-JOBS |   ERRORED-JOBS |\n",
      "+=====================+==================+===============+=================+================+\n",
      "| 2021-07-12-13:56:55 |                0 |             1 |               1 |              0 |\n",
      "+---------------------+------------------+---------------+-----------------+----------------+\n",
      "+---------------------+------------------+---------------+-----------------+----------------+\n",
      "|        TIME         |   SUBMITTED-JOBS |   ACTIVE-JOBS |   FINISHED-JOBS |   ERRORED-JOBS |\n",
      "+=====================+==================+===============+=================+================+\n",
      "| 2021-07-12-13:57:05 |                0 |             1 |               1 |              0 |\n",
      "+---------------------+------------------+---------------+-----------------+----------------+\n",
      "+---------------------+------------------+---------------+-----------------+----------------+\n",
      "|        TIME         |   SUBMITTED-JOBS |   ACTIVE-JOBS |   FINISHED-JOBS |   ERRORED-JOBS |\n",
      "+=====================+==================+===============+=================+================+\n",
      "| 2021-07-12-13:57:16 |                0 |             0 |               2 |              0 |\n",
      "+---------------------+------------------+---------------+-----------------+----------------+\n"
     ]
    }
   ],
   "source": [
    "job_ids = [job[\"_id\"] for job in jobs]\n",
    "wait_for_jobs_to_finish(job_endpoints, job_ids)"
   ]
  },
  {
   "cell_type": "markdown",
   "metadata": {
    "id": "JSJjMpiw2Qxg"
   },
   "source": [
    "### Build ML Train model\n",
    "\n",
    "Create ML Train job for the train materials."
   ]
  },
  {
   "cell_type": "code",
   "execution_count": 13,
   "metadata": {
    "id": "6LNWH-8f2Qxg"
   },
   "outputs": [],
   "source": [
    "name = \"-\".join((JOB_NAME_PREFIX, \"train\"))\n",
    "material_ids = [m[\"_id\"] for m in train_materials]\n",
    "config = job_endpoints.get_config(material_ids, ml_train_workflow_id, project_id, owner_id, name, compute, True)\n",
    "job = job_endpoints.create(config)"
   ]
  },
  {
   "cell_type": "markdown",
   "metadata": {
    "id": "_LmJY5Pj2Qxg"
   },
   "source": [
    "Submit the train job for execution."
   ]
  },
  {
   "cell_type": "code",
   "execution_count": 14,
   "metadata": {
    "id": "WQMOm3Qk2Qxg"
   },
   "outputs": [],
   "source": [
    "job_endpoints.submit(job[\"_id\"])"
   ]
  },
  {
   "cell_type": "markdown",
   "metadata": {
    "id": "4dub7yC52Qxg"
   },
   "source": [
    "Monitor the job and print the status until it is done."
   ]
  },
  {
   "cell_type": "code",
   "execution_count": 15,
   "metadata": {
    "colab": {
     "base_uri": "https://localhost:8080/"
    },
    "id": "0Q3SU-Es2Qxg",
    "outputId": "dfca0a46-6318-40a9-84a0-5e8925f5958e"
   },
   "outputs": [
    {
     "name": "stdout",
     "output_type": "stream",
     "text": [
      "Wait for jobs to finish, poll interval: 10 sec\n",
      "+---------------------+------------------+---------------+-----------------+----------------+\n",
      "|        TIME         |   SUBMITTED-JOBS |   ACTIVE-JOBS |   FINISHED-JOBS |   ERRORED-JOBS |\n",
      "+=====================+==================+===============+=================+================+\n",
      "| 2021-07-12-13:57:19 |                1 |             0 |               0 |              0 |\n",
      "+---------------------+------------------+---------------+-----------------+----------------+\n",
      "+---------------------+------------------+---------------+-----------------+----------------+\n",
      "|        TIME         |   SUBMITTED-JOBS |   ACTIVE-JOBS |   FINISHED-JOBS |   ERRORED-JOBS |\n",
      "+=====================+==================+===============+=================+================+\n",
      "| 2021-07-12-13:57:29 |                0 |             0 |               1 |              0 |\n",
      "+---------------------+------------------+---------------+-----------------+----------------+\n"
     ]
    }
   ],
   "source": [
    "wait_for_jobs_to_finish(job_endpoints, [job[\"_id\"]])"
   ]
  },
  {
   "cell_type": "markdown",
   "metadata": {
    "id": "GjyQbQTQ2Qxh"
   },
   "source": [
    "### Extract ML model as workflow\n",
    "\n",
    "The resulting trained model is extracted from the last unit (train with index 4) of the first job's subworkflow (ML: Train Model with index 0) and is further referred to as \"ML predict workflow\"."
   ]
  },
  {
   "cell_type": "code",
   "execution_count": 16,
   "metadata": {
    "id": "xq_rGr5b2Qxh"
   },
   "outputs": [],
   "source": [
    "ml_predict_workflow = get_property_by_subworkow_and_unit_indicies(raw_property_endpoints, \"workflow:ml_predict\", job, 0, 4)[\"data\"]\n",
    "ml_predict_workflow_id = ml_predict_workflow[\"_id\"]"
   ]
  },
  {
   "cell_type": "markdown",
   "metadata": {
    "id": "VPOx3SxH2Qxh"
   },
   "source": [
    "Print ML predict workflow"
   ]
  },
  {
   "cell_type": "code",
   "execution_count": 17,
   "metadata": {
    "colab": {
     "base_uri": "https://localhost:8080/"
    },
    "id": "PiUO0kzN2Qxh",
    "outputId": "de75edbe-a3ac-4e1c-c548-9bb2d504b8b8"
   },
   "outputs": [
    {
     "name": "stdout",
     "output_type": "stream",
     "text": [
      "{\n",
      "    \"name\": \"workflow:ml_predict\",\n",
      "    \"displayName\": \"workflow:ml_predict\",\n",
      "    \"creator\": {\n",
      "        \"_id\": \"acky7GjD9aownD6iJ\",\n",
      "        \"slug\": \"bsmith\",\n",
      "        \"cls\": \"User\"\n",
      "    },\n",
      "    \"owner\": {\n",
      "        \"_id\": \"HnTMM74xxPnTMFcm3\",\n",
      "        \"slug\": \"bsmith\",\n",
      "        \"cls\": \"Account\"\n",
      "    },\n",
      "    \"schemaVersion\": \"0.2.0\",\n",
      "    \"hash\": \"\",\n",
      "    \"_id\": \"J443sTiRvraysd8uD\",\n",
      "    \"units\": [\n",
      "        {\n",
      "            \"_id\": \"LCthJ6E2QabYCZqf4\",\n",
      "            \"name\": \"ml_predict_subworkflow\",\n",
      "            \"type\": \"subworkflow\",\n",
      "            \"flowchartId\": \"subworkflow\",\n",
      "            \"head\": true\n",
      "        }\n",
      "    ],\n",
      "    \"subworkflows\": [\n",
      "        {\n",
      "            \"name\": \"ml_predict_subworkflow\",\n",
      "            \"isDraft\": true,\n",
      "            \"application\": {\n",
      "                \"version\": \"0.2.0\",\n",
      "                \"summary\": \"Exabyte Machine Learning Engine\",\n",
      "                \"name\": \"exabyteml\",\n",
      "                \"shortName\": \"ml\",\n",
      "                \"build\": \"Default\"\n",
      "            },\n",
      "            \"units\": [\n",
      "                {\n",
      "                    \"status\": \"idle\",\n",
      "                    \"statusTrack\": [],\n",
      "                    \"head\": true,\n",
      "                    \"flowchartId\": \"io\",\n",
      "                    \"name\": \"input\",\n",
      "                    \"application\": {\n",
      "                        \"version\": \"0.2.0\",\n",
      "                        \"summary\": \"Exabyte Machine Learning Engine\",\n",
      "                        \"name\": \"exabyteml\",\n",
      "                        \"shortName\": \"ml\",\n",
      "                        \"build\": \"Default\"\n",
      "                    },\n",
      "                    \"results\": [],\n",
      "                    \"next\": \"data_transformation_manipulation\",\n",
      "                    \"source\": \"api\",\n",
      "                    \"postProcessors\": [],\n",
      "                    \"preProcessors\": [],\n",
      "                    \"subtype\": \"dataFrame\",\n",
      "                    \"input\": [\n",
      "                        {\n",
      "                            \"endpoint\": \"dataframe\",\n",
      "                            \"endpoint_options\": {\n",
      "                                \"headers\": {},\n",
      "                                \"data\": {\n",
      "                                    \"features\": [\n",
      "                                        \"volume\",\n",
      "                                        \"density\",\n",
      "                                        \"elemental_ratio:element=Si\",\n",
      "                                        \"p-norm:degree=0\",\n",
      "                                        \"p-norm:degree=2\",\n",
      "                                        \"p-norm:degree=3\",\n",
      "                                        \"p-norm:degree=5\",\n",
      "                                        \"p-norm:degree=7\",\n",
      "                                        \"p-norm:degree=10\",\n",
      "                                        \"atomic_radius:Si\",\n",
      "                                        \"electronegativity:Si\",\n",
      "                                        \"ionization_potential:Si\",\n",
      "                                        \"elemental_ratio:element=Ge\",\n",
      "                                        \"atomic_radius:Ge\",\n",
      "                                        \"electronegativity:Ge\",\n",
      "                                        \"ionization_potential:Ge\"\n",
      "                                    ],\n",
      "                                    \"ids\": [],\n",
      "                                    \"targets\": [\n",
      "                                        \"band_gaps:direct\",\n",
      "                                        \"band_gaps:indirect\"\n",
      "                                    ]\n",
      "                                },\n",
      "                                \"method\": \"POST\",\n",
      "                                \"params\": {},\n",
      "                                \"jobId\": \"\"\n",
      "                            }\n",
      "                        }\n",
      "                    ],\n",
      "                    \"type\": \"io\",\n",
      "                    \"monitors\": []\n",
      "                },\n",
      "                {\n",
      "                    \"status\": \"idle\",\n",
      "                    \"statusTrack\": [],\n",
      "                    \"head\": false,\n",
      "                    \"flowchartId\": \"data_transformation_manipulation\",\n",
      "                    \"name\": \"clean data\",\n",
      "                    \"monitors\": [],\n",
      "                    \"results\": [],\n",
      "                    \"next\": \"data_transformation_scale_and_reduce\",\n",
      "                    \"application\": {\n",
      "                        \"version\": \"0.2.0\",\n",
      "                        \"summary\": \"Exabyte Machine Learning Engine\",\n",
      "                        \"name\": \"exabyteml\",\n",
      "                        \"shortName\": \"ml\",\n",
      "                        \"build\": \"Default\"\n",
      "                    },\n",
      "                    \"postProcessors\": [],\n",
      "                    \"preProcessors\": [],\n",
      "                    \"operationType\": \"manipulation\",\n",
      "                    \"operation\": \"data_transformation\",\n",
      "                    \"type\": \"processing\",\n",
      "                    \"inputData\": {\n",
      "                        \"cleanMissingData\": true,\n",
      "                        \"replaceNoneValuesWith\": 0,\n",
      "                        \"removeDuplicateRows\": true\n",
      "                    }\n",
      "                },\n",
      "                {\n",
      "                    \"status\": \"idle\",\n",
      "                    \"statusTrack\": [],\n",
      "                    \"head\": false,\n",
      "                    \"flowchartId\": \"data_transformation_scale_and_reduce\",\n",
      "                    \"name\": \"scale and reduce\",\n",
      "                    \"monitors\": [],\n",
      "                    \"results\": [],\n",
      "                    \"next\": \"score\",\n",
      "                    \"application\": {\n",
      "                        \"version\": \"0.2.0\",\n",
      "                        \"build\": \"Default\",\n",
      "                        \"name\": \"exabyteml\",\n",
      "                        \"shortName\": \"ml\",\n",
      "                        \"summary\": \"Exabyte Machine Learning Engine\"\n",
      "                    },\n",
      "                    \"postProcessors\": [],\n",
      "                    \"preProcessors\": [],\n",
      "                    \"operationType\": \"scale_and_reduce\",\n",
      "                    \"operation\": \"data_transformation\",\n",
      "                    \"type\": \"processing\",\n",
      "                    \"inputData\": {\n",
      "                        \"scaler\": \"standard_scaler\",\n",
      "                        \"perFeature\": [\n",
      "                            {\n",
      "                                \"variance\": 543.8373686872978,\n",
      "                                \"mean\": 64.20941132751862,\n",
      "                                \"scale\": 23.32032093877136,\n",
      "                                \"name\": \"volume\"\n",
      "                            },\n",
      "                            {\n",
      "                                \"variance\": 0.5933666445116338,\n",
      "                                \"mean\": 3.0514527087099674,\n",
      "                                \"scale\": 0.7703029563175996,\n",
      "                                \"name\": \"density\"\n",
      "                            },\n",
      "                            {\n",
      "                                \"variance\": 0.0625,\n",
      "                                \"mean\": 0.75,\n",
      "                                \"scale\": 0.25,\n",
      "                                \"name\": \"elemental_ratio:element=Si\"\n",
      "                            },\n",
      "                            {\n",
      "                                \"variance\": 0.25,\n",
      "                                \"mean\": 1.5,\n",
      "                                \"scale\": 0.5,\n",
      "                                \"name\": \"p-norm:degree=0\"\n",
      "                            },\n",
      "                            {\n",
      "                                \"variance\": 0.02144660940672623,\n",
      "                                \"mean\": 0.8535533905932737,\n",
      "                                \"scale\": 0.1464466094067262,\n",
      "                                \"name\": \"p-norm:degree=2\"\n",
      "                            },\n",
      "                            {\n",
      "                                \"variance\": 0.034232303274294176,\n",
      "                                \"mean\": 0.8149802624737184,\n",
      "                                \"scale\": 0.1850197375262817,\n",
      "                                \"name\": \"p-norm:degree=3\"\n",
      "                            },\n",
      "                            {\n",
      "                                \"variance\": 0.045294655674047155,\n",
      "                                \"mean\": 0.7871745887492587,\n",
      "                                \"scale\": 0.21282541125074128,\n",
      "                                \"name\": \"p-norm:degree=5\"\n",
      "                            },\n",
      "                            {\n",
      "                                \"variance\": 0.050165974969326614,\n",
      "                                \"mean\": 0.7760223784184531,\n",
      "                                \"scale\": 0.22397762158154688,\n",
      "                                \"name\": \"p-norm:degree=7\"\n",
      "                            },\n",
      "                            {\n",
      "                                \"variance\": 0.053850281553241404,\n",
      "                                \"mean\": 0.7679433656340733,\n",
      "                                \"scale\": 0.23205663436592672,\n",
      "                                \"name\": \"p-norm:degree=10\"\n",
      "                            },\n",
      "                            {\n",
      "                                \"variance\": 0,\n",
      "                                \"mean\": 132,\n",
      "                                \"scale\": 1,\n",
      "                                \"name\": \"atomic_radius:Si\"\n",
      "                            },\n",
      "                            {\n",
      "                                \"variance\": 0,\n",
      "                                \"mean\": 1.9,\n",
      "                                \"scale\": 1,\n",
      "                                \"name\": \"electronegativity:Si\"\n",
      "                            },\n",
      "                            {\n",
      "                                \"variance\": 0,\n",
      "                                \"mean\": 8.1461826,\n",
      "                                \"scale\": 1,\n",
      "                                \"name\": \"ionization_potential:Si\"\n",
      "                            },\n",
      "                            {\n",
      "                                \"variance\": 0.0625,\n",
      "                                \"mean\": 0.25,\n",
      "                                \"scale\": 0.25,\n",
      "                                \"name\": \"elemental_ratio:element=Ge\"\n",
      "                            },\n",
      "                            {\n",
      "                                \"variance\": 4692.25,\n",
      "                                \"mean\": 68.5,\n",
      "                                \"scale\": 68.5,\n",
      "                                \"name\": \"atomic_radius:Ge\"\n",
      "                            },\n",
      "                            {\n",
      "                                \"variance\": 1.0100249999999997,\n",
      "                                \"mean\": 1.005,\n",
      "                                \"scale\": 1.005,\n",
      "                                \"name\": \"electronegativity:Ge\"\n",
      "                            },\n",
      "                            {\n",
      "                                \"variance\": 15.510663736163997,\n",
      "                                \"mean\": 3.9383579999999996,\n",
      "                                \"scale\": 3.9383579999999996,\n",
      "                                \"name\": \"ionization_potential:Ge\"\n",
      "                            }\n",
      "                        ]\n",
      "                    }\n",
      "                },\n",
      "                {\n",
      "                    \"status\": \"idle\",\n",
      "                    \"statusTrack\": [],\n",
      "                    \"executable\": {\n",
      "                        \"name\": \"score\"\n",
      "                    },\n",
      "                    \"flowchartId\": \"score\",\n",
      "                    \"name\": \"score\",\n",
      "                    \"head\": false,\n",
      "                    \"results\": [\n",
      "                        {\n",
      "                            \"name\": \"predicted_properties\"\n",
      "                        }\n",
      "                    ],\n",
      "                    \"application\": {\n",
      "                        \"version\": \"0.2.0\",\n",
      "                        \"build\": \"Default\",\n",
      "                        \"name\": \"exabyteml\",\n",
      "                        \"shortName\": \"ml\",\n",
      "                        \"summary\": \"Exabyte Machine Learning Engine\"\n",
      "                    },\n",
      "                    \"postProcessors\": [],\n",
      "                    \"preProcessors\": [],\n",
      "                    \"context\": {},\n",
      "                    \"input\": [],\n",
      "                    \"flavor\": {\n",
      "                        \"name\": \"score\"\n",
      "                    },\n",
      "                    \"type\": \"execution\",\n",
      "                    \"monitors\": [\n",
      "                        {\n",
      "                            \"name\": \"standard_output\"\n",
      "                        }\n",
      "                    ]\n",
      "                }\n",
      "            ],\n",
      "            \"model\": {\n",
      "                \"type\": \"ml\",\n",
      "                \"subtype\": \"re\",\n",
      "                \"method\": {\n",
      "                    \"type\": \"linear\",\n",
      "                    \"subtype\": \"least_squares\",\n",
      "                    \"data\": {\n",
      "                        \"perProperty\": [\n",
      "                            {\n",
      "                                \"name\": \"band_gaps:direct\",\n",
      "                                \"perFeature\": [\n",
      "                                    {\n",
      "                                        \"name\": \"volume\",\n",
      "                                        \"coefficient\": -0.08325020834740948,\n",
      "                                        \"importance\": \"NaN\"\n",
      "                                    },\n",
      "                                    {\n",
      "                                        \"name\": \"density\",\n",
      "                                        \"coefficient\": -0.08325020834740947,\n",
      "                                        \"importance\": \"NaN\"\n",
      "                                    },\n",
      "                                    {\n",
      "                                        \"name\": \"elemental_ratio:element=Si\",\n",
      "                                        \"coefficient\": 0.08325020834740947,\n",
      "                                        \"importance\": \"NaN\"\n",
      "                                    },\n",
      "                                    {\n",
      "                                        \"name\": \"p-norm:degree=0\",\n",
      "                                        \"coefficient\": -0.08325020834740947,\n",
      "                                        \"importance\": \"NaN\"\n",
      "                                    },\n",
      "                                    {\n",
      "                                        \"name\": \"p-norm:degree=2\",\n",
      "                                        \"coefficient\": 0.08325020834740947,\n",
      "                                        \"importance\": \"NaN\"\n",
      "                                    },\n",
      "                                    {\n",
      "                                        \"name\": \"p-norm:degree=3\",\n",
      "                                        \"coefficient\": 0.08325020834740947,\n",
      "                                        \"importance\": \"NaN\"\n",
      "                                    },\n",
      "                                    {\n",
      "                                        \"name\": \"p-norm:degree=5\",\n",
      "                                        \"coefficient\": 0.08325020834740947,\n",
      "                                        \"importance\": \"NaN\"\n",
      "                                    },\n",
      "                                    {\n",
      "                                        \"name\": \"p-norm:degree=7\",\n",
      "                                        \"coefficient\": 0.08325020834740947,\n",
      "                                        \"importance\": \"NaN\"\n",
      "                                    },\n",
      "                                    {\n",
      "                                        \"name\": \"p-norm:degree=10\",\n",
      "                                        \"coefficient\": 0.08325020834740947,\n",
      "                                        \"importance\": \"NaN\"\n",
      "                                    },\n",
      "                                    {\n",
      "                                        \"name\": \"atomic_radius:Si\",\n",
      "                                        \"coefficient\": 0,\n",
      "                                        \"importance\": \"NaN\"\n",
      "                                    },\n",
      "                                    {\n",
      "                                        \"name\": \"electronegativity:Si\",\n",
      "                                        \"coefficient\": 0,\n",
      "                                        \"importance\": \"NaN\"\n",
      "                                    },\n",
      "                                    {\n",
      "                                        \"name\": \"ionization_potential:Si\",\n",
      "                                        \"coefficient\": 0,\n",
      "                                        \"importance\": \"NaN\"\n",
      "                                    },\n",
      "                                    {\n",
      "                                        \"name\": \"elemental_ratio:element=Ge\",\n",
      "                                        \"coefficient\": -0.08325020834740947,\n",
      "                                        \"importance\": \"NaN\"\n",
      "                                    },\n",
      "                                    {\n",
      "                                        \"name\": \"atomic_radius:Ge\",\n",
      "                                        \"coefficient\": -0.08325020834740947,\n",
      "                                        \"importance\": \"NaN\"\n",
      "                                    },\n",
      "                                    {\n",
      "                                        \"name\": \"electronegativity:Ge\",\n",
      "                                        \"coefficient\": -0.08325020834740947,\n",
      "                                        \"importance\": \"NaN\"\n",
      "                                    },\n",
      "                                    {\n",
      "                                        \"name\": \"ionization_potential:Ge\",\n",
      "                                        \"coefficient\": -0.08325020834740947,\n",
      "                                        \"importance\": \"NaN\"\n",
      "                                    }\n",
      "                                ],\n",
      "                                \"intercept\": 1.476\n",
      "                            },\n",
      "                            {\n",
      "                                \"name\": \"band_gaps:indirect\",\n",
      "                                \"perFeature\": [\n",
      "                                    {\n",
      "                                        \"name\": \"volume\",\n",
      "                                        \"coefficient\": -0.008810962700503994,\n",
      "                                        \"importance\": \"NaN\"\n",
      "                                    },\n",
      "                                    {\n",
      "                                        \"name\": \"density\",\n",
      "                                        \"coefficient\": -0.008810962700503988,\n",
      "                                        \"importance\": \"NaN\"\n",
      "                                    },\n",
      "                                    {\n",
      "                                        \"name\": \"elemental_ratio:element=Si\",\n",
      "                                        \"coefficient\": 0.008810962700503988,\n",
      "                                        \"importance\": \"NaN\"\n",
      "                                    },\n",
      "                                    {\n",
      "                                        \"name\": \"p-norm:degree=0\",\n",
      "                                        \"coefficient\": -0.008810962700503988,\n",
      "                                        \"importance\": \"NaN\"\n",
      "                                    },\n",
      "                                    {\n",
      "                                        \"name\": \"p-norm:degree=2\",\n",
      "                                        \"coefficient\": 0.008810962700503988,\n",
      "                                        \"importance\": \"NaN\"\n",
      "                                    },\n",
      "                                    {\n",
      "                                        \"name\": \"p-norm:degree=3\",\n",
      "                                        \"coefficient\": 0.008810962700503988,\n",
      "                                        \"importance\": \"NaN\"\n",
      "                                    },\n",
      "                                    {\n",
      "                                        \"name\": \"p-norm:degree=5\",\n",
      "                                        \"coefficient\": 0.008810962700503988,\n",
      "                                        \"importance\": \"NaN\"\n",
      "                                    },\n",
      "                                    {\n",
      "                                        \"name\": \"p-norm:degree=7\",\n",
      "                                        \"coefficient\": 0.008810962700503988,\n",
      "                                        \"importance\": \"NaN\"\n",
      "                                    },\n",
      "                                    {\n",
      "                                        \"name\": \"p-norm:degree=10\",\n",
      "                                        \"coefficient\": 0.008810962700503988,\n",
      "                                        \"importance\": \"NaN\"\n",
      "                                    },\n",
      "                                    {\n",
      "                                        \"name\": \"atomic_radius:Si\",\n",
      "                                        \"coefficient\": 0,\n",
      "                                        \"importance\": \"NaN\"\n",
      "                                    },\n",
      "                                    {\n",
      "                                        \"name\": \"electronegativity:Si\",\n",
      "                                        \"coefficient\": 0,\n",
      "                                        \"importance\": \"NaN\"\n",
      "                                    },\n",
      "                                    {\n",
      "                                        \"name\": \"ionization_potential:Si\",\n",
      "                                        \"coefficient\": 0,\n",
      "                                        \"importance\": \"NaN\"\n",
      "                                    },\n",
      "                                    {\n",
      "                                        \"name\": \"elemental_ratio:element=Ge\",\n",
      "                                        \"coefficient\": -0.008810962700503988,\n",
      "                                        \"importance\": \"NaN\"\n",
      "                                    },\n",
      "                                    {\n",
      "                                        \"name\": \"atomic_radius:Ge\",\n",
      "                                        \"coefficient\": -0.008810962700503988,\n",
      "                                        \"importance\": \"NaN\"\n",
      "                                    },\n",
      "                                    {\n",
      "                                        \"name\": \"electronegativity:Ge\",\n",
      "                                        \"coefficient\": -0.008810962700503988,\n",
      "                                        \"importance\": \"NaN\"\n",
      "                                    },\n",
      "                                    {\n",
      "                                        \"name\": \"ionization_potential:Ge\",\n",
      "                                        \"coefficient\": -0.008810962700503988,\n",
      "                                        \"importance\": \"NaN\"\n",
      "                                    }\n",
      "                                ],\n",
      "                                \"intercept\": 0.508\n",
      "                            }\n",
      "                        ]\n",
      "                    },\n",
      "                    \"precision\": {\n",
      "                        \"perProperty\": [\n",
      "                            {\n",
      "                                \"name\": \"band_gaps:direct\",\n",
      "                                \"score\": -0.5990544943416674,\n",
      "                                \"trainingError\": 1.8729260368583518\n",
      "                            },\n",
      "                            {\n",
      "                                \"name\": \"band_gaps:indirect\",\n",
      "                                \"score\": 1,\n",
      "                                \"trainingError\": 1.5407439555097887e-33\n",
      "                            }\n",
      "                        ]\n",
      "                    }\n",
      "                }\n",
      "            },\n",
      "            \"_id\": \"LCthJ6E2QabYCZqf4\",\n",
      "            \"properties\": [\n",
      "                \"band_gaps:direct\",\n",
      "                \"band_gaps:indirect\"\n",
      "            ]\n",
      "        }\n",
      "    ],\n",
      "    \"properties\": [\n",
      "        \"band_gaps:direct\",\n",
      "        \"band_gaps:indirect\"\n",
      "    ],\n",
      "    \"repetition\": 0\n",
      "}\n"
     ]
    }
   ],
   "source": [
    "display_JSON(ml_predict_workflow)"
   ]
  },
  {
   "cell_type": "markdown",
   "metadata": {
    "id": "efI91bkq2Qxh"
   },
   "source": [
    "### Predict property using the model\n",
    "\n",
    "Create ML Predict job for the predict materials."
   ]
  },
  {
   "cell_type": "code",
   "execution_count": 18,
   "metadata": {
    "id": "c-LwLBpY2Qxh"
   },
   "outputs": [],
   "source": [
    "name = \"-\".join((JOB_NAME_PREFIX, \"predict\"))\n",
    "material_ids = [m[\"_id\"] for m in target_materials]\n",
    "config = job_endpoints.get_config(material_ids, ml_predict_workflow_id, project_id, owner_id, name, compute, True)\n",
    "job = job_endpoints.create(config)"
   ]
  },
  {
   "cell_type": "markdown",
   "metadata": {
    "id": "UheWoZdU2Qxh"
   },
   "source": [
    "Submit the predict job for execution."
   ]
  },
  {
   "cell_type": "code",
   "execution_count": 19,
   "metadata": {
    "id": "C7esLsJC2Qxh"
   },
   "outputs": [],
   "source": [
    "job_endpoints.submit(job[\"_id\"])"
   ]
  },
  {
   "cell_type": "markdown",
   "metadata": {
    "id": "pwMJ2FXR2Qxi"
   },
   "source": [
    "Monitor the job and print the status until its done."
   ]
  },
  {
   "cell_type": "code",
   "execution_count": 20,
   "metadata": {
    "colab": {
     "base_uri": "https://localhost:8080/"
    },
    "id": "2psMosZs2Qxi",
    "outputId": "3892222c-1f00-4d83-d5b7-83195af3ec5a"
   },
   "outputs": [
    {
     "name": "stdout",
     "output_type": "stream",
     "text": [
      "Wait for jobs to finish, poll interval: 10 sec\n",
      "+---------------------+------------------+---------------+-----------------+----------------+\n",
      "|        TIME         |   SUBMITTED-JOBS |   ACTIVE-JOBS |   FINISHED-JOBS |   ERRORED-JOBS |\n",
      "+=====================+==================+===============+=================+================+\n",
      "| 2021-07-12-13:57:32 |                1 |             0 |               0 |              0 |\n",
      "+---------------------+------------------+---------------+-----------------+----------------+\n",
      "+---------------------+------------------+---------------+-----------------+----------------+\n",
      "|        TIME         |   SUBMITTED-JOBS |   ACTIVE-JOBS |   FINISHED-JOBS |   ERRORED-JOBS |\n",
      "+=====================+==================+===============+=================+================+\n",
      "| 2021-07-12-13:57:43 |                0 |             0 |               1 |              0 |\n",
      "+---------------------+------------------+---------------+-----------------+----------------+\n"
     ]
    }
   ],
   "source": [
    "wait_for_jobs_to_finish(job_endpoints, [job[\"_id\"]])"
   ]
  },
  {
   "cell_type": "markdown",
   "metadata": {
    "id": "eSozkejF2Qxi"
   },
   "source": [
    "### Extract predicted properties\n",
    "\n",
    "Predicted properties are extracted from the last unit (score with index 3) of the first job's subworkflow (ml_predict_subworkflow with index 0)."
   ]
  },
  {
   "cell_type": "code",
   "execution_count": 21,
   "metadata": {
    "id": "oI_xESvQ2Qxi"
   },
   "outputs": [],
   "source": [
    "\n",
    "predicted_properties = get_property_by_subworkow_and_unit_indicies(raw_property_endpoints, \"predicted_properties\", job, 0, 3)[\"data\"][\"values\"]"
   ]
  },
  {
   "cell_type": "markdown",
   "metadata": {
    "id": "xAcQrMz02Qxi"
   },
   "source": [
    "### Flatten results\n",
    "\n",
    "The below for-loop iterates over the results and flatten them to form the final Pandas dataFrame."
   ]
  },
  {
   "cell_type": "code",
   "execution_count": 22,
   "metadata": {
    "id": "8tInR6TY2Qxi"
   },
   "outputs": [],
   "source": [
    "table = []\n",
    "for exabyte_id, properties in predicted_properties.items():\n",
    "    material = next((m for m in target_materials if m[\"exabyteId\"] == exabyte_id))\n",
    "    band_gaps = next((v for v in properties if v[\"name\"] == \"band_gaps\"))\n",
    "    direct_gap = next((v for v in band_gaps[\"values\"] if v[\"type\"] == \"direct\"))[\"value\"]\n",
    "    indirect_gap = next((v for v in band_gaps[\"values\"] if v[\"type\"] == \"indirect\"))[\"value\"]\n",
    "    table.append([material[\"_id\"], material[\"name\"], material[\"formula\"], material[\"exabyteId\"], direct_gap, indirect_gap])"
   ]
  },
  {
   "cell_type": "markdown",
   "metadata": {
    "id": "EiwiUrqZ2Qxi"
   },
   "source": [
    "### Ouput results\n",
    "\n",
    "Create and print the final table as Pandas dataFrame."
   ]
  },
  {
   "cell_type": "code",
   "execution_count": 23,
   "metadata": {
    "colab": {
     "base_uri": "https://localhost:8080/",
     "height": 57
    },
    "id": "aMKkorTl2Qxi",
    "outputId": "e93d96bf-68b6-4e97-baf5-b1fc78a1dacb"
   },
   "outputs": [
    {
     "data": {
      "text/html": [
       "<style  type=\"text/css\" >\n",
       "    #T_21966044_e319_11eb_8755_0242ac1c0002 th {\n",
       "          text-align: center;\n",
       "    }    #T_21966044_e319_11eb_8755_0242ac1c0002 td {\n",
       "          text-align: center;\n",
       "    }</style><table id=\"T_21966044_e319_11eb_8755_0242ac1c0002\" ><thead>    <tr>        <th class=\"blank level0\" ></th>        <th class=\"col_heading level0 col0\" >ID</th>        <th class=\"col_heading level0 col1\" >NAME</th>        <th class=\"col_heading level0 col2\" >FORMULA</th>        <th class=\"col_heading level0 col3\" >EXABYTE-ID</th>        <th class=\"col_heading level0 col4\" >DIRECT-GAP</th>        <th class=\"col_heading level0 col5\" >INDIRECT-GAP</th>    </tr></thead><tbody>\n",
       "                <tr>\n",
       "                        <th id=\"T_21966044_e319_11eb_8755_0242ac1c0002level0_row0\" class=\"row_heading level0 row0\" >0</th>\n",
       "                        <td id=\"T_21966044_e319_11eb_8755_0242ac1c0002row0_col0\" class=\"data row0 col0\" >T3ehZ7QzHoaeNGzSc</td>\n",
       "                        <td id=\"T_21966044_e319_11eb_8755_0242ac1c0002row0_col1\" class=\"data row0 col1\" >mp-32</td>\n",
       "                        <td id=\"T_21966044_e319_11eb_8755_0242ac1c0002row0_col2\" class=\"data row0 col2\" >Ge</td>\n",
       "                        <td id=\"T_21966044_e319_11eb_8755_0242ac1c0002row0_col3\" class=\"data row0 col3\" >ts2ghFDZLBrKPiQaN</td>\n",
       "                        <td id=\"T_21966044_e319_11eb_8755_0242ac1c0002row0_col4\" class=\"data row0 col4\" >1.070000</td>\n",
       "                        <td id=\"T_21966044_e319_11eb_8755_0242ac1c0002row0_col5\" class=\"data row0 col5\" >0.465000</td>\n",
       "            </tr>\n",
       "    </tbody></table>"
      ],
      "text/plain": [
       "<pandas.io.formats.style.Styler at 0x7fda94584e50>"
      ]
     },
     "execution_count": 23,
     "metadata": {
      "tags": []
     },
     "output_type": "execute_result"
    }
   ],
   "source": [
    "headers = [\"ID\", \"NAME\", \"FORMULA\", \"EXABYTE-ID\", \"DIRECT-GAP\", \"INDIRECT-GAP\"]\n",
    "df = pd.DataFrame(data=table, columns=headers)\n",
    "html = dataframe_to_html(df)\n",
    "html"
   ]
  }
 ],
 "metadata": {
  "colab": {
   "name": "ml-train-model-predict-properties.ipynb",
   "provenance": []
  },
  "kernelspec": {
   "display_name": "Python 3",
   "language": "python",
   "name": "python3"
  },
  "language_info": {
   "codemirror_mode": {
    "name": "ipython",
    "version": 3
   },
   "file_extension": ".py",
   "mimetype": "text/x-python",
   "name": "python",
   "nbconvert_exporter": "python",
   "pygments_lexer": "ipython3",
   "version": "3.8.6"
  }
 },
 "nbformat": 4,
 "nbformat_minor": 1
}
