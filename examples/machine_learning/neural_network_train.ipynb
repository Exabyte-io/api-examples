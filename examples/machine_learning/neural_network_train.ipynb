version https://git-lfs.github.com/spec/v1
oid sha256:a614ba7010e1b2df57e5c4c1a9705323b8f2e6d6db53c99759524ffdc039f30d
size 246676
