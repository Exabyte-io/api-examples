{
 "cells": [
  {
   "cell_type": "markdown",
   "id": "f2e1e795020d7b3f",
   "metadata": {
    "collapsed": false
   },
   "source": [
    "# Nanoclusters of Gold\n",
    "\n",
    "## 0. Introduction\n",
    "\n",
    "This notebook demonstrates creation of Gold nanoclusters with cuboctahedral and icosahedral shapes. The notebook is based on the following publication:\n",
    "\n",
    "\n",
    "> **A. H. Larsen, J. Kleis, K. S. Thygesen, J. K. Nørskov, and K. W. Jacobsen**,\n",
    "> \"Electronic shell structure and chemisorption on gold nanoparticles\",\n",
    "> *Phys. Rev. B 84, 245429 (2011)*,\n",
    "> [DOI: 10.1103/PhysRevB.84.245429](https://doi.org/10.1103/PhysRevB.84.245429)\n",
    "> \n",
    "\n",
    "In this notebook we will reproduce materials from FIG. 2:\n",
    "\n",
    "![Fig 2.](https://github.com/Exabyte-io/documentation/raw/12617167278ae3523adc028583b21ea4e8ebd197/images/tutorials/materials/0d_materials/nanocluster_gold/0-manuscript-image.webp\n",
    ")\n"
   ]
  },
  {
   "cell_type": "markdown",
   "id": "5e43ff288847b784",
   "metadata": {
    "collapsed": false
   },
   "source": [
    "## 1. Prepare the Environment\n"
   ]
  },
  {
   "cell_type": "markdown",
   "id": "9adf37a8d2620dc4",
   "metadata": {
    "collapsed": false
   },
   "source": [
    "### 1.1. Install Packages\n",
    "The step executes only in Pyodide environment. For other environments, the packages should be installed via `pip install` (see [README](../../README.ipynb))."
   ]
  },
  {
   "cell_type": "code",
   "id": "d9e6be14343d00a1",
   "metadata": {
    "collapsed": false
   },
   "source": [
    "import sys\n",
    "\n",
    "if sys.platform == \"emscripten\":\n",
    "    import micropip\n",
    "\n",
    "    await micropip.install(\"mat3ra-api-examples\", deps=False)\n",
    "    await micropip.install('mat3ra-utils')\n",
    "    from mat3ra.utils.jupyterlite.packages import install_packages\n",
    "\n",
    "    await install_packages(\"specific_examples\")"
   ],
   "outputs": [],
   "execution_count": null
  },
  {
   "cell_type": "markdown",
   "id": "26066db067a41c93",
   "metadata": {
    "collapsed": false
   },
   "source": [
    "### 1.2. Set up cluster parameters\n",
    "Parameters for the cuboctahedron and icosahedron shapes can be found at [ASE Clusters](https://wiki.fysik.dtu.dk/ase/ase/cluster/cluster.html#ase.cluster.Cluster)."
   ]
  },
  {
   "metadata": {},
   "cell_type": "code",
   "source": [
    "from types import SimpleNamespace\n",
    "from mat3ra.made.tools.build.nanoparticle.enums import NanoparticleShapesEnum as Shapes\n",
    "\n",
    "ELEMENT = \"Au\"  # Chemical symbol of the element to create nanoparticles from\n",
    "\n",
    "\n",
    "def length(cutoff):\n",
    "    # The parameters of to achieve cuboctahedron shape from the octahedron\n",
    "    return 2 * cutoff + 1\n",
    "\n",
    "\n",
    "NANOPARTICLE_CONFIGS = [\n",
    "    SimpleNamespace(\n",
    "        shape=Shapes.OCTAHEDRON,\n",
    "        parameters=SimpleNamespace(\n",
    "            length=length(2),\n",
    "            cutoff=2,\n",
    "        )\n",
    "    ),\n",
    "    SimpleNamespace(\n",
    "        shape=Shapes.OCTAHEDRON,\n",
    "        parameters=SimpleNamespace(\n",
    "            length=length(3),\n",
    "            cutoff=3,\n",
    "        )\n",
    "    ),\n",
    "    SimpleNamespace(\n",
    "        shape=Shapes.OCTAHEDRON,\n",
    "        parameters=SimpleNamespace(\n",
    "            length=length(4),\n",
    "            cutoff=4,\n",
    "        )\n",
    "    ),\n",
    "    SimpleNamespace(\n",
    "        shape=Shapes.ICOSAHEDRON,\n",
    "        parameters=SimpleNamespace(\n",
    "            noshells=3,\n",
    "        )\n",
    "    ),\n",
    "    SimpleNamespace(\n",
    "        shape=Shapes.ICOSAHEDRON,\n",
    "        parameters=SimpleNamespace(\n",
    "            noshells=4,\n",
    "        )\n",
    "    ),\n",
    "    SimpleNamespace(\n",
    "        shape=Shapes.ICOSAHEDRON,\n",
    "        parameters=SimpleNamespace(\n",
    "            noshells=5,\n",
    "        )\n",
    "    )\n",
    "]\n"
   ],
   "id": "56b9bd10",
   "outputs": [],
   "execution_count": null
  },
  {
   "cell_type": "markdown",
   "id": "919ad7af8dceeedd",
   "metadata": {
    "collapsed": false
   },
   "source": [
    "### 1.3. Get input material"
   ]
  },
  {
   "cell_type": "code",
   "id": "be38fdda1984c654",
   "metadata": {
    "collapsed": false
   },
   "source": [
    "from mat3ra.standata.materials import Materials\n",
    "from mat3ra.made.material import Material\n",
    "\n",
    "material = Material.create(Materials.get_by_name_first_match(\"Gold\"))"
   ],
   "outputs": [],
   "execution_count": null
  },
  {
   "cell_type": "markdown",
   "id": "690241d87e7bbbe0",
   "metadata": {
    "collapsed": false
   },
   "source": [
    "## 2. Create the Target Material(s)"
   ]
  },
  {
   "cell_type": "code",
   "id": "a990fa35742d7269",
   "metadata": {
    "collapsed": false
   },
   "source": [
    "from mat3ra.made.tools.build.nanoparticle.helpers import create_nanoparticle_by_shape\n",
    "\n",
    "nanoparticles = [create_nanoparticle_by_shape(\n",
    "    crystal=material,\n",
    "    shape=config.shape,\n",
    "    parameters=config.parameters\n",
    ") for config in NANOPARTICLE_CONFIGS]"
   ],
   "outputs": [],
   "execution_count": null
  },
  {
   "cell_type": "markdown",
   "id": "462549d016073446",
   "metadata": {
    "collapsed": false
   },
   "source": [
    "## 3. Visualize the Result(s)"
   ]
  },
  {
   "cell_type": "code",
   "id": "509b18661a069e42",
   "metadata": {
    "collapsed": false
   },
   "source": [
    "from utils.visualize import visualize_materials as visualize\n",
    "\n",
    "cuboctahedra_particles = nanoparticles[0:3]\n",
    "icosahedra_particles = nanoparticles[3:6]\n",
    "visualize(cuboctahedra_particles, rotation=\"45y,45x\")\n",
    "visualize(icosahedra_particles, rotation=\"60x\")"
   ],
   "outputs": [],
   "execution_count": null
  },
  {
   "cell_type": "markdown",
   "id": "d381df29a6bbdd82",
   "metadata": {
    "collapsed": false
   },
   "source": [
    "## 4. Pass data to the outside runtime"
   ]
  },
  {
   "cell_type": "code",
   "id": "61daa5afcbc078a9",
   "metadata": {
    "collapsed": false
   },
   "source": [
    "from utils.jupyterlite import set_materials, download_content_to_file\n",
    "\n",
    "set_materials(nanoparticles)\n",
    "for idx, nanoparticle in enumerate(nanoparticles):\n",
    "    download_content_to_file(nanoparticle.to_json(), f\"gold_nanocluster_{idx}.json\")"
   ],
   "outputs": [],
   "execution_count": null
  }
 ],
 "metadata": {
  "kernelspec": {
   "display_name": "Python 3",
   "language": "python",
   "name": "python3"
  },
  "language_info": {
   "codemirror_mode": {
    "name": "ipython",
    "version": 2
   },
   "file_extension": ".py",
   "mimetype": "text/x-python",
   "name": "python",
   "nbconvert_exporter": "python",
   "pygments_lexer": "ipython2",
   "version": "2.7.6"
  }
 },
 "nbformat": 4,
 "nbformat_minor": 5
}
