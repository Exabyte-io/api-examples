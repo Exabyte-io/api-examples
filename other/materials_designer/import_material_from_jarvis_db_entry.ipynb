{
 "cells": [
  {
   "cell_type": "markdown",
   "id": "826fcc4c",
   "metadata": {},
   "source": [
    "# Import 2D material from JARVIS database\n",
    "\n",
    "Import a structure from the NIST JARVIS database by its ID. Use data at <a href=\"https://figshare.com/articles/dataset/Monolayer_data_for_heterostructure/22344571\" target=\"_blank\">JARVIS-DFT</a> to find the ID of the structure you are interested in.\n",
    "\n",
    "<h2 style=\"color:green\">Usage</h2>\n",
    "\n",
    "1. Set Input Parameters (e.g. `JARVIS_ID`) below or use the default value\n",
    "1. Click \"Run\" > \"Run All Cells\" to run all cells\n",
    "1. Wait for the run to complete (it should take ~30 sec first time to install packages). Scroll down to view cell results.\n",
    "\n",
    "## Methodology\n",
    "\n",
    "The following happens in the script below:\n",
    "\n",
    "1. Install `express-py` alongside the necessary packages\n",
    "2. Import the material from JARVIS database\n",
    "3. Convert the material to ESSE format\n",
    "4. Pass the material to the outside runtime"
   ]
  },
  {
   "cell_type": "markdown",
   "id": "4299768d",
   "metadata": {},
   "source": [
    "## 1. Set Parameters"
   ]
  },
  {
   "cell_type": "code",
   "execution_count": 2,
   "id": "9c1f4e9e",
   "metadata": {},
   "outputs": [],
   "source": [
    "# Note: JVASP-670 is an entry for MoTe2 and JVASP-6838 is an entry for GaTe\n",
    "JARVIS_IDS = [\n",
    "    \"JVASP-670\",\n",
    "    \"JVASP-6838\",\n",
    "]"
   ]
  },
  {
   "cell_type": "markdown",
   "id": "8b00ab6854f2263b",
   "metadata": {},
   "source": [
    "## 2. Install Packages"
   ]
  },
  {
   "cell_type": "code",
   "execution_count": null,
   "id": "ef2b38a5-de7e-419e-b605-110e9e0095f5",
   "metadata": {
    "trusted": true
   },
   "outputs": [],
   "source": [
    "import sys\n",
    "if sys.platform == \"emscripten\":\n",
    "    import micropip\n",
    "    await micropip.install('mat3ra-api-examples', deps=False)\n",
    "from utils.jupyterlite import install_packages\n",
    "await install_packages(\"import_material_from_jarvis_db_entry.ipynb\",\"../../config.yml\")"
   ]
  },
  {
   "cell_type": "markdown",
   "id": "f418c51a7f794f9f",
   "metadata": {},
   "source": [
    "## 3. Data Processing\n",
    "\n",
    "### 3.1. Get data and wrap it in dataframe"
   ]
  },
  {
   "cell_type": "code",
   "execution_count": null,
   "id": "b1ee775d1476f884",
   "metadata": {
    "collapsed": false,
    "trusted": true
   },
   "outputs": [],
   "source": [
    "import pandas as pd\n",
    "from jarvis.db.figshare import data\n",
    "\n",
    "dft_2d = data(\"dft_2d\")\n",
    "dft_3d = data(\"dft_3d\")\n",
    "dataframe_2d = pd.DataFrame(dft_2d)\n",
    "dataframe_3d = pd.DataFrame(dft_3d)\n",
    "dataframe= pd.concat([dataframe_2d, dataframe_3d])"
   ]
  },
  {
   "cell_type": "markdown",
   "id": "57b0d358",
   "metadata": {},
   "source": [
    "### 3.2. Preview the dataframe"
   ]
  },
  {
   "cell_type": "code",
   "execution_count": null,
   "id": "0e34472a",
   "metadata": {},
   "outputs": [],
   "source": [
    "dataframe"
   ]
  },
  {
   "cell_type": "markdown",
   "id": "15fe5f9de299c935",
   "metadata": {},
   "source": [
    "### 3.3. Filter data"
   ]
  },
  {
   "cell_type": "code",
   "execution_count": null,
   "id": "a771a36a",
   "metadata": {},
   "outputs": [],
   "source": [
    "import json\n",
    "from express import ExPrESS\n",
    "\n",
    "dataframe_entries_for_jarvis_ids = dataframe[(dataframe[\"jid\"].isin(JARVIS_IDS))]\n",
    "dataframe_entries_as_json = dataframe_entries_for_jarvis_ids.to_json(orient=\"records\")\n",
    "jarvis_db_entries = json.loads(dataframe_entries_as_json)"
   ]
  },
  {
   "cell_type": "markdown",
   "id": "ef5f9e9d",
   "metadata": {},
   "source": [
    "### 3.4. Convert to ESSE format"
   ]
  },
  {
   "cell_type": "code",
   "execution_count": null,
   "id": "c41fb68c6d25fe48",
   "metadata": {
    "collapsed": false,
    "trusted": true
   },
   "outputs": [],
   "source": [
    "def convert_jarvis_entry_to_esse(jarvis_db_entry):\n",
    "    jarvis_db_entry_json = json.dumps(jarvis_db_entry)\n",
    "    kwargs = {\n",
    "        \"structure_string\": jarvis_db_entry_json,\n",
    "        \"cell_type\": \"original\",\n",
    "        \"structure_format\": \"jarvis-db-entry\",\n",
    "    }\n",
    "    handler = ExPrESS(\"structure\", **kwargs)\n",
    "    esse = handler.property(\"material\", **kwargs)\n",
    "    poscar = handler.parser.jarvis_db_entry_json_to_poscar(jarvis_db_entry_json)\n",
    "    return (esse, poscar)\n",
    "\n",
    "esse_entries = list(map(lambda e: convert_jarvis_entry_to_esse(e)[0], jarvis_db_entries))\n",
    "poscars = list(map(lambda e: convert_jarvis_entry_to_esse(e)[1], jarvis_db_entries))"
   ]
  },
  {
   "cell_type": "markdown",
   "id": "8770ec48",
   "metadata": {},
   "source": [
    "### 3.5. Preview the data"
   ]
  },
  {
   "cell_type": "code",
   "execution_count": null,
   "id": "860b5c1b",
   "metadata": {},
   "outputs": [],
   "source": [
    "from src.utils import poscar_to_ase\n",
    "from ase.visualize import view\n",
    "from ase.io import write\n",
    "from ase.build import make_supercell\n",
    "from IPython.display import Image\n",
    "\n",
    "# Uncomment to see the JSON\n",
    "# print(json.dumps(data, indent=4))\n",
    "\n",
    "\n",
    "materials = list(map(lambda p: poscar_to_ase(p), poscars))\n",
    "\n",
    "def visualize_material(material, index: int, number_of_repetitions: int = 3):\n",
    "    \"\"\"\n",
    "    Visualize the material using ASE's visualization tool\n",
    "    Repeat the unit cell to make it easier to see.\n",
    "\n",
    "    Args:\n",
    "        material: The material to visualize (Ase.Atoms object)\n",
    "        index: The index of the material\n",
    "        number_of_repetitions: The number of unit cell repetitions to visualize\n",
    "    \"\"\"\n",
    "    # Set the number of unit cell repetition for the structure to make it easier to see\n",
    "    n = number_of_repetitions\n",
    "    material_repeat = make_supercell(material, [[n,0,0],[0,n,0],[0,0,n]])\n",
    "    filename = f\"material-{index}.png\"\n",
    "    write(filename, material_repeat)\n",
    "    img = Image(filename=filename)\n",
    "    print(filename, \"-\", material.symbols)\n",
    "    display(img)\n",
    "\n",
    "for idx, material in enumerate(materials):\n",
    "    visualize_material(material, idx)"
   ]
  },
  {
   "cell_type": "markdown",
   "id": "a4a48479c7ea090f",
   "metadata": {},
   "source": [
    "## 4. Pass data to the outside runtime"
   ]
  },
  {
   "cell_type": "code",
   "execution_count": null,
   "id": "00b187ab",
   "metadata": {},
   "outputs": [],
   "source": [
    "from utils.jupyterlite import set_data\n",
    "\n",
    "output_materials = esse_entries\n",
    "set_data(\"materials\", output_materials)"
   ]
  }
 ],
 "metadata": {
  "kernelspec": {
   "display_name": ".venv",
   "language": "python",
   "name": "python3"
  },
  "language_info": {
   "codemirror_mode": {
    "name": "ipython",
    "version": 3
   },
   "file_extension": ".py",
   "mimetype": "text/x-python",
   "name": "python",
   "nbconvert_exporter": "python",
   "pygments_lexer": "ipython3",
   "version": "3.11.4"
  },
  "widgets": {
   "application/vnd.jupyter.widget-state+json": {
    "state": {},
    "version_major": 2,
    "version_minor": 0
   }
  }
 },
 "nbformat": 4,
 "nbformat_minor": 5
}
