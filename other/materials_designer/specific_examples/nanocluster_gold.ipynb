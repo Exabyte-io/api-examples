{
 "cells": [
  {
   "cell_type": "markdown",
   "source": [
    "# Nanoclusters of Gold\n",
    "\n",
    "## 0. Introduction\n",
    "\n",
    "This notebook demonstrates creation of Gold nanoclusters with cuboctahedral and icosahedral shapes. The notebook is based on the following publication:\n",
    "\n",
    "\n",
    "> **A. H. Larsen, J. Kleis, K. S. Thygesen, J. K. Nørskov, and K. W. Jacobsen**,\n",
    "> \"Electronic shell structure and chemisorption on gold nanoparticles\",\n",
    "> *Phys. Rev. B 84, 245429 (2011)*,\n",
    "> [DOI: 10.1103/PhysRevB.84.245429](https://doi.org/10.1103/PhysRevB.84.245429)\n",
    "> \n",
    "\n",
    "In this notebook we will reproduce materials from FIG. 2:\n",
    "![Fig 2.](https://i.imgur.com/ttWiQpk.png)\n"
   ],
   "metadata": {
    "collapsed": false
   },
   "id": "f2e1e795020d7b3f"
  },
  {
   "cell_type": "markdown",
   "source": [
    "## 1. Prepare the Environment\n"
   ],
   "metadata": {
    "collapsed": false
   },
   "id": "5e43ff288847b784"
  },
  {
   "cell_type": "markdown",
   "source": [
    "### 1.1. Install Packages\n",
    "The step executes only in Pyodide environment. For other environments, the packages should be installed via `pip install` (see [README](../../README.ipynb))."
   ],
   "metadata": {
    "collapsed": false
   },
   "id": "9adf37a8d2620dc4"
  },
  {
   "cell_type": "code",
   "outputs": [],
   "source": [
    "import sys\n",
    "\n",
    "if sys.platform == \"emscripten\":\n",
    "    import micropip\n",
    "\n",
    "    await micropip.install('mat3ra-api-examples', deps=False)\n",
    "    from utils.jupyterlite import install_packages\n",
    "\n",
    "    await install_packages(\"specific_examples\")"
   ],
   "metadata": {
    "collapsed": false
   },
   "id": "d9e6be14343d00a1",
   "execution_count": null
  },
  {
   "cell_type": "markdown",
   "source": [
    "### 1.2. Set up cluster parameters\n",
    "Parameters for the cuboctahedron and icosahedron shapes can be found at [ASE Clusters](https://wiki.fysik.dtu.dk/ase/ase/cluster/cluster.html#ase.cluster.Cluster)."
   ],
   "metadata": {
    "collapsed": false
   },
   "id": "26066db067a41c93"
  },
  {
   "cell_type": "code",
   "outputs": [],
   "source": [
    "from mat3ra.made.tools.build.nanoparticle.enums import ASENanoparticleShapesEnum as Shapes\n",
    "def length(cutoff):\n",
    "    # The parameters of to achieve cuboctahedron shape from the octahedron\n",
    "    return 2 * cutoff + 1\n",
    "\n",
    "NANOPARTICLE_CONFIGS = [\n",
    "    {\n",
    "        \"shape\": Shapes.OCTAHEDRON,\n",
    "        \"parameters\": {\n",
    "            \"length\": length(2),\n",
    "            \"cutoff\": 2,\n",
    "        }\n",
    "    },\n",
    "    {\n",
    "        \"shape\": Shapes.OCTAHEDRON,\n",
    "        \"parameters\": {\n",
    "            \"length\": length(3),\n",
    "            \"cutoff\": 3,\n",
    "        }\n",
    "    },\n",
    "    {\n",
    "        \"shape\": Shapes.OCTAHEDRON,\n",
    "        \"parameters\": {\n",
    "            \"length\": length(4),\n",
    "            \"cutoff\": 4,\n",
    "        }\n",
    "    },\n",
    "    \n",
    "    {\n",
    "        \"shape\": Shapes.ICOSAHEDRON,\n",
    "        \"parameters\": {\n",
    "            \"noshells\": 3,\n",
    "        }\n",
    "    },\n",
    "    {\n",
    "        \"shape\": Shapes.ICOSAHEDRON,\n",
    "        \"parameters\": {\n",
    "            \"noshells\": 4,\n",
    "        }\n",
    "    },\n",
    "        {\n",
    "        \"shape\": Shapes.ICOSAHEDRON,\n",
    "        \"parameters\": {\n",
    "            \"noshells\": 5,\n",
    "        }\n",
    "    }\n",
    "]"
   ],
   "metadata": {
    "collapsed": false
   },
   "id": "9d8b1890b34d850a",
   "execution_count": null
  },
  {
   "cell_type": "markdown",
   "source": [
    "### 1.3. Get input material"
   ],
   "metadata": {
    "collapsed": false
   },
   "id": "919ad7af8dceeedd"
  },
  {
   "cell_type": "code",
   "outputs": [],
   "source": [
    "from mat3ra.standata.materials import Materials\n",
    "from mat3ra.made.material import Material\n",
    "\n",
    "material = Material(Materials.get_by_name_first_match(\"Gold\"))"
   ],
   "metadata": {
    "collapsed": false
   },
   "id": "be38fdda1984c654",
   "execution_count": null
  },
  {
   "cell_type": "markdown",
   "source": [
    "## 2. Create the Target Material(s)"
   ],
   "metadata": {
    "collapsed": false
   },
   "id": "690241d87e7bbbe0"
  },
  {
   "cell_type": "code",
   "outputs": [],
   "source": [
    "from mat3ra.made.tools.build.nanoparticle import ASEBasedNanoparticleConfiguration, create_nanoparticle, ASEBasedNanoparticleBuilder\n",
    "\n",
    "configs = [ASEBasedNanoparticleConfiguration(material=material, **config) for config in NANOPARTICLE_CONFIGS]\n",
    "builder = ASEBasedNanoparticleBuilder()\n",
    "nanoparticles = list(map(lambda config: create_nanoparticle(config, builder), configs))"
   ],
   "metadata": {
    "collapsed": false
   },
   "id": "a990fa35742d7269",
   "execution_count": null
  },
  {
   "cell_type": "markdown",
   "source": [
    "## 3. Visualize the Result(s)"
   ],
   "metadata": {
    "collapsed": false
   },
   "id": "462549d016073446"
  },
  {
   "cell_type": "code",
   "outputs": [],
   "source": [
    "from utils.visualize import visualize_materials as visualize\n",
    "\n",
    "cuboctahedra_particles = nanoparticles[0:3]\n",
    "icosahedra_particles = nanoparticles[3:6]\n",
    "visualize(cuboctahedra_particles, rotation=\"45y,45x\")\n",
    "visualize(icosahedra_particles, rotation=\"60x\")"
   ],
   "metadata": {
    "collapsed": false
   },
   "id": "509b18661a069e42",
   "execution_count": null
  },
  {
   "cell_type": "markdown",
   "source": [
    "## 4. Pass data to the outside runtime"
   ],
   "metadata": {
    "collapsed": false
   },
   "id": "d381df29a6bbdd82"
  },
  {
   "cell_type": "code",
   "outputs": [],
   "source": [
    "from utils.jupyterlite import set_materials\n",
    "\n",
    "set_materials(nanoparticles)"
   ],
   "metadata": {
    "collapsed": false
   },
   "id": "61daa5afcbc078a9",
   "execution_count": null
  }
 ],
 "metadata": {
  "kernelspec": {
   "display_name": "Python 3",
   "language": "python",
   "name": "python3"
  },
  "language_info": {
   "codemirror_mode": {
    "name": "ipython",
    "version": 2
   },
   "file_extension": ".py",
   "mimetype": "text/x-python",
   "name": "python",
   "nbconvert_exporter": "python",
   "pygments_lexer": "ipython2",
   "version": "2.7.6"
  }
 },
 "nbformat": 4,
 "nbformat_minor": 5
}
