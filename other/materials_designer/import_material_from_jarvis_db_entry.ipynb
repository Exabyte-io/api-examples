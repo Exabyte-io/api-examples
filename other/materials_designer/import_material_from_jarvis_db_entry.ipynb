{
  "cells": [
    {
      "cell_type": "markdown",
      "id": "8b00ab6854f2263b",
      "metadata": {},
      "source": [
        "## Install Packages\n",
        "\n",
        "First, install `express-py` which includes `jarvis-tools` as dependency.\n"
      ]
    },
    {
      "cell_type": "code",
      "execution_count": 1,
      "id": "ef2b38a5-de7e-419e-b605-110e9e0095f5",
      "metadata": {
        "trusted": true
      },
      "outputs": [
        {
          "name": "stdout",
          "output_type": "stream",
          "text": [
            "Installed pymatgen\n",
            "Installed spglib\n",
            "Installed ruamel.yaml\n",
            "Installed ase\n",
            "Installed networkx\n",
            "Installed monty\n",
            "Installed scipy\n",
            "Installed lzma\n",
            "Installed tabulate\n",
            "Installed sqlite3\n",
            "Installed sympy\n",
            "Installed uncertainties\n",
            "Installed ipywidgets\n",
            "Done!\n"
          ]
        }
      ],
      "source": [
        "from jupyterlite.utils import install_packages\n",
        "\n",
        "install_packages(\"import_material_from_jarvis_db_entry.ipynb\")"
      ]
    },
    {
      "cell_type": "markdown",
      "id": "f418c51a7f794f9f",
      "metadata": {},
      "source": [
        "## Get Materials Data From JARVIS\n",
        "\n",
        "Then, let's get the dataset containing 2D materials from JARVIS and wrap it into a pandas dataframe.\n"
      ]
    },
    {
      "cell_type": "code",
      "execution_count": 4,
      "id": "b1ee775d1476f884",
      "metadata": {
        "collapsed": false,
        "jupyter": {
          "outputs_hidden": false
        },
        "trusted": true
      },
      "outputs": [
        {
          "name": "stdout",
          "output_type": "stream",
          "text": [
            "Obtaining 2D dataset 1.1k ...\n",
            "Reference:https://www.nature.com/articles/s41524-020-00440-1\n",
            "Other versions:https://doi.org/10.6084/m9.figshare.6815705\n"
          ]
        },
        {
          "name": "stderr",
          "output_type": "stream",
          "text": [
            "/lib/python3.11/site-packages/urllib3/connectionpool.py:1103: InsecureRequestWarning: Unverified HTTPS request is being made to host 'ndownloader.figshare.com'. Adding certificate verification is strongly advised. See: https://urllib3.readthedocs.io/en/latest/advanced-usage.html#tls-warnings\n",
            "  warnings.warn(\n",
            "/lib/python3.11/site-packages/jarvis/db/figshare.py:478: TqdmMonitorWarning: tqdm:disabling monitor support (monitor_interval = 0) due to:\n",
            "can't start new thread\n",
            "  progress_bar = tqdm(\n",
            "100%|██████████| 8.39M/8.39M [00:00<00:00, 38.2MiB/s]\n"
          ]
        },
        {
          "name": "stdout",
          "output_type": "stream",
          "text": [
            "Loading the zipfile...\n",
            "Loading completed.\n"
          ]
        }
      ],
      "source": [
        "import pandas as pd\n",
        "from jarvis.db.figshare import data, get_jid_data\n",
        "\n",
        "dft_2d = data(\"dft_2d\")\n",
        "df = pd.DataFrame(dft_2d)"
      ]
    },
    {
      "cell_type": "markdown",
      "id": "15fe5f9de299c935",
      "metadata": {},
      "source": [
        "## Extract Structure and Convert to ESSE\n",
        "\n",
        "Next, we extract an entry from the JARVIS dataset and convert it into ESSE format ready to be uploaded to Mat3ra.com.\n"
      ]
    },
    {
      "cell_type": "code",
      "execution_count": 5,
      "id": "c41fb68c6d25fe48",
      "metadata": {
        "collapsed": false,
        "jupyter": {
          "outputs_hidden": false
        },
        "trusted": true
      },
      "outputs": [
        {
          "name": "stdout",
          "output_type": "stream",
          "text": [
            "{\n",
            "    \"_id\": \"\",\n",
            "    \"name\": \"material\",\n",
            "    \"exabyteId\": \"\",\n",
            "    \"hash\": \"\",\n",
            "    \"formula\": \"Te2Mo\",\n",
            "    \"unitCellFormula\": \"Te2 Mo1\",\n",
            "    \"lattice\": {\n",
            "        \"type\": \"HEX\",\n",
            "        \"a\": 3.562364004499092,\n",
            "        \"b\": 3.562364004499092,\n",
            "        \"c\": 35.346645,\n",
            "        \"alpha\": 90.0,\n",
            "        \"beta\": 90.0,\n",
            "        \"gamma\": 120.00001186178349,\n",
            "        \"units\": {\n",
            "            \"length\": \"angstrom\",\n",
            "            \"angle\": \"degree\"\n",
            "        }\n",
            "    },\n",
            "    \"basis\": {\n",
            "        \"units\": \"crystal\",\n",
            "        \"elements\": [\n",
            "            {\n",
            "                \"id\": 1,\n",
            "                \"value\": \"Te\"\n",
            "            },\n",
            "            {\n",
            "                \"id\": 2,\n",
            "                \"value\": \"Te\"\n",
            "            },\n",
            "            {\n",
            "                \"id\": 3,\n",
            "                \"value\": \"Mo\"\n",
            "            }\n",
            "        ],\n",
            "        \"coordinates\": [\n",
            "            {\n",
            "                \"id\": 1,\n",
            "                \"value\": [\n",
            "                    0.6666669999999999,\n",
            "                    0.3333330000000001,\n",
            "                    0.05727934272677686\n",
            "                ]\n",
            "            },\n",
            "            {\n",
            "                \"id\": 2,\n",
            "                \"value\": [\n",
            "                    0.6666669999999999,\n",
            "                    0.3333330000000001,\n",
            "                    0.15980865727548643\n",
            "                ]\n",
            "            },\n",
            "            {\n",
            "                \"id\": 3,\n",
            "                \"value\": [\n",
            "                    0.33333299999999993,\n",
            "                    0.6666670000000001,\n",
            "                    0.10854400000113165\n",
            "                ]\n",
            "            }\n",
            "        ]\n",
            "    },\n",
            "    \"derivedProperties\": [\n",
            "        {\n",
            "            \"name\": \"density\",\n",
            "            \"units\": \"g/cm^3\",\n",
            "            \"value\": 1.5009769971314555\n",
            "        },\n",
            "        {\n",
            "            \"name\": \"elemental_ratio\",\n",
            "            \"value\": 0.6666666666666666,\n",
            "            \"element\": \"Te\"\n",
            "        },\n",
            "        {\n",
            "            \"name\": \"elemental_ratio\",\n",
            "            \"value\": 0.3333333333333333,\n",
            "            \"element\": \"Mo\"\n",
            "        },\n",
            "        {\n",
            "            \"name\": \"p-norm\",\n",
            "            \"value\": 2,\n",
            "            \"degree\": 0\n",
            "        },\n",
            "        {\n",
            "            \"name\": \"p-norm\",\n",
            "            \"value\": 0.7453559924999299,\n",
            "            \"degree\": 2\n",
            "        },\n",
            "        {\n",
            "            \"name\": \"p-norm\",\n",
            "            \"value\": 0.6933612743506347,\n",
            "            \"degree\": 3\n",
            "        },\n",
            "        {\n",
            "            \"name\": \"p-norm\",\n",
            "            \"value\": 0.6707822056951861,\n",
            "            \"degree\": 5\n",
            "        },\n",
            "        {\n",
            "            \"name\": \"p-norm\",\n",
            "            \"value\": 0.667408235036379,\n",
            "            \"degree\": 7\n",
            "        },\n",
            "        {\n",
            "            \"name\": \"p-norm\",\n",
            "            \"value\": 0.6667317422407864,\n",
            "            \"degree\": 10\n",
            "        },\n",
            "        {\n",
            "            \"spaceGroupSymbol\": \"P-6m2\",\n",
            "            \"tolerance\": {\n",
            "                \"value\": 0.3,\n",
            "                \"units\": \"angstrom\"\n",
            "            },\n",
            "            \"name\": \"symmetry\"\n",
            "        },\n",
            "        {\n",
            "            \"name\": \"volume\",\n",
            "            \"units\": \"angstrom^3\",\n",
            "            \"value\": 388.46810374859973\n",
            "        }\n",
            "    ],\n",
            "    \"creator\": {\n",
            "        \"_id\": \"\",\n",
            "        \"cls\": \"User\",\n",
            "        \"slug\": \"\"\n",
            "    },\n",
            "    \"owner\": {\n",
            "        \"_id\": \"\",\n",
            "        \"cls\": \"Account\",\n",
            "        \"slug\": \"\"\n",
            "    },\n",
            "    \"schemaVersion\": \"0.2.0\"\n",
            "}\n"
          ]
        }
      ],
      "source": [
        "import json\n",
        "from express import ExPrESS\n",
        "\n",
        "## Note: JVASP-670 is an entry for MoTe2\n",
        "jarvis_db_entry = json.dumps(json.loads(df[(df[\"jid\"] == \"JVASP-670\")].to_json(orient=\"records\"))[0])\n",
        "\n",
        "kwargs = {\n",
        "    \"structure_string\": jarvis_db_entry,\n",
        "    \"cell_type\": \"original\",\n",
        "    \"structure_format\": \"jarvis-db-entry\",\n",
        "}\n",
        "\n",
        "handler = ExPrESS(\"structure\", **kwargs)\n",
        "data = handler.property(\"material\", **kwargs)\n",
        "\n",
        "# To preview resulting JSON data\n",
        "print(json.dumps(data, indent=4))"
      ]
    },
    {
      "cell_type": "markdown",
      "id": "a4a48479c7ea090f",
      "metadata": {},
      "source": [
        "## Upload to Mat3ra.com\n",
        "\n",
        "Finally, we can upload the material to Mat3ra.com using the REST API: follow the explanation in another example notebook [here](../../examples/material/create_material.ipynb). One can replace the content of the `CONFIG` variable with the JSON data above.\n"
      ]
    }
  ],
  "metadata": {
    "kernelspec": {
      "display_name": "Python (Pyodide)",
      "language": "python",
      "name": "python"
    },
    "language_info": {
      "codemirror_mode": {
        "name": "python",
        "version": 3
      },
      "file_extension": ".py",
      "mimetype": "text/x-python",
      "name": "python",
      "nbconvert_exporter": "python",
      "pygments_lexer": "ipython3",
      "version": "3.8"
    },
    "widgets": {
      "application/vnd.jupyter.widget-state+json": {
        "state": {},
        "version_major": 2,
        "version_minor": 0
      }
    }
  },
  "nbformat": 4,
  "nbformat_minor": 5
}
