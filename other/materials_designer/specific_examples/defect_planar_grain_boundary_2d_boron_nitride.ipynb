{
 "cells": [
  {
   "cell_type": "markdown",
   "id": "415ed707e27a6c8e",
   "metadata": {
    "collapsed": false
   },
   "source": [
    "# A 2D grain boundary in Boron Nitride\n",
    "\n",
    "## 0. Introduction\n",
    "\n",
    "This notebook demonstrates how to generate a 2D grain boundary in Boron Nitride, following the example in the manuscript:\n",
    "\n",
    "> **Qiucheng Li, Xiaolong Zou, Mengxi Liu, Jingyu Sun, Yabo Gao, Yue Qi, Xiebo Zhou, Boris I. Yakobson, Yanfeng Zhang, and Zhongfan Liu**\n",
    "> \"Grain Boundary Structures and Electronic Properties of Hexagonal Boron Nitride on Cu(111)\"\n",
    "> *ACS Nano* **2015** 9 (6), 6308-6315\n",
    "> [DOI: 10.1021/acs.nanolett.5b01852](https://doi.org/10.1021/acs.nanolett.5b01852)\n",
    "\n",
    "Reproducing the material from Figure 2. c:\n",
    "\n",
    "<img src=\"https://github.com/Exabyte-io/documentation/raw/12617167278ae3523adc028583b21ea4e8ebd197/images/tutorials/materials/defects/defect_planar_grain_boundary_2d_boron_nitride/0-figure-from-manuscript.webp\" alt=\"Grain Boundary in Boron Nitride\" width=\"400\"/>"
   ]
  },
  {
   "cell_type": "markdown",
   "id": "a080006df3785cc5",
   "metadata": {
    "collapsed": false
   },
   "source": [
    "## 1. Prepare the Environment\n",
    "### 1.1. Set up the notebook\n",
    "Set the following flags to control the notebook behavior.\n"
   ]
  },
  {
   "cell_type": "code",
   "id": "338ee3c51155e086",
   "metadata": {
    "collapsed": false,
    "ExecuteTime": {
     "end_time": "2025-07-31T02:12:22.756897Z",
     "start_time": "2025-07-31T02:12:22.750951Z"
    }
   },
   "source": [
    "# Material selection\n",
    "MATERIAL_NAME = \"Boron_Nitride\"  # Name of the material to import from Standata\n",
    "\n",
    "# Grain boundary parameters\n",
    "TARGET_TWIST_ANGLE = 9.0  # in degrees\n",
    "BOUNDARY_GAP = 0.0  # Gap between two orientations in X direction, in Angstroms\n",
    "OVERLAP_TOLERANCE = 0.8  # Tolerance to remove overlapping atoms, in Angstroms\n",
    "\n",
    "# Search algorithm parameters\n",
    "MAX_REPETITION = None  # Maximum supercell matrix element value\n",
    "ANGLE_TOLERANCE = 0.5  # in degrees\n",
    "RETURN_FIRST_MATCH = True  # If True, returns first solution within tolerance\n",
    "\n",
    "# Visualization parameters\n",
    "SHOW_INTERMEDIATE_STEPS = True\n",
    "CELL_REPETITIONS_FOR_VISUALIZATION = [3, 3, 1]"
   ],
   "outputs": [],
   "execution_count": 9
  },
  {
   "cell_type": "markdown",
   "id": "6463f9bbcd3be7c7",
   "metadata": {
    "collapsed": false
   },
   "source": [
    "### 1.2. Install packages\n",
    "The step executes only in Pyodide environment. For other environments, the packages should be installed via `pip install`."
   ]
  },
  {
   "cell_type": "code",
   "id": "7e22d1f4da825575",
   "metadata": {
    "collapsed": false,
    "ExecuteTime": {
     "end_time": "2025-07-31T02:12:22.781830Z",
     "start_time": "2025-07-31T02:12:22.776332Z"
    }
   },
   "source": [
    "import sys\n",
    "\n",
    "if sys.platform == \"emscripten\":\n",
    "    import micropip\n",
    "\n",
    "    await micropip.install(\"https://exabyte-io.github.io/api-examples/mat3ra_api_examples-0.1.dev1+gc41b0b8-py3-none-any.whl\", deps=False)\n",
    "    await micropip.install('mat3ra-utils')\n",
    "    from mat3ra.utils.jupyterlite.packages import install_packages\n",
    "\n",
    "    await install_packages(\"specific_examples\")"
   ],
   "outputs": [],
   "execution_count": 10
  },
  {
   "cell_type": "markdown",
   "id": "4a1cfe15caa44c3e",
   "metadata": {
    "collapsed": false
   },
   "source": [
    "### 1.3. Load and preview input material"
   ]
  },
  {
   "cell_type": "code",
   "id": "a1635c31132962f6",
   "metadata": {
    "collapsed": false,
    "ExecuteTime": {
     "end_time": "2025-07-31T02:12:22.802394Z",
     "start_time": "2025-07-31T02:12:22.794878Z"
    }
   },
   "source": [
    "from mat3ra.standata.materials import Materials\n",
    "from mat3ra.made.material import Material\n",
    "\n",
    "material = Material.create(Materials.get_by_name_first_match(MATERIAL_NAME))"
   ],
   "outputs": [],
   "execution_count": 11
  },
  {
   "cell_type": "markdown",
   "id": "32b3ad775543b06f",
   "metadata": {
    "collapsed": false
   },
   "source": [
    "## 2. Prepare Material\n",
    "### 2.1. Select and visualize initial material"
   ]
  },
  {
   "cell_type": "code",
   "id": "61f0870d8104cd21",
   "metadata": {
    "collapsed": false,
    "ExecuteTime": {
     "end_time": "2025-07-31T02:12:22.908770Z",
     "start_time": "2025-07-31T02:12:22.813510Z"
    }
   },
   "source": [
    "from utils.visualize import visualize_materials\n",
    "\n",
    "if SHOW_INTERMEDIATE_STEPS:\n",
    "    visualize_materials(material, repetitions=CELL_REPETITIONS_FOR_VISUALIZATION)"
   ],
   "outputs": [
    {
     "data": {
      "text/plain": [
       "GridBox(children=(VBox(children=(Label(value='BN - Material - rotation: 0x,0y,0z', layout=Layout(align_self='c…"
      ],
      "application/vnd.jupyter.widget-view+json": {
       "version_major": 2,
       "version_minor": 0,
       "model_id": "4f6e424530b64d2db5fd244b63b5c541"
      }
     },
     "metadata": {},
     "output_type": "display_data"
    }
   ],
   "execution_count": 12
  },
  {
   "cell_type": "markdown",
   "id": "34d6c7a337f1e40b",
   "metadata": {
    "collapsed": false
   },
   "source": [
    "## 3. Generate Surface Grain Boundary\n",
    "### 3.1. Set up grain boundary configuration and builder\n"
   ]
  },
  {
   "cell_type": "code",
   "id": "33a2c8a9be436745",
   "metadata": {
    "collapsed": false,
    "ExecuteTime": {
     "end_time": "2025-07-31T02:12:24.433778Z",
     "start_time": "2025-07-31T02:12:22.922096Z"
    }
   },
   "source": [
    "from mat3ra.esse.models.core.reusable.axis_enum import AxisEnum\n",
    "from mat3ra.made.tools.build.grain_boundary import create_grain_boundary_linear\n",
    "\n",
    "grain_boundary = create_grain_boundary_linear(\n",
    "    material=material,\n",
    "    target_angle=TARGET_TWIST_ANGLE,\n",
    "    angle_tolerance=ANGLE_TOLERANCE,\n",
    "    max_repetition_int=7,\n",
    "    return_first_match=RETURN_FIRST_MATCH,\n",
    "    direction=AxisEnum.x,\n",
    "    gap=BOUNDARY_GAP,\n",
    ")\n",
    "\n",
    "# We need to remove overlapping atoms at the boundary line\n",
    "grain_boundary.basis.resolve_colliding_coordinates(tolerance=OVERLAP_TOLERANCE)"
   ],
   "outputs": [],
   "execution_count": 13
  },
  {
   "cell_type": "markdown",
   "id": "79e9378bf5e144d4",
   "metadata": {
    "collapsed": false
   },
   "source": [
    "### 3.2. Generate and analyze grain boundaries\n"
   ]
  },
  {
   "cell_type": "code",
   "id": "d7007fe825463e5a",
   "metadata": {
    "collapsed": false,
    "ExecuteTime": {
     "end_time": "2025-07-31T02:12:24.519462Z",
     "start_time": "2025-07-31T02:12:24.512987Z"
    }
   },
   "source": [
    "actual_angle = grain_boundary.metadata.build[-1].configuration.get(\"actual_angle\", \"unknown\")\n",
    "print(f\"Target angle: {TARGET_TWIST_ANGLE}°\")\n",
    "print(f\"Actual angle: {actual_angle}°\")\n",
    "print(f\"Number of atoms: {len(grain_boundary.basis.elements.ids)}\")"
   ],
   "outputs": [
    {
     "name": "stdout",
     "output_type": "stream",
     "text": [
      "Target angle: 9.0°\n",
      "Actual angle: 9.43°\n",
      "Number of atoms: 146\n"
     ]
    }
   ],
   "execution_count": 14
  },
  {
   "cell_type": "markdown",
   "id": "8b2f0574a20089a5",
   "metadata": {
    "collapsed": false
   },
   "source": [
    "## 4. Preview the grain boundary"
   ]
  },
  {
   "cell_type": "code",
   "id": "7f558a8e9d417cef",
   "metadata": {
    "collapsed": false,
    "ExecuteTime": {
     "end_time": "2025-07-31T02:12:24.565682Z",
     "start_time": "2025-07-31T02:12:24.553967Z"
    }
   },
   "source": [
    "visualize_materials(grain_boundary, title=\"Grain Boundary\", viewer=\"wave\")"
   ],
   "outputs": [
    {
     "data": {
      "text/plain": [
       "<IPython.core.display.HTML object>"
      ],
      "text/html": [
       "\n",
       "    <h2>Grain Boundary</h2>\n",
       "    <div id=\"wave-1753927944.556662\" style=\"width:600px; height:600px; border:1px solid #333;\"></div>\n",
       "    "
      ]
     },
     "metadata": {},
     "output_type": "display_data"
    },
    {
     "data": {
      "text/plain": [
       "<IPython.core.display.Javascript object>"
      ],
      "application/javascript": "\n    const materialConfig={\"description\":null,\"descriptionObject\":null,\"metadata\":{\"build\":[{\"configuration\":{\"stack_components\":[{\"xy_supercell_matrix\":[[-7,-3],[-4,-7]],\"strain_matrix\":[[1.0,0.0,0.0],[0.0,1.0,0.0],[0.0,0.0,1.0]],\"stack_components\":[{\"miller_indices\":[0,0,1],\"crystal\":{\"description\":null,\"descriptionObject\":null,\"metadata\":{\"build\":[],\"boundaryConditions\":{\"type\":\"pbc\",\"offset\":0}},\"name\":\"B1 N1\",\"isDefault\":false,\"formula\":null,\"unitCellFormula\":null,\"basis\":{\"elements\":[{\"id\":0,\"value\":\"B\"},{\"id\":1,\"value\":\"N\"}],\"coordinates\":[{\"id\":0,\"value\":[0.0,0.0,0.5]},{\"id\":1,\"value\":[0.333333333,0.666666667,0.5]}],\"units\":\"crystal\",\"labels\":[],\"constraints\":[]},\"lattice\":{\"a\":2.5089955,\"b\":2.5089955,\"c\":20.0,\"alpha\":90.0,\"beta\":90.0,\"gamma\":120.0,\"units\":{\"length\":\"angstrom\",\"angle\":\"degree\"},\"type\":\"TRI\"},\"derivedProperties\":null,\"external\":null,\"src\":null,\"scaledHash\":null,\"icsdId\":null,\"isNonPeriodic\":false,\"consistencyChecks\":null,\"field_id\":null,\"slug\":null,\"systemName\":null,\"schemaVersion\":\"2022.8.16\"},\"use_conventional_cell\":true,\"termination_top\":{\"chemical_elements\":\"BN\",\"space_group_symmetry_label\":\"P-6m2_2\"},\"termination_bottom\":null,\"number_of_repetitions\":1},{\"direction\":\"z\",\"size\":0.0,\"crystal\":{\"description\":null,\"descriptionObject\":null,\"metadata\":{\"build\":[{\"configuration\":{\"miller_indices\":[0,0,1],\"crystal\":{\"description\":null,\"descriptionObject\":null,\"metadata\":{\"build\":[],\"boundaryConditions\":{\"type\":\"pbc\",\"offset\":0}},\"name\":\"B1 N1\",\"isDefault\":false,\"formula\":null,\"unitCellFormula\":null,\"basis\":{\"elements\":[{\"id\":0,\"value\":\"B\"},{\"id\":1,\"value\":\"N\"}],\"coordinates\":[{\"id\":0,\"value\":[0.0,0.0,0.5]},{\"id\":1,\"value\":[0.333333333,0.666666667,0.5]}],\"units\":\"crystal\",\"labels\":[],\"constraints\":[]},\"lattice\":{\"a\":2.5089955,\"b\":2.5089955,\"c\":20.0,\"alpha\":90.0,\"beta\":90.0,\"gamma\":120.0,\"units\":{\"length\":\"angstrom\",\"angle\":\"degree\"},\"type\":\"TRI\"},\"derivedProperties\":null,\"external\":null,\"src\":null,\"scaledHash\":null,\"icsdId\":null,\"isNonPeriodic\":false,\"consistencyChecks\":null,\"field_id\":null,\"slug\":null,\"systemName\":null,\"schemaVersion\":\"2022.8.16\"},\"use_conventional_cell\":true,\"termination_top\":{\"chemical_elements\":\"BN\",\"space_group_symmetry_label\":\"P-6m2_2\"},\"termination_bottom\":null,\"number_of_repetitions\":1},\"build_parameters\":{}}],\"boundaryConditions\":{\"type\":\"pbc\",\"offset\":0}},\"name\":\"BN(001), termination BN_P-6m2_2\",\"isDefault\":false,\"formula\":\"BN\",\"unitCellFormula\":null,\"basis\":{\"elements\":[{\"id\":0,\"value\":\"B\"},{\"id\":1,\"value\":\"N\"}],\"coordinates\":[{\"id\":0,\"value\":[0.0,0.0,1e-6]},{\"id\":1,\"value\":[0.333333333,0.666666667,1e-6]}],\"units\":\"crystal\",\"labels\":[],\"constraints\":[]},\"lattice\":{\"a\":2.5089955,\"b\":2.5089955,\"c\":20.0,\"alpha\":90.0,\"beta\":90.0,\"gamma\":120.0,\"units\":{\"length\":\"angstrom\",\"angle\":\"degree\"},\"type\":\"TRI\"},\"derivedProperties\":null,\"external\":null,\"src\":null,\"scaledHash\":null,\"icsdId\":null,\"isNonPeriodic\":false,\"consistencyChecks\":null,\"field_id\":null,\"slug\":null,\"systemName\":null,\"schemaVersion\":\"2022.8.16\"},\"type\":\"VacuumConfiguration\"}],\"direction\":\"z\",\"type\":\"SlabStrainedSupercellConfiguration\",\"gaps\":[]},{\"xy_supercell_matrix\":[[-7,-4],[-3,-7]],\"strain_matrix\":[[1.0,0.0,0.0],[0.0,1.0,0.0],[0.0,0.0,1.0]],\"stack_components\":[{\"miller_indices\":[0,0,1],\"crystal\":{\"description\":null,\"descriptionObject\":null,\"metadata\":{\"build\":[],\"boundaryConditions\":{\"type\":\"pbc\",\"offset\":0}},\"name\":\"B1 N1\",\"isDefault\":false,\"formula\":null,\"unitCellFormula\":null,\"basis\":{\"elements\":[{\"id\":0,\"value\":\"B\"},{\"id\":1,\"value\":\"N\"}],\"coordinates\":[{\"id\":0,\"value\":[0.0,0.0,0.5]},{\"id\":1,\"value\":[0.333333333,0.666666667,0.5]}],\"units\":\"crystal\",\"labels\":[],\"constraints\":[]},\"lattice\":{\"a\":2.5089955,\"b\":2.5089955,\"c\":20.0,\"alpha\":90.0,\"beta\":90.0,\"gamma\":120.0,\"units\":{\"length\":\"angstrom\",\"angle\":\"degree\"},\"type\":\"TRI\"},\"derivedProperties\":null,\"external\":null,\"src\":null,\"scaledHash\":null,\"icsdId\":null,\"isNonPeriodic\":false,\"consistencyChecks\":null,\"field_id\":null,\"slug\":null,\"systemName\":null,\"schemaVersion\":\"2022.8.16\"},\"use_conventional_cell\":true,\"termination_top\":{\"chemical_elements\":\"BN\",\"space_group_symmetry_label\":\"P-6m2_2\"},\"termination_bottom\":null,\"number_of_repetitions\":1},{\"direction\":\"z\",\"size\":0.0,\"crystal\":{\"description\":null,\"descriptionObject\":null,\"metadata\":{\"build\":[{\"configuration\":{\"miller_indices\":[0,0,1],\"crystal\":{\"description\":null,\"descriptionObject\":null,\"metadata\":{\"build\":[],\"boundaryConditions\":{\"type\":\"pbc\",\"offset\":0}},\"name\":\"B1 N1\",\"isDefault\":false,\"formula\":null,\"unitCellFormula\":null,\"basis\":{\"elements\":[{\"id\":0,\"value\":\"B\"},{\"id\":1,\"value\":\"N\"}],\"coordinates\":[{\"id\":0,\"value\":[0.0,0.0,0.5]},{\"id\":1,\"value\":[0.333333333,0.666666667,0.5]}],\"units\":\"crystal\",\"labels\":[],\"constraints\":[]},\"lattice\":{\"a\":2.5089955,\"b\":2.5089955,\"c\":20.0,\"alpha\":90.0,\"beta\":90.0,\"gamma\":120.0,\"units\":{\"length\":\"angstrom\",\"angle\":\"degree\"},\"type\":\"TRI\"},\"derivedProperties\":null,\"external\":null,\"src\":null,\"scaledHash\":null,\"icsdId\":null,\"isNonPeriodic\":false,\"consistencyChecks\":null,\"field_id\":null,\"slug\":null,\"systemName\":null,\"schemaVersion\":\"2022.8.16\"},\"use_conventional_cell\":true,\"termination_top\":{\"chemical_elements\":\"BN\",\"space_group_symmetry_label\":\"P-6m2_2\"},\"termination_bottom\":null,\"number_of_repetitions\":1},\"build_parameters\":{}}],\"boundaryConditions\":{\"type\":\"pbc\",\"offset\":0}},\"name\":\"BN(001), termination BN_P-6m2_2\",\"isDefault\":false,\"formula\":\"BN\",\"unitCellFormula\":null,\"basis\":{\"elements\":[{\"id\":0,\"value\":\"B\"},{\"id\":1,\"value\":\"N\"}],\"coordinates\":[{\"id\":0,\"value\":[0.0,0.0,1e-6]},{\"id\":1,\"value\":[0.333333333,0.666666667,1e-6]}],\"units\":\"crystal\",\"labels\":[],\"constraints\":[]},\"lattice\":{\"a\":2.5089955,\"b\":2.5089955,\"c\":20.0,\"alpha\":90.0,\"beta\":90.0,\"gamma\":120.0,\"units\":{\"length\":\"angstrom\",\"angle\":\"degree\"},\"type\":\"TRI\"},\"derivedProperties\":null,\"external\":null,\"src\":null,\"scaledHash\":null,\"icsdId\":null,\"isNonPeriodic\":false,\"consistencyChecks\":null,\"field_id\":null,\"slug\":null,\"systemName\":null,\"schemaVersion\":\"2022.8.16\"},\"type\":\"VacuumConfiguration\"}],\"direction\":\"z\",\"type\":\"SlabStrainedSupercellConfiguration\",\"gaps\":[]}],\"direction\":\"x\",\"actual_angle\":9.43,\"xy_shift\":[0.0,0.0],\"type\":\"GrainBoundaryLinearConfiguration\",\"gaps\":[{\"id\":0,\"value\":0.0},{\"id\":1,\"value\":0.0}]},\"build_parameters\":{\"make_primitive\":true,\"max_supercell_matrix_int\":null,\"limit_max_int\":30,\"angle_tolerance\":0.1,\"return_first_match\":false,\"edge_inclusion_tolerance\":1.0,\"distance_tolerance\":1.0}}],\"boundaryConditions\":{\"type\":\"pbc\",\"offset\":0}},\"name\":\"BN(001)-BN(001), Linear Grain Boundary, 9.43 degrees\",\"isDefault\":false,\"formula\":null,\"unitCellFormula\":null,\"basis\":{\"elements\":[{\"id\":0,\"value\":\"B\"},{\"id\":1,\"value\":\"N\"},{\"id\":2,\"value\":\"B\"},{\"id\":3,\"value\":\"N\"},{\"id\":4,\"value\":\"B\"},{\"id\":5,\"value\":\"N\"},{\"id\":6,\"value\":\"B\"},{\"id\":7,\"value\":\"N\"},{\"id\":8,\"value\":\"B\"},{\"id\":9,\"value\":\"N\"},{\"id\":10,\"value\":\"B\"},{\"id\":11,\"value\":\"N\"},{\"id\":12,\"value\":\"B\"},{\"id\":13,\"value\":\"N\"},{\"id\":14,\"value\":\"B\"},{\"id\":15,\"value\":\"N\"},{\"id\":16,\"value\":\"B\"},{\"id\":17,\"value\":\"N\"},{\"id\":18,\"value\":\"B\"},{\"id\":19,\"value\":\"N\"},{\"id\":20,\"value\":\"B\"},{\"id\":21,\"value\":\"N\"},{\"id\":22,\"value\":\"B\"},{\"id\":23,\"value\":\"N\"},{\"id\":24,\"value\":\"B\"},{\"id\":25,\"value\":\"N\"},{\"id\":26,\"value\":\"B\"},{\"id\":27,\"value\":\"N\"},{\"id\":28,\"value\":\"B\"},{\"id\":29,\"value\":\"N\"},{\"id\":30,\"value\":\"B\"},{\"id\":31,\"value\":\"N\"},{\"id\":32,\"value\":\"B\"},{\"id\":33,\"value\":\"N\"},{\"id\":34,\"value\":\"B\"},{\"id\":35,\"value\":\"N\"},{\"id\":36,\"value\":\"B\"},{\"id\":37,\"value\":\"N\"},{\"id\":38,\"value\":\"B\"},{\"id\":39,\"value\":\"N\"},{\"id\":40,\"value\":\"B\"},{\"id\":41,\"value\":\"N\"},{\"id\":42,\"value\":\"B\"},{\"id\":43,\"value\":\"N\"},{\"id\":44,\"value\":\"B\"},{\"id\":45,\"value\":\"N\"},{\"id\":46,\"value\":\"B\"},{\"id\":47,\"value\":\"N\"},{\"id\":48,\"value\":\"B\"},{\"id\":49,\"value\":\"N\"},{\"id\":50,\"value\":\"B\"},{\"id\":51,\"value\":\"N\"},{\"id\":52,\"value\":\"B\"},{\"id\":53,\"value\":\"N\"},{\"id\":54,\"value\":\"B\"},{\"id\":55,\"value\":\"N\"},{\"id\":56,\"value\":\"B\"},{\"id\":57,\"value\":\"N\"},{\"id\":58,\"value\":\"B\"},{\"id\":59,\"value\":\"N\"},{\"id\":60,\"value\":\"B\"},{\"id\":61,\"value\":\"N\"},{\"id\":62,\"value\":\"B\"},{\"id\":63,\"value\":\"N\"},{\"id\":64,\"value\":\"B\"},{\"id\":65,\"value\":\"N\"},{\"id\":66,\"value\":\"B\"},{\"id\":67,\"value\":\"N\"},{\"id\":68,\"value\":\"B\"},{\"id\":69,\"value\":\"N\"},{\"id\":70,\"value\":\"B\"},{\"id\":71,\"value\":\"N\"},{\"id\":72,\"value\":\"B\"},{\"id\":73,\"value\":\"N\"},{\"id\":74,\"value\":\"B\"},{\"id\":75,\"value\":\"N\"},{\"id\":76,\"value\":\"B\"},{\"id\":77,\"value\":\"N\"},{\"id\":78,\"value\":\"B\"},{\"id\":79,\"value\":\"N\"},{\"id\":80,\"value\":\"B\"},{\"id\":81,\"value\":\"N\"},{\"id\":82,\"value\":\"B\"},{\"id\":83,\"value\":\"N\"},{\"id\":84,\"value\":\"B\"},{\"id\":85,\"value\":\"N\"},{\"id\":86,\"value\":\"B\"},{\"id\":87,\"value\":\"N\"},{\"id\":88,\"value\":\"B\"},{\"id\":89,\"value\":\"N\"},{\"id\":90,\"value\":\"B\"},{\"id\":91,\"value\":\"N\"},{\"id\":92,\"value\":\"B\"},{\"id\":93,\"value\":\"N\"},{\"id\":94,\"value\":\"B\"},{\"id\":95,\"value\":\"N\"},{\"id\":96,\"value\":\"B\"},{\"id\":97,\"value\":\"N\"},{\"id\":98,\"value\":\"B\"},{\"id\":99,\"value\":\"N\"},{\"id\":100,\"value\":\"B\"},{\"id\":101,\"value\":\"N\"},{\"id\":102,\"value\":\"B\"},{\"id\":103,\"value\":\"N\"},{\"id\":104,\"value\":\"B\"},{\"id\":105,\"value\":\"N\"},{\"id\":106,\"value\":\"B\"},{\"id\":107,\"value\":\"N\"},{\"id\":108,\"value\":\"B\"},{\"id\":109,\"value\":\"N\"},{\"id\":110,\"value\":\"B\"},{\"id\":111,\"value\":\"N\"},{\"id\":112,\"value\":\"B\"},{\"id\":113,\"value\":\"N\"},{\"id\":114,\"value\":\"B\"},{\"id\":115,\"value\":\"N\"},{\"id\":116,\"value\":\"B\"},{\"id\":117,\"value\":\"N\"},{\"id\":118,\"value\":\"B\"},{\"id\":119,\"value\":\"N\"},{\"id\":120,\"value\":\"B\"},{\"id\":121,\"value\":\"N\"},{\"id\":122,\"value\":\"B\"},{\"id\":123,\"value\":\"N\"},{\"id\":124,\"value\":\"B\"},{\"id\":125,\"value\":\"N\"},{\"id\":126,\"value\":\"B\"},{\"id\":127,\"value\":\"N\"},{\"id\":128,\"value\":\"B\"},{\"id\":129,\"value\":\"N\"},{\"id\":130,\"value\":\"B\"},{\"id\":131,\"value\":\"N\"},{\"id\":132,\"value\":\"B\"},{\"id\":133,\"value\":\"N\"},{\"id\":134,\"value\":\"B\"},{\"id\":135,\"value\":\"N\"},{\"id\":136,\"value\":\"B\"},{\"id\":137,\"value\":\"N\"},{\"id\":138,\"value\":\"B\"},{\"id\":139,\"value\":\"N\"},{\"id\":140,\"value\":\"B\"},{\"id\":141,\"value\":\"N\"},{\"id\":142,\"value\":\"B\"},{\"id\":143,\"value\":\"N\"},{\"id\":144,\"value\":\"B\"},{\"id\":145,\"value\":\"N\"}],\"coordinates\":[{\"id\":0,\"value\":[0.465750331,0.891891892,1e-6]},{\"id\":1,\"value\":[0.470316511,0.792792793,1e-6]},{\"id\":2,\"value\":[0.369860557,0.972972973,1e-6]},{\"id\":3,\"value\":[0.374426737,0.873873874,1e-6]},{\"id\":4,\"value\":[0.424654714,0.783783784,1e-6]},{\"id\":5,\"value\":[0.429220893,0.684684685,1e-6]},{\"id\":6,\"value\":[0.47944887,0.594594595,1e-6]},{\"id\":7,\"value\":[0.48401505,0.495495495,1e-6]},{\"id\":8,\"value\":[0.32876494,0.864864865,1e-6]},{\"id\":9,\"value\":[0.333331119,0.765765766,1e-6]},{\"id\":10,\"value\":[0.383559096,0.675675676,1e-6]},{\"id\":11,\"value\":[0.388125276,0.576576576,1e-6]},{\"id\":12,\"value\":[0.438353253,0.486486486,1e-6]},{\"id\":13,\"value\":[0.442919433,0.387387387,1e-6]},{\"id\":14,\"value\":[0.232875165,0.945945946,1e-6]},{\"id\":15,\"value\":[0.237441346,0.846846847,1e-6]},{\"id\":16,\"value\":[0.287669322,0.756756757,1e-6]},{\"id\":17,\"value\":[0.292235502,0.657657658,1e-6]},{\"id\":18,\"value\":[0.342463479,0.567567568,1e-6]},{\"id\":19,\"value\":[0.347029659,0.468468468,1e-6]},{\"id\":20,\"value\":[0.397257635,0.378378378,1e-6]},{\"id\":21,\"value\":[0.401823815,0.279279279,1e-6]},{\"id\":22,\"value\":[0.452051792,0.189189189,1e-6]},{\"id\":23,\"value\":[0.456617972,0.09009009,1e-6]},{\"id\":24,\"value\":[0.191779548,0.837837838,1e-6]},{\"id\":25,\"value\":[0.196345728,0.738738739,1e-6]},{\"id\":26,\"value\":[0.246573704,0.648648649,1e-6]},{\"id\":27,\"value\":[0.251139885,0.549549549,1e-6]},{\"id\":28,\"value\":[0.301367861,0.459459459,1e-6]},{\"id\":29,\"value\":[0.305934041,0.36036036,1e-6]},{\"id\":30,\"value\":[0.356162018,0.27027027,1e-6]},{\"id\":31,\"value\":[0.360728198,0.171171171,1e-6]},{\"id\":32,\"value\":[0.410956175,0.081081081,1e-6]},{\"id\":33,\"value\":[0.415522354,0.981981982,1e-6]},{\"id\":34,\"value\":[0.095889774,0.918918919,1e-6]},{\"id\":35,\"value\":[0.100455954,0.81981982,1e-6]},{\"id\":36,\"value\":[0.15068393,0.72972973,1e-6]},{\"id\":37,\"value\":[0.15525011,0.630630631,1e-6]},{\"id\":38,\"value\":[0.205478087,0.540540541,1e-6]},{\"id\":39,\"value\":[0.210044267,0.441441441,1e-6]},{\"id\":40,\"value\":[0.260272244,0.351351351,1e-6]},{\"id\":41,\"value\":[0.264838424,0.252252252,1e-6]},{\"id\":42,\"value\":[0.315066401,0.162162162,1e-6]},{\"id\":43,\"value\":[0.31963258,0.063063063,1e-6]},{\"id\":44,\"value\":[0.054794157,0.810810811,1e-6]},{\"id\":45,\"value\":[0.059360336,0.711711712,1e-6]},{\"id\":46,\"value\":[0.109588313,0.621621622,1e-6]},{\"id\":47,\"value\":[0.114154493,0.522522522,1e-6]},{\"id\":48,\"value\":[0.16438247,0.432432432,1e-6]},{\"id\":49,\"value\":[0.168948649,0.333333333,1e-6]},{\"id\":50,\"value\":[0.219176626,0.243243243,1e-6]},{\"id\":51,\"value\":[0.223742806,0.144144144,1e-6]},{\"id\":52,\"value\":[0.273970783,0.054054054,1e-6]},{\"id\":53,\"value\":[0.278536963,0.954954955,1e-6]},{\"id\":54,\"value\":[0.013698539,0.702702703,1e-6]},{\"id\":55,\"value\":[0.018264719,0.603603604,1e-6]},{\"id\":56,\"value\":[0.068492696,0.513513514,1e-6]},{\"id\":57,\"value\":[0.073058875,0.414414414,1e-6]},{\"id\":58,\"value\":[0.123286852,0.324324324,1e-6]},{\"id\":59,\"value\":[0.127853032,0.225225225,1e-6]},{\"id\":60,\"value\":[0.178081009,0.135135135,1e-6]},{\"id\":61,\"value\":[0.182647188,0.036036036,1e-6]},{\"id\":62,\"value\":[0.027397078,0.405405405,1e-6]},{\"id\":63,\"value\":[0.031963258,0.306306306,1e-6]},{\"id\":64,\"value\":[0.082191235,0.216216216,1e-6]},{\"id\":65,\"value\":[0.086757415,0.117117117,1e-6]},{\"id\":66,\"value\":[0.136985391,0.027027027,1e-6]},{\"id\":67,\"value\":[0.141551571,0.927927928,1e-6]},{\"id\":68,\"value\":[0.041095617,0.108108108,1e-6]},{\"id\":69,\"value\":[0.045661797,0.009009009,1e-6]},{\"id\":70,\"value\":[0.0,0.0,1e-6]},{\"id\":71,\"value\":[0.00456618,0.900900901,1e-6]},{\"id\":72,\"value\":[0.949768702,0.918918919,1e-6]},{\"id\":73,\"value\":[0.945202522,0.828828829,1e-6]},{\"id\":74,\"value\":[0.990864319,0.72972973,1e-6]},{\"id\":75,\"value\":[0.98629814,0.63963964,1e-6]},{\"id\":76,\"value\":[0.894974545,0.837837838,1e-6]},{\"id\":77,\"value\":[0.890408366,0.747747748,1e-6]},{\"id\":78,\"value\":[0.936070163,0.648648649,1e-6]},{\"id\":79,\"value\":[0.931503983,0.558558558,1e-6]},{\"id\":80,\"value\":[0.97716578,0.459459459,1e-6]},{\"id\":81,\"value\":[0.972599601,0.369369369,1e-6]},{\"id\":82,\"value\":[0.799084771,0.945945946,1e-6]},{\"id\":83,\"value\":[0.794518592,0.855855856,1e-6]},{\"id\":84,\"value\":[0.840180389,0.756756757,1e-6]},{\"id\":85,\"value\":[0.835614209,0.666666667,1e-6]},{\"id\":86,\"value\":[0.881276006,0.567567568,1e-6]},{\"id\":87,\"value\":[0.876709827,0.477477477,1e-6]},{\"id\":88,\"value\":[0.922371624,0.378378378,1e-6]},{\"id\":89,\"value\":[0.917805444,0.288288288,1e-6]},{\"id\":90,\"value\":[0.963467241,0.189189189,1e-6]},{\"id\":91,\"value\":[0.958901061,0.099099099,1e-6]},{\"id\":92,\"value\":[0.744290614,0.864864865,1e-6]},{\"id\":93,\"value\":[0.739724435,0.774774775,1e-6]},{\"id\":94,\"value\":[0.785386232,0.675675676,1e-6]},{\"id\":95,\"value\":[0.780820053,0.585585585,1e-6]},{\"id\":96,\"value\":[0.82648185,0.486486486,1e-6]},{\"id\":97,\"value\":[0.82191567,0.396396396,1e-6]},{\"id\":98,\"value\":[0.867577467,0.297297297,1e-6]},{\"id\":99,\"value\":[0.863011287,0.207207207,1e-6]},{\"id\":100,\"value\":[0.908673085,0.108108108,1e-6]},{\"id\":101,\"value\":[0.904106905,0.018018018,1e-6]},{\"id\":102,\"value\":[0.64840084,0.972972973,1e-6]},{\"id\":103,\"value\":[0.643834661,0.882882883,1e-6]},{\"id\":104,\"value\":[0.689496458,0.783783784,1e-6]},{\"id\":105,\"value\":[0.684930278,0.693693694,1e-6]},{\"id\":106,\"value\":[0.730592075,0.594594595,1e-6]},{\"id\":107,\"value\":[0.726025896,0.504504504,1e-6]},{\"id\":108,\"value\":[0.771687693,0.405405405,1e-6]},{\"id\":109,\"value\":[0.767121514,0.315315315,1e-6]},{\"id\":110,\"value\":[0.812783311,0.216216216,1e-6]},{\"id\":111,\"value\":[0.808217131,0.126126126,1e-6]},{\"id\":112,\"value\":[0.853878928,0.027027027,1e-6]},{\"id\":113,\"value\":[0.849312748,0.936936937,1e-6]},{\"id\":114,\"value\":[0.593606684,0.891891892,1e-6]},{\"id\":115,\"value\":[0.589040504,0.801801802,1e-6]},{\"id\":116,\"value\":[0.634702301,0.702702703,1e-6]},{\"id\":117,\"value\":[0.630136122,0.612612613,1e-6]},{\"id\":118,\"value\":[0.675797919,0.513513514,1e-6]},{\"id\":119,\"value\":[0.671231739,0.423423423,1e-6]},{\"id\":120,\"value\":[0.716893536,0.324324324,1e-6]},{\"id\":121,\"value\":[0.712327357,0.234234234,1e-6]},{\"id\":122,\"value\":[0.757989154,0.135135135,1e-6]},{\"id\":123,\"value\":[0.753422974,0.045045045,1e-6]},{\"id\":124,\"value\":[0.538812527,0.810810811,1e-6]},{\"id\":125,\"value\":[0.534246348,0.720720721,1e-6]},{\"id\":126,\"value\":[0.579908145,0.621621622,1e-6]},{\"id\":127,\"value\":[0.575341965,0.531531531,1e-6]},{\"id\":128,\"value\":[0.621003762,0.432432432,1e-6]},{\"id\":129,\"value\":[0.616437583,0.342342342,1e-6]},{\"id\":130,\"value\":[0.66209938,0.243243243,1e-6]},{\"id\":131,\"value\":[0.6575332,0.153153153,1e-6]},{\"id\":132,\"value\":[0.703194997,0.054054054,1e-6]},{\"id\":133,\"value\":[0.698628817,0.963963964,1e-6]},{\"id\":134,\"value\":[0.525113988,0.540540541,1e-6]},{\"id\":135,\"value\":[0.520547809,0.45045045,1e-6]},{\"id\":136,\"value\":[0.566209606,0.351351351,1e-6]},{\"id\":137,\"value\":[0.561643426,0.261261261,1e-6]},{\"id\":138,\"value\":[0.607305223,0.162162162,1e-6]},{\"id\":139,\"value\":[0.602739043,0.072072072,1e-6]},{\"id\":140,\"value\":[0.511415449,0.27027027,1e-6]},{\"id\":141,\"value\":[0.506849269,0.18018018,1e-6]},{\"id\":142,\"value\":[0.552511067,0.081081081,1e-6]},{\"id\":143,\"value\":[0.547944887,0.990990991,1e-6]},{\"id\":144,\"value\":[0.49771691,0.0,1e-6]},{\"id\":145,\"value\":[0.999996679,0.90990991,1e-6]}],\"units\":\"crystal\",\"labels\":[{\"id\":0,\"value\":0},{\"id\":1,\"value\":0},{\"id\":2,\"value\":0},{\"id\":3,\"value\":0},{\"id\":4,\"value\":0},{\"id\":5,\"value\":0},{\"id\":6,\"value\":0},{\"id\":7,\"value\":0},{\"id\":8,\"value\":0},{\"id\":9,\"value\":0},{\"id\":10,\"value\":0},{\"id\":11,\"value\":0},{\"id\":12,\"value\":0},{\"id\":13,\"value\":0},{\"id\":14,\"value\":0},{\"id\":15,\"value\":0},{\"id\":16,\"value\":0},{\"id\":17,\"value\":0},{\"id\":18,\"value\":0},{\"id\":19,\"value\":0},{\"id\":20,\"value\":0},{\"id\":21,\"value\":0},{\"id\":22,\"value\":0},{\"id\":23,\"value\":0},{\"id\":24,\"value\":0},{\"id\":25,\"value\":0},{\"id\":26,\"value\":0},{\"id\":27,\"value\":0},{\"id\":28,\"value\":0},{\"id\":29,\"value\":0},{\"id\":30,\"value\":0},{\"id\":31,\"value\":0},{\"id\":32,\"value\":0},{\"id\":33,\"value\":0},{\"id\":34,\"value\":0},{\"id\":35,\"value\":0},{\"id\":36,\"value\":0},{\"id\":37,\"value\":0},{\"id\":38,\"value\":0},{\"id\":39,\"value\":0},{\"id\":40,\"value\":0},{\"id\":41,\"value\":0},{\"id\":42,\"value\":0},{\"id\":43,\"value\":0},{\"id\":44,\"value\":0},{\"id\":45,\"value\":0},{\"id\":46,\"value\":0},{\"id\":47,\"value\":0},{\"id\":48,\"value\":0},{\"id\":49,\"value\":0},{\"id\":50,\"value\":0},{\"id\":51,\"value\":0},{\"id\":52,\"value\":0},{\"id\":53,\"value\":0},{\"id\":54,\"value\":0},{\"id\":55,\"value\":0},{\"id\":56,\"value\":0},{\"id\":57,\"value\":0},{\"id\":58,\"value\":0},{\"id\":59,\"value\":0},{\"id\":60,\"value\":0},{\"id\":61,\"value\":0},{\"id\":62,\"value\":0},{\"id\":63,\"value\":0},{\"id\":64,\"value\":0},{\"id\":65,\"value\":0},{\"id\":66,\"value\":0},{\"id\":67,\"value\":0},{\"id\":68,\"value\":0},{\"id\":69,\"value\":0},{\"id\":70,\"value\":0},{\"id\":71,\"value\":0},{\"id\":72,\"value\":1},{\"id\":73,\"value\":1},{\"id\":74,\"value\":1},{\"id\":75,\"value\":1},{\"id\":76,\"value\":1},{\"id\":77,\"value\":1},{\"id\":78,\"value\":1},{\"id\":79,\"value\":1},{\"id\":80,\"value\":1},{\"id\":81,\"value\":1},{\"id\":82,\"value\":1},{\"id\":83,\"value\":1},{\"id\":84,\"value\":1},{\"id\":85,\"value\":1},{\"id\":86,\"value\":1},{\"id\":87,\"value\":1},{\"id\":88,\"value\":1},{\"id\":89,\"value\":1},{\"id\":90,\"value\":1},{\"id\":91,\"value\":1},{\"id\":92,\"value\":1},{\"id\":93,\"value\":1},{\"id\":94,\"value\":1},{\"id\":95,\"value\":1},{\"id\":96,\"value\":1},{\"id\":97,\"value\":1},{\"id\":98,\"value\":1},{\"id\":99,\"value\":1},{\"id\":100,\"value\":1},{\"id\":101,\"value\":1},{\"id\":102,\"value\":1},{\"id\":103,\"value\":1},{\"id\":104,\"value\":1},{\"id\":105,\"value\":1},{\"id\":106,\"value\":1},{\"id\":107,\"value\":1},{\"id\":108,\"value\":1},{\"id\":109,\"value\":1},{\"id\":110,\"value\":1},{\"id\":111,\"value\":1},{\"id\":112,\"value\":1},{\"id\":113,\"value\":1},{\"id\":114,\"value\":1},{\"id\":115,\"value\":1},{\"id\":116,\"value\":1},{\"id\":117,\"value\":1},{\"id\":118,\"value\":1},{\"id\":119,\"value\":1},{\"id\":120,\"value\":1},{\"id\":121,\"value\":1},{\"id\":122,\"value\":1},{\"id\":123,\"value\":1},{\"id\":124,\"value\":1},{\"id\":125,\"value\":1},{\"id\":126,\"value\":1},{\"id\":127,\"value\":1},{\"id\":128,\"value\":1},{\"id\":129,\"value\":1},{\"id\":130,\"value\":1},{\"id\":131,\"value\":1},{\"id\":132,\"value\":1},{\"id\":133,\"value\":1},{\"id\":134,\"value\":1},{\"id\":135,\"value\":1},{\"id\":136,\"value\":1},{\"id\":137,\"value\":1},{\"id\":138,\"value\":1},{\"id\":139,\"value\":1},{\"id\":140,\"value\":1},{\"id\":141,\"value\":1},{\"id\":142,\"value\":1},{\"id\":143,\"value\":1},{\"id\":144,\"value\":1},{\"id\":145,\"value\":1}],\"constraints\":[]},\"lattice\":{\"a\":30.110971313,\"b\":15.261623816,\"c\":20.0,\"alpha\":90.0,\"beta\":90.0,\"gamma\":60.0,\"units\":{\"length\":\"angstrom\",\"angle\":\"degree\"},\"type\":\"TRI\"},\"derivedProperties\":null,\"external\":null,\"src\":null,\"scaledHash\":null,\"icsdId\":null,\"isNonPeriodic\":false,\"consistencyChecks\":null,\"field_id\":null,\"slug\":null,\"systemName\":null,\"schemaVersion\":\"2022.8.16\"};\n    const container = document.getElementById('wave-1753927944.556662');\n        \n    (async function() {\n            const module = await import('https://exabyte-io.github.io/wave.js/main.js');\n            window.renderThreeDEditor(materialConfig, container);\n    })();\n    document.head.insertAdjacentHTML(\n        'beforeend',\n        '<link rel=\"stylesheet\" href=\"https://exabyte-io.github.io/wave.js/main.css\"/>');\n    "
     },
     "metadata": {},
     "output_type": "display_data"
    }
   ],
   "execution_count": 15
  },
  {
   "cell_type": "markdown",
   "id": "afcc004c5878b56f",
   "metadata": {
    "collapsed": false
   },
   "source": [
    "### 5. Pass data to the outside runtime\n"
   ]
  },
  {
   "cell_type": "code",
   "id": "20e46167358d63",
   "metadata": {
    "collapsed": false,
    "ExecuteTime": {
     "end_time": "2025-07-31T02:12:24.612232Z",
     "start_time": "2025-07-31T02:12:24.596241Z"
    }
   },
   "source": [
    "from utils.jupyterlite import download_content_to_file, set_materials\n",
    "\n",
    "set_materials(grain_boundary)\n",
    "download_content_to_file(grain_boundary, \"grain_boundary_2d_boron_nitride.json\")"
   ],
   "outputs": [
    {
     "name": "stdout",
     "output_type": "stream",
     "text": [
      "Data for materials written to uploads/BN(001)-BN(001), Linear Grain Boundary, 9.43 degrees.json\n"
     ]
    },
    {
     "data": {
      "text/plain": [
       "<IPython.core.display.Javascript object>"
      ],
      "application/javascript": "\n    var content = `\"{\\\"description\\\":null,\\\"descriptionObject\\\":null,\\\"metadata\\\":{\\\"build\\\":[{\\\"configuration\\\":{\\\"stack_components\\\":[{\\\"xy_supercell_matrix\\\":[[-7,-3],[-4,-7]],\\\"strain_matrix\\\":[[1.0,0.0,0.0],[0.0,1.0,0.0],[0.0,0.0,1.0]],\\\"stack_components\\\":[{\\\"miller_indices\\\":[0,0,1],\\\"crystal\\\":{\\\"description\\\":null,\\\"descriptionObject\\\":null,\\\"metadata\\\":{\\\"build\\\":[],\\\"boundaryConditions\\\":{\\\"type\\\":\\\"pbc\\\",\\\"offset\\\":0}},\\\"name\\\":\\\"B1 N1\\\",\\\"isDefault\\\":false,\\\"formula\\\":null,\\\"unitCellFormula\\\":null,\\\"basis\\\":{\\\"elements\\\":[{\\\"id\\\":0,\\\"value\\\":\\\"B\\\"},{\\\"id\\\":1,\\\"value\\\":\\\"N\\\"}],\\\"coordinates\\\":[{\\\"id\\\":0,\\\"value\\\":[0.0,0.0,0.5]},{\\\"id\\\":1,\\\"value\\\":[0.333333333,0.666666667,0.5]}],\\\"units\\\":\\\"crystal\\\",\\\"labels\\\":[],\\\"constraints\\\":[]},\\\"lattice\\\":{\\\"a\\\":2.5089955,\\\"b\\\":2.5089955,\\\"c\\\":20.0,\\\"alpha\\\":90.0,\\\"beta\\\":90.0,\\\"gamma\\\":120.0,\\\"units\\\":{\\\"length\\\":\\\"angstrom\\\",\\\"angle\\\":\\\"degree\\\"},\\\"type\\\":\\\"TRI\\\"},\\\"derivedProperties\\\":null,\\\"external\\\":null,\\\"src\\\":null,\\\"scaledHash\\\":null,\\\"icsdId\\\":null,\\\"isNonPeriodic\\\":false,\\\"consistencyChecks\\\":null,\\\"field_id\\\":null,\\\"slug\\\":null,\\\"systemName\\\":null,\\\"schemaVersion\\\":\\\"2022.8.16\\\"},\\\"use_conventional_cell\\\":true,\\\"termination_top\\\":{\\\"chemical_elements\\\":\\\"BN\\\",\\\"space_group_symmetry_label\\\":\\\"P-6m2_2\\\"},\\\"termination_bottom\\\":null,\\\"number_of_repetitions\\\":1},{\\\"direction\\\":\\\"z\\\",\\\"size\\\":0.0,\\\"crystal\\\":{\\\"description\\\":null,\\\"descriptionObject\\\":null,\\\"metadata\\\":{\\\"build\\\":[{\\\"configuration\\\":{\\\"miller_indices\\\":[0,0,1],\\\"crystal\\\":{\\\"description\\\":null,\\\"descriptionObject\\\":null,\\\"metadata\\\":{\\\"build\\\":[],\\\"boundaryConditions\\\":{\\\"type\\\":\\\"pbc\\\",\\\"offset\\\":0}},\\\"name\\\":\\\"B1 N1\\\",\\\"isDefault\\\":false,\\\"formula\\\":null,\\\"unitCellFormula\\\":null,\\\"basis\\\":{\\\"elements\\\":[{\\\"id\\\":0,\\\"value\\\":\\\"B\\\"},{\\\"id\\\":1,\\\"value\\\":\\\"N\\\"}],\\\"coordinates\\\":[{\\\"id\\\":0,\\\"value\\\":[0.0,0.0,0.5]},{\\\"id\\\":1,\\\"value\\\":[0.333333333,0.666666667,0.5]}],\\\"units\\\":\\\"crystal\\\",\\\"labels\\\":[],\\\"constraints\\\":[]},\\\"lattice\\\":{\\\"a\\\":2.5089955,\\\"b\\\":2.5089955,\\\"c\\\":20.0,\\\"alpha\\\":90.0,\\\"beta\\\":90.0,\\\"gamma\\\":120.0,\\\"units\\\":{\\\"length\\\":\\\"angstrom\\\",\\\"angle\\\":\\\"degree\\\"},\\\"type\\\":\\\"TRI\\\"},\\\"derivedProperties\\\":null,\\\"external\\\":null,\\\"src\\\":null,\\\"scaledHash\\\":null,\\\"icsdId\\\":null,\\\"isNonPeriodic\\\":false,\\\"consistencyChecks\\\":null,\\\"field_id\\\":null,\\\"slug\\\":null,\\\"systemName\\\":null,\\\"schemaVersion\\\":\\\"2022.8.16\\\"},\\\"use_conventional_cell\\\":true,\\\"termination_top\\\":{\\\"chemical_elements\\\":\\\"BN\\\",\\\"space_group_symmetry_label\\\":\\\"P-6m2_2\\\"},\\\"termination_bottom\\\":null,\\\"number_of_repetitions\\\":1},\\\"build_parameters\\\":{}}],\\\"boundaryConditions\\\":{\\\"type\\\":\\\"pbc\\\",\\\"offset\\\":0}},\\\"name\\\":\\\"BN(001), termination BN_P-6m2_2\\\",\\\"isDefault\\\":false,\\\"formula\\\":\\\"BN\\\",\\\"unitCellFormula\\\":null,\\\"basis\\\":{\\\"elements\\\":[{\\\"id\\\":0,\\\"value\\\":\\\"B\\\"},{\\\"id\\\":1,\\\"value\\\":\\\"N\\\"}],\\\"coordinates\\\":[{\\\"id\\\":0,\\\"value\\\":[0.0,0.0,1e-6]},{\\\"id\\\":1,\\\"value\\\":[0.333333333,0.666666667,1e-6]}],\\\"units\\\":\\\"crystal\\\",\\\"labels\\\":[],\\\"constraints\\\":[]},\\\"lattice\\\":{\\\"a\\\":2.5089955,\\\"b\\\":2.5089955,\\\"c\\\":20.0,\\\"alpha\\\":90.0,\\\"beta\\\":90.0,\\\"gamma\\\":120.0,\\\"units\\\":{\\\"length\\\":\\\"angstrom\\\",\\\"angle\\\":\\\"degree\\\"},\\\"type\\\":\\\"TRI\\\"},\\\"derivedProperties\\\":null,\\\"external\\\":null,\\\"src\\\":null,\\\"scaledHash\\\":null,\\\"icsdId\\\":null,\\\"isNonPeriodic\\\":false,\\\"consistencyChecks\\\":null,\\\"field_id\\\":null,\\\"slug\\\":null,\\\"systemName\\\":null,\\\"schemaVersion\\\":\\\"2022.8.16\\\"},\\\"type\\\":\\\"VacuumConfiguration\\\"}],\\\"direction\\\":\\\"z\\\",\\\"type\\\":\\\"SlabStrainedSupercellConfiguration\\\",\\\"gaps\\\":[]},{\\\"xy_supercell_matrix\\\":[[-7,-4],[-3,-7]],\\\"strain_matrix\\\":[[1.0,0.0,0.0],[0.0,1.0,0.0],[0.0,0.0,1.0]],\\\"stack_components\\\":[{\\\"miller_indices\\\":[0,0,1],\\\"crystal\\\":{\\\"description\\\":null,\\\"descriptionObject\\\":null,\\\"metadata\\\":{\\\"build\\\":[],\\\"boundaryConditions\\\":{\\\"type\\\":\\\"pbc\\\",\\\"offset\\\":0}},\\\"name\\\":\\\"B1 N1\\\",\\\"isDefault\\\":false,\\\"formula\\\":null,\\\"unitCellFormula\\\":null,\\\"basis\\\":{\\\"elements\\\":[{\\\"id\\\":0,\\\"value\\\":\\\"B\\\"},{\\\"id\\\":1,\\\"value\\\":\\\"N\\\"}],\\\"coordinates\\\":[{\\\"id\\\":0,\\\"value\\\":[0.0,0.0,0.5]},{\\\"id\\\":1,\\\"value\\\":[0.333333333,0.666666667,0.5]}],\\\"units\\\":\\\"crystal\\\",\\\"labels\\\":[],\\\"constraints\\\":[]},\\\"lattice\\\":{\\\"a\\\":2.5089955,\\\"b\\\":2.5089955,\\\"c\\\":20.0,\\\"alpha\\\":90.0,\\\"beta\\\":90.0,\\\"gamma\\\":120.0,\\\"units\\\":{\\\"length\\\":\\\"angstrom\\\",\\\"angle\\\":\\\"degree\\\"},\\\"type\\\":\\\"TRI\\\"},\\\"derivedProperties\\\":null,\\\"external\\\":null,\\\"src\\\":null,\\\"scaledHash\\\":null,\\\"icsdId\\\":null,\\\"isNonPeriodic\\\":false,\\\"consistencyChecks\\\":null,\\\"field_id\\\":null,\\\"slug\\\":null,\\\"systemName\\\":null,\\\"schemaVersion\\\":\\\"2022.8.16\\\"},\\\"use_conventional_cell\\\":true,\\\"termination_top\\\":{\\\"chemical_elements\\\":\\\"BN\\\",\\\"space_group_symmetry_label\\\":\\\"P-6m2_2\\\"},\\\"termination_bottom\\\":null,\\\"number_of_repetitions\\\":1},{\\\"direction\\\":\\\"z\\\",\\\"size\\\":0.0,\\\"crystal\\\":{\\\"description\\\":null,\\\"descriptionObject\\\":null,\\\"metadata\\\":{\\\"build\\\":[{\\\"configuration\\\":{\\\"miller_indices\\\":[0,0,1],\\\"crystal\\\":{\\\"description\\\":null,\\\"descriptionObject\\\":null,\\\"metadata\\\":{\\\"build\\\":[],\\\"boundaryConditions\\\":{\\\"type\\\":\\\"pbc\\\",\\\"offset\\\":0}},\\\"name\\\":\\\"B1 N1\\\",\\\"isDefault\\\":false,\\\"formula\\\":null,\\\"unitCellFormula\\\":null,\\\"basis\\\":{\\\"elements\\\":[{\\\"id\\\":0,\\\"value\\\":\\\"B\\\"},{\\\"id\\\":1,\\\"value\\\":\\\"N\\\"}],\\\"coordinates\\\":[{\\\"id\\\":0,\\\"value\\\":[0.0,0.0,0.5]},{\\\"id\\\":1,\\\"value\\\":[0.333333333,0.666666667,0.5]}],\\\"units\\\":\\\"crystal\\\",\\\"labels\\\":[],\\\"constraints\\\":[]},\\\"lattice\\\":{\\\"a\\\":2.5089955,\\\"b\\\":2.5089955,\\\"c\\\":20.0,\\\"alpha\\\":90.0,\\\"beta\\\":90.0,\\\"gamma\\\":120.0,\\\"units\\\":{\\\"length\\\":\\\"angstrom\\\",\\\"angle\\\":\\\"degree\\\"},\\\"type\\\":\\\"TRI\\\"},\\\"derivedProperties\\\":null,\\\"external\\\":null,\\\"src\\\":null,\\\"scaledHash\\\":null,\\\"icsdId\\\":null,\\\"isNonPeriodic\\\":false,\\\"consistencyChecks\\\":null,\\\"field_id\\\":null,\\\"slug\\\":null,\\\"systemName\\\":null,\\\"schemaVersion\\\":\\\"2022.8.16\\\"},\\\"use_conventional_cell\\\":true,\\\"termination_top\\\":{\\\"chemical_elements\\\":\\\"BN\\\",\\\"space_group_symmetry_label\\\":\\\"P-6m2_2\\\"},\\\"termination_bottom\\\":null,\\\"number_of_repetitions\\\":1},\\\"build_parameters\\\":{}}],\\\"boundaryConditions\\\":{\\\"type\\\":\\\"pbc\\\",\\\"offset\\\":0}},\\\"name\\\":\\\"BN(001), termination BN_P-6m2_2\\\",\\\"isDefault\\\":false,\\\"formula\\\":\\\"BN\\\",\\\"unitCellFormula\\\":null,\\\"basis\\\":{\\\"elements\\\":[{\\\"id\\\":0,\\\"value\\\":\\\"B\\\"},{\\\"id\\\":1,\\\"value\\\":\\\"N\\\"}],\\\"coordinates\\\":[{\\\"id\\\":0,\\\"value\\\":[0.0,0.0,1e-6]},{\\\"id\\\":1,\\\"value\\\":[0.333333333,0.666666667,1e-6]}],\\\"units\\\":\\\"crystal\\\",\\\"labels\\\":[],\\\"constraints\\\":[]},\\\"lattice\\\":{\\\"a\\\":2.5089955,\\\"b\\\":2.5089955,\\\"c\\\":20.0,\\\"alpha\\\":90.0,\\\"beta\\\":90.0,\\\"gamma\\\":120.0,\\\"units\\\":{\\\"length\\\":\\\"angstrom\\\",\\\"angle\\\":\\\"degree\\\"},\\\"type\\\":\\\"TRI\\\"},\\\"derivedProperties\\\":null,\\\"external\\\":null,\\\"src\\\":null,\\\"scaledHash\\\":null,\\\"icsdId\\\":null,\\\"isNonPeriodic\\\":false,\\\"consistencyChecks\\\":null,\\\"field_id\\\":null,\\\"slug\\\":null,\\\"systemName\\\":null,\\\"schemaVersion\\\":\\\"2022.8.16\\\"},\\\"type\\\":\\\"VacuumConfiguration\\\"}],\\\"direction\\\":\\\"z\\\",\\\"type\\\":\\\"SlabStrainedSupercellConfiguration\\\",\\\"gaps\\\":[]}],\\\"direction\\\":\\\"x\\\",\\\"actual_angle\\\":9.43,\\\"xy_shift\\\":[0.0,0.0],\\\"type\\\":\\\"GrainBoundaryLinearConfiguration\\\",\\\"gaps\\\":[{\\\"id\\\":0,\\\"value\\\":0.0},{\\\"id\\\":1,\\\"value\\\":0.0}]},\\\"build_parameters\\\":{\\\"make_primitive\\\":true,\\\"max_supercell_matrix_int\\\":null,\\\"limit_max_int\\\":30,\\\"angle_tolerance\\\":0.1,\\\"return_first_match\\\":false,\\\"edge_inclusion_tolerance\\\":1.0,\\\"distance_tolerance\\\":1.0}}],\\\"boundaryConditions\\\":{\\\"type\\\":\\\"pbc\\\",\\\"offset\\\":0}},\\\"name\\\":\\\"BN(001)-BN(001), Linear Grain Boundary, 9.43 degrees\\\",\\\"isDefault\\\":false,\\\"formula\\\":null,\\\"unitCellFormula\\\":null,\\\"basis\\\":{\\\"elements\\\":[{\\\"id\\\":0,\\\"value\\\":\\\"B\\\"},{\\\"id\\\":1,\\\"value\\\":\\\"N\\\"},{\\\"id\\\":2,\\\"value\\\":\\\"B\\\"},{\\\"id\\\":3,\\\"value\\\":\\\"N\\\"},{\\\"id\\\":4,\\\"value\\\":\\\"B\\\"},{\\\"id\\\":5,\\\"value\\\":\\\"N\\\"},{\\\"id\\\":6,\\\"value\\\":\\\"B\\\"},{\\\"id\\\":7,\\\"value\\\":\\\"N\\\"},{\\\"id\\\":8,\\\"value\\\":\\\"B\\\"},{\\\"id\\\":9,\\\"value\\\":\\\"N\\\"},{\\\"id\\\":10,\\\"value\\\":\\\"B\\\"},{\\\"id\\\":11,\\\"value\\\":\\\"N\\\"},{\\\"id\\\":12,\\\"value\\\":\\\"B\\\"},{\\\"id\\\":13,\\\"value\\\":\\\"N\\\"},{\\\"id\\\":14,\\\"value\\\":\\\"B\\\"},{\\\"id\\\":15,\\\"value\\\":\\\"N\\\"},{\\\"id\\\":16,\\\"value\\\":\\\"B\\\"},{\\\"id\\\":17,\\\"value\\\":\\\"N\\\"},{\\\"id\\\":18,\\\"value\\\":\\\"B\\\"},{\\\"id\\\":19,\\\"value\\\":\\\"N\\\"},{\\\"id\\\":20,\\\"value\\\":\\\"B\\\"},{\\\"id\\\":21,\\\"value\\\":\\\"N\\\"},{\\\"id\\\":22,\\\"value\\\":\\\"B\\\"},{\\\"id\\\":23,\\\"value\\\":\\\"N\\\"},{\\\"id\\\":24,\\\"value\\\":\\\"B\\\"},{\\\"id\\\":25,\\\"value\\\":\\\"N\\\"},{\\\"id\\\":26,\\\"value\\\":\\\"B\\\"},{\\\"id\\\":27,\\\"value\\\":\\\"N\\\"},{\\\"id\\\":28,\\\"value\\\":\\\"B\\\"},{\\\"id\\\":29,\\\"value\\\":\\\"N\\\"},{\\\"id\\\":30,\\\"value\\\":\\\"B\\\"},{\\\"id\\\":31,\\\"value\\\":\\\"N\\\"},{\\\"id\\\":32,\\\"value\\\":\\\"B\\\"},{\\\"id\\\":33,\\\"value\\\":\\\"N\\\"},{\\\"id\\\":34,\\\"value\\\":\\\"B\\\"},{\\\"id\\\":35,\\\"value\\\":\\\"N\\\"},{\\\"id\\\":36,\\\"value\\\":\\\"B\\\"},{\\\"id\\\":37,\\\"value\\\":\\\"N\\\"},{\\\"id\\\":38,\\\"value\\\":\\\"B\\\"},{\\\"id\\\":39,\\\"value\\\":\\\"N\\\"},{\\\"id\\\":40,\\\"value\\\":\\\"B\\\"},{\\\"id\\\":41,\\\"value\\\":\\\"N\\\"},{\\\"id\\\":42,\\\"value\\\":\\\"B\\\"},{\\\"id\\\":43,\\\"value\\\":\\\"N\\\"},{\\\"id\\\":44,\\\"value\\\":\\\"B\\\"},{\\\"id\\\":45,\\\"value\\\":\\\"N\\\"},{\\\"id\\\":46,\\\"value\\\":\\\"B\\\"},{\\\"id\\\":47,\\\"value\\\":\\\"N\\\"},{\\\"id\\\":48,\\\"value\\\":\\\"B\\\"},{\\\"id\\\":49,\\\"value\\\":\\\"N\\\"},{\\\"id\\\":50,\\\"value\\\":\\\"B\\\"},{\\\"id\\\":51,\\\"value\\\":\\\"N\\\"},{\\\"id\\\":52,\\\"value\\\":\\\"B\\\"},{\\\"id\\\":53,\\\"value\\\":\\\"N\\\"},{\\\"id\\\":54,\\\"value\\\":\\\"B\\\"},{\\\"id\\\":55,\\\"value\\\":\\\"N\\\"},{\\\"id\\\":56,\\\"value\\\":\\\"B\\\"},{\\\"id\\\":57,\\\"value\\\":\\\"N\\\"},{\\\"id\\\":58,\\\"value\\\":\\\"B\\\"},{\\\"id\\\":59,\\\"value\\\":\\\"N\\\"},{\\\"id\\\":60,\\\"value\\\":\\\"B\\\"},{\\\"id\\\":61,\\\"value\\\":\\\"N\\\"},{\\\"id\\\":62,\\\"value\\\":\\\"B\\\"},{\\\"id\\\":63,\\\"value\\\":\\\"N\\\"},{\\\"id\\\":64,\\\"value\\\":\\\"B\\\"},{\\\"id\\\":65,\\\"value\\\":\\\"N\\\"},{\\\"id\\\":66,\\\"value\\\":\\\"B\\\"},{\\\"id\\\":67,\\\"value\\\":\\\"N\\\"},{\\\"id\\\":68,\\\"value\\\":\\\"B\\\"},{\\\"id\\\":69,\\\"value\\\":\\\"N\\\"},{\\\"id\\\":70,\\\"value\\\":\\\"B\\\"},{\\\"id\\\":71,\\\"value\\\":\\\"N\\\"},{\\\"id\\\":72,\\\"value\\\":\\\"B\\\"},{\\\"id\\\":73,\\\"value\\\":\\\"N\\\"},{\\\"id\\\":74,\\\"value\\\":\\\"B\\\"},{\\\"id\\\":75,\\\"value\\\":\\\"N\\\"},{\\\"id\\\":76,\\\"value\\\":\\\"B\\\"},{\\\"id\\\":77,\\\"value\\\":\\\"N\\\"},{\\\"id\\\":78,\\\"value\\\":\\\"B\\\"},{\\\"id\\\":79,\\\"value\\\":\\\"N\\\"},{\\\"id\\\":80,\\\"value\\\":\\\"B\\\"},{\\\"id\\\":81,\\\"value\\\":\\\"N\\\"},{\\\"id\\\":82,\\\"value\\\":\\\"B\\\"},{\\\"id\\\":83,\\\"value\\\":\\\"N\\\"},{\\\"id\\\":84,\\\"value\\\":\\\"B\\\"},{\\\"id\\\":85,\\\"value\\\":\\\"N\\\"},{\\\"id\\\":86,\\\"value\\\":\\\"B\\\"},{\\\"id\\\":87,\\\"value\\\":\\\"N\\\"},{\\\"id\\\":88,\\\"value\\\":\\\"B\\\"},{\\\"id\\\":89,\\\"value\\\":\\\"N\\\"},{\\\"id\\\":90,\\\"value\\\":\\\"B\\\"},{\\\"id\\\":91,\\\"value\\\":\\\"N\\\"},{\\\"id\\\":92,\\\"value\\\":\\\"B\\\"},{\\\"id\\\":93,\\\"value\\\":\\\"N\\\"},{\\\"id\\\":94,\\\"value\\\":\\\"B\\\"},{\\\"id\\\":95,\\\"value\\\":\\\"N\\\"},{\\\"id\\\":96,\\\"value\\\":\\\"B\\\"},{\\\"id\\\":97,\\\"value\\\":\\\"N\\\"},{\\\"id\\\":98,\\\"value\\\":\\\"B\\\"},{\\\"id\\\":99,\\\"value\\\":\\\"N\\\"},{\\\"id\\\":100,\\\"value\\\":\\\"B\\\"},{\\\"id\\\":101,\\\"value\\\":\\\"N\\\"},{\\\"id\\\":102,\\\"value\\\":\\\"B\\\"},{\\\"id\\\":103,\\\"value\\\":\\\"N\\\"},{\\\"id\\\":104,\\\"value\\\":\\\"B\\\"},{\\\"id\\\":105,\\\"value\\\":\\\"N\\\"},{\\\"id\\\":106,\\\"value\\\":\\\"B\\\"},{\\\"id\\\":107,\\\"value\\\":\\\"N\\\"},{\\\"id\\\":108,\\\"value\\\":\\\"B\\\"},{\\\"id\\\":109,\\\"value\\\":\\\"N\\\"},{\\\"id\\\":110,\\\"value\\\":\\\"B\\\"},{\\\"id\\\":111,\\\"value\\\":\\\"N\\\"},{\\\"id\\\":112,\\\"value\\\":\\\"B\\\"},{\\\"id\\\":113,\\\"value\\\":\\\"N\\\"},{\\\"id\\\":114,\\\"value\\\":\\\"B\\\"},{\\\"id\\\":115,\\\"value\\\":\\\"N\\\"},{\\\"id\\\":116,\\\"value\\\":\\\"B\\\"},{\\\"id\\\":117,\\\"value\\\":\\\"N\\\"},{\\\"id\\\":118,\\\"value\\\":\\\"B\\\"},{\\\"id\\\":119,\\\"value\\\":\\\"N\\\"},{\\\"id\\\":120,\\\"value\\\":\\\"B\\\"},{\\\"id\\\":121,\\\"value\\\":\\\"N\\\"},{\\\"id\\\":122,\\\"value\\\":\\\"B\\\"},{\\\"id\\\":123,\\\"value\\\":\\\"N\\\"},{\\\"id\\\":124,\\\"value\\\":\\\"B\\\"},{\\\"id\\\":125,\\\"value\\\":\\\"N\\\"},{\\\"id\\\":126,\\\"value\\\":\\\"B\\\"},{\\\"id\\\":127,\\\"value\\\":\\\"N\\\"},{\\\"id\\\":128,\\\"value\\\":\\\"B\\\"},{\\\"id\\\":129,\\\"value\\\":\\\"N\\\"},{\\\"id\\\":130,\\\"value\\\":\\\"B\\\"},{\\\"id\\\":131,\\\"value\\\":\\\"N\\\"},{\\\"id\\\":132,\\\"value\\\":\\\"B\\\"},{\\\"id\\\":133,\\\"value\\\":\\\"N\\\"},{\\\"id\\\":134,\\\"value\\\":\\\"B\\\"},{\\\"id\\\":135,\\\"value\\\":\\\"N\\\"},{\\\"id\\\":136,\\\"value\\\":\\\"B\\\"},{\\\"id\\\":137,\\\"value\\\":\\\"N\\\"},{\\\"id\\\":138,\\\"value\\\":\\\"B\\\"},{\\\"id\\\":139,\\\"value\\\":\\\"N\\\"},{\\\"id\\\":140,\\\"value\\\":\\\"B\\\"},{\\\"id\\\":141,\\\"value\\\":\\\"N\\\"},{\\\"id\\\":142,\\\"value\\\":\\\"B\\\"},{\\\"id\\\":143,\\\"value\\\":\\\"N\\\"},{\\\"id\\\":144,\\\"value\\\":\\\"B\\\"},{\\\"id\\\":145,\\\"value\\\":\\\"N\\\"}],\\\"coordinates\\\":[{\\\"id\\\":0,\\\"value\\\":[0.465750331,0.891891892,1e-6]},{\\\"id\\\":1,\\\"value\\\":[0.470316511,0.792792793,1e-6]},{\\\"id\\\":2,\\\"value\\\":[0.369860557,0.972972973,1e-6]},{\\\"id\\\":3,\\\"value\\\":[0.374426737,0.873873874,1e-6]},{\\\"id\\\":4,\\\"value\\\":[0.424654714,0.783783784,1e-6]},{\\\"id\\\":5,\\\"value\\\":[0.429220893,0.684684685,1e-6]},{\\\"id\\\":6,\\\"value\\\":[0.47944887,0.594594595,1e-6]},{\\\"id\\\":7,\\\"value\\\":[0.48401505,0.495495495,1e-6]},{\\\"id\\\":8,\\\"value\\\":[0.32876494,0.864864865,1e-6]},{\\\"id\\\":9,\\\"value\\\":[0.333331119,0.765765766,1e-6]},{\\\"id\\\":10,\\\"value\\\":[0.383559096,0.675675676,1e-6]},{\\\"id\\\":11,\\\"value\\\":[0.388125276,0.576576576,1e-6]},{\\\"id\\\":12,\\\"value\\\":[0.438353253,0.486486486,1e-6]},{\\\"id\\\":13,\\\"value\\\":[0.442919433,0.387387387,1e-6]},{\\\"id\\\":14,\\\"value\\\":[0.232875165,0.945945946,1e-6]},{\\\"id\\\":15,\\\"value\\\":[0.237441346,0.846846847,1e-6]},{\\\"id\\\":16,\\\"value\\\":[0.287669322,0.756756757,1e-6]},{\\\"id\\\":17,\\\"value\\\":[0.292235502,0.657657658,1e-6]},{\\\"id\\\":18,\\\"value\\\":[0.342463479,0.567567568,1e-6]},{\\\"id\\\":19,\\\"value\\\":[0.347029659,0.468468468,1e-6]},{\\\"id\\\":20,\\\"value\\\":[0.397257635,0.378378378,1e-6]},{\\\"id\\\":21,\\\"value\\\":[0.401823815,0.279279279,1e-6]},{\\\"id\\\":22,\\\"value\\\":[0.452051792,0.189189189,1e-6]},{\\\"id\\\":23,\\\"value\\\":[0.456617972,0.09009009,1e-6]},{\\\"id\\\":24,\\\"value\\\":[0.191779548,0.837837838,1e-6]},{\\\"id\\\":25,\\\"value\\\":[0.196345728,0.738738739,1e-6]},{\\\"id\\\":26,\\\"value\\\":[0.246573704,0.648648649,1e-6]},{\\\"id\\\":27,\\\"value\\\":[0.251139885,0.549549549,1e-6]},{\\\"id\\\":28,\\\"value\\\":[0.301367861,0.459459459,1e-6]},{\\\"id\\\":29,\\\"value\\\":[0.305934041,0.36036036,1e-6]},{\\\"id\\\":30,\\\"value\\\":[0.356162018,0.27027027,1e-6]},{\\\"id\\\":31,\\\"value\\\":[0.360728198,0.171171171,1e-6]},{\\\"id\\\":32,\\\"value\\\":[0.410956175,0.081081081,1e-6]},{\\\"id\\\":33,\\\"value\\\":[0.415522354,0.981981982,1e-6]},{\\\"id\\\":34,\\\"value\\\":[0.095889774,0.918918919,1e-6]},{\\\"id\\\":35,\\\"value\\\":[0.100455954,0.81981982,1e-6]},{\\\"id\\\":36,\\\"value\\\":[0.15068393,0.72972973,1e-6]},{\\\"id\\\":37,\\\"value\\\":[0.15525011,0.630630631,1e-6]},{\\\"id\\\":38,\\\"value\\\":[0.205478087,0.540540541,1e-6]},{\\\"id\\\":39,\\\"value\\\":[0.210044267,0.441441441,1e-6]},{\\\"id\\\":40,\\\"value\\\":[0.260272244,0.351351351,1e-6]},{\\\"id\\\":41,\\\"value\\\":[0.264838424,0.252252252,1e-6]},{\\\"id\\\":42,\\\"value\\\":[0.315066401,0.162162162,1e-6]},{\\\"id\\\":43,\\\"value\\\":[0.31963258,0.063063063,1e-6]},{\\\"id\\\":44,\\\"value\\\":[0.054794157,0.810810811,1e-6]},{\\\"id\\\":45,\\\"value\\\":[0.059360336,0.711711712,1e-6]},{\\\"id\\\":46,\\\"value\\\":[0.109588313,0.621621622,1e-6]},{\\\"id\\\":47,\\\"value\\\":[0.114154493,0.522522522,1e-6]},{\\\"id\\\":48,\\\"value\\\":[0.16438247,0.432432432,1e-6]},{\\\"id\\\":49,\\\"value\\\":[0.168948649,0.333333333,1e-6]},{\\\"id\\\":50,\\\"value\\\":[0.219176626,0.243243243,1e-6]},{\\\"id\\\":51,\\\"value\\\":[0.223742806,0.144144144,1e-6]},{\\\"id\\\":52,\\\"value\\\":[0.273970783,0.054054054,1e-6]},{\\\"id\\\":53,\\\"value\\\":[0.278536963,0.954954955,1e-6]},{\\\"id\\\":54,\\\"value\\\":[0.013698539,0.702702703,1e-6]},{\\\"id\\\":55,\\\"value\\\":[0.018264719,0.603603604,1e-6]},{\\\"id\\\":56,\\\"value\\\":[0.068492696,0.513513514,1e-6]},{\\\"id\\\":57,\\\"value\\\":[0.073058875,0.414414414,1e-6]},{\\\"id\\\":58,\\\"value\\\":[0.123286852,0.324324324,1e-6]},{\\\"id\\\":59,\\\"value\\\":[0.127853032,0.225225225,1e-6]},{\\\"id\\\":60,\\\"value\\\":[0.178081009,0.135135135,1e-6]},{\\\"id\\\":61,\\\"value\\\":[0.182647188,0.036036036,1e-6]},{\\\"id\\\":62,\\\"value\\\":[0.027397078,0.405405405,1e-6]},{\\\"id\\\":63,\\\"value\\\":[0.031963258,0.306306306,1e-6]},{\\\"id\\\":64,\\\"value\\\":[0.082191235,0.216216216,1e-6]},{\\\"id\\\":65,\\\"value\\\":[0.086757415,0.117117117,1e-6]},{\\\"id\\\":66,\\\"value\\\":[0.136985391,0.027027027,1e-6]},{\\\"id\\\":67,\\\"value\\\":[0.141551571,0.927927928,1e-6]},{\\\"id\\\":68,\\\"value\\\":[0.041095617,0.108108108,1e-6]},{\\\"id\\\":69,\\\"value\\\":[0.045661797,0.009009009,1e-6]},{\\\"id\\\":70,\\\"value\\\":[0.0,0.0,1e-6]},{\\\"id\\\":71,\\\"value\\\":[0.00456618,0.900900901,1e-6]},{\\\"id\\\":72,\\\"value\\\":[0.949768702,0.918918919,1e-6]},{\\\"id\\\":73,\\\"value\\\":[0.945202522,0.828828829,1e-6]},{\\\"id\\\":74,\\\"value\\\":[0.990864319,0.72972973,1e-6]},{\\\"id\\\":75,\\\"value\\\":[0.98629814,0.63963964,1e-6]},{\\\"id\\\":76,\\\"value\\\":[0.894974545,0.837837838,1e-6]},{\\\"id\\\":77,\\\"value\\\":[0.890408366,0.747747748,1e-6]},{\\\"id\\\":78,\\\"value\\\":[0.936070163,0.648648649,1e-6]},{\\\"id\\\":79,\\\"value\\\":[0.931503983,0.558558558,1e-6]},{\\\"id\\\":80,\\\"value\\\":[0.97716578,0.459459459,1e-6]},{\\\"id\\\":81,\\\"value\\\":[0.972599601,0.369369369,1e-6]},{\\\"id\\\":82,\\\"value\\\":[0.799084771,0.945945946,1e-6]},{\\\"id\\\":83,\\\"value\\\":[0.794518592,0.855855856,1e-6]},{\\\"id\\\":84,\\\"value\\\":[0.840180389,0.756756757,1e-6]},{\\\"id\\\":85,\\\"value\\\":[0.835614209,0.666666667,1e-6]},{\\\"id\\\":86,\\\"value\\\":[0.881276006,0.567567568,1e-6]},{\\\"id\\\":87,\\\"value\\\":[0.876709827,0.477477477,1e-6]},{\\\"id\\\":88,\\\"value\\\":[0.922371624,0.378378378,1e-6]},{\\\"id\\\":89,\\\"value\\\":[0.917805444,0.288288288,1e-6]},{\\\"id\\\":90,\\\"value\\\":[0.963467241,0.189189189,1e-6]},{\\\"id\\\":91,\\\"value\\\":[0.958901061,0.099099099,1e-6]},{\\\"id\\\":92,\\\"value\\\":[0.744290614,0.864864865,1e-6]},{\\\"id\\\":93,\\\"value\\\":[0.739724435,0.774774775,1e-6]},{\\\"id\\\":94,\\\"value\\\":[0.785386232,0.675675676,1e-6]},{\\\"id\\\":95,\\\"value\\\":[0.780820053,0.585585585,1e-6]},{\\\"id\\\":96,\\\"value\\\":[0.82648185,0.486486486,1e-6]},{\\\"id\\\":97,\\\"value\\\":[0.82191567,0.396396396,1e-6]},{\\\"id\\\":98,\\\"value\\\":[0.867577467,0.297297297,1e-6]},{\\\"id\\\":99,\\\"value\\\":[0.863011287,0.207207207,1e-6]},{\\\"id\\\":100,\\\"value\\\":[0.908673085,0.108108108,1e-6]},{\\\"id\\\":101,\\\"value\\\":[0.904106905,0.018018018,1e-6]},{\\\"id\\\":102,\\\"value\\\":[0.64840084,0.972972973,1e-6]},{\\\"id\\\":103,\\\"value\\\":[0.643834661,0.882882883,1e-6]},{\\\"id\\\":104,\\\"value\\\":[0.689496458,0.783783784,1e-6]},{\\\"id\\\":105,\\\"value\\\":[0.684930278,0.693693694,1e-6]},{\\\"id\\\":106,\\\"value\\\":[0.730592075,0.594594595,1e-6]},{\\\"id\\\":107,\\\"value\\\":[0.726025896,0.504504504,1e-6]},{\\\"id\\\":108,\\\"value\\\":[0.771687693,0.405405405,1e-6]},{\\\"id\\\":109,\\\"value\\\":[0.767121514,0.315315315,1e-6]},{\\\"id\\\":110,\\\"value\\\":[0.812783311,0.216216216,1e-6]},{\\\"id\\\":111,\\\"value\\\":[0.808217131,0.126126126,1e-6]},{\\\"id\\\":112,\\\"value\\\":[0.853878928,0.027027027,1e-6]},{\\\"id\\\":113,\\\"value\\\":[0.849312748,0.936936937,1e-6]},{\\\"id\\\":114,\\\"value\\\":[0.593606684,0.891891892,1e-6]},{\\\"id\\\":115,\\\"value\\\":[0.589040504,0.801801802,1e-6]},{\\\"id\\\":116,\\\"value\\\":[0.634702301,0.702702703,1e-6]},{\\\"id\\\":117,\\\"value\\\":[0.630136122,0.612612613,1e-6]},{\\\"id\\\":118,\\\"value\\\":[0.675797919,0.513513514,1e-6]},{\\\"id\\\":119,\\\"value\\\":[0.671231739,0.423423423,1e-6]},{\\\"id\\\":120,\\\"value\\\":[0.716893536,0.324324324,1e-6]},{\\\"id\\\":121,\\\"value\\\":[0.712327357,0.234234234,1e-6]},{\\\"id\\\":122,\\\"value\\\":[0.757989154,0.135135135,1e-6]},{\\\"id\\\":123,\\\"value\\\":[0.753422974,0.045045045,1e-6]},{\\\"id\\\":124,\\\"value\\\":[0.538812527,0.810810811,1e-6]},{\\\"id\\\":125,\\\"value\\\":[0.534246348,0.720720721,1e-6]},{\\\"id\\\":126,\\\"value\\\":[0.579908145,0.621621622,1e-6]},{\\\"id\\\":127,\\\"value\\\":[0.575341965,0.531531531,1e-6]},{\\\"id\\\":128,\\\"value\\\":[0.621003762,0.432432432,1e-6]},{\\\"id\\\":129,\\\"value\\\":[0.616437583,0.342342342,1e-6]},{\\\"id\\\":130,\\\"value\\\":[0.66209938,0.243243243,1e-6]},{\\\"id\\\":131,\\\"value\\\":[0.6575332,0.153153153,1e-6]},{\\\"id\\\":132,\\\"value\\\":[0.703194997,0.054054054,1e-6]},{\\\"id\\\":133,\\\"value\\\":[0.698628817,0.963963964,1e-6]},{\\\"id\\\":134,\\\"value\\\":[0.525113988,0.540540541,1e-6]},{\\\"id\\\":135,\\\"value\\\":[0.520547809,0.45045045,1e-6]},{\\\"id\\\":136,\\\"value\\\":[0.566209606,0.351351351,1e-6]},{\\\"id\\\":137,\\\"value\\\":[0.561643426,0.261261261,1e-6]},{\\\"id\\\":138,\\\"value\\\":[0.607305223,0.162162162,1e-6]},{\\\"id\\\":139,\\\"value\\\":[0.602739043,0.072072072,1e-6]},{\\\"id\\\":140,\\\"value\\\":[0.511415449,0.27027027,1e-6]},{\\\"id\\\":141,\\\"value\\\":[0.506849269,0.18018018,1e-6]},{\\\"id\\\":142,\\\"value\\\":[0.552511067,0.081081081,1e-6]},{\\\"id\\\":143,\\\"value\\\":[0.547944887,0.990990991,1e-6]},{\\\"id\\\":144,\\\"value\\\":[0.49771691,0.0,1e-6]},{\\\"id\\\":145,\\\"value\\\":[0.999996679,0.90990991,1e-6]}],\\\"units\\\":\\\"crystal\\\",\\\"labels\\\":[{\\\"id\\\":0,\\\"value\\\":0},{\\\"id\\\":1,\\\"value\\\":0},{\\\"id\\\":2,\\\"value\\\":0},{\\\"id\\\":3,\\\"value\\\":0},{\\\"id\\\":4,\\\"value\\\":0},{\\\"id\\\":5,\\\"value\\\":0},{\\\"id\\\":6,\\\"value\\\":0},{\\\"id\\\":7,\\\"value\\\":0},{\\\"id\\\":8,\\\"value\\\":0},{\\\"id\\\":9,\\\"value\\\":0},{\\\"id\\\":10,\\\"value\\\":0},{\\\"id\\\":11,\\\"value\\\":0},{\\\"id\\\":12,\\\"value\\\":0},{\\\"id\\\":13,\\\"value\\\":0},{\\\"id\\\":14,\\\"value\\\":0},{\\\"id\\\":15,\\\"value\\\":0},{\\\"id\\\":16,\\\"value\\\":0},{\\\"id\\\":17,\\\"value\\\":0},{\\\"id\\\":18,\\\"value\\\":0},{\\\"id\\\":19,\\\"value\\\":0},{\\\"id\\\":20,\\\"value\\\":0},{\\\"id\\\":21,\\\"value\\\":0},{\\\"id\\\":22,\\\"value\\\":0},{\\\"id\\\":23,\\\"value\\\":0},{\\\"id\\\":24,\\\"value\\\":0},{\\\"id\\\":25,\\\"value\\\":0},{\\\"id\\\":26,\\\"value\\\":0},{\\\"id\\\":27,\\\"value\\\":0},{\\\"id\\\":28,\\\"value\\\":0},{\\\"id\\\":29,\\\"value\\\":0},{\\\"id\\\":30,\\\"value\\\":0},{\\\"id\\\":31,\\\"value\\\":0},{\\\"id\\\":32,\\\"value\\\":0},{\\\"id\\\":33,\\\"value\\\":0},{\\\"id\\\":34,\\\"value\\\":0},{\\\"id\\\":35,\\\"value\\\":0},{\\\"id\\\":36,\\\"value\\\":0},{\\\"id\\\":37,\\\"value\\\":0},{\\\"id\\\":38,\\\"value\\\":0},{\\\"id\\\":39,\\\"value\\\":0},{\\\"id\\\":40,\\\"value\\\":0},{\\\"id\\\":41,\\\"value\\\":0},{\\\"id\\\":42,\\\"value\\\":0},{\\\"id\\\":43,\\\"value\\\":0},{\\\"id\\\":44,\\\"value\\\":0},{\\\"id\\\":45,\\\"value\\\":0},{\\\"id\\\":46,\\\"value\\\":0},{\\\"id\\\":47,\\\"value\\\":0},{\\\"id\\\":48,\\\"value\\\":0},{\\\"id\\\":49,\\\"value\\\":0},{\\\"id\\\":50,\\\"value\\\":0},{\\\"id\\\":51,\\\"value\\\":0},{\\\"id\\\":52,\\\"value\\\":0},{\\\"id\\\":53,\\\"value\\\":0},{\\\"id\\\":54,\\\"value\\\":0},{\\\"id\\\":55,\\\"value\\\":0},{\\\"id\\\":56,\\\"value\\\":0},{\\\"id\\\":57,\\\"value\\\":0},{\\\"id\\\":58,\\\"value\\\":0},{\\\"id\\\":59,\\\"value\\\":0},{\\\"id\\\":60,\\\"value\\\":0},{\\\"id\\\":61,\\\"value\\\":0},{\\\"id\\\":62,\\\"value\\\":0},{\\\"id\\\":63,\\\"value\\\":0},{\\\"id\\\":64,\\\"value\\\":0},{\\\"id\\\":65,\\\"value\\\":0},{\\\"id\\\":66,\\\"value\\\":0},{\\\"id\\\":67,\\\"value\\\":0},{\\\"id\\\":68,\\\"value\\\":0},{\\\"id\\\":69,\\\"value\\\":0},{\\\"id\\\":70,\\\"value\\\":0},{\\\"id\\\":71,\\\"value\\\":0},{\\\"id\\\":72,\\\"value\\\":1},{\\\"id\\\":73,\\\"value\\\":1},{\\\"id\\\":74,\\\"value\\\":1},{\\\"id\\\":75,\\\"value\\\":1},{\\\"id\\\":76,\\\"value\\\":1},{\\\"id\\\":77,\\\"value\\\":1},{\\\"id\\\":78,\\\"value\\\":1},{\\\"id\\\":79,\\\"value\\\":1},{\\\"id\\\":80,\\\"value\\\":1},{\\\"id\\\":81,\\\"value\\\":1},{\\\"id\\\":82,\\\"value\\\":1},{\\\"id\\\":83,\\\"value\\\":1},{\\\"id\\\":84,\\\"value\\\":1},{\\\"id\\\":85,\\\"value\\\":1},{\\\"id\\\":86,\\\"value\\\":1},{\\\"id\\\":87,\\\"value\\\":1},{\\\"id\\\":88,\\\"value\\\":1},{\\\"id\\\":89,\\\"value\\\":1},{\\\"id\\\":90,\\\"value\\\":1},{\\\"id\\\":91,\\\"value\\\":1},{\\\"id\\\":92,\\\"value\\\":1},{\\\"id\\\":93,\\\"value\\\":1},{\\\"id\\\":94,\\\"value\\\":1},{\\\"id\\\":95,\\\"value\\\":1},{\\\"id\\\":96,\\\"value\\\":1},{\\\"id\\\":97,\\\"value\\\":1},{\\\"id\\\":98,\\\"value\\\":1},{\\\"id\\\":99,\\\"value\\\":1},{\\\"id\\\":100,\\\"value\\\":1},{\\\"id\\\":101,\\\"value\\\":1},{\\\"id\\\":102,\\\"value\\\":1},{\\\"id\\\":103,\\\"value\\\":1},{\\\"id\\\":104,\\\"value\\\":1},{\\\"id\\\":105,\\\"value\\\":1},{\\\"id\\\":106,\\\"value\\\":1},{\\\"id\\\":107,\\\"value\\\":1},{\\\"id\\\":108,\\\"value\\\":1},{\\\"id\\\":109,\\\"value\\\":1},{\\\"id\\\":110,\\\"value\\\":1},{\\\"id\\\":111,\\\"value\\\":1},{\\\"id\\\":112,\\\"value\\\":1},{\\\"id\\\":113,\\\"value\\\":1},{\\\"id\\\":114,\\\"value\\\":1},{\\\"id\\\":115,\\\"value\\\":1},{\\\"id\\\":116,\\\"value\\\":1},{\\\"id\\\":117,\\\"value\\\":1},{\\\"id\\\":118,\\\"value\\\":1},{\\\"id\\\":119,\\\"value\\\":1},{\\\"id\\\":120,\\\"value\\\":1},{\\\"id\\\":121,\\\"value\\\":1},{\\\"id\\\":122,\\\"value\\\":1},{\\\"id\\\":123,\\\"value\\\":1},{\\\"id\\\":124,\\\"value\\\":1},{\\\"id\\\":125,\\\"value\\\":1},{\\\"id\\\":126,\\\"value\\\":1},{\\\"id\\\":127,\\\"value\\\":1},{\\\"id\\\":128,\\\"value\\\":1},{\\\"id\\\":129,\\\"value\\\":1},{\\\"id\\\":130,\\\"value\\\":1},{\\\"id\\\":131,\\\"value\\\":1},{\\\"id\\\":132,\\\"value\\\":1},{\\\"id\\\":133,\\\"value\\\":1},{\\\"id\\\":134,\\\"value\\\":1},{\\\"id\\\":135,\\\"value\\\":1},{\\\"id\\\":136,\\\"value\\\":1},{\\\"id\\\":137,\\\"value\\\":1},{\\\"id\\\":138,\\\"value\\\":1},{\\\"id\\\":139,\\\"value\\\":1},{\\\"id\\\":140,\\\"value\\\":1},{\\\"id\\\":141,\\\"value\\\":1},{\\\"id\\\":142,\\\"value\\\":1},{\\\"id\\\":143,\\\"value\\\":1},{\\\"id\\\":144,\\\"value\\\":1},{\\\"id\\\":145,\\\"value\\\":1}],\\\"constraints\\\":[]},\\\"lattice\\\":{\\\"a\\\":30.110971313,\\\"b\\\":15.261623816,\\\"c\\\":20.0,\\\"alpha\\\":90.0,\\\"beta\\\":90.0,\\\"gamma\\\":60.0,\\\"units\\\":{\\\"length\\\":\\\"angstrom\\\",\\\"angle\\\":\\\"degree\\\"},\\\"type\\\":\\\"TRI\\\"},\\\"derivedProperties\\\":null,\\\"external\\\":null,\\\"src\\\":null,\\\"scaledHash\\\":null,\\\"icsdId\\\":null,\\\"isNonPeriodic\\\":false,\\\"consistencyChecks\\\":null,\\\"field_id\\\":null,\\\"slug\\\":null,\\\"systemName\\\":null,\\\"schemaVersion\\\":\\\"2022.8.16\\\"}\"`;\n    var filename = `grain_boundary_2d_boron_nitride.json`;\n    var blob = new Blob([content], { type: 'application/json' });\n    var link = document.createElement('a');\n    link.href = window.URL.createObjectURL(blob);\n    link.download = filename;\n    document.body.appendChild(link);\n    link.click();\n    document.body.removeChild(link);\n    "
     },
     "metadata": {},
     "output_type": "display_data"
    }
   ],
   "execution_count": 16
  }
 ],
 "metadata": {
  "kernelspec": {
   "display_name": "Python 3",
   "language": "python",
   "name": "python3"
  },
  "language_info": {
   "codemirror_mode": {
    "name": "ipython",
    "version": 2
   },
   "file_extension": ".py",
   "mimetype": "text/x-python",
   "name": "python",
   "nbconvert_exporter": "python",
   "pygments_lexer": "ipython2",
   "version": "2.7.6"
  }
 },
 "nbformat": 4,
 "nbformat_minor": 5
}
