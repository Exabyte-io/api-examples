{
 "cells": [
  {
   "cell_type": "markdown",
   "id": "0",
   "metadata": {},
   "source": [
    "# Create High-k Metal Gate Stack Tutorial (Simplified)\n",
    "\n",
    "This notebook demonstrates how to create a high-k metal gate stack heterostructure with four materials: Si (substrate), SiO2 (gate oxide), HfO2 (high-k dielectric), and TiN (metal gate) using the **new simplified `create_heterostructure` function**.\n",
    "\n",
    "This approach replaces the complex multi-step interface creation with a single function call that automatically handles strain matching and layer stacking.\n",
    "\n",
    "We'll create a representation of the material from the [QuantumATK tutorial](https://docs.quantumatk.com/tutorials/hkmg_builder/hkmg_builder.html) without the amorphous step.\n",
    "\n",
    "<img src=\"https://docs.quantumatk.com/_images/update_square_default_stack.png\" alt=\"High-k Metal Gate Stack\" width=\"700\"/>\n",
    "\n",
    "## Key Improvements:\n",
    "- **Simplified Configuration**: Replace complex `SimpleNamespace` structures with simple lists\n",
    "- **Single Function Call**: Use `create_heterostructure()` instead of manual interface creation\n",
    "- **Automatic Optimization**: Built-in strain matching and supercell optimization\n"
   ]
  },
  {
   "cell_type": "markdown",
   "id": "1",
   "metadata": {},
   "source": [
    "## 1. Configuration Parameters\n"
   ]
  },
  {
   "cell_type": "code",
   "execution_count": null,
   "id": "2",
   "metadata": {},
   "outputs": [],
   "source": [
    "from types import SimpleNamespace\n",
    "\n",
    "# Structure parameters for each layer\n",
    "STRUCTURE_PARAMS = [\n",
    "    SimpleNamespace(\n",
    "        # Silicon substrate\n",
    "        name = \"Silicon\",\n",
    "        slab_params=SimpleNamespace(\n",
    "            miller_indices=(0, 0, 1),\n",
    "            thickness=3,  # atomic layers\n",
    "            # xy_supercell_matrix=[[2, 0], [0, 2]],\n",
    "        ),\n",
    "        termination_formula=None,  # Use default termination for substrate\n",
    "    ),\n",
    "    SimpleNamespace(\n",
    "        # SiO2 layer\n",
    "        name = \"SiO2\",\n",
    "        slab_params=SimpleNamespace(\n",
    "            miller_indices=(1, 1, 1),\n",
    "            thickness=4,\n",
    "        ),\n",
    "        termination_formula=None,  # Use default termination for SiO2\n",
    "    ),\n",
    "    SimpleNamespace(\n",
    "        # HfO2 layer\n",
    "        name = \"Hafnium.*MCL\",\n",
    "        slab_params=SimpleNamespace(\n",
    "            miller_indices=(0, 0, 1),\n",
    "            thickness=2,\n",
    "        ),\n",
    "        termination_formula=None,  # Use default termination for HfO2\n",
    "    ),\n",
    "    SimpleNamespace(\n",
    "        # TiN layer\n",
    "        name = \"TiN\",\n",
    "        slab_params=SimpleNamespace(\n",
    "            miller_indices=(1, 1, 1),\n",
    "            thickness=5,\n",
    "        ),\n",
    "        termination_formula=None,  # Use default termination for TiN\n",
    "    )\n",
    "]\n",
    "\n",
    "# Gaps between layers, in Angstroms\n",
    "GAPS = [1.0, 1.0, 1.0]\n",
    "\n",
    "# Vacuum thickness over the heterostructure, in Angstroms\n",
    "VACUUM = 10.0"
   ]
  },
  {
   "cell_type": "markdown",
   "id": "3",
   "metadata": {},
   "source": [
    "### 1.2. Install Packages\n",
    "The step executes only in Pyodide environment. For other environments, the packages should be installed via `pip install` (see [README](../../README.ipynb))."
   ]
  },
  {
   "cell_type": "code",
   "execution_count": null,
   "id": "4",
   "metadata": {},
   "outputs": [],
   "source": [
    "import sys\n",
    "\n",
    "if sys.platform == \"emscripten\":\n",
    "    import micropip\n",
    "\n",
    "    await micropip.install(\"mat3ra-api-examples\", deps=False)\n",
    "    await micropip.install('mat3ra-utils')\n",
    "    from mat3ra.utils.jupyterlite.packages import install_packages\n",
    "\n",
    "    await install_packages(\"specific_examples\")"
   ]
  },
  {
   "cell_type": "markdown",
   "id": "5",
   "metadata": {},
   "source": [
    "### 1.3. Get input material\n",
    "In this notebook we will use materials from Standata."
   ]
  },
  {
   "cell_type": "code",
   "execution_count": null,
   "id": "6",
   "metadata": {},
   "outputs": [],
   "source": [
    "from mat3ra.standata.materials import Materials\n",
    "from mat3ra.made.tools.build import MaterialWithBuildMetadata\n",
    "from mat3ra.made.tools.helpers import StackComponentDict\n",
    "\n",
    "# Get materials from Standata\n",
    "crystals = [MaterialWithBuildMetadata.create(Materials.get_by_name_first_match(params.name)) for params in STRUCTURE_PARAMS]"
   ]
  },
  {
   "cell_type": "markdown",
   "id": "7",
   "metadata": {},
   "source": [
    "## 2. Create the heterostructure\n",
    " ### 2.1. Create a list of dictionaries for each layer's parameters"
   ]
  },
  {
   "cell_type": "code",
   "execution_count": null,
   "id": "8",
   "metadata": {},
   "outputs": [],
   "source": [
    "stack_component_dicts = [\n",
    "    StackComponentDict(\n",
    "        crystal=crystals[i],\n",
    "        miller_indices=dict.slab_params.miller_indices,\n",
    "        thickness=dict.slab_params.thickness,\n",
    "        xy_supercell_matrix=dict.slab_params.xy_supercell_matrix if hasattr(dict.slab_params, 'xy_supercell_matrix') else None,\n",
    "    ) for i, dict in enumerate(STRUCTURE_PARAMS)\n",
    "]"
   ]
  },
  {
   "cell_type": "markdown",
   "id": "9",
   "metadata": {},
   "source": [
    "### 2.1. Create the heterostructure\n",
    "Using the `create_heterostructure` function, then flipping to match the example."
   ]
  },
  {
   "cell_type": "code",
   "execution_count": null,
   "id": "10",
   "metadata": {},
   "outputs": [],
   "source": [
    "from mat3ra.made.tools.operations.core.unary import rotate\n",
    "from mat3ra.made.tools.helpers import create_heterostructure\n",
    "\n",
    "heterostructure = create_heterostructure(\n",
    "    stack_component_dicts= stack_component_dicts,\n",
    "    gaps= GAPS,\n",
    "    vacuum=VACUUM,\n",
    "    use_conventional_cell=True,\n",
    "    optimize_layer_supercells=True,\n",
    ")\n",
    "\n",
    "flipped_heterostructure = rotate(heterostructure, angle=180, axis=[1,0,0])"
   ]
  },
  {
   "cell_type": "markdown",
   "id": "11",
   "metadata": {},
   "source": [
    "## 3. Visualize the material\n"
   ]
  },
  {
   "cell_type": "code",
   "execution_count": null,
   "id": "12",
   "metadata": {},
   "outputs": [],
   "source": [
    "from utils.visualize import visualize_materials as visualize\n",
    "\n",
    "visualize(\n",
    "    flipped_heterostructure,\n",
    "    repetitions=[1, 1, 1],\n",
    "    viewer=\"wave\",\n",
    "    rotation='-90x'\n",
    ")\n"
   ]
  },
  {
   "cell_type": "markdown",
   "id": "13",
   "metadata": {},
   "source": [
    "## 4. Save the material"
   ]
  },
  {
   "cell_type": "code",
   "execution_count": null,
   "id": "14",
   "metadata": {},
   "outputs": [],
   "source": [
    "from utils.jupyterlite import download_content_to_file, set_materials\n",
    "\n",
    "flipped_heterostructure.name = \"Si-SiO2-HfO2-TiN Heterostructure\"\n",
    "set_materials(flipped_heterostructure)\n",
    "download_content_to_file(flipped_heterostructure.to_json(), \"heterostructure_high_k_metal_gate.json\")\n"
   ]
  }
 ],
 "metadata": {
  "kernelspec": {
   "display_name": ".venv-3.11.2",
   "language": "python",
   "name": "python3"
  },
  "language_info": {
   "codemirror_mode": {
    "name": "ipython",
    "version": 3
   },
   "file_extension": ".py",
   "mimetype": "text/x-python",
   "name": "python",
   "nbconvert_exporter": "python",
   "pygments_lexer": "ipython3",
   "version": "3.11.2"
  }
 },
 "nbformat": 4,
 "nbformat_minor": 5
}
