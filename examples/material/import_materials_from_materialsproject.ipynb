version https://git-lfs.github.com/spec/v1
oid sha256:bc28d90058dcaae93dacf03ef18deeef1cce6cb5699896703bbb89f9966492bf
size 39007
