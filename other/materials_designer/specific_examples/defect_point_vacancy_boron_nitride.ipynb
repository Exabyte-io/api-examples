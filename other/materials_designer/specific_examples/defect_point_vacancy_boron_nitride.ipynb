{
 "cells": [
  {
   "cell_type": "markdown",
   "source": [
    "# Vacancy Point Defects in Graphene\n",
    "\n",
    "## 0. Introduction\n",
    "\n",
    "This tutorial demonstrates the process of creating materials with vacancy defects, based on the work presented in the following manuscript:\n",
    "\n",
    "> **Fabian Bertoldo, Sajid Ali, Simone Manti & Kristian S. Thygesen**, \"\n",
    "> \"Quantum point defects in 2D materials - the QPOD database\", Nature, 2022.  \n",
    "> [DOI:10.1038/s41524-022-00730-w](https://doi.org/10.1038/s41524-022-00730-w)\n",
    "\n",
    "Below is the figure 1 from the manuscript demonstrating the boron vacancy defects in hexagonal boron nitride (hBN).\n",
    "\n",
    "In this notebook we will reproduce material from FIG. 6\n",
    "\n",
    "\n",
    "<img src=\"https://i.imgur.com/VsBdZ7g.png\" alt=\"vacancy in hBN\" width=\"400\"/>\n",
    "\n"
   ],
   "metadata": {
    "collapsed": false
   },
   "id": "f0ccd3190ce70a68"
  },
  {
   "cell_type": "markdown",
   "source": [
    "## 1. Prepare the Environment\n",
    "### 1.1. Set up defects parameters \n",
    "Defect Configuration parameters are described in [Defect Configuration](https://github.com/Exabyte-io/made/blob/8196b759242551c77d1791bf5bd2f4150763cfef/src/py/mat3ra/made/tools/build/defect/configuration.py#L102).\n",
    "\n",
    "Note that we use approximate coordinates in crystal coordinates to define the defect positions. The approximate coordinates are used to find the closest site in the crystal to the given coordinates. The approximate coordinates are in the range of [0, 1] for each axis. Adjust the approximate coordinates to place the defect at the desired site in the crystal. Using the visuals provided in the notebook could help in determining the approximate coordinates.\n",
    "(Coordinates found using 3D editor in Materials Designer)"
   ],
   "metadata": {
    "collapsed": false
   },
   "id": "aae97744e3023a1b"
  },
  {
   "cell_type": "code",
   "outputs": [],
   "source": [
    "WIDTH = 8\n",
    "LENGTH = 14\n",
    "VACUUM_WIDTH = 0\n",
    "VACUUM_LENGTH = 0\n",
    "\n",
    "DEFECT_CONFIGS = [\n",
    "    {\n",
    "        \"defect_type\": \"vacancy\",\n",
    "        \"approximate_coordinate\": [0.5, 0.5, 0.5],\n",
    "        \"use_cartesian_coordinates\": False\n",
    "    },\n",
    "\n",
    "]"
   ],
   "metadata": {
    "collapsed": false
   },
   "id": "dff59577346dbece",
   "execution_count": null
  },
  {
   "cell_type": "markdown",
   "source": [
    "### 1.2. Install Packages\n",
    "The step executes only in Pyodide environment. For other environments, the packages should be installed via `pip install` (see [README](../../README.ipynb))."
   ],
   "metadata": {
    "collapsed": false
   },
   "id": "14d161d4b61ca219"
  },
  {
   "cell_type": "code",
   "outputs": [],
   "source": [
    "import sys\n",
    "\n",
    "if sys.platform == \"emscripten\":\n",
    "    import micropip\n",
    "\n",
    "    await micropip.install('mat3ra-api-examples', deps=False)\n",
    "    from utils.jupyterlite import install_packages\n",
    "\n",
    "    await install_packages(\"specific_examples|create_point_defect.ipynb\")"
   ],
   "metadata": {
    "collapsed": false
   },
   "id": "8c6ea8b36f1a6cc",
   "execution_count": null
  },
  {
   "cell_type": "markdown",
   "source": [
    "### 1.3. Load input material\n",
    "In this notebook we will use the material from the `uploads` folder that has a few pre-set materials."
   ],
   "metadata": {
    "collapsed": false
   },
   "id": "da6733a515019677"
  },
  {
   "cell_type": "code",
   "outputs": [],
   "source": [
    "from mat3ra.made.material import Material\n",
    "from mat3ra.standata.materials import Materials\n",
    "\n",
    "material = Material(Materials.get_by_name_and_categories(\"Boron_Nitride\", \"2D\"))"
   ],
   "metadata": {
    "collapsed": false
   },
   "id": "14c40630ba2974e6",
   "execution_count": null
  },
  {
   "cell_type": "markdown",
   "source": [
    "### 1.4. Create and preview Nanoribbon"
   ],
   "metadata": {
    "collapsed": false
   },
   "id": "9fcc51573071c301"
  },
  {
   "cell_type": "code",
   "outputs": [],
   "source": [
    "from utils.visualize import visualize_materials as visualize\n",
    "from mat3ra.made.tools.build.nanoribbon import NanoribbonConfiguration, create_nanoribbon\n",
    "\n",
    "config = NanoribbonConfiguration(\n",
    "    material=material,\n",
    "    width=WIDTH,\n",
    "    length=LENGTH,\n",
    "    vacuum_width=VACUUM_WIDTH,\n",
    "    vacuum_length=VACUUM_LENGTH,\n",
    "    edge_type=\"zigzag\")\n",
    "\n",
    "nanoribbon = create_nanoribbon(config)\n",
    "\n",
    "visualize(nanoribbon, repetitions=[1, 1, 1], rotation=\"0x\")\n",
    "visualize(nanoribbon, repetitions=[1, 1, 1], rotation=\"-90x\")"
   ],
   "metadata": {
    "collapsed": false
   },
   "id": "6d5a793dd5e45f16",
   "execution_count": null
  },
  {
   "cell_type": "markdown",
   "source": [
    "## 2. Create the Defect\n",
    "### 2.1. Initialize Configuration and Builder parameters"
   ],
   "metadata": {
    "collapsed": false
   },
   "id": "e41cf1646620915d"
  },
  {
   "cell_type": "code",
   "outputs": [],
   "source": [
    "from mat3ra.made.tools.build.defect import PointDefectConfiguration\n",
    "from mat3ra.made.tools.build.defect.builders import PointDefectBuilderParameters\n",
    "\n",
    "defect_configurations = [PointDefectConfiguration.from_dict(nanoribbon, defect) for defect in DEFECT_CONFIGS]\n",
    "\n",
    "defect_builder_parameters = PointDefectBuilderParameters(center_defect=False)"
   ],
   "metadata": {
    "collapsed": false
   },
   "id": "ae3bc8ed1bf133f4",
   "execution_count": null
  },
  {
   "cell_type": "markdown",
   "source": [
    "### 2.2. Create the defects"
   ],
   "metadata": {
    "collapsed": false
   },
   "id": "3a7b1416f29b2606"
  },
  {
   "cell_type": "code",
   "outputs": [],
   "source": [
    "from mat3ra.made.tools.build.defect import create_defects\n",
    "\n",
    "material_with_defect = create_defects(\n",
    "    builder_parameters=defect_builder_parameters,\n",
    "    configurations=defect_configurations\n",
    "¬)"
   ],
   "metadata": {
    "collapsed": false
   },
   "id": "db2d621e2fd4bbeb",
   "execution_count": null
  },
  {
   "cell_type": "markdown",
   "source": [
    "## 3. Visualize Result(s)"
   ],
   "metadata": {
    "collapsed": false
   },
   "id": "2b58b5e76bd167d8"
  },
  {
   "cell_type": "code",
   "outputs": [],
   "source": [
    "from utils.visualize import visualize_materials as visualize\n",
    "\n",
    "visualize([{\"material\": nanoribbon, \"title\": \"Original material\"},\n",
    "           {\"material\": material_with_defect, \"title\": f\"Material with defect\"}],\n",
    "          rotation=\"-90x\")\n",
    "visualize([{\"material\": nanoribbon, \"title\": \"Original material\"},\n",
    "           {\"material\": material_with_defect, \"title\": f\"Material with defect\"}])"
   ],
   "metadata": {
    "collapsed": false
   },
   "id": "d4a1e920884b1a48",
   "execution_count": null
  },
  {
   "cell_type": "markdown",
   "source": [
    "## 4. Write resulting material to the folder"
   ],
   "metadata": {
    "collapsed": false
   },
   "id": "865c3b666e06fd10"
  },
  {
   "cell_type": "code",
   "outputs": [],
   "source": [
    "from utils.jupyterlite import download_content_to_file\n",
    "\n",
    "material_with_defect.name = \"N-doped Graphene\"\n",
    "download_content_to_file(material_with_defect.to_json(), \"B-vacancy_hexagonal_boron_nitride.json\")"
   ],
   "metadata": {
    "collapsed": false
   },
   "id": "7dcf867f46422fa9",
   "execution_count": null
  }
 ],
 "metadata": {
  "kernelspec": {
   "display_name": "Python 3",
   "language": "python",
   "name": "python3"
  },
  "language_info": {
   "codemirror_mode": {
    "name": "ipython",
    "version": 2
   },
   "file_extension": ".py",
   "mimetype": "text/x-python",
   "name": "python",
   "nbconvert_exporter": "python",
   "pygments_lexer": "ipython2",
   "version": "2.7.6"
  }
 },
 "nbformat": 4,
 "nbformat_minor": 5
}
