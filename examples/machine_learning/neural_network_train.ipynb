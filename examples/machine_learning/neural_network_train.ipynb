version https://git-lfs.github.com/spec/v1
oid sha256:1d4b6a7da3be2aef0688eb2f43000a2c413c0472581271d7a6b4af0f40a0d23d
size 294550
