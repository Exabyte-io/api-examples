{
 "cells": [
  {
   "cell_type": "markdown",
   "id": "95a274d80df28ccd",
   "metadata": {
    "collapsed": false
   },
   "source": [
    "# Step on a Platinum (211) surface\n",
    "\n",
    "## 0. Introduction\n",
    "\n",
    "This notebook demonstrates how to create a slab of Pt(211) which will show the step from the manuscript:\n",
    "\n",
    "> **Šljivančanin, Ž., & Hammer, B.**\n",
    "> \"Oxygen dissociation at close-packed Pt terraces, Pt steps, and Ag-covered Pt steps studied with density functional theory.\"\n",
    "> Surface Science, 515(1), 235–244. \n",
    "> [DOI: 10.1016/s0039-6028(02)01908-8 ](https://doi:10.1016/s0039-6028(02)01908-8 )\n",
    "\n",
    "Replicating the material from the FIG. 1. B.\n",
    "\n",
    "<img src=\"https://github.com/Exabyte-io/documentation/raw/12617167278ae3523adc028583b21ea4e8ebd197/images/tutorials/materials/defects/defect_surface_step_platinum/0-figure-from-manuscript.webp\" alt=\"Pt(211) step\" width=\"400\"/>\n",
    "\n",
    "\n"
   ]
  },
  {
   "cell_type": "markdown",
   "id": "d55eaee8bc55bffd",
   "metadata": {
    "collapsed": false
   },
   "source": [
    "## 1. Prepare the Environment\n",
    "### 1.1. Set up defect parameters "
   ]
  },
  {
   "cell_type": "code",
   "id": "4b64735060047bec",
   "metadata": {
    "collapsed": false
   },
   "source": [
    "MATERIAL_NAME = \"Pt\"\n",
    "MILLER_INDICES = (2, 1, 1)\n",
    "THICKNESS = 6  # in atomic layers\n",
    "VACUUM = 10.0  # in angstroms\n",
    "XY_SUPERCELL_MATRIX = [[1, 0], [0, 1]]\n",
    "USE_ORTHOGONAL_C = True\n",
    "USE_CONVENTIONAL_CELL = True\n",
    "\n",
    "VISUALIZATION_REPETITIONS = [1, 1, 1]"
   ],
   "outputs": [],
   "execution_count": null
  },
  {
   "cell_type": "markdown",
   "id": "5e0ce05f6f031b3f",
   "metadata": {
    "collapsed": false
   },
   "source": [
    "### 1.2. Install Packages\n",
    "The step executes only in Pyodide environment. For other environments, the packages should be installed via `pip install` (see [README](../../README.ipynb))."
   ]
  },
  {
   "cell_type": "code",
   "id": "b457673560550933",
   "metadata": {
    "collapsed": false
   },
   "source": [
    "import sys\n",
    "\n",
    "if sys.platform == \"emscripten\":\n",
    "    import micropip\n",
    "\n",
    "    await micropip.install(\"mat3ra-api-examples\", deps=False)\n",
    "    await micropip.install('mat3ra-utils')\n",
    "    from mat3ra.utils.jupyterlite.packages import install_packages\n",
    "\n",
    "    await install_packages(\"specific_examples\")"
   ],
   "outputs": [],
   "execution_count": null
  },
  {
   "cell_type": "markdown",
   "id": "1659a8e9afe434fb",
   "metadata": {
    "collapsed": false
   },
   "source": [
    "### 1.3. Get input materials"
   ]
  },
  {
   "cell_type": "code",
   "id": "b588ccfe51967a86",
   "metadata": {
    "collapsed": false
   },
   "source": [
    "from mat3ra.made.tools.build import MaterialWithBuildMetadata\n",
    "from mat3ra.standata.materials import Materials\n",
    "\n",
    "material = MaterialWithBuildMetadata.create(Materials.get_by_name_first_match(MATERIAL_NAME))"
   ],
   "outputs": [],
   "execution_count": null
  },
  {
   "cell_type": "markdown",
   "id": "8c13970a869adfa9",
   "metadata": {
    "collapsed": false
   },
   "source": [
    "### 1.4. Preview the material"
   ]
  },
  {
   "cell_type": "code",
   "id": "c4f6e2697f97965f",
   "metadata": {
    "collapsed": false
   },
   "source": [
    "from utils.visualize import visualize_materials as visualize\n",
    "\n",
    "visualize(material, repetitions=VISUALIZATION_REPETITIONS, rotation=\"0x\")\n",
    "visualize(material, repetitions=VISUALIZATION_REPETITIONS, rotation=\"-90x\")"
   ],
   "outputs": [],
   "execution_count": null
  },
  {
   "cell_type": "markdown",
   "id": "6634dae92a6c07b9",
   "metadata": {
    "collapsed": false
   },
   "source": [
    "## 2. Create a step with a slab\n",
    "\n",
    "### 2.1. Create slab configuration\n",
    "Slab Configuration lets define the slab thickness, vacuum, and the Miller indices of the interfacial plane and get the slabs with possible terminations.\n"
   ]
  },
  {
   "cell_type": "code",
   "id": "e9d81088",
   "metadata": {},
   "source": [
    "from mat3ra.made.tools.build.slab.helpers import create_slab\n",
    "\n",
    "slab_211 = create_slab(\n",
    "    crystal=material,\n",
    "    miller_indices=MILLER_INDICES,\n",
    "    number_of_layers=THICKNESS,\n",
    "    vacuum=VACUUM,\n",
    "    use_orthogonal_c=USE_ORTHOGONAL_C,\n",
    "    use_conventional_cell=USE_CONVENTIONAL_CELL,\n",
    "    xy_supercell_matrix=XY_SUPERCELL_MATRIX\n",
    ")"
   ],
   "outputs": [],
   "execution_count": null
  },
  {
   "cell_type": "markdown",
   "id": "c6e2e18452972b21",
   "metadata": {
    "collapsed": false
   },
   "source": "### 2.2. Visualize the slab"
  },
  {
   "cell_type": "code",
   "id": "246cb1f0437dbde0",
   "metadata": {
    "collapsed": false
   },
   "source": [
    "visualize(slab_211, repetitions=VISUALIZATION_REPETITIONS, rotation=\"0x\")\n",
    "visualize(slab_211, repetitions=VISUALIZATION_REPETITIONS, rotation=\"-90x\")"
   ],
   "outputs": [],
   "execution_count": null
  },
  {
   "cell_type": "markdown",
   "id": "c9ded02269a09c24",
   "metadata": {
    "collapsed": false
   },
   "source": [
    "## 3. Create a step with terrace builder\n",
    "### 3.1. Setup terrace parameters"
   ]
  },
  {
   "cell_type": "code",
   "id": "d6d9b6b5600a4eef",
   "metadata": {
    "collapsed": false
   },
   "source": [
    "from types import SimpleNamespace\n",
    "# Material selection\n",
    "# Which material to use from input list\n",
    "MATERIAL_INDEX = 0\n",
    "\n",
    "# Terrace parameters:\n",
    "# Normal vector describing a plane that cuts the terrace from added layers (Miller indices)\n",
    "CUT_DIRECTION = [0, 1, 1]\n",
    "# Point the cutting plane passes through, in crystal coordinates\n",
    "PIVOT_COORDINATE = [0.0, 0.0, 0.25]\n",
    "# Height of terrace in atomic layers\n",
    "NUMBER_OF_ADDED_LAYERS = 1\n",
    "# Use cartesian instead of crystal coordinates\n",
    "USE_CARTESIAN_COORDINATES = False\n",
    "# Rotate to match periodic boundary conditions\n",
    "ROTATE_TO_MATCH_PBC = True\n",
    "\n",
    "# Slab parameters for creating a new slab if provided material is not a slab\n",
    "SLAB_PARAMETERS = SimpleNamespace(\n",
    "    miller_indices= (1, 1, 1),\n",
    "    number_of_layers= 6,  # Number of layers in the slab\n",
    "    thickness= 6,\n",
    "    vacuum= 15.0,\n",
    "    use_orthogonal_c= True,\n",
    "    xy_supercell_matrix= [[2, 0], [0, 2]]\n",
    ")\n",
    "\n",
    "# Visualization parameters\n",
    "SHOW_INTERMEDIATE_STEPS = True\n",
    "# Structure repeat in view\n",
    "CELL_REPETITIONS_FOR_VISUALIZATION = [1, 1, 1]"
   ],
   "outputs": [],
   "execution_count": null
  },
  {
   "cell_type": "markdown",
   "id": "12a15e84ec43f4f3",
   "metadata": {
    "collapsed": false
   },
   "source": [
    "### 3.2. Configure a terrace defect"
   ]
  },
  {
   "cell_type": "code",
   "id": "f838761790cb392c",
   "metadata": {
    "collapsed": false
   },
   "source": [
    "from mat3ra.made.tools.build.defect.terrace.helpers import create_terrace\n",
    "\n",
    "slab_111 = create_slab(\n",
    "    crystal=material,\n",
    "    miller_indices=SLAB_PARAMETERS.miller_indices,\n",
    "    number_of_layers=SLAB_PARAMETERS.number_of_layers,\n",
    "    vacuum=SLAB_PARAMETERS.vacuum,\n",
    "    use_orthogonal_c=SLAB_PARAMETERS.use_orthogonal_c,\n",
    "    xy_supercell_matrix=SLAB_PARAMETERS.xy_supercell_matrix\n",
    ")\n",
    "\n",
    "terrace_slab = create_terrace(\n",
    "    slab=slab_111,\n",
    "    cut_direction=CUT_DIRECTION,\n",
    "    pivot_coordinate=PIVOT_COORDINATE,\n",
    "    number_of_added_layers=NUMBER_OF_ADDED_LAYERS,\n",
    "    use_cartesian_coordinates=USE_CARTESIAN_COORDINATES,\n",
    "    rotate_to_match_pbc=ROTATE_TO_MATCH_PBC\n",
    ")\n"
   ],
   "outputs": [],
   "execution_count": null
  },
  {
   "cell_type": "markdown",
   "id": "847971b9e20420ec",
   "metadata": {
    "collapsed": false
   },
   "source": "### 3.3. Visualize the terrace defect"
  },
  {
   "cell_type": "code",
   "id": "138a639f8a2b16bb",
   "metadata": {
    "collapsed": false
   },
   "source": [
    "visualize(terrace_slab, viewer=\"wave\")"
   ],
   "outputs": [],
   "execution_count": null
  },
  {
   "cell_type": "markdown",
   "id": "d667623ad5f2e061",
   "metadata": {
    "collapsed": false
   },
   "source": [
    "## 4. Download materials"
   ]
  },
  {
   "cell_type": "code",
   "id": "3705115f04ac0010",
   "metadata": {
    "collapsed": false
   },
   "source": [
    "from utils.jupyterlite import download_content_to_file, set_materials\n",
    "\n",
    "set_materials([slab_211, terrace_slab])\n",
    "download_content_to_file(slab_211.to_json(), \"Pt_211_step.json\")\n",
    "download_content_to_file(terrace_slab.to_json(), \"Pt_111_terrace.json\")"
   ],
   "outputs": [],
   "execution_count": null
  }
 ],
 "metadata": {
  "kernelspec": {
   "display_name": "Python 3",
   "language": "python",
   "name": "python3"
  },
  "language_info": {
   "codemirror_mode": {
    "name": "ipython",
    "version": 2
   },
   "file_extension": ".py",
   "mimetype": "text/x-python",
   "name": "python",
   "nbconvert_exporter": "python",
   "pygments_lexer": "ipython2",
   "version": "2.7.6"
  }
 },
 "nbformat": 4,
 "nbformat_minor": 5
}
