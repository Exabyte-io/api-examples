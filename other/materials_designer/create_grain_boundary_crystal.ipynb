{
 "cells": [
  {
   "cell_type": "markdown",
   "id": "ba979b741d79bad2",
   "metadata": {
    "collapsed": false
   },
   "source": []
  },
  {
   "cell_type": "markdown",
   "id": "64cac14fa1273938",
   "metadata": {
    "collapsed": false
   },
   "source": [
    "# Create a Grain Boundary with Strain Matching\n",
    "\n",
    "Create a grain boundary between two crystallographic orientations of the same material using strain matching algorithm to minimize interfacial strain.\n",
    "\n",
    "<h2 style=\"color:green\">Usage</h2>\n",
    "\n",
    "1. Make sure to select Input Material (in the outer runtime) before running the notebook.\n",
    "2. Set notebook parameters in cell 1.1 below (or use the default values).\n",
    "3. Set slab parameters for both phases in cell 2.1 (or use default).\n",
    "4. Set grain boundary parameters in cell 3.1 (or use default).\n",
    "5. Click \"Run\" > \"Run All\" to run all cells.\n",
    "6. Wait for the run to complete (depending on the parameters can take a few minutes).\n",
    "7. Scroll down to view results.\n",
    "\n",
    "## Summary\n",
    "1. Prepare the Environment: Set up the notebook and install packages, preview the input material\n",
    "2. Create slabs for both phases and select the terminations\n",
    "3. Generate grain boundaries with strain matcher and plot strain vs number of atoms\n",
    "4. Select the grain boundary with the desired strain and visualize it\n",
    "\n",
    "## Notes\n",
    "1. We perform strain matching on the slabs to extract the supercell dimensions.\n",
    "2. When the strain matching is finished, the grain boundary with the lowest strain (and reasonable number of atoms) is selected.\n",
    "3. For more information about grain boundaries, see the Introduction notebook.\n"
   ]
  },
  {
   "cell_type": "markdown",
   "id": "31ef78017669ea95",
   "metadata": {
    "collapsed": false
   },
   "source": [
    "## 1. Prepare the Environment\n",
    "### 1.1. Set up the notebook \n",
    "\n",
    "Set the following flags to control the notebook behavior "
   ]
  },
  {
   "cell_type": "code",
   "execution_count": null,
   "id": "38eac66e44951f88",
   "metadata": {
    "collapsed": false
   },
   "outputs": [],
   "source": [
    "# Parameters for Phase 1\n",
    "PHASE_1_MILLER_INDICES = (1, 1, 1)\n",
    "PHASE_1_THICKNESS = 2  # in atomic layers\n",
    "PHASE_1_TERMINATION_FORMULA = None  # if None, the first termination will be used\n",
    "PHASE_1_USE_ORTHOGONAL_C = True\n",
    "\n",
    "# Parameters for Phase 2\n",
    "PHASE_2_MILLER_INDICES = (0, 0, 1)\n",
    "PHASE_2_THICKNESS = 2  # in atomic layers\n",
    "PHASE_2_TERMINATION_FORMULA = None  # if None, the first termination will be used\n",
    "PHASE_2_USE_ORTHOGONAL_C = True\n",
    "\n",
    "INTERPHASE_GAP = 2.0  # in Angstrom\n",
    "TRANSLATION_VECTOR = [0.0, 0.0, 0.0]  # Translation vector for the phase 2 slab relative to phase 1 slab\n",
    "\n",
    "# Maximum area for the superlattice search algorithm\n",
    "MAX_AREA = 350  # in Angstrom^2\n",
    "\n",
    "# index of the grain boundary to select after strain matching\n",
    "MATCH_ID = 0  # if None, the grain boundary with the lowest strain will be selected"
   ]
  },
  {
   "cell_type": "markdown",
   "id": "63f9747e4a43c49d",
   "metadata": {
    "collapsed": false
   },
   "source": [
    "### 1.2. Install Packages\n",
    "The step executes only in Pyodide environment. For other environments, the packages should be installed via `pip install`."
   ]
  },
  {
   "cell_type": "code",
   "execution_count": null,
   "id": "26c1a6af762eda56",
   "metadata": {
    "collapsed": false
   },
   "outputs": [],
   "source": [
    "import sys\n",
    "\n",
    "if sys.platform == \"emscripten\":\n",
    "    import micropip\n",
    "\n",
    "    await micropip.install(\"https://exabyte-io.github.io/api-examples/mat3ra_api_examples-0.1.dev1+g2d074bd-py3-none-any.whl\", deps=False)\n",
    "    await micropip.install('mat3ra-utils')\n",
    "    from mat3ra.utils.jupyterlite.packages import install_packages\n",
    "\n",
    "    await install_packages(\"create_grain_boundary.ipynb\")\n"
   ]
  },
  {
   "cell_type": "markdown",
   "id": "1e2caebbe15a0e06",
   "metadata": {
    "collapsed": false
   },
   "source": [
    "### 1.3. Get input material"
   ]
  },
  {
   "cell_type": "code",
   "execution_count": null,
   "id": "c269a9fe44c400be",
   "metadata": {
    "collapsed": false
   },
   "outputs": [],
   "source": [
    "from utils.jupyterlite import get_materials\n",
    "\n",
    "materials = get_materials(globals())\n",
    "material = materials[0]"
   ]
  },
  {
   "cell_type": "markdown",
   "id": "91b2b7a5a2996487",
   "metadata": {
    "collapsed": false
   },
   "source": [
    "### 1.4. Preview Material"
   ]
  },
  {
   "cell_type": "code",
   "execution_count": null,
   "id": "4fb3d10f24145759",
   "metadata": {
    "collapsed": false
   },
   "outputs": [],
   "source": [
    "from utils.visualize import visualize_materials as visualize\n",
    "\n",
    "visualize([material], repetitions=[3, 3, 1], rotation=\"0x\")"
   ]
  },
  {
   "cell_type": "markdown",
   "id": "ed7b0a774220a297",
   "metadata": {
    "collapsed": false
   },
   "source": [
    "## 2. Configure slabs and select termination pair\n",
    "\n",
    "### 2.1. Create Phase 1 and Phase 2 Slabs\n",
    "Get the terminations for the two slabs of phases."
   ]
  },
  {
   "cell_type": "code",
   "execution_count": null,
   "id": "70ce21f35a487b63",
   "metadata": {
    "collapsed": false
   },
   "outputs": [],
   "source": [
    "from mat3ra.made.tools.helpers import get_slab_terminations\n",
    "\n",
    "phase_1_terminations = get_slab_terminations(\n",
    "    material=material,\n",
    "    miller_indices=PHASE_1_MILLER_INDICES,\n",
    ")\n",
    "\n",
    "phase_2_terminations = get_slab_terminations(\n",
    "    material=material,\n",
    "    miller_indices=PHASE_2_MILLER_INDICES,\n",
    ")"
   ]
  },
  {
   "cell_type": "markdown",
   "id": "d233c1437eb21960",
   "metadata": {},
   "source": [
    "### 2.3. Visualize slabs for all possible terminations"
   ]
  },
  {
   "cell_type": "code",
   "execution_count": null,
   "id": "cd8e53c68e1c7569",
   "metadata": {
    "collapsed": false
   },
   "outputs": [],
   "source": [
    "from mat3ra.made.tools.helpers import create_slab\n",
    "\n",
    "phase_1_slabs = [create_slab(material, miller_indices=PHASE_1_MILLER_INDICES, termination=termination) for termination in\n",
    "                 phase_1_terminations]\n",
    "\n",
    "phase_2_slabs = [create_slab(material, miller_indices=PHASE_2_MILLER_INDICES, termination=termination) for termination in\n",
    "                 phase_2_terminations]\n",
    "\n",
    "phase_1_slabs_with_titles = [{\"material\": slab, \"title\": str(termination)} for slab, termination in\n",
    "                             zip(phase_1_slabs, phase_1_terminations)]\n",
    "phase_2_slabs_with_titles = [{\"material\": slab, \"title\": str(termination)} for slab, termination in\n",
    "                             zip(phase_2_slabs, phase_2_terminations)]\n",
    "\n",
    "visualize(phase_1_slabs_with_titles, repetitions=[3, 3, 1], rotation=\"-90x\")\n",
    "visualize(phase_2_slabs_with_titles, repetitions=[3, 3, 1], rotation=\"-90x\")"
   ]
  },
  {
   "cell_type": "markdown",
   "id": "5fd99a07e51380b0",
   "metadata": {},
   "source": [
    "### 2.4. Select terminations for the grain boundary phases"
   ]
  },
  {
   "cell_type": "code",
   "execution_count": null,
   "id": "9109ac095608d82a",
   "metadata": {},
   "outputs": [],
   "source": [
    "from mat3ra.made.tools.helpers import select_slab_termination\n",
    "phase_1_selected_termination = select_slab_termination(phase_1_terminations, PHASE_1_TERMINATION_FORMULA)\n",
    "phase_2_selected_termination = select_slab_termination(phase_2_terminations, PHASE_2_TERMINATION_FORMULA)"
   ]
  },
  {
   "cell_type": "markdown",
   "id": "20186205803e07d9",
   "metadata": {
    "collapsed": false
   },
   "source": [
    "## 3. Create grain boundary"
   ]
  },
  {
   "cell_type": "code",
   "execution_count": null,
   "id": "e9977c17f97f0035",
   "metadata": {
    "collapsed": false
   },
   "outputs": [],
   "source": [
    "from mat3ra.made.tools.helpers import create_grain_boundary_planar\n",
    "\n",
    "grain_boundary = create_grain_boundary_planar(\n",
    "    phase_1_material=material,\n",
    "    phase_1_miller_indices=PHASE_1_MILLER_INDICES,\n",
    "    phase_2_miller_indices=PHASE_2_MILLER_INDICES,\n",
    "    phase_1_thickness=PHASE_1_THICKNESS,\n",
    "    phase_2_thickness=PHASE_2_THICKNESS,\n",
    "    gap=INTERPHASE_GAP,\n",
    "    translation_vector=TRANSLATION_VECTOR,\n",
    "    max_area=MAX_AREA,\n",
    "    max_area_ratio_tol=0.2,\n",
    "    match_id =MATCH_ID,\n",
    ")\n"
   ]
  },
  {
   "cell_type": "markdown",
   "id": "aa55348911eb6679",
   "metadata": {
    "collapsed": false
   },
   "source": [
    "## 4. Preview the grain boundary"
   ]
  },
  {
   "cell_type": "code",
   "execution_count": null,
   "id": "abd081a986bdca0",
   "metadata": {
    "collapsed": false
   },
   "outputs": [],
   "source": [
    "visualize([grain_boundary], repetitions=[1, 1, 1])\n",
    "visualize([grain_boundary], repetitions=[1, 1, 1], rotation=\"-90x\")"
   ]
  },
  {
   "cell_type": "markdown",
   "id": "bde2ea26c96543f5",
   "metadata": {
    "collapsed": false
   },
   "source": [
    "## 5. Pass data to the outside runtime"
   ]
  },
  {
   "cell_type": "code",
   "execution_count": null,
   "id": "76469e88bd21a25d",
   "metadata": {
    "collapsed": false
   },
   "outputs": [],
   "source": [
    "from utils.jupyterlite import set_materials\n",
    "\n",
    "set_materials(grain_boundary)"
   ]
  }
 ],
 "metadata": {
  "kernelspec": {
   "display_name": "Python 3",
   "language": "python",
   "name": "python3"
  },
  "language_info": {
   "codemirror_mode": {
    "name": "ipython",
    "version": 2
   },
   "file_extension": ".py",
   "mimetype": "text/x-python",
   "name": "python",
   "nbconvert_exporter": "python",
   "pygments_lexer": "ipython2",
   "version": "2.7.6"
  }
 },
 "nbformat": 4,
 "nbformat_minor": 5
}
