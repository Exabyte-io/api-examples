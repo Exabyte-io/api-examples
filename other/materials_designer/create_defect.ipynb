{
 "cells": [
  {
   "cell_type": "markdown",
   "metadata": {},
   "source": [
    "# Add defects to a material\n",
    "\n",
    "Add defects\n",
    "\n",
    "<h2 style=\"color:green\">Usage</h2>\n",
    "\n",
    "1. Make sure to select Input Materials\n",
    "\n",
    "\n",
    "## Methodology\n",
    "\n",
    "The following happens in the script below:\n",
    "\n",
    "\n"
   ]
  },
  {
   "cell_type": "markdown",
   "metadata": {},
   "source": [
    "## 1. Set Input Parameters\n",
    "\n",
    "### 1.1. Select Substrate and Layer from Input Materials"
   ]
  },
  {
   "cell_type": "code",
   "execution_count": null,
   "metadata": {},
   "outputs": [],
   "source": [
    "\n",
    "DEFECTS_PARAMETERS = {\n",
    "    \"TYPE\": \"interstitial\",  # \"substitution\", \"vacancy\"\n",
    "    \"SPECIES\": \"Ge\",\n",
    "    \"CONCENTRATION\": 0.1,\n",
    "    \n",
    "}\n"
   ]
  },
  {
   "cell_type": "markdown",
   "metadata": {},
   "source": [
    "## 2. Install Packages\n",
    "The step executes only in Pyodide environment. For other environments, the packages should be installed via `pip install` as directed in README."
   ]
  },
  {
   "cell_type": "code",
   "execution_count": null,
   "metadata": {},
   "outputs": [],
   "source": [
    "import sys\n",
    "if sys.platform == \"emscripten\":\n",
    "    import micropip\n",
    "    await micropip.install('mat3ra-api-examples', deps=False)\n",
    "    from utils.jupyterlite import install_packages\n",
    "    await install_packages(\"create_interface_with_min_strain_zsl.ipynb\",\"../../config.yml\")"
   ]
  },
  {
   "cell_type": "markdown",
   "metadata": {},
   "source": [
    "## 3. Load input Materials\n"
   ]
  },
  {
   "cell_type": "code",
   "outputs": [],
   "source": [
    "from mat3ra.made.material import Material\n",
    "from utils.jupyterlite import get_data\n",
    "\n",
    "from utils.visualize import visualize\n",
    "\n",
    "# Get the list of input materials and load them into `materials_in` variable\n",
    "get_data(\"materials_in\", globals())\n",
    "materials = list(map(Material, globals()[\"materials_in\"]))\n",
    "# visualize(materials, number_of_repetitions=1)\n",
    "si = list(filter(lambda m: m.name == \"Silicon FCC\", materials))[0]"
   ],
   "metadata": {
    "collapsed": false
   },
   "execution_count": null
  },
  {
   "cell_type": "markdown",
   "source": [
    "## 4. Create interfaces\n",
    "\n",
    "### 4.1. Extract Interfaces and Terminations\n",
    "\n",
    "Extract all possible layer/substrate supercell combinations within the maximum area including different terminations."
   ],
   "metadata": {
    "collapsed": false
   }
  },
  {
   "cell_type": "code",
   "outputs": [],
   "source": [
    "import numpy as np\n",
    "from mat3ra.made.tools.convert import to_pymatgen, from_pymatgen, to_ase\n",
    "from mat3ra.made.tools.modify import wrap_to_unit_cell\n",
    "\n",
    "from pymatgen.analysis.defects.core import Substitution, Vacancy, Interstitial\n",
    "from pymatgen.core import PeriodicSite, Species, Structure\n",
    "silicon = to_pymatgen(si).make_supercell([1, 1, 1])\n",
    "\n",
    "si0_site = silicon[0]\n",
    "sub_site = PeriodicSite(species=Species(\"Ge\"), coords=si0_site.frac_coords, lattice=silicon.lattice)\n",
    "# instantiate the defect object\n",
    "# substitution_defect = Substitution(structure=silicon, site=sub_site)\n",
    "# vacancy_defect = Vacancy(structure=silicon, site=sub_site)\n",
    "substitution_defect = Interstitial(structure=silicon, site=sub_site)\n",
    "print(substitution_defect)\n",
    "\n",
    "# visualize(material)\n",
    "\n",
    "def translate_structure(structure, fractional_coordinates=[0, 0, 0]):\n",
    "    min_c = min(site.c for site in structure)\n",
    "    translation_vector = fractional_coordinates  # 0.1 to ensure there's a small gap above z=0\n",
    "    translated_structure = structure.copy()\n",
    "    for site in translated_structure:\n",
    "        site.coords += np.dot(translation_vector, structure.lattice.matrix)\n",
    "    return wrap_to_unit_cell(translated_structure)\n",
    "\n",
    "structure = translate_structure(substitution_defect.defect_structure, [0.5, 0.5, 0.5])\n",
    "material = from_pymatgen(structure)\n",
    "from ase.visualize import view\n",
    "view(to_ase(material))"
   ],
   "metadata": {
    "collapsed": false
   },
   "execution_count": null
  },
  {
   "cell_type": "code",
   "outputs": [],
   "source": [
    "from pymatgen.analysis.defects.generators import (\n",
    "    generate_all_native_defects, VoronoiInterstitialGenerator\n",
    ")\n",
    "generator = VoronoiInterstitialGenerator(        \n",
    "        clustering_tol = 0.1,\n",
    "        min_dist = 0.1,\n",
    "        ltol = 0.1,\n",
    "        stol = 0.1,\n",
    "        angle_tol = 1\n",
    ")\n",
    "\n",
    "defects = generator.get_defects(silicon, insert_species=[\"Ge\"])\n",
    "view(to_ase(from_pymatgen(defects[1].defect_structure))*[2,2,2])\n",
    "# for defect in generate_all_native_defects(silicon, int_generator=generator):\n",
    "#     print(defect)"
   ],
   "metadata": {
    "collapsed": false
   },
   "execution_count": null
  },
  {
   "cell_type": "code",
   "outputs": [],
   "source": [
    "from pymatgen.core.surface import SlabGenerator\n",
    "import json\n",
    "from pymatgen.analysis.defects.generators import (\n",
    "    generate_all_native_defects, VoronoiInterstitialGenerator\n",
    ")\n",
    "generator = VoronoiInterstitialGenerator(        \n",
    "        clustering_tol = 0.1,\n",
    "        min_dist = 0.1,\n",
    "        ltol = 0.1,\n",
    "        stol = 0.1,\n",
    "        angle_tol = 1\n",
    ")\n",
    "slab_json = \"\"\"\n",
    "{\"name\":\"Silicon FCC - slab [1,0,0]\",\"basis\":{\"elements\":[{\"id\":0,\"value\":\"Si\"},{\"id\":1,\"value\":\"Si\"},{\"id\":2,\"value\":\"Si\"},{\"id\":3,\"value\":\"Si\"},{\"id\":4,\"value\":\"Si\"},{\"id\":5,\"value\":\"Si\"}],\"coordinates\":[{\"id\":0,\"value\":[0,0,0]},{\"id\":1,\"value\":[0,0,0.06666667]},{\"id\":2,\"value\":[0,0,0.1333333]},{\"id\":3,\"value\":[0.2500001,0.25,0.01666666]},{\"id\":4,\"value\":[0.2500001,0.25,0.08333333]},{\"id\":5,\"value\":[0.2500001,0.25,0.15]}],\"units\":\"crystal\",\"cell\":[[3.34892,0,1.9335],[1.116307,3.157392,1.9335],[0,0,58.005]],\"constraints\":[]},\"lattice\":{\"a\":3.867,\"b\":3.867,\"c\":58.005,\"alpha\":60,\"beta\":60,\"gamma\":60,\"units\":{\"length\":\"angstrom\",\"angle\":\"degree\"},\"type\":\"TRI\",\"vectors\":{\"a\":[3.34892,0,1.9335],\"b\":[1.116307,3.157392,1.9335],\"c\":[0,0,58.005],\"alat\":1,\"units\":\"angstrom\"}},\"isNonPeriodic\":false,\"metadata\":{\"isSlab\":true,\"h\":1,\"k\":0,\"l\":0,\"thickness\":3,\"vacuumRatio\":0.8,\"vx\":1,\"vy\":1},\"_id\":\"\",\"isUpdated\":true}\n",
    "\"\"\"\n",
    "material_slab = Material(json.loads(slab_json))\n",
    "silicon_slab = to_pymatgen(material_slab)\n",
    "defects = generator.get_defects(silicon_slab, insert_species=[\"Ge\"])\n",
    "\n",
    "\n",
    "generator = VoronoiInterstitialGenerator(        \n",
    "        clustering_tol = 0.1,\n",
    "        min_dist = 0.1,\n",
    "        ltol = 0.1,\n",
    "        stol = 0.1,\n",
    "        angle_tol = 1\n",
    ")\n",
    "defects = generator.get_defects(silicon_slab, insert_species=[\"Ge\"])\n",
    "# visualize(material_slab, rotation=\"-90x\")\n",
    "# view(to_ase(from_pymatgen(silicon_slab)))\n",
    "print(defects)\n",
    "view(to_ase(from_pymatgen(defects[1].defect_structure))*[1,1,1])\n",
    "visualize(from_pymatgen(defects[1].defect_structure), rotation=\"-90x\")\n",
    "# for defect in generate_all_native_defects(silicon, int_generator=generator):\n",
    "#     print(defect)"
   ],
   "metadata": {
    "collapsed": false
   },
   "execution_count": null
  },
  {
   "cell_type": "code",
   "outputs": [],
   "source": [
    "from pymatgen.core.surface import SlabGenerator\n",
    "import json\n",
    "from pymatgen.analysis.defects.generators import (\n",
    "    generate_all_native_defects, VoronoiInterstitialGenerator\n",
    ")\n",
    "generator = VoronoiInterstitialGenerator(        \n",
    "        clustering_tol = 0.1,\n",
    "        min_dist = 0.1,\n",
    "        ltol = 0.1,\n",
    "        stol = 0.1,\n",
    "        angle_tol = 1\n",
    ")\n",
    "slab_json = \"\"\"\n",
    "{\"name\":\"Silicon FCC - slab [1,0,0]\",\"basis\":{\"elements\":[{\"id\":4,\"value\":\"Si\"},{\"id\":5,\"value\":\"Si\"}],\"coordinates\":[{\"id\":4,\"value\":[0.2500001,0.25,0.08333333]},{\"id\":5,\"value\":[0.2500001,0.25,0.15]}],\"units\":\"crystal\",\"cell\":[[3.34892,0,1.9335],[1.116307,3.157392,1.9335],[0,0,58.005]],\"constraints\":[]},\"lattice\":{\"a\":3.867,\"b\":3.867,\"c\":58.005,\"alpha\":60,\"beta\":60,\"gamma\":60,\"units\":{\"length\":\"angstrom\",\"angle\":\"degree\"},\"type\":\"TRI\",\"vectors\":{\"a\":[3.34892,0,1.9335],\"b\":[1.116307,3.157392,1.9335],\"c\":[0,0,58.005],\"alat\":1,\"units\":\"angstrom\"}},\"isNonPeriodic\":false,\"metadata\":{\"isSlab\":true,\"h\":1,\"k\":0,\"l\":0,\"thickness\":3,\"vacuumRatio\":0.8,\"vx\":1,\"vy\":1},\"_id\":\"\",\"isUpdated\":true}\n",
    "\"\"\"\n",
    "material_slab = Material(json.loads(slab_json))\n",
    "silicon_slab = to_pymatgen(material_slab)\n",
    "defects = generator.get_defects(silicon_slab, insert_species=[\"Ge\"])\n",
    "\n",
    "\n",
    "generator = VoronoiInterstitialGenerator(        \n",
    "        clustering_tol = 0.1,\n",
    "        min_dist = 0.1,\n",
    "        ltol = 0.1,\n",
    "        stol = 0.1,\n",
    "        angle_tol = 1\n",
    ")\n",
    "defects = generator.get_defects(silicon_slab, insert_species=[\"Ge\"])\n",
    "# visualize(material_slab, rotation=\"-90x\")\n",
    "# view(to_ase(from_pymatgen(silicon_slab)))\n",
    "print(defects)\n",
    "view(to_ase(from_pymatgen(defects[1].defect_structure))*[1,1,1])\n",
    "visualize(([from_pymatgen(d.defect_structure) for d in defects]), rotation=\"-90x\")\n",
    "# for defect in generate_all_native_defects(silicon, int_generator=generator):\n",
    "#     print(defect)"
   ],
   "metadata": {
    "collapsed": false
   },
   "execution_count": null
  },
  {
   "cell_type": "markdown",
   "metadata": {},
   "source": [
    "### 6.3. Pass data to the outside runtime\n"
   ]
  },
  {
   "cell_type": "code",
   "execution_count": null,
   "metadata": {},
   "outputs": [],
   "source": [
    "from utils.jupyterlite import set_data\n",
    "set_data(\"materials\", materials)"
   ]
  },
  {
   "cell_type": "code",
   "outputs": [],
   "source": [],
   "metadata": {
    "collapsed": false
   }
  }
 ],
 "metadata": {
  "kernelspec": {
   "display_name": ".venv",
   "language": "python",
   "name": "python3"
  },
  "language_info": {
   "codemirror_mode": {
    "name": "ipython",
    "version": 3
   },
   "file_extension": ".py",
   "mimetype": "text/x-python",
   "name": "python",
   "nbconvert_exporter": "python",
   "pygments_lexer": "ipython3",
   "version": "3.10.12"
  },
  "widgets": {
   "application/vnd.jupyter.widget-state+json": {
    "state": {},
    "version_major": 2,
    "version_minor": 0
   }
  }
 },
 "nbformat": 4,
 "nbformat_minor": 4
}
