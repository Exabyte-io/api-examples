version https://git-lfs.github.com/spec/v1
oid sha256:e2b2d85c1d70daf0e271c669bf814e1440f278e18705f54db02395d4f8aef511
size 3420
