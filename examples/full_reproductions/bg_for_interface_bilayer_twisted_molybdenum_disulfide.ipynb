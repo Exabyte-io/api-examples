{
 "cells": [
  {
   "cell_type": "markdown",
   "id": "0",
   "metadata": {},
   "source": [
    "# Twisted Molybdenum Disulfide bilayers at various angles.\n",
    "\n",
    "## 0. Introduction.\n",
    "\n",
    "This notebook demonstrates how to generate a twisted interface between two materials using commensurate lattices. The example uses molybdenum disulfide (MoS2) as both the film and substrate materials. The notebook uses the new `create_commensurate_interface` function which first creates a slab from the material and then performs commensurate lattice matching to find valid supercells for the target twist angle. The algorithm searches for supercell matrices within specified size limits to achieve the target twist angle within tolerance. The generated interface is visualized and analyzed to determine the actual twist angle and the number of atoms in the interface.\n",
    "\n",
    "> **Kaihui Liu, Liming Zhang, Ting Cao, Chenhao Jin, Diana Qiu, Qin Zhou, Alex Zettl, Peidong Yang, Steve G. Louie & Feng Wang**\n",
    "> Evolution of interlayer coupling in twisted molybdenum disulfide bilayers. Nature Communications, 5, 4966. 2014.\n",
    " > [https://doi.org/10.1038/ncomms5966](https://doi.org/10.1038/ncomms5966)\n",
    "\n",
    "The twisted MoS2 bilayers are shown in the following Figure 4 from the article.\n",
    "\n",
    "<img src=\"https://github.com/Exabyte-io/documentation/raw/12617167278ae3523adc028583b21ea4e8ebd197/images/tutorials/materials/interfaces/twisted-bilayer-molybdenum-disulfide/MoS2-twisted-bilayers.png\" alt=\"Twisted MoS2 bilayers\" width=\"600\"/>"
   ]
  },
  {
   "cell_type": "markdown",
   "id": "1",
   "metadata": {},
   "source": [
    "## 1. Prepare the Environment\n",
    "### 1.1. Set up the notebook\n",
    "Let's set angles and corresponding distances for the twisted interface from the article."
   ]
  },
  {
   "cell_type": "code",
   "id": "2",
   "metadata": {
    "ExecuteTime": {
     "end_time": "2025-08-12T20:44:13.923429Z",
     "start_time": "2025-08-12T20:44:13.917743Z"
    }
   },
   "source": [
    "from mat3ra.code.array_with_ids import ArrayWithIds\n",
    "\n",
    "# Uncomment lines to reproduce specific cases from the article\n",
    "INTERFACE_PARAMETERS = [\n",
    "    # {\"angle\": 0.0, \"distance\": 6.8},\n",
    "    # {\"angle\": 13.0, \"distance\": 6.5},\n",
    "    # {\"angle\": 22.0, \"distance\": 6.5},\n",
    "    # {\"angle\": 38.0, \"distance\": 6.5},\n",
    "    # {\"angle\": 47.0, \"distance\": 6.5},\n",
    "    {\"angle\": 60.0, \"distance\": 6.1},  # AB1\n",
    "]\n",
    "\n",
    "# Slab creation parameters\n",
    "MILLER_INDICES = (0, 0, 1)  # Miller indices for slab creation\n",
    "NUMBER_OF_LAYERS = 1  # Number of layers in the slab\n",
    "\n",
    "INTERFACE_VACUUM = 20.0  # in Angstroms\n",
    "\n",
    "# Search algorithm parameters\n",
    "MAX_REPETITION = None  # Maximum supercell matrix element value (None for automatic)\n",
    "ANGLE_TOLERANCE = 0.5  # in degrees\n",
    "RETURN_FIRST_MATCH = True  # If True, returns first solution within tolerance\n",
    "\n",
    "# Visualization parameters\n",
    "SHOW_INTERMEDIATE_STEPS = True\n",
    "VISUALIZE_REPETITIONS = [3, 3, 1]"
   ],
   "outputs": [],
   "execution_count": 39
  },
  {
   "cell_type": "markdown",
   "id": "3",
   "metadata": {},
   "source": [
    " ### 1.2. Install packages\n",
    "The step executes only in Pyodide environment. For other environments, the packages should be installed via `pip install` (see [README](../../README.ipynb))."
   ]
  },
  {
   "cell_type": "code",
   "id": "4",
   "metadata": {
    "ExecuteTime": {
     "end_time": "2025-08-12T20:44:13.947916Z",
     "start_time": "2025-08-12T20:44:13.945454Z"
    }
   },
   "source": [
    "import sys\n",
    "\n",
    "if sys.platform == \"emscripten\":\n",
    "    import micropip\n",
    "\n",
    "    await micropip.install(\"mat3ra-api-examples\", deps=False)\n",
    "    await micropip.install(\"mat3ra-utils\")\n",
    "    from mat3ra.utils.jupyterlite.packages import install_packages\n",
    "\n",
    "    await install_packages(\"specific_examples|api_examples\")"
   ],
   "outputs": [],
   "execution_count": 40
  },
  {
   "cell_type": "markdown",
   "id": "5",
   "metadata": {},
   "source": [
    "### 1.3. Get input material\n",
    "We'll use the MoS2 material from Standata.\n"
   ]
  },
  {
   "cell_type": "code",
   "id": "6",
   "metadata": {
    "ExecuteTime": {
     "end_time": "2025-08-12T20:44:14.210345Z",
     "start_time": "2025-08-12T20:44:13.971204Z"
    }
   },
   "source": [
    "from mat3ra.made.material import Material\n",
    "from mat3ra.standata.materials import Materials\n",
    "from utils.visualize import visualize_materials\n",
    "\n",
    "material = Material.create(Materials.get_by_name_and_categories(\"MoS2\", \"2D\"))\n",
    "\n",
    "print(\"Initial material properties:\")\n",
    "print(f\"Formula: {material.formula}\")\n",
    "print(f\"Number of atoms: {len(material.basis.elements.ids)}\")\n",
    "\n",
    "if SHOW_INTERMEDIATE_STEPS:\n",
    "    visualize_materials(material, repetitions=VISUALIZE_REPETITIONS)\n",
    "    visualize_materials(material, repetitions=VISUALIZE_REPETITIONS, rotation=\"-90x\")"
   ],
   "outputs": [
    {
     "name": "stdout",
     "output_type": "stream",
     "text": [
      "Initial material properties:\n",
      "Formula: None\n",
      "Number of atoms: 3\n"
     ]
    },
    {
     "data": {
      "text/plain": [
       "GridBox(children=(VBox(children=(Label(value='MoS2 - Material - rotation: 0x,0y,0z', layout=Layout(align_self=…"
      ],
      "application/vnd.jupyter.widget-view+json": {
       "version_major": 2,
       "version_minor": 0,
       "model_id": "0559cf54049043f9b4c1bafe19088b33"
      }
     },
     "metadata": {},
     "output_type": "display_data"
    },
    {
     "data": {
      "text/plain": [
       "GridBox(children=(VBox(children=(Label(value='MoS2 - Material - rotation: -90x', layout=Layout(align_self='cen…"
      ],
      "application/vnd.jupyter.widget-view+json": {
       "version_major": 2,
       "version_minor": 0,
       "model_id": "9c492f92c73c48cb81a46d1edc8bfd06"
      }
     },
     "metadata": {},
     "output_type": "display_data"
    }
   ],
   "execution_count": 41
  },
  {
   "cell_type": "markdown",
   "id": "7",
   "metadata": {},
   "source": [
    " ## 3. Generate Twisted Interface\n",
    " ### 3.1. Create slab\n"
   ]
  },
  {
   "cell_type": "code",
   "id": "8",
   "metadata": {
    "ExecuteTime": {
     "end_time": "2025-08-12T20:44:15.049450Z",
     "start_time": "2025-08-12T20:44:14.288071Z"
    }
   },
   "source": [
    "from mat3ra.made.tools.modify import translate_to_z_level\n",
    "from mat3ra.esse.models.core.reusable.axis_enum import AxisEnum\n",
    "from mat3ra.made.tools.helpers import create_slab\n",
    "from mat3ra.made.tools.helpers import create_interface_commensurate as create_commensurate_interface\n",
    "\n",
    "slab = create_slab(\n",
    "    crystal=material,\n",
    "    miller_indices=MILLER_INDICES,\n",
    "    number_of_layers=NUMBER_OF_LAYERS,\n",
    "    vacuum=0.0,  # No vacuum in the slab, it is a 2D material\n",
    ")\n",
    "slab = translate_to_z_level(slab, \"center\")\n",
    "\n",
    "visualize_materials(slab, rotation=\"-90x\")"
   ],
   "outputs": [
    {
     "data": {
      "text/plain": [
       "GridBox(children=(VBox(children=(Label(value='MoS2 - Material - rotation: -90x', layout=Layout(align_self='cen…"
      ],
      "application/vnd.jupyter.widget-view+json": {
       "version_major": 2,
       "version_minor": 0,
       "model_id": "8cee7a514ae448d891eac87e997628a9"
      }
     },
     "metadata": {},
     "output_type": "display_data"
    }
   ],
   "execution_count": 42
  },
  {
   "cell_type": "markdown",
   "id": "9",
   "metadata": {},
   "source": [
    "### 3.2. Create twisted interfaces"
   ]
  },
  {
   "cell_type": "code",
   "id": "10",
   "metadata": {
    "ExecuteTime": {
     "end_time": "2025-08-12T20:44:16.641829Z",
     "start_time": "2025-08-12T20:44:15.062168Z"
    }
   },
   "source": [
    "from mat3ra.made.tools.modify import add_vacuum\n",
    "\n",
    "interfaces = []\n",
    "for parameters in INTERFACE_PARAMETERS:\n",
    "    interface = create_commensurate_interface(\n",
    "        material=slab,\n",
    "        target_angle=parameters[\"angle\"],\n",
    "        angle_tolerance=ANGLE_TOLERANCE,\n",
    "        max_repetition_int=MAX_REPETITION,\n",
    "        return_first_match=RETURN_FIRST_MATCH,\n",
    "        direction=AxisEnum.z,\n",
    "        gap=parameters[\"distance\"],\n",
    "        vacuum=INTERFACE_VACUUM,  # TODO: fix, doesn't work now!\n",
    "    )\n",
    "    interface = add_vacuum(interface, INTERFACE_VACUUM)\n",
    "    interface.basis.labels = ArrayWithIds.from_values([])\n",
    "    interface.name = f\"{interface.name} {parameters['angle']} degrees\"\n",
    "    interfaces.append(interface)\n",
    "    print(f\"Created interface with twist angle {parameters['angle']}° and {len(interface.basis.elements.ids)} atoms\")"
   ],
   "outputs": [
    {
     "name": "stdout",
     "output_type": "stream",
     "text": [
      "Created interface with twist angle 60.0° and 6 atoms\n"
     ]
    }
   ],
   "execution_count": 43
  },
  {
   "cell_type": "markdown",
   "id": "11",
   "metadata": {},
   "source": [
    "## 4. Preview the  materials\n"
   ]
  },
  {
   "cell_type": "code",
   "id": "12",
   "metadata": {
    "ExecuteTime": {
     "end_time": "2025-08-12T20:44:16.663709Z",
     "start_time": "2025-08-12T20:44:16.656947Z"
    }
   },
   "source": [
    "from utils.visualize import visualize_materials\n",
    "\n",
    "for interface in interfaces:\n",
    "    visualize_materials(interface, title=interface.name, viewer=\"wave\")"
   ],
   "outputs": [
    {
     "data": {
      "text/plain": [
       "<IPython.core.display.HTML object>"
      ],
      "text/html": [
       "\n",
       "    <h2>MoS2(001)-MoS2(001), Interface 60.0 degrees</h2>\n",
       "    <div id=\"wave-1755031456.658219\" style=\"width:600px; height:600px; border:1px solid #333;\"></div>\n",
       "    "
      ]
     },
     "metadata": {},
     "output_type": "display_data"
    },
    {
     "data": {
      "text/plain": [
       "<IPython.core.display.Javascript object>"
      ],
      "application/javascript": "\n    const materialConfig={\"description\":null,\"descriptionObject\":null,\"metadata\":{\"build\":[{\"configuration\":{\"stack_components\":[{\"xy_supercell_matrix\":[[-1,0],[-1,-1]],\"strain_matrix\":[[1.0,0.0,0.0],[0.0,1.0,0.0],[0.0,0.0,1.0]],\"stack_components\":[{\"termination_top\":{\"chemical_elements\":\"S\",\"space_group_symmetry_label\":\"P6/mmm_1\"},\"number_of_repetitions\":1,\"miller_indices\":[0,0,1],\"crystal\":{\"description\":null,\"descriptionObject\":null,\"metadata\":{\"build\":[],\"boundaryConditions\":{\"type\":\"pbc\",\"offset\":0}},\"name\":\"Mo1 S2\",\"isDefault\":false,\"formula\":null,\"unitCellFormula\":null,\"basis\":{\"elements\":[{\"id\":0,\"value\":\"Mo\"},{\"id\":1,\"value\":\"S\"},{\"id\":2,\"value\":\"S\"}],\"coordinates\":[{\"id\":0,\"value\":[0.666666667,0.333333333,0.5]},{\"id\":1,\"value\":[0.333333333,0.666666667,0.432137]},{\"id\":2,\"value\":[0.333333333,0.666666667,0.567863]}],\"units\":\"crystal\",\"labels\":[],\"constraints\":[]},\"lattice\":{\"a\":3.196223,\"b\":3.196223,\"c\":23.12983,\"alpha\":90.0,\"beta\":90.0,\"gamma\":120.0,\"units\":{\"length\":\"angstrom\",\"angle\":\"degree\"},\"type\":\"TRI\"},\"derivedProperties\":null,\"external\":null,\"src\":null,\"scaledHash\":null,\"icsdId\":null,\"isNonPeriodic\":false,\"consistencyChecks\":null,\"field_id\":null,\"slug\":null,\"systemName\":null,\"schemaVersion\":\"2022.8.16\"},\"use_conventional_cell\":true,\"termination_bottom\":{\"chemical_elements\":\"S\",\"space_group_symmetry_label\":\"P6/mmm_1\"}},{\"direction\":\"z\",\"size\":20.0,\"crystal\":{\"description\":null,\"descriptionObject\":null,\"metadata\":{\"build\":[{\"configuration\":{\"termination_top\":{\"chemical_elements\":\"S\",\"space_group_symmetry_label\":\"P6/mmm_1\"},\"number_of_repetitions\":1,\"miller_indices\":[0,0,1],\"crystal\":{\"description\":null,\"descriptionObject\":null,\"metadata\":{\"build\":[],\"boundaryConditions\":{\"type\":\"pbc\",\"offset\":0}},\"name\":\"Mo1 S2\",\"isDefault\":false,\"formula\":null,\"unitCellFormula\":null,\"basis\":{\"elements\":[{\"id\":0,\"value\":\"Mo\"},{\"id\":1,\"value\":\"S\"},{\"id\":2,\"value\":\"S\"}],\"coordinates\":[{\"id\":0,\"value\":[0.666666667,0.333333333,0.5]},{\"id\":1,\"value\":[0.333333333,0.666666667,0.432137]},{\"id\":2,\"value\":[0.333333333,0.666666667,0.567863]}],\"units\":\"crystal\",\"labels\":[],\"constraints\":[]},\"lattice\":{\"a\":3.196223,\"b\":3.196223,\"c\":23.12983,\"alpha\":90.0,\"beta\":90.0,\"gamma\":120.0,\"units\":{\"length\":\"angstrom\",\"angle\":\"degree\"},\"type\":\"TRI\"},\"derivedProperties\":null,\"external\":null,\"src\":null,\"scaledHash\":null,\"icsdId\":null,\"isNonPeriodic\":false,\"consistencyChecks\":null,\"field_id\":null,\"slug\":null,\"systemName\":null,\"schemaVersion\":\"2022.8.16\"},\"use_conventional_cell\":true,\"termination_bottom\":{\"chemical_elements\":\"S\",\"space_group_symmetry_label\":\"P6/mmm_1\"}},\"build_parameters\":{}}],\"boundaryConditions\":{\"type\":\"pbc\",\"offset\":0}},\"name\":\"MoS2(001), termination S_P6/mmm_1\",\"isDefault\":false,\"formula\":\"MoS2\",\"unitCellFormula\":null,\"basis\":{\"elements\":[{\"id\":0,\"value\":\"Mo\"},{\"id\":1,\"value\":\"S\"},{\"id\":2,\"value\":\"S\"}],\"coordinates\":[{\"id\":0,\"value\":[0.666666667,0.333333333,0.067864]},{\"id\":1,\"value\":[0.333333333,0.666666667,1e-6]},{\"id\":2,\"value\":[0.333333333,0.666666667,0.135727]}],\"units\":\"crystal\",\"labels\":[],\"constraints\":[]},\"lattice\":{\"a\":3.196223,\"b\":3.196223,\"c\":23.12983,\"alpha\":90.0,\"beta\":90.0,\"gamma\":120.0,\"units\":{\"length\":\"angstrom\",\"angle\":\"degree\"},\"type\":\"TRI\"},\"derivedProperties\":null,\"external\":null,\"src\":null,\"scaledHash\":null,\"icsdId\":null,\"isNonPeriodic\":false,\"consistencyChecks\":null,\"field_id\":null,\"slug\":null,\"systemName\":null,\"schemaVersion\":\"2022.8.16\"},\"type\":\"VacuumConfiguration\"}],\"direction\":\"z\",\"gaps\":[],\"type\":\"SlabConfiguration\",\"termination_top\":null,\"termination_bottom\":null},{\"xy_supercell_matrix\":[[-1,-1],[0,-1]],\"strain_matrix\":[[1.0,0.0,0.0],[0.0,1.0,0.0],[0.0,0.0,1.0]],\"stack_components\":[{\"termination_top\":{\"chemical_elements\":\"S\",\"space_group_symmetry_label\":\"P6/mmm_1\"},\"number_of_repetitions\":1,\"miller_indices\":[0,0,1],\"crystal\":{\"description\":null,\"descriptionObject\":null,\"metadata\":{\"build\":[],\"boundaryConditions\":{\"type\":\"pbc\",\"offset\":0}},\"name\":\"Mo1 S2\",\"isDefault\":false,\"formula\":null,\"unitCellFormula\":null,\"basis\":{\"elements\":[{\"id\":0,\"value\":\"Mo\"},{\"id\":1,\"value\":\"S\"},{\"id\":2,\"value\":\"S\"}],\"coordinates\":[{\"id\":0,\"value\":[0.666666667,0.333333333,0.5]},{\"id\":1,\"value\":[0.333333333,0.666666667,0.432137]},{\"id\":2,\"value\":[0.333333333,0.666666667,0.567863]}],\"units\":\"crystal\",\"labels\":[],\"constraints\":[]},\"lattice\":{\"a\":3.196223,\"b\":3.196223,\"c\":23.12983,\"alpha\":90.0,\"beta\":90.0,\"gamma\":120.0,\"units\":{\"length\":\"angstrom\",\"angle\":\"degree\"},\"type\":\"TRI\"},\"derivedProperties\":null,\"external\":null,\"src\":null,\"scaledHash\":null,\"icsdId\":null,\"isNonPeriodic\":false,\"consistencyChecks\":null,\"field_id\":null,\"slug\":null,\"systemName\":null,\"schemaVersion\":\"2022.8.16\"},\"use_conventional_cell\":true,\"termination_bottom\":{\"chemical_elements\":\"S\",\"space_group_symmetry_label\":\"P6/mmm_1\"}},{\"direction\":\"z\",\"size\":20.0,\"crystal\":{\"description\":null,\"descriptionObject\":null,\"metadata\":{\"build\":[{\"configuration\":{\"termination_top\":{\"chemical_elements\":\"S\",\"space_group_symmetry_label\":\"P6/mmm_1\"},\"number_of_repetitions\":1,\"miller_indices\":[0,0,1],\"crystal\":{\"description\":null,\"descriptionObject\":null,\"metadata\":{\"build\":[],\"boundaryConditions\":{\"type\":\"pbc\",\"offset\":0}},\"name\":\"Mo1 S2\",\"isDefault\":false,\"formula\":null,\"unitCellFormula\":null,\"basis\":{\"elements\":[{\"id\":0,\"value\":\"Mo\"},{\"id\":1,\"value\":\"S\"},{\"id\":2,\"value\":\"S\"}],\"coordinates\":[{\"id\":0,\"value\":[0.666666667,0.333333333,0.5]},{\"id\":1,\"value\":[0.333333333,0.666666667,0.432137]},{\"id\":2,\"value\":[0.333333333,0.666666667,0.567863]}],\"units\":\"crystal\",\"labels\":[],\"constraints\":[]},\"lattice\":{\"a\":3.196223,\"b\":3.196223,\"c\":23.12983,\"alpha\":90.0,\"beta\":90.0,\"gamma\":120.0,\"units\":{\"length\":\"angstrom\",\"angle\":\"degree\"},\"type\":\"TRI\"},\"derivedProperties\":null,\"external\":null,\"src\":null,\"scaledHash\":null,\"icsdId\":null,\"isNonPeriodic\":false,\"consistencyChecks\":null,\"field_id\":null,\"slug\":null,\"systemName\":null,\"schemaVersion\":\"2022.8.16\"},\"use_conventional_cell\":true,\"termination_bottom\":{\"chemical_elements\":\"S\",\"space_group_symmetry_label\":\"P6/mmm_1\"}},\"build_parameters\":{}}],\"boundaryConditions\":{\"type\":\"pbc\",\"offset\":0}},\"name\":\"MoS2(001), termination S_P6/mmm_1\",\"isDefault\":false,\"formula\":\"MoS2\",\"unitCellFormula\":null,\"basis\":{\"elements\":[{\"id\":0,\"value\":\"Mo\"},{\"id\":1,\"value\":\"S\"},{\"id\":2,\"value\":\"S\"}],\"coordinates\":[{\"id\":0,\"value\":[0.666666667,0.333333333,0.067864]},{\"id\":1,\"value\":[0.333333333,0.666666667,1e-6]},{\"id\":2,\"value\":[0.333333333,0.666666667,0.135727]}],\"units\":\"crystal\",\"labels\":[],\"constraints\":[]},\"lattice\":{\"a\":3.196223,\"b\":3.196223,\"c\":23.12983,\"alpha\":90.0,\"beta\":90.0,\"gamma\":120.0,\"units\":{\"length\":\"angstrom\",\"angle\":\"degree\"},\"type\":\"TRI\"},\"derivedProperties\":null,\"external\":null,\"src\":null,\"scaledHash\":null,\"icsdId\":null,\"isNonPeriodic\":false,\"consistencyChecks\":null,\"field_id\":null,\"slug\":null,\"systemName\":null,\"schemaVersion\":\"2022.8.16\"},\"type\":\"VacuumConfiguration\"}],\"direction\":\"z\",\"gaps\":[],\"type\":\"SlabConfiguration\",\"termination_top\":null,\"termination_bottom\":null}],\"direction\":\"z\",\"xy_shift\":[0.0,0.0],\"gaps\":[{\"id\":0,\"value\":6.1},{\"id\":1,\"value\":6.1}],\"type\":\"InterfaceConfiguration\"},\"build_parameters\":{\"make_primitive\":false}}],\"boundaryConditions\":{\"type\":\"pbc\",\"offset\":0}},\"name\":\"MoS2(001)-MoS2(001), Interface 60.0 degrees\",\"isDefault\":false,\"formula\":null,\"unitCellFormula\":null,\"basis\":{\"elements\":[{\"id\":0,\"value\":\"Mo\"},{\"id\":1,\"value\":\"S\"},{\"id\":2,\"value\":\"S\"},{\"id\":3,\"value\":\"Mo\"},{\"id\":4,\"value\":\"S\"},{\"id\":5,\"value\":\"S\"}],\"coordinates\":[{\"id\":0,\"value\":[0.666666666,0.666666667,0.040793566]},{\"id\":1,\"value\":[0.333333334,0.333333333,6.01e-7]},{\"id\":2,\"value\":[0.333333334,0.333333333,0.081586532]},{\"id\":3,\"value\":[0.333333333,0.333333334,0.280909424]},{\"id\":4,\"value\":[0.666666667,0.666666666,0.240116459]},{\"id\":5,\"value\":[0.666666667,0.666666666,0.32170239]}],\"units\":\"crystal\",\"labels\":[],\"constraints\":[]},\"lattice\":{\"a\":3.196223,\"b\":3.196223,\"c\":38.478684866,\"alpha\":90.0,\"beta\":90.0,\"gamma\":60.0,\"units\":{\"length\":\"angstrom\",\"angle\":\"degree\"},\"type\":\"TRI\"},\"derivedProperties\":null,\"external\":null,\"src\":null,\"scaledHash\":null,\"icsdId\":null,\"isNonPeriodic\":false,\"consistencyChecks\":null,\"field_id\":null,\"slug\":null,\"systemName\":null,\"schemaVersion\":\"2022.8.16\"};\n    const container = document.getElementById('wave-1755031456.658219');\n        \n    (async function() {\n            const module = await import('https://exabyte-io.github.io/wave.js/main.js');\n            window.renderThreeDEditor(materialConfig, container);\n    })();\n    document.head.insertAdjacentHTML(\n        'beforeend',\n        '<link rel=\"stylesheet\" href=\"https://exabyte-io.github.io/wave.js/main.css\"/>');\n    "
     },
     "metadata": {},
     "output_type": "display_data"
    }
   ],
   "execution_count": 44
  },
  {
   "metadata": {},
   "cell_type": "markdown",
   "source": "## 5. Save materials",
   "id": "ed801fd8207071b1"
  },
  {
   "metadata": {
    "ExecuteTime": {
     "end_time": "2025-08-12T20:44:16.731546Z",
     "start_time": "2025-08-12T20:44:16.712618Z"
    }
   },
   "cell_type": "code",
   "source": [
    "from utils.jupyterlite import set_materials\n",
    "\n",
    "interface = interfaces[0]\n",
    "set_materials(interface)"
   ],
   "id": "3a28d9803d4d66cc",
   "outputs": [
    {
     "name": "stdout",
     "output_type": "stream",
     "text": [
      "Data for materials written to uploads/MoS2(001)-MoS2(001), Interface 60.0 degrees.json\n"
     ]
    }
   ],
   "execution_count": 45
  },
  {
   "metadata": {},
   "cell_type": "markdown",
   "source": [
    "## 6. Add materials to your collection\n",
    "### 6.1. Authenticate on the Platform"
   ],
   "id": "ccabb1ef14be9745"
  },
  {
   "metadata": {
    "ExecuteTime": {
     "end_time": "2025-08-12T20:44:16.765797Z",
     "start_time": "2025-08-12T20:44:16.761354Z"
    }
   },
   "cell_type": "code",
   "source": [
    "ACCOUNT_ID = \"ACCOUNT_ID\"\n",
    "AUTH_TOKEN = \"AUTH_TOKEN\"\n",
    "MATERIALS_PROJECT_API_KEY = \"MATERIALS_PROJECT_API_KEY\"\n",
    "ORGANIZATION_ID = \"ORGANIZATION_ID\"\n",
    "\n",
    "import os\n",
    "import sys\n",
    "\n",
    "if sys.platform == \"emscripten\":\n",
    "    # Only works if launched within the Platform, otherwise requires redirect to Login\n",
    "    apiConfig = data_from_host.get(\"apiConfig\")\n",
    "    os.environ.update(data_from_host.get(\"environ\", {}))\n",
    "    os.environ.update(\n",
    "        dict(\n",
    "            ACCOUNT_ID=apiConfig.get(\"accountId\"),\n",
    "            AUTH_TOKEN=apiConfig.get(\"authToken\"),\n",
    "            MATERIALS_PROJECT_API_KEY=MATERIALS_PROJECT_API_KEY,\n",
    "            ORGANIZATION_ID=apiConfig.get(\"organizationId\") or \"\",\n",
    "        )\n",
    "    )"
   ],
   "id": "864643067a2220b8",
   "outputs": [],
   "execution_count": 46
  },
  {
   "cell_type": "markdown",
   "id": "13",
   "metadata": {},
   "source": "### 6.2. Add materials to your Collection via API\n"
  },
  {
   "metadata": {
    "ExecuteTime": {
     "end_time": "2025-08-12T20:44:17.673492Z",
     "start_time": "2025-08-12T20:44:16.776575Z"
    }
   },
   "cell_type": "code",
   "source": [
    "from utils.settings import ENDPOINT_ARGS, ACCOUNT_ID\n",
    "from utils.generic import display_JSON\n",
    "\n",
    "from exabyte_api_client.endpoints.materials import MaterialEndpoints\n",
    "\n",
    "RAW_CONFIG = interface.to_dict()\n",
    "fields = [\"name\", \"lattice\", \"basis\"]\n",
    "CONFIG = {key: RAW_CONFIG[key] for key in fields}\n",
    "\n",
    "OWNER_ID = os.getenv(\"ORGANIZATION_ID\") or ACCOUNT_ID\n",
    "endpoint = MaterialEndpoints(*ENDPOINT_ARGS)\n",
    "saved_material = endpoint.create(CONFIG, OWNER_ID)"
   ],
   "id": "a04951f277d7dda",
   "outputs": [
    {
     "ename": "HTTPError",
     "evalue": "401 Client Error: Unauthorized for url: https://platform.mat3ra.com:443/api/2018-10-01/materials/create",
     "output_type": "error",
     "traceback": [
      "\u001B[0;31m---------------------------------------------------------------------------\u001B[0m",
      "\u001B[0;31mHTTPError\u001B[0m                                 Traceback (most recent call last)",
      "Cell \u001B[0;32mIn[47], line 12\u001B[0m\n\u001B[1;32m     10\u001B[0m OWNER_ID \u001B[38;5;241m=\u001B[39m os\u001B[38;5;241m.\u001B[39mgetenv(\u001B[38;5;124m\"\u001B[39m\u001B[38;5;124mORGANIZATION_ID\u001B[39m\u001B[38;5;124m\"\u001B[39m) \u001B[38;5;129;01mor\u001B[39;00m ACCOUNT_ID\n\u001B[1;32m     11\u001B[0m endpoint \u001B[38;5;241m=\u001B[39m MaterialEndpoints(\u001B[38;5;241m*\u001B[39mENDPOINT_ARGS)\n\u001B[0;32m---> 12\u001B[0m saved_material \u001B[38;5;241m=\u001B[39m \u001B[43mendpoint\u001B[49m\u001B[38;5;241;43m.\u001B[39;49m\u001B[43mcreate\u001B[49m\u001B[43m(\u001B[49m\u001B[43mCONFIG\u001B[49m\u001B[43m,\u001B[49m\u001B[43m \u001B[49m\u001B[43mOWNER_ID\u001B[49m\u001B[43m)\u001B[49m\n",
      "File \u001B[0;32m~/code/GREEN/api-examples/.venv-3.11.2/lib/python3.11/site-packages/exabyte_api_client/endpoints/entity.py:92\u001B[0m, in \u001B[0;36mEntityEndpoint.create\u001B[0;34m(self, config, owner_id)\u001B[0m\n\u001B[1;32m     90\u001B[0m \u001B[38;5;28;01mif\u001B[39;00m owner_id:\n\u001B[1;32m     91\u001B[0m     config[\u001B[38;5;124m\"\u001B[39m\u001B[38;5;124mowner\u001B[39m\u001B[38;5;124m\"\u001B[39m] \u001B[38;5;241m=\u001B[39m {\u001B[38;5;124m\"\u001B[39m\u001B[38;5;124m_id\u001B[39m\u001B[38;5;124m\"\u001B[39m: owner_id}\n\u001B[0;32m---> 92\u001B[0m \u001B[38;5;28;01mreturn\u001B[39;00m \u001B[38;5;28;43mself\u001B[39;49m\u001B[38;5;241;43m.\u001B[39;49m\u001B[43mrequest\u001B[49m\u001B[43m(\u001B[49m\u001B[38;5;124;43m\"\u001B[39;49m\u001B[38;5;124;43mPUT\u001B[39;49m\u001B[38;5;124;43m\"\u001B[39;49m\u001B[43m,\u001B[49m\u001B[43m \u001B[49m\u001B[38;5;124;43m\"\u001B[39;49m\u001B[38;5;124;43m/\u001B[39;49m\u001B[38;5;124;43m\"\u001B[39;49m\u001B[38;5;241;43m.\u001B[39;49m\u001B[43mjoin\u001B[49m\u001B[43m(\u001B[49m\u001B[43m(\u001B[49m\u001B[38;5;28;43mself\u001B[39;49m\u001B[38;5;241;43m.\u001B[39;49m\u001B[43mname\u001B[49m\u001B[43m,\u001B[49m\u001B[43m \u001B[49m\u001B[38;5;124;43m\"\u001B[39;49m\u001B[38;5;124;43mcreate\u001B[39;49m\u001B[38;5;124;43m\"\u001B[39;49m\u001B[43m)\u001B[49m\u001B[43m)\u001B[49m\u001B[43m,\u001B[49m\u001B[43m \u001B[49m\u001B[43mdata\u001B[49m\u001B[38;5;241;43m=\u001B[39;49m\u001B[43mjson\u001B[49m\u001B[38;5;241;43m.\u001B[39;49m\u001B[43mdumps\u001B[49m\u001B[43m(\u001B[49m\u001B[43mconfig\u001B[49m\u001B[43m)\u001B[49m\u001B[43m,\u001B[49m\u001B[43m \u001B[49m\u001B[43mheaders\u001B[49m\u001B[38;5;241;43m=\u001B[39;49m\u001B[38;5;28;43mself\u001B[39;49m\u001B[38;5;241;43m.\u001B[39;49m\u001B[43mheaders\u001B[49m\u001B[43m)\u001B[49m\n",
      "File \u001B[0;32m~/code/GREEN/api-examples/.venv-3.11.2/lib/python3.11/site-packages/exabyte_api_client/endpoints/__init__.py:38\u001B[0m, in \u001B[0;36mBaseEndpoint.request\u001B[0;34m(self, method, endpoint_path, params, data, headers)\u001B[0m\n\u001B[1;32m     24\u001B[0m \u001B[38;5;250m\u001B[39m\u001B[38;5;124;03m\"\"\"\u001B[39;00m\n\u001B[1;32m     25\u001B[0m \u001B[38;5;124;03mSends an HTTP request with given params, headers and data to the given endpoint.\u001B[39;00m\n\u001B[1;32m     26\u001B[0m \n\u001B[0;32m   (...)\u001B[0m\n\u001B[1;32m     35\u001B[0m \u001B[38;5;124;03m    json: response\u001B[39;00m\n\u001B[1;32m     36\u001B[0m \u001B[38;5;124;03m\"\"\"\u001B[39;00m\n\u001B[1;32m     37\u001B[0m \u001B[38;5;28;01mwith\u001B[39;00m \u001B[38;5;28mself\u001B[39m\u001B[38;5;241m.\u001B[39mconn:\n\u001B[0;32m---> 38\u001B[0m     \u001B[38;5;28;43mself\u001B[39;49m\u001B[38;5;241;43m.\u001B[39;49m\u001B[43mconn\u001B[49m\u001B[38;5;241;43m.\u001B[39;49m\u001B[43mrequest\u001B[49m\u001B[43m(\u001B[49m\u001B[43mmethod\u001B[49m\u001B[43m,\u001B[49m\u001B[43m \u001B[49m\u001B[43mendpoint_path\u001B[49m\u001B[43m,\u001B[49m\u001B[43m \u001B[49m\u001B[43mparams\u001B[49m\u001B[43m,\u001B[49m\u001B[43m \u001B[49m\u001B[43mdata\u001B[49m\u001B[43m,\u001B[49m\u001B[43m \u001B[49m\u001B[43mheaders\u001B[49m\u001B[43m)\u001B[49m\n\u001B[1;32m     39\u001B[0m     response \u001B[38;5;241m=\u001B[39m \u001B[38;5;28mself\u001B[39m\u001B[38;5;241m.\u001B[39mconn\u001B[38;5;241m.\u001B[39mjson()\n\u001B[1;32m     40\u001B[0m     \u001B[38;5;28;01mif\u001B[39;00m response[\u001B[38;5;124m\"\u001B[39m\u001B[38;5;124mstatus\u001B[39m\u001B[38;5;124m\"\u001B[39m] \u001B[38;5;241m!=\u001B[39m \u001B[38;5;124m\"\u001B[39m\u001B[38;5;124msuccess\u001B[39m\u001B[38;5;124m\"\u001B[39m:\n",
      "File \u001B[0;32m~/code/GREEN/api-examples/.venv-3.11.2/lib/python3.11/site-packages/exabyte_api_client/utils/http.py:147\u001B[0m, in \u001B[0;36mConnection.request\u001B[0;34m(self, method, endpoint_path, params, data, headers)\u001B[0m\n\u001B[1;32m    136\u001B[0m \u001B[38;5;250m\u001B[39m\u001B[38;5;124;03m\"\"\"\u001B[39;00m\n\u001B[1;32m    137\u001B[0m \u001B[38;5;124;03mSends an HTTP request with given params, headers and data to the given endpoint.\u001B[39;00m\n\u001B[1;32m    138\u001B[0m \n\u001B[0;32m   (...)\u001B[0m\n\u001B[1;32m    144\u001B[0m \u001B[38;5;124;03m    params (dict): URL parameters to append to the URL.\u001B[39;00m\n\u001B[1;32m    145\u001B[0m \u001B[38;5;124;03m\"\"\"\u001B[39;00m\n\u001B[1;32m    146\u001B[0m url \u001B[38;5;241m=\u001B[39m urllib\u001B[38;5;241m.\u001B[39mparse\u001B[38;5;241m.\u001B[39murljoin(\u001B[38;5;28mself\u001B[39m\u001B[38;5;241m.\u001B[39mpreamble, endpoint_path)\n\u001B[0;32m--> 147\u001B[0m \u001B[38;5;28;43msuper\u001B[39;49m\u001B[43m(\u001B[49m\u001B[43mConnection\u001B[49m\u001B[43m,\u001B[49m\u001B[43m \u001B[49m\u001B[38;5;28;43mself\u001B[39;49m\u001B[43m)\u001B[49m\u001B[38;5;241;43m.\u001B[39;49m\u001B[43mrequest\u001B[49m\u001B[43m(\u001B[49m\u001B[43mmethod\u001B[49m\u001B[43m,\u001B[49m\u001B[43m \u001B[49m\u001B[43murl\u001B[49m\u001B[43m,\u001B[49m\u001B[43m \u001B[49m\u001B[43mparams\u001B[49m\u001B[43m,\u001B[49m\u001B[43m \u001B[49m\u001B[43mdata\u001B[49m\u001B[43m,\u001B[49m\u001B[43m \u001B[49m\u001B[43mheaders\u001B[49m\u001B[43m)\u001B[49m\n",
      "File \u001B[0;32m~/code/GREEN/api-examples/.venv-3.11.2/lib/python3.11/site-packages/exabyte_api_client/utils/http.py:35\u001B[0m, in \u001B[0;36mBaseConnection.request\u001B[0;34m(self, method, url, params, data, headers)\u001B[0m\n\u001B[1;32m     24\u001B[0m \u001B[38;5;250m\u001B[39m\u001B[38;5;124;03m\"\"\"\u001B[39;00m\n\u001B[1;32m     25\u001B[0m \u001B[38;5;124;03mSends an HTTP request with given params, headers and data to the given url.\u001B[39;00m\n\u001B[1;32m     26\u001B[0m \n\u001B[0;32m   (...)\u001B[0m\n\u001B[1;32m     32\u001B[0m \u001B[38;5;124;03m    params (dict): URL parameters to append to the URL.\u001B[39;00m\n\u001B[1;32m     33\u001B[0m \u001B[38;5;124;03m\"\"\"\u001B[39;00m\n\u001B[1;32m     34\u001B[0m \u001B[38;5;28mself\u001B[39m\u001B[38;5;241m.\u001B[39mresponse \u001B[38;5;241m=\u001B[39m \u001B[38;5;28mself\u001B[39m\u001B[38;5;241m.\u001B[39msession\u001B[38;5;241m.\u001B[39mrequest(method\u001B[38;5;241m=\u001B[39mmethod\u001B[38;5;241m.\u001B[39mlower(), url\u001B[38;5;241m=\u001B[39murl, params\u001B[38;5;241m=\u001B[39mparams, data\u001B[38;5;241m=\u001B[39mdata, headers\u001B[38;5;241m=\u001B[39mheaders)\n\u001B[0;32m---> 35\u001B[0m \u001B[38;5;28;43mself\u001B[39;49m\u001B[38;5;241;43m.\u001B[39;49m\u001B[43mresponse\u001B[49m\u001B[38;5;241;43m.\u001B[39;49m\u001B[43mraise_for_status\u001B[49m\u001B[43m(\u001B[49m\u001B[43m)\u001B[49m\n",
      "File \u001B[0;32m~/code/GREEN/api-examples/.venv-3.11.2/lib/python3.11/site-packages/requests/models.py:1024\u001B[0m, in \u001B[0;36mResponse.raise_for_status\u001B[0;34m(self)\u001B[0m\n\u001B[1;32m   1019\u001B[0m     http_error_msg \u001B[38;5;241m=\u001B[39m (\n\u001B[1;32m   1020\u001B[0m         \u001B[38;5;124mf\u001B[39m\u001B[38;5;124m\"\u001B[39m\u001B[38;5;132;01m{\u001B[39;00m\u001B[38;5;28mself\u001B[39m\u001B[38;5;241m.\u001B[39mstatus_code\u001B[38;5;132;01m}\u001B[39;00m\u001B[38;5;124m Server Error: \u001B[39m\u001B[38;5;132;01m{\u001B[39;00mreason\u001B[38;5;132;01m}\u001B[39;00m\u001B[38;5;124m for url: \u001B[39m\u001B[38;5;132;01m{\u001B[39;00m\u001B[38;5;28mself\u001B[39m\u001B[38;5;241m.\u001B[39murl\u001B[38;5;132;01m}\u001B[39;00m\u001B[38;5;124m\"\u001B[39m\n\u001B[1;32m   1021\u001B[0m     )\n\u001B[1;32m   1023\u001B[0m \u001B[38;5;28;01mif\u001B[39;00m http_error_msg:\n\u001B[0;32m-> 1024\u001B[0m     \u001B[38;5;28;01mraise\u001B[39;00m HTTPError(http_error_msg, response\u001B[38;5;241m=\u001B[39m\u001B[38;5;28mself\u001B[39m)\n",
      "\u001B[0;31mHTTPError\u001B[0m: 401 Client Error: Unauthorized for url: https://platform.mat3ra.com:443/api/2018-10-01/materials/create"
     ]
    }
   ],
   "execution_count": 47
  },
  {
   "metadata": {},
   "cell_type": "markdown",
   "source": "### 6.3. Verify material creation",
   "id": "1b331ab644de9c92"
  },
  {
   "metadata": {},
   "cell_type": "code",
   "source": "display_JSON(saved_material)",
   "id": "74c71d77416d5d6a",
   "outputs": [],
   "execution_count": null
  },
  {
   "metadata": {},
   "cell_type": "markdown",
   "source": "### 6.4. Get material id",
   "id": "bd62d6bdc54de1d4"
  },
  {
   "metadata": {},
   "cell_type": "code",
   "source": [
    "material_id = saved_material.get(\"_id\")\n",
    "material_id"
   ],
   "id": "b94582729a97af3b",
   "outputs": [],
   "execution_count": null
  },
  {
   "metadata": {},
   "cell_type": "markdown",
   "source": "## 7. Setup workflow",
   "id": "8701b981ca321fd4"
  },
  {
   "metadata": {},
   "cell_type": "markdown",
   "source": [
    "### 7.1. Set Parameters\n",
    "\n",
    "- **QUERY**: A query describing the documents to find. See [Meteor collection](https://docs.meteor.com/api/collections.html#Mongo-Collection-find) for more information.\n",
    "\n",
    "- **limit**: Maximum number of results to return. See [Meteor collection](https://docs.meteor.com/api/collections.html#Mongo-Collection-find) for more information."
   ],
   "id": "9378dd5bdba80208"
  },
  {
   "metadata": {
    "id": "xCEktmwiIQAZ"
   },
   "cell_type": "code",
   "source": [
    "OWNER_ID = os.getenv(\"ORGANIZATION_ID\") or ACCOUNT_ID\n",
    "# If this doesn't exist, we need to set model to be with LDA\n",
    "QUERY = {\"name\": {\"$regex\": \"Band Gap.*LDA.*Relax\"}, \"owner._id\": OWNER_ID}\n",
    "\n",
    "OPTIONS = {\"limit\": 1}"
   ],
   "id": "b2bb916363814bef",
   "outputs": [],
   "execution_count": null
  },
  {
   "metadata": {},
   "cell_type": "markdown",
   "source": [
    "### 7.2. Initialize the endpoint\n",
    "\n",
    "Initialize a helper class to interact with `WorkflowEndpoints`. This only has to be done once."
   ],
   "id": "4d62b7581cadce68"
  },
  {
   "metadata": {
    "id": "dX3VXdWJIQAX"
   },
   "cell_type": "code",
   "source": [
    "from utils.settings import ENDPOINT_ARGS, ACCOUNT_ID\n",
    "from utils.generic import display_JSON\n",
    "\n",
    "from exabyte_api_client.endpoints.workflows import WorkflowEndpoints\n",
    "\n",
    "endpoint = WorkflowEndpoints(*ENDPOINT_ARGS)"
   ],
   "id": "73260868efc509f2",
   "outputs": [],
   "execution_count": null
  },
  {
   "metadata": {},
   "cell_type": "markdown",
   "source": [
    "### 7.3. List workflows\n",
    "\n",
    "Contact the endpoint to list workflows according to the query above."
   ],
   "id": "7c2f6aded7bf7388"
  },
  {
   "metadata": {
    "id": "wzFp8DcCIQAa"
   },
   "cell_type": "code",
   "source": "workflows = endpoint.list(QUERY, OPTIONS)",
   "id": "9c7e0688aaa182fd",
   "outputs": [],
   "execution_count": null
  },
  {
   "metadata": {},
   "cell_type": "markdown",
   "source": [
    "## Print workflows\n",
    "\n",
    "Print the list of workflows saved under the corresponding variable in pretty JSON below."
   ],
   "id": "45a3619f2406f7f3"
  },
  {
   "metadata": {
    "colab": {
     "base_uri": "https://localhost:8080/"
    },
    "id": "KSJgpWRzIQAb",
    "outputId": "7ee3b7f6-208f-427e-ee32-07486078072c"
   },
   "cell_type": "code",
   "source": "display_JSON(workflows)",
   "id": "98be712767be7828",
   "outputs": [],
   "execution_count": null
  },
  {
   "metadata": {},
   "cell_type": "markdown",
   "source": [
    "## 8. Create a job with the workflow and material\n",
    "### 8.1. Set Parameters"
   ],
   "id": "acf0eba783f93826"
  },
  {
   "metadata": {},
   "cell_type": "code",
   "source": [
    "from exabyte_api_client.endpoints.materials import MaterialEndpoints\n",
    "from exabyte_api_client.endpoints.jobs import JobEndpoints\n",
    "from datetime import datetime\n",
    "\n",
    "material_endpoints = MaterialEndpoints(*ENDPOINT_ARGS)\n",
    "OWNER_ID = os.getenv(\"ORGANIZATION_ID\") or ACCOUNT_ID\n",
    "\n",
    "wf = workflows[0]\n",
    "job_endpoints = JobEndpoints(*ENDPOINT_ARGS)\n",
    "config = {\n",
    "    \"owner\": {\"_id\": OWNER_ID},\n",
    "    \"_material\": {\"_id\": material_id},\n",
    "    \"workflow\": wf,\n",
    "    \"name\": f\"TEST JOB BG {datetime.now().strftime('%Y-%m-%d %H:%M')}\",\n",
    "}\n",
    "print(config[\"name\"])"
   ],
   "id": "556b192138037930",
   "outputs": [],
   "execution_count": null
  },
  {
   "metadata": {},
   "cell_type": "markdown",
   "source": "### 8.2. Create job",
   "id": "e0775edb5c484080"
  },
  {
   "metadata": {},
   "cell_type": "code",
   "source": [
    "job = job_endpoints.create(config)"
   ],
   "id": "a06f4c60fb9813c6",
   "outputs": [],
   "execution_count": null
  },
  {
   "metadata": {},
   "cell_type": "markdown",
   "source": "### 8.2. Update job with new parameters",
   "id": "730ea43eae2a85e1"
  },
  {
   "metadata": {},
   "cell_type": "code",
   "source": [
    "kgrid_scf = [6, 6, 1]\n",
    "kgrid_nscf = [12, 12, 1]\n",
    "kgrid_relax = kgrid_scf"
   ],
   "id": "b722ff27ec0da6c3",
   "outputs": [],
   "execution_count": null
  },
  {
   "metadata": {},
   "cell_type": "code",
   "source": [
    "modifier_relax = {\n",
    "    \"workflow.subworkflows.0.units.0.context\": {\n",
    "        \"kgrid\": {\n",
    "            \"dimensions\": kgrid_relax,\n",
    "            \"shifts\": [0, 0, 0],\n",
    "            \"reciprocalVectorRatios\": [1, 1, 1],\n",
    "            \"gridMetricType\": \"KPPRA\",\n",
    "            \"gridMetricValue\": 2,\n",
    "            \"preferGridMetric\": False,\n",
    "        },\n",
    "        \"isKgridEdited\": True,\n",
    "        \"subworkflowContext\": {},\n",
    "    }\n",
    "}\n",
    "# K points for unit 0\n",
    "modifier_1 = {\n",
    "    \"workflow.subworkflows.1.units.0.context\": {\n",
    "        \"kgrid\": {\n",
    "            \"dimensions\": kgrid_scf,\n",
    "            \"shifts\": [0, 0, 0],\n",
    "            \"reciprocalVectorRatios\": [1, 1, 1],\n",
    "            \"gridMetricType\": \"KPPRA\",\n",
    "            \"gridMetricValue\": 2,\n",
    "            \"preferGridMetric\": False,\n",
    "        },\n",
    "        \"isKgridEdited\": True,\n",
    "        \"subworkflowContext\": {},\n",
    "    }\n",
    "}\n",
    "\n",
    "# K points for unit 1\n",
    "modifier_2 = {\n",
    "    \"workflow.subworkflows.1.units.1.context\": {\n",
    "        \"kgrid\": {\n",
    "            \"dimensions\": kgrid_nscf,\n",
    "            \"shifts\": [0, 0, 0],\n",
    "            \"reciprocalVectorRatios\": [1, 1, 1],\n",
    "            \"gridMetricType\": \"KPPRA\",\n",
    "            \"gridMetricValue\": 2,\n",
    "            \"preferGridMetric\": False,\n",
    "        },\n",
    "        \"isKgridEdited\": True,\n",
    "        \"subworkflowContext\": {},\n",
    "    }\n",
    "}"
   ],
   "id": "4d0c0bb588b4fbe6",
   "outputs": [],
   "execution_count": null
  },
  {
   "metadata": {},
   "cell_type": "markdown",
   "source": "### 8.2.1. Set `rendered` field",
   "id": "517b9a9d619b82c7"
  },
  {
   "metadata": {},
   "cell_type": "code",
   "source": [
    "rendered_relax_str = wf[\"subworkflows\"][0][\"units\"][0][\"input\"][0][\"rendered\"]\n",
    "print(rendered_relax_str)\n",
    "\"workflow.subworkflows.0.units.0.input.0.rendered\"\n",
    "\n",
    "rendered_1_str = wf[\"subworkflows\"][1][\"units\"][0][\"input\"][0][\"rendered\"]\n",
    "print(rendered_1_str)\n",
    "\"workflow.subworkflows.1.units.0.input.0.rendered\"\n",
    "\n",
    "rendered_2_str = wf[\"subworkflows\"][1][\"units\"][1][\"input\"][0][\"rendered\"]\n",
    "print(rendered_2_str)\n",
    "\"workflow.subworkflows.1.units.1.input.0.rendered\"\n",
    "\n",
    "# we need to update numbers at\n",
    "# `K_POINTS automatic\n",
    "#  \\d \\d \\d \\d \\d \\d `\n",
    "import re\n",
    "\n",
    "modifier_relax[\"workflow.subworkflows.0.units.0.input.0.rendered\"] = re.sub(\n",
    "    r\"K_POINTS automatic\\n(\\d+) (\\d+) (\\d+) (\\d+) (\\d+) (\\d+)\",\n",
    "    f\"K_POINTS automatic\\n{kgrid_relax[0]} {kgrid_relax[1]} {kgrid_relax[2]} 0 0 0\",\n",
    "    rendered_relax_str,\n",
    ")\n",
    "\n",
    "modifier_1[\"workflow.subworkflows.1.units.0.input.0.rendered\"] = re.sub(\n",
    "    r\"K_POINTS automatic\\n(\\d+) (\\d+) (\\d+) (\\d+) (\\d+) (\\d+)\",\n",
    "    f\"K_POINTS automatic\\n{kgrid_scf[0]} {kgrid_scf[1]} {kgrid_scf[2]} 0 0 0\",\n",
    "    rendered_1_str,\n",
    ")\n",
    "\n",
    "modifier_2[\"workflow.subworkflows.1.units.1.input.0.rendered\"] = re.sub(\n",
    "    r\"K_POINTS automatic\\n(\\d+) (\\d+) (\\d+) (\\d+) (\\d+) (\\d+)\",\n",
    "    f\"K_POINTS automatic\\n{kgrid_nscf[0]} {kgrid_nscf[1]} {kgrid_nscf[2]} 0 0 0\",\n",
    "    rendered_2_str,\n",
    ")"
   ],
   "id": "78136544256e0ef9",
   "outputs": [],
   "execution_count": null
  },
  {
   "metadata": {},
   "cell_type": "markdown",
   "source": "### 8.3. Update job with the modifier",
   "id": "fc822d46b4295289"
  },
  {
   "metadata": {},
   "cell_type": "code",
   "source": [
    "job_endpoints.update(id_=job[\"_id\"], modifier=modifier_relax)\n",
    "job_endpoints.update(id_=job[\"_id\"], modifier=modifier_1)\n",
    "job_endpoints.update(id_=job[\"_id\"], modifier=modifier_2)\n",
    "\n",
    "# we need to render the job\n",
    "# TODO: add a method to render the job (for now it can be done by saving the Job in UI)"
   ],
   "id": "2c8f1c529cda6b1e",
   "outputs": [],
   "execution_count": null
  },
  {
   "metadata": {},
   "cell_type": "markdown",
   "source": "## 9. Submit the job",
   "id": "ca04d2a65d580354"
  },
  {
   "metadata": {},
   "cell_type": "code",
   "source": "job_endpoints.submit(job[\"_id\"])",
   "id": "482606f85a9606",
   "outputs": [],
   "execution_count": null
  },
  {
   "metadata": {},
   "cell_type": "markdown",
   "source": "## 10. Get results",
   "id": "dc894f38be19083"
  },
  {
   "metadata": {},
   "cell_type": "code",
   "source": [
    "from utils.generic import wait_for_jobs_to_finish\n",
    "\n",
    "wait_for_jobs_to_finish(job_endpoints, [job[\"_id\"]], poll_interval=60)"
   ],
   "id": "dc2a179ba96bba05",
   "outputs": [],
   "execution_count": null
  },
  {
   "metadata": {},
   "cell_type": "markdown",
   "source": [
    "### Retreive a list of job files\n",
    "\n",
    "Here, we'll get a list of all files that belong to the job."
   ],
   "id": "5662f19f04f909f"
  },
  {
   "metadata": {
    "colab": {
     "base_uri": "https://localhost:8080/"
    },
    "id": "yijRe7qp8GIv",
    "outputId": "19b147fc-736e-41f0-bd0f-6f69e77b0adf"
   },
   "cell_type": "code",
   "source": [
    "files = job_endpoints.list_files(job[\"_id\"])\n",
    "paths = [file[\"key\"] for file in files]\n",
    "for path in paths:\n",
    "    if \"outdir\" not in path:\n",
    "        print(path)"
   ],
   "id": "1c8fcda79b7e71d7",
   "outputs": [],
   "execution_count": null
  },
  {
   "metadata": {},
   "cell_type": "markdown",
   "source": [
    "### Get metadata for the Output File\n",
    "The .out file is where Quantum Espresso shows its work and prints its results, so you most likely will want to view this files. Let's print out some of its metadata.\n",
    "\n",
    "You'll find that we get a lot of data describing the file and its providence. Brief explanations of each entry are:\n",
    "- Key - Path to the file on the cluster\n",
    "- size - Size of the file, in bytes.\n",
    "- Bucket - The name of the cluster which ran the job.\n",
    "- Region - Which server region was used to run the job.\n",
    "- Provider - The cluster provider for the compute resources (in our case, we used AWS).\n",
    "- lastModified - Unix timestamp representing when the file was last modified.\n",
    "- name - The filename.\n",
    "- signedUrl - This is a link which can be used to download the file for a short amount of time."
   ],
   "id": "790e14bda158a8c3"
  },
  {
   "metadata": {
    "colab": {
     "base_uri": "https://localhost:8080/"
    },
    "id": "U2dq0A1e8GIw",
    "outputId": "7b4f8c36-6342-46fa-d02e-0825b44e6c64"
   },
   "cell_type": "code",
   "source": [
    "for file in files:\n",
    "    if file[\"name\"] == \"pw_scf.out\":\n",
    "        output_file_metadata = file\n",
    "display_JSON(output_file_metadata)"
   ],
   "id": "28db658ad1976cf6",
   "outputs": [],
   "execution_count": null
  },
  {
   "metadata": {},
   "cell_type": "markdown",
   "source": [
    "### Display file contents to console\n",
    "\n",
    "The signedUrl gives us a place to access the file and download it. Let's read it into memory, and print out the last few lines of our job."
   ],
   "id": "8e6580e55dd6f07e"
  },
  {
   "metadata": {
    "colab": {
     "base_uri": "https://localhost:8080/"
    },
    "id": "OpdOMuDT8GIw",
    "outputId": "e4e2e6b1-8431-439a-8606-ae500534e601"
   },
   "cell_type": "code",
   "source": [
    "from mat3ra.utils.jupyterlite.url import read_from_url\n",
    "\n",
    "output_file = await read_from_url(output_file_metadata[\"signedUrl\"])\n",
    "\n",
    "# Tail the last 90 lines\n",
    "lines = output_file.split(\"\\n\")\n",
    "for line in lines[-90:]:\n",
    "    print(line)"
   ],
   "id": "6b77fd67f81f9d5b",
   "outputs": [],
   "execution_count": null
  },
  {
   "metadata": {},
   "cell_type": "markdown",
   "source": [
    "### Save the output file to disk.\n",
    "\n",
    "Now that we've verified the job is done, let's go ahead and save it and its input to disk."
   ],
   "id": "f45c05a30759420"
  },
  {
   "metadata": {
    "id": "COPinBrO8GIx"
   },
   "cell_type": "code",
   "source": [
    "from utils.jupyterlite import download_content_to_file\n",
    "\n",
    "download_content_to_file(content=output_file, filename=output_file_metadata[\"name\"])"
   ],
   "id": "f727ea152f48186d",
   "outputs": [],
   "execution_count": null
  }
 ],
 "metadata": {
  "kernelspec": {
   "display_name": "Python 3",
   "language": "python",
   "name": "python3"
  },
  "language_info": {
   "codemirror_mode": {
    "name": "ipython",
    "version": 2
   },
   "file_extension": ".py",
   "mimetype": "text/x-python",
   "name": "python",
   "nbconvert_exporter": "python",
   "pygments_lexer": "ipython2",
   "version": "2.7.6"
  }
 },
 "nbformat": 4,
 "nbformat_minor": 5
}
