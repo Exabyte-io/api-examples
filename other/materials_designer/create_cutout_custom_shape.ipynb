{
 "cells": [
  {
   "cell_type": "markdown",
   "source": [
    "# Create a custom-shape cutout\n",
    "\n",
    "Create a slab with a complex cutout pattern.\n",
    "By default, this notebook generates a structure of etching pattern:\n",
    "- Two vertical side walls\n",
    "- Two parallel channels at the top\n",
    "- A deeper central cavity\n",
    "\n",
    "<h2 style=\"color:green\">Usage</h2>\n",
    "\n",
    "1. Make sure to select Input Material (in the outer runtime) before running the notebook.\n",
    "2. Set structural parameters in cell 1.2 below\n",
    "4. Click \"Run\" > \"Run All\" to create the structure\n",
    "5. Scroll down to view the resulting structure from multiple angles\n",
    "\n",
    "## Resulting structure:\n",
    "<img src=\"https://i.imgur.com/j9YDJ1X.png\">"
   ],
   "metadata": {
    "collapsed": false
   },
   "id": "f2e1e795020d7b3f"
  },
  {
   "cell_type": "markdown",
   "source": [
    "## 1. Prepare the Environment\n",
    "### 1.1. Install Packages\n",
    "The step executes only in Pyodide environment. For other environments, the packages should be installed via `pip install` (see [README](../../README.ipynb))."
   ],
   "metadata": {
    "collapsed": false
   },
   "id": "98aa134f51746218"
  },
  {
   "cell_type": "code",
   "outputs": [],
   "source": [
    "import sys\n",
    "\n",
    "if sys.platform == \"emscripten\":\n",
    "    import micropip\n",
    "\n",
    "    await micropip.install('mat3ra-api-examples', deps=False)\n",
    "    from utils.jupyterlite import install_packages\n",
    "\n",
    "    await install_packages(\"\")"
   ],
   "metadata": {
    "collapsed": false
   },
   "id": "280f9794a876678b",
   "execution_count": null
  },
  {
   "cell_type": "markdown",
   "source": [
    "### 1.2. Set up structure parameters "
   ],
   "metadata": {
    "collapsed": false
   },
   "id": "b3d4d3ea7b589f89"
  },
  {
   "cell_type": "code",
   "outputs": [],
   "source": [
    "# Slab parameters\n",
    "MILLER_INDICES = (0, 0, 1)\n",
    "THICKNESS = 6  # unit cell layers\n",
    "VACUUM = 10.0  # Angstrom\n",
    "XY_SUPERCELL_MATRIX = [[10, 0], [0, 10]]\n",
    "\n",
    "# Custom shape parameters in crystal units of the slab\n",
    "LEFT_WALL_POSITION = 0.2\n",
    "RIGHT_WALL_POSITION = 0.8\n",
    "LEFT_CHANNEL_POSITION = 0.25\n",
    "RIGHT_CHANNEL_POSITION = 0.75\n",
    "CHANNEL_TOP_Z = 0.8\n",
    "CAVITY_TOP_Z = 0.5\n",
    "\n",
    "NAME = \"Custom Shape - Etching Pattern\""
   ],
   "metadata": {
    "collapsed": false
   },
   "id": "5177e239254e3601",
   "execution_count": null
  },
  {
   "cell_type": "markdown",
   "source": [
    "### 1.3. Create a condition on coordinates\n"
   ],
   "metadata": {
    "collapsed": false
   },
   "id": "361c291aaf3feb2a"
  },
  {
   "cell_type": "code",
   "outputs": [],
   "source": [
    "from typing import List\n",
    "\n",
    "from mat3ra.made.tools.utils.coordinate import CoordinateCondition\n",
    "\n",
    "\n",
    "# Example of a custom coordinate condition. Adapt coordinate conditions to your needs.\n",
    "class CustomCoordinateCondition(CoordinateCondition):\n",
    "    \"\"\"\n",
    "    Defines an etched pattern structure with side walls, channels, and a central cavity.\n",
    "    All dimensions are specified as fractions of the total size (0.0 to 1.0).\n",
    "    \"\"\"\n",
    "    left_wall_position: float = 0.2\n",
    "    right_wall_position: float = 0.8\n",
    "    left_channel_position: float = 0.25\n",
    "    right_channel_position: float = 0.75\n",
    "    channel_top_z: float = 0.8\n",
    "    cavity_top_z: float = 0.5\n",
    "\n",
    "    def condition(self, coordinate: List[float]) -> bool:\n",
    "        \"\"\"\n",
    "        Determines which atoms to filter based on the coordinate.\n",
    "        Returns True for positions where atoms should be removed.\n",
    "        \n",
    "        The structure consists of:\n",
    "        1. Side walls: Two vertical walls running along the y-axis\n",
    "        2. Channels: Two trenches at the top running along the x-axis\n",
    "        3. Cavity: A deeper central region between the channels\n",
    "        \"\"\"\n",
    "        x, y, z = coordinate\n",
    "\n",
    "        # Define the structural elements\n",
    "        is_in_left_wall = x <= self.left_wall_position\n",
    "        is_in_right_wall = x >= self.right_wall_position\n",
    "\n",
    "        is_in_left_channel = y <= self.left_channel_position\n",
    "        is_in_right_channel = y >= self.right_channel_position\n",
    "\n",
    "        is_in_channel = (\n",
    "                z < self.channel_top_z and\n",
    "                (is_in_left_channel or is_in_right_channel)\n",
    "        )\n",
    "\n",
    "        is_below_cavity = (\n",
    "                z < self.cavity_top_z and  # Cavity depth\n",
    "                self.left_wall_position < x < self.right_wall_position and  # Between walls\n",
    "                not is_in_left_channel and not is_in_right_channel  # Between channels\n",
    "        )\n",
    "\n",
    "        return (\n",
    "                is_in_left_wall or\n",
    "                is_in_right_wall or\n",
    "                is_in_channel or\n",
    "                is_below_cavity\n",
    "        )\n",
    "\n",
    "\n",
    "condition = CustomCoordinateCondition(\n",
    "    left_wall_position=LEFT_WALL_POSITION,\n",
    "    right_wall_position=RIGHT_WALL_POSITION,\n",
    "    left_channel_position=LEFT_CHANNEL_POSITION,\n",
    "    right_channel_position=RIGHT_CHANNEL_POSITION,\n",
    "    channel_depth=CHANNEL_TOP_Z,\n",
    "    cavity_depth=CAVITY_TOP_Z,\n",
    ").condition"
   ],
   "metadata": {
    "collapsed": false
   },
   "id": "56c8227695643174",
   "execution_count": null
  },
  {
   "cell_type": "markdown",
   "source": [
    "### 1.3. Get input materials"
   ],
   "metadata": {
    "collapsed": false
   },
   "id": "91724db55eddad60"
  },
  {
   "cell_type": "code",
   "outputs": [],
   "source": [
    "from utils.jupyterlite import get_materials\n",
    "\n",
    "materials = get_materials(globals())\n",
    "material = materials[0]"
   ],
   "metadata": {
    "collapsed": false
   },
   "id": "ceebf2a5229da67c",
   "execution_count": null
  },
  {
   "cell_type": "markdown",
   "source": [
    "### 1.4. Preview the material"
   ],
   "metadata": {
    "collapsed": false
   },
   "id": "13964644436b4156"
  },
  {
   "cell_type": "code",
   "outputs": [],
   "source": [
    "from utils.visualize import visualize_materials as visualize\n",
    "\n",
    "visualize(material, repetitions=[1, 1, 1], rotation=\"0x\")\n",
    "visualize(material, repetitions=[1, 1, 1], rotation=\"-90x\")"
   ],
   "metadata": {
    "collapsed": false
   },
   "id": "45f0c424ece00186",
   "execution_count": null
  },
  {
   "cell_type": "markdown",
   "source": [
    "## 2. Create target material\n",
    "### 2.1. Create a slab and apply the cutout condition"
   ],
   "metadata": {
    "collapsed": false
   },
   "id": "615800437b2ef7a"
  },
  {
   "cell_type": "code",
   "outputs": [],
   "source": [
    "from mat3ra.made.tools.modify import filter_by_condition_on_coordinates, add_vacuum\n",
    "from mat3ra.made.tools.build.slab import create_slab, SlabConfiguration\n",
    "\n",
    "slab_config = SlabConfiguration(\n",
    "    bulk=material,\n",
    "    miller_indices=MILLER_INDICES,\n",
    "    thickness=THICKNESS,\n",
    "    vacuum=0,\n",
    "    xy_supercell_matrix=XY_SUPERCELL_MATRIX,\n",
    "    use_orthogonal_z=True,\n",
    "    use_conventional_cell=True,\n",
    ")\n",
    "\n",
    "slab_unit_cell = create_slab(slab_config)\n",
    "resulting_material = filter_by_condition_on_coordinates(slab_unit_cell, condition)\n",
    "resulting_material = add_vacuum(resulting_material, VACUUM)"
   ],
   "metadata": {
    "collapsed": false
   },
   "id": "422815d29aa347a1",
   "execution_count": null
  },
  {
   "cell_type": "markdown",
   "source": [
    "## 3. Visualize the result"
   ],
   "metadata": {
    "collapsed": false
   },
   "id": "57cc38ec0df3c1f7"
  },
  {
   "cell_type": "code",
   "outputs": [],
   "source": [
    "visualize(resulting_material, repetitions=[1, 1, 1], rotation=\"0x\")\n",
    "visualize(resulting_material, repetitions=[1, 1, 1], rotation=\"-90x\")\n",
    "visualize(resulting_material, repetitions=[1, 1, 1], rotation=\"-90x,-90y\")"
   ],
   "metadata": {
    "collapsed": false
   },
   "id": "2a9627cd4a261067",
   "execution_count": null
  },
  {
   "cell_type": "markdown",
   "source": [
    "# 4. Pass material to the outside runtime"
   ],
   "metadata": {
    "collapsed": false
   },
   "id": "c67e6f5363e80942"
  },
  {
   "cell_type": "code",
   "outputs": [],
   "source": [
    "from utils.jupyterlite import set_materials\n",
    "\n",
    "resulting_material.name = NAME\n",
    "set_materials(resulting_material)"
   ],
   "metadata": {
    "collapsed": false
   },
   "id": "cbee60d4b936e5cb",
   "execution_count": null
  }
 ],
 "metadata": {
  "kernelspec": {
   "display_name": "Python 3",
   "language": "python",
   "name": "python3"
  },
  "language_info": {
   "codemirror_mode": {
    "name": "ipython",
    "version": 2
   },
   "file_extension": ".py",
   "mimetype": "text/x-python",
   "name": "python",
   "nbconvert_exporter": "python",
   "pygments_lexer": "ipython2",
   "version": "2.7.6"
  }
 },
 "nbformat": 4,
 "nbformat_minor": 5
}
