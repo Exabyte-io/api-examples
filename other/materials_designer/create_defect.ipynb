{
 "cells": [
  {
   "cell_type": "markdown",
   "metadata": {},
   "source": [
    "# Add defects to a material\n",
    "\n",
    "Add defects\n",
    "\n",
    "<h2 style=\"color:green\">Usage</h2>\n",
    "\n",
    "1. Make sure to select Input Materials\n",
    "\n",
    "\n",
    "## Methodology\n",
    "\n",
    "The following happens in the script below:\n",
    "\n",
    "\n"
   ]
  },
  {
   "cell_type": "markdown",
   "metadata": {},
   "source": [
    "## 1. Set Input Parameters\n",
    "\n",
    "### 1.1. Select Substrate and Layer from Input Materials"
   ]
  },
  {
   "cell_type": "code",
   "execution_count": 10,
   "metadata": {
    "ExecuteTime": {
     "end_time": "2024-06-05T20:24:05.625296Z",
     "start_time": "2024-06-05T20:24:05.622195Z"
    }
   },
   "outputs": [],
   "source": [
    "\n",
    "DEFECTS_PARAMETERS = {\n",
    "    \"TYPE\": \"interstitial\",  # \"substitution\", \"vacancy\"\n",
    "    \"SPECIES\": \"Ge\",\n",
    "    \"CONCENTRATION\": 0.1,\n",
    "    \n",
    "}\n"
   ]
  },
  {
   "cell_type": "markdown",
   "metadata": {},
   "source": [
    "## 2. Install Packages\n",
    "The step executes only in Pyodide environment. For other environments, the packages should be installed via `pip install` as directed in README."
   ]
  },
  {
   "cell_type": "code",
   "execution_count": 11,
   "metadata": {
    "ExecuteTime": {
     "end_time": "2024-06-05T20:24:05.654859Z",
     "start_time": "2024-06-05T20:24:05.651865Z"
    }
   },
   "outputs": [],
   "source": [
    "import sys\n",
    "if sys.platform == \"emscripten\":\n",
    "    import micropip\n",
    "    await micropip.install('mat3ra-api-examples', deps=False)\n",
    "    from utils.jupyterlite import install_packages\n",
    "    await install_packages(\"create_interface_with_min_strain_zsl.ipynb\",\"../../config.yml\")"
   ]
  },
  {
   "cell_type": "markdown",
   "metadata": {},
   "source": [
    "## 3. Load input Materials\n"
   ]
  },
  {
   "cell_type": "code",
   "outputs": [
    {
     "name": "stdout",
     "output_type": "stream",
     "text": [
      "Data from 0-Ni has been read successfully.\n",
      "Data from 1-Graphene has been read successfully.\n",
      "Data from 2-WS2 has been read successfully.\n",
      "Data from 3-BN has been read successfully.\n",
      "Data from 4-Te2Mo has been read successfully.\n",
      "Data from 5-HfO2 has been read successfully.\n",
      "Data from C2(001)-Ni4(111), Interface, Strain 0.105% has been read successfully.\n",
      "Data from Ni3 C2 has been read successfully.\n",
      "Data from Ni8 C2 has been read successfully.\n",
      "Data from Si has been read successfully.\n"
     ]
    }
   ],
   "source": [
    "from mat3ra.made.material import Material\n",
    "from utils.jupyterlite import get_data\n",
    "\n",
    "from utils.visualize import visualize\n",
    "\n",
    "# Get the list of input materials and load them into `materials_in` variable\n",
    "get_data(\"materials_in\", globals())\n",
    "materials = list(map(Material, globals()[\"materials_in\"]))\n",
    "# visualize(materials, number_of_repetitions=1)\n",
    "si = list(filter(lambda m: m.name == \"Silicon FCC\", materials))[0]"
   ],
   "metadata": {
    "collapsed": false,
    "ExecuteTime": {
     "end_time": "2024-06-05T20:24:05.663273Z",
     "start_time": "2024-06-05T20:24:05.656758Z"
    }
   },
   "execution_count": 12
  },
  {
   "cell_type": "markdown",
   "source": [
    "## 4. Create interfaces\n",
    "\n",
    "### 4.1. Extract Interfaces and Terminations\n",
    "\n",
    "Extract all possible layer/substrate supercell combinations within the maximum area including different terminations."
   ],
   "metadata": {
    "collapsed": false
   }
  },
  {
   "cell_type": "code",
   "outputs": [
    {
     "name": "stdout",
     "output_type": "stream",
     "text": [
      "Ge intersitial site at [0.00,0.00,0.00]\n"
     ]
    },
    {
     "data": {
      "text/plain": "<Popen: returncode: None args: ['/Users/mat3ra/code/GREEN/api-examples/.venv...>"
     },
     "execution_count": 13,
     "metadata": {},
     "output_type": "execute_result"
    }
   ],
   "source": [
    "import numpy as np\n",
    "from mat3ra.made.tools.convert import to_pymatgen, from_pymatgen, to_ase\n",
    "from mat3ra.made.tools.modify import wrap_to_unit_cell\n",
    "\n",
    "from pymatgen.analysis.defects.core import Substitution, Vacancy, Interstitial\n",
    "from pymatgen.core import PeriodicSite, Species, Structure\n",
    "silicon = to_pymatgen(si).make_supercell([1, 1, 1])\n",
    "\n",
    "si0_site = silicon[0]\n",
    "sub_site = PeriodicSite(species=Species(\"Ge\"), coords=si0_site.frac_coords, lattice=silicon.lattice)\n",
    "# instantiate the defect object\n",
    "# substitution_defect = Substitution(structure=silicon, site=sub_site)\n",
    "# vacancy_defect = Vacancy(structure=silicon, site=sub_site)\n",
    "substitution_defect = Interstitial(structure=silicon, site=sub_site)\n",
    "print(substitution_defect)\n",
    "\n",
    "# visualize(material)\n",
    "\n",
    "def translate_structure(structure, fractional_coordinates=[0, 0, 0]):\n",
    "    min_c = min(site.c for site in structure)\n",
    "    translation_vector = fractional_coordinates  # 0.1 to ensure there's a small gap above z=0\n",
    "    translated_structure = structure.copy()\n",
    "    for site in translated_structure:\n",
    "        site.coords += np.dot(translation_vector, structure.lattice.matrix)\n",
    "    return wrap_to_unit_cell(translated_structure)\n",
    "\n",
    "structure = translate_structure(substitution_defect.defect_structure, [0.5, 0.5, 0.5])\n",
    "material = from_pymatgen(structure)\n",
    "from ase.visualize import view\n",
    "view(to_ase(material))"
   ],
   "metadata": {
    "collapsed": false,
    "ExecuteTime": {
     "end_time": "2024-06-05T20:24:05.697048Z",
     "start_time": "2024-06-05T20:24:05.664447Z"
    }
   },
   "execution_count": 13
  },
  {
   "cell_type": "code",
   "outputs": [
    {
     "data": {
      "text/plain": "<Popen: returncode: None args: ['/Users/mat3ra/code/GREEN/api-examples/.venv...>"
     },
     "execution_count": 14,
     "metadata": {},
     "output_type": "execute_result"
    }
   ],
   "source": [
    "from pymatgen.analysis.defects.generators import (\n",
    "    generate_all_native_defects, VoronoiInterstitialGenerator\n",
    ")\n",
    "generator = VoronoiInterstitialGenerator(        \n",
    "        clustering_tol = 0.1,\n",
    "        min_dist = 0.1,\n",
    "        ltol = 0.1,\n",
    "        stol = 0.1,\n",
    "        angle_tol = 1\n",
    ")\n",
    "\n",
    "defects = generator.get_defects(silicon, insert_species=[\"Ge\"])\n",
    "view(to_ase(from_pymatgen(defects[1].defect_structure))*[2,2,2])\n",
    "# for defect in generate_all_native_defects(silicon, int_generator=generator):\n",
    "#     print(defect)"
   ],
   "metadata": {
    "collapsed": false,
    "ExecuteTime": {
     "end_time": "2024-06-05T20:24:05.993388Z",
     "start_time": "2024-06-05T20:24:05.700181Z"
    }
   },
   "execution_count": 14
  },
  {
   "cell_type": "code",
   "outputs": [
    {
     "name": "stdout",
     "output_type": "stream",
     "text": [
      "[Ge intersitial site at [0.13,0.62,0.11], Ge intersitial site at [0.50,0.50,0.10], Ge intersitial site at [0.62,0.63,0.14], Ge intersitial site at [0.75,0.75,0.12], Ge intersitial site at [0.63,0.62,0.08], Ge intersitial site at [0.63,0.63,0.21]]\n"
     ]
    },
    {
     "data": {
      "text/plain": "GridBox(children=(VBox(children=(Label(value='GeSi6 - Material 0', layout=Layout(height='30px', overflow='hidd…",
      "application/vnd.jupyter.widget-view+json": {
       "version_major": 2,
       "version_minor": 0,
       "model_id": "117ceb42f91e4f0b802e1fa9f279d8a8"
      }
     },
     "metadata": {},
     "output_type": "display_data"
    }
   ],
   "source": [
    "from pymatgen.core.surface import SlabGenerator\n",
    "import json\n",
    "from pymatgen.analysis.defects.generators import (\n",
    "    generate_all_native_defects, VoronoiInterstitialGenerator\n",
    ")\n",
    "generator = VoronoiInterstitialGenerator(        \n",
    "        clustering_tol = 0.1,\n",
    "        min_dist = 0.1,\n",
    "        ltol = 0.1,\n",
    "        stol = 0.1,\n",
    "        angle_tol = 1\n",
    ")\n",
    "slab_json = \"\"\"\n",
    "{\"name\":\"Silicon FCC - slab [1,0,0]\",\"basis\":{\"elements\":[{\"id\":0,\"value\":\"Si\"},{\"id\":1,\"value\":\"Si\"},{\"id\":2,\"value\":\"Si\"},{\"id\":3,\"value\":\"Si\"},{\"id\":4,\"value\":\"Si\"},{\"id\":5,\"value\":\"Si\"}],\"coordinates\":[{\"id\":0,\"value\":[0,0,0]},{\"id\":1,\"value\":[0,0,0.06666667]},{\"id\":2,\"value\":[0,0,0.1333333]},{\"id\":3,\"value\":[0.2500001,0.25,0.01666666]},{\"id\":4,\"value\":[0.2500001,0.25,0.08333333]},{\"id\":5,\"value\":[0.2500001,0.25,0.15]}],\"units\":\"crystal\",\"cell\":[[3.34892,0,1.9335],[1.116307,3.157392,1.9335],[0,0,58.005]],\"constraints\":[]},\"lattice\":{\"a\":3.867,\"b\":3.867,\"c\":58.005,\"alpha\":60,\"beta\":60,\"gamma\":60,\"units\":{\"length\":\"angstrom\",\"angle\":\"degree\"},\"type\":\"TRI\",\"vectors\":{\"a\":[3.34892,0,1.9335],\"b\":[1.116307,3.157392,1.9335],\"c\":[0,0,58.005],\"alat\":1,\"units\":\"angstrom\"}},\"isNonPeriodic\":false,\"metadata\":{\"isSlab\":true,\"h\":1,\"k\":0,\"l\":0,\"thickness\":3,\"vacuumRatio\":0.8,\"vx\":1,\"vy\":1},\"_id\":\"\",\"isUpdated\":true}\n",
    "\"\"\"\n",
    "material_slab = Material(json.loads(slab_json))\n",
    "silicon_slab = to_pymatgen(material_slab)\n",
    "defects = generator.get_defects(silicon_slab, insert_species=[\"Ge\"])\n",
    "\n",
    "\n",
    "generator = VoronoiInterstitialGenerator(        \n",
    "        clustering_tol = 0.1,\n",
    "        min_dist = 0.1,\n",
    "        ltol = 0.1,\n",
    "        stol = 0.1,\n",
    "        angle_tol = 1\n",
    ")\n",
    "defects = generator.get_defects(silicon_slab, insert_species=[\"Ge\"])\n",
    "# visualize(material_slab, rotation=\"-90x\")\n",
    "# view(to_ase(from_pymatgen(silicon_slab)))\n",
    "print(defects)\n",
    "view(to_ase(from_pymatgen(defects[1].defect_structure))*[1,1,1])\n",
    "visualize(from_pymatgen(defects[1].defect_structure), rotation=\"-90x\")\n",
    "# for defect in generate_all_native_defects(silicon, int_generator=generator):\n",
    "#     print(defect)"
   ],
   "metadata": {
    "collapsed": false,
    "ExecuteTime": {
     "end_time": "2024-06-05T20:24:07.793798Z",
     "start_time": "2024-06-05T20:24:05.996081Z"
    }
   },
   "execution_count": 15
  },
  {
   "cell_type": "code",
   "outputs": [
    {
     "name": "stdout",
     "output_type": "stream",
     "text": [
      "[Ge intersitial site at [0.75,0.75,0.12], Ge intersitial site at [0.00,0.00,0.13], Ge intersitial site at [0.96,0.96,0.61]]\n"
     ]
    },
    {
     "data": {
      "text/plain": "GridBox(children=(VBox(children=(Label(value='GeSi2 - Material 0', layout=Layout(height='30px', overflow='hidd…",
      "application/vnd.jupyter.widget-view+json": {
       "version_major": 2,
       "version_minor": 0,
       "model_id": "e6e595e48a6648f28af6eadd37ae7183"
      }
     },
     "metadata": {},
     "output_type": "display_data"
    }
   ],
   "source": [
    "from pymatgen.core.surface import SlabGenerator\n",
    "import json\n",
    "from pymatgen.analysis.defects.generators import (\n",
    "    generate_all_native_defects, VoronoiInterstitialGenerator\n",
    ")\n",
    "generator = VoronoiInterstitialGenerator(        \n",
    "        clustering_tol = 0.1,\n",
    "        min_dist = 0.1,\n",
    "        ltol = 0.1,\n",
    "        stol = 0.1,\n",
    "        angle_tol = 1\n",
    ")\n",
    "slab_json = \"\"\"\n",
    "{\"name\":\"Silicon FCC - slab [1,0,0]\",\"basis\":{\"elements\":[{\"id\":4,\"value\":\"Si\"},{\"id\":5,\"value\":\"Si\"}],\"coordinates\":[{\"id\":4,\"value\":[0.2500001,0.25,0.08333333]},{\"id\":5,\"value\":[0.2500001,0.25,0.15]}],\"units\":\"crystal\",\"cell\":[[3.34892,0,1.9335],[1.116307,3.157392,1.9335],[0,0,58.005]],\"constraints\":[]},\"lattice\":{\"a\":3.867,\"b\":3.867,\"c\":58.005,\"alpha\":60,\"beta\":60,\"gamma\":60,\"units\":{\"length\":\"angstrom\",\"angle\":\"degree\"},\"type\":\"TRI\",\"vectors\":{\"a\":[3.34892,0,1.9335],\"b\":[1.116307,3.157392,1.9335],\"c\":[0,0,58.005],\"alat\":1,\"units\":\"angstrom\"}},\"isNonPeriodic\":false,\"metadata\":{\"isSlab\":true,\"h\":1,\"k\":0,\"l\":0,\"thickness\":3,\"vacuumRatio\":0.8,\"vx\":1,\"vy\":1},\"_id\":\"\",\"isUpdated\":true}\n",
    "\"\"\"\n",
    "material_slab = Material(json.loads(slab_json))\n",
    "silicon_slab = to_pymatgen(material_slab)\n",
    "defects = generator.get_defects(silicon_slab, insert_species=[\"Ge\"])\n",
    "\n",
    "\n",
    "generator = VoronoiInterstitialGenerator(        \n",
    "        clustering_tol = 0.1,\n",
    "        min_dist = 0.1,\n",
    "        ltol = 0.1,\n",
    "        stol = 0.1,\n",
    "        angle_tol = 1\n",
    ")\n",
    "defects = generator.get_defects(silicon_slab, insert_species=[\"Ge\"])\n",
    "# visualize(material_slab, rotation=\"-90x\")\n",
    "# view(to_ase(from_pymatgen(silicon_slab)))\n",
    "print(defects)\n",
    "view(to_ase(from_pymatgen(defects[1].defect_structure))*[1,1,1])\n",
    "visualize(([from_pymatgen(d.defect_structure) for d in defects]), rotation=\"-90x\")\n",
    "# for defect in generate_all_native_defects(silicon, int_generator=generator):\n",
    "#     print(defect)"
   ],
   "metadata": {
    "collapsed": false,
    "ExecuteTime": {
     "end_time": "2024-06-05T20:24:08.567524Z",
     "start_time": "2024-06-05T20:24:07.797179Z"
    }
   },
   "execution_count": 16
  },
  {
   "cell_type": "code",
   "outputs": [
    {
     "data": {
      "text/plain": "GridBox(children=(VBox(children=(Label(value='GeSi2 - Material 0', layout=Layout(height='30px', overflow='hidd…",
      "application/vnd.jupyter.widget-view+json": {
       "version_major": 2,
       "version_minor": 0,
       "model_id": "275bdca2ef354705a99abc8d6c488f9a"
      }
     },
     "metadata": {},
     "output_type": "display_data"
    }
   ],
   "source": [
    "def add_defects(material, settings):\n",
    "    from pymatgen.analysis.defects.generators import VoronoiInterstitialGenerator\n",
    "    \n",
    "    generator = VoronoiInterstitialGenerator(        \n",
    "            clustering_tol = 0.1,\n",
    "            min_dist = 0.1,\n",
    "            ltol = 0.1,\n",
    "            stol = 0.1,\n",
    "            angle_tol = 1\n",
    "    )\n",
    "    defects = generator.get_defects(to_pymatgen(material), insert_species=[settings[\"SPECIES\"]])\n",
    "    return [from_pymatgen(d.defect_structure) for d in defects]\n",
    "\n",
    "defects = add_defects(si, DEFECTS_PARAMETERS)\n",
    "visualize(defects, rotation=\"-90x\")"
   ],
   "metadata": {
    "collapsed": false,
    "ExecuteTime": {
     "end_time": "2024-06-05T20:24:08.848545Z",
     "start_time": "2024-06-05T20:24:08.569265Z"
    }
   },
   "execution_count": 17
  },
  {
   "cell_type": "markdown",
   "metadata": {},
   "source": [
    "### 6.3. Pass data to the outside runtime\n"
   ]
  },
  {
   "cell_type": "code",
   "execution_count": 18,
   "metadata": {
    "ExecuteTime": {
     "end_time": "2024-06-05T20:24:08.905949Z",
     "start_time": "2024-06-05T20:24:08.851220Z"
    }
   },
   "outputs": [
    {
     "ename": "TypeError",
     "evalue": "'Material' object is not subscriptable",
     "output_type": "error",
     "traceback": [
      "\u001B[0;31m---------------------------------------------------------------------------\u001B[0m",
      "\u001B[0;31mTypeError\u001B[0m                                 Traceback (most recent call last)",
      "Cell \u001B[0;32mIn[18], line 2\u001B[0m\n\u001B[1;32m      1\u001B[0m \u001B[38;5;28;01mfrom\u001B[39;00m \u001B[38;5;21;01mutils\u001B[39;00m\u001B[38;5;21;01m.\u001B[39;00m\u001B[38;5;21;01mjupyterlite\u001B[39;00m \u001B[38;5;28;01mimport\u001B[39;00m set_data\n\u001B[0;32m----> 2\u001B[0m \u001B[43mset_data\u001B[49m\u001B[43m(\u001B[49m\u001B[38;5;124;43m\"\u001B[39;49m\u001B[38;5;124;43mmaterials\u001B[39;49m\u001B[38;5;124;43m\"\u001B[39;49m\u001B[43m,\u001B[49m\u001B[43m \u001B[49m\u001B[43mmaterials\u001B[49m\u001B[43m)\u001B[49m\n",
      "File \u001B[0;32m~/code/GREEN/api-examples/utils/jupyterlite.py:166\u001B[0m, in \u001B[0;36mset_data\u001B[0;34m(key, value)\u001B[0m\n\u001B[1;32m    164\u001B[0m     set_data_pyodide(key, value)\n\u001B[1;32m    165\u001B[0m \u001B[38;5;28;01melif\u001B[39;00m ENVIRONMENT \u001B[38;5;241m==\u001B[39m EnvironmentEnum\u001B[38;5;241m.\u001B[39mPYTHON:\n\u001B[0;32m--> 166\u001B[0m     \u001B[43mset_data_python\u001B[49m\u001B[43m(\u001B[49m\u001B[43mkey\u001B[49m\u001B[43m,\u001B[49m\u001B[43m \u001B[49m\u001B[43mvalue\u001B[49m\u001B[43m)\u001B[49m\n",
      "File \u001B[0;32m~/code/GREEN/api-examples/utils/jupyterlite.py:150\u001B[0m, in \u001B[0;36mset_data_python\u001B[0;34m(key, value)\u001B[0m\n\u001B[1;32m    148\u001B[0m     os\u001B[38;5;241m.\u001B[39mmakedirs(UPLOADS_FOLDER)\n\u001B[1;32m    149\u001B[0m \u001B[38;5;28;01mfor\u001B[39;00m item \u001B[38;5;129;01min\u001B[39;00m value:\n\u001B[0;32m--> 150\u001B[0m     file_path \u001B[38;5;241m=\u001B[39m os\u001B[38;5;241m.\u001B[39mpath\u001B[38;5;241m.\u001B[39mjoin(UPLOADS_FOLDER, \u001B[38;5;124mf\u001B[39m\u001B[38;5;124m\"\u001B[39m\u001B[38;5;132;01m{\u001B[39;00m\u001B[43mitem\u001B[49m\u001B[43m[\u001B[49m\u001B[38;5;124;43m'\u001B[39;49m\u001B[38;5;124;43mname\u001B[39;49m\u001B[38;5;124;43m'\u001B[39;49m\u001B[43m]\u001B[49m\u001B[38;5;132;01m}\u001B[39;00m\u001B[38;5;124m.json\u001B[39m\u001B[38;5;124m\"\u001B[39m)\n\u001B[1;32m    151\u001B[0m     \u001B[38;5;28;01mwith\u001B[39;00m \u001B[38;5;28mopen\u001B[39m(file_path, \u001B[38;5;124m\"\u001B[39m\u001B[38;5;124mw\u001B[39m\u001B[38;5;124m\"\u001B[39m) \u001B[38;5;28;01mas\u001B[39;00m file:\n\u001B[1;32m    152\u001B[0m         json\u001B[38;5;241m.\u001B[39mdump(item, file)\n",
      "\u001B[0;31mTypeError\u001B[0m: 'Material' object is not subscriptable"
     ]
    }
   ],
   "source": [
    "from utils.jupyterlite import set_data\n",
    "set_data(\"materials\", materials)"
   ]
  },
  {
   "cell_type": "code",
   "outputs": [],
   "source": [],
   "metadata": {
    "collapsed": false,
    "ExecuteTime": {
     "end_time": "2024-06-05T20:24:08.907806Z",
     "start_time": "2024-06-05T20:24:08.907608Z"
    }
   }
  }
 ],
 "metadata": {
  "kernelspec": {
   "display_name": ".venv",
   "language": "python",
   "name": "python3"
  },
  "language_info": {
   "codemirror_mode": {
    "name": "ipython",
    "version": 3
   },
   "file_extension": ".py",
   "mimetype": "text/x-python",
   "name": "python",
   "nbconvert_exporter": "python",
   "pygments_lexer": "ipython3",
   "version": "3.10.12"
  },
  "widgets": {
   "application/vnd.jupyter.widget-state+json": {
    "state": {},
    "version_major": 2,
    "version_minor": 0
   }
  }
 },
 "nbformat": 4,
 "nbformat_minor": 4
}
