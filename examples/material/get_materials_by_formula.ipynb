version https://git-lfs.github.com/spec/v1
oid sha256:961b6e708cb0bc2f1b3502b046b27d51c8b59308bd03bca586a45c6e9546b39b
size 158561
