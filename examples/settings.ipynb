version https://git-lfs.github.com/spec/v1
oid sha256:31693fc8d06d600f3598916b14062b8a54f8417dfc96ec3322c40d38ddc1a5f7
size 2417
