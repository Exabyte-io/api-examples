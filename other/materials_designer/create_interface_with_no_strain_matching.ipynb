{
 "cells": [
  {
   "cell_type": "markdown",
   "metadata": {},
   "source": [
    "# Create an interface with no strain matching\n",
    "\n",
    "<h2 style=\"color:green\">Usage</h2>\n",
    "\n",
    "1. Make sure to select Input Materials (in the outer runtime) before running the notebook.\n",
    "1. Set notebook parameters in cell 1.1. below (or use the default values).\n",
    "1. Set slab parameters for the substrate and film in cell 2.1. (or use default).\n",
    "1. Set interface parameters in cell 3.1. (or use default).\n",
    "1. Click “Run” > “Run All” to run all cells. \n",
    "1. Scroll down to view results. \n",
    "\n",
    "## Summary\n",
    "1. Prepare the Environment: Set up the notebook and install packages, preview the input materials\n",
    "1. Create substrate and film slabs and select the terminations\n",
    "1. Generate an interface by wrapping the film slab into the substrate slab. Optionally, the film slab can be scaled to match the substrate lattice.\n",
    "1. Select the interface with the desired strain and visualize it\n",
    "\n",
    "## Notes\n",
    "1. For more information, see [Introduction](Introduction.ipynb)\n",
    "<!-- # TODO: use a hashtag-based anchor link to interface creation documention above -->\n"
   ]
  },
  {
   "cell_type": "markdown",
   "metadata": {},
   "source": [
    "## 1. Prepare Environment\n",
    "### 1.1. Set notebook parameters"
   ]
  },
  {
   "cell_type": "code",
   "execution_count": null,
   "metadata": {},
   "outputs": [],
   "source": [
    "# Create slabs for the film and substrate when creating the interface, otherwise use provided materials directly.\n",
    "CREATE_SLABS = True \n",
    "\n",
    "FILM_INDEX = 1\n",
    "FILM_MILLER_INDICES = (0, 0, 1)\n",
    "FILM_THICKNESS = 1  # in atomic layers\n",
    "FILM_VACUUM = 0.0  # in angstroms\n",
    "FILM_TERMINATION_FORMULA = None  # if None, the first termination will be used\n",
    "FILM_XY_SUPERCELL_MATRIX = [[1, 0], [0, 1]]\n",
    "FILM_USE_ORTHOGONAL_C = True\n",
    "FILM_XY_SHIFT = [0.0, 0.0]  # in Angstroms, shift the film slab in the XY plane relative to the substrate slab\n",
    "\n",
    "SUBSTRATE_INDEX = 0\n",
    "SUBSTRATE_MILLER_INDICES = (1, 1, 1)\n",
    "SUBSTRATE_THICKNESS = 3  # in atomic layers\n",
    "SUBSTRATE_VACUUM = 3.0  # in angstroms\n",
    "SUBSTRATE_TERMINATION_FORMULA = None  # if None, the first termination will be used\n",
    "SUBSTRATE_XY_SUPERCELL_MATRIX = [[1, 0], [0, 1]]\n",
    "SUBSTRATE_USE_ORTHOGONAL_C = True\n",
    "\n",
    "# Whether to convert materials to conventional cells before creating slabs.\n",
    "USE_CONVENTIONAL_CELL = False\n",
    "\n",
    "INTERFACE_DISTANCE = 3.0  # in Angstrom\n",
    "INTERFACE_VACUUM = 20.0  # in Angstrom"
   ]
  },
  {
   "cell_type": "markdown",
   "metadata": {},
   "source": [
    "\n",
    "### 1.2. Install Packages\n",
    "Note: the step executes only when using Pyodide. For other environments (e.g. Colab, JupyterLab), the packages should be installed via `pip install .` (see [README](../../README.ipynb))."
   ]
  },
  {
   "cell_type": "code",
   "execution_count": null,
   "metadata": {},
   "outputs": [],
   "source": [
    "import sys\n",
    "\n",
    "if sys.platform == \"emscripten\":\n",
    "    import micropip\n",
    "    await micropip.install(\"mat3ra-api-examples\", deps=False)\n",
    "    await micropip.install('mat3ra-utils')\n",
    "    from mat3ra.utils.jupyterlite.packages import install_packages\n",
    "    await install_packages(\"create_interface_with_min_strain_zsl.ipynb\")"
   ]
  },
  {
   "cell_type": "markdown",
   "metadata": {},
   "source": [
    "### 1.3. Get input materials and assign `substrate` and `film`\n",
    "Materials are loaded with `get_data()`. The first material is assigned as substrate and the second as film."
   ]
  },
  {
   "cell_type": "code",
   "execution_count": null,
   "metadata": {},
   "outputs": [],
   "source": [
    "from utils.jupyterlite import get_materials\n",
    "\n",
    "materials = get_materials(globals())\n",
    "substrate = materials[SUBSTRATE_INDEX]\n",
    "try: \n",
    "    film = materials[FILM_INDEX]\n",
    "except IndexError:\n",
    "    print(\"Please select a film material. Film is set to substrate.\")\n",
    "    film = substrate"
   ]
  },
  {
   "cell_type": "markdown",
   "metadata": {},
   "source": [
    "### 1.4. Preview Substrate and Film"
   ]
  },
  {
   "cell_type": "code",
   "execution_count": null,
   "metadata": {},
   "outputs": [],
   "source": [
    "from utils.visualize import visualize_materials as visualize\n",
    "visualize([substrate, film], repetitions=[3, 3, 1], rotation=\"0x\")"
   ]
  },
  {
   "cell_type": "markdown",
   "metadata": {},
   "source": [
    "## 2. Create slabs for the interface\n",
    "\n"
   ]
  },
  {
   "cell_type": "markdown",
   "metadata": {},
   "source": [
    "### 2.2. Get possible terminations for the slabs"
   ]
  },
  {
   "cell_type": "code",
   "execution_count": null,
   "metadata": {},
   "outputs": [],
   "source": [
    "from mat3ra.made.tools.helpers import get_slab_terminations\n",
    "\n",
    "film_slab_terminations = get_slab_terminations(film, miller_indices=FILM_MILLER_INDICES)\n",
    "substrate_slab_terminations = get_slab_terminations(substrate, miller_indices=SUBSTRATE_MILLER_INDICES)"
   ]
  },
  {
   "cell_type": "markdown",
   "metadata": {},
   "source": [
    "### 2.3. Visualize slabs for all possible terminations"
   ]
  },
  {
   "cell_type": "code",
   "execution_count": null,
   "metadata": {},
   "outputs": [],
   "source": [
    "from mat3ra.made.tools.helpers import create_slab\n",
    "from mat3ra.made.tools.helpers import select_slab_termination\n",
    "\n",
    "film_slabs = [create_slab(film, miller_indices=FILM_MILLER_INDICES, termination_top=termination, vacuum=0) for termination\n",
    "              in\n",
    "              film_slab_terminations]\n",
    "\n",
    "substrate_slabs = [create_slab(substrate, miller_indices=SUBSTRATE_MILLER_INDICES, termination_top=termination, vacuum=0)\n",
    "                   for termination in\n",
    "                   substrate_slab_terminations]\n",
    "\n",
    "film_slabs_with_titles = [{\"material\": slab, \"title\": str(termination)} for slab, termination in\n",
    "                          zip(film_slabs, film_slab_terminations)]\n",
    "substrate_slabs_with_titles = [{\"material\": slab, \"title\": str(termination)} for slab, termination in\n",
    "                               zip(substrate_slabs, substrate_slab_terminations)]\n",
    "\n",
    "visualize(film_slabs_with_titles, repetitions=[3, 3, 1], rotation=\"-90x\")\n",
    "visualize(substrate_slabs_with_titles, repetitions=[3, 3, 1], rotation=\"-90x\")"
   ]
  },
  {
   "cell_type": "markdown",
   "metadata": {},
   "source": [
    "### 2.3. Select terminations for the Slabs"
   ]
  },
  {
   "cell_type": "code",
   "execution_count": null,
   "metadata": {},
   "outputs": [],
   "source": [
    "film_termination = select_slab_termination(film_slab_terminations, FILM_TERMINATION_FORMULA)\n",
    "substrate_termination = select_slab_termination(substrate_slab_terminations, SUBSTRATE_TERMINATION_FORMULA)"
   ]
  },
  {
   "cell_type": "markdown",
   "metadata": {},
   "source": [
    "### 2.1. Create Substrate and Layer Slabs\n",
    "Slab Configuration lets define the slab thickness, vacuum, and the Miller indices of the interfacial plane and get the slabs with possible terminations.\n",
    "Define the substrate slab cell that will be used as a base for the interface and the film slab cell that will be placed on top of the substrate slab."
   ]
  },
  {
   "cell_type": "code",
   "execution_count": null,
   "metadata": {},
   "outputs": [],
   "source": [
    "from mat3ra.made.tools.helpers import create_slab\n",
    "\n",
    "if CREATE_SLABS:\n",
    "    film_slab = create_slab(\n",
    "        crystal=film,\n",
    "        miller_indices=FILM_MILLER_INDICES,\n",
    "        termination_bottom=film_termination,\n",
    "        number_of_layers=FILM_THICKNESS, # in atomic layers\n",
    "        vacuum=FILM_VACUUM, # in angstroms\n",
    "        xy_supercell_matrix=FILM_XY_SUPERCELL_MATRIX,\n",
    "        use_orthogonal_c=FILM_USE_ORTHOGONAL_C,\n",
    "        use_conventional_cell=USE_CONVENTIONAL_CELL\n",
    "    )\n",
    "\n",
    "    substrate_slab = create_slab(\n",
    "        crystal=substrate,\n",
    "        miller_indices=SUBSTRATE_MILLER_INDICES,\n",
    "        termination_top=substrate_termination,\n",
    "        number_of_layers=SUBSTRATE_THICKNESS, # in atomic layers\n",
    "        vacuum=SUBSTRATE_VACUUM, # in angstroms\n",
    "        xy_supercell_matrix=SUBSTRATE_XY_SUPERCELL_MATRIX,\n",
    "        use_orthogonal_c=SUBSTRATE_USE_ORTHOGONAL_C,\n",
    "        use_conventional_cell=USE_CONVENTIONAL_CELL\n",
    "    )\n",
    "else:\n",
    "    film_slab = film\n",
    "    substrate_slab = substrate\n"
   ]
  },
  {
   "cell_type": "markdown",
   "metadata": {},
   "source": [
    "## 3. Create an interface\n",
    "### 3.1. Create an interface with no strain matching\n",
    "We use no strain matching for the interface construction. Substrate slab cell is used as a base and the film slab is placed on top of it with the specified distance."
   ]
  },
  {
   "cell_type": "code",
   "execution_count": null,
   "metadata": {},
   "outputs": [],
   "source": [
    "from mat3ra.made.tools.helpers import create_interface_simple_between_slabs as create_simple_interface_between_slabs\n",
    "\n",
    "interface = create_simple_interface_between_slabs(\n",
    "    film_slab=film_slab,\n",
    "    substrate_slab=substrate_slab,\n",
    "    gap =INTERFACE_DISTANCE,\n",
    "    vacuum=INTERFACE_VACUUM,\n",
    "    xy_shift=FILM_XY_SHIFT\n",
    ")"
   ]
  },
  {
   "cell_type": "code",
   "execution_count": null,
   "metadata": {},
   "outputs": [],
   "source": [
    "visualize([interface], repetitions=[3, 3, 1])\n",
    "visualize([interface], repetitions=[3, 3, 1], rotation=\"-90x\")"
   ]
  },
  {
   "cell_type": "markdown",
   "metadata": {},
   "source": [
    "## 5. Pass data to the outside runtime"
   ]
  },
  {
   "cell_type": "code",
   "execution_count": null,
   "metadata": {},
   "outputs": [],
   "source": [
    "from utils.jupyterlite import set_materials\n",
    "set_materials(interface)"
   ]
  }
 ],
 "metadata": {
  "kernelspec": {
   "display_name": ".venv",
   "language": "python",
   "name": "python3"
  },
  "language_info": {
   "codemirror_mode": {
    "name": "ipython",
    "version": 3
   },
   "file_extension": ".py",
   "mimetype": "text/x-python",
   "name": "python",
   "nbconvert_exporter": "python",
   "pygments_lexer": "ipython3",
   "version": "3.10.12"
  }
 },
 "nbformat": 4,
 "nbformat_minor": 4
}
