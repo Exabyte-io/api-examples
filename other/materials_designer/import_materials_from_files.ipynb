{
 "cells": [
  {
   "cell_type": "markdown",
   "id": "0",
   "metadata": {},
   "source": [
    "# Import materials from files in multiple formats (CIF, POSCAR, etc.)\n",
    "\n",
    "This notebook uses ASE python package to extract structural information from files in multiple formats (CIF, POSCAR, etc., as supported by ASE). Some formats, like `espresso-in` and `espresso-out` can be inferred from the file content.\n",
    "\n",
    "<h2 style=\"color:green\">Usage</h2>\n",
    "\n",
    "1. Upload files to `uploads` folder: open (double-click) the folder in the left sidebar, then click \"Upload\" and select the files to upload or just drag-and-drop files onto the sidebar.\n",
    "1. Click \"Run\" > \"Run All Cells\" to run all cells\n",
    "1. In case of format detection error, please correct the file format extension and try again\n",
    "\n",
    "## Methodology\n",
    "\n",
    "The following happens in the script below:\n",
    "\n",
    "1. Install the required packages\n",
    "1. The files are extracted from `uploads` folder assuming their extensions represent the format - e.g. `SiO2.poscar`, `Ni.pwi`.\n",
    "1. Structural information is read from files into ASE Atoms objects.\n",
    "1. ASE Atoms objects are converted to `poscar` format \n",
    "1. `poscar` structures are converted to ESSE\n",
    "1. The results are visualized and passed to the outside runtime"
   ]
  },
  {
   "cell_type": "markdown",
   "id": "1",
   "metadata": {},
   "source": [
    "## 1. Set Parameters"
   ]
  },
  {
   "cell_type": "code",
   "execution_count": null,
   "id": "2",
   "metadata": {},
   "outputs": [],
   "source": [
    "# Upload files to this folder\n",
    "FOLDER_PATH = \"./uploads\"\n",
    "\n",
    "# By default, format will be guessed from file extension\n",
    "# If set to specific format, notebook will only read that format\n",
    "ENFORCED_FORMATS = None # e.g. [\"cif\", \"espresso-in\"]\n",
    "\n",
    "# If set to true, the file extension will be included in the resulting material name\n",
    "USE_FILE_NAME_NO_EXTENSION = False\n",
    "\n",
    "# If set to true, the supported formats and required extensions will be printed below\n",
    "SHOW_SUPPORTED_FORMATS = False"
   ]
  },
  {
   "cell_type": "markdown",
   "id": "3",
   "metadata": {},
   "source": [
    "## 2. Install Packages"
   ]
  },
  {
   "cell_type": "code",
   "execution_count": null,
   "id": "4",
   "metadata": {},
   "outputs": [],
   "source": [
    "import sys\n",
    "if sys.platform == \"emscripten\":\n",
    "    import micropip\n",
    "    await micropip.install(\"mat3ra-api-examples\", deps=False)\n",
    "    await micropip.install('mat3ra-utils')\n",
    "    from mat3ra.utils.jupyterlite.packages import install_packages\n",
    "    await install_packages(\"import_materials_from_files.ipynb\")"
   ]
  },
  {
   "cell_type": "markdown",
   "id": "5",
   "metadata": {},
   "source": [
    "## 3. Data Processing\n",
    "\n",
    "### 3.1. Read data from files in `uploads` folder"
   ]
  },
  {
   "cell_type": "code",
   "execution_count": null,
   "id": "6",
   "metadata": {},
   "outputs": [],
   "source": [
    "import os\n",
    "from pathlib import Path\n",
    "from ase.io import read\n",
    "\n",
    "ase_atoms, readable_file_names, unreadable_file_names = [], [], []\n",
    "file_names = os.listdir(FOLDER_PATH)\n",
    "\n",
    "for file_name in file_names:\n",
    "    file_path = os.path.join(FOLDER_PATH, file_name)\n",
    "    formats = ENFORCED_FORMATS or [None]\n",
    "\n",
    "    for fmt in formats:\n",
    "        try:\n",
    "            atoms = read(file_path, format=fmt)\n",
    "            atoms.info[\"file_name\"] = Path(file_name).stem if USE_FILE_NAME_NO_EXTENSION else file_name\n",
    "            ase_atoms.append(atoms)\n",
    "            readable_file_names.append(file_name)\n",
    "            print(\"Successfully read:\", atoms.info[\"file_name\"], \"using format:\", fmt)\n",
    "            break\n",
    "        except Exception:\n",
    "            continue\n",
    "    else:\n",
    "        unreadable_file_names.append(file_name)\n",
    "        print(\"Failed to read:\", file_name)"
   ]
  },
  {
   "cell_type": "markdown",
   "id": "7",
   "metadata": {},
   "source": [
    "### 3.2. List imported the data"
   ]
  },
  {
   "cell_type": "code",
   "execution_count": null,
   "id": "8",
   "metadata": {},
   "outputs": [],
   "source": [
    "print(f\"Successfully read {len(ase_atoms)} files: {readable_file_names}. \")\n",
    "print(f\"Unreadable files: {unreadable_file_names}. \")"
   ]
  },
  {
   "cell_type": "markdown",
   "id": "9",
   "metadata": {},
   "source": [
    "### 3.3. Troubleshoot data"
   ]
  },
  {
   "cell_type": "code",
   "execution_count": null,
   "id": "10",
   "metadata": {},
   "outputs": [],
   "source": [
    "from ase.io.formats import ioformats\n",
    "import pandas as pd\n",
    "\n",
    "if len(unreadable_file_names) > 0 or SHOW_SUPPORTED_FORMATS:\n",
    "    print(f\"Unreadable files found: {unreadable_file_names}. See formats/extensions below.\")\n",
    "    data = [[frmt.name, frmt.extensions, frmt.description] for frmt in ioformats.values()]\n",
    "    dataframe = pd.DataFrame(data, columns=[\"Format Name\", \"File Extensions\", \"Description\"])\n",
    "    print(dataframe.to_markdown())"
   ]
  },
  {
   "cell_type": "markdown",
   "id": "11",
   "metadata": {},
   "source": [
    "### 3.4. Convert to ESSE format"
   ]
  },
  {
   "cell_type": "code",
   "execution_count": null,
   "id": "12",
   "metadata": {},
   "outputs": [],
   "source": [
    "import io\n",
    "from ase import Atoms\n",
    "from ase.io import write\n",
    "from express import ExPrESS\n",
    "\n",
    "def ase_to_poscar(atoms: Atoms):\n",
    "    output = io.StringIO()\n",
    "    try:\n",
    "        write(output, atoms, format=\"vasp\")\n",
    "        content = output.getvalue()\n",
    "    except Exception as e:\n",
    "        print(f\"Error converting ASE atoms to POSCAR: {e}\")\n",
    "        content = None\n",
    "    finally:\n",
    "        output.close()\n",
    "\n",
    "    return content\n",
    "\n",
    "def convert_ase_entry_to_esse(ase_entry):\n",
    "    try:\n",
    "        poscar = ase_to_poscar(ase_entry)\n",
    "        if poscar is None:\n",
    "            raise ValueError(\"Failed to generate POSCAR string\")\n",
    "\n",
    "        kwargs = {\n",
    "            \"structure_string\": poscar,\n",
    "            \"structure_format\": \"poscar\"\n",
    "        }\n",
    "\n",
    "        handler = ExPrESS(\"structure\", **kwargs)\n",
    "        esse = handler.property(\"material\", **kwargs)\n",
    "\n",
    "        esse[\"name\"] = ase_entry.info.get(\"file_name\", \"Unknown\")\n",
    "\n",
    "        return esse\n",
    "    except Exception as e:\n",
    "        print(f\"Error processing ASE entry: {e}\")\n",
    "        return None\n",
    "\n",
    "esse_entries = [entry for entry in map(convert_ase_entry_to_esse, ase_atoms) if entry is not None]"
   ]
  },
  {
   "cell_type": "markdown",
   "id": "13",
   "metadata": {},
   "source": [
    "### 3.5. Preview the data"
   ]
  },
  {
   "cell_type": "code",
   "execution_count": null,
   "id": "14",
   "metadata": {},
   "outputs": [],
   "source": [
    "from utils.visualize import visualize_materials\n",
    "from mat3ra.made.material import Material\n",
    "\n",
    "materials = [Material(esse_entry) for esse_entry in esse_entries]\n",
    "\n",
    "visualize_materials(materials, viewer=\"wave\")"
   ]
  },
  {
   "cell_type": "markdown",
   "id": "15",
   "metadata": {},
   "source": [
    "## 4. Pass data to the outside runtime"
   ]
  },
  {
   "cell_type": "code",
   "execution_count": null,
   "id": "16",
   "metadata": {},
   "outputs": [],
   "source": [
    "from utils.jupyterlite import set_materials\n",
    "\n",
    "set_materials(materials)"
   ]
  }
 ],
 "metadata": {
  "kernelspec": {
   "display_name": ".venv",
   "language": "python",
   "name": "python3"
  },
  "language_info": {
   "codemirror_mode": {
    "name": "ipython",
    "version": 3
   },
   "file_extension": ".py",
   "mimetype": "text/x-python",
   "name": "python",
   "nbconvert_exporter": "python",
   "pygments_lexer": "ipython3",
   "version": "3.10.12"
  }
 },
 "nbformat": 4,
 "nbformat_minor": 5
}
