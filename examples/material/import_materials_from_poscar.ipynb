version https://git-lfs.github.com/spec/v1
oid sha256:48a8d5ed85f23b6e7414ad735e31ee2c7c600472890871494e9c443335359c11
size 11965
