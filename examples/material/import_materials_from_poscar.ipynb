version https://git-lfs.github.com/spec/v1
oid sha256:d40a95f0e5260bd48530317661f6263284e19e759120f924e8db189188f8bf9e
size 11614
