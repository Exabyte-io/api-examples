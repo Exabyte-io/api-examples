{
  "cells": [
    {
      "cell_type": "markdown",
      "metadata": {},
      "source": [
        "# Interface creation\n",
        "\n",
        "### Overview\n",
        "\n",
        "This notebook helps create interface between two materials using Zur and McGill matching superlattices algorithm (according to https://doi.org/10.1063/1.3330840), where it searches for all possible superlattices for both materials and checks them for match within tolerances.\n",
        "Pymatgen implementation of the algorithm is used here, where it is regarded as ZSL algorithm. (Documentation found in https://pymatgen.org/pymatgen.analysis.interfaces.html#pymatgen.analysis.interfaces.zsl)\n",
        "\n",
        "### Steps to create an interface:\n",
        "\n",
        "1.  Pass in materials from Materials Designer list by selecting input materials `materials_in` in the selector above:\n",
        "    -   Material with index 0 regarded as a `Substrate`,\n",
        "    -   Material with index 1 regarded as a `Layer`, although it can be a surface of another material.\n",
        "2.  Specify surface parameters as well as thickness in atomic layers for both materials (for 2D materials Miller indices (0, 0, 1) and thickness of 1 is assumed);\n",
        "\n",
        "3.  Set the main parameter for the ZSL algorithm `MAX_AREA` -- maximum area of the interfaces search space in Angstroms^2;\n",
        "4.  You can set fine-tuning parameters like `MAX_AREA_TOL`, `MAX_LENGTH_TOL`, etc if you want and know how to optimize search for your specific case;\n",
        "5.  Add displacement of the layer relative to the substrate in (x, y, z) after the matching superlattice is found;\n",
        "6.  Run cells below to:\n",
        "    -   Load materials into JupyterLite environment,\n",
        "    -   Execute the algorithm and find all matching lattices,\n",
        "    -   Draw a scatter plot number of atoms vs strain for all found interfaces.\n",
        "7.  Choose the index of the most optimal material for your task and run cell to `set_materials()`;\n",
        "8.  Newly created interface should appear in the `materials_out` selector at the bottom of the dialog. Hit Submit to make it available it in the Materials Designer.\n"
      ]
    },
    {
      "cell_type": "code",
      "execution_count": 3,
      "metadata": {},
      "outputs": [],
      "source": [
        "SUBSTRATE_PARAMETERS = {\n",
        "    \"MATERIAL_INDEX\": 0,  # index of the material in the list of input materials\n",
        "    \"MILLER\": (1, 1, 1),\n",
        "    \"THICKNESS\": 3,  # in atomic layers\n",
        "}\n",
        "\n",
        "LAYER_PARAMETERS = {\n",
        "    \"MATERIAL_INDEX\": 1,  # index of the material in the list of input materials\n",
        "    \"MILLER\": (0, 0, 1),\n",
        "    \"THICKNESS\": 1,  # in atomic layers\n",
        "}\n",
        "\n",
        "ZSL_PARAMETERS = {\n",
        "    # Main parameter:\n",
        "    \"MAX_AREA\": 400,  # in Angstrom^2\n",
        "    # Fine-tuning parameters:\n",
        "    \"MAX_AREA_TOL\": 0.09,  # area within this tolerance is considered equal\n",
        "    \"MAX_LENGTH_TOL\": 0.03,  # supercell lattice vectors lengths within this tolerance are considered equal\n",
        "    \"MAX_ANGLE_TOL\": 0.01,  # supercell lattice angles within this tolerance are considered equal\n",
        "    \"STRAIN_TOL\": 10e-6,  # strains within this tolerance are considered equal\n",
        "}\n",
        "\n",
        "DISPLACEMENT = {\n",
        "    \"DISPLACEMENT_X\": 0.0,  # in Angstrom\n",
        "    \"DISPLACEMENT_Y\": 0.0,  # in Angstrom\n",
        "    \"DISPLACEMENT_Z\": 3.0,  # in Angstrom\n",
        "}"
      ]
    },
    {
      "cell_type": "code",
      "execution_count": 1,
      "metadata": {},
      "outputs": [
        {
          "ename": "ImportError",
          "evalue": "This module intended to be used in a Pyodide environment. Please use micropip instead of pip.",
          "output_type": "error",
          "traceback": [
            "\u001b[0;31m---------------------------------------------------------------------------\u001b[0m",
            "\u001b[0;31mModuleNotFoundError\u001b[0m                       Traceback (most recent call last)",
            "File \u001b[0;32m~/code/RED/api-examples/other/materials_designer/interface_creation/development/utils.py:8\u001b[0m\n\u001b[1;32m      7\u001b[0m \u001b[38;5;28;01mtry\u001b[39;00m:\n\u001b[0;32m----> 8\u001b[0m     \u001b[38;5;28;01mimport\u001b[39;00m \u001b[38;5;21;01mmicropip\u001b[39;00m\n\u001b[1;32m      9\u001b[0m \u001b[38;5;28;01mexcept\u001b[39;00m \u001b[38;5;167;01mImportError\u001b[39;00m:\n",
            "\u001b[0;31mModuleNotFoundError\u001b[0m: No module named 'micropip'",
            "\nDuring handling of the above exception, another exception occurred:\n",
            "\u001b[0;31mImportError\u001b[0m                               Traceback (most recent call last)",
            "Cell \u001b[0;32mIn[1], line 1\u001b[0m\n\u001b[0;32m----> 1\u001b[0m \u001b[38;5;28;01mfrom\u001b[39;00m \u001b[38;5;21;01mdevelopment\u001b[39;00m\u001b[38;5;21;01m.\u001b[39;00m\u001b[38;5;21;01mutils\u001b[39;00m \u001b[38;5;28;01mimport\u001b[39;00m install_packages\n\u001b[1;32m      3\u001b[0m \u001b[38;5;28;01mawait\u001b[39;00m install_packages()\n\u001b[1;32m      4\u001b[0m \u001b[38;5;28;01mfrom\u001b[39;00m \u001b[38;5;21;01mdevelopment\u001b[39;00m\u001b[38;5;21;01m.\u001b[39;00m\u001b[38;5;21;01mdefinitions\u001b[39;00m \u001b[38;5;28;01mimport\u001b[39;00m get_materials, set_materials, to_pymatgen, from_pymatgen\n",
            "File \u001b[0;32m~/code/RED/api-examples/other/materials_designer/interface_creation/development/utils.py:10\u001b[0m\n\u001b[1;32m      8\u001b[0m     \u001b[38;5;28;01mimport\u001b[39;00m \u001b[38;5;21;01mmicropip\u001b[39;00m\n\u001b[1;32m      9\u001b[0m \u001b[38;5;28;01mexcept\u001b[39;00m \u001b[38;5;167;01mImportError\u001b[39;00m:\n\u001b[0;32m---> 10\u001b[0m     \u001b[38;5;28;01mraise\u001b[39;00m \u001b[38;5;167;01mImportError\u001b[39;00m(\u001b[38;5;124m\"\u001b[39m\u001b[38;5;124mThis module intended to be used in a Pyodide environment. Please use micropip instead of pip.\u001b[39m\u001b[38;5;124m\"\u001b[39m)\n\u001b[1;32m     12\u001b[0m \u001b[38;5;28;01mimport\u001b[39;00m \u001b[38;5;21;01mjson\u001b[39;00m\n\u001b[1;32m     14\u001b[0m packages \u001b[38;5;241m=\u001b[39m [\n\u001b[1;32m     15\u001b[0m     \u001b[38;5;124m\"\u001b[39m\u001b[38;5;124mhttps://files.mat3ra.com:44318/uploads/pymatgen-2023.9.10-py3-none-any.whl\u001b[39m\u001b[38;5;124m\"\u001b[39m,\n\u001b[1;32m     16\u001b[0m     \u001b[38;5;124m\"\u001b[39m\u001b[38;5;124mhttps://files.mat3ra.com:44318/web/pyodide/spglib-2.0.2-py3-none-any.whl\u001b[39m\u001b[38;5;124m\"\u001b[39m,\n\u001b[0;32m   (...)\u001b[0m\n\u001b[1;32m     27\u001b[0m     \u001b[38;5;124m\"\u001b[39m\u001b[38;5;124mipywidgets\u001b[39m\u001b[38;5;124m\"\u001b[39m,\n\u001b[1;32m     28\u001b[0m ]\n",
            "\u001b[0;31mImportError\u001b[0m: This module intended to be used in a Pyodide environment. Please use micropip instead of pip."
          ]
        }
      ],
      "source": [
        "# Install the required packages\n",
        "from development.utils import install_packages\n",
        "\n",
        "await install_packages()\n",
        "from development.definitions import get_materials, set_materials, to_pymatgen, from_pymatgen, plot_strain_vs_atoms\n",
        "\n",
        "# Get the list of input materials and load them into `data` variable\n",
        "get_materials()"
      ]
    },
    {
      "cell_type": "code",
      "execution_count": 10,
      "metadata": {
        "tags": [],
        "trusted": true
      },
      "outputs": [
        {
          "ename": "ModuleNotFoundError",
          "evalue": "No module named 'scipy'",
          "output_type": "error",
          "traceback": [
            "\u001b[0;31m---------------------------------------------------------------------------\u001b[0m",
            "\u001b[0;31mModuleNotFoundError\u001b[0m                       Traceback (most recent call last)",
            "Cell \u001b[0;32mIn[10], line 1\u001b[0m\n\u001b[0;32m----> 1\u001b[0m \u001b[38;5;28;01mfrom\u001b[39;00m \u001b[38;5;21;01mdevelopment\u001b[39;00m\u001b[38;5;21;01m.\u001b[39;00m\u001b[38;5;21;01mpymatgen_coherent_interface_builder\u001b[39;00m \u001b[38;5;28;01mimport\u001b[39;00m CoherentInterfaceBuilder, ZSLGenerator\n\u001b[1;32m      2\u001b[0m \u001b[38;5;28;01mfrom\u001b[39;00m \u001b[38;5;21;01moperator\u001b[39;00m \u001b[38;5;28;01mimport\u001b[39;00m itemgetter\n\u001b[1;32m      4\u001b[0m pymatgen_materials \u001b[38;5;241m=\u001b[39m [to_pymatgen(item) \u001b[38;5;28;01mfor\u001b[39;00m item \u001b[38;5;129;01min\u001b[39;00m data]\n",
            "File \u001b[0;32m~/code/RED/api-examples/other/materials_designer/interface_creation/development/pymatgen_coherent_interface_builder.py:12\u001b[0m\n\u001b[1;32m     10\u001b[0m \u001b[38;5;28;01mimport\u001b[39;00m \u001b[38;5;21;01mnumpy\u001b[39;00m \u001b[38;5;28;01mas\u001b[39;00m \u001b[38;5;21;01mnp\u001b[39;00m\n\u001b[1;32m     11\u001b[0m \u001b[38;5;28;01mfrom\u001b[39;00m \u001b[38;5;21;01mnumpy\u001b[39;00m\u001b[38;5;21;01m.\u001b[39;00m\u001b[38;5;21;01mtesting\u001b[39;00m \u001b[38;5;28;01mimport\u001b[39;00m assert_allclose\n\u001b[0;32m---> 12\u001b[0m \u001b[38;5;28;01mfrom\u001b[39;00m \u001b[38;5;21;01mscipy\u001b[39;00m\u001b[38;5;21;01m.\u001b[39;00m\u001b[38;5;21;01mlinalg\u001b[39;00m \u001b[38;5;28;01mimport\u001b[39;00m polar\n\u001b[1;32m     14\u001b[0m \u001b[38;5;28;01mimport\u001b[39;00m \u001b[38;5;21;01mpymatgen\u001b[39;00m\n\u001b[1;32m     15\u001b[0m \u001b[38;5;28;01mfrom\u001b[39;00m \u001b[38;5;21;01mpymatgen\u001b[39;00m\u001b[38;5;21;01m.\u001b[39;00m\u001b[38;5;21;01manalysis\u001b[39;00m\u001b[38;5;21;01m.\u001b[39;00m\u001b[38;5;21;01minterfaces\u001b[39;00m\u001b[38;5;21;01m.\u001b[39;00m\u001b[38;5;21;01mzsl\u001b[39;00m \u001b[38;5;28;01mimport\u001b[39;00m ZSLGenerator\n",
            "\u001b[0;31mModuleNotFoundError\u001b[0m: No module named 'scipy'"
          ]
        }
      ],
      "source": [
        "from development.pymatgen_coherent_interface_builder import CoherentInterfaceBuilder, ZSLGenerator\n",
        "from operator import itemgetter\n",
        "\n",
        "pymatgen_materials = [to_pymatgen(item) for item in data]\n",
        "for material in pymatgen_materials:\n",
        "    print(material)\n",
        "\n",
        "PLOT_SETTINGS = {\n",
        "    \"X_MIN\": 0.01,  # percentage\n",
        "    \"X_MAX\": 100,  # percentage\n",
        "    \"Y_MIN\": 1,  # number of atoms\n",
        "    \"Y_MAX\": 1000,  # number of atoms\n",
        "    \"X_SCALE\": \"log\",\n",
        "    \"Y_SCALE\": \"log\",\n",
        "}\n",
        "\n",
        "\n",
        "def create_interfaces(settings):\n",
        "    # Create Interface Builder class\n",
        "    zsl = ZSLGenerator(\n",
        "        max_area_ratio_tol=settings[\"MAX_AREA_TOL\"],\n",
        "        max_area=settings[\"MAX_AREA\"],\n",
        "        max_length_tol=settings[\"MAX_LENGTH_TOL\"],\n",
        "        max_angle_tol=settings[\"MAX_ANGLE_TOL\"],\n",
        "    )\n",
        "\n",
        "    cib = CoherentInterfaceBuilder(\n",
        "        substrate_structure=pymatgen_materials[settings[\"SUBSTRATE_INDEX\"]],\n",
        "        film_structure=pymatgen_materials[settings[\"LAYER_INDEX\"]],\n",
        "        substrate_miller=settings[\"SUBSTRATE_MILLER\"],\n",
        "        film_miller=settings[\"LAYER_MILLER\"],\n",
        "        zslgen=zsl,\n",
        "        strain_tol=settings[\"STRAIN_TOL\"],\n",
        "    )\n",
        "\n",
        "    # Run the Interface Building process\n",
        "    cib._find_terminations()\n",
        "    matches = cib.zsl_matches\n",
        "    terminations = cib.terminations\n",
        "\n",
        "    # Create interfaces\n",
        "    interfaces = []\n",
        "    for termination in terminations:\n",
        "        interfaces = list(\n",
        "            cib.get_interfaces(\n",
        "                termination,\n",
        "                gap=settings[\"DISPLACEMENT_Z\"],\n",
        "                film_thickness=settings[\"LAYER_THICKNESS\"],\n",
        "                substrate_thickness=settings[\"SUBSTRATE_THICKNESS\"],\n",
        "                in_layers=True,\n",
        "            )\n",
        "        )\n",
        "\n",
        "    print(f\"Found {len(matches)} interfaces\")\n",
        "    print(f\"Found {len(terminations)} terminations:\", terminations)\n",
        "\n",
        "    strain_modes = {\n",
        "        \"VON_MISES\": \"von_mises_strain\",\n",
        "        \"STRAIN\": \"strain\",\n",
        "        \"MEAN\": \"mean_abs_strain\",\n",
        "    }\n",
        "    strain_mode = strain_modes[\"MEAN\"]\n",
        "    interfaces_list = list(interfaces)\n",
        "\n",
        "    # Sort interfaces by ascending strain and then by ascending number of atoms\n",
        "    sorted_interfaces = sorted(\n",
        "        interfaces_list,\n",
        "        key=lambda x: (itemgetter(strain_mode)(x), x[\"interface\"].num_sites),\n",
        "    )\n",
        "\n",
        "    print(\"Interface with lowest strain (index 0):\")\n",
        "    print(\"    strain:\", sorted_interfaces[0][strain_mode] * 100, \"%\")\n",
        "    print(\"    number of atoms:\", sorted_interfaces[0][\"interface\"].num_sites)\n",
        "    # plot stran vs number of atoms via matplotlib\n",
        "    plot_strain_vs_atoms(strain_mode, sorted_interfaces, settings=PLOT_SETTINGS)\n",
        "    return sorted_interfaces\n",
        "\n",
        "\n",
        "interfaces = create_interfaces(settings={**SUBSTRATE_PARAMETERS, **LAYER_PARAMETERS, **ZSL_PARAMETERS, **DISPLACEMENT})"
      ]
    },
    {
      "cell_type": "code",
      "execution_count": null,
      "metadata": {},
      "outputs": [],
      "source": [
        "m3_esse = from_pymatgen(interfaces[0][\"interface\"])\n",
        "set_materials([m3_esse])"
      ]
    }
  ],
  "metadata": {
    "kernelspec": {
      "display_name": ".venv",
      "language": "python",
      "name": "python3"
    },
    "language_info": {
      "codemirror_mode": {
        "name": "ipython",
        "version": 3
      },
      "file_extension": ".py",
      "mimetype": "text/x-python",
      "name": "python",
      "nbconvert_exporter": "python",
      "pygments_lexer": "ipython3",
      "version": "3.10.12"
    },
    "widgets": {
      "application/vnd.jupyter.widget-state+json": {
        "state": {},
        "version_major": 2,
        "version_minor": 0
      }
    }
  },
  "nbformat": 4,
  "nbformat_minor": 4
}
