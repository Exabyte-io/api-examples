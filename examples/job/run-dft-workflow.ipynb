version https://git-lfs.github.com/spec/v1
oid sha256:f65cebfcdea0b79dd2ef7f14e8b1ee767a928de3d9ef8245c5b78d15e3769ea5
size 8406
