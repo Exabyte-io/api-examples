{
  "cells": [
    {
      "cell_type": "code",
      "execution_count": null,
      "metadata": {},
      "outputs": [],
      "source": [
        "from install_packages import install_packages\n",
        "\n",
        "await install_packages()"
      ]
    },
    {
      "cell_type": "code",
      "execution_count": null,
      "metadata": {
        "trusted": true
      },
      "outputs": [],
      "source": [
        "from definitions import get_materials, set_materials, to_pymatgen, from_pymatgen, plot_strain_vs_atoms"
      ]
    },
    {
      "cell_type": "code",
      "execution_count": null,
      "metadata": {
        "trusted": true
      },
      "outputs": [],
      "source": [
        "# Load materials from Materials Designer list (in ESSE Material Config format, JSON) to `data` variable\n",
        "get_materials()"
      ]
    },
    {
      "cell_type": "code",
      "execution_count": null,
      "metadata": {},
      "outputs": [],
      "source": [
        "print(f\"Loaded {len(data)} materials from Materials Designer:\")\n",
        "pymatgen_materials = [to_pymatgen(item) for item in data]\n",
        "for material in pymatgen_materials:\n",
        "    print(material)"
      ]
    },
    {
      "cell_type": "code",
      "execution_count": 3,
      "metadata": {},
      "outputs": [],
      "source": [
        "# Parameters for the ZSL algorithm\n",
        "# as defined in: https://pymatgen.org/pymatgen.analysis.interfaces.html#pymatgen.analysis.interfaces.zsl.ZSLGenerator\n",
        "ZSL_GENERATOR_PARAMS = {\n",
        "    \"MAX_AREA\": 400,\n",
        "    \"MAX_AREA_TOL\": 0.09,\n",
        "    \"MAX_LENGTH_TOL\": 0.03,\n",
        "    \"MAX_ANGLE_TOL\": 0.01,\n",
        "    # Strains within this tolerance are considered equal\n",
        "    \"STRAIN_TOL\": 10e-6,\n",
        "}\n",
        "\n",
        "\n",
        "INTERFACE_PARAMS = {\n",
        "    \"SUBSTRATE_INDEX\": 0,\n",
        "    \"LAYER_INDEX\": 1,\n",
        "    \"SUBSTRATE_MILLER\": (1, 1, 1),\n",
        "    \"SUBSTRATE_THICKNESS\": 1,\n",
        "    \"LAYER_MILLER\": (0, 0, 1),\n",
        "    \"LAYER_THICKNESS\": 1,\n",
        "    \"DISPLACEMENT_X\": 0.0,\n",
        "    \"DISPLACEMENT_Y\": 0.0,\n",
        "    \"DISPLACEMENT_Z\": 3.0,\n",
        "}\n",
        "\n",
        "PLOT_SETTINGS = {\n",
        "    \"X_MIN\": 0.01,  # percentage\n",
        "    \"X_MAX\": 100,  # percentage\n",
        "    \"Y_MIN\": 1,  # number of atoms\n",
        "    \"Y_MAX\": 1000,  # number of atoms\n",
        "    \"X_SCALE\": \"log\",\n",
        "    \"Y_SCALE\": \"log\",\n",
        "}"
      ]
    },
    {
      "cell_type": "code",
      "execution_count": null,
      "metadata": {
        "tags": [],
        "trusted": true
      },
      "outputs": [],
      "source": [
        "from pymatgen_coherent_interface_builder import CoherentInterfaceBuilder, ZSLGenerator\n",
        "from operator import itemgetter\n",
        "\n",
        "\n",
        "def create_interfaces(settings):\n",
        "    # Create Interface Builder class\n",
        "    zsl = ZSLGenerator(\n",
        "        max_area_ratio_tol=settings[\"MAX_AREA_TOL\"],\n",
        "        max_area=settings[\"MAX_AREA\"],\n",
        "        max_length_tol=settings[\"MAX_LENGTH_TOL\"],\n",
        "        max_angle_tol=settings[\"MAX_ANGLE_TOL\"],\n",
        "    )\n",
        "    cib = CoherentInterfaceBuilder(\n",
        "        substrate_structure=pymatgen_materials[settings[\"SUBSTRATE_INDEX\"]],\n",
        "        film_structure=pymatgen_materials[settings[\"LAYER_INDEX\"]],\n",
        "        substrate_miller=settings[\"SUBSTRATE_MILLER\"],\n",
        "        film_miller=settings[\"LAYER_MILLER\"],\n",
        "        zslgen=zsl,\n",
        "        strain_tol=settings[\"STRAIN_TOL\"],\n",
        "    )\n",
        "\n",
        "    # Run the Interface Building process\n",
        "    cib._find_terminations()\n",
        "    matches = cib.zsl_matches\n",
        "    terminations = cib.terminations\n",
        "\n",
        "    # Create interfaces\n",
        "    interfaces = []\n",
        "    for termination in terminations:\n",
        "        interfaces = list(\n",
        "            cib.get_interfaces(\n",
        "                termination,\n",
        "                gap=settings[\"DISPLACEMENT_Z\"],\n",
        "                film_thickness=settings[\"LAYER_THICKNESS\"],\n",
        "                substrate_thickness=settings[\"SUBSTRATE_THICKNESS\"],\n",
        "                in_layers=True,\n",
        "            )\n",
        "        )\n",
        "\n",
        "    print(f\"Found {len(matches)} interfaces\")\n",
        "    print(f\"Found {len(terminations)} terminations:\", terminations)\n",
        "\n",
        "    strain_modes = {\n",
        "        \"VON_MISES\": \"von_mises_strain\",\n",
        "        \"STRAIN\": \"strain\",\n",
        "        \"MEAN\": \"mean_abs_strain\",\n",
        "    }\n",
        "    strain_mode = strain_modes[\"MEAN\"]\n",
        "    interfaces_list = list(interfaces)\n",
        "\n",
        "    # Sort interfaces by ascending strain and then by ascending number of atoms\n",
        "    sorted_interfaces = sorted(\n",
        "        interfaces_list,\n",
        "        key=lambda x: (itemgetter(strain_mode)(x), x[\"interface\"].num_sites),\n",
        "    )\n",
        "\n",
        "    print(\"Interface with lowest strain (index 0):\")\n",
        "    print(\"    strain:\", sorted_interfaces[0][strain_mode] * 100, \"%\")\n",
        "    print(\"    number of atoms:\", sorted_interfaces[0][\"interface\"].num_sites)\n",
        "\n",
        "    # plot stran vs number of atoms via matplotlib\n",
        "    plot_strain_vs_atoms(strain_mode, sorted_interfaces, settings=PLOT_SETTINGS)\n",
        "    return sorted_interfaces\n",
        "\n",
        "\n",
        "interfaces = create_interfaces(settings=[ZSL_GENERATOR_PARAMS, INTERFACE_PARAMS])"
      ]
    },
    {
      "cell_type": "code",
      "execution_count": null,
      "metadata": {
        "trusted": true
      },
      "outputs": [],
      "source": [
        "m3_esse = from_pymatgen(interfaces[0][\"interface\"])\n",
        "print(m3_esse)"
      ]
    },
    {
      "cell_type": "code",
      "execution_count": null,
      "metadata": {
        "trusted": true
      },
      "outputs": [],
      "source": [
        "# Submit materials (JSON config format) back to Materials Designer\n",
        "set_materials([m3_esse])"
      ]
    }
  ],
  "metadata": {
    "kernelspec": {
      "display_name": ".venv",
      "language": "python",
      "name": "python3"
    },
    "language_info": {
      "codemirror_mode": {
        "name": "ipython",
        "version": 3
      },
      "file_extension": ".py",
      "mimetype": "text/x-python",
      "name": "python",
      "nbconvert_exporter": "python",
      "pygments_lexer": "ipython3",
      "version": "3.10.12"
    },
    "widgets": {
      "application/vnd.jupyter.widget-state+json": {
        "state": {},
        "version_major": 2,
        "version_minor": 0
      }
    }
  },
  "nbformat": 4,
  "nbformat_minor": 4
}
