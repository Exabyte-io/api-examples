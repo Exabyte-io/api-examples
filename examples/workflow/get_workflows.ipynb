{
 "cells": [
  {
   "attachments": {},
   "cell_type": "markdown",
   "metadata": {
    "id": "rqmhDMSkIQAT"
   },
   "source": [
    "<a href=\"https://colab.research.google.com/github/Exabyte-io/api-examples/blob/bugfix/SOF-5578-WIP/examples/workflow/get_workflows.ipynb\" target=\"_parent\">\n",
    "<img alt=\"Open in Google Colab\" src=\"https://user-images.githubusercontent.com/20477508/128780728-491fea90-9b23-495f-a091-11681150db37.jpeg\" width=\"150\" border=\"0\">\n",
    "</a>"
   ]
  },
  {
   "attachments": {},
   "cell_type": "markdown",
   "metadata": {
    "id": "OtfhrLhwIQAV"
   },
   "source": [
    "# Overview\n",
    "\n",
    "Inside this example we contact [Workflow](https://docs.mat3ra.com/api/Workflows/get_workflows) endpoint to obtain a list of workflows that an account has access to."
   ]
  },
  {
   "attachments": {},
   "cell_type": "markdown",
   "metadata": {
    "id": "stJCOZz0IQAW"
   },
   "source": [
    "# Complete Authorization Form and Initialize Settings\n",
    "\n",
    "This will also determine environment and set all environment variables. We determine if we are using Jupyter Notebooks or Google Colab to run this tutorial.\n",
    "\n",
    "If you are running this notebook from Google Colab, Colab takes ~1 min to execute the following cell.\n",
    "\n",
    "ACCOUNT_ID and AUTH_TOKEN - Authentication parameters needed for when making requests to [Mat3ra.com's API Endpoints](https://docs.mat3ra.com/rest-api/endpoints/).\n",
    "\n",
    "MATERIALS_PROJECT_API_KEY - Authentication parameter needed for when making requests to [Material Project's API](https://materialsproject.org/open)\n",
    "\n",
    "ORGANIZATION_ID - Authentication parameter needed for when working with collaborative accounts https://docs.mat3ra.com/collaboration/organizations/overview/\n",
    "\n",
    "> <span style=\"color: orange\">**NOTE**</span>: If you are running this notebook from Jupyter, the variables ACCOUNT_ID, AUTH_TOKEN, MATERIALS_PROJECT_API_KEY, and ORGANIZATION_ID should be set in the file [settings.json](../settings.json) if you need to use these variables. To obtain API token parameters, please see the following link to the documentation explaining how to get them: https://docs.mat3ra.com/accounts/ui/preferences/api/"
   ]
  },
  {
   "cell_type": "code",
   "execution_count": 1,
   "metadata": {
    "cellView": "form",
    "colab": {
     "base_uri": "https://localhost:8080/"
    },
    "execution": {
     "iopub.execute_input": "2023-06-21T01:32:36.155321Z",
     "iopub.status.busy": "2023-06-21T01:32:36.154187Z",
     "iopub.status.idle": "2023-06-21T01:32:36.156731Z",
     "shell.execute_reply": "2023-06-21T01:32:36.157576Z"
    },
    "id": "KenNuzjjIQAW",
    "outputId": "1622a36b-7d5c-4798-a684-ca9f1e069ff2"
   },
   "outputs": [],
   "source": [
    "#@title Authorization Form\n",
    "ACCOUNT_ID = \"ACCOUNT_ID\" #@param {type:\"string\"}\n",
    "AUTH_TOKEN = \"AUTH_TOKEN\" #@param {type:\"string\"}\n",
    "MATERIALS_PROJECT_API_KEY = \"MATERIALS_PROJECT_API_KEY\" #@param {type:\"string\"}\n",
    "ORGANIZATION_ID  = \"ORGANIZATION_ID\" #@param {type:\"string\"}\n",
    "\n",
    "import os\n",
    "if \"COLAB_JUPYTER_IP\" in os.environ:\n",
    "    os.environ.update(\n",
    "        dict(\n",
    "            ACCOUNT_ID=ACCOUNT_ID,\n",
    "            AUTH_TOKEN=AUTH_TOKEN,\n",
    "            MATERIALS_PROJECT_API_KEY=MATERIALS_PROJECT_API_KEY,\n",
    "            ORGANIZATION_ID=ORGANIZATION_ID,\n",
    "        )\n",
    "    )\n",
    "\n",
    "    !GIT_BRANCH=\"bugfix/SOF-5578-WIP\"; export GIT_BRANCH; curl -s \"https://raw.githubusercontent.com/Exabyte-io/api-examples/${GIT_BRANCH}/scripts/env.sh\" | bash"
   ]
  },
  {
   "attachments": {},
   "cell_type": "markdown",
   "metadata": {
    "id": "t0TQd18kIQAX"
   },
   "source": [
    "## Imports"
   ]
  },
  {
   "cell_type": "code",
   "execution_count": 2,
   "metadata": {
    "execution": {
     "iopub.execute_input": "2023-06-21T01:32:36.162789Z",
     "iopub.status.busy": "2023-06-21T01:32:36.161750Z",
     "iopub.status.idle": "2023-06-21T01:32:36.247864Z",
     "shell.execute_reply": "2023-06-21T01:32:36.248379Z"
    },
    "id": "dX3VXdWJIQAX"
   },
   "outputs": [
    {
     "name": "stderr",
     "output_type": "stream",
     "text": [
      "/Users/exabyte/.pyenv/versions/3.8.6/lib/python3.8/site-packages/requests/__init__.py:89: RequestsDependencyWarning: urllib3 (1.26.5) or chardet (3.0.4) doesn't match a supported version!\n",
      "  warnings.warn(\"urllib3 ({}) or chardet ({}) doesn't match a supported \"\n"
     ]
    }
   ],
   "source": [
    "from examples.settings import ENDPOINT_ARGS, ACCOUNT_ID\n",
    "from examples.utils.generic import display_JSON\n",
    "\n",
    "from exabyte_api_client.endpoints.workflows import WorkflowEndpoints"
   ]
  },
  {
   "attachments": {},
   "cell_type": "markdown",
   "metadata": {
    "id": "h8JubXPxIQAY"
   },
   "source": [
    "## Set Parameters\n",
    "\n",
    "- **QUERY**: A query describing the documents to find. See [Meteor collection](https://docs.meteor.com/api/collections.html#Mongo-Collection-find) for more information. \n",
    "\n",
    "- **limit**: Maximum number of results to return. See [Meteor collection](https://docs.meteor.com/api/collections.html#Mongo-Collection-find) for more information."
   ]
  },
  {
   "cell_type": "code",
   "execution_count": 3,
   "metadata": {
    "execution": {
     "iopub.execute_input": "2023-06-21T01:32:36.252804Z",
     "iopub.status.busy": "2023-06-21T01:32:36.251997Z",
     "iopub.status.idle": "2023-06-21T01:32:36.254468Z",
     "shell.execute_reply": "2023-06-21T01:32:36.255016Z"
    },
    "id": "xCEktmwiIQAZ"
   },
   "outputs": [],
   "source": [
    "QUERY = {\n",
    "    \"name\": \"Total Energy\",\n",
    "    \"owner._id\": ACCOUNT_ID\n",
    "}\n",
    "\n",
    "OPTIONS = {\n",
    "    \"limit\": 2\n",
    "}"
   ]
  },
  {
   "attachments": {},
   "cell_type": "markdown",
   "metadata": {
    "id": "1fgv7cWSIQAZ"
   },
   "source": [
    "## Initialize the endpoint\n",
    "\n",
    "Initialize a helper class to interact with `WorkflowEndpoints`. This only has to be done once."
   ]
  },
  {
   "cell_type": "code",
   "execution_count": 4,
   "metadata": {
    "execution": {
     "iopub.execute_input": "2023-06-21T01:32:36.259446Z",
     "iopub.status.busy": "2023-06-21T01:32:36.258647Z",
     "iopub.status.idle": "2023-06-21T01:32:36.260716Z",
     "shell.execute_reply": "2023-06-21T01:32:36.261216Z"
    },
    "id": "pwEMspn7IQAa"
   },
   "outputs": [],
   "source": [
    "endpoint = WorkflowEndpoints(*ENDPOINT_ARGS)"
   ]
  },
  {
   "attachments": {},
   "cell_type": "markdown",
   "metadata": {
    "id": "iKpJYJYjIQAa"
   },
   "source": [
    "## List workflows\n",
    "\n",
    "Contact the endpoint to list workflows according to the query above."
   ]
  },
  {
   "cell_type": "code",
   "execution_count": 5,
   "metadata": {
    "execution": {
     "iopub.execute_input": "2023-06-21T01:32:36.266051Z",
     "iopub.status.busy": "2023-06-21T01:32:36.265342Z",
     "iopub.status.idle": "2023-06-21T01:32:37.027545Z",
     "shell.execute_reply": "2023-06-21T01:32:37.028078Z"
    },
    "id": "wzFp8DcCIQAa"
   },
   "outputs": [],
   "source": [
    "workflows = endpoint.list(QUERY, OPTIONS)"
   ]
  },
  {
   "attachments": {},
   "cell_type": "markdown",
   "metadata": {
    "id": "mrZ2nEmJIQAb"
   },
   "source": [
    "## Print workflows\n",
    "\n",
    "Print the list of workflows saved under the corresponding variable in pretty JSON below."
   ]
  },
  {
   "cell_type": "code",
   "execution_count": 6,
   "metadata": {
    "colab": {
     "base_uri": "https://localhost:8080/"
    },
    "execution": {
     "iopub.execute_input": "2023-06-21T01:32:37.033193Z",
     "iopub.status.busy": "2023-06-21T01:32:37.032405Z",
     "iopub.status.idle": "2023-06-21T01:32:37.035472Z",
     "shell.execute_reply": "2023-06-21T01:32:37.035991Z"
    },
    "id": "KSJgpWRzIQAb",
    "outputId": "7ee3b7f6-208f-427e-ee32-07486078072c"
   },
   "outputs": [
    {
     "name": "stdout",
     "output_type": "stream",
     "text": [
      "[\n",
      "    {\n",
      "        \"_id\": \"gnt78LeBHH4QCgxiw\",\n",
      "        \"name\": \"Total Energy\",\n",
      "        \"subworkflows\": [\n",
      "            {\n",
      "                \"_id\": \"0c20976ea2206f598b78d761\",\n",
      "                \"name\": \"Total Energy\",\n",
      "                \"application\": {\n",
      "                    \"_id\": \"XXNZ9pqkerTJtfkwk\",\n",
      "                    \"name\": \"espresso\",\n",
      "                    \"version\": \"5.4.0\",\n",
      "                    \"build\": \"Default\",\n",
      "                    \"isDefault\": true,\n",
      "                    \"summary\": \"Quantum Espresso\",\n",
      "                    \"updatedAt\": \"2023-05-26T16:56:57.071Z\",\n",
      "                    \"shortName\": \"qe\",\n",
      "                    \"hasAdvancedComputeOptions\": true,\n",
      "                    \"updatedBy\": \"0\"\n",
      "                },\n",
      "                \"properties\": [\n",
      "                    \"total_energy\",\n",
      "                    \"total_energy_contributions\",\n",
      "                    \"pressure\",\n",
      "                    \"fermi_energy\",\n",
      "                    \"atomic_forces\",\n",
      "                    \"total_force\",\n",
      "                    \"stress_tensor\"\n",
      "                ],\n",
      "                \"model\": {\n",
      "                    \"type\": \"dft\",\n",
      "                    \"subtype\": \"gga\",\n",
      "                    \"method\": {\n",
      "                        \"type\": \"pseudopotential\",\n",
      "                        \"subtype\": \"us\",\n",
      "                        \"data\": {}\n",
      "                    },\n",
      "                    \"functional\": {\n",
      "                        \"slug\": \"pbe\"\n",
      "                    },\n",
      "                    \"refiners\": [],\n",
      "                    \"modifiers\": []\n",
      "                },\n",
      "                \"units\": [\n",
      "                    {\n",
      "                        \"type\": \"execution\",\n",
      "                        \"name\": \"pw_scf\",\n",
      "                        \"head\": true,\n",
      "                        \"results\": [\n",
      "                            {\n",
      "                                \"name\": \"total_energy\"\n",
      "                            },\n",
      "                            {\n",
      "                                \"name\": \"total_energy_contributions\"\n",
      "                            },\n",
      "                            {\n",
      "                                \"name\": \"pressure\"\n",
      "                            },\n",
      "                            {\n",
      "                                \"name\": \"fermi_energy\"\n",
      "                            },\n",
      "                            {\n",
      "                                \"name\": \"atomic_forces\"\n",
      "                            },\n",
      "                            {\n",
      "                                \"name\": \"total_force\"\n",
      "                            },\n",
      "                            {\n",
      "                                \"name\": \"stress_tensor\"\n",
      "                            }\n",
      "                        ],\n",
      "                        \"monitors\": [\n",
      "                            {\n",
      "                                \"name\": \"standard_output\"\n",
      "                            },\n",
      "                            {\n",
      "                                \"name\": \"convergence_electronic\"\n",
      "                            }\n",
      "                        ],\n",
      "                        \"flowchartId\": \"c1a43599-6d18-4653-b1b0-91fbe224b782\",\n",
      "                        \"preProcessors\": [],\n",
      "                        \"postProcessors\": [],\n",
      "                        \"application\": {\n",
      "                            \"_id\": \"XXNZ9pqkerTJtfkwk\",\n",
      "                            \"name\": \"espresso\",\n",
      "                            \"version\": \"5.4.0\",\n",
      "                            \"build\": \"Default\",\n",
      "                            \"isDefault\": true,\n",
      "                            \"summary\": \"Quantum Espresso\",\n",
      "                            \"updatedAt\": \"2023-05-26T16:56:57.071Z\",\n",
      "                            \"shortName\": \"qe\",\n",
      "                            \"hasAdvancedComputeOptions\": true,\n",
      "                            \"updatedBy\": \"0\"\n",
      "                        },\n",
      "                        \"executable\": {\n",
      "                            \"isDefault\": true,\n",
      "                            \"hasAdvancedComputeOptions\": true,\n",
      "                            \"postProcessors\": [\n",
      "                                \"remove_non_zero_weight_kpoints\"\n",
      "                            ],\n",
      "                            \"monitors\": [\n",
      "                                \"standard_output\",\n",
      "                                \"convergence_ionic\",\n",
      "                                \"convergence_electronic\"\n",
      "                            ],\n",
      "                            \"results\": [\n",
      "                                \"atomic_forces\",\n",
      "                                \"band_gaps\",\n",
      "                                \"density_of_states\",\n",
      "                                \"fermi_energy\",\n",
      "                                \"pressure\",\n",
      "                                \"stress_tensor\",\n",
      "                                \"total_energy\",\n",
      "                                \"total_energy_contributions\",\n",
      "                                \"total_force\",\n",
      "                                \"final_structure\",\n",
      "                                \"magnetic_moments\",\n",
      "                                \"reaction_energy_barrier\",\n",
      "                                \"reaction_energy_profile\",\n",
      "                                \"potential_profile\",\n",
      "                                \"charge_density_profile\"\n",
      "                            ],\n",
      "                            \"name\": \"pw.x\"\n",
      "                        },\n",
      "                        \"flavor\": {\n",
      "                            \"isDefault\": true,\n",
      "                            \"input\": [\n",
      "                                {\n",
      "                                    \"name\": \"pw_scf.in\"\n",
      "                                }\n",
      "                            ],\n",
      "                            \"results\": [\n",
      "                                \"total_energy\",\n",
      "                                \"total_energy_contributions\",\n",
      "                                \"pressure\",\n",
      "                                \"fermi_energy\",\n",
      "                                \"atomic_forces\",\n",
      "                                \"total_force\",\n",
      "                                \"stress_tensor\"\n",
      "                            ],\n",
      "                            \"monitors\": [\n",
      "                                \"standard_output\",\n",
      "                                \"convergence_electronic\"\n",
      "                            ],\n",
      "                            \"applicationName\": \"espresso\",\n",
      "                            \"executableName\": \"pw.x\",\n",
      "                            \"name\": \"pw_scf\",\n",
      "                            \"executable\": {\n",
      "                                \"isDefault\": true,\n",
      "                                \"hasAdvancedComputeOptions\": true,\n",
      "                                \"postProcessors\": [\n",
      "                                    \"remove_non_zero_weight_kpoints\"\n",
      "                                ],\n",
      "                                \"monitors\": [\n",
      "                                    \"standard_output\",\n",
      "                                    \"convergence_ionic\",\n",
      "                                    \"convergence_electronic\"\n",
      "                                ],\n",
      "                                \"results\": [\n",
      "                                    \"atomic_forces\",\n",
      "                                    \"band_gaps\",\n",
      "                                    \"density_of_states\",\n",
      "                                    \"fermi_energy\",\n",
      "                                    \"pressure\",\n",
      "                                    \"stress_tensor\",\n",
      "                                    \"total_energy\",\n",
      "                                    \"total_energy_contributions\",\n",
      "                                    \"total_force\",\n",
      "                                    \"final_structure\",\n",
      "                                    \"magnetic_moments\",\n",
      "                                    \"reaction_energy_barrier\",\n",
      "                                    \"reaction_energy_profile\",\n",
      "                                    \"potential_profile\",\n",
      "                                    \"charge_density_profile\"\n",
      "                                ],\n",
      "                                \"name\": \"pw.x\"\n",
      "                            }\n",
      "                        },\n",
      "                        \"status\": \"idle\",\n",
      "                        \"statusTrack\": [],\n",
      "                        \"input\": [\n",
      "                            {\n",
      "                                \"content\": \"{% if subworkflowContext.MATERIAL_INDEX %}\\n{%- set input = input.perMaterial[subworkflowContext.MATERIAL_INDEX] -%}\\n{% endif -%}\\n&CONTROL\\n    calculation = 'scf'\\n    title = ''\\n    verbosity = 'low'\\n    restart_mode = '{{ input.RESTART_MODE }}'\\n    wf_collect = .true.\\n    tstress = .true.\\n    tprnfor = .true.\\n    outdir = {% raw %}'{{ JOB_WORK_DIR }}/outdir'{% endraw %}\\n    wfcdir = {% raw %}'{{ JOB_WORK_DIR }}/outdir'{% endraw %}\\n    prefix = '__prefix__'\\n    pseudo_dir = {% raw %}'{{ JOB_WORK_DIR }}/pseudo'{% endraw %}\\n/\\n&SYSTEM\\n    ibrav = {{ input.IBRAV }}\\n    nat = {{ input.NAT }}\\n    ntyp = {{ input.NTYP }}\\n    ecutwfc = {{ cutoffs.wavefunction }}\\n    ecutrho = {{ cutoffs.density }}\\n    occupations = 'smearing'\\n    degauss = 0.005\\n/\\n&ELECTRONS\\n    diagonalization = 'david'\\n    diago_david_ndim = 4\\n    diago_full_acc = .true.\\n    mixing_beta = 0.3\\n    startingwfc = 'atomic+random'\\n/\\n&IONS\\n/\\n&CELL\\n/\\nATOMIC_SPECIES\\n{{ input.ATOMIC_SPECIES }}\\nATOMIC_POSITIONS crystal\\n{{ input.ATOMIC_POSITIONS }}\\nCELL_PARAMETERS angstrom\\n{{ input.CELL_PARAMETERS }}\\nK_POINTS automatic\\n{% for d in kgrid.dimensions %}{{d}} {% endfor %}{% for s in kgrid.shifts %}{{s}} {% endfor %}\",\n",
      "                                \"name\": \"pw_scf.in\",\n",
      "                                \"contextProviders\": [\n",
      "                                    {\n",
      "                                        \"name\": \"KGridFormDataManager\"\n",
      "                                    },\n",
      "                                    {\n",
      "                                        \"name\": \"QEPWXInputDataManager\"\n",
      "                                    },\n",
      "                                    {\n",
      "                                        \"name\": \"PlanewaveCutoffDataManager\"\n",
      "                                    }\n",
      "                                ],\n",
      "                                \"applicationName\": \"espresso\",\n",
      "                                \"executableName\": \"pw.x\",\n",
      "                                \"updatedAt\": \"2023-05-26T16:56:54.663Z\",\n",
      "                                \"updatedBy\": \"0\",\n",
      "                                \"rendered\": \"&CONTROL\\n    calculation = 'scf'\\n    title = ''\\n    verbosity = 'low'\\n    restart_mode = 'from_scratch'\\n    wf_collect = .true.\\n    tstress = .true.\\n    tprnfor = .true.\\n    outdir = '{{ JOB_WORK_DIR }}/outdir'\\n    wfcdir = '{{ JOB_WORK_DIR }}/outdir'\\n    prefix = '__prefix__'\\n    pseudo_dir = '{{ JOB_WORK_DIR }}/pseudo'\\n/\\n&SYSTEM\\n    ibrav = 0\\n    nat = 2\\n    ntyp = 1\\n    ecutwfc = 40\\n    ecutrho = 200\\n    occupations = 'smearing'\\n    degauss = 0.005\\n/\\n&ELECTRONS\\n    diagonalization = 'david'\\n    diago_david_ndim = 4\\n    diago_full_acc = .true.\\n    mixing_beta = 0.3\\n    startingwfc = 'atomic+random'\\n/\\n&IONS\\n/\\n&CELL\\n/\\nATOMIC_SPECIES\\nSi 28.0855 \\nATOMIC_POSITIONS crystal\\nSi  0.000000000 0.000000000 0.000000000 \\nSi  0.250000000 0.250000000 0.250000000 \\nCELL_PARAMETERS angstrom\\n3.348920236 0.000000000 1.933500000\\n1.116306745 3.157392278 1.933500000\\n0.000000000 0.000000000 3.867000000\\nK_POINTS automatic\\n2 2 2 0 0 0 \"\n",
      "                            }\n",
      "                        ]\n",
      "                    }\n",
      "                ],\n",
      "                \"compute\": null,\n",
      "                \"isDraft\": false\n",
      "            }\n",
      "        ],\n",
      "        \"units\": [\n",
      "            {\n",
      "                \"name\": \"Total Energy\",\n",
      "                \"type\": \"subworkflow\",\n",
      "                \"_id\": \"0c20976ea2206f598b78d761\",\n",
      "                \"flowchartId\": \"eb4e069ed1314c1981331aff\",\n",
      "                \"status\": \"idle\",\n",
      "                \"statusTrack\": [],\n",
      "                \"results\": [],\n",
      "                \"monitors\": [],\n",
      "                \"preProcessors\": [],\n",
      "                \"postProcessors\": [],\n",
      "                \"head\": true,\n",
      "                \"schemaVersion\": \"2022.8.16\",\n",
      "                \"isDefault\": false\n",
      "            }\n",
      "        ],\n",
      "        \"properties\": [\n",
      "            \"total_energy\",\n",
      "            \"total_energy_contributions\",\n",
      "            \"pressure\",\n",
      "            \"fermi_energy\",\n",
      "            \"atomic_forces\",\n",
      "            \"total_force\",\n",
      "            \"stress_tensor\"\n",
      "        ],\n",
      "        \"isDefault\": true,\n",
      "        \"hash\": \"87148c7947ede06e787ec9d0197190f8\",\n",
      "        \"isOutdated\": false,\n",
      "        \"workflows\": [],\n",
      "        \"schemaVersion\": \"2022.8.16\",\n",
      "        \"tags\": [],\n",
      "        \"owner\": {\n",
      "            \"_id\": \"8TX5q8Eenb5a5fqCK\",\n",
      "            \"slug\": \"mrakitin1\",\n",
      "            \"cls\": \"Account\"\n",
      "        },\n",
      "        \"creator\": {\n",
      "            \"_id\": \"3Eh4qWRk6CE5Y7dds\",\n",
      "            \"slug\": \"mrakitin1\",\n",
      "            \"cls\": \"User\"\n",
      "        },\n",
      "        \"compute\": null,\n",
      "        \"exabyteId\": \"84DAjE9YyTFndx6z3\",\n",
      "        \"isEntitySet\": false,\n",
      "        \"createdAt\": \"2023-06-03T03:29:27.386Z\",\n",
      "        \"createdBy\": \"0\",\n",
      "        \"inSet\": [\n",
      "            {\n",
      "                \"_id\": \"nQtFH6EKKxYJFY98d\",\n",
      "                \"slug\": \"read\",\n",
      "                \"cls\": \"Team\"\n",
      "            },\n",
      "            {\n",
      "                \"_id\": \"HcJjfDM8jLeZJw3PK\",\n",
      "                \"slug\": \"admin\",\n",
      "                \"cls\": \"Team\"\n",
      "            },\n",
      "            {\n",
      "                \"_id\": \"Fk7wfNLfo3b3ZC3ZZ\",\n",
      "                \"slug\": \"owner\",\n",
      "                \"cls\": \"Team\"\n",
      "            },\n",
      "            {\n",
      "                \"_id\": \"xX8tM7piQwP6AgvKR\",\n",
      "                \"slug\": \"read\",\n",
      "                \"cls\": \"Team\"\n",
      "            },\n",
      "            {\n",
      "                \"_id\": \"EfhfJ6CxywTtZbHX7\",\n",
      "                \"slug\": \"comment\",\n",
      "                \"cls\": \"Team\"\n",
      "            },\n",
      "            {\n",
      "                \"_id\": \"37mnhnnAQTtLBDGKB\",\n",
      "                \"slug\": \"execute\",\n",
      "                \"cls\": \"Team\"\n",
      "            },\n",
      "            {\n",
      "                \"_id\": \"H42E5NursPBda5bg4\",\n",
      "                \"slug\": \"edit\",\n",
      "                \"cls\": \"Team\"\n",
      "            }\n",
      "        ],\n",
      "        \"updatedAt\": \"2023-06-03T03:29:27.891Z\",\n",
      "        \"updatedBy\": \"0\",\n",
      "        \"history\": [\n",
      "            {\n",
      "                \"id\": \"ioBHNtM6Zs5CGmsSZ\",\n",
      "                \"revision\": 0\n",
      "            },\n",
      "            {\n",
      "                \"id\": \"k9LGu6QaCbyoxHDFh\",\n",
      "                \"revision\": 1\n",
      "            },\n",
      "            {\n",
      "                \"id\": \"pnMFXEBQhHEWZHvyi\",\n",
      "                \"revision\": 2\n",
      "            }\n",
      "        ]\n",
      "    }\n",
      "]\n"
     ]
    }
   ],
   "source": [
    "display_JSON(workflows)"
   ]
  }
 ],
 "metadata": {
  "colab": {
   "name": "get_workflows.ipynb",
   "provenance": []
  },
  "kernelspec": {
   "display_name": "Python 3",
   "language": "python",
   "name": "python3"
  },
  "language_info": {
   "codemirror_mode": {
    "name": "ipython",
    "version": 3
   },
   "file_extension": ".py",
   "mimetype": "text/x-python",
   "name": "python",
   "nbconvert_exporter": "python",
   "pygments_lexer": "ipython3",
   "version": "3.8.6"
  }
 },
 "nbformat": 4,
 "nbformat_minor": 1
}
