{
 "cells": [
  {
   "cell_type": "code",
   "execution_count": null,
   "id": "initial_id",
   "metadata": {
    "collapsed": true
   },
   "outputs": [],
   "source": [
    "from mat3ra.standata.materials import Materials\n",
    "from mat3ra.made.material import Material\n",
    "\n",
    "silicon = Material(Materials.get_by_name_first_match('Silicon'))\n",
    "\n"
   ]
  },
  {
   "cell_type": "code",
   "outputs": [],
   "source": [
    "from utils.visualize import visualize_materials\n",
    "visualize_materials(silicon)"
   ],
   "metadata": {
    "collapsed": false
   },
   "id": "a918967d646088db",
   "execution_count": null
  },
  {
   "cell_type": "markdown",
   "source": [
    "## Create a silicon nanowire"
   ],
   "metadata": {
    "collapsed": false
   },
   "id": "602e2ef359ef1b83"
  },
  {
   "cell_type": "code",
   "outputs": [],
   "source": [
    "from mat3ra.made.tools.modify import filter_by_cylinder, rotate, filter_by_box, add_vacuum_sides\n",
    "from mat3ra.made.tools.build.slab import create_slab, SlabConfiguration\n",
    "\n",
    "\n",
    "slab_config = SlabConfiguration(bulk=silicon, miller_indices=(1,1,0), thickness=2, vacuum=0, use_orthogonal_z=True, xy_supercell_matrix=[[3,0],[0,2]]) \n",
    "silicon_slab = create_slab(slab_config)\n",
    "\n",
    "visualize_materials(silicon_slab)\n",
    "visualize_materials(silicon_slab, rotation=\"-90x\")\n",
    "\n",
    "rotated_slab = rotate(silicon_slab, \"z\", -45)\n",
    "silicon_nanowire = filter_by_box(rotated_slab, [0.2,0.28,0], [0.78,0.87,1])\n",
    "visualize_materials(silicon_nanowire)\n",
    "visualize_materials(silicon_nanowire, rotation=\"-90x\")\n",
    "rotated_nanowire = rotate(silicon_nanowire, \"z\", -45)\n",
    "# rotated_nanowire = rotate(rotated_nanowire, \"x\", 90, rotate_cell=True)\n",
    "rotated_nanowire = add_vacuum_sides(rotated_nanowire, 10.0, on_x=True, on_y=True)\n",
    "visualize_materials(rotated_nanowire)\n",
    "visualize_materials(rotated_nanowire, rotation=\"-90x\")"
   ],
   "metadata": {
    "collapsed": false
   },
   "id": "f8431fd833f6ed",
   "execution_count": null
  },
  {
   "cell_type": "markdown",
   "source": [
    "## Add passivation"
   ],
   "metadata": {
    "collapsed": false
   },
   "id": "5d7fa9201651fa72"
  },
  {
   "cell_type": "code",
   "outputs": [],
   "source": [
    "from mat3ra.made.tools.build.passivation import PassivationConfiguration, CoordinationBasedPassivationBuilder, create_passivation, get_unique_coordination_numbers\n",
    "from mat3ra.made.tools.build.passivation.builders import CoordinationBasedPassivationBuilderParameters\n",
    "\n",
    "passivation_config = PassivationConfiguration(\n",
    "    slab=rotated_nanowire,\n",
    "    passivant=\"H\",\n",
    "    bond_length=1.1,\n",
    ")\n",
    "\n",
    "params = CoordinationBasedPassivationBuilderParameters(shadowing_radius=3.9, coordination_threshold=10)\n",
    "passivation_builder = CoordinationBasedPassivationBuilder(params)\n",
    "print(get_unique_coordination_numbers(passivation_config, params))\n",
    "\n",
    "passivated_nanowire = create_passivation(passivation_config, passivation_builder)\n",
    "\n",
    "visualize_materials(passivated_nanowire)\n",
    "visualize_materials(passivated_nanowire, rotation=\"-90x\")\n",
    "visualize_materials(passivated_nanowire, rotation=\"-90x,90y\")"
   ],
   "metadata": {
    "collapsed": false
   },
   "id": "76398e6baff8c25",
   "execution_count": null
  },
  {
   "cell_type": "code",
   "outputs": [],
   "source": [
    "from utils.jupyterlite import set_materials\n",
    "passivated_nanowire.name = \"H-Passivated Silicon Nanowire\"\n",
    "set_materials([passivated_nanowire])"
   ],
   "metadata": {
    "collapsed": false
   },
   "id": "13f32826a5011952",
   "execution_count": null
  },
  {
   "cell_type": "code",
   "outputs": [],
   "source": [],
   "metadata": {
    "collapsed": false
   },
   "id": "ff912daed1c768b2",
   "execution_count": null
  }
 ],
 "metadata": {
  "kernelspec": {
   "display_name": "Python 3",
   "language": "python",
   "name": "python3"
  },
  "language_info": {
   "codemirror_mode": {
    "name": "ipython",
    "version": 2
   },
   "file_extension": ".py",
   "mimetype": "text/x-python",
   "name": "python",
   "nbconvert_exporter": "python",
   "pygments_lexer": "ipython2",
   "version": "2.7.6"
  }
 },
 "nbformat": 4,
 "nbformat_minor": 5
}
