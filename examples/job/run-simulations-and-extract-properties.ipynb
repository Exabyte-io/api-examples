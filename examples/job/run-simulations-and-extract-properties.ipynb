version https://git-lfs.github.com/spec/v1
oid sha256:d0ecee3b1fd80373d4bbee6aafea1c4e8e39602ed5dc46329e3f0d20256ccc33
size 41850
