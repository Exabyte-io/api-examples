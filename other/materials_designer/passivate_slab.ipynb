{
 "cells": [
  {
   "cell_type": "markdown",
   "id": "7d00c63281a63fa0",
   "metadata": {
    "collapsed": false
   },
   "source": [
    "# Passivate Slab Surface\n",
    "\n",
    "Add passivating atoms (e.g., hydrogen) to material surfaces by detecting surface atoms and placing passivants at specific bond lengths.\n",
    "\n",
    "<h2 style=\"color:green\">Usage</h2>\n",
    "\n",
    "1. Make sure to select Input Material (in the outer runtime) before running the notebook.\n",
    "1. Set notebook parameters in cell 1.1. below (or use the default values).\n",
    "1. Click \"Run\" > \"Run All\" to run all cells.\n",
    "1. Wait for the run to complete.\n",
    "1. Scroll down to view results.\n",
    "\n",
    "## Notes\n",
    "\n",
    "1. Surface atoms are detected by analyzing atomic positions along z-axis\n",
    "1. \"Shadowing radius\" controls the exclusion of atoms below the surface ones from being passivated\n",
    "1. Passivants are added at specified bond lengths from surface atoms"
   ]
  },
  {
   "cell_type": "markdown",
   "id": "d80280b47f767281",
   "metadata": {
    "collapsed": false
   },
   "source": [
    "## 1. Prepare the Environment\n",
    "### 1.1. Set up the notebook\n",
    "Passivation Configuration parameters are described in [Passivation Configuration](https://github.com/Exabyte-io/made/blob/666a941a190a94979b5295f5039f6a4b9158d7dd/src/py/mat3ra/made/tools/build/passivation/configuration.py#L7).\n",
    "\n",
    "Visualization of the parameters of passivation on the image below:\n",
    "\n",
    "<img src=\"https://github.com/Exabyte-io/documentation/raw/88451ce38b0f57f804dcb5010a1a95bb9b9e50bc/images/notebooks/surface_passivation_settings.webp\" alt=\"Passivation parameters\" width=\"600\"/>\n"
   ]
  },
  {
   "cell_type": "code",
   "id": "92b3518bebdcf547",
   "metadata": {
    "collapsed": false
   },
   "source": [
    "# Material selection\n",
    "MATERIAL_INDEX = 0  # Which material to use from input list\n",
    "\n",
    "# Passivation parameters\n",
    "PASSIVANT = \"H\"  # Chemical symbol of passivating atom\n",
    "BOND_LENGTH = 1.0  # Distance from surface to passivant, in Angstroms\n",
    "SURFACE = \"top\"  # Which surface to passivate: \"top\", \"bottom\" or \"both\"\n",
    "\n",
    "# Surface detection parameters\n",
    "SHADOWING_RADIUS = 2.5  # Radius to exclude subsurface atoms, in Angstroms\n",
    "DEPTH = 5.0  # How deep to look for surface atoms, in Angstroms\n",
    "\n",
    "BYPASS_SLAB_CREATION = False  # If True, will use input material directly\n",
    "\n",
    "# Slab parameters for creating a new slab if previous option is set to True\n",
    "DEFAULT_SLAB_PARAMETERS = {\n",
    "    \"miller_indices\": (0, 0, 1),\n",
    "    \"thickness\": 3,\n",
    "    \"vacuum\": 10.0,\n",
    "    \"USE_ORTHOGONAL_C\": True,\n",
    "    \"xy_supercell_matrix\": [[3, 0], [0, 3]]\n",
    "}\n",
    "\n",
    "# Visualization parameters\n",
    "SHOW_INTERMEDIATE_STEPS = True\n",
    "CELL_REPETITIONS_FOR_VISUALIZATION = [1, 1, 1]  # Structure repeat in view"
   ],
   "outputs": [],
   "execution_count": null
  },
  {
   "cell_type": "markdown",
   "id": "11bd9b5fca1510fc",
   "metadata": {
    "collapsed": false
   },
   "source": [
    "### 1.2. Install packages\n",
    "The step executes only in Pyodide environment. For other environments, the packages should be installed via `pip install`."
   ]
  },
  {
   "cell_type": "code",
   "id": "42863fe84bfab53c",
   "metadata": {
    "collapsed": false
   },
   "source": [
    "import sys\n",
    "\n",
    "if sys.platform == \"emscripten\":\n",
    "    import micropip\n",
    "\n",
    "    await micropip.install(\n",
    "        \"mat3ra-api-examples\", deps=False)\n",
    "    await micropip.install('mat3ra-utils')\n",
    "    from mat3ra.utils.jupyterlite.packages import install_packages\n",
    "\n",
    "    await install_packages(\"\")"
   ],
   "outputs": [],
   "execution_count": null
  },
  {
   "cell_type": "markdown",
   "id": "6983ab284dff18c0",
   "metadata": {
    "collapsed": false
   },
   "source": [
    "### 1.3. Load and preview input material"
   ]
  },
  {
   "cell_type": "code",
   "id": "a51551f4af6456c7",
   "metadata": {
    "collapsed": false
   },
   "source": [
    "from utils.jupyterlite import get_materials\n",
    "from utils.visualize import visualize_materials\n",
    "\n",
    "materials = get_materials(globals())"
   ],
   "outputs": [],
   "execution_count": null
  },
  {
   "cell_type": "markdown",
   "id": "6b929ffec7c4876e",
   "metadata": {
    "collapsed": false
   },
   "source": [
    "### 1.4. Create a slab if the input material is not a slab"
   ]
  },
  {
   "cell_type": "code",
   "id": "ad71f877f76f0550",
   "metadata": {
    "collapsed": false
   },
   "source": [
    "from mat3ra.made.tools.build.slab.helpers import create_slab_if_not, SlabConfiguration\n",
    "from mat3ra.made.tools.modify import translate_to_z_level\n",
    "\n",
    "material = materials[MATERIAL_INDEX]\n",
    "default_slab_config = SlabConfiguration.from_parameters(\n",
    "    material_or_dict=material,\n",
    "    miller_indices=DEFAULT_SLAB_PARAMETERS[\"miller_indices\"],\n",
    "    number_of_layers=DEFAULT_SLAB_PARAMETERS[\"thickness\"],\n",
    "    vacuum=DEFAULT_SLAB_PARAMETERS[\"vacuum\"],\n",
    ")\n",
    "\n",
    "slab = material if BYPASS_SLAB_CREATION else create_slab_if_not(material, default_slab_config)\n",
    "slab = translate_to_z_level(slab, \"center\")\n",
    "\n",
    "if SHOW_INTERMEDIATE_STEPS:\n",
    "    print(\"Initial slab structure:\")\n",
    "    visualize_materials(slab, repetitions=CELL_REPETITIONS_FOR_VISUALIZATION)\n",
    "    visualize_materials(slab, repetitions=CELL_REPETITIONS_FOR_VISUALIZATION, rotation=\"-90x\")\n"
   ],
   "outputs": [],
   "execution_count": null
  },
  {
   "cell_type": "markdown",
   "id": "cee250785246811a",
   "metadata": {
    "collapsed": false
   },
   "source": [
    "## 2. Create target material\n",
    "### 2.1. Passivate the slab surface\n"
   ]
  },
  {
   "cell_type": "code",
   "id": "a4ed473eb2129ac4",
   "metadata": {
    "collapsed": false
   },
   "source": [
    "from mat3ra.made.tools.build.passivation.helpers import passivate_surface\n",
    "from mat3ra.made.tools.enums import SurfaceTypesEnum\n",
    "\n",
    "passivated_slab = passivate_surface(\n",
    "    slab,\n",
    "    passivant=PASSIVANT,\n",
    "    bond_length=BOND_LENGTH,\n",
    "    surface=SurfaceTypesEnum[SURFACE.upper()],\n",
    "    shadowing_radius=SHADOWING_RADIUS,\n",
    "    depth=DEPTH\n",
    ")\n",
    "\n",
    "print(\"\\nPassivation completed:\")\n",
    "print(f\"Passivant used: {PASSIVANT}\")\n",
    "print(f\"Bond length: {BOND_LENGTH} Å\")\n",
    "print(f\"Surfaces passivated: {SURFACE}\")\n",
    "print(f\"Number of atoms: {len(passivated_slab.basis.elements.ids)}\")"
   ],
   "outputs": [],
   "execution_count": null
  },
  {
   "cell_type": "markdown",
   "id": "56ec05c6ed2f91cd",
   "metadata": {
    "collapsed": false
   },
   "source": [
    "## 3. Visualize the result"
   ]
  },
  {
   "cell_type": "code",
   "id": "c4b5e1e0ec0ab02a",
   "metadata": {
    "collapsed": false
   },
   "source": [
    "print(\"Final passivated structure:\")\n",
    "visualize_materials(passivated_slab, repetitions=CELL_REPETITIONS_FOR_VISUALIZATION)\n",
    "visualize_materials(passivated_slab, repetitions=CELL_REPETITIONS_FOR_VISUALIZATION, rotation=\"-90x\")"
   ],
   "outputs": [],
   "execution_count": null
  },
  {
   "cell_type": "markdown",
   "id": "eab7e14d2c7880a5",
   "metadata": {
    "collapsed": false
   },
   "source": [
    "### 4. Pass data to the outside runtime\n"
   ]
  },
  {
   "cell_type": "code",
   "id": "d66a15a29d27c6ea",
   "metadata": {
    "collapsed": false
   },
   "source": [
    "from utils.jupyterlite import set_materials\n",
    "\n",
    "set_materials(passivated_slab)"
   ],
   "outputs": [],
   "execution_count": null
  }
 ],
 "metadata": {
  "kernelspec": {
   "display_name": ".venv-3.11",
   "language": "python",
   "name": "python3"
  },
  "language_info": {
   "codemirror_mode": {
    "name": "ipython",
    "version": 3
   },
   "file_extension": ".py",
   "mimetype": "text/x-python",
   "name": "python",
   "nbconvert_exporter": "python",
   "pygments_lexer": "ipython3",
   "version": "3.11.7"
  }
 },
 "nbformat": 4,
 "nbformat_minor": 5
}
