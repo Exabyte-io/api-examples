{
 "cells": [
  {
   "cell_type": "markdown",
   "source": [
    "# Create adatom defects in a slab material\n",
    "\n",
    "Create an adatom by specifying the chemical element, approximate position on surface and distance z, which will be resolved to:\n",
    "- the equidistant position between the closes atoms on the surface according to Voronoi tesselation, \n",
    "- or the crystal site of the next layer that is closest to specified position.\n",
    "\n",
    "<h2 style=\"color:green\">Usage</h2>\n",
    "\n",
    "1. Make sure to select Input Materials (in the outer runtime) before running the notebook.\n",
    "1. Set notebook parameters in cell 1.1. below (or use the default values).\n",
    "1. Set defects parameters in cell 2.1. (or use default).\n",
    "1. Click “Run” > “Run All” to run all cells. \n",
    "1. Wait for the run to complete (depending on the parameters can take a few min). \n",
    "1. Scroll down to view results. \n",
    "\n",
    "## Summary\n",
    "1. Prepare the Environment: Set up the notebook and install packages, preview the input materials\n",
    "1. Create the Defect: Add an adatom defect to the slab material\n",
    "2. Visualize the Defect: Visualize the defect structure\n",
    "\n",
    "## Notes\n",
    "\n",
    "1. For more information, see [Introduction](Introduction.ipynb)\n",
    "<!-- # TODO: use a hashtag-based anchor link to interface creation documention above -->\n"
   ],
   "metadata": {
    "collapsed": false
   },
   "id": "f2e1e795020d7b3f"
  },
  {
   "cell_type": "markdown",
   "source": [
    "## 1. Prepare the Environment\n",
    "### 1.1. Set up defect parameters "
   ],
   "metadata": {
    "collapsed": false
   },
   "id": "5e43ff288847b784"
  },
  {
   "cell_type": "code",
   "source": [
    "from mat3ra.made.tools.analyze import get_atomic_coordinates_extremum\n",
    "\n",
    "DEFECT_TYPE = \"island\"\n",
    "APPROXIMATE_POSITION_ON_SURFACE = [0.5, 0.5]  # Position of the defect in crystal coordinates\n",
    "DISTANCE_Z = 5.0  # Distance of the defect from the surface in Angstrom\n",
    "CHEMICAL_ELEMENT = \"Ni\"  # Element to be placed at the site \n",
    "MILLER_INDICES = (1, 1, 1)  # Miller indices of the surface\n",
    "SLAB_THICKNESS = 5  # Thickness of the slab in unit cells\n",
    "VACUUM = 6  # Vacuum thickness in Angstrom\n",
    "SUPERCELL_MATRIX = [[5, 0, 0], [0, 5, 0], [0, 0, 1]]"
   ],
   "metadata": {
    "collapsed": false,
    "ExecuteTime": {
     "end_time": "2024-09-10T22:34:47.390686Z",
     "start_time": "2024-09-10T22:34:47.386116Z"
    }
   },
   "id": "9d8b1890b34d850a",
   "outputs": [],
   "execution_count": 2
  },
  {
   "cell_type": "markdown",
   "source": [
    "### 1.2. Install Packages\n",
    "The step executes only in Pyodide environment. For other environments, the packages should be installed via `pip install` (see [README](../../README.ipynb))."
   ],
   "metadata": {
    "collapsed": false
   },
   "id": "bb64de5ff32649f8"
  },
  {
   "cell_type": "code",
   "source": [
    "import sys\n",
    "\n",
    "if sys.platform == \"emscripten\":\n",
    "    import micropip\n",
    "\n",
    "    await micropip.install('mat3ra-api-examples', deps=False)\n",
    "    from utils.jupyterlite import install_packages\n",
    "\n",
    "    await install_packages(\"create_point_defect.ipynb\", \"../../config.yml\")"
   ],
   "metadata": {
    "collapsed": false,
    "ExecuteTime": {
     "end_time": "2024-09-10T22:34:47.426652Z",
     "start_time": "2024-09-10T22:34:47.422980Z"
    }
   },
   "id": "ef664b14457530fd",
   "outputs": [],
   "execution_count": 3
  },
  {
   "cell_type": "markdown",
   "source": [
    "### 1.3. Get input materials\n",
    "Materials are loaded with `get_data()`. The first material is assigned as substrate and the second as film."
   ],
   "metadata": {
    "collapsed": false
   },
   "id": "919ad7af8dceeedd"
  },
  {
   "cell_type": "code",
   "source": [
    "from mat3ra.made.material import Material\n",
    "from utils.jupyterlite import get_data\n",
    "\n",
    "# Get the list of input materials and load them into `materials_in` variable\n",
    "get_data(\"materials_in\", globals())\n",
    "materials = list(map(Material, globals()[\"materials_in\"]))"
   ],
   "metadata": {
    "collapsed": false,
    "ExecuteTime": {
     "end_time": "2024-09-10T22:34:48.899678Z",
     "start_time": "2024-09-10T22:34:47.443032Z"
    }
   },
   "id": "be38fdda1984c654",
   "outputs": [
    {
     "name": "stdout",
     "output_type": "stream",
     "text": [
      "0: Data from 0-Ni has been read successfully.\n",
      "1: Data from 1-Graphene has been read successfully.\n",
      "2: Data from 10-Al2O3, Sapphire, RHL (R-3c) 3D (Bulk), mp-1143 (1) has been read successfully.\n",
      "3: Data from 11-ZnO, Zinc Oxide, HEX (P6_3mc) 3D (Bulk), mp-2133 has been read successfully.\n",
      "4: Data from 12-Cd4 Te4 has been read successfully.\n",
      "5: Data from 13-Si4 C4 has been read successfully.\n",
      "6: Data from 14-GaN, Gallium Nitride, HEX (P6_3mc) 3D (Bulk), mp-804 has been read successfully.\n",
      "7: Data from 4-Te2Mo has been read successfully.\n",
      "8: Data from 5-HfO2 has been read successfully.\n",
      "9: Data from 6-Ni4(110), termination Ni_Pmmm_2, Slab, Terrace, 1 steps, [2 0 0] has been read successfully.\n",
      "10: Data from 7-Ag4 has been read successfully.\n",
      "11: Data from 8-Si, Silicene, HEX (P-3m1) 2D (Monolayer), 2dm-5934 has been read successfully.\n",
      "12: Data from 9-GaAs, Gallium Arsenide, FCC (F-43m) 3D (Bulk), mp-2534 has been read successfully.\n",
      "13: Data from C2(001)-C2(001), Interface, Strain 0.000pct has been read successfully.\n",
      "14: Data from C2(001)-C2(001), Interface, Strain 0.397pct has been read successfully.\n",
      "15: Data from C2(001)-Ni4(111), Interface, Strain 0.105pct displaced  displaced  displaced  has been read successfully.\n",
      "16: Data from C2(001)-Ni4(111), Interface, Strain 0.105pct displaced  displaced  optimal displaced has been read successfully.\n",
      "17: Data from C2(001)-Ni4(111), Interface, Strain 0.105pct displaced  displaced  has been read successfully.\n",
      "18: Data from C2(001)-Ni4(111), Interface, Strain 0.105pct displaced  optimal displaced has been read successfully.\n",
      "19: Data from C2(001)-Ni4(111), Interface, Strain 0.105pct displaced  has been read successfully.\n",
      "20: Data from C2(001)-Ni4(111), Interface, Strain 0.105pct optimal displaced has been read successfully.\n",
      "21: Data from C2(001)-Ni4(111), Interface, Strain 0.105pct optimized with ASE has been read successfully.\n",
      "22: Data from C2(001)-Ni4(111), Interface, Strain 0.105pct has been read successfully.\n",
      "23: Data from C2(001)-Ni4(111), Interface, Strain 0.105pct_displaced has been read successfully.\n",
      "24: Data from Ga2N2(001)-C4Si4(111), Interface, Strain 0.082pct has been read successfully.\n",
      "25: Data from Interface 45 degrees has been read successfully.\n",
      "26: Data from Merged Material HEX final moire_5 deg has been read successfully.\n",
      "27: Data from Merged Material59deg final moire_59deg has been read successfully.\n",
      "28: Data from Ni12(001), termination Ni_Cmmm_6, Slab has been read successfully.\n",
      "29: Data from Ni12(100), termination Ni_Pmma_6, Slab has been read successfully.\n",
      "30: Data from Ni12(100), termination Ni_Pmmm_6, Slab has been read successfully.\n",
      "31: Data from Ni144(100), termination Ni_Pm_9, Slab has been read successfully.\n",
      "32: Data from Ni174(001), termination Ni_Pm_6, Slab has been read successfully.\n",
      "33: Data from Ni270(111), termination Ni_P1_116, Slab has been read successfully.\n",
      "34: Data from Ni4(001)-Ni4(110), Interface, Strain 0.222pct has been read successfully.\n",
      "35: Data from Ni4(001)-Ni4(111), Interface, Strain 0.062pct has been read successfully.\n",
      "36: Data from Ni4(001)-Ni4(111), Interface, Strain 0.227pct has been read successfully.\n",
      "37: Data from Ni4(110)-Ni4(-1-10), Interface, Strain 0.000pct has been read successfully.\n",
      "38: Data from Ni4(110)-Ni4(100), Interface, Strain 0.019pct has been read successfully.\n",
      "39: Data from Ni4(110)-Ni4(110), Interface, Strain 0.000pct has been read successfully.\n",
      "40: Data from Ni432(001), termination Ni_Pmmm_21, Slab has been read successfully.\n",
      "41: Data from Ni90(001), termination Ni_P4:mmm_7, Slab has been read successfully.\n",
      "42: Data from Ni90(111), termination Ni_P1_180, Slab has been read successfully.\n",
      "43: Data from Si2(001)-Ag4(111), Interface, Strain 0.035pct has been read successfully.\n",
      "44: Data from Si8(001), termination Si_P4:mmm_1, Slab has been read successfully.\n",
      "45: Data from Si8(111), termination Si_P6:mmm_4, Slab has been read successfully.\n",
      "46: Data from TEST 1.1 final moire_1.1deg has been read successfully.\n",
      "47: Data from TEST 1.1 has been read successfully.\n",
      "48: Data from TEST 5deg final moire_5deg has been read successfully.\n",
      "49: Data from TEST 5deg has been read successfully.\n",
      "50: Data from Twisted Interface 30.0 degrees - 24000 atoms has been read successfully.\n",
      "51: Data from Twisted Interface 30.0 degrees has been read successfully.\n",
      "52: Data from moire_1.1deg has been read successfully.\n",
      "53: Data from moire_30deg has been read successfully.\n",
      "54: Data from moire_5deg has been read successfully.\n",
      "55: Data from rotated_basis -59 degrees has been read successfully.\n",
      "56: Data from rotated_basis 1.1 degrees has been read successfully.\n",
      "57: Data from rotated_basis 245 degrees has been read successfully.\n",
      "58: Data from rotated_basis 5 degrees has been read successfully.\n"
     ]
    }
   ],
   "execution_count": 4
  },
  {
   "cell_type": "markdown",
   "source": [
    "### 1.4. Create and preview Slab"
   ],
   "metadata": {
    "collapsed": false
   },
   "id": "a132fe0ef8bbf0d0"
  },
  {
   "cell_type": "code",
   "source": [
    "from mat3ra.made.tools.build.slab import SlabConfiguration, get_terminations, create_slab\n",
    "from utils.visualize import visualize_materials as visualize\n",
    "from mat3ra.made.tools.build.defect.builders import CrystalSiteAdatomSlabDefectBuilder\n",
    "\n",
    "material = materials[8]\n",
    "slab_config = SlabConfiguration(\n",
    "    bulk=material,\n",
    "    miller_indices=MILLER_INDICES,\n",
    "    thickness=SLAB_THICKNESS,\n",
    "    vacuum=VACUUM,\n",
    "    use_orthogonal_z=True,\n",
    "    xy_supercell_matrix=SUPERCELL_MATRIX\n",
    ")\n",
    "termination = get_terminations(slab_config)[1]\n",
    "slab = create_slab(slab_config, termination)\n",
    "print(slab.metadata.get(\"build\").get(\"configuration\").get(\"type\"))\n",
    "new_slab = CrystalSiteAdatomSlabDefectBuilder().create_material_with_additional_layers(slab, 2)\n",
    "visualize([{\"material\": slab, \"rotation\": \"0x\"}, {\"material\": slab, \"rotation\": \"-90x\"}], repetitions=[1, 1, 1])\n",
    "visualize([{\"material\": new_slab, \"rotation\": \"0x\"}, {\"material\": new_slab, \"rotation\": \"-90x\"}], repetitions=[1, 1, 1])\n",
    "print(slab.metadata.get(\"build\").get(\"configuration\").get(\"type\"))\n",
    "\n"
   ],
   "metadata": {
    "collapsed": false,
    "ExecuteTime": {
     "end_time": "2024-09-10T22:34:53.028769Z",
     "start_time": "2024-09-10T22:34:48.914114Z"
    }
   },
   "id": "e2d24109d3068c9e",
   "outputs": [
    {
     "name": "stdout",
     "output_type": "stream",
     "text": [
      "SlabConfiguration\n"
     ]
    },
    {
     "data": {
      "text/plain": [
       "GridBox(children=(VBox(children=(Label(value='Hf500O1000 - Material - rotation: 0x', layout=Layout(align_self=…"
      ],
      "application/vnd.jupyter.widget-view+json": {
       "version_major": 2,
       "version_minor": 0,
       "model_id": "adf7327f1d2b421e95d606b0d654e630"
      }
     },
     "metadata": {},
     "output_type": "display_data"
    },
    {
     "data": {
      "text/plain": [
       "GridBox(children=(VBox(children=(Label(value='Hf700O1400 - Material - rotation: 0x', layout=Layout(align_self=…"
      ],
      "application/vnd.jupyter.widget-view+json": {
       "version_major": 2,
       "version_minor": 0,
       "model_id": "6895fadc9a094fe79cce34e442e8e551"
      }
     },
     "metadata": {},
     "output_type": "display_data"
    },
    {
     "name": "stdout",
     "output_type": "stream",
     "text": [
      "SlabConfiguration\n"
     ]
    }
   ],
   "execution_count": 5
  },
  {
   "cell_type": "markdown",
   "source": [
    "## 2. Create the Defect\n",
    "### 2.1. Set adatom parameters"
   ],
   "metadata": {
    "collapsed": false
   },
   "id": "5da5b0380583c952"
  },
  {
   "cell_type": "code",
   "source": [
    "from mat3ra.made.tools.build.defect.builders import IslandSlabDefectBuilder\n",
    "from mat3ra.made.tools.build.defect.configuration import IslandSlabDefectConfiguration\n",
    "from mat3ra.made.tools.utils import coordinate as CoordinateCondition\n",
    "from mat3ra.made.tools.modify import filter_by_box\n",
    "condition = CoordinateCondition.CylinderCoordinateCondition(center_position=[0.25, 0.5], radius=0.25, min_z=0, max_z=1)\n",
    "island_config = IslandSlabDefectConfiguration(\n",
    "    crystal=slab,\n",
    "    defect_type=\"island\",\n",
    "    condition=condition,\n",
    "    number_of_added_layers=3,\n",
    ")\n",
    "\n",
    "slab_with_island = IslandSlabDefectBuilder().get_material(configuration=island_config)\n",
    "visualize([{\"material\": slab, \"title\": \"Original material\"},\n",
    "           {\"material\": slab_with_island, \"title\": \"Material with island defect\"}])\n",
    "visualize([{\"material\": slab, \"title\": \"Original material\"},\n",
    "           {\"material\": slab_with_island, \"title\": \"Material with island defect\"}], rotation=\"-90x\")\n",
    "slab_with_island.metadata.get(\"build\").get(\"configuration\")\n",
    "\n",
    "\n",
    "slab_with_island = filter_by_box(slab_with_island, [0.5, 0.5, 0.25], [0.75, 0.75, 1], invert_selection=True)\n",
    "slab_with_island.name = slab_with_island.name + \" Island\"\n",
    "visualize([{\"material\": slab_with_island, \"title\": \"Material with island defect\"}], rotation=\"-40x\")"
   ],
   "metadata": {
    "collapsed": false,
    "ExecuteTime": {
     "end_time": "2024-09-10T22:35:29.723604Z",
     "start_time": "2024-09-10T22:35:18.526794Z"
    }
   },
   "id": "a14402cb0adc7dd1",
   "outputs": [
    {
     "data": {
      "text/plain": [
       "GridBox(children=(VBox(children=(Label(value='Hf500O1000 - Original material - rotation: 0x,0y,0z', layout=Lay…"
      ],
      "application/vnd.jupyter.widget-view+json": {
       "version_major": 2,
       "version_minor": 0,
       "model_id": "16c3f8c94c274253b6fb68d706e40759"
      }
     },
     "metadata": {},
     "output_type": "display_data"
    },
    {
     "data": {
      "text/plain": [
       "GridBox(children=(VBox(children=(Label(value='Hf500O1000 - Original material - rotation: -90x', layout=Layout(…"
      ],
      "application/vnd.jupyter.widget-view+json": {
       "version_major": 2,
       "version_minor": 0,
       "model_id": "5a82b120520b452bb94e198f7fac7290"
      }
     },
     "metadata": {},
     "output_type": "display_data"
    },
    {
     "data": {
      "text/plain": [
       "GridBox(children=(VBox(children=(Label(value='Hf546O1090 - Material with island defect - rotation: -40x', layo…"
      ],
      "application/vnd.jupyter.widget-view+json": {
       "version_major": 2,
       "version_minor": 0,
       "model_id": "e66914e0c0064eb48dd7e03ffb80f95a"
      }
     },
     "metadata": {},
     "output_type": "display_data"
    }
   ],
   "execution_count": 8
  },
  {
   "cell_type": "markdown",
   "source": [
    "### 2.2. Create the adatom"
   ],
   "metadata": {
    "collapsed": false
   },
   "id": "489b51f0ee122c48"
  },
  {
   "cell_type": "code",
   "source": [
    "\n",
    "from mat3ra.made.tools.modify import filter_material_by_ids,filter_by_box\n",
    "import numpy as np\n",
    "from typing import Literal, List\n",
    "\n",
    "\n",
    "def get_surface_atoms_indices(\n",
    "    material: Material,\n",
    "    surface: Literal[\"top\", \"bottom\", \"both\"] = \"top\",\n",
    "    n: int = 15,\n",
    "    m: int = 15\n",
    ") -> List[int]:\n",
    "    \"\"\"\n",
    "    Get the indices of atoms on the surface of the material along the Z axis.\n",
    "\n",
    "    Args:\n",
    "        material (Material): Material object.\n",
    "        surface (str): \"top\", \"bottom\", or \"both\".\n",
    "        n (int): Number of divisions along the X axis.\n",
    "        m (int): Number of divisions along the Y axis.\n",
    "\n",
    "    Returns:\n",
    "        List[int]: List of indices of atoms on the surface.\n",
    "    \"\"\"\n",
    "    surface_atoms_indices = []\n",
    "\n",
    "    # Get columns of atoms with grid n by m:\n",
    "    for i in range(n):\n",
    "        for j in range(m):\n",
    "            # Define the bounding box for the current grid cell\n",
    "            x_min, x_max = i / n, (i + 1) / n\n",
    "            y_min, y_max = j / m, (j + 1) / m\n",
    "\n",
    "            # Filter atoms within this grid cell\n",
    "            atoms_column = filter_by_box(material, [x_min, y_min, 0], [x_max, y_max, 1])\n",
    "           \n",
    "\n",
    "            if len(atoms_column.basis.coordinates.values) == 0:\n",
    "                continue  # Skip empty columns\n",
    "\n",
    "\n",
    "            # Extract the z-coordinates\n",
    "            z_values = [coord[2] for coord in atoms_column.basis.coordinates.values]\n",
    "\n",
    "            # Find the top and bottom atoms by Z-coordinate\n",
    "            top_atom_idx = np.argmax(z_values)\n",
    "            bottom_atom_idx = np.argmin(z_values)\n",
    "\n",
    "            # Map these to the corresponding IDs\n",
    "            top_atom_id = atoms_column.basis.coordinates.ids[top_atom_idx]\n",
    "            bottom_atom_id = atoms_column.basis.coordinates.ids[bottom_atom_idx]\n",
    "\n",
    "            # Add the appropriate IDs to the surface_atoms_indices list\n",
    "            if surface == \"top\" or surface == \"both\":\n",
    "                surface_atoms_indices.append(top_atom_id)\n",
    "            if surface == \"bottom\" or surface == \"both\":\n",
    "                surface_atoms_indices.append(bottom_atom_id)\n",
    "\n",
    "    # Remove duplicates by converting the list to a set and back to a list\n",
    "    surface_atoms_indices = list(set(surface_atoms_indices))\n",
    "\n",
    "    return surface_atoms_indices\n",
    "\n",
    "ids = get_surface_atoms_indices(slab_with_island, surface=\"top\")\n",
    "top_atoms = filter_material_by_ids(slab_with_island, ids)\n",
    "\n",
    "visualize([{\"material\": slab_with_island, \"title\": \"Material with island defect\"}, {\"material\": top_atoms, \"title\": \"Surface Atoms only\"}], rotation=\"-90x\")\n",
    "visualize([{\"material\": slab_with_island, \"title\": \"Material with island defect\"}, {\"material\": top_atoms, \"title\": \"Surface Atoms only\"}], rotation=\"0x\")"
   ],
   "metadata": {
    "collapsed": false,
    "ExecuteTime": {
     "start_time": "2024-09-10T22:35:03.278751Z"
    }
   },
   "id": "a990fa35742d7269",
   "outputs": [
    {
     "ename": "KeyboardInterrupt",
     "evalue": "",
     "output_type": "error",
     "traceback": [
      "\u001B[0;31m---------------------------------------------------------------------------\u001B[0m",
      "\u001B[0;31mKeyboardInterrupt\u001B[0m                         Traceback (most recent call last)",
      "Cell \u001B[0;32mIn[7], line 63\u001B[0m\n\u001B[1;32m     59\u001B[0m     surface_atoms_indices \u001B[38;5;241m=\u001B[39m \u001B[38;5;28mlist\u001B[39m(\u001B[38;5;28mset\u001B[39m(surface_atoms_indices))\n\u001B[1;32m     61\u001B[0m     \u001B[38;5;28;01mreturn\u001B[39;00m surface_atoms_indices\n\u001B[0;32m---> 63\u001B[0m ids \u001B[38;5;241m=\u001B[39m \u001B[43mget_surface_atoms_indices\u001B[49m\u001B[43m(\u001B[49m\u001B[43mslab_with_island\u001B[49m\u001B[43m,\u001B[49m\u001B[43m \u001B[49m\u001B[43msurface\u001B[49m\u001B[38;5;241;43m=\u001B[39;49m\u001B[38;5;124;43m\"\u001B[39;49m\u001B[38;5;124;43mtop\u001B[39;49m\u001B[38;5;124;43m\"\u001B[39;49m\u001B[43m)\u001B[49m\n\u001B[1;32m     64\u001B[0m top_atoms \u001B[38;5;241m=\u001B[39m filter_material_by_ids(slab_with_island, ids)\n\u001B[1;32m     66\u001B[0m visualize([{\u001B[38;5;124m\"\u001B[39m\u001B[38;5;124mmaterial\u001B[39m\u001B[38;5;124m\"\u001B[39m: slab_with_island, \u001B[38;5;124m\"\u001B[39m\u001B[38;5;124mtitle\u001B[39m\u001B[38;5;124m\"\u001B[39m: \u001B[38;5;124m\"\u001B[39m\u001B[38;5;124mMaterial with island defect\u001B[39m\u001B[38;5;124m\"\u001B[39m}, {\u001B[38;5;124m\"\u001B[39m\u001B[38;5;124mmaterial\u001B[39m\u001B[38;5;124m\"\u001B[39m: top_atoms, \u001B[38;5;124m\"\u001B[39m\u001B[38;5;124mtitle\u001B[39m\u001B[38;5;124m\"\u001B[39m: \u001B[38;5;124m\"\u001B[39m\u001B[38;5;124mSurface Atoms only\u001B[39m\u001B[38;5;124m\"\u001B[39m}], rotation\u001B[38;5;241m=\u001B[39m\u001B[38;5;124m\"\u001B[39m\u001B[38;5;124m-90x\u001B[39m\u001B[38;5;124m\"\u001B[39m)\n",
      "Cell \u001B[0;32mIn[7], line 34\u001B[0m, in \u001B[0;36mget_surface_atoms_indices\u001B[0;34m(material, surface, n, m)\u001B[0m\n\u001B[1;32m     31\u001B[0m y_min, y_max \u001B[38;5;241m=\u001B[39m j \u001B[38;5;241m/\u001B[39m m, (j \u001B[38;5;241m+\u001B[39m \u001B[38;5;241m1\u001B[39m) \u001B[38;5;241m/\u001B[39m m\n\u001B[1;32m     33\u001B[0m \u001B[38;5;66;03m# Filter atoms within this grid cell\u001B[39;00m\n\u001B[0;32m---> 34\u001B[0m atoms_column \u001B[38;5;241m=\u001B[39m \u001B[43mfilter_by_box\u001B[49m\u001B[43m(\u001B[49m\u001B[43mmaterial\u001B[49m\u001B[43m,\u001B[49m\u001B[43m \u001B[49m\u001B[43m[\u001B[49m\u001B[43mx_min\u001B[49m\u001B[43m,\u001B[49m\u001B[43m \u001B[49m\u001B[43my_min\u001B[49m\u001B[43m,\u001B[49m\u001B[43m \u001B[49m\u001B[38;5;241;43m0\u001B[39;49m\u001B[43m]\u001B[49m\u001B[43m,\u001B[49m\u001B[43m \u001B[49m\u001B[43m[\u001B[49m\u001B[43mx_max\u001B[49m\u001B[43m,\u001B[49m\u001B[43m \u001B[49m\u001B[43my_max\u001B[49m\u001B[43m,\u001B[49m\u001B[43m \u001B[49m\u001B[38;5;241;43m1\u001B[39;49m\u001B[43m]\u001B[49m\u001B[43m)\u001B[49m\n\u001B[1;32m     37\u001B[0m \u001B[38;5;28;01mif\u001B[39;00m \u001B[38;5;28mlen\u001B[39m(atoms_column\u001B[38;5;241m.\u001B[39mbasis\u001B[38;5;241m.\u001B[39mcoordinates\u001B[38;5;241m.\u001B[39mvalues) \u001B[38;5;241m==\u001B[39m \u001B[38;5;241m0\u001B[39m:\n\u001B[1;32m     38\u001B[0m     \u001B[38;5;28;01mcontinue\u001B[39;00m  \u001B[38;5;66;03m# Skip empty columns\u001B[39;00m\n",
      "File \u001B[0;32m~/code/GREEN/api-examples/.venv/lib/python3.11/site-packages/mat3ra/made/tools/modify.py:347\u001B[0m, in \u001B[0;36mfilter_by_box\u001B[0;34m(material, min_coordinate, max_coordinate, use_cartesian_coordinates, invert_selection)\u001B[0m\n\u001B[1;32m    344\u001B[0m \u001B[38;5;28;01mdef\u001B[39;00m \u001B[38;5;21mcondition\u001B[39m(coordinate):\n\u001B[1;32m    345\u001B[0m     \u001B[38;5;28;01mreturn\u001B[39;00m is_coordinate_in_box(coordinate, min_coordinate, max_coordinate)\n\u001B[0;32m--> 347\u001B[0m \u001B[38;5;28;01mreturn\u001B[39;00m \u001B[43mfilter_by_condition_on_coordinates\u001B[49m\u001B[43m(\u001B[49m\n\u001B[1;32m    348\u001B[0m \u001B[43m    \u001B[49m\u001B[43mmaterial\u001B[49m\u001B[43m,\u001B[49m\u001B[43m \u001B[49m\u001B[43mcondition\u001B[49m\u001B[43m,\u001B[49m\u001B[43m \u001B[49m\u001B[43muse_cartesian_coordinates\u001B[49m\u001B[38;5;241;43m=\u001B[39;49m\u001B[43muse_cartesian_coordinates\u001B[49m\u001B[43m,\u001B[49m\u001B[43m \u001B[49m\u001B[43minvert_selection\u001B[49m\u001B[38;5;241;43m=\u001B[39;49m\u001B[43minvert_selection\u001B[49m\n\u001B[1;32m    349\u001B[0m \u001B[43m\u001B[49m\u001B[43m)\u001B[49m\n",
      "File \u001B[0;32m~/code/GREEN/api-examples/.venv/lib/python3.11/site-packages/mat3ra/made/tools/modify.py:175\u001B[0m, in \u001B[0;36mfilter_by_condition_on_coordinates\u001B[0;34m(material, condition, use_cartesian_coordinates, invert_selection)\u001B[0m\n\u001B[1;32m    168\u001B[0m new_material \u001B[38;5;241m=\u001B[39m material\u001B[38;5;241m.\u001B[39mclone()\n\u001B[1;32m    169\u001B[0m ids \u001B[38;5;241m=\u001B[39m get_atom_indices_with_condition_on_coordinates(\n\u001B[1;32m    170\u001B[0m     material,\n\u001B[1;32m    171\u001B[0m     condition,\n\u001B[1;32m    172\u001B[0m     use_cartesian_coordinates\u001B[38;5;241m=\u001B[39muse_cartesian_coordinates,\n\u001B[1;32m    173\u001B[0m )\n\u001B[0;32m--> 175\u001B[0m new_material \u001B[38;5;241m=\u001B[39m \u001B[43mfilter_material_by_ids\u001B[49m\u001B[43m(\u001B[49m\u001B[43mnew_material\u001B[49m\u001B[43m,\u001B[49m\u001B[43m \u001B[49m\u001B[43mids\u001B[49m\u001B[43m,\u001B[49m\u001B[43m \u001B[49m\u001B[43minvert\u001B[49m\u001B[38;5;241;43m=\u001B[39;49m\u001B[43minvert_selection\u001B[49m\u001B[43m)\u001B[49m\n\u001B[1;32m    176\u001B[0m \u001B[38;5;28;01mreturn\u001B[39;00m new_material\n",
      "File \u001B[0;32m~/code/GREEN/api-examples/.venv/lib/python3.11/site-packages/mat3ra/made/tools/modify.py:141\u001B[0m, in \u001B[0;36mfilter_material_by_ids\u001B[0;34m(material, ids, invert)\u001B[0m\n\u001B[1;32m    129\u001B[0m \u001B[38;5;28;01mdef\u001B[39;00m \u001B[38;5;21mfilter_material_by_ids\u001B[39m(material: Material, ids: List[\u001B[38;5;28mint\u001B[39m], invert: \u001B[38;5;28mbool\u001B[39m \u001B[38;5;241m=\u001B[39m \u001B[38;5;28;01mFalse\u001B[39;00m) \u001B[38;5;241m-\u001B[39m\u001B[38;5;241m>\u001B[39m Material:\n\u001B[1;32m    130\u001B[0m \u001B[38;5;250m    \u001B[39m\u001B[38;5;124;03m\"\"\"\u001B[39;00m\n\u001B[1;32m    131\u001B[0m \u001B[38;5;124;03m    Filter out only atoms corresponding to the ids.\u001B[39;00m\n\u001B[1;32m    132\u001B[0m \n\u001B[0;32m   (...)\u001B[0m\n\u001B[1;32m    139\u001B[0m \u001B[38;5;124;03m        Material: The filtered material object.\u001B[39;00m\n\u001B[1;32m    140\u001B[0m \u001B[38;5;124;03m    \"\"\"\u001B[39;00m\n\u001B[0;32m--> 141\u001B[0m     new_material \u001B[38;5;241m=\u001B[39m \u001B[43mmaterial\u001B[49m\u001B[38;5;241;43m.\u001B[39;49m\u001B[43mclone\u001B[49m\u001B[43m(\u001B[49m\u001B[43m)\u001B[49m\n\u001B[1;32m    142\u001B[0m     new_basis \u001B[38;5;241m=\u001B[39m new_material\u001B[38;5;241m.\u001B[39mbasis\n\u001B[1;32m    143\u001B[0m     \u001B[38;5;28;01mif\u001B[39;00m invert \u001B[38;5;129;01mis\u001B[39;00m \u001B[38;5;28;01mTrue\u001B[39;00m:\n",
      "File \u001B[0;32m~/code/GREEN/api-examples/.venv/lib/python3.11/site-packages/mat3ra/code/entity.py:55\u001B[0m, in \u001B[0;36mInMemoryEntity.clone\u001B[0;34m(self, extra_context)\u001B[0m\n\u001B[1;32m     51\u001B[0m config\u001B[38;5;241m.\u001B[39mupdate(extra_context)\n\u001B[1;32m     52\u001B[0m \u001B[38;5;66;03m# To avoid:\u001B[39;00m\n\u001B[1;32m     53\u001B[0m \u001B[38;5;66;03m#   Argument 1 to \"__init__\" of \"BaseUnderscoreJsonPropsHandler\" has incompatible type \"Dict[str, Any]\";\u001B[39;00m\n\u001B[1;32m     54\u001B[0m \u001B[38;5;66;03m#   expected \"BaseUnderscoreJsonPropsHandler\"\u001B[39;00m\n\u001B[0;32m---> 55\u001B[0m \u001B[38;5;28;01mreturn\u001B[39;00m \u001B[38;5;28;43mself\u001B[39;49m\u001B[38;5;241;43m.\u001B[39;49m\u001B[38;5;18;43m__class__\u001B[39;49m\u001B[43m(\u001B[49m\u001B[43mconfig\u001B[49m\u001B[43m)\u001B[49m\n",
      "File \u001B[0;32m~/code/GREEN/api-examples/.venv/lib/python3.11/site-packages/mat3ra/made/material.py:58\u001B[0m, in \u001B[0;36mMaterial.__init__\u001B[0;34m(self, config)\u001B[0m\n\u001B[1;32m     57\u001B[0m \u001B[38;5;28;01mdef\u001B[39;00m \u001B[38;5;21m__init__\u001B[39m(\u001B[38;5;28mself\u001B[39m, config: Any) \u001B[38;5;241m-\u001B[39m\u001B[38;5;241m>\u001B[39m \u001B[38;5;28;01mNone\u001B[39;00m:\n\u001B[0;32m---> 58\u001B[0m     \u001B[38;5;28;43msuper\u001B[39;49m\u001B[43m(\u001B[49m\u001B[43m)\u001B[49m\u001B[38;5;241;43m.\u001B[39;49m\u001B[38;5;21;43m__init__\u001B[39;49m\u001B[43m(\u001B[49m\u001B[43mconfig\u001B[49m\u001B[43m)\u001B[49m\n\u001B[1;32m     59\u001B[0m     \u001B[38;5;28mself\u001B[39m\u001B[38;5;241m.\u001B[39mname \u001B[38;5;241m=\u001B[39m \u001B[38;5;28msuper\u001B[39m()\u001B[38;5;241m.\u001B[39mname \u001B[38;5;129;01mor\u001B[39;00m \u001B[38;5;28mself\u001B[39m\u001B[38;5;241m.\u001B[39mformula\n",
      "File \u001B[0;32m~/code/GREEN/api-examples/.venv/lib/python3.11/site-packages/mat3ra/code/__init__.py:8\u001B[0m, in \u001B[0;36mBaseUnderscoreJsonPropsHandler.__init__\u001B[0;34m(self, config)\u001B[0m\n\u001B[1;32m      7\u001B[0m \u001B[38;5;28;01mdef\u001B[39;00m \u001B[38;5;21m__init__\u001B[39m(\u001B[38;5;28mself\u001B[39m, config: Dict[\u001B[38;5;28mstr\u001B[39m, Any] \u001B[38;5;241m=\u001B[39m {}) \u001B[38;5;241m-\u001B[39m\u001B[38;5;241m>\u001B[39m \u001B[38;5;28;01mNone\u001B[39;00m:\n\u001B[0;32m----> 8\u001B[0m     \u001B[38;5;28mself\u001B[39m\u001B[38;5;241m.\u001B[39m_json \u001B[38;5;241m=\u001B[39m \u001B[43mobject_utils\u001B[49m\u001B[38;5;241;43m.\u001B[39;49m\u001B[43mclone_deep\u001B[49m\u001B[43m(\u001B[49m\u001B[43mconfig\u001B[49m\u001B[43m)\u001B[49m\n",
      "File \u001B[0;32m~/code/GREEN/api-examples/.venv/lib/python3.11/site-packages/mat3ra/utils/object.py:22\u001B[0m, in \u001B[0;36mclone_deep\u001B[0;34m(obj)\u001B[0m\n\u001B[1;32m     21\u001B[0m \u001B[38;5;28;01mdef\u001B[39;00m \u001B[38;5;21mclone_deep\u001B[39m(obj: Any) \u001B[38;5;241m-\u001B[39m\u001B[38;5;241m>\u001B[39m Any:\n\u001B[0;32m---> 22\u001B[0m     \u001B[38;5;28;01mreturn\u001B[39;00m \u001B[43mcopy\u001B[49m\u001B[38;5;241;43m.\u001B[39;49m\u001B[43mdeepcopy\u001B[49m\u001B[43m(\u001B[49m\u001B[43mobj\u001B[49m\u001B[43m)\u001B[49m\n",
      "File \u001B[0;32m~/.pyenv/versions/3.11.2/lib/python3.11/copy.py:146\u001B[0m, in \u001B[0;36mdeepcopy\u001B[0;34m(x, memo, _nil)\u001B[0m\n\u001B[1;32m    144\u001B[0m copier \u001B[38;5;241m=\u001B[39m _deepcopy_dispatch\u001B[38;5;241m.\u001B[39mget(\u001B[38;5;28mcls\u001B[39m)\n\u001B[1;32m    145\u001B[0m \u001B[38;5;28;01mif\u001B[39;00m copier \u001B[38;5;129;01mis\u001B[39;00m \u001B[38;5;129;01mnot\u001B[39;00m \u001B[38;5;28;01mNone\u001B[39;00m:\n\u001B[0;32m--> 146\u001B[0m     y \u001B[38;5;241m=\u001B[39m \u001B[43mcopier\u001B[49m\u001B[43m(\u001B[49m\u001B[43mx\u001B[49m\u001B[43m,\u001B[49m\u001B[43m \u001B[49m\u001B[43mmemo\u001B[49m\u001B[43m)\u001B[49m\n\u001B[1;32m    147\u001B[0m \u001B[38;5;28;01melse\u001B[39;00m:\n\u001B[1;32m    148\u001B[0m     \u001B[38;5;28;01mif\u001B[39;00m \u001B[38;5;28missubclass\u001B[39m(\u001B[38;5;28mcls\u001B[39m, \u001B[38;5;28mtype\u001B[39m):\n",
      "File \u001B[0;32m~/.pyenv/versions/3.11.2/lib/python3.11/copy.py:231\u001B[0m, in \u001B[0;36m_deepcopy_dict\u001B[0;34m(x, memo, deepcopy)\u001B[0m\n\u001B[1;32m    229\u001B[0m memo[\u001B[38;5;28mid\u001B[39m(x)] \u001B[38;5;241m=\u001B[39m y\n\u001B[1;32m    230\u001B[0m \u001B[38;5;28;01mfor\u001B[39;00m key, value \u001B[38;5;129;01min\u001B[39;00m x\u001B[38;5;241m.\u001B[39mitems():\n\u001B[0;32m--> 231\u001B[0m     y[deepcopy(key, memo)] \u001B[38;5;241m=\u001B[39m \u001B[43mdeepcopy\u001B[49m\u001B[43m(\u001B[49m\u001B[43mvalue\u001B[49m\u001B[43m,\u001B[49m\u001B[43m \u001B[49m\u001B[43mmemo\u001B[49m\u001B[43m)\u001B[49m\n\u001B[1;32m    232\u001B[0m \u001B[38;5;28;01mreturn\u001B[39;00m y\n",
      "File \u001B[0;32m~/.pyenv/versions/3.11.2/lib/python3.11/copy.py:146\u001B[0m, in \u001B[0;36mdeepcopy\u001B[0;34m(x, memo, _nil)\u001B[0m\n\u001B[1;32m    144\u001B[0m copier \u001B[38;5;241m=\u001B[39m _deepcopy_dispatch\u001B[38;5;241m.\u001B[39mget(\u001B[38;5;28mcls\u001B[39m)\n\u001B[1;32m    145\u001B[0m \u001B[38;5;28;01mif\u001B[39;00m copier \u001B[38;5;129;01mis\u001B[39;00m \u001B[38;5;129;01mnot\u001B[39;00m \u001B[38;5;28;01mNone\u001B[39;00m:\n\u001B[0;32m--> 146\u001B[0m     y \u001B[38;5;241m=\u001B[39m \u001B[43mcopier\u001B[49m\u001B[43m(\u001B[49m\u001B[43mx\u001B[49m\u001B[43m,\u001B[49m\u001B[43m \u001B[49m\u001B[43mmemo\u001B[49m\u001B[43m)\u001B[49m\n\u001B[1;32m    147\u001B[0m \u001B[38;5;28;01melse\u001B[39;00m:\n\u001B[1;32m    148\u001B[0m     \u001B[38;5;28;01mif\u001B[39;00m \u001B[38;5;28missubclass\u001B[39m(\u001B[38;5;28mcls\u001B[39m, \u001B[38;5;28mtype\u001B[39m):\n",
      "File \u001B[0;32m~/.pyenv/versions/3.11.2/lib/python3.11/copy.py:231\u001B[0m, in \u001B[0;36m_deepcopy_dict\u001B[0;34m(x, memo, deepcopy)\u001B[0m\n\u001B[1;32m    229\u001B[0m memo[\u001B[38;5;28mid\u001B[39m(x)] \u001B[38;5;241m=\u001B[39m y\n\u001B[1;32m    230\u001B[0m \u001B[38;5;28;01mfor\u001B[39;00m key, value \u001B[38;5;129;01min\u001B[39;00m x\u001B[38;5;241m.\u001B[39mitems():\n\u001B[0;32m--> 231\u001B[0m     y[deepcopy(key, memo)] \u001B[38;5;241m=\u001B[39m \u001B[43mdeepcopy\u001B[49m\u001B[43m(\u001B[49m\u001B[43mvalue\u001B[49m\u001B[43m,\u001B[49m\u001B[43m \u001B[49m\u001B[43mmemo\u001B[49m\u001B[43m)\u001B[49m\n\u001B[1;32m    232\u001B[0m \u001B[38;5;28;01mreturn\u001B[39;00m y\n",
      "    \u001B[0;31m[... skipping similar frames: deepcopy at line 146 (4 times), _deepcopy_dict at line 231 (3 times)]\u001B[0m\n",
      "File \u001B[0;32m~/.pyenv/versions/3.11.2/lib/python3.11/copy.py:231\u001B[0m, in \u001B[0;36m_deepcopy_dict\u001B[0;34m(x, memo, deepcopy)\u001B[0m\n\u001B[1;32m    229\u001B[0m memo[\u001B[38;5;28mid\u001B[39m(x)] \u001B[38;5;241m=\u001B[39m y\n\u001B[1;32m    230\u001B[0m \u001B[38;5;28;01mfor\u001B[39;00m key, value \u001B[38;5;129;01min\u001B[39;00m x\u001B[38;5;241m.\u001B[39mitems():\n\u001B[0;32m--> 231\u001B[0m     y[deepcopy(key, memo)] \u001B[38;5;241m=\u001B[39m \u001B[43mdeepcopy\u001B[49m\u001B[43m(\u001B[49m\u001B[43mvalue\u001B[49m\u001B[43m,\u001B[49m\u001B[43m \u001B[49m\u001B[43mmemo\u001B[49m\u001B[43m)\u001B[49m\n\u001B[1;32m    232\u001B[0m \u001B[38;5;28;01mreturn\u001B[39;00m y\n",
      "File \u001B[0;32m~/.pyenv/versions/3.11.2/lib/python3.11/copy.py:146\u001B[0m, in \u001B[0;36mdeepcopy\u001B[0;34m(x, memo, _nil)\u001B[0m\n\u001B[1;32m    144\u001B[0m copier \u001B[38;5;241m=\u001B[39m _deepcopy_dispatch\u001B[38;5;241m.\u001B[39mget(\u001B[38;5;28mcls\u001B[39m)\n\u001B[1;32m    145\u001B[0m \u001B[38;5;28;01mif\u001B[39;00m copier \u001B[38;5;129;01mis\u001B[39;00m \u001B[38;5;129;01mnot\u001B[39;00m \u001B[38;5;28;01mNone\u001B[39;00m:\n\u001B[0;32m--> 146\u001B[0m     y \u001B[38;5;241m=\u001B[39m \u001B[43mcopier\u001B[49m\u001B[43m(\u001B[49m\u001B[43mx\u001B[49m\u001B[43m,\u001B[49m\u001B[43m \u001B[49m\u001B[43mmemo\u001B[49m\u001B[43m)\u001B[49m\n\u001B[1;32m    147\u001B[0m \u001B[38;5;28;01melse\u001B[39;00m:\n\u001B[1;32m    148\u001B[0m     \u001B[38;5;28;01mif\u001B[39;00m \u001B[38;5;28missubclass\u001B[39m(\u001B[38;5;28mcls\u001B[39m, \u001B[38;5;28mtype\u001B[39m):\n",
      "File \u001B[0;32m~/.pyenv/versions/3.11.2/lib/python3.11/copy.py:206\u001B[0m, in \u001B[0;36m_deepcopy_list\u001B[0;34m(x, memo, deepcopy)\u001B[0m\n\u001B[1;32m    204\u001B[0m append \u001B[38;5;241m=\u001B[39m y\u001B[38;5;241m.\u001B[39mappend\n\u001B[1;32m    205\u001B[0m \u001B[38;5;28;01mfor\u001B[39;00m a \u001B[38;5;129;01min\u001B[39;00m x:\n\u001B[0;32m--> 206\u001B[0m     append(\u001B[43mdeepcopy\u001B[49m\u001B[43m(\u001B[49m\u001B[43ma\u001B[49m\u001B[43m,\u001B[49m\u001B[43m \u001B[49m\u001B[43mmemo\u001B[49m\u001B[43m)\u001B[49m)\n\u001B[1;32m    207\u001B[0m \u001B[38;5;28;01mreturn\u001B[39;00m y\n",
      "File \u001B[0;32m~/.pyenv/versions/3.11.2/lib/python3.11/copy.py:146\u001B[0m, in \u001B[0;36mdeepcopy\u001B[0;34m(x, memo, _nil)\u001B[0m\n\u001B[1;32m    144\u001B[0m copier \u001B[38;5;241m=\u001B[39m _deepcopy_dispatch\u001B[38;5;241m.\u001B[39mget(\u001B[38;5;28mcls\u001B[39m)\n\u001B[1;32m    145\u001B[0m \u001B[38;5;28;01mif\u001B[39;00m copier \u001B[38;5;129;01mis\u001B[39;00m \u001B[38;5;129;01mnot\u001B[39;00m \u001B[38;5;28;01mNone\u001B[39;00m:\n\u001B[0;32m--> 146\u001B[0m     y \u001B[38;5;241m=\u001B[39m \u001B[43mcopier\u001B[49m\u001B[43m(\u001B[49m\u001B[43mx\u001B[49m\u001B[43m,\u001B[49m\u001B[43m \u001B[49m\u001B[43mmemo\u001B[49m\u001B[43m)\u001B[49m\n\u001B[1;32m    147\u001B[0m \u001B[38;5;28;01melse\u001B[39;00m:\n\u001B[1;32m    148\u001B[0m     \u001B[38;5;28;01mif\u001B[39;00m \u001B[38;5;28missubclass\u001B[39m(\u001B[38;5;28mcls\u001B[39m, \u001B[38;5;28mtype\u001B[39m):\n",
      "File \u001B[0;32m~/.pyenv/versions/3.11.2/lib/python3.11/copy.py:231\u001B[0m, in \u001B[0;36m_deepcopy_dict\u001B[0;34m(x, memo, deepcopy)\u001B[0m\n\u001B[1;32m    229\u001B[0m memo[\u001B[38;5;28mid\u001B[39m(x)] \u001B[38;5;241m=\u001B[39m y\n\u001B[1;32m    230\u001B[0m \u001B[38;5;28;01mfor\u001B[39;00m key, value \u001B[38;5;129;01min\u001B[39;00m x\u001B[38;5;241m.\u001B[39mitems():\n\u001B[0;32m--> 231\u001B[0m     y[deepcopy(key, memo)] \u001B[38;5;241m=\u001B[39m \u001B[43mdeepcopy\u001B[49m\u001B[43m(\u001B[49m\u001B[43mvalue\u001B[49m\u001B[43m,\u001B[49m\u001B[43m \u001B[49m\u001B[43mmemo\u001B[49m\u001B[43m)\u001B[49m\n\u001B[1;32m    232\u001B[0m \u001B[38;5;28;01mreturn\u001B[39;00m y\n",
      "File \u001B[0;32m~/.pyenv/versions/3.11.2/lib/python3.11/copy.py:128\u001B[0m, in \u001B[0;36mdeepcopy\u001B[0;34m(x, memo, _nil)\u001B[0m\n\u001B[1;32m    124\u001B[0m     d[PyStringMap] \u001B[38;5;241m=\u001B[39m PyStringMap\u001B[38;5;241m.\u001B[39mcopy\n\u001B[1;32m    126\u001B[0m \u001B[38;5;28;01mdel\u001B[39;00m d, t\n\u001B[0;32m--> 128\u001B[0m \u001B[38;5;28;01mdef\u001B[39;00m \u001B[38;5;21mdeepcopy\u001B[39m(x, memo\u001B[38;5;241m=\u001B[39m\u001B[38;5;28;01mNone\u001B[39;00m, _nil\u001B[38;5;241m=\u001B[39m[]):\n\u001B[1;32m    129\u001B[0m \u001B[38;5;250m    \u001B[39m\u001B[38;5;124;03m\"\"\"Deep copy operation on arbitrary Python objects.\u001B[39;00m\n\u001B[1;32m    130\u001B[0m \n\u001B[1;32m    131\u001B[0m \u001B[38;5;124;03m    See the module's __doc__ string for more info.\u001B[39;00m\n\u001B[1;32m    132\u001B[0m \u001B[38;5;124;03m    \"\"\"\u001B[39;00m\n\u001B[1;32m    134\u001B[0m     \u001B[38;5;28;01mif\u001B[39;00m memo \u001B[38;5;129;01mis\u001B[39;00m \u001B[38;5;28;01mNone\u001B[39;00m:\n",
      "\u001B[0;31mKeyboardInterrupt\u001B[0m: "
     ]
    }
   ],
   "execution_count": 7
  },
  {
   "cell_type": "markdown",
   "source": [
    "## 3. Visualize the Slabs with Adatom"
   ],
   "metadata": {
    "collapsed": false
   },
   "id": "462549d016073446"
  },
  {
   "cell_type": "markdown",
   "source": [
    "## 4. Pass data to the outside runtime"
   ],
   "metadata": {
    "collapsed": false
   },
   "id": "d381df29a6bbdd82"
  },
  {
   "cell_type": "code",
   "outputs": [
    {
     "data": {
      "text/plain": "GridBox(children=(VBox(children=(Label(value='Hf528O1037 - Material with island defect - rotation: -90x', layo…",
      "application/vnd.jupyter.widget-view+json": {
       "version_major": 2,
       "version_minor": 0,
       "model_id": "e70a90e827bb4fae9dbecb8e206e218f"
      }
     },
     "metadata": {},
     "output_type": "display_data"
    },
    {
     "data": {
      "text/plain": "GridBox(children=(VBox(children=(Label(value='Hf528O1037 - Material with island defect - rotation: 0x', layout…",
      "application/vnd.jupyter.widget-view+json": {
       "version_major": 2,
       "version_minor": 0,
       "model_id": "4cef85ea912742e295e421260ea785af"
      }
     },
     "metadata": {},
     "output_type": "display_data"
    }
   ],
   "source": [
    "\n",
    "from mat3ra.made.tools.build.defect import create_slab_defect, TerraceSlabDefectBuilder\n",
    "from mat3ra.made.tools.build.defect.configuration import TerraceSlabDefectConfiguration\n",
    "from scipy.spatial import cKDTree\n",
    "\n",
    "def get_surface_atoms_indices(material: Material, distance_threshold: float = 2.5, depth: float = 5) -> List[int]:\n",
    "    \"\"\"\n",
    "    Identify exposed atoms on the top surface of the material.\n",
    "\n",
    "    Args:\n",
    "        material (Material): Material object to get surface atoms from.\n",
    "        distance_threshold (float): Distance threshold to determine if an atom is considered \"covered\".\n",
    "        depth (float): Depth from the top surface to look for exposed atoms.\n",
    "\n",
    "    Returns:\n",
    "        List[int]: List of indices of exposed top surface atoms.\n",
    "    \"\"\"\n",
    "    material.to_cartesian()\n",
    "    coordinates = np.array(material.basis.coordinates.values)\n",
    "    ids = material.basis.coordinates.ids\n",
    "    kd_tree = cKDTree(coordinates)\n",
    "    z_max = np.max(coordinates[:, 2])\n",
    "\n",
    "    exposed_atoms_indices = []\n",
    "    for idx, (x, y, z) in enumerate(coordinates):\n",
    "        if z >= z_max - depth:\n",
    "            neighbors_above = kd_tree.query_ball_point([x, y, z + distance_threshold], r=distance_threshold)\n",
    "\n",
    "            if not any(coordinates[n][2] > z for n in neighbors_above):\n",
    "                exposed_atoms_indices.append(ids[idx])\n",
    "    material.to_crystal()\n",
    "    return exposed_atoms_indices\n",
    "\n",
    "\n",
    "configuration = TerraceSlabDefectConfiguration(\n",
    "    crystal=slab,\n",
    ")\n",
    "builder = TerraceSlabDefectBuilder()\n",
    "terrace = create_slab_defect(configuration, builder)\n",
    "\n",
    "exposed_top_surface_atoms = get_surface_atoms_indices(slab_with_island, distance_threshold=2.5, depth=15)\n",
    "exposed_atoms = filter_material_by_ids(slab_with_island, exposed_top_surface_atoms)\n",
    "exposed_atoms.name = exposed_atoms.name + \" Surface Atoms\"\n",
    "\n",
    "visualize([{\"material\": slab_with_island, \"title\": \"Material with island defect\"}, {\"material\": exposed_atoms, \"title\": \"Exposed Atoms only\"}], rotation=\"-90x\")\n",
    "visualize([{\"material\": slab_with_island, \"title\": \"Material with island defect\"}, {\"material\": exposed_atoms, \"title\": \"Exposed Atoms only\"}], rotation=\"0x\")"
   ],
   "metadata": {
    "collapsed": false,
    "ExecuteTime": {
     "end_time": "2024-09-10T22:35:17.345111Z",
     "start_time": "2024-08-24T01:06:40.137044Z"
    }
   },
   "id": "61daa5afcbc078a9",
   "execution_count": 7
  },
  {
   "cell_type": "code",
   "outputs": [
    {
     "name": "stdout",
     "output_type": "stream",
     "text": [
      "Data for materials_out written to uploads/Hf4O8(111), termination O2_P2:m_1, Slab Island Island.json\n",
      "Data for materials_out written to uploads/Hf4O8(111), termination O2_P2:m_1, Slab Island Surface Atoms Surface Atoms.json\n"
     ]
    },
    {
     "data": {
      "text/plain": "1565"
     },
     "execution_count": 8,
     "metadata": {},
     "output_type": "execute_result"
    }
   ],
   "source": [
    "from utils.jupyterlite import set_data\n",
    "slab_with_island.name = slab_with_island.name + \" Island\"\n",
    "exposed_atoms.name = exposed_atoms.name + \" Surface Atoms\"\n",
    "set_data(\"materials_out\", [slab_with_island.to_json(), exposed_atoms.to_json()])\n",
    "len(slab_with_island.basis.elements.ids)"
   ],
   "metadata": {
    "collapsed": false,
    "ExecuteTime": {
     "end_time": "2024-09-10T22:35:17.345811Z",
     "start_time": "2024-08-24T01:06:56.359197Z"
    }
   },
   "id": "8f1f5b3ee69d0355",
   "execution_count": 8
  },
  {
   "cell_type": "code",
   "outputs": [
    {
     "data": {
      "text/plain": "GridBox(children=(VBox(children=(Label(value='Hf528O1037 - Material with island defect - rotation: -90x', layo…",
      "application/vnd.jupyter.widget-view+json": {
       "version_major": 2,
       "version_minor": 0,
       "model_id": "dbac8d90d33341668910696a72c31de8"
      }
     },
     "metadata": {},
     "output_type": "display_data"
    },
    {
     "data": {
      "text/plain": "GridBox(children=(VBox(children=(Label(value='Hf528O1037 - Material with island defect - rotation: 0x', layout…",
      "application/vnd.jupyter.widget-view+json": {
       "version_major": 2,
       "version_minor": 0,
       "model_id": "f8c99e61943541b993e1fdae2750ce32"
      }
     },
     "metadata": {},
     "output_type": "display_data"
    },
    {
     "name": "stdout",
     "output_type": "stream",
     "text": [
      "Data for materials_out written to uploads/Hf4O8(111), termination O2_P2:m_1, Slab Island Island Passivated.json\n"
     ]
    }
   ],
   "source": [
    "def passivate_top(material, element, bond_length, depth):\n",
    "    \"\"\"\n",
    "    Passivate the top surface of the material with the specified element.\n",
    "\n",
    "    Args:\n",
    "        material (Material): Material object to passivate.\n",
    "        element (str): Element to use for passivation.\n",
    "        bond_length (float): Bond length to use for the passivation.\n",
    "        depth (float): Depth from the top surface to passivate.\n",
    "\n",
    "    Returns:\n",
    "        Material: Material object with the top surface passivated.\n",
    "    \"\"\"\n",
    "    new_material = material.clone()\n",
    "    top_atom_indices = get_surface_atoms_indices(material, distance_threshold=2.2, depth=depth)\n",
    "    top_atoms = filter_material_by_ids(material, top_atom_indices)\n",
    "    new_material.to_cartesian()\n",
    "    top_atoms.to_cartesian()\n",
    "    top_atoms_coordinates = top_atoms.basis.coordinates.values\n",
    "    passivant_coordinates = np.array(top_atoms_coordinates) + [0, 0, bond_length]\n",
    "    \n",
    "    for coord in passivant_coordinates:\n",
    "        new_material.add_atom(element, coord)\n",
    "    new_material.to_crystal()\n",
    "    return new_material\n",
    "\n",
    "passivated_slab = passivate_top(slab_with_island, \"H\", 1.0, 15)\n",
    "passivated_slab.name = passivated_slab.name + \" Passivated\"\n",
    "visualize([{\"material\": slab_with_island, \"title\": \"Material with island defect\"}, {\"material\": passivated_slab, \"title\": \"Passivated Material\"}], rotation=\"-90x\")\n",
    "visualize([{\"material\": slab_with_island, \"title\": \"Material with island defect\"}, {\"material\": passivated_slab, \"title\": \"Passivated Material\"}], rotation=\"0x\")\n",
    "\n",
    "set_data(\"materials_out\", [ passivated_slab.to_json()])"
   ],
   "metadata": {
    "collapsed": false,
    "ExecuteTime": {
     "end_time": "2024-09-10T22:35:17.346107Z",
     "start_time": "2024-08-24T01:52:08.525957Z"
    }
   },
   "id": "b529792d4b077042",
   "execution_count": 14
  },
  {
   "cell_type": "code",
   "outputs": [
    {
     "data": {
      "text/plain": "1708"
     },
     "execution_count": 10,
     "metadata": {},
     "output_type": "execute_result"
    }
   ],
   "source": [
    "len(passivated_slab.basis.elements.values)"
   ],
   "metadata": {
    "collapsed": false,
    "ExecuteTime": {
     "end_time": "2024-09-10T22:35:17.346715Z",
     "start_time": "2024-08-24T01:07:06.686806Z"
    }
   },
   "id": "4200a5b3ffb1a6ff",
   "execution_count": 10
  },
  {
   "cell_type": "code",
   "outputs": [
    {
     "data": {
      "text/plain": "GridBox(children=(VBox(children=(Label(value='Hf528O1037 - Material with island defect - rotation: -90x', layo…",
      "application/vnd.jupyter.widget-view+json": {
       "version_major": 2,
       "version_minor": 0,
       "model_id": "ca2650387e6b468ca2ca14d8505a6ba4"
      }
     },
     "metadata": {},
     "output_type": "display_data"
    }
   ],
   "source": [
    "from mat3ra.made.tools.modify import passivate_material, passivate_surface\n",
    "\n",
    "passivated_surface = passivate_surface(slab_with_island, passivant=\"H\", default_bond_length=1.0)\n",
    "visualize([{\"material\": slab_with_island, \"title\": \"Material with island defect\"}, {\"material\": passivated_surface, \"title\": \"Passivated Material\"}], rotation=\"-90x\")"
   ],
   "metadata": {
    "collapsed": false,
    "ExecuteTime": {
     "end_time": "2024-09-10T22:35:17.347606Z",
     "start_time": "2024-08-24T01:07:06.695459Z"
    }
   },
   "id": "e27584952f2dd760",
   "execution_count": 11
  },
  {
   "cell_type": "code",
   "outputs": [
    {
     "name": "stdout",
     "output_type": "stream",
     "text": [
      "Commensurate lattice vectors: m1=0, m2=0, n1=0, n2=0\n"
     ]
    }
   ],
   "source": [
    "import numpy as np\n",
    "from scipy.optimize import minimize\n",
    "\n",
    "def find_commensurate_lattice(T, a1, a2, tol=1e-6):\n",
    "    \"\"\"\n",
    "    Finds commensurate lattice vectors for two 2D arbitrary bases.\n",
    "    \n",
    "    Parameters:\n",
    "    - T: 2x2 numpy array, the transformation matrix relating the two bases.\n",
    "    - a1, a2: numpy arrays, the vectors of the first basis.\n",
    "    - tol: float, tolerance for finding integer solutions.\n",
    "    \n",
    "    Returns:\n",
    "    - (m1, m2, n1, n2): tuple of integers that satisfy the commensurability condition.\n",
    "    \"\"\"\n",
    "    \n",
    "    def objective(vars):\n",
    "        m1, m2, n1, n2 = vars\n",
    "        return m1**2 + m2**2 + n1**2 + n2**2\n",
    "\n",
    "    def constraint(vars):\n",
    "        m1, m2, n1, n2 = vars\n",
    "        lhs = m1 * a1 + m2 * a2\n",
    "        rhs = n1 * (T @ a1) + n2 * (T @ a2)\n",
    "        return np.linalg.norm(lhs - rhs)\n",
    "    \n",
    "    # Initial guess for m1, m2, n1, n2\n",
    "    initial_guess = [1, 0, 1, 0]\n",
    "    \n",
    "    # Constraints dictionary\n",
    "    constraints = {'type': 'eq', 'fun': constraint}\n",
    "    \n",
    "    # Solve the optimization problem\n",
    "    result = minimize(objective, initial_guess, constraints=constraints, method='SLSQP', options={'ftol': tol})\n",
    "    \n",
    "    if result.success:\n",
    "        m1, m2, n1, n2 = np.round(result.x).astype(int)\n",
    "        return m1, m2, n1, n2\n",
    "    else:\n",
    "        raise ValueError(\"No commensurate lattice found within the given tolerance.\")\n",
    "\n",
    "# Example usage:\n",
    "a1 = np.array([1, 0])\n",
    "a2 = np.array([-0.5, np.sqrt(3) / 2])\n",
    "angle = np.pi / 3\n",
    "T = np.array([[np.cos(angle), -np.sin(angle)], [np.sin(angle), np.cos(angle)]])\n",
    "m1, m2, n1, n2 = find_commensurate_lattice(T, a1, a2, tol=1e-1)\n",
    "print(f\"Commensurate lattice vectors: m1={m1}, m2={m2}, n1={n1}, n2={n2}\")\n"
   ],
   "metadata": {
    "collapsed": false,
    "ExecuteTime": {
     "end_time": "2024-09-10T22:35:17.347841Z",
     "start_time": "2024-08-24T03:09:08.323562Z"
    }
   },
   "id": "2aa667c6ee85aec9",
   "execution_count": 21
  },
  {
   "cell_type": "code",
   "source": [
    "from mat3ra.made.tools.build.defect import create_slab_defect, IslandSlabDefectBuilder\n",
    "clean_material = Material.create(Material.default_config)\n",
    "slab_111_config = SlabConfiguration(\n",
    "    bulk=clean_material,\n",
    "    miller_indices=(0,0, 1),\n",
    "    thickness=3,\n",
    "    vacuum=3,\n",
    "    xy_supercell_matrix=[[2, 0], [0, 2]],\n",
    "    use_orthogonal_z=True,\n",
    "    make_primitive=False\n",
    ")\n",
    "t_111 = get_terminations(slab_111_config)[0]\n",
    "SLAB_111 = create_slab(slab_111_config, t_111)\n",
    "\n",
    "def test_create_island():\n",
    "    condition = CoordinateCondition.CylinderCoordinateCondition(\n",
    "        center_position=[0.5, 0.5], radius=0.15, min_z=0, max_z=1\n",
    "    )\n",
    "    island_config = IslandSlabDefectConfiguration(\n",
    "        crystal=SLAB_111,\n",
    "        defect_type=\"island\",\n",
    "        condition=condition,\n",
    "        number_of_added_layers=1,\n",
    "    )\n",
    "\n",
    "    defect = create_slab_defect(configuration=island_config, builder=IslandSlabDefectBuilder())\n",
    "    visualize([{\"material\": SLAB_111, \"title\": \"Original material\"}, {\"material\": defect, \"title\": \"Material with island defect\"}])\n",
    "    visualize([{\"material\": SLAB_111, \"title\": \"Original material\"}, {\"material\": defect, \"title\": \"Material with island defect\"}], rotation=\"-90x\")\n",
    "\n",
    "    # Only 2 atoms in the island were added for this configuration\n",
    "    NUMBER_OF_ATOMS_IN_ISLAND = 2\n",
    "    \n",
    "\n",
    "    \n",
    "test_create_island()\n"
   ],
   "metadata": {
    "collapsed": false,
    "ExecuteTime": {
     "end_time": "2024-09-10T22:40:20.465560Z",
     "start_time": "2024-09-10T22:40:19.735844Z"
    }
   },
   "id": "5d1a7d4d0ba9c608",
   "outputs": [
    {
     "data": {
      "text/plain": [
       "GridBox(children=(VBox(children=(Label(value='Si96 - Original material - rotation: 0x,0y,0z', layout=Layout(al…"
      ],
      "application/vnd.jupyter.widget-view+json": {
       "version_major": 2,
       "version_minor": 0,
       "model_id": "29a1f239671b498cb712bcfdb0d02a6c"
      }
     },
     "metadata": {},
     "output_type": "display_data"
    },
    {
     "data": {
      "text/plain": [
       "GridBox(children=(VBox(children=(Label(value='Si96 - Original material - rotation: -90x', layout=Layout(align_…"
      ],
      "application/vnd.jupyter.widget-view+json": {
       "version_major": 2,
       "version_minor": 0,
       "model_id": "b96631b9fbea4c50a5e36204a6263899"
      }
     },
     "metadata": {},
     "output_type": "display_data"
    }
   ],
   "execution_count": 14
  },
  {
   "metadata": {
    "ExecuteTime": {
     "end_time": "2024-09-10T22:35:17.348440Z",
     "start_time": "2024-09-10T19:29:26.467504Z"
    }
   },
   "cell_type": "code",
   "source": [
    "gh_test_slab = {'name': 'Si8(111), termination Si_P6/mmm_4, Slab', 'basis': {'elements': [{'id': 0, 'value': 'Si'}, {'id': 1, 'value': 'Si'}, {'id': 2, 'value': 'Si'}, {'id': 3, 'value': 'Si'}, {'id': 4, 'value': 'Si'}, {'id': 5, 'value': 'Si'}, {'id': 6, 'value': 'Si'}, {'id': 7, 'value': 'Si'}, {'id': 8, 'value': 'Si'}, {'id': 9, 'value': 'Si'}, {'id': 10, 'value': 'Si'}, {'id': 11, 'value': 'Si'}, {'id': 12, 'value': 'Si'}, {'id': 13, 'value': 'Si'}, {'id': 14, 'value': 'Si'}, {'id': 15, 'value': 'Si'}, {'id': 16, 'value': 'Si'}, {'id': 17, 'value': 'Si'}, {'id': 18, 'value': 'Si'}, {'id': 19, 'value': 'Si'}, {'id': 20, 'value': 'Si'}, {'id': 21, 'value': 'Si'}, {'id': 22, 'value': 'Si'}, {'id': 23, 'value': 'Si'}, {'id': 24, 'value': 'Si'}, {'id': 25, 'value': 'Si'}, {'id': 26, 'value': 'Si'}, {'id': 27, 'value': 'Si'}, {'id': 28, 'value': 'Si'}, {'id': 29, 'value': 'Si'}, {'id': 30, 'value': 'Si'}, {'id': 31, 'value': 'Si'}], 'coordinates': [{'id': 0, 'value': [0.583333333, 0.958333333, 0.0125]}, {'id': 1, 'value': [0.583333333, 0.458333333, 0.0875]}, {'id': 2, 'value': [0.083333333, 0.458333333, 0.0125]}, {'id': 3, 'value': [0.083333333, 0.958333333, 0.0875]}, {'id': 4, 'value': [0.583333333, 0.458333333, 0.0125]}, {'id': 5, 'value': [0.583333333, 0.958333333, 0.0875]}, {'id': 6, 'value': [0.083333333, 0.958333333, 0.0125]}, {'id': 7, 'value': [0.083333333, 0.458333333, 0.0875]}, {'id': 8, 'value': [0.25, 0.625, 0.1125]}, {'id': 9, 'value': [0.25, 0.125, 0.1875]}, {'id': 10, 'value': [0.75, 0.125, 0.1125]}, {'id': 11, 'value': [0.75, 0.625, 0.1875]}, {'id': 12, 'value': [0.25, 0.125, 0.1125]}, {'id': 13, 'value': [0.25, 0.625, 0.1875]}, {'id': 14, 'value': [0.75, 0.625, 0.1125]}, {'id': 15, 'value': [0.75, 0.125, 0.1875]}, {'id': 16, 'value': [0.916666667, 0.291666667, 0.2125]}, {'id': 17, 'value': [0.916666667, 0.791666667, 0.2875]}, {'id': 18, 'value': [0.416666667, 0.791666667, 0.2125]}, {'id': 19, 'value': [0.416666667, 0.291666667, 0.2875]}, {'id': 20, 'value': [0.916666667, 0.791666667, 0.2125]}, {'id': 21, 'value': [0.916666667, 0.291666667, 0.2875]}, {'id': 22, 'value': [0.416666667, 0.291666667, 0.2125]}, {'id': 23, 'value': [0.416666667, 0.791666667, 0.2875]}, {'id': 24, 'value': [0.583333333, 0.958333333, 0.3125]}, {'id': 25, 'value': [0.583333333, 0.458333333, 0.3875]}, {'id': 26, 'value': [0.083333333, 0.458333333, 0.3125]}, {'id': 27, 'value': [0.083333333, 0.958333333, 0.3875]}, {'id': 28, 'value': [0.583333333, 0.458333333, 0.3125]}, {'id': 29, 'value': [0.583333333, 0.958333333, 0.3875]}, {'id': 30, 'value': [0.083333333, 0.958333333, 0.3125]}, {'id': 31, 'value': [0.083333333, 0.458333333, 0.3875]}], 'units': 'crystal', 'cell': [[7.734, 0.0, 0.0], [3.867, 6.697840473, 0.0], [0.0, 0.0, 31.573922786]], 'constraints': [], 'labels': []}, 'lattice': {'a': 7.734, 'b': 7.734, 'c': 31.573922786, 'alpha': 90.0, 'beta': 90.0, 'gamma': 60.0, 'units': {'length': 'angstrom', 'angle': 'degree'}, 'type': 'TRI', 'vectors': {'a': [7.734, 0.0, 0.0], 'b': [3.867, 6.697840473, 0.0], 'c': [0.0, 0.0, 31.573922786], 'alat': 1, 'units': 'angstrom'}}, 'isNonPeriodic': False, '_id': '', 'metadata': {'boundaryConditions': {'type': 'pbc', 'offset': 0}, 'build': {'termination': 'Si_P6/mmm_4', 'configuration': {'type': 'SlabConfiguration', 'bulk': {'name': 'Si8', 'basis': {'elements': [{'id': 0, 'value': 'Si'}, {'id': 1, 'value': 'Si'}, {'id': 2, 'value': 'Si'}, {'id': 3, 'value': 'Si'}, {'id': 4, 'value': 'Si'}, {'id': 5, 'value': 'Si'}, {'id': 6, 'value': 'Si'}, {'id': 7, 'value': 'Si'}], 'coordinates': [{'id': 0, 'value': [0.5, 0.0, 0.0]}, {'id': 1, 'value': [0.25, 0.25, 0.75]}, {'id': 2, 'value': [0.5, 0.5, 0.5]}, {'id': 3, 'value': [0.25, 0.75, 0.25]}, {'id': 4, 'value': [0.0, 0.0, 0.5]}, {'id': 5, 'value': [0.75, 0.25, 0.25]}, {'id': 6, 'value': [0.0, 0.5, 0.0]}, {'id': 7, 'value': [0.75, 0.75, 0.75]}], 'units': 'crystal', 'cell': [[5.468763846, 0.0, 0.0], [0.0, 5.468763846, 0.0], [0.0, 0.0, 5.468763846]], 'constraints': [], 'labels': []}, 'lattice': {'a': 5.468763846, 'b': 5.468763846, 'c': 5.468763846, 'alpha': 90.0, 'beta': 90.0, 'gamma': 90.0, 'units': {'length': 'angstrom', 'angle': 'degree'}, 'type': 'TRI', 'vectors': {'a': [5.468763846, 0.0, 0.0], 'b': [0.0, 5.468763846, 0.0], 'c': [0.0, 0.0, 5.468763846], 'alat': 1, 'units': 'angstrom'}}, 'isNonPeriodic': False, '_id': '', 'metadata': {'boundaryConditions': {'type': 'pbc', 'offset': 0}}, 'isUpdated': True}, 'miller_indices': (1, 1, 1), 'thickness': 4, 'vacuum': 6, 'xy_supercell_matrix': [[1, 0], [0, 1]], 'use_conventional_cell': True, 'use_orthogonal_z': True, 'make_primitive': False}}}, 'isUpdated': True}\n",
    "\n",
    "gh_test_material = {'name': 'Si8(111), termination Si_P6/mmm_4, Slab', 'lattice': {'a': 7.734, 'b': 7.734, 'c': 31.573922786, 'alpha': 90.0, 'beta': 90.0, 'gamma': 60.0, 'units': {'length': 'angstrom', 'angle': 'degree'}, 'type': 'TRI', 'vectors': [[7.734, 0.0, 4.735709172302815e-16], [3.8670000000000018, 6.697840472868847, 4.735709172302815e-16], [0.0, 0.0, 31.573922786]]}, 'basis': {'elements': [{'id': 0, 'value': 'Si'}, {'id': 1, 'value': 'Si'}, {'id': 2, 'value': 'Si'}, {'id': 3, 'value': 'Si'}, {'id': 4, 'value': 'Si'}, {'id': 5, 'value': 'Si'}, {'id': 6, 'value': 'Si'}, {'id': 7, 'value': 'Si'}, {'id': 8, 'value': 'Si'}, {'id': 9, 'value': 'Si'}, {'id': 10, 'value': 'Si'}, {'id': 11, 'value': 'Si'}, {'id': 12, 'value': 'Si'}, {'id': 13, 'value': 'Si'}, {'id': 14, 'value': 'Si'}, {'id': 15, 'value': 'Si'}, {'id': 16, 'value': 'Si'}, {'id': 17, 'value': 'Si'}, {'id': 18, 'value': 'Si'}, {'id': 19, 'value': 'Si'}, {'id': 20, 'value': 'Si'}, {'id': 21, 'value': 'Si'}, {'id': 22, 'value': 'Si'}, {'id': 23, 'value': 'Si'}, {'id': 24, 'value': 'Si'}, {'id': 25, 'value': 'Si'}, {'id': 26, 'value': 'Si'}, {'id': 27, 'value': 'Si'}, {'id': 28, 'value': 'Si'}, {'id': 29, 'value': 'Si'}, {'id': 30, 'value': 'Si'}, {'id': 31, 'value': 'Si'}], 'coordinates': [{'id': 0, 'value': [0.583333333, 0.958333333, 0.0125]}, {'id': 1, 'value': [0.583333333, 0.458333333, 0.0875]}, {'id': 2, 'value': [0.083333333, 0.458333333, 0.0125]}, {'id': 3, 'value': [0.083333333, 0.958333333, 0.0875]}, {'id': 4, 'value': [0.583333333, 0.458333333, 0.0125]}, {'id': 5, 'value': [0.583333333, 0.958333333, 0.0875]}, {'id': 6, 'value': [0.083333333, 0.958333333, 0.0125]}, {'id': 7, 'value': [0.083333333, 0.458333333, 0.0875]}, {'id': 8, 'value': [0.25, 0.625, 0.1125]}, {'id': 9, 'value': [0.25, 0.125, 0.1875]}, {'id': 10, 'value': [0.75, 0.125, 0.1125]}, {'id': 11, 'value': [0.75, 0.625, 0.1875]}, {'id': 12, 'value': [0.25, 0.125, 0.1125]}, {'id': 13, 'value': [0.25, 0.625, 0.1875]}, {'id': 14, 'value': [0.75, 0.625, 0.1125]}, {'id': 15, 'value': [0.75, 0.125, 0.1875]}, {'id': 16, 'value': [0.916666667, 0.291666667, 0.2125]}, {'id': 17, 'value': [0.916666667, 0.791666667, 0.2875]}, {'id': 18, 'value': [0.416666667, 0.791666667, 0.2125]}, {'id': 19, 'value': [0.416666667, 0.291666667, 0.2875]}, {'id': 20, 'value': [0.916666667, 0.791666667, 0.2125]}, {'id': 21, 'value': [0.916666667, 0.291666667, 0.2875]}, {'id': 22, 'value': [0.416666667, 0.291666667, 0.2125]}, {'id': 23, 'value': [0.416666667, 0.791666667, 0.2875]}, {'id': 24, 'value': [0.583333333, 0.958333333, 0.3125]}, {'id': 25, 'value': [0.583333333, 0.458333333, 0.3875]}, {'id': 26, 'value': [0.083333333, 0.458333333, 0.3125]}, {'id': 27, 'value': [0.083333333, 0.958333333, 0.3875]}, {'id': 28, 'value': [0.583333333, 0.458333333, 0.3125]}, {'id': 29, 'value': [0.583333333, 0.958333333, 0.3875]}, {'id': 30, 'value': [0.083333333, 0.958333333, 0.3125]}, {'id': 31, 'value': [0.083333333, 0.458333333, 0.3875]}], 'units': 'crystal', 'cell': [[7.734, 0.0, 0.0], [3.867, 6.69784, 0.0], [0.0, 0.0, 31.573923]], 'labels': []}, 'metadata': {'boundaryConditions': {'type': 'pbc', 'offset': 0}, 'build': {'termination': 'Si_P6/mmm_4', 'configuration': {'type': 'IslandSlabDefectConfiguration', 'crystal': {'name': 'Si8(111), termination Si_P6/mmm_4, Slab', 'basis': {'elements': [{'id': 0, 'value': 'Si'}, {'id': 1, 'value': 'Si'}, {'id': 2, 'value': 'Si'}, {'id': 3, 'value': 'Si'}, {'id': 4, 'value': 'Si'}, {'id': 5, 'value': 'Si'}, {'id': 6, 'value': 'Si'}, {'id': 7, 'value': 'Si'}, {'id': 8, 'value': 'Si'}, {'id': 9, 'value': 'Si'}, {'id': 10, 'value': 'Si'}, {'id': 11, 'value': 'Si'}, {'id': 12, 'value': 'Si'}, {'id': 13, 'value': 'Si'}, {'id': 14, 'value': 'Si'}, {'id': 15, 'value': 'Si'}, {'id': 16, 'value': 'Si'}, {'id': 17, 'value': 'Si'}, {'id': 18, 'value': 'Si'}, {'id': 19, 'value': 'Si'}, {'id': 20, 'value': 'Si'}, {'id': 21, 'value': 'Si'}, {'id': 22, 'value': 'Si'}, {'id': 23, 'value': 'Si'}, {'id': 24, 'value': 'Si'}, {'id': 25, 'value': 'Si'}, {'id': 26, 'value': 'Si'}, {'id': 27, 'value': 'Si'}, {'id': 28, 'value': 'Si'}, {'id': 29, 'value': 'Si'}, {'id': 30, 'value': 'Si'}, {'id': 31, 'value': 'Si'}], 'coordinates': [{'id': 0, 'value': [0.583333333, 0.958333333, 0.0125]}, {'id': 1, 'value': [0.583333333, 0.458333333, 0.0875]}, {'id': 2, 'value': [0.083333333, 0.458333333, 0.0125]}, {'id': 3, 'value': [0.083333333, 0.958333333, 0.0875]}, {'id': 4, 'value': [0.583333333, 0.458333333, 0.0125]}, {'id': 5, 'value': [0.583333333, 0.958333333, 0.0875]}, {'id': 6, 'value': [0.083333333, 0.958333333, 0.0125]}, {'id': 7, 'value': [0.083333333, 0.458333333, 0.0875]}, {'id': 8, 'value': [0.25, 0.625, 0.1125]}, {'id': 9, 'value': [0.25, 0.125, 0.1875]}, {'id': 10, 'value': [0.75, 0.125, 0.1125]}, {'id': 11, 'value': [0.75, 0.625, 0.1875]}, {'id': 12, 'value': [0.25, 0.125, 0.1125]}, {'id': 13, 'value': [0.25, 0.625, 0.1875]}, {'id': 14, 'value': [0.75, 0.625, 0.1125]}, {'id': 15, 'value': [0.75, 0.125, 0.1875]}, {'id': 16, 'value': [0.916666667, 0.291666667, 0.2125]}, {'id': 17, 'value': [0.916666667, 0.791666667, 0.2875]}, {'id': 18, 'value': [0.416666667, 0.791666667, 0.2125]}, {'id': 19, 'value': [0.416666667, 0.291666667, 0.2875]}, {'id': 20, 'value': [0.916666667, 0.791666667, 0.2125]}, {'id': 21, 'value': [0.916666667, 0.291666667, 0.2875]}, {'id': 22, 'value': [0.416666667, 0.291666667, 0.2125]}, {'id': 23, 'value': [0.416666667, 0.791666667, 0.2875]}, {'id': 24, 'value': [0.583333333, 0.958333333, 0.3125]}, {'id': 25, 'value': [0.583333333, 0.458333333, 0.3875]}, {'id': 26, 'value': [0.083333333, 0.458333333, 0.3125]}, {'id': 27, 'value': [0.083333333, 0.958333333, 0.3875]}, {'id': 28, 'value': [0.583333333, 0.458333333, 0.3125]}, {'id': 29, 'value': [0.583333333, 0.958333333, 0.3875]}, {'id': 30, 'value': [0.083333333, 0.958333333, 0.3125]}, {'id': 31, 'value': [0.083333333, 0.458333333, 0.3875]}], 'units': 'crystal', 'cell': [[7.734, 0.0, 0.0], [3.867, 6.697840473, 0.0], [0.0, 0.0, 31.573922786]], 'constraints': [], 'labels': []}, 'lattice': {'a': 7.734, 'b': 7.734, 'c': 31.573922786, 'alpha': 90.0, 'beta': 90.0, 'gamma': 60.0, 'units': {'length': 'angstrom', 'angle': 'degree'}, 'type': 'TRI', 'vectors': {'a': [7.734, 0.0, 0.0], 'b': [3.867, 6.697840473, 0.0], 'c': [0.0, 0.0, 31.573922786], 'alat': 1, 'units': 'angstrom'}}, 'isNonPeriodic': False, '_id': '', 'metadata': {'boundaryConditions': {'type': 'pbc', 'offset': 0}, 'build': {'termination': 'Si_P6/mmm_4', 'configuration': {'type': 'SlabConfiguration', 'bulk': {'name': 'Si8', 'basis': {'elements': [{'id': 0, 'value': 'Si'}, {'id': 1, 'value': 'Si'}, {'id': 2, 'value': 'Si'}, {'id': 3, 'value': 'Si'}, {'id': 4, 'value': 'Si'}, {'id': 5, 'value': 'Si'}, {'id': 6, 'value': 'Si'}, {'id': 7, 'value': 'Si'}], 'coordinates': [{'id': 0, 'value': [0.5, 0.0, 0.0]}, {'id': 1, 'value': [0.25, 0.25, 0.75]}, {'id': 2, 'value': [0.5, 0.5, 0.5]}, {'id': 3, 'value': [0.25, 0.75, 0.25]}, {'id': 4, 'value': [0.0, 0.0, 0.5]}, {'id': 5, 'value': [0.75, 0.25, 0.25]}, {'id': 6, 'value': [0.0, 0.5, 0.0]}, {'id': 7, 'value': [0.75, 0.75, 0.75]}], 'units': 'crystal', 'cell': [[5.468763846, 0.0, 0.0], [0.0, 5.468763846, 0.0], [0.0, 0.0, 5.468763846]], 'constraints': [], 'labels': []}, 'lattice': {'a': 5.468763846, 'b': 5.468763846, 'c': 5.468763846, 'alpha': 90.0, 'beta': 90.0, 'gamma': 90.0, 'units': {'length': 'angstrom', 'angle': 'degree'}, 'type': 'TRI', 'vectors': {'a': [5.468763846, 0.0, 0.0], 'b': [0.0, 5.468763846, 0.0], 'c': [0.0, 0.0, 5.468763846], 'alat': 1, 'units': 'angstrom'}}, 'isNonPeriodic': False, '_id': '', 'metadata': {'boundaryConditions': {'type': 'pbc', 'offset': 0}}, 'isUpdated': True}, 'miller_indices': (1, 1, 1), 'thickness': 4, 'vacuum': 6, 'xy_supercell_matrix': [[1, 0], [0, 1]], 'use_conventional_cell': True, 'use_orthogonal_z': True, 'make_primitive': False}}}, 'isUpdated': True}, 'number_of_added_layers': 1, 'defect_type': 'ISLAND', 'condition': {'type': 'CylinderCoordinateCondition', 'center_position': [0.625, 0.5], 'radius': 0.25, 'min_z': 0.0, 'max_z': 1.0}}}}}\n",
    "\n",
    "gh_test_material = Material(gh_test_material)\n",
    "gh_test_slab = Material(gh_test_slab)\n",
    "visualize([{\"material\": gh_test_slab, \"title\": \"Original material\"}, {\"material\": gh_test_material, \"title\": \"Material with island defect\"}])\n",
    "visualize([{\"material\": gh_test_slab, \"title\": \"Original material\"}, {\"material\": gh_test_material, \"title\": \"Material with island defect\"}], rotation=\"-90x\")\n"
   ],
   "id": "f88267e1da862e35",
   "outputs": [
    {
     "data": {
      "text/plain": [
       "GridBox(children=(VBox(children=(Label(value='Si32 - Original material - rotation: 0x,0y,0z', layout=Layout(al…"
      ],
      "application/vnd.jupyter.widget-view+json": {
       "version_major": 2,
       "version_minor": 0,
       "model_id": "18d9d1eced5746fc864bacdc2918fb70"
      }
     },
     "metadata": {},
     "output_type": "display_data"
    },
    {
     "data": {
      "text/plain": [
       "GridBox(children=(VBox(children=(Label(value='Si32 - Original material - rotation: -90x', layout=Layout(align_…"
      ],
      "application/vnd.jupyter.widget-view+json": {
       "version_major": 2,
       "version_minor": 0,
       "model_id": "72e621b113c54ac58201442909e2956c"
      }
     },
     "metadata": {},
     "output_type": "display_data"
    }
   ],
   "execution_count": 12
  },
  {
   "metadata": {
    "ExecuteTime": {
     "end_time": "2024-09-10T22:35:17.348635Z",
     "start_time": "2024-09-10T20:14:33.614506Z"
    }
   },
   "cell_type": "code",
   "source": [
    "from pymatgen.core.surface import SlabGenerator as PymatgenSlabGenerator\n",
    "from mat3ra.made.tools.convert import to_pymatgen, from_pymatgen\n",
    "clean_material = Material.create(Material.default_config)\n",
    "generator = PymatgenSlabGenerator(\n",
    "            initial_structure=to_pymatgen(clean_material),\n",
    "            miller_index=(0,0,1),\n",
    "            min_slab_size=3,\n",
    "            min_vacuum_size=1,\n",
    "            in_unit_planes=True,\n",
    "            reorient_lattice=True,\n",
    "            primitive=False\n",
    "        )\n",
    "raw_slabs = generator.get_slabs()\n",
    "material_slabs = [Material(from_pymatgen(slab)) for slab in raw_slabs]\n",
    "# material_slabs = [Material(from_pymatgen(slab.get_orthogonal_c_slab())) for slab in raw_slabs]\n",
    "visualize(material_slabs)\n",
    "visualize(material_slabs, rotation=\"-90x\")"
   ],
   "id": "4681f90b3e4b25e9",
   "outputs": [
    {
     "data": {
      "text/plain": [
       "GridBox(children=(VBox(children=(Label(value='Si6 - Material - rotation: 0x,0y,0z', layout=Layout(align_self='…"
      ],
      "application/vnd.jupyter.widget-view+json": {
       "version_major": 2,
       "version_minor": 0,
       "model_id": "51b526bde1ac459b8712a867d5307898"
      }
     },
     "metadata": {},
     "output_type": "display_data"
    },
    {
     "data": {
      "text/plain": [
       "GridBox(children=(VBox(children=(Label(value='Si6 - Material - rotation: -90x', layout=Layout(align_self='cent…"
      ],
      "application/vnd.jupyter.widget-view+json": {
       "version_major": 2,
       "version_minor": 0,
       "model_id": "11fabcd68bdb4cabb9848d3ba8b7d0e0"
      }
     },
     "metadata": {},
     "output_type": "display_data"
    }
   ],
   "execution_count": 25
  },
  {
   "metadata": {},
   "cell_type": "code",
   "outputs": [],
   "execution_count": null,
   "source": "",
   "id": "51909da14eeaf743"
  }
 ],
 "metadata": {
  "kernelspec": {
   "display_name": "Python 3",
   "language": "python",
   "name": "python3"
  },
  "language_info": {
   "codemirror_mode": {
    "name": "ipython",
    "version": 2
   },
   "file_extension": ".py",
   "mimetype": "text/x-python",
   "name": "python",
   "nbconvert_exporter": "python",
   "pygments_lexer": "ipython2",
   "version": "2.7.6"
  }
 },
 "nbformat": 4,
 "nbformat_minor": 5
}
