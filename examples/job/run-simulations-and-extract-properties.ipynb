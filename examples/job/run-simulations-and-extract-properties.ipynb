version https://git-lfs.github.com/spec/v1
oid sha256:180f0962462a6503c4182f20e1bd770595603d5e21b08bd2f4657d8d3ff35216
size 42162
