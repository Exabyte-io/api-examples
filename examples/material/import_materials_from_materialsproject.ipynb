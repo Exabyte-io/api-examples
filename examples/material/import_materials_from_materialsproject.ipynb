{
  "nbformat": 4,
  "nbformat_minor": 0,
  "metadata": {
    "kernelspec": {
      "display_name": "Python 3",
      "language": "python",
      "name": "python3"
    },
    "language_info": {
      "codemirror_mode": {
        "name": "ipython",
        "version": 3
      },
      "file_extension": ".py",
      "mimetype": "text/x-python",
      "name": "python",
      "nbconvert_exporter": "python",
      "pygments_lexer": "ipython3",
      "version": "3.8.6"
    },
    "colab": {
      "name": "import_materials_from_materialsproject.ipynb",
      "provenance": []
    }
  },
  "cells": [
    {
      "cell_type": "markdown",
      "metadata": {
        "id": "y_SM_JBc9vrV"
      },
      "source": [
        "<a href=\"https://colab.research.google.com/github/Exabyte-io/exabyte-api-examples/blob/feature/SOF-4618/examples/material/import_materials_from_materialsproject.ipynb\" target=\"_blank\">Open in Google Colab</a>"
      ]
    },
    {
      "cell_type": "markdown",
      "metadata": {
        "id": "amffxwKY9vrX"
      },
      "source": [
        "# Overview\n",
        "\n",
        "This example demonstrates how to import materials from the materials project database via [Material](https://docs.exabyte.io/api/Material/post_materials_import) endpoint."
      ]
    },
    {
      "cell_type": "markdown",
      "metadata": {
        "id": "c-nHvPSy9vrY"
      },
      "source": [
        "# Complete Authorization Form and Initialize Settings\n",
        "\n",
        "This will also determine environment and set all environment variables. We determine if we are using Jupyter Notebooks or Google Colab to run this tutorial.\n",
        "\n",
        "ACCOUNT_ID and AUTH_TOKEN - Authentication parameters needed for when making requests to [Exabyte.io's API Endpoints](https://docs.exabyte.io/rest-api/endpoints/).\n",
        "\n",
        "MATERIALS_PROJECT_API_KEY - Authentication parameter needed for when making requests to [Material Project's API](https://materialsproject.org/open)\n",
        "\n",
        "ORGANIZATION_ID - Authentication parameter needed for when working with collaborative accounts https://docs.exabyte.io/collaboration/organizations/overview/\n",
        "\n",
        "> <span style=\"color: orange\">**NOTE**</span>: If you are running this notebook from Jupyter, the variables ACCOUNT_ID, AUTH_TOKEN, MATERIALS_PROJECT_API_KEY, and ORGANIZATION_ID should be set in the file [settings.json](../settings.json) if you need to use these variables. To obtain API token parameters, please see the following link to the documentation explaining how to get them: https://docs.exabyte.io/accounts/ui/preferences/api/"
      ]
    },
    {
      "cell_type": "code",
      "metadata": {
        "cellView": "form",
        "id": "6KqWoLdv9vrY"
      },
      "source": [
        "#@title Authorization Form\n",
        "ACCOUNT_ID = \"ACCOUNT_ID\" #@param {type:\"string\"}\n",
        "AUTH_TOKEN = \"AUTH_TOKEN\" #@param {type:\"string\"}\n",
        "MATERIALS_PROJECT_API_KEY = \"MATERIALS_PROJECT_API_KEY\" #@param {type:\"string\"}\n",
        "ORGANIZATION_ID  = \"ORGANIZATION_ID\" #@param {type:\"string\"}\n",
        "import os, glob, sys, importlib, urllib.request\n",
        "\n",
        "# The below execution sets up runtime using code stored remotely in a url\n",
        "exec(urllib.request.urlopen('https://raw.githubusercontent.com/Exabyte-io/exabyte-api-examples/dev/examples/utils/initialize_settings.py').read())"
      ],
      "execution_count": null,
      "outputs": []
    },
    {
      "cell_type": "markdown",
      "metadata": {
        "id": "5wAnsWE-9vrZ"
      },
      "source": [
        "# Imports"
      ]
    },
    {
      "cell_type": "code",
      "metadata": {
        "id": "e9EGeIkg9vrZ"
      },
      "source": [
        "from utils.generic import display_JSON\n",
        "import settings; importlib.reload(settings)\n",
        "from settings import ENDPOINT_ARGS, MATERIALS_PROJECT_API_KEY\n",
        "\n",
        "from exabyte_api_client.endpoints.materials import MaterialEndpoints"
      ],
      "execution_count": null,
      "outputs": []
    },
    {
      "cell_type": "markdown",
      "metadata": {
        "id": "C2Dxa1qZ9vra"
      },
      "source": [
        "## Set Parameters\n",
        "\n",
        "- **MATERIALS_PROJECT_IDS**: a list of material IDs to be imported\n",
        "\n",
        "- **TAGS**: a list of [tags](https://docs.exabyte.io/entities-general/data/#tags) to assign to imported materials"
      ]
    },
    {
      "cell_type": "code",
      "metadata": {
        "id": "6xpZA6M_9vra"
      },
      "source": [
        "MATERIALS_PROJECT_IDS = [\"mp-978534\", \"mp-1096549\"]\n",
        "TAGS = [\"tag1\", \"tag2\"]"
      ],
      "execution_count": null,
      "outputs": []
    },
    {
      "cell_type": "markdown",
      "metadata": {
        "id": "11YzfvYk9vrb"
      },
      "source": [
        "## Import materials\n",
        "\n",
        "Initialize `MaterialEndpoints` class and call `import_from_materialsproject` function to import materials."
      ]
    },
    {
      "cell_type": "code",
      "metadata": {
        "id": "Ar05ANgq9vrb"
      },
      "source": [
        "endpoint = MaterialEndpoints(*ENDPOINT_ARGS)\n",
        "materials = endpoint.import_from_materialsproject(MATERIALS_PROJECT_API_KEY, MATERIALS_PROJECT_IDS, tags=TAGS)"
      ],
      "execution_count": null,
      "outputs": []
    },
    {
      "cell_type": "markdown",
      "metadata": {
        "id": "DPMW1MDy9vrc"
      },
      "source": [
        "## Print imported materials\n",
        "\n",
        "Print the list of imported materials in pretty JSON below."
      ]
    },
    {
      "cell_type": "code",
      "metadata": {
        "id": "n7WgbbkJ9vrc"
      },
      "source": [
        "display_JSON(materials)"
      ],
      "execution_count": null,
      "outputs": []
    }
  ]
}