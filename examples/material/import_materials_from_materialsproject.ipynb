version https://git-lfs.github.com/spec/v1
oid sha256:723edc8ddccbcb115f6604407523714e67eec0f2fad2245b4171c2718cc43dac
size 38157
