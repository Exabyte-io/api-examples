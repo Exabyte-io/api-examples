{
 "cells": [
  {
   "cell_type": "markdown",
   "id": "0",
   "metadata": {},
   "source": [
    "# Ripple perturbation of a graphene sheet.\n",
    "\n",
    "## 0. Introduction\n",
    "\n",
    "This notebook demonstrates how to recreate a material from the following manuscript:\n",
    "\n",
    "> Thompson-Flagg, R. C., Moura, M. J. B., & Marder, M.\n",
    "> Rippling of graphene. \n",
    "> EPL (Europhysics Letters), 85(4), 46002. 2009\n",
    "> [DOI: 10.1209/0295-5075/85/46002](https://doi.org/10.1209/0295-5075/85/46002)\n",
    "\n",
    "\n",
    "Recreating material from Fig. 1:\n",
    "\n",
    "<img src=\"https://github.com/Exabyte-io/documentation/raw/12617167278ae3523adc028583b21ea4e8ebd197/images/tutorials/materials/defects/perturbation_ripple_graphene/0-figure-from-manuscript.webp\" alt=\"Rippling of graphene\" width=\"400\"/>\n"
   ]
  },
  {
   "cell_type": "markdown",
   "id": "1",
   "metadata": {},
   "source": [
    "## 1. Prepare the Environment"
   ]
  },
  {
   "cell_type": "markdown",
   "id": "2",
   "metadata": {},
   "source": [
    "### 1.1. Install Packages\n",
    "The step executes only in Pyodide environment. For other environments, the packages should be installed via `pip install` (see [README](../../README.ipynb))."
   ]
  },
  {
   "cell_type": "code",
   "execution_count": null,
   "id": "3",
   "metadata": {},
   "outputs": [],
   "source": [
    "import sys\n",
    "\n",
    "if sys.platform == \"emscripten\":\n",
    "    import micropip\n",
    "\n",
    "    await micropip.install(\"mat3ra-api-examples\", deps=False)\n",
    "    await micropip.install('mat3ra-utils')\n",
    "    from mat3ra.utils.jupyterlite.packages import install_packages\n",
    "\n",
    "    await install_packages(\"specific_examples\")"
   ]
  },
  {
   "cell_type": "markdown",
   "id": "4",
   "metadata": {},
   "source": [
    "### 1.2. Set Nanoribbon and Perturbation Parameters"
   ]
  },
  {
   "cell_type": "code",
   "execution_count": null,
   "id": "5",
   "metadata": {},
   "outputs": [],
   "source": [
    "# Set whether to preserve geodesic distance and scale the cell accordingly to match PBC\n",
    "PRESERVE_GEODESIC_DISTANCE = False\n",
    "\n",
    "NANORIBBON_SIZE_X = 10  # in unit cells, lateral width and length of the nanoribbon\n",
    "NANORIBBON_SIZE_Y = 40  # in unit cells, lateral width and length of the nanoribbon\n",
    "VACUUM_SIZE = 10  # in unit cells, lateral width and length of the vacuum region\n",
    "\n",
    "# Set whether to use Cartesian coordinates for the perturbation function\n",
    "USE_CARTESIAN_COORDINATES = False\n",
    "MATERIAL_NAME = \"Graphene\""
   ]
  },
  {
   "cell_type": "markdown",
   "id": "6",
   "metadata": {},
   "source": [
    "### 1.3. Define Custom Perturbation Function\n",
    "Provide a [SymPy](https://docs.sympy.org/latest/tutorials/intro-tutorial/intro.html) expression for the perturbation function. The expression should be a function of `x`, `y` and `z` variables."
   ]
  },
  {
   "cell_type": "code",
   "execution_count": null,
   "id": "7",
   "metadata": {},
   "outputs": [],
   "source": [
    "import sympy as sp\n",
    "\n",
    "# Variables for the perturbation function (for SymPy)\n",
    "variable_names = [\"x\", \"y\", \"z\"]\n",
    "x, y, z = sp.symbols(variable_names)\n",
    "\n",
    "# Set the parameters for the perturbation function\n",
    "AMPLITUDE = 0.09  # Ripple amplitude\n",
    "WAVELENGTH = 0.2  # Wavelength of ripples\n",
    "EDGE_WIDTH = 0.25  # Width of edge effect\n",
    "PHASE_X = 0.0  # Phase shift for x direction\n",
    "PHASE_Y = sp.pi / 2  # Phase shift for y direction\n",
    "\n",
    "# Create edge masks for both x and y using polynomial functions\n",
    "left_edge_x = sp.Max(0, (EDGE_WIDTH - x) / EDGE_WIDTH)\n",
    "right_edge_x = sp.Max(0, (x - (1 - EDGE_WIDTH)) / EDGE_WIDTH)\n",
    "left_edge_y = sp.Max(0, (EDGE_WIDTH - y) / EDGE_WIDTH)\n",
    "right_edge_y = sp.Max(0, (y - (1 - EDGE_WIDTH)) / EDGE_WIDTH)\n",
    "\n",
    "# Combine edge masks\n",
    "edge_mask_x = left_edge_x + right_edge_x\n",
    "edge_mask_y = left_edge_y + right_edge_y\n",
    "edge_mask = edge_mask_x + edge_mask_y\n",
    "\n",
    "# Wave pattern\n",
    "wave_pattern = (\n",
    "        sp.sin(2 * sp.pi * x / WAVELENGTH + PHASE_X) *\n",
    "        sp.sin(2 * sp.pi * y / WAVELENGTH + PHASE_Y)\n",
    ")\n",
    "\n",
    "# Combine waves with edge mask\n",
    "custom_sympy_function = AMPLITUDE * wave_pattern * edge_mask"
   ]
  },
  {
   "cell_type": "markdown",
   "id": "8",
   "metadata": {},
   "source": [
    "### 1.4. Get input materials"
   ]
  },
  {
   "cell_type": "code",
   "execution_count": null,
   "id": "9",
   "metadata": {},
   "outputs": [],
   "source": [
    "from mat3ra.standata.materials import Materials\n",
    "from mat3ra.made.material import Material\n",
    "\n",
    "material = Material.create(Materials.get_by_name_first_match(MATERIAL_NAME))"
   ]
  },
  {
   "cell_type": "markdown",
   "id": "10",
   "metadata": {},
   "source": [
    "### 1.5. Create and preview Nanoribbon"
   ]
  },
  {
   "cell_type": "code",
   "execution_count": null,
   "id": "11",
   "metadata": {},
   "outputs": [],
   "source": [
    "from mat3ra.made.tools.helpers import create_nanoribbon\n",
    "from utils.visualize import visualize_materials as visualize\n",
    "\n",
    "supercell = create_nanoribbon(\n",
    "    material=material,\n",
    "    width=NANORIBBON_SIZE_Y,\n",
    "    length=NANORIBBON_SIZE_X,\n",
    "    vacuum_width=VACUUM_SIZE,\n",
    "    vacuum_length=VACUUM_SIZE,\n",
    ")\n",
    "visualize(supercell, repetitions=[1, 1, 1], rotation=\"0x\")"
   ]
  },
  {
   "cell_type": "markdown",
   "id": "12",
   "metadata": {},
   "source": [
    "## 2. Create a target material\n",
    "### 2.1. Set custom perturbation parameters\n"
   ]
  },
  {
   "cell_type": "code",
   "execution_count": null,
   "id": "13",
   "metadata": {},
   "outputs": [],
   "source": [
    "from mat3ra.made.tools.helpers import PerturbationFunctionHolder\n",
    "from mat3ra.made.tools.helpers import PerturbationFunctionHolder\n",
    "\n",
    "custom_perturbation_function = PerturbationFunctionHolder(\n",
    "    function=custom_sympy_function,\n",
    "    variable_names=variable_names,\n",
    "    use_cartesian_coordinates=USE_CARTESIAN_COORDINATES\n",
    ")\n"
   ]
  },
  {
   "cell_type": "markdown",
   "id": "14",
   "metadata": {},
   "source": [
    "### 2.2. Apply perturbation to the material"
   ]
  },
  {
   "cell_type": "code",
   "execution_count": null,
   "id": "15",
   "metadata": {},
   "outputs": [],
   "source": [
    "from mat3ra.made.tools.helpers import create_perturbation\n",
    "\n",
    "material_with_custom_perturbation = create_perturbation(material=supercell,\n",
    "                                                        perturbation_function=custom_sympy_function, use_cartesian_coordinates=USE_CARTESIAN_COORDINATES)"
   ]
  },
  {
   "cell_type": "markdown",
   "id": "16",
   "metadata": {},
   "source": [
    "### 3. Visualize the Material"
   ]
  },
  {
   "cell_type": "code",
   "execution_count": null,
   "id": "17",
   "metadata": {},
   "outputs": [],
   "source": [
    "visualize(material_with_custom_perturbation, viewer=\"wave\")"
   ]
  },
  {
   "cell_type": "markdown",
   "id": "18",
   "metadata": {},
   "source": [
    "## 4. Pass data to the outside runtime"
   ]
  },
  {
   "cell_type": "code",
   "execution_count": null,
   "id": "19",
   "metadata": {},
   "outputs": [],
   "source": [
    "from utils.jupyterlite import download_content_to_file, set_materials\n",
    "\n",
    "set_materials(material_with_custom_perturbation)\n",
    "download_content_to_file(material_with_custom_perturbation.to_json(), f\"{MATERIAL_NAME}_edge_perturbation.json\")"
   ]
  }
 ],
 "metadata": {
  "kernelspec": {
   "display_name": "Python 3",
   "language": "python",
   "name": "python3"
  },
  "language_info": {
   "codemirror_mode": {
    "name": "ipython",
    "version": 2
   },
   "file_extension": ".py",
   "mimetype": "text/x-python",
   "name": "python",
   "nbconvert_exporter": "python",
   "pygments_lexer": "ipython2",
   "version": "2.7.6"
  }
 },
 "nbformat": 4,
 "nbformat_minor": 5
}
