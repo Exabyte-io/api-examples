{
 "cells": [
  {
   "cell_type": "markdown",
   "metadata": {},
   "source": [
    "# Create an interface between two materials with minimal strain\n",
    "\n",
    "Use Zur and McGill superlattices matching [algorithm](https://doi.org/10.1063/1.3330840) to create interfaces between two materials using the Pymatgen [implementation](https://pymatgen.org/pymatgen.analysis.interfaces.html#pymatgen.analysis.interfaces.zsl).\n",
    "\n",
    "<h2 style=\"color:green\">Usage</h2>\n",
    "\n",
    "1. Make sure to select Input Materials\n",
    "2. Set Interface Parameters (e.g. `distance_z`, `max_area`, `miller_indices`) below or use the default values\n",
    "3. Additionally, specify whether termination is selected using interactive prompt, or the via the variable in the code.\n",
    "3. Click \"Run\" > \"Run All Cells\" to run all cells\n",
    "4. Wait for the run to complete (depending on the area, it can take 1-2 min or more). Scroll down to view cell results.\n",
    "5. Review the strain plot and modify its parameters as needed\n",
    "\n",
    "## Methodology\n",
    "\n",
    "The following happens in the script below:\n",
    "\n",
    "1. Create slabs for each input material. The materials data is passed in from and back to the web application according to this description (TBA).\n",
    "   We assume that two input materials are either in bulk form (e.g. Ni crystal) or layered (e.g. graphene). \n",
    "   \n",
    "   We construct the interface along the Z-axis. The material corresponding to the bottom of the interface is referred to as the \"**substrate**\", and the top - as the \"**layer**\". \n",
    "\n",
    "2. Perform strain matching on the slabs to extract the supercell dimensions. The algorithm has a set of parameters, such as the maximum area considered, that can be configured by editing the cells below.\n",
    "\n",
    "3. When the strain matching is finished, the interface with the lowest strain (and the smallest number of atoms) is selected. We create the corresponding supercells and place them at a specified distance from each other (note no shift is performed currently).\n"
   ]
  },
  {
   "cell_type": "markdown",
   "source": [
    "## 1. Prepare the Environment\n",
    "### 1.1. Set up the notebook \n",
    "\n",
    "Set the following flags to control the notebook behavior "
   ],
   "metadata": {
    "collapsed": false
   }
  },
  {
   "cell_type": "code",
   "outputs": [],
   "source": [
    "IS_TERMINATIONS_SELECTION_INTERACTIVE = False # Enable interactive selection of terminations via UI prompt"
   ],
   "metadata": {
    "collapsed": false,
    "ExecuteTime": {
     "end_time": "2024-05-29T03:38:49.775190Z",
     "start_time": "2024-05-29T03:38:49.769120Z"
    }
   },
   "execution_count": 1
  },
  {
   "cell_type": "markdown",
   "source": [
    "## 1. Install Packages\n",
    "The step executes only in Pyodide environment. For other environments, the packages should be installed via `pip install` as directed in README."
   ],
   "metadata": {
    "collapsed": false
   }
  },
  {
   "cell_type": "code",
   "outputs": [],
   "source": [
    "import sys\n",
    "\n",
    "if sys.platform == \"emscripten\":\n",
    "    import micropip\n",
    "    await micropip.install('mat3ra-api-examples', deps=False)\n",
    "    from utils.jupyterlite import install_packages\n",
    "    await install_packages(\"create_interface_with_min_strain_zsl.ipynb\", \"../../config.yml\")"
   ],
   "metadata": {
    "collapsed": false,
    "ExecuteTime": {
     "end_time": "2024-05-29T03:38:49.784894Z",
     "start_time": "2024-05-29T03:38:49.781906Z"
    }
   },
   "execution_count": 2
  },
  {
   "cell_type": "markdown",
   "source": [
    "## 3. Load input Materials\n"
   ],
   "metadata": {}
  },
  {
   "cell_type": "code",
   "outputs": [
    {
     "name": "stdout",
     "output_type": "stream",
     "text": [
      "Data from 0-Ni has been read successfully.\n",
      "Data from 1-Graphene has been read successfully.\n",
      "Data from 2-WS2 has been read successfully.\n",
      "Data from 3-BN has been read successfully.\n",
      "Data from 4-Te2Mo has been read successfully.\n",
      "Data from 5-HfO2 has been read successfully.\n",
      "Data from Hf12 C2 O24, Interface has been read successfully.\n",
      "Data from Ni3 C2, Interface has been read successfully.\n"
     ]
    }
   ],
   "source": [
    "from mat3ra.made.material import Material\n",
    "from utils.jupyterlite import get_data\n",
    "\n",
    "from utils.visualize import visualize_materials as visualize\n",
    "\n",
    "# Get the list of input materials and load them into `materials_in` variable\n",
    "get_data(\"materials_in\", globals())\n",
    "materials = list(map(Material, globals()[\"materials_in\"]))\n",
    "substrate = materials[0]\n",
    "film = materials[1]"
   ],
   "metadata": {
    "collapsed": false,
    "ExecuteTime": {
     "end_time": "2024-05-29T03:38:53.895224Z",
     "start_time": "2024-05-29T03:38:49.786674Z"
    }
   },
   "execution_count": 3
  },
  {
   "cell_type": "markdown",
   "source": [
    "### 1.4. Visualize Substrate and Film"
   ],
   "metadata": {
    "collapsed": false
   }
  },
  {
   "cell_type": "code",
   "outputs": [
    {
     "data": {
      "text/plain": "GridBox(children=(VBox(children=(Label(value='Ni - Material', layout=Layout(align_self='center', height='30px'…",
      "application/vnd.jupyter.widget-view+json": {
       "version_major": 2,
       "version_minor": 0,
       "model_id": "23769e5c51374b2e968a2bfdab68cd44"
      }
     },
     "metadata": {},
     "output_type": "display_data"
    }
   ],
   "source": [
    "from utils.visualize import visualize_materials as visualize\n",
    "visualize([substrate, film], repetitions=[3, 3, 1], rotation=\"0x\")"
   ],
   "metadata": {
    "collapsed": false,
    "ExecuteTime": {
     "end_time": "2024-05-29T03:38:54.231072Z",
     "start_time": "2024-05-29T03:38:53.897329Z"
    }
   },
   "execution_count": 4
  },
  {
   "cell_type": "markdown",
   "source": [
    "## 2. Set Interface Parameters\n",
    "\n",
    "### 2.1. Set Substrate and Layer Parameters \n",
    "Imported `InterfaceSettings` is a class that specifies the parameters for the construction of the interface. The default values are assumed if properties are not set during the initialization.\n",
    "Additionally, specify if the termination selection is done using interactive prompt, or the via selecting the termination index in the code."
   ],
   "metadata": {}
  },
  {
   "cell_type": "code",
   "outputs": [
    {
     "name": "stdout",
     "output_type": "stream",
     "text": [
      "Substrate terminations: ['Ni_P4/mmm_1']\n",
      "Film terminations: ['C_P6/mmm_2']\n"
     ]
    }
   ],
   "source": [
    "from mat3ra.made.tools.build.slab import SlabConfiguration\n",
    "\n",
    "substrate_slab_configuration = SlabConfiguration(\n",
    "    bulk=substrate,\n",
    "    # the Miller indices of the interfacial plane of the substrate\n",
    "    miller_indices=(0,0,1),\n",
    "    thickness=3,\n",
    "    vacuum=3,\n",
    "    xy_supercell_matrix=[[1, 0], [0, 1]],\n",
    "    use_orthogonal_z=True\n",
    ")\n",
    "\n",
    "film_slab_configuration = SlabConfiguration(\n",
    "    bulk=film,\n",
    "    # the Miller indices of the interfacial plane of the layer\n",
    "    miller_indices=(0, 0, 1),\n",
    "    thickness=1,\n",
    "    vacuum=1,\n",
    "    xy_supercell_matrix=[[1, 0], [0, 1]],\n",
    "    use_orthogonal_z=True\n",
    ")\n",
    "\n",
    "substrate_slab_terminations = substrate_slab_configuration.terminations\n",
    "film_slab_terminations = film_slab_configuration.terminations\n",
    "\n",
    "print(f\"Substrate terminations: {substrate_slab_terminations}\")\n",
    "print(f\"Film terminations: {film_slab_terminations}\")"
   ],
   "metadata": {
    "ExecuteTime": {
     "end_time": "2024-05-29T03:38:54.341849Z",
     "start_time": "2024-05-29T03:38:54.233153Z"
    }
   },
   "execution_count": 5
  },
  {
   "cell_type": "markdown",
   "source": [
    "### 2.2. Visualize slabs for possible terminations"
   ],
   "metadata": {
    "collapsed": false
   }
  },
  {
   "cell_type": "code",
   "outputs": [
    {
     "data": {
      "text/plain": "GridBox(children=(VBox(children=(Label(value='Ni6 - Termination: Ni_P4/mmm_1', layout=Layout(align_self='cente…",
      "application/vnd.jupyter.widget-view+json": {
       "version_major": 2,
       "version_minor": 0,
       "model_id": "df6d876707f142f5b6a7b92499218910"
      }
     },
     "metadata": {},
     "output_type": "display_data"
    },
    {
     "data": {
      "text/plain": "GridBox(children=(VBox(children=(Label(value='C2 - Termination: C_P6/mmm_2', layout=Layout(align_self='center'…",
      "application/vnd.jupyter.widget-view+json": {
       "version_major": 2,
       "version_minor": 0,
       "model_id": "5c36bb29f62a481d999a9a5358c46d81"
      }
     },
     "metadata": {},
     "output_type": "display_data"
    }
   ],
   "source": [
    "for termination in substrate_slab_terminations:\n",
    "    visualize(substrate_slab_configuration.get_material(termination=termination), repetitions=[3, 3, 1], rotation=\"-90x\", title=f\"Termination: {termination}\")\n",
    "    \n",
    "for termination in film_slab_terminations:\n",
    "    visualize(film_slab_configuration.get_material(termination=termination), repetitions=[3, 3, 1], rotation=\"-90x\", title=f\"Termination: {termination}\")\n",
    "    "
   ],
   "metadata": {
    "collapsed": false,
    "ExecuteTime": {
     "end_time": "2024-05-29T03:38:54.563763Z",
     "start_time": "2024-05-29T03:38:54.344622Z"
    }
   },
   "execution_count": 6
  },
  {
   "cell_type": "markdown",
   "source": [
    "### 2.3. Select the termination pair for the interface\n",
    "Select termination that will be facing interfacial plane for substrate and film"
   ],
   "metadata": {
    "collapsed": false
   }
  },
  {
   "cell_type": "code",
   "outputs": [
    {
     "name": "stdout",
     "output_type": "stream",
     "text": [
      "('C_P6/mmm_2', 'Ni_P4/mmm_1')\n"
     ]
    }
   ],
   "source": [
    "from utils.io import ui_prompt_select_array_element_by_index, ui_prompt_select_array_element_by_index_pyodide\n",
    "\n",
    "substrate_termination = substrate_slab_terminations[0]\n",
    "film_termination = film_slab_terminations[0]\n",
    "\n",
    "if IS_TERMINATIONS_SELECTION_INTERACTIVE:\n",
    "    if sys.platform == \"emscripten\":\n",
    "        substrate_termination = await ui_prompt_select_array_element_by_index_pyodide(substrate_slab_terminations, element_name=\"substrate termination\")\n",
    "        film_termination = await ui_prompt_select_array_element_by_index_pyodide(film_slab_terminations, element_name=\"film termination\")\n",
    "    else:\n",
    "        substrate_termination = ui_prompt_select_array_element_by_index(substrate_slab_terminations, element_name=\"substrate termination\")\n",
    "        film_termination = ui_prompt_select_array_element_by_index(film_slab_terminations, element_name=\"film termination\")\n",
    "\n",
    "termination_pair = (film_termination, substrate_termination)\n",
    "print(termination_pair)\n",
    "# termination_pair = ('C_P6/mmm_2', 'Ni_R-3m_1')"
   ],
   "metadata": {
    "collapsed": false,
    "ExecuteTime": {
     "end_time": "2024-05-29T03:38:54.576857Z",
     "start_time": "2024-05-29T03:38:54.565781Z"
    }
   },
   "execution_count": 7
  },
  {
   "cell_type": "markdown",
   "source": [
    "### 2.2. Set Strain Matching Algorithm Parameters (Optional)\n",
    "The search algorithm for supercells matching can be tuned by setting its parameters directly, otherwise the default values are used."
   ],
   "metadata": {
    "collapsed": false
   }
  },
  {
   "cell_type": "code",
   "outputs": [],
   "source": [
    "from mat3ra.made.tools.build.interface import ZSLStrainMatchingParameters\n",
    "zsl_strain_matching_parameters = ZSLStrainMatchingParameters()"
   ],
   "metadata": {
    "collapsed": false,
    "ExecuteTime": {
     "end_time": "2024-05-29T03:38:54.594459Z",
     "start_time": "2024-05-29T03:38:54.578718Z"
    }
   },
   "execution_count": 8
  },
  {
   "cell_type": "markdown",
   "source": [
    "## 4. Create interfaces\n",
    "\n",
    "### 4.1. Initialize the interface builder\n",
    "\n",
    "Initialize the interface builder with the materials and interface settings."
   ],
   "metadata": {
    "collapsed": false
   }
  },
  {
   "cell_type": "code",
   "outputs": [
    {
     "name": "stdout",
     "output_type": "stream",
     "text": [
      "[<mat3ra.made.material.Material object at 0x139ca61d0>, <mat3ra.made.material.Material object at 0x13a239f50>, <mat3ra.made.material.Material object at 0x13a268910>, <mat3ra.made.material.Material object at 0x13a6b4810>, <mat3ra.made.material.Material object at 0x1378076d0>, <mat3ra.made.material.Material object at 0x13a640bd0>]\n"
     ]
    }
   ],
   "source": [
    "from mat3ra.made.tools.build.interface import InterfaceConfiguration, ZSLInterfaceBuilder\n",
    "\n",
    "interface_configuration = InterfaceConfiguration(substrate_slab_configuration, film_slab_configuration, termination_pair, distance_z=3.0, vacuum=5.0)\n",
    "\n",
    "matched_interfaces_builder = ZSLInterfaceBuilder(strain_matching_parameters=zsl_strain_matching_parameters)\n",
    "\n",
    "interfaces = matched_interfaces_builder.get_materials(configuration=interface_configuration)\n",
    "\n",
    "interfaces = list(interfaces)\n",
    "print(interfaces)"
   ],
   "metadata": {
    "collapsed": false,
    "ExecuteTime": {
     "end_time": "2024-05-29T03:39:45.340519Z",
     "start_time": "2024-05-29T03:39:45.218379Z"
    }
   },
   "execution_count": 11
  },
  {
   "cell_type": "markdown",
   "source": [
    "### 4.4. Print out interface with the lowest strain for selected termination"
   ],
   "metadata": {
    "collapsed": false
   }
  },
  {
   "cell_type": "code",
   "outputs": [
    {
     "name": "stdout",
     "output_type": "stream",
     "text": [
      "Interface with lowest strain for termination ('C_P6/mmm_2', 'Ni_P4/mmm_1') (index 0):\n"
     ]
    }
   ],
   "source": [
    "print(f\"Interface with lowest strain for termination {termination_pair} (index 0):\")\n",
    "first_interface = interfaces[0]\n",
    "# print(f\"    strain: {first_interface.get_mean_abs_strain() * 100:.3f}%\")\n",
    "# print(\"    number of atoms:\", first_interface.num_sites)"
   ],
   "metadata": {
    "collapsed": false,
    "ExecuteTime": {
     "end_time": "2024-05-29T03:40:20.382685Z",
     "start_time": "2024-05-29T03:40:20.379268Z"
    }
   },
   "execution_count": 14
  },
  {
   "cell_type": "markdown",
   "source": [
    "## 5. Plot the results\n",
    "\n",
    "Plot the number of atoms vs strain. Adjust the parameters as needed.\n"
   ],
   "metadata": {
    "collapsed": false
   }
  },
  {
   "cell_type": "code",
   "outputs": [
    {
     "ename": "ImportError",
     "evalue": "cannot import name 'InterfaceDataHolder' from 'mat3ra.made.tools.build.interface' (/Users/mat3ra/code/GREEN/api-examples/.venv/lib/python3.11/site-packages/mat3ra/made/tools/build/interface.py)",
     "output_type": "error",
     "traceback": [
      "\u001B[0;31m---------------------------------------------------------------------------\u001B[0m",
      "\u001B[0;31mImportError\u001B[0m                               Traceback (most recent call last)",
      "Cell \u001B[0;32mIn[16], line 1\u001B[0m\n\u001B[0;32m----> 1\u001B[0m \u001B[38;5;28;01mfrom\u001B[39;00m \u001B[38;5;21;01mutils\u001B[39;00m\u001B[38;5;21;01m.\u001B[39;00m\u001B[38;5;21;01mplot\u001B[39;00m \u001B[38;5;28;01mimport\u001B[39;00m plot_strain_vs_atoms\n\u001B[1;32m      3\u001B[0m PLOT_SETTINGS \u001B[38;5;241m=\u001B[39m {\n\u001B[1;32m      4\u001B[0m     \u001B[38;5;124m\"\u001B[39m\u001B[38;5;124mHEIGHT\u001B[39m\u001B[38;5;124m\"\u001B[39m: \u001B[38;5;241m600\u001B[39m,\n\u001B[1;32m      5\u001B[0m     \u001B[38;5;124m\"\u001B[39m\u001B[38;5;124mX_SCALE\u001B[39m\u001B[38;5;124m\"\u001B[39m: \u001B[38;5;124m\"\u001B[39m\u001B[38;5;124mlog\u001B[39m\u001B[38;5;124m\"\u001B[39m,  \u001B[38;5;66;03m# or linear\u001B[39;00m\n\u001B[1;32m      6\u001B[0m     \u001B[38;5;124m\"\u001B[39m\u001B[38;5;124mY_SCALE\u001B[39m\u001B[38;5;124m\"\u001B[39m: \u001B[38;5;124m\"\u001B[39m\u001B[38;5;124mlog\u001B[39m\u001B[38;5;124m\"\u001B[39m,  \u001B[38;5;66;03m# or linear\u001B[39;00m\n\u001B[1;32m      7\u001B[0m }\n\u001B[1;32m      9\u001B[0m plot_strain_vs_atoms(interfaces, PLOT_SETTINGS)\n",
      "File \u001B[0;32m~/code/GREEN/api-examples/utils/plot.py:4\u001B[0m\n\u001B[1;32m      1\u001B[0m \u001B[38;5;28;01mfrom\u001B[39;00m \u001B[38;5;21;01mtyping\u001B[39;00m \u001B[38;5;28;01mimport\u001B[39;00m Dict, Union\n\u001B[1;32m      3\u001B[0m \u001B[38;5;28;01mimport\u001B[39;00m \u001B[38;5;21;01mplotly\u001B[39;00m\u001B[38;5;21;01m.\u001B[39;00m\u001B[38;5;21;01mgraph_objs\u001B[39;00m \u001B[38;5;28;01mas\u001B[39;00m \u001B[38;5;21;01mgo\u001B[39;00m\n\u001B[0;32m----> 4\u001B[0m \u001B[38;5;28;01mfrom\u001B[39;00m \u001B[38;5;21;01mmat3ra\u001B[39;00m\u001B[38;5;21;01m.\u001B[39;00m\u001B[38;5;21;01mmade\u001B[39;00m\u001B[38;5;21;01m.\u001B[39;00m\u001B[38;5;21;01mtools\u001B[39;00m\u001B[38;5;21;01m.\u001B[39;00m\u001B[38;5;21;01mbuild\u001B[39;00m\u001B[38;5;21;01m.\u001B[39;00m\u001B[38;5;21;01minterface\u001B[39;00m \u001B[38;5;28;01mimport\u001B[39;00m InterfaceDataHolder, StrainModes\n\u001B[1;32m      7\u001B[0m \u001B[38;5;28;01mdef\u001B[39;00m \u001B[38;5;21mplot_strain_vs_atoms\u001B[39m(interface_data_holder: InterfaceDataHolder, settings: Dict[\u001B[38;5;28mstr\u001B[39m, Union[\u001B[38;5;28mstr\u001B[39m, \u001B[38;5;28mint\u001B[39m]]):\n\u001B[1;32m      8\u001B[0m \u001B[38;5;250m    \u001B[39m\u001B[38;5;124;03m\"\"\"\u001B[39;00m\n\u001B[1;32m      9\u001B[0m \u001B[38;5;124;03m    Plot the strain vs the number of atoms for each interface.\u001B[39;00m\n\u001B[1;32m     10\u001B[0m \u001B[38;5;124;03m    Allows for visual inspection to find the most optimal interface for current task.\u001B[39;00m\n\u001B[0;32m   (...)\u001B[0m\n\u001B[1;32m     13\u001B[0m \u001B[38;5;124;03m        settings (Dict[str, Union[str, int]]): The settings for the plot.\u001B[39;00m\n\u001B[1;32m     14\u001B[0m \u001B[38;5;124;03m    \"\"\"\u001B[39;00m\n",
      "\u001B[0;31mImportError\u001B[0m: cannot import name 'InterfaceDataHolder' from 'mat3ra.made.tools.build.interface' (/Users/mat3ra/code/GREEN/api-examples/.venv/lib/python3.11/site-packages/mat3ra/made/tools/build/interface.py)"
     ]
    }
   ],
   "source": [
    "from utils.plot import plot_strain_vs_atoms\n",
    "\n",
    "PLOT_SETTINGS = {\n",
    "    \"HEIGHT\": 600,\n",
    "    \"X_SCALE\": \"log\",  # or linear\n",
    "    \"Y_SCALE\": \"log\",  # or linear\n",
    "}\n",
    "\n",
    "plot_strain_vs_atoms(interfaces, PLOT_SETTINGS)"
   ],
   "metadata": {
    "collapsed": false,
    "ExecuteTime": {
     "end_time": "2024-05-29T03:40:34.490201Z",
     "start_time": "2024-05-29T03:40:34.454663Z"
    }
   },
   "execution_count": 16
  },
  {
   "cell_type": "markdown",
   "source": [
    "## 6. Select the interface to pass outside this kernel\n",
    "\n",
    "### 6.1. Select the interface with the desired termination and strain\n",
    "\n",
    "Select the index for termination first, and for it - the index in the list of corresponding interfaces sorted by strain (index 0 has minimum strain)."
   ],
   "metadata": {
    "collapsed": false
   }
  },
  {
   "cell_type": "code",
   "outputs": [],
   "source": [
    "# Could be either the termination as tuple, e.g. `('Ni_P6/mmm_1', 'C_C2/m_2')` or its index: `0`\n",
    "termination_or_its_index = selected_termination\n",
    "# select the first interface with the lowest strain and the smallest number of atoms\n",
    "interfaces_slice_range_or_index = slice(0, 1)\n",
    "selected_interfaces = interface_data_holder.get_interfaces_as_materials(termination_or_its_index, interfaces_slice_range_or_index)"
   ],
   "metadata": {
    "collapsed": false
   },
   "execution_count": null
  },
  {
   "cell_type": "markdown",
   "source": [
    "### 6.2. Visualize the selected interface(s)"
   ],
   "metadata": {
    "collapsed": false
   }
  },
  {
   "cell_type": "code",
   "outputs": [],
   "source": [
    "visualize(selected_interfaces, repetitions=[1, 1, 1], rotation=\"0x\")"
   ],
   "metadata": {
    "collapsed": false
   },
   "execution_count": null
  },
  {
   "cell_type": "markdown",
   "metadata": {},
   "source": [
    "### 6.3. Pass data to the outside runtime\n",
    "Enrich the selected interfaces names with the strain values and pass them to the application runtime."
   ]
  },
  {
   "cell_type": "code",
   "execution_count": null,
   "metadata": {},
   "outputs": [],
   "source": [
    "from utils.jupyterlite import set_data\n",
    "\n",
    "for interface in selected_interfaces:\n",
    "    if \"Interface, Strain:\" not in interface[\"name\"]:\n",
    "        interface[\"name\"] = f'{interface[\"name\"]}, Interface, Strain:{interface[\"metadata\"][\"interface_properties\"][\"mean_abs_strain\"]*100:.3f}%'\n",
    "\n",
    "set_data(\"materials\", selected_interfaces)"
   ]
  }
 ],
 "metadata": {
  "kernelspec": {
   "display_name": ".venv",
   "language": "python",
   "name": "python3"
  },
  "language_info": {
   "codemirror_mode": {
    "name": "ipython",
    "version": 3
   },
   "file_extension": ".py",
   "mimetype": "text/x-python",
   "name": "python",
   "nbconvert_exporter": "python",
   "pygments_lexer": "ipython3",
   "version": "3.10.12"
  },
  "widgets": {
   "application/vnd.jupyter.widget-state+json": {
    "state": {},
    "version_major": 2,
    "version_minor": 0
   }
  }
 },
 "nbformat": 4,
 "nbformat_minor": 4
}
