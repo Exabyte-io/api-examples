{
 "cells": [
  {
   "cell_type": "markdown",
   "source": [
    "# Nanoclusters of Gold\n",
    "\n",
    "## 0. Introduction\n",
    "\n",
    "This notebook demonstrates creation of Gold nanoclusters with cuboctahedral and icosahedral shapes. The notebook is based on the following publication:\n",
    "\n",
    "\n",
    "> **A. H. Larsen, J. Kleis, K. S. Thygesen, J. K. Nørskov, and K. W. Jacobsen**,\n",
    "> \"Electronic shell structure and chemisorption on gold nanoparticles\",\n",
    "> *Phys. Rev. B 84, 245429 (2011)*,\n",
    "> [DOI: 10.1103/PhysRevB.84.245429](https://doi.org/10.1103/PhysRevB.84.245429)\n",
    "> \n",
    "\n",
    "In this notebook we will reproduce material from FIG. 2:\n",
    "![Fig 2.]()\n"
   ],
   "metadata": {
    "collapsed": false
   },
   "id": "f2e1e795020d7b3f"
  },
  {
   "cell_type": "markdown",
   "source": [
    "## 1. Prepare the Environment\n"
   ],
   "metadata": {
    "collapsed": false
   },
   "id": "5e43ff288847b784"
  },
  {
   "cell_type": "markdown",
   "source": [
    "### 1.1. Install Packages\n",
    "The step executes only in Pyodide environment. For other environments, the packages should be installed via `pip install` (see [README](../../README.ipynb))."
   ],
   "metadata": {
    "collapsed": false
   },
   "id": "9adf37a8d2620dc4"
  },
  {
   "cell_type": "code",
   "outputs": [],
   "source": [
    "import sys\n",
    "\n",
    "if sys.platform == \"emscripten\":\n",
    "    import micropip\n",
    "\n",
    "    await micropip.install('mat3ra-api-examples', deps=False)\n",
    "    from utils.jupyterlite import install_packages\n",
    "\n",
    "    await install_packages(\"create_cluster_custom_shape.ipynb\")"
   ],
   "metadata": {
    "collapsed": false,
    "ExecuteTime": {
     "end_time": "2024-12-13T03:40:14.711341Z",
     "start_time": "2024-12-13T03:40:14.708223Z"
    }
   },
   "id": "d9e6be14343d00a1",
   "execution_count": 9
  },
  {
   "cell_type": "markdown",
   "source": [
    "### 1.2. Set up cluster parameters"
   ],
   "metadata": {
    "collapsed": false
   },
   "id": "26066db067a41c93"
  },
  {
   "cell_type": "code",
   "outputs": [],
   "source": [
    "RADIUS = 8.4  # in crystal units\n",
    "VACUUM = 10.0  # in Angstroms on each side\n",
    "SUPERCELL_SIZE = 10  # in crystal units\n",
    "Z_ORIENTATION = (0, 0, 1)  # Miller indices of the slab orientation along the z-axis for the cluster\n",
    "NAME = \"Icosahedron\"  # Name of the cluster"
   ],
   "metadata": {
    "collapsed": false,
    "ExecuteTime": {
     "end_time": "2024-12-13T03:40:14.746332Z",
     "start_time": "2024-12-13T03:40:14.743570Z"
    }
   },
   "id": "9d8b1890b34d850a",
   "execution_count": 10
  },
  {
   "cell_type": "markdown",
   "source": [
    "### 1.3. Set coordinates condition"
   ],
   "metadata": {
    "collapsed": false
   },
   "id": "3aae932e71fa71a9"
  },
  {
   "cell_type": "code",
   "outputs": [],
   "source": [
    "import numpy as np\n",
    "from typing import List\n",
    "from icosphere import icosphere\n",
    "from mat3ra.made.tools.utils.coordinate import CoordinateCondition\n",
    "\n"
   ],
   "metadata": {
    "collapsed": false,
    "ExecuteTime": {
     "end_time": "2024-12-13T03:40:14.806695Z",
     "start_time": "2024-12-13T03:40:14.804044Z"
    }
   },
   "id": "8e382d5ab459e2d",
   "execution_count": 11
  },
  {
   "cell_type": "markdown",
   "source": [
    "### 1.3. Get input material"
   ],
   "metadata": {
    "collapsed": false
   },
   "id": "919ad7af8dceeedd"
  },
  {
   "cell_type": "code",
   "outputs": [],
   "source": [
    "from mat3ra.standata.materials import Materials\n",
    "from mat3ra.made.material import Material\n",
    "\n",
    "material = Material( Materials.get_by_name_first_match(\"Gold\"))"
   ],
   "metadata": {
    "collapsed": false,
    "ExecuteTime": {
     "end_time": "2024-12-13T03:40:14.816982Z",
     "start_time": "2024-12-13T03:40:14.813923Z"
    }
   },
   "id": "be38fdda1984c654",
   "execution_count": 12
  },
  {
   "cell_type": "code",
   "outputs": [],
   "source": [
    "\n",
    "    "
   ],
   "metadata": {
    "collapsed": false,
    "ExecuteTime": {
     "end_time": "2024-12-13T03:40:14.821615Z",
     "start_time": "2024-12-13T03:40:14.819173Z"
    }
   },
   "id": "2a9533eb4dd1a6b5",
   "execution_count": 12
  },
  {
   "cell_type": "markdown",
   "source": [
    "## 2. Create the Target Material\n",
    "### 2.1. Create spherical cluster\n"
   ],
   "metadata": {
    "collapsed": false
   },
   "id": "690241d87e7bbbe0"
  },
  {
   "cell_type": "code",
   "outputs": [],
   "source": [
    "from mat3ra.made.tools.build.nanoparticle import NanoparticleConfiguration, create_nanoparticle\n",
    "\n",
    "config = NanoparticleConfiguration(\n",
    "    material = material,\n",
    "    shape = \"icosahedron\",\n",
    "    parameters = {\n",
    "    \"noshells\": 3}\n",
    ")\n",
    "\n",
    "cluster = create_nanoparticle(config)"
   ],
   "metadata": {
    "collapsed": false,
    "ExecuteTime": {
     "end_time": "2024-12-13T03:40:14.845474Z",
     "start_time": "2024-12-13T03:40:14.822811Z"
    }
   },
   "id": "a990fa35742d7269",
   "execution_count": 13
  },
  {
   "cell_type": "markdown",
   "source": [
    "### 2.2. Set lattice to Cubic"
   ],
   "metadata": {
    "collapsed": false
   },
   "id": "a01018588e6e55fc"
  },
  {
   "cell_type": "code",
   "outputs": [],
   "source": [
    "from mat3ra.made.lattice import Lattice\n",
    "\n",
    "# current_vector_1, current_vector_2, current_vector_3 = cluster.lattice.vectors\n",
    "# cubic_vector_1 = [current_vector_1[0], 0, 0]\n",
    "# cubic_vector_2 = [0, current_vector_2[1], 0]\n",
    "# cubic_vector_3 = [0, 0, current_vector_3[2]]\n",
    "# cluster.lattice = Lattice.from_vectors_array([cubic_vector_1, cubic_vector_2, cubic_vector_3], type=\"CUB\")"
   ],
   "metadata": {
    "collapsed": false,
    "ExecuteTime": {
     "end_time": "2024-12-13T03:40:14.851790Z",
     "start_time": "2024-12-13T03:40:14.848778Z"
    }
   },
   "id": "4f78c4743b370c3b",
   "execution_count": 14
  },
  {
   "cell_type": "markdown",
   "source": [
    "## 3. Visualize the Result(s)"
   ],
   "metadata": {
    "collapsed": false
   },
   "id": "462549d016073446"
  },
  {
   "cell_type": "code",
   "outputs": [
    {
     "data": {
      "text/plain": "GridBox(children=(VBox(children=(Label(value='Au55 - Icosahedron - rotation: 0x,0y,0z', layout=Layout(align_se…",
      "application/vnd.jupyter.widget-view+json": {
       "version_major": 2,
       "version_minor": 0,
       "model_id": "1f91cfccce674b9da7b53ad57b83b971"
      }
     },
     "metadata": {},
     "output_type": "display_data"
    }
   ],
   "source": [
    "from utils.visualize import visualize_materials as visualize\n",
    "visualize([{\"material\": cluster, \"title\": f\"{NAME}\"}, {\"material\": cluster, \"rotation\": \"-60x\", \"title\": \"Bulk\"}])"
   ],
   "metadata": {
    "collapsed": false,
    "ExecuteTime": {
     "end_time": "2024-12-13T03:41:20.048834Z",
     "start_time": "2024-12-13T03:41:19.774071Z"
    }
   },
   "id": "509b18661a069e42",
   "execution_count": 18
  },
  {
   "cell_type": "markdown",
   "source": [
    "## 4. Pass data to the outside runtime"
   ],
   "metadata": {
    "collapsed": false
   },
   "id": "d381df29a6bbdd82"
  },
  {
   "cell_type": "code",
   "outputs": [
    {
     "name": "stdout",
     "output_type": "stream",
     "text": [
      "Data for materials written to uploads/Au, Gold, FCC (Fm-3m) 3D (Bulk), mp-81 Icosahedron.json\n"
     ]
    }
   ],
   "source": [
    "from utils.jupyterlite import set_materials\n",
    "\n",
    "cluster.name = f\"{material.name} {NAME}\"\n",
    "set_materials(cluster)"
   ],
   "metadata": {
    "collapsed": false,
    "ExecuteTime": {
     "end_time": "2024-12-13T03:40:15.178748Z",
     "start_time": "2024-12-13T03:40:15.173321Z"
    }
   },
   "id": "61daa5afcbc078a9",
   "execution_count": 16
  },
  {
   "cell_type": "code",
   "outputs": [],
   "source": [],
   "metadata": {
    "collapsed": false,
    "ExecuteTime": {
     "end_time": "2024-12-13T03:40:15.182023Z",
     "start_time": "2024-12-13T03:40:15.180220Z"
    }
   },
   "id": "27e8a81077e9a8a5",
   "execution_count": 16
  }
 ],
 "metadata": {
  "kernelspec": {
   "display_name": "Python 3",
   "language": "python",
   "name": "python3"
  },
  "language_info": {
   "codemirror_mode": {
    "name": "ipython",
    "version": 2
   },
   "file_extension": ".py",
   "mimetype": "text/x-python",
   "name": "python",
   "nbconvert_exporter": "python",
   "pygments_lexer": "ipython2",
   "version": "2.7.6"
  }
 },
 "nbformat": 4,
 "nbformat_minor": 5
}
