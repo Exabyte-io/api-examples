{
 "cells": [
  {
   "cell_type": "markdown",
   "source": [
    "# Create interface with minimal energy among surfaces with different Miller indices\n",
    "\n",
    "This notebook takes two materials, cycles through Miller indices and constructs a coherent interface using ZSL algorithm, optimizes it with a relaxer and calculator, and then calculates the delta energy for the interface. The delta energy is then plotted as a function of the Miller index."
   ],
   "metadata": {
    "collapsed": false
   },
   "id": "376f4cc936968586"
  },
  {
   "cell_type": "markdown",
   "source": [
    "## 1. Setup\n",
    "Set the maximum Miller indices for the substrate, and the settings for the interface, relaxation, and ZSL algorithm."
   ],
   "metadata": {
    "collapsed": false
   },
   "id": "e84cf101f8d5d808"
  },
  {
   "cell_type": "code",
   "outputs": [],
   "source": [
    "MAX_MILLER = {\n",
    "    \"H\": 1,\n",
    "    \"K\": 1,\n",
    "    \"L\": 1,\n",
    "}\n",
    "\n",
    "SETTINGS = {\n",
    "    \"SUBSTRATE_PARAMETERS\": {\n",
    "        \"MATERIAL_INDEX\": 0,  # the index of the material in the materials_in list\n",
    "        \"MILLER_INDICES\": (1, 1, 1),  # the miller indices of the interfacial plane\n",
    "        \"THICKNESS\": 3,  # in layers\n",
    "    },\n",
    "    \"LAYER_PARAMETERS\": {\n",
    "        \"MATERIAL_INDEX\": 1,  # the index of the material in the materials_in list\n",
    "        \"MILLER_INDICES\": (0, 0, 1),  # the miller indices of the interfacial plane\n",
    "        \"THICKNESS\": 1,  # in layers\n",
    "    },\n",
    "    \"INTERFACE_PARAMETERS\": {\n",
    "        \"DISTANCE_Z\": 3.0,  # in Angstroms\n",
    "    },\n",
    "    \"ZSL_PARAMETERS\": {\n",
    "        \"MAX_AREA\": 81,  # The area to consider in Angstrom^2\n",
    "        \"MAX_AREA_TOL\": 0.09,  # The area within this tolerance is considered equal\n",
    "        \"MAX_LENGTH_TOL\": 0.03,  # supercell lattice vectors lengths within this tolerance are considered equal\n",
    "        \"MAX_ANGLE_TOL\": 0.01,  # supercell lattice angles within this tolerance are considered equal\n",
    "        \"STRAIN_TOL\": 10e-6,  # strains within this tolerance are considered equal\n",
    "    },\n",
    "    \"RELAXATION_PARAMETERS\": {\n",
    "        \"RELAXER\": \"BFGS\",  # The relaxation algorithm to use\n",
    "        \"CALCULATOR\": \"EMT\",  # The calculator to use\n",
    "        \"FMAX\": 0.5,  # The maximum force allowed on each atom\n",
    "    }\n",
    "}\n"
   ],
   "metadata": {
    "collapsed": false
   },
   "id": "1e26bda891a89de5",
   "execution_count": null
  },
  {
   "cell_type": "markdown",
   "source": [
    "## 2. Definitions\n",
    "Functions definitions to create the interfaces, sort them, relax them, and calculate the effective delta energy."
   ],
   "metadata": {
    "collapsed": false
   },
   "id": "c994a8afe22a25ca"
  },
  {
   "cell_type": "code",
   "outputs": [],
   "source": [
    "from src.pymatgen_coherent_interface_builder import CoherentInterfaceBuilder, ZSLGenerator\n",
    "from src.utils import to_pymatgen\n",
    "from src.utils import ase_to_poscar, pymatgen_to_ase\n",
    "from ase.optimize import BFGS\n",
    "from ase.calculators.emt import EMT\n",
    "\n",
    "OPTIMIZER_MAP = [{\"BFGS\": BFGS}]\n",
    "CALCULATOR_MAP = [{\"EMT\": EMT()}]\n",
    "\n",
    "\n",
    "def create_interfaces(materials, settings):\n",
    "    \"\"\"Create interfaces for the given materials and settings.\"\"\"\n",
    "    print(\"Creating interfaces...\")\n",
    "    zsl = ZSLGenerator(\n",
    "        max_area_ratio_tol=settings[\"ZSL_PARAMETERS\"][\"MAX_AREA_TOL\"],\n",
    "        max_area=settings[\"ZSL_PARAMETERS\"][\"MAX_AREA\"],\n",
    "        max_length_tol=settings[\"ZSL_PARAMETERS\"][\"MAX_LENGTH_TOL\"],\n",
    "        max_angle_tol=settings[\"ZSL_PARAMETERS\"][\"MAX_ANGLE_TOL\"],\n",
    "    )\n",
    "\n",
    "    cib = CoherentInterfaceBuilder(\n",
    "        substrate_structure=materials[settings[\"SUBSTRATE_PARAMETERS\"][\"MATERIAL_INDEX\"]],\n",
    "        film_structure=materials[settings[\"LAYER_PARAMETERS\"][\"MATERIAL_INDEX\"]],\n",
    "        substrate_miller=settings[\"SUBSTRATE_PARAMETERS\"][\"MILLER_INDICES\"],\n",
    "        film_miller=settings[\"LAYER_PARAMETERS\"][\"MILLER_INDICES\"],\n",
    "        zslgen=zsl,\n",
    "        strain_tol=settings[\"ZSL_PARAMETERS\"][\"STRAIN_TOL\"],\n",
    "    )\n",
    "\n",
    "    # Find terminations\n",
    "    cib._find_terminations()\n",
    "    terminations = cib.terminations\n",
    "\n",
    "    # Create interfaces for each termination\n",
    "    interfaces = {}\n",
    "    for termination in terminations:\n",
    "        interfaces[termination] = []\n",
    "        for interface in cib.get_interfaces(\n",
    "                termination,\n",
    "                gap=settings[\"INTERFACE_PARAMETERS\"][\"DISTANCE_Z\"],\n",
    "                film_thickness=settings[\"LAYER_PARAMETERS\"][\"THICKNESS\"],\n",
    "                substrate_thickness=settings[\"SUBSTRATE_PARAMETERS\"][\"THICKNESS\"],\n",
    "                in_layers=True,\n",
    "        ):\n",
    "            # Wrap atoms to unit cell\n",
    "            interface[\"interface\"].make_supercell((1, 1, 1), to_unit_cell=True)\n",
    "            interfaces[termination].append(interface)\n",
    "    return interfaces, terminations\n",
    "\n",
    "\n",
    "# Sort interfaces by the specified strain mode and number of sites\n",
    "def sort_interfaces(interfaces, terminations, strain_mode=\"mean_abs_strain\"):\n",
    "    sorted_interfaces = {}\n",
    "    for termination in terminations:\n",
    "        sorted_interfaces[termination] = sorted(\n",
    "            interfaces[termination], key=lambda x: (x[strain_mode], x[\"interface\"].num_sites)\n",
    "        )\n",
    "    return sorted_interfaces\n",
    "\n",
    "\n",
    "def relax_structure(atoms, optimizer, calculator, fmax=0.05, verbose=False):\n",
    "    # Set up the interface for relaxation\n",
    "    ase_structure = atoms.copy()\n",
    "    ase_structure.set_calculator(calculator)\n",
    "    dyn = optimizer(ase_structure)\n",
    "    dyn.run(fmax=fmax)\n",
    "\n",
    "    # Extract results\n",
    "    ase_original_structure = atoms\n",
    "    ase_original_structure.set_calculator(calculator)\n",
    "    ase_final_structure = ase_structure\n",
    "    relaxed_energy = ase_structure.get_total_energy()\n",
    "\n",
    "    # Print out the final relaxed structure and energy\n",
    "    if verbose:\n",
    "        print('Original structure:\\n', ase_to_poscar(ase_original_structure))\n",
    "        print('\\nRelaxed structure:\\n', ase_to_poscar(ase_final_structure))\n",
    "        print(f\"The final energy is {float(relaxed_energy):.3f} eV.\")\n",
    "\n",
    "    return ase_final_structure, relaxed_energy\n",
    "\n",
    "\n",
    "def filter_atoms_by_tag(atoms, material_index):\n",
    "    \"\"\"Filter atoms by their tag, corresponding to the material index.\"\"\"\n",
    "    return atoms[atoms.get_tags() == material_index]\n",
    "\n",
    "\n",
    "def get_effective_delta_energy(interface, substrate, layer, calculator):\n",
    "    \"\"\"Get the effective energy of the atoms.\"\"\"\n",
    "    substrate.set_calculator(calculator)\n",
    "    layer.set_calculator(calculator)\n",
    "    interface.set_calculator(calculator)\n",
    "\n",
    "    relaxed_energy = interface.get_total_energy()\n",
    "    effective_substrate_energy = substrate.get_total_energy() / substrate.get_global_number_of_atoms()\n",
    "    effective_layer_energy = layer.get_total_energy() / layer.get_global_number_of_atoms()\n",
    "    effective_relaxed_energy = relaxed_energy / interface.get_global_number_of_atoms()\n",
    "    print(f\"Bulk substrate energy per atom: {effective_substrate_energy:.3f} eV\")\n",
    "    print(f\"Free layer energy per atom: {effective_layer_energy:.3f} eV\")\n",
    "    print(f\"Interface energy per atom: {effective_relaxed_energy:.3f} eV\")\n",
    "\n",
    "    # Calculate the effective interface energy\n",
    "\n",
    "    # number of atoms composing the interface: total, substrate's, layer's\n",
    "    number_of_interface_atoms = interface.get_global_number_of_atoms()\n",
    "    number_of_substrate_atoms = filter_atoms_by_tag(interface, SETTINGS[\"SUBSTRATE_PARAMETERS\"][\n",
    "        \"MATERIAL_INDEX\"]).get_global_number_of_atoms()\n",
    "    number_of_layer_atoms = filter_atoms_by_tag(interface, SETTINGS[\"SUBSTRATE_PARAMETERS\"][\n",
    "        \"MATERIAL_INDEX\"]).get_global_number_of_atoms()\n",
    "    area = interface.get_volume() / interface.cell[2, 2]\n",
    "\n",
    "    # The formula is given by: (E_interface - E_substrate_bulk * N_substrate - E_layer_free * N_layer) / (2 * A * N_interface), where A is the area of the interface, and N_interface = N_substrate + N_layer\n",
    "    # Derived from: https://www.sciencedirect.com/science/article/pii/S2589152922000485\n",
    "    effective_interface_delta_energy = (\n",
    "                                               relaxed_energy * number_of_interface_atoms - effective_substrate_energy * number_of_substrate_atoms - effective_layer_energy * number_of_layer_atoms) / (\n",
    "                                               2 * area * number_of_interface_atoms)\n",
    "\n",
    "    print(\n",
    "        f\"Effective interface delta energy: {effective_interface_delta_energy:.3f} eV/Å^2 ({effective_interface_delta_energy / 0.16:.3f} J/m^2)\")\n",
    "    return effective_interface_delta_energy\n",
    "\n",
    "\n",
    "def create_relaxed_interface_with_min_strain(materials, settings, optimizer, calculator):\n",
    "    \"\"\"Creates an interface with minimal strain using ZSL and relaxes it using specified optimizer and calculator.\"\"\"\n",
    "    interfaces, terminations = create_interfaces(\n",
    "        materials=materials,\n",
    "        settings=settings\n",
    "    )\n",
    "    sorted_interfaces = sort_interfaces(interfaces, terminations)\n",
    "    # TODO: try for every termination\n",
    "    termination_index = 0\n",
    "    interface_index = 0\n",
    "    termination = terminations[termination_index]\n",
    "    interface = sorted_interfaces[termination][interface_index][\"interface\"]\n",
    "\n",
    "    ase_interface = pymatgen_to_ase(interface)\n",
    "    ase_final_interface, relaxed_energy = relax_structure(\n",
    "        atoms=ase_interface,\n",
    "        optimizer=optimizer,\n",
    "        calculator=calculator,\n",
    "        fmax=settings[\"RELAXATION_PARAMETERS\"][\"FMAX\"],\n",
    "        verbose=True  # Assuming you want to print details\n",
    "    )\n",
    "\n",
    "    # Corrected to pass ASE Atoms objects after converting from Pymatgen structures\n",
    "    ase_substrate = pymatgen_to_ase(materials[settings[\"SUBSTRATE_PARAMETERS\"][\"MATERIAL_INDEX\"]])\n",
    "    ase_layer = pymatgen_to_ase(materials[settings[\"LAYER_PARAMETERS\"][\"MATERIAL_INDEX\"]])\n",
    "\n",
    "    effective_delta_energy = get_effective_delta_energy(\n",
    "        interface=ase_final_interface,\n",
    "        substrate=ase_substrate,\n",
    "        layer=ase_layer,\n",
    "        calculator=calculator\n",
    "    )\n",
    "\n",
    "    return ase_final_interface, relaxed_energy, effective_delta_energy"
   ],
   "metadata": {
    "collapsed": false
   },
   "id": "7cc1760211290efa",
   "execution_count": null
  },
  {
   "cell_type": "markdown",
   "source": [
    "## 3. Import materials\n",
    "From the materials_list folder import the materials in ESSE format."
   ],
   "metadata": {
    "collapsed": false
   },
   "id": "2914b56ac57b480a"
  },
  {
   "cell_type": "code",
   "outputs": [],
   "source": [
    "import os\n",
    "import json\n",
    "\n",
    "materials_in = []\n",
    "input_folder = \"materials_list\"\n",
    "for file in os.listdir(input_folder):\n",
    "    with open(f\"{input_folder}/{file}\", \"r\") as f:\n",
    "        data = f.read()\n",
    "        materials_in.append(json.loads(data))\n",
    "        \n",
    "if \"materials_in\" in globals():\n",
    "    pymatgen_materials = [to_pymatgen(item) for item in materials_in]\n",
    "for material in pymatgen_materials:\n",
    "    print(material, \"\\n\")\n"
   ],
   "metadata": {
    "collapsed": false
   },
   "id": "5a049ce90fd5de34",
   "execution_count": null
  },
  {
   "cell_type": "markdown",
   "source": [
    "## 4. Create coherent interfaces with minimal energy among surfaces with different Miller\n",
    "Cycle through HKL indices to create all matching interfaces with minimal strain"
   ],
   "metadata": {
    "collapsed": false
   },
   "id": "320f5f37bb0d2bc5"
  },
  {
   "cell_type": "code",
   "outputs": [],
   "source": [
    "optimizer = OPTIMIZER_MAP[SETTINGS[\"RELAXATION_PARAMETERS\"][\"RELAXER\"]]\n",
    "calculator = CALCULATOR_MAP[SETTINGS[\"RELAXATION_PARAMETERS\"][\"CALCULATOR\"]]\n",
    "\n",
    "delta_energies = []\n",
    "# Cycle through HKL indices for substrate and (0,0,1) for layer\n",
    "for h in range(0, MAX_MILLER[\"H\"] + 1):\n",
    "    for k in range(0, MAX_MILLER[\"K\"] + 1):\n",
    "        for l in range(0, MAX_MILLER[\"L\"] + 1):\n",
    "            if h == 0 and k == 0 and l == 0:\n",
    "                continue\n",
    "            SETTINGS[\"SUBSTRATE_PARAMETERS\"][\"MILLER_INDICES\"] = (h, k, l)\n",
    "\n",
    "            print(\n",
    "                f\"Creating interface for substrate ({h},{k},{l}) and layer {SETTINGS['LAYER_PARAMETERS']['MILLER_INDICES']}\")\n",
    "            interface, relaxed_energy, effective_delta_energy = create_relaxed_interface_with_min_strain(\n",
    "                materials=pymatgen_materials,\n",
    "                settings=SETTINGS,\n",
    "                optimizer=optimizer,\n",
    "                calculator=calculator\n",
    "            )\n",
    "            print(f\"Delta energy: {effective_delta_energy:.3f} eV/Å^2 ({effective_delta_energy / 0.16:.3f} J/m^2)\")\n",
    "            delta_energies.append([(h, k, l), effective_delta_energy])\n",
    "            "
   ],
   "metadata": {
    "collapsed": false
   },
   "id": "fd7dac7368e6fd3",
   "execution_count": null
  },
  {
   "cell_type": "markdown",
   "source": [
    "## 5. Plot the results"
   ],
   "metadata": {
    "collapsed": false
   },
   "id": "b0c7beb6d587a2c7"
  },
  {
   "cell_type": "code",
   "outputs": [],
   "source": [
    "print(delta_energies)\n",
    "import matplotlib.pyplot as plt\n",
    "\n",
    "x = [f\"{h}{k}{l}\" for h, k, l in [item[0] for item in delta_energies]]\n",
    "y = [item[1] for item in delta_energies]\n",
    "plt.bar(x, y)\n",
    "plt.xlabel(\"Miller indices\")\n",
    "plt.ylabel(\"Delta energy (eV/Å^2)\")\n",
    "plt.title(\"Delta energy as a function of Miller indices\")\n",
    "plt.show()"
   ],
   "metadata": {
    "collapsed": false
   },
   "id": "da7e16dcde207690",
   "execution_count": null
  }
 ],
 "metadata": {
  "kernelspec": {
   "display_name": "Python 3",
   "language": "python",
   "name": "python3"
  },
  "language_info": {
   "codemirror_mode": {
    "name": "ipython",
    "version": 2
   },
   "file_extension": ".py",
   "mimetype": "text/x-python",
   "name": "python",
   "nbconvert_exporter": "python",
   "pygments_lexer": "ipython2",
   "version": "2.7.6"
  }
 },
 "nbformat": 4,
 "nbformat_minor": 5
}
