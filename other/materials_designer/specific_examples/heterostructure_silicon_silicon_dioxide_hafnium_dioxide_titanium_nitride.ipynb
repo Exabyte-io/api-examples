{
 "cells": [
  {
   "cell_type": "markdown",
   "id": "3ae4cc7db0846f04",
   "metadata": {
    "collapsed": false
   },
   "source": [
    "# Create High-k Metal Gate Stack Tutorial\n",
    "\n",
    "This notebook demonstrates how to create a high-k metal gate stack heterostructure with four materials: Si (substrate), SiO2 (gate oxide), HfO2 (high-k dielectric), and TiN (metal gate).\n",
    "\n",
    "We'll create a representation of the material from the [QuantumATK tutorial](https://docs.quantumatk.com/tutorials/hkmg_builder/hkmg_builder.html) without the amorphous step.\n",
    "\n",
    "<img src=\"https://docs.quantumatk.com/_images/update_square_default_stack.png\" alt=\"High-k Metal Gate Stack\" width=\"700\"/>\n"
   ]
  },
  {
   "cell_type": "markdown",
   "id": "f1db6e522c6716dc",
   "metadata": {
    "collapsed": false
   },
   "source": [
    "## 1. Configuration Parameters\n"
   ]
  },
  {
   "cell_type": "code",
   "id": "813b06d4d77a8507",
   "metadata": {
    "collapsed": false,
    "ExecuteTime": {
     "end_time": "2025-07-28T20:18:11.677911Z",
     "start_time": "2025-07-28T20:18:11.670039Z"
    }
   },
   "source": [
    "from types import SimpleNamespace\n",
    "\n",
    "from types import SimpleNamespace\n",
    "\n",
    "# Global parameters\n",
    "MAX_AREA = 200  # Maximum area for strain matching\n",
    "MAX_AREA_RATIO_TOL = 0.25  # Maximum area ratio tolerance for strain matching\n",
    "MAX_ANGLE_TOLERANCE = 0.15  # Maximum angle tolerance for strain matching\n",
    "MAX_LENGTH_TOLERANCE = 0.15  # Maximum length tolerance for strain matching\n",
    "\n",
    "# Structure parameters for each layer\n",
    "STRUCTURE_PARAMS = [\n",
    "    SimpleNamespace(\n",
    "        # Silicon substrate\n",
    "        slab_params=SimpleNamespace(\n",
    "            miller_indices=(1, 0, 0),\n",
    "            thickness=4,  # atomic layers\n",
    "            vacuum=5.0,  # Angstroms\n",
    "            USE_ORTHOGONAL_C=True\n",
    "        ),\n",
    "        termination_formula=None,  # Use default termination for substrate\n",
    "        interface_distance=None  # No interface for substrate\n",
    "    ),\n",
    "    SimpleNamespace(\n",
    "        # SiO2 layer\n",
    "        slab_params=SimpleNamespace(\n",
    "            miller_indices=(1, 0, 0),\n",
    "            thickness=3,\n",
    "            vacuum=5.0,\n",
    "            USE_ORTHOGONAL_C=True\n",
    "        ),\n",
    "        termination_formula=None,  # Use default termination for SiO2\n",
    "        interface_distance=2.5,  # Distance to Si substrate\n",
    "        vacuum=0.5  # Vacuum for SiO2-terminating interface layer\n",
    "    ),\n",
    "    SimpleNamespace(\n",
    "        # HfO2 layer\n",
    "        slab_params=SimpleNamespace(\n",
    "            miller_indices=(0, 0, 1),\n",
    "            thickness=2,\n",
    "            vacuum=0.5,\n",
    "            xy_supercell_matrix=[[2, 0], [0, 2]],\n",
    "            USE_ORTHOGONAL_C=True\n",
    "        ),\n",
    "        termination_formula=None,  # Use default termination for HfO2\n",
    "        interface_distance=3.0,  # Distance to SiO2\n",
    "        vacuum=0.5  # Vacuum for HfO2-terminating interface layer\n",
    "    ),\n",
    "    SimpleNamespace(\n",
    "        # TiN layer\n",
    "        slab_params=SimpleNamespace(\n",
    "            miller_indices=(0, 0, 1),\n",
    "            thickness=3,\n",
    "            vacuum=5.0,  # Add vacuum to final layer\n",
    "            USE_ORTHOGONAL_C=True,\n",
    "            xy_supercell_matrix=[[3, 0], [0, 3]]\n",
    "        ),\n",
    "        termination_formula=None,  # Use default termination for TiN\n",
    "        interface_distance=2.5,  # Distance to HfO2\n",
    "        vacuum=10.0  # Vacuum for TiN-terminating interface layer\n",
    "    )\n",
    "]\n",
    "\n",
    "INTERFACE_1_INDEX = 11 # was found in the previous runs"
   ],
   "outputs": [],
   "execution_count": 5
  },
  {
   "cell_type": "markdown",
   "id": "a671bb0a66616061",
   "metadata": {
    "collapsed": false
   },
   "source": [
    "### 1.2. Install Packages\n",
    "The step executes only in Pyodide environment. For other environments, the packages should be installed via `pip install` (see [README](../../README.ipynb))."
   ]
  },
  {
   "cell_type": "code",
   "id": "c11956a7712639b9",
   "metadata": {
    "collapsed": false,
    "ExecuteTime": {
     "end_time": "2025-07-28T20:18:11.693055Z",
     "start_time": "2025-07-28T20:18:11.690419Z"
    }
   },
   "source": [
    "import sys\n",
    "\n",
    "if sys.platform == \"emscripten\":\n",
    "    import micropip\n",
    "\n",
    "    await micropip.install('mat3ra-api-examples', deps=False)\n",
    "    await micropip.install('mat3ra-utils')\n",
    "    from mat3ra.utils.jupyterlite.packages import install_packages\n",
    "\n",
    "    await install_packages(\"specific_examples\")"
   ],
   "outputs": [],
   "execution_count": 6
  },
  {
   "cell_type": "markdown",
   "id": "15599efa4b241366",
   "metadata": {
    "collapsed": false
   },
   "source": [
    "### 1.3. Get input material\n",
    "In this notebook we will use materials from Standata."
   ]
  },
  {
   "cell_type": "code",
   "id": "474383a5e0f70d6",
   "metadata": {
    "collapsed": false,
    "ExecuteTime": {
     "end_time": "2025-07-28T20:18:11.707652Z",
     "start_time": "2025-07-28T20:18:11.701712Z"
    }
   },
   "source": [
    "from mat3ra.made.material import Material\n",
    "from mat3ra.standata.materials import Materials\n",
    "\n",
    "materials_1 = [\n",
    "    Material.create(Materials.get_by_name_first_match(\"SiO2\")),  # SiO2\n",
    "    Material.create(Materials.get_by_name_first_match(\"Silicon\")),  # Si substrate\n",
    "]\n",
    "materials_2 = [\n",
    "    Material.create(Materials.get_by_name_first_match(\"HfO2.*MCL\")),  # HfO2\n",
    "    Material.create(Materials.get_by_name_first_match(\"TiN\")),  # TiN\n",
    "]"
   ],
   "outputs": [],
   "execution_count": 7
  },
  {
   "cell_type": "code",
   "id": "4c55b0bd",
   "metadata": {
    "ExecuteTime": {
     "end_time": "2025-07-28T20:18:14.299052Z",
     "start_time": "2025-07-28T20:18:11.714146Z"
    }
   },
   "source": [
    "from mat3ra.made.tools.build.slab.helpers import create_slab, get_slab_terminations\n",
    "from mat3ra.made.tools.build.slab.termination_utils import select_slab_termination\n",
    "from mat3ra.made.tools.build.interface import (\n",
    "    InterfaceConfiguration,\n",
    "    ZSLStrainMatchingParameters,\n",
    "    ZSLStrainMatchingInterfaceBuilder,\n",
    "    ZSLStrainMatchingInterfaceBuilderParameters\n",
    ")\n",
    "from utils.visualize import visualize_materials as visualize\n",
    "\n",
    "film_1_params = STRUCTURE_PARAMS[1]  # SiO2 layer\n",
    "substrate_1_params = STRUCTURE_PARAMS[0]  # Silicon substrate\n",
    "\n",
    "# Get terminations for film (SiO2)\n",
    "film_1_terminations = get_slab_terminations(\n",
    "    materials_1[1],  # SiO2\n",
    "    miller_indices=film_1_params.slab_params.miller_indices\n",
    ")\n",
    "\n",
    "# Select termination for film\n",
    "if film_1_params.termination_formula:\n",
    "    film_termination = select_slab_termination(film_1_terminations, film_1_params.termination_formula)\n",
    "else:\n",
    "    film_termination = film_1_terminations[0]  # Use first available termination\n",
    "\n",
    "# Get terminations for substrate (Si)\n",
    "substrate_1_terminations = get_slab_terminations(\n",
    "    materials_1[0],  # Silicon\n",
    "    miller_indices=substrate_1_params.slab_params.miller_indices\n",
    ")\n",
    "\n",
    "# Select termination for substrate\n",
    "if substrate_1_params.termination_formula:\n",
    "    substrate_termination = select_slab_termination(substrate_1_terminations, substrate_1_params.termination_formula)\n",
    "else:\n",
    "    substrate_termination = substrate_1_terminations[0]  # Use first available termination\n",
    "\n",
    "# Create film slab (SiO2)\n",
    "film_1_slab = create_slab(\n",
    "    crystal=materials_1[1],  # SiO2\n",
    "    termination=film_termination,\n",
    "    miller_indices=film_1_params.slab_params.miller_indices,\n",
    "    number_of_layers=film_1_params.slab_params.thickness,\n",
    "    vacuum=film_1_params.slab_params.vacuum,\n",
    "    use_orthogonal_c=film_1_params.slab_params.USE_ORTHOGONAL_C\n",
    ")\n",
    "\n",
    "# Create substrate slab (Si)\n",
    "substrate_1_slab = create_slab(\n",
    "    crystal=materials_1[0],  # Silicon\n",
    "    termination=substrate_termination,\n",
    "    miller_indices=substrate_1_params.slab_params.miller_indices,\n",
    "    number_of_layers=substrate_1_params.slab_params.thickness,\n",
    "    vacuum=substrate_1_params.slab_params.vacuum,\n",
    "    use_orthogonal_c=substrate_1_params.slab_params.USE_ORTHOGONAL_C\n",
    ")\n",
    "\n",
    "# Create interface configuration using the created slabs\n",
    "interface_config = InterfaceConfiguration(\n",
    "    film_slab=film_1_slab,\n",
    "    substrate_slab=substrate_1_slab,\n",
    "    distance_z=film_1_params.interface_distance,  # Distance to Si substrate\n",
    "    vacuum=film_1_params.vacuum,  # Vacuum for SiO2-terminating interface layer\n",
    ")\n",
    "\n",
    "builder = ZSLStrainMatchingInterfaceBuilder(\n",
    "    build_parameters=ZSLStrainMatchingInterfaceBuilderParameters(\n",
    "        strain_matching_parameters=ZSLStrainMatchingParameters(max_area=MAX_AREA, max_area_ratio_tol=MAX_AREA_RATIO_TOL,\n",
    "                                                               max_angle_tol=MAX_ANGLE_TOLERANCE,\n",
    "                                                               max_length_tol=MAX_LENGTH_TOLERANCE)\n",
    "    )\n",
    ")\n",
    "\n",
    "interfaces = builder.get_materials(configuration=interface_config)\n",
    "interface_1 = interfaces[INTERFACE_1_INDEX]\n"
   ],
   "outputs": [
    {
     "ename": "ImportError",
     "evalue": "cannot import name 'InterfaceConfiguration' from 'mat3ra.made.tools.build.interface' (/Users/mat3ra/code/GREEN/api-examples/.venv-3.11.2/lib/python3.11/site-packages/mat3ra/made/tools/build/interface/__init__.py)",
     "output_type": "error",
     "traceback": [
      "\u001B[0;31m---------------------------------------------------------------------------\u001B[0m",
      "\u001B[0;31mImportError\u001B[0m                               Traceback (most recent call last)",
      "Cell \u001B[0;32mIn[8], line 3\u001B[0m\n\u001B[1;32m      1\u001B[0m \u001B[38;5;28;01mfrom\u001B[39;00m\u001B[38;5;250m \u001B[39m\u001B[38;5;21;01mmat3ra\u001B[39;00m\u001B[38;5;21;01m.\u001B[39;00m\u001B[38;5;21;01mmade\u001B[39;00m\u001B[38;5;21;01m.\u001B[39;00m\u001B[38;5;21;01mtools\u001B[39;00m\u001B[38;5;21;01m.\u001B[39;00m\u001B[38;5;21;01mbuild\u001B[39;00m\u001B[38;5;21;01m.\u001B[39;00m\u001B[38;5;21;01mslab\u001B[39;00m\u001B[38;5;21;01m.\u001B[39;00m\u001B[38;5;21;01mhelpers\u001B[39;00m\u001B[38;5;250m \u001B[39m\u001B[38;5;28;01mimport\u001B[39;00m create_slab, get_slab_terminations\n\u001B[1;32m      2\u001B[0m \u001B[38;5;28;01mfrom\u001B[39;00m\u001B[38;5;250m \u001B[39m\u001B[38;5;21;01mmat3ra\u001B[39;00m\u001B[38;5;21;01m.\u001B[39;00m\u001B[38;5;21;01mmade\u001B[39;00m\u001B[38;5;21;01m.\u001B[39;00m\u001B[38;5;21;01mtools\u001B[39;00m\u001B[38;5;21;01m.\u001B[39;00m\u001B[38;5;21;01mbuild\u001B[39;00m\u001B[38;5;21;01m.\u001B[39;00m\u001B[38;5;21;01mslab\u001B[39;00m\u001B[38;5;21;01m.\u001B[39;00m\u001B[38;5;21;01mtermination_utils\u001B[39;00m\u001B[38;5;250m \u001B[39m\u001B[38;5;28;01mimport\u001B[39;00m select_slab_termination\n\u001B[0;32m----> 3\u001B[0m \u001B[38;5;28;01mfrom\u001B[39;00m\u001B[38;5;250m \u001B[39m\u001B[38;5;21;01mmat3ra\u001B[39;00m\u001B[38;5;21;01m.\u001B[39;00m\u001B[38;5;21;01mmade\u001B[39;00m\u001B[38;5;21;01m.\u001B[39;00m\u001B[38;5;21;01mtools\u001B[39;00m\u001B[38;5;21;01m.\u001B[39;00m\u001B[38;5;21;01mbuild\u001B[39;00m\u001B[38;5;21;01m.\u001B[39;00m\u001B[38;5;21;01minterface\u001B[39;00m\u001B[38;5;250m \u001B[39m\u001B[38;5;28;01mimport\u001B[39;00m (\n\u001B[1;32m      4\u001B[0m     InterfaceConfiguration,\n\u001B[1;32m      5\u001B[0m     ZSLStrainMatchingParameters,\n\u001B[1;32m      6\u001B[0m     ZSLStrainMatchingInterfaceBuilder,\n\u001B[1;32m      7\u001B[0m     ZSLStrainMatchingInterfaceBuilderParameters\n\u001B[1;32m      8\u001B[0m )\n\u001B[1;32m      9\u001B[0m \u001B[38;5;28;01mfrom\u001B[39;00m\u001B[38;5;250m \u001B[39m\u001B[38;5;21;01mutils\u001B[39;00m\u001B[38;5;21;01m.\u001B[39;00m\u001B[38;5;21;01mvisualize\u001B[39;00m\u001B[38;5;250m \u001B[39m\u001B[38;5;28;01mimport\u001B[39;00m visualize_materials \u001B[38;5;28;01mas\u001B[39;00m visualize\n\u001B[1;32m     11\u001B[0m film_1_params \u001B[38;5;241m=\u001B[39m STRUCTURE_PARAMS[\u001B[38;5;241m1\u001B[39m]  \u001B[38;5;66;03m# SiO2 layer\u001B[39;00m\n",
      "\u001B[0;31mImportError\u001B[0m: cannot import name 'InterfaceConfiguration' from 'mat3ra.made.tools.build.interface' (/Users/mat3ra/code/GREEN/api-examples/.venv-3.11.2/lib/python3.11/site-packages/mat3ra/made/tools/build/interface/__init__.py)"
     ]
    }
   ],
   "execution_count": 8
  },
  {
   "cell_type": "markdown",
   "id": "9fe9b39b05f1dc7e",
   "metadata": {
    "collapsed": false
   },
   "source": [
    "## 2. Create Si/SiO2 Interface\n",
    "### 2.1. Create Si/SiO2 Interface"
   ]
  },
  {
   "cell_type": "code",
   "execution_count": null,
   "id": "59c8eb0e549ee69e",
   "metadata": {
    "ExecuteTime": {
     "end_time": "2025-07-28T20:18:14.301091Z",
     "start_time": "2025-07-28T20:08:35.734763Z"
    },
    "collapsed": false
   },
   "outputs": [
    {
     "ename": "ImportError",
     "evalue": "cannot import name 'SlabConfiguration' from 'mat3ra.made.tools.build.slab' (/Users/mat3ra/code/GREEN/api-examples/.venv-3.11.2/lib/python3.11/site-packages/mat3ra/made/tools/build/slab/__init__.py)",
     "output_type": "error",
     "traceback": [
      "\u001B[0;31m---------------------------------------------------------------------------\u001B[0m",
      "\u001B[0;31mImportError\u001B[0m                               Traceback (most recent call last)",
      "Cell \u001B[0;32mIn[4], line 1\u001B[0m\n\u001B[0;32m----> 1\u001B[0m \u001B[38;5;28;01mfrom\u001B[39;00m\u001B[38;5;250m \u001B[39m\u001B[38;5;21;01mmat3ra\u001B[39;00m\u001B[38;5;21;01m.\u001B[39;00m\u001B[38;5;21;01mmade\u001B[39;00m\u001B[38;5;21;01m.\u001B[39;00m\u001B[38;5;21;01mtools\u001B[39;00m\u001B[38;5;21;01m.\u001B[39;00m\u001B[38;5;21;01mbuild\u001B[39;00m\u001B[38;5;21;01m.\u001B[39;00m\u001B[38;5;21;01mslab\u001B[39;00m\u001B[38;5;250m \u001B[39m\u001B[38;5;28;01mimport\u001B[39;00m SlabConfiguration, get_terminations, create_slab, \\\n\u001B[1;32m      2\u001B[0m     PymatgenSlabGeneratorParameters\n\u001B[1;32m      3\u001B[0m \u001B[38;5;28;01mfrom\u001B[39;00m\u001B[38;5;250m \u001B[39m\u001B[38;5;21;01mmat3ra\u001B[39;00m\u001B[38;5;21;01m.\u001B[39;00m\u001B[38;5;21;01mmade\u001B[39;00m\u001B[38;5;21;01m.\u001B[39;00m\u001B[38;5;21;01mtools\u001B[39;00m\u001B[38;5;21;01m.\u001B[39;00m\u001B[38;5;21;01mbuild\u001B[39;00m\u001B[38;5;21;01m.\u001B[39;00m\u001B[38;5;21;01minterface\u001B[39;00m\u001B[38;5;250m \u001B[39m\u001B[38;5;28;01mimport\u001B[39;00m (\n\u001B[1;32m      4\u001B[0m     InterfaceConfiguration,\n\u001B[1;32m      5\u001B[0m     ZSLStrainMatchingParameters,\n\u001B[1;32m      6\u001B[0m     ZSLStrainMatchingInterfaceBuilder,\n\u001B[1;32m      7\u001B[0m     ZSLStrainMatchingInterfaceBuilderParameters\n\u001B[1;32m      8\u001B[0m )\n\u001B[1;32m      9\u001B[0m \u001B[38;5;28;01mfrom\u001B[39;00m\u001B[38;5;250m \u001B[39m\u001B[38;5;21;01mutils\u001B[39;00m\u001B[38;5;21;01m.\u001B[39;00m\u001B[38;5;21;01mvisualize\u001B[39;00m\u001B[38;5;250m \u001B[39m\u001B[38;5;28;01mimport\u001B[39;00m visualize_materials \u001B[38;5;28;01mas\u001B[39;00m visualize\n",
      "\u001B[0;31mImportError\u001B[0m: cannot import name 'SlabConfiguration' from 'mat3ra.made.tools.build.slab' (/Users/mat3ra/code/GREEN/api-examples/.venv-3.11.2/lib/python3.11/site-packages/mat3ra/made/tools/build/slab/__init__.py)"
     ]
    }
   ],
   "source": [
    "from mat3ra.made.tools.build.slab.helpers import create_slab, get_slab_terminations\n",
    "from mat3ra.made.tools.build.slab.termination_utils import select_slab_termination\n",
    "from mat3ra.made.tools.build.interface import (\n",
    "    InterfaceConfiguration,\n",
    "    ZSLStrainMatchingParameters,\n",
    "    ZSLStrainMatchingInterfaceBuilder,\n",
    "    ZSLStrainMatchingInterfaceBuilderParameters\n",
    ")\n",
    "from utils.visualize import visualize_materials as visualize\n",
    "\n",
    "film_1_params = STRUCTURE_PARAMS[1]  # SiO2 layer\n",
    "substrate_1_params = STRUCTURE_PARAMS[0]  # Silicon substrate\n",
    "\n",
    "# Get terminations for film (SiO2)\n",
    "film_1_terminations = get_slab_terminations(\n",
    "    materials_1[1],  # SiO2\n",
    "    miller_indices=film_1_params.slab_params.miller_indices\n",
    ")\n",
    "\n",
    "# Select termination for film\n",
    "if film_1_params.termination_formula:\n",
    "    film_termination = select_slab_termination(film_1_terminations, film_1_params.termination_formula)\n",
    "else:\n",
    "    film_termination = film_1_terminations[0]  # Use first available termination\n",
    "\n",
    "# Get terminations for substrate (Si)\n",
    "substrate_1_terminations = get_slab_terminations(\n",
    "    materials_1[0],  # Silicon\n",
    "    miller_indices=substrate_1_params.slab_params.miller_indices\n",
    ")\n",
    "\n",
    "# Select termination for substrate\n",
    "if substrate_1_params.termination_formula:\n",
    "    substrate_termination = select_slab_termination(substrate_1_terminations, substrate_1_params.termination_formula)\n",
    "else:\n",
    "    substrate_termination = substrate_1_terminations[0]  # Use first available termination\n",
    "\n",
    "# Create film slab (SiO2)\n",
    "film_1_slab = create_slab(\n",
    "    crystal=materials_1[1],  # SiO2\n",
    "    termination=film_termination,\n",
    "    miller_indices=film_1_params.slab_params.miller_indices,\n",
    "    number_of_layers=film_1_params.slab_params.thickness,\n",
    "    vacuum=film_1_params.slab_params.vacuum,\n",
    "    use_orthogonal_c=film_1_params.slab_params.USE_ORTHOGONAL_C\n",
    ")\n",
    "\n",
    "# Create substrate slab (Si)\n",
    "substrate_1_slab = create_slab(\n",
    "    crystal=materials_1[0],  # Silicon\n",
    "    termination=substrate_termination,\n",
    "    miller_indices=substrate_1_params.slab_params.miller_indices,\n",
    "    number_of_layers=substrate_1_params.slab_params.thickness,\n",
    "    vacuum=substrate_1_params.slab_params.vacuum,\n",
    "    use_orthogonal_c=substrate_1_params.slab_params.USE_ORTHOGONAL_C\n",
    ")\n",
    "\n",
    "# Create interface configuration using the created slabs\n",
    "interface_config = InterfaceConfiguration(\n",
    "    film_slab=film_1_slab,\n",
    "    substrate_slab=substrate_1_slab,\n",
    "    distance_z=film_1_params.interface_distance,  # Distance to Si substrate\n",
    "    vacuum=film_1_params.vacuum,  # Vacuum for SiO2-terminating interface layer\n",
    ")\n",
    "\n",
    "builder = ZSLStrainMatchingInterfaceBuilder(\n",
    "    build_parameters=ZSLStrainMatchingInterfaceBuilderParameters(\n",
    "        strain_matching_parameters=ZSLStrainMatchingParameters(max_area=MAX_AREA, max_area_ratio_tol=MAX_AREA_RATIO_TOL,\n",
    "                                                               max_angle_tol=MAX_ANGLE_TOLERANCE,\n",
    "                                                               max_length_tol=MAX_LENGTH_TOLERANCE)\n",
    "    )\n",
    ")\n",
    "\n",
    "interfaces = builder.get_materials(configuration=interface_config)\n",
    "interface_1 = interfaces[INTERFACE_1_INDEX]"
   ]
  },
  {
   "cell_type": "markdown",
   "id": "b4d5e3261b720c9d",
   "metadata": {
    "collapsed": false
   },
   "source": [
    "### 2.2. Visualize the Si/SiO2 Interface"
   ]
  },
  {
   "cell_type": "code",
   "execution_count": null,
   "id": "49c046cf4517ad91",
   "metadata": {
    "collapsed": false
   },
   "outputs": [],
   "source": [
    "visualize(\n",
    "    interface_1,\n",
    "    repetitions=[1, 1, 1],\n",
    "    title=\"Si/SiO2 Interface\"\n",
    ")\n",
    "\n",
    "visualize(\n",
    "    interface_1,\n",
    "    repetitions=[1, 1, 1],\n",
    "    title=\"Si/SiO2 Interface\",\n",
    "    rotation='-90x'\n",
    ")\n"
   ]
  },
  {
   "cell_type": "markdown",
   "id": "4cc11d87adc5d979",
   "metadata": {
    "collapsed": false
   },
   "source": [
    "## 3. Add HfO2 Layer\n",
    "### 3.1. Add a layer with SimpleInterfaceBuilder"
   ]
  },
  {
   "cell_type": "code",
   "execution_count": null,
   "id": "670fc0c56e8b22b5",
   "metadata": {
    "collapsed": false
   },
   "outputs": [],
   "source": [
    "from mat3ra.made.tools.build.interface import SimpleInterfaceBuilder, SimpleInterfaceBuilderParameters\n",
    "\n",
    "film_2_params = STRUCTURE_PARAMS[2]  # HfO2 layer\n",
    "\n",
    "# Get terminations for HfO2\n",
    "film_2_terminations = get_slab_terminations(\n",
    "    materials_2[0],  # HfO2\n",
    "    miller_indices=film_2_params.slab_params.miller_indices\n",
    ")\n",
    "\n",
    "# Select termination for HfO2\n",
    "if film_2_params.termination_formula:\n",
    "    film_2_termination = select_slab_termination(film_2_terminations, film_2_params.termination_formula)\n",
    "else:\n",
    "    film_2_termination = film_2_terminations[0]  # Use first available termination\n",
    "\n",
    "# Create HfO2 slab\n",
    "film_2_slab = create_slab(\n",
    "    crystal=materials_2[0],  # HfO2\n",
    "    termination=film_2_termination,\n",
    "    miller_indices=film_2_params.slab_params.miller_indices,\n",
    "    number_of_layers=film_2_params.slab_params.thickness,\n",
    "    vacuum=film_2_params.slab_params.vacuum,\n",
    "    xy_supercell_matrix=film_2_params.slab_params.xy_supercell_matrix,\n",
    "    use_orthogonal_c=film_2_params.slab_params.USE_ORTHOGONAL_C\n",
    ")\n",
    "\n",
    "# Get terminations for substrate (interface_1)\n",
    "substrate_2_terminations = get_slab_terminations(\n",
    "    interface_1,\n",
    "    miller_indices=(0, 0, 1)\n",
    ")\n",
    "\n",
    "# Select first termination for substrate\n",
    "substrate_2_termination = substrate_2_terminations[0]\n",
    "\n",
    "print(\"Film terminations:\", film_2_terminations)\n",
    "print(\"Substrate terminations:\", substrate_2_terminations)\n",
    "\n",
    "# Create interface configuration\n",
    "interface_2_config = InterfaceConfiguration(\n",
    "    film_slab=film_2_slab,\n",
    "    substrate_slab=interface_1,\n",
    "    distance_z=film_2_params.interface_distance,  # Distance to SiO2\n",
    "    vacuum=film_2_params.vacuum  # Vacuum for HfO2-terminating interface layer\n",
    ")\n",
    "\n",
    "builder = SimpleInterfaceBuilder(build_parameters=SimpleInterfaceBuilderParameters(scale_film=True, build_slabs=False))\n",
    "interface_2 = builder.get_material(configuration=interface_2_config)"
   ]
  },
  {
   "cell_type": "markdown",
   "id": "6f62d46be77dbf7f",
   "metadata": {
    "collapsed": false
   },
   "source": [
    "### 3.2. Visualize the Si/SiO2/HfO2 Interface"
   ]
  },
  {
   "cell_type": "code",
   "execution_count": null,
   "id": "5ddc3d75b43a3926",
   "metadata": {
    "collapsed": false
   },
   "outputs": [],
   "source": [
    "visualize(\n",
    "    interface_2,\n",
    "    repetitions=[1, 1, 1],\n",
    "    title=\"Si/SiO2/HfO2 Interface\"\n",
    ")\n",
    "\n",
    "visualize(\n",
    "    interface_2,\n",
    "    repetitions=[1, 1, 1],\n",
    "    title=\"Si/SiO2/HfO2 Interface\",\n",
    "    rotation='-90x'\n",
    ")"
   ]
  },
  {
   "cell_type": "markdown",
   "id": "93705fda2bacc16e",
   "metadata": {
    "collapsed": false
   },
   "source": [
    "## 4. Add TiN Layer\n",
    "### 4.1. Create a TiN Slab"
   ]
  },
  {
   "cell_type": "code",
   "id": "9900d149e4148bfa",
   "metadata": {
    "ExecuteTime": {
     "end_time": "2025-07-28T20:18:40.969072Z",
     "start_time": "2025-07-28T20:18:40.548448Z"
    }
   },
   "source": [
    "from mat3ra.made.tools.build.supercell import create_supercell\n",
    "\n",
    "film_3_params = STRUCTURE_PARAMS[3]  # TiN layer\n",
    "\n",
    "# Get terminations for TiN\n",
    "film_3_terminations = get_slab_terminations(\n",
    "    materials_2[1],  # TiN\n",
    "    miller_indices=film_3_params.slab_params.miller_indices\n",
    ")\n",
    "\n",
    "# Select termination for TiN\n",
    "if film_3_params.termination_formula:\n",
    "    film_3_termination = select_slab_termination(film_3_terminations, film_3_params.termination_formula)\n",
    "else:\n",
    "    film_3_termination = film_3_terminations[0]  # Use first available termination\n",
    "\n",
    "# Create TiN slab\n",
    "tin_slab = create_slab(\n",
    "    crystal=materials_2[1],  # TiN\n",
    "    termination=film_3_termination,\n",
    "    miller_indices=film_3_params.slab_params.miller_indices,\n",
    "    number_of_layers=film_3_params.slab_params.thickness,\n",
    "    vacuum=film_3_params.slab_params.vacuum,\n",
    "    xy_supercell_matrix=film_3_params.slab_params.xy_supercell_matrix,\n",
    "    use_orthogonal_c=film_3_params.slab_params.USE_ORTHOGONAL_C\n",
    ")\n",
    "\n",
    "interface_2_flipped = create_supercell(interface_2, scaling_factor=[1, -1, -1])"
   ],
   "outputs": [
    {
     "name": "stderr",
     "output_type": "stream",
     "text": [
      "/Users/mat3ra/code/GREEN/api-examples/.venv-3.11.2/lib/python3.11/site-packages/spglib/spglib.py:115: DeprecationWarning: dict interface (SpglibDataset['number']) is deprecated.Use attribute interface ({self.__class__.__name__}.{key}) instead\n",
      "  warnings.warn(\n",
      "/Users/mat3ra/code/GREEN/api-examples/.venv-3.11.2/lib/python3.11/site-packages/spglib/spglib.py:115: DeprecationWarning: dict interface (SpglibDataset['international']) is deprecated.Use attribute interface ({self.__class__.__name__}.{key}) instead\n",
      "  warnings.warn(\n",
      "/Users/mat3ra/code/GREEN/api-examples/.venv-3.11.2/lib/python3.11/site-packages/spglib/spglib.py:115: DeprecationWarning: dict interface (SpglibDataset['wyckoffs']) is deprecated.Use attribute interface ({self.__class__.__name__}.{key}) instead\n",
      "  warnings.warn(\n",
      "/Users/mat3ra/code/GREEN/api-examples/.venv-3.11.2/lib/python3.11/site-packages/spglib/spglib.py:115: DeprecationWarning: dict interface (SpglibDataset['equivalent_atoms']) is deprecated.Use attribute interface ({self.__class__.__name__}.{key}) instead\n",
      "  warnings.warn(\n",
      "/Users/mat3ra/code/GREEN/api-examples/.venv-3.11.2/lib/python3.11/site-packages/spglib/spglib.py:115: DeprecationWarning: dict interface (SpglibDataset['rotations']) is deprecated.Use attribute interface ({self.__class__.__name__}.{key}) instead\n",
      "  warnings.warn(\n",
      "/Users/mat3ra/code/GREEN/api-examples/.venv-3.11.2/lib/python3.11/site-packages/pydantic/main.py:426: UserWarning: Pydantic serializer warnings:\n",
      "  Expected `dict[str, any]` but got `MaterialBuildMetadata` with value `MaterialBuildMetadata(bui...e': 'pbc', 'offset': 0})` - serialized value may not be as expected\n",
      "  return self.__pydantic_serializer__.to_python(\n",
      "/Users/mat3ra/code/GREEN/api-examples/.venv-3.11.2/lib/python3.11/site-packages/pydantic/main.py:426: UserWarning: Pydantic serializer warnings:\n",
      "  Expected `enum` but got `str` with value `'crystal'` - serialized value may not be as expected\n",
      "  return self.__pydantic_serializer__.to_python(\n",
      "/Users/mat3ra/code/GREEN/api-examples/.venv-3.11.2/lib/python3.11/site-packages/pydantic/main.py:426: UserWarning: Pydantic serializer warnings:\n",
      "  PydanticSerializationUnexpectedValue: Expected `AtomicLayersUniqueConfiguration` but got `AtomicLayersUniqueRepeatedConfiguration` with value `AtomicLayersUniqueRepeate...number_of_repetitions=3)` - serialized value may not be as expected\n",
      "  PydanticSerializationUnexpectedValue: Expected `Material` but got `MaterialWithBuildMetadata` with value `MaterialWithBuildMetadata...hemaVersion='2022.8.16')` - serialized value may not be as expected\n",
      "  PydanticSerializationUnexpectedValue: Expected `VacuumConfiguration` but got `AtomicLayersUniqueRepeatedConfiguration` with value `AtomicLayersUniqueRepeate...number_of_repetitions=3)` - serialized value may not be as expected\n",
      "  Expected `dict[str, any]` but got `MaterialBuildMetadata` with value `MaterialBuildMetadata(bui...e': 'pbc', 'offset': 0})` - serialized value may not be as expected\n",
      "  PydanticSerializationUnexpectedValue: Expected `AtomicLayersUniqueConfiguration` but got `VacuumConfiguration` with value `VacuumConfiguration(direc...e='VacuumConfiguration')` - serialized value may not be as expected\n",
      "  PydanticSerializationUnexpectedValue: Expected `AtomicLayersUniqueRepeatedConfiguration` but got `VacuumConfiguration` with value `VacuumConfiguration(direc...e='VacuumConfiguration')` - serialized value may not be as expected\n",
      "  PydanticSerializationUnexpectedValue: Expected `Material` but got `MaterialWithBuildMetadata` with value `MaterialWithBuildMetadata...hemaVersion='2022.8.16')` - serialized value may not be as expected\n",
      "  Expected `dict[str, any]` but got `MaterialBuildMetadata` with value `MaterialBuildMetadata(bui...e': 'pbc', 'offset': 0})` - serialized value may not be as expected\n",
      "  return self.__pydantic_serializer__.to_python(\n"
     ]
    },
    {
     "ename": "NameError",
     "evalue": "name 'interface_2' is not defined",
     "output_type": "error",
     "traceback": [
      "\u001B[0;31m---------------------------------------------------------------------------\u001B[0m",
      "\u001B[0;31mNameError\u001B[0m                                 Traceback (most recent call last)",
      "Cell \u001B[0;32mIn[9], line 28\u001B[0m\n\u001B[1;32m     17\u001B[0m \u001B[38;5;66;03m# Create TiN slab\u001B[39;00m\n\u001B[1;32m     18\u001B[0m tin_slab \u001B[38;5;241m=\u001B[39m create_slab(\n\u001B[1;32m     19\u001B[0m     crystal\u001B[38;5;241m=\u001B[39mmaterials_2[\u001B[38;5;241m1\u001B[39m],  \u001B[38;5;66;03m# TiN\u001B[39;00m\n\u001B[1;32m     20\u001B[0m     termination\u001B[38;5;241m=\u001B[39mfilm_3_termination,\n\u001B[0;32m   (...)\u001B[0m\n\u001B[1;32m     25\u001B[0m     use_orthogonal_c\u001B[38;5;241m=\u001B[39mfilm_3_params\u001B[38;5;241m.\u001B[39mslab_params\u001B[38;5;241m.\u001B[39mUSE_ORTHOGONAL_C\n\u001B[1;32m     26\u001B[0m )\n\u001B[0;32m---> 28\u001B[0m interface_2_flipped \u001B[38;5;241m=\u001B[39m create_supercell(\u001B[43minterface_2\u001B[49m, scaling_factor\u001B[38;5;241m=\u001B[39m[\u001B[38;5;241m1\u001B[39m, \u001B[38;5;241m-\u001B[39m\u001B[38;5;241m1\u001B[39m, \u001B[38;5;241m-\u001B[39m\u001B[38;5;241m1\u001B[39m])\n",
      "\u001B[0;31mNameError\u001B[0m: name 'interface_2' is not defined"
     ]
    }
   ],
   "execution_count": 9
  },
  {
   "cell_type": "markdown",
   "id": "37ffd5a46a4b3f8",
   "metadata": {},
   "source": [
    "### 4.2. Get terminations for TiN and Si/SiO2/HfO2"
   ]
  },
  {
   "cell_type": "code",
   "execution_count": null,
   "id": "2da4c0aae9175936",
   "metadata": {},
   "outputs": [],
   "source": [
    "# Get terminations for TiN slab (already created)\n",
    "tin_slab_terminations = get_slab_terminations(\n",
    "    tin_slab,\n",
    "    miller_indices=(0, 0, 1)\n",
    ")\n",
    "\n",
    "# Get terminations for substrate (interface_2_flipped)\n",
    "substrate_3_terminations = get_slab_terminations(\n",
    "    interface_2_flipped,\n",
    "    miller_indices=(0, 0, 1)\n",
    ")\n",
    "\n",
    "# Select first terminations\n",
    "tin_slab_termination = tin_slab_terminations[0]\n",
    "substrate_3_termination = substrate_3_terminations[0]\n",
    "\n",
    "print(\"TiN slab terminations:\", tin_slab_terminations)\n",
    "print(\"Substrate terminations:\", substrate_3_terminations)"
   ]
  },
  {
   "cell_type": "markdown",
   "id": "29288bf265f1175b",
   "metadata": {},
   "source": [
    "### 4.3. Add TiN layer with SimpleInterfaceBuilder"
   ]
  },
  {
   "cell_type": "code",
   "execution_count": null,
   "id": "ec2134e1",
   "metadata": {},
   "outputs": [],
   "source": [
    "# Visualize the created slabs from the interface creation\n",
    "visualize([{\"material\": film_1_slab, \"title\": \"SiO2 Film\"}, {\"material\": substrate_1_slab, \"title\": \"Si Substrate\"}],\n",
    "          repetitions=[3, 3, 1], rotation=\"-90x\")\n"
   ]
  },
  {
   "cell_type": "code",
   "execution_count": null,
   "id": "29bade1cf1bb8304",
   "metadata": {},
   "outputs": [],
   "source": [
    "# Create final interface configuration\n",
    "interface_3_config = InterfaceConfiguration(\n",
    "    film_slab=tin_slab,\n",
    "    substrate_slab=interface_2_flipped,\n",
    "    distance_z=film_3_params.interface_distance,  # Distance to HfO2\n",
    "    vacuum=film_3_params.vacuum  # Vacuum for TiN-terminating interface layer\n",
    ")\n",
    "\n",
    "builder = SimpleInterfaceBuilder(build_parameters=SimpleInterfaceBuilderParameters(scale_film=True, create_slabs=False))\n",
    "\n",
    "interface_3 = builder.get_material(configuration=interface_3_config)\n",
    "# invert the interface along the z-axis to match example\n",
    "interface_3 = create_supercell(interface_3, scaling_factor=[1, -1, -1])"
   ]
  },
  {
   "cell_type": "markdown",
   "id": "de4385aa81264e6b",
   "metadata": {
    "collapsed": false
   },
   "source": [
    "### 4.2. Visualize the Si/SiO2/HfO2/TiN Interface"
   ]
  },
  {
   "cell_type": "code",
   "execution_count": null,
   "id": "2b3fda71c801aeff",
   "metadata": {
    "collapsed": false
   },
   "outputs": [],
   "source": [
    "visualize(\n",
    "    interface_3,\n",
    "    title=\"Si/SiO2/HfO2/TiN Interface\",\n",
    "    viewer=\"wave\",\n",
    "    rotation='-90x'\n",
    ")"
   ]
  },
  {
   "cell_type": "markdown",
   "id": "ae16540b54491e35",
   "metadata": {
    "collapsed": false
   },
   "source": [
    "## 5. Save final material\n"
   ]
  },
  {
   "cell_type": "code",
   "execution_count": null,
   "id": "26550d82",
   "metadata": {},
   "outputs": [],
   "source": [
    "# Visualize HfO2 film slab created earlier\n",
    "visualize([{\"material\": film_2_slab, \"title\": \"HfO2 Film\"}], repetitions=[3, 3, 1], rotation=\"-90x\")\n"
   ]
  },
  {
   "cell_type": "code",
   "execution_count": null,
   "id": "50e1078a",
   "metadata": {},
   "outputs": [],
   "source": [
    "# Visualize TiN slab created earlier\n",
    "visualize([{\"material\": tin_slab, \"title\": \"TiN Film\"}], repetitions=[3, 3, 1], rotation=\"-90x\")\n"
   ]
  },
  {
   "cell_type": "code",
   "execution_count": null,
   "id": "803792030da3a97",
   "metadata": {
    "collapsed": false
   },
   "outputs": [],
   "source": [
    "from utils.jupyterlite import download_content_to_file, set_materials\n",
    "interface_3.name = \"Si-SiO2-HfO2-TiN Heterostructure\"\n",
    "set_materials(interface_3)\n",
    "download_content_to_file(interface_3, \"heterostructure_high_k_metal_gate.json\")"
   ]
  }
 ],
 "metadata": {
  "kernelspec": {
   "display_name": ".venv-3.11",
   "language": "python",
   "name": "python3"
  },
  "language_info": {
   "codemirror_mode": {
    "name": "ipython",
    "version": 3
   },
   "file_extension": ".py",
   "mimetype": "text/x-python",
   "name": "python",
   "nbconvert_exporter": "python",
   "pygments_lexer": "ipython3",
   "version": "3.11.7"
  }
 },
 "nbformat": 4,
 "nbformat_minor": 5
}
