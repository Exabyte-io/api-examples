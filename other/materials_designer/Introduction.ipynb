{
 "cells": [
  {
   "cell_type": "markdown",
   "metadata": {},
   "source": [
    "# Materials Transformations with Python Notebooks\n",
    "\n",
    "## Overview\n",
    "\n",
    "This Jupyter Lite distribution contains pre-configured examples of materials transformations including simple ones like creation of supercell or a surface, and more complex like creating an interface with Zur and McGill Superlattice matching algorithm\n",
    "\n",
    "## Examples\n",
    "\n",
    "### [1. Interface creation with Zur and McGill Superlattice algorithm](create_interface_with_min_strain_zsl.ipynb)\n",
    "\n",
    "This notebook lets user create an interface between two materials by finding matching superlattices and selecting optimal variants by size-strain trade-off. (Link to the lattice match algorithm: https://doi.org/10.1063/1.333084)\n",
    "\n",
    "### [2. Import of materials from JARVIS](import_material_from_jarvis_db_entry.ipynb)\n",
    "\n",
    "This notebook demonstrates a workflow for processing materials data from the JARVIS database for use with Mat3ra.com platform."
   ]
  }
 ],
 "metadata": {
  "language_info": {
   "name": "python"
  }
 },
 "nbformat": 4,
 "nbformat_minor": 2
}
