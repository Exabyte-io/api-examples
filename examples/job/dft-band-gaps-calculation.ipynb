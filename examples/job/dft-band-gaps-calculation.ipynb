version https://git-lfs.github.com/spec/v1
oid sha256:1c8cac184973c519d498fd78381dd23e2ccd870205005f041fefeb5043d8bbe9
size 23152
