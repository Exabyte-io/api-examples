{
  "nbformat": 4,
  "nbformat_minor": 0,
  "metadata": {
    "colab": {
      "name": "colab_with_google_cloud_bucket_setup.ipynb",
      "provenance": [],
      "collapsed_sections": [],
      "authorship_tag": "ABX9TyOgWbb3YtyNcM9vRCXTz1t8",
      "include_colab_link": true
    },
    "kernelspec": {
      "name": "python3",
      "display_name": "Python 3"
    },
    "language_info": {
      "name": "python"
    }
  },
  "cells": [
    {
      "cell_type": "markdown",
      "metadata": {
        "id": "view-in-github",
        "colab_type": "text"
      },
      "source": [
        "<a href=\"https://colab.research.google.com/github/Exabyte-io/exabyte-api-examples/blob/feature%2FSOF-4400-drive/examples/colab_setup_google_cloud_bucket.ipynb\" target=\"_parent\"><img src=\"https://colab.research.google.com/assets/colab-badge.svg\" alt=\"Open In Colab\"/></a>"
      ]
    },
    {
      "cell_type": "code",
      "metadata": {
        "id": "wEmeY7XXTHjB"
      },
      "source": [
        "!mkdir cloud_folder"
      ],
      "execution_count": 1,
      "outputs": []
    },
    {
      "cell_type": "code",
      "metadata": {
        "id": "0V53y_A2Ostv"
      },
      "source": [
        "project_id = 'exabyte-io'\n",
        "bucket_name = 'exabyte-colab-shared-data'"
      ],
      "execution_count": 2,
      "outputs": []
    },
    {
      "cell_type": "code",
      "metadata": {
        "id": "2QjahJM4TAbF"
      },
      "source": [
        "from google.colab import auth\n",
        "auth.authenticate_user()"
      ],
      "execution_count": 3,
      "outputs": []
    },
    {
      "cell_type": "code",
      "metadata": {
        "colab": {
          "base_uri": "https://localhost:8080/"
        },
        "id": "OOH02z2wTAd3",
        "outputId": "4b34dc68-a680-4478-9175-396c0d3cf12d"
      },
      "source": [
        "!gcloud config set project {project_id}"
      ],
      "execution_count": 4,
      "outputs": [
        {
          "output_type": "stream",
          "text": [
            "Updated property [core/project].\n"
          ],
          "name": "stdout"
        }
      ]
    },
    {
      "cell_type": "code",
      "metadata": {
        "colab": {
          "base_uri": "https://localhost:8080/"
        },
        "id": "FugQRMdhTAgh",
        "outputId": "35092c20-8e7b-452a-d7c3-eb1896c826b2"
      },
      "source": [
        "!echo \"deb http://packages.cloud.google.com/apt gcsfuse-bionic main\" > /etc/apt/sources.list.d/gcsfuse.list\n",
        "!curl https://packages.cloud.google.com/apt/doc/apt-key.gpg | apt-key add -\n",
        "!apt -qq update\n",
        "!apt -qq install gcsfuse"
      ],
      "execution_count": 5,
      "outputs": [
        {
          "output_type": "stream",
          "text": [
            "  % Total    % Received % Xferd  Average Speed   Time    Time     Time  Current\n",
            "                                 Dload  Upload   Total   Spent    Left  Speed\n",
            "\r  0     0    0     0    0     0      0      0 --:--:-- --:--:-- --:--:--     0\r100  2537  100  2537    0     0  81838      0 --:--:-- --:--:-- --:--:-- 81838\n",
            "OK\n",
            "49 packages can be upgraded. Run 'apt list --upgradable' to see them.\n",
            "The following NEW packages will be installed:\n",
            "  gcsfuse\n",
            "0 upgraded, 1 newly installed, 0 to remove and 49 not upgraded.\n",
            "Need to get 10.8 MB of archives.\n",
            "After this operation, 23.1 MB of additional disk space will be used.\n",
            "Selecting previously unselected package gcsfuse.\n",
            "(Reading database ... 160772 files and directories currently installed.)\n",
            "Preparing to unpack .../gcsfuse_0.35.1_amd64.deb ...\n",
            "Unpacking gcsfuse (0.35.1) ...\n",
            "Setting up gcsfuse (0.35.1) ...\n"
          ],
          "name": "stdout"
        }
      ]
    },
    {
      "cell_type": "code",
      "metadata": {
        "colab": {
          "base_uri": "https://localhost:8080/"
        },
        "id": "zEcLrxedTAi9",
        "outputId": "e097f56b-2eb1-4b4d-f850-a5005091af46"
      },
      "source": [
        "!gcsfuse exabyte-colab-shared-data cloud_folder"
      ],
      "execution_count": 6,
      "outputs": [
        {
          "output_type": "stream",
          "text": [
            "2021/06/22 02:04:30.950082 Using mount point: /content/cloud_folder\n",
            "2021/06/22 02:04:30.957110 Opening GCS connection...\n",
            "2021/06/22 02:04:31.219569 Mounting file system \"exabyte-colab-shared-data\"...\n",
            "2021/06/22 02:04:31.257848 File system has been successfully mounted.\n"
          ],
          "name": "stdout"
        }
      ]
    },
    {
      "cell_type": "markdown",
      "metadata": {
        "id": "z4S_GBZaeF01"
      },
      "source": [
        "# Clone repo and pip install requirements to cloud"
      ]
    },
    {
      "cell_type": "code",
      "metadata": {
        "colab": {
          "base_uri": "https://localhost:8080/"
        },
        "id": "z61ayIX4eBqT",
        "outputId": "d9890bab-98d8-4346-8ea3-8cc1a9df0ab0"
      },
      "source": [
        "!git clone https://github.com/Exabyte-io/exabyte-api-examples.git"
      ],
      "execution_count": 7,
      "outputs": [
        {
          "output_type": "stream",
          "text": [
            "Cloning into 'exabyte-api-examples'...\n",
            "remote: Enumerating objects: 2055, done.\u001b[K\n",
            "remote: Counting objects: 100% (660/660), done.\u001b[K\n",
            "remote: Compressing objects: 100% (424/424), done.\u001b[K\n",
            "remote: Total 2055 (delta 338), reused 517 (delta 231), pack-reused 1395\u001b[K\n",
            "Receiving objects: 100% (2055/2055), 34.73 MiB | 38.08 MiB/s, done.\n",
            "Resolving deltas: 100% (1099/1099), done.\n"
          ],
          "name": "stdout"
        }
      ]
    },
    {
      "cell_type": "code",
      "metadata": {
        "colab": {
          "base_uri": "https://localhost:8080/"
        },
        "id": "ZZm_Xq3jeNf4",
        "outputId": "f2533db7-4f30-437b-e306-6059e2bd02eb"
      },
      "source": [
        "!pip install -r exabyte-api-examples/requirements.txt -t '/content/cloud_folder'"
      ],
      "execution_count": null,
      "outputs": [
        {
          "output_type": "stream",
          "text": [
            "Collecting anyio==2.1.0\n",
            "\u001b[?25l  Downloading https://files.pythonhosted.org/packages/b4/e5/a5aaca991a72839ea76162e81b48377db444d9ab3d32ccdaa267417ce0e9/anyio-2.1.0-py3-none-any.whl (64kB)\n",
            "\u001b[K     |████████████████████████████████| 71kB 2.8MB/s \n",
            "\u001b[?25hCollecting appnope==0.1.2\n",
            "  Downloading https://files.pythonhosted.org/packages/e4/fa/0c6c9786aa6927d12d100d322588e125e6ed466ab0a3d2d509ea18aeb56d/appnope-0.1.2-py2.py3-none-any.whl\n",
            "Collecting argon2-cffi==20.1.0\n",
            "\u001b[?25l  Downloading https://files.pythonhosted.org/packages/e0/d7/5da06217807106ed6d7b4f5ccb8ec5e3f9ec969217faad4b5d1af0b55101/argon2_cffi-20.1.0-cp35-abi3-manylinux1_x86_64.whl (97kB)\n",
            "\u001b[K     |████████████████████████████████| 102kB 3.7MB/s \n",
            "\u001b[?25hCollecting ase==3.21.1\n",
            "\u001b[?25l  Downloading https://files.pythonhosted.org/packages/a5/36/de17e79f29e06d9a92746d0dd9ec4636487ab03f6af10e78586aae533f7a/ase-3.21.1-py3-none-any.whl (2.2MB)\n",
            "\u001b[K     |████████████████████████████████| 2.2MB 24.3MB/s \n",
            "\u001b[?25hCollecting async-generator==1.10\n",
            "  Downloading https://files.pythonhosted.org/packages/71/52/39d20e03abd0ac9159c162ec24b93fbcaa111e8400308f2465432495ca2b/async_generator-1.10-py3-none-any.whl\n",
            "Collecting attrs==20.3.0\n",
            "\u001b[?25l  Downloading https://files.pythonhosted.org/packages/c3/aa/cb45262569fcc047bf070b5de61813724d6726db83259222cd7b4c79821a/attrs-20.3.0-py2.py3-none-any.whl (49kB)\n",
            "\u001b[K     |████████████████████████████████| 51kB 6.3MB/s \n",
            "\u001b[?25hCollecting Babel==2.9.0\n",
            "\u001b[?25l  Downloading https://files.pythonhosted.org/packages/dd/a5/81076e10b5ef74493cf08a8e419e61b64324c9c55db4aa7f89c0240c4873/Babel-2.9.0-py2.py3-none-any.whl (8.8MB)\n",
            "\u001b[K     |████████████████████████████████| 8.8MB 24.5MB/s \n",
            "\u001b[?25hCollecting backcall==0.2.0\n",
            "  Downloading https://files.pythonhosted.org/packages/4c/1c/ff6546b6c12603d8dd1070aa3c3d273ad4c07f5771689a7b69a550e8c951/backcall-0.2.0-py2.py3-none-any.whl\n",
            "Collecting bleach==3.3.0\n",
            "\u001b[?25l  Downloading https://files.pythonhosted.org/packages/f0/46/2bbd92086a4c6f051214cb48df6d9132b5f32c5e881d3f4991b16ec7e499/bleach-3.3.0-py2.py3-none-any.whl (283kB)\n",
            "\u001b[K     |████████████████████████████████| 286kB 38.2MB/s \n",
            "\u001b[?25hCollecting certifi==2020.12.5\n",
            "\u001b[?25l  Downloading https://files.pythonhosted.org/packages/5e/a0/5f06e1e1d463903cf0c0eebeb751791119ed7a4b3737fdc9a77f1cdfb51f/certifi-2020.12.5-py2.py3-none-any.whl (147kB)\n",
            "\u001b[K     |████████████████████████████████| 153kB 43.6MB/s \n",
            "\u001b[?25hCollecting cffi==1.14.5\n",
            "\u001b[?25l  Downloading https://files.pythonhosted.org/packages/97/2d/cd29c79f2eb1384577d0662f23c89d29621152f14bef8c6b25747785744b/cffi-1.14.5-cp37-cp37m-manylinux1_x86_64.whl (402kB)\n",
            "\u001b[K     |████████████████████████████████| 409kB 26.8MB/s \n",
            "\u001b[?25hCollecting chardet==3.0.4\n",
            "\u001b[?25l  Downloading https://files.pythonhosted.org/packages/bc/a9/01ffebfb562e4274b6487b4bb1ddec7ca55ec7510b22e4c51f14098443b8/chardet-3.0.4-py2.py3-none-any.whl (133kB)\n",
            "\u001b[K     |████████████████████████████████| 143kB 45.3MB/s \n",
            "\u001b[?25hCollecting cycler==0.10.0\n",
            "  Downloading https://files.pythonhosted.org/packages/f7/d2/e07d3ebb2bd7af696440ce7e754c59dd546ffe1bbe732c8ab68b9c834e61/cycler-0.10.0-py2.py3-none-any.whl\n",
            "Collecting decorator==4.4.2\n",
            "  Downloading https://files.pythonhosted.org/packages/ed/1b/72a1821152d07cf1d8b6fce298aeb06a7eb90f4d6d41acec9861e7cc6df0/decorator-4.4.2-py2.py3-none-any.whl\n",
            "Collecting defusedxml==0.6.0\n",
            "  Downloading https://files.pythonhosted.org/packages/06/74/9b387472866358ebc08732de3da6dc48e44b0aacd2ddaa5cb85ab7e986a2/defusedxml-0.6.0-py2.py3-none-any.whl\n",
            "Collecting entrypoints==0.3\n",
            "  Downloading https://files.pythonhosted.org/packages/ac/c6/44694103f8c221443ee6b0041f69e2740d89a25641e62fb4f2ee568f2f9c/entrypoints-0.3-py2.py3-none-any.whl\n",
            "Collecting exabyte-api-client==2021.1.18\n",
            "  Downloading https://files.pythonhosted.org/packages/4e/5b/d7807e2a3a81cc7b5c024f6cd9da723453f4de7507c2fc2d037a540b595f/exabyte_api_client-2021.1.18-py3-none-any.whl\n",
            "Collecting future==0.18.2\n",
            "\u001b[?25l  Downloading https://files.pythonhosted.org/packages/45/0b/38b06fd9b92dc2b68d58b75f900e97884c45bedd2ff83203d933cf5851c9/future-0.18.2.tar.gz (829kB)\n",
            "\u001b[K     |████████████████████████████████| 829kB 29.5MB/s \n",
            "\u001b[?25hCollecting idna==2.7\n",
            "\u001b[?25l  Downloading https://files.pythonhosted.org/packages/4b/2a/0276479a4b3caeb8a8c1af2f8e4355746a97fab05a372e4a2c6a6b876165/idna-2.7-py2.py3-none-any.whl (58kB)\n",
            "\u001b[K     |████████████████████████████████| 61kB 7.0MB/s \n",
            "\u001b[?25hCollecting ipykernel==5.4.3\n",
            "\u001b[?25l  Downloading https://files.pythonhosted.org/packages/7d/cc/e8908bbb2921732f6851ebbbe4b77b925aab62e644ab9402f21c84fa6107/ipykernel-5.4.3-py3-none-any.whl (120kB)\n",
            "\u001b[K     |████████████████████████████████| 122kB 40.0MB/s \n",
            "\u001b[?25hCollecting ipython==7.20.0\n",
            "\u001b[?25l  Downloading https://files.pythonhosted.org/packages/37/e7/f0603980140976fe6c998dcd30a559dd8a3e1bfd4a9358c27411e33de6d9/ipython-7.20.0-py3-none-any.whl (784kB)\n",
            "\u001b[K     |████████████████████████████████| 788kB 30.9MB/s \n",
            "\u001b[?25hCollecting ipython-genutils==0.2.0\n",
            "  Downloading https://files.pythonhosted.org/packages/fa/bc/9bd3b5c2b4774d5f33b2d544f1460be9df7df2fe42f352135381c347c69a/ipython_genutils-0.2.0-py2.py3-none-any.whl\n",
            "Collecting jedi==0.18.0\n",
            "\u001b[?25l  Downloading https://files.pythonhosted.org/packages/f9/36/7aa67ae2663025b49e8426ead0bad983fee1b73f472536e9790655da0277/jedi-0.18.0-py2.py3-none-any.whl (1.4MB)\n",
            "\u001b[K     |████████████████████████████████| 1.4MB 37.9MB/s \n",
            "\u001b[?25hCollecting Jinja2==2.11.3\n",
            "\u001b[?25l  Downloading https://files.pythonhosted.org/packages/7e/c2/1eece8c95ddbc9b1aeb64f5783a9e07a286de42191b7204d67b7496ddf35/Jinja2-2.11.3-py2.py3-none-any.whl (125kB)\n",
            "\u001b[K     |████████████████████████████████| 133kB 37.5MB/s \n",
            "\u001b[?25hCollecting json5==0.9.5\n",
            "  Downloading https://files.pythonhosted.org/packages/2b/81/22bf51a5bc60dde18bb6164fd597f18ee683de8670e141364d9c432dd3cf/json5-0.9.5-py2.py3-none-any.whl\n",
            "Collecting jsonschema==3.2.0\n",
            "\u001b[?25l  Downloading https://files.pythonhosted.org/packages/c5/8f/51e89ce52a085483359217bc72cdbf6e75ee595d5b1d4b5ade40c7e018b8/jsonschema-3.2.0-py2.py3-none-any.whl (56kB)\n",
            "\u001b[K     |████████████████████████████████| 61kB 7.4MB/s \n",
            "\u001b[?25hCollecting jupyter-client==6.1.11\n",
            "\u001b[?25l  Downloading https://files.pythonhosted.org/packages/83/d6/30aed7ef13ff3f359e99626c1b0a32ebbc3bf9b9d5616ec46e9e245d5fa9/jupyter_client-6.1.11-py3-none-any.whl (108kB)\n",
            "\u001b[K     |████████████████████████████████| 112kB 49.1MB/s \n",
            "\u001b[?25hCollecting jupyter-core==4.7.1\n",
            "\u001b[?25l  Downloading https://files.pythonhosted.org/packages/53/40/5af36bffa0af3ac71d3a6fc6709de10e4f6ff7c01745b8bc4715372189c9/jupyter_core-4.7.1-py3-none-any.whl (82kB)\n",
            "\u001b[K     |████████████████████████████████| 92kB 10.6MB/s \n",
            "\u001b[?25hCollecting jupyter-server==1.3.0\n",
            "\u001b[?25l  Downloading https://files.pythonhosted.org/packages/32/e9/924ae8b645ab12799de625d561ca9d47b617509cf7cf04e88d1bac3b08ec/jupyter_server-1.3.0-py3-none-any.whl (188kB)\n",
            "\u001b[K     |████████████████████████████████| 194kB 40.3MB/s \n",
            "\u001b[?25hCollecting jupyterlab==3.0.3\n",
            "\u001b[?25l  Downloading https://files.pythonhosted.org/packages/d1/b8/7e3efdbae40107b59c2c16c47bad0128938048e1469882d8975020ab2a81/jupyterlab-3.0.3-py3-none-any.whl (8.3MB)\n",
            "\u001b[K     |████████████████████████████████| 8.3MB 22.6MB/s \n",
            "\u001b[?25hCollecting jupyterlab-pygments==0.1.2\n",
            "  Downloading https://files.pythonhosted.org/packages/a8/6f/c34288766797193b512c6508f5994b830fb06134fdc4ca8214daba0aa443/jupyterlab_pygments-0.1.2-py2.py3-none-any.whl\n",
            "Collecting jupyterlab-server==2.2.0\n",
            "\u001b[?25l  Downloading https://files.pythonhosted.org/packages/c8/1b/05bb42dc2373b0597b16148bddb78350d664208291432eee9139f1445e21/jupyterlab_server-2.2.0-py3-none-any.whl (45kB)\n",
            "\u001b[K     |████████████████████████████████| 51kB 6.0MB/s \n",
            "\u001b[?25hCollecting kiwisolver==1.3.1\n",
            "\u001b[?25l  Downloading https://files.pythonhosted.org/packages/d2/46/231de802ade4225b76b96cffe419cf3ce52bbe92e3b092cf12db7d11c207/kiwisolver-1.3.1-cp37-cp37m-manylinux1_x86_64.whl (1.1MB)\n",
            "\u001b[K     |████████████████████████████████| 1.1MB 31.8MB/s \n",
            "\u001b[?25hCollecting MarkupSafe==1.1.1\n",
            "  Downloading https://files.pythonhosted.org/packages/c2/37/2e4def8ce3739a258998215df907f5815ecd1af71e62147f5eea2d12d4e8/MarkupSafe-1.1.1-cp37-cp37m-manylinux2010_x86_64.whl\n",
            "Collecting matplotlib==3.4.1\n",
            "\u001b[?25l  Downloading https://files.pythonhosted.org/packages/ce/63/74c0b6184b6b169b121bb72458818ee60a7d7c436d7b1907bd5874188c55/matplotlib-3.4.1-cp37-cp37m-manylinux1_x86_64.whl (10.3MB)\n",
            "\u001b[K     |████████████████████████████████| 10.3MB 20.6MB/s \n",
            "\u001b[?25hCollecting mistune==0.8.4\n",
            "  Downloading https://files.pythonhosted.org/packages/09/ec/4b43dae793655b7d8a25f76119624350b4d65eb663459eb9603d7f1f0345/mistune-0.8.4-py2.py3-none-any.whl\n",
            "Collecting monty==2021.3.3\n",
            "\u001b[?25l  Downloading https://files.pythonhosted.org/packages/41/47/e6f045cd69f24df0b4ddd55fab329c079b7c9ce978a32431dce904f6a1d6/monty-2021.3.3-py3-none-any.whl (63kB)\n",
            "\u001b[K     |████████████████████████████████| 71kB 8.4MB/s \n",
            "\u001b[?25hCollecting mpmath==1.2.1\n",
            "\u001b[?25l  Downloading https://files.pythonhosted.org/packages/d4/cf/3965bddbb4f1a61c49aacae0e78fd1fe36b5dc36c797b31f30cf07dcbbb7/mpmath-1.2.1-py3-none-any.whl (532kB)\n",
            "\u001b[K     |████████████████████████████████| 542kB 34.3MB/s \n",
            "\u001b[?25hCollecting nbclassic==0.2.6\n",
            "  Downloading https://files.pythonhosted.org/packages/e6/f0/113b9a6975e53285c56091a250be4828dd20d80172620a4ff74ed26c9fe7/nbclassic-0.2.6-py3-none-any.whl\n",
            "Collecting nbclient==0.5.2\n",
            "\u001b[?25l  Downloading https://files.pythonhosted.org/packages/e5/e9/cb88ef8fe390439637ea68c5abdf5f490cbf5ad2edbf612b6e03cd30cbf3/nbclient-0.5.2-py3-none-any.whl (65kB)\n",
            "\u001b[K     |████████████████████████████████| 71kB 8.2MB/s \n",
            "\u001b[?25hCollecting nbconvert==6.0.7\n",
            "\u001b[?25l  Downloading https://files.pythonhosted.org/packages/13/2f/acbe7006548f3914456ee47f97a2033b1b2f3daf921b12ac94105d87c163/nbconvert-6.0.7-py3-none-any.whl (552kB)\n",
            "\u001b[K     |████████████████████████████████| 552kB 29.3MB/s \n",
            "\u001b[33mWARNING: The candidate selected for download or install is a yanked version: 'nbformat' candidate (version 5.1.2 at https://files.pythonhosted.org/packages/13/1d/59cbc5a6b627ba3b4c0ec5ccc82a9002e58b324e2620a4929b81f1f8d309/nbformat-5.1.2-py3-none-any.whl#sha256=3949fdc8f5fa0b1afca16fb307546e78494fa7a7bceff880df8168eafda0e7ac (from https://pypi.org/simple/nbformat/) (requires-python:>=3.5))\n",
            "Reason for being yanked: Name generation process created inappropriate id values\u001b[0m\n",
            "\u001b[?25hCollecting nbformat==5.1.2\n",
            "\u001b[?25l  Downloading https://files.pythonhosted.org/packages/13/1d/59cbc5a6b627ba3b4c0ec5ccc82a9002e58b324e2620a4929b81f1f8d309/nbformat-5.1.2-py3-none-any.whl (113kB)\n",
            "\u001b[K     |████████████████████████████████| 122kB 48.8MB/s \n",
            "\u001b[?25hCollecting nest-asyncio==1.5.1\n",
            "  Downloading https://files.pythonhosted.org/packages/52/e2/9b37da54e6e9094d2f558ae643d1954a0fa8215dfee4fa261f31c5439796/nest_asyncio-1.5.1-py3-none-any.whl\n",
            "Collecting networkx==2.5.1\n",
            "\u001b[?25l  Downloading https://files.pythonhosted.org/packages/f3/b7/c7f488101c0bb5e4178f3cde416004280fd40262433496830de8a8c21613/networkx-2.5.1-py3-none-any.whl (1.6MB)\n",
            "\u001b[K     |████████████████████████████████| 1.6MB 38.4MB/s \n",
            "\u001b[?25hCollecting notebook==6.2.0\n",
            "\u001b[?25l  Downloading https://files.pythonhosted.org/packages/74/19/50cd38acf22e33370d01fef764355f1e3517f6e12b4fceb8d434ece4f8fd/notebook-6.2.0-py3-none-any.whl (9.5MB)\n",
            "\u001b[K     |████████████████████████████████| 9.5MB 34.4MB/s \n",
            "\u001b[?25hCollecting numpy==1.20.1\n",
            "\u001b[?25l  Downloading https://files.pythonhosted.org/packages/70/8a/064b4077e3d793f877e3b77aa64f56fa49a4d37236a53f78ee28be009a16/numpy-1.20.1-cp37-cp37m-manylinux2010_x86_64.whl (15.3MB)\n",
            "\u001b[K     |████████████████████████████████| 15.3MB 199kB/s \n",
            "\u001b[?25hCollecting packaging==20.9\n",
            "\u001b[?25l  Downloading https://files.pythonhosted.org/packages/3e/89/7ea760b4daa42653ece2380531c90f64788d979110a2ab51049d92f408af/packaging-20.9-py2.py3-none-any.whl (40kB)\n",
            "\u001b[K     |████████████████████████████████| 40kB 5.0MB/s \n",
            "\u001b[?25hCollecting palettable==3.3.0\n",
            "\u001b[?25l  Downloading https://files.pythonhosted.org/packages/ca/46/5198aa24e61bb7eef28d06cb69e56bfa1942f4b6807d95a0b5ce361fe09b/palettable-3.3.0-py2.py3-none-any.whl (111kB)\n",
            "\u001b[K     |████████████████████████████████| 112kB 44.4MB/s \n",
            "\u001b[?25hCollecting pandas==1.1.4\n",
            "\u001b[?25l  Downloading https://files.pythonhosted.org/packages/bf/4c/cb7da76f3a5e077e545f9cf8575b8f488a4e8ad60490838f89c5cdd5bb57/pandas-1.1.4-cp37-cp37m-manylinux1_x86_64.whl (9.5MB)\n",
            "\u001b[K     |████████████████████████████████| 9.5MB 26.5MB/s \n",
            "\u001b[?25hCollecting pandocfilters==1.4.3\n",
            "  Downloading https://files.pythonhosted.org/packages/28/78/bd59a9adb72fa139b1c9c186e6f65aebee52375a747e4b6a6dcf0880956f/pandocfilters-1.4.3.tar.gz\n",
            "Collecting parso==0.8.1\n",
            "\u001b[?25l  Downloading https://files.pythonhosted.org/packages/ad/f0/ef6bdb1eba2dbfda60c985cd8d7b47b6ed8c6a1f5d212f39ff50b64f172c/parso-0.8.1-py2.py3-none-any.whl (93kB)\n",
            "\u001b[K     |████████████████████████████████| 102kB 10.8MB/s \n",
            "\u001b[?25hCollecting pexpect==4.8.0\n",
            "\u001b[?25l  Downloading https://files.pythonhosted.org/packages/39/7b/88dbb785881c28a102619d46423cb853b46dbccc70d3ac362d99773a78ce/pexpect-4.8.0-py2.py3-none-any.whl (59kB)\n",
            "\u001b[K     |████████████████████████████████| 61kB 6.5MB/s \n",
            "\u001b[?25hCollecting pickleshare==0.7.5\n",
            "  Downloading https://files.pythonhosted.org/packages/9a/41/220f49aaea88bc6fa6cba8d05ecf24676326156c23b991e80b3f2fc24c77/pickleshare-0.7.5-py2.py3-none-any.whl\n",
            "Collecting Pillow==8.2.0\n",
            "\u001b[?25l  Downloading https://files.pythonhosted.org/packages/33/34/542152297dcc6c47a9dcb0685eac6d652d878ed3cea83bf2b23cb988e857/Pillow-8.2.0-cp37-cp37m-manylinux1_x86_64.whl (3.0MB)\n",
            "\u001b[K     |████████████████████████████████| 3.0MB 32.2MB/s \n",
            "\u001b[?25hCollecting plotly==4.14.3\n",
            "\u001b[?25l  Downloading https://files.pythonhosted.org/packages/1f/f6/bd3c17c8003b6641df1228e80e1acac97ed8402635e46c2571f8e1ef63af/plotly-4.14.3-py2.py3-none-any.whl (13.2MB)\n",
            "\u001b[K     |████████████████████████████████| 13.2MB 233kB/s \n",
            "\u001b[?25hCollecting prometheus-client==0.9.0\n",
            "\u001b[?25l  Downloading https://files.pythonhosted.org/packages/f4/7e/ef341c67ed43ad2e39633a35c28b77bc555f9572f4df4fee11c2b467db00/prometheus_client-0.9.0-py2.py3-none-any.whl (53kB)\n",
            "\u001b[K     |████████████████████████████████| 61kB 6.4MB/s \n",
            "\u001b[?25hCollecting prompt-toolkit==3.0.16\n",
            "\u001b[?25l  Downloading https://files.pythonhosted.org/packages/a6/0b/c6de29441b29f8b54d5bbe29a8b223de6e400714ff50e85541bd4c783421/prompt_toolkit-3.0.16-py3-none-any.whl (366kB)\n",
            "\u001b[K     |████████████████████████████████| 368kB 46.9MB/s \n",
            "\u001b[?25hCollecting ptyprocess==0.7.0\n",
            "  Downloading https://files.pythonhosted.org/packages/22/a6/858897256d0deac81a172289110f31629fc4cee19b6f01283303e18c8db3/ptyprocess-0.7.0-py2.py3-none-any.whl\n",
            "Collecting pycparser==2.20\n",
            "\u001b[?25l  Downloading https://files.pythonhosted.org/packages/ae/e7/d9c3a176ca4b02024debf82342dab36efadfc5776f9c8db077e8f6e71821/pycparser-2.20-py2.py3-none-any.whl (112kB)\n",
            "\u001b[K     |████████████████████████████████| 112kB 52.2MB/s \n",
            "\u001b[?25hCollecting Pygments==2.8.0\n",
            "\u001b[?25l  Downloading https://files.pythonhosted.org/packages/d4/ef/881b14d3ad4d6a86384d63bfbb87205161e4fc46420526380ec209a12e17/Pygments-2.8.0-py3-none-any.whl (983kB)\n",
            "\u001b[K     |████████████████████████████████| 993kB 20.7MB/s \n",
            "\u001b[?25hCollecting pymatgen==2021.2.16\n",
            "\u001b[?25l  Downloading https://files.pythonhosted.org/packages/9b/50/a22eb063ca5ceb27c2be7e51e775ee4b5ade664525be143a2b1b77e4cc70/pymatgen-2021.2.16.tar.gz (3.0MB)\n",
            "\u001b[K     |████████████████████████████████| 3.0MB 31.1MB/s \n",
            "\u001b[?25h  Installing build dependencies ... \u001b[?25l\u001b[?25hdone\n",
            "  Getting requirements to build wheel ... \u001b[?25l\u001b[?25hdone\n",
            "  Installing backend dependencies ... \u001b[?25l\u001b[?25hdone\n",
            "    Preparing wheel metadata ... \u001b[?25l\u001b[?25hdone\n",
            "Collecting pyparsing==2.4.7\n",
            "\u001b[?25l  Downloading https://files.pythonhosted.org/packages/8a/bb/488841f56197b13700afd5658fc279a2025a39e22449b7cf29864669b15d/pyparsing-2.4.7-py2.py3-none-any.whl (67kB)\n",
            "\u001b[K     |████████████████████████████████| 71kB 7.4MB/s \n",
            "\u001b[?25hCollecting pyrsistent==0.17.3\n",
            "\u001b[?25l  Downloading https://files.pythonhosted.org/packages/4d/70/fd441df751ba8b620e03fd2d2d9ca902103119616f0f6cc42e6405035062/pyrsistent-0.17.3.tar.gz (106kB)\n",
            "\u001b[K     |████████████████████████████████| 112kB 41.1MB/s \n",
            "\u001b[?25hCollecting python-dateutil==2.8.1\n",
            "\u001b[?25l  Downloading https://files.pythonhosted.org/packages/d4/70/d60450c3dd48ef87586924207ae8907090de0b306af2bce5d134d78615cb/python_dateutil-2.8.1-py2.py3-none-any.whl (227kB)\n",
            "\u001b[K     |████████████████████████████████| 235kB 41.5MB/s \n",
            "\u001b[?25hCollecting pytz==2021.1\n",
            "\u001b[?25l  Downloading https://files.pythonhosted.org/packages/70/94/784178ca5dd892a98f113cdd923372024dc04b8d40abe77ca76b5fb90ca6/pytz-2021.1-py2.py3-none-any.whl (510kB)\n",
            "\u001b[K     |████████████████████████████████| 512kB 38.8MB/s \n",
            "\u001b[?25hCollecting pyzmq==22.0.3\n",
            "\u001b[?25l  Downloading https://files.pythonhosted.org/packages/85/1b/55859190556d85f39f2c1e5b10430d8d6187745e587e487cb1dc746d8bf2/pyzmq-22.0.3-cp37-cp37m-manylinux1_x86_64.whl (1.1MB)\n",
            "\u001b[K     |████████████████████████████████| 1.1MB 23.6MB/s \n",
            "\u001b[?25hCollecting requests==2.20.1\n",
            "\u001b[?25l  Downloading https://files.pythonhosted.org/packages/ff/17/5cbb026005115301a8fb2f9b0e3e8d32313142fe8b617070e7baad20554f/requests-2.20.1-py2.py3-none-any.whl (57kB)\n",
            "\u001b[K     |████████████████████████████████| 61kB 7.6MB/s \n",
            "\u001b[?25hCollecting retrying==1.3.3\n",
            "  Downloading https://files.pythonhosted.org/packages/44/ef/beae4b4ef80902f22e3af073397f079c96969c69b2c7d52a57ea9ae61c9d/retrying-1.3.3.tar.gz\n",
            "Collecting ruamel.yaml==0.17.4\n",
            "\u001b[?25l  Downloading https://files.pythonhosted.org/packages/29/4e/c3105bbbbc662f6a671a505f00ec771e93b5254f09fbb06002af9087071a/ruamel.yaml-0.17.4-py3-none-any.whl (101kB)\n",
            "\u001b[K     |████████████████████████████████| 102kB 11.3MB/s \n",
            "\u001b[?25hCollecting ruamel.yaml.clib==0.2.2\n",
            "\u001b[?25l  Downloading https://files.pythonhosted.org/packages/5e/6e/f652c56bbb2c3d3fca252ffc7c0358597f57a1bbdf484dac683054950c63/ruamel.yaml.clib-0.2.2-cp37-cp37m-manylinux1_x86_64.whl (547kB)\n",
            "\u001b[K     |████████████████████████████████| 552kB 42.2MB/s \n",
            "\u001b[?25hCollecting scipy==1.6.2\n",
            "\u001b[?25l  Downloading https://files.pythonhosted.org/packages/75/91/ee427c42957f8c4cbe477bf4f8b7f608e003a17941e509d1777e58648cb3/scipy-1.6.2-cp37-cp37m-manylinux1_x86_64.whl (27.4MB)\n",
            "\u001b[K     |████████████████████████████████| 27.4MB 116kB/s \n",
            "\u001b[?25hCollecting Send2Trash==1.5.0\n",
            "  Downloading https://files.pythonhosted.org/packages/49/46/c3dc27481d1cc57b9385aff41c474ceb7714f7935b1247194adae45db714/Send2Trash-1.5.0-py3-none-any.whl\n",
            "Collecting six==1.15.0\n",
            "  Downloading https://files.pythonhosted.org/packages/ee/ff/48bde5c0f013094d729fe4b0316ba2a24774b3ff1c52d924a8a4cb04078a/six-1.15.0-py2.py3-none-any.whl\n",
            "Collecting sniffio==1.2.0\n",
            "  Downloading https://files.pythonhosted.org/packages/52/b0/7b2e028b63d092804b6794595871f936aafa5e9322dcaaad50ebf67445b3/sniffio-1.2.0-py3-none-any.whl\n",
            "Collecting spglib==1.16.1\n",
            "\u001b[?25l  Downloading https://files.pythonhosted.org/packages/4b/98/fa4760b9c71e2eace5a60b85dbf36dece49c379f8291cf1203056f287766/spglib-1.16.1-cp37-cp37m-manylinux2010_x86_64.whl (296kB)\n",
            "\u001b[K     |████████████████████████████████| 296kB 37.8MB/s \n",
            "\u001b[?25hCollecting sympy==1.8\n",
            "\u001b[?25l  Downloading https://files.pythonhosted.org/packages/aa/26/956fece0fc67a6c299557d22158503206d8f14b2e0acc2daf7f06c5f4721/sympy-1.8-py3-none-any.whl (6.1MB)\n",
            "\u001b[K     |████████████████████████████████| 6.1MB 24.0MB/s \n",
            "\u001b[?25hCollecting tabulate==0.8.2\n",
            "\u001b[?25l  Downloading https://files.pythonhosted.org/packages/12/c2/11d6845db5edf1295bc08b2f488cf5937806586afe42936c3f34c097ebdc/tabulate-0.8.2.tar.gz (45kB)\n",
            "\u001b[K     |████████████████████████████████| 51kB 6.4MB/s \n",
            "\u001b[?25hCollecting terminado==0.9.2\n",
            "  Downloading https://files.pythonhosted.org/packages/de/74/604d9dcbb5b73b54d07c78764b22568b8c7923d93e257dc9766142f67b81/terminado-0.9.2-py3-none-any.whl\n",
            "Collecting testpath==0.4.4\n",
            "\u001b[?25l  Downloading https://files.pythonhosted.org/packages/1b/9e/1a170feaa54f22aeb5a5d16c9015e82234275a3c8ab630b552493f9cb8a9/testpath-0.4.4-py2.py3-none-any.whl (163kB)\n",
            "\u001b[K     |████████████████████████████████| 174kB 52.5MB/s \n",
            "\u001b[?25hCollecting tornado==6.1\n",
            "\u001b[?25l  Downloading https://files.pythonhosted.org/packages/91/a8/9c5902233fa3c2e6a889cbd164333ddda5009669f494e3fadbeee2c03af5/tornado-6.1-cp37-cp37m-manylinux2010_x86_64.whl (428kB)\n",
            "\u001b[K     |████████████████████████████████| 430kB 32.9MB/s \n",
            "\u001b[?25hCollecting traitlets==5.0.5\n",
            "\u001b[?25l  Downloading https://files.pythonhosted.org/packages/f6/7d/3ecb0ebd0ce8dcdfa7bd47ab85c1d4a521e6770ef283d0824f5804994dfe/traitlets-5.0.5-py3-none-any.whl (100kB)\n",
            "\u001b[K     |████████████████████████████████| 102kB 7.6MB/s \n",
            "\u001b[?25hCollecting uncertainties==3.1.5\n",
            "\u001b[?25l  Downloading https://files.pythonhosted.org/packages/45/41/fc7e7b73b603e7c2c9e040b7aa8caf4a88d74b6faa567601ed82b6f0d8e1/uncertainties-3.1.5-py2.py3-none-any.whl (246kB)\n",
            "\u001b[K     |████████████████████████████████| 256kB 25.5MB/s \n",
            "\u001b[?25hCollecting urllib3==1.24.3\n",
            "\u001b[?25l  Downloading https://files.pythonhosted.org/packages/01/11/525b02e4acc0c747de8b6ccdab376331597c569c42ea66ab0a1dbd36eca2/urllib3-1.24.3-py2.py3-none-any.whl (118kB)\n",
            "\u001b[K     |████████████████████████████████| 122kB 42.3MB/s \n",
            "\u001b[?25hCollecting wcwidth==0.2.5\n",
            "  Downloading https://files.pythonhosted.org/packages/59/7c/e39aca596badaf1b78e8f547c807b04dae603a433d3e7a7e04d67f2ef3e5/wcwidth-0.2.5-py2.py3-none-any.whl\n",
            "Collecting webencodings==0.5.1\n",
            "  Downloading https://files.pythonhosted.org/packages/f4/24/2a3e3df732393fed8b3ebf2ec078f05546de641fe1b667ee316ec1dcf3b7/webencodings-0.5.1-py2.py3-none-any.whl\n",
            "Collecting typing-extensions; python_version < \"3.8\"\n",
            "  Downloading https://files.pythonhosted.org/packages/2e/35/6c4fff5ab443b57116cb1aad46421fb719bed2825664e8fe77d66d99bcbc/typing_extensions-3.10.0.0-py3-none-any.whl\n",
            "Collecting setuptools>=18.5\n",
            "  Using cached https://files.pythonhosted.org/packages/4e/78/56aa1b5f4d8ac548755ae767d84f0be54fdd9d404197a3d9e4659d272348/setuptools-57.0.0-py3-none-any.whl\n",
            "Collecting importlib-metadata; python_version < \"3.8\"\n",
            "  Downloading https://files.pythonhosted.org/packages/23/5d/f2151217058e7d5c5b4b584bc6052c2ae478c5a36b58a056364351613bfb/importlib_metadata-4.5.0-py3-none-any.whl\n",
            "Collecting zipp>=0.5\n",
            "  Downloading https://files.pythonhosted.org/packages/0f/8c/715c54e9e34c0c4820f616a913a7de3337d0cd79074dd1bed4dd840f16ae/zipp-3.4.1-py3-none-any.whl\n",
            "Building wheels for collected packages: pymatgen\n",
            "  Building wheel for pymatgen (PEP 517) ... \u001b[?25l\u001b[?25hdone\n",
            "  Created wheel for pymatgen: filename=pymatgen-2021.2.16-cp37-cp37m-linux_x86_64.whl size=3768308 sha256=3f1793ce421f38beaa41a0d27f7c551a994030c44df99b67fa0187360e32a52f\n",
            "  Stored in directory: /root/.cache/pip/wheels/dd/03/86/0a87b85d38c1b94f5c0ee89cfa293ef26f37294ce757ebd767\n",
            "Successfully built pymatgen\n",
            "Building wheels for collected packages: future, pandocfilters, pyrsistent, retrying, tabulate\n",
            "  Building wheel for future (setup.py) ... \u001b[?25l\u001b[?25hdone\n",
            "  Created wheel for future: filename=future-0.18.2-cp37-none-any.whl size=491070 sha256=7e207191cee4bd6e1f23c89accd1f62c6ea273c7939441fa915d479c0af68ccc\n",
            "  Stored in directory: /root/.cache/pip/wheels/8b/99/a0/81daf51dcd359a9377b110a8a886b3895921802d2fc1b2397e\n",
            "  Building wheel for pandocfilters (setup.py) ... \u001b[?25l\u001b[?25hdone\n",
            "  Created wheel for pandocfilters: filename=pandocfilters-1.4.3-cp37-none-any.whl size=8007 sha256=549db118cce8349257cf1b5e31a15de65dc4bdbf0cbb387f4c11e42a7be8936e\n",
            "  Stored in directory: /root/.cache/pip/wheels/93/9a/79/b2c3567908fd6209e4674ca23d9fcf005aae5fe89148913727\n",
            "  Building wheel for pyrsistent (setup.py) ... \u001b[?25l\u001b[?25hdone\n",
            "  Created wheel for pyrsistent: filename=pyrsistent-0.17.3-cp37-cp37m-linux_x86_64.whl size=98052 sha256=f263803fb28a054e9c7f40d0c77a927b907cd2c46de5568abde515a0447ac4c9\n",
            "  Stored in directory: /root/.cache/pip/wheels/f0/b8/de/b593ad311be4eb458499d100db081e453576032272398b7ddc\n",
            "  Building wheel for retrying (setup.py) ... \u001b[?25l\u001b[?25hdone\n",
            "  Created wheel for retrying: filename=retrying-1.3.3-cp37-none-any.whl size=11448 sha256=25f391410dea7042d3f9889d42cae8beb58b9cd1f9cf5a35aa283e7b6164cddd\n",
            "  Stored in directory: /root/.cache/pip/wheels/d7/a9/33/acc7b709e2a35caa7d4cae442f6fe6fbf2c43f80823d46460c\n",
            "  Building wheel for tabulate (setup.py) ... \u001b[?25l\u001b[?25hdone\n",
            "  Created wheel for tabulate: filename=tabulate-0.8.2-cp37-none-any.whl size=23550 sha256=93ad05e6b73d78ad6d482b1098af9d9d5564db8ff67ab621675a142ecd132966\n",
            "  Stored in directory: /root/.cache/pip/wheels/2a/85/33/2f6da85d5f10614cbe5a625eab3b3aebfdf43e7b857f25f829\n",
            "Successfully built future pandocfilters pyrsistent retrying tabulate\n",
            "\u001b[31mERROR: tensorflow 2.5.0 has requirement numpy~=1.19.2, but you'll have numpy 1.20.1 which is incompatible.\u001b[0m\n",
            "\u001b[31mERROR: tensorflow 2.5.0 has requirement typing-extensions~=3.7.4, but you'll have typing-extensions 3.10.0.0 which is incompatible.\u001b[0m\n",
            "\u001b[31mERROR: tensorboard 2.5.0 has requirement requests<3,>=2.21.0, but you'll have requests 2.20.1 which is incompatible.\u001b[0m\n",
            "\u001b[31mERROR: jupyter-console 5.2.0 has requirement prompt-toolkit<2.0.0,>=1.0.0, but you'll have prompt-toolkit 3.0.16 which is incompatible.\u001b[0m\n",
            "\u001b[31mERROR: google-colab 1.0.0 has requirement ipykernel~=4.10, but you'll have ipykernel 5.4.3 which is incompatible.\u001b[0m\n",
            "\u001b[31mERROR: google-colab 1.0.0 has requirement ipython~=5.5.0, but you'll have ipython 7.20.0 which is incompatible.\u001b[0m\n",
            "\u001b[31mERROR: google-colab 1.0.0 has requirement notebook~=5.3.0; python_version >= \"3.0\", but you'll have notebook 6.2.0 which is incompatible.\u001b[0m\n",
            "\u001b[31mERROR: google-colab 1.0.0 has requirement requests~=2.23.0, but you'll have requests 2.20.1 which is incompatible.\u001b[0m\n",
            "\u001b[31mERROR: google-colab 1.0.0 has requirement tornado~=5.1.0; python_version >= \"3.0\", but you'll have tornado 6.1 which is incompatible.\u001b[0m\n",
            "\u001b[31mERROR: datascience 0.10.6 has requirement folium==0.2.1, but you'll have folium 0.8.3 which is incompatible.\u001b[0m\n",
            "\u001b[31mERROR: albumentations 0.1.12 has requirement imgaug<0.2.7,>=0.2.5, but you'll have imgaug 0.2.9 which is incompatible.\u001b[0m\n",
            "\u001b[31mERROR: anyio 2.1.0 has requirement idna>=2.8, but you'll have idna 2.7 which is incompatible.\u001b[0m\n",
            "Installing collected packages: typing-extensions, sniffio, idna, anyio, appnope, pycparser, cffi, six, argon2-cffi, numpy, scipy, kiwisolver, pyparsing, Pillow, cycler, python-dateutil, matplotlib, ase, async-generator, attrs, pytz, Babel, backcall, webencodings, packaging, bleach, certifi, chardet, decorator, defusedxml, entrypoints, urllib3, requests, exabyte-api-client, future, ipython-genutils, traitlets, tornado, ptyprocess, pexpect, setuptools, wcwidth, prompt-toolkit, pickleshare, Pygments, parso, jedi, ipython, pyzmq, jupyter-core, jupyter-client, ipykernel, MarkupSafe, Jinja2, json5, pyrsistent, zipp, importlib-metadata, jsonschema, nest-asyncio, nbformat, nbclient, jupyterlab-pygments, pandocfilters, mistune, testpath, nbconvert, Send2Trash, terminado, prometheus-client, jupyter-server, notebook, nbclassic, jupyterlab-server, jupyterlab, monty, mpmath, networkx, palettable, pandas, retrying, plotly, ruamel.yaml.clib, ruamel.yaml, spglib, sympy, uncertainties, tabulate, pymatgen\n",
            "Successfully installed Babel-2.9.0 Jinja2-2.11.3 MarkupSafe-1.1.1 Pillow-8.2.0 Pygments-2.8.0 Send2Trash-1.5.0 anyio-2.1.0 appnope-0.1.2 argon2-cffi-20.1.0 ase-3.21.1 async-generator-1.10 attrs-20.3.0 backcall-0.2.0 bleach-3.3.0 certifi-2020.12.5 cffi-1.14.5 chardet-3.0.4 cycler-0.10.0 decorator-4.4.2 defusedxml-0.6.0 entrypoints-0.3 exabyte-api-client-2021.1.18 future-0.18.2 idna-2.7 importlib-metadata-4.5.0 ipykernel-5.4.3 ipython-7.20.0 ipython-genutils-0.2.0 jedi-0.18.0 json5-0.9.5 jsonschema-3.2.0 jupyter-client-6.1.11 jupyter-core-4.7.1 jupyter-server-1.3.0 jupyterlab-3.0.3 jupyterlab-pygments-0.1.2 jupyterlab-server-2.2.0 kiwisolver-1.3.1 matplotlib-3.4.1 mistune-0.8.4 monty-2021.3.3 mpmath-1.2.1 nbclassic-0.2.6 nbclient-0.5.2 nbconvert-6.0.7 nbformat-5.1.2 nest-asyncio-1.5.1 networkx-2.5.1 notebook-6.2.0 numpy-1.20.1 packaging-20.9 palettable-3.3.0 pandas-1.1.4 pandocfilters-1.4.3 parso-0.8.1 pexpect-4.8.0 pickleshare-0.7.5 plotly-4.14.3 prometheus-client-0.9.0 prompt-toolkit-3.0.16 ptyprocess-0.7.0 pycparser-2.20 pymatgen-2021.2.16 pyparsing-2.4.7 pyrsistent-0.17.3 python-dateutil-2.8.1 pytz-2021.1 pyzmq-22.0.3 requests-2.20.1 retrying-1.3.3 ruamel.yaml-0.17.4 ruamel.yaml.clib-0.2.2 scipy-1.6.2 setuptools-57.0.0 six-1.15.0 sniffio-1.2.0 spglib-1.16.1 sympy-1.8 tabulate-0.8.2 terminado-0.9.2 testpath-0.4.4 tornado-6.1 traitlets-5.0.5 typing-extensions-3.10.0.0 uncertainties-3.1.5 urllib3-1.24.3 wcwidth-0.2.5 webencodings-0.5.1 zipp-3.4.1\n"
          ],
          "name": "stdout"
        }
      ]
    }
  ]
}