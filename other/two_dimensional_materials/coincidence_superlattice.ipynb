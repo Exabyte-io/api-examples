{
 "cells": [
  {
   "cell_type": "code",
   "execution_count": 352,
   "metadata": {},
   "outputs": [
    {
     "name": "stdout",
     "output_type": "stream",
     "text": [
      "Cell([[2.130422, 0.0, 1.23], [0.7101408, 2.008582, 1.23], [0.0, 0.0, 2.46]])\n",
      "Cell([[2.467291, 0.0, 0.0], [-1.233645, 2.136737, 0.0], [0.0, 0.0, 7.803074]])\n",
      "Ni \n",
      " 1.0000000000000000\n",
      "     2.1304219999999998    0.0000000000000000    1.2300000000000000\n",
      "     0.7101408000000000    2.0085820000000001    1.2300000000000000\n",
      "     0.0000000000000000    0.0000000000000000    2.4600000000000000\n",
      " Ni \n",
      "   1\n",
      "Cartesian\n",
      "  0.0000000000000000  0.0000000000000000  0.0000000000000000\n",
      "\n"
     ]
    }
   ],
   "source": [
    "import material_interface as mi\n",
    "\n",
    "ni_poscar = \"\"\"Ni - primitive\n",
    "1.0\n",
    "   2.130422000\t   0.000000000\t   1.230000000\n",
    "   0.710140800\t   2.008582000\t   1.230000000\n",
    "   0.000000000\t   0.000000000\t   2.460000000\n",
    "Ni\n",
    "1\n",
    "Selective dynamics\n",
    "cartesian\n",
    "   0.000000000    0.000000000    0.000000000 T T T Ni\"\"\"\n",
    "au_poscar = \"\"\"Au - primitive\n",
    "1.0\n",
    "   2.554775000\t   0.000000000\t   1.475000000\n",
    "   0.851591600\t   2.408665000\t   1.475000000\n",
    "   0.000000000\t   0.000000000\t   2.950000000\n",
    "Au\n",
    "1\n",
    "Selective dynamics\n",
    "cartesian\n",
    "   0.000000000    0.000000000    0.000000000 T T T Au\"\"\"\n",
    "\n",
    "graphene_poscar = \"\"\"Graphene\n",
    "1.0\n",
    "   2.467291000\t   0.000000000\t   0.000000000\n",
    "  -1.233645000\t   2.136737000\t   0.000000000\n",
    "   0.000000000\t   0.000000000\t   7.803074000\n",
    "C\n",
    "2\n",
    "direct\n",
    "   0.000000000    0.000000000    0.000000000  C\n",
    "   0.333333000    0.666667000    0.000000000  C\n",
    "\"\"\"\n",
    "\n",
    "from ase.build import surface, supercells\n",
    "from ase.io import read, write\n",
    "from ase.visualize import view\n",
    "import io\n",
    "import numpy as np\n",
    "\n",
    "ni = mi.poscar_to_atoms(ni_poscar)\n",
    "gr = mi.poscar_to_atoms(graphene_poscar)\n",
    "\n",
    "print(ni.get_cell())\n",
    "print(gr.get_cell())\n",
    "\n",
    "ni_surface = surface(ni, (1, 1, 0), layers=3)\n",
    "ni_surface.center(vacuum=10, axis=2)\n",
    "ni_surface.wrap()\n",
    "view(ni_surface * [3, 3, 1])\n",
    "\n",
    "gr.center(vacuum=10, axis=2)\n",
    "gr.wrap()\n",
    "view(gr)\n",
    "# ni_slab = supercells.make_supercell(ni_surface, [[3, 0, 0], [0, 3, 0], [0, 0, 1]])\n",
    "# ni_slab.center(vacuum=10, axis=2)\n",
    "# ni_slab.wrap()\n",
    "\n",
    "# view(ni_slab)\n",
    "\n",
    "print(mi.write_atoms_to_poscar(ni))"
   ]
  },
  {
   "cell_type": "code",
   "execution_count": 353,
   "metadata": {},
   "outputs": [],
   "source": [
    "# !pip install git+https://github.com/nmdl-mizo/interface_master.git@develop"
   ]
  },
  {
   "cell_type": "code",
   "execution_count": 354,
   "metadata": {},
   "outputs": [
    {
     "name": "stdout",
     "output_type": "stream",
     "text": [
      "Warning!, this programme will rewrite the POSCAR file in this dir!\n"
     ]
    },
    {
     "name": "stderr",
     "output_type": "stream",
     "text": [
      "/Users/mat3ra/.pyenv/versions/3.11.4/lib/python3.11/site-packages/pymatgen/io/cif.py:1197: UserWarning: Issues encountered while parsing CIF: Some fractional coordinates rounded to ideal values to avoid issues with finite precision.\n",
      "  warnings.warn(\"Issues encountered while parsing CIF: \" + \"\\n\".join(self.warnings))\n"
     ]
    },
    {
     "name": "stdout",
     "output_type": "stream",
     "text": [
      "Congrates, we found an appx CSL!\n",
      "\n",
      "U1 = \n",
      "[[ 0  0]\n",
      " [-4 -3]\n",
      " [ 7 -4]]; sigma_1 = 37\n",
      "\n",
      "U2 = \n",
      "[[-3 -4]\n",
      " [ 4 -7]\n",
      " [ 0  0]]; sigma_2 = 37\n",
      "\n",
      "D = \n",
      "[[ 0.9976693  -0.00699724  0.00420224]\n",
      " [ 0.00793899  0.99733634 -0.00349614]\n",
      " [-0.00189545  0.00512729  0.99900113]]\n",
      "\n",
      "axis = [2.47055535 1.74694644 4.2791274 ] ; theta = 3.64\n",
      "\n",
      "cell 1:\n",
      "[[-3  0  0]\n",
      " [ 1 -4  3]\n",
      " [ 1  7  4]]\n",
      "cell 2:\n",
      "[[ 0 -3  4]\n",
      " [ 0  4  7]\n",
      " [-1  0  0]]\n"
     ]
    }
   ],
   "source": [
    "\"\"\"interface_master\"\"\"\n",
    "from interfacemaster.cellcalc import get_primitive_hkl, get_pri_vec_inplane, get_normal_index, get_normal_from_MI, rot\n",
    "from interfacemaster.interface_generator import core, convert_vector_index\n",
    "from interfacemaster.symmetric_tilt import get_csl_twisted_graphenes\n",
    "from numpy import array, dot, round, cross, eye, pi, ceil, column_stack, arange\n",
    "from numpy.linalg import inv, det, norm\n",
    "from gb_code.csl_generator import print_list\n",
    "import pandas as pd\n",
    "\n",
    "from ase.io import write\n",
    "import os\n",
    "\n",
    "\n",
    "def write_atoms_to_cif(atoms, name):\n",
    "    temp_filename = f\"{name}.cif\"\n",
    "    write(temp_filename, atoms, format=\"cif\")\n",
    "\n",
    "    with open(temp_filename, \"r\") as file:\n",
    "        content = file.read()\n",
    "\n",
    "    return content\n",
    "\n",
    "\n",
    "ni_cif = write_atoms_to_cif(ni, \"m1\")\n",
    "gr_cif = write_atoms_to_cif(gr, \"m2\")\n",
    "\n",
    "interface = core(\"m1.cif\", \"m2.cif\")\n",
    "\n",
    "hkl_1 = get_primitive_hkl([1, 1, 1], interface.conv_lattice_1, interface.lattice_1)\n",
    "hkl_2 = get_primitive_hkl([0, 0, 1], interface.conv_lattice_2, interface.lattice_2)\n",
    "\n",
    "interface.parse_limit(du=1e-2, S=1e-2, sgm1=50, sgm2=50, dd=1e-2)\n",
    "\n",
    "interface.search_one_position_2D(hkl_1, hkl_2, theta_range=90, dtheta=0.01, exact=False)\n",
    "interface.compute_bicrystal_two_D(hkl_1, hkl_2, normal_ortho=True, lim=50, tol_ortho=1e-2, tol_integer=1e-3)"
   ]
  },
  {
   "cell_type": "code",
   "execution_count": 355,
   "metadata": {},
   "outputs": [
    {
     "ename": "LinAlgError",
     "evalue": "Singular matrix",
     "output_type": "error",
     "traceback": [
      "\u001b[0;31m---------------------------------------------------------------------------\u001b[0m",
      "\u001b[0;31mLinAlgError\u001b[0m                               Traceback (most recent call last)",
      "\u001b[1;32m/Users/mat3ra/code/api-examples/other/two_dimensional_materials/coincidence_superlattice.ipynb Cell 4\u001b[0m line \u001b[0;36m1\n\u001b[1;32m      <a href='vscode-notebook-cell:/Users/mat3ra/code/api-examples/other/two_dimensional_materials/coincidence_superlattice.ipynb#W3sZmlsZQ%3D%3D?line=0'>1</a>\u001b[0m \u001b[39mimport\u001b[39;00m \u001b[39mmaterial_interface\u001b[39;00m \u001b[39mas\u001b[39;00m \u001b[39mmi\u001b[39;00m\n\u001b[1;32m      <a href='vscode-notebook-cell:/Users/mat3ra/code/api-examples/other/two_dimensional_materials/coincidence_superlattice.ipynb#W3sZmlsZQ%3D%3D?line=2'>3</a>\u001b[0m settings \u001b[39m=\u001b[39m {\n\u001b[1;32m      <a href='vscode-notebook-cell:/Users/mat3ra/code/api-examples/other/two_dimensional_materials/coincidence_superlattice.ipynb#W3sZmlsZQ%3D%3D?line=3'>4</a>\u001b[0m     \u001b[39m\"\u001b[39m\u001b[39mslab\u001b[39m\u001b[39m\"\u001b[39m: {\n\u001b[1;32m      <a href='vscode-notebook-cell:/Users/mat3ra/code/api-examples/other/two_dimensional_materials/coincidence_superlattice.ipynb#W3sZmlsZQ%3D%3D?line=4'>5</a>\u001b[0m         \u001b[39m\"\u001b[39m\u001b[39mmiller:h\u001b[39m\u001b[39m\"\u001b[39m: \u001b[39m1\u001b[39m,\n\u001b[0;32m   (...)\u001b[0m\n\u001b[1;32m     <a href='vscode-notebook-cell:/Users/mat3ra/code/api-examples/other/two_dimensional_materials/coincidence_superlattice.ipynb#W3sZmlsZQ%3D%3D?line=10'>11</a>\u001b[0m     \u001b[39m\"\u001b[39m\u001b[39minterface\u001b[39m\u001b[39m\"\u001b[39m: {\u001b[39m\"\u001b[39m\u001b[39mslab_v:matrix\u001b[39m\u001b[39m\"\u001b[39m: [[\u001b[39m-\u001b[39m\u001b[39m2\u001b[39m, \u001b[39m11\u001b[39m], [\u001b[39m2\u001b[39m, \u001b[39m-\u001b[39m\u001b[39m11\u001b[39m]], \u001b[39m\"\u001b[39m\u001b[39mlayer_v:matrix\u001b[39m\u001b[39m\"\u001b[39m: [[\u001b[39m10\u001b[39m, \u001b[39m-\u001b[39m\u001b[39m5\u001b[39m], [\u001b[39m0\u001b[39m, \u001b[39m-\u001b[39m\u001b[39m20\u001b[39m]], \u001b[39m\"\u001b[39m\u001b[39mdistance\u001b[39m\u001b[39m\"\u001b[39m: \u001b[39m2.0\u001b[39m},\n\u001b[1;32m     <a href='vscode-notebook-cell:/Users/mat3ra/code/api-examples/other/two_dimensional_materials/coincidence_superlattice.ipynb#W3sZmlsZQ%3D%3D?line=11'>12</a>\u001b[0m }\n\u001b[0;32m---> <a href='vscode-notebook-cell:/Users/mat3ra/code/api-examples/other/two_dimensional_materials/coincidence_superlattice.ipynb#W3sZmlsZQ%3D%3D?line=12'>13</a>\u001b[0m interface \u001b[39m=\u001b[39m mi\u001b[39m.\u001b[39;49mMaterialInterface(ni, gr, settings)\n\u001b[1;32m     <a href='vscode-notebook-cell:/Users/mat3ra/code/api-examples/other/two_dimensional_materials/coincidence_superlattice.ipynb#W3sZmlsZQ%3D%3D?line=13'>14</a>\u001b[0m view(interface\u001b[39m.\u001b[39mstructure)\n",
      "File \u001b[0;32m~/code/api-examples/other/two_dimensional_materials/material_interface.py:48\u001b[0m, in \u001b[0;36mMaterialInterface.__init__\u001b[0;34m(self, substrate, material, settings)\u001b[0m\n\u001b[1;32m     46\u001b[0m         \u001b[39mif\u001b[39;00m key \u001b[39min\u001b[39;00m settings:\n\u001b[1;32m     47\u001b[0m             \u001b[39mself\u001b[39m\u001b[39m.\u001b[39msettings[key]\u001b[39m.\u001b[39mupdate(settings[key])\n\u001b[0;32m---> 48\u001b[0m \u001b[39mself\u001b[39m\u001b[39m.\u001b[39mstructure \u001b[39m=\u001b[39m \u001b[39mself\u001b[39;49m\u001b[39m.\u001b[39;49mcreate_structure()\n",
      "File \u001b[0;32m~/code/api-examples/other/two_dimensional_materials/material_interface.py:64\u001b[0m, in \u001b[0;36mMaterialInterface.create_structure\u001b[0;34m(self)\u001b[0m\n\u001b[1;32m     61\u001b[0m slab_v_matrix \u001b[39m=\u001b[39m expand_matrix_2x2_to_3x3(interface[\u001b[39m\"\u001b[39m\u001b[39mslab_v:matrix\u001b[39m\u001b[39m\"\u001b[39m])\n\u001b[1;32m     62\u001b[0m layer_v_matrix \u001b[39m=\u001b[39m expand_matrix_2x2_to_3x3(interface[\u001b[39m\"\u001b[39m\u001b[39mlayer_v:matrix\u001b[39m\u001b[39m\"\u001b[39m])\n\u001b[0;32m---> 64\u001b[0m \u001b[39mself\u001b[39m\u001b[39m.\u001b[39msubstrate \u001b[39m=\u001b[39m supercells\u001b[39m.\u001b[39;49mmake_supercell(\u001b[39mself\u001b[39;49m\u001b[39m.\u001b[39;49msubstrate, slab_v_matrix)\n\u001b[1;32m     65\u001b[0m \u001b[39mself\u001b[39m\u001b[39m.\u001b[39msubstrate\u001b[39m.\u001b[39mwrap()\n\u001b[1;32m     66\u001b[0m \u001b[39mself\u001b[39m\u001b[39m.\u001b[39mmaterial \u001b[39m=\u001b[39m supercells\u001b[39m.\u001b[39mmake_supercell(\u001b[39mself\u001b[39m\u001b[39m.\u001b[39mmaterial, layer_v_matrix)\n",
      "File \u001b[0;32m~/.pyenv/versions/3.11.4/lib/python3.11/site-packages/ase/build/supercells.py:169\u001b[0m, in \u001b[0;36mmake_supercell\u001b[0;34m(prim, P, wrap, tol)\u001b[0m\n\u001b[1;32m    166\u001b[0m supercell \u001b[39m=\u001b[39m clean_matrix(supercell_matrix \u001b[39m@\u001b[39m prim\u001b[39m.\u001b[39mcell)\n\u001b[1;32m    168\u001b[0m \u001b[39m# cartesian lattice points\u001b[39;00m\n\u001b[0;32m--> 169\u001b[0m lattice_points_frac \u001b[39m=\u001b[39m lattice_points_in_supercell(supercell_matrix)\n\u001b[1;32m    170\u001b[0m lattice_points \u001b[39m=\u001b[39m np\u001b[39m.\u001b[39mdot(lattice_points_frac, supercell)\n\u001b[1;32m    172\u001b[0m superatoms \u001b[39m=\u001b[39m Atoms(cell\u001b[39m=\u001b[39msupercell, pbc\u001b[39m=\u001b[39mprim\u001b[39m.\u001b[39mpbc)\n",
      "File \u001b[0;32m~/.pyenv/versions/3.11.4/lib/python3.11/site-packages/ase/build/supercells.py:225\u001b[0m, in \u001b[0;36mlattice_points_in_supercell\u001b[0;34m(supercell_matrix)\u001b[0m\n\u001b[1;32m    222\u001b[0m all_points \u001b[39m=\u001b[39m ar[:, \u001b[39mNone\u001b[39;00m, \u001b[39mNone\u001b[39;00m] \u001b[39m+\u001b[39m br[\u001b[39mNone\u001b[39;00m, :, \u001b[39mNone\u001b[39;00m] \u001b[39m+\u001b[39m cr[\u001b[39mNone\u001b[39;00m, \u001b[39mNone\u001b[39;00m, :]\n\u001b[1;32m    223\u001b[0m all_points \u001b[39m=\u001b[39m all_points\u001b[39m.\u001b[39mreshape((\u001b[39m-\u001b[39m\u001b[39m1\u001b[39m, \u001b[39m3\u001b[39m))\n\u001b[0;32m--> 225\u001b[0m frac_points \u001b[39m=\u001b[39m np\u001b[39m.\u001b[39mdot(all_points, np\u001b[39m.\u001b[39;49mlinalg\u001b[39m.\u001b[39;49minv(supercell_matrix))\n\u001b[1;32m    227\u001b[0m tvects \u001b[39m=\u001b[39m frac_points[\n\u001b[1;32m    228\u001b[0m     np\u001b[39m.\u001b[39mall(frac_points \u001b[39m<\u001b[39m \u001b[39m1\u001b[39m \u001b[39m-\u001b[39m \u001b[39m1e-10\u001b[39m, axis\u001b[39m=\u001b[39m\u001b[39m1\u001b[39m)\n\u001b[1;32m    229\u001b[0m     \u001b[39m&\u001b[39m np\u001b[39m.\u001b[39mall(frac_points \u001b[39m>\u001b[39m\u001b[39m=\u001b[39m \u001b[39m-\u001b[39m\u001b[39m1e-10\u001b[39m, axis\u001b[39m=\u001b[39m\u001b[39m1\u001b[39m)\n\u001b[1;32m    230\u001b[0m ]\n\u001b[1;32m    231\u001b[0m \u001b[39massert\u001b[39;00m \u001b[39mlen\u001b[39m(tvects) \u001b[39m==\u001b[39m \u001b[39mround\u001b[39m(\u001b[39mabs\u001b[39m(np\u001b[39m.\u001b[39mlinalg\u001b[39m.\u001b[39mdet(supercell_matrix)))\n",
      "File \u001b[0;32m~/.pyenv/versions/3.11.4/lib/python3.11/site-packages/numpy/linalg/linalg.py:561\u001b[0m, in \u001b[0;36minv\u001b[0;34m(a)\u001b[0m\n\u001b[1;32m    559\u001b[0m signature \u001b[39m=\u001b[39m \u001b[39m'\u001b[39m\u001b[39mD->D\u001b[39m\u001b[39m'\u001b[39m \u001b[39mif\u001b[39;00m isComplexType(t) \u001b[39melse\u001b[39;00m \u001b[39m'\u001b[39m\u001b[39md->d\u001b[39m\u001b[39m'\u001b[39m\n\u001b[1;32m    560\u001b[0m extobj \u001b[39m=\u001b[39m get_linalg_error_extobj(_raise_linalgerror_singular)\n\u001b[0;32m--> 561\u001b[0m ainv \u001b[39m=\u001b[39m _umath_linalg\u001b[39m.\u001b[39;49minv(a, signature\u001b[39m=\u001b[39;49msignature, extobj\u001b[39m=\u001b[39;49mextobj)\n\u001b[1;32m    562\u001b[0m \u001b[39mreturn\u001b[39;00m wrap(ainv\u001b[39m.\u001b[39mastype(result_t, copy\u001b[39m=\u001b[39m\u001b[39mFalse\u001b[39;00m))\n",
      "File \u001b[0;32m~/.pyenv/versions/3.11.4/lib/python3.11/site-packages/numpy/linalg/linalg.py:112\u001b[0m, in \u001b[0;36m_raise_linalgerror_singular\u001b[0;34m(err, flag)\u001b[0m\n\u001b[1;32m    111\u001b[0m \u001b[39mdef\u001b[39;00m \u001b[39m_raise_linalgerror_singular\u001b[39m(err, flag):\n\u001b[0;32m--> 112\u001b[0m     \u001b[39mraise\u001b[39;00m LinAlgError(\u001b[39m\"\u001b[39m\u001b[39mSingular matrix\u001b[39m\u001b[39m\"\u001b[39m)\n",
      "\u001b[0;31mLinAlgError\u001b[0m: Singular matrix"
     ]
    }
   ],
   "source": [
    "import material_interface as mi\n",
    "\n",
    "settings = {\n",
    "    \"slab\": {\n",
    "        \"miller:h\": 1,\n",
    "        \"miller:k\": 1,\n",
    "        \"miller:l\": 0,\n",
    "        \"vacuum\": 4,\n",
    "        \"number_of_layers\": 3,\n",
    "    },\n",
    "    \"interface\": {\"slab_v:matrix\": [[-2, 11], [2, -11]], \"layer_v:matrix\": [[10, -5], [0, -20]], \"distance\": 2.0},\n",
    "}\n",
    "interface = mi.MaterialInterface(ni, gr, settings)\n",
    "view(interface.structure)"
   ]
  },
  {
   "cell_type": "code",
   "execution_count": null,
   "metadata": {},
   "outputs": [
    {
     "name": "stdout",
     "output_type": "stream",
     "text": [
      "Found 2 matches\n",
      "TERMINATIONS: 1 [('C_P6/mmm_2', 'Au_R-3m_1')]\n",
      "INTERFACES: 2\n"
     ]
    }
   ],
   "source": [
    "\"\"\"pymatgen\"\"\"\n",
    "from pymatgen.analysis.interfaces.zsl import ZSLGenerator\n",
    "from pymatgen.core.structure import Structure\n",
    "from pymatgen.analysis.interfaces.coherent_interfaces import CoherentInterfaceBuilder\n",
    "\n",
    "substrate = Structure.from_str(au_poscar, fmt=\"poscar\")\n",
    "layer = Structure.from_str(graphene_poscar, fmt=\"poscar\")\n",
    "substrate_miller = (2, 2, 1)\n",
    "layer_miller = (0, 0, 1)\n",
    "\n",
    "zsl = ZSLGenerator(max_area=100)\n",
    "cib = CoherentInterfaceBuilder(\n",
    "    substrate_structure=substrate,\n",
    "    film_structure=layer,\n",
    "    substrate_miller=substrate_miller,\n",
    "    film_miller=layer_miller,\n",
    "    zslgen=zsl,\n",
    ")\n",
    "\n",
    "cib._find_matches()\n",
    "cib._find_terminations()\n",
    "matches = cib.zsl_matches\n",
    "terminations = cib.terminations\n",
    "interfaces = list(cib.get_interfaces(terminations[0]))\n",
    "print(\"Found {} matches\".format(len(matches)))\n",
    "print(f\"TERMINATIONS: {len(terminations)}\", terminations)\n",
    "print(f\"INTERFACES: {len(list(interfaces))}\")"
   ]
  },
  {
   "cell_type": "code",
   "execution_count": null,
   "metadata": {},
   "outputs": [
    {
     "name": "stdout",
     "output_type": "stream",
     "text": [
      "Full Formula (C26)\n",
      "Reduced Formula: C\n",
      "abc   :   8.850000   8.850000  22.000000\n",
      "angles:  90.000000  90.000000  60.000002\n",
      "pbc   :       True       True       True\n",
      "Sites (26)\n",
      "  #  SP           a         b         c    bulk_equivalent  bulk_wyckoff    interface_label\n",
      "---  ----  --------  --------  --------  -----------------  --------------  -----------------\n",
      "  0  C     0.692308  0.076923  0.523377                  0  c               film\n",
      "  1  C     0.769231  0.307692  0.523377                  0  c               film\n",
      "  2  C     0.846154  0.538462  0.523377                  0  c               film\n",
      "  3  C     0.923077  0.769231  0.523377                  0  c               film\n",
      "  4  C     0.384615  0.153846  0.523377                  0  c               film\n",
      "  5  C     0.461538  0.384615  0.523377                  0  c               film\n",
      "  6  C     0.538462  0.615385  0.523377                  0  c               film\n",
      "  7  C     0.615385  0.846154  0.523377                  0  c               film\n",
      "  8  C     0         0         0.523377                  0  c               film\n",
      "  9  C     0.076923  0.230769  0.523377                  0  c               film\n",
      " 10  C     0.153846  0.461538  0.523377                  0  c               film\n",
      " 11  C     0.230769  0.692308  0.523377                  0  c               film\n",
      " 12  C     0.307692  0.923077  0.523377                  0  c               film\n",
      " 13  C     0.641026  0.25641   0.523377                  0  c               film\n",
      " 14  C     0.717949  0.48718   0.523377                  0  c               film\n",
      " 15  C     0.794872  0.717949  0.523377                  0  c               film\n",
      " 16  C     0.871795  0.948718  0.523377                  0  c               film\n",
      " 17  C     0.333333  0.333333  0.523377                  0  c               film\n",
      " 18  C     0.410257  0.564103  0.523377                  0  c               film\n",
      " 19  C     0.48718   0.794872  0.523377                  0  c               film\n",
      " 20  C     0.564103  0.025641  0.523377                  0  c               film\n",
      " 21  C     0.948718  0.179487  0.523377                  0  c               film\n",
      " 22  C     0.025641  0.410256  0.523377                  0  c               film\n",
      " 23  C     0.102564  0.641026  0.523377                  0  c               film\n",
      " 24  C     0.179487  0.871795  0.523377                  0  c               film\n",
      " 25  C     0.25641   0.102564  0.523377                  0  c               film\n",
      "Full Formula (C26)\n",
      "Reduced Formula: C\n",
      "abc   :   8.850000   8.850000  22.000000\n",
      "angles:  90.000000  90.000000  60.000002\n",
      "pbc   :       True       True       True\n",
      "Sites (26)\n",
      "  #  SP           a         b         c    bulk_equivalent  bulk_wyckoff    interface_label\n",
      "---  ----  --------  --------  --------  -----------------  --------------  -----------------\n",
      "  0  C     0.307692  0.923077  0.523377                  0  c               film\n",
      "  1  C     0.615385  0.846154  0.523377                  0  c               film\n",
      "  2  C     0.923077  0.769231  0.523377                  0  c               film\n",
      "  3  C     0.230769  0.692308  0.523377                  0  c               film\n",
      "  4  C     0.538462  0.615385  0.523377                  0  c               film\n",
      "  5  C     0.846154  0.538462  0.523377                  0  c               film\n",
      "  6  C     0.153846  0.461538  0.523377                  0  c               film\n",
      "  7  C     0.461538  0.384615  0.523377                  0  c               film\n",
      "  8  C     0.769231  0.307692  0.523377                  0  c               film\n",
      "  9  C     0.076923  0.230769  0.523377                  0  c               film\n",
      " 10  C     0.384615  0.153846  0.523377                  0  c               film\n",
      " 11  C     0.692308  0.076923  0.523377                  0  c               film\n",
      " 12  C     0         0         0.523377                  0  c               film\n",
      " 13  C     0.48718   0.794872  0.523377                  0  c               film\n",
      " 14  C     0.794872  0.717949  0.523377                  0  c               film\n",
      " 15  C     0.102564  0.641026  0.523377                  0  c               film\n",
      " 16  C     0.410257  0.564103  0.523377                  0  c               film\n",
      " 17  C     0.717949  0.48718   0.523377                  0  c               film\n",
      " 18  C     0.025641  0.410256  0.523377                  0  c               film\n",
      " 19  C     0.333333  0.333333  0.523377                  0  c               film\n",
      " 20  C     0.641026  0.25641   0.523377                  0  c               film\n",
      " 21  C     0.948718  0.179487  0.523377                  0  c               film\n",
      " 22  C     0.25641   0.102564  0.523377                  0  c               film\n",
      " 23  C     0.564103  0.025641  0.523377                  0  c               film\n",
      " 24  C     0.871795  0.948718  0.523377                  0  c               film\n",
      " 25  C     0.179487  0.871795  0.523377                  0  c               film\n",
      "von misses strain:\n",
      " 0.003434222790166456\n"
     ]
    }
   ],
   "source": [
    "for interface in list(interfaces):\n",
    "    print(interface.film)\n",
    "\n",
    "match = matches[0]\n",
    "\n",
    "film_sl_vectors = match.film_sl_vectors\n",
    "film_vectors = match.film_vectors\n",
    "substrate_sl_vectors = match.substrate_sl_vectors\n",
    "substrate_vectors = match.substrate_vectors\n",
    "\n",
    "from pymatgen.analysis.interfaces.substrate_analyzer import SubstrateMatch\n",
    "\n",
    "substrate_match = SubstrateMatch.from_zsl(match, layer, layer_miller, substrate_miller)\n",
    "print(\"von misses strain:\\n\", substrate_match.von_mises_strain)"
   ]
  },
  {
   "cell_type": "code",
   "execution_count": null,
   "metadata": {},
   "outputs": [
    {
     "name": "stdout",
     "output_type": "stream",
     "text": [
      "lenght: 2\n"
     ]
    },
    {
     "data": {
      "image/png": "[encoded data removed]",
      "text/plain": [
       "<Figure size 640x480 with 1 Axes>"
      ]
     },
     "metadata": {},
     "output_type": "display_data"
    },
    {
     "data": {
      "image/png": "[encoded data removed]",
      "text/plain": [
       "<Figure size 640x480 with 1 Axes>"
      ]
     },
     "metadata": {},
     "output_type": "display_data"
    }
   ],
   "source": [
    "interfaces = cib.get_interfaces(terminations[0], substrate_thickness=6)\n",
    "interfaces_list = list(interfaces)\n",
    "\n",
    "from ase.visualize import view\n",
    "\n",
    "i = interfaces_list[0].to(fmt=\"poscar\")\n",
    "view(mi.poscar_to_atoms(i) * [3, 3, 1])\n",
    "\n",
    "# map thru all the mathes and rank them by the strain\n",
    "strain = []\n",
    "strain_von_mises = []\n",
    "amount = []\n",
    "print(\"lenght:\", len(matches))\n",
    "for match in matches:\n",
    "    substrate_match = SubstrateMatch.from_zsl(match, layer, layer_miller, substrate_miller)\n",
    "    strain.append(substrate_match.strain.trace())\n",
    "    strain_von_mises.append(substrate_match.von_mises_strain)\n",
    "    amount.append(substrate_match.match_area)\n",
    "\n",
    "\n",
    "# plot the strain and strain_von_misses vs number of atoms in the interface with scatter plot\n",
    "import matplotlib.pyplot as plt\n",
    "\n",
    "plt.plot(strain, amount, \"o\")\n",
    "plt.xlabel(\"strain\")\n",
    "plt.ylabel(\"area\")\n",
    "plt.show()\n",
    "\n",
    "plt.plot(strain_von_mises, amount, \"o\")\n",
    "plt.xlabel(\"strain_von_mises\")\n",
    "plt.ylabel(\"amount\")\n",
    "plt.show()"
   ]
  },
  {
   "cell_type": "code",
   "execution_count": null,
   "metadata": {},
   "outputs": [],
   "source": []
  }
 ],
 "metadata": {
  "kernelspec": {
   "display_name": "Python 3",
   "language": "python",
   "name": "python3"
  },
  "language_info": {
   "codemirror_mode": {
    "name": "ipython",
    "version": 3
   },
   "file_extension": ".py",
   "mimetype": "text/x-python",
   "name": "python",
   "nbconvert_exporter": "python",
   "pygments_lexer": "ipython3",
   "version": "3.11.4"
  },
  "orig_nbformat": 4
 },
 "nbformat": 4,
 "nbformat_minor": 2
}
