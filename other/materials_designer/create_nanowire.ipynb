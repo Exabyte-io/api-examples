{
 "cells": [
  {
   "cell_type": "markdown",
   "id": "0",
   "metadata": {},
   "source": [
    "# Create a nanowire\n",
    "\n",
    "Create a nanowire from original material by creating a slab (with specific Miller indices) and cutting a cylinder along its Z axis, then, optionally, rotating to align along X axis.\n",
    "\n",
    "<h2 style=\"color:green\">Usage</h2>\n",
    "\n",
    "1. Make sure to select Input Materials (in the outer runtime) before running the notebook.\n",
    "1. Set notebook parameters in cell 1.1. below (or use the default values).\n",
    "1. Click “Run” > “Run All” to run all cells. \n",
    "1. Scroll down to view results. "
   ]
  },
  {
   "cell_type": "markdown",
   "id": "1",
   "metadata": {},
   "source": [
    "## 1. Prepare the Environment\n",
    "### 1.1. Set up nanowire parameters"
   ]
  },
  {
   "cell_type": "code",
   "execution_count": null,
   "id": "2",
   "metadata": {},
   "outputs": [],
   "source": [
    "MILLER_INDICES= (0,0,1)  # Miller indices of the nanowire direction\n",
    "RADIUS = 5.0 # Wire radius in Angstroms\n",
    "LENGTH = 30.0 # Wire length in Angstroms\n",
    "VACUUM = 10.0 # Vacuum thickness on the sides in Angstroms\n",
    "ALIGN_ALONG_X = True"
   ]
  },
  {
   "cell_type": "markdown",
   "id": "3",
   "metadata": {},
   "source": [
    "### 1.2. Install Packages\n",
    "The step executes only in Pyodide environment. For other environments, the packages should be installed via `pip install` (see [README](../../README.ipynb))."
   ]
  },
  {
   "cell_type": "code",
   "execution_count": null,
   "id": "4",
   "metadata": {},
   "outputs": [],
   "source": [
    "import sys\n",
    "\n",
    "if sys.platform == \"emscripten\":\n",
    "    import micropip\n",
    "  \n",
    "    await micropip.install(\"mat3ra-api-examples\", deps=False)\n",
    "    await micropip.install('mat3ra-utils')\n",
    "    from mat3ra.utils.jupyterlite.packages import install_packages\n",
    "    await install_packages(\"\")"
   ]
  },
  {
   "cell_type": "markdown",
   "id": "5",
   "metadata": {},
   "source": [
    "### 1.3. Get input materials"
   ]
  },
  {
   "cell_type": "code",
   "execution_count": null,
   "id": "6",
   "metadata": {},
   "outputs": [],
   "source": [
    "from utils.jupyterlite import get_materials\n",
    "\n",
    "materials = get_materials(globals())\n",
    "material = materials[0] "
   ]
  },
  {
   "cell_type": "markdown",
   "id": "7",
   "metadata": {},
   "source": [
    "### 1.4. Preview the material"
   ]
  },
  {
   "cell_type": "code",
   "execution_count": null,
   "id": "8",
   "metadata": {},
   "outputs": [],
   "source": [
    "from utils.visualize import visualize_materials as visualize\n",
    "visualize(material, repetitions=[3,3,3], rotation=\"0x\")\n",
    "visualize(material, repetitions=[3,3,3], rotation=\"-90x\")"
   ]
  },
  {
   "cell_type": "markdown",
   "id": "9",
   "metadata": {},
   "source": [
    "## 2. Create nanowire\n",
    "### 2.1. Create a slab and cut a cylinder"
   ]
  },
  {
   "cell_type": "code",
   "execution_count": null,
   "id": "10",
   "metadata": {},
   "outputs": [],
   "source": [
    "import math\n",
    "from mat3ra.made.tools.helpers import create_supercell\n",
    "from mat3ra.made.tools.modify import filter_by_cylinder, add_vacuum_sides\n",
    "from mat3ra.made.tools.helpers import create_slab\n",
    "\n",
    "slab_unit_cell = create_slab(\n",
    "    crystal=material,\n",
    "    miller_indices=MILLER_INDICES,\n",
    "    number_of_layers=1,\n",
    "    vacuum=0,\n",
    "    use_orthogonal_c=True,\n",
    ")\n",
    "\n",
    "n_for_x = math.ceil(int(2*RADIUS / slab_unit_cell.lattice.a)) + 1\n",
    "n_for_y = math.ceil(int(2*RADIUS / slab_unit_cell.lattice.b)) + 1\n",
    "n_for_z = int(LENGTH / slab_unit_cell.lattice.c)\n",
    "supercell = create_supercell(slab_unit_cell, supercell_matrix=[[n_for_x, 0, 0], [0, n_for_y, 0], [0, 0, n_for_z]])\n",
    "nanowire_z = filter_by_cylinder(supercell, radius=RADIUS, use_cartesian_coordinates=True)\n",
    "nanowire_z = add_vacuum_sides(nanowire_z, vacuum=VACUUM, on_x=True, on_y=True)    "
   ]
  },
  {
   "cell_type": "markdown",
   "id": "11",
   "metadata": {},
   "source": [
    "### 2.2. Rotate to align along X axis (optional)"
   ]
  },
  {
   "cell_type": "code",
   "execution_count": null,
   "id": "12",
   "metadata": {},
   "outputs": [],
   "source": [
    "rotate_90_degree_matrix = [[0, 0, 1], [0, 1, 0], [-1, 0, 0]]\n",
    "nanowire_x = create_supercell(nanowire_z, supercell_matrix=rotate_90_degree_matrix)\n",
    "nanowire = nanowire_x if ALIGN_ALONG_X else nanowire_z"
   ]
  },
  {
   "cell_type": "markdown",
   "id": "13",
   "metadata": {},
   "source": [
    "## 3. Visualize the result"
   ]
  },
  {
   "cell_type": "code",
   "execution_count": null,
   "id": "14",
   "metadata": {},
   "outputs": [],
   "source": [
    "visualize(nanowire, repetitions=[1, 1, 1], rotation=\"0x\")\n",
    "visualize(nanowire, repetitions=[1, 1, 1], rotation=\"-90x\")\n",
    "visualize(nanowire, repetitions=[1, 1, 1], rotation=\"-90y\")"
   ]
  },
  {
   "cell_type": "markdown",
   "id": "15",
   "metadata": {},
   "source": [
    "# 4. Pass material to the outside runtime"
   ]
  },
  {
   "cell_type": "code",
   "execution_count": null,
   "id": "16",
   "metadata": {},
   "outputs": [],
   "source": [
    "from utils.jupyterlite import set_materials\n",
    "set_materials(nanowire)"
   ]
  }
 ],
 "metadata": {
  "kernelspec": {
   "display_name": "Python 3",
   "language": "python",
   "name": "python3"
  },
  "language_info": {
   "codemirror_mode": {
    "name": "ipython",
    "version": 2
   },
   "file_extension": ".py",
   "mimetype": "text/x-python",
   "name": "python",
   "nbconvert_exporter": "python",
   "pygments_lexer": "ipython2",
   "version": "2.7.6"
  }
 },
 "nbformat": 4,
 "nbformat_minor": 5
}
