{
  "nbformat": 4,
  "nbformat_minor": 0,
  "metadata": {
    "colab": {
      "name": "Colab_Entry_Gateway.ipynb",
      "provenance": [],
      "collapsed_sections": [],
      "authorship_tag": "ABX9TyOoSn5PkLJ6jmD99rMCidL/",
      "include_colab_link": true
    },
    "kernelspec": {
      "name": "python3",
      "display_name": "Python 3"
    },
    "language_info": {
      "name": "python"
    }
  },
  "cells": [
    {
      "cell_type": "markdown",
      "metadata": {
        "id": "view-in-github",
        "colab_type": "text"
      },
      "source": [
        "<a href=\"https://colab.research.google.com/github/Exabyte-io/exabyte-api-examples/blob/feature%2FSOF-4400-drive/Colab_Entry_Gateway.ipynb\" target=\"_parent\"><img src=\"https://colab.research.google.com/assets/colab-badge.svg\" alt=\"Open In Colab\"/></a>"
      ]
    },
    {
      "cell_type": "markdown",
      "metadata": {
        "id": "5H2yiH4uAsl3"
      },
      "source": [
        "# Mount Google Drive"
      ]
    },
    {
      "cell_type": "code",
      "metadata": {
        "id": "NB262GHtAkDM"
      },
      "source": [
        "from google.colab import drive\n",
        "drive.mount(\"/content/drive\")\n",
        "%cd drive/MyDrive"
      ],
      "execution_count": null,
      "outputs": []
    },
    {
      "cell_type": "markdown",
      "metadata": {
        "id": "AUVqwHQUAwKC"
      },
      "source": [
        "# Clone Exabyte-Api-Examples Repo"
      ]
    },
    {
      "cell_type": "code",
      "metadata": {
        "id": "MwelNkxAAmCs"
      },
      "source": [
        "!git clone https://github.com/Exabyte-io/exabyte-api-examples.git"
      ],
      "execution_count": null,
      "outputs": []
    },
    {
      "cell_type": "markdown",
      "metadata": {
        "id": "83O4whBhA0Rl"
      },
      "source": [
        "# Go to Exabyte-Api-Examples Repo and Load Notebooks saved with git-lfs"
      ]
    },
    {
      "cell_type": "code",
      "metadata": {
        "id": "n-vq5UjBAmFL"
      },
      "source": [
        "%cd exabyte-api-examples/\n",
        "!sudo apt-get install git-lfs\n",
        "!git lfs pull"
      ],
      "execution_count": null,
      "outputs": []
    },
    {
      "cell_type": "markdown",
      "metadata": {
        "id": "xFB5E16lHJIQ"
      },
      "source": [
        "# Complete Authorization Form\n",
        "Please complete the authorization form, by providing your Exabyte ACCOUNT_ID and AUTH_TOKEN. Additionaly, please provide your MATERIALS_PROJECT_API_KEY."
      ]
    },
    {
      "cell_type": "code",
      "metadata": {
        "id": "uBI7cc4dHOoX",
        "cellView": "form"
      },
      "source": [
        "#@title Authorization Form\n",
        "ACCOUNT_ID = \"\" #@param {type:\"string\"}\n",
        "AUTH_TOKEN = \"\" #@param {type:\"string\"}\n",
        "MATERIALS_PROJECT_API_KEY = \"\" #@param {type:\"string\"}\n",
        "\n",
        "with open('examples/settings.py') as settings:\n",
        "    settings_filelines = settings.readlines()\n",
        "with open('examples/settings.py', \"w\") as settings:\n",
        "    for line in settings_filelines:\n",
        "        if 'ACCOUNT_ID = ' in line:\n",
        "            settings.write('%s \"%s\"\\n' % (\"ACCOUNT_ID =\", ACCOUNT_ID))\n",
        "        elif 'AUTH_TOKEN = ' in line:\n",
        "            settings.write('%s \"%s\"\\n' % (\"AUTH_TOKEN =\", AUTH_TOKEN))\n",
        "        elif 'MATERIALS_PROJECT_API_KEY = ' in line:\n",
        "            settings.write('%s \"%s\"\\n' % (\"MATERIALS_PROJECT_API_KEY =\", MATERIALS_PROJECT_API_KEY))\n",
        "        else:\n",
        "            settings.write(line)\n"
      ],
      "execution_count": null,
      "outputs": []
    },
    {
      "cell_type": "markdown",
      "metadata": {
        "id": "snaYoK-wcHi3"
      },
      "source": [
        "# Install all other requirements"
      ]
    },
    {
      "cell_type": "code",
      "metadata": {
        "id": "6s_H6aWicI2C"
      },
      "source": [
        "!pip install -r requirements.txt -t '/content/drive/My Drive/exabyte-api-examples/requirements'"
      ],
      "execution_count": null,
      "outputs": []
    }
  ]
}