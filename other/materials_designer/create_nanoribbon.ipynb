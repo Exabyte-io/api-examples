{
 "cells": [
  {
   "cell_type": "markdown",
   "id": "367a698b29e22bd7",
   "metadata": {
    "collapsed": false
   },
   "source": [
    "# Create a Nanoribbon of a 2D material\n",
    "\n",
    "Create a nanoribbon of a 2D material with Hexagonal lattice using the `NanoribbonBuilder` tool. \n",
    "\n",
    "<h2 style=\"color:green\">Usage</h2>\n",
    "\n",
    "1. Make sure to select Input Materials (in the outer runtime) before running the notebook.\n",
    "1. Set nanoribbon parameters in cell 1.1. below (or use the default values).\n",
    "1. Click “Run” > “Run All” to run all cells. \n",
    "1. Scroll down to view results. \n",
    "\n",
    "## Summary\n",
    "1. Prepare the Environment: Set up the notebook and install packages, preview the input materials\n",
    "1. Create the Nanoribbon: Set nanoribbon parameters and create the nanoribbon\n",
    "2. Visualize the Perturbed Material\n",
    "\n",
    "## Notes\n",
    "\n",
    "1. For more information, see [Introduction](Introduction.ipynb)\n"
   ]
  },
  {
   "cell_type": "markdown",
   "id": "193a4e6a78fd5bd7",
   "metadata": {
    "collapsed": false
   },
   "source": [
    "## 1. Prepare the Environment\n",
    "### 1.1. Set up nanoribbon parameters "
   ]
  },
  {
   "cell_type": "code",
   "execution_count": null,
   "id": "a40d7b697c413113",
   "metadata": {
    "collapsed": false
   },
   "outputs": [],
   "source": [
    "# Index in the list of materials, to access as materials[MATERIAL_INDEX]\n",
    "MATERIAL_INDEX = 0\n",
    "\n",
    "# Widths and lengths are in number of unit cells\n",
    "WIDTH = 4 # in unit cells\n",
    "LENGTH = 10 # in unit cells\n",
    "VACUUM_WIDTH = 10.0 # in Angstroms\n",
    "VACUUM_LENGTH = 10.0 # in Angstroms\n",
    "EDGE_TYPE = \"zigzag\" # \"zigzag\" or \"armchair\""
   ]
  },
  {
   "cell_type": "markdown",
   "id": "49c9f5022d50517e",
   "metadata": {
    "collapsed": false
   },
   "source": [
    "### 1.2. Install Packages\n",
    "The step executes only in Pyodide environment. For other environments, the packages should be installed via `pip install` (see [README](../../README.ipynb))."
   ]
  },
  {
   "cell_type": "code",
   "execution_count": null,
   "id": "c6d9f8e57bef2f91",
   "metadata": {
    "collapsed": false
   },
   "outputs": [],
   "source": [
    "import sys\n",
    "\n",
    "if sys.platform == \"emscripten\":\n",
    "    import micropip\n",
    "    await micropip.install(\"mat3ra-api-examples\", deps=False)\n",
    "    await micropip.install('mat3ra-utils')\n",
    "    from mat3ra.utils.jupyterlite.packages import install_packages\n",
    "    await install_packages(\"\")"
   ]
  },
  {
   "cell_type": "markdown",
   "id": "edf02101e27a2742",
   "metadata": {
    "collapsed": false
   },
   "source": [
    "### 1.3. Get input materials\n",
    "Materials are loaded with `get_materials()`."
   ]
  },
  {
   "cell_type": "code",
   "execution_count": null,
   "id": "e0c53233ce728cc1",
   "metadata": {
    "collapsed": false
   },
   "outputs": [],
   "source": [
    "from utils.jupyterlite import get_materials\n",
    "materials = get_materials(globals())"
   ]
  },
  {
   "cell_type": "markdown",
   "id": "cf29b7f6fe114d8f",
   "metadata": {
    "collapsed": false
   },
   "source": [
    "### 1.4. Preview Material"
   ]
  },
  {
   "cell_type": "code",
   "execution_count": null,
   "id": "897ba7aa4e402d24",
   "metadata": {
    "collapsed": false
   },
   "outputs": [],
   "source": [
    "from utils.visualize import visualize_materials as visualize\n",
    "\n",
    "material = materials[MATERIAL_INDEX]\n",
    "visualize(material, repetitions=[3, 3, 1], rotation=\"0x\")"
   ]
  },
  {
   "cell_type": "markdown",
   "id": "39a93c4635762a83",
   "metadata": {
    "collapsed": false
   },
   "source": [
    "## 2. Create the Nanoribbon\n"
   ]
  },
  {
   "cell_type": "code",
   "execution_count": null,
   "id": "1991efeeebe39db4",
   "metadata": {
    "collapsed": false
   },
   "outputs": [],
   "source": [
    "from mat3ra.made.tools.helpers import EdgeTypes\n",
    "from mat3ra.made.tools.helpers import create_nanoribbon\n",
    "\n",
    "\n",
    "nanoribbon = create_nanoribbon(\n",
    "    material=material,\n",
    "    width=WIDTH,\n",
    "    length=LENGTH,\n",
    "    vacuum_width=VACUUM_WIDTH,\n",
    "    vacuum_length=VACUUM_LENGTH,\n",
    "    use_rectangular_lattice=True,\n",
    "    edge_type=EdgeTypes.zigzag if EDGE_TYPE == \"zigzag\" else EdgeTypes.armchair\n",
    ")"
   ]
  },
  {
   "cell_type": "markdown",
   "id": "eecd561cd92fb18a",
   "metadata": {
    "collapsed": false
   },
   "source": [
    "## 3. Visualize the Nanoribbon"
   ]
  },
  {
   "cell_type": "code",
   "execution_count": null,
   "id": "1ee393a7f2ec3bc8",
   "metadata": {
    "collapsed": false
   },
   "outputs": [],
   "source": [
    "from utils.visualize import visualize_materials as visualize\n",
    "visualize([{\"material\": nanoribbon, \"title\": \"Nanoribbon\"}])"
   ]
  },
  {
   "cell_type": "markdown",
   "id": "9e0b241366592109",
   "metadata": {
    "collapsed": false
   },
   "source": [
    "## 4. Pass data to the outside runtime"
   ]
  },
  {
   "cell_type": "code",
   "execution_count": null,
   "id": "29dfa0a329cca2fa",
   "metadata": {
    "collapsed": false
   },
   "outputs": [],
   "source": [
    "from utils.jupyterlite import set_materials\n",
    "set_materials(nanoribbon)"
   ]
  }
 ],
 "metadata": {
  "kernelspec": {
   "display_name": "Python 3",
   "language": "python",
   "name": "python3"
  },
  "language_info": {
   "codemirror_mode": {
    "name": "ipython",
    "version": 2
   },
   "file_extension": ".py",
   "mimetype": "text/x-python",
   "name": "python",
   "nbconvert_exporter": "python",
   "pygments_lexer": "ipython2",
   "version": "2.7.6"
  }
 },
 "nbformat": 4,
 "nbformat_minor": 5
}
