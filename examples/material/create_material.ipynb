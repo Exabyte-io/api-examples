{
 "cells": [
  {
   "attachments": {},
   "cell_type": "markdown",
   "metadata": {},
   "source": [
    "<a href=\"https://colab.research.google.com/github/Exabyte-io/api-examples/blob/bugfix/SOF-5578-WIP/examples/material/create_material.ipynb\" target=\"_parent\">\n",
    "<img alt=\"Open in Google Colab\" src=\"https://user-images.githubusercontent.com/20477508/128780728-491fea90-9b23-495f-a091-11681150db37.jpeg\" width=\"150\" border=\"0\">\n",
    "</a>"
   ]
  },
  {
   "attachments": {},
   "cell_type": "markdown",
   "metadata": {
    "id": "4icy6yP1nrTF"
   },
   "source": [
    "# Overview\n",
    "\n",
    "In this example we create a material from a JSON config with [tags](https://docs.mat3ra.com/entities-general/data/#tags) to identify the material."
   ]
  },
  {
   "attachments": {},
   "cell_type": "markdown",
   "metadata": {
    "id": "UC33AKk8stwN"
   },
   "source": [
    "# Complete Authorization Form and Initialize Settings\n",
    "\n",
    "This will also determine environment and set all environment variables. We determine if we are using Jupyter Notebooks or Google Colab to run this tutorial.\n",
    "\n",
    "If you are running this notebook from Google Colab, Colab takes ~1 min to execute the following cell.\n",
    "\n",
    "ACCOUNT_ID and AUTH_TOKEN - Authentication parameters needed for when making requests to [Mat3ra.com's API Endpoints](https://docs.mat3ra.com/rest-api/endpoints/).\n",
    "\n",
    "MATERIALS_PROJECT_API_KEY - Authentication parameter needed for when making requests to [Material Project's API](https://materialsproject.org/open)\n",
    "\n",
    "ORGANIZATION_ID - Authentication parameter needed for when working with collaborative accounts https://docs.mat3ra.com/collaboration/organizations/overview/\n",
    "\n",
    "> <span style=\"color: orange\">**NOTE**</span>: If you are running this notebook from Jupyter, the variables ACCOUNT_ID, AUTH_TOKEN, MATERIALS_PROJECT_API_KEY, and ORGANIZATION_ID should be set in the file [settings.json](../settings.json) if you need to use these variables. To obtain API token parameters, please see the following link to the documentation explaining how to get them: https://docs.mat3ra.com/accounts/ui/preferences/api/"
   ]
  },
  {
   "cell_type": "code",
   "execution_count": 1,
   "metadata": {
    "cellView": "form",
    "execution": {
     "iopub.execute_input": "2023-06-21T01:32:45.683299Z",
     "iopub.status.busy": "2023-06-21T01:32:45.682182Z",
     "iopub.status.idle": "2023-06-21T01:32:45.685829Z",
     "shell.execute_reply": "2023-06-21T01:32:45.684991Z"
    },
    "id": "63oC9xGZsuyy",
    "outputId": "1419f649-9ac2-4e50-a197-ff90c3769987"
   },
   "outputs": [],
   "source": [
    "#@title Authorization Form\n",
    "ACCOUNT_ID = \"ACCOUNT_ID\" #@param {type:\"string\"}\n",
    "AUTH_TOKEN = \"AUTH_TOKEN\" #@param {type:\"string\"}\n",
    "MATERIALS_PROJECT_API_KEY = \"MATERIALS_PROJECT_API_KEY\" #@param {type:\"string\"}\n",
    "ORGANIZATION_ID  = \"ORGANIZATION_ID\" #@param {type:\"string\"}\n",
    "\n",
    "import os\n",
    "if \"COLAB_JUPYTER_IP\" in os.environ:\n",
    "    os.environ.update(\n",
    "        dict(\n",
    "            ACCOUNT_ID=ACCOUNT_ID,\n",
    "            AUTH_TOKEN=AUTH_TOKEN,\n",
    "            MATERIALS_PROJECT_API_KEY=MATERIALS_PROJECT_API_KEY,\n",
    "            ORGANIZATION_ID=ORGANIZATION_ID,\n",
    "        )\n",
    "    )\n",
    "\n",
    "    !GIT_BRANCH=\"bugfix/SOF-5578-WIP\"; export GIT_BRANCH; curl -s \"https://raw.githubusercontent.com/Exabyte-io/api-examples/${GIT_BRANCH}/scripts/env.sh\" | bash"
   ]
  },
  {
   "attachments": {},
   "cell_type": "markdown",
   "metadata": {
    "id": "n3qID8yysRA9"
   },
   "source": [
    "# Imports"
   ]
  },
  {
   "cell_type": "code",
   "execution_count": 2,
   "metadata": {
    "execution": {
     "iopub.execute_input": "2023-06-21T01:32:45.690733Z",
     "iopub.status.busy": "2023-06-21T01:32:45.689916Z",
     "iopub.status.idle": "2023-06-21T01:32:45.753807Z",
     "shell.execute_reply": "2023-06-21T01:32:45.754354Z"
    },
    "id": "eohqW-ICsRA-"
   },
   "outputs": [
    {
     "name": "stderr",
     "output_type": "stream",
     "text": [
      "/Users/exabyte/.pyenv/versions/3.8.6/lib/python3.8/site-packages/requests/__init__.py:89: RequestsDependencyWarning: urllib3 (1.26.5) or chardet (3.0.4) doesn't match a supported version!\n",
      "  warnings.warn(\"urllib3 ({}) or chardet ({}) doesn't match a supported \"\n"
     ]
    }
   ],
   "source": [
    "from examples.utils.generic import display_JSON\n",
    "from examples.settings import ENDPOINT_ARGS\n",
    "\n",
    "from exabyte_api_client.endpoints.materials import MaterialEndpoints"
   ]
  },
  {
   "attachments": {},
   "cell_type": "markdown",
   "metadata": {
    "id": "-afD9DmxsRA_"
   },
   "source": [
    "## Create material config\n",
    "\n",
    "Create material config in JSON format. See [Material](https://docs.mat3ra.com/api/Material/put_materials_create) endpoint for more information about material config format."
   ]
  },
  {
   "cell_type": "code",
   "execution_count": 3,
   "metadata": {
    "execution": {
     "iopub.execute_input": "2023-06-21T01:32:45.761956Z",
     "iopub.status.busy": "2023-06-21T01:32:45.761157Z",
     "iopub.status.idle": "2023-06-21T01:32:45.763384Z",
     "shell.execute_reply": "2023-06-21T01:32:45.763960Z"
    },
    "id": "YrcuQGZSsRA_"
   },
   "outputs": [],
   "source": [
    "CONFIG = {\n",
    "    \"name\": \"TEST MATERIAL\",\n",
    "    \"basis\": {\n",
    "        \"elements\": [\n",
    "            {\n",
    "                \"id\": 1,\n",
    "                \"value\": \"Si\"\n",
    "            },\n",
    "            {\n",
    "                \"id\": 2,\n",
    "                \"value\": \"Si\"\n",
    "            }\n",
    "        ],\n",
    "        \"coordinates\": [\n",
    "            {\n",
    "                \"id\": 1,\n",
    "                \"value\": [\n",
    "                    0,\n",
    "                    0,\n",
    "                    0\n",
    "                ]\n",
    "            },\n",
    "            {\n",
    "                \"id\": 2,\n",
    "                \"value\": [\n",
    "                    0.25,\n",
    "                    0.25,\n",
    "                    0.25\n",
    "                ]\n",
    "            }\n",
    "        ],\n",
    "        \"units\": \"crystal\",\n",
    "        \"name\": \"basis\"\n",
    "    },\n",
    "    \"lattice\": {\n",
    "        \"type\": \"FCC\",\n",
    "        \"a\": 3.867,\n",
    "        \"b\": 3.867,\n",
    "        \"c\": 3.867,\n",
    "        \"alpha\": 60,\n",
    "        \"beta\": 60,\n",
    "        \"gamma\": 60,\n",
    "        \"units\": {\n",
    "            \"length\": \"angstrom\",\n",
    "            \"angle\": \"degree\"\n",
    "        },\n",
    "        \"vectors\": {\n",
    "            \"a\": [\n",
    "                3.867,\n",
    "                0,\n",
    "                0\n",
    "            ],\n",
    "            \"b\": [\n",
    "                1.9335000000000004,\n",
    "                3.348920236434424,\n",
    "                0\n",
    "            ],\n",
    "            \"c\": [\n",
    "                1.9335000000000004,\n",
    "                1.1163067454781415,\n",
    "                3.1573922784475164\n",
    "            ],\n",
    "            \"name\": \"lattice vectors\",\n",
    "            \"alat\": 1,\n",
    "            \"units\": \"angstrom\"\n",
    "        }\n",
    "    },\n",
    "    \"tags\": [\n",
    "        \"REST API\"\n",
    "    ]\n",
    "}"
   ]
  },
  {
   "attachments": {},
   "cell_type": "markdown",
   "metadata": {
    "id": "1S914EcCsRBA"
   },
   "source": [
    "## Create material\n",
    "\n",
    "Initialize `MaterialEndpoints` class and call `create` function to create material."
   ]
  },
  {
   "cell_type": "code",
   "execution_count": 4,
   "metadata": {
    "execution": {
     "iopub.execute_input": "2023-06-21T01:32:45.768690Z",
     "iopub.status.busy": "2023-06-21T01:32:45.767757Z",
     "iopub.status.idle": "2023-06-21T01:32:49.283475Z",
     "shell.execute_reply": "2023-06-21T01:32:49.284198Z"
    },
    "id": "sEr2jm5wsRBA"
   },
   "outputs": [],
   "source": [
    "endpoint = MaterialEndpoints(*ENDPOINT_ARGS)\n",
    "material = endpoint.create(CONFIG)"
   ]
  },
  {
   "attachments": {},
   "cell_type": "markdown",
   "metadata": {
    "id": "Lr8AYzECsRBA"
   },
   "source": [
    "## Print new material"
   ]
  },
  {
   "cell_type": "code",
   "execution_count": 5,
   "metadata": {
    "execution": {
     "iopub.execute_input": "2023-06-21T01:32:49.290112Z",
     "iopub.status.busy": "2023-06-21T01:32:49.289183Z",
     "iopub.status.idle": "2023-06-21T01:32:49.292262Z",
     "shell.execute_reply": "2023-06-21T01:32:49.292881Z"
    },
    "id": "NGMxmSLUsRBB",
    "outputId": "0f8e0efa-e94b-4292-968c-a6252658c14a"
   },
   "outputs": [
    {
     "name": "stdout",
     "output_type": "stream",
     "text": [
      "{\n",
      "    \"_id\": \"aB3k6hwQw4jxPuz8w\",\n",
      "    \"name\": \"TEST MATERIAL\",\n",
      "    \"basis\": {\n",
      "        \"elements\": [\n",
      "            {\n",
      "                \"id\": 0,\n",
      "                \"value\": \"Si\"\n",
      "            },\n",
      "            {\n",
      "                \"id\": 1,\n",
      "                \"value\": \"Si\"\n",
      "            }\n",
      "        ],\n",
      "        \"coordinates\": [\n",
      "            {\n",
      "                \"id\": 0,\n",
      "                \"value\": [\n",
      "                    0,\n",
      "                    0,\n",
      "                    0\n",
      "                ]\n",
      "            },\n",
      "            {\n",
      "                \"id\": 1,\n",
      "                \"value\": [\n",
      "                    0.25,\n",
      "                    0.25,\n",
      "                    0.25\n",
      "                ]\n",
      "            }\n",
      "        ],\n",
      "        \"units\": \"crystal\",\n",
      "        \"cell\": [\n",
      "            [\n",
      "                3.34892,\n",
      "                0,\n",
      "                1.9335\n",
      "            ],\n",
      "            [\n",
      "                1.1163069999999993,\n",
      "                3.1573920000000006,\n",
      "                1.9335\n",
      "            ],\n",
      "            [\n",
      "                0,\n",
      "                0,\n",
      "                3.867\n",
      "            ]\n",
      "        ]\n",
      "    },\n",
      "    \"lattice\": {\n",
      "        \"a\": 3.867,\n",
      "        \"b\": 3.867,\n",
      "        \"c\": 3.867,\n",
      "        \"alpha\": 60,\n",
      "        \"beta\": 60,\n",
      "        \"gamma\": 59.99999,\n",
      "        \"units\": {\n",
      "            \"length\": \"angstrom\",\n",
      "            \"angle\": \"degree\"\n",
      "        },\n",
      "        \"type\": \"FCC\",\n",
      "        \"vectors\": {\n",
      "            \"a\": [\n",
      "                3.34892,\n",
      "                0,\n",
      "                1.9335\n",
      "            ],\n",
      "            \"b\": [\n",
      "                1.116307,\n",
      "                3.157392,\n",
      "                1.9335\n",
      "            ],\n",
      "            \"c\": [\n",
      "                0,\n",
      "                0,\n",
      "                3.867\n",
      "            ],\n",
      "            \"alat\": 1,\n",
      "            \"units\": \"angstrom\"\n",
      "        }\n",
      "    },\n",
      "    \"tags\": [\n",
      "        \"REST API\"\n",
      "    ],\n",
      "    \"owner\": {\n",
      "        \"_id\": \"8TX5q8Eenb5a5fqCK\",\n",
      "        \"slug\": \"mrakitin1\",\n",
      "        \"cls\": \"Account\"\n",
      "    },\n",
      "    \"creator\": {\n",
      "        \"_id\": \"3Eh4qWRk6CE5Y7dds\",\n",
      "        \"slug\": \"mrakitin1\",\n",
      "        \"cls\": \"User\"\n",
      "    },\n",
      "    \"hash\": \"a665723ef7429caef6ca89385fe25bae\",\n",
      "    \"formula\": \"Si\",\n",
      "    \"unitCellFormula\": \"Si2\",\n",
      "    \"derivedProperties\": [\n",
      "        {\n",
      "            \"name\": \"volume\",\n",
      "            \"units\": \"angstrom^3\",\n",
      "            \"value\": 40.88909038874689\n",
      "        },\n",
      "        {\n",
      "            \"name\": \"density\",\n",
      "            \"units\": \"g/cm^3\",\n",
      "            \"value\": 2.281149788933887\n",
      "        },\n",
      "        {\n",
      "            \"spaceGroupSymbol\": \"Fd-3m\",\n",
      "            \"tolerance\": {\n",
      "                \"value\": 0.3,\n",
      "                \"units\": \"angstrom\"\n",
      "            },\n",
      "            \"name\": \"symmetry\"\n",
      "        },\n",
      "        {\n",
      "            \"name\": \"elemental_ratio\",\n",
      "            \"value\": 1,\n",
      "            \"element\": \"Si\"\n",
      "        },\n",
      "        {\n",
      "            \"name\": \"p-norm\",\n",
      "            \"value\": 1,\n",
      "            \"degree\": 0\n",
      "        },\n",
      "        {\n",
      "            \"name\": \"p-norm\",\n",
      "            \"value\": 1,\n",
      "            \"degree\": 2\n",
      "        },\n",
      "        {\n",
      "            \"name\": \"p-norm\",\n",
      "            \"value\": 1,\n",
      "            \"degree\": 3\n",
      "        },\n",
      "        {\n",
      "            \"name\": \"p-norm\",\n",
      "            \"value\": 1,\n",
      "            \"degree\": 5\n",
      "        },\n",
      "        {\n",
      "            \"name\": \"p-norm\",\n",
      "            \"value\": 1,\n",
      "            \"degree\": 7\n",
      "        },\n",
      "        {\n",
      "            \"name\": \"p-norm\",\n",
      "            \"value\": 1,\n",
      "            \"degree\": 10\n",
      "        }\n",
      "    ],\n",
      "    \"schemaVersion\": \"0.2.0\",\n",
      "    \"exabyteId\": \"e3nJ9g7tLaARSA25g\",\n",
      "    \"isDefault\": false,\n",
      "    \"scaledHash\": \"87e416358789a7c435eaaba0344af51d\",\n",
      "    \"isEntitySet\": false,\n",
      "    \"createdAt\": \"2023-06-21T01:32:49.323Z\",\n",
      "    \"createdBy\": \"0\",\n",
      "    \"inSet\": [\n",
      "        {\n",
      "            \"_id\": \"nQtFH6EKKxYJFY98d\",\n",
      "            \"slug\": \"read\",\n",
      "            \"cls\": \"Team\"\n",
      "        },\n",
      "        {\n",
      "            \"_id\": \"HcJjfDM8jLeZJw3PK\",\n",
      "            \"slug\": \"admin\",\n",
      "            \"cls\": \"Team\"\n",
      "        },\n",
      "        {\n",
      "            \"_id\": \"Fk7wfNLfo3b3ZC3ZZ\",\n",
      "            \"slug\": \"owner\",\n",
      "            \"cls\": \"Team\"\n",
      "        },\n",
      "        {\n",
      "            \"_id\": \"xX8tM7piQwP6AgvKR\",\n",
      "            \"slug\": \"read\",\n",
      "            \"cls\": \"Team\"\n",
      "        },\n",
      "        {\n",
      "            \"_id\": \"EfhfJ6CxywTtZbHX7\",\n",
      "            \"slug\": \"comment\",\n",
      "            \"cls\": \"Team\"\n",
      "        },\n",
      "        {\n",
      "            \"_id\": \"37mnhnnAQTtLBDGKB\",\n",
      "            \"slug\": \"execute\",\n",
      "            \"cls\": \"Team\"\n",
      "        },\n",
      "        {\n",
      "            \"_id\": \"H42E5NursPBda5bg4\",\n",
      "            \"slug\": \"edit\",\n",
      "            \"cls\": \"Team\"\n",
      "        }\n",
      "    ],\n",
      "    \"updatedAt\": \"2023-06-21T01:32:49.398Z\",\n",
      "    \"updatedBy\": \"0\"\n",
      "}\n"
     ]
    }
   ],
   "source": [
    "display_JSON(material)"
   ]
  }
 ],
 "metadata": {
  "colab": {
   "collapsed_sections": [],
   "name": "create_material.ipynb",
   "provenance": []
  },
  "kernelspec": {
   "display_name": "Python 3",
   "language": "python",
   "name": "python3"
  },
  "language_info": {
   "codemirror_mode": {
    "name": "ipython",
    "version": 3
   },
   "file_extension": ".py",
   "mimetype": "text/x-python",
   "name": "python",
   "nbconvert_exporter": "python",
   "pygments_lexer": "ipython3",
   "version": "3.8.6"
  }
 },
 "nbformat": 4,
 "nbformat_minor": 1
}
