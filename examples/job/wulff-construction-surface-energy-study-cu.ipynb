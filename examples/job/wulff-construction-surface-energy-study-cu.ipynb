version https://git-lfs.github.com/spec/v1
oid sha256:8f18938638d82b68c776a892d032f722774359e0b47296af70cf366ef1112b82
size 28291
