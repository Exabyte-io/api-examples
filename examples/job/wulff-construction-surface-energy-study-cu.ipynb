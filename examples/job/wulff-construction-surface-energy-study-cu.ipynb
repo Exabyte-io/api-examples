version https://git-lfs.github.com/spec/v1
oid sha256:2cd3ec730539079dd9feccdab24ef39e27711e223f7bf25692a27a72735c5035
size 26387
