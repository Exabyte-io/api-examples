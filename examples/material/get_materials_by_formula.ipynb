version https://git-lfs.github.com/spec/v1
oid sha256:20c581c3a6cef060b92f1997b3f827368e72271c5ce6b165688b01903aef64c6
size 46330
