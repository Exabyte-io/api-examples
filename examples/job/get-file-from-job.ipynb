version https://git-lfs.github.com/spec/v1
oid sha256:7717346a8f2ea2c7b9bde43f34179ffaf87d134b4a1b15681b77cc87c4dd2c93
size 23102
