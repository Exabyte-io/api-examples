{
 "cells": [
  {
   "cell_type": "markdown",
   "source": [
    "# Pt Adatoms Island on MoS2\n",
    "\n",
    "## 0. Introduction\n",
    "\n",
    "In this example, we will create a MoS2 slab with a Pt island formed by adatoms, replication the structure from the publication:\n",
    "\n",
    "> **Saidi, W. A.**\n",
    "> \"Density Functional Theory Study of Nucleation and Growth of Pt Nanoparticles on MoS2(001) Surface.\"\n",
    "> Crystal Growth & Design, 15(2), 642–652.  (2015)\n",
    "> [DOI](https://doi.org/10.1021/cg5013395)\n",
    "\n",
    "Island formation will be performed with consecutive addition of adatom defects to reproduce Figure 4. b) material:\n",
    "\n",
    "<img src=\"https://github.com/Exabyte-io/documentation/raw/12617167278ae3523adc028583b21ea4e8ebd197/images/tutorials/materials/defects/defect_point_adatom_island_molybdenum_disulfide_platinum/0-figure-from-manuscript.webp\" alt=\"Pt island on MoS2\" width=\"400\"/>"
   ],
   "metadata": {
    "collapsed": false
   },
   "id": "f2e1e795020d7b3f"
  },
  {
   "cell_type": "markdown",
   "source": [
    "## 1. Prepare the Environment\n",
    "### 1.1. Set up defect parameters "
   ],
   "metadata": {
    "collapsed": false
   },
   "id": "5e43ff288847b784"
  },
  {
   "cell_type": "code",
   "outputs": [],
   "source": [
    "# Slab parameters\n",
    "MATERIAL_NAME = \"MoS2.*2D\"  # Name of the material (regex) to be loaded from Standata\n",
    "MILLER_INDICES = (0, 0, 1)  # Miller indices of the surface\n",
    "SLAB_THICKNESS = 1  # Thickness of the slab in unit cells\n",
    "VACUUM = 10.0  # Vacuum thickness in Angstrom\n",
    "SUPERCELL_MATRIX = [[3, 0, 0], [0, 3, 0], [0, 0, 1]]\n",
    "\n",
    "# Defect parameters\n",
    "DEFECT_TYPE = \"adatom\"\n",
    "PLACEMENT_METHOD = \"coordinate\"  # Choose between \"equidistant\", \"crystal_site\", \"closest_site\", \"coordinate\"\n",
    "CHEMICAL_ELEMENT = \"Pt\"  # Element to be placed at the site \n",
    "USE_CARTESIAN_COORDINATES = False  # If True, the position is in Cartesian coordinates\n",
    "\n",
    "# Values below are taken from the publication:\n",
    "DISTANCE_Z_S_Pt = 1.2  # Distance between S (MoS2) and Pt, in Angstrom\n",
    "DISTANCE_Z_Pt_Pt = 1.6  # Distance between Pt atoms, in Angstrom\n",
    "\n",
    "DISTANCE_Z_VALUES = [DISTANCE_Z_S_Pt, DISTANCE_Z_S_Pt, DISTANCE_Z_S_Pt, DISTANCE_Z_Pt_Pt]\n",
    "\n",
    "# In the unit cell of MoS2 atoms have S: [2/3, 1/3, 0] and Mo: [1/3, 2/3, 0] crystal coordinates.\n",
    "# Creation of 3x3 supercell scales coordinates to steps of 1/9th between points: S, Mo and hollow.\n",
    "# The adatoms are placed on the top of Mo atoms and S atoms can be obtained:\n",
    "COORDINATES = [\n",
    "    [5 / 9, 4 / 9, 0],  # 1st atom, atop central Mo\n",
    "    [2 / 9, 4 / 9, 0],  # 2nd atom, next clockwise atop Mo\n",
    "    [5 / 9, 7 / 9, 0],  # 3rd atom, next clockwise atop Mo\n",
    "    [4 / 9, 5 / 9, 0],  # 4th topmost atom, atop S\n",
    "]"
   ],
   "metadata": {
    "collapsed": false
   },
   "id": "9d8b1890b34d850a",
   "execution_count": null
  },
  {
   "cell_type": "markdown",
   "source": [
    "### 1.2. Install Packages\n",
    "The step executes only in Pyodide environment. For other environments, the packages should be installed via `pip install` (see [README](../../README.ipynb))."
   ],
   "metadata": {
    "collapsed": false
   },
   "id": "bb64de5ff32649f8"
  },
  {
   "cell_type": "code",
   "outputs": [],
   "source": [
    "import sys\n",
    "\n",
    "if sys.platform == \"emscripten\":\n",
    "    import micropip\n",
    "\n",
    "    await micropip.install('mat3ra-api-examples', deps=False)\n",
    "    from utils.jupyterlite import install_packages\n",
    "\n",
    "    await install_packages(\"create_point_defect.ipynb\")"
   ],
   "metadata": {
    "collapsed": false
   },
   "id": "ef664b14457530fd",
   "execution_count": null
  },
  {
   "cell_type": "markdown",
   "source": [
    "### 1.3. Get input material\n",
    "Materials are loaded with `get_materials()`."
   ],
   "metadata": {
    "collapsed": false
   },
   "id": "919ad7af8dceeedd"
  },
  {
   "cell_type": "code",
   "outputs": [],
   "source": [
    "from utils.visualize import visualize_materials\n",
    "from mat3ra.standata.materials import Materials\n",
    "from mat3ra.made.material import Material\n",
    "\n",
    "substrate = Material(Materials.get_by_name_first_match(MATERIAL_NAME))\n",
    "\n",
    "# Preview materials\n",
    "visualize_materials([substrate])\n",
    "visualize_materials([substrate], rotation=\"-90x\")\n"
   ],
   "metadata": {
    "collapsed": false
   },
   "id": "be38fdda1984c654",
   "execution_count": null
  },
  {
   "cell_type": "markdown",
   "source": [
    "### 1.4. Create and preview Slab"
   ],
   "metadata": {
    "collapsed": false
   },
   "id": "a132fe0ef8bbf0d0"
  },
  {
   "cell_type": "code",
   "outputs": [],
   "source": [
    "from mat3ra.made.tools.build.slab import SlabConfiguration, get_terminations, create_slab\n",
    "from utils.visualize import visualize_materials as visualize\n",
    "\n",
    "slab_config = SlabConfiguration(\n",
    "    bulk=substrate,\n",
    "    miller_indices=MILLER_INDICES,\n",
    "    thickness=SLAB_THICKNESS,\n",
    "    vacuum=VACUUM,\n",
    "    use_orthogonal_z=True,\n",
    "    xy_supercell_matrix=SUPERCELL_MATRIX\n",
    ")\n",
    "termination = get_terminations(slab_config)[0]\n",
    "slab = create_slab(slab_config, termination)\n",
    "visualize([{\"material\": slab, \"rotation\": \"0x\"}, {\"material\": slab, \"rotation\": \"-90x\"}], repetitions=[1, 1, 1])"
   ],
   "metadata": {
    "collapsed": false
   },
   "id": "e2d24109d3068c9e",
   "execution_count": null
  },
  {
   "cell_type": "markdown",
   "source": [
    "## 2. Create the Defect\n",
    "### 2.1. Set adatom parameters"
   ],
   "metadata": {
    "collapsed": false
   },
   "id": "5da5b0380583c952"
  },
  {
   "cell_type": "code",
   "outputs": [],
   "source": [
    "from mat3ra.made.tools.build.defect import AdatomSlabPointDefectConfiguration\n",
    "\n",
    "CONFIGS = []\n",
    "for idx, coordinate in enumerate(COORDINATES):\n",
    "    adatom_config = AdatomSlabPointDefectConfiguration(\n",
    "        crystal=slab,\n",
    "        defect_type=DEFECT_TYPE,\n",
    "        placement_method=PLACEMENT_METHOD,\n",
    "        chemical_element=CHEMICAL_ELEMENT,\n",
    "        position_on_surface=coordinate,\n",
    "        distance_z=DISTANCE_Z_VALUES[idx],\n",
    "        use_cartesian_coordinates=USE_CARTESIAN_COORDINATES\n",
    "    )\n",
    "    CONFIGS.append(adatom_config)"
   ],
   "metadata": {
    "collapsed": false
   },
   "id": "e385e50ae11ed2b9",
   "execution_count": null
  },
  {
   "cell_type": "markdown",
   "source": [
    "### 2.2. Create the defects"
   ],
   "metadata": {
    "collapsed": false
   },
   "id": "489b51f0ee122c48"
  },
  {
   "cell_type": "code",
   "outputs": [],
   "source": [
    "from mat3ra.made.tools.build.defect import create_defects\n",
    "\n",
    "slab_with_adatom = create_defects(CONFIGS)"
   ],
   "metadata": {
    "collapsed": false
   },
   "id": "a990fa35742d7269",
   "execution_count": null
  },
  {
   "cell_type": "markdown",
   "source": [
    "## 3. Visualize the Slabs with Adatom"
   ],
   "metadata": {
    "collapsed": false
   },
   "id": "462549d016073446"
  },
  {
   "cell_type": "code",
   "outputs": [],
   "source": [
    "from utils.visualize import visualize_materials as visualize\n",
    "\n",
    "visualize([{\"material\": slab, \"title\": \"Original material\"},\n",
    "           {\"material\": slab_with_adatom, \"title\": f\"Material with adatom defect at {PLACEMENT_METHOD} position\"}],\n",
    "          rotation=\"-90x\"\n",
    "          )\n",
    "visualize([{\"material\": slab, \"title\": \"Original material\"},\n",
    "           {\"material\": slab_with_adatom, \"title\": f\"Material with adatom defect at {PLACEMENT_METHOD} position\"}],\n",
    "          )"
   ],
   "metadata": {
    "collapsed": false
   },
   "id": "509b18661a069e42",
   "execution_count": null
  },
  {
   "cell_type": "markdown",
   "source": [
    "## 4. Pass data to the outside runtime"
   ],
   "metadata": {
    "collapsed": false
   },
   "id": "d381df29a6bbdd82"
  },
  {
   "cell_type": "code",
   "outputs": [],
   "source": [
    "from utils.jupyterlite import set_materials, download_content_to_file\n",
    "\n",
    "set_materials([slab_with_adatom])\n",
    "download_content_to_file(slab_with_adatom, \"MoS2_Pt_island.json\")"
   ],
   "metadata": {
    "collapsed": false
   },
   "id": "61daa5afcbc078a9",
   "execution_count": null
  }
 ],
 "metadata": {
  "kernelspec": {
   "display_name": "Python 3",
   "language": "python",
   "name": "python3"
  },
  "language_info": {
   "codemirror_mode": {
    "name": "ipython",
    "version": 2
   },
   "file_extension": ".py",
   "mimetype": "text/x-python",
   "name": "python",
   "nbconvert_exporter": "python",
   "pygments_lexer": "ipython2",
   "version": "2.7.6"
  }
 },
 "nbformat": 4,
 "nbformat_minor": 5
}
