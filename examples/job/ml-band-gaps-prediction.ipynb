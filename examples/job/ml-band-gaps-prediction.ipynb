version https://git-lfs.github.com/spec/v1
oid sha256:5378ca1aeb7955a850e440fdf2e9a9e5f4c8adf0df16625f990469c4e3f339ac
size 56449
