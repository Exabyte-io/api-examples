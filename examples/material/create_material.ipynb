version https://git-lfs.github.com/spec/v1
oid sha256:4a1416413a36e962fcfb3bfc50aa50e91e554262609c9e0b6ee4f96376f2e671
size 11487
