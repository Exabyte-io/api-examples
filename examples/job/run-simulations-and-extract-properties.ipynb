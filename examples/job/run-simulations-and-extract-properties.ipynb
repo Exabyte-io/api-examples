{
 "cells": [
  {
   "cell_type": "markdown",
   "metadata": {
    "id": "pe8t1uEoGuQL"
   },
   "source": [
    "<a href=\"https://colab.research.google.com/github/Exabyte-io/exabyte-api-examples/blob/dev/examples/job/run-simulations-and-extract-properties.ipynb\" target=\"_parent\">\n",
    "<img alt=\"Open in Google Colab\" src=\"https://user-images.githubusercontent.com/20477508/128780728-491fea90-9b23-495f-a091-11681150db37.jpeg\" width=\"150\" border=\"0\">\n",
    "</a>"
   ]
  },
  {
   "cell_type": "markdown",
   "metadata": {
    "id": "XZhBV89lGuQN"
   },
   "source": [
    "# Run Simulations and Extract Properties\n",
    "\n",
    "This example demonstrates how to use Exabyte RESTful API to create simulation [Jobs](https://docs.exabyte.io/jobs/overview/) programmatically for multiple [Materials](https://docs.exabyte.io/materials/overview/) at once and extract the resulting [Properties](https://docs.exabyte.io/properties/overview/) forming a [Pandas](https://pandas.pydata.org/) dataframe.\n",
    "\n",
    "This approach can work with any [Workflows](https://docs.exabyte.io/workflows/overview/). For the demonstration purpose we use the Density Functional Theory and extract Electronic Band Gap as the property of interest.\n",
    "\n",
    "> <span style=\"color: orange\">**IMPORTANT NOTE**</span>: In order to run this example in full, an active Exabyte.io account with access to VASP (Vienna ab-initio simulations package) is required. Alternatively, Readers may substitute the workflow ID below with another one (an equivalent one for Quantum ESPRESSO, for example) and adjust extraction of the results (\"Extract results\" section). RESTful API credentials shall be updated in [settings](../settings.py).\n",
    "\n",
    "\n",
    "## Steps\n",
    "\n",
    "We follow the below steps:\n",
    "\n",
    "- Import materials from [materials project](https://materialsproject.org/)\n",
    "\n",
    "- Group imported materials inside a [materials set](https://docs.exabyte.io/entities-general/sets/)\n",
    "\n",
    "- Create jobs for the materials and grouping them inside a [jobs set](https://docs.exabyte.io/entities-general/sets/)\n",
    "\n",
    "- Submit jobs and monitoring the progress\n",
    "\n",
    "- Extract the [final structure](https://docs.exabyte.io/properties/structural/final-structure) (relaxed structure) and its properties\n",
    "\n",
    "- Output the results as Pandas dataFrame\n",
    "\n",
    "## Pre-requisites\n",
    "\n",
    "The explanation below assumes that the reader is familiar with the concepts used in Exabyte platform and RESTful API. We outline these below and direct the reader to the original sources of information:\n",
    "\n",
    "- [Generating RESTful API authentication parameters](../system/get_authentication_params.ipynb)\n",
    "- [Importing materials from materials project](../material/import_materials_from_materialsproject.ipynb)\n",
    "- [Creating and submitting jobs](../job/create_and_submit_job.ipynb)"
   ]
  },
  {
   "cell_type": "markdown",
   "metadata": {
    "id": "ML9cpWslGuQO"
   },
   "source": [
    "# Complete Authorization Form and Initialize Settings\n",
    "\n",
    "The following environment variables need to be set:\n",
    "\n",
    "ACCOUNT_ID and AUTH_TOKEN - Authentication parameters needed for when making requests to [Exabyte.io's API Endpoints](https://docs.exabyte.io/rest-api/endpoints/).\n",
    "\n",
    "MATERIALS_PROJECT_API_KEY - Authentication parameter needed for when making requests to [Material Project's API](https://materialsproject.org/open)\n",
    "\n",
    "ORGANIZATION_ID - Authentication parameter needed for when working with collaborative accounts https://docs.exabyte.io/collaboration/organizations/overview/"
   ]
  },
  {
   "cell_type": "code",
   "execution_count": null,
   "metadata": {
    "cellView": "form",
    "colab": {
     "base_uri": "https://localhost:8080/"
    },
    "id": "tZDgVj8zGuQO",
    "outputId": "fd8048ca-7813-46fb-f340-49a306eaff0c"
   },
   "outputs": [],
   "source": [
    "#@title Authorization Form\n",
    "ACCOUNT_ID = \"ACCOUNT_ID\" #@param {type:\"string\"}\n",
    "AUTH_TOKEN = \"AUTH_TOKEN\" #@param {type:\"string\"}\n",
    "MATERIALS_PROJECT_API_KEY = \"MATERIALS_PROJECT_API_KEY\" #@param {type:\"string\"}\n",
    "ORGANIZATION_ID  = \"ORGANIZATION_ID\" #@param {type:\"string\"}"
   ]
  },
  {
   "cell_type": "code",
   "execution_count": null,
   "metadata": {},
   "outputs": [],
   "source": [
    "from exabyte_api_examples_utils.enum import (\n",
    "    HOST,\n",
    "    PORT,\n",
    "    VERSION,\n",
    "    SECURE,\n",
    ")\n",
    "\n",
    "ENDPOINT_ARGS = [HOST, PORT, ACCOUNT_ID, AUTH_TOKEN, VERSION, SECURE]"
   ]
  },
  {
   "cell_type": "markdown",
   "metadata": {
    "id": "jS3-0-VzGuQP"
   },
   "source": [
    "### Import packages"
   ]
  },
  {
   "cell_type": "code",
   "execution_count": null,
   "metadata": {
    "id": "jC7WQVLkGuQP"
   },
   "outputs": [],
   "source": [
    "from IPython.display import IFrame\n",
    "from exabyte_api_examples_utils.generic import (\n",
    "    wait_for_jobs_to_finish,\n",
    "    get_property_by_subworkow_and_unit_indicies,\n",
    "    dataframe_to_html\n",
    ")\n",
    "\n",
    "import pandas as pd\n",
    "\n",
    "# Relevant functions from the API client\n",
    "from exabyte_api_client.endpoints.jobs import JobEndpoints\n",
    "from exabyte_api_client.utils.materials import flatten_material\n",
    "from exabyte_api_client.endpoints.projects import ProjectEndpoints\n",
    "from exabyte_api_client.endpoints.materials import MaterialEndpoints\n",
    "from exabyte_api_client.endpoints.bank_workflows import BankWorkflowEndpoints\n",
    "from exabyte_api_client.endpoints.raw_properties import RawPropertiesEndpoints"
   ]
  },
  {
   "cell_type": "markdown",
   "metadata": {
    "id": "8qFzDd1EGuQQ"
   },
   "source": [
    "#### Materials\n",
    "\n",
    "- **MATERIALS_PROJECT_IDS**: a list of material IDs to be imported from materials project\n",
    "- **TAGS**: a list of [tags](https://docs.exabyte.io/entities-general/data/#tags) to assign to imported materials\n",
    "- **MATERIALS_SET_NAME**: the name of the materials set\n"
   ]
  },
  {
   "cell_type": "code",
   "execution_count": null,
   "metadata": {
    "id": "GrESpSt6GuQQ"
   },
   "outputs": [],
   "source": [
    "MATERIALS_PROJECT_IDS = [\"mp-149\", \"mp-32\"] # Si and Ge\n",
    "MATERIALS_SET_NAME = \"materials-set\"\n",
    "TAGS = [\"tag1\", \"tag2\"]"
   ]
  },
  {
   "cell_type": "markdown",
   "metadata": {
    "id": "tN2FjWMTGuQR"
   },
   "source": [
    "#### Jobs\n",
    "\n",
    "Parameters for the jobs to be ran for the imported materials:\n",
    "\n",
    "- **JOB_NAME_PREFIX**: prefix to be used for the job name with \"{JOB_NAME_PREFIX} {FORMULA}\" convention (e.g.  \"Job Name Prefix - SiGe\")\n",
    "- **JOBS_SET_NAME**: the name of the jobs set"
   ]
  },
  {
   "cell_type": "code",
   "execution_count": null,
   "metadata": {
    "id": "7PK1884mGuQR"
   },
   "outputs": [],
   "source": [
    "JOB_NAME_PREFIX = \"Job Name Prefix\"\n",
    "JOBS_SET_NAME = \"jobs-set\""
   ]
  },
  {
   "cell_type": "markdown",
   "metadata": {
    "id": "2SL1nNOBGuQS"
   },
   "source": [
    "#### Workflow\n",
    "\n",
    "This example is based on [this](https://platform.exabyte.io/analytics/workflows/56xDyXsPMNJ7cF9nv) bank workflow which is later copied to the account workflows collection.  The workflow is named \"D3-GGA-BS-BG-DOS-ALL\" and utilizes the logic explained in https://arxiv.org/pdf/1808.05325.pdf, for example (see section \"Methodology\", Table I). \"D3\" indicates the difficulty level 3 per the table convention. BS, BG, DOS indicate the properties extracted - Band Structure, Band Gap, Density of States. The workflow is utilizing VASP simulation engine at version 5.4.4."
   ]
  },
  {
   "cell_type": "code",
   "execution_count": null,
   "metadata": {
    "id": "63K2z5V_GuQS"
   },
   "outputs": [],
   "source": [
    "BANK_WORKFLOW_ID = \"56xDyXsPMNJ7cF9nv\""
   ]
  },
  {
   "cell_type": "code",
   "execution_count": null,
   "metadata": {
    "colab": {
     "base_uri": "https://localhost:8080/",
     "height": 671
    },
    "id": "K6IVdeN0GuQS",
    "outputId": "0f805c5b-0608-4af7-f8d8-914026559dab"
   },
   "outputs": [],
   "source": [
    "# Visualize the bank workflow below\n",
    "# NOTE: might not be rendered on Github\n",
    "# TODO: how is the password handled here as if we enter the password it doesn't take us to where we want to go\n",
    "IFrame(\"https://platform.mat3ra.com/analytics/workflows/{}\".format(BANK_WORKFLOW_ID), width=900, height=650)"
   ]
  },
  {
   "cell_type": "markdown",
   "metadata": {
    "id": "_bRgarl3GuQT"
   },
   "source": [
    "#### Compute\n",
    "\n",
    "Setup compute parameters. See [this](https://docs.exabyte.io/infrastructure/compute-settings/ui) for more information about compute parameters.\n",
    "\n",
    "- **NODES**: Number of nodes. Defaults to 1.\n",
    "- **PPN**: Number of MPI processes per each node, Defaults to 1.\n",
    "- **QUEUE**: The name of queue to submit the jobs into. Defaults to D.\n",
    "- **TIME_LIMIT**: Job walltime. Defaults to \"01:00:00\" (one hour).\n",
    "- **CLUSTER**: The full qualified domain name (FQDN) or alias of the cluster to submit the jobs into.\n",
    "\n",
    "explain in the notebook that the job might run out of the limit of memory so it is clear, (2) suggest using OR queue to avoid memory limitations\n",
    "\n",
    "> <span style=\"color: orange\">**NOTE**</span>: Although here we set the QUEUE to be debug, it is possible the job might run out of memory, and result in an Errored-Jobs status. If this happens, we suggest you switch from `QUEUE = D` to `QUEUE = OR` to avoid memory limitations."
   ]
  },
  {
   "cell_type": "code",
   "execution_count": null,
   "metadata": {
    "id": "_81ZxEGSGuQT"
   },
   "outputs": [],
   "source": [
    "PPN = \"1\"\n",
    "QUEUE = \"D\"\n",
    "NODES = \"1\"\n",
    "TIME_LIMIT = \"01:00:00\"\n",
    "CLUSTER = \"cluster-001\""
   ]
  },
  {
   "cell_type": "markdown",
   "metadata": {
    "id": "VeUh62vmGuQU"
   },
   "source": [
    "### Initialize endpoints"
   ]
  },
  {
   "cell_type": "code",
   "execution_count": null,
   "metadata": {
    "id": "PDHqVPGsGuQU"
   },
   "outputs": [],
   "source": [
    "job_endpoints = JobEndpoints(*ENDPOINT_ARGS)\n",
    "project_endpoints = ProjectEndpoints(*ENDPOINT_ARGS)\n",
    "material_endpoints = MaterialEndpoints(*ENDPOINT_ARGS)\n",
    "raw_property_endpoints = RawPropertiesEndpoints(*ENDPOINT_ARGS)\n",
    "bank_workflow_endpoints = BankWorkflowEndpoints(*ENDPOINT_ARGS)"
   ]
  },
  {
   "cell_type": "markdown",
   "metadata": {
    "id": "3-OhxFHxGuQU"
   },
   "source": [
    "Next, we retrieve the owner and project IDs as they are needed by the endpoints. Account's default material is used to extract the owner ID. One can extract the owner ID from any other account's [entities](https://docs.exabyte.io/entities-general/overview/)."
   ]
  },
  {
   "cell_type": "code",
   "execution_count": null,
   "metadata": {
    "id": "thRoaKNlGuQU"
   },
   "outputs": [],
   "source": [
    "owner_id = material_endpoints.list({\"isDefault\": True, \"owner._id\": ACCOUNT_ID})[0][\"owner\"][\"_id\"]\n",
    "project_id = project_endpoints.list({\"isDefault\": True, \"owner._id\": ACCOUNT_ID})[0][\"_id\"]"
   ]
  },
  {
   "cell_type": "markdown",
   "metadata": {
    "id": "BR22VXZQGuQU"
   },
   "source": [
    "### Create workflow\n",
    "\n",
    "Copy bank workflow (template) to the account's workflows collection."
   ]
  },
  {
   "cell_type": "code",
   "execution_count": null,
   "metadata": {
    "id": "RA7-aPNmGuQU"
   },
   "outputs": [],
   "source": [
    "workflow_id = bank_workflow_endpoints.copy(BANK_WORKFLOW_ID, owner_id)[\"_id\"]"
   ]
  },
  {
   "cell_type": "markdown",
   "metadata": {
    "id": "FNVGdNhaGuQU"
   },
   "source": [
    "### Import materials\n",
    "\n",
    "Import materials from materials project with the above tags."
   ]
  },
  {
   "cell_type": "code",
   "execution_count": null,
   "metadata": {
    "id": "4b2k3-9BGuQV"
   },
   "outputs": [],
   "source": [
    "materials = material_endpoints.import_from_materialsproject(MATERIALS_PROJECT_API_KEY, MATERIALS_PROJECT_IDS, owner_id, TAGS)"
   ]
  },
  {
   "cell_type": "markdown",
   "metadata": {
    "id": "sb1JK5NNGuQV"
   },
   "source": [
    "Create a materials set and move the materials into it."
   ]
  },
  {
   "cell_type": "code",
   "execution_count": null,
   "metadata": {
    "id": "sj5Hsk-8GuQV"
   },
   "outputs": [],
   "source": [
    "materials_set = material_endpoints.create_set({\"name\": MATERIALS_SET_NAME, \"owner\": {\"_id\": owner_id}})\n",
    "for material in materials: material_endpoints.move_to_set(material[\"_id\"], \"\", materials_set[\"_id\"])"
   ]
  },
  {
   "cell_type": "markdown",
   "metadata": {
    "id": "PSVqliqZGuQV"
   },
   "source": [
    "### Create jobs\n",
    "\n",
    "Create jobs for the materials above."
   ]
  },
  {
   "cell_type": "code",
   "execution_count": null,
   "metadata": {
    "id": "hqlJVk6-GuQV"
   },
   "outputs": [],
   "source": [
    "compute = job_endpoints.get_compute(CLUSTER, PPN, NODES, QUEUE, TIME_LIMIT)\n",
    "jobs = job_endpoints.create_by_ids(materials, workflow_id, project_id, owner_id, JOB_NAME_PREFIX, compute)"
   ]
  },
  {
   "cell_type": "markdown",
   "metadata": {
    "id": "xJZsmyetGuQV"
   },
   "source": [
    "Create a jobs set and move the jobs into it."
   ]
  },
  {
   "cell_type": "code",
   "execution_count": null,
   "metadata": {
    "id": "bem3lHjPGuQV"
   },
   "outputs": [],
   "source": [
    "jobs_set = job_endpoints.create_set({\"name\": JOBS_SET_NAME, \"projectId\": project_id, \"owner\": {\"_id\": owner_id}})\n",
    "for job in jobs: job_endpoints.move_to_set(job[\"_id\"], \"\", jobs_set[\"_id\"])"
   ]
  },
  {
   "cell_type": "markdown",
   "metadata": {
    "id": "dWzkeaCmGuQW"
   },
   "source": [
    "Submit the jobs for execution."
   ]
  },
  {
   "cell_type": "code",
   "execution_count": null,
   "metadata": {
    "id": "ah5gvnQdGuQW"
   },
   "outputs": [],
   "source": [
    "# NOTE: In order to run this cell your exabyte.io account must have access to VASP (Vienna ab-initio simulations package).\n",
    "# If you own a license but do not have access please contact support to resolve this. \n",
    "for job in jobs: job_endpoints.submit(job[\"_id\"])"
   ]
  },
  {
   "cell_type": "markdown",
   "metadata": {
    "id": "UYvSw8PCGuQW"
   },
   "source": [
    "Monitor the jobs and print the status until they are all finished."
   ]
  },
  {
   "cell_type": "code",
   "execution_count": null,
   "metadata": {
    "colab": {
     "base_uri": "https://localhost:8080/"
    },
    "id": "DBbJH6rhGuQW",
    "outputId": "8a4c5707-aa42-4daf-8ee5-d201ae9d00ac"
   },
   "outputs": [],
   "source": [
    "job_ids = [job[\"_id\"] for job in jobs]\n",
    "wait_for_jobs_to_finish(job_endpoints, job_ids)"
   ]
  },
  {
   "cell_type": "markdown",
   "metadata": {
    "id": "EVs2s18ZGuQW"
   },
   "source": [
    "### Extract results\n",
    "\n",
    "For each material, simulaion job, final structure, pressure and band gaps are extracted.\n",
    "\n",
    "- Final structure and pressure are extracted from the first unit (vasp_relax with index 0) of the first job's subworkflow (volume-relaxation with index 0)\n",
    "\n",
    "- Band gaps are extracted from the second unit (vasp-bands with index 1) of the second job's subworkflow (SCF-BS-BG-DOS with index 1)."
   ]
  },
  {
   "cell_type": "code",
   "execution_count": null,
   "metadata": {
    "id": "d3f4eoHBGuQW"
   },
   "outputs": [],
   "source": [
    "results = []\n",
    "for material in materials:\n",
    "    job = next((job for job in jobs if job[\"_material\"][\"_id\"] == material[\"_id\"]))\n",
    "    final_structure = get_property_by_subworkow_and_unit_indicies(raw_property_endpoints, \"final_structure\", job, 0, 0)[\"data\"]\n",
    "    pressure = get_property_by_subworkow_and_unit_indicies(raw_property_endpoints, \"pressure\", job, 0, 0)[\"data\"][\"value\"]\n",
    "    unit_flowchart_id = job[\"workflow\"][\"subworkflows\"][1][\"units\"][1][\"flowchartId\"]\n",
    "    band_gap_direct = raw_property_endpoints.get_direct_band_gap(job[\"_id\"], unit_flowchart_id)\n",
    "    band_gap_indirect = raw_property_endpoints.get_indirect_band_gap(job[\"_id\"], unit_flowchart_id)\n",
    "    results.append({\n",
    "        \"initial_structure\": material,\n",
    "        \"final_structure\": final_structure,\n",
    "        \"pressure\": pressure,\n",
    "        \"band_gap_direct\": band_gap_direct,\n",
    "        \"band_gap_indirect\": band_gap_indirect,\n",
    "    })"
   ]
  },
  {
   "cell_type": "markdown",
   "metadata": {
    "id": "LHstXQ31GuQW"
   },
   "source": [
    "### Flatten results\n",
    "\n",
    "The below for-loop iterates over the results and flatten them to form the final Pandas dataFrame."
   ]
  },
  {
   "cell_type": "code",
   "execution_count": null,
   "metadata": {
    "id": "1k1GV4T4GuQX"
   },
   "outputs": [],
   "source": [
    "table = []\n",
    "for result in results:\n",
    "    data = flatten_material(result[\"initial_structure\"])\n",
    "    data.extend(flatten_material(result[\"initial_structure\"]))\n",
    "    data.extend([result[\"pressure\"], result[\"band_gap_direct\"], result[\"band_gap_indirect\"]])\n",
    "    table.append(data)"
   ]
  },
  {
   "cell_type": "markdown",
   "metadata": {
    "id": "uMo__G6uGuQX"
   },
   "source": [
    "### Output results\n",
    "\n",
    "Form the Pandas dataFrame headers according to the table generated above with the following abbreviations:\n",
    "\n",
    "- **\"INI\"**: INITIAL\n",
    "- **\"FIN\"**: FINAL\n",
    "- **\"N-SITES\"**: Number of Sites\n",
    "- **\"LAT\"**: LATTICE"
   ]
  },
  {
   "cell_type": "code",
   "execution_count": null,
   "metadata": {
    "id": "NWYQp88JGuQX"
   },
   "outputs": [],
   "source": [
    "headers = []\n",
    "keys = [\"ID\", \"NAME\", \"TAGS\", \"NS\", \"LAT-A\", \"LAT-B\", \"LAT-C\", \"LAT-ALPHA\", \"LAT-BETA\", \"LAT-GAMMA\"]\n",
    "headers.extend([\"-\".join((\"INI\", key)) for key in keys])\n",
    "headers.extend([\"-\".join((\"FIN\", key)) for key in keys])\n",
    "headers.extend([\"PRESSURE\", \"DIRECT-GAP\", \"INDIRECT-GAP\"])"
   ]
  },
  {
   "cell_type": "markdown",
   "metadata": {
    "id": "7X7ktN5bGuQX"
   },
   "source": [
    "Create and print the final table as Pandas dataFrame."
   ]
  },
  {
   "cell_type": "code",
   "execution_count": null,
   "metadata": {
    "colab": {
     "base_uri": "https://localhost:8080/",
     "height": 287
    },
    "id": "RUnmEZOKGuQX",
    "outputId": "3ab8a262-070e-407f-ced5-f1baf68fc2cf"
   },
   "outputs": [],
   "source": [
    "df = pd.DataFrame(data=table, columns=headers)\n",
    "html = dataframe_to_html(df)\n",
    "html"
   ]
  }
 ],
 "metadata": {
  "colab": {
   "name": "run-simulations-and-extract-properties.ipynb",
   "provenance": []
  },
  "kernelspec": {
   "display_name": "Python 3",
   "language": "python",
   "name": "python3"
  },
  "language_info": {
   "codemirror_mode": {
    "name": "ipython",
    "version": 3
   },
   "file_extension": ".py",
   "mimetype": "text/x-python",
   "name": "python",
   "nbconvert_exporter": "python",
   "pygments_lexer": "ipython3",
   "version": "3.8.12"
  }
 },
 "nbformat": 4,
 "nbformat_minor": 1
}
