{
  "cells": [
    {
      "cell_type": "markdown",
      "source": [
        "<a href=\"https://colab.research.google.com/github/Exabyte-io/api-examples/blob/dev/other/material/import_material_from_jarvis_db_entry.ipynb\" target=\"_parent\">\n",
        "<img alt=\"Open in Google Colab\" src=\"https://user-images.githubusercontent.com/20477508/128780728-491fea90-9b23-495f-a091-11681150db37.jpeg\" width=\"150\" border=\"0\">\n",
        "</a>"
      ],
      "metadata": {
        "collapsed": false,
        "id": "3c567b6400249971"
      },
      "id": "3c567b6400249971"
    },
    {
      "cell_type": "markdown",
      "source": [
        "## Install Packages\n",
        "First, install `express-py` which includes `jarvis-tools` as dependency."
      ],
      "metadata": {
        "collapsed": false,
        "id": "8b00ab6854f2263b"
      },
      "id": "8b00ab6854f2263b"
    },
    {
      "cell_type": "code",
      "execution_count": 4,
      "outputs": [
        {
          "output_type": "stream",
          "name": "stdout",
          "text": [
            "Requirement already satisfied: express-py==2024.1.25.post7 in /usr/local/lib/python3.10/dist-packages (2024.1.25.post7)\n",
            "Requirement already satisfied: munch==2.5.0 in /usr/local/lib/python3.10/dist-packages (from express-py==2024.1.25.post7) (2.5.0)\n",
            "Requirement already satisfied: pymatgen>=2023.8.10 in /usr/local/lib/python3.10/dist-packages (from express-py==2024.1.25.post7) (2023.9.25)\n",
            "Requirement already satisfied: ase>=3.17.0 in /usr/local/lib/python3.10/dist-packages (from express-py==2024.1.25.post7) (3.22.1)\n",
            "Requirement already satisfied: mat3ra-esse>=2024.1.25.post7 in /usr/local/lib/python3.10/dist-packages (from express-py==2024.1.25.post7) (2024.1.31.post0)\n",
            "Requirement already satisfied: rdkit-pypi>=2022.3.5 in /usr/local/lib/python3.10/dist-packages (from express-py==2024.1.25.post7) (2022.9.5)\n",
            "Requirement already satisfied: jarvis-tools>=2023.12.12 in /usr/local/lib/python3.10/dist-packages (from express-py==2024.1.25.post7) (2023.12.12)\n",
            "Requirement already satisfied: numpy==1.23.5 in /usr/local/lib/python3.10/dist-packages (from express-py==2024.1.25.post7) (1.23.5)\n",
            "Requirement already satisfied: six in /usr/local/lib/python3.10/dist-packages (from munch==2.5.0->express-py==2024.1.25.post7) (1.16.0)\n",
            "Requirement already satisfied: matplotlib>=3.1.0 in /usr/local/lib/python3.10/dist-packages (from ase>=3.17.0->express-py==2024.1.25.post7) (3.7.1)\n",
            "Requirement already satisfied: scipy>=1.1.0 in /usr/local/lib/python3.10/dist-packages (from ase>=3.17.0->express-py==2024.1.25.post7) (1.11.4)\n",
            "Requirement already satisfied: spglib>=1.14.1 in /usr/local/lib/python3.10/dist-packages (from jarvis-tools>=2023.12.12->express-py==2024.1.25.post7) (2.3.0)\n",
            "Requirement already satisfied: joblib>=0.14.1 in /usr/local/lib/python3.10/dist-packages (from jarvis-tools>=2023.12.12->express-py==2024.1.25.post7) (1.3.2)\n",
            "Requirement already satisfied: requests>=2.23.0 in /usr/local/lib/python3.10/dist-packages (from jarvis-tools>=2023.12.12->express-py==2024.1.25.post7) (2.31.0)\n",
            "Requirement already satisfied: toolz>=0.9.0 in /usr/local/lib/python3.10/dist-packages (from jarvis-tools>=2023.12.12->express-py==2024.1.25.post7) (0.12.1)\n",
            "Requirement already satisfied: xmltodict>=0.11.0 in /usr/local/lib/python3.10/dist-packages (from jarvis-tools>=2023.12.12->express-py==2024.1.25.post7) (0.13.0)\n",
            "Requirement already satisfied: tqdm>=4.41.1 in /usr/local/lib/python3.10/dist-packages (from jarvis-tools>=2023.12.12->express-py==2024.1.25.post7) (4.66.1)\n",
            "Requirement already satisfied: mkdocs-material>=9.0.5 in /usr/local/lib/python3.10/dist-packages (from jarvis-tools>=2023.12.12->express-py==2024.1.25.post7) (9.5.6)\n",
            "Requirement already satisfied: markdown>=3.2.1 in /usr/local/lib/python3.10/dist-packages (from jarvis-tools>=2023.12.12->express-py==2024.1.25.post7) (3.5.2)\n",
            "Requirement already satisfied: exabyte-json-include>=2023.12.23.post0 in /usr/local/lib/python3.10/dist-packages (from mat3ra-esse>=2024.1.25.post7->express-py==2024.1.25.post7) (2023.12.23.post0)\n",
            "Requirement already satisfied: jsonschema>=2.6.0 in /usr/local/lib/python3.10/dist-packages (from mat3ra-esse>=2024.1.25.post7->express-py==2024.1.25.post7) (4.19.2)\n",
            "Requirement already satisfied: monty>=3.0.2 in /usr/local/lib/python3.10/dist-packages (from pymatgen>=2023.8.10->express-py==2024.1.25.post7) (2024.1.26)\n",
            "Requirement already satisfied: networkx>=2.2 in /usr/local/lib/python3.10/dist-packages (from pymatgen>=2023.8.10->express-py==2024.1.25.post7) (3.2.1)\n",
            "Requirement already satisfied: palettable>=3.1.1 in /usr/local/lib/python3.10/dist-packages (from pymatgen>=2023.8.10->express-py==2024.1.25.post7) (3.3.3)\n",
            "Requirement already satisfied: pandas in /usr/local/lib/python3.10/dist-packages (from pymatgen>=2023.8.10->express-py==2024.1.25.post7) (1.5.3)\n",
            "Requirement already satisfied: plotly>=4.5.0 in /usr/local/lib/python3.10/dist-packages (from pymatgen>=2023.8.10->express-py==2024.1.25.post7) (5.15.0)\n",
            "Requirement already satisfied: pybtex in /usr/local/lib/python3.10/dist-packages (from pymatgen>=2023.8.10->express-py==2024.1.25.post7) (0.24.0)\n",
            "Requirement already satisfied: ruamel.yaml>=0.17.0 in /usr/local/lib/python3.10/dist-packages (from pymatgen>=2023.8.10->express-py==2024.1.25.post7) (0.18.5)\n",
            "Requirement already satisfied: sympy in /usr/local/lib/python3.10/dist-packages (from pymatgen>=2023.8.10->express-py==2024.1.25.post7) (1.12)\n",
            "Requirement already satisfied: tabulate in /usr/local/lib/python3.10/dist-packages (from pymatgen>=2023.8.10->express-py==2024.1.25.post7) (0.9.0)\n",
            "Requirement already satisfied: uncertainties>=3.1.4 in /usr/local/lib/python3.10/dist-packages (from pymatgen>=2023.8.10->express-py==2024.1.25.post7) (3.1.7)\n",
            "Requirement already satisfied: Pillow in /usr/local/lib/python3.10/dist-packages (from rdkit-pypi>=2022.3.5->express-py==2024.1.25.post7) (9.4.0)\n",
            "Requirement already satisfied: attrs>=22.2.0 in /usr/local/lib/python3.10/dist-packages (from jsonschema>=2.6.0->mat3ra-esse>=2024.1.25.post7->express-py==2024.1.25.post7) (23.2.0)\n",
            "Requirement already satisfied: jsonschema-specifications>=2023.03.6 in /usr/local/lib/python3.10/dist-packages (from jsonschema>=2.6.0->mat3ra-esse>=2024.1.25.post7->express-py==2024.1.25.post7) (2023.12.1)\n",
            "Requirement already satisfied: referencing>=0.28.4 in /usr/local/lib/python3.10/dist-packages (from jsonschema>=2.6.0->mat3ra-esse>=2024.1.25.post7->express-py==2024.1.25.post7) (0.33.0)\n",
            "Requirement already satisfied: rpds-py>=0.7.1 in /usr/local/lib/python3.10/dist-packages (from jsonschema>=2.6.0->mat3ra-esse>=2024.1.25.post7->express-py==2024.1.25.post7) (0.17.1)\n",
            "Requirement already satisfied: contourpy>=1.0.1 in /usr/local/lib/python3.10/dist-packages (from matplotlib>=3.1.0->ase>=3.17.0->express-py==2024.1.25.post7) (1.2.0)\n",
            "Requirement already satisfied: cycler>=0.10 in /usr/local/lib/python3.10/dist-packages (from matplotlib>=3.1.0->ase>=3.17.0->express-py==2024.1.25.post7) (0.12.1)\n",
            "Requirement already satisfied: fonttools>=4.22.0 in /usr/local/lib/python3.10/dist-packages (from matplotlib>=3.1.0->ase>=3.17.0->express-py==2024.1.25.post7) (4.47.2)\n",
            "Requirement already satisfied: kiwisolver>=1.0.1 in /usr/local/lib/python3.10/dist-packages (from matplotlib>=3.1.0->ase>=3.17.0->express-py==2024.1.25.post7) (1.4.5)\n",
            "Requirement already satisfied: packaging>=20.0 in /usr/local/lib/python3.10/dist-packages (from matplotlib>=3.1.0->ase>=3.17.0->express-py==2024.1.25.post7) (23.2)\n",
            "Requirement already satisfied: pyparsing>=2.3.1 in /usr/local/lib/python3.10/dist-packages (from matplotlib>=3.1.0->ase>=3.17.0->express-py==2024.1.25.post7) (3.1.1)\n",
            "Requirement already satisfied: python-dateutil>=2.7 in /usr/local/lib/python3.10/dist-packages (from matplotlib>=3.1.0->ase>=3.17.0->express-py==2024.1.25.post7) (2.8.2)\n",
            "Requirement already satisfied: babel~=2.10 in /usr/local/lib/python3.10/dist-packages (from mkdocs-material>=9.0.5->jarvis-tools>=2023.12.12->express-py==2024.1.25.post7) (2.14.0)\n",
            "Requirement already satisfied: colorama~=0.4 in /usr/local/lib/python3.10/dist-packages (from mkdocs-material>=9.0.5->jarvis-tools>=2023.12.12->express-py==2024.1.25.post7) (0.4.6)\n",
            "Requirement already satisfied: jinja2~=3.0 in /usr/local/lib/python3.10/dist-packages (from mkdocs-material>=9.0.5->jarvis-tools>=2023.12.12->express-py==2024.1.25.post7) (3.1.3)\n",
            "Requirement already satisfied: mkdocs-material-extensions~=1.3 in /usr/local/lib/python3.10/dist-packages (from mkdocs-material>=9.0.5->jarvis-tools>=2023.12.12->express-py==2024.1.25.post7) (1.3.1)\n",
            "Requirement already satisfied: mkdocs~=1.5.3 in /usr/local/lib/python3.10/dist-packages (from mkdocs-material>=9.0.5->jarvis-tools>=2023.12.12->express-py==2024.1.25.post7) (1.5.3)\n",
            "Requirement already satisfied: paginate~=0.5 in /usr/local/lib/python3.10/dist-packages (from mkdocs-material>=9.0.5->jarvis-tools>=2023.12.12->express-py==2024.1.25.post7) (0.5.6)\n",
            "Requirement already satisfied: pygments~=2.16 in /usr/local/lib/python3.10/dist-packages (from mkdocs-material>=9.0.5->jarvis-tools>=2023.12.12->express-py==2024.1.25.post7) (2.16.1)\n",
            "Requirement already satisfied: pymdown-extensions~=10.2 in /usr/local/lib/python3.10/dist-packages (from mkdocs-material>=9.0.5->jarvis-tools>=2023.12.12->express-py==2024.1.25.post7) (10.7)\n",
            "Requirement already satisfied: regex>=2022.4 in /usr/local/lib/python3.10/dist-packages (from mkdocs-material>=9.0.5->jarvis-tools>=2023.12.12->express-py==2024.1.25.post7) (2023.6.3)\n",
            "Requirement already satisfied: tenacity>=6.2.0 in /usr/local/lib/python3.10/dist-packages (from plotly>=4.5.0->pymatgen>=2023.8.10->express-py==2024.1.25.post7) (8.2.3)\n",
            "Requirement already satisfied: charset-normalizer<4,>=2 in /usr/local/lib/python3.10/dist-packages (from requests>=2.23.0->jarvis-tools>=2023.12.12->express-py==2024.1.25.post7) (3.3.2)\n",
            "Requirement already satisfied: idna<4,>=2.5 in /usr/local/lib/python3.10/dist-packages (from requests>=2.23.0->jarvis-tools>=2023.12.12->express-py==2024.1.25.post7) (3.6)\n",
            "Requirement already satisfied: urllib3<3,>=1.21.1 in /usr/local/lib/python3.10/dist-packages (from requests>=2.23.0->jarvis-tools>=2023.12.12->express-py==2024.1.25.post7) (2.0.7)\n",
            "Requirement already satisfied: certifi>=2017.4.17 in /usr/local/lib/python3.10/dist-packages (from requests>=2.23.0->jarvis-tools>=2023.12.12->express-py==2024.1.25.post7) (2023.11.17)\n",
            "Requirement already satisfied: ruamel.yaml.clib>=0.2.7 in /usr/local/lib/python3.10/dist-packages (from ruamel.yaml>=0.17.0->pymatgen>=2023.8.10->express-py==2024.1.25.post7) (0.2.8)\n",
            "Requirement already satisfied: future in /usr/local/lib/python3.10/dist-packages (from uncertainties>=3.1.4->pymatgen>=2023.8.10->express-py==2024.1.25.post7) (0.18.3)\n",
            "Requirement already satisfied: pytz>=2020.1 in /usr/local/lib/python3.10/dist-packages (from pandas->pymatgen>=2023.8.10->express-py==2024.1.25.post7) (2023.4)\n",
            "Requirement already satisfied: PyYAML>=3.01 in /usr/local/lib/python3.10/dist-packages (from pybtex->pymatgen>=2023.8.10->express-py==2024.1.25.post7) (6.0.1)\n",
            "Requirement already satisfied: latexcodec>=1.0.4 in /usr/local/lib/python3.10/dist-packages (from pybtex->pymatgen>=2023.8.10->express-py==2024.1.25.post7) (2.0.1)\n",
            "Requirement already satisfied: mpmath>=0.19 in /usr/local/lib/python3.10/dist-packages (from sympy->pymatgen>=2023.8.10->express-py==2024.1.25.post7) (1.3.0)\n",
            "Requirement already satisfied: MarkupSafe>=2.0 in /usr/local/lib/python3.10/dist-packages (from jinja2~=3.0->mkdocs-material>=9.0.5->jarvis-tools>=2023.12.12->express-py==2024.1.25.post7) (2.1.4)\n",
            "Requirement already satisfied: click>=7.0 in /usr/local/lib/python3.10/dist-packages (from mkdocs~=1.5.3->mkdocs-material>=9.0.5->jarvis-tools>=2023.12.12->express-py==2024.1.25.post7) (8.1.7)\n",
            "Requirement already satisfied: ghp-import>=1.0 in /usr/local/lib/python3.10/dist-packages (from mkdocs~=1.5.3->mkdocs-material>=9.0.5->jarvis-tools>=2023.12.12->express-py==2024.1.25.post7) (2.1.0)\n",
            "Requirement already satisfied: mergedeep>=1.3.4 in /usr/local/lib/python3.10/dist-packages (from mkdocs~=1.5.3->mkdocs-material>=9.0.5->jarvis-tools>=2023.12.12->express-py==2024.1.25.post7) (1.3.4)\n",
            "Requirement already satisfied: pathspec>=0.11.1 in /usr/local/lib/python3.10/dist-packages (from mkdocs~=1.5.3->mkdocs-material>=9.0.5->jarvis-tools>=2023.12.12->express-py==2024.1.25.post7) (0.12.1)\n",
            "Requirement already satisfied: platformdirs>=2.2.0 in /usr/local/lib/python3.10/dist-packages (from mkdocs~=1.5.3->mkdocs-material>=9.0.5->jarvis-tools>=2023.12.12->express-py==2024.1.25.post7) (4.1.0)\n",
            "Requirement already satisfied: pyyaml-env-tag>=0.1 in /usr/local/lib/python3.10/dist-packages (from mkdocs~=1.5.3->mkdocs-material>=9.0.5->jarvis-tools>=2023.12.12->express-py==2024.1.25.post7) (0.1)\n",
            "Requirement already satisfied: watchdog>=2.0 in /usr/local/lib/python3.10/dist-packages (from mkdocs~=1.5.3->mkdocs-material>=9.0.5->jarvis-tools>=2023.12.12->express-py==2024.1.25.post7) (3.0.0)\n"
          ]
        }
      ],
      "source": [
        "!pip install express-py==2024.1.25.post7\n"
      ],
      "metadata": {
        "colab": {
          "base_uri": "https://localhost:8080/"
        },
        "id": "b1288bc79ee2c828",
        "outputId": "65f99dbc-c663-4a34-cb23-aefdfbb5ab42"
      },
      "id": "b1288bc79ee2c828"
    },
    {
      "cell_type": "markdown",
      "source": [
        "## Get Materials Data From JARVIS\n",
        "Then, let's get the dataset containing 2D materials from JARVIS and wrap it into a pandas dataframe."
      ],
      "metadata": {
        "collapsed": false,
        "id": "f418c51a7f794f9f"
      },
      "id": "f418c51a7f794f9f"
    },
    {
      "cell_type": "code",
      "execution_count": 5,
      "outputs": [
        {
          "output_type": "stream",
          "name": "stdout",
          "text": [
            "Obtaining 2D dataset 1.1k ...\n",
            "Reference:https://www.nature.com/articles/s41524-020-00440-1\n",
            "Other versions:https://doi.org/10.6084/m9.figshare.6815705\n",
            "Loading the zipfile...\n",
            "Loading completed.\n"
          ]
        }
      ],
      "source": [
        "import pandas as pd\n",
        "from jarvis.db.figshare import data, get_jid_data\n",
        "\n",
        "dft_2d=data('dft_2d')\n",
        "df = pd.DataFrame(dft_2d)"
      ],
      "metadata": {
        "colab": {
          "base_uri": "https://localhost:8080/"
        },
        "id": "b1ee775d1476f884",
        "outputId": "37e962cb-7438-4066-dc9e-6b033173397c"
      },
      "id": "b1ee775d1476f884"
    },
    {
      "cell_type": "markdown",
      "source": [
        "## Extract Structure and Convert to ESSE\n",
        "Next, we extract an entry from the JARVIS dataset and convert it into ESSE format ready to be uploaded to Mat3ra.com."
      ],
      "metadata": {
        "collapsed": false,
        "id": "15fe5f9de299c935"
      },
      "id": "15fe5f9de299c935"
    },
    {
      "cell_type": "code",
      "execution_count": 6,
      "outputs": [
        {
          "output_type": "stream",
          "name": "stdout",
          "text": [
            "{\n",
            "    \"_id\": \"\",\n",
            "    \"name\": \"material\",\n",
            "    \"exabyteId\": \"\",\n",
            "    \"hash\": \"\",\n",
            "    \"formula\": \"Te2Mo\",\n",
            "    \"unitCellFormula\": \"Te2 Mo1\",\n",
            "    \"lattice\": {\n",
            "        \"type\": \"HEX\",\n",
            "        \"a\": 3.562364004499092,\n",
            "        \"b\": 3.562364004499092,\n",
            "        \"c\": 35.346645,\n",
            "        \"alpha\": 90.0,\n",
            "        \"beta\": 90.0,\n",
            "        \"gamma\": 120.00001186178349,\n",
            "        \"units\": {\n",
            "            \"length\": \"angstrom\",\n",
            "            \"angle\": \"degree\"\n",
            "        }\n",
            "    },\n",
            "    \"basis\": {\n",
            "        \"units\": \"crystal\",\n",
            "        \"elements\": [\n",
            "            {\n",
            "                \"id\": 1,\n",
            "                \"value\": \"Te\"\n",
            "            },\n",
            "            {\n",
            "                \"id\": 2,\n",
            "                \"value\": \"Te\"\n",
            "            },\n",
            "            {\n",
            "                \"id\": 3,\n",
            "                \"value\": \"Mo\"\n",
            "            }\n",
            "        ],\n",
            "        \"coordinates\": [\n",
            "            {\n",
            "                \"id\": 1,\n",
            "                \"value\": [\n",
            "                    0.6666669999999999,\n",
            "                    0.3333330000000001,\n",
            "                    0.05727934272677686\n",
            "                ]\n",
            "            },\n",
            "            {\n",
            "                \"id\": 2,\n",
            "                \"value\": [\n",
            "                    0.6666669999999999,\n",
            "                    0.3333330000000001,\n",
            "                    0.15980865727548643\n",
            "                ]\n",
            "            },\n",
            "            {\n",
            "                \"id\": 3,\n",
            "                \"value\": [\n",
            "                    0.33333299999999993,\n",
            "                    0.6666670000000001,\n",
            "                    0.10854400000113165\n",
            "                ]\n",
            "            }\n",
            "        ]\n",
            "    },\n",
            "    \"derivedProperties\": [\n",
            "        {\n",
            "            \"name\": \"density\",\n",
            "            \"units\": \"g/cm^3\",\n",
            "            \"value\": 1.5009769971314555\n",
            "        },\n",
            "        {\n",
            "            \"name\": \"elemental_ratio\",\n",
            "            \"value\": 0.6666666666666666,\n",
            "            \"element\": \"Te\"\n",
            "        },\n",
            "        {\n",
            "            \"name\": \"elemental_ratio\",\n",
            "            \"value\": 0.3333333333333333,\n",
            "            \"element\": \"Mo\"\n",
            "        },\n",
            "        {\n",
            "            \"name\": \"p-norm\",\n",
            "            \"value\": 2,\n",
            "            \"degree\": 0\n",
            "        },\n",
            "        {\n",
            "            \"name\": \"p-norm\",\n",
            "            \"value\": 0.7453559924999299,\n",
            "            \"degree\": 2\n",
            "        },\n",
            "        {\n",
            "            \"name\": \"p-norm\",\n",
            "            \"value\": 0.6933612743506347,\n",
            "            \"degree\": 3\n",
            "        },\n",
            "        {\n",
            "            \"name\": \"p-norm\",\n",
            "            \"value\": 0.6707822056951861,\n",
            "            \"degree\": 5\n",
            "        },\n",
            "        {\n",
            "            \"name\": \"p-norm\",\n",
            "            \"value\": 0.667408235036379,\n",
            "            \"degree\": 7\n",
            "        },\n",
            "        {\n",
            "            \"name\": \"p-norm\",\n",
            "            \"value\": 0.6667317422407864,\n",
            "            \"degree\": 10\n",
            "        },\n",
            "        {\n",
            "            \"spaceGroupSymbol\": \"P-6m2\",\n",
            "            \"tolerance\": {\n",
            "                \"value\": 0.3,\n",
            "                \"units\": \"angstrom\"\n",
            "            },\n",
            "            \"name\": \"symmetry\"\n",
            "        },\n",
            "        {\n",
            "            \"name\": \"volume\",\n",
            "            \"units\": \"angstrom^3\",\n",
            "            \"value\": 388.46810374859973\n",
            "        }\n",
            "    ],\n",
            "    \"creator\": {\n",
            "        \"_id\": \"\",\n",
            "        \"cls\": \"User\",\n",
            "        \"slug\": \"\"\n",
            "    },\n",
            "    \"owner\": {\n",
            "        \"_id\": \"\",\n",
            "        \"cls\": \"Account\",\n",
            "        \"slug\": \"\"\n",
            "    },\n",
            "    \"schemaVersion\": \"0.2.0\"\n",
            "}\n"
          ]
        }
      ],
      "source": [
        "import json\n",
        "from express import ExPrESS\n",
        "\n",
        "## Note: JVASP-670 is an entry for MoTe2\n",
        "jarvis_db_entry = json.dumps(json.loads(df[(df['jid']=='JVASP-670')].to_json(orient='records'))[0])\n",
        "\n",
        "kwargs = {\n",
        "    \"structure_string\": jarvis_db_entry,\n",
        "    \"cell_type\": \"original\",\n",
        "    \"structure_format\": \"jarvis-db-entry\"\n",
        "}\n",
        "\n",
        "handler = ExPrESS(\"structure\", **kwargs)\n",
        "data = handler.property(\"material\", **kwargs)\n",
        "\n",
        "# To preview resulting JSON data\n",
        "print(json.dumps(data, indent=4))"
      ],
      "metadata": {
        "colab": {
          "base_uri": "https://localhost:8080/"
        },
        "id": "c41fb68c6d25fe48",
        "outputId": "2e609d57-b063-48cb-de10-c2a6c0a6ce6e"
      },
      "id": "c41fb68c6d25fe48"
    },
    {
      "cell_type": "code",
      "source": [],
      "metadata": {
        "id": "TTfqDI6722cG"
      },
      "id": "TTfqDI6722cG",
      "execution_count": 17,
      "outputs": []
    },
    {
      "cell_type": "code",
      "source": [],
      "metadata": {
        "id": "esZRmwMR22WV"
      },
      "id": "esZRmwMR22WV",
      "execution_count": null,
      "outputs": []
    },
    {
      "cell_type": "code",
      "source": [
        "# @title Authorization Form\n",
        "ACCOUNT_ID = \"\" # @param {type:\"string\"}\n",
        "AUTH_TOKEN = \"\"  # @param {type:\"string\"}\n",
        "MATERIALS_PROJECT_API_KEY = \"MATERIALS_PROJECT_API_KEY\"  # @param {type:\"string\"}\n",
        "ORGANIZATION_ID = \"\"\n",
        "\n",
        "\n",
        "import os\n",
        "\n",
        "if \"COLAB_JUPYTER_IP\" in os.environ:\n",
        "    os.environ.update(\n",
        "        dict(\n",
        "            ACCOUNT_ID=ACCOUNT_ID,\n",
        "            AUTH_TOKEN=AUTH_TOKEN,\n",
        "            MATERIALS_PROJECT_API_KEY=MATERIALS_PROJECT_API_KEY,\n",
        "            ORGANIZATION_ID=ORGANIZATION_ID,\n",
        "        )\n",
        "    )\n",
        "\n",
        "    !GIT_BRANCH=\"dev\"; export GIT_BRANCH; curl -s \"https://raw.githubusercontent.com/Exabyte-io/api-examples/${GIT_BRANCH}/scripts/env.sh\" | bash\n"
      ],
      "metadata": {
        "colab": {
          "base_uri": "https://localhost:8080/"
        },
        "id": "Lf8xXwCW1grk",
        "outputId": "af553eb9-4681-4059-f177-4ad23ef218c3"
      },
      "id": "Lf8xXwCW1grk",
      "execution_count": 7,
      "outputs": [
        {
          "output_type": "stream",
          "name": "stdout",
          "text": [
            "Traceback (most recent call last):\n",
            "  File \"/usr/local/bin/notebook-path\", line 8, in <module>\n",
            "    sys.exit(print_notebook_path())\n",
            "  File \"/usr/local/lib/python3.10/dist-packages/utils/notebook.py\", line 46, in print_notebook_path\n",
            "    print(get_notebook_info()[\"notebook_path\"])\n",
            "  File \"/usr/local/lib/python3.10/dist-packages/utils/notebook.py\", line 22, in get_notebook_info\n",
            "    parsed = re.findall(\"(.*)/blob/(.*)/examples/(.*)\", path)[0]\n",
            "IndexError: list index out of range\n"
          ]
        }
      ]
    },
    {
      "cell_type": "code",
      "source": [
        "from utils.settings import ENDPOINT_ARGS, ACCOUNT_ID\n",
        "from utils.generic import wait_for_jobs_to_finish, get_property_by_subworkflow_and_unit_indicies, dataframe_to_html, display_JSON\n",
        "\n",
        "import pandas as pd\n",
        "\n",
        "# Relevant functions from the API client\n",
        "from exabyte_api_client.endpoints.jobs import JobEndpoints\n",
        "from exabyte_api_client.endpoints.projects import ProjectEndpoints\n",
        "from exabyte_api_client.endpoints.materials import MaterialEndpoints\n",
        "from exabyte_api_client.endpoints.bank_workflows import BankWorkflowEndpoints\n",
        "from exabyte_api_client.endpoints.properties import PropertiesEndpoints\n",
        "from exabyte_api_client.endpoints.workflows import WorkflowEndpoints\n",
        "\n",
        "job_endpoints = JobEndpoints(*ENDPOINT_ARGS)\n",
        "project_endpoints = ProjectEndpoints(*ENDPOINT_ARGS)\n",
        "material_endpoints = MaterialEndpoints(*ENDPOINT_ARGS)\n",
        "property_endpoints = PropertiesEndpoints(*ENDPOINT_ARGS)\n",
        "bank_workflow_endpoints = BankWorkflowEndpoints(*ENDPOINT_ARGS)\n",
        "workflow_endpoints = WorkflowEndpoints(*ENDPOINT_ARGS)"
      ],
      "metadata": {
        "id": "DhrPOrsC1oUU"
      },
      "id": "DhrPOrsC1oUU",
      "execution_count": 10,
      "outputs": []
    },
    {
      "cell_type": "code",
      "source": [
        "default_material = material_endpoints.list({\"isDefault\": True, \"owner._id\": ACCOUNT_ID})[0]\n",
        "default_workflow = workflow_endpoints.list({\"isDefault\": True, \"owner._id\": ACCOUNT_ID})[0]\n",
        "\n",
        "material_id = default_material[\"_id\"]\n",
        "workflow_id = default_workflow[\"_id\"]\n",
        "owner_id = default_material[\"owner\"][\"_id\"]\n",
        "\n",
        "\n",
        "material = material_endpoints.create(data)\n"
      ],
      "metadata": {
        "id": "pj4JYE-P1qHq"
      },
      "id": "pj4JYE-P1qHq",
      "execution_count": 18,
      "outputs": []
    },
    {
      "cell_type": "code",
      "source": [
        "material[\"lattice\"]"
      ],
      "metadata": {
        "colab": {
          "base_uri": "https://localhost:8080/"
        },
        "id": "7E2RA-9i3I78",
        "outputId": "fcc99176-d2a1-4bdc-b2ef-5939451518d1"
      },
      "id": "7E2RA-9i3I78",
      "execution_count": 22,
      "outputs": [
        {
          "output_type": "execute_result",
          "data": {
            "text/plain": [
              "{'a': 3.562364,\n",
              " 'b': 3.562364,\n",
              " 'c': 35.34665,\n",
              " 'alpha': 90,\n",
              " 'beta': 90,\n",
              " 'gamma': 120,\n",
              " 'units': {'length': 'angstrom', 'angle': 'degree'},\n",
              " 'type': 'HEX',\n",
              " 'vectors': {'a': [3.562364, 0, 0],\n",
              "  'b': [-1.781182, 3.085098, 0],\n",
              "  'c': [0, 0, 35.34665],\n",
              "  'alat': 1,\n",
              "  'units': 'angstrom'}}"
            ]
          },
          "metadata": {},
          "execution_count": 22
        }
      ]
    },
    {
      "cell_type": "code",
      "source": [
        "config = {\n",
        "    \"owner\": {\"_id\": owner_id},\n",
        "    \"_material\": {\"_id\": material[\"_id\"]},\n",
        "    \"workflow\": {\"_id\": workflow_id},\n",
        "    \"name\": \"MoTe2 Job\",\n",
        "}\n"
      ],
      "metadata": {
        "id": "ya-lbfsa1qDn"
      },
      "id": "ya-lbfsa1qDn",
      "execution_count": 23,
      "outputs": []
    },
    {
      "cell_type": "code",
      "source": [
        "job = job_endpoints.create(config)\n",
        "job_endpoints.submit(job[\"_id\"])\n"
      ],
      "metadata": {
        "id": "r4kJ54UP1p_2"
      },
      "id": "r4kJ54UP1p_2",
      "execution_count": 24,
      "outputs": []
    },
    {
      "cell_type": "code",
      "source": [
        "from utils.generic import wait_for_jobs_to_finish, get_property_by_subworkflow_and_unit_indicies\n",
        "job_id = job[\"_id\"]\n",
        "wait_for_jobs_to_finish(job_endpoints, [job_id])\n"
      ],
      "metadata": {
        "colab": {
          "base_uri": "https://localhost:8080/"
        },
        "id": "Pnlg7wto1p72",
        "outputId": "92b75754-ad96-48c1-eec4-efc73fbda997"
      },
      "id": "Pnlg7wto1p72",
      "execution_count": null,
      "outputs": [
        {
          "output_type": "stream",
          "name": "stdout",
          "text": [
            "Wait for jobs to finish, poll interval: 10 sec\n",
            "+---------------------+------------------+---------------+-----------------+----------------+\n",
            "|        TIME         |   SUBMITTED-JOBS |   ACTIVE-JOBS |   FINISHED-JOBS |   ERRORED-JOBS |\n",
            "+=====================+==================+===============+=================+================+\n",
            "| 2024-02-02-17:29:10 |                1 |             0 |               0 |              0 |\n",
            "+---------------------+------------------+---------------+-----------------+----------------+\n",
            "+---------------------+------------------+---------------+-----------------+----------------+\n",
            "|        TIME         |   SUBMITTED-JOBS |   ACTIVE-JOBS |   FINISHED-JOBS |   ERRORED-JOBS |\n",
            "+=====================+==================+===============+=================+================+\n",
            "| 2024-02-02-17:29:20 |                1 |             0 |               0 |              0 |\n",
            "+---------------------+------------------+---------------+-----------------+----------------+\n",
            "+---------------------+------------------+---------------+-----------------+----------------+\n",
            "|        TIME         |   SUBMITTED-JOBS |   ACTIVE-JOBS |   FINISHED-JOBS |   ERRORED-JOBS |\n",
            "+=====================+==================+===============+=================+================+\n",
            "| 2024-02-02-17:29:31 |                0 |             1 |               0 |              0 |\n",
            "+---------------------+------------------+---------------+-----------------+----------------+\n",
            "+---------------------+------------------+---------------+-----------------+----------------+\n",
            "|        TIME         |   SUBMITTED-JOBS |   ACTIVE-JOBS |   FINISHED-JOBS |   ERRORED-JOBS |\n",
            "+=====================+==================+===============+=================+================+\n",
            "| 2024-02-02-17:29:41 |                0 |             1 |               0 |              0 |\n",
            "+---------------------+------------------+---------------+-----------------+----------------+\n",
            "+---------------------+------------------+---------------+-----------------+----------------+\n",
            "|        TIME         |   SUBMITTED-JOBS |   ACTIVE-JOBS |   FINISHED-JOBS |   ERRORED-JOBS |\n",
            "+=====================+==================+===============+=================+================+\n",
            "| 2024-02-02-17:29:51 |                0 |             1 |               0 |              0 |\n",
            "+---------------------+------------------+---------------+-----------------+----------------+\n",
            "+---------------------+------------------+---------------+-----------------+----------------+\n",
            "|        TIME         |   SUBMITTED-JOBS |   ACTIVE-JOBS |   FINISHED-JOBS |   ERRORED-JOBS |\n",
            "+=====================+==================+===============+=================+================+\n",
            "| 2024-02-02-17:30:01 |                0 |             1 |               0 |              0 |\n",
            "+---------------------+------------------+---------------+-----------------+----------------+\n",
            "+---------------------+------------------+---------------+-----------------+----------------+\n",
            "|        TIME         |   SUBMITTED-JOBS |   ACTIVE-JOBS |   FINISHED-JOBS |   ERRORED-JOBS |\n",
            "+=====================+==================+===============+=================+================+\n",
            "| 2024-02-02-17:30:11 |                0 |             1 |               0 |              0 |\n",
            "+---------------------+------------------+---------------+-----------------+----------------+\n",
            "+---------------------+------------------+---------------+-----------------+----------------+\n",
            "|        TIME         |   SUBMITTED-JOBS |   ACTIVE-JOBS |   FINISHED-JOBS |   ERRORED-JOBS |\n",
            "+=====================+==================+===============+=================+================+\n",
            "| 2024-02-02-17:30:22 |                0 |             1 |               0 |              0 |\n",
            "+---------------------+------------------+---------------+-----------------+----------------+\n",
            "+---------------------+------------------+---------------+-----------------+----------------+\n",
            "|        TIME         |   SUBMITTED-JOBS |   ACTIVE-JOBS |   FINISHED-JOBS |   ERRORED-JOBS |\n",
            "+=====================+==================+===============+=================+================+\n",
            "| 2024-02-02-17:30:32 |                0 |             1 |               0 |              0 |\n",
            "+---------------------+------------------+---------------+-----------------+----------------+\n",
            "+---------------------+------------------+---------------+-----------------+----------------+\n",
            "|        TIME         |   SUBMITTED-JOBS |   ACTIVE-JOBS |   FINISHED-JOBS |   ERRORED-JOBS |\n",
            "+=====================+==================+===============+=================+================+\n",
            "| 2024-02-02-17:30:42 |                0 |             1 |               0 |              0 |\n",
            "+---------------------+------------------+---------------+-----------------+----------------+\n",
            "+---------------------+------------------+---------------+-----------------+----------------+\n",
            "|        TIME         |   SUBMITTED-JOBS |   ACTIVE-JOBS |   FINISHED-JOBS |   ERRORED-JOBS |\n",
            "+=====================+==================+===============+=================+================+\n",
            "| 2024-02-02-17:30:52 |                0 |             1 |               0 |              0 |\n",
            "+---------------------+------------------+---------------+-----------------+----------------+\n",
            "+---------------------+------------------+---------------+-----------------+----------------+\n",
            "|        TIME         |   SUBMITTED-JOBS |   ACTIVE-JOBS |   FINISHED-JOBS |   ERRORED-JOBS |\n",
            "+=====================+==================+===============+=================+================+\n",
            "| 2024-02-02-17:31:02 |                0 |             1 |               0 |              0 |\n",
            "+---------------------+------------------+---------------+-----------------+----------------+\n",
            "+---------------------+------------------+---------------+-----------------+----------------+\n",
            "|        TIME         |   SUBMITTED-JOBS |   ACTIVE-JOBS |   FINISHED-JOBS |   ERRORED-JOBS |\n",
            "+=====================+==================+===============+=================+================+\n",
            "| 2024-02-02-17:31:12 |                0 |             1 |               0 |              0 |\n",
            "+---------------------+------------------+---------------+-----------------+----------------+\n",
            "+---------------------+------------------+---------------+-----------------+----------------+\n",
            "|        TIME         |   SUBMITTED-JOBS |   ACTIVE-JOBS |   FINISHED-JOBS |   ERRORED-JOBS |\n",
            "+=====================+==================+===============+=================+================+\n",
            "| 2024-02-02-17:31:23 |                0 |             1 |               0 |              0 |\n",
            "+---------------------+------------------+---------------+-----------------+----------------+\n",
            "+---------------------+------------------+---------------+-----------------+----------------+\n",
            "|        TIME         |   SUBMITTED-JOBS |   ACTIVE-JOBS |   FINISHED-JOBS |   ERRORED-JOBS |\n",
            "+=====================+==================+===============+=================+================+\n",
            "| 2024-02-02-17:31:33 |                0 |             1 |               0 |              0 |\n",
            "+---------------------+------------------+---------------+-----------------+----------------+\n",
            "+---------------------+------------------+---------------+-----------------+----------------+\n",
            "|        TIME         |   SUBMITTED-JOBS |   ACTIVE-JOBS |   FINISHED-JOBS |   ERRORED-JOBS |\n",
            "+=====================+==================+===============+=================+================+\n",
            "| 2024-02-02-17:31:43 |                0 |             1 |               0 |              0 |\n",
            "+---------------------+------------------+---------------+-----------------+----------------+\n",
            "+---------------------+------------------+---------------+-----------------+----------------+\n",
            "|        TIME         |   SUBMITTED-JOBS |   ACTIVE-JOBS |   FINISHED-JOBS |   ERRORED-JOBS |\n",
            "+=====================+==================+===============+=================+================+\n",
            "| 2024-02-02-17:31:53 |                0 |             1 |               0 |              0 |\n",
            "+---------------------+------------------+---------------+-----------------+----------------+\n",
            "+---------------------+------------------+---------------+-----------------+----------------+\n",
            "|        TIME         |   SUBMITTED-JOBS |   ACTIVE-JOBS |   FINISHED-JOBS |   ERRORED-JOBS |\n",
            "+=====================+==================+===============+=================+================+\n",
            "| 2024-02-02-17:32:03 |                0 |             1 |               0 |              0 |\n",
            "+---------------------+------------------+---------------+-----------------+----------------+\n",
            "+---------------------+------------------+---------------+-----------------+----------------+\n",
            "|        TIME         |   SUBMITTED-JOBS |   ACTIVE-JOBS |   FINISHED-JOBS |   ERRORED-JOBS |\n",
            "+=====================+==================+===============+=================+================+\n",
            "| 2024-02-02-17:32:13 |                0 |             1 |               0 |              0 |\n",
            "+---------------------+------------------+---------------+-----------------+----------------+\n",
            "+---------------------+------------------+---------------+-----------------+----------------+\n",
            "|        TIME         |   SUBMITTED-JOBS |   ACTIVE-JOBS |   FINISHED-JOBS |   ERRORED-JOBS |\n",
            "+=====================+==================+===============+=================+================+\n",
            "| 2024-02-02-17:32:24 |                0 |             1 |               0 |              0 |\n",
            "+---------------------+------------------+---------------+-----------------+----------------+\n",
            "+---------------------+------------------+---------------+-----------------+----------------+\n",
            "|        TIME         |   SUBMITTED-JOBS |   ACTIVE-JOBS |   FINISHED-JOBS |   ERRORED-JOBS |\n",
            "+=====================+==================+===============+=================+================+\n",
            "| 2024-02-02-17:32:34 |                0 |             1 |               0 |              0 |\n",
            "+---------------------+------------------+---------------+-----------------+----------------+\n",
            "+---------------------+------------------+---------------+-----------------+----------------+\n",
            "|        TIME         |   SUBMITTED-JOBS |   ACTIVE-JOBS |   FINISHED-JOBS |   ERRORED-JOBS |\n",
            "+=====================+==================+===============+=================+================+\n",
            "| 2024-02-02-17:32:44 |                0 |             1 |               0 |              0 |\n",
            "+---------------------+------------------+---------------+-----------------+----------------+\n",
            "+---------------------+------------------+---------------+-----------------+----------------+\n",
            "|        TIME         |   SUBMITTED-JOBS |   ACTIVE-JOBS |   FINISHED-JOBS |   ERRORED-JOBS |\n",
            "+=====================+==================+===============+=================+================+\n",
            "| 2024-02-02-17:32:54 |                0 |             1 |               0 |              0 |\n",
            "+---------------------+------------------+---------------+-----------------+----------------+\n",
            "+---------------------+------------------+---------------+-----------------+----------------+\n",
            "|        TIME         |   SUBMITTED-JOBS |   ACTIVE-JOBS |   FINISHED-JOBS |   ERRORED-JOBS |\n",
            "+=====================+==================+===============+=================+================+\n",
            "| 2024-02-02-17:33:04 |                0 |             1 |               0 |              0 |\n",
            "+---------------------+------------------+---------------+-----------------+----------------+\n",
            "+---------------------+------------------+---------------+-----------------+----------------+\n",
            "|        TIME         |   SUBMITTED-JOBS |   ACTIVE-JOBS |   FINISHED-JOBS |   ERRORED-JOBS |\n",
            "+=====================+==================+===============+=================+================+\n",
            "| 2024-02-02-17:33:15 |                0 |             1 |               0 |              0 |\n",
            "+---------------------+------------------+---------------+-----------------+----------------+\n",
            "+---------------------+------------------+---------------+-----------------+----------------+\n",
            "|        TIME         |   SUBMITTED-JOBS |   ACTIVE-JOBS |   FINISHED-JOBS |   ERRORED-JOBS |\n",
            "+=====================+==================+===============+=================+================+\n",
            "| 2024-02-02-17:33:25 |                0 |             1 |               0 |              0 |\n",
            "+---------------------+------------------+---------------+-----------------+----------------+\n",
            "+---------------------+------------------+---------------+-----------------+----------------+\n",
            "|        TIME         |   SUBMITTED-JOBS |   ACTIVE-JOBS |   FINISHED-JOBS |   ERRORED-JOBS |\n",
            "+=====================+==================+===============+=================+================+\n",
            "| 2024-02-02-17:33:35 |                0 |             1 |               0 |              0 |\n",
            "+---------------------+------------------+---------------+-----------------+----------------+\n",
            "+---------------------+------------------+---------------+-----------------+----------------+\n",
            "|        TIME         |   SUBMITTED-JOBS |   ACTIVE-JOBS |   FINISHED-JOBS |   ERRORED-JOBS |\n",
            "+=====================+==================+===============+=================+================+\n",
            "| 2024-02-02-17:33:46 |                0 |             1 |               0 |              0 |\n",
            "+---------------------+------------------+---------------+-----------------+----------------+\n",
            "+---------------------+------------------+---------------+-----------------+----------------+\n",
            "|        TIME         |   SUBMITTED-JOBS |   ACTIVE-JOBS |   FINISHED-JOBS |   ERRORED-JOBS |\n",
            "+=====================+==================+===============+=================+================+\n",
            "| 2024-02-02-17:33:56 |                0 |             1 |               0 |              0 |\n",
            "+---------------------+------------------+---------------+-----------------+----------------+\n",
            "+---------------------+------------------+---------------+-----------------+----------------+\n",
            "|        TIME         |   SUBMITTED-JOBS |   ACTIVE-JOBS |   FINISHED-JOBS |   ERRORED-JOBS |\n",
            "+=====================+==================+===============+=================+================+\n",
            "| 2024-02-02-17:34:06 |                0 |             1 |               0 |              0 |\n",
            "+---------------------+------------------+---------------+-----------------+----------------+\n",
            "+---------------------+------------------+---------------+-----------------+----------------+\n",
            "|        TIME         |   SUBMITTED-JOBS |   ACTIVE-JOBS |   FINISHED-JOBS |   ERRORED-JOBS |\n",
            "+=====================+==================+===============+=================+================+\n",
            "| 2024-02-02-17:34:16 |                0 |             1 |               0 |              0 |\n",
            "+---------------------+------------------+---------------+-----------------+----------------+\n",
            "+---------------------+------------------+---------------+-----------------+----------------+\n",
            "|        TIME         |   SUBMITTED-JOBS |   ACTIVE-JOBS |   FINISHED-JOBS |   ERRORED-JOBS |\n",
            "+=====================+==================+===============+=================+================+\n",
            "| 2024-02-02-17:34:26 |                0 |             1 |               0 |              0 |\n",
            "+---------------------+------------------+---------------+-----------------+----------------+\n",
            "+---------------------+------------------+---------------+-----------------+----------------+\n",
            "|        TIME         |   SUBMITTED-JOBS |   ACTIVE-JOBS |   FINISHED-JOBS |   ERRORED-JOBS |\n",
            "+=====================+==================+===============+=================+================+\n",
            "| 2024-02-02-17:34:37 |                0 |             1 |               0 |              0 |\n",
            "+---------------------+------------------+---------------+-----------------+----------------+\n",
            "+---------------------+------------------+---------------+-----------------+----------------+\n",
            "|        TIME         |   SUBMITTED-JOBS |   ACTIVE-JOBS |   FINISHED-JOBS |   ERRORED-JOBS |\n",
            "+=====================+==================+===============+=================+================+\n",
            "| 2024-02-02-17:34:47 |                0 |             1 |               0 |              0 |\n",
            "+---------------------+------------------+---------------+-----------------+----------------+\n",
            "+---------------------+------------------+---------------+-----------------+----------------+\n",
            "|        TIME         |   SUBMITTED-JOBS |   ACTIVE-JOBS |   FINISHED-JOBS |   ERRORED-JOBS |\n",
            "+=====================+==================+===============+=================+================+\n",
            "| 2024-02-02-17:34:57 |                0 |             1 |               0 |              0 |\n",
            "+---------------------+------------------+---------------+-----------------+----------------+\n",
            "+---------------------+------------------+---------------+-----------------+----------------+\n",
            "|        TIME         |   SUBMITTED-JOBS |   ACTIVE-JOBS |   FINISHED-JOBS |   ERRORED-JOBS |\n",
            "+=====================+==================+===============+=================+================+\n",
            "| 2024-02-02-17:35:07 |                0 |             1 |               0 |              0 |\n",
            "+---------------------+------------------+---------------+-----------------+----------------+\n",
            "+---------------------+------------------+---------------+-----------------+----------------+\n",
            "|        TIME         |   SUBMITTED-JOBS |   ACTIVE-JOBS |   FINISHED-JOBS |   ERRORED-JOBS |\n",
            "+=====================+==================+===============+=================+================+\n",
            "| 2024-02-02-17:35:18 |                0 |             1 |               0 |              0 |\n",
            "+---------------------+------------------+---------------+-----------------+----------------+\n",
            "+---------------------+------------------+---------------+-----------------+----------------+\n",
            "|        TIME         |   SUBMITTED-JOBS |   ACTIVE-JOBS |   FINISHED-JOBS |   ERRORED-JOBS |\n",
            "+=====================+==================+===============+=================+================+\n",
            "| 2024-02-02-17:35:28 |                0 |             1 |               0 |              0 |\n",
            "+---------------------+------------------+---------------+-----------------+----------------+\n",
            "+---------------------+------------------+---------------+-----------------+----------------+\n",
            "|        TIME         |   SUBMITTED-JOBS |   ACTIVE-JOBS |   FINISHED-JOBS |   ERRORED-JOBS |\n",
            "+=====================+==================+===============+=================+================+\n",
            "| 2024-02-02-17:35:38 |                0 |             1 |               0 |              0 |\n",
            "+---------------------+------------------+---------------+-----------------+----------------+\n",
            "+---------------------+------------------+---------------+-----------------+----------------+\n",
            "|        TIME         |   SUBMITTED-JOBS |   ACTIVE-JOBS |   FINISHED-JOBS |   ERRORED-JOBS |\n",
            "+=====================+==================+===============+=================+================+\n",
            "| 2024-02-02-17:35:48 |                0 |             1 |               0 |              0 |\n",
            "+---------------------+------------------+---------------+-----------------+----------------+\n",
            "+---------------------+------------------+---------------+-----------------+----------------+\n",
            "|        TIME         |   SUBMITTED-JOBS |   ACTIVE-JOBS |   FINISHED-JOBS |   ERRORED-JOBS |\n",
            "+=====================+==================+===============+=================+================+\n",
            "| 2024-02-02-17:35:58 |                0 |             1 |               0 |              0 |\n",
            "+---------------------+------------------+---------------+-----------------+----------------+\n"
          ]
        }
      ]
    },
    {
      "cell_type": "code",
      "source": [],
      "metadata": {
        "id": "WcI1O2Av1p3a"
      },
      "id": "WcI1O2Av1p3a",
      "execution_count": null,
      "outputs": []
    },
    {
      "cell_type": "code",
      "source": [],
      "metadata": {
        "id": "5DGDkfqu1pzT"
      },
      "id": "5DGDkfqu1pzT",
      "execution_count": null,
      "outputs": []
    },
    {
      "cell_type": "code",
      "source": [],
      "metadata": {
        "id": "8R73k5DX1pvp"
      },
      "id": "8R73k5DX1pvp",
      "execution_count": null,
      "outputs": []
    },
    {
      "cell_type": "code",
      "source": [],
      "metadata": {
        "id": "sO2L81es1prn"
      },
      "id": "sO2L81es1prn",
      "execution_count": null,
      "outputs": []
    },
    {
      "cell_type": "code",
      "source": [],
      "metadata": {
        "id": "VatcYGKF1pn7"
      },
      "id": "VatcYGKF1pn7",
      "execution_count": null,
      "outputs": []
    },
    {
      "cell_type": "markdown",
      "source": [
        "## Upload to Mat3ra.com\n",
        "Finally, we can upload the material to Mat3ra.com using the REST API: follow the explanation in another example notebook [here](../../examples/material/create_material.ipynb). One can replace the content of the `CONFIG` variable with the JSON data above."
      ],
      "metadata": {
        "collapsed": false,
        "id": "a4a48479c7ea090f"
      },
      "id": "a4a48479c7ea090f"
    }
  ],
  "metadata": {
    "kernelspec": {
      "display_name": "Python 3",
      "language": "python",
      "name": "python3"
    },
    "language_info": {
      "codemirror_mode": {
        "name": "ipython",
        "version": 2
      },
      "file_extension": ".py",
      "mimetype": "text/x-python",
      "name": "python",
      "nbconvert_exporter": "python",
      "pygments_lexer": "ipython2",
      "version": "2.7.6"
    },
    "colab": {
      "provenance": []
    }
  },
  "nbformat": 4,
  "nbformat_minor": 5
}