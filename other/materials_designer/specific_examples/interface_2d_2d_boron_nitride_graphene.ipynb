{
 "cells": [
  {
   "cell_type": "markdown",
   "metadata": {},
   "source": [
    "# Interface between 2D materials: Boron Nitride and Graphene\n",
    "\n",
    "## Introduction\n",
    "\n",
    "This notebook demonstrates the creation of an interface between two 2D materials, Boron Nitride (BN) and Graphene and shifting the film along the y-axis to create multiple (7) stacking configurations.\n",
    "\n",
    "Following the manuscript:\n",
    "> **Jeil Jung, Ashley M. DaSilva, Allan H. MacDonald & Shaffique Adam**\n",
    "> **Origin of the band gap in graphene on hexagonal boron nitride**\n",
    "> Nature Communications volume 6, Article number: 6308 (2015)\n",
    "> [DOI: 10.1038/ncomms7308](https://doi.org/10.1038/ncomms7308)\n",
    "\n",
    "\n",
    "Relicating the materials with profile give in Figure 7. a (top row):\n",
    "\n",
    "<img src='https://github.com/Exabyte-io/documentation/raw/12617167278ae3523adc028583b21ea4e8ebd197/images/tutorials/materials/interfaces/interface_2d_2d_graphene_boron_nitride/0-figure-from-manuscript.webp' width='700'/>\n"
   ]
  },
  {
   "cell_type": "markdown",
   "metadata": {
    "collapsed": false
   },
   "source": [
    "## 1. Prepare the Environment\n",
    "### 1.1. Set up the notebook \n",
    "\n",
    "Set the following flags to control the notebook behavior "
   ]
  },
  {
   "metadata": {},
   "cell_type": "code",
   "source": [
    "FILM_MILLER_INDICES = (0, 0, 1)\n",
    "FILM_THICKNESS = 1  # in atomic layers\n",
    "FILM_TERMINATION_FORMULA = None  # if None, the first termination will be used\n",
    "FILM_VACUUM = 0.0  # in angstroms\n",
    "\n",
    "SUBSTRATE_MILLER_INDICES = (0, 0, 1)\n",
    "SUBSTRATE_THICKNESS = 1  # in atomic layers\n",
    "SUBSTRATE_TERMINATION_FORMULA = None  # if None, the first termination will be used\n",
    "SUBSTRATE_VACUUM = 0.0  # in angstroms\n",
    "\n",
    "INTERFACE_DISTANCE = 3.4  # Gap between substrate and film, in Angstrom\n",
    "INTERFACE_VACUUM = 20.0  # Vacuum over film, in Angstrom\n",
    "\n",
    "# Whether to convert materials to conventional cells before creating slabs.\n",
    "USE_CONVENTIONAL_CELL = True\n",
    "\n",
    "# Maximum area for the superlattice search algorithm (the final interface area will be smaller)\n",
    "MAX_AREA = 350  # in Angstrom^2\n",
    "# Additional fine-tuning parameters (increase values to get more strained matches):\n",
    "MAX_AREA_TOLERANCE = 0.09  # in Angstrom^2\n",
    "MAX_LENGTH_TOLERANCE = 0.05\n",
    "MAX_ANGLE_TOLERANCE = 0.02\n",
    "\n",
    "# Whether to reduce the resulting interface cell to the primitive cell after the interface creation.\n",
    "REDUCE_RESULT_CELL_TO_PRIMITIVE = True"
   ],
   "outputs": [],
   "execution_count": null
  },
  {
   "cell_type": "markdown",
   "metadata": {
    "collapsed": false
   },
   "source": [
    "### 1.2. Install Packages\n",
    "The step executes only in Pyodide environment. For other environments, the packages should be installed via `pip install` (see [README](../../README.ipynb))."
   ]
  },
  {
   "cell_type": "code",
   "metadata": {
    "collapsed": false
   },
   "source": [
    "import sys\n",
    "\n",
    "if sys.platform == \"emscripten\":\n",
    "    import micropip\n",
    "\n",
    "    await micropip.install(\"mat3ra-api-examples\", deps=False)\n",
    "    await micropip.install('mat3ra-utils')\n",
    "    from mat3ra.utils.jupyterlite.packages import install_packages\n",
    "\n",
    "    await install_packages(\"specific_examples|create_interface_with_min_strain_zsl.ipynb\")"
   ],
   "outputs": [],
   "execution_count": null
  },
  {
   "cell_type": "markdown",
   "metadata": {},
   "source": [
    "### 1.3. Get input materials and assign `substrate` and `film`\n",
    "Materials are loaded with `get_data()`. The first material is assigned as substrate and the second as film."
   ]
  },
  {
   "metadata": {},
   "cell_type": "code",
   "source": [
    "from mat3ra.standata.materials import Materials\n",
    "from mat3ra.made.material import Material\n",
    "\n",
    "film = Material.create(Materials.get_by_name_first_match(\"Graphene\"))\n",
    "substrate = Material.create(Materials.get_by_name_and_categories(\"BN\", \"2D\"))"
   ],
   "outputs": [],
   "execution_count": null
  },
  {
   "cell_type": "markdown",
   "metadata": {
    "collapsed": false
   },
   "source": [
    "### 1.4. Preview Substrate and Film"
   ]
  },
  {
   "cell_type": "code",
   "metadata": {
    "collapsed": false
   },
   "source": [
    "from utils.visualize import visualize_materials as visualize\n",
    "\n",
    "visualize([substrate, film], repetitions=[3, 3, 1], rotation=\"0x\")"
   ],
   "outputs": [],
   "execution_count": null
  },
  {
   "cell_type": "markdown",
   "metadata": {},
   "source": [
    "## 2. Configure slabs for interface\n",
    "\n",
    "### 2.1. Get possible terminations for the slabs"
   ]
  },
  {
   "cell_type": "code",
   "metadata": {},
   "source": [
    "from mat3ra.made.tools.build.slab.helpers import get_slab_terminations\n",
    "\n",
    "film_slab_terminations = get_slab_terminations(material=film, miller_indices=FILM_MILLER_INDICES)\n",
    "substrate_slab_terminations = get_slab_terminations(material=substrate, miller_indices=SUBSTRATE_MILLER_INDICES)\n",
    "print(\"Film slab terminations:\", film_slab_terminations)\n",
    "print(\"Substrate slab terminations:\", substrate_slab_terminations)\n"
   ],
   "outputs": [],
   "execution_count": null
  },
  {
   "cell_type": "markdown",
   "metadata": {
    "collapsed": false
   },
   "source": [
    "### 2.2. Visualize slabs for all possible terminations"
   ]
  },
  {
   "cell_type": "code",
   "metadata": {
    "collapsed": false
   },
   "source": [
    "from mat3ra.made.tools.build.slab.helpers import create_slab\n",
    "from mat3ra.made.tools.build.slab.termination_utils import select_slab_termination\n",
    "\n",
    "film_slabs = [create_slab(film, miller_indices=FILM_MILLER_INDICES, termination=termination, vacuum=0) for termination\n",
    "              in\n",
    "              film_slab_terminations]\n",
    "\n",
    "substrate_slabs = [create_slab(substrate, miller_indices=SUBSTRATE_MILLER_INDICES, termination=termination, vacuum=0)\n",
    "                   for termination in\n",
    "                   substrate_slab_terminations]\n",
    "\n",
    "film_slabs_with_titles = [{\"material\": slab, \"title\": str(termination)} for slab, termination in\n",
    "                          zip(film_slabs, film_slab_terminations)]\n",
    "substrate_slabs_with_titles = [{\"material\": slab, \"title\": str(termination)} for slab, termination in\n",
    "                               zip(substrate_slabs, substrate_slab_terminations)]\n",
    "\n",
    "visualize(film_slabs_with_titles, repetitions=[3, 3, 1], rotation=\"-90x\")\n",
    "visualize(substrate_slabs_with_titles, repetitions=[3, 3, 1], rotation=\"-90x\")"
   ],
   "outputs": [],
   "execution_count": null
  },
  {
   "metadata": {},
   "cell_type": "markdown",
   "source": "### 2.3. Select terminations for the Slabs"
  },
  {
   "metadata": {},
   "cell_type": "code",
   "source": [
    "film_termination = select_slab_termination(film_slab_terminations, FILM_TERMINATION_FORMULA)\n",
    "substrate_termination = select_slab_termination(substrate_slab_terminations, SUBSTRATE_TERMINATION_FORMULA)"
   ],
   "outputs": [],
   "execution_count": null
  },
  {
   "cell_type": "markdown",
   "metadata": {
    "collapsed": false
   },
   "source": [
    "### 2.4. Create Substrate and Film Slabs\n",
    "Slab Configuration lets define the slab thickness, vacuum, and the Miller indices of the interfacial plane and get the slabs with possible terminations.\n",
    "Define the substrate slab cell that will be used as a base for the interface and the film slab cell that will be placed on top of the substrate slab.\n"
   ]
  },
  {
   "cell_type": "code",
   "metadata": {
    "collapsed": false
   },
   "source": [
    "from mat3ra.made.tools.build.slab.configurations import SlabConfiguration\n",
    "from mat3ra.made.tools.build.slab.builders import SlabBuilder\n",
    "\n",
    "substrate_slab_config = SlabConfiguration.from_parameters(\n",
    "    material_or_dict=substrate,\n",
    "    miller_indices=SUBSTRATE_MILLER_INDICES,\n",
    "    number_of_layers=SUBSTRATE_THICKNESS,\n",
    "    vacuum=0.0,\n",
    "    termination_formula=SUBSTRATE_TERMINATION_FORMULA,\n",
    "    use_conventional_cell=USE_CONVENTIONAL_CELL\n",
    ")\n",
    "\n",
    "film_slab_config = SlabConfiguration.from_parameters(\n",
    "    material_or_dict=film,\n",
    "    miller_indices=FILM_MILLER_INDICES,\n",
    "    number_of_layers=FILM_THICKNESS,\n",
    "    vacuum=0.0,\n",
    "    termination_formula=FILM_TERMINATION_FORMULA,\n",
    "    use_conventional_cell=USE_CONVENTIONAL_CELL\n",
    ")\n",
    "\n",
    "substrate_slab = SlabBuilder().get_material(substrate_slab_config)\n",
    "film_slab = SlabBuilder().get_material(film_slab_config)"
   ],
   "outputs": [],
   "execution_count": null
  },
  {
   "cell_type": "markdown",
   "metadata": {
    "collapsed": false
   },
   "source": [
    "## 3. Analyze possible interfaces with ZSL Analyzer\n",
    "### 3.1. Initialize ZSL Analyzer\n",
    "The search algorithm for supercells matching can be tuned by setting its parameters directly, otherwise the default values are used."
   ]
  },
  {
   "cell_type": "code",
   "metadata": {
    "collapsed": false
   },
   "source": [
    "from mat3ra.made.tools.analyze.interface import ZSLInterfaceAnalyzer\n",
    "\n",
    "zsl_analyzer = ZSLInterfaceAnalyzer(\n",
    "    substrate_slab_configuration=substrate_slab_config,\n",
    "    film_slab_configuration=film_slab_config,\n",
    "    max_area=MAX_AREA,\n",
    "    max_area_ratio_tol=MAX_AREA_TOLERANCE,\n",
    "    max_length_tol=MAX_LENGTH_TOLERANCE,\n",
    "    max_angle_tol=MAX_ANGLE_TOLERANCE,\n",
    "    reduce_result_cell=False  # Reduces supercell matrices in analyzer\n",
    ")"
   ],
   "outputs": [],
   "execution_count": null
  },
  {
   "cell_type": "markdown",
   "metadata": {
    "collapsed": false
   },
   "source": [
    "### 3.2. Generate matches with strain analyzer\n",
    "Matches are sorted by size and strain."
   ]
  },
  {
   "cell_type": "code",
   "metadata": {
    "collapsed": false
   },
   "source": [
    "matches = zsl_analyzer.zsl_match_holders"
   ],
   "outputs": [],
   "execution_count": null
  },
  {
   "cell_type": "markdown",
   "metadata": {
    "collapsed": false
   },
   "source": [
    "### 3.3. Plot matches by area and strain"
   ]
  },
  {
   "cell_type": "code",
   "metadata": {
    "collapsed": false
   },
   "source": [
    "from utils.plot import plot_strain_vs_area\n",
    "\n",
    "PLOT_SETTINGS = {\n",
    "    \"HEIGHT\": 600,\n",
    "    \"X_SCALE\": \"log\",  # or linear\n",
    "    \"Y_SCALE\": \"log\",  # or linear\n",
    "}\n",
    "\n",
    "plot_strain_vs_area(matches, PLOT_SETTINGS)"
   ],
   "outputs": [],
   "execution_count": null
  },
  {
   "cell_type": "markdown",
   "metadata": {
    "collapsed": false
   },
   "source": [
    "### 3.4. Select the interface\n",
    "\n",
    "Select the index for the interface with the lowest strain and the smallest area."
   ]
  },
  {
   "cell_type": "code",
   "metadata": {
    "collapsed": false
   },
   "source": [
    "selected_index = 0\n",
    "\n",
    "from mat3ra.made.tools.build.interface.helpers import create_zsl_interface_between_slabs\n",
    "\n",
    "interface = create_zsl_interface_between_slabs(\n",
    "    substrate_slab=substrate_slab,\n",
    "    film_slab=film_slab,\n",
    "    gap=INTERFACE_DISTANCE,\n",
    "    vacuum=INTERFACE_VACUUM,\n",
    "    match_id=selected_index,\n",
    "    max_area=MAX_AREA,\n",
    "    max_area_ratio_tol=MAX_AREA_TOLERANCE,\n",
    "    max_length_tol=MAX_LENGTH_TOLERANCE,\n",
    "    max_angle_tol=MAX_ANGLE_TOLERANCE,\n",
    "    reduce_result_cell_to_primitive=REDUCE_RESULT_CELL_TO_PRIMITIVE,\n",
    ")"
   ],
   "outputs": [],
   "execution_count": null
  },
  {
   "cell_type": "markdown",
   "metadata": {},
   "source": [
    "## 4. Preview the selected interface and create variants\n",
    "\n",
    "### 4.1. Preview the selected interface"
   ]
  },
  {
   "metadata": {},
   "cell_type": "code",
   "source": [
    "visualize(interface, repetitions=[3, 3, 1])\n",
    "visualize(interface, repetitions=[3, 3, 1], rotation=\"-90x\")"
   ],
   "outputs": [],
   "execution_count": null
  },
  {
   "metadata": {},
   "cell_type": "markdown",
   "source": [
    "### 4.2. Shift film along y-axis\n",
    "Shifting with the step of a/sqrt(3)/2 angstroms, where a is the lattice constant of the interface."
   ]
  },
  {
   "metadata": {},
   "cell_type": "code",
   "source": [
    "import numpy as np\n",
    "from mat3ra.made.tools.modify import interface_displace_part\n",
    "\n",
    "a = interface.lattice.a\n",
    "shifted_interfaces = []\n",
    "for n in range(2, 9):\n",
    "    shifted_interface = interface_displace_part(\n",
    "        interface=interface,\n",
    "        displacement=[0, n * a / np.sqrt(3) / 2, 0],\n",
    "        use_cartesian_coordinates=True)\n",
    "    shifted_interfaces.append(shifted_interface)"
   ],
   "outputs": [],
   "execution_count": null
  },
  {
   "metadata": {},
   "cell_type": "markdown",
   "source": "### 4.3. Preview the shifted materials"
  },
  {
   "metadata": {},
   "cell_type": "code",
   "source": "visualize(shifted_interfaces, repetitions=[3, 3, 1])",
   "outputs": [],
   "execution_count": null
  },
  {
   "metadata": {},
   "cell_type": "markdown",
   "source": "## 5. Pass data to the outside runtime"
  },
  {
   "metadata": {},
   "cell_type": "code",
   "source": [
    "from utils.jupyterlite import download_content_to_file, set_materials\n",
    "\n",
    "set_materials(shifted_interfaces)\n",
    "for idx, shifted_interface in enumerate(shifted_interfaces):\n",
    "    download_content_to_file(shifted_interface.to_json(), f\"interface_{idx}.json\")"
   ],
   "outputs": [],
   "execution_count": null
  },
  {
   "metadata": {},
   "cell_type": "code",
   "source": "",
   "outputs": [],
   "execution_count": null
  }
 ],
 "metadata": {
  "kernelspec": {
   "display_name": ".venv",
   "language": "python",
   "name": "python3"
  },
  "language_info": {
   "codemirror_mode": {
    "name": "ipython",
    "version": 3
   },
   "file_extension": ".py",
   "mimetype": "text/x-python",
   "name": "python",
   "nbconvert_exporter": "python",
   "pygments_lexer": "ipython3",
   "version": "3.10.12"
  },
  "widgets": {
   "application/vnd.jupyter.widget-state+json": {
    "state": {},
    "version_major": 2,
    "version_minor": 0
   }
  }
 },
 "nbformat": 4,
 "nbformat_minor": 4
}
