version https://git-lfs.github.com/spec/v1
oid sha256:697286c8c141aa564cdb3012c5227ca2a7bec1bdf416afbf85747a4e8d92af74
size 21128
