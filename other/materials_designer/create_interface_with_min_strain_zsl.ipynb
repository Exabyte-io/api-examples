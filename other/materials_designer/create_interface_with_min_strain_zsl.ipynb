{
 "cells": [
  {
   "cell_type": "markdown",
   "metadata": {},
   "source": [
    "# Create an interface between two materials with minimal strain\n",
    "\n",
    "Use Zur and McGill superlattices matching [algorithm](https://doi.org/10.1063/1.3330840) to create interfaces between two materials using the Pymatgen [implementation](https://pymatgen.org/pymatgen.analysis.interfaces.html#pymatgen.analysis.interfaces.zsl).\n",
    "\n",
    "<h2 style=\"color:green\">Usage</h2>\n",
    "\n",
    "1. Make sure to select Input Materials\n",
    "2. Set Interface Parameters (e.g. `distance_z`, `max_area`, `miller_indices`) below or use the default values\n",
    "3. Additionally, specify whether termination is selected using interactive prompt, or the via the variable in the code.\n",
    "3. Click \"Run\" > \"Run All Cells\" to run all cells\n",
    "4. Wait for the run to complete (depending on the area, it can take 1-2 min or more). Scroll down to view cell results.\n",
    "5. Review the strain plot and modify its parameters as needed\n",
    "\n",
    "## Methodology\n",
    "\n",
    "The following happens in the script below:\n",
    "\n",
    "1. Create slabs for each input material. The materials data is passed in from and back to the web application according to this description (TBA).\n",
    "   We assume that two input materials are either in bulk form (e.g. Ni crystal) or layered (e.g. graphene). \n",
    "   \n",
    "   We construct the interface along the Z-axis. The material corresponding to the bottom of the interface is referred to as the \"**substrate**\", and the top - as the \"**layer**\". \n",
    "\n",
    "2. Perform strain matching on the slabs to extract the supercell dimensions. The algorithm has a set of parameters, such as the maximum area considered, that can be configured by editing the cells below.\n",
    "\n",
    "3. When the strain matching is finished, the interface with the lowest strain (and the smallest number of atoms) is selected. We create the corresponding supercells and place them at a specified distance from each other (note no shift is performed currently).\n"
   ]
  },
  {
   "cell_type": "markdown",
   "source": [
    "## 1. Prepare the Environment\n",
    "### 1.1. Set up the notebook \n",
    "\n",
    "Set the following flags to control the notebook behavior "
   ],
   "metadata": {
    "collapsed": false
   }
  },
  {
   "cell_type": "code",
   "outputs": [],
   "source": [
    "IS_TERMINATIONS_SELECTION_INTERACTIVE = False # Enable interactive selection of terminations via UI prompt"
   ],
   "metadata": {
    "collapsed": false
   },
   "execution_count": null
  },
  {
   "cell_type": "markdown",
   "source": [
    "## 1. Install Packages\n",
    "The step executes only in Pyodide environment. For other environments, the packages should be installed via `pip install` as directed in README."
   ],
   "metadata": {
    "collapsed": false
   }
  },
  {
   "cell_type": "code",
   "outputs": [],
   "source": [
    "import sys\n",
    "\n",
    "if sys.platform == \"emscripten\":\n",
    "    import micropip\n",
    "    await micropip.install('mat3ra-api-examples', deps=False)\n",
    "    from utils.jupyterlite import install_packages\n",
    "    await install_packages(\"create_interface_with_min_strain_zsl.ipynb\", \"../../config.yml\")"
   ],
   "metadata": {
    "collapsed": false
   },
   "execution_count": null
  },
  {
   "cell_type": "markdown",
   "source": [
    "## 3. Load input Materials\n"
   ],
   "metadata": {}
  },
  {
   "cell_type": "code",
   "outputs": [],
   "source": [
    "from mat3ra.made.material import Material\n",
    "from utils.jupyterlite import get_data\n",
    "\n",
    "# Get the list of input materials and load them into `materials_in` variable\n",
    "get_data(\"materials_in\", globals())\n",
    "materials = list(map(Material, globals()[\"materials_in\"]))\n",
    "substrate = materials[0]\n",
    "film = materials[1]"
   ],
   "metadata": {
    "collapsed": false
   },
   "execution_count": null
  },
  {
   "cell_type": "markdown",
   "source": [
    "### 1.4. Visualize Substrate and Film"
   ],
   "metadata": {
    "collapsed": false
   }
  },
  {
   "cell_type": "code",
   "outputs": [],
   "source": [
    "from utils.visualize import visualize_materials as visualize\n",
    "visualize([substrate, film], repetitions=[3, 3, 1], rotation=\"0x\")"
   ],
   "metadata": {
    "collapsed": false
   },
   "execution_count": null
  },
  {
   "cell_type": "markdown",
   "source": [
    "## 2. Set Interface Parameters\n",
    "\n",
    "### 2.1. Set Substrate and Layer Parameters \n",
    "Imported `InterfaceSettings` is a class that specifies the parameters for the construction of the interface. The default values are assumed if properties are not set during the initialization.\n",
    "Additionally, specify if the termination selection is done using interactive prompt, or the via selecting the termination index in the code."
   ],
   "metadata": {}
  },
  {
   "cell_type": "code",
   "outputs": [],
   "source": [
    "from mat3ra.made.tools.build.slab import SlabConfiguration\n",
    "\n",
    "film_slab_configuration = SlabConfiguration(\n",
    "    bulk=film,\n",
    "    # the Miller indices of the interfacial plane of the layer\n",
    "    miller_indices=(0, 0, 1),\n",
    "    thickness=1,\n",
    "    vacuum=1,\n",
    "    xy_supercell_matrix=[[1, 0], [0, 1]],\n",
    "    use_orthogonal_z=True\n",
    ")\n",
    "\n",
    "substrate_slab_configuration = SlabConfiguration(\n",
    "    bulk=substrate,\n",
    "    # the Miller indices of the interfacial plane of the substrate\n",
    "    miller_indices=(0,1,1),\n",
    "    thickness=3,\n",
    "    vacuum=3,\n",
    "    xy_supercell_matrix=[[1, 0], [0, 1]],\n",
    "    use_orthogonal_z=True\n",
    ")\n",
    "\n",
    "film_slab_terminations = film_slab_configuration.terminations\n",
    "substrate_slab_terminations = substrate_slab_configuration.terminations\n",
    "\n",
    "print(f\"Film terminations: {film_slab_terminations}\")\n",
    "print(f\"Substrate terminations: {substrate_slab_terminations}\")"
   ],
   "metadata": {},
   "execution_count": null
  },
  {
   "cell_type": "markdown",
   "source": [
    "### 2.2. Visualize slabs for possible terminations"
   ],
   "metadata": {
    "collapsed": false
   }
  },
  {
   "cell_type": "code",
   "outputs": [],
   "source": [
    "for termination in film_slab_terminations:\n",
    "    visualize(film_slab_configuration.get_slab(termination=termination), repetitions=[3, 3, 1], rotation=\"-90x\", title=f\"Termination: {termination}\")\n",
    "\n",
    "for termination in substrate_slab_terminations:\n",
    "    visualize(substrate_slab_configuration.get_slab(termination=termination), repetitions=[3, 3, 1], rotation=\"-90x\", title=f\"Termination: {termination}\")    "
   ],
   "metadata": {
    "collapsed": false
   },
   "execution_count": null
  },
  {
   "cell_type": "markdown",
   "source": [
    "### 2.3. Select the termination pair for the interface\n",
    "Select termination that will be facing interfacial plane for substrate and film"
   ],
   "metadata": {
    "collapsed": false
   }
  },
  {
   "cell_type": "code",
   "outputs": [],
   "source": [
    "from utils.io import ui_prompt_select_array_element_by_index, ui_prompt_select_array_element_by_index_pyodide\n",
    "\n",
    "substrate_termination = substrate_slab_terminations[0]\n",
    "film_termination = film_slab_terminations[0]\n",
    "\n",
    "if IS_TERMINATIONS_SELECTION_INTERACTIVE:\n",
    "    if sys.platform == \"emscripten\":\n",
    "        substrate_termination = await ui_prompt_select_array_element_by_index_pyodide(substrate_slab_terminations, element_name=\"substrate termination\")\n",
    "        film_termination = await ui_prompt_select_array_element_by_index_pyodide(film_slab_terminations, element_name=\"film termination\")\n",
    "    else:\n",
    "        substrate_termination = ui_prompt_select_array_element_by_index(substrate_slab_terminations, element_name=\"substrate termination\")\n",
    "        film_termination = ui_prompt_select_array_element_by_index(film_slab_terminations, element_name=\"film termination\")\n",
    "\n",
    "termination_pair = (film_termination, substrate_termination)"
   ],
   "metadata": {
    "collapsed": false
   },
   "execution_count": null
  },
  {
   "cell_type": "markdown",
   "source": [
    "### 2.2. Set Strain Matching Algorithm Parameters (Optional)\n",
    "The search algorithm for supercells matching can be tuned by setting its parameters directly, otherwise the default values are used."
   ],
   "metadata": {
    "collapsed": false
   }
  },
  {
   "cell_type": "code",
   "outputs": [],
   "source": [
    "from mat3ra.made.tools.build.interface import ZSLStrainMatchingParameters\n",
    "zsl_strain_matching_parameters = ZSLStrainMatchingParameters()"
   ],
   "metadata": {
    "collapsed": false
   },
   "execution_count": null
  },
  {
   "cell_type": "markdown",
   "source": [
    "## 4. Create interfaces\n",
    "\n",
    "### 4.1. Initialize the interface builder\n",
    "\n",
    "Initialize the interface builder with the materials and interface settings."
   ],
   "metadata": {
    "collapsed": false
   }
  },
  {
   "cell_type": "code",
   "outputs": [],
   "source": [
    "from mat3ra.made.tools.build.interface import InterfaceConfiguration, ZSLStrainMatchingInterfaceBuilder, ZSLStrainMatchingInterfaceBuilderParameters\n",
    "\n",
    "interface_configuration = InterfaceConfiguration(film_slab_configuration, substrate_slab_configuration, film_termination, substrate_termination, distance_z=3.0, vacuum=5.0)\n",
    "\n",
    "\n",
    "matched_interfaces_builder = ZSLStrainMatchingInterfaceBuilder(build_parameters=ZSLStrainMatchingInterfaceBuilderParameters(strain_matching_parameters=zsl_strain_matching_parameters))\n",
    "\n",
    "interfaces_sorted_by_strain_and_size = matched_interfaces_builder.get_materials(configuration=interface_configuration)\n"
   ],
   "metadata": {
    "collapsed": false
   },
   "execution_count": null
  },
  {
   "cell_type": "markdown",
   "source": [
    "### 4.4. Print out interface with the lowest strain for selected termination"
   ],
   "metadata": {
    "collapsed": false
   }
  },
  {
   "cell_type": "code",
   "outputs": [],
   "source": [
    "print(f\"Interface with lowest strain for termination {termination_pair} (index 0):\")\n",
    "first_interface = interfaces_sorted_by_strain_and_size[0]\n",
    "# print(f\"    strain: {first_interface.get_mean_abs_strain() * 100:.3f}%\")\n",
    "# print(\"    number of atoms:\", first_interface.num_sites)"
   ],
   "metadata": {
    "collapsed": false
   },
   "execution_count": null
  },
  {
   "cell_type": "markdown",
   "source": [
    "## 5. Plot the results\n",
    "\n",
    "Plot the number of atoms vs strain. Adjust the parameters as needed.\n"
   ],
   "metadata": {
    "collapsed": false
   }
  },
  {
   "cell_type": "code",
   "outputs": [],
   "source": [
    "from utils.plot import plot_strain_vs_atoms\n",
    "\n",
    "PLOT_SETTINGS = {\n",
    "    \"HEIGHT\": 600,\n",
    "    \"X_SCALE\": \"log\",  # or linear\n",
    "    \"Y_SCALE\": \"log\",  # or linear\n",
    "}\n",
    "\n",
    "plot_strain_vs_atoms(interfaces_sorted_by_strain_and_size, PLOT_SETTINGS)"
   ],
   "metadata": {
    "collapsed": false
   },
   "execution_count": null
  },
  {
   "cell_type": "markdown",
   "source": [
    "## 6. Select the interface to pass outside this kernel\n",
    "\n",
    "### 6.1. Select the interface with the desired strain\n",
    "\n",
    "Select the index for the interface with the lowest strain and the smallest number of atoms."
   ],
   "metadata": {
    "collapsed": false
   }
  },
  {
   "cell_type": "code",
   "outputs": [],
   "source": [
    "# select the first interface with the lowest strain and the smallest number of atoms\n",
    "interfaces_slice_range_or_index = slice(0, 1)\n",
    "selected_interfaces = interfaces_sorted_by_strain_and_size[interfaces_slice_range_or_index]"
   ],
   "metadata": {
    "collapsed": false
   },
   "execution_count": null
  },
  {
   "cell_type": "markdown",
   "source": [
    "### 6.2. Visualize the selected interface(s)"
   ],
   "metadata": {
    "collapsed": false
   }
  },
  {
   "cell_type": "code",
   "outputs": [],
   "source": [
    "visualize(selected_interfaces, repetitions=[1, 1, 1], rotation=\"0x\")"
   ],
   "metadata": {
    "collapsed": false
   },
   "execution_count": null
  },
  {
   "cell_type": "markdown",
   "metadata": {},
   "source": [
    "### 6.3. Pass data to the outside runtime\n",
    "Enrich the selected interfaces names with the strain values and pass them to the application runtime."
   ]
  },
  {
   "cell_type": "code",
   "execution_count": null,
   "metadata": {},
   "outputs": [],
   "source": [
    "from utils.jupyterlite import set_data\n",
    "\n",
    "for interface in selected_interfaces:\n",
    "    if \"Interface, Strain:\" not in interface.name:\n",
    "        interface.name = f'{interface.name}, Interface, Strain:{interface.metadata[\"mean_abs_strain\"] * 100:.3f}%'\n",
    "\n",
    "materials_as_json = [selected_interface.to_json() for selected_interface in selected_interfaces]\n",
    "set_data(\"materials\", materials_as_json)"
   ]
  }
 ],
 "metadata": {
  "kernelspec": {
   "display_name": ".venv",
   "language": "python",
   "name": "python3"
  },
  "language_info": {
   "codemirror_mode": {
    "name": "ipython",
    "version": 3
   },
   "file_extension": ".py",
   "mimetype": "text/x-python",
   "name": "python",
   "nbconvert_exporter": "python",
   "pygments_lexer": "ipython3",
   "version": "3.10.12"
  },
  "widgets": {
   "application/vnd.jupyter.widget-state+json": {
    "state": {},
    "version_major": 2,
    "version_minor": 0
   }
  }
 },
 "nbformat": 4,
 "nbformat_minor": 4
}
