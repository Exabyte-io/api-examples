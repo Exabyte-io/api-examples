{
 "cells": [
  {
   "cell_type": "markdown",
   "id": "0",
   "metadata": {},
   "source": [
    "# Twisted Molybdenum Disulfide bilayers at various angles.\n",
    "\n",
    "## 0. Introduction.\n",
    "\n",
    "This notebook demonstrates how to generate a twisted interface between two materials using commensurate lattices. The example uses molybdenum disulfide (MoS2) as both the film and substrate materials. The notebook uses the new `create_commensurate_interface` function which first creates a slab from the material and then performs commensurate lattice matching to find valid supercells for the target twist angle. The algorithm searches for supercell matrices within specified size limits to achieve the target twist angle within tolerance. The generated interface is visualized and analyzed to determine the actual twist angle and the number of atoms in the interface.\n",
    "\n",
    "> **Kaihui Liu, Liming Zhang, Ting Cao, Chenhao Jin, Diana Qiu, Qin Zhou, Alex Zettl, Peidong Yang, Steve G. Louie & Feng Wang**\n",
    "> Evolution of interlayer coupling in twisted molybdenum disulfide bilayers. Nature Communications, 5, 4966. 2014.\n",
    " > [https://doi.org/10.1038/ncomms5966](https://doi.org/10.1038/ncomms5966)\n",
    "\n",
    "The twisted MoS2 bilayers are shown in the following Figure 4 from the article.\n",
    "\n",
    "<img src=\"https://github.com/Exabyte-io/documentation/raw/12617167278ae3523adc028583b21ea4e8ebd197/images/tutorials/materials/interfaces/twisted-bilayer-molybdenum-disulfide/MoS2-twisted-bilayers.png\" alt=\"Twisted MoS2 bilayers\" width=\"600\"/>"
   ]
  },
  {
   "cell_type": "markdown",
   "id": "1",
   "metadata": {},
   "source": [
    "## 1. Prepare the Environment\n",
    "### 1.1. Set up the notebook\n",
    "Let's set angles and corresponding distances for the twisted interface from the article."
   ]
  },
  {
   "cell_type": "code",
   "execution_count": null,
   "id": "2",
   "metadata": {},
   "outputs": [],
   "source": [
    "# Uncomment lines to reproduce specific cases from the article\n",
    "INTERFACE_PARAMETERS = [\n",
    "    # {\"angle\": 0.0, \"distance\": 6.8},\n",
    "    # {\"angle\": 13.0, \"distance\": 6.5},\n",
    "    {\"angle\": 22.0, \"distance\": 6.5},\n",
    "    # {\"angle\": 38.0, \"distance\": 6.5},\n",
    "    # {\"angle\": 47.0, \"distance\": 6.5},\n",
    "    # {\"angle\": 60.0, \"distance\": 6.2},\n",
    "]\n",
    "\n",
    "# Slab creation parameters\n",
    "MILLER_INDICES = (0, 0, 1)  # Miller indices for slab creation\n",
    "NUMBER_OF_LAYERS = 1  # Number of layers in the slab\n",
    "\n",
    "INTERFACE_VACUUM = 20.0  # in Angstroms\n",
    "\n",
    "# Search algorithm parameters\n",
    "MAX_REPETITION = None  # Maximum supercell matrix element value (None for automatic)\n",
    "ANGLE_TOLERANCE = 0.5  # in degrees\n",
    "RETURN_FIRST_MATCH = True  # If True, returns first solution within tolerance\n",
    "\n",
    "# Visualization parameters\n",
    "SHOW_INTERMEDIATE_STEPS = True\n",
    "VISUALIZE_REPETITIONS = [3, 3, 1]"
   ]
  },
  {
   "cell_type": "markdown",
   "id": "3",
   "metadata": {},
   "source": [
    " ### 1.2. Install packages\n",
    "The step executes only in Pyodide environment. For other environments, the packages should be installed via `pip install` (see [README](../../README.ipynb))."
   ]
  },
  {
   "cell_type": "code",
   "execution_count": null,
   "id": "4",
   "metadata": {},
   "outputs": [],
   "source": [
    "import sys\n",
    "\n",
    "if sys.platform == \"emscripten\":\n",
    "    import micropip\n",
    "\n",
    "    await micropip.install(\"mat3ra-api-examples\", deps=False)\n",
    "    await micropip.install('mat3ra-utils')\n",
    "    from mat3ra.utils.jupyterlite.packages import install_packages\n",
    "\n",
    "    await install_packages(\"specific_examples\")"
   ]
  },
  {
   "cell_type": "markdown",
   "id": "5",
   "metadata": {},
   "source": [
    "### 1.3. Get input material\n",
    "We'll use the MoS2 material from Standata.\n"
   ]
  },
  {
   "cell_type": "code",
   "execution_count": null,
   "id": "6",
   "metadata": {},
   "outputs": [],
   "source": [
    "from mat3ra.made.material import Material\n",
    "from mat3ra.standata.materials import Materials\n",
    "from utils.visualize import visualize_materials\n",
    "\n",
    "material = Material.create(Materials.get_by_name_and_categories(\"MoS2\", \"2D\"))\n",
    "\n",
    "print(\"Initial material properties:\")\n",
    "print(f\"Formula: {material.formula}\")\n",
    "print(f\"Number of atoms: {len(material.basis.elements.ids)}\")\n",
    "\n",
    "if SHOW_INTERMEDIATE_STEPS:\n",
    "    visualize_materials(material, repetitions=VISUALIZE_REPETITIONS)\n",
    "    visualize_materials(material, repetitions=VISUALIZE_REPETITIONS, rotation=\"-90x\")\n"
   ]
  },
  {
   "cell_type": "markdown",
   "id": "7",
   "metadata": {},
   "source": [
    " ## 3. Generate Twisted Interface\n",
    " ### 3.1. Create slab\n"
   ]
  },
  {
   "cell_type": "code",
   "execution_count": null,
   "id": "8",
   "metadata": {},
   "outputs": [],
   "source": [
    "from mat3ra.made.tools.modify import translate_to_z_level\n",
    "from mat3ra.esse.models.core.reusable.axis_enum import AxisEnum\n",
    "from mat3ra.made.tools.helpers import create_slab\n",
    "from mat3ra.made.tools.helpers import create_interface_commensurate as create_commensurate_interface\n",
    "\n",
    "slab = create_slab(\n",
    "    crystal=material,\n",
    "    miller_indices=MILLER_INDICES,\n",
    "    number_of_layers=NUMBER_OF_LAYERS,\n",
    "    vacuum=0.0, # No vacuum in the slab, it is a 2D material\n",
    ")\n",
    "slab = translate_to_z_level(slab, \"center\")\n",
    "\n",
    "visualize_materials(slab, rotation=\"-90x\")"
   ]
  },
  {
   "cell_type": "markdown",
   "id": "9",
   "metadata": {},
   "source": [
    "### 3.2. Create twisted interfaces"
   ]
  },
  {
   "cell_type": "code",
   "execution_count": null,
   "id": "10",
   "metadata": {},
   "outputs": [],
   "source": [
    "interfaces = []\n",
    "for parameters in INTERFACE_PARAMETERS:\n",
    "    interface = create_commensurate_interface(\n",
    "        material=slab,\n",
    "        target_angle=parameters[\"angle\"],\n",
    "        angle_tolerance=ANGLE_TOLERANCE,\n",
    "        max_repetition_int=MAX_REPETITION,\n",
    "        return_first_match=RETURN_FIRST_MATCH,\n",
    "        direction=AxisEnum.z,\n",
    "        gap=parameters[\"distance\"],\n",
    "        vacuum=INTERFACE_VACUUM\n",
    "    )\n",
    "    interfaces.append(interface)\n",
    "    print(f\"Created interface with twist angle {parameters['angle']}° and {len(interface.basis.elements.ids)} atoms\")\n"
   ]
  },
  {
   "cell_type": "markdown",
   "id": "11",
   "metadata": {},
   "source": [
    "## 4. Preview the  materials\n"
   ]
  },
  {
   "cell_type": "code",
   "execution_count": null,
   "id": "12",
   "metadata": {},
   "outputs": [],
   "source": [
    "from utils.visualize import visualize_materials\n",
    "\n",
    "for interface in interfaces:\n",
    "    visualize_materials(interface, viewer=\"wave\")\n"
   ]
  },
  {
   "cell_type": "markdown",
   "id": "13",
   "metadata": {},
   "source": [
    "## 5. Download materials\n"
   ]
  },
  {
   "cell_type": "code",
   "execution_count": null,
   "id": "14",
   "metadata": {},
   "outputs": [],
   "source": [
    "from utils.jupyterlite import download_content_to_file, set_materials\n",
    "\n",
    "set_materials(interfaces)\n",
    "\n",
    "for idx, interface in enumerate(interfaces):\n",
    "    download_content_to_file(interface.to_json(), f\"twisted_interface_{idx}.json\")"
   ]
  }
 ],
 "metadata": {
  "kernelspec": {
   "display_name": "Python 3",
   "language": "python",
   "name": "python3"
  },
  "language_info": {
   "codemirror_mode": {
    "name": "ipython",
    "version": 2
   },
   "file_extension": ".py",
   "mimetype": "text/x-python",
   "name": "python",
   "nbconvert_exporter": "python",
   "pygments_lexer": "ipython2",
   "version": "2.7.6"
  }
 },
 "nbformat": 4,
 "nbformat_minor": 5
}
