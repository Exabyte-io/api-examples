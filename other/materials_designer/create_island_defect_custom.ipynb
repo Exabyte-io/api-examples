{
 "cells": [
  {
   "cell_type": "markdown",
   "source": [
    "# Create  Custom Shape Island Defect on a Slab\n",
    "\n",
    "Create an island defect on a slab with a custom condition on coordinates extending the existing Class.\n",
    "\n",
    "<h2 style=\"color:green\">Usage</h2>\n",
    "\n",
    "1. Make sure to select Input Materials (in the outer runtime) before running the notebook.\n",
    "1. Adjust the CoordianteCondition class to define the custom shape of the island defect.\n",
    "1. Set the parameters in the \"Set the parameters\" section.\n",
    "1. Click “Run” > “Run All” to run all cells. \n",
    "1. Scroll down to view results. \n",
    "\n",
    "\n",
    "## Notes\n",
    "\n",
    "1. For more information, see [Introduction](Introduction.ipynb)\n",
    "<!-- # TODO: use a hashtag-based anchor link to interface creation documention above -->\n"
   ],
   "metadata": {
    "collapsed": false
   },
   "id": "f2e1e795020d7b3f"
  },
  {
   "cell_type": "markdown",
   "source": [
    "## 1. Prepare the Environment\n",
    "### 1.1. Install Packages\n",
    "The step executes only in Pyodide environment. For other environments, the packages should be installed via `pip install` (see [README](../../README.ipynb))."
   ],
   "metadata": {
    "collapsed": false
   },
   "id": "e82522518cb8724c"
  },
  {
   "cell_type": "code",
   "outputs": [],
   "source": [
    "import sys\n",
    "from typing import List\n",
    "\n",
    "if sys.platform == \"emscripten\":\n",
    "    import micropip\n",
    "    await micropip.install('mat3ra-api-examples', deps=False)\n",
    "    from utils.jupyterlite import install_packages\n",
    "    await install_packages(\"\")"
   ],
   "metadata": {
    "collapsed": false
   },
   "id": "b1216c665d6cf493",
   "execution_count": null
  },
  {
   "cell_type": "markdown",
   "source": [
    "### 1.2. Create custom Coordinate Conditions"
   ],
   "metadata": {
    "collapsed": false
   },
   "id": "c360bd0ea9a5f262"
  },
  {
   "cell_type": "code",
   "outputs": [],
   "source": [
    "import numpy as np\n",
    "from mat3ra.made.tools.utils.coordinate import CoordinateCondition\n",
    "\n",
    "# Custom Coordinate Condition for a torus shape\n",
    "class CustomCoordinateCondition(CoordinateCondition):\n",
    "    center: List[float] = [0.5, 0.5, 0.5]\n",
    "    major_radius: float = 0.5\n",
    "    minor_radius: float = 0.1 \n",
    "\n",
    "    def condition(self, coordinate: List[float]) -> bool:\n",
    "        coord = np.array(coordinate)\n",
    "        # Calculate the distance from the center in the xy-plane\n",
    "        xy_distance = np.linalg.norm(coord[:2] - self.center[:2])\n",
    "        # Calculate the distance from the torus surface\n",
    "        distance_to_torus = np.sqrt((xy_distance - self.major_radius) ** 2 + (coord[2] - self.center[2]) ** 2)\n",
    "        return distance_to_torus <= self.minor_radius\n"
   ],
   "metadata": {
    "collapsed": false
   },
   "id": "9d8b1890b34d850a",
   "execution_count": null
  },
  {
   "cell_type": "markdown",
   "source": [
    "### 1.3. Set the parameters\n"
   ],
   "metadata": {
    "collapsed": false
   },
   "id": "535bbac2c3f2832b"
  },
  {
   "cell_type": "code",
   "outputs": [],
   "source": [
    "CENTER_POSITION = [0.5, 0.5, 0.5]  # Center of the torus in crystal coordinates\n",
    "MAJOR_RADIUS = 0.3  # Major radius of the torus\n",
    "MINOR_RADIUS = 0.1  # Minor radius of the torus\n",
    "\n",
    "NUMBER_OF_ADDED_LAYERS = 3  # Number of layers to add to the defect\n",
    "\n",
    "AUTO_ADD_VACUUM = True  # Automatically add vacuum to the slab\n",
    "VACUUM_THICKNESS = 5.0  # Thickness of the vacuum to add\n",
    "\n",
    "# Create slab with default parameters if imported material is not a slab\n",
    "DEFAULT_SLAB_PARAMETERS = {\n",
    "    \"miller_indices\": (0,0,1),\n",
    "    \"thickness\": 3,\n",
    "    \"vacuum\": 5.0,\n",
    "    \"use_orthogonal_z\": True,\n",
    "    \"xy_supercell_matrix\": [[10, 0], [0, 10]]\n",
    "}"
   ],
   "metadata": {
    "collapsed": false
   },
   "id": "79924b8b23c8850b",
   "execution_count": null
  },
  {
   "cell_type": "markdown",
   "source": [
    "### 1.4. Initialize the Coordinate Condition"
   ],
   "metadata": {
    "collapsed": false
   },
   "id": "8ab363bab5c5f7cc"
  },
  {
   "cell_type": "code",
   "outputs": [],
   "source": [
    "coordinate_condition = CustomCoordinateCondition(\n",
    "    center=CENTER_POSITION,\n",
    "    major_radius=MAJOR_RADIUS,\n",
    "    minor_radius=MINOR_RADIUS\n",
    ")"
   ],
   "metadata": {
    "collapsed": false
   },
   "id": "87c3850f6c7178b2"
  },
  {
   "cell_type": "markdown",
   "source": [
    "### 1.5. Get input material"
   ],
   "metadata": {
    "collapsed": false
   },
   "id": "919ad7af8dceeedd"
  },
  {
   "cell_type": "code",
   "outputs": [],
   "source": [
    "from utils.jupyterlite import get_materials\n",
    "materials = get_materials(globals())"
   ],
   "metadata": {
    "collapsed": false
   },
   "id": "be38fdda1984c654",
   "execution_count": null
  },
  {
   "cell_type": "markdown",
   "source": [
    "### 1.6. Preview Slab or create a new one"
   ],
   "metadata": {
    "collapsed": false
   },
   "id": "a132fe0ef8bbf0d0"
  },
  {
   "cell_type": "code",
   "outputs": [],
   "source": [
    "from mat3ra.made.tools.build.slab import create_slab, SlabConfiguration\n",
    "from utils.visualize import visualize_materials as visualize\n",
    "\n",
    "slab = materials[0]\n",
    "if not slab.metadata or slab.metadata[\"build\"][\"configuration\"][\"type\"] != SlabConfiguration.__name__:\n",
    "    print(\"The material is not a slab. Creating a new slab...\")\n",
    "    slab_config = SlabConfiguration(\n",
    "        bulk=materials[0],\n",
    "        miller_indices=DEFAULT_SLAB_PARAMETERS[\"miller_indices\"],\n",
    "        thickness=DEFAULT_SLAB_PARAMETERS[\"thickness\"],\n",
    "        vacuum= DEFAULT_SLAB_PARAMETERS[\"vacuum\"],\n",
    "        use_orthogonal_z=DEFAULT_SLAB_PARAMETERS[\"use_orthogonal_z\"],\n",
    "        xy_supercell_matrix=DEFAULT_SLAB_PARAMETERS[\"xy_supercell_matrix\"]\n",
    "    )\n",
    "        \n",
    "    slab = create_slab(slab_config)\n",
    "\n",
    "visualize([{\"material\": slab, \"title\": \"Original material\"}])\n",
    "visualize([{\"material\": slab, \"title\": \"Original material\"}], rotation=\"-90x\")"
   ],
   "metadata": {
    "collapsed": false
   },
   "id": "7fcb1e02e84c5f35",
   "execution_count": null
  },
  {
   "cell_type": "markdown",
   "source": [
    "## 2. Create the Target Material\n",
    "### 2.1. Initialize the defect configuration and builder"
   ],
   "metadata": {
    "collapsed": false
   },
   "id": "690241d87e7bbbe0"
  },
  {
   "cell_type": "code",
   "outputs": [],
   "source": [
    "from mat3ra.made.tools.build.defect import IslandSlabDefectConfiguration\n",
    "from mat3ra.made.tools.build.defect import IslandSlabDefectBuilder, SlabDefectBuilderParameters\n",
    "\n",
    "island_config = IslandSlabDefectConfiguration(\n",
    "    crystal=slab,\n",
    "    condition=coordinate_condition,\n",
    "    number_of_added_layers=NUMBER_OF_ADDED_LAYERS\n",
    ")\n",
    "\n",
    "\n",
    "params = SlabDefectBuilderParameters(\n",
    "    auto_add_vacuum=AUTO_ADD_VACUUM,\n",
    "    vacuum_thickness=VACUUM_THICKNESS,\n",
    ")\n",
    "builder = IslandSlabDefectBuilder(build_parameters=params)"
   ],
   "metadata": {
    "collapsed": false
   },
   "id": "e2d24109d3068c9e",
   "execution_count": null
  },
  {
   "cell_type": "markdown",
   "source": [
    "### 2.2. Create the island"
   ],
   "metadata": {
    "collapsed": false
   },
   "id": "489b51f0ee122c48"
  },
  {
   "cell_type": "code",
   "outputs": [],
   "source": [
    "slab_with_island = builder.get_material(island_config)"
   ],
   "metadata": {
    "collapsed": false
   },
   "id": "a990fa35742d7269",
   "execution_count": null
  },
  {
   "cell_type": "markdown",
   "source": [
    "## 3. Visualize the Result(s)"
   ],
   "metadata": {
    "collapsed": false
   },
   "id": "462549d016073446"
  },
  {
   "cell_type": "code",
   "outputs": [],
   "source": [
    "visualize([{\"material\": slab, \"title\": \"Original material\"},\n",
    "           {\"material\": slab_with_island, \"title\": f\"Material with Island Defect\"}],\n",
    "rotation=\"-90x\")\n",
    "\n",
    "visualize([{\"material\": slab, \"title\": \"Original material\"},\n",
    "           {\"material\": slab_with_island, \"title\": f\"Material with Island Defect\"}])"
   ],
   "metadata": {
    "collapsed": false
   },
   "id": "509b18661a069e42",
   "execution_count": null
  },
  {
   "cell_type": "markdown",
   "source": [
    "## 4. Pass data to the outside runtime"
   ],
   "metadata": {
    "collapsed": false
   },
   "id": "d381df29a6bbdd82"
  },
  {
   "cell_type": "code",
   "outputs": [],
   "source": [
    "from utils.jupyterlite import set_materials\n",
    "\n",
    "set_materials(slab_with_island)"
   ],
   "metadata": {
    "collapsed": false
   },
   "id": "61daa5afcbc078a9",
   "execution_count": null
  }
 ],
 "metadata": {
  "kernelspec": {
   "display_name": "Python 3",
   "language": "python",
   "name": "python3"
  },
  "language_info": {
   "codemirror_mode": {
    "name": "ipython",
    "version": 2
   },
   "file_extension": ".py",
   "mimetype": "text/x-python",
   "name": "python",
   "nbconvert_exporter": "python",
   "pygments_lexer": "ipython2",
   "version": "2.7.6"
  }
 },
 "nbformat": 4,
 "nbformat_minor": 5
}
