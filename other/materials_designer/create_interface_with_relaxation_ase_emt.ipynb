{
 "cells": [
  {
   "cell_type": "markdown",
   "metadata": {},
   "source": [
    "\n",
    "\n",
    "# Relax interface using EMT potentials\n",
    "\n",
    "Optimize atoms coordinates of the interface using the EMT potential and BFGS optimizer. The relaxation is performed to minimize the energy of the interface.\n",
    "\n",
    "<h2 style=\"color:green\">Usage</h2>\n",
    "\n",
    "1. Make sure to select Input Materials (in the outer runtime) before running the notebook.\n",
    "1. Set notebook parameters in cell 1.1. below (or use the default values).\n",
    "1. Set relaxation parameters in cell 2.1. below (or use the default values).\n",
    "1. Click “Run” > “Run All” to run all cells. \n",
    "1. Wait for the run to complete (depending on the parameters can take a few min). \n",
    "1. Scroll down to view results. \n",
    "\n",
    "## Summary\n",
    "1. Prepare the Environment: Set up the notebook and install packages, preview the input materials\n",
    "1. Perform relaxation of the interface with set parameters\n",
    "1. View the structure before and after relaxation\n",
    "\n",
    "## Notes\n",
    "1. We perform strain matching on the slabs to extract the supercell dimensions. The algorithm has a set of parameters, such as the maximum area considered.\n",
    "1. When the strain matching is finished, the interface with the lowest strain (and the smallest number of atoms) is selected. \n",
    "1. ZSL strain matching is performed using Pymatgen [implementation](https://pymatgen.org/pymatgen.analysis.interfaces.html#pymatgen.analysis.interfaces.zsl).\n",
    "1. For more information, see [Introduction](Introduction.ipynb)\n",
    "<!-- # TODO: use a hashtag-based anchor link to interface creation documention above -->\n"
   ]
  },
  {
   "cell_type": "markdown",
   "source": [
    "## 1. Prepare the Environment\n",
    "### 1.1. Set up the notebook \n",
    "\n",
    "Set the following flags to control the notebook behavior "
   ],
   "metadata": {
    "collapsed": false
   }
  },
  {
   "cell_type": "code",
   "outputs": [],
   "source": [
    "# Enable interactive selection of terminations via UI prompt\n",
    "IS_TERMINATIONS_SELECTION_INTERACTIVE = False \n",
    "# Maximum area for the superlattice search algorithm\n",
    "MAX_AREA = 50\n",
    "FMAX = 0.05"
   ],
   "metadata": {
    "collapsed": false,
    "ExecuteTime": {
     "end_time": "2024-06-10T01:29:52.818456Z",
     "start_time": "2024-06-10T01:29:52.812186Z"
    }
   },
   "execution_count": 1
  },
  {
   "cell_type": "markdown",
   "source": [
    "### 1.2. Install Packages\n",
    "The step executes only in Pyodide environment. For other environments, the packages should be installed via `pip install` (see [README](../../README.ipynb))."
   ],
   "metadata": {
    "collapsed": false
   }
  },
  {
   "cell_type": "code",
   "outputs": [],
   "source": [
    "import sys\n",
    "\n",
    "if sys.platform == \"emscripten\":\n",
    "    import micropip\n",
    "    await micropip.install('mat3ra-api-examples', deps=False)\n",
    "    from utils.jupyterlite import install_packages\n",
    "    await install_packages(\"create_interface_with_min_strain_zsl.ipynb\", \"../../config.yml\")"
   ],
   "metadata": {
    "collapsed": false,
    "ExecuteTime": {
     "end_time": "2024-06-10T01:29:52.824204Z",
     "start_time": "2024-06-10T01:29:52.820461Z"
    }
   },
   "execution_count": 2
  },
  {
   "cell_type": "markdown",
   "source": [
    "### 1.3. Get input interface material\n",
    "Materials are loaded with `get_data()`."
   ],
   "metadata": {
    "collapsed": false
   }
  },
  {
   "cell_type": "code",
   "execution_count": 3,
   "metadata": {
    "ExecuteTime": {
     "end_time": "2024-06-10T01:29:53.257610Z",
     "start_time": "2024-06-10T01:29:52.825411Z"
    }
   },
   "outputs": [
    {
     "ename": "ModuleNotFoundError",
     "evalue": "No module named 'mat3ra.esse.models'",
     "output_type": "error",
     "traceback": [
      "\u001B[0;31m---------------------------------------------------------------------------\u001B[0m",
      "\u001B[0;31mModuleNotFoundError\u001B[0m                       Traceback (most recent call last)",
      "Cell \u001B[0;32mIn[3], line 1\u001B[0m\n\u001B[0;32m----> 1\u001B[0m \u001B[38;5;28;01mfrom\u001B[39;00m \u001B[38;5;21;01mmat3ra\u001B[39;00m\u001B[38;5;21;01m.\u001B[39;00m\u001B[38;5;21;01mmade\u001B[39;00m\u001B[38;5;21;01m.\u001B[39;00m\u001B[38;5;21;01mmaterial\u001B[39;00m \u001B[38;5;28;01mimport\u001B[39;00m Material\n\u001B[1;32m      2\u001B[0m \u001B[38;5;28;01mfrom\u001B[39;00m \u001B[38;5;21;01mutils\u001B[39;00m\u001B[38;5;21;01m.\u001B[39;00m\u001B[38;5;21;01mjupyterlite\u001B[39;00m \u001B[38;5;28;01mimport\u001B[39;00m get_data\n\u001B[1;32m      4\u001B[0m \u001B[38;5;66;03m# Get the list of input materials and load them into `materials_in` variable\u001B[39;00m\n",
      "File \u001B[0;32m~/code/RED/api-examples/.venv-3.11.2/lib/python3.11/site-packages/mat3ra/made/material.py:5\u001B[0m\n\u001B[1;32m      3\u001B[0m \u001B[38;5;28;01mfrom\u001B[39;00m \u001B[38;5;21;01mmat3ra\u001B[39;00m\u001B[38;5;21;01m.\u001B[39;00m\u001B[38;5;21;01mcode\u001B[39;00m\u001B[38;5;21;01m.\u001B[39;00m\u001B[38;5;21;01mconstants\u001B[39;00m \u001B[38;5;28;01mimport\u001B[39;00m AtomicCoordinateUnits, Units\n\u001B[1;32m      4\u001B[0m \u001B[38;5;28;01mfrom\u001B[39;00m \u001B[38;5;21;01mmat3ra\u001B[39;00m\u001B[38;5;21;01m.\u001B[39;00m\u001B[38;5;21;01mcode\u001B[39;00m\u001B[38;5;21;01m.\u001B[39;00m\u001B[38;5;21;01mentity\u001B[39;00m \u001B[38;5;28;01mimport\u001B[39;00m HasDescriptionHasMetadataNamedDefaultableInMemoryEntity\n\u001B[0;32m----> 5\u001B[0m \u001B[38;5;28;01mfrom\u001B[39;00m \u001B[38;5;21;01mmat3ra\u001B[39;00m\u001B[38;5;21;01m.\u001B[39;00m\u001B[38;5;21;01messe\u001B[39;00m\u001B[38;5;21;01m.\u001B[39;00m\u001B[38;5;21;01mmodels\u001B[39;00m\u001B[38;5;21;01m.\u001B[39;00m\u001B[38;5;21;01mmaterial\u001B[39;00m \u001B[38;5;28;01mimport\u001B[39;00m MaterialSchema\n\u001B[1;32m      7\u001B[0m defaultMaterialConfig \u001B[38;5;241m=\u001B[39m {\n\u001B[1;32m      8\u001B[0m     \u001B[38;5;124m\"\u001B[39m\u001B[38;5;124mname\u001B[39m\u001B[38;5;124m\"\u001B[39m: \u001B[38;5;124m\"\u001B[39m\u001B[38;5;124mSilicon FCC\u001B[39m\u001B[38;5;124m\"\u001B[39m,\n\u001B[1;32m      9\u001B[0m     \u001B[38;5;124m\"\u001B[39m\u001B[38;5;124mbasis\u001B[39m\u001B[38;5;124m\"\u001B[39m: {\n\u001B[0;32m   (...)\u001B[0m\n\u001B[1;32m     44\u001B[0m     },\n\u001B[1;32m     45\u001B[0m }\n\u001B[1;32m     47\u001B[0m MaterialSchemaJSON \u001B[38;5;241m=\u001B[39m Dict[\u001B[38;5;28mstr\u001B[39m, Union[MaterialSchema, Any]]\n",
      "\u001B[0;31mModuleNotFoundError\u001B[0m: No module named 'mat3ra.esse.models'"
     ]
    }
   ],
   "source": [
    "from mat3ra.made.material import Material\n",
    "from utils.jupyterlite import get_data\n",
    "\n",
    "# Get the list of input materials and load them into `materials_in` variable\n",
    "get_data(\"materials_in\", globals())\n",
    "materials = list(map(Material, globals()[\"materials_in\"]))\n",
    "interface = materials[2]"
   ]
  },
  {
   "cell_type": "markdown",
   "source": [
    "### 1.4. Preview Interface"
   ],
   "metadata": {
    "collapsed": false
   }
  },
  {
   "cell_type": "code",
   "execution_count": null,
   "metadata": {
    "ExecuteTime": {
     "end_time": "2024-06-10T01:29:53.260590Z",
     "start_time": "2024-06-10T01:29:53.260439Z"
    }
   },
   "outputs": [],
   "source": [
    "from utils.visualize import visualize_materials as visualize\n",
    "visualize(interface, repetitions=[3, 3, 1], rotation=\"0x\")"
   ]
  },
  {
   "cell_type": "markdown",
   "source": [
    "## 2. Perform Relaxation\n",
    "### 2.1. Set the optimization parameters"
   ],
   "metadata": {
    "collapsed": false
   }
  },
  {
   "cell_type": "code",
   "outputs": [],
   "source": [
    "from ase.optimize import BFGS\n",
    "from ase.calculators.emt import EMT\n",
    "from mat3ra.made.tools.convert import to_ase\n",
    "\n",
    "calculator = EMT()\n",
    "optimizer = BFGS\n",
    "OPTIMIZATION_PARAMETERS = {\n",
    "    \"FMAX\": FMAX\n",
    "}"
   ],
   "metadata": {
    "collapsed": false
   },
   "execution_count": null
  },
  {
   "cell_type": "markdown",
   "source": [
    "### 2.2. Optimize atomic coordinates of the interface and view energy/step plot"
   ],
   "metadata": {
    "collapsed": false
   }
  },
  {
   "cell_type": "code",
   "outputs": [],
   "source": [
    "from utils.plot import create_realtime_plot, plot_update_callback\n",
    "from mat3ra.made.tools.convert import from_ase\n",
    "\n",
    "# Add calculator to the interface for relaxation\n",
    "ase_interface = to_ase(interface)\n",
    "ase_interface.set_calculator(calculator)\n",
    "\n",
    "dyn = optimizer(ase_interface)\n",
    "steps = []\n",
    "energies = []\n",
    "\n",
    "fig = create_realtime_plot()\n",
    "\n",
    "# Run the relaxation\n",
    "dyn.attach(plot_update_callback(dyn, ase_interface, fig, steps, energies), interval=1)\n",
    "dyn.run(fmax=OPTIMIZATION_PARAMETERS[\"FMAX\"])\n",
    "\n",
    "ase_final_interface = ase_interface\n",
    "final_interface = Material(from_ase(ase_final_interface))"
   ],
   "metadata": {
    "collapsed": false
   },
   "execution_count": null
  },
  {
   "cell_type": "markdown",
   "metadata": {},
   "source": [
    "### 5.3. View structure before and after relaxation"
   ]
  },
  {
   "cell_type": "code",
   "execution_count": null,
   "metadata": {},
   "outputs": [],
   "source": [
    "visualize([{\"material\": interface, \"title\": \"original\"}, {\"material\":final_interface, \"title\":\"relaxed\"}], rotation= \"-90x\", repetitions=[3, 3, 1])\n"
   ]
  },
  {
   "cell_type": "markdown",
   "metadata": {},
   "source": [
    "### 5.4. Calculate energy using ASE EMT\n",
    "The interfacial energy is the sum of the surface energies of the substrate and film minus the adhesion energy. According to Dupré's formula"
   ]
  },
  {
   "cell_type": "code",
   "execution_count": null,
   "metadata": {},
   "outputs": [],
   "source": [
    "from mat3ra.made.tools.calculate import calculate_total_energy, calculate_interfacial_energy\n",
    "\n",
    "original_energy = calculate_total_energy(interface, calculator)\n",
    "relaxed_energy = calculate_total_energy(final_interface, calculator)\n",
    "\n",
    "interfacial_energy = calculate_interfacial_energy(interface=final_interface, substrate_bulk=substrate, film_bulk=film,  calculator=calculator)\n",
    "\n",
    "# Print out the metrics\n",
    "print(f\"Starting interface energy: {original_energy:.4f} eV\")\n",
    "print(f\"Relaxed interface energy: {relaxed_energy:.4f} eV\")\n",
    "print(f\"Interfacial energy: {interfacial_energy:.4f} eV\")"
   ]
  },
  {
   "cell_type": "markdown",
   "source": [
    "## 6. Pass data to the outside runtime"
   ],
   "metadata": {
    "collapsed": false
   }
  },
  {
   "cell_type": "code",
   "outputs": [],
   "source": [
    "from utils.jupyterlite import set_data\n",
    "\n",
    "set_data(\"materials\", [final_interface.to_json()])"
   ],
   "metadata": {
    "collapsed": false
   },
   "execution_count": null
  }
 ],
 "metadata": {
  "kernelspec": {
   "display_name": ".venv",
   "language": "python",
   "name": "python3"
  },
  "language_info": {
   "codemirror_mode": {
    "name": "ipython",
    "version": 3
   },
   "file_extension": ".py",
   "mimetype": "text/x-python",
   "name": "python",
   "nbconvert_exporter": "python",
   "pygments_lexer": "ipython3",
   "version": "3.10.12"
  },
  "widgets": {
   "application/vnd.jupyter.widget-state+json": {
    "state": {},
    "version_major": 2,
    "version_minor": 0
   }
  }
 },
 "nbformat": 4,
 "nbformat_minor": 4
}
