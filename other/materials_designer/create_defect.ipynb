{
 "cells": [
  {
   "cell_type": "markdown",
   "metadata": {},
   "source": [
    "# Add defects to a material\n",
    "\n",
    "Add defects\n",
    "\n",
    "<h2 style=\"color:green\">Usage</h2>\n",
    "\n",
    "1. Make sure to select Input Materials\n",
    "\n",
    "\n",
    "## Methodology\n",
    "\n",
    "The following happens in the script below:\n",
    "\n",
    "\n"
   ]
  },
  {
   "cell_type": "markdown",
   "metadata": {},
   "source": [
    "## 1. Set Input Parameters\n",
    "\n",
    "### 1.1. Select Substrate and Layer from Input Materials"
   ]
  },
  {
   "cell_type": "code",
   "execution_count": 1,
   "metadata": {
    "ExecuteTime": {
     "end_time": "2024-05-06T03:01:44.989800Z",
     "start_time": "2024-05-06T03:01:44.984516Z"
    }
   },
   "outputs": [],
   "source": [
    "# from mat3ra.esse.material.interface import InterfaceSettings\n",
    "# \n",
    "# interface_settings = InterfaceSettings()\n",
    "# Form(interface_settings.schema).show()\n",
    "# interface_settings.SubstrateParameters.miller_indices = (0, 0, 1)\n",
    "# SUBSTRATE_PARAMETERS = {\n",
    "# }\n",
    "\n",
    "# from ipywidgets_jsonschema import Form\n",
    "# form = Form({\n",
    "#     \"title\": \"Interface Settings\",\n",
    "#     \"type\": \"object\",\n",
    "#     \"properties\": {\n",
    "#         \"MILLER_INDICES\": {\n",
    "#             \"type\": \"array\",\n",
    "#             \"items\": {\n",
    "#                 \"type\": \"integer\"\n",
    "#             },\n",
    "#             \"default\": [0, 0, 1],\n",
    "#             \"title\": \"Miller Indices\",\n",
    "#             \"description\": \"The miller indices of the interfacial plane\"\n",
    "#         },\n",
    "#         \"THICKNESS\": {\n",
    "#             \"type\": \"integer\",\n",
    "#             \"default\": 1,\n",
    "#             \"title\": \"Thickness\",\n",
    "#             \"description\": \"in layers\"\n",
    "#         }\n",
    "#     }\n",
    "# \n",
    "# })\n",
    "# form.show()\n",
    "\n",
    "LAYER_PARAMETERS = {\n",
    "    \"MILLER_INDICES\": (0, 0, 1),  # the miller indices of the interfacial plane\n",
    "    \"THICKNESS\": 1,  # in layers\n",
    "}\n",
    "\n",
    "USE_CONVENTIONAL_CELL = True  # if True, the surface plane is constructed using miller indices of the conventional cell\n"
   ]
  },
  {
   "cell_type": "markdown",
   "metadata": {},
   "source": [
    "## 2. Install Packages\n",
    "The step executes only in Pyodide environment. For other environments, the packages should be installed via `pip install` as directed in README."
   ]
  },
  {
   "cell_type": "code",
   "execution_count": 2,
   "metadata": {
    "ExecuteTime": {
     "end_time": "2024-05-06T03:01:44.995909Z",
     "start_time": "2024-05-06T03:01:44.993053Z"
    }
   },
   "outputs": [],
   "source": [
    "import sys\n",
    "if sys.platform == \"emscripten\":\n",
    "    import micropip\n",
    "    await micropip.install('mat3ra-api-examples', deps=False)\n",
    "    from utils.jupyterlite import install_packages\n",
    "    await install_packages(\"create_interface_with_min_strain_zsl.ipynb\",\"../../config.yml\")"
   ]
  },
  {
   "cell_type": "markdown",
   "metadata": {},
   "source": [
    "## 3. Load input Materials\n"
   ]
  },
  {
   "cell_type": "code",
   "outputs": [
    {
     "name": "stdout",
     "output_type": "stream",
     "text": [
      "Data from 0-Ni has been read successfully.\n",
      "Data from 1-Graphene has been read successfully.\n",
      "Data from Si has been read successfully.\n"
     ]
    }
   ],
   "source": [
    "from mat3ra.made.material import Material\n",
    "from utils.jupyterlite import get_data\n",
    "\n",
    "from utils.visualize import visualize\n",
    "\n",
    "# Get the list of input materials and load them into `materials_in` variable\n",
    "get_data(\"materials_in\", globals())\n",
    "materials = list(map(Material, globals()[\"materials_in\"]))\n",
    "# visualize(materials, number_of_repetitions=1)\n",
    "si = materials[2]"
   ],
   "metadata": {
    "collapsed": false,
    "ExecuteTime": {
     "end_time": "2024-05-06T03:01:47.890711Z",
     "start_time": "2024-05-06T03:01:44.998780Z"
    }
   },
   "execution_count": 3
  },
  {
   "cell_type": "markdown",
   "source": [
    "## 4. Create interfaces\n",
    "\n",
    "### 4.1. Extract Interfaces and Terminations\n",
    "\n",
    "Extract all possible layer/substrate supercell combinations within the maximum area including different terminations."
   ],
   "metadata": {
    "collapsed": false
   }
  },
  {
   "cell_type": "code",
   "outputs": [
    {
     "name": "stdout",
     "output_type": "stream",
     "text": [
      "Ge intersitial site at [0.00,0.00,0.00]\n"
     ]
    },
    {
     "data": {
      "text/plain": "<Popen: returncode: None args: ['/Users/mat3ra/code/GREEN/api-examples/.venv...>"
     },
     "execution_count": 4,
     "metadata": {},
     "output_type": "execute_result"
    }
   ],
   "source": [
    "import numpy as np\n",
    "from mat3ra.made.tools.convert import to_pymatgen, from_pymatgen, to_ase\n",
    "from mat3ra.made.tools.modify import wrap_to_unit_cell\n",
    "\n",
    "from pymatgen.analysis.defects.core import Substitution, Vacancy, Interstitial\n",
    "from pymatgen.core import PeriodicSite, Species, Structure\n",
    "silicon = to_pymatgen(si).make_supercell([1, 1, 1])\n",
    "# make a substitution site\n",
    "si0_site = silicon[0]\n",
    "sub_site = PeriodicSite(species=Species(\"Ge\"), coords=si0_site.frac_coords, lattice=silicon.lattice)\n",
    "# instantiate the defect object\n",
    "# substitution_defect = Substitution(structure=silicon, site=sub_site)\n",
    "# vacancy_defect = Vacancy(structure=silicon, site=sub_site)\n",
    "substitution_defect = Interstitial(structure=silicon, site=sub_site)\n",
    "print(substitution_defect)\n",
    "\n",
    "# visualize(material)\n",
    "\n",
    "\n",
    "def translate_structure(structure, fractional_coordinates=[0, 0, 0]):\n",
    "    min_c = min(site.c for site in structure)\n",
    "    translation_vector = fractional_coordinates  # 0.1 to ensure there's a small gap above z=0\n",
    "    translated_structure = structure.copy()\n",
    "    for site in translated_structure:\n",
    "        site.coords += np.dot(translation_vector, structure.lattice.matrix)\n",
    "    return wrap_to_unit_cell(translated_structure)\n",
    "\n",
    "structure = translate_structure(substitution_defect.defect_structure, [0.5, 0.5, 0.5])\n",
    "material = from_pymatgen(structure)\n",
    "from ase.visualize import view\n",
    "view(to_ase(material))"
   ],
   "metadata": {
    "collapsed": false,
    "ExecuteTime": {
     "end_time": "2024-05-06T03:01:49.159930Z",
     "start_time": "2024-05-06T03:01:47.893366Z"
    }
   },
   "execution_count": 4
  },
  {
   "cell_type": "code",
   "outputs": [
    {
     "data": {
      "text/plain": "<Popen: returncode: None args: ['/Users/mat3ra/code/GREEN/api-examples/.venv...>"
     },
     "execution_count": 5,
     "metadata": {},
     "output_type": "execute_result"
    }
   ],
   "source": [
    "from pymatgen.analysis.defects.generators import (\n",
    "    generate_all_native_defects, VoronoiInterstitialGenerator\n",
    ")\n",
    "generator = VoronoiInterstitialGenerator(        \n",
    "        clustering_tol = 0.1,\n",
    "        min_dist = 0.1,\n",
    "        ltol = 0.1,\n",
    "        stol = 0.1,\n",
    "        angle_tol = 1\n",
    ")\n",
    "\n",
    "defects = generator.get_defects(silicon, insert_species=[\"Ge\"])\n",
    "view(to_ase(from_pymatgen(defects[1].defect_structure))*[2,2,2])\n",
    "# for defect in generate_all_native_defects(silicon, int_generator=generator):\n",
    "#     print(defect)"
   ],
   "metadata": {
    "collapsed": false,
    "ExecuteTime": {
     "end_time": "2024-05-06T03:01:49.450647Z",
     "start_time": "2024-05-06T03:01:49.163982Z"
    }
   },
   "execution_count": 5
  },
  {
   "cell_type": "code",
   "outputs": [
    {
     "name": "stdout",
     "output_type": "stream",
     "text": [
      "[Ge intersitial site at [0.13,0.62,0.11], Ge intersitial site at [0.50,0.50,0.10], Ge intersitial site at [0.62,0.63,0.14], Ge intersitial site at [0.75,0.75,0.12], Ge intersitial site at [0.63,0.62,0.08], Ge intersitial site at [0.63,0.63,0.21]]\n"
     ]
    },
    {
     "data": {
      "text/plain": "GridBox(children=(VBox(children=(Label(value='GeSi6 - Material 0', layout=Layout(height='30px', overflow='hidd…",
      "application/vnd.jupyter.widget-view+json": {
       "version_major": 2,
       "version_minor": 0,
       "model_id": "ce27054f658842508a3c8c2a37d0361e"
      }
     },
     "metadata": {},
     "output_type": "display_data"
    }
   ],
   "source": [
    "from pymatgen.core.surface import SlabGenerator\n",
    "import json\n",
    "from pymatgen.analysis.defects.generators import (\n",
    "    generate_all_native_defects, VoronoiInterstitialGenerator\n",
    ")\n",
    "generator = VoronoiInterstitialGenerator(        \n",
    "        clustering_tol = 0.1,\n",
    "        min_dist = 0.1,\n",
    "        ltol = 0.1,\n",
    "        stol = 0.1,\n",
    "        angle_tol = 1\n",
    ")\n",
    "slab_json = \"\"\"\n",
    "{\"name\":\"Silicon FCC - slab [1,0,0]\",\"basis\":{\"elements\":[{\"id\":0,\"value\":\"Si\"},{\"id\":1,\"value\":\"Si\"},{\"id\":2,\"value\":\"Si\"},{\"id\":3,\"value\":\"Si\"},{\"id\":4,\"value\":\"Si\"},{\"id\":5,\"value\":\"Si\"}],\"coordinates\":[{\"id\":0,\"value\":[0,0,0]},{\"id\":1,\"value\":[0,0,0.06666667]},{\"id\":2,\"value\":[0,0,0.1333333]},{\"id\":3,\"value\":[0.2500001,0.25,0.01666666]},{\"id\":4,\"value\":[0.2500001,0.25,0.08333333]},{\"id\":5,\"value\":[0.2500001,0.25,0.15]}],\"units\":\"crystal\",\"cell\":[[3.34892,0,1.9335],[1.116307,3.157392,1.9335],[0,0,58.005]],\"constraints\":[]},\"lattice\":{\"a\":3.867,\"b\":3.867,\"c\":58.005,\"alpha\":60,\"beta\":60,\"gamma\":60,\"units\":{\"length\":\"angstrom\",\"angle\":\"degree\"},\"type\":\"TRI\",\"vectors\":{\"a\":[3.34892,0,1.9335],\"b\":[1.116307,3.157392,1.9335],\"c\":[0,0,58.005],\"alat\":1,\"units\":\"angstrom\"}},\"isNonPeriodic\":false,\"metadata\":{\"isSlab\":true,\"h\":1,\"k\":0,\"l\":0,\"thickness\":3,\"vacuumRatio\":0.8,\"vx\":1,\"vy\":1},\"_id\":\"\",\"isUpdated\":true}\n",
    "\"\"\"\n",
    "material_slab = Material(json.loads(slab_json))\n",
    "silicon_slab = to_pymatgen(material_slab)\n",
    "defects = generator.get_defects(silicon_slab, insert_species=[\"Ge\"])\n",
    "\n",
    "\n",
    "generator = VoronoiInterstitialGenerator(        \n",
    "        clustering_tol = 0.1,\n",
    "        min_dist = 0.1,\n",
    "        ltol = 0.1,\n",
    "        stol = 0.1,\n",
    "        angle_tol = 1\n",
    ")\n",
    "defects = generator.get_defects(silicon_slab, insert_species=[\"Ge\"])\n",
    "# visualize(material_slab, rotation=\"-90x\")\n",
    "# view(to_ase(from_pymatgen(silicon_slab)))\n",
    "print(defects)\n",
    "view(to_ase(from_pymatgen(defects[1].defect_structure))*[1,1,1])\n",
    "visualize(from_pymatgen(defects[1].defect_structure), rotation=\"-90x\")\n",
    "# for defect in generate_all_native_defects(silicon, int_generator=generator):\n",
    "#     print(defect)"
   ],
   "metadata": {
    "collapsed": false,
    "ExecuteTime": {
     "end_time": "2024-05-06T03:01:51.213836Z",
     "start_time": "2024-05-06T03:01:49.455894Z"
    }
   },
   "execution_count": 6
  },
  {
   "cell_type": "code",
   "outputs": [
    {
     "name": "stdout",
     "output_type": "stream",
     "text": [
      "[Ge intersitial site at [0.75,0.75,0.12], Ge intersitial site at [0.00,0.00,0.13], Ge intersitial site at [0.96,0.96,0.61]]\n"
     ]
    },
    {
     "data": {
      "text/plain": "GridBox(children=(VBox(children=(Label(value='GeSi2 - Material 0', layout=Layout(height='30px', overflow='hidd…",
      "application/vnd.jupyter.widget-view+json": {
       "version_major": 2,
       "version_minor": 0,
       "model_id": "88a201923cb147edbc16f6f7137dca62"
      }
     },
     "metadata": {},
     "output_type": "display_data"
    }
   ],
   "source": [
    "from pymatgen.core.surface import SlabGenerator\n",
    "import json\n",
    "from pymatgen.analysis.defects.generators import (\n",
    "    generate_all_native_defects, VoronoiInterstitialGenerator\n",
    ")\n",
    "generator = VoronoiInterstitialGenerator(        \n",
    "        clustering_tol = 0.1,\n",
    "        min_dist = 0.1,\n",
    "        ltol = 0.1,\n",
    "        stol = 0.1,\n",
    "        angle_tol = 1\n",
    ")\n",
    "slab_json = \"\"\"\n",
    "{\"name\":\"Silicon FCC - slab [1,0,0]\",\"basis\":{\"elements\":[{\"id\":4,\"value\":\"Si\"},{\"id\":5,\"value\":\"Si\"}],\"coordinates\":[{\"id\":4,\"value\":[0.2500001,0.25,0.08333333]},{\"id\":5,\"value\":[0.2500001,0.25,0.15]}],\"units\":\"crystal\",\"cell\":[[3.34892,0,1.9335],[1.116307,3.157392,1.9335],[0,0,58.005]],\"constraints\":[]},\"lattice\":{\"a\":3.867,\"b\":3.867,\"c\":58.005,\"alpha\":60,\"beta\":60,\"gamma\":60,\"units\":{\"length\":\"angstrom\",\"angle\":\"degree\"},\"type\":\"TRI\",\"vectors\":{\"a\":[3.34892,0,1.9335],\"b\":[1.116307,3.157392,1.9335],\"c\":[0,0,58.005],\"alat\":1,\"units\":\"angstrom\"}},\"isNonPeriodic\":false,\"metadata\":{\"isSlab\":true,\"h\":1,\"k\":0,\"l\":0,\"thickness\":3,\"vacuumRatio\":0.8,\"vx\":1,\"vy\":1},\"_id\":\"\",\"isUpdated\":true}\n",
    "\"\"\"\n",
    "material_slab = Material(json.loads(slab_json))\n",
    "silicon_slab = to_pymatgen(material_slab)\n",
    "defects = generator.get_defects(silicon_slab, insert_species=[\"Ge\"])\n",
    "\n",
    "\n",
    "generator = VoronoiInterstitialGenerator(        \n",
    "        clustering_tol = 0.1,\n",
    "        min_dist = 0.1,\n",
    "        ltol = 0.1,\n",
    "        stol = 0.1,\n",
    "        angle_tol = 1\n",
    ")\n",
    "defects = generator.get_defects(silicon_slab, insert_species=[\"Ge\"])\n",
    "# visualize(material_slab, rotation=\"-90x\")\n",
    "# view(to_ase(from_pymatgen(silicon_slab)))\n",
    "print(defects)\n",
    "view(to_ase(from_pymatgen(defects[1].defect_structure))*[1,1,1])\n",
    "visualize(([from_pymatgen(d.defect_structure) for d in defects]), rotation=\"-90x\")\n",
    "# for defect in generate_all_native_defects(silicon, int_generator=generator):\n",
    "#     print(defect)"
   ],
   "metadata": {
    "collapsed": false,
    "ExecuteTime": {
     "end_time": "2024-05-06T03:01:52.178812Z",
     "start_time": "2024-05-06T03:01:51.219753Z"
    }
   },
   "execution_count": 7
  },
  {
   "cell_type": "markdown",
   "metadata": {},
   "source": [
    "### 4.2. Print out the interfaces and terminations"
   ]
  },
  {
   "cell_type": "markdown",
   "metadata": {},
   "source": [
    "### 4.2. Print out interfaces with the lowest strain for each termination"
   ]
  },
  {
   "cell_type": "markdown",
   "source": [
    "### 6.2. Visualize the selected interface(s)"
   ],
   "metadata": {
    "collapsed": false
   }
  },
  {
   "cell_type": "code",
   "outputs": [
    {
     "ename": "NameError",
     "evalue": "name 'selected_interfaces' is not defined",
     "output_type": "error",
     "traceback": [
      "\u001B[0;31m---------------------------------------------------------------------------\u001B[0m",
      "\u001B[0;31mNameError\u001B[0m                                 Traceback (most recent call last)",
      "Cell \u001B[0;32mIn[8], line 2\u001B[0m\n\u001B[1;32m      1\u001B[0m \u001B[38;5;28;01mfrom\u001B[39;00m \u001B[38;5;21;01mutils\u001B[39;00m\u001B[38;5;21;01m.\u001B[39;00m\u001B[38;5;21;01mvisualize\u001B[39;00m \u001B[38;5;28;01mimport\u001B[39;00m visualize\n\u001B[0;32m----> 2\u001B[0m visualize(\u001B[43mselected_interfaces\u001B[49m, number_of_repetitions\u001B[38;5;241m=\u001B[39m\u001B[38;5;241m1\u001B[39m)\n",
      "\u001B[0;31mNameError\u001B[0m: name 'selected_interfaces' is not defined"
     ]
    }
   ],
   "source": [
    "from utils.visualize import visualize\n",
    "visualize(selected_interfaces, number_of_repetitions=1)"
   ],
   "metadata": {
    "collapsed": false,
    "ExecuteTime": {
     "end_time": "2024-05-06T03:01:53.228175Z",
     "start_time": "2024-05-06T03:01:52.194990Z"
    }
   },
   "execution_count": 8
  },
  {
   "cell_type": "markdown",
   "metadata": {},
   "source": [
    "### 6.3. Pass data to the outside runtime\n"
   ]
  },
  {
   "cell_type": "code",
   "execution_count": null,
   "metadata": {
    "ExecuteTime": {
     "start_time": "2024-05-06T03:01:53.226936Z"
    }
   },
   "outputs": [],
   "source": [
    "from utils.jupyterlite import set_data\n",
    "set_data(\"materials\", selected_interfaces)"
   ]
  }
 ],
 "metadata": {
  "kernelspec": {
   "display_name": ".venv",
   "language": "python",
   "name": "python3"
  },
  "language_info": {
   "codemirror_mode": {
    "name": "ipython",
    "version": 3
   },
   "file_extension": ".py",
   "mimetype": "text/x-python",
   "name": "python",
   "nbconvert_exporter": "python",
   "pygments_lexer": "ipython3",
   "version": "3.10.12"
  },
  "widgets": {
   "application/vnd.jupyter.widget-state+json": {
    "state": {},
    "version_major": 2,
    "version_minor": 0
   }
  }
 },
 "nbformat": 4,
 "nbformat_minor": 4
}
