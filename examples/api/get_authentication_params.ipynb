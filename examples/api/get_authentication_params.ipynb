{
 "cells": [
  {
   "cell_type": "markdown",
   "metadata": {},
   "source": [
    "# Overview\n",
    "\n",
    "Logins in to Exabyte RESTFul API via [login](https://docs.exabyte.io/api/) endpoint and generates API authentication parameters."
   ]
  },
  {
   "cell_type": "markdown",
   "metadata": {},
   "source": [
    "1. Import required packages. Adjust [settings](../settings.ipynb) as necessary."
   ]
  },
  {
   "cell_type": "code",
   "execution_count": 5,
   "metadata": {},
   "outputs": [],
   "source": [
    "import json\n",
    "import argparse\n",
    "import nbimporter\n",
    "nbimporter.options['only_defs'] = False\n",
    "\n",
    "from settings import *\n",
    "from endpoints.login import LoginEndpoint"
   ]
  },
  {
   "cell_type": "markdown",
   "metadata": {},
   "source": [
    "2. Set Parameters\n",
    "\n",
    "    - **USERNAME**: Your Exabyte account username.\n",
    "\n",
    "    - **PASSWORD**: Your Exabyte account password."
   ]
  },
  {
   "cell_type": "code",
   "execution_count": 2,
   "metadata": {},
   "outputs": [],
   "source": [
    "USERNAME = \"demo\"\n",
    "PASSWORD = \"demo\""
   ]
  },
  {
   "cell_type": "markdown",
   "metadata": {},
   "source": [
    "3. Initialize `LoginEndpoint` and call `login` method to generate authentication parameters."
   ]
  },
  {
   "cell_type": "code",
   "execution_count": 3,
   "metadata": {},
   "outputs": [],
   "source": [
    "endpoint = LoginEndpoint(HOST, PORT, USERNAME, PASSWORD, VERSION, SECURE)\n",
    "auth_params = endpoint.login()"
   ]
  },
  {
   "cell_type": "markdown",
   "metadata": {},
   "source": [
    "4. Print the authentication parameters in pretty JSON below. Save them securely as they are required in other calls to the API."
   ]
  },
  {
   "cell_type": "code",
   "execution_count": 4,
   "metadata": {
    "scrolled": true
   },
   "outputs": [
    {
     "name": "stdout",
     "output_type": "stream",
     "text": [
      "{\n",
      "    \"X-Account-Id\": \"8nRSiEbyTvW4MRHrz\", \n",
      "    \"X-Auth-Token\": \"pG7LmqIujj6uLQizwI-wA6yYYtDbiKIo-Oo2IlBX7b1\"\n",
      "}\n"
     ]
    }
   ],
   "source": [
    "print json.dumps(auth_params, indent=4)"
   ]
  }
 ],
 "metadata": {
  "kernelspec": {
   "display_name": "Python 2",
   "language": "python",
   "name": "python2"
  },
  "language_info": {
   "codemirror_mode": {
    "name": "ipython",
    "version": 2
   },
   "file_extension": ".py",
   "mimetype": "text/x-python",
   "name": "python",
   "nbconvert_exporter": "python",
   "pygments_lexer": "ipython2",
   "version": "2.7.10"
  }
 },
 "nbformat": 4,
 "nbformat_minor": 2
}
