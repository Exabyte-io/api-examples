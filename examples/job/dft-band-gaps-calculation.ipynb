version https://git-lfs.github.com/spec/v1
oid sha256:9b08c3ca43eafda675be7de43c1c95c307d76e6653d193b162dc8cec46d37274
size 24882
