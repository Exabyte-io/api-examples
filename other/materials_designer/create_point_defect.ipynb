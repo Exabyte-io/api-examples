{
 "cells": [
  {
   "cell_type": "markdown",
   "source": [
    "# Create point defects in a bulk material\n",
    "\n",
    "Create a vacancy, add substitution or interstitial atom to provided Material.\n",
    "\n",
    "<h2 style=\"color:green\">Usage</h2>\n",
    "\n",
    "1. Make sure to select Input Materials (in the outer runtime) before running the notebook.\n",
    "1. Set notebook parameters in cell 1.1. below (or use the default values).\n",
    "1. Set defects parameters in cell 2.1. (or use default).\n",
    "1. Click “Run” > “Run All” to run all cells. \n",
    "1. Wait for the run to complete (depending on the parameters can take a few min). \n",
    "1. Scroll down to view results. \n",
    "\n",
    "## Summary\n",
    "1. Prepare the Environment: Set up the notebook and install packages, preview the input materials\n",
    "1. Create the Defect: Add a vacancy defect to the bulk structure\n",
    "2. Visualize the Defect: Visualize the defect structure\n",
    "\n",
    "## Notes\n",
    "\n",
    "1. For more information, see [Introduction](Introduction.ipynb)\n",
    "<!-- # TODO: use a hashtag-based anchor link to interface creation documention above -->\n"
   ],
   "metadata": {
    "collapsed": false
   },
   "id": "f2e1e795020d7b3f"
  },
  {
   "cell_type": "markdown",
   "source": [
    "## 1. Prepare the Environment\n",
    "### 1.1. Set up defect parameters "
   ],
   "metadata": {
    "collapsed": false
   },
   "id": "5e43ff288847b784"
  },
  {
   "cell_type": "code",
   "outputs": [],
   "source": [
    "DEFECT_TYPE = \"substitution\"  # (e.g. \"vacancy\", \"substitution\", \"interstitial\")\n",
    "SITE_ID = None  # Site index of the defect\n",
    "COORDINATE = None  # Position of the defect in crystal coordinates\n",
    "APPROXIMATE_COORDINATE = None  # Approximate coordinates of the defect in crystal coordinates\n",
    "CHEMICAL_ELEMENT = \"C\"  # Element to be placed at the site (ignored for vacancy)\n",
    "SUPERCELL_MATRIX = [[3, 0, 0], [0, 3, 0], [0, 0, 3]]"
   ],
   "metadata": {
    "collapsed": false,
    "ExecuteTime": {
     "end_time": "2024-10-10T18:08:01.388926Z",
     "start_time": "2024-10-10T18:08:01.382117Z"
    }
   },
   "id": "9d8b1890b34d850a",
   "execution_count": 1
  },
  {
   "cell_type": "markdown",
   "source": [
    "### 1.2. Install Packages\n",
    "The step executes only in Pyodide environment. For other environments, the packages should be installed via `pip install` (see [README](../../README.ipynb))."
   ],
   "metadata": {
    "collapsed": false
   },
   "id": "bb64de5ff32649f8"
  },
  {
   "cell_type": "code",
   "outputs": [],
   "source": [
    "import sys\n",
    "\n",
    "if sys.platform == \"emscripten\":\n",
    "    import micropip\n",
    "\n",
    "    await micropip.install('mat3ra-api-examples', deps=False)\n",
    "    from utils.jupyterlite import install_packages\n",
    "\n",
    "    await install_packages(\"create_point_defect.ipynb\", \"../../config.yml\")"
   ],
   "metadata": {
    "collapsed": false,
    "ExecuteTime": {
     "end_time": "2024-10-10T18:08:01.403675Z",
     "start_time": "2024-10-10T18:08:01.400752Z"
    }
   },
   "id": "ef664b14457530fd",
   "execution_count": 2
  },
  {
   "cell_type": "markdown",
   "source": [
    "### 1.3. Get input materials\n",
    "Materials are loaded with `get_materials()`."
   ],
   "metadata": {
    "collapsed": false
   },
   "id": "919ad7af8dceeedd"
  },
  {
   "cell_type": "code",
   "outputs": [
    {
     "name": "stdout",
     "output_type": "stream",
     "text": [
      "0: Data from 0-Ni has been read successfully.\n",
      "1: Data from 1-Graphene has been read successfully.\n",
      "2: Data from 10-Al2O3, Sapphire, RHL (R-3c) 3D (Bulk), mp-1143 (1) has been read successfully.\n",
      "3: Data from 11-ZnO, Zinc Oxide, HEX (P6_3mc) 3D (Bulk), mp-2133 has been read successfully.\n",
      "4: Data from 12-Cd4 Te4 has been read successfully.\n",
      "5: Data from 13-Si4 C4 has been read successfully.\n",
      "6: Data from 14-GaN, Gallium Nitride, HEX (P6_3mc) 3D (Bulk), mp-804 has been read successfully.\n",
      "7: Data from 15-WS2, Tungsten Disulfide, HEX (P-6m2) 2D (Monolayer), 2dm-3749 has been read successfully.\n",
      "8: Data from 4-Te2Mo has been read successfully.\n",
      "9: Data from 5-HfO2 has been read successfully.\n",
      "10: Data from 6-Ni4(110), termination Ni_Pmmm_2, Slab, Terrace, 1 steps, [2 0 0] has been read successfully.\n",
      "11: Data from 7-Ag4 has been read successfully.\n",
      "12: Data from 8-Si, Silicene, HEX (P-3m1) 2D (Monolayer), 2dm-5934 has been read successfully.\n",
      "13: Data from 9-GaAs, Gallium Arsenide, FCC (F-43m) 3D (Bulk), mp-2534 has been read successfully.\n",
      "14: Data from C2(001)-Ni4(111), Interface, Strain 0.105pct has been read successfully.\n",
      "15: Data from C2(001)-Ni4(111), Interface has been read successfully.\n",
      "16: Data from C49 N1, Substitution N Defect has been read successfully.\n",
      "17: Data from Cu1 Ni26, Substitution Cu Defect has been read successfully.\n",
      "18: Data from Cu1 Ni27, Interstitial Cu Defect has been read successfully.\n",
      "19: Data from Ga2N2(001)-C4Si4(111), Interface, Strain 0.082pct has been read successfully.\n",
      "20: Data from Heterostructure_M0_M1_M2 has been read successfully.\n",
      "21: Data from Ni, Nickel, FCC (Fm-3m) 3D (Bulk), mp-23 (Perturbation: PerturbationFunctionHolder) has been read successfully.\n",
      "22: Data from Ni, Nickel, FCC (Fm-3m) 3D (Bulk), mp-23 (Perturbation: SineWavePerturbationFunctionHolder) has been read successfully.\n",
      "23: Data from Ni, Nickel, FCC (Fm-3m) 3D (Bulk), mp-23 - Graphene - Al2O3, Sapphire, RHL (R-3c) 3D (Bulk), mp-1143 - Heterostructure has been read successfully.\n",
      "24: Data from Ni26 C1, Substitution C Defect has been read successfully.\n",
      "25: Data from Ni27 C1, Interstitial C Defect has been read successfully.\n",
      "26: Data from Ni4(111), termination Ni_P6:mmm_4, Slab Island Island Passivated has been read successfully.\n",
      "27: Data from Ni4(111), termination Ni_P6:mmm_4, Slab Island Island has been read successfully.\n",
      "28: Data from Ni4(111), termination Ni_P6:mmm_4, Slab Island Surface Atoms Surface Atoms has been read successfully.\n",
      "29: Data from Ni4(111), termination Ni_P6:mmm_4, Slab, Adatom Ni Defect has been read successfully.\n",
      "Retrieved 30 materials.\n"
     ]
    }
   ],
   "source": [
    "from utils.jupyterlite import get_materials\n",
    "\n",
    "materials = get_materials(globals())"
   ],
   "metadata": {
    "collapsed": false,
    "ExecuteTime": {
     "end_time": "2024-10-10T18:08:02.019340Z",
     "start_time": "2024-10-10T18:08:01.405524Z"
    }
   },
   "id": "be38fdda1984c654",
   "execution_count": 3
  },
  {
   "cell_type": "markdown",
   "source": [
    "### 1.4. Create and preview Supercell"
   ],
   "metadata": {
    "collapsed": false
   },
   "id": "a132fe0ef8bbf0d0"
  },
  {
   "cell_type": "code",
   "outputs": [
    {
     "data": {
      "text/plain": "GridBox(children=(VBox(children=(Label(value='Ni27 - Material - rotation: 0x', layout=Layout(align_self='cente…",
      "application/vnd.jupyter.widget-view+json": {
       "version_major": 2,
       "version_minor": 0,
       "model_id": "29256ba575d7458298db76fae962b7a3"
      }
     },
     "metadata": {},
     "output_type": "display_data"
    }
   ],
   "source": [
    "from utils.visualize import visualize_materials as visualize\n",
    "from mat3ra.made.tools.build.supercell import create_supercell\n",
    "\n",
    "unit_cell = materials[0]\n",
    "supercell = create_supercell(unit_cell, supercell_matrix=SUPERCELL_MATRIX)\n",
    "visualize(supercell, repetitions=[1, 1, 1], rotation=\"0x\")"
   ],
   "metadata": {
    "collapsed": false,
    "ExecuteTime": {
     "end_time": "2024-10-10T18:08:08.412045Z",
     "start_time": "2024-10-10T18:08:02.021620Z"
    }
   },
   "id": "e2d24109d3068c9e",
   "execution_count": 4
  },
  {
   "cell_type": "markdown",
   "source": [
    "## 2. Create the Defect\n",
    "### 2.1. Set defect parameters"
   ],
   "metadata": {
    "collapsed": false
   },
   "id": "5da5b0380583c952"
  },
  {
   "cell_type": "code",
   "outputs": [],
   "source": [
    "from mat3ra.made.tools.build.defect import PointDefectConfiguration\n",
    "from mat3ra.made.tools.build.defect.builders import PointDefectBuilderParameters\n",
    "\n",
    "defect_configuration = PointDefectConfiguration.from_site_id(crystal=supercell, \n",
    "                                                             defect_type=DEFECT_TYPE, \n",
    "                                                             site_id=0,\n",
    "                                                             chemical_element=CHEMICAL_ELEMENT)\n",
    "if SITE_ID is not None:\n",
    "    defect_configuration = PointDefectConfiguration.from_site_id(crystal=supercell, \n",
    "                                                                 defect_type=DEFECT_TYPE,\n",
    "                                                                 site_id=SITE_ID, \n",
    "                                                                 chemical_element=CHEMICAL_ELEMENT)\n",
    "elif COORDINATE is not None:\n",
    "    defect_configuration = PointDefectConfiguration(crystal=supercell, \n",
    "                                                    defect_type=DEFECT_TYPE, \n",
    "                                                    coordinate=COORDINATE,\n",
    "                                                    chemical_element=CHEMICAL_ELEMENT)\n",
    "elif APPROXIMATE_COORDINATE is not None:\n",
    "    defect_configuration = PointDefectConfiguration.from_approximate_position(crystal=supercell,\n",
    "                                                                              defect_type=DEFECT_TYPE,\n",
    "                                                                              approximate_coordinate=APPROXIMATE_COORDINATE,\n",
    "                                                                              chemical_element=CHEMICAL_ELEMENT)\n",
    "defect_configurations = [defect_configuration]\n",
    "defect_builder_parameters = PointDefectBuilderParameters(center_defect=False)"
   ],
   "metadata": {
    "collapsed": false,
    "ExecuteTime": {
     "end_time": "2024-10-10T18:08:08.480156Z",
     "start_time": "2024-10-10T18:08:08.414950Z"
    }
   },
   "id": "e385e50ae11ed2b9",
   "execution_count": 5
  },
  {
   "cell_type": "markdown",
   "source": [
    "### 2.2. Create the defects"
   ],
   "metadata": {
    "collapsed": false
   },
   "id": "489b51f0ee122c48"
  },
  {
   "cell_type": "code",
   "outputs": [],
   "source": [
    "from mat3ra.made.tools.build.defect import create_defects\n",
    "\n",
    "material_with_defect = create_defects(builder_parameters=defect_builder_parameters, configurations=defect_configurations)"
   ],
   "metadata": {
    "collapsed": false,
    "ExecuteTime": {
     "end_time": "2024-10-10T18:08:08.573154Z",
     "start_time": "2024-10-10T18:08:08.483401Z"
    }
   },
   "id": "a990fa35742d7269",
   "execution_count": 6
  },
  {
   "cell_type": "markdown",
   "source": [
    "## 3. Visualize the Defects"
   ],
   "metadata": {
    "collapsed": false
   },
   "id": "462549d016073446"
  },
  {
   "cell_type": "code",
   "outputs": [
    {
     "data": {
      "text/plain": "GridBox(children=(VBox(children=(Label(value='Ni27 - Original material - rotation: -90x', layout=Layout(align_…",
      "application/vnd.jupyter.widget-view+json": {
       "version_major": 2,
       "version_minor": 0,
       "model_id": "6e8ebb0583bb4c7483033a1863e5ec41"
      }
     },
     "metadata": {},
     "output_type": "display_data"
    },
    {
     "data": {
      "text/plain": "GridBox(children=(VBox(children=(Label(value='Ni27 - Original material - rotation: 0x,0y,0z', layout=Layout(al…",
      "application/vnd.jupyter.widget-view+json": {
       "version_major": 2,
       "version_minor": 0,
       "model_id": "5620238f96c44fe1902a527e89442c2c"
      }
     },
     "metadata": {},
     "output_type": "display_data"
    }
   ],
   "source": [
    "from utils.visualize import visualize_materials as visualize\n",
    "\n",
    "visualize([{\"material\": supercell, \"title\": \"Original material\"},\n",
    "           {\"material\": material_with_defect, \"title\": f\"Material with defect\"}],\n",
    "          rotation=\"-90x\")\n",
    "visualize([{\"material\": supercell, \"title\": \"Original material\"},\n",
    "           {\"material\": material_with_defect, \"title\": f\"Material with defect\"}])"
   ],
   "metadata": {
    "collapsed": false,
    "ExecuteTime": {
     "end_time": "2024-10-10T18:08:08.779332Z",
     "start_time": "2024-10-10T18:08:08.575393Z"
    }
   },
   "id": "509b18661a069e42",
   "execution_count": 7
  },
  {
   "cell_type": "markdown",
   "source": [
    "## 4. Pass data to the outside runtime"
   ],
   "metadata": {
    "collapsed": false
   },
   "id": "d381df29a6bbdd82"
  },
  {
   "cell_type": "code",
   "outputs": [
    {
     "name": "stdout",
     "output_type": "stream",
     "text": [
      "Data for materials written to uploads/Ni26 C1, Substitution C Defect.json\n"
     ]
    }
   ],
   "source": [
    "from utils.jupyterlite import set_materials\n",
    "\n",
    "set_materials([material_with_defect])"
   ],
   "metadata": {
    "collapsed": false
   },
   "id": "61daa5afcbc078a9",
   "execution_count": 8
  }
 ],
 "metadata": {
  "kernelspec": {
   "display_name": "Python 3",
   "language": "python",
   "name": "python3"
  },
  "language_info": {
   "codemirror_mode": {
    "name": "ipython",
    "version": 2
   },
   "file_extension": ".py",
   "mimetype": "text/x-python",
   "name": "python",
   "nbconvert_exporter": "python",
   "pygments_lexer": "ipython2",
   "version": "2.7.6"
  }
 },
 "nbformat": 4,
 "nbformat_minor": 5
}
