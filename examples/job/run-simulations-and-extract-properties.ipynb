version https://git-lfs.github.com/spec/v1
oid sha256:44f195c9696e4410b9ddd36931b379faa1d11800d9ac52b106da2ab7110b4d87
size 41451
