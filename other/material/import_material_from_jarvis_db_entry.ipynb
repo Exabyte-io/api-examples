{
  "cells": [
    {
      "cell_type": "markdown",
      "source": [
        "<a href=\"https://colab.research.google.com/github/Exabyte-io/api-examples/blob/dev/other/material/import_material_from_jarvis_db_entry.ipynb\" target=\"_parent\">\n",
        "<img alt=\"Open in Google Colab\" src=\"https://user-images.githubusercontent.com/20477508/128780728-491fea90-9b23-495f-a091-11681150db37.jpeg\" width=\"150\" border=\"0\">\n",
        "</a>"
      ],
      "metadata": {
        "collapsed": false,
        "id": "3c567b6400249971"
      },
      "id": "3c567b6400249971"
    },
    {
      "cell_type": "markdown",
      "source": [
        "## Install Packages\n",
        "First, install `express-py` which includes `jarvis-tools` as dependency."
      ],
      "metadata": {
        "collapsed": false,
        "id": "8b00ab6854f2263b"
      },
      "id": "8b00ab6854f2263b"
    },
    {
      "cell_type": "code",
      "execution_count": 1,
      "outputs": [
        {
          "output_type": "stream",
          "name": "stdout",
          "text": [
            "\u001b[2K     \u001b[90m━━━━━━━━━━━━━━━━━━━━━━━━━━━━━━━━━━━━━━━━\u001b[0m \u001b[32m82.6/82.6 kB\u001b[0m \u001b[31m1.5 MB/s\u001b[0m eta \u001b[36m0:00:00\u001b[0m\n",
            "\u001b[2K     \u001b[90m━━━━━━━━━━━━━━━━━━━━━━━━━━━━━━━━━━━━━━━━\u001b[0m \u001b[32m10.0/10.0 MB\u001b[0m \u001b[31m41.5 MB/s\u001b[0m eta \u001b[36m0:00:00\u001b[0m\n",
            "\u001b[2K     \u001b[90m━━━━━━━━━━━━━━━━━━━━━━━━━━━━━━━━━━━━━━━━\u001b[0m \u001b[32m2.2/2.2 MB\u001b[0m \u001b[31m49.1 MB/s\u001b[0m eta \u001b[36m0:00:00\u001b[0m\n",
            "\u001b[2K     \u001b[90m━━━━━━━━━━━━━━━━━━━━━━━━━━━━━━━━━━━━━━━━\u001b[0m \u001b[32m105.3/105.3 kB\u001b[0m \u001b[31m10.3 MB/s\u001b[0m eta \u001b[36m0:00:00\u001b[0m\n",
            "\u001b[2K     \u001b[90m━━━━━━━━━━━━━━━━━━━━━━━━━━━━━━━━━━━━━━━━\u001b[0m \u001b[32m29.4/29.4 MB\u001b[0m \u001b[31m31.0 MB/s\u001b[0m eta \u001b[36m0:00:00\u001b[0m\n",
            "\u001b[2K     \u001b[90m━━━━━━━━━━━━━━━━━━━━━━━━━━━━━━━━━━━━━━━━\u001b[0m \u001b[32m975.7/975.7 kB\u001b[0m \u001b[31m24.8 MB/s\u001b[0m eta \u001b[36m0:00:00\u001b[0m\n",
            "\u001b[2K     \u001b[90m━━━━━━━━━━━━━━━━━━━━━━━━━━━━━━━━━━━━━━━━\u001b[0m \u001b[32m17.1/17.1 MB\u001b[0m \u001b[31m69.2 MB/s\u001b[0m eta \u001b[36m0:00:00\u001b[0m\n",
            "\u001b[2K     \u001b[90m━━━━━━━━━━━━━━━━━━━━━━━━━━━━━━━━━━━━━━━━\u001b[0m \u001b[32m807.7/807.7 kB\u001b[0m \u001b[31m57.5 MB/s\u001b[0m eta \u001b[36m0:00:00\u001b[0m\n",
            "\u001b[2K     \u001b[90m━━━━━━━━━━━━━━━━━━━━━━━━━━━━━━━━━━━━━━━━\u001b[0m \u001b[32m8.7/8.7 MB\u001b[0m \u001b[31m95.1 MB/s\u001b[0m eta \u001b[36m0:00:00\u001b[0m\n",
            "\u001b[2K     \u001b[90m━━━━━━━━━━━━━━━━━━━━━━━━━━━━━━━━━━━━━━━━\u001b[0m \u001b[32m63.1/63.1 kB\u001b[0m \u001b[31m8.0 MB/s\u001b[0m eta \u001b[36m0:00:00\u001b[0m\n",
            "\u001b[2K     \u001b[90m━━━━━━━━━━━━━━━━━━━━━━━━━━━━━━━━━━━━━━━━\u001b[0m \u001b[32m10.0/10.0 MB\u001b[0m \u001b[31m31.8 MB/s\u001b[0m eta \u001b[36m0:00:00\u001b[0m\n",
            "\u001b[2K     \u001b[90m━━━━━━━━━━━━━━━━━━━━━━━━━━━━━━━━━━━━━━━━\u001b[0m \u001b[32m10.0/10.0 MB\u001b[0m \u001b[31m87.5 MB/s\u001b[0m eta \u001b[36m0:00:00\u001b[0m\n",
            "\u001b[2K     \u001b[90m━━━━━━━━━━━━━━━━━━━━━━━━━━━━━━━━━━━━━━━━\u001b[0m \u001b[32m10.0/10.0 MB\u001b[0m \u001b[31m13.5 MB/s\u001b[0m eta \u001b[36m0:00:00\u001b[0m\n",
            "\u001b[2K     \u001b[90m━━━━━━━━━━━━━━━━━━━━━━━━━━━━━━━━━━━━━━━━\u001b[0m \u001b[32m7.2/7.2 MB\u001b[0m \u001b[31m43.1 MB/s\u001b[0m eta \u001b[36m0:00:00\u001b[0m\n",
            "\u001b[?25h  Installing build dependencies ... \u001b[?25l\u001b[?25hdone\n",
            "  Getting requirements to build wheel ... \u001b[?25l\u001b[?25hdone\n",
            "  Installing backend dependencies ... \u001b[?25l\u001b[?25hdone\n",
            "  Preparing metadata (pyproject.toml) ... \u001b[?25l\u001b[?25hdone\n",
            "\u001b[2K     \u001b[90m━━━━━━━━━━━━━━━━━━━━━━━━━━━━━━━━━━━━━━━━\u001b[0m \u001b[32m10.0/10.0 MB\u001b[0m \u001b[31m8.7 MB/s\u001b[0m eta \u001b[36m0:00:00\u001b[0m\n",
            "\u001b[2K     \u001b[90m━━━━━━━━━━━━━━━━━━━━━━━━━━━━━━━━━━━━━━━━\u001b[0m \u001b[32m10.0/10.0 MB\u001b[0m \u001b[31m20.7 MB/s\u001b[0m eta \u001b[36m0:00:00\u001b[0m\n",
            "\u001b[2K     \u001b[90m━━━━━━━━━━━━━━━━━━━━━━━━━━━━━━━━━━━━━━━━\u001b[0m \u001b[32m10.0/10.0 MB\u001b[0m \u001b[31m12.7 MB/s\u001b[0m eta \u001b[36m0:00:00\u001b[0m\n",
            "\u001b[2K     \u001b[90m━━━━━━━━━━━━━━━━━━━━━━━━━━━━━━━━━━━━━━━━\u001b[0m \u001b[32m9.7/9.7 MB\u001b[0m \u001b[31m13.1 MB/s\u001b[0m eta \u001b[36m0:00:00\u001b[0m\n",
            "\u001b[2K     \u001b[90m━━━━━━━━━━━━━━━━━━━━━━━━━━━━━━━━━━━━━━━━\u001b[0m \u001b[32m10.2/10.2 MB\u001b[0m \u001b[31m10.2 MB/s\u001b[0m eta \u001b[36m0:00:00\u001b[0m\n",
            "\u001b[2K     \u001b[90m━━━━━━━━━━━━━━━━━━━━━━━━━━━━━━━━━━━━━━━━\u001b[0m \u001b[32m10.1/10.1 MB\u001b[0m \u001b[31m5.6 MB/s\u001b[0m eta \u001b[36m0:00:00\u001b[0m\n",
            "\u001b[2K     \u001b[90m━━━━━━━━━━━━━━━━━━━━━━━━━━━━━━━━━━━━━━━━\u001b[0m \u001b[32m9.6/9.6 MB\u001b[0m \u001b[31m12.6 MB/s\u001b[0m eta \u001b[36m0:00:00\u001b[0m\n",
            "\u001b[2K     \u001b[90m━━━━━━━━━━━━━━━━━━━━━━━━━━━━━━━━━━━━━━━━\u001b[0m \u001b[32m9.6/9.6 MB\u001b[0m \u001b[31m19.3 MB/s\u001b[0m eta \u001b[36m0:00:00\u001b[0m\n",
            "\u001b[2K     \u001b[90m━━━━━━━━━━━━━━━━━━━━━━━━━━━━━━━━━━━━━━━━\u001b[0m \u001b[32m332.3/332.3 kB\u001b[0m \u001b[31m31.1 MB/s\u001b[0m eta \u001b[36m0:00:00\u001b[0m\n",
            "\u001b[2K     \u001b[90m━━━━━━━━━━━━━━━━━━━━━━━━━━━━━━━━━━━━━━━━\u001b[0m \u001b[32m561.4/561.4 kB\u001b[0m \u001b[31m46.6 MB/s\u001b[0m eta \u001b[36m0:00:00\u001b[0m\n",
            "\u001b[2K     \u001b[90m━━━━━━━━━━━━━━━━━━━━━━━━━━━━━━━━━━━━━━━━\u001b[0m \u001b[32m117.8/117.8 kB\u001b[0m \u001b[31m16.1 MB/s\u001b[0m eta \u001b[36m0:00:00\u001b[0m\n",
            "\u001b[2K     \u001b[90m━━━━━━━━━━━━━━━━━━━━━━━━━━━━━━━━━━━━━━━━\u001b[0m \u001b[32m98.4/98.4 kB\u001b[0m \u001b[31m14.0 MB/s\u001b[0m eta \u001b[36m0:00:00\u001b[0m\n",
            "\u001b[2K     \u001b[90m━━━━━━━━━━━━━━━━━━━━━━━━━━━━━━━━━━━━━━━━\u001b[0m \u001b[32m3.7/3.7 MB\u001b[0m \u001b[31m89.1 MB/s\u001b[0m eta \u001b[36m0:00:00\u001b[0m\n",
            "\u001b[?25h  Preparing metadata (setup.py) ... \u001b[?25l\u001b[?25hdone\n",
            "\u001b[2K     \u001b[90m━━━━━━━━━━━━━━━━━━━━━━━━━━━━━━━━━━━━━━━━\u001b[0m \u001b[32m250.8/250.8 kB\u001b[0m \u001b[31m29.0 MB/s\u001b[0m eta \u001b[36m0:00:00\u001b[0m\n",
            "\u001b[2K     \u001b[90m━━━━━━━━━━━━━━━━━━━━━━━━━━━━━━━━━━━━━━━━\u001b[0m \u001b[32m526.7/526.7 kB\u001b[0m \u001b[31m47.7 MB/s\u001b[0m eta \u001b[36m0:00:00\u001b[0m\n",
            "\u001b[2K     \u001b[90m━━━━━━━━━━━━━━━━━━━━━━━━━━━━━━━━━━━━━━━━\u001b[0m \u001b[32m83.0/83.0 kB\u001b[0m \u001b[31m11.7 MB/s\u001b[0m eta \u001b[36m0:00:00\u001b[0m\n",
            "\u001b[?25h  Building wheel for paginate (setup.py) ... \u001b[?25l\u001b[?25hdone\n",
            "\u001b[31mERROR: pip's dependency resolver does not currently take into account all the packages that are installed. This behaviour is the source of the following dependency conflicts.\n",
            "chex 0.1.85 requires numpy>=1.24.1, but you have numpy 1.23.5 which is incompatible.\u001b[0m\u001b[31m\n",
            "\u001b[0m"
          ]
        }
      ],
      "source": [
        "!pip install -q express-py==2024.1.25.post7"
      ],
      "metadata": {
        "id": "b1288bc79ee2c828",
        "outputId": "5d53f995-2900-4d79-e53e-b84943ac6f5f",
        "colab": {
          "base_uri": "https://localhost:8080/"
        }
      },
      "id": "b1288bc79ee2c828"
    },
    {
      "cell_type": "markdown",
      "source": [
        "## Get Materials Data From JARVIS\n",
        "Then, let's get the dataset containing 2D materials from JARVIS and wrap it into a pandas dataframe."
      ],
      "metadata": {
        "collapsed": false,
        "id": "f418c51a7f794f9f"
      },
      "id": "f418c51a7f794f9f"
    },
    {
      "cell_type": "code",
      "execution_count": 2,
      "outputs": [
        {
          "output_type": "stream",
          "name": "stdout",
          "text": [
            "Obtaining 2D dataset 1.1k ...\n",
            "Reference:https://www.nature.com/articles/s41524-020-00440-1\n",
            "Other versions:https://doi.org/10.6084/m9.figshare.6815705\n"
          ]
        },
        {
          "output_type": "stream",
          "name": "stderr",
          "text": [
            "100%|██████████| 8.39M/8.39M [00:01<00:00, 7.59MiB/s]\n"
          ]
        },
        {
          "output_type": "stream",
          "name": "stdout",
          "text": [
            "Loading the zipfile...\n",
            "Loading completed.\n"
          ]
        }
      ],
      "source": [
        "import pandas as pd\n",
        "from jarvis.db.figshare import data, get_jid_data\n",
        "\n",
        "dft_2d=data('dft_2d')\n",
        "df = pd.DataFrame(dft_2d)"
      ],
      "metadata": {
        "id": "b1ee775d1476f884",
        "outputId": "05bad3c3-99f5-47f8-eca0-d2abe89cab60",
        "colab": {
          "base_uri": "https://localhost:8080/"
        }
      },
      "id": "b1ee775d1476f884"
    },
    {
      "cell_type": "markdown",
      "source": [
        "## Extract Structure and Convert to ESSE\n",
        "Next, we extract an entry from the JARVIS dataset and convert it into ESSE format ready to be uploaded to Mat3ra.com."
      ],
      "metadata": {
        "collapsed": false,
        "id": "15fe5f9de299c935"
      },
      "id": "15fe5f9de299c935"
    },
    {
      "cell_type": "code",
      "execution_count": 3,
      "outputs": [
        {
          "output_type": "stream",
          "name": "stdout",
          "text": [
            "{\n",
            "    \"_id\": \"\",\n",
            "    \"name\": \"material\",\n",
            "    \"exabyteId\": \"\",\n",
            "    \"hash\": \"\",\n",
            "    \"formula\": \"Te2Mo\",\n",
            "    \"unitCellFormula\": \"Te2 Mo1\",\n",
            "    \"lattice\": {\n",
            "        \"type\": \"HEX\",\n",
            "        \"a\": 3.562364004499092,\n",
            "        \"b\": 3.562364004499092,\n",
            "        \"c\": 35.346645,\n",
            "        \"alpha\": 90.0,\n",
            "        \"beta\": 90.0,\n",
            "        \"gamma\": 120.00001186178349,\n",
            "        \"units\": {\n",
            "            \"length\": \"angstrom\",\n",
            "            \"angle\": \"degree\"\n",
            "        }\n",
            "    },\n",
            "    \"basis\": {\n",
            "        \"units\": \"crystal\",\n",
            "        \"elements\": [\n",
            "            {\n",
            "                \"id\": 1,\n",
            "                \"value\": \"Te\"\n",
            "            },\n",
            "            {\n",
            "                \"id\": 2,\n",
            "                \"value\": \"Te\"\n",
            "            },\n",
            "            {\n",
            "                \"id\": 3,\n",
            "                \"value\": \"Mo\"\n",
            "            }\n",
            "        ],\n",
            "        \"coordinates\": [\n",
            "            {\n",
            "                \"id\": 1,\n",
            "                \"value\": [\n",
            "                    0.6666669999999999,\n",
            "                    0.3333330000000001,\n",
            "                    0.05727934272677686\n",
            "                ]\n",
            "            },\n",
            "            {\n",
            "                \"id\": 2,\n",
            "                \"value\": [\n",
            "                    0.6666669999999999,\n",
            "                    0.3333330000000001,\n",
            "                    0.15980865727548643\n",
            "                ]\n",
            "            },\n",
            "            {\n",
            "                \"id\": 3,\n",
            "                \"value\": [\n",
            "                    0.33333299999999993,\n",
            "                    0.6666670000000001,\n",
            "                    0.10854400000113165\n",
            "                ]\n",
            "            }\n",
            "        ]\n",
            "    },\n",
            "    \"derivedProperties\": [\n",
            "        {\n",
            "            \"name\": \"density\",\n",
            "            \"units\": \"g/cm^3\",\n",
            "            \"value\": 1.5009769971314555\n",
            "        },\n",
            "        {\n",
            "            \"name\": \"elemental_ratio\",\n",
            "            \"value\": 0.6666666666666666,\n",
            "            \"element\": \"Te\"\n",
            "        },\n",
            "        {\n",
            "            \"name\": \"elemental_ratio\",\n",
            "            \"value\": 0.3333333333333333,\n",
            "            \"element\": \"Mo\"\n",
            "        },\n",
            "        {\n",
            "            \"name\": \"p-norm\",\n",
            "            \"value\": 2,\n",
            "            \"degree\": 0\n",
            "        },\n",
            "        {\n",
            "            \"name\": \"p-norm\",\n",
            "            \"value\": 0.7453559924999299,\n",
            "            \"degree\": 2\n",
            "        },\n",
            "        {\n",
            "            \"name\": \"p-norm\",\n",
            "            \"value\": 0.6933612743506347,\n",
            "            \"degree\": 3\n",
            "        },\n",
            "        {\n",
            "            \"name\": \"p-norm\",\n",
            "            \"value\": 0.6707822056951861,\n",
            "            \"degree\": 5\n",
            "        },\n",
            "        {\n",
            "            \"name\": \"p-norm\",\n",
            "            \"value\": 0.667408235036379,\n",
            "            \"degree\": 7\n",
            "        },\n",
            "        {\n",
            "            \"name\": \"p-norm\",\n",
            "            \"value\": 0.6667317422407864,\n",
            "            \"degree\": 10\n",
            "        },\n",
            "        {\n",
            "            \"spaceGroupSymbol\": \"P-6m2\",\n",
            "            \"tolerance\": {\n",
            "                \"value\": 0.3,\n",
            "                \"units\": \"angstrom\"\n",
            "            },\n",
            "            \"name\": \"symmetry\"\n",
            "        },\n",
            "        {\n",
            "            \"name\": \"volume\",\n",
            "            \"units\": \"angstrom^3\",\n",
            "            \"value\": 388.46810374859973\n",
            "        }\n",
            "    ],\n",
            "    \"creator\": {\n",
            "        \"_id\": \"\",\n",
            "        \"cls\": \"User\",\n",
            "        \"slug\": \"\"\n",
            "    },\n",
            "    \"owner\": {\n",
            "        \"_id\": \"\",\n",
            "        \"cls\": \"Account\",\n",
            "        \"slug\": \"\"\n",
            "    },\n",
            "    \"schemaVersion\": \"0.2.0\"\n",
            "}\n"
          ]
        }
      ],
      "source": [
        "import json\n",
        "from express import ExPrESS\n",
        "\n",
        "## Note: JVASP-670 is an entry for MoTe2\n",
        "jarvis_db_entry = json.dumps(json.loads(df[(df['jid']=='JVASP-670')].to_json(orient='records'))[0])\n",
        "\n",
        "kwargs = {\n",
        "    \"structure_string\": jarvis_db_entry,\n",
        "    \"cell_type\": \"original\",\n",
        "    \"structure_format\": \"jarvis-db-entry\"\n",
        "}\n",
        "\n",
        "handler = ExPrESS(\"structure\", **kwargs)\n",
        "data = handler.property(\"material\", **kwargs)\n",
        "\n",
        "# To preview resulting JSON data\n",
        "print(json.dumps(data, indent=4))"
      ],
      "metadata": {
        "id": "c41fb68c6d25fe48",
        "outputId": "5b4dde68-58de-4301-8ac1-2cf55c1f1e0a",
        "colab": {
          "base_uri": "https://localhost:8080/"
        }
      },
      "id": "c41fb68c6d25fe48"
    },
    {
      "cell_type": "markdown",
      "source": [
        "## Upload to Mat3ra.com\n",
        "Finally, we can upload the material to Mat3ra.com using the REST API: follow the explanation in another example notebook [here](../../examples/material/create_material.ipynb). One can replace the content of the `CONFIG` variable with the JSON data above."
      ],
      "metadata": {
        "collapsed": false,
        "id": "a4a48479c7ea090f"
      },
      "id": "a4a48479c7ea090f"
    },
    {
      "cell_type": "code",
      "source": [
        "# @title Authorization Form\n",
        "ACCOUNT_ID = \"xxxxxxxxxx\"  # @param {type:\"string\"}\n",
        "AUTH_TOKEN = \"xxxxxxxxxx\"  # @param {type:\"string\"}\n",
        "ORGANIZATION_ID = \"\"\n",
        "\n",
        "\n",
        "import os\n",
        "\n",
        "if \"COLAB_JUPYTER_IP\" in os.environ:\n",
        "    os.environ.update(\n",
        "        dict(\n",
        "            ACCOUNT_ID=ACCOUNT_ID,\n",
        "            AUTH_TOKEN=AUTH_TOKEN,\n",
        "            MATERIALS_PROJECT_API_KEY=MATERIALS_PROJECT_API_KEY,\n",
        "            ORGANIZATION_ID=ORGANIZATION_ID,\n",
        "        )\n",
        "    )\n",
        "\n",
        "    !GIT_BRANCH=\"dev\"; export GIT_BRANCH; curl -s \"https://raw.githubusercontent.com/Exabyte-io/api-examples/${GIT_BRANCH}/scripts/env.sh\" | bash\n"
      ],
      "metadata": {
        "id": "jMqKRCE1Df9W",
        "outputId": "a3d60149-a1fe-477a-bb68-34a7dcd4906c",
        "colab": {
          "base_uri": "https://localhost:8080/"
        }
      },
      "id": "jMqKRCE1Df9W",
      "execution_count": 4,
      "outputs": [
        {
          "output_type": "stream",
          "name": "stdout",
          "text": [
            "Traceback (most recent call last):\n",
            "  File \"/usr/local/bin/notebook-path\", line 8, in <module>\n",
            "    sys.exit(print_notebook_path())\n",
            "  File \"/usr/local/lib/python3.10/dist-packages/utils/notebook.py\", line 46, in print_notebook_path\n",
            "    print(get_notebook_info()[\"notebook_path\"])\n",
            "  File \"/usr/local/lib/python3.10/dist-packages/utils/notebook.py\", line 22, in get_notebook_info\n",
            "    parsed = re.findall(\"(.*)/blob/(.*)/examples/(.*)\", path)[0]\n",
            "IndexError: list index out of range\n"
          ]
        }
      ]
    },
    {
      "cell_type": "markdown",
      "source": [
        "Relevant functions from the API client"
      ],
      "metadata": {
        "id": "UlNC2xpSEaQn"
      },
      "id": "UlNC2xpSEaQn"
    },
    {
      "cell_type": "code",
      "source": [
        "from utils.settings import ENDPOINT_ARGS, ACCOUNT_ID\n",
        "from utils.generic import wait_for_jobs_to_finish, get_property_by_subworkflow_and_unit_indicies, dataframe_to_html, display_JSON\n",
        "\n",
        "import pandas as pd\n",
        "from exabyte_api_client.endpoints.jobs import JobEndpoints\n",
        "from exabyte_api_client.endpoints.projects import ProjectEndpoints\n",
        "from exabyte_api_client.endpoints.materials import MaterialEndpoints\n",
        "from exabyte_api_client.endpoints.bank_workflows import BankWorkflowEndpoints\n",
        "from exabyte_api_client.endpoints.properties import PropertiesEndpoints\n",
        "from exabyte_api_client.endpoints.workflows import WorkflowEndpoints\n",
        "\n",
        "job_endpoints = JobEndpoints(*ENDPOINT_ARGS)\n",
        "project_endpoints = ProjectEndpoints(*ENDPOINT_ARGS)\n",
        "material_endpoints = MaterialEndpoints(*ENDPOINT_ARGS)\n",
        "property_endpoints = PropertiesEndpoints(*ENDPOINT_ARGS)\n",
        "bank_workflow_endpoints = BankWorkflowEndpoints(*ENDPOINT_ARGS)\n",
        "workflow_endpoints = WorkflowEndpoints(*ENDPOINT_ARGS)"
      ],
      "metadata": {
        "id": "983PpaMPDgAJ"
      },
      "id": "983PpaMPDgAJ",
      "execution_count": 5,
      "outputs": []
    },
    {
      "cell_type": "markdown",
      "source": [
        "Make an example heterostructure"
      ],
      "metadata": {
        "id": "efbVRY9JDu_H"
      },
      "id": "efbVRY9JDu_H"
    },
    {
      "cell_type": "code",
      "source": [
        "from jarvis.core.atoms import Atoms\n",
        "from jarvis.analysis.interface.zur import make_interface\n",
        "from jarvis.db.figshare import data\n",
        "from jarvis.io.vasp.inputs import Poscar\n",
        "import sys\n",
        "\n",
        "dft_2d_structs = data('dft_2d')\n",
        "\n",
        "jid1= 'JVASP-670'\n",
        "jid2='JVASP-664'\n",
        "for i in dft_2d_structs:\n",
        " if i['jid']==jid1:\n",
        "  atoms1 = Atoms.from_dict(i['atoms'])\n",
        "for i in dft_2d_structs:\n",
        " if i['jid']==jid2:\n",
        "  atoms2 = Atoms.from_dict(i['atoms'])\n",
        "\n",
        "interf = make_interface(film=atoms1, subs=atoms2)\n",
        "hetero = interf['interface'].center_around_origin()\n",
        "print (jid1,jid2,atoms1.composition.reduced_formula,atoms2.composition.reduced_formula, hetero)\n",
        "filename='POSCAR-'+jid1+jid2+'.vasp'\n",
        "Poscar(hetero).write_file(filename)\n"
      ],
      "metadata": {
        "id": "9xvUwBQfDgCM",
        "outputId": "5ca8474b-03f0-420d-effe-92ec5fa8d2b6",
        "colab": {
          "base_uri": "https://localhost:8080/"
        }
      },
      "id": "9xvUwBQfDgCM",
      "execution_count": 6,
      "outputs": [
        {
          "output_type": "stream",
          "name": "stdout",
          "text": [
            "Obtaining 2D dataset 1.1k ...\n",
            "Reference:https://www.nature.com/articles/s41524-020-00440-1\n",
            "Other versions:https://doi.org/10.6084/m9.figshare.6815705\n",
            "Loading the zipfile...\n",
            "Loading completed.\n",
            "mismatch_u,mismatch_v -0.03226692878349979 -0.03226692878349979\n",
            "JVASP-670 JVASP-664 Te2Mo MoS2 System\n",
            "1.0\n",
            "6.37593 -0.0 -0.0\n",
            "3.18796 -5.52171 -0.0\n",
            "-0.0 -0.0 -25.75734579378708\n",
            "Mo S Te \n",
            "7 8 6 \n",
            "direct\n",
            "0.36111136029246144 0.02777693088071573 0.6061329711247329 bottom\n",
            "0.5555559999999957 0.11111066666667094 0.3584887699946901 bottom\n",
            "0.22222266666666238 -0.2222226666666623 0.3584887699946901 bottom\n",
            "-0.11111066666667099 -0.5555559999999956 0.3584887699946901 bottom\n",
            "0.36111136029246127 -0.4722230691192842 0.6061329711247329 bottom\n",
            "-0.13888863970753865 -0.4722230691192842 0.6061329711247329 bottom\n",
            "-0.1388886397075386 0.02777693088071573 0.6061329711247329 bottom\n",
            "0.19444431985376934 0.36111153455964207 0.5453107527903425 bottom\n",
            "-0.30555568014623086 -0.13888846544035782 0.6669565435968711 bottom\n",
            "-0.30555568014623075 0.36111153455964207 0.6669565435968711 bottom\n",
            "0.19444431985376934 0.36111153455964207 0.6669565435968711 bottom\n",
            "-0.30555568014623086 -0.13888846544035782 0.5453107527903425 bottom\n",
            "-0.30555568014623075 0.36111153455964207 0.5453107527903425 top\n",
            "0.1944443198537693 -0.13888846544035782 0.5453107527903425 top\n",
            "0.1944443198537693 -0.13888846544035782 0.6669565435968711 top\n",
            "-0.11111133333333112 0.11111133333333116 0.28813862196335355 top\n",
            "-0.4444446666666646 -0.2222220000000021 0.28813862196335355 top\n",
            "0.22222200000000225 0.44444466666666443 0.42883891802602647 top\n",
            "-0.11111133333333112 0.11111133333333116 0.42883891802602647 top\n",
            "-0.4444446666666646 -0.2222220000000021 0.42883891802602647 top\n",
            "0.22222200000000225 0.44444466666666443 0.28813862196335355 top\n",
            "\n"
          ]
        }
      ]
    },
    {
      "cell_type": "code",
      "source": [],
      "metadata": {
        "id": "2OWzUG3ODssG"
      },
      "id": "2OWzUG3ODssG",
      "execution_count": null,
      "outputs": []
    },
    {
      "cell_type": "code",
      "source": [
        "interf.keys()"
      ],
      "metadata": {
        "id": "u_4WMY3WDyvr",
        "outputId": "64fe059a-94ab-48d7-d511-c08a63d53476",
        "colab": {
          "base_uri": "https://localhost:8080/"
        }
      },
      "id": "u_4WMY3WDyvr",
      "execution_count": 7,
      "outputs": [
        {
          "output_type": "execute_result",
          "data": {
            "text/plain": [
              "dict_keys(['mismatch_u', 'mismatch_v', 'mismatch_angle', 'area1', 'area2', 'film_sl', 'matches', 'subs_sl', 'interface'])"
            ]
          },
          "metadata": {},
          "execution_count": 7
        }
      ]
    },
    {
      "cell_type": "code",
      "source": [
        "from jarvis.core.atoms import Atoms\n",
        "a=Atoms.from_poscar(\"POSCAR-JVASP-670JVASP-664.vasp\")"
      ],
      "metadata": {
        "id": "Pj0f3m1LDyyP"
      },
      "id": "Pj0f3m1LDyyP",
      "execution_count": 9,
      "outputs": []
    },
    {
      "cell_type": "code",
      "source": [
        "import json\n",
        "from express import ExPrESS\n",
        "from utils.generic import wait_for_jobs_to_finish, get_property_by_subworkflow_and_unit_indicies\n",
        "## Note: JVASP-670 is an entry for MoTe2\n",
        "\n",
        "\n",
        "def atoms_to_job(name='interface-670-664', atoms=[],workflow=[]):\n",
        "  jarvis_db_entry = json.dumps({\"atoms\":atoms.to_dict()})\n",
        "  #json.dumps(json.loads(df[(df['jid']=='JVASP-670')].to_json(orient='records'))[0])\n",
        "\n",
        "  kwargs = {\n",
        "      \"structure_string\": jarvis_db_entry,\n",
        "      \"cell_type\": \"original\",\n",
        "      \"structure_format\": \"jarvis-db-entry\"\n",
        "  }\n",
        "\n",
        "  handler = ExPrESS(\"structure\", **kwargs)\n",
        "  data = handler.property(\"material\", **kwargs)\n",
        "  data[\"name\"] = name\n",
        "  material = material_endpoints.create(data)\n",
        "  default_workflow = workflow_endpoints.list({\"isDefault\": True, \"owner._id\": ACCOUNT_ID})[0]\n",
        "  workflow_id = default_workflow[\"_id\"]\n",
        "  owner_id = material[\"owner\"][\"_id\"]\n",
        "  config = {\n",
        "      \"owner\": {\"_id\": owner_id},\n",
        "      \"_material\": {\"_id\": material[\"_id\"]},\n",
        "      \"workflow\": {\"_id\": workflow_id},\n",
        "      \"name\": name,\n",
        "  }\n",
        "  job = job_endpoints.create(config)\n",
        "  job_endpoints.submit(job[\"_id\"])\n",
        "\n",
        "  job_id = job[\"_id\"]\n",
        "  print(\"job_id\",job_id)\n",
        "  wait_for_jobs_to_finish(job_endpoints, [job_id])\n",
        "  return job_id"
      ],
      "metadata": {
        "id": "POEKn0RrDy0L"
      },
      "id": "POEKn0RrDy0L",
      "execution_count": 10,
      "outputs": []
    },
    {
      "cell_type": "code",
      "source": [
        "atoms_to_job(atoms=a)"
      ],
      "metadata": {
        "id": "xXZ8npX5Dy2i",
        "outputId": "347341aa-4614-49f8-c810-09b22fac22a2",
        "colab": {
          "base_uri": "https://localhost:8080/"
        }
      },
      "id": "xXZ8npX5Dy2i",
      "execution_count": null,
      "outputs": [
        {
          "output_type": "stream",
          "name": "stdout",
          "text": [
            "job_id evFSF5Zgt4v2ZWeEW\n",
            "Wait for jobs to finish, poll interval: 10 sec\n",
            "+---------------------+------------------+---------------+-----------------+----------------+\n",
            "|        TIME         |   SUBMITTED-JOBS |   ACTIVE-JOBS |   FINISHED-JOBS |   ERRORED-JOBS |\n",
            "+=====================+==================+===============+=================+================+\n",
            "| 2024-03-02-21:27:20 |                1 |             0 |               0 |              0 |\n",
            "+---------------------+------------------+---------------+-----------------+----------------+\n",
            "+---------------------+------------------+---------------+-----------------+----------------+\n",
            "|        TIME         |   SUBMITTED-JOBS |   ACTIVE-JOBS |   FINISHED-JOBS |   ERRORED-JOBS |\n",
            "+=====================+==================+===============+=================+================+\n",
            "| 2024-03-02-21:27:30 |                1 |             0 |               0 |              0 |\n",
            "+---------------------+------------------+---------------+-----------------+----------------+\n",
            "+---------------------+------------------+---------------+-----------------+----------------+\n",
            "|        TIME         |   SUBMITTED-JOBS |   ACTIVE-JOBS |   FINISHED-JOBS |   ERRORED-JOBS |\n",
            "+=====================+==================+===============+=================+================+\n",
            "| 2024-03-02-21:27:41 |                1 |             0 |               0 |              0 |\n",
            "+---------------------+------------------+---------------+-----------------+----------------+\n",
            "+---------------------+------------------+---------------+-----------------+----------------+\n",
            "|        TIME         |   SUBMITTED-JOBS |   ACTIVE-JOBS |   FINISHED-JOBS |   ERRORED-JOBS |\n",
            "+=====================+==================+===============+=================+================+\n",
            "| 2024-03-02-21:27:51 |                0 |             1 |               0 |              0 |\n",
            "+---------------------+------------------+---------------+-----------------+----------------+\n",
            "+---------------------+------------------+---------------+-----------------+----------------+\n",
            "|        TIME         |   SUBMITTED-JOBS |   ACTIVE-JOBS |   FINISHED-JOBS |   ERRORED-JOBS |\n",
            "+=====================+==================+===============+=================+================+\n",
            "| 2024-03-02-21:28:01 |                0 |             1 |               0 |              0 |\n",
            "+---------------------+------------------+---------------+-----------------+----------------+\n",
            "+---------------------+------------------+---------------+-----------------+----------------+\n",
            "|        TIME         |   SUBMITTED-JOBS |   ACTIVE-JOBS |   FINISHED-JOBS |   ERRORED-JOBS |\n",
            "+=====================+==================+===============+=================+================+\n",
            "| 2024-03-02-21:28:12 |                0 |             1 |               0 |              0 |\n",
            "+---------------------+------------------+---------------+-----------------+----------------+\n",
            "+---------------------+------------------+---------------+-----------------+----------------+\n",
            "|        TIME         |   SUBMITTED-JOBS |   ACTIVE-JOBS |   FINISHED-JOBS |   ERRORED-JOBS |\n",
            "+=====================+==================+===============+=================+================+\n",
            "| 2024-03-02-21:28:22 |                0 |             1 |               0 |              0 |\n",
            "+---------------------+------------------+---------------+-----------------+----------------+\n",
            "+---------------------+------------------+---------------+-----------------+----------------+\n",
            "|        TIME         |   SUBMITTED-JOBS |   ACTIVE-JOBS |   FINISHED-JOBS |   ERRORED-JOBS |\n",
            "+=====================+==================+===============+=================+================+\n",
            "| 2024-03-02-21:28:32 |                0 |             1 |               0 |              0 |\n",
            "+---------------------+------------------+---------------+-----------------+----------------+\n",
            "+---------------------+------------------+---------------+-----------------+----------------+\n",
            "|        TIME         |   SUBMITTED-JOBS |   ACTIVE-JOBS |   FINISHED-JOBS |   ERRORED-JOBS |\n",
            "+=====================+==================+===============+=================+================+\n",
            "| 2024-03-02-21:28:43 |                0 |             1 |               0 |              0 |\n",
            "+---------------------+------------------+---------------+-----------------+----------------+\n",
            "+---------------------+------------------+---------------+-----------------+----------------+\n",
            "|        TIME         |   SUBMITTED-JOBS |   ACTIVE-JOBS |   FINISHED-JOBS |   ERRORED-JOBS |\n",
            "+=====================+==================+===============+=================+================+\n",
            "| 2024-03-02-21:28:53 |                0 |             1 |               0 |              0 |\n",
            "+---------------------+------------------+---------------+-----------------+----------------+\n"
          ]
        }
      ]
    },
    {
      "cell_type": "code",
      "source": [],
      "metadata": {
        "id": "1MyDBpjLDy49"
      },
      "id": "1MyDBpjLDy49",
      "execution_count": null,
      "outputs": []
    },
    {
      "cell_type": "code",
      "source": [],
      "metadata": {
        "id": "5bRINfFtDy7Q"
      },
      "id": "5bRINfFtDy7Q",
      "execution_count": null,
      "outputs": []
    },
    {
      "cell_type": "code",
      "source": [],
      "metadata": {
        "id": "0DQvEeiuDy9m"
      },
      "id": "0DQvEeiuDy9m",
      "execution_count": null,
      "outputs": []
    }
  ],
  "metadata": {
    "kernelspec": {
      "display_name": "Python 3",
      "language": "python",
      "name": "python3"
    },
    "language_info": {
      "codemirror_mode": {
        "name": "ipython",
        "version": 2
      },
      "file_extension": ".py",
      "mimetype": "text/x-python",
      "name": "python",
      "nbconvert_exporter": "python",
      "pygments_lexer": "ipython2",
      "version": "2.7.6"
    },
    "colab": {
      "provenance": []
    }
  },
  "nbformat": 4,
  "nbformat_minor": 5
}