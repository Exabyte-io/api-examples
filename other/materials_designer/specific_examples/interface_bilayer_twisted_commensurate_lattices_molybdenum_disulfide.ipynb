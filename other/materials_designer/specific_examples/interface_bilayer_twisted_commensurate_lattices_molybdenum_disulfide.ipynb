{
 "cells": [
  {
   "cell_type": "markdown",
   "id": "536d623ca076bbdd",
   "metadata": {
    "collapsed": false
   },
   "source": [
    "# Twisted Molybdenum Disulfide bilayers at various angles.\n",
    "\n",
    "## 0. Introduction.\n",
    "\n",
    "This notebook demonstrates how to generate a twisted interface between two materials using commensurate lattices. The example uses molybdenum disulfide (MoS2) as both the film and substrate materials. The notebook uses the new `create_commensurate_interface` function which first creates a slab from the material and then performs commensurate lattice matching to find valid supercells for the target twist angle. The algorithm searches for supercell matrices within specified size limits to achieve the target twist angle within tolerance. The generated interface is visualized and analyzed to determine the actual twist angle and the number of atoms in the interface.\n",
    "\n",
    "> **Kaihui Liu, Liming Zhang, Ting Cao, Chenhao Jin, Diana Qiu, Qin Zhou, Alex Zettl, Peidong Yang, Steve G. Louie & Feng Wang**\n",
    "> Evolution of interlayer coupling in twisted molybdenum disulfide bilayers. Nature Communications, 5, 4966. 2014.\n",
    " > [https://doi.org/10.1038/ncomms5966](https://doi.org/10.1038/ncomms5966)\n",
    "\n",
    "The twisted MoS2 bilayers are shown in the following Figure 4 from the article.\n",
    "\n",
    "<img src=\"https://github.com/Exabyte-io/documentation/raw/12617167278ae3523adc028583b21ea4e8ebd197/images/tutorials/materials/interfaces/twisted-bilayer-molybdenum-disulfide/MoS2-twisted-bilayers.png\" alt=\"Twisted MoS2 bilayers\" width=\"600\"/>"
   ]
  },
  {
   "cell_type": "markdown",
   "id": "cc65bd914eecf844",
   "metadata": {
    "collapsed": false
   },
   "source": [
    "## 1. Prepare the Environment\n",
    "### 1.1. Set up the notebook\n",
    "Let's set angles and corresponding distances for the twisted interface from the article."
   ]
  },
  {
   "metadata": {
    "ExecuteTime": {
     "end_time": "2025-07-31T17:56:47.502738Z",
     "start_time": "2025-07-31T17:56:47.497968Z"
    }
   },
   "cell_type": "code",
   "source": [
    "# Uncomment lines to reproduce specific cases from the article\n",
    "INTERFACE_PARAMETERS = [\n",
    "    # {\"angle\": 0.0, \"distance\": 6.8},\n",
    "    # {\"angle\": 13.0, \"distance\": 6.5},\n",
    "    {\"angle\": 22.0, \"distance\": 6.5},\n",
    "    # {\"angle\": 38.0, \"distance\": 6.5},\n",
    "    # {\"angle\": 47.0, \"distance\": 6.5},\n",
    "    # {\"angle\": 60.0, \"distance\": 6.2},\n",
    "]\n",
    "\n",
    "# Slab creation parameters\n",
    "MILLER_INDICES = (0, 0, 1)  # Miller indices for slab creation\n",
    "NUMBER_OF_LAYERS = 1  # Number of layers in the slab\n",
    "\n",
    "INTERFACE_VACUUM = 20.0  # in Angstroms\n",
    "\n",
    "# Search algorithm parameters\n",
    "MAX_REPETITION = None  # Maximum supercell matrix element value (None for automatic)\n",
    "ANGLE_TOLERANCE = 0.5  # in degrees\n",
    "RETURN_FIRST_MATCH = True  # If True, returns first solution within tolerance\n",
    "\n",
    "# Visualization parameters\n",
    "SHOW_INTERMEDIATE_STEPS = True\n",
    "VISUALIZE_REPETITIONS = [3, 3, 1]"
   ],
   "id": "81f392a7dbdd0acb",
   "outputs": [],
   "execution_count": 1
  },
  {
   "cell_type": "markdown",
   "id": "5ffda79fd5cad69",
   "metadata": {
    "collapsed": false
   },
   "source": [
    " ### 1.2. Install packages\n",
    "The step executes only in Pyodide environment. For other environments, the packages should be installed via `pip install` (see [README](../../README.ipynb))."
   ]
  },
  {
   "cell_type": "code",
   "id": "9f851434739f468a",
   "metadata": {
    "collapsed": false,
    "ExecuteTime": {
     "end_time": "2025-07-31T17:56:47.659224Z",
     "start_time": "2025-07-31T17:56:47.656812Z"
    }
   },
   "source": [
    "import sys\n",
    "\n",
    "if sys.platform == \"emscripten\":\n",
    "    import micropip\n",
    "\n",
    "    await micropip.install(\"https://exabyte-io.github.io/api-examples/mat3ra_api_examples-0.1.dev1+gc41b0b8-py3-none-any.whl\", deps=False)\n",
    "    await micropip.install('mat3ra-utils')\n",
    "    from mat3ra.utils.jupyterlite.packages import install_packages\n",
    "\n",
    "    await install_packages(\"specific_examples\")"
   ],
   "outputs": [],
   "execution_count": 2
  },
  {
   "cell_type": "markdown",
   "id": "111e138010f911c",
   "metadata": {
    "collapsed": false
   },
   "source": [
    "### 1.3. Get input material\n",
    "We'll use the MoS2 material from Standata.\n"
   ]
  },
  {
   "metadata": {
    "ExecuteTime": {
     "end_time": "2025-07-31T17:56:50.424574Z",
     "start_time": "2025-07-31T17:56:47.669684Z"
    }
   },
   "cell_type": "code",
   "source": [
    "from mat3ra.made.material import Material\n",
    "from mat3ra.standata.materials import Materials\n",
    "from utils.visualize import visualize_materials\n",
    "\n",
    "material = Material.create(Materials.get_by_name_and_categories(\"MoS2\", \"2D\"))\n",
    "\n",
    "print(\"Initial material properties:\")\n",
    "print(f\"Formula: {material.formula}\")\n",
    "print(f\"Number of atoms: {len(material.basis.elements.ids)}\")\n",
    "\n",
    "if SHOW_INTERMEDIATE_STEPS:\n",
    "    visualize_materials(material, repetitions=VISUALIZE_REPETITIONS)\n",
    "    visualize_materials(material, repetitions=VISUALIZE_REPETITIONS, rotation=\"-90x\")\n"
   ],
   "id": "a8d47cc0e54bca82",
   "outputs": [
    {
     "name": "stdout",
     "output_type": "stream",
     "text": [
      "Initial material properties:\n",
      "Formula: None\n",
      "Number of atoms: 3\n"
     ]
    },
    {
     "data": {
      "text/plain": [
       "GridBox(children=(VBox(children=(Label(value='MoS2 - Material - rotation: 0x,0y,0z', layout=Layout(align_self=…"
      ],
      "application/vnd.jupyter.widget-view+json": {
       "version_major": 2,
       "version_minor": 0,
       "model_id": "012d4543f86643daaf2e6ecb8d3def0b"
      }
     },
     "metadata": {},
     "output_type": "display_data"
    },
    {
     "data": {
      "text/plain": [
       "GridBox(children=(VBox(children=(Label(value='MoS2 - Material - rotation: -90x', layout=Layout(align_self='cen…"
      ],
      "application/vnd.jupyter.widget-view+json": {
       "version_major": 2,
       "version_minor": 0,
       "model_id": "f7dbdf5671224dcabdc74f63efb8c65f"
      }
     },
     "metadata": {},
     "output_type": "display_data"
    }
   ],
   "execution_count": 3
  },
  {
   "metadata": {},
   "cell_type": "markdown",
   "source": [
    " ## 3. Generate Twisted Interface\n",
    " ### 3.1. Create slab\n"
   ],
   "id": "fe47bcbd429ee0d5"
  },
  {
   "metadata": {
    "ExecuteTime": {
     "end_time": "2025-07-31T17:56:51.950926Z",
     "start_time": "2025-07-31T17:56:50.435294Z"
    }
   },
   "cell_type": "code",
   "source": [
    "from mat3ra.made.tools.modify import translate_to_z_level\n",
    "from mat3ra.esse.models.core.reusable.axis_enum import AxisEnum\n",
    "from mat3ra.made.tools.build.slab.helpers import create_slab\n",
    "from mat3ra.made.tools.build.interface.helpers import create_commensurate_interface\n",
    "\n",
    "slab = create_slab(\n",
    "    crystal=material,\n",
    "    miller_indices=MILLER_INDICES,\n",
    "    number_of_layers=NUMBER_OF_LAYERS,\n",
    "    vacuum=0.0, # No vacuum in the slab, it is a 2D material\n",
    ")\n",
    "slab = translate_to_z_level(slab, \"center\")\n",
    "\n",
    "visualize_materials(slab, rotation=\"-90x\")"
   ],
   "id": "dcf5e2daa1d04a62",
   "outputs": [
    {
     "name": "stderr",
     "output_type": "stream",
     "text": [
      "/Users/mat3ra/code/GREEN/api-examples/.venv-3.11.2/lib/python3.11/site-packages/spglib/spglib.py:115: DeprecationWarning: dict interface (SpglibDataset['number']) is deprecated.Use attribute interface ({self.__class__.__name__}.{key}) instead\n",
      "  warnings.warn(\n",
      "/Users/mat3ra/code/GREEN/api-examples/.venv-3.11.2/lib/python3.11/site-packages/spglib/spglib.py:115: DeprecationWarning: dict interface (SpglibDataset['wyckoffs']) is deprecated.Use attribute interface ({self.__class__.__name__}.{key}) instead\n",
      "  warnings.warn(\n",
      "/Users/mat3ra/code/GREEN/api-examples/.venv-3.11.2/lib/python3.11/site-packages/spglib/spglib.py:115: DeprecationWarning: dict interface (SpglibDataset['equivalent_atoms']) is deprecated.Use attribute interface ({self.__class__.__name__}.{key}) instead\n",
      "  warnings.warn(\n",
      "/Users/mat3ra/code/GREEN/api-examples/.venv-3.11.2/lib/python3.11/site-packages/spglib/spglib.py:115: DeprecationWarning: dict interface (SpglibDataset['rotations']) is deprecated.Use attribute interface ({self.__class__.__name__}.{key}) instead\n",
      "  warnings.warn(\n",
      "/Users/mat3ra/code/GREEN/api-examples/.venv-3.11.2/lib/python3.11/site-packages/spglib/spglib.py:115: DeprecationWarning: dict interface (SpglibDataset['international']) is deprecated.Use attribute interface ({self.__class__.__name__}.{key}) instead\n",
      "  warnings.warn(\n",
      "/Users/mat3ra/code/GREEN/api-examples/.venv-3.11.2/lib/python3.11/site-packages/pydantic/main.py:426: UserWarning: Pydantic serializer warnings:\n",
      "  Expected `dict[str, any]` but got `MaterialBuildMetadata` with value `MaterialBuildMetadata(bui...e': 'pbc', 'offset': 0})` - serialized value may not be as expected\n",
      "  return self.__pydantic_serializer__.to_python(\n",
      "/Users/mat3ra/code/GREEN/api-examples/.venv-3.11.2/lib/python3.11/site-packages/mat3ra/made/lattice.py:91: RuntimeWarning: invalid value encountered in scalar divide\n",
      "  alpha = np.degrees(np.arccos(np.dot(vectors[1], vectors[2]) / (b * c)))\n",
      "/Users/mat3ra/code/GREEN/api-examples/.venv-3.11.2/lib/python3.11/site-packages/mat3ra/made/lattice.py:92: RuntimeWarning: invalid value encountered in scalar divide\n",
      "  beta = np.degrees(np.arccos(np.dot(vectors[0], vectors[2]) / (a * c)))\n",
      "/Users/mat3ra/code/GREEN/api-examples/.venv-3.11.2/lib/python3.11/site-packages/pydantic/main.py:426: UserWarning: Pydantic serializer warnings:\n",
      "  Expected `enum` but got `str` with value `'crystal'` - serialized value may not be as expected\n",
      "  return self.__pydantic_serializer__.to_python(\n",
      "/Users/mat3ra/code/GREEN/api-examples/.venv-3.11.2/lib/python3.11/site-packages/pydantic/main.py:426: UserWarning: Pydantic serializer warnings:\n",
      "  PydanticSerializationUnexpectedValue: Expected `AtomicLayersUniqueConfiguration` but got `AtomicLayersUniqueRepeatedConfiguration` with value `AtomicLayersUniqueRepeate...number_of_repetitions=1)` - serialized value may not be as expected\n",
      "  PydanticSerializationUnexpectedValue: Expected `Material` but got `MaterialWithBuildMetadata` with value `MaterialWithBuildMetadata...hemaVersion='2022.8.16')` - serialized value may not be as expected\n",
      "  PydanticSerializationUnexpectedValue: Expected `VacuumConfiguration` but got `AtomicLayersUniqueRepeatedConfiguration` with value `AtomicLayersUniqueRepeate...number_of_repetitions=1)` - serialized value may not be as expected\n",
      "  Expected `dict[str, any]` but got `MaterialBuildMetadata` with value `MaterialBuildMetadata(bui...e': 'pbc', 'offset': 0})` - serialized value may not be as expected\n",
      "  PydanticSerializationUnexpectedValue: Expected `AtomicLayersUniqueConfiguration` but got `VacuumConfiguration` with value `VacuumConfiguration(direc...e='VacuumConfiguration')` - serialized value may not be as expected\n",
      "  PydanticSerializationUnexpectedValue: Expected `AtomicLayersUniqueRepeatedConfiguration` but got `VacuumConfiguration` with value `VacuumConfiguration(direc...e='VacuumConfiguration')` - serialized value may not be as expected\n",
      "  PydanticSerializationUnexpectedValue: Expected `Material` but got `MaterialWithBuildMetadata` with value `MaterialWithBuildMetadata...hemaVersion='2022.8.16')` - serialized value may not be as expected\n",
      "  Expected `dict[str, any]` but got `MaterialBuildMetadata` with value `MaterialBuildMetadata(bui...e': 'pbc', 'offset': 0})` - serialized value may not be as expected\n",
      "  return self.__pydantic_serializer__.to_python(\n"
     ]
    },
    {
     "data": {
      "text/plain": [
       "GridBox(children=(VBox(children=(Label(value='MoS2 - Material - rotation: -90x', layout=Layout(align_self='cen…"
      ],
      "application/vnd.jupyter.widget-view+json": {
       "version_major": 2,
       "version_minor": 0,
       "model_id": "0f439a739a1643d08d5e0da129c7014d"
      }
     },
     "metadata": {},
     "output_type": "display_data"
    }
   ],
   "execution_count": 4
  },
  {
   "metadata": {},
   "cell_type": "markdown",
   "source": "### 3.2. Create twisted interfaces",
   "id": "8c4c87d9ff529b17"
  },
  {
   "metadata": {
    "ExecuteTime": {
     "end_time": "2025-07-31T17:56:54.284322Z",
     "start_time": "2025-07-31T17:56:51.991713Z"
    }
   },
   "cell_type": "code",
   "source": [
    "interfaces = []\n",
    "for parameters in INTERFACE_PARAMETERS:\n",
    "    interface = create_commensurate_interface(\n",
    "        material=slab,\n",
    "        target_angle=parameters[\"angle\"],\n",
    "        angle_tolerance=ANGLE_TOLERANCE,\n",
    "        max_repetition_int=MAX_REPETITION,\n",
    "        return_first_match=RETURN_FIRST_MATCH,\n",
    "        direction=AxisEnum.z,\n",
    "        gap=parameters[\"distance\"],\n",
    "        vacuum=INTERFACE_VACUUM\n",
    "    )\n",
    "    interfaces.append(interface)\n",
    "    print(f\"Created interface with twist angle {parameters['angle']}° and {len(interface.basis.elements.ids)} atoms\")\n"
   ],
   "id": "ec61eca814b922f5",
   "outputs": [
    {
     "name": "stdout",
     "output_type": "stream",
     "text": [
      "Created interface with twist angle 22.0° and 42 atoms\n"
     ]
    },
    {
     "name": "stderr",
     "output_type": "stream",
     "text": [
      "/Users/mat3ra/code/GREEN/api-examples/.venv-3.11.2/lib/python3.11/site-packages/pydantic/main.py:426: UserWarning: Pydantic serializer warnings:\n",
      "  PydanticSerializationUnexpectedValue: PydanticSerializationUnexpectedValue: Expected `AtomicLayersUniqueConfiguration` but got `AtomicLayersUniqueRepeatedConfiguration` with value `AtomicLayersUniqueRepeate...number_of_repetitions=1)` - serialized value may not be as expected\n",
      "PydanticSerializationUnexpectedValue: Expected `Material` but got `MaterialWithBuildMetadata` with value `MaterialWithBuildMetadata...hemaVersion='2022.8.16')` - serialized value may not be as expected\n",
      "PydanticSerializationUnexpectedValue: Expected `VacuumConfiguration` but got `AtomicLayersUniqueRepeatedConfiguration` with value `AtomicLayersUniqueRepeate...number_of_repetitions=1)` - serialized value may not be as expected\n",
      "  PydanticSerializationUnexpectedValue: Expected `VacuumConfiguration` but got `SlabStrainedSupercellConfiguration` with value `SlabStrainedSupercellConf...hIds(values=[], ids=[]))` - serialized value may not be as expected\n",
      "  PydanticSerializationUnexpectedValue: Expected `AtomicLayersUniqueConfiguration` but got `AtomicLayersUniqueRepeatedConfiguration` with value `AtomicLayersUniqueRepeate...number_of_repetitions=1)` - serialized value may not be as expected\n",
      "  PydanticSerializationUnexpectedValue: Expected `Material` but got `MaterialWithBuildMetadata` with value `MaterialWithBuildMetadata...hemaVersion='2022.8.16')` - serialized value may not be as expected\n",
      "  PydanticSerializationUnexpectedValue: Expected `VacuumConfiguration` but got `AtomicLayersUniqueRepeatedConfiguration` with value `AtomicLayersUniqueRepeate...number_of_repetitions=1)` - serialized value may not be as expected\n",
      "  Expected `dict[str, any]` but got `MaterialBuildMetadata` with value `MaterialBuildMetadata(bui...e': 'pbc', 'offset': 0})` - serialized value may not be as expected\n",
      "  PydanticSerializationUnexpectedValue: Expected `AtomicLayersUniqueConfiguration` but got `VacuumConfiguration` with value `VacuumConfiguration(direc...e='VacuumConfiguration')` - serialized value may not be as expected\n",
      "  PydanticSerializationUnexpectedValue: Expected `AtomicLayersUniqueRepeatedConfiguration` but got `VacuumConfiguration` with value `VacuumConfiguration(direc...e='VacuumConfiguration')` - serialized value may not be as expected\n",
      "  PydanticSerializationUnexpectedValue: Expected `Material` but got `MaterialWithBuildMetadata` with value `MaterialWithBuildMetadata...hemaVersion='2022.8.16')` - serialized value may not be as expected\n",
      "  Expected `dict[str, any]` but got `MaterialBuildMetadata` with value `MaterialBuildMetadata(bui...e': 'pbc', 'offset': 0})` - serialized value may not be as expected\n",
      "  PydanticSerializationUnexpectedValue: PydanticSerializationUnexpectedValue: Expected `AtomicLayersUniqueConfiguration` but got `AtomicLayersUniqueRepeatedConfiguration` with value `AtomicLayersUniqueRepeate...number_of_repetitions=1)` - serialized value may not be as expected\n",
      "PydanticSerializationUnexpectedValue: Expected `Material` but got `MaterialWithBuildMetadata` with value `MaterialWithBuildMetadata...hemaVersion='2022.8.16')` - serialized value may not be as expected\n",
      "PydanticSerializationUnexpectedValue: Expected `VacuumConfiguration` but got `AtomicLayersUniqueRepeatedConfiguration` with value `AtomicLayersUniqueRepeate...number_of_repetitions=1)` - serialized value may not be as expected\n",
      "  PydanticSerializationUnexpectedValue: Expected `VacuumConfiguration` but got `SlabStrainedSupercellConfiguration` with value `SlabStrainedSupercellConf...hIds(values=[], ids=[]))` - serialized value may not be as expected\n",
      "  PydanticSerializationUnexpectedValue: Expected `AtomicLayersUniqueConfiguration` but got `AtomicLayersUniqueRepeatedConfiguration` with value `AtomicLayersUniqueRepeate...number_of_repetitions=1)` - serialized value may not be as expected\n",
      "  PydanticSerializationUnexpectedValue: Expected `Material` but got `MaterialWithBuildMetadata` with value `MaterialWithBuildMetadata...hemaVersion='2022.8.16')` - serialized value may not be as expected\n",
      "  PydanticSerializationUnexpectedValue: Expected `VacuumConfiguration` but got `AtomicLayersUniqueRepeatedConfiguration` with value `AtomicLayersUniqueRepeate...number_of_repetitions=1)` - serialized value may not be as expected\n",
      "  Expected `dict[str, any]` but got `MaterialBuildMetadata` with value `MaterialBuildMetadata(bui...e': 'pbc', 'offset': 0})` - serialized value may not be as expected\n",
      "  PydanticSerializationUnexpectedValue: Expected `AtomicLayersUniqueConfiguration` but got `VacuumConfiguration` with value `VacuumConfiguration(direc...e='VacuumConfiguration')` - serialized value may not be as expected\n",
      "  PydanticSerializationUnexpectedValue: Expected `AtomicLayersUniqueRepeatedConfiguration` but got `VacuumConfiguration` with value `VacuumConfiguration(direc...e='VacuumConfiguration')` - serialized value may not be as expected\n",
      "  PydanticSerializationUnexpectedValue: Expected `Material` but got `MaterialWithBuildMetadata` with value `MaterialWithBuildMetadata...hemaVersion='2022.8.16')` - serialized value may not be as expected\n",
      "  Expected `dict[str, any]` but got `MaterialBuildMetadata` with value `MaterialBuildMetadata(bui...e': 'pbc', 'offset': 0})` - serialized value may not be as expected\n",
      "  return self.__pydantic_serializer__.to_python(\n"
     ]
    }
   ],
   "execution_count": 5
  },
  {
   "cell_type": "markdown",
   "id": "370d3acc33cb8907",
   "metadata": {
    "collapsed": false
   },
   "source": [
    "## 4. Preview the  materials\n"
   ]
  },
  {
   "metadata": {
    "ExecuteTime": {
     "end_time": "2025-07-31T17:56:54.315250Z",
     "start_time": "2025-07-31T17:56:54.304578Z"
    }
   },
   "cell_type": "code",
   "source": [
    "from utils.visualize import visualize_materials\n",
    "\n",
    "for interface in interfaces:\n",
    "    visualize_materials(interface, viewer=\"wave\")\n"
   ],
   "id": "65811e9ed95eb5db",
   "outputs": [
    {
     "data": {
      "text/plain": [
       "<IPython.core.display.HTML object>"
      ],
      "text/html": [
       "\n",
       "    <h2>Material</h2>\n",
       "    <div id=\"wave-1753984614.306046\" style=\"width:600px; height:600px; border:1px solid #333;\"></div>\n",
       "    "
      ]
     },
     "metadata": {},
     "output_type": "display_data"
    },
    {
     "data": {
      "text/plain": [
       "<IPython.core.display.Javascript object>"
      ],
      "application/javascript": "\n    const materialConfig={\"description\":null,\"descriptionObject\":null,\"metadata\":{\"build\":[{\"configuration\":{\"stack_components\":[{\"xy_supercell_matrix\":[[-3,-1],[-2,-3]],\"strain_matrix\":[[1.0,0.0,0.0],[0.0,1.0,0.0],[0.0,0.0,1.0]],\"stack_components\":[{\"miller_indices\":[0,0,1],\"crystal\":{\"description\":null,\"descriptionObject\":null,\"metadata\":{\"build\":[],\"boundaryConditions\":{\"type\":\"pbc\",\"offset\":0}},\"name\":\"Mo1 S2\",\"isDefault\":false,\"formula\":null,\"unitCellFormula\":null,\"basis\":{\"elements\":[{\"id\":0,\"value\":\"Mo\"},{\"id\":1,\"value\":\"S\"},{\"id\":2,\"value\":\"S\"}],\"coordinates\":[{\"id\":0,\"value\":[0.666666667,0.333333333,0.5]},{\"id\":1,\"value\":[0.333333333,0.666666667,0.432137]},{\"id\":2,\"value\":[0.333333333,0.666666667,0.567863]}],\"units\":\"crystal\",\"labels\":[],\"constraints\":[]},\"lattice\":{\"a\":3.196223,\"b\":3.196223,\"c\":23.12983,\"alpha\":90.0,\"beta\":90.0,\"gamma\":120.0,\"units\":{\"length\":\"angstrom\",\"angle\":\"degree\"},\"type\":\"TRI\"},\"derivedProperties\":null,\"external\":null,\"src\":null,\"scaledHash\":null,\"icsdId\":null,\"isNonPeriodic\":false,\"consistencyChecks\":null,\"field_id\":null,\"slug\":null,\"systemName\":null,\"schemaVersion\":\"2022.8.16\"},\"use_conventional_cell\":true,\"termination_top\":{\"chemical_elements\":\"S\",\"space_group_symmetry_label\":\"P6/mmm_1\"},\"termination_bottom\":null,\"number_of_repetitions\":1},{\"direction\":\"z\",\"size\":20.0,\"crystal\":{\"description\":null,\"descriptionObject\":null,\"metadata\":{\"build\":[{\"configuration\":{\"miller_indices\":[0,0,1],\"crystal\":{\"description\":null,\"descriptionObject\":null,\"metadata\":{\"build\":[],\"boundaryConditions\":{\"type\":\"pbc\",\"offset\":0}},\"name\":\"Mo1 S2\",\"isDefault\":false,\"formula\":null,\"unitCellFormula\":null,\"basis\":{\"elements\":[{\"id\":0,\"value\":\"Mo\"},{\"id\":1,\"value\":\"S\"},{\"id\":2,\"value\":\"S\"}],\"coordinates\":[{\"id\":0,\"value\":[0.666666667,0.333333333,0.5]},{\"id\":1,\"value\":[0.333333333,0.666666667,0.432137]},{\"id\":2,\"value\":[0.333333333,0.666666667,0.567863]}],\"units\":\"crystal\",\"labels\":[],\"constraints\":[]},\"lattice\":{\"a\":3.196223,\"b\":3.196223,\"c\":23.12983,\"alpha\":90.0,\"beta\":90.0,\"gamma\":120.0,\"units\":{\"length\":\"angstrom\",\"angle\":\"degree\"},\"type\":\"TRI\"},\"derivedProperties\":null,\"external\":null,\"src\":null,\"scaledHash\":null,\"icsdId\":null,\"isNonPeriodic\":false,\"consistencyChecks\":null,\"field_id\":null,\"slug\":null,\"systemName\":null,\"schemaVersion\":\"2022.8.16\"},\"use_conventional_cell\":true,\"termination_top\":{\"chemical_elements\":\"S\",\"space_group_symmetry_label\":\"P6/mmm_1\"},\"termination_bottom\":null,\"number_of_repetitions\":1},\"build_parameters\":{}}],\"boundaryConditions\":{\"type\":\"pbc\",\"offset\":0}},\"name\":\"MoS2(001), termination S_P6/mmm_1\",\"isDefault\":false,\"formula\":\"MoS2\",\"unitCellFormula\":null,\"basis\":{\"elements\":[{\"id\":0,\"value\":\"Mo\"},{\"id\":1,\"value\":\"S\"},{\"id\":2,\"value\":\"S\"}],\"coordinates\":[{\"id\":0,\"value\":[0.666666667,0.333333333,0.067864]},{\"id\":1,\"value\":[0.333333333,0.666666667,1e-6]},{\"id\":2,\"value\":[0.333333333,0.666666667,0.135727]}],\"units\":\"crystal\",\"labels\":[],\"constraints\":[]},\"lattice\":{\"a\":3.196223,\"b\":3.196223,\"c\":23.12983,\"alpha\":90.0,\"beta\":90.0,\"gamma\":120.0,\"units\":{\"length\":\"angstrom\",\"angle\":\"degree\"},\"type\":\"TRI\"},\"derivedProperties\":null,\"external\":null,\"src\":null,\"scaledHash\":null,\"icsdId\":null,\"isNonPeriodic\":false,\"consistencyChecks\":null,\"field_id\":null,\"slug\":null,\"systemName\":null,\"schemaVersion\":\"2022.8.16\"},\"type\":\"VacuumConfiguration\"}],\"direction\":\"z\",\"type\":\"SlabStrainedSupercellConfiguration\",\"gaps\":[]},{\"xy_supercell_matrix\":[[-3,-2],[-1,-3]],\"strain_matrix\":[[1.0,0.0,0.0],[0.0,1.0,0.0],[0.0,0.0,1.0]],\"stack_components\":[{\"miller_indices\":[0,0,1],\"crystal\":{\"description\":null,\"descriptionObject\":null,\"metadata\":{\"build\":[],\"boundaryConditions\":{\"type\":\"pbc\",\"offset\":0}},\"name\":\"Mo1 S2\",\"isDefault\":false,\"formula\":null,\"unitCellFormula\":null,\"basis\":{\"elements\":[{\"id\":0,\"value\":\"Mo\"},{\"id\":1,\"value\":\"S\"},{\"id\":2,\"value\":\"S\"}],\"coordinates\":[{\"id\":0,\"value\":[0.666666667,0.333333333,0.5]},{\"id\":1,\"value\":[0.333333333,0.666666667,0.432137]},{\"id\":2,\"value\":[0.333333333,0.666666667,0.567863]}],\"units\":\"crystal\",\"labels\":[],\"constraints\":[]},\"lattice\":{\"a\":3.196223,\"b\":3.196223,\"c\":23.12983,\"alpha\":90.0,\"beta\":90.0,\"gamma\":120.0,\"units\":{\"length\":\"angstrom\",\"angle\":\"degree\"},\"type\":\"TRI\"},\"derivedProperties\":null,\"external\":null,\"src\":null,\"scaledHash\":null,\"icsdId\":null,\"isNonPeriodic\":false,\"consistencyChecks\":null,\"field_id\":null,\"slug\":null,\"systemName\":null,\"schemaVersion\":\"2022.8.16\"},\"use_conventional_cell\":true,\"termination_top\":{\"chemical_elements\":\"S\",\"space_group_symmetry_label\":\"P6/mmm_1\"},\"termination_bottom\":null,\"number_of_repetitions\":1},{\"direction\":\"z\",\"size\":20.0,\"crystal\":{\"description\":null,\"descriptionObject\":null,\"metadata\":{\"build\":[{\"configuration\":{\"miller_indices\":[0,0,1],\"crystal\":{\"description\":null,\"descriptionObject\":null,\"metadata\":{\"build\":[],\"boundaryConditions\":{\"type\":\"pbc\",\"offset\":0}},\"name\":\"Mo1 S2\",\"isDefault\":false,\"formula\":null,\"unitCellFormula\":null,\"basis\":{\"elements\":[{\"id\":0,\"value\":\"Mo\"},{\"id\":1,\"value\":\"S\"},{\"id\":2,\"value\":\"S\"}],\"coordinates\":[{\"id\":0,\"value\":[0.666666667,0.333333333,0.5]},{\"id\":1,\"value\":[0.333333333,0.666666667,0.432137]},{\"id\":2,\"value\":[0.333333333,0.666666667,0.567863]}],\"units\":\"crystal\",\"labels\":[],\"constraints\":[]},\"lattice\":{\"a\":3.196223,\"b\":3.196223,\"c\":23.12983,\"alpha\":90.0,\"beta\":90.0,\"gamma\":120.0,\"units\":{\"length\":\"angstrom\",\"angle\":\"degree\"},\"type\":\"TRI\"},\"derivedProperties\":null,\"external\":null,\"src\":null,\"scaledHash\":null,\"icsdId\":null,\"isNonPeriodic\":false,\"consistencyChecks\":null,\"field_id\":null,\"slug\":null,\"systemName\":null,\"schemaVersion\":\"2022.8.16\"},\"use_conventional_cell\":true,\"termination_top\":{\"chemical_elements\":\"S\",\"space_group_symmetry_label\":\"P6/mmm_1\"},\"termination_bottom\":null,\"number_of_repetitions\":1},\"build_parameters\":{}}],\"boundaryConditions\":{\"type\":\"pbc\",\"offset\":0}},\"name\":\"MoS2(001), termination S_P6/mmm_1\",\"isDefault\":false,\"formula\":\"MoS2\",\"unitCellFormula\":null,\"basis\":{\"elements\":[{\"id\":0,\"value\":\"Mo\"},{\"id\":1,\"value\":\"S\"},{\"id\":2,\"value\":\"S\"}],\"coordinates\":[{\"id\":0,\"value\":[0.666666667,0.333333333,0.067864]},{\"id\":1,\"value\":[0.333333333,0.666666667,1e-6]},{\"id\":2,\"value\":[0.333333333,0.666666667,0.135727]}],\"units\":\"crystal\",\"labels\":[],\"constraints\":[]},\"lattice\":{\"a\":3.196223,\"b\":3.196223,\"c\":23.12983,\"alpha\":90.0,\"beta\":90.0,\"gamma\":120.0,\"units\":{\"length\":\"angstrom\",\"angle\":\"degree\"},\"type\":\"TRI\"},\"derivedProperties\":null,\"external\":null,\"src\":null,\"scaledHash\":null,\"icsdId\":null,\"isNonPeriodic\":false,\"consistencyChecks\":null,\"field_id\":null,\"slug\":null,\"systemName\":null,\"schemaVersion\":\"2022.8.16\"},\"type\":\"VacuumConfiguration\"}],\"direction\":\"z\",\"type\":\"SlabStrainedSupercellConfiguration\",\"gaps\":[]}],\"direction\":\"z\",\"xy_shift\":[0.0,0.0],\"type\":\"InterfaceConfiguration\",\"gaps\":[{\"id\":0,\"value\":6.5},{\"id\":1,\"value\":6.5}]},\"build_parameters\":{\"make_primitive\":true}}],\"boundaryConditions\":{\"type\":\"pbc\",\"offset\":0}},\"name\":\"MoS2(001)-MoS2(001), Interface\",\"isDefault\":false,\"formula\":null,\"unitCellFormula\":null,\"basis\":{\"elements\":[{\"id\":0,\"value\":\"Mo\"},{\"id\":1,\"value\":\"S\"},{\"id\":2,\"value\":\"S\"},{\"id\":3,\"value\":\"Mo\"},{\"id\":4,\"value\":\"S\"},{\"id\":5,\"value\":\"S\"},{\"id\":6,\"value\":\"Mo\"},{\"id\":7,\"value\":\"S\"},{\"id\":8,\"value\":\"S\"},{\"id\":9,\"value\":\"Mo\"},{\"id\":10,\"value\":\"S\"},{\"id\":11,\"value\":\"S\"},{\"id\":12,\"value\":\"Mo\"},{\"id\":13,\"value\":\"S\"},{\"id\":14,\"value\":\"S\"},{\"id\":15,\"value\":\"Mo\"},{\"id\":16,\"value\":\"S\"},{\"id\":17,\"value\":\"S\"},{\"id\":18,\"value\":\"Mo\"},{\"id\":19,\"value\":\"S\"},{\"id\":20,\"value\":\"S\"},{\"id\":21,\"value\":\"Mo\"},{\"id\":22,\"value\":\"S\"},{\"id\":23,\"value\":\"S\"},{\"id\":24,\"value\":\"Mo\"},{\"id\":25,\"value\":\"S\"},{\"id\":26,\"value\":\"S\"},{\"id\":27,\"value\":\"Mo\"},{\"id\":28,\"value\":\"S\"},{\"id\":29,\"value\":\"S\"},{\"id\":30,\"value\":\"Mo\"},{\"id\":31,\"value\":\"S\"},{\"id\":32,\"value\":\"S\"},{\"id\":33,\"value\":\"Mo\"},{\"id\":34,\"value\":\"S\"},{\"id\":35,\"value\":\"S\"},{\"id\":36,\"value\":\"Mo\"},{\"id\":37,\"value\":\"S\"},{\"id\":38,\"value\":\"S\"},{\"id\":39,\"value\":\"Mo\"},{\"id\":40,\"value\":\"S\"},{\"id\":41,\"value\":\"S\"}],\"coordinates\":[{\"id\":0,\"value\":[0.666666666,0.666666667,0.081420636]},{\"id\":1,\"value\":[0.904761905,0.476190476,1.199e-6]},{\"id\":2,\"value\":[0.904761905,0.476190476,0.162840072]},{\"id\":3,\"value\":[0.238095238,0.80952381,0.081420636]},{\"id\":4,\"value\":[0.476190476,0.619047619,1.199e-6]},{\"id\":5,\"value\":[0.476190476,0.619047619,0.162840072]},{\"id\":6,\"value\":[0.523809524,0.380952381,0.081420636]},{\"id\":7,\"value\":[0.761904762,0.19047619,1.199e-6]},{\"id\":8,\"value\":[0.761904762,0.19047619,0.162840072]},{\"id\":9,\"value\":[0.095238095,0.523809524,0.081420636]},{\"id\":10,\"value\":[0.333333334,0.333333333,1.199e-6]},{\"id\":11,\"value\":[0.333333334,0.333333333,0.162840072]},{\"id\":12,\"value\":[0.380952381,0.095238095,0.081420636]},{\"id\":13,\"value\":[0.619047619,0.904761905,1.199e-6]},{\"id\":14,\"value\":[0.619047619,0.904761905,0.162840072]},{\"id\":15,\"value\":[0.952380952,0.238095238,0.081420636]},{\"id\":16,\"value\":[0.190476191,0.047619047,1.199e-6]},{\"id\":17,\"value\":[0.190476191,0.047619047,0.162840072]},{\"id\":18,\"value\":[0.809523809,0.952380953,0.081420636]},{\"id\":19,\"value\":[0.047619048,0.761904762,1.199e-6]},{\"id\":20,\"value\":[0.047619048,0.761904762,0.162840072]},{\"id\":21,\"value\":[0.476190476,0.904761905,0.581420636]},{\"id\":22,\"value\":[0.666666667,0.666666666,0.500001199]},{\"id\":23,\"value\":[0.666666667,0.666666666,0.662840072]},{\"id\":24,\"value\":[0.619047619,0.476190476,0.581420636]},{\"id\":25,\"value\":[0.80952381,0.238095238,0.500001199]},{\"id\":26,\"value\":[0.80952381,0.238095238,0.662840072]},{\"id\":27,\"value\":[0.19047619,0.761904762,0.581420636]},{\"id\":28,\"value\":[0.380952381,0.523809524,0.500001199]},{\"id\":29,\"value\":[0.380952381,0.523809524,0.662840072]},{\"id\":30,\"value\":[0.333333333,0.333333334,0.581420636]},{\"id\":31,\"value\":[0.523809524,0.095238095,0.500001199]},{\"id\":32,\"value\":[0.523809524,0.095238095,0.662840072]},{\"id\":33,\"value\":[0.904761905,0.619047619,0.581420636]},{\"id\":34,\"value\":[0.095238095,0.380952381,0.500001199]},{\"id\":35,\"value\":[0.095238095,0.380952381,0.662840072]},{\"id\":36,\"value\":[0.047619047,0.190476191,0.581420636]},{\"id\":37,\"value\":[0.238095238,0.952380952,0.500001199]},{\"id\":38,\"value\":[0.238095238,0.952380952,0.662840072]},{\"id\":39,\"value\":[0.761904762,0.047619048,0.581420636]},{\"id\":40,\"value\":[0.952380953,0.809523809,0.500001199]},{\"id\":41,\"value\":[0.952380953,0.809523809,0.662840072]}],\"units\":\"crystal\",\"labels\":[{\"id\":0,\"value\":0},{\"id\":1,\"value\":0},{\"id\":2,\"value\":0},{\"id\":3,\"value\":0},{\"id\":4,\"value\":0},{\"id\":5,\"value\":0},{\"id\":6,\"value\":0},{\"id\":7,\"value\":0},{\"id\":8,\"value\":0},{\"id\":9,\"value\":0},{\"id\":10,\"value\":0},{\"id\":11,\"value\":0},{\"id\":12,\"value\":0},{\"id\":13,\"value\":0},{\"id\":14,\"value\":0},{\"id\":15,\"value\":0},{\"id\":16,\"value\":0},{\"id\":17,\"value\":0},{\"id\":18,\"value\":0},{\"id\":19,\"value\":0},{\"id\":20,\"value\":0},{\"id\":21,\"value\":1},{\"id\":22,\"value\":1},{\"id\":23,\"value\":1},{\"id\":24,\"value\":1},{\"id\":25,\"value\":1},{\"id\":26,\"value\":1},{\"id\":27,\"value\":1},{\"id\":28,\"value\":1},{\"id\":29,\"value\":1},{\"id\":30,\"value\":1},{\"id\":31,\"value\":1},{\"id\":32,\"value\":1},{\"id\":33,\"value\":1},{\"id\":34,\"value\":1},{\"id\":35,\"value\":1},{\"id\":36,\"value\":1},{\"id\":37,\"value\":1},{\"id\":38,\"value\":1},{\"id\":39,\"value\":1},{\"id\":40,\"value\":1},{\"id\":41,\"value\":1}],\"constraints\":[]},\"lattice\":{\"a\":8.456411193,\"b\":8.456411193,\"c\":19.278684866,\"alpha\":90.0,\"beta\":90.0,\"gamma\":60.0,\"units\":{\"length\":\"angstrom\",\"angle\":\"degree\"},\"type\":\"TRI\"},\"derivedProperties\":null,\"external\":null,\"src\":null,\"scaledHash\":null,\"icsdId\":null,\"isNonPeriodic\":false,\"consistencyChecks\":null,\"field_id\":null,\"slug\":null,\"systemName\":null,\"schemaVersion\":\"2022.8.16\"};\n    const container = document.getElementById('wave-1753984614.306046');\n        \n    (async function() {\n            const module = await import('https://exabyte-io.github.io/wave.js/main.js');\n            window.renderThreeDEditor(materialConfig, container);\n    })();\n    document.head.insertAdjacentHTML(\n        'beforeend',\n        '<link rel=\"stylesheet\" href=\"https://exabyte-io.github.io/wave.js/main.css\"/>');\n    "
     },
     "metadata": {},
     "output_type": "display_data"
    }
   ],
   "execution_count": 6
  },
  {
   "metadata": {},
   "cell_type": "markdown",
   "source": "## 5. Download materials\n",
   "id": "c395226b74ee0ea1"
  },
  {
   "metadata": {
    "ExecuteTime": {
     "end_time": "2025-07-31T17:56:54.368330Z",
     "start_time": "2025-07-31T17:56:54.354458Z"
    }
   },
   "cell_type": "code",
   "source": [
    "from utils.jupyterlite import download_content_to_file, set_materials\n",
    "\n",
    "set_materials(interfaces)\n",
    "\n",
    "for idx, interface in enumerate(interfaces):\n",
    "    download_content_to_file(interface.to_json(), f\"twisted_interface_{idx}.json\")"
   ],
   "id": "d548c123372d9205",
   "outputs": [
    {
     "name": "stdout",
     "output_type": "stream",
     "text": [
      "Data for materials written to uploads/MoS2(001)-MoS2(001), Interface.json\n"
     ]
    },
    {
     "data": {
      "text/plain": [
       "<IPython.core.display.Javascript object>"
      ],
      "application/javascript": "\n    var content = `{\"description\":null,\"descriptionObject\":null,\"metadata\":{\"build\":[{\"configuration\":{\"stack_components\":[{\"xy_supercell_matrix\":[[-3,-1],[-2,-3]],\"strain_matrix\":[[1.0,0.0,0.0],[0.0,1.0,0.0],[0.0,0.0,1.0]],\"stack_components\":[{\"miller_indices\":[0,0,1],\"crystal\":{\"description\":null,\"descriptionObject\":null,\"metadata\":{\"build\":[],\"boundaryConditions\":{\"type\":\"pbc\",\"offset\":0}},\"name\":\"Mo1 S2\",\"isDefault\":false,\"formula\":null,\"unitCellFormula\":null,\"basis\":{\"elements\":[{\"id\":0,\"value\":\"Mo\"},{\"id\":1,\"value\":\"S\"},{\"id\":2,\"value\":\"S\"}],\"coordinates\":[{\"id\":0,\"value\":[0.666666667,0.333333333,0.5]},{\"id\":1,\"value\":[0.333333333,0.666666667,0.432137]},{\"id\":2,\"value\":[0.333333333,0.666666667,0.567863]}],\"units\":\"crystal\",\"labels\":[],\"constraints\":[]},\"lattice\":{\"a\":3.196223,\"b\":3.196223,\"c\":23.12983,\"alpha\":90.0,\"beta\":90.0,\"gamma\":120.0,\"units\":{\"length\":\"angstrom\",\"angle\":\"degree\"},\"type\":\"TRI\"},\"derivedProperties\":null,\"external\":null,\"src\":null,\"scaledHash\":null,\"icsdId\":null,\"isNonPeriodic\":false,\"consistencyChecks\":null,\"field_id\":null,\"slug\":null,\"systemName\":null,\"schemaVersion\":\"2022.8.16\"},\"use_conventional_cell\":true,\"termination_top\":{\"chemical_elements\":\"S\",\"space_group_symmetry_label\":\"P6/mmm_1\"},\"termination_bottom\":null,\"number_of_repetitions\":1},{\"direction\":\"z\",\"size\":20.0,\"crystal\":{\"description\":null,\"descriptionObject\":null,\"metadata\":{\"build\":[{\"configuration\":{\"miller_indices\":[0,0,1],\"crystal\":{\"description\":null,\"descriptionObject\":null,\"metadata\":{\"build\":[],\"boundaryConditions\":{\"type\":\"pbc\",\"offset\":0}},\"name\":\"Mo1 S2\",\"isDefault\":false,\"formula\":null,\"unitCellFormula\":null,\"basis\":{\"elements\":[{\"id\":0,\"value\":\"Mo\"},{\"id\":1,\"value\":\"S\"},{\"id\":2,\"value\":\"S\"}],\"coordinates\":[{\"id\":0,\"value\":[0.666666667,0.333333333,0.5]},{\"id\":1,\"value\":[0.333333333,0.666666667,0.432137]},{\"id\":2,\"value\":[0.333333333,0.666666667,0.567863]}],\"units\":\"crystal\",\"labels\":[],\"constraints\":[]},\"lattice\":{\"a\":3.196223,\"b\":3.196223,\"c\":23.12983,\"alpha\":90.0,\"beta\":90.0,\"gamma\":120.0,\"units\":{\"length\":\"angstrom\",\"angle\":\"degree\"},\"type\":\"TRI\"},\"derivedProperties\":null,\"external\":null,\"src\":null,\"scaledHash\":null,\"icsdId\":null,\"isNonPeriodic\":false,\"consistencyChecks\":null,\"field_id\":null,\"slug\":null,\"systemName\":null,\"schemaVersion\":\"2022.8.16\"},\"use_conventional_cell\":true,\"termination_top\":{\"chemical_elements\":\"S\",\"space_group_symmetry_label\":\"P6/mmm_1\"},\"termination_bottom\":null,\"number_of_repetitions\":1},\"build_parameters\":{}}],\"boundaryConditions\":{\"type\":\"pbc\",\"offset\":0}},\"name\":\"MoS2(001), termination S_P6/mmm_1\",\"isDefault\":false,\"formula\":\"MoS2\",\"unitCellFormula\":null,\"basis\":{\"elements\":[{\"id\":0,\"value\":\"Mo\"},{\"id\":1,\"value\":\"S\"},{\"id\":2,\"value\":\"S\"}],\"coordinates\":[{\"id\":0,\"value\":[0.666666667,0.333333333,0.067864]},{\"id\":1,\"value\":[0.333333333,0.666666667,1e-6]},{\"id\":2,\"value\":[0.333333333,0.666666667,0.135727]}],\"units\":\"crystal\",\"labels\":[],\"constraints\":[]},\"lattice\":{\"a\":3.196223,\"b\":3.196223,\"c\":23.12983,\"alpha\":90.0,\"beta\":90.0,\"gamma\":120.0,\"units\":{\"length\":\"angstrom\",\"angle\":\"degree\"},\"type\":\"TRI\"},\"derivedProperties\":null,\"external\":null,\"src\":null,\"scaledHash\":null,\"icsdId\":null,\"isNonPeriodic\":false,\"consistencyChecks\":null,\"field_id\":null,\"slug\":null,\"systemName\":null,\"schemaVersion\":\"2022.8.16\"},\"type\":\"VacuumConfiguration\"}],\"direction\":\"z\",\"type\":\"SlabStrainedSupercellConfiguration\",\"gaps\":[]},{\"xy_supercell_matrix\":[[-3,-2],[-1,-3]],\"strain_matrix\":[[1.0,0.0,0.0],[0.0,1.0,0.0],[0.0,0.0,1.0]],\"stack_components\":[{\"miller_indices\":[0,0,1],\"crystal\":{\"description\":null,\"descriptionObject\":null,\"metadata\":{\"build\":[],\"boundaryConditions\":{\"type\":\"pbc\",\"offset\":0}},\"name\":\"Mo1 S2\",\"isDefault\":false,\"formula\":null,\"unitCellFormula\":null,\"basis\":{\"elements\":[{\"id\":0,\"value\":\"Mo\"},{\"id\":1,\"value\":\"S\"},{\"id\":2,\"value\":\"S\"}],\"coordinates\":[{\"id\":0,\"value\":[0.666666667,0.333333333,0.5]},{\"id\":1,\"value\":[0.333333333,0.666666667,0.432137]},{\"id\":2,\"value\":[0.333333333,0.666666667,0.567863]}],\"units\":\"crystal\",\"labels\":[],\"constraints\":[]},\"lattice\":{\"a\":3.196223,\"b\":3.196223,\"c\":23.12983,\"alpha\":90.0,\"beta\":90.0,\"gamma\":120.0,\"units\":{\"length\":\"angstrom\",\"angle\":\"degree\"},\"type\":\"TRI\"},\"derivedProperties\":null,\"external\":null,\"src\":null,\"scaledHash\":null,\"icsdId\":null,\"isNonPeriodic\":false,\"consistencyChecks\":null,\"field_id\":null,\"slug\":null,\"systemName\":null,\"schemaVersion\":\"2022.8.16\"},\"use_conventional_cell\":true,\"termination_top\":{\"chemical_elements\":\"S\",\"space_group_symmetry_label\":\"P6/mmm_1\"},\"termination_bottom\":null,\"number_of_repetitions\":1},{\"direction\":\"z\",\"size\":20.0,\"crystal\":{\"description\":null,\"descriptionObject\":null,\"metadata\":{\"build\":[{\"configuration\":{\"miller_indices\":[0,0,1],\"crystal\":{\"description\":null,\"descriptionObject\":null,\"metadata\":{\"build\":[],\"boundaryConditions\":{\"type\":\"pbc\",\"offset\":0}},\"name\":\"Mo1 S2\",\"isDefault\":false,\"formula\":null,\"unitCellFormula\":null,\"basis\":{\"elements\":[{\"id\":0,\"value\":\"Mo\"},{\"id\":1,\"value\":\"S\"},{\"id\":2,\"value\":\"S\"}],\"coordinates\":[{\"id\":0,\"value\":[0.666666667,0.333333333,0.5]},{\"id\":1,\"value\":[0.333333333,0.666666667,0.432137]},{\"id\":2,\"value\":[0.333333333,0.666666667,0.567863]}],\"units\":\"crystal\",\"labels\":[],\"constraints\":[]},\"lattice\":{\"a\":3.196223,\"b\":3.196223,\"c\":23.12983,\"alpha\":90.0,\"beta\":90.0,\"gamma\":120.0,\"units\":{\"length\":\"angstrom\",\"angle\":\"degree\"},\"type\":\"TRI\"},\"derivedProperties\":null,\"external\":null,\"src\":null,\"scaledHash\":null,\"icsdId\":null,\"isNonPeriodic\":false,\"consistencyChecks\":null,\"field_id\":null,\"slug\":null,\"systemName\":null,\"schemaVersion\":\"2022.8.16\"},\"use_conventional_cell\":true,\"termination_top\":{\"chemical_elements\":\"S\",\"space_group_symmetry_label\":\"P6/mmm_1\"},\"termination_bottom\":null,\"number_of_repetitions\":1},\"build_parameters\":{}}],\"boundaryConditions\":{\"type\":\"pbc\",\"offset\":0}},\"name\":\"MoS2(001), termination S_P6/mmm_1\",\"isDefault\":false,\"formula\":\"MoS2\",\"unitCellFormula\":null,\"basis\":{\"elements\":[{\"id\":0,\"value\":\"Mo\"},{\"id\":1,\"value\":\"S\"},{\"id\":2,\"value\":\"S\"}],\"coordinates\":[{\"id\":0,\"value\":[0.666666667,0.333333333,0.067864]},{\"id\":1,\"value\":[0.333333333,0.666666667,1e-6]},{\"id\":2,\"value\":[0.333333333,0.666666667,0.135727]}],\"units\":\"crystal\",\"labels\":[],\"constraints\":[]},\"lattice\":{\"a\":3.196223,\"b\":3.196223,\"c\":23.12983,\"alpha\":90.0,\"beta\":90.0,\"gamma\":120.0,\"units\":{\"length\":\"angstrom\",\"angle\":\"degree\"},\"type\":\"TRI\"},\"derivedProperties\":null,\"external\":null,\"src\":null,\"scaledHash\":null,\"icsdId\":null,\"isNonPeriodic\":false,\"consistencyChecks\":null,\"field_id\":null,\"slug\":null,\"systemName\":null,\"schemaVersion\":\"2022.8.16\"},\"type\":\"VacuumConfiguration\"}],\"direction\":\"z\",\"type\":\"SlabStrainedSupercellConfiguration\",\"gaps\":[]}],\"direction\":\"z\",\"xy_shift\":[0.0,0.0],\"type\":\"InterfaceConfiguration\",\"gaps\":[{\"id\":0,\"value\":6.5},{\"id\":1,\"value\":6.5}]},\"build_parameters\":{\"make_primitive\":true}}],\"boundaryConditions\":{\"type\":\"pbc\",\"offset\":0}},\"name\":\"MoS2(001)-MoS2(001), Interface\",\"isDefault\":false,\"formula\":null,\"unitCellFormula\":null,\"basis\":{\"elements\":[{\"id\":0,\"value\":\"Mo\"},{\"id\":1,\"value\":\"S\"},{\"id\":2,\"value\":\"S\"},{\"id\":3,\"value\":\"Mo\"},{\"id\":4,\"value\":\"S\"},{\"id\":5,\"value\":\"S\"},{\"id\":6,\"value\":\"Mo\"},{\"id\":7,\"value\":\"S\"},{\"id\":8,\"value\":\"S\"},{\"id\":9,\"value\":\"Mo\"},{\"id\":10,\"value\":\"S\"},{\"id\":11,\"value\":\"S\"},{\"id\":12,\"value\":\"Mo\"},{\"id\":13,\"value\":\"S\"},{\"id\":14,\"value\":\"S\"},{\"id\":15,\"value\":\"Mo\"},{\"id\":16,\"value\":\"S\"},{\"id\":17,\"value\":\"S\"},{\"id\":18,\"value\":\"Mo\"},{\"id\":19,\"value\":\"S\"},{\"id\":20,\"value\":\"S\"},{\"id\":21,\"value\":\"Mo\"},{\"id\":22,\"value\":\"S\"},{\"id\":23,\"value\":\"S\"},{\"id\":24,\"value\":\"Mo\"},{\"id\":25,\"value\":\"S\"},{\"id\":26,\"value\":\"S\"},{\"id\":27,\"value\":\"Mo\"},{\"id\":28,\"value\":\"S\"},{\"id\":29,\"value\":\"S\"},{\"id\":30,\"value\":\"Mo\"},{\"id\":31,\"value\":\"S\"},{\"id\":32,\"value\":\"S\"},{\"id\":33,\"value\":\"Mo\"},{\"id\":34,\"value\":\"S\"},{\"id\":35,\"value\":\"S\"},{\"id\":36,\"value\":\"Mo\"},{\"id\":37,\"value\":\"S\"},{\"id\":38,\"value\":\"S\"},{\"id\":39,\"value\":\"Mo\"},{\"id\":40,\"value\":\"S\"},{\"id\":41,\"value\":\"S\"}],\"coordinates\":[{\"id\":0,\"value\":[0.666666666,0.666666667,0.081420636]},{\"id\":1,\"value\":[0.904761905,0.476190476,1.199e-6]},{\"id\":2,\"value\":[0.904761905,0.476190476,0.162840072]},{\"id\":3,\"value\":[0.238095238,0.80952381,0.081420636]},{\"id\":4,\"value\":[0.476190476,0.619047619,1.199e-6]},{\"id\":5,\"value\":[0.476190476,0.619047619,0.162840072]},{\"id\":6,\"value\":[0.523809524,0.380952381,0.081420636]},{\"id\":7,\"value\":[0.761904762,0.19047619,1.199e-6]},{\"id\":8,\"value\":[0.761904762,0.19047619,0.162840072]},{\"id\":9,\"value\":[0.095238095,0.523809524,0.081420636]},{\"id\":10,\"value\":[0.333333334,0.333333333,1.199e-6]},{\"id\":11,\"value\":[0.333333334,0.333333333,0.162840072]},{\"id\":12,\"value\":[0.380952381,0.095238095,0.081420636]},{\"id\":13,\"value\":[0.619047619,0.904761905,1.199e-6]},{\"id\":14,\"value\":[0.619047619,0.904761905,0.162840072]},{\"id\":15,\"value\":[0.952380952,0.238095238,0.081420636]},{\"id\":16,\"value\":[0.190476191,0.047619047,1.199e-6]},{\"id\":17,\"value\":[0.190476191,0.047619047,0.162840072]},{\"id\":18,\"value\":[0.809523809,0.952380953,0.081420636]},{\"id\":19,\"value\":[0.047619048,0.761904762,1.199e-6]},{\"id\":20,\"value\":[0.047619048,0.761904762,0.162840072]},{\"id\":21,\"value\":[0.476190476,0.904761905,0.581420636]},{\"id\":22,\"value\":[0.666666667,0.666666666,0.500001199]},{\"id\":23,\"value\":[0.666666667,0.666666666,0.662840072]},{\"id\":24,\"value\":[0.619047619,0.476190476,0.581420636]},{\"id\":25,\"value\":[0.80952381,0.238095238,0.500001199]},{\"id\":26,\"value\":[0.80952381,0.238095238,0.662840072]},{\"id\":27,\"value\":[0.19047619,0.761904762,0.581420636]},{\"id\":28,\"value\":[0.380952381,0.523809524,0.500001199]},{\"id\":29,\"value\":[0.380952381,0.523809524,0.662840072]},{\"id\":30,\"value\":[0.333333333,0.333333334,0.581420636]},{\"id\":31,\"value\":[0.523809524,0.095238095,0.500001199]},{\"id\":32,\"value\":[0.523809524,0.095238095,0.662840072]},{\"id\":33,\"value\":[0.904761905,0.619047619,0.581420636]},{\"id\":34,\"value\":[0.095238095,0.380952381,0.500001199]},{\"id\":35,\"value\":[0.095238095,0.380952381,0.662840072]},{\"id\":36,\"value\":[0.047619047,0.190476191,0.581420636]},{\"id\":37,\"value\":[0.238095238,0.952380952,0.500001199]},{\"id\":38,\"value\":[0.238095238,0.952380952,0.662840072]},{\"id\":39,\"value\":[0.761904762,0.047619048,0.581420636]},{\"id\":40,\"value\":[0.952380953,0.809523809,0.500001199]},{\"id\":41,\"value\":[0.952380953,0.809523809,0.662840072]}],\"units\":\"crystal\",\"labels\":[{\"id\":0,\"value\":0},{\"id\":1,\"value\":0},{\"id\":2,\"value\":0},{\"id\":3,\"value\":0},{\"id\":4,\"value\":0},{\"id\":5,\"value\":0},{\"id\":6,\"value\":0},{\"id\":7,\"value\":0},{\"id\":8,\"value\":0},{\"id\":9,\"value\":0},{\"id\":10,\"value\":0},{\"id\":11,\"value\":0},{\"id\":12,\"value\":0},{\"id\":13,\"value\":0},{\"id\":14,\"value\":0},{\"id\":15,\"value\":0},{\"id\":16,\"value\":0},{\"id\":17,\"value\":0},{\"id\":18,\"value\":0},{\"id\":19,\"value\":0},{\"id\":20,\"value\":0},{\"id\":21,\"value\":1},{\"id\":22,\"value\":1},{\"id\":23,\"value\":1},{\"id\":24,\"value\":1},{\"id\":25,\"value\":1},{\"id\":26,\"value\":1},{\"id\":27,\"value\":1},{\"id\":28,\"value\":1},{\"id\":29,\"value\":1},{\"id\":30,\"value\":1},{\"id\":31,\"value\":1},{\"id\":32,\"value\":1},{\"id\":33,\"value\":1},{\"id\":34,\"value\":1},{\"id\":35,\"value\":1},{\"id\":36,\"value\":1},{\"id\":37,\"value\":1},{\"id\":38,\"value\":1},{\"id\":39,\"value\":1},{\"id\":40,\"value\":1},{\"id\":41,\"value\":1}],\"constraints\":[]},\"lattice\":{\"a\":8.456411193,\"b\":8.456411193,\"c\":19.278684866,\"alpha\":90.0,\"beta\":90.0,\"gamma\":60.0,\"units\":{\"length\":\"angstrom\",\"angle\":\"degree\"},\"type\":\"TRI\"},\"derivedProperties\":null,\"external\":null,\"src\":null,\"scaledHash\":null,\"icsdId\":null,\"isNonPeriodic\":false,\"consistencyChecks\":null,\"field_id\":null,\"slug\":null,\"systemName\":null,\"schemaVersion\":\"2022.8.16\"}`;\n    var filename = `twisted_interface_0.json`;\n    var blob = new Blob([content], { type: 'application/json' });\n    var link = document.createElement('a');\n    link.href = window.URL.createObjectURL(blob);\n    link.download = filename;\n    document.body.appendChild(link);\n    link.click();\n    document.body.removeChild(link);\n    "
     },
     "metadata": {},
     "output_type": "display_data"
    }
   ],
   "execution_count": 7
  }
 ],
 "metadata": {
  "kernelspec": {
   "display_name": "Python 3",
   "language": "python",
   "name": "python3"
  },
  "language_info": {
   "codemirror_mode": {
    "name": "ipython",
    "version": 2
   },
   "file_extension": ".py",
   "mimetype": "text/x-python",
   "name": "python",
   "nbconvert_exporter": "python",
   "pygments_lexer": "ipython2",
   "version": "2.7.6"
  }
 },
 "nbformat": 4,
 "nbformat_minor": 5
}
