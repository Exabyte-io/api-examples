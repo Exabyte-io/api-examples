{
 "cells": [
  {
   "cell_type": "code",
   "execution_count": null,
   "id": "initial_id",
   "metadata": {
    "collapsed": true
   },
   "outputs": [],
   "source": [
    "from mat3ra.made.tools.build.slab import SlabConfiguration, get_terminations, create_slab\n",
    "from mat3ra.made.material import Material\n",
    "from utils.visualize import visualize_materials\n",
    "\n",
    "clean_material = Material.create(Material.default_config)\n",
    "\n",
    "slab_config = SlabConfiguration(\n",
    "    bulk=clean_material,\n",
    "    miller_indices=(0, 0, 1),\n",
    "    thickness=3,\n",
    "    vacuum=1,\n",
    "    xy_supercell_matrix=[[2, 0], [0, 1]],\n",
    "    use_orthogonal_z=True,\n",
    ")\n",
    "t = get_terminations(slab_config)[0]\n",
    "slab = create_slab(slab_config, t)\n",
    "\n",
    "visualize_materials([{\"material\":slab, \"title\":\"slab\", \"rotation\":\"-90x\"}], repetitions=[1, 1, 1])"
   ]
  },
  {
   "cell_type": "code",
   "outputs": [],
   "source": [
    "from mat3ra.made.tools.build.defect.builders import PointDefectPairBuilder\n",
    "from mat3ra.made.tools.build.defect.configuration import PointDefectPairConfiguration, PointDefectConfiguration, \\\n",
    "    PointDefectTypeEnum, AdatomSlabPointDefectConfiguration\n",
    "\n",
    "defect1_config = PointDefectConfiguration.from_approximate_position(\n",
    "    crystal=slab,\n",
    "    defect_type=PointDefectTypeEnum.VACANCY,\n",
    "    approximate_coordinate=[0.5, 0.5, 0.5],\n",
    ")\n",
    "defect2_config = AdatomSlabPointDefectConfiguration(\n",
    "    placement_method=\"crystal_site\",\n",
    "    position_on_surface=[0.5, 0.5],\n",
    "    distance_z=2.5,\n",
    "    chemical_element=\"Si\"\n",
    ")\n",
    "defect_pair_config = PointDefectPairConfiguration(\n",
    "    primary_defect_configuration=defect1_config,\n",
    "    secondary_defect_configuration=defect2_config,\n",
    ")\n",
    "defect_material=PointDefectPairBuilder().get_material(defect_pair_config)\n",
    "visualize_materials([{\"material\":defect_material, \"title\":\"defect_material\", \"rotation\":\"-90x\"}, {\"material\":slab, \"title\":\"slab\"}], repetitions=[1, 1, 1])"
   ],
   "metadata": {
    "collapsed": false
   },
   "id": "12f12953b88abab7",
   "execution_count": null
  },
  {
   "cell_type": "code",
   "outputs": [],
   "source": [],
   "metadata": {
    "collapsed": false
   },
   "id": "91dc2479b40db2e1",
   "execution_count": null
  },
  {
   "cell_type": "code",
   "outputs": [],
   "source": [],
   "metadata": {
    "collapsed": false
   },
   "id": "4b3bbe57af3ebf9b"
  }
 ],
 "metadata": {
  "kernelspec": {
   "display_name": "Python 3",
   "language": "python",
   "name": "python3"
  },
  "language_info": {
   "codemirror_mode": {
    "name": "ipython",
    "version": 2
   },
   "file_extension": ".py",
   "mimetype": "text/x-python",
   "name": "python",
   "nbconvert_exporter": "python",
   "pygments_lexer": "ipython2",
   "version": "2.7.6"
  }
 },
 "nbformat": 4,
 "nbformat_minor": 5
}
