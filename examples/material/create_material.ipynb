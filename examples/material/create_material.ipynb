version https://git-lfs.github.com/spec/v1
oid sha256:243284263347a9acb79187859c6619b128d52df8c5d969b7d9461323d9f9e7e2
size 9248
