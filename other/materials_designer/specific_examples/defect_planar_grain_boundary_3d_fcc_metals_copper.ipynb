{
 "cells": [
  {
   "cell_type": "markdown",
   "id": "aa0a426af23f6def",
   "metadata": {
    "collapsed": false
   },
   "source": [
    "# Grain Boundary 3D FCC Metals (Copper)\n",
    "\n",
    "## 0. Introduction\n",
    "\n",
    "This notebook demonstrates how to create a grain boundary structure for a 3D FCC metal, Cu in particular. The grain boundary is created by combining two slabs with different orientations. \n",
    "\n",
    "Aiming to reproduce the structure from the publication:\n",
    "> **Timofey Frolov, David L. Olmsted, Mark Asta & Yuri Mishin**\n",
    "> \"Structural phase transformations in metallic grain boundaries\"\n",
    "> Nature Communications, volume 4, Article number: 1899 (2013)\n",
    "> DOI: [10.1038/ncomms2919](https://www.nature.com/articles/ncomms2919) \n",
    "\n",
    "Focusing on reproducing the structures from Figure 1. b:\n",
    "\n",
    "<img src=\"https://github.com/Exabyte-io/documentation/raw/12617167278ae3523adc028583b21ea4e8ebd197/images/tutorials/materials/defects/defect_planar_grain_boundary_3d_fcc_metal/0-figure-from-manuscript.webp\" alt=\"Figure 1.\" width=\"400\"/>"
   ]
  },
  {
   "cell_type": "markdown",
   "id": "bff2f2c26b1fa6ba",
   "metadata": {
    "collapsed": false
   },
   "source": [
    "## 1. Prepare the Environment\n",
    "### 1.1. Set up the notebook \n",
    "\n",
    "Set the following flags to control the notebook behavior "
   ]
  },
  {
   "cell_type": "code",
   "id": "45730b0f5384262b",
   "metadata": {
    "collapsed": false,
    "ExecuteTime": {
     "end_time": "2025-07-28T20:00:22.767895Z",
     "start_time": "2025-07-28T20:00:22.764858Z"
    }
   },
   "source": [
    "\n",
    "\n",
    "# Enable interactive selection of terminations via UI prompt\n",
    "IS_TERMINATIONS_SELECTION_INTERACTIVE = False\n",
    "MATERIAL_NAME = \"Cu\"\n",
    "\n",
    "# Parameters for Phase 1\n",
    "PHASE_1_MILLER_INDICES = (3, 1, 0)\n",
    "PHASE_1_THICKNESS = 4  # in atomic layers\n",
    "PHASE_1_USE_ORTHOGONAL_C = True\n",
    "\n",
    "# Parameters for Phase 2\n",
    "PHASE_2_MILLER_INDICES = (-3, -1, 0)\n",
    "PHASE_2_THICKNESS = 4  # in atomic layers\n",
    "PHASE_2_USE_ORTHOGONAL_C = True\n",
    "\n",
    "INTERPHASE_GAP = 2.0  # in Angstrom\n",
    "\n",
    "# Maximum area for the superlattice search algorithm\n",
    "MAX_AREA = 100  # in Angstrom^2\n",
    "\n",
    "# Parameters for the final material\n",
    "SLAB_MILLER_INDICES = (0, 0, 1)\n",
    "SLAB_THICKNESS = 4  # in atomic layers\n",
    "SLAB_XY_SUPERCELL_MATRIX = [[1, 0], [0, 1]]\n",
    "SLAB_VACUUM = 20.0  # in Angstrom\n",
    "\n",
    "# Set the termination pair indices\n",
    "TERMINATION_PAIR_INDEX = 0  # Will be overridden if interactive selection is used"
   ],
   "outputs": [],
   "execution_count": 19
  },
  {
   "cell_type": "markdown",
   "id": "2460242f9e7d86f1",
   "metadata": {
    "collapsed": false
   },
   "source": [
    "### 1.2. Install Packages\n",
    "The step executes only in Pyodide environment. For other environments, the packages should be installed via `pip install`."
   ]
  },
  {
   "cell_type": "code",
   "id": "bae18ae87d3cc5ba",
   "metadata": {
    "collapsed": false,
    "ExecuteTime": {
     "end_time": "2025-07-28T20:00:22.779366Z",
     "start_time": "2025-07-28T20:00:22.776270Z"
    }
   },
   "source": [
    "import sys\n",
    "\n",
    "if sys.platform == \"emscripten\":\n",
    "    import micropip\n",
    "\n",
    "    await micropip.install('mat3ra-api-examples', deps=False)\n",
    "    await micropip.install('mat3ra-utils')\n",
    "    from mat3ra.utils.jupyterlite.packages import install_packages\n",
    "\n",
    "    await install_packages(\"specific_examples|create_grain_boundary.ipynb\")\n"
   ],
   "outputs": [],
   "execution_count": 20
  },
  {
   "cell_type": "markdown",
   "id": "97eb71c0c9e31d2a",
   "metadata": {
    "collapsed": false
   },
   "source": [
    "### 1.3. Get input material"
   ]
  },
  {
   "cell_type": "code",
   "id": "950e5bef61bbd84a",
   "metadata": {
    "collapsed": false,
    "ExecuteTime": {
     "end_time": "2025-07-28T20:00:22.790739Z",
     "start_time": "2025-07-28T20:00:22.788107Z"
    }
   },
   "source": [
    "from mat3ra.standata.materials import Materials\n",
    "from mat3ra.made.tools.build import MaterialWithBuildMetadata\n",
    "\n",
    "material = MaterialWithBuildMetadata.create(Materials.get_by_name_first_match(MATERIAL_NAME))"
   ],
   "outputs": [],
   "execution_count": 21
  },
  {
   "cell_type": "markdown",
   "id": "c4eb191c2e23b464",
   "metadata": {
    "collapsed": false
   },
   "source": [
    "### 1.4. Preview Material"
   ]
  },
  {
   "cell_type": "code",
   "id": "4ebde830102b0b94",
   "metadata": {
    "collapsed": false,
    "ExecuteTime": {
     "end_time": "2025-07-28T20:00:22.845292Z",
     "start_time": "2025-07-28T20:00:22.798185Z"
    }
   },
   "source": [
    "from utils.visualize import visualize_materials as visualize\n",
    "\n",
    "visualize([material], repetitions=[3, 3, 1], rotation=\"0x\")"
   ],
   "outputs": [
    {
     "data": {
      "text/plain": [
       "GridBox(children=(VBox(children=(Label(value='Cu - Material - rotation: 0x', layout=Layout(align_self='center'…"
      ],
      "application/vnd.jupyter.widget-view+json": {
       "version_major": 2,
       "version_minor": 0,
       "model_id": "7661e271039143fa909de78433eab7bd"
      }
     },
     "metadata": {},
     "output_type": "display_data"
    }
   ],
   "execution_count": 22
  },
  {
   "cell_type": "markdown",
   "id": "916ab91fcc23c7df",
   "metadata": {
    "collapsed": false
   },
   "source": [
    "## 2. Create grain boundary\n",
    "\n",
    "### 2.1. Create Phase 1 and Phase 2 Slabs\n",
    "Slab Configuration lets define the slab thickness, vacuum, and the Miller indices of the interfacial plane and get the slabs with possible terminations."
   ]
  },
  {
   "cell_type": "markdown",
   "id": "9e507e0b1534c0c5",
   "metadata": {
    "collapsed": false
   },
   "source": [
    "### 2.2. Get possible terminations for the slabs"
   ]
  },
  {
   "cell_type": "code",
   "id": "5bdc0e37e3ec9891",
   "metadata": {
    "collapsed": false,
    "ExecuteTime": {
     "end_time": "2025-07-28T20:00:22.951462Z",
     "start_time": "2025-07-28T20:00:22.871714Z"
    }
   },
   "source": [
    "from mat3ra.made.tools.build.slab.helpers import get_slab_terminations\n",
    "\n",
    "phase_1_terminations = get_slab_terminations(material=material, miller_indices=PHASE_1_MILLER_INDICES)\n",
    "phase_2_terminations = get_slab_terminations(material=material, miller_indices=PHASE_2_MILLER_INDICES)\n",
    "\n",
    "print(f\"Phase 1 Terminations:\")\n",
    "for idx, termination in enumerate(phase_1_terminations):\n",
    "    print(f\"    {idx}: {termination}\")\n",
    "print(f\"Phase 2 Terminations:\")\n",
    "for idx, termination in enumerate(phase_2_terminations):\n",
    "    print(f\"    {idx}: {termination}\")"
   ],
   "outputs": [
    {
     "name": "stdout",
     "output_type": "stream",
     "text": [
      "Phase 1 Terminations:\n",
      "    0: Cu_P2/m_2\n",
      "Phase 2 Terminations:\n",
      "    0: Cu_P2/m_2\n"
     ]
    }
   ],
   "execution_count": 23
  },
  {
   "cell_type": "markdown",
   "id": "aebec268223b617c",
   "metadata": {
    "collapsed": false
   },
   "source": [
    "### 2.3. Visualize slabs for all possible terminations"
   ]
  },
  {
   "cell_type": "code",
   "id": "f75092312b399f84",
   "metadata": {
    "collapsed": false,
    "ExecuteTime": {
     "end_time": "2025-07-28T20:00:23.509627Z",
     "start_time": "2025-07-28T20:00:22.976357Z"
    }
   },
   "source": [
    "from mat3ra.made.tools.build.slab.helpers import create_slab\n",
    "\n",
    "phase_1_slabs = [create_slab(material, miller_indices=PHASE_1_MILLER_INDICES, termination=termination) for termination\n",
    "                 in phase_1_terminations]\n",
    "phase_2_slabs = [create_slab(material, miller_indices=PHASE_2_MILLER_INDICES, termination=termination) for termination\n",
    "                 in phase_2_terminations]\n",
    "\n",
    "visualize([{\"material\": slab, \"title\": slab.name} for slab in phase_1_slabs],\n",
    "          repetitions=[3, 3, 1], rotation=\"-90x\")\n",
    "visualize([{\"material\": slab, \"title\": slab.name} for slab in phase_2_slabs],\n",
    "          repetitions=[3, 3, 1], rotation=\"-90x\")"
   ],
   "outputs": [
    {
     "data": {
      "text/plain": [
       "GridBox(children=(VBox(children=(Label(value='Cu12 - Cu(310), termination Cu_P2/m_2, Slab - rotation: -90x', l…"
      ],
      "application/vnd.jupyter.widget-view+json": {
       "version_major": 2,
       "version_minor": 0,
       "model_id": "00e74b95692e4d92a40624cbc0d2f500"
      }
     },
     "metadata": {},
     "output_type": "display_data"
    },
    {
     "data": {
      "text/plain": [
       "GridBox(children=(VBox(children=(Label(value='Cu12 - Cu(-3̂-1̂0), termination Cu_P2/m_2, Slab - rotation: -90x…"
      ],
      "application/vnd.jupyter.widget-view+json": {
       "version_major": 2,
       "version_minor": 0,
       "model_id": "19d781d4880e4bfd9207a455b5a2dced"
      }
     },
     "metadata": {},
     "output_type": "display_data"
    }
   ],
   "execution_count": 24
  },
  {
   "cell_type": "code",
   "id": "29dd6499",
   "metadata": {
    "ExecuteTime": {
     "end_time": "2025-07-28T20:00:24.127564Z",
     "start_time": "2025-07-28T20:00:23.523121Z"
    }
   },
   "source": [
    "\n",
    "\n",
    "# Create phase 1 slab\n",
    "phase_1_slab = create_slab(\n",
    "    crystal=material,\n",
    "    termination=None,  # Use default termination\n",
    "    miller_indices=PHASE_1_MILLER_INDICES,\n",
    "    number_of_layers=PHASE_1_THICKNESS,\n",
    "    vacuum=0.0,\n",
    "    use_orthogonal_c=PHASE_1_USE_ORTHOGONAL_C\n",
    ")\n",
    "\n",
    "# Create phase 2 slab  \n",
    "phase_2_slab = create_slab(\n",
    "    crystal=material,\n",
    "    termination=None,  # Use default termination\n",
    "    miller_indices=PHASE_2_MILLER_INDICES,\n",
    "    number_of_layers=PHASE_2_THICKNESS,\n",
    "    vacuum=0.0,\n",
    "    use_orthogonal_c=PHASE_2_USE_ORTHOGONAL_C\n",
    ")\n",
    "\n",
    "# Visualize the phase slabs\n",
    "visualize([{\"material\": phase_1_slab, \"title\": \"Phase 1 Slab\"}, {\"material\": phase_2_slab, \"title\": \"Phase 2 Slab\"}],\n",
    "          repetitions=[2, 2, 1], rotation=\"-90x\")\n"
   ],
   "outputs": [
    {
     "name": "stderr",
     "output_type": "stream",
     "text": [
      "/Users/mat3ra/code/GREEN/api-examples/.venv-3.11.2/lib/python3.11/site-packages/mat3ra/made/lattice.py:91: RuntimeWarning: invalid value encountered in scalar divide\n",
      "  alpha = np.degrees(np.arccos(np.dot(vectors[1], vectors[2]) / (b * c)))\n",
      "/Users/mat3ra/code/GREEN/api-examples/.venv-3.11.2/lib/python3.11/site-packages/mat3ra/made/lattice.py:92: RuntimeWarning: invalid value encountered in scalar divide\n",
      "  beta = np.degrees(np.arccos(np.dot(vectors[0], vectors[2]) / (a * c)))\n",
      "/Users/mat3ra/code/GREEN/api-examples/.venv-3.11.2/lib/python3.11/site-packages/pydantic/main.py:426: UserWarning: Pydantic serializer warnings:\n",
      "  PydanticSerializationUnexpectedValue: Expected `AtomicLayersUniqueConfiguration` but got `AtomicLayersUniqueRepeatedConfiguration` with value `AtomicLayersUniqueRepeate...number_of_repetitions=4)` - serialized value may not be as expected\n",
      "  PydanticSerializationUnexpectedValue: Expected `Material` but got `MaterialWithBuildMetadata` with value `MaterialWithBuildMetadata...hemaVersion='2022.8.16')` - serialized value may not be as expected\n",
      "  PydanticSerializationUnexpectedValue: Expected `VacuumConfiguration` but got `AtomicLayersUniqueRepeatedConfiguration` with value `AtomicLayersUniqueRepeate...number_of_repetitions=4)` - serialized value may not be as expected\n",
      "  Expected `dict[str, any]` but got `MaterialBuildMetadata` with value `MaterialBuildMetadata(bui...e': 'pbc', 'offset': 0})` - serialized value may not be as expected\n",
      "  PydanticSerializationUnexpectedValue: Expected `AtomicLayersUniqueConfiguration` but got `VacuumConfiguration` with value `VacuumConfiguration(direc...e='VacuumConfiguration')` - serialized value may not be as expected\n",
      "  PydanticSerializationUnexpectedValue: Expected `AtomicLayersUniqueRepeatedConfiguration` but got `VacuumConfiguration` with value `VacuumConfiguration(direc...e='VacuumConfiguration')` - serialized value may not be as expected\n",
      "  PydanticSerializationUnexpectedValue: Expected `Material` but got `MaterialWithBuildMetadata` with value `MaterialWithBuildMetadata...hemaVersion='2022.8.16')` - serialized value may not be as expected\n",
      "  Expected `dict[str, any]` but got `MaterialBuildMetadata` with value `MaterialBuildMetadata(bui...e': 'pbc', 'offset': 0})` - serialized value may not be as expected\n",
      "  return self.__pydantic_serializer__.to_python(\n"
     ]
    },
    {
     "data": {
      "text/plain": [
       "GridBox(children=(VBox(children=(Label(value='Cu48 - Phase 1 Slab - rotation: -90x', layout=Layout(align_self=…"
      ],
      "application/vnd.jupyter.widget-view+json": {
       "version_major": 2,
       "version_minor": 0,
       "model_id": "cf3737dfe019481b882c2ab18e8d5fad"
      }
     },
     "metadata": {},
     "output_type": "display_data"
    }
   ],
   "execution_count": 25
  },
  {
   "cell_type": "markdown",
   "id": "a766392c3f119616",
   "metadata": {
    "collapsed": false
   },
   "source": [
    "### 2.4. Print terminations for the grain boundary"
   ]
  },
  {
   "cell_type": "code",
   "id": "40b4ba55613d9658",
   "metadata": {
    "collapsed": false,
    "ExecuteTime": {
     "end_time": "2025-07-28T20:00:24.151996Z",
     "start_time": "2025-07-28T20:00:24.145689Z"
    }
   },
   "source": [
    "from itertools import product\n",
    "\n",
    "termination_pairs = list(product(phase_1_terminations, phase_2_terminations))\n",
    "print(\"Termination Pairs (Phase 1, Phase 2)\")\n",
    "for idx, termination_pair in enumerate(termination_pairs):\n",
    "    print(f\"    {idx}: {termination_pair}\")"
   ],
   "outputs": [
    {
     "name": "stdout",
     "output_type": "stream",
     "text": [
      "Termination Pairs (Phase 1, Phase 2)\n",
      "    0: (Cu_P2/m_2, Cu_P2/m_2)\n"
     ]
    }
   ],
   "execution_count": 26
  },
  {
   "cell_type": "markdown",
   "id": "11d4044d37604022",
   "metadata": {
    "collapsed": false
   },
   "source": [
    "### 2.5. Select termination pair for the grain boundary"
   ]
  },
  {
   "cell_type": "code",
   "id": "8dfc5893f510bae4",
   "metadata": {
    "collapsed": false,
    "ExecuteTime": {
     "end_time": "2025-07-28T20:00:24.190020Z",
     "start_time": "2025-07-28T20:00:24.181010Z"
    }
   },
   "source": [
    "from utils.io import ui_prompt_select_array_element_by_index, ui_prompt_select_array_element_by_index_pyodide\n",
    "\n",
    "termination_pair_index = TERMINATION_PAIR_INDEX\n",
    "\n",
    "termination_pair = termination_pairs[termination_pair_index]\n",
    "if IS_TERMINATIONS_SELECTION_INTERACTIVE:\n",
    "    if sys.platform == \"emscripten\":\n",
    "        termination_pair = await ui_prompt_select_array_element_by_index_pyodide(termination_pairs,\n",
    "                                                                                 element_name=\"phase 1/phase 2 termination pair\")\n",
    "    else:\n",
    "        termination_pair = ui_prompt_select_array_element_by_index(termination_pairs,\n",
    "                                                                   element_name=\"phase 1/phase 2 termination pair\")"
   ],
   "outputs": [],
   "execution_count": 27
  },
  {
   "cell_type": "markdown",
   "id": "8d87cbbb0d1ac1ab",
   "metadata": {
    "collapsed": false
   },
   "source": [
    "### 2.6. Initialize the Grain Boundary Configuration"
   ]
  },
  {
   "cell_type": "code",
   "id": "40b6c8662d071f18",
   "metadata": {
    "collapsed": false,
    "ExecuteTime": {
     "end_time": "2025-07-28T20:00:25.505234Z",
     "start_time": "2025-07-28T20:00:24.213293Z"
    }
   },
   "source": [
    "from mat3ra.made.tools.build.grain_boundary import SlabGrainBoundaryConfiguration\n",
    "\n",
    "phase_1_termination, phase_2_termination = termination_pair\n",
    "\n",
    "# Create a slab configuration for the final grain boundary structure\n",
    "slab_configuration = SlabConfiguration(\n",
    "    bulk=material,\n",
    "    miller_indices=SLAB_MILLER_INDICES,\n",
    "    number_of_layers=SLAB_THICKNESS,\n",
    "    vacuum=SLAB_VACUUM,\n",
    ")\n",
    "\n",
    "grain_boundary_configuration = SlabGrainBoundaryConfiguration(\n",
    "    phase_1_configuration=phase_1_configuration,\n",
    "    phase_2_configuration=phase_2_configuration,\n",
    "    phase_1_termination=phase_1_termination,\n",
    "    phase_2_termination=phase_2_termination,\n",
    "    gap=INTERPHASE_GAP,\n",
    "    slab_configuration=slab_configuration\n",
    ")"
   ],
   "outputs": [
    {
     "ename": "ImportError",
     "evalue": "cannot import name 'SlabGrainBoundaryConfiguration' from 'mat3ra.made.tools.build.grain_boundary' (/Users/mat3ra/code/GREEN/api-examples/.venv-3.11.2/lib/python3.11/site-packages/mat3ra/made/tools/build/grain_boundary/__init__.py)",
     "output_type": "error",
     "traceback": [
      "\u001B[0;31m---------------------------------------------------------------------------\u001B[0m",
      "\u001B[0;31mImportError\u001B[0m                               Traceback (most recent call last)",
      "Cell \u001B[0;32mIn[28], line 1\u001B[0m\n\u001B[0;32m----> 1\u001B[0m \u001B[38;5;28;01mfrom\u001B[39;00m\u001B[38;5;250m \u001B[39m\u001B[38;5;21;01mmat3ra\u001B[39;00m\u001B[38;5;21;01m.\u001B[39;00m\u001B[38;5;21;01mmade\u001B[39;00m\u001B[38;5;21;01m.\u001B[39;00m\u001B[38;5;21;01mtools\u001B[39;00m\u001B[38;5;21;01m.\u001B[39;00m\u001B[38;5;21;01mbuild\u001B[39;00m\u001B[38;5;21;01m.\u001B[39;00m\u001B[38;5;21;01mgrain_boundary\u001B[39;00m\u001B[38;5;250m \u001B[39m\u001B[38;5;28;01mimport\u001B[39;00m SlabGrainBoundaryConfiguration\n\u001B[1;32m      3\u001B[0m phase_1_termination, phase_2_termination \u001B[38;5;241m=\u001B[39m termination_pair\n\u001B[1;32m      5\u001B[0m \u001B[38;5;66;03m# Create a slab configuration for the final grain boundary structure\u001B[39;00m\n",
      "\u001B[0;31mImportError\u001B[0m: cannot import name 'SlabGrainBoundaryConfiguration' from 'mat3ra.made.tools.build.grain_boundary' (/Users/mat3ra/code/GREEN/api-examples/.venv-3.11.2/lib/python3.11/site-packages/mat3ra/made/tools/build/grain_boundary/__init__.py)"
     ]
    }
   ],
   "execution_count": 28
  },
  {
   "cell_type": "markdown",
   "id": "7fed41afcde4cb67",
   "metadata": {
    "collapsed": false
   },
   "source": [
    "### 2.7. Set Strain Matching Algorithm Parameters"
   ]
  },
  {
   "cell_type": "code",
   "id": "44015c5407563d4e",
   "metadata": {
    "collapsed": false
   },
   "source": [
    "from mat3ra.made.tools.build.interface import ZSLStrainMatchingParameters\n",
    "from mat3ra.made.tools.build.grain_boundary.builders import SlabGrainBoundaryBuilderParameters\n",
    "\n",
    "zsl_strain_matching_parameters = ZSLStrainMatchingParameters(\n",
    "    max_area=MAX_AREA\n",
    ")\n",
    "\n",
    "builder_parameters = SlabGrainBoundaryBuilderParameters(\n",
    "    strain_matching_parameters=zsl_strain_matching_parameters\n",
    ")\n"
   ],
   "outputs": [],
   "execution_count": null
  },
  {
   "cell_type": "markdown",
   "id": "605ed08a67d51cc8",
   "metadata": {
    "collapsed": false
   },
   "source": [
    "### 2.8. Generate grain boundary with strain matcher"
   ]
  },
  {
   "cell_type": "code",
   "id": "884b458236270a29",
   "metadata": {
    "collapsed": false
   },
   "source": [
    "from mat3ra.made.tools.build.grain_boundary import SlabGrainBoundaryBuilder\n",
    "\n",
    "grain_boundary_builder = SlabGrainBoundaryBuilder(build_parameters=builder_parameters)\n",
    "grain_boundary = grain_boundary_builder.get_material(configuration=grain_boundary_configuration)"
   ],
   "outputs": [],
   "execution_count": null
  },
  {
   "cell_type": "markdown",
   "id": "3c6187f70eb5beac",
   "metadata": {
    "collapsed": false
   },
   "source": [
    "## 2.9. Preview the grain boundary"
   ]
  },
  {
   "cell_type": "code",
   "id": "892c0e7c932cd725",
   "metadata": {
    "collapsed": false
   },
   "source": [
    "visualize([grain_boundary], repetitions=[1, 1, 1], viewer=\"wave\")"
   ],
   "outputs": [],
   "execution_count": null
  },
  {
   "cell_type": "markdown",
   "id": "479d26e4a9e77d44",
   "metadata": {
    "collapsed": false
   },
   "source": [
    "## 3. Save the final material"
   ]
  },
  {
   "cell_type": "code",
   "id": "503eff0dd5c1a160",
   "metadata": {
    "collapsed": false
   },
   "source": [
    "from utils.jupyterlite import download_content_to_file, set_materials\n",
    "\n",
    "set_materials(grain_boundary)\n",
    "download_content_to_file(grain_boundary,\n",
    "                         f\"{MATERIAL_NAME}-{PHASE_1_MILLER_INDICES}-{PHASE_2_MILLER_INDICES}_grain_boundary.json\")"
   ],
   "outputs": [],
   "execution_count": null
  }
 ],
 "metadata": {
  "kernelspec": {
   "display_name": ".venv-3.11",
   "language": "python",
   "name": "python3"
  },
  "language_info": {
   "codemirror_mode": {
    "name": "ipython",
    "version": 3
   },
   "file_extension": ".py",
   "mimetype": "text/x-python",
   "name": "python",
   "nbconvert_exporter": "python",
   "pygments_lexer": "ipython3",
   "version": "3.11.7"
  }
 },
 "nbformat": 4,
 "nbformat_minor": 5
}
