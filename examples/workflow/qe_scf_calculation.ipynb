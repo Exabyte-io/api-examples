{
 "cells": [
  {
   "attachments": {},
   "cell_type": "markdown",
   "id": "e5d1a592",
   "metadata": {},
   "source": [
    "<a href=\"https://colab.research.google.com/github/Exabyte-io/api-examples/blob/dev/examples/workflow/qe_scf_calculation.ipynb\" target=\"_parent\">\n",
    "<img alt=\"Open in Google Colab\" src=\"https://user-images.githubusercontent.com/20477508/128780728-491fea90-9b23-495f-a091-11681150db37.jpeg\" width=\"150\" border=\"0\">\n",
    "</a>"
   ]
  },
  {
   "attachments": {},
   "cell_type": "markdown",
   "id": "92673fc2-8999-415b-a866-7692a3e7d682",
   "metadata": {},
   "source": [
    "# Quantum Espresso SCF calcuation via API\n"
   ]
  },
  {
   "attachments": {},
   "cell_type": "markdown",
   "id": "41378265",
   "metadata": {},
   "source": [
    "# Complete Authorization Form and Initialize Settings\n",
    "\n",
    "This will also determine environment and set all environment variables. We determine if we are using Jupyter Notebooks or Google Colab to run this tutorial.\n",
    "\n",
    "If you are running this notebook from Google Colab, Colab takes ~1 min to execute the following cell.\n",
    "\n",
    "ACCOUNT_ID and AUTH_TOKEN - Authentication parameters needed for when making requests to [Mat3ra.com's API Endpoints](https://docs.mat3ra.com/rest-api/endpoints/).\n",
    "\n",
    "MATERIALS_PROJECT_API_KEY - Authentication parameter needed for when making requests to [Material Project's API](https://materialsproject.org/open)\n",
    "\n",
    "ORGANIZATION_ID - Authentication parameter needed for when working with collaborative accounts https://docs.mat3ra.com/collaboration/organizations/overview/\n",
    "\n",
    "> <span style=\"color: orange\">**NOTE**</span>: If you are running this notebook from Jupyter, the variables ACCOUNT_ID, AUTH_TOKEN, MATERIALS_PROJECT_API_KEY, and ORGANIZATION_ID should be set in the file [settings.json](../../utils/settings.json) if you need to use these variables. To obtain API token parameters, please see the following link to the documentation explaining how to get them: https://docs.mat3ra.com/accounts/ui/preferences/api/"
   ]
  },
  {
   "cell_type": "code",
   "execution_count": null,
   "id": "62f59cb7",
   "metadata": {},
   "outputs": [],
   "source": [
    "# @title Authorization Form\n",
    "ACCOUNT_ID = \"ACCOUNT_ID\"  # @param {type:\"string\"}\n",
    "AUTH_TOKEN = \"AUTH_TOKEN\"  # @param {type:\"string\"}\n",
    "MATERIALS_PROJECT_API_KEY = \"MATERIALS_PROJECT_API_KEY\"  # @param {type:\"string\"}\n",
    "ORGANIZATION_ID = \"ORGANIZATION_ID\"  # @param {type:\"string\"}\n",
    "\n",
    "import os\n",
    "\n",
    "if \"COLAB_JUPYTER_IP\" in os.environ:\n",
    "    os.environ.update(\n",
    "        dict(\n",
    "            ACCOUNT_ID=ACCOUNT_ID,\n",
    "            AUTH_TOKEN=AUTH_TOKEN,\n",
    "            MATERIALS_PROJECT_API_KEY=MATERIALS_PROJECT_API_KEY,\n",
    "            ORGANIZATION_ID=ORGANIZATION_ID,\n",
    "        )\n",
    "    )\n",
    "\n",
    "    !GIT_BRANCH=\"dev\"; export GIT_BRANCH; curl -s \"https://raw.githubusercontent.com/Exabyte-io/api-examples/${GIT_BRANCH}/scripts/env.sh\" | bash"
   ]
  },
  {
   "cell_type": "code",
   "execution_count": 1,
   "id": "504fd5dd-5411-4073-be50-62dd84baeb9b",
   "metadata": {},
   "outputs": [],
   "source": [
    "from utils.settings import ENDPOINT_ARGS, ACCOUNT_ID\n",
    "from utils.generic import display_JSON\n",
    "\n",
    "from exabyte_api_client.endpoints.workflows import WorkflowEndpoints"
   ]
  },
  {
   "cell_type": "code",
   "execution_count": 2,
   "id": "b4e2b1f6-40be-4a7e-aa49-1fa36df4e33c",
   "metadata": {},
   "outputs": [],
   "source": [
    "# Initialize a helper class to interact with WorkflowEndpoints\n",
    "endpoint = WorkflowEndpoints(*ENDPOINT_ARGS)"
   ]
  },
  {
   "cell_type": "code",
   "execution_count": 3,
   "id": "d4d3c4c1-04cb-46a8-999e-fb2d54786994",
   "metadata": {},
   "outputs": [],
   "source": [
    "# payload for workflow creation\n",
    "BODY = {\n",
    "    \"name\": \"Silicon-SCF-bash-REST\",\n",
    "    \"subworkflows\": [\n",
    "        {\n",
    "            \"name\": \"QE-SCF\",\n",
    "            \"application\": {\n",
    "                \"name\": \"shell\",\n",
    "                \"version\": \"4.2.46\",\n",
    "                \"build\": \"Default\",\n",
    "                \"isDefault\": \"true\",\n",
    "                \"summary\": \"Shell Script\",\n",
    "                \"shortName\": \"sh\",\n",
    "            },\n",
    "            \"properties\": [\"total_energy\", \"fermi_energy\"],\n",
    "            \"units\": [\n",
    "                {\n",
    "                    \"type\": \"execution\",\n",
    "                    \"application\": {\n",
    "                        \"name\": \"shell\",\n",
    "                        \"version\": \"4.2.46\",\n",
    "                        \"build\": \"Default\",\n",
    "                        \"isDefault\": \"true\",\n",
    "                        \"summary\": \"Shell Script\",\n",
    "                        \"shortName\": \"sh\",\n",
    "                    },\n",
    "                    \"head\": \"true\",\n",
    "                    \"input\": [\n",
    "                        {\n",
    "                            \"content\": \"#!/bin/bash\\n# ---------------------- CLUSTER PARAMETERS ---------------------- #\\n#PBS -N Silicon-SCF\\n#PBS -j oe\\n#PBS -l nodes=1\\n#PBS -l ppn=4\\n#PBS -q OR\\n#PBS -l walltime=00:00:30:00\\n#PBS -A seminar-espresso-tutorials\\n# ------------------------- INPUT FILES -------------------------- #\\n# switch to the job working directory\\ncd $PBS_O_WORKDIR\\n\\nBASE_URL='https://github.com/pranabdas/espresso/raw/next/src'\\nIN_FILE='pw.scf.silicon.in'\\nPP_FILE='Si.pz-vbc.UPF'\\n\\n# get QE input file\\nwget ${BASE_URL}/silicon/${IN_FILE} -O ${IN_FILE}\\n\\n# get pseudopotential file\\nwget ${BASE_URL}/pseudos/${PP_FILE} -O ${PP_FILE}\\n\\n# delete pseudo_dir from input file and provide via env\\nsed -i '/^\\\\s*pseudo_dir/d' ${IN_FILE}\\nexport ESPRESSO_PSEUDO='./'\\n\\n# --------------------------- RUN JOB ---------------------------- #\\n# load required module\\nmodule add espresso/63-i-174-impi-044\\n\\n# run the calculation\\nmpirun -np $PBS_NP pw.x -in ${IN_FILE} | tee ${IN_FILE%*.in}.out\\n\\n# ----------------------------- END ------------------------------ #\\n\",\n",
    "                            \"name\": \"pbs-Silicon-scf.sh\",\n",
    "                        }\n",
    "                    ],\n",
    "                    \"name\": \"Silicon-SCF.sh\",\n",
    "                    \"executable\": {\n",
    "                        \"isDefault\": \"true\",\n",
    "                        \"monitors\": [\"standard_output\"],\n",
    "                        \"results\": [\n",
    "                            \"atomic_forces\",\n",
    "                            \"band_gaps\",\n",
    "                            \"band_structure\",\n",
    "                            \"density_of_states\",\n",
    "                            \"fermi_energy\",\n",
    "                            \"phonon_dispersions\",\n",
    "                            \"phonon_dos\",\n",
    "                            \"pressure\",\n",
    "                            \"stress_tensor\",\n",
    "                            \"total_energy\",\n",
    "                            \"total_energy_contributions\",\n",
    "                            \"total_force\",\n",
    "                            \"zero_point_energy\",\n",
    "                            \"final_structure\",\n",
    "                            \"magnetic_moments\",\n",
    "                            \"reaction_energy_barrier\",\n",
    "                            \"reaction_energy_profile\",\n",
    "                            \"potential_profile\",\n",
    "                            \"charge_density_profile\",\n",
    "                        ],\n",
    "                        \"name\": \"sh\",\n",
    "                    },\n",
    "                    \"flavor\": {\n",
    "                        \"isDefault\": \"true\",\n",
    "                        \"input\": [{\"name\": \"hello_world.sh\"}],\n",
    "                        \"monitors\": [\"standard_output\"],\n",
    "                        \"applicationName\": \"shell\",\n",
    "                        \"executableName\": \"sh\",\n",
    "                        \"name\": \"hello_world\",\n",
    "                        \"executable\": {\n",
    "                            \"isDefault\": \"true\",\n",
    "                            \"monitors\": [\"standard_output\"],\n",
    "                            \"results\": [\n",
    "                                \"atomic_forces\",\n",
    "                                \"band_gaps\",\n",
    "                                \"band_structure\",\n",
    "                                \"density_of_states\",\n",
    "                                \"fermi_energy\",\n",
    "                                \"phonon_dispersions\",\n",
    "                                \"phonon_dos\",\n",
    "                                \"pressure\",\n",
    "                                \"stress_tensor\",\n",
    "                                \"total_energy\",\n",
    "                                \"total_energy_contributions\",\n",
    "                                \"total_force\",\n",
    "                                \"zero_point_energy\",\n",
    "                                \"final_structure\",\n",
    "                                \"magnetic_moments\",\n",
    "                                \"reaction_energy_barrier\",\n",
    "                                \"reaction_energy_profile\",\n",
    "                                \"potential_profile\",\n",
    "                                \"charge_density_profile\",\n",
    "                            ],\n",
    "                            \"name\": \"sh\",\n",
    "                        },\n",
    "                    },\n",
    "                }\n",
    "            ],\n",
    "            \"compute\": {\n",
    "                \"ppn\": 4,\n",
    "                \"nodes\": 1,\n",
    "                \"queue\": \"OR\",\n",
    "                \"timeLimit\": \"01:00:00\",\n",
    "                \"notify\": \"n\",\n",
    "                \"cluster\": {\"fqdn\": \"master-production-20160630-cluster-001.exabyte.io\"},\n",
    "            },\n",
    "        }\n",
    "    ],\n",
    "}"
   ]
  },
  {
   "cell_type": "code",
   "execution_count": 4,
   "id": "19037ef9-d5f7-4344-90ea-e7cbf8bbeba0",
   "metadata": {},
   "outputs": [
    {
     "ename": "HTTPError",
     "evalue": "500 Server Error: Internal Server Error for url: https://platform.mat3ra.com:443/api/2018-10-01/workflows/create",
     "output_type": "error",
     "traceback": [
      "\u001b[0;31m---------------------------------------------------------------------------\u001b[0m",
      "\u001b[0;31mHTTPError\u001b[0m                                 Traceback (most recent call last)",
      "Cell \u001b[0;32mIn[4], line 1\u001b[0m\n\u001b[0;32m----> 1\u001b[0m response \u001b[38;5;241m=\u001b[39m \u001b[43mendpoint\u001b[49m\u001b[38;5;241;43m.\u001b[39;49m\u001b[43mcreate\u001b[49m\u001b[43m(\u001b[49m\u001b[43mBODY\u001b[49m\u001b[43m)\u001b[49m\n",
      "File \u001b[0;32m~/Documents/api-examples/.env/lib/python3.8/site-packages/exabyte_api_client/endpoints/entity.py:89\u001b[0m, in \u001b[0;36mEntityEndpoint.create\u001b[0;34m(self, config)\u001b[0m\n\u001b[1;32m     79\u001b[0m \u001b[38;5;28;01mdef\u001b[39;00m \u001b[38;5;21mcreate\u001b[39m(\u001b[38;5;28mself\u001b[39m, config):\n\u001b[1;32m     80\u001b[0m \u001b[38;5;250m    \u001b[39m\u001b[38;5;124;03m\"\"\"\u001b[39;00m\n\u001b[1;32m     81\u001b[0m \u001b[38;5;124;03m    Creates a new entity.\u001b[39;00m\n\u001b[1;32m     82\u001b[0m \n\u001b[0;32m   (...)\u001b[0m\n\u001b[1;32m     87\u001b[0m \u001b[38;5;124;03m         dict: new entity.\u001b[39;00m\n\u001b[1;32m     88\u001b[0m \u001b[38;5;124;03m    \"\"\"\u001b[39;00m\n\u001b[0;32m---> 89\u001b[0m     \u001b[38;5;28;01mreturn\u001b[39;00m \u001b[38;5;28;43mself\u001b[39;49m\u001b[38;5;241;43m.\u001b[39;49m\u001b[43mrequest\u001b[49m\u001b[43m(\u001b[49m\u001b[38;5;124;43m\"\u001b[39;49m\u001b[38;5;124;43mPUT\u001b[39;49m\u001b[38;5;124;43m\"\u001b[39;49m\u001b[43m,\u001b[49m\u001b[43m \u001b[49m\u001b[38;5;124;43m\"\u001b[39;49m\u001b[38;5;124;43m/\u001b[39;49m\u001b[38;5;124;43m\"\u001b[39;49m\u001b[38;5;241;43m.\u001b[39;49m\u001b[43mjoin\u001b[49m\u001b[43m(\u001b[49m\u001b[43m(\u001b[49m\u001b[38;5;28;43mself\u001b[39;49m\u001b[38;5;241;43m.\u001b[39;49m\u001b[43mname\u001b[49m\u001b[43m,\u001b[49m\u001b[43m \u001b[49m\u001b[38;5;124;43m\"\u001b[39;49m\u001b[38;5;124;43mcreate\u001b[39;49m\u001b[38;5;124;43m\"\u001b[39;49m\u001b[43m)\u001b[49m\u001b[43m)\u001b[49m\u001b[43m,\u001b[49m\u001b[43m \u001b[49m\u001b[43mdata\u001b[49m\u001b[38;5;241;43m=\u001b[39;49m\u001b[43mjson\u001b[49m\u001b[38;5;241;43m.\u001b[39;49m\u001b[43mdumps\u001b[49m\u001b[43m(\u001b[49m\u001b[43mconfig\u001b[49m\u001b[43m)\u001b[49m\u001b[43m,\u001b[49m\u001b[43m \u001b[49m\u001b[43mheaders\u001b[49m\u001b[38;5;241;43m=\u001b[39;49m\u001b[38;5;28;43mself\u001b[39;49m\u001b[38;5;241;43m.\u001b[39;49m\u001b[43mheaders\u001b[49m\u001b[43m)\u001b[49m\n",
      "File \u001b[0;32m~/Documents/api-examples/.env/lib/python3.8/site-packages/exabyte_api_client/endpoints/__init__.py:38\u001b[0m, in \u001b[0;36mBaseEndpoint.request\u001b[0;34m(self, method, endpoint_path, params, data, headers)\u001b[0m\n\u001b[1;32m     24\u001b[0m \u001b[38;5;250m\u001b[39m\u001b[38;5;124;03m\"\"\"\u001b[39;00m\n\u001b[1;32m     25\u001b[0m \u001b[38;5;124;03mSends an HTTP request with given params, headers and data to the given endpoint.\u001b[39;00m\n\u001b[1;32m     26\u001b[0m \n\u001b[0;32m   (...)\u001b[0m\n\u001b[1;32m     35\u001b[0m \u001b[38;5;124;03m    json: response\u001b[39;00m\n\u001b[1;32m     36\u001b[0m \u001b[38;5;124;03m\"\"\"\u001b[39;00m\n\u001b[1;32m     37\u001b[0m \u001b[38;5;28;01mwith\u001b[39;00m \u001b[38;5;28mself\u001b[39m\u001b[38;5;241m.\u001b[39mconn:\n\u001b[0;32m---> 38\u001b[0m     \u001b[38;5;28;43mself\u001b[39;49m\u001b[38;5;241;43m.\u001b[39;49m\u001b[43mconn\u001b[49m\u001b[38;5;241;43m.\u001b[39;49m\u001b[43mrequest\u001b[49m\u001b[43m(\u001b[49m\u001b[43mmethod\u001b[49m\u001b[43m,\u001b[49m\u001b[43m \u001b[49m\u001b[43mendpoint_path\u001b[49m\u001b[43m,\u001b[49m\u001b[43m \u001b[49m\u001b[43mparams\u001b[49m\u001b[43m,\u001b[49m\u001b[43m \u001b[49m\u001b[43mdata\u001b[49m\u001b[43m,\u001b[49m\u001b[43m \u001b[49m\u001b[43mheaders\u001b[49m\u001b[43m)\u001b[49m\n\u001b[1;32m     39\u001b[0m     response \u001b[38;5;241m=\u001b[39m \u001b[38;5;28mself\u001b[39m\u001b[38;5;241m.\u001b[39mconn\u001b[38;5;241m.\u001b[39mjson()\n\u001b[1;32m     40\u001b[0m     \u001b[38;5;28;01mif\u001b[39;00m response[\u001b[38;5;124m\"\u001b[39m\u001b[38;5;124mstatus\u001b[39m\u001b[38;5;124m\"\u001b[39m] \u001b[38;5;241m!=\u001b[39m \u001b[38;5;124m\"\u001b[39m\u001b[38;5;124msuccess\u001b[39m\u001b[38;5;124m\"\u001b[39m:\n",
      "File \u001b[0;32m~/Documents/api-examples/.env/lib/python3.8/site-packages/exabyte_api_client/utils/http.py:147\u001b[0m, in \u001b[0;36mConnection.request\u001b[0;34m(self, method, endpoint_path, params, data, headers)\u001b[0m\n\u001b[1;32m    136\u001b[0m \u001b[38;5;250m\u001b[39m\u001b[38;5;124;03m\"\"\"\u001b[39;00m\n\u001b[1;32m    137\u001b[0m \u001b[38;5;124;03mSends an HTTP request with given params, headers and data to the given endpoint.\u001b[39;00m\n\u001b[1;32m    138\u001b[0m \n\u001b[0;32m   (...)\u001b[0m\n\u001b[1;32m    144\u001b[0m \u001b[38;5;124;03m    params (dict): URL parameters to append to the URL.\u001b[39;00m\n\u001b[1;32m    145\u001b[0m \u001b[38;5;124;03m\"\"\"\u001b[39;00m\n\u001b[1;32m    146\u001b[0m url \u001b[38;5;241m=\u001b[39m urllib\u001b[38;5;241m.\u001b[39mparse\u001b[38;5;241m.\u001b[39murljoin(\u001b[38;5;28mself\u001b[39m\u001b[38;5;241m.\u001b[39mpreamble, endpoint_path)\n\u001b[0;32m--> 147\u001b[0m \u001b[38;5;28;43msuper\u001b[39;49m\u001b[43m(\u001b[49m\u001b[43mConnection\u001b[49m\u001b[43m,\u001b[49m\u001b[43m \u001b[49m\u001b[38;5;28;43mself\u001b[39;49m\u001b[43m)\u001b[49m\u001b[38;5;241;43m.\u001b[39;49m\u001b[43mrequest\u001b[49m\u001b[43m(\u001b[49m\u001b[43mmethod\u001b[49m\u001b[43m,\u001b[49m\u001b[43m \u001b[49m\u001b[43murl\u001b[49m\u001b[43m,\u001b[49m\u001b[43m \u001b[49m\u001b[43mparams\u001b[49m\u001b[43m,\u001b[49m\u001b[43m \u001b[49m\u001b[43mdata\u001b[49m\u001b[43m,\u001b[49m\u001b[43m \u001b[49m\u001b[43mheaders\u001b[49m\u001b[43m)\u001b[49m\n",
      "File \u001b[0;32m~/Documents/api-examples/.env/lib/python3.8/site-packages/exabyte_api_client/utils/http.py:35\u001b[0m, in \u001b[0;36mBaseConnection.request\u001b[0;34m(self, method, url, params, data, headers)\u001b[0m\n\u001b[1;32m     24\u001b[0m \u001b[38;5;250m\u001b[39m\u001b[38;5;124;03m\"\"\"\u001b[39;00m\n\u001b[1;32m     25\u001b[0m \u001b[38;5;124;03mSends an HTTP request with given params, headers and data to the given url.\u001b[39;00m\n\u001b[1;32m     26\u001b[0m \n\u001b[0;32m   (...)\u001b[0m\n\u001b[1;32m     32\u001b[0m \u001b[38;5;124;03m    params (dict): URL parameters to append to the URL.\u001b[39;00m\n\u001b[1;32m     33\u001b[0m \u001b[38;5;124;03m\"\"\"\u001b[39;00m\n\u001b[1;32m     34\u001b[0m \u001b[38;5;28mself\u001b[39m\u001b[38;5;241m.\u001b[39mresponse \u001b[38;5;241m=\u001b[39m \u001b[38;5;28mself\u001b[39m\u001b[38;5;241m.\u001b[39msession\u001b[38;5;241m.\u001b[39mrequest(method\u001b[38;5;241m=\u001b[39mmethod\u001b[38;5;241m.\u001b[39mlower(), url\u001b[38;5;241m=\u001b[39murl, params\u001b[38;5;241m=\u001b[39mparams, data\u001b[38;5;241m=\u001b[39mdata, headers\u001b[38;5;241m=\u001b[39mheaders)\n\u001b[0;32m---> 35\u001b[0m \u001b[38;5;28;43mself\u001b[39;49m\u001b[38;5;241;43m.\u001b[39;49m\u001b[43mresponse\u001b[49m\u001b[38;5;241;43m.\u001b[39;49m\u001b[43mraise_for_status\u001b[49m\u001b[43m(\u001b[49m\u001b[43m)\u001b[49m\n",
      "File \u001b[0;32m~/Documents/api-examples/.env/lib/python3.8/site-packages/requests/models.py:1021\u001b[0m, in \u001b[0;36mResponse.raise_for_status\u001b[0;34m(self)\u001b[0m\n\u001b[1;32m   1016\u001b[0m     http_error_msg \u001b[38;5;241m=\u001b[39m (\n\u001b[1;32m   1017\u001b[0m         \u001b[38;5;124mf\u001b[39m\u001b[38;5;124m\"\u001b[39m\u001b[38;5;132;01m{\u001b[39;00m\u001b[38;5;28mself\u001b[39m\u001b[38;5;241m.\u001b[39mstatus_code\u001b[38;5;132;01m}\u001b[39;00m\u001b[38;5;124m Server Error: \u001b[39m\u001b[38;5;132;01m{\u001b[39;00mreason\u001b[38;5;132;01m}\u001b[39;00m\u001b[38;5;124m for url: \u001b[39m\u001b[38;5;132;01m{\u001b[39;00m\u001b[38;5;28mself\u001b[39m\u001b[38;5;241m.\u001b[39murl\u001b[38;5;132;01m}\u001b[39;00m\u001b[38;5;124m\"\u001b[39m\n\u001b[1;32m   1018\u001b[0m     )\n\u001b[1;32m   1020\u001b[0m \u001b[38;5;28;01mif\u001b[39;00m http_error_msg:\n\u001b[0;32m-> 1021\u001b[0m     \u001b[38;5;28;01mraise\u001b[39;00m HTTPError(http_error_msg, response\u001b[38;5;241m=\u001b[39m\u001b[38;5;28mself\u001b[39m)\n",
      "\u001b[0;31mHTTPError\u001b[0m: 500 Server Error: Internal Server Error for url: https://platform.mat3ra.com:443/api/2018-10-01/workflows/create"
     ]
    }
   ],
   "source": [
    "response = endpoint.create(BODY)"
   ]
  },
  {
   "cell_type": "code",
   "execution_count": null,
   "id": "36f5b2f4-6a1c-4ed8-a66a-6244311ac0f1",
   "metadata": {},
   "outputs": [],
   "source": []
  }
 ],
 "metadata": {
  "kernelspec": {
   "display_name": "Python 3 (ipykernel)",
   "language": "python",
   "name": "python3"
  },
  "language_info": {
   "codemirror_mode": {
    "name": "ipython",
    "version": 3
   },
   "file_extension": ".py",
   "mimetype": "text/x-python",
   "name": "python",
   "nbconvert_exporter": "python",
   "pygments_lexer": "ipython3",
   "version": "3.8.6"
  }
 },
 "nbformat": 4,
 "nbformat_minor": 5
}
