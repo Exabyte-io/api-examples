{
 "cells": [
  {
   "cell_type": "markdown",
   "id": "0",
   "metadata": {},
   "source": [
    "# Twisted Molybdenum Disulfide bilayers at various angles.\n",
    "\n",
    "## 0. Introduction.\n",
    "\n",
    "This notebook demonstrates how to generate a twisted interface between two materials using commensurate lattices. The example uses molybdenum disulfide (MoS2) as both the film and substrate materials. The notebook uses the new `create_commensurate_interface` function which first creates a slab from the material and then performs commensurate lattice matching to find valid supercells for the target twist angle. The algorithm searches for supercell matrices within specified size limits to achieve the target twist angle within tolerance. The generated interface is visualized and analyzed to determine the actual twist angle and the number of atoms in the interface.\n",
    "\n",
    "> **Kaihui Liu, Liming Zhang, Ting Cao, Chenhao Jin, Diana Qiu, Qin Zhou, Alex Zettl, Peidong Yang, Steve G. Louie & Feng Wang**\n",
    "> Evolution of interlayer coupling in twisted molybdenum disulfide bilayers. Nature Communications, 5, 4966. 2014.\n",
    " > [https://doi.org/10.1038/ncomms5966](https://doi.org/10.1038/ncomms5966)\n",
    "\n",
    "The twisted MoS2 bilayers are shown in the following Figure 4 from the article.\n",
    "\n",
    "<img src=\"https://github.com/Exabyte-io/documentation/raw/12617167278ae3523adc028583b21ea4e8ebd197/images/tutorials/materials/interfaces/twisted-bilayer-molybdenum-disulfide/MoS2-twisted-bilayers.png\" alt=\"Twisted MoS2 bilayers\" width=\"600\"/>"
   ]
  },
  {
   "cell_type": "markdown",
   "id": "1",
   "metadata": {},
   "source": [
    "## 1. Prepare the Environment\n",
    "### 1.1. Set up the notebook\n",
    "Let's set angles and corresponding distances for the twisted interface from the article."
   ]
  },
  {
   "cell_type": "code",
   "id": "2",
   "metadata": {},
   "source": [
    "from mat3ra.code.array_with_ids import ArrayWithIds\n",
    "\n",
    "# Uncomment lines to reproduce specific cases from the article\n",
    "INTERFACE_PARAMETERS = [\n",
    "    # {\"angle\": 0.0, \"distance\": 6.8},\n",
    "    # {\"angle\": 13.0, \"distance\": 6.5},\n",
    "    # {\"angle\": 22.0, \"distance\": 6.5},\n",
    "    # {\"angle\": 38.0, \"distance\": 6.5},\n",
    "    # {\"angle\": 47.0, \"distance\": 6.5},\n",
    "    {\"angle\": 60.0, \"distance\": 6.1},  # AB1\n",
    "]\n",
    "\n",
    "# Slab creation parameters\n",
    "MILLER_INDICES = (0, 0, 1)  # Miller indices for slab creation\n",
    "NUMBER_OF_LAYERS = 1  # Number of layers in the slab\n",
    "\n",
    "INTERFACE_VACUUM = 20.0  # in Angstroms\n",
    "\n",
    "# Search algorithm parameters\n",
    "MAX_REPETITION = None  # Maximum supercell matrix element value (None for automatic)\n",
    "ANGLE_TOLERANCE = 0.5  # in degrees\n",
    "RETURN_FIRST_MATCH = True  # If True, returns first solution within tolerance\n",
    "\n",
    "# Visualization parameters\n",
    "SHOW_INTERMEDIATE_STEPS = True\n",
    "VISUALIZE_REPETITIONS = [3, 3, 1]"
   ],
   "outputs": [],
   "execution_count": null
  },
  {
   "cell_type": "markdown",
   "id": "3",
   "metadata": {},
   "source": [
    " ### 1.2. Install packages\n",
    "The step executes only in Pyodide environment. For other environments, the packages should be installed via `pip install` (see [README](../../README.ipynb))."
   ]
  },
  {
   "cell_type": "code",
   "id": "4",
   "metadata": {},
   "source": [
    "import sys\n",
    "\n",
    "if sys.platform == \"emscripten\":\n",
    "    import micropip\n",
    "\n",
    "    await micropip.install(\"mat3ra-api-examples\", deps=False)\n",
    "    await micropip.install(\"mat3ra-utils\")\n",
    "    from mat3ra.utils.jupyterlite.packages import install_packages\n",
    "\n",
    "    await install_packages(\"specific_examples|api_examples\")"
   ],
   "outputs": [],
   "execution_count": null
  },
  {
   "cell_type": "markdown",
   "id": "5",
   "metadata": {},
   "source": [
    "### 1.3. Get input material\n",
    "We'll use the MoS2 material from Standata.\n"
   ]
  },
  {
   "cell_type": "code",
   "id": "6",
   "metadata": {},
   "source": [
    "from mat3ra.made.material import Material\n",
    "from mat3ra.standata.materials import Materials\n",
    "from utils.visualize import visualize_materials\n",
    "\n",
    "material = Material.create(Materials.get_by_name_and_categories(\"MoS2\", \"2D\"))\n",
    "\n",
    "print(\"Initial material properties:\")\n",
    "print(f\"Formula: {material.formula}\")\n",
    "print(f\"Number of atoms: {len(material.basis.elements.ids)}\")\n",
    "\n",
    "if SHOW_INTERMEDIATE_STEPS:\n",
    "    visualize_materials(material, repetitions=VISUALIZE_REPETITIONS)\n",
    "    visualize_materials(material, repetitions=VISUALIZE_REPETITIONS, rotation=\"-90x\")"
   ],
   "outputs": [],
   "execution_count": null
  },
  {
   "cell_type": "markdown",
   "id": "7",
   "metadata": {},
   "source": [
    " ## 3. Generate Twisted Interface\n",
    " ### 3.1. Create slab\n"
   ]
  },
  {
   "cell_type": "code",
   "id": "8",
   "metadata": {},
   "source": [
    "from mat3ra.made.tools.modify import translate_to_z_level\n",
    "from mat3ra.esse.models.core.reusable.axis_enum import AxisEnum\n",
    "from mat3ra.made.tools.helpers import create_slab\n",
    "from mat3ra.made.tools.helpers import create_interface_commensurate as create_commensurate_interface\n",
    "\n",
    "slab = create_slab(\n",
    "    crystal=material,\n",
    "    miller_indices=MILLER_INDICES,\n",
    "    number_of_layers=NUMBER_OF_LAYERS,\n",
    "    vacuum=0.0,  # No vacuum in the slab, it is a 2D material\n",
    ")\n",
    "slab = translate_to_z_level(slab, \"center\")\n",
    "\n",
    "visualize_materials(slab, rotation=\"-90x\")"
   ],
   "outputs": [],
   "execution_count": null
  },
  {
   "cell_type": "markdown",
   "id": "9",
   "metadata": {},
   "source": [
    "### 3.2. Create twisted interfaces"
   ]
  },
  {
   "cell_type": "code",
   "id": "10",
   "metadata": {},
   "source": [
    "interfaces = []\n",
    "for parameters in INTERFACE_PARAMETERS:\n",
    "    interface = create_commensurate_interface(\n",
    "        material=slab,\n",
    "        target_angle=parameters[\"angle\"],\n",
    "        angle_tolerance=ANGLE_TOLERANCE,\n",
    "        max_repetition_int=MAX_REPETITION,\n",
    "        return_first_match=RETURN_FIRST_MATCH,\n",
    "        direction=AxisEnum.z,\n",
    "        gap=parameters[\"distance\"],\n",
    "        vacuum=INTERFACE_VACUUM,\n",
    "    )\n",
    "\n",
    "    # resetting labels to not interfere with pseudopotential element names\n",
    "    original_labels = interface.basis.labels\n",
    "    interface.basis.set_labels_from_list([])\n",
    "    interface.name = f\"{interface.name} {parameters['angle']} degrees\"\n",
    "    interfaces.append(interface)\n",
    "    print(f\"Created interface with twist angle {parameters['angle']}° and {len(interface.basis.elements.ids)} atoms\")"
   ],
   "outputs": [],
   "execution_count": null
  },
  {
   "cell_type": "markdown",
   "id": "11",
   "metadata": {},
   "source": [
    "## 4. Preview the  materials\n"
   ]
  },
  {
   "cell_type": "code",
   "id": "12",
   "metadata": {},
   "source": [
    "from utils.visualize import visualize_materials\n",
    "\n",
    "for interface in interfaces:\n",
    "    visualize_materials(interface, title=interface.name, viewer=\"wave\")"
   ],
   "outputs": [],
   "execution_count": null
  },
  {
   "metadata": {},
   "cell_type": "markdown",
   "source": "## 5. Save materials",
   "id": "ed801fd8207071b1"
  },
  {
   "metadata": {},
   "cell_type": "code",
   "source": [
    "from utils.jupyterlite import set_materials\n",
    "\n",
    "set_materials(interfaces)"
   ],
   "id": "3a28d9803d4d66cc",
   "outputs": [],
   "execution_count": null
  },
  {
   "metadata": {},
   "cell_type": "markdown",
   "source": [
    "## 6. Add materials to your collection\n",
    "### 6.1. Authenticate on the Platform"
   ],
   "id": "ccabb1ef14be9745"
  },
  {
   "metadata": {},
   "cell_type": "code",
   "source": [
    "ACCOUNT_ID = \"ACCOUNT_ID\"\n",
    "AUTH_TOKEN = \"AUTH_TOKEN\"\n",
    "MATERIALS_PROJECT_API_KEY = \"MATERIALS_PROJECT_API_KEY\"\n",
    "ORGANIZATION_ID = \"ORGANIZATION_ID\"\n",
    "\n",
    "import os\n",
    "import sys\n",
    "\n",
    "if sys.platform == \"emscripten\":\n",
    "    # Only works if launched within the Platform, otherwise requires redirect to Login\n",
    "    apiConfig = data_from_host.get(\"apiConfig\")\n",
    "    os.environ.update(data_from_host.get(\"environ\", {}))\n",
    "    os.environ.update(\n",
    "        dict(\n",
    "            ACCOUNT_ID=apiConfig.get(\"accountId\"),\n",
    "            AUTH_TOKEN=apiConfig.get(\"authToken\"),\n",
    "            MATERIALS_PROJECT_API_KEY=MATERIALS_PROJECT_API_KEY,\n",
    "            ORGANIZATION_ID=apiConfig.get(\"organizationId\") or \"\",\n",
    "        )\n",
    "    )"
   ],
   "id": "864643067a2220b8",
   "outputs": [],
   "execution_count": null
  },
  {
   "cell_type": "markdown",
   "id": "13",
   "metadata": {},
   "source": "### 6.2. Add materials to your Collection via API\n"
  },
  {
   "metadata": {},
   "cell_type": "code",
   "source": [
    "from utils.settings import ENDPOINT_ARGS, ACCOUNT_ID\n",
    "from utils.generic import display_JSON\n",
    "from exabyte_api_client.endpoints.materials import MaterialEndpoints\n",
    "\n",
    "OWNER_ID = os.getenv(\"ORGANIZATION_ID\") or ACCOUNT_ID\n",
    "endpoint = MaterialEndpoints(*ENDPOINT_ARGS)\n",
    "\n",
    "saved_materials = []\n",
    "for interface in interfaces:\n",
    "    RAW_CONFIG = interface.to_dict()\n",
    "    fields = [\"name\", \"lattice\", \"basis\"]\n",
    "    CONFIG = {key: RAW_CONFIG[key] for key in fields}\n",
    "\n",
    "    saved_material = endpoint.create(CONFIG, OWNER_ID)\n",
    "    saved_materials.append(saved_material)"
   ],
   "id": "a04951f277d7dda",
   "outputs": [],
   "execution_count": null
  },
  {
   "metadata": {},
   "cell_type": "markdown",
   "source": "### 6.3. Verify material creation",
   "id": "1b331ab644de9c92"
  },
  {
   "metadata": {},
   "cell_type": "code",
   "source": [
    "for saved_material in saved_materials:\n",
    "    display_JSON(saved_material)"
   ],
   "id": "74c71d77416d5d6a",
   "outputs": [],
   "execution_count": null
  },
  {
   "metadata": {},
   "cell_type": "markdown",
   "source": "### 6.4. Get material id",
   "id": "bd62d6bdc54de1d4"
  },
  {
   "metadata": {},
   "cell_type": "code",
   "source": [
    "material_ids = [saved_material.get(\"_id\") for saved_material in saved_materials]\n",
    "print(\"Material IDs:\", material_ids)"
   ],
   "id": "b94582729a97af3b",
   "outputs": [],
   "execution_count": null
  },
  {
   "metadata": {},
   "cell_type": "markdown",
   "source": "## 7. Setup workflow",
   "id": "8701b981ca321fd4"
  },
  {
   "metadata": {},
   "cell_type": "markdown",
   "source": [
    "### 7.1. Set Parameters\n",
    "\n",
    "- **QUERY**: A query describing the documents to find. See [Meteor collection](https://docs.meteor.com/api/collections.html#Mongo-Collection-find) for more information.\n",
    "\n",
    "- **limit**: Maximum number of results to return. See [Meteor collection](https://docs.meteor.com/api/collections.html#Mongo-Collection-find) for more information."
   ],
   "id": "9378dd5bdba80208"
  },
  {
   "metadata": {
    "id": "xCEktmwiIQAZ"
   },
   "cell_type": "code",
   "source": [
    "OWNER_ID = os.getenv(\"ORGANIZATION_ID\") or ACCOUNT_ID\n",
    "# If this doesn't exist, we need to set model to be with LDA\n",
    "QUERY = {\"name\": {\"$regex\": \"Band Gap.*LDA.*Relax\"}, \"owner._id\": OWNER_ID}\n",
    "\n",
    "OPTIONS = {\"limit\": 1}"
   ],
   "id": "b2bb916363814bef",
   "outputs": [],
   "execution_count": null
  },
  {
   "metadata": {},
   "cell_type": "markdown",
   "source": [
    "### 7.2. Initialize the endpoint\n",
    "\n",
    "Initialize a helper class to interact with `WorkflowEndpoints`. This only has to be done once."
   ],
   "id": "4d62b7581cadce68"
  },
  {
   "metadata": {
    "id": "dX3VXdWJIQAX"
   },
   "cell_type": "code",
   "source": [
    "from utils.settings import ENDPOINT_ARGS, ACCOUNT_ID\n",
    "from utils.generic import display_JSON\n",
    "\n",
    "from exabyte_api_client.endpoints.workflows import WorkflowEndpoints\n",
    "\n",
    "endpoint = WorkflowEndpoints(*ENDPOINT_ARGS)"
   ],
   "id": "73260868efc509f2",
   "outputs": [],
   "execution_count": null
  },
  {
   "metadata": {},
   "cell_type": "markdown",
   "source": [
    "### 7.3. List workflows\n",
    "\n",
    "Contact the endpoint to list workflows according to the query above."
   ],
   "id": "7c2f6aded7bf7388"
  },
  {
   "metadata": {
    "id": "wzFp8DcCIQAa"
   },
   "cell_type": "code",
   "source": "workflows = endpoint.list(QUERY, OPTIONS)",
   "id": "9c7e0688aaa182fd",
   "outputs": [],
   "execution_count": null
  },
  {
   "metadata": {},
   "cell_type": "markdown",
   "source": [
    "## Print workflows\n",
    "\n",
    "Print the list of workflows saved under the corresponding variable in pretty JSON below."
   ],
   "id": "45a3619f2406f7f3"
  },
  {
   "metadata": {
    "colab": {
     "base_uri": "https://localhost:8080/"
    },
    "id": "KSJgpWRzIQAb",
    "outputId": "7ee3b7f6-208f-427e-ee32-07486078072c"
   },
   "cell_type": "code",
   "source": "display_JSON(workflows)",
   "id": "98be712767be7828",
   "outputs": [],
   "execution_count": null
  },
  {
   "metadata": {},
   "cell_type": "markdown",
   "source": [
    "## 8. Create a job with the workflow and material\n",
    "### 8.1. Set Parameters"
   ],
   "id": "acf0eba783f93826"
  },
  {
   "metadata": {},
   "cell_type": "code",
   "source": [
    "from exabyte_api_client.endpoints.materials import MaterialEndpoints\n",
    "from exabyte_api_client.endpoints.jobs import JobEndpoints\n",
    "from datetime import datetime\n",
    "\n",
    "material_endpoints = MaterialEndpoints(*ENDPOINT_ARGS)\n",
    "OWNER_ID = os.getenv(\"ORGANIZATION_ID\") or ACCOUNT_ID\n",
    "\n",
    "wf = workflows[0]\n",
    "job_endpoints = JobEndpoints(*ENDPOINT_ARGS)\n",
    "\n",
    "timestamp = datetime.now().strftime(\"%Y-%m-%d %H:%M\")  # for name to be different\n",
    "\n",
    "material_id_dicts = [{\"_id\": material_id} for material_id in material_ids]\n",
    "jobs_config = {\n",
    "    \"owner\": {\"_id\": OWNER_ID},\n",
    "    \"_materials\": material_id_dicts,\n",
    "    \"workflow\": wf,\n",
    "    \"name\": f\"TEST JOB BG {timestamp}\",\n",
    "}"
   ],
   "id": "556b192138037930",
   "outputs": [],
   "execution_count": null
  },
  {
   "metadata": {},
   "cell_type": "markdown",
   "source": "### 8.2. Create jobs",
   "id": "e0775edb5c484080"
  },
  {
   "metadata": {},
   "cell_type": "code",
   "source": "jobs = job_endpoints.create_by_ids(jobs_config)",
   "id": "a06f4c60fb9813c6",
   "outputs": [],
   "execution_count": null
  },
  {
   "metadata": {},
   "cell_type": "markdown",
   "source": "### 8.3. Move jobs to set",
   "id": "b320c41164de1cda"
  },
  {
   "metadata": {},
   "cell_type": "code",
   "source": [
    "from exabyte_api_client import ProjectEndpoints\n",
    "\n",
    "project_endpoints = ProjectEndpoints(*ENDPOINT_ARGS)\n",
    "project_id = project_endpoints.list({\"isDefault\": True, \"owner._id\": OWNER_ID})[0][\"_id\"]\n",
    "\n",
    "JOBS_SET_NAME = \"MoS2 Twisted Interfaces Band Gaps\"\n",
    "\n",
    "jobs_set = job_endpoints.create_set({\"name\": JOBS_SET_NAME, \"projectId\": project_id, \"owner\": {\"_id\": OWNER_ID}})\n",
    "for job in jobs:\n",
    "    job_endpoints.move_to_set(job[\"_id\"], \"\", jobs_set[\"_id\"])"
   ],
   "id": "36be8bd088fa8569",
   "outputs": [],
   "execution_count": null
  },
  {
   "metadata": {},
   "cell_type": "markdown",
   "source": "### 8.2. Update job with new parameters",
   "id": "730ea43eae2a85e1"
  },
  {
   "metadata": {},
   "cell_type": "code",
   "source": [
    "kgrid_scf = [6, 6, 1]\n",
    "kgrid_nscf = [12, 12, 1]\n",
    "kgrid_relax = kgrid_scf"
   ],
   "id": "b722ff27ec0da6c3",
   "outputs": [],
   "execution_count": null
  },
  {
   "metadata": {},
   "cell_type": "code",
   "source": [
    "modifier_relax = {\n",
    "    \"workflow.subworkflows.0.units.0.context\": {\n",
    "        \"kgrid\": {\n",
    "            \"dimensions\": kgrid_relax,\n",
    "            \"shifts\": [0, 0, 0],\n",
    "            \"reciprocalVectorRatios\": [1, 1, 1],\n",
    "            \"gridMetricType\": \"KPPRA\",\n",
    "            \"gridMetricValue\": 2,\n",
    "            \"preferGridMetric\": False,\n",
    "        },\n",
    "        \"isKgridEdited\": True,\n",
    "        \"subworkflowContext\": {},\n",
    "    }\n",
    "}\n",
    "# K points for unit 0\n",
    "modifier_1 = {\n",
    "    \"workflow.subworkflows.1.units.0.context\": {\n",
    "        \"kgrid\": {\n",
    "            \"dimensions\": kgrid_scf,\n",
    "            \"shifts\": [0, 0, 0],\n",
    "            \"reciprocalVectorRatios\": [1, 1, 1],\n",
    "            \"gridMetricType\": \"KPPRA\",\n",
    "            \"gridMetricValue\": 2,\n",
    "            \"preferGridMetric\": False,\n",
    "        },\n",
    "        \"isKgridEdited\": True,\n",
    "        \"subworkflowContext\": {},\n",
    "    }\n",
    "}\n",
    "\n",
    "# K points for unit 1\n",
    "modifier_2 = {\n",
    "    \"workflow.subworkflows.1.units.1.context\": {\n",
    "        \"kgrid\": {\n",
    "            \"dimensions\": kgrid_nscf,\n",
    "            \"shifts\": [0, 0, 0],\n",
    "            \"reciprocalVectorRatios\": [1, 1, 1],\n",
    "            \"gridMetricType\": \"KPPRA\",\n",
    "            \"gridMetricValue\": 2,\n",
    "            \"preferGridMetric\": False,\n",
    "        },\n",
    "        \"isKgridEdited\": True,\n",
    "        \"subworkflowContext\": {},\n",
    "    }\n",
    "}"
   ],
   "id": "4d0c0bb588b4fbe6",
   "outputs": [],
   "execution_count": null
  },
  {
   "metadata": {},
   "cell_type": "markdown",
   "source": "### 8.2.1. Set `rendered` field",
   "id": "517b9a9d619b82c7"
  },
  {
   "metadata": {},
   "cell_type": "code",
   "source": [
    "rendered_relax_str = wf[\"subworkflows\"][0][\"units\"][0][\"input\"][0][\"rendered\"]\n",
    "print(rendered_relax_str)\n",
    "\"workflow.subworkflows.0.units.0.input.0.rendered\"\n",
    "\n",
    "rendered_1_str = wf[\"subworkflows\"][1][\"units\"][0][\"input\"][0][\"rendered\"]\n",
    "print(rendered_1_str)\n",
    "\"workflow.subworkflows.1.units.0.input.0.rendered\"\n",
    "\n",
    "rendered_2_str = wf[\"subworkflows\"][1][\"units\"][1][\"input\"][0][\"rendered\"]\n",
    "print(rendered_2_str)\n",
    "\"workflow.subworkflows.1.units.1.input.0.rendered\"\n",
    "\n",
    "# we need to update numbers at\n",
    "# `K_POINTS automatic\n",
    "#  \\d \\d \\d \\d \\d \\d `\n",
    "import re\n",
    "\n",
    "modifier_relax[\"workflow.subworkflows.0.units.0.input.0.rendered\"] = re.sub(\n",
    "    r\"K_POINTS automatic\\n(\\d+) (\\d+) (\\d+) (\\d+) (\\d+) (\\d+)\",\n",
    "    f\"K_POINTS automatic\\n{kgrid_relax[0]} {kgrid_relax[1]} {kgrid_relax[2]} 0 0 0\",\n",
    "    rendered_relax_str,\n",
    ")\n",
    "\n",
    "modifier_1[\"workflow.subworkflows.1.units.0.input.0.rendered\"] = re.sub(\n",
    "    r\"K_POINTS automatic\\n(\\d+) (\\d+) (\\d+) (\\d+) (\\d+) (\\d+)\",\n",
    "    f\"K_POINTS automatic\\n{kgrid_scf[0]} {kgrid_scf[1]} {kgrid_scf[2]} 0 0 0\",\n",
    "    rendered_1_str,\n",
    ")\n",
    "\n",
    "modifier_2[\"workflow.subworkflows.1.units.1.input.0.rendered\"] = re.sub(\n",
    "    r\"K_POINTS automatic\\n(\\d+) (\\d+) (\\d+) (\\d+) (\\d+) (\\d+)\",\n",
    "    f\"K_POINTS automatic\\n{kgrid_nscf[0]} {kgrid_nscf[1]} {kgrid_nscf[2]} 0 0 0\",\n",
    "    rendered_2_str,\n",
    ")"
   ],
   "id": "78136544256e0ef9",
   "outputs": [],
   "execution_count": null
  },
  {
   "metadata": {},
   "cell_type": "markdown",
   "source": "### 8.3. Update each job with the modifier",
   "id": "fc822d46b4295289"
  },
  {
   "metadata": {},
   "cell_type": "code",
   "source": [
    "for job in jobs:\n",
    "    job_endpoints.update(id_=job[\"_id\"], modifier=modifier_relax)\n",
    "    job_endpoints.update(id_=job[\"_id\"], modifier=modifier_1)\n",
    "    job_endpoints.update(id_=job[\"_id\"], modifier=modifier_2)"
   ],
   "id": "2c8f1c529cda6b1e",
   "outputs": [],
   "execution_count": null
  },
  {
   "metadata": {},
   "cell_type": "markdown",
   "source": "## 9. Submit the job",
   "id": "ca04d2a65d580354"
  },
  {
   "metadata": {},
   "cell_type": "code",
   "source": [
    "for job in jobs:\n",
    "    job_endpoints.submit(job[\"_id\"])"
   ],
   "id": "482606f85a9606",
   "outputs": [],
   "execution_count": null
  },
  {
   "metadata": {},
   "cell_type": "markdown",
   "source": "## 10. Get results",
   "id": "dc894f38be19083"
  },
  {
   "metadata": {},
   "cell_type": "code",
   "source": [
    "from utils.generic import wait_for_jobs_to_finish\n",
    "\n",
    "job_ids = [job[\"_id\"] for job in jobs]\n",
    "\n",
    "wait_for_jobs_to_finish(job_endpoints, job_ids, poll_interval=60)"
   ],
   "id": "dc2a179ba96bba05",
   "outputs": [],
   "execution_count": null
  },
  {
   "metadata": {},
   "cell_type": "markdown",
   "source": "## Get the Band Gap property",
   "id": "11db5733d3c40bcd"
  },
  {
   "metadata": {},
   "cell_type": "code",
   "source": [
    "from utils.generic import get_property_by_subworkflow_and_unit_indicies\n",
    "from exabyte_api_client.endpoints.properties import PropertiesEndpoints\n",
    "\n",
    "property_endpoints = PropertiesEndpoints(*ENDPOINT_ARGS)\n",
    "\n",
    "results = []\n",
    "for material in saved_materials:\n",
    "    job = next((job for job in jobs if job[\"_material\"][\"_id\"] == material[\"_id\"]))\n",
    "    final_structure = get_property_by_subworkflow_and_unit_indicies(property_endpoints, \"final_structure\", job, 0, 0)[\n",
    "        \"data\"\n",
    "    ]\n",
    "    pressure = get_property_by_subworkflow_and_unit_indicies(property_endpoints, \"pressure\", job, 0, 0)[\"data\"][\"value\"]\n",
    "    unit_flowchart_id = job[\"workflow\"][\"subworkflows\"][1][\"units\"][1][\"flowchartId\"]\n",
    "    band_gap_direct = property_endpoints.get_direct_band_gap(job[\"_id\"], unit_flowchart_id)\n",
    "    band_gap_indirect = property_endpoints.get_indirect_band_gap(job[\"_id\"], unit_flowchart_id)\n",
    "    results.append(\n",
    "        {\n",
    "            \"initial_structure\": material,\n",
    "            \"final_structure\": final_structure,\n",
    "            \"pressure\": pressure,\n",
    "            \"band_gap_direct\": band_gap_direct,\n",
    "            \"band_gap_indirect\": band_gap_indirect,\n",
    "        }\n",
    "    )"
   ],
   "id": "74321d4024212f8c",
   "outputs": [],
   "execution_count": null
  }
 ],
 "metadata": {
  "kernelspec": {
   "display_name": "Python 3",
   "language": "python",
   "name": "python3"
  },
  "language_info": {
   "codemirror_mode": {
    "name": "ipython",
    "version": 2
   },
   "file_extension": ".py",
   "mimetype": "text/x-python",
   "name": "python",
   "nbconvert_exporter": "python",
   "pygments_lexer": "ipython2",
   "version": "2.7.6"
  }
 },
 "nbformat": 4,
 "nbformat_minor": 5
}
