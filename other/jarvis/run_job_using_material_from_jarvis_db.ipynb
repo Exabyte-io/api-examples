{
 "cells": [
  {
   "cell_type": "markdown",
   "source": [
    "<a href=\"https://colab.research.google.com/github/Exabyte-io/api-examples/blob/dev/other/material/import_material_from_jarvis_db_entry.ipynb\" target=\"_parent\">\n",
    "<img alt=\"Open in Google Colab\" src=\"https://user-images.githubusercontent.com/20477508/128780728-491fea90-9b23-495f-a091-11681150db37.jpeg\" width=\"150\" border=\"0\">\n",
    "</a>"
   ],
   "metadata": {
    "collapsed": false
   },
   "id": "3c567b6400249971"
  },
  {
   "cell_type": "markdown",
   "source": [
    "## Install Packages\n",
    "First, install `express-py` which includes `jarvis-tools` as dependency."
   ],
   "metadata": {
    "collapsed": false
   },
   "id": "8b00ab6854f2263b"
  },
  {
   "cell_type": "code",
   "execution_count": null,
   "outputs": [],
   "source": [
    "!pip install express-py==2024.1.25.post7"
   ],
   "metadata": {
    "collapsed": false
   },
   "id": "b1288bc79ee2c828"
  },
  {
   "cell_type": "markdown",
   "source": [
    "## Get Materials Data From JARVIS\n",
    "Then, let's get the dataset containing 2D materials from JARVIS and wrap it into a pandas dataframe."
   ],
   "metadata": {
    "collapsed": false
   },
   "id": "f418c51a7f794f9f"
  },
  {
   "cell_type": "code",
   "execution_count": null,
   "outputs": [],
   "source": [
    "import pandas as pd\n",
    "from jarvis.db.figshare import data, get_jid_data\n",
    "\n",
    "dft_2d=data('dft_2d')\n",
    "df = pd.DataFrame(dft_2d)"
   ],
   "metadata": {
    "collapsed": false
   },
   "id": "b1ee775d1476f884"
  },
  {
   "cell_type": "markdown",
   "source": [
    "## Extract Structure and Convert to ESSE\n",
    "Next, we extract an entry from the JARVIS dataset and convert it into ESSE format ready to be uploaded to Mat3ra.com."
   ],
   "metadata": {
    "collapsed": false
   },
   "id": "15fe5f9de299c935"
  },
  {
   "cell_type": "code",
   "execution_count": null,
   "outputs": [],
   "source": [
    "import json\n",
    "from express import ExPrESS\n",
    "\n",
    "## Note: JVASP-670 is an entry for MoTe2\n",
    "jarvis_db_entry = json.dumps(json.loads(df[(df['jid']=='JVASP-670')].to_json(orient='records'))[0])\n",
    "\n",
    "kwargs = {\n",
    "    \"structure_string\": jarvis_db_entry,\n",
    "    \"cell_type\": \"original\",\n",
    "    \"structure_format\": \"jarvis-db-entry\"\n",
    "}\n",
    "\n",
    "handler = ExPrESS(\"structure\", **kwargs)\n",
    "data = handler.property(\"material\", **kwargs)\n",
    "\n",
    "# To preview resulting JSON data\n",
    "print(json.dumps(data, indent=4))"
   ],
   "metadata": {
    "collapsed": false
   },
   "id": "c41fb68c6d25fe48"
  },
  {
   "cell_type": "markdown",
   "source": [
    "## Setup the API credentials\n",
    "Finally, we can upload the material to Mat3ra.com using the REST API: follow the explanation in another example notebook [here](../../examples/material/create_material.ipynb). One can replace the content of the `CONFIG` variable with the JSON data above."
   ],
   "metadata": {
    "collapsed": false
   },
   "id": "a4a48479c7ea090f"
  },
  {
   "cell_type": "code",
   "execution_count": null,
   "outputs": [],
   "source": [
    "# @title Authorization Form\n",
    "ACCOUNT_ID = \"\"  # @param {type:\"string\"}\n",
    "AUTH_TOKEN = \"\"  # @param {type:\"string\"}\n",
    "MATERIALS_PROJECT_API_KEY = \"MATERIALS_PROJECT_API_KEY\"  # @param {type:\"string\"}\n",
    "ORGANIZATION_ID = \"\"\n",
    "\n",
    "\n",
    "import os\n",
    "\n",
    "if \"COLAB_JUPYTER_IP\" in os.environ:\n",
    "    os.environ.update(\n",
    "        dict(\n",
    "            ACCOUNT_ID=ACCOUNT_ID,\n",
    "            AUTH_TOKEN=AUTH_TOKEN,\n",
    "            MATERIALS_PROJECT_API_KEY=MATERIALS_PROJECT_API_KEY,\n",
    "            ORGANIZATION_ID=ORGANIZATION_ID,\n",
    "        )\n",
    "    )\n",
    "\n",
    "    !GIT_BRANCH=\"dev\"; export GIT_BRANCH; curl -s \"https://raw.githubusercontent.com/Exabyte-io/api-examples/${GIT_BRANCH}/scripts/env.sh\" | bash"
   ],
   "metadata": {
    "collapsed": false,
    "pycharm": {
     "name": "#%%\n"
    }
   }
  },
  {
   "cell_type": "markdown",
   "source": [
    "## Initialize the API Endpoints"
   ],
   "metadata": {
    "collapsed": false,
    "pycharm": {
     "name": "#%% md\n"
    }
   }
  },
  {
   "cell_type": "code",
   "execution_count": null,
   "outputs": [],
   "source": [
    "from utils.settings import ENDPOINT_ARGS, ACCOUNT_ID\n",
    "from utils.generic import wait_for_jobs_to_finish, get_property_by_subworkflow_and_unit_indicies, dataframe_to_html, display_JSON\n",
    "\n",
    "import pandas as pd\n",
    "\n",
    "# Relevant functions from the API client\n",
    "from exabyte_api_client.endpoints.jobs import JobEndpoints\n",
    "from exabyte_api_client.endpoints.projects import ProjectEndpoints\n",
    "from exabyte_api_client.endpoints.materials import MaterialEndpoints\n",
    "from exabyte_api_client.endpoints.bank_workflows import BankWorkflowEndpoints\n",
    "from exabyte_api_client.endpoints.properties import PropertiesEndpoints\n",
    "\n",
    "job_endpoints = JobEndpoints(*ENDPOINT_ARGS)\n",
    "project_endpoints = ProjectEndpoints(*ENDPOINT_ARGS)\n",
    "material_endpoints = MaterialEndpoints(*ENDPOINT_ARGS)\n",
    "property_endpoints = PropertiesEndpoints(*ENDPOINT_ARGS)\n",
    "bank_workflow_endpoints = BankWorkflowEndpoints(*ENDPOINT_ARGS)"
   ],
   "metadata": {
    "collapsed": false,
    "pycharm": {
     "name": "#%%\n"
    }
   }
  },
  {
   "cell_type": "markdown",
   "source": [
    "## Create and Run a Job\n",
    "\n",
    "Setup entities first:"
   ],
   "metadata": {
    "collapsed": false
   }
  },
  {
   "cell_type": "code",
   "execution_count": null,
   "outputs": [],
   "source": [
    "default_material = material_endpoints.list({\"isDefault\": True, \"owner._id\": ACCOUNT_ID})[0]\n",
    "default_workflow = workflow_endpoints.list({\"isDefault\": True, \"owner._id\": ACCOUNT_ID})[0]\n",
    "\n",
    "material_id = default_material[\"_id\"]\n",
    "workflow_id = default_workflow[\"_id\"]\n",
    "owner_id = default_material[\"owner\"][\"_id\"]"
   ],
   "metadata": {
    "collapsed": false,
    "pycharm": {
     "name": "#%%\n"
    }
   }
  },
  {
   "cell_type": "markdown",
   "source": [
    "Then create Job config"
   ],
   "metadata": {
    "collapsed": false
   }
  },
  {
   "cell_type": "code",
   "execution_count": null,
   "outputs": [],
   "source": [
    "config = {\n",
    "    \"owner\": {\"_id\": owner_id},\n",
    "    \"_material\": {\"_id\": material_id},\n",
    "    \"workflow\": {\"_id\": workflow_id},\n",
    "    \"name\": \"Test Job\",\n",
    "}"
   ],
   "metadata": {
    "collapsed": false,
    "pycharm": {
     "name": "#%%\n"
    }
   }
  },
  {
   "cell_type": "markdown",
   "source": [
    "Then create a job"
   ],
   "metadata": {
    "collapsed": false
   }
  },
  {
   "cell_type": "code",
   "execution_count": null,
   "outputs": [],
   "source": [
    "job = job_endpoints.create(config)\n",
    "job_endpoints.submit(job[\"_id\"])"
   ],
   "metadata": {
    "collapsed": false,
    "pycharm": {
     "name": "#%%\n"
    }
   }
  },
  {
   "cell_type": "markdown",
   "source": [
    "and wait for it to finish"
   ],
   "metadata": {
    "collapsed": false
   }
  },
  {
   "cell_type": "code",
   "execution_count": null,
   "outputs": [],
   "source": [
    "from utils.generic import wait_for_jobs_to_finish, get_property_by_subworkflow_and_unit_indicies\n",
    "job_id = job[\"_id\"]\n",
    "wait_for_jobs_to_finish(job_endpoints, [job_id])"
   ],
   "metadata": {
    "collapsed": false,
    "pycharm": {
     "name": "#%%\n"
    }
   }
  },
  {
   "cell_type": "markdown",
   "source": [
    "Then get job files:"
   ],
   "metadata": {
    "collapsed": false
   }
  },
  {
   "cell_type": "code",
   "execution_count": null,
   "outputs": [],
   "source": [
    "files = job_endpoints.list_files(job_id)\n",
    "paths = [file[\"key\"] for file in files]\n",
    "for path in paths:\n",
    "    if \"outdir\" not in path:\n",
    "        print(path)\n",
    "\n",
    "for file in files:\n",
    "    if file[\"name\"] == \"pw_scf.out\":\n",
    "        output_file_metadata = file\n",
    "\n",
    "import urllib\n",
    "\n",
    "server_response = urllib.request.urlopen(output_file_metadata[\"signedUrl\"])\n",
    "output_file = server_response.read().decode(encoding=\"UTF-8\")\n",
    "\n",
    "with open(output_file_metadata[\"name\"], \"w\") as file_descriptor:\n",
    "    file_descriptor.write(output_file)"
   ],
   "metadata": {
    "collapsed": false,
    "pycharm": {
     "name": "#%%\n"
    }
   }
  },
  {
   "cell_type": "markdown",
   "source": [
    "and get job properties using the index of a subworkflow in workflow and the index of unit in subworkflow (0, 0) below"
   ],
   "metadata": {
    "collapsed": false
   }
  },
  {
   "cell_type": "code",
   "execution_count": null,
   "outputs": [],
   "source": [
    "pressure = get_property_by_subworkflow_and_unit_indicies(property_endpoints, \"pressure\", job, 0, 0)\n",
    "print(pressure[\"data\"][\"value\"])"
   ],
   "metadata": {
    "collapsed": false,
    "pycharm": {
     "name": "#%%\n"
    }
   }
  }
 ],
 "metadata": {
  "kernelspec": {
   "display_name": "Python 3",
   "language": "python",
   "name": "python3"
  },
  "language_info": {
   "codemirror_mode": {
    "name": "ipython",
    "version": 2
   },
   "file_extension": ".py",
   "mimetype": "text/x-python",
   "name": "python",
   "nbconvert_exporter": "python",
   "pygments_lexer": "ipython2",
   "version": "2.7.6"
  }
 },
 "nbformat": 4,
 "nbformat_minor": 5
}