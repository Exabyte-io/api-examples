{
 "cells": [
  {
   "cell_type": "markdown",
   "metadata": {
    "id": "rqmhDMSkIQAT"
   },
   "source": [
    "<a href=\"https://colab.research.google.com/github/Exabyte-io/exabyte-api-examples/blob/dev/examples/workflow/get_workflows.ipynb\" target=\"_parent\">\n",
    "<img alt=\"Open in Google Colab\" src=\"https://user-images.githubusercontent.com/20477508/128780728-491fea90-9b23-495f-a091-11681150db37.jpeg\" width=\"150\" border=\"0\">\n",
    "</a>"
   ]
  },
  {
   "cell_type": "markdown",
   "metadata": {
    "id": "OtfhrLhwIQAV"
   },
   "source": [
    "# Overview\n",
    "\n",
    "Inside this example we contact [Workflow](https://docs.exabyte.io/api/Workflows/get_workflows) endpoint to obtain a list of workflows that an account has access to."
   ]
  },
  {
   "cell_type": "markdown",
   "metadata": {
    "id": "stJCOZz0IQAW"
   },
   "source": [
    "# Complete Authorization Form and Initialize Settings\n",
    "\n",
    "The following environment variables need to be set:\n",
    "\n",
    "ACCOUNT_ID and AUTH_TOKEN - Authentication parameters needed for when making requests to [Exabyte.io's API Endpoints](https://docs.exabyte.io/rest-api/endpoints/).\n",
    "\n",
    "MATERIALS_PROJECT_API_KEY - Authentication parameter needed for when making requests to [Material Project's API](https://materialsproject.org/open)\n",
    "\n",
    "ORGANIZATION_ID - Authentication parameter needed for when working with collaborative accounts https://docs.exabyte.io/collaboration/organizations/overview/"
   ]
  },
  {
   "cell_type": "code",
   "execution_count": null,
   "metadata": {
    "cellView": "form",
    "colab": {
     "base_uri": "https://localhost:8080/"
    },
    "id": "KenNuzjjIQAW",
    "outputId": "1622a36b-7d5c-4798-a684-ca9f1e069ff2"
   },
   "outputs": [],
   "source": [
    "#@title Authorization Form\n",
    "ACCOUNT_ID = \"ACCOUNT_ID\" #@param {type:\"string\"}\n",
    "AUTH_TOKEN = \"AUTH_TOKEN\" #@param {type:\"string\"}\n",
    "MATERIALS_PROJECT_API_KEY = \"MATERIALS_PROJECT_API_KEY\" #@param {type:\"string\"}\n",
    "ORGANIZATION_ID  = \"ORGANIZATION_ID\" #@param {type:\"string\"}"
   ]
  },
  {
   "cell_type": "code",
   "execution_count": null,
   "metadata": {},
   "outputs": [],
   "source": [
    "from exabyte_api_examples_utils.enum import (\n",
    "    HOST,\n",
    "    PORT,\n",
    "    VERSION,\n",
    "    SECURE,\n",
    ")\n",
    "\n",
    "ENDPOINT_ARGS = [HOST, PORT, ACCOUNT_ID, AUTH_TOKEN, VERSION, SECURE]"
   ]
  },
  {
   "cell_type": "markdown",
   "metadata": {
    "id": "t0TQd18kIQAX"
   },
   "source": [
    "## Imports"
   ]
  },
  {
   "cell_type": "code",
   "execution_count": null,
   "metadata": {
    "id": "dX3VXdWJIQAX"
   },
   "outputs": [],
   "source": [
    "from exabyte_api_examples_utils.generic import display_JSON\n",
    "\n",
    "from exabyte_api_client.endpoints.workflows import WorkflowEndpoints"
   ]
  },
  {
   "cell_type": "markdown",
   "metadata": {
    "id": "h8JubXPxIQAY"
   },
   "source": [
    "## Set Parameters\n",
    "\n",
    "- **QUERY**: A query describing the documents to find. See [Meteor collection](https://docs.meteor.com/api/collections.html#Mongo-Collection-find) for more information. \n",
    "\n",
    "- **limit**: Maximum number of results to return. See [Meteor collection](https://docs.meteor.com/api/collections.html#Mongo-Collection-find) for more information."
   ]
  },
  {
   "cell_type": "code",
   "execution_count": null,
   "metadata": {
    "id": "xCEktmwiIQAZ"
   },
   "outputs": [],
   "source": [
    "QUERY = {\n",
    "    \"name\": \"Total Energy\",\n",
    "    \"owner._id\": ACCOUNT_ID\n",
    "}\n",
    "\n",
    "OPTIONS = {\n",
    "    \"limit\": 2\n",
    "}"
   ]
  },
  {
   "cell_type": "markdown",
   "metadata": {
    "id": "1fgv7cWSIQAZ"
   },
   "source": [
    "## Initialize the endpoint\n",
    "\n",
    "Initialize a helper class to interact with `WorkflowEndpoints`. This only has to be done once."
   ]
  },
  {
   "cell_type": "code",
   "execution_count": null,
   "metadata": {
    "id": "pwEMspn7IQAa"
   },
   "outputs": [],
   "source": [
    "endpoint = WorkflowEndpoints(*ENDPOINT_ARGS)"
   ]
  },
  {
   "cell_type": "markdown",
   "metadata": {
    "id": "iKpJYJYjIQAa"
   },
   "source": [
    "## List workflows\n",
    "\n",
    "Contact the endpoint to list workflows according to the query above."
   ]
  },
  {
   "cell_type": "code",
   "execution_count": null,
   "metadata": {
    "id": "wzFp8DcCIQAa"
   },
   "outputs": [],
   "source": [
    "workflows = endpoint.list(QUERY, OPTIONS)"
   ]
  },
  {
   "cell_type": "markdown",
   "metadata": {
    "id": "mrZ2nEmJIQAb"
   },
   "source": [
    "## Print workflows\n",
    "\n",
    "Print the list of workflows saved under the corresponding variable in pretty JSON below."
   ]
  },
  {
   "cell_type": "code",
   "execution_count": null,
   "metadata": {
    "colab": {
     "base_uri": "https://localhost:8080/"
    },
    "id": "KSJgpWRzIQAb",
    "outputId": "7ee3b7f6-208f-427e-ee32-07486078072c"
   },
   "outputs": [],
   "source": [
    "display_JSON(workflows)"
   ]
  }
 ],
 "metadata": {
  "colab": {
   "name": "get_workflows.ipynb",
   "provenance": []
  },
  "kernelspec": {
   "display_name": "Python 3",
   "language": "python",
   "name": "python3"
  },
  "language_info": {
   "codemirror_mode": {
    "name": "ipython",
    "version": 3
   },
   "file_extension": ".py",
   "mimetype": "text/x-python",
   "name": "python",
   "nbconvert_exporter": "python",
   "pygments_lexer": "ipython3",
   "version": "3.8.12"
  }
 },
 "nbformat": 4,
 "nbformat_minor": 1
}
