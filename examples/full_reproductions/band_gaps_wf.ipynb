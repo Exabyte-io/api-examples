{
 "cells": [
  {
   "attachments": {},
   "cell_type": "markdown",
   "metadata": {
    "id": "rqmhDMSkIQAT"
   },
   "source": [
    "<a href=\"https://colab.research.google.com/github/Exabyte-io/api-examples/blob/dev/examples/workflow/get_workflows.ipynb\" target=\"_parent\">\n",
    "<img alt=\"Open in Google Colab\" src=\"https://user-images.githubusercontent.com/20477508/128780728-491fea90-9b23-495f-a091-11681150db37.jpeg\" width=\"150\" border=\"0\">\n",
    "</a>"
   ]
  },
  {
   "attachments": {},
   "cell_type": "markdown",
   "metadata": {
    "id": "OtfhrLhwIQAV"
   },
   "source": [
    "# Overview\n",
    "\n",
    "Inside this example we contact [Workflow](https://docs.mat3ra.com/api/Workflows/get_workflows) endpoint to obtain Band Gap workflow and adjust settings."
   ]
  },
  {
   "attachments": {},
   "cell_type": "markdown",
   "metadata": {
    "id": "stJCOZz0IQAW"
   },
   "source": [
    "# Complete Authorization Form and Initialize Settings\n",
    "\n",
    "This will also determine environment and set all environment variables. We determine if we are using Jupyter Notebooks or Google Colab to run this tutorial.\n",
    "\n",
    "If you are running this notebook from Google Colab, Colab takes ~1 min to execute the following cell.\n",
    "\n",
    "ACCOUNT_ID and AUTH_TOKEN - Authentication parameters needed for when making requests to [Mat3ra.com's API Endpoints](https://docs.mat3ra.com/rest-api/endpoints/).\n",
    "\n",
    "MATERIALS_PROJECT_API_KEY - Authentication parameter needed for when making requests to [Material Project's API](https://materialsproject.org/open)\n",
    "\n",
    "ORGANIZATION_ID - Authentication parameter needed for when working with collaborative accounts https://docs.mat3ra.com/collaboration/organizations/overview/\n",
    "\n",
    "> <span style=\"color: orange\">**NOTE**</span>: If you are running this notebook from Jupyter, the variables ACCOUNT_ID, AUTH_TOKEN, MATERIALS_PROJECT_API_KEY, and ORGANIZATION_ID should be set in the file [settings.json](../../utils/settings.json) if you need to use these variables. To obtain API token parameters, please see the following link to the documentation explaining how to get them: https://docs.mat3ra.com/accounts/ui/preferences/api/"
   ]
  },
  {
   "cell_type": "code",
   "metadata": {
    "cellView": "form",
    "colab": {
     "base_uri": "https://localhost:8080/"
    },
    "id": "KenNuzjjIQAW",
    "outputId": "1622a36b-7d5c-4798-a684-ca9f1e069ff2"
   },
   "source": [
    "# @title Authorization Form\n",
    "ACCOUNT_ID = \"ACCOUNT_ID\"  # @param {type:\"string\"}\n",
    "AUTH_TOKEN = \"AUTH_TOKEN\"  # @param {type:\"string\"}\n",
    "MATERIALS_PROJECT_API_KEY = \"MATERIALS_PROJECT_API_KEY\"  # @param {type:\"string\"}\n",
    "ORGANIZATION_ID = \"ORGANIZATION_ID\"  # @param {type:\"string\"}\n",
    "\n",
    "import os\n",
    "import sys\n",
    "\n",
    "if \"COLAB_JUPYTER_IP\" in os.environ:\n",
    "    os.environ.update(\n",
    "        dict(\n",
    "            ACCOUNT_ID=ACCOUNT_ID,\n",
    "            AUTH_TOKEN=AUTH_TOKEN,\n",
    "            MATERIALS_PROJECT_API_KEY=MATERIALS_PROJECT_API_KEY,\n",
    "            ORGANIZATION_ID=ORGANIZATION_ID,\n",
    "        )\n",
    "    )\n",
    "\n",
    "    !GIT_BRANCH=\"dev\"; export GIT_BRANCH; curl -s \"https://raw.githubusercontent.com/Exabyte-io/api-examples/${GIT_BRANCH}/scripts/env.sh\" | bash\n",
    "\n",
    "if sys.platform == \"emscripten\":\n",
    "    apiConfig = data_from_host.get(\"apiConfig\")\n",
    "    os.environ.update(data_from_host.get(\"environ\", {}))\n",
    "    os.environ.update(\n",
    "        dict(\n",
    "            ACCOUNT_ID=apiConfig.get(\"accountId\"),\n",
    "            AUTH_TOKEN=apiConfig.get(\"authToken\"),\n",
    "            MATERIALS_PROJECT_API_KEY=MATERIALS_PROJECT_API_KEY,\n",
    "            ORGANIZATION_ID=apiConfig.get(\"organizationId\") or \"\",\n",
    "        )\n",
    "    )\n",
    "\n",
    "    import micropip\n",
    "\n",
    "    await micropip.install(\"mat3ra-api-examples\", deps=False)\n",
    "    await micropip.install(\"mat3ra-utils\")\n",
    "    from mat3ra.utils.jupyterlite.packages import install_packages\n",
    "\n",
    "    await install_packages(\"api_examples\")"
   ],
   "outputs": [],
   "execution_count": null
  },
  {
   "attachments": {},
   "cell_type": "markdown",
   "metadata": {
    "id": "t0TQd18kIQAX"
   },
   "source": [
    "## Imports"
   ]
  },
  {
   "cell_type": "code",
   "metadata": {
    "id": "dX3VXdWJIQAX"
   },
   "source": [
    "from utils.settings import ENDPOINT_ARGS, ACCOUNT_ID\n",
    "from utils.generic import display_JSON\n",
    "\n",
    "from exabyte_api_client.endpoints.workflows import WorkflowEndpoints"
   ],
   "outputs": [],
   "execution_count": null
  },
  {
   "attachments": {},
   "cell_type": "markdown",
   "metadata": {
    "id": "h8JubXPxIQAY"
   },
   "source": [
    "## Set Parameters\n",
    "\n",
    "- **QUERY**: A query describing the documents to find. See [Meteor collection](https://docs.meteor.com/api/collections.html#Mongo-Collection-find) for more information. \n",
    "\n",
    "- **limit**: Maximum number of results to return. See [Meteor collection](https://docs.meteor.com/api/collections.html#Mongo-Collection-find) for more information."
   ]
  },
  {
   "cell_type": "code",
   "metadata": {
    "id": "xCEktmwiIQAZ"
   },
   "source": [
    "OWNER_ID = os.getenv(\"ORGANIZATION_ID\") or ACCOUNT_ID\n",
    "# If this doesn't exist, we need to set model to be with LDA\n",
    "QUERY = {\"name\": {\"$regex\": \"Band Gap.*LDA\"}, \"owner._id\": OWNER_ID}\n",
    "\n",
    "OPTIONS = {\"limit\": 2}"
   ],
   "outputs": [],
   "execution_count": null
  },
  {
   "attachments": {},
   "cell_type": "markdown",
   "metadata": {
    "id": "1fgv7cWSIQAZ"
   },
   "source": [
    "## Initialize the endpoint\n",
    "\n",
    "Initialize a helper class to interact with `WorkflowEndpoints`. This only has to be done once."
   ]
  },
  {
   "cell_type": "code",
   "metadata": {
    "id": "pwEMspn7IQAa"
   },
   "source": [
    "endpoint = WorkflowEndpoints(*ENDPOINT_ARGS)"
   ],
   "outputs": [],
   "execution_count": null
  },
  {
   "attachments": {},
   "cell_type": "markdown",
   "metadata": {
    "id": "iKpJYJYjIQAa"
   },
   "source": [
    "## List workflows\n",
    "\n",
    "Contact the endpoint to list workflows according to the query above."
   ]
  },
  {
   "cell_type": "code",
   "metadata": {
    "id": "wzFp8DcCIQAa"
   },
   "source": [
    "workflows = endpoint.list(QUERY, OPTIONS)"
   ],
   "outputs": [],
   "execution_count": null
  },
  {
   "attachments": {},
   "cell_type": "markdown",
   "metadata": {
    "id": "mrZ2nEmJIQAb"
   },
   "source": [
    "## Print workflows\n",
    "\n",
    "Print the list of workflows saved under the corresponding variable in pretty JSON below."
   ]
  },
  {
   "cell_type": "code",
   "metadata": {
    "colab": {
     "base_uri": "https://localhost:8080/"
    },
    "id": "KSJgpWRzIQAb",
    "outputId": "7ee3b7f6-208f-427e-ee32-07486078072c"
   },
   "source": [
    "display_JSON(workflows)"
   ],
   "outputs": [],
   "execution_count": null
  },
  {
   "metadata": {},
   "cell_type": "code",
   "outputs": [],
   "execution_count": null,
   "source": "wf = workflows[0]"
  },
  {
   "metadata": {},
   "cell_type": "code",
   "source": [
    "from exabyte_api_client.endpoints.materials import MaterialEndpoints\n",
    "from exabyte_api_client.endpoints.jobs import JobEndpoints\n",
    "\n",
    "material_endpoints = MaterialEndpoints(*ENDPOINT_ARGS)\n",
    "OWNER_ID = os.getenv(\"ORGANIZATION_ID\") or ACCOUNT_ID\n",
    "print(ENDPOINT_ARGS)\n",
    "\n",
    "# We will upload the material (WS2 bilayer) first, then get its ID and use it in the job configuration.\n",
    "materials = material_endpoints.list({\"isDefault\": True, \"owner._id\": OWNER_ID})[0:5]"
   ],
   "outputs": [],
   "execution_count": null
  },
  {
   "metadata": {},
   "cell_type": "code",
   "source": [
    "material_id = materials[0][\"_id\"]\n",
    "material_id"
   ],
   "outputs": [],
   "execution_count": null
  },
  {
   "metadata": {},
   "cell_type": "code",
   "source": [
    "job_endpoints = JobEndpoints(*ENDPOINT_ARGS)\n",
    "config = {\n",
    "    \"owner\": {\"_id\": OWNER_ID},\n",
    "    \"_material\": {\"_id\": material_id},\n",
    "    \"workflow\": wf,\n",
    "    \"name\": \"TEST JOB BG - from Python\",\n",
    "}\n",
    "# print(config[\"workflow\"])"
   ],
   "outputs": [],
   "execution_count": null
  },
  {
   "metadata": {},
   "cell_type": "code",
   "source": [
    "# Create job:\n",
    "job = job_endpoints.create(config)\n",
    "# job_endpoints.submit(job[\"_id\"])"
   ],
   "outputs": [],
   "execution_count": null
  },
  {
   "metadata": {},
   "cell_type": "markdown",
   "source": "### Modify the job to set kgrid parameters"
  },
  {
   "metadata": {},
   "cell_type": "code",
   "source": [
    "modifier = {\n",
    "    \"workflow.subworkflows.0.units.0.context\": {\n",
    "        \"kgridExtraData\": {\"materialHash\": \"a665723ef7429caef6ca89385fe25bae\"},\n",
    "        \"kgrid\": {\n",
    "            \"dimensions\": [3, 3, 1],\n",
    "            \"shifts\": [0, 0, 0],\n",
    "            \"reciprocalVectorRatios\": [1, 1, 1],\n",
    "            \"gridMetricType\": \"KPPRA\",\n",
    "            \"gridMetricValue\": 2,\n",
    "            \"preferGridMetric\": False,\n",
    "        },\n",
    "        \"isKgridEdited\": True,\n",
    "        \"subworkflowContext\": {},\n",
    "    }\n",
    "}"
   ],
   "outputs": [],
   "execution_count": null
  },
  {
   "metadata": {},
   "cell_type": "code",
   "source": [
    "# Update job with the modifier\n",
    "job_endpoints.update(id_=job[\"_id\"], modifier=modifier)"
   ],
   "outputs": [],
   "execution_count": null
  },
  {
   "metadata": {},
   "cell_type": "code",
   "source": "",
   "outputs": [],
   "execution_count": null
  }
 ],
 "metadata": {
  "colab": {
   "name": "get_workflows.ipynb",
   "provenance": []
  },
  "kernelspec": {
   "display_name": "Python 3",
   "language": "python",
   "name": "python3"
  },
  "language_info": {
   "codemirror_mode": {
    "name": "ipython",
    "version": 3
   },
   "file_extension": ".py",
   "mimetype": "text/x-python",
   "name": "python",
   "nbconvert_exporter": "python",
   "pygments_lexer": "ipython3",
   "version": "3.8.6"
  }
 },
 "nbformat": 4,
 "nbformat_minor": 1
}
