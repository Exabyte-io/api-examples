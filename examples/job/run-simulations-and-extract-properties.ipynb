{
 "cells": [
  {
   "cell_type": "markdown",
   "metadata": {
    "id": "pe8t1uEoGuQL"
   },
   "source": [
    "<a href=\"https://colab.research.google.com/github/Exabyte-io/exabyte-api-examples/blob/feature/SOF-4685/examples/job/run-simulations-and-extract-properties.ipynb\" target=\"_parent\">\n",
    "<img alt=\"Open in Google Colab\" src=\"https://user-images.githubusercontent.com/20477508/128780728-491fea90-9b23-495f-a091-11681150db37.jpeg\" width=\"150\" border=\"0\">\n",
    "</a>"
   ]
  },
  {
   "cell_type": "markdown",
   "metadata": {
    "id": "XZhBV89lGuQN"
   },
   "source": [
    "# Run Simulations and Extract Properties\n",
    "\n",
    "This example demonstrates how to use Exabyte RESTful API to create simulation [Jobs](https://docs.exabyte.io/jobs/overview/) programmatically for multiple [Materials](https://docs.exabyte.io/materials/overview/) at once and extract the resulting [Properties](https://docs.exabyte.io/properties/overview/) forming a [Pandas](https://pandas.pydata.org/) dataframe.\n",
    "\n",
    "This approach can work with any [Workflows](https://docs.exabyte.io/workflows/overview/). For the demonstration purpose we use the Density Functional Theory and extract Electronic Band Gap as the property of interest.\n",
    "\n",
    "> <span style=\"color: orange\">**IMPORTANT NOTE**</span>: In order to run this example in full, an active Exabyte.io account with access to VASP (Vienna ab-initio simulations package) is required. Alternatively, Readers may substitute the workflow ID below with another one (an equivalent one for Quantum ESPRESSO, for example) and adjust extraction of the results (\"Extract results\" section). RESTful API credentials shall be updated in [settings](../settings.py).\n",
    "\n",
    "\n",
    "## Steps\n",
    "\n",
    "We follow the below steps:\n",
    "\n",
    "- Import materials from [materials project](https://materialsproject.org/)\n",
    "\n",
    "- Group imported materials inside a [materials set](https://docs.exabyte.io/entities-general/sets/)\n",
    "\n",
    "- Create jobs for the materials and grouping them inside a [jobs set](https://docs.exabyte.io/entities-general/sets/)\n",
    "\n",
    "- Submit jobs and monitoring the progress\n",
    "\n",
    "- Extract the [final structure](https://docs.exabyte.io/properties/structural/final-structure) (relaxed structure) and its properties\n",
    "\n",
    "- Output the results as Pandas dataFrame\n",
    "\n",
    "## Pre-requisites\n",
    "\n",
    "The explanation below assumes that the reader is familiar with the concepts used in Exabyte platform and RESTful API. We outline these below and direct the reader to the original sources of information:\n",
    "\n",
    "- [Generating RESTful API authentication parameters](../system/get_authentication_params.ipynb)\n",
    "- [Importing materials from materials project](../material/import_materials_from_materialsproject.ipynb)\n",
    "- [Creating and submitting jobs](../job/create_and_submit_job.ipynb)"
   ]
  },
  {
   "cell_type": "markdown",
   "metadata": {
    "id": "ML9cpWslGuQO"
   },
   "source": [
    "# Complete Authorization Form and Initialize Settings\n",
    "\n",
    "This will also determine environment and set all environment variables. We determine if we are using Jupyter Notebooks or Google Colab to run this tutorial.\n",
    "\n",
    "If you are running this notebook from Google Colab, Colab takes ~1 min to execute the following cell.\n",
    "\n",
    "ACCOUNT_ID and AUTH_TOKEN - Authentication parameters needed for when making requests to [Exabyte.io's API Endpoints](https://docs.exabyte.io/rest-api/endpoints/).\n",
    "\n",
    "MATERIALS_PROJECT_API_KEY - Authentication parameter needed for when making requests to [Material Project's API](https://materialsproject.org/open)\n",
    "\n",
    "ORGANIZATION_ID - Authentication parameter needed for when working with collaborative accounts https://docs.exabyte.io/collaboration/organizations/overview/\n",
    "\n",
    "> <span style=\"color: orange\">**NOTE**</span>: If you are running this notebook from Jupyter, the variables ACCOUNT_ID, AUTH_TOKEN, MATERIALS_PROJECT_API_KEY, and ORGANIZATION_ID should be set in the file [settings.json](../settings.json) if you need to use these variables. To obtain API token parameters, please see the following link to the documentation explaining how to get them: https://docs.exabyte.io/accounts/ui/preferences/api/"
   ]
  },
  {
   "cell_type": "code",
   "execution_count": 1,
   "metadata": {
    "cellView": "form",
    "colab": {
     "base_uri": "https://localhost:8080/"
    },
    "id": "tZDgVj8zGuQO",
    "outputId": "fd8048ca-7813-46fb-f340-49a306eaff0c"
   },
   "outputs": [
    {
     "name": "stdout",
     "output_type": "stream",
     "text": [
      "Cloning into 'exabyte-api-examples'...\n",
      "remote: Enumerating objects: 2469, done.\u001b[K\n",
      "remote: Counting objects: 100% (435/435), done.\u001b[K\n",
      "remote: Compressing objects: 100% (212/212), done.\u001b[K\n",
      "remote: Total 2469 (delta 337), reused 310 (delta 223), pack-reused 2034\u001b[K\n",
      "Receiving objects: 100% (2469/2469), 34.87 MiB | 32.38 MiB/s, done.\n",
      "Resolving deltas: 100% (1399/1399), done.\n"
     ]
    }
   ],
   "source": [
    "#@title Authorization Form\n",
    "ACCOUNT_ID = \"ACCOUNT_ID\" #@param {type:\"string\"}\n",
    "AUTH_TOKEN = \"AUTH_TOKEN\" #@param {type:\"string\"}\n",
    "MATERIALS_PROJECT_API_KEY = \"MATERIALS_PROJECT_API_KEY\" #@param {type:\"string\"}\n",
    "ORGANIZATION_ID  = \"ORGANIZATION_ID\" #@param {type:\"string\"}\n",
    "import os, glob, sys, importlib, urllib.request\n",
    "\n",
    "# The below execution sets up runtime using code stored remotely in a url\n",
    "exec(urllib.request.urlopen('https://raw.githubusercontent.com/Exabyte-io/exabyte-api-examples/feature/SOF-4685/examples/utils/initialize_settings.py').read())"
   ]
  },
  {
   "cell_type": "markdown",
   "metadata": {
    "id": "jS3-0-VzGuQP"
   },
   "source": [
    "### Import packages"
   ]
  },
  {
   "cell_type": "code",
   "execution_count": 2,
   "metadata": {
    "id": "jC7WQVLkGuQP"
   },
   "outputs": [],
   "source": [
    "import time\n",
    "from IPython.display import IFrame\n",
    "\n",
    "# Import settings file and utils file\n",
    "import settings; importlib.reload(settings)\n",
    "from settings import ENDPOINT_ARGS, ACCOUNT_ID, MATERIALS_PROJECT_API_KEY\n",
    "from utils.generic import wait_for_jobs_to_finish, get_property_by_subworkow_and_unit_indicies, dataframe_to_html\n",
    "\n",
    "import pandas as pd\n",
    "\n",
    "# Relevant functions from the API client\n",
    "from exabyte_api_client.endpoints.jobs import JobEndpoints\n",
    "from exabyte_api_client.utils.materials import flatten_material\n",
    "from exabyte_api_client.endpoints.projects import ProjectEndpoints\n",
    "from exabyte_api_client.endpoints.materials import MaterialEndpoints\n",
    "from exabyte_api_client.endpoints.bank_workflows import BankWorkflowEndpoints\n",
    "from exabyte_api_client.endpoints.raw_properties import RawPropertiesEndpoints"
   ]
  },
  {
   "cell_type": "markdown",
   "metadata": {
    "id": "8qFzDd1EGuQQ"
   },
   "source": [
    "#### Materials\n",
    "\n",
    "- **MATERIALS_PROJECT_IDS**: a list of material IDs to be imported from materials project\n",
    "- **TAGS**: a list of [tags](https://docs.exabyte.io/entities-general/data/#tags) to assign to imported materials\n",
    "- **MATERIALS_SET_NAME**: the name of the materials set\n"
   ]
  },
  {
   "cell_type": "code",
   "execution_count": 3,
   "metadata": {
    "id": "GrESpSt6GuQQ"
   },
   "outputs": [],
   "source": [
    "MATERIALS_PROJECT_IDS = [\"mp-149\", \"mp-32\"] # Si and Ge\n",
    "MATERIALS_SET_NAME = \"materials-set\"\n",
    "TAGS = [\"tag1\", \"tag2\"]"
   ]
  },
  {
   "cell_type": "markdown",
   "metadata": {
    "id": "tN2FjWMTGuQR"
   },
   "source": [
    "#### Jobs\n",
    "\n",
    "Parameters for the jobs to be ran for the imported materials:\n",
    "\n",
    "- **JOB_NAME_PREFIX**: prefix to be used for the job name with \"{JOB_NAME_PREFIX} {FORMULA}\" convention (e.g.  \"Job Name Prefix - SiGe\")\n",
    "- **JOBS_SET_NAME**: the name of the jobs set"
   ]
  },
  {
   "cell_type": "code",
   "execution_count": 4,
   "metadata": {
    "id": "7PK1884mGuQR"
   },
   "outputs": [],
   "source": [
    "JOB_NAME_PREFIX = \"Job Name Prefix\"\n",
    "JOBS_SET_NAME = \"jobs-set\""
   ]
  },
  {
   "cell_type": "markdown",
   "metadata": {
    "id": "2SL1nNOBGuQS"
   },
   "source": [
    "#### Workflow\n",
    "\n",
    "This example is based on [this](https://platform.exabyte.io/analytics/workflows/56xDyXsPMNJ7cF9nv) bank workflow which is later copied to the account workflows collection.  The workflow is named \"D3-GGA-BS-BG-DOS-ALL\" and utilizes the logic explained in https://arxiv.org/pdf/1808.05325.pdf, for example (see section \"Methodology\", Table I). \"D3\" indicates the difficulty level 3 per the table convention. BS, BG, DOS indicate the properties extracted - Band Structure, Band Gap, Density of States. The workflow is utilizing VASP simulation engine at version 5.4.4."
   ]
  },
  {
   "cell_type": "code",
   "execution_count": 5,
   "metadata": {
    "id": "63K2z5V_GuQS"
   },
   "outputs": [],
   "source": [
    "BANK_WORKFLOW_ID = \"56xDyXsPMNJ7cF9nv\""
   ]
  },
  {
   "cell_type": "code",
   "execution_count": 6,
   "metadata": {
    "colab": {
     "base_uri": "https://localhost:8080/",
     "height": 671
    },
    "id": "K6IVdeN0GuQS",
    "outputId": "0f805c5b-0608-4af7-f8d8-914026559dab"
   },
   "outputs": [
    {
     "data": {
      "text/html": [
       "\n",
       "        <iframe\n",
       "            width=\"900\"\n",
       "            height=\"650\"\n",
       "            src=\"https://platform.exabyte.io/analytics/workflows/56xDyXsPMNJ7cF9nv\"\n",
       "            frameborder=\"0\"\n",
       "            allowfullscreen\n",
       "        ></iframe>\n",
       "        "
      ],
      "text/plain": [
       "<IPython.lib.display.IFrame at 0x7f4fe165b8d0>"
      ]
     },
     "execution_count": 6,
     "metadata": {
      "tags": []
     },
     "output_type": "execute_result"
    }
   ],
   "source": [
    "# Visualize the bank workflow below\n",
    "# NOTE: might not be rendered on Github\n",
    "IFrame(\"https://platform.exabyte.io/analytics/workflows/{}\".format(BANK_WORKFLOW_ID), width=900, height=650)"
   ]
  },
  {
   "cell_type": "markdown",
   "metadata": {
    "id": "_bRgarl3GuQT"
   },
   "source": [
    "#### Compute\n",
    "\n",
    "Setup compute parameters. See [this](https://docs.exabyte.io/infrastructure/compute-settings/ui) for more information about compute parameters.\n",
    "\n",
    "- **NODES**: Number of nodes. Defaults to 1.\n",
    "- **PPN**: Number of MPI processes per each node, Defaults to 1.\n",
    "- **QUEUE**: The name of queue to submit the jobs into. Defaults to D.\n",
    "- **TIME_LIMIT**: Job walltime. Defaults to \"01:00:00\" (one hour).\n",
    "- **CLUSTER**: The full qualified domain name (FQDN) or alias of the cluster to submit the jobs into.\n",
    "\n",
    "explain in the notebook that the job might run out of the limit of memory so it is clear, (2) suggest using OR queue to avoid memory limitations\n",
    "\n",
    "> <span style=\"color: orange\">**NOTE**</span>: Although here we set the QUEUE to be debug, it is possible the job might run out of memory, and result in an Errored-Jobs status. If this happens, we suggest you switch from `QUEUE = D` to `QUEUE = OR` to avoid memory limitations."
   ]
  },
  {
   "cell_type": "code",
   "execution_count": 7,
   "metadata": {
    "id": "_81ZxEGSGuQT"
   },
   "outputs": [],
   "source": [
    "PPN = \"1\"\n",
    "QUEUE = \"D\"\n",
    "NODES = \"1\"\n",
    "TIME_LIMIT = \"01:00:00\"\n",
    "CLUSTER = \"cluster-001\""
   ]
  },
  {
   "cell_type": "markdown",
   "metadata": {
    "id": "VeUh62vmGuQU"
   },
   "source": [
    "### Initialize endpoints"
   ]
  },
  {
   "cell_type": "code",
   "execution_count": 8,
   "metadata": {
    "id": "PDHqVPGsGuQU"
   },
   "outputs": [],
   "source": [
    "job_endpoints = JobEndpoints(*ENDPOINT_ARGS)\n",
    "project_endpoints = ProjectEndpoints(*ENDPOINT_ARGS)\n",
    "material_endpoints = MaterialEndpoints(*ENDPOINT_ARGS)\n",
    "raw_property_endpoints = RawPropertiesEndpoints(*ENDPOINT_ARGS)\n",
    "bank_workflow_endpoints = BankWorkflowEndpoints(*ENDPOINT_ARGS)"
   ]
  },
  {
   "cell_type": "markdown",
   "metadata": {
    "id": "3-OhxFHxGuQU"
   },
   "source": [
    "Next, we retrieve the owner and project IDs as they are needed by the endpoints. Account's default material is used to extract the owner ID. One can extract the owner ID from any other account's [entities](https://docs.exabyte.io/entities-general/overview/)."
   ]
  },
  {
   "cell_type": "code",
   "execution_count": 9,
   "metadata": {
    "id": "thRoaKNlGuQU"
   },
   "outputs": [],
   "source": [
    "owner_id = material_endpoints.list({\"isDefault\": True, \"owner._id\": ACCOUNT_ID})[0][\"owner\"][\"_id\"]\n",
    "project_id = project_endpoints.list({\"isDefault\": True, \"owner._id\": ACCOUNT_ID})[0][\"_id\"]"
   ]
  },
  {
   "cell_type": "markdown",
   "metadata": {
    "id": "BR22VXZQGuQU"
   },
   "source": [
    "### Create workflow\n",
    "\n",
    "Copy bank workflow (template) to the account's workflows collection."
   ]
  },
  {
   "cell_type": "code",
   "execution_count": 10,
   "metadata": {
    "id": "RA7-aPNmGuQU"
   },
   "outputs": [],
   "source": [
    "workflow_id = bank_workflow_endpoints.copy(BANK_WORKFLOW_ID, owner_id)[\"_id\"]"
   ]
  },
  {
   "cell_type": "markdown",
   "metadata": {
    "id": "FNVGdNhaGuQU"
   },
   "source": [
    "### Import materials\n",
    "\n",
    "Import materials from materials project with the above tags."
   ]
  },
  {
   "cell_type": "code",
   "execution_count": 11,
   "metadata": {
    "id": "4b2k3-9BGuQV"
   },
   "outputs": [],
   "source": [
    "materials = material_endpoints.import_from_materialsproject(MATERIALS_PROJECT_API_KEY, MATERIALS_PROJECT_IDS, owner_id, TAGS)"
   ]
  },
  {
   "cell_type": "markdown",
   "metadata": {
    "id": "sb1JK5NNGuQV"
   },
   "source": [
    "Create a materials set and move the materials into it."
   ]
  },
  {
   "cell_type": "code",
   "execution_count": 12,
   "metadata": {
    "id": "sj5Hsk-8GuQV"
   },
   "outputs": [],
   "source": [
    "materials_set = material_endpoints.create_set({\"name\": MATERIALS_SET_NAME, \"owner\": {\"_id\": owner_id}})\n",
    "for material in materials: material_endpoints.move_to_set(material[\"_id\"], \"\", materials_set[\"_id\"])"
   ]
  },
  {
   "cell_type": "markdown",
   "metadata": {
    "id": "PSVqliqZGuQV"
   },
   "source": [
    "### Create jobs\n",
    "\n",
    "Create jobs for the materials above."
   ]
  },
  {
   "cell_type": "code",
   "execution_count": 13,
   "metadata": {
    "id": "hqlJVk6-GuQV"
   },
   "outputs": [],
   "source": [
    "compute = job_endpoints.get_compute(CLUSTER, PPN, NODES, QUEUE, TIME_LIMIT)\n",
    "jobs = job_endpoints.create_by_ids(materials, workflow_id, project_id, owner_id, JOB_NAME_PREFIX, compute)"
   ]
  },
  {
   "cell_type": "markdown",
   "metadata": {
    "id": "xJZsmyetGuQV"
   },
   "source": [
    "Create a jobs set and move the jobs into it."
   ]
  },
  {
   "cell_type": "code",
   "execution_count": 14,
   "metadata": {
    "id": "bem3lHjPGuQV"
   },
   "outputs": [],
   "source": [
    "jobs_set = job_endpoints.create_set({\"name\": JOBS_SET_NAME, \"projectId\": project_id, \"owner\": {\"_id\": owner_id}})\n",
    "for job in jobs: job_endpoints.move_to_set(job[\"_id\"], \"\", jobs_set[\"_id\"])"
   ]
  },
  {
   "cell_type": "markdown",
   "metadata": {
    "id": "dWzkeaCmGuQW"
   },
   "source": [
    "Submit the jobs for execution."
   ]
  },
  {
   "cell_type": "code",
   "execution_count": 15,
   "metadata": {
    "id": "ah5gvnQdGuQW"
   },
   "outputs": [],
   "source": [
    "for job in jobs: job_endpoints.submit(job[\"_id\"])"
   ]
  },
  {
   "cell_type": "markdown",
   "metadata": {
    "id": "UYvSw8PCGuQW"
   },
   "source": [
    "Monitor the jobs and print the status until they are all finished."
   ]
  },
  {
   "cell_type": "code",
   "execution_count": 16,
   "metadata": {
    "colab": {
     "base_uri": "https://localhost:8080/"
    },
    "id": "DBbJH6rhGuQW",
    "outputId": "8a4c5707-aa42-4daf-8ee5-d201ae9d00ac"
   },
   "outputs": [
    {
     "name": "stdout",
     "output_type": "stream",
     "text": [
      "Wait for jobs to finish, poll interval: 10 sec\n",
      "+---------------------+------------------+---------------+-----------------+----------------+\n",
      "|        TIME         |   SUBMITTED-JOBS |   ACTIVE-JOBS |   FINISHED-JOBS |   ERRORED-JOBS |\n",
      "+=====================+==================+===============+=================+================+\n",
      "| 2021-07-12-17:07:24 |                2 |             0 |               0 |              0 |\n",
      "+---------------------+------------------+---------------+-----------------+----------------+\n",
      "+---------------------+------------------+---------------+-----------------+----------------+\n",
      "|        TIME         |   SUBMITTED-JOBS |   ACTIVE-JOBS |   FINISHED-JOBS |   ERRORED-JOBS |\n",
      "+=====================+==================+===============+=================+================+\n",
      "| 2021-07-12-17:07:34 |                2 |             0 |               0 |              0 |\n",
      "+---------------------+------------------+---------------+-----------------+----------------+\n",
      "+---------------------+------------------+---------------+-----------------+----------------+\n",
      "|        TIME         |   SUBMITTED-JOBS |   ACTIVE-JOBS |   FINISHED-JOBS |   ERRORED-JOBS |\n",
      "+=====================+==================+===============+=================+================+\n",
      "| 2021-07-12-17:07:45 |                2 |             0 |               0 |              0 |\n",
      "+---------------------+------------------+---------------+-----------------+----------------+\n",
      "+---------------------+------------------+---------------+-----------------+----------------+\n",
      "|        TIME         |   SUBMITTED-JOBS |   ACTIVE-JOBS |   FINISHED-JOBS |   ERRORED-JOBS |\n",
      "+=====================+==================+===============+=================+================+\n",
      "| 2021-07-12-17:07:55 |                2 |             0 |               0 |              0 |\n",
      "+---------------------+------------------+---------------+-----------------+----------------+\n",
      "+---------------------+------------------+---------------+-----------------+----------------+\n",
      "|        TIME         |   SUBMITTED-JOBS |   ACTIVE-JOBS |   FINISHED-JOBS |   ERRORED-JOBS |\n",
      "+=====================+==================+===============+=================+================+\n",
      "| 2021-07-12-17:08:06 |                2 |             0 |               0 |              0 |\n",
      "+---------------------+------------------+---------------+-----------------+----------------+\n",
      "+---------------------+------------------+---------------+-----------------+----------------+\n",
      "|        TIME         |   SUBMITTED-JOBS |   ACTIVE-JOBS |   FINISHED-JOBS |   ERRORED-JOBS |\n",
      "+=====================+==================+===============+=================+================+\n",
      "| 2021-07-12-17:08:16 |                2 |             0 |               0 |              0 |\n",
      "+---------------------+------------------+---------------+-----------------+----------------+\n",
      "+---------------------+------------------+---------------+-----------------+----------------+\n",
      "|        TIME         |   SUBMITTED-JOBS |   ACTIVE-JOBS |   FINISHED-JOBS |   ERRORED-JOBS |\n",
      "+=====================+==================+===============+=================+================+\n",
      "| 2021-07-12-17:08:26 |                2 |             0 |               0 |              0 |\n",
      "+---------------------+------------------+---------------+-----------------+----------------+\n",
      "+---------------------+------------------+---------------+-----------------+----------------+\n",
      "|        TIME         |   SUBMITTED-JOBS |   ACTIVE-JOBS |   FINISHED-JOBS |   ERRORED-JOBS |\n",
      "+=====================+==================+===============+=================+================+\n",
      "| 2021-07-12-17:08:37 |                2 |             0 |               0 |              0 |\n",
      "+---------------------+------------------+---------------+-----------------+----------------+\n",
      "+---------------------+------------------+---------------+-----------------+----------------+\n",
      "|        TIME         |   SUBMITTED-JOBS |   ACTIVE-JOBS |   FINISHED-JOBS |   ERRORED-JOBS |\n",
      "+=====================+==================+===============+=================+================+\n",
      "| 2021-07-12-17:08:47 |                2 |             0 |               0 |              0 |\n",
      "+---------------------+------------------+---------------+-----------------+----------------+\n",
      "+---------------------+------------------+---------------+-----------------+----------------+\n",
      "|        TIME         |   SUBMITTED-JOBS |   ACTIVE-JOBS |   FINISHED-JOBS |   ERRORED-JOBS |\n",
      "+=====================+==================+===============+=================+================+\n",
      "| 2021-07-12-17:08:58 |                2 |             0 |               0 |              0 |\n",
      "+---------------------+------------------+---------------+-----------------+----------------+\n",
      "+---------------------+------------------+---------------+-----------------+----------------+\n",
      "|        TIME         |   SUBMITTED-JOBS |   ACTIVE-JOBS |   FINISHED-JOBS |   ERRORED-JOBS |\n",
      "+=====================+==================+===============+=================+================+\n",
      "| 2021-07-12-17:09:08 |                2 |             0 |               0 |              0 |\n",
      "+---------------------+------------------+---------------+-----------------+----------------+\n",
      "+---------------------+------------------+---------------+-----------------+----------------+\n",
      "|        TIME         |   SUBMITTED-JOBS |   ACTIVE-JOBS |   FINISHED-JOBS |   ERRORED-JOBS |\n",
      "+=====================+==================+===============+=================+================+\n",
      "| 2021-07-12-17:09:19 |                2 |             0 |               0 |              0 |\n",
      "+---------------------+------------------+---------------+-----------------+----------------+\n",
      "+---------------------+------------------+---------------+-----------------+----------------+\n",
      "|        TIME         |   SUBMITTED-JOBS |   ACTIVE-JOBS |   FINISHED-JOBS |   ERRORED-JOBS |\n",
      "+=====================+==================+===============+=================+================+\n",
      "| 2021-07-12-17:09:29 |                2 |             0 |               0 |              0 |\n",
      "+---------------------+------------------+---------------+-----------------+----------------+\n",
      "+---------------------+------------------+---------------+-----------------+----------------+\n",
      "|        TIME         |   SUBMITTED-JOBS |   ACTIVE-JOBS |   FINISHED-JOBS |   ERRORED-JOBS |\n",
      "+=====================+==================+===============+=================+================+\n",
      "| 2021-07-12-17:09:39 |                2 |             0 |               0 |              0 |\n",
      "+---------------------+------------------+---------------+-----------------+----------------+\n",
      "+---------------------+------------------+---------------+-----------------+----------------+\n",
      "|        TIME         |   SUBMITTED-JOBS |   ACTIVE-JOBS |   FINISHED-JOBS |   ERRORED-JOBS |\n",
      "+=====================+==================+===============+=================+================+\n",
      "| 2021-07-12-17:09:50 |                2 |             0 |               0 |              0 |\n",
      "+---------------------+------------------+---------------+-----------------+----------------+\n",
      "+---------------------+------------------+---------------+-----------------+----------------+\n",
      "|        TIME         |   SUBMITTED-JOBS |   ACTIVE-JOBS |   FINISHED-JOBS |   ERRORED-JOBS |\n",
      "+=====================+==================+===============+=================+================+\n",
      "| 2021-07-12-17:10:00 |                2 |             0 |               0 |              0 |\n",
      "+---------------------+------------------+---------------+-----------------+----------------+\n",
      "+---------------------+------------------+---------------+-----------------+----------------+\n",
      "|        TIME         |   SUBMITTED-JOBS |   ACTIVE-JOBS |   FINISHED-JOBS |   ERRORED-JOBS |\n",
      "+=====================+==================+===============+=================+================+\n",
      "| 2021-07-12-17:10:11 |                2 |             0 |               0 |              0 |\n",
      "+---------------------+------------------+---------------+-----------------+----------------+\n",
      "+---------------------+------------------+---------------+-----------------+----------------+\n",
      "|        TIME         |   SUBMITTED-JOBS |   ACTIVE-JOBS |   FINISHED-JOBS |   ERRORED-JOBS |\n",
      "+=====================+==================+===============+=================+================+\n",
      "| 2021-07-12-17:10:21 |                1 |             1 |               0 |              0 |\n",
      "+---------------------+------------------+---------------+-----------------+----------------+\n",
      "+---------------------+------------------+---------------+-----------------+----------------+\n",
      "|        TIME         |   SUBMITTED-JOBS |   ACTIVE-JOBS |   FINISHED-JOBS |   ERRORED-JOBS |\n",
      "+=====================+==================+===============+=================+================+\n",
      "| 2021-07-12-17:10:32 |                1 |             1 |               0 |              0 |\n",
      "+---------------------+------------------+---------------+-----------------+----------------+\n",
      "+---------------------+------------------+---------------+-----------------+----------------+\n",
      "|        TIME         |   SUBMITTED-JOBS |   ACTIVE-JOBS |   FINISHED-JOBS |   ERRORED-JOBS |\n",
      "+=====================+==================+===============+=================+================+\n",
      "| 2021-07-12-17:10:42 |                1 |             1 |               0 |              0 |\n",
      "+---------------------+------------------+---------------+-----------------+----------------+\n",
      "+---------------------+------------------+---------------+-----------------+----------------+\n",
      "|        TIME         |   SUBMITTED-JOBS |   ACTIVE-JOBS |   FINISHED-JOBS |   ERRORED-JOBS |\n",
      "+=====================+==================+===============+=================+================+\n",
      "| 2021-07-12-17:10:52 |                1 |             1 |               0 |              0 |\n",
      "+---------------------+------------------+---------------+-----------------+----------------+\n",
      "+---------------------+------------------+---------------+-----------------+----------------+\n",
      "|        TIME         |   SUBMITTED-JOBS |   ACTIVE-JOBS |   FINISHED-JOBS |   ERRORED-JOBS |\n",
      "+=====================+==================+===============+=================+================+\n",
      "| 2021-07-12-17:11:03 |                1 |             1 |               0 |              0 |\n",
      "+---------------------+------------------+---------------+-----------------+----------------+\n",
      "+---------------------+------------------+---------------+-----------------+----------------+\n",
      "|        TIME         |   SUBMITTED-JOBS |   ACTIVE-JOBS |   FINISHED-JOBS |   ERRORED-JOBS |\n",
      "+=====================+==================+===============+=================+================+\n",
      "| 2021-07-12-17:11:13 |                1 |             1 |               0 |              0 |\n",
      "+---------------------+------------------+---------------+-----------------+----------------+\n",
      "+---------------------+------------------+---------------+-----------------+----------------+\n",
      "|        TIME         |   SUBMITTED-JOBS |   ACTIVE-JOBS |   FINISHED-JOBS |   ERRORED-JOBS |\n",
      "+=====================+==================+===============+=================+================+\n",
      "| 2021-07-12-17:11:24 |                1 |             1 |               0 |              0 |\n",
      "+---------------------+------------------+---------------+-----------------+----------------+\n",
      "+---------------------+------------------+---------------+-----------------+----------------+\n",
      "|        TIME         |   SUBMITTED-JOBS |   ACTIVE-JOBS |   FINISHED-JOBS |   ERRORED-JOBS |\n",
      "+=====================+==================+===============+=================+================+\n",
      "| 2021-07-12-17:11:34 |                1 |             1 |               0 |              0 |\n",
      "+---------------------+------------------+---------------+-----------------+----------------+\n",
      "+---------------------+------------------+---------------+-----------------+----------------+\n",
      "|        TIME         |   SUBMITTED-JOBS |   ACTIVE-JOBS |   FINISHED-JOBS |   ERRORED-JOBS |\n",
      "+=====================+==================+===============+=================+================+\n",
      "| 2021-07-12-17:11:45 |                1 |             1 |               0 |              0 |\n",
      "+---------------------+------------------+---------------+-----------------+----------------+\n",
      "+---------------------+------------------+---------------+-----------------+----------------+\n",
      "|        TIME         |   SUBMITTED-JOBS |   ACTIVE-JOBS |   FINISHED-JOBS |   ERRORED-JOBS |\n",
      "+=====================+==================+===============+=================+================+\n",
      "| 2021-07-12-17:11:55 |                1 |             1 |               0 |              0 |\n",
      "+---------------------+------------------+---------------+-----------------+----------------+\n",
      "+---------------------+------------------+---------------+-----------------+----------------+\n",
      "|        TIME         |   SUBMITTED-JOBS |   ACTIVE-JOBS |   FINISHED-JOBS |   ERRORED-JOBS |\n",
      "+=====================+==================+===============+=================+================+\n",
      "| 2021-07-12-17:12:05 |                1 |             1 |               0 |              0 |\n",
      "+---------------------+------------------+---------------+-----------------+----------------+\n",
      "+---------------------+------------------+---------------+-----------------+----------------+\n",
      "|        TIME         |   SUBMITTED-JOBS |   ACTIVE-JOBS |   FINISHED-JOBS |   ERRORED-JOBS |\n",
      "+=====================+==================+===============+=================+================+\n",
      "| 2021-07-12-17:12:16 |                1 |             1 |               0 |              0 |\n",
      "+---------------------+------------------+---------------+-----------------+----------------+\n",
      "+---------------------+------------------+---------------+-----------------+----------------+\n",
      "|        TIME         |   SUBMITTED-JOBS |   ACTIVE-JOBS |   FINISHED-JOBS |   ERRORED-JOBS |\n",
      "+=====================+==================+===============+=================+================+\n",
      "| 2021-07-12-17:12:26 |                1 |             1 |               0 |              0 |\n",
      "+---------------------+------------------+---------------+-----------------+----------------+\n",
      "+---------------------+------------------+---------------+-----------------+----------------+\n",
      "|        TIME         |   SUBMITTED-JOBS |   ACTIVE-JOBS |   FINISHED-JOBS |   ERRORED-JOBS |\n",
      "+=====================+==================+===============+=================+================+\n",
      "| 2021-07-12-17:12:37 |                1 |             1 |               0 |              0 |\n",
      "+---------------------+------------------+---------------+-----------------+----------------+\n",
      "+---------------------+------------------+---------------+-----------------+----------------+\n",
      "|        TIME         |   SUBMITTED-JOBS |   ACTIVE-JOBS |   FINISHED-JOBS |   ERRORED-JOBS |\n",
      "+=====================+==================+===============+=================+================+\n",
      "| 2021-07-12-17:12:47 |                1 |             1 |               0 |              0 |\n",
      "+---------------------+------------------+---------------+-----------------+----------------+\n",
      "+---------------------+------------------+---------------+-----------------+----------------+\n",
      "|        TIME         |   SUBMITTED-JOBS |   ACTIVE-JOBS |   FINISHED-JOBS |   ERRORED-JOBS |\n",
      "+=====================+==================+===============+=================+================+\n",
      "| 2021-07-12-17:12:57 |                1 |             1 |               0 |              0 |\n",
      "+---------------------+------------------+---------------+-----------------+----------------+\n",
      "+---------------------+------------------+---------------+-----------------+----------------+\n",
      "|        TIME         |   SUBMITTED-JOBS |   ACTIVE-JOBS |   FINISHED-JOBS |   ERRORED-JOBS |\n",
      "+=====================+==================+===============+=================+================+\n",
      "| 2021-07-12-17:13:08 |                1 |             1 |               0 |              0 |\n",
      "+---------------------+------------------+---------------+-----------------+----------------+\n",
      "+---------------------+------------------+---------------+-----------------+----------------+\n",
      "|        TIME         |   SUBMITTED-JOBS |   ACTIVE-JOBS |   FINISHED-JOBS |   ERRORED-JOBS |\n",
      "+=====================+==================+===============+=================+================+\n",
      "| 2021-07-12-17:13:18 |                1 |             1 |               0 |              0 |\n",
      "+---------------------+------------------+---------------+-----------------+----------------+\n",
      "+---------------------+------------------+---------------+-----------------+----------------+\n",
      "|        TIME         |   SUBMITTED-JOBS |   ACTIVE-JOBS |   FINISHED-JOBS |   ERRORED-JOBS |\n",
      "+=====================+==================+===============+=================+================+\n",
      "| 2021-07-12-17:13:29 |                1 |             1 |               0 |              0 |\n",
      "+---------------------+------------------+---------------+-----------------+----------------+\n",
      "+---------------------+------------------+---------------+-----------------+----------------+\n",
      "|        TIME         |   SUBMITTED-JOBS |   ACTIVE-JOBS |   FINISHED-JOBS |   ERRORED-JOBS |\n",
      "+=====================+==================+===============+=================+================+\n",
      "| 2021-07-12-17:13:39 |                1 |             1 |               0 |              0 |\n",
      "+---------------------+------------------+---------------+-----------------+----------------+\n",
      "+---------------------+------------------+---------------+-----------------+----------------+\n",
      "|        TIME         |   SUBMITTED-JOBS |   ACTIVE-JOBS |   FINISHED-JOBS |   ERRORED-JOBS |\n",
      "+=====================+==================+===============+=================+================+\n",
      "| 2021-07-12-17:13:50 |                1 |             1 |               0 |              0 |\n",
      "+---------------------+------------------+---------------+-----------------+----------------+\n",
      "+---------------------+------------------+---------------+-----------------+----------------+\n",
      "|        TIME         |   SUBMITTED-JOBS |   ACTIVE-JOBS |   FINISHED-JOBS |   ERRORED-JOBS |\n",
      "+=====================+==================+===============+=================+================+\n",
      "| 2021-07-12-17:14:00 |                1 |             1 |               0 |              0 |\n",
      "+---------------------+------------------+---------------+-----------------+----------------+\n",
      "+---------------------+------------------+---------------+-----------------+----------------+\n",
      "|        TIME         |   SUBMITTED-JOBS |   ACTIVE-JOBS |   FINISHED-JOBS |   ERRORED-JOBS |\n",
      "+=====================+==================+===============+=================+================+\n",
      "| 2021-07-12-17:14:10 |                1 |             1 |               0 |              0 |\n",
      "+---------------------+------------------+---------------+-----------------+----------------+\n",
      "+---------------------+------------------+---------------+-----------------+----------------+\n",
      "|        TIME         |   SUBMITTED-JOBS |   ACTIVE-JOBS |   FINISHED-JOBS |   ERRORED-JOBS |\n",
      "+=====================+==================+===============+=================+================+\n",
      "| 2021-07-12-17:14:21 |                1 |             1 |               0 |              0 |\n",
      "+---------------------+------------------+---------------+-----------------+----------------+\n",
      "+---------------------+------------------+---------------+-----------------+----------------+\n",
      "|        TIME         |   SUBMITTED-JOBS |   ACTIVE-JOBS |   FINISHED-JOBS |   ERRORED-JOBS |\n",
      "+=====================+==================+===============+=================+================+\n",
      "| 2021-07-12-17:14:31 |                1 |             1 |               0 |              0 |\n",
      "+---------------------+------------------+---------------+-----------------+----------------+\n",
      "+---------------------+------------------+---------------+-----------------+----------------+\n",
      "|        TIME         |   SUBMITTED-JOBS |   ACTIVE-JOBS |   FINISHED-JOBS |   ERRORED-JOBS |\n",
      "+=====================+==================+===============+=================+================+\n",
      "| 2021-07-12-17:14:42 |                1 |             1 |               0 |              0 |\n",
      "+---------------------+------------------+---------------+-----------------+----------------+\n",
      "+---------------------+------------------+---------------+-----------------+----------------+\n",
      "|        TIME         |   SUBMITTED-JOBS |   ACTIVE-JOBS |   FINISHED-JOBS |   ERRORED-JOBS |\n",
      "+=====================+==================+===============+=================+================+\n",
      "| 2021-07-12-17:14:52 |                1 |             1 |               0 |              0 |\n",
      "+---------------------+------------------+---------------+-----------------+----------------+\n",
      "+---------------------+------------------+---------------+-----------------+----------------+\n",
      "|        TIME         |   SUBMITTED-JOBS |   ACTIVE-JOBS |   FINISHED-JOBS |   ERRORED-JOBS |\n",
      "+=====================+==================+===============+=================+================+\n",
      "| 2021-07-12-17:15:03 |                1 |             1 |               0 |              0 |\n",
      "+---------------------+------------------+---------------+-----------------+----------------+\n",
      "+---------------------+------------------+---------------+-----------------+----------------+\n",
      "|        TIME         |   SUBMITTED-JOBS |   ACTIVE-JOBS |   FINISHED-JOBS |   ERRORED-JOBS |\n",
      "+=====================+==================+===============+=================+================+\n",
      "| 2021-07-12-17:15:13 |                1 |             1 |               0 |              0 |\n",
      "+---------------------+------------------+---------------+-----------------+----------------+\n",
      "+---------------------+------------------+---------------+-----------------+----------------+\n",
      "|        TIME         |   SUBMITTED-JOBS |   ACTIVE-JOBS |   FINISHED-JOBS |   ERRORED-JOBS |\n",
      "+=====================+==================+===============+=================+================+\n",
      "| 2021-07-12-17:15:23 |                1 |             1 |               0 |              0 |\n",
      "+---------------------+------------------+---------------+-----------------+----------------+\n",
      "+---------------------+------------------+---------------+-----------------+----------------+\n",
      "|        TIME         |   SUBMITTED-JOBS |   ACTIVE-JOBS |   FINISHED-JOBS |   ERRORED-JOBS |\n",
      "+=====================+==================+===============+=================+================+\n",
      "| 2021-07-12-17:15:34 |                1 |             1 |               0 |              0 |\n",
      "+---------------------+------------------+---------------+-----------------+----------------+\n",
      "+---------------------+------------------+---------------+-----------------+----------------+\n",
      "|        TIME         |   SUBMITTED-JOBS |   ACTIVE-JOBS |   FINISHED-JOBS |   ERRORED-JOBS |\n",
      "+=====================+==================+===============+=================+================+\n",
      "| 2021-07-12-17:15:44 |                1 |             1 |               0 |              0 |\n",
      "+---------------------+------------------+---------------+-----------------+----------------+\n",
      "+---------------------+------------------+---------------+-----------------+----------------+\n",
      "|        TIME         |   SUBMITTED-JOBS |   ACTIVE-JOBS |   FINISHED-JOBS |   ERRORED-JOBS |\n",
      "+=====================+==================+===============+=================+================+\n",
      "| 2021-07-12-17:15:55 |                1 |             1 |               0 |              0 |\n",
      "+---------------------+------------------+---------------+-----------------+----------------+\n",
      "+---------------------+------------------+---------------+-----------------+----------------+\n",
      "|        TIME         |   SUBMITTED-JOBS |   ACTIVE-JOBS |   FINISHED-JOBS |   ERRORED-JOBS |\n",
      "+=====================+==================+===============+=================+================+\n",
      "| 2021-07-12-17:16:05 |                1 |             1 |               0 |              0 |\n",
      "+---------------------+------------------+---------------+-----------------+----------------+\n",
      "+---------------------+------------------+---------------+-----------------+----------------+\n",
      "|        TIME         |   SUBMITTED-JOBS |   ACTIVE-JOBS |   FINISHED-JOBS |   ERRORED-JOBS |\n",
      "+=====================+==================+===============+=================+================+\n",
      "| 2021-07-12-17:16:15 |                1 |             1 |               0 |              0 |\n",
      "+---------------------+------------------+---------------+-----------------+----------------+\n",
      "+---------------------+------------------+---------------+-----------------+----------------+\n",
      "|        TIME         |   SUBMITTED-JOBS |   ACTIVE-JOBS |   FINISHED-JOBS |   ERRORED-JOBS |\n",
      "+=====================+==================+===============+=================+================+\n",
      "| 2021-07-12-17:16:26 |                1 |             1 |               0 |              0 |\n",
      "+---------------------+------------------+---------------+-----------------+----------------+\n",
      "+---------------------+------------------+---------------+-----------------+----------------+\n",
      "|        TIME         |   SUBMITTED-JOBS |   ACTIVE-JOBS |   FINISHED-JOBS |   ERRORED-JOBS |\n",
      "+=====================+==================+===============+=================+================+\n",
      "| 2021-07-12-17:16:36 |                1 |             1 |               0 |              0 |\n",
      "+---------------------+------------------+---------------+-----------------+----------------+\n",
      "+---------------------+------------------+---------------+-----------------+----------------+\n",
      "|        TIME         |   SUBMITTED-JOBS |   ACTIVE-JOBS |   FINISHED-JOBS |   ERRORED-JOBS |\n",
      "+=====================+==================+===============+=================+================+\n",
      "| 2021-07-12-17:16:47 |                1 |             1 |               0 |              0 |\n",
      "+---------------------+------------------+---------------+-----------------+----------------+\n",
      "+---------------------+------------------+---------------+-----------------+----------------+\n",
      "|        TIME         |   SUBMITTED-JOBS |   ACTIVE-JOBS |   FINISHED-JOBS |   ERRORED-JOBS |\n",
      "+=====================+==================+===============+=================+================+\n",
      "| 2021-07-12-17:16:57 |                1 |             1 |               0 |              0 |\n",
      "+---------------------+------------------+---------------+-----------------+----------------+\n",
      "+---------------------+------------------+---------------+-----------------+----------------+\n",
      "|        TIME         |   SUBMITTED-JOBS |   ACTIVE-JOBS |   FINISHED-JOBS |   ERRORED-JOBS |\n",
      "+=====================+==================+===============+=================+================+\n",
      "| 2021-07-12-17:17:07 |                1 |             1 |               0 |              0 |\n",
      "+---------------------+------------------+---------------+-----------------+----------------+\n",
      "+---------------------+------------------+---------------+-----------------+----------------+\n",
      "|        TIME         |   SUBMITTED-JOBS |   ACTIVE-JOBS |   FINISHED-JOBS |   ERRORED-JOBS |\n",
      "+=====================+==================+===============+=================+================+\n",
      "| 2021-07-12-17:17:18 |                1 |             1 |               0 |              0 |\n",
      "+---------------------+------------------+---------------+-----------------+----------------+\n",
      "+---------------------+------------------+---------------+-----------------+----------------+\n",
      "|        TIME         |   SUBMITTED-JOBS |   ACTIVE-JOBS |   FINISHED-JOBS |   ERRORED-JOBS |\n",
      "+=====================+==================+===============+=================+================+\n",
      "| 2021-07-12-17:17:28 |                1 |             1 |               0 |              0 |\n",
      "+---------------------+------------------+---------------+-----------------+----------------+\n",
      "+---------------------+------------------+---------------+-----------------+----------------+\n",
      "|        TIME         |   SUBMITTED-JOBS |   ACTIVE-JOBS |   FINISHED-JOBS |   ERRORED-JOBS |\n",
      "+=====================+==================+===============+=================+================+\n",
      "| 2021-07-12-17:17:39 |                1 |             1 |               0 |              0 |\n",
      "+---------------------+------------------+---------------+-----------------+----------------+\n",
      "+---------------------+------------------+---------------+-----------------+----------------+\n",
      "|        TIME         |   SUBMITTED-JOBS |   ACTIVE-JOBS |   FINISHED-JOBS |   ERRORED-JOBS |\n",
      "+=====================+==================+===============+=================+================+\n",
      "| 2021-07-12-17:17:49 |                1 |             1 |               0 |              0 |\n",
      "+---------------------+------------------+---------------+-----------------+----------------+\n",
      "+---------------------+------------------+---------------+-----------------+----------------+\n",
      "|        TIME         |   SUBMITTED-JOBS |   ACTIVE-JOBS |   FINISHED-JOBS |   ERRORED-JOBS |\n",
      "+=====================+==================+===============+=================+================+\n",
      "| 2021-07-12-17:18:00 |                1 |             1 |               0 |              0 |\n",
      "+---------------------+------------------+---------------+-----------------+----------------+\n",
      "+---------------------+------------------+---------------+-----------------+----------------+\n",
      "|        TIME         |   SUBMITTED-JOBS |   ACTIVE-JOBS |   FINISHED-JOBS |   ERRORED-JOBS |\n",
      "+=====================+==================+===============+=================+================+\n",
      "| 2021-07-12-17:18:10 |                1 |             1 |               0 |              0 |\n",
      "+---------------------+------------------+---------------+-----------------+----------------+\n",
      "+---------------------+------------------+---------------+-----------------+----------------+\n",
      "|        TIME         |   SUBMITTED-JOBS |   ACTIVE-JOBS |   FINISHED-JOBS |   ERRORED-JOBS |\n",
      "+=====================+==================+===============+=================+================+\n",
      "| 2021-07-12-17:18:20 |                1 |             1 |               0 |              0 |\n",
      "+---------------------+------------------+---------------+-----------------+----------------+\n",
      "+---------------------+------------------+---------------+-----------------+----------------+\n",
      "|        TIME         |   SUBMITTED-JOBS |   ACTIVE-JOBS |   FINISHED-JOBS |   ERRORED-JOBS |\n",
      "+=====================+==================+===============+=================+================+\n",
      "| 2021-07-12-17:18:31 |                1 |             1 |               0 |              0 |\n",
      "+---------------------+------------------+---------------+-----------------+----------------+\n",
      "+---------------------+------------------+---------------+-----------------+----------------+\n",
      "|        TIME         |   SUBMITTED-JOBS |   ACTIVE-JOBS |   FINISHED-JOBS |   ERRORED-JOBS |\n",
      "+=====================+==================+===============+=================+================+\n",
      "| 2021-07-12-17:18:41 |                1 |             1 |               0 |              0 |\n",
      "+---------------------+------------------+---------------+-----------------+----------------+\n",
      "+---------------------+------------------+---------------+-----------------+----------------+\n",
      "|        TIME         |   SUBMITTED-JOBS |   ACTIVE-JOBS |   FINISHED-JOBS |   ERRORED-JOBS |\n",
      "+=====================+==================+===============+=================+================+\n",
      "| 2021-07-12-17:18:52 |                1 |             1 |               0 |              0 |\n",
      "+---------------------+------------------+---------------+-----------------+----------------+\n",
      "+---------------------+------------------+---------------+-----------------+----------------+\n",
      "|        TIME         |   SUBMITTED-JOBS |   ACTIVE-JOBS |   FINISHED-JOBS |   ERRORED-JOBS |\n",
      "+=====================+==================+===============+=================+================+\n",
      "| 2021-07-12-17:19:02 |                1 |             1 |               0 |              0 |\n",
      "+---------------------+------------------+---------------+-----------------+----------------+\n",
      "+---------------------+------------------+---------------+-----------------+----------------+\n",
      "|        TIME         |   SUBMITTED-JOBS |   ACTIVE-JOBS |   FINISHED-JOBS |   ERRORED-JOBS |\n",
      "+=====================+==================+===============+=================+================+\n",
      "| 2021-07-12-17:19:13 |                1 |             1 |               0 |              0 |\n",
      "+---------------------+------------------+---------------+-----------------+----------------+\n",
      "+---------------------+------------------+---------------+-----------------+----------------+\n",
      "|        TIME         |   SUBMITTED-JOBS |   ACTIVE-JOBS |   FINISHED-JOBS |   ERRORED-JOBS |\n",
      "+=====================+==================+===============+=================+================+\n",
      "| 2021-07-12-17:19:23 |                1 |             1 |               0 |              0 |\n",
      "+---------------------+------------------+---------------+-----------------+----------------+\n",
      "+---------------------+------------------+---------------+-----------------+----------------+\n",
      "|        TIME         |   SUBMITTED-JOBS |   ACTIVE-JOBS |   FINISHED-JOBS |   ERRORED-JOBS |\n",
      "+=====================+==================+===============+=================+================+\n",
      "| 2021-07-12-17:19:34 |                1 |             1 |               0 |              0 |\n",
      "+---------------------+------------------+---------------+-----------------+----------------+\n",
      "+---------------------+------------------+---------------+-----------------+----------------+\n",
      "|        TIME         |   SUBMITTED-JOBS |   ACTIVE-JOBS |   FINISHED-JOBS |   ERRORED-JOBS |\n",
      "+=====================+==================+===============+=================+================+\n",
      "| 2021-07-12-17:19:44 |                1 |             1 |               0 |              0 |\n",
      "+---------------------+------------------+---------------+-----------------+----------------+\n",
      "+---------------------+------------------+---------------+-----------------+----------------+\n",
      "|        TIME         |   SUBMITTED-JOBS |   ACTIVE-JOBS |   FINISHED-JOBS |   ERRORED-JOBS |\n",
      "+=====================+==================+===============+=================+================+\n",
      "| 2021-07-12-17:19:54 |                1 |             1 |               0 |              0 |\n",
      "+---------------------+------------------+---------------+-----------------+----------------+\n",
      "+---------------------+------------------+---------------+-----------------+----------------+\n",
      "|        TIME         |   SUBMITTED-JOBS |   ACTIVE-JOBS |   FINISHED-JOBS |   ERRORED-JOBS |\n",
      "+=====================+==================+===============+=================+================+\n",
      "| 2021-07-12-17:20:05 |                1 |             1 |               0 |              0 |\n",
      "+---------------------+------------------+---------------+-----------------+----------------+\n",
      "+---------------------+------------------+---------------+-----------------+----------------+\n",
      "|        TIME         |   SUBMITTED-JOBS |   ACTIVE-JOBS |   FINISHED-JOBS |   ERRORED-JOBS |\n",
      "+=====================+==================+===============+=================+================+\n",
      "| 2021-07-12-17:20:15 |                1 |             1 |               0 |              0 |\n",
      "+---------------------+------------------+---------------+-----------------+----------------+\n",
      "+---------------------+------------------+---------------+-----------------+----------------+\n",
      "|        TIME         |   SUBMITTED-JOBS |   ACTIVE-JOBS |   FINISHED-JOBS |   ERRORED-JOBS |\n",
      "+=====================+==================+===============+=================+================+\n",
      "| 2021-07-12-17:20:26 |                1 |             1 |               0 |              0 |\n",
      "+---------------------+------------------+---------------+-----------------+----------------+\n",
      "+---------------------+------------------+---------------+-----------------+----------------+\n",
      "|        TIME         |   SUBMITTED-JOBS |   ACTIVE-JOBS |   FINISHED-JOBS |   ERRORED-JOBS |\n",
      "+=====================+==================+===============+=================+================+\n",
      "| 2021-07-12-17:20:36 |                1 |             1 |               0 |              0 |\n",
      "+---------------------+------------------+---------------+-----------------+----------------+\n",
      "+---------------------+------------------+---------------+-----------------+----------------+\n",
      "|        TIME         |   SUBMITTED-JOBS |   ACTIVE-JOBS |   FINISHED-JOBS |   ERRORED-JOBS |\n",
      "+=====================+==================+===============+=================+================+\n",
      "| 2021-07-12-17:20:46 |                1 |             1 |               0 |              0 |\n",
      "+---------------------+------------------+---------------+-----------------+----------------+\n",
      "+---------------------+------------------+---------------+-----------------+----------------+\n",
      "|        TIME         |   SUBMITTED-JOBS |   ACTIVE-JOBS |   FINISHED-JOBS |   ERRORED-JOBS |\n",
      "+=====================+==================+===============+=================+================+\n",
      "| 2021-07-12-17:20:57 |                1 |             0 |               1 |              0 |\n",
      "+---------------------+------------------+---------------+-----------------+----------------+\n",
      "+---------------------+------------------+---------------+-----------------+----------------+\n",
      "|        TIME         |   SUBMITTED-JOBS |   ACTIVE-JOBS |   FINISHED-JOBS |   ERRORED-JOBS |\n",
      "+=====================+==================+===============+=================+================+\n",
      "| 2021-07-12-17:21:07 |                0 |             1 |               1 |              0 |\n",
      "+---------------------+------------------+---------------+-----------------+----------------+\n",
      "+---------------------+------------------+---------------+-----------------+----------------+\n",
      "|        TIME         |   SUBMITTED-JOBS |   ACTIVE-JOBS |   FINISHED-JOBS |   ERRORED-JOBS |\n",
      "+=====================+==================+===============+=================+================+\n",
      "| 2021-07-12-17:21:18 |                0 |             1 |               1 |              0 |\n",
      "+---------------------+------------------+---------------+-----------------+----------------+\n",
      "+---------------------+------------------+---------------+-----------------+----------------+\n",
      "|        TIME         |   SUBMITTED-JOBS |   ACTIVE-JOBS |   FINISHED-JOBS |   ERRORED-JOBS |\n",
      "+=====================+==================+===============+=================+================+\n",
      "| 2021-07-12-17:21:28 |                0 |             1 |               1 |              0 |\n",
      "+---------------------+------------------+---------------+-----------------+----------------+\n",
      "+---------------------+------------------+---------------+-----------------+----------------+\n",
      "|        TIME         |   SUBMITTED-JOBS |   ACTIVE-JOBS |   FINISHED-JOBS |   ERRORED-JOBS |\n",
      "+=====================+==================+===============+=================+================+\n",
      "| 2021-07-12-17:21:39 |                0 |             1 |               1 |              0 |\n",
      "+---------------------+------------------+---------------+-----------------+----------------+\n",
      "+---------------------+------------------+---------------+-----------------+----------------+\n",
      "|        TIME         |   SUBMITTED-JOBS |   ACTIVE-JOBS |   FINISHED-JOBS |   ERRORED-JOBS |\n",
      "+=====================+==================+===============+=================+================+\n",
      "| 2021-07-12-17:21:49 |                0 |             1 |               1 |              0 |\n",
      "+---------------------+------------------+---------------+-----------------+----------------+\n",
      "+---------------------+------------------+---------------+-----------------+----------------+\n",
      "|        TIME         |   SUBMITTED-JOBS |   ACTIVE-JOBS |   FINISHED-JOBS |   ERRORED-JOBS |\n",
      "+=====================+==================+===============+=================+================+\n",
      "| 2021-07-12-17:21:59 |                0 |             1 |               1 |              0 |\n",
      "+---------------------+------------------+---------------+-----------------+----------------+\n",
      "+---------------------+------------------+---------------+-----------------+----------------+\n",
      "|        TIME         |   SUBMITTED-JOBS |   ACTIVE-JOBS |   FINISHED-JOBS |   ERRORED-JOBS |\n",
      "+=====================+==================+===============+=================+================+\n",
      "| 2021-07-12-17:22:10 |                0 |             1 |               1 |              0 |\n",
      "+---------------------+------------------+---------------+-----------------+----------------+\n",
      "+---------------------+------------------+---------------+-----------------+----------------+\n",
      "|        TIME         |   SUBMITTED-JOBS |   ACTIVE-JOBS |   FINISHED-JOBS |   ERRORED-JOBS |\n",
      "+=====================+==================+===============+=================+================+\n",
      "| 2021-07-12-17:22:20 |                0 |             1 |               1 |              0 |\n",
      "+---------------------+------------------+---------------+-----------------+----------------+\n",
      "+---------------------+------------------+---------------+-----------------+----------------+\n",
      "|        TIME         |   SUBMITTED-JOBS |   ACTIVE-JOBS |   FINISHED-JOBS |   ERRORED-JOBS |\n",
      "+=====================+==================+===============+=================+================+\n",
      "| 2021-07-12-17:22:31 |                0 |             1 |               1 |              0 |\n",
      "+---------------------+------------------+---------------+-----------------+----------------+\n",
      "+---------------------+------------------+---------------+-----------------+----------------+\n",
      "|        TIME         |   SUBMITTED-JOBS |   ACTIVE-JOBS |   FINISHED-JOBS |   ERRORED-JOBS |\n",
      "+=====================+==================+===============+=================+================+\n",
      "| 2021-07-12-17:22:41 |                0 |             1 |               1 |              0 |\n",
      "+---------------------+------------------+---------------+-----------------+----------------+\n",
      "+---------------------+------------------+---------------+-----------------+----------------+\n",
      "|        TIME         |   SUBMITTED-JOBS |   ACTIVE-JOBS |   FINISHED-JOBS |   ERRORED-JOBS |\n",
      "+=====================+==================+===============+=================+================+\n",
      "| 2021-07-12-17:22:51 |                0 |             1 |               1 |              0 |\n",
      "+---------------------+------------------+---------------+-----------------+----------------+\n",
      "+---------------------+------------------+---------------+-----------------+----------------+\n",
      "|        TIME         |   SUBMITTED-JOBS |   ACTIVE-JOBS |   FINISHED-JOBS |   ERRORED-JOBS |\n",
      "+=====================+==================+===============+=================+================+\n",
      "| 2021-07-12-17:23:02 |                0 |             1 |               1 |              0 |\n",
      "+---------------------+------------------+---------------+-----------------+----------------+\n",
      "+---------------------+------------------+---------------+-----------------+----------------+\n",
      "|        TIME         |   SUBMITTED-JOBS |   ACTIVE-JOBS |   FINISHED-JOBS |   ERRORED-JOBS |\n",
      "+=====================+==================+===============+=================+================+\n",
      "| 2021-07-12-17:23:12 |                0 |             1 |               1 |              0 |\n",
      "+---------------------+------------------+---------------+-----------------+----------------+\n",
      "+---------------------+------------------+---------------+-----------------+----------------+\n",
      "|        TIME         |   SUBMITTED-JOBS |   ACTIVE-JOBS |   FINISHED-JOBS |   ERRORED-JOBS |\n",
      "+=====================+==================+===============+=================+================+\n",
      "| 2021-07-12-17:23:23 |                0 |             1 |               1 |              0 |\n",
      "+---------------------+------------------+---------------+-----------------+----------------+\n",
      "+---------------------+------------------+---------------+-----------------+----------------+\n",
      "|        TIME         |   SUBMITTED-JOBS |   ACTIVE-JOBS |   FINISHED-JOBS |   ERRORED-JOBS |\n",
      "+=====================+==================+===============+=================+================+\n",
      "| 2021-07-12-17:23:33 |                0 |             1 |               1 |              0 |\n",
      "+---------------------+------------------+---------------+-----------------+----------------+\n",
      "+---------------------+------------------+---------------+-----------------+----------------+\n",
      "|        TIME         |   SUBMITTED-JOBS |   ACTIVE-JOBS |   FINISHED-JOBS |   ERRORED-JOBS |\n",
      "+=====================+==================+===============+=================+================+\n",
      "| 2021-07-12-17:23:44 |                0 |             1 |               1 |              0 |\n",
      "+---------------------+------------------+---------------+-----------------+----------------+\n",
      "+---------------------+------------------+---------------+-----------------+----------------+\n",
      "|        TIME         |   SUBMITTED-JOBS |   ACTIVE-JOBS |   FINISHED-JOBS |   ERRORED-JOBS |\n",
      "+=====================+==================+===============+=================+================+\n",
      "| 2021-07-12-17:23:54 |                0 |             1 |               1 |              0 |\n",
      "+---------------------+------------------+---------------+-----------------+----------------+\n",
      "+---------------------+------------------+---------------+-----------------+----------------+\n",
      "|        TIME         |   SUBMITTED-JOBS |   ACTIVE-JOBS |   FINISHED-JOBS |   ERRORED-JOBS |\n",
      "+=====================+==================+===============+=================+================+\n",
      "| 2021-07-12-17:24:04 |                0 |             1 |               1 |              0 |\n",
      "+---------------------+------------------+---------------+-----------------+----------------+\n",
      "+---------------------+------------------+---------------+-----------------+----------------+\n",
      "|        TIME         |   SUBMITTED-JOBS |   ACTIVE-JOBS |   FINISHED-JOBS |   ERRORED-JOBS |\n",
      "+=====================+==================+===============+=================+================+\n",
      "| 2021-07-12-17:24:15 |                0 |             1 |               1 |              0 |\n",
      "+---------------------+------------------+---------------+-----------------+----------------+\n",
      "+---------------------+------------------+---------------+-----------------+----------------+\n",
      "|        TIME         |   SUBMITTED-JOBS |   ACTIVE-JOBS |   FINISHED-JOBS |   ERRORED-JOBS |\n",
      "+=====================+==================+===============+=================+================+\n",
      "| 2021-07-12-17:24:25 |                0 |             1 |               1 |              0 |\n",
      "+---------------------+------------------+---------------+-----------------+----------------+\n",
      "+---------------------+------------------+---------------+-----------------+----------------+\n",
      "|        TIME         |   SUBMITTED-JOBS |   ACTIVE-JOBS |   FINISHED-JOBS |   ERRORED-JOBS |\n",
      "+=====================+==================+===============+=================+================+\n",
      "| 2021-07-12-17:24:36 |                0 |             1 |               1 |              0 |\n",
      "+---------------------+------------------+---------------+-----------------+----------------+\n",
      "+---------------------+------------------+---------------+-----------------+----------------+\n",
      "|        TIME         |   SUBMITTED-JOBS |   ACTIVE-JOBS |   FINISHED-JOBS |   ERRORED-JOBS |\n",
      "+=====================+==================+===============+=================+================+\n",
      "| 2021-07-12-17:24:46 |                0 |             1 |               1 |              0 |\n",
      "+---------------------+------------------+---------------+-----------------+----------------+\n",
      "+---------------------+------------------+---------------+-----------------+----------------+\n",
      "|        TIME         |   SUBMITTED-JOBS |   ACTIVE-JOBS |   FINISHED-JOBS |   ERRORED-JOBS |\n",
      "+=====================+==================+===============+=================+================+\n",
      "| 2021-07-12-17:24:56 |                0 |             1 |               1 |              0 |\n",
      "+---------------------+------------------+---------------+-----------------+----------------+\n",
      "+---------------------+------------------+---------------+-----------------+----------------+\n",
      "|        TIME         |   SUBMITTED-JOBS |   ACTIVE-JOBS |   FINISHED-JOBS |   ERRORED-JOBS |\n",
      "+=====================+==================+===============+=================+================+\n",
      "| 2021-07-12-17:25:07 |                0 |             1 |               1 |              0 |\n",
      "+---------------------+------------------+---------------+-----------------+----------------+\n",
      "+---------------------+------------------+---------------+-----------------+----------------+\n",
      "|        TIME         |   SUBMITTED-JOBS |   ACTIVE-JOBS |   FINISHED-JOBS |   ERRORED-JOBS |\n",
      "+=====================+==================+===============+=================+================+\n",
      "| 2021-07-12-17:25:17 |                0 |             1 |               1 |              0 |\n",
      "+---------------------+------------------+---------------+-----------------+----------------+\n",
      "+---------------------+------------------+---------------+-----------------+----------------+\n",
      "|        TIME         |   SUBMITTED-JOBS |   ACTIVE-JOBS |   FINISHED-JOBS |   ERRORED-JOBS |\n",
      "+=====================+==================+===============+=================+================+\n",
      "| 2021-07-12-17:25:28 |                0 |             1 |               1 |              0 |\n",
      "+---------------------+------------------+---------------+-----------------+----------------+\n",
      "+---------------------+------------------+---------------+-----------------+----------------+\n",
      "|        TIME         |   SUBMITTED-JOBS |   ACTIVE-JOBS |   FINISHED-JOBS |   ERRORED-JOBS |\n",
      "+=====================+==================+===============+=================+================+\n",
      "| 2021-07-12-17:25:38 |                0 |             1 |               1 |              0 |\n",
      "+---------------------+------------------+---------------+-----------------+----------------+\n",
      "+---------------------+------------------+---------------+-----------------+----------------+\n",
      "|        TIME         |   SUBMITTED-JOBS |   ACTIVE-JOBS |   FINISHED-JOBS |   ERRORED-JOBS |\n",
      "+=====================+==================+===============+=================+================+\n",
      "| 2021-07-12-17:25:49 |                0 |             1 |               1 |              0 |\n",
      "+---------------------+------------------+---------------+-----------------+----------------+\n",
      "+---------------------+------------------+---------------+-----------------+----------------+\n",
      "|        TIME         |   SUBMITTED-JOBS |   ACTIVE-JOBS |   FINISHED-JOBS |   ERRORED-JOBS |\n",
      "+=====================+==================+===============+=================+================+\n",
      "| 2021-07-12-17:25:59 |                0 |             1 |               1 |              0 |\n",
      "+---------------------+------------------+---------------+-----------------+----------------+\n",
      "+---------------------+------------------+---------------+-----------------+----------------+\n",
      "|        TIME         |   SUBMITTED-JOBS |   ACTIVE-JOBS |   FINISHED-JOBS |   ERRORED-JOBS |\n",
      "+=====================+==================+===============+=================+================+\n",
      "| 2021-07-12-17:26:09 |                0 |             1 |               1 |              0 |\n",
      "+---------------------+------------------+---------------+-----------------+----------------+\n",
      "+---------------------+------------------+---------------+-----------------+----------------+\n",
      "|        TIME         |   SUBMITTED-JOBS |   ACTIVE-JOBS |   FINISHED-JOBS |   ERRORED-JOBS |\n",
      "+=====================+==================+===============+=================+================+\n",
      "| 2021-07-12-17:26:20 |                0 |             1 |               1 |              0 |\n",
      "+---------------------+------------------+---------------+-----------------+----------------+\n",
      "+---------------------+------------------+---------------+-----------------+----------------+\n",
      "|        TIME         |   SUBMITTED-JOBS |   ACTIVE-JOBS |   FINISHED-JOBS |   ERRORED-JOBS |\n",
      "+=====================+==================+===============+=================+================+\n",
      "| 2021-07-12-17:26:30 |                0 |             1 |               1 |              0 |\n",
      "+---------------------+------------------+---------------+-----------------+----------------+\n",
      "+---------------------+------------------+---------------+-----------------+----------------+\n",
      "|        TIME         |   SUBMITTED-JOBS |   ACTIVE-JOBS |   FINISHED-JOBS |   ERRORED-JOBS |\n",
      "+=====================+==================+===============+=================+================+\n",
      "| 2021-07-12-17:26:41 |                0 |             1 |               1 |              0 |\n",
      "+---------------------+------------------+---------------+-----------------+----------------+\n",
      "+---------------------+------------------+---------------+-----------------+----------------+\n",
      "|        TIME         |   SUBMITTED-JOBS |   ACTIVE-JOBS |   FINISHED-JOBS |   ERRORED-JOBS |\n",
      "+=====================+==================+===============+=================+================+\n",
      "| 2021-07-12-17:26:51 |                0 |             1 |               1 |              0 |\n",
      "+---------------------+------------------+---------------+-----------------+----------------+\n",
      "+---------------------+------------------+---------------+-----------------+----------------+\n",
      "|        TIME         |   SUBMITTED-JOBS |   ACTIVE-JOBS |   FINISHED-JOBS |   ERRORED-JOBS |\n",
      "+=====================+==================+===============+=================+================+\n",
      "| 2021-07-12-17:27:02 |                0 |             1 |               1 |              0 |\n",
      "+---------------------+------------------+---------------+-----------------+----------------+\n",
      "+---------------------+------------------+---------------+-----------------+----------------+\n",
      "|        TIME         |   SUBMITTED-JOBS |   ACTIVE-JOBS |   FINISHED-JOBS |   ERRORED-JOBS |\n",
      "+=====================+==================+===============+=================+================+\n",
      "| 2021-07-12-17:27:12 |                0 |             1 |               1 |              0 |\n",
      "+---------------------+------------------+---------------+-----------------+----------------+\n",
      "+---------------------+------------------+---------------+-----------------+----------------+\n",
      "|        TIME         |   SUBMITTED-JOBS |   ACTIVE-JOBS |   FINISHED-JOBS |   ERRORED-JOBS |\n",
      "+=====================+==================+===============+=================+================+\n",
      "| 2021-07-12-17:27:22 |                0 |             1 |               1 |              0 |\n",
      "+---------------------+------------------+---------------+-----------------+----------------+\n",
      "+---------------------+------------------+---------------+-----------------+----------------+\n",
      "|        TIME         |   SUBMITTED-JOBS |   ACTIVE-JOBS |   FINISHED-JOBS |   ERRORED-JOBS |\n",
      "+=====================+==================+===============+=================+================+\n",
      "| 2021-07-12-17:27:33 |                0 |             1 |               1 |              0 |\n",
      "+---------------------+------------------+---------------+-----------------+----------------+\n",
      "+---------------------+------------------+---------------+-----------------+----------------+\n",
      "|        TIME         |   SUBMITTED-JOBS |   ACTIVE-JOBS |   FINISHED-JOBS |   ERRORED-JOBS |\n",
      "+=====================+==================+===============+=================+================+\n",
      "| 2021-07-12-17:27:43 |                0 |             1 |               1 |              0 |\n",
      "+---------------------+------------------+---------------+-----------------+----------------+\n",
      "+---------------------+------------------+---------------+-----------------+----------------+\n",
      "|        TIME         |   SUBMITTED-JOBS |   ACTIVE-JOBS |   FINISHED-JOBS |   ERRORED-JOBS |\n",
      "+=====================+==================+===============+=================+================+\n",
      "| 2021-07-12-17:27:54 |                0 |             1 |               1 |              0 |\n",
      "+---------------------+------------------+---------------+-----------------+----------------+\n",
      "+---------------------+------------------+---------------+-----------------+----------------+\n",
      "|        TIME         |   SUBMITTED-JOBS |   ACTIVE-JOBS |   FINISHED-JOBS |   ERRORED-JOBS |\n",
      "+=====================+==================+===============+=================+================+\n",
      "| 2021-07-12-17:28:04 |                0 |             1 |               1 |              0 |\n",
      "+---------------------+------------------+---------------+-----------------+----------------+\n",
      "+---------------------+------------------+---------------+-----------------+----------------+\n",
      "|        TIME         |   SUBMITTED-JOBS |   ACTIVE-JOBS |   FINISHED-JOBS |   ERRORED-JOBS |\n",
      "+=====================+==================+===============+=================+================+\n",
      "| 2021-07-12-17:28:15 |                0 |             1 |               1 |              0 |\n",
      "+---------------------+------------------+---------------+-----------------+----------------+\n",
      "+---------------------+------------------+---------------+-----------------+----------------+\n",
      "|        TIME         |   SUBMITTED-JOBS |   ACTIVE-JOBS |   FINISHED-JOBS |   ERRORED-JOBS |\n",
      "+=====================+==================+===============+=================+================+\n",
      "| 2021-07-12-17:28:25 |                0 |             1 |               1 |              0 |\n",
      "+---------------------+------------------+---------------+-----------------+----------------+\n",
      "+---------------------+------------------+---------------+-----------------+----------------+\n",
      "|        TIME         |   SUBMITTED-JOBS |   ACTIVE-JOBS |   FINISHED-JOBS |   ERRORED-JOBS |\n",
      "+=====================+==================+===============+=================+================+\n",
      "| 2021-07-12-17:28:35 |                0 |             1 |               1 |              0 |\n",
      "+---------------------+------------------+---------------+-----------------+----------------+\n",
      "+---------------------+------------------+---------------+-----------------+----------------+\n",
      "|        TIME         |   SUBMITTED-JOBS |   ACTIVE-JOBS |   FINISHED-JOBS |   ERRORED-JOBS |\n",
      "+=====================+==================+===============+=================+================+\n",
      "| 2021-07-12-17:28:46 |                0 |             1 |               1 |              0 |\n",
      "+---------------------+------------------+---------------+-----------------+----------------+\n",
      "+---------------------+------------------+---------------+-----------------+----------------+\n",
      "|        TIME         |   SUBMITTED-JOBS |   ACTIVE-JOBS |   FINISHED-JOBS |   ERRORED-JOBS |\n",
      "+=====================+==================+===============+=================+================+\n",
      "| 2021-07-12-17:28:56 |                0 |             1 |               1 |              0 |\n",
      "+---------------------+------------------+---------------+-----------------+----------------+\n",
      "+---------------------+------------------+---------------+-----------------+----------------+\n",
      "|        TIME         |   SUBMITTED-JOBS |   ACTIVE-JOBS |   FINISHED-JOBS |   ERRORED-JOBS |\n",
      "+=====================+==================+===============+=================+================+\n",
      "| 2021-07-12-17:29:07 |                0 |             1 |               1 |              0 |\n",
      "+---------------------+------------------+---------------+-----------------+----------------+\n",
      "+---------------------+------------------+---------------+-----------------+----------------+\n",
      "|        TIME         |   SUBMITTED-JOBS |   ACTIVE-JOBS |   FINISHED-JOBS |   ERRORED-JOBS |\n",
      "+=====================+==================+===============+=================+================+\n",
      "| 2021-07-12-17:29:17 |                0 |             1 |               1 |              0 |\n",
      "+---------------------+------------------+---------------+-----------------+----------------+\n",
      "+---------------------+------------------+---------------+-----------------+----------------+\n",
      "|        TIME         |   SUBMITTED-JOBS |   ACTIVE-JOBS |   FINISHED-JOBS |   ERRORED-JOBS |\n",
      "+=====================+==================+===============+=================+================+\n",
      "| 2021-07-12-17:29:27 |                0 |             1 |               1 |              0 |\n",
      "+---------------------+------------------+---------------+-----------------+----------------+\n",
      "+---------------------+------------------+---------------+-----------------+----------------+\n",
      "|        TIME         |   SUBMITTED-JOBS |   ACTIVE-JOBS |   FINISHED-JOBS |   ERRORED-JOBS |\n",
      "+=====================+==================+===============+=================+================+\n",
      "| 2021-07-12-17:29:38 |                0 |             1 |               1 |              0 |\n",
      "+---------------------+------------------+---------------+-----------------+----------------+\n",
      "+---------------------+------------------+---------------+-----------------+----------------+\n",
      "|        TIME         |   SUBMITTED-JOBS |   ACTIVE-JOBS |   FINISHED-JOBS |   ERRORED-JOBS |\n",
      "+=====================+==================+===============+=================+================+\n",
      "| 2021-07-12-17:29:48 |                0 |             1 |               1 |              0 |\n",
      "+---------------------+------------------+---------------+-----------------+----------------+\n",
      "+---------------------+------------------+---------------+-----------------+----------------+\n",
      "|        TIME         |   SUBMITTED-JOBS |   ACTIVE-JOBS |   FINISHED-JOBS |   ERRORED-JOBS |\n",
      "+=====================+==================+===============+=================+================+\n",
      "| 2021-07-12-17:29:59 |                0 |             1 |               1 |              0 |\n",
      "+---------------------+------------------+---------------+-----------------+----------------+\n",
      "+---------------------+------------------+---------------+-----------------+----------------+\n",
      "|        TIME         |   SUBMITTED-JOBS |   ACTIVE-JOBS |   FINISHED-JOBS |   ERRORED-JOBS |\n",
      "+=====================+==================+===============+=================+================+\n",
      "| 2021-07-12-17:30:09 |                0 |             1 |               1 |              0 |\n",
      "+---------------------+------------------+---------------+-----------------+----------------+\n",
      "+---------------------+------------------+---------------+-----------------+----------------+\n",
      "|        TIME         |   SUBMITTED-JOBS |   ACTIVE-JOBS |   FINISHED-JOBS |   ERRORED-JOBS |\n",
      "+=====================+==================+===============+=================+================+\n",
      "| 2021-07-12-17:30:19 |                0 |             1 |               1 |              0 |\n",
      "+---------------------+------------------+---------------+-----------------+----------------+\n",
      "+---------------------+------------------+---------------+-----------------+----------------+\n",
      "|        TIME         |   SUBMITTED-JOBS |   ACTIVE-JOBS |   FINISHED-JOBS |   ERRORED-JOBS |\n",
      "+=====================+==================+===============+=================+================+\n",
      "| 2021-07-12-17:30:30 |                0 |             1 |               1 |              0 |\n",
      "+---------------------+------------------+---------------+-----------------+----------------+\n",
      "+---------------------+------------------+---------------+-----------------+----------------+\n",
      "|        TIME         |   SUBMITTED-JOBS |   ACTIVE-JOBS |   FINISHED-JOBS |   ERRORED-JOBS |\n",
      "+=====================+==================+===============+=================+================+\n",
      "| 2021-07-12-17:30:40 |                0 |             1 |               1 |              0 |\n",
      "+---------------------+------------------+---------------+-----------------+----------------+\n",
      "+---------------------+------------------+---------------+-----------------+----------------+\n",
      "|        TIME         |   SUBMITTED-JOBS |   ACTIVE-JOBS |   FINISHED-JOBS |   ERRORED-JOBS |\n",
      "+=====================+==================+===============+=================+================+\n",
      "| 2021-07-12-17:30:51 |                0 |             1 |               1 |              0 |\n",
      "+---------------------+------------------+---------------+-----------------+----------------+\n",
      "+---------------------+------------------+---------------+-----------------+----------------+\n",
      "|        TIME         |   SUBMITTED-JOBS |   ACTIVE-JOBS |   FINISHED-JOBS |   ERRORED-JOBS |\n",
      "+=====================+==================+===============+=================+================+\n",
      "| 2021-07-12-17:31:01 |                0 |             1 |               1 |              0 |\n",
      "+---------------------+------------------+---------------+-----------------+----------------+\n",
      "+---------------------+------------------+---------------+-----------------+----------------+\n",
      "|        TIME         |   SUBMITTED-JOBS |   ACTIVE-JOBS |   FINISHED-JOBS |   ERRORED-JOBS |\n",
      "+=====================+==================+===============+=================+================+\n",
      "| 2021-07-12-17:31:12 |                0 |             1 |               1 |              0 |\n",
      "+---------------------+------------------+---------------+-----------------+----------------+\n",
      "+---------------------+------------------+---------------+-----------------+----------------+\n",
      "|        TIME         |   SUBMITTED-JOBS |   ACTIVE-JOBS |   FINISHED-JOBS |   ERRORED-JOBS |\n",
      "+=====================+==================+===============+=================+================+\n",
      "| 2021-07-12-17:31:22 |                0 |             1 |               1 |              0 |\n",
      "+---------------------+------------------+---------------+-----------------+----------------+\n",
      "+---------------------+------------------+---------------+-----------------+----------------+\n",
      "|        TIME         |   SUBMITTED-JOBS |   ACTIVE-JOBS |   FINISHED-JOBS |   ERRORED-JOBS |\n",
      "+=====================+==================+===============+=================+================+\n",
      "| 2021-07-12-17:31:32 |                0 |             1 |               1 |              0 |\n",
      "+---------------------+------------------+---------------+-----------------+----------------+\n",
      "+---------------------+------------------+---------------+-----------------+----------------+\n",
      "|        TIME         |   SUBMITTED-JOBS |   ACTIVE-JOBS |   FINISHED-JOBS |   ERRORED-JOBS |\n",
      "+=====================+==================+===============+=================+================+\n",
      "| 2021-07-12-17:31:43 |                0 |             1 |               1 |              0 |\n",
      "+---------------------+------------------+---------------+-----------------+----------------+\n",
      "+---------------------+------------------+---------------+-----------------+----------------+\n",
      "|        TIME         |   SUBMITTED-JOBS |   ACTIVE-JOBS |   FINISHED-JOBS |   ERRORED-JOBS |\n",
      "+=====================+==================+===============+=================+================+\n",
      "| 2021-07-12-17:31:53 |                0 |             1 |               1 |              0 |\n",
      "+---------------------+------------------+---------------+-----------------+----------------+\n",
      "+---------------------+------------------+---------------+-----------------+----------------+\n",
      "|        TIME         |   SUBMITTED-JOBS |   ACTIVE-JOBS |   FINISHED-JOBS |   ERRORED-JOBS |\n",
      "+=====================+==================+===============+=================+================+\n",
      "| 2021-07-12-17:32:04 |                0 |             1 |               1 |              0 |\n",
      "+---------------------+------------------+---------------+-----------------+----------------+\n",
      "+---------------------+------------------+---------------+-----------------+----------------+\n",
      "|        TIME         |   SUBMITTED-JOBS |   ACTIVE-JOBS |   FINISHED-JOBS |   ERRORED-JOBS |\n",
      "+=====================+==================+===============+=================+================+\n",
      "| 2021-07-12-17:32:14 |                0 |             1 |               1 |              0 |\n",
      "+---------------------+------------------+---------------+-----------------+----------------+\n",
      "+---------------------+------------------+---------------+-----------------+----------------+\n",
      "|        TIME         |   SUBMITTED-JOBS |   ACTIVE-JOBS |   FINISHED-JOBS |   ERRORED-JOBS |\n",
      "+=====================+==================+===============+=================+================+\n",
      "| 2021-07-12-17:32:25 |                0 |             1 |               1 |              0 |\n",
      "+---------------------+------------------+---------------+-----------------+----------------+\n",
      "+---------------------+------------------+---------------+-----------------+----------------+\n",
      "|        TIME         |   SUBMITTED-JOBS |   ACTIVE-JOBS |   FINISHED-JOBS |   ERRORED-JOBS |\n",
      "+=====================+==================+===============+=================+================+\n",
      "| 2021-07-12-17:32:35 |                0 |             1 |               1 |              0 |\n",
      "+---------------------+------------------+---------------+-----------------+----------------+\n",
      "+---------------------+------------------+---------------+-----------------+----------------+\n",
      "|        TIME         |   SUBMITTED-JOBS |   ACTIVE-JOBS |   FINISHED-JOBS |   ERRORED-JOBS |\n",
      "+=====================+==================+===============+=================+================+\n",
      "| 2021-07-12-17:32:45 |                0 |             1 |               1 |              0 |\n",
      "+---------------------+------------------+---------------+-----------------+----------------+\n",
      "+---------------------+------------------+---------------+-----------------+----------------+\n",
      "|        TIME         |   SUBMITTED-JOBS |   ACTIVE-JOBS |   FINISHED-JOBS |   ERRORED-JOBS |\n",
      "+=====================+==================+===============+=================+================+\n",
      "| 2021-07-12-17:32:56 |                0 |             0 |               2 |              0 |\n",
      "+---------------------+------------------+---------------+-----------------+----------------+\n"
     ]
    }
   ],
   "source": [
    "job_ids = [job[\"_id\"] for job in jobs]\n",
    "wait_for_jobs_to_finish(job_endpoints, job_ids)"
   ]
  },
  {
   "cell_type": "markdown",
   "metadata": {
    "id": "EVs2s18ZGuQW"
   },
   "source": [
    "### Extract results\n",
    "\n",
    "For each material, simulaion job, final structure, pressure and band gaps are extracted.\n",
    "\n",
    "- Final structure and pressure are extracted from the first unit (vasp_relax with index 0) of the first job's subworkflow (volume-relaxation with index 0)\n",
    "\n",
    "- Band gaps are extracted from the second unit (vasp-bands with index 1) of the second job's subworkflow (SCF-BS-BG-DOS with index 1)."
   ]
  },
  {
   "cell_type": "code",
   "execution_count": 17,
   "metadata": {
    "id": "d3f4eoHBGuQW"
   },
   "outputs": [],
   "source": [
    "results = []\n",
    "for material in materials:\n",
    "    job = next((job for job in jobs if job[\"_material\"][\"_id\"] == material[\"_id\"]))\n",
    "    final_structure = get_property_by_subworkow_and_unit_indicies(raw_property_endpoints, \"final_structure\", job, 0, 0)[\"data\"]\n",
    "    pressure = get_property_by_subworkow_and_unit_indicies(raw_property_endpoints, \"pressure\", job, 0, 0)[\"data\"][\"value\"]\n",
    "    unit_flowchart_id = job[\"workflow\"][\"subworkflows\"][1][\"units\"][1][\"flowchartId\"]\n",
    "    band_gap_direct = raw_property_endpoints.get_direct_band_gap(job[\"_id\"], unit_flowchart_id)\n",
    "    band_gap_indirect = raw_property_endpoints.get_indirect_band_gap(job[\"_id\"], unit_flowchart_id)\n",
    "    results.append({\n",
    "        \"initial_structure\": material,\n",
    "        \"final_structure\": final_structure,\n",
    "        \"pressure\": pressure,\n",
    "        \"band_gap_direct\": band_gap_direct,\n",
    "        \"band_gap_indirect\": band_gap_indirect,\n",
    "    })"
   ]
  },
  {
   "cell_type": "markdown",
   "metadata": {
    "id": "LHstXQ31GuQW"
   },
   "source": [
    "### Flatten results\n",
    "\n",
    "The below for-loop iterates over the results and flatten them to form the final Pandas dataFrame."
   ]
  },
  {
   "cell_type": "code",
   "execution_count": 18,
   "metadata": {
    "id": "1k1GV4T4GuQX"
   },
   "outputs": [],
   "source": [
    "table = []\n",
    "for result in results:\n",
    "    data = flatten_material(result[\"initial_structure\"])\n",
    "    data.extend(flatten_material(result[\"initial_structure\"]))\n",
    "    data.extend([result[\"pressure\"], result[\"band_gap_direct\"], result[\"band_gap_indirect\"]])\n",
    "    table.append(data)"
   ]
  },
  {
   "cell_type": "markdown",
   "metadata": {
    "id": "uMo__G6uGuQX"
   },
   "source": [
    "### Output results\n",
    "\n",
    "Form the Pandas dataFrame headers according to the table generated above with the following abbreviations:\n",
    "\n",
    "- **\"INI\"**: INITIAL\n",
    "- **\"FIN\"**: FINAL\n",
    "- **\"N-SITES\"**: Number of Sites\n",
    "- **\"LAT\"**: LATTICE"
   ]
  },
  {
   "cell_type": "code",
   "execution_count": 19,
   "metadata": {
    "id": "NWYQp88JGuQX"
   },
   "outputs": [],
   "source": [
    "headers = []\n",
    "keys = [\"ID\", \"NAME\", \"TAGS\", \"NS\", \"LAT-A\", \"LAT-B\", \"LAT-C\", \"LAT-ALPHA\", \"LAT-BETA\", \"LAT-GAMMA\"]\n",
    "headers.extend([\"-\".join((\"INI\", key)) for key in keys])\n",
    "headers.extend([\"-\".join((\"FIN\", key)) for key in keys])\n",
    "headers.extend([\"PRESSURE\", \"DIRECT-GAP\", \"INDIRECT-GAP\"])"
   ]
  },
  {
   "cell_type": "markdown",
   "metadata": {
    "id": "7X7ktN5bGuQX"
   },
   "source": [
    "Create and print the final table as Pandas dataFrame."
   ]
  },
  {
   "cell_type": "code",
   "execution_count": 20,
   "metadata": {
    "colab": {
     "base_uri": "https://localhost:8080/",
     "height": 287
    },
    "id": "RUnmEZOKGuQX",
    "outputId": "3ab8a262-070e-407f-ced5-f1baf68fc2cf"
   },
   "outputs": [
    {
     "data": {
      "text/html": [
       "<style  type=\"text/css\" >\n",
       "    #T_33afb672_e337_11eb_9df6_0242ac1c0002 th {\n",
       "          text-align: center;\n",
       "    }    #T_33afb672_e337_11eb_9df6_0242ac1c0002 td {\n",
       "          text-align: center;\n",
       "    }</style><table id=\"T_33afb672_e337_11eb_9df6_0242ac1c0002\" ><thead>    <tr>        <th class=\"blank level0\" ></th>        <th class=\"col_heading level0 col0\" >INI-ID</th>        <th class=\"col_heading level0 col1\" >INI-NAME</th>        <th class=\"col_heading level0 col2\" >INI-TAGS</th>        <th class=\"col_heading level0 col3\" >INI-NS</th>        <th class=\"col_heading level0 col4\" >INI-LAT-A</th>        <th class=\"col_heading level0 col5\" >INI-LAT-B</th>        <th class=\"col_heading level0 col6\" >INI-LAT-C</th>        <th class=\"col_heading level0 col7\" >INI-LAT-ALPHA</th>        <th class=\"col_heading level0 col8\" >INI-LAT-BETA</th>        <th class=\"col_heading level0 col9\" >INI-LAT-GAMMA</th>        <th class=\"col_heading level0 col10\" >FIN-ID</th>        <th class=\"col_heading level0 col11\" >FIN-NAME</th>        <th class=\"col_heading level0 col12\" >FIN-TAGS</th>        <th class=\"col_heading level0 col13\" >FIN-NS</th>        <th class=\"col_heading level0 col14\" >FIN-LAT-A</th>        <th class=\"col_heading level0 col15\" >FIN-LAT-B</th>        <th class=\"col_heading level0 col16\" >FIN-LAT-C</th>        <th class=\"col_heading level0 col17\" >FIN-LAT-ALPHA</th>        <th class=\"col_heading level0 col18\" >FIN-LAT-BETA</th>        <th class=\"col_heading level0 col19\" >FIN-LAT-GAMMA</th>        <th class=\"col_heading level0 col20\" >PRESSURE</th>        <th class=\"col_heading level0 col21\" >DIRECT-GAP</th>        <th class=\"col_heading level0 col22\" >INDIRECT-GAP</th>    </tr></thead><tbody>\n",
       "                <tr>\n",
       "                        <th id=\"T_33afb672_e337_11eb_9df6_0242ac1c0002level0_row0\" class=\"row_heading level0 row0\" >0</th>\n",
       "                        <td id=\"T_33afb672_e337_11eb_9df6_0242ac1c0002row0_col0\" class=\"data row0 col0\" >eBjSG5CdjLDiLKg3H</td>\n",
       "                        <td id=\"T_33afb672_e337_11eb_9df6_0242ac1c0002row0_col1\" class=\"data row0 col1\" >mp-149</td>\n",
       "                        <td id=\"T_33afb672_e337_11eb_9df6_0242ac1c0002row0_col2\" class=\"data row0 col2\" >tag1, tag2, Silicon (O-doped), Silicon hydride (1/0.5), Silicon - diamond phase, Silicon - type I-clathrate, Silicon, High pressure experimental phase, Silicon - cubic diamond form</td>\n",
       "                        <td id=\"T_33afb672_e337_11eb_9df6_0242ac1c0002row0_col3\" class=\"data row0 col3\" >2</td>\n",
       "                        <td id=\"T_33afb672_e337_11eb_9df6_0242ac1c0002row0_col4\" class=\"data row0 col4\" >3.866975</td>\n",
       "                        <td id=\"T_33afb672_e337_11eb_9df6_0242ac1c0002row0_col5\" class=\"data row0 col5\" >3.866975</td>\n",
       "                        <td id=\"T_33afb672_e337_11eb_9df6_0242ac1c0002row0_col6\" class=\"data row0 col6\" >3.866975</td>\n",
       "                        <td id=\"T_33afb672_e337_11eb_9df6_0242ac1c0002row0_col7\" class=\"data row0 col7\" >60</td>\n",
       "                        <td id=\"T_33afb672_e337_11eb_9df6_0242ac1c0002row0_col8\" class=\"data row0 col8\" >60</td>\n",
       "                        <td id=\"T_33afb672_e337_11eb_9df6_0242ac1c0002row0_col9\" class=\"data row0 col9\" >60</td>\n",
       "                        <td id=\"T_33afb672_e337_11eb_9df6_0242ac1c0002row0_col10\" class=\"data row0 col10\" >eBjSG5CdjLDiLKg3H</td>\n",
       "                        <td id=\"T_33afb672_e337_11eb_9df6_0242ac1c0002row0_col11\" class=\"data row0 col11\" >mp-149</td>\n",
       "                        <td id=\"T_33afb672_e337_11eb_9df6_0242ac1c0002row0_col12\" class=\"data row0 col12\" >tag1, tag2, Silicon (O-doped), Silicon hydride (1/0.5), Silicon - diamond phase, Silicon - type I-clathrate, Silicon, High pressure experimental phase, Silicon - cubic diamond form</td>\n",
       "                        <td id=\"T_33afb672_e337_11eb_9df6_0242ac1c0002row0_col13\" class=\"data row0 col13\" >2</td>\n",
       "                        <td id=\"T_33afb672_e337_11eb_9df6_0242ac1c0002row0_col14\" class=\"data row0 col14\" >3.866975</td>\n",
       "                        <td id=\"T_33afb672_e337_11eb_9df6_0242ac1c0002row0_col15\" class=\"data row0 col15\" >3.866975</td>\n",
       "                        <td id=\"T_33afb672_e337_11eb_9df6_0242ac1c0002row0_col16\" class=\"data row0 col16\" >3.866975</td>\n",
       "                        <td id=\"T_33afb672_e337_11eb_9df6_0242ac1c0002row0_col17\" class=\"data row0 col17\" >60</td>\n",
       "                        <td id=\"T_33afb672_e337_11eb_9df6_0242ac1c0002row0_col18\" class=\"data row0 col18\" >60</td>\n",
       "                        <td id=\"T_33afb672_e337_11eb_9df6_0242ac1c0002row0_col19\" class=\"data row0 col19\" >60</td>\n",
       "                        <td id=\"T_33afb672_e337_11eb_9df6_0242ac1c0002row0_col20\" class=\"data row0 col20\" >-0.740000</td>\n",
       "                        <td id=\"T_33afb672_e337_11eb_9df6_0242ac1c0002row0_col21\" class=\"data row0 col21\" >2.530200</td>\n",
       "                        <td id=\"T_33afb672_e337_11eb_9df6_0242ac1c0002row0_col22\" class=\"data row0 col22\" >0.548500</td>\n",
       "            </tr>\n",
       "            <tr>\n",
       "                        <th id=\"T_33afb672_e337_11eb_9df6_0242ac1c0002level0_row1\" class=\"row_heading level0 row1\" >1</th>\n",
       "                        <td id=\"T_33afb672_e337_11eb_9df6_0242ac1c0002row1_col0\" class=\"data row1 col0\" >TEstgbia2WLantJEG</td>\n",
       "                        <td id=\"T_33afb672_e337_11eb_9df6_0242ac1c0002row1_col1\" class=\"data row1 col1\" >mp-32</td>\n",
       "                        <td id=\"T_33afb672_e337_11eb_9df6_0242ac1c0002row1_col2\" class=\"data row1 col2\" >tag1, tag2, Silicon (O-doped), Silicon hydride (1/0.5), Silicon - diamond phase, Silicon - type I-clathrate, Silicon, High pressure experimental phase, Silicon - cubic diamond form, Germanium - A4, Germanium</td>\n",
       "                        <td id=\"T_33afb672_e337_11eb_9df6_0242ac1c0002row1_col3\" class=\"data row1 col3\" >2</td>\n",
       "                        <td id=\"T_33afb672_e337_11eb_9df6_0242ac1c0002row1_col4\" class=\"data row1 col4\" >4.074959</td>\n",
       "                        <td id=\"T_33afb672_e337_11eb_9df6_0242ac1c0002row1_col5\" class=\"data row1 col5\" >4.074959</td>\n",
       "                        <td id=\"T_33afb672_e337_11eb_9df6_0242ac1c0002row1_col6\" class=\"data row1 col6\" >4.074959</td>\n",
       "                        <td id=\"T_33afb672_e337_11eb_9df6_0242ac1c0002row1_col7\" class=\"data row1 col7\" >60</td>\n",
       "                        <td id=\"T_33afb672_e337_11eb_9df6_0242ac1c0002row1_col8\" class=\"data row1 col8\" >60</td>\n",
       "                        <td id=\"T_33afb672_e337_11eb_9df6_0242ac1c0002row1_col9\" class=\"data row1 col9\" >60</td>\n",
       "                        <td id=\"T_33afb672_e337_11eb_9df6_0242ac1c0002row1_col10\" class=\"data row1 col10\" >TEstgbia2WLantJEG</td>\n",
       "                        <td id=\"T_33afb672_e337_11eb_9df6_0242ac1c0002row1_col11\" class=\"data row1 col11\" >mp-32</td>\n",
       "                        <td id=\"T_33afb672_e337_11eb_9df6_0242ac1c0002row1_col12\" class=\"data row1 col12\" >tag1, tag2, Silicon (O-doped), Silicon hydride (1/0.5), Silicon - diamond phase, Silicon - type I-clathrate, Silicon, High pressure experimental phase, Silicon - cubic diamond form, Germanium - A4, Germanium</td>\n",
       "                        <td id=\"T_33afb672_e337_11eb_9df6_0242ac1c0002row1_col13\" class=\"data row1 col13\" >2</td>\n",
       "                        <td id=\"T_33afb672_e337_11eb_9df6_0242ac1c0002row1_col14\" class=\"data row1 col14\" >4.074959</td>\n",
       "                        <td id=\"T_33afb672_e337_11eb_9df6_0242ac1c0002row1_col15\" class=\"data row1 col15\" >4.074959</td>\n",
       "                        <td id=\"T_33afb672_e337_11eb_9df6_0242ac1c0002row1_col16\" class=\"data row1 col16\" >4.074959</td>\n",
       "                        <td id=\"T_33afb672_e337_11eb_9df6_0242ac1c0002row1_col17\" class=\"data row1 col17\" >60</td>\n",
       "                        <td id=\"T_33afb672_e337_11eb_9df6_0242ac1c0002row1_col18\" class=\"data row1 col18\" >60</td>\n",
       "                        <td id=\"T_33afb672_e337_11eb_9df6_0242ac1c0002row1_col19\" class=\"data row1 col19\" >60</td>\n",
       "                        <td id=\"T_33afb672_e337_11eb_9df6_0242ac1c0002row1_col20\" class=\"data row1 col20\" >-0.590000</td>\n",
       "                        <td id=\"T_33afb672_e337_11eb_9df6_0242ac1c0002row1_col21\" class=\"data row1 col21\" >0.000000</td>\n",
       "                        <td id=\"T_33afb672_e337_11eb_9df6_0242ac1c0002row1_col22\" class=\"data row1 col22\" >0.000000</td>\n",
       "            </tr>\n",
       "    </tbody></table>"
      ],
      "text/plain": [
       "<pandas.io.formats.style.Styler at 0x7f4fe1609750>"
      ]
     },
     "execution_count": 20,
     "metadata": {
      "tags": []
     },
     "output_type": "execute_result"
    }
   ],
   "source": [
    "df = pd.DataFrame(data=table, columns=headers)\n",
    "html = dataframe_to_html(df)\n",
    "html"
   ]
  }
 ],
 "metadata": {
  "colab": {
   "name": "run-simulations-and-extract-properties.ipynb",
   "provenance": []
  },
  "kernelspec": {
   "display_name": "Python 3",
   "language": "python",
   "name": "python3"
  },
  "language_info": {
   "codemirror_mode": {
    "name": "ipython",
    "version": 3
   },
   "file_extension": ".py",
   "mimetype": "text/x-python",
   "name": "python",
   "nbconvert_exporter": "python",
   "pygments_lexer": "ipython3",
   "version": "3.8.6"
  }
 },
 "nbformat": 4,
 "nbformat_minor": 1
}
