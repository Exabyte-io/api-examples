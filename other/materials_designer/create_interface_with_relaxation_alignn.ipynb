{
 "cells": [
  {
   "cell_type": "markdown",
   "metadata": {},
   "source": [
    "# Create an interface between two materials with minimal strain\n",
    "\n",
    "Use Zur and McGill superlattices matching [algorithm](https://doi.org/10.1063/1.3330840) to create interfaces between two materials using the Pymatgen [implementation](https://pymatgen.org/pymatgen.analysis.interfaces.html#pymatgen.analysis.interfaces.zsl).\n",
    "\n",
    "<h2 style=\"color:green\">Usage</h2>\n",
    "\n",
    "0. Make sure to select Input Materials\n",
    "1. Execute \"Run first: ...\" cell below to load Input Materials into the current kernel\n",
    "2. Set Input Parameters (e.g. `MILLER_INDICES`, `THICKNESS`, `MAX_AREA`) below or use the default values\n",
    "3. Click \"Run\" > \"Run All\" to run all cells\n",
    "4. Wait for the run to complete (depending on the area, it can take 1-2 min or more). Scroll down to view cell results.\n",
    "5. Review the strain plot and modify its parameters as needed\n",
    "\n",
    "## Methodology\n",
    "\n",
    "The following happens in the script below:\n",
    "\n",
    "1. Create slabs for each input material. The materials data is passed in from and back to the web application according to this description (TBA).\n",
    "   We assume that two input materials are either in bulk form (e.g. Ni crystal) or layered (e.g. graphene). \n",
    "   \n",
    "   We construct the interface along the Z-axis. The material corresponding to the bottom of the interface is referred to as the \"**substrate**\", and the top - as the \"**layer**\". \n",
    "\n",
    "2. Perform strain matching on the slabs to extract the supercell dimensions. The algorithm has a set of parameters, such as the maximum area considered, that can be configured by editing the cells below.\n",
    "\n",
    "3. When the strain matching is finished, the interface with the lowest strain (and the smallest number of atoms) is selected. We create the corresponding supercells and place them at a specified distance from each other (note no shift is performed currently).\n"
   ]
  },
  {
   "cell_type": "markdown",
   "metadata": {},
   "source": [
    "<h2 style=\"color:red\">Run first: load input materials in current kernel</h2>\n"
   ]
  },
  {
   "cell_type": "code",
   "execution_count": 17,
   "metadata": {
    "ExecuteTime": {
     "end_time": "2024-02-23T06:54:02.172653Z",
     "start_time": "2024-02-23T06:54:02.117478Z"
    }
   },
   "outputs": [],
   "source": [
    "import json\n",
    "materials_in = []\n",
    "for file in [\"Ni.json\", \"Gr.json\"]:\n",
    "    with open(file, \"r\") as f:\n",
    "        data = f.read()\n",
    "        materials_in.append(json.loads(data))"
   ]
  },
  {
   "cell_type": "markdown",
   "metadata": {},
   "source": [
    "## 1. Set Input Parameters\n",
    "\n",
    "### 1.1. Select Substrate and Layer from Input Materials"
   ]
  },
  {
   "cell_type": "code",
   "execution_count": 18,
   "metadata": {
    "ExecuteTime": {
     "end_time": "2024-02-23T06:54:02.183063Z",
     "start_time": "2024-02-23T06:54:02.177507Z"
    }
   },
   "outputs": [],
   "source": [
    "SUBSTRATE_PARAMETERS = {\n",
    "    \"MATERIAL_INDEX\": 0,  # the index of the material in the materials_in list\n",
    "    \"MILLER_INDICES\": (1, 1, 1),  # the miller indices of the interfacial plane\n",
    "    \"THICKNESS\": 3,  # in layers\n",
    "}\n",
    "\n",
    "LAYER_PARAMETERS = {\n",
    "    \"MATERIAL_INDEX\": 1, # the index of the material in the materials_in list\n",
    "    \"MILLER_INDICES\": (0, 0, 1),  # the miller indices of the interfacial plane\n",
    "    \"THICKNESS\": 1,  # in layers\n",
    "}"
   ]
  },
  {
   "cell_type": "markdown",
   "metadata": {},
   "source": [
    "### 1.2. Set Interface Parameters\n",
    "\n",
    "The distance between layer and substrate and maximum area to consider when matching.\n"
   ]
  },
  {
   "cell_type": "code",
   "execution_count": 19,
   "metadata": {
    "ExecuteTime": {
     "end_time": "2024-02-23T06:54:02.194678Z",
     "start_time": "2024-02-23T06:54:02.185489Z"
    }
   },
   "outputs": [],
   "source": [
    "INTERFACE_PARAMETERS = {\n",
    "    \"DISTANCE_Z\": 3.0, # in Angstroms\n",
    "    \"MAX_AREA\": 50, # in Angstroms^2\n",
    "}"
   ]
  },
  {
   "cell_type": "markdown",
   "metadata": {},
   "source": [
    "### 1.3. Set Algorithm Parameters"
   ]
  },
  {
   "cell_type": "code",
   "execution_count": 20,
   "metadata": {
    "ExecuteTime": {
     "end_time": "2024-02-23T06:54:02.195298Z",
     "start_time": "2024-02-23T06:54:02.190351Z"
    }
   },
   "outputs": [],
   "source": [
    "ZSL_PARAMETERS = {\n",
    "    \"MAX_AREA\": INTERFACE_PARAMETERS[\"MAX_AREA\"],  # The area to consider in Angstrom^2\n",
    "    \"MAX_AREA_TOL\": 0.09,  # The area within this tolerance is considered equal\n",
    "    \"MAX_LENGTH_TOL\": 0.03,  # supercell lattice vectors lengths within this tolerance are considered equal\n",
    "    \"MAX_ANGLE_TOL\": 0.01,  # supercell lattice angles within this tolerance are considered equal\n",
    "    \"STRAIN_TOL\": 10e-6,  # strains within this tolerance are considered equal\n",
    "}"
   ]
  },
  {
   "cell_type": "markdown",
   "metadata": {},
   "source": [
    "## 2. Install Packages"
   ]
  },
  {
   "cell_type": "code",
   "execution_count": 21,
   "metadata": {
    "ExecuteTime": {
     "end_time": "2024-02-23T06:54:04.004961Z",
     "start_time": "2024-02-23T06:54:02.198579Z"
    }
   },
   "outputs": [
    {
     "name": "stdout",
     "output_type": "stream",
     "text": [
      "Python 3.11.7\n"
     ]
    },
    {
     "name": "stdout",
     "output_type": "stream",
     "text": [
      "Package                    Version\n",
      "-------------------------- -----------------\n",
      "accelerate                 0.27.2\n",
      "aiohttp                    3.9.3\n",
      "aiosignal                  1.3.1\n",
      "alignn                     2024.2.4\n",
      "anyio                      4.3.0\n",
      "appnope                    0.1.4\n",
      "argon2-cffi                23.1.0\n",
      "argon2-cffi-bindings       21.2.0\n",
      "arrow                      1.3.0\n",
      "ase                        3.22.1\n",
      "asttokens                  2.4.1\n",
      "async-lru                  2.0.4\n",
      "attrs                      23.2.0\n",
      "Babel                      2.14.0\n",
      "beautifulsoup4             4.12.3\n",
      "bleach                     6.1.0\n",
      "certifi                    2024.2.2\n",
      "cffi                       1.16.0\n",
      "charset-normalizer         3.3.2\n",
      "click                      8.1.7\n",
      "colorama                   0.4.6\n",
      "comm                       0.2.1\n",
      "contourpy                  1.2.0\n",
      "cycler                     0.12.1\n",
      "debugpy                    1.8.1\n",
      "decorator                  5.1.1\n",
      "defusedxml                 0.7.1\n",
      "dgl                        2.0.0\n",
      "executing                  2.0.1\n",
      "fastjsonschema             2.19.1\n",
      "filelock                   3.13.1\n",
      "flake8                     7.0.0\n",
      "fonttools                  4.49.0\n",
      "fqdn                       1.5.1\n",
      "frozenlist                 1.4.1\n",
      "fsspec                     2024.2.0\n",
      "future                     1.0.0\n",
      "ghp-import                 2.1.0\n",
      "h11                        0.14.0\n",
      "httpcore                   1.0.4\n",
      "httpx                      0.27.0\n",
      "huggingface-hub            0.20.3\n",
      "idna                       3.6\n",
      "install                    1.3.5\n",
      "ipykernel                  6.29.2\n",
      "ipython                    8.22.1\n",
      "ipywidgets                 8.1.2\n",
      "isoduration                20.11.0\n",
      "jarvis-tools               2023.12.12\n",
      "jedi                       0.19.1\n",
      "Jinja2                     3.1.3\n",
      "joblib                     1.3.2\n",
      "json5                      0.9.17\n",
      "jsonpointer                2.4\n",
      "jsonschema                 4.21.1\n",
      "jsonschema-specifications  2023.12.1\n",
      "jupyter_client             8.6.0\n",
      "jupyter_core               5.7.1\n",
      "jupyter-events             0.9.0\n",
      "jupyter-lsp                2.2.2\n",
      "jupyter_server             2.12.5\n",
      "jupyter_server_terminals   0.5.2\n",
      "jupyterlab                 4.1.2\n",
      "jupyterlab_pygments        0.3.0\n",
      "jupyterlab_server          2.25.3\n",
      "jupyterlab_widgets         3.0.10\n",
      "kiwisolver                 1.4.5\n",
      "latexcodec                 2.0.1\n",
      "lightning-utilities        0.10.1\n",
      "Markdown                   3.5.2\n",
      "MarkupSafe                 2.1.5\n",
      "matgl                      0.9.2\n",
      "matplotlib                 3.8.3\n",
      "matplotlib-inline          0.1.6\n",
      "mccabe                     0.7.0\n",
      "mergedeep                  1.3.4\n",
      "mistune                    3.0.2\n",
      "mkdocs                     1.5.3\n",
      "mkdocs-material            9.5.10\n",
      "mkdocs-material-extensions 1.3.1\n",
      "monty                      2024.2.2\n",
      "mpmath                     1.3.0\n",
      "multidict                  6.0.5\n",
      "nbclient                   0.9.0\n",
      "nbconvert                  7.16.1\n",
      "nbformat                   5.9.2\n",
      "nest-asyncio               1.6.0\n",
      "networkx                   3.2.1\n",
      "nglview                    3.1.1\n",
      "notebook                   7.1.0\n",
      "notebook_shim              0.2.4\n",
      "numpy                      1.26.4\n",
      "overrides                  7.7.0\n",
      "packaging                  23.2\n",
      "paginate                   0.5.6\n",
      "palettable                 3.3.3\n",
      "pandas                     2.2.1\n",
      "pandocfilters              1.5.1\n",
      "parso                      0.8.3\n",
      "pathspec                   0.12.1\n",
      "pexpect                    4.9.0\n",
      "pillow                     10.2.0\n",
      "pip                        23.3.1\n",
      "platformdirs               4.2.0\n",
      "plotly                     5.19.0\n",
      "prometheus_client          0.20.0\n",
      "prompt-toolkit             3.0.43\n",
      "psutil                     5.9.8\n",
      "ptyprocess                 0.7.0\n",
      "pure-eval                  0.2.2\n",
      "pybtex                     0.24.0\n",
      "pycodestyle                2.11.1\n",
      "pycparser                  2.21\n",
      "pydantic                   1.8.1\n",
      "pydocstyle                 6.3.0\n",
      "pyflakes                   3.2.0\n",
      "Pygments                   2.17.2\n",
      "pymatgen                   2024.2.8\n",
      "pymdown-extensions         10.7\n",
      "pyparsing                  2.4.7\n",
      "PyQt5                      5.15.10\n",
      "PyQt5-Qt5                  5.15.12\n",
      "PyQt5-sip                  12.13.0\n",
      "python-dateutil            2.8.2\n",
      "python-json-logger         2.0.7\n",
      "pytorch-ignite             0.5.0.dev20240223\n",
      "pytorch-lightning          2.2.0.post0\n",
      "pytz                       2024.1\n",
      "PyYAML                     6.0.1\n",
      "pyyaml_env_tag             0.1\n",
      "pyzmq                      25.1.2\n",
      "referencing                0.33.0\n",
      "regex                      2023.12.25\n",
      "requests                   2.31.0\n",
      "rfc3339-validator          0.1.4\n",
      "rfc3986-validator          0.1.1\n",
      "rpds-py                    0.18.0\n",
      "ruamel.yaml                0.18.6\n",
      "ruamel.yaml.clib           0.2.8\n",
      "safetensors                0.4.2\n",
      "scikit-learn               1.4.1.post1\n",
      "scipy                      1.12.0\n",
      "Send2Trash                 1.8.2\n",
      "setuptools                 69.0.2\n",
      "six                        1.16.0\n",
      "sniffio                    1.3.0\n",
      "snowballstemmer            2.2.0\n",
      "soupsieve                  2.5\n",
      "spglib                     2.0.2\n",
      "stack-data                 0.6.3\n",
      "sympy                      1.12\n",
      "tabulate                   0.9.0\n",
      "tenacity                   8.2.3\n",
      "terminado                  0.18.0\n",
      "threadpoolctl              3.3.0\n",
      "tinycss2                   1.2.1\n",
      "toolz                      0.12.1\n",
      "torch                      2.0.0\n",
      "torchdata                  0.7.1\n",
      "torchmetrics               1.3.1\n",
      "tornado                    6.4\n",
      "tqdm                       4.66.2\n",
      "traitlets                  5.14.1\n",
      "types-python-dateutil      2.8.19.20240106\n",
      "typing_extensions          4.9.0\n",
      "tzdata                     2024.1\n",
      "uncertainties              3.1.7\n",
      "uri-template               1.3.0\n",
      "urllib3                    2.2.1\n",
      "watchdog                   4.0.0\n",
      "wcwidth                    0.2.13\n",
      "webcolors                  1.13\n",
      "webencodings               0.5.1\n",
      "websocket-client           1.7.0\n",
      "widgetsnbextension         4.0.10\n",
      "xmltodict                  0.13.0\n",
      "yarl                       1.9.4\n",
      "\n",
      "\u001b[1m[\u001b[0m\u001b[34;49mnotice\u001b[0m\u001b[1;39;49m]\u001b[0m\u001b[39;49m A new release of pip is available: \u001b[0m\u001b[31;49m23.3.1\u001b[0m\u001b[39;49m -> \u001b[0m\u001b[32;49m24.0\u001b[0m\n",
      "\u001b[1m[\u001b[0m\u001b[34;49mnotice\u001b[0m\u001b[1;39;49m]\u001b[0m\u001b[39;49m To update, run: \u001b[0m\u001b[32;49mpip install --upgrade pip\u001b[0m\n"
     ]
    }
   ],
   "source": [
    "!python --version\n",
    "!pip list\n",
    "# !pip install pymatgen==2024.2.8 ase==3.22.1 nbformat==5.9.2 ipykernel==6.29.2 matgl==0.9.2 nglview==3.1.1 alignn==2024.2.4 pip install PyQt5==5.15.10"
   ]
  },
  {
   "cell_type": "markdown",
   "metadata": {},
   "source": [
    "## 3. Create interfaces\n",
    "\n",
    "### 3.1. Extract Interfaces and Terminations\n",
    "\n",
    "Extract all possible layer/substrate supercell combinations within the maximum area including different terminations."
   ]
  },
  {
   "cell_type": "code",
   "execution_count": 22,
   "metadata": {
    "ExecuteTime": {
     "end_time": "2024-02-23T06:54:09.335794Z",
     "start_time": "2024-02-23T06:54:04.013364Z"
    },
    "tags": [],
    "trusted": true
   },
   "outputs": [
    {
     "name": "stdout",
     "output_type": "stream",
     "text": [
      "Full Formula (Ni1)\n",
      "Reduced Formula: Ni\n",
      "abc   :   2.460000   2.460000   2.460000\n",
      "angles:  60.000004  59.999994  60.000003\n",
      "pbc   :       True       True       True\n",
      "Sites (1)\n",
      "  #  SP      a    b    c\n",
      "---  ----  ---  ---  ---\n",
      "  0  Ni      0    0    0 \n",
      "\n",
      "Full Formula (C2)\n",
      "Reduced Formula: C\n",
      "abc   :   2.467291   2.467291  20.000000\n",
      "angles:  90.000000  90.000000 119.999986\n",
      "pbc   :       True       True       True\n",
      "Sites (2)\n",
      "  #  SP           a         b    c\n",
      "---  ----  --------  --------  ---\n",
      "  0  C     0         0           0\n",
      "  1  C     0.333333  0.666667    0 \n",
      "\n",
      "Creating interfaces...\n"
     ]
    }
   ],
   "source": [
    "from src.pymatgen_coherent_interface_builder import CoherentInterfaceBuilder, ZSLGenerator\n",
    "from src.utils import to_pymatgen\n",
    "\n",
    "if \"materials_in\" in globals():\n",
    "    pymatgen_materials = [to_pymatgen(item) for item in materials_in]\n",
    "for material in pymatgen_materials:\n",
    "    print(material, \"\\n\")\n",
    "\n",
    "\n",
    "def create_interfaces(settings):\n",
    "    print(\"Creating interfaces...\")\n",
    "    zsl = ZSLGenerator(\n",
    "        max_area_ratio_tol=settings[\"ZSL_PARAMETERS\"][\"MAX_AREA_TOL\"],\n",
    "        max_area=settings[\"ZSL_PARAMETERS\"][\"MAX_AREA\"],\n",
    "        max_length_tol=settings[\"ZSL_PARAMETERS\"][\"MAX_LENGTH_TOL\"],\n",
    "        max_angle_tol=settings[\"ZSL_PARAMETERS\"][\"MAX_ANGLE_TOL\"],\n",
    "    )\n",
    "\n",
    "    cib = CoherentInterfaceBuilder(\n",
    "        substrate_structure=pymatgen_materials[settings[\"SUBSTRATE_PARAMETERS\"][\"MATERIAL_INDEX\"]],\n",
    "        film_structure=pymatgen_materials[settings[\"LAYER_PARAMETERS\"][\"MATERIAL_INDEX\"]],\n",
    "        substrate_miller=settings[\"SUBSTRATE_PARAMETERS\"][\"MILLER_INDICES\"],\n",
    "        film_miller=settings[\"LAYER_PARAMETERS\"][\"MILLER_INDICES\"],\n",
    "        zslgen=zsl,\n",
    "        strain_tol=settings[\"ZSL_PARAMETERS\"][\"STRAIN_TOL\"],\n",
    "    )\n",
    "\n",
    "    # Find terminations\n",
    "    cib._find_terminations()\n",
    "    terminations = cib.terminations\n",
    "\n",
    "    # Create interfaces for each termination\n",
    "    interfaces = {}\n",
    "    for termination in terminations:\n",
    "        interfaces[termination] = []\n",
    "        for interface in cib.get_interfaces(\n",
    "            termination,\n",
    "            gap=settings[\"INTERFACE_PARAMETERS\"][\"DISTANCE_Z\"],\n",
    "            film_thickness=settings[\"LAYER_PARAMETERS\"][\"THICKNESS\"],\n",
    "            substrate_thickness=settings[\"SUBSTRATE_PARAMETERS\"][\"THICKNESS\"],\n",
    "            in_layers=True,\n",
    "        ):\n",
    "            # Wrap atoms to unit cell\n",
    "            interface[\"interface\"].make_supercell((1,1,1), to_unit_cell=True)\n",
    "            interfaces[termination].append(interface)\n",
    "    return interfaces, terminations\n",
    "\n",
    "\n",
    "interfaces, terminations = create_interfaces(\n",
    "    settings={\n",
    "        \"SUBSTRATE_PARAMETERS\": SUBSTRATE_PARAMETERS,\n",
    "        \"LAYER_PARAMETERS\": LAYER_PARAMETERS,\n",
    "        \"ZSL_PARAMETERS\": ZSL_PARAMETERS,\n",
    "        \"INTERFACE_PARAMETERS\": INTERFACE_PARAMETERS,\n",
    "    }\n",
    ")"
   ]
  },
  {
   "cell_type": "markdown",
   "metadata": {},
   "source": [
    "### 3.2. Print out the interfaces and terminations"
   ]
  },
  {
   "cell_type": "code",
   "execution_count": 23,
   "metadata": {
    "ExecuteTime": {
     "end_time": "2024-02-23T06:54:09.342541Z",
     "start_time": "2024-02-23T06:54:09.337841Z"
    }
   },
   "outputs": [
    {
     "name": "stdout",
     "output_type": "stream",
     "text": [
      "Found 1 terminations\n",
      "Found 233 interfaces for ('C_P6/mmm_2', 'Ni_R-3m_1') termination\n"
     ]
    }
   ],
   "source": [
    "print(f'Found {len(terminations)} terminations')\n",
    "for termination in terminations:\n",
    "    print(f\"Found {len(interfaces[termination])} interfaces for\", termination, \"termination\")"
   ]
  },
  {
   "cell_type": "markdown",
   "metadata": {},
   "source": [
    "## 4. Sort interfaces by strain\n",
    "\n",
    "### 4.1. Sort all interfaces"
   ]
  },
  {
   "cell_type": "code",
   "execution_count": 24,
   "metadata": {
    "ExecuteTime": {
     "end_time": "2024-02-23T06:54:09.349850Z",
     "start_time": "2024-02-23T06:54:09.344766Z"
    }
   },
   "outputs": [],
   "source": [
    "# Could be \"strain\", \"von_mises_strain\", \"mean_abs_strain\"\n",
    "strain_mode = \"mean_abs_strain\"\n",
    "\n",
    "# Sort interfaces by the specified strain mode and number of sites\n",
    "def sort_interfaces(interfaces, terminations):\n",
    "    sorted_interfaces = {}\n",
    "    for termination in terminations:\n",
    "        sorted_interfaces[termination] = sorted(\n",
    "            interfaces[termination], key=lambda x: (x[strain_mode], x[\"interface\"].num_sites)\n",
    "        )\n",
    "    return sorted_interfaces\n",
    "\n",
    "\n",
    "sorted_interfaces = sort_interfaces(interfaces, terminations)"
   ]
  },
  {
   "cell_type": "markdown",
   "metadata": {},
   "source": [
    "### 4.2. Print out interfaces with lowest strain for each termination"
   ]
  },
  {
   "cell_type": "code",
   "execution_count": 25,
   "metadata": {
    "ExecuteTime": {
     "end_time": "2024-02-23T06:54:09.352241Z",
     "start_time": "2024-02-23T06:54:09.349349Z"
    }
   },
   "outputs": [
    {
     "name": "stdout",
     "output_type": "stream",
     "text": [
      "Interface with lowest strain for termination ('C_P6/mmm_2', 'Ni_R-3m_1') (index 0):\n",
      "    strain: 0.06600000000000002 %\n",
      "    number of atoms: 5\n"
     ]
    }
   ],
   "source": [
    "for termination in terminations:\n",
    "    print(f\"Interface with lowest strain for termination {termination} (index 0):\")\n",
    "    first_interface = interfaces[termination][0]\n",
    "    print(\"    strain:\", first_interface[strain_mode] * 100, \"%\")\n",
    "    print(\"    number of atoms:\", first_interface[\"interface\"].num_sites)"
   ]
  },
  {
   "cell_type": "markdown",
   "metadata": {},
   "source": [
    "## 5. Plot the results\n",
    "\n",
    "Plot the number of atoms vs strain. Adjust the parameters as needed.\n"
   ]
  },
  {
   "cell_type": "code",
   "execution_count": 26,
   "metadata": {
    "ExecuteTime": {
     "end_time": "2024-02-23T06:54:09.692367Z",
     "start_time": "2024-02-23T06:54:09.362250Z"
    }
   },
   "outputs": [
    {
     "data": {
      "application/vnd.plotly.v1+json": {
       "config": {
        "plotlyServerURL": "https://plot.ly"
       },
       "data": [
        {
         "hoverinfo": "text",
         "mode": "markers",
         "name": "Indices: 0",
         "text": [
          "Termination: ('C_P6/mmm_2', 'Ni_R-3m_1')<br>Termination index: 0<br>Interfaces Index Range: 0<br>Strain: 0.07%<br>Atoms: 5"
         ],
         "type": "scatter",
         "x": [
          0.06600000000000002
         ],
         "y": [
          5
         ]
        },
        {
         "hoverinfo": "text",
         "mode": "markers",
         "name": "Indices: 1-9",
         "text": [
          "Termination: ('C_P6/mmm_2', 'Ni_R-3m_1')<br>Termination index: 0<br>Interfaces Index Range: 1-9<br>Strain: 0.07%<br>Atoms: 10"
         ],
         "type": "scatter",
         "x": [
          0.06600000000000002
         ],
         "y": [
          10
         ]
        },
        {
         "hoverinfo": "text",
         "mode": "markers",
         "name": "Indices: 10-19",
         "text": [
          "Termination: ('C_P6/mmm_2', 'Ni_R-3m_1')<br>Termination index: 0<br>Interfaces Index Range: 10-19<br>Strain: 0.07%<br>Atoms: 15"
         ],
         "type": "scatter",
         "x": [
          0.06600000000000002
         ],
         "y": [
          15
         ]
        },
        {
         "hoverinfo": "text",
         "mode": "markers",
         "name": "Indices: 20-38",
         "text": [
          "Termination: ('C_P6/mmm_2', 'Ni_R-3m_1')<br>Termination index: 0<br>Interfaces Index Range: 20-38<br>Strain: 0.07%<br>Atoms: 20"
         ],
         "type": "scatter",
         "x": [
          0.06600000000000002
         ],
         "y": [
          20
         ]
        },
        {
         "hoverinfo": "text",
         "mode": "markers",
         "name": "Indices: 39-56",
         "text": [
          "Termination: ('C_P6/mmm_2', 'Ni_R-3m_1')<br>Termination index: 0<br>Interfaces Index Range: 39-56<br>Strain: 0.07%<br>Atoms: 25"
         ],
         "type": "scatter",
         "x": [
          0.06600000000000002
         ],
         "y": [
          25
         ]
        },
        {
         "hoverinfo": "text",
         "mode": "markers",
         "name": "Indices: 57-110",
         "text": [
          "Termination: ('C_P6/mmm_2', 'Ni_R-3m_1')<br>Termination index: 0<br>Interfaces Index Range: 57-110<br>Strain: 0.07%<br>Atoms: 30"
         ],
         "type": "scatter",
         "x": [
          0.06600000000000002
         ],
         "y": [
          30
         ]
        },
        {
         "hoverinfo": "text",
         "mode": "markers",
         "name": "Indices: 111-132",
         "text": [
          "Termination: ('C_P6/mmm_2', 'Ni_R-3m_1')<br>Termination index: 0<br>Interfaces Index Range: 111-132<br>Strain: 0.07%<br>Atoms: 35"
         ],
         "type": "scatter",
         "x": [
          0.06600000000000002
         ],
         "y": [
          35
         ]
        },
        {
         "hoverinfo": "text",
         "mode": "markers",
         "name": "Indices: 133-177",
         "text": [
          "Termination: ('C_P6/mmm_2', 'Ni_R-3m_1')<br>Termination index: 0<br>Interfaces Index Range: 133-177<br>Strain: 0.07%<br>Atoms: 40"
         ],
         "type": "scatter",
         "x": [
          0.06600000000000002
         ],
         "y": [
          40
         ]
        },
        {
         "hoverinfo": "text",
         "mode": "markers",
         "name": "Indices: 178-232",
         "text": [
          "Termination: ('C_P6/mmm_2', 'Ni_R-3m_1')<br>Termination index: 0<br>Interfaces Index Range: 178-232<br>Strain: 0.07%<br>Atoms: 45"
         ],
         "type": "scatter",
         "x": [
          0.06600000000000002
         ],
         "y": [
          45
         ]
        }
       ],
       "layout": {
        "height": 600,
        "hovermode": "closest",
        "legend": {
         "title": {
          "text": "Interfaces Index Range"
         }
        },
        "template": {
         "data": {
          "bar": [
           {
            "error_x": {
             "color": "#2a3f5f"
            },
            "error_y": {
             "color": "#2a3f5f"
            },
            "marker": {
             "line": {
              "color": "#E5ECF6",
              "width": 0.5
             },
             "pattern": {
              "fillmode": "overlay",
              "size": 10,
              "solidity": 0.2
             }
            },
            "type": "bar"
           }
          ],
          "barpolar": [
           {
            "marker": {
             "line": {
              "color": "#E5ECF6",
              "width": 0.5
             },
             "pattern": {
              "fillmode": "overlay",
              "size": 10,
              "solidity": 0.2
             }
            },
            "type": "barpolar"
           }
          ],
          "carpet": [
           {
            "aaxis": {
             "endlinecolor": "#2a3f5f",
             "gridcolor": "white",
             "linecolor": "white",
             "minorgridcolor": "white",
             "startlinecolor": "#2a3f5f"
            },
            "baxis": {
             "endlinecolor": "#2a3f5f",
             "gridcolor": "white",
             "linecolor": "white",
             "minorgridcolor": "white",
             "startlinecolor": "#2a3f5f"
            },
            "type": "carpet"
           }
          ],
          "choropleth": [
           {
            "colorbar": {
             "outlinewidth": 0,
             "ticks": ""
            },
            "type": "choropleth"
           }
          ],
          "contour": [
           {
            "colorbar": {
             "outlinewidth": 0,
             "ticks": ""
            },
            "colorscale": [
             [
              0,
              "#0d0887"
             ],
             [
              0.1111111111111111,
              "#46039f"
             ],
             [
              0.2222222222222222,
              "#7201a8"
             ],
             [
              0.3333333333333333,
              "#9c179e"
             ],
             [
              0.4444444444444444,
              "#bd3786"
             ],
             [
              0.5555555555555556,
              "#d8576b"
             ],
             [
              0.6666666666666666,
              "#ed7953"
             ],
             [
              0.7777777777777778,
              "#fb9f3a"
             ],
             [
              0.8888888888888888,
              "#fdca26"
             ],
             [
              1,
              "#f0f921"
             ]
            ],
            "type": "contour"
           }
          ],
          "contourcarpet": [
           {
            "colorbar": {
             "outlinewidth": 0,
             "ticks": ""
            },
            "type": "contourcarpet"
           }
          ],
          "heatmap": [
           {
            "colorbar": {
             "outlinewidth": 0,
             "ticks": ""
            },
            "colorscale": [
             [
              0,
              "#0d0887"
             ],
             [
              0.1111111111111111,
              "#46039f"
             ],
             [
              0.2222222222222222,
              "#7201a8"
             ],
             [
              0.3333333333333333,
              "#9c179e"
             ],
             [
              0.4444444444444444,
              "#bd3786"
             ],
             [
              0.5555555555555556,
              "#d8576b"
             ],
             [
              0.6666666666666666,
              "#ed7953"
             ],
             [
              0.7777777777777778,
              "#fb9f3a"
             ],
             [
              0.8888888888888888,
              "#fdca26"
             ],
             [
              1,
              "#f0f921"
             ]
            ],
            "type": "heatmap"
           }
          ],
          "heatmapgl": [
           {
            "colorbar": {
             "outlinewidth": 0,
             "ticks": ""
            },
            "colorscale": [
             [
              0,
              "#0d0887"
             ],
             [
              0.1111111111111111,
              "#46039f"
             ],
             [
              0.2222222222222222,
              "#7201a8"
             ],
             [
              0.3333333333333333,
              "#9c179e"
             ],
             [
              0.4444444444444444,
              "#bd3786"
             ],
             [
              0.5555555555555556,
              "#d8576b"
             ],
             [
              0.6666666666666666,
              "#ed7953"
             ],
             [
              0.7777777777777778,
              "#fb9f3a"
             ],
             [
              0.8888888888888888,
              "#fdca26"
             ],
             [
              1,
              "#f0f921"
             ]
            ],
            "type": "heatmapgl"
           }
          ],
          "histogram": [
           {
            "marker": {
             "pattern": {
              "fillmode": "overlay",
              "size": 10,
              "solidity": 0.2
             }
            },
            "type": "histogram"
           }
          ],
          "histogram2d": [
           {
            "colorbar": {
             "outlinewidth": 0,
             "ticks": ""
            },
            "colorscale": [
             [
              0,
              "#0d0887"
             ],
             [
              0.1111111111111111,
              "#46039f"
             ],
             [
              0.2222222222222222,
              "#7201a8"
             ],
             [
              0.3333333333333333,
              "#9c179e"
             ],
             [
              0.4444444444444444,
              "#bd3786"
             ],
             [
              0.5555555555555556,
              "#d8576b"
             ],
             [
              0.6666666666666666,
              "#ed7953"
             ],
             [
              0.7777777777777778,
              "#fb9f3a"
             ],
             [
              0.8888888888888888,
              "#fdca26"
             ],
             [
              1,
              "#f0f921"
             ]
            ],
            "type": "histogram2d"
           }
          ],
          "histogram2dcontour": [
           {
            "colorbar": {
             "outlinewidth": 0,
             "ticks": ""
            },
            "colorscale": [
             [
              0,
              "#0d0887"
             ],
             [
              0.1111111111111111,
              "#46039f"
             ],
             [
              0.2222222222222222,
              "#7201a8"
             ],
             [
              0.3333333333333333,
              "#9c179e"
             ],
             [
              0.4444444444444444,
              "#bd3786"
             ],
             [
              0.5555555555555556,
              "#d8576b"
             ],
             [
              0.6666666666666666,
              "#ed7953"
             ],
             [
              0.7777777777777778,
              "#fb9f3a"
             ],
             [
              0.8888888888888888,
              "#fdca26"
             ],
             [
              1,
              "#f0f921"
             ]
            ],
            "type": "histogram2dcontour"
           }
          ],
          "mesh3d": [
           {
            "colorbar": {
             "outlinewidth": 0,
             "ticks": ""
            },
            "type": "mesh3d"
           }
          ],
          "parcoords": [
           {
            "line": {
             "colorbar": {
              "outlinewidth": 0,
              "ticks": ""
             }
            },
            "type": "parcoords"
           }
          ],
          "pie": [
           {
            "automargin": true,
            "type": "pie"
           }
          ],
          "scatter": [
           {
            "fillpattern": {
             "fillmode": "overlay",
             "size": 10,
             "solidity": 0.2
            },
            "type": "scatter"
           }
          ],
          "scatter3d": [
           {
            "line": {
             "colorbar": {
              "outlinewidth": 0,
              "ticks": ""
             }
            },
            "marker": {
             "colorbar": {
              "outlinewidth": 0,
              "ticks": ""
             }
            },
            "type": "scatter3d"
           }
          ],
          "scattercarpet": [
           {
            "marker": {
             "colorbar": {
              "outlinewidth": 0,
              "ticks": ""
             }
            },
            "type": "scattercarpet"
           }
          ],
          "scattergeo": [
           {
            "marker": {
             "colorbar": {
              "outlinewidth": 0,
              "ticks": ""
             }
            },
            "type": "scattergeo"
           }
          ],
          "scattergl": [
           {
            "marker": {
             "colorbar": {
              "outlinewidth": 0,
              "ticks": ""
             }
            },
            "type": "scattergl"
           }
          ],
          "scattermapbox": [
           {
            "marker": {
             "colorbar": {
              "outlinewidth": 0,
              "ticks": ""
             }
            },
            "type": "scattermapbox"
           }
          ],
          "scatterpolar": [
           {
            "marker": {
             "colorbar": {
              "outlinewidth": 0,
              "ticks": ""
             }
            },
            "type": "scatterpolar"
           }
          ],
          "scatterpolargl": [
           {
            "marker": {
             "colorbar": {
              "outlinewidth": 0,
              "ticks": ""
             }
            },
            "type": "scatterpolargl"
           }
          ],
          "scatterternary": [
           {
            "marker": {
             "colorbar": {
              "outlinewidth": 0,
              "ticks": ""
             }
            },
            "type": "scatterternary"
           }
          ],
          "surface": [
           {
            "colorbar": {
             "outlinewidth": 0,
             "ticks": ""
            },
            "colorscale": [
             [
              0,
              "#0d0887"
             ],
             [
              0.1111111111111111,
              "#46039f"
             ],
             [
              0.2222222222222222,
              "#7201a8"
             ],
             [
              0.3333333333333333,
              "#9c179e"
             ],
             [
              0.4444444444444444,
              "#bd3786"
             ],
             [
              0.5555555555555556,
              "#d8576b"
             ],
             [
              0.6666666666666666,
              "#ed7953"
             ],
             [
              0.7777777777777778,
              "#fb9f3a"
             ],
             [
              0.8888888888888888,
              "#fdca26"
             ],
             [
              1,
              "#f0f921"
             ]
            ],
            "type": "surface"
           }
          ],
          "table": [
           {
            "cells": {
             "fill": {
              "color": "#EBF0F8"
             },
             "line": {
              "color": "white"
             }
            },
            "header": {
             "fill": {
              "color": "#C8D4E3"
             },
             "line": {
              "color": "white"
             }
            },
            "type": "table"
           }
          ]
         },
         "layout": {
          "annotationdefaults": {
           "arrowcolor": "#2a3f5f",
           "arrowhead": 0,
           "arrowwidth": 1
          },
          "autotypenumbers": "strict",
          "coloraxis": {
           "colorbar": {
            "outlinewidth": 0,
            "ticks": ""
           }
          },
          "colorscale": {
           "diverging": [
            [
             0,
             "#8e0152"
            ],
            [
             0.1,
             "#c51b7d"
            ],
            [
             0.2,
             "#de77ae"
            ],
            [
             0.3,
             "#f1b6da"
            ],
            [
             0.4,
             "#fde0ef"
            ],
            [
             0.5,
             "#f7f7f7"
            ],
            [
             0.6,
             "#e6f5d0"
            ],
            [
             0.7,
             "#b8e186"
            ],
            [
             0.8,
             "#7fbc41"
            ],
            [
             0.9,
             "#4d9221"
            ],
            [
             1,
             "#276419"
            ]
           ],
           "sequential": [
            [
             0,
             "#0d0887"
            ],
            [
             0.1111111111111111,
             "#46039f"
            ],
            [
             0.2222222222222222,
             "#7201a8"
            ],
            [
             0.3333333333333333,
             "#9c179e"
            ],
            [
             0.4444444444444444,
             "#bd3786"
            ],
            [
             0.5555555555555556,
             "#d8576b"
            ],
            [
             0.6666666666666666,
             "#ed7953"
            ],
            [
             0.7777777777777778,
             "#fb9f3a"
            ],
            [
             0.8888888888888888,
             "#fdca26"
            ],
            [
             1,
             "#f0f921"
            ]
           ],
           "sequentialminus": [
            [
             0,
             "#0d0887"
            ],
            [
             0.1111111111111111,
             "#46039f"
            ],
            [
             0.2222222222222222,
             "#7201a8"
            ],
            [
             0.3333333333333333,
             "#9c179e"
            ],
            [
             0.4444444444444444,
             "#bd3786"
            ],
            [
             0.5555555555555556,
             "#d8576b"
            ],
            [
             0.6666666666666666,
             "#ed7953"
            ],
            [
             0.7777777777777778,
             "#fb9f3a"
            ],
            [
             0.8888888888888888,
             "#fdca26"
            ],
            [
             1,
             "#f0f921"
            ]
           ]
          },
          "colorway": [
           "#636efa",
           "#EF553B",
           "#00cc96",
           "#ab63fa",
           "#FFA15A",
           "#19d3f3",
           "#FF6692",
           "#B6E880",
           "#FF97FF",
           "#FECB52"
          ],
          "font": {
           "color": "#2a3f5f"
          },
          "geo": {
           "bgcolor": "white",
           "lakecolor": "white",
           "landcolor": "#E5ECF6",
           "showlakes": true,
           "showland": true,
           "subunitcolor": "white"
          },
          "hoverlabel": {
           "align": "left"
          },
          "hovermode": "closest",
          "mapbox": {
           "style": "light"
          },
          "paper_bgcolor": "white",
          "plot_bgcolor": "#E5ECF6",
          "polar": {
           "angularaxis": {
            "gridcolor": "white",
            "linecolor": "white",
            "ticks": ""
           },
           "bgcolor": "#E5ECF6",
           "radialaxis": {
            "gridcolor": "white",
            "linecolor": "white",
            "ticks": ""
           }
          },
          "scene": {
           "xaxis": {
            "backgroundcolor": "#E5ECF6",
            "gridcolor": "white",
            "gridwidth": 2,
            "linecolor": "white",
            "showbackground": true,
            "ticks": "",
            "zerolinecolor": "white"
           },
           "yaxis": {
            "backgroundcolor": "#E5ECF6",
            "gridcolor": "white",
            "gridwidth": 2,
            "linecolor": "white",
            "showbackground": true,
            "ticks": "",
            "zerolinecolor": "white"
           },
           "zaxis": {
            "backgroundcolor": "#E5ECF6",
            "gridcolor": "white",
            "gridwidth": 2,
            "linecolor": "white",
            "showbackground": true,
            "ticks": "",
            "zerolinecolor": "white"
           }
          },
          "shapedefaults": {
           "line": {
            "color": "#2a3f5f"
           }
          },
          "ternary": {
           "aaxis": {
            "gridcolor": "white",
            "linecolor": "white",
            "ticks": ""
           },
           "baxis": {
            "gridcolor": "white",
            "linecolor": "white",
            "ticks": ""
           },
           "bgcolor": "#E5ECF6",
           "caxis": {
            "gridcolor": "white",
            "linecolor": "white",
            "ticks": ""
           }
          },
          "title": {
           "x": 0.05
          },
          "xaxis": {
           "automargin": true,
           "gridcolor": "white",
           "linecolor": "white",
           "ticks": "",
           "title": {
            "standoff": 15
           },
           "zerolinecolor": "white",
           "zerolinewidth": 2
          },
          "yaxis": {
           "automargin": true,
           "gridcolor": "white",
           "linecolor": "white",
           "ticks": "",
           "title": {
            "standoff": 15
           },
           "zerolinecolor": "white",
           "zerolinewidth": 2
          }
         }
        },
        "xaxis": {
         "title": {
          "text": "Strain (%)"
         },
         "type": "log"
        },
        "yaxis": {
         "title": {
          "text": "Number of atoms"
         },
         "type": "log"
        }
       }
      }
     },
     "metadata": {},
     "output_type": "display_data"
    },
    {
     "name": "stdout",
     "output_type": "stream",
     "text": [
      "Termination 0: ('C_P6/mmm_2', 'Ni_R-3m_1')\n"
     ]
    }
   ],
   "source": [
    "import plotly.graph_objs as go\n",
    "from collections import defaultdict\n",
    "\n",
    "PLOT_SETTINGS = {\n",
    "    \"HEIGHT\": 600,\n",
    "    \"X_SCALE\": \"log\",  # or linear\n",
    "    \"Y_SCALE\": \"log\",  # or linear\n",
    "}\n",
    "\n",
    "\n",
    "def plot_strain_vs_atoms(sorted_interfaces, terminations, settings):\n",
    "    # Create a mapping from termination to its index\n",
    "    termination_to_index = {termination: i for i, termination in enumerate(terminations)}\n",
    "\n",
    "    grouped_interfaces = defaultdict(list)\n",
    "    for termination, interfaces in sorted_interfaces.items():\n",
    "        for index, interface_data in enumerate(interfaces):\n",
    "            strain_percentage = interface_data[\"mean_abs_strain\"] * 100\n",
    "            num_sites = interface_data[\"interface\"].num_sites\n",
    "            key = (strain_percentage, num_sites)\n",
    "            grouped_interfaces[key].append((index, termination))\n",
    "\n",
    "    data = []\n",
    "    for (strain, num_sites), indices_and_terminations in grouped_interfaces.items():\n",
    "        termination_indices = defaultdict(list)\n",
    "        for index, termination in indices_and_terminations:\n",
    "            termination_indices[termination].append(index)\n",
    "        all_indices = [index for indices in termination_indices.values() for index in indices]\n",
    "        index_range = f\"{min(all_indices)}-{max(all_indices)}\" if len(all_indices) > 1 else str(min(all_indices))\n",
    "\n",
    "        hover_text = \"<br>-----<br>\".join(\n",
    "             f\"Termination: {termination}<br>Termination index: {termination_to_index[termination]}<br>Interfaces Index Range: {index_range}<br>Strain: {strain:.2f}%<br>Atoms: {num_sites}\"\n",
    "            for termination, indices in termination_indices.items()\n",
    "        )\n",
    "        trace = go.Scatter(\n",
    "            x=[strain],\n",
    "            y=[num_sites],\n",
    "            text=[hover_text],\n",
    "            mode=\"markers\",\n",
    "            hoverinfo=\"text\",\n",
    "            name=f\"Indices: {index_range}\",\n",
    "        )\n",
    "        data.append(trace)\n",
    "\n",
    "    layout = go.Layout(\n",
    "        xaxis=dict(title=\"Strain (%)\", type=settings[\"X_SCALE\"]),\n",
    "        yaxis=dict(title=\"Number of atoms\", type=settings[\"Y_SCALE\"]),\n",
    "        hovermode=\"closest\",\n",
    "        height=settings[\"HEIGHT\"],\n",
    "        legend_title_text=\"Interfaces Index Range\",\n",
    "    )\n",
    "    fig = go.Figure(data=data, layout=layout)\n",
    "    fig.show()\n",
    "\n",
    "\n",
    "\n",
    "plot_strain_vs_atoms(sorted_interfaces, terminations, PLOT_SETTINGS)\n",
    "\n",
    "for i, termination in enumerate(terminations):\n",
    "    print(f\"Termination {i}:\", termination)"
   ]
  },
  {
   "cell_type": "markdown",
   "metadata": {},
   "source": [
    "## 6. Select the interface to relax\n",
    "\n",
    "### 6.1. Select the interface with the desired termination and strain\n",
    "\n",
    "The data in `sorted_interfaces` now contains an object with the following structure:\n",
    "\n",
    "```json\n",
    "{\n",
    "    \"('C_P6/mmm_2', 'Si_R-3m_1')\": [\n",
    "        { ...interface for ('C_P6/mmm_2', 'Si_R-3m_1') at index 0...},\n",
    "        { ...interface for ('C_P6/mmm_2', 'Si_R-3m_1') at index 1...},\n",
    "        ...\n",
    "    ],\n",
    "    \"<termination at index 1>\": [\n",
    "        { ...interface for 'termination at index 1' at index 0...},\n",
    "        { ...interface for 'termination at index 1' at index 1...},\n",
    "        ...\n",
    "    ]\n",
    "}\n",
    "```\n",
    "\n",
    "Select the index for termination first, and for it - the index in the list of corresponding interfaces sorted by strain (index 0 has minimum strain)."
   ]
  },
  {
   "cell_type": "code",
   "execution_count": 27,
   "metadata": {
    "ExecuteTime": {
     "end_time": "2024-02-23T06:54:09.693236Z",
     "start_time": "2024-02-23T06:54:09.688382Z"
    }
   },
   "outputs": [],
   "source": [
    "termination_index = 0\n",
    "interface_index = 0\n",
    "\n",
    "termination = terminations[termination_index]\n",
    "\n",
    "interface = sorted_interfaces[termination][interface_index][\"interface\"]"
   ]
  },
  {
   "cell_type": "markdown",
   "metadata": {},
   "source": [
    "## 7. Apply relaxation\n",
    "### 7.1. Apply relaxation to the selected interface"
   ]
  },
  {
   "cell_type": "code",
   "execution_count": 32,
   "metadata": {
    "ExecuteTime": {
     "end_time": "2024-02-23T06:55:22.364557Z",
     "start_time": "2024-02-23T06:55:11.082886Z"
    }
   },
   "outputs": [
    {
     "name": "stdout",
     "output_type": "stream",
     "text": [
      "dir_path /Users/vb/code/mat3ra/api-examples/.venv-3.11/lib/python3.11/site-packages/alignn/ff/alignnff_wt10\n",
      "model_path /Users/vb/code/mat3ra/api-examples/.venv-3.11/lib/python3.11/site-packages/alignn/ff/alignnff_wt10\n"
     ]
    },
    {
     "data": {
      "application/vnd.jupyter.widget-view+json": {
       "model_id": "ecd2719341094c3daf2bfc1fb837544a",
       "version_major": 2,
       "version_minor": 0
      },
      "text/plain": [
       "FigureWidget({\n",
       "    'data': [{'mode': 'lines+markers',\n",
       "              'name': 'Energy',\n",
       "              'type': 'scatter',\n",
       "              'uid': 'c770d60f-b401-459d-adda-da6789b57e20',\n",
       "              'x': [],\n",
       "              'y': []}],\n",
       "    'layout': {'template': '...',\n",
       "               'title': {'text': 'Real-time Optimization Progress'},\n",
       "               'xaxis': {'anchor': 'y', 'domain': [0.0, 1.0], 'title': {'text': 'Step'}},\n",
       "               'yaxis': {'anchor': 'x', 'domain': [0.0, 1.0], 'title': {'text': 'Energy (eV)'}}}\n",
       "})"
      ]
     },
     "metadata": {},
     "output_type": "display_data"
    },
    {
     "name": "stdout",
     "output_type": "stream",
     "text": [
      "      Step     Time          Energy         fmax\n",
      "BFGS:    0 09:15:13      -17.939891        0.1364\n",
      "Step: 0, Energy: -17.9399 eV\n",
      "BFGS:    1 09:15:14      -17.944651        0.1350\n",
      "Step: 1, Energy: -17.9447 eV\n",
      "BFGS:    2 09:15:14      -18.104429        0.0183\n",
      "Step: 2, Energy: -18.1044 eV\n",
      "BFGS:    3 09:15:14      -18.104575        0.0183\n",
      "Step: 3, Energy: -18.1046 eV\n",
      "BFGS:    4 09:15:15      -18.104699        0.0182\n",
      "Step: 4, Energy: -18.1047 eV\n",
      "BFGS:    5 09:15:15      -18.104762        0.0182\n",
      "Step: 5, Energy: -18.1048 eV\n",
      "BFGS:    6 09:15:15      -18.105327        0.0178\n",
      "Step: 6, Energy: -18.1053 eV\n",
      "Original structure:\n",
      " Ni  C \n",
      " 1.0000000000000000\n",
      "     2.4599995727812636    0.0000000000000000    0.0000000000000002\n",
      "     1.2299995285143268    2.1304228448014668    0.0000000000000002\n",
      "     0.0000000000000000    0.0000000000000000   27.0171631046722780\n",
      " Ni  C  \n",
      "   3   2\n",
      "Cartesian\n",
      "  1.2300003829518742  0.7101417146926911  0.0000000000000001\n",
      "  0.0000010237800151  0.0000011496383034  2.0085815523361399\n",
      "  2.4600007659037484  1.4202834293853821  4.0171631046722771\n",
      "  0.0000000000000000  0.0000000000000000  7.0171631046722744\n",
      "  1.2299984704321629  0.7101402381262073  7.0171631046722753\n",
      "\n",
      "\n",
      "Relaxed structure:\n",
      " Ni  C \n",
      " 1.0000000000000000\n",
      "     2.4599995727812636    0.0000000000000000    0.0000000000000002\n",
      "     1.2299995285143268    2.1304228448014668    0.0000000000000002\n",
      "     0.0000000000000000    0.0000000000000000   27.0171631046722780\n",
      " Ni  C  \n",
      "   3   2\n",
      "Cartesian\n",
      "  1.2300027025647622  0.7101431378908720  0.1948863120965003\n",
      "  0.0000122416025937  0.0000077319999213  1.8379527731385130\n",
      "  2.4657495023575300  1.4236022556285031  4.0614048789710475\n",
      " -0.0108452190571857 -0.0062635946350369  6.9907350485416675\n",
      "  1.2221636434393375  0.7056186683932514  6.9790081204315761\n",
      "\n",
      "The final energy is -18.105 eV.\n"
     ]
    }
   ],
   "source": [
    "import plotly.graph_objs as go\n",
    "from IPython.display import display\n",
    "from plotly.subplots import make_subplots\n",
    "from src.utils import poscar_to_ase, ase_to_poscar, ase_to_pymatgen, pymatgen_to_ase\n",
    "from ase.optimize import BFGS\n",
    "from alignn.ff.ff import AlignnAtomwiseCalculator as Calculator, default_path\n",
    "\n",
    "model_path = default_path()\n",
    "calc = Calculator(path=model_path)\n",
    "\n",
    "# relax the interface\n",
    "ase_interface = poscar_to_ase(interface.to(fmt=\"poscar\"))\n",
    "ase_interface.set_calculator(calc)\n",
    "\n",
    "dyn = BFGS(ase_interface)\n",
    "\n",
    "# Initialize empty lists to store steps and energies\n",
    "steps = []\n",
    "energies = []\n",
    "\n",
    "# Create a plotly figure widget\n",
    "fig = make_subplots(rows=1, cols=1, specs=[[{\"type\": \"scatter\"}]])\n",
    "scatter = go.Scatter(x=[], y=[], mode='lines+markers', name='Energy')\n",
    "fig.add_trace(scatter)\n",
    "fig.update_layout(title_text='Real-time Optimization Progress', xaxis_title='Step', yaxis_title='Energy (eV)')\n",
    "\n",
    "# Display figure widget\n",
    "f = go.FigureWidget(fig)\n",
    "display(f)\n",
    "\n",
    "# Define a callback function to update the plot at each step\n",
    "def plotly_callback():\n",
    "    step = dyn.nsteps\n",
    "    energy = ase_interface.get_total_energy()\n",
    "\n",
    "    # Add the new step and energy to the lists\n",
    "    steps.append(step)\n",
    "    energies.append(energy)\n",
    "\n",
    "    print(f\"Step: {step}, Energy: {energy:.4f} eV\")\n",
    "\n",
    "    # Update the figure with the new data\n",
    "    with f.batch_update():\n",
    "        f.data[0].x = steps\n",
    "        f.data[0].y = energies\n",
    "\n",
    "\n",
    "\n",
    "dyn.attach(plotly_callback, interval=1)\n",
    "dyn.run(fmax=0.018)\n",
    "\n",
    "# extract results\n",
    "ase_original_interface = pymatgen_to_ase(interface)\n",
    "ase_final_interface = ase_interface\n",
    "relaxed_energy = ase_interface.get_total_energy()\n",
    "\n",
    "# print out the final relaxed structure and energy\n",
    "print('Original structure:\\n', ase_to_poscar(ase_original_interface))\n",
    "print('\\nRelaxed structure:\\n', ase_to_poscar(ase_final_interface))\n",
    "print(f\"The final energy is {float(relaxed_energy):.3f} eV.\")"
   ]
  },
  {
   "cell_type": "markdown",
   "metadata": {},
   "source": [
    "### 7.2. View structure before and after relaxation"
   ]
  },
  {
   "cell_type": "code",
   "execution_count": 29,
   "metadata": {
    "ExecuteTime": {
     "end_time": "2024-02-23T06:54:16.486110Z",
     "start_time": "2024-02-23T06:54:16.296274Z"
    }
   },
   "outputs": [
    {
     "data": {
      "text/html": [
       "<div style=\"display: flex;\">\n",
       "    <div style=\"display: inline-block; margin: 10px; vertical-align: top;\">\n",
       "        <p>Ni3C2 - original</p>\n",
       "        <img src=\"data:image/png;base64,iVBORw0KGgoAAAANSUhEUgAAAQIAAAJRCAYAAACuvbmUAAAAOXRFWHRTb2Z0d2FyZQBNYXRwbG90bGliIHZlcnNpb24zLjguMywgaHR0cHM6Ly9tYXRwbG90bGliLm9yZy/H5lhTAAAACXBIWXMAAA9hAAAPYQGoP6dpAABjd0lEQVR4nO3dd3wcxfk/8M/s7lW1kyxLsopVLNuSbMuWG7hhTAkBQkLoxLR0CKn8khDSIARSSIGQBNITWgLGJAQSCB3jjovcJLlIVpcsq53alb3dnd8fshyXO+1KutXe5fu8Xy9e33xlaWbvmbu52XlmZxjnHISQ/9sEqy+AEGI96ggIIdQREEKoIyCEgDoCQgioIyCEgDoCQgioIyCEgDoCQgioIyCEgDoCQgioIyCEgDoCQggAcM4t+w9AAwB+4r93T/zf+07536f9/MTfnPlvkX4+alln/FyvLKvraDijnJHfve+Mn4/UG/bnEf5mXGVNRh3jKKvhzPid8rth2+KMOI/68whlvXvG9USrLLOutyHcZ5FZ+RgyY4xzzpllFxAnKE7GUJz0RYoR3RoQQizvCL5ncf3xguJkDMVJX9gYWXprQAiJDVaPCAghMcDSjoAxdp+V9ccLipMxFCd9kWJEWYM4QHEyhuKkj7IGhJCIrO4IaJbXGIqTMRQnfZQ1IISEZ/WIgBASAyhrEAcoTsZQnPRR1iCOUZyMoTjpo6wBISQiqzsCmuU1huJkDMVJH2UNCCHhWT0iIITEAMoaxAGKkzEUJ32UNYhjFCdjKE76KGtACInI6o6AZnmNoTgZQ3HSR1kDQkh4Vo8ICCExgLIGcYDiZAzFSR9lDeIYxckYipM+yhoQQiKyuiOgWV5jKE7GUJz0UdaAEBKe1SMCQkgMoKxBHKA4GUNx0kdZgzhGcTKG4qSPsgaEkIis7gholtcYipMxFCd9lDUghIRn9YiAEBIDKGsQByhOxlCc9FHWII5RnIyhOOmjrAEhJCKrOwKa5TWG4mQMxUkfZQ0IIeFZPSIghMQAyhrEAYqTMRQnfZQ1iGMUJ2MoTvooa0AIicjqjoBmeY2hOBlDcdJHWQNCSHhWjwgIITGAsgZxgOJkDMVJH2UN4hjFyRiKkz7KGhBCIrK6I6BZXmMoTsZQnPRR1oAQEp7VIwJCSAygrEEcoDgZQ3HSR1mDOEZxMobipI+yBoSQiKzuCGiW1xiKkzEUJ32UNSCEhGf1iIAQEgMoaxAHKE7GUJz0UdYgjlGcjKE46aOsASEkIqs7AprlNYbiZAzFSR9lDQgh4Vk9IiCExADKGsQBipMxFCd9lDWIYxQnYyhO+ihrQAiJyOqOgGZ5jaE4GUNx0kdZA0JIeFaPCAghMYCyBnGA4mQMxUkfZQ3iGMXJGIqTPsoaEEIisrojoFleYyhOxlCc9FHWgBASntUjAkJIDKCsQRygOBlDcdJHWYM4RnEyhuKkj7IGhJCIrO4IaJbXGIqTMRQnfZQ1IISEZ/WIgBASAyhrEAcoTsZQnPRR1iCOUZyMoTjpo6wBISQiqzsCmuU1huJkDMVJH2UNCCHhWT0iIITEAMoaxAGKkzEUJ32UNYhjFCdjKE76KGtACInI6o6AZnmNoTgZQ3HSR1kDQkh4Vo8ICCExgLIGcYDiZAzFSR9lDeIYxckYipM+yhoQQiKyuiOgWV5jKE7GUJz0UdaAEBKe1SMCQkgMoKxBHKA4GUNx0kdZgzhGcTKG4qSPsgaEkIis7gholtcYipMxFCd9lDUghIRn9YiAEBIDKGsQByhOxlCc9FHWII5RnIyhOOmjrAEhJCKrOwKa5TWG4mQMxUkfZQ0IIeFZPSIghMQAyhrEAYqTMRQnfZQ1iGMUJ2MoTvooa0AIicjqjoBmeY2hOBlDcdJHWQNCSHhWjwgIITGAsgZxgOJkDMVJH2UN4hjFyRiKkz7KGhBCIrK6I6BZXmMoTsZQnPRR1oAQEp7VIwJCSAygjoAQQunDeEBxMobipI/Sh3GM4mQMxUkfpQ8JIRFZ3RFQuscYipMxFCd9lD4khIRn9YiAEBIDKGsQByhOxlCc9FHWII5RnIyhOOmjrAEhJCKrOwKa5TWG4mQMxUkfZQ0IIeFZPSIghMQAyhrEAYqTMRQnfZQ1iGMUJ2MoTvooa0AIicjqjoBmeY2hOBlDcdJHWQNCSHhWjwgIITGAsgZxgOJkDMVJH2UN4hjFyRiKkz7KGhBCIrK6I6BZXmMoTsZQnPRR1oAQEp7VIwJCSAygrEEcoDgZQ3HSR1mDOEZxMobipI+yBoSQiKzuCGiW1xiKkzEUJ32UNSCEhGf1iIAQEgMoaxAHKE7GUJz0UdYgjlGcjKE46aOsASEkIqs7AprlNYbiZAzFSR9lDQgh4Vk9IiCExADKGsQBipMxFCd9lDWIYxQnYyhO+ihrQAiJyOqOgGZ5jaE4GUNx0kdZA0JIeFaPCAghMYCyBnGA4mQMxUkfZQ3iGMXJGIqTPsoaEEIisrojoFleYyhOxlCc9FHWgBASntUjAkJIDKCsQRygOBlDcdJHWYM4RnEyhuKkj7IGhJCIrO4IaJbXGIqTMRQnfZQ1IISEZ/WIgBASAyhrEAcoTsZQnPRR1iCOUZyMoTjpo6wBISQiqzsCmuU1huJkDMVJH2UNCCHhWT0iIITEAMoaxAGKkzEUJ32UNYhjFCdjKE76KGtACInI6o6AZnmNoTgZQ3HSR1kDQkh4Vo8ICCExgLIGcYDiZAzFSR9lDeIYxckYipM+yhoQQiKyuiOgWV5jKE7GUJz0UdaAEBKe1SMCQkgMoKxBHKA4GUNx0kdZgzhGcTKG4qSPsgaEkIis7gholtcYipMxFCd9lDUghIRn9YiAEBIDKGsQByhOxlCc9FHWII5RnIyhOOmjrAEhJCKrOwKa5TWG4mQMxUkfZQ0IIeFZPSIghMQAyhrEAYqTMRQnfZQ1iGMUJ2MoTvooa0AIicjqjoBmeY2hOBlDcdJHWQNCSHhWjwgIITGAsgZxgOJkDMVJH2UN4hjFyRiKkz7KGhBCIrK6I6BZXmMoTsZQnPRR1oAQEp7VIwJCSAygrEEcoDgZQ3HSR1mDOEZxMobipI+yBoSQiKzuCGiW1xiKkzEUJ32UNSCEhGf1iIAQEgMoaxAHKE7GUJz0UdYgjlGcjKE46aOsASEkIqs7AprlNYbiZAzFSR9lDQgh4Vk9IiCExADKGsQBipMxFCd9lDWIYxQnYyhO+ihrQAiJyOqOgGZ5jaE4GUNx0kdZA0JIeFaPCAghMYCyBnGA4mQMxUkfZQ3iGMXJGIqTPsoaEEIisrojoFleYyhOxlCc9FHWgBASntUjAkJIDKCsQRygOBlDcdJHWYM4RnEyhuKkj7IGhJCIrO4IaJbXGIqTMRQnfZQ1IISEZ/WIgBASAyhrEAcoTsZQnPRR1iCOUZyMoTjpo6wBISQiqzsCmuU1huJkDMVJH2UNCCHhWT0iIITEAMoaxAGKkzEUJ32UNYhjFCdjKE76KGtACInI6o6AZnmNoTgZQ3HSR1kDQkh4Vo8ICCExgLIGcYDiZAzFSR9lDeIYxckYipM+yhoQQiKyuiOgWV5jKE7GUJz0UdaAEBKe1SMCQkgMoKxBHKA4GUNx0kdZgzhGcTKG4qSPsgaEkIis7gholtcYipMxFCd9lDUghIRn9YiAEBIDKGsQByhOxlCc9FHWII5RnIyhOOmjrAEhJCKrOwKa5TWG4mQMxUkfZQ0IIeFZPSIghMQAyhrEAYqTMRQnfZQ1iGMUJ2MoTvooa0AIiYg6AkKI5R0BpXuMoTgZQ3HSR+lDQkh4Vo8ICCExgNKHcYDiZAzFSR+lD+MYxckYipM+Sh8SQiKyuiOgWV5jKE7GUJz0UdaAEBKe1SMCQkgMoKxBHKA4GUNx0kdZgzhGcTKG4qSPsgaEkIis7gholtcYipMxFCd9lDUghIRn9YiAEBIDKGsQByhOxlCc9FHWII5RnIyhOOmjrAEhJCKrOwKa5TWG4mQMxUkfZQ0IIeFZPSIghMQAyhrEAYqTMRQnfZQ1iGMUJ2MoTvooa0AIicjqjoBmeY2hOBlDcdJHWQNCSHhWjwgIITGAsgZxgOJkDMVJH2UN4hjFyRiKkz7KGhBCIrK6I6BZXmMoTsZQnPRR1oAQEp7VIwJCSAygrEEcoDgZQ3HSR1mDOEZxMobipI+yBoSQiKzuCGiW1xiKkzEUJ32UNSCEhGf1iIAQEgMoaxAHKE7GUJz0UdYgjlGcjKE46aOsASEkIqs7AprlNYbiZAzFSR9lDQgh4Vk9IiCExADKGsQBipMxFCd9lDWIYxQnYyhO+ihrQAiJyOqOgGZ5jaE4GUNx0kdZA0JIeFaPCAghMYCyBnGA4mQMxUkfZQ3iGMXJGIqTPsoaEEIisrojoFleYyhOxlCc9FHWgBASntUjAkJIDKCsQRygOBlDcdJHWYM4RnEyhuKkj7IGhJCIrO4IaJbXGIqTMRQnfZQ1IISEZ/WIgBASAyhrEAcoTsZQnPRR1iCOUZyMoTjpo6wBISQiqzsCmuU1huJkDMVJH2UNCCHhWT0iIITEAMoaxAGKkzEUJ32UNYhjFCdjKE76KGtACInI6o6AZnmNoTgZQ3HSR1kDQkh4Vo8ICCExgLIGcYDiZAzFSR9lDeIYxckYipM+yhoQQiKyuiOgWV5jKE7GUJz0UdaAEBKe1SMCQkgMoKxBHKA4GUNx0kdZgzhGcTKG4qSPsgaEkIis7gholtcYipMxFCd9lDUghIRn9YiAEBIDKGsQByhOxlCc9FHWII5RnIyhOOmjrAEhJCKrOwKa5TWG4mQMxUkfZQ0IIeFZPSIghMQAyhrEAYqTMRQnfZQ1iGMUJ2MoTvooa0AIicjqjoBmeY2hOBlDcdIXPkacc9P/A+AEcI3NZnvE7Xbvstls/YIgyIIgyDabrc/tdm8XRfEhAB8GYBtnHasAPO90OpudTqciiiIXBIGLosidTqfqcrmOAXgJwIfHWb4E4PeCIDS63W7FbrfzkTokSeIul0uz2Ww9AN4EMHucdSwGsNFut3tdLpcmSdLJ12C327nb7Q4xxuoA/BwnbuvGUce3ABx0uVxBh8PBT42Ty+XiDodjEMB2AB8cZ/kZAF6SJOm42+1WbTYbFwSBC4LAbTYbd7vdiiiKbQCeA5AUo20tALhYEITvu93u9+x2e48oikFBEEKSJA263e79drv9NwBuApA8GZ8hs/8zdY6AMVZgs9m+BOBTOTk5WllZWVJeXh7Lzs6G0+kEAPh8PrS1taGpqUmrqqoa7Ojo0DjnjymK8ivOebtO+QzAd5xO512apqWUl5ejqKgIeXl5mDJlCiRJgqqq6O3tRXNzMxobG1FZWQkAfr/f/zsAX+Och3TqKBcEYZ0kSbNTUlJQXl6O6dOnIzc3FwkJCWCMQZZltLe3o7m5GYcOHcLRo0chCEK/LMvf5Jz/2kCcvuVwOL6pqqp79uzZmDlzJvLy8pCZmQm73Q5N0zAwMICWlhY0NjZi79698Pl8CAaDlQCu5pzX65TvAfBPp9O5SpIktmDBAhQUFCA3NxcpKSkQRRGhUAidnZ1obm5GXV0dqqqqIIqiHAgEfs85/7yB13CNzWb7NYCMnJwclJWVIS8vDxHaGlVVVejo6ADnvEVRlNs452/plD8ZbZ0qCMJnJEm6KyUlxTV//nx3Xl6eGKGt+eHDh4fq6upEURSfDQaDP+OcV+nFKVaZ0hEwxkRJku5ijH1v+fLl4sqVK+1Tp0419Lft7e147733gjt37lQURfky5/yPPMxFMsYWOZ3ON91ut+eSSy5BRUUF7Ha7bvmqqmL//v14/fXX0d3dHQgGg1dxzl+N8DrW22y2q+fMmYPzzz8f+fn5GH4/js7r9WLLli3YsGEDNE07FgqF5nLOu8OUX2i323eLoui58MILce655yIxMVG3fM456urq8Pbbb6O2thayLD/OOf9chNfwLYfD8cC0adNw8cUXo7S0FIKgf0cYCASwY8cOvPHGGwgOW8053x6mfIcoipWCIJQuW7YMq1atwhjbGjt37kQoFNoCYOVE2vrVV1/FpZdeevL/H2NbX2mz2f48Z84cx/nnn+8aS1tv3bpVeffdd0Oapv06FAp9m3MeNBQACzDG7uOc33fWz6PdETDGchwOx78zMzOLb7nlloT09PRxldPW1oYnnnhiqK+vb3cgEPjoqR8kURQfEUXxSxdccAE+8IEPQBTFMZevaRo2b96Ml19+GZqmvRgKhT56ymvIdTgcR5xOp/OWW27BjBkzxvUa+vv78be//Q11dXWQZflOzvljp9Rxn91uv3fOnDm49tpr4Xa7x1VHdXU1nnnmGYRCIa8sy9M55wMnymc2m61BEITp11xzDRYvXmzojX0mWZbxr3/9C1u3bkUoFHqCc37bKa/hgw6H45XMzEx2yy23YIJtDa/XqwaDwXM55ztH/m0sbf3lL38ZjzzyyFk/12lrt9PpfMrhcHzwlltucU+wrX1Hjx7tDAaDl3HOq8dVkMkiZQ2i2hGc+IbbduGFF6ZdfPHFkpFvntGoqoqXXnpJ3rp1a5ssy8s458ckSXrO6XRed8cddyA3N3fC19zV1YXHHnsMg4ODO2RZPgfADIfDcaikpERYu3atoVHGaDjn2L59O1544QWc+LZ4kDH2K5vNdudNN92E+fPnT/g1+P1+/OlPf0JTU1MoGAxOA9DncDh60tLSkm6//XakpKRMuI66ujr8/ve/RzAYfFXTtMsYY9fZ7fbnLrzwQlx88cWGRhmjUVUV//znP7Ft2zbIsryGc/7uWNs6UkcwIkxbJzocjrdLSkrmrl271hmltuYvvPDCQCgUuoBzvmtCBZrA9I6AMZZlt9srr7jiioxVq1ZFNRvxyiuvhDZs2NAYDAY3JSQk3HbXXXdhypQpUSt/cHAQDz/8MPr6+t4TRXHlvHnzhI997GMTfnOfat++fXjqqacQCoVettvtV3z605/GzJkzo1a+qqr4wx/+gKNHj8qapg1kZGRM+cIXvnDy/jwa2tra8OijjyIQCLxpt9sv+tCHPoTzzjsvauUDwL///W9s2LABsiyvS0hIuG4sbX3mrUE4I23d39//jiAIrvLy8gU33nij04S27g+FQudwzg9GreAoMPXWgDHGHA7HWytXrlx5xRVX2CZc4Bk45/jrX/8a2rt3r+2uu+5CVlZWtKtAX18fHnzwQUyfPh2f+9znotoJjNi0aRNefvll3HDDDaioqIh6+Yqi4MEHH4SiKLjnnnvGfbsxmvr6ejz22GNYunQprr322qiXf6KtsXfvXpjZ1j/60Y+QmJgo33PPPXYz2nrz5s38pZdeOhIMBufqTVLGgmhF4Obk5OSll156adQ7AQBgjOGaa66xuVwu9PT0mFEFBgYGIEkSbr75ZlM6AQBYsWIF8vLy0NnZaUr5wWAQiqLgtttuM6UTAIDCwkKsXLkSXq8X0Z5fAk62NRwOB/bs2RP18gEgJSUFN9xwA/r7++1+v9+UOpYvX85yc3NzJEn6likVRNmE3/GMsUSbzfarW2+9NUGSpGhcU1gOhwNr167F888/D1VVo17+888/j4985CNRuZ+OhDGGtWvXYsOGDaZ0aK+++ioWLFgw7slNoy6//HJ0d3ejutqc+TCHw4Gbb74Zb7/9NmRZNvx3r74aNiEQ1vz58zFr1iz85S9/GccV6mOM4aabbkoQBOHrjLF8UyoZh0jPGkTjq29tcXGxEI2JOz2zZs1CamoqDhw4ENVym5qaMDAwgCVLlkS13HBSU1OxaNEibN26NarlBgIB7Nq1CxdddFFUyw1HkiRceOGF2Lhxo2l1zJo1CxkZGWP6cL/22mtjquOyyy5DY2PjmDqbsUhNTcXSpUsFm80WNrVrkXvD/XBCHQFjjDmdzrvPP//8hImUMxYrVqzA5s2bo1rmpk2bsHz5ctNuCc60YsUKbNu2DYqiRK3MHTt2YPbs2aaOaE61YMECtLS0mHabAwBr1qzB7t27TSt/2rRpyMrKwiuvvGJaHatWrXIAuJ0x5jCtkiiY6Dt/tiiKGdGc/dYzf/58NDU1YXBwMCrlaZqGffv24ZxzzolKeUZkZmYiPT0dtbW1UStzz549WLp0adTK02Oz2bBw4ULT7uOB4bb2+Xzo6Ogw9PuXXHLJmOtYuXIl9u/fP+a/MyozMxMZGRkAsNq0SsYm7LMGE+0IFhcUFGiT9U0KDA9Lc3Nz0dLSEpXyOjs7kZCQgKSkpKiUZ1RBQQGam5ujUpamaWhpaUFBQUFUyjMqPz8/aq8hHEmSkJWVhX379hn6fb3UYTgFBQVR+1KJpLi42MUYW2xqJQaFSx0CE+wIbDbbssLCQv01sVGWl5cXtTdgc3Mz8vLyolLWWOTm5kbtNRw/fhyJiYmmZQoiiWY7RFJUVBTVkdOZ0tPToaqqqbc406dPt7lcrvNNqyAKJtQR2O32eZmZmZO+EURGRkbUGq6zs3Nk6DapMjMz0dXVFZWyurq6kJmZGZWyxiI9PR19fX2mZHFGZGVloa+vz9DvjmVicYQgCEhLSzO1s8nMzATnfPLun0dhVtbAabOZsnRgVHa7HaFQdNZoKIoCK16DzWaL+9cgCAIkSYra6wjHbrcb7mjGmjU4tY5g0LznhGw2Gzjn0VviOTHRzxoAUDRNm2ARY6eq6rgeNApHEARTFsbo0TQtqq/BinYAovs6wlFV1fRsjqZpMHMNjKZpYIxFL0VkgglFWNO04wMDA9G6FsMGBwejdj+ckJCA/v7+qJQ1FgMDA3H/Gnw+38lRgVkGBgYMj3bGkzUAht9PHo9nXH9rxMDAABhjvaZVMDbRzxr4/f6NjY2Nk/7sdXNzc1SePASAnJycqGUgxqKlpSVqryE7Oxvt7e2m3quH09LSgpycnHE93mxUfX294TiNJ2vg8/kwNDSEkpKSMf+tUc3NzTwUCkV38cs4mZI1ALCrvr4+MMEyxiyaM/25ubloa2ub9A9RNDszl8uFlJQUHD9+PCrlGdXS0mJ6xqWpqQllZWWmld/S0oKEhARTRzX19fWDoVAouktJo2yiHcHOzs5Ou9FZ3Wg4duwYZFmO2iy5y+VCZmYmDh8+HJXyjJBlGYcPH47qMwHFxcVRX3qt58CBAyguLjat/GPHjiEQCBjuCMaTNdi3b9+4N1QxQpZlHDlyxAbgPdMqGQNTsgac80FRFNdt3bp10iZCNm/ejHPPPTeqE0jLly+P+rLl0ezZswfTp0+P6p4Ky5cvx5YtWyZt0rCtrQ3d3d2YM2eOaXVs3LgReXl5hr+tx5o1CAaDeP/99/GhD31oPJdnyJ49eyAIwvuc8wbTKhkbU7IGCAaDD7/33nuymSmkET6fD7t27cLy5cujWu7ChQtx9OjRqOX1R6NpGjZu3IiVK1dGtdy8vDwkJyebulz2VBs3bsSyZctMyxj4fD7s2LEDH/7wh00pHwB27tyJhIQEFBUVmVK+pml46623Bv1+/0OmVBBFE+4IOOd7NU3b8Morr5jzCNcp/vGPf2DBggVRn+F1OBxYs2YNnnvuOdNTiZs3b4YgCCgtLY162ZdeeilefPFFBALmTtvU19ejqqoq6p3ZqV544QWkp6cjP9/4E7xjyRr09/fjpZdeGtcEo1GbN2/WvF5vA4D/mFbJ2JnyrAEAIBAIfHzTpk2BhoaGaBQXVnV1Nfbt24fLL7/clPLXrFmDY8eOYcuWLaaUDwyvAHz55ZfxkY98xJTceElJCZKSkrB+/fqolz1ClmX85S9/wapVqwztuDwe1dXV2L9/Pz71qU+N6e+Mfqg55/jb3/6G5ORk0x7UOtHWwWAweC3nfHJnokdhVtZgpPCOUCj0yT/84Q8+r9cbjSJP09HRgSeffNKvadrQyy+/bMq39ttvvw2/36+++OKLqK8f9ZiAcfH5fPjd734HTdOUF1980ZRn4Kurq9HW1oa9e/dGfb8DYHio+9RTT8Hn86kbNmyAiW0NVVXl119/3ZS2fuONN1BXV6f09PT4TGzrIU3T7o21PQsjidrXEud8fSAQuP+RRx7xRXP3nWPHjuHRRx/1ybJ8ZygUml1ZWSmvX78+qpNib775Jt58801NUZRzQqHQX37zm9/g6NGjUSt/aGgIv/zlL+H1ensVRXF1dHT4H3/88agua62qqsKf//xnKIryg1AodNvf//53bNu2LWrlq6qKJ598EocPH9ZCoVB2IBA49PDDD0d1p6Vjx47hF7/4BWRZ3qiqatFY29pI1mCkrWVZPldV1at+85vf+E1o6yGv1/u0oig/jVrBUTJppyHbbLa7bDbbA2vXrnXNnTt33OVwzrFz506+fv36gCzLt2ua9iQAMMbyHQ5HzfTp011r166d0HyBz+fD888/j6qqKlWW5ZP76TPGfm+z2T512WWXYfXq1RMaxtfV1eHJJ5+E3+/vlGU5k3POGWNuu91+PDk5OeG2226b0HoCVVXx+uuv4+2330YoFHqAc/6dE6/h4zab7U9LlizBRz7yETgc498Xo6urC0888QSOHz+uBIPBQs55CwBIkrTfbrfPXbt2LaLQ1li/fj1kWX5H07QLTryGMbX1aNuZj9LWF9tstn9cfvnlzvPOO0+MQlv7/H7/72VZ/kq4w1qsNinnGpxS2Xl2u/3ZsrIyz5VXXuka64e1q6sLzz//vK+hoeHYiXus07apYYwl2Gy21wRBWHHllVdiyZIlY1oQomka9u/fj+eeew6KohyUZfl8zvlpu18wxm5yOp1PpKenCzfeeCNycnLG9BoGBwfxn//8B9u3b0coFHqBc37NGeUzAG/ZbLY1q1evxoUXXgiXyzWmOhoaGvDMM8+gv79fCQaDH+Gcn7bVDmOswuFwbHY4HK4bb7wRJSUlY1oFKMsyNm/ejFdffRWKolRpmrbozFN8GGMP2+32L5eVleHKK68cc8d8oq3R0NCAYDD4Lc75D84o33Bbh+sIDLZ1sdPpfG7q1Kmzb7jhhoRxtnVw+/bt/lAo9HHO+YtjKmASTWpHcKLCBLvd/qCmaZ+ZNWuWdt555yUUFRVFPDAkEAigtrYW77777mBjYyMYY7+QZfl+znnEm2nG2PVOp/OPABJWrlyJJUuWYOrUqWG/wTnn6OnpQWVlJTZs2IBQKCQHAoG7OeePjFK+JIriTkEQ5mdmZmLNmjUoKSlBQkL4ndkURUFTUxM2btyI/fv3QxTFwWAwuObUk3vC1PEBp9P5T1VVnQsXLsTy5cuRm5sbMS03ODiIqqoqvP322+jt7UUoFNrIOV892rcPY+xvDofjBpfLhTVr1mD+/PlISUkJ2ylomoZjx45h27Zt2L59OxhjSiAQ+Azn/M+jlJ9vt9t3aJo2debMmVi9ejUMtjUaGxsBoDkUCpVzzr2j1KHb1iPnGoyzrQVRFL8gCMK9mZmZ0po1a5IMtrVv//79oiiK64PB4JfCHW0XSybtyLMwFScBWOtyub4YDAaLU1JSAnl5eczlcokAMDQ0pDQ3N2NgYMDpcDiq/X7/IwCe45wb3meaMXaF3W5/CMOnELOsrCyekZHBRh5X7u7u5q2trYxzDkEQmoPB4Hc450+M8TU85XK5PiTLsuhyuZCXl4ekpCQIggC/339ygY3dbocsy4c0Tbs13FmBo9RxoSiKf7TZbPmyLGPq1KnIzs6Gw+GAqqro6+tDS0sLgsEg7Ha74vf71wH4hNFz9k6MQH7udDrvUBTFIUkScnJykJqaCkmSIMsyOjo60NHRAVEUoWna8VAodBfn/JkxvIZiAM+4XK4lwWCQpaSkIC8v7+RIZ2hoCCfaGg6Hg/v9/o0AbtA77PaMOsxuaxuAD7tcrv8ny/JCl8sVysvL40lJSaIgCCwQCKitra1ad3e32263N8uy/FtN0/7IOTd/EYqJTO8ITquMMTuAuSf+SwTAAQwA2AegJhoHQTDGZgG4BkAJho9jDwKoB/APznllFMp3ALgFwFUA0jB8XPoQgI0AHh+5f55gHcUAPgdgKQA3gBCA4xg+SvxZzvmEVnKe6BQ+DOBmAHkAbAD8APYDeIxzbmxvsNHr8GD4NVwEIBmABqAfwCsAfj9yRuME6zC7rUUAMwEsAOABIALwAagBsI9z7ptoHbFiUjuCsyqPMEwhp6M4GUNx0mfZrcFoIk1ckNNRnIyhOOmLFKPJ236YEBKzrO4Iwq57JmehOBlDcdIXNkaW3hoQQmKD1SMCQkgMsLQjiLTumZyO4mQMxUnfpD1rMBY0y2sMxckYipM+yhoQQiKyuiOgWV5jKE7GUJz0UdaAEBKe1SMCQkgMoKxBHKA4GUNx0kdZgzhGcTKG4qSPsgaEkIis7gholtcYipMxFCd9lDUghIRn9YiAEBIDzDsL2oB421GGMZYKYCGACiawNMEuJAKQNEUb5AofwPAWVjsBNI5nK2vGmABgBoBFAGYxiSUJNiGBK3yRpmpvQkMngEoAlZzz/nG+hikY3mbtIjBME2xCEhOYXVM1Hw/xIQCHAPwbwKvj3TqOMZYNYDGAuUxiyYIkJAHgWkgb5Cr3AtgLYBfnfFznuDPGXAA+BOBSAEXMxpIESXCqQTUNHIfB0QLgdQAvcs7HdVS3ZW2tcUULaQPRaOsI9dIORWPFGEsEw8dsSbaPcoUv1EJaatKMJF/a/DSXM91pFxwCGGPQZA2hwZDmrfIOemu8khpUuegSq1S/+oYma3/knEc8TocxViI4hE+KTvEC1aeWSgmS5inzqJ5ST5KUIDHBJoBrHJqswX/MH+je2x0cbBh0iw6xi4lsZ6g/tB7AOs552AMPT+yxeL+UKH0MwDQ1oIrubDfS5qchIS8Bol0Ekxi0kAbVr6LvUB/vreplsleG5JaCWkg7ovrVhzjnT43yGrKYxD4uJUiXakGtnAnMkTw7OZg2Ly3BlmyTRMfwjsxqQIXslZWefT1D/Uf6nWAYEuzCXmVQeZmr/MlIOwCf2GPxc6JL/IJgEwoVn2J3THEgbW4akoqTIDklMBvDgZ8eQMntJRhsHETP/h74j/khuSSFa7xZGVL+DOAHPMLxY/8LbW3EpG9nbkSsdgSMsTLRJX6Zq/ym9MXpWu5luQmpZalIzE8EE/UvN9AZgLfGi+NbjsuN/2zUBEnYHhoIPQTgNc65OrJTri3JdjfnfG7B1QXS1KVTbZ5SDxxp+geRaIqGgfoBeKu8aHq5abD3QC8YY39QA+ovOedHT7yG+YJNeJSJbFVifiIruLoAqXNTkVScBNGuf4Kx3C+j72Afund14+i6o+AhLocGQ08AuJtz3nviw7lKSpS+qoW0i3M+kINp509zeko9cE1z6Z6fwDmHr8UHb7UXrW+1+o69e0wQbMI/lSHlZ5zzHSdewzQAP5USpOukBEkquqEIafPTkFKSAluC7awyX1zwIq7cc+XJ/18NqOg73Ife/b2oX1cPf6df04Laa1zlX+Sc156oI+7beixitSOIqVsDxtg8KVH6A4B5RdcX2QquLZDcWe4Jlan4FbS+1oojTxwZ8B/z+9WA+opgFz6SVJQkzbx1ZlL2hdkQbBObqhlsGkT9c/Vyw98bNDDsY4zla4qWmfvBXMz42AykzE6ZUPlc5ejY3IEjTxxB74FeQMM+ZmPJ9mR7evEtxQl5H8pj9uTwZxgYFewJovHFRrXu6bqAElBauco1cJRMXToVxTcXI31pum7nUvN4DUrvCH/KNOccvQd6Ufd0HdrfaQcTWTMEdDPGZsdrWzORbVUGlU9zzuuM/n1M3hrECsaYTbAL32Qiu3vuXXOd+Vfms4k2WDjde7qx+zu74cpyYfEPFsM51Rm1sjnnaH65Gft/sh/Tr5yOks+UwJZ09rfmRA02DaLye5UIdAaw5KEl8JR4olp+9+5u7LxnJ1Jmp6D8m+WY6IcznGBvENWPVqP9nXZU3FuBaWumRb0OM9saGB7tHH32qHrwNweDmqJ9kyv8l5zzcR8I+n++I2CMzZPc0vMpJSm5ix5clOCeFv033qlUWcWh3x9Cw/oGzPvqPOReljumY8jCCXQHsPfBvRhsGMTC+xcidW5qlK42PM45mv7ZhKpfVKHohiLM+sSsCX/TqQEVNY/VoPmVZpTfXY6ci8d27Nh4dO7oROV9lZhSMQXzvj4PEx3VnMmMtj7TQMMAdt69c2ioZeigMqRcP5bRwan+T98aMIFdIzrFJ+Z9bZ4r/6P5LNqNNBpvtRe7v7sbqfNSseDbCwzdj4Yt56AX276wDXlX5KHksyUYmZibDP4OPyrvr4TqV3HuL84d9wgk0B3A1s9tRcL0BMy/Z76he+dwRrs1iETxKah6pAodmzqw/PHlSMxPHFfdo4lWW0fCVY7ap2vVg48fDKgB9UrO+ZuRfjcmbw2snCwUJOGTklv65Yrfr3BFe3hrlOJTsP0r22FLsmHxDxeP+Vu1u7Ib2+/ajgXfXoDsC7NNusrRcY1j30P70LOnB8sfWz7mD7Gv3YfNn92MvMvyMPuzsyf0jXnmZOFYNPy9AQcfP4hlv16GlFkTm1MJZ6JtbUTX7i5s/fxWv+pT13LO/xHud+hZg1MIonCzLcn26OqnV1vWCQCA5JZw7i/PhRbSsOtbu8BV451y74FebL9rOxY/uNiyTgAAmMBQfnc5MpdnYssdWyD3Rzyz9iyBzgA2f2YzCq8tRMntYzupOdoKrirA3K/OxZbPbcFA/YRPYzvLRNraqPSF6Vj1x1UuKUF6hjF22Vj+1uqOYNLXhjPGLhfd4m9X/nGl24xh4FiJdhFLHlqCoDeIvT/ca+hvBhoGsO1L21BxXwUylmeYfIX6GGMo/UIppiycgm1f3AZVDpuqP01oMIQtd2xB3hV5KL65OCrXMfuzsyf097mX5KLsC2XYcscW+DsMn8Fr2Hjaeqw8pR4sf3y5S3SJzzPGlof5FXrWgDGWITrFI8sfX548pWKK1ZdzmtBQCO/e+C7mfGnOqN/wmqLhvVvfw/QPT0fR9UWTeIX6uMax/a7tSJ6RjLIvlI36u5X3V4KrHBX3VVg6Egin5vEa9O7vxbJfLzPl2oy29US0b2jHzm/sPK761Rmc80G937d6RDCppATpT4XXFjpjrRMAAFuCDQu/txB7f7gXwd7IJ53XPlkLW6INhdcVTuLVGcMEhgXfXoDGfzSit6o34u8d33Icx7cex7yvzYu5TgAAZn9qNoK9QTS+2GhK+UbbeiKmrZ6GaWumJYlu8RdGfv//zA5FjLHrbMm280s/XxrdHFEUTamYgtwP5mLfj8OfSt5f24/ap2pRcW/sfYuOcKY7Mferc7H7u7vD3iKEBkKo/H4lKr5TAVtidNc51DxeE5VyBJuAhfcvRPWj1fAdM+fkc722jobyb5S7RJt4A2PsgpGfRfrMWT0iuHcyKmGMpYtO8fdLHlqSMJnptfEovbMU3mov2t5uO+3nXOXYfe9ulN5ZCne2uWsdJir30lwkTk/Eod8dOuvfqh6pQsayDFPmNg799uz6xitlZgpmfGwG9nx/T9TKPFOkto4We7IdCx9Y6BZd4t8YYwknfhz2M2d1RzApBJvw+eyLs+1p89KsvhRdkkvCvK/Nw6HfHsKp8zcdWzrANY6CqwusuziDGGMo/0Y56tfVIzT43wcY/R1+tL7RirlfmWvh1Rk387aZGGwYHF5WbYJIbR1NWauyMKViSgIYbh7t9/7nOwLGmMRE9sXim4qju8bTRJkrMqH4FPTu/+8bsH5dPYquL4rZW4IzuTJdyDg3A83/aj75s4YXGpB7aa4pS5/NINgEFF5TiPp1ER8onLBwbR1tM2+dmSC5pa+PtmLO6o5gMtKHVyTmJ0oTffBmMjGBoeDagpNvwKHWIfTu70XOJeYvu42mwuuGP0Scc2ghDY3/aEThteZNck40fRjO9Cuno/2ddshe4+sjxuLMtjZD+tJ02BJtUwGsQITPnKUdwWQsL7Yl2e4uvrU4yex6oi3/I/k4tuEYgr1BNKxvQN4VeZBclu4jM2ZTFg1nZ7p3daP9nXYkTE9AcnGyafWNdXmxEY5UB7JWZ6HxJXMyCMDpbW0GxhiKbyl2S4nSVyN95qweEZiKMZarKdr87IusW3k3XvYUO7JWZ6HlPy1oerkJhdfEXrpQD2MMBVcXoOmlprh9DQBQcHUBml9q1v/FcRpp69bXWk2rI++KPEELapcyxsKuovtfTx8uTZ2TKhvZiCMWTVk0Bd27hjftSZieoPPbsWnKoino2d+D3gO9J0cIZolW+vBMqXNTMdQyBMWnmFI+MBwnsyYlgeEMgjvX7QfwaLh/t3pEYGr6kNnY0ikVU6xfRzxOnlIPvDVeeEo9cTNJeKbkGcnwtfnABAZXhsvUuqKZPjyVYBOQNCMJfYfGtf2hIZ5SD7zVXtPKB4ApC6Y4AHw83L9Z3RGYSnJL53nmeOL2NSbPSEagM2DqfbXZBJsAZ4ZzwrskWc1TZu4HdaTDNHPUkTov1Sm6wo+Orf6QmJY1YIwxNaDO85R6zKrCdIJNQEJuQtyk2yKxJdmQOsfczVIAc7IGIzxlHvRWmzd0n5RRR5kHTGBhd0T+X84aeMBhd2bEzfKBsJKKkkxbbDJZmMCQNMP8xI0ZWYMRSYVJGGocMq38kToGG3WfDxp/+UVJUHxK7E0Wmswl2AU1Xu+tR0gJEhDf/QCgAZGGpPFCckmGHq+ecB0B8+o4MWnOGGNn5aH/l7MGTsEmmNtyk0BySaZsYjGZuMYh2szvCMzKGgCA4BBM/ZACgOAUoAZNrkMSOICzZm2tHhGYmTVQuBZ7ZyaMlRbSwIQ4fxlsuDMwm1lZAwDgCocgmftxmZQ6NC4AOOsEK6s7AjMFtJAW3+NRAEpAiftWYgIzfVhtNk3WIDjMbQg1qJpaB+d8ZHR51hJGq99iZj5r4NVkTTR7OGe2QEcADPE/IggcH/cpXYaZmTUIdAXg8Ixvd+Ux1ZFqXh3BriAEuxAKd1bj/2zWgHMuSy6pue+IeemYydBf2w9NGfe5FTFBDaij7lgULWZmDbzVXqSUmrsWoq+mDykl5tXhrfFCdIm7w/2b1SMCU3HOt5m9WstMgc4AtJCGoTZz01ZmC3YF0XcwvjvkkRWeZgl0BqDKqqmbzvRW9WqqT30v3L/9L2cNoAwqm3r29Ziz19Qk8NZ4kVycjL6a+P0QBToD0DQNQ81Dps+Im5k18FZ74SnzmFd+jRepZammLiXv3t09qIW0/HD/ZvWIwOytynb17O0xb82myXqrepG2IA1DTUNQ/PH5MnqrezFyunDfYXM7NLOyBv7j/sn4tjZ1xME5R9/BPgnAdeH+3eqOwGyVwa6g1l8XdlVlTOOco/W1VmStzsKUiilof7vd6ksal9b/tCJzZSYyV2Si9T/mPWZrptbXWpG5ItO0b+uRts5Yad4ZFd27usE13hPp363uCEzdoYhzHuIaf/zo346as+ODibp2dEGQBEypmDK8089z5u1gY5ZgTxAdmzow/cPTUXBNAZr+1WTqyMaMrAHXOOrX1Zu6ffypbW2W2qdrhxS/8hP8X92hSJO1x5r/1czNfKrLDCNvPsYYMldlwn/cD+9Br9WXNSaN/2hE9kXZw8/CZ7sxZcEUtPynxbT6zMgadG7rhOSWkDbfvI1vT21rMwQ6Azi+5bgADU/8n9yhCAA45y2CTXiv+d/NcbNO19/hR+f7nci9PBcAIEgCCq4uiKtRAVc56tef/k06MrKJp4eojq47auqH9My2NkPDCw2KIAnPc84jTtL8T2cNRoQGQj88+NuDvniZcDv8h8PIuzwPtoT/Pn6cf1U+2t5uw2CTeU+nRVPTy01wZbhOmwDLWJYB1a/i2IZjptQZ7ayBt9qLnr09yL3MvA9puLaOJtkro/bpWlnxKT8D/o8fcMI5f1f1q69VPVwV83MFne934th7x1ByR8lpP3dOcWL2p2aj8r7KSVm3PxH+Dj+qflGF+d+cf9rPmcAw/9vzsfcHe8d0arJR0cwaqLKK3d/djXlfnWfaprGR2jqa9nx/j5+r/C+c85Ejlf7vHnACAMqQ8umml5r8Xbu6rL6UiBSfgsrvVWL+t+bDnnz2yWwzPjYDXOM4+uxRC67OGM45Ku+vRNENRWF3JZq6ZCqmXTAN+x/ab8HVGXfod4fgznWbNhrQa+toaHu7DR1bOnpUv/o1vd+dtP2xTxyuUAhgLoBEDD8K+RJj7GMA+gHsBdASbh30GOpwAigHkH+ifAcAGYAfQJsaUD+78xs7/3zRSxe5x9vLB7oC6DvUh1B/CGpQHX7E1iFCdIlIKkxCYn7iuJ8WrHqkClMqpsCd7UbbW21QAyrUoAomMIhOEXaPHfO+Og9bP78VmSszkTh9fNsxhgZC6DvUh0B3AGpAHX7qzSFAdIhIyB3eclywje87oumfTQh2B5FzSQ7a322H4lOGXwNjEOzC8AGuNxRi2+e3oX1DO6atnjauesKJVtagt6oXjX9vxJrn1pg2N1D1SBWmLJyCrPOyTCk/2BtE5b2VftWvXs85P3VR3eQei35i84NLBLuwRnSJ56l+dY7oFJE8MzlkT7YLolMUAEDxK5rcJ2v9R/rtWkhTRKe4X/Wp72kh7S0Ab3POIy60Z4xlAviolCidxxg7V/Eree4sty+xIBGiSxREuyiosqqpAZX7Wn3aYNOgW3SISvqSdPs5PztHZOLojcw5R8/eHnRu74S3xgtvtRdqQEVKSQocaY7hjR7Y8JNpik9Bf20/ZK+MlJIUeEo9SCtPQ9bqLBg5b7H5383Y+4O90FQNrgwXkoqSILklCHYBXOXQZO1kJ8REBucUJ8574jxD25gNNAzg2IZjJ19DoDOAlJkpcGW5INgFCDYBqqxCDagYbBiEr9WHpKIkeMo88MzxIPuCbNhT9L+1vNVebPrUJoANb6iSMisFtkTbySfq1KCKUP9wJzTSwZ335HlIKoidYycC3QFsvG0jSu4oQd5leabU0fxKM6ofrcaadWtMGQ2osootd2zxeWu8f1aGlM8b+ZuodwSMsSzBJnyWSeyLCbkJtuyLshM8ZR7BU+aBc0rkbcM45wgcDwy/Wau8WstrLUPBruCQGlR/zlX+J85594nyGYCVUqL0/7SQdsm01dO09MXpbk+pB8mzkkf90GkhDb01vdjzvT1InZca8VRhxaeg+ZVm1K+rhxpQkX1h9vCHoswDd7Z71G8JuU8efg01XnRu60Tf4T7kX5mPgmsKkJATfkvyY+8dw65v78Kcu+Yg58KcUT/cXOMYbBrE/of2IzQQworfrQh7D6spGo5tOIb6dfXor+1H9kXZSJ2TCk+ZB0mFSRitE1T8CvoO9cFb40VPZQ+Obz2OaRdMQ9H1RRGX2Q4cHcDGT2xEwTUFKLqxyFBbH/7zYbS92YbVT62Ge5r1B7vK/TI2fWoTsi/MRslnzblvP/beMVR+rxIrfrvClE1pucqx/a7t/q4dXRsUn3IF59zQDHnUOgLG2EwpUfqZFtIuzv1gLopuLHJ6SjzjLo9zjt79vah7us7X/m67INiEfypDymYpUfqKlCBlzLxlpjvvijw2nh41NBTCltu3IHlWMhZ8c8HJD4XslXHwtwfR/O9mpC9OR+F1hZi6dOqENgYZbBxE/fp6NL/cjNR5qSi5veS0jTzb3mrDngf2YNmjy5A6z/gGn1zj2P3d3fC1+XDuo+eePGJcC2mofaoWR589Cne2G4XXFSL7omxM5GyHYE8QjS82ov75ejjSHJj9qdmYtua/Q/q+Q33Y+vmtKPtSGaZ/aPqYyq57pg51z9Rh+W+Wj/tWZ0TN4zXjXksQ7Aliyx1bkL40HXPvmmvKLcF429ooVVax46s7/F27unYpQ8pFnPOzJscZY/eFW0sw4Y6AMSYyG/uyIArfn/3Z2Y7CawqFaO+6G+wJovbpWn70r0dZwbUFmPOVORCEic1zhoZC2P7l7bCn2FFxXwW6dnRh7w/2YtqF0zDztplwZ0X3G0rxK2j5dwtqHqtB/kfzMeszs9D0YhMO/f4Qlv1y2bjWmXONY9+P9qFnfw/O+dk5kPtk7P7ubrimuVB2Z1nUtxDnKsexjcdQ9XAVUkpTUH53OfoO9mHXt3ah/J5y5Fw8vrMZG9Y34OBvD2LpT5dOaOHOiwtexJV7rhzz3w0cHcD2r2xHziU5KLmjJOqdAOfDqxMn0tZ6gj1BvP/V9319B/veU3zKleE6AQBgjHHOz965a0IdAWNslpQgPZdYkDhz8Q8XJ0y0R9fTd7gPu+/dDUeqAwu+u2DCH1Y1qGLP9/fg2MZjsCXYsPCBhUhfmB6lqw0v0BXAnu/vQc/eHthT7Tj3kXORmD/+uHHOcfjPh3H4j4chiALmfW0e8j6UZ+pTbIpfQc2va9D4YiMEScCSh5Zg6tKpEyqz/Z127HlgD/I+lIfSz5Uamlc501g7Aq5y1D5ZiyNPHEHZF8tQcFXBmOvU42v3Yc/9eyD3yVj8w8UTautIWt9oReX3Kv1c5b9T/epXR7sdiHpHwAR2vegQ/1T2hTJn0Y1FwmTtq6eFNBz5yxHU/bUOix5YhMwVmeMuq7eqF9u/vB3ZF2Wj7Itlk3bIKOccLa+24MBPD2DmJ2ai+KbicZcV6Axg6xe2wpnuxILvLjD9NKFTdVd2Y/e9u5G+KB3zvzV/wvvtBXuC2PuDveiv68fC+xcibd7YRgdjuTUYqB/A7u/shugSUXFfRcT5m/HinKPx742o/lU1ZnxsBmbeNnPcmZhIgj1BVN5f6et8v7NH9anXcc636v1NVG8NBJtwu+SWfr7yDytdKbOsOcGme0833r/rfZR/oxw5Hxj7kLRrZxfe/9r7WPCdBci+wJpDUn3tPmy5fcu4h6RDrUPYcvsWTP/wdMz61CxLjkVT/Arev+t9iC4Ri3+0eEJzESNaX2vFvof2Yeo5U1F0fRFSy6P3nH7fkT7UP1ePlldaAAmYectMFFxVAEdadLYI00Ia2t5uw+E/HvYNtQzZEvISQqV3lLqzVmWNOkE7Fv4OP+qfr1eO/u2ozDX+R9Wv3s0590+kzDF3BIJN+Kw92f7zVX9Z5Tb7VkCP96AXWz+/dbgzuMh4Z9Bd2Y3td23Hkh8twdRzJjaknahgTxCbb9+MrNVZKLuzzPDf+dp92PiJjZh560wU3VBk4hXqU2UVO+/ZCa5wLP3p0qh888n9Mpr+2YT6dfWQ3BIKritA3mXjOxpeC2loe7MN9evqMdQyhIKrC5B/VT6CXUEcXXcUbW+2IWtVFgqvK0TagrRxdTq+Yz40PN+gHH3uaIgxVhUaCP0YwCsArrYl2e5mEiuc8bEZjvyr8sXRMiqRcM7Rub0TtU/VDnXt6BKYxJ5RfeojnPOqMRcWxpg6Aiaw62xJtr+sfnq1y+pOYIT3oBdb7tiCxQ8uRsZy/ee5T/7+DxYjY5l5z3+PRbAniI0fH069Fd+sf5sw1t+fDFpIw/Yvb4ctxYZFDy6K2jc41zg6t3Xi6Lqj6NzWCVeWC+mL0uGZ64Gn1IPE/ESIdhFMZKh5rAYzPz4TvjbfyTUTfTV96DvUB89cDwqvK8S01dPO6qjkPhlNLzWh/vl6yH0ykoqStPRF6Uidmyp4Sj2wp9pP/g1XOBS/gv4j/fBWe9G9p3uwd38vl72yxET2tOpXH+GcV5/5OhhjC6UE6SuarF3rSHfIaeVpQtqCtARPqQfJM5IhukQIkgDO/7tm5EQqXemu7B7qO9TnYAJrV3zKQ+B4hnM+MJ54TvjWgDFWJDrF/ec9cZ471g607NrVhR1f34ELnr9g1CGe4lfwzvXvoOR28xaLjJfvmA8b1m7AOQ+fg7TyyPfGnHNs/8p2JE5PxNy75k7iFepT/Ao2fXIT8q/KR+E10X9+X/EpaPxnI6p/WY3MFZkYqBuAr813cnESVzlEpwjnVCc8pcMdhafMg5TSFEMLdzjn8LX7sOubu2Rvtfew6BL7taA2V5O1BK5xEQwcABckQRZdYr0W0raofnUzgF0AajjnZ50XcCbGmB3Dq2sXS25pBRPZMsWvTOcqH75ADsZEpgg2YVBwCPuUQWUDV/kOALs4520Tid+J+sc/WcgYE6QEafvsz8yumHnrzJg8K6DqkSoMtQxhyU+WRPw22v/T/Qh0BbDkR0sm+eqMaX2tFTW/qcGaZ9dEnDVv/nczjvz5CFb/dXVU7sejrb+uH5s+tQmrn14d9Qm4EWe2NeccXOF4aclL40ofnik0GMIbV7zhk3vlj3LOXweGPwMABKMLdMaDMWYDoI62mjYKdYTtCAzdzDGJfT4hN6G0+Kbi2HvnnVByRwkGjg6g9fXw22F1V3aj9bVWlN9dPslXZlzOJTlInpGMmsfCP04b6ArgwM8OYOH9C2OyEwCGj/cuvrkYe+7fY9q+A2e2NWMMgk2I2rMGtkQbFj+42C26xGcYYykAwDnXzOwETtQRMrMTOGF8OxQxxooESfjh4h8vTojWrKcZRIeIiu9VYP9D+xHsOX0theJXsPve3Si/p9zUAySiYf4356P5X83o2Xf69nKcc+x5YA/yr8o3dTfdaCi+pRjKkIKG9Q2mlB+praO5Q1HG8gzkXJyTKLmlX0Wt0Bgw7h2KpATpwZm3zXTE0oMhkaTNS0P2xdk48sSR037e9M8mJBUlWZYmHAtHmgNlXyxD9a9On2/q3d+L/iP9mP0Z807ziRZBErDg3gU4+PhB0446i9TW0TTv6/OcAK5mjM00rZIYMWpHwBhL0xTtysLrC2NzHBrGjI/NQNNLTSf30B9Z3jlj7QyLr8y43EtzMVA3gIH6/04M16+rR+H1hTF7S3CmlJkpSJ6ZjPa3zNt9+cy2jvYORbZEGwquKRBFp/jFqBZsoXHtUMRE9olpq6dpsT6cPlXi9ER4Sj1ofWP4/rF7VzcAIH2xuUuHo0m0i8i/Mh/1zw/vURjsDeLYhmPI/3DYsyliVuH1hahfZ94+i2e2tRnnGhReX2jnnH+cMWb945HRMbYdihhjgugQ75px04y4C0Dhdf99A5q9Q6xZCq4uQPO/m6H4FTS92IRpa6bB7jFnJxuzZJ2XBV+bz9SDTU5tazMk5CQgbX4aB3C9aZXEgNFGBKsdUxyJZjwuabasVVkIHA+ge3c3OrZ0IO/y2FozYMTI9t9tb7Sh4R8NKLzWvH31zSJIAvKvykfjPxpNq2Okrftr+007Dbn4puJEW5LtLlMKn3xjzBoIWDnt/GnOePsmBQAmMkxdOhWtr7fCU+YxtItPLMpYloHO9zsh98rwzPVYfTnjknFuBrr3dJtW/khb9+zpMe005PQl6VD8ymzGWPzcI0cw5qyBLcm22jPXE5+fIACeMg96q809T85snlIPeqt6kVKaEne3NiOSZyVjsH7QtOwBMNzW3hqvaeVLLgmuDJcfwysC/ydF7Ag0WatILYu/24IRnlIPfO2+mM+5jyZ5VjJ8rT5Y9YRnNEguCQm5Ceg/Yt75k57S4U7fzNOQ0+anSQAWm1bBJBlT1oAxlgGOBHdu3M0TnpQ8Kxlyr2zKvnCTRXJJcGY4YU+Nr0nCM6WUppj6jT0y6jDrNGQASJuf5pYSpBWmVTB5xpQ1KEvMTwzE63AUGP4QOVIdcXW8VjjJxclgiN92AICUWSkYqBvXw3KGSC4JrixzN2RJnpkMJrGFplZioUgdQWK8TrCdSkqQoPnNXrptLluyLe47MylBMvUU5JE68j9q3joLKUECNMTvEPm/xpQ1cAr2Sdp7zESCXTi56ixeSS4JXI3vjkB0iNAC5nbIokM0NU0sOkRwzse+o0iMGWvWgCO+33vDOOL+UDeuccT5ncHwiMbkduCauXWcOG8yvoeXo4gUOr8ajPOvIQzvUhwva/MjUf1q1Pa6s4oW0Ma1K/GY6pA1NL/cbGr5TGAxf4iunrE+a9Ane6N/Wu1kCw2EIDrjuyM485HqeCT3yaYv6pK9sqkrGGWvDDCYt1Z68owpa7B/sGnQrSnxOxKS+2Uogwri+TUAGM6/x/dLgPegF8mzzEvjyv0yzP7i8h70ci2obTO1EguF7Qg45/2iQ+wcOGpeysdsfTV9cKQ70HcwfjtxuV9GaCAE//EJ7VRtOW+NF2YuTuur6UNKSYppzxoAQE9lz6AaULeYVsHkGduzBkxgO7zVXtOuxmzeai/cOW5TF7KYra+mD4kFieg7FN+dmdwjm3LCzwhvtReeUo9pzxoAQG9VL8PwJqVxbczPGoQGQu/17I/fG1RvjRdT5k9BvHdmaeVp6D/SH7e3OH01fUiZnWLqhKe3xmvqUnK5X4bcJ9sAHDatEouNlnB5q/2tdjUec9iKX8Hx7ceR96E8DDYOwt8Rn0Pr9nfakbE8A8kzknF863GrL2dc2t5pQ/oS8zaFGWnrKQunmPasQfs77ZBc0nbOeXwvSsE4dijinO/lKq8/tvGYaRdllpb/tGDKgilIKkxC7qW5aHihwepLGjPvQS/8x/3IXJmJgmsKTN18wyyKT0HLKy0ouLrAtDpG2to9zW3aswa1T9QOhAZCPzGl8Mk3th2KACA0EPpx7VO1cTVjyDlH/XPDuxIBQOG1hWj8RyO0UHwNrevX1aPg6gIIkoCcS3LQu78XQ61DVl/WmLS80oL0xelwZZrzHMCZbW2G3qpe+Np9AQCvmlZJDNBbi/V874FeDDXHzxuw90AvQoOhk8eZJRcnI2F6AtrfMW8TzWiT+2W0vdF2cu285JKQd0WeaduDm4FzjqPrjpr7IT2jrc3IGhz961G/FtIe/l+4LThh7OcacM4DjLHfH/rDoYA51xR9R/50BIXXFuLUY9qLri/Ckb8ciZs1+/XP1SNjRQac6f9d2l54TSEaX2xEsDc+5m+PbzkOLahh6lLzDpk9s62jnTXwtfnQ+mYruML/ENWCLTTucw3UgPr91tdafZ3vd0b9oqKt9fVWDDQMnHU6cPZF2ZDcEmqfqbXoyozrr+tH3V/rMOeLc077eWJ+IvIuz8P+H++36MqMCw2GsOeBPSi/u/y0DjmaIrV1tHDOsfNbO4fA8SDnPPbf/BOk2xFwzr1qQL155z07fYrP3EdJJyLYE8S+H+/Dwu8tPGtdOxMYKu6rwJE/HcFAQ+xOeWiKht3f3Y3SO0vhzj77idfSO0vRW92LtrcnfBamqQ78/AAyzs0wdDr1eERq62hmDRrWN2j9h/sbNVn7cdQKjQGRsgaGT0O2Jdj+lnNpzkcrvlMRkxs4vv/V9+HOcaPksyXwtfugyRo0WYNgEyDYBTgznGh5pQUtr7Rg1Z9XxeSDPIf/dBid2ztxzqPnwN/uhxpQRx52geAQ4PA4MNQyhB1f34E169bE5PFtx7ccR+X3K7Hm2TUIDYSgDClQZRUMw69BSpDgnuae0EghUlu/d+t7uGD9BcO7Ohk4/TgSX5sPb139ll/1q4sB9ANIBeAEIAIIABgC0GDk9ONYM6HTkE8U4BGdYu2iHyyaEmtHh9Wvr0fNr2tgS7Yh0BGAK8sF0SlCsAnQQhrUoIpARwC2VBu4wjH98uko+2KZ1Zd9mp69PdjyuS1wZbnga/XBOdUJ0SVCtIvgGocaVBHsDoJJDJJ7eB/Acx89F4IUO89Z+zv8ePdj78Keaoe/zQ9big22RBsE+/A1akFt+BkQn3LaseVTKqYYziyM1ta9+3uRWJiIQEcA9jT7yfJTy1KRVpFm6ElUNaDivY+/FxpsGGznGk8TJEG0p9hDgl3gYIAma0z1q4LcLzskt3RUC2mbVL+6BcBWzrl5myZGyYQ7ghOFLBKd4rvn/uLcxKnnmDcJNBYtr7Vg7wN7UXxrMbJWZSGpKAmC7ewPB1c5BhsH0bmjEwd/exCzbpuF4luKLbjis/Ud6sOmT21C7qW5yLs8D8mzkiG5pLN+j3MO/zE/evb14OBjB5FSmoLFP1hs2n34WAR7gthw8wYkFSWh+KZipJSmRPxWDvYE4T3ohbfaC2+NF107uzClYgoKrytExrkZEV+PXlvXPF6D0jtKT7a1t2a4jt79vRhqGcL0K6ej4OqCiMe1ayENW7+wFXKvzGffPpulzkmFKyN8BxUaCqHvUB+81V707O0Z6tzeycBRHxoI/QjAes55TE6wM8buCzdhOKaO4ERB54lO8dVzHj7HPZK2sUrL6y3Y/6P9WPbYMnhKPIb/ztfmw8ZPbsSMm2ageK21nYG3xoutX9iK8q+VI+eSHMN/p/gVbP3cViRMT0DFdyssvdUJdAWw5Y4tyDovC2VfGPtIS/EraHm1BfXP1UPxKSi4tgBF1xWd9gj5SFsvf3w5UmaPfVfnwcZB1D9fj+Z/NSO1PBXFNxdj6pL/fpmpQRU7v7ETmqrhnJ+dE/bLZDSaoqFjYwdqn6wd6K3uBWPs92pAfYhz3jHmi7XAmDsCAGCMrRSd4qsV36tIzL0k14TLGh3nHA0vNODQbw9h2a+WjeuN4WvzYfPtm5H7wVyU3F5iybdq545O7Pj6Diz49gJkXzj22y3Fp2D7V7bDlmTDwu8vDDuKMNtg0yC23rkVeVfkYfanZ0/o/AXOOXr39+LIX45goG4AFd+rQNr8tAm39akUv4LW11px6HeHkL4kHXP/3/BRBTu+tgO2ZBsW/2DxmDuBMw02DqLumTq56aWmoBpUPwuOZ3mMbzw5ro4AABhjFaJLfCXrvKyU+d+a75rI5MxYBLoC2PPAHvhafFj6s6UTeqot0B3A+//v/ZNZhcTp5j0hdyrFr6Dm1zVofa0Vix5YhIncZqmyij3f34OePT2o+F4F0hdOzmGvXBs+Zfrgbw6i9M7SqB/J1vpmK/b9cB9siTYwkeGch8/RbeuRWwMjQkMhVD1Shfa32sE1jtzLcjHv/82L6siqt6oXO76+Y0j2ypuVIeVWzrnl6/WjdmtwRqEJokt8WLAJNy38/kLXtNXTJnKNo+Kco+WVFhz42QHkX5WP2Z+ZHZVtyLjKUffXOhz+42HM/vRsFN1YZOrooLuyG7vv3Q1PmQfld5dHbea//d127H1wL7IvykbZF8tMHR0MtQxh9727wUMcFfdXIKkgyZR6gr1B7H1gL/qO9OGch89B8ozRNzd5ccGLuHLPlWOqo3N7J3bfuxuZKzJR/o3yCY8GzqTKKg4+flA++rejQTWgXs85t3SpclQmC0cpfLXoEp+des7U5FmfmOVOnZcatSO6OOfo2tmF2idq4Wv3YeH9C5E6J/qbXAw2DmL3vbsBDsz8xExkrcyK6rdDf+3wQqGOjR0o/0b5uG4F9Mh9Mvb9eB969/di1idnIeeSnKh2CP4OPxpeaED98/WY+fGZKF5bPClzE00vNaHqF1U499FzR2378XQEwPDoYOfdO8EkhiU/XmLK/orde7qx9c6tPsWnfJJr/NmoV2CQqR3BiQoSmMg+JzrEu5xTnQnFtxYn5V6aO+43YmgghKaXm06ury+8rhD5V+WbuhkpVzmaX21G/XP1CHQFUHB1AQquKoAjbXzf2lpIQ9vbbahfV4+hpiHkX5WPohuKTM//H992HHV/rUPvvl7kXZ6HwusKx30LxTlH144u1K+rR+f7ncj9YC5mrJ1h6kYj4bS/047K+yux7FfLInYGY7k1OJMW0rDr27sQ6g/hnF+cY8r7rO9IHzZ9cpNfGVQ+o6na01GvwABTbg0iVCQA+IAtyfZ1LaQtSytPk9Mq0hJT56QKnjLPaevnR3DO4e/wD6d6qnp5T2UP6z/Sj4xlGSi8rhBTFk2Z9ENAvdVeHF13FG1vtiGpKAlp89OQNjcNnjkeuHPcYa9H9srDr6G6F927uof36itORuF1hZh2/rSoDzv1DLUOoeGFBjT+oxHOqU6kzktFWnkaPGUeJBUmhV2DoPgV9B3sg7fGi+5d3eit7oXkllB0fRFyL8+FLcG6g2/a32nHngf2YMXvVujeJoyHpmjYcfcOMMaw+EeLTVmj0V/Xj/dufc+vDCo3cM5finoF4xT1juC0whnLAbBMsAlLRbe4WvWrcwWbwCS3pAh2QQMHU2WVKUOKjWs8JDrEDgD58+6eZ8tcljnub+JokvtldO3qwoGfHoCUIEH2ylD9Kuwe+/AQUhheKKP4FCg+BYkFiRhsGMTsz8xG9oXZSMgNn7OeTGpQRc++HtT8ugaB7gCYwBA4HoBjigOiXQST2PDCq4AKuVdGYkEifG0+5F2Wh+lXTh/eYShGjr9rerkJh353CGvWrTFlHkSVVWy9cyvSl6Sj5DMlUS8fGJ5E3PSJTT41qJZzzutMqWSMTO0Izqps+N00DUAiABeA2wE8jOFlnKLoEA+temJVwljWBEwWf4cf79zwDlb8dgWcU50I9Yegyiq4yiE6RYhOEY5UBzbcvAHFtxRj+oemW33JZ1FlFRs+tgEzPz4TWauzIPfKUIMqNEWDaBchOAS4MlzYfe9u2D12lH+93OpLDmvnPTvhSHNg3tfmnfbzidwanOrUtjbrJOojTxxRD/3u0B5lSFnKOZ+0zTIi3RpM6liVD2vjnB/mnO8FcDvn/DCADilBerr4lmJHLHYCAODKdGHOl+Zg93d3w5ZoQ2J+IlJmpsBT4kFSQRLcWW4c/uNhuLJcph69NRGiXcTC+xfiwM8OQPWrSMhLQHJx8vBrKEpCQk4COjZ1oHd/77gWBk2W8rvL0fp6K7oru0/7ebR2KDq1rc3a0Kb4pmIxIS+hhEns86ZUENnYdyiaLExgtznSHUtmf2b25K+IGYPpH5kO5xQnDv/p7D0svTVe1D9fjwXfXhAzw+hwPGUe5F+Vjz0P7jnrcFXZK2PvD/ai4nsVlixOMsrusaP8nnLs/u5u0w5XHa2to4GJDIt/tDhBkIQfMsZmmFLJGFjdEXyPMeZkNvbIkh8vSZjsybSxYoxhwXcXoO7pOgS6T19Kvv+n+zHnS3Mirk2PJbM/MxuDDYPo3H76Y/aH/3QY09ZMm7RFSRORfUE2Uman4OizR0/+LJo7FI3W1tGSVJCEWZ+e5ZASpUdNqSC8se9QZLYT9yrXps5JFWL1luBMrkwXsi/KPu14rf7afgw2DsbsLcGZRLuIGWtnnLYhqhpQ0fRyU8w8iGXEzI/PRMPzDSd3nor2DkXh2jraiq4vErWQdiFjbFIe6R33DkVmsyXZ7i6+pXhyk9ITVHhdIRrWN5w8a6D++XoUXFUw6enBici9LBddO7tObvXe8loLUuekxkSWw6jUOamwp9rRsdm853rObOtosyXakHdZHhfswu2mVGCQpe9cxthvmcQKs1ZlWXkZY+Yp9cCZ4UTHxg6EhkJoedXcLbvNYEuwnbbVe/06c3cDNkvhdYUnRzZmnGtwalubpejGIicT2OcZY6Yv0hjzuQaT5DMzbpzhiMXdgvQUXleI+vX1aH21FemLzNuy20yF1xai4e8N6D3QC7lXRuaKTKsvacxyL8kd3nK8zWfauQYjbW2WlFkpSCxIlABcblol/xWbWYNpF0yLy3PLs87LQvfubnTu6ETW+fE1ohmRXDy8AUrrG63IPC8zJrdv0yM6RUxdOhVdu7tMq2Okrc3cBTv3g7mJokv8gGkV6LCsI2CMJUOAllgQV9MDJ9mT7XCmO9F7oNfUc/fM5in1oGdfDzylHqsvZdw8pR54q7ymnYY80tYD9eZtfOsp8zDBLqwyrYL/irmswcLkouSBWNpzb6ySZyYj2B1EUqE5j+FOBk+ZB0NNQ6Y80TlZPGUeeGu8pp6GPFKHWVJKUqAMKTMZY6aOkGMxa7AorSLt7CeQ4ogj1YHE/MSY2kB0rBILEhEaCCFeR2bA8Ieo/3C/qUN3T6nH1JO17cl22D32EABzhjU6LHsH25JtywLHA9Y/VTQBTGRxfVsAAMzG4M5xx3VnZk+2w55qx76f7DOtjpSSFPQd7jOtfADwlHo4gPlm1hFzWQMmsCnHNli+c9OEcM5j4gnJCVExoTMAYoU9xY76Z82b2ben2KEMmXvAjyPVIQEw5ymn/4q5rEH85dvOwFUO0RWXSY+TVFk9bbfgeGXGrkJnlq8GzT0HVXSJIiz6XFj5ZAmzp9rx4oIXAQyvEzdzsicaah6vOZmrPnWG+syfx9PryL44O+zPgdh/LWderz3NfvJR5JHFReH+96HfHjrZfnr/e+RvZK8MaIh6uaf+fe+BXhsA4cTw/XwAq095uRsAvIvhb/QNp/xbxJ9zzs8PU1bY9dKTuh/BqRypjg0V91acN22NeRuemm3PA3tgT7Wj7M7YfWRXT/uGdhz58xGc95fzrL6UCXn3Y+9i/j3zkTrPnOyH96AXu7+7Gxesu8CU8gGg8r5Kf+OLjV/lnD9mWiURWHZrwDXeFxqKu6PjTseGH92NZ0xkCA3GeTsAUIYUU2/TlEEFktvcAbTcL6sABk2tJALLOoLQQGh738G+uH8H9h00dybZdBrga/aBazF9/saoFL8Cf4ff1A1V+w73Ibk4+vsknspb4+UALDn33rrJQo6d3bu7fZbVHwVyn4z+2v64/hANtQxBcAoYah6y+lLGre9gX8QzL6PFW+01dfWl4lcQOB5wAqgyrZJRWJk12NVf1++K5w/RQN0AbIm2uP4Qeau9SMhLMHXVnNm8NV7T13OYXUffwT5ICVI959ySe03r5gg472IiG4jXD5HiV+Br9cEzx9wVZ2bzVnuRWpYa96/B7G9rX6vP1FsDb40XXOVbTatAh6XLyQRR2HR8y/G4HBJ0buuEp9SD9EXp6NgSFwfensXX7kOgK4DsC7NxfMvxs/YwjAeaoqHz/U6kLUgzrY6Rtjbz1qP9nfZBZUh507QKdFjaEYQGQo/UPlU7FI9vwPrn65F/VT7yLs9D+zvtcZk9aFjfgLzL85C+NB2aoqFnT4/VlzRmx947Bne225QDT0aMtLVZhlqH0LOvhwH4u2mV6LB6gfkGuU/u7d7Vrf+bMWSwaRDeGi9yPpADR5oDWauz0PiSefvamUELaWh8sRGF1xWCMYbCawtR/5x5S3TNUv+cuTsrndrWZqlfVx9ijP2Zc27Z5LnVm5dyxa/8pPbp2riaKGhY34DpH55+cllr0XVFw5toxtHEZ9tbbUiakXTyEeq8K/LQsbkDwZ6gxVdm3EDDAPqP9CP7IvP2/TyzraNNDapoWN+gqgF1MncyPovVIwJAw5PHtxwXhlrjoy+Q+2U0vdyEwmv/+y2UWp4KyS3h2Hvx8RAV1zjqnqk77TXYk+3Ivij7tO3BY93RZ45i+pXTTTsYN1xbR1vzK82cCaySc37EtEoMsLwj4Jz3AXhw17d2xcVcwYGfHUDORTmn7fbLGMOcL8/Bvh/vi4tVevXr6sEYQ/YFp3+Tzv70bNQ/X4/+un6Lrsy47sputL/bjuKbzdt+PVxbR1OgK4ADPz0QCA2EvmBKBWNgeUcAAJqs/bj/SH9jw/qGSTsDbjyObTyGrp1dmPOVOWf9W8ayDGQsy8CBnx+w4MqMG2oZwsHfHkTF/RVn7VHoznaj9M7S4aO+TNq+OxoUv4Ld9+5G+T3lph0xP1pbRwPnHLu/u9vHVf5LzvkuUyoZg5joCDjnijKkXHvg5weCsXqLIPfL2PvAXlTcWxFxzfncu+bi+NbjOL7l+CRfnTFc49h9727M/PhMJBWE316t4OoC2BJtqH2ydpKvzriax2rgKfOcNaKJFiNtPVEtr7bwnj09HWpA/a4pFYxRTHQEAMA5r+Yqf3Dn3Tt9Zh08OV5c49j3g33IOi8LU5dOjfh7tkQbKr5Tgcr7K007Jmsiap+qBQ9xFK+NPJxmjKHi3grUPlUbk4uMOrd3ovU/rSi/25yTmo229UQMtQ5h74N7A4pPuY5zHhOzszHTEQDDtwgD9QMb3//a+34z958bC845DvzsAHxtPsy5S3+YmLE8A/lX5mPLHVsg98fO2oKml5tw9K9HseiHi3S3LXdnu7HgOwuw9YtbTd25d6x69/dixzd2YNEPFplySzDWth6PQGcAG2/b6NNk7W7O+U5TKhmHmOoITtwiXNm1o2vPzm/uDFh9n8o5R/Uvq9G5oxPn/upcwycEz/7sbKQvTsfWO7fGRGfQ8moLqh6pwvLHlyMhx9jEV/YF2ZjzxTnYcvuWmOgMeqt6se1L21BxXwWmLon+N/V423os/Mf9eO+293xyv/wTVVZ/GfUKJsCyjUlGwxhzSwnSf6ZUTFm89GdLXWZvQxUOVzn2/Wgfeqt6sezXy8b8DcQ5x4GfH0Dntk4sf2w5nFOt2bC5/vl6HPrdISx/fPm41so3vdSEqkersOzRZZZt1Nq5oxM7vr4DFfdWYNr50d/IZqJtbcRQyxA23rbRFxoI/UgNqg/wGPvgxWRHAACMMbuUID1rT7F/YMmPlySYtfNMOAMNA6j8biVEl4ilP1sKW+L4jqTjnOPwHw/j6LNHUX53OXIuNm912pmCvUHs+/E+9NX0YdmvliEhb/wpsLa327Dn/j2YeetMFN9SPGknIqmyikO/O4TGvzdi8Y8Wm3LPHq22joRzjqYXm/i+h/YFuMK/qsrqpO8+ZETMdgQAwBhjYLhedIi/K7y+0FF6Z6ndrMUjwPA3Q+0ztTjypyMoub1kePmtMPE3fc/eHuy+dzdSZqWg/Bvlpu983PZ2G/b9cB9yLslB6Z2lURnmDrUOofK+SqgBFQvvX2j6oS7e6uGtwdy5biz49gI406M7ojKrrU/l7/Bj17d2DXlrvK3KkHIt59y8/dYnKKY7ghGMsUwpQfqLPcW+qvwb5QmZK6J7Th/nHN27urHvoX0I9Yf4wvsXsmh/+wR6Ath5z054q7yY+//mIu/SvKjvHtxf14/qX1aje1c35nxpDvKvzgdj0YuTGlSx70f70PJqC4pvKUbRjUVRH0b7j/tR+2QtGl5oQOE1hSj7UllUz1yYjLYODYXQ9M8mXv2r6gBX+U+0oPYA5zymV5rFRUcAnBgdAFfbkmz3CzZh+oybZjjzr8wXJ/LtGhoMoflfzfzIE0eGQv2hXsWv/FSwCYUAPpU6NxXFtxQnZq3MmlCn01/bj7q/1gVaXmmBYBPeCQ2E3peSpC9xlXvyr8xH0Q1FSJw+/i22tJCG9rfbceTJIxioG+Bc41s0RfuP6BQ/78p0uWfeOjMp55KcCY0K/B1+NLzQoBx99qgMjkOhgdAzUoL0RU3Rpk87fxpmrJ2B1Hmp4+50OOfo2tmF2qdq0bmtE0xktapf/Y0tyfbJOG/rb8TyKOBUcdMRnIoxtlhKkO7SQtpHp547VZm6ZGqip8yDlJIU2BIi3+OpARV9h/vgrfaie3e3r31DuyjaxbdCA6GfYHj7Z36ifBeAa21JtruZxPJzPpBjS52XaveUepBUkDTqm8V/3A9vjRfeKq927L1jg4MNgxrX+K81WXucc956ymtYJTrFhznnizyzPTxjZQZLnZMKT6ln1FsHTdEwcHQA3movevb1oO2NNgDwhQZCvwHwbc65/0T5AoAP2JJsX9cUbVn2Bdk8rSLN5Sn1IHlm8qjr8+V+GX0H+9Bb1cs7t3UOdld2S0xkf1X96iOc85NLJxljxUxkjwgO4VLnVKeQfUE2PHM8SC1LhWuaK2LHwDnHUPMQvDVe9B7oRdsbbQgNhFTFp7wAjrvOiFPct3U8iMuOYARjLA3AR0SXuEKwCcsVn1LsSHMEEvMTNdEpMtEuClpI05SAwn2tPubv8Lskl9TENb5NGVI2AXiJc96mU8dCABfZkm2rucoXabKWlliY6HOkOSA6RYEJDGpA5cqQwgeODtjUoMpFl7hf8Snv8RDfBOA/ow0LGWMpAL4t2IULRKdYovpVt+SWkFiUyCW3xESnyLnCoQZUBDoDGGwaZKJD1JjAjocGQu8D+APn/GWd11AA4ENSorSKMXaO4ldy3NlunzvLzUWnKAg2galBVVP8Ch9sGBTlPtkmuaUjmqxtVAPq5hNxiphDPHFw51eYyK6QEqX5WlBLAQOSZiRxe5KdiU6RA4DiV1ioLzScjmTggk3oDQ2GKqHhBQC/GW0m/X+hrWNZXHcEZ2KM2QCUAigA4ATgACAD8ANoA7B/oiu5GGOpGD6fLvVEHeKJ8n0AagA0TiQ1dOJDtRrAeQAST/wXwvA21y0AXpzotw1jzA2gHEAmhk/WsQEInPivDsAhzvmEjvVhjFUAuATDcUoEwAEMAegC8G/OefUEy4/7to4l/1MdASFkfGJqZSEhxBrUERBCqCMghFBHQAgBdQSEEFBHQAgBdQSEEFBHQAgBdQSEEFBHQAgBdQSEEFBHQAgB8P8B4faMHOMC8TcAAAAASUVORK5CYII=\" alt=\"original\" />\n",
       "    </div>\n",
       "    \n",
       "    <div style=\"display: inline-block; margin: 10px; vertical-align: top;\">\n",
       "        <p>Ni3C2 - relaxed</p>\n",
       "        <img src=\"data:image/png;base64,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\" alt=\"relaxed\" />\n",
       "    </div>\n",
       "    </div>"
      ],
      "text/plain": [
       "<IPython.core.display.HTML object>"
      ]
     },
     "metadata": {},
     "output_type": "display_data"
    }
   ],
   "source": [
    "import base64\n",
    "from ase.io import write\n",
    "from ase.build import make_supercell\n",
    "from IPython.display import HTML\n",
    "import io\n",
    "\n",
    "def visualize_material_base64(material, title: str, rotation: str = '0x', number_of_repetitions: int = 3):\n",
    "    \"\"\"\n",
    "    Returns an HTML string with a Base64-encoded image for visualization,\n",
    "    including the name of the file, positioned horizontally.\n",
    "    \"\"\"\n",
    "    # Set the number of unit cell repetition for the structure\n",
    "    n = number_of_repetitions\n",
    "    material_repeat = make_supercell(material, [[n,0,0],[0,n,0],[0,0,1]])\n",
    "    text = f\"{material.symbols} - {title}\"\n",
    "\n",
    "    # Write image to a buffer to display in HTML\n",
    "    buf = io.BytesIO()\n",
    "    write(buf, material_repeat, format='png', rotation=rotation)\n",
    "    buf.seek(0)\n",
    "    img_str = base64.b64encode(buf.read()).decode('utf-8')\n",
    "    html_str = f'''\n",
    "    <div style=\"display: inline-block; margin: 10px; vertical-align: top;\">\n",
    "        <p>{text}</p>\n",
    "        <img src=\"data:image/png;base64,{img_str}\" alt=\"{title}\" />\n",
    "    </div>\n",
    "    '''\n",
    "    return html_str\n",
    "\n",
    "html_original = visualize_material_base64(ase_original_interface, \"original\", \"-90x\")\n",
    "html_relaxed = visualize_material_base64(ase_final_interface, \"relaxed\", \"-90x\")\n",
    "\n",
    "# Display the interfaces before and after relaxation\n",
    "html_content = f'<div style=\"display: flex;\">{html_original}{html_relaxed}</div>'\n",
    "display(HTML(html_content))\n"
   ]
  },
  {
   "cell_type": "markdown",
   "metadata": {},
   "source": [
    "### 7.3. Calculate energy energy using matgl M3GNet"
   ]
  },
  {
   "cell_type": "code",
   "execution_count": 31,
   "metadata": {
    "ExecuteTime": {
     "end_time": "2024-02-23T06:57:56.887702Z",
     "start_time": "2024-02-23T06:57:56.631462Z"
    }
   },
   "outputs": [
    {
     "name": "stdout",
     "output_type": "stream",
     "text": [
      "5.240839288055053\n",
      "5\n",
      "3\n",
      "2\n",
      "Relaxed interface energy: -18.1053 eV\n",
      "Original Substrate energy: -2.6920 eV\n",
      "Original Layer energy: -15.4182 eV\n",
      "Original Delta: 0.0049 eV\n",
      "Original Delta per area: 0.0009 eV/Ang^2\n",
      "Relaxed Substrate energy: -2.6684 eV\n",
      "Relaxed Layer energy: -15.4182 eV\n",
      "Relaxed Delta: -0.0187 eV\n",
      "Relaxed Delta per area: -0.0036 eV/Ang^2\n",
      "Effective relaxed Delta per area: -0.9862 eV/Ang^2\n",
      "Ni  C \n",
      " 1.0000000000000000\n",
      "     2.4599995727812636    0.0000000000000000    0.0000000000000002\n",
      "     1.2299995285143268    2.1304228448014668    0.0000000000000002\n",
      "     0.0000000000000000    0.0000000000000000   27.0171631046722780\n",
      " Ni  C  \n",
      "   3   2\n",
      "Cartesian\n",
      "  1.2300027025647622  0.7101431378908720  0.1948863120965003\n",
      "  0.0000122416025937  0.0000077319999213  1.8379527731385130\n",
      "  2.4657495023575300  1.4236022556285031  4.0614048789710475\n",
      " -0.0108452190571857 -0.0062635946350369  6.9907350485416675\n",
      "  1.2221636434393375  0.7056186683932514  6.9790081204315761\n",
      "\n",
      "Ni \n",
      " 1.0000000000000000\n",
      "     2.4599995727812636    0.0000000000000000    0.0000000000000002\n",
      "     1.2299995285143268    2.1304228448014668    0.0000000000000002\n",
      "     0.0000000000000000    0.0000000000000000   27.0171631046722780\n",
      " Ni \n",
      "   3\n",
      "Cartesian\n",
      "  1.2300027025647622  0.7101431378908720  0.1948863120965003\n",
      "  0.0000122416025937  0.0000077319999213  1.8379527731385130\n",
      "  2.4657495023575300  1.4236022556285031  4.0614048789710475\n",
      "\n",
      " C \n",
      " 1.0000000000000000\n",
      "     2.4599995727812636    0.0000000000000000    0.0000000000000002\n",
      "     1.2299995285143268    2.1304228448014668    0.0000000000000002\n",
      "     0.0000000000000000    0.0000000000000000   27.0171631046722780\n",
      " C  \n",
      "   2\n",
      "Cartesian\n",
      " -0.0108452190571857 -0.0062635946350369  6.9907350485416675\n",
      "  1.2221636434393375  0.7056186683932514  6.9790081204315761\n",
      "\n",
      "Ni \n",
      " 1.0000000000000000\n",
      "     2.4599995727812636    0.0000000000000000    0.0000000000000002\n",
      "     1.2299995285143268    2.1304228448014668    0.0000000000000002\n",
      "     0.0000000000000000    0.0000000000000000   27.0171631046722780\n",
      " Ni \n",
      "   3\n",
      "Cartesian\n",
      "  1.2300003829518742  0.7101417146926911  0.0000000000000001\n",
      "  0.0000010237800151  0.0000011496383034  2.0085815523361399\n",
      "  2.4600007659037484  1.4202834293853821  4.0171631046722771\n",
      "\n",
      " C \n",
      " 1.0000000000000000\n",
      "     2.4599995727812636    0.0000000000000000    0.0000000000000002\n",
      "     1.2299995285143268    2.1304228448014668    0.0000000000000002\n",
      "     0.0000000000000000    0.0000000000000000   27.0171631046722780\n",
      " C  \n",
      "   2\n",
      "Cartesian\n",
      "  0.0000000000000000  0.0000000000000000  7.0171631046722744\n",
      "  1.2299984704321629  0.7101402381262073  7.0171631046722753\n",
      "\n"
     ]
    }
   ],
   "source": [
    "nickel_relaxed_interface = ase_final_interface.copy()\n",
    "graphene_relaxed_interface = ase_final_interface.copy()\n",
    "nickel_original_interface = ase_original_interface.copy()\n",
    "graphene_original_interface = ase_original_interface.copy()\n",
    "\n",
    "del nickel_relaxed_interface[[atom.index for atom in nickel_relaxed_interface if atom.symbol != 'Ni']]\n",
    "del graphene_relaxed_interface[[atom.index for atom in graphene_relaxed_interface if atom.symbol != 'C']]\n",
    "del nickel_original_interface[[atom.index for atom in nickel_original_interface if atom.symbol != 'Ni']]\n",
    "del graphene_original_interface[[atom.index for atom in graphene_original_interface if atom.symbol != 'C']]\n",
    "\n",
    "#set EMT calculator\n",
    "nickel_relaxed_interface.set_calculator(calc)\n",
    "graphene_relaxed_interface.set_calculator(calc)\n",
    "nickel_original_interface.set_calculator(calc)\n",
    "graphene_original_interface.set_calculator(calc)\n",
    "\n",
    "original_substrate_energy = nickel_original_interface.get_total_energy()\n",
    "original_layer_energy = graphene_original_interface.get_total_energy()\n",
    "relaxed_substrate_energy = nickel_relaxed_interface.get_total_energy()\n",
    "relaxed_layer_energy = graphene_relaxed_interface.get_total_energy()\n",
    "\n",
    "delta_original = relaxed_energy - original_substrate_energy - original_layer_energy\n",
    "delta_relaxed = relaxed_energy - relaxed_substrate_energy - relaxed_layer_energy\n",
    "\n",
    "# calculate area of interface\n",
    "area = ase_original_interface.get_volume() / ase_original_interface.cell[2, 2]\n",
    "print(area)\n",
    "\n",
    "effective_delta_relaxed = (relaxed_energy * ase_final_interface.get_global_number_of_atoms() -\n",
    "                           nickel_relaxed_interface.get_global_number_of_atoms() * relaxed_substrate_energy -\n",
    "                           graphene_relaxed_interface.get_global_number_of_atoms() * relaxed_layer_energy)/(2 * area * ase_final_interface.get_global_number_of_atoms())\n",
    "print(ase_final_interface.get_global_number_of_atoms())\n",
    "print(nickel_relaxed_interface.get_global_number_of_atoms())\n",
    "print(graphene_relaxed_interface.get_global_number_of_atoms())\n",
    "# print(f\"Original interface energy: {ase_original_interface.get_total_energy():.4f} eV\")\n",
    "print(f\"Relaxed interface energy: {relaxed_energy:.4f} eV\")\n",
    "print(f\"Original Substrate energy: {original_substrate_energy:.4f} eV\")\n",
    "print(f\"Original Layer energy: {original_layer_energy:.4f} eV\")\n",
    "print(f\"Original Delta: {delta_original:.4f} eV\")\n",
    "print(f\"Original Delta per area: {delta_original / area:.4f} eV/Ang^2\")\n",
    "print(f\"Relaxed Substrate energy: {relaxed_substrate_energy:.4f} eV\")\n",
    "print(f\"Relaxed Layer energy: {relaxed_layer_energy:.4f} eV\")\n",
    "print(f\"Relaxed Delta: {delta_relaxed:.4f} eV\")\n",
    "print(f\"Relaxed Delta per area: {delta_relaxed / area:.4f} eV/Ang^2\")\n",
    "print(f\"Effective relaxed Delta per area: {effective_delta_relaxed:.4f} eV/Ang^2\")\n",
    "\n",
    "\n",
    "print(ase_to_poscar(ase_final_interface))\n",
    "print(ase_to_poscar(nickel_relaxed_interface))\n",
    "print(ase_to_poscar(graphene_relaxed_interface))\n",
    "print(ase_to_poscar(nickel_original_interface))\n",
    "print(ase_to_poscar(graphene_original_interface))"
   ]
  },
  {
   "cell_type": "code",
   "execution_count": null,
   "metadata": {
    "ExecuteTime": {
     "start_time": "2024-02-23T06:54:17.113780Z"
    }
   },
   "outputs": [],
   "source": []
  },
  {
   "cell_type": "code",
   "execution_count": null,
   "metadata": {
    "ExecuteTime": {
     "end_time": "2024-02-23T06:54:17.124980Z",
     "start_time": "2024-02-23T06:54:17.116350Z"
    },
    "collapsed": false
   },
   "outputs": [],
   "source": []
  },
  {
   "cell_type": "markdown",
   "metadata": {
    "collapsed": false
   },
   "source": [
    "## References\n",
    "\n",
    "[1] ASE alignn calculator relaxation example: https://github.com/usnistgov/alignn?tab=readme-ov-file#alignnff \n",
    "[2] Plotly 3D molecular visualization: https://dash.plotly.com/dash-bio/molecule3dviewer"
   ]
  }
 ],
 "metadata": {
  "kernelspec": {
   "display_name": ".venv",
   "language": "python",
   "name": "python3"
  },
  "language_info": {
   "codemirror_mode": {
    "name": "ipython",
    "version": 3
   },
   "file_extension": ".py",
   "mimetype": "text/x-python",
   "name": "python",
   "nbconvert_exporter": "python",
   "pygments_lexer": "ipython3",
   "version": "3.11.7"
  },
  "widgets": {
   "application/vnd.jupyter.widget-state+json": {
    "state": {},
    "version_major": 2,
    "version_minor": 0
   }
  }
 },
 "nbformat": 4,
 "nbformat_minor": 4
}
