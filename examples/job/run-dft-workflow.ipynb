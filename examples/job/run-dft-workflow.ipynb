version https://git-lfs.github.com/spec/v1
oid sha256:bd6e22abfac01b75b59d721de59880d875674f32484341db7b9ad2d5787bc613
size 17669
