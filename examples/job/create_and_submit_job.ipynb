version https://git-lfs.github.com/spec/v1
oid sha256:39ec2ef05f6835435d2e9f7a70c29de8e6144f49d9033a15f35108938ec65ac8
size 28782
