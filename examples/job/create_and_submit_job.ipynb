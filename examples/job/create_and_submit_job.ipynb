version https://git-lfs.github.com/spec/v1
oid sha256:a21b1c5dbf50d20666340836e5db3bbab8cceb2f9f31e5d5cfed3b167877985f
size 27041
