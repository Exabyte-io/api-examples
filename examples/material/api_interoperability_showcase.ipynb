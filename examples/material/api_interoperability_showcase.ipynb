version https://git-lfs.github.com/spec/v1
oid sha256:3e2d1546a9402655e113f3247895e4f9360a7f1e09cb190f9ad62bd51a581d5e
size 6152
