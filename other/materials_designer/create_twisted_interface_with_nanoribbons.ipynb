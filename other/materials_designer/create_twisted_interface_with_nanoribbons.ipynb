{
 "cells": [
  {
   "cell_type": "markdown",
   "id": "0",
   "metadata": {},
   "source": [
    "# Create a Twisted Interface between Nanoribbons\n",
    "\n",
    "Use nanoribbon interface builder to create twisted interfaces between two nanoribbons.\n",
    "\n",
    "<h2 style=\"color:green\">Usage</h2>\n",
    "\n",
    "1. Make sure to select Input Materials (in the outer runtime) before running the notebook.\n",
    "1. Set notebook parameters in cell 1.1. below (or use the default values).\n",
    "1. Click \"Run\" > \"Run All\" to run all cells. \n",
    "1. Wait for the run to complete (depending on the parameters can take a few min). \n",
    "1. Scroll down to view results. \n",
    "\n",
    "## Summary\n",
    "1. Prepare the Environment: Set up the notebook and install packages, preview the input materials\n",
    "1. Create and visualize the initial nanoribbons\n",
    "1. Generate twisted interface between nanoribbons\n",
    "1. Visualize the final interface\n",
    "\n",
    "## Notes\n",
    "1. Nanoribbons are created from the input materials with specified width and length.\n",
    "1. The top nanoribbon is rotated by the specified twist angle.\n",
    "1. Vacuum is added along x and y directions to isolate the ribbons.\n",
    "1. For more information, see [Introduction](Introduction.ipynb)\n"
   ]
  },
  {
   "cell_type": "markdown",
   "id": "1",
   "metadata": {},
   "source": [
    "## 1. Prepare the Environment\n",
    "### 1.1. Set up the notebook\n",
    "Set the following flags to control the notebook behavior\n"
   ]
  },
  {
   "cell_type": "code",
   "execution_count": null,
   "id": "2",
   "metadata": {},
   "outputs": [],
   "source": [
    "# Material selection and basic parameters\n",
    "FILM_INDEX = 0 # Index in the list of materials, to access as materials[FILM_INDEX]\n",
    "SUBSTRATE_INDEX = None  # Can be None to use same material as film\n",
    "\n",
    "# Twisted interface parameters\n",
    "TARGET_TWIST_ANGLE = 17.9  # in degrees\n",
    "INTERFACE_DISTANCE = 3.0  # in Angstroms\n",
    "INTERFACE_VACUUM = 20.0  # in Angstroms\n",
    "\n",
    "# Nanoribbon parameters\n",
    "RIBBON_WIDTH = 3  # Width of the nanoribbon in unit cells\n",
    "RIBBON_LENGTH = 3  # Length of the nanoribbon in unit cells\n",
    "VACUUM_WIDTH = 15.0  # Vacuum width around ribbons in Angstroms\n",
    "VACUUM_LENGTH = 15.0  # Vacuum length around ribbons in Angstroms\n",
    "VACUUM_X = 2.0  # Additional vacuum along x on both sides, in Angstroms\n",
    "VACUUM_Y = 2.0  # Additional vacuum along y on both sides, in Angstroms\n",
    "\n",
    "# Visualization parameters\n",
    "SHOW_INTERMEDIATE_STEPS = True\n",
    "VISUALIZE_REPETITIONS = [3, 3, 1]"
   ]
  },
  {
   "cell_type": "markdown",
   "id": "3",
   "metadata": {},
   "source": [
    "### 1.2. Install packages\n",
    "Explanation is [here](under_the_hood.ipynb#1.2.-Install-packages)."
   ]
  },
  {
   "cell_type": "code",
   "execution_count": null,
   "id": "4",
   "metadata": {},
   "outputs": [],
   "source": [
    "import sys\n",
    "\n",
    "if sys.platform == \"emscripten\":\n",
    "    import micropip\n",
    "\n",
    "    await micropip.install(\"mat3ra-api-examples\", deps=False)\n",
    "    await micropip.install('mat3ra-utils')\n",
    "    from mat3ra.utils.jupyterlite.packages import install_packages\n",
    "    await install_packages(\"\")"
   ]
  },
  {
   "cell_type": "markdown",
   "id": "5",
   "metadata": {},
   "source": [
    "### 1.3. Load and preview input materials\n",
    "Explanation is [here](under_the_hood.ipynb#2.-Data-Exchange)."
   ]
  },
  {
   "cell_type": "code",
   "execution_count": null,
   "id": "6",
   "metadata": {},
   "outputs": [],
   "source": [
    "from utils.jupyterlite import get_materials\n",
    "\n",
    "materials = get_materials(globals())"
   ]
  },
  {
   "cell_type": "markdown",
   "id": "7",
   "metadata": {},
   "source": [
    " ## 2. Prepare Materials\n",
    " ### 2.1. Select and visualize initial materials"
   ]
  },
  {
   "cell_type": "code",
   "execution_count": null,
   "id": "8",
   "metadata": {},
   "outputs": [],
   "source": [
    "from utils.visualize import visualize_materials\n",
    "\n",
    "film = materials[FILM_INDEX]\n",
    "substrate = materials[SUBSTRATE_INDEX] if SUBSTRATE_INDEX is not None else film\n",
    "\n",
    "if SHOW_INTERMEDIATE_STEPS:\n",
    "    visualize_materials(film, repetitions=VISUALIZE_REPETITIONS)\n",
    "    if substrate is not film:\n",
    "        visualize_materials(substrate, repetitions=VISUALIZE_REPETITIONS)"
   ]
  },
  {
   "cell_type": "markdown",
   "id": "9",
   "metadata": {},
   "source": [
    "## 3. Generate Twisted Interface\n",
    "### 3.1. Set up interface configuration and builder\n"
   ]
  },
  {
   "cell_type": "code",
   "execution_count": null,
   "id": "10",
   "metadata": {},
   "outputs": [],
   "source": [
    "from mat3ra.made.tools.helpers import create_interface_twisted\n",
    "# Create nanoribbons from the materials first\n",
    "from mat3ra.made.tools.helpers import create_nanoribbon\n",
    "\n",
    "# Create nanoribbons for both materials\n",
    "nanoribbon1 = create_nanoribbon(\n",
    "    material=film,\n",
    "    width=RIBBON_WIDTH,  # Width in unit cells\n",
    "    length=RIBBON_LENGTH,  # Length in unit cells\n",
    "    vacuum_width=VACUUM_WIDTH,  # Vacuum width in Angstroms\n",
    "    vacuum_length=VACUUM_LENGTH,  # Vacuum length in Angstroms\n",
    ")\n",
    "\n",
    "nanoribbon2 = create_nanoribbon(\n",
    "    material=substrate,\n",
    "    width=RIBBON_WIDTH,  # Width in unit cells\n",
    "    length=RIBBON_LENGTH,  # Length in unit cells\n",
    "    vacuum_width=VACUUM_WIDTH,  # Vacuum width in Angstroms\n",
    "    vacuum_length=VACUUM_LENGTH,  # Vacuum length in Angstroms\n",
    ")\n",
    "\n",
    "# Create the twisted interface using the manual approach\n",
    "interface = create_interface_twisted(\n",
    "    material1=nanoribbon1,\n",
    "    material2=nanoribbon2,\n",
    "    angle=TARGET_TWIST_ANGLE,\n",
    "    vacuum_x=VACUUM_X,\n",
    "    vacuum_y=VACUUM_Y,\n",
    "    gap=INTERFACE_DISTANCE,\n",
    ")"
   ]
  },
  {
   "cell_type": "markdown",
   "id": "11",
   "metadata": {},
   "source": [
    "### 3.2. Generate and analyze interfaces\n"
   ]
  },
  {
   "cell_type": "code",
   "execution_count": null,
   "id": "12",
   "metadata": {},
   "outputs": [],
   "source": [
    "# The interface was already created above using the manual approach\n",
    "print(\"\\\\nInterface created successfully!\")\n",
    "print(f\"Target twist angle: {TARGET_TWIST_ANGLE}°\")\n",
    "print(f\"Actual twist angle: {TARGET_TWIST_ANGLE}°\")  # Since we set it manually\n",
    "print(f\"Number of atoms: {len(interface.basis.elements.ids)}\")\n",
    "print(f\"Interface name: {interface.name}\")\n",
    "\n",
    "# Show intermediate visualization if requested\n",
    "if SHOW_INTERMEDIATE_STEPS:\n",
    "    from utils.visualize import visualize_materials\n",
    "    print(\"\\\\nVisualizing the created interface:\")\n",
    "    visualize_materials(interface, repetitions=[1, 1, 1])\n",
    "    visualize_materials(interface, repetitions=[1, 1, 1], rotation=\"-90x\")"
   ]
  },
  {
   "cell_type": "markdown",
   "id": "13",
   "metadata": {},
   "source": [
    "## 4. Preview the selected material\n",
    "By default, the first interface is selected. You can change the selection by changing the `selected_interface` index."
   ]
  },
  {
   "cell_type": "markdown",
   "id": "14",
   "metadata": {},
   "source": [
    "### 5. Pass data to the outside runtime\n"
   ]
  },
  {
   "cell_type": "code",
   "execution_count": null,
   "id": "15",
   "metadata": {},
   "outputs": [],
   "source": [
    "from utils.jupyterlite import set_materials\n",
    "interface.name += f\" ({TARGET_TWIST_ANGLE} degrees)\"\n",
    "set_materials(interface)"
   ]
  },
  {
   "cell_type": "code",
   "execution_count": null,
   "id": "16",
   "metadata": {},
   "outputs": [],
   "source": []
  }
 ],
 "metadata": {
  "kernelspec": {
   "display_name": "Python 3",
   "language": "python",
   "name": "python3"
  },
  "language_info": {
   "codemirror_mode": {
    "name": "ipython",
    "version": 2
   },
   "file_extension": ".py",
   "mimetype": "text/x-python",
   "name": "python",
   "nbconvert_exporter": "python",
   "pygments_lexer": "ipython2",
   "version": "2.7.6"
  }
 },
 "nbformat": 4,
 "nbformat_minor": 5
}
