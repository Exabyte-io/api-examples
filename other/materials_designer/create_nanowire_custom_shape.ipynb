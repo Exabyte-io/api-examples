{
 "cells": [
  {
   "cell_type": "markdown",
   "source": [
    "# Create a nanowire with a custom cross-section shape\n",
    "\n",
    "Create a nanowire from original material by creating a slab (with specific Miller indices) and cutting a custom shape along its Z axis, then, optionally, rotating to align along X axis.\n",
    "\n",
    "<h2 style=\"color:green\">Usage</h2>\n",
    "\n",
    "1. Make sure to select Input Materials (in the outer runtime) before running the notebook.\n",
    "1. Set notebook parameters in cell 1.1. below (or use the default values).\n",
    "1. Click “Run” > “Run All” to run all cells. \n",
    "1. Scroll down to view results. "
   ],
   "metadata": {
    "collapsed": false
   },
   "id": "bfcbf5c3f9adb668"
  },
  {
   "cell_type": "markdown",
   "source": [
    "## 1. Prepare the Environment"
   ],
   "metadata": {
    "collapsed": false
   },
   "id": "e3702ff2a5270ce6"
  },
  {
   "cell_type": "markdown",
   "source": [
    "### 1.1. Install Packages\n",
    "The step executes only in Pyodide environment. For other environments, the packages should be installed via `pip install` (see [README](../../README.ipynb))."
   ],
   "metadata": {
    "collapsed": false
   },
   "id": "e4fdd50d405fcd11"
  },
  {
   "cell_type": "code",
   "outputs": [],
   "source": [
    "import sys\n",
    "\n",
    "if sys.platform == \"emscripten\":\n",
    "    import micropip\n",
    "  \n",
    "    await micropip.install('mat3ra-api-examples', deps=False)\n",
    "    from utils.jupyterlite import install_packages\n",
    "    await install_packages(\"\")"
   ],
   "metadata": {
    "collapsed": false
   },
   "id": "bd0fdddfd8880b40",
   "execution_count": null
  },
  {
   "cell_type": "markdown",
   "source": [
    "### 1.2. Set up transformation parameters "
   ],
   "metadata": {
    "collapsed": false
   },
   "id": "dcf793dd6eecabb8"
  },
  {
   "cell_type": "code",
   "outputs": [],
   "source": [
    "from typing import List\n",
    "\n",
    "# Cross-section shape parameters\n",
    "CENTER_COORDINATE = [0.5, 0.5, 0.5] # Center of the cylinder in units specified by flag below\n",
    "MAJOR_RADIUS = 0.25 # Cylinder wire radius in units specified by the flag below\n",
    "MINOR_RADIUS = 0.1 # Cylinder wire radius in units specified by the flag below\n",
    "USE_CARTESIAN_COORDINATES = False # Flag to use Cartesian coordinates for the center and radii\n",
    "\n",
    "# Wire parameters \n",
    "MILLER_INDICES= (0,0,1)  # Miller indices of the nanowire direction\n",
    "SUPERCELL_MATRIX = [[9, 0, 0], [0, 9, 0], [0, 0, 30]] # Supercell matrix to cut the cylinder from\n",
    "VACUUM = 10.0 # Vacuum thickness on the sides in Angstroms\n",
    "ALIGN_ALONG_X = True\n",
    "\n",
    "import numpy as np\n",
    "from mat3ra.made.tools.utils.coordinate import CoordinateCondition\n",
    "\n",
    "# Custom Coordinate Condition for a hollow cylinder shape\n",
    "class CustomCoordinateCondition(CoordinateCondition):\n",
    "    center: List[float] = [0.5, 0.5, 0.5]\n",
    "    major_radius: float = 0.5\n",
    "    minor_radius: float = 0.2\n",
    "\n",
    "    def condition(self, coordinate: List[float]) -> bool:\n",
    "        coord = np.array(coordinate)\n",
    "        # Calculate the distance from the center in the xy-plane\n",
    "        xy_distance = np.linalg.norm(coord[:2] - self.center[:2])\n",
    "        # Calculate the distance from the torus surface\n",
    "        distance_to_torus = np.sqrt((xy_distance - self.major_radius) ** 2 + (coord[2] - self.center[2]) ** 2)\n",
    "        return distance_to_torus <= self.minor_radius\n",
    "condition = CustomCoordinateCondition(center=CENTER_COORDINATE, major_radius=MAJOR_RADIUS, minor_radius=MINOR_RADIUS).condition"
   ],
   "metadata": {
    "collapsed": false
   },
   "id": "e93f72e7c37dea10",
   "execution_count": null
  },
  {
   "cell_type": "markdown",
   "source": [
    "### 1.3. Get input materials"
   ],
   "metadata": {
    "collapsed": false
   },
   "id": "f348991bf39a14e7"
  },
  {
   "cell_type": "code",
   "outputs": [],
   "source": [
    "from utils.jupyterlite import get_materials\n",
    "\n",
    "materials = get_materials(globals())\n",
    "material = materials[0] "
   ],
   "metadata": {
    "collapsed": false
   },
   "id": "4b72580121ca40d0",
   "execution_count": null
  },
  {
   "cell_type": "markdown",
   "source": [
    "### 1.4. Preview the material"
   ],
   "metadata": {
    "collapsed": false
   },
   "id": "aa183a2ac1a6993"
  },
  {
   "cell_type": "code",
   "outputs": [],
   "source": [
    "from utils.visualize import visualize_materials as visualize\n",
    "visualize(material, repetitions=[3,3,3], rotation=\"0x\")\n",
    "visualize(material, repetitions=[3,3,3], rotation=\"-90x\")"
   ],
   "metadata": {
    "collapsed": false
   },
   "id": "d3cba46f185c1a1b",
   "execution_count": null
  },
  {
   "cell_type": "markdown",
   "source": [
    "## 2. Create nanowire\n",
    "### 2.1. Create a slab and cut a cylinder"
   ],
   "metadata": {
    "collapsed": false
   },
   "id": "ba9e20ebe63ffda7"
  },
  {
   "cell_type": "code",
   "outputs": [],
   "source": [
    "from mat3ra.made.tools.build.supercell import create_supercell\n",
    "from mat3ra.made.tools.modify import  add_vacuum_sides, filter_by_condition_on_coordinates\n",
    "from mat3ra.made.tools.build.slab import create_slab, SlabConfiguration\n",
    "\n",
    "slab_config = SlabConfiguration(\n",
    "    bulk=material,\n",
    "    miller_indices=MILLER_INDICES,\n",
    "    thickness=1,\n",
    "    vacuum=0,\n",
    "    use_orthogonal_z=True,\n",
    ")\n",
    "\n",
    "slab_unit_cell = create_slab(slab_config)\n",
    "supercell = create_supercell(slab_unit_cell, supercell_matrix=SUPERCELL_MATRIX)\n",
    "nanowire_z = filter_by_condition_on_coordinates(supercell, condition=condition, use_cartesian_coordinates=USE_CARTESIAN_COORDINATES)\n",
    "nanowire_z = add_vacuum_sides(nanowire_z, vacuum=VACUUM, on_x=True, on_y=True)    "
   ],
   "metadata": {
    "collapsed": false
   },
   "id": "2795d5bdbbaafbe6",
   "execution_count": null
  },
  {
   "cell_type": "markdown",
   "source": [
    "### 2.2. Rotate the nanowire to align along X axis"
   ],
   "metadata": {
    "collapsed": false
   },
   "id": "751d9531a5e5bf86"
  },
  {
   "cell_type": "code",
   "outputs": [],
   "source": [
    "rotate_90_degree_matrix = [[0, 0, 1], [0, 1, 0], [-1, 0, 0]]\n",
    "nanowire_x = create_supercell(nanowire_z, supercell_matrix=rotate_90_degree_matrix)\n",
    "nanowire = nanowire_x if ALIGN_ALONG_X else nanowire_z"
   ],
   "metadata": {
    "collapsed": false
   },
   "id": "87534e47ecdb9dc6"
  },
  {
   "cell_type": "markdown",
   "source": [
    "## 3. Visualize the result"
   ],
   "metadata": {
    "collapsed": false
   },
   "id": "d8f41816d0b48edc"
  },
  {
   "cell_type": "code",
   "outputs": [],
   "source": [
    "visualize(nanowire, repetitions=[1, 1, 1], rotation=\"0x\")\n",
    "visualize(nanowire, repetitions=[1, 1, 1], rotation=\"-90x\")\n",
    "visualize(nanowire, repetitions=[1, 1, 1], rotation=\"-90y\")"
   ],
   "metadata": {
    "collapsed": false
   },
   "id": "aea078560283ca95",
   "execution_count": null
  },
  {
   "cell_type": "markdown",
   "source": [
    "# 4. Pass material to the outside runtime"
   ],
   "metadata": {
    "collapsed": false
   },
   "id": "a212abe25bf59b4f"
  },
  {
   "cell_type": "code",
   "outputs": [],
   "source": [
    "from utils.jupyterlite import set_materials\n",
    "set_materials(nanowire)"
   ],
   "metadata": {
    "collapsed": false
   },
   "id": "cdaf612bc6198546",
   "execution_count": null
  }
 ],
 "metadata": {
  "kernelspec": {
   "display_name": "Python 3",
   "language": "python",
   "name": "python3"
  },
  "language_info": {
   "codemirror_mode": {
    "name": "ipython",
    "version": 2
   },
   "file_extension": ".py",
   "mimetype": "text/x-python",
   "name": "python",
   "nbconvert_exporter": "python",
   "pygments_lexer": "ipython2",
   "version": "2.7.6"
  }
 },
 "nbformat": 4,
 "nbformat_minor": 5
}
