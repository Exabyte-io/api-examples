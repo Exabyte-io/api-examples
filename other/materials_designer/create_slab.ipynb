{
 "cells": [
  {
   "cell_type": "markdown",
   "source": [
    "# Create a slab with specified termination\n",
    "\n",
    "Create a slab with a specified termination from a bulk material. \n",
    "\n",
    "<h2 style=\"color:green\">Usage</h2>\n",
    "\n",
    "\n",
    "1. Make sure to select Input Materials (in the outer runtime) before running the notebook.\n",
    "1. Set notebook parameters in cell 1.1. below (or use the default values).\n",
    "1. Click “Run” > “Run All” to run all cells. \n",
    "1. if prompted, select the termination for the slab in cell 2.5.\n",
    "1. Scroll down to view results. \n",
    "\n",
    "\n",
    "## Notes\n",
    "\n",
    "1. For more information, see [Introduction](Introduction.ipynb)\n",
    "<!-- # TODO: use a hashtag-based anchor link to interface creation documention above -->\n"
   ],
   "metadata": {
    "collapsed": false
   },
   "id": "95a274d80df28ccd"
  },
  {
   "cell_type": "markdown",
   "source": [
    "## 1. Prepare the Environment\n",
    "### 1.1. Set up defect parameters "
   ],
   "metadata": {
    "collapsed": false
   },
   "id": "d55eaee8bc55bffd"
  },
  {
   "cell_type": "code",
   "source": [
    "# Enable interactive selection of terminations via UI prompt\n",
    "IS_TERMINATIONS_SELECTION_INTERACTIVE = False\n",
    "\n",
    "MILLER_INDICES = (0, 1, 1)\n",
    "THICKNESS = 3  # in atomic layers\n",
    "VACUUM = 10.0  # in angstroms\n",
    "XY_SUPERCELL_MATRIX = [[2, 0], [0, 2]]\n",
    "USE_ORTHOGONAL_Z = True\n",
    "USE_CONVENTIONAL_CELL = True\n",
    "\n",
    "# Index of the termination to be selected\n",
    "TERMINATION_INDEX = 0"
   ],
   "metadata": {
    "collapsed": false
   },
   "id": "4b64735060047bec",
   "outputs": [],
   "execution_count": null
  },
  {
   "cell_type": "markdown",
   "source": [
    "### 1.2. Install Packages\n",
    "The step executes only in Pyodide environment. For other environments, the packages should be installed via `pip install` (see [README](../../README.ipynb))."
   ],
   "metadata": {
    "collapsed": false
   },
   "id": "5e0ce05f6f031b3f"
  },
  {
   "cell_type": "code",
   "source": [
    "import sys\n",
    "\n",
    "if sys.platform == \"emscripten\":\n",
    "    import micropip\n",
    "\n",
    "    await micropip.install('mat3ra-api-examples', deps=False)\n",
    "    await micropip.install('mat3ra-utils')\n",
    "    from mat3ra.utils.jupyterlite.packages import install_packages\n",
    "\n",
    "    await install_packages(\"\")"
   ],
   "metadata": {
    "collapsed": false
   },
   "id": "b457673560550933",
   "outputs": [],
   "execution_count": null
  },
  {
   "cell_type": "markdown",
   "source": [
    "### 1.3. Get input materials"
   ],
   "metadata": {
    "collapsed": false
   },
   "id": "1659a8e9afe434fb"
  },
  {
   "cell_type": "code",
   "source": [
    "from utils.jupyterlite import get_materials\n",
    "\n",
    "materials = get_materials(globals())\n",
    "print(globals()[\"materials_in\"][0])\n",
    "material = materials[0]"
   ],
   "metadata": {
    "collapsed": false
   },
   "id": "b588ccfe51967a86",
   "outputs": [],
   "execution_count": null
  },
  {
   "cell_type": "markdown",
   "source": [
    "### 1.4. Preview the material"
   ],
   "metadata": {
    "collapsed": false
   },
   "id": "8c13970a869adfa9"
  },
  {
   "cell_type": "code",
   "source": [
    "from utils.visualize import visualize_materials as visualize\n",
    "\n",
    "visualize(material, repetitions=[3, 3, 1], rotation=\"0x\")\n",
    "visualize(material, repetitions=[3, 3, 1], rotation=\"-90x\")"
   ],
   "metadata": {
    "collapsed": false
   },
   "id": "c4f6e2697f97965f",
   "outputs": [],
   "execution_count": null
  },
  {
   "cell_type": "markdown",
   "source": [
    "## 2. Configure slab and select termination\n",
    "\n",
    "### 2.1. Create slab configuration\n",
    "Slab Configuration lets define the slab thickness, vacuum, and the Miller indices of the interfacial plane and get the slabs with possible terminations.\n"
   ],
   "metadata": {
    "collapsed": false
   },
   "id": "6634dae92a6c07b9"
  },
  {
   "metadata": {},
   "cell_type": "code",
   "source": [
    "from mat3ra.made.tools.build.slab.configuration import CrystalLatticePlanes\n",
    "\n",
    "crystal_lattice_planes = CrystalLatticePlanes(\n",
    "    crystal=material,\n",
    "    miller_indices=MILLER_INDICES,\n",
    "    use_conventional_cell=USE_CONVENTIONAL_CELL\n",
    ")"
   ],
   "id": "ec30720293c64ecc",
   "outputs": [],
   "execution_count": null
  },
  {
   "metadata": {},
   "cell_type": "markdown",
   "source": "## 2.1. Get terminations",
   "id": "eb3aeb119d8726ba"
  },
  {
   "metadata": {},
   "cell_type": "code",
   "source": [
    "terminations = crystal_lattice_planes.get_terminations()\n",
    "print(\"Available terminations:\", [str(t) for t in terminations])"
   ],
   "id": "68bb05623903b05c",
   "outputs": [],
   "execution_count": null
  },
  {
   "cell_type": "markdown",
   "source": [
    "### 2.3. Visualize slabs for all possible terminations"
   ],
   "metadata": {
    "collapsed": false
   },
   "id": "c6e2e18452972b21"
  },
  {
   "cell_type": "code",
   "source": [
    "# from mat3ra.made.tools.build.slab import create_slab\n",
    "#\n",
    "# slabs = [create_slab(slab_configuration, termination) for termination in slab_terminations]\n",
    "#\n",
    "# visualize([{\"material\": slab, \"title\": slab.metadata[\"build\"][\"termination\"]} for slab in slabs], repetitions=[3, 3, 1],\n",
    "#           rotation=\"-90x\")"
   ],
   "metadata": {
    "collapsed": false
   },
   "id": "246cb1f0437dbde0",
   "outputs": [],
   "execution_count": null
  },
  {
   "cell_type": "markdown",
   "source": [
    "### 2.4. Print terminations for the Slab"
   ],
   "metadata": {
    "collapsed": false
   },
   "id": "c06cd779e3b76a5f"
  },
  {
   "cell_type": "code",
   "source": [
    "print(\"Terminations\")\n",
    "for idx, termination in enumerate(terminations):\n",
    "    print(f\"    {idx}: {termination}\")"
   ],
   "metadata": {
    "collapsed": false
   },
   "id": "92bdfc42a0d8e0c",
   "outputs": [],
   "execution_count": null
  },
  {
   "cell_type": "markdown",
   "source": [
    "### 2.5. Select termination for the Slab"
   ],
   "metadata": {
    "collapsed": false
   },
   "id": "51e59fdb80b92b2d"
  },
  {
   "cell_type": "code",
   "source": [
    "from utils.io import ui_prompt_select_array_element_by_index, ui_prompt_select_array_element_by_index_pyodide\n",
    "\n",
    "termination_index = TERMINATION_INDEX\n",
    "\n",
    "termination = terminations[termination_index]\n",
    "if IS_TERMINATIONS_SELECTION_INTERACTIVE:\n",
    "    if sys.platform == \"emscripten\":\n",
    "        termination = await ui_prompt_select_array_element_by_index_pyodide(terminations,\n",
    "                                                                            element_name=\"termination\")\n",
    "    else:\n",
    "        termination = ui_prompt_select_array_element_by_index(terminations, element_name=\"termination\")\n"
   ],
   "metadata": {
    "collapsed": false
   },
   "id": "905e116e59b3e16e",
   "outputs": [],
   "execution_count": null
  },
  {
   "cell_type": "markdown",
   "source": "## 3. Create Atomic Layers",
   "metadata": {
    "collapsed": false
   },
   "id": "143bc82b430b37d5"
  },
  {
   "metadata": {},
   "cell_type": "code",
   "source": [
    "from mat3ra.made.tools.build.slab.configuration import AtomicLayersUniqueRepeated\n",
    "\n",
    "top_termination = termination\n",
    "# TODO: should use `from_parameters`\n",
    "atomic_layers = AtomicLayersUniqueRepeated(\n",
    "    crystal=material,\n",
    "    miller_indices=MILLER_INDICES,\n",
    "    use_conventional_cell=True,\n",
    "    number_of_repetitions=THICKNESS,\n",
    "    termination_top=top_termination,\n",
    ")"
   ],
   "id": "f08dc6f4372930e4",
   "outputs": [],
   "execution_count": null
  },
  {
   "metadata": {},
   "cell_type": "markdown",
   "source": "### 3.1. Specify vacuum",
   "id": "c483e6aae37766b1"
  },
  {
   "metadata": {},
   "cell_type": "code",
   "source": [
    "from mat3ra.made.tools.build.slab.configuration import VacuumConfiguration, AxisEnum\n",
    "\n",
    "vacuum = VacuumConfiguration(direction=AxisEnum.z, size=VACUUM, is_orthogonal=True)"
   ],
   "id": "ca440d1dad2061da",
   "outputs": [],
   "execution_count": null
  },
  {
   "metadata": {},
   "cell_type": "markdown",
   "source": "### 3.2. Create slab configuration",
   "id": "41066bf389dfd216"
  },
  {
   "metadata": {
    "collapsed": false
   },
   "cell_type": "code",
   "source": [
    "from mat3ra.made.tools.build.slab import SlabConfiguration\n",
    "\n",
    "slab_configuration = SlabConfiguration(\n",
    "   supercell_xy=XY_SUPERCELL_MATRIX, stack_components=[atomic_layers, vacuum], direction=AxisEnum.z\n",
    ")"
   ],
   "id": "ee1be3faa5341c70",
   "outputs": [],
   "execution_count": null
  },
  {
   "metadata": {},
   "cell_type": "markdown",
   "source": "### 3.3. Create slab",
   "id": "7869f1b09ecd62c6"
  },
  {
   "cell_type": "code",
   "source": [
    "from mat3ra.made.tools.build.slab import create_slab\n",
    "\n",
    "slab = create_slab(slab_configuration)"
   ],
   "metadata": {
    "collapsed": false
   },
   "id": "aeeac03a236fe058",
   "outputs": [],
   "execution_count": null
  },
  {
   "cell_type": "markdown",
   "source": [
    "## 4. Visualize the slab"
   ],
   "metadata": {
    "collapsed": false
   },
   "id": "301dd99ed1425f62"
  },
  {
   "cell_type": "code",
   "source": "visualize(slab, repetitions=[1, 1, 1], rotation=\"0x\", viewer=\"wave\")",
   "metadata": {
    "collapsed": false
   },
   "id": "19b8867953bc3f1b",
   "outputs": [],
   "execution_count": null
  },
  {
   "cell_type": "markdown",
   "source": [
    "# 5. Pass material to the outside runtime"
   ],
   "metadata": {
    "collapsed": false
   },
   "id": "d667623ad5f2e061"
  },
  {
   "cell_type": "code",
   "source": [
    "from utils.jupyterlite import set_materials\n",
    "\n",
    "set_materials(slab)"
   ],
   "metadata": {
    "collapsed": false
   },
   "id": "3705115f04ac0010",
   "outputs": [],
   "execution_count": null
  }
 ],
 "metadata": {
  "kernelspec": {
   "display_name": "Python 3",
   "language": "python",
   "name": "python3"
  },
  "language_info": {
   "codemirror_mode": {
    "name": "ipython",
    "version": 2
   },
   "file_extension": ".py",
   "mimetype": "text/x-python",
   "name": "python",
   "nbconvert_exporter": "python",
   "pygments_lexer": "ipython2",
   "version": "2.7.6"
  }
 },
 "nbformat": 4,
 "nbformat_minor": 5
}
