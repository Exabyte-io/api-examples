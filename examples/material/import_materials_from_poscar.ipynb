version https://git-lfs.github.com/spec/v1
oid sha256:a179a471cc527a14d0375270e3255f97d888444fae14ebcdd90221ff9e950ffe
size 11596
