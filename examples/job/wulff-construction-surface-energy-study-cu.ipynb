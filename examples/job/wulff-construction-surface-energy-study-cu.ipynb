version https://git-lfs.github.com/spec/v1
oid sha256:04cee9dea9f66fc36e945f60303ab19297cb37f5194df769243810823b79f560
size 25856
