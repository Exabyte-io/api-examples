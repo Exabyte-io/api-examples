{
 "cells": [
  {
   "cell_type": "markdown",
   "id": "0",
   "metadata": {},
   "source": [
    "# Import materials from Standata\n",
    "\n",
    "This notebook uses Mat3ra Standata package to import materials.\n",
    "\n",
    "<h2 style=\"color:green\">Usage</h2>\n",
    "\n",
    "1. Run the first cell to import the required libraries.\n",
    "2. Run the second cell to get the list of available materials.\n",
    "3. Run the third cell to select a material by name.\n",
    "4. Run the fourth cell to select materials by categories\n"
   ]
  },
  {
   "cell_type": "markdown",
   "id": "1",
   "metadata": {},
   "source": [
    "## 1. Install the required libraries"
   ]
  },
  {
   "cell_type": "code",
   "execution_count": null,
   "id": "2",
   "metadata": {},
   "outputs": [],
   "source": [
    "import sys\n",
    "\n",
    "if sys.platform == \"emscripten\":\n",
    "    import micropip\n",
    "\n",
    "    await micropip.install(\"mat3ra-api-examples\", deps=False)\n",
    "    await micropip.install('mat3ra-utils')\n",
    "    await micropip.install('mat3ra-standata', deps=False)\n",
    "    from mat3ra.utils.jupyterlite.packages import install_packages\n",
    "\n",
    "    await install_packages(\"\")"
   ]
  },
  {
   "cell_type": "markdown",
   "id": "3",
   "metadata": {},
   "source": [
    "## 2. Get  materials\n",
    "### 2.1. List the names of available materials"
   ]
  },
  {
   "cell_type": "code",
   "execution_count": null,
   "id": "4",
   "metadata": {},
   "outputs": [],
   "source": [
    "from mat3ra.standata.materials import Materials\n",
    "\n",
    "Materials.get_names()"
   ]
  },
  {
   "cell_type": "markdown",
   "id": "5",
   "metadata": {},
   "source": [
    "### 2.2. Select a material by name\n",
    "A partial name match can be used to select a material."
   ]
  },
  {
   "cell_type": "code",
   "execution_count": null,
   "id": "6",
   "metadata": {},
   "outputs": [],
   "source": [
    "from mat3ra.made.material import Material\n",
    "from utils.visualize import visualize_materials\n",
    "\n",
    "# use colloquial name, formula, dimensionality to select a material\n",
    "# returned material is a JSON object and needs to be converted to Material object\n",
    "material_by_name = Material.create(Materials.get_by_name(\"Graphene\")[0])\n",
    "material_by_name_first_match = Material.create(Materials.get_by_name_first_match(\"Graphene\"))\n",
    "visualize_materials([material_by_name, material_by_name_first_match], viewer=\"wave\")"
   ]
  },
  {
   "cell_type": "markdown",
   "id": "7",
   "metadata": {},
   "source": [
    "### 2.3. Select materials by categories"
   ]
  },
  {
   "cell_type": "code",
   "execution_count": null,
   "id": "8",
   "metadata": {},
   "outputs": [],
   "source": [
    "materials_2d_jsons = Materials.get_by_categories(\"2D\")\n",
    "materials_2d = [Material.create(material_json) for material_json in materials_2d_jsons]\n",
    "\n",
    "materials_3d_insulator_jsons = Materials.get_by_categories(\"3D\", \"Insulator\")\n",
    "materials_3d_insulator = [Material.create(material_json) for material_json in materials_3d_insulator_jsons]\n",
    "\n",
    "visualize_materials(materials_2d)\n",
    "visualize_materials(materials_3d_insulator)"
   ]
  },
  {
   "cell_type": "markdown",
   "id": "9",
   "metadata": {},
   "source": [
    "## 3. Pass data to the outside runtime"
   ]
  },
  {
   "cell_type": "code",
   "execution_count": null,
   "id": "10",
   "metadata": {},
   "outputs": [],
   "source": [
    "from utils.jupyterlite import set_materials\n",
    "\n",
    "set_materials(materials_2d + materials_3d_insulator)"
   ]
  }
 ],
 "metadata": {
  "kernelspec": {
   "display_name": "Python 3",
   "language": "python",
   "name": "python3"
  },
  "language_info": {
   "codemirror_mode": {
    "name": "ipython",
    "version": 2
   },
   "file_extension": ".py",
   "mimetype": "text/x-python",
   "name": "python",
   "nbconvert_exporter": "python",
   "pygments_lexer": "ipython2",
   "version": "2.7.6"
  }
 },
 "nbformat": 4,
 "nbformat_minor": 5
}
