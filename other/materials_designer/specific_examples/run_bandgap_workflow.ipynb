{
 "cells": [
  {
   "metadata": {},
   "cell_type": "markdown",
   "source": [
    "# Bandgap Workflow Example\n",
    " This notebook demonstrates how to build and run a bandgap workflow for a material.\n",
    "\n",
    "## Process Overview\n",
    "### 1. Set up the environment and parameters.\n",
    "### 2. Load the target material.\n",
    "### 3. Import workflow builder and related analyzers.\n",
    "### 4. Analyze material to get parameters for the workflow configuration.\n",
    "### 5. Create the workflow configuration.\n",
    "### 6. Create a job with material and workflow configuration.\n",
    "### 7. Log in to get the API token\n",
    "### 8. Submit the job to the server.\n",
    "### 9. Monitor the job status and retrieve results."
   ],
   "id": "ed24b225263ae3c3"
  },
  {
   "cell_type": "code",
   "id": "initial_id",
   "metadata": {
    "collapsed": true
   },
   "source": [
    "from utils.visualize import visualize_materials as visualize\n",
    "from utils.jupyterlite import load_material_from_folder\n",
    "\n",
    "material = load_material_from_folder(\"/uploads\", \"MoS2_twisted_interface_60_degrees.json\")\n",
    "visualize(material)"
   ],
   "outputs": [],
   "execution_count": null
  },
  {
   "metadata": {},
   "cell_type": "code",
   "source": [
    "from mat3ra.api import ApiClient\n",
    "# Log in to get the API token\n",
    "auth_config = await ApiClient().login()"
   ],
   "id": "23626cb27f6e7206",
   "outputs": [],
   "execution_count": null
  },
  {
   "metadata": {},
   "cell_type": "code",
   "outputs": [],
   "execution_count": null,
   "source": [
    "from mat3ra.wode.analyzers.electronic import KPointAnalyzer, CutoffAnalyzer, SmearingAnalyzer, BandsAnalyzer\n",
    "\n",
    "kpoint_analyzer = KPointAnalyzer(material=material)\n",
    "cutoff_analyzer = CutoffAnalyzer(material=material)\n",
    "smearing_analyzer = SmearingAnalyzer(material=material)\n",
    "bands_analyzer = BandsAnalyzer(material=material)\n",
    "\n",
    "kpoints = kpoint_analyzer.get_kpoints()\n",
    "cutoff = cutoff_analyzer.get_cutoff()\n",
    "smearing = smearing_analyzer.get_smearing()\n",
    "number_of_bands = bands_analyzer.get_number_of_bands()\n",
    "\n"
   ],
   "id": "5ead702c417eff62"
  },
  {
   "metadata": {},
   "cell_type": "code",
   "outputs": [],
   "execution_count": null,
   "source": [
    "from mat3ra.wode.workflow.vasp import create_vasp_workflow\n",
    "\n",
    "band_gap_workflow = create_vasp_workflow(\n",
    "    material=material,\n",
    "    kpoints=kpoints,\n",
    "    cutoff=cutoff,\n",
    "    smearing=smearing,\n",
    "    number_of_bands=number_of_bands)"
   ],
   "id": "68d43f6c797f2fc4"
  },
  {
   "metadata": {},
   "cell_type": "code",
   "outputs": [],
   "execution_count": null,
   "source": [
    "from mat3ra.wode.compute import ComputeConfiguration, QueueTypes\n",
    "compute_config = ComputeConfiguration(\n",
    "    queue = QueueTypes.OR8,\n",
    "    nodes = 1,\n",
    "    cores = 8,\n",
    ")"
   ],
   "id": "60e880dc581dafe1"
  },
  {
   "metadata": {},
   "cell_type": "code",
   "outputs": [],
   "execution_count": null,
   "source": [
    "from mat3ra.wode.job import JobConfiguration, create_job\n",
    "job_config = JobConfiguration(workflow=band_gap_workflow, material=material, compute = compute_config)\n",
    "job = create_job(job_config, auth_config=auth_config)\n",
    "job.run()\n",
    "job.wait_for_complete()\n",
    "# job.check_status()\n",
    "# job.get_current_output()\n",
    "# AFTER Finished\n",
    "job.get_results(PropertyEnum.BANDGAP)"
   ],
   "id": "53c8a2cd99e5c26d"
  }
 ],
 "metadata": {
  "kernelspec": {
   "display_name": "Python 3",
   "language": "python",
   "name": "python3"
  },
  "language_info": {
   "codemirror_mode": {
    "name": "ipython",
    "version": 2
   },
   "file_extension": ".py",
   "mimetype": "text/x-python",
   "name": "python",
   "nbconvert_exporter": "python",
   "pygments_lexer": "ipython2",
   "version": "2.7.6"
  }
 },
 "nbformat": 4,
 "nbformat_minor": 5
}
