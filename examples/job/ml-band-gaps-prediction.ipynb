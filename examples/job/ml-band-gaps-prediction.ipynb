version https://git-lfs.github.com/spec/v1
oid sha256:37968f179424ff2b9e720e08fee7b3cec361cc2a349d94e187162da406817efd
size 44261
