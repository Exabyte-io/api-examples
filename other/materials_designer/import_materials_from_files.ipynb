{
  "cells": [
    {
      "cell_type": "markdown",
      "id": "826fcc4c",
      "metadata": {},
      "source": [
        "# Import materials from files in multiple formats (CIF, POSCAR, etc.)\n",
        "\n",
        "This notebook uses ASE python package to extract structural information from files in multiple formats (CIF, POSCAR, etc., as supported by ASE). Some formats, like `espresso-in` and `espresso-out` can be inferred from the file content.\n",
        "\n",
        "<h2 style=\"color:green\">Usage</h2>\n",
        "\n",
        "1. Upload files to `user_uploads` folder: open (double-click) the folder in the left sidebar, then click \"Upload\" and select the files to upload or just drag-and-drop files onto the sidebar.\n",
        "1. Click \"Run\" > \"Run All Cells\" to run all cells\n",
        "1. In case of format detection error, please correct the file format extension and try again\n",
        "\n",
        "## Methodology\n",
        "\n",
        "The following happens in the script below:\n",
        "\n",
        "1. Install the required packages\n",
        "1. The files are extracted from `user_uploads` folder assuming their extensions represent the format - e.g. `SiO2.poscar`.\n",
        "1. Structural information is read from files into ASE Atoms objects.\n",
        "1. ASE Atoms objects are converted to `poscar` format \n",
        "1. `poscar` structures are converted to ESSE\n",
        "1. The results are passed to the outside runtime"
      ]
    },
    {
      "cell_type": "markdown",
      "id": "4299768d",
      "metadata": {},
      "source": [
        "## 1. Set Parameters"
      ]
    },
    {
      "cell_type": "code",
      "execution_count": 2,
      "id": "9c1f4e9e",
      "metadata": {},
      "outputs": [],
      "source": [
        "# Upload files to this folder\n",
        "FOLDER_PATH = \"./user_uploads\"\n",
        "# Attempt to guess the format from file extension\n",
        "# If set to specific format, it will only accept that format\n",
        "ENFORCED_FORMAT = None\n",
        "# If set to true, the file extension will be included in the resulting material name\n",
        "USE_FILE_NAME_NO_EXTENSION = False\n",
        "# If set to true, the supported formats will be printed below\n",
        "SHOW_SUPPORTED_FORMATS = False"
      ]
    },
    {
      "cell_type": "markdown",
      "id": "8b00ab6854f2263b",
      "metadata": {},
      "source": [
        "## 2. Install Packages"
      ]
    },
    {
      "cell_type": "code",
      "execution_count": null,
      "id": "ef2b38a5-de7e-419e-b605-110e9e0095f5",
      "metadata": {
        "trusted": true
      },
      "outputs": [],
      "source": [
        "from jupyterlite.utils import install_packages\n",
        "\n",
        "await install_packages(\"import_materials_from_files.ipynb\")"
      ]
    },
    {
      "cell_type": "markdown",
      "id": "f418c51a7f794f9f",
      "metadata": {},
      "source": [
        "## 3. Data Processing\n",
        "\n",
        "### 3.1. Read data from files"
      ]
    },
    {
      "cell_type": "code",
      "execution_count": null,
      "id": "b1ee775d1476f884",
      "metadata": {
        "collapsed": false,
        "jupyter": {
          "outputs_hidden": false
        },
        "trusted": true
      },
      "outputs": [],
      "source": [
        "import os\n",
        "from pathlib import Path\n",
        "from ase.io import read\n",
        "\n",
        "materials = []\n",
        "unreadable_files = []\n",
        "file_names = os.listdir(FOLDER_PATH)\n",
        "\n",
        "for file_name in file_names:\n",
        "    file_path = os.path.join(FOLDER_PATH, file_name)\n",
        "    try:\n",
        "        atoms = read(file_path, format=ENFORCED_FORMAT)\n",
        "\n",
        "        atoms.info[\"file_name\"] = Path(file_name).stem if USE_FILE_NAME_NO_EXTENSION else file_name\n",
        "        materials.append(atoms)\n",
        "        \n",
        "    except Exception as e:\n",
        "        print(e)\n",
        "        unreadable_files.append(file_name)\n",
        "        continue"
      ]
    },
    {
      "cell_type": "markdown",
      "id": "57b0d358",
      "metadata": {},
      "source": [
        "### 3.2. Preview the data"
      ]
    },
    {
      "cell_type": "code",
      "execution_count": null,
      "id": "0e34472a",
      "metadata": {},
      "outputs": [],
      "source": [
        "print(f\"Successfully read {len(materials)} files\")\n",
        "print(f\"Unreadable files: {unreadable_files}. \")\n"
      ]
    },
    {
      "cell_type": "markdown",
      "id": "15fe5f9de299c935",
      "metadata": {},
      "source": [
        "### 3.3. Troubleshoot data"
      ]
    },
    {
      "cell_type": "code",
      "execution_count": null,
      "id": "a771a36a",
      "metadata": {},
      "outputs": [],
      "source": [
        "# Uncomment to see the list of supported formats and their file extensions\n",
        "from ase.io.formats import ioformats\n",
        "import pandas as pd\n",
        "\n",
        "if len(unreadable_files) > 0 or SHOW_SUPPORTED_FORMATS:\n",
        "    print(f\"Unreadable files found: {unreadable_files}. See formats/extensions below.\")\n",
        "    data = [[frmt.name, frmt.extensions, frmt.description] for frmt in ioformats.values()]\n",
        "    dataframe = pd.DataFrame(data, columns=[\"Format Name\", \"File Extensions\", \"Description\"])\n",
        "    print(dataframe.to_markdown())"
      ]
    },
    {
      "cell_type": "markdown",
      "id": "ef5f9e9d",
      "metadata": {},
      "source": [
        "### 3.4. Convert to ESSE format"
      ]
    },
    {
      "cell_type": "code",
      "execution_count": null,
      "id": "c41fb68c6d25fe48",
      "metadata": {
        "collapsed": false,
        "jupyter": {
          "outputs_hidden": false
        },
        "trusted": true
      },
      "outputs": [],
      "source": [
        "from src.utils import ase_to_poscar\n",
        "from express import ExPrESS\n",
        "\n",
        "def convert_ase_entry_to_esse(ase_entry):\n",
        "    poscar = ase_to_poscar(ase_entry)\n",
        "    kwargs = {\n",
        "        \"structure_string\": poscar,\n",
        "        \"structure_format\": \"poscar\"\n",
        "    }\n",
        "\n",
        "    handler = ExPrESS(\"structure\", **kwargs)\n",
        "    esse = handler.property(\"material\", **kwargs)\n",
        "    \n",
        "    esse[\"name\"] = ase_entry.info[\"file_name\"]\n",
        "    \n",
        "    return esse\n",
        "\n",
        "esse_entries = list(map(convert_ase_entry_to_esse, materials))"
      ]
    },
    {
      "cell_type": "markdown",
      "id": "8770ec48",
      "metadata": {},
      "source": [
        "### 3.5. Preview the data"
      ]
    },
    {
      "cell_type": "code",
      "execution_count": null,
      "id": "860b5c1b",
      "metadata": {},
      "outputs": [],
      "source": [
        "from src.utils import poscar_to_ase\n",
        "from ase.visualize import view\n",
        "from ase.io import write\n",
        "from ase.build import make_supercell\n",
        "from IPython.display import Image\n",
        "\n",
        "def visualize_material(material, index: int, number_of_repetitions: int = 3):\n",
        "    \"\"\"\n",
        "    Visualize the material using ASE's visualization tool\n",
        "    Repeat the unit cell to make it easier to see.\n",
        "\n",
        "    Args:\n",
        "        material: The material to visualize (Ase.Atoms object)\n",
        "        index: The index of the material\n",
        "        number_of_repetitions: The number of unit cell repetitions to visualize\n",
        "    \"\"\"\n",
        "    # Set the number of unit cell repetition for the structure to make it easier to see\n",
        "    n = number_of_repetitions\n",
        "    material_repeat = make_supercell(material, [[n,0,0],[0,n,0],[0,0,n]])\n",
        "    filename = f\"material-{index}.png\"\n",
        "    write(filename, material_repeat)\n",
        "    img = Image(filename=filename)\n",
        "    print(filename, \"-\", material.symbols)\n",
        "    display(img)\n",
        "\n",
        "for idx, material in enumerate(materials):\n",
        "    visualize_material(material, idx)"
      ]
    },
    {
      "cell_type": "markdown",
      "id": "a4a48479c7ea090f",
      "metadata": {},
      "source": [
        "## 4. Pass data to the outside runtime"
      ]
    },
    {
      "cell_type": "code",
      "execution_count": null,
      "id": "00b187ab",
      "metadata": {},
      "outputs": [],
      "source": [
        "from jupyterlite.utils import set_data\n",
        "\n",
        "output_materials = esse_entries\n",
        "set_data(\"materials\", output_materials)"
      ]
    },
    {
      "cell_type": "markdown",
      "id": "a40c19c0",
      "metadata": {},
      "source": []
    },
    {
      "cell_type": "code",
      "execution_count": 30,
      "id": "19d1267d",
      "metadata": {},
      "outputs": [
        {
          "name": "stdout",
          "output_type": "stream",
          "text": [
            "|    | Format Name        | File Extensions   | Description                            |\n",
            "|---:|:-------------------|:------------------|:---------------------------------------|\n",
            "|  0 | abinit-in          | []                | ABINIT input file                      |\n",
            "|  1 | abinit-out         | []                | ABINIT output file                     |\n",
            "|  2 | aims               | ['in']            | FHI-aims geometry file                 |\n",
            "|  3 | aims-output        | []                | FHI-aims output                        |\n",
            "|  4 | bundletrajectory   | []                | ASE bundle trajectory                  |\n",
            "|  5 | castep-castep      | ['castep']        | CASTEP output file                     |\n",
            "|  6 | castep-cell        | ['cell']          | CASTEP geom file                       |\n",
            "|  7 | castep-geom        | ['geom']          | CASTEP trajectory file                 |\n",
            "|  8 | castep-md          | ['md']            | CASTEP molecular dynamics file         |\n",
            "|  9 | castep-phonon      | ['phonon']        | CASTEP phonon file                     |\n",
            "| 10 | cfg                | []                | AtomEye configuration                  |\n",
            "| 11 | cif                | ['cif']           | CIF-file                               |\n",
            "| 12 | cmdft              | []                | CMDFT-file                             |\n",
            "| 13 | cml                | ['cml']           | Chemical json file                     |\n",
            "| 14 | cp2k-dcd           | ['dcd']           | CP2K DCD file                          |\n",
            "| 15 | cp2k-restart       | ['restart']       | CP2K restart file                      |\n",
            "| 16 | crystal            | ['f34', '34']     | Crystal fort.34 format                 |\n",
            "| 17 | cube               | ['cube']          | CUBE file                              |\n",
            "| 18 | dacapo-text        | []                | Dacapo text output                     |\n",
            "| 19 | db                 | []                | ASE SQLite database file               |\n",
            "| 20 | dftb               | []                | DftbPlus input file                    |\n",
            "| 21 | dlp4               | ['config']        | DL_POLY_4 CONFIG file                  |\n",
            "| 22 | dlp-history        | []                | DL_POLY HISTORY file                   |\n",
            "| 23 | dmol-arc           | []                | DMol3 arc file                         |\n",
            "| 24 | dmol-car           | ['car']           | DMol3 structure file                   |\n",
            "| 25 | dmol-incoor        | []                | DMol3 structure file                   |\n",
            "| 26 | elk                | []                | ELK atoms definition from GEOMETRY.OUT |\n",
            "| 27 | elk-in             | []                | ELK input file                         |\n",
            "| 28 | eon                | ['con']           | EON CON file                           |\n",
            "| 29 | eps                | []                | Encapsulated Postscript                |\n",
            "| 30 | espresso-in        | ['pwi']           | Quantum espresso in file               |\n",
            "| 31 | espresso-out       | ['out', 'pwo']    | Quantum espresso out file              |\n",
            "| 32 | exciting           | []                | exciting input                         |\n",
            "| 33 | extxyz             | ['xyz']           | Extended XYZ file                      |\n",
            "| 34 | findsym            | []                | FINDSYM-format                         |\n",
            "| 35 | gamess-us-out      | []                | GAMESS-US output file                  |\n",
            "| 36 | gamess-us-in       | []                | GAMESS-US input file                   |\n",
            "| 37 | gamess-us-punch    | ['dat']           | GAMESS-US punchcard file               |\n",
            "| 38 | gaussian-in        | ['com', 'gjf']    | Gaussian com (input) file              |\n",
            "| 39 | gaussian-out       | ['log']           | Gaussian output file                   |\n",
            "| 40 | acemolecule-out    | []                | ACE output file                        |\n",
            "| 41 | acemolecule-input  | []                | ACE input file                         |\n",
            "| 42 | gen                | []                | DFTBPlus GEN format                    |\n",
            "| 43 | gif                | []                | Graphics interchange format            |\n",
            "| 44 | gpaw-out           | []                | GPAW text output                       |\n",
            "| 45 | gpumd              | []                | GPUMD input file                       |\n",
            "| 46 | gpw                | []                | GPAW restart-file                      |\n",
            "| 47 | gromacs            | ['gro']           | Gromacs coordinates                    |\n",
            "| 48 | gromos             | ['g96']           | Gromos96 geometry file                 |\n",
            "| 49 | html               | []                | X3DOM HTML                             |\n",
            "| 50 | json               | ['json']          | ASE JSON database file                 |\n",
            "| 51 | jsv                | []                | JSV file format                        |\n",
            "| 52 | lammps-dump-text   | []                | LAMMPS text dump file                  |\n",
            "| 53 | lammps-dump-binary | []                | LAMMPS binary dump file                |\n",
            "| 54 | lammps-data        | []                | LAMMPS data file                       |\n",
            "| 55 | magres             | []                | MAGRES ab initio NMR data file         |\n",
            "| 56 | mol                | []                | MDL Molfile                            |\n",
            "| 57 | mp4                | []                | MP4 animation                          |\n",
            "| 58 | mustem             | ['xtl']           | muSTEM xtl file                        |\n",
            "| 59 | mysql              | []                | ASE MySQL database file                |\n",
            "| 60 | netcdftrajectory   | []                | AMBER NetCDF trajectory file           |\n",
            "| 61 | nomad-json         | ['nomad-json']    | JSON from Nomad archive                |\n",
            "| 62 | nwchem-in          | ['nwi']           | NWChem input file                      |\n",
            "| 63 | nwchem-out         | ['nwo']           | NWChem output file                     |\n",
            "| 64 | octopus-in         | []                | Octopus input file                     |\n",
            "| 65 | proteindatabank    | ['pdb']           | Protein Data Bank                      |\n",
            "| 66 | png                | []                | Portable Network Graphics              |\n",
            "| 67 | postgresql         | []                | ASE PostgreSQL database file           |\n",
            "| 68 | pov                | []                | Persistance of Vision                  |\n",
            "| 69 | prismatic          | []                | prismatic and computem XYZ-file        |\n",
            "| 70 | py                 | []                | Python file                            |\n",
            "| 71 | sys                | []                | qball sys file                         |\n",
            "| 72 | qbox               | []                | QBOX output file                       |\n",
            "| 73 | res                | ['shelx']         | SHELX format                           |\n",
            "| 74 | rmc6f              | ['rmc6f']         | RMCProfile                             |\n",
            "| 75 | sdf                | []                | SDF format                             |\n",
            "| 76 | siesta-xv          | []                | Siesta .XV file                        |\n",
            "| 77 | struct             | []                | WIEN2k structure file                  |\n",
            "| 78 | struct_out         | []                | SIESTA STRUCT file                     |\n",
            "| 79 | traj               | ['traj']          | ASE trajectory                         |\n",
            "| 80 | turbomole          | []                | TURBOMOLE coord file                   |\n",
            "| 81 | turbomole-gradient | []                | TURBOMOLE gradient file                |\n",
            "| 82 | v-sim              | ['ascii']         | V_Sim ascii file                       |\n",
            "| 83 | vasp               | ['poscar']        | VASP POSCAR/CONTCAR                    |\n",
            "| 84 | vasp-out           | []                | VASP OUTCAR file                       |\n",
            "| 85 | vasp-xdatcar       | []                | VASP XDATCAR file                      |\n",
            "| 86 | vasp-xml           | []                | VASP vasprun.xml file                  |\n",
            "| 87 | vti                | []                | VTK XML Image Data                     |\n",
            "| 88 | vtu                | ['vtu']           | VTK XML Unstructured Grid              |\n",
            "| 89 | wout               | []                | Wannier90 output                       |\n",
            "| 90 | x3d                | []                | X3D                                    |\n",
            "| 91 | xsd                | []                | Materials Studio file                  |\n",
            "| 92 | xsf                | []                | XCrySDen Structure File                |\n",
            "| 93 | xtd                | []                | Materials Studio file                  |\n",
            "| 94 | xyz                | []                | XYZ-file                               |\n"
          ]
        }
      ],
      "source": [
        "from ase.io.formats import ioformats\n",
        "import pandas as pd\n",
        "\n",
        "data = [[frmt.name, frmt.extensions, frmt.description] for frmt in ioformats.values()]\n",
        "dataframe = pd.DataFrame(data, columns=[\"Format Name\", \"File Extensions\", \"Description\"])\n",
        "print(dataframe.to_markdown())\n"
      ]
    },
    {
      "cell_type": "code",
      "execution_count": null,
      "id": "f2706953",
      "metadata": {},
      "outputs": [],
      "source": []
    }
  ],
  "metadata": {
    "kernelspec": {
      "display_name": ".venv",
      "language": "python",
      "name": "python3"
    },
    "language_info": {
      "codemirror_mode": {
        "name": "ipython",
        "version": 3
      },
      "file_extension": ".py",
      "mimetype": "text/x-python",
      "name": "python",
      "nbconvert_exporter": "python",
      "pygments_lexer": "ipython3",
      "version": "3.10.12"
    },
    "widgets": {
      "application/vnd.jupyter.widget-state+json": {
        "state": {},
        "version_major": 2,
        "version_minor": 0
      }
    }
  },
  "nbformat": 4,
  "nbformat_minor": 5
}
