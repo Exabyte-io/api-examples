{
  "cells": [
    {
      "cell_type": "markdown",
      "metadata": {},
      "source": [
        "# Create an interface between two materials with minimal strain\n",
        "\n",
        "Use Zur and McGill superlattices matching [algorithm](https://doi.org/10.1063/1.3330840) to create interfaces between two materials using the Pymatgen [implementation](https://pymatgen.org/pymatgen.analysis.interfaces.html#pymatgen.analysis.interfaces.zsl).\n",
        "\n",
        "<h2 style=\"color:green\">Usage</h2>\n",
        "\n",
        "0. Make sure to select Input Materials\n",
        "1. Execute \"Run first: ...\" cell below to load Input Materials into the current kernel\n",
        "2. Set Input Parameters (e.g. `MILLER_INDICES`, `THICKNESS`, `MAX_AREA`) below or use the default values\n",
        "3. Click \"Run\" > \"Run All\" to run all cells\n",
        "4. Wait for the run to complete (depending on the area, it can take 1-2 min or more). Scroll down to view cell results.\n",
        "5. Review the strain plot and modify its parameters as needed\n",
        "\n",
        "## Methodology\n",
        "\n",
        "The following happens in the script below:\n",
        "\n",
        "1. Create slabs for each input material. The materials data is passed in from and back to the web application according to this description (TBA).\n",
        "   We assume that two input materials are either in bulk form (e.g. Ni crystal) or layered (e.g. graphene). \n",
        "   \n",
        "   We construct the interface along the Z-axis. The material corresponding to the bottom of the interface is referred to as the \"**substrate**\", and the top - as the \"**layer**\". \n",
        "\n",
        "2. Perform strain matching on the slabs to extract the supercell dimensions. The algorithm has a set of parameters, such as the maximum area considered, that can be configured by editing the cells below.\n",
        "\n",
        "3. When the strain matching is finished, the interface with the lowest strain (and the smallest number of atoms) is selected. We create the corresponding supercells and place them at a specified distance from each other (note no shift is performed currently).\n"
      ]
    },
    {
      "cell_type": "markdown",
      "metadata": {},
      "source": [
        "<h2 style=\"color:red\">Run first: load input materials in current kernel</h2>\n"
      ]
    },
    {
      "cell_type": "code",
      "execution_count": 1,
      "metadata": {},
      "outputs": [],
      "source": [
        "import json\n",
        "materials_in = []\n",
        "for file in [\"Ni.json\", \"BN.json\"]:\n",
        "    with open(file, \"r\") as f:\n",
        "        data = f.read()\n",
        "        materials_in.append(json.loads(data))"
      ]
    },
    {
      "cell_type": "markdown",
      "metadata": {},
      "source": [
        "## 1. Set Input Parameters\n",
        "\n",
        "### 1.1. Select Substrate and Layer from Input Materials"
      ]
    },
    {
      "cell_type": "code",
      "execution_count": 2,
      "metadata": {},
      "outputs": [],
      "source": [
        "SUBSTRATE_PARAMETERS = {\n",
        "    \"MATERIAL_INDEX\": 0,  # the index of the material in the materials_in list\n",
        "    \"MILLER_INDICES\": (1, 1, 2),  # the miller indices of the interfacial plane\n",
        "    \"THICKNESS\": 3,  # in layers\n",
        "}\n",
        "\n",
        "LAYER_PARAMETERS = {\n",
        "    \"MATERIAL_INDEX\": 1, # the index of the material in the materials_in list\n",
        "    \"MILLER_INDICES\": (0, 0, 1),  # the miller indices of the interfacial plane\n",
        "    \"THICKNESS\": 1,  # in layers\n",
        "}"
      ]
    },
    {
      "cell_type": "markdown",
      "metadata": {},
      "source": [
        "### 1.2. Set Interface Parameters\n",
        "\n",
        "The distance between layer and substrate and maximum area to consider when matching.\n"
      ]
    },
    {
      "cell_type": "code",
      "execution_count": 3,
      "metadata": {},
      "outputs": [],
      "source": [
        "INTERFACE_PARAMETERS = {\n",
        "    \"DISTANCE_Z\": 3.0, # in Angstroms\n",
        "    \"MAX_AREA\": 50, # in Angstroms^2\n",
        "}"
      ]
    },
    {
      "cell_type": "markdown",
      "metadata": {},
      "source": [
        "### 1.3. Set Algorithm Parameters"
      ]
    },
    {
      "cell_type": "code",
      "execution_count": 4,
      "metadata": {},
      "outputs": [],
      "source": [
        "ZSL_PARAMETERS = {\n",
        "    \"MAX_AREA\": INTERFACE_PARAMETERS[\"MAX_AREA\"],  # The area to consider in Angstrom^2\n",
        "    \"MAX_AREA_TOL\": 0.09,  # The area within this tolerance is considered equal\n",
        "    \"MAX_LENGTH_TOL\": 0.03,  # supercell lattice vectors lengths within this tolerance are considered equal\n",
        "    \"MAX_ANGLE_TOL\": 0.01,  # supercell lattice angles within this tolerance are considered equal\n",
        "    \"STRAIN_TOL\": 10e-6,  # strains within this tolerance are considered equal\n",
        "}"
      ]
    },
    {
      "cell_type": "markdown",
      "metadata": {},
      "source": [
        "## 2. Install Packages"
      ]
    },
    {
      "cell_type": "code",
      "execution_count": 5,
      "metadata": {},
      "outputs": [],
      "source": [
        "# from jupyterlite.utils import install_packages\n",
        "\n",
        "# await install_packages(\"create_interface_with_min_strain_zsl.ipynb\")"
      ]
    },
    {
      "cell_type": "markdown",
      "metadata": {},
      "source": [
        "## 3. Create interfaces\n",
        "\n",
        "### 3.1. Extract Interfaces and Terminations\n",
        "\n",
        "Extract all possible layer/substrate supercell combinations within the maximum area including different terminations."
      ]
    },
    {
      "cell_type": "code",
      "execution_count": 6,
      "metadata": {
        "tags": [],
        "trusted": true
      },
      "outputs": [
        {
          "name": "stdout",
          "output_type": "stream",
          "text": [
            "Full Formula (Ni1)\n",
            "Reduced Formula: Ni\n",
            "abc   :   2.460000   2.460000   2.460000\n",
            "angles:  60.000004  59.999994  60.000003\n",
            "pbc   :       True       True       True\n",
            "Sites (1)\n",
            "  #  SP      a    b    c\n",
            "---  ----  ---  ---  ---\n",
            "  0  Ni      0    0    0 \n",
            "\n",
            "Full Formula (B1 N1)\n",
            "Reduced Formula: BN\n",
            "abc   :   2.508995   2.508996   7.710000\n",
            "angles:  90.000000  90.000000 120.000003\n",
            "pbc   :       True       True       True\n",
            "Sites (2)\n",
            "  #  SP           a         b    c\n",
            "---  ----  --------  --------  ---\n",
            "  0  B     0         0           0\n",
            "  1  N     0.333333  0.666667    0 \n",
            "\n",
            "Creating interfaces...\n"
          ]
        }
      ],
      "source": [
        "from src.pymatgen_coherent_interface_builder import CoherentInterfaceBuilder, ZSLGenerator\n",
        "from src.utils import to_pymatgen\n",
        "\n",
        "if \"materials_in\" in globals():\n",
        "    pymatgen_materials = [to_pymatgen(item) for item in materials_in]\n",
        "for material in pymatgen_materials:\n",
        "    print(material, \"\\n\")\n",
        "\n",
        "\n",
        "def create_interfaces(settings):\n",
        "    print(\"Creating interfaces...\")\n",
        "    zsl = ZSLGenerator(\n",
        "        max_area_ratio_tol=settings[\"ZSL_PARAMETERS\"][\"MAX_AREA_TOL\"],\n",
        "        max_area=settings[\"ZSL_PARAMETERS\"][\"MAX_AREA\"],\n",
        "        max_length_tol=settings[\"ZSL_PARAMETERS\"][\"MAX_LENGTH_TOL\"],\n",
        "        max_angle_tol=settings[\"ZSL_PARAMETERS\"][\"MAX_ANGLE_TOL\"],\n",
        "    )\n",
        "\n",
        "    cib = CoherentInterfaceBuilder(\n",
        "        substrate_structure=pymatgen_materials[settings[\"SUBSTRATE_PARAMETERS\"][\"MATERIAL_INDEX\"]],\n",
        "        film_structure=pymatgen_materials[settings[\"LAYER_PARAMETERS\"][\"MATERIAL_INDEX\"]],\n",
        "        substrate_miller=settings[\"SUBSTRATE_PARAMETERS\"][\"MILLER_INDICES\"],\n",
        "        film_miller=settings[\"LAYER_PARAMETERS\"][\"MILLER_INDICES\"],\n",
        "        zslgen=zsl,\n",
        "        strain_tol=settings[\"ZSL_PARAMETERS\"][\"STRAIN_TOL\"],\n",
        "    )\n",
        "\n",
        "    # Find terminations\n",
        "    cib._find_terminations()\n",
        "    terminations = cib.terminations\n",
        "\n",
        "    # Create interfaces for each termination\n",
        "    interfaces = {}\n",
        "    for termination in terminations:\n",
        "        interfaces[termination] = []\n",
        "        for interface in cib.get_interfaces(\n",
        "            termination,\n",
        "            gap=settings[\"INTERFACE_PARAMETERS\"][\"DISTANCE_Z\"],\n",
        "            film_thickness=settings[\"LAYER_PARAMETERS\"][\"THICKNESS\"],\n",
        "            substrate_thickness=settings[\"SUBSTRATE_PARAMETERS\"][\"THICKNESS\"],\n",
        "            in_layers=True,\n",
        "        ):\n",
        "            # Wrap atoms to unit cell\n",
        "            interface[\"interface\"].make_supercell((1,1,1), to_unit_cell=True)\n",
        "            interfaces[termination].append(interface)\n",
        "    return interfaces, terminations\n",
        "\n",
        "\n",
        "interfaces, terminations = create_interfaces(\n",
        "    settings={\n",
        "        \"SUBSTRATE_PARAMETERS\": SUBSTRATE_PARAMETERS,\n",
        "        \"LAYER_PARAMETERS\": LAYER_PARAMETERS,\n",
        "        \"ZSL_PARAMETERS\": ZSL_PARAMETERS,\n",
        "        \"INTERFACE_PARAMETERS\": INTERFACE_PARAMETERS,\n",
        "    }\n",
        ")"
      ]
    },
    {
      "cell_type": "markdown",
      "metadata": {},
      "source": [
        "### 3.2. Print out the interfaces and terminations"
      ]
    },
    {
      "cell_type": "code",
      "execution_count": 7,
      "metadata": {},
      "outputs": [
        {
          "name": "stdout",
          "output_type": "stream",
          "text": [
            "Found 1 terminations\n",
            "Found 3 interfaces for ('BN_P-6m2_2', 'Ni_Pmmm_1') termination\n"
          ]
        }
      ],
      "source": [
        "print(f'Found {len(terminations)} terminations')\n",
        "for termination in terminations:\n",
        "    print(f\"Found {len(interfaces[termination])} interfaces for\", termination, \"termination\")"
      ]
    },
    {
      "cell_type": "markdown",
      "metadata": {},
      "source": [
        "## 4. Sort interfaces by strain\n",
        "\n",
        "### 4.1. Sort all interfaces"
      ]
    },
    {
      "cell_type": "code",
      "execution_count": 8,
      "metadata": {},
      "outputs": [],
      "source": [
        "# Could be \"strain\", \"von_mises_strain\", \"mean_abs_strain\"\n",
        "strain_mode = \"mean_abs_strain\"\n",
        "\n",
        "# Sort interfaces by the specified strain mode and number of sites\n",
        "def sort_interfaces(interfaces, terminations):\n",
        "    sorted_interfaces = {}\n",
        "    for termination in terminations:\n",
        "        sorted_interfaces[termination] = sorted(\n",
        "            interfaces[termination], key=lambda x: (x[strain_mode], x[\"interface\"].num_sites)\n",
        "        )\n",
        "    return sorted_interfaces\n",
        "\n",
        "\n",
        "sorted_interfaces = sort_interfaces(interfaces, terminations)"
      ]
    },
    {
      "cell_type": "markdown",
      "metadata": {},
      "source": [
        "### 4.2. Print out interfaces with lowest strain for each termination"
      ]
    },
    {
      "cell_type": "code",
      "execution_count": 9,
      "metadata": {},
      "outputs": [
        {
          "name": "stdout",
          "output_type": "stream",
          "text": [
            "Interface with lowest strain for termination ('BN_P-6m2_2', 'Ni_Pmmm_1') (index 0):\n",
            "    strain: 0.22300000000000003 %\n",
            "    number of atoms: 36\n"
          ]
        }
      ],
      "source": [
        "for termination in terminations:\n",
        "    print(f\"Interface with lowest strain for termination {termination} (index 0):\")\n",
        "    first_interface = interfaces[termination][0]\n",
        "    print(\"    strain:\", first_interface[strain_mode] * 100, \"%\")\n",
        "    print(\"    number of atoms:\", first_interface[\"interface\"].num_sites)"
      ]
    },
    {
      "cell_type": "markdown",
      "metadata": {},
      "source": [
        "## 5. Plot the results\n",
        "\n",
        "Plot the number of atoms vs strain. Adjust the parameters as needed.\n"
      ]
    },
    {
      "cell_type": "code",
      "execution_count": 10,
      "metadata": {},
      "outputs": [
        {
          "data": {
            "application/vnd.plotly.v1+json": {
              "config": {
                "plotlyServerURL": "https://plot.ly"
              },
              "data": [
                {
                  "hoverinfo": "text",
                  "mode": "markers",
                  "name": "Indices: 0",
                  "text": [
                    "Termination: ('BN_P-6m2_2', 'Ni_Pmmm_1')<br>Termination index: 0<br>Interfaces Index Range: 0<br>Strain: 0.22%<br>Atoms: 36"
                  ],
                  "type": "scatter",
                  "x": [
                    0.22300000000000003
                  ],
                  "y": [
                    36
                  ]
                },
                {
                  "hoverinfo": "text",
                  "mode": "markers",
                  "name": "Indices: 1-2",
                  "text": [
                    "Termination: ('BN_P-6m2_2', 'Ni_Pmmm_1')<br>Termination index: 0<br>Interfaces Index Range: 1-2<br>Strain: 0.40%<br>Atoms: 36"
                  ],
                  "type": "scatter",
                  "x": [
                    0.4
                  ],
                  "y": [
                    36
                  ]
                }
              ],
              "layout": {
                "height": 600,
                "hovermode": "closest",
                "legend": {
                  "title": {
                    "text": "Interfaces Index Range"
                  }
                },
                "template": {
                  "data": {
                    "bar": [
                      {
                        "error_x": {
                          "color": "#2a3f5f"
                        },
                        "error_y": {
                          "color": "#2a3f5f"
                        },
                        "marker": {
                          "line": {
                            "color": "#E5ECF6",
                            "width": 0.5
                          },
                          "pattern": {
                            "fillmode": "overlay",
                            "size": 10,
                            "solidity": 0.2
                          }
                        },
                        "type": "bar"
                      }
                    ],
                    "barpolar": [
                      {
                        "marker": {
                          "line": {
                            "color": "#E5ECF6",
                            "width": 0.5
                          },
                          "pattern": {
                            "fillmode": "overlay",
                            "size": 10,
                            "solidity": 0.2
                          }
                        },
                        "type": "barpolar"
                      }
                    ],
                    "carpet": [
                      {
                        "aaxis": {
                          "endlinecolor": "#2a3f5f",
                          "gridcolor": "white",
                          "linecolor": "white",
                          "minorgridcolor": "white",
                          "startlinecolor": "#2a3f5f"
                        },
                        "baxis": {
                          "endlinecolor": "#2a3f5f",
                          "gridcolor": "white",
                          "linecolor": "white",
                          "minorgridcolor": "white",
                          "startlinecolor": "#2a3f5f"
                        },
                        "type": "carpet"
                      }
                    ],
                    "choropleth": [
                      {
                        "colorbar": {
                          "outlinewidth": 0,
                          "ticks": ""
                        },
                        "type": "choropleth"
                      }
                    ],
                    "contour": [
                      {
                        "colorbar": {
                          "outlinewidth": 0,
                          "ticks": ""
                        },
                        "colorscale": [
                          [
                            0,
                            "#0d0887"
                          ],
                          [
                            0.1111111111111111,
                            "#46039f"
                          ],
                          [
                            0.2222222222222222,
                            "#7201a8"
                          ],
                          [
                            0.3333333333333333,
                            "#9c179e"
                          ],
                          [
                            0.4444444444444444,
                            "#bd3786"
                          ],
                          [
                            0.5555555555555556,
                            "#d8576b"
                          ],
                          [
                            0.6666666666666666,
                            "#ed7953"
                          ],
                          [
                            0.7777777777777778,
                            "#fb9f3a"
                          ],
                          [
                            0.8888888888888888,
                            "#fdca26"
                          ],
                          [
                            1,
                            "#f0f921"
                          ]
                        ],
                        "type": "contour"
                      }
                    ],
                    "contourcarpet": [
                      {
                        "colorbar": {
                          "outlinewidth": 0,
                          "ticks": ""
                        },
                        "type": "contourcarpet"
                      }
                    ],
                    "heatmap": [
                      {
                        "colorbar": {
                          "outlinewidth": 0,
                          "ticks": ""
                        },
                        "colorscale": [
                          [
                            0,
                            "#0d0887"
                          ],
                          [
                            0.1111111111111111,
                            "#46039f"
                          ],
                          [
                            0.2222222222222222,
                            "#7201a8"
                          ],
                          [
                            0.3333333333333333,
                            "#9c179e"
                          ],
                          [
                            0.4444444444444444,
                            "#bd3786"
                          ],
                          [
                            0.5555555555555556,
                            "#d8576b"
                          ],
                          [
                            0.6666666666666666,
                            "#ed7953"
                          ],
                          [
                            0.7777777777777778,
                            "#fb9f3a"
                          ],
                          [
                            0.8888888888888888,
                            "#fdca26"
                          ],
                          [
                            1,
                            "#f0f921"
                          ]
                        ],
                        "type": "heatmap"
                      }
                    ],
                    "heatmapgl": [
                      {
                        "colorbar": {
                          "outlinewidth": 0,
                          "ticks": ""
                        },
                        "colorscale": [
                          [
                            0,
                            "#0d0887"
                          ],
                          [
                            0.1111111111111111,
                            "#46039f"
                          ],
                          [
                            0.2222222222222222,
                            "#7201a8"
                          ],
                          [
                            0.3333333333333333,
                            "#9c179e"
                          ],
                          [
                            0.4444444444444444,
                            "#bd3786"
                          ],
                          [
                            0.5555555555555556,
                            "#d8576b"
                          ],
                          [
                            0.6666666666666666,
                            "#ed7953"
                          ],
                          [
                            0.7777777777777778,
                            "#fb9f3a"
                          ],
                          [
                            0.8888888888888888,
                            "#fdca26"
                          ],
                          [
                            1,
                            "#f0f921"
                          ]
                        ],
                        "type": "heatmapgl"
                      }
                    ],
                    "histogram": [
                      {
                        "marker": {
                          "pattern": {
                            "fillmode": "overlay",
                            "size": 10,
                            "solidity": 0.2
                          }
                        },
                        "type": "histogram"
                      }
                    ],
                    "histogram2d": [
                      {
                        "colorbar": {
                          "outlinewidth": 0,
                          "ticks": ""
                        },
                        "colorscale": [
                          [
                            0,
                            "#0d0887"
                          ],
                          [
                            0.1111111111111111,
                            "#46039f"
                          ],
                          [
                            0.2222222222222222,
                            "#7201a8"
                          ],
                          [
                            0.3333333333333333,
                            "#9c179e"
                          ],
                          [
                            0.4444444444444444,
                            "#bd3786"
                          ],
                          [
                            0.5555555555555556,
                            "#d8576b"
                          ],
                          [
                            0.6666666666666666,
                            "#ed7953"
                          ],
                          [
                            0.7777777777777778,
                            "#fb9f3a"
                          ],
                          [
                            0.8888888888888888,
                            "#fdca26"
                          ],
                          [
                            1,
                            "#f0f921"
                          ]
                        ],
                        "type": "histogram2d"
                      }
                    ],
                    "histogram2dcontour": [
                      {
                        "colorbar": {
                          "outlinewidth": 0,
                          "ticks": ""
                        },
                        "colorscale": [
                          [
                            0,
                            "#0d0887"
                          ],
                          [
                            0.1111111111111111,
                            "#46039f"
                          ],
                          [
                            0.2222222222222222,
                            "#7201a8"
                          ],
                          [
                            0.3333333333333333,
                            "#9c179e"
                          ],
                          [
                            0.4444444444444444,
                            "#bd3786"
                          ],
                          [
                            0.5555555555555556,
                            "#d8576b"
                          ],
                          [
                            0.6666666666666666,
                            "#ed7953"
                          ],
                          [
                            0.7777777777777778,
                            "#fb9f3a"
                          ],
                          [
                            0.8888888888888888,
                            "#fdca26"
                          ],
                          [
                            1,
                            "#f0f921"
                          ]
                        ],
                        "type": "histogram2dcontour"
                      }
                    ],
                    "mesh3d": [
                      {
                        "colorbar": {
                          "outlinewidth": 0,
                          "ticks": ""
                        },
                        "type": "mesh3d"
                      }
                    ],
                    "parcoords": [
                      {
                        "line": {
                          "colorbar": {
                            "outlinewidth": 0,
                            "ticks": ""
                          }
                        },
                        "type": "parcoords"
                      }
                    ],
                    "pie": [
                      {
                        "automargin": true,
                        "type": "pie"
                      }
                    ],
                    "scatter": [
                      {
                        "fillpattern": {
                          "fillmode": "overlay",
                          "size": 10,
                          "solidity": 0.2
                        },
                        "type": "scatter"
                      }
                    ],
                    "scatter3d": [
                      {
                        "line": {
                          "colorbar": {
                            "outlinewidth": 0,
                            "ticks": ""
                          }
                        },
                        "marker": {
                          "colorbar": {
                            "outlinewidth": 0,
                            "ticks": ""
                          }
                        },
                        "type": "scatter3d"
                      }
                    ],
                    "scattercarpet": [
                      {
                        "marker": {
                          "colorbar": {
                            "outlinewidth": 0,
                            "ticks": ""
                          }
                        },
                        "type": "scattercarpet"
                      }
                    ],
                    "scattergeo": [
                      {
                        "marker": {
                          "colorbar": {
                            "outlinewidth": 0,
                            "ticks": ""
                          }
                        },
                        "type": "scattergeo"
                      }
                    ],
                    "scattergl": [
                      {
                        "marker": {
                          "colorbar": {
                            "outlinewidth": 0,
                            "ticks": ""
                          }
                        },
                        "type": "scattergl"
                      }
                    ],
                    "scattermapbox": [
                      {
                        "marker": {
                          "colorbar": {
                            "outlinewidth": 0,
                            "ticks": ""
                          }
                        },
                        "type": "scattermapbox"
                      }
                    ],
                    "scatterpolar": [
                      {
                        "marker": {
                          "colorbar": {
                            "outlinewidth": 0,
                            "ticks": ""
                          }
                        },
                        "type": "scatterpolar"
                      }
                    ],
                    "scatterpolargl": [
                      {
                        "marker": {
                          "colorbar": {
                            "outlinewidth": 0,
                            "ticks": ""
                          }
                        },
                        "type": "scatterpolargl"
                      }
                    ],
                    "scatterternary": [
                      {
                        "marker": {
                          "colorbar": {
                            "outlinewidth": 0,
                            "ticks": ""
                          }
                        },
                        "type": "scatterternary"
                      }
                    ],
                    "surface": [
                      {
                        "colorbar": {
                          "outlinewidth": 0,
                          "ticks": ""
                        },
                        "colorscale": [
                          [
                            0,
                            "#0d0887"
                          ],
                          [
                            0.1111111111111111,
                            "#46039f"
                          ],
                          [
                            0.2222222222222222,
                            "#7201a8"
                          ],
                          [
                            0.3333333333333333,
                            "#9c179e"
                          ],
                          [
                            0.4444444444444444,
                            "#bd3786"
                          ],
                          [
                            0.5555555555555556,
                            "#d8576b"
                          ],
                          [
                            0.6666666666666666,
                            "#ed7953"
                          ],
                          [
                            0.7777777777777778,
                            "#fb9f3a"
                          ],
                          [
                            0.8888888888888888,
                            "#fdca26"
                          ],
                          [
                            1,
                            "#f0f921"
                          ]
                        ],
                        "type": "surface"
                      }
                    ],
                    "table": [
                      {
                        "cells": {
                          "fill": {
                            "color": "#EBF0F8"
                          },
                          "line": {
                            "color": "white"
                          }
                        },
                        "header": {
                          "fill": {
                            "color": "#C8D4E3"
                          },
                          "line": {
                            "color": "white"
                          }
                        },
                        "type": "table"
                      }
                    ]
                  },
                  "layout": {
                    "annotationdefaults": {
                      "arrowcolor": "#2a3f5f",
                      "arrowhead": 0,
                      "arrowwidth": 1
                    },
                    "autotypenumbers": "strict",
                    "coloraxis": {
                      "colorbar": {
                        "outlinewidth": 0,
                        "ticks": ""
                      }
                    },
                    "colorscale": {
                      "diverging": [
                        [
                          0,
                          "#8e0152"
                        ],
                        [
                          0.1,
                          "#c51b7d"
                        ],
                        [
                          0.2,
                          "#de77ae"
                        ],
                        [
                          0.3,
                          "#f1b6da"
                        ],
                        [
                          0.4,
                          "#fde0ef"
                        ],
                        [
                          0.5,
                          "#f7f7f7"
                        ],
                        [
                          0.6,
                          "#e6f5d0"
                        ],
                        [
                          0.7,
                          "#b8e186"
                        ],
                        [
                          0.8,
                          "#7fbc41"
                        ],
                        [
                          0.9,
                          "#4d9221"
                        ],
                        [
                          1,
                          "#276419"
                        ]
                      ],
                      "sequential": [
                        [
                          0,
                          "#0d0887"
                        ],
                        [
                          0.1111111111111111,
                          "#46039f"
                        ],
                        [
                          0.2222222222222222,
                          "#7201a8"
                        ],
                        [
                          0.3333333333333333,
                          "#9c179e"
                        ],
                        [
                          0.4444444444444444,
                          "#bd3786"
                        ],
                        [
                          0.5555555555555556,
                          "#d8576b"
                        ],
                        [
                          0.6666666666666666,
                          "#ed7953"
                        ],
                        [
                          0.7777777777777778,
                          "#fb9f3a"
                        ],
                        [
                          0.8888888888888888,
                          "#fdca26"
                        ],
                        [
                          1,
                          "#f0f921"
                        ]
                      ],
                      "sequentialminus": [
                        [
                          0,
                          "#0d0887"
                        ],
                        [
                          0.1111111111111111,
                          "#46039f"
                        ],
                        [
                          0.2222222222222222,
                          "#7201a8"
                        ],
                        [
                          0.3333333333333333,
                          "#9c179e"
                        ],
                        [
                          0.4444444444444444,
                          "#bd3786"
                        ],
                        [
                          0.5555555555555556,
                          "#d8576b"
                        ],
                        [
                          0.6666666666666666,
                          "#ed7953"
                        ],
                        [
                          0.7777777777777778,
                          "#fb9f3a"
                        ],
                        [
                          0.8888888888888888,
                          "#fdca26"
                        ],
                        [
                          1,
                          "#f0f921"
                        ]
                      ]
                    },
                    "colorway": [
                      "#636efa",
                      "#EF553B",
                      "#00cc96",
                      "#ab63fa",
                      "#FFA15A",
                      "#19d3f3",
                      "#FF6692",
                      "#B6E880",
                      "#FF97FF",
                      "#FECB52"
                    ],
                    "font": {
                      "color": "#2a3f5f"
                    },
                    "geo": {
                      "bgcolor": "white",
                      "lakecolor": "white",
                      "landcolor": "#E5ECF6",
                      "showlakes": true,
                      "showland": true,
                      "subunitcolor": "white"
                    },
                    "hoverlabel": {
                      "align": "left"
                    },
                    "hovermode": "closest",
                    "mapbox": {
                      "style": "light"
                    },
                    "paper_bgcolor": "white",
                    "plot_bgcolor": "#E5ECF6",
                    "polar": {
                      "angularaxis": {
                        "gridcolor": "white",
                        "linecolor": "white",
                        "ticks": ""
                      },
                      "bgcolor": "#E5ECF6",
                      "radialaxis": {
                        "gridcolor": "white",
                        "linecolor": "white",
                        "ticks": ""
                      }
                    },
                    "scene": {
                      "xaxis": {
                        "backgroundcolor": "#E5ECF6",
                        "gridcolor": "white",
                        "gridwidth": 2,
                        "linecolor": "white",
                        "showbackground": true,
                        "ticks": "",
                        "zerolinecolor": "white"
                      },
                      "yaxis": {
                        "backgroundcolor": "#E5ECF6",
                        "gridcolor": "white",
                        "gridwidth": 2,
                        "linecolor": "white",
                        "showbackground": true,
                        "ticks": "",
                        "zerolinecolor": "white"
                      },
                      "zaxis": {
                        "backgroundcolor": "#E5ECF6",
                        "gridcolor": "white",
                        "gridwidth": 2,
                        "linecolor": "white",
                        "showbackground": true,
                        "ticks": "",
                        "zerolinecolor": "white"
                      }
                    },
                    "shapedefaults": {
                      "line": {
                        "color": "#2a3f5f"
                      }
                    },
                    "ternary": {
                      "aaxis": {
                        "gridcolor": "white",
                        "linecolor": "white",
                        "ticks": ""
                      },
                      "baxis": {
                        "gridcolor": "white",
                        "linecolor": "white",
                        "ticks": ""
                      },
                      "bgcolor": "#E5ECF6",
                      "caxis": {
                        "gridcolor": "white",
                        "linecolor": "white",
                        "ticks": ""
                      }
                    },
                    "title": {
                      "x": 0.05
                    },
                    "xaxis": {
                      "automargin": true,
                      "gridcolor": "white",
                      "linecolor": "white",
                      "ticks": "",
                      "title": {
                        "standoff": 15
                      },
                      "zerolinecolor": "white",
                      "zerolinewidth": 2
                    },
                    "yaxis": {
                      "automargin": true,
                      "gridcolor": "white",
                      "linecolor": "white",
                      "ticks": "",
                      "title": {
                        "standoff": 15
                      },
                      "zerolinecolor": "white",
                      "zerolinewidth": 2
                    }
                  }
                },
                "xaxis": {
                  "title": {
                    "text": "Strain (%)"
                  },
                  "type": "log"
                },
                "yaxis": {
                  "title": {
                    "text": "Number of atoms"
                  },
                  "type": "log"
                }
              }
            }
          },
          "metadata": {},
          "output_type": "display_data"
        },
        {
          "name": "stdout",
          "output_type": "stream",
          "text": [
            "Termination 0: ('BN_P-6m2_2', 'Ni_Pmmm_1')\n"
          ]
        }
      ],
      "source": [
        "import plotly.graph_objs as go\n",
        "from collections import defaultdict\n",
        "\n",
        "PLOT_SETTINGS = {\n",
        "    \"HEIGHT\": 600,\n",
        "    \"X_SCALE\": \"log\",  # or linear\n",
        "    \"Y_SCALE\": \"log\",  # or linear\n",
        "}\n",
        "\n",
        "\n",
        "def plot_strain_vs_atoms(sorted_interfaces, terminations, settings):\n",
        "    # Create a mapping from termination to its index\n",
        "    termination_to_index = {termination: i for i, termination in enumerate(terminations)}\n",
        "\n",
        "    grouped_interfaces = defaultdict(list)\n",
        "    for termination, interfaces in sorted_interfaces.items():\n",
        "        for index, interface_data in enumerate(interfaces):\n",
        "            strain_percentage = interface_data[\"mean_abs_strain\"] * 100\n",
        "            num_sites = interface_data[\"interface\"].num_sites\n",
        "            key = (strain_percentage, num_sites)\n",
        "            grouped_interfaces[key].append((index, termination))\n",
        "    \n",
        "    data = []\n",
        "    for (strain, num_sites), indices_and_terminations in grouped_interfaces.items():\n",
        "        termination_indices = defaultdict(list)\n",
        "        for index, termination in indices_and_terminations:\n",
        "            termination_indices[termination].append(index)\n",
        "        all_indices = [index for indices in termination_indices.values() for index in indices]\n",
        "        index_range = f\"{min(all_indices)}-{max(all_indices)}\" if len(all_indices) > 1 else str(min(all_indices))\n",
        "        \n",
        "        hover_text = \"<br>-----<br>\".join(\n",
        "             f\"Termination: {termination}<br>Termination index: {termination_to_index[termination]}<br>Interfaces Index Range: {index_range}<br>Strain: {strain:.2f}%<br>Atoms: {num_sites}\"\n",
        "            for termination, indices in termination_indices.items()\n",
        "        )\n",
        "        trace = go.Scatter(\n",
        "            x=[strain],\n",
        "            y=[num_sites],\n",
        "            text=[hover_text],\n",
        "            mode=\"markers\",\n",
        "            hoverinfo=\"text\",\n",
        "            name=f\"Indices: {index_range}\",\n",
        "        )\n",
        "        data.append(trace)\n",
        "\n",
        "    layout = go.Layout(\n",
        "        xaxis=dict(title=\"Strain (%)\", type=settings[\"X_SCALE\"]),\n",
        "        yaxis=dict(title=\"Number of atoms\", type=settings[\"Y_SCALE\"]),\n",
        "        hovermode=\"closest\",\n",
        "        height=settings[\"HEIGHT\"],\n",
        "        legend_title_text=\"Interfaces Index Range\",\n",
        "    )\n",
        "    fig = go.Figure(data=data, layout=layout)\n",
        "    fig.show()\n",
        "\n",
        "\n",
        "\n",
        "plot_strain_vs_atoms(sorted_interfaces, terminations, PLOT_SETTINGS)\n",
        "\n",
        "for i, termination in enumerate(terminations):\n",
        "    print(f\"Termination {i}:\", termination)"
      ]
    },
    {
      "cell_type": "markdown",
      "metadata": {},
      "source": [
        "## 6. Select the interface to relax\n",
        "\n",
        "### 6.1. Select the interface with the desired termination and strain\n",
        "\n",
        "The data in `sorted_interfaces` now contains an object with the following structure:\n",
        "\n",
        "```json\n",
        "{\n",
        "    \"('C_P6/mmm_2', 'Si_R-3m_1')\": [\n",
        "        { ...interface for ('C_P6/mmm_2', 'Si_R-3m_1') at index 0...},\n",
        "        { ...interface for ('C_P6/mmm_2', 'Si_R-3m_1') at index 1...},\n",
        "        ...\n",
        "    ],\n",
        "    \"<termination at index 1>\": [\n",
        "        { ...interface for 'termination at index 1' at index 0...},\n",
        "        { ...interface for 'termination at index 1' at index 1...},\n",
        "        ...\n",
        "    ]\n",
        "}\n",
        "```\n",
        "\n",
        "Select the index for termination first, and for it - the index in the list of corresponding interfaces sorted by strain (index 0 has minimum strain)."
      ]
    },
    {
      "cell_type": "code",
      "execution_count": 11,
      "metadata": {},
      "outputs": [],
      "source": [
        "termination_index = 0\n",
        "interface_index = 0\n",
        "\n",
        "termination = terminations[termination_index]\n",
        "\n",
        "interface = sorted_interfaces[termination][interface_index][\"interface\"]"
      ]
    },
    {
      "cell_type": "markdown",
      "metadata": {},
      "source": [
        "## 7. Apply relaxation\n",
        "### 7.1. Apply relaxation to the selected interface"
      ]
    },
    {
      "cell_type": "code",
      "execution_count": 12,
      "metadata": {},
      "outputs": [
        {
          "name": "stdout",
          "output_type": "stream",
          "text": [
            "      Step     Time          Energy         fmax\n",
            "BFGS:    0 15:29:14      -11.324706        0.1384\n",
            "BFGS:    1 15:29:14      -11.332162        0.1633\n",
            "BFGS:    2 15:29:14      -11.438082        0.3872\n",
            "BFGS:    3 15:29:14      -11.848308        0.7513\n",
            "BFGS:    4 15:29:14      -13.314651        1.0419\n",
            "BFGS:    5 15:29:14      -15.551924        0.1847\n",
            "BFGS:    6 15:29:14      -15.578726        0.1916\n",
            "BFGS:    7 15:29:14      -15.588771        0.1926\n",
            "BFGS:    8 15:29:14      -15.724150        0.2215\n",
            "BFGS:    9 15:29:14      -16.280449        0.4926\n",
            "BFGS:   10 15:29:14      -18.473649        1.1777\n",
            "BFGS:   11 15:29:14      -24.367580        2.5491\n",
            "BFGS:   12 15:29:14       50.245956      142.9828\n",
            "BFGS:   13 15:29:14      -24.575070        2.4819\n",
            "BFGS:   14 15:29:14      -24.726189        2.4586\n",
            "BFGS:   15 15:29:14      -20.543951       97.6474\n",
            "BFGS:   16 15:29:14      -25.728144        2.1087\n",
            "BFGS:   17 15:29:14      -25.933410        2.0237\n",
            "BFGS:   18 15:29:14      -26.098137        1.7176\n",
            "BFGS:   19 15:29:14      -26.112988        1.6035\n",
            "BFGS:   20 15:29:14      -26.130327        1.3111\n",
            "BFGS:   21 15:29:14      -26.163144        1.2135\n",
            "BFGS:   22 15:29:14      -26.172059        0.4644\n",
            "BFGS:   23 15:29:14      -26.176948        0.4817\n",
            "BFGS:   24 15:29:14      -26.189117        0.6415\n",
            "BFGS:   25 15:29:14      -26.209327        0.7883\n",
            "BFGS:   26 15:29:14      -26.266852        1.0463\n",
            "BFGS:   27 15:29:14      -26.354571        1.0532\n",
            "BFGS:   28 15:29:14      -26.434624        0.7281\n",
            "BFGS:   29 15:29:14      -26.471934        0.3292\n",
            "BFGS:   30 15:29:14      -26.477109        0.1504\n",
            "BFGS:   31 15:29:14      -26.478028        0.1251\n",
            "BFGS:   32 15:29:14      -26.479025        0.1043\n",
            "BFGS:   33 15:29:14      -26.480156        0.0435\n",
            "BFGS:   34 15:29:14      -26.480299        0.0209\n",
            "BFGS:   35 15:29:14      -26.480332        0.0191\n",
            "BFGS:   36 15:29:14      -26.480374        0.0234\n",
            "BFGS:   37 15:29:14      -26.480566        0.0494\n",
            "BFGS:   38 15:29:14      -26.481580        0.2454\n",
            "BFGS:   39 15:29:14      -26.480578        0.7540\n",
            "BFGS:   40 15:29:14      -26.484767        0.3840\n",
            "BFGS:   41 15:29:14      -26.490869        0.3604\n",
            "BFGS:   42 15:29:14      -26.574522        0.7321\n",
            "BFGS:   43 15:29:14      -26.826783        1.9616\n",
            "BFGS:   44 15:29:14      -26.973824        2.1455\n",
            "BFGS:   45 15:29:14      -27.309125        1.4596\n",
            "BFGS:   46 15:29:14      -27.448529        1.8703\n",
            "BFGS:   47 15:29:14      -28.223828        1.8629\n",
            "BFGS:   48 15:29:14      -28.860110        2.7717\n",
            "BFGS:   49 15:29:14      -29.294511        3.3668\n",
            "BFGS:   50 15:29:14      -30.166689        3.8342\n",
            "BFGS:   51 15:29:14      -32.411486        4.2813\n",
            "BFGS:   52 15:29:14      -30.474989       97.3613\n",
            "BFGS:   53 15:29:14      -26.862005       51.5573\n",
            "BFGS:   54 15:29:14      -29.618950       34.1844\n",
            "BFGS:   55 15:29:14      -34.628144        4.6530\n",
            "BFGS:   56 15:29:14      -35.429495        4.2718\n",
            "BFGS:   57 15:29:14      -36.633870        6.2007\n",
            "BFGS:   58 15:29:14      -37.378257        4.5149\n",
            "BFGS:   59 15:29:14      -38.382996       10.9044\n",
            "BFGS:   60 15:29:14      -39.590141        2.5714\n",
            "BFGS:   61 15:29:14      -36.892765       38.0245\n",
            "BFGS:   62 15:29:14      -39.998363        4.0506\n",
            "BFGS:   63 15:29:14      -40.325673        1.9598\n",
            "BFGS:   64 15:29:14      -40.621169        1.6804\n",
            "BFGS:   65 15:29:14      -41.056818        1.9154\n",
            "BFGS:   66 15:29:14      -41.123693        1.1629\n",
            "BFGS:   67 15:29:14      -41.295051        1.1040\n",
            "BFGS:   68 15:29:14      -42.165969        3.4271\n",
            "BFGS:   69 15:29:14      -40.801676       57.0320\n",
            "BFGS:   70 15:29:14      -41.501742       36.8816\n",
            "BFGS:   71 15:29:14      -42.421048        2.8572\n",
            "BFGS:   72 15:29:14      -43.005379        3.6177\n",
            "BFGS:   73 15:29:14      -41.367681       34.2092\n",
            "BFGS:   74 15:29:15      -45.492309        3.0487\n",
            "BFGS:   75 15:29:15      -45.751478       43.2737\n",
            "BFGS:   76 15:29:15      -48.544402        5.0473\n",
            "BFGS:   77 15:29:15      -47.454293       69.3809\n",
            "BFGS:   78 15:29:15      -44.790247       52.0393\n",
            "BFGS:   79 15:29:15      -47.987962        4.7804\n",
            "BFGS:   80 15:29:15      -50.051864        3.2282\n",
            "BFGS:   81 15:29:15      -12.186221      535.7253\n",
            "BFGS:   82 15:29:15      -39.821201      184.0813\n",
            "BFGS:   83 15:29:15      -50.919261        3.4702\n",
            "BFGS:   84 15:29:15      -52.272727        4.3527\n",
            "BFGS:   85 15:29:15      -51.214515       46.6167\n",
            "BFGS:   86 15:29:15      -53.344153        4.9377\n",
            "BFGS:   87 15:29:15      -53.967320        5.7228\n",
            "BFGS:   88 15:29:15      -45.045600      150.8121\n",
            "BFGS:   89 15:29:15      -54.616187        5.7470\n",
            "BFGS:   90 15:29:15      -54.940750        5.9622\n",
            "BFGS:   91 15:29:15      -55.339272        7.8608\n",
            "BFGS:   92 15:29:15      -55.634911        9.8761\n",
            "BFGS:   93 15:29:15      -56.456609        6.5194\n",
            "BFGS:   94 15:29:15      -56.958649        4.6443\n",
            "BFGS:   95 15:29:15      -57.568656       12.1021\n",
            "BFGS:   96 15:29:15      -58.926699       19.6356\n",
            "BFGS:   97 15:29:15      -34.023202      251.4826\n",
            "BFGS:   98 15:29:15      -59.702497        6.9774\n",
            "BFGS:   99 15:29:15      -60.246588        9.9641\n",
            "BFGS:  100 15:29:15      -60.892958        7.1386\n",
            "BFGS:  101 15:29:15      -61.268357        5.1514\n",
            "BFGS:  102 15:29:15      -60.956242        7.1868\n",
            "BFGS:  103 15:29:15      -61.471052        2.8542\n",
            "BFGS:  104 15:29:15      -61.604636        2.9278\n",
            "BFGS:  105 15:29:15      -61.665522        2.7604\n",
            "BFGS:  106 15:29:15      -61.763679        2.1111\n",
            "BFGS:  107 15:29:15      -61.856550        1.5926\n",
            "BFGS:  108 15:29:15      -61.918988        1.7190\n",
            "BFGS:  109 15:29:15      -62.030318        2.0763\n",
            "BFGS:  110 15:29:15      -61.735675        9.4028\n",
            "BFGS:  111 15:29:15      -62.297612        2.2470\n",
            "BFGS:  112 15:29:15      -62.498866        2.4845\n",
            "BFGS:  113 15:29:15      -61.040882       23.1401\n",
            "BFGS:  114 15:29:15      -62.867684        4.3033\n",
            "BFGS:  115 15:29:15      -63.182466        2.6940\n",
            "BFGS:  116 15:29:15      -62.393653       17.9559\n",
            "BFGS:  117 15:29:15      -63.746612        2.8877\n",
            "BFGS:  118 15:29:15      -64.258093        3.3582\n",
            "BFGS:  119 15:29:15      -67.450340        4.0071\n",
            "BFGS:  120 15:29:15      -65.248615       35.7466\n",
            "BFGS:  121 15:29:15      -68.423944        3.7473\n",
            "BFGS:  122 15:29:15      -69.008314        3.9133\n",
            "BFGS:  123 15:29:15      -57.181897      113.2597\n",
            "BFGS:  124 15:29:15      -69.584549        3.7801\n",
            "BFGS:  125 15:29:15      -69.776342        3.7699\n",
            "BFGS:  126 15:29:15      -70.010124        3.0835\n",
            "BFGS:  127 15:29:15      -69.976277        6.8486\n",
            "BFGS:  128 15:29:15      -70.184041        3.5068\n",
            "BFGS:  129 15:29:15      -70.245961        2.0578\n",
            "BFGS:  130 15:29:15      -70.318287        1.3907\n",
            "BFGS:  131 15:29:15      -70.355960        0.8986\n",
            "BFGS:  132 15:29:15      -70.375853        0.9028\n",
            "BFGS:  133 15:29:15      -70.453875        1.4747\n",
            "BFGS:  134 15:29:15      -70.339850        8.3282\n",
            "BFGS:  135 15:29:15      -70.689280        2.5553\n",
            "BFGS:  136 15:29:15      -70.976470        3.0118\n",
            "BFGS:  137 15:29:15      -72.661391        4.8469\n",
            "BFGS:  138 15:29:15      -72.947774        4.2923\n",
            "BFGS:  139 15:29:15      -72.061910       10.5375\n",
            "BFGS:  140 15:29:15      -73.117448        3.0140\n",
            "BFGS:  141 15:29:15      -72.346795       12.8347\n",
            "BFGS:  142 15:29:15      -73.361466        2.4186\n",
            "BFGS:  143 15:29:15      -73.463208        2.1522\n",
            "BFGS:  144 15:29:15      -73.579358        2.5647\n",
            "BFGS:  145 15:29:15      -73.655114        1.1693\n",
            "BFGS:  146 15:29:15      -73.735449        1.0713\n",
            "BFGS:  147 15:29:15      -73.967871        2.1150\n",
            "BFGS:  148 15:29:15      -74.080438        4.6838\n",
            "BFGS:  149 15:29:15      -74.451453        3.7411\n",
            "BFGS:  150 15:29:15      -75.289302        6.2053\n",
            "BFGS:  151 15:29:15      -75.826194        5.2378\n",
            "BFGS:  152 15:29:15      -76.660571        4.3013\n",
            "BFGS:  153 15:29:15      -71.476914       96.5826\n",
            "BFGS:  154 15:29:15      -77.474193        6.0064\n",
            "BFGS:  155 15:29:15      -77.861525        3.9175\n",
            "BFGS:  156 15:29:15      -77.906453       11.6200\n",
            "BFGS:  157 15:29:15      -78.481634        4.0787\n",
            "BFGS:  158 15:29:15      -79.085422        3.6333\n",
            "BFGS:  159 15:29:15      -75.086910       63.0916\n",
            "BFGS:  160 15:29:15      -79.339309        3.5150\n",
            "BFGS:  161 15:29:15      -79.442275        3.0337\n",
            "BFGS:  162 15:29:15      -79.568375        2.5136\n",
            "BFGS:  163 15:29:15      -79.636108        3.3852\n",
            "BFGS:  164 15:29:15      -79.694680        1.3522\n",
            "BFGS:  165 15:29:15      -79.723687        1.1172\n",
            "BFGS:  166 15:29:15      -79.736286        0.9864\n",
            "BFGS:  167 15:29:15      -79.774491        0.8224\n",
            "BFGS:  168 15:29:15      -79.814108        0.7428\n",
            "BFGS:  169 15:29:15      -79.844104        0.6609\n",
            "BFGS:  170 15:29:15      -79.866816        0.5982\n",
            "BFGS:  171 15:29:15      -79.876984        0.5446\n",
            "BFGS:  172 15:29:15      -79.885351        0.5787\n",
            "BFGS:  173 15:29:15      -79.892391        0.4706\n",
            "BFGS:  174 15:29:15      -79.898313        0.4171\n",
            "BFGS:  175 15:29:15      -79.902688        0.2798\n",
            "BFGS:  176 15:29:15      -79.906731        0.2271\n",
            "BFGS:  177 15:29:16      -79.911768        0.3337\n",
            "BFGS:  178 15:29:16      -79.919774        0.6390\n",
            "BFGS:  179 15:29:16      -79.939444        1.4091\n",
            "BFGS:  180 15:29:16      -79.971986        1.8476\n",
            "BFGS:  181 15:29:16      -80.050749        2.3695\n",
            "BFGS:  182 15:29:16      -80.245338        2.7089\n",
            "BFGS:  183 15:29:16      -80.200166        2.2230\n",
            "BFGS:  184 15:29:16      -80.430243        2.4537\n",
            "BFGS:  185 15:29:16      -80.538160        1.6535\n",
            "BFGS:  186 15:29:16      -80.653316        1.3434\n",
            "BFGS:  187 15:29:16      -80.746783        1.7429\n",
            "BFGS:  188 15:29:16      -80.786073        1.1421\n",
            "BFGS:  189 15:29:16      -80.816878        0.6909\n",
            "BFGS:  190 15:29:16      -80.851884        0.9500\n",
            "BFGS:  191 15:29:16      -80.883224        1.2502\n",
            "BFGS:  192 15:29:16      -80.927409        1.6790\n",
            "BFGS:  193 15:29:16      -81.022519        2.1322\n",
            "BFGS:  194 15:29:16      -80.678511       19.0705\n",
            "BFGS:  195 15:29:16      -81.433114        3.1935\n",
            "BFGS:  196 15:29:16      -81.477280        7.0389\n",
            "BFGS:  197 15:29:16      -81.931641        4.9307\n",
            "BFGS:  198 15:29:16      -82.362154        4.0347\n",
            "BFGS:  199 15:29:16      -74.720709       99.4001\n",
            "BFGS:  200 15:29:16      -82.441276        4.4837\n",
            "BFGS:  201 15:29:16      -82.275061        7.0226\n",
            "BFGS:  202 15:29:16      -82.640061        3.5358\n",
            "BFGS:  203 15:29:16      -82.723006        3.5576\n",
            "BFGS:  204 15:29:16      -82.852109        6.0184\n",
            "BFGS:  205 15:29:16      -83.062672        2.1619\n",
            "BFGS:  206 15:29:16      -83.110466        1.2949\n",
            "BFGS:  207 15:29:16      -83.140640        1.3322\n",
            "BFGS:  208 15:29:16      -83.162192        1.1862\n",
            "BFGS:  209 15:29:16      -83.190230        0.7744\n",
            "BFGS:  210 15:29:16      -83.232326        1.0968\n",
            "BFGS:  211 15:29:16      -83.281834        1.2865\n",
            "BFGS:  212 15:29:16      -83.370779        1.9507\n",
            "BFGS:  213 15:29:16      -83.576263        3.0447\n",
            "BFGS:  214 15:29:16      -82.463283       20.3952\n",
            "BFGS:  215 15:29:16      -83.640497        4.5158\n",
            "BFGS:  216 15:29:16      -83.238200        5.1873\n",
            "BFGS:  217 15:29:16      -83.970767        3.5032\n",
            "BFGS:  218 15:29:16      -84.183345        4.2604\n",
            "BFGS:  219 15:29:16      -84.653469        3.3404\n",
            "BFGS:  220 15:29:16      -72.078158      135.8590\n",
            "BFGS:  221 15:29:16      -84.897220        3.5928\n",
            "BFGS:  222 15:29:16      -84.986745        3.1239\n",
            "BFGS:  223 15:29:16      -85.166672        3.1822\n",
            "BFGS:  224 15:29:16      -85.300806        3.0231\n",
            "BFGS:  225 15:29:16      -85.429042        2.6357\n",
            "BFGS:  226 15:29:16      -85.513495        1.8708\n",
            "BFGS:  227 15:29:16      -85.570631        0.6388\n",
            "BFGS:  228 15:29:16      -85.585678        0.5118\n",
            "BFGS:  229 15:29:16      -85.594387        0.3560\n",
            "BFGS:  230 15:29:16      -85.597236        0.2579\n",
            "BFGS:  231 15:29:16      -85.598964        0.3131\n",
            "BFGS:  232 15:29:16      -85.600645        0.2899\n",
            "BFGS:  233 15:29:16      -85.602610        0.2271\n",
            "BFGS:  234 15:29:16      -85.604601        0.1903\n",
            "BFGS:  235 15:29:16      -85.606148        0.1498\n",
            "BFGS:  236 15:29:16      -85.607011        0.1377\n",
            "BFGS:  237 15:29:16      -85.607560        0.1368\n",
            "BFGS:  238 15:29:16      -85.608040        0.1831\n",
            "BFGS:  239 15:29:16      -85.608477        0.1953\n",
            "BFGS:  240 15:29:16      -85.608817        0.1552\n",
            "BFGS:  241 15:29:16      -85.609065        0.1039\n",
            "BFGS:  242 15:29:16      -85.609266        0.0863\n",
            "BFGS:  243 15:29:16      -85.609436        0.0701\n",
            "BFGS:  244 15:29:16      -85.609583        0.0642\n",
            "BFGS:  245 15:29:16      -85.609734        0.0640\n",
            "BFGS:  246 15:29:16      -85.609916        0.0652\n",
            "BFGS:  247 15:29:16      -85.610122        0.0634\n",
            "BFGS:  248 15:29:16      -85.610290        0.0587\n",
            "BFGS:  249 15:29:16      -85.610388        0.0394\n",
            "BFGS:  250 15:29:16      -85.610452        0.0316\n",
            "BFGS:  251 15:29:16      -85.610518        0.0304\n",
            "BFGS:  252 15:29:16      -85.610593        0.0264\n",
            "BFGS:  253 15:29:16      -85.610654        0.0227\n",
            "BFGS:  254 15:29:16      -85.610686        0.0278\n",
            "BFGS:  255 15:29:16      -85.610702        0.0261\n",
            "BFGS:  256 15:29:16      -85.610715        0.0203\n",
            "BFGS:  257 15:29:16      -85.610732        0.0169\n",
            "BFGS:  258 15:29:16      -85.610754        0.0204\n",
            "BFGS:  259 15:29:16      -85.610778        0.0211\n",
            "BFGS:  260 15:29:16      -85.610799        0.0212\n",
            "BFGS:  261 15:29:16      -85.610816        0.0196\n",
            "BFGS:  262 15:29:16      -85.610834        0.0227\n",
            "BFGS:  263 15:29:16      -85.610860        0.0255\n",
            "BFGS:  264 15:29:16      -85.610899        0.0300\n",
            "BFGS:  265 15:29:16      -85.610953        0.0375\n",
            "BFGS:  266 15:29:16      -85.611013        0.0340\n",
            "BFGS:  267 15:29:16      -85.611071        0.0230\n",
            "BFGS:  268 15:29:16      -85.611136        0.0278\n",
            "BFGS:  269 15:29:16      -85.611219        0.0348\n",
            "BFGS:  270 15:29:16      -85.611317        0.0372\n",
            "BFGS:  271 15:29:16      -85.611402        0.0337\n",
            "BFGS:  272 15:29:16      -85.611451        0.0284\n",
            "BFGS:  273 15:29:16      -85.611473        0.0167\n",
            "BFGS:  274 15:29:16      -85.611485        0.0138\n",
            "BFGS:  275 15:29:16      -85.611493        0.0134\n",
            "BFGS:  276 15:29:16      -85.611499        0.0105\n",
            "BFGS:  277 15:29:16      -85.611503        0.0065\n",
            "Original structure:\n",
            " Ni  B  N \n",
            " 1.0000000000000000\n",
            "     2.4600000686580152    0.0000000000000000    0.0000000000000002\n",
            "     0.0000075375295471   17.3948258624982834    0.0000000000000011\n",
            "     0.0000000000000000    0.0000000000000000   26.6899999999999977\n",
            " Ni  B   N  \n",
            "  20   8   8\n",
            "Cartesian\n",
            "  1.2300068181056012 15.6553432762484537  0.0000000000000011\n",
            "  1.2300007880819621  1.7394825862498284  0.0000000000000002\n",
            "  1.2300022955878709  5.2184477587494849  0.0000000000000004\n",
            "  1.2300038030937803  8.6974129312491435  0.0000000000000007\n",
            "  1.2300053105996898 12.1763781037487977  0.0000000000000009\n",
            "  0.0000000000000000  0.0000000000000000  1.2300000000000002\n",
            "  2.4600015761639242  3.4789651724996569  1.2300000000000006\n",
            "  0.0000030150118188  6.9579303449993137  1.2300000000000006\n",
            "  0.0000045225177283 10.4368955174989715  1.2300000000000009\n",
            "  2.4600060986816525 13.9158606899986275  1.2300000000000013\n",
            "  1.2300068181056012 15.6553432762484537  2.4600000000000013\n",
            "  1.2300007880819621  1.7394825862498284  2.4600000000000004\n",
            "  1.2300022955878709  5.2184477587494849  2.4600000000000009\n",
            "  1.2300038030937803  8.6974129312491435  2.4600000000000009\n",
            "  1.2300053105996898 12.1763781037487977  2.4600000000000013\n",
            "  0.0000000000000000  0.0000000000000000  3.6900000000000004\n",
            "  2.4600015761639242  3.4789651724996569  3.6900000000000008\n",
            "  0.0000030150118188  6.9579303449993137  3.6900000000000008\n",
            "  0.0000045225177283 10.4368955174989715  3.6900000000000008\n",
            "  2.4600060986816525 13.9158606899986275  3.6900000000000013\n",
            "  1.2300066296673611 15.2204726296859985  6.6899999999999986\n",
            "  0.0000056531471603 13.0461193968737135  6.6899999999999986\n",
            "  1.2300047452849743 10.8717661640614285  6.6899999999999986\n",
            "  0.0000037687647735  8.6974129312491417  6.6900000000000013\n",
            "  1.2300028609025875  6.5230596984368567  6.6900000000000013\n",
            "  0.0000018843823868  4.3487064656245709  6.6899999999999977\n",
            "  1.2300009765202007  2.1743532328122854  6.6899999999999977\n",
            "  0.0000000000000000  0.0000000000000000  6.6899999999999977\n",
            "  1.2300047715395508 13.7709030830267327  6.6899999999999986\n",
            "  2.4600038636773651 11.5965498502144460  6.6899999999999986\n",
            "  1.2300028871571644  9.4221966174021610  6.6900000000000013\n",
            "  2.4600019792949777  7.2478433845898760  6.6900000000000013\n",
            "  1.2300010027747772  5.0734901517775883  6.6899999999999977\n",
            "  2.4600000949125911  2.8991369189653033  6.6899999999999977\n",
            "  1.2299991183923908  0.7247836861530175  6.6899999999999977\n",
            "  2.4600057480597513 15.9452563158390124  6.6899999999999986\n",
            "\n",
            "\n",
            "Relaxed structure:\n",
            " Ni  B  N \n",
            " 1.0000000000000000\n",
            "     2.4600000686580152    0.0000000000000000    0.0000000000000002\n",
            "     0.0000075375295471   17.3948258624982834    0.0000000000000011\n",
            "     0.0000000000000000    0.0000000000000000   26.6899999999999977\n",
            " Ni  B   N  \n",
            "  20   8   8\n",
            "Cartesian\n",
            "  0.8659006601040534 13.8363802222535348  1.7777605937381691\n",
            "  1.5940914698663249  3.5416765865691646  1.8392487784467413\n",
            "  0.8929240268321755  4.3158664284589037  1.4164389148490901\n",
            "  1.2302619669876662  9.0657140210100842  1.3414192303654278\n",
            "  1.5672921711326853 13.0060151270532867  1.4805667075223858\n",
            " -0.3073566514262931 -0.2886170300707762  1.3472333438467421\n",
            "  2.8741392065841693  3.3806413629744356  1.8080944330331401\n",
            " -0.6148768085946738  8.2058688690439556  1.7149897923688240\n",
            " -0.0003384766902775  9.0659675740072192  1.3416030521998143\n",
            "  2.0457011150653353 13.9908272577303254  1.7222891971943326\n",
            "  0.9224943296132108 17.1063068031443919  1.3473616337493486\n",
            "  1.5376962073851517  0.2902614988521172  2.0845586449044204\n",
            "  0.8908225686888120  4.1171652007299810  2.5059728800365817\n",
            "  1.2302685347985021  8.8202905175806876  2.4230082908519264\n",
            "  1.5689720819215736 13.3715743333885033  2.5260131908755565\n",
            "  0.3074449308173597  0.2902094773829318  2.0847256819874924\n",
            "  2.3593863275321039  4.3506653806333828  1.9838708355079551\n",
            "  0.6148597060904097  8.2062967218805660  1.7150091859653551\n",
            " -0.0001522413613970  8.8203398822751780  2.4231622315606751\n",
            "  2.5605373303399048 13.0599825275923962  2.0468081680616317\n",
            "  0.9224721089232371 14.9837598731785917  6.6794454991066754\n",
            "  0.3075116922455745 14.0463336812984565  6.6857475804031772\n",
            "  1.0250489310202864  9.5991307852790300  6.4523364247343302\n",
            "  0.4099381365788266  9.0232766003853389  7.1919038568961380\n",
            "  1.0252092531613377  8.4905156839927898  6.4209019584068594\n",
            "  0.2048220904861942  3.1185422879005871  6.8989040939841777\n",
            "  0.8198549611661184  2.5059680401236237  6.1894117114441505\n",
            "  0.2047249002138103  2.0129087017225693  6.9864954811282862\n",
            "  1.5377414735440516 14.0465881776715094  6.6857542846478593\n",
            "  2.2549829212453214  9.5993404271613905  6.4523007804351824\n",
            "  1.6400998332479075  9.0235674132720796  7.1921086702096328\n",
            "  2.2547524008834747  8.4907064701307924  6.4206368385239028\n",
            "  1.4350266956927751  3.1184919864739280  6.8988666838080794\n",
            "  2.0499552240718657  2.5060914089991888  6.1891590619431796\n",
            "  1.4351211918860443  2.0128779633773792  6.9864378298918055\n",
            "  2.1527841701110986 14.9839510257417228  6.6794544573772852\n",
            "\n",
            "The final energy is -85.612 eV.\n"
          ]
        }
      ],
      "source": [
        "# Per https://github.com/materialsvirtuallab/matgl/blob/main/examples/Relaxations%20and%20Simulations%20using%20the%20M3GNet%20Universal%20Potential.ipynb\n",
        "from src.utils import poscar_to_ase, ase_to_poscar, ase_to_pymatgen, pymatgen_to_ase\n",
        "from ase.optimize import BFGS\n",
        "from ase.calculators.lj import LennardJones as LJ\n",
        "\n",
        "# relax the interface\n",
        "ase_interface = poscar_to_ase(interface.to(fmt=\"poscar\"))\n",
        "ase_interface.set_calculator(LJ())\n",
        "dyn = BFGS(ase_interface)\n",
        "dyn.run(fmax=0.01)\n",
        "\n",
        "# extract results\n",
        "ase_original_interface = pymatgen_to_ase(interface)\n",
        "ase_relaxed_interface = ase_interface\n",
        "relaxed_energy = ase_interface.get_total_energy()\n",
        "\n",
        "# print out the final relaxed structure and energy\n",
        "print('Original structure:\\n', ase_to_poscar(ase_original_interface))\n",
        "print('\\nRelaxed structure:\\n', ase_to_poscar(ase_relaxed_interface))\n",
        "print(f\"The final energy is {float(relaxed_energy):.3f} eV.\")"
      ]
    },
    {
      "cell_type": "markdown",
      "metadata": {},
      "source": [
        "### 7.2. View structure before and after relaxation"
      ]
    },
    {
      "cell_type": "code",
      "execution_count": 13,
      "metadata": {},
      "outputs": [],
      "source": [
        "from ase.visualize import view\n",
        "\n",
        "# view(ase_original_interface, viewer=\"x3d\")\n",
        "# view(ase_relaxed_interface, viewer=\"x3d\")\n"
      ]
    },
    {
      "cell_type": "markdown",
      "metadata": {},
      "source": [
        "### 7.3. Calculate energy energy using ASE LJ"
      ]
    },
    {
      "cell_type": "code",
      "execution_count": 14,
      "metadata": {},
      "outputs": [
        {
          "name": "stdout",
          "output_type": "stream",
          "text": [
            "42.79127281604002\n",
            "36\n",
            "20\n",
            "0\n",
            "Relaxed interface energy: -85.6115 eV\n",
            "Original Substrate energy: -1.1239 eV\n",
            "Original Layer energy: 0.0000 eV\n",
            "Original Delta: -84.4876 eV\n",
            "Original Delta per area: -1.9744 eV/Ang^2\n",
            "Relaxed Substrate energy: -46.1431 eV\n",
            "Relaxed Layer energy: 0.0000 eV\n",
            "Relaxed Delta: -39.4684 eV\n",
            "Relaxed Delta per area: -0.9223 eV/Ang^2\n",
            "Effective relaxed Delta per area: -0.7008 eV/Ang^2\n",
            "Ni  B  N \n",
            " 1.0000000000000000\n",
            "     2.4600000686580152    0.0000000000000000    0.0000000000000002\n",
            "     0.0000075375295471   17.3948258624982834    0.0000000000000011\n",
            "     0.0000000000000000    0.0000000000000000   26.6899999999999977\n",
            " Ni  B   N  \n",
            "  20   8   8\n",
            "Cartesian\n",
            "  0.8659006601040534 13.8363802222535348  1.7777605937381691\n",
            "  1.5940914698663249  3.5416765865691646  1.8392487784467413\n",
            "  0.8929240268321755  4.3158664284589037  1.4164389148490901\n",
            "  1.2302619669876662  9.0657140210100842  1.3414192303654278\n",
            "  1.5672921711326853 13.0060151270532867  1.4805667075223858\n",
            " -0.3073566514262931 -0.2886170300707762  1.3472333438467421\n",
            "  2.8741392065841693  3.3806413629744356  1.8080944330331401\n",
            " -0.6148768085946738  8.2058688690439556  1.7149897923688240\n",
            " -0.0003384766902775  9.0659675740072192  1.3416030521998143\n",
            "  2.0457011150653353 13.9908272577303254  1.7222891971943326\n",
            "  0.9224943296132108 17.1063068031443919  1.3473616337493486\n",
            "  1.5376962073851517  0.2902614988521172  2.0845586449044204\n",
            "  0.8908225686888120  4.1171652007299810  2.5059728800365817\n",
            "  1.2302685347985021  8.8202905175806876  2.4230082908519264\n",
            "  1.5689720819215736 13.3715743333885033  2.5260131908755565\n",
            "  0.3074449308173597  0.2902094773829318  2.0847256819874924\n",
            "  2.3593863275321039  4.3506653806333828  1.9838708355079551\n",
            "  0.6148597060904097  8.2062967218805660  1.7150091859653551\n",
            " -0.0001522413613970  8.8203398822751780  2.4231622315606751\n",
            "  2.5605373303399048 13.0599825275923962  2.0468081680616317\n",
            "  0.9224721089232371 14.9837598731785917  6.6794454991066754\n",
            "  0.3075116922455745 14.0463336812984565  6.6857475804031772\n",
            "  1.0250489310202864  9.5991307852790300  6.4523364247343302\n",
            "  0.4099381365788266  9.0232766003853389  7.1919038568961380\n",
            "  1.0252092531613377  8.4905156839927898  6.4209019584068594\n",
            "  0.2048220904861942  3.1185422879005871  6.8989040939841777\n",
            "  0.8198549611661184  2.5059680401236237  6.1894117114441505\n",
            "  0.2047249002138103  2.0129087017225693  6.9864954811282862\n",
            "  1.5377414735440516 14.0465881776715094  6.6857542846478593\n",
            "  2.2549829212453214  9.5993404271613905  6.4523007804351824\n",
            "  1.6400998332479075  9.0235674132720796  7.1921086702096328\n",
            "  2.2547524008834747  8.4907064701307924  6.4206368385239028\n",
            "  1.4350266956927751  3.1184919864739280  6.8988666838080794\n",
            "  2.0499552240718657  2.5060914089991888  6.1891590619431796\n",
            "  1.4351211918860443  2.0128779633773792  6.9864378298918055\n",
            "  2.1527841701110986 14.9839510257417228  6.6794544573772852\n",
            "\n",
            "Ni \n",
            " 1.0000000000000000\n",
            "     2.4600000686580152    0.0000000000000000    0.0000000000000002\n",
            "     0.0000075375295471   17.3948258624982834    0.0000000000000011\n",
            "     0.0000000000000000    0.0000000000000000   26.6899999999999977\n",
            " Ni \n",
            "  20\n",
            "Cartesian\n",
            "  0.8659006601040534 13.8363802222535348  1.7777605937381691\n",
            "  1.5940914698663249  3.5416765865691646  1.8392487784467413\n",
            "  0.8929240268321755  4.3158664284589037  1.4164389148490901\n",
            "  1.2302619669876662  9.0657140210100842  1.3414192303654278\n",
            "  1.5672921711326853 13.0060151270532867  1.4805667075223858\n",
            " -0.3073566514262931 -0.2886170300707762  1.3472333438467421\n",
            "  2.8741392065841693  3.3806413629744356  1.8080944330331401\n",
            " -0.6148768085946738  8.2058688690439556  1.7149897923688240\n",
            " -0.0003384766902775  9.0659675740072192  1.3416030521998143\n",
            "  2.0457011150653353 13.9908272577303254  1.7222891971943326\n",
            "  0.9224943296132108 17.1063068031443919  1.3473616337493486\n",
            "  1.5376962073851517  0.2902614988521172  2.0845586449044204\n",
            "  0.8908225686888120  4.1171652007299810  2.5059728800365817\n",
            "  1.2302685347985021  8.8202905175806876  2.4230082908519264\n",
            "  1.5689720819215736 13.3715743333885033  2.5260131908755565\n",
            "  0.3074449308173597  0.2902094773829318  2.0847256819874924\n",
            "  2.3593863275321039  4.3506653806333828  1.9838708355079551\n",
            "  0.6148597060904097  8.2062967218805660  1.7150091859653551\n",
            " -0.0001522413613970  8.8203398822751780  2.4231622315606751\n",
            "  2.5605373303399048 13.0599825275923962  2.0468081680616317\n",
            "\n"
          ]
        },
        {
          "ename": "IndexError",
          "evalue": "list index out of range",
          "output_type": "error",
          "traceback": [
            "\u001b[0;31m---------------------------------------------------------------------------\u001b[0m",
            "\u001b[0;31mIndexError\u001b[0m                                Traceback (most recent call last)",
            "Cell \u001b[0;32mIn[14], line 51\u001b[0m\n\u001b[1;32m     49\u001b[0m \u001b[38;5;28mprint\u001b[39m(ase_to_poscar(ase_relaxed_interface))\n\u001b[1;32m     50\u001b[0m \u001b[38;5;28mprint\u001b[39m(ase_to_poscar(nickel_relaxed_interface))\n\u001b[0;32m---> 51\u001b[0m \u001b[38;5;28mprint\u001b[39m(\u001b[43mase_to_poscar\u001b[49m\u001b[43m(\u001b[49m\u001b[43mgraphene_relaxed_interface\u001b[49m\u001b[43m)\u001b[49m)\n\u001b[1;32m     52\u001b[0m \u001b[38;5;28mprint\u001b[39m(ase_to_poscar(nickel_original_interface))\n\u001b[1;32m     53\u001b[0m \u001b[38;5;28mprint\u001b[39m(ase_to_poscar(graphene_original_interface))\n",
            "File \u001b[0;32m~/code/green/api-examples/other/materials_designer/src/utils.py:102\u001b[0m, in \u001b[0;36mase_to_poscar\u001b[0;34m(atoms)\u001b[0m\n\u001b[1;32m    100\u001b[0m \u001b[38;5;28;01mdef\u001b[39;00m \u001b[38;5;21mase_to_poscar\u001b[39m(atoms: ase_Atoms):\n\u001b[1;32m    101\u001b[0m     output \u001b[38;5;241m=\u001b[39m io\u001b[38;5;241m.\u001b[39mStringIO()\n\u001b[0;32m--> 102\u001b[0m     \u001b[43mwrite\u001b[49m\u001b[43m(\u001b[49m\u001b[43moutput\u001b[49m\u001b[43m,\u001b[49m\u001b[43m \u001b[49m\u001b[43matoms\u001b[49m\u001b[43m,\u001b[49m\u001b[43m \u001b[49m\u001b[38;5;28;43mformat\u001b[39;49m\u001b[38;5;241;43m=\u001b[39;49m\u001b[38;5;124;43m\"\u001b[39;49m\u001b[38;5;124;43mvasp\u001b[39;49m\u001b[38;5;124;43m\"\u001b[39;49m\u001b[43m)\u001b[49m\n\u001b[1;32m    103\u001b[0m     content \u001b[38;5;241m=\u001b[39m output\u001b[38;5;241m.\u001b[39mgetvalue()\n\u001b[1;32m    104\u001b[0m     output\u001b[38;5;241m.\u001b[39mclose()\n",
            "File \u001b[0;32m~/code/green/api-examples/.venv-3.10/lib/python3.10/site-packages/ase/io/formats.py:628\u001b[0m, in \u001b[0;36mwrite\u001b[0;34m(filename, images, format, parallel, append, **kwargs)\u001b[0m\n\u001b[1;32m    624\u001b[0m \u001b[38;5;28mformat\u001b[39m \u001b[38;5;241m=\u001b[39m \u001b[38;5;28mformat\u001b[39m \u001b[38;5;129;01mor\u001b[39;00m \u001b[38;5;124m'\u001b[39m\u001b[38;5;124mjson\u001b[39m\u001b[38;5;124m'\u001b[39m  \u001b[38;5;66;03m# default is json\u001b[39;00m\n\u001b[1;32m    626\u001b[0m io \u001b[38;5;241m=\u001b[39m get_ioformat(\u001b[38;5;28mformat\u001b[39m)\n\u001b[0;32m--> 628\u001b[0m \u001b[38;5;28;01mreturn\u001b[39;00m \u001b[43m_write\u001b[49m\u001b[43m(\u001b[49m\u001b[43mfilename\u001b[49m\u001b[43m,\u001b[49m\u001b[43m \u001b[49m\u001b[43mfd\u001b[49m\u001b[43m,\u001b[49m\u001b[43m \u001b[49m\u001b[38;5;28;43mformat\u001b[39;49m\u001b[43m,\u001b[49m\u001b[43m \u001b[49m\u001b[43mio\u001b[49m\u001b[43m,\u001b[49m\u001b[43m \u001b[49m\u001b[43mimages\u001b[49m\u001b[43m,\u001b[49m\n\u001b[1;32m    629\u001b[0m \u001b[43m              \u001b[49m\u001b[43mparallel\u001b[49m\u001b[38;5;241;43m=\u001b[39;49m\u001b[43mparallel\u001b[49m\u001b[43m,\u001b[49m\u001b[43m \u001b[49m\u001b[43mappend\u001b[49m\u001b[38;5;241;43m=\u001b[39;49m\u001b[43mappend\u001b[49m\u001b[43m,\u001b[49m\u001b[43m \u001b[49m\u001b[38;5;241;43m*\u001b[39;49m\u001b[38;5;241;43m*\u001b[39;49m\u001b[43mkwargs\u001b[49m\u001b[43m)\u001b[49m\n",
            "File \u001b[0;32m~/code/green/api-examples/.venv-3.10/lib/python3.10/site-packages/ase/parallel.py:244\u001b[0m, in \u001b[0;36mparallel_function.<locals>.new_func\u001b[0;34m(*args, **kwargs)\u001b[0m\n\u001b[1;32m    238\u001b[0m \u001b[38;5;129m@functools\u001b[39m\u001b[38;5;241m.\u001b[39mwraps(func)\n\u001b[1;32m    239\u001b[0m \u001b[38;5;28;01mdef\u001b[39;00m \u001b[38;5;21mnew_func\u001b[39m(\u001b[38;5;241m*\u001b[39margs, \u001b[38;5;241m*\u001b[39m\u001b[38;5;241m*\u001b[39mkwargs):\n\u001b[1;32m    240\u001b[0m     \u001b[38;5;28;01mif\u001b[39;00m (world\u001b[38;5;241m.\u001b[39msize \u001b[38;5;241m==\u001b[39m \u001b[38;5;241m1\u001b[39m \u001b[38;5;129;01mor\u001b[39;00m\n\u001b[1;32m    241\u001b[0m         args \u001b[38;5;129;01mand\u001b[39;00m \u001b[38;5;28mgetattr\u001b[39m(args[\u001b[38;5;241m0\u001b[39m], \u001b[38;5;124m'\u001b[39m\u001b[38;5;124mserial\u001b[39m\u001b[38;5;124m'\u001b[39m, \u001b[38;5;28;01mFalse\u001b[39;00m) \u001b[38;5;129;01mor\u001b[39;00m\n\u001b[1;32m    242\u001b[0m         \u001b[38;5;129;01mnot\u001b[39;00m kwargs\u001b[38;5;241m.\u001b[39mpop(\u001b[38;5;124m'\u001b[39m\u001b[38;5;124mparallel\u001b[39m\u001b[38;5;124m'\u001b[39m, \u001b[38;5;28;01mTrue\u001b[39;00m)):\n\u001b[1;32m    243\u001b[0m         \u001b[38;5;66;03m# Disable:\u001b[39;00m\n\u001b[0;32m--> 244\u001b[0m         \u001b[38;5;28;01mreturn\u001b[39;00m \u001b[43mfunc\u001b[49m\u001b[43m(\u001b[49m\u001b[38;5;241;43m*\u001b[39;49m\u001b[43margs\u001b[49m\u001b[43m,\u001b[49m\u001b[43m \u001b[49m\u001b[38;5;241;43m*\u001b[39;49m\u001b[38;5;241;43m*\u001b[39;49m\u001b[43mkwargs\u001b[49m\u001b[43m)\u001b[49m\n\u001b[1;32m    246\u001b[0m     ex \u001b[38;5;241m=\u001b[39m \u001b[38;5;28;01mNone\u001b[39;00m\n\u001b[1;32m    247\u001b[0m     result \u001b[38;5;241m=\u001b[39m \u001b[38;5;28;01mNone\u001b[39;00m\n",
            "File \u001b[0;32m~/code/green/api-examples/.venv-3.10/lib/python3.10/site-packages/ase/io/formats.py:664\u001b[0m, in \u001b[0;36m_write\u001b[0;34m(filename, fd, format, io, images, parallel, append, **kwargs)\u001b[0m\n\u001b[1;32m    661\u001b[0m         fd \u001b[38;5;241m=\u001b[39m open_with_compression(filename, mode)\n\u001b[1;32m    662\u001b[0m         \u001b[38;5;66;03m# XXX remember to re-enable compressed open\u001b[39;00m\n\u001b[1;32m    663\u001b[0m         \u001b[38;5;66;03m# fd = io.open(filename, mode)\u001b[39;00m\n\u001b[0;32m--> 664\u001b[0m     \u001b[38;5;28;01mreturn\u001b[39;00m \u001b[43mio\u001b[49m\u001b[38;5;241;43m.\u001b[39;49m\u001b[43mwrite\u001b[49m\u001b[43m(\u001b[49m\u001b[43mfd\u001b[49m\u001b[43m,\u001b[49m\u001b[43m \u001b[49m\u001b[43mimages\u001b[49m\u001b[43m,\u001b[49m\u001b[43m \u001b[49m\u001b[38;5;241;43m*\u001b[39;49m\u001b[38;5;241;43m*\u001b[39;49m\u001b[43mkwargs\u001b[49m\u001b[43m)\u001b[49m\n\u001b[1;32m    665\u001b[0m \u001b[38;5;28;01mfinally\u001b[39;00m:\n\u001b[1;32m    666\u001b[0m     \u001b[38;5;28;01mif\u001b[39;00m open_new \u001b[38;5;129;01mand\u001b[39;00m fd \u001b[38;5;129;01mis\u001b[39;00m \u001b[38;5;129;01mnot\u001b[39;00m \u001b[38;5;28;01mNone\u001b[39;00m:\n",
            "File \u001b[0;32m~/code/green/api-examples/.venv-3.10/lib/python3.10/site-packages/ase/io/formats.py:191\u001b[0m, in \u001b[0;36mIOFormat._write_wrapper\u001b[0;34m(self, *args, **kwargs)\u001b[0m\n\u001b[1;32m    189\u001b[0m \u001b[38;5;28;01mif\u001b[39;00m function \u001b[38;5;129;01mis\u001b[39;00m \u001b[38;5;28;01mNone\u001b[39;00m:\n\u001b[1;32m    190\u001b[0m     \u001b[38;5;28;01mraise\u001b[39;00m \u001b[38;5;167;01mValueError\u001b[39;00m(\u001b[38;5;124mf\u001b[39m\u001b[38;5;124m'\u001b[39m\u001b[38;5;124mCannot write to \u001b[39m\u001b[38;5;132;01m{\u001b[39;00m\u001b[38;5;28mself\u001b[39m\u001b[38;5;241m.\u001b[39mname\u001b[38;5;132;01m}\u001b[39;00m\u001b[38;5;124m-format\u001b[39m\u001b[38;5;124m'\u001b[39m)\n\u001b[0;32m--> 191\u001b[0m \u001b[38;5;28;01mreturn\u001b[39;00m \u001b[43mfunction\u001b[49m\u001b[43m(\u001b[49m\u001b[38;5;241;43m*\u001b[39;49m\u001b[43margs\u001b[49m\u001b[43m,\u001b[49m\u001b[43m \u001b[49m\u001b[38;5;241;43m*\u001b[39;49m\u001b[38;5;241;43m*\u001b[39;49m\u001b[43mkwargs\u001b[49m\u001b[43m)\u001b[49m\n",
            "File \u001b[0;32m~/code/green/api-examples/.venv-3.10/lib/python3.10/site-packages/ase/utils/__init__.py:486\u001b[0m, in \u001b[0;36miofunction.__call__.<locals>.iofunc\u001b[0;34m(file, *args, **kwargs)\u001b[0m\n\u001b[1;32m    484\u001b[0m     \u001b[38;5;28;01melse\u001b[39;00m:\n\u001b[1;32m    485\u001b[0m         fd \u001b[38;5;241m=\u001b[39m file\n\u001b[0;32m--> 486\u001b[0m     obj \u001b[38;5;241m=\u001b[39m \u001b[43mfunc\u001b[49m\u001b[43m(\u001b[49m\u001b[43mfd\u001b[49m\u001b[43m,\u001b[49m\u001b[43m \u001b[49m\u001b[38;5;241;43m*\u001b[39;49m\u001b[43margs\u001b[49m\u001b[43m,\u001b[49m\u001b[43m \u001b[49m\u001b[38;5;241;43m*\u001b[39;49m\u001b[38;5;241;43m*\u001b[39;49m\u001b[43mkwargs\u001b[49m\u001b[43m)\u001b[49m\n\u001b[1;32m    487\u001b[0m     \u001b[38;5;28;01mreturn\u001b[39;00m obj\n\u001b[1;32m    488\u001b[0m \u001b[38;5;28;01mfinally\u001b[39;00m:\n",
            "File \u001b[0;32m~/code/green/api-examples/.venv-3.10/lib/python3.10/site-packages/ase/io/vasp.py:774\u001b[0m, in \u001b[0;36mwrite_vasp\u001b[0;34m(filename, atoms, label, direct, sort, symbol_count, long_format, vasp5, ignore_constraints, wrap)\u001b[0m\n\u001b[1;32m    772\u001b[0m     sc \u001b[38;5;241m=\u001b[39m symbol_count\n\u001b[1;32m    773\u001b[0m \u001b[38;5;28;01melse\u001b[39;00m:\n\u001b[0;32m--> 774\u001b[0m     sc \u001b[38;5;241m=\u001b[39m \u001b[43m_symbol_count_from_symbols\u001b[49m\u001b[43m(\u001b[49m\u001b[43msymbols\u001b[49m\u001b[43m)\u001b[49m\n\u001b[1;32m    776\u001b[0m \u001b[38;5;66;03m# Create the label\u001b[39;00m\n\u001b[1;32m    777\u001b[0m \u001b[38;5;28;01mif\u001b[39;00m label \u001b[38;5;129;01mis\u001b[39;00m \u001b[38;5;28;01mNone\u001b[39;00m:\n",
            "File \u001b[0;32m~/code/green/api-examples/.venv-3.10/lib/python3.10/site-packages/ase/io/vasp.py:656\u001b[0m, in \u001b[0;36m_symbol_count_from_symbols\u001b[0;34m(symbols)\u001b[0m\n\u001b[1;32m    647\u001b[0m \u001b[38;5;250m\u001b[39m\u001b[38;5;124;03m\"\"\"Reduce list of chemical symbols into compact VASP notation\u001b[39;00m\n\u001b[1;32m    648\u001b[0m \n\u001b[1;32m    649\u001b[0m \u001b[38;5;124;03margs:\u001b[39;00m\n\u001b[0;32m   (...)\u001b[0m\n\u001b[1;32m    653\u001b[0m \u001b[38;5;124;03m    list of pairs [(el1, c1), (el2, c2), ...]\u001b[39;00m\n\u001b[1;32m    654\u001b[0m \u001b[38;5;124;03m\"\"\"\u001b[39;00m\n\u001b[1;32m    655\u001b[0m sc \u001b[38;5;241m=\u001b[39m []\n\u001b[0;32m--> 656\u001b[0m psym \u001b[38;5;241m=\u001b[39m \u001b[43msymbols\u001b[49m\u001b[43m[\u001b[49m\u001b[38;5;241;43m0\u001b[39;49m\u001b[43m]\u001b[49m\n\u001b[1;32m    657\u001b[0m count \u001b[38;5;241m=\u001b[39m \u001b[38;5;241m0\u001b[39m\n\u001b[1;32m    658\u001b[0m \u001b[38;5;28;01mfor\u001b[39;00m sym \u001b[38;5;129;01min\u001b[39;00m symbols:\n",
            "\u001b[0;31mIndexError\u001b[0m: list index out of range"
          ]
        }
      ],
      "source": [
        "from ase import Atoms\n",
        "nickel_relaxed_interface = ase_relaxed_interface.copy()\n",
        "graphene_relaxed_interface = ase_relaxed_interface.copy()\n",
        "nickel_original_interface = ase_original_interface.copy()\n",
        "graphene_original_interface = ase_original_interface.copy()\n",
        "\n",
        "del nickel_relaxed_interface[[atom.index for atom in nickel_relaxed_interface if atom.symbol != 'Ni']]\n",
        "del graphene_relaxed_interface[[atom.index for atom in graphene_relaxed_interface if atom.symbol != 'BN']]\n",
        "del nickel_original_interface[[atom.index for atom in nickel_original_interface if atom.symbol != 'Ni']]\n",
        "del graphene_original_interface[[atom.index for atom in graphene_original_interface if atom.symbol != 'BN']]\n",
        "\n",
        "#set LJ calculator\n",
        "nickel_relaxed_interface.set_calculator(LJ())\n",
        "graphene_relaxed_interface.set_calculator(LJ())\n",
        "nickel_original_interface.set_calculator(LJ())\n",
        "graphene_original_interface.set_calculator(LJ())\n",
        "\n",
        "original_substrate_energy = nickel_original_interface.get_total_energy()\n",
        "original_layer_energy = graphene_original_interface.get_total_energy()\n",
        "relaxed_substrate_energy = nickel_relaxed_interface.get_total_energy()\n",
        "relaxed_layer_energy = graphene_relaxed_interface.get_total_energy()\n",
        "\n",
        "delta_original = relaxed_energy - original_substrate_energy - original_layer_energy\n",
        "delta_relaxed = relaxed_energy - relaxed_substrate_energy - relaxed_layer_energy\n",
        "\n",
        "# calculate area of interface\n",
        "area = ase_original_interface.get_volume() / ase_original_interface.cell[2, 2]\n",
        "print(area)\n",
        "\n",
        "effective_delta_relaxed = (relaxed_energy*ase_relaxed_interface.get_global_number_of_atoms() - \n",
        "                           nickel_relaxed_interface.get_global_number_of_atoms()*relaxed_substrate_energy - \n",
        "                           graphene_relaxed_interface.get_global_number_of_atoms()*relaxed_layer_energy)/(2*area*ase_relaxed_interface.get_global_number_of_atoms())\n",
        "print(ase_relaxed_interface.get_global_number_of_atoms())\n",
        "print(nickel_relaxed_interface.get_global_number_of_atoms())\n",
        "print(graphene_relaxed_interface.get_global_number_of_atoms())\n",
        "# print(f\"Original interface energy: {ase_original_interface.get_total_energy():.4f} eV\")\n",
        "print(f\"Relaxed interface energy: {relaxed_energy:.4f} eV\")\n",
        "print(f\"Original Substrate energy: {original_substrate_energy:.4f} eV\")\n",
        "print(f\"Original Layer energy: {original_layer_energy:.4f} eV\")\n",
        "print(f\"Original Delta: {delta_original:.4f} eV\")\n",
        "print(f\"Original Delta per area: {delta_original / area:.4f} eV/Ang^2\")\n",
        "print(f\"Relaxed Substrate energy: {relaxed_substrate_energy:.4f} eV\")\n",
        "print(f\"Relaxed Layer energy: {relaxed_layer_energy:.4f} eV\")\n",
        "print(f\"Relaxed Delta: {delta_relaxed:.4f} eV\")\n",
        "print(f\"Relaxed Delta per area: {delta_relaxed / area:.4f} eV/Ang^2\")\n",
        "print(f\"Effective relaxed Delta per area: {effective_delta_relaxed:.4f} eV/Ang^2\")\n",
        "\n",
        "\n",
        "print(ase_to_poscar(ase_relaxed_interface))\n",
        "print(ase_to_poscar(nickel_relaxed_interface))\n",
        "print(ase_to_poscar(graphene_relaxed_interface))\n",
        "print(ase_to_poscar(nickel_original_interface))\n",
        "print(ase_to_poscar(graphene_original_interface))"
      ]
    },
    {
      "cell_type": "markdown",
      "metadata": {},
      "source": [
        "## 8. Pass relaxed interface to Materials Designer"
      ]
    },
    {
      "cell_type": "code",
      "execution_count": null,
      "metadata": {},
      "outputs": [
        {
          "ename": "ImportError",
          "evalue": "This module intended to be used in a Pyodide environment. Please install packages yourself using pip.",
          "output_type": "error",
          "traceback": [
            "\u001b[0;31m---------------------------------------------------------------------------\u001b[0m",
            "\u001b[0;31mModuleNotFoundError\u001b[0m                       Traceback (most recent call last)",
            "File \u001b[0;32m~/code/green/api-examples/other/materials_designer/jupyterlite/utils.py:6\u001b[0m\n\u001b[1;32m      5\u001b[0m \u001b[38;5;28;01mtry\u001b[39;00m:\n\u001b[0;32m----> 6\u001b[0m     \u001b[38;5;28;01mimport\u001b[39;00m \u001b[38;5;21;01mmicropip\u001b[39;00m\n\u001b[1;32m      7\u001b[0m \u001b[38;5;28;01mexcept\u001b[39;00m \u001b[38;5;167;01mImportError\u001b[39;00m:\n",
            "\u001b[0;31mModuleNotFoundError\u001b[0m: No module named 'micropip'",
            "\nDuring handling of the above exception, another exception occurred:\n",
            "\u001b[0;31mImportError\u001b[0m                               Traceback (most recent call last)",
            "Cell \u001b[0;32mIn[199], line 1\u001b[0m\n\u001b[0;32m----> 1\u001b[0m \u001b[38;5;28;01mfrom\u001b[39;00m \u001b[38;5;21;01mjupyterlite\u001b[39;00m\u001b[38;5;21;01m.\u001b[39;00m\u001b[38;5;21;01mutils\u001b[39;00m \u001b[38;5;28;01mimport\u001b[39;00m set_data\n\u001b[1;32m      2\u001b[0m \u001b[38;5;28;01mfrom\u001b[39;00m \u001b[38;5;21;01msrc\u001b[39;00m\u001b[38;5;21;01m.\u001b[39;00m\u001b[38;5;21;01mutils\u001b[39;00m \u001b[38;5;28;01mimport\u001b[39;00m from_pymatgen\n\u001b[1;32m      4\u001b[0m esse_interface \u001b[38;5;241m=\u001b[39m from_pymatgen(ase_to_pymatgen(ase_relaxed_interface))\n",
            "File \u001b[0;32m~/code/green/api-examples/other/materials_designer/jupyterlite/utils.py:8\u001b[0m\n\u001b[1;32m      6\u001b[0m     \u001b[38;5;28;01mimport\u001b[39;00m \u001b[38;5;21;01mmicropip\u001b[39;00m\n\u001b[1;32m      7\u001b[0m \u001b[38;5;28;01mexcept\u001b[39;00m \u001b[38;5;167;01mImportError\u001b[39;00m:\n\u001b[0;32m----> 8\u001b[0m     \u001b[38;5;28;01mraise\u001b[39;00m \u001b[38;5;167;01mImportError\u001b[39;00m(\n\u001b[1;32m      9\u001b[0m         \u001b[38;5;124m\"\u001b[39m\u001b[38;5;124mThis module intended to be used in a Pyodide environment. Please install packages yourself using pip.\u001b[39m\u001b[38;5;124m\"\u001b[39m\n\u001b[1;32m     10\u001b[0m     )\n\u001b[1;32m     12\u001b[0m \u001b[38;5;28;01masync\u001b[39;00m \u001b[38;5;28;01mdef\u001b[39;00m \u001b[38;5;21minstall_package\u001b[39m(pkg, verbose\u001b[38;5;241m=\u001b[39m\u001b[38;5;28;01mTrue\u001b[39;00m):\n\u001b[1;32m     13\u001b[0m \u001b[38;5;250m        \u001b[39m\u001b[38;5;124;03m\"\"\"\u001b[39;00m\n\u001b[1;32m     14\u001b[0m \u001b[38;5;124;03m        Installs a package in a Pyodide environment.\u001b[39;00m\n\u001b[1;32m     15\u001b[0m \u001b[38;5;124;03m        Args:\u001b[39;00m\n\u001b[0;32m   (...)\u001b[0m\n\u001b[1;32m     20\u001b[0m \u001b[38;5;124;03m            None\u001b[39;00m\n\u001b[1;32m     21\u001b[0m \u001b[38;5;124;03m        \"\"\"\u001b[39;00m\n",
            "\u001b[0;31mImportError\u001b[0m: This module intended to be used in a Pyodide environment. Please install packages yourself using pip."
          ]
        }
      ],
      "source": [
        "from jupyterlite.utils import set_data\n",
        "from src.utils import from_pymatgen\n",
        "\n",
        "esse_interface = from_pymatgen(ase_to_pymatgen(ase_relaxed_interface))\n",
        "set_data(\"materials\", [esse_interface] )"
      ]
    },
    {
      "cell_type": "code",
      "execution_count": null,
      "metadata": {},
      "outputs": [],
      "source": []
    }
  ],
  "metadata": {
    "kernelspec": {
      "display_name": ".venv",
      "language": "python",
      "name": "python3"
    },
    "language_info": {
      "codemirror_mode": {
        "name": "ipython",
        "version": 3
      },
      "file_extension": ".py",
      "mimetype": "text/x-python",
      "name": "python",
      "nbconvert_exporter": "python",
      "pygments_lexer": "ipython3",
      "version": "3.10.12"
    },
    "widgets": {
      "application/vnd.jupyter.widget-state+json": {
        "state": {},
        "version_major": 2,
        "version_minor": 0
      }
    }
  },
  "nbformat": 4,
  "nbformat_minor": 4
}
