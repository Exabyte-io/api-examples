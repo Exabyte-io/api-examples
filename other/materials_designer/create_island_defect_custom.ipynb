{
 "cells": [
  {
   "cell_type": "markdown",
   "id": "f2e1e795020d7b3f",
   "metadata": {
    "collapsed": false
   },
   "source": [
    "# Create  Custom Shape Island Defect on a Slab\n",
    "\n",
    "Create an island defect on a slab with a custom condition on coordinates extending the existing Class.\n",
    "\n",
    "<h2 style=\"color:green\">Usage</h2>\n",
    "\n",
    "1. Make sure to select Input Materials (in the outer runtime) before running the notebook.\n",
    "1. Adjust the CoordianteCondition class to define the custom shape of the island defect.\n",
    "1. Set the parameters in the \"Set the parameters\" section.\n",
    "1. Click “Run” > “Run All” to run all cells. \n",
    "1. Scroll down to view results. \n",
    "\n",
    "\n",
    "## Notes\n",
    "\n",
    "1. For more information, see [Introduction](Introduction.ipynb)\n",
    "<!-- # TODO: use a hashtag-based anchor link to interface creation documention above -->\n"
   ]
  },
  {
   "cell_type": "markdown",
   "id": "e82522518cb8724c",
   "metadata": {
    "collapsed": false
   },
   "source": [
    "## 1. Prepare the Environment\n",
    "### 1.1. Install Packages\n",
    "The step executes only in Pyodide environment. For other environments, the packages should be installed via `pip install` (see [README](../../README.ipynb))."
   ]
  },
  {
   "cell_type": "code",
   "execution_count": null,
   "id": "b1216c665d6cf493",
   "metadata": {
    "collapsed": false
   },
   "outputs": [],
   "source": [
    "import sys\n",
    "from typing import List\n",
    "\n",
    "\n",
    "if sys.platform == \"emscripten\":\n",
    "    import micropip\n",
    "    await micropip.install(\"mat3ra-api-examples\", deps=False)\n",
    "    await micropip.install('mat3ra-utils')\n",
    "    from mat3ra.utils.jupyterlite.packages import install_packages\n",
    "    await install_packages(\"\")"
   ]
  },
  {
   "cell_type": "markdown",
   "id": "c360bd0ea9a5f262",
   "metadata": {
    "collapsed": false
   },
   "source": [
    "### 1.2. Create custom Coordinate Conditions"
   ]
  },
  {
   "cell_type": "code",
   "execution_count": null,
   "id": "55f4289a6545c504",
   "metadata": {},
   "outputs": [],
   "source": [
    "import numpy as np\n",
    "from mat3ra.made.tools.helpers import CoordinateCondition\n",
    "\n",
    "# Custom Coordinate Condition for a torus shape\n",
    "class CustomCoordinateCondition(CoordinateCondition):\n",
    "    center: List[float] = [0.5, 0.5, 0.0]\n",
    "    major_radius: float = 0.5\n",
    "    minor_radius: float = 0.1 \n",
    "\n",
    "    def condition(self, coordinate: List[float]) -> bool:\n",
    "        coord = np.array(coordinate)\n",
    "        # Calculate the distance from the center in the xy-plane\n",
    "        xy_distance = np.linalg.norm(coord[:2] - self.center[:2])\n",
    "        # Calculate the distance from the torus surface\n",
    "        distance_to_torus = np.sqrt((xy_distance - self.major_radius) ** 2 + (coord[2] - self.center[2]) ** 2)\n",
    "        return distance_to_torus <= self.minor_radius\n"
   ]
  },
  {
   "cell_type": "markdown",
   "id": "535bbac2c3f2832b",
   "metadata": {
    "collapsed": false
   },
   "source": [
    "### 1.3. Set the parameters\n"
   ]
  },
  {
   "cell_type": "code",
   "execution_count": null,
   "id": "4f6c437b81325730",
   "metadata": {},
   "outputs": [],
   "source": [
    "CENTER_POSITION = [0.5, 0.5, 0.5]  # Center of the torus in crystal coordinates\n",
    "MAJOR_RADIUS = 0.3  # Major radius of the torus\n",
    "MINOR_RADIUS = 0.1  # Minor radius of the torus\n",
    "USE_CARTESIAN_COORDINATES = False # Use Cartesian coordinates for the condition\n",
    "\n",
    "NUMBER_OF_ADDED_LAYERS = 3  # Number of layers to add to the defect\n",
    "\n",
    "\n",
    "# Create slab with default parameters if imported material is not a slab\n",
    "DEFAULT_SLAB_PARAMETERS = {\n",
    "    \"miller_indices\": (0,0,1),\n",
    "    \"thickness\": 3,\n",
    "    \"vacuum\": 5.0,\n",
    "    \"use_orthogonal_c\": True,\n",
    "    \"xy_supercell_matrix\": [[10, 0], [0, 10]]\n",
    "}"
   ]
  },
  {
   "cell_type": "markdown",
   "id": "8ab363bab5c5f7cc",
   "metadata": {
    "collapsed": false
   },
   "source": [
    "### 1.4. Initialize the Coordinate Condition"
   ]
  },
  {
   "cell_type": "code",
   "execution_count": null,
   "id": "87c3850f6c7178b2",
   "metadata": {
    "collapsed": false
   },
   "outputs": [],
   "source": [
    "coordinate_condition = CustomCoordinateCondition(\n",
    "    center=CENTER_POSITION,\n",
    "    major_radius=MAJOR_RADIUS,\n",
    "    minor_radius=MINOR_RADIUS\n",
    ")"
   ]
  },
  {
   "cell_type": "markdown",
   "id": "919ad7af8dceeedd",
   "metadata": {
    "collapsed": false
   },
   "source": [
    "### 1.5. Get input material"
   ]
  },
  {
   "cell_type": "code",
   "execution_count": null,
   "id": "be38fdda1984c654",
   "metadata": {
    "collapsed": false
   },
   "outputs": [],
   "source": [
    "from utils.jupyterlite import get_materials\n",
    "materials = get_materials(globals())"
   ]
  },
  {
   "cell_type": "markdown",
   "id": "a132fe0ef8bbf0d0",
   "metadata": {
    "collapsed": false
   },
   "source": [
    "### 1.6. Preview Slab or create a new one"
   ]
  },
  {
   "cell_type": "code",
   "execution_count": null,
   "id": "7fcb1e02e84c5f35",
   "metadata": {
    "collapsed": false
   },
   "outputs": [],
   "source": [
    "from mat3ra.made.tools.helpers import create_slab\n",
    "from utils.visualize import visualize_materials as visualize\n",
    "\n",
    "slab = materials[0]\n",
    "if not slab.metadata or not slab.metadata.build:\n",
    "    print(\"The material is not a slab. Creating a new slab...\")\n",
    "    slab = create_slab(\n",
    "        crystal=materials[0],\n",
    "        miller_indices=DEFAULT_SLAB_PARAMETERS[\"miller_indices\"],\n",
    "        number_of_layers=DEFAULT_SLAB_PARAMETERS[\"thickness\"],\n",
    "        vacuum= DEFAULT_SLAB_PARAMETERS[\"vacuum\"],\n",
    "        use_orthogonal_c=DEFAULT_SLAB_PARAMETERS[\"use_orthogonal_c\"],\n",
    "        xy_supercell_matrix=DEFAULT_SLAB_PARAMETERS[\"xy_supercell_matrix\"]\n",
    "    )\n",
    "        \n",
    "visualize([{\"material\": slab, \"title\": \"Original material\"}])\n",
    "visualize([{\"material\": slab, \"title\": \"Original material\"}], rotation=\"-90x\")"
   ]
  },
  {
   "cell_type": "markdown",
   "id": "690241d87e7bbbe0",
   "metadata": {
    "collapsed": false
   },
   "source": [
    "## 2. Create the Target Material"
   ]
  },
  {
   "cell_type": "code",
   "execution_count": null,
   "id": "e2d24109d3068c9e",
   "metadata": {
    "collapsed": false
   },
   "outputs": [],
   "source": [
    "from mat3ra.made.tools.helpers import create_island\n",
    "\n",
    "slab_with_island = create_island(\n",
    "    slab=slab,\n",
    "    condition=coordinate_condition,\n",
    "    use_cartesian_coordinates=USE_CARTESIAN_COORDINATES,\n",
    "    number_of_added_layers=NUMBER_OF_ADDED_LAYERS,\n",
    ")"
   ]
  },
  {
   "cell_type": "markdown",
   "id": "462549d016073446",
   "metadata": {
    "collapsed": false
   },
   "source": [
    "## 3. Visualize the Result(s)"
   ]
  },
  {
   "cell_type": "code",
   "execution_count": null,
   "id": "509b18661a069e42",
   "metadata": {
    "collapsed": false
   },
   "outputs": [],
   "source": [
    "visualize([{\"material\": slab, \"title\": \"Original material\"},\n",
    "           {\"material\": slab_with_island, \"title\": f\"Material with Island Defect\"}],\n",
    "rotation=\"-90x\")\n",
    "\n",
    "visualize([{\"material\": slab, \"title\": \"Original material\"},\n",
    "           {\"material\": slab_with_island, \"title\": f\"Material with Island Defect\"}])"
   ]
  },
  {
   "cell_type": "markdown",
   "id": "d381df29a6bbdd82",
   "metadata": {
    "collapsed": false
   },
   "source": [
    "## 4. Pass data to the outside runtime"
   ]
  },
  {
   "cell_type": "code",
   "execution_count": null,
   "id": "61daa5afcbc078a9",
   "metadata": {
    "collapsed": false
   },
   "outputs": [],
   "source": [
    "from utils.jupyterlite import set_materials\n",
    "\n",
    "set_materials(slab_with_island)"
   ]
  }
 ],
 "metadata": {
  "kernelspec": {
   "display_name": "Python 3",
   "language": "python",
   "name": "python3"
  },
  "language_info": {
   "codemirror_mode": {
    "name": "ipython",
    "version": 2
   },
   "file_extension": ".py",
   "mimetype": "text/x-python",
   "name": "python",
   "nbconvert_exporter": "python",
   "pygments_lexer": "ipython2",
   "version": "2.7.6"
  }
 },
 "nbformat": 4,
 "nbformat_minor": 5
}
