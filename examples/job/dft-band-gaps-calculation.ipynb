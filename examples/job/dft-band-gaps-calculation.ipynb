version https://git-lfs.github.com/spec/v1
oid sha256:20bc737852bd1778c827945644f293a22abc2b2214257ee099bb2ae6c969702e
size 21780
