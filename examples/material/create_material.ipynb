version https://git-lfs.github.com/spec/v1
oid sha256:dfc373f8be7f5b106d4a880f59d047c0473dcf0121b93e09212cb675c1a4ec55
size 11918
