{
 "cells": [
  {
   "cell_type": "markdown",
   "metadata": {},
   "source": [
    "# Create an interface with strain matching\n",
    "\n",
    "Use Zur and McGill superlattices matching [algorithm](https://doi.org/10.1063/1.3330840) to select an interface between two materials with minimal strain.\n",
    "\n",
    "<h2 style=\"color:green\">Usage</h2>\n",
    "\n",
    "1. Make sure to select Input Materials (in the outer runtime) before running the notebook.\n",
    "1. Set notebook parameters in cell 1.1. below (or use the default values).\n",
    "1. Set slab parameters for the substrate and film in cell 2.1. (or use default).\n",
    "1. Set interface parameters in cell 3.1. (or use default).\n",
    "1. Click “Run” > “Run All” to run all cells. \n",
    "1. Wait for the run to complete (depending on the parameters can take a few min). \n",
    "1. Scroll down to view results. \n",
    "\n",
    "## Summary\n",
    "1. Prepare the Environment: Set up the notebook and install packages, preview the input materials\n",
    "1. Create substrate and film slabs and select the terminations\n",
    "1. Generate interfaces with strain matcher and plot strain vs number of atoms \n",
    "1. Select the interface with the desired strain and visualize it\n",
    "\n",
    "## Notes\n",
    "1. We perform strain matching on the slabs to extract the supercell dimensions. The algorithm has a set of parameters, such as the maximum area considered.\n",
    "1. When the strain matching is finished, the interface with the lowest strain (and the smallest number of atoms) is selected. \n",
    "1. ZSL strain matching is performed using Pymatgen [implementation](https://pymatgen.org/pymatgen.analysis.interfaces.html#pymatgen.analysis.interfaces.zsl).\n",
    "1. For more information, see [Introduction](Introduction.ipynb)\n",
    "<!-- # TODO: use a hashtag-based anchor link to interface creation documention above -->\n"
   ]
  },
  {
   "cell_type": "markdown",
   "source": [
    "## 1. Prepare the Environment\n",
    "### 1.1. Set up the notebook \n",
    "\n",
    "Set the following flags to control the notebook behavior "
   ],
   "metadata": {
    "collapsed": false
   }
  },
  {
   "cell_type": "code",
   "outputs": [],
   "source": [
    "# Enable interactive selection of terminations via UI prompt\n",
    "IS_TERMINATIONS_SELECTION_INTERACTIVE = False \n",
    "# Maximum area for the superlattice search algorithm\n",
    "MAX_AREA = 350"
   ],
   "metadata": {
    "collapsed": false,
    "ExecuteTime": {
     "end_time": "2024-09-04T00:09:40.072478Z",
     "start_time": "2024-09-04T00:09:40.069781Z"
    }
   },
   "execution_count": 57
  },
  {
   "cell_type": "markdown",
   "source": [
    "### 1.2. Install Packages\n",
    "The step executes only in Pyodide environment. For other environments, the packages should be installed via `pip install` (see [README](../../README.ipynb))."
   ],
   "metadata": {
    "collapsed": false
   }
  },
  {
   "cell_type": "code",
   "outputs": [],
   "source": [
    "import sys\n",
    "\n",
    "if sys.platform == \"emscripten\":\n",
    "    import micropip\n",
    "    await micropip.install('mat3ra-api-examples', deps=False)\n",
    "    from utils.jupyterlite import install_packages\n",
    "    await install_packages(\"create_interface_with_min_strain_zsl.ipynb\", \"../../config.yml\")"
   ],
   "metadata": {
    "collapsed": false,
    "ExecuteTime": {
     "end_time": "2024-09-04T00:09:40.180919Z",
     "start_time": "2024-09-04T00:09:40.177955Z"
    }
   },
   "execution_count": 58
  },
  {
   "cell_type": "markdown",
   "source": [
    "### 1.3. Get input materials and assign `substrate` and `film`\n",
    "Materials are loaded with `get_data()`. The first material is assigned as substrate and the second as film."
   ],
   "metadata": {}
  },
  {
   "cell_type": "code",
   "outputs": [
    {
     "name": "stdout",
     "output_type": "stream",
     "text": [
      "0: Data from 0-Ni has been read successfully.\n",
      "1: Data from 1-Graphene has been read successfully.\n",
      "2: Data from 10-Al2O3, Sapphire, RHL (R-3c) 3D (Bulk), mp-1143 (1) has been read successfully.\n",
      "3: Data from 11-ZnO, Zinc Oxide, HEX (P6_3mc) 3D (Bulk), mp-2133 has been read successfully.\n",
      "4: Data from 12-Cd4 Te4 has been read successfully.\n",
      "5: Data from 13-Si4 C4 has been read successfully.\n",
      "6: Data from 14-GaN, Gallium Nitride, HEX (P6_3mc) 3D (Bulk), mp-804 has been read successfully.\n",
      "7: Data from 4-Te2Mo has been read successfully.\n",
      "8: Data from 5-HfO2 has been read successfully.\n",
      "9: Data from 6-Ni4(110), termination Ni_Pmmm_2, Slab, Terrace, 1 steps, [2 0 0] has been read successfully.\n",
      "10: Data from 7-Ag4 has been read successfully.\n",
      "11: Data from 8-Si, Silicene, HEX (P-3m1) 2D (Monolayer), 2dm-5934 has been read successfully.\n",
      "12: Data from 9-GaAs, Gallium Arsenide, FCC (F-43m) 3D (Bulk), mp-2534 has been read successfully.\n",
      "13: Data from C196 Twisted Interface has been read successfully.\n",
      "14: Data from C2(001)-C2(001), Interface, Strain 0.000pct has been read successfully.\n",
      "15: Data from C2(001)-C2(001), Interface, Strain 0.394pct has been read successfully.\n",
      "16: Data from C2(001)-C2(001), Interface, Strain 0.397pct has been read successfully.\n",
      "17: Data from C2(001)-C2(001), Twist 30.00° 0 0 0 has been read successfully.\n",
      "18: Data from C2(001)-C2(001), Twist 30.00° 1 1 1 has been read successfully.\n",
      "19: Data from C2(001)-C2(001), Twist 30.00° 2 2 2 has been read successfully.\n",
      "20: Data from C2(001)-C2(001), Twist 30.00° 3 3 3 has been read successfully.\n",
      "21: Data from C2(001)-C2(001), Twist 5.00° 0 has been read successfully.\n",
      "22: Data from C2(001)-C2(001), Twist 5.00° 1 has been read successfully.\n",
      "23: Data from C2(001)-C2(001), Twist 5.00° 2 has been read successfully.\n",
      "24: Data from C2(001)-C2(001), Twist 5.00° 3 has been read successfully.\n",
      "25: Data from C2(001)-C2(001), Twist 5.00° has been read successfully.\n",
      "26: Data from C2(001)-C2(111), Interface, Strain 0.170pct has been read successfully.\n",
      "27: Data from C2(001)-Ni4(111), Interface, Strain 0.105pct displaced  displaced  displaced  displaced  displaced  has been read successfully.\n",
      "28: Data from C2(001)-Ni4(111), Interface, Strain 0.105pct displaced  displaced  displaced  displaced  optimal displaced has been read successfully.\n",
      "29: Data from C2(001)-Ni4(111), Interface, Strain 0.105pct displaced  displaced  displaced  displaced  has been read successfully.\n",
      "30: Data from C2(001)-Ni4(111), Interface, Strain 0.105pct displaced  displaced  displaced  optimal displaced has been read successfully.\n",
      "31: Data from C2(001)-Ni4(111), Interface, Strain 0.105pct displaced  displaced  displaced  has been read successfully.\n",
      "32: Data from C2(001)-Ni4(111), Interface, Strain 0.105pct displaced  displaced  optimal displaced has been read successfully.\n",
      "33: Data from C2(001)-Ni4(111), Interface, Strain 0.105pct displaced  displaced  has been read successfully.\n",
      "34: Data from C2(001)-Ni4(111), Interface, Strain 0.105pct displaced  optimal displaced has been read successfully.\n",
      "35: Data from C2(001)-Ni4(111), Interface, Strain 0.105pct displaced  optimized with ASE has been read successfully.\n",
      "36: Data from C2(001)-Ni4(111), Interface, Strain 0.105pct displaced  has been read successfully.\n",
      "37: Data from C2(001)-Ni4(111), Interface, Strain 0.105pct displaced has been read successfully.\n",
      "38: Data from C2(001)-Ni4(111), Interface, Strain 0.105pct optimal displaced has been read successfully.\n",
      "39: Data from C2(001)-Ni4(111), Interface, Strain 0.105pct optimized with ASE has been read successfully.\n",
      "40: Data from C2(001)-Ni4(111), Interface, Strain 0.105pct has been read successfully.\n",
      "41: Data from C2(001)-Ni4(111), Interface, Strain 0.105pct_displaced has been read successfully.\n",
      "42: Data from C258 Twisted Interface 30.0 degrees has been read successfully.\n",
      "43: Data from C258 Twisted Interface 60.0 degrees has been read successfully.\n",
      "44: Data from C258 Twisted Interface has been read successfully.\n",
      "45: Data from C4 Twisted Interface has been read successfully.\n",
      "46: Data from C402 Twisted Interface 90.0 degrees has been read successfully.\n",
      "47: Data from C402 Twisted Interface has been read successfully.\n",
      "48: Data from C410 Twisted Interface has been read successfully.\n",
      "49: Data from Ga2N2(001)-C4Si4(111), Interface, Strain 0.082pct has been read successfully.\n",
      "50: Data from Graphene (Armchair nanoribbon) H-passivated has been read successfully.\n",
      "51: Data from Graphene (Armchair nanoribbon) O-passivated has been read successfully.\n",
      "52: Data from Graphene (Armchair nanoribbon) has been read successfully.\n",
      "53: Data from Graphene (Zigzag nanoribbon) H-passivated H-passivated H-passivated has been read successfully.\n",
      "54: Data from Graphene (Zigzag nanoribbon) H-passivated H-passivated has been read successfully.\n",
      "55: Data from Graphene (Zigzag nanoribbon) H-passivated has been read successfully.\n",
      "56: Data from Graphene (Zigzag nanoribbon) PBC H-passivated H-passivated H-passivated has been read successfully.\n",
      "57: Data from Graphene (Zigzag nanoribbon) PBC H-passivated H-passivated has been read successfully.\n",
      "58: Data from Graphene (Zigzag nanoribbon) PBC H-passivated has been read successfully.\n",
      "59: Data from Graphene (Zigzag nanoribbon) has been read successfully.\n",
      "60: Data from Graphene_aug has been read successfully.\n",
      "61: Data from Grapheneafter augmented has been read successfully.\n",
      "62: Data from Hf4O8(111), termination O2_P1_4, Slab H-passivated has been read successfully.\n",
      "63: Data from Hf4O8(111), termination O2_P1_4, Slab PBC has been read successfully.\n",
      "64: Data from Hf4O8(111), termination O2_P1_4, Slab has been read successfully.\n",
      "65: Data from Hf4O8(111), termination O2_P2:m_1, Slab Island Island Island Island has been read successfully.\n",
      "66: Data from Hf4O8(111), termination O2_P2:m_1, Slab Island Island has been read successfully.\n",
      "67: Data from Hf4O8(111), termination O2_P2:m_1, Slab Island Surface Atoms Surface Atoms has been read successfully.\n",
      "68: Data from HfO2, Hafnium IV Oxide, MCL (P2_1:c) 3D (Bulk), mp-352 H-passivated has been read successfully.\n",
      "69: Data from HfO2, Hafnium IV Oxide, MCL (P2_1:c) 3D (Bulk), mp-352 has been read successfully.\n",
      "70: Data from Si2(001)-Ag4(111), Interface, Strain 0.035pct has been read successfully.\n",
      "71: Data from Si8(001), termination Si_P4:mmm_1, Slab has been read successfully.\n",
      "72: Data from Si8(111), termination Si_P6:mmm_4, Slab has been read successfully.\n",
      "Optimal multiple: 7\n",
      "Computed angle: 34.84990457904648\n",
      "Relative error: 0.43%\n",
      "Rotation matrix: [[4.0, -5.0, 0], [5.0, 4.0, 0], [0, 0, 1]]\n"
     ]
    }
   ],
   "source": [
    "import numpy as np\n",
    "from mat3ra.made.tools.build.supercell import create_supercell\n",
    "from mat3ra.made.material import Material\n",
    "from utils.jupyterlite import get_data\n",
    "\n",
    "# Get the list of input materials and load them into `materials_in` variable\n",
    "get_data(\"materials_in\", globals())\n",
    "materials = list(map(Material, globals()[\"materials_in\"]))\n",
    "substrate = materials[1]\n",
    "film = materials[1]\n",
    "\n",
    "\n",
    "def find_optimal_multiple(angle: float, max_multiple: int = 100, relative_error_tol: float = 0.01) -> int:\n",
    "    \"\"\"\n",
    "    Find the optimal multiple that minimizes the relative error for a given angle.\n",
    "\n",
    "    Args:\n",
    "        angle (float): The desired angle in degrees.\n",
    "        max_multiple (int): The maximum multiple to consider.\n",
    "\n",
    "    Returns:\n",
    "        int: The optimal multiple.\n",
    "    \"\"\"\n",
    "    optimal_multiple = 1\n",
    "    min_relative_error = float('inf')\n",
    "\n",
    "    for multiple in range(1, max_multiple + 1):\n",
    "        n = np.floor(np.sin(np.deg2rad(angle)) * multiple)\n",
    "        m = np.floor(np.cos(np.deg2rad(angle)) * multiple)\n",
    "        computed_angle = np.arcsin(n / multiple)\n",
    "        relative_error = np.abs(angle - np.rad2deg(computed_angle)) / angle\n",
    "\n",
    "        if relative_error < min_relative_error:\n",
    "            min_relative_error = relative_error\n",
    "            optimal_multiple = multiple\n",
    "            \n",
    "        if relative_error < relative_error_tol:\n",
    "            break\n",
    "\n",
    "    return optimal_multiple\n",
    "\n",
    "# Example usage\n",
    "angle = 35  # degrees\n",
    "optimal_multiple = find_optimal_multiple(angle, 50)\n",
    "n = np.floor(np.sin(np.deg2rad(angle)) * optimal_multiple)\n",
    "m = np.floor(np.cos(np.deg2rad(angle)) * optimal_multiple)\n",
    "computed_angle = np.arcsin(n / optimal_multiple)\n",
    "relative_error = np.abs(angle - np.rad2deg(computed_angle)) / angle\n",
    "print(f\"Optimal multiple: {optimal_multiple}\")\n",
    "print(f\"Computed angle: {np.rad2deg(computed_angle)}\")\n",
    "print(f\"Relative error: {relative_error * 100:.2f}%\")\n",
    "\n",
    "rotation_matrix = [\n",
    "    [n, -m, 0],\n",
    "    [m, n, 0],\n",
    "    [0, 0, 1]\n",
    "]\n",
    "print(f\"Rotation matrix: {rotation_matrix}\")\n",
    "\n",
    "rotated_film = create_supercell(film, rotation_matrix)"
   ],
   "metadata": {
    "collapsed": false,
    "ExecuteTime": {
     "end_time": "2024-09-04T00:36:30.794129Z",
     "start_time": "2024-09-04T00:36:30.538488Z"
    }
   },
   "execution_count": 83
  },
  {
   "cell_type": "markdown",
   "source": [
    "### 1.4. Preview Substrate and Film"
   ],
   "metadata": {
    "collapsed": false
   }
  },
  {
   "cell_type": "code",
   "outputs": [
    {
     "data": {
      "text/plain": "GridBox(children=(VBox(children=(Label(value='C2 - Material - rotation: 0x', layout=Layout(align_self='center'…",
      "application/vnd.jupyter.widget-view+json": {
       "version_major": 2,
       "version_minor": 0,
       "model_id": "8e15b66b2c3c47378f84a5fc26334bb2"
      }
     },
     "metadata": {},
     "output_type": "display_data"
    }
   ],
   "source": [
    "from utils.visualize import visualize_materials as visualize\n",
    "visualize([substrate, film, rotated_film], repetitions=[1, 1, 1], rotation=\"0x\")"
   ],
   "metadata": {
    "collapsed": false,
    "ExecuteTime": {
     "end_time": "2024-09-04T00:36:32.156807Z",
     "start_time": "2024-09-04T00:36:31.956906Z"
    }
   },
   "execution_count": 84
  },
  {
   "cell_type": "code",
   "outputs": [
    {
     "data": {
      "text/plain": "GridBox(children=(VBox(children=(Label(value='C196 - Material - rotation: 0x,0y,0z', layout=Layout(align_self=…",
      "application/vnd.jupyter.widget-view+json": {
       "version_major": 2,
       "version_minor": 0,
       "model_id": "2f656cfe90eb48d3aa3c5fce6c0d45fa"
      }
     },
     "metadata": {},
     "output_type": "display_data"
    },
    {
     "data": {
      "text/plain": "GridBox(children=(VBox(children=(Label(value='C196 - Material - rotation: -90x', layout=Layout(align_self='cen…",
      "application/vnd.jupyter.widget-view+json": {
       "version_major": 2,
       "version_minor": 0,
       "model_id": "3666a5bd039f48a392d561ce7385ce3b"
      }
     },
     "metadata": {},
     "output_type": "display_data"
    },
    {
     "name": "stdout",
     "output_type": "stream",
     "text": [
      "Data for materials_out written to uploads/C196 Twisted Interface 1.1 degrees.json\n"
     ]
    }
   ],
   "source": [
    "from pymatgen.transformations.standard_transformations import RotationTransformation\n",
    "from utils.jupyterlite import get_data\n",
    "from mat3ra.made.tools.convert import to_pymatgen, from_pymatgen\n",
    "import numpy as np\n",
    "from typing import Tuple, List\n",
    "from pymatgen.core import Structure, Lattice\n",
    "from pydantic import BaseModel, Field\n",
    "\n",
    "class TwistedInterfaceConfiguration(BaseModel):\n",
    "    substrate: Structure\n",
    "    film: Structure\n",
    "    twist_angle: float\n",
    "    max_strain: float = 0.1\n",
    "    max_supercell_size: int = 10\n",
    "\n",
    "def rotation_matrix_2d(angle: float) -> np.ndarray:\n",
    "    \"\"\"Create a 2D rotation matrix for the given angle in degrees.\"\"\"\n",
    "    theta = np.radians(angle)\n",
    "    return np.array([[np.cos(theta), -np.sin(theta)],\n",
    "                     [np.sin(theta), np.cos(theta)]])\n",
    "\n",
    "def find_matching_vectors(a1: np.ndarray, a2: np.ndarray, b1: np.ndarray, b2: np.ndarray, \n",
    "                          max_size: int, max_strain: float) -> Tuple[np.ndarray, np.ndarray, float]:\n",
    "    best_strain = float('inf')\n",
    "    best_m, best_n, best_p, best_q = 0, 0, 0, 0\n",
    "\n",
    "    for m in range(1, max_size + 1):\n",
    "        for n in range(max_size + 1):\n",
    "            substrate_vector = m * a1 + n * a2\n",
    "            for p in range(1, max_size + 1):\n",
    "                for q in range(max_size + 1):\n",
    "                    film_vector = p * b1 + q * b2\n",
    "                    strain = np.linalg.norm(substrate_vector - film_vector) / np.linalg.norm(substrate_vector)\n",
    "                    if strain < best_strain and strain <= max_strain:\n",
    "                        best_strain = strain\n",
    "                        best_m, best_n, best_p, best_q = m, n, p, q\n",
    "\n",
    "    if best_strain == float('inf'):\n",
    "        raise ValueError(\"No matching vectors found within strain limit\")\n",
    "\n",
    "    return (np.array([best_m, best_n]), np.array([best_p, best_q]), best_strain)\n",
    "\n",
    "def create_bilayer_twisted_interface(structure: Structure, twist_angle: float, \n",
    "                                     max_size: int = 10, max_strain: float = 0.1, \n",
    "                                     layer_separation: float = 3.0) -> Structure:\n",
    "    # Create a copy for the film layer\n",
    "    film = structure.copy()\n",
    "    \n",
    "    # Rotate the film layer\n",
    "    rotation = RotationTransformation([0, 0, 1], twist_angle)\n",
    "    rotated_film = rotation.apply_transformation(film)\n",
    "\n",
    "    # Extract 2D lattice vectors\n",
    "    a1, a2 = structure.lattice.matrix[:2, :2].T\n",
    "    b1, b2 = rotated_film.lattice.matrix[:2, :2].T\n",
    "\n",
    "    # Find matching vectors\n",
    "    (m, n), (p, q), strain = find_matching_vectors(a1, a2, b1, b2, max_size, max_strain)\n",
    "\n",
    "    # Create supercells\n",
    "    substrate_supercell_matrix = np.array([[m, n, 0], [-n, m, 0], [0, 0, 1]])\n",
    "    film_supercell_matrix = np.array([[p, q, 0], [-q, p, 0], [0, 0, 1]])\n",
    "\n",
    "    substrate_supercell = structure.copy()\n",
    "    substrate_supercell.make_supercell(substrate_supercell_matrix)\n",
    "\n",
    "    film_supercell = rotated_film.copy()\n",
    "    film_supercell.make_supercell(film_supercell_matrix)\n",
    "\n",
    "    # Adjust lattice to make them match exactly\n",
    "    new_lattice = substrate_supercell.lattice\n",
    "\n",
    "    # Combine layers\n",
    "    c_substrate = np.max(substrate_supercell.cart_coords[:, 2])\n",
    "    c_film = np.max(film_supercell.cart_coords[:, 2])\n",
    "    c_total = c_substrate + c_film + layer_separation\n",
    "\n",
    "    combined_lattice = Lattice.from_parameters(\n",
    "        *new_lattice.abc[:2], c_total,\n",
    "        *new_lattice.angles\n",
    "    )\n",
    "\n",
    "    combined_structure = Structure(combined_lattice, [], [])\n",
    "    \n",
    "    # Add substrate layer\n",
    "    for site in substrate_supercell:\n",
    "        combined_structure.append(site.species, site.frac_coords, properties=site.properties)\n",
    "\n",
    "    # Add film layer\n",
    "    for site in film_supercell:\n",
    "        new_coords = site.frac_coords\n",
    "        new_coords[2] = (site.coords[2] + c_substrate + layer_separation) / c_total\n",
    "        combined_structure.append(site.species, new_coords, properties=site.properties)\n",
    "\n",
    "    return combined_structure\n",
    "\n",
    "# Usage\n",
    "substrate_struct = to_pymatgen(substrate)\n",
    "film_struct = to_pymatgen(film)\n",
    "config = TwistedInterfaceConfiguration(substrate=substrate_struct, film=film_struct, twist_angle=1.1)\n",
    "twisted_interface = from_pymatgen(create_bilayer_twisted_interface(config.substrate, config.twist_angle))\n",
    "\n",
    "# Visualize the twisted interface\n",
    "visualize([Material(twisted_interface)], repetitions=[1, 1, 1])\n",
    "visualize([Material(twisted_interface)], repetitions=[1, 1, 1], rotation=\"-90x\")\n",
    "\n",
    "twisted_interface[\"name\"] += f\" Twisted Interface {config.twist_angle} degrees\"\n",
    "\n",
    "set_data(\"materials_out\", [Material(twisted_interface).to_json()])"
   ],
   "metadata": {
    "collapsed": false,
    "ExecuteTime": {
     "end_time": "2024-09-04T00:37:26.604564Z",
     "start_time": "2024-09-04T00:37:26.204510Z"
    }
   },
   "execution_count": 85
  },
  {
   "cell_type": "code",
   "outputs": [],
   "source": [
    "from mat3ra.made.tools.build.slab import SlabConfiguration, get_terminations, create_slab\n",
    "\n",
    "film_slab_configuration = SlabConfiguration(\n",
    "    bulk=film,\n",
    "    miller_indices=(0, 0, 1),\n",
    "    thickness=1, # in atomic layers\n",
    "    vacuum=0, # in atomic layers\n",
    "    xy_supercell_matrix=[[1, 0], [0, 1]],\n",
    "    use_orthogonal_z=True\n",
    ")\n",
    "\n",
    "substrate_slab_configuration = SlabConfiguration(\n",
    "    bulk=substrate,\n",
    "    miller_indices=(0,0,1),\n",
    "    thickness=1, # in atomic layers\n",
    "    vacuum=1, # in atomic layers\n",
    "    xy_supercell_matrix=[[1, 0], [0, 1]],\n",
    "    use_orthogonal_z=True\n",
    ")"
   ],
   "metadata": {},
   "execution_count": null
  },
  {
   "cell_type": "markdown",
   "source": [
    "### 2.2. Get possible terminations for the slabs"
   ],
   "metadata": {
    "collapsed": false
   }
  },
  {
   "cell_type": "code",
   "outputs": [],
   "source": [
    "film_slab_terminations = get_terminations(film_slab_configuration)\n",
    "substrate_slab_terminations = get_terminations(substrate_slab_configuration)"
   ],
   "metadata": {
    "collapsed": false
   },
   "execution_count": null
  },
  {
   "cell_type": "markdown",
   "source": [
    "### 2.3. Visualize slabs for all possible terminations"
   ],
   "metadata": {
    "collapsed": false
   }
  },
  {
   "cell_type": "code",
   "outputs": [],
   "source": [
    "film_slabs = [create_slab(film_slab_configuration, termination) for termination in film_slab_terminations]\n",
    "substrate_slabs = [create_slab(substrate_slab_configuration, termination) for termination in substrate_slab_terminations]\n",
    "\n",
    "visualize([{\"material\":slab, \"title\": slab.metadata[\"build\"][\"termination\"]} for slab in film_slabs ], repetitions=[3, 3, 1], rotation=\"-90x\")\n",
    "visualize([{\"material\":slab, \"title\": slab.metadata[\"build\"][\"termination\"]} for slab in substrate_slabs ], repetitions=[3, 3, 1], rotation=\"-90x\")  "
   ],
   "metadata": {
    "collapsed": false
   },
   "execution_count": null
  },
  {
   "cell_type": "markdown",
   "source": [
    "### 2.4. Print terminations for the interface"
   ],
   "metadata": {
    "collapsed": false
   }
  },
  {
   "cell_type": "code",
   "outputs": [],
   "source": [
    "from itertools import product\n",
    "\n",
    "termination_pairs = list(product(film_slab_terminations, substrate_slab_terminations))    \n",
    "print(\"Termination Pairs (Film, Substrate)\")\n",
    "for idx, termination_pair in enumerate(termination_pairs):\n",
    "    print(f\"    {idx}: {termination_pair}\")"
   ],
   "metadata": {
    "collapsed": false
   },
   "execution_count": null
  },
  {
   "cell_type": "markdown",
   "source": [
    "### 2.5. Select termination pair for the interface"
   ],
   "metadata": {
    "collapsed": false
   }
  },
  {
   "cell_type": "code",
   "outputs": [],
   "source": [
    "from utils.io import ui_prompt_select_array_element_by_index, ui_prompt_select_array_element_by_index_pyodide\n",
    "\n",
    "# Set the termination pair indices\n",
    "TERMINATION_PAIR_INDEX = 0\n",
    "\n",
    "termination_pair = termination_pairs[TERMINATION_PAIR_INDEX]\n",
    "if IS_TERMINATIONS_SELECTION_INTERACTIVE:\n",
    "    if sys.platform == \"emscripten\":\n",
    "        termination_pair = await ui_prompt_select_array_element_by_index_pyodide(termination_pairs, element_name=\"film/substrate termination pair\")\n",
    "    else:\n",
    "        termination_pair = ui_prompt_select_array_element_by_index(termination_pairs, element_name=\"film/substrate termination pair\")"
   ],
   "metadata": {
    "collapsed": false
   },
   "execution_count": null
  },
  {
   "cell_type": "markdown",
   "source": [
    "## 3. Create interfaces\n",
    "\n",
    "### 3.1. Initialize the Interface Configuration"
   ],
   "metadata": {
    "collapsed": false
   }
  },
  {
   "cell_type": "code",
   "outputs": [],
   "source": [
    "from mat3ra.made.tools.build.interface import InterfaceConfiguration\n",
    "\n",
    "film_termination, substrate_termination = termination_pair\n",
    "interface_configuration = InterfaceConfiguration(\n",
    "    film_configuration=film_slab_configuration,\n",
    "    substrate_configuration=substrate_slab_configuration,\n",
    "    film_termination=film_termination,\n",
    "    substrate_termination=substrate_termination,\n",
    "    distance=3.0, # in Angstrom\n",
    "    vacuum=20.0 # in Angstrom\n",
    ")"
   ],
   "metadata": {
    "collapsed": false
   },
   "execution_count": null
  },
  {
   "cell_type": "markdown",
   "source": [
    "### 3.2. Set Strain Matching Algorithm Parameters (Optional)\n",
    "The search algorithm for supercells matching can be tuned by setting its parameters directly, otherwise the default values are used."
   ],
   "metadata": {
    "collapsed": false
   }
  },
  {
   "cell_type": "code",
   "outputs": [],
   "source": [
    "from mat3ra.made.tools.build.interface import ZSLStrainMatchingParameters\n",
    "from mat3ra.made.tools.analyze import get_surface_area\n",
    "# rotated_film_area = get_surface_area(film)\n",
    "# MAX_AREA = rotated_film_area * 1.5\n",
    "print(f\"Max area: {MAX_AREA}\")\n",
    "zsl_strain_matching_parameters = ZSLStrainMatchingParameters(\n",
    "    max_area=MAX_AREA,\n",
    "    angle_tol= 0.001,\n",
    ")"
   ],
   "metadata": {
    "collapsed": false
   },
   "execution_count": null
  },
  {
   "cell_type": "markdown",
   "source": [
    "### 3.3. Generate interfaces with strain matcher\n",
    "Interfaces are sorted by size and strain."
   ],
   "metadata": {
    "collapsed": false
   }
  },
  {
   "cell_type": "code",
   "outputs": [],
   "source": [
    "from mat3ra.made.tools.build.interface import ZSLStrainMatchingInterfaceBuilder, ZSLStrainMatchingInterfaceBuilderParameters\n",
    "\n",
    "matched_interfaces_builder = ZSLStrainMatchingInterfaceBuilder(build_parameters=ZSLStrainMatchingInterfaceBuilderParameters(strain_matching_parameters=zsl_strain_matching_parameters))\n",
    "\n",
    "interfaces_sorted_by_size_and_strain= matched_interfaces_builder.get_materials(configuration=interface_configuration)"
   ],
   "metadata": {
    "collapsed": false
   },
   "execution_count": null
  },
  {
   "cell_type": "markdown",
   "source": [
    "### 3.4. Plot interfaces by size and strain\n"
   ],
   "metadata": {
    "collapsed": false
   }
  },
  {
   "cell_type": "code",
   "outputs": [],
   "source": [
    "from utils.plot import plot_strain_vs_atoms\n",
    "\n",
    "PLOT_SETTINGS = {\n",
    "    \"HEIGHT\": 600,\n",
    "    \"X_SCALE\": \"log\",  # or linear\n",
    "    \"Y_SCALE\": \"log\",  # or linear\n",
    "}\n",
    "\n",
    "plot_strain_vs_atoms(interfaces_sorted_by_size_and_strain, PLOT_SETTINGS)"
   ],
   "metadata": {
    "collapsed": false
   },
   "execution_count": null
  },
  {
   "cell_type": "markdown",
   "source": [
    "### 3.5. Select the interface\n",
    "\n",
    "Select the index for the interface with the lowest strain and the smallest number of atoms."
   ],
   "metadata": {
    "collapsed": false
   }
  },
  {
   "cell_type": "code",
   "outputs": [],
   "source": [
    "# select the first interface with the lowest strain and the smallest number of atoms\n",
    "interfaces_slice_range_or_index = slice(0,1)\n",
    "selected_interfaces = interfaces_sorted_by_size_and_strain[interfaces_slice_range_or_index]"
   ],
   "metadata": {
    "collapsed": false
   },
   "execution_count": null
  },
  {
   "cell_type": "markdown",
   "source": [
    "## 4. Preview the selected material"
   ],
   "metadata": {
    "collapsed": false
   }
  },
  {
   "cell_type": "code",
   "outputs": [],
   "source": [
    "visualize(selected_interfaces, repetitions=[3, 3, 1])\n",
    "visualize(selected_interfaces, repetitions=[3, 3, 1], rotation=\"-90x\")"
   ],
   "metadata": {
    "collapsed": false
   },
   "execution_count": null
  },
  {
   "cell_type": "markdown",
   "metadata": {},
   "source": [
    "## 5. Pass data to the outside runtime"
   ]
  },
  {
   "cell_type": "code",
   "execution_count": null,
   "metadata": {},
   "outputs": [],
   "source": [
    "from utils.jupyterlite import set_data\n",
    "\n",
    "materials_as_json = [selected_interface.to_json() for selected_interface in selected_interfaces]\n",
    "set_data(\"materials\", materials_as_json)"
   ]
  },
  {
   "cell_type": "code",
   "outputs": [],
   "source": [
    "from mat3ra.made.tools.build.interface.builders import TwistedInterfaceConfiguration, TwistedInterfaceBuilder, \\\n",
    "    TwistedInterfaceBuilderParameters\n",
    "\n",
    "# Step 2: Create SlabConfigurations for substrate and film\n",
    "substrate_config = SlabConfiguration(\n",
    "    bulk=substrate,\n",
    "    miller_indices=(0,0,1),\n",
    "    thickness=1\n",
    ")\n",
    "\n",
    "film_config = SlabConfiguration(\n",
    "    bulk=film,\n",
    "    miller_indices=(0,0,1),\n",
    "    thickness=1\n",
    ")\n",
    "\n",
    "# Step 3: Create a TwistedInterfaceConfiguration\n",
    "twisted_config = TwistedInterfaceConfiguration(\n",
    "    film_configuration=film_config,\n",
    "    substrate_configuration=substrate_config,\n",
    "    film_termination=film_termination,\n",
    "    substrate_termination=substrate_termination,\n",
    "    distance_z=2.0,\n",
    "    vacuum=10.0,\n",
    "    twist_angle=30.0  \n",
    ")\n",
    "\n",
    "# Step 4: Create TwistedInterfaceBuilderParameters (optional, using defaults here)\n",
    "builder_params = TwistedInterfaceBuilderParameters(strain_matching_parameters=zsl_strain_matching_parameters)\n",
    "\n",
    "# Step 5: Create the TwistedInterfaceBuilder\n",
    "builder = TwistedInterfaceBuilder(build_parameters=builder_params)\n",
    "                                  \n",
    "\n",
    "# Step 6: Generate the twisted interfaces\n",
    "twisted_interfaces = builder.get_materials(twisted_config)\n",
    "\n",
    "# Step 7: Analyze the results\n",
    "print(f\"Generated {len(twisted_interfaces)} twisted interfaces\")\n",
    "for i, interface in enumerate(twisted_interfaces):\n",
    "    print(f\"\\nInterface {i + 1}:\")\n",
    "    print(f\"Name: {interface.name}\")\n",
    "    print(f\"Number of atoms: {len(interface.basis.elements.values)}\")\n",
    "    print(f\"Lattice parameters: a={interface.lattice.a:.3f}, b={interface.lattice.b:.3f}, c={interface.lattice.c:.3f}\")\n",
    "    print(f\"Mean absolute strain: {interface.metadata.get('interface_properties').get('mean_abs_strain', 'N/A')}\")\n",
    "    print(f\"Twist angle: {interface.metadata['build']['configuration']['twist_angle']:.2f} degrees\")\n"
   ],
   "metadata": {
    "collapsed": false
   },
   "execution_count": null
  },
  {
   "cell_type": "code",
   "outputs": [],
   "source": [
    "from utils.jupyterlite import set_data\n",
    "selected_twisted_interfaces=twisted_interfaces[slice(74,78)]\n",
    "visualize(selected_twisted_interfaces, repetitions=[1, 1, 1])\n",
    "for i,material in enumerate(selected_twisted_interfaces):\n",
    "    material.name += f\" {i}\"\n",
    "set_data(\"materials_out\", [i.to_json() for i in selected_twisted_interfaces])\n",
    "twisted_interfaces[0].metadata\n"
   ],
   "metadata": {
    "collapsed": false
   },
   "execution_count": null
  },
  {
   "cell_type": "code",
   "outputs": [],
   "source": [],
   "metadata": {
    "collapsed": false
   }
  }
 ],
 "metadata": {
  "kernelspec": {
   "display_name": ".venv",
   "language": "python",
   "name": "python3"
  },
  "language_info": {
   "codemirror_mode": {
    "name": "ipython",
    "version": 3
   },
   "file_extension": ".py",
   "mimetype": "text/x-python",
   "name": "python",
   "nbconvert_exporter": "python",
   "pygments_lexer": "ipython3",
   "version": "3.10.12"
  },
  "widgets": {
   "application/vnd.jupyter.widget-state+json": {
    "state": {},
    "version_major": 2,
    "version_minor": 0
   }
  }
 },
 "nbformat": 4,
 "nbformat_minor": 4
}
