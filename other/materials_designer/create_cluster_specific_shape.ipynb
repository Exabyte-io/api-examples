{
 "cells": [
  {
   "cell_type": "markdown",
   "id": "f2e1e795020d7b3f",
   "metadata": {
    "collapsed": false
   },
   "source": [
    "# Create a nanocluster with a specific shape.\n",
    "\n",
    "Create a nanocluster using the ASE-based nanoparticle builder.\n",
    "\n",
    "<h2 style=\"color:green\">Usage</h2>\n",
    "\n",
    "1. Make sure to select Input Materials (in the outer runtime) before running the notebook.\n",
    "1. Set notebook parameters in cell 1.2. below (or use the default values).\n",
    "1. Click “Run” > “Run All” to run all cells. \n",
    "1. Scroll down to view results. \n",
    "\n",
    "\n",
    "## Notes\n",
    "\n",
    "1. For more information, see [Introduction](Introduction.ipynb)\n",
    "<!-- # TODO: use a hashtag-based anchor link to interface creation documention above -->\n"
   ]
  },
  {
   "cell_type": "markdown",
   "id": "5e43ff288847b784",
   "metadata": {
    "collapsed": false
   },
   "source": [
    "## 1. Prepare the Environment\n"
   ]
  },
  {
   "cell_type": "markdown",
   "id": "9adf37a8d2620dc4",
   "metadata": {
    "collapsed": false
   },
   "source": [
    "### 1.1. Install Packages\n",
    "The step executes only in Pyodide environment. For other environments, the packages should be installed via `pip install` (see [README](../../README.ipynb))."
   ]
  },
  {
   "cell_type": "code",
   "execution_count": null,
   "id": "d9e6be14343d00a1",
   "metadata": {
    "collapsed": false
   },
   "outputs": [],
   "source": [
    "import sys\n",
    "\n",
    "if sys.platform == \"emscripten\":\n",
    "    import micropip\n",
    "\n",
    "    await micropip.install(\"https://exabyte-io.github.io/api-examples/mat3ra_api_examples-0.1.dev1+g2d074bd-py3-none-any.whl\", deps=False)\n",
    "    await micropip.install('mat3ra-utils')\n",
    "    from mat3ra.utils.jupyterlite.packages import install_packages\n",
    "\n",
    "    await install_packages(\"\")"
   ]
  },
  {
   "cell_type": "markdown",
   "id": "26066db067a41c93",
   "metadata": {
    "collapsed": false
   },
   "source": [
    "### 1.2. Set up cluster parameters\n",
    "Parameters for the cuboctahedron and icosahedron shapes can be found at [ASE Clusters](https://wiki.fysik.dtu.dk/ase/ase/cluster/cluster.html#ase.cluster.Cluster)."
   ]
  },
  {
   "cell_type": "code",
   "execution_count": null,
   "id": "9d8b1890b34d850a",
   "metadata": {
    "collapsed": false
   },
   "outputs": [],
   "source": [
    "from mat3ra.made.tools.build.nanoparticle.enums import NanoparticleShapesEnum\n",
    "\n",
    "shape = NanoparticleShapesEnum.OCTAHEDRON\n",
    "parameters = {\n",
    "    \"length\": 5,\n",
    "    \"cutoff\": 2\n",
    "}"
   ]
  },
  {
   "cell_type": "markdown",
   "id": "919ad7af8dceeedd",
   "metadata": {
    "collapsed": false
   },
   "source": [
    "### 1.3. Get input material"
   ]
  },
  {
   "cell_type": "code",
   "execution_count": null,
   "id": "be38fdda1984c654",
   "metadata": {
    "collapsed": false
   },
   "outputs": [],
   "source": [
    "from utils.jupyterlite import get_materials\n",
    "\n",
    "materials = get_materials(globals())"
   ]
  },
  {
   "cell_type": "markdown",
   "id": "690241d87e7bbbe0",
   "metadata": {
    "collapsed": false
   },
   "source": [
    "## 2. Create the Target Material\n",
    "\n"
   ]
  },
  {
   "cell_type": "code",
   "execution_count": null,
   "id": "a990fa35742d7269",
   "metadata": {
    "collapsed": false
   },
   "outputs": [],
   "source": [
    "from mat3ra.made.tools.helpers import create_nanoparticle_by_shape\n",
    "\n",
    "cluster = create_nanoparticle_by_shape(\n",
    "    crystal=materials[0],\n",
    "    shape=shape,\n",
    "    parameters=parameters\n",
    ")"
   ]
  },
  {
   "cell_type": "markdown",
   "id": "462549d016073446",
   "metadata": {
    "collapsed": false
   },
   "source": [
    "## 3. Visualize the Result(s)"
   ]
  },
  {
   "cell_type": "code",
   "execution_count": null,
   "id": "509b18661a069e42",
   "metadata": {
    "collapsed": false
   },
   "outputs": [],
   "source": [
    "from utils.visualize import visualize_materials\n",
    "\n",
    "visualize_materials([{\"material\": cluster}, {\"material\": cluster, \"rotation\": \"-90x\"}],viewer=\"wave\")"
   ]
  },
  {
   "cell_type": "markdown",
   "id": "d381df29a6bbdd82",
   "metadata": {
    "collapsed": false
   },
   "source": [
    "## 4. Pass data to the outside runtime"
   ]
  },
  {
   "cell_type": "code",
   "execution_count": null,
   "id": "61daa5afcbc078a9",
   "metadata": {
    "collapsed": false
   },
   "outputs": [],
   "source": [
    "from utils.jupyterlite import set_materials\n",
    "\n",
    "cluster.name = f\"{materials[0].name} {shape.name.capitalize()} cluster\"\n",
    "set_materials(cluster)"
   ]
  }
 ],
 "metadata": {
  "kernelspec": {
   "display_name": "Python 3",
   "language": "python",
   "name": "python3"
  },
  "language_info": {
   "codemirror_mode": {
    "name": "ipython",
    "version": 2
   },
   "file_extension": ".py",
   "mimetype": "text/x-python",
   "name": "python",
   "nbconvert_exporter": "python",
   "pygments_lexer": "ipython2",
   "version": "2.7.6"
  }
 },
 "nbformat": 4,
 "nbformat_minor": 5
}
