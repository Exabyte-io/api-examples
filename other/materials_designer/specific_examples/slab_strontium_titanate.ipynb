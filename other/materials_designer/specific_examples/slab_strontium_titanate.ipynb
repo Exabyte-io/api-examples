{
 "cells": [
  {
   "cell_type": "markdown",
   "id": "95a274d80df28ccd",
   "metadata": {
    "collapsed": false
   },
   "source": [
    "# Slabs of SrTiO3(011) with specified terminations\n",
    "\n",
    "## 0. Introduction\n",
    "\n",
    "This notebook demonstrates how to create slabs of SrTiO3(011) with specified terminations following the manuscript:\n",
    "\n",
    "> **R. I. Eglitis and David Vanderbilt**\n",
    "> *First-principles calculations of atomic and electronic structure of SrTiO3 (001) and (011) surfaces*\n",
    "> Phys. Rev. B 77, 195408 (2008)\n",
    "> [DOI: 10.1103/PhysRevB.77.195408](https://doi.org/10.1103/PhysRevB.77.195408)\n",
    "\n",
    "Replicating the material from the FIG. 2. with 2 different terminations:\n",
    "\n",
    " ![FIG. 2.](https://github.com/Exabyte-io/documentation/raw/12617167278ae3523adc028583b21ea4e8ebd197/images/tutorials/materials/2d_materials/slab_strontium_titanate/0-figure-from-manuscript.webp)\n",
    "\n"
   ]
  },
  {
   "cell_type": "markdown",
   "id": "d55eaee8bc55bffd",
   "metadata": {
    "collapsed": false
   },
   "source": [
    "## 1. Prepare the Environment\n",
    "### 1.1. Set up defect parameters "
   ]
  },
  {
   "cell_type": "code",
   "id": "4b64735060047bec",
   "metadata": {
    "collapsed": false
   },
   "source": [
    "MILLER_INDICES = (0, 1, 1)\n",
    "THICKNESS = 3  # in atomic layers\n",
    "VACUUM = 10.0  # in angstroms\n",
    "XY_SUPERCELL_MATRIX = [[1, 0], [0, 1]]\n",
    "USE_ORTHOGONAL_C = True\n",
    "USE_CONVENTIONAL_CELL = True\n"
   ],
   "outputs": [],
   "execution_count": null
  },
  {
   "cell_type": "markdown",
   "id": "5e0ce05f6f031b3f",
   "metadata": {
    "collapsed": false
   },
   "source": [
    "### 1.2. Install Packages\n",
    "The step executes only in Pyodide environment. For other environments, the packages should be installed via `pip install` (see [README](../../README.ipynb))."
   ]
  },
  {
   "cell_type": "code",
   "id": "b457673560550933",
   "metadata": {
    "collapsed": false
   },
   "source": [
    "import sys\n",
    "\n",
    "if sys.platform == \"emscripten\":\n",
    "    import micropip\n",
    "\n",
    "    await micropip.install(\"mat3ra-api-examples\", deps=False)\n",
    "    await micropip.install('mat3ra-utils')\n",
    "    from mat3ra.utils.jupyterlite.packages import install_packages\n",
    "\n",
    "    await install_packages(\"specific_examples\")"
   ],
   "outputs": [],
   "execution_count": null
  },
  {
   "cell_type": "markdown",
   "id": "1659a8e9afe434fb",
   "metadata": {
    "collapsed": false
   },
   "source": [
    "### 1.3. Get input materials"
   ]
  },
  {
   "cell_type": "code",
   "id": "b588ccfe51967a86",
   "metadata": {
    "collapsed": false
   },
   "source": [
    "from mat3ra.made.material import Material\n",
    "from mat3ra.standata.materials import Materials\n",
    "\n",
    "material = Material.create(Materials.get_by_name_first_match(\"SrTiO3\"))"
   ],
   "outputs": [],
   "execution_count": null
  },
  {
   "cell_type": "markdown",
   "id": "8c13970a869adfa9",
   "metadata": {
    "collapsed": false
   },
   "source": [
    "### 1.4. Preview the material"
   ]
  },
  {
   "cell_type": "code",
   "id": "c4f6e2697f97965f",
   "metadata": {
    "collapsed": false
   },
   "source": [
    "from utils.visualize import visualize_materials as visualize\n",
    "\n",
    "visualize(material, repetitions=[3, 3, 3], rotation=\"0x\")\n",
    "visualize(material, repetitions=[3, 3, 3], rotation=\"-90x\")"
   ],
   "outputs": [],
   "execution_count": null
  },
  {
   "cell_type": "markdown",
   "id": "6634dae92a6c07b9",
   "metadata": {
    "collapsed": false
   },
   "source": "## 2. Get possible terminations for the slab\n"
  },
  {
   "metadata": {},
   "cell_type": "code",
   "source": [
    "from mat3ra.made.tools.build.slab.helpers import get_slab_terminations\n",
    "slab_terminations = get_slab_terminations(material, miller_indices=MILLER_INDICES)\n",
    "\n",
    "print(\"Terminations\")\n",
    "for idx, termination in enumerate(slab_terminations):\n",
    "    print(f\"    {idx}: {termination}\")"
   ],
   "id": "730569ace3c4024",
   "outputs": [],
   "execution_count": null
  },
  {
   "cell_type": "markdown",
   "id": "c6e2e18452972b21",
   "metadata": {
    "collapsed": false
   },
   "source": "## 3. Create and visualize slabs"
  },
  {
   "metadata": {},
   "cell_type": "code",
   "source": [
    "from mat3ra.made.tools.build.slab.helpers import create_slab\n",
    "\n",
    "slabs = [create_slab(\n",
    "    crystal=material,\n",
    "    termination=termination,\n",
    "    miller_indices=MILLER_INDICES,\n",
    "    number_of_layers=THICKNESS,\n",
    "    vacuum=VACUUM,\n",
    "    use_orthogonal_c=USE_ORTHOGONAL_C,\n",
    "    use_conventional_cell=USE_CONVENTIONAL_CELL,\n",
    "    xy_supercell_matrix=XY_SUPERCELL_MATRIX\n",
    ") for termination in slab_terminations]\n",
    "\n",
    "visualize([{\"material\": slab, \"title\": slab.name} for slab in slabs], repetitions=[3, 3, 1], viewer=\"wave\")\n"
   ],
   "id": "958bccf0c45b902b",
   "outputs": [],
   "execution_count": null
  },
  {
   "metadata": {},
   "cell_type": "markdown",
   "source": "## 4. Download materials",
   "id": "63ceec59586339f0"
  },
  {
   "metadata": {},
   "cell_type": "code",
   "source": [
    "from utils.jupyterlite import download_content_to_file, set_materials\n",
    "\n",
    "set_materials(slabs)\n",
    "for slab in slabs:\n",
    "    download_content_to_file(slab.to_json(), f\"{slab.name}.json\")"
   ],
   "id": "6e7d16e2a84a9dbb",
   "outputs": [],
   "execution_count": null
  }
 ],
 "metadata": {
  "kernelspec": {
   "display_name": "Python 3",
   "language": "python",
   "name": "python3"
  },
  "language_info": {
   "codemirror_mode": {
    "name": "ipython",
    "version": 2
   },
   "file_extension": ".py",
   "mimetype": "text/x-python",
   "name": "python",
   "nbconvert_exporter": "python",
   "pygments_lexer": "ipython2",
   "version": "2.7.6"
  }
 },
 "nbformat": 4,
 "nbformat_minor": 5
}
