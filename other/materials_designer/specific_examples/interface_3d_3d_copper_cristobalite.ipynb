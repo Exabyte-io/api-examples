{
 "cells": [
  {
   "cell_type": "markdown",
   "metadata": {},
   "source": [
    "# Interface between Copper (001) and Cristobalite (001)\n",
    "\n",
    "## Introduction\n",
    "\n",
    "This notebook demonstrates the creation of an interface between two 3D materials.\n",
    "\n",
    "Following the manuscript:\n",
    "    > **Shan, T.-R., Devine, B. D., Phillpot, S. R., & Sinnott, S. B.** \n",
    "    > \"Molecular dynamics study of the adhesion of Cu/SiO2interfaces using a variable-charge interatomic potential.\"\n",
    "    > Physical Review B, 83(11). \n",
    "    > [DOI: 10.1103/PhysRevB.83.115327](https://doi.org/10.1103/PhysRevB.83.115327) \n",
    "\n",
    "\n",
    "\n",
    "Replicating the materials from the manuscript, FIG. 1. (a):\n",
    "\n",
    "<img src='https://github.com/Exabyte-io/documentation/raw/12617167278ae3523adc028583b21ea4e8ebd197/images/tutorials/materials/interfaces/interface_3d_3d_copper_cristobalite/0-figure-from-manuscript.webp' width='600'/>\n"
   ]
  },
  {
   "cell_type": "markdown",
   "metadata": {},
   "source": [
    "## 1. Prepare the Environment\n",
    "### 1.1. Set up the notebook \n",
    "\n",
    "Set the following flags to control the notebook behavior "
   ]
  },
  {
   "cell_type": "code",
   "execution_count": null,
   "metadata": {},
   "outputs": [],
   "source": [
    "FILM_MILLER_INDICES = (0, 0, 1)\n",
    "FILM_THICKNESS = 3  # in atomic layers\n",
    "FILM_TERMINATION_FORMULA = None  # if None, the first termination will be used\n",
    "FILM_VACUUM = 0.0  # in angstroms\n",
    "\n",
    "SUBSTRATE_MILLER_INDICES = (0, 0, 1)\n",
    "SUBSTRATE_THICKNESS = 3  # in atomic layers\n",
    "SUBSTRATE_TERMINATION_FORMULA = None  # if None, the first termination will be used\n",
    "SUBSTRATE_VACUUM = 0.0  # in angstroms\n",
    "\n",
    "INTERFACE_DISTANCE = 2.4  # Gap between substrate and film, in Angstrom\n",
    "INTERFACE_VACUUM = 18.0  # Vacuum over film, in Angstrom\n",
    "\n",
    "# Whether to convert materials to conventional cells before creating slabs.\n",
    "USE_CONVENTIONAL_CELL = True\n",
    "\n",
    "# Maximum area for the superlattice search algorithm (the final interface area will be smaller)\n",
    "MAX_AREA = 150  # in Angstrom^2\n",
    "# Additional fine-tuning parameters (increase values to get more strained matches):\n",
    "MAX_AREA_TOLERANCE = 0.09  # in Angstrom^2\n",
    "MAX_LENGTH_TOLERANCE = 0.05\n",
    "MAX_ANGLE_TOLERANCE = 0.02\n",
    "\n",
    "# Whether to reduce the resulting interface cell to the primitive cell after the interface creation.\n",
    "REDUCE_RESULT_CELL_TO_PRIMITIVE = False"
   ]
  },
  {
   "cell_type": "markdown",
   "metadata": {},
   "source": [
    "### 1.2. Install Packages\n",
    "The step executes only in Pyodide environment. For other environments, the packages should be installed via `pip install` (see [README](../../README.ipynb))."
   ]
  },
  {
   "cell_type": "code",
   "execution_count": null,
   "metadata": {},
   "outputs": [],
   "source": [
    "import sys\n",
    "\n",
    "if sys.platform == \"emscripten\":\n",
    "    import micropip\n",
    "\n",
    "    await micropip.install(\"mat3ra-api-examples\", deps=False)\n",
    "    await micropip.install('mat3ra-utils')\n",
    "    from mat3ra.utils.jupyterlite.packages import install_packages\n",
    "\n",
    "    await install_packages(\"specific_examples|create_interface_with_min_strain_zsl.ipynb\")"
   ]
  },
  {
   "cell_type": "markdown",
   "metadata": {},
   "source": [
    "### 1.3. Get input materials and assign `substrate` and `film`\n",
    "Materials are loaded with `get_data()`. The first material is assigned as substrate and the second as film."
   ]
  },
  {
   "cell_type": "code",
   "execution_count": null,
   "metadata": {},
   "outputs": [],
   "source": [
    "from mat3ra.standata.materials import Materials\n",
    "from mat3ra.made.material import Material\n",
    "\n",
    "film = Material.create(Materials.get_by_name_first_match(\"Copper\"))\n",
    "substrate = Material.create(Materials.get_by_name_first_match(\"Cristobalite\"))"
   ]
  },
  {
   "cell_type": "markdown",
   "metadata": {},
   "source": [
    "### 1.4. Preview Substrate and Film"
   ]
  },
  {
   "cell_type": "code",
   "execution_count": null,
   "metadata": {},
   "outputs": [],
   "source": [
    "from utils.visualize import visualize_materials as visualize\n",
    "\n",
    "visualize([substrate, film], repetitions=[3, 3, 1], rotation=\"0x\")"
   ]
  },
  {
   "cell_type": "markdown",
   "metadata": {},
   "source": [
    "## 2. Configure slabs for interface\n",
    "\n",
    "### 2.1. Get possible terminations for the slabs"
   ]
  },
  {
   "cell_type": "code",
   "execution_count": null,
   "metadata": {},
   "outputs": [],
   "source": [
    "from mat3ra.made.tools.helpers import get_slab_terminations\n",
    "\n",
    "film_slab_terminations = get_slab_terminations(material=film, miller_indices=FILM_MILLER_INDICES)\n",
    "substrate_slab_terminations = get_slab_terminations(material=substrate, miller_indices=SUBSTRATE_MILLER_INDICES)\n",
    "print(\"Film slab terminations:\", film_slab_terminations)\n",
    "print(\"Substrate slab terminations:\", substrate_slab_terminations)\n"
   ]
  },
  {
   "cell_type": "markdown",
   "metadata": {},
   "source": [
    "### 2.2. Visualize slabs for all possible terminations"
   ]
  },
  {
   "cell_type": "code",
   "execution_count": null,
   "metadata": {},
   "outputs": [],
   "source": [
    "from mat3ra.made.tools.helpers import create_slab, select_slab_termination\n",
    "\n",
    "film_slabs = [create_slab(film, miller_indices=FILM_MILLER_INDICES, termination_top=termination, vacuum=0) for termination\n",
    "              in\n",
    "              film_slab_terminations]\n",
    "\n",
    "substrate_slabs = [create_slab(substrate, miller_indices=SUBSTRATE_MILLER_INDICES, termination_top=termination, vacuum=0)\n",
    "                   for termination in\n",
    "                   substrate_slab_terminations]\n",
    "\n",
    "film_slabs_with_titles = [{\"material\": slab, \"title\": str(termination)} for slab, termination in\n",
    "                          zip(film_slabs, film_slab_terminations)]\n",
    "substrate_slabs_with_titles = [{\"material\": slab, \"title\": str(termination)} for slab, termination in\n",
    "                               zip(substrate_slabs, substrate_slab_terminations)]\n",
    "\n",
    "visualize(film_slabs_with_titles, repetitions=[3, 3, 1], rotation=\"-90x\")\n",
    "visualize(substrate_slabs_with_titles, repetitions=[3, 3, 1], rotation=\"-90x\")\n"
   ]
  },
  {
   "cell_type": "markdown",
   "metadata": {},
   "source": [
    "### 2.3. Select terminations for the Slabs"
   ]
  },
  {
   "cell_type": "code",
   "execution_count": null,
   "metadata": {},
   "outputs": [],
   "source": [
    "film_termination = select_slab_termination(film_slab_terminations, FILM_TERMINATION_FORMULA)\n",
    "substrate_termination = select_slab_termination(substrate_slab_terminations, SUBSTRATE_TERMINATION_FORMULA)"
   ]
  },
  {
   "cell_type": "markdown",
   "metadata": {},
   "source": [
    "### 2.4. Create Substrate and Film Slabs\n",
    "Slab Configuration lets define the slab thickness, vacuum, and the Miller indices of the interfacial plane.\n",
    "Define the substrate slab cell that will be used as a base for the interface and the film slab cell that will be placed on top of the substrate slab."
   ]
  },
  {
   "cell_type": "code",
   "execution_count": null,
   "metadata": {},
   "outputs": [],
   "source": [
    "from mat3ra.made.tools.build.pristine_structures.two_dimensional.slab import SlabConfiguration, SlabBuilder\n",
    "\n",
    "substrate_slab_config = SlabConfiguration.from_parameters(\n",
    "    material_or_dict=substrate,\n",
    "    miller_indices=SUBSTRATE_MILLER_INDICES,\n",
    "    number_of_layers=SUBSTRATE_THICKNESS,\n",
    "    vacuum=0.0,\n",
    "    termination_top_formula=SUBSTRATE_TERMINATION_FORMULA,\n",
    "    use_conventional_cell=USE_CONVENTIONAL_CELL\n",
    ")\n",
    "\n",
    "film_slab_config = SlabConfiguration.from_parameters(\n",
    "    material_or_dict=film,\n",
    "    miller_indices=FILM_MILLER_INDICES,\n",
    "    number_of_layers=FILM_THICKNESS,\n",
    "    vacuum=0.0,\n",
    "    termination_bottom_formula=FILM_TERMINATION_FORMULA, # film termination is on the bottom\n",
    "    use_conventional_cell=USE_CONVENTIONAL_CELL\n",
    ")\n",
    "\n",
    "substrate_slab = SlabBuilder().get_material(substrate_slab_config)\n",
    "film_slab = SlabBuilder().get_material(film_slab_config)"
   ]
  },
  {
   "cell_type": "markdown",
   "metadata": {},
   "source": [
    "## 3. Analyze possible interfaces with ZSL Analyzer\n",
    "### 3.1. Initialize ZSL Analyzer\n",
    "The search algorithm for supercells matching can be tuned by setting its parameters directly, otherwise the default values are used.\n"
   ]
  },
  {
   "cell_type": "code",
   "execution_count": null,
   "metadata": {},
   "outputs": [],
   "source": [
    "from mat3ra.made.tools.analyze.interface import ZSLInterfaceAnalyzer\n",
    "\n",
    "zsl_analyzer = ZSLInterfaceAnalyzer(\n",
    "    substrate_slab_configuration=substrate_slab_config,\n",
    "    film_slab_configuration=film_slab_config,\n",
    "    max_area=MAX_AREA,\n",
    "    max_area_ratio_tol=MAX_AREA_TOLERANCE,\n",
    "    max_length_tol=MAX_LENGTH_TOLERANCE,\n",
    "    max_angle_tol=MAX_ANGLE_TOLERANCE,\n",
    "    reduce_result_cell=False  # Reduces supercell matrices in analyzer\n",
    ")\n"
   ]
  },
  {
   "cell_type": "markdown",
   "metadata": {},
   "source": [
    "### 3.2. Generate matches with strain analyzer\n",
    "Matches are sorted by size and strain.\n"
   ]
  },
  {
   "cell_type": "code",
   "execution_count": null,
   "metadata": {},
   "outputs": [],
   "source": [
    "matches = zsl_analyzer.zsl_match_holders\n"
   ]
  },
  {
   "cell_type": "markdown",
   "metadata": {},
   "source": [
    "### 3.3. Plot matches by area and strain\n"
   ]
  },
  {
   "cell_type": "code",
   "execution_count": null,
   "metadata": {},
   "outputs": [],
   "source": [
    "from utils.plot import plot_strain_vs_area\n",
    "\n",
    "PLOT_SETTINGS = {\n",
    "    \"HEIGHT\": 600,\n",
    "    \"X_SCALE\": \"log\",  # or linear\n",
    "    \"Y_SCALE\": \"log\",  # or linear\n",
    "}\n",
    "\n",
    "plot_strain_vs_area(matches, PLOT_SETTINGS)\n"
   ]
  },
  {
   "cell_type": "markdown",
   "metadata": {},
   "source": [
    "### 3.4. Select the interface\n",
    "\n",
    "Select the index for the interface with the lowest strain and the smallest area.\n"
   ]
  },
  {
   "cell_type": "code",
   "execution_count": null,
   "metadata": {},
   "outputs": [],
   "source": [
    "selected_index = 0\n",
    "\n",
    "from mat3ra.made.tools.helpers import create_interface_zsl_between_slabs as create_zsl_interface_between_slabs\n",
    "\n",
    "interface = create_zsl_interface_between_slabs(\n",
    "    substrate_slab=substrate_slab,\n",
    "    film_slab=film_slab,\n",
    "    gap=INTERFACE_DISTANCE,\n",
    "    vacuum=INTERFACE_VACUUM,\n",
    "    match_id=selected_index,\n",
    "    max_area=MAX_AREA,\n",
    "    max_area_ratio_tol=MAX_AREA_TOLERANCE,\n",
    "    max_length_tol=MAX_LENGTH_TOLERANCE,\n",
    "    max_angle_tol=MAX_ANGLE_TOLERANCE,\n",
    "    reduce_result_cell_to_primitive=REDUCE_RESULT_CELL_TO_PRIMITIVE,\n",
    ")\n"
   ]
  },
  {
   "cell_type": "markdown",
   "metadata": {},
   "source": [
    "## 4. Preview the selected interface\n"
   ]
  },
  {
   "cell_type": "code",
   "execution_count": null,
   "metadata": {},
   "outputs": [],
   "source": [
    "visualize(interface, repetitions=[1, 1, 1])\n",
    "visualize(interface, repetitions=[1, 1, 1], rotation=\"-90x\")\n"
   ]
  },
  {
   "cell_type": "markdown",
   "metadata": {},
   "source": [
    "## 5. Pass data to the outside runtime\n"
   ]
  },
  {
   "cell_type": "code",
   "execution_count": null,
   "metadata": {},
   "outputs": [],
   "source": [
    "from utils.jupyterlite import set_materials, download_content_to_file\n",
    "\n",
    "set_materials(interface)\n",
    "download_content_to_file(interface.to_json(), f\"{interface.name}.json\")"
   ]
  }
 ],
 "metadata": {
  "kernelspec": {
   "display_name": ".venv",
   "language": "python",
   "name": "python3"
  },
  "language_info": {
   "codemirror_mode": {
    "name": "ipython",
    "version": 3
   },
   "file_extension": ".py",
   "mimetype": "text/x-python",
   "name": "python",
   "nbconvert_exporter": "python",
   "pygments_lexer": "ipython3",
   "version": "3.10.12"
  }
 },
 "nbformat": 4,
 "nbformat_minor": 4
}
