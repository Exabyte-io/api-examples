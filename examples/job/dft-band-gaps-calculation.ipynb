version https://git-lfs.github.com/spec/v1
oid sha256:1c8140fa35ada8b1edf66fffaa6819878a941e30c5cfac10516336c84935cce2
size 22524
