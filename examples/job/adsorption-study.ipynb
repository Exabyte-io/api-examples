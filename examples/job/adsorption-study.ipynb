version https://git-lfs.github.com/spec/v1
oid sha256:816356a8e64c40e4fe046b504c58eb5595a3d68d741b5933e47b7205da22d080
size 14089
