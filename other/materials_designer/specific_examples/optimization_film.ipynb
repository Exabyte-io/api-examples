{
 "cells": [
  {
   "cell_type": "code",
   "execution_count": null,
   "id": "initial_id",
   "metadata": {
    "collapsed": true
   },
   "outputs": [],
   "source": []
  },
  {
   "cell_type": "markdown",
   "source": [
    "# Optimize Interface Film Position\n",
    "\n",
    "This notebook optimizes the position of a film in an interface structure by:\n",
    "1. Evaluating energies across an x-y grid of positions\n",
    "2. Finding the optimal position that minimizes interaction energy\n",
    "3. Visualizing the energy landscape\n",
    "\n",
    "## 1. Set up the environment\n"
   ],
   "metadata": {
    "collapsed": false
   },
   "id": "b8a6ffb249ccdbdf"
  },
  {
   "cell_type": "code",
   "outputs": [],
   "source": [
    "# Parameters for optimization\n",
    "GRID_SIZE = (20, 20)  # Resolution of the x-y grid\n",
    "GRID_RANGE_X = (-0.5, 0.5)  # Range to search in x direction (in crystal coordinates)\n",
    "GRID_RANGE_Y = (-0.5, 0.5)  # Range to search in y direction (in crystal coordinates)\n",
    "USE_CARTESIAN = False  # Whether to use Cartesian coordinates\n",
    "SHADOWING_RADIUS = 2.5  # Radius for detecting surface atoms (in Angstroms)\n"
   ],
   "metadata": {
    "collapsed": false
   },
   "id": "98ad72572c74fc02",
   "execution_count": null
  },
  {
   "cell_type": "markdown",
   "source": [
    "## 2. Import required packages\n"
   ],
   "metadata": {
    "collapsed": false
   },
   "id": "91163f0485653d87"
  },
  {
   "cell_type": "code",
   "outputs": [],
   "source": [
    "import numpy as np\n",
    "import plotly.graph_objects as go\n",
    "from IPython.display import display\n",
    "from mat3ra.made.material import Material\n",
    "\n"
   ],
   "metadata": {
    "collapsed": false
   },
   "id": "d01a9276825e4d1a",
   "execution_count": null
  },
  {
   "cell_type": "markdown",
   "source": [
    "## 3. Define visualization functions\n"
   ],
   "metadata": {
    "collapsed": false
   },
   "id": "c5d64955619553db"
  },
  {
   "cell_type": "code",
   "outputs": [],
   "source": [
    "def plot_energy_landscape(xy_matrix, energy_matrix, optimal_position=None):\n",
    "    \"\"\"\n",
    "    Create a 3D surface plot of the energy landscape.\n",
    "    \n",
    "    Args:\n",
    "        xy_matrix (List[np.ndarray]): X and Y coordinate matrices\n",
    "        energy_matrix (np.ndarray): Matrix of energy values\n",
    "        optimal_position (tuple, optional): The optimal (x,y) position to highlight\n",
    "    \"\"\"\n",
    "    x_vals, y_vals = xy_matrix\n",
    "    X, Y = np.meshgrid(x_vals, y_vals)\n",
    "    \n",
    "    # Create the 3D surface plot\n",
    "    fig = go.Figure(data=[\n",
    "        go.Surface(x=X, y=Y, z=energy_matrix, colorscale='Viridis')\n",
    "    ])\n",
    "    \n",
    "    # Add optimal position marker if provided\n",
    "    if optimal_position is not None:\n",
    "        x_opt, y_opt = optimal_position[0], optimal_position[1]\n",
    "        z_opt = np.min(energy_matrix)\n",
    "        fig.add_trace(go.Scatter3d(\n",
    "            x=[x_opt], y=[y_opt], z=[z_opt],\n",
    "            mode='markers',\n",
    "            marker=dict(size=8, color='red'),\n",
    "            name='Optimal Position'\n",
    "        ))\n",
    "    \n",
    "    fig.update_layout(\n",
    "        title='Interface Energy Landscape',\n",
    "        scene=dict(\n",
    "            xaxis_title='X Position',\n",
    "            yaxis_title='Y Position',\n",
    "            zaxis_title='Energy'\n",
    "        ),\n",
    "        width=800,\n",
    "        height=800\n",
    "    )\n",
    "    \n",
    "    fig.show()\n",
    "\n",
    "\n",
    "def plot_energy_heatmap(xy_matrix, energy_matrix, optimal_position=None):\n",
    "    \"\"\"Create a 2D heatmap of the energy landscape.\"\"\"\n",
    "    x_vals, y_vals = xy_matrix\n",
    "\n",
    "    fig = go.Figure(data=go.Heatmap(\n",
    "        x=x_vals,\n",
    "        y=y_vals,\n",
    "        z=energy_matrix,\n",
    "        colorscale='Viridis',\n",
    "        colorbar=dict(title='Energy')\n",
    "    ))\n",
    "\n",
    "    if optimal_position is not None:\n",
    "        x_opt, y_opt = optimal_position[0], optimal_position[1]\n",
    "        fig.add_trace(go.Scatter(\n",
    "            x=[x_opt],\n",
    "            y=[y_opt],\n",
    "            mode='markers',\n",
    "            marker=dict(size=12, color='red', symbol='x'),\n",
    "            name='Optimal Position'\n",
    "        ))\n",
    "\n",
    "    fig.update_layout(\n",
    "        title='Interface Energy Heatmap',\n",
    "        xaxis_title='X Position',\n",
    "        yaxis_title='Y Position',\n",
    "        width=800,\n",
    "        height=600\n",
    "    )\n",
    "\n",
    "    fig.show()\n",
    "\n"
   ],
   "metadata": {
    "collapsed": false
   },
   "id": "a168051e47adf306",
   "execution_count": null
  },
  {
   "cell_type": "markdown",
   "source": [
    "## 6. Load and optimize material\n"
   ],
   "metadata": {
    "collapsed": false
   },
   "id": "77bd2763b4accaf6"
  },
  {
   "cell_type": "code",
   "outputs": [],
   "source": [
    "from mat3ra.made.tools.build.interface import get_optimal_film_displacement\n",
    "# Import required packages \n",
    "from utils.visualize import visualize_materials\n",
    "from mat3ra.made.tools.build.interface import interface_displace_part\n",
    "from mat3ra.made.tools.calculate.calculators import InterfaceMaterialCalculator\n",
    "from mat3ra.made.tools.optimize import evaluate_calculator_on_xy_grid\n",
    "from utils.jupyterlite import get_materials, set_materials\n",
    "import numpy as np\n",
    "import plotly.graph_objects as go\n",
    "\n",
    "# Parameters\n",
    "GRID_SIZE = (20, 20)\n",
    "GRID_RANGE_X = (-0.0, 1.0)\n",
    "GRID_RANGE_Y = (-0.0, 1.0)\n",
    "USE_CARTESIAN = False\n",
    "\n",
    "\n",
    "\n",
    "# Get the material\n",
    "materials = get_materials(globals())\n",
    "interface_material = materials[0]\n",
    "interface_material = interface_displace_part(\n",
    "    interface_material,\n",
    "    displacement=[0.24, 1.1,0],\n",
    "    use_cartesian_coordinates=USE_CARTESIAN\n",
    ")\n",
    "print(\"Material labels:\", interface_material.basis.labels)\n",
    "\n",
    "# Initialize calculator\n",
    "calculator = InterfaceMaterialCalculator()\n",
    "\n",
    "# Calculate energy landscape\n",
    "xy_matrix, energy_matrix = evaluate_calculator_on_xy_grid(\n",
    "    material=interface_material,\n",
    "    calculator_function=calculator.get_energy,\n",
    "    modifier=interface_displace_part,\n",
    "    grid_size_xy=GRID_SIZE,\n",
    "    grid_range_x=GRID_RANGE_X,\n",
    "    grid_range_y=GRID_RANGE_Y,\n",
    "    use_cartesian_coordinates=USE_CARTESIAN\n",
    ")\n",
    "\n",
    "optimal_displacement = get_optimal_film_displacement(material=interface_material, calculator=calculator,   \n",
    "    grid_size_xy=GRID_SIZE,\n",
    "    grid_range_x=GRID_RANGE_X,\n",
    "    grid_range_y=GRID_RANGE_Y,\n",
    "    use_cartesian_coordinates=USE_CARTESIAN)\n",
    "                                                     \n"
   ],
   "metadata": {
    "collapsed": false
   },
   "id": "10ba8778c747f7ed",
   "execution_count": null
  },
  {
   "cell_type": "code",
   "outputs": [],
   "source": [
    "\n",
    "# Plot energy landscape\n",
    "plot_energy_heatmap(xy_matrix, energy_matrix, optimal_position=optimal_displacement)\n",
    "plot_energy_landscape(xy_matrix, energy_matrix, optimal_position=optimal_displacement)\n",
    "# Create optimized material\n",
    "optimized_material = interface_displace_part(\n",
    "    interface_material,\n",
    "    displacement=optimal_displacement,\n",
    "    use_cartesian_coordinates=USE_CARTESIAN\n",
    ")\n",
    "\n",
    "# Visualize materials\n",
    "print(\"\\nVisualization of original and optimized materials:\")\n",
    "visualize_materials([interface_material, optimized_material], repetitions=[3, 3,1])\n",
    "visualize_materials([interface_material, optimized_material], repetitions=[3,3,1], rotation='-90x')\n",
    "\n",
    "print(f\"\\nOptimal displacement: {optimal_displacement}\")\n",
    "\n",
    "# Save optimized material (uncomment to use)\n",
    "# set_materials(optimized_material)"
   ],
   "metadata": {
    "collapsed": false
   },
   "id": "1ea7e9ae1349ebab",
   "execution_count": null
  },
  {
   "cell_type": "code",
   "outputs": [],
   "source": [],
   "metadata": {
    "collapsed": false
   },
   "id": "60b9d140c1196d72",
   "execution_count": null
  },
  {
   "cell_type": "code",
   "outputs": [],
   "source": [],
   "metadata": {
    "collapsed": false
   },
   "id": "4d3331c6b4eb983c",
   "execution_count": null
  }
 ],
 "metadata": {
  "kernelspec": {
   "display_name": "Python 3",
   "language": "python",
   "name": "python3"
  },
  "language_info": {
   "codemirror_mode": {
    "name": "ipython",
    "version": 2
   },
   "file_extension": ".py",
   "mimetype": "text/x-python",
   "name": "python",
   "nbconvert_exporter": "python",
   "pygments_lexer": "ipython2",
   "version": "2.7.6"
  }
 },
 "nbformat": 4,
 "nbformat_minor": 5
}
