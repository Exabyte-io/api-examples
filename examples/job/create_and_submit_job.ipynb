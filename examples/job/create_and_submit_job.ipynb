version https://git-lfs.github.com/spec/v1
oid sha256:7b840495536817ece65c73842f9fd725c672ea9450a75f1fb14c57a629c5d820
size 28750
