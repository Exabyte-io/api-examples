{
 "cells": [
  {
   "cell_type": "markdown",
   "metadata": {},
   "source": [
    "# Create an interface with ZSL and relax it with ALIGNN\n",
    "\n",
    "Use Zur and McGill superlattices matching [algorithm](https://doi.org/10.1063/1.3330840) to create interfaces between two materials using the Pymatgen [implementation](https://pymatgen.org/pymatgen.analysis.interfaces.html#pymatgen.analysis.interfaces.zsl).\n",
    "\n",
    "<h2 style=\"color:green\">Usage</h2>\n",
    "\n",
    "0. Make sure to select Input Materials\n",
    "1. Execute \"Run first: ...\" cell below to load Input Materials into the current kernel\n",
    "2. Set Input Parameters (e.g. `MILLER_INDICES`, `THICKNESS`, `MAX_AREA`) below or use the default values\n",
    "3. Click \"Run\" > \"Run All\" to run all cells\n",
    "4. Wait for the run to complete (depending on the area, it can take 1-2 min or more). Scroll down to view cell results.\n",
    "5. Review the strain plot and modify its parameters as needed\n",
    "\n",
    "## Methodology\n",
    "\n",
    "The following happens in the script below:\n",
    "\n",
    "1. Create slabs for each input material. The materials data is passed in from and back to the web application according to this description (TBA).\n",
    "   We assume that two input materials are either in bulk form (e.g. Ni crystal) or layered (e.g. graphene). \n",
    "   \n",
    "   We construct the interface along the Z-axis. The material corresponding to the bottom of the interface is referred to as the \"**substrate**\", and the top - as the \"**layer**\". \n",
    "\n",
    "2. Perform strain matching on the slabs to extract the supercell dimensions. The algorithm has a set of parameters, such as the maximum area considered, that can be configured by editing the cells below.\n",
    "\n",
    "3. When the strain matching is finished, the interface with the lowest strain (and the smallest number of atoms) is selected. We create the corresponding supercells and place them at a specified distance from each other (note no shift is performed currently).\n"
   ]
  },
  {
   "cell_type": "markdown",
   "source": [
    "## 0. Load Materials"
   ],
   "metadata": {
    "collapsed": false
   }
  },
  {
   "cell_type": "code",
   "execution_count": 16,
   "metadata": {
    "ExecuteTime": {
     "end_time": "2024-02-27T01:04:42.882298Z",
     "start_time": "2024-02-27T01:04:42.704486Z"
    }
   },
   "outputs": [],
   "source": [
    "import json\n",
    "materials_in = []\n",
    "for file in [\"Ni.json\", \"Gr.json\"]:\n",
    "    with open(file, \"r\") as f:\n",
    "        data = f.read()\n",
    "        materials_in.append(json.loads(data))"
   ]
  },
  {
   "cell_type": "markdown",
   "metadata": {},
   "source": [
    "## 1. Set Input Parameters\n",
    "\n",
    "### 1.1. Select Substrate and Layer from Input Materials"
   ]
  },
  {
   "cell_type": "code",
   "execution_count": 17,
   "metadata": {
    "ExecuteTime": {
     "end_time": "2024-02-27T01:04:42.938318Z",
     "start_time": "2024-02-27T01:04:42.859231Z"
    }
   },
   "outputs": [],
   "source": [
    "SUBSTRATE_PARAMETERS = {\n",
    "    \"MATERIAL_INDEX\": 0,  # the index of the material in the materials_in list\n",
    "    \"MILLER_INDICES\": (1, 1, 1),  # the miller indices of the interfacial plane\n",
    "    \"THICKNESS\": 6,  # in layers\n",
    "}\n",
    "\n",
    "LAYER_PARAMETERS = {\n",
    "    \"MATERIAL_INDEX\": 1, # the index of the material in the materials_in list\n",
    "    \"MILLER_INDICES\": (0, 0, 1),  # the miller indices of the interfacial plane\n",
    "    \"THICKNESS\": 1,  # in layers\n",
    "}"
   ]
  },
  {
   "cell_type": "markdown",
   "metadata": {},
   "source": [
    "### 1.2. Set Interface Parameters\n",
    "\n",
    "The distance between layer and substrate and maximum area to consider when matching.\n"
   ]
  },
  {
   "cell_type": "code",
   "execution_count": 18,
   "metadata": {
    "ExecuteTime": {
     "end_time": "2024-02-27T01:04:43.036617Z",
     "start_time": "2024-02-27T01:04:42.930217Z"
    }
   },
   "outputs": [],
   "source": [
    "INTERFACE_PARAMETERS = {\n",
    "    \"DISTANCE_Z\": 3.0, # in Angstroms\n",
    "    \"MAX_AREA\": 50, # in Angstroms^2\n",
    "}"
   ]
  },
  {
   "cell_type": "markdown",
   "metadata": {},
   "source": [
    "### 1.3. Set Algorithm Parameters"
   ]
  },
  {
   "cell_type": "code",
   "execution_count": 19,
   "metadata": {
    "ExecuteTime": {
     "end_time": "2024-02-27T01:04:43.080550Z",
     "start_time": "2024-02-27T01:04:43.023677Z"
    }
   },
   "outputs": [],
   "source": [
    "ZSL_PARAMETERS = {\n",
    "    \"MAX_AREA\": INTERFACE_PARAMETERS[\"MAX_AREA\"],  # The area to consider in Angstrom^2\n",
    "    \"MAX_AREA_TOL\": 0.09,  # The area within this tolerance is considered equal\n",
    "    \"MAX_LENGTH_TOL\": 0.03,  # supercell lattice vectors lengths within this tolerance are considered equal\n",
    "    \"MAX_ANGLE_TOL\": 0.01,  # supercell lattice angles within this tolerance are considered equal\n",
    "    \"STRAIN_TOL\": 10e-6,  # strains within this tolerance are considered equal\n",
    "}\n",
    "RELAXATION_PARAMETERS = {\n",
    "    \"FMAX\": 0.018,\n",
    "}"
   ]
  },
  {
   "cell_type": "markdown",
   "metadata": {},
   "source": [
    "## 2. Install Packages"
   ]
  },
  {
   "cell_type": "code",
   "execution_count": 20,
   "metadata": {
    "ExecuteTime": {
     "end_time": "2024-02-27T01:04:44.950279Z",
     "start_time": "2024-02-27T01:04:43.084574Z"
    }
   },
   "outputs": [
    {
     "name": "stdout",
     "output_type": "stream",
     "text": [
      "Python 3.11.2\r\n",
      "Package                    Version\r\n",
      "-------------------------- -----------------\r\n",
      "accelerate                 0.27.2\r\n",
      "aiohttp                    3.9.3\r\n",
      "aiosignal                  1.3.1\r\n",
      "alignn                     2024.2.4\r\n",
      "anyio                      4.3.0\r\n",
      "appnope                    0.1.4\r\n",
      "argon2-cffi                23.1.0\r\n",
      "argon2-cffi-bindings       21.2.0\r\n",
      "arrow                      1.3.0\r\n",
      "ase                        3.22.1\r\n",
      "asttokens                  2.4.1\r\n",
      "async-lru                  2.0.4\r\n",
      "attrs                      23.2.0\r\n",
      "Babel                      2.14.0\r\n",
      "beautifulsoup4             4.12.3\r\n",
      "bleach                     6.1.0\r\n",
      "build                      1.0.3\r\n",
      "certifi                    2024.2.2\r\n",
      "cffi                       1.16.0\r\n",
      "cfgv                       3.4.0\r\n",
      "charset-normalizer         3.3.2\r\n",
      "click                      8.1.7\r\n",
      "colorama                   0.4.6\r\n",
      "comm                       0.2.1\r\n",
      "contourpy                  1.2.0\r\n",
      "cycler                     0.12.1\r\n",
      "debugpy                    1.8.1\r\n",
      "decorator                  5.1.1\r\n",
      "defusedxml                 0.7.1\r\n",
      "dgl                        2.0.0\r\n",
      "distlib                    0.3.8\r\n",
      "executing                  2.0.1\r\n",
      "fastjsonschema             2.19.1\r\n",
      "filelock                   3.13.1\r\n",
      "flake8                     7.0.0\r\n",
      "fonttools                  4.49.0\r\n",
      "fqdn                       1.5.1\r\n",
      "frozenlist                 1.4.1\r\n",
      "fsspec                     2024.2.0\r\n",
      "future                     1.0.0\r\n",
      "ghp-import                 2.1.0\r\n",
      "h11                        0.14.0\r\n",
      "httpcore                   1.0.4\r\n",
      "httpx                      0.27.0\r\n",
      "huggingface-hub            0.20.3\r\n",
      "identify                   2.5.35\r\n",
      "idna                       3.6\r\n",
      "ipykernel                  6.29.2\r\n",
      "ipython                    8.22.1\r\n",
      "ipywidgets                 8.1.2\r\n",
      "isoduration                20.11.0\r\n",
      "jarvis-tools               2023.12.12\r\n",
      "jedi                       0.19.1\r\n",
      "Jinja2                     3.1.3\r\n",
      "joblib                     1.3.2\r\n",
      "json5                      0.9.17\r\n",
      "jsonpointer                2.4\r\n",
      "jsonschema                 4.21.1\r\n",
      "jsonschema-specifications  2023.12.1\r\n",
      "jupyter                    1.0.0\r\n",
      "jupyter_client             8.6.0\r\n",
      "jupyter-console            6.6.3\r\n",
      "jupyter_core               5.7.1\r\n",
      "jupyter-events             0.9.0\r\n",
      "jupyter-lsp                2.2.2\r\n",
      "jupyter_server             2.12.5\r\n",
      "jupyter_server_terminals   0.5.2\r\n",
      "jupyterlab                 4.1.2\r\n",
      "jupyterlab_pygments        0.3.0\r\n",
      "jupyterlab_server          2.25.3\r\n",
      "jupyterlab_widgets         3.0.10\r\n",
      "kiwisolver                 1.4.5\r\n",
      "latexcodec                 2.0.1\r\n",
      "lightning-utilities        0.10.1\r\n",
      "Markdown                   3.5.2\r\n",
      "MarkupSafe                 2.1.5\r\n",
      "mat3ra-api-examples        0.1.0\r\n",
      "matgl                      0.9.2\r\n",
      "matplotlib                 3.8.3\r\n",
      "matplotlib-inline          0.1.6\r\n",
      "mccabe                     0.7.0\r\n",
      "mergedeep                  1.3.4\r\n",
      "mistune                    3.0.2\r\n",
      "mkdocs                     1.5.3\r\n",
      "mkdocs-material            9.5.10\r\n",
      "mkdocs-material-extensions 1.3.1\r\n",
      "monty                      2024.2.2\r\n",
      "mpmath                     1.3.0\r\n",
      "multidict                  6.0.5\r\n",
      "nbclient                   0.9.0\r\n",
      "nbconvert                  7.16.1\r\n",
      "nbformat                   5.9.2\r\n",
      "nest-asyncio               1.6.0\r\n",
      "networkx                   3.2.1\r\n",
      "nglview                    3.1.1\r\n",
      "nodeenv                    1.8.0\r\n",
      "notebook                   7.1.0\r\n",
      "notebook_shim              0.2.4\r\n",
      "numpy                      1.26.4\r\n",
      "overrides                  7.7.0\r\n",
      "packaging                  23.2\r\n",
      "paginate                   0.5.6\r\n",
      "palettable                 3.3.3\r\n",
      "pandas                     2.2.0\r\n",
      "pandocfilters              1.5.1\r\n",
      "parso                      0.8.3\r\n",
      "pathspec                   0.12.1\r\n",
      "pexpect                    4.9.0\r\n",
      "pillow                     10.2.0\r\n",
      "pip                        23.3.2\r\n",
      "pip-tools                  7.4.0\r\n",
      "platformdirs               4.2.0\r\n",
      "plotly                     5.19.0\r\n",
      "pre-commit                 3.6.2\r\n",
      "prometheus_client          0.20.0\r\n",
      "prompt-toolkit             3.0.43\r\n",
      "psutil                     5.9.8\r\n",
      "ptyprocess                 0.7.0\r\n",
      "pure-eval                  0.2.2\r\n",
      "pybtex                     0.24.0\r\n",
      "pycodestyle                2.11.1\r\n",
      "pycparser                  2.21\r\n",
      "pydantic                   1.8.1\r\n",
      "pydocstyle                 6.3.0\r\n",
      "pyflakes                   3.2.0\r\n",
      "Pygments                   2.17.2\r\n",
      "pymatgen                   2024.2.8\r\n",
      "pymdown-extensions         10.7\r\n",
      "pyparsing                  2.4.7\r\n",
      "pyproject_hooks            1.0.0\r\n",
      "PyQt5                      5.15.10\r\n",
      "PyQt5-Qt5                  5.15.12\r\n",
      "PyQt5-sip                  12.13.0\r\n",
      "python-dateutil            2.8.2\r\n",
      "python-json-logger         2.0.7\r\n",
      "pytorch-ignite             0.5.0.dev20240223\r\n",
      "pytorch-lightning          2.2.0.post0\r\n",
      "pytz                       2024.1\r\n",
      "PyYAML                     6.0.1\r\n",
      "pyyaml_env_tag             0.1\r\n",
      "pyzmq                      25.1.2\r\n",
      "qtconsole                  5.5.1\r\n",
      "QtPy                       2.4.1\r\n",
      "referencing                0.33.0\r\n",
      "regex                      2023.12.25\r\n",
      "requests                   2.31.0\r\n",
      "rfc3339-validator          0.1.4\r\n",
      "rfc3986-validator          0.1.1\r\n",
      "rpds-py                    0.18.0\r\n",
      "ruamel.yaml                0.18.6\r\n",
      "ruamel.yaml.clib           0.2.8\r\n",
      "safetensors                0.4.2\r\n",
      "scikit-learn               1.4.1.post1\r\n",
      "scipy                      1.12.0\r\n",
      "Send2Trash                 1.8.2\r\n",
      "setuptools                 69.0.3\r\n",
      "six                        1.16.0\r\n",
      "sniffio                    1.3.0\r\n",
      "snowballstemmer            2.2.0\r\n",
      "soupsieve                  2.5\r\n",
      "spglib                     2.0.2\r\n",
      "stack-data                 0.6.3\r\n",
      "sympy                      1.12\r\n",
      "tabulate                   0.9.0\r\n",
      "tenacity                   8.2.3\r\n",
      "terminado                  0.18.0\r\n",
      "threadpoolctl              3.3.0\r\n",
      "tinycss2                   1.2.1\r\n",
      "toolz                      0.12.1\r\n",
      "torch                      2.0.0\r\n",
      "torchdata                  0.7.1\r\n",
      "torchmetrics               1.3.1\r\n",
      "tornado                    6.4\r\n",
      "tqdm                       4.66.2\r\n",
      "traitlets                  5.14.1\r\n",
      "types-python-dateutil      2.8.19.20240106\r\n",
      "typing_extensions          4.9.0\r\n",
      "tzdata                     2024.1\r\n",
      "uncertainties              3.1.7\r\n",
      "uri-template               1.3.0\r\n",
      "urllib3                    2.2.1\r\n",
      "virtualenv                 20.25.1\r\n",
      "watchdog                   4.0.0\r\n",
      "wcwidth                    0.2.13\r\n",
      "webcolors                  1.13\r\n",
      "webencodings               0.5.1\r\n",
      "websocket-client           1.7.0\r\n",
      "wheel                      0.42.0\r\n",
      "widgetsnbextension         4.0.10\r\n",
      "xmltodict                  0.13.0\r\n",
      "yarl                       1.9.4\r\n",
      "\r\n",
      "\u001B[1m[\u001B[0m\u001B[34;49mnotice\u001B[0m\u001B[1;39;49m]\u001B[0m\u001B[39;49m A new release of pip is available: \u001B[0m\u001B[31;49m23.3.2\u001B[0m\u001B[39;49m -> \u001B[0m\u001B[32;49m24.0\u001B[0m\r\n",
      "\u001B[1m[\u001B[0m\u001B[34;49mnotice\u001B[0m\u001B[1;39;49m]\u001B[0m\u001B[39;49m To update, run: \u001B[0m\u001B[32;49mpip install --upgrade pip\u001B[0m\r\n"
     ]
    }
   ],
   "source": [
    "!python --version\n",
    "!pip list\n",
    "# !pip install pymatgen==2024.2.8 ase==3.22.1 nbformat==5.9.2 ipykernel==6.29.2 matgl==0.9.2 nglview==3.1.1 alignn==2024.2.4 PyQt5==5.15.10"
   ]
  },
  {
   "cell_type": "markdown",
   "metadata": {},
   "source": [
    "## 3. Create interfaces\n",
    "\n",
    "### 3.1. Extract Interfaces and Terminations\n",
    "\n",
    "Extract all possible layer/substrate supercell combinations within the maximum area including different terminations."
   ]
  },
  {
   "cell_type": "code",
   "execution_count": 21,
   "metadata": {
    "tags": [],
    "trusted": true,
    "ExecuteTime": {
     "end_time": "2024-02-27T01:04:48.109663Z",
     "start_time": "2024-02-27T01:04:44.967363Z"
    }
   },
   "outputs": [
    {
     "name": "stdout",
     "output_type": "stream",
     "text": [
      "Full Formula (Ni1)\n",
      "Reduced Formula: Ni\n",
      "abc   :   2.460000   2.460000   2.460000\n",
      "angles:  60.000000  60.000000  60.000000\n",
      "pbc   :       True       True       True\n",
      "Sites (1)\n",
      "  #  SP      a    b    c\n",
      "---  ----  ---  ---  ---\n",
      "  0  Ni      0    0    0 \n",
      "\n",
      "Full Formula (C2)\n",
      "Reduced Formula: C\n",
      "abc   :   2.467291   2.467291  20.000000\n",
      "angles:  90.000000  90.000000 120.000000\n",
      "pbc   :       True       True       True\n",
      "Sites (2)\n",
      "  #  SP           a         b    c\n",
      "---  ----  --------  --------  ---\n",
      "  0  C     0         0           0\n",
      "  1  C     0.333333  0.666667    0 \n",
      "\n",
      "Creating interfaces...\n"
     ]
    }
   ],
   "source": [
    "from src.pymatgen_coherent_interface_builder import CoherentInterfaceBuilder, ZSLGenerator\n",
    "from src.utils import to_pymatgen\n",
    "\n",
    "if \"materials_in\" in globals():\n",
    "    pymatgen_materials = [to_pymatgen(item) for item in materials_in]\n",
    "for material in pymatgen_materials:\n",
    "    print(material, \"\\n\")\n",
    "\n",
    "\n",
    "def create_interfaces(settings):\n",
    "    print(\"Creating interfaces...\")\n",
    "    zsl = ZSLGenerator(\n",
    "        max_area_ratio_tol=settings[\"ZSL_PARAMETERS\"][\"MAX_AREA_TOL\"],\n",
    "        max_area=settings[\"ZSL_PARAMETERS\"][\"MAX_AREA\"],\n",
    "        max_length_tol=settings[\"ZSL_PARAMETERS\"][\"MAX_LENGTH_TOL\"],\n",
    "        max_angle_tol=settings[\"ZSL_PARAMETERS\"][\"MAX_ANGLE_TOL\"],\n",
    "    )\n",
    "\n",
    "    cib = CoherentInterfaceBuilder(\n",
    "        substrate_structure=pymatgen_materials[settings[\"SUBSTRATE_PARAMETERS\"][\"MATERIAL_INDEX\"]],\n",
    "        film_structure=pymatgen_materials[settings[\"LAYER_PARAMETERS\"][\"MATERIAL_INDEX\"]],\n",
    "        substrate_miller=settings[\"SUBSTRATE_PARAMETERS\"][\"MILLER_INDICES\"],\n",
    "        film_miller=settings[\"LAYER_PARAMETERS\"][\"MILLER_INDICES\"],\n",
    "        zslgen=zsl,\n",
    "        strain_tol=settings[\"ZSL_PARAMETERS\"][\"STRAIN_TOL\"],\n",
    "    )\n",
    "\n",
    "    # Find terminations\n",
    "    cib._find_terminations()\n",
    "    terminations = cib.terminations\n",
    "\n",
    "    # Create interfaces for each termination\n",
    "    interfaces = {}\n",
    "    for termination in terminations:\n",
    "        interfaces[termination] = []\n",
    "        for interface in cib.get_interfaces(\n",
    "            termination,\n",
    "            gap=settings[\"INTERFACE_PARAMETERS\"][\"DISTANCE_Z\"],\n",
    "            film_thickness=settings[\"LAYER_PARAMETERS\"][\"THICKNESS\"],\n",
    "            substrate_thickness=settings[\"SUBSTRATE_PARAMETERS\"][\"THICKNESS\"],\n",
    "            in_layers=True,\n",
    "        ):\n",
    "            # Wrap atoms to unit cell\n",
    "            interface[\"interface\"].make_supercell((1,1,1), to_unit_cell=True)\n",
    "            interfaces[termination].append(interface)\n",
    "    return interfaces, terminations\n",
    "\n",
    "\n",
    "interfaces, terminations = create_interfaces(\n",
    "    settings={\n",
    "        \"SUBSTRATE_PARAMETERS\": SUBSTRATE_PARAMETERS,\n",
    "        \"LAYER_PARAMETERS\": LAYER_PARAMETERS,\n",
    "        \"ZSL_PARAMETERS\": ZSL_PARAMETERS,\n",
    "        \"INTERFACE_PARAMETERS\": INTERFACE_PARAMETERS,\n",
    "    }\n",
    ")"
   ]
  },
  {
   "cell_type": "markdown",
   "metadata": {},
   "source": [
    "### 3.2. Print out the interfaces and terminations"
   ]
  },
  {
   "cell_type": "code",
   "execution_count": 22,
   "metadata": {
    "ExecuteTime": {
     "end_time": "2024-02-27T01:04:48.116686Z",
     "start_time": "2024-02-27T01:04:48.110768Z"
    }
   },
   "outputs": [
    {
     "name": "stdout",
     "output_type": "stream",
     "text": [
      "Found 1 terminations\n",
      "Found 233 interfaces for ('C_P6/mmm_2', 'Ni_R-3m_1') termination\n"
     ]
    }
   ],
   "source": [
    "print(f'Found {len(terminations)} terminations')\n",
    "for termination in terminations:\n",
    "    print(f\"Found {len(interfaces[termination])} interfaces for\", termination, \"termination\")"
   ]
  },
  {
   "cell_type": "markdown",
   "metadata": {},
   "source": [
    "## 4. Sort interfaces by strain\n",
    "\n",
    "### 4.1. Sort all interfaces"
   ]
  },
  {
   "cell_type": "code",
   "execution_count": 23,
   "metadata": {
    "ExecuteTime": {
     "end_time": "2024-02-27T01:04:48.135401Z",
     "start_time": "2024-02-27T01:04:48.128806Z"
    }
   },
   "outputs": [],
   "source": [
    "# Could be \"strain\", \"von_mises_strain\", \"mean_abs_strain\"\n",
    "strain_mode = \"mean_abs_strain\"\n",
    "\n",
    "# Sort interfaces by the specified strain mode and number of sites\n",
    "def sort_interfaces(interfaces, terminations):\n",
    "    sorted_interfaces = {}\n",
    "    for termination in terminations:\n",
    "        sorted_interfaces[termination] = sorted(\n",
    "            interfaces[termination], key=lambda x: (x[strain_mode], x[\"interface\"].num_sites)\n",
    "        )\n",
    "    return sorted_interfaces\n",
    "\n",
    "\n",
    "sorted_interfaces = sort_interfaces(interfaces, terminations)"
   ]
  },
  {
   "cell_type": "markdown",
   "metadata": {},
   "source": [
    "### 4.2. Print out interfaces with lowest strain for each termination"
   ]
  },
  {
   "cell_type": "code",
   "execution_count": 24,
   "metadata": {
    "ExecuteTime": {
     "end_time": "2024-02-27T01:04:48.163486Z",
     "start_time": "2024-02-27T01:04:48.133178Z"
    }
   },
   "outputs": [
    {
     "name": "stdout",
     "output_type": "stream",
     "text": [
      "Interface with lowest strain for termination ('C_P6/mmm_2', 'Ni_R-3m_1') (index 0):\n",
      "    strain: 0.06600000000000002 %\n",
      "    number of atoms: 8\n"
     ]
    }
   ],
   "source": [
    "for termination in terminations:\n",
    "    print(f\"Interface with lowest strain for termination {termination} (index 0):\")\n",
    "    first_interface = interfaces[termination][0]\n",
    "    print(\"    strain:\", first_interface[strain_mode] * 100, \"%\")\n",
    "    print(\"    number of atoms:\", first_interface[\"interface\"].num_sites)"
   ]
  },
  {
   "cell_type": "markdown",
   "metadata": {},
   "source": [
    "## 5. Plot the results\n",
    "\n",
    "Plot the number of atoms vs strain. Adjust the parameters as needed.\n"
   ]
  },
  {
   "cell_type": "code",
   "execution_count": 25,
   "metadata": {
    "ExecuteTime": {
     "end_time": "2024-02-27T01:04:48.164689Z",
     "start_time": "2024-02-27T01:04:48.152665Z"
    }
   },
   "outputs": [
    {
     "data": {
      "application/vnd.plotly.v1+json": {
       "data": [
        {
         "hoverinfo": "text",
         "mode": "markers",
         "name": "Indices: 0",
         "text": [
          "Termination: ('C_P6/mmm_2', 'Ni_R-3m_1')<br>Termination index: 0<br>Interfaces Index Range: 0<br>Strain: 0.07%<br>Atoms: 8"
         ],
         "x": [
          0.06600000000000002
         ],
         "y": [
          8
         ],
         "type": "scatter"
        },
        {
         "hoverinfo": "text",
         "mode": "markers",
         "name": "Indices: 1-9",
         "text": [
          "Termination: ('C_P6/mmm_2', 'Ni_R-3m_1')<br>Termination index: 0<br>Interfaces Index Range: 1-9<br>Strain: 0.07%<br>Atoms: 16"
         ],
         "x": [
          0.06600000000000002
         ],
         "y": [
          16
         ],
         "type": "scatter"
        },
        {
         "hoverinfo": "text",
         "mode": "markers",
         "name": "Indices: 10-19",
         "text": [
          "Termination: ('C_P6/mmm_2', 'Ni_R-3m_1')<br>Termination index: 0<br>Interfaces Index Range: 10-19<br>Strain: 0.07%<br>Atoms: 24"
         ],
         "x": [
          0.06600000000000002
         ],
         "y": [
          24
         ],
         "type": "scatter"
        },
        {
         "hoverinfo": "text",
         "mode": "markers",
         "name": "Indices: 20-38",
         "text": [
          "Termination: ('C_P6/mmm_2', 'Ni_R-3m_1')<br>Termination index: 0<br>Interfaces Index Range: 20-38<br>Strain: 0.07%<br>Atoms: 32"
         ],
         "x": [
          0.06600000000000002
         ],
         "y": [
          32
         ],
         "type": "scatter"
        },
        {
         "hoverinfo": "text",
         "mode": "markers",
         "name": "Indices: 39-56",
         "text": [
          "Termination: ('C_P6/mmm_2', 'Ni_R-3m_1')<br>Termination index: 0<br>Interfaces Index Range: 39-56<br>Strain: 0.07%<br>Atoms: 40"
         ],
         "x": [
          0.06600000000000002
         ],
         "y": [
          40
         ],
         "type": "scatter"
        },
        {
         "hoverinfo": "text",
         "mode": "markers",
         "name": "Indices: 57-110",
         "text": [
          "Termination: ('C_P6/mmm_2', 'Ni_R-3m_1')<br>Termination index: 0<br>Interfaces Index Range: 57-110<br>Strain: 0.07%<br>Atoms: 48"
         ],
         "x": [
          0.06600000000000002
         ],
         "y": [
          48
         ],
         "type": "scatter"
        },
        {
         "hoverinfo": "text",
         "mode": "markers",
         "name": "Indices: 111-132",
         "text": [
          "Termination: ('C_P6/mmm_2', 'Ni_R-3m_1')<br>Termination index: 0<br>Interfaces Index Range: 111-132<br>Strain: 0.07%<br>Atoms: 56"
         ],
         "x": [
          0.06600000000000002
         ],
         "y": [
          56
         ],
         "type": "scatter"
        },
        {
         "hoverinfo": "text",
         "mode": "markers",
         "name": "Indices: 133-177",
         "text": [
          "Termination: ('C_P6/mmm_2', 'Ni_R-3m_1')<br>Termination index: 0<br>Interfaces Index Range: 133-177<br>Strain: 0.07%<br>Atoms: 64"
         ],
         "x": [
          0.06600000000000002
         ],
         "y": [
          64
         ],
         "type": "scatter"
        },
        {
         "hoverinfo": "text",
         "mode": "markers",
         "name": "Indices: 178-232",
         "text": [
          "Termination: ('C_P6/mmm_2', 'Ni_R-3m_1')<br>Termination index: 0<br>Interfaces Index Range: 178-232<br>Strain: 0.07%<br>Atoms: 72"
         ],
         "x": [
          0.06600000000000002
         ],
         "y": [
          72
         ],
         "type": "scatter"
        }
       ],
       "layout": {
        "height": 600,
        "hovermode": "closest",
        "legend": {
         "title": {
          "text": "Interfaces Index Range"
         }
        },
        "xaxis": {
         "title": {
          "text": "Strain (%)"
         },
         "type": "log"
        },
        "yaxis": {
         "title": {
          "text": "Number of atoms"
         },
         "type": "log"
        },
        "template": {
         "data": {
          "histogram2dcontour": [
           {
            "type": "histogram2dcontour",
            "colorbar": {
             "outlinewidth": 0,
             "ticks": ""
            },
            "colorscale": [
             [
              0.0,
              "#0d0887"
             ],
             [
              0.1111111111111111,
              "#46039f"
             ],
             [
              0.2222222222222222,
              "#7201a8"
             ],
             [
              0.3333333333333333,
              "#9c179e"
             ],
             [
              0.4444444444444444,
              "#bd3786"
             ],
             [
              0.5555555555555556,
              "#d8576b"
             ],
             [
              0.6666666666666666,
              "#ed7953"
             ],
             [
              0.7777777777777778,
              "#fb9f3a"
             ],
             [
              0.8888888888888888,
              "#fdca26"
             ],
             [
              1.0,
              "#f0f921"
             ]
            ]
           }
          ],
          "choropleth": [
           {
            "type": "choropleth",
            "colorbar": {
             "outlinewidth": 0,
             "ticks": ""
            }
           }
          ],
          "histogram2d": [
           {
            "type": "histogram2d",
            "colorbar": {
             "outlinewidth": 0,
             "ticks": ""
            },
            "colorscale": [
             [
              0.0,
              "#0d0887"
             ],
             [
              0.1111111111111111,
              "#46039f"
             ],
             [
              0.2222222222222222,
              "#7201a8"
             ],
             [
              0.3333333333333333,
              "#9c179e"
             ],
             [
              0.4444444444444444,
              "#bd3786"
             ],
             [
              0.5555555555555556,
              "#d8576b"
             ],
             [
              0.6666666666666666,
              "#ed7953"
             ],
             [
              0.7777777777777778,
              "#fb9f3a"
             ],
             [
              0.8888888888888888,
              "#fdca26"
             ],
             [
              1.0,
              "#f0f921"
             ]
            ]
           }
          ],
          "heatmap": [
           {
            "type": "heatmap",
            "colorbar": {
             "outlinewidth": 0,
             "ticks": ""
            },
            "colorscale": [
             [
              0.0,
              "#0d0887"
             ],
             [
              0.1111111111111111,
              "#46039f"
             ],
             [
              0.2222222222222222,
              "#7201a8"
             ],
             [
              0.3333333333333333,
              "#9c179e"
             ],
             [
              0.4444444444444444,
              "#bd3786"
             ],
             [
              0.5555555555555556,
              "#d8576b"
             ],
             [
              0.6666666666666666,
              "#ed7953"
             ],
             [
              0.7777777777777778,
              "#fb9f3a"
             ],
             [
              0.8888888888888888,
              "#fdca26"
             ],
             [
              1.0,
              "#f0f921"
             ]
            ]
           }
          ],
          "heatmapgl": [
           {
            "type": "heatmapgl",
            "colorbar": {
             "outlinewidth": 0,
             "ticks": ""
            },
            "colorscale": [
             [
              0.0,
              "#0d0887"
             ],
             [
              0.1111111111111111,
              "#46039f"
             ],
             [
              0.2222222222222222,
              "#7201a8"
             ],
             [
              0.3333333333333333,
              "#9c179e"
             ],
             [
              0.4444444444444444,
              "#bd3786"
             ],
             [
              0.5555555555555556,
              "#d8576b"
             ],
             [
              0.6666666666666666,
              "#ed7953"
             ],
             [
              0.7777777777777778,
              "#fb9f3a"
             ],
             [
              0.8888888888888888,
              "#fdca26"
             ],
             [
              1.0,
              "#f0f921"
             ]
            ]
           }
          ],
          "contourcarpet": [
           {
            "type": "contourcarpet",
            "colorbar": {
             "outlinewidth": 0,
             "ticks": ""
            }
           }
          ],
          "contour": [
           {
            "type": "contour",
            "colorbar": {
             "outlinewidth": 0,
             "ticks": ""
            },
            "colorscale": [
             [
              0.0,
              "#0d0887"
             ],
             [
              0.1111111111111111,
              "#46039f"
             ],
             [
              0.2222222222222222,
              "#7201a8"
             ],
             [
              0.3333333333333333,
              "#9c179e"
             ],
             [
              0.4444444444444444,
              "#bd3786"
             ],
             [
              0.5555555555555556,
              "#d8576b"
             ],
             [
              0.6666666666666666,
              "#ed7953"
             ],
             [
              0.7777777777777778,
              "#fb9f3a"
             ],
             [
              0.8888888888888888,
              "#fdca26"
             ],
             [
              1.0,
              "#f0f921"
             ]
            ]
           }
          ],
          "surface": [
           {
            "type": "surface",
            "colorbar": {
             "outlinewidth": 0,
             "ticks": ""
            },
            "colorscale": [
             [
              0.0,
              "#0d0887"
             ],
             [
              0.1111111111111111,
              "#46039f"
             ],
             [
              0.2222222222222222,
              "#7201a8"
             ],
             [
              0.3333333333333333,
              "#9c179e"
             ],
             [
              0.4444444444444444,
              "#bd3786"
             ],
             [
              0.5555555555555556,
              "#d8576b"
             ],
             [
              0.6666666666666666,
              "#ed7953"
             ],
             [
              0.7777777777777778,
              "#fb9f3a"
             ],
             [
              0.8888888888888888,
              "#fdca26"
             ],
             [
              1.0,
              "#f0f921"
             ]
            ]
           }
          ],
          "mesh3d": [
           {
            "type": "mesh3d",
            "colorbar": {
             "outlinewidth": 0,
             "ticks": ""
            }
           }
          ],
          "scatter": [
           {
            "marker": {
             "line": {
              "color": "#283442"
             }
            },
            "type": "scatter"
           }
          ],
          "parcoords": [
           {
            "type": "parcoords",
            "line": {
             "colorbar": {
              "outlinewidth": 0,
              "ticks": ""
             }
            }
           }
          ],
          "scatterpolargl": [
           {
            "type": "scatterpolargl",
            "marker": {
             "colorbar": {
              "outlinewidth": 0,
              "ticks": ""
             }
            }
           }
          ],
          "bar": [
           {
            "error_x": {
             "color": "#f2f5fa"
            },
            "error_y": {
             "color": "#f2f5fa"
            },
            "marker": {
             "line": {
              "color": "rgb(17,17,17)",
              "width": 0.5
             },
             "pattern": {
              "fillmode": "overlay",
              "size": 10,
              "solidity": 0.2
             }
            },
            "type": "bar"
           }
          ],
          "scattergeo": [
           {
            "type": "scattergeo",
            "marker": {
             "colorbar": {
              "outlinewidth": 0,
              "ticks": ""
             }
            }
           }
          ],
          "scatterpolar": [
           {
            "type": "scatterpolar",
            "marker": {
             "colorbar": {
              "outlinewidth": 0,
              "ticks": ""
             }
            }
           }
          ],
          "histogram": [
           {
            "marker": {
             "pattern": {
              "fillmode": "overlay",
              "size": 10,
              "solidity": 0.2
             }
            },
            "type": "histogram"
           }
          ],
          "scattergl": [
           {
            "marker": {
             "line": {
              "color": "#283442"
             }
            },
            "type": "scattergl"
           }
          ],
          "scatter3d": [
           {
            "type": "scatter3d",
            "line": {
             "colorbar": {
              "outlinewidth": 0,
              "ticks": ""
             }
            },
            "marker": {
             "colorbar": {
              "outlinewidth": 0,
              "ticks": ""
             }
            }
           }
          ],
          "scattermapbox": [
           {
            "type": "scattermapbox",
            "marker": {
             "colorbar": {
              "outlinewidth": 0,
              "ticks": ""
             }
            }
           }
          ],
          "scatterternary": [
           {
            "type": "scatterternary",
            "marker": {
             "colorbar": {
              "outlinewidth": 0,
              "ticks": ""
             }
            }
           }
          ],
          "scattercarpet": [
           {
            "type": "scattercarpet",
            "marker": {
             "colorbar": {
              "outlinewidth": 0,
              "ticks": ""
             }
            }
           }
          ],
          "carpet": [
           {
            "aaxis": {
             "endlinecolor": "#A2B1C6",
             "gridcolor": "#506784",
             "linecolor": "#506784",
             "minorgridcolor": "#506784",
             "startlinecolor": "#A2B1C6"
            },
            "baxis": {
             "endlinecolor": "#A2B1C6",
             "gridcolor": "#506784",
             "linecolor": "#506784",
             "minorgridcolor": "#506784",
             "startlinecolor": "#A2B1C6"
            },
            "type": "carpet"
           }
          ],
          "table": [
           {
            "cells": {
             "fill": {
              "color": "#506784"
             },
             "line": {
              "color": "rgb(17,17,17)"
             }
            },
            "header": {
             "fill": {
              "color": "#2a3f5f"
             },
             "line": {
              "color": "rgb(17,17,17)"
             }
            },
            "type": "table"
           }
          ],
          "barpolar": [
           {
            "marker": {
             "line": {
              "color": "rgb(17,17,17)",
              "width": 0.5
             },
             "pattern": {
              "fillmode": "overlay",
              "size": 10,
              "solidity": 0.2
             }
            },
            "type": "barpolar"
           }
          ],
          "pie": [
           {
            "automargin": true,
            "type": "pie"
           }
          ]
         },
         "layout": {
          "autotypenumbers": "strict",
          "colorway": [
           "#636efa",
           "#EF553B",
           "#00cc96",
           "#ab63fa",
           "#FFA15A",
           "#19d3f3",
           "#FF6692",
           "#B6E880",
           "#FF97FF",
           "#FECB52"
          ],
          "font": {
           "color": "#f2f5fa"
          },
          "hovermode": "closest",
          "hoverlabel": {
           "align": "left"
          },
          "paper_bgcolor": "rgb(17,17,17)",
          "plot_bgcolor": "rgb(17,17,17)",
          "polar": {
           "bgcolor": "rgb(17,17,17)",
           "angularaxis": {
            "gridcolor": "#506784",
            "linecolor": "#506784",
            "ticks": ""
           },
           "radialaxis": {
            "gridcolor": "#506784",
            "linecolor": "#506784",
            "ticks": ""
           }
          },
          "ternary": {
           "bgcolor": "rgb(17,17,17)",
           "aaxis": {
            "gridcolor": "#506784",
            "linecolor": "#506784",
            "ticks": ""
           },
           "baxis": {
            "gridcolor": "#506784",
            "linecolor": "#506784",
            "ticks": ""
           },
           "caxis": {
            "gridcolor": "#506784",
            "linecolor": "#506784",
            "ticks": ""
           }
          },
          "coloraxis": {
           "colorbar": {
            "outlinewidth": 0,
            "ticks": ""
           }
          },
          "colorscale": {
           "sequential": [
            [
             0.0,
             "#0d0887"
            ],
            [
             0.1111111111111111,
             "#46039f"
            ],
            [
             0.2222222222222222,
             "#7201a8"
            ],
            [
             0.3333333333333333,
             "#9c179e"
            ],
            [
             0.4444444444444444,
             "#bd3786"
            ],
            [
             0.5555555555555556,
             "#d8576b"
            ],
            [
             0.6666666666666666,
             "#ed7953"
            ],
            [
             0.7777777777777778,
             "#fb9f3a"
            ],
            [
             0.8888888888888888,
             "#fdca26"
            ],
            [
             1.0,
             "#f0f921"
            ]
           ],
           "sequentialminus": [
            [
             0.0,
             "#0d0887"
            ],
            [
             0.1111111111111111,
             "#46039f"
            ],
            [
             0.2222222222222222,
             "#7201a8"
            ],
            [
             0.3333333333333333,
             "#9c179e"
            ],
            [
             0.4444444444444444,
             "#bd3786"
            ],
            [
             0.5555555555555556,
             "#d8576b"
            ],
            [
             0.6666666666666666,
             "#ed7953"
            ],
            [
             0.7777777777777778,
             "#fb9f3a"
            ],
            [
             0.8888888888888888,
             "#fdca26"
            ],
            [
             1.0,
             "#f0f921"
            ]
           ],
           "diverging": [
            [
             0,
             "#8e0152"
            ],
            [
             0.1,
             "#c51b7d"
            ],
            [
             0.2,
             "#de77ae"
            ],
            [
             0.3,
             "#f1b6da"
            ],
            [
             0.4,
             "#fde0ef"
            ],
            [
             0.5,
             "#f7f7f7"
            ],
            [
             0.6,
             "#e6f5d0"
            ],
            [
             0.7,
             "#b8e186"
            ],
            [
             0.8,
             "#7fbc41"
            ],
            [
             0.9,
             "#4d9221"
            ],
            [
             1,
             "#276419"
            ]
           ]
          },
          "xaxis": {
           "gridcolor": "#283442",
           "linecolor": "#506784",
           "ticks": "",
           "title": {
            "standoff": 15
           },
           "zerolinecolor": "#283442",
           "automargin": true,
           "zerolinewidth": 2
          },
          "yaxis": {
           "gridcolor": "#283442",
           "linecolor": "#506784",
           "ticks": "",
           "title": {
            "standoff": 15
           },
           "zerolinecolor": "#283442",
           "automargin": true,
           "zerolinewidth": 2
          },
          "scene": {
           "xaxis": {
            "backgroundcolor": "rgb(17,17,17)",
            "gridcolor": "#506784",
            "linecolor": "#506784",
            "showbackground": true,
            "ticks": "",
            "zerolinecolor": "#C8D4E3",
            "gridwidth": 2
           },
           "yaxis": {
            "backgroundcolor": "rgb(17,17,17)",
            "gridcolor": "#506784",
            "linecolor": "#506784",
            "showbackground": true,
            "ticks": "",
            "zerolinecolor": "#C8D4E3",
            "gridwidth": 2
           },
           "zaxis": {
            "backgroundcolor": "rgb(17,17,17)",
            "gridcolor": "#506784",
            "linecolor": "#506784",
            "showbackground": true,
            "ticks": "",
            "zerolinecolor": "#C8D4E3",
            "gridwidth": 2
           }
          },
          "shapedefaults": {
           "line": {
            "color": "#f2f5fa"
           }
          },
          "annotationdefaults": {
           "arrowcolor": "#f2f5fa",
           "arrowhead": 0,
           "arrowwidth": 1
          },
          "geo": {
           "bgcolor": "rgb(17,17,17)",
           "landcolor": "rgb(17,17,17)",
           "subunitcolor": "#506784",
           "showland": true,
           "showlakes": true,
           "lakecolor": "rgb(17,17,17)"
          },
          "title": {
           "x": 0.05
          },
          "updatemenudefaults": {
           "bgcolor": "#506784",
           "borderwidth": 0
          },
          "sliderdefaults": {
           "bgcolor": "#C8D4E3",
           "borderwidth": 1,
           "bordercolor": "rgb(17,17,17)",
           "tickwidth": 0
          },
          "mapbox": {
           "style": "dark"
          }
         }
        }
       },
       "config": {
        "plotlyServerURL": "https://plot.ly"
       }
      },
      "text/html": "<div>                            <div id=\"98c18b21-66c7-4c41-8415-5b8d368bb97f\" class=\"plotly-graph-div\" style=\"height:600px; width:100%;\"></div>            <script type=\"text/javascript\">                require([\"plotly\"], function(Plotly) {                    window.PLOTLYENV=window.PLOTLYENV || {};                                    if (document.getElementById(\"98c18b21-66c7-4c41-8415-5b8d368bb97f\")) {                    Plotly.newPlot(                        \"98c18b21-66c7-4c41-8415-5b8d368bb97f\",                        [{\"hoverinfo\":\"text\",\"mode\":\"markers\",\"name\":\"Indices: 0\",\"text\":[\"Termination: ('C_P6\\u002fmmm_2', 'Ni_R-3m_1')\\u003cbr\\u003eTermination index: 0\\u003cbr\\u003eInterfaces Index Range: 0\\u003cbr\\u003eStrain: 0.07%\\u003cbr\\u003eAtoms: 8\"],\"x\":[0.06600000000000002],\"y\":[8],\"type\":\"scatter\"},{\"hoverinfo\":\"text\",\"mode\":\"markers\",\"name\":\"Indices: 1-9\",\"text\":[\"Termination: ('C_P6\\u002fmmm_2', 'Ni_R-3m_1')\\u003cbr\\u003eTermination index: 0\\u003cbr\\u003eInterfaces Index Range: 1-9\\u003cbr\\u003eStrain: 0.07%\\u003cbr\\u003eAtoms: 16\"],\"x\":[0.06600000000000002],\"y\":[16],\"type\":\"scatter\"},{\"hoverinfo\":\"text\",\"mode\":\"markers\",\"name\":\"Indices: 10-19\",\"text\":[\"Termination: ('C_P6\\u002fmmm_2', 'Ni_R-3m_1')\\u003cbr\\u003eTermination index: 0\\u003cbr\\u003eInterfaces Index Range: 10-19\\u003cbr\\u003eStrain: 0.07%\\u003cbr\\u003eAtoms: 24\"],\"x\":[0.06600000000000002],\"y\":[24],\"type\":\"scatter\"},{\"hoverinfo\":\"text\",\"mode\":\"markers\",\"name\":\"Indices: 20-38\",\"text\":[\"Termination: ('C_P6\\u002fmmm_2', 'Ni_R-3m_1')\\u003cbr\\u003eTermination index: 0\\u003cbr\\u003eInterfaces Index Range: 20-38\\u003cbr\\u003eStrain: 0.07%\\u003cbr\\u003eAtoms: 32\"],\"x\":[0.06600000000000002],\"y\":[32],\"type\":\"scatter\"},{\"hoverinfo\":\"text\",\"mode\":\"markers\",\"name\":\"Indices: 39-56\",\"text\":[\"Termination: ('C_P6\\u002fmmm_2', 'Ni_R-3m_1')\\u003cbr\\u003eTermination index: 0\\u003cbr\\u003eInterfaces Index Range: 39-56\\u003cbr\\u003eStrain: 0.07%\\u003cbr\\u003eAtoms: 40\"],\"x\":[0.06600000000000002],\"y\":[40],\"type\":\"scatter\"},{\"hoverinfo\":\"text\",\"mode\":\"markers\",\"name\":\"Indices: 57-110\",\"text\":[\"Termination: ('C_P6\\u002fmmm_2', 'Ni_R-3m_1')\\u003cbr\\u003eTermination index: 0\\u003cbr\\u003eInterfaces Index Range: 57-110\\u003cbr\\u003eStrain: 0.07%\\u003cbr\\u003eAtoms: 48\"],\"x\":[0.06600000000000002],\"y\":[48],\"type\":\"scatter\"},{\"hoverinfo\":\"text\",\"mode\":\"markers\",\"name\":\"Indices: 111-132\",\"text\":[\"Termination: ('C_P6\\u002fmmm_2', 'Ni_R-3m_1')\\u003cbr\\u003eTermination index: 0\\u003cbr\\u003eInterfaces Index Range: 111-132\\u003cbr\\u003eStrain: 0.07%\\u003cbr\\u003eAtoms: 56\"],\"x\":[0.06600000000000002],\"y\":[56],\"type\":\"scatter\"},{\"hoverinfo\":\"text\",\"mode\":\"markers\",\"name\":\"Indices: 133-177\",\"text\":[\"Termination: ('C_P6\\u002fmmm_2', 'Ni_R-3m_1')\\u003cbr\\u003eTermination index: 0\\u003cbr\\u003eInterfaces Index Range: 133-177\\u003cbr\\u003eStrain: 0.07%\\u003cbr\\u003eAtoms: 64\"],\"x\":[0.06600000000000002],\"y\":[64],\"type\":\"scatter\"},{\"hoverinfo\":\"text\",\"mode\":\"markers\",\"name\":\"Indices: 178-232\",\"text\":[\"Termination: ('C_P6\\u002fmmm_2', 'Ni_R-3m_1')\\u003cbr\\u003eTermination index: 0\\u003cbr\\u003eInterfaces Index Range: 178-232\\u003cbr\\u003eStrain: 0.07%\\u003cbr\\u003eAtoms: 72\"],\"x\":[0.06600000000000002],\"y\":[72],\"type\":\"scatter\"}],                        {\"height\":600,\"hovermode\":\"closest\",\"legend\":{\"title\":{\"text\":\"Interfaces Index Range\"}},\"xaxis\":{\"title\":{\"text\":\"Strain (%)\"},\"type\":\"log\"},\"yaxis\":{\"title\":{\"text\":\"Number of atoms\"},\"type\":\"log\"},\"template\":{\"data\":{\"histogram2dcontour\":[{\"type\":\"histogram2dcontour\",\"colorbar\":{\"outlinewidth\":0,\"ticks\":\"\"},\"colorscale\":[[0.0,\"#0d0887\"],[0.1111111111111111,\"#46039f\"],[0.2222222222222222,\"#7201a8\"],[0.3333333333333333,\"#9c179e\"],[0.4444444444444444,\"#bd3786\"],[0.5555555555555556,\"#d8576b\"],[0.6666666666666666,\"#ed7953\"],[0.7777777777777778,\"#fb9f3a\"],[0.8888888888888888,\"#fdca26\"],[1.0,\"#f0f921\"]]}],\"choropleth\":[{\"type\":\"choropleth\",\"colorbar\":{\"outlinewidth\":0,\"ticks\":\"\"}}],\"histogram2d\":[{\"type\":\"histogram2d\",\"colorbar\":{\"outlinewidth\":0,\"ticks\":\"\"},\"colorscale\":[[0.0,\"#0d0887\"],[0.1111111111111111,\"#46039f\"],[0.2222222222222222,\"#7201a8\"],[0.3333333333333333,\"#9c179e\"],[0.4444444444444444,\"#bd3786\"],[0.5555555555555556,\"#d8576b\"],[0.6666666666666666,\"#ed7953\"],[0.7777777777777778,\"#fb9f3a\"],[0.8888888888888888,\"#fdca26\"],[1.0,\"#f0f921\"]]}],\"heatmap\":[{\"type\":\"heatmap\",\"colorbar\":{\"outlinewidth\":0,\"ticks\":\"\"},\"colorscale\":[[0.0,\"#0d0887\"],[0.1111111111111111,\"#46039f\"],[0.2222222222222222,\"#7201a8\"],[0.3333333333333333,\"#9c179e\"],[0.4444444444444444,\"#bd3786\"],[0.5555555555555556,\"#d8576b\"],[0.6666666666666666,\"#ed7953\"],[0.7777777777777778,\"#fb9f3a\"],[0.8888888888888888,\"#fdca26\"],[1.0,\"#f0f921\"]]}],\"heatmapgl\":[{\"type\":\"heatmapgl\",\"colorbar\":{\"outlinewidth\":0,\"ticks\":\"\"},\"colorscale\":[[0.0,\"#0d0887\"],[0.1111111111111111,\"#46039f\"],[0.2222222222222222,\"#7201a8\"],[0.3333333333333333,\"#9c179e\"],[0.4444444444444444,\"#bd3786\"],[0.5555555555555556,\"#d8576b\"],[0.6666666666666666,\"#ed7953\"],[0.7777777777777778,\"#fb9f3a\"],[0.8888888888888888,\"#fdca26\"],[1.0,\"#f0f921\"]]}],\"contourcarpet\":[{\"type\":\"contourcarpet\",\"colorbar\":{\"outlinewidth\":0,\"ticks\":\"\"}}],\"contour\":[{\"type\":\"contour\",\"colorbar\":{\"outlinewidth\":0,\"ticks\":\"\"},\"colorscale\":[[0.0,\"#0d0887\"],[0.1111111111111111,\"#46039f\"],[0.2222222222222222,\"#7201a8\"],[0.3333333333333333,\"#9c179e\"],[0.4444444444444444,\"#bd3786\"],[0.5555555555555556,\"#d8576b\"],[0.6666666666666666,\"#ed7953\"],[0.7777777777777778,\"#fb9f3a\"],[0.8888888888888888,\"#fdca26\"],[1.0,\"#f0f921\"]]}],\"surface\":[{\"type\":\"surface\",\"colorbar\":{\"outlinewidth\":0,\"ticks\":\"\"},\"colorscale\":[[0.0,\"#0d0887\"],[0.1111111111111111,\"#46039f\"],[0.2222222222222222,\"#7201a8\"],[0.3333333333333333,\"#9c179e\"],[0.4444444444444444,\"#bd3786\"],[0.5555555555555556,\"#d8576b\"],[0.6666666666666666,\"#ed7953\"],[0.7777777777777778,\"#fb9f3a\"],[0.8888888888888888,\"#fdca26\"],[1.0,\"#f0f921\"]]}],\"mesh3d\":[{\"type\":\"mesh3d\",\"colorbar\":{\"outlinewidth\":0,\"ticks\":\"\"}}],\"scatter\":[{\"marker\":{\"line\":{\"color\":\"#283442\"}},\"type\":\"scatter\"}],\"parcoords\":[{\"type\":\"parcoords\",\"line\":{\"colorbar\":{\"outlinewidth\":0,\"ticks\":\"\"}}}],\"scatterpolargl\":[{\"type\":\"scatterpolargl\",\"marker\":{\"colorbar\":{\"outlinewidth\":0,\"ticks\":\"\"}}}],\"bar\":[{\"error_x\":{\"color\":\"#f2f5fa\"},\"error_y\":{\"color\":\"#f2f5fa\"},\"marker\":{\"line\":{\"color\":\"rgb(17,17,17)\",\"width\":0.5},\"pattern\":{\"fillmode\":\"overlay\",\"size\":10,\"solidity\":0.2}},\"type\":\"bar\"}],\"scattergeo\":[{\"type\":\"scattergeo\",\"marker\":{\"colorbar\":{\"outlinewidth\":0,\"ticks\":\"\"}}}],\"scatterpolar\":[{\"type\":\"scatterpolar\",\"marker\":{\"colorbar\":{\"outlinewidth\":0,\"ticks\":\"\"}}}],\"histogram\":[{\"marker\":{\"pattern\":{\"fillmode\":\"overlay\",\"size\":10,\"solidity\":0.2}},\"type\":\"histogram\"}],\"scattergl\":[{\"marker\":{\"line\":{\"color\":\"#283442\"}},\"type\":\"scattergl\"}],\"scatter3d\":[{\"type\":\"scatter3d\",\"line\":{\"colorbar\":{\"outlinewidth\":0,\"ticks\":\"\"}},\"marker\":{\"colorbar\":{\"outlinewidth\":0,\"ticks\":\"\"}}}],\"scattermapbox\":[{\"type\":\"scattermapbox\",\"marker\":{\"colorbar\":{\"outlinewidth\":0,\"ticks\":\"\"}}}],\"scatterternary\":[{\"type\":\"scatterternary\",\"marker\":{\"colorbar\":{\"outlinewidth\":0,\"ticks\":\"\"}}}],\"scattercarpet\":[{\"type\":\"scattercarpet\",\"marker\":{\"colorbar\":{\"outlinewidth\":0,\"ticks\":\"\"}}}],\"carpet\":[{\"aaxis\":{\"endlinecolor\":\"#A2B1C6\",\"gridcolor\":\"#506784\",\"linecolor\":\"#506784\",\"minorgridcolor\":\"#506784\",\"startlinecolor\":\"#A2B1C6\"},\"baxis\":{\"endlinecolor\":\"#A2B1C6\",\"gridcolor\":\"#506784\",\"linecolor\":\"#506784\",\"minorgridcolor\":\"#506784\",\"startlinecolor\":\"#A2B1C6\"},\"type\":\"carpet\"}],\"table\":[{\"cells\":{\"fill\":{\"color\":\"#506784\"},\"line\":{\"color\":\"rgb(17,17,17)\"}},\"header\":{\"fill\":{\"color\":\"#2a3f5f\"},\"line\":{\"color\":\"rgb(17,17,17)\"}},\"type\":\"table\"}],\"barpolar\":[{\"marker\":{\"line\":{\"color\":\"rgb(17,17,17)\",\"width\":0.5},\"pattern\":{\"fillmode\":\"overlay\",\"size\":10,\"solidity\":0.2}},\"type\":\"barpolar\"}],\"pie\":[{\"automargin\":true,\"type\":\"pie\"}]},\"layout\":{\"autotypenumbers\":\"strict\",\"colorway\":[\"#636efa\",\"#EF553B\",\"#00cc96\",\"#ab63fa\",\"#FFA15A\",\"#19d3f3\",\"#FF6692\",\"#B6E880\",\"#FF97FF\",\"#FECB52\"],\"font\":{\"color\":\"#f2f5fa\"},\"hovermode\":\"closest\",\"hoverlabel\":{\"align\":\"left\"},\"paper_bgcolor\":\"rgb(17,17,17)\",\"plot_bgcolor\":\"rgb(17,17,17)\",\"polar\":{\"bgcolor\":\"rgb(17,17,17)\",\"angularaxis\":{\"gridcolor\":\"#506784\",\"linecolor\":\"#506784\",\"ticks\":\"\"},\"radialaxis\":{\"gridcolor\":\"#506784\",\"linecolor\":\"#506784\",\"ticks\":\"\"}},\"ternary\":{\"bgcolor\":\"rgb(17,17,17)\",\"aaxis\":{\"gridcolor\":\"#506784\",\"linecolor\":\"#506784\",\"ticks\":\"\"},\"baxis\":{\"gridcolor\":\"#506784\",\"linecolor\":\"#506784\",\"ticks\":\"\"},\"caxis\":{\"gridcolor\":\"#506784\",\"linecolor\":\"#506784\",\"ticks\":\"\"}},\"coloraxis\":{\"colorbar\":{\"outlinewidth\":0,\"ticks\":\"\"}},\"colorscale\":{\"sequential\":[[0.0,\"#0d0887\"],[0.1111111111111111,\"#46039f\"],[0.2222222222222222,\"#7201a8\"],[0.3333333333333333,\"#9c179e\"],[0.4444444444444444,\"#bd3786\"],[0.5555555555555556,\"#d8576b\"],[0.6666666666666666,\"#ed7953\"],[0.7777777777777778,\"#fb9f3a\"],[0.8888888888888888,\"#fdca26\"],[1.0,\"#f0f921\"]],\"sequentialminus\":[[0.0,\"#0d0887\"],[0.1111111111111111,\"#46039f\"],[0.2222222222222222,\"#7201a8\"],[0.3333333333333333,\"#9c179e\"],[0.4444444444444444,\"#bd3786\"],[0.5555555555555556,\"#d8576b\"],[0.6666666666666666,\"#ed7953\"],[0.7777777777777778,\"#fb9f3a\"],[0.8888888888888888,\"#fdca26\"],[1.0,\"#f0f921\"]],\"diverging\":[[0,\"#8e0152\"],[0.1,\"#c51b7d\"],[0.2,\"#de77ae\"],[0.3,\"#f1b6da\"],[0.4,\"#fde0ef\"],[0.5,\"#f7f7f7\"],[0.6,\"#e6f5d0\"],[0.7,\"#b8e186\"],[0.8,\"#7fbc41\"],[0.9,\"#4d9221\"],[1,\"#276419\"]]},\"xaxis\":{\"gridcolor\":\"#283442\",\"linecolor\":\"#506784\",\"ticks\":\"\",\"title\":{\"standoff\":15},\"zerolinecolor\":\"#283442\",\"automargin\":true,\"zerolinewidth\":2},\"yaxis\":{\"gridcolor\":\"#283442\",\"linecolor\":\"#506784\",\"ticks\":\"\",\"title\":{\"standoff\":15},\"zerolinecolor\":\"#283442\",\"automargin\":true,\"zerolinewidth\":2},\"scene\":{\"xaxis\":{\"backgroundcolor\":\"rgb(17,17,17)\",\"gridcolor\":\"#506784\",\"linecolor\":\"#506784\",\"showbackground\":true,\"ticks\":\"\",\"zerolinecolor\":\"#C8D4E3\",\"gridwidth\":2},\"yaxis\":{\"backgroundcolor\":\"rgb(17,17,17)\",\"gridcolor\":\"#506784\",\"linecolor\":\"#506784\",\"showbackground\":true,\"ticks\":\"\",\"zerolinecolor\":\"#C8D4E3\",\"gridwidth\":2},\"zaxis\":{\"backgroundcolor\":\"rgb(17,17,17)\",\"gridcolor\":\"#506784\",\"linecolor\":\"#506784\",\"showbackground\":true,\"ticks\":\"\",\"zerolinecolor\":\"#C8D4E3\",\"gridwidth\":2}},\"shapedefaults\":{\"line\":{\"color\":\"#f2f5fa\"}},\"annotationdefaults\":{\"arrowcolor\":\"#f2f5fa\",\"arrowhead\":0,\"arrowwidth\":1},\"geo\":{\"bgcolor\":\"rgb(17,17,17)\",\"landcolor\":\"rgb(17,17,17)\",\"subunitcolor\":\"#506784\",\"showland\":true,\"showlakes\":true,\"lakecolor\":\"rgb(17,17,17)\"},\"title\":{\"x\":0.05},\"updatemenudefaults\":{\"bgcolor\":\"#506784\",\"borderwidth\":0},\"sliderdefaults\":{\"bgcolor\":\"#C8D4E3\",\"borderwidth\":1,\"bordercolor\":\"rgb(17,17,17)\",\"tickwidth\":0},\"mapbox\":{\"style\":\"dark\"}}}},                        {\"responsive\": true}                    ).then(function(){\n                            \nvar gd = document.getElementById('98c18b21-66c7-4c41-8415-5b8d368bb97f');\nvar x = new MutationObserver(function (mutations, observer) {{\n        var display = window.getComputedStyle(gd).display;\n        if (!display || display === 'none') {{\n            console.log([gd, 'removed!']);\n            Plotly.purge(gd);\n            observer.disconnect();\n        }}\n}});\n\n// Listen for the removal of the full notebook cells\nvar notebookContainer = gd.closest('#notebook-container');\nif (notebookContainer) {{\n    x.observe(notebookContainer, {childList: true});\n}}\n\n// Listen for the clearing of the current output cell\nvar outputEl = gd.closest('.output');\nif (outputEl) {{\n    x.observe(outputEl, {childList: true});\n}}\n\n                        })                };                });            </script>        </div>"
     },
     "metadata": {},
     "output_type": "display_data"
    },
    {
     "name": "stdout",
     "output_type": "stream",
     "text": [
      "Termination 0: ('C_P6/mmm_2', 'Ni_R-3m_1')\n"
     ]
    }
   ],
   "source": [
    "import plotly.graph_objs as go\n",
    "from collections import defaultdict\n",
    "\n",
    "PLOT_SETTINGS = {\n",
    "    \"HEIGHT\": 600,\n",
    "    \"X_SCALE\": \"log\",  # or linear\n",
    "    \"Y_SCALE\": \"log\",  # or linear\n",
    "}\n",
    "\n",
    "\n",
    "def plot_strain_vs_atoms(sorted_interfaces, terminations, settings):\n",
    "    # Create a mapping from termination to its index\n",
    "    termination_to_index = {termination: i for i, termination in enumerate(terminations)}\n",
    "\n",
    "    grouped_interfaces = defaultdict(list)\n",
    "    for termination, interfaces in sorted_interfaces.items():\n",
    "        for index, interface_data in enumerate(interfaces):\n",
    "            strain_percentage = interface_data[\"mean_abs_strain\"] * 100\n",
    "            num_sites = interface_data[\"interface\"].num_sites\n",
    "            key = (strain_percentage, num_sites)\n",
    "            grouped_interfaces[key].append((index, termination))\n",
    "\n",
    "    data = []\n",
    "    for (strain, num_sites), indices_and_terminations in grouped_interfaces.items():\n",
    "        termination_indices = defaultdict(list)\n",
    "        for index, termination in indices_and_terminations:\n",
    "            termination_indices[termination].append(index)\n",
    "        all_indices = [index for indices in termination_indices.values() for index in indices]\n",
    "        index_range = f\"{min(all_indices)}-{max(all_indices)}\" if len(all_indices) > 1 else str(min(all_indices))\n",
    "\n",
    "        hover_text = \"<br>-----<br>\".join(\n",
    "             f\"Termination: {termination}<br>Termination index: {termination_to_index[termination]}<br>Interfaces Index Range: {index_range}<br>Strain: {strain:.2f}%<br>Atoms: {num_sites}\"\n",
    "            for termination, indices in termination_indices.items()\n",
    "        )\n",
    "        trace = go.Scatter(\n",
    "            x=[strain],\n",
    "            y=[num_sites],\n",
    "            text=[hover_text],\n",
    "            mode=\"markers\",\n",
    "            hoverinfo=\"text\",\n",
    "            name=f\"Indices: {index_range}\",\n",
    "        )\n",
    "        data.append(trace)\n",
    "\n",
    "    layout = go.Layout(\n",
    "        xaxis=dict(title=\"Strain (%)\", type=settings[\"X_SCALE\"]),\n",
    "        yaxis=dict(title=\"Number of atoms\", type=settings[\"Y_SCALE\"]),\n",
    "        hovermode=\"closest\",\n",
    "        height=settings[\"HEIGHT\"],\n",
    "        legend_title_text=\"Interfaces Index Range\",\n",
    "    )\n",
    "    fig = go.Figure(data=data, layout=layout)\n",
    "    fig.show()\n",
    "\n",
    "\n",
    "\n",
    "plot_strain_vs_atoms(sorted_interfaces, terminations, PLOT_SETTINGS)\n",
    "\n",
    "for i, termination in enumerate(terminations):\n",
    "    print(f\"Termination {i}:\", termination)"
   ]
  },
  {
   "cell_type": "markdown",
   "metadata": {},
   "source": [
    "## 6. Select the interface to relax\n",
    "\n",
    "### 6.1. Select the interface with the desired termination and strain\n",
    "\n",
    "The data in `sorted_interfaces` now contains an object with the following structure:\n",
    "\n",
    "```json\n",
    "{\n",
    "    \"('C_P6/mmm_2', 'Si_R-3m_1')\": [\n",
    "        { ...interface for ('C_P6/mmm_2', 'Si_R-3m_1') at index 0...},\n",
    "        { ...interface for ('C_P6/mmm_2', 'Si_R-3m_1') at index 1...},\n",
    "        ...\n",
    "    ],\n",
    "    \"<termination at index 1>\": [\n",
    "        { ...interface for 'termination at index 1' at index 0...},\n",
    "        { ...interface for 'termination at index 1' at index 1...},\n",
    "        ...\n",
    "    ]\n",
    "}\n",
    "```\n",
    "\n",
    "Select the index for termination first, and for it - the index in the list of corresponding interfaces sorted by strain (index 0 has minimum strain)."
   ]
  },
  {
   "cell_type": "code",
   "execution_count": 26,
   "metadata": {
    "ExecuteTime": {
     "end_time": "2024-02-27T01:04:48.165721Z",
     "start_time": "2024-02-27T01:04:48.160108Z"
    }
   },
   "outputs": [],
   "source": [
    "termination_index = 0\n",
    "interface_index = 0\n",
    "\n",
    "termination = terminations[termination_index]\n",
    "\n",
    "interface = sorted_interfaces[termination][interface_index][\"interface\"]"
   ]
  },
  {
   "cell_type": "markdown",
   "metadata": {},
   "source": [
    "## 7. Apply relaxation\n",
    "### 7.1. Apply relaxation to the selected interface"
   ]
  },
  {
   "cell_type": "code",
   "execution_count": 27,
   "metadata": {
    "ExecuteTime": {
     "end_time": "2024-02-27T01:05:13.656235Z",
     "start_time": "2024-02-27T01:04:48.169141Z"
    }
   },
   "outputs": [
    {
     "name": "stdout",
     "output_type": "stream",
     "text": [
      "dir_path /Users/mat3ra/code/GREEN/api-examples/.venv/lib/python3.11/site-packages/alignn/ff/alignnff_wt10\n",
      "model_path /Users/mat3ra/code/GREEN/api-examples/.venv/lib/python3.11/site-packages/alignn/ff/alignnff_wt10\n"
     ]
    },
    {
     "data": {
      "application/vnd.jupyter.widget-view+json": {
       "version_major": 2,
       "version_minor": 0,
       "model_id": "8c216d22d9dd40be89aad487897ff256"
      },
      "text/plain": "FigureWidget({\n    'data': [{'mode': 'lines+markers',\n              'name': 'Energy',\n              'type': 'scatter',\n              'uid': '14374f99-b5ef-4e2c-b04a-b01089a906b0',\n              'x': [],\n              'y': []}],\n    'layout': {'template': '...',\n               'title': {'text': 'Real-time Optimization Progress'},\n               'xaxis': {'anchor': 'y', 'domain': [0.0, 1.0], 'title': {'text': 'Step'}},\n               'yaxis': {'anchor': 'x', 'domain': [0.0, 1.0], 'title': {'text': 'Energy (eV)'}}}\n})"
     },
     "metadata": {},
     "output_type": "display_data"
    },
    {
     "name": "stdout",
     "output_type": "stream",
     "text": [
      "      Step     Time          Energy         fmax\n",
      "BFGS:    0 17:04:49      -21.955940        0.0909\n",
      "Step: 0, Energy: -21.9559 eV\n",
      "BFGS:    1 17:04:51      -22.325195        0.0903\n",
      "Step: 1, Energy: -22.3252 eV\n",
      "BFGS:    2 17:04:54      -22.541359        0.0199\n",
      "Step: 2, Energy: -22.5414 eV\n",
      "BFGS:    3 17:04:56      -22.541574        0.0200\n",
      "Step: 3, Energy: -22.5416 eV\n",
      "BFGS:    4 17:04:58      -22.541571        0.0203\n",
      "Step: 4, Energy: -22.5416 eV\n",
      "BFGS:    5 17:05:00      -22.541847        0.0203\n",
      "Step: 5, Energy: -22.5418 eV\n",
      "BFGS:    6 17:05:02      -22.547129        0.0198\n",
      "Step: 6, Energy: -22.5471 eV\n",
      "BFGS:    7 17:05:05      -22.556730        0.0182\n",
      "Step: 7, Energy: -22.5567 eV\n",
      "BFGS:    8 17:05:07      -22.578423        0.0198\n",
      "Step: 8, Energy: -22.5784 eV\n",
      "BFGS:    9 17:05:09      -22.600111        0.0181\n",
      "Step: 9, Energy: -22.6001 eV\n",
      "BFGS:   10 17:05:11      -22.616707        0.0129\n",
      "Step: 10, Energy: -22.6167 eV\n",
      "Original structure:\n",
      " Ni  C \n",
      " 1.0000000000000000\n",
      "     2.4600000000000000    0.0000000000000000    0.0000000000000002\n",
      "     1.2300000000000002    2.1304224933097191    0.0000000000000002\n",
      "     0.0000000000000000    0.0000000000000000   33.0429079454110308\n",
      " Ni  C  \n",
      "   6   2\n",
      "Cartesian\n",
      "  1.2299999999999998  0.7101408311032396  0.0000000000000001\n",
      "  3.6899999999999995  2.1304224933097187  2.0085815890822065\n",
      "  2.4599999999999995  1.4202816622064791  4.0171631781644122\n",
      "  1.2299999999999991  0.7101408311032391  6.0257447672466178\n",
      "  3.6899999999999986  2.1304224933097182  8.0343263563288261\n",
      "  2.4599999999999969  1.4202816622064762 10.0429079454110326\n",
      "  1.2300000000000026  2.1304224933097147 13.0429079454110326\n",
      "  1.2299987700000026  0.7101401209624039 13.0429079454110326\n",
      "\n",
      "\n",
      "Relaxed structure:\n",
      " Ni  C \n",
      " 1.0000000000000000\n",
      "     2.4600000000000000    0.0000000000000000    0.0000000000000002\n",
      "     1.2300000000000002    2.1304224933097191    0.0000000000000002\n",
      "     0.0000000000000000    0.0000000000000000   33.0429079454110308\n",
      " Ni  C  \n",
      "   6   2\n",
      "Cartesian\n",
      "  1.2299999965927602  0.7101356590757689  0.1082409558238410\n",
      "  3.6900000025205282  2.1304260310110439  1.8208350710495254\n",
      "  2.4599999999999995  1.4202809848112103  3.8893935390655208\n",
      "  1.2299999999999989  0.7101424670375114  6.0240480438373876\n",
      "  3.6899999661009120  2.1306741113686600  8.1084071103520241\n",
      "  2.4599420326413930  1.4286656043091754 10.3349990972140962\n",
      "  1.2452352252368908  2.1177258847786531 12.9852201210506859\n",
      "  1.2195277727360807  0.6999972547012578 12.8772849659314357\n",
      "\n",
      "The final energy is -22.617 eV.\n"
     ]
    }
   ],
   "source": [
    "import plotly.graph_objs as go\n",
    "from IPython.display import display\n",
    "from plotly.subplots import make_subplots\n",
    "from src.utils import poscar_to_ase, ase_to_poscar, pymatgen_to_ase\n",
    "from ase.optimize import BFGS\n",
    "from alignn.ff.ff import AlignnAtomwiseCalculator as Calculator, default_path\n",
    "\n",
    "# Set up the calculator\n",
    "model_path = default_path()\n",
    "calculator = Calculator(path=model_path)\n",
    "\n",
    "# Set up the interface for relaxation\n",
    "ase_interface = poscar_to_ase(interface.to(fmt=\"poscar\"))\n",
    "ase_interface.set_calculator(calculator)\n",
    "dyn = BFGS(ase_interface)\n",
    "\n",
    "# Initialize empty lists to store steps and energies\n",
    "steps = []\n",
    "energies = []\n",
    "\n",
    "# Create a plotly figure widget\n",
    "fig = make_subplots(rows=1, cols=1, specs=[[{\"type\": \"scatter\"}]])\n",
    "scatter = go.Scatter(x=[], y=[], mode='lines+markers', name='Energy')\n",
    "fig.add_trace(scatter)\n",
    "fig.update_layout(title_text='Real-time Optimization Progress', xaxis_title='Step', yaxis_title='Energy (eV)')\n",
    "\n",
    "# Display figure widget\n",
    "f = go.FigureWidget(fig)\n",
    "display(f)\n",
    "\n",
    "# Define a callback function to update the plot at each step\n",
    "def plotly_callback():\n",
    "    step = dyn.nsteps\n",
    "    energy = ase_interface.get_total_energy()\n",
    "\n",
    "    # Add the new step and energy to the lists\n",
    "    steps.append(step)\n",
    "    energies.append(energy)\n",
    "\n",
    "    print(f\"Step: {step}, Energy: {energy:.4f} eV\")\n",
    "\n",
    "    # Update the figure with the new data\n",
    "    with f.batch_update():\n",
    "        f.data[0].x = steps\n",
    "        f.data[0].y = energies\n",
    "\n",
    "\n",
    "# Run the relaxation\n",
    "dyn.attach(plotly_callback, interval=1)\n",
    "dyn.run(fmax=RELAXATION_PARAMETERS[\"FMAX\"])\n",
    "\n",
    "# Extract results\n",
    "ase_original_interface = pymatgen_to_ase(interface)\n",
    "ase_final_interface = ase_interface\n",
    "relaxed_energy = ase_interface.get_total_energy()\n",
    "\n",
    "# Print out the final relaxed structure and energy\n",
    "print('Original structure:\\n', ase_to_poscar(ase_original_interface))\n",
    "print('\\nRelaxed structure:\\n', ase_to_poscar(ase_final_interface))\n",
    "print(f\"The final energy is {float(relaxed_energy):.3f} eV.\")"
   ]
  },
  {
   "cell_type": "markdown",
   "metadata": {},
   "source": [
    "### 7.2. View structure before and after relaxation"
   ]
  },
  {
   "cell_type": "code",
   "execution_count": 28,
   "metadata": {
    "ExecuteTime": {
     "end_time": "2024-02-27T01:05:13.870960Z",
     "start_time": "2024-02-27T01:05:13.656316Z"
    }
   },
   "outputs": [
    {
     "data": {
      "text/plain": "<IPython.core.display.HTML object>",
      "text/html": "<div style=\"display: flex;\">\n    <div style=\"display: inline-block; margin: 10px; vertical-align: top;\">\n        <p>Ni6C2 - original</p>\n        <img src=\"data:image/png;base64,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\" alt=\"original\" />\n    </div>\n    \n    <div style=\"display: inline-block; margin: 10px; vertical-align: top;\">\n        <p>Ni6C2 - relaxed</p>\n        <img src=\"data:image/png;base64,iVBORw0KGgoAAAANSUhEUgAAAQIAAALNCAYAAADEGW+sAAAAOXRFWHRTb2Z0d2FyZQBNYXRwbG90bGliIHZlcnNpb24zLjguMywgaHR0cHM6Ly9tYXRwbG90bGliLm9yZy/H5lhTAAAACXBIWXMAAA9hAAAPYQGoP6dpAACbbElEQVR4nOzdeXwcZf0H8M8zs/fm2CRt0tzZHE2Tpm2SnvSAlkMORe5yiIggiqIiyE88oSCo4AWKcigKKAItKMpRCgItpXebtE2TNE2apLmT5tjdZK/ZmXl+f2xT23Q3O0l2srvwvF+vvsRsMs/s99l59pnn+8zzEEopGIb5dOMifQIMw0QeawgYhmENAcMwrCFgGAasIWAYBqwhYBgGrCFgGAasIWAYBqwhYBgGrCFgGAasIWAYBqwhYBgGrCFgGAasIWAYBqwhYBgGACilEfsHoBUAPfFv84n/XXfKf5/28xN/M/a1YD8f91hjfh7qWJEuo3XMcUZ/d92Yn4+WG/DnQf5mUseajjImcazWsfE75XcD1sWYOI/78yDH2jzmfMJ1LLXOtzXQtUgiuTAJIYRSSknETiBGsDgpw+IUWrAYsVsDhmEi3hA8EOHyYwWLkzIsTqEFjFFEbw0YhokOke4RMAwTBSLaEBBC1kWy/FjB4qQMi1NowWLEsgYxgMVJGRan0FjWgGGYoCLdELBRXmVYnJRhcQqNZQ0Yhgks0j0ChmGiAMsaxAAWJ2VYnEJjWYMYxuKkDItTaCxrwDBMUKwhYBgm4g0BS/cow+KkDItTaCx9yDBMYJHuETAMEwVY+jAGsDgpw+IUGksfxjAWJ2VYnEJj6UOGYYKKdEPARnmVYXFShsUpNJY1YBgmsEj3CBiGiQIsaxADWJyUYXEKjWUNYhiLkzIsTqGxrAHDMEFFuiFgo7zKsDgpw+IUGssaMAwTWKR7BAzDRAGWNYgBLE7KsDiFxrIGMYzFSRkWp9BY1oBhmKAi3RCwUV5lWJyUYXEKjWUNGIYJLNI9AoZhogDLGsQAFidlWJxCY1mDGMbipAyLU2gsa8AwTFCRbgjYKK8yLE7KsDiFxrIGDMMEFukeAcMwUYBlDWIAi5MyLE6hsaxBDGNxUobFKTSWNWAYJqhINwRslFcZFidlWJxCY1kDhmECi3SPgGGYKMCyBjGAxUkZFqfQWNYghrE4KcPiFBrLGjAME1SkGwI2yqsMi5MyLE6hsawBwzCBRbpHwDBMFGBZgxjA4qQMi1NoLGsQw1iclGFxCo1lDRiGCSrSDQEb5VWGxUkZFqfQWNaAYZjAIt0jYBgmCrCsQQxgcVKGxSk0ljWIYSxOyrA4hcayBgzDBBXphoCN8irD4qQMi1NoLGvAMExgke4RMAwTBVjWIAawOCnD4hQayxrEMBYnZVicQmNZA4Zhgop0Q8BGeZVhcVKGxSk0ljVgGCawSPcIGIaJAixrEANYnJRhcQqNZQ1iGIuTMixOobGsAcMwQUW6IWCjvMqwOCnD4hQayxowDBNYpHsEDMNEAZY1iAEsTsqwOIXGsgYxjMVJGRan0FjWgGGYoCLdELBRXmVYnJRhcQqNZQ0Yhgks0j0ChmGiAMsaxAAWJ2VYnEJjWYMYxuKkDItTaCxrwDBMUJFuCNgorzIsTsqwOIXGsgYMwwQW6R4BwzBRgGUNYgCLkzIsTqGxrEEMY3FShsUpNJY1YBgmqEg3BGyUVxkWJ2VYnEJjWQOGYQKLdI+AYZgowLIGMYDFSRkWp9BY1iCGsTgpw+IUGssaMAwTVKQbAjbKqwyLkzIsTqGxrAHDMIFFukfAMEwUYFmDGMDipAyLU2gsaxDDWJyUYXEKjWUNGIYJKtINARvlVYbFSRkWp9BY1oBhmMAi3SNgGCYKsKxBDGBxUobFKTSWNYhhLE7KsDiFxrIGDMMEFemGgI3yKsPipAyLU2gsa8AwTGCR7hEwDBMFWNYgBrA4KcPiFBrLGsQwFidlWJxCY1kDhmGCinRDwEZ5lWFxUobFKTSWNWAYJrBI9wgYhokCLGsQA1iclGFxCo1lDWIYi5MyLE6hsawBwzBBRbohYKO8yrA4KcPiFBrLGjAME1ikewQMw0QBljWIASxOyrA4hcayBjGMxUkZFqfQWNaAYZigIt0QsFFeZViclGFxCo1lDRiGCSzSPQKGYaIAyxrEABYnZVicQmNZgxjG4qQMi1NoLGvAMExQkW4I2CivMixOyrA4hcayBgzDBBbpHgHDMFGAZQ1iAIuTMixOobGsQQxjcVKGxSk0ljVgGCaoSDcEbJRXGRYnZVicQmNZA4ZhAot0j4BhmCjAsgYxgMVJGRan0FjWIIaxOCnD4hQayxowDBNUpBsCNsqrDIuTMixOobGsAcMwgUW6R8AwTBRgWYMYwOKkDItTaCxrEMNYnJRhcQqNZQ0Yhgkq0g0BG+VVhsVJGRan0FjWgGGYwCLdI2AYJgqwrEEMYHFShsUpNJY1iGEsTsqwOIXGsgYMwwQV6YaAjfIqw+KkDItTaCxrwDBMYJHuETAMEwVY1iAGsDgpw+IUGssaxDAWJ2VYnEJjWQOGYYKKdEPARnmVYXFShsUpNJY1YBgmsEj3CBiGiQIsaxADWJyUYXEKjWUNYhiLkzIsTqGxrAHDMEFFuiFgo7zKsDgpw+IUGssaMAwTWKR7BAzDRAGWNYgBLE7KsDiFxrIGMYzFSRkWp9BY1oBhmKAi3RCwUV5lWJyUYXEKjWUNGIYJLNI9AoZhogDLGsQAFidlWJxCY1mDGMbipAyLU2gsa8AwTFCRbgjYKK8yLE7KsDiFxrIGDMMEFukeAcMwUYA1BAzDsPRhLGBxUobFKTSWPoxhLE7KsDiFxtKHDMMEFemGgKV7lGFxUobFKTSWPmQYJrBI9wgYhokCLGsQA1iclGFxCo1lDWIYi5MyLE6hsawBwzBBRbohYKO8yrA4KcPiFBrLGjAME1ikewQMw0QBljWIASxOyrA4hcayBjGMxUkZFqfQWNaAYZigIt0QsFFeZViclGFxCo1lDRiGCSzSPQKGYaIAyxrEABYnZVicQmNZgxjG4qQMi1NoLGvAMExQkW4I2CivMixOyrA4hcayBgzDBBbpHgHDMFGAZQ1iAIuTMixOobGsQQxjcVKGxSk0ljVgGCaoSDcEbJRXGRYnZVicQmNZA4ZhAot0j4BhmCjAsgYxgMVJGRan0FjWIIaxOCnD4hQayxowDBNUpBsCNsqrDIuTMixOobGsAcMwgUW6R8AwTBRgWYMYwOKkDItTaCxrEMNYnJRhcQqNZQ0Yhgkq0g0BG+VVhsVJGRan0FjWgGGYwCLdI2AYJgqwrEEMYHFShsUpNJY1iGEsTsqwOIXGsgYMwwQV6YaAjfIqw+KkDItTaCxrwDBMYJHuETAMEwVY1iAGsDgpw+IUGssaxDAWJ2VYnEJjWQOGYYKKdEPARnmVYXFShsUpNJY1YBgmsEj3CBiGiQIsaxADWJyUYXEKjWUNYhiLkzIsTqGxrAHDMEFFuiFgo7zKsDgpw+IUGssaMAwTWKR7BAzDRAGWNYgBLE7KsDiFxrIGMYzFSRkWp9BY1oBhmKAi3RCwUV5lWJyUYXEKjWUNGIYJLNI9AoZhogDLGsQAFidlWJxCY1mDGMbipAyLU2gsa8AwTFCRbgjYKK8yLE7KsDiFxrIGDMMEFukeAcMwUYBlDWIAi5MyLE6hsaxBDGNxUobFKTSWNWAYJqhINwRslFcZFidlWJxCY1kDhmECi3SPgGGYKMCyBjGAxUkZFqfQWNYghrE4KcPiFBrLGjAME1SkGwI2yqsMi5MyLE6hsawBwzCBRbpHwDBMFGBZgxjA4qQMi1NoLGsQw1iclGFxCo1lDRiGCSrSDQEb5VWGxUkZFqfQWNaAYZjAIt0jYBgmCrCsQQxgcVKGxSk0ljWIYSxOyrA4hcayBgzDBBXphoCN8irD4qQMi1NoLGvAMExgke4RMAwTBVjWIAawOCnD4hQayxrEMBYnZVicQmNZA4Zhgop0Q8BGeZVhcVKGxSk0ljVgGCawSPcIGIaJAixrEANYnJRhcQqNZQ1iGIuTMixOobGsAcMwQUW6IWCjvMqwOCnD4hQayxowDBNYpHsEDMNEAZY1iAEsTsqwOIXGsgYxjMVJGRan0FjWgGGYoCLdELBRXmVYnJRhcQqNZQ0Yhgks0j0ChmGiAMsaxAAWJ2VYnEJjWYMYxuKkDItTaCxrwDBMUJFuCNgorzIsTsqwOIXGsgYMwwQW6R4BwzBRgGUNYgCLkzIsTqGxrEEMY3FShsUpNJY1YBgmqEg3BGyUVxkWJ2VYnEJjWQOGYQKLdI+AYZgowLIGMYDFSRkWp9BY1iCGsTgpw+IUGssaMAwTVKQbAjbKqwyLkzIsTqGxrAHDMIFFukfAMEwUYFmDGMDipAyLU2gsaxDDWJyUYXEKjWUNGIYJKtINARvlVYbFSRkWp9BY1oBhmMAi3SNgGCYKsKxBDGBxUobFKTSWNYhhLE7KsDiFxrIGDMMEFemGgI3yKsPipAyLU2gsa8AwTGCR7hEwDBMFWNYgBrA4KcPiFBrLGsQwFidlWJxCY1kDhmGCinRDwEZ5lWFxUobFKTSWNWAYJrBI9wgYhokCLGsQA1iclGFxCo1lDWIYi5MyLE6hsawBwzBBRbohYKO8yrA4KcPiFBrLGjAME1ikewQMw0QBljWIASxOyrA4hcayBjGMxUkZFqfQWNaAYZigIt0QsFFeZViclGFxCo1lDRiGCSzSPQKGYaIAyxrEABYnZVicQmNZgxjG4qQMi1NoLGvAMExQkW4I2CivMixOyrA4hcayBgzDBBbpHgHDMFGAZQ1iAIuTMixOobGsQQxjcVKGxSk0ljVgGCYo1hAwDBPxhoCle5RhcVKGxSk0lj5kGCawSPcIGIaJAix9GANYnJRhcQqNpQ9jGIuTMixOobH0IcMwQUW6IWCjvMqwOCnD4hQayxowDBNYpHsEDMNEAZY1iAEsTsqwOIXGsgYxjMVJGRan0FjWgGGYoCLdELBRXmVYnJRhcQqNZQ0Yhgks0j0ChmGiAMsaxAAWJ2VYnEJjWYMYxuKkDItTaCxrwDBMUJFuCNgorzIsTsqwOIXGsgYMwwQW6R4BwzBRgGUNYgCLkzIsTqGxrEEMY3FShsUpNJY1YBgmqEg3BGyUVxkWJ2VYnEL79GQNCCEEQAoAEwAZgJ1SOhzmMnQnytAB8AIYoJT6wlxGNoA0+Bvsfkppc5iPzwOYAcAAwAdgiFLqDnMZKQDyAOgB2AA0UEqlMB7/E1HXkfaJaQgIIcU8z9+k1+vX+Hy+eQC0Wq1WopRCEAStRqMZ4nm+yuVybQTwd0rp4ASPrwHwOb1efyXHcWd5vd5cnU4nchwnS5LE+Xw+jcFgaBZFcZsgCK8C2EQplSdYxlxCyCNGo/EsURSTJEkiOp0OAODz+UAIgVardXg8nmpZln9CKd06weMTAMu1Wu31Wq32bK/XO1uj0VCe5yVZljlBELQ6na6LELLL7Xa/AWADpdQzwTJmAnjUaDReSClNFQSB1+v1IIRAFEXIsgydTucSBKFBFMVfU0pfnMjxT5QR83UdbSI9WLiOUrpuisf4rNFovI9SOm/ZsmWawsJCbVZWFhITE+H/3AOyLKOvrw8dHR04dOiQ69ChQ5xGo/m3x+N5kFJaF+L4CRqN5i6O4749c+ZM7ZIlS+JzcnKQmZmJ0YsUADweDzo7O9HW1oYdO3YM2+12l8/n+40sy78P9S1LCLnBYDD8WpKkWQsWLEBpaSmys7ORkpICjvPfvVFKYbPZ0NbWhsbGRuzevRs8z9vcbvdPKaW/CXF8DYAvGwyGH+j1+tQVK1YYc3NzuaysLJjN5pO/J4oiuru70d7ejn379g23tbURAH/2+Xy/oJT2hihjmU6ne1aW5dKCggJUVFQgOzsbs2bNAs/zJ39vZGQE7e3taGlpwfbt2yGKouDxeJ4F8K1QPYVQdb1x40ZceOGFUV3XkRbsmot0QzDpUV5CyEy9Xv8Xo9G45tJLLzWnpKSgqakJHR0d6OjowPDwMGRZhkajQUpKCrKzs5GVlYWysjLwPI8dO3bI7733nleW5UdEUfxZoK4eIeQCnU73j9LSUvPq1auNNpsNx44dQ0dHB7q7uyEIAgDAYDAgPT0d2dnZsFqtKC4uRkdHB959911XU1PToCAI11JKtwc4fqJOp3uf47iFF110EQoLC9HS0oK2tjZ0dHRgaGgIkiSB53kkJCScfA8lJSVITk5GVVUV3nzzTfh8vlav17uaUnosQBmler1+/axZs/IuvvhiMwC0tLSgvb0dXV1dcLvdo9/SSE1NRXZ2NnJyclBWVobh4WFs2bJF2LVrl1cUxa9RSl+mYz4whBDCcdzfeJ7/wsqVK7Fo0SJ0dHSgvb0dbW1t6O/vh8/nA8dxMJlMyMrKQnZ2NgoLC5Gbm4vDhw/jzTffxODgoNPr9V4cqJejtK59Pt/J40dbXUeLYNdcTDYEhJA1Wq329bPOOsswa9Ys3c6dOzE8PIx58+YhOzsb2dnZSEhIAM/zEEXx5DfEsWPHUFtbi+LiYqxatQrJycn4+9//7uzo6Gjzer3nU0q7Thyf1+v1T2g0mpsuu+wyU09PD3bt2oXMzEwUFhYiOzsbGRkZMBgMoJTC7Xajs7MT7e3tOHLkCAYHB7Fs2TKsWLECLS0teOmll9yyLD8mCMKPRi8kQsganU73bkFBgWbRokXYt28fjh07dtp7SElJgVarhSiKGBoaQnt7O9rb21FTU4PU1FSsXLkSs2fPxn/+8x/s27eP+ny+L1NKnx+Nk0ajuZ3n+d9cdNFFekopt337dhiNRsyZM+fkxWI2m0EIgdfrRU9PD9rb29Hc3IyWlhZUVlZi5cqVEAQBzz//vNPpdG72eDzXjH7rEUIy9Xp9bVJSUuKFF16Iuro61NTUoLi4GFarFdnZ2UhLS4NWq4UsyxgeHj7ZSNTW1oLjOKxcuRILFy7Etm3bsGnTJvh8vt9RSu+cTF3fe++9uPPOO6OurqNJtDYEE741IIRcrNPpXv385z9v2rZtG+Lj43HOOeegpKTkZDd6PG63G3v37sXmzZuRl5eHK664Atu3bxf/+9//9guCsARAl16vX5+WlnZRWVmZacuWLViyZAmWL1+OmTNnKjrHrq4ubNu2DQcOHMCll16KkpIS/PGPf3QODQ295PV6vwrgQq1W+/b5559PWltbYbPZsHr1alRUVJzWBQ1GFEXU1NRg8+bN4DgO119/PXp7e/HCCy/A5/N9g1L6pE6n+77RaPzJBRdcYHrvvfcwe/ZsrFq1Cjk5OSdvmcZjs9mwY8cObNu2DcuXL8e5556Lf/zjH+6GhoaDXq/3XAAz9Xp9w/z58/VarRa1tbU4++yzsXTpUsTFxYU8PqUUTU1N2Lp1Kzo7O3HdddfBbDbjiSeegNfr/bsoil+caF1v3LgRF1988cn/Hw11HW2NQVTeGkwUIWSZVqt9f9GiRaaamhpcfvnlWLhwoaIP9liCIOCtt95CdXU1brjhBnR1dUnvvPNON4APU1NTr+Z53qjRaHD99ddjxowZkzrfrq4uvPjii0hISMA111yDZ555xtnf37+e47ibFy1aRA4ePIhVq1bh/PPPP+0+WilZlvHxxx9j06ZNuPjiizFjxgw8++yzEEXxj2az+eb8/HxTV1cXbrjhBuTn50/qPdjtdmzYsAEDAwO46aabsGnTJnddXd1uQsji2bNnmzo7O1FYWIjLL78cJpNpUmXU1tZi/fr1WLBgAVasWIHHHnsMbrf771qt9spYruvBwcE/eL3eeyd1wGkWMw0BIcSs1WobCwoK0t1uN2655RYkJiZO+bhNTU147rnncPXVV+Pw4cO+/fv3c0ajkV++fDnOO+88Rb2M8UiShH//+99obGzETTfdhMcffxy5ubno7e3FV77yFWRlZU35PfT39+OZZ55BeXk5kpKS8PrrryM1NRWpqam49tprFfUyxkMpxc6dO7Fx40bceuut+Mtf/iKbzWbO4XBg7dq1mD9//pTfg8vlwgsvvACtVotzzz0Xf/zjH5GbmwufzxeTdf2lL30Jjz/+uNvtdl840exOJMTMrYFer38qKSnpVpPJpLn99tuh1+vDdh6dnZ148sknsXbtWmzYsAHz58/HNddcE7bjU0qxceNG7NmzB7Isg+M4fPOb30RKSkrYyhgZGcETTzyBRYsW4fDhw/B6vbjrrrum/OE+1f79+7FhwwaIogiNRoObb74ZRUVFYTu+KIp47rnnoNVqkZSUhL179+KHP/whDAaDor8fe2sQyHTVdW1tLdasWYP169d3CYJQRCl1ha2QKQh2zUV6ZuH9Sn6JEFIsy/KXJUnS3HbbbWFtBAAgMzMTt9xyCzZs2ICrrroKhw8fhiyHLy1MCMH555+PkZER+Hw+fO1rXwtrIwAAcXFxuP3227Flyxacc845GBgYwPBwWOfVoLy8HGazGXq9HmvXrg1rIwAAGo0GX/rSlzAwMACLxQKj0YjW1lbFf79p06aQvzMddX3xxRcjMzMTTU1NKC4uTuJ5/rthK2DqAl5zkW4IFNFqtfdqtVrd9ddfP+n70FDy8/OxZMkSVFdXw2g04vDhw2E9fnV1NQwGAy666CLMmjUrrMceZbFYcNVVV+GNN97AvHnzsHPnzrAev7u7G8PDw5g9ezYWLFgQ1mOP0mq1uOGGG7Bp0yYsXrwYH3/8cdjLULuuCSG48sor0dDQgNmzZxt5nr/zxCzOqBXphiDk3HBCiJkQ8sWFCxeioKBA1ZO56KKL0N3djYKCgrB/ADdt2oSUlBSsXLkyrMcdq7y8HOnp6dBqtdi+fTskKWyzebFp0yZwHIcrr7wybMcMZNasWVizZg1aWlrQ3NyMoaEhRX934YUXKi5DzboG/PMNrrvuOnz44YdITk7WAfhs2AuZnIDXXEQbAoXjAxdRSjWf+cxn1D4daLVanH/++ejt7UVjYyN8vvBMJ3c4HHC5XLj44ovDes8ezIUXXoiamhoYjUZ0dHSE7bhHjhzB6tWrVeuVnerss89GS0sLioqKUFtbq+hvQo0PnEqtuj5VcXExEhISYLVa4w0Gw7VhL2ASgl1zke4RhEQIuWXOnDlISEiYlvLKy8vR3t6OpKQkdHV1heWYe/fuhcFgCPs9dTAZGRlISUlBfHw82tvbw3LMvr4+CIKAZcuWheV4oeh0OixevBherzesjdmp1KjrsVauXInu7m4QQqYncJMU9SsUGQyGc5YvXz4NZ+On0+lQUVEBvV4ftovo0KFDWL58+bT0BkYtXbo0rBfR9u3bUVRUhPj4+LAcT4mlS5eip6cHbW1tin5/48aNEzq+GnU91oIFC9Dd3Q2Px5NNCFGW/lBRsGsu0j2CcbMGhBBeEARzXl7eNJ2OX15eHiiliu9NQ7HZbLBarWE5llJ5eXmw2+0YHJzQg3dBdXV1TVuPZtSsWbPgdrsV14OSrMFY4a7rsbRa7ehDSxKAdFUKmZiYzBrMMZlM1Gg0Tmuh2dnZsNvtEEVxyseSZRkOhyMsE4cmYubMmXC73fB6vWE5ns1mQ3Z2dliOpRTHccjMzFTl/n1UOOt6vDIAEPjXZIhKkW4IQmUNClNTU6d9xtPMmTMxMjIyqWm/YzkcDuj1ekx3Y8ZxHGbMmIFwTRgbHh5GampqWI41EampqYqnFU8kazAqnHUdTGpqKjiO4wEIqhWiXExmDYw6nW7aGwKO48DzfFhGx30+HzQaTRjOauI0Gk3YGiBJkqDVasNyrInQarWKJ5BNJGswKpx1HYxOpwOllAPQp1ohCsVq1kCUZVm9Pts4ZFlGTk7OlI8znQOEY4miiLS0tLAci+f5sPUuJkKSJCQlJalaRrjqerzjE0K8lNIR1QqZomjPGgw4HI7wzYhRyOVygRASlg+H2Ww+ufjHdBseHg7bBzwuLi7sU5aVsNvtim9JJpo1AMJb18E4HA5IkqROfnKCYjJrAGD/8ePHtdN9EXV0dMBsNit+2GU8BoMBCQkJ6Oub3l6hy+WCy+VCWVlZWI6XmZmpWj5/PG1tbaioqFD0u5PJGoSzroNpaWmhgiC8p1oBExN7WQNK6RDP80PTfRG1tbUhMzMzbMfLyspSLU8dzOhEmXB9wLOzs3Hs2BkroanK6XTC7XajtLRUtTLCXddByiAAnlK1kCmKdEOgZB3692pqaqa1S1BVVYWlS5eG7XhFRUU4dOhQ2I6nxIEDBzBnzpywHa+oqAj19fXTeotTW1uLjIwMxeMsk8kahLuux+ru7obXn8Od3g9AcDGZNYDX631sy5Yt7un6AHZ2dsLhcGDevHlhO+bChQtx5MgR2O32sB1zPF6vF/v27cN5550XtmNmZ2fDYDCgoaEhbMcM5cMPP8T555+v+PcnmjVQo67H2rx5M2RZ/mM493KYiljNGoBSulcUxXalD55M1YcffohVq1aFNa9sMBhQUVGBbdu2he2Y49mzZw8KCwvDOtpOCMHKlSuxdev0LLZz7NixsI5xBKJGXZ/K5XKhqqrKJ0nSr1UpIIyiPWsAAPB4PHetX7/e5fFMaK+NCWtubkZDQ4Mqjwqfd9552LZtG3p7x90eYMrsdjs2btyIiy66KOzHrqysxPHjx3HgwIGwH/tUkiThpZdewiWXXDKh9OtEsgZq1vWoDRs2SBzHPU8p7VStkAmK1awBAIBS+o4gCP9+/fXXVWsJBEHAc889h9WrV5+26Ue4pKSkYMGCBXjuuedUu8+mlOLFF19Ebm6uKtOBdTodLrnkErz00ksYGVEvJX5iWXMsWbJkwn+nhNp1DfjHN2prawe8Xu9dqhQwebGXNTiV1+v9RlVVlWPnzp1hv4pkWcYLL7zg8Xg8uzZv3uyy2WzhLgI9PT3Yt2+fa3Bw0P3qq6+qMjnn3XffRWtrq9jY2OhqaWkJ+/FdLhfefvttlyRJnX/6059UeQagtrYWH374Iex2+9CuXbtitq7/9re/uU5sdhK1k4hOFemGQPHutZRSmyAIZ7/22muO3bt3h+0qkiQJzz//vKexsbFaEITVHo/nZ48//rgrnE+j9fT04He/+51bEIQ7vF5vyb59+4R//vOfYW0M3nvvPbz//vuyIAhLfD7fNU899ZQ7nI2B0+nE73//e5fdbn/B5/NZe3p6ep566qmTOwCFQ21tLZ577jn4fL5bRVE8a6J1HSprMJ117fV676CUbg7bgcPnk7EbMiFkjk6n+2jJkiUJn//85/VTWar7+PHjeOGFF5x9fX27vV7vZ0d38NFqtf+n1WrX3Xjjjaa5c+dO+viUUuzZs4e+9tprHkEQvibL8t9OvIc8vV5fn5eXZ7jhhhumtFS3y+XChg0bUFtbKwqCsIxSuu9EGRdptdpXP/e5zxlXrVrFTWWq89GjR/H888+7PB7PM4Ig3E0ppYQQvU6nO5KYmJhz8803TykXL0kSNm3ahA8//BA+n+9WSulfTryHmK/rWBFzDQHg32pbr9f/yWAwXHj99debiouLJ7TxhSAI2LZtm/z22297ZVn+iSRJj41N7xBCVut0upfKysoSL7vsMuNEL9b+/n5s2LDB1dra2uP1eq+hlFaNOb5Zq9X+l+O4ZVdccQUWL148odFrWZZx8OBBrF+/HqIoHhYEYfXYjUoJIbP1ev361NTUwuuvv96ckZExofcwMjKCd955x7tr1y63z+e7mVL67zHHJ4SQZzUazZfXrFmDc889d8ITmFpbW/Hiiy/C4XDYTmxFtm9MGTFf17EgZvY1CPL3l+n1+t+ZTKbkNWvWmBcsWECCVaIsyzixr52wc+dOmRCy0+PxfI1SemSc48fpdLpfyLJ8S3FxsXz22WebrVZr0A1DPB4PmpqasHnz5pETs/Ae8/l8P6WUBu0/n9gJ+U+EENPKlSuxePFizJw5M+CHnVKKwcFBVFdXY8uWLfD5fILH47mXUvrYOMfnNRrNdwghP541axa/Zs2a+Dlz5gR92k4URbS1tWHr1q2umpoajuf517xe752U0oFxylhkMBjelCQpbeHChVi+fDkyMzODNmwjIyOora3FBx98gKGhIdnn8/2VUnrbeNuDKanr0X0NorWuo0FUbnk2ld2QTzkGAXC20Wi8x+fzrdFoNFxWVpYvKSlJq9FoiCAIck9Pj6+3t9fE8/yQLMsv+ny+JyilzRMoIwHAjUaj8dterzffYrG4s7KyOJPJxFNK4XK5pPb2dupwOAx6vb7O7Xb/FsD6iWyRTQj5vE6n+yWAIkopSU9Pp6mpqWR0E9T+/n7a1dVFTmyQ0ub1eu87dcNTBcfXArjcaDTeLQhChclk8mVnZ9P4+HgNIYR4PB6ps7NTGhgYMOl0unZBEJ6SZfnZ8RqAAGUs1Gg0v9VoNMt9Ph8/c+ZMmpGRQfR6PSRJgt1uR0dHBzweD3Q63ZDb7X4MwM8D7U4c5Pjj1vWOHTsMmZmZ9miv60iK1k1Qp9wQjDkeAZADYCGAmQC0ALwAmgFUUUqnPCpECNEDmAdgLoA4ADKAEQAHAdQp/VCHKKMUwBUA5sC/qs01AH4K4F+U0uowHJ8HUAxgAYBEADwAN4B6AAfCsSsPISQdwFUAFgEwAfDB/zz+GwC2THWmXZC6/j2A8xFDdT3dorUhmNKtwacFi5MyLE6hReWtAcMw0SHS8wgYhokCMfGswacdi5MyLE6hBYtRpMcIwjpY+EnF4qQMi1NowWLEbg0Yhol4Q6D4WYNPORYnZVicQvtkPGvAMEz4RbpHwDBMFIjMFjwnxNIEEEKIEcB8AAs1Zs1yTsOlgsAICh4ELirTEd+wby8o9gDYRyntn0QZ6QAWEp4s1pg15YSQOBAYqUQzCUfqZZ/cLbrEHQD2AThEKZ3QxoYnZsp9FsAlvJE/i9NxqfDPyOMJiEhBBdElNlMf/QjAvwDsGm/+f5AyEgFUAlikjdcuJTxJhH9mIQWFm8p00DfsG30P1RN9Xv/EjMLVAD5PtGSVxqTJISBaABrRI2p5A++QPFKP7JU/BvAWgHcnOgMwknUNQAKFc6p1PU650TehKNpHeQkhRbyR/xan4S4V3WKWKd3kSl6QrEkqSzLpk/Xg9BwIIZAECaJThOOIwzdQPeByHHUYCUeGCU+2iyPi7wB8QCk9Y5GNE1N9L9HGa78p++QlAIwJsxM8KRUp5oTCBI3GpAGn40BlCtkjwzPgweDBQefggUHZc9xj0Bg1xyRBek32yn+klAbcO5wQModoyOMak+Yc0SXq9cl6JM1NQnJFMoxpRvB6HoQnkH0yJLeE4ZZhDFQPwN5gh+yTwet5h8/hewHADymlZ+xwcuLCXKoxa+4EsFoW5JS4vDhXSkWKMbEkUaeN04LX+x8+krwSfHYfhuqGPIP7B70jbSMm3sD3QcZ7okt8jFIacA00QkgKgF9pE7TXSB7JzBt4WEosSKlIgTnHDN7Ag9fx2PHNHVj0i0VwdbkwUD0AW60NgkOAxqTxiCPiO1Sm36GUBlyT/ZNQ10pE6xTjqGsICCEaAJ/Vxmu/R2VamXdVHpd5QaYuYXbCyQ90KFSmcLY7cXz3cdr0QpPTO+h1SB7pV1Siz1FKhwghqZyW+yrRkDvNWWZ9wRcK4mcsngFThknxI7aiW4T9sB0dGzu8bf9po5yW+9g37PslgP8CoABu05g198uinJFxfgZyL8uFpcQCbbyy/QsppfD0eTCwfwDN/2iGvcEOSuku2SvfTSndTggxg+B6jVlzr8aoSS/4QoExbWUaF2+NB+GVvQfZJ2O4eRjdm7ul5peavVSiR33DvkcAvEop9RJCPsMb+V9TmZallKfAeq0VyQuSYUgJ/Kjz6+Wv4/L9l5/2M8EuYOjQEFpfa0Xvx70gGtIiuaQfUkpf/iTUdaBGZzzR2hBE1a0BIeRS3sg/a842G4q+VBSfcUEGeN3UVrillGLwwCCO/v2oq+ejHg4c6qlMS7IuzKIFNxQYLSWWKZ+36BbR8XYHbXy+ccTd6xYITxK0cVpt4Y2FyLksB7rEyS/oMWq4dRjNLzej7fU2gINN9sm6mYtmyoVfLIybuWwmCDe19lwWZfRu7UXj843DQ3VDHKfhKCEkznqNFXnX5MGcGXptwfon61Hy9ZKgr3sGPGj9ZyuaX2yG5JM81Ec9cXlxfKzWtaffY5dc0hcnshJSVN4aRAtCSJLGrHmGN/KXLPr5ItPMxTNVKcfd60bVuip4ej1Y+PBChOODMUr2yWj4cwOaX25G2XfKkHNZzpQvzkBEl4hDvz2E7ve7Uf6TcqSvSQ/bsSmlaH+zHTW/qoH1aiuKv1Y85YszYDkSxdGXjqLhmQYU31aMghsKFPdilFKzrgF/rHo+6kHVfVUuWZBflNzS3VNZH/FT3xAQQi7lDfzz2Zdmm8ruLtNrjOqOn1JK0f5WOw79+hCs11hRfFsxOO3Ukje2wzZU3VcFY5oR5T8uhzEtPFuhj6e/qh/V91cjaV4S5t87f8q9DnefG/sf2g93jxuVD1bCMscSnhMdh7Pdiar7q0BlisoHKhGXGxfW46tR12MJDgEHfnbA3bOlxy65pesnu07ip/rWgDfwP9aatT9Y/Ohi04xFM6a1bHefG/sf2A/JJ2HZY8ugMU2uAere0o3qddUou6sM2ZdmT2gZr6kS3SLqfleH3o97sfyp5Yq674E4mhzY/o3tyLksB3O+OmfSF0uoW4NAqEzR/HIzGv7UgCW/XoIZleH/HISrrsfTvaUb+360zy15pO/IPvmZYL8XlbcGkRosJIQQ3sj/Sp+sv33VX1eZjKnqf4MGQiWK/Q/th6PJgbP+cBZ0CRP7Vu3Y2IGaX9Vg2ePLkFQWvl2NJqr55WY0PteI5U8uR7w1fkJ/O1Q7hJ3f3ol598xD1sVZUzqPQIOFSvXt7MPeH+zFwocWIm1F2pTOI5Cp1rUSI8dGsPWWrS7fsG+d5JV+Geh32LMGp+AN/IOGmYavrX5xdcQaAQAgPEH5feVIKkvCzm/thOgWFf9t1wddqPl1DVY8vSKijQAA5F+Xjzm3z8H2r2+Hs9Op+O8cTQ7s/PZOlP+4fMqNwFSlLkvFsseWYd+P96F/74SnBYQ0lbpWKi43Dqv/sdqkS9Ct43X8HRP520g3BNM+N5zX8V/XJmrvXvXXVWadJfyt8kQRQjDv/+bBnGPGnnv2gMqhe2gD1QPY/9P9OOt3ZyGhMGEazjK03MtzUXhTIbbfvh2CI/T6ne5eN7Z/Yzvm3TMvbAOOxV8rntLfJy9IxuJHFmP3/+2Go8kRlnM61WTqeqKMaUasem6ViTfxvyQcuSrAr7BnDQghRbyBP7DmlTXGcA8MTZUsyth6y1ZkX5KN/Ovyg/6e6BbxwTUf+C+g1eEbsQ+XAw8fgCRIqHygMujvUEqx89s7YSmxoOQbE7unnw6t/2pFy/oWnPPCOWEf3AOU1/VUDNUO4eNbPx6WPNJsSmlPqN+PdI9g2hBCeI1Zs77kmyW6aGsEAIDTcKh8oBKHnzoMZ0fw7nXd7+qQUp4SlY0AAMy9ay769/SjZ2vwz177G+1w97pRfNvUvsHVknt5LvRJejQ+16jK8ZXW9VQkzU1C/vX5Bo1Z8wJRMIL8qVmhiGjJnXG5cUUFNxSoswd2GMRb41H05SJUr6sO2G3s39uPrve7MO978yJwdspoTBpUrKvAgYcOBLxFcPe6cei3h1D5YGXYv23rn6wPy3EI8d/PH/3HUdgb7WE55lih6joc5nx9jlaXpFsOgutHfxbTuyFPFSHEyvHcTxf9YpFZjUk24VR4YyEkQULrP1tP+7kkSKh+oBoLfrRAlRHncJq5ZCZmnT0LtY/VnvHagZ8fgHWtVZV5Ag1PN4TtWKZZJpR+uxTV96t3oQar63DhdTwWP7LYzOv5pwgho3nR2N4NeSp4A/9d67VWbVxO9N0SjEV4gnn3zEPjc42nfQC7/tsFU4YJ6edE5y3BWCXfKkHXe13w9P9vJ/vh5mEM1Qxh9q2zI3hmyuVengtZlHF893FVjh+srsMpaW4S0s9N1xANuW2834t0Q6B61oAQYqKU3mxda1X2tE0USJqXBG28Fn07+k7+rGV9C6zXWiN4VhOjS9Ah44IMHPvX/x72a9nQgtwrclWZNgxMPWswFiEE1rVWtKwP/xbzowLVdbgV3lho5LTcXSeegAx4zUW0IZimWYXXpZSn0MnOeouEsR9Ae4Md7m43Zp09K8JnNjHWtVa0vtYKWZQhukW0v92OvKvyVCtvorMKlci+JBv9e/vh7lVnR7PpaGwspRaYMkwGABcFu+Yi3SNQFSGEaOI09xZ+sTD67wnGyLooCwP7B+DsdKJlfQvyrs4Dp4mt6rLMscCYakTPRz3oeKsDKRUpMKUH3nw1WmlMGmRdkoWWV9W7UE+ta7UUfakoXhuvvTfY65/0rEEh4UhW6vJUlYsJP41Rg6zPZKFzUyc6NnUg57KcSJ/SpORckYPOd/zvIfeKXFXLClfWYKzcy3PRsbFDlWMD/6vrrne7VCsj8zOZkLzSUkLII4Fej/RXjNpZg8VJ85KkaM8UBJNcnoz+vf3QxmsRyanQU5GyIAWDtYOw1duQsiBF1bLCmTU4VWJRIoRBQdGMyclKLk/GUN2U920NijfwiLfGuwF8L9DrkW4IVMXpuWUplSkxd1swylJige2wDZZSS6RPZdLicuMgDAjQxmsRDVO6J4PwBInFibDXqzOnADhR1/U21Y4PACkVKUG/TSLdEKiaNeAN/KqkkqTY7A7AfxFJLinsi1pMJ8ITGNOMSCxOVL2scGcNTpVYkghbnU2148flxqne60ial6TTmDVNgV77xGYNCCGc5JLmxPK3KeEJtPFaJJVG9unCqdLEaablCUk1sgajkuYmqfqNTXiCxDnq9zpAEfAptUj3CNSURHhCYrU7OkoSJJhzYif1GUwsTOYajznHrOqoPgCYs81wdqlXhjnHDNEtzgz07MEnOWtg5LScpOLxpwWVKHhD1D4eoQiVp+c9qJU1AABez0P2TmjB4Kgrg9NwgL8JOGNyXaR7BGpmDfScllO35qYBFakqj8JOJypPz3tQK2sAAJyOgySo+70yLWXwHAGgP+PnqpYaWYIsyTE7UDiK8ASyGNvtGeFi/z3IPln1xkwW1S+DShQAzhiRjHRDoGbWwC0Lcmz3qQEQDYHkie07HMIRSF7134OaWQPZIyve9GTSZXjVLYPKdPThpuhqCFR+1sAm+2Te55zQtndRh9NycHerM899Ok3He1Aza+DqdsGQGniHpbCV0eWCYYZ6Zbi6XeANvC3QfpaR7hGohlIqakyaJvth9dIxaqOUQnJLqk80UZvkljBYMxjp05gSW71N1fkclFJ/GSqmu211NnB6LuD+kp/krAFkn7xdzUkganN1uQACVSeyqI1SCnevG/YG9RtkNbMGtjp1GwJXlwu8nle1R2CrtYm+4cA95Ej3CFR91kByS9sH9g9MehuoSLPV2ZBYnBjTPQJXlwu8kYen1wO1b9PUyhpM17e12pPf+qv6nZBxTqDXIt0QqG3v0IEhxOpKzUOHhjCjcgbcPW5Vp56qaejQEJLmJiFhdgJstbZIn86kONudqn9bDx0aUrXHIYsyHEccQd9ApBsCtVcoOiS6xOGhg+o91aUW2SejY2MHMi7IwKyzZ6HjbfUeg1VT+xvtSD83HRlrMtD+ZruqZamVNWh/sx3p56m3RNxoXaefq14ZvVt7wWm5RnwaVyiilMqSR/p109+bXGqWo4aej3pgzjQjcXbiyRVsYq1n4+xwYqh2CFkXZiHn8hx0f9gNwaZez0aNrIHsk9H6z1ZYr1FvmbhT61otTS80DfuGfY98KlcoAgAq07/2bOnhvIPeSJ/KhDS/0gzrWv+HL2Wh/zl+NbbiUlPLhhbkXJoD3sBDn6THrHNm4di/j4X+wyjS9UEX4vPikVCg3o5Sp9a1GkaOjYyudfBqsN/5RGcNAIBSOshpudePvX4sZmblDDcPY/jo8Mnu6HSsaxdukkdC23/akHd13smfWdda0bKhRbUVe9XIGrSsb1H1Ih1b12pofqVZAPAnSqnnU72vgegUHzny7BEhFnoFlFLU/b4O1rXW01b7zf5cNgaqBjBUExvjHU1/a0LyguTTnjpMmpcEQ7JBtXX8w5016NnaA3ePO2x7M44VrK7DydnpxLF/HpNkr/z7Ez/69O5rQCndTyX6TPWD1VE/VtCxsQMjbSMo+nLRaT/Xxmkx73vzUHV/1bRM150Ke6MdR/9xFPO/P/+0n4/uIFT/h3r/HIkoJjgEHHjoACrur1Bt/n+wug4XKlPs/f5eJ5Xog5TS1vF+N9INwbTthix5pB8c3318oPPdzukqcsI8/R4c+pV/O7BA3xCZn8lEfH48Dj91OAJnp4zsk1F1XxVKv10K06wzVyxOKExA4Y2FqH6wOuyDn+HMGhz69SHMOnsWZi6ZGbZjnipUXYdDy/oWebh5uFn2yb885cefvqzBmLLckktaW/1gtTsabxEopTjw8AHkXp6LpLmBV/MhhGDBDxeg7T9tUXuL0PhcI/RJeuReHnzF4sIvFcLn8OHYP8M7cBiurEHvx73o39OP0u+UhuV4Yymp66lydjpR+3itR3SKaymlJ7uQn9qswakopTupRP+w45s7XKJbjPTpnObIn4/A2elE8e3jf6vpk/WY/4P52P293XB1R1f3untLN5pfbkb5feUYbwNeTsOh8sFK1D1Rh/6q6MqEOI46ULWuChUPVEBrVmdzLKV1PVmCQ8D2r293UoneRylV1H38xGcNxpLc0r0jrSNv7fz2Tpfai0AodfSlo2j7TxuW/2G5om5i5vmZKLihANtv3w7PgCfk70+H43uOo3pdNZY9vizgLcFYCYUJWPSzRdj93d1hm0I91ayBs9OJHd/YgbK7yjBzsTq3BBOt64kSXSK23bbN6TnueU4W5N+Mff1TnTU4FaVUFl3iDbY624fbb98e8Z5B43ONOPq3o1j+1HIYZiqfwlr4xUJkfTYLW7+8NeI9g56tPdjzvT1Y/OjiCS1SmnpWKsp/Uo4dd+zAQPXAlM9jKlmD4eZhfHzLx5h962xkfzZ7yucSyGTrWinBLuCjL33kHGkfeU1yS98K9LgxglxzJJKz1QghlFIakVWECCEajUnzginT9Pmlv11qNmcpXyBUsAsQ7AJkQT65piBv4GGYaYDSzVQkj4Tax2vRt7MPK55aAWPa/5acpxKF+7gbkkeC7JVBeAJez0ObqD1jS/SjLx5F09+bsOhni5BSoXwDEdElwjvo9Zch+hfE4PX+96B0lJzKFC0bWtDwTAOW/nYpkucn/+81SuEd8EJ0iv4sB/Fv062N10KXpDvt1qF3ey/2/Wgf5t0zD1mXZI17W3EqSZDgOe6B7JUhCRI2X7cZF7x1AfTJemiMGsWx6N3ei6r7qjD3O3OR87nTd5SKproej6PJgZ137nR6B71/ltzSXUEagaDXXKQbgnXTOWAYoHyO03L3EA25f+6dcw3WtVZubOX6hn0YPDgIW50Ntnr/P9+wDzqLDryOP7n6jujyf+AtcyywlPr/Jc1LQqDNVwcPDKLq/iokzk7Egh8ugGAXMHRoyF9GnQ32Bjs0Zg14o//ipBKF5JUgDAnQJetgKTlRRokFyQuS0bejDwd/fhCZF2Wi5BslZ1wEkiBhqGbotPfg7nZDn6wHb+D9y6EJMiSPBMEuIKEwwV/GXP+/hMKEMy5OZ6cT1Q9UQ3JJqHyoElqz9ow4gQLaeK3/PVAKWZAh2AVwOs5//BPvI3lBMtw9buz78T7E5cRhwY8WnPGAD5Up7A122GptGKobgq3ehpGWEX89GHhwOg7uPjc0Rg2EIQHmLDMSSxL99VCaBMtcyxl7R/qGfTj0m0Po29mHygcqYSmxRH1dj61bWZTR+NdG8cizR7yyT76LSvTPwRqBE5/5gNdcRBuCaEEIKdaYNevj8+MLFv18kdmcZYbtsA0tr7Sg679dSJyTeLLCLSUWmLPMAb8NvINe2A7bTn6QBqoGkFCUAOtaK9JXp4OKFHVP1KFjYwfK7ikDZP/MNVeXCykVKScrPbEkMeC3AZUoRtpGTn6IbHU2OJodyL4kG5kXZqL55WbYam2ofLASKRUpcHW50PpaK469fgzGWUYkzU06+T7irfEBv/l9Tp//gjvxHgb3D0Jj0sC61oqsS7KgMWrQsr4F9U/Wo+hLRUgsSkTLay0YqBpAcnnyaR/cQNu0UUrh7nH7L7QTZQwdHELqilTkXpGL47uP49g/j53sHfiGfWj7TxtaN7QCAJIXJJ88fsLshIDf/JIgYbhp+H/voWYQPrsPuVflIu+KPBhmGtC7vRfVD1Rj1qpZyPpsFtr/0x4zdW29xor4/Hg4mhzY8709Tneve7/oFG+glLYF/IArwBqCEwghPNGQewA8qE/WawEQ61orcq/IhSFlcvdzkiCh+/1uNL/SjOGWYciC7KOgTkKImeM5raXUAuu1Vsw6e9akdzp29bjQ+morjv3zGDgtJ7uPu2XCE40+SQ/JLSH70mxY11oRnxc/qeNTStG/ux/NLzfj+O7j/jUUvZIsS7Ksi9dpDCkG5F+Xf7KRmAzBIaD9zXY0v9wM0SVS75BX5rQcpzVpieSVMOvsWbCutSK5PFnxbcNY9gY7Wta3oOOdDmhMGn93X5QlwwwDhxita8+AR6AyvRMy/jReL0CJT/WtwakIIYUas+YVU6apuOTrJea0VWlh3YbcfsSOxucbxe73uzXJlcnignsXaOJyw7fph+yT0fZmG+oer6OEJ6TkjhJkXTz5izMQd68bzS83o/mlZpgyTHL5T8q5qVycY1FK0bejDwcePiB7h7xc0c1FsF5thT75jNW3J8037EPbG204/NRhcDpOnnfPPC7j/IyYq+uuD7pQ/0S90zvo3SM6xRsppYpmykXlrUEkBwtPOQeOaMmdHM89VHJHib7ghgKe8OqdUn9VP6rvr0ZSWRLm3zs/bBuD9nzUg/0P7Uf6mnTM/c7csDYAYznbnahaVwUqUVQ+UIlwfchth22ouq8KxlQjyn9SftqgWrgJDgE1j9ZgoHoAFesqVEkXqlXXo2SfjIY/Nfianm8SZJ/8bSrTv4bqGUTrYGFEGwJCSJrGrHnbnGMuXvyLxeZwttrjEd0i6p+oR+e7nVj48MIpTWOVBAkHHj6A/n39qFxXiRmLZoTxTIOjMkXzK81oeLoBpd8sPe0pwwkfi1I0PteIpheaUHZXGbIvzQ5bLyOU0QY084JMlN1dhnB/CYSzroOxN9ix53t7nJ5+z27RKV5BKQ26QGS0NgQRuzUghOTwRn57wQ0FqSXfKNGq2QsI5vju49hz7x6U/6QcGedmTPjvRbeIXXftgsaswcKHFqraCwhm5NgIdnxzB3I+n4PZX5k94QuYyhQ1v6pB/95+nPX7s1TtBQQjOATsvmc39BY9Fj68UJWHjKZa16HIPhkHfnHA27Gxo1VySasopccD/V5U3hpECiEkhzfwe0ruKEkp/GJhRDdBsdXbsONbOzD/3vnIvCBT8d+JbhE77tgBc5YZ5feVh/Ued6I8xz3Y/o3tmLV6FkrvUD4/n1KKAz87AEeDA8ueWDahvHm4SV4Je+7dA1Bgya+WqNIYTLaulTrxWLPQ/FJzl+SWFlNKFc/fjvTMwmlHCEnljfy2aGgEAP9W1Wc9cRYO/OwAerf3Kvob2Sdj9z27YcowoWJdRUQbAQAwzDRgxdMr0PXfLjS+0Kj47+p+VwdbnQ1nPXlWRBsBwL8B6ZJfLgGVKaruq1Jl8ZTJ1PVEEEIw99tzdfnX5mdoTJqPCCGKl1X6VD1rQAjhNGbNG/nX5adFQyMwyjLHgqW/WYp9P9qn6Dn92t/VgnAEFesqFM9uU5s+WY8VT61A84vN6NvRF/L3299uR/cH3Vj+h+WqPdwzUZyWw5JfLoGr24XG55U3aBMx0bqejNI7S3UZF2Tka8yaf4x9jT1rAIBoyDdMmaa5pd8sjY5P3ilSKlL8z+k/MP5z+gP7B9CxsQOVD1ZGvCcwljHNiPL7y1H9YDV8I8H3MBh9Fn/hwwvDPpI+VbyBx8KHF6LphSY4jjpUKUNpXU8WIQQLfrBAr43XriaEXDPm5U/vCkUAQAixchrukcWPLDZHYmBQicIvFcI37MOx1wI/py95JFTfX40FP1gAfVL4cuvhlLY8DanLUlH729qAr5/2LP4EHlCaTuZMM0q+UYLq+6tV28U5VF1PFW/gsfjRxWbewP+ZEBIyVRHphmBaVig6cUvwSvHXivXx1snNsJsOJ5/T/0NdwG5j/R/rkTgnERnnhX/UOZzKvluG3u29AW8ROt/pxEjbiGrP4odL3tV50Jg1aPpbkyrHD1XX4ZA8Pxl5V+cZNGbNX0758ad6haIrjanGkqKbiqJmXCCYhMIE5F+fj7rf1Z3285G2EbS90XbGOoDRSBunRfmPynHwkYOndX0lQULNr2tQuU695bnChRCCivsr0PjXRqi1olWwug6n0m+V6jQmzRpCyGrgU75CkTZe+/05t8+Ji9ZbgrHyr8tH77be0xYdaX21FbmX5UbtLcFYqStSwek49O/+Xwar+/1uJBQkIGledN4SjGXKMCF9TTra/j3pZ3lCClTX4cTrecy+dbZJE6f5v/F+7xOfNSCElAIoVXM7qXDTJeiQcX4Gjv3Lf/8oeSS0vdE2pdl7040QAus1VjSvbz75M7X3CFCD9ZoTezFI6sy3GVvXasj+XDaRffJ5hJCMT23WgDfx37Fea9WqtSS1WqxrrWh9tRVUoujY1IGkuUmYyOIp0SDrkiz07+n3b4t+xA5npxOzzpkV6dOakKSyJOgsOvRuC3/ef9Spda0GbZwWWRdnUU7LfQ2fxqwBIcRERXqj9Rrr9M+9nSJLiQWGVAN6Pu5B66utMfdNCgBasxZZF2eh9Z+taH21FXlX5UVdylOJ0R2a1HJqXaul4PoCA+HJt4K9HulaUTtrsMicbRYiMX89HNLXpKNvex8cjQ6knpUa6dOZlPQ16ejf04/je46rtmOQ2tLXpGNg34Bq39ijZfTvUW9F58TiRGhMGi2APwR6/ZOeNViYXJ6s3qb2KrOUWDB4YBAJRQmq7bajNkuJBbbDNri6XIjPj97U7Xh0iTroknQYOTaiWhmWEgtsdTbVjg8AlrkWCmBnoNdi89OlkDZBe3byvDCuajHNLCUWjLSOIHGOettlq02XqIMuUYe4nLiYvC0YZSm1hG3Z9YDHL7HA3mBXbYNYAEipSInjDfyyQK99orMGVKaLLSUWNYtQlS5RB228NuDaf7EkcXZiWFcZigRLqbrf2LpEHXQWlXsdpRbCabmrA70W6SZatawBIcQouaW0WO2OjkooSgCie+5NSEnzksK+4Md0s8zxf2OrWkaJumVYSiwQ3WJaoNci3RCoKYHX875YvbcepUvSATG+ZITeEtu9AQDQWXTjPkgVljISdfANq1eGNkELKlIQQs64KCJ9laiZNTByOk6dJ0amkcakUXW0ejpwBk7Ve9/pwOk41bej5/QcJI96ZRBCQHgiAzhjAP2TnDUgiO3eKAD41xuI7WvIv3xZrL8HjgAqf60QjqjyWPLphUBCgOs+0j0CNXlknxzz7090izF/fy15pZgf55C8Eji9uh8nySuB16sXKEopqEQ1ANxjX/skZw1GJI+kifU1GX0O37St6KsW0SnGfPdMdIqqLw4rjqhbhuSRQDhCKaVn3H9E+htTtawBpXSY03LDznanWkVMC0eTAzTG+9W2OlvMjxE4Gh2IL1A3A+VodCChUPEygxM//hEHeAMf8JqPdEOgKk7HVas5CURtoluEp88DYUiI9KlMie2wDYIjxt9DnQ2WUotqxxfdIpwdTsQXqtfY2OptkH2BBzoi3RCo+qyBb9i3xXbIpm7OR0WOIw6YMkywH1E3f60m0S3C1eWCs82p/kCYimz1Nqg5Oc1xxIE4a5yqC7YMHhh0yYL8ZqDXPslZA0DGvoHqAXXWgZoGtnobkuYmwV5vj9mLyHHEgXhrPLRmLVwdsVkVoluEs93pn9ylErUbGgAYPDAoIRqXKpsGu+2NdoPaE0HU0rezDzOWzIDOooOt1hbp05mUvp19SC5PRnJ5Mvp2hl7mPBr17+lHwuwEVb+t+3b2IXlBsmrHd/e64en3aADUBHr9k5w1AKW0n9fx77e/2R5zX6eubhcGqgeQ+ZlM5F6Zq+rz8GqRRRnH/nkMeVfkIfcK/3uIxZ5Ny4YW5F2Zp9rxT61rtbS82iJyGu4fAH4Q6PVI9whUX6HIN+z7ZdMLTc5Y+wC2vtaK7EuyoTFqkHtZLro/6IZgj60Bt56PemBMNyKxOBEzl8yE7JUxuH8w0qc1Ic5OJ4ZqhpB5oXoX6al1rQbZJ6PllRZBdImP4dO4QtEJWwS7MDSwbyDS56GY7JNx7F/HTq5KpE/WI+3sNLT9R71FNNVw6hqFhCPIuyYPLetjq2fT+lorsj+n7kV6al2roXtzN0DRQCk9FOx3It0QqL6vAaWUim7xl0f+ciRmRqo63ulAfH48Tt2DIX9tPppfaQ6a/ok2jiYHHEccyDj/f3sw5Hw+B70f98LVExtV4XP60PZ6G6zXqHeRBqrrcKKU4sizR0Z8w75HT/wo+gYLp21fAxnPDlQP2Lo+6JqW4qbCO+hF7eO1KP3m6bsKJ81PQkJhAhr+1BChM1OOShTVD1Sj+GvFpw2w6RJ0KLixAAd+eiAmxgpqf1uLtLPTEJcbp8rxg9V1OB375zHZ2ebsAPAq8Cnf14BS6pLc0rXV91e7BVt032cf/MVBZF+SfcYIMiEE5T8qR+urraqulBMOTS80gTfwAb9JZ98yG55+j6p7BYRD384+9H7ci3nfnadaGcHqOlxc3S7U/KrGK7rEayil4ni/+4nOGpyKUvqxLMrP7X9o/xkPXESLzvc6YT9iR8k3SgK+bphpQNl3y1B1X1XU3iIMNw+j8fnGoDs1c1r/Vl+1j9fC3RudVeFz+lD9QDXK7yuHNl6d/XJD1fVUUUqx74f7nFSivzh1bOBTu6/BqSS3dE/vtt6hjk0d01msIu5eNw4+chCVD1SCNwTPV2ddkgVThgl1T6i3TdZkSR4J+36yDyXfKIE5M/geDInFici/Nh9V91eptsnoZFFKUfNIDVKXpSJtecDFfKZMaV1PRfPLzbK9wd4uC/LPxrwU8JojkbxXI4RQSmlYHksj/kf0sgEsBJALwAhAD0CA/7HLLgD7AMTzBv6jpY8tjUtdFh1LhHsHvdh661bkXpGLnEtzYKu3YeTYCCSPBNkrg/AEnJ6D3qJH4pxE6Cw6fPyVj5F/bT4KvlAQ6dMH4B/93nX3LmjjtFjwowWwH7FjuGkYokv0P4ZMAF7HQxOnQeLsRMTnx2PPvXugT9Kj8sHKgL2HSKj7fR36dvRhxTMroI0Lf2/g1Louuqko7McHgM53O2nVfVV2ySMtppSetotrsGsu0g3BuqkMGBJC5hINuUFj1qyWPNJ8TsPxiXMSfQn5CXrexGt4Pc/LgiyJblFytjk9Q3VDGsklEaIlbaAoWPa7ZZqZi0PuGK0q76AXH3/1Y1BKIbkk+IZ9SCxOREJ+AngTD17Pg0oUkleCt98L22Eb3D1uxOXGwdXjQsk3SpB/bX5E34Psk7Hne3tgP2IHp+Pg7nYjviAeibMToY3X+p/jp4AsyBDsAuwNdoy0jsCUaYI4ImLmWTNR8ZOKiK67QClFw58a0LGxA6ueXaXKYqveQS+2f2M70lakofRb6gwQdn3QhX0/3DcseaRVlNIDY18Pds1FtCGYDEKIDsAV2njt9wCU5F6Zq00pT9FYSv27xYR6dt876IWtzoaOdzrkrve7uEU/X4T01ZHZeMPV48LWm7dCn6xHwY0F/m3Nss0hvx19Iz7YD9vRu70XLetbUPjFQhR/tTgi6xaIbhE77tgBV48LRV8uQvK8ZCQUhN6HQRIkOBodGNg/gKbnmmCZa8GSXy6JyP4NVKaofawWfTv6sPyPy2GYGf6tMFw9Lmz/+nZknJeBkjtKVKmrtjfa6IGHDzgkj3QepXTfRP42ZhoCQoiG03H3EI58P6EwgSu8qTA+fU36lD44gzWD2Pntncj8TCbmfmeu6gtPjKKUouOdDtQ8UoOCGwtQ/JXiSR/L3efGtq9ugynThMp1lap8iIMZPDCIvT/ci6SyJCx8eOGk9y2QPBJ23b0L7l43Fv18ERJnT98+Ds5OJ6rXVYOKFEsfWwpdoi6sx6eUonNTJ2p+WYOim4tQ+MXCsB4fAHzDPhz8xUFP1/tddskjraGU1k/0GDFxa0AIKdOYNBsSixOzF/xogTmcizcINgEHf3EQQ7VDqHywEikVKWE7diCeAQ/2/3Q/nG1OVD5YiaSyqW8RLgkSGv7UgNZXW1F2TxmyL8lWtXcgeSTUPVGHjo0dmP/9+ci8YOrTbymlaPt3G2ofr4X1WiuKby1WtXdAZYrWV1tR/8d6FH2pCAVfLAj7BiyeAQ8O/OwARlpGwlbXY/Vu68W+H+1zSYK0XnJJ36aUDo/3+1F5axBqsPBEL+CHhCffn3fPPEPulblErQ941wddOPjzg0g/Nx2zb5mNcO+XKHkktL3VhsN/PIycy3Iw52tzwr4+na3Ohqr7qmDMMKL0W6VILArvNyuVKHq39eLQrw8hsTgR878/P+z30u5eN6ofrIan34N5d8/DjCUzwt6oDR0awsFHDsLd58bChxYi3ONEo3Vd+9tazFg0AwsfWhj2gUdnuxP1T9V7uj/oHpbc0g2U0v8q+btoHSwM2hAQQiwas+b9xNmJxQt/ttBsSjepfj6CTUD9U/XoeKsDyQuSUfjFwil/EEfaRtD8UjPa325H8rxkzLl9jirfDKMkQcLRvx1F88vNMKQaUHhjITLOz5jSt6t30IvWf7aiZUMLDCkGzP7KbGScmxH6DyeJUor2t9rR+NdGyIIM67VW5Hw+B7qEyXfbRbeIzk2daFnfAsEuIO/KPLh6Xejc2BnWum59tRVtb7QhaW4S0s5OQ9d7XXAcdSD3slxYr7XCNGvyn+PRhrjphaaRwZpBEEL+LHmk+0L1Ak4VrQ1B4G4KIWm8id+ac2lOzvx75+unO7Xkc/rQ8XYHjjx7BKD+3L1lrgWWEgtMGaZxPyyCQ4C93o6huiH0bu2F7bANeVfmIf+6fJizgufWw032yeje0o0jzx6Bs92J7EuykTQvCZZSC+Lz4scdoRfdIhxHHLDV23B893H0buvFrLNnoehLRao2YmNRSjFQNYDG5xrRv6cf6WvSkVKZAkuJJeT6ALJPxnDzMGz1NgwdGkLXf7uQNC8J1rVWpC1PO/n+w1HXtjp/nGyHbci9LBd5V+edVteOow4cffEoOt7qQNL8JHHW2bM0lhILEuckjttToJTC2e6Erc6GoUNDvva32n1UpMd8w75HAKynlE54RlZU3hoEQghJ5k38noIbCrJL7ijRRnIFX0r9o8nH/nkMlrkWDB8dhiRIsMyxQJ+kB6fnQDgCyStBdIlwNDkgDApIKE6AMCRAY9Jg+dPLoYsP7wDURLW92YYDDx9A8oJkuDpd8A54kTA7AcY0I3g9D6IhkAUZkkfCSOsInB1OxFnjwGk5uHvcWP7UciTkq7c6jxKDNYPY8c0dSChIgG/EB2ebE3G5cTDnmMHreXA6DrJPhuyV4ep2wdHogDHdCEuJ/6JOPzd93ElOk63rxDmJsJRYkDQ/Cemr08e93fP0e/DRzR95vYPeNk7DiaJLLNQn6z0JhQlUY9JwvIHnqESp6BZlz3GP7GhyGAlPhjktVy0Oi1uoTDdONBugVFQ1BIQQk8ak2Zl7RW5x2T1lumhZxvvoi0fR/Eozzn7ubFCJwt5gh2AXIAkSIPl38uENPBLyE2DOMWP/Q/vh6fVg6eNLVV3VZiKO7zqOPd/fg+VPLvevg9hgh7ffC8krQRZl8DoenJ5DXHYc4gvjceyfx3D0xaNY9ddVMMyIjp3lnR1ObL1lK8ruLkP66nTYG+1wdbr878Eng9P468GQakBicSK05onfl0+kruNy4yY898Hn9GHrzVudzg7nM5Jb+h6AEgBz4J8AZwQgwj8BbgBAFaX0+ITfxCRE1a2BxqT548ylM29e+tulxmhpBEYd+s0hODudWPKrJeN2F0fvbc/+29nTlo5UqmNjBw4/fRhrXl4z7tRWe4Md227fhnP+fs6436KRYD9ix7avBT63+ifrUfL1qc/dV1rXkyXYBfz3iv+6hEHhSkrpprAXMI5gtwZR86wBIWQlp+FurlxXGXWNAACU3FGCkZYRdL7bGfR3PMc9OPTrQ6h8sDLqGgEAyLo4CwlFCah/MniaWfbJqLq/CnPvnBt1jQDg32K98KZCVD9QfcajzA1Ph+cRbSV1PRW6RB0WPbzIxBv4Fwkh0zdpwi96VygihJh4I/9KxQMVRp0lsvfTwfB6HpUPVKLm0Rp4BjxnvE4pxf6H9yP3ylxV17+fqgU/WID2N9sxeDDwkmFH/nIEhhQDci7LmeYzU67wi4WQXBJaX21V5fih6jocUs9KReaFmWaNSfOEKgVMUFQ0BLyRfzRteVqSmimpcEial4Scz+fg4M8PnvFax9sdcHW4UPzVyc8SnA76ZD3m3zsfVfdVnbG7r/2IHc0vN6P8vvKo3maN0/gfZa7/Yz2cnersZDVeXYfLvP+bZ+AM3JWEkM+oVohCkW4IHiCEpFGZ3rrgxwvCO4NHJXNun4OhmqHTNh2hMsXhpw5jwY8WRM3g4HgyP5MJU4YJHRtPfxz7yJ+PoPgrxWGfTKWG+Px45F2Zh6YX/vdwXfHXwtsIB6rrcNLGaVH+o3KTNl77G1UKCCw6lyrjtNxXMz+TSfVJ4X/aSw28nkfuVbmnLcLZt7MPGrMGyeXqrUsfbvnX55/2HjzHPejb2RfVtwRjWdda0bGxAz6nf9+KcAwUnipQXYdb+up0EA2xEkIqVSvkFFG5VBkhhCcacmfBDQXR/xV0irwr8tC5qRO+Yf8HcHS13mjuTo+VtjwNgl3A0KEhAEDrv1qReWGmKs/gq8WYZsSMxTPQ8bZ6C82MretwIzxBwQ0Feo1Zc7cqBSgU6VuDv5uzzDq1t3oKN8NMA2Yum4n2t9rh6vJvTpF1cVakT2tCCE+Qd7V/eXFZlNH6aquqq/WqJX+tv2dDKR03GzJZp9a1WnKvzOVln3wVIcSiWiEnROtSZdcV3KjyXtMqsV5jxbHXj6H9rXZkXZQVlenCUHIvy0XX+13+jUhmGaf18d9wmbFkBiSvBFudLWzpw7FG61othhQD0lakyQCuVa2Q/4mu9OHoY4Qzl0R2haDJSi5PxkjrCAaqB2L2PeiT9TBnm9HzUU/Yn8CbLoQQzFg0A0M1Q6qVMVrXonvchYCnJHVFqkkbr12jWgEhRLJHkEE0RDTOiqnhgZN4HY84axyGDg1F9byBUCylFtjr7bDMtUT6VCbNUmqBrc4W9qzBqNG6dhxxqHJ8AKM7IS9TrYD/ibqswcKkeUmuWBpgG8syxwLZJyNWGzMASCxJhLPDqfqW3GqylFhgq7eFPWsQqAy1JBQlQHSLmYQQVT9MUZc1IDxZnFKREn1zWCfAMtcCfbI+prIFY40+Hx/LjVlCUQKc7U5IHin0L0/SaK9DLbyOhynD5AKwQLVCxhGxhkATp1k40joS/bNvxpFQENlHc8OCAKas8Z+7j3YnLiLU/KpGtTISChIw3Kp4/Y9JSSxO5OB/GlE1UZc1IITEdX/QHaniw0Jj0oBK0fMY92RQiUJrip25A8FoTBrVnj0YPb6aPQ4A0MZpeQBqL8UVXVkDANHxkPsUcHou5hsC2Sv79x2IcWq/B07Pqd4Q8EZeA/+aBNMukp8AKdYm4YxFRQrEbo8agH9iUaw3ZoC/LtScHk1FGvZVjgOUIcO/MImaoi5r4M64ILqfNgxFFmQQTWy3BJyOO+MpxFgkCRKsa9WbGSkL6vecRLcow786kWqiLmsgi3Kvd8AbqeLDwjvoBcfHdreacATCUHRvFa+EMCiEfXOSU3kHvVNaRVkJz3GPD0DghSJUFrFPsTgibmvZ0KJ2N0hVQ3VDED0x/RYgeSW4elz+NflilHfQC9Elou2NNtXKsNXbkDhH3SnYtnqbBkCVmmVEXdYAwD7HEUfsTdA/ha3eBsEmxPRFNHx0GPokPYab1E2NqclWZ0NiSaJqzxqMlqHmDFLvoBeSWyIAmlUrxC/qsgYHAMT0RWSvt8Ocbo75iyguN07VyTJqs9XbVJ8ZqXYZtjobeCNfRyO0mnDEGgJKqYtoid3RqN78bTV5B73wjfhgmW/BUK16D7yoiVIKW50NyRXJMfsegP99W6v1rMFoXZuz1ZsIO1Q3JEtu6SPVCvifqMsagNNwL3S+26nOig8q63y3E6nLUjFrxSx0/bcr0qczKUM1QyBagqyLs9DzUU9M9s4Eh4D+vf2YsWiGas8ajNa1WrMvKaVof6PdJQvy26oUcHpZ6wL9PKINgeSWft+6oVWKtfQVpdS/KtG1VqSflw5HowPDLbF3e9CyvgXWa6xIsCYgoTAB3e/H3kzP9jfbkboiFYYUdeannVrXahncPwjvoNcB4APVCgkh0rmvLxCeVMXaN+rAvgEAwIxFM8DreORenouWDeqta6cG75AX3Zu7kXtZLgD/+n9qrs2nhpMX6Yn5A2qsUHRqXavl6ItHXZJH+hWlVFatkBOiMWsAAPf7hn2PNj7XGFNfp2PXKMy7Og/tb7WrunBFuLW93ob0NekY3Udi1jmz4Ox0qrZirxr6d/eD03BIqUgBEL4NTk6l9nqUngEPej7q4ahEn1OlgDNFXdZg1FvODqe7b2dfpM9DEUeTA327+pD92eyTPzNlmJBSkYKWl2PjG9U34kPzy83Ivzb/5M84DQfrNVYc+fORCJ6ZcpRSNPy5Adbr1LtIA9V1uDX+pVHgtNyrlNKIjtZGuiF4gFIqSm7p5n0/2ucaXZY6Wsmifzuw0m+VQht/+hN78+6Zh8bnG2NirODQbw4hdUXqGVucF9xYANthG7rej/5btdbXWiG6RORennvyZ+HMGoxX1+EyeHAQra+1ekSn+F1VCggs+rIGoyOYlNKNklv696FfH1Jnf6kwaXqhCdo4LfKuyjvjNXOWGXNun4Oq+6ui+iGevu196NvRh7K7y854TWPUoPKBShz4+QF4h6J3+rery4X6P9Sj8sHK0x4ECmfWYLy6DgfJK2HPvXuckke6jVI6bd3hqMwanEp0id/oeLvDdXz3tOwCPWGOJgea/taEivsrgnZFrWut4HU8mv7eFPD1SPMN+1D902pU3FcRdP+ClIoUZF2chYOPqLfV11RQSlH9QDUKv1io2sIwSup6quqeqBN8Dt9mSul6VQqYoEhvcLJu9L8ppTbJI92453t7XK5uVwTP6kyCQ8DeH+xF6R2lMGUEXzeCcAQVD1Sg8blGDFQPTOMZhkYl/wWUtjwNqWeljvu7pXeUwn7YjpZXo2/M48ifj0B0iii8qfCM18KRNVBa11PR81EPWte3ukWneIsqBYwjarMGp/4fSulG0Smu2/rlrS7vYHR0TUW3iJ3f2omZS2Yi96rckL9vzjRj0c8WYdfdu2A7bFP/BBWglGL/Q/vhG/Zh3r3zQv4+b+Cx7HfL0PB0Azo2qbeL0EQ1v9KMY/8+hiW/WRJwbYCpZg0mWteT0b+3H3u+t8cpeaXPTOctwSkCZg1IhKY2+wsnhFJKz+h7aYyah/Up+u+s+ssqUyQ35PQN+7Dz2zthzvXf/9sb7LDV2WBvsMPn8EHySqAyBa/nwRt4xFvjYZlrgaXEguHmYRz8xUEse2wZkuYlhS5MJVTyNwLDR4ex6NFFcB5zwlZng+2wDZ5+D2SvDFmUwet4cAYO5kwzLKUW/wM2BNj5rZ0ou7tM1ZFzJY6+dBRNzzdh2RPLIDkl2OptsNXZ4Op2QfJKkAUZ9sN2zFg0A4aZBv97KLEgcU6iom3cplLX8XnxIHzoW4i+nX3Y9Z1dLskjXQagD8Ai3sgv5/X8fEqpCRQGABIhxE1B+3zDvq2QsRfAvnA1GsGuuUg3BOuCDV7wBv7H2njtD1Y8tcKUUDj9i4S6elzY+e2doBKF1+YFZP+S1qMfLn2y3r/zMQFknwzRKcLR5Dj5AfUOeGHKNMHd68ainy1C2sq0aX8PPqcPVfdVwXHEAVmS4bP5kFiciMSSRFhKLTCmGcHreXAaDpIgQfJIGGkd8b+HehucbU6YMkzwDnox+9bZKLixYNoXOaUSxeGnD6P1tVZoE7Rwd7sRZ43z10WpBXHZceANPDgth+b1zci+JBuubpe/sau3wXHEAeMsIzLOzUDe1XkBu/vhqGvLXAtyL89FxvkZ4PVnrsnb8U4HqtdVe8GhQxbkHEOKwZM0L4lLXpBsji+Ih8aoAafjQGUK2SvDM+CBrdbmG6gecDkaHQYQOAlH3had4m8opdWTjWeway6iDUEonJa7mdNwT8z+ymx90c1FGrWXigL83ehj/zyGQ78+BM7AoejmImSenwljunFCF8HoHPiGPzdgpGUEmRdkYt735k3bJqPHdx3H3h/uhSzIyLkiB7mfz0W8Vdk31yjJI2GwZhBHXzyK/j39SCxOxMKHFqp27zzWcMsw9n5/L5wdTsw6exas11phKbVMaOt5WZThaHKg/Y12tL3ZhpTyFFjXWv3jJARhreuW9S2wN9iRe3ku8q7OgznTDO+QF9UPVIvHdx3n4wvi3XO+NseUUpkCrVn554BSCme7E52bOqWjLx71Uom2+IZ9jwDYQCkNS6YtqhsCACCE5GrMmpeM6cb5ix9ZbFZzCXFXtwt7f7AXznYn5nx9DvKuzAPhpv4NaKu3ofqBan/v4OFFSF0+/mDdVPicPtQ8UoOu97uQd1UeSr5ZMqELJxj3cTeq76/GQPUAyu4qQ941eeo9hCNRND7fiIZnGpC6MhXlPy6H3qKf8nFFt4iOjR1oeaUFklcCp+XgHfSGta5Hjo2gZUML2t9sh6XUgoEDA0goSJArH6jk4q1T3+ZTFmX0ftyLpuebRmz1NulE+nHDVI8btbcGY36PEJ58jdNyv8q+NFtTcH2BPj4/fHunurpcaH6lmbZsaCE5n8/BvO/OA6cNf++j6/0uVD9QjeQFySj6chFSKlLCdjEJDgFt/27Dkb8cgaXEgkW/WKTK0lq2Bht237UbmngN5nx1DmadMytsi3pKgoSu97rQ8EwDwAHLfrcMcdlxiv++/sl6RXMJKKXofLcTBx4+gNzLc1FyR0nA7vxU+IZ9OPCLA+jf3Y/KBytDZmomY/DgIPZ8b4/TN+z7UHSKt1BKQ+beo/LWINjAxTi/n8npuW8SQr6eUJTAFd5UGJ++On1SFy2VKfp29qHp+SbvwP4BvaXEIpf/pJxTe9MSn9OH2sdq0bGxA/pkPQq+UIDsz2VPqKt4Klu9Dc0vN6PznU4Y042Y9715SFuu7niELMpo+nsTjr5wFFSmyL8uH3lX5cEwc3JPADo7nWh9tRUtG1qgMWpQfFsx8q6e+Df06+Wv4/L9lyv+fc+ABwd+dgAjLSOofKBSlUHd3u292P/gfqQuT0XZd8smXc/BSB4Jdb+vE1pfa/VIHulWSumr4/1+tA4WTqghOOXvdACu0MZr75VFuSRxTqKQUpFiTpqbxFtKLTDOOvMez3PcA1u9DUO1Q/Jg9eDIUN2QFhQC0RLDWb87S588Pzlcb0sRwSFgz/f2wNHkgOSWkFiceHIAzFJiQVxu3Bn3875hH2yH/QNUo/9EpwhJkLDghwuQfcn0juzLooyaX9agY2MHqEwRlxN3cpDNUmpBQlHCGY205JFgb7SfHMyz1dng7nH7G5Tr81Hy9ZJJd9En2hAAJ3oHmzpx8JGDqLivAulr0idV9nh8wz4cfOQghpuHcdYfzoI+aeq3OWMNHhjErrt3uXwjvkdkr/zTYCsdRWtDoOjWIMQxMgAsIjxZrInTnCN75fmSIMVzGk7kNJwkSzJPRcoTnnh4I18ruaQtsk/ewxm4G+Jy4i5Y+eeVZrVXpw2GUor639ej87+dKL2jFM4u58kLxN3j9qf0TmyiInklEI6c1mCMtI6g7c02rHhqBcJx/zlZHRs7cPDRgyi9sxSyR8ZQ7RDs9XYMtw6D03DgDTwo9Y+GU4kiPj/+ZIqSUor6P9Zj0cOLkLZiaj0ZpbcGgQzVDmHnt3ei7LtlqjSoo3Xd9WEXVj6zctK9p/G4+9zYestWl3fA+7Tklr4bqDGIylsDtRBCDPDvpKQHIMC/VryXUkoJIYQ38k/HW+O/sPLPK00aU+TXTz38zGF0vduFlc+uPLkkt+yTIXkl/6AWz4HTc+D1/Mlvy2OvH8Phpw9j1bOrpm0Ufzzdm7ux/6f7seLpFRhN98qiDFmQ/TsEEfhz8Hr+ZE9n8MAgdn5nJ5b8comqz/sr5WhyYNvt21D+o3JVegZA4LoOJ8EmYMtNW5yePs9vRLd4n9K/+0Q2BOPRGDQ/NmYYv3/OC+eY1XqqbKIopaj9bS0G9w9i5bMrQ4559G7rRfW6aqz880rE5SofTFNb+9vtqH2sFqtfWh1yxSBnuxMffekjVD5YGZE5FsEM1Q5hxzd3YNnjy6DG7eJE63oyPP0ebL5hs8s74L1TFuU/K/mbqHnWYJrKWwAOP1zx1IqoaQQAgBCCuXfNBW/i0fh847i/KzgEVD9QjYU/WxhVjQAAZF+SjezPZePAwwcw3hcMlSmq1lWh6MtFYW0EwvGsQdLcJCz44QJU3Velyl6HE6nryTLMMGDFUytMnJZ7nBBy2hprMfGsgZoIIVqNSbNh/r3zDZGcthwMIQQV91fg6ItH4WgKvrJzzaM1SF+TjpmLZ07j2Sk35/Y5GGkdQeemzqC/0/xyM6hIUXBDQVjLDtcKRZkXZCJxdiLq/xj+pc8A5XU9FfH58Sj+arFeY9a8TAg59TqP2hWKpgWn535iKbNk5FyWE7WbFZrSTSj9Zimq7quC7Dtz+bqej3owsH8Ac++cG4GzU4bX8ah8oBI1j9bAM3DmpLeRthE0PNOAygcrJzTLcbrN//58tL/djsED6uxAFqquw6HwpkLelGGaS3hye6jfjXRDEHC1lHAjhJQQntyz8KcLzdM9V36icq/MhTZBi6P/OHraz0W3iP0P7UfF/RWIhgHO8STNS0LO5TmoebTmjNf2P7Qfs2+drcptTThXKNIn6zH/3vmqLjQTrK7DhdNwWPzIYjOn4X5JCMk88ePoXaFIbbyJ/7/CGwt10XhLMBYhBGV3l+Hoi0dP+6bo2NiBxDmJUXtLMFbxbcXo29kHV9f/1pYYfZAp//r8cf5y8sK9r0HmBZnQJmjRs7UnrMcdFayuwyk+Px7Zn8vmOB13BxADKxSphRCSQEV6Xd7VeeGdQ6qixNmJMGWY0POR/wNIKUXLKy2nLTYa7TRGDbI/m43W11pP/qxlfQvyrsoL25Tk6aD2Mu9j61oN+dfnGwhHvnFiIl5An/ysAYebUs9KlY2p0d8bOFX+tfknP4BDNUMQXaIq89XVZF1rxbHXj0ESJAgOAV3/7ULuleos+AGos69B5gWZsNXbMNI2EvZjjzq1rtWQUJiA+IJ4DsDln8qsASGEaIya/yu4sUC9TetUkn5eOhxN/h2UWta3+J/2C8PTcdMpPi/+5A5K7W+0I21Fmmo7EgHq7GvA63nkXqbuBjan1rVaim4qitfGa+/FpzRrUMLpuJRomLU2UbyOR9ZFWeh8txPdH3Yj53M5kT6lScn5fA463+1E13+7kPP52H0PXe+pt8T7aF2rueNX+rnpkATpzKWrT4h0Q6B21mBR8oJkOdozBcEkzU9Cf1U/9Ml66JPD/6DKdEialwRbvX/JL7WXbFNrN+Q4axx8Iz6ouY5m0nx/nNTCaTkkFCa4AbwY8HXVSlZA7awBb+DPSilPia7pdxNgKbHAftjuXz8wRpmzzfAN+6Cz6FTbKGSUWrshE0JgKbGoeqGqfXwASKlIMRGOHA70WqR7BKri9NxKS6klNrsD8F9Esk9GYklipE9l0gghSChKgHFWbA3WjmUptcBWZ1Pt+KMNpqq9jnlJWk28ZnWg1z6xWQNCCC86xaLEObF9EWnNWiSVRm4V5HBIKksCb1A/e6tG1mCU2g3BdPU6ZEFeHui1SPcI1MwaJHEaTpXluqaTJEgwZUb+MeOpMGdPT9JGjazBKHOGGe5et2rHB+Bf9bpHvTLMmWZIbslIAgyaRbohUJOB03Lhf3xsmlGJhn09venG63kgxp925wwcZEGd2X+jeD0PSVDvI0t4MnrFnzFYE+mGQM2sgZ7TcurW3DSgIgWni3Q1Tc3oev1qUytrAPhH3dW8SAF/nNRubDiek+FfsOf0n6taaggqZw28sk+O7SsIANEQ1T8capMFeVomQ6mVNQD8K0aFY1n4ccsQZNUbfVmSAeCMEcmYv1DG4ZF9cmz3qeHvzkne2L7Dkbz+pcpimexR/yKVvJKqjQ2VKCCDAPCNfe0TmzUAMCSLMgSHoGIR6uN1PFwd0bU79ESNtI1MyxiBmlkDZ6dT9RSoq8MFY7p6ZTg7nOCNvCfQoqaR7hGoljWglEoas+aIvd6uVhGqozKFb8SHobqhSJ/KlNhqbdPSq1Eza2Crs8FSYlHt+FSmsB1WtwxbvQ2EkIAtTaQbAlXJXvnjobqhmB2vdrY7wek4xHpj5mh0qJoWmw62Ohsscy2qHd/Z7oQ2XqvKngejhmqGfKJLDPhapBsCVZ81kDzSjsH9g+o9P6oyW70NiSWJqk89VdPoB1ywCarfpqmVNZiub2u1p5IPVA+4APw90Guf5KwBAOwdPDDIxeqS7YMHBzGjcga8g15Vp56qabBmEJZS//biQzXq3uKolTUYbhlW/dt68OCgqg2N7JPhaHIYAdwd6PVI9wjUdlj2ycf79/RH+jwmTBIkdL7TiawLs5B+bjra/tMW6VOalLZ/tyHzwkxkXJAR2+/hgszQvzhJo3WtZhld73eB1/MHgm2U+knOGoBSSkWX+EjTC01ONctRQ9d7XUgsTkRcbpx/BZsNLaotoqmW4eZhjLSOIOPcDOR8Lgd9O/rgOX7mysbhokbWQPJIaHujDdZrrKF/eZJOrWu1ND3fNOwb9j3yqVyhCABA8eLx3cc5teeJh1vLKy2wrvV/+JLKkqBL1KF3e2+Ez2piWja0IPeKXHBaDtp4LTI/k4nWf7WqVp4aWYPOdzuRVJqk6vMSp9a1GuyNdgy3DIsA/oNP6QpFoJQOEw15sWVDS+Dh0ihkO2yDu8+NtFX/2wXIutaKllfUWy4r3ESXiPa325F3Vd7Jn1mvsaL11VbIYmzMlKSUomV9C6zXqneRBqrrcGt+qdlDJfoEpfSMiUSjIt0QTMu+BpJL+uXRF4/6XN3RPzGHyhSHfnMIBV8oOG2138wLM+FocuD4roC3eFHn8NOHkbYiDacuIZ9YnIiEggQc/bs66/iHO2vQ+W4nRJc45V2agwlW1+HkaHKg4+0OSfbJT5740ad3XwNK6REq0Uf2/WifM9ozCK2vtUJySWes/a8xalD+43JUrauCzxm0YY8KgwcH0f5mO+bdM++M1xb8eAEan2vEcHP4F+oMZ9bAM+BBzaM1qHxAvR2ZgtV1uMiijD337nHKPvluSmk38Cne12CULMgP2w/b24/961jUtgTOTifq/1iPygcrA35DpK1Mw8ylM1H7WG0Ezk4ZySOh6r4qzL93fsB1Fs2ZZsz5+hxVdxCaKkopDvzsAHI+n6PaOouh6jocGv/aKLp73PupRP8U6nc/0VmDU1FKRdElrq35ZY0nGm8RqExR/UA1Cm8qRHx+fNDfK7u7DL0f9aJvZ980np1y9X+sR0JRAjI/EzwVZr3GCl7Po+mFpvCWHaasQeemToy0jGDO7XPCcryxlNb1VDiaHDjy7BGv6BRvOPXZgmDXHJmurjIhRANgDoAyAHEAjAB+B+A2AA4ABwA0UkonPZJECEkAUAkg98Tx9QAEAG4AXQD2cXruNmOa8cfn/P0c80RXL6KUwtXlgv2wHYJDgOyVQWX/wiG8gUd8vn8d/4nueU8pRc2jNbA32LHs98sw0jyCkbYRSG4JkiCBcAS8gYfOokPinEQMtwyj6idVWPH0CiQUJEyoLMDf7bXX2+Hp90DySv41D/QceD0Pc5YZicWJk9pfse0/baj/Yz3O/tvZ8Nl9cDQ5ILpESF4JhBBwOg5asxYJxQkgPMHWm7ei/L5ypJ+TPuGyAnm9/HVcvv/yKR1jsGYQO7+9E2f9/iwklYW/N3BqXa94ZoUqvQF3nxtbbtji8tq8d8g++blTXyOEUErpGfc6qjUEhBA9gM/zRv48TsutFF1ikT5JLyTOSaS6BB3PG3iu9bVWQ9YlWS7BJoj2w3ZOGBa0GpPmsOyVt0oe6T0Ab1NKg472E0JyAFytTdCuphJdJAvyjLjcOFecNY7XmDQ8p+M4WZBlySPJznan6DjqMIKDg3DEbc40p6366yqd1hx8ZV0qUxzffRzHdx2Hrc4G22EbeD2PxDmJ0Cfr/Y+MEv9z5KJLhKPJAVenC/H58bCUWpA8PxkZ52eMe1FRSlH/h3q0vd4GnUUHZ4cT5hwzEvITwJt4/6Ovkn/SibffC9thG6hMoZ+phzAg4Oznz4Y5a/zUlu2wDT1bemCrt8FWZ4PkkWApscCYZgSn58Bp/AtiiB4RI60jGD46DFOGCZZSCyxzLci8IBOGGeNvTNL1fheq1lXBnGHGSNsIDDMNSJydCG289uTju5JXgs/hg73BDsEmwJxthrPdiaW/WYqZS6e+p+NUGwL7ETu2f307Ku6vwKyzZ035fMailOLwk4fRs6UHK/60QpVl9LyDXmz54haXp9/zc8kjPTT29WlrCAghuZyeuwPA7YnFicg4PyPOUmIhljmWM5azrn+y/rQBHsEujH5YaeemzpGRthEfFenvZZ/89Ohgx4m93i/QxGn+j4p0ReZFmZhROcNgKbUgLi9u3BaWyhTOdieGaofQ+HyjTEXKrXp2FXSW0ytEcAho+3cbWja0gDfwyDgvw39RlFpC7tQjukXYG+yw1dtwfNdxDFQPIPuSbFivsZ7RDRz9dujY1IHCGwsxc/FMJMxOGHdpMkopPH0e2OpsaPlnC2wHbVj57EokFJ7eM5C8Err+24WWV1rg7nUj86JMJM1NgmWuBaYME8bb60H2yXAcdcBWb8Ng9SC6P+xG6opUWNdakVKRcsbftv2nDQcfOYicK3KQfk46AtX1WKN13fleJzo3dmLhzxdOuWcw9vM0EYMHB7HrO7sw//vzx72tmSxKKWp/W4u+7X1Y/vRyVXZ8cve68dHNH7mEIeH3olv8fqDfIYSsCzRgGLaGgBBSpo3XPi6L8vLcy3KJ9TqrPj5vavc/9gY7jr501NOxsYNwGu490S3u1Bg0d+hn6OOLvlRkzroki2iMk9sifLRiujd3Y/Eji2EpscDT70H9H+rR9d8upK1Kg3WtFckLkse9aEJx9bjQ+lorjv3rGOKt8Sj5RglSKlIgOATsf3A/nJ1OrHhqBXSJk/t2aHurDYd+dQgV91UgfU06JI+EI385gtZXW5EwOwHWtVbMOnvWlLqgvmEf2t5oQ8v6FhCeoPgrxci8KBNUpDj89GG0vd6G5U8vn9RtCuDf23HHt3eg6OYiFN5YqNoofSCUUrS/2Y5DvzmEygcrMWtV+HsCgkPAgZ8dgKvThbOeOGvSdT2e/qp+7L5nt0scEX8qeaVfTPTvp9wQEEK0nI77IeHJvXO/PdeQc3nOpC/OYHzDPjS/3EyP/OUIyb0yF2V3l4Hjw3Nv1f5WO2p+VYPk8mQMHhhE7udzUXhTYdh3FpJ9Mjrf7UTtY7VIKkvC4KFBZJyXgbl3zsVU4zVQPYCq+6pgyjDB1eWCpcSCkjtKwj5llVKK47uO49CvD0Fn0cEz4IE5w4zyn5RjqlvOO9udqFpXBSpSVD5Yqep021HuPjf2P7Qf7h43Kh+shGWOJexl9HzUg/0P7Uf6uelhqeuxRLeI2t/Wetv+0+aWPNKXKKX/mcxxptQQEELmaUyaDYlzErMWPrzQbEpXd9nt4dZhVN9fDaIhqFxXGZZpn55+D6rvr8bwsWEs/sViVQaITiXYBFQ/WA1bnQ2Lfr4IKRUpUz6m5JFQ+3gtOt7uwIIfL1D14RXAP15x+I+H0fpaK+bdOw/Zn82eUq9pFJUpml9uRsMzDZh962wU3FAwod6B0lsDSina3/D3AqxrrSi+rXjCA7yhjPYChmqGUPlAJdTYf7O/qh97793rEl3iO6JTvI1SOhjqb8J+a8BpuC9zOu4P8/5vniH3itxAS6WrgkoUR/9xFEeePYLy+8qRcW7GpI81UD2A3ffsRu5luSi+vVj1xSlP1fVBFw7+/CCs11ox+9bZk76QXN0u7LhjBxIKEzD/+4Fz92qx1dlQdV8VEooS/PnwMF1MI20j2P/gfri6Xci7Kg+5V+QqegQ41GChb8SH9rfa0bK+5eTAZVJZEvKvy0fairSw3JI4mhxofqnZ0/5WOwFBJwXNsF5l5fKvzdeF44tL9sno/rAbTS80DTuaHD7JI91CKf230r8P62Ahr+fv1pg1D636yypjvFWdPGgotjobdnxrB+beNXdSOwX3be/D3h/txcKHFqo2hTQUz3EPtn99O1KXp2LuXXMn3BiMHBvBttu3oeCGAhR+sVClsxyf5JWw5949oD6Kxb9aHNau79ChIbSsb0HXB11IXZYK67VWJJUlBS0jUEMgCRLsDXa0/6cdHZs6MHPJTFivtWLGohmQvf7bteZXmuHp88C61orMz2TCnG2e0KrL3kEvju8+jqa/NQ0PHx2WqEz/IAvyU5TSDkJIAW/gv0kp/UpSWRIKvlAQN2PRjAllDKhEMdw6jI53OsSWl1t8AA77hn2/APA6pXRCq72ErSHg9fxdukTdQ2c/f7bJlBHZHXgcRx3Y/vXtmHvnXGR/Nlvx3x3fdRx7vr8HS3+zNCxd86kQ7AK2f2M7ZiycMaHGwNnhxNZbtqLkGyXIvTxX5bMcn+yTUXVfFQSbgKWPLw17z0qwCTjy1yM49q9jkDwS4nLikFiSCEupBXE5ceD1PDgth5bXWpB1URZcXS5/urfehpGWEZizzEg/Lx15V+YFHcsYOjSEg48cpI4mB6UyFRMKEtwplSmmpLlJWl2Szp/JOTVV3OiQB6oHRmx1Nl50ihxv4Pf7hn2PAfhXoId7TqwVeI02Qftt0SWW6RJ1PstcC00pT4lLKEwgvJEHr+MhSzJkrwzPgAdDNUPC4P5B93DzsInTckOU0jckt/QYpfTQZGMZllsDTst9SRunfXL1P1YbI90IjHI0ObDta9sU535HR6iX/HKJKvdtkyHYBXx868fIvCgTxV8J/eCM57gHH335IxTdVKTq46sTIYsy9nxvDwhHsPjRxarsY+BocuDjr36M2bfMhsagga3eBleXC5Ig+fcE0PonRRlmGvzp3hILEmYnTKiXUv9kva/phaYOyS3dA4ISbbx2FeFICigMFJQnhLhB4RTd4j5ZkHcB2AugeSIT4QghPIDZABbyBn4Zr+crABgppUYQiIQQN5Vpn8/h+wjAPgBVlFJVl3dS3BAQQop5A199zovnGCebJlLL4MFB7LxzJ9a8sgbG1OCj16JLxAfXfICyu8uQcd7kxxbU4DnuweYbNmPRI4swozJ4A0UpxY5v7oClxILSb5ZO4xmGJgkStn1lGzIvykTBDQWqlKG0rieLUorqddXerv92/cc34lsb9gKilKLRHUIIrzFr1pd+u1QfbY0AACTPT4b1Giv2P7Qf4zVstY/XIqUyJeoaAQAwzDRgwQ8XoPr+aoju4EsntP27Dd4BL+Z8TZ158FPB63hU/rQSDc80+PcyUMF4dR2OZw0IIZh/73w9b+Q/Swi5dMoHjDJTWqGI03LfjbfGF+Rflx+1TysW31YMd7cb7W+1B3z9+J7j6P6wG/P+78xHY6NF+pp0JM1LQt3v6wK+7u51o/bx2rCO0IdbXG4cZt86G9XrqlXb7zBYXYdrhSKNSYNFP19k4g3884SQ2N6T/kyTW6GIEFJMeLJu0S8Wmadj/7rJ4rQcKh+sxKFfH4K77/RlyUSXiOp11Sj/cXnUb5M+/3vz0fVeF/qrTl9wlVKK/Q/uR/51+UicnRihs1Om4IYC/5yAl5pVOf54dR0uMxfPRPbnsk0as+YZVQqIMiEbAo1Z81DxbcX6UA+2RANLiQXZn81G099Of7z12L+OwVJiUeVBknDTWXSY+525qP/D6d3cwf2DGGkfwexbZkfozJQjPEHF/RVo+HODajscBarrcK9QVPbdMj0IPksIib77sMmb+ApFhJAZsih/Lu/qvOjshwaQf30+2t9oP3mfPbruXMEX1Bm8UkPmZzLhbHPC0eQ4+bOWV1qQf21+1N4SjBVv9T+B2flep2pljK3rcO9roDFqYF1r1fBG/s6wHjiCJrVCEdGQr2Scl0HVeEhCLeZMM5LmJaFzk/8D2L+7H5yOQ3J5coTPTDlOyyH3ily0bPAvVuoZ8KB3Wy+yL1U+VyIaWNda0bJevQVXx9a1GqzXWLVUpjcRQqK/SzwFQRsCQgjP6bi7Cr5QoO4WsCo49QPYvL4Z1rXWsMyFn055V+WhY2MHfE4fjv3rGDLOz4j68Y2xZq2cBc9xj6pbtp1a12rsa2BKN2FG5QwZBDeE/eARMJmswRpjqtGYNDf2Bk3TVqRBsAk4vuc4+nf3T2jWYbQwphkxY9EMdL3XhWOvH4uaiUMTQXiCvCvzcOxfx1QrY7Su7Q121XZDLrixIE4bp71LlYNPvwlmDTismHWOyhvCq4RwBDOW+C8iS6llUstuRYOZS2fi+O7j8A37kDgnujMFwcxcNhODB0I+FDdpo3U9eFC9MmYsnAHRLRYSQsK/mkiUCNoQaOO15yTNTYrNKwj+UeXRDThjlaXU4t+Oe44l5m5tRiUWJWLk2Ihq2QPAX9e2OptquyHzBh7GWUY3gOidhKLcxLIGsiCXq7kfvNospRZ4+72q7jCrtsSiRLi6XEiYHX2zOZXiDTzMOWY4jjhC//IkjTaYau2GDADJC5I1ABapVsA0mVDWgBAyC0DUPFg0GYlFifCN+GK6R3Dim+iMNRVjjaXEouqA4XT0OpLnJ5s0Zs1K1QqIsGA9gpK43DhvrHZHAf/TcFSkMGXGbmMGYNLrAEaThMIEOJrV6xHwBh7GdCNqflWjWhkJRQkgGlKuWgHTZKJZA7M2bvxVaKOd5JbAG/iYvbcepYnXANG5IZBiGrMGkke9b2vA/3xA64ZWVY8PGbH9reI3oayBgdNF8YMFCkiCFDOz8MajMWqidmswpXg9D9mj7g7I4y0BH67jU0qnbx24aRbsSpFj/VuIEDLuI8mxgso05neopJQCKi8HSWWK7M+rN1/kxJOUsbGf+/gmlDXwSN7Y/hri9P7de2Kd6BJVWe1nOskeWfWFYWVBRv616uwqPHp8whGvagVMk4k+azDkHYzt96w1ayF5Jci+2G4MvIPemB/n8Nq8IXc+mnIZQ+qWIQwJAIFNtQIiLFhDUOPscJpi+SKSPP7BQsdR9Uarp4Oj0QFZit16AAD7YTsSi9WbGSnYBPgcPrS/GXhRmnCw1duo5JG2q1bANJlQ1oBSOsIb+N5Yvohs9TZo47Wq5q/VJtgEiE4Rnl5PpE9lSmx1Nqg5Oc1Wb0PinEQ0PKPOswYAMFA9MCJ75R2qFTB9JvasASFkTyxfRLZ6G0yZJtjr7JE+lUmz1dsQb42H/XDsvgfBJkCwC4jLUW8LM1u9TfWJY0O1Qxz8Kwp/IgVtCHzDvo+GDg7F7FeRrc6GlIoUDNWpugq0qmz1NiTPT4ajyRGzYx2j39ZqDnja6mywlFhUe9ZAsAnwjfg0ABpVKWB6TXiFov92vd8lx+IHUHSJOL77OHIuzYGzwwlXlyvSpzQpXe93IXVFKhJnJ6J3W2+kT2dSuj7owsylM1U7/mhdz1g4Q7VnDbo+6ILGoNk2kb0LotWEVyiilB4CRWPPRz2qnZRa2t9qh2WuBZJbwqxVs9Dyqnqr5Khl6NAQvANeGGYakHZOGppfVmchUDX5Rnzo2NiB5AX+Xs1I2wi8g96wzu8YrWvBJmC4eRjOTue4y8FPFKUUjc81On3DvlcIIfMJIUWEkExCSIzP7jjduBucEEKuT56f/PTZL5wdmQ0OJ4FSivcufQ+yIEOXqIPoEiHYBVz8wcXTusnpVO35/h4c33UchhQDZFGGu8eNNevXqHqvHW5HXzqKhmca/BuzUv9sT5/dB07PwVLi34nIUmpB8oJkRZucjjW2rt19bmhMGghDAsxZ5pPboiWVJsEy1wJOM/Frd/DgILZ/fTvVxGlGCEeoLMic5JF4WZDBm/h6yS19dGLHox2UUvVWYAmTSW15RgjR8wa+b/VLqxMitdnpRA1UD6B6XTXO+9d5J+9Lt31tG3Ivz0XWxVkRPjtlBLuA9z73Hs7/9/kndzeufawWsiRj3ndj45F4Sik+uOoDzP/BfMxcPPO0n7u73bDV207uTzhUM4S0FWmwXmtFcnmy4nkTY+t6dBNUSZDgaHScLGPo0BB8dh/yrvbvrGyYoXx9kb0/2ovE4kQU3VR02s+9g97R48sD1QMjg/sHtYQnB33DvkcAvEEpDV+3JIyCbYI67sIjlFIvb+CfbPhTw52LfrYo6ldnoZTiyF+O+NcoPGVwynqtFQ1PNyDjgoxJfStMt6MvHsWsc2adtsV53jV52PKFLSi6uQiGlKivCvRs8d9Sjt1fkhACU4YJpgzTyR2nBIeA9jfaUb2uGpyOg3WtFbmX5477rEiwugb8Oy4lzU3Cqcvs2Q7b0LqhFe9f8T5Sl6ei4AsFSJ4//oK2znYnerf2Yv7/zT/jNX2yHmkr0pC2Io0DkCAJErrf717a+Hzj8yPHRny8jv+97JN/RylVb+mkMAp5Vche+WfdH3YP926P/sGqjrc74O52I++avNN+nr4mHbokHRqfi/5BX3uDHS0bWlD6rdP3NTRnmpF7ZS4O/OxA1D9DITgEHPjZAcz/wXxF3+66BB0KvlCA814/D/PumYfuD7ux+YbN484BCVTX42UNLHMsKP9JOT7z9meQXJ6M3ffsxoFfHIDoCvzFTWWKqnVVKL6tWNF6ELyOR9bFWVjz8pr4s58/Oznzwsx7eQN/lBByWcg/nl4BswaKNkElhFygs+hev+CNC0xqTxWdLM9xDz5Y+wGW/2F5wJyyq9uFzTdsxso/rURCYXQ+4y/7ZGy5cQvyr88PuNW55JWw+frNKP5qMbIuit7bnH0/2QeNUYMFP1wwqb+nlKL9rXYc+vUhWK+xovi24tN6B6HqWgnBIaDm0RoM7B9A5brKM3ouR186is53OrHqL6tA+MmlPvur+rH33r0u0SW+IzrF26K5d6Con0wpfU8SpFcPPnIwKucVUEqx/6H9yLs6L+gHw5RuQuk3S1F1XxVkMTqzQEf+cgSGGQbkXJYT8HVez6PygUrUPFoDz0BUVgV6PurBQNUA5n5n7qSPQQhBzudycO76c2FvsGPzFzaf3FRVSV0roUvQYeFDCzHv/+Zh7w/3ouZXNScf93a2O9HwdAMqH6ycdCMAADMqZ+D8/5xvyv5c9mdP9A7WTPpgKlN8wyy5pG92vd/l6NjYEXX90uaXm+HqdKH4tvEnlORemQtdog51vwu8yWgkHd9zHM0vN6P8vvJxu9NJ85KQc3kOqn5cFXWTjJydTuz/6X5UrKsIy8rRhpkGLH1sKfKuysPHt34Me6N93LqezL4G6eek49xXz4X9iB17f7gXgl3A3h/sxexbZyMud+oZGo1RgwU/WKBf9vgyC2/i3ySEXD7lg05BsGcNFN0anHKQMt7Ab1/86OL4aNlHsP2tdtT9rg4r/7IS5szQm9EINgFbb92K7M9mR80+gkOHhrDjWzuw+NHFp42wByOLMnbfsxu8jseiny+a0rdWuHiOe7D1lq0o+EIB8q8L/+PAHZs6cODhA+A0HM7+29kB63o0azAZklfCnu/tge2wDTOXzkTlA5Vhf+rTVmfDx1/92CU6xZuoTF8L68EVCpY1mNAQOqX0kOSRLtjzvT3O7i3d4Tu7SWp7ow2HfnsIZ/3xLEWNAODfZHT5k8tx7F/HcOQvR1Q+w9AGDw5i57d3ouL+CkWNAABwGg6LH1kMwS5g34/2Rbxn4O514+Ovfoycz+eo0ggAQNaFWVjwgwUAAagY/k4pr+ex5FdLEJ8b7z++Cv1eS6kFK/+80sQb+b8RQj4T/hImb8K5NErpLskjrdl7717HsX8fo5EYwaaUoulvTaj/Q71/8G+CC3waU41Y+exKtL/ZjkO/ORSxMYPej3ux886dqHywEumr0yf0t7yex7LHl8Hn8mHX3bvgG/GpdJbjcxx1YOuXtyL3ityQt2ZTlXVxFubcPge77toVcMXiqT5rwGk5LH18KVydLjQ93xT6DybBMseC5X9YbuT1/D8JIWeOCKtv8lmDgH9ISClv4jfOXDRzRsW6CtOpOW81ubpd2P/gfgh2AYt/uVhxTyAQwSZgz7174BvxofKBymnLJvicPtT+tha9H/di0c8XIaUiZdLHkn0yah6tQc/HPaj4SQVSl6eG8UyDoxJF0wtNaHy+EWXfLUPOpYEHOMNeLqXYfc9uxOXEYe6dkx+QHI+z04ktN27BqmdXIT5fnYl0DX9qEBufa9wlOsVVEfk2HWPSDQEAEEIMvIH/OdGQr1X8pMKYeWFmGE/tdJRSHPvnMdQ9UYeCLxSg6OaisEwOopSi9bVW1D9Rj8IvFqLwS4WqTjrq29mH6geqMXPpTMz77rywrarTt6MP1Q9WI3VZKsq+WwY1V6EebhlG1X1V4A08KtZVTKkxngzPgAcfrv0Qyx5bhqR56uzN2bK+BW3/acOq51ap8nmQRRkfXvuhc6R15G5ZlJ8JewETNKWG4ORBCFnKm/j1yfOSU2bfOts8Y/GMsA20UImid1svml5ogugSUfmgOt/cri4Xqh+ohuAQUHRzETLOzQjrKshDh4Zw9B9HMVA1gPKflCNtRVrYjj3KN+LDod8cQt/2PhTdXITsz2aHdfkuZ4fTf4G80YaSr5cg7+q8iK2n2LGpAw1PN2D1S6tPrmBc/2R92J5ApDLFttu3Ie2sNBR9uSj0H0yCo8mBLTducUoeqZRS2qZKIWNM6lmDCRZgAMGXNSbNvdp4bUrhTYXm7M9lk8lu5e0d9OLYv4+hdUMrdBYdrGutyP5stqpLlFNK0fV+F1peacFwyzByr8hF3lV5MM2a3HL2oltE56ZOtKxvgWAXYL3airyr81Rfv2+gegDNLzWjb0cfMi/MhPUa66SXChttiFteacFQ3RByLs1B/vX5MKVHdol/Sil23bULMxbOQOEXCwFMLWsQiLPTic3Xb/Y/8zGJh6KUqH+yXjz64tE3fcO+K1QpYIxgWYOwNQSnFEQArNLEae6RBfkzicWJnpSKFHNSWZLGUmqBKdN0Rm+ByhQjbSMnH0Kx1dlgb7Aj49wMWNdakVQ2/VuzO4460LKhBR1vdyA+Lx6JpYmwlFiQNDcJcXlxZ3QXKaXw9HkwVDsEW70N9jo7Bg8NInl+MqxrrUhbnjbtaT7PcQ9a/9WK1ldboUvQwVL2vyf+EmcnBtwLQLALp9XD4IFBGFINyL82H5mfyQRviJ4nOAcPDGLfj/fh/H+ff9pDR+FUdV8V4q3xqvUKBIeAd85/xysLci6lVPV5/NPWEIwpdAaAJeCwSBuvXS0LcjmVqJk38CKn4yRQEFmQTbJP5nRJOiTNTfrf46llFky2NxFOolvE0KH/XdxDdUPw9HnA6ThoE7QghMDn9EH2yP7Ha0v9F5qlxIKksiQYUyO/s7wsyrDX2/0X94kLfLh1GJyWgzZeC07LQXJLJ+fdJ85JPNlgJM1NCsvEGjVQSrH5us0ovbMUacvTwnprMGro0BD23LsHF/znAtUa8n0/3ufu3NT5c0mQfqpKAadQ/dZgAieSBMAMwAhgtiZOs+GCNy8w6i2xs4mM6BLx0Zc+Qv51+bCUWfDxVz7Gyj+tRGJxYswsPS55JVQ/WO2/7brGir3f34uCGwqQ/bnsmNpHofWfrej5qAfLHlumWhmbb9iMObfPgVqT6Gz1Nmy9ZeuA5JbSKKXq7g0XxLQ/k0spHaKUdlBKGzUmzRUFXyjQxlIjAPj3wSv4QgG6N3fDXm/HjMoZsMyxxEwjAPjnIRTdVISu97ogeSQINgFZl2TFVCMA+OcWDFQPwNWj3nJ01rVWtGxQb5UrS4kF5iyzDsAlqhUSQkQfzpd80tqM8zKmPik9AtLXpGOgagDHdx1H+pqJTQaKFonFieC0HDo3dWLW2bNiYq2GsTRGDWYumYmBfQOTetZAidG6PrHtmSqyLs6K4w286rMNJ7obsuoIIfHUR+PVmrChNl2iDjqLDkOHhmApsUT6dCbNUmLB4IFB1ZcDV5Ol1AJbvQ0NT6uzr8FoXY8cG1Hl+ABgKbUQTs+tUq2A/5nYvgbToAJATH4LjUqYnQB3n1u12WfTwTLXgpG2kdhuCEossNXZ1C2jVN0yLCUWSC5pTqQWRY3kVbgwcU5iRAZGwkWfokdcblxMb78eb42Hz+6L7casxAJ7gx3FX1XvWQe1GwJdog7aeK0PgNqPxE54XwNVaeO1y61rrdGTlJ4EjuNi+rYA8D9oY8owxXTPTJeogy5Rh+zPqrctumWOv7FRk6XUQgGUq1nGhPc1UBvhyQwla8FFM0rphFbEjUZUotAmRufycxOhs+jgG1bvCUydRaf6E576ZD0PwKJqIUFE8mvA2PXfrggWP3VUolE1024yJEGCxhCTiZvTcDoOzevV2wSG03EBH30OJ97Ia+CfX6OaqMsaACAdb3dEsPgwia20+5koYv89ACAcQft/1NsWnXAEUHnZihNzONS+JqMuaxCdq29OAOEIZG90rRs4UdPxTTcd1H4PklcCp1f3cpHckgTArWohQUSsT0hl6tAmavF6+esA/KvLqLWJZbjUP1l/Mldd/LVigPgfGhn781h6H5kXZ0J0imf8HIj+9zL2fPUz9CefNxidXBTovxuebji5mlGo/x79G1e3CxqjJuzHPfXvB/YP6AA4T3TfVwM455S3uwXAZvi/0bec8lrQn1NKVwc4VsBt2ab9WYOTBfPkJ4U3Fv6k7O6ymB2p2v/wftgb7DjnhXNC/3KU6vmoB3u+twef2/G5mJoifSrRLWLjmo245KNLVNvfsvnlZtiP2FFxX4UqxweAdz/7rsPV6TqXUrpPtUKCiNytgYy9A1UDsblf+Qk+hw/DR4ejfueh8bi6XOB0HFwdsVsVjiMOxFnjVN3k1lZnU3XSlegW4e51GwEcUq2QcURyjGCfo8lhiOWLaLh5GLyRj+mLyFZngznbrPrMPDXZ6m2qz+dQuwzHkf9v79yD4qruOP49994FloUNBAKBQMJGEvKAEDDWPGpsxvqIo3bGqWnH1pqOo3amjo/xEa3WPOw0JlPfRqdT7dRHnEl8Rcda47MmRvJkCeEhyZKFAIFlE3YX2Oe95/76B5BGDe+92SVzPjP8A8z5nXt/53zP457z+3VDMSvNRBQ2zMgQxEwIiKgTDP6J2om0oAZ/ix9p840/3mokAw18qDyD8c75GK39LX5YZxkX3NZb7wXptNcwA8MQ0+NkkiJ927m3c0JOCU4dPAXrbCsyyzLRubcz1tUZE0FXEMGOIHJW5KCzonNCLnGIE9wH3JhcOnRm4/Ew4Gsjlx4dX3f0an7tC8MMDENMhUDtUZ9zvO7wT8QG6HzbiYIbC5B/XT5Ofn4Ske5IrKs0aprea0LeyjxkLcmCFuiLxDTR6PimA0mZSZg0a2wxGUfCgK+NItAewKnKUxKAtw0zMgyxPmD+Zbgr3N1VFbdJYs+Jv80PT7UH066ehqTMJGQty0LLR8YdZjECXdXR/F4zbKtsYBJDwU0FcG4zLviGUTi3O2FbZTOs/LN9bRTOt50qk9jrROQ3zMgwxFQIiEjnIf63xq2NE2qjoOndJuRflw/F3HcMw7bKBud254SaWrf/tx2W6ZYzoeFn3DADHV93IOyJyV7VmPC3+OGt82LaVcZ10h/6Otroqg7ndqfGg/w5QwyMkFjPCECc/tWxq0MyMtRUNFH9Kk7sOAHbTf8fhTLKMiApEjr3TIy9AiJC49bG7z1DQloCclbkoOmdpthVbJQ0vtWI6ddPP2c05mhwLl9Hm9ZPWsEYqyGi7wwzMgJiLwREHjD8rfLPlYGJMKLWPluL7OXZ34vsyxjDvLvn4fDGw2ciAcczze83Q4/oyL0i93u/L7q9CI1bGw2NxBMtPDUetO1sQ+GthYbZOJevo0m4K4zqTdVBtUe9xxADoyDmQgAAeljf4K31tp348ERcK4F7nxuu3S6U3F/yo79NXT4VGWUZqH2+NgY1GzmB9gDqXqhD+YbyHwVUseRbUHRHESrXVoJ4/LqChzkqH69EyYMlSMow5hr4UL6OFvYN9gBxeoWIKgwzMkLiQgiISNUC2qrqTdWhoCsmdy6GRfWrqFxXiYWPLxw0U1HJQyVo/7Id7gPu81y7kUFEsK+346LfXDRo2riZv54JJjM0vtV4nms3chr+3oCUghRMu8aYvYGR+Hq8tH3WBvd+92ke5GsMMTBK4kIIAICIqojTUwcfORiIVZrywSAiHNl8BFmLs5C9dPCchQnWBCx8bCHs6+yIeOPvc6JzmxNqt4pZqwfP2sMkhvJ15Tj66lH4jhkbkWcsnLafRvOOZpQ+WmrI3YiR+no8BF1B2NfbgzzAf0VEcTHyxY0QAH1LBF+D7+Chxw6FjAwdPVrqt9TDd9SH4vuLh/3fqcunYtqV01BxVwVUv7ERbUZD22dtOPrqUSzauGjYsGSWfAsWPLwAFX+sgL81Zl+0foSvwYf99+9H+V/KDVsSjMbXYyHsCWP373f79Yi+Ph6WBAPElRAQkar5tZWu3a46+wZ7zMWAiNDwjwac/OIklm5ZOuJU4/PumQfrbCv23r03LsSg/at2VG+sxpIXl4x44yvvmjwU3V6EPXfuiQsx8B3zoeKuCixYs8CQkXqsvh4N4a4+EQh3hV/mYb4p6gbGQcyuIQ8FY8yqWJTPsxZnFS96cpE5FlGCiQi1z9Si89tOLH15KZKmjG4EIk44vPEwvHVeLNmyxLBsusNx4qMTqH2mFkteWDKm8/jO7U40vNKApS8tNSQd/Ujoqu7Cvnv3oWRNCfKuzot6+eP19UgIuoLYtXpXINIV2cLDfA3FWceLSyEAAMaYWbEoO5KykpZdsukSy6TZxh0h/SH+Nj/s6+3QIzoWP7cYCZPGFmSViFD/Yj1aPmpB6WOlmHqZMbnzzoXao6Lm6Rq497mx+IXFsF409k7c8nELjmw+gjl/mHPmJOL5QNd0OF5zwPGmA+Ubyg15f9Hy9WAQEdo+bUPVE1VBPaKv42G+OaoGokTcCgHQn2Jdwm1ygvzsrNWzEmbfNttk5OyAdELTO02of6kehbcWovCWwqiE+Xbvd8O+zo7MRZkofqDY8CzPrm9dqNpQhexl2Zh/3/yoTHN7nD2oXFsJOUFG2boyWPIsUajp4HQ7ulH5eCVMVhPK1pYhOSc5quUb5euzCZ0Owb7OHjh16JS7f2NwX1QNRJG4FoIBGGP5ikXZmjQlqbz0T6WWzEsyo75j7Kn1oPrJagQ7g3TxExezKT+ZEtXyw6fDOPDIAfgafCh9uBS5P8+NemIUf6sf9Vvq0fFNB4rvK476RRk9oqPqr1Vo29mGojuKYLvJFvW1dMQbgWOrA41vNqLglwWYf998SFJ035PRvuYhjpaPW1DzdE2QOL3Mg/xRIorrGJ0TQgiAvtkBk9jvZLO8wWQ1TS68pdAy/frpbDzfeXmIo3VnKxyvOXoC7YGQrurPMxMrAMfNUy6dohfeUjhu0fG3+HF82/FI03tNuiRLB9Qe9ZAp1XQHgGTbKhtsq2wwZ489gjVxgmuPC443HOiq7gJj7LDO9U8lWbo91ZYqF95amJp7xfhEJ+wJo3lHs974ZmOQh3mb1qttU1KUO3VVz8q/Nh8zb545rtt/RARvjReOrQ60f9UOSZFatYD2TyVZWT3Bff0AEe0fc4HnkQkjBAOwPk9dpqQoD+qqfmXuilw9Y1GGOW1uGqyzhr4zrms6eo73wFvnRdfhrnDrzlaSZGm/2qNuBvDJQG56xlgqGH6rJCsPmVJNmXkr88zpxely2tw0mHPMQzaWSHcEvu988NZ5qWNXR6+n1sMYY6/wEH+RiM6c0mGM3SAny5tIozkZ5RnIXpaNtHlpmDRnEkyWwRs8ESHQGoCnzgNPjQet/24Fj/CI1qu9AeBBIvL0l28C8AtTqmkNEc3PvzZfTl+QnpA+Lx0pM1LA5MGfgYc4fEd98NZ54d7v9rv2uGTJJH2g9WpPEdGBs56hTEqQnmUSuyxlRgrLuSIH6fPTkTY3DYmTh94cDblD8NZ74antOyocdAV1PaLvJE73EtHR/vIvCF9PBCacEJwNYywHwI2mVNNyAJdqQW1acm5yILUglclmWZITZcYjnHiQ6/5Wv97b3JssJ8luJrGDarf6NYAdRDRoVoz+hriMyewqJUW5XA/rpWBInDR7UjgxI1GSk2SZyQw8yHXNr+m+Yz4p4o2YFItyVI/o3/Ag3wXgg6EOjfQ/w1rZLP9MMkk2LaAlJE5OhLXQCsWiQE6SQZzAg5xC7hC6Hd0MDCQlSB61R7VDxxtE9Now72kugOtNVtPlxOliPaJPTp2ZGjDnmCXFrEiSSWI8xHUtqFHP8R4KuoJmxaycIKIKrVfbDeBdIjo9RPlmAI9KCdJK2SzP4QGerCQrsM62wmQ1QTErICLwEEfEE6HuY92Mhzlks9yrBbRaUulDAJsGOueF6ut4ZkILwQ/pb5ClAGwAkgAkAoigL1Z8GwA7EfWM00Yu+vLTTe63IfeXHwBQB6BhqAY9gvITAVwH4KcALP0/KgA/gJMA3ieiunE8Ahhj6ejLRj0VfZl1TOjLMxEC4ABwZDyx8/o71QoAV6EvhZcFfalUAgBOA/gPgD3j+YR2Ifg6nrighEAgEIyNuDpZKBAIYoMQAoFAIIRAIBAIIRAIBBBCIBAIIIRAIBBACIFAIIAQAoFAACEEAoEAQggEAgGEEAgEAgghEAgEEEIgEAgghEAgEEAIgUAgAPA/k6G53MuOA6AAAAAASUVORK5CYII=\" alt=\"relaxed\" />\n    </div>\n    </div>"
     },
     "metadata": {},
     "output_type": "display_data"
    }
   ],
   "source": [
    "import base64\n",
    "from ase.io import write\n",
    "from ase.build import make_supercell\n",
    "from IPython.display import HTML\n",
    "import io\n",
    "\n",
    "def visualize_material_base64(material, title: str, rotation: str = '0x', number_of_repetitions: int = 3):\n",
    "    \"\"\"\n",
    "    Returns an HTML string with a Base64-encoded image for visualization,\n",
    "    including the name of the file, positioned horizontally.\n",
    "    \"\"\"\n",
    "    # Set the number of unit cell repetition for the structure\n",
    "    n = number_of_repetitions\n",
    "    material_repeat = make_supercell(material, [[n,0,0],[0,n,0],[0,0,1]])\n",
    "    text = f\"{material.symbols} - {title}\"\n",
    "\n",
    "    # Write image to a buffer to display in HTML\n",
    "    buf = io.BytesIO()\n",
    "    write(buf, material_repeat, format='png', rotation=rotation)\n",
    "    buf.seek(0)\n",
    "    img_str = base64.b64encode(buf.read()).decode('utf-8')\n",
    "    html_str = f'''\n",
    "    <div style=\"display: inline-block; margin: 10px; vertical-align: top;\">\n",
    "        <p>{text}</p>\n",
    "        <img src=\"data:image/png;base64,{img_str}\" alt=\"{title}\" />\n",
    "    </div>\n",
    "    '''\n",
    "    return html_str\n",
    "\n",
    "html_original = visualize_material_base64(ase_original_interface, \"original\", \"-90x\")\n",
    "html_relaxed = visualize_material_base64(ase_final_interface, \"relaxed\", \"-90x\")\n",
    "\n",
    "# Display the interfaces before and after relaxation\n",
    "html_content = f'<div style=\"display: flex;\">{html_original}{html_relaxed}</div>'\n",
    "display(HTML(html_content))\n"
   ]
  },
  {
   "cell_type": "markdown",
   "metadata": {},
   "source": [
    "### 7.3. Calculate energy energy using matgl M3GNet"
   ]
  },
  {
   "cell_type": "code",
   "execution_count": 29,
   "metadata": {
    "ExecuteTime": {
     "end_time": "2024-02-27T01:05:15.648466Z",
     "start_time": "2024-02-27T01:05:13.874271Z"
    }
   },
   "outputs": [
    {
     "name": "stdout",
     "output_type": "stream",
     "text": [
      "5.240839333541911\n",
      "8\n",
      "8\n",
      "8\n",
      "Relaxed interface energy: -22.6167 eV\n",
      "Original Substrate energy: -21.9559 eV\n",
      "Original Layer energy: -21.9559 eV\n",
      "Original Delta: 21.2952 eV\n",
      "Original Delta per area: 4.0633 eV/Ang^2\n",
      "Relaxed Substrate energy: -22.6167 eV\n",
      "Relaxed Layer energy: -22.6167 eV\n",
      "Relaxed Delta: 22.6167 eV\n",
      "Relaxed Delta per area: 4.3155 eV/Ang^2\n",
      "Effective relaxed Delta per area: 2.1577 eV/Ang^2\n",
      "Ni  C \n",
      " 1.0000000000000000\n",
      "     2.4600000000000000    0.0000000000000000    0.0000000000000002\n",
      "     1.2300000000000002    2.1304224933097191    0.0000000000000002\n",
      "     0.0000000000000000    0.0000000000000000   33.0429079454110308\n",
      " Ni  C  \n",
      "   6   2\n",
      "Cartesian\n",
      "  1.2299999965927602  0.7101356590757689  0.1082409558238410\n",
      "  3.6900000025205282  2.1304260310110439  1.8208350710495254\n",
      "  2.4599999999999995  1.4202809848112103  3.8893935390655208\n",
      "  1.2299999999999989  0.7101424670375114  6.0240480438373876\n",
      "  3.6899999661009120  2.1306741113686600  8.1084071103520241\n",
      "  2.4599420326413930  1.4286656043091754 10.3349990972140962\n",
      "  1.2452352252368908  2.1177258847786531 12.9852201210506859\n",
      "  1.2195277727360807  0.6999972547012578 12.8772849659314357\n",
      "\n",
      "Ni  C \n",
      " 1.0000000000000000\n",
      "     2.4600000000000000    0.0000000000000000    0.0000000000000002\n",
      "     1.2300000000000002    2.1304224933097191    0.0000000000000002\n",
      "     0.0000000000000000    0.0000000000000000   33.0429079454110308\n",
      " Ni  C  \n",
      "   6   2\n",
      "Cartesian\n",
      "  1.2299999965927602  0.7101356590757689  0.1082409558238410\n",
      "  3.6900000025205282  2.1304260310110439  1.8208350710495254\n",
      "  2.4599999999999995  1.4202809848112103  3.8893935390655208\n",
      "  1.2299999999999989  0.7101424670375114  6.0240480438373876\n",
      "  3.6899999661009120  2.1306741113686600  8.1084071103520241\n",
      "  2.4599420326413930  1.4286656043091754 10.3349990972140962\n",
      "  1.2452352252368908  2.1177258847786531 12.9852201210506859\n",
      "  1.2195277727360807  0.6999972547012578 12.8772849659314357\n",
      "\n",
      "Ni  C \n",
      " 1.0000000000000000\n",
      "     2.4600000000000000    0.0000000000000000    0.0000000000000002\n",
      "     1.2300000000000002    2.1304224933097191    0.0000000000000002\n",
      "     0.0000000000000000    0.0000000000000000   33.0429079454110308\n",
      " Ni  C  \n",
      "   6   2\n",
      "Cartesian\n",
      "  1.2299999965927602  0.7101356590757689  0.1082409558238410\n",
      "  3.6900000025205282  2.1304260310110439  1.8208350710495254\n",
      "  2.4599999999999995  1.4202809848112103  3.8893935390655208\n",
      "  1.2299999999999989  0.7101424670375114  6.0240480438373876\n",
      "  3.6899999661009120  2.1306741113686600  8.1084071103520241\n",
      "  2.4599420326413930  1.4286656043091754 10.3349990972140962\n",
      "  1.2452352252368908  2.1177258847786531 12.9852201210506859\n",
      "  1.2195277727360807  0.6999972547012578 12.8772849659314357\n",
      "\n",
      "Ni  C \n",
      " 1.0000000000000000\n",
      "     2.4600000000000000    0.0000000000000000    0.0000000000000002\n",
      "     1.2300000000000002    2.1304224933097191    0.0000000000000002\n",
      "     0.0000000000000000    0.0000000000000000   33.0429079454110308\n",
      " Ni  C  \n",
      "   6   2\n",
      "Cartesian\n",
      "  1.2299999999999998  0.7101408311032396  0.0000000000000001\n",
      "  3.6899999999999995  2.1304224933097187  2.0085815890822065\n",
      "  2.4599999999999995  1.4202816622064791  4.0171631781644122\n",
      "  1.2299999999999991  0.7101408311032391  6.0257447672466178\n",
      "  3.6899999999999986  2.1304224933097182  8.0343263563288261\n",
      "  2.4599999999999969  1.4202816622064762 10.0429079454110326\n",
      "  1.2300000000000026  2.1304224933097147 13.0429079454110326\n",
      "  1.2299987700000026  0.7101401209624039 13.0429079454110326\n",
      "\n",
      "Ni  C \n",
      " 1.0000000000000000\n",
      "     2.4600000000000000    0.0000000000000000    0.0000000000000002\n",
      "     1.2300000000000002    2.1304224933097191    0.0000000000000002\n",
      "     0.0000000000000000    0.0000000000000000   33.0429079454110308\n",
      " Ni  C  \n",
      "   6   2\n",
      "Cartesian\n",
      "  1.2299999999999998  0.7101408311032396  0.0000000000000001\n",
      "  3.6899999999999995  2.1304224933097187  2.0085815890822065\n",
      "  2.4599999999999995  1.4202816622064791  4.0171631781644122\n",
      "  1.2299999999999991  0.7101408311032391  6.0257447672466178\n",
      "  3.6899999999999986  2.1304224933097182  8.0343263563288261\n",
      "  2.4599999999999969  1.4202816622064762 10.0429079454110326\n",
      "  1.2300000000000026  2.1304224933097147 13.0429079454110326\n",
      "  1.2299987700000026  0.7101401209624039 13.0429079454110326\n"
     ]
    }
   ],
   "source": [
    "substrate_relaxed_interface = ase_final_interface.copy()\n",
    "layer_relaxed_interface = ase_final_interface.copy()\n",
    "substrate_original_interface = ase_original_interface.copy()\n",
    "layer_original_interface = ase_original_interface.copy()\n",
    "\n",
    "# For original interface\n",
    "original_tags = ase_original_interface.get_tags()\n",
    "original_substrate = ase_original_interface[original_tags == 0]\n",
    "original_layer = ase_original_interface[original_tags == 1]\n",
    "\n",
    "# For relaxed interface\n",
    "relaxed_tags = ase_final_interface.get_tags()\n",
    "relaxed_substrate = ase_final_interface[relaxed_tags == 0]\n",
    "relaxed_layer = ase_final_interface[relaxed_tags == 1]\n",
    "\n",
    "#set EMT calculator\n",
    "substrate_relaxed_interface.set_calculator(calculator)\n",
    "layer_relaxed_interface.set_calculator(calculator)\n",
    "substrate_original_interface.set_calculator(calculator)\n",
    "layer_original_interface.set_calculator(calculator)\n",
    "\n",
    "original_substrate_energy = substrate_original_interface.get_total_energy()\n",
    "original_layer_energy = layer_original_interface.get_total_energy()\n",
    "relaxed_substrate_energy = substrate_relaxed_interface.get_total_energy()\n",
    "relaxed_layer_energy = layer_relaxed_interface.get_total_energy()\n",
    "\n",
    "delta_original = relaxed_energy - original_substrate_energy - original_layer_energy\n",
    "delta_relaxed = relaxed_energy - relaxed_substrate_energy - relaxed_layer_energy\n",
    "\n",
    "# calculate area of interface\n",
    "area = ase_original_interface.get_volume() / ase_original_interface.cell[2, 2]\n",
    "print(area)\n",
    "\n",
    "effective_delta_relaxed = (relaxed_energy * ase_final_interface.get_global_number_of_atoms() -\n",
    "                           substrate_relaxed_interface.get_global_number_of_atoms() * relaxed_substrate_energy -\n",
    "                           layer_relaxed_interface.get_global_number_of_atoms() * relaxed_layer_energy)/(2 * area * ase_final_interface.get_global_number_of_atoms())\n",
    "print(ase_final_interface.get_global_number_of_atoms())\n",
    "print(substrate_relaxed_interface.get_global_number_of_atoms())\n",
    "print(layer_relaxed_interface.get_global_number_of_atoms())\n",
    "# print(f\"Original interface energy: {ase_original_interface.get_total_energy():.4f} eV\")\n",
    "print(f\"Relaxed interface energy: {relaxed_energy:.4f} eV\")\n",
    "print(f\"Original Substrate energy: {original_substrate_energy:.4f} eV\")\n",
    "print(f\"Original Layer energy: {original_layer_energy:.4f} eV\")\n",
    "print(f\"Original Delta: {delta_original:.4f} eV\")\n",
    "print(f\"Original Delta per area: {delta_original / area:.4f} eV/Ang^2\")\n",
    "print(f\"Relaxed Substrate energy: {relaxed_substrate_energy:.4f} eV\")\n",
    "print(f\"Relaxed Layer energy: {relaxed_layer_energy:.4f} eV\")\n",
    "print(f\"Relaxed Delta: {delta_relaxed:.4f} eV\")\n",
    "print(f\"Relaxed Delta per area: {delta_relaxed / area:.4f} eV/Ang^2\")\n",
    "print(f\"Effective relaxed Delta per area: {effective_delta_relaxed:.4f} eV/Ang^2\")\n",
    "\n",
    "\n",
    "print(ase_to_poscar(ase_final_interface))\n",
    "print(ase_to_poscar(substrate_relaxed_interface))\n",
    "print(ase_to_poscar(layer_relaxed_interface))\n",
    "print(ase_to_poscar(substrate_original_interface))\n",
    "print(ase_to_poscar(layer_original_interface))"
   ]
  },
  {
   "cell_type": "markdown",
   "metadata": {
    "collapsed": false
   },
   "source": [
    "## References\n",
    "\n",
    "[1] ASE alignn calculator relaxation example: https://github.com/usnistgov/alignn?tab=readme-ov-file#alignnff \n",
    "[2] Plotly 3D molecular visualization: https://dash.plotly.com/dash-bio/molecule3dviewer"
   ]
  }
 ],
 "metadata": {
  "kernelspec": {
   "display_name": ".venv",
   "language": "python",
   "name": "python3"
  },
  "language_info": {
   "codemirror_mode": {
    "name": "ipython",
    "version": 3
   },
   "file_extension": ".py",
   "mimetype": "text/x-python",
   "name": "python",
   "nbconvert_exporter": "python",
   "pygments_lexer": "ipython3",
   "version": "3.11.7"
  },
  "widgets": {
   "application/vnd.jupyter.widget-state+json": {
    "state": {},
    "version_major": 2,
    "version_minor": 0
   }
  }
 },
 "nbformat": 4,
 "nbformat_minor": 4
}
