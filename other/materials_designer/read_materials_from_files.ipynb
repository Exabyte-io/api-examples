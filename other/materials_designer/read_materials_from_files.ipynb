{
 "cells": [
  {
   "cell_type": "code",
   "execution_count": null,
   "metadata": {},
   "outputs": [],
   "source": [
    "from jupyterlite.utils import install_packages\n",
    "\n",
    "await install_packages(\"read_materials_from_files.ipynb\")"
   ]
  },
  {
   "cell_type": "code",
   "execution_count": null,
   "metadata": {},
   "outputs": [],
   "source": [
    "import ipywidgets as widgets\n",
    "from IPython.display import display\n",
    "\n",
    "uploader = widgets.FileUpload(\n",
    "    accept='',  # Specify file types, e.g., '.txt,.pdf,.png,.jpg,.jpeg'\n",
    "    multiple=True  # Allow multiple files to be selected\n",
    ")\n",
    "display(uploader)\n"
   ]
  },
  {
   "cell_type": "code",
   "execution_count": null,
   "metadata": {},
   "outputs": [],
   "source": [
    "import os\n",
    "\n",
    "def handle_uploads(uploader):\n",
    "    uploaded_files = uploader.value\n",
    "    for filename, file_info in uploaded_files.items():\n",
    "        with open(os.path.join('user_uploads', filename), 'wb') as f:\n",
    "            f.write(file_info['content'])\n",
    "        print(f\"File {filename} saved.\")\n",
    "\n",
    "# Assuming 'user_uploads' folder exists or creating it in-memory/virtual FS if possible\n",
    "handle_uploads(uploader)\n"
   ]
  },
  {
   "cell_type": "code",
   "execution_count": null,
   "metadata": {},
   "outputs": [],
   "source": [
    "from ase.io import read\n",
    "from io import BytesIO\n",
    "\n",
    "def detect_format_and_display(files):\n",
    "    for filename, file_info in files.items():\n",
    "        file_bytes = BytesIO(file_info['content'])\n",
    "        try:\n",
    "            atoms = read(file_bytes, format=None)  # Let ASE detect the format\n",
    "            print(f\"File {filename} detected as format: {atoms.get_format()}\")\n",
    "        except Exception as e:\n",
    "            print(f\"Could not detect format for {filename}: {e}\")\n",
    "\n",
    "detect_format_and_display(uploader.value)\n"
   ]
  }
 ],
 "metadata": {
  "language_info": {
   "name": "python"
  }
 },
 "nbformat": 4,
 "nbformat_minor": 2
}
