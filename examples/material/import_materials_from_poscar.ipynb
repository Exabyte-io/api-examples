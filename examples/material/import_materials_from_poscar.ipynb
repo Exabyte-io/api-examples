version https://git-lfs.github.com/spec/v1
oid sha256:5545ca1fecdabfc995e6d2814965af42444ee99997ba48fe45aaa3f37e8bb387
size 11661
