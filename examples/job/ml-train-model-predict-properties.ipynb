version https://git-lfs.github.com/spec/v1
oid sha256:51fa8d106146c0a4ecb0c42848457eaba2d846873ab7f36b88665840a412c8e2
size 55949
