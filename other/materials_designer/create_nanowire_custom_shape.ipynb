{
 "cells": [
  {
   "cell_type": "markdown",
   "id": "0",
   "metadata": {},
   "source": [
    "# Create a nanowire with a custom cross-section shape\n",
    "\n",
    "Create a nanowire from original material by creating a slab (with specific Miller indices) and cutting a custom shape along its Z axis, then, optionally, rotating to align along X axis.\n",
    "\n",
    "<h2 style=\"color:green\">Usage</h2>\n",
    "\n",
    "1. Make sure to select Input Materials (in the outer runtime) before running the notebook.\n",
    "1. Set notebook parameters in cell 1.1. below (or use the default values).\n",
    "1. Click “Run” > “Run All” to run all cells. \n",
    "1. Scroll down to view results. "
   ]
  },
  {
   "cell_type": "markdown",
   "id": "1",
   "metadata": {},
   "source": [
    "## 1. Prepare the Environment"
   ]
  },
  {
   "cell_type": "markdown",
   "id": "2",
   "metadata": {},
   "source": [
    "### 1.1. Install Packages\n",
    "The step executes only in Pyodide environment. For other environments, the packages should be installed via `pip install` (see [README](../../README.ipynb))."
   ]
  },
  {
   "cell_type": "code",
   "execution_count": null,
   "id": "3",
   "metadata": {},
   "outputs": [],
   "source": [
    "import sys\n",
    "\n",
    "if sys.platform == \"emscripten\":\n",
    "    import micropip\n",
    "  \n",
    "    await micropip.install(\"mat3ra-api-examples\", deps=False)\n",
    "    await micropip.install('mat3ra-utils')\n",
    "    from mat3ra.utils.jupyterlite.packages import install_packages\n",
    "    await install_packages(\"\")"
   ]
  },
  {
   "cell_type": "markdown",
   "id": "4",
   "metadata": {},
   "source": [
    "### 1.2. Set up transformation parameters "
   ]
  },
  {
   "cell_type": "code",
   "execution_count": null,
   "id": "5",
   "metadata": {},
   "outputs": [],
   "source": [
    "from typing import List\n",
    "\n",
    "# Cross-section shape parameters\n",
    "CENTER_COORDINATE = [0.5, 0.5, 0.5] # Center of the cylinder in units specified by flag below\n",
    "MAJOR_RADIUS = 0.25 # Cylinder wire radius in units specified by the flag below\n",
    "MINOR_RADIUS = 0.1 # Cylinder wire radius in units specified by the flag below\n",
    "USE_CARTESIAN_COORDINATES = False # Flag to use Cartesian coordinates for the center and radii\n",
    "\n",
    "# Wire parameters \n",
    "MILLER_INDICES= (0,0,1)  # Miller indices of the nanowire direction\n",
    "SUPERCELL_MATRIX = [[9, 0, 0], [0, 9, 0], [0, 0, 30]] # Supercell matrix to cut the cylinder from\n",
    "VACUUM = 10.0 # Vacuum thickness on the sides in Angstroms\n",
    "ALIGN_ALONG_X = True\n",
    "\n",
    "import numpy as np\n",
    "from mat3ra.made.tools.helpers import CoordinateCondition\n",
    "\n",
    "# Custom Coordinate Condition for a hollow cylinder shape\n",
    "class CustomCoordinateCondition(CoordinateCondition):\n",
    "    center: List[float] = [0.5, 0.5, 0.5]\n",
    "    major_radius: float = 0.5\n",
    "    minor_radius: float = 0.2\n",
    "\n",
    "    def condition(self, coordinate: List[float]) -> bool:\n",
    "        coord = np.array(coordinate)\n",
    "        # Calculate the distance from the center in the xy-plane\n",
    "        xy_distance = np.linalg.norm(coord[:2] - self.center[:2])\n",
    "        # Calculate the distance from the torus surface\n",
    "        distance_to_torus = np.sqrt((xy_distance - self.major_radius) ** 2 + (coord[2] - self.center[2]) ** 2)\n",
    "        return distance_to_torus <= self.minor_radius\n",
    "condition = CustomCoordinateCondition(center=CENTER_COORDINATE, major_radius=MAJOR_RADIUS, minor_radius=MINOR_RADIUS).condition"
   ]
  },
  {
   "cell_type": "markdown",
   "id": "6",
   "metadata": {},
   "source": [
    "### 1.3. Get input materials"
   ]
  },
  {
   "cell_type": "code",
   "execution_count": null,
   "id": "7",
   "metadata": {},
   "outputs": [],
   "source": [
    "from utils.jupyterlite import get_materials\n",
    "\n",
    "materials = get_materials(globals())\n",
    "material = materials[0] "
   ]
  },
  {
   "cell_type": "markdown",
   "id": "8",
   "metadata": {},
   "source": [
    "### 1.4. Preview the material"
   ]
  },
  {
   "cell_type": "code",
   "execution_count": null,
   "id": "9",
   "metadata": {},
   "outputs": [],
   "source": [
    "from utils.visualize import visualize_materials as visualize\n",
    "visualize(material, repetitions=[3,3,3], rotation=\"0x\")\n",
    "visualize(material, repetitions=[3,3,3], rotation=\"-90x\")"
   ]
  },
  {
   "cell_type": "markdown",
   "id": "10",
   "metadata": {},
   "source": [
    "## 2. Create nanowire\n",
    "### 2.1. Create a slab and cut a cylinder"
   ]
  },
  {
   "cell_type": "code",
   "execution_count": null,
   "id": "11",
   "metadata": {},
   "outputs": [],
   "source": [
    "from mat3ra.made.tools.helpers import create_supercell\n",
    "from mat3ra.made.tools.modify import  add_vacuum_sides, filter_by_condition_on_coordinates\n",
    "from mat3ra.made.tools.helpers import create_slab\n",
    "\n",
    "slab_unit_cell = create_slab(\n",
    "    crystal=material,\n",
    "    miller_indices=MILLER_INDICES,\n",
    "    number_of_layers=1,\n",
    "    vacuum=0,\n",
    "    use_orthogonal_c=True,\n",
    ")\n",
    "\n",
    "supercell = create_supercell(slab_unit_cell, supercell_matrix=SUPERCELL_MATRIX)\n",
    "nanowire_z = filter_by_condition_on_coordinates(supercell, condition=condition, use_cartesian_coordinates=USE_CARTESIAN_COORDINATES)\n",
    "nanowire_z = add_vacuum_sides(nanowire_z, vacuum=VACUUM, on_x=True, on_y=True)    "
   ]
  },
  {
   "cell_type": "markdown",
   "id": "12",
   "metadata": {},
   "source": [
    "### 2.2. Rotate the nanowire to align along X axis"
   ]
  },
  {
   "cell_type": "code",
   "execution_count": null,
   "id": "13",
   "metadata": {},
   "outputs": [],
   "source": [
    "rotate_90_degree_matrix = [[0, 0, 1], [0, 1, 0], [-1, 0, 0]]\n",
    "nanowire_x = create_supercell(nanowire_z, supercell_matrix=rotate_90_degree_matrix)\n",
    "nanowire = nanowire_x if ALIGN_ALONG_X else nanowire_z"
   ]
  },
  {
   "cell_type": "markdown",
   "id": "14",
   "metadata": {},
   "source": [
    "## 3. Visualize the result"
   ]
  },
  {
   "cell_type": "code",
   "execution_count": null,
   "id": "15",
   "metadata": {},
   "outputs": [],
   "source": [
    "visualize(nanowire, repetitions=[1, 1, 1], rotation=\"0x\")\n",
    "visualize(nanowire, repetitions=[1, 1, 1], rotation=\"-90x\")\n",
    "visualize(nanowire, repetitions=[1, 1, 1], rotation=\"-90y\")"
   ]
  },
  {
   "cell_type": "markdown",
   "id": "16",
   "metadata": {},
   "source": [
    "# 4. Pass material to the outside runtime"
   ]
  },
  {
   "cell_type": "code",
   "execution_count": null,
   "id": "17",
   "metadata": {},
   "outputs": [],
   "source": [
    "from utils.jupyterlite import set_materials\n",
    "set_materials(nanowire)"
   ]
  }
 ],
 "metadata": {
  "kernelspec": {
   "display_name": "Python 3",
   "language": "python",
   "name": "python3"
  },
  "language_info": {
   "codemirror_mode": {
    "name": "ipython",
    "version": 2
   },
   "file_extension": ".py",
   "mimetype": "text/x-python",
   "name": "python",
   "nbconvert_exporter": "python",
   "pygments_lexer": "ipython2",
   "version": "2.7.6"
  }
 },
 "nbformat": 4,
 "nbformat_minor": 5
}
