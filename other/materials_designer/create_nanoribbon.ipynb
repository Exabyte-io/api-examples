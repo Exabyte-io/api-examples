{
 "cells": [
  {
   "cell_type": "markdown",
   "source": [
    "# Create a Nanoribbon of a 2D material\n",
    "\n",
    "Create a nanoribbon of a 2D material with Hexagonal lattice using the `NanoribbonBuilder` tool. \n",
    "\n",
    "<h2 style=\"color:green\">Usage</h2>\n",
    "\n",
    "1. Make sure to select Input Materials (in the outer runtime) before running the notebook.\n",
    "1. Set nanoribbon parameters in cell 1.1. below (or use the default values).\n",
    "1. Click “Run” > “Run All” to run all cells. \n",
    "1. Scroll down to view results. \n",
    "\n",
    "## Summary\n",
    "1. Prepare the Environment: Set up the notebook and install packages, preview the input materials\n",
    "1. Create the Nanoribbon: Set nanoribbon parameters and create the nanoribbon\n",
    "2. Visualize the Perturbed Material\n",
    "\n",
    "## Notes\n",
    "\n",
    "1. For more information, see [Introduction](Introduction.ipynb)\n"
   ],
   "metadata": {
    "collapsed": false
   },
   "id": "367a698b29e22bd7"
  },
  {
   "cell_type": "markdown",
   "source": [
    "## 1. Prepare the Environment\n",
    "### 1.1. Set up nanoribbon parameters "
   ],
   "metadata": {
    "collapsed": false
   },
   "id": "193a4e6a78fd5bd7"
  },
  {
   "cell_type": "code",
   "outputs": [],
   "source": [
    "# Widths and lengths are in number of unit cells\n",
    "WIDTH = 3\n",
    "VACUUM_WIDTH = 2\n",
    "LENGTH = 10\n",
    "VACUUM_LENGTH = 0\n",
    "EDGE_TYPE = \"zigzag\" # \"zigzag\" or \"armchair\""
   ],
   "metadata": {
    "collapsed": false
   },
   "id": "a40d7b697c413113",
   "execution_count": null
  },
  {
   "cell_type": "markdown",
   "source": [
    "### 1.2. Install Packages\n",
    "The step executes only in Pyodide environment. For other environments, the packages should be installed via `pip install` (see [README](../../README.ipynb))."
   ],
   "metadata": {
    "collapsed": false
   },
   "id": "49c9f5022d50517e"
  },
  {
   "cell_type": "code",
   "outputs": [],
   "source": [
    "import sys\n",
    "\n",
    "if sys.platform == \"emscripten\":\n",
    "    import micropip\n",
    "    await micropip.install('mat3ra-api-examples', deps=False)\n",
    "    from utils.jupyterlite import install_packages\n",
    "    await install_packages(\"\", \"../../config.yml\")"
   ],
   "metadata": {
    "collapsed": false
   },
   "id": "c6d9f8e57bef2f91",
   "execution_count": null
  },
  {
   "cell_type": "markdown",
   "source": [
    "### 1.3. Get input materials\n",
    "Materials are loaded with `get_data()`. The first material is assigned as substrate and the second as film."
   ],
   "metadata": {
    "collapsed": false
   },
   "id": "edf02101e27a2742"
  },
  {
   "cell_type": "code",
   "outputs": [],
   "source": [
    "from mat3ra.made.material import Material\n",
    "from utils.jupyterlite import get_data\n",
    "\n",
    "# Get the list of input materials and load them into `materials_in` variable\n",
    "get_data(\"materials_in\", globals())\n",
    "materials = list(map(Material, globals()[\"materials_in\"]))"
   ],
   "metadata": {
    "collapsed": false
   },
   "id": "e0c53233ce728cc1",
   "execution_count": null
  },
  {
   "cell_type": "markdown",
   "source": [
    "### 1.4. Preview Material"
   ],
   "metadata": {
    "collapsed": false
   },
   "id": "cf29b7f6fe114d8f"
  },
  {
   "cell_type": "code",
   "outputs": [],
   "source": [
    "from utils.visualize import visualize_materials as visualize\n",
    "\n",
    "material = materials[2]\n",
    "visualize(material, repetitions=[3, 3, 1], rotation=\"0x\")"
   ],
   "metadata": {
    "collapsed": false
   },
   "id": "897ba7aa4e402d24",
   "execution_count": null
  },
  {
   "cell_type": "markdown",
   "source": [
    "## 2. Create the Nanoribbon\n",
    "### 2.1. Set nanoribbon parameters"
   ],
   "metadata": {
    "collapsed": false
   },
   "id": "39a93c4635762a83"
  },
  {
   "cell_type": "code",
   "outputs": [],
   "source": [
    "from mat3ra.made.tools.build.nanoribbon import NanoribbonBuilder, NanoribbonConfiguration\n",
    "\n",
    "nanoribbon_configuration = NanoribbonConfiguration(\n",
    "    material=material,\n",
    "    width=WIDTH,\n",
    "    vacuum_width=VACUUM_WIDTH,\n",
    "    length=LENGTH,\n",
    "    vacuum_length=VACUUM_LENGTH,\n",
    "    edge_type=EDGE_TYPE\n",
    ")\n",
    "\n",
    "\n",
    "builder = NanoribbonBuilder()"
   ],
   "metadata": {
    "collapsed": false
   },
   "id": "1991efeeebe39db4",
   "execution_count": null
  },
  {
   "cell_type": "markdown",
   "source": [
    "### 2.2. Create the Nanoribbon"
   ],
   "metadata": {
    "collapsed": false
   },
   "id": "d296d7287618dc0b"
  },
  {
   "cell_type": "code",
   "outputs": [],
   "source": [
    "nanoribbon = builder.get_material(nanoribbon_configuration)"
   ],
   "metadata": {
    "collapsed": false
   },
   "id": "302f417828a8fc9c",
   "execution_count": null
  },
  {
   "cell_type": "markdown",
   "source": [
    "## 3. Visualize the Nanoribbon"
   ],
   "metadata": {
    "collapsed": false
   },
   "id": "eecd561cd92fb18a"
  },
  {
   "cell_type": "code",
   "outputs": [],
   "source": [
    "from utils.visualize import visualize_materials as visualize\n",
    "visualize([{\"material\": nanoribbon, \"title\": \"Nanoribbon\"}])"
   ],
   "metadata": {
    "collapsed": false
   },
   "id": "1ee393a7f2ec3bc8",
   "execution_count": null
  },
  {
   "cell_type": "markdown",
   "source": [
    "## 4. Pass data to the outside runtime"
   ],
   "metadata": {
    "collapsed": false
   },
   "id": "9e0b241366592109"
  },
  {
   "cell_type": "code",
   "outputs": [],
   "source": [
    "from utils.jupyterlite import set_data\n",
    "\n",
    "set_data(\"materials\", [nanoribbon.to_json()])"
   ],
   "metadata": {
    "collapsed": false
   },
   "id": "29dfa0a329cca2fa",
   "execution_count": null
  }
 ],
 "metadata": {
  "kernelspec": {
   "display_name": "Python 3",
   "language": "python",
   "name": "python3"
  },
  "language_info": {
   "codemirror_mode": {
    "name": "ipython",
    "version": 2
   },
   "file_extension": ".py",
   "mimetype": "text/x-python",
   "name": "python",
   "nbconvert_exporter": "python",
   "pygments_lexer": "ipython2",
   "version": "2.7.6"
  }
 },
 "nbformat": 4,
 "nbformat_minor": 5
}
