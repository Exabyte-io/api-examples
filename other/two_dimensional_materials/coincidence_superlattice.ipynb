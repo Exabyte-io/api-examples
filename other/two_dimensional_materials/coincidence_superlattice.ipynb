{
 "cells": [
  {
   "cell_type": "code",
   "execution_count": 10,
   "metadata": {},
   "outputs": [
    {
     "name": "stdout",
     "output_type": "stream",
     "text": [
      "Cell([[2.130422, 0.0, 1.23], [0.7101408, 2.008582, 1.23], [0.0, 0.0, 2.46]])\n",
      "Cell([[2.467291, 0.0, 0.0], [-1.233645, 2.136737, 0.0], [0.0, 0.0, 7.803074]])\n",
      "Ni \n",
      " 1.0000000000000000\n",
      "     2.1304219999999998    0.0000000000000000    1.2300000000000000\n",
      "     0.7101408000000000    2.0085820000000001    1.2300000000000000\n",
      "     0.0000000000000000    0.0000000000000000    2.4600000000000000\n",
      " Ni \n",
      "   1\n",
      "Cartesian\n",
      "  0.0000000000000000  0.0000000000000000  0.0000000000000000\n",
      "\n"
     ]
    }
   ],
   "source": [
    "import material_interface as mi\n",
    "\n",
    "ni_poscar = \"\"\"Ni - primitive\n",
    "1.0\n",
    "   2.130422000\t   0.000000000\t   1.230000000\n",
    "   0.710140800\t   2.008582000\t   1.230000000\n",
    "   0.000000000\t   0.000000000\t   2.460000000\n",
    "Ni\n",
    "1\n",
    "Selective dynamics\n",
    "direct\n",
    "   0.000000000    0.000000000    0.000000000 T T T Ni\"\"\"\n",
    "\n",
    "graphene_poscar = \"\"\"Graphene\n",
    "1.0\n",
    "   2.467291000\t   0.000000000\t   0.000000000\n",
    "  -1.233645000\t   2.136737000\t   0.000000000\n",
    "   0.000000000\t   0.000000000\t   7.803074000\n",
    "C\n",
    "2\n",
    "direct\n",
    "   0.000000000    0.000000000    0.000000000  C\n",
    "   0.333333000    0.666667000    0.000000000  C\n",
    "\"\"\"\n",
    "\n",
    "from ase.build import surface, supercells\n",
    "from ase.io import read, write\n",
    "from ase.visualize import view\n",
    "import io\n",
    "import numpy as np\n",
    "\n",
    "ni = mi.poscar_to_atoms(ni_poscar)\n",
    "gr = mi.poscar_to_atoms(graphene_poscar)\n",
    "\n",
    "print(ni.get_cell())\n",
    "print(gr.get_cell())\n",
    "\n",
    "ni_surface = surface(ni, (1, 1, 1), 1)\n",
    "ni_slab = supercells.make_supercell(ni_surface, [[3, 0, 0], [0, 3, 0], [0, 0, 1]])\n",
    "ni_slab.center(vacuum=10, axis=2)\n",
    "ni_slab.wrap()\n",
    "\n",
    "view(ni_slab + gr)\n",
    "\n",
    "print(mi.write_atoms_to_poscar(ni))"
   ]
  },
  {
   "cell_type": "code",
   "execution_count": 11,
   "metadata": {},
   "outputs": [],
   "source": [
    "# !pip install git+https://github.com/nmdl-mizo/interface_master.git@develop"
   ]
  },
  {
   "cell_type": "code",
   "execution_count": 13,
   "metadata": {},
   "outputs": [
    {
     "ename": "TypeError",
     "evalue": "string argument expected, got 'bytes'",
     "output_type": "error",
     "traceback": [
      "\u001b[0;31m---------------------------------------------------------------------------\u001b[0m",
      "\u001b[0;31mTypeError\u001b[0m                                 Traceback (most recent call last)",
      "Cell \u001b[0;32mIn[13], line 9\u001b[0m\n\u001b[1;32m      6\u001b[0m \u001b[39mfrom\u001b[39;00m \u001b[39mgb_code\u001b[39;00m\u001b[39m.\u001b[39;00m\u001b[39mcsl_generator\u001b[39;00m \u001b[39mimport\u001b[39;00m print_list\n\u001b[1;32m      7\u001b[0m \u001b[39mimport\u001b[39;00m \u001b[39mpandas\u001b[39;00m \u001b[39mas\u001b[39;00m \u001b[39mpd\u001b[39;00m\n\u001b[0;32m----> 9\u001b[0m ni_cif \u001b[39m=\u001b[39m mi\u001b[39m.\u001b[39;49mwrite_atoms_to_cif(ni_slab)\n\u001b[1;32m     10\u001b[0m gr_cif \u001b[39m=\u001b[39m mi\u001b[39m.\u001b[39mwrite_atoms_to_cif(gr)\n\u001b[1;32m     12\u001b[0m interface \u001b[39m=\u001b[39m core(ni_cif, gr_cif)\n",
      "File \u001b[0;32m~/code/api-examples/other/two_dimensional_materials/material_interface.py:23\u001b[0m, in \u001b[0;36mwrite_atoms_to_cif\u001b[0;34m(atoms)\u001b[0m\n\u001b[1;32m     21\u001b[0m \u001b[39mdef\u001b[39;00m \u001b[39mwrite_atoms_to_cif\u001b[39m(atoms):\n\u001b[1;32m     22\u001b[0m     output \u001b[39m=\u001b[39m io\u001b[39m.\u001b[39mStringIO()\n\u001b[0;32m---> 23\u001b[0m     write(output, atoms, \u001b[39mformat\u001b[39;49m\u001b[39m=\u001b[39;49m\u001b[39m\"\u001b[39;49m\u001b[39mcif\u001b[39;49m\u001b[39m\"\u001b[39;49m)\n\u001b[1;32m     24\u001b[0m     content \u001b[39m=\u001b[39m output\u001b[39m.\u001b[39mgetvalue()\n\u001b[1;32m     25\u001b[0m     output\u001b[39m.\u001b[39mclose()\n",
      "File \u001b[0;32m~/.pyenv/versions/3.11.4/lib/python3.11/site-packages/ase/io/formats.py:628\u001b[0m, in \u001b[0;36mwrite\u001b[0;34m(filename, images, format, parallel, append, **kwargs)\u001b[0m\n\u001b[1;32m    624\u001b[0m \u001b[39mformat\u001b[39m \u001b[39m=\u001b[39m \u001b[39mformat\u001b[39m \u001b[39mor\u001b[39;00m \u001b[39m'\u001b[39m\u001b[39mjson\u001b[39m\u001b[39m'\u001b[39m  \u001b[39m# default is json\u001b[39;00m\n\u001b[1;32m    626\u001b[0m io \u001b[39m=\u001b[39m get_ioformat(\u001b[39mformat\u001b[39m)\n\u001b[0;32m--> 628\u001b[0m \u001b[39mreturn\u001b[39;00m _write(filename, fd, \u001b[39mformat\u001b[39;49m, io, images,\n\u001b[1;32m    629\u001b[0m               parallel\u001b[39m=\u001b[39;49mparallel, append\u001b[39m=\u001b[39;49mappend, \u001b[39m*\u001b[39;49m\u001b[39m*\u001b[39;49mkwargs)\n",
      "File \u001b[0;32m~/.pyenv/versions/3.11.4/lib/python3.11/site-packages/ase/parallel.py:244\u001b[0m, in \u001b[0;36mparallel_function.<locals>.new_func\u001b[0;34m(*args, **kwargs)\u001b[0m\n\u001b[1;32m    238\u001b[0m \u001b[39m@functools\u001b[39m\u001b[39m.\u001b[39mwraps(func)\n\u001b[1;32m    239\u001b[0m \u001b[39mdef\u001b[39;00m \u001b[39mnew_func\u001b[39m(\u001b[39m*\u001b[39margs, \u001b[39m*\u001b[39m\u001b[39m*\u001b[39mkwargs):\n\u001b[1;32m    240\u001b[0m     \u001b[39mif\u001b[39;00m (world\u001b[39m.\u001b[39msize \u001b[39m==\u001b[39m \u001b[39m1\u001b[39m \u001b[39mor\u001b[39;00m\n\u001b[1;32m    241\u001b[0m         args \u001b[39mand\u001b[39;00m \u001b[39mgetattr\u001b[39m(args[\u001b[39m0\u001b[39m], \u001b[39m'\u001b[39m\u001b[39mserial\u001b[39m\u001b[39m'\u001b[39m, \u001b[39mFalse\u001b[39;00m) \u001b[39mor\u001b[39;00m\n\u001b[1;32m    242\u001b[0m         \u001b[39mnot\u001b[39;00m kwargs\u001b[39m.\u001b[39mpop(\u001b[39m'\u001b[39m\u001b[39mparallel\u001b[39m\u001b[39m'\u001b[39m, \u001b[39mTrue\u001b[39;00m)):\n\u001b[1;32m    243\u001b[0m         \u001b[39m# Disable:\u001b[39;00m\n\u001b[0;32m--> 244\u001b[0m         \u001b[39mreturn\u001b[39;00m func(\u001b[39m*\u001b[39;49margs, \u001b[39m*\u001b[39;49m\u001b[39m*\u001b[39;49mkwargs)\n\u001b[1;32m    246\u001b[0m     ex \u001b[39m=\u001b[39m \u001b[39mNone\u001b[39;00m\n\u001b[1;32m    247\u001b[0m     result \u001b[39m=\u001b[39m \u001b[39mNone\u001b[39;00m\n",
      "File \u001b[0;32m~/.pyenv/versions/3.11.4/lib/python3.11/site-packages/ase/io/formats.py:664\u001b[0m, in \u001b[0;36m_write\u001b[0;34m(filename, fd, format, io, images, parallel, append, **kwargs)\u001b[0m\n\u001b[1;32m    661\u001b[0m         fd \u001b[39m=\u001b[39m open_with_compression(filename, mode)\n\u001b[1;32m    662\u001b[0m         \u001b[39m# XXX remember to re-enable compressed open\u001b[39;00m\n\u001b[1;32m    663\u001b[0m         \u001b[39m# fd = io.open(filename, mode)\u001b[39;00m\n\u001b[0;32m--> 664\u001b[0m     \u001b[39mreturn\u001b[39;00m io\u001b[39m.\u001b[39;49mwrite(fd, images, \u001b[39m*\u001b[39;49m\u001b[39m*\u001b[39;49mkwargs)\n\u001b[1;32m    665\u001b[0m \u001b[39mfinally\u001b[39;00m:\n\u001b[1;32m    666\u001b[0m     \u001b[39mif\u001b[39;00m open_new \u001b[39mand\u001b[39;00m fd \u001b[39mis\u001b[39;00m \u001b[39mnot\u001b[39;00m \u001b[39mNone\u001b[39;00m:\n",
      "File \u001b[0;32m~/.pyenv/versions/3.11.4/lib/python3.11/site-packages/ase/io/formats.py:191\u001b[0m, in \u001b[0;36mIOFormat._write_wrapper\u001b[0;34m(self, *args, **kwargs)\u001b[0m\n\u001b[1;32m    189\u001b[0m \u001b[39mif\u001b[39;00m function \u001b[39mis\u001b[39;00m \u001b[39mNone\u001b[39;00m:\n\u001b[1;32m    190\u001b[0m     \u001b[39mraise\u001b[39;00m \u001b[39mValueError\u001b[39;00m(\u001b[39mf\u001b[39m\u001b[39m'\u001b[39m\u001b[39mCannot write to \u001b[39m\u001b[39m{\u001b[39;00m\u001b[39mself\u001b[39m\u001b[39m.\u001b[39mname\u001b[39m}\u001b[39;00m\u001b[39m-format\u001b[39m\u001b[39m'\u001b[39m)\n\u001b[0;32m--> 191\u001b[0m \u001b[39mreturn\u001b[39;00m function(\u001b[39m*\u001b[39;49margs, \u001b[39m*\u001b[39;49m\u001b[39m*\u001b[39;49mkwargs)\n",
      "File \u001b[0;32m~/.pyenv/versions/3.11.4/lib/python3.11/site-packages/ase/utils/__init__.py:486\u001b[0m, in \u001b[0;36miofunction.__call__.<locals>.iofunc\u001b[0;34m(file, *args, **kwargs)\u001b[0m\n\u001b[1;32m    484\u001b[0m     \u001b[39melse\u001b[39;00m:\n\u001b[1;32m    485\u001b[0m         fd \u001b[39m=\u001b[39m file\n\u001b[0;32m--> 486\u001b[0m     obj \u001b[39m=\u001b[39m func(fd, \u001b[39m*\u001b[39;49margs, \u001b[39m*\u001b[39;49m\u001b[39m*\u001b[39;49mkwargs)\n\u001b[1;32m    487\u001b[0m     \u001b[39mreturn\u001b[39;00m obj\n\u001b[1;32m    488\u001b[0m \u001b[39mfinally\u001b[39;00m:\n",
      "File \u001b[0;32m~/.pyenv/versions/3.11.4/lib/python3.11/site-packages/ase/io/cif.py:725\u001b[0m, in \u001b[0;36mwrite_cif\u001b[0;34m(fd, images, cif_format, wrap, labels, loop_keys)\u001b[0m\n\u001b[1;32m    716\u001b[0m         write_cif_image(blockname, atoms, fd,\n\u001b[1;32m    717\u001b[0m                         wrap\u001b[39m=\u001b[39mwrap,\n\u001b[1;32m    718\u001b[0m                         labels\u001b[39m=\u001b[39m\u001b[39mNone\u001b[39;00m \u001b[39mif\u001b[39;00m labels \u001b[39mis\u001b[39;00m \u001b[39mNone\u001b[39;00m \u001b[39melse\u001b[39;00m labels[i],\n\u001b[1;32m    719\u001b[0m                         loop_keys\u001b[39m=\u001b[39mimage_loop_keys)\n\u001b[1;32m    721\u001b[0m \u001b[39mfinally\u001b[39;00m:\n\u001b[1;32m    722\u001b[0m     \u001b[39m# Using the TextIOWrapper somehow causes the file to close\u001b[39;00m\n\u001b[1;32m    723\u001b[0m     \u001b[39m# when this function returns.\u001b[39;00m\n\u001b[1;32m    724\u001b[0m     \u001b[39m# Detach in order to circumvent this highly illogical problem:\u001b[39;00m\n\u001b[0;32m--> 725\u001b[0m     fd\u001b[39m.\u001b[39mdetach()\n",
      "\u001b[0;31mTypeError\u001b[0m: string argument expected, got 'bytes'"
     ]
    }
   ],
   "source": [
    "from interfacemaster.cellcalc import get_primitive_hkl, get_pri_vec_inplane, get_normal_index, get_normal_from_MI, rot\n",
    "from interfacemaster.interface_generator import core, convert_vector_index\n",
    "from interfacemaster.symmetric_tilt import get_csl_twisted_graphenes\n",
    "from numpy import array, dot, round, cross, eye, pi, ceil, column_stack, arange\n",
    "from numpy.linalg import inv, det, norm\n",
    "from gb_code.csl_generator import print_list\n",
    "import pandas as pd\n",
    "\n",
    "ni_cif = mi.write_atoms_to_cif(ni_slab)\n",
    "gr_cif = mi.write_atoms_to_cif(gr)\n",
    "\n",
    "interface = core(ni_cif, gr_cif)\n",
    "\n",
    "hkl_1 = get_primitive_hkl([0, 0, 1], interface.conv_lattice_1, interface.lattice_1)\n",
    "hkl_2 = get_primitive_hkl([0, 0, 1], interface.conv_lattice_2, interface.lattice_2)\n",
    "\n",
    "interface.parse_limit(du=1e-2, S=1e-2, sgm1=50, sgm2=50, dd=1e-2)\n",
    "\n",
    "interface.search_one_position_2D(hkl_1, hkl_2, theta_range=10, dtheta=0.01, exact=False, start=10.89)"
   ]
  },
  {
   "cell_type": "code",
   "execution_count": null,
   "metadata": {},
   "outputs": [],
   "source": []
  }
 ],
 "metadata": {
  "kernelspec": {
   "display_name": "Python 3",
   "language": "python",
   "name": "python3"
  },
  "language_info": {
   "codemirror_mode": {
    "name": "ipython",
    "version": 3
   },
   "file_extension": ".py",
   "mimetype": "text/x-python",
   "name": "python",
   "nbconvert_exporter": "python",
   "pygments_lexer": "ipython3",
   "version": "3.11.4"
  },
  "orig_nbformat": 4
 },
 "nbformat": 4,
 "nbformat_minor": 2
}
