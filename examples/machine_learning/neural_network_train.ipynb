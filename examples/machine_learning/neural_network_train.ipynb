version https://git-lfs.github.com/spec/v1
oid sha256:3b8498429ce32306109099efb38fb3ea6a2d5670dfcb90c0254562b2d652460b
size 246688
