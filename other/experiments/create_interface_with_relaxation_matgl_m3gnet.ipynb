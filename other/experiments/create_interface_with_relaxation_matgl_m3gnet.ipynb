{
 "cells": [
  {
   "cell_type": "markdown",
   "metadata": {},
   "source": [
    "# Create an interface with ZSL and relax it using M3GNet\n",
    "\n",
    "Use Zur and McGill superlattices matching [algorithm](https://doi.org/10.1063/1.3330840) to create interfaces between two materials using the Pymatgen [implementation](https://pymatgen.org/pymatgen.analysis.interfaces.html#pymatgen.analysis.interfaces.zsl).\n",
    "\n",
    "<h2 style=\"color:green\">Usage</h2>\n",
    "\n",
    "0. Make sure to select Input Materials\n",
    "1. Execute \"Run first: ...\" cell below to load Input Materials into the current kernel\n",
    "2. Set Input Parameters (e.g. `MILLER_INDICES`, `THICKNESS`, `MAX_AREA`) below or use the default values\n",
    "3. Click \"Run\" > \"Run All\" to run all cells\n",
    "4. Wait for the run to complete (depending on the area, it can take 1-2 min or more). Scroll down to view cell results.\n",
    "5. Review the strain plot and modify its parameters as needed\n",
    "\n",
    "## Methodology\n",
    "\n",
    "The following happens in the script below:\n",
    "\n",
    "1. Create slabs for each input material. The materials data is passed in from and back to the web application according to this description (TBA).\n",
    "   We assume that two input materials are either in bulk form (e.g. Ni crystal) or layered (e.g. graphene). \n",
    "   \n",
    "   We construct the interface along the Z-axis. The material corresponding to the bottom of the interface is referred to as the \"**substrate**\", and the top - as the \"**layer**\". \n",
    "\n",
    "2. Perform strain matching on the slabs to extract the supercell dimensions. The algorithm has a set of parameters, such as the maximum area considered, that can be configured by editing the cells below.\n",
    "\n",
    "3. When the strain matching is finished, the interface with the lowest strain (and the smallest number of atoms) is selected. We create the corresponding supercells and place them at a specified distance from each other (note no shift is performed currently).\n"
   ]
  },
  {
   "cell_type": "markdown",
   "source": [
    "## 0. Load Materials"
   ],
   "metadata": {
    "collapsed": false
   }
  },
  {
   "cell_type": "code",
   "execution_count": 15,
   "metadata": {
    "ExecuteTime": {
     "end_time": "2024-02-27T00:20:38.791458Z",
     "start_time": "2024-02-27T00:20:38.656803Z"
    }
   },
   "outputs": [],
   "source": [
    "import json\n",
    "materials_in = []\n",
    "for file in [\"Ni.json\", \"Gr.json\"]:\n",
    "    with open(file, \"r\") as f:\n",
    "        data = f.read()\n",
    "        materials_in.append(json.loads(data))"
   ]
  },
  {
   "cell_type": "markdown",
   "metadata": {},
   "source": [
    "## 1. Set Input Parameters\n",
    "\n",
    "### 1.1. Select Substrate and Layer from Input Materials"
   ]
  },
  {
   "cell_type": "code",
   "execution_count": 16,
   "metadata": {
    "ExecuteTime": {
     "end_time": "2024-02-27T00:20:39.065872Z",
     "start_time": "2024-02-27T00:20:38.771153Z"
    }
   },
   "outputs": [],
   "source": [
    "SUBSTRATE_PARAMETERS = {\n",
    "    \"MATERIAL_INDEX\": 0,  # the index of the material in the materials_in list\n",
    "    \"MILLER_INDICES\": (1, 1, 1),  # the miller indices of the interfacial plane\n",
    "    \"THICKNESS\": 6,  # in layers\n",
    "}\n",
    "\n",
    "LAYER_PARAMETERS = {\n",
    "    \"MATERIAL_INDEX\": 1, # the index of the material in the materials_in list\n",
    "    \"MILLER_INDICES\": (0, 0, 1),  # the miller indices of the interfacial plane\n",
    "    \"THICKNESS\": 1,  # in layers\n",
    "}"
   ]
  },
  {
   "cell_type": "markdown",
   "metadata": {},
   "source": [
    "### 1.2. Set Interface Parameters\n",
    "\n",
    "The distance between layer and substrate and maximum area to consider when matching.\n"
   ]
  },
  {
   "cell_type": "code",
   "execution_count": 17,
   "metadata": {
    "ExecuteTime": {
     "end_time": "2024-02-27T00:20:39.162603Z",
     "start_time": "2024-02-27T00:20:39.070236Z"
    }
   },
   "outputs": [],
   "source": [
    "INTERFACE_PARAMETERS = {\n",
    "    \"DISTANCE_Z\": 3.0, # in Angstroms\n",
    "    \"MAX_AREA\": 50, # in Angstroms^2\n",
    "}"
   ]
  },
  {
   "cell_type": "markdown",
   "metadata": {},
   "source": [
    "### 1.3. Set Algorithm Parameters"
   ]
  },
  {
   "cell_type": "code",
   "execution_count": 18,
   "metadata": {
    "ExecuteTime": {
     "end_time": "2024-02-27T00:20:39.229014Z",
     "start_time": "2024-02-27T00:20:39.134649Z"
    }
   },
   "outputs": [],
   "source": [
    "ZSL_PARAMETERS = {\n",
    "    \"MAX_AREA\": INTERFACE_PARAMETERS[\"MAX_AREA\"],  # The area to consider in Angstrom^2\n",
    "    \"MAX_AREA_TOL\": 0.09,  # The area within this tolerance is considered equal\n",
    "    \"MAX_LENGTH_TOL\": 0.03,  # supercell lattice vectors lengths within this tolerance are considered equal\n",
    "    \"MAX_ANGLE_TOL\": 0.01,  # supercell lattice angles within this tolerance are considered equal\n",
    "    \"STRAIN_TOL\": 10e-6,  # strains within this tolerance are considered equal\n",
    "}\n",
    "RELAXATION_PARAMETERS = {\n",
    "    \"FMAX\": 0.018,\n",
    "}"
   ]
  },
  {
   "cell_type": "markdown",
   "metadata": {},
   "source": [
    "## 2. Install Packages"
   ]
  },
  {
   "cell_type": "code",
   "execution_count": 19,
   "metadata": {
    "ExecuteTime": {
     "end_time": "2024-02-27T00:20:41.366951Z",
     "start_time": "2024-02-27T00:20:39.222415Z"
    }
   },
   "outputs": [
    {
     "name": "stdout",
     "output_type": "stream",
     "text": [
      "Python 3.11.2\r\n",
      "Package                    Version\r\n",
      "-------------------------- -----------------\r\n",
      "accelerate                 0.27.2\r\n",
      "aiohttp                    3.9.3\r\n",
      "aiosignal                  1.3.1\r\n",
      "alignn                     2024.2.4\r\n",
      "anyio                      4.3.0\r\n",
      "appnope                    0.1.4\r\n",
      "argon2-cffi                23.1.0\r\n",
      "argon2-cffi-bindings       21.2.0\r\n",
      "arrow                      1.3.0\r\n",
      "ase                        3.22.1\r\n",
      "asttokens                  2.4.1\r\n",
      "async-lru                  2.0.4\r\n",
      "attrs                      23.2.0\r\n",
      "Babel                      2.14.0\r\n",
      "beautifulsoup4             4.12.3\r\n",
      "bleach                     6.1.0\r\n",
      "build                      1.0.3\r\n",
      "certifi                    2024.2.2\r\n",
      "cffi                       1.16.0\r\n",
      "cfgv                       3.4.0\r\n",
      "charset-normalizer         3.3.2\r\n",
      "click                      8.1.7\r\n",
      "colorama                   0.4.6\r\n",
      "comm                       0.2.1\r\n",
      "contourpy                  1.2.0\r\n",
      "cycler                     0.12.1\r\n",
      "debugpy                    1.8.1\r\n",
      "decorator                  5.1.1\r\n",
      "defusedxml                 0.7.1\r\n",
      "dgl                        2.0.0\r\n",
      "distlib                    0.3.8\r\n",
      "executing                  2.0.1\r\n",
      "fastjsonschema             2.19.1\r\n",
      "filelock                   3.13.1\r\n",
      "flake8                     7.0.0\r\n",
      "fonttools                  4.49.0\r\n",
      "fqdn                       1.5.1\r\n",
      "frozenlist                 1.4.1\r\n",
      "fsspec                     2024.2.0\r\n",
      "future                     1.0.0\r\n",
      "ghp-import                 2.1.0\r\n",
      "h11                        0.14.0\r\n",
      "httpcore                   1.0.4\r\n",
      "httpx                      0.27.0\r\n",
      "huggingface-hub            0.20.3\r\n",
      "identify                   2.5.35\r\n",
      "idna                       3.6\r\n",
      "ipykernel                  6.29.2\r\n",
      "ipython                    8.22.1\r\n",
      "ipywidgets                 8.1.2\r\n",
      "isoduration                20.11.0\r\n",
      "jarvis-tools               2023.12.12\r\n",
      "jedi                       0.19.1\r\n",
      "Jinja2                     3.1.3\r\n",
      "joblib                     1.3.2\r\n",
      "json5                      0.9.17\r\n",
      "jsonpointer                2.4\r\n",
      "jsonschema                 4.21.1\r\n",
      "jsonschema-specifications  2023.12.1\r\n",
      "jupyter                    1.0.0\r\n",
      "jupyter_client             8.6.0\r\n",
      "jupyter-console            6.6.3\r\n",
      "jupyter_core               5.7.1\r\n",
      "jupyter-events             0.9.0\r\n",
      "jupyter-lsp                2.2.2\r\n",
      "jupyter_server             2.12.5\r\n",
      "jupyter_server_terminals   0.5.2\r\n",
      "jupyterlab                 4.1.2\r\n",
      "jupyterlab_pygments        0.3.0\r\n",
      "jupyterlab_server          2.25.3\r\n",
      "jupyterlab_widgets         3.0.10\r\n",
      "kiwisolver                 1.4.5\r\n",
      "latexcodec                 2.0.1\r\n",
      "lightning-utilities        0.10.1\r\n",
      "Markdown                   3.5.2\r\n",
      "MarkupSafe                 2.1.5\r\n",
      "mat3ra-api-examples        0.1.0\r\n",
      "matgl                      0.9.2\r\n",
      "matplotlib                 3.8.3\r\n",
      "matplotlib-inline          0.1.6\r\n",
      "mccabe                     0.7.0\r\n",
      "mergedeep                  1.3.4\r\n",
      "mistune                    3.0.2\r\n",
      "mkdocs                     1.5.3\r\n",
      "mkdocs-material            9.5.10\r\n",
      "mkdocs-material-extensions 1.3.1\r\n",
      "monty                      2024.2.2\r\n",
      "mpmath                     1.3.0\r\n",
      "multidict                  6.0.5\r\n",
      "nbclient                   0.9.0\r\n",
      "nbconvert                  7.16.1\r\n",
      "nbformat                   5.9.2\r\n",
      "nest-asyncio               1.6.0\r\n",
      "networkx                   3.2.1\r\n",
      "nglview                    3.1.1\r\n",
      "nodeenv                    1.8.0\r\n",
      "notebook                   7.1.0\r\n",
      "notebook_shim              0.2.4\r\n",
      "numpy                      1.26.4\r\n",
      "overrides                  7.7.0\r\n",
      "packaging                  23.2\r\n",
      "paginate                   0.5.6\r\n",
      "palettable                 3.3.3\r\n",
      "pandas                     2.2.0\r\n",
      "pandocfilters              1.5.1\r\n",
      "parso                      0.8.3\r\n",
      "pathspec                   0.12.1\r\n",
      "pexpect                    4.9.0\r\n",
      "pillow                     10.2.0\r\n",
      "pip                        23.3.2\r\n",
      "pip-tools                  7.4.0\r\n",
      "platformdirs               4.2.0\r\n",
      "plotly                     5.19.0\r\n",
      "pre-commit                 3.6.2\r\n",
      "prometheus_client          0.20.0\r\n",
      "prompt-toolkit             3.0.43\r\n",
      "psutil                     5.9.8\r\n",
      "ptyprocess                 0.7.0\r\n",
      "pure-eval                  0.2.2\r\n",
      "pybtex                     0.24.0\r\n",
      "pycodestyle                2.11.1\r\n",
      "pycparser                  2.21\r\n",
      "pydantic                   1.8.1\r\n",
      "pydocstyle                 6.3.0\r\n",
      "pyflakes                   3.2.0\r\n",
      "Pygments                   2.17.2\r\n",
      "pymatgen                   2024.2.8\r\n",
      "pymdown-extensions         10.7\r\n",
      "pyparsing                  2.4.7\r\n",
      "pyproject_hooks            1.0.0\r\n",
      "PyQt5                      5.15.10\r\n",
      "PyQt5-Qt5                  5.15.12\r\n",
      "PyQt5-sip                  12.13.0\r\n",
      "python-dateutil            2.8.2\r\n",
      "python-json-logger         2.0.7\r\n",
      "pytorch-ignite             0.5.0.dev20240223\r\n",
      "pytorch-lightning          2.2.0.post0\r\n",
      "pytz                       2024.1\r\n",
      "PyYAML                     6.0.1\r\n",
      "pyyaml_env_tag             0.1\r\n",
      "pyzmq                      25.1.2\r\n",
      "qtconsole                  5.5.1\r\n",
      "QtPy                       2.4.1\r\n",
      "referencing                0.33.0\r\n",
      "regex                      2023.12.25\r\n",
      "requests                   2.31.0\r\n",
      "rfc3339-validator          0.1.4\r\n",
      "rfc3986-validator          0.1.1\r\n",
      "rpds-py                    0.18.0\r\n",
      "ruamel.yaml                0.18.6\r\n",
      "ruamel.yaml.clib           0.2.8\r\n",
      "safetensors                0.4.2\r\n",
      "scikit-learn               1.4.1.post1\r\n",
      "scipy                      1.12.0\r\n",
      "Send2Trash                 1.8.2\r\n",
      "setuptools                 69.0.3\r\n",
      "six                        1.16.0\r\n",
      "sniffio                    1.3.0\r\n",
      "snowballstemmer            2.2.0\r\n",
      "soupsieve                  2.5\r\n",
      "spglib                     2.0.2\r\n",
      "stack-data                 0.6.3\r\n",
      "sympy                      1.12\r\n",
      "tabulate                   0.9.0\r\n",
      "tenacity                   8.2.3\r\n",
      "terminado                  0.18.0\r\n",
      "threadpoolctl              3.3.0\r\n",
      "tinycss2                   1.2.1\r\n",
      "toolz                      0.12.1\r\n",
      "torch                      2.0.0\r\n",
      "torchdata                  0.7.1\r\n",
      "torchmetrics               1.3.1\r\n",
      "tornado                    6.4\r\n",
      "tqdm                       4.66.2\r\n",
      "traitlets                  5.14.1\r\n",
      "types-python-dateutil      2.8.19.20240106\r\n",
      "typing_extensions          4.9.0\r\n",
      "tzdata                     2024.1\r\n",
      "uncertainties              3.1.7\r\n",
      "uri-template               1.3.0\r\n",
      "urllib3                    2.2.1\r\n",
      "virtualenv                 20.25.1\r\n",
      "watchdog                   4.0.0\r\n",
      "wcwidth                    0.2.13\r\n",
      "webcolors                  1.13\r\n",
      "webencodings               0.5.1\r\n",
      "websocket-client           1.7.0\r\n",
      "wheel                      0.42.0\r\n",
      "widgetsnbextension         4.0.10\r\n",
      "xmltodict                  0.13.0\r\n",
      "yarl                       1.9.4\r\n",
      "\r\n",
      "\u001B[1m[\u001B[0m\u001B[34;49mnotice\u001B[0m\u001B[1;39;49m]\u001B[0m\u001B[39;49m A new release of pip is available: \u001B[0m\u001B[31;49m23.3.2\u001B[0m\u001B[39;49m -> \u001B[0m\u001B[32;49m24.0\u001B[0m\r\n",
      "\u001B[1m[\u001B[0m\u001B[34;49mnotice\u001B[0m\u001B[1;39;49m]\u001B[0m\u001B[39;49m To update, run: \u001B[0m\u001B[32;49mpip install --upgrade pip\u001B[0m\r\n"
     ]
    }
   ],
   "source": [
    "!python --version\n",
    "!pip list\n",
    "#!pip install pymatgen==2024.2.8 ase==3.22.1 nbformat==5.9.2 ipykernel==6.29.2 matgl==0.9.2 nglview==3.1.1"
   ]
  },
  {
   "cell_type": "markdown",
   "metadata": {},
   "source": [
    "## 3. Create interfaces\n",
    "\n",
    "### 3.1. Extract Interfaces and Terminations\n",
    "\n",
    "Extract all possible layer/substrate supercell combinations within the maximum area including different terminations."
   ]
  },
  {
   "cell_type": "code",
   "execution_count": 20,
   "metadata": {
    "tags": [],
    "trusted": true,
    "ExecuteTime": {
     "end_time": "2024-02-27T00:20:44.185788Z",
     "start_time": "2024-02-27T00:20:41.374250Z"
    }
   },
   "outputs": [
    {
     "name": "stdout",
     "output_type": "stream",
     "text": [
      "Full Formula (Ni1)\n",
      "Reduced Formula: Ni\n",
      "abc   :   2.460000   2.460000   2.460000\n",
      "angles:  60.000000  60.000000  60.000000\n",
      "pbc   :       True       True       True\n",
      "Sites (1)\n",
      "  #  SP      a    b    c\n",
      "---  ----  ---  ---  ---\n",
      "  0  Ni      0    0    0 \n",
      "\n",
      "Full Formula (C2)\n",
      "Reduced Formula: C\n",
      "abc   :   2.467291   2.467291  20.000000\n",
      "angles:  90.000000  90.000000 120.000000\n",
      "pbc   :       True       True       True\n",
      "Sites (2)\n",
      "  #  SP           a         b    c\n",
      "---  ----  --------  --------  ---\n",
      "  0  C     0         0           0\n",
      "  1  C     0.333333  0.666667    0 \n",
      "\n",
      "Creating interfaces...\n"
     ]
    }
   ],
   "source": [
    "from src.pymatgen_coherent_interface_builder import CoherentInterfaceBuilder, ZSLGenerator\n",
    "from src.utils import to_pymatgen\n",
    "\n",
    "if \"materials_in\" in globals():\n",
    "    pymatgen_materials = [to_pymatgen(item) for item in materials_in]\n",
    "for material in pymatgen_materials:\n",
    "    print(material, \"\\n\")\n",
    "\n",
    "\n",
    "def create_interfaces(settings):\n",
    "    print(\"Creating interfaces...\")\n",
    "    zsl = ZSLGenerator(\n",
    "        max_area_ratio_tol=settings[\"ZSL_PARAMETERS\"][\"MAX_AREA_TOL\"],\n",
    "        max_area=settings[\"ZSL_PARAMETERS\"][\"MAX_AREA\"],\n",
    "        max_length_tol=settings[\"ZSL_PARAMETERS\"][\"MAX_LENGTH_TOL\"],\n",
    "        max_angle_tol=settings[\"ZSL_PARAMETERS\"][\"MAX_ANGLE_TOL\"],\n",
    "    )\n",
    "\n",
    "    cib = CoherentInterfaceBuilder(\n",
    "        substrate_structure=pymatgen_materials[settings[\"SUBSTRATE_PARAMETERS\"][\"MATERIAL_INDEX\"]],\n",
    "        film_structure=pymatgen_materials[settings[\"LAYER_PARAMETERS\"][\"MATERIAL_INDEX\"]],\n",
    "        substrate_miller=settings[\"SUBSTRATE_PARAMETERS\"][\"MILLER_INDICES\"],\n",
    "        film_miller=settings[\"LAYER_PARAMETERS\"][\"MILLER_INDICES\"],\n",
    "        zslgen=zsl,\n",
    "        strain_tol=settings[\"ZSL_PARAMETERS\"][\"STRAIN_TOL\"],\n",
    "    )\n",
    "\n",
    "    # Find terminations\n",
    "    cib._find_terminations()\n",
    "    terminations = cib.terminations\n",
    "\n",
    "    # Create interfaces for each termination\n",
    "    interfaces = {}\n",
    "    for termination in terminations:\n",
    "        interfaces[termination] = []\n",
    "        for interface in cib.get_interfaces(\n",
    "            termination,\n",
    "            gap=settings[\"INTERFACE_PARAMETERS\"][\"DISTANCE_Z\"],\n",
    "            film_thickness=settings[\"LAYER_PARAMETERS\"][\"THICKNESS\"],\n",
    "            substrate_thickness=settings[\"SUBSTRATE_PARAMETERS\"][\"THICKNESS\"],\n",
    "            in_layers=True,\n",
    "        ):\n",
    "            # Wrap atoms to unit cell\n",
    "            interface[\"interface\"].make_supercell((1,1,1), to_unit_cell=True)\n",
    "            interfaces[termination].append(interface)\n",
    "    return interfaces, terminations\n",
    "\n",
    "\n",
    "interfaces, terminations = create_interfaces(\n",
    "    settings={\n",
    "        \"SUBSTRATE_PARAMETERS\": SUBSTRATE_PARAMETERS,\n",
    "        \"LAYER_PARAMETERS\": LAYER_PARAMETERS,\n",
    "        \"ZSL_PARAMETERS\": ZSL_PARAMETERS,\n",
    "        \"INTERFACE_PARAMETERS\": INTERFACE_PARAMETERS,\n",
    "    }\n",
    ")"
   ]
  },
  {
   "cell_type": "markdown",
   "metadata": {},
   "source": [
    "### 3.2. Print out the interfaces and terminations"
   ]
  },
  {
   "cell_type": "code",
   "execution_count": 21,
   "metadata": {
    "ExecuteTime": {
     "end_time": "2024-02-27T00:20:44.194250Z",
     "start_time": "2024-02-27T00:20:44.186879Z"
    }
   },
   "outputs": [
    {
     "name": "stdout",
     "output_type": "stream",
     "text": [
      "Found 1 terminations\n",
      "Found 233 interfaces for ('C_P6/mmm_2', 'Ni_R-3m_1') termination\n"
     ]
    }
   ],
   "source": [
    "print(f'Found {len(terminations)} terminations')\n",
    "for termination in terminations:\n",
    "    print(f\"Found {len(interfaces[termination])} interfaces for\", termination, \"termination\")"
   ]
  },
  {
   "cell_type": "markdown",
   "metadata": {},
   "source": [
    "## 4. Sort interfaces by strain\n",
    "\n",
    "### 4.1. Sort all interfaces"
   ]
  },
  {
   "cell_type": "code",
   "execution_count": 22,
   "metadata": {
    "ExecuteTime": {
     "end_time": "2024-02-27T00:20:44.231759Z",
     "start_time": "2024-02-27T00:20:44.206040Z"
    }
   },
   "outputs": [],
   "source": [
    "# Could be \"strain\", \"von_mises_strain\", \"mean_abs_strain\"\n",
    "strain_mode = \"mean_abs_strain\"\n",
    "\n",
    "# Sort interfaces by the specified strain mode and number of sites\n",
    "def sort_interfaces(interfaces, terminations):\n",
    "    sorted_interfaces = {}\n",
    "    for termination in terminations:\n",
    "        sorted_interfaces[termination] = sorted(\n",
    "            interfaces[termination], key=lambda x: (x[strain_mode], x[\"interface\"].num_sites)\n",
    "        )\n",
    "    return sorted_interfaces\n",
    "\n",
    "\n",
    "sorted_interfaces = sort_interfaces(interfaces, terminations)"
   ]
  },
  {
   "cell_type": "markdown",
   "metadata": {},
   "source": [
    "### 4.2. Print out interfaces with lowest strain for each termination"
   ]
  },
  {
   "cell_type": "code",
   "execution_count": 23,
   "metadata": {
    "ExecuteTime": {
     "end_time": "2024-02-27T00:20:44.233373Z",
     "start_time": "2024-02-27T00:20:44.210914Z"
    }
   },
   "outputs": [
    {
     "name": "stdout",
     "output_type": "stream",
     "text": [
      "Interface with lowest strain for termination ('C_P6/mmm_2', 'Ni_R-3m_1') (index 0):\n",
      "    strain: 0.06600000000000002 %\n",
      "    number of atoms: 8\n"
     ]
    }
   ],
   "source": [
    "for termination in terminations:\n",
    "    print(f\"Interface with lowest strain for termination {termination} (index 0):\")\n",
    "    first_interface = interfaces[termination][0]\n",
    "    print(\"    strain:\", first_interface[strain_mode] * 100, \"%\")\n",
    "    print(\"    number of atoms:\", first_interface[\"interface\"].num_sites)"
   ]
  },
  {
   "cell_type": "markdown",
   "metadata": {},
   "source": [
    "## 5. Plot the results\n",
    "\n",
    "Plot the number of atoms vs strain. Adjust the parameters as needed.\n"
   ]
  },
  {
   "cell_type": "code",
   "execution_count": 24,
   "metadata": {
    "ExecuteTime": {
     "end_time": "2024-02-27T00:20:44.267063Z",
     "start_time": "2024-02-27T00:20:44.227669Z"
    }
   },
   "outputs": [
    {
     "data": {
      "application/vnd.plotly.v1+json": {
       "data": [
        {
         "hoverinfo": "text",
         "mode": "markers",
         "name": "Indices: 0",
         "text": [
          "Termination: ('C_P6/mmm_2', 'Ni_R-3m_1')<br>Termination index: 0<br>Interfaces Index Range: 0<br>Strain: 0.07%<br>Atoms: 8"
         ],
         "x": [
          0.06600000000000002
         ],
         "y": [
          8
         ],
         "type": "scatter"
        },
        {
         "hoverinfo": "text",
         "mode": "markers",
         "name": "Indices: 1-9",
         "text": [
          "Termination: ('C_P6/mmm_2', 'Ni_R-3m_1')<br>Termination index: 0<br>Interfaces Index Range: 1-9<br>Strain: 0.07%<br>Atoms: 16"
         ],
         "x": [
          0.06600000000000002
         ],
         "y": [
          16
         ],
         "type": "scatter"
        },
        {
         "hoverinfo": "text",
         "mode": "markers",
         "name": "Indices: 10-19",
         "text": [
          "Termination: ('C_P6/mmm_2', 'Ni_R-3m_1')<br>Termination index: 0<br>Interfaces Index Range: 10-19<br>Strain: 0.07%<br>Atoms: 24"
         ],
         "x": [
          0.06600000000000002
         ],
         "y": [
          24
         ],
         "type": "scatter"
        },
        {
         "hoverinfo": "text",
         "mode": "markers",
         "name": "Indices: 20-38",
         "text": [
          "Termination: ('C_P6/mmm_2', 'Ni_R-3m_1')<br>Termination index: 0<br>Interfaces Index Range: 20-38<br>Strain: 0.07%<br>Atoms: 32"
         ],
         "x": [
          0.06600000000000002
         ],
         "y": [
          32
         ],
         "type": "scatter"
        },
        {
         "hoverinfo": "text",
         "mode": "markers",
         "name": "Indices: 39-56",
         "text": [
          "Termination: ('C_P6/mmm_2', 'Ni_R-3m_1')<br>Termination index: 0<br>Interfaces Index Range: 39-56<br>Strain: 0.07%<br>Atoms: 40"
         ],
         "x": [
          0.06600000000000002
         ],
         "y": [
          40
         ],
         "type": "scatter"
        },
        {
         "hoverinfo": "text",
         "mode": "markers",
         "name": "Indices: 57-110",
         "text": [
          "Termination: ('C_P6/mmm_2', 'Ni_R-3m_1')<br>Termination index: 0<br>Interfaces Index Range: 57-110<br>Strain: 0.07%<br>Atoms: 48"
         ],
         "x": [
          0.06600000000000002
         ],
         "y": [
          48
         ],
         "type": "scatter"
        },
        {
         "hoverinfo": "text",
         "mode": "markers",
         "name": "Indices: 111-132",
         "text": [
          "Termination: ('C_P6/mmm_2', 'Ni_R-3m_1')<br>Termination index: 0<br>Interfaces Index Range: 111-132<br>Strain: 0.07%<br>Atoms: 56"
         ],
         "x": [
          0.06600000000000002
         ],
         "y": [
          56
         ],
         "type": "scatter"
        },
        {
         "hoverinfo": "text",
         "mode": "markers",
         "name": "Indices: 133-177",
         "text": [
          "Termination: ('C_P6/mmm_2', 'Ni_R-3m_1')<br>Termination index: 0<br>Interfaces Index Range: 133-177<br>Strain: 0.07%<br>Atoms: 64"
         ],
         "x": [
          0.06600000000000002
         ],
         "y": [
          64
         ],
         "type": "scatter"
        },
        {
         "hoverinfo": "text",
         "mode": "markers",
         "name": "Indices: 178-232",
         "text": [
          "Termination: ('C_P6/mmm_2', 'Ni_R-3m_1')<br>Termination index: 0<br>Interfaces Index Range: 178-232<br>Strain: 0.07%<br>Atoms: 72"
         ],
         "x": [
          0.06600000000000002
         ],
         "y": [
          72
         ],
         "type": "scatter"
        }
       ],
       "layout": {
        "height": 600,
        "hovermode": "closest",
        "legend": {
         "title": {
          "text": "Interfaces Index Range"
         }
        },
        "xaxis": {
         "title": {
          "text": "Strain (%)"
         },
         "type": "log"
        },
        "yaxis": {
         "title": {
          "text": "Number of atoms"
         },
         "type": "log"
        },
        "template": {
         "data": {
          "histogram2dcontour": [
           {
            "type": "histogram2dcontour",
            "colorbar": {
             "outlinewidth": 0,
             "ticks": ""
            },
            "colorscale": [
             [
              0.0,
              "#0d0887"
             ],
             [
              0.1111111111111111,
              "#46039f"
             ],
             [
              0.2222222222222222,
              "#7201a8"
             ],
             [
              0.3333333333333333,
              "#9c179e"
             ],
             [
              0.4444444444444444,
              "#bd3786"
             ],
             [
              0.5555555555555556,
              "#d8576b"
             ],
             [
              0.6666666666666666,
              "#ed7953"
             ],
             [
              0.7777777777777778,
              "#fb9f3a"
             ],
             [
              0.8888888888888888,
              "#fdca26"
             ],
             [
              1.0,
              "#f0f921"
             ]
            ]
           }
          ],
          "choropleth": [
           {
            "type": "choropleth",
            "colorbar": {
             "outlinewidth": 0,
             "ticks": ""
            }
           }
          ],
          "histogram2d": [
           {
            "type": "histogram2d",
            "colorbar": {
             "outlinewidth": 0,
             "ticks": ""
            },
            "colorscale": [
             [
              0.0,
              "#0d0887"
             ],
             [
              0.1111111111111111,
              "#46039f"
             ],
             [
              0.2222222222222222,
              "#7201a8"
             ],
             [
              0.3333333333333333,
              "#9c179e"
             ],
             [
              0.4444444444444444,
              "#bd3786"
             ],
             [
              0.5555555555555556,
              "#d8576b"
             ],
             [
              0.6666666666666666,
              "#ed7953"
             ],
             [
              0.7777777777777778,
              "#fb9f3a"
             ],
             [
              0.8888888888888888,
              "#fdca26"
             ],
             [
              1.0,
              "#f0f921"
             ]
            ]
           }
          ],
          "heatmap": [
           {
            "type": "heatmap",
            "colorbar": {
             "outlinewidth": 0,
             "ticks": ""
            },
            "colorscale": [
             [
              0.0,
              "#0d0887"
             ],
             [
              0.1111111111111111,
              "#46039f"
             ],
             [
              0.2222222222222222,
              "#7201a8"
             ],
             [
              0.3333333333333333,
              "#9c179e"
             ],
             [
              0.4444444444444444,
              "#bd3786"
             ],
             [
              0.5555555555555556,
              "#d8576b"
             ],
             [
              0.6666666666666666,
              "#ed7953"
             ],
             [
              0.7777777777777778,
              "#fb9f3a"
             ],
             [
              0.8888888888888888,
              "#fdca26"
             ],
             [
              1.0,
              "#f0f921"
             ]
            ]
           }
          ],
          "heatmapgl": [
           {
            "type": "heatmapgl",
            "colorbar": {
             "outlinewidth": 0,
             "ticks": ""
            },
            "colorscale": [
             [
              0.0,
              "#0d0887"
             ],
             [
              0.1111111111111111,
              "#46039f"
             ],
             [
              0.2222222222222222,
              "#7201a8"
             ],
             [
              0.3333333333333333,
              "#9c179e"
             ],
             [
              0.4444444444444444,
              "#bd3786"
             ],
             [
              0.5555555555555556,
              "#d8576b"
             ],
             [
              0.6666666666666666,
              "#ed7953"
             ],
             [
              0.7777777777777778,
              "#fb9f3a"
             ],
             [
              0.8888888888888888,
              "#fdca26"
             ],
             [
              1.0,
              "#f0f921"
             ]
            ]
           }
          ],
          "contourcarpet": [
           {
            "type": "contourcarpet",
            "colorbar": {
             "outlinewidth": 0,
             "ticks": ""
            }
           }
          ],
          "contour": [
           {
            "type": "contour",
            "colorbar": {
             "outlinewidth": 0,
             "ticks": ""
            },
            "colorscale": [
             [
              0.0,
              "#0d0887"
             ],
             [
              0.1111111111111111,
              "#46039f"
             ],
             [
              0.2222222222222222,
              "#7201a8"
             ],
             [
              0.3333333333333333,
              "#9c179e"
             ],
             [
              0.4444444444444444,
              "#bd3786"
             ],
             [
              0.5555555555555556,
              "#d8576b"
             ],
             [
              0.6666666666666666,
              "#ed7953"
             ],
             [
              0.7777777777777778,
              "#fb9f3a"
             ],
             [
              0.8888888888888888,
              "#fdca26"
             ],
             [
              1.0,
              "#f0f921"
             ]
            ]
           }
          ],
          "surface": [
           {
            "type": "surface",
            "colorbar": {
             "outlinewidth": 0,
             "ticks": ""
            },
            "colorscale": [
             [
              0.0,
              "#0d0887"
             ],
             [
              0.1111111111111111,
              "#46039f"
             ],
             [
              0.2222222222222222,
              "#7201a8"
             ],
             [
              0.3333333333333333,
              "#9c179e"
             ],
             [
              0.4444444444444444,
              "#bd3786"
             ],
             [
              0.5555555555555556,
              "#d8576b"
             ],
             [
              0.6666666666666666,
              "#ed7953"
             ],
             [
              0.7777777777777778,
              "#fb9f3a"
             ],
             [
              0.8888888888888888,
              "#fdca26"
             ],
             [
              1.0,
              "#f0f921"
             ]
            ]
           }
          ],
          "mesh3d": [
           {
            "type": "mesh3d",
            "colorbar": {
             "outlinewidth": 0,
             "ticks": ""
            }
           }
          ],
          "scatter": [
           {
            "marker": {
             "line": {
              "color": "#283442"
             }
            },
            "type": "scatter"
           }
          ],
          "parcoords": [
           {
            "type": "parcoords",
            "line": {
             "colorbar": {
              "outlinewidth": 0,
              "ticks": ""
             }
            }
           }
          ],
          "scatterpolargl": [
           {
            "type": "scatterpolargl",
            "marker": {
             "colorbar": {
              "outlinewidth": 0,
              "ticks": ""
             }
            }
           }
          ],
          "bar": [
           {
            "error_x": {
             "color": "#f2f5fa"
            },
            "error_y": {
             "color": "#f2f5fa"
            },
            "marker": {
             "line": {
              "color": "rgb(17,17,17)",
              "width": 0.5
             },
             "pattern": {
              "fillmode": "overlay",
              "size": 10,
              "solidity": 0.2
             }
            },
            "type": "bar"
           }
          ],
          "scattergeo": [
           {
            "type": "scattergeo",
            "marker": {
             "colorbar": {
              "outlinewidth": 0,
              "ticks": ""
             }
            }
           }
          ],
          "scatterpolar": [
           {
            "type": "scatterpolar",
            "marker": {
             "colorbar": {
              "outlinewidth": 0,
              "ticks": ""
             }
            }
           }
          ],
          "histogram": [
           {
            "marker": {
             "pattern": {
              "fillmode": "overlay",
              "size": 10,
              "solidity": 0.2
             }
            },
            "type": "histogram"
           }
          ],
          "scattergl": [
           {
            "marker": {
             "line": {
              "color": "#283442"
             }
            },
            "type": "scattergl"
           }
          ],
          "scatter3d": [
           {
            "type": "scatter3d",
            "line": {
             "colorbar": {
              "outlinewidth": 0,
              "ticks": ""
             }
            },
            "marker": {
             "colorbar": {
              "outlinewidth": 0,
              "ticks": ""
             }
            }
           }
          ],
          "scattermapbox": [
           {
            "type": "scattermapbox",
            "marker": {
             "colorbar": {
              "outlinewidth": 0,
              "ticks": ""
             }
            }
           }
          ],
          "scatterternary": [
           {
            "type": "scatterternary",
            "marker": {
             "colorbar": {
              "outlinewidth": 0,
              "ticks": ""
             }
            }
           }
          ],
          "scattercarpet": [
           {
            "type": "scattercarpet",
            "marker": {
             "colorbar": {
              "outlinewidth": 0,
              "ticks": ""
             }
            }
           }
          ],
          "carpet": [
           {
            "aaxis": {
             "endlinecolor": "#A2B1C6",
             "gridcolor": "#506784",
             "linecolor": "#506784",
             "minorgridcolor": "#506784",
             "startlinecolor": "#A2B1C6"
            },
            "baxis": {
             "endlinecolor": "#A2B1C6",
             "gridcolor": "#506784",
             "linecolor": "#506784",
             "minorgridcolor": "#506784",
             "startlinecolor": "#A2B1C6"
            },
            "type": "carpet"
           }
          ],
          "table": [
           {
            "cells": {
             "fill": {
              "color": "#506784"
             },
             "line": {
              "color": "rgb(17,17,17)"
             }
            },
            "header": {
             "fill": {
              "color": "#2a3f5f"
             },
             "line": {
              "color": "rgb(17,17,17)"
             }
            },
            "type": "table"
           }
          ],
          "barpolar": [
           {
            "marker": {
             "line": {
              "color": "rgb(17,17,17)",
              "width": 0.5
             },
             "pattern": {
              "fillmode": "overlay",
              "size": 10,
              "solidity": 0.2
             }
            },
            "type": "barpolar"
           }
          ],
          "pie": [
           {
            "automargin": true,
            "type": "pie"
           }
          ]
         },
         "layout": {
          "autotypenumbers": "strict",
          "colorway": [
           "#636efa",
           "#EF553B",
           "#00cc96",
           "#ab63fa",
           "#FFA15A",
           "#19d3f3",
           "#FF6692",
           "#B6E880",
           "#FF97FF",
           "#FECB52"
          ],
          "font": {
           "color": "#f2f5fa"
          },
          "hovermode": "closest",
          "hoverlabel": {
           "align": "left"
          },
          "paper_bgcolor": "rgb(17,17,17)",
          "plot_bgcolor": "rgb(17,17,17)",
          "polar": {
           "bgcolor": "rgb(17,17,17)",
           "angularaxis": {
            "gridcolor": "#506784",
            "linecolor": "#506784",
            "ticks": ""
           },
           "radialaxis": {
            "gridcolor": "#506784",
            "linecolor": "#506784",
            "ticks": ""
           }
          },
          "ternary": {
           "bgcolor": "rgb(17,17,17)",
           "aaxis": {
            "gridcolor": "#506784",
            "linecolor": "#506784",
            "ticks": ""
           },
           "baxis": {
            "gridcolor": "#506784",
            "linecolor": "#506784",
            "ticks": ""
           },
           "caxis": {
            "gridcolor": "#506784",
            "linecolor": "#506784",
            "ticks": ""
           }
          },
          "coloraxis": {
           "colorbar": {
            "outlinewidth": 0,
            "ticks": ""
           }
          },
          "colorscale": {
           "sequential": [
            [
             0.0,
             "#0d0887"
            ],
            [
             0.1111111111111111,
             "#46039f"
            ],
            [
             0.2222222222222222,
             "#7201a8"
            ],
            [
             0.3333333333333333,
             "#9c179e"
            ],
            [
             0.4444444444444444,
             "#bd3786"
            ],
            [
             0.5555555555555556,
             "#d8576b"
            ],
            [
             0.6666666666666666,
             "#ed7953"
            ],
            [
             0.7777777777777778,
             "#fb9f3a"
            ],
            [
             0.8888888888888888,
             "#fdca26"
            ],
            [
             1.0,
             "#f0f921"
            ]
           ],
           "sequentialminus": [
            [
             0.0,
             "#0d0887"
            ],
            [
             0.1111111111111111,
             "#46039f"
            ],
            [
             0.2222222222222222,
             "#7201a8"
            ],
            [
             0.3333333333333333,
             "#9c179e"
            ],
            [
             0.4444444444444444,
             "#bd3786"
            ],
            [
             0.5555555555555556,
             "#d8576b"
            ],
            [
             0.6666666666666666,
             "#ed7953"
            ],
            [
             0.7777777777777778,
             "#fb9f3a"
            ],
            [
             0.8888888888888888,
             "#fdca26"
            ],
            [
             1.0,
             "#f0f921"
            ]
           ],
           "diverging": [
            [
             0,
             "#8e0152"
            ],
            [
             0.1,
             "#c51b7d"
            ],
            [
             0.2,
             "#de77ae"
            ],
            [
             0.3,
             "#f1b6da"
            ],
            [
             0.4,
             "#fde0ef"
            ],
            [
             0.5,
             "#f7f7f7"
            ],
            [
             0.6,
             "#e6f5d0"
            ],
            [
             0.7,
             "#b8e186"
            ],
            [
             0.8,
             "#7fbc41"
            ],
            [
             0.9,
             "#4d9221"
            ],
            [
             1,
             "#276419"
            ]
           ]
          },
          "xaxis": {
           "gridcolor": "#283442",
           "linecolor": "#506784",
           "ticks": "",
           "title": {
            "standoff": 15
           },
           "zerolinecolor": "#283442",
           "automargin": true,
           "zerolinewidth": 2
          },
          "yaxis": {
           "gridcolor": "#283442",
           "linecolor": "#506784",
           "ticks": "",
           "title": {
            "standoff": 15
           },
           "zerolinecolor": "#283442",
           "automargin": true,
           "zerolinewidth": 2
          },
          "scene": {
           "xaxis": {
            "backgroundcolor": "rgb(17,17,17)",
            "gridcolor": "#506784",
            "linecolor": "#506784",
            "showbackground": true,
            "ticks": "",
            "zerolinecolor": "#C8D4E3",
            "gridwidth": 2
           },
           "yaxis": {
            "backgroundcolor": "rgb(17,17,17)",
            "gridcolor": "#506784",
            "linecolor": "#506784",
            "showbackground": true,
            "ticks": "",
            "zerolinecolor": "#C8D4E3",
            "gridwidth": 2
           },
           "zaxis": {
            "backgroundcolor": "rgb(17,17,17)",
            "gridcolor": "#506784",
            "linecolor": "#506784",
            "showbackground": true,
            "ticks": "",
            "zerolinecolor": "#C8D4E3",
            "gridwidth": 2
           }
          },
          "shapedefaults": {
           "line": {
            "color": "#f2f5fa"
           }
          },
          "annotationdefaults": {
           "arrowcolor": "#f2f5fa",
           "arrowhead": 0,
           "arrowwidth": 1
          },
          "geo": {
           "bgcolor": "rgb(17,17,17)",
           "landcolor": "rgb(17,17,17)",
           "subunitcolor": "#506784",
           "showland": true,
           "showlakes": true,
           "lakecolor": "rgb(17,17,17)"
          },
          "title": {
           "x": 0.05
          },
          "updatemenudefaults": {
           "bgcolor": "#506784",
           "borderwidth": 0
          },
          "sliderdefaults": {
           "bgcolor": "#C8D4E3",
           "borderwidth": 1,
           "bordercolor": "rgb(17,17,17)",
           "tickwidth": 0
          },
          "mapbox": {
           "style": "dark"
          }
         }
        }
       },
       "config": {
        "plotlyServerURL": "https://plot.ly"
       }
      },
      "text/html": "<div>                            <div id=\"da113472-f20f-4141-ad71-50b4ba18ac13\" class=\"plotly-graph-div\" style=\"height:600px; width:100%;\"></div>            <script type=\"text/javascript\">                require([\"plotly\"], function(Plotly) {                    window.PLOTLYENV=window.PLOTLYENV || {};                                    if (document.getElementById(\"da113472-f20f-4141-ad71-50b4ba18ac13\")) {                    Plotly.newPlot(                        \"da113472-f20f-4141-ad71-50b4ba18ac13\",                        [{\"hoverinfo\":\"text\",\"mode\":\"markers\",\"name\":\"Indices: 0\",\"text\":[\"Termination: ('C_P6\\u002fmmm_2', 'Ni_R-3m_1')\\u003cbr\\u003eTermination index: 0\\u003cbr\\u003eInterfaces Index Range: 0\\u003cbr\\u003eStrain: 0.07%\\u003cbr\\u003eAtoms: 8\"],\"x\":[0.06600000000000002],\"y\":[8],\"type\":\"scatter\"},{\"hoverinfo\":\"text\",\"mode\":\"markers\",\"name\":\"Indices: 1-9\",\"text\":[\"Termination: ('C_P6\\u002fmmm_2', 'Ni_R-3m_1')\\u003cbr\\u003eTermination index: 0\\u003cbr\\u003eInterfaces Index Range: 1-9\\u003cbr\\u003eStrain: 0.07%\\u003cbr\\u003eAtoms: 16\"],\"x\":[0.06600000000000002],\"y\":[16],\"type\":\"scatter\"},{\"hoverinfo\":\"text\",\"mode\":\"markers\",\"name\":\"Indices: 10-19\",\"text\":[\"Termination: ('C_P6\\u002fmmm_2', 'Ni_R-3m_1')\\u003cbr\\u003eTermination index: 0\\u003cbr\\u003eInterfaces Index Range: 10-19\\u003cbr\\u003eStrain: 0.07%\\u003cbr\\u003eAtoms: 24\"],\"x\":[0.06600000000000002],\"y\":[24],\"type\":\"scatter\"},{\"hoverinfo\":\"text\",\"mode\":\"markers\",\"name\":\"Indices: 20-38\",\"text\":[\"Termination: ('C_P6\\u002fmmm_2', 'Ni_R-3m_1')\\u003cbr\\u003eTermination index: 0\\u003cbr\\u003eInterfaces Index Range: 20-38\\u003cbr\\u003eStrain: 0.07%\\u003cbr\\u003eAtoms: 32\"],\"x\":[0.06600000000000002],\"y\":[32],\"type\":\"scatter\"},{\"hoverinfo\":\"text\",\"mode\":\"markers\",\"name\":\"Indices: 39-56\",\"text\":[\"Termination: ('C_P6\\u002fmmm_2', 'Ni_R-3m_1')\\u003cbr\\u003eTermination index: 0\\u003cbr\\u003eInterfaces Index Range: 39-56\\u003cbr\\u003eStrain: 0.07%\\u003cbr\\u003eAtoms: 40\"],\"x\":[0.06600000000000002],\"y\":[40],\"type\":\"scatter\"},{\"hoverinfo\":\"text\",\"mode\":\"markers\",\"name\":\"Indices: 57-110\",\"text\":[\"Termination: ('C_P6\\u002fmmm_2', 'Ni_R-3m_1')\\u003cbr\\u003eTermination index: 0\\u003cbr\\u003eInterfaces Index Range: 57-110\\u003cbr\\u003eStrain: 0.07%\\u003cbr\\u003eAtoms: 48\"],\"x\":[0.06600000000000002],\"y\":[48],\"type\":\"scatter\"},{\"hoverinfo\":\"text\",\"mode\":\"markers\",\"name\":\"Indices: 111-132\",\"text\":[\"Termination: ('C_P6\\u002fmmm_2', 'Ni_R-3m_1')\\u003cbr\\u003eTermination index: 0\\u003cbr\\u003eInterfaces Index Range: 111-132\\u003cbr\\u003eStrain: 0.07%\\u003cbr\\u003eAtoms: 56\"],\"x\":[0.06600000000000002],\"y\":[56],\"type\":\"scatter\"},{\"hoverinfo\":\"text\",\"mode\":\"markers\",\"name\":\"Indices: 133-177\",\"text\":[\"Termination: ('C_P6\\u002fmmm_2', 'Ni_R-3m_1')\\u003cbr\\u003eTermination index: 0\\u003cbr\\u003eInterfaces Index Range: 133-177\\u003cbr\\u003eStrain: 0.07%\\u003cbr\\u003eAtoms: 64\"],\"x\":[0.06600000000000002],\"y\":[64],\"type\":\"scatter\"},{\"hoverinfo\":\"text\",\"mode\":\"markers\",\"name\":\"Indices: 178-232\",\"text\":[\"Termination: ('C_P6\\u002fmmm_2', 'Ni_R-3m_1')\\u003cbr\\u003eTermination index: 0\\u003cbr\\u003eInterfaces Index Range: 178-232\\u003cbr\\u003eStrain: 0.07%\\u003cbr\\u003eAtoms: 72\"],\"x\":[0.06600000000000002],\"y\":[72],\"type\":\"scatter\"}],                        {\"height\":600,\"hovermode\":\"closest\",\"legend\":{\"title\":{\"text\":\"Interfaces Index Range\"}},\"xaxis\":{\"title\":{\"text\":\"Strain (%)\"},\"type\":\"log\"},\"yaxis\":{\"title\":{\"text\":\"Number of atoms\"},\"type\":\"log\"},\"template\":{\"data\":{\"histogram2dcontour\":[{\"type\":\"histogram2dcontour\",\"colorbar\":{\"outlinewidth\":0,\"ticks\":\"\"},\"colorscale\":[[0.0,\"#0d0887\"],[0.1111111111111111,\"#46039f\"],[0.2222222222222222,\"#7201a8\"],[0.3333333333333333,\"#9c179e\"],[0.4444444444444444,\"#bd3786\"],[0.5555555555555556,\"#d8576b\"],[0.6666666666666666,\"#ed7953\"],[0.7777777777777778,\"#fb9f3a\"],[0.8888888888888888,\"#fdca26\"],[1.0,\"#f0f921\"]]}],\"choropleth\":[{\"type\":\"choropleth\",\"colorbar\":{\"outlinewidth\":0,\"ticks\":\"\"}}],\"histogram2d\":[{\"type\":\"histogram2d\",\"colorbar\":{\"outlinewidth\":0,\"ticks\":\"\"},\"colorscale\":[[0.0,\"#0d0887\"],[0.1111111111111111,\"#46039f\"],[0.2222222222222222,\"#7201a8\"],[0.3333333333333333,\"#9c179e\"],[0.4444444444444444,\"#bd3786\"],[0.5555555555555556,\"#d8576b\"],[0.6666666666666666,\"#ed7953\"],[0.7777777777777778,\"#fb9f3a\"],[0.8888888888888888,\"#fdca26\"],[1.0,\"#f0f921\"]]}],\"heatmap\":[{\"type\":\"heatmap\",\"colorbar\":{\"outlinewidth\":0,\"ticks\":\"\"},\"colorscale\":[[0.0,\"#0d0887\"],[0.1111111111111111,\"#46039f\"],[0.2222222222222222,\"#7201a8\"],[0.3333333333333333,\"#9c179e\"],[0.4444444444444444,\"#bd3786\"],[0.5555555555555556,\"#d8576b\"],[0.6666666666666666,\"#ed7953\"],[0.7777777777777778,\"#fb9f3a\"],[0.8888888888888888,\"#fdca26\"],[1.0,\"#f0f921\"]]}],\"heatmapgl\":[{\"type\":\"heatmapgl\",\"colorbar\":{\"outlinewidth\":0,\"ticks\":\"\"},\"colorscale\":[[0.0,\"#0d0887\"],[0.1111111111111111,\"#46039f\"],[0.2222222222222222,\"#7201a8\"],[0.3333333333333333,\"#9c179e\"],[0.4444444444444444,\"#bd3786\"],[0.5555555555555556,\"#d8576b\"],[0.6666666666666666,\"#ed7953\"],[0.7777777777777778,\"#fb9f3a\"],[0.8888888888888888,\"#fdca26\"],[1.0,\"#f0f921\"]]}],\"contourcarpet\":[{\"type\":\"contourcarpet\",\"colorbar\":{\"outlinewidth\":0,\"ticks\":\"\"}}],\"contour\":[{\"type\":\"contour\",\"colorbar\":{\"outlinewidth\":0,\"ticks\":\"\"},\"colorscale\":[[0.0,\"#0d0887\"],[0.1111111111111111,\"#46039f\"],[0.2222222222222222,\"#7201a8\"],[0.3333333333333333,\"#9c179e\"],[0.4444444444444444,\"#bd3786\"],[0.5555555555555556,\"#d8576b\"],[0.6666666666666666,\"#ed7953\"],[0.7777777777777778,\"#fb9f3a\"],[0.8888888888888888,\"#fdca26\"],[1.0,\"#f0f921\"]]}],\"surface\":[{\"type\":\"surface\",\"colorbar\":{\"outlinewidth\":0,\"ticks\":\"\"},\"colorscale\":[[0.0,\"#0d0887\"],[0.1111111111111111,\"#46039f\"],[0.2222222222222222,\"#7201a8\"],[0.3333333333333333,\"#9c179e\"],[0.4444444444444444,\"#bd3786\"],[0.5555555555555556,\"#d8576b\"],[0.6666666666666666,\"#ed7953\"],[0.7777777777777778,\"#fb9f3a\"],[0.8888888888888888,\"#fdca26\"],[1.0,\"#f0f921\"]]}],\"mesh3d\":[{\"type\":\"mesh3d\",\"colorbar\":{\"outlinewidth\":0,\"ticks\":\"\"}}],\"scatter\":[{\"marker\":{\"line\":{\"color\":\"#283442\"}},\"type\":\"scatter\"}],\"parcoords\":[{\"type\":\"parcoords\",\"line\":{\"colorbar\":{\"outlinewidth\":0,\"ticks\":\"\"}}}],\"scatterpolargl\":[{\"type\":\"scatterpolargl\",\"marker\":{\"colorbar\":{\"outlinewidth\":0,\"ticks\":\"\"}}}],\"bar\":[{\"error_x\":{\"color\":\"#f2f5fa\"},\"error_y\":{\"color\":\"#f2f5fa\"},\"marker\":{\"line\":{\"color\":\"rgb(17,17,17)\",\"width\":0.5},\"pattern\":{\"fillmode\":\"overlay\",\"size\":10,\"solidity\":0.2}},\"type\":\"bar\"}],\"scattergeo\":[{\"type\":\"scattergeo\",\"marker\":{\"colorbar\":{\"outlinewidth\":0,\"ticks\":\"\"}}}],\"scatterpolar\":[{\"type\":\"scatterpolar\",\"marker\":{\"colorbar\":{\"outlinewidth\":0,\"ticks\":\"\"}}}],\"histogram\":[{\"marker\":{\"pattern\":{\"fillmode\":\"overlay\",\"size\":10,\"solidity\":0.2}},\"type\":\"histogram\"}],\"scattergl\":[{\"marker\":{\"line\":{\"color\":\"#283442\"}},\"type\":\"scattergl\"}],\"scatter3d\":[{\"type\":\"scatter3d\",\"line\":{\"colorbar\":{\"outlinewidth\":0,\"ticks\":\"\"}},\"marker\":{\"colorbar\":{\"outlinewidth\":0,\"ticks\":\"\"}}}],\"scattermapbox\":[{\"type\":\"scattermapbox\",\"marker\":{\"colorbar\":{\"outlinewidth\":0,\"ticks\":\"\"}}}],\"scatterternary\":[{\"type\":\"scatterternary\",\"marker\":{\"colorbar\":{\"outlinewidth\":0,\"ticks\":\"\"}}}],\"scattercarpet\":[{\"type\":\"scattercarpet\",\"marker\":{\"colorbar\":{\"outlinewidth\":0,\"ticks\":\"\"}}}],\"carpet\":[{\"aaxis\":{\"endlinecolor\":\"#A2B1C6\",\"gridcolor\":\"#506784\",\"linecolor\":\"#506784\",\"minorgridcolor\":\"#506784\",\"startlinecolor\":\"#A2B1C6\"},\"baxis\":{\"endlinecolor\":\"#A2B1C6\",\"gridcolor\":\"#506784\",\"linecolor\":\"#506784\",\"minorgridcolor\":\"#506784\",\"startlinecolor\":\"#A2B1C6\"},\"type\":\"carpet\"}],\"table\":[{\"cells\":{\"fill\":{\"color\":\"#506784\"},\"line\":{\"color\":\"rgb(17,17,17)\"}},\"header\":{\"fill\":{\"color\":\"#2a3f5f\"},\"line\":{\"color\":\"rgb(17,17,17)\"}},\"type\":\"table\"}],\"barpolar\":[{\"marker\":{\"line\":{\"color\":\"rgb(17,17,17)\",\"width\":0.5},\"pattern\":{\"fillmode\":\"overlay\",\"size\":10,\"solidity\":0.2}},\"type\":\"barpolar\"}],\"pie\":[{\"automargin\":true,\"type\":\"pie\"}]},\"layout\":{\"autotypenumbers\":\"strict\",\"colorway\":[\"#636efa\",\"#EF553B\",\"#00cc96\",\"#ab63fa\",\"#FFA15A\",\"#19d3f3\",\"#FF6692\",\"#B6E880\",\"#FF97FF\",\"#FECB52\"],\"font\":{\"color\":\"#f2f5fa\"},\"hovermode\":\"closest\",\"hoverlabel\":{\"align\":\"left\"},\"paper_bgcolor\":\"rgb(17,17,17)\",\"plot_bgcolor\":\"rgb(17,17,17)\",\"polar\":{\"bgcolor\":\"rgb(17,17,17)\",\"angularaxis\":{\"gridcolor\":\"#506784\",\"linecolor\":\"#506784\",\"ticks\":\"\"},\"radialaxis\":{\"gridcolor\":\"#506784\",\"linecolor\":\"#506784\",\"ticks\":\"\"}},\"ternary\":{\"bgcolor\":\"rgb(17,17,17)\",\"aaxis\":{\"gridcolor\":\"#506784\",\"linecolor\":\"#506784\",\"ticks\":\"\"},\"baxis\":{\"gridcolor\":\"#506784\",\"linecolor\":\"#506784\",\"ticks\":\"\"},\"caxis\":{\"gridcolor\":\"#506784\",\"linecolor\":\"#506784\",\"ticks\":\"\"}},\"coloraxis\":{\"colorbar\":{\"outlinewidth\":0,\"ticks\":\"\"}},\"colorscale\":{\"sequential\":[[0.0,\"#0d0887\"],[0.1111111111111111,\"#46039f\"],[0.2222222222222222,\"#7201a8\"],[0.3333333333333333,\"#9c179e\"],[0.4444444444444444,\"#bd3786\"],[0.5555555555555556,\"#d8576b\"],[0.6666666666666666,\"#ed7953\"],[0.7777777777777778,\"#fb9f3a\"],[0.8888888888888888,\"#fdca26\"],[1.0,\"#f0f921\"]],\"sequentialminus\":[[0.0,\"#0d0887\"],[0.1111111111111111,\"#46039f\"],[0.2222222222222222,\"#7201a8\"],[0.3333333333333333,\"#9c179e\"],[0.4444444444444444,\"#bd3786\"],[0.5555555555555556,\"#d8576b\"],[0.6666666666666666,\"#ed7953\"],[0.7777777777777778,\"#fb9f3a\"],[0.8888888888888888,\"#fdca26\"],[1.0,\"#f0f921\"]],\"diverging\":[[0,\"#8e0152\"],[0.1,\"#c51b7d\"],[0.2,\"#de77ae\"],[0.3,\"#f1b6da\"],[0.4,\"#fde0ef\"],[0.5,\"#f7f7f7\"],[0.6,\"#e6f5d0\"],[0.7,\"#b8e186\"],[0.8,\"#7fbc41\"],[0.9,\"#4d9221\"],[1,\"#276419\"]]},\"xaxis\":{\"gridcolor\":\"#283442\",\"linecolor\":\"#506784\",\"ticks\":\"\",\"title\":{\"standoff\":15},\"zerolinecolor\":\"#283442\",\"automargin\":true,\"zerolinewidth\":2},\"yaxis\":{\"gridcolor\":\"#283442\",\"linecolor\":\"#506784\",\"ticks\":\"\",\"title\":{\"standoff\":15},\"zerolinecolor\":\"#283442\",\"automargin\":true,\"zerolinewidth\":2},\"scene\":{\"xaxis\":{\"backgroundcolor\":\"rgb(17,17,17)\",\"gridcolor\":\"#506784\",\"linecolor\":\"#506784\",\"showbackground\":true,\"ticks\":\"\",\"zerolinecolor\":\"#C8D4E3\",\"gridwidth\":2},\"yaxis\":{\"backgroundcolor\":\"rgb(17,17,17)\",\"gridcolor\":\"#506784\",\"linecolor\":\"#506784\",\"showbackground\":true,\"ticks\":\"\",\"zerolinecolor\":\"#C8D4E3\",\"gridwidth\":2},\"zaxis\":{\"backgroundcolor\":\"rgb(17,17,17)\",\"gridcolor\":\"#506784\",\"linecolor\":\"#506784\",\"showbackground\":true,\"ticks\":\"\",\"zerolinecolor\":\"#C8D4E3\",\"gridwidth\":2}},\"shapedefaults\":{\"line\":{\"color\":\"#f2f5fa\"}},\"annotationdefaults\":{\"arrowcolor\":\"#f2f5fa\",\"arrowhead\":0,\"arrowwidth\":1},\"geo\":{\"bgcolor\":\"rgb(17,17,17)\",\"landcolor\":\"rgb(17,17,17)\",\"subunitcolor\":\"#506784\",\"showland\":true,\"showlakes\":true,\"lakecolor\":\"rgb(17,17,17)\"},\"title\":{\"x\":0.05},\"updatemenudefaults\":{\"bgcolor\":\"#506784\",\"borderwidth\":0},\"sliderdefaults\":{\"bgcolor\":\"#C8D4E3\",\"borderwidth\":1,\"bordercolor\":\"rgb(17,17,17)\",\"tickwidth\":0},\"mapbox\":{\"style\":\"dark\"}}}},                        {\"responsive\": true}                    ).then(function(){\n                            \nvar gd = document.getElementById('da113472-f20f-4141-ad71-50b4ba18ac13');\nvar x = new MutationObserver(function (mutations, observer) {{\n        var display = window.getComputedStyle(gd).display;\n        if (!display || display === 'none') {{\n            console.log([gd, 'removed!']);\n            Plotly.purge(gd);\n            observer.disconnect();\n        }}\n}});\n\n// Listen for the removal of the full notebook cells\nvar notebookContainer = gd.closest('#notebook-container');\nif (notebookContainer) {{\n    x.observe(notebookContainer, {childList: true});\n}}\n\n// Listen for the clearing of the current output cell\nvar outputEl = gd.closest('.output');\nif (outputEl) {{\n    x.observe(outputEl, {childList: true});\n}}\n\n                        })                };                });            </script>        </div>"
     },
     "metadata": {},
     "output_type": "display_data"
    },
    {
     "name": "stdout",
     "output_type": "stream",
     "text": [
      "Termination 0: ('C_P6/mmm_2', 'Ni_R-3m_1')\n"
     ]
    }
   ],
   "source": [
    "import plotly.graph_objs as go\n",
    "from collections import defaultdict\n",
    "\n",
    "PLOT_SETTINGS = {\n",
    "    \"HEIGHT\": 600,\n",
    "    \"X_SCALE\": \"log\",  # or linear\n",
    "    \"Y_SCALE\": \"log\",  # or linear\n",
    "}\n",
    "\n",
    "\n",
    "def plot_strain_vs_atoms(sorted_interfaces, terminations, settings):\n",
    "    # Create a mapping from termination to its index\n",
    "    termination_to_index = {termination: i for i, termination in enumerate(terminations)}\n",
    "\n",
    "    grouped_interfaces = defaultdict(list)\n",
    "    for termination, interfaces in sorted_interfaces.items():\n",
    "        for index, interface_data in enumerate(interfaces):\n",
    "            strain_percentage = interface_data[\"mean_abs_strain\"] * 100\n",
    "            num_sites = interface_data[\"interface\"].num_sites\n",
    "            key = (strain_percentage, num_sites)\n",
    "            grouped_interfaces[key].append((index, termination))\n",
    "    \n",
    "    data = []\n",
    "    for (strain, num_sites), indices_and_terminations in grouped_interfaces.items():\n",
    "        termination_indices = defaultdict(list)\n",
    "        for index, termination in indices_and_terminations:\n",
    "            termination_indices[termination].append(index)\n",
    "        all_indices = [index for indices in termination_indices.values() for index in indices]\n",
    "        index_range = f\"{min(all_indices)}-{max(all_indices)}\" if len(all_indices) > 1 else str(min(all_indices))\n",
    "        \n",
    "        hover_text = \"<br>-----<br>\".join(\n",
    "             f\"Termination: {termination}<br>Termination index: {termination_to_index[termination]}<br>Interfaces Index Range: {index_range}<br>Strain: {strain:.2f}%<br>Atoms: {num_sites}\"\n",
    "            for termination, indices in termination_indices.items()\n",
    "        )\n",
    "        trace = go.Scatter(\n",
    "            x=[strain],\n",
    "            y=[num_sites],\n",
    "            text=[hover_text],\n",
    "            mode=\"markers\",\n",
    "            hoverinfo=\"text\",\n",
    "            name=f\"Indices: {index_range}\",\n",
    "        )\n",
    "        data.append(trace)\n",
    "\n",
    "    layout = go.Layout(\n",
    "        xaxis=dict(title=\"Strain (%)\", type=settings[\"X_SCALE\"]),\n",
    "        yaxis=dict(title=\"Number of atoms\", type=settings[\"Y_SCALE\"]),\n",
    "        hovermode=\"closest\",\n",
    "        height=settings[\"HEIGHT\"],\n",
    "        legend_title_text=\"Interfaces Index Range\",\n",
    "    )\n",
    "    fig = go.Figure(data=data, layout=layout)\n",
    "    fig.show()\n",
    "\n",
    "\n",
    "\n",
    "plot_strain_vs_atoms(sorted_interfaces, terminations, PLOT_SETTINGS)\n",
    "\n",
    "for i, termination in enumerate(terminations):\n",
    "    print(f\"Termination {i}:\", termination)"
   ]
  },
  {
   "cell_type": "markdown",
   "metadata": {},
   "source": [
    "## 6. Select the interface to relax\n",
    "\n",
    "### 6.1. Select the interface with the desired termination and strain\n",
    "\n",
    "The data in `sorted_interfaces` now contains an object with the following structure:\n",
    "\n",
    "```json\n",
    "{\n",
    "    \"('C_P6/mmm_2', 'Si_R-3m_1')\": [\n",
    "        { ...interface for ('C_P6/mmm_2', 'Si_R-3m_1') at index 0...},\n",
    "        { ...interface for ('C_P6/mmm_2', 'Si_R-3m_1') at index 1...},\n",
    "        ...\n",
    "    ],\n",
    "    \"<termination at index 1>\": [\n",
    "        { ...interface for 'termination at index 1' at index 0...},\n",
    "        { ...interface for 'termination at index 1' at index 1...},\n",
    "        ...\n",
    "    ]\n",
    "}\n",
    "```\n",
    "\n",
    "Select the index for termination first, and for it - the index in the list of corresponding interfaces sorted by strain (index 0 has minimum strain)."
   ]
  },
  {
   "cell_type": "code",
   "execution_count": 25,
   "metadata": {
    "ExecuteTime": {
     "end_time": "2024-02-27T00:20:44.267929Z",
     "start_time": "2024-02-27T00:20:44.237428Z"
    }
   },
   "outputs": [],
   "source": [
    "termination_index = 0\n",
    "interface_index = 0\n",
    "\n",
    "termination = terminations[termination_index]\n",
    "\n",
    "interface = sorted_interfaces[termination][interface_index][\"interface\"]"
   ]
  },
  {
   "cell_type": "markdown",
   "metadata": {},
   "source": [
    "## 7. Apply relaxation\n",
    "### 7.1. Apply relaxation to the selected interface"
   ]
  },
  {
   "cell_type": "code",
   "execution_count": 31,
   "metadata": {
    "ExecuteTime": {
     "end_time": "2024-02-27T00:38:45.591387Z",
     "start_time": "2024-02-27T00:38:37.968038Z"
    }
   },
   "outputs": [
    {
     "data": {
      "application/vnd.jupyter.widget-view+json": {
       "version_major": 2,
       "version_minor": 0,
       "model_id": "483baf94a1ef4a31b38ac5535ef55099"
      },
      "text/plain": "FigureWidget({\n    'data': [{'mode': 'lines+markers',\n              'name': 'Energy',\n              'type': 'scatter',\n              'uid': 'a6f1aecb-093d-48b8-a1bc-0484426f55a3',\n              'x': [],\n              'y': []}],\n    'layout': {'template': '...',\n               'title': {'text': 'Real-time Optimization Progress'},\n               'xaxis': {'anchor': 'y', 'domain': [0.0, 1.0], 'title': {'text': 'Step'}},\n               'yaxis': {'anchor': 'x', 'domain': [0.0, 1.0], 'title': {'text': 'Energy (eV)'}}}\n})"
     },
     "metadata": {},
     "output_type": "display_data"
    },
    {
     "name": "stdout",
     "output_type": "stream",
     "text": [
      "Original structure:\n",
      " Ni6 C2\n",
      "1.0\n",
      "   2.4600000000000000    0.0000000000000000    0.0000000000000002\n",
      "   1.2300000000000002    2.1304224933097191    0.0000000000000002\n",
      "   0.0000000000000000    0.0000000000000000   33.0429079454110308\n",
      "Ni C\n",
      "6 2\n",
      "direct\n",
      "   0.3333333333333333    0.3333333333333333    0.0000000000000000 Ni\n",
      "   0.9999999999999998    0.9999999999999998    0.0607870709321501 Ni\n",
      "   0.6666666666666665    0.6666666666666665    0.1215741418643002 Ni\n",
      "   0.3333333333333330    0.3333333333333330    0.1823612127964503 Ni\n",
      "   0.9999999999999996    0.9999999999999996    0.2431482837286004 Ni\n",
      "   0.6666666666666661    0.6666666666666652    0.3039353546607505 Ni\n",
      "   0.0000000000000020    0.9999999999999980    0.3947263953571744 C\n",
      "   0.3333330000000021    0.3333329999999978    0.3947263953571744 C\n",
      "\n",
      "\n",
      "Relaxed structure:\n",
      " Ni6 C2\n",
      "1.0\n",
      "   2.4600000000000000    0.0000000000000000    0.0000000000000002\n",
      "   1.2300000000000002    2.1304224933097191    0.0000000000000002\n",
      "   0.0000000000000000    0.0000000000000000   33.0429079454110308\n",
      "Ni C\n",
      "6 2\n",
      "direct\n",
      "   0.3333328401522482    0.3333342715564945   -0.0099684884982250 Ni\n",
      "   0.9999997205486790    1.0000000000896618    0.0510066813168542 Ni\n",
      "   0.6666666443745959    0.6666668216288115    0.1128492205931824 Ni\n",
      "   0.3333335899028532    0.3333329575370078    0.1743100794068464 Ni\n",
      "   1.0000002638705896    0.9999999705158781    0.2361464842169896 Ni\n",
      "   0.6666668925388970    0.6666667116869610    0.2970011691731138 Ni\n",
      "  -0.0000060600919567    0.9999919068544717    0.4199568529139915 C\n",
      "   0.3333392140646025    0.3333402576715193    0.4199568547113113 C\n",
      "\n",
      "The final energy is -51.842 eV.\n"
     ]
    }
   ],
   "source": [
    "from src.utils import pymatgen_to_ase\n",
    "import matgl\n",
    "from pymatgen.io.ase import AseAtomsAdaptor\n",
    "from matgl.ext.ase import Relaxer\n",
    "import plotly.graph_objs as go\n",
    "from IPython.display import display\n",
    "from plotly.subplots import make_subplots\n",
    "\n",
    "ase_adaptor = AseAtomsAdaptor()\n",
    "\n",
    "# Load the M3GNet model\n",
    "pot = matgl.load_model(\"M3GNet-MP-2021.2.8-PES\")\n",
    "\n",
    "# Initialize the relaxer\n",
    "relaxer = Relaxer(potential=pot, relax_cell=False)\n",
    "\n",
    "# Initialize empty lists to store steps and energies for Plotly\n",
    "steps = []\n",
    "energies = []\n",
    "\n",
    "# Create a Plotly figure widget for visualization\n",
    "fig = make_subplots(rows=1, cols=1, specs=[[{\"type\": \"scatter\"}]])\n",
    "scatter = go.Scatter(x=[], y=[], mode='lines+markers', name='Energy')\n",
    "fig.add_trace(scatter)\n",
    "fig.update_layout(title_text='Real-time Optimization Progress', xaxis_title='Step', yaxis_title='Energy (eV)')\n",
    "\n",
    "# Display figure widget\n",
    "f = go.FigureWidget(fig)\n",
    "display(f)\n",
    "\n",
    "# Relax the structure\n",
    "relax_results = relaxer.relax(interface, fmax=RELAXATION_PARAMETERS[\"FMAX\"])\n",
    "\n",
    "# No live updates from Matgl Relaxer, so we need to extract the data from the results\n",
    "energies = relax_results[\"trajectory\"].energies\n",
    "steps = list(range(len(energies)))\n",
    "\n",
    "# Update the figure with the new data\n",
    "with f.batch_update():\n",
    "    f.data[0].x = steps\n",
    "    f.data[0].y = energies\n",
    "\n",
    "# Extract results\n",
    "relaxed_interface = relax_results[\"final_structure\"]\n",
    "relaxed_energy = energies[-1]\n",
    "\n",
    "ase_original_interface = pymatgen_to_ase(interface)\n",
    "ase_final_interface = pymatgen_to_ase(relaxed_interface)\n",
    "\n",
    "# Print out the final relaxed structure and energy\n",
    "print('Original structure:\\n', interface.to(fmt=\"poscar\"))\n",
    "print('\\nRelaxed structure:\\n', relaxed_interface.to(fmt=\"poscar\"))\n",
    "print(f\"The final energy is {float(relaxed_energy):.3f} eV.\")\n"
   ]
  },
  {
   "cell_type": "markdown",
   "metadata": {},
   "source": [
    "### 7.2. View structure before and after relaxation"
   ]
  },
  {
   "cell_type": "code",
   "execution_count": 27,
   "metadata": {
    "ExecuteTime": {
     "end_time": "2024-02-27T00:20:50.499810Z",
     "start_time": "2024-02-27T00:20:50.299681Z"
    }
   },
   "outputs": [
    {
     "data": {
      "text/plain": "<IPython.core.display.HTML object>",
      "text/html": "<div style=\"display: flex;\">\n    <div style=\"display: inline-block; margin: 10px; vertical-align: top;\">\n        <p>Ni6C2 - original</p>\n        <img src=\"data:image/png;base64,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\" alt=\"original\" />\n    </div>\n    \n    <div style=\"display: inline-block; margin: 10px; vertical-align: top;\">\n        <p>Ni6C2 - relaxed</p>\n        <img src=\"data:image/png;base64,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\" alt=\"relaxed\" />\n    </div>\n    </div>"
     },
     "metadata": {},
     "output_type": "display_data"
    }
   ],
   "source": [
    "import base64\n",
    "from ase.io import write\n",
    "from ase.build import make_supercell\n",
    "from IPython.display import HTML\n",
    "import io\n",
    "\n",
    "def visualize_material_base64(material, title: str, rotation: str = '0x', number_of_repetitions: int = 3):\n",
    "    \"\"\"\n",
    "    Returns an HTML string with a Base64-encoded image for visualization,\n",
    "    including the name of the file, positioned horizontally.\n",
    "    \"\"\"\n",
    "    # Set the number of unit cell repetition for the structure\n",
    "    n = number_of_repetitions\n",
    "    material_repeat = make_supercell(material, [[n,0,0],[0,n,0],[0,0,1]])\n",
    "    text = f\"{material.symbols} - {title}\"\n",
    "    \n",
    "    # Write image to a buffer to display in HTML\n",
    "    buf = io.BytesIO()\n",
    "    write(buf, material_repeat, format='png', rotation=rotation)\n",
    "    buf.seek(0)\n",
    "    img_str = base64.b64encode(buf.read()).decode('utf-8')\n",
    "    html_str = f'''\n",
    "    <div style=\"display: inline-block; margin: 10px; vertical-align: top;\">\n",
    "        <p>{text}</p>\n",
    "        <img src=\"data:image/png;base64,{img_str}\" alt=\"{title}\" />\n",
    "    </div>\n",
    "    '''\n",
    "    return html_str\n",
    "\n",
    "html_original = visualize_material_base64(ase_original_interface, \"original\", \"-90x\")\n",
    "html_relaxed = visualize_material_base64(ase_final_interface, \"relaxed\", \"-90x\")\n",
    "\n",
    "# Display the interfaces before and after relaxation\n",
    "html_content = f'<div style=\"display: flex;\">{html_original}{html_relaxed}</div>'\n",
    "display(HTML(html_content))\n",
    "\n"
   ]
  },
  {
   "cell_type": "markdown",
   "metadata": {},
   "source": [
    "### 7.3. Calculate energy energy using matgl M3GNet"
   ]
  },
  {
   "cell_type": "code",
   "execution_count": 28,
   "metadata": {
    "ExecuteTime": {
     "end_time": "2024-02-27T00:20:50.697058Z",
     "start_time": "2024-02-27T00:20:50.509503Z"
    }
   },
   "outputs": [
    {
     "name": "stdout",
     "output_type": "stream",
     "text": [
      "5.240839333541911\n",
      "8\n",
      "6\n",
      "2\n",
      "Relaxed interface energy: -51.8419 eV\n",
      "Original Substrate energy: -33.5361 eV\n",
      "Original Layer energy: -18.2533 eV\n",
      "Original Delta: -0.0525 eV\n",
      "Original Delta per area: -0.0100 eV/Ang^2\n",
      "Relaxed Substrate energy: -33.5471 eV\n",
      "Relaxed Layer energy: -18.2533 eV\n",
      "Relaxed Delta: -0.0415 eV\n",
      "Relaxed Delta per area: -0.0079 eV/Ang^2\n",
      "Effective relaxed Delta per area: -2.1102 eV/Ang^2\n",
      "Ni  C \n",
      " 1.0000000000000000\n",
      "     2.4600000000000000    0.0000000000000000    0.0000000000000002\n",
      "     1.2300000000000002    2.1304224933097191    0.0000000000000002\n",
      "     0.0000000000000000    0.0000000000000000   33.0429079454110308\n",
      " Ni  C  \n",
      "   6   2\n",
      "Cartesian\n",
      "  1.2299999407890190  0.7101428299149660 -0.3293878478017375\n",
      "  3.6899993126600346  2.1304224935007365  1.6854090753537312\n",
      "  2.4600001357649441  1.4202819923413184  3.7288664077719074\n",
      "  1.2300001689315385  0.7101400304982948  5.7597119077977128\n",
      "  3.6900006128561804  2.1304224304960826  7.8029665396144470\n",
      "  2.4600006110206487  1.4202817581187270  9.8137822926666463\n",
      "  1.2299751376047869  2.1304052514904441 13.8765956318815409\n",
      "  1.2300229835348910  0.7101555828690624 13.8765956912702126\n",
      "\n",
      "Ni \n",
      " 1.0000000000000000\n",
      "     2.4600000000000000    0.0000000000000000    0.0000000000000002\n",
      "     1.2300000000000002    2.1304224933097191    0.0000000000000002\n",
      "     0.0000000000000000    0.0000000000000000   33.0429079454110308\n",
      " Ni \n",
      "   6\n",
      "Cartesian\n",
      "  1.2299999407890190  0.7101428299149660 -0.3293878478017375\n",
      "  3.6899993126600346  2.1304224935007365  1.6854090753537312\n",
      "  2.4600001357649441  1.4202819923413184  3.7288664077719074\n",
      "  1.2300001689315385  0.7101400304982948  5.7597119077977128\n",
      "  3.6900006128561804  2.1304224304960826  7.8029665396144470\n",
      "  2.4600006110206487  1.4202817581187270  9.8137822926666463\n",
      "\n",
      " C \n",
      " 1.0000000000000000\n",
      "     2.4600000000000000    0.0000000000000000    0.0000000000000002\n",
      "     1.2300000000000002    2.1304224933097191    0.0000000000000002\n",
      "     0.0000000000000000    0.0000000000000000   33.0429079454110308\n",
      " C  \n",
      "   2\n",
      "Cartesian\n",
      "  1.2299751376047869  2.1304052514904441 13.8765956318815409\n",
      "  1.2300229835348910  0.7101555828690624 13.8765956912702126\n",
      "\n",
      "Ni \n",
      " 1.0000000000000000\n",
      "     2.4600000000000000    0.0000000000000000    0.0000000000000002\n",
      "     1.2300000000000002    2.1304224933097191    0.0000000000000002\n",
      "     0.0000000000000000    0.0000000000000000   33.0429079454110308\n",
      " Ni \n",
      "   6\n",
      "Cartesian\n",
      "  1.2299999999999998  0.7101408311032396  0.0000000000000001\n",
      "  3.6899999999999995  2.1304224933097187  2.0085815890822065\n",
      "  2.4599999999999995  1.4202816622064791  4.0171631781644122\n",
      "  1.2299999999999991  0.7101408311032391  6.0257447672466178\n",
      "  3.6899999999999986  2.1304224933097182  8.0343263563288261\n",
      "  2.4599999999999969  1.4202816622064762 10.0429079454110326\n",
      "\n",
      " C \n",
      " 1.0000000000000000\n",
      "     2.4600000000000000    0.0000000000000000    0.0000000000000002\n",
      "     1.2300000000000002    2.1304224933097191    0.0000000000000002\n",
      "     0.0000000000000000    0.0000000000000000   33.0429079454110308\n",
      " C  \n",
      "   2\n",
      "Cartesian\n",
      "  1.2300000000000026  2.1304224933097147 13.0429079454110326\n",
      "  1.2299987700000026  0.7101401209624039 13.0429079454110326\n"
     ]
    }
   ],
   "source": [
    "from src.utils import ase_to_poscar\n",
    "from ase import Atoms\n",
    "nickel_relaxed_interface = ase_final_interface.copy()\n",
    "graphene_relaxed_interface = ase_final_interface.copy()\n",
    "nickel_original_interface = ase_original_interface.copy()\n",
    "graphene_original_interface = ase_original_interface.copy()\n",
    "\n",
    "del nickel_relaxed_interface[[atom.index for atom in nickel_relaxed_interface if atom.symbol != 'Ni']]\n",
    "del graphene_relaxed_interface[[atom.index for atom in graphene_relaxed_interface if atom.symbol != 'C']]\n",
    "del nickel_original_interface[[atom.index for atom in nickel_original_interface if atom.symbol != 'Ni']]\n",
    "del graphene_original_interface[[atom.index for atom in graphene_original_interface if atom.symbol != 'C']]\n",
    "\n",
    "#set EMT calculator\n",
    "nickel_relaxed_interface.set_calculator(Calculator)\n",
    "graphene_relaxed_interface.set_calculator(Calculator)\n",
    "nickel_original_interface.set_calculator(Calculator)\n",
    "graphene_original_interface.set_calculator(Calculator)\n",
    "\n",
    "original_substrate_energy = nickel_original_interface.get_total_energy()\n",
    "original_layer_energy = graphene_original_interface.get_total_energy()\n",
    "relaxed_substrate_energy = nickel_relaxed_interface.get_total_energy()\n",
    "relaxed_layer_energy = graphene_relaxed_interface.get_total_energy()\n",
    "\n",
    "delta_original = relaxed_energy - original_substrate_energy - original_layer_energy\n",
    "delta_relaxed = relaxed_energy - relaxed_substrate_energy - relaxed_layer_energy\n",
    "\n",
    "# calculate area of interface\n",
    "area = ase_original_interface.get_volume() / ase_original_interface.cell[2, 2]\n",
    "print(area)\n",
    "\n",
    "effective_delta_relaxed = (relaxed_energy * ase_final_interface.get_global_number_of_atoms() -\n",
    "                           nickel_relaxed_interface.get_global_number_of_atoms() * relaxed_substrate_energy -\n",
    "                           graphene_relaxed_interface.get_global_number_of_atoms() * relaxed_layer_energy)/(2 * area * ase_final_interface.get_global_number_of_atoms())\n",
    "print(ase_final_interface.get_global_number_of_atoms())\n",
    "print(nickel_relaxed_interface.get_global_number_of_atoms())\n",
    "print(graphene_relaxed_interface.get_global_number_of_atoms())\n",
    "# print(f\"Original interface energy: {ase_original_interface.get_total_energy():.4f} eV\")\n",
    "print(f\"Relaxed interface energy: {relaxed_energy:.4f} eV\")\n",
    "print(f\"Original Substrate energy: {original_substrate_energy:.4f} eV\")\n",
    "print(f\"Original Layer energy: {original_layer_energy:.4f} eV\")\n",
    "print(f\"Original Delta: {delta_original:.4f} eV\")\n",
    "print(f\"Original Delta per area: {delta_original / area:.4f} eV/Ang^2\")\n",
    "print(f\"Relaxed Substrate energy: {relaxed_substrate_energy:.4f} eV\")\n",
    "print(f\"Relaxed Layer energy: {relaxed_layer_energy:.4f} eV\")\n",
    "print(f\"Relaxed Delta: {delta_relaxed:.4f} eV\")\n",
    "print(f\"Relaxed Delta per area: {delta_relaxed / area:.4f} eV/Ang^2\")\n",
    "print(f\"Effective relaxed Delta per area: {effective_delta_relaxed:.4f} eV/Ang^2\")\n",
    "\n",
    "\n",
    "print(ase_to_poscar(ase_final_interface))\n",
    "print(ase_to_poscar(nickel_relaxed_interface))\n",
    "print(ase_to_poscar(graphene_relaxed_interface))\n",
    "print(ase_to_poscar(nickel_original_interface))\n",
    "print(ase_to_poscar(graphene_original_interface))"
   ]
  },
  {
   "cell_type": "code",
   "execution_count": 28,
   "metadata": {
    "ExecuteTime": {
     "end_time": "2024-02-27T00:20:50.698102Z",
     "start_time": "2024-02-27T00:20:50.693765Z"
    }
   },
   "outputs": [],
   "source": []
  }
 ],
 "metadata": {
  "kernelspec": {
   "display_name": ".venv",
   "language": "python",
   "name": "python3"
  },
  "language_info": {
   "codemirror_mode": {
    "name": "ipython",
    "version": 3
   },
   "file_extension": ".py",
   "mimetype": "text/x-python",
   "name": "python",
   "nbconvert_exporter": "python",
   "pygments_lexer": "ipython3",
   "version": "3.10.12"
  },
  "widgets": {
   "application/vnd.jupyter.widget-state+json": {
    "state": {},
    "version_major": 2,
    "version_minor": 0
   }
  }
 },
 "nbformat": 4,
 "nbformat_minor": 4
}
