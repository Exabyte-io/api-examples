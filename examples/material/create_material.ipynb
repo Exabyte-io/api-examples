version https://git-lfs.github.com/spec/v1
oid sha256:d565e7a73f1ce9aeba25dc71170e3a28a7e8228c5d1039e9dfd9f74964948ae0
size 8140
