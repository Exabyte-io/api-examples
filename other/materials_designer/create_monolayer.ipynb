{
 "cells": [
  {
   "cell_type": "markdown",
   "source": [
    "# Create a Monolayer\n",
    "\n",
    "Create a Monolayer of the original structure. \n",
    "\n",
    "<h2 style=\"color:green\">Usage</h2>\n",
    "\n",
    "1. Make sure to select Input Materials (in the outer runtime) before running the notebook.\n",
    "1. Set notebook parameters in cell 1.1. below (or use the default values).\n",
    "1. Click “Run” > “Run All” to run all cells. \n",
    "1. Scroll down to view results. "
   ],
   "metadata": {
    "collapsed": false
   },
   "id": "a79609c9bc772c5c"
  },
  {
   "cell_type": "markdown",
   "source": [
    "## 1. Prepare the Environment\n",
    "### 1.1. Set up transformation parameters "
   ],
   "metadata": {
    "collapsed": false
   },
   "id": "47d31d9834478007"
  },
  {
   "cell_type": "code",
   "source": [
    "XY_SUPERCELL_MATRIX = [\n",
    "    [3, 0],\n",
    "    [0, 3],\n",
    "]\n",
    "\n",
    "VACUUM = 10.0  # Angstrom"
   ],
   "metadata": {
    "collapsed": false
   },
   "id": "a2c8922a4e627887",
   "outputs": [],
   "execution_count": null
  },
  {
   "cell_type": "markdown",
   "source": [
    "### 1.2. Install Packages\n",
    "The step executes only in Pyodide environment. For other environments, the packages should be installed via `pip install` (see [README](../../README.ipynb))."
   ],
   "metadata": {
    "collapsed": false
   },
   "id": "6fab076ea1d7a223"
  },
  {
   "cell_type": "code",
   "source": [
    "import sys\n",
    "\n",
    "if sys.platform == \"emscripten\":\n",
    "    import micropip\n",
    "\n",
    "    await micropip.install(\"mat3ra-api-examples\", deps=False)\n",
    "    await micropip.install('mat3ra-utils')\n",
    "    from mat3ra.utils.jupyterlite.packages import install_packages\n",
    "\n",
    "    await install_packages(\"\")"
   ],
   "metadata": {
    "collapsed": false
   },
   "id": "b0c332f1c1f451fd",
   "outputs": [],
   "execution_count": null
  },
  {
   "cell_type": "markdown",
   "source": [
    "### 1.3. Get input materials"
   ],
   "metadata": {
    "collapsed": false
   },
   "id": "3e9934b458d6cb4"
  },
  {
   "cell_type": "code",
   "source": [
    "from utils.jupyterlite import get_materials\n",
    "\n",
    "materials = get_materials(globals())\n",
    "material = materials[0]"
   ],
   "metadata": {
    "collapsed": false
   },
   "id": "74cd0d5a3881ab47",
   "outputs": [],
   "execution_count": null
  },
  {
   "cell_type": "markdown",
   "source": [
    "### 1.4. Preview the material"
   ],
   "metadata": {
    "collapsed": false
   },
   "id": "d4535caf6debb8d4"
  },
  {
   "cell_type": "code",
   "source": [
    "from utils.visualize import visualize_materials as visualize\n",
    "\n",
    "visualize(material, repetitions=[3, 3, 1], rotation=\"0x\")\n",
    "visualize(material, repetitions=[3, 3, 1], rotation=\"-90x\")"
   ],
   "metadata": {
    "collapsed": false
   },
   "id": "d6bea39864c23ab5",
   "outputs": [],
   "execution_count": null
  },
  {
   "cell_type": "markdown",
   "source": [
    "## 2. Create Monolayer"
   ],
   "metadata": {
    "collapsed": false
   },
   "id": "5473c36cd254aa89"
  },
  {
   "cell_type": "markdown",
   "source": "### 2.1. Create a monolayer unit cell",
   "metadata": {
    "collapsed": false
   },
   "id": "ee17958872d03410"
  },
  {
   "metadata": {},
   "cell_type": "code",
   "source": [
    "from mat3ra.made.tools.build.monolayer.helpers import create_monolayer\n",
    "\n",
    "monolayer = create_monolayer(\n",
    "    crystal=material,\n",
    "    vacuum=VACUUM,\n",
    ")"
   ],
   "id": "f05c4872edfef910",
   "outputs": [],
   "execution_count": null
  },
  {
   "metadata": {},
   "cell_type": "markdown",
   "source": "### 2.2 Create a supercell",
   "id": "372400a5610d7247"
  },
  {
   "metadata": {},
   "cell_type": "code",
   "source": [
    "from mat3ra.made.tools.operations.core.unary import supercell\n",
    "\n",
    "monolayer = supercell(\n",
    "    material=monolayer,\n",
    "    supercell_matrix=XY_SUPERCELL_MATRIX, )"
   ],
   "id": "25d6681d5c1bfb0",
   "outputs": [],
   "execution_count": null
  },
  {
   "metadata": {},
   "cell_type": "markdown",
   "source": "## 3. Visualize the result",
   "id": "82f9dfac4c711634"
  },
  {
   "metadata": {},
   "cell_type": "code",
   "source": [
    "visualize(monolayer, repetitions=[1, 1, 1], rotation=\"0x\")\n",
    "visualize(monolayer, repetitions=[1, 1, 1], rotation=\"-90x\")"
   ],
   "id": "ab5c2f5ee249525c",
   "outputs": [],
   "execution_count": null
  },
  {
   "cell_type": "markdown",
   "source": [
    "# 4. Pass material to the outside runtime"
   ],
   "metadata": {
    "collapsed": false
   },
   "id": "6ce5f7dd9a919a08"
  },
  {
   "cell_type": "code",
   "source": [
    "from utils.jupyterlite import set_materials\n",
    "\n",
    "set_materials(monolayer)"
   ],
   "metadata": {
    "collapsed": false
   },
   "id": "865c71d008d87beb",
   "outputs": [],
   "execution_count": null
  }
 ],
 "metadata": {
  "kernelspec": {
   "display_name": "Python 3",
   "language": "python",
   "name": "python3"
  },
  "language_info": {
   "codemirror_mode": {
    "name": "ipython",
    "version": 2
   },
   "file_extension": ".py",
   "mimetype": "text/x-python",
   "name": "python",
   "nbconvert_exporter": "python",
   "pygments_lexer": "ipython2",
   "version": "2.7.6"
  }
 },
 "nbformat": 4,
 "nbformat_minor": 5
}
