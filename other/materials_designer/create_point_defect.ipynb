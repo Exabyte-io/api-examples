{
 "cells": [
  {
   "cell_type": "markdown",
   "id": "f2e1e795020d7b3f",
   "metadata": {
    "collapsed": false
   },
   "source": [
    "# Create Multiple Point Defects in a Bulk Material\n",
    "\n",
    "Create a vacancy, add substitution or interstitial atom to provided Material.\n",
    "\n",
    "<h2 style=\"color:green\">Usage</h2>\n",
    "\n",
    "1. Make sure to select Input Materials (in the outer runtime) before running the notebook. \n",
    "1. Set notebook parameters in cell 1.1. below (or use the default values) -- to create multiple defects, fill `DEFECT_CONFIGS` with a list of dictionaries. \n",
    "1. Click “Run” > “Run All” to run all cells. \n",
    "1. Scroll down to view results. \n",
    "\n",
    "## Notes\n",
    "\n",
    "1. For more information, see [Introduction](Introduction.ipynb)\n",
    "<!-- # TODO: use a hashtag-based anchor link to interface creation documention above -->\n"
   ]
  },
  {
   "cell_type": "markdown",
   "id": "5e43ff288847b784",
   "metadata": {
    "collapsed": false
   },
   "source": [
    "## 1. Prepare the Environment\n",
    "### 1.1. Set up defects parameters \n",
    "Defect Configuration parameters are described in [Defect Configuration](https://github.com/Exabyte-io/made/blob/8196b759242551c77d1791bf5bd2f4150763cfef/src/py/mat3ra/made/tools/build/defect/configuration.py#L102)."
   ]
  },
  {
   "metadata": {},
   "cell_type": "code",
   "source": [
    "# Selected material will be used as a unit cell to create a supercell first.\n",
    "SUPERCELL_MATRIX = [[3, 0, 0], [0, 3, 0], [0, 0, 3]]\n",
    "\n",
    "DEFECT_CONFIGS = [\n",
    "    {\n",
    "        \"type\": \"substitution\",\n",
    "        \"coordinate\": [0.0, 0.0, 0.0],  # Crystal coordinates\n",
    "        \"element\": \"C\",\n",
    "        \"placement_method\": \"closest_site\",\n",
    "    },\n",
    "\n",
    "    {\n",
    "        \"type\": \"vacancy\",\n",
    "        \"coordinate\": [0.25, 0.25, 0.25],  # Crystal coordinates\n",
    "        \"placement_method\": \"closest_site\",\n",
    "    },\n",
    "\n",
    "    {\n",
    "        \"type\": \"interstitial\",\n",
    "        \"coordinate\": [0.75, 0.75, 0.75],  # Crystal coordinates\n",
    "        \"element\": \"N\",\n",
    "        \"placement_method\": \"voronoi_site\",\n",
    "    },\n",
    "]"
   ],
   "id": "5381fc1b249aec6a",
   "outputs": [],
   "execution_count": null
  },
  {
   "cell_type": "markdown",
   "id": "bb64de5ff32649f8",
   "metadata": {
    "collapsed": false
   },
   "source": [
    "### 1.2. Install Packages\n",
    "The step executes only in Pyodide environment. For other environments, the packages should be installed via `pip install` (see [README](../../README.ipynb))."
   ]
  },
  {
   "metadata": {},
   "cell_type": "code",
   "source": [
    "import sys\n",
    "\n",
    "if sys.platform == \"emscripten\":\n",
    "    import micropip\n",
    "\n",
    "    await micropip.install(\"https://exabyte-io.github.io/api-examples/mat3ra_api_examples-0.1.dev1+g03efa43-py3-none-any.whl\", deps=False)\n",
    "    await micropip.install('mat3ra-utils')\n",
    "    from mat3ra.utils.jupyterlite.packages import install_packages\n",
    "\n",
    "    await install_packages(\"\")"
   ],
   "id": "cff4001d6747796e",
   "outputs": [],
   "execution_count": null
  },
  {
   "cell_type": "markdown",
   "id": "919ad7af8dceeedd",
   "metadata": {
    "collapsed": false
   },
   "source": [
    "### 1.3. Get input materials"
   ]
  },
  {
   "cell_type": "code",
   "id": "be38fdda1984c654",
   "metadata": {
    "collapsed": false
   },
   "source": [
    "from utils.jupyterlite import get_materials\n",
    "\n",
    "materials = get_materials(globals())"
   ],
   "outputs": [],
   "execution_count": null
  },
  {
   "cell_type": "markdown",
   "id": "a132fe0ef8bbf0d0",
   "metadata": {
    "collapsed": false
   },
   "source": [
    "### 1.4. Create and preview Supercell"
   ]
  },
  {
   "cell_type": "code",
   "id": "e2d24109d3068c9e",
   "metadata": {
    "collapsed": false
   },
   "source": [
    "from utils.visualize import visualize_materials as visualize\n",
    "from mat3ra.made.tools.helpers import create_supercell\n",
    "\n",
    "unit_cell = materials[0]\n",
    "supercell = create_supercell(unit_cell, supercell_matrix=SUPERCELL_MATRIX)\n",
    "visualize(supercell, repetitions=[1, 1, 1], rotation=\"0x\")"
   ],
   "outputs": [],
   "execution_count": null
  },
  {
   "cell_type": "markdown",
   "id": "5da5b0380583c952",
   "metadata": {
    "collapsed": false
   },
   "source": [
    "## 2. Create Multiple Defects\n",
    "### 2.1. Prepare defect dictionaries and validate them"
   ]
  },
  {
   "metadata": {},
   "cell_type": "code",
   "source": [
    "from mat3ra.made.tools.helpers import PointDefectDict\n",
    "defect_dicts = [PointDefectDict(**defect_dict) for defect_dict in DEFECT_CONFIGS]\n",
    "\n",
    "print(\"Defect configurations:\")\n",
    "for i, defect_dict in enumerate(DEFECT_CONFIGS):\n",
    "    print(f\"\\n{i+1}. {defect_dict['type'].upper()}:\")\n",
    "    print(f\"   - Coordinate: {defect_dict['coordinate']}\")\n",
    "    print(f\"   - Resolution method: {defect_dict['placement_method']}\")\n",
    "    if \"element\" in defect_dict:\n",
    "        print(f\"   - Element: {defect_dict['element']}\")\n",
    "    \n",
    "print(f\"\\nTotal defects to create: {len(DEFECT_CONFIGS)}\")"
   ],
   "id": "26cb7d7e372468ee",
   "outputs": [],
   "execution_count": null
  },
  {
   "metadata": {},
   "cell_type": "markdown",
   "source": "### 2.2. Create multiple defects using the newer approach",
   "id": "70515db37f45bb66"
  },
  {
   "metadata": {},
   "cell_type": "code",
   "source": [
    "from mat3ra.made.tools.helpers import create_multiple_defects\n",
    "\n",
    "material_with_defects = create_multiple_defects(\n",
    "    material=supercell,\n",
    "    defect_dicts=defect_dicts,\n",
    ")\n",
    "\n",
    "print(f\"Original atoms: {len(supercell.basis.elements.ids)}\")\n",
    "print(f\"Final atoms: {len(material_with_defects.basis.elements.ids)}\")"
   ],
   "id": "dfeddc9c3c0954a1",
   "outputs": [],
   "execution_count": null
  },
  {
   "cell_type": "markdown",
   "id": "462549d016073446",
   "metadata": {
    "collapsed": false
   },
   "source": [
    "## 3. Visualize Result(s)"
   ]
  },
  {
   "cell_type": "code",
   "id": "509b18661a069e42",
   "metadata": {
    "collapsed": false
   },
   "source": [
    "from utils.visualize import visualize_materials as visualize\n",
    "\n",
    "visualize([{\"material\": supercell, \"title\": \"Original material\"},\n",
    "           {\"material\": material_with_defects, \"title\": f\"Material with defects\"}],\n",
    "          rotation=\"-90x\")\n",
    "visualize([{\"material\": supercell, \"title\": \"Original material\"},\n",
    "           {\"material\": material_with_defects, \"title\": f\"Material with defects\"}])"
   ],
   "outputs": [],
   "execution_count": null
  },
  {
   "cell_type": "markdown",
   "id": "d381df29a6bbdd82",
   "metadata": {
    "collapsed": false
   },
   "source": [
    "## 4. Pass data to the outside runtime"
   ]
  },
  {
   "cell_type": "code",
   "id": "bd4fa88a015b0dd4",
   "metadata": {},
   "source": [
    "from utils.jupyterlite import set_materials\n",
    "\n",
    "# Set the material name and pass to outside runtime\n",
    "material_with_defects.name = f\"{unit_cell.name} with {len(DEFECT_CONFIGS)} defects\"\n",
    "set_materials([material_with_defects])"
   ],
   "outputs": [],
   "execution_count": null
  }
 ],
 "metadata": {
  "kernelspec": {
   "display_name": "Python 3",
   "language": "python",
   "name": "python3"
  },
  "language_info": {
   "codemirror_mode": {
    "name": "ipython",
    "version": 2
   },
   "file_extension": ".py",
   "mimetype": "text/x-python",
   "name": "python",
   "nbconvert_exporter": "python",
   "pygments_lexer": "ipython2",
   "version": "2.7.6"
  }
 },
 "nbformat": 4,
 "nbformat_minor": 5
}
