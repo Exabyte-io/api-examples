{
 "cells": [
  {
   "cell_type": "markdown",
   "id": "367a698b29e22bd7",
   "metadata": {
    "collapsed": false
   },
   "source": [
    "# Create a Custom Perturbation in a Material\n",
    "\n",
    "Create a perturbation in a material with a custom function described with [SymPy](https://docs.sympy.org/latest/tutorials/intro-tutorial/intro.html) expressions. \n",
    "\n",
    "<h2 style=\"color:green\">Usage</h2>\n",
    "\n",
    "1. Make sure to select Input Materials (in the outer runtime) before running the notebook.\n",
    "1. Set perturbation parameters in cell 1.2. (or use default).\n",
    "1. Set custom perturbation function with SymPy in cell 1.3.\n",
    "1. Click “Run” > “Run All” to run all cells. \n",
    "1. Wait for the run to complete (depending on the parameters can take a few min). \n",
    "1. Scroll down to view results. \n",
    "\n",
    "## Notes\n",
    "\n",
    "1. For more information, see [Introduction](Introduction.ipynb)\n"
   ]
  },
  {
   "cell_type": "markdown",
   "id": "193a4e6a78fd5bd7",
   "metadata": {
    "collapsed": false
   },
   "source": [
    "## 1. Prepare the Environment"
   ]
  },
  {
   "cell_type": "markdown",
   "id": "f38b2711726e5859",
   "metadata": {
    "collapsed": false
   },
   "source": [
    "### 1.1. Install Packages\n",
    "The step executes only in Pyodide environment. For other environments, the packages should be installed via `pip install` (see [README](../../README.ipynb))."
   ]
  },
  {
   "cell_type": "code",
   "execution_count": null,
   "id": "7a6e28cfae1a7b46",
   "metadata": {
    "collapsed": false
   },
   "outputs": [],
   "source": [
    "import sys\n",
    "\n",
    "if sys.platform == \"emscripten\":\n",
    "    import micropip\n",
    "\n",
    "    await micropip.install(\"https://exabyte-io.github.io/api-examples/mat3ra_api_examples-0.1.dev1+g2d074bd-py3-none-any.whl\", deps=False)\n",
    "    await micropip.install('mat3ra-utils')\n",
    "    from mat3ra.utils.jupyterlite.packages import install_packages\n",
    "\n",
    "    await install_packages(\"\")"
   ]
  },
  {
   "cell_type": "markdown",
   "id": "11db992e02891067",
   "metadata": {
    "collapsed": false
   },
   "source": [
    "### 1.2. Set Generic Perturbation Parameters"
   ]
  },
  {
   "cell_type": "code",
   "execution_count": null,
   "id": "a40d7b697c413113",
   "metadata": {
    "collapsed": false
   },
   "outputs": [],
   "source": [
    "# Set whether to preserve geodesic distance and scale the cell accordingly to match PBC\n",
    "PRESERVE_GEODESIC_DISTANCE = True\n",
    "\n",
    "# Set the supercell matrix to apply to original material\n",
    "SUPERCELL_MATRIX = [[30, 0, 0], [0, 30, 0], [0, 0, 1]]\n",
    "\n",
    "# Set whether to use Cartesian coordinates for the perturbation function\n",
    "USE_CARTESIAN_COORDINATES = False"
   ]
  },
  {
   "cell_type": "markdown",
   "id": "e6a19c741406eafe",
   "metadata": {
    "collapsed": false
   },
   "source": [
    "### 1.3. Define Custom Perturbation Function\n",
    "Provide a [SymPy](https://docs.sympy.org/latest/tutorials/intro-tutorial/intro.html) expression for the perturbation function. The expression should be a function of `x`, `y` and `z` variables."
   ]
  },
  {
   "cell_type": "code",
   "execution_count": null,
   "id": "203911c2413c7447",
   "metadata": {
    "collapsed": false
   },
   "outputs": [],
   "source": [
    "import sympy as sp\n",
    "\n",
    "# Variables for the perturbation function (for SymPy)\n",
    "variable_names = [\"x\", \"y\", \"z\"]\n",
    "x, y, z = sp.symbols(variable_names)\n",
    "\n",
    "# Set the parameters for your perturbation function\n",
    "AMPLITUDE = 0.05\n",
    "WAVELENGTH = 1.0\n",
    "PHASE = 0.0\n",
    "\n",
    "# Define the perturbation function\n",
    "custom_sympy_function = AMPLITUDE * sp.sin(2 * sp.pi * x / WAVELENGTH + PHASE) * sp.sin(\n",
    "    2 * sp.pi * y / WAVELENGTH)"
   ]
  },
  {
   "cell_type": "markdown",
   "id": "edf02101e27a2742",
   "metadata": {
    "collapsed": false
   },
   "source": [
    "### 1.4. Get input materials\n",
    "Materials are loaded with `get_materials()`."
   ]
  },
  {
   "cell_type": "code",
   "execution_count": null,
   "id": "e0c53233ce728cc1",
   "metadata": {
    "collapsed": false
   },
   "outputs": [],
   "source": [
    "from utils.jupyterlite import get_materials\n",
    "\n",
    "materials = get_materials(globals())"
   ]
  },
  {
   "cell_type": "markdown",
   "id": "cf29b7f6fe114d8f",
   "metadata": {
    "collapsed": false
   },
   "source": [
    "### 1.5. Create and preview Supercell"
   ]
  },
  {
   "cell_type": "code",
   "execution_count": null,
   "id": "897ba7aa4e402d24",
   "metadata": {
    "collapsed": false
   },
   "outputs": [],
   "source": [
    "from utils.visualize import visualize_materials as visualize\n",
    "from mat3ra.made.tools.helpers import create_supercell\n",
    "\n",
    "unit_cell = materials[0]\n",
    "supercell = create_supercell(unit_cell, supercell_matrix=SUPERCELL_MATRIX)\n",
    "visualize(supercell, repetitions=[1, 1, 1], rotation=\"0x\")"
   ]
  },
  {
   "cell_type": "markdown",
   "id": "6d4adf0d580e0340",
   "metadata": {
    "collapsed": false
   },
   "source": [
    "## 2. Create a target material\n",
    "### 2.1. Set custom perturbation parameters\n"
   ]
  },
  {
   "cell_type": "code",
   "execution_count": null,
   "id": "8d90932312c418ee",
   "metadata": {
    "collapsed": false
   },
   "outputs": [],
   "source": [
    "from mat3ra.made.tools.helpers import create_perturbation\n",
    "\n",
    "\n",
    "material_with_perturbation = create_perturbation(\n",
    "    material=supercell,\n",
    "    perturbation_function=custom_sympy_function,\n",
    "    is_isometric=PRESERVE_GEODESIC_DISTANCE,\n",
    "    use_cartesian_coordinates=USE_CARTESIAN_COORDINATES\n",
    ")\n"
   ]
  },
  {
   "cell_type": "markdown",
   "id": "10e7ca8950839991",
   "metadata": {
    "collapsed": false
   },
   "source": [
    "### 3. Visualize the Material"
   ]
  },
  {
   "cell_type": "code",
   "execution_count": null,
   "id": "cbfe0878a16f6c83",
   "metadata": {
    "collapsed": false
   },
   "outputs": [],
   "source": [
    "visualize([\n",
    "    {\"material\": material_with_perturbation, \"title\": f\"Material with custom perturbation\"},\n",
    "    {\"material\": material_with_perturbation, \"title\": f\"Material with custom perturbation\", \"rotation\": \"-90x\"}\n",
    "])"
   ]
  },
  {
   "cell_type": "markdown",
   "id": "9e0b241366592109",
   "metadata": {
    "collapsed": false
   },
   "source": [
    "## 4. Pass data to the outside runtime"
   ]
  },
  {
   "cell_type": "code",
   "execution_count": null,
   "id": "29dfa0a329cca2fa",
   "metadata": {
    "collapsed": false
   },
   "outputs": [],
   "source": [
    "from utils.jupyterlite import set_materials\n",
    "\n",
    "set_materials(material_with_perturbation)"
   ]
  }
 ],
 "metadata": {
  "kernelspec": {
   "display_name": "Python 3",
   "language": "python",
   "name": "python3"
  },
  "language_info": {
   "codemirror_mode": {
    "name": "ipython",
    "version": 2
   },
   "file_extension": ".py",
   "mimetype": "text/x-python",
   "name": "python",
   "nbconvert_exporter": "python",
   "pygments_lexer": "ipython2",
   "version": "2.7.6"
  }
 },
 "nbformat": 4,
 "nbformat_minor": 5
}
