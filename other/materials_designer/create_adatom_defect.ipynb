{
 "cells": [
  {
   "cell_type": "markdown",
   "id": "0",
   "metadata": {},
   "source": [
    "# Create adatom defects in a slab material\n",
    "\n",
    "Create an adatom by specifying the chemical element, approximate position on surface and distance z, as well as placement method which will be resolved to:\n",
    "- exact coordinate,\n",
    "- closest site to provided coordinate,\n",
    "- the equidistant position between the closes atoms on the surface according to Voronoi tesselation, \n",
    "- or the crystal site of the next layer that is closest to specified position.\n",
    "\n",
    "<h2 style=\"color:green\">Usage</h2>\n",
    "\n",
    "1. Make sure to select Input Materials (in the outer runtime) before running the notebook.\n",
    "1. Set notebook parameters in cell 1.1. below (or use the default values).\n",
    "1. Set defects parameters in cell 2.1. (or use default).\n",
    "1. Click “Run” > “Run All” to run all cells. \n",
    "1. Wait for the run to complete (depending on the parameters can take a few min). \n",
    "1. Scroll down to view results. \n",
    "\n",
    "## Summary\n",
    "1. Prepare the Environment: Set up the notebook and install packages, preview the input materials\n",
    "1. Create the Defect: Add an adatom defect to the slab material\n",
    "2. Visualize the Defect: Visualize the defect structure\n",
    "\n",
    "## Notes\n",
    "\n",
    "1. For more information, see [Introduction](Introduction.ipynb)\n",
    "<!-- # TODO: use a hashtag-based anchor link to interface creation documention above -->\n"
   ]
  },
  {
   "cell_type": "markdown",
   "id": "1",
   "metadata": {},
   "source": [
    "## 1. Prepare the Environment\n",
    "### 1.1. Set up defect parameters "
   ]
  },
  {
   "cell_type": "code",
   "execution_count": null,
   "id": "2",
   "metadata": {},
   "outputs": [],
   "source": [
    "# Index in the list of materials, to access as materials[MATERIAL_INDEX]\n",
    "MATERIAL_INDEX = 0\n",
    "ELEMENT = \"Si\"  # Chemical element of the adatom\n",
    "\n",
    "# Dictionaries are validated and converted to AdatomDefectDict objects below\n",
    "DEFECT_CONFIGS = [\n",
    "    {\n",
    "        \"type\": \"adatom\",\n",
    "        \"coordinate_2d\": [0.5, 0.5], # Crystal coordinates on the surface (x, y)\n",
    "        \"distance_z\": 1.0,  # Method to place the adatom\n",
    "        \"element\": ELEMENT,\n",
    "    }\n",
    "]\n",
    "\n",
    "\n",
    "PLACEMENT_METHOD = \"new_crystal_site\"  # Method to place the adatom, e.g., \"new_crystal_site\", \"exact_coordinate\", \"equidistant\"\n",
    "\n",
    "\n",
    "# Slab parameters\n",
    "MILLER_INDICES = (1, 1, 1)  # Miller indices of the surface\n",
    "SLAB_THICKNESS = 3  # Thickness of the slab in unit cells\n",
    "VACUUM = 5.0  # Vacuum thickness in Angstrom\n",
    "XY_SUPERCELL_MATRIX = [[2, 0], [0, 2]]  # Supercell matrix for the slab\n",
    "TERMINATION_FORMULA = None  # Stoichiometric formula of the slab termination to be used."
   ]
  },
  {
   "cell_type": "markdown",
   "id": "3",
   "metadata": {},
   "source": [
    "### 1.2. Install Packages\n",
    "The step executes only in Pyodide environment. For other environments, the packages should be installed via `pip install` (see [README](../../README.ipynb))."
   ]
  },
  {
   "cell_type": "code",
   "execution_count": null,
   "id": "4",
   "metadata": {},
   "outputs": [],
   "source": [
    "import sys\n",
    "\n",
    "if sys.platform == \"emscripten\":\n",
    "    import micropip\n",
    "\n",
    "    await micropip.install(\"mat3ra-api-examples\", deps=False)\n",
    "    await micropip.install('mat3ra-utils', deps=False)\n",
    "\n",
    "    from mat3ra.utils.jupyterlite.packages import install_packages\n",
    "\n",
    "    await install_packages(\"\")"
   ]
  },
  {
   "cell_type": "markdown",
   "id": "5",
   "metadata": {},
   "source": [
    "### 1.3. Get input material"
   ]
  },
  {
   "cell_type": "code",
   "execution_count": null,
   "id": "6",
   "metadata": {},
   "outputs": [],
   "source": [
    "from utils.jupyterlite import get_materials\n",
    "\n",
    "materials = get_materials(globals())"
   ]
  },
  {
   "cell_type": "markdown",
   "id": "7",
   "metadata": {},
   "source": [
    "### 1.4. Create and preview Slab"
   ]
  },
  {
   "cell_type": "code",
   "execution_count": null,
   "id": "8",
   "metadata": {},
   "outputs": [],
   "source": [
    "from mat3ra.made.tools.analyze.lattice_planes import CrystalLatticePlanesMaterialAnalyzer\n",
    "from mat3ra.made.tools.helpers import create_slab, get_slab_terminations, select_slab_termination\n",
    "from utils.visualize import visualize_materials as visualize\n",
    "\n",
    "material = materials[MATERIAL_INDEX]\n",
    "# Create analyzer to get terminations\n",
    "analyzer = CrystalLatticePlanesMaterialAnalyzer(material=material, miller_indices=MILLER_INDICES)\n",
    "slab_terminations = analyzer.terminations\n",
    "# Get termination from analyzer\n",
    "terminations = get_slab_terminations(material, MILLER_INDICES)\n",
    "termination = select_slab_termination(terminations, TERMINATION_FORMULA)\n",
    "\n",
    "slab = create_slab(\n",
    "    crystal=material,\n",
    "    termination_top=termination,\n",
    "    miller_indices=MILLER_INDICES,\n",
    "    number_of_layers=SLAB_THICKNESS,\n",
    "    vacuum=VACUUM,\n",
    "    xy_supercell_matrix=XY_SUPERCELL_MATRIX,\n",
    "    use_orthogonal_c=True,\n",
    "    use_conventional_cell=True\n",
    ")\n",
    "visualize([{\"material\": slab, \"rotation\": \"0x\"}, {\"material\": slab, \"rotation\": \"-90x\"}], repetitions=[1, 1, 1])"
   ]
  },
  {
   "cell_type": "markdown",
   "id": "9",
   "metadata": {},
   "source": [
    "## 2. Create the Defect"
   ]
  },
  {
   "cell_type": "markdown",
   "id": "10",
   "metadata": {},
   "source": [
    "### 2.1. Validate defect dictionaries and prepare them"
   ]
  },
  {
   "cell_type": "code",
   "execution_count": null,
   "id": "11",
   "metadata": {},
   "outputs": [],
   "source": [
    "from mat3ra.made.tools.helpers import AdatomDefectDict\n",
    "\n",
    "defect_dicts = [AdatomDefectDict(**defect_dict) for defect_dict in DEFECT_CONFIGS]"
   ]
  },
  {
   "cell_type": "markdown",
   "id": "12",
   "metadata": {},
   "source": [
    "### 2.2. Create the adatom defect"
   ]
  },
  {
   "cell_type": "code",
   "execution_count": null,
   "id": "13",
   "metadata": {},
   "outputs": [],
   "source": [
    "from mat3ra.made.tools.helpers import create_multiple_adatom_defects\n",
    "\n",
    "slab_with_adatom = create_multiple_adatom_defects(\n",
    "    slab=slab,\n",
    "    defect_dicts=defect_dicts,\n",
    "    placement_method=PLACEMENT_METHOD,\n",
    ")"
   ]
  },
  {
   "cell_type": "markdown",
   "id": "14",
   "metadata": {},
   "source": [
    "## 3. Visualize the Slab with Adatom"
   ]
  },
  {
   "cell_type": "code",
   "execution_count": null,
   "id": "15",
   "metadata": {},
   "outputs": [],
   "source": [
    "from utils.visualize import visualize_materials as visualize\n",
    "\n",
    "visualize([\n",
    "    {\"material\": slab, \"title\": \"Original material\"},\n",
    "    {\"material\": slab_with_adatom, \"title\": f\"Material with adatom defects\"}\n",
    "],\n",
    "    viewer=\"wave\"\n",
    ")"
   ]
  },
  {
   "cell_type": "markdown",
   "id": "16",
   "metadata": {},
   "source": [
    "## 4. Pass data to the outside runtime"
   ]
  },
  {
   "cell_type": "code",
   "execution_count": null,
   "id": "17",
   "metadata": {},
   "outputs": [],
   "source": [
    "from utils.jupyterlite import set_materials\n",
    "\n",
    "set_materials([slab_with_adatom])"
   ]
  }
 ],
 "metadata": {
  "kernelspec": {
   "display_name": "Python 3",
   "language": "python",
   "name": "python3"
  },
  "language_info": {
   "codemirror_mode": {
    "name": "ipython",
    "version": 2
   },
   "file_extension": ".py",
   "mimetype": "text/x-python",
   "name": "python",
   "nbconvert_exporter": "python",
   "pygments_lexer": "ipython2",
   "version": "2.7.6"
  }
 },
 "nbformat": 4,
 "nbformat_minor": 5
}
