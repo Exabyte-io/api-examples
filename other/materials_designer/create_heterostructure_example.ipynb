{
 "cells": [
  {
   "cell_type": "markdown",
   "id": "ad0a4601cb4095ad",
   "metadata": {
    "collapsed": false
   },
   "source": [
    "# Create Heterostructure Example with Three Materials\n",
    "\n",
    "This notebook demonstrates how to create a heterostructure involving three different materials using a sequential interface creation approach. We first create an interface between **Material 0** and **Material 1**, and then use that interface as a substrate to add a film of **Material 2**.\n",
    "\n",
    "<h2 style=\"color:green\">Usage</h2>\n",
    "\n",
    "1. **Set up the notebook and install packages**\n",
    "2. **Import materials from Standata**\n",
    "3. **Select and preview materials for the heterostructure**\n",
    "4. **Build the heterostructure layer by layer with ZSL interface builder**\n",
    "\n",
    "## Summary\n",
    "\n",
    "1. **Prepare the Environment:** Set up the notebook and install packages, preview the input materials.\n",
    "2. **Create Interfaces:** Sequentially create interfaces between the materials.\n",
    "3. **Visualize:** Preview the materials and resulting interfaces.\n",
    "4. **Pass to Runtime:** Pass the final heterostructure to the external runtime.\n",
    "\n",
    "## Notes\n",
    "\n",
    "1. For more information, see [Introduction](Introduction.ipynb)\n",
    "\n",
    "<!-- # TODO: use a hashtag-based anchor link to interface creation documentation above -->\n"
   ]
  },
  {
   "cell_type": "markdown",
   "id": "a0b4736f3dffa189",
   "metadata": {
    "collapsed": false
   },
   "source": [
    "## 1. Prepare the Environment\n",
    "### 1.1. Set up the Notebook\n",
    "\n",
    "Set the following flags to control the notebook behavior.\n"
   ]
  },
  {
   "cell_type": "code",
   "id": "9e90252bcef065c9",
   "metadata": {
    "collapsed": false
   },
   "source": [
    "# Enable interactive selection of terminations via UI prompt\n",
    "IS_TERMINATIONS_SELECTION_INTERACTIVE = False \n",
    "\n",
    "# Indices and configurations for the three materials\n",
    "MATERIAL_0_INDEX = 0\n",
    "MATERIAL_1_INDEX = 1\n",
    "MATERIAL_2_INDEX = 2\n",
    "\n",
    "# Interface parameters\n",
    "MAX_AREA_01 = 50 # search area for the first interface\n",
    "MAX_AREA_12 = 200 # search area for the second interface\n",
    "INTERFACE_01_DISTANCE = 3.0  # in Angstrom\n",
    "INTERFACE_12_DISTANCE = 3.0  # in Angstrom\n",
    "FINAL_INTERFACE_VACUUM = 20.0  # in Angstrom\n",
    "\n",
    "# Configuration for Material 0 (Substrate)\n",
    "MATERIAL_0_MILLER_INDICES = (0, 0, 1)\n",
    "MATERIAL_0_THICKNESS = 3  # in atomic layers\n",
    "MATERIAL_0_VACUUM = 3  # in Angstroms\n",
    "MATERIAL_0_XY_SUPERCELL_MATRIX = [[1, 0], [0, 1]]\n",
    "MATERIAL_0_USE_ORTHOGONAL_C = True\n",
    "\n",
    "# Configuration for Material 1 (Film 1)\n",
    "MATERIAL_1_MILLER_INDICES = (0, 0, 1)\n",
    "MATERIAL_1_THICKNESS = 1  # in atomic layers\n",
    "MATERIAL_1_VACUUM = 0  # in Angstroms\n",
    "MATERIAL_1_XY_SUPERCELL_MATRIX = [[1, 0], [0, 1]]\n",
    "MATERIAL_1_USE_ORTHOGONAL_C = True\n",
    "\n",
    "# Configuration for Material 2 (Film 2)\n",
    "MATERIAL_2_MILLER_INDICES = (0, 0, 1)\n",
    "MATERIAL_2_THICKNESS = 1  # in atomic layers\n",
    "MATERIAL_2_VACUUM = 1  # in Angstroms\n",
    "MATERIAL_2_XY_SUPERCELL_MATRIX = [[1, 0], [0, 1]]\n",
    "MATERIAL_2_USE_ORTHOGONAL_C = True\n",
    "\n",
    "# Set termination pair indices for both interfaces\n",
    "TERMINATION_PAIR_INDEX_01 = 0\n",
    "TERMINATION_PAIR_INDEX_12 = 0\n"
   ],
   "outputs": [],
   "execution_count": null
  },
  {
   "cell_type": "markdown",
   "id": "e460756f40327e78",
   "metadata": {
    "collapsed": false
   },
   "source": [
    "### 1.2. Install Packages\n",
    "\n",
    "The step executes only in Pyodide environment. For other environments, the packages should be installed via `pip install` (see [README](../../README.ipynb)).\n"
   ]
  },
  {
   "cell_type": "code",
   "id": "a4d99b5b40274810",
   "metadata": {
    "collapsed": false
   },
   "source": [
    "import sys\n",
    "\n",
    "if sys.platform == \"emscripten\":\n",
    "    import micropip\n",
    "    await micropip.install(\"mat3ra-api-examples\", deps=False)\n",
    "    await micropip.install('mat3ra-utils')\n",
    "    from mat3ra.utils.jupyterlite.packages import install_packages\n",
    "    await install_packages(\"create_interface_with_min_strain_zsl.ipynb\")\n"
   ],
   "outputs": [],
   "execution_count": null
  },
  {
   "cell_type": "markdown",
   "id": "c4b29abaa6160a66",
   "metadata": {
    "collapsed": false
   },
   "source": [
    "### 1.3. Get Input Materials and Assign `material0`, `material1`, and `material2`\n",
    "\n",
    "Materials are loaded with `get_materials()`. The first material is assigned as **Material 0**, the second as **Material 1**, and the third as **Material 2**.\n"
   ]
  },
  {
   "cell_type": "code",
   "id": "e90d5bf2655f5e0f",
   "metadata": {
    "collapsed": false
   },
   "source": [
    "from utils.jupyterlite import get_materials\n",
    "\n",
    "materials = get_materials(globals())\n",
    "\n",
    "material0 = materials[MATERIAL_0_INDEX]\n",
    "\n",
    "try: \n",
    "    material1 = materials[MATERIAL_1_INDEX]\n",
    "except IndexError:\n",
    "    print(\"Please select Material 1. Material 1 is set to Material 0.\")\n",
    "    material1 = material0\n",
    "\n",
    "try:\n",
    "    material2 = materials[MATERIAL_2_INDEX]\n",
    "except IndexError:\n",
    "    print(\"Please select Material 2. Material 2 is set to Material 0.\")\n",
    "    material2 = material0\n"
   ],
   "outputs": [],
   "execution_count": null
  },
  {
   "cell_type": "markdown",
   "id": "1ffc1f88eedbc9a4",
   "metadata": {
    "collapsed": false
   },
   "source": [
    "### 1.4. Preview Original Materials\n",
    "\n",
    "Visualize the three original materials.\n"
   ]
  },
  {
   "cell_type": "code",
   "id": "6253034909a0fef9",
   "metadata": {
    "collapsed": false
   },
   "source": [
    "from utils.visualize import visualize_materials as visualize\n",
    "\n",
    "visualize([material0, material1, material2], repetitions=[3, 3, 1], rotation=\"0x\")\n"
   ],
   "outputs": [],
   "execution_count": null
  },
  {
   "cell_type": "markdown",
   "id": "574327eaccdd52f0",
   "metadata": {
    "collapsed": false
   },
   "source": [
    "## 2. Create First Interface (Material 0 + Material 1)\n",
    "\n",
    "### 2.1. Configure Slabs and Select Termination Pair\n",
    "\n",
    "Set up slab configurations for **Material 0** and **Material 1**, then select terminations for the first interface.\n"
   ]
  },
  {
   "cell_type": "code",
   "id": "de4fe773ee9c8a61",
   "metadata": {
    "collapsed": false
   },
   "source": [
    "from mat3ra.made.tools.build.slab.helpers import get_slab_terminations\n",
    "from mat3ra.made.tools.build.slab.configurations import SlabConfiguration\n",
    "\n",
    "# Slab Configuration for Material 1 (Film) - using correct parameters like ZSL notebook\n",
    "material1_slab_configuration = SlabConfiguration.from_parameters(\n",
    "    material_or_dict=material1,\n",
    "    miller_indices=MATERIAL_1_MILLER_INDICES,\n",
    "    number_of_layers=MATERIAL_1_THICKNESS, # in atomic layers\n",
    "    vacuum=MATERIAL_1_VACUUM, # in Angstroms\n",
    "    termination_formula=None,  # if None, the first termination will be used\n",
    "    use_conventional_cell=True\n",
    ")\n",
    "\n",
    "# Slab Configuration for Material 0 (Substrate) - using correct parameters like ZSL notebook\n",
    "material0_slab_configuration = SlabConfiguration.from_parameters(\n",
    "    material_or_dict=material0,\n",
    "    miller_indices=MATERIAL_0_MILLER_INDICES,\n",
    "    number_of_layers=MATERIAL_0_THICKNESS, # in atomic layers\n",
    "    vacuum=MATERIAL_0_VACUUM, # in Angstroms\n",
    "    termination_formula=None,  # if None, the first termination will be used\n",
    "    use_conventional_cell=True\n",
    ")\n",
    "\n",
    "# Get possible terminations for the slabs\n",
    "material1_slab_terminations = get_slab_terminations(material=material1, miller_indices=MATERIAL_1_MILLER_INDICES)\n",
    "material0_slab_terminations = get_slab_terminations(material=material0, miller_indices=MATERIAL_0_MILLER_INDICES)\n",
    "\n",
    "# Visualize all possible terminations using analyzer approach\n",
    "from mat3ra.made.tools.analyze.lattice_planes import CrystalLatticePlanesMaterialAnalyzer\n",
    "\n",
    "material1_analyzer = CrystalLatticePlanesMaterialAnalyzer(material=material1, miller_indices=MATERIAL_1_MILLER_INDICES)\n",
    "material1_slabs = [material1_analyzer.get_material_with_termination_without_vacuum(termination) for termination in material1_slab_terminations]\n",
    "\n",
    "material0_analyzer = CrystalLatticePlanesMaterialAnalyzer(material=material0, miller_indices=MATERIAL_0_MILLER_INDICES)\n",
    "material0_slabs = [material0_analyzer.get_material_with_termination_without_vacuum(termination) for termination in material0_slab_terminations]\n",
    "\n",
    "material1_slabs_with_titles = [{\"material\": slab, \"title\": str(termination)} for slab, termination in zip(material1_slabs, material1_slab_terminations)]\n",
    "material0_slabs_with_titles = [{\"material\": slab, \"title\": str(termination)} for slab, termination in zip(material0_slabs, material0_slab_terminations)]\n",
    "\n",
    "visualize(material1_slabs_with_titles, repetitions=[3, 3, 1], rotation=\"-90x\")\n",
    "visualize(material0_slabs_with_titles, repetitions=[3, 3, 1], rotation=\"-90x\")\n"
   ],
   "outputs": [],
   "execution_count": null
  },
  {
   "cell_type": "markdown",
   "id": "e4aea26afab84e0c",
   "metadata": {
    "collapsed": false
   },
   "source": [
    "### 2.2. Print and Select Termination Pair for First Interface\n"
   ]
  },
  {
   "cell_type": "code",
   "id": "4e467693b61f0125",
   "metadata": {
    "collapsed": false
   },
   "source": [
    "from itertools import product\n",
    "\n",
    "termination_pairs_01 = list(product(material1_slab_terminations, material0_slab_terminations))    \n",
    "print(\"Termination Pairs for First Interface (Material1, Material0)\")\n",
    "for idx, termination_pair in enumerate(termination_pairs_01):\n",
    "    print(f\"    {idx}: {termination_pair}\")\n"
   ],
   "outputs": [],
   "execution_count": null
  },
  {
   "cell_type": "markdown",
   "id": "e70e2a4ef133c9f",
   "metadata": {
    "collapsed": false
   },
   "source": [
    "### 2.3. Select Termination Pair for First Interface\n"
   ]
  },
  {
   "cell_type": "code",
   "id": "c99cb2e5bbcd24df",
   "metadata": {
    "collapsed": false
   },
   "source": [
    "from mat3ra.made.tools.build.slab.termination_utils import select_slab_termination\n",
    "from utils.io import ui_prompt_select_array_element_by_index, ui_prompt_select_array_element_by_index_pyodide\n",
    "\n",
    "# Select terminations for each material using the newer approach\n",
    "material1_termination = select_slab_termination(material1_slab_terminations, None)  # None means use first termination\n",
    "material0_termination = select_slab_termination(material0_slab_terminations, None)  # None means use first termination\n",
    "\n",
    "# Create termination pair\n",
    "termination_pair_first = (material1_termination, material0_termination)\n",
    "\n",
    "# Allow for interactive selection if enabled\n",
    "if IS_TERMINATIONS_SELECTION_INTERACTIVE:\n",
    "    termination_pair_index_01 = TERMINATION_PAIR_INDEX_01\n",
    "    termination_pair_first = termination_pairs_01[termination_pair_index_01]\n",
    "    if sys.platform == \"emscripten\":\n",
    "        termination_pair_first = await ui_prompt_select_array_element_by_index_pyodide(\n",
    "            termination_pairs_01,\n",
    "            element_name=\"Material1/Material0 termination pair\"\n",
    "        )\n",
    "    else:\n",
    "        termination_pair_first = ui_prompt_select_array_element_by_index(\n",
    "            termination_pairs_01,\n",
    "            element_name=\"Material1/Material0 termination pair\"\n",
    "        )\n"
   ],
   "outputs": [],
   "execution_count": null
  },
  {
   "cell_type": "markdown",
   "id": "7621d2178a91c691",
   "metadata": {
    "collapsed": false
   },
   "source": [
    "### 2.4. Initialize Interface Configuration for First Interface\n"
   ]
  },
  {
   "cell_type": "code",
   "id": "9e87ca9779cee593",
   "metadata": {
    "collapsed": false
   },
   "source": [
    "from mat3ra.made.tools.build.slab.builders import SlabBuilder\n",
    "\n",
    "# Create actual slabs using the newer approach\n",
    "material1_termination, material0_termination = termination_pair_first\n",
    "\n",
    "# Update configurations with selected terminations - using correct parameters like ZSL notebook\n",
    "material1_slab_config = SlabConfiguration.from_parameters(\n",
    "    material_or_dict=material1,\n",
    "    miller_indices=MATERIAL_1_MILLER_INDICES,\n",
    "    number_of_layers=MATERIAL_1_THICKNESS,\n",
    "    vacuum=0.0,  # Set vacuum to 0 for interface creation\n",
    "    termination_formula=None,  # Will use selected termination\n",
    "    use_conventional_cell=True\n",
    ")\n",
    "\n",
    "material0_slab_config = SlabConfiguration.from_parameters(\n",
    "    material_or_dict=material0,\n",
    "    miller_indices=MATERIAL_0_MILLER_INDICES,\n",
    "    number_of_layers=MATERIAL_0_THICKNESS,\n",
    "    vacuum=0.0,  # Set vacuum to 0 for interface creation\n",
    "    termination_formula=None,  # Will use selected termination\n",
    "    use_conventional_cell=True\n",
    ")\n",
    "\n",
    "# Build the actual slabs\n",
    "material1_slab = SlabBuilder().get_material(material1_slab_config)\n",
    "material0_slab = SlabBuilder().get_material(material0_slab_config)\n"
   ],
   "outputs": [],
   "execution_count": null
  },
  {
   "cell_type": "markdown",
   "id": "afab24f1d8cf9ad7",
   "metadata": {
    "collapsed": false
   },
   "source": [
    "### 2.5. Set Strain Matching Parameters and Generate First Interface\n"
   ]
  },
  {
   "cell_type": "code",
   "id": "9b72198198a18278",
   "metadata": {
    "collapsed": false
   },
   "source": [
    "from mat3ra.made.tools.analyze.interface import ZSLInterfaceAnalyzer\n",
    "\n",
    "# Set up ZSL Interface Analyzer with the newer approach\n",
    "zsl_analyzer_01 = ZSLInterfaceAnalyzer(\n",
    "    substrate_slab_configuration=material0_slab_config,\n",
    "    film_slab_configuration=material1_slab_config,\n",
    "    max_area=MAX_AREA_01,\n",
    "    max_area_ratio_tol=0.09,  # Default tolerance\n",
    "    max_angle_tol=0.03,       # Default tolerance\n",
    "    max_length_tol=0.03       # Default tolerance\n",
    ")\n",
    "\n",
    "# Get ZSL matches\n",
    "matches_01 = zsl_analyzer_01.zsl_match_holders\n"
   ],
   "outputs": [],
   "execution_count": null
  },
  {
   "cell_type": "markdown",
   "id": "4989c48b4ed6a33d",
   "metadata": {
    "collapsed": false
   },
   "source": [
    "### 2.6. Plot and Select First Interface\n"
   ]
  },
  {
   "cell_type": "code",
   "id": "32e05e63fea1b5a3",
   "metadata": {
    "collapsed": false
   },
   "source": [
    "from utils.plot import plot_strain_vs_area\n",
    "from mat3ra.made.tools.build.interface.helpers import create_zsl_interface_between_slabs\n",
    "\n",
    "PLOT_SETTINGS = {\n",
    "    \"HEIGHT\": 600,\n",
    "    \"X_SCALE\": \"log\",  # or linear\n",
    "    \"Y_SCALE\": \"log\",  # or linear\n",
    "}\n",
    "\n",
    "plot_strain_vs_area(matches_01, PLOT_SETTINGS)\n",
    "\n",
    "# Select the interface with the lowest strain and smallest number of atoms\n",
    "selected_index_01 = 0\n",
    "\n",
    "# Create the first interface using the newer approach\n",
    "interface_01 = create_zsl_interface_between_slabs(\n",
    "    substrate_slab=material0_slab,\n",
    "    film_slab=material1_slab,\n",
    "    gap=INTERFACE_01_DISTANCE,\n",
    "    vacuum=FINAL_INTERFACE_VACUUM,\n",
    "    match_id=selected_index_01,\n",
    "    max_area=MAX_AREA_01,\n",
    ")\n",
    "\n",
    "selected_interfaces_01 = [interface_01]\n"
   ],
   "outputs": [],
   "execution_count": null
  },
  {
   "cell_type": "markdown",
   "id": "342d6261ae79122",
   "metadata": {
    "collapsed": false
   },
   "source": [
    "### 2.7. Preview the First Interface\n"
   ]
  },
  {
   "cell_type": "code",
   "id": "1148759314be11cc",
   "metadata": {
    "collapsed": false
   },
   "source": [
    "visualize(selected_interfaces_01, repetitions=[3, 3, 1])\n",
    "visualize(selected_interfaces_01, repetitions=[3, 3, 1], rotation=\"-90x\")"
   ],
   "outputs": [],
   "execution_count": null
  },
  {
   "cell_type": "markdown",
   "id": "df770aba2dbc2df0",
   "metadata": {
    "collapsed": false
   },
   "source": [
    "## 3. Create Second Interface (First Interface + Material 2)\n",
    "\n",
    "### 3.1. Configure Slabs and Select Termination Pair for Second Interface\n",
    "\n",
    "Now, use the first interface as the substrate to add **Material 2**.\n"
   ]
  },
  {
   "cell_type": "code",
   "id": "636e0e4c45b02925",
   "metadata": {
    "collapsed": false
   },
   "source": [
    "from mat3ra.made.tools.modify import translate_to_z_level\n",
    "\n",
    "# Update substrate to be the first interface\n",
    "substrate_second = translate_to_z_level(selected_interfaces_01[0], \"top\")\n",
    "\n",
    "# Get possible terminations for Material 2 and the substrate (first interface)\n",
    "material2_slab_terminations = get_slab_terminations(material=material2, miller_indices=MATERIAL_2_MILLER_INDICES)\n",
    "# For the substrate (first interface), we'll use a simple approach since it's already an interface\n",
    "substrate_second_slab_terminations = [\"top\"]  # Simple termination for the interface substrate\n",
    "\n",
    "# Visualize Material 2 terminations using analyzer approach\n",
    "material2_analyzer = CrystalLatticePlanesMaterialAnalyzer(material=material2, miller_indices=MATERIAL_2_MILLER_INDICES)\n",
    "material2_slabs = [material2_analyzer.get_material_with_termination_without_vacuum(termination) for termination in material2_slab_terminations]\n",
    "\n",
    "material2_slabs_with_titles = [{\"material\": slab, \"title\": str(termination)} for slab, termination in zip(material2_slabs, material2_slab_terminations)]\n",
    "\n",
    "visualize(material2_slabs_with_titles, repetitions=[3, 3, 1], rotation=\"-90x\")\n",
    "\n",
    "# Visualize the substrate (first interface)\n",
    "visualize([{\"material\": substrate_second, \"title\": \"First Interface (Substrate)\"}], repetitions=[3, 3, 1], rotation=\"-90x\")"
   ],
   "outputs": [],
   "execution_count": null
  },
  {
   "cell_type": "markdown",
   "id": "ac68ed5b9219b0dc",
   "metadata": {
    "collapsed": false
   },
   "source": [
    "### 3.2. Print and Select Termination Pair for Second Interface\n"
   ]
  },
  {
   "cell_type": "code",
   "id": "41b3d541c1ebfe5a",
   "metadata": {
    "collapsed": false
   },
   "source": [
    "termination_pairs_12 = list(product(material2_slab_terminations, substrate_second_slab_terminations))    \n",
    "print(\"Termination Pairs for Second Interface (Material2, First Interface Substrate)\")\n",
    "for idx, termination_pair in enumerate(termination_pairs_12):\n",
    "    print(f\"    {idx}: {termination_pair}\")"
   ],
   "outputs": [],
   "execution_count": null
  },
  {
   "cell_type": "markdown",
   "id": "822c79480c3d7965",
   "metadata": {
    "collapsed": false
   },
   "source": [
    "### 3.3. Select Termination Pair for Second Interface\n"
   ]
  },
  {
   "cell_type": "code",
   "id": "f9d2b5429447338e",
   "metadata": {
    "collapsed": false
   },
   "source": [
    "# Select terminations for Material 2 and the substrate using the newer approach\n",
    "material2_termination = select_slab_termination(material2_slab_terminations, None)  # None means use first termination\n",
    "substrate_second_termination = substrate_second_slab_terminations[0]  # Use the first (and only) termination\n",
    "\n",
    "# Create termination pair\n",
    "termination_pair_second = (material2_termination, substrate_second_termination)\n",
    "\n",
    "# Allow for interactive selection if enabled\n",
    "if IS_TERMINATIONS_SELECTION_INTERACTIVE:\n",
    "    termination_pair_index_12 = TERMINATION_PAIR_INDEX_12\n",
    "    termination_pair_second = termination_pairs_12[termination_pair_index_12]\n",
    "    if sys.platform == \"emscripten\":\n",
    "        termination_pair_second = await ui_prompt_select_array_element_by_index_pyodide(\n",
    "            termination_pairs_12,\n",
    "            element_name=\"Material2/First Interface termination pair\"\n",
    "        )\n",
    "    else:\n",
    "        termination_pair_second = ui_prompt_select_array_element_by_index(\n",
    "            termination_pairs_12,\n",
    "            element_name=\"Material2/First Interface termination pair\"\n",
    "        )"
   ],
   "outputs": [],
   "execution_count": null
  },
  {
   "cell_type": "markdown",
   "id": "796e3604d6bd4c60",
   "metadata": {
    "collapsed": false
   },
   "source": [
    "### 3.4. Initialize Interface Configuration for Second Interface\n"
   ]
  },
  {
   "cell_type": "code",
   "id": "fa7e6b937d2b78a0",
   "metadata": {
    "collapsed": false
   },
   "source": [
    "# Create slab configurations and slabs for the second interface using the newer approach\n",
    "material2_termination, substrate_second_termination = termination_pair_second\n",
    "\n",
    "# Slab configuration for Material 2 - using correct parameters like ZSL notebook\n",
    "material2_slab_config = SlabConfiguration.from_parameters(\n",
    "    material_or_dict=material2,\n",
    "    miller_indices=MATERIAL_2_MILLER_INDICES,\n",
    "    number_of_layers=MATERIAL_2_THICKNESS,\n",
    "    vacuum=0.0,  # Set vacuum to 0 for interface creation\n",
    "    termination_formula=None,  # Will use selected termination\n",
    "    use_conventional_cell=True\n",
    ")\n",
    "\n",
    "# Build the Material 2 slab\n",
    "material2_slab = SlabBuilder().get_material(material2_slab_config)\n",
    "\n",
    "# For the substrate (first interface), we'll use it as-is since it's already built"
   ],
   "outputs": [],
   "execution_count": null
  },
  {
   "cell_type": "markdown",
   "id": "3816e1b290f7e5d0",
   "metadata": {
    "collapsed": false
   },
   "source": [
    "### 3.5. Set Strain Matching Parameters and Generate Second Interface\n"
   ]
  },
  {
   "cell_type": "code",
   "id": "6f30c6961f7abbfe",
   "metadata": {
    "collapsed": false
   },
   "source": [
    "# Set up ZSL Interface Analyzer for the second interface\n",
    "# Note: For the second interface, we need to create a slab configuration for the substrate (first interface)\n",
    "substrate_second_slab_config = SlabConfiguration.from_parameters(\n",
    "    material_or_dict=substrate_second,\n",
    "    miller_indices=(0, 0, 1),  # Z-orientation for the first interface\n",
    "    number_of_layers=1,  # One unit cell thick\n",
    "    vacuum=0.0,\n",
    "    termination_formula=None,\n",
    "    use_conventional_cell=True\n",
    ")\n",
    "\n",
    "zsl_analyzer_12 = ZSLInterfaceAnalyzer(\n",
    "    substrate_slab_configuration=substrate_second_slab_config,\n",
    "    film_slab_configuration=material2_slab_config,\n",
    "    max_area=MAX_AREA_12,\n",
    "    max_area_ratio_tol=0.09,  # Default tolerance\n",
    "    max_angle_tol=0.03,       # Default tolerance\n",
    "    max_length_tol=0.03       # Default tolerance\n",
    ")\n",
    "\n",
    "# Get ZSL matches for the second interface\n",
    "matches_12 = zsl_analyzer_12.zsl_match_holders"
   ],
   "outputs": [],
   "execution_count": null
  },
  {
   "cell_type": "markdown",
   "id": "32ded9bdae6ef429",
   "metadata": {
    "collapsed": false
   },
   "source": [
    "### 3.6. Plot and Select Second Interface\n"
   ]
  },
  {
   "cell_type": "code",
   "id": "43f233403393eb2a",
   "metadata": {
    "collapsed": false
   },
   "source": [
    "plot_strain_vs_area(matches_12, PLOT_SETTINGS)\n",
    "\n",
    "# Select the interface with the lowest strain and smallest number of atoms\n",
    "selected_index_12 = 0\n",
    "\n",
    "# Create the second interface using the newer approach\n",
    "interface_12 = create_zsl_interface_between_slabs(\n",
    "    substrate_slab=substrate_second,\n",
    "    film_slab=material2_slab,\n",
    "    gap=INTERFACE_12_DISTANCE,\n",
    "    vacuum=FINAL_INTERFACE_VACUUM,\n",
    "    match_id=selected_index_12,\n",
    "    max_area=MAX_AREA_12,\n",
    ")\n",
    "\n",
    "selected_interfaces_12 = [interface_12]"
   ],
   "outputs": [],
   "execution_count": null
  },
  {
   "cell_type": "markdown",
   "id": "ed109941d5e29522",
   "metadata": {
    "collapsed": false
   },
   "source": [
    "### 3.7. Preview the Second Interface (Final Heterostructure)\n"
   ]
  },
  {
   "cell_type": "code",
   "id": "fffbf9243911a98",
   "metadata": {
    "collapsed": false
   },
   "source": [
    "visualize(selected_interfaces_12, repetitions=[3, 3, 1])\n",
    "visualize(selected_interfaces_12, repetitions=[3, 3, 1], rotation=\"-90x\")"
   ],
   "outputs": [],
   "execution_count": null
  },
  {
   "cell_type": "markdown",
   "id": "e98176e806c4aace",
   "metadata": {
    "collapsed": false
   },
   "source": [
    "## 4. Preview the Final Heterostructure\n"
   ]
  },
  {
   "cell_type": "code",
   "id": "47f9a1aa1578c37",
   "metadata": {
    "collapsed": false
   },
   "source": [
    "visualize(selected_interfaces_12, repetitions=[3, 3, 1], title=\"Final Heterostructure (First Interface + Material2)\")\n",
    "visualize(selected_interfaces_12, repetitions=[3, 3, 1], rotation=\"-90x\", title=\"Final Heterostructure (First Interface + Material2) Rotated\")"
   ],
   "outputs": [],
   "execution_count": null
  },
  {
   "cell_type": "markdown",
   "id": "946d5a41156bc1e1",
   "metadata": {
    "collapsed": false
   },
   "source": [
    "## 5. Pass the Final Heterostructure to the Outside Runtime\n",
    "\n",
    "Pass the resulting heterostructure with an adjusted name to `set_materials()`.\n"
   ]
  },
  {
   "cell_type": "code",
   "id": "1b466c32b0d82431",
   "metadata": {
    "collapsed": false
   },
   "source": [
    "from utils.jupyterlite import set_materials\n",
    "\n",
    "final_heterostructure = selected_interfaces_12[0]\n",
    "final_heterostructure.name = f\"{material0.name} - {material1.name} - {material2.name} - Heterostructure\"\n",
    "\n",
    "set_materials(final_heterostructure)"
   ],
   "outputs": [],
   "execution_count": null
  }
 ],
 "metadata": {
  "kernelspec": {
   "display_name": "Python 3",
   "language": "python",
   "name": "python3"
  },
  "language_info": {
   "codemirror_mode": {
    "name": "ipython",
    "version": 2
   },
   "file_extension": ".py",
   "mimetype": "text/x-python",
   "name": "python",
   "nbconvert_exporter": "python",
   "pygments_lexer": "ipython2",
   "version": "2.7.6"
  }
 },
 "nbformat": 4,
 "nbformat_minor": 5
}
