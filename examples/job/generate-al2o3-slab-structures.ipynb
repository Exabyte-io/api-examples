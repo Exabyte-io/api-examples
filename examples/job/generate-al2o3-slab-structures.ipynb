version https://git-lfs.github.com/spec/v1
oid sha256:00c15ac26e39ca5ae74ad5e4627680e7fcd37fdad862b736a2cfca664997d9ad
size 35886
