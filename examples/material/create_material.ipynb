version https://git-lfs.github.com/spec/v1
oid sha256:9d081a9227ac965a20ca26baa5c112a021a2bbc5bceae0a30032a561551505a8
size 12742
