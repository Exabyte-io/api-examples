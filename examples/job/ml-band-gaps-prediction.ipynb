version https://git-lfs.github.com/spec/v1
oid sha256:7c34db0dd1817bbc155ff84719f462c8d24f259780b152a393e07d34cb5c2e08
size 19016
