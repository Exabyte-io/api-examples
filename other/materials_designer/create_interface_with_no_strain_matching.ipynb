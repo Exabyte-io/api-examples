{
 "cells": [
  {
   "cell_type": "markdown",
   "metadata": {},
   "source": [
    "# Create an interface with no strain matching\n",
    "\n",
    "<h2 style=\"color:green\">Usage</h2>\n",
    "\n",
    "1. Make sure to select Input Materials (in the outer runtime) before running the notebook.\n",
    "1. Set notebook parameters in cell 1.1. below (or use the default values).\n",
    "1. Set slab parameters for the substrate and film in cell 2.1. (or use default).\n",
    "1. Set interface parameters in cell 3.1. (or use default).\n",
    "1. Click “Run” > “Run All” to run all cells. \n",
    "1. Scroll down to view results. \n",
    "\n",
    "## Summary\n",
    "1. Prepare the Environment: Set up the notebook and install packages, preview the input materials\n",
    "1. Create substrate and film slabs and select the terminations\n",
    "1. Generate an interface by wrapping the film slab into the substrate slab. Optionally, the film slab can be scaled to match the substrate lattice.\n",
    "1. Select the interface with the desired strain and visualize it\n",
    "\n",
    "## Notes\n",
    "1. For more information, see [Introduction](Introduction.ipynb)\n",
    "<!-- # TODO: use a hashtag-based anchor link to interface creation documention above -->\n"
   ]
  },
  {
   "cell_type": "markdown",
   "source": [
    "## 1. Prepare Environment\n",
    "### 1.1. Set notebook parameters"
   ],
   "metadata": {
    "collapsed": false
   }
  },
  {
   "metadata": {
    "ExecuteTime": {
     "end_time": "2025-07-22T18:39:17.334308Z",
     "start_time": "2025-07-22T18:39:17.331373Z"
    }
   },
   "cell_type": "code",
   "source": [
    "# Enable interactive selection of terminations via UI prompt\n",
    "IS_TERMINATIONS_SELECTION_INTERACTIVE = False \n",
    "# Enable scaling of the film slab atomic coordinates to match the substrate lattice (preserve coordinates in crystal units).\n",
    "ENABLE_FILM_SCALING = True\n",
    "\n",
    "# Create slabs for the film and substrate when creating the interface, otherwise use provided materials directly.\n",
    "CREATE_SLABS = True \n",
    "\n",
    "FILM_INDEX = 1\n",
    "FILM_MILLER_INDICES = (0, 0, 1)\n",
    "FILM_THICKNESS = 1  # in atomic layers\n",
    "FILM_VACUUM = 0.0  # in angstroms\n",
    "FILM_TERMINATION_FORMULA = None  # if None, the first termination will be used\n",
    "FILM_XY_SUPERCELL_MATRIX = [[1, 0], [0, 1]]\n",
    "FILM_USE_ORTHOGONAL_C = True\n",
    "FILM_XY_SHIFT = [0.0, 0.0]  # in Angstroms, shift the film slab in the XY plane relative to the substrate slab\n",
    "\n",
    "SUBSTRATE_INDEX = 0\n",
    "SUBSTRATE_MILLER_INDICES = (1, 1, 1)\n",
    "SUBSTRATE_THICKNESS = 3  # in atomic layers\n",
    "SUBSTRATE_VACUUM = 3.0  # in angstroms\n",
    "SUBSTRATE_TERMINATION_FORMULA = None  # if None, the first termination will be used\n",
    "SUBSTRATE_XY_SUPERCELL_MATRIX = [[1, 0], [0, 1]]\n",
    "SUBSTRATE_USE_ORTHOGONAL_C = True\n",
    "\n",
    "# Whether to convert materials to conventional cells before creating slabs.\n",
    "USE_CONVENTIONAL_CELL = False\n",
    "\n",
    "\n",
    "# Set the termination pair indices\n",
    "TERMINATION_PAIR_INDEX = 0 # Will be overridden in interactive selection is used\n",
    "INTERFACE_DISTANCE = 3.0  # in Angstrom\n",
    "INTERFACE_VACUUM = 20.0  # in Angstrom"
   ],
   "outputs": [],
   "execution_count": 65
  },
  {
   "cell_type": "markdown",
   "source": [
    "\n",
    "### 1.2. Install Packages\n",
    "Note: the step executes only when using Pyodide. For other environments (e.g. Colab, JupyterLab), the packages should be installed via `pip install .` (see [README](../../README.ipynb))."
   ],
   "metadata": {
    "collapsed": false
   }
  },
  {
   "cell_type": "code",
   "source": [
    "import sys\n",
    "\n",
    "if sys.platform == \"emscripten\":\n",
    "    import micropip\n",
    "    await micropip.install('mat3ra-api-examples', deps=False)\n",
    "    await micropip.install('mat3ra-utils')\n",
    "    from mat3ra.utils.jupyterlite.packages import install_packages\n",
    "    await install_packages(\"create_interface_with_min_strain_zsl.ipynb\")"
   ],
   "metadata": {
    "collapsed": false,
    "ExecuteTime": {
     "end_time": "2025-07-22T18:39:17.347393Z",
     "start_time": "2025-07-22T18:39:17.345321Z"
    }
   },
   "outputs": [],
   "execution_count": 66
  },
  {
   "cell_type": "markdown",
   "source": [
    "### 1.3. Get input materials and assign `substrate` and `film`\n",
    "Materials are loaded with `get_data()`. The first material is assigned as substrate and the second as film."
   ],
   "metadata": {
    "collapsed": false
   }
  },
  {
   "cell_type": "code",
   "source": [
    "from utils.jupyterlite import get_materials\n",
    "\n",
    "materials = get_materials(globals())\n",
    "substrate = materials[SUBSTRATE_INDEX]\n",
    "try: \n",
    "    film = materials[FILM_INDEX]\n",
    "except IndexError:\n",
    "    print(\"Please select a film material. Film is set to substrate.\")\n",
    "    film = substrate"
   ],
   "metadata": {
    "collapsed": false,
    "ExecuteTime": {
     "end_time": "2025-07-22T18:39:17.629747Z",
     "start_time": "2025-07-22T18:39:17.357527Z"
    }
   },
   "outputs": [
    {
     "name": "stdout",
     "output_type": "stream",
     "text": [
      "0: 0-Ni\n",
      "1: 1-Graphene\n",
      "2: C(001)-Ni(001), Interface, Strain 0.402pct\n",
      "3: C(001)-Ni(001), Interface, Strain 30.393pct\n",
      "4: C(001)-Ni(011), Interface, Strain 30.947pct\n",
      "5: C(001)-Ni(100), Interface, Strain 0.402pct\n",
      "6: C(001)-Ni(100), Interface, Strain 30.393pct\n",
      "7: C(001)-Ni(111), Interface, Strain 0.402pct\n",
      "8: C(001)-Ni(111), Interface, Strain 71.515pct\n",
      "9: C, Graphene, HEX (P6:mmm) 2D (Monolayer), 2dm-3993 - Armchair Nanoribbon (11)\n",
      "10: C2(001)-Ni4(001), Interface\n",
      "11: Custom Shape - Etching Pattern\n",
      "12: Ga2 Te2\n",
      "13: Ni(001), termination Ni_P4:mmm_2, Slab\n",
      "14: Ni(001)-Ni(111), Grain Boundary\n",
      "15: Ni, Nickel, FCC (Fm-3m) 3D (Bulk), mp-23 (Perturbation: 0.05*sin(2*pi*x)*sin(2*pi*y))\n",
      "16: Ni, Nickel, FCC (Fm-3m) 3D (Bulk), mp-23 (Perturbation: 0.5*sin(2*pi*x))\n",
      "17: Ni, Nickel, FCC (Fm-3m) 3D (Bulk), mp-23 (Perturbation: 0.5*sin(2*pi*y))\n",
      "18: Ni, Nickel, FCC (Fm-3m) 3D (Bulk), mp-23 Cluster R=4.5A\n",
      "19: Ni, Nickel, FCC (Fm-3m) 3D (Bulk), mp-23 Octahedron cluster\n",
      "20: Ni, Nickel, FCC (Fm-3m) 3D (Bulk), mp-23, Pair Defect: Vac + C\n",
      "21: Ni, Nickel, FCC (Fm-3m) 3D (Bulk), mp-23\n",
      "22: Ni-Ni, Linear Grain Boundary , 17.90 degrees\n",
      "23: Ni4(001), termination Ni_P4:mmm_2, Slab with box cutout\n",
      "24: Ni4(001), termination Ni_P4:mmm_2, Slab, 1-step Terrace [1, 0, 0]\n",
      "25: Ni4(001), termination Ni_P4:mmm_2, Slab\n",
      "26: Ni4(111), termination Ni_R-3m_4, Slab\n",
      "27: Ni6(001), termination Ni_P4:mmm_1, Slab\n",
      "28: O3SrTi(111)-IrO3Sr(100), Interface, Strain 0.859pct\n",
      "29: O8Zr4(011), termination O2_P2:m_1, Slab\n",
      "30: SrTiO3, Strontium Titanate, CUB (Pm-3m) 3D (Bulk), mp-5229\n",
      "31: Te2 Mo1\n",
      "Retrieved 32 materials.\n"
     ]
    }
   ],
   "execution_count": 67
  },
  {
   "cell_type": "markdown",
   "source": [
    "### 1.4. Preview Substrate and Film"
   ],
   "metadata": {
    "collapsed": false
   }
  },
  {
   "cell_type": "code",
   "source": [
    "from utils.visualize import visualize_materials as visualize\n",
    "visualize([substrate, film], repetitions=[3, 3, 1], rotation=\"0x\")"
   ],
   "metadata": {
    "collapsed": false,
    "ExecuteTime": {
     "end_time": "2025-07-22T18:39:17.715449Z",
     "start_time": "2025-07-22T18:39:17.640705Z"
    }
   },
   "outputs": [
    {
     "data": {
      "text/plain": [
       "GridBox(children=(VBox(children=(Label(value='Ni - Material - rotation: 0x', layout=Layout(align_self='center'…"
      ],
      "application/vnd.jupyter.widget-view+json": {
       "version_major": 2,
       "version_minor": 0,
       "model_id": "55f0efb3005c4356bd3d152530bf9753"
      }
     },
     "metadata": {},
     "output_type": "display_data"
    }
   ],
   "execution_count": 68
  },
  {
   "metadata": {},
   "cell_type": "markdown",
   "source": [
    "## 2. Create slabs for the interface\n",
    "\n"
   ]
  },
  {
   "metadata": {},
   "cell_type": "markdown",
   "source": "### 2.2. Get possible terminations for the slabs"
  },
  {
   "metadata": {
    "ExecuteTime": {
     "end_time": "2025-07-22T18:39:17.808006Z",
     "start_time": "2025-07-22T18:39:17.759309Z"
    }
   },
   "cell_type": "code",
   "source": [
    "from mat3ra.made.tools.build.slab.helpers import get_slab_terminations\n",
    "\n",
    "film_slab_terminations = get_slab_terminations(film, miller_indices=FILM_MILLER_INDICES)\n",
    "substrate_slab_terminations = get_slab_terminations(substrate, miller_indices=SUBSTRATE_MILLER_INDICES)"
   ],
   "outputs": [],
   "execution_count": 69
  },
  {
   "metadata": {},
   "cell_type": "markdown",
   "source": "### 2.3. Visualize slabs for all possible terminations"
  },
  {
   "metadata": {
    "collapsed": false,
    "ExecuteTime": {
     "end_time": "2025-07-22T18:39:17.993595Z",
     "start_time": "2025-07-22T18:39:17.826402Z"
    }
   },
   "cell_type": "code",
   "source": [
    "from mat3ra.made.tools.analyze.lattice_planes import CrystalLatticePlanesMaterialAnalyzer\n",
    "from mat3ra.made.tools.build.slab.termination_utils import select_slab_termination\n",
    "\n",
    "film_analyzer = CrystalLatticePlanesMaterialAnalyzer(material=film, miller_indices=FILM_MILLER_INDICES)\n",
    "film_slabs = [film_analyzer.get_material_with_termination_without_vacuum(termination) for termination in\n",
    "              film_slab_terminations]\n",
    "\n",
    "substrate_analyzer = CrystalLatticePlanesMaterialAnalyzer(material=substrate, miller_indices=SUBSTRATE_MILLER_INDICES)\n",
    "substrate_slabs = [substrate_analyzer.get_material_with_termination_without_vacuum(termination) for termination in\n",
    "                   substrate_slab_terminations]\n",
    "\n",
    "film_slabs_with_titles = [{\"material\": slab, \"title\": str(termination)} for slab, termination in\n",
    "                          zip(film_slabs, film_slab_terminations)]\n",
    "substrate_slabs_with_titles = [{\"material\": slab, \"title\": str(termination)} for slab, termination in\n",
    "                               zip(substrate_slabs, substrate_slab_terminations)]\n",
    "\n",
    "visualize(film_slabs_with_titles, repetitions=[3, 3, 1], rotation=\"-90x\")\n",
    "visualize(substrate_slabs_with_titles, repetitions=[3, 3, 1], rotation=\"-90x\")"
   ],
   "outputs": [
    {
     "data": {
      "text/plain": [
       "GridBox(children=(VBox(children=(Label(value='C2 - C_P6/mmm_2 - rotation: -90x', layout=Layout(align_self='cen…"
      ],
      "application/vnd.jupyter.widget-view+json": {
       "version_major": 2,
       "version_minor": 0,
       "model_id": "f6fa127a52e34d91a29a848130bd9663"
      }
     },
     "metadata": {},
     "output_type": "display_data"
    },
    {
     "data": {
      "text/plain": [
       "GridBox(children=(VBox(children=(Label(value='Ni4 - Ni_R-3m_4 - rotation: -90x', layout=Layout(align_self='cen…"
      ],
      "application/vnd.jupyter.widget-view+json": {
       "version_major": 2,
       "version_minor": 0,
       "model_id": "e1a6e71cc95a43cf89cdaffd37e25b4f"
      }
     },
     "metadata": {},
     "output_type": "display_data"
    }
   ],
   "execution_count": 70
  },
  {
   "metadata": {},
   "cell_type": "markdown",
   "source": "### 2.3. Select terminations for the Slabs"
  },
  {
   "metadata": {
    "ExecuteTime": {
     "end_time": "2025-07-22T18:39:18.005088Z",
     "start_time": "2025-07-22T18:39:18.001662Z"
    }
   },
   "cell_type": "code",
   "source": [
    "film_termination = select_slab_termination(film_slab_terminations, FILM_TERMINATION_FORMULA)\n",
    "substrate_termination = select_slab_termination(substrate_slab_terminations, SUBSTRATE_TERMINATION_FORMULA)"
   ],
   "outputs": [],
   "execution_count": 71
  },
  {
   "metadata": {},
   "cell_type": "markdown",
   "source": [
    "### 2.1. Create Substrate and Layer Slabs\n",
    "Slab Configuration lets define the slab thickness, vacuum, and the Miller indices of the interfacial plane and get the slabs with possible terminations.\n",
    "Define the substrate slab cell that will be used as a base for the interface and the film slab cell that will be placed on top of the substrate slab."
   ]
  },
  {
   "metadata": {
    "ExecuteTime": {
     "end_time": "2025-07-22T18:39:18.205848Z",
     "start_time": "2025-07-22T18:39:18.028639Z"
    }
   },
   "cell_type": "code",
   "source": [
    "from mat3ra.made.tools.build.slab.helpers import create_slab\n",
    "\n",
    "if CREATE_SLABS:\n",
    "    film_slab = create_slab(\n",
    "        crystal=film,\n",
    "        miller_indices=FILM_MILLER_INDICES,\n",
    "        termination=film_termination,\n",
    "        number_of_layers=FILM_THICKNESS, # in atomic layers\n",
    "        vacuum=FILM_VACUUM, # in angstroms\n",
    "        xy_supercell_matrix=FILM_XY_SUPERCELL_MATRIX,\n",
    "        use_orthogonal_c=FILM_USE_ORTHOGONAL_C,\n",
    "        use_conventional_cell=USE_CONVENTIONAL_CELL\n",
    "    )\n",
    "\n",
    "    substrate_slab = create_slab(\n",
    "        crystal=substrate,\n",
    "        miller_indices=SUBSTRATE_MILLER_INDICES,\n",
    "        termination=substrate_termination,\n",
    "        number_of_layers=SUBSTRATE_THICKNESS, # in atomic layers\n",
    "        vacuum=SUBSTRATE_VACUUM, # in angstroms\n",
    "        xy_supercell_matrix=SUBSTRATE_XY_SUPERCELL_MATRIX,\n",
    "        use_orthogonal_c=SUBSTRATE_USE_ORTHOGONAL_C,\n",
    "        use_conventional_cell=USE_CONVENTIONAL_CELL\n",
    "    )\n",
    "else:\n",
    "    film_slab = film\n",
    "    substrate_slab = substrate\n"
   ],
   "outputs": [],
   "execution_count": 72
  },
  {
   "cell_type": "markdown",
   "metadata": {},
   "source": [
    "## 3. Create an interface\n",
    "### 3.1. Create an interface with no strain matching\n",
    "We use no strain matching for the interface construction. Substrate slab cell is used as a base and the film slab is placed on top of it with the specified distance."
   ]
  },
  {
   "metadata": {
    "ExecuteTime": {
     "end_time": "2025-07-22T18:39:18.573404Z",
     "start_time": "2025-07-22T18:39:18.245619Z"
    }
   },
   "cell_type": "code",
   "source": [
    "from mat3ra.made.tools.build.interface.helpers import  create_simple_interface_between_slabs\n",
    "\n",
    "interface = create_simple_interface_between_slabs(\n",
    "    film_slab=film_slab,\n",
    "    substrate_slab=substrate_slab,\n",
    "    gap =INTERFACE_DISTANCE,\n",
    "    vacuum=INTERFACE_VACUUM,\n",
    "    xy_shift=FILM_XY_SHIFT\n",
    ")"
   ],
   "outputs": [],
   "execution_count": 73
  },
  {
   "metadata": {
    "ExecuteTime": {
     "end_time": "2025-07-22T18:39:18.859477Z",
     "start_time": "2025-07-22T18:39:18.581873Z"
    }
   },
   "cell_type": "code",
   "source": [
    "visualize([interface], repetitions=[3, 3, 1])\n",
    "visualize([interface], repetitions=[3, 3, 1], rotation=\"-90x\")"
   ],
   "outputs": [
    {
     "data": {
      "text/plain": [
       "GridBox(children=(VBox(children=(Label(value='C8Ni12 - Material - rotation: 0x,0y,0z', layout=Layout(align_sel…"
      ],
      "application/vnd.jupyter.widget-view+json": {
       "version_major": 2,
       "version_minor": 0,
       "model_id": "3598ecfd739a4a5bac73226716838bc9"
      }
     },
     "metadata": {},
     "output_type": "display_data"
    },
    {
     "data": {
      "text/plain": [
       "GridBox(children=(VBox(children=(Label(value='C8Ni12 - Material - rotation: -90x', layout=Layout(align_self='c…"
      ],
      "application/vnd.jupyter.widget-view+json": {
       "version_major": 2,
       "version_minor": 0,
       "model_id": "473f7a263e454819bcda4a27187fd612"
      }
     },
     "metadata": {},
     "output_type": "display_data"
    }
   ],
   "execution_count": 74
  },
  {
   "cell_type": "markdown",
   "metadata": {},
   "source": [
    "## 5. Pass data to the outside runtime"
   ]
  },
  {
   "cell_type": "code",
   "metadata": {
    "ExecuteTime": {
     "end_time": "2025-07-22T18:39:18.911339Z",
     "start_time": "2025-07-22T18:39:18.897811Z"
    }
   },
   "source": [
    "from utils.jupyterlite import set_materials\n",
    "set_materials(interface)"
   ],
   "outputs": [
    {
     "name": "stdout",
     "output_type": "stream",
     "text": [
      "Data for materials written to uploads/C(001)-Ni(111), Interface, Strain 71.515pct.json\n"
     ]
    }
   ],
   "execution_count": 75
  }
 ],
 "metadata": {
  "kernelspec": {
   "display_name": ".venv",
   "language": "python",
   "name": "python3"
  },
  "language_info": {
   "codemirror_mode": {
    "name": "ipython",
    "version": 3
   },
   "file_extension": ".py",
   "mimetype": "text/x-python",
   "name": "python",
   "nbconvert_exporter": "python",
   "pygments_lexer": "ipython3",
   "version": "3.10.12"
  },
  "widgets": {
   "application/vnd.jupyter.widget-state+json": {
    "state": {},
    "version_major": 2,
    "version_minor": 0
   }
  }
 },
 "nbformat": 4,
 "nbformat_minor": 4
}
