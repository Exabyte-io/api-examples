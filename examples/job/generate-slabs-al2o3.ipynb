version https://git-lfs.github.com/spec/v1
oid sha256:c58194d64e45448f540d5f724f7b971ecfad61ec381790fac361067be21680b3
size 36387
