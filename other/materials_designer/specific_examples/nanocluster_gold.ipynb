{
 "cells": [
  {
   "cell_type": "markdown",
   "source": [
    "# Nanoclusters of Gold\n",
    "\n",
    "## 0. Introduction\n",
    "\n",
    "This notebook demonstrates creation of Gold nanoclusters with cuboctahedral and icosahedral shapes. The notebook is based on the following publication:\n",
    "\n",
    "\n",
    "> **A. H. Larsen, J. Kleis, K. S. Thygesen, J. K. Nørskov, and K. W. Jacobsen**,\n",
    "> \"Electronic shell structure and chemisorption on gold nanoparticles\",\n",
    "> *Phys. Rev. B 84, 245429 (2011)*,\n",
    "> [DOI: 10.1103/PhysRevB.84.245429](https://doi.org/10.1103/PhysRevB.84.245429)\n",
    "> \n",
    "\n",
    "In this notebook we will reproduce material from FIG. 2:\n",
    "![Fig 2.]()\n"
   ],
   "metadata": {
    "collapsed": false
   },
   "id": "f2e1e795020d7b3f"
  },
  {
   "cell_type": "markdown",
   "source": [
    "## 1. Prepare the Environment\n"
   ],
   "metadata": {
    "collapsed": false
   },
   "id": "5e43ff288847b784"
  },
  {
   "cell_type": "markdown",
   "source": [
    "### 1.1. Install Packages\n",
    "The step executes only in Pyodide environment. For other environments, the packages should be installed via `pip install` (see [README](../../README.ipynb))."
   ],
   "metadata": {
    "collapsed": false
   },
   "id": "9adf37a8d2620dc4"
  },
  {
   "cell_type": "code",
   "outputs": [],
   "source": [
    "import sys\n",
    "\n",
    "if sys.platform == \"emscripten\":\n",
    "    import micropip\n",
    "\n",
    "    await micropip.install('mat3ra-api-examples', deps=False)\n",
    "    from utils.jupyterlite import install_packages\n",
    "\n",
    "    await install_packages(\"create_cluster_custom_shape.ipynb\")"
   ],
   "metadata": {
    "collapsed": false
   },
   "id": "d9e6be14343d00a1",
   "execution_count": null
  },
  {
   "cell_type": "markdown",
   "source": [
    "### 1.2. Set up cluster parameters"
   ],
   "metadata": {
    "collapsed": false
   },
   "id": "26066db067a41c93"
  },
  {
   "cell_type": "code",
   "outputs": [],
   "source": [
    "SHAPE = \"icosahedron\"  # Shape of the cluster\n",
    "NUMBER_OF_SHELLS = 3  # Number of shells\n",
    "NAME = \"Icosahedron\"  # Name of the cluster"
   ],
   "metadata": {
    "collapsed": false
   },
   "id": "9d8b1890b34d850a",
   "execution_count": null
  },
  {
   "cell_type": "markdown",
   "source": [
    "### 1.3. Get input material"
   ],
   "metadata": {
    "collapsed": false
   },
   "id": "919ad7af8dceeedd"
  },
  {
   "cell_type": "code",
   "outputs": [],
   "source": [
    "from mat3ra.standata.materials import Materials\n",
    "from mat3ra.made.material import Material\n",
    "\n",
    "material = Material( Materials.get_by_name_first_match(\"Gold\"))"
   ],
   "metadata": {
    "collapsed": false
   },
   "id": "be38fdda1984c654",
   "execution_count": null
  },
  {
   "cell_type": "markdown",
   "source": [
    "## 2. Create the Target Material\n",
    "### 2.1. Create spherical cluster\n"
   ],
   "metadata": {
    "collapsed": false
   },
   "id": "690241d87e7bbbe0"
  },
  {
   "cell_type": "code",
   "outputs": [],
   "source": [
    "from mat3ra.made.tools.build.nanoparticle import NanoparticleConfiguration, create_nanoparticle\n",
    "\n",
    "config = NanoparticleConfiguration(\n",
    "    material = material,\n",
    "    shape = SHAPE,\n",
    "    parameters = {\n",
    "    \"noshells\": NUMBER_OF_SHELLS,\n",
    "    }\n",
    ")\n",
    "\n",
    "cluster = create_nanoparticle(config)"
   ],
   "metadata": {
    "collapsed": false
   },
   "id": "a990fa35742d7269",
   "execution_count": null
  },
  {
   "cell_type": "markdown",
   "source": [
    "## 3. Visualize the Result(s)"
   ],
   "metadata": {
    "collapsed": false
   },
   "id": "462549d016073446"
  },
  {
   "cell_type": "code",
   "outputs": [],
   "source": [
    "from utils.visualize import visualize_materials as visualize\n",
    "visualize([{\"material\": cluster, \"title\": f\"{NAME}\"}, {\"material\": cluster, \"rotation\": \"-60x\", \"title\": \"Bulk\"}])"
   ],
   "metadata": {
    "collapsed": false
   },
   "id": "509b18661a069e42",
   "execution_count": null
  },
  {
   "cell_type": "markdown",
   "source": [
    "## 4. Pass data to the outside runtime"
   ],
   "metadata": {
    "collapsed": false
   },
   "id": "d381df29a6bbdd82"
  },
  {
   "cell_type": "code",
   "outputs": [],
   "source": [
    "from utils.jupyterlite import set_materials\n",
    "\n",
    "cluster.name = f\"{material.name} {NAME}\"\n",
    "set_materials(cluster)"
   ],
   "metadata": {
    "collapsed": false
   },
   "id": "61daa5afcbc078a9",
   "execution_count": null
  }
 ],
 "metadata": {
  "kernelspec": {
   "display_name": "Python 3",
   "language": "python",
   "name": "python3"
  },
  "language_info": {
   "codemirror_mode": {
    "name": "ipython",
    "version": 2
   },
   "file_extension": ".py",
   "mimetype": "text/x-python",
   "name": "python",
   "nbconvert_exporter": "python",
   "pygments_lexer": "ipython2",
   "version": "2.7.6"
  }
 },
 "nbformat": 4,
 "nbformat_minor": 5
}
