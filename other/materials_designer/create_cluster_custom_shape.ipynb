{
 "cells": [
  {
   "cell_type": "markdown",
   "source": [
    "# Create a cluster of custom shape from a bulk material\n",
    "\n",
    "Create a cluster with shape provided by condition on coordinates and crystal orientation along the z-axis from a bulk material.\n",
    "\n",
    "<h2 style=\"color:green\">Usage</h2>\n",
    "\n",
    "1. Make sure to select Input Materials (in the outer runtime) before running the notebook.\n",
    "1. Set notebook parameters in cell 1.1. below (or use the default values).\n",
    "1. Click “Run” > “Run All” to run all cells. \n",
    "1. Scroll down to view results. \n",
    "\n",
    "\n",
    "## Notes\n",
    "\n",
    "1. For more information, see [Introduction](Introduction.ipynb)\n",
    "<!-- # TODO: use a hashtag-based anchor link to interface creation documention above -->\n"
   ],
   "metadata": {
    "collapsed": false
   },
   "id": "f2e1e795020d7b3f"
  },
  {
   "cell_type": "markdown",
   "source": [
    "## 1. Prepare the Environment\n"
   ],
   "metadata": {
    "collapsed": false
   },
   "id": "5e43ff288847b784"
  },
  {
   "cell_type": "markdown",
   "source": [
    "### 1.1. Install Packages\n",
    "The step executes only in Pyodide environment. For other environments, the packages should be installed via `pip install` (see [README](../../README.ipynb))."
   ],
   "metadata": {
    "collapsed": false
   },
   "id": "9adf37a8d2620dc4"
  },
  {
   "cell_type": "code",
   "outputs": [],
   "source": [
    "import sys\n",
    "\n",
    "if sys.platform == \"emscripten\":\n",
    "    import micropip\n",
    "\n",
    "    await micropip.install('mat3ra-api-examples', deps=False)\n",
    "    from utils.jupyterlite import install_packages\n",
    "\n",
    "    await install_packages(\"create_cluster_custom_shape.ipynb\")"
   ],
   "metadata": {
    "collapsed": false
   },
   "id": "d9e6be14343d00a1",
   "execution_count": null
  },
  {
   "cell_type": "markdown",
   "source": [
    "### 1.2. Set up cluster parameters"
   ],
   "metadata": {
    "collapsed": false
   },
   "id": "26066db067a41c93"
  },
  {
   "cell_type": "code",
   "outputs": [],
   "source": [
    "RADIUS = 0.3  # in crystal units\n",
    "VACUUM = 10.0  # in Angstroms on each side\n",
    "SUPERCELL_SIZE = 10  # in crystal units\n",
    "Z_ORIENTATION = (0, 0, 1)  # Miller indices of the slab orientation along the z-axis for the cluster\n",
    "NAME = \"Icosahedron\"  # Name of the cluster"
   ],
   "metadata": {
    "collapsed": false
   },
   "id": "9d8b1890b34d850a",
   "execution_count": null
  },
  {
   "cell_type": "markdown",
   "source": [
    "### 1.3. Set coordinates condition"
   ],
   "metadata": {
    "collapsed": false
   },
   "id": "3aae932e71fa71a9"
  },
  {
   "cell_type": "code",
   "outputs": [],
   "source": [
    "import numpy as np\n",
    "from typing import List\n",
    "from icosphere import icosphere\n",
    "from mat3ra.made.tools.utils.coordinate import CoordinateCondition\n",
    "\n",
    "\n",
    "# Example of a custom coordinate condition (icosahedron). Adapt coordinate conditions to your needs.\n",
    "class CustomCoordinateCondition(CoordinateCondition):\n",
    "    \"\"\"Creates an icosahedron shape using the icosphere module\"\"\"\n",
    "    radius: float = 1\n",
    "    frequency: int = 1\n",
    "    vertices: List[List[float]] = icosphere(1)[0]\n",
    "    faces: List[List[int]] = icosphere(1)[1]\n",
    "    center: List[float] = [0.5, 0.5, 0.5]\n",
    "\n",
    "    def condition(self, coordinate: List[float]) -> bool:\n",
    "        \"\"\"Returns True if point is inside icosahedron\"\"\"\n",
    "        coordinate = np.array(coordinate) - self.center\n",
    "        for face in self.faces:\n",
    "            a, b, c = face\n",
    "            normal = np.cross(self.vertices[b] - self.vertices[a], self.vertices[c] - self.vertices[a])\n",
    "            normal = normal / np.linalg.norm(normal)\n",
    "            if np.dot(normal, coordinate) > self.radius:\n",
    "                return False\n",
    "        return True\n",
    "    \n",
    "condition = CustomCoordinateCondition(radius=RADIUS).condition"
   ],
   "metadata": {
    "collapsed": false
   },
   "id": "8e382d5ab459e2d",
   "execution_count": null
  },
  {
   "cell_type": "markdown",
   "source": [
    "### 1.3. Get input material"
   ],
   "metadata": {
    "collapsed": false
   },
   "id": "919ad7af8dceeedd"
  },
  {
   "cell_type": "code",
   "outputs": [],
   "source": [
    "from utils.jupyterlite import get_materials\n",
    "\n",
    "materials = get_materials(globals())"
   ],
   "metadata": {
    "collapsed": false
   },
   "id": "be38fdda1984c654",
   "execution_count": null
  },
  {
   "cell_type": "markdown",
   "source": [
    "### 1.4. Create a slab of sufficient size"
   ],
   "metadata": {
    "collapsed": false
   },
   "id": "a132fe0ef8bbf0d0"
  },
  {
   "cell_type": "code",
   "outputs": [],
   "source": [
    "from mat3ra.made.tools.build.supercell import create_supercell\n",
    "from mat3ra.made.tools.build.slab import create_slab, SlabConfiguration\n",
    "from utils.visualize import visualize_materials as visualize\n",
    "\n",
    "slab_config = SlabConfiguration(\n",
    "    bulk=materials[0],\n",
    "    miller_indices=Z_ORIENTATION,\n",
    "    thickness=SUPERCELL_SIZE,\n",
    "    vacuum=0,\n",
    "    use_orthogonal_z=True,\n",
    "    xy_supercell_matrix=[[SUPERCELL_SIZE, 0], [0, SUPERCELL_SIZE]],\n",
    ")\n",
    "\n",
    "slab = create_slab(slab_config)\n",
    "\n",
    "visualize([{\"material\": slab, \"title\": \"Original material\"}])\n",
    "visualize([{\"material\": slab, \"title\": \"Original material\"}], rotation=\"-90x\")"
   ],
   "metadata": {
    "collapsed": false
   },
   "id": "7fcb1e02e84c5f35",
   "execution_count": null
  },
  {
   "cell_type": "markdown",
   "source": [
    "## 2. Create the Target Material\n",
    "### 2.1. Create spherical cluster\n"
   ],
   "metadata": {
    "collapsed": false
   },
   "id": "690241d87e7bbbe0"
  },
  {
   "cell_type": "code",
   "outputs": [],
   "source": [
    "from mat3ra.made.tools.modify import  add_vacuum, add_vacuum_sides, filter_by_condition_on_coordinates\n",
    "\n",
    "cluster = filter_by_condition_on_coordinates(slab, condition)\n",
    "cluster = add_vacuum(cluster, VACUUM, to_bottom=True, on_top=True)\n",
    "cluster = add_vacuum_sides(cluster, VACUUM, on_x=True, on_y=True)"
   ],
   "metadata": {
    "collapsed": false
   },
   "id": "a990fa35742d7269",
   "execution_count": null
  },
  {
   "cell_type": "markdown",
   "source": [
    "### 2.2. Set lattice to Cubic"
   ],
   "metadata": {
    "collapsed": false
   },
   "id": "a01018588e6e55fc"
  },
  {
   "cell_type": "code",
   "outputs": [],
   "source": [
    "from mat3ra.made.lattice import Lattice\n",
    "\n",
    "current_vector_1, current_vector_2, current_vector_3 = cluster.lattice.vectors\n",
    "cubic_vector_1 = [current_vector_1[0], 0, 0]\n",
    "cubic_vector_2 = [0, current_vector_2[1], 0]\n",
    "cubic_vector_3 = [0, 0, current_vector_3[2]]\n",
    "cluster.lattice = Lattice.from_vectors_array([cubic_vector_1, cubic_vector_2, cubic_vector_3], type=\"CUB\")"
   ],
   "metadata": {
    "collapsed": false
   },
   "id": "4f78c4743b370c3b",
   "execution_count": null
  },
  {
   "cell_type": "markdown",
   "source": [
    "## 3. Visualize the Result(s)"
   ],
   "metadata": {
    "collapsed": false
   },
   "id": "462549d016073446"
  },
  {
   "cell_type": "code",
   "outputs": [],
   "source": [
    "visualize([{\"material\": slab, \"title\": \"Original material\"},\n",
    "           {\"material\": cluster, \"title\": f\"Cluster\"}])\n",
    "\n",
    "visualize([{\"material\": slab, \"title\": \"Original material\"},\n",
    "           {\"material\": cluster, \"title\": f\"Cluster\"}], rotation=\"-90x\")"
   ],
   "metadata": {
    "collapsed": false
   },
   "id": "509b18661a069e42",
   "execution_count": null
  },
  {
   "cell_type": "markdown",
   "source": [
    "## 4. Pass data to the outside runtime"
   ],
   "metadata": {
    "collapsed": false
   },
   "id": "d381df29a6bbdd82"
  },
  {
   "cell_type": "code",
   "outputs": [],
   "source": [
    "from utils.jupyterlite import set_materials\n",
    "\n",
    "cluster.name = f\"{materials[0].name} {NAME}\"\n",
    "set_materials(cluster)"
   ],
   "metadata": {
    "collapsed": false
   },
   "id": "61daa5afcbc078a9",
   "execution_count": null
  }
 ],
 "metadata": {
  "kernelspec": {
   "display_name": "Python 3",
   "language": "python",
   "name": "python3"
  },
  "language_info": {
   "codemirror_mode": {
    "name": "ipython",
    "version": 2
   },
   "file_extension": ".py",
   "mimetype": "text/x-python",
   "name": "python",
   "nbconvert_exporter": "python",
   "pygments_lexer": "ipython2",
   "version": "2.7.6"
  }
 },
 "nbformat": 4,
 "nbformat_minor": 5
}
