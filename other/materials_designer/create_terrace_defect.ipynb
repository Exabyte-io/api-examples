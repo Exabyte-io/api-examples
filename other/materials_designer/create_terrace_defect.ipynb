{
 "cells": [
  {
   "cell_type": "markdown",
   "source": [
    "# Create a Terrace Defect on a Slab\n",
    "\n",
    "Create a terrace defect by adding layers to a portion of a slab, defined by a cutting plane and number of additional layers.\n",
    "\n",
    "<h2 style=\"color:green\">Usage</h2>\n",
    "\n",
    "1. Make sure to select Input Material (in the outer runtime) before running the notebook.\n",
    "1. Set notebook parameters in cell 1.1. below (or use the default values).\n",
    "1. Click \"Run\" > \"Run All\" to run all cells.\n",
    "1. Wait for the run to complete.\n",
    "1. Scroll down to view results.\n",
    "\n",
    "## Notes\n",
    "\n",
    "1. The input material must be a Slab, or slab will be generated with provided parameters."
   ],
   "metadata": {
    "collapsed": false
   },
   "id": "f5ca6879c3872454"
  },
  {
   "cell_type": "markdown",
   "source": [
    "## 1. Prepare the Environment\n",
    "### 1.1. Set up the notebook\n",
    "The cut direction, pivot coordinate, and number of added layers define the terrace defect, shown in the image below.\n",
    "\n",
    "<img src=\"https://github.com/Exabyte-io/documentation/raw/88451ce38b0f57f804dcb5010a1a95bb9b9e50bc/images/notebooks/terrace_settings.webp\" alt=\"Terrace parameters visualized\" width=\"400\"/>"
   ],
   "metadata": {
    "collapsed": false
   },
   "id": "ff0f33c4e6ac1303"
  },
  {
   "metadata": {},
   "cell_type": "code",
   "source": [
    "# Material selection\n",
    "MATERIAL_INDEX = 0  # Which material to use from input list\n",
    "\n",
    "# Terrace parameters\n",
    "CUT_DIRECTION = [1, 0, 0]  # Normal vector describing a plane that cuts the terrace from added layers (Miller indices)\n",
    "PIVOT_COORDINATE = [0.5, 0.5, 0.5]  # Point the cutting plane passes through, in crystal coordinates\n",
    "NUMBER_OF_ADDED_LAYERS = 1  # Height of terrace in atomic layers\n",
    "USE_CARTESIAN_COORDINATES = False  # Use cartesian instead of crystal coordinates\n",
    "ROTATE_TO_MATCH_PBC = True  # Rotate to match periodic boundary conditions\n",
    "\n",
    "# Slab parameters for creating a new slab if provided material is not a slab\n",
    "DEFAULT_SLAB_PARAMETERS = {\n",
    "    \"miller_indices\": (0, 0, 1),\n",
    "    \"thickness\": 6,\n",
    "    \"vacuum\": 10.0,\n",
    "    \"USE_ORTHOGONAL_C\": True,\n",
    "    \"xy_supercell_matrix\": [[5, 0], [0, 5]]\n",
    "}\n",
    "\n",
    "# Visualization parameters\n",
    "SHOW_INTERMEDIATE_STEPS = True\n",
    "CELL_REPETITIONS_FOR_VISUALIZATION = [3, 3, 1]  # Structure repeat in view"
   ],
   "id": "581cb3ccf2a95f8a",
   "outputs": [],
   "execution_count": null
  },
  {
   "cell_type": "markdown",
   "source": [
    "### 1.2. Install packages\n",
    "The step executes only in Pyodide environment. For other environments, the packages should be installed via `pip install`."
   ],
   "metadata": {
    "collapsed": false
   },
   "id": "ac4ec25db74d75f4"
  },
  {
   "cell_type": "code",
   "source": [
    "import sys\n",
    "\n",
    "if sys.platform == \"emscripten\":\n",
    "    import micropip\n",
    "\n",
    "    await micropip.install(\"mat3ra-api-examples\", deps=False)\n",
    "    await micropip.install('mat3ra-utils')\n",
    "    from mat3ra.utils.jupyterlite.packages import install_packages\n",
    "\n",
    "    await install_packages(\"\")"
   ],
   "metadata": {
    "collapsed": false
   },
   "id": "38574beae9a769cd",
   "outputs": [],
   "execution_count": null
  },
  {
   "cell_type": "markdown",
   "source": [
    "### 1.3. Load input material"
   ],
   "metadata": {
    "collapsed": false
   },
   "id": "c0eab57550f40708"
  },
  {
   "metadata": {},
   "cell_type": "code",
   "source": [
    "from utils.jupyterlite import get_materials\n",
    "\n",
    "materials = get_materials(globals())\n",
    "material = materials[MATERIAL_INDEX]"
   ],
   "id": "2eed23af0ec63634",
   "outputs": [],
   "execution_count": null
  },
  {
   "metadata": {},
   "cell_type": "markdown",
   "source": "### 1.4. Create a slab if the input material is not a slab",
   "id": "2c0d3e29ca42f099"
  },
  {
   "metadata": {},
   "cell_type": "code",
   "source": [
    "from mat3ra.made.tools.build.slab.helpers import create_slab_if_not, SlabConfiguration\n",
    "\n",
    "default_slab_config = SlabConfiguration.from_parameters(\n",
    "    material_or_dict=material,\n",
    "    miller_indices=DEFAULT_SLAB_PARAMETERS[\"miller_indices\"],\n",
    "    number_of_layers=DEFAULT_SLAB_PARAMETERS[\"thickness\"],\n",
    "    vacuum=DEFAULT_SLAB_PARAMETERS[\"vacuum\"],\n",
    ")\n",
    "\n",
    "slab = create_slab_if_not(material, default_slab_config)"
   ],
   "id": "92ad17e2b0032fda",
   "outputs": [],
   "execution_count": null
  },
  {
   "cell_type": "markdown",
   "source": [
    "### 1.5. Visualize slab"
   ],
   "metadata": {
    "collapsed": false
   },
   "id": "916c8b16e01f86ff"
  },
  {
   "cell_type": "code",
   "source": [
    "from utils.visualize import visualize_materials\n",
    "\n",
    "if SHOW_INTERMEDIATE_STEPS:\n",
    "    print(\"Initial slab structure:\")\n",
    "    visualize_materials(slab, repetitions=CELL_REPETITIONS_FOR_VISUALIZATION)\n",
    "    visualize_materials(slab, repetitions=CELL_REPETITIONS_FOR_VISUALIZATION, rotation=\"-90x\")"
   ],
   "metadata": {
    "collapsed": false
   },
   "id": "16bb968a93de4b9",
   "outputs": [],
   "execution_count": null
  },
  {
   "cell_type": "markdown",
   "source": [
    "## 2. Create target material\n",
    "### 2.1. Set up terrace configuration and builder\n"
   ],
   "metadata": {
    "collapsed": false
   },
   "id": "9edaa3afb28ee0ad"
  },
  {
   "cell_type": "code",
   "source": [
    "from mat3ra.made.tools.build.defect.terrace.helpers import create_terrace\n",
    "\n",
    "terrace_slab = create_terrace(\n",
    "    slab=slab,\n",
    "    cut_direction=CUT_DIRECTION,\n",
    "    pivot_coordinate=PIVOT_COORDINATE,\n",
    "    number_of_added_layers=NUMBER_OF_ADDED_LAYERS,\n",
    "    use_cartesian_coordinates=USE_CARTESIAN_COORDINATES,\n",
    "    rotate_to_match_pbc=ROTATE_TO_MATCH_PBC\n",
    ")\n"
   ],
   "metadata": {
    "collapsed": false
   },
   "id": "c318fd03c7e667df",
   "outputs": [],
   "execution_count": null
  },
  {
   "metadata": {},
   "cell_type": "markdown",
   "source": "## 2.2. Print the parameters of the created terrace defect",
   "id": "8547862478ab0c7f"
  },
  {
   "cell_type": "code",
   "source": [
    "\n",
    "print(\"\\nTerrace defect created with:\")\n",
    "print(f\"Cut direction: {CUT_DIRECTION}\")\n",
    "print(f\"Pivot point: {PIVOT_COORDINATE}\")\n",
    "print(f\"Added layers: {NUMBER_OF_ADDED_LAYERS}\")\n",
    "print(f\"Number of atoms: {len(terrace_slab.basis.elements.ids)}\")"
   ],
   "metadata": {
    "collapsed": false
   },
   "id": "256bc04ff0aa1810",
   "outputs": [],
   "execution_count": null
  },
  {
   "cell_type": "markdown",
   "source": [
    "## 3. Visualize the result"
   ],
   "metadata": {
    "collapsed": false
   },
   "id": "9bee7a912a90e33c"
  },
  {
   "cell_type": "code",
   "source": [
    "print(\"Final structure with terrace:\")\n",
    "visualize_materials(terrace_slab, repetitions=CELL_REPETITIONS_FOR_VISUALIZATION)\n",
    "visualize_materials(terrace_slab, repetitions=CELL_REPETITIONS_FOR_VISUALIZATION, rotation=\"-90x\")"
   ],
   "metadata": {
    "collapsed": false
   },
   "id": "4ffdd8589b02de16",
   "outputs": [],
   "execution_count": null
  },
  {
   "cell_type": "markdown",
   "source": [
    "## 4. Pass data to the outside runtime\n"
   ],
   "metadata": {
    "collapsed": false
   },
   "id": "d65865cbab99478"
  },
  {
   "metadata": {},
   "cell_type": "code",
   "source": [
    "from utils.jupyterlite import set_materials\n",
    "\n",
    "set_materials(terrace_slab)"
   ],
   "id": "a57ecc6fe9c89ceb",
   "outputs": [],
   "execution_count": null
  }
 ],
 "metadata": {
  "kernelspec": {
   "display_name": "Python 3",
   "language": "python",
   "name": "python3"
  },
  "language_info": {
   "codemirror_mode": {
    "name": "ipython",
    "version": 2
   },
   "file_extension": ".py",
   "mimetype": "text/x-python",
   "name": "python",
   "nbconvert_exporter": "python",
   "pygments_lexer": "ipython2",
   "version": "2.7.6"
  }
 },
 "nbformat": 4,
 "nbformat_minor": 5
}
