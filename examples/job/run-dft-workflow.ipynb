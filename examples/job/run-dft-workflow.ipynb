{
 "cells": [
  {
   "cell_type": "markdown",
   "metadata": {},
   "source": [
    "# Overview\n",
    "\n",
    "This example demonstrates how to create and run DFT jobs."
   ]
  },
  {
   "cell_type": "markdown",
   "metadata": {},
   "source": [
    "1. Import required packages. Adjust [settings](../settings.ipynb) as necessary."
   ]
  },
  {
   "cell_type": "code",
   "execution_count": null,
   "metadata": {},
   "outputs": [],
   "source": [
    "import nbimporter\n",
    "from tabulate import tabulate\n",
    "nbimporter.options['only_defs'] = False\n",
    "\n",
    "from settings import *\n",
    "from endpoints.jobs import JobEndpoints\n",
    "from endpoints.utils import flatten_material\n",
    "from endpoints.materials import MaterialEndpoints\n",
    "from endpoints.raw_properties import RawPropertiesEndpoints"
   ]
  },
  {
   "cell_type": "markdown",
   "metadata": {},
   "source": [
    "2. Set Parameters\n",
    "\n",
    "    - **MATERIALS_PROJECT_API_KEY**: Your materials project API key.\n",
    "    \n",
    "    - **MATERIALS_PROJECT_IDS**: A list of material IDs you would like to import.\n",
    "    \n",
    "    - **TAGS**: A list of tags you want to assign to imported materials."
   ]
  },
  {
   "cell_type": "code",
   "execution_count": null,
   "metadata": {},
   "outputs": [],
   "source": [
    "MATERIALS_PROJECT_API_KEY = \"NAZfue7aCq\"\n",
    "MATERIALS_PROJECT_IDS = [\"mp-978534\", \"mp-1096549\"]\n",
    "TAGS = [\"phase-ii\", \"difficulty-1\"]\n",
    "\n",
    "PPN = \"1\"\n",
    "QUEUE = \"D\"\n",
    "NODES = \"1\"\n",
    "TIME_LIMIT = \"01:00:00\"\n",
    "CLUSTER = \"master-vagrant-cluster-001.exabyte.io\"\n",
    "\n",
    "OWNER_ID = \"\"\n",
    "JOB_PREFIX = \"\"\n",
    "PROJECT_ID = \"\"\n",
    "WORKFLOW_ID = \"\"\n",
    "JOBS_SET_NAME = \"set\"\n",
    "MATERIALS_SET_NAME = \"set\""
   ]
  },
  {
   "cell_type": "markdown",
   "metadata": {},
   "source": [
    "3. Initialize job, material and raw property endpoints."
   ]
  },
  {
   "cell_type": "code",
   "execution_count": null,
   "metadata": {},
   "outputs": [],
   "source": [
    "job_endpoints = JobEndpoints(HOST, PORT, ACCOUNT_ID, AUTH_TOKEN, VERSION, SECURE)\n",
    "material_endpoints = MaterialEndpoints(HOST, PORT, ACCOUNT_ID, AUTH_TOKEN, VERSION, SECURE)\n",
    "raw_property_endpoints = RawPropertiesEndpoints(HOST, PORT, ACCOUNT_ID, AUTH_TOKEN, VERSION, SECURE)"
   ]
  },
  {
   "cell_type": "markdown",
   "metadata": {},
   "source": [
    "4. Import material from materials project and add the above tags."
   ]
  },
  {
   "cell_type": "code",
   "execution_count": null,
   "metadata": {},
   "outputs": [],
   "source": [
    "materials = material_endpoints.import_from_materialsproject(MATERIALS_PROJECT_API_KEY, MATERIALS_PROJECT_IDS, OWNER_ID, TAGS)"
   ]
  },
  {
   "cell_type": "markdown",
   "metadata": {},
   "source": [
    "5. Create materials set and move the materials into the new set."
   ]
  },
  {
   "cell_type": "code",
   "execution_count": null,
   "metadata": {},
   "outputs": [],
   "source": [
    "materials_set = material_endpoints.create_set({\"name\": MATERIALS_SET_NAME, \"owner\": {\"_id\": OWNER_ID}})\n",
    "[material_endpoints.move_to_set(m[\"_id\"], \"\", materials_set[\"_id\"]) for m in materials]"
   ]
  },
  {
   "cell_type": "markdown",
   "metadata": {},
   "source": [
    "6. Create jobs for the materials above."
   ]
  },
  {
   "cell_type": "code",
   "execution_count": null,
   "metadata": {},
   "outputs": [],
   "source": [
    "compute = job_endpoints.get_compute(CLUSTER, PPN, NODES, QUEUE, TIME_LIMIT)\n",
    "jobs = job_endpoints.create_by_ids(materials, WORKFLOW_ID, PROJECT_ID, OWNER_ID, JOB_PREFIX, compute)"
   ]
  },
  {
   "cell_type": "markdown",
   "metadata": {},
   "source": [
    "7. Create jobs set and move the jobs into it."
   ]
  },
  {
   "cell_type": "code",
   "execution_count": null,
   "metadata": {},
   "outputs": [],
   "source": [
    "jobs_set = job_endpoints.create_set({\"name\": JOBS_SET_NAMEt, \"projectId\": PROJECT_ID, \"owner\": {\"_id\": OWNER_ID}})\n",
    "[job_endpoints.move_to_set(j[\"_id\"], \"\", jobs_set[\"_id\"]) for j in jobs]"
   ]
  },
  {
   "cell_type": "markdown",
   "metadata": {},
   "source": [
    "8. Submit the jobs to the cluster."
   ]
  },
  {
   "cell_type": "code",
   "execution_count": null,
   "metadata": {},
   "outputs": [],
   "source": [
    "[job_endpoints.submit(id) for id in [j[\"_id\"] for j in jobs]]"
   ]
  },
  {
   "cell_type": "markdown",
   "metadata": {},
   "source": [
    "9. Wait for jobs to finish."
   ]
  },
  {
   "cell_type": "code",
   "execution_count": null,
   "metadata": {},
   "outputs": [],
   "source": [
    "wait_for_jobs_to_finish(job_endpoints, jobs)"
   ]
  },
  {
   "cell_type": "markdown",
   "metadata": {},
   "source": [
    "10. Iterate over jobs and extract final structure, pressure, and band gaps."
   ]
  },
  {
   "cell_type": "code",
   "execution_count": null,
   "metadata": {},
   "outputs": [],
   "source": [
    "rows = []\n",
    "for job in jobs:"
   ]
  },
  {
   "cell_type": "markdown",
   "metadata": {},
   "source": [
    "11. Get inital structure."
   ]
  },
  {
   "cell_type": "code",
   "execution_count": null,
   "metadata": {},
   "outputs": [],
   "source": [
    "    initial_structure = material_endpoints.get(job[\"_material\"][\"_id\"])"
   ]
  },
  {
   "cell_type": "markdown",
   "metadata": {},
   "source": [
    "12. Extract final structure."
   ]
  },
  {
   "cell_type": "code",
   "execution_count": null,
   "metadata": {},
   "outputs": [],
   "source": [
    "    unit_flowchart_id = job[\"workflow\"][\"subworkflows\"][0][\"units\"][0][\"flowchartId\"]\n",
    "    final_structure = raw_property_endpoints.get_property(job[\"_id\"], unit_flowchart_id, \"final_structure\")[\"data\"]"
   ]
  },
  {
   "cell_type": "markdown",
   "metadata": {},
   "source": [
    "13. Extract pressure."
   ]
  },
  {
   "cell_type": "code",
   "execution_count": null,
   "metadata": {},
   "outputs": [],
   "source": [
    "    unit_flowchart_id = job[\"workflow\"][\"subworkflows\"][0][\"units\"][0][\"flowchartId\"]\n",
    "    pressure = raw_property_endpoints.get_property(job[\"_id\"], unit_flowchart_id, \"pressure\")[\"data\"][\"value\"]"
   ]
  },
  {
   "cell_type": "markdown",
   "metadata": {},
   "source": [
    "14. Extract band gaps."
   ]
  },
  {
   "cell_type": "code",
   "execution_count": null,
   "metadata": {},
   "outputs": [],
   "source": [
    "    unit_flowchart_id = job[\"workflow\"][\"subworkflows\"][1][\"units\"][1][\"flowchartId\"]\n",
    "    band_gap_direct = raw_property_endpoints.get_direct_band_gap(job[\"_id\"], unit_flowchart_id)\n",
    "    band_gap_indirect = raw_property_endpoints.get_indirect_band_gap(job[\"_id\"], unit_flowchart_id)"
   ]
  },
  {
   "cell_type": "markdown",
   "metadata": {},
   "source": [
    "15. Flatten the data append it to the rows list."
   ]
  },
  {
   "cell_type": "code",
   "execution_count": null,
   "metadata": {},
   "outputs": [],
   "source": [
    "    data = flatten_material(initial_structure)\n",
    "    data.extend(flatten_material(final_structure))\n",
    "    data.extend([pressure, band_gap_direct, band_gap_indirect])\n",
    "    rows.append(data)"
   ]
  },
  {
   "cell_type": "markdown",
   "metadata": {},
   "source": [
    "16. Print the results."
   ]
  },
  {
   "cell_type": "code",
   "execution_count": null,
   "metadata": {},
   "outputs": [],
   "source": [
    "keys = [\"ID\", \"NAME\", \"TAGS\", \"N-SITES\", \"LAT-A\", \"LAT-B\", \"LAT-C\", \"LAT-ALPHA\", \"LAT-BETA\", \"LAT-GAMMA\"]\n",
    "headers = [\"-\".join((\"INI\", key)) for key in keys]\n",
    "headers.extend([\"-\".join((\"FIN\", key)) for key in keys])\n",
    "headers.extend([\"PRESSURE\", \"DIRECT-GAP\", \"INDIRECT-GAP\"])\n",
    "print tabulate(rows, headers, tablefmt='grid', stralign='center')"
   ]
  }
 ],
 "metadata": {
  "kernelspec": {
   "display_name": "Python 2",
   "language": "python",
   "name": "python2"
  },
  "language_info": {
   "codemirror_mode": {
    "name": "ipython",
    "version": 2
   },
   "file_extension": ".py",
   "mimetype": "text/x-python",
   "name": "python",
   "nbconvert_exporter": "python",
   "pygments_lexer": "ipython2",
   "version": "2.7.10"
  }
 },
 "nbformat": 4,
 "nbformat_minor": 2
}
