{
 "cells": [
  {
   "cell_type": "markdown",
   "id": "hawaiian-myanmar",
   "metadata": {},
   "source": [
    "# De Novo Generation of Bitter Molecules\n",
    "\n",
    "In this webinar, we train a [Hidden Markov Model](https://en.wikipedia.org/wiki/Hidden_Markov_model) on a large corpus of SMILES strings, and use it to generate new SMILES strings. Finally, taking things one step further, we combine our newly-trained generative model with the bitterness classifier trained in the previous webinar. The end result of this generate->filter approach is a pipeline that generates new possibly-bitter molecules."
   ]
  },
  {
   "cell_type": "code",
   "execution_count": 1,
   "id": "major-yesterday",
   "metadata": {},
   "outputs": [
    {
     "name": "stdout",
     "output_type": "stream",
     "text": [
      "Requirement already satisfied: optuna in /Users/mat3ra/PycharmProjects/exabyte-api-examples-3/.env/lib/python3.9/site-packages (2.8.0)\n",
      "Requirement already satisfied: rdkit_pypi in /Users/mat3ra/PycharmProjects/exabyte-api-examples-3/.env/lib/python3.9/site-packages (2021.3.2.3)\n",
      "Requirement already satisfied: deepchem in /Users/mat3ra/PycharmProjects/exabyte-api-examples-3/.env/lib/python3.9/site-packages (2.5.0)\n",
      "Requirement already satisfied: transformers in /Users/mat3ra/PycharmProjects/exabyte-api-examples-3/.env/lib/python3.9/site-packages (4.6.1)\n",
      "Requirement already satisfied: matplotlib in /Users/mat3ra/PycharmProjects/exabyte-api-examples-3/.env/lib/python3.9/site-packages (3.4.2)\n",
      "Requirement already satisfied: tqdm in /Users/mat3ra/PycharmProjects/exabyte-api-examples-3/.env/lib/python3.9/site-packages (4.61.0)\n",
      "Requirement already satisfied: hmmlearn in /Users/mat3ra/PycharmProjects/exabyte-api-examples-3/.env/lib/python3.9/site-packages (0.2.5)\n",
      "Requirement already satisfied: xgboost in /Users/mat3ra/PycharmProjects/exabyte-api-examples-3/.env/lib/python3.9/site-packages (1.4.2)\n",
      "Requirement already satisfied: packaging>=20.0 in /Users/mat3ra/PycharmProjects/exabyte-api-examples-3/.env/lib/python3.9/site-packages (from optuna) (20.9)\n",
      "Requirement already satisfied: cmaes>=0.8.2 in /Users/mat3ra/PycharmProjects/exabyte-api-examples-3/.env/lib/python3.9/site-packages (from optuna) (0.8.2)\n",
      "Requirement already satisfied: scipy!=1.4.0 in /Users/mat3ra/PycharmProjects/exabyte-api-examples-3/.env/lib/python3.9/site-packages (from optuna) (1.6.3)\n",
      "Requirement already satisfied: colorlog in /Users/mat3ra/PycharmProjects/exabyte-api-examples-3/.env/lib/python3.9/site-packages (from optuna) (5.0.1)\n",
      "Requirement already satisfied: numpy in /Users/mat3ra/PycharmProjects/exabyte-api-examples-3/.env/lib/python3.9/site-packages (from optuna) (1.19.5)\n",
      "Requirement already satisfied: sqlalchemy>=1.1.0 in /Users/mat3ra/PycharmProjects/exabyte-api-examples-3/.env/lib/python3.9/site-packages (from optuna) (1.4.18)\n",
      "Requirement already satisfied: alembic in /Users/mat3ra/PycharmProjects/exabyte-api-examples-3/.env/lib/python3.9/site-packages (from optuna) (1.6.5)\n",
      "Requirement already satisfied: cliff in /Users/mat3ra/PycharmProjects/exabyte-api-examples-3/.env/lib/python3.9/site-packages (from optuna) (3.8.0)\n",
      "Requirement already satisfied: pyparsing>=2.0.2 in /Users/mat3ra/PycharmProjects/exabyte-api-examples-3/.env/lib/python3.9/site-packages (from packaging>=20.0->optuna) (2.4.7)\n",
      "Requirement already satisfied: greenlet!=0.4.17 in /Users/mat3ra/PycharmProjects/exabyte-api-examples-3/.env/lib/python3.9/site-packages (from sqlalchemy>=1.1.0->optuna) (1.1.0)\n",
      "Requirement already satisfied: pandas in /Users/mat3ra/PycharmProjects/exabyte-api-examples-3/.env/lib/python3.9/site-packages (from deepchem) (1.2.4)\n",
      "Requirement already satisfied: scikit-learn in /Users/mat3ra/PycharmProjects/exabyte-api-examples-3/.env/lib/python3.9/site-packages (from deepchem) (0.24.2)\n",
      "Requirement already satisfied: joblib in /Users/mat3ra/PycharmProjects/exabyte-api-examples-3/.env/lib/python3.9/site-packages (from deepchem) (1.0.1)\n",
      "Requirement already satisfied: regex!=2019.12.17 in /Users/mat3ra/PycharmProjects/exabyte-api-examples-3/.env/lib/python3.9/site-packages (from transformers) (2021.4.4)\n",
      "Requirement already satisfied: filelock in /Users/mat3ra/PycharmProjects/exabyte-api-examples-3/.env/lib/python3.9/site-packages (from transformers) (3.0.12)\n",
      "Requirement already satisfied: tokenizers<0.11,>=0.10.1 in /Users/mat3ra/PycharmProjects/exabyte-api-examples-3/.env/lib/python3.9/site-packages (from transformers) (0.10.3)\n",
      "Requirement already satisfied: huggingface-hub==0.0.8 in /Users/mat3ra/PycharmProjects/exabyte-api-examples-3/.env/lib/python3.9/site-packages (from transformers) (0.0.8)\n",
      "Requirement already satisfied: sacremoses in /Users/mat3ra/PycharmProjects/exabyte-api-examples-3/.env/lib/python3.9/site-packages (from transformers) (0.0.45)\n",
      "Requirement already satisfied: requests in /Users/mat3ra/PycharmProjects/exabyte-api-examples-3/.env/lib/python3.9/site-packages (from transformers) (2.25.1)\n",
      "Requirement already satisfied: cycler>=0.10 in /Users/mat3ra/PycharmProjects/exabyte-api-examples-3/.env/lib/python3.9/site-packages (from matplotlib) (0.10.0)\n",
      "Requirement already satisfied: kiwisolver>=1.0.1 in /Users/mat3ra/PycharmProjects/exabyte-api-examples-3/.env/lib/python3.9/site-packages (from matplotlib) (1.3.1)\n",
      "Requirement already satisfied: pillow>=6.2.0 in /Users/mat3ra/PycharmProjects/exabyte-api-examples-3/.env/lib/python3.9/site-packages (from matplotlib) (8.2.0)\n",
      "Requirement already satisfied: python-dateutil>=2.7 in /Users/mat3ra/PycharmProjects/exabyte-api-examples-3/.env/lib/python3.9/site-packages (from matplotlib) (2.8.1)\n",
      "Requirement already satisfied: six in /Users/mat3ra/PycharmProjects/exabyte-api-examples-3/.env/lib/python3.9/site-packages (from cycler>=0.10->matplotlib) (1.15.0)\n",
      "Requirement already satisfied: threadpoolctl>=2.0.0 in /Users/mat3ra/PycharmProjects/exabyte-api-examples-3/.env/lib/python3.9/site-packages (from scikit-learn->deepchem) (2.1.0)\n",
      "Requirement already satisfied: Mako in /Users/mat3ra/PycharmProjects/exabyte-api-examples-3/.env/lib/python3.9/site-packages (from alembic->optuna) (1.1.4)\n",
      "Requirement already satisfied: python-editor>=0.3 in /Users/mat3ra/PycharmProjects/exabyte-api-examples-3/.env/lib/python3.9/site-packages (from alembic->optuna) (1.0.4)\n",
      "Requirement already satisfied: cmd2>=1.0.0 in /Users/mat3ra/PycharmProjects/exabyte-api-examples-3/.env/lib/python3.9/site-packages (from cliff->optuna) (2.0.1)\n",
      "Requirement already satisfied: PrettyTable>=0.7.2 in /Users/mat3ra/PycharmProjects/exabyte-api-examples-3/.env/lib/python3.9/site-packages (from cliff->optuna) (2.1.0)\n",
      "Requirement already satisfied: stevedore>=2.0.1 in /Users/mat3ra/PycharmProjects/exabyte-api-examples-3/.env/lib/python3.9/site-packages (from cliff->optuna) (3.3.0)\n",
      "Requirement already satisfied: pbr!=2.1.0,>=2.0.0 in /Users/mat3ra/PycharmProjects/exabyte-api-examples-3/.env/lib/python3.9/site-packages (from cliff->optuna) (5.6.0)\n",
      "Requirement already satisfied: PyYAML>=3.12 in /Users/mat3ra/PycharmProjects/exabyte-api-examples-3/.env/lib/python3.9/site-packages (from cliff->optuna) (5.4.1)\n",
      "Requirement already satisfied: attrs>=16.3.0 in /Users/mat3ra/PycharmProjects/exabyte-api-examples-3/.env/lib/python3.9/site-packages (from cmd2>=1.0.0->cliff->optuna) (21.2.0)\n",
      "Requirement already satisfied: colorama>=0.3.7 in /Users/mat3ra/PycharmProjects/exabyte-api-examples-3/.env/lib/python3.9/site-packages (from cmd2>=1.0.0->cliff->optuna) (0.4.4)\n",
      "Requirement already satisfied: wcwidth>=0.1.7 in /Users/mat3ra/PycharmProjects/exabyte-api-examples-3/.env/lib/python3.9/site-packages (from cmd2>=1.0.0->cliff->optuna) (0.2.5)\n",
      "Requirement already satisfied: pyperclip>=1.6 in /Users/mat3ra/PycharmProjects/exabyte-api-examples-3/.env/lib/python3.9/site-packages (from cmd2>=1.0.0->cliff->optuna) (1.8.2)\n",
      "Requirement already satisfied: MarkupSafe>=0.9.2 in /Users/mat3ra/PycharmProjects/exabyte-api-examples-3/.env/lib/python3.9/site-packages (from Mako->alembic->optuna) (2.0.1)\n",
      "Requirement already satisfied: pytz>=2017.3 in /Users/mat3ra/PycharmProjects/exabyte-api-examples-3/.env/lib/python3.9/site-packages (from pandas->deepchem) (2021.1)\n",
      "Requirement already satisfied: urllib3<1.27,>=1.21.1 in /Users/mat3ra/PycharmProjects/exabyte-api-examples-3/.env/lib/python3.9/site-packages (from requests->transformers) (1.26.5)\n",
      "Requirement already satisfied: certifi>=2017.4.17 in /Users/mat3ra/PycharmProjects/exabyte-api-examples-3/.env/lib/python3.9/site-packages (from requests->transformers) (2021.5.30)\n",
      "Requirement already satisfied: chardet<5,>=3.0.2 in /Users/mat3ra/PycharmProjects/exabyte-api-examples-3/.env/lib/python3.9/site-packages (from requests->transformers) (4.0.0)\n",
      "Requirement already satisfied: idna<3,>=2.5 in /Users/mat3ra/PycharmProjects/exabyte-api-examples-3/.env/lib/python3.9/site-packages (from requests->transformers) (2.10)\n",
      "Requirement already satisfied: click in /Users/mat3ra/PycharmProjects/exabyte-api-examples-3/.env/lib/python3.9/site-packages (from sacremoses->transformers) (8.0.1)\n"
     ]
    }
   ],
   "source": [
    "!pip install optuna rdkit_pypi deepchem transformers matplotlib tqdm hmmlearn xgboost"
   ]
  },
  {
   "cell_type": "code",
   "execution_count": 3,
   "id": "departmental-province",
   "metadata": {},
   "outputs": [],
   "source": [
    "import os\n",
    "from typing import List\n",
    "import random\n",
    "import urllib\n",
    "import numpy as np\n",
    "import pandas as pd\n",
    "import matplotlib.pyplot as plt\n",
    "import tqdm\n",
    "import rdkit.Chem.Descriptors\n",
    "from hmmlearn.hmm import MultinomialHMM\n",
    "import xgboost\n",
    "\n",
    "import rdkit\n",
    "rdkit.RDLogger.DisableLog('rdApp.*')\n",
    "from rdkit.Chem.Draw import IPythonConsole\n",
    "from rdkit.Chem.Draw.MolDrawing import MolDrawing\n",
    "from rdkit.Chem import Lipinski, Descriptors\n",
    "import functools"
   ]
  },
  {
   "cell_type": "markdown",
   "id": "stylish-accident",
   "metadata": {},
   "source": [
    "# Read in our corpus of SMILES strings\n",
    "\n",
    "We have acquired a large datase of SMILES strings from the following repository: https://github.com/GLambard/Molecules_Dataset_Collection\n",
    "\n",
    "We'll git clone, iterate over each file, and read in all of the SMILES strings we can find. In addition, for the purposes of keeping things simple in the webinar, we'll remove SMILES strings containing a colon (used for denoting the conjugated pi-bonds present in aromatic systems). This makes the problem a bit easier for our model to learn."
   ]
  },
  {
   "cell_type": "code",
   "execution_count": 3,
   "id": "surrounded-citizen",
   "metadata": {},
   "outputs": [
    {
     "name": "stdout",
     "output_type": "stream",
     "text": [
      "Cloning into '../assets/Molecules_Dataset_Collection'...\n",
      "remote: Enumerating objects: 63, done.\u001b[K\n",
      "remote: Total 63 (delta 0), reused 0 (delta 0), pack-reused 63\u001b[K\n",
      "Receiving objects: 100% (63/63), 62.08 MiB | 6.80 MiB/s, done.\n",
      "Resolving deltas: 100% (18/18), done.\n"
     ]
    }
   ],
   "source": [
    "!git clone https://github.com/Exabyte-io/Molecules_Dataset_Collection.git ../assets/Molecules_Dataset_Collection"
   ]
  },
  {
   "cell_type": "code",
   "execution_count": 4,
   "id": "challenging-captain",
   "metadata": {},
   "outputs": [
    {
     "name": "stdout",
     "output_type": "stream",
     "text": [
      "total of 10610 smiles\n",
      "Sample smiles:\n",
      "[Ag+].[C-]#N.[C-]#N.[K+]\n",
      "C[N+]1(C)COC(=S)S[Fe-4]123(SC(=S)OC[N+]2(C)C)SC(=S)OC[N+]3(C)C\n",
      "COC12C(COC(N)=O)C3=C(C(=O)C(C)=C(N4CCN(C)CC4)C3=O)N1CC1NC12\n",
      "CC1=C(C)C(=O)C(CCCCC#CCCCC#CCO)=C(C)C1=O\n",
      "CC(Cl)C(Cl)Cl\n",
      "C=CCNC(=O)C=CC(=O)O\n",
      "CCCCCCCCCCCC[N+](C)(C)C.[Br-]\n",
      "N#C[N-]C#N.[Na+]\n",
      "CC(C)CC(C#N)C(=O)O\n",
      "CCCCOC1NC(=O)NC(=O)C1(F)C(=O)OCC\n",
      "Cl.NCCO/C=C/[C@H](N)C(=O)O\n",
      "O=C(O)C1CC(C(=O)O)SS1\n"
     ]
    }
   ],
   "source": [
    "dataset_path = '../assets/Molecules_Dataset_Collection/latest'\n",
    "files = [i for i in os.listdir(dataset_path) if i.endswith('csv')]\n",
    "\n",
    "all_smiles = set()\n",
    "\n",
    "for file in files:\n",
    "    df = pd.read_csv(os.path.join(dataset_path,file))\n",
    "    all_smiles.update(df.smiles.dropna())\n",
    "    \n",
    "all_smiles = set(smile for smile in all_smiles if ':' not in smile)\n",
    "print(f\"total of {len(all_smiles)} smiles\")\n",
    "print(\"Sample smiles:\")\n",
    "for count,smile in enumerate(all_smiles):\n",
    "    print(smile)\n",
    "    if count > 10:\n",
    "        break"
   ]
  },
  {
   "cell_type": "markdown",
   "id": "hired-current",
   "metadata": {},
   "source": [
    "# Import the SMILES Tokenizer from DeepChem\n",
    "\n",
    "Next, we'll take advantage of the work of DeepChem, an open-source machine learning library focused on science. One of the tools that DeepChem provides is a SMILES tokenizer. This is used to convert a SMILES string into a list of individual pieces, or \"tokens.\" For example, a single carbon atom may be a token, an opening parenthesis may be a token, etc. This is slightly different than simply separating by character, as tokens are allowed to contain multiple characters (e.g. \\[Na+\\] may be a token)."
   ]
  },
  {
   "cell_type": "code",
   "execution_count": 5,
   "id": "hybrid-franklin",
   "metadata": {},
   "outputs": [],
   "source": [
    "# Need to patch deepchem first per https://github.com/deepchem/deepchem/issues/2519\n",
    "import re, importlib\n",
    "deepchem_root_path=importlib.util.find_spec('deepchem').origin\n",
    "smiles_tokenizer_path = os.path.join(os.path.dirname(deepchem_root_path), \"feat\", \"smiles_tokenizer.py\")\n",
    "with open(smiles_tokenizer_path, \"r\") as inp:\n",
    "    file_contents = inp.read()\n",
    "with open(smiles_tokenizer_path, \"w\") as outp:\n",
    "    for line in file_contents.split(\"\\n\"):\n",
    "        outp.write(re.sub(\"max_len(\\s|$)\", \"model_max_length\", line) + \"\\n\")\n",
    "    \n",
    "from deepchem.feat.smiles_tokenizer import SmilesTokenizer"
   ]
  },
  {
   "cell_type": "markdown",
   "id": "electoral-vampire",
   "metadata": {},
   "source": [
    "# Tokenize the Strings\n",
    "\n",
    "The other important feature of the SMILES tokenizer is that it can also encode our tokenized SMILES strings. After we have tokenized our strings, we need to convert the individual tokens into numbers (for example, we may replace \"C\" with a \"10\" every time we see it, a \"(\" may become a \"2\", etc) for our ML algorithm to be able to use it. This process of taking a list of tokens, and mapping the strings to integers, is called \"encoding.\""
   ]
  },
  {
   "cell_type": "code",
   "execution_count": 6,
   "id": "palestinian-spouse",
   "metadata": {},
   "outputs": [
    {
     "name": "stderr",
     "output_type": "stream",
     "text": [
      "Setting 'max_len_single_sentence' is now deprecated. This value is automatically set up.\n",
      "Setting 'max_len_sentences_pair' is now deprecated. This value is automatically set up.\n"
     ]
    }
   ],
   "source": [
    "class SmilesEncoder():\n",
    "    def __init__(self):\n",
    "        # Download Deepchem's vocabulary file if we don't already have it\n",
    "        vocab_url = \"https://raw.githubusercontent.com/deepchem/deepchem/master/deepchem/feat/tests/data/vocab.txt\"\n",
    "        self.vocab_path = \"../assets/deepchem_smiles_vocab.txt\"\n",
    "        if not os.path.exists(self.vocab_path):\n",
    "            with open(vocab_path, \"wb\") as outp:\n",
    "                download = urllib.request.urlopen(vocab_url)\n",
    "                outp.write(download.read())\n",
    "                \n",
    "                # Also, make sure colons are in our vocabulary\n",
    "                outp.write(b\"\\n:\")\n",
    "                \n",
    "        self.tokenizer = SmilesTokenizer(self.vocab_path)\n",
    "        self.inversion_dict = {value:key for key,value in self.tokenizer.vocab.items()}\n",
    "        \n",
    "        self.ignored_range = list(range(self.tokenizer.vocab['[PAD]'], self.tokenizer.vocab['[MASK]']))\n",
    "        \n",
    "    def transform(self, X:str) -> List[int]:\n",
    "        # Don't care about the start/end\n",
    "        tokenized = self.tokenizer.encode(X)\n",
    "        return tokenized\n",
    "    \n",
    "    def inverse_transform(self, X:List[int]) -> str:\n",
    "        sep = self.tokenizer.vocab['[SEP]']\n",
    "        if sep in X:\n",
    "            end_index = np.random.choice(np.where(X==sep)[0])\n",
    "            if end_index <= 1:\n",
    "                end_index = -1\n",
    "        else:\n",
    "            end_index = -1\n",
    "        result = \"\".join(self.inversion_dict[i] for i in X[1:end_index] if i not in self.ignored_range)\n",
    "        return result   \n",
    "enc = SmilesEncoder()"
   ]
  },
  {
   "cell_type": "code",
   "execution_count": 7,
   "id": "worse-chest",
   "metadata": {},
   "outputs": [],
   "source": [
    "encoded = list(map(enc.transform, all_smiles))\n",
    "np.random.shuffle(encoded)"
   ]
  },
  {
   "cell_type": "markdown",
   "id": "collective-frost",
   "metadata": {},
   "source": [
    "# Tune the Hidden Markov Model\n",
    "\n",
    "As a first-order guess, we'll check a few number of hidden states for the Hidden Markov Model (HMM). We just do a gridsearch over models with 1-4 hidden states, and record the average log likelihood of the model when trained on a random subsample of the data. We train on a random subsample instead of the full dataset here primarily as a convenience for the purposes of demonstration, because the model may take a while to train as the dataset grows larger. To help get a better idea of the error, we repeat this process of randomly subsampling, training, and assessing with log-likelihood several times."
   ]
  },
  {
   "cell_type": "code",
   "execution_count": 8,
   "id": "manual-qatar",
   "metadata": {},
   "outputs": [
    {
     "name": "stdout",
     "output_type": "stream",
     "text": [
      "1 states\n"
     ]
    },
    {
     "name": "stderr",
     "output_type": "stream",
     "text": [
      "100%|██████████| 16/16 [00:00<00:00, 20.94it/s]"
     ]
    },
    {
     "name": "stdout",
     "output_type": "stream",
     "text": [
      "2 states\n"
     ]
    },
    {
     "name": "stderr",
     "output_type": "stream",
     "text": [
      "\n",
      "100%|██████████| 16/16 [00:17<00:00,  1.09s/it]"
     ]
    },
    {
     "name": "stdout",
     "output_type": "stream",
     "text": [
      "3 states\n"
     ]
    },
    {
     "name": "stderr",
     "output_type": "stream",
     "text": [
      "\n",
      "100%|██████████| 16/16 [00:21<00:00,  1.35s/it]"
     ]
    },
    {
     "name": "stdout",
     "output_type": "stream",
     "text": [
      "4 states\n"
     ]
    },
    {
     "name": "stderr",
     "output_type": "stream",
     "text": [
      "\n",
      "100%|██████████| 16/16 [00:25<00:00,  1.61s/it]\n"
     ]
    }
   ],
   "source": [
    "# Here, we're just going to use grid search, assesing the model accuracy via random subsampling from the dataset\n",
    "\n",
    "def objective(n_states: int) -> int:\n",
    "    \"\"\"\n",
    "    Optimize the number of hidden states. Train on a random subsample from the dataset, since this is rather expensive to run.\n",
    "    \"\"\"\n",
    "    n_subsamples = 16\n",
    "    subsample_size = 128\n",
    "    \n",
    "    total = 0\n",
    "    for n in tqdm.trange(n_subsamples):\n",
    "        model = MultinomialHMM(n_states, verbose=False, n_iter=64)\n",
    "        x=np.concatenate([random.choice(encoded) for _ in range(subsample_size)]).reshape(-1,1)\n",
    "        model.fit(x)\n",
    "        total += model.score(x)\n",
    "    mean = total / n_subsamples\n",
    "    return mean\n",
    "\n",
    "vals = []\n",
    "n_max = 4\n",
    "for n in range(1,n_max+1):\n",
    "    print(f\"{n} states\", flush=True)\n",
    "    vals.append(objective(n))"
   ]
  },
  {
   "cell_type": "code",
   "execution_count": 9,
   "id": "curious-remark",
   "metadata": {},
   "outputs": [
    {
     "data": {
      "image/png": "[encoded data removed]",
      "text/plain": [
       "<Figure size 432x288 with 1 Axes>"
      ]
     },
     "metadata": {
      "needs_background": "light"
     },
     "output_type": "display_data"
    }
   ],
   "source": [
    "plt.plot(list(range(1,len(vals)+1)), vals)\n",
    "plt.xlabel(\"Number of Hidden States\")\n",
    "plt.ylabel(\"Log Loss\")\n",
    "plt.show()\n",
    "plt.close()"
   ]
  },
  {
   "cell_type": "markdown",
   "id": "aquatic-telephone",
   "metadata": {},
   "source": [
    "# Train the Hidden Markov Model\n",
    "\n",
    "Next, we'll take whichever number of hidden states made a model with the best log-likelihood. As we might expect, a more-complex HMM (more hidden states) captures the data a bit better - so we select 4 states.\n",
    "\n",
    "Next, we'll train the model on the full dataset, until the error is either below 0.01 (the default in HMMlearn), or 1024 training steps have run."
   ]
  },
  {
   "cell_type": "code",
   "execution_count": 10,
   "id": "compliant-boutique",
   "metadata": {},
   "outputs": [
    {
     "name": "stdout",
     "output_type": "stream",
     "text": [
      "Training with 4 hidden states\n"
     ]
    },
    {
     "name": "stderr",
     "output_type": "stream",
     "text": [
      "         1    -2395793.9332             +nan\n",
      "         2     -849767.0312    +1546026.9020\n",
      "         3     -849556.5577        +210.4735\n",
      "         4     -849312.5025        +244.0552\n",
      "         5     -849005.9867        +306.5158\n",
      "         6     -848600.1924        +405.7943\n",
      "         7     -848045.6057        +554.5867\n",
      "         8     -847275.4324        +770.1733\n",
      "         9     -846201.5457       +1073.8867\n",
      "        10     -844708.3594       +1493.1864\n",
      "        11     -842634.0357       +2074.3237\n",
      "        12     -839727.6054       +2906.4303\n",
      "        13     -835619.0173       +4108.5881\n",
      "        14     -829969.7729       +5649.2444\n",
      "        15     -822988.3136       +6981.4593\n",
      "        16     -815785.0989       +7203.2147\n",
      "        17     -809509.0484       +6276.0505\n",
      "        18     -804373.6156       +5135.4328\n",
      "        19     -800128.6238       +4244.9918\n",
      "        20     -796671.0279       +3457.5959\n",
      "        21     -793972.2434       +2698.7844\n",
      "        22     -791899.8029       +2072.4405\n",
      "        23     -790213.5862       +1686.2167\n",
      "        24     -788610.0367       +1603.5495\n",
      "        25     -786712.2631       +1897.7736\n",
      "        26     -784087.9163       +2624.3467\n",
      "        27     -780607.4968       +3480.4195\n",
      "        28     -777015.5369       +3591.9600\n",
      "        29     -774229.6694       +2785.8674\n",
      "        30     -772266.2464       +1963.4230\n",
      "        31     -770788.5629       +1477.6836\n",
      "        32     -769603.8933       +1184.6696\n",
      "        33     -768636.6761        +967.2172\n",
      "        34     -767850.0712        +786.6049\n",
      "        35     -767194.4524        +655.6188\n",
      "        36     -766643.5027        +550.9497\n",
      "        37     -766230.1828        +413.3199\n",
      "        38     -765913.1430        +317.0398\n",
      "        39     -765656.4507        +256.6922\n",
      "        40     -765443.4917        +212.9590\n",
      "        41     -765267.3401        +176.1516\n",
      "        42     -765120.1189        +147.2213\n",
      "        43     -764995.4155        +124.7033\n",
      "        44     -764889.2037        +106.2119\n",
      "        45     -764798.3774         +90.8263\n",
      "        46     -764719.9984         +78.3790\n",
      "        47     -764651.6940         +68.3044\n",
      "        48     -764591.6619         +60.0321\n",
      "        49     -764538.5135         +53.1484\n",
      "        50     -764491.1539         +47.3596\n",
      "        51     -764448.6985         +42.4554\n",
      "        52     -764410.4253         +38.2733\n",
      "        53     -764375.7466         +34.6787\n",
      "        54     -764344.1833         +31.5632\n",
      "        55     -764315.3389         +28.8444\n",
      "        56     -764288.8769         +26.4620\n",
      "        57     -764264.5054         +24.3715\n",
      "        58     -764241.9656         +22.5398\n",
      "        59     -764221.0221         +20.9435\n",
      "        60     -764201.4642         +19.5579\n",
      "        61     -764183.1332         +18.3310\n",
      "        62     -764165.9432         +17.1900\n",
      "        63     -764149.8256         +16.1176\n",
      "        64     -764134.6759         +15.1497\n",
      "        65     -764120.3759         +14.2999\n",
      "        66     -764106.8206         +13.5553\n",
      "        67     -764093.9161         +12.9045\n",
      "        68     -764081.5649         +12.3512\n",
      "        69     -764069.6400         +11.9250\n",
      "        70     -764057.9466         +11.6934\n",
      "        71     -764046.1992         +11.7473\n",
      "        72     -764034.0843         +12.1149\n",
      "        73     -764021.5583         +12.5260\n",
      "        74     -764009.2153         +12.3430\n",
      "        75     -763997.6493         +11.5660\n",
      "        76     -763986.8503         +10.7990\n",
      "        77     -763976.5324         +10.3179\n",
      "        78     -763966.4665         +10.0659\n",
      "        79     -763956.5501          +9.9164\n",
      "        80     -763946.7576          +9.7925\n",
      "        81     -763937.0920          +9.6656\n",
      "        82     -763927.5503          +9.5417\n",
      "        83     -763918.0850          +9.4653\n",
      "        84     -763908.6119          +9.4731\n",
      "        85     -763899.2342          +9.3777\n",
      "        86     -763890.2406          +8.9937\n",
      "        87     -763881.6886          +8.5520\n",
      "        88     -763873.5164          +8.1722\n",
      "        89     -763865.7051          +7.8113\n",
      "        90     -763858.2640          +7.4411\n",
      "        91     -763851.2052          +7.0587\n",
      "        92     -763844.5340          +6.6713\n",
      "        93     -763838.2436          +6.2903\n",
      "        94     -763832.3127          +5.9309\n",
      "        95     -763826.7008          +5.6119\n",
      "        96     -763821.3520          +5.3488\n",
      "        97     -763816.2260          +5.1260\n",
      "        98     -763811.3459          +4.8801\n",
      "        99     -763806.7594          +4.5865\n",
      "       100     -763802.4418          +4.3176\n",
      "       101     -763798.3186          +4.1232\n",
      "       102     -763794.3272          +3.9914\n",
      "       103     -763790.4270          +3.9001\n",
      "       104     -763786.5919          +3.8351\n",
      "       105     -763782.8056          +3.7863\n",
      "       106     -763779.0605          +3.7451\n",
      "       107     -763775.3561          +3.7044\n",
      "       108     -763771.6971          +3.6590\n",
      "       109     -763768.0913          +3.6058\n",
      "       110     -763764.5464          +3.5449\n",
      "       111     -763761.0686          +3.4779\n",
      "       112     -763757.6606          +3.4080\n",
      "       113     -763754.3220          +3.3386\n",
      "       114     -763751.0493          +3.2727\n",
      "       115     -763747.8371          +3.2122\n",
      "       116     -763744.6790          +3.1581\n",
      "       117     -763741.5687          +3.1103\n",
      "       118     -763738.5004          +3.0683\n",
      "       119     -763735.4689          +3.0314\n",
      "       120     -763732.4702          +2.9988\n",
      "       121     -763729.5001          +2.9701\n",
      "       122     -763726.5545          +2.9456\n",
      "       123     -763723.6286          +2.9259\n",
      "       124     -763720.7173          +2.9113\n",
      "       125     -763717.8181          +2.8992\n",
      "       126     -763714.9367          +2.8814\n",
      "       127     -763712.0909          +2.8458\n",
      "       128     -763709.3073          +2.7836\n",
      "       129     -763706.6099          +2.6973\n",
      "       130     -763704.0118          +2.5981\n",
      "       131     -763701.5147          +2.4971\n",
      "       132     -763699.1147          +2.4000\n",
      "       133     -763696.8068          +2.3079\n",
      "       134     -763694.5867          +2.2201\n",
      "       135     -763692.4510          +2.1357\n",
      "       136     -763690.3969          +2.0541\n",
      "       137     -763688.4215          +1.9754\n",
      "       138     -763686.5217          +1.8998\n",
      "       139     -763684.6941          +1.8276\n",
      "       140     -763682.9346          +1.7594\n",
      "       141     -763681.2392          +1.6955\n",
      "       142     -763679.6033          +1.6359\n",
      "       143     -763678.0224          +1.5808\n",
      "       144     -763676.4924          +1.5301\n",
      "       145     -763675.0091          +1.4833\n",
      "       146     -763673.5689          +1.4401\n",
      "       147     -763672.1690          +1.4000\n",
      "       148     -763670.8067          +1.3623\n",
      "       149     -763669.4800          +1.3267\n",
      "       150     -763668.1872          +1.2927\n",
      "       151     -763666.9272          +1.2601\n",
      "       152     -763665.6985          +1.2287\n",
      "       153     -763664.4999          +1.1986\n",
      "       154     -763663.3300          +1.1699\n",
      "       155     -763662.1870          +1.1430\n",
      "       156     -763661.0688          +1.1182\n",
      "       157     -763659.9729          +1.0959\n",
      "       158     -763658.8967          +1.0762\n",
      "       159     -763657.8371          +1.0596\n",
      "       160     -763656.7912          +1.0460\n",
      "       161     -763655.7557          +1.0354\n",
      "       162     -763654.7278          +1.0279\n",
      "       163     -763653.7047          +1.0231\n",
      "       164     -763652.6839          +1.0208\n",
      "       165     -763651.6634          +1.0205\n",
      "       166     -763650.6415          +1.0219\n",
      "       167     -763649.6172          +1.0243\n",
      "       168     -763648.5899          +1.0273\n",
      "       169     -763647.5594          +1.0305\n",
      "       170     -763646.5262          +1.0332\n",
      "       171     -763645.4911          +1.0351\n",
      "       172     -763644.4554          +1.0357\n",
      "       173     -763643.4207          +1.0347\n",
      "       174     -763642.3888          +1.0319\n",
      "       175     -763641.3619          +1.0269\n",
      "       176     -763640.3421          +1.0198\n",
      "       177     -763639.3318          +1.0103\n",
      "       178     -763638.3331          +0.9986\n",
      "       179     -763637.3484          +0.9848\n",
      "       180     -763636.3795          +0.9689\n",
      "       181     -763635.4284          +0.9511\n",
      "       182     -763634.4968          +0.9317\n",
      "       183     -763633.5860          +0.9108\n",
      "       184     -763632.6972          +0.8888\n",
      "       185     -763631.8314          +0.8658\n",
      "       186     -763630.9893          +0.8421\n",
      "       187     -763630.1714          +0.8179\n",
      "       188     -763629.3781          +0.7933\n",
      "       189     -763628.6096          +0.7684\n",
      "       190     -763627.8662          +0.7434\n",
      "       191     -763627.1479          +0.7183\n",
      "       192     -763626.4549          +0.6930\n",
      "       193     -763625.7872          +0.6677\n",
      "       194     -763625.1449          +0.6423\n",
      "       195     -763624.5280          +0.6169\n",
      "       196     -763623.9366          +0.5914\n",
      "       197     -763623.3708          +0.5659\n",
      "       198     -763622.8304          +0.5404\n",
      "       199     -763622.3154          +0.5150\n",
      "       200     -763621.8255          +0.4899\n",
      "       201     -763621.3604          +0.4651\n",
      "       202     -763620.9198          +0.4407\n",
      "       203     -763620.5030          +0.4168\n",
      "       204     -763620.1095          +0.3935\n",
      "       205     -763619.7386          +0.3709\n",
      "       206     -763619.3894          +0.3492\n",
      "       207     -763619.0611          +0.3283\n",
      "       208     -763618.7529          +0.3082\n",
      "       209     -763618.4637          +0.2891\n",
      "       210     -763618.1927          +0.2710\n",
      "       211     -763617.9389          +0.2538\n",
      "       212     -763617.7013          +0.2376\n",
      "       213     -763617.4790          +0.2223\n",
      "       214     -763617.2711          +0.2079\n",
      "       215     -763617.0767          +0.1944\n",
      "       216     -763616.8949          +0.1818\n",
      "       217     -763616.7250          +0.1699\n",
      "       218     -763616.5661          +0.1589\n",
      "       219     -763616.4176          +0.1485\n",
      "       220     -763616.2787          +0.1389\n",
      "       221     -763616.1487          +0.1299\n",
      "       222     -763616.0272          +0.1216\n",
      "       223     -763615.9134          +0.1138\n",
      "       224     -763615.8068          +0.1066\n",
      "       225     -763615.7070          +0.0998\n",
      "       226     -763615.6134          +0.0936\n",
      "       227     -763615.5256          +0.0878\n",
      "       228     -763615.4433          +0.0823\n",
      "       229     -763615.3660          +0.0773\n",
      "       230     -763615.2934          +0.0726\n",
      "       231     -763615.2251          +0.0683\n",
      "       232     -763615.1609          +0.0642\n",
      "       233     -763615.1004          +0.0605\n",
      "       234     -763615.0435          +0.0570\n",
      "       235     -763614.9898          +0.0537\n",
      "       236     -763614.9391          +0.0507\n",
      "       237     -763614.8913          +0.0478\n",
      "       238     -763614.8461          +0.0452\n",
      "       239     -763614.8034          +0.0427\n",
      "       240     -763614.7630          +0.0404\n",
      "       241     -763614.7247          +0.0383\n",
      "       242     -763614.6884          +0.0363\n",
      "       243     -763614.6540          +0.0344\n",
      "       244     -763614.6213          +0.0327\n",
      "       245     -763614.5903          +0.0310\n",
      "       246     -763614.5608          +0.0295\n",
      "       247     -763614.5328          +0.0280\n",
      "       248     -763614.5061          +0.0267\n",
      "       249     -763614.4807          +0.0254\n",
      "       250     -763614.4564          +0.0242\n",
      "       251     -763614.4333          +0.0231\n",
      "       252     -763614.4112          +0.0221\n",
      "       253     -763614.3901          +0.0211\n",
      "       254     -763614.3699          +0.0202\n",
      "       255     -763614.3506          +0.0193\n",
      "       256     -763614.3322          +0.0185\n",
      "       257     -763614.3145          +0.0177\n",
      "       258     -763614.2975          +0.0169\n",
      "       259     -763614.2813          +0.0162\n",
      "       260     -763614.2657          +0.0156\n",
      "       261     -763614.2507          +0.0150\n",
      "       262     -763614.2364          +0.0144\n",
      "       263     -763614.2225          +0.0138\n",
      "       264     -763614.2092          +0.0133\n",
      "       265     -763614.1965          +0.0128\n",
      "       266     -763614.1841          +0.0123\n",
      "       267     -763614.1723          +0.0119\n",
      "       268     -763614.1609          +0.0114\n",
      "       269     -763614.1499          +0.0110\n",
      "       270     -763614.1392          +0.0106\n",
      "       271     -763614.1290          +0.0102\n",
      "       272     -763614.1191          +0.0099\n"
     ]
    },
    {
     "data": {
      "text/plain": [
       "MultinomialHMM(n_components=4, n_iter=1024,\n",
       "               random_state=RandomState(MT19937) at 0x1134CDC40, verbose=True)"
      ]
     },
     "execution_count": 10,
     "metadata": {},
     "output_type": "execute_result"
    }
   ],
   "source": [
    "best_n, best_loss = max(enumerate(vals, 1), key=lambda i: i[0])\n",
    "print(f\"Training with {best_n} hidden states\")\n",
    "\n",
    "model = MultinomialHMM(best_n, verbose=True, n_iter=1024)\n",
    "\n",
    "# This is still a fairly expensive model to train, so we'll restrict ourselves to 10000 molecules in the dataset\n",
    "model.fit(np.concatenate(encoded).reshape(-1,1))"
   ]
  },
  {
   "cell_type": "code",
   "execution_count": 16,
   "id": "dated-treat",
   "metadata": {},
   "outputs": [],
   "source": [
    "# Now that we have the model, let's save it to disk (just in case)\n",
    "import pickle\n",
    "with open(\"../assets/smiles_markov_model.pkl\", \"wb\") as outp:\n",
    "    pickle.dump(model, outp)"
   ]
  },
  {
   "cell_type": "markdown",
   "id": "distributed-semiconductor",
   "metadata": {},
   "source": [
    "# Create a Molecule Pipeline\n",
    "\n",
    "We'll then wrap our HMM into a generator function. This is an initial filter we place over the model, giving users the ability to filter generated models by the number of atoms."
   ]
  },
  {
   "cell_type": "code",
   "execution_count": 12,
   "id": "enclosed-highway",
   "metadata": {},
   "outputs": [],
   "source": [
    "def generate_molecules(min_heavy_atoms:int, max_heavy_atoms:int, num_mols:int, verbose:bool=True) -> List[rdkit.Chem.Mol]:\n",
    "    \"\"\"\n",
    "    A pipeline that generates our molecules, from our generator!\n",
    "    \"\"\"\n",
    "    pred_mols = []\n",
    "    while len(pred_mols) < num_mols:\n",
    "        sample, _ = model.sample(max_heavy_atoms)\n",
    "        sample = sample.T[0]\n",
    "        pred = enc.inverse_transform(sample)\n",
    "\n",
    "        try:\n",
    "            mol = rdkit.Chem.MolFromSmiles(pred)\n",
    "        except:\n",
    "            mol = None\n",
    "        if mol and mol.GetNumAtoms() >= min_heavy_atoms:\n",
    "            pred_mols.append(mol)\n",
    "            if verbose:\n",
    "                print(f\"Found {len(pred_mols)} molecules. New molecule has weight {np.round((rdkit.Chem.Descriptors.MolWt(mol)),3)} amu\")\n",
    "    return pred_mols"
   ]
  },
  {
   "cell_type": "code",
   "execution_count": 19,
   "id": "introductory-equation",
   "metadata": {},
   "outputs": [
    {
     "name": "stdout",
     "output_type": "stream",
     "text": [
      "Found 1 molecules. New molecule has weight 60.096 amu\n",
      "Found 2 molecules. New molecule has weight 72.151 amu\n",
      "Found 3 molecules. New molecule has weight 60.052 amu\n",
      "Found 4 molecules. New molecule has weight 78.051 amu\n",
      "Found 5 molecules. New molecule has weight 56.088 amu\n",
      "Found 6 molecules. New molecule has weight 141.239 amu\n",
      "Found 7 molecules. New molecule has weight 205.298 amu\n",
      "Found 8 molecules. New molecule has weight 115.156 amu\n"
     ]
    },
    {
     "data": {
      "image/png": "[encoded data removed]",
      "text/plain": [
       "<IPython.core.display.Image object>"
      ]
     },
     "execution_count": 19,
     "metadata": {},
     "output_type": "execute_result"
    }
   ],
   "source": [
    "molecules = generate_molecules(min_heavy_atoms=4, max_heavy_atoms=64, num_mols=8, verbose=True)\n",
    "img = rdkit.Chem.Draw.MolsToGridImage(molecules, subImgSize=[256,256], molsPerRow=4)\n",
    "img"
   ]
  },
  {
   "cell_type": "markdown",
   "id": "nervous-lawrence",
   "metadata": {},
   "source": [
    "# Screen for Bitterness\n",
    "\n",
    "Finally, we'll add one more filter to our model. Now that we have a set of knobs to turn for the molecule's complexity (number of atoms), we'll also add a filter for bitterness. Taking advantage of our trained model from the last webinar, we'll repeatedly generate models swith the generator, continuing until we have some user-defined set of potentially-bitter molecules."
   ]
  },
  {
   "cell_type": "code",
   "execution_count": 20,
   "id": "vietnamese-bahrain",
   "metadata": {},
   "outputs": [],
   "source": [
    "with open(\"../assets/bittersweet_xgboost.pkl\", \"rb\") as inp:\n",
    "    pipeline = pickle.load(inp)\n",
    "    \n",
    "# Create a function to do the featurization and prediction\n",
    "def predict_bitter_from_smiles(mol, model=pipeline):\n",
    "    # The XGBoost classifier we trained in the last webinar takes in these features in this exact order\n",
    "    descriptors = (Lipinski.NumAromaticRings,\n",
    "                   Lipinski.NumHAcceptors,\n",
    "                   Lipinski.NumHDonors,\n",
    "                   Descriptors.MolWt,\n",
    "                   Descriptors.MinPartialCharge,\n",
    "                   Descriptors.MaxPartialCharge,\n",
    "                   Descriptors.FpDensityMorgan1,\n",
    "                   Descriptors.FpDensityMorgan2,\n",
    "                   Descriptors.FpDensityMorgan3,\n",
    "                  )\n",
    "    \n",
    "    features = [descriptor(mol) for descriptor in descriptors]\n",
    "    result = model.predict([features])\n",
    "    return result"
   ]
  },
  {
   "cell_type": "code",
   "execution_count": 32,
   "id": "democratic-wages",
   "metadata": {},
   "outputs": [
    {
     "data": {
      "image/png": "[encoded data removed]",
      "text/plain": [
       "<IPython.core.display.Image object>"
      ]
     },
     "execution_count": 32,
     "metadata": {},
     "output_type": "execute_result"
    }
   ],
   "source": [
    "bitter_candidates = []\n",
    "n_desired_candidates = 4\n",
    "while len(bitter_candidates) < n_desired_candidates:\n",
    "    bitter_candidates += list(filter(predict_bitter_from_smiles, generate_molecules(min_heavy_atoms=4,\n",
    "                                                          max_heavy_atoms=30,\n",
    "                                                          num_mols=16,\n",
    "                                                          verbose=False)\n",
    "          ))\n",
    "img = rdkit.Chem.Draw.MolsToGridImage(bitter_candidates[:n_desired_candidates], subImgSize=[256,256], molsPerRow=4)\n",
    "img"
   ]
  },
  {
   "cell_type": "markdown",
   "id": "utility-chick",
   "metadata": {},
   "source": [
    "Of interest is that the pipeline generated a molecule that does indeed have a bitter taste. The first molecule in the above image is 2-propanol, which has a slightly bitter taste (per the MSDS as https://www2.atmos.umd.edu/~russ/MSDS/isopropanol_fisher.html). "
   ]
  }
 ],
 "metadata": {
  "kernelspec": {
   "display_name": "Python 3",
   "language": "python",
   "name": "python3"
  },
  "language_info": {
   "codemirror_mode": {
    "name": "ipython",
    "version": 3
   },
   "file_extension": ".py",
   "mimetype": "text/x-python",
   "name": "python",
   "nbconvert_exporter": "python",
   "pygments_lexer": "ipython3",
   "version": "3.8.6"
  }
 },
 "nbformat": 4,
 "nbformat_minor": 5
}
