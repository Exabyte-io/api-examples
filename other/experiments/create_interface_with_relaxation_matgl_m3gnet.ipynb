{
 "cells": [
  {
   "cell_type": "markdown",
   "metadata": {},
   "source": [
    "# Create an interface with ZSL and relax it using M3GNet\n",
    "\n",
    "Use Zur and McGill superlattices matching [algorithm](https://doi.org/10.1063/1.3330840) to create interfaces between two materials using the Pymatgen [implementation](https://pymatgen.org/pymatgen.analysis.interfaces.html#pymatgen.analysis.interfaces.zsl).\n",
    "\n",
    "<h2 style=\"color:green\">Usage</h2>\n",
    "\n",
    "0. Make sure to select Input Materials\n",
    "1. Execute \"Run first: ...\" cell below to load Input Materials into the current kernel\n",
    "2. Set Input Parameters (e.g. `MILLER_INDICES`, `THICKNESS`, `MAX_AREA`) below or use the default values\n",
    "3. Click \"Run\" > \"Run All\" to run all cells\n",
    "4. Wait for the run to complete (depending on the area, it can take 1-2 min or more). Scroll down to view cell results.\n",
    "5. Review the strain plot and modify its parameters as needed\n",
    "\n",
    "## Methodology\n",
    "\n",
    "The following happens in the script below:\n",
    "\n",
    "1. Create slabs for each input material. The materials data is passed in from and back to the web application according to this description (TBA).\n",
    "   We assume that two input materials are either in bulk form (e.g. Ni crystal) or layered (e.g. graphene). \n",
    "   \n",
    "   We construct the interface along the Z-axis. The material corresponding to the bottom of the interface is referred to as the \"**substrate**\", and the top - as the \"**layer**\". \n",
    "\n",
    "2. Perform strain matching on the slabs to extract the supercell dimensions. The algorithm has a set of parameters, such as the maximum area considered, that can be configured by editing the cells below.\n",
    "\n",
    "3. When the strain matching is finished, the interface with the lowest strain (and the smallest number of atoms) is selected. We create the corresponding supercells and place them at a specified distance from each other (note no shift is performed currently).\n"
   ]
  },
  {
   "cell_type": "markdown",
   "source": [
    "## 0. Load Materials"
   ],
   "metadata": {
    "collapsed": false
   }
  },
  {
   "cell_type": "code",
   "execution_count": 32,
   "metadata": {
    "ExecuteTime": {
     "end_time": "2024-02-27T03:08:08.513777Z",
     "start_time": "2024-02-27T03:08:08.449775Z"
    }
   },
   "outputs": [],
   "source": [
    "import json\n",
    "materials_in = []\n",
    "for file in [\"Ni.json\", \"Gr.json\"]:\n",
    "    with open(file, \"r\") as f:\n",
    "        data = f.read()\n",
    "        materials_in.append(json.loads(data))"
   ]
  },
  {
   "cell_type": "markdown",
   "metadata": {},
   "source": [
    "## 1. Set Input Parameters\n",
    "\n",
    "### 1.1. Select Substrate and Layer from Input Materials"
   ]
  },
  {
   "cell_type": "code",
   "execution_count": 33,
   "metadata": {
    "ExecuteTime": {
     "end_time": "2024-02-27T03:08:08.529930Z",
     "start_time": "2024-02-27T03:08:08.516855Z"
    }
   },
   "outputs": [],
   "source": [
    "SUBSTRATE_PARAMETERS = {\n",
    "    \"MATERIAL_INDEX\": 0,  # the index of the material in the materials_in list\n",
    "    \"MILLER_INDICES\": (1, 1, 1),  # the miller indices of the interfacial plane\n",
    "    \"THICKNESS\": 6,  # in layers\n",
    "}\n",
    "\n",
    "LAYER_PARAMETERS = {\n",
    "    \"MATERIAL_INDEX\": 1, # the index of the material in the materials_in list\n",
    "    \"MILLER_INDICES\": (0, 0, 1),  # the miller indices of the interfacial plane\n",
    "    \"THICKNESS\": 1,  # in layers\n",
    "}"
   ]
  },
  {
   "cell_type": "markdown",
   "metadata": {},
   "source": [
    "### 1.2. Set Interface Parameters\n",
    "\n",
    "The distance between layer and substrate and maximum area to consider when matching.\n"
   ]
  },
  {
   "cell_type": "code",
   "execution_count": 34,
   "metadata": {
    "ExecuteTime": {
     "end_time": "2024-02-27T03:08:08.543161Z",
     "start_time": "2024-02-27T03:08:08.532301Z"
    }
   },
   "outputs": [],
   "source": [
    "INTERFACE_PARAMETERS = {\n",
    "    \"DISTANCE_Z\": 3.0, # in Angstroms\n",
    "    \"MAX_AREA\": 50, # in Angstroms^2\n",
    "}"
   ]
  },
  {
   "cell_type": "markdown",
   "metadata": {},
   "source": [
    "### 1.3. Set Algorithm Parameters"
   ]
  },
  {
   "cell_type": "code",
   "execution_count": 35,
   "metadata": {
    "ExecuteTime": {
     "end_time": "2024-02-27T03:08:08.558357Z",
     "start_time": "2024-02-27T03:08:08.538352Z"
    }
   },
   "outputs": [],
   "source": [
    "ZSL_PARAMETERS = {\n",
    "    \"MAX_AREA\": INTERFACE_PARAMETERS[\"MAX_AREA\"],  # The area to consider in Angstrom^2\n",
    "    \"MAX_AREA_TOL\": 0.09,  # The area within this tolerance is considered equal\n",
    "    \"MAX_LENGTH_TOL\": 0.03,  # supercell lattice vectors lengths within this tolerance are considered equal\n",
    "    \"MAX_ANGLE_TOL\": 0.01,  # supercell lattice angles within this tolerance are considered equal\n",
    "    \"STRAIN_TOL\": 10e-6,  # strains within this tolerance are considered equal\n",
    "}\n",
    "RELAXATION_PARAMETERS = {\n",
    "    \"FMAX\": 0.018,\n",
    "}"
   ]
  },
  {
   "cell_type": "markdown",
   "metadata": {},
   "source": [
    "## 2. Install Packages"
   ]
  },
  {
   "cell_type": "code",
   "execution_count": 36,
   "metadata": {
    "ExecuteTime": {
     "end_time": "2024-02-27T03:08:09.945678Z",
     "start_time": "2024-02-27T03:08:08.546482Z"
    }
   },
   "outputs": [
    {
     "name": "stdout",
     "output_type": "stream",
     "text": [
      "Python 3.11.2\r\n",
      "Package                    Version\r\n",
      "-------------------------- -----------------\r\n",
      "accelerate                 0.27.2\r\n",
      "aiohttp                    3.9.3\r\n",
      "aiosignal                  1.3.1\r\n",
      "alignn                     2024.2.4\r\n",
      "anyio                      4.3.0\r\n",
      "appnope                    0.1.4\r\n",
      "argon2-cffi                23.1.0\r\n",
      "argon2-cffi-bindings       21.2.0\r\n",
      "arrow                      1.3.0\r\n",
      "ase                        3.22.1\r\n",
      "asttokens                  2.4.1\r\n",
      "async-lru                  2.0.4\r\n",
      "attrs                      23.2.0\r\n",
      "Babel                      2.14.0\r\n",
      "beautifulsoup4             4.12.3\r\n",
      "bleach                     6.1.0\r\n",
      "build                      1.0.3\r\n",
      "certifi                    2024.2.2\r\n",
      "cffi                       1.16.0\r\n",
      "cfgv                       3.4.0\r\n",
      "charset-normalizer         3.3.2\r\n",
      "click                      8.1.7\r\n",
      "colorama                   0.4.6\r\n",
      "comm                       0.2.1\r\n",
      "contourpy                  1.2.0\r\n",
      "cycler                     0.12.1\r\n",
      "debugpy                    1.8.1\r\n",
      "decorator                  5.1.1\r\n",
      "defusedxml                 0.7.1\r\n",
      "dgl                        2.0.0\r\n",
      "distlib                    0.3.8\r\n",
      "executing                  2.0.1\r\n",
      "fastjsonschema             2.19.1\r\n",
      "filelock                   3.13.1\r\n",
      "flake8                     7.0.0\r\n",
      "fonttools                  4.49.0\r\n",
      "fqdn                       1.5.1\r\n",
      "frozenlist                 1.4.1\r\n",
      "fsspec                     2024.2.0\r\n",
      "future                     1.0.0\r\n",
      "ghp-import                 2.1.0\r\n",
      "h11                        0.14.0\r\n",
      "httpcore                   1.0.4\r\n",
      "httpx                      0.27.0\r\n",
      "huggingface-hub            0.20.3\r\n",
      "identify                   2.5.35\r\n",
      "idna                       3.6\r\n",
      "ipykernel                  6.29.2\r\n",
      "ipython                    8.22.1\r\n",
      "ipywidgets                 8.1.2\r\n",
      "isoduration                20.11.0\r\n",
      "jarvis-tools               2023.12.12\r\n",
      "jedi                       0.19.1\r\n",
      "Jinja2                     3.1.3\r\n",
      "joblib                     1.3.2\r\n",
      "json5                      0.9.17\r\n",
      "jsonpointer                2.4\r\n",
      "jsonschema                 4.21.1\r\n",
      "jsonschema-specifications  2023.12.1\r\n",
      "jupyter                    1.0.0\r\n",
      "jupyter_client             8.6.0\r\n",
      "jupyter-console            6.6.3\r\n",
      "jupyter_core               5.7.1\r\n",
      "jupyter-events             0.9.0\r\n",
      "jupyter-lsp                2.2.2\r\n",
      "jupyter_server             2.12.5\r\n",
      "jupyter_server_terminals   0.5.2\r\n",
      "jupyterlab                 4.1.2\r\n",
      "jupyterlab_pygments        0.3.0\r\n",
      "jupyterlab_server          2.25.3\r\n",
      "jupyterlab_widgets         3.0.10\r\n",
      "kiwisolver                 1.4.5\r\n",
      "latexcodec                 2.0.1\r\n",
      "lightning-utilities        0.10.1\r\n",
      "Markdown                   3.5.2\r\n",
      "MarkupSafe                 2.1.5\r\n",
      "mat3ra-api-examples        0.1.0\r\n",
      "matgl                      0.9.2\r\n",
      "matplotlib                 3.8.3\r\n",
      "matplotlib-inline          0.1.6\r\n",
      "mccabe                     0.7.0\r\n",
      "mergedeep                  1.3.4\r\n",
      "mistune                    3.0.2\r\n",
      "mkdocs                     1.5.3\r\n",
      "mkdocs-material            9.5.10\r\n",
      "mkdocs-material-extensions 1.3.1\r\n",
      "monty                      2024.2.2\r\n",
      "mpmath                     1.3.0\r\n",
      "multidict                  6.0.5\r\n",
      "nbclient                   0.9.0\r\n",
      "nbconvert                  7.16.1\r\n",
      "nbformat                   5.9.2\r\n",
      "nest-asyncio               1.6.0\r\n",
      "networkx                   3.2.1\r\n",
      "nglview                    3.1.1\r\n",
      "nodeenv                    1.8.0\r\n",
      "notebook                   7.1.0\r\n",
      "notebook_shim              0.2.4\r\n",
      "numpy                      1.26.4\r\n",
      "overrides                  7.7.0\r\n",
      "packaging                  23.2\r\n",
      "paginate                   0.5.6\r\n",
      "palettable                 3.3.3\r\n",
      "pandas                     2.2.0\r\n",
      "pandocfilters              1.5.1\r\n",
      "parso                      0.8.3\r\n",
      "pathspec                   0.12.1\r\n",
      "pexpect                    4.9.0\r\n",
      "pillow                     10.2.0\r\n",
      "pip                        23.3.2\r\n",
      "pip-tools                  7.4.0\r\n",
      "platformdirs               4.2.0\r\n",
      "plotly                     5.19.0\r\n",
      "pre-commit                 3.6.2\r\n",
      "prometheus_client          0.20.0\r\n",
      "prompt-toolkit             3.0.43\r\n",
      "psutil                     5.9.8\r\n",
      "ptyprocess                 0.7.0\r\n",
      "pure-eval                  0.2.2\r\n",
      "pybtex                     0.24.0\r\n",
      "pycodestyle                2.11.1\r\n",
      "pycparser                  2.21\r\n",
      "pydantic                   1.8.1\r\n",
      "pydocstyle                 6.3.0\r\n",
      "pyflakes                   3.2.0\r\n",
      "Pygments                   2.17.2\r\n",
      "pymatgen                   2024.2.8\r\n",
      "pymdown-extensions         10.7\r\n",
      "pyparsing                  2.4.7\r\n",
      "pyproject_hooks            1.0.0\r\n",
      "PyQt5                      5.15.10\r\n",
      "PyQt5-Qt5                  5.15.12\r\n",
      "PyQt5-sip                  12.13.0\r\n",
      "python-dateutil            2.8.2\r\n",
      "python-json-logger         2.0.7\r\n",
      "pytorch-ignite             0.5.0.dev20240223\r\n",
      "pytorch-lightning          2.2.0.post0\r\n",
      "pytz                       2024.1\r\n",
      "PyYAML                     6.0.1\r\n",
      "pyyaml_env_tag             0.1\r\n",
      "pyzmq                      25.1.2\r\n",
      "qtconsole                  5.5.1\r\n",
      "QtPy                       2.4.1\r\n",
      "referencing                0.33.0\r\n",
      "regex                      2023.12.25\r\n",
      "requests                   2.31.0\r\n",
      "rfc3339-validator          0.1.4\r\n",
      "rfc3986-validator          0.1.1\r\n",
      "rpds-py                    0.18.0\r\n",
      "ruamel.yaml                0.18.6\r\n",
      "ruamel.yaml.clib           0.2.8\r\n",
      "safetensors                0.4.2\r\n",
      "scikit-learn               1.4.1.post1\r\n",
      "scipy                      1.12.0\r\n",
      "Send2Trash                 1.8.2\r\n",
      "setuptools                 69.0.3\r\n",
      "six                        1.16.0\r\n",
      "sniffio                    1.3.0\r\n",
      "snowballstemmer            2.2.0\r\n",
      "soupsieve                  2.5\r\n",
      "spglib                     2.0.2\r\n",
      "stack-data                 0.6.3\r\n",
      "sympy                      1.12\r\n",
      "tabulate                   0.9.0\r\n",
      "tenacity                   8.2.3\r\n",
      "terminado                  0.18.0\r\n",
      "threadpoolctl              3.3.0\r\n",
      "tinycss2                   1.2.1\r\n",
      "toolz                      0.12.1\r\n",
      "torch                      2.0.0\r\n",
      "torchdata                  0.7.1\r\n",
      "torchmetrics               1.3.1\r\n",
      "tornado                    6.4\r\n",
      "tqdm                       4.66.2\r\n",
      "traitlets                  5.14.1\r\n",
      "types-python-dateutil      2.8.19.20240106\r\n",
      "typing_extensions          4.9.0\r\n",
      "tzdata                     2024.1\r\n",
      "uncertainties              3.1.7\r\n",
      "uri-template               1.3.0\r\n",
      "urllib3                    2.2.1\r\n",
      "virtualenv                 20.25.1\r\n",
      "watchdog                   4.0.0\r\n",
      "wcwidth                    0.2.13\r\n",
      "webcolors                  1.13\r\n",
      "webencodings               0.5.1\r\n",
      "websocket-client           1.7.0\r\n",
      "wheel                      0.42.0\r\n",
      "widgetsnbextension         4.0.10\r\n",
      "xmltodict                  0.13.0\r\n",
      "yarl                       1.9.4\r\n",
      "\r\n",
      "\u001B[1m[\u001B[0m\u001B[34;49mnotice\u001B[0m\u001B[1;39;49m]\u001B[0m\u001B[39;49m A new release of pip is available: \u001B[0m\u001B[31;49m23.3.2\u001B[0m\u001B[39;49m -> \u001B[0m\u001B[32;49m24.0\u001B[0m\r\n",
      "\u001B[1m[\u001B[0m\u001B[34;49mnotice\u001B[0m\u001B[1;39;49m]\u001B[0m\u001B[39;49m To update, run: \u001B[0m\u001B[32;49mpip install --upgrade pip\u001B[0m\r\n"
     ]
    }
   ],
   "source": [
    "!python --version\n",
    "!pip list\n",
    "#!pip install pymatgen==2024.2.8 ase==3.22.1 nbformat==5.9.2 ipykernel==6.29.2 matgl==0.9.2 nglview==3.1.1"
   ]
  },
  {
   "cell_type": "markdown",
   "metadata": {},
   "source": [
    "## 3. Create interfaces\n",
    "\n",
    "### 3.1. Extract Interfaces and Terminations\n",
    "\n",
    "Extract all possible layer/substrate supercell combinations within the maximum area including different terminations."
   ]
  },
  {
   "cell_type": "code",
   "execution_count": 37,
   "metadata": {
    "tags": [],
    "trusted": true,
    "ExecuteTime": {
     "end_time": "2024-02-27T03:08:12.384409Z",
     "start_time": "2024-02-27T03:08:09.956339Z"
    }
   },
   "outputs": [
    {
     "name": "stdout",
     "output_type": "stream",
     "text": [
      "Full Formula (Ni1)\n",
      "Reduced Formula: Ni\n",
      "abc   :   2.460000   2.460000   2.460000\n",
      "angles:  60.000000  60.000000  60.000000\n",
      "pbc   :       True       True       True\n",
      "Sites (1)\n",
      "  #  SP      a    b    c\n",
      "---  ----  ---  ---  ---\n",
      "  0  Ni      0    0    0 \n",
      "\n",
      "Full Formula (C2)\n",
      "Reduced Formula: C\n",
      "abc   :   2.467291   2.467291  20.000000\n",
      "angles:  90.000000  90.000000 120.000000\n",
      "pbc   :       True       True       True\n",
      "Sites (2)\n",
      "  #  SP           a         b    c\n",
      "---  ----  --------  --------  ---\n",
      "  0  C     0         0           0\n",
      "  1  C     0.333333  0.666667    0 \n",
      "\n",
      "Creating interfaces...\n"
     ]
    }
   ],
   "source": [
    "from src.pymatgen_coherent_interface_builder import CoherentInterfaceBuilder, ZSLGenerator\n",
    "from src.utils import to_pymatgen\n",
    "\n",
    "if \"materials_in\" in globals():\n",
    "    pymatgen_materials = [to_pymatgen(item) for item in materials_in]\n",
    "for material in pymatgen_materials:\n",
    "    print(material, \"\\n\")\n",
    "\n",
    "\n",
    "def create_interfaces(settings):\n",
    "    print(\"Creating interfaces...\")\n",
    "    zsl = ZSLGenerator(\n",
    "        max_area_ratio_tol=settings[\"ZSL_PARAMETERS\"][\"MAX_AREA_TOL\"],\n",
    "        max_area=settings[\"ZSL_PARAMETERS\"][\"MAX_AREA\"],\n",
    "        max_length_tol=settings[\"ZSL_PARAMETERS\"][\"MAX_LENGTH_TOL\"],\n",
    "        max_angle_tol=settings[\"ZSL_PARAMETERS\"][\"MAX_ANGLE_TOL\"],\n",
    "    )\n",
    "\n",
    "    cib = CoherentInterfaceBuilder(\n",
    "        substrate_structure=pymatgen_materials[settings[\"SUBSTRATE_PARAMETERS\"][\"MATERIAL_INDEX\"]],\n",
    "        film_structure=pymatgen_materials[settings[\"LAYER_PARAMETERS\"][\"MATERIAL_INDEX\"]],\n",
    "        substrate_miller=settings[\"SUBSTRATE_PARAMETERS\"][\"MILLER_INDICES\"],\n",
    "        film_miller=settings[\"LAYER_PARAMETERS\"][\"MILLER_INDICES\"],\n",
    "        zslgen=zsl,\n",
    "        strain_tol=settings[\"ZSL_PARAMETERS\"][\"STRAIN_TOL\"],\n",
    "    )\n",
    "\n",
    "    # Find terminations\n",
    "    cib._find_terminations()\n",
    "    terminations = cib.terminations\n",
    "\n",
    "    # Create interfaces for each termination\n",
    "    interfaces = {}\n",
    "    for termination in terminations:\n",
    "        interfaces[termination] = []\n",
    "        for interface in cib.get_interfaces(\n",
    "            termination,\n",
    "            gap=settings[\"INTERFACE_PARAMETERS\"][\"DISTANCE_Z\"],\n",
    "            film_thickness=settings[\"LAYER_PARAMETERS\"][\"THICKNESS\"],\n",
    "            substrate_thickness=settings[\"SUBSTRATE_PARAMETERS\"][\"THICKNESS\"],\n",
    "            in_layers=True,\n",
    "        ):\n",
    "            # Wrap atoms to unit cell\n",
    "            interface[\"interface\"].make_supercell((1,1,1), to_unit_cell=True)\n",
    "            interfaces[termination].append(interface)\n",
    "    return interfaces, terminations\n",
    "\n",
    "\n",
    "interfaces, terminations = create_interfaces(\n",
    "    settings={\n",
    "        \"SUBSTRATE_PARAMETERS\": SUBSTRATE_PARAMETERS,\n",
    "        \"LAYER_PARAMETERS\": LAYER_PARAMETERS,\n",
    "        \"ZSL_PARAMETERS\": ZSL_PARAMETERS,\n",
    "        \"INTERFACE_PARAMETERS\": INTERFACE_PARAMETERS,\n",
    "    }\n",
    ")"
   ]
  },
  {
   "cell_type": "markdown",
   "metadata": {},
   "source": [
    "### 3.2. Print out the interfaces and terminations"
   ]
  },
  {
   "cell_type": "code",
   "execution_count": 38,
   "metadata": {
    "ExecuteTime": {
     "end_time": "2024-02-27T03:08:12.392639Z",
     "start_time": "2024-02-27T03:08:12.385576Z"
    }
   },
   "outputs": [
    {
     "name": "stdout",
     "output_type": "stream",
     "text": [
      "Found 1 terminations\n",
      "Found 233 interfaces for ('C_P6/mmm_2', 'Ni_R-3m_1') termination\n"
     ]
    }
   ],
   "source": [
    "print(f'Found {len(terminations)} terminations')\n",
    "for termination in terminations:\n",
    "    print(f\"Found {len(interfaces[termination])} interfaces for\", termination, \"termination\")"
   ]
  },
  {
   "cell_type": "markdown",
   "metadata": {},
   "source": [
    "## 4. Sort interfaces by strain\n",
    "\n",
    "### 4.1. Sort all interfaces"
   ]
  },
  {
   "cell_type": "code",
   "execution_count": 39,
   "metadata": {
    "ExecuteTime": {
     "end_time": "2024-02-27T03:08:12.435534Z",
     "start_time": "2024-02-27T03:08:12.410675Z"
    }
   },
   "outputs": [],
   "source": [
    "# Could be \"strain\", \"von_mises_strain\", \"mean_abs_strain\"\n",
    "strain_mode = \"mean_abs_strain\"\n",
    "\n",
    "# Sort interfaces by the specified strain mode and number of sites\n",
    "def sort_interfaces(interfaces, terminations):\n",
    "    sorted_interfaces = {}\n",
    "    for termination in terminations:\n",
    "        sorted_interfaces[termination] = sorted(\n",
    "            interfaces[termination], key=lambda x: (x[strain_mode], x[\"interface\"].num_sites)\n",
    "        )\n",
    "    return sorted_interfaces\n",
    "\n",
    "\n",
    "sorted_interfaces = sort_interfaces(interfaces, terminations)"
   ]
  },
  {
   "cell_type": "markdown",
   "metadata": {},
   "source": [
    "### 4.2. Print out interfaces with lowest strain for each termination"
   ]
  },
  {
   "cell_type": "code",
   "execution_count": 40,
   "metadata": {
    "ExecuteTime": {
     "end_time": "2024-02-27T03:08:12.436633Z",
     "start_time": "2024-02-27T03:08:12.416738Z"
    }
   },
   "outputs": [
    {
     "name": "stdout",
     "output_type": "stream",
     "text": [
      "Interface with lowest strain for termination ('C_P6/mmm_2', 'Ni_R-3m_1') (index 0):\n",
      "    strain: 0.06600000000000002 %\n",
      "    number of atoms: 8\n"
     ]
    }
   ],
   "source": [
    "for termination in terminations:\n",
    "    print(f\"Interface with lowest strain for termination {termination} (index 0):\")\n",
    "    first_interface = interfaces[termination][0]\n",
    "    print(\"    strain:\", first_interface[strain_mode] * 100, \"%\")\n",
    "    print(\"    number of atoms:\", first_interface[\"interface\"].num_sites)"
   ]
  },
  {
   "cell_type": "markdown",
   "metadata": {},
   "source": [
    "## 5. Plot the results\n",
    "\n",
    "Plot the number of atoms vs strain. Adjust the parameters as needed.\n"
   ]
  },
  {
   "cell_type": "code",
   "execution_count": 41,
   "metadata": {
    "ExecuteTime": {
     "end_time": "2024-02-27T03:08:12.465681Z",
     "start_time": "2024-02-27T03:08:12.420986Z"
    }
   },
   "outputs": [
    {
     "data": {
      "application/vnd.plotly.v1+json": {
       "data": [
        {
         "hoverinfo": "text",
         "mode": "markers",
         "name": "Indices: 0",
         "text": [
          "Termination: ('C_P6/mmm_2', 'Ni_R-3m_1')<br>Termination index: 0<br>Interfaces Index Range: 0<br>Strain: 0.07%<br>Atoms: 8"
         ],
         "x": [
          0.06600000000000002
         ],
         "y": [
          8
         ],
         "type": "scatter"
        },
        {
         "hoverinfo": "text",
         "mode": "markers",
         "name": "Indices: 1-9",
         "text": [
          "Termination: ('C_P6/mmm_2', 'Ni_R-3m_1')<br>Termination index: 0<br>Interfaces Index Range: 1-9<br>Strain: 0.07%<br>Atoms: 16"
         ],
         "x": [
          0.06600000000000002
         ],
         "y": [
          16
         ],
         "type": "scatter"
        },
        {
         "hoverinfo": "text",
         "mode": "markers",
         "name": "Indices: 10-19",
         "text": [
          "Termination: ('C_P6/mmm_2', 'Ni_R-3m_1')<br>Termination index: 0<br>Interfaces Index Range: 10-19<br>Strain: 0.07%<br>Atoms: 24"
         ],
         "x": [
          0.06600000000000002
         ],
         "y": [
          24
         ],
         "type": "scatter"
        },
        {
         "hoverinfo": "text",
         "mode": "markers",
         "name": "Indices: 20-38",
         "text": [
          "Termination: ('C_P6/mmm_2', 'Ni_R-3m_1')<br>Termination index: 0<br>Interfaces Index Range: 20-38<br>Strain: 0.07%<br>Atoms: 32"
         ],
         "x": [
          0.06600000000000002
         ],
         "y": [
          32
         ],
         "type": "scatter"
        },
        {
         "hoverinfo": "text",
         "mode": "markers",
         "name": "Indices: 39-56",
         "text": [
          "Termination: ('C_P6/mmm_2', 'Ni_R-3m_1')<br>Termination index: 0<br>Interfaces Index Range: 39-56<br>Strain: 0.07%<br>Atoms: 40"
         ],
         "x": [
          0.06600000000000002
         ],
         "y": [
          40
         ],
         "type": "scatter"
        },
        {
         "hoverinfo": "text",
         "mode": "markers",
         "name": "Indices: 57-110",
         "text": [
          "Termination: ('C_P6/mmm_2', 'Ni_R-3m_1')<br>Termination index: 0<br>Interfaces Index Range: 57-110<br>Strain: 0.07%<br>Atoms: 48"
         ],
         "x": [
          0.06600000000000002
         ],
         "y": [
          48
         ],
         "type": "scatter"
        },
        {
         "hoverinfo": "text",
         "mode": "markers",
         "name": "Indices: 111-132",
         "text": [
          "Termination: ('C_P6/mmm_2', 'Ni_R-3m_1')<br>Termination index: 0<br>Interfaces Index Range: 111-132<br>Strain: 0.07%<br>Atoms: 56"
         ],
         "x": [
          0.06600000000000002
         ],
         "y": [
          56
         ],
         "type": "scatter"
        },
        {
         "hoverinfo": "text",
         "mode": "markers",
         "name": "Indices: 133-177",
         "text": [
          "Termination: ('C_P6/mmm_2', 'Ni_R-3m_1')<br>Termination index: 0<br>Interfaces Index Range: 133-177<br>Strain: 0.07%<br>Atoms: 64"
         ],
         "x": [
          0.06600000000000002
         ],
         "y": [
          64
         ],
         "type": "scatter"
        },
        {
         "hoverinfo": "text",
         "mode": "markers",
         "name": "Indices: 178-232",
         "text": [
          "Termination: ('C_P6/mmm_2', 'Ni_R-3m_1')<br>Termination index: 0<br>Interfaces Index Range: 178-232<br>Strain: 0.07%<br>Atoms: 72"
         ],
         "x": [
          0.06600000000000002
         ],
         "y": [
          72
         ],
         "type": "scatter"
        }
       ],
       "layout": {
        "height": 600,
        "hovermode": "closest",
        "legend": {
         "title": {
          "text": "Interfaces Index Range"
         }
        },
        "xaxis": {
         "title": {
          "text": "Strain (%)"
         },
         "type": "log"
        },
        "yaxis": {
         "title": {
          "text": "Number of atoms"
         },
         "type": "log"
        },
        "template": {
         "data": {
          "histogram2dcontour": [
           {
            "type": "histogram2dcontour",
            "colorbar": {
             "outlinewidth": 0,
             "ticks": ""
            },
            "colorscale": [
             [
              0.0,
              "#0d0887"
             ],
             [
              0.1111111111111111,
              "#46039f"
             ],
             [
              0.2222222222222222,
              "#7201a8"
             ],
             [
              0.3333333333333333,
              "#9c179e"
             ],
             [
              0.4444444444444444,
              "#bd3786"
             ],
             [
              0.5555555555555556,
              "#d8576b"
             ],
             [
              0.6666666666666666,
              "#ed7953"
             ],
             [
              0.7777777777777778,
              "#fb9f3a"
             ],
             [
              0.8888888888888888,
              "#fdca26"
             ],
             [
              1.0,
              "#f0f921"
             ]
            ]
           }
          ],
          "choropleth": [
           {
            "type": "choropleth",
            "colorbar": {
             "outlinewidth": 0,
             "ticks": ""
            }
           }
          ],
          "histogram2d": [
           {
            "type": "histogram2d",
            "colorbar": {
             "outlinewidth": 0,
             "ticks": ""
            },
            "colorscale": [
             [
              0.0,
              "#0d0887"
             ],
             [
              0.1111111111111111,
              "#46039f"
             ],
             [
              0.2222222222222222,
              "#7201a8"
             ],
             [
              0.3333333333333333,
              "#9c179e"
             ],
             [
              0.4444444444444444,
              "#bd3786"
             ],
             [
              0.5555555555555556,
              "#d8576b"
             ],
             [
              0.6666666666666666,
              "#ed7953"
             ],
             [
              0.7777777777777778,
              "#fb9f3a"
             ],
             [
              0.8888888888888888,
              "#fdca26"
             ],
             [
              1.0,
              "#f0f921"
             ]
            ]
           }
          ],
          "heatmap": [
           {
            "type": "heatmap",
            "colorbar": {
             "outlinewidth": 0,
             "ticks": ""
            },
            "colorscale": [
             [
              0.0,
              "#0d0887"
             ],
             [
              0.1111111111111111,
              "#46039f"
             ],
             [
              0.2222222222222222,
              "#7201a8"
             ],
             [
              0.3333333333333333,
              "#9c179e"
             ],
             [
              0.4444444444444444,
              "#bd3786"
             ],
             [
              0.5555555555555556,
              "#d8576b"
             ],
             [
              0.6666666666666666,
              "#ed7953"
             ],
             [
              0.7777777777777778,
              "#fb9f3a"
             ],
             [
              0.8888888888888888,
              "#fdca26"
             ],
             [
              1.0,
              "#f0f921"
             ]
            ]
           }
          ],
          "heatmapgl": [
           {
            "type": "heatmapgl",
            "colorbar": {
             "outlinewidth": 0,
             "ticks": ""
            },
            "colorscale": [
             [
              0.0,
              "#0d0887"
             ],
             [
              0.1111111111111111,
              "#46039f"
             ],
             [
              0.2222222222222222,
              "#7201a8"
             ],
             [
              0.3333333333333333,
              "#9c179e"
             ],
             [
              0.4444444444444444,
              "#bd3786"
             ],
             [
              0.5555555555555556,
              "#d8576b"
             ],
             [
              0.6666666666666666,
              "#ed7953"
             ],
             [
              0.7777777777777778,
              "#fb9f3a"
             ],
             [
              0.8888888888888888,
              "#fdca26"
             ],
             [
              1.0,
              "#f0f921"
             ]
            ]
           }
          ],
          "contourcarpet": [
           {
            "type": "contourcarpet",
            "colorbar": {
             "outlinewidth": 0,
             "ticks": ""
            }
           }
          ],
          "contour": [
           {
            "type": "contour",
            "colorbar": {
             "outlinewidth": 0,
             "ticks": ""
            },
            "colorscale": [
             [
              0.0,
              "#0d0887"
             ],
             [
              0.1111111111111111,
              "#46039f"
             ],
             [
              0.2222222222222222,
              "#7201a8"
             ],
             [
              0.3333333333333333,
              "#9c179e"
             ],
             [
              0.4444444444444444,
              "#bd3786"
             ],
             [
              0.5555555555555556,
              "#d8576b"
             ],
             [
              0.6666666666666666,
              "#ed7953"
             ],
             [
              0.7777777777777778,
              "#fb9f3a"
             ],
             [
              0.8888888888888888,
              "#fdca26"
             ],
             [
              1.0,
              "#f0f921"
             ]
            ]
           }
          ],
          "surface": [
           {
            "type": "surface",
            "colorbar": {
             "outlinewidth": 0,
             "ticks": ""
            },
            "colorscale": [
             [
              0.0,
              "#0d0887"
             ],
             [
              0.1111111111111111,
              "#46039f"
             ],
             [
              0.2222222222222222,
              "#7201a8"
             ],
             [
              0.3333333333333333,
              "#9c179e"
             ],
             [
              0.4444444444444444,
              "#bd3786"
             ],
             [
              0.5555555555555556,
              "#d8576b"
             ],
             [
              0.6666666666666666,
              "#ed7953"
             ],
             [
              0.7777777777777778,
              "#fb9f3a"
             ],
             [
              0.8888888888888888,
              "#fdca26"
             ],
             [
              1.0,
              "#f0f921"
             ]
            ]
           }
          ],
          "mesh3d": [
           {
            "type": "mesh3d",
            "colorbar": {
             "outlinewidth": 0,
             "ticks": ""
            }
           }
          ],
          "scatter": [
           {
            "marker": {
             "line": {
              "color": "#283442"
             }
            },
            "type": "scatter"
           }
          ],
          "parcoords": [
           {
            "type": "parcoords",
            "line": {
             "colorbar": {
              "outlinewidth": 0,
              "ticks": ""
             }
            }
           }
          ],
          "scatterpolargl": [
           {
            "type": "scatterpolargl",
            "marker": {
             "colorbar": {
              "outlinewidth": 0,
              "ticks": ""
             }
            }
           }
          ],
          "bar": [
           {
            "error_x": {
             "color": "#f2f5fa"
            },
            "error_y": {
             "color": "#f2f5fa"
            },
            "marker": {
             "line": {
              "color": "rgb(17,17,17)",
              "width": 0.5
             },
             "pattern": {
              "fillmode": "overlay",
              "size": 10,
              "solidity": 0.2
             }
            },
            "type": "bar"
           }
          ],
          "scattergeo": [
           {
            "type": "scattergeo",
            "marker": {
             "colorbar": {
              "outlinewidth": 0,
              "ticks": ""
             }
            }
           }
          ],
          "scatterpolar": [
           {
            "type": "scatterpolar",
            "marker": {
             "colorbar": {
              "outlinewidth": 0,
              "ticks": ""
             }
            }
           }
          ],
          "histogram": [
           {
            "marker": {
             "pattern": {
              "fillmode": "overlay",
              "size": 10,
              "solidity": 0.2
             }
            },
            "type": "histogram"
           }
          ],
          "scattergl": [
           {
            "marker": {
             "line": {
              "color": "#283442"
             }
            },
            "type": "scattergl"
           }
          ],
          "scatter3d": [
           {
            "type": "scatter3d",
            "line": {
             "colorbar": {
              "outlinewidth": 0,
              "ticks": ""
             }
            },
            "marker": {
             "colorbar": {
              "outlinewidth": 0,
              "ticks": ""
             }
            }
           }
          ],
          "scattermapbox": [
           {
            "type": "scattermapbox",
            "marker": {
             "colorbar": {
              "outlinewidth": 0,
              "ticks": ""
             }
            }
           }
          ],
          "scatterternary": [
           {
            "type": "scatterternary",
            "marker": {
             "colorbar": {
              "outlinewidth": 0,
              "ticks": ""
             }
            }
           }
          ],
          "scattercarpet": [
           {
            "type": "scattercarpet",
            "marker": {
             "colorbar": {
              "outlinewidth": 0,
              "ticks": ""
             }
            }
           }
          ],
          "carpet": [
           {
            "aaxis": {
             "endlinecolor": "#A2B1C6",
             "gridcolor": "#506784",
             "linecolor": "#506784",
             "minorgridcolor": "#506784",
             "startlinecolor": "#A2B1C6"
            },
            "baxis": {
             "endlinecolor": "#A2B1C6",
             "gridcolor": "#506784",
             "linecolor": "#506784",
             "minorgridcolor": "#506784",
             "startlinecolor": "#A2B1C6"
            },
            "type": "carpet"
           }
          ],
          "table": [
           {
            "cells": {
             "fill": {
              "color": "#506784"
             },
             "line": {
              "color": "rgb(17,17,17)"
             }
            },
            "header": {
             "fill": {
              "color": "#2a3f5f"
             },
             "line": {
              "color": "rgb(17,17,17)"
             }
            },
            "type": "table"
           }
          ],
          "barpolar": [
           {
            "marker": {
             "line": {
              "color": "rgb(17,17,17)",
              "width": 0.5
             },
             "pattern": {
              "fillmode": "overlay",
              "size": 10,
              "solidity": 0.2
             }
            },
            "type": "barpolar"
           }
          ],
          "pie": [
           {
            "automargin": true,
            "type": "pie"
           }
          ]
         },
         "layout": {
          "autotypenumbers": "strict",
          "colorway": [
           "#636efa",
           "#EF553B",
           "#00cc96",
           "#ab63fa",
           "#FFA15A",
           "#19d3f3",
           "#FF6692",
           "#B6E880",
           "#FF97FF",
           "#FECB52"
          ],
          "font": {
           "color": "#f2f5fa"
          },
          "hovermode": "closest",
          "hoverlabel": {
           "align": "left"
          },
          "paper_bgcolor": "rgb(17,17,17)",
          "plot_bgcolor": "rgb(17,17,17)",
          "polar": {
           "bgcolor": "rgb(17,17,17)",
           "angularaxis": {
            "gridcolor": "#506784",
            "linecolor": "#506784",
            "ticks": ""
           },
           "radialaxis": {
            "gridcolor": "#506784",
            "linecolor": "#506784",
            "ticks": ""
           }
          },
          "ternary": {
           "bgcolor": "rgb(17,17,17)",
           "aaxis": {
            "gridcolor": "#506784",
            "linecolor": "#506784",
            "ticks": ""
           },
           "baxis": {
            "gridcolor": "#506784",
            "linecolor": "#506784",
            "ticks": ""
           },
           "caxis": {
            "gridcolor": "#506784",
            "linecolor": "#506784",
            "ticks": ""
           }
          },
          "coloraxis": {
           "colorbar": {
            "outlinewidth": 0,
            "ticks": ""
           }
          },
          "colorscale": {
           "sequential": [
            [
             0.0,
             "#0d0887"
            ],
            [
             0.1111111111111111,
             "#46039f"
            ],
            [
             0.2222222222222222,
             "#7201a8"
            ],
            [
             0.3333333333333333,
             "#9c179e"
            ],
            [
             0.4444444444444444,
             "#bd3786"
            ],
            [
             0.5555555555555556,
             "#d8576b"
            ],
            [
             0.6666666666666666,
             "#ed7953"
            ],
            [
             0.7777777777777778,
             "#fb9f3a"
            ],
            [
             0.8888888888888888,
             "#fdca26"
            ],
            [
             1.0,
             "#f0f921"
            ]
           ],
           "sequentialminus": [
            [
             0.0,
             "#0d0887"
            ],
            [
             0.1111111111111111,
             "#46039f"
            ],
            [
             0.2222222222222222,
             "#7201a8"
            ],
            [
             0.3333333333333333,
             "#9c179e"
            ],
            [
             0.4444444444444444,
             "#bd3786"
            ],
            [
             0.5555555555555556,
             "#d8576b"
            ],
            [
             0.6666666666666666,
             "#ed7953"
            ],
            [
             0.7777777777777778,
             "#fb9f3a"
            ],
            [
             0.8888888888888888,
             "#fdca26"
            ],
            [
             1.0,
             "#f0f921"
            ]
           ],
           "diverging": [
            [
             0,
             "#8e0152"
            ],
            [
             0.1,
             "#c51b7d"
            ],
            [
             0.2,
             "#de77ae"
            ],
            [
             0.3,
             "#f1b6da"
            ],
            [
             0.4,
             "#fde0ef"
            ],
            [
             0.5,
             "#f7f7f7"
            ],
            [
             0.6,
             "#e6f5d0"
            ],
            [
             0.7,
             "#b8e186"
            ],
            [
             0.8,
             "#7fbc41"
            ],
            [
             0.9,
             "#4d9221"
            ],
            [
             1,
             "#276419"
            ]
           ]
          },
          "xaxis": {
           "gridcolor": "#283442",
           "linecolor": "#506784",
           "ticks": "",
           "title": {
            "standoff": 15
           },
           "zerolinecolor": "#283442",
           "automargin": true,
           "zerolinewidth": 2
          },
          "yaxis": {
           "gridcolor": "#283442",
           "linecolor": "#506784",
           "ticks": "",
           "title": {
            "standoff": 15
           },
           "zerolinecolor": "#283442",
           "automargin": true,
           "zerolinewidth": 2
          },
          "scene": {
           "xaxis": {
            "backgroundcolor": "rgb(17,17,17)",
            "gridcolor": "#506784",
            "linecolor": "#506784",
            "showbackground": true,
            "ticks": "",
            "zerolinecolor": "#C8D4E3",
            "gridwidth": 2
           },
           "yaxis": {
            "backgroundcolor": "rgb(17,17,17)",
            "gridcolor": "#506784",
            "linecolor": "#506784",
            "showbackground": true,
            "ticks": "",
            "zerolinecolor": "#C8D4E3",
            "gridwidth": 2
           },
           "zaxis": {
            "backgroundcolor": "rgb(17,17,17)",
            "gridcolor": "#506784",
            "linecolor": "#506784",
            "showbackground": true,
            "ticks": "",
            "zerolinecolor": "#C8D4E3",
            "gridwidth": 2
           }
          },
          "shapedefaults": {
           "line": {
            "color": "#f2f5fa"
           }
          },
          "annotationdefaults": {
           "arrowcolor": "#f2f5fa",
           "arrowhead": 0,
           "arrowwidth": 1
          },
          "geo": {
           "bgcolor": "rgb(17,17,17)",
           "landcolor": "rgb(17,17,17)",
           "subunitcolor": "#506784",
           "showland": true,
           "showlakes": true,
           "lakecolor": "rgb(17,17,17)"
          },
          "title": {
           "x": 0.05
          },
          "updatemenudefaults": {
           "bgcolor": "#506784",
           "borderwidth": 0
          },
          "sliderdefaults": {
           "bgcolor": "#C8D4E3",
           "borderwidth": 1,
           "bordercolor": "rgb(17,17,17)",
           "tickwidth": 0
          },
          "mapbox": {
           "style": "dark"
          }
         }
        }
       },
       "config": {
        "plotlyServerURL": "https://plot.ly"
       }
      },
      "text/html": "<div>                            <div id=\"5ff431d3-1c8c-4ee7-8a71-8786cc6c2207\" class=\"plotly-graph-div\" style=\"height:600px; width:100%;\"></div>            <script type=\"text/javascript\">                require([\"plotly\"], function(Plotly) {                    window.PLOTLYENV=window.PLOTLYENV || {};                                    if (document.getElementById(\"5ff431d3-1c8c-4ee7-8a71-8786cc6c2207\")) {                    Plotly.newPlot(                        \"5ff431d3-1c8c-4ee7-8a71-8786cc6c2207\",                        [{\"hoverinfo\":\"text\",\"mode\":\"markers\",\"name\":\"Indices: 0\",\"text\":[\"Termination: ('C_P6\\u002fmmm_2', 'Ni_R-3m_1')\\u003cbr\\u003eTermination index: 0\\u003cbr\\u003eInterfaces Index Range: 0\\u003cbr\\u003eStrain: 0.07%\\u003cbr\\u003eAtoms: 8\"],\"x\":[0.06600000000000002],\"y\":[8],\"type\":\"scatter\"},{\"hoverinfo\":\"text\",\"mode\":\"markers\",\"name\":\"Indices: 1-9\",\"text\":[\"Termination: ('C_P6\\u002fmmm_2', 'Ni_R-3m_1')\\u003cbr\\u003eTermination index: 0\\u003cbr\\u003eInterfaces Index Range: 1-9\\u003cbr\\u003eStrain: 0.07%\\u003cbr\\u003eAtoms: 16\"],\"x\":[0.06600000000000002],\"y\":[16],\"type\":\"scatter\"},{\"hoverinfo\":\"text\",\"mode\":\"markers\",\"name\":\"Indices: 10-19\",\"text\":[\"Termination: ('C_P6\\u002fmmm_2', 'Ni_R-3m_1')\\u003cbr\\u003eTermination index: 0\\u003cbr\\u003eInterfaces Index Range: 10-19\\u003cbr\\u003eStrain: 0.07%\\u003cbr\\u003eAtoms: 24\"],\"x\":[0.06600000000000002],\"y\":[24],\"type\":\"scatter\"},{\"hoverinfo\":\"text\",\"mode\":\"markers\",\"name\":\"Indices: 20-38\",\"text\":[\"Termination: ('C_P6\\u002fmmm_2', 'Ni_R-3m_1')\\u003cbr\\u003eTermination index: 0\\u003cbr\\u003eInterfaces Index Range: 20-38\\u003cbr\\u003eStrain: 0.07%\\u003cbr\\u003eAtoms: 32\"],\"x\":[0.06600000000000002],\"y\":[32],\"type\":\"scatter\"},{\"hoverinfo\":\"text\",\"mode\":\"markers\",\"name\":\"Indices: 39-56\",\"text\":[\"Termination: ('C_P6\\u002fmmm_2', 'Ni_R-3m_1')\\u003cbr\\u003eTermination index: 0\\u003cbr\\u003eInterfaces Index Range: 39-56\\u003cbr\\u003eStrain: 0.07%\\u003cbr\\u003eAtoms: 40\"],\"x\":[0.06600000000000002],\"y\":[40],\"type\":\"scatter\"},{\"hoverinfo\":\"text\",\"mode\":\"markers\",\"name\":\"Indices: 57-110\",\"text\":[\"Termination: ('C_P6\\u002fmmm_2', 'Ni_R-3m_1')\\u003cbr\\u003eTermination index: 0\\u003cbr\\u003eInterfaces Index Range: 57-110\\u003cbr\\u003eStrain: 0.07%\\u003cbr\\u003eAtoms: 48\"],\"x\":[0.06600000000000002],\"y\":[48],\"type\":\"scatter\"},{\"hoverinfo\":\"text\",\"mode\":\"markers\",\"name\":\"Indices: 111-132\",\"text\":[\"Termination: ('C_P6\\u002fmmm_2', 'Ni_R-3m_1')\\u003cbr\\u003eTermination index: 0\\u003cbr\\u003eInterfaces Index Range: 111-132\\u003cbr\\u003eStrain: 0.07%\\u003cbr\\u003eAtoms: 56\"],\"x\":[0.06600000000000002],\"y\":[56],\"type\":\"scatter\"},{\"hoverinfo\":\"text\",\"mode\":\"markers\",\"name\":\"Indices: 133-177\",\"text\":[\"Termination: ('C_P6\\u002fmmm_2', 'Ni_R-3m_1')\\u003cbr\\u003eTermination index: 0\\u003cbr\\u003eInterfaces Index Range: 133-177\\u003cbr\\u003eStrain: 0.07%\\u003cbr\\u003eAtoms: 64\"],\"x\":[0.06600000000000002],\"y\":[64],\"type\":\"scatter\"},{\"hoverinfo\":\"text\",\"mode\":\"markers\",\"name\":\"Indices: 178-232\",\"text\":[\"Termination: ('C_P6\\u002fmmm_2', 'Ni_R-3m_1')\\u003cbr\\u003eTermination index: 0\\u003cbr\\u003eInterfaces Index Range: 178-232\\u003cbr\\u003eStrain: 0.07%\\u003cbr\\u003eAtoms: 72\"],\"x\":[0.06600000000000002],\"y\":[72],\"type\":\"scatter\"}],                        {\"height\":600,\"hovermode\":\"closest\",\"legend\":{\"title\":{\"text\":\"Interfaces Index Range\"}},\"xaxis\":{\"title\":{\"text\":\"Strain (%)\"},\"type\":\"log\"},\"yaxis\":{\"title\":{\"text\":\"Number of atoms\"},\"type\":\"log\"},\"template\":{\"data\":{\"histogram2dcontour\":[{\"type\":\"histogram2dcontour\",\"colorbar\":{\"outlinewidth\":0,\"ticks\":\"\"},\"colorscale\":[[0.0,\"#0d0887\"],[0.1111111111111111,\"#46039f\"],[0.2222222222222222,\"#7201a8\"],[0.3333333333333333,\"#9c179e\"],[0.4444444444444444,\"#bd3786\"],[0.5555555555555556,\"#d8576b\"],[0.6666666666666666,\"#ed7953\"],[0.7777777777777778,\"#fb9f3a\"],[0.8888888888888888,\"#fdca26\"],[1.0,\"#f0f921\"]]}],\"choropleth\":[{\"type\":\"choropleth\",\"colorbar\":{\"outlinewidth\":0,\"ticks\":\"\"}}],\"histogram2d\":[{\"type\":\"histogram2d\",\"colorbar\":{\"outlinewidth\":0,\"ticks\":\"\"},\"colorscale\":[[0.0,\"#0d0887\"],[0.1111111111111111,\"#46039f\"],[0.2222222222222222,\"#7201a8\"],[0.3333333333333333,\"#9c179e\"],[0.4444444444444444,\"#bd3786\"],[0.5555555555555556,\"#d8576b\"],[0.6666666666666666,\"#ed7953\"],[0.7777777777777778,\"#fb9f3a\"],[0.8888888888888888,\"#fdca26\"],[1.0,\"#f0f921\"]]}],\"heatmap\":[{\"type\":\"heatmap\",\"colorbar\":{\"outlinewidth\":0,\"ticks\":\"\"},\"colorscale\":[[0.0,\"#0d0887\"],[0.1111111111111111,\"#46039f\"],[0.2222222222222222,\"#7201a8\"],[0.3333333333333333,\"#9c179e\"],[0.4444444444444444,\"#bd3786\"],[0.5555555555555556,\"#d8576b\"],[0.6666666666666666,\"#ed7953\"],[0.7777777777777778,\"#fb9f3a\"],[0.8888888888888888,\"#fdca26\"],[1.0,\"#f0f921\"]]}],\"heatmapgl\":[{\"type\":\"heatmapgl\",\"colorbar\":{\"outlinewidth\":0,\"ticks\":\"\"},\"colorscale\":[[0.0,\"#0d0887\"],[0.1111111111111111,\"#46039f\"],[0.2222222222222222,\"#7201a8\"],[0.3333333333333333,\"#9c179e\"],[0.4444444444444444,\"#bd3786\"],[0.5555555555555556,\"#d8576b\"],[0.6666666666666666,\"#ed7953\"],[0.7777777777777778,\"#fb9f3a\"],[0.8888888888888888,\"#fdca26\"],[1.0,\"#f0f921\"]]}],\"contourcarpet\":[{\"type\":\"contourcarpet\",\"colorbar\":{\"outlinewidth\":0,\"ticks\":\"\"}}],\"contour\":[{\"type\":\"contour\",\"colorbar\":{\"outlinewidth\":0,\"ticks\":\"\"},\"colorscale\":[[0.0,\"#0d0887\"],[0.1111111111111111,\"#46039f\"],[0.2222222222222222,\"#7201a8\"],[0.3333333333333333,\"#9c179e\"],[0.4444444444444444,\"#bd3786\"],[0.5555555555555556,\"#d8576b\"],[0.6666666666666666,\"#ed7953\"],[0.7777777777777778,\"#fb9f3a\"],[0.8888888888888888,\"#fdca26\"],[1.0,\"#f0f921\"]]}],\"surface\":[{\"type\":\"surface\",\"colorbar\":{\"outlinewidth\":0,\"ticks\":\"\"},\"colorscale\":[[0.0,\"#0d0887\"],[0.1111111111111111,\"#46039f\"],[0.2222222222222222,\"#7201a8\"],[0.3333333333333333,\"#9c179e\"],[0.4444444444444444,\"#bd3786\"],[0.5555555555555556,\"#d8576b\"],[0.6666666666666666,\"#ed7953\"],[0.7777777777777778,\"#fb9f3a\"],[0.8888888888888888,\"#fdca26\"],[1.0,\"#f0f921\"]]}],\"mesh3d\":[{\"type\":\"mesh3d\",\"colorbar\":{\"outlinewidth\":0,\"ticks\":\"\"}}],\"scatter\":[{\"marker\":{\"line\":{\"color\":\"#283442\"}},\"type\":\"scatter\"}],\"parcoords\":[{\"type\":\"parcoords\",\"line\":{\"colorbar\":{\"outlinewidth\":0,\"ticks\":\"\"}}}],\"scatterpolargl\":[{\"type\":\"scatterpolargl\",\"marker\":{\"colorbar\":{\"outlinewidth\":0,\"ticks\":\"\"}}}],\"bar\":[{\"error_x\":{\"color\":\"#f2f5fa\"},\"error_y\":{\"color\":\"#f2f5fa\"},\"marker\":{\"line\":{\"color\":\"rgb(17,17,17)\",\"width\":0.5},\"pattern\":{\"fillmode\":\"overlay\",\"size\":10,\"solidity\":0.2}},\"type\":\"bar\"}],\"scattergeo\":[{\"type\":\"scattergeo\",\"marker\":{\"colorbar\":{\"outlinewidth\":0,\"ticks\":\"\"}}}],\"scatterpolar\":[{\"type\":\"scatterpolar\",\"marker\":{\"colorbar\":{\"outlinewidth\":0,\"ticks\":\"\"}}}],\"histogram\":[{\"marker\":{\"pattern\":{\"fillmode\":\"overlay\",\"size\":10,\"solidity\":0.2}},\"type\":\"histogram\"}],\"scattergl\":[{\"marker\":{\"line\":{\"color\":\"#283442\"}},\"type\":\"scattergl\"}],\"scatter3d\":[{\"type\":\"scatter3d\",\"line\":{\"colorbar\":{\"outlinewidth\":0,\"ticks\":\"\"}},\"marker\":{\"colorbar\":{\"outlinewidth\":0,\"ticks\":\"\"}}}],\"scattermapbox\":[{\"type\":\"scattermapbox\",\"marker\":{\"colorbar\":{\"outlinewidth\":0,\"ticks\":\"\"}}}],\"scatterternary\":[{\"type\":\"scatterternary\",\"marker\":{\"colorbar\":{\"outlinewidth\":0,\"ticks\":\"\"}}}],\"scattercarpet\":[{\"type\":\"scattercarpet\",\"marker\":{\"colorbar\":{\"outlinewidth\":0,\"ticks\":\"\"}}}],\"carpet\":[{\"aaxis\":{\"endlinecolor\":\"#A2B1C6\",\"gridcolor\":\"#506784\",\"linecolor\":\"#506784\",\"minorgridcolor\":\"#506784\",\"startlinecolor\":\"#A2B1C6\"},\"baxis\":{\"endlinecolor\":\"#A2B1C6\",\"gridcolor\":\"#506784\",\"linecolor\":\"#506784\",\"minorgridcolor\":\"#506784\",\"startlinecolor\":\"#A2B1C6\"},\"type\":\"carpet\"}],\"table\":[{\"cells\":{\"fill\":{\"color\":\"#506784\"},\"line\":{\"color\":\"rgb(17,17,17)\"}},\"header\":{\"fill\":{\"color\":\"#2a3f5f\"},\"line\":{\"color\":\"rgb(17,17,17)\"}},\"type\":\"table\"}],\"barpolar\":[{\"marker\":{\"line\":{\"color\":\"rgb(17,17,17)\",\"width\":0.5},\"pattern\":{\"fillmode\":\"overlay\",\"size\":10,\"solidity\":0.2}},\"type\":\"barpolar\"}],\"pie\":[{\"automargin\":true,\"type\":\"pie\"}]},\"layout\":{\"autotypenumbers\":\"strict\",\"colorway\":[\"#636efa\",\"#EF553B\",\"#00cc96\",\"#ab63fa\",\"#FFA15A\",\"#19d3f3\",\"#FF6692\",\"#B6E880\",\"#FF97FF\",\"#FECB52\"],\"font\":{\"color\":\"#f2f5fa\"},\"hovermode\":\"closest\",\"hoverlabel\":{\"align\":\"left\"},\"paper_bgcolor\":\"rgb(17,17,17)\",\"plot_bgcolor\":\"rgb(17,17,17)\",\"polar\":{\"bgcolor\":\"rgb(17,17,17)\",\"angularaxis\":{\"gridcolor\":\"#506784\",\"linecolor\":\"#506784\",\"ticks\":\"\"},\"radialaxis\":{\"gridcolor\":\"#506784\",\"linecolor\":\"#506784\",\"ticks\":\"\"}},\"ternary\":{\"bgcolor\":\"rgb(17,17,17)\",\"aaxis\":{\"gridcolor\":\"#506784\",\"linecolor\":\"#506784\",\"ticks\":\"\"},\"baxis\":{\"gridcolor\":\"#506784\",\"linecolor\":\"#506784\",\"ticks\":\"\"},\"caxis\":{\"gridcolor\":\"#506784\",\"linecolor\":\"#506784\",\"ticks\":\"\"}},\"coloraxis\":{\"colorbar\":{\"outlinewidth\":0,\"ticks\":\"\"}},\"colorscale\":{\"sequential\":[[0.0,\"#0d0887\"],[0.1111111111111111,\"#46039f\"],[0.2222222222222222,\"#7201a8\"],[0.3333333333333333,\"#9c179e\"],[0.4444444444444444,\"#bd3786\"],[0.5555555555555556,\"#d8576b\"],[0.6666666666666666,\"#ed7953\"],[0.7777777777777778,\"#fb9f3a\"],[0.8888888888888888,\"#fdca26\"],[1.0,\"#f0f921\"]],\"sequentialminus\":[[0.0,\"#0d0887\"],[0.1111111111111111,\"#46039f\"],[0.2222222222222222,\"#7201a8\"],[0.3333333333333333,\"#9c179e\"],[0.4444444444444444,\"#bd3786\"],[0.5555555555555556,\"#d8576b\"],[0.6666666666666666,\"#ed7953\"],[0.7777777777777778,\"#fb9f3a\"],[0.8888888888888888,\"#fdca26\"],[1.0,\"#f0f921\"]],\"diverging\":[[0,\"#8e0152\"],[0.1,\"#c51b7d\"],[0.2,\"#de77ae\"],[0.3,\"#f1b6da\"],[0.4,\"#fde0ef\"],[0.5,\"#f7f7f7\"],[0.6,\"#e6f5d0\"],[0.7,\"#b8e186\"],[0.8,\"#7fbc41\"],[0.9,\"#4d9221\"],[1,\"#276419\"]]},\"xaxis\":{\"gridcolor\":\"#283442\",\"linecolor\":\"#506784\",\"ticks\":\"\",\"title\":{\"standoff\":15},\"zerolinecolor\":\"#283442\",\"automargin\":true,\"zerolinewidth\":2},\"yaxis\":{\"gridcolor\":\"#283442\",\"linecolor\":\"#506784\",\"ticks\":\"\",\"title\":{\"standoff\":15},\"zerolinecolor\":\"#283442\",\"automargin\":true,\"zerolinewidth\":2},\"scene\":{\"xaxis\":{\"backgroundcolor\":\"rgb(17,17,17)\",\"gridcolor\":\"#506784\",\"linecolor\":\"#506784\",\"showbackground\":true,\"ticks\":\"\",\"zerolinecolor\":\"#C8D4E3\",\"gridwidth\":2},\"yaxis\":{\"backgroundcolor\":\"rgb(17,17,17)\",\"gridcolor\":\"#506784\",\"linecolor\":\"#506784\",\"showbackground\":true,\"ticks\":\"\",\"zerolinecolor\":\"#C8D4E3\",\"gridwidth\":2},\"zaxis\":{\"backgroundcolor\":\"rgb(17,17,17)\",\"gridcolor\":\"#506784\",\"linecolor\":\"#506784\",\"showbackground\":true,\"ticks\":\"\",\"zerolinecolor\":\"#C8D4E3\",\"gridwidth\":2}},\"shapedefaults\":{\"line\":{\"color\":\"#f2f5fa\"}},\"annotationdefaults\":{\"arrowcolor\":\"#f2f5fa\",\"arrowhead\":0,\"arrowwidth\":1},\"geo\":{\"bgcolor\":\"rgb(17,17,17)\",\"landcolor\":\"rgb(17,17,17)\",\"subunitcolor\":\"#506784\",\"showland\":true,\"showlakes\":true,\"lakecolor\":\"rgb(17,17,17)\"},\"title\":{\"x\":0.05},\"updatemenudefaults\":{\"bgcolor\":\"#506784\",\"borderwidth\":0},\"sliderdefaults\":{\"bgcolor\":\"#C8D4E3\",\"borderwidth\":1,\"bordercolor\":\"rgb(17,17,17)\",\"tickwidth\":0},\"mapbox\":{\"style\":\"dark\"}}}},                        {\"responsive\": true}                    ).then(function(){\n                            \nvar gd = document.getElementById('5ff431d3-1c8c-4ee7-8a71-8786cc6c2207');\nvar x = new MutationObserver(function (mutations, observer) {{\n        var display = window.getComputedStyle(gd).display;\n        if (!display || display === 'none') {{\n            console.log([gd, 'removed!']);\n            Plotly.purge(gd);\n            observer.disconnect();\n        }}\n}});\n\n// Listen for the removal of the full notebook cells\nvar notebookContainer = gd.closest('#notebook-container');\nif (notebookContainer) {{\n    x.observe(notebookContainer, {childList: true});\n}}\n\n// Listen for the clearing of the current output cell\nvar outputEl = gd.closest('.output');\nif (outputEl) {{\n    x.observe(outputEl, {childList: true});\n}}\n\n                        })                };                });            </script>        </div>"
     },
     "metadata": {},
     "output_type": "display_data"
    },
    {
     "name": "stdout",
     "output_type": "stream",
     "text": [
      "Termination 0: ('C_P6/mmm_2', 'Ni_R-3m_1')\n"
     ]
    }
   ],
   "source": [
    "import plotly.graph_objs as go\n",
    "from collections import defaultdict\n",
    "\n",
    "PLOT_SETTINGS = {\n",
    "    \"HEIGHT\": 600,\n",
    "    \"X_SCALE\": \"log\",  # or linear\n",
    "    \"Y_SCALE\": \"log\",  # or linear\n",
    "}\n",
    "\n",
    "\n",
    "def plot_strain_vs_atoms(sorted_interfaces, terminations, settings):\n",
    "    # Create a mapping from termination to its index\n",
    "    termination_to_index = {termination: i for i, termination in enumerate(terminations)}\n",
    "\n",
    "    grouped_interfaces = defaultdict(list)\n",
    "    for termination, interfaces in sorted_interfaces.items():\n",
    "        for index, interface_data in enumerate(interfaces):\n",
    "            strain_percentage = interface_data[\"mean_abs_strain\"] * 100\n",
    "            num_sites = interface_data[\"interface\"].num_sites\n",
    "            key = (strain_percentage, num_sites)\n",
    "            grouped_interfaces[key].append((index, termination))\n",
    "    \n",
    "    data = []\n",
    "    for (strain, num_sites), indices_and_terminations in grouped_interfaces.items():\n",
    "        termination_indices = defaultdict(list)\n",
    "        for index, termination in indices_and_terminations:\n",
    "            termination_indices[termination].append(index)\n",
    "        all_indices = [index for indices in termination_indices.values() for index in indices]\n",
    "        index_range = f\"{min(all_indices)}-{max(all_indices)}\" if len(all_indices) > 1 else str(min(all_indices))\n",
    "        \n",
    "        hover_text = \"<br>-----<br>\".join(\n",
    "             f\"Termination: {termination}<br>Termination index: {termination_to_index[termination]}<br>Interfaces Index Range: {index_range}<br>Strain: {strain:.2f}%<br>Atoms: {num_sites}\"\n",
    "            for termination, indices in termination_indices.items()\n",
    "        )\n",
    "        trace = go.Scatter(\n",
    "            x=[strain],\n",
    "            y=[num_sites],\n",
    "            text=[hover_text],\n",
    "            mode=\"markers\",\n",
    "            hoverinfo=\"text\",\n",
    "            name=f\"Indices: {index_range}\",\n",
    "        )\n",
    "        data.append(trace)\n",
    "\n",
    "    layout = go.Layout(\n",
    "        xaxis=dict(title=\"Strain (%)\", type=settings[\"X_SCALE\"]),\n",
    "        yaxis=dict(title=\"Number of atoms\", type=settings[\"Y_SCALE\"]),\n",
    "        hovermode=\"closest\",\n",
    "        height=settings[\"HEIGHT\"],\n",
    "        legend_title_text=\"Interfaces Index Range\",\n",
    "    )\n",
    "    fig = go.Figure(data=data, layout=layout)\n",
    "    fig.show()\n",
    "\n",
    "\n",
    "\n",
    "plot_strain_vs_atoms(sorted_interfaces, terminations, PLOT_SETTINGS)\n",
    "\n",
    "for i, termination in enumerate(terminations):\n",
    "    print(f\"Termination {i}:\", termination)"
   ]
  },
  {
   "cell_type": "markdown",
   "metadata": {},
   "source": [
    "## 6. Select the interface to relax\n",
    "\n",
    "### 6.1. Select the interface with the desired termination and strain\n",
    "\n",
    "The data in `sorted_interfaces` now contains an object with the following structure:\n",
    "\n",
    "```json\n",
    "{\n",
    "    \"('C_P6/mmm_2', 'Si_R-3m_1')\": [\n",
    "        { ...interface for ('C_P6/mmm_2', 'Si_R-3m_1') at index 0...},\n",
    "        { ...interface for ('C_P6/mmm_2', 'Si_R-3m_1') at index 1...},\n",
    "        ...\n",
    "    ],\n",
    "    \"<termination at index 1>\": [\n",
    "        { ...interface for 'termination at index 1' at index 0...},\n",
    "        { ...interface for 'termination at index 1' at index 1...},\n",
    "        ...\n",
    "    ]\n",
    "}\n",
    "```\n",
    "\n",
    "Select the index for termination first, and for it - the index in the list of corresponding interfaces sorted by strain (index 0 has minimum strain)."
   ]
  },
  {
   "cell_type": "code",
   "execution_count": 42,
   "metadata": {
    "ExecuteTime": {
     "end_time": "2024-02-27T03:08:12.466541Z",
     "start_time": "2024-02-27T03:08:12.441733Z"
    }
   },
   "outputs": [],
   "source": [
    "termination_index = 0\n",
    "interface_index = 0\n",
    "\n",
    "termination = terminations[termination_index]\n",
    "\n",
    "interface = sorted_interfaces[termination][interface_index][\"interface\"]"
   ]
  },
  {
   "cell_type": "markdown",
   "metadata": {},
   "source": [
    "## 7. Apply relaxation\n",
    "### 7.1. Apply relaxation to the selected interface"
   ]
  },
  {
   "cell_type": "code",
   "execution_count": 43,
   "metadata": {
    "ExecuteTime": {
     "end_time": "2024-02-27T03:08:16.099282Z",
     "start_time": "2024-02-27T03:08:12.450313Z"
    }
   },
   "outputs": [
    {
     "data": {
      "application/vnd.jupyter.widget-view+json": {
       "version_major": 2,
       "version_minor": 0,
       "model_id": "355c8898a4854fdc91efd98e130d88cf"
      },
      "text/plain": "FigureWidget({\n    'data': [{'mode': 'lines+markers',\n              'name': 'Energy',\n              'type': 'scatter',\n              'uid': '2161e540-e321-4d59-a8f3-de732694cba6',\n              'x': [],\n              'y': []}],\n    'layout': {'template': '...',\n               'title': {'text': 'Real-time Optimization Progress'},\n               'xaxis': {'anchor': 'y', 'domain': [0.0, 1.0], 'title': {'text': 'Step'}},\n               'yaxis': {'anchor': 'x', 'domain': [0.0, 1.0], 'title': {'text': 'Energy (eV)'}}}\n})"
     },
     "metadata": {},
     "output_type": "display_data"
    },
    {
     "name": "stdout",
     "output_type": "stream",
     "text": [
      "Original structure:\n",
      " Ni6 C2\n",
      "1.0\n",
      "   2.4600000000000000    0.0000000000000000    0.0000000000000002\n",
      "   1.2300000000000002    2.1304224933097191    0.0000000000000002\n",
      "   0.0000000000000000    0.0000000000000000   33.0429079454110308\n",
      "Ni C\n",
      "6 2\n",
      "direct\n",
      "   0.3333333333333333    0.3333333333333333    0.0000000000000000 Ni\n",
      "   0.9999999999999998    0.9999999999999998    0.0607870709321501 Ni\n",
      "   0.6666666666666665    0.6666666666666665    0.1215741418643002 Ni\n",
      "   0.3333333333333330    0.3333333333333330    0.1823612127964503 Ni\n",
      "   0.9999999999999996    0.9999999999999996    0.2431482837286004 Ni\n",
      "   0.6666666666666661    0.6666666666666652    0.3039353546607505 Ni\n",
      "   0.0000000000000020    0.9999999999999980    0.3947263953571744 C\n",
      "   0.3333330000000021    0.3333329999999978    0.3947263953571744 C\n",
      "\n",
      "\n",
      "Relaxed structure:\n",
      " Ni6 C2\n",
      "1.0\n",
      "   2.4600000000000000    0.0000000000000000    0.0000000000000002\n",
      "   1.2300000000000002    2.1304224933097191    0.0000000000000002\n",
      "   0.0000000000000000    0.0000000000000000   33.0429079454110308\n",
      "Ni C\n",
      "6 2\n",
      "direct\n",
      "   0.3333328843790201    0.3333342925202376   -0.0099266787614709 Ni\n",
      "   0.9999996294210589    0.9999999936840037    0.0510363547315363 Ni\n",
      "   0.6666666346682789    0.6666668354738287    0.1128617015720300 Ni\n",
      "   0.3333336143988975    0.3333328897261746    0.1743138364757734 Ni\n",
      "   1.0000003333945426    0.9999999716949546    0.2361505587219466 Ni\n",
      "   0.6666668560305149    0.6666667528681033    0.2970069325280145 Ni\n",
      "   0.0000325911099147    1.0000450168949973    0.4199080731503566 C\n",
      "   0.3333005619187273    0.3332871494079627    0.4199080754348715 C\n",
      "\n",
      "The final energy is -51.842 eV.\n"
     ]
    }
   ],
   "source": [
    "from src.utils import ase_to_poscar, pymatgen_to_ase\n",
    "import matgl\n",
    "from pymatgen.io.ase import AseAtomsAdaptor\n",
    "from matgl.ext.ase import M3GNetCalculator, Relaxer\n",
    "import plotly.graph_objs as go\n",
    "from IPython.display import display\n",
    "from plotly.subplots import make_subplots\n",
    "\n",
    "ase_adaptor = AseAtomsAdaptor()\n",
    "\n",
    "# Set up the calculator\n",
    "pot = matgl.load_model(\"M3GNet-MP-2021.2.8-PES\")\n",
    "calculator = M3GNetCalculator(pot)\n",
    "\n",
    "# Initialize the relaxer\n",
    "relaxer = Relaxer(potential=pot, relax_cell=False)\n",
    "\n",
    "# Initialize empty lists to store steps and energies for Plotly\n",
    "steps = []\n",
    "energies = []\n",
    "\n",
    "# Create a Plotly figure widget for visualization\n",
    "fig = make_subplots(rows=1, cols=1, specs=[[{\"type\": \"scatter\"}]])\n",
    "scatter = go.Scatter(x=[], y=[], mode='lines+markers', name='Energy')\n",
    "fig.add_trace(scatter)\n",
    "fig.update_layout(title_text='Real-time Optimization Progress', xaxis_title='Step', yaxis_title='Energy (eV)')\n",
    "\n",
    "# Display figure widget\n",
    "f = go.FigureWidget(fig)\n",
    "display(f)\n",
    "\n",
    "# Relax the structure\n",
    "relax_results = relaxer.relax(interface, fmax=RELAXATION_PARAMETERS[\"FMAX\"])\n",
    "\n",
    "# No live updates from Matgl Relaxer, so we need to extract the data from the results\n",
    "energies = relax_results[\"trajectory\"].energies\n",
    "steps = list(range(len(energies)))\n",
    "\n",
    "# Update the figure with the new data\n",
    "with f.batch_update():\n",
    "    f.data[0].x = steps\n",
    "    f.data[0].y = energies\n",
    "\n",
    "# Extract results\n",
    "relaxed_interface = relax_results[\"final_structure\"]\n",
    "relaxed_energy = energies[-1]\n",
    "original_energy = energies[0]\n",
    "\n",
    "ase_original_interface = pymatgen_to_ase(interface)\n",
    "ase_final_interface = pymatgen_to_ase(relaxed_interface)\n",
    "\n",
    "# Print out the final relaxed structure and energy\n",
    "print('Original structure:\\n', interface.to(fmt=\"poscar\"))\n",
    "print('\\nRelaxed structure:\\n', relaxed_interface.to(fmt=\"poscar\"))\n",
    "print(f\"The final energy is {float(relaxed_energy):.3f} eV.\")\n"
   ]
  },
  {
   "cell_type": "markdown",
   "metadata": {},
   "source": [
    "### 7.2. View structure before and after relaxation"
   ]
  },
  {
   "cell_type": "code",
   "execution_count": 44,
   "metadata": {
    "ExecuteTime": {
     "end_time": "2024-02-27T03:08:16.332438Z",
     "start_time": "2024-02-27T03:08:16.104981Z"
    }
   },
   "outputs": [
    {
     "data": {
      "text/plain": "<IPython.core.display.HTML object>",
      "text/html": "<div style=\"display: flex;\">\n    <div style=\"display: inline-block; margin: 10px; vertical-align: top;\">\n        <p>Ni6C2 - original</p>\n        <img src=\"data:image/png;base64,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\" alt=\"original\" />\n    </div>\n    \n    <div style=\"display: inline-block; margin: 10px; vertical-align: top;\">\n        <p>Ni6C2 - relaxed</p>\n        <img src=\"data:image/png;base64,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\" alt=\"relaxed\" />\n    </div>\n    </div>"
     },
     "metadata": {},
     "output_type": "display_data"
    }
   ],
   "source": [
    "import base64\n",
    "from ase.io import write\n",
    "from ase.build import make_supercell\n",
    "from IPython.display import HTML\n",
    "import io\n",
    "\n",
    "def visualize_material_base64(material, title: str, rotation: str = '0x', number_of_repetitions: int = 3):\n",
    "    \"\"\"\n",
    "    Returns an HTML string with a Base64-encoded image for visualization,\n",
    "    including the name of the file, positioned horizontally.\n",
    "    \"\"\"\n",
    "    # Set the number of unit cell repetition for the structure\n",
    "    n = number_of_repetitions\n",
    "    material_repeat = make_supercell(material, [[n,0,0],[0,n,0],[0,0,1]])\n",
    "    text = f\"{material.symbols} - {title}\"\n",
    "    \n",
    "    # Write image to a buffer to display in HTML\n",
    "    buf = io.BytesIO()\n",
    "    write(buf, material_repeat, format='png', rotation=rotation)\n",
    "    buf.seek(0)\n",
    "    img_str = base64.b64encode(buf.read()).decode('utf-8')\n",
    "    html_str = f'''\n",
    "    <div style=\"display: inline-block; margin: 10px; vertical-align: top;\">\n",
    "        <p>{text}</p>\n",
    "        <img src=\"data:image/png;base64,{img_str}\" alt=\"{title}\" />\n",
    "    </div>\n",
    "    '''\n",
    "    return html_str\n",
    "\n",
    "html_original = visualize_material_base64(ase_original_interface, \"original\", \"-90x\")\n",
    "html_relaxed = visualize_material_base64(ase_final_interface, \"relaxed\", \"-90x\")\n",
    "\n",
    "# Display the interfaces before and after relaxation\n",
    "html_content = f'<div style=\"display: flex;\">{html_original}{html_relaxed}</div>'\n",
    "display(HTML(html_content))\n",
    "\n"
   ]
  },
  {
   "cell_type": "markdown",
   "metadata": {},
   "source": [
    "### 7.3. Calculate energy energy using matgl M3GNet"
   ]
  },
  {
   "cell_type": "code",
   "execution_count": 45,
   "metadata": {
    "ExecuteTime": {
     "end_time": "2024-02-27T03:08:16.526869Z",
     "start_time": "2024-02-27T03:08:16.339433Z"
    }
   },
   "outputs": [
    {
     "name": "stdout",
     "output_type": "stream",
     "text": [
      "Original Substrate energy: -33.5361 eV\n",
      "Relaxed Substrate energy: -33.5471 eV\n",
      "Original Layer energy: -18.2533 eV\n",
      "Relaxed Layer energy: -18.2533 eV\n",
      "\n",
      "Delta between interface energy and sum of component energies\n",
      "Original Delta: 0.1363 eV\n",
      "Relaxed Delta: -0.0415 eV\n",
      "Original Delta per area: 0.0260 eV/Ang^2\n",
      "Relaxed Delta per area: -0.0079 eV/Ang^2\n",
      "Relaxed interface energy: -51.8419 eV\n",
      "Effective relaxed Delta per area: -2.1102 eV/Ang^2\n",
      "\n",
      "Relaxed interface:\n",
      " Ni  C \n",
      " 1.0000000000000000\n",
      "     2.4600000000000000    0.0000000000000000    0.0000000000000002\n",
      "     1.2300000000000002    2.1304224933097191    0.0000000000000002\n",
      "     0.0000000000000000    0.0000000000000000   33.0429079454110308\n",
      " Ni  C  \n",
      "   6   2\n",
      "Cartesian\n",
      "  1.2300000753722817  0.7101428745765959 -0.3280063325189502\n",
      "  3.6899990806071292  2.1304224798539786  1.6863895712634973\n",
      "  2.4600001289167754  1.4202820218370544  3.7292788156070400\n",
      "  1.2300001457844827  0.7101398860325705  5.7598360522804111\n",
      "  3.6900007853353696  2.1304224330080137  7.8031011731066622\n",
      "  2.4600005718628339  1.4202818458519590  9.8139727306720879\n",
      "  1.2301355449112370  2.1305183983154001 13.8749838066421542\n",
      "  1.2298625760918633  0.7100424398298009 13.8749838821291700\n",
      "\n",
      "Relaxed substrate:\n",
      " Ni \n",
      " 1.0000000000000000\n",
      "     2.4600000000000000    0.0000000000000000    0.0000000000000002\n",
      "     1.2300000000000002    2.1304224933097191    0.0000000000000002\n",
      "     0.0000000000000000    0.0000000000000000   33.0429079454110308\n",
      " Ni \n",
      "   6\n",
      "Cartesian\n",
      "  1.2300000753722817  0.7101428745765959 -0.3280063325189502\n",
      "  3.6899990806071292  2.1304224798539786  1.6863895712634973\n",
      "  2.4600001289167754  1.4202820218370544  3.7292788156070400\n",
      "  1.2300001457844827  0.7101398860325705  5.7598360522804111\n",
      "  3.6900007853353696  2.1304224330080137  7.8031011731066622\n",
      "  2.4600005718628339  1.4202818458519590  9.8139727306720879\n",
      "\n",
      "Relaxed layer:\n",
      "  C \n",
      " 1.0000000000000000\n",
      "     2.4600000000000000    0.0000000000000000    0.0000000000000002\n",
      "     1.2300000000000002    2.1304224933097191    0.0000000000000002\n",
      "     0.0000000000000000    0.0000000000000000   33.0429079454110308\n",
      " C  \n",
      "   2\n",
      "Cartesian\n",
      "  1.2301355449112370  2.1305183983154001 13.8749838066421542\n",
      "  1.2298625760918633  0.7100424398298009 13.8749838821291700\n"
     ]
    }
   ],
   "source": [
    "def filter_atoms_by_tag(atoms, material_index):\n",
    "    \"\"\"Filter atoms by their tag, corresponding to the material index.\"\"\"\n",
    "    return atoms[atoms.get_tags() == material_index]\n",
    "\n",
    "def calculate_energy(atoms, calculator):\n",
    "    \"\"\"Set calculator for atoms and return their total energy.\"\"\"\n",
    "    atoms.set_calculator(calculator)\n",
    "    return atoms.get_total_energy()\n",
    "\n",
    "def calculate_delta_energy(total_energy, *component_energies):\n",
    "    \"\"\"Calculate the delta energy by subtracting component energies from the total energy.\"\"\"\n",
    "    return total_energy - sum(component_energies)\n",
    "\n",
    "def calculate_effective_delta_per_area(total_energy, total_atoms, component_energies, component_atom_counts, area):\n",
    "    \"\"\"Calculate the effective delta energy per area.\"\"\"\n",
    "    effective_energy = total_energy * total_atoms - sum(component * count for component, count in zip(component_energies, component_atom_counts))\n",
    "    return effective_energy / (2 * area * total_atoms)\n",
    "\n",
    "\n",
    "# Filter atoms for original and relaxed interfaces\n",
    "substrate_original_interface = filter_atoms_by_tag(ase_original_interface, SUBSTRATE_PARAMETERS[\"MATERIAL_INDEX\"])\n",
    "layer_original_interface = filter_atoms_by_tag(ase_original_interface, LAYER_PARAMETERS[\"MATERIAL_INDEX\"])\n",
    "substrate_relaxed_interface = filter_atoms_by_tag(ase_final_interface, SUBSTRATE_PARAMETERS[\"MATERIAL_INDEX\"])\n",
    "layer_relaxed_interface = filter_atoms_by_tag(ase_final_interface, LAYER_PARAMETERS[\"MATERIAL_INDEX\"])\n",
    "\n",
    "# Calculate energies\n",
    "original_substrate_energy = calculate_energy(substrate_original_interface, calculator)\n",
    "original_layer_energy = calculate_energy(layer_original_interface, calculator)\n",
    "relaxed_substrate_energy = calculate_energy(substrate_relaxed_interface, calculator)\n",
    "relaxed_layer_energy = calculate_energy(layer_relaxed_interface, calculator)\n",
    "\n",
    "# Calculate delta energies\n",
    "delta_original = calculate_delta_energy(original_energy, original_substrate_energy, original_layer_energy)\n",
    "delta_relaxed = calculate_delta_energy(relaxed_energy, relaxed_substrate_energy, relaxed_layer_energy)\n",
    "\n",
    "# Calculate area and effective delta per area\n",
    "area = ase_original_interface.get_volume() / ase_original_interface.cell[2, 2]\n",
    "effective_delta_relaxed = calculate_effective_delta_per_area(\n",
    "    relaxed_energy, \n",
    "    ase_final_interface.get_global_number_of_atoms(), \n",
    "    [relaxed_substrate_energy, relaxed_layer_energy], \n",
    "    [substrate_relaxed_interface.get_global_number_of_atoms(), layer_relaxed_interface.get_global_number_of_atoms()], \n",
    "    area\n",
    ")\n",
    "\n",
    "# Print out the metrics\n",
    "print(f\"Original Substrate energy: {original_substrate_energy:.4f} eV\")\n",
    "print(f\"Relaxed Substrate energy: {relaxed_substrate_energy:.4f} eV\")\n",
    "print(f\"Original Layer energy: {original_layer_energy:.4f} eV\")\n",
    "print(f\"Relaxed Layer energy: {relaxed_layer_energy:.4f} eV\")\n",
    "print(\"\\nDelta between interface energy and sum of component energies\")\n",
    "print(f\"Original Delta: {delta_original:.4f} eV\")\n",
    "print(f\"Relaxed Delta: {delta_relaxed:.4f} eV\")\n",
    "print(f\"Original Delta per area: {delta_original / area:.4f} eV/Ang^2\")\n",
    "print(f\"Relaxed Delta per area: {delta_relaxed / area:.4f} eV/Ang^2\")\n",
    "print(f\"Relaxed interface energy: {relaxed_energy:.4f} eV\")\n",
    "print(f\"Effective relaxed Delta per area: {effective_delta_relaxed:.4f} eV/Ang^2\\n\")\n",
    "\n",
    "# Print out the POSCARs\n",
    "print(\"Relaxed interface:\\n\", ase_to_poscar(ase_final_interface))\n",
    "print(\"Relaxed substrate:\\n\", ase_to_poscar(substrate_relaxed_interface))\n",
    "print(\"Relaxed layer:\\n\", ase_to_poscar(layer_relaxed_interface))"
   ]
  },
  {
   "cell_type": "code",
   "execution_count": 45,
   "metadata": {
    "ExecuteTime": {
     "end_time": "2024-02-27T03:08:16.527680Z",
     "start_time": "2024-02-27T03:08:16.517621Z"
    }
   },
   "outputs": [],
   "source": []
  }
 ],
 "metadata": {
  "kernelspec": {
   "display_name": ".venv",
   "language": "python",
   "name": "python3"
  },
  "language_info": {
   "codemirror_mode": {
    "name": "ipython",
    "version": 3
   },
   "file_extension": ".py",
   "mimetype": "text/x-python",
   "name": "python",
   "nbconvert_exporter": "python",
   "pygments_lexer": "ipython3",
   "version": "3.10.12"
  },
  "widgets": {
   "application/vnd.jupyter.widget-state+json": {
    "state": {},
    "version_major": 2,
    "version_minor": 0
   }
  }
 },
 "nbformat": 4,
 "nbformat_minor": 4
}
