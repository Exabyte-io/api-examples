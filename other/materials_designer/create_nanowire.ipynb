{
 "cells": [
  {
   "cell_type": "markdown",
   "source": [
    "# Create a nanowire\n",
    "\n",
    "Create a nanowire from original material by creating a slab and cutting a cylinder along the \n",
    "\n",
    "<h2 style=\"color:green\">Usage</h2>\n",
    "\n",
    "1. Make sure to select Input Materials (in the outer runtime) before running the notebook.\n",
    "1. Set notebook parameters in cell 1.1. below (or use the default values).\n",
    "1. Click “Run” > “Run All” to run all cells. \n",
    "1. Scroll down to view results. "
   ],
   "metadata": {
    "collapsed": false
   },
   "id": "bfcbf5c3f9adb668"
  },
  {
   "cell_type": "markdown",
   "source": [
    "## 1. Prepare the Environment\n",
    "### 1.1. Set up transformation parameters "
   ],
   "metadata": {
    "collapsed": false
   },
   "id": "e3702ff2a5270ce6"
  },
  {
   "cell_type": "code",
   "outputs": [],
   "source": [
    "XY_SUPERCELL_MATRIX = [\n",
    "    [5, 0], \n",
    "    [0, 5],\n",
    "] \n",
    "HEIGHT = 10\n",
    "MILLER_INDEX = (1,1,1)  # Miller index of the nanowire direction\n",
    "# Cylinder parameters in crystal units of supercell\n",
    "RADIUS = 0.25\n",
    "ALIGN_ALONG_X = True"
   ],
   "metadata": {
    "collapsed": false,
    "ExecuteTime": {
     "end_time": "2024-11-12T03:21:07.255774Z",
     "start_time": "2024-11-12T03:21:07.251761Z"
    }
   },
   "id": "e93f72e7c37dea10",
   "execution_count": 51
  },
  {
   "cell_type": "markdown",
   "source": [
    "### 1.2. Install Packages\n",
    "The step executes only in Pyodide environment. For other environments, the packages should be installed via `pip install` (see [README](../../README.ipynb))."
   ],
   "metadata": {
    "collapsed": false
   },
   "id": "9f3ffe460d75942f"
  },
  {
   "cell_type": "code",
   "outputs": [],
   "source": [
    "import sys\n",
    "\n",
    "if sys.platform == \"emscripten\":\n",
    "    import micropip\n",
    "  \n",
    "    await micropip.install('mat3ra-api-examples', deps=False)\n",
    "    from utils.jupyterlite import install_packages\n",
    "    await install_packages(\"\", \"../../config.yml\")"
   ],
   "metadata": {
    "collapsed": false,
    "ExecuteTime": {
     "end_time": "2024-11-12T03:21:07.267053Z",
     "start_time": "2024-11-12T03:21:07.263774Z"
    }
   },
   "id": "9eb0650f7183279c",
   "execution_count": 52
  },
  {
   "cell_type": "markdown",
   "source": [
    "### 1.3. Get input materials"
   ],
   "metadata": {
    "collapsed": false
   },
   "id": "f348991bf39a14e7"
  },
  {
   "cell_type": "code",
   "outputs": [
    {
     "name": "stdout",
     "output_type": "stream",
     "text": [
      "0: Data from 0-Ni has been read successfully.\n",
      "1: Data from 1-Graphene has been read successfully.\n",
      "2: Data from 10-Al2O3, Sapphire, RHL (R-3c) 3D (Bulk), mp-1143 (1) has been read successfully.\n",
      "3: Data from 11-ZnO, Zinc Oxide, HEX (P6_3mc) 3D (Bulk), mp-2133 has been read successfully.\n",
      "4: Data from 12-Cd4 Te4 has been read successfully.\n",
      "5: Data from 13-Si4 C4 has been read successfully.\n",
      "6: Data from 14-GaN, Gallium Nitride, HEX (P6_3mc) 3D (Bulk), mp-804 has been read successfully.\n",
      "7: Data from 15-WS2, Tungsten Disulfide, HEX (P-6m2) 2D (Monolayer), 2dm-3749 has been read successfully.\n",
      "8: Data from 16 - In4 P4 has been read successfully.\n",
      "9: Data from 4-Te2Mo has been read successfully.\n",
      "10: Data from 5-HfO2 has been read successfully.\n",
      "11: Data from 6-Ni4(110), termination Ni_Pmmm_2, Slab, Terrace, 1 steps, [2 0 0] has been read successfully.\n",
      "12: Data from 7-Ag4 has been read successfully.\n",
      "13: Data from 8-Si, Silicene, HEX (P-3m1) 2D (Monolayer), 2dm-5934 has been read successfully.\n",
      "14: Data from 9-GaAs, Gallium Arsenide, FCC (F-43m) 3D (Bulk), mp-2534 has been read successfully.\n",
      "15: Data from Ni, Nickel, FCC (Fm-3m) 3D (Bulk), mp-23 Cluster R=4.5A has been read successfully.\n",
      "16: Data from Ni, Nickel, FCC (Fm-3m) 3D (Bulk), mp-23 cluster has been read successfully.\n",
      "17: Data from Ni, Nickel, FCC (Fm-3m) 3D (Bulk), mp-23 has been read successfully.\n",
      "18: Data from Ni4(001), termination Ni_P4:mmm_2, Slab cluster has been read successfully.\n",
      "19: Data from Ni4(001), termination Ni_P4:mmm_2, Slab with box cutout has been read successfully.\n",
      "20: Data from Ni4(001), termination Ni_P4:mmm_2, Slab has been read successfully.\n",
      "21: Data from Ni4(111), termination Ni_P6:mmm_4, Slab, Adatom Ni Defect has been read successfully.\n",
      "22: Data from Ni4(111), termination Ni_P6:mmm_4, Slab, Adatom Si Defect has been read successfully.\n",
      "23: Data from S4W2(001), termination S_P6:mmm_1, Slab has been read successfully.\n",
      "24: Data from Si, Silicene, HEX (P-3m1) 2D (Monolayer), 2dm-5934 has been read successfully.\n",
      "25: Data from Si8(001), termination Si_P4:mmm_2, Slab has been read successfully.\n",
      "26: Data from Twisted Nanoribbon Interface (15.00°) has been read successfully.\n",
      "27: Data from Twisted Nanoribbon Interface (60.00°) has been read successfully.\n",
      "28: Data from WS2, Tungsten Disulfide, HEX (P6_3_mmc) 3D (Bulk), mp-224 has been read successfully.\n",
      "29: Data from rotated_basis 5 degrees has been read successfully.\n",
      "Retrieved 30 materials.\n"
     ]
    }
   ],
   "source": [
    "from mat3ra.made.material import Material\n",
    "from utils.jupyterlite import get_materials\n",
    "\n",
    "materials = get_materials(globals())\n",
    "material = Material(Material.default_config)"
   ],
   "metadata": {
    "collapsed": false,
    "ExecuteTime": {
     "end_time": "2024-11-12T03:21:07.364826Z",
     "start_time": "2024-11-12T03:21:07.296272Z"
    }
   },
   "id": "4b72580121ca40d0",
   "execution_count": 53
  },
  {
   "cell_type": "markdown",
   "source": [
    "### 1.4. Preview the material"
   ],
   "metadata": {
    "collapsed": false
   },
   "id": "aa183a2ac1a6993"
  },
  {
   "cell_type": "code",
   "outputs": [
    {
     "data": {
      "text/plain": "GridBox(children=(VBox(children=(Label(value='Si2 - Material - rotation: 0x', layout=Layout(align_self='center…",
      "application/vnd.jupyter.widget-view+json": {
       "version_major": 2,
       "version_minor": 0,
       "model_id": "b3eeababda004948b8dfe0b6c5432928"
      }
     },
     "metadata": {},
     "output_type": "display_data"
    },
    {
     "data": {
      "text/plain": "GridBox(children=(VBox(children=(Label(value='Si2 - Material - rotation: -90x', layout=Layout(align_self='cent…",
      "application/vnd.jupyter.widget-view+json": {
       "version_major": 2,
       "version_minor": 0,
       "model_id": "4c373252dd9c42ab87d51c3720b2f59e"
      }
     },
     "metadata": {},
     "output_type": "display_data"
    }
   ],
   "source": [
    "from utils.visualize import visualize_materials as visualize\n",
    "visualize(material, repetitions=[3,3,3], rotation=\"0x\")\n",
    "visualize(material, repetitions=[3,3,3], rotation=\"-90x\")"
   ],
   "metadata": {
    "collapsed": false,
    "ExecuteTime": {
     "end_time": "2024-11-12T03:21:07.638357Z",
     "start_time": "2024-11-12T03:21:07.367968Z"
    }
   },
   "id": "d3cba46f185c1a1b",
   "execution_count": 54
  },
  {
   "cell_type": "markdown",
   "source": [
    "## 2. Create nanowire\n",
    "### 2.1. Create a slab and cut a cylinder"
   ],
   "metadata": {
    "collapsed": false
   },
   "id": "ba9e20ebe63ffda7"
  },
  {
   "cell_type": "code",
   "outputs": [],
   "source": [
    "from mat3ra.made.tools.build.supercell import create_supercell\n",
    "from mat3ra.made.tools.modify import filter_by_cylinder\n",
    "from mat3ra.made.tools.build.slab import create_slab, SlabConfiguration\n",
    "\n",
    "slab_config = SlabConfiguration(\n",
    "    bulk=material,\n",
    "    miller_indices=MILLER_INDEX,\n",
    "    thickness=HEIGHT,\n",
    "    vacuum=0,\n",
    "    use_orthogonal_z=True,\n",
    "    xy_supercell_matrix=XY_SUPERCELL_MATRIX,\n",
    ")\n",
    "supercell = create_slab(slab_config)\n",
    "nanowire_z = filter_by_cylinder(supercell, radius=RADIUS)\n",
    "rotate_90_degree_matrix = [[0, 0, 1], [0, 1, 0], [-1, 0, 0]]\n",
    "nanowire_x = create_supercell(nanowire_z, supercell_matrix=rotate_90_degree_matrix)\n",
    "nanowire = nanowire_x if ALIGN_ALONG_X else nanowire_z"
   ],
   "metadata": {
    "collapsed": false,
    "ExecuteTime": {
     "end_time": "2024-11-12T03:21:09.698123Z",
     "start_time": "2024-11-12T03:21:07.640700Z"
    }
   },
   "id": "2795d5bdbbaafbe6",
   "execution_count": 55
  },
  {
   "cell_type": "markdown",
   "source": [
    "## 3. Visualize the result"
   ],
   "metadata": {
    "collapsed": false
   },
   "id": "d8f41816d0b48edc"
  },
  {
   "cell_type": "code",
   "outputs": [
    {
     "data": {
      "text/plain": "GridBox(children=(VBox(children=(Label(value='Si390 - Material - rotation: 0x', layout=Layout(align_self='cent…",
      "application/vnd.jupyter.widget-view+json": {
       "version_major": 2,
       "version_minor": 0,
       "model_id": "88ad3b0ef04d4a68a79395d0636764eb"
      }
     },
     "metadata": {},
     "output_type": "display_data"
    },
    {
     "data": {
      "text/plain": "GridBox(children=(VBox(children=(Label(value='Si390 - Material - rotation: -90x', layout=Layout(align_self='ce…",
      "application/vnd.jupyter.widget-view+json": {
       "version_major": 2,
       "version_minor": 0,
       "model_id": "a7b4d9341fe44babadc381a1b6f59795"
      }
     },
     "metadata": {},
     "output_type": "display_data"
    },
    {
     "data": {
      "text/plain": "GridBox(children=(VBox(children=(Label(value='Si390 - Material - rotation: -90y', layout=Layout(align_self='ce…",
      "application/vnd.jupyter.widget-view+json": {
       "version_major": 2,
       "version_minor": 0,
       "model_id": "1dd45272deb14c1fbc4a27ea74f353cd"
      }
     },
     "metadata": {},
     "output_type": "display_data"
    }
   ],
   "source": [
    "visualize(nanowire, repetitions=[1, 1, 1], rotation=\"0x\")\n",
    "visualize(nanowire, repetitions=[1, 1, 1], rotation=\"-90x\")\n",
    "visualize(nanowire, repetitions=[1, 1, 1], rotation=\"-90y\")"
   ],
   "metadata": {
    "collapsed": false,
    "ExecuteTime": {
     "end_time": "2024-11-12T03:21:10.881641Z",
     "start_time": "2024-11-12T03:21:09.701724Z"
    }
   },
   "id": "aea078560283ca95",
   "execution_count": 56
  },
  {
   "cell_type": "markdown",
   "source": [
    "# 4. Pass material to the outside runtime"
   ],
   "metadata": {
    "collapsed": false
   },
   "id": "a212abe25bf59b4f"
  },
  {
   "cell_type": "code",
   "outputs": [
    {
     "name": "stdout",
     "output_type": "stream",
     "text": [
      "Data for materials written to uploads/Si8(111), termination Si_P6:mmm_4, Slab.json\n"
     ]
    }
   ],
   "source": [
    "from utils.jupyterlite import set_materials\n",
    "set_materials(nanowire)"
   ],
   "metadata": {
    "collapsed": false,
    "ExecuteTime": {
     "end_time": "2024-11-12T03:21:10.903377Z",
     "start_time": "2024-11-12T03:21:10.884096Z"
    }
   },
   "id": "cdaf612bc6198546",
   "execution_count": 57
  }
 ],
 "metadata": {
  "kernelspec": {
   "display_name": "Python 3",
   "language": "python",
   "name": "python3"
  },
  "language_info": {
   "codemirror_mode": {
    "name": "ipython",
    "version": 2
   },
   "file_extension": ".py",
   "mimetype": "text/x-python",
   "name": "python",
   "nbconvert_exporter": "python",
   "pygments_lexer": "ipython2",
   "version": "2.7.6"
  }
 },
 "nbformat": 4,
 "nbformat_minor": 5
}
