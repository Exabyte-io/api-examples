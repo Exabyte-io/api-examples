{
 "cells": [
  {
   "cell_type": "markdown",
   "source": [
    " # Create a Twisted Interface with Commensurate Lattices\n",
    "\n",
    "Use commensurate lattice matching algorithm to create twisted interfaces between two materials.\n",
    "\n",
    "<h2 style=\"color:green\">Usage</h2>\n",
    "\n",
    "1. Make sure to select Input Materials (in the outer runtime) before running the notebook.\n",
    "1. Set notebook parameters in cell 1.1. below (or use the default values).\n",
    "1. Click \"Run\" > \"Run All\" to run all cells.\n",
    "1. Wait for the run to complete (depending on the parameters can take a few min).\n",
    "1. Scroll down to view results.\n",
    "\n",
    "## Summary\n",
    "\n",
    "1. Prepare the Environment: Set up the notebook and install packages, preview the input materials\n",
    "1. Create and visualize the initial materials\n",
    "1. Generate twisted interfaces with commensurate lattice matching\n",
    "1. Select the interface with the desired twist angle and visualize it\n",
    "\n",
    "## Notes\n",
    "\n",
    "1. We perform commensurate lattice matching to find valid supercells that achieve the desired twist angle.\n",
    "1. When the matching is finished, interfaces with angles close to the target are presented.\n",
    "1. The algorithm searches for supercell matrices within specified size limits.\n",
    "1. For more information, see [Introduction](Introduction.ipynb)\n"
   ],
   "metadata": {
    "collapsed": false
   },
   "id": "536d623ca076bbdd"
  },
  {
   "cell_type": "markdown",
   "source": [
    "## 1. Prepare the Environment\n",
    "### 1.1. Set up the notebook\n",
    "Set the following flags to control the notebook behavior\n"
   ],
   "metadata": {
    "collapsed": false
   },
   "id": "cc65bd914eecf844"
  },
  {
   "cell_type": "code",
   "outputs": [],
   "source": [
    "# Material selection and basic parameters\n",
    "FILM_INDEX = 0# Index in the list of materials, to access as materials[FILM_INDEX]\n",
    "SUBSTRATE_INDEX = None  # Can be None to use same material as film\n",
    "\n",
    "# Twisted interface parameters\n",
    "TARGET_TWIST_ANGLE = 17.9  # in degrees\n",
    "INTERFACE_DISTANCE = 3.0  # in Angstroms\n",
    "INTERFACE_VACUUM = 20.0  # in Angstroms\n",
    "\n",
    "# Search algorithm parameters\n",
    "MAX_REPETITION = 6  # Maximum supercell matrix element value\n",
    "ANGLE_TOLERANCE = 2.5  # in degrees\n",
    "RETURN_FIRST_MATCH = True  # If True, returns first solution within tolerance\n",
    "\n",
    "# Visualization parameters\n",
    "SHOW_INTERMEDIATE_STEPS = True\n",
    "VISUALIZE_REPETITIONS = [3, 3, 1]"
   ],
   "metadata": {
    "collapsed": false
   },
   "id": "be4987fdf0286ebb",
   "execution_count": null
  },
  {
   "cell_type": "markdown",
   "source": [
    "### 1.2. Install packages\n",
    "Explanation is [here](under_the_hood.ipynb#1.2.-Install-packages)."
   ],
   "metadata": {
    "collapsed": false
   },
   "id": "5ffda79fd5cad69"
  },
  {
   "cell_type": "code",
   "outputs": [],
   "source": [
    "import sys\n",
    "\n",
    "if sys.platform == \"emscripten\":\n",
    "    import micropip\n",
    "\n",
    "    await micropip.install('mat3ra-api-examples', deps=False)\n",
    "    from utils.jupyterlite import install_packages\n",
    "    await install_packages(\"\")"
   ],
   "metadata": {
    "collapsed": false
   },
   "id": "9f851434739f468a",
   "execution_count": null
  },
  {
   "cell_type": "markdown",
   "source": [
    "### 1.3. Load and preview input materials\n",
    "Explanation is [here](under_the_hood.ipynb#2.-Data-Exchange)."
   ],
   "metadata": {
    "collapsed": false
   },
   "id": "111e138010f911c"
  },
  {
   "cell_type": "code",
   "outputs": [],
   "source": [
    "from utils.jupyterlite import get_materials\n",
    "\n",
    "materials = get_materials(globals())"
   ],
   "metadata": {
    "collapsed": false
   },
   "id": "d3a815612098f191",
   "execution_count": null
  },
  {
   "cell_type": "markdown",
   "source": [
    " ## 2. Prepare Materials\n",
    " ### 2.1. Select and visualize initial materials"
   ],
   "metadata": {
    "collapsed": false
   },
   "id": "8a01e2ba7092ecbe"
  },
  {
   "cell_type": "code",
   "outputs": [],
   "source": [
    "from utils.visualize import visualize_materials\n",
    "\n",
    "film = materials[FILM_INDEX]\n",
    "substrate = materials[SUBSTRATE_INDEX] if SUBSTRATE_INDEX is not None else film\n",
    "\n",
    "if SHOW_INTERMEDIATE_STEPS:\n",
    "    visualize_materials(film, repetitions=VISUALIZE_REPETITIONS)\n",
    "    if substrate is not film:\n",
    "        visualize_materials(substrate, repetitions=VISUALIZE_REPETITIONS)"
   ],
   "metadata": {
    "collapsed": false
   },
   "id": "c920d29700ada27a",
   "execution_count": null
  },
  {
   "cell_type": "markdown",
   "source": [
    "## 3. Generate Twisted Interface\n",
    "### 3.1. Set up interface configuration and builder\n"
   ],
   "metadata": {
    "collapsed": false
   },
   "id": "ce38ef341148321"
  },
  {
   "cell_type": "code",
   "outputs": [],
   "source": [
    "from mat3ra.made.tools.build.interface.builders import CommensurateLatticeTwistedInterfaceBuilderParameters, \\\n",
    "    CommensurateLatticeTwistedInterfaceBuilder\n",
    "from mat3ra.made.tools.build.interface.configuration import TwistedInterfaceConfiguration\n",
    "\n",
    "config = TwistedInterfaceConfiguration(\n",
    "    film=film,\n",
    "    substrate=film,\n",
    "    twist_angle=TARGET_TWIST_ANGLE,\n",
    "    distance_z=INTERFACE_DISTANCE\n",
    ")\n",
    "\n",
    "params = CommensurateLatticeTwistedInterfaceBuilderParameters(\n",
    "    max_supercell_matrix_int=MAX_REPETITION,\n",
    "    angle_tolerance=ANGLE_TOLERANCE,\n",
    "    return_first_match=RETURN_FIRST_MATCH\n",
    ")\n",
    "\n",
    "builder = CommensurateLatticeTwistedInterfaceBuilder(build_parameters=params)"
   ],
   "metadata": {
    "collapsed": false
   },
   "id": "d48726a8e99c5590",
   "execution_count": null
  },
  {
   "cell_type": "markdown",
   "source": [
    "### 3.2. Generate and analyze interfaces\n"
   ],
   "metadata": {
    "collapsed": false
   },
   "id": "211084a2225f5e98"
  },
  {
   "cell_type": "code",
   "outputs": [],
   "source": [
    "from utils.plot import plot_twisted_interface_solutions\n",
    "\n",
    "interfaces = builder.get_materials(config)\n",
    "\n",
    "print(f\"\\nFound {len(interfaces)} possible interface(s)\")\n",
    "for i, interface in enumerate(interfaces):\n",
    "    actual_angle = interface.metadata.get(\"actual_twist_angle\", \"unknown\")\n",
    "    print(f\"\\nInterface {i+1}:\")\n",
    "    print(f\"Actual twist angle: {actual_angle}°\")\n",
    "    print(f\"Number of atoms: {len(interface.basis.elements.ids)}\")\n",
    "\n",
    "\n",
    "if len(interfaces) > 0:\n",
    "    plot_twisted_interface_solutions(interfaces)"
   ],
   "metadata": {
    "collapsed": false
   },
   "id": "51acc60bf57a26d5",
   "execution_count": null
  },
  {
   "cell_type": "markdown",
   "source": [
    "## 4. Preview the selected material\n",
    "By default, the first interface is selected. You can change the selection by changing the `selected_interface` index."
   ],
   "metadata": {
    "collapsed": false
   },
   "id": "370d3acc33cb8907"
  },
  {
   "cell_type": "code",
   "outputs": [],
   "source": [
    "selected_interface = interfaces[0]\n",
    "actual_angle = selected_interface.metadata.get(\"build\").get(\"configuration\").get(\"actual_twist_angle\")\n",
    "print(f\"Target angle: {TARGET_TWIST_ANGLE}°\")\n",
    "print(f\"Actual angle: {actual_angle}°\")\n",
    "print(f\"Number of atoms: {len(selected_interface.basis.elements.ids)}\")\n",
    "\n",
    "visualize_materials(selected_interface, repetitions=[1, 1, 1])\n",
    "visualize_materials(selected_interface, repetitions=[1, 1, 1], rotation=\"-90x\")"
   ],
   "metadata": {
    "collapsed": false
   },
   "id": "8fa34c8952f76602",
   "execution_count": null
  },
  {
   "cell_type": "markdown",
   "source": [
    "### 5. Pass data to the outside runtime\n"
   ],
   "metadata": {
    "collapsed": false
   },
   "id": "87b8655d47b47019"
  },
  {
   "cell_type": "code",
   "outputs": [],
   "source": [
    "from utils.jupyterlite import set_materials\n",
    "\n",
    "set_materials(selected_interface)"
   ],
   "metadata": {
    "collapsed": false
   },
   "id": "28bebacd2e299c2c",
   "execution_count": null
  }
 ],
 "metadata": {
  "kernelspec": {
   "display_name": "Python 3",
   "language": "python",
   "name": "python3"
  },
  "language_info": {
   "codemirror_mode": {
    "name": "ipython",
    "version": 2
   },
   "file_extension": ".py",
   "mimetype": "text/x-python",
   "name": "python",
   "nbconvert_exporter": "python",
   "pygments_lexer": "ipython2",
   "version": "2.7.6"
  }
 },
 "nbformat": 4,
 "nbformat_minor": 5
}
