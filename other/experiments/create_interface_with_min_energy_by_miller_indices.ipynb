{
 "cells": [
  {
   "cell_type": "markdown",
   "source": [
    "# Searching for the Optimal Interface between surface and 2D material\n",
    "\n",
    "This notebook helps identify the most energetically favorable interface between a crystalline surface and a two-dimensional (2D) material. This involves exploring various orientations and terminations of the surface to construct a corresponding matching supercell, relax it and determine which configuration minimizes the interface energy."
   ],
   "metadata": {
    "collapsed": false
   },
   "id": "74e3de6d0c368724"
  },
  {
   "cell_type": "markdown",
   "source": [
    "## 1. Set input parameters\n",
    "Set the maximum Miller indices for the substrate, and the settings for the interface, relaxation, and ZSL algorithm."
   ],
   "metadata": {
    "collapsed": false
   },
   "id": "2d22444f4359e875"
  },
  {
   "cell_type": "code",
   "outputs": [],
   "source": [
    "FILES = [\n",
    "    \"Ni.json\",\n",
    "    \"Gr.json\"\n",
    "]\n",
    "\n",
    "MAX_MILLER = {\n",
    "    \"H\": 1,\n",
    "    \"K\": 1,\n",
    "    \"L\": 1,\n",
    "    \"INCLUDE_NEGATIVE\": False\n",
    "}\n",
    "\n",
    "USE_CONVENTIONAL_CELL = True\n",
    "\n",
    "SETTINGS = {\n",
    "    \"SUBSTRATE_PARAMETERS\": {\n",
    "        \"MATERIAL_INDEX\": 0,  # the index of the material in the materials_in list\n",
    "        \"MILLER_INDICES\": (1, 1, 1),  # the miller indices of the interfacial plane, value will be updated in the loop\n",
    "        \"THICKNESS\": 3,  # in layers\n",
    "    },\n",
    "    \"LAYER_PARAMETERS\": {\n",
    "        \"MATERIAL_INDEX\": 1,  # the index of the material in the materials_in list\n",
    "        \"MILLER_INDICES\": (0, 0, 1),  # the miller indices of the 2D material, defaulted to (0, 0, 1)\n",
    "        \"THICKNESS\": 1,  # in layers\n",
    "    },\n",
    "    \"INTERFACE_PARAMETERS\": {\n",
    "        \"DISTANCE_Z\": 3.0,  # in Angstroms\n",
    "    },\n",
    "    \"ZSL_PARAMETERS\": {\n",
    "        \"MAX_AREA\": 100,  # The area to consider in Angstrom^2\n",
    "        \"MAX_AREA_TOL\": 0.09,  # The area within this tolerance is considered equal\n",
    "        \"MAX_LENGTH_TOL\": 0.03,  # supercell lattice vectors lengths within this tolerance are considered equal\n",
    "        \"MAX_ANGLE_TOL\": 0.01,  # supercell lattice angles within this tolerance are considered equal\n",
    "        \"STRAIN_TOL\": 10e-6,  # strains within this tolerance are considered equal\n",
    "    },\n",
    "    \"RELAXATION_PARAMETERS\": {\n",
    "        \"RELAXER\": \"BFGS\",  # The relaxation algorithm to use\n",
    "        \"CALCULATOR\": \"ALIGNN\",  # The calculator to use (EMT, ALIGNN, etc.)\n",
    "        \"FMAX\": 0.05,  # The maximum force allowed on each atom\n",
    "    }\n",
    "}\n"
   ],
   "metadata": {
    "collapsed": false
   },
   "id": "7cce99e103c0ccf2",
   "execution_count": null
  },
  {
   "cell_type": "markdown",
   "source": [
    "## 2. Definitions\n",
    "Functions definitions to create the interfaces, sort them, relax them, and calculate the effective delta energy."
   ],
   "metadata": {
    "collapsed": false
   },
   "id": "d94e94cb5a3f2508"
  },
  {
   "cell_type": "code",
   "outputs": [],
   "source": [
    "from src.pymatgen_coherent_interface_builder import CoherentInterfaceBuilder, ZSLGenerator\n",
    "from src.utils import ase_to_poscar, pymatgen_to_ase, to_pymatgen, get_interfacial_energy, get_adhesion_energy\n",
    "from ase.optimize import BFGS\n",
    "from ase.calculators.emt import EMT\n",
    "from alignn.ff.ff import AlignnAtomwiseCalculator as Calculator, default_path,  revised_path, wt1_path, wt01_path, wt10_path\n",
    "\n",
    "# Set up the calculator\n",
    "model_path = wt1_path()\n",
    "alignn_calculator = Calculator(path=model_path)\n",
    "\n",
    "# Type hinting\n",
    "from collections.abc import Sequence\n",
    "from ase.optimize.optimize import Optimizer\n",
    "from ase.calculators.calculator import Calculator\n",
    "from ase import Atoms\n",
    "from pymatgen.core import Structure\n",
    "\n",
    "OPTIMIZER_MAP = {\"BFGS\": BFGS}\n",
    "CALCULATOR_MAP = {\"EMT\": EMT(), \"ALIGNN\": alignn_calculator}\n",
    "\n",
    "\n",
    "def create_interfaces(materials: Sequence[Structure], settings):\n",
    "    \"\"\"Create interfaces for the given materials and settings.\"\"\"\n",
    "    print(\"Creating interfaces...\")\n",
    "    zsl = ZSLGenerator(\n",
    "        max_area_ratio_tol=settings[\"ZSL_PARAMETERS\"][\"MAX_AREA_TOL\"],\n",
    "        max_area=settings[\"ZSL_PARAMETERS\"][\"MAX_AREA\"],\n",
    "        max_length_tol=settings[\"ZSL_PARAMETERS\"][\"MAX_LENGTH_TOL\"],\n",
    "        max_angle_tol=settings[\"ZSL_PARAMETERS\"][\"MAX_ANGLE_TOL\"],\n",
    "    )\n",
    "\n",
    "    cib = CoherentInterfaceBuilder(\n",
    "        substrate_structure=materials[settings[\"SUBSTRATE_PARAMETERS\"][\"MATERIAL_INDEX\"]],\n",
    "        film_structure=materials[settings[\"LAYER_PARAMETERS\"][\"MATERIAL_INDEX\"]],\n",
    "        substrate_miller=settings[\"SUBSTRATE_PARAMETERS\"][\"MILLER_INDICES\"],\n",
    "        film_miller=settings[\"LAYER_PARAMETERS\"][\"MILLER_INDICES\"],\n",
    "        zslgen=zsl,\n",
    "        strain_tol=settings[\"ZSL_PARAMETERS\"][\"STRAIN_TOL\"],\n",
    "    )\n",
    "\n",
    "    # Find terminations\n",
    "    cib._find_terminations()\n",
    "    terminations = cib.terminations\n",
    "\n",
    "    # Create interfaces for each termination\n",
    "    interfaces = {}\n",
    "    for termination in terminations:\n",
    "        interfaces[termination] = []\n",
    "        for interface in cib.get_interfaces(\n",
    "                termination,\n",
    "                gap=settings[\"INTERFACE_PARAMETERS\"][\"DISTANCE_Z\"],\n",
    "                film_thickness=settings[\"LAYER_PARAMETERS\"][\"THICKNESS\"],\n",
    "                substrate_thickness=settings[\"SUBSTRATE_PARAMETERS\"][\"THICKNESS\"],\n",
    "                in_layers=True,\n",
    "        ):\n",
    "            # Wrap atoms to unit cell\n",
    "            interface[\"interface\"].make_supercell((1, 1, 1), to_unit_cell=True)\n",
    "            interfaces[termination].append(interface)\n",
    "    return interfaces, terminations\n",
    "\n",
    "\n",
    "# Sort interfaces by the specified strain mode and number of sites\n",
    "def sort_interfaces(interfaces: dict, terminations: list, strain_mode=\"mean_abs_strain\"):\n",
    "    sorted_interfaces = {}\n",
    "    for termination in terminations:\n",
    "        sorted_interfaces[termination] = sorted(\n",
    "            interfaces[termination], key=lambda x: (x[strain_mode], x[\"interface\"].num_sites)\n",
    "        )\n",
    "    return sorted_interfaces\n",
    "\n",
    "\n",
    "def relax_structure(atoms: Atoms, optimizer: Optimizer, calculator: Calculator, fmax: float=0.05, verbose: bool = False):\n",
    "    # Set up the interface for relaxation\n",
    "    ase_structure = atoms.copy()\n",
    "    ase_structure.set_calculator(calculator)\n",
    "    dyn = optimizer(ase_structure)\n",
    "    dyn.run(fmax=fmax)\n",
    "\n",
    "    # Extract results\n",
    "    ase_original_structure = atoms\n",
    "    ase_original_structure.set_calculator(calculator)\n",
    "    ase_final_structure = ase_structure\n",
    "    relaxed_energy = ase_structure.get_total_energy()\n",
    "\n",
    "    # Print out the final relaxed structure and energy\n",
    "    if verbose:\n",
    "        print('Original structure:\\n', ase_to_poscar(ase_original_structure))\n",
    "        print('\\nRelaxed structure:\\n', ase_to_poscar(ase_final_structure))\n",
    "        print(f\"The final energy is {float(relaxed_energy):.3f} eV.\")\n",
    "\n",
    "    return ase_final_structure, relaxed_energy\n",
    "\n",
    "\n",
    "def filter_atoms_by_tag(atoms: Atoms, material_index: int):\n",
    "    \"\"\"Filter atoms by their tag, corresponding to the material index.\"\"\"\n",
    "    return atoms[atoms.get_tags() == material_index]\n",
    "\n",
    "\n",
    "def create_relaxed_interface_with_min_strain(materials: Sequence[Structure], settings: dict, optimizer: Optimizer,\n",
    "                                             calculator: Calculator):\n",
    "    \"\"\"Creates an interface with minimal strain using ZSL and relaxes it using specified optimizer and calculator.\"\"\"\n",
    "    interfaces, terminations = create_interfaces(\n",
    "        materials=materials,\n",
    "        settings=settings\n",
    "    )\n",
    "    sorted_interfaces = sort_interfaces(interfaces, terminations)\n",
    "    # TODO: try for every termination\n",
    "    termination_index = 0\n",
    "    interface_index = 0\n",
    "    termination = terminations[termination_index]\n",
    "    interface = sorted_interfaces[termination][interface_index][\"interface\"]\n",
    "\n",
    "    ase_original_interface = pymatgen_to_ase(interface)\n",
    "    ase_final_interface, relaxed_energy = relax_structure(\n",
    "        atoms=ase_original_interface,\n",
    "        optimizer=optimizer,\n",
    "        calculator=calculator,\n",
    "        fmax=settings[\"RELAXATION_PARAMETERS\"][\"FMAX\"],\n",
    "        verbose=True  # Assuming you want to print details\n",
    "    )\n",
    "\n",
    "    ase_substrate = filter_atoms_by_tag(ase_original_interface, settings[\"SUBSTRATE_PARAMETERS\"][\"MATERIAL_INDEX\"])\n",
    "    ase_layer = filter_atoms_by_tag(ase_original_interface, settings[\"LAYER_PARAMETERS\"][\"MATERIAL_INDEX\"])\n",
    "    ase_substrate_bulk = pymatgen_to_ase(materials[settings[\"SUBSTRATE_PARAMETERS\"][\"MATERIAL_INDEX\"]])\n",
    "    ase_layer_bulk = pymatgen_to_ase(materials[settings[\"LAYER_PARAMETERS\"][\"MATERIAL_INDEX\"]])\n",
    "\n",
    "    adhesion_energy = get_adhesion_energy(\n",
    "        ase_final_interface,\n",
    "        ase_substrate,\n",
    "        ase_layer,\n",
    "        calculator\n",
    "    )\n",
    "    \n",
    "    interfacial_energy = get_interfacial_energy(\n",
    "        ase_final_interface,\n",
    "        ase_substrate,\n",
    "        ase_substrate_bulk,\n",
    "        ase_layer,\n",
    "        ase_layer_bulk,\n",
    "        calculator\n",
    "    )\n",
    "\n",
    "    return ase_final_interface, relaxed_energy, adhesion_energy, interfacial_energy"
   ],
   "metadata": {
    "collapsed": false
   },
   "id": "77e891e3901c8113",
   "execution_count": null
  },
  {
   "cell_type": "markdown",
   "source": [
    "## 3. Import materials\n",
    "From the `uploads` folder, import the materials in ESSE format to be used in the analysis."
   ],
   "metadata": {
    "collapsed": false
   },
   "id": "996fc011f4214cfb"
  },
  {
   "cell_type": "code",
   "outputs": [],
   "source": [
    "import os\n",
    "import json\n",
    "from pymatgen.symmetry.analyzer import SpacegroupAnalyzer\n",
    "materials_in = []\n",
    "current_folder = os.getcwd()\n",
    "input_folder = \"uploads\"\n",
    "for file in FILES:\n",
    "    with open(f\"{current_folder}/{input_folder}/{file}\", \"r\") as f:\n",
    "        data = f.read()\n",
    "        materials_in.append(json.loads(data))\n",
    "\n",
    "if \"materials_in\" in globals():\n",
    "    pymatgen_materials = [to_pymatgen(item) for item in materials_in]\n",
    "    if USE_CONVENTIONAL_CELL : pymatgen_materials = [SpacegroupAnalyzer(item).get_conventional_standard_structure() for item in pymatgen_materials]\n",
    "for material in pymatgen_materials:\n",
    "    print(material, \"\\n\")\n"
   ],
   "metadata": {
    "collapsed": false
   },
   "id": "5770b40e24bfaf2d",
   "execution_count": null
  },
  {
   "cell_type": "markdown",
   "source": [
    "## 4. Create relaxed interfaces with minimal energy among surfaces with different Miller indices\n",
    "Cycle through HKL indices to create all matching interfaces with minimal strain"
   ],
   "metadata": {
    "collapsed": false
   },
   "id": "f5d897cb80972c79"
  },
  {
   "cell_type": "code",
   "outputs": [],
   "source": [
    "optimizer = OPTIMIZER_MAP[SETTINGS[\"RELAXATION_PARAMETERS\"][\"RELAXER\"]]\n",
    "calculator = CALCULATOR_MAP[SETTINGS[\"RELAXATION_PARAMETERS\"][\"CALCULATOR\"]]\n",
    "\n",
    "results = []\n",
    "\n",
    "if MAX_MILLER[\"INCLUDE_NEGATIVE\"]:\n",
    "    range_start = -MAX_MILLER[\"H\"]\n",
    "else:\n",
    "    range_start = 0\n",
    "\n",
    "for h in range(range_start, MAX_MILLER[\"H\"] + 1):\n",
    "    for k in range(range_start, MAX_MILLER[\"K\"] + 1):\n",
    "        for l in range(range_start, MAX_MILLER[\"L\"] + 1):\n",
    "            if h == 0 and k == 0 and l == 0:\n",
    "                continue\n",
    "            SETTINGS[\"SUBSTRATE_PARAMETERS\"][\"MILLER_INDICES\"] = (h, k, l)\n",
    "\n",
    "            print(\n",
    "                f\"Creating interface for substrate ({h},{k},{l}) and layer {SETTINGS['LAYER_PARAMETERS']['MILLER_INDICES']}\")\n",
    "            interface, relaxed_energy, adhesion_energy, interface_energy = create_relaxed_interface_with_min_strain(\n",
    "                materials=pymatgen_materials,\n",
    "                settings=SETTINGS,\n",
    "                optimizer=optimizer,\n",
    "                calculator=calculator\n",
    "            )\n",
    "            print(f\"Interfacial energy: {interface_energy:.3f} eV/Å^2 ({interface_energy / 0.16:.3f} J/m^2)\")\n",
    "            results.append([(h, k, l), adhesion_energy, interface_energy, interface])\n"
   ],
   "metadata": {
    "collapsed": false
   },
   "id": "9e9c47731980e1c",
   "execution_count": null
  },
  {
   "cell_type": "markdown",
   "source": [
    "## 5. Plot the results"
   ],
   "metadata": {
    "collapsed": false
   },
   "id": "7614ff1b62f13a60"
  },
  {
   "cell_type": "code",
   "outputs": [],
   "source": [
    "%matplotlib inline\n",
    "import matplotlib.pyplot as plt\n",
    "\n",
    "# Function to format the Miller indices with a bar above negative numbers\n",
    "def format_miller_index(h, k, l):\n",
    "    return ''.join(f\"{abs(index)}\" + ('\\u0305' if int(index) < 0 else '') for index in [h, k, l])\n",
    "\n",
    "x = [format_miller_index(h, k, l) for h, k, l in [item[0] for item in results]]\n",
    "y = [item[1] for item in results]\n",
    "plt.bar(x, y)\n",
    "plt.xlabel(\"Miller indices\")\n",
    "plt.ylabel(\"Interfacial energy (eV/Å^2)\")\n",
    "plt.title(\"Interfacial energy as a function of Miller indices\")\n",
    "\n",
    "fig = plt.gcf()\n",
    "fig.set_size_inches(15, 5)\n",
    "plt.show()"
   ],
   "metadata": {
    "collapsed": false
   },
   "id": "69cf7bdc68d28661",
   "execution_count": null
  },
  {
   "cell_type": "markdown",
   "source": [
    "\n",
    "# 6. Return the most optimal interface"
   ],
   "metadata": {
    "collapsed": false
   },
   "id": "1a12a1c842e10baf"
  },
  {
   "cell_type": "code",
   "outputs": [],
   "source": [
    "# Find the most optimal interface\n",
    "most_optimal_index = y.index(min(y))\n",
    "most_optimal_miller_indices = x[most_optimal_index]\n",
    "most_optimal_delta_energy = y[most_optimal_index]\n",
    "ase_final_interface = results[most_optimal_index][2]\n",
    "print(f\"The most optimal interface is ({most_optimal_miller_indices}) with the interfacial energy of {most_optimal_delta_energy:.3f} eV/Å^2 ({most_optimal_delta_energy / 0.16:.3f} J/m^2)\")"
   ],
   "metadata": {
    "collapsed": false
   },
   "id": "7c51c235b625e993",
   "execution_count": null
  },
  {
   "cell_type": "markdown",
   "source": [
    "# 7. Visualize the interface"
   ],
   "metadata": {
    "collapsed": false
   },
   "id": "5d48d8e2659d0ca0"
  },
  {
   "cell_type": "code",
   "outputs": [],
   "source": [
    "from ase.visualize import view\n",
    "from src.utils import calculate_average_interlayer_distance\n",
    "\n",
    "print(f\"The average interlayer distance: {calculate_average_interlayer_distance(ase_final_interface,0,1):.3f} Å.\")\n",
    "view(ase_final_interface*[3,3,1])"
   ],
   "metadata": {
    "collapsed": false
   },
   "id": "715468ba73e0502e",
   "execution_count": null
  },
  {
   "cell_type": "code",
   "outputs": [],
   "source": [],
   "metadata": {
    "collapsed": false
   },
   "id": "68f5b910e8c8b593",
   "execution_count": null
  }
 ],
 "metadata": {
  "kernelspec": {
   "display_name": "Python 3",
   "language": "python",
   "name": "python3"
  },
  "language_info": {
   "codemirror_mode": {
    "name": "ipython",
    "version": 2
   },
   "file_extension": ".py",
   "mimetype": "text/x-python",
   "name": "python",
   "nbconvert_exporter": "python",
   "pygments_lexer": "ipython2",
   "version": "2.7.6"
  }
 },
 "nbformat": 4,
 "nbformat_minor": 5
}
