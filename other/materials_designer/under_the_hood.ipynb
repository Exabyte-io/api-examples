{
 "cells": [
  {
   "cell_type": "markdown",
   "metadata": {
    "pycharm": {
     "name": "#%% md\n"
    }
   },
   "source": [
    "# Under the hood.\n",
    "\n",
    "## 1. Data Exchange.\n",
    "### 1.1. Passing Data to and from the Outside Runtime.\n",
    "The data is passed in *from* and *back to* the outside runtime (e.g. web application) using the `get_data` and `set_data` [helpers](../../utils/jupyterlite.py). The `get_data` function is used to retrieve the data from the outside runtime, while the `set_data` function is used to send the data back to the outside runtime.\n",
    "\n",
    "### 1.2. Uploads Folder.\n",
    "The **\"uploads\"** folder is used to exchange files between different notebooks when a user uploads a file, or when the notebook generates a file as part of its output.\n",
    "\n",
    "### 1.3. Passing Data between notebooks.\n",
    "When running JupyterLab (Python) locally, the files only get stored in the \"uploads\" folder and are not sent to the outside runtime. In JupyterLite (Pyodide) environment, the files are sent to the outside runtime and stored in the \"uploads\" folder.\n",
    "\n",
    "\n",
    "## 2. Specific Considerations.\n",
    "\n",
    "### 2.1. Interface creation.\n",
    "\n",
    "The following conventions are used in the interface creation examples:\n",
    "\n",
    "3. We assume that two input materials are either in bulk form (e.g. Ni crystal) or layered (e.g. graphene).\n",
    "1. We construct the interface along the Z-axis. The material corresponding to the bottom of the interface is referred to as the \"**substrate**\", and the top - as the \"**film**\"."
   ]
  }
 ],
 "metadata": {
  "language_info": {
   "name": "python"
  },
  "kernelspec": {
   "name": "python3",
   "language": "python",
   "display_name": "Python 3 (ipykernel)"
  }
 },
 "nbformat": 4,
 "nbformat_minor": 2
}