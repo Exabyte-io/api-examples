{
 "cells": [
  {
   "cell_type": "markdown",
   "metadata": {
    "id": "y_SM_JBc9vrV"
   },
   "source": [
    "<a href=\"https://colab.research.google.com/github/Exabyte-io/exabyte-api-examples/blob/dev/examples/material/import_materials_from_materialsproject.ipynb\" target=\"_parent\">\n",
    "<img alt=\"Open in Google Colab\" src=\"https://user-images.githubusercontent.com/20477508/128780728-491fea90-9b23-495f-a091-11681150db37.jpeg\" width=\"150\" border=\"0\">\n",
    "</a>"
   ]
  },
  {
   "cell_type": "markdown",
   "metadata": {
    "id": "amffxwKY9vrX"
   },
   "source": [
    "# Overview\n",
    "\n",
    "This example demonstrates how to import materials from the materials project database via [Material](https://docs.exabyte.io/api/Material/post_materials_import) endpoint."
   ]
  },
  {
   "cell_type": "markdown",
   "metadata": {
    "id": "c-nHvPSy9vrY"
   },
   "source": [
    "# Complete Authorization Form and Initialize Settings\n",
    "\n",
    "The following environment variables need to be set:\n",
    "\n",
    "ACCOUNT_ID and AUTH_TOKEN - Authentication parameters needed for when making requests to [Exabyte.io's API Endpoints](https://docs.exabyte.io/rest-api/endpoints/).\n",
    "\n",
    "MATERIALS_PROJECT_API_KEY - Authentication parameter needed for when making requests to [Material Project's API](https://materialsproject.org/open)\n",
    "\n",
    "ORGANIZATION_ID - Authentication parameter needed for when working with collaborative accounts https://docs.exabyte.io/collaboration/organizations/overview/"
   ]
  },
  {
   "cell_type": "code",
   "execution_count": null,
   "metadata": {
    "cellView": "form",
    "id": "6KqWoLdv9vrY"
   },
   "outputs": [],
   "source": [
    "#@title Authorization Form\n",
    "ACCOUNT_ID = \"ACCOUNT_ID\" #@param {type:\"string\"}\n",
    "AUTH_TOKEN = \"AUTH_TOKEN\" #@param {type:\"string\"}\n",
    "MATERIALS_PROJECT_API_KEY = \"MATERIALS_PROJECT_API_KEY\" #@param {type:\"string\"}\n",
    "ORGANIZATION_ID  = \"ORGANIZATION_ID\" #@param {type:\"string\"}"
   ]
  },
  {
   "cell_type": "code",
   "execution_count": null,
   "metadata": {},
   "outputs": [],
   "source": [
    "from exabyte_api_examples_utils.enum import (\n",
    "    HOST,\n",
    "    PORT,\n",
    "    VERSION,\n",
    "    SECURE,\n",
    ")\n",
    "\n",
    "ENDPOINT_ARGS = [HOST, PORT, ACCOUNT_ID, AUTH_TOKEN, VERSION, SECURE]"
   ]
  },
  {
   "cell_type": "markdown",
   "metadata": {
    "id": "5wAnsWE-9vrZ"
   },
   "source": [
    "# Imports"
   ]
  },
  {
   "cell_type": "code",
   "execution_count": null,
   "metadata": {
    "id": "e9EGeIkg9vrZ"
   },
   "outputs": [],
   "source": [
    "from exabyte_api_examples_utils.generic import display_JSON\n",
    "from exabyte_api_client.endpoints.materials import MaterialEndpoints"
   ]
  },
  {
   "cell_type": "markdown",
   "metadata": {
    "id": "C2Dxa1qZ9vra"
   },
   "source": [
    "## Set Parameters\n",
    "\n",
    "- **MATERIALS_PROJECT_IDS**: a list of material IDs to be imported\n",
    "\n",
    "- **TAGS**: a list of [tags](https://docs.exabyte.io/entities-general/data/#tags) to assign to imported materials"
   ]
  },
  {
   "cell_type": "code",
   "execution_count": null,
   "metadata": {
    "id": "6xpZA6M_9vra"
   },
   "outputs": [],
   "source": [
    "MATERIALS_PROJECT_IDS = [\"mp-978534\", \"mp-1096549\"]\n",
    "TAGS = [\"tag1\", \"tag2\"]"
   ]
  },
  {
   "cell_type": "markdown",
   "metadata": {
    "id": "11YzfvYk9vrb"
   },
   "source": [
    "## Import materials\n",
    "\n",
    "Initialize `MaterialEndpoints` class and call `import_from_materialsproject` function to import materials."
   ]
  },
  {
   "cell_type": "code",
   "execution_count": null,
   "metadata": {
    "id": "Ar05ANgq9vrb"
   },
   "outputs": [],
   "source": [
    "endpoint = MaterialEndpoints(*ENDPOINT_ARGS)\n",
    "materials = endpoint.import_from_materialsproject(MATERIALS_PROJECT_API_KEY, MATERIALS_PROJECT_IDS, tags=TAGS)"
   ]
  },
  {
   "cell_type": "markdown",
   "metadata": {
    "id": "DPMW1MDy9vrc"
   },
   "source": [
    "## Print imported materials\n",
    "\n",
    "Print the list of imported materials in pretty JSON below."
   ]
  },
  {
   "cell_type": "code",
   "execution_count": null,
   "metadata": {
    "id": "n7WgbbkJ9vrc"
   },
   "outputs": [],
   "source": [
    "display_JSON(materials)"
   ]
  }
 ],
 "metadata": {
  "colab": {
   "name": "import_materials_from_materialsproject.ipynb",
   "provenance": []
  },
  "kernelspec": {
   "display_name": "Python 3",
   "language": "python",
   "name": "python3"
  },
  "language_info": {
   "codemirror_mode": {
    "name": "ipython",
    "version": 3
   },
   "file_extension": ".py",
   "mimetype": "text/x-python",
   "name": "python",
   "nbconvert_exporter": "python",
   "pygments_lexer": "ipython3",
   "version": "3.8.12"
  }
 },
 "nbformat": 4,
 "nbformat_minor": 1
}
