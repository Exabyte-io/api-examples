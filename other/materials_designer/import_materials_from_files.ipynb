{
 "cells": [
  {
   "cell_type": "markdown",
   "id": "826fcc4c",
   "metadata": {},
   "source": [
    "# Import materials from files in multiple formats (CIF, POSCAR, etc.)\n",
    "\n",
    "This notebook uses ASE python package to extract structural information from files in multiple formats (CIF, POSCAR, etc., as supported by ASE). Some formats, like `espresso-in` and `espresso-out` can be inferred from the file content.\n",
    "\n",
    "<h2 style=\"color:green\">Usage</h2>\n",
    "\n",
    "1. Upload files to `uploads` folder: open (double-click) the folder in the left sidebar, then click \"Upload\" and select the files to upload or just drag-and-drop files onto the sidebar.\n",
    "1. Click \"Run\" > \"Run All Cells\" to run all cells\n",
    "1. In case of format detection error, please correct the file format extension and try again\n",
    "\n",
    "## Methodology\n",
    "\n",
    "The following happens in the script below:\n",
    "\n",
    "1. Install the required packages\n",
    "1. The files are extracted from `user_uploads` folder assuming their extensions represent the format - e.g. `SiO2.poscar`.\n",
    "1. Structural information is read from files into ASE Atoms objects.\n",
    "1. ASE Atoms objects are converted to `poscar` format \n",
    "1. `poscar` structures are converted to ESSE\n",
    "1. The results are passed to the outside runtime"
   ]
  },
  {
   "cell_type": "markdown",
   "id": "4299768d",
   "metadata": {},
   "source": [
    "## 1. Set Parameters"
   ]
  },
  {
   "cell_type": "code",
   "id": "9c1f4e9e",
   "metadata": {},
   "source": [
    "# Upload files to this folder\n",
    "FOLDER_PATH = \"./uploads\"\n",
    "# Attempt to guess the format from file extension\n",
    "# If set to specific format, it will only accept that format\n",
    "ENFORCED_FORMAT = None\n",
    "# If set to true, the file extension will be included in the resulting material name\n",
    "USE_FILE_NAME_NO_EXTENSION = False\n",
    "# If set to true, the supported formats will be printed below\n",
    "SHOW_SUPPORTED_FORMATS = False"
   ],
   "outputs": [],
   "execution_count": null
  },
  {
   "cell_type": "markdown",
   "id": "8b00ab6854f2263b",
   "metadata": {},
   "source": [
    "## 2. Install Packages"
   ]
  },
  {
   "cell_type": "code",
   "id": "ef2b38a5-de7e-419e-b605-110e9e0095f5",
   "metadata": {
    "trusted": true
   },
   "source": [
    "import sys\n",
    "if sys.platform == \"emscripten\":\n",
    "    import micropip\n",
    "    await micropip.install('mat3ra-api-examples', deps=False)\n",
    "    from utils.jupyterlite import install_packages\n",
    "    await install_packages(\"import_materials_from_files.ipynb\")"
   ],
   "outputs": [],
   "execution_count": null
  },
  {
   "cell_type": "markdown",
   "id": "f418c51a7f794f9f",
   "metadata": {},
   "source": [
    "## 3. Data Processing\n",
    "\n",
    "### 3.1. Read data from files"
   ]
  },
  {
   "cell_type": "code",
   "id": "b1ee775d1476f884",
   "metadata": {
    "collapsed": false,
    "trusted": true
   },
   "source": [
    "import os\n",
    "from pathlib import Path\n",
    "from ase.io import read\n",
    "\n",
    "materials = []\n",
    "unreadable_files = []\n",
    "file_names = os.listdir(FOLDER_PATH)\n",
    "\n",
    "for file_name in file_names:\n",
    "    file_path = os.path.join(FOLDER_PATH, file_name)\n",
    "    try:\n",
    "        atoms = read(file_path, format=ENFORCED_FORMAT)\n",
    "\n",
    "        atoms.info[\"file_name\"] = Path(file_name).stem if USE_FILE_NAME_NO_EXTENSION else file_name\n",
    "        materials.append(atoms)\n",
    "        \n",
    "    except Exception as e:\n",
    "        print(e)\n",
    "        unreadable_files.append(file_name)\n",
    "        continue"
   ],
   "outputs": [],
   "execution_count": null
  },
  {
   "cell_type": "markdown",
   "id": "57b0d358",
   "metadata": {},
   "source": [
    "### 3.2. Preview the data"
   ]
  },
  {
   "cell_type": "code",
   "id": "0e34472a",
   "metadata": {},
   "source": [
    "print(f\"Successfully read {len(materials)} files\")\n",
    "print(f\"Unreadable files: {unreadable_files}. \")\n"
   ],
   "outputs": [],
   "execution_count": null
  },
  {
   "cell_type": "markdown",
   "id": "15fe5f9de299c935",
   "metadata": {},
   "source": [
    "### 3.3. Troubleshoot data"
   ]
  },
  {
   "cell_type": "code",
   "id": "a771a36a",
   "metadata": {},
   "source": [
    "# Uncomment to see the list of supported formats and their file extensions\n",
    "from ase.io.formats import ioformats\n",
    "import pandas as pd\n",
    "\n",
    "if len(unreadable_files) > 0 or SHOW_SUPPORTED_FORMATS:\n",
    "    print(f\"Unreadable files found: {unreadable_files}. See formats/extensions below.\")\n",
    "    data = [[frmt.name, frmt.extensions, frmt.description] for frmt in ioformats.values()]\n",
    "    dataframe = pd.DataFrame(data, columns=[\"Format Name\", \"File Extensions\", \"Description\"])\n",
    "    print(dataframe.to_markdown())"
   ],
   "outputs": [],
   "execution_count": null
  },
  {
   "cell_type": "markdown",
   "id": "ef5f9e9d",
   "metadata": {},
   "source": [
    "### 3.4. Convert to ESSE format"
   ]
  },
  {
   "cell_type": "code",
   "id": "c41fb68c6d25fe48",
   "metadata": {
    "collapsed": false,
    "trusted": true
   },
   "source": [
    "import io\n",
    "from ase import Atoms\n",
    "from ase.io import write\n",
    "from express import ExPrESS\n",
    "\n",
    "def ase_to_poscar(atoms: Atoms):\n",
    "    \"\"\"\n",
    "    Converts ase.Atoms object to POSCAR format\n",
    "\n",
    "    Args:\n",
    "        atoms (ase.Atoms): ase.Atoms object\n",
    "\n",
    "    Returns:\n",
    "        str: POSCAR string\n",
    "    \"\"\"\n",
    "    output = io.StringIO()\n",
    "    write(output, atoms, format=\"vasp\")\n",
    "    content = output.getvalue()\n",
    "    output.close()\n",
    "\n",
    "    return content\n",
    "\n",
    "def convert_ase_entry_to_esse(ase_entry):\n",
    "    poscar = ase_to_poscar(ase_entry)\n",
    "    kwargs = {\n",
    "        \"structure_string\": poscar,\n",
    "        \"structure_format\": \"poscar\"\n",
    "    }\n",
    "\n",
    "    handler = ExPrESS(\"structure\", **kwargs)\n",
    "    esse = handler.property(\"material\", **kwargs)\n",
    "    \n",
    "    esse[\"name\"] = ase_entry.info[\"file_name\"]\n",
    "    \n",
    "    return esse\n",
    "\n",
    "esse_entries = list(map(convert_ase_entry_to_esse, materials))"
   ],
   "outputs": [],
   "execution_count": null
  },
  {
   "cell_type": "markdown",
   "id": "8770ec48",
   "metadata": {},
   "source": [
    "### 3.5. Preview the data"
   ]
  },
  {
   "cell_type": "code",
   "id": "860b5c1b",
   "metadata": {},
   "source": [
    "from utils.visualize import visualize_materials\n",
    "from mat3ra.made.material import Material\n",
    "\n",
    "materials = [Material(esse_entry) for esse_entry in esse_entries]\n",
    "\n",
    "visualize_materials(materials)"
   ],
   "outputs": [],
   "execution_count": null
  },
  {
   "cell_type": "markdown",
   "id": "a4a48479c7ea090f",
   "metadata": {},
   "source": [
    "## 4. Pass data to the outside runtime"
   ]
  },
  {
   "cell_type": "code",
   "id": "00b187ab",
   "metadata": {},
   "source": [
    "from utils.jupyterlite import set_materials\n",
    "\n",
    "set_materials(materials)"
   ],
   "outputs": [],
   "execution_count": null
  }
 ],
 "metadata": {
  "kernelspec": {
   "display_name": ".venv",
   "language": "python",
   "name": "python3"
  },
  "language_info": {
   "codemirror_mode": {
    "name": "ipython",
    "version": 3
   },
   "file_extension": ".py",
   "mimetype": "text/x-python",
   "name": "python",
   "nbconvert_exporter": "python",
   "pygments_lexer": "ipython3",
   "version": "3.10.12"
  },
  "widgets": {
   "application/vnd.jupyter.widget-state+json": {
    "state": {},
    "version_major": 2,
    "version_minor": 0
   }
  }
 },
 "nbformat": 4,
 "nbformat_minor": 5
}
