version https://git-lfs.github.com/spec/v1
oid sha256:5392cd150430c44ed6e2c9869b6b072083d8ad906f31784f4ea00e0b17a35822
size 40112
