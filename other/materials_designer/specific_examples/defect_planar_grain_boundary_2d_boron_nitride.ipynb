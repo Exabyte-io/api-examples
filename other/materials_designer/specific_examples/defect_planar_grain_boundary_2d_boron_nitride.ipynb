{
 "cells": [
  {
   "cell_type": "markdown",
   "id": "415ed707e27a6c8e",
   "metadata": {
    "collapsed": false
   },
   "source": [
    "# A 2D grain boundary in Boron Nitride\n",
    "\n",
    "## 0. Introduction\n",
    "\n",
    "This notebook demonstrates how to generate a 2D grain boundary in Boron Nitride, following the example in the manuscript:\n",
    "\n",
    "> **Qiucheng Li, Xiaolong Zou, Mengxi Liu, Jingyu Sun, Yabo Gao, Yue Qi, Xiebo Zhou, Boris I. Yakobson, Yanfeng Zhang, and Zhongfan Liu**\n",
    "> \"Grain Boundary Structures and Electronic Properties of Hexagonal Boron Nitride on Cu(111)\"\n",
    "> *ACS Nano* **2015** 9 (6), 6308-6315\n",
    "> [DOI: 10.1021/acs.nanolett.5b01852](https://doi.org/10.1021/acs.nanolett.5b01852)\n",
    "\n",
    "Reproducing the material from Figure 2. c:\n",
    "\n",
    "<img src=\"https://github.com/Exabyte-io/documentation/raw/12617167278ae3523adc028583b21ea4e8ebd197/images/tutorials/materials/defects/defect_planar_grain_boundary_2d_boron_nitride/0-figure-from-manuscript.webp\" alt=\"Grain Boundary in Boron Nitride\" width=\"400\"/>"
   ]
  },
  {
   "cell_type": "markdown",
   "id": "a080006df3785cc5",
   "metadata": {
    "collapsed": false
   },
   "source": [
    "## 1. Prepare the Environment\n",
    "### 1.1. Set up the notebook\n",
    "Set the following flags to control the notebook behavior.\n"
   ]
  },
  {
   "cell_type": "code",
   "id": "338ee3c51155e086",
   "metadata": {
    "collapsed": false
   },
   "source": [
    "# Material selection\n",
    "MATERIAL_NAME = \"Boron_Nitride\"  # Name of the material to import from Standata\n",
    "\n",
    "# Grain boundary parameters\n",
    "TARGET_TWIST_ANGLE = 9.0  # in degrees\n",
    "BOUNDARY_GAP = 0.0  # Gap between two orientations in X direction, in Angstroms\n",
    "OVERLAP_TOLERANCE = 0.8  # Tolerance to remove overlapping atoms, in Angstroms\n",
    "\n",
    "# Search algorithm parameters\n",
    "MAX_REPETITION = None  # Maximum supercell matrix element value\n",
    "ANGLE_TOLERANCE = 0.5  # in degrees\n",
    "RETURN_FIRST_MATCH = True  # If True, returns first solution within tolerance\n",
    "\n",
    "# Visualization parameters\n",
    "SHOW_INTERMEDIATE_STEPS = True\n",
    "CELL_REPETITIONS_FOR_VISUALIZATION = [3, 3, 1]"
   ],
   "outputs": [],
   "execution_count": null
  },
  {
   "cell_type": "markdown",
   "id": "6463f9bbcd3be7c7",
   "metadata": {
    "collapsed": false
   },
   "source": [
    "### 1.2. Install packages\n",
    "The step executes only in Pyodide environment. For other environments, the packages should be installed via `pip install`."
   ]
  },
  {
   "cell_type": "code",
   "id": "7e22d1f4da825575",
   "metadata": {
    "collapsed": false
   },
   "source": [
    "import sys\n",
    "\n",
    "if sys.platform == \"emscripten\":\n",
    "    import micropip\n",
    "\n",
    "    await micropip.install(\"mat3ra-api-examples\", deps=False)\n",
    "    await micropip.install('mat3ra-utils')\n",
    "    from mat3ra.utils.jupyterlite.packages import install_packages\n",
    "\n",
    "    await install_packages(\"specific_examples\")"
   ],
   "outputs": [],
   "execution_count": null
  },
  {
   "cell_type": "markdown",
   "id": "4a1cfe15caa44c3e",
   "metadata": {
    "collapsed": false
   },
   "source": [
    "### 1.3. Load and preview input material"
   ]
  },
  {
   "cell_type": "code",
   "id": "a1635c31132962f6",
   "metadata": {
    "collapsed": false
   },
   "source": [
    "from mat3ra.standata.materials import Materials\n",
    "from mat3ra.made.material import Material\n",
    "\n",
    "material = Material.create(Materials.get_by_name_first_match(MATERIAL_NAME))"
   ],
   "outputs": [],
   "execution_count": null
  },
  {
   "cell_type": "markdown",
   "id": "32b3ad775543b06f",
   "metadata": {
    "collapsed": false
   },
   "source": [
    "## 2. Prepare Material\n",
    "### 2.1. Select and visualize initial material"
   ]
  },
  {
   "cell_type": "code",
   "id": "61f0870d8104cd21",
   "metadata": {
    "collapsed": false
   },
   "source": [
    "from utils.visualize import visualize_materials\n",
    "\n",
    "if SHOW_INTERMEDIATE_STEPS:\n",
    "    visualize_materials(material, repetitions=CELL_REPETITIONS_FOR_VISUALIZATION)"
   ],
   "outputs": [],
   "execution_count": null
  },
  {
   "cell_type": "markdown",
   "id": "34d6c7a337f1e40b",
   "metadata": {
    "collapsed": false
   },
   "source": [
    "## 3. Generate Surface Grain Boundary\n",
    "### 3.1. Set up grain boundary configuration and builder\n"
   ]
  },
  {
   "cell_type": "code",
   "id": "33a2c8a9be436745",
   "metadata": {
    "collapsed": false
   },
   "source": [
    "from mat3ra.esse.models.core.reusable.axis_enum import AxisEnum\n",
    "from mat3ra.made.tools.build.grain_boundary import create_grain_boundary_linear\n",
    "\n",
    "grain_boundary = create_grain_boundary_linear(\n",
    "    material=material,\n",
    "    target_angle=TARGET_TWIST_ANGLE,\n",
    "    angle_tolerance=ANGLE_TOLERANCE,\n",
    "    max_repetition_int=7,\n",
    "    return_first_match=RETURN_FIRST_MATCH,\n",
    "    direction=AxisEnum.x,\n",
    "    gap=BOUNDARY_GAP,\n",
    ")\n",
    "\n",
    "# We need to remove overlapping atoms at the boundary line\n",
    "grain_boundary.basis.resolve_colliding_coordinates(tolerance=OVERLAP_TOLERANCE)"
   ],
   "outputs": [],
   "execution_count": null
  },
  {
   "cell_type": "markdown",
   "id": "79e9378bf5e144d4",
   "metadata": {
    "collapsed": false
   },
   "source": [
    "### 3.2. Generate and analyze grain boundaries\n"
   ]
  },
  {
   "cell_type": "code",
   "id": "d7007fe825463e5a",
   "metadata": {
    "collapsed": false
   },
   "source": [
    "actual_angle = grain_boundary.metadata.build[-1].configuration.get(\"actual_angle\", \"unknown\")\n",
    "print(f\"Target angle: {TARGET_TWIST_ANGLE}°\")\n",
    "print(f\"Actual angle: {actual_angle}°\")\n",
    "print(f\"Number of atoms: {len(grain_boundary.basis.elements.ids)}\")"
   ],
   "outputs": [],
   "execution_count": null
  },
  {
   "cell_type": "markdown",
   "id": "8b2f0574a20089a5",
   "metadata": {
    "collapsed": false
   },
   "source": [
    "## 4. Preview the grain boundary"
   ]
  },
  {
   "cell_type": "code",
   "id": "7f558a8e9d417cef",
   "metadata": {
    "collapsed": false
   },
   "source": [
    "visualize_materials(grain_boundary, title=\"Grain Boundary\", viewer=\"wave\")"
   ],
   "outputs": [],
   "execution_count": null
  },
  {
   "cell_type": "markdown",
   "id": "afcc004c5878b56f",
   "metadata": {
    "collapsed": false
   },
   "source": [
    "### 5. Pass data to the outside runtime\n"
   ]
  },
  {
   "cell_type": "code",
   "id": "20e46167358d63",
   "metadata": {
    "collapsed": false
   },
   "source": [
    "from utils.jupyterlite import download_content_to_file, set_materials\n",
    "\n",
    "set_materials(grain_boundary)\n",
    "download_content_to_file(grain_boundary.to_json(), \"grain_boundary_2d_boron_nitride.json\")"
   ],
   "outputs": [],
   "execution_count": null
  }
 ],
 "metadata": {
  "kernelspec": {
   "display_name": "Python 3",
   "language": "python",
   "name": "python3"
  },
  "language_info": {
   "codemirror_mode": {
    "name": "ipython",
    "version": 2
   },
   "file_extension": ".py",
   "mimetype": "text/x-python",
   "name": "python",
   "nbconvert_exporter": "python",
   "pygments_lexer": "ipython2",
   "version": "2.7.6"
  }
 },
 "nbformat": 4,
 "nbformat_minor": 5
}
