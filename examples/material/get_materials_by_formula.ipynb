version https://git-lfs.github.com/spec/v1
oid sha256:2fffac92ef231e56e1983c4b97b65a9dcd15ff86eac2f1f8ac1b708b1889f85c
size 181777
