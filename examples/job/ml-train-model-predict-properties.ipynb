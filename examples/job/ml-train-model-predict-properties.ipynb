version https://git-lfs.github.com/spec/v1
oid sha256:287ad6f34b6220d1ead3af485ecbb5ccd874c95d75f574f0f61fe044d9037285
size 49252
