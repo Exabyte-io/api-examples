{
 "cells": [
  {
   "cell_type": "markdown",
   "id": "e96bfb09b980e52b",
   "metadata": {
    "collapsed": false
   },
   "source": []
  },
  {
   "cell_type": "markdown",
   "id": "3ae4cc7db0846f04",
   "metadata": {
    "collapsed": false
   },
   "source": [
    "# Create High-k Metal Gate Stack Tutorial\n",
    "\n",
    "This notebook demonstrates how to create a high-k metal gate stack heterostructure with four materials: Si (substrate), SiO2 (gate oxide), HfO2 (high-k dielectric), and TiN (metal gate).\n"
   ]
  },
  {
   "cell_type": "markdown",
   "id": "f1db6e522c6716dc",
   "metadata": {
    "collapsed": false
   },
   "source": [
    "## 1. Configuration Parameters\n"
   ]
  },
  {
   "cell_type": "code",
   "execution_count": 6,
   "id": "813b06d4d77a8507",
   "metadata": {
    "collapsed": false
   },
   "outputs": [],
   "source": [
    "# Global parameters\n",
    "MAX_AREA = [200,200,260]  # Maximum area for strain matching\n",
    "MAX_AREA_RATIO_TOL = 0.25  # Maximum area ratio tolerance for strain matching\n",
    "MAX_ANGLE_TOLERANCE = 0.15  # Maximum angle tolerance for strain matching\n",
    "MAX_LENGTH_TOLERANCE = 0.15  # Maximum length tolerance for strain matching\n",
    "VACUUM = 10.0  # Final vacuum spacing in Angstroms\n",
    "\n",
    "# Structure parameters for each layer\n",
    "STRUCTURE_PARAMS = [\n",
    "    {\n",
    "        # Silicon substrate\n",
    "        \"slab_params\": {\n",
    "            \"miller_indices\": (1, 0, 0),\n",
    "            \"thickness\": 4,  # atomic layers\n",
    "            \"vacuum\": VACUUM,  # Angstroms\n",
    "            \"use_orthogonal_z\": True\n",
    "        },\n",
    "        \"interface_distance\": None  # No interface for substrate\n",
    "    },\n",
    "    {\n",
    "        # SiO2 layer\n",
    "        \"slab_params\": {\n",
    "            \"miller_indices\": (1,0,0),\n",
    "            \"thickness\": 3,\n",
    "            \"vacuum\": VACUUM,\n",
    "            \"use_orthogonal_z\": True\n",
    "        },\n",
    "        \"interface_distance\": 2.5  # Distance to Si substrate\n",
    "    },\n",
    "    {\n",
    "        # HfO2 layer\n",
    "        \"slab_params\": {\n",
    "            \"miller_indices\": (0,0,1),\n",
    "            \"thickness\": 4,\n",
    "            \"vacuum\": 0.5,\n",
    "            \"xy_supercell_matrix\": [[1, 0], [0, 2]],\n",
    "            \"use_orthogonal_z\": True\n",
    "        },\n",
    "        \"interface_distance\": 2.5  # Distance to SiO2\n",
    "    },\n",
    "    {\n",
    "        # TiN layer\n",
    "        \"slab_params\": {\n",
    "            \"miller_indices\": (0,0, 1),\n",
    "            \"thickness\": 3,\n",
    "            \"vacuum\": VACUUM,  # Add vacuum to final layer\n",
    "            \"use_orthogonal_z\": True\n",
    "        },\n",
    "        \"interface_distance\": 2.5  # Distance to HfO2\n",
    "    }\n",
    "]\n",
    "\n",
    "INTERFACE_1_INDEX = 11\n"
   ]
  },
  {
   "cell_type": "markdown",
   "id": "b076b018bd5efe10",
   "metadata": {
    "collapsed": false
   },
   "source": [
    "## 2. Environment Setup and Material Loading\n"
   ]
  },
  {
   "cell_type": "code",
   "execution_count": 7,
   "id": "deaa451cfe2f8dc0",
   "metadata": {
    "collapsed": false
   },
   "outputs": [],
   "source": [
    "from mat3ra.standata.materials import Materials\n",
    "from mat3ra.made.material import Material\n",
    "from mat3ra.made.tools.build.slab import SlabConfiguration, get_terminations, create_slab\n",
    "from mat3ra.made.tools.build.interface import (\n",
    "    InterfaceConfiguration,\n",
    "    ZSLStrainMatchingParameters,\n",
    "    ZSLStrainMatchingInterfaceBuilder,\n",
    "    ZSLStrainMatchingInterfaceBuilderParameters\n",
    ")\n",
    "from mat3ra.made.tools.modify import translate_to_z_level\n",
    "from utils.visualize import visualize_materials as visualize\n",
    "\n",
    "# Load materials from Standata\n",
    "materials_1 = [\n",
    "    Material(Materials.get_by_name_first_match(\"SiO2\")),  # SiO2\n",
    "    Material(Materials.get_by_name_first_match(\"Silicon\")),  # Si substrate\n",
    "    ]\n",
    "materials_2 = [\n",
    "    Material(Materials.get_by_name_first_match(\"HfO2\")),  # HfO2\n",
    "    Material(Materials.get_by_name_first_match(\"TiN\")),  # TiN\n",
    "]\n"
   ]
  },
  {
   "cell_type": "markdown",
   "id": "9fe9b39b05f1dc7e",
   "metadata": {
    "collapsed": false
   },
   "source": [
    "## 3. Create Si/SiO2 Interface"
   ]
  },
  {
   "cell_type": "code",
   "execution_count": null,
   "id": "59c8eb0e549ee69e",
   "metadata": {
    "collapsed": false
   },
   "outputs": [],
   "source": [
    "from mat3ra.made.tools.build.slab import PymatgenSlabGeneratorParameters\n",
    "\n",
    "\n",
    "film_params = STRUCTURE_PARAMS[1]\n",
    "substrate_params = STRUCTURE_PARAMS[0]\n",
    "\n",
    "film_config = SlabConfiguration(\n",
    "    bulk=materials_1[1],\n",
    "    **film_params[\"slab_params\"]\n",
    ")\n",
    "\n",
    "substrate_config = SlabConfiguration(\n",
    "    bulk=materials_1[0],\n",
    "    **substrate_params[\"slab_params\"]\n",
    ")\n",
    "params = PymatgenSlabGeneratorParameters(symmetrize = False)\n",
    "\n",
    "film_terminations = get_terminations(film_config, build_parameters=params)\n",
    "substrate_terminations = get_terminations(substrate_config, build_parameters=params)\n",
    "\n",
    "film_termination = film_terminations[0]\n",
    "substrate_termination = substrate_terminations[0]\n",
    "\n",
    "\n",
    "interface_config = InterfaceConfiguration(\n",
    "    film_configuration=film_config,\n",
    "    substrate_configuration=substrate_config,\n",
    "    film_termination=film_termination,\n",
    "    substrate_termination=substrate_termination,\n",
    "    distance=film_params[\"interface_distance\"],\n",
    "    vacuum=film_params[\"slab_params\"][\"vacuum\"]\n",
    ")\n",
    "\n",
    "\n",
    "\n",
    "builder = ZSLStrainMatchingInterfaceBuilder(\n",
    "    build_parameters=ZSLStrainMatchingInterfaceBuilderParameters(\n",
    "        strain_matching_parameters=ZSLStrainMatchingParameters(max_area=MAX_AREA[0], max_area_ratio_tol=MAX_AREA_RATIO_TOL, max_angle_tol=MAX_ANGLE_TOLERANCE, max_length_tol=MAX_LENGTH_TOLERANCE)\n",
    "    )\n",
    ")\n",
    "\n",
    "interfaces = builder.get_materials(configuration=interface_config)\n",
    "\n",
    "visualize(\n",
    "    interfaces[11],\n",
    "    repetitions=[1, 1, 1],\n",
    "    title=\"Si/SiO2 Interface\"\n",
    ")\n",
    "\n",
    "visualize(\n",
    "    interfaces[11],\n",
    "    repetitions=[1, 1, 1],\n",
    "    title=\"Si/SiO2 Interface\",\n",
    "    rotation='-90x'\n",
    ")\n",
    "\n",
    "interface_1 = interfaces[INTERFACE_1_INDEX]\n",
    "\n",
    "\n",
    "\n"
   ]
  },
  {
   "cell_type": "markdown",
   "id": "4cc11d87adc5d979",
   "metadata": {
    "collapsed": false
   },
   "source": [
    "## 2. Add HfO2 Layer"
   ]
  },
  {
   "cell_type": "code",
   "execution_count": null,
   "id": "670fc0c56e8b22b5",
   "metadata": {
    "collapsed": false
   },
   "outputs": [],
   "source": [
    "from mat3ra.made.tools.build.interface import SimpleInterfaceBuilder, SimpleInterfaceBuilderParameters\n",
    "\n",
    "film_params = STRUCTURE_PARAMS[2]\n",
    "\n",
    "film_config = SlabConfiguration(\n",
    "    bulk=materials_2[0],\n",
    "    **film_params[\"slab_params\"]\n",
    ")\n",
    "\n",
    "hfo2_slab= create_slab(film_config, build_parameters=params)\n",
    "\n",
    "film_config = SlabConfiguration(\n",
    "    bulk=hfo2_slab,\n",
    "    **film_params[\"slab_params\"]\n",
    ")\n",
    "\n",
    "substrate_config = SlabConfiguration(\n",
    "    bulk=interface_1,\n",
    "    miller_indices=(0,0,1)\n",
    ")\n",
    "\n",
    "film_terminations = get_terminations(film_config, build_parameters=params)\n",
    "substrate_terminations = get_terminations(substrate_config, build_parameters=params)\n",
    "\n",
    "print(\"Film terminations:\", film_terminations)\n",
    "print(\"Substrate terminations:\", substrate_terminations)\n",
    "\n",
    "\n",
    "interface_config = InterfaceConfiguration(\n",
    "    film_configuration=film_config,\n",
    "    substrate_configuration=substrate_config,\n",
    "    film_termination=film_terminations[0],\n",
    "    substrate_termination=substrate_terminations[0],\n",
    "    distance=film_params[\"interface_distance\"],\n",
    "    vacuum=film_params[\"slab_params\"][\"vacuum\"]\n",
    ")\n",
    "\n",
    "builder = SimpleInterfaceBuilder(build_parameters=SimpleInterfaceBuilderParameters(scale_film=True, build_slabs=False))\n",
    "interface = builder.get_material(configuration=interface_config)\n",
    "\n",
    "visualize(\n",
    "    interface,\n",
    "    repetitions=[1, 1, 1],\n",
    "    title=\"Si/SiO2/HfO2 Interface\"\n",
    ")\n",
    "\n",
    "visualize(\n",
    "    interface,\n",
    "    repetitions=[1, 1, 1],\n",
    "    title=\"Si/SiO2/HfO2 Interface\",\n",
    "    rotation='-90x'\n",
    ")\n"
   ]
  },
  {
   "cell_type": "markdown",
   "id": "93705fda2bacc16e",
   "metadata": {
    "collapsed": false
   },
   "source": [
    "## 3. Add TiN Layer"
   ]
  },
  {
   "cell_type": "code",
   "execution_count": null,
   "id": "46bce40c8d46f8bb",
   "metadata": {
    "collapsed": false
   },
   "outputs": [],
   "source": [
    "from mat3ra.made.tools.build.supercell import create_supercell\n",
    "\n",
    "film_params = STRUCTURE_PARAMS[3]\n",
    "\n",
    "interface = create_supercell(interface, scaling_factor=[1,1,-1])\n",
    "\n",
    "film_config = SlabConfiguration(\n",
    "    bulk=materials_2[1],\n",
    "    **film_params[\"slab_params\"]\n",
    ")\n",
    "\n",
    "tin_slab = create_slab(film_config, build_parameters=params)\n",
    "\n",
    "film_config = SlabConfiguration(\n",
    "    bulk=tin_slab,\n",
    "    **film_params[\"slab_params\"]\n",
    ")\n",
    "\n",
    "substrate_config = SlabConfiguration(\n",
    "    bulk=interface,\n",
    "    miller_indices=(0,0,1)\n",
    ")\n",
    "\n",
    "film_terminations = get_terminations(film_config, build_parameters=params)\n",
    "substrate_terminations = get_terminations(substrate_config, build_parameters=params)\n",
    "\n",
    "print(\"Film terminations:\", film_terminations)\n",
    "print(\"Substrate terminations:\", substrate_terminations)\n",
    "\n",
    "interface_config = InterfaceConfiguration(\n",
    "    film_configuration=film_config,\n",
    "    substrate_configuration=substrate_config,\n",
    "    film_termination=film_terminations[0],\n",
    "    substrate_termination=substrate_terminations[0],\n",
    "    distance=film_params[\"interface_distance\"],\n",
    "    vacuum=film_params[\"slab_params\"][\"vacuum\"]\n",
    ")\n",
    "\n",
    "builder = SimpleInterfaceBuilder(build_parameters=SimpleInterfaceBuilderParameters(scale_film=True, build_slabs=False))\n",
    "\n",
    "interface = builder.get_material(configuration=interface_config)\n",
    "\n",
    "visualize(\n",
    "    interface,\n",
    "    repetitions=[1, 1, 1],\n",
    "    title=\"Si/SiO2/HfO2/TiN Interface\"\n",
    ")\n",
    "\n",
    "visualize(\n",
    "    interface,\n",
    "    repetitions=[1, 1, 1],\n",
    "    title=\"Si/SiO2/HfO2/TiN Interface\",\n",
    "    rotation='-90x'\n",
    ")\n",
    "\n",
    "# invert the interface along the z-axis to match example\n",
    "interface = create_supercell(interface, scaling_factor=[1,1,-1])"
   ]
  },
  {
   "cell_type": "markdown",
   "id": "ae16540b54491e35",
   "metadata": {
    "collapsed": false
   },
   "source": [
    "## 4. Final Structure Visualization and Analysis\n"
   ]
  },
  {
   "cell_type": "code",
   "execution_count": null,
   "id": "803792030da3a97",
   "metadata": {
    "collapsed": false
   },
   "outputs": [],
   "source": [
    "from utils.jupyterlite import set_materials\n",
    "\n",
    "visualize(\n",
    "    interface,\n",
    "    repetitions=[1, 1, 1],\n",
    "    title=\"Si/SiO2/HfO2/TiN Interface\",\n",
    ")\n",
    "\n",
    "visualize(\n",
    "    interface,\n",
    "    repetitions=[1, 1, 1],\n",
    "    title=\"Si/SiO2/HfO2/TiN Interface\",\n",
    "    rotation='-90x'\n",
    ")\n",
    "\n",
    "set_materials(interface)"
   ]
  }
 ],
 "metadata": {
  "kernelspec": {
   "display_name": ".venv-3.11",
   "language": "python",
   "name": "python3"
  },
  "language_info": {
   "codemirror_mode": {
    "name": "ipython",
    "version": 3
   },
   "file_extension": ".py",
   "mimetype": "text/x-python",
   "name": "python",
   "nbconvert_exporter": "python",
   "pygments_lexer": "ipython3",
   "version": "3.11.7"
  }
 },
 "nbformat": 4,
 "nbformat_minor": 5
}
