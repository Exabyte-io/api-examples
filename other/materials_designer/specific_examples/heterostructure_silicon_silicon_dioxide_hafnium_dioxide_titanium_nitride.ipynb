{
 "cells": [
  {
   "cell_type": "markdown",
   "id": "3ae4cc7db0846f04",
   "metadata": {
    "collapsed": false
   },
   "source": [
    "# Create High-k Metal Gate Stack Tutorial\n",
    "\n",
    "This notebook demonstrates how to create a high-k metal gate stack heterostructure with four materials: Si (substrate), SiO2 (gate oxide), HfO2 (high-k dielectric), and TiN (metal gate).\n",
    "\n",
    "We'll create a representation of the material from the [QuantumATK tutorial](https://docs.quantumatk.com/tutorials/hkmg_builder/hkmg_builder.html) without the amorphous step.\n",
    "\n",
    "<img src=\"https://docs.quantumatk.com/_images/update_square_default_stack.png\" alt=\"High-k Metal Gate Stack\" width=\"700\"/>\n"
   ]
  },
  {
   "cell_type": "markdown",
   "id": "f1db6e522c6716dc",
   "metadata": {
    "collapsed": false
   },
   "source": [
    "## 1. Configuration Parameters\n"
   ]
  },
  {
   "metadata": {},
   "cell_type": "code",
   "source": [
    "from types import SimpleNamespace\n",
    "\n",
    "# Global parameters\n",
    "MAX_AREA = 200  # Maximum area for strain matching\n",
    "MAX_AREA_RATIO_TOL = 0.25  # Maximum area ratio tolerance for strain matching\n",
    "MAX_ANGLE_TOLERANCE = 0.15  # Maximum angle tolerance for strain matching\n",
    "MAX_LENGTH_TOLERANCE = 0.15  # Maximum length tolerance for strain matching\n",
    "\n",
    "# Structure parameters for each layer\n",
    "STRUCTURE_PARAMS = [\n",
    "    SimpleNamespace(\n",
    "        # Silicon substrate\n",
    "        slab_params=SimpleNamespace(\n",
    "            miller_indices=(1, 0, 0),\n",
    "            thickness=4,  # atomic layers\n",
    "            vacuum=5.0,  # Angstroms\n",
    "            USE_ORTHOGONAL_C=True\n",
    "        ),\n",
    "        termination_formula=None,  # Use default termination for substrate\n",
    "        interface_distance=None  # No interface for substrate\n",
    "    ),\n",
    "    SimpleNamespace(\n",
    "        # SiO2 layer\n",
    "        slab_params=SimpleNamespace(\n",
    "            miller_indices=(1, 0, 0),\n",
    "            thickness=3,\n",
    "            vacuum=5.0,\n",
    "            USE_ORTHOGONAL_C=True\n",
    "        ),\n",
    "        termination_formula=None,  # Use default termination for SiO2\n",
    "        interface_distance=2.5,  # Distance to Si substrate\n",
    "        vacuum=0.5  # Vacuum for SiO2-terminating interface layer\n",
    "    ),\n",
    "    SimpleNamespace(\n",
    "        # HfO2 layer\n",
    "        slab_params=SimpleNamespace(\n",
    "            miller_indices=(0, 0, 1),\n",
    "            thickness=2,\n",
    "            vacuum=0.5,\n",
    "            xy_supercell_matrix=[[2, 0], [0, 2]],\n",
    "            USE_ORTHOGONAL_C=True\n",
    "        ),\n",
    "        termination_formula=None,  # Use default termination for HfO2\n",
    "        interface_distance=3.0,  # Distance to SiO2\n",
    "        vacuum=0.5  # Vacuum for HfO2-terminating interface layer\n",
    "    ),\n",
    "    SimpleNamespace(\n",
    "        # TiN layer\n",
    "        slab_params=SimpleNamespace(\n",
    "            miller_indices=(0, 0, 1),\n",
    "            thickness=3,\n",
    "            vacuum=5.0,  # Add vacuum to final layer\n",
    "            USE_ORTHOGONAL_C=True,\n",
    "            xy_supercell_matrix=[[3, 0], [0, 3]]\n",
    "        ),\n",
    "        termination_formula=None,  # Use default termination for TiN\n",
    "        interface_distance=2.5,  # Distance to HfO2\n",
    "        vacuum=10.0  # Vacuum for TiN-terminating interface layer\n",
    "    )\n",
    "]\n",
    "\n",
    "INTERFACE_1_INDEX = 11 # was found in the previous runs"
   ],
   "id": "d437c36db077a11c",
   "outputs": [],
   "execution_count": null
  },
  {
   "cell_type": "markdown",
   "id": "a671bb0a66616061",
   "metadata": {
    "collapsed": false
   },
   "source": [
    "### 1.2. Install Packages\n",
    "The step executes only in Pyodide environment. For other environments, the packages should be installed via `pip install` (see [README](../../README.ipynb))."
   ]
  },
  {
   "cell_type": "code",
   "id": "c11956a7712639b9",
   "metadata": {
    "collapsed": false
   },
   "source": [
    "import sys\n",
    "\n",
    "if sys.platform == \"emscripten\":\n",
    "    import micropip\n",
    "\n",
    "    await micropip.install(\"mat3ra-api-examples\", deps=False)\n",
    "    await micropip.install('mat3ra-utils')\n",
    "    from mat3ra.utils.jupyterlite.packages import install_packages\n",
    "\n",
    "    await install_packages(\"specific_examples\")"
   ],
   "outputs": [],
   "execution_count": null
  },
  {
   "cell_type": "markdown",
   "id": "15599efa4b241366",
   "metadata": {
    "collapsed": false
   },
   "source": [
    "### 1.3. Get input material\n",
    "In this notebook we will use materials from Standata."
   ]
  },
  {
   "cell_type": "code",
   "id": "474383a5e0f70d6",
   "metadata": {
    "collapsed": false
   },
   "source": [
    "from mat3ra.standata.materials import Materials\n",
    "from mat3ra.made.tools.build import MaterialWithBuildMetadata\n",
    "\n",
    "materials_1 = [\n",
    "    MaterialWithBuildMetadata.create(Materials.get_by_name_first_match(\"SiO2\")),  # SiO2\n",
    "    MaterialWithBuildMetadata.create(Materials.get_by_name_first_match(\"Silicon\")),  # Si substrate\n",
    "]\n",
    "materials_2 = [\n",
    "    MaterialWithBuildMetadata.create(Materials.get_by_name_first_match(\"HfO2.*MCL\")),  # HfO2\n",
    "    MaterialWithBuildMetadata.create(Materials.get_by_name_first_match(\"TiN\")),  # TiN\n",
    "]"
   ],
   "outputs": [],
   "execution_count": null
  },
  {
   "cell_type": "markdown",
   "id": "9fe9b39b05f1dc7e",
   "metadata": {
    "collapsed": false
   },
   "source": [
    "## 2. Create Si/SiO2 Interface\n",
    "### 2.1. Create Si/SiO2 Interface"
   ]
  },
  {
   "cell_type": "code",
   "id": "59c8eb0e549ee69e",
   "metadata": {
    "collapsed": false
   },
   "source": [
    "from mat3ra.made.tools.build.slab.configurations import SlabConfiguration\n",
    "from mat3ra.made.tools.build.slab.builders import SlabBuilder\n",
    "from mat3ra.made.tools.build.interface.helpers import create_zsl_interface_between_slabs\n",
    "from utils.visualize import visualize_materials as visualize\n",
    "\n",
    "film_1_params = STRUCTURE_PARAMS[1]  # SiO2 layer\n",
    "substrate_1_params = STRUCTURE_PARAMS[0]  # Silicon substrate\n",
    "\n",
    "# Create slab configurations\n",
    "substrate_1_slab_config = SlabConfiguration.from_parameters(\n",
    "    material_or_dict=materials_1[1],  # Silicon \n",
    "    miller_indices=substrate_1_params.slab_params.miller_indices,\n",
    "    number_of_layers=substrate_1_params.slab_params.thickness,\n",
    "    vacuum=0.0,\n",
    "    termination_formula=substrate_1_params.termination_formula,\n",
    "    use_conventional_cell=True\n",
    ")\n",
    "\n",
    "film_1_slab_config = SlabConfiguration.from_parameters(\n",
    "    material_or_dict=materials_1[0],  # SiO2\n",
    "    miller_indices=film_1_params.slab_params.miller_indices,\n",
    "    number_of_layers=film_1_params.slab_params.thickness,\n",
    "    vacuum=0.0,\n",
    "    termination_formula=film_1_params.termination_formula,\n",
    "    use_conventional_cell=True\n",
    ")\n",
    "\n",
    "# Create slabs\n",
    "substrate_1_slab = SlabBuilder().get_material(substrate_1_slab_config)\n",
    "film_1_slab = SlabBuilder().get_material(film_1_slab_config)\n",
    "\n",
    "# Create Si/SiO2 interface using modern ZSL helper - select specified match\n",
    "interface_1 = create_zsl_interface_between_slabs(\n",
    "    substrate_slab=substrate_1_slab,\n",
    "    film_slab=film_1_slab,\n",
    "    gap=film_1_params.interface_distance,\n",
    "    vacuum=film_1_params.vacuum,\n",
    "    match_id=INTERFACE_1_INDEX,  # Use specified match from parameters\n",
    "    max_area=MAX_AREA,\n",
    "    max_area_ratio_tol=MAX_AREA_RATIO_TOL,\n",
    "    max_length_tol=MAX_LENGTH_TOLERANCE,\n",
    "    max_angle_tol=MAX_ANGLE_TOLERANCE,\n",
    "    reduce_result_cell_to_primitive=False,\n",
    ")"
   ],
   "outputs": [],
   "execution_count": null
  },
  {
   "cell_type": "markdown",
   "id": "b4d5e3261b720c9d",
   "metadata": {
    "collapsed": false
   },
   "source": [
    "### 2.2. Visualize the Si/SiO2 Interface"
   ]
  },
  {
   "cell_type": "code",
   "id": "49c046cf4517ad91",
   "metadata": {
    "collapsed": false
   },
   "source": [
    "visualize(\n",
    "    interface_1,\n",
    "    repetitions=[1, 1, 1],\n",
    "    title=\"Si/SiO2 Interface\"\n",
    ")\n",
    "\n",
    "visualize(\n",
    "    interface_1,\n",
    "    repetitions=[1, 1, 1],\n",
    "    title=\"Si/SiO2 Interface\",\n",
    "    rotation='-90x'\n",
    ")\n"
   ],
   "outputs": [],
   "execution_count": null
  },
  {
   "cell_type": "markdown",
   "id": "4cc11d87adc5d979",
   "metadata": {
    "collapsed": false
   },
   "source": [
    "## 3. Add HfO2 Layer\n",
    "### 3.1. Add a layer with SimpleInterfaceBuilder"
   ]
  },
  {
   "metadata": {},
   "cell_type": "code",
   "source": [
    "from mat3ra.made.tools.build.interface import create_simple_interface_between_slabs\n",
    "from mat3ra.made.tools.build.slab.helpers import create_slab\n",
    "\n",
    "film_2_params = STRUCTURE_PARAMS[2]  # HfO2 layer\n",
    "\n",
    "# Create HfO2 slab with specified supercell matrix\n",
    "film_2_slab = create_slab(\n",
    "    crystal=materials_2[0],  # HfO2\n",
    "    termination=None,  # Use default termination\n",
    "    miller_indices=film_2_params.slab_params.miller_indices,\n",
    "    number_of_layers=film_2_params.slab_params.thickness,\n",
    "    vacuum=film_2_params.slab_params.vacuum,\n",
    "    xy_supercell_matrix=film_2_params.slab_params.xy_supercell_matrix,\n",
    "    use_orthogonal_c=film_2_params.slab_params.USE_ORTHOGONAL_C\n",
    ")\n",
    "\n",
    "interface_1_slab = create_slab(\n",
    "    crystal=interface_1,  # Use the Si/SiO2 interface slab\n",
    "    miller_indices=(0,0,1),\n",
    "    number_of_layers=film_2_params.slab_params.thickness,\n",
    "    vacuum=0.0,  # No vacuum for interface slab\n",
    "    xy_supercell_matrix=film_2_params.slab_params.xy_supercell_matrix,\n",
    "    use_orthogonal_c=film_2_params.slab_params.USE_ORTHOGONAL_C\n",
    ")\n",
    "\n",
    "# Create Si/SiO2/HfO2 interface using SimpleInterfaceBuilder\n",
    "interface_2 = create_simple_interface_between_slabs(\n",
    "    film_slab=film_2_slab,\n",
    "    substrate_slab=interface_1_slab,\n",
    "    gap=film_2_params.interface_distance,  # Distance to SiO2\n",
    "    vacuum=film_2_params.vacuum  # Vacuum for HfO2-terminating interface layer\n",
    ")\n"
   ],
   "id": "449228d73d589d08",
   "outputs": [],
   "execution_count": null
  },
  {
   "cell_type": "markdown",
   "id": "6f62d46be77dbf7f",
   "metadata": {
    "collapsed": false
   },
   "source": [
    "### 3.2. Visualize the Si/SiO2/HfO2 Interface"
   ]
  },
  {
   "cell_type": "code",
   "id": "5ddc3d75b43a3926",
   "metadata": {
    "collapsed": false
   },
   "source": [
    "visualize(\n",
    "    interface_2,\n",
    "    repetitions=[1, 1, 1],\n",
    "    title=\"Si/SiO2/HfO2 Interface\"\n",
    ")\n",
    "\n",
    "visualize(\n",
    "    interface_2,\n",
    "    repetitions=[1, 1, 1],\n",
    "    title=\"Si/SiO2/HfO2 Interface\",\n",
    "    rotation='-90x'\n",
    ")"
   ],
   "outputs": [],
   "execution_count": null
  },
  {
   "cell_type": "markdown",
   "id": "93705fda2bacc16e",
   "metadata": {
    "collapsed": false
   },
   "source": [
    "## 4. Add TiN Layer\n",
    "### 4.1. Create a TiN Slab"
   ]
  },
  {
   "cell_type": "code",
   "id": "9900d149e4148bfa",
   "metadata": {},
   "source": [
    "from mat3ra.made.tools.build.supercell import create_supercell\n",
    "\n",
    "film_3_params = STRUCTURE_PARAMS[3]  # TiN layer\n",
    "\n",
    "# Create TiN slab with specified supercell matrix\n",
    "tin_slab = create_slab(\n",
    "    crystal=materials_2[1],  # TiN\n",
    "    termination=None,  # Use default termination\n",
    "    miller_indices=film_3_params.slab_params.miller_indices,\n",
    "    number_of_layers=film_3_params.slab_params.thickness,\n",
    "    vacuum=film_3_params.slab_params.vacuum,\n",
    "    xy_supercell_matrix=film_3_params.slab_params.xy_supercell_matrix,\n",
    "    use_orthogonal_c=film_3_params.slab_params.USE_ORTHOGONAL_C\n",
    ")\n",
    "\n",
    "# Flip interface_2 for stacking TiN on top\n",
    "interface_2_flipped = create_supercell(interface_2, scaling_factor=[1, -1, -1])"
   ],
   "outputs": [],
   "execution_count": null
  },
  {
   "cell_type": "markdown",
   "id": "37ffd5a46a4b3f8",
   "metadata": {},
   "source": [
    "### 4.2. Get terminations for TiN and Si/SiO2/HfO2"
   ]
  },
  {
   "cell_type": "code",
   "id": "2da4c0aae9175936",
   "metadata": {},
   "source": [
    "# TiN slab and interface_2_flipped are ready for final interface creation\n",
    "print(\"TiN slab created successfully\")\n",
    "print(\"Si/SiO2/HfO2 interface prepared for TiN layer addition\")"
   ],
   "outputs": [],
   "execution_count": null
  },
  {
   "cell_type": "markdown",
   "id": "29288bf265f1175b",
   "metadata": {},
   "source": [
    "### 4.3. Add TiN layer with SimpleInterfaceBuilder"
   ]
  },
  {
   "metadata": {
    "jupyter": {
     "is_executing": true
    }
   },
   "cell_type": "code",
   "source": [
    "# Create final Si/SiO2/HfO2/TiN interface configuration\n",
    "interface_2_flipped_slab = create_slab(\n",
    "    crystal=interface_2_flipped,  # Use the flipped Si/SiO2/HfO2 interface slab\n",
    "    miller_indices=(0, 0, 1),\n",
    "    number_of_layers=film_3_params.slab_params.thickness,\n",
    "    vacuum=0.0,  # No vacuum for interface slab\n",
    "    xy_supercell_matrix=film_3_params.slab_params.xy_supercell_matrix,\n",
    "    use_orthogonal_c=film_3_params.slab_params.USE_ORTHOGONAL_C\n",
    ")\n",
    "\n",
    "interface_3 = create_simple_interface_between_slabs(\n",
    "    film_slab=tin_slab,\n",
    "    substrate_slab=interface_2_flipped_slab,\n",
    "    gap=film_3_params.interface_distance,\n",
    "    vacuum=film_3_params.vacuum\n",
    ")\n",
    "\n",
    "# Invert the interface along the z-axis to match example orientation\n",
    "interface_3 = create_supercell(interface_3, scaling_factor=[1, -1, -1])"
   ],
   "id": "baf2ba664817c0bc",
   "outputs": [],
   "execution_count": null
  },
  {
   "cell_type": "markdown",
   "id": "de4385aa81264e6b",
   "metadata": {
    "collapsed": false
   },
   "source": "### 4.4. Visualize the Si/SiO2/HfO2/TiN Interface"
  },
  {
   "cell_type": "code",
   "id": "2b3fda71c801aeff",
   "metadata": {
    "collapsed": false
   },
   "source": [
    "visualize(\n",
    "    interface_3,\n",
    "    title=\"Si/SiO2/HfO2/TiN Interface\",\n",
    "    viewer=\"wave\",\n",
    "    rotation='-90x'\n",
    ")"
   ],
   "outputs": [],
   "execution_count": null
  },
  {
   "cell_type": "markdown",
   "id": "ae16540b54491e35",
   "metadata": {
    "collapsed": false
   },
   "source": [
    "## 5. Save final material\n"
   ]
  },
  {
   "cell_type": "code",
   "id": "803792030da3a97",
   "metadata": {
    "collapsed": false
   },
   "source": [
    "from utils.jupyterlite import download_content_to_file, set_materials\n",
    "interface_3.name = \"Si-SiO2-HfO2-TiN Heterostructure\"\n",
    "set_materials(interface_3)\n",
    "download_content_to_file(interface_3.to_json(), \"heterostructure_high_k_metal_gate.json\")"
   ],
   "outputs": [],
   "execution_count": null
  }
 ],
 "metadata": {
  "kernelspec": {
   "display_name": ".venv-3.11",
   "language": "python",
   "name": "python3"
  },
  "language_info": {
   "codemirror_mode": {
    "name": "ipython",
    "version": 3
   },
   "file_extension": ".py",
   "mimetype": "text/x-python",
   "name": "python",
   "nbconvert_exporter": "python",
   "pygments_lexer": "ipython3",
   "version": "3.11.7"
  }
 },
 "nbformat": 4,
 "nbformat_minor": 5
}
