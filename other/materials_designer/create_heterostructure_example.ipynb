{
 "cells": [
  {
   "cell_type": "markdown",
   "id": "0",
   "metadata": {},
   "source": [
    "# Create Heterostructure Example (Simplified)\n",
    "\n",
    "This notebook demonstrates how to create a heterostructure with any number of materials using the **new simplified `create_heterostructure` function**.\n",
    "\n",
    "This approach replaces the complex multi-step interface creation with a single function call that automatically handles strain matching and layer stacking.\n",
    "\n",
    "<h2 style=\"color:green\">Usage</h2>\n",
    "\n",
    "1. **Set up the notebook and install packages**\n",
    "2. **Configure structure parameters for any number of materials**\n",
    "3. **Import materials from Standata or user uploads**\n",
    "4. **Create heterostructure with a single function call**\n",
    "\n",
    "## Summary\n",
    "\n",
    "1. **Prepare the Environment:** Set up the notebook and install packages\n",
    "2. **Configure Materials:** Define parameters for each layer in the stack\n",
    "3. **Create Stack:** Use simplified `create_heterostructure()` function\n",
    "4. **Visualize:** Preview the resulting heterostructure\n",
    "5. **Pass to Runtime:** Pass the final heterostructure to the external runtime\n",
    "\n",
    "## Key Improvements:\n",
    "- **Simplified Configuration**: Replace complex multi-step setup with simple parameter lists\n",
    "- **Single Function Call**: Use `create_heterostructure()` instead of manual interface creation\n",
    "- **Automatic Optimization**: Built-in strain matching and supercell optimization\n",
    "- **Flexible Stacking**: Supports any number of materials in the stack\n",
    "\n",
    "## Notes\n",
    "\n",
    "1. For more information, see [Introduction](Introduction.ipynb)\n",
    "\n",
    "<!-- # TODO: use a hashtag-based anchor link to interface creation documentation above -->\n"
   ]
  },
  {
   "cell_type": "markdown",
   "id": "1",
   "metadata": {},
   "source": [
    "## 1. Configuration Parameters\n",
    "\n",
    "Configure the heterostructure parameters including materials, layer thicknesses, and gaps.\n"
   ]
  },
  {
   "cell_type": "code",
   "execution_count": null,
   "id": "2",
   "metadata": {},
   "outputs": [],
   "source": [
    "from types import SimpleNamespace\n",
    "\n",
    "# Structure parameters for each layer - add or remove layers as needed\n",
    "STRUCTURE_PARAMS = [\n",
    "    SimpleNamespace(\n",
    "        # First material (substrate)\n",
    "        name=\"Silicon\",  # Material name from Standata or upload\n",
    "        slab_params=SimpleNamespace(\n",
    "            miller_indices=(0, 0, 1),\n",
    "            thickness=3,  # atomic layers\n",
    "            xy_supercell_matrix=[[1, 0], [0, 1]],\n",
    "        ),\n",
    "        termination_formula=None,  # Use default termination\n",
    "    ),\n",
    "    SimpleNamespace(\n",
    "        # Second material\n",
    "        name=\"SiO2\",  # Material name from Standata or upload  \n",
    "        slab_params=SimpleNamespace(\n",
    "            miller_indices=(1, 1, 1),\n",
    "            thickness=3,  # atomic layers\n",
    "        ),\n",
    "        termination_formula=None,  # Use default termination\n",
    "    ),\n",
    "    SimpleNamespace(\n",
    "        # Third material\n",
    "        name=\"HfO2.*MCL\",  # Material name from Standata or upload\n",
    "        slab_params=SimpleNamespace(\n",
    "            miller_indices=(0, 0, 1), \n",
    "            thickness=1,  # atomic layers\n",
    "        ),\n",
    "        termination_formula=None,  # Use default termination\n",
    "    ),\n",
    "    # Add more materials here as needed...\n",
    "]\n",
    "\n",
    "# Gap distances between layers (in Angstroms)\n",
    "# Length should be one less than number of materials\n",
    "GAPS = [3.0, 3.0]  # Gaps between materials\n",
    "\n",
    "# Final vacuum above the heterostructure (in Angstroms)\n",
    "VACUUM = 20.0\n"
   ]
  },
  {
   "cell_type": "markdown",
   "id": "3",
   "metadata": {},
   "source": [
    "## 2. Install Packages\n",
    "\n",
    "The step executes only in Pyodide environment. For other environments, the packages should be installed via `pip install` (see [README](../../README.ipynb)).\n"
   ]
  },
  {
   "cell_type": "code",
   "execution_count": null,
   "id": "4",
   "metadata": {},
   "outputs": [],
   "source": [
    "import sys\n",
    "\n",
    "if sys.platform == \"emscripten\":\n",
    "    import micropip\n",
    "\n",
    "    await micropip.install(\"mat3ra-api-examples\", deps=False)\n",
    "    await micropip.install('mat3ra-utils')\n",
    "    from mat3ra.utils.jupyterlite.packages import install_packages\n",
    "\n",
    "    await install_packages(\"specific_examples\")\n"
   ]
  },
  {
   "cell_type": "markdown",
   "id": "5",
   "metadata": {},
   "source": [
    "## 3. Get Input Materials\n",
    "\n",
    "Materials are loaded from Standata using the names specified in `STRUCTURE_PARAMS` or from user uploads via `get_materials()`.\n"
   ]
  },
  {
   "cell_type": "code",
   "execution_count": null,
   "id": "6",
   "metadata": {},
   "outputs": [],
   "source": [
    "from mat3ra.standata.materials import Materials\n",
    "from mat3ra.made.tools.build import MaterialWithBuildMetadata\n",
    "from utils.jupyterlite import get_materials\n",
    "\n",
    "# Try to get materials from Standata first, then fallback to uploads\n",
    "crystals = []\n",
    "uploaded_materials = get_materials(globals()) if get_materials else []\n",
    "\n",
    "for i, structure_param in enumerate(STRUCTURE_PARAMS):\n",
    "    try:\n",
    "        # Try to get from Standata\n",
    "        standata_material = Materials.get_by_name_first_match(structure_param.name)\n",
    "        crystal = MaterialWithBuildMetadata.create(standata_material)\n",
    "        print(f\"Found '{structure_param.name}' in Standata\")\n",
    "    except:\n",
    "        # Fallback to uploaded materials\n",
    "        if i < len(uploaded_materials):\n",
    "            crystal = MaterialWithBuildMetadata.create(uploaded_materials[i])\n",
    "            print(f\"Using uploaded material {i} for '{structure_param.name}'\")\n",
    "        else:\n",
    "            # Use first uploaded material as fallback\n",
    "            crystal = MaterialWithBuildMetadata.create(uploaded_materials[0] if uploaded_materials else Materials.get_by_name_first_match(\"Silicon\"))\n",
    "            print(f\"Using fallback material for '{structure_param.name}'\")\n",
    "    \n",
    "    crystals.append(crystal)\n"
   ]
  },
  {
   "cell_type": "markdown",
   "id": "7",
   "metadata": {},
   "source": [
    "## 4. Preview Original Materials\n",
    "\n",
    "Visualize the loaded materials before creating the heterostructure.\n"
   ]
  },
  {
   "cell_type": "code",
   "execution_count": null,
   "id": "8",
   "metadata": {},
   "outputs": [],
   "source": [
    "from utils.visualize import visualize_materials as visualize\n",
    "\n",
    "# Create materials with titles for visualization\n",
    "materials_with_titles = [\n",
    "    {\"material\": crystal, \"title\": f\"Layer {i}: {STRUCTURE_PARAMS[i].name}\"} \n",
    "    for i, crystal in enumerate(crystals)\n",
    "]\n",
    "\n",
    "visualize(materials_with_titles, repetitions=[3, 3, 1], rotation=\"0x\")\n"
   ]
  },
  {
   "cell_type": "markdown",
   "id": "9",
   "metadata": {},
   "source": [
    "## 5. Create the Heterostructure\n",
    "### 5.1. Create Stack Component Dictionaries\n",
    "\n",
    "Create a list of dictionaries for each layer's parameters using the simplified approach.\n"
   ]
  },
  {
   "cell_type": "code",
   "execution_count": null,
   "id": "10",
   "metadata": {},
   "outputs": [],
   "source": [
    "from mat3ra.made.tools.helpers import StackComponentDict\n",
    "\n",
    "stack_component_dicts = [\n",
    "    StackComponentDict(\n",
    "        crystal=crystals[i],\n",
    "        miller_indices=structure_param.slab_params.miller_indices,\n",
    "        thickness=structure_param.slab_params.thickness,\n",
    "        xy_supercell_matrix=structure_param.slab_params.xy_supercell_matrix if hasattr(structure_param.slab_params, 'xy_supercell_matrix') else None,\n",
    "        termination_top_formula=structure_param.termination_formula,\n",
    "    ) for i, structure_param in enumerate(STRUCTURE_PARAMS)\n",
    "]\n",
    "\n",
    "print(f\"Created {len(stack_component_dicts)} stack components:\")\n",
    "for i, component in enumerate(stack_component_dicts):\n",
    "    print(f\"  Layer {i}: {STRUCTURE_PARAMS[i].name} - Miller: {component.miller_indices}, Thickness: {component.thickness}\")\n"
   ]
  },
  {
   "cell_type": "markdown",
   "id": "11",
   "metadata": {},
   "source": [
    "### 5.2. Create the Heterostructure\n",
    "\n",
    "Using the `create_heterostructure` function with automatic strain matching and optimization.\n"
   ]
  },
  {
   "cell_type": "code",
   "execution_count": null,
   "id": "12",
   "metadata": {},
   "outputs": [],
   "source": [
    "from mat3ra.made.tools.helpers import create_heterostructure\n",
    "\n",
    "heterostructure = create_heterostructure(\n",
    "    stack_component_dicts=stack_component_dicts,\n",
    "    gaps=GAPS,\n",
    "    vacuum=VACUUM,\n",
    "    use_conventional_cell=True,\n",
    "    optimize_layer_supercells=True,\n",
    ")\n",
    "\n",
    "print(f\"Successfully created heterostructure with {len(crystals)} materials\")\n",
    "print(f\"Final structure has {heterostructure.basis.number_of_atoms} atoms\")\n"
   ]
  },
  {
   "cell_type": "markdown",
   "id": "13",
   "metadata": {},
   "source": [
    "## 6. Visualize the Heterostructure\n"
   ]
  },
  {
   "cell_type": "code",
   "execution_count": null,
   "id": "14",
   "metadata": {},
   "outputs": [],
   "source": [
    "visualize(\n",
    "    heterostructure,\n",
    "    repetitions=[1, 1, 1],\n",
    "    viewer=\"wave\",\n",
    "    rotation='0x'\n",
    ")"
   ]
  },
  {
   "cell_type": "markdown",
   "id": "15",
   "metadata": {},
   "source": [
    "## 7. Save the Heterostructure\n",
    "\n"
   ]
  },
  {
   "cell_type": "code",
   "execution_count": null,
   "id": "16",
   "metadata": {},
   "outputs": [],
   "source": [
    "from utils.jupyterlite import set_materials\n",
    "\n",
    "# Set heterostructure name based on all materials\n",
    "material_names = [param.name for param in STRUCTURE_PARAMS]\n",
    "# heterostructure.name = \" - \".join(material_names) + \" Heterostructure\"\n",
    "\n",
    "set_materials(heterostructure)"
   ]
  }
 ],
 "metadata": {
  "kernelspec": {
   "display_name": "Python 3",
   "language": "python",
   "name": "python3"
  },
  "language_info": {
   "codemirror_mode": {
    "name": "ipython",
    "version": 2
   },
   "file_extension": ".py",
   "mimetype": "text/x-python",
   "name": "python",
   "nbconvert_exporter": "python",
   "pygments_lexer": "ipython2",
   "version": "2.7.6"
  }
 },
 "nbformat": 4,
 "nbformat_minor": 5
}
