{
 "cells": [
  {
   "cell_type": "markdown",
   "metadata": {},
   "source": [
    "# Overview\n",
    "\n",
    "Logins in to Exabyte RESTFul API and generates API authentication parameters.\n",
    "\n",
    "# Parameters\n",
    "\n",
    "1. HOST: hostname of the RESTful API server, defaults to platform.exabyte.io.\n",
    "\n",
    "2. PORT: The port RESTful API server is listening on. Defaults to 443.\n",
    "\n",
    "3. SECURE: Whether to use secure connection. Defaults to True.\n",
    "\n",
    "4. USERNAME: Your Exabyte account username.\n",
    "\n",
    "5. PASSWORD: Your Exabyte account password."
   ]
  },
  {
   "cell_type": "code",
   "execution_count": 6,
   "metadata": {},
   "outputs": [],
   "source": [
    "import json\n",
    "import argparse\n",
    "from endpoints.login import LoginEndpoint"
   ]
  },
  {
   "cell_type": "code",
   "execution_count": 12,
   "metadata": {},
   "outputs": [],
   "source": [
    "HOST = \"platform.exabyte.io\"\n",
    "PORT = 443\n",
    "SECURE = True\n",
    "USERNAME = \"demo\"\n",
    "PASSWORD = \"demo\""
   ]
  },
  {
   "cell_type": "code",
   "execution_count": 13,
   "metadata": {},
   "outputs": [],
   "source": [
    "login_endpoint = LoginEndpoint(HOST, PORT, USERNAME, PASSWORD, secure=SECURE)\n",
    "auth_params = login_endpoint.login()"
   ]
  },
  {
   "cell_type": "code",
   "execution_count": 14,
   "metadata": {
    "scrolled": true
   },
   "outputs": [
    {
     "name": "stdout",
     "output_type": "stream",
     "text": [
      "{\n",
      "    \"X-Account-Id\": \"knJyjbqxww7kt4GpA\", \n",
      "    \"X-Auth-Token\": \"Jh6umOZqjfTQldC4gMnObb-rdoiNMg87ga0yZ-wcnQ9\"\n",
      "}\n"
     ]
    }
   ],
   "source": [
    "print json.dumps(auth_params, indent=4)"
   ]
  }
 ],
 "metadata": {
  "kernelspec": {
   "display_name": "Python 2",
   "language": "python",
   "name": "python2"
  },
  "language_info": {
   "codemirror_mode": {
    "name": "ipython",
    "version": 2
   },
   "file_extension": ".py",
   "mimetype": "text/x-python",
   "name": "python",
   "nbconvert_exporter": "python",
   "pygments_lexer": "ipython2",
   "version": "2.7.10"
  }
 },
 "nbformat": 4,
 "nbformat_minor": 2
}
