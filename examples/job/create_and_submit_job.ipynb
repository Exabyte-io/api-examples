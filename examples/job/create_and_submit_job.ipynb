version https://git-lfs.github.com/spec/v1
oid sha256:adbf0673228130a35fde18c181de0822f062317bd20b299f3617d4e271e9cd7e
size 28657
