{
 "cells": [
  {
   "cell_type": "markdown",
   "id": "0",
   "metadata": {},
   "source": [
    "# Development Notebook\n",
    "\n",
    "This notebook enables loading materials and performing custom transformations with Python. The transformed materials can then be passed to the Materials Designer or saved to a folder. Necessary packages are installed and imported below.\n",
    "## 1. Setup Notebook\n",
    "### 1.1 Install packages"
   ]
  },
  {
   "cell_type": "code",
   "execution_count": null,
   "id": "1",
   "metadata": {},
   "outputs": [],
   "source": [
    "import sys\n",
    "\n",
    "if sys.platform == \"emscripten\":\n",
    "    import micropip\n",
    "\n",
    "    await micropip.install(\"mat3ra-api-examples\", deps=False)\n",
    "    await micropip.install('mat3ra-utils')\n",
    "    from mat3ra.utils.jupyterlite.packages import install_packages\n",
    "\n",
    "    await install_packages(\"\")"
   ]
  },
  {
   "cell_type": "markdown",
   "id": "2",
   "metadata": {},
   "source": [
    "### 1.2 Import necessary packages"
   ]
  },
  {
   "cell_type": "code",
   "execution_count": null,
   "id": "3",
   "metadata": {},
   "outputs": [],
   "source": [
    "# Material class to hold structural data\n",
    "from mat3ra.made.material import Material\n",
    "# Materials class with JSONs of selected materials\n",
    "from mat3ra.standata.materials import Materials"
   ]
  },
  {
   "cell_type": "markdown",
   "id": "4",
   "metadata": {},
   "source": [
    "## 2. Load materials\n",
    "From the Materials Designer list, \"uploads\" folder, or Standata."
   ]
  },
  {
   "cell_type": "code",
   "execution_count": null,
   "id": "5",
   "metadata": {},
   "outputs": [],
   "source": [
    "from utils.jupyterlite import get_materials\n",
    "\n",
    "materials = get_materials(globals()) or [Material.create(Materials.get_by_name_first_match(\"Graphene\"))]"
   ]
  },
  {
   "cell_type": "markdown",
   "id": "6",
   "metadata": {},
   "source": [
    "## 3. Transform materials"
   ]
  },
  {
   "cell_type": "code",
   "execution_count": null,
   "id": "7",
   "metadata": {},
   "outputs": [],
   "source": [
    "new_material = materials[0]"
   ]
  },
  {
   "cell_type": "markdown",
   "id": "8",
   "metadata": {},
   "source": [
    "## 4. Preview transformed materials"
   ]
  },
  {
   "cell_type": "code",
   "execution_count": null,
   "id": "9",
   "metadata": {},
   "outputs": [],
   "source": [
    "from utils.visualize import visualize_materials\n",
    "\n",
    "visualize_materials(new_material, viewer=\"wave\")"
   ]
  },
  {
   "cell_type": "markdown",
   "id": "10",
   "metadata": {},
   "source": [
    "## 5. Save transformed materials"
   ]
  },
  {
   "cell_type": "code",
   "execution_count": null,
   "id": "11",
   "metadata": {},
   "outputs": [],
   "source": [
    "from utils.jupyterlite import set_materials, download_content_to_file\n",
    "\n",
    "new_material.name = \"Custom Transformed Material\"\n",
    "set_materials(new_material)\n",
    "# for idx, material in enumerate(new_materials):\n",
    "#   download_content_to_file(new_materials, f\"new_material_{idx}.json\")"
   ]
  }
 ],
 "metadata": {
  "kernelspec": {
   "display_name": "Python 3",
   "language": "python",
   "name": "python3"
  },
  "language_info": {
   "codemirror_mode": {
    "name": "ipython",
    "version": 2
   },
   "file_extension": ".py",
   "mimetype": "text/x-python",
   "name": "python",
   "nbconvert_exporter": "python",
   "pygments_lexer": "ipython2",
   "version": "2.7.6"
  }
 },
 "nbformat": 4,
 "nbformat_minor": 5
}
