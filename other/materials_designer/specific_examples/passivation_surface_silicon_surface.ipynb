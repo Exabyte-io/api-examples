{
 "cells": [
  {
   "cell_type": "markdown",
   "source": [
    "# Passivation of Silicon (001) Surface\n",
    "\n",
    "## 0. Introduction.\n",
    "\n",
    "In this notebook, we will demonstrate how to passivate a reconstructed silicon (100) surface with hydrogen atoms. Following the publication: \n",
    "\n",
    "> **Hansen, U., & Vogl, P.**\n",
    "> \"Hydrogen passivation of silicon surfaces: A classical molecular-dynamics study.\"\n",
    "> Physical Review B, 57(20), 13295–13304. (1998).\n",
    "> [DOI: 10.1103/PhysRevB.57.13295](https://doi.org/10.1103/PhysRevB.57.13295)\n",
    "\n",
    "\n",
    "This notebook will focus on recreating the material from Fig. 8.:\n",
    "\n",
    "<img src=\"https://i.imgur.com/DUYIXaW.png\" alt=\"H-Passivated Silicon (100)\" width=\"400\"/>"
   ],
   "metadata": {
    "collapsed": false
   },
   "id": "81aa051ca1ca2e05"
  },
  {
   "cell_type": "markdown",
   "source": [
    "## 1. Prepare the environment\n",
    "### 1.1. Set up the notebook"
   ],
   "metadata": {
    "collapsed": false
   },
   "id": "af879d0489a86849"
  },
  {
   "cell_type": "code",
   "outputs": [],
   "source": [
    "# Material selection\n",
    "MATERIAL_NAME = \"Silicon.*100.*reconstructed\"  # Name (regex) of the material to import from Standata\n",
    "\n",
    "# Passivation parameters\n",
    "PASSIVANT = \"H\"  # Chemical symbol of passivating atom\n",
    "BOND_LENGTH = 1.46  # Distance from surface to passivant, in Angstroms\n",
    "SURFACE = \"top\"  # Which surface to passivate: \"top\", \"bottom\" or \"both\"\n",
    "\n",
    "# Surface detection parameters\n",
    "SHADOWING_RADIUS = 1.8  # Radius to exclude subsurface atoms, in Angstroms\n",
    "DEPTH = 0.5  # How deep to look for surface atoms, in Angstroms\n",
    "\n",
    "# Slab parameters for creating a new slab if provided material is not a slab\n",
    "DEFAULT_SLAB_PARAMETERS = {\n",
    "    \"miller_indices\": (0, 0, 1),\n",
    "    \"thickness\": 3,\n",
    "    \"vacuum\": 10.0,\n",
    "    \"use_orthogonal_z\": True,\n",
    "    \"xy_supercell_matrix\": [[3, 0], [0, 3]]\n",
    "}\n",
    "\n",
    "# Visualization parameters\n",
    "SHOW_INTERMEDIATE_STEPS = True\n",
    "CELL_REPETITIONS_FOR_VISUALIZATION = [1, 1, 1]  # Structure repeat in view"
   ],
   "metadata": {
    "collapsed": false
   },
   "id": "1fc2d9bcb4829e89",
   "execution_count": null
  },
  {
   "cell_type": "markdown",
   "source": [
    "### 1.2. Install packages\n",
    "The step executes only in Pyodide environment. For other environments, the packages should be installed via `pip install`."
   ],
   "metadata": {
    "collapsed": false
   },
   "id": "f6106dbafce082a1"
  },
  {
   "cell_type": "code",
   "outputs": [],
   "source": [
    "import sys\n",
    "\n",
    "if sys.platform == \"emscripten\":\n",
    "    import micropip\n",
    "\n",
    "    await micropip.install('mat3ra-api-examples', deps=False)\n",
    "    from utils.jupyterlite import install_packages\n",
    "\n",
    "    await install_packages(\"specific_examples\")"
   ],
   "metadata": {
    "collapsed": false
   },
   "id": "d1eb85a3125e3839",
   "execution_count": null
  },
  {
   "cell_type": "markdown",
   "source": [
    "### 1.3. Load and preview input material"
   ],
   "metadata": {
    "collapsed": false
   },
   "id": "43ee49c4858d165f"
  },
  {
   "cell_type": "code",
   "outputs": [],
   "source": [
    "from mat3ra.made.material import Material\n",
    "from mat3ra.standata.materials import Materials\n",
    "\n",
    "slab = Material(Materials.get_by_name_first_match(MATERIAL_NAME))"
   ],
   "metadata": {
    "collapsed": false
   },
   "id": "f71a66a67f9ae8e6",
   "execution_count": null
  },
  {
   "cell_type": "markdown",
   "source": [
    "## 2. Prepare the material\n",
    "### 2.1. Visualize original material"
   ],
   "metadata": {
    "collapsed": false
   },
   "id": "51bb05eecc1f3abe"
  },
  {
   "cell_type": "code",
   "outputs": [],
   "source": [
    "from utils.visualize import visualize_materials\n",
    "\n",
    "if SHOW_INTERMEDIATE_STEPS:\n",
    "    print(\"Initial slab structure:\")\n",
    "    visualize_materials(slab, repetitions=CELL_REPETITIONS_FOR_VISUALIZATION)\n",
    "    visualize_materials(slab, repetitions=CELL_REPETITIONS_FOR_VISUALIZATION, rotation=\"-90x\")"
   ],
   "metadata": {
    "collapsed": false
   },
   "id": "83efe492d92bf80c",
   "execution_count": null
  },
  {
   "cell_type": "markdown",
   "source": [
    "### 2.2. Adjust structure to match the one from the manuscript"
   ],
   "metadata": {
    "collapsed": false
   },
   "id": "e14ecd35964002f3"
  },
  {
   "cell_type": "code",
   "outputs": [],
   "source": [
    "# Find coordinates of the Si atoms, list in descending order, and change the second one from the top\n",
    "si_atoms_coordinates = [coordinate for coordinate in slab.basis.coordinates.values]\n",
    "si_atoms_sorted = sorted(si_atoms_coordinates, key=lambda x: x[2], reverse=True)\n",
    "second_from_top_index = 1\n",
    "second_si_atom_coordinate = si_atoms_sorted[second_from_top_index]\n",
    "\n",
    "print(f\"Coordinates of the second Si atom: {second_si_atom_coordinate}\")\n",
    "adjusted_coordinate = [\n",
    "    coord + delta for coord, delta in zip(second_si_atom_coordinate, [0.025, 0, 0.025])\n",
    "]\n",
    "print(f\"Adjusted coordinate: {adjusted_coordinate}\")\n",
    "new_coordinates = si_atoms_coordinates.copy()\n",
    "index_to_adjust = slab.basis.coordinates.get_element_id_by_value(second_si_atom_coordinate)\n",
    "new_coordinates[index_to_adjust] = adjusted_coordinate\n",
    "slab.set_coordinates(new_coordinates)"
   ],
   "metadata": {
    "collapsed": false
   },
   "id": "34c31166b0f9f262",
   "execution_count": null
  },
  {
   "cell_type": "markdown",
   "source": [
    "### 2.3. Visualize adjusted material"
   ],
   "metadata": {
    "collapsed": false
   },
   "id": "24cbf6a3585c1150"
  },
  {
   "cell_type": "code",
   "outputs": [],
   "source": [
    "if SHOW_INTERMEDIATE_STEPS:\n",
    "    print(\"Adjusted slab structure:\")\n",
    "    visualize_materials(slab, repetitions=CELL_REPETITIONS_FOR_VISUALIZATION)\n",
    "    visualize_materials(slab, repetitions=CELL_REPETITIONS_FOR_VISUALIZATION, rotation=\"-90x\")"
   ],
   "metadata": {
    "collapsed": false
   },
   "id": "93001473365fc768",
   "execution_count": null
  },
  {
   "cell_type": "markdown",
   "source": [
    "## 3. Create passivated material\n",
    "### 3.1. Set up passivation configuration and builder\n"
   ],
   "metadata": {
    "collapsed": false
   },
   "id": "751ab019a379e07e"
  },
  {
   "cell_type": "code",
   "outputs": [],
   "source": [
    "from mat3ra.made.tools.build.passivation import (\n",
    "    PassivationConfiguration,\n",
    "    SurfacePassivationBuilder,\n",
    "    SurfacePassivationBuilderParameters\n",
    ")\n",
    "\n",
    "config = PassivationConfiguration(\n",
    "    slab=slab,\n",
    "    passivant=PASSIVANT,\n",
    "    bond_length=BOND_LENGTH,\n",
    "    surface=SURFACE\n",
    ")\n",
    "\n",
    "builder_params = SurfacePassivationBuilderParameters(\n",
    "    shadowing_radius=SHADOWING_RADIUS,\n",
    "    depth=DEPTH\n",
    ")\n",
    "\n",
    "builder = SurfacePassivationBuilder(build_parameters=builder_params)"
   ],
   "metadata": {
    "collapsed": false
   },
   "id": "ba90567da9d8c8c5",
   "execution_count": null
  },
  {
   "cell_type": "markdown",
   "source": [
    "### 3.2. Generate passivated structure\n"
   ],
   "metadata": {
    "collapsed": false
   },
   "id": "731a6c8cbf7546bf"
  },
  {
   "cell_type": "code",
   "outputs": [],
   "source": [
    "from mat3ra.made.tools.build.passivation import create_passivation\n",
    "\n",
    "passivated_slab = create_passivation(config, builder)\n",
    "\n",
    "print(\"\\nPassivation completed:\")\n",
    "print(f\"Passivant used: {PASSIVANT}\")\n",
    "print(f\"Bond length: {BOND_LENGTH} Å\")\n",
    "print(f\"Surfaces passivated: {SURFACE}\")\n",
    "print(f\"Number of atoms: {len(passivated_slab.basis.elements.ids)}\")"
   ],
   "metadata": {
    "collapsed": false
   },
   "id": "48b2f000227c92c7",
   "execution_count": null
  },
  {
   "cell_type": "markdown",
   "source": [
    "## 4. Visualize the result"
   ],
   "metadata": {
    "collapsed": false
   },
   "id": "e2118b4c4bcf322f"
  },
  {
   "cell_type": "code",
   "outputs": [],
   "source": [
    "print(\"Final passivated structure:\")\n",
    "visualize_materials(passivated_slab, repetitions=CELL_REPETITIONS_FOR_VISUALIZATION)\n",
    "visualize_materials(passivated_slab, repetitions=CELL_REPETITIONS_FOR_VISUALIZATION, rotation=\"-90x\")"
   ],
   "metadata": {
    "collapsed": false
   },
   "id": "4680f4f7906f6f2c",
   "execution_count": null
  },
  {
   "cell_type": "markdown",
   "source": [
    "### 5. Pass data to the outside runtime\n"
   ],
   "metadata": {
    "collapsed": false
   },
   "id": "bde2ccf31660d4fd"
  },
  {
   "cell_type": "code",
   "outputs": [],
   "source": [
    "from utils.jupyterlite import download_content_to_file\n",
    "\n",
    "download_content_to_file(passivated_slab.to_json(), f\"{slab.name}_passivated.json\")"
   ],
   "metadata": {
    "collapsed": false
   },
   "id": "b3c536f6ca85e403",
   "execution_count": null
  }
 ],
 "metadata": {
  "kernelspec": {
   "display_name": "Python 3",
   "language": "python",
   "name": "python3"
  },
  "language_info": {
   "codemirror_mode": {
    "name": "ipython",
    "version": 2
   },
   "file_extension": ".py",
   "mimetype": "text/x-python",
   "name": "python",
   "nbconvert_exporter": "python",
   "pygments_lexer": "ipython2",
   "version": "2.7.6"
  }
 },
 "nbformat": 4,
 "nbformat_minor": 5
}
