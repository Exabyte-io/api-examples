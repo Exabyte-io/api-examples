{
 "cells": [
  {
   "cell_type": "markdown",
   "id": "aa0a426af23f6def",
   "metadata": {
    "collapsed": false
   },
   "source": [
    "# Grain Boundary 3D FCC Metals (Copper)\n",
    "\n",
    "## 0. Introduction\n",
    "\n",
    "This notebook demonstrates how to create a grain boundary structure for a 3D FCC metal, Cu in particular. The grain boundary is created by combining two slabs with different orientations. \n",
    "\n",
    "Aiming to reproduce the structure from the publication:\n",
    "> **Timofey Frolov, David L. Olmsted, Mark Asta & Yuri Mishin**\n",
    "> \"Structural phase transformations in metallic grain boundaries\"\n",
    "> Nature Communications, volume 4, Article number: 1899 (2013)\n",
    "> DOI: [10.1038/ncomms2919](https://www.nature.com/articles/ncomms2919) \n",
    "\n",
    "Focusing on reproducing the structures from Figure 1. b:\n",
    "\n",
    "<img src=\"https://github.com/Exabyte-io/documentation/raw/12617167278ae3523adc028583b21ea4e8ebd197/images/tutorials/materials/defects/defect_planar_grain_boundary_3d_fcc_metal/0-figure-from-manuscript.webp\" alt=\"Figure 1.\" width=\"400\"/>"
   ]
  },
  {
   "cell_type": "markdown",
   "id": "bff2f2c26b1fa6ba",
   "metadata": {
    "collapsed": false
   },
   "source": [
    "## 1. Prepare the Environment\n",
    "### 1.1. Set up the notebook \n",
    "\n",
    "Set the following flags to control the notebook behavior "
   ]
  },
  {
   "cell_type": "code",
   "id": "45730b0f5384262b",
   "metadata": {
    "collapsed": false
   },
   "source": [
    "MATERIAL_NAME = \"Cu\"\n",
    "\n",
    "# Parameters for Phase 1\n",
    "PHASE_1_MILLER_INDICES = (3, 1, 0)\n",
    "PHASE_1_THICKNESS = 4  # in atomic layers\n",
    "PHASE_1_USE_ORTHOGONAL_C = True\n",
    "\n",
    "# Parameters for Phase 2\n",
    "PHASE_2_MILLER_INDICES = (-3, -1, 0)\n",
    "PHASE_2_THICKNESS = 4  # in atomic layers\n",
    "PHASE_2_USE_ORTHOGONAL_C = True\n",
    "\n",
    "INTERPHASE_GAP = 0.0  # in Angstrom\n",
    "\n",
    "# Maximum area for the superlattice search algorithm\n",
    "MAX_AREA = 200  # in Angstrom^2\n"
   ],
   "outputs": [],
   "execution_count": null
  },
  {
   "cell_type": "markdown",
   "id": "2460242f9e7d86f1",
   "metadata": {
    "collapsed": false
   },
   "source": [
    "### 1.2. Install Packages\n",
    "The step executes only in Pyodide environment. For other environments, the packages should be installed via `pip install`."
   ]
  },
  {
   "cell_type": "code",
   "id": "bae18ae87d3cc5ba",
   "metadata": {
    "collapsed": false
   },
   "source": [
    "import sys\n",
    "\n",
    "if sys.platform == \"emscripten\":\n",
    "    import micropip\n",
    "\n",
    "    await micropip.install(\"mat3ra-api-examples\", deps=False)\n",
    "    await micropip.install('mat3ra-utils')\n",
    "    from mat3ra.utils.jupyterlite.packages import install_packages\n",
    "\n",
    "    await install_packages(\"specific_examples|create_grain_boundary.ipynb\")\n"
   ],
   "outputs": [],
   "execution_count": null
  },
  {
   "cell_type": "markdown",
   "id": "97eb71c0c9e31d2a",
   "metadata": {
    "collapsed": false
   },
   "source": [
    "### 1.3. Get input material"
   ]
  },
  {
   "cell_type": "code",
   "id": "950e5bef61bbd84a",
   "metadata": {
    "collapsed": false
   },
   "source": [
    "from mat3ra.standata.materials import Materials\n",
    "from mat3ra.made.tools.build import MaterialWithBuildMetadata\n",
    "\n",
    "material = MaterialWithBuildMetadata.create(Materials.get_by_name_first_match(MATERIAL_NAME))"
   ],
   "outputs": [],
   "execution_count": null
  },
  {
   "cell_type": "markdown",
   "id": "c4eb191c2e23b464",
   "metadata": {
    "collapsed": false
   },
   "source": [
    "### 1.4. Preview Material"
   ]
  },
  {
   "cell_type": "code",
   "id": "4ebde830102b0b94",
   "metadata": {
    "collapsed": false
   },
   "source": [
    "from utils.visualize import visualize_materials as visualize\n",
    "\n",
    "visualize([material], repetitions=[3, 3, 1], rotation=\"0x\")"
   ],
   "outputs": [],
   "execution_count": null
  },
  {
   "cell_type": "markdown",
   "id": "916ab91fcc23c7df",
   "metadata": {
    "collapsed": false
   },
   "source": [
    "## 2. Create grain boundary\n",
    "\n",
    "### 2.1. Create Phase 1 and Phase 2 Slabs\n",
    "Slab Configuration lets define the slab thickness, vacuum, and the Miller indices of the interfacial plane and get the slabs with possible terminations."
   ]
  },
  {
   "cell_type": "markdown",
   "id": "9e507e0b1534c0c5",
   "metadata": {
    "collapsed": false
   },
   "source": [
    "### 2.2. Get possible terminations for the slabs"
   ]
  },
  {
   "cell_type": "code",
   "id": "5bdc0e37e3ec9891",
   "metadata": {
    "collapsed": false
   },
   "source": [
    "from mat3ra.made.tools.build.slab.helpers import get_slab_terminations\n",
    "\n",
    "phase_1_terminations = get_slab_terminations(material=material, miller_indices=PHASE_1_MILLER_INDICES)\n",
    "phase_2_terminations = get_slab_terminations(material=material, miller_indices=PHASE_2_MILLER_INDICES)\n",
    "\n",
    "print(f\"Phase 1 Terminations:\")\n",
    "for idx, termination in enumerate(phase_1_terminations):\n",
    "    print(f\"    {idx}: {termination}\")\n",
    "print(f\"Phase 2 Terminations:\")\n",
    "for idx, termination in enumerate(phase_2_terminations):\n",
    "    print(f\"    {idx}: {termination}\")"
   ],
   "outputs": [],
   "execution_count": null
  },
  {
   "cell_type": "markdown",
   "id": "aebec268223b617c",
   "metadata": {
    "collapsed": false
   },
   "source": [
    "### 2.3. Visualize slabs for all possible terminations"
   ]
  },
  {
   "cell_type": "code",
   "id": "f75092312b399f84",
   "metadata": {
    "collapsed": false
   },
   "source": [
    "from mat3ra.made.tools.build.slab.helpers import create_slab\n",
    "\n",
    "phase_1_slabs = [create_slab(material, miller_indices=PHASE_1_MILLER_INDICES, termination=termination) for termination\n",
    "                 in phase_1_terminations]\n",
    "phase_2_slabs = [create_slab(material, miller_indices=PHASE_2_MILLER_INDICES, termination=termination) for termination\n",
    "                 in phase_2_terminations]\n",
    "\n",
    "visualize([{\"material\": slab, \"title\": slab.name} for slab in phase_1_slabs],\n",
    "          repetitions=[3, 3, 1], rotation=\"-90x\")\n",
    "visualize([{\"material\": slab, \"title\": slab.name} for slab in phase_2_slabs],\n",
    "          repetitions=[3, 3, 1], rotation=\"-90x\")"
   ],
   "outputs": [],
   "execution_count": null
  },
  {
   "metadata": {},
   "cell_type": "markdown",
   "source": "### 2.4. Create slabs with specified Miller indices and thickness",
   "id": "df2fe7c010c0e4d2"
  },
  {
   "cell_type": "code",
   "id": "29dd6499",
   "metadata": {},
   "source": [
    "# Create phase 1 slab\n",
    "phase_1_slab = create_slab(\n",
    "    crystal=material,\n",
    "    termination=None,  # Use default termination\n",
    "    miller_indices=PHASE_1_MILLER_INDICES,\n",
    "    number_of_layers=PHASE_1_THICKNESS,\n",
    "    vacuum=0.0,\n",
    "    use_orthogonal_c=PHASE_1_USE_ORTHOGONAL_C\n",
    ")\n",
    "\n",
    "# Create phase 2 slab  \n",
    "phase_2_slab = create_slab(\n",
    "    crystal=material,\n",
    "    termination=None,  # Use default termination\n",
    "    miller_indices=PHASE_2_MILLER_INDICES,\n",
    "    number_of_layers=PHASE_2_THICKNESS,\n",
    "    vacuum=0.0,\n",
    "    use_orthogonal_c=PHASE_2_USE_ORTHOGONAL_C\n",
    ")\n",
    "\n",
    "# Visualize the phase slabs\n",
    "visualize([{\"material\": phase_1_slab, \"title\": \"Phase 1 Slab\"}, {\"material\": phase_2_slab, \"title\": \"Phase 2 Slab\"}],\n",
    "          repetitions=[2, 2, 1], rotation=\"-90x\")\n"
   ],
   "outputs": [],
   "execution_count": null
  },
  {
   "cell_type": "markdown",
   "id": "8d87cbbb0d1ac1ab",
   "metadata": {
    "collapsed": false
   },
   "source": "### 2.5. Create Grain Boundary"
  },
  {
   "cell_type": "code",
   "id": "40b6c8662d071f18",
   "metadata": {
    "collapsed": false
   },
   "source": [
    "from mat3ra.made.tools.build.grain_boundary.helpers import create_grain_boundary_planar\n",
    "\n",
    "\n",
    "grain_boundary = create_grain_boundary_planar(\n",
    "    phase_1_material=phase_1_slab,\n",
    "    phase_2_material=phase_2_slab,\n",
    "    phase_1_miller_indices=PHASE_1_MILLER_INDICES,\n",
    "    phase_2_miller_indices=PHASE_2_MILLER_INDICES,\n",
    "    phase_1_thickness=PHASE_1_THICKNESS,\n",
    "    phase_2_thickness=PHASE_2_THICKNESS,\n",
    "    max_area=MAX_AREA,\n",
    "    max_area_ratio_tol = 0.1,\n",
    "    max_length_tol = 0.05,\n",
    "    max_angle_tol = 0.02,\n",
    ")"
   ],
   "outputs": [],
   "execution_count": null
  },
  {
   "cell_type": "markdown",
   "id": "3c6187f70eb5beac",
   "metadata": {
    "collapsed": false
   },
   "source": "## 3. Visualize the Material"
  },
  {
   "cell_type": "code",
   "id": "892c0e7c932cd725",
   "metadata": {
    "collapsed": false
   },
   "source": "visualize([grain_boundary], repetitions=[1, 1, 1], viewer=\"wave\")",
   "outputs": [],
   "execution_count": null
  },
  {
   "cell_type": "markdown",
   "id": "479d26e4a9e77d44",
   "metadata": {
    "collapsed": false
   },
   "source": "## 4. Save the final material"
  },
  {
   "cell_type": "code",
   "id": "503eff0dd5c1a160",
   "metadata": {
    "collapsed": false
   },
   "source": [
    "from utils.jupyterlite import download_content_to_file, set_materials\n",
    "\n",
    "set_materials(grain_boundary)\n",
    "download_content_to_file(grain_boundary.to_json(),\n",
    "                         f\"{MATERIAL_NAME}-{PHASE_1_MILLER_INDICES}-{PHASE_2_MILLER_INDICES}_grain_boundary.json\")"
   ],
   "outputs": [],
   "execution_count": null
  }
 ],
 "metadata": {
  "kernelspec": {
   "display_name": ".venv-3.11",
   "language": "python",
   "name": "python3"
  },
  "language_info": {
   "codemirror_mode": {
    "name": "ipython",
    "version": 3
   },
   "file_extension": ".py",
   "mimetype": "text/x-python",
   "name": "python",
   "nbconvert_exporter": "python",
   "pygments_lexer": "ipython3",
   "version": "3.11.7"
  }
 },
 "nbformat": 4,
 "nbformat_minor": 5
}
