version https://git-lfs.github.com/spec/v1
oid sha256:ad2343fd67009f7dcdc7e26a03324bd053100a02d2479746be93104f5047a1d1
size 28411
