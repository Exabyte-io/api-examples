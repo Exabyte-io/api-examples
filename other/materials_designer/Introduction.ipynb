{
 "cells": [
  {
   "cell_type": "markdown",
   "metadata": {},
   "source": [
    "# Materials Transformations with Python Notebooks\n",
    "\n",
    "## Overview\n",
    "\n",
    "This Jupyter Lite distribution contains pre-configured examples of materials transformations including simple ones like creation of supercell or a surface, and more complex like creating an interface with Zur and McGill Superlattice matching algorithm\n",
    "\n",
    "## Examples\n",
    "\n",
    "### 1. Interface creation with Zur and McGill Superlattice algorithm\n",
    "\n",
    "[This file](interface_creation/zsl_interface_generation.ipynb) helps creating interface between two materials by finding matching superlattices and selecting optimal variants by size-strain trade-off. (Link to the lattice match algorithm: https://doi.org/10.1063/1.333084)\n",
    "\n",
    "### Definition for communication\n",
    "\n",
    "[definitions.py](definitions.py)\n"
   ]
  },
  {
   "cell_type": "markdown",
   "metadata": {},
   "source": []
  }
 ],
 "metadata": {
  "language_info": {
   "name": "python"
  }
 },
 "nbformat": 4,
 "nbformat_minor": 2
}
