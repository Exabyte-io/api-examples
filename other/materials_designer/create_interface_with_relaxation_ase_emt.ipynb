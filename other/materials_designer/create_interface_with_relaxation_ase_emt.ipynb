{
 "cells": [
  {
   "cell_type": "markdown",
   "metadata": {},
   "source": [
    "# Create an interface between two materials with minimal strain\n",
    "\n",
    "Use Zur and McGill superlattices matching [algorithm](https://doi.org/10.1063/1.3330840) to create interfaces between two materials using the Pymatgen [implementation](https://pymatgen.org/pymatgen.analysis.interfaces.html#pymatgen.analysis.interfaces.zsl).\n",
    "\n",
    "<h2 style=\"color:green\">Usage</h2>\n",
    "\n",
    "0. Make sure to select Input Materials\n",
    "1. Execute \"Run first: ...\" cell below to load Input Materials into the current kernel\n",
    "2. Set Input Parameters (e.g. `MILLER_INDICES`, `THICKNESS`, `MAX_AREA`) below or use the default values\n",
    "3. Click \"Run\" > \"Run All\" to run all cells\n",
    "4. Wait for the run to complete (depending on the area, it can take 1-2 min or more). Scroll down to view cell results.\n",
    "5. Review the strain plot and modify its parameters as needed\n",
    "\n",
    "## Methodology\n",
    "\n",
    "The following happens in the script below:\n",
    "\n",
    "1. Create slabs for each input material. The materials data is passed in from and back to the web application according to this description (TBA).\n",
    "   We assume that two input materials are either in bulk form (e.g. Ni crystal) or layered (e.g. graphene). \n",
    "   \n",
    "   We construct the interface along the Z-axis. The material corresponding to the bottom of the interface is referred to as the \"**substrate**\", and the top - as the \"**layer**\". \n",
    "\n",
    "2. Perform strain matching on the slabs to extract the supercell dimensions. The algorithm has a set of parameters, such as the maximum area considered, that can be configured by editing the cells below.\n",
    "\n",
    "3. When the strain matching is finished, the interface with the lowest strain (and the smallest number of atoms) is selected. We create the corresponding supercells and place them at a specified distance from each other (note no shift is performed currently).\n"
   ]
  },
  {
   "cell_type": "markdown",
   "metadata": {},
   "source": [
    "<h2 style=\"color:red\">Run first: load input materials in current kernel</h2>\n"
   ]
  },
  {
   "cell_type": "code",
   "execution_count": 24,
   "metadata": {
    "ExecuteTime": {
     "end_time": "2024-02-23T06:59:32.139897Z",
     "start_time": "2024-02-23T06:59:32.011540Z"
    }
   },
   "outputs": [],
   "source": [
    "import json\n",
    "materials_in = []\n",
    "for file in [\"Ni.json\", \"Gr.json\"]:\n",
    "    with open(file, \"r\") as f:\n",
    "        data = f.read()\n",
    "        materials_in.append(json.loads(data))"
   ]
  },
  {
   "cell_type": "markdown",
   "metadata": {},
   "source": [
    "## 1. Set Input Parameters\n",
    "\n",
    "### 1.1. Select Substrate and Layer from Input Materials"
   ]
  },
  {
   "cell_type": "code",
   "execution_count": 25,
   "metadata": {
    "ExecuteTime": {
     "end_time": "2024-02-23T06:59:32.182902Z",
     "start_time": "2024-02-23T06:59:32.143075Z"
    }
   },
   "outputs": [],
   "source": [
    "SUBSTRATE_PARAMETERS = {\n",
    "    \"MATERIAL_INDEX\": 0,  # the index of the material in the materials_in list\n",
    "    \"MILLER_INDICES\": (1, 1, 1),  # the miller indices of the interfacial plane\n",
    "    \"THICKNESS\": 3,  # in layers\n",
    "}\n",
    "\n",
    "LAYER_PARAMETERS = {\n",
    "    \"MATERIAL_INDEX\": 1, # the index of the material in the materials_in list\n",
    "    \"MILLER_INDICES\": (0, 0, 1),  # the miller indices of the interfacial plane\n",
    "    \"THICKNESS\": 1,  # in layers\n",
    "}"
   ]
  },
  {
   "cell_type": "markdown",
   "metadata": {},
   "source": [
    "### 1.2. Set Interface Parameters\n",
    "\n",
    "The distance between layer and substrate and maximum area to consider when matching.\n"
   ]
  },
  {
   "cell_type": "code",
   "execution_count": 26,
   "metadata": {
    "ExecuteTime": {
     "end_time": "2024-02-23T06:59:32.260407Z",
     "start_time": "2024-02-23T06:59:32.186142Z"
    }
   },
   "outputs": [],
   "source": [
    "INTERFACE_PARAMETERS = {\n",
    "    \"DISTANCE_Z\": 3.0, # in Angstroms\n",
    "    \"MAX_AREA\": 50, # in Angstroms^2\n",
    "}"
   ]
  },
  {
   "cell_type": "markdown",
   "metadata": {},
   "source": [
    "### 1.3. Set Algorithm Parameters"
   ]
  },
  {
   "cell_type": "code",
   "execution_count": 27,
   "metadata": {
    "ExecuteTime": {
     "end_time": "2024-02-23T06:59:32.325278Z",
     "start_time": "2024-02-23T06:59:32.251721Z"
    }
   },
   "outputs": [],
   "source": [
    "ZSL_PARAMETERS = {\n",
    "    \"MAX_AREA\": INTERFACE_PARAMETERS[\"MAX_AREA\"],  # The area to consider in Angstrom^2\n",
    "    \"MAX_AREA_TOL\": 0.09,  # The area within this tolerance is considered equal\n",
    "    \"MAX_LENGTH_TOL\": 0.03,  # supercell lattice vectors lengths within this tolerance are considered equal\n",
    "    \"MAX_ANGLE_TOL\": 0.01,  # supercell lattice angles within this tolerance are considered equal\n",
    "    \"STRAIN_TOL\": 10e-6,  # strains within this tolerance are considered equal\n",
    "}"
   ]
  },
  {
   "cell_type": "markdown",
   "metadata": {},
   "source": [
    "## 2. Install Packages"
   ]
  },
  {
   "cell_type": "code",
   "execution_count": 28,
   "metadata": {
    "ExecuteTime": {
     "end_time": "2024-02-23T06:59:32.377580Z",
     "start_time": "2024-02-23T06:59:32.318494Z"
    }
   },
   "outputs": [],
   "source": [
    "# from jupyterlite.utils import install_packages\n",
    "\n",
    "# await install_packages(\"create_interface_with_min_strain_zsl.ipynb\")"
   ]
  },
  {
   "cell_type": "markdown",
   "metadata": {},
   "source": [
    "## 3. Create interfaces\n",
    "\n",
    "### 3.1. Extract Interfaces and Terminations\n",
    "\n",
    "Extract all possible layer/substrate supercell combinations within the maximum area including different terminations."
   ]
  },
  {
   "cell_type": "code",
   "execution_count": 29,
   "metadata": {
    "tags": [],
    "trusted": true,
    "ExecuteTime": {
     "end_time": "2024-02-23T06:59:34.530093Z",
     "start_time": "2024-02-23T06:59:32.371609Z"
    }
   },
   "outputs": [
    {
     "name": "stdout",
     "output_type": "stream",
     "text": [
      "Full Formula (Ni1)\n",
      "Reduced Formula: Ni\n",
      "abc   :   2.460000   2.460000   2.460000\n",
      "angles:  60.000004  59.999994  60.000003\n",
      "pbc   :       True       True       True\n",
      "Sites (1)\n",
      "  #  SP      a    b    c\n",
      "---  ----  ---  ---  ---\n",
      "  0  Ni      0    0    0 \n",
      "\n",
      "Full Formula (C2)\n",
      "Reduced Formula: C\n",
      "abc   :   2.467291   2.467291  20.000000\n",
      "angles:  90.000000  90.000000 119.999986\n",
      "pbc   :       True       True       True\n",
      "Sites (2)\n",
      "  #  SP           a         b    c\n",
      "---  ----  --------  --------  ---\n",
      "  0  C     0         0           0\n",
      "  1  C     0.333333  0.666667    0 \n",
      "\n",
      "Creating interfaces...\n"
     ]
    }
   ],
   "source": [
    "from src.pymatgen_coherent_interface_builder import CoherentInterfaceBuilder, ZSLGenerator\n",
    "from src.utils import to_pymatgen\n",
    "\n",
    "if \"materials_in\" in globals():\n",
    "    pymatgen_materials = [to_pymatgen(item) for item in materials_in]\n",
    "for material in pymatgen_materials:\n",
    "    print(material, \"\\n\")\n",
    "\n",
    "\n",
    "def create_interfaces(settings):\n",
    "    print(\"Creating interfaces...\")\n",
    "    zsl = ZSLGenerator(\n",
    "        max_area_ratio_tol=settings[\"ZSL_PARAMETERS\"][\"MAX_AREA_TOL\"],\n",
    "        max_area=settings[\"ZSL_PARAMETERS\"][\"MAX_AREA\"],\n",
    "        max_length_tol=settings[\"ZSL_PARAMETERS\"][\"MAX_LENGTH_TOL\"],\n",
    "        max_angle_tol=settings[\"ZSL_PARAMETERS\"][\"MAX_ANGLE_TOL\"],\n",
    "    )\n",
    "\n",
    "    cib = CoherentInterfaceBuilder(\n",
    "        substrate_structure=pymatgen_materials[settings[\"SUBSTRATE_PARAMETERS\"][\"MATERIAL_INDEX\"]],\n",
    "        film_structure=pymatgen_materials[settings[\"LAYER_PARAMETERS\"][\"MATERIAL_INDEX\"]],\n",
    "        substrate_miller=settings[\"SUBSTRATE_PARAMETERS\"][\"MILLER_INDICES\"],\n",
    "        film_miller=settings[\"LAYER_PARAMETERS\"][\"MILLER_INDICES\"],\n",
    "        zslgen=zsl,\n",
    "        strain_tol=settings[\"ZSL_PARAMETERS\"][\"STRAIN_TOL\"],\n",
    "    )\n",
    "\n",
    "    # Find terminations\n",
    "    cib._find_terminations()\n",
    "    terminations = cib.terminations\n",
    "\n",
    "    # Create interfaces for each termination\n",
    "    interfaces = {}\n",
    "    for termination in terminations:\n",
    "        interfaces[termination] = []\n",
    "        for interface in cib.get_interfaces(\n",
    "            termination,\n",
    "            gap=settings[\"INTERFACE_PARAMETERS\"][\"DISTANCE_Z\"],\n",
    "            film_thickness=settings[\"LAYER_PARAMETERS\"][\"THICKNESS\"],\n",
    "            substrate_thickness=settings[\"SUBSTRATE_PARAMETERS\"][\"THICKNESS\"],\n",
    "            in_layers=True,\n",
    "        ):\n",
    "            # Wrap atoms to unit cell\n",
    "            interface[\"interface\"].make_supercell((1,1,1), to_unit_cell=True)\n",
    "            interfaces[termination].append(interface)\n",
    "    return interfaces, terminations\n",
    "\n",
    "\n",
    "interfaces, terminations = create_interfaces(\n",
    "    settings={\n",
    "        \"SUBSTRATE_PARAMETERS\": SUBSTRATE_PARAMETERS,\n",
    "        \"LAYER_PARAMETERS\": LAYER_PARAMETERS,\n",
    "        \"ZSL_PARAMETERS\": ZSL_PARAMETERS,\n",
    "        \"INTERFACE_PARAMETERS\": INTERFACE_PARAMETERS,\n",
    "    }\n",
    ")"
   ]
  },
  {
   "cell_type": "markdown",
   "metadata": {},
   "source": [
    "### 3.2. Print out the interfaces and terminations"
   ]
  },
  {
   "cell_type": "code",
   "execution_count": 30,
   "metadata": {
    "ExecuteTime": {
     "end_time": "2024-02-23T06:59:34.539509Z",
     "start_time": "2024-02-23T06:59:34.533076Z"
    }
   },
   "outputs": [
    {
     "name": "stdout",
     "output_type": "stream",
     "text": [
      "Found 1 terminations\n",
      "Found 233 interfaces for ('C_P6/mmm_2', 'Ni_R-3m_1') termination\n"
     ]
    }
   ],
   "source": [
    "print(f'Found {len(terminations)} terminations')\n",
    "for termination in terminations:\n",
    "    print(f\"Found {len(interfaces[termination])} interfaces for\", termination, \"termination\")"
   ]
  },
  {
   "cell_type": "markdown",
   "metadata": {},
   "source": [
    "## 4. Sort interfaces by strain\n",
    "\n",
    "### 4.1. Sort all interfaces"
   ]
  },
  {
   "cell_type": "code",
   "execution_count": 31,
   "metadata": {
    "ExecuteTime": {
     "end_time": "2024-02-23T06:59:34.552722Z",
     "start_time": "2024-02-23T06:59:34.549963Z"
    }
   },
   "outputs": [],
   "source": [
    "# Could be \"strain\", \"von_mises_strain\", \"mean_abs_strain\"\n",
    "strain_mode = \"mean_abs_strain\"\n",
    "\n",
    "# Sort interfaces by the specified strain mode and number of sites\n",
    "def sort_interfaces(interfaces, terminations):\n",
    "    sorted_interfaces = {}\n",
    "    for termination in terminations:\n",
    "        sorted_interfaces[termination] = sorted(\n",
    "            interfaces[termination], key=lambda x: (x[strain_mode], x[\"interface\"].num_sites)\n",
    "        )\n",
    "    return sorted_interfaces\n",
    "\n",
    "\n",
    "sorted_interfaces = sort_interfaces(interfaces, terminations)"
   ]
  },
  {
   "cell_type": "markdown",
   "metadata": {},
   "source": [
    "### 4.2. Print out interfaces with lowest strain for each termination"
   ]
  },
  {
   "cell_type": "code",
   "execution_count": 32,
   "metadata": {
    "ExecuteTime": {
     "end_time": "2024-02-23T06:59:34.603677Z",
     "start_time": "2024-02-23T06:59:34.556662Z"
    }
   },
   "outputs": [
    {
     "name": "stdout",
     "output_type": "stream",
     "text": [
      "Interface with lowest strain for termination ('C_P6/mmm_2', 'Ni_R-3m_1') (index 0):\n",
      "    strain: 0.06600000000000002 %\n",
      "    number of atoms: 5\n"
     ]
    }
   ],
   "source": [
    "for termination in terminations:\n",
    "    print(f\"Interface with lowest strain for termination {termination} (index 0):\")\n",
    "    first_interface = interfaces[termination][0]\n",
    "    print(\"    strain:\", first_interface[strain_mode] * 100, \"%\")\n",
    "    print(\"    number of atoms:\", first_interface[\"interface\"].num_sites)"
   ]
  },
  {
   "cell_type": "markdown",
   "metadata": {},
   "source": [
    "## 5. Plot the results\n",
    "\n",
    "Plot the number of atoms vs strain. Adjust the parameters as needed.\n"
   ]
  },
  {
   "cell_type": "code",
   "execution_count": 33,
   "metadata": {
    "ExecuteTime": {
     "end_time": "2024-02-23T06:59:34.605359Z",
     "start_time": "2024-02-23T06:59:34.573908Z"
    }
   },
   "outputs": [
    {
     "data": {
      "application/vnd.plotly.v1+json": {
       "data": [
        {
         "hoverinfo": "text",
         "mode": "markers",
         "name": "Indices: 0",
         "text": [
          "Termination: ('C_P6/mmm_2', 'Ni_R-3m_1')<br>Termination index: 0<br>Interfaces Index Range: 0<br>Strain: 0.07%<br>Atoms: 5"
         ],
         "x": [
          0.06600000000000002
         ],
         "y": [
          5
         ],
         "type": "scatter"
        },
        {
         "hoverinfo": "text",
         "mode": "markers",
         "name": "Indices: 1-9",
         "text": [
          "Termination: ('C_P6/mmm_2', 'Ni_R-3m_1')<br>Termination index: 0<br>Interfaces Index Range: 1-9<br>Strain: 0.07%<br>Atoms: 10"
         ],
         "x": [
          0.06600000000000002
         ],
         "y": [
          10
         ],
         "type": "scatter"
        },
        {
         "hoverinfo": "text",
         "mode": "markers",
         "name": "Indices: 10-19",
         "text": [
          "Termination: ('C_P6/mmm_2', 'Ni_R-3m_1')<br>Termination index: 0<br>Interfaces Index Range: 10-19<br>Strain: 0.07%<br>Atoms: 15"
         ],
         "x": [
          0.06600000000000002
         ],
         "y": [
          15
         ],
         "type": "scatter"
        },
        {
         "hoverinfo": "text",
         "mode": "markers",
         "name": "Indices: 20-38",
         "text": [
          "Termination: ('C_P6/mmm_2', 'Ni_R-3m_1')<br>Termination index: 0<br>Interfaces Index Range: 20-38<br>Strain: 0.07%<br>Atoms: 20"
         ],
         "x": [
          0.06600000000000002
         ],
         "y": [
          20
         ],
         "type": "scatter"
        },
        {
         "hoverinfo": "text",
         "mode": "markers",
         "name": "Indices: 39-56",
         "text": [
          "Termination: ('C_P6/mmm_2', 'Ni_R-3m_1')<br>Termination index: 0<br>Interfaces Index Range: 39-56<br>Strain: 0.07%<br>Atoms: 25"
         ],
         "x": [
          0.06600000000000002
         ],
         "y": [
          25
         ],
         "type": "scatter"
        },
        {
         "hoverinfo": "text",
         "mode": "markers",
         "name": "Indices: 57-110",
         "text": [
          "Termination: ('C_P6/mmm_2', 'Ni_R-3m_1')<br>Termination index: 0<br>Interfaces Index Range: 57-110<br>Strain: 0.07%<br>Atoms: 30"
         ],
         "x": [
          0.06600000000000002
         ],
         "y": [
          30
         ],
         "type": "scatter"
        },
        {
         "hoverinfo": "text",
         "mode": "markers",
         "name": "Indices: 111-132",
         "text": [
          "Termination: ('C_P6/mmm_2', 'Ni_R-3m_1')<br>Termination index: 0<br>Interfaces Index Range: 111-132<br>Strain: 0.07%<br>Atoms: 35"
         ],
         "x": [
          0.06600000000000002
         ],
         "y": [
          35
         ],
         "type": "scatter"
        },
        {
         "hoverinfo": "text",
         "mode": "markers",
         "name": "Indices: 133-177",
         "text": [
          "Termination: ('C_P6/mmm_2', 'Ni_R-3m_1')<br>Termination index: 0<br>Interfaces Index Range: 133-177<br>Strain: 0.07%<br>Atoms: 40"
         ],
         "x": [
          0.06600000000000002
         ],
         "y": [
          40
         ],
         "type": "scatter"
        },
        {
         "hoverinfo": "text",
         "mode": "markers",
         "name": "Indices: 178-232",
         "text": [
          "Termination: ('C_P6/mmm_2', 'Ni_R-3m_1')<br>Termination index: 0<br>Interfaces Index Range: 178-232<br>Strain: 0.07%<br>Atoms: 45"
         ],
         "x": [
          0.06600000000000002
         ],
         "y": [
          45
         ],
         "type": "scatter"
        }
       ],
       "layout": {
        "height": 600,
        "hovermode": "closest",
        "legend": {
         "title": {
          "text": "Interfaces Index Range"
         }
        },
        "xaxis": {
         "title": {
          "text": "Strain (%)"
         },
         "type": "log"
        },
        "yaxis": {
         "title": {
          "text": "Number of atoms"
         },
         "type": "log"
        },
        "template": {
         "data": {
          "histogram2dcontour": [
           {
            "type": "histogram2dcontour",
            "colorbar": {
             "outlinewidth": 0,
             "ticks": ""
            },
            "colorscale": [
             [
              0.0,
              "#0d0887"
             ],
             [
              0.1111111111111111,
              "#46039f"
             ],
             [
              0.2222222222222222,
              "#7201a8"
             ],
             [
              0.3333333333333333,
              "#9c179e"
             ],
             [
              0.4444444444444444,
              "#bd3786"
             ],
             [
              0.5555555555555556,
              "#d8576b"
             ],
             [
              0.6666666666666666,
              "#ed7953"
             ],
             [
              0.7777777777777778,
              "#fb9f3a"
             ],
             [
              0.8888888888888888,
              "#fdca26"
             ],
             [
              1.0,
              "#f0f921"
             ]
            ]
           }
          ],
          "choropleth": [
           {
            "type": "choropleth",
            "colorbar": {
             "outlinewidth": 0,
             "ticks": ""
            }
           }
          ],
          "histogram2d": [
           {
            "type": "histogram2d",
            "colorbar": {
             "outlinewidth": 0,
             "ticks": ""
            },
            "colorscale": [
             [
              0.0,
              "#0d0887"
             ],
             [
              0.1111111111111111,
              "#46039f"
             ],
             [
              0.2222222222222222,
              "#7201a8"
             ],
             [
              0.3333333333333333,
              "#9c179e"
             ],
             [
              0.4444444444444444,
              "#bd3786"
             ],
             [
              0.5555555555555556,
              "#d8576b"
             ],
             [
              0.6666666666666666,
              "#ed7953"
             ],
             [
              0.7777777777777778,
              "#fb9f3a"
             ],
             [
              0.8888888888888888,
              "#fdca26"
             ],
             [
              1.0,
              "#f0f921"
             ]
            ]
           }
          ],
          "heatmap": [
           {
            "type": "heatmap",
            "colorbar": {
             "outlinewidth": 0,
             "ticks": ""
            },
            "colorscale": [
             [
              0.0,
              "#0d0887"
             ],
             [
              0.1111111111111111,
              "#46039f"
             ],
             [
              0.2222222222222222,
              "#7201a8"
             ],
             [
              0.3333333333333333,
              "#9c179e"
             ],
             [
              0.4444444444444444,
              "#bd3786"
             ],
             [
              0.5555555555555556,
              "#d8576b"
             ],
             [
              0.6666666666666666,
              "#ed7953"
             ],
             [
              0.7777777777777778,
              "#fb9f3a"
             ],
             [
              0.8888888888888888,
              "#fdca26"
             ],
             [
              1.0,
              "#f0f921"
             ]
            ]
           }
          ],
          "heatmapgl": [
           {
            "type": "heatmapgl",
            "colorbar": {
             "outlinewidth": 0,
             "ticks": ""
            },
            "colorscale": [
             [
              0.0,
              "#0d0887"
             ],
             [
              0.1111111111111111,
              "#46039f"
             ],
             [
              0.2222222222222222,
              "#7201a8"
             ],
             [
              0.3333333333333333,
              "#9c179e"
             ],
             [
              0.4444444444444444,
              "#bd3786"
             ],
             [
              0.5555555555555556,
              "#d8576b"
             ],
             [
              0.6666666666666666,
              "#ed7953"
             ],
             [
              0.7777777777777778,
              "#fb9f3a"
             ],
             [
              0.8888888888888888,
              "#fdca26"
             ],
             [
              1.0,
              "#f0f921"
             ]
            ]
           }
          ],
          "contourcarpet": [
           {
            "type": "contourcarpet",
            "colorbar": {
             "outlinewidth": 0,
             "ticks": ""
            }
           }
          ],
          "contour": [
           {
            "type": "contour",
            "colorbar": {
             "outlinewidth": 0,
             "ticks": ""
            },
            "colorscale": [
             [
              0.0,
              "#0d0887"
             ],
             [
              0.1111111111111111,
              "#46039f"
             ],
             [
              0.2222222222222222,
              "#7201a8"
             ],
             [
              0.3333333333333333,
              "#9c179e"
             ],
             [
              0.4444444444444444,
              "#bd3786"
             ],
             [
              0.5555555555555556,
              "#d8576b"
             ],
             [
              0.6666666666666666,
              "#ed7953"
             ],
             [
              0.7777777777777778,
              "#fb9f3a"
             ],
             [
              0.8888888888888888,
              "#fdca26"
             ],
             [
              1.0,
              "#f0f921"
             ]
            ]
           }
          ],
          "surface": [
           {
            "type": "surface",
            "colorbar": {
             "outlinewidth": 0,
             "ticks": ""
            },
            "colorscale": [
             [
              0.0,
              "#0d0887"
             ],
             [
              0.1111111111111111,
              "#46039f"
             ],
             [
              0.2222222222222222,
              "#7201a8"
             ],
             [
              0.3333333333333333,
              "#9c179e"
             ],
             [
              0.4444444444444444,
              "#bd3786"
             ],
             [
              0.5555555555555556,
              "#d8576b"
             ],
             [
              0.6666666666666666,
              "#ed7953"
             ],
             [
              0.7777777777777778,
              "#fb9f3a"
             ],
             [
              0.8888888888888888,
              "#fdca26"
             ],
             [
              1.0,
              "#f0f921"
             ]
            ]
           }
          ],
          "mesh3d": [
           {
            "type": "mesh3d",
            "colorbar": {
             "outlinewidth": 0,
             "ticks": ""
            }
           }
          ],
          "scatter": [
           {
            "fillpattern": {
             "fillmode": "overlay",
             "size": 10,
             "solidity": 0.2
            },
            "type": "scatter"
           }
          ],
          "parcoords": [
           {
            "type": "parcoords",
            "line": {
             "colorbar": {
              "outlinewidth": 0,
              "ticks": ""
             }
            }
           }
          ],
          "scatterpolargl": [
           {
            "type": "scatterpolargl",
            "marker": {
             "colorbar": {
              "outlinewidth": 0,
              "ticks": ""
             }
            }
           }
          ],
          "bar": [
           {
            "error_x": {
             "color": "#2a3f5f"
            },
            "error_y": {
             "color": "#2a3f5f"
            },
            "marker": {
             "line": {
              "color": "#E5ECF6",
              "width": 0.5
             },
             "pattern": {
              "fillmode": "overlay",
              "size": 10,
              "solidity": 0.2
             }
            },
            "type": "bar"
           }
          ],
          "scattergeo": [
           {
            "type": "scattergeo",
            "marker": {
             "colorbar": {
              "outlinewidth": 0,
              "ticks": ""
             }
            }
           }
          ],
          "scatterpolar": [
           {
            "type": "scatterpolar",
            "marker": {
             "colorbar": {
              "outlinewidth": 0,
              "ticks": ""
             }
            }
           }
          ],
          "histogram": [
           {
            "marker": {
             "pattern": {
              "fillmode": "overlay",
              "size": 10,
              "solidity": 0.2
             }
            },
            "type": "histogram"
           }
          ],
          "scattergl": [
           {
            "type": "scattergl",
            "marker": {
             "colorbar": {
              "outlinewidth": 0,
              "ticks": ""
             }
            }
           }
          ],
          "scatter3d": [
           {
            "type": "scatter3d",
            "line": {
             "colorbar": {
              "outlinewidth": 0,
              "ticks": ""
             }
            },
            "marker": {
             "colorbar": {
              "outlinewidth": 0,
              "ticks": ""
             }
            }
           }
          ],
          "scattermapbox": [
           {
            "type": "scattermapbox",
            "marker": {
             "colorbar": {
              "outlinewidth": 0,
              "ticks": ""
             }
            }
           }
          ],
          "scatterternary": [
           {
            "type": "scatterternary",
            "marker": {
             "colorbar": {
              "outlinewidth": 0,
              "ticks": ""
             }
            }
           }
          ],
          "scattercarpet": [
           {
            "type": "scattercarpet",
            "marker": {
             "colorbar": {
              "outlinewidth": 0,
              "ticks": ""
             }
            }
           }
          ],
          "carpet": [
           {
            "aaxis": {
             "endlinecolor": "#2a3f5f",
             "gridcolor": "white",
             "linecolor": "white",
             "minorgridcolor": "white",
             "startlinecolor": "#2a3f5f"
            },
            "baxis": {
             "endlinecolor": "#2a3f5f",
             "gridcolor": "white",
             "linecolor": "white",
             "minorgridcolor": "white",
             "startlinecolor": "#2a3f5f"
            },
            "type": "carpet"
           }
          ],
          "table": [
           {
            "cells": {
             "fill": {
              "color": "#EBF0F8"
             },
             "line": {
              "color": "white"
             }
            },
            "header": {
             "fill": {
              "color": "#C8D4E3"
             },
             "line": {
              "color": "white"
             }
            },
            "type": "table"
           }
          ],
          "barpolar": [
           {
            "marker": {
             "line": {
              "color": "#E5ECF6",
              "width": 0.5
             },
             "pattern": {
              "fillmode": "overlay",
              "size": 10,
              "solidity": 0.2
             }
            },
            "type": "barpolar"
           }
          ],
          "pie": [
           {
            "automargin": true,
            "type": "pie"
           }
          ]
         },
         "layout": {
          "autotypenumbers": "strict",
          "colorway": [
           "#636efa",
           "#EF553B",
           "#00cc96",
           "#ab63fa",
           "#FFA15A",
           "#19d3f3",
           "#FF6692",
           "#B6E880",
           "#FF97FF",
           "#FECB52"
          ],
          "font": {
           "color": "#2a3f5f"
          },
          "hovermode": "closest",
          "hoverlabel": {
           "align": "left"
          },
          "paper_bgcolor": "white",
          "plot_bgcolor": "#E5ECF6",
          "polar": {
           "bgcolor": "#E5ECF6",
           "angularaxis": {
            "gridcolor": "white",
            "linecolor": "white",
            "ticks": ""
           },
           "radialaxis": {
            "gridcolor": "white",
            "linecolor": "white",
            "ticks": ""
           }
          },
          "ternary": {
           "bgcolor": "#E5ECF6",
           "aaxis": {
            "gridcolor": "white",
            "linecolor": "white",
            "ticks": ""
           },
           "baxis": {
            "gridcolor": "white",
            "linecolor": "white",
            "ticks": ""
           },
           "caxis": {
            "gridcolor": "white",
            "linecolor": "white",
            "ticks": ""
           }
          },
          "coloraxis": {
           "colorbar": {
            "outlinewidth": 0,
            "ticks": ""
           }
          },
          "colorscale": {
           "sequential": [
            [
             0.0,
             "#0d0887"
            ],
            [
             0.1111111111111111,
             "#46039f"
            ],
            [
             0.2222222222222222,
             "#7201a8"
            ],
            [
             0.3333333333333333,
             "#9c179e"
            ],
            [
             0.4444444444444444,
             "#bd3786"
            ],
            [
             0.5555555555555556,
             "#d8576b"
            ],
            [
             0.6666666666666666,
             "#ed7953"
            ],
            [
             0.7777777777777778,
             "#fb9f3a"
            ],
            [
             0.8888888888888888,
             "#fdca26"
            ],
            [
             1.0,
             "#f0f921"
            ]
           ],
           "sequentialminus": [
            [
             0.0,
             "#0d0887"
            ],
            [
             0.1111111111111111,
             "#46039f"
            ],
            [
             0.2222222222222222,
             "#7201a8"
            ],
            [
             0.3333333333333333,
             "#9c179e"
            ],
            [
             0.4444444444444444,
             "#bd3786"
            ],
            [
             0.5555555555555556,
             "#d8576b"
            ],
            [
             0.6666666666666666,
             "#ed7953"
            ],
            [
             0.7777777777777778,
             "#fb9f3a"
            ],
            [
             0.8888888888888888,
             "#fdca26"
            ],
            [
             1.0,
             "#f0f921"
            ]
           ],
           "diverging": [
            [
             0,
             "#8e0152"
            ],
            [
             0.1,
             "#c51b7d"
            ],
            [
             0.2,
             "#de77ae"
            ],
            [
             0.3,
             "#f1b6da"
            ],
            [
             0.4,
             "#fde0ef"
            ],
            [
             0.5,
             "#f7f7f7"
            ],
            [
             0.6,
             "#e6f5d0"
            ],
            [
             0.7,
             "#b8e186"
            ],
            [
             0.8,
             "#7fbc41"
            ],
            [
             0.9,
             "#4d9221"
            ],
            [
             1,
             "#276419"
            ]
           ]
          },
          "xaxis": {
           "gridcolor": "white",
           "linecolor": "white",
           "ticks": "",
           "title": {
            "standoff": 15
           },
           "zerolinecolor": "white",
           "automargin": true,
           "zerolinewidth": 2
          },
          "yaxis": {
           "gridcolor": "white",
           "linecolor": "white",
           "ticks": "",
           "title": {
            "standoff": 15
           },
           "zerolinecolor": "white",
           "automargin": true,
           "zerolinewidth": 2
          },
          "scene": {
           "xaxis": {
            "backgroundcolor": "#E5ECF6",
            "gridcolor": "white",
            "linecolor": "white",
            "showbackground": true,
            "ticks": "",
            "zerolinecolor": "white",
            "gridwidth": 2
           },
           "yaxis": {
            "backgroundcolor": "#E5ECF6",
            "gridcolor": "white",
            "linecolor": "white",
            "showbackground": true,
            "ticks": "",
            "zerolinecolor": "white",
            "gridwidth": 2
           },
           "zaxis": {
            "backgroundcolor": "#E5ECF6",
            "gridcolor": "white",
            "linecolor": "white",
            "showbackground": true,
            "ticks": "",
            "zerolinecolor": "white",
            "gridwidth": 2
           }
          },
          "shapedefaults": {
           "line": {
            "color": "#2a3f5f"
           }
          },
          "annotationdefaults": {
           "arrowcolor": "#2a3f5f",
           "arrowhead": 0,
           "arrowwidth": 1
          },
          "geo": {
           "bgcolor": "white",
           "landcolor": "#E5ECF6",
           "subunitcolor": "white",
           "showland": true,
           "showlakes": true,
           "lakecolor": "white"
          },
          "title": {
           "x": 0.05
          },
          "mapbox": {
           "style": "light"
          }
         }
        }
       },
       "config": {
        "plotlyServerURL": "https://plot.ly"
       }
      },
      "text/html": "<div>                            <div id=\"760888dd-8f84-46f3-bf8e-3e687a12c8b3\" class=\"plotly-graph-div\" style=\"height:600px; width:100%;\"></div>            <script type=\"text/javascript\">                require([\"plotly\"], function(Plotly) {                    window.PLOTLYENV=window.PLOTLYENV || {};                                    if (document.getElementById(\"760888dd-8f84-46f3-bf8e-3e687a12c8b3\")) {                    Plotly.newPlot(                        \"760888dd-8f84-46f3-bf8e-3e687a12c8b3\",                        [{\"hoverinfo\":\"text\",\"mode\":\"markers\",\"name\":\"Indices: 0\",\"text\":[\"Termination: ('C_P6\\u002fmmm_2', 'Ni_R-3m_1')\\u003cbr\\u003eTermination index: 0\\u003cbr\\u003eInterfaces Index Range: 0\\u003cbr\\u003eStrain: 0.07%\\u003cbr\\u003eAtoms: 5\"],\"x\":[0.06600000000000002],\"y\":[5],\"type\":\"scatter\"},{\"hoverinfo\":\"text\",\"mode\":\"markers\",\"name\":\"Indices: 1-9\",\"text\":[\"Termination: ('C_P6\\u002fmmm_2', 'Ni_R-3m_1')\\u003cbr\\u003eTermination index: 0\\u003cbr\\u003eInterfaces Index Range: 1-9\\u003cbr\\u003eStrain: 0.07%\\u003cbr\\u003eAtoms: 10\"],\"x\":[0.06600000000000002],\"y\":[10],\"type\":\"scatter\"},{\"hoverinfo\":\"text\",\"mode\":\"markers\",\"name\":\"Indices: 10-19\",\"text\":[\"Termination: ('C_P6\\u002fmmm_2', 'Ni_R-3m_1')\\u003cbr\\u003eTermination index: 0\\u003cbr\\u003eInterfaces Index Range: 10-19\\u003cbr\\u003eStrain: 0.07%\\u003cbr\\u003eAtoms: 15\"],\"x\":[0.06600000000000002],\"y\":[15],\"type\":\"scatter\"},{\"hoverinfo\":\"text\",\"mode\":\"markers\",\"name\":\"Indices: 20-38\",\"text\":[\"Termination: ('C_P6\\u002fmmm_2', 'Ni_R-3m_1')\\u003cbr\\u003eTermination index: 0\\u003cbr\\u003eInterfaces Index Range: 20-38\\u003cbr\\u003eStrain: 0.07%\\u003cbr\\u003eAtoms: 20\"],\"x\":[0.06600000000000002],\"y\":[20],\"type\":\"scatter\"},{\"hoverinfo\":\"text\",\"mode\":\"markers\",\"name\":\"Indices: 39-56\",\"text\":[\"Termination: ('C_P6\\u002fmmm_2', 'Ni_R-3m_1')\\u003cbr\\u003eTermination index: 0\\u003cbr\\u003eInterfaces Index Range: 39-56\\u003cbr\\u003eStrain: 0.07%\\u003cbr\\u003eAtoms: 25\"],\"x\":[0.06600000000000002],\"y\":[25],\"type\":\"scatter\"},{\"hoverinfo\":\"text\",\"mode\":\"markers\",\"name\":\"Indices: 57-110\",\"text\":[\"Termination: ('C_P6\\u002fmmm_2', 'Ni_R-3m_1')\\u003cbr\\u003eTermination index: 0\\u003cbr\\u003eInterfaces Index Range: 57-110\\u003cbr\\u003eStrain: 0.07%\\u003cbr\\u003eAtoms: 30\"],\"x\":[0.06600000000000002],\"y\":[30],\"type\":\"scatter\"},{\"hoverinfo\":\"text\",\"mode\":\"markers\",\"name\":\"Indices: 111-132\",\"text\":[\"Termination: ('C_P6\\u002fmmm_2', 'Ni_R-3m_1')\\u003cbr\\u003eTermination index: 0\\u003cbr\\u003eInterfaces Index Range: 111-132\\u003cbr\\u003eStrain: 0.07%\\u003cbr\\u003eAtoms: 35\"],\"x\":[0.06600000000000002],\"y\":[35],\"type\":\"scatter\"},{\"hoverinfo\":\"text\",\"mode\":\"markers\",\"name\":\"Indices: 133-177\",\"text\":[\"Termination: ('C_P6\\u002fmmm_2', 'Ni_R-3m_1')\\u003cbr\\u003eTermination index: 0\\u003cbr\\u003eInterfaces Index Range: 133-177\\u003cbr\\u003eStrain: 0.07%\\u003cbr\\u003eAtoms: 40\"],\"x\":[0.06600000000000002],\"y\":[40],\"type\":\"scatter\"},{\"hoverinfo\":\"text\",\"mode\":\"markers\",\"name\":\"Indices: 178-232\",\"text\":[\"Termination: ('C_P6\\u002fmmm_2', 'Ni_R-3m_1')\\u003cbr\\u003eTermination index: 0\\u003cbr\\u003eInterfaces Index Range: 178-232\\u003cbr\\u003eStrain: 0.07%\\u003cbr\\u003eAtoms: 45\"],\"x\":[0.06600000000000002],\"y\":[45],\"type\":\"scatter\"}],                        {\"height\":600,\"hovermode\":\"closest\",\"legend\":{\"title\":{\"text\":\"Interfaces Index Range\"}},\"xaxis\":{\"title\":{\"text\":\"Strain (%)\"},\"type\":\"log\"},\"yaxis\":{\"title\":{\"text\":\"Number of atoms\"},\"type\":\"log\"},\"template\":{\"data\":{\"histogram2dcontour\":[{\"type\":\"histogram2dcontour\",\"colorbar\":{\"outlinewidth\":0,\"ticks\":\"\"},\"colorscale\":[[0.0,\"#0d0887\"],[0.1111111111111111,\"#46039f\"],[0.2222222222222222,\"#7201a8\"],[0.3333333333333333,\"#9c179e\"],[0.4444444444444444,\"#bd3786\"],[0.5555555555555556,\"#d8576b\"],[0.6666666666666666,\"#ed7953\"],[0.7777777777777778,\"#fb9f3a\"],[0.8888888888888888,\"#fdca26\"],[1.0,\"#f0f921\"]]}],\"choropleth\":[{\"type\":\"choropleth\",\"colorbar\":{\"outlinewidth\":0,\"ticks\":\"\"}}],\"histogram2d\":[{\"type\":\"histogram2d\",\"colorbar\":{\"outlinewidth\":0,\"ticks\":\"\"},\"colorscale\":[[0.0,\"#0d0887\"],[0.1111111111111111,\"#46039f\"],[0.2222222222222222,\"#7201a8\"],[0.3333333333333333,\"#9c179e\"],[0.4444444444444444,\"#bd3786\"],[0.5555555555555556,\"#d8576b\"],[0.6666666666666666,\"#ed7953\"],[0.7777777777777778,\"#fb9f3a\"],[0.8888888888888888,\"#fdca26\"],[1.0,\"#f0f921\"]]}],\"heatmap\":[{\"type\":\"heatmap\",\"colorbar\":{\"outlinewidth\":0,\"ticks\":\"\"},\"colorscale\":[[0.0,\"#0d0887\"],[0.1111111111111111,\"#46039f\"],[0.2222222222222222,\"#7201a8\"],[0.3333333333333333,\"#9c179e\"],[0.4444444444444444,\"#bd3786\"],[0.5555555555555556,\"#d8576b\"],[0.6666666666666666,\"#ed7953\"],[0.7777777777777778,\"#fb9f3a\"],[0.8888888888888888,\"#fdca26\"],[1.0,\"#f0f921\"]]}],\"heatmapgl\":[{\"type\":\"heatmapgl\",\"colorbar\":{\"outlinewidth\":0,\"ticks\":\"\"},\"colorscale\":[[0.0,\"#0d0887\"],[0.1111111111111111,\"#46039f\"],[0.2222222222222222,\"#7201a8\"],[0.3333333333333333,\"#9c179e\"],[0.4444444444444444,\"#bd3786\"],[0.5555555555555556,\"#d8576b\"],[0.6666666666666666,\"#ed7953\"],[0.7777777777777778,\"#fb9f3a\"],[0.8888888888888888,\"#fdca26\"],[1.0,\"#f0f921\"]]}],\"contourcarpet\":[{\"type\":\"contourcarpet\",\"colorbar\":{\"outlinewidth\":0,\"ticks\":\"\"}}],\"contour\":[{\"type\":\"contour\",\"colorbar\":{\"outlinewidth\":0,\"ticks\":\"\"},\"colorscale\":[[0.0,\"#0d0887\"],[0.1111111111111111,\"#46039f\"],[0.2222222222222222,\"#7201a8\"],[0.3333333333333333,\"#9c179e\"],[0.4444444444444444,\"#bd3786\"],[0.5555555555555556,\"#d8576b\"],[0.6666666666666666,\"#ed7953\"],[0.7777777777777778,\"#fb9f3a\"],[0.8888888888888888,\"#fdca26\"],[1.0,\"#f0f921\"]]}],\"surface\":[{\"type\":\"surface\",\"colorbar\":{\"outlinewidth\":0,\"ticks\":\"\"},\"colorscale\":[[0.0,\"#0d0887\"],[0.1111111111111111,\"#46039f\"],[0.2222222222222222,\"#7201a8\"],[0.3333333333333333,\"#9c179e\"],[0.4444444444444444,\"#bd3786\"],[0.5555555555555556,\"#d8576b\"],[0.6666666666666666,\"#ed7953\"],[0.7777777777777778,\"#fb9f3a\"],[0.8888888888888888,\"#fdca26\"],[1.0,\"#f0f921\"]]}],\"mesh3d\":[{\"type\":\"mesh3d\",\"colorbar\":{\"outlinewidth\":0,\"ticks\":\"\"}}],\"scatter\":[{\"fillpattern\":{\"fillmode\":\"overlay\",\"size\":10,\"solidity\":0.2},\"type\":\"scatter\"}],\"parcoords\":[{\"type\":\"parcoords\",\"line\":{\"colorbar\":{\"outlinewidth\":0,\"ticks\":\"\"}}}],\"scatterpolargl\":[{\"type\":\"scatterpolargl\",\"marker\":{\"colorbar\":{\"outlinewidth\":0,\"ticks\":\"\"}}}],\"bar\":[{\"error_x\":{\"color\":\"#2a3f5f\"},\"error_y\":{\"color\":\"#2a3f5f\"},\"marker\":{\"line\":{\"color\":\"#E5ECF6\",\"width\":0.5},\"pattern\":{\"fillmode\":\"overlay\",\"size\":10,\"solidity\":0.2}},\"type\":\"bar\"}],\"scattergeo\":[{\"type\":\"scattergeo\",\"marker\":{\"colorbar\":{\"outlinewidth\":0,\"ticks\":\"\"}}}],\"scatterpolar\":[{\"type\":\"scatterpolar\",\"marker\":{\"colorbar\":{\"outlinewidth\":0,\"ticks\":\"\"}}}],\"histogram\":[{\"marker\":{\"pattern\":{\"fillmode\":\"overlay\",\"size\":10,\"solidity\":0.2}},\"type\":\"histogram\"}],\"scattergl\":[{\"type\":\"scattergl\",\"marker\":{\"colorbar\":{\"outlinewidth\":0,\"ticks\":\"\"}}}],\"scatter3d\":[{\"type\":\"scatter3d\",\"line\":{\"colorbar\":{\"outlinewidth\":0,\"ticks\":\"\"}},\"marker\":{\"colorbar\":{\"outlinewidth\":0,\"ticks\":\"\"}}}],\"scattermapbox\":[{\"type\":\"scattermapbox\",\"marker\":{\"colorbar\":{\"outlinewidth\":0,\"ticks\":\"\"}}}],\"scatterternary\":[{\"type\":\"scatterternary\",\"marker\":{\"colorbar\":{\"outlinewidth\":0,\"ticks\":\"\"}}}],\"scattercarpet\":[{\"type\":\"scattercarpet\",\"marker\":{\"colorbar\":{\"outlinewidth\":0,\"ticks\":\"\"}}}],\"carpet\":[{\"aaxis\":{\"endlinecolor\":\"#2a3f5f\",\"gridcolor\":\"white\",\"linecolor\":\"white\",\"minorgridcolor\":\"white\",\"startlinecolor\":\"#2a3f5f\"},\"baxis\":{\"endlinecolor\":\"#2a3f5f\",\"gridcolor\":\"white\",\"linecolor\":\"white\",\"minorgridcolor\":\"white\",\"startlinecolor\":\"#2a3f5f\"},\"type\":\"carpet\"}],\"table\":[{\"cells\":{\"fill\":{\"color\":\"#EBF0F8\"},\"line\":{\"color\":\"white\"}},\"header\":{\"fill\":{\"color\":\"#C8D4E3\"},\"line\":{\"color\":\"white\"}},\"type\":\"table\"}],\"barpolar\":[{\"marker\":{\"line\":{\"color\":\"#E5ECF6\",\"width\":0.5},\"pattern\":{\"fillmode\":\"overlay\",\"size\":10,\"solidity\":0.2}},\"type\":\"barpolar\"}],\"pie\":[{\"automargin\":true,\"type\":\"pie\"}]},\"layout\":{\"autotypenumbers\":\"strict\",\"colorway\":[\"#636efa\",\"#EF553B\",\"#00cc96\",\"#ab63fa\",\"#FFA15A\",\"#19d3f3\",\"#FF6692\",\"#B6E880\",\"#FF97FF\",\"#FECB52\"],\"font\":{\"color\":\"#2a3f5f\"},\"hovermode\":\"closest\",\"hoverlabel\":{\"align\":\"left\"},\"paper_bgcolor\":\"white\",\"plot_bgcolor\":\"#E5ECF6\",\"polar\":{\"bgcolor\":\"#E5ECF6\",\"angularaxis\":{\"gridcolor\":\"white\",\"linecolor\":\"white\",\"ticks\":\"\"},\"radialaxis\":{\"gridcolor\":\"white\",\"linecolor\":\"white\",\"ticks\":\"\"}},\"ternary\":{\"bgcolor\":\"#E5ECF6\",\"aaxis\":{\"gridcolor\":\"white\",\"linecolor\":\"white\",\"ticks\":\"\"},\"baxis\":{\"gridcolor\":\"white\",\"linecolor\":\"white\",\"ticks\":\"\"},\"caxis\":{\"gridcolor\":\"white\",\"linecolor\":\"white\",\"ticks\":\"\"}},\"coloraxis\":{\"colorbar\":{\"outlinewidth\":0,\"ticks\":\"\"}},\"colorscale\":{\"sequential\":[[0.0,\"#0d0887\"],[0.1111111111111111,\"#46039f\"],[0.2222222222222222,\"#7201a8\"],[0.3333333333333333,\"#9c179e\"],[0.4444444444444444,\"#bd3786\"],[0.5555555555555556,\"#d8576b\"],[0.6666666666666666,\"#ed7953\"],[0.7777777777777778,\"#fb9f3a\"],[0.8888888888888888,\"#fdca26\"],[1.0,\"#f0f921\"]],\"sequentialminus\":[[0.0,\"#0d0887\"],[0.1111111111111111,\"#46039f\"],[0.2222222222222222,\"#7201a8\"],[0.3333333333333333,\"#9c179e\"],[0.4444444444444444,\"#bd3786\"],[0.5555555555555556,\"#d8576b\"],[0.6666666666666666,\"#ed7953\"],[0.7777777777777778,\"#fb9f3a\"],[0.8888888888888888,\"#fdca26\"],[1.0,\"#f0f921\"]],\"diverging\":[[0,\"#8e0152\"],[0.1,\"#c51b7d\"],[0.2,\"#de77ae\"],[0.3,\"#f1b6da\"],[0.4,\"#fde0ef\"],[0.5,\"#f7f7f7\"],[0.6,\"#e6f5d0\"],[0.7,\"#b8e186\"],[0.8,\"#7fbc41\"],[0.9,\"#4d9221\"],[1,\"#276419\"]]},\"xaxis\":{\"gridcolor\":\"white\",\"linecolor\":\"white\",\"ticks\":\"\",\"title\":{\"standoff\":15},\"zerolinecolor\":\"white\",\"automargin\":true,\"zerolinewidth\":2},\"yaxis\":{\"gridcolor\":\"white\",\"linecolor\":\"white\",\"ticks\":\"\",\"title\":{\"standoff\":15},\"zerolinecolor\":\"white\",\"automargin\":true,\"zerolinewidth\":2},\"scene\":{\"xaxis\":{\"backgroundcolor\":\"#E5ECF6\",\"gridcolor\":\"white\",\"linecolor\":\"white\",\"showbackground\":true,\"ticks\":\"\",\"zerolinecolor\":\"white\",\"gridwidth\":2},\"yaxis\":{\"backgroundcolor\":\"#E5ECF6\",\"gridcolor\":\"white\",\"linecolor\":\"white\",\"showbackground\":true,\"ticks\":\"\",\"zerolinecolor\":\"white\",\"gridwidth\":2},\"zaxis\":{\"backgroundcolor\":\"#E5ECF6\",\"gridcolor\":\"white\",\"linecolor\":\"white\",\"showbackground\":true,\"ticks\":\"\",\"zerolinecolor\":\"white\",\"gridwidth\":2}},\"shapedefaults\":{\"line\":{\"color\":\"#2a3f5f\"}},\"annotationdefaults\":{\"arrowcolor\":\"#2a3f5f\",\"arrowhead\":0,\"arrowwidth\":1},\"geo\":{\"bgcolor\":\"white\",\"landcolor\":\"#E5ECF6\",\"subunitcolor\":\"white\",\"showland\":true,\"showlakes\":true,\"lakecolor\":\"white\"},\"title\":{\"x\":0.05},\"mapbox\":{\"style\":\"light\"}}}},                        {\"responsive\": true}                    ).then(function(){\n                            \nvar gd = document.getElementById('760888dd-8f84-46f3-bf8e-3e687a12c8b3');\nvar x = new MutationObserver(function (mutations, observer) {{\n        var display = window.getComputedStyle(gd).display;\n        if (!display || display === 'none') {{\n            console.log([gd, 'removed!']);\n            Plotly.purge(gd);\n            observer.disconnect();\n        }}\n}});\n\n// Listen for the removal of the full notebook cells\nvar notebookContainer = gd.closest('#notebook-container');\nif (notebookContainer) {{\n    x.observe(notebookContainer, {childList: true});\n}}\n\n// Listen for the clearing of the current output cell\nvar outputEl = gd.closest('.output');\nif (outputEl) {{\n    x.observe(outputEl, {childList: true});\n}}\n\n                        })                };                });            </script>        </div>"
     },
     "metadata": {},
     "output_type": "display_data"
    },
    {
     "name": "stdout",
     "output_type": "stream",
     "text": [
      "Termination 0: ('C_P6/mmm_2', 'Ni_R-3m_1')\n"
     ]
    }
   ],
   "source": [
    "import plotly.graph_objs as go\n",
    "from collections import defaultdict\n",
    "\n",
    "PLOT_SETTINGS = {\n",
    "    \"HEIGHT\": 600,\n",
    "    \"X_SCALE\": \"log\",  # or linear\n",
    "    \"Y_SCALE\": \"log\",  # or linear\n",
    "}\n",
    "\n",
    "\n",
    "def plot_strain_vs_atoms(sorted_interfaces, terminations, settings):\n",
    "    # Create a mapping from termination to its index\n",
    "    termination_to_index = {termination: i for i, termination in enumerate(terminations)}\n",
    "\n",
    "    grouped_interfaces = defaultdict(list)\n",
    "    for termination, interfaces in sorted_interfaces.items():\n",
    "        for index, interface_data in enumerate(interfaces):\n",
    "            strain_percentage = interface_data[\"mean_abs_strain\"] * 100\n",
    "            num_sites = interface_data[\"interface\"].num_sites\n",
    "            key = (strain_percentage, num_sites)\n",
    "            grouped_interfaces[key].append((index, termination))\n",
    "    \n",
    "    data = []\n",
    "    for (strain, num_sites), indices_and_terminations in grouped_interfaces.items():\n",
    "        termination_indices = defaultdict(list)\n",
    "        for index, termination in indices_and_terminations:\n",
    "            termination_indices[termination].append(index)\n",
    "        all_indices = [index for indices in termination_indices.values() for index in indices]\n",
    "        index_range = f\"{min(all_indices)}-{max(all_indices)}\" if len(all_indices) > 1 else str(min(all_indices))\n",
    "        \n",
    "        hover_text = \"<br>-----<br>\".join(\n",
    "             f\"Termination: {termination}<br>Termination index: {termination_to_index[termination]}<br>Interfaces Index Range: {index_range}<br>Strain: {strain:.2f}%<br>Atoms: {num_sites}\"\n",
    "            for termination, indices in termination_indices.items()\n",
    "        )\n",
    "        trace = go.Scatter(\n",
    "            x=[strain],\n",
    "            y=[num_sites],\n",
    "            text=[hover_text],\n",
    "            mode=\"markers\",\n",
    "            hoverinfo=\"text\",\n",
    "            name=f\"Indices: {index_range}\",\n",
    "        )\n",
    "        data.append(trace)\n",
    "\n",
    "    layout = go.Layout(\n",
    "        xaxis=dict(title=\"Strain (%)\", type=settings[\"X_SCALE\"]),\n",
    "        yaxis=dict(title=\"Number of atoms\", type=settings[\"Y_SCALE\"]),\n",
    "        hovermode=\"closest\",\n",
    "        height=settings[\"HEIGHT\"],\n",
    "        legend_title_text=\"Interfaces Index Range\",\n",
    "    )\n",
    "    fig = go.Figure(data=data, layout=layout)\n",
    "    fig.show()\n",
    "\n",
    "\n",
    "\n",
    "plot_strain_vs_atoms(sorted_interfaces, terminations, PLOT_SETTINGS)\n",
    "\n",
    "for i, termination in enumerate(terminations):\n",
    "    print(f\"Termination {i}:\", termination)"
   ]
  },
  {
   "cell_type": "markdown",
   "metadata": {},
   "source": [
    "## 6. Select the interface to relax\n",
    "\n",
    "### 6.1. Select the interface with the desired termination and strain\n",
    "\n",
    "The data in `sorted_interfaces` now contains an object with the following structure:\n",
    "\n",
    "```json\n",
    "{\n",
    "    \"('C_P6/mmm_2', 'Si_R-3m_1')\": [\n",
    "        { ...interface for ('C_P6/mmm_2', 'Si_R-3m_1') at index 0...},\n",
    "        { ...interface for ('C_P6/mmm_2', 'Si_R-3m_1') at index 1...},\n",
    "        ...\n",
    "    ],\n",
    "    \"<termination at index 1>\": [\n",
    "        { ...interface for 'termination at index 1' at index 0...},\n",
    "        { ...interface for 'termination at index 1' at index 1...},\n",
    "        ...\n",
    "    ]\n",
    "}\n",
    "```\n",
    "\n",
    "Select the index for termination first, and for it - the index in the list of corresponding interfaces sorted by strain (index 0 has minimum strain)."
   ]
  },
  {
   "cell_type": "code",
   "execution_count": 34,
   "metadata": {
    "ExecuteTime": {
     "end_time": "2024-02-23T06:59:34.606026Z",
     "start_time": "2024-02-23T06:59:34.582078Z"
    }
   },
   "outputs": [],
   "source": [
    "termination_index = 0\n",
    "interface_index = 0\n",
    "\n",
    "termination = terminations[termination_index]\n",
    "\n",
    "interface = sorted_interfaces[termination][interface_index][\"interface\"]"
   ]
  },
  {
   "cell_type": "markdown",
   "metadata": {},
   "source": [
    "## 7. Apply relaxation\n",
    "### 7.1. Apply relaxation to the selected interface"
   ]
  },
  {
   "cell_type": "code",
   "execution_count": 35,
   "metadata": {
    "ExecuteTime": {
     "end_time": "2024-02-23T06:59:34.870087Z",
     "start_time": "2024-02-23T06:59:34.592671Z"
    }
   },
   "outputs": [
    {
     "name": "stdout",
     "output_type": "stream",
     "text": [
      "      Step     Time          Energy         fmax\n",
      "BFGS:    0 22:59:34        1.423498        0.2830\n",
      "BFGS:    1 22:59:34        1.422027        0.2575\n",
      "BFGS:    2 22:59:34        1.410513        0.2052\n",
      "BFGS:    3 22:59:34        1.408686        0.2119\n",
      "BFGS:    4 22:59:34        1.404357        0.2224\n",
      "BFGS:    5 22:59:34        1.396633        0.3918\n",
      "BFGS:    6 22:59:34        1.359630        0.7796\n",
      "BFGS:    7 22:59:34        1.248944        1.0053\n",
      "BFGS:    8 22:59:34        1.171894        1.0624\n",
      "BFGS:    9 22:59:34        1.142866        1.0505\n",
      "BFGS:   10 22:59:34        1.095750        1.0480\n",
      "BFGS:   11 22:59:34        0.909481        1.0819\n",
      "BFGS:   12 22:59:34        0.845958        1.4513\n",
      "BFGS:   13 22:59:34        0.759011        0.9676\n",
      "BFGS:   14 22:59:34        0.731432        0.3462\n",
      "BFGS:   15 22:59:34        0.723573        0.1376\n",
      "BFGS:   16 22:59:34        0.722363        0.0433\n",
      "BFGS:   17 22:59:34        0.722235        0.0062\n",
      "Original structure:\n",
      " Ni  C \n",
      " 1.0000000000000000\n",
      "     2.4599995727812636    0.0000000000000000    0.0000000000000002\n",
      "     1.2299995285143266    2.1304228448014668    0.0000000000000002\n",
      "     0.0000000000000000    0.0000000000000000   27.0171631046722780\n",
      " Ni  C  \n",
      "   3   2\n",
      "Cartesian\n",
      "  1.2300003829518735  0.7101417146926911  0.0000000000000001\n",
      "  0.0000010237800144  0.0000011496383034  2.0085815523361399\n",
      "  2.4600007659037471  1.4202834293853821  4.0171631046722771\n",
      "  0.0000000000000000  0.0000000000000000  7.0171631046722780\n",
      "  1.2299984704321631  0.7101402381262073  7.0171631046722780\n",
      "\n",
      "\n",
      "Relaxed structure:\n",
      " Ni  C \n",
      " 1.0000000000000000\n",
      "     2.4599995727812636    0.0000000000000000    0.0000000000000002\n",
      "     1.2299995285143266    2.1304228448014668    0.0000000000000002\n",
      "     0.0000000000000000    0.0000000000000000   27.0171631046722780\n",
      " Ni  C  \n",
      "   3   2\n",
      "Cartesian\n",
      "  1.2300031015085946  0.7101461929515854  0.5260421300230792\n",
      "  0.0000006922939747  0.0000006009098648  2.5465564275909114\n",
      "  2.4599985522195529  1.4202799717570684  4.5673026420532636\n",
      " -0.0000007808382405 -0.0000007432361958  6.2106684704714068\n",
      "  1.2299990778839116  0.7101405094602526  6.2095011962143465\n",
      "\n",
      "The final energy is 0.722 eV.\n"
     ]
    }
   ],
   "source": [
    "# Per https://github.com/materialsvirtuallab/matgl/blob/main/examples/Relaxations%20and%20Simulations%20using%20the%20M3GNet%20Universal%20Potential.ipynb\n",
    "from src.utils import poscar_to_ase, ase_to_poscar, ase_to_pymatgen, pymatgen_to_ase\n",
    "from ase.optimize import BFGS\n",
    "from ase.calculators.emt import EMT\n",
    "\n",
    "# relax the interface\n",
    "ase_interface = poscar_to_ase(interface.to(fmt=\"poscar\"))\n",
    "ase_interface.set_calculator(EMT())\n",
    "dyn = BFGS(ase_interface)\n",
    "dyn.run(fmax=0.01)\n",
    "\n",
    "# extract results\n",
    "ase_original_interface = pymatgen_to_ase(interface)\n",
    "ase_final_interface = ase_interface\n",
    "relaxed_energy = ase_interface.get_total_energy()\n",
    "\n",
    "# print out the final relaxed structure and energy\n",
    "print('Original structure:\\n', ase_to_poscar(ase_original_interface))\n",
    "print('\\nRelaxed structure:\\n', ase_to_poscar(ase_final_interface))\n",
    "print(f\"The final energy is {float(relaxed_energy):.3f} eV.\")"
   ]
  },
  {
   "cell_type": "markdown",
   "metadata": {},
   "source": [
    "### 7.2. View structure before and after relaxation"
   ]
  },
  {
   "cell_type": "code",
   "execution_count": 39,
   "metadata": {
    "ExecuteTime": {
     "end_time": "2024-02-23T07:00:03.504373Z",
     "start_time": "2024-02-23T07:00:02.936170Z"
    }
   },
   "outputs": [
    {
     "data": {
      "text/plain": "<IPython.core.display.HTML object>",
      "text/html": "<div style=\"display: flex;\">\n    <div style=\"display: inline-block; margin: 10px; vertical-align: top;\">\n        <p>Ni3C2 - original</p>\n        <img src=\"data:image/png;base64,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\" alt=\"original\" />\n    </div>\n    \n    <div style=\"display: inline-block; margin: 10px; vertical-align: top;\">\n        <p>Ni3C2 - relaxed</p>\n        <img src=\"data:image/png;base64,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\" alt=\"relaxed\" />\n    </div>\n    </div>"
     },
     "metadata": {},
     "output_type": "display_data"
    }
   ],
   "source": [
    "import base64\n",
    "from ase.io import write\n",
    "from ase.build import make_supercell\n",
    "from IPython.display import HTML\n",
    "import io\n",
    "\n",
    "def visualize_material_base64(material, title: str, rotation: str = '0x', number_of_repetitions: int = 3):\n",
    "    \"\"\"\n",
    "    Returns an HTML string with a Base64-encoded image for visualization,\n",
    "    including the name of the file, positioned horizontally.\n",
    "    \"\"\"\n",
    "    # Set the number of unit cell repetition for the structure\n",
    "    n = number_of_repetitions\n",
    "    material_repeat = make_supercell(material, [[n,0,0],[0,n,0],[0,0,1]])\n",
    "    text = f\"{material.symbols} - {title}\"\n",
    "    \n",
    "    # Write image to a buffer to display in HTML\n",
    "    buf = io.BytesIO()\n",
    "    write(buf, material_repeat, format='png', rotation=rotation)\n",
    "    buf.seek(0)\n",
    "    img_str = base64.b64encode(buf.read()).decode('utf-8')\n",
    "    html_str = f'''\n",
    "    <div style=\"display: inline-block; margin: 10px; vertical-align: top;\">\n",
    "        <p>{text}</p>\n",
    "        <img src=\"data:image/png;base64,{img_str}\" alt=\"{title}\" />\n",
    "    </div>\n",
    "    '''\n",
    "    return html_str\n",
    "\n",
    "html_original = visualize_material_base64(ase_original_interface, \"original\", \"-90x\")\n",
    "html_relaxed = visualize_material_base64(ase_final_interface, \"relaxed\", \"-90x\")\n",
    "\n",
    "# Display the interfaces before and after relaxation\n",
    "html_content = f'<div style=\"display: flex;\">{html_original}{html_relaxed}</div>'\n",
    "display(HTML(html_content))\n",
    "\n"
   ]
  },
  {
   "cell_type": "markdown",
   "metadata": {},
   "source": [
    "### 7.3. Calculate energy energy using ASE EMT"
   ]
  },
  {
   "cell_type": "code",
   "execution_count": 37,
   "metadata": {
    "ExecuteTime": {
     "end_time": "2024-02-23T06:59:34.937042Z",
     "start_time": "2024-02-23T06:59:34.870485Z"
    }
   },
   "outputs": [
    {
     "name": "stdout",
     "output_type": "stream",
     "text": [
      "5.240839288055053\n",
      "5\n",
      "3\n",
      "2\n",
      "Relaxed interface energy: 0.7222 eV\n",
      "Original Substrate energy: 1.0828 eV\n",
      "Original Layer energy: 0.4296 eV\n",
      "Original Delta: -0.7901 eV\n",
      "Original Delta per area: -0.1508 eV/Ang^2\n",
      "Relaxed Substrate energy: 1.0817 eV\n",
      "Relaxed Layer energy: 0.4296 eV\n",
      "Relaxed Delta: -0.7890 eV\n",
      "Relaxed Delta per area: -0.1506 eV/Ang^2\n",
      "Effective relaxed Delta per area: -0.0094 eV/Ang^2\n",
      "Ni  C \n",
      " 1.0000000000000000\n",
      "     2.4599995727812636    0.0000000000000000    0.0000000000000002\n",
      "     1.2299995285143266    2.1304228448014668    0.0000000000000002\n",
      "     0.0000000000000000    0.0000000000000000   27.0171631046722780\n",
      " Ni  C  \n",
      "   3   2\n",
      "Cartesian\n",
      "  1.2300031015085946  0.7101461929515854  0.5260421300230792\n",
      "  0.0000006922939747  0.0000006009098648  2.5465564275909114\n",
      "  2.4599985522195529  1.4202799717570684  4.5673026420532636\n",
      " -0.0000007808382405 -0.0000007432361958  6.2106684704714068\n",
      "  1.2299990778839116  0.7101405094602526  6.2095011962143465\n",
      "\n",
      "Ni \n",
      " 1.0000000000000000\n",
      "     2.4599995727812636    0.0000000000000000    0.0000000000000002\n",
      "     1.2299995285143266    2.1304228448014668    0.0000000000000002\n",
      "     0.0000000000000000    0.0000000000000000   27.0171631046722780\n",
      " Ni \n",
      "   3\n",
      "Cartesian\n",
      "  1.2300031015085946  0.7101461929515854  0.5260421300230792\n",
      "  0.0000006922939747  0.0000006009098648  2.5465564275909114\n",
      "  2.4599985522195529  1.4202799717570684  4.5673026420532636\n",
      "\n",
      " C \n",
      " 1.0000000000000000\n",
      "     2.4599995727812636    0.0000000000000000    0.0000000000000002\n",
      "     1.2299995285143266    2.1304228448014668    0.0000000000000002\n",
      "     0.0000000000000000    0.0000000000000000   27.0171631046722780\n",
      " C  \n",
      "   2\n",
      "Cartesian\n",
      " -0.0000007808382405 -0.0000007432361958  6.2106684704714068\n",
      "  1.2299990778839116  0.7101405094602526  6.2095011962143465\n",
      "\n",
      "Ni \n",
      " 1.0000000000000000\n",
      "     2.4599995727812636    0.0000000000000000    0.0000000000000002\n",
      "     1.2299995285143266    2.1304228448014668    0.0000000000000002\n",
      "     0.0000000000000000    0.0000000000000000   27.0171631046722780\n",
      " Ni \n",
      "   3\n",
      "Cartesian\n",
      "  1.2300003829518735  0.7101417146926911  0.0000000000000001\n",
      "  0.0000010237800144  0.0000011496383034  2.0085815523361399\n",
      "  2.4600007659037471  1.4202834293853821  4.0171631046722771\n",
      "\n",
      " C \n",
      " 1.0000000000000000\n",
      "     2.4599995727812636    0.0000000000000000    0.0000000000000002\n",
      "     1.2299995285143266    2.1304228448014668    0.0000000000000002\n",
      "     0.0000000000000000    0.0000000000000000   27.0171631046722780\n",
      " C  \n",
      "   2\n",
      "Cartesian\n",
      "  0.0000000000000000  0.0000000000000000  7.0171631046722780\n",
      "  1.2299984704321631  0.7101402381262073  7.0171631046722780\n"
     ]
    }
   ],
   "source": [
    "from ase import Atoms\n",
    "nickel_relaxed_interface = ase_final_interface.copy()\n",
    "graphene_relaxed_interface = ase_final_interface.copy()\n",
    "nickel_original_interface = ase_original_interface.copy()\n",
    "graphene_original_interface = ase_original_interface.copy()\n",
    "\n",
    "del nickel_relaxed_interface[[atom.index for atom in nickel_relaxed_interface if atom.symbol != 'Ni']]\n",
    "del graphene_relaxed_interface[[atom.index for atom in graphene_relaxed_interface if atom.symbol != 'C']]\n",
    "del nickel_original_interface[[atom.index for atom in nickel_original_interface if atom.symbol != 'Ni']]\n",
    "del graphene_original_interface[[atom.index for atom in graphene_original_interface if atom.symbol != 'C']]\n",
    "\n",
    "#set EMT calculator\n",
    "nickel_relaxed_interface.set_calculator(EMT())\n",
    "graphene_relaxed_interface.set_calculator(EMT())\n",
    "nickel_original_interface.set_calculator(EMT())\n",
    "graphene_original_interface.set_calculator(EMT())\n",
    "\n",
    "original_substrate_energy = nickel_original_interface.get_total_energy()\n",
    "original_layer_energy = graphene_original_interface.get_total_energy()\n",
    "relaxed_substrate_energy = nickel_relaxed_interface.get_total_energy()\n",
    "relaxed_layer_energy = graphene_relaxed_interface.get_total_energy()\n",
    "\n",
    "delta_original = relaxed_energy - original_substrate_energy - original_layer_energy\n",
    "delta_relaxed = relaxed_energy - relaxed_substrate_energy - relaxed_layer_energy\n",
    "\n",
    "# calculate area of interface\n",
    "area = ase_original_interface.get_volume() / ase_original_interface.cell[2, 2]\n",
    "print(area)\n",
    "\n",
    "effective_delta_relaxed = (relaxed_energy * ase_final_interface.get_global_number_of_atoms() -\n",
    "                           nickel_relaxed_interface.get_global_number_of_atoms() * relaxed_substrate_energy -\n",
    "                           graphene_relaxed_interface.get_global_number_of_atoms() * relaxed_layer_energy)/(2 * area * ase_final_interface.get_global_number_of_atoms())\n",
    "print(ase_final_interface.get_global_number_of_atoms())\n",
    "print(nickel_relaxed_interface.get_global_number_of_atoms())\n",
    "print(graphene_relaxed_interface.get_global_number_of_atoms())\n",
    "# print(f\"Original interface energy: {ase_original_interface.get_total_energy():.4f} eV\")\n",
    "print(f\"Relaxed interface energy: {relaxed_energy:.4f} eV\")\n",
    "print(f\"Original Substrate energy: {original_substrate_energy:.4f} eV\")\n",
    "print(f\"Original Layer energy: {original_layer_energy:.4f} eV\")\n",
    "print(f\"Original Delta: {delta_original:.4f} eV\")\n",
    "print(f\"Original Delta per area: {delta_original / area:.4f} eV/Ang^2\")\n",
    "print(f\"Relaxed Substrate energy: {relaxed_substrate_energy:.4f} eV\")\n",
    "print(f\"Relaxed Layer energy: {relaxed_layer_energy:.4f} eV\")\n",
    "print(f\"Relaxed Delta: {delta_relaxed:.4f} eV\")\n",
    "print(f\"Relaxed Delta per area: {delta_relaxed / area:.4f} eV/Ang^2\")\n",
    "print(f\"Effective relaxed Delta per area: {effective_delta_relaxed:.4f} eV/Ang^2\")\n",
    "\n",
    "\n",
    "print(ase_to_poscar(ase_final_interface))\n",
    "print(ase_to_poscar(nickel_relaxed_interface))\n",
    "print(ase_to_poscar(graphene_relaxed_interface))\n",
    "print(ase_to_poscar(nickel_original_interface))\n",
    "print(ase_to_poscar(graphene_original_interface))"
   ]
  },
  {
   "cell_type": "markdown",
   "metadata": {},
   "source": [
    "## 8. Pass relaxed interface to Materials Designer"
   ]
  },
  {
   "cell_type": "code",
   "execution_count": 38,
   "metadata": {
    "ExecuteTime": {
     "end_time": "2024-02-23T06:59:34.994260Z",
     "start_time": "2024-02-23T06:59:34.937542Z"
    }
   },
   "outputs": [
    {
     "ename": "ImportError",
     "evalue": "This module intended to be used in a Pyodide environment. Please install packages yourself using pip.",
     "output_type": "error",
     "traceback": [
      "\u001B[0;31m---------------------------------------------------------------------------\u001B[0m",
      "\u001B[0;31mModuleNotFoundError\u001B[0m                       Traceback (most recent call last)",
      "File \u001B[0;32m~/code/GREEN/api-examples/other/materials_designer/jupyterlite/utils.py:6\u001B[0m\n\u001B[1;32m      5\u001B[0m \u001B[38;5;28;01mtry\u001B[39;00m:\n\u001B[0;32m----> 6\u001B[0m     \u001B[38;5;28;01mimport\u001B[39;00m \u001B[38;5;21;01mmicropip\u001B[39;00m\n\u001B[1;32m      7\u001B[0m \u001B[38;5;28;01mexcept\u001B[39;00m \u001B[38;5;167;01mImportError\u001B[39;00m:\n",
      "\u001B[0;31mModuleNotFoundError\u001B[0m: No module named 'micropip'",
      "\nDuring handling of the above exception, another exception occurred:\n",
      "\u001B[0;31mImportError\u001B[0m                               Traceback (most recent call last)",
      "Cell \u001B[0;32mIn[38], line 1\u001B[0m\n\u001B[0;32m----> 1\u001B[0m \u001B[38;5;28;01mfrom\u001B[39;00m \u001B[38;5;21;01mjupyterlite\u001B[39;00m\u001B[38;5;21;01m.\u001B[39;00m\u001B[38;5;21;01mutils\u001B[39;00m \u001B[38;5;28;01mimport\u001B[39;00m set_data\n\u001B[1;32m      2\u001B[0m \u001B[38;5;28;01mfrom\u001B[39;00m \u001B[38;5;21;01msrc\u001B[39;00m\u001B[38;5;21;01m.\u001B[39;00m\u001B[38;5;21;01mutils\u001B[39;00m \u001B[38;5;28;01mimport\u001B[39;00m from_pymatgen\n\u001B[1;32m      4\u001B[0m esse_interface \u001B[38;5;241m=\u001B[39m from_pymatgen(ase_to_pymatgen(ase_final_interface))\n",
      "File \u001B[0;32m~/code/GREEN/api-examples/other/materials_designer/jupyterlite/utils.py:8\u001B[0m\n\u001B[1;32m      6\u001B[0m     \u001B[38;5;28;01mimport\u001B[39;00m \u001B[38;5;21;01mmicropip\u001B[39;00m\n\u001B[1;32m      7\u001B[0m \u001B[38;5;28;01mexcept\u001B[39;00m \u001B[38;5;167;01mImportError\u001B[39;00m:\n\u001B[0;32m----> 8\u001B[0m     \u001B[38;5;28;01mraise\u001B[39;00m \u001B[38;5;167;01mImportError\u001B[39;00m(\n\u001B[1;32m      9\u001B[0m         \u001B[38;5;124m\"\u001B[39m\u001B[38;5;124mThis module intended to be used in a Pyodide environment. Please install packages yourself using pip.\u001B[39m\u001B[38;5;124m\"\u001B[39m\n\u001B[1;32m     10\u001B[0m     )\n\u001B[1;32m     12\u001B[0m \u001B[38;5;28;01masync\u001B[39;00m \u001B[38;5;28;01mdef\u001B[39;00m \u001B[38;5;21minstall_package\u001B[39m(pkg, verbose\u001B[38;5;241m=\u001B[39m\u001B[38;5;28;01mTrue\u001B[39;00m):\n\u001B[1;32m     13\u001B[0m \u001B[38;5;250m        \u001B[39m\u001B[38;5;124;03m\"\"\"\u001B[39;00m\n\u001B[1;32m     14\u001B[0m \u001B[38;5;124;03m        Installs a package in a Pyodide environment.\u001B[39;00m\n\u001B[1;32m     15\u001B[0m \u001B[38;5;124;03m        Args:\u001B[39;00m\n\u001B[0;32m   (...)\u001B[0m\n\u001B[1;32m     20\u001B[0m \u001B[38;5;124;03m            None\u001B[39;00m\n\u001B[1;32m     21\u001B[0m \u001B[38;5;124;03m        \"\"\"\u001B[39;00m\n",
      "\u001B[0;31mImportError\u001B[0m: This module intended to be used in a Pyodide environment. Please install packages yourself using pip."
     ]
    }
   ],
   "source": [
    "from jupyterlite.utils import set_data\n",
    "from src.utils import from_pymatgen\n",
    "\n",
    "esse_interface = from_pymatgen(ase_to_pymatgen(ase_final_interface))\n",
    "set_data(\"materials\", [esse_interface] )"
   ]
  },
  {
   "cell_type": "code",
   "execution_count": null,
   "metadata": {
    "ExecuteTime": {
     "end_time": "2024-02-23T06:59:35.003262Z",
     "start_time": "2024-02-23T06:59:34.998238Z"
    }
   },
   "outputs": [],
   "source": []
  }
 ],
 "metadata": {
  "kernelspec": {
   "display_name": ".venv",
   "language": "python",
   "name": "python3"
  },
  "language_info": {
   "codemirror_mode": {
    "name": "ipython",
    "version": 3
   },
   "file_extension": ".py",
   "mimetype": "text/x-python",
   "name": "python",
   "nbconvert_exporter": "python",
   "pygments_lexer": "ipython3",
   "version": "3.10.12"
  },
  "widgets": {
   "application/vnd.jupyter.widget-state+json": {
    "state": {},
    "version_major": 2,
    "version_minor": 0
   }
  }
 },
 "nbformat": 4,
 "nbformat_minor": 4
}
