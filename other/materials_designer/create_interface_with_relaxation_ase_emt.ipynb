{
  "cells": [
    {
      "cell_type": "markdown",
      "metadata": {},
      "source": [
        "# Create an interface between two materials with minimal strain\n",
        "\n",
        "Use Zur and McGill superlattices matching [algorithm](https://doi.org/10.1063/1.3330840) to create interfaces between two materials using the Pymatgen [implementation](https://pymatgen.org/pymatgen.analysis.interfaces.html#pymatgen.analysis.interfaces.zsl).\n",
        "\n",
        "<h2 style=\"color:green\">Usage</h2>\n",
        "\n",
        "0. Make sure to select Input Materials\n",
        "1. Execute \"Run first: ...\" cell below to load Input Materials into the current kernel\n",
        "2. Set Input Parameters (e.g. `MILLER_INDICES`, `THICKNESS`, `MAX_AREA`) below or use the default values\n",
        "3. Click \"Run\" > \"Run All\" to run all cells\n",
        "4. Wait for the run to complete (depending on the area, it can take 1-2 min or more). Scroll down to view cell results.\n",
        "5. Review the strain plot and modify its parameters as needed\n",
        "\n",
        "## Methodology\n",
        "\n",
        "The following happens in the script below:\n",
        "\n",
        "1. Create slabs for each input material. The materials data is passed in from and back to the web application according to this description (TBA).\n",
        "   We assume that two input materials are either in bulk form (e.g. Ni crystal) or layered (e.g. graphene). \n",
        "   \n",
        "   We construct the interface along the Z-axis. The material corresponding to the bottom of the interface is referred to as the \"**substrate**\", and the top - as the \"**layer**\". \n",
        "\n",
        "2. Perform strain matching on the slabs to extract the supercell dimensions. The algorithm has a set of parameters, such as the maximum area considered, that can be configured by editing the cells below.\n",
        "\n",
        "3. When the strain matching is finished, the interface with the lowest strain (and the smallest number of atoms) is selected. We create the corresponding supercells and place them at a specified distance from each other (note no shift is performed currently).\n"
      ]
    },
    {
      "cell_type": "markdown",
      "metadata": {},
      "source": [
        "<h2 style=\"color:red\">Run first: load input materials in current kernel</h2>\n"
      ]
    },
    {
      "cell_type": "code",
      "execution_count": 200,
      "metadata": {},
      "outputs": [],
      "source": [
        "import json\n",
        "materials_in = []\n",
        "for file in [\"Ni.json\", \"BN.json\"]:\n",
        "    with open(file, \"r\") as f:\n",
        "        data = f.read()\n",
        "        materials_in.append(json.loads(data))"
      ]
    },
    {
      "cell_type": "markdown",
      "metadata": {},
      "source": [
        "## 1. Set Input Parameters\n",
        "\n",
        "### 1.1. Select Substrate and Layer from Input Materials"
      ]
    },
    {
      "cell_type": "code",
      "execution_count": 201,
      "metadata": {},
      "outputs": [],
      "source": [
        "SUBSTRATE_PARAMETERS = {\n",
        "    \"MATERIAL_INDEX\": 0,  # the index of the material in the materials_in list\n",
        "    \"MILLER_INDICES\": (1, 1, 1),  # the miller indices of the interfacial plane\n",
        "    \"THICKNESS\": 3,  # in layers\n",
        "}\n",
        "\n",
        "LAYER_PARAMETERS = {\n",
        "    \"MATERIAL_INDEX\": 1, # the index of the material in the materials_in list\n",
        "    \"MILLER_INDICES\": (0, 0, 1),  # the miller indices of the interfacial plane\n",
        "    \"THICKNESS\": 1,  # in layers\n",
        "}"
      ]
    },
    {
      "cell_type": "markdown",
      "metadata": {},
      "source": [
        "### 1.2. Set Interface Parameters\n",
        "\n",
        "The distance between layer and substrate and maximum area to consider when matching.\n"
      ]
    },
    {
      "cell_type": "code",
      "execution_count": 202,
      "metadata": {},
      "outputs": [],
      "source": [
        "INTERFACE_PARAMETERS = {\n",
        "    \"DISTANCE_Z\": 3.0, # in Angstroms\n",
        "    \"MAX_AREA\": 50, # in Angstroms^2\n",
        "}"
      ]
    },
    {
      "cell_type": "markdown",
      "metadata": {},
      "source": [
        "### 1.3. Set Algorithm Parameters"
      ]
    },
    {
      "cell_type": "code",
      "execution_count": 203,
      "metadata": {},
      "outputs": [],
      "source": [
        "ZSL_PARAMETERS = {\n",
        "    \"MAX_AREA\": INTERFACE_PARAMETERS[\"MAX_AREA\"],  # The area to consider in Angstrom^2\n",
        "    \"MAX_AREA_TOL\": 0.09,  # The area within this tolerance is considered equal\n",
        "    \"MAX_LENGTH_TOL\": 0.03,  # supercell lattice vectors lengths within this tolerance are considered equal\n",
        "    \"MAX_ANGLE_TOL\": 0.01,  # supercell lattice angles within this tolerance are considered equal\n",
        "    \"STRAIN_TOL\": 10e-6,  # strains within this tolerance are considered equal\n",
        "}"
      ]
    },
    {
      "cell_type": "markdown",
      "metadata": {},
      "source": [
        "## 2. Install Packages"
      ]
    },
    {
      "cell_type": "code",
      "execution_count": 204,
      "metadata": {},
      "outputs": [],
      "source": [
        "# from jupyterlite.utils import install_packages\n",
        "\n",
        "# await install_packages(\"create_interface_with_min_strain_zsl.ipynb\")"
      ]
    },
    {
      "cell_type": "markdown",
      "metadata": {},
      "source": [
        "## 3. Create interfaces\n",
        "\n",
        "### 3.1. Extract Interfaces and Terminations\n",
        "\n",
        "Extract all possible layer/substrate supercell combinations within the maximum area including different terminations."
      ]
    },
    {
      "cell_type": "code",
      "execution_count": 205,
      "metadata": {
        "tags": [],
        "trusted": true
      },
      "outputs": [
        {
          "name": "stdout",
          "output_type": "stream",
          "text": [
            "Full Formula (Ni1)\n",
            "Reduced Formula: Ni\n",
            "abc   :   2.460000   2.460000   2.460000\n",
            "angles:  60.000004  59.999994  60.000003\n",
            "pbc   :       True       True       True\n",
            "Sites (1)\n",
            "  #  SP      a    b    c\n",
            "---  ----  ---  ---  ---\n",
            "  0  Ni      0    0    0 \n",
            "\n",
            "Full Formula (B1 N1)\n",
            "Reduced Formula: BN\n",
            "abc   :   2.508995   2.508996   7.710000\n",
            "angles:  90.000000  90.000000 120.000003\n",
            "pbc   :       True       True       True\n",
            "Sites (2)\n",
            "  #  SP           a         b    c\n",
            "---  ----  --------  --------  ---\n",
            "  0  B     0         0           0\n",
            "  1  N     0.333333  0.666667    0 \n",
            "\n",
            "Creating interfaces...\n"
          ]
        }
      ],
      "source": [
        "from src.pymatgen_coherent_interface_builder import CoherentInterfaceBuilder, ZSLGenerator\n",
        "from src.utils import to_pymatgen\n",
        "\n",
        "if \"materials_in\" in globals():\n",
        "    pymatgen_materials = [to_pymatgen(item) for item in materials_in]\n",
        "for material in pymatgen_materials:\n",
        "    print(material, \"\\n\")\n",
        "\n",
        "\n",
        "def create_interfaces(settings):\n",
        "    print(\"Creating interfaces...\")\n",
        "    zsl = ZSLGenerator(\n",
        "        max_area_ratio_tol=settings[\"ZSL_PARAMETERS\"][\"MAX_AREA_TOL\"],\n",
        "        max_area=settings[\"ZSL_PARAMETERS\"][\"MAX_AREA\"],\n",
        "        max_length_tol=settings[\"ZSL_PARAMETERS\"][\"MAX_LENGTH_TOL\"],\n",
        "        max_angle_tol=settings[\"ZSL_PARAMETERS\"][\"MAX_ANGLE_TOL\"],\n",
        "    )\n",
        "\n",
        "    cib = CoherentInterfaceBuilder(\n",
        "        substrate_structure=pymatgen_materials[settings[\"SUBSTRATE_PARAMETERS\"][\"MATERIAL_INDEX\"]],\n",
        "        film_structure=pymatgen_materials[settings[\"LAYER_PARAMETERS\"][\"MATERIAL_INDEX\"]],\n",
        "        substrate_miller=settings[\"SUBSTRATE_PARAMETERS\"][\"MILLER_INDICES\"],\n",
        "        film_miller=settings[\"LAYER_PARAMETERS\"][\"MILLER_INDICES\"],\n",
        "        zslgen=zsl,\n",
        "        strain_tol=settings[\"ZSL_PARAMETERS\"][\"STRAIN_TOL\"],\n",
        "    )\n",
        "\n",
        "    # Find terminations\n",
        "    cib._find_terminations()\n",
        "    terminations = cib.terminations\n",
        "\n",
        "    # Create interfaces for each termination\n",
        "    interfaces = {}\n",
        "    for termination in terminations:\n",
        "        interfaces[termination] = []\n",
        "        for interface in cib.get_interfaces(\n",
        "            termination,\n",
        "            gap=settings[\"INTERFACE_PARAMETERS\"][\"DISTANCE_Z\"],\n",
        "            film_thickness=settings[\"LAYER_PARAMETERS\"][\"THICKNESS\"],\n",
        "            substrate_thickness=settings[\"SUBSTRATE_PARAMETERS\"][\"THICKNESS\"],\n",
        "            in_layers=True,\n",
        "        ):\n",
        "            # Wrap atoms to unit cell\n",
        "            interface[\"interface\"].make_supercell((1,1,1), to_unit_cell=True)\n",
        "            interfaces[termination].append(interface)\n",
        "    return interfaces, terminations\n",
        "\n",
        "\n",
        "interfaces, terminations = create_interfaces(\n",
        "    settings={\n",
        "        \"SUBSTRATE_PARAMETERS\": SUBSTRATE_PARAMETERS,\n",
        "        \"LAYER_PARAMETERS\": LAYER_PARAMETERS,\n",
        "        \"ZSL_PARAMETERS\": ZSL_PARAMETERS,\n",
        "        \"INTERFACE_PARAMETERS\": INTERFACE_PARAMETERS,\n",
        "    }\n",
        ")"
      ]
    },
    {
      "cell_type": "markdown",
      "metadata": {},
      "source": [
        "### 3.2. Print out the interfaces and terminations"
      ]
    },
    {
      "cell_type": "code",
      "execution_count": 206,
      "metadata": {},
      "outputs": [
        {
          "name": "stdout",
          "output_type": "stream",
          "text": [
            "Found 1 terminations\n",
            "Found 233 interfaces for ('BN_P-6m2_2', 'Ni_R-3m_1') termination\n"
          ]
        }
      ],
      "source": [
        "print(f'Found {len(terminations)} terminations')\n",
        "for termination in terminations:\n",
        "    print(f\"Found {len(interfaces[termination])} interfaces for\", termination, \"termination\")"
      ]
    },
    {
      "cell_type": "markdown",
      "metadata": {},
      "source": [
        "## 4. Sort interfaces by strain\n",
        "\n",
        "### 4.1. Sort all interfaces"
      ]
    },
    {
      "cell_type": "code",
      "execution_count": 207,
      "metadata": {},
      "outputs": [],
      "source": [
        "# Could be \"strain\", \"von_mises_strain\", \"mean_abs_strain\"\n",
        "strain_mode = \"mean_abs_strain\"\n",
        "\n",
        "# Sort interfaces by the specified strain mode and number of sites\n",
        "def sort_interfaces(interfaces, terminations):\n",
        "    sorted_interfaces = {}\n",
        "    for termination in terminations:\n",
        "        sorted_interfaces[termination] = sorted(\n",
        "            interfaces[termination], key=lambda x: (x[strain_mode], x[\"interface\"].num_sites)\n",
        "        )\n",
        "    return sorted_interfaces\n",
        "\n",
        "\n",
        "sorted_interfaces = sort_interfaces(interfaces, terminations)"
      ]
    },
    {
      "cell_type": "markdown",
      "metadata": {},
      "source": [
        "### 4.2. Print out interfaces with lowest strain for each termination"
      ]
    },
    {
      "cell_type": "code",
      "execution_count": 208,
      "metadata": {},
      "outputs": [
        {
          "name": "stdout",
          "output_type": "stream",
          "text": [
            "Interface with lowest strain for termination ('BN_P-6m2_2', 'Ni_R-3m_1') (index 0):\n",
            "    strain: 0.43 %\n",
            "    number of atoms: 5\n"
          ]
        }
      ],
      "source": [
        "for termination in terminations:\n",
        "    print(f\"Interface with lowest strain for termination {termination} (index 0):\")\n",
        "    first_interface = interfaces[termination][0]\n",
        "    print(\"    strain:\", first_interface[strain_mode] * 100, \"%\")\n",
        "    print(\"    number of atoms:\", first_interface[\"interface\"].num_sites)"
      ]
    },
    {
      "cell_type": "markdown",
      "metadata": {},
      "source": [
        "## 5. Plot the results\n",
        "\n",
        "Plot the number of atoms vs strain. Adjust the parameters as needed.\n"
      ]
    },
    {
      "cell_type": "code",
      "execution_count": 209,
      "metadata": {},
      "outputs": [
        {
          "data": {
            "application/vnd.plotly.v1+json": {
              "config": {
                "plotlyServerURL": "https://plot.ly"
              },
              "data": [
                {
                  "hoverinfo": "text",
                  "mode": "markers",
                  "name": "Indices: 0",
                  "text": [
                    "Termination: ('BN_P-6m2_2', 'Ni_R-3m_1')<br>Termination index: 0<br>Interfaces Index Range: 0<br>Strain: 0.43%<br>Atoms: 5"
                  ],
                  "type": "scatter",
                  "x": [
                    0.43
                  ],
                  "y": [
                    5
                  ]
                },
                {
                  "hoverinfo": "text",
                  "mode": "markers",
                  "name": "Indices: 1-9",
                  "text": [
                    "Termination: ('BN_P-6m2_2', 'Ni_R-3m_1')<br>Termination index: 0<br>Interfaces Index Range: 1-9<br>Strain: 0.43%<br>Atoms: 10"
                  ],
                  "type": "scatter",
                  "x": [
                    0.43
                  ],
                  "y": [
                    10
                  ]
                },
                {
                  "hoverinfo": "text",
                  "mode": "markers",
                  "name": "Indices: 10-19",
                  "text": [
                    "Termination: ('BN_P-6m2_2', 'Ni_R-3m_1')<br>Termination index: 0<br>Interfaces Index Range: 10-19<br>Strain: 0.43%<br>Atoms: 15"
                  ],
                  "type": "scatter",
                  "x": [
                    0.43
                  ],
                  "y": [
                    15
                  ]
                },
                {
                  "hoverinfo": "text",
                  "mode": "markers",
                  "name": "Indices: 20-38",
                  "text": [
                    "Termination: ('BN_P-6m2_2', 'Ni_R-3m_1')<br>Termination index: 0<br>Interfaces Index Range: 20-38<br>Strain: 0.43%<br>Atoms: 20"
                  ],
                  "type": "scatter",
                  "x": [
                    0.43
                  ],
                  "y": [
                    20
                  ]
                },
                {
                  "hoverinfo": "text",
                  "mode": "markers",
                  "name": "Indices: 39-56",
                  "text": [
                    "Termination: ('BN_P-6m2_2', 'Ni_R-3m_1')<br>Termination index: 0<br>Interfaces Index Range: 39-56<br>Strain: 0.43%<br>Atoms: 25"
                  ],
                  "type": "scatter",
                  "x": [
                    0.43
                  ],
                  "y": [
                    25
                  ]
                },
                {
                  "hoverinfo": "text",
                  "mode": "markers",
                  "name": "Indices: 57-110",
                  "text": [
                    "Termination: ('BN_P-6m2_2', 'Ni_R-3m_1')<br>Termination index: 0<br>Interfaces Index Range: 57-110<br>Strain: 0.43%<br>Atoms: 30"
                  ],
                  "type": "scatter",
                  "x": [
                    0.43
                  ],
                  "y": [
                    30
                  ]
                },
                {
                  "hoverinfo": "text",
                  "mode": "markers",
                  "name": "Indices: 111-132",
                  "text": [
                    "Termination: ('BN_P-6m2_2', 'Ni_R-3m_1')<br>Termination index: 0<br>Interfaces Index Range: 111-132<br>Strain: 0.43%<br>Atoms: 35"
                  ],
                  "type": "scatter",
                  "x": [
                    0.43
                  ],
                  "y": [
                    35
                  ]
                },
                {
                  "hoverinfo": "text",
                  "mode": "markers",
                  "name": "Indices: 133-177",
                  "text": [
                    "Termination: ('BN_P-6m2_2', 'Ni_R-3m_1')<br>Termination index: 0<br>Interfaces Index Range: 133-177<br>Strain: 0.43%<br>Atoms: 40"
                  ],
                  "type": "scatter",
                  "x": [
                    0.43
                  ],
                  "y": [
                    40
                  ]
                },
                {
                  "hoverinfo": "text",
                  "mode": "markers",
                  "name": "Indices: 178-232",
                  "text": [
                    "Termination: ('BN_P-6m2_2', 'Ni_R-3m_1')<br>Termination index: 0<br>Interfaces Index Range: 178-232<br>Strain: 0.43%<br>Atoms: 45"
                  ],
                  "type": "scatter",
                  "x": [
                    0.43
                  ],
                  "y": [
                    45
                  ]
                }
              ],
              "layout": {
                "height": 600,
                "hovermode": "closest",
                "legend": {
                  "title": {
                    "text": "Interfaces Index Range"
                  }
                },
                "template": {
                  "data": {
                    "bar": [
                      {
                        "error_x": {
                          "color": "#2a3f5f"
                        },
                        "error_y": {
                          "color": "#2a3f5f"
                        },
                        "marker": {
                          "line": {
                            "color": "#E5ECF6",
                            "width": 0.5
                          },
                          "pattern": {
                            "fillmode": "overlay",
                            "size": 10,
                            "solidity": 0.2
                          }
                        },
                        "type": "bar"
                      }
                    ],
                    "barpolar": [
                      {
                        "marker": {
                          "line": {
                            "color": "#E5ECF6",
                            "width": 0.5
                          },
                          "pattern": {
                            "fillmode": "overlay",
                            "size": 10,
                            "solidity": 0.2
                          }
                        },
                        "type": "barpolar"
                      }
                    ],
                    "carpet": [
                      {
                        "aaxis": {
                          "endlinecolor": "#2a3f5f",
                          "gridcolor": "white",
                          "linecolor": "white",
                          "minorgridcolor": "white",
                          "startlinecolor": "#2a3f5f"
                        },
                        "baxis": {
                          "endlinecolor": "#2a3f5f",
                          "gridcolor": "white",
                          "linecolor": "white",
                          "minorgridcolor": "white",
                          "startlinecolor": "#2a3f5f"
                        },
                        "type": "carpet"
                      }
                    ],
                    "choropleth": [
                      {
                        "colorbar": {
                          "outlinewidth": 0,
                          "ticks": ""
                        },
                        "type": "choropleth"
                      }
                    ],
                    "contour": [
                      {
                        "colorbar": {
                          "outlinewidth": 0,
                          "ticks": ""
                        },
                        "colorscale": [
                          [
                            0,
                            "#0d0887"
                          ],
                          [
                            0.1111111111111111,
                            "#46039f"
                          ],
                          [
                            0.2222222222222222,
                            "#7201a8"
                          ],
                          [
                            0.3333333333333333,
                            "#9c179e"
                          ],
                          [
                            0.4444444444444444,
                            "#bd3786"
                          ],
                          [
                            0.5555555555555556,
                            "#d8576b"
                          ],
                          [
                            0.6666666666666666,
                            "#ed7953"
                          ],
                          [
                            0.7777777777777778,
                            "#fb9f3a"
                          ],
                          [
                            0.8888888888888888,
                            "#fdca26"
                          ],
                          [
                            1,
                            "#f0f921"
                          ]
                        ],
                        "type": "contour"
                      }
                    ],
                    "contourcarpet": [
                      {
                        "colorbar": {
                          "outlinewidth": 0,
                          "ticks": ""
                        },
                        "type": "contourcarpet"
                      }
                    ],
                    "heatmap": [
                      {
                        "colorbar": {
                          "outlinewidth": 0,
                          "ticks": ""
                        },
                        "colorscale": [
                          [
                            0,
                            "#0d0887"
                          ],
                          [
                            0.1111111111111111,
                            "#46039f"
                          ],
                          [
                            0.2222222222222222,
                            "#7201a8"
                          ],
                          [
                            0.3333333333333333,
                            "#9c179e"
                          ],
                          [
                            0.4444444444444444,
                            "#bd3786"
                          ],
                          [
                            0.5555555555555556,
                            "#d8576b"
                          ],
                          [
                            0.6666666666666666,
                            "#ed7953"
                          ],
                          [
                            0.7777777777777778,
                            "#fb9f3a"
                          ],
                          [
                            0.8888888888888888,
                            "#fdca26"
                          ],
                          [
                            1,
                            "#f0f921"
                          ]
                        ],
                        "type": "heatmap"
                      }
                    ],
                    "heatmapgl": [
                      {
                        "colorbar": {
                          "outlinewidth": 0,
                          "ticks": ""
                        },
                        "colorscale": [
                          [
                            0,
                            "#0d0887"
                          ],
                          [
                            0.1111111111111111,
                            "#46039f"
                          ],
                          [
                            0.2222222222222222,
                            "#7201a8"
                          ],
                          [
                            0.3333333333333333,
                            "#9c179e"
                          ],
                          [
                            0.4444444444444444,
                            "#bd3786"
                          ],
                          [
                            0.5555555555555556,
                            "#d8576b"
                          ],
                          [
                            0.6666666666666666,
                            "#ed7953"
                          ],
                          [
                            0.7777777777777778,
                            "#fb9f3a"
                          ],
                          [
                            0.8888888888888888,
                            "#fdca26"
                          ],
                          [
                            1,
                            "#f0f921"
                          ]
                        ],
                        "type": "heatmapgl"
                      }
                    ],
                    "histogram": [
                      {
                        "marker": {
                          "pattern": {
                            "fillmode": "overlay",
                            "size": 10,
                            "solidity": 0.2
                          }
                        },
                        "type": "histogram"
                      }
                    ],
                    "histogram2d": [
                      {
                        "colorbar": {
                          "outlinewidth": 0,
                          "ticks": ""
                        },
                        "colorscale": [
                          [
                            0,
                            "#0d0887"
                          ],
                          [
                            0.1111111111111111,
                            "#46039f"
                          ],
                          [
                            0.2222222222222222,
                            "#7201a8"
                          ],
                          [
                            0.3333333333333333,
                            "#9c179e"
                          ],
                          [
                            0.4444444444444444,
                            "#bd3786"
                          ],
                          [
                            0.5555555555555556,
                            "#d8576b"
                          ],
                          [
                            0.6666666666666666,
                            "#ed7953"
                          ],
                          [
                            0.7777777777777778,
                            "#fb9f3a"
                          ],
                          [
                            0.8888888888888888,
                            "#fdca26"
                          ],
                          [
                            1,
                            "#f0f921"
                          ]
                        ],
                        "type": "histogram2d"
                      }
                    ],
                    "histogram2dcontour": [
                      {
                        "colorbar": {
                          "outlinewidth": 0,
                          "ticks": ""
                        },
                        "colorscale": [
                          [
                            0,
                            "#0d0887"
                          ],
                          [
                            0.1111111111111111,
                            "#46039f"
                          ],
                          [
                            0.2222222222222222,
                            "#7201a8"
                          ],
                          [
                            0.3333333333333333,
                            "#9c179e"
                          ],
                          [
                            0.4444444444444444,
                            "#bd3786"
                          ],
                          [
                            0.5555555555555556,
                            "#d8576b"
                          ],
                          [
                            0.6666666666666666,
                            "#ed7953"
                          ],
                          [
                            0.7777777777777778,
                            "#fb9f3a"
                          ],
                          [
                            0.8888888888888888,
                            "#fdca26"
                          ],
                          [
                            1,
                            "#f0f921"
                          ]
                        ],
                        "type": "histogram2dcontour"
                      }
                    ],
                    "mesh3d": [
                      {
                        "colorbar": {
                          "outlinewidth": 0,
                          "ticks": ""
                        },
                        "type": "mesh3d"
                      }
                    ],
                    "parcoords": [
                      {
                        "line": {
                          "colorbar": {
                            "outlinewidth": 0,
                            "ticks": ""
                          }
                        },
                        "type": "parcoords"
                      }
                    ],
                    "pie": [
                      {
                        "automargin": true,
                        "type": "pie"
                      }
                    ],
                    "scatter": [
                      {
                        "fillpattern": {
                          "fillmode": "overlay",
                          "size": 10,
                          "solidity": 0.2
                        },
                        "type": "scatter"
                      }
                    ],
                    "scatter3d": [
                      {
                        "line": {
                          "colorbar": {
                            "outlinewidth": 0,
                            "ticks": ""
                          }
                        },
                        "marker": {
                          "colorbar": {
                            "outlinewidth": 0,
                            "ticks": ""
                          }
                        },
                        "type": "scatter3d"
                      }
                    ],
                    "scattercarpet": [
                      {
                        "marker": {
                          "colorbar": {
                            "outlinewidth": 0,
                            "ticks": ""
                          }
                        },
                        "type": "scattercarpet"
                      }
                    ],
                    "scattergeo": [
                      {
                        "marker": {
                          "colorbar": {
                            "outlinewidth": 0,
                            "ticks": ""
                          }
                        },
                        "type": "scattergeo"
                      }
                    ],
                    "scattergl": [
                      {
                        "marker": {
                          "colorbar": {
                            "outlinewidth": 0,
                            "ticks": ""
                          }
                        },
                        "type": "scattergl"
                      }
                    ],
                    "scattermapbox": [
                      {
                        "marker": {
                          "colorbar": {
                            "outlinewidth": 0,
                            "ticks": ""
                          }
                        },
                        "type": "scattermapbox"
                      }
                    ],
                    "scatterpolar": [
                      {
                        "marker": {
                          "colorbar": {
                            "outlinewidth": 0,
                            "ticks": ""
                          }
                        },
                        "type": "scatterpolar"
                      }
                    ],
                    "scatterpolargl": [
                      {
                        "marker": {
                          "colorbar": {
                            "outlinewidth": 0,
                            "ticks": ""
                          }
                        },
                        "type": "scatterpolargl"
                      }
                    ],
                    "scatterternary": [
                      {
                        "marker": {
                          "colorbar": {
                            "outlinewidth": 0,
                            "ticks": ""
                          }
                        },
                        "type": "scatterternary"
                      }
                    ],
                    "surface": [
                      {
                        "colorbar": {
                          "outlinewidth": 0,
                          "ticks": ""
                        },
                        "colorscale": [
                          [
                            0,
                            "#0d0887"
                          ],
                          [
                            0.1111111111111111,
                            "#46039f"
                          ],
                          [
                            0.2222222222222222,
                            "#7201a8"
                          ],
                          [
                            0.3333333333333333,
                            "#9c179e"
                          ],
                          [
                            0.4444444444444444,
                            "#bd3786"
                          ],
                          [
                            0.5555555555555556,
                            "#d8576b"
                          ],
                          [
                            0.6666666666666666,
                            "#ed7953"
                          ],
                          [
                            0.7777777777777778,
                            "#fb9f3a"
                          ],
                          [
                            0.8888888888888888,
                            "#fdca26"
                          ],
                          [
                            1,
                            "#f0f921"
                          ]
                        ],
                        "type": "surface"
                      }
                    ],
                    "table": [
                      {
                        "cells": {
                          "fill": {
                            "color": "#EBF0F8"
                          },
                          "line": {
                            "color": "white"
                          }
                        },
                        "header": {
                          "fill": {
                            "color": "#C8D4E3"
                          },
                          "line": {
                            "color": "white"
                          }
                        },
                        "type": "table"
                      }
                    ]
                  },
                  "layout": {
                    "annotationdefaults": {
                      "arrowcolor": "#2a3f5f",
                      "arrowhead": 0,
                      "arrowwidth": 1
                    },
                    "autotypenumbers": "strict",
                    "coloraxis": {
                      "colorbar": {
                        "outlinewidth": 0,
                        "ticks": ""
                      }
                    },
                    "colorscale": {
                      "diverging": [
                        [
                          0,
                          "#8e0152"
                        ],
                        [
                          0.1,
                          "#c51b7d"
                        ],
                        [
                          0.2,
                          "#de77ae"
                        ],
                        [
                          0.3,
                          "#f1b6da"
                        ],
                        [
                          0.4,
                          "#fde0ef"
                        ],
                        [
                          0.5,
                          "#f7f7f7"
                        ],
                        [
                          0.6,
                          "#e6f5d0"
                        ],
                        [
                          0.7,
                          "#b8e186"
                        ],
                        [
                          0.8,
                          "#7fbc41"
                        ],
                        [
                          0.9,
                          "#4d9221"
                        ],
                        [
                          1,
                          "#276419"
                        ]
                      ],
                      "sequential": [
                        [
                          0,
                          "#0d0887"
                        ],
                        [
                          0.1111111111111111,
                          "#46039f"
                        ],
                        [
                          0.2222222222222222,
                          "#7201a8"
                        ],
                        [
                          0.3333333333333333,
                          "#9c179e"
                        ],
                        [
                          0.4444444444444444,
                          "#bd3786"
                        ],
                        [
                          0.5555555555555556,
                          "#d8576b"
                        ],
                        [
                          0.6666666666666666,
                          "#ed7953"
                        ],
                        [
                          0.7777777777777778,
                          "#fb9f3a"
                        ],
                        [
                          0.8888888888888888,
                          "#fdca26"
                        ],
                        [
                          1,
                          "#f0f921"
                        ]
                      ],
                      "sequentialminus": [
                        [
                          0,
                          "#0d0887"
                        ],
                        [
                          0.1111111111111111,
                          "#46039f"
                        ],
                        [
                          0.2222222222222222,
                          "#7201a8"
                        ],
                        [
                          0.3333333333333333,
                          "#9c179e"
                        ],
                        [
                          0.4444444444444444,
                          "#bd3786"
                        ],
                        [
                          0.5555555555555556,
                          "#d8576b"
                        ],
                        [
                          0.6666666666666666,
                          "#ed7953"
                        ],
                        [
                          0.7777777777777778,
                          "#fb9f3a"
                        ],
                        [
                          0.8888888888888888,
                          "#fdca26"
                        ],
                        [
                          1,
                          "#f0f921"
                        ]
                      ]
                    },
                    "colorway": [
                      "#636efa",
                      "#EF553B",
                      "#00cc96",
                      "#ab63fa",
                      "#FFA15A",
                      "#19d3f3",
                      "#FF6692",
                      "#B6E880",
                      "#FF97FF",
                      "#FECB52"
                    ],
                    "font": {
                      "color": "#2a3f5f"
                    },
                    "geo": {
                      "bgcolor": "white",
                      "lakecolor": "white",
                      "landcolor": "#E5ECF6",
                      "showlakes": true,
                      "showland": true,
                      "subunitcolor": "white"
                    },
                    "hoverlabel": {
                      "align": "left"
                    },
                    "hovermode": "closest",
                    "mapbox": {
                      "style": "light"
                    },
                    "paper_bgcolor": "white",
                    "plot_bgcolor": "#E5ECF6",
                    "polar": {
                      "angularaxis": {
                        "gridcolor": "white",
                        "linecolor": "white",
                        "ticks": ""
                      },
                      "bgcolor": "#E5ECF6",
                      "radialaxis": {
                        "gridcolor": "white",
                        "linecolor": "white",
                        "ticks": ""
                      }
                    },
                    "scene": {
                      "xaxis": {
                        "backgroundcolor": "#E5ECF6",
                        "gridcolor": "white",
                        "gridwidth": 2,
                        "linecolor": "white",
                        "showbackground": true,
                        "ticks": "",
                        "zerolinecolor": "white"
                      },
                      "yaxis": {
                        "backgroundcolor": "#E5ECF6",
                        "gridcolor": "white",
                        "gridwidth": 2,
                        "linecolor": "white",
                        "showbackground": true,
                        "ticks": "",
                        "zerolinecolor": "white"
                      },
                      "zaxis": {
                        "backgroundcolor": "#E5ECF6",
                        "gridcolor": "white",
                        "gridwidth": 2,
                        "linecolor": "white",
                        "showbackground": true,
                        "ticks": "",
                        "zerolinecolor": "white"
                      }
                    },
                    "shapedefaults": {
                      "line": {
                        "color": "#2a3f5f"
                      }
                    },
                    "ternary": {
                      "aaxis": {
                        "gridcolor": "white",
                        "linecolor": "white",
                        "ticks": ""
                      },
                      "baxis": {
                        "gridcolor": "white",
                        "linecolor": "white",
                        "ticks": ""
                      },
                      "bgcolor": "#E5ECF6",
                      "caxis": {
                        "gridcolor": "white",
                        "linecolor": "white",
                        "ticks": ""
                      }
                    },
                    "title": {
                      "x": 0.05
                    },
                    "xaxis": {
                      "automargin": true,
                      "gridcolor": "white",
                      "linecolor": "white",
                      "ticks": "",
                      "title": {
                        "standoff": 15
                      },
                      "zerolinecolor": "white",
                      "zerolinewidth": 2
                    },
                    "yaxis": {
                      "automargin": true,
                      "gridcolor": "white",
                      "linecolor": "white",
                      "ticks": "",
                      "title": {
                        "standoff": 15
                      },
                      "zerolinecolor": "white",
                      "zerolinewidth": 2
                    }
                  }
                },
                "xaxis": {
                  "title": {
                    "text": "Strain (%)"
                  },
                  "type": "log"
                },
                "yaxis": {
                  "title": {
                    "text": "Number of atoms"
                  },
                  "type": "log"
                }
              }
            }
          },
          "metadata": {},
          "output_type": "display_data"
        },
        {
          "name": "stdout",
          "output_type": "stream",
          "text": [
            "Termination 0: ('BN_P-6m2_2', 'Ni_R-3m_1')\n"
          ]
        }
      ],
      "source": [
        "import plotly.graph_objs as go\n",
        "from collections import defaultdict\n",
        "\n",
        "PLOT_SETTINGS = {\n",
        "    \"HEIGHT\": 600,\n",
        "    \"X_SCALE\": \"log\",  # or linear\n",
        "    \"Y_SCALE\": \"log\",  # or linear\n",
        "}\n",
        "\n",
        "\n",
        "def plot_strain_vs_atoms(sorted_interfaces, terminations, settings):\n",
        "    # Create a mapping from termination to its index\n",
        "    termination_to_index = {termination: i for i, termination in enumerate(terminations)}\n",
        "\n",
        "    grouped_interfaces = defaultdict(list)\n",
        "    for termination, interfaces in sorted_interfaces.items():\n",
        "        for index, interface_data in enumerate(interfaces):\n",
        "            strain_percentage = interface_data[\"mean_abs_strain\"] * 100\n",
        "            num_sites = interface_data[\"interface\"].num_sites\n",
        "            key = (strain_percentage, num_sites)\n",
        "            grouped_interfaces[key].append((index, termination))\n",
        "    \n",
        "    data = []\n",
        "    for (strain, num_sites), indices_and_terminations in grouped_interfaces.items():\n",
        "        termination_indices = defaultdict(list)\n",
        "        for index, termination in indices_and_terminations:\n",
        "            termination_indices[termination].append(index)\n",
        "        all_indices = [index for indices in termination_indices.values() for index in indices]\n",
        "        index_range = f\"{min(all_indices)}-{max(all_indices)}\" if len(all_indices) > 1 else str(min(all_indices))\n",
        "        \n",
        "        hover_text = \"<br>-----<br>\".join(\n",
        "             f\"Termination: {termination}<br>Termination index: {termination_to_index[termination]}<br>Interfaces Index Range: {index_range}<br>Strain: {strain:.2f}%<br>Atoms: {num_sites}\"\n",
        "            for termination, indices in termination_indices.items()\n",
        "        )\n",
        "        trace = go.Scatter(\n",
        "            x=[strain],\n",
        "            y=[num_sites],\n",
        "            text=[hover_text],\n",
        "            mode=\"markers\",\n",
        "            hoverinfo=\"text\",\n",
        "            name=f\"Indices: {index_range}\",\n",
        "        )\n",
        "        data.append(trace)\n",
        "\n",
        "    layout = go.Layout(\n",
        "        xaxis=dict(title=\"Strain (%)\", type=settings[\"X_SCALE\"]),\n",
        "        yaxis=dict(title=\"Number of atoms\", type=settings[\"Y_SCALE\"]),\n",
        "        hovermode=\"closest\",\n",
        "        height=settings[\"HEIGHT\"],\n",
        "        legend_title_text=\"Interfaces Index Range\",\n",
        "    )\n",
        "    fig = go.Figure(data=data, layout=layout)\n",
        "    fig.show()\n",
        "\n",
        "\n",
        "\n",
        "plot_strain_vs_atoms(sorted_interfaces, terminations, PLOT_SETTINGS)\n",
        "\n",
        "for i, termination in enumerate(terminations):\n",
        "    print(f\"Termination {i}:\", termination)"
      ]
    },
    {
      "cell_type": "markdown",
      "metadata": {},
      "source": [
        "## 6. Select the interface to relax\n",
        "\n",
        "### 6.1. Select the interface with the desired termination and strain\n",
        "\n",
        "The data in `sorted_interfaces` now contains an object with the following structure:\n",
        "\n",
        "```json\n",
        "{\n",
        "    \"('C_P6/mmm_2', 'Si_R-3m_1')\": [\n",
        "        { ...interface for ('C_P6/mmm_2', 'Si_R-3m_1') at index 0...},\n",
        "        { ...interface for ('C_P6/mmm_2', 'Si_R-3m_1') at index 1...},\n",
        "        ...\n",
        "    ],\n",
        "    \"<termination at index 1>\": [\n",
        "        { ...interface for 'termination at index 1' at index 0...},\n",
        "        { ...interface for 'termination at index 1' at index 1...},\n",
        "        ...\n",
        "    ]\n",
        "}\n",
        "```\n",
        "\n",
        "Select the index for termination first, and for it - the index in the list of corresponding interfaces sorted by strain (index 0 has minimum strain)."
      ]
    },
    {
      "cell_type": "code",
      "execution_count": 210,
      "metadata": {},
      "outputs": [],
      "source": [
        "termination_index = 0\n",
        "interface_index = 0\n",
        "\n",
        "termination = terminations[termination_index]\n",
        "\n",
        "interface = sorted_interfaces[termination][interface_index][\"interface\"]"
      ]
    },
    {
      "cell_type": "markdown",
      "metadata": {},
      "source": [
        "## 7. Apply relaxation\n",
        "### 7.1. Apply relaxation to the selected interface"
      ]
    },
    {
      "cell_type": "code",
      "execution_count": 211,
      "metadata": {},
      "outputs": [
        {
          "ename": "NotImplementedError",
          "evalue": "No EMT-potential for B",
          "output_type": "error",
          "traceback": [
            "\u001b[0;31m---------------------------------------------------------------------------\u001b[0m",
            "\u001b[0;31mNotImplementedError\u001b[0m                       Traceback (most recent call last)",
            "Cell \u001b[0;32mIn[211], line 10\u001b[0m\n\u001b[1;32m      8\u001b[0m ase_interface\u001b[38;5;241m.\u001b[39mset_calculator(EMT())\n\u001b[1;32m      9\u001b[0m dyn \u001b[38;5;241m=\u001b[39m BFGS(ase_interface)\n\u001b[0;32m---> 10\u001b[0m \u001b[43mdyn\u001b[49m\u001b[38;5;241;43m.\u001b[39;49m\u001b[43mrun\u001b[49m\u001b[43m(\u001b[49m\u001b[43mfmax\u001b[49m\u001b[38;5;241;43m=\u001b[39;49m\u001b[38;5;241;43m0.01\u001b[39;49m\u001b[43m)\u001b[49m\n\u001b[1;32m     12\u001b[0m \u001b[38;5;66;03m# extract results\u001b[39;00m\n\u001b[1;32m     13\u001b[0m ase_original_interface \u001b[38;5;241m=\u001b[39m pymatgen_to_ase(interface)\n",
            "File \u001b[0;32m~/code/green/api-examples/.venv-3.10/lib/python3.10/site-packages/ase/optimize/optimize.py:269\u001b[0m, in \u001b[0;36mOptimizer.run\u001b[0;34m(self, fmax, steps)\u001b[0m\n\u001b[1;32m    267\u001b[0m \u001b[38;5;28;01mif\u001b[39;00m steps:\n\u001b[1;32m    268\u001b[0m     \u001b[38;5;28mself\u001b[39m\u001b[38;5;241m.\u001b[39mmax_steps \u001b[38;5;241m=\u001b[39m steps\n\u001b[0;32m--> 269\u001b[0m \u001b[38;5;28;01mreturn\u001b[39;00m \u001b[43mDynamics\u001b[49m\u001b[38;5;241;43m.\u001b[39;49m\u001b[43mrun\u001b[49m\u001b[43m(\u001b[49m\u001b[38;5;28;43mself\u001b[39;49m\u001b[43m)\u001b[49m\n",
            "File \u001b[0;32m~/code/green/api-examples/.venv-3.10/lib/python3.10/site-packages/ase/optimize/optimize.py:156\u001b[0m, in \u001b[0;36mDynamics.run\u001b[0;34m(self)\u001b[0m\n\u001b[1;32m    149\u001b[0m \u001b[38;5;28;01mdef\u001b[39;00m \u001b[38;5;21mrun\u001b[39m(\u001b[38;5;28mself\u001b[39m):\n\u001b[1;32m    150\u001b[0m \u001b[38;5;250m    \u001b[39m\u001b[38;5;124;03m\"\"\"Run dynamics algorithm.\u001b[39;00m\n\u001b[1;32m    151\u001b[0m \n\u001b[1;32m    152\u001b[0m \u001b[38;5;124;03m    This method will return when the forces on all individual\u001b[39;00m\n\u001b[1;32m    153\u001b[0m \u001b[38;5;124;03m    atoms are less than *fmax* or when the number of steps exceeds\u001b[39;00m\n\u001b[1;32m    154\u001b[0m \u001b[38;5;124;03m    *steps*.\"\"\"\u001b[39;00m\n\u001b[0;32m--> 156\u001b[0m     \u001b[38;5;28;01mfor\u001b[39;00m converged \u001b[38;5;129;01min\u001b[39;00m Dynamics\u001b[38;5;241m.\u001b[39mirun(\u001b[38;5;28mself\u001b[39m):\n\u001b[1;32m    157\u001b[0m         \u001b[38;5;28;01mpass\u001b[39;00m\n\u001b[1;32m    158\u001b[0m     \u001b[38;5;28;01mreturn\u001b[39;00m converged\n",
            "File \u001b[0;32m~/code/green/api-examples/.venv-3.10/lib/python3.10/site-packages/ase/optimize/optimize.py:122\u001b[0m, in \u001b[0;36mDynamics.irun\u001b[0;34m(self)\u001b[0m\n\u001b[1;32m    111\u001b[0m \u001b[38;5;250m\u001b[39m\u001b[38;5;124;03m\"\"\"Run dynamics algorithm as generator. This allows, e.g.,\u001b[39;00m\n\u001b[1;32m    112\u001b[0m \u001b[38;5;124;03mto easily run two optimizers or MD thermostats at the same time.\u001b[39;00m\n\u001b[1;32m    113\u001b[0m \n\u001b[0;32m   (...)\u001b[0m\n\u001b[1;32m    118\u001b[0m \u001b[38;5;124;03m>>>     opt1.run()\u001b[39;00m\n\u001b[1;32m    119\u001b[0m \u001b[38;5;124;03m\"\"\"\u001b[39;00m\n\u001b[1;32m    121\u001b[0m \u001b[38;5;66;03m# compute initial structure and log the first step\u001b[39;00m\n\u001b[0;32m--> 122\u001b[0m \u001b[38;5;28;43mself\u001b[39;49m\u001b[38;5;241;43m.\u001b[39;49m\u001b[43matoms\u001b[49m\u001b[38;5;241;43m.\u001b[39;49m\u001b[43mget_forces\u001b[49m\u001b[43m(\u001b[49m\u001b[43m)\u001b[49m\n\u001b[1;32m    124\u001b[0m \u001b[38;5;66;03m# yield the first time to inspect before logging\u001b[39;00m\n\u001b[1;32m    125\u001b[0m \u001b[38;5;28;01myield\u001b[39;00m \u001b[38;5;28;01mFalse\u001b[39;00m\n",
            "File \u001b[0;32m~/code/green/api-examples/.venv-3.10/lib/python3.10/site-packages/ase/atoms.py:788\u001b[0m, in \u001b[0;36mAtoms.get_forces\u001b[0;34m(self, apply_constraint, md)\u001b[0m\n\u001b[1;32m    786\u001b[0m \u001b[38;5;28;01mif\u001b[39;00m \u001b[38;5;28mself\u001b[39m\u001b[38;5;241m.\u001b[39m_calc \u001b[38;5;129;01mis\u001b[39;00m \u001b[38;5;28;01mNone\u001b[39;00m:\n\u001b[1;32m    787\u001b[0m     \u001b[38;5;28;01mraise\u001b[39;00m \u001b[38;5;167;01mRuntimeError\u001b[39;00m(\u001b[38;5;124m'\u001b[39m\u001b[38;5;124mAtoms object has no calculator.\u001b[39m\u001b[38;5;124m'\u001b[39m)\n\u001b[0;32m--> 788\u001b[0m forces \u001b[38;5;241m=\u001b[39m \u001b[38;5;28;43mself\u001b[39;49m\u001b[38;5;241;43m.\u001b[39;49m\u001b[43m_calc\u001b[49m\u001b[38;5;241;43m.\u001b[39;49m\u001b[43mget_forces\u001b[49m\u001b[43m(\u001b[49m\u001b[38;5;28;43mself\u001b[39;49m\u001b[43m)\u001b[49m\n\u001b[1;32m    790\u001b[0m \u001b[38;5;28;01mif\u001b[39;00m apply_constraint:\n\u001b[1;32m    791\u001b[0m     \u001b[38;5;66;03m# We need a special md flag here because for MD we want\u001b[39;00m\n\u001b[1;32m    792\u001b[0m     \u001b[38;5;66;03m# to skip real constraints but include special \"constraints\"\u001b[39;00m\n\u001b[1;32m    793\u001b[0m     \u001b[38;5;66;03m# Like Hookean.\u001b[39;00m\n\u001b[1;32m    794\u001b[0m     \u001b[38;5;28;01mfor\u001b[39;00m constraint \u001b[38;5;129;01min\u001b[39;00m \u001b[38;5;28mself\u001b[39m\u001b[38;5;241m.\u001b[39mconstraints:\n",
            "File \u001b[0;32m~/code/green/api-examples/.venv-3.10/lib/python3.10/site-packages/ase/calculators/abc.py:23\u001b[0m, in \u001b[0;36mGetPropertiesMixin.get_forces\u001b[0;34m(self, atoms)\u001b[0m\n\u001b[1;32m     22\u001b[0m \u001b[38;5;28;01mdef\u001b[39;00m \u001b[38;5;21mget_forces\u001b[39m(\u001b[38;5;28mself\u001b[39m, atoms\u001b[38;5;241m=\u001b[39m\u001b[38;5;28;01mNone\u001b[39;00m):\n\u001b[0;32m---> 23\u001b[0m     \u001b[38;5;28;01mreturn\u001b[39;00m \u001b[38;5;28;43mself\u001b[39;49m\u001b[38;5;241;43m.\u001b[39;49m\u001b[43mget_property\u001b[49m\u001b[43m(\u001b[49m\u001b[38;5;124;43m'\u001b[39;49m\u001b[38;5;124;43mforces\u001b[39;49m\u001b[38;5;124;43m'\u001b[39;49m\u001b[43m,\u001b[49m\u001b[43m \u001b[49m\u001b[43matoms\u001b[49m\u001b[43m)\u001b[49m\n",
            "File \u001b[0;32m~/code/green/api-examples/.venv-3.10/lib/python3.10/site-packages/ase/calculators/calculator.py:737\u001b[0m, in \u001b[0;36mCalculator.get_property\u001b[0;34m(self, name, atoms, allow_calculation)\u001b[0m\n\u001b[1;32m    735\u001b[0m     \u001b[38;5;28;01mif\u001b[39;00m \u001b[38;5;129;01mnot\u001b[39;00m allow_calculation:\n\u001b[1;32m    736\u001b[0m         \u001b[38;5;28;01mreturn\u001b[39;00m \u001b[38;5;28;01mNone\u001b[39;00m\n\u001b[0;32m--> 737\u001b[0m     \u001b[38;5;28;43mself\u001b[39;49m\u001b[38;5;241;43m.\u001b[39;49m\u001b[43mcalculate\u001b[49m\u001b[43m(\u001b[49m\u001b[43matoms\u001b[49m\u001b[43m,\u001b[49m\u001b[43m \u001b[49m\u001b[43m[\u001b[49m\u001b[43mname\u001b[49m\u001b[43m]\u001b[49m\u001b[43m,\u001b[49m\u001b[43m \u001b[49m\u001b[43msystem_changes\u001b[49m\u001b[43m)\u001b[49m\n\u001b[1;32m    739\u001b[0m \u001b[38;5;28;01mif\u001b[39;00m name \u001b[38;5;129;01mnot\u001b[39;00m \u001b[38;5;129;01min\u001b[39;00m \u001b[38;5;28mself\u001b[39m\u001b[38;5;241m.\u001b[39mresults:\n\u001b[1;32m    740\u001b[0m     \u001b[38;5;66;03m# For some reason the calculator was not able to do what we want,\u001b[39;00m\n\u001b[1;32m    741\u001b[0m     \u001b[38;5;66;03m# and that is OK.\u001b[39;00m\n\u001b[1;32m    742\u001b[0m     \u001b[38;5;28;01mraise\u001b[39;00m PropertyNotImplementedError(\u001b[38;5;124m'\u001b[39m\u001b[38;5;132;01m{}\u001b[39;00m\u001b[38;5;124m not present in this \u001b[39m\u001b[38;5;124m'\u001b[39m\n\u001b[1;32m    743\u001b[0m                                       \u001b[38;5;124m'\u001b[39m\u001b[38;5;124mcalculation\u001b[39m\u001b[38;5;124m'\u001b[39m\u001b[38;5;241m.\u001b[39mformat(name))\n",
            "File \u001b[0;32m~/code/green/api-examples/.venv-3.10/lib/python3.10/site-packages/ase/calculators/emt.py:132\u001b[0m, in \u001b[0;36mEMT.calculate\u001b[0;34m(self, atoms, properties, system_changes)\u001b[0m\n\u001b[1;32m    129\u001b[0m Calculator\u001b[38;5;241m.\u001b[39mcalculate(\u001b[38;5;28mself\u001b[39m, atoms, properties, system_changes)\n\u001b[1;32m    131\u001b[0m \u001b[38;5;28;01mif\u001b[39;00m \u001b[38;5;124m'\u001b[39m\u001b[38;5;124mnumbers\u001b[39m\u001b[38;5;124m'\u001b[39m \u001b[38;5;129;01min\u001b[39;00m system_changes:\n\u001b[0;32m--> 132\u001b[0m     \u001b[38;5;28;43mself\u001b[39;49m\u001b[38;5;241;43m.\u001b[39;49m\u001b[43minitialize\u001b[49m\u001b[43m(\u001b[49m\u001b[38;5;28;43mself\u001b[39;49m\u001b[38;5;241;43m.\u001b[39;49m\u001b[43matoms\u001b[49m\u001b[43m)\u001b[49m\n\u001b[1;32m    134\u001b[0m positions \u001b[38;5;241m=\u001b[39m \u001b[38;5;28mself\u001b[39m\u001b[38;5;241m.\u001b[39matoms\u001b[38;5;241m.\u001b[39mpositions\n\u001b[1;32m    135\u001b[0m numbers \u001b[38;5;241m=\u001b[39m \u001b[38;5;28mself\u001b[39m\u001b[38;5;241m.\u001b[39matoms\u001b[38;5;241m.\u001b[39mnumbers\n",
            "File \u001b[0;32m~/code/green/api-examples/.venv-3.10/lib/python3.10/site-packages/ase/calculators/emt.py:86\u001b[0m, in \u001b[0;36mEMT.initialize\u001b[0;34m(self, atoms)\u001b[0m\n\u001b[1;32m     84\u001b[0m sym \u001b[38;5;241m=\u001b[39m chemical_symbols[Z]\n\u001b[1;32m     85\u001b[0m \u001b[38;5;28;01mif\u001b[39;00m sym \u001b[38;5;129;01mnot\u001b[39;00m \u001b[38;5;129;01min\u001b[39;00m parameters:\n\u001b[0;32m---> 86\u001b[0m     \u001b[38;5;28;01mraise\u001b[39;00m \u001b[38;5;167;01mNotImplementedError\u001b[39;00m(\u001b[38;5;124m'\u001b[39m\u001b[38;5;124mNo EMT-potential for \u001b[39m\u001b[38;5;132;01m{0}\u001b[39;00m\u001b[38;5;124m'\u001b[39m\n\u001b[1;32m     87\u001b[0m                               \u001b[38;5;241m.\u001b[39mformat(sym))\n\u001b[1;32m     88\u001b[0m p \u001b[38;5;241m=\u001b[39m parameters[sym]\n\u001b[1;32m     89\u001b[0m s0 \u001b[38;5;241m=\u001b[39m p[\u001b[38;5;241m1\u001b[39m] \u001b[38;5;241m*\u001b[39m Bohr\n",
            "\u001b[0;31mNotImplementedError\u001b[0m: No EMT-potential for B"
          ]
        }
      ],
      "source": [
        "# Per https://github.com/materialsvirtuallab/matgl/blob/main/examples/Relaxations%20and%20Simulations%20using%20the%20M3GNet%20Universal%20Potential.ipynb\n",
        "from src.utils import poscar_to_ase, ase_to_poscar, ase_to_pymatgen, pymatgen_to_ase\n",
        "from ase.optimize import BFGS\n",
        "from ase.calculators.emt import EMT\n",
        "\n",
        "# relax the interface\n",
        "ase_interface = poscar_to_ase(interface.to(fmt=\"poscar\"))\n",
        "ase_interface.set_calculator(EMT())\n",
        "dyn = BFGS(ase_interface)\n",
        "dyn.run(fmax=0.01)\n",
        "\n",
        "# extract results\n",
        "ase_original_interface = pymatgen_to_ase(interface)\n",
        "ase_relaxed_interface = ase_interface\n",
        "relaxed_energy = ase_interface.get_total_energy()\n",
        "\n",
        "# print out the final relaxed structure and energy\n",
        "print('Original structure:\\n', ase_to_poscar(ase_original_interface))\n",
        "print('\\nRelaxed structure:\\n', ase_to_poscar(ase_relaxed_interface))\n",
        "print(f\"The final energy is {float(relaxed_energy):.3f} eV.\")"
      ]
    },
    {
      "cell_type": "markdown",
      "metadata": {},
      "source": [
        "### 7.2. View structure before and after relaxation"
      ]
    },
    {
      "cell_type": "code",
      "execution_count": null,
      "metadata": {},
      "outputs": [],
      "source": [
        "from ase.visualize import view\n",
        "\n",
        "# view(ase_original_interface, viewer=\"x3d\")\n",
        "# view(ase_relaxed_interface, viewer=\"x3d\")\n"
      ]
    },
    {
      "cell_type": "markdown",
      "metadata": {},
      "source": [
        "### 7.3. Calculate energy energy using ASE EMT"
      ]
    },
    {
      "cell_type": "code",
      "execution_count": null,
      "metadata": {},
      "outputs": [
        {
          "name": "stdout",
          "output_type": "stream",
          "text": [
            "5.240839288055056\n",
            "32\n",
            "30\n",
            "2\n",
            "Relaxed interface energy: 0.3671 eV\n",
            "Original Substrate energy: 0.7313 eV\n",
            "Original Layer energy: 0.4296 eV\n",
            "Original Delta: -0.7938 eV\n",
            "Original Delta per area: -0.1515 eV/Ang^2\n",
            "Relaxed Substrate energy: 0.7265 eV\n",
            "Relaxed Layer energy: 0.4296 eV\n",
            "Relaxed Delta: -0.7890 eV\n",
            "Relaxed Delta per area: -0.1506 eV/Ang^2\n",
            "Effective relaxed Delta per area: -0.0325 eV/Ang^2\n",
            "Ni  C \n",
            " 1.0000000000000000\n",
            "     2.4599995727812636    0.0000000000000000    0.0000000000000002\n",
            "     1.2299995285143266    2.1304228448014668    0.0000000000000002\n",
            "     0.0000000000000000    0.0000000000000000   81.2488650177480167\n",
            " Ni  C  \n",
            "  30   2\n",
            "Cartesian\n",
            "  1.2300039906062787  0.7101477061878884 -0.0255865308183234\n",
            "  0.0000041919870270  0.0000064140313065  1.9958485689276559\n",
            "  2.4600034986954085  1.4202879702715083  4.0110296125890450\n",
            "  1.2300037323053550  0.7101467286606649  6.0263521658498407\n",
            "  0.0000039986800844  0.0000055410701012  8.0421595155777563\n",
            "  2.4600034194591416  1.4202872860559004 10.0575808664822457\n",
            "  1.2300037436449831  0.7101461951302782 12.0728032007750432\n",
            "  0.0000041424774906  0.0000052270595970 14.0874750312121293\n",
            "  2.4600036719451421  1.4202871527415448 16.1032025867047537\n",
            "  1.2300040829464856  0.7101462066493224 18.1187359362013432\n",
            "  0.0000045695772853  0.0000053854629903 20.1344292450929530\n",
            "  2.4600042333341219  1.4202875341783652 22.1492984618567768\n",
            "  1.2300047803898644  0.7101468131621540 24.1645069752258870\n",
            "  0.0000052928960189  0.0000060360741981 26.1799240596325404\n",
            "  2.4600049086869751  1.4202881102889822 28.1950648449148105\n",
            "  1.2300054267627167  0.7101473583100921 30.2107938726281553\n",
            "  0.0000058850233066  0.0000065455875122 32.2261720013899762\n",
            "  2.4600052884014509  1.4202884035283998 34.2410928362683293\n",
            "  1.2300053925118615  0.7101472109354313 36.2563749474537786\n",
            "  0.0000054143919138  0.0000059547010964 38.2718382995967090\n",
            "  2.4600046947463752  1.4202877004794701 40.2868672567619512\n",
            "  1.2300051288832097  0.7101467969793610 42.3026006881942820\n",
            "  0.0000056718735952  0.0000059802273158 44.3181355560195556\n",
            "  2.4600053108699909  1.4202880561632494 46.3327176815539801\n",
            "  1.2300058045477109  0.7101472149933739 48.3478070742066777\n",
            "  0.0000062100813971  0.0000062326309179 50.3637469340838777\n",
            "  2.4600056785481565  1.4202880662316861 52.3792040395552903\n",
            "  1.2300059956598177  0.7101469575840775 54.3939508049308742\n",
            "  0.0000062879429805  0.0000058218791149 56.4095092372660147\n",
            "  2.4600056431380621  1.4202874350124397 58.4302638144969251\n",
            "  0.0000065182166654  0.0000057721002464 60.0735118757550168\n",
            "  1.2300057978600383  0.7101465620922438 60.0732938413275122\n",
            "\n",
            "Ni \n",
            " 1.0000000000000000\n",
            "     2.4599995727812636    0.0000000000000000    0.0000000000000002\n",
            "     1.2299995285143266    2.1304228448014668    0.0000000000000002\n",
            "     0.0000000000000000    0.0000000000000000   81.2488650177480167\n",
            " Ni \n",
            "  30\n",
            "Cartesian\n",
            "  1.2300039906062787  0.7101477061878884 -0.0255865308183234\n",
            "  0.0000041919870270  0.0000064140313065  1.9958485689276559\n",
            "  2.4600034986954085  1.4202879702715083  4.0110296125890450\n",
            "  1.2300037323053550  0.7101467286606649  6.0263521658498407\n",
            "  0.0000039986800844  0.0000055410701012  8.0421595155777563\n",
            "  2.4600034194591416  1.4202872860559004 10.0575808664822457\n",
            "  1.2300037436449831  0.7101461951302782 12.0728032007750432\n",
            "  0.0000041424774906  0.0000052270595970 14.0874750312121293\n",
            "  2.4600036719451421  1.4202871527415448 16.1032025867047537\n",
            "  1.2300040829464856  0.7101462066493224 18.1187359362013432\n",
            "  0.0000045695772853  0.0000053854629903 20.1344292450929530\n",
            "  2.4600042333341219  1.4202875341783652 22.1492984618567768\n",
            "  1.2300047803898644  0.7101468131621540 24.1645069752258870\n",
            "  0.0000052928960189  0.0000060360741981 26.1799240596325404\n",
            "  2.4600049086869751  1.4202881102889822 28.1950648449148105\n",
            "  1.2300054267627167  0.7101473583100921 30.2107938726281553\n",
            "  0.0000058850233066  0.0000065455875122 32.2261720013899762\n",
            "  2.4600052884014509  1.4202884035283998 34.2410928362683293\n",
            "  1.2300053925118615  0.7101472109354313 36.2563749474537786\n",
            "  0.0000054143919138  0.0000059547010964 38.2718382995967090\n",
            "  2.4600046947463752  1.4202877004794701 40.2868672567619512\n",
            "  1.2300051288832097  0.7101467969793610 42.3026006881942820\n",
            "  0.0000056718735952  0.0000059802273158 44.3181355560195556\n",
            "  2.4600053108699909  1.4202880561632494 46.3327176815539801\n",
            "  1.2300058045477109  0.7101472149933739 48.3478070742066777\n",
            "  0.0000062100813971  0.0000062326309179 50.3637469340838777\n",
            "  2.4600056785481565  1.4202880662316861 52.3792040395552903\n",
            "  1.2300059956598177  0.7101469575840775 54.3939508049308742\n",
            "  0.0000062879429805  0.0000058218791149 56.4095092372660147\n",
            "  2.4600056431380621  1.4202874350124397 58.4302638144969251\n",
            "\n",
            " C \n",
            " 1.0000000000000000\n",
            "     2.4599995727812636    0.0000000000000000    0.0000000000000002\n",
            "     1.2299995285143266    2.1304228448014668    0.0000000000000002\n",
            "     0.0000000000000000    0.0000000000000000   81.2488650177480167\n",
            " C  \n",
            "   2\n",
            "Cartesian\n",
            "  0.0000065182166654  0.0000057721002464 60.0735118757550168\n",
            "  1.2300057978600383  0.7101465620922438 60.0732938413275122\n",
            "\n",
            "Ni \n",
            " 1.0000000000000000\n",
            "     2.4599995727812636    0.0000000000000000    0.0000000000000002\n",
            "     1.2299995285143266    2.1304228448014668    0.0000000000000002\n",
            "     0.0000000000000000    0.0000000000000000   81.2488650177480167\n",
            " Ni \n",
            "  30\n",
            "Cartesian\n",
            "  1.2300003829518751  0.7101417146926905  0.0000000000000001\n",
            "  0.0000010237800172  0.0000011496383032  2.0085815523361412\n",
            "  2.4600007659037484  1.4202834293853821  4.0171631046722753\n",
            "  1.2300014067318896  0.7101428643309938  6.0257446570084152\n",
            "  0.0000020475600346  0.0000022992766070  8.0343262093445578\n",
            "  2.4600017896837634  1.4202845790236860 10.0429077616806985\n",
            "  1.2300024305119071  0.7101440139692974 12.0514893140168304\n",
            "  0.0000030713400439  0.0000034489149085 14.0600708663529730\n",
            "  2.4600028134637810  1.4202857286619885 16.0686524186891155\n",
            "  1.2300034542919198  0.7101451636076007 18.0772339710252545\n",
            "  0.0000040951200689  0.0000045985532140 20.0858155233613900\n",
            "  2.4600038372437978  1.4202868783002929 22.0943970756975290\n",
            "  1.2300044780719366  0.7101463132459052 24.1029786280336715\n",
            "  0.0000051189000838  0.0000057481915174 26.1115601803698034\n",
            "  2.4600048610238137  1.4202880279385945 28.1201417327059353\n",
            "  1.2300055018519611  0.7101474628842106 30.1287232850420779\n",
            "  0.0000061426801097  0.0000068978298208 32.1373048373782169\n",
            "  2.4600058848038322  1.4202891775769038 34.1458863897143416\n",
            "  1.2300065256319850  0.7101486125225142 36.1544679420504949\n",
            "  0.0000071664601205  0.0000080474681206 38.1630494943866339\n",
            "  2.4600069085838361  1.4202903272151997 40.1716310467227800\n",
            "  1.2300075494119935  0.7101497621608137 42.1802125990589047\n",
            "  0.0000081902401376  0.0000091971064278 44.1887941513950508\n",
            "  2.4600079323638622  1.4202914768535069 46.1973757037311827\n",
            "  1.2300085731920054  0.7101509117991193 48.2059572560673217\n",
            "  0.0000092140201571  0.0000103467447314 50.2145388084034536\n",
            "  2.4600089561439034  1.4202926264918179 52.2231203607395855\n",
            "  1.2300095969720204  0.7101520614374149 54.2317019130757600\n",
            "  0.0000102378001678  0.0000114963830348 56.2402834654118777\n",
            "  2.4600099799238899  1.4202937761301100 58.2488650177480238\n",
            "\n",
            " C \n",
            " 1.0000000000000000\n",
            "     2.4599995727812636    0.0000000000000000    0.0000000000000002\n",
            "     1.2299995285143266    2.1304228448014668    0.0000000000000002\n",
            "     0.0000000000000000    0.0000000000000000   81.2488650177480167\n",
            " C  \n",
            "   2\n",
            "Cartesian\n",
            "  0.0000000000000000  0.0000000000000000 61.2488650177480167\n",
            "  1.2299984704321631  0.7101402381262073 61.2488650177480167\n",
            "\n"
          ]
        }
      ],
      "source": [
        "from ase import Atoms\n",
        "nickel_relaxed_interface = ase_relaxed_interface.copy()\n",
        "graphene_relaxed_interface = ase_relaxed_interface.copy()\n",
        "nickel_original_interface = ase_original_interface.copy()\n",
        "graphene_original_interface = ase_original_interface.copy()\n",
        "\n",
        "del nickel_relaxed_interface[[atom.index for atom in nickel_relaxed_interface if atom.symbol != 'Ni']]\n",
        "del graphene_relaxed_interface[[atom.index for atom in graphene_relaxed_interface if atom.symbol != 'C']]\n",
        "del nickel_original_interface[[atom.index for atom in nickel_original_interface if atom.symbol != 'Ni']]\n",
        "del graphene_original_interface[[atom.index for atom in graphene_original_interface if atom.symbol != 'C']]\n",
        "\n",
        "#set EMT calculator\n",
        "nickel_relaxed_interface.set_calculator(EMT())\n",
        "graphene_relaxed_interface.set_calculator(EMT())\n",
        "nickel_original_interface.set_calculator(EMT())\n",
        "graphene_original_interface.set_calculator(EMT())\n",
        "\n",
        "original_substrate_energy = nickel_original_interface.get_total_energy()\n",
        "original_layer_energy = graphene_original_interface.get_total_energy()\n",
        "relaxed_substrate_energy = nickel_relaxed_interface.get_total_energy()\n",
        "relaxed_layer_energy = graphene_relaxed_interface.get_total_energy()\n",
        "\n",
        "delta_original = relaxed_energy - original_substrate_energy - original_layer_energy\n",
        "delta_relaxed = relaxed_energy - relaxed_substrate_energy - relaxed_layer_energy\n",
        "\n",
        "# calculate area of interface\n",
        "area = ase_original_interface.get_volume() / ase_original_interface.cell[2, 2]\n",
        "print(area)\n",
        "\n",
        "effective_delta_relaxed = (relaxed_energy*ase_relaxed_interface.get_global_number_of_atoms() - \n",
        "                           nickel_relaxed_interface.get_global_number_of_atoms()*relaxed_substrate_energy - \n",
        "                           graphene_relaxed_interface.get_global_number_of_atoms()*relaxed_layer_energy)/(2*area*ase_relaxed_interface.get_global_number_of_atoms())\n",
        "print(ase_relaxed_interface.get_global_number_of_atoms())\n",
        "print(nickel_relaxed_interface.get_global_number_of_atoms())\n",
        "print(graphene_relaxed_interface.get_global_number_of_atoms())\n",
        "# print(f\"Original interface energy: {ase_original_interface.get_total_energy():.4f} eV\")\n",
        "print(f\"Relaxed interface energy: {relaxed_energy:.4f} eV\")\n",
        "print(f\"Original Substrate energy: {original_substrate_energy:.4f} eV\")\n",
        "print(f\"Original Layer energy: {original_layer_energy:.4f} eV\")\n",
        "print(f\"Original Delta: {delta_original:.4f} eV\")\n",
        "print(f\"Original Delta per area: {delta_original / area:.4f} eV/Ang^2\")\n",
        "print(f\"Relaxed Substrate energy: {relaxed_substrate_energy:.4f} eV\")\n",
        "print(f\"Relaxed Layer energy: {relaxed_layer_energy:.4f} eV\")\n",
        "print(f\"Relaxed Delta: {delta_relaxed:.4f} eV\")\n",
        "print(f\"Relaxed Delta per area: {delta_relaxed / area:.4f} eV/Ang^2\")\n",
        "print(f\"Effective relaxed Delta per area: {effective_delta_relaxed:.4f} eV/Ang^2\")\n",
        "\n",
        "\n",
        "print(ase_to_poscar(ase_relaxed_interface))\n",
        "print(ase_to_poscar(nickel_relaxed_interface))\n",
        "print(ase_to_poscar(graphene_relaxed_interface))\n",
        "print(ase_to_poscar(nickel_original_interface))\n",
        "print(ase_to_poscar(graphene_original_interface))"
      ]
    },
    {
      "cell_type": "markdown",
      "metadata": {},
      "source": [
        "## 8. Pass relaxed interface to Materials Designer"
      ]
    },
    {
      "cell_type": "code",
      "execution_count": null,
      "metadata": {},
      "outputs": [
        {
          "ename": "ImportError",
          "evalue": "This module intended to be used in a Pyodide environment. Please install packages yourself using pip.",
          "output_type": "error",
          "traceback": [
            "\u001b[0;31m---------------------------------------------------------------------------\u001b[0m",
            "\u001b[0;31mModuleNotFoundError\u001b[0m                       Traceback (most recent call last)",
            "File \u001b[0;32m~/code/green/api-examples/other/materials_designer/jupyterlite/utils.py:6\u001b[0m\n\u001b[1;32m      5\u001b[0m \u001b[38;5;28;01mtry\u001b[39;00m:\n\u001b[0;32m----> 6\u001b[0m     \u001b[38;5;28;01mimport\u001b[39;00m \u001b[38;5;21;01mmicropip\u001b[39;00m\n\u001b[1;32m      7\u001b[0m \u001b[38;5;28;01mexcept\u001b[39;00m \u001b[38;5;167;01mImportError\u001b[39;00m:\n",
            "\u001b[0;31mModuleNotFoundError\u001b[0m: No module named 'micropip'",
            "\nDuring handling of the above exception, another exception occurred:\n",
            "\u001b[0;31mImportError\u001b[0m                               Traceback (most recent call last)",
            "Cell \u001b[0;32mIn[199], line 1\u001b[0m\n\u001b[0;32m----> 1\u001b[0m \u001b[38;5;28;01mfrom\u001b[39;00m \u001b[38;5;21;01mjupyterlite\u001b[39;00m\u001b[38;5;21;01m.\u001b[39;00m\u001b[38;5;21;01mutils\u001b[39;00m \u001b[38;5;28;01mimport\u001b[39;00m set_data\n\u001b[1;32m      2\u001b[0m \u001b[38;5;28;01mfrom\u001b[39;00m \u001b[38;5;21;01msrc\u001b[39;00m\u001b[38;5;21;01m.\u001b[39;00m\u001b[38;5;21;01mutils\u001b[39;00m \u001b[38;5;28;01mimport\u001b[39;00m from_pymatgen\n\u001b[1;32m      4\u001b[0m esse_interface \u001b[38;5;241m=\u001b[39m from_pymatgen(ase_to_pymatgen(ase_relaxed_interface))\n",
            "File \u001b[0;32m~/code/green/api-examples/other/materials_designer/jupyterlite/utils.py:8\u001b[0m\n\u001b[1;32m      6\u001b[0m     \u001b[38;5;28;01mimport\u001b[39;00m \u001b[38;5;21;01mmicropip\u001b[39;00m\n\u001b[1;32m      7\u001b[0m \u001b[38;5;28;01mexcept\u001b[39;00m \u001b[38;5;167;01mImportError\u001b[39;00m:\n\u001b[0;32m----> 8\u001b[0m     \u001b[38;5;28;01mraise\u001b[39;00m \u001b[38;5;167;01mImportError\u001b[39;00m(\n\u001b[1;32m      9\u001b[0m         \u001b[38;5;124m\"\u001b[39m\u001b[38;5;124mThis module intended to be used in a Pyodide environment. Please install packages yourself using pip.\u001b[39m\u001b[38;5;124m\"\u001b[39m\n\u001b[1;32m     10\u001b[0m     )\n\u001b[1;32m     12\u001b[0m \u001b[38;5;28;01masync\u001b[39;00m \u001b[38;5;28;01mdef\u001b[39;00m \u001b[38;5;21minstall_package\u001b[39m(pkg, verbose\u001b[38;5;241m=\u001b[39m\u001b[38;5;28;01mTrue\u001b[39;00m):\n\u001b[1;32m     13\u001b[0m \u001b[38;5;250m        \u001b[39m\u001b[38;5;124;03m\"\"\"\u001b[39;00m\n\u001b[1;32m     14\u001b[0m \u001b[38;5;124;03m        Installs a package in a Pyodide environment.\u001b[39;00m\n\u001b[1;32m     15\u001b[0m \u001b[38;5;124;03m        Args:\u001b[39;00m\n\u001b[0;32m   (...)\u001b[0m\n\u001b[1;32m     20\u001b[0m \u001b[38;5;124;03m            None\u001b[39;00m\n\u001b[1;32m     21\u001b[0m \u001b[38;5;124;03m        \"\"\"\u001b[39;00m\n",
            "\u001b[0;31mImportError\u001b[0m: This module intended to be used in a Pyodide environment. Please install packages yourself using pip."
          ]
        }
      ],
      "source": [
        "from jupyterlite.utils import set_data\n",
        "from src.utils import from_pymatgen\n",
        "\n",
        "esse_interface = from_pymatgen(ase_to_pymatgen(ase_relaxed_interface))\n",
        "set_data(\"materials\", [esse_interface] )"
      ]
    },
    {
      "cell_type": "code",
      "execution_count": null,
      "metadata": {},
      "outputs": [],
      "source": []
    }
  ],
  "metadata": {
    "kernelspec": {
      "display_name": ".venv",
      "language": "python",
      "name": "python3"
    },
    "language_info": {
      "codemirror_mode": {
        "name": "ipython",
        "version": 3
      },
      "file_extension": ".py",
      "mimetype": "text/x-python",
      "name": "python",
      "nbconvert_exporter": "python",
      "pygments_lexer": "ipython3",
      "version": "3.10.12"
    },
    "widgets": {
      "application/vnd.jupyter.widget-state+json": {
        "state": {},
        "version_major": 2,
        "version_minor": 0
      }
    }
  },
  "nbformat": 4,
  "nbformat_minor": 4
}
