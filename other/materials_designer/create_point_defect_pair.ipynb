{
 "cells": [
  {
   "cell_type": "markdown",
   "source": [
    "# Create a point defect pair in a bulk material\n",
    "\n",
    "Create a pair of point defects: substitution, vacancy, or interstitial in a bulk material.\n",
    "\n",
    "<h2 style=\"color:green\">Usage</h2>\n",
    "\n",
    "1. Make sure to select Input Materials (in the outer runtime) before running the notebook. \n",
    "1. Set notebook parameters in cell 1.1. below (or use the default values) -- to create multiple defects, fill `DEFECT_CONFIGS` with a list of dictionaries. \n",
    "1. Click “Run” > “Run All” to run all cells. \n",
    "1. Scroll down to view results. \n",
    "\n",
    "## Notes\n",
    "\n",
    "1. For more information, see [Introduction](Introduction.ipynb)\n",
    "<!-- # TODO: use a hashtag-based anchor link to interface creation documention above -->\n"
   ],
   "metadata": {
    "collapsed": false
   },
   "id": "f2e1e795020d7b3f"
  },
  {
   "cell_type": "markdown",
   "source": [
    "## 1. Prepare the Environment\n",
    "### 1.1. Set up defects parameters \n",
    "Defect Configuration parameters are described in [Defect Configuration](https://github.com/Exabyte-io/made/blob/8196b759242551c77d1791bf5bd2f4150763cfef/src/py/mat3ra/made/tools/build/defect/configuration.py#L102)."
   ],
   "metadata": {
    "collapsed": false
   },
   "id": "5e43ff288847b784"
  },
  {
   "cell_type": "code",
   "outputs": [],
   "source": [
    "DEFECT_TYPE = \"substitution\"  # (e.g. \"vacancy\", \"substitution\", \"interstitial\")\n",
    "SITE_ID = None  # Site index of the defect\n",
    "COORDINATE = None  # Position of the defect in crystal coordinates\n",
    "APPROXIMATE_COORDINATE = None  # Approximate coordinates of the defect in crystal coordinates\n",
    "CHEMICAL_ELEMENT = \"C\"  # Element to be placed at the site (ignored for vacancy)\n",
    "\n",
    "SUPERCELL_MATRIX = [[3, 0, 0], [0, 3, 0], [0, 0, 3]]\n",
    "\n",
    "# List of dictionaries with defect parameters\n",
    "PRIMARY_DEFECT_CONFIG = {\n",
    "    \"defect_type\": \"vacancy\",\n",
    "    \"approximate_coordinate\": [0.5, 0.5, 0.5],\n",
    "    # \"site_id\": 0,\n",
    "    # \"coordinate\": None,\n",
    "},\n",
    "\n",
    "SECONDARY_DEFECT_CONFIG = {\n",
    "    \"defect_type\": \"substitution\",\n",
    "    \"approximate_coordinate\": [0.55, 0.55, 0.55],\n",
    "    \"chemical_element\": \"C\",\n",
    "    # \"site_id\": 0,\n",
    "    # \"coordinate\": None,\n",
    "},"
   ],
   "metadata": {
    "collapsed": false,
    "ExecuteTime": {
     "end_time": "2024-11-13T02:18:52.191058Z",
     "start_time": "2024-11-13T02:18:52.186231Z"
    }
   },
   "id": "9d8b1890b34d850a",
   "execution_count": 6
  },
  {
   "cell_type": "markdown",
   "source": [
    "### 1.2. Install Packages\n",
    "The step executes only in Pyodide environment. For other environments, the packages should be installed via `pip install` (see [README](../../README.ipynb))."
   ],
   "metadata": {
    "collapsed": false
   },
   "id": "bb64de5ff32649f8"
  },
  {
   "cell_type": "code",
   "outputs": [],
   "source": [
    "import sys\n",
    "\n",
    "if sys.platform == \"emscripten\":\n",
    "    import micropip\n",
    "\n",
    "    await micropip.install('mat3ra-api-examples', deps=False)\n",
    "    from utils.jupyterlite import install_packages\n",
    "\n",
    "    await install_packages(\"create_point_defect.ipynb\", \"../../config.yml\")"
   ],
   "metadata": {
    "collapsed": false,
    "ExecuteTime": {
     "end_time": "2024-11-13T02:18:52.250031Z",
     "start_time": "2024-11-13T02:18:52.246812Z"
    }
   },
   "id": "ef664b14457530fd",
   "execution_count": 7
  },
  {
   "cell_type": "markdown",
   "source": [
    "### 1.3. Get input materials\n",
    "Materials are loaded with `get_materials()`."
   ],
   "metadata": {
    "collapsed": false
   },
   "id": "919ad7af8dceeedd"
  },
  {
   "cell_type": "code",
   "outputs": [
    {
     "name": "stdout",
     "output_type": "stream",
     "text": [
      "0: Data from 0-Ni has been read successfully.\n",
      "1: Data from 1-Graphene has been read successfully.\n",
      "2: Data from 10-Al2O3, Sapphire, RHL (R-3c) 3D (Bulk), mp-1143 (1) has been read successfully.\n",
      "3: Data from 11-ZnO, Zinc Oxide, HEX (P6_3mc) 3D (Bulk), mp-2133 has been read successfully.\n",
      "4: Data from 12-Cd4 Te4 has been read successfully.\n",
      "5: Data from 13-Si4 C4 has been read successfully.\n",
      "6: Data from 14-GaN, Gallium Nitride, HEX (P6_3mc) 3D (Bulk), mp-804 has been read successfully.\n",
      "7: Data from 15-WS2, Tungsten Disulfide, HEX (P-6m2) 2D (Monolayer), 2dm-3749 has been read successfully.\n",
      "8: Data from 16 - In4 P4 has been read successfully.\n",
      "9: Data from 4-Te2Mo has been read successfully.\n",
      "10: Data from 5-HfO2 has been read successfully.\n",
      "11: Data from 6-Ni4(110), termination Ni_Pmmm_2, Slab, Terrace, 1 steps, [2 0 0] has been read successfully.\n",
      "12: Data from 7-Ag4 has been read successfully.\n",
      "13: Data from 8-Si, Silicene, HEX (P-3m1) 2D (Monolayer), 2dm-5934 has been read successfully.\n",
      "14: Data from 9-GaAs, Gallium Arsenide, FCC (F-43m) 3D (Bulk), mp-2534 has been read successfully.\n",
      "15: Data from Custom Shape - Transistor has been read successfully.\n",
      "16: Data from Custom Shape has been read successfully.\n",
      "17: Data from Ni, Nickel, FCC (Fm-3m) 3D (Bulk), mp-23 Cluster R=10.0A has been read successfully.\n",
      "18: Data from Ni, Nickel, FCC (Fm-3m) 3D (Bulk), mp-23 Cluster R=24.5A has been read successfully.\n",
      "19: Data from Ni, Nickel, FCC (Fm-3m) 3D (Bulk), mp-23 Cluster R=4.5A has been read successfully.\n",
      "20: Data from Ni, Nickel, FCC (Fm-3m) 3D (Bulk), mp-23 cluster has been read successfully.\n",
      "21: Data from Ni, Nickel, FCC (Fm-3m) 3D (Bulk), mp-23 has been read successfully.\n",
      "22: Data from Ni4(001), termination Ni_P4:mmm_2, Slab cluster has been read successfully.\n",
      "23: Data from Ni4(001), termination Ni_P4:mmm_2, Slab with box cutout has been read successfully.\n",
      "24: Data from Ni4(001), termination Ni_P4:mmm_2, Slab has been read successfully.\n",
      "25: Data from Ni4(111), termination Ni_P6:mmm_4, Slab, Adatom Ni Defect has been read successfully.\n",
      "26: Data from Ni4(111), termination Ni_P6:mmm_4, Slab, Adatom Si Defect has been read successfully.\n",
      "27: Data from Ni4(111), termination Ni_P6:mmm_4, Slab has been read successfully.\n",
      "28: Data from S4W2(001), termination S_P6:mmm_1, Slab has been read successfully.\n",
      "29: Data from Si, Silicene, HEX (P-3m1) 2D (Monolayer), 2dm-5934 has been read successfully.\n",
      "30: Data from Si8(001), termination Si_P4:mmm_2, Slab has been read successfully.\n",
      "31: Data from Si8(111), termination Si_P6:mmm_4, Slab has been read successfully.\n",
      "32: Data from Silicon FCC (8) has been read successfully.\n",
      "33: Data from Twisted Nanoribbon Interface (15.00°) has been read successfully.\n",
      "34: Data from Twisted Nanoribbon Interface (60.00°) has been read successfully.\n",
      "35: Data from WS2, Tungsten Disulfide, HEX (P6_3_mmc) 3D (Bulk), mp-224 has been read successfully.\n",
      "36: Data from rotated_basis 5 degrees has been read successfully.\n",
      "Retrieved 37 materials.\n"
     ]
    }
   ],
   "source": [
    "from utils.jupyterlite import get_materials\n",
    "\n",
    "materials = get_materials(globals())"
   ],
   "metadata": {
    "collapsed": false,
    "ExecuteTime": {
     "end_time": "2024-11-13T02:18:52.716076Z",
     "start_time": "2024-11-13T02:18:52.254920Z"
    }
   },
   "id": "be38fdda1984c654",
   "execution_count": 8
  },
  {
   "cell_type": "markdown",
   "source": [
    "### 1.4. Create and preview Supercell"
   ],
   "metadata": {
    "collapsed": false
   },
   "id": "a132fe0ef8bbf0d0"
  },
  {
   "cell_type": "code",
   "outputs": [
    {
     "data": {
      "text/plain": "GridBox(children=(VBox(children=(Label(value='Ni27 - Material - rotation: 0x', layout=Layout(align_self='cente…",
      "application/vnd.jupyter.widget-view+json": {
       "version_major": 2,
       "version_minor": 0,
       "model_id": "c7aa287f9f334cff898c31a2ff7208c1"
      }
     },
     "metadata": {},
     "output_type": "display_data"
    }
   ],
   "source": [
    "from utils.visualize import visualize_materials as visualize\n",
    "from mat3ra.made.tools.build.supercell import create_supercell\n",
    "\n",
    "unit_cell = materials[0]\n",
    "supercell = create_supercell(unit_cell, supercell_matrix=SUPERCELL_MATRIX)\n",
    "visualize(supercell, repetitions=[1, 1, 1], rotation=\"0x\")"
   ],
   "metadata": {
    "collapsed": false,
    "ExecuteTime": {
     "end_time": "2024-11-13T02:18:52.770316Z",
     "start_time": "2024-11-13T02:18:52.717889Z"
    }
   },
   "id": "e2d24109d3068c9e",
   "execution_count": 9
  },
  {
   "cell_type": "markdown",
   "source": [
    "## 2. Create the Defect\n",
    "### 2.1. Initialize Configuration and Builder parameters"
   ],
   "metadata": {
    "collapsed": false
   },
   "id": "5da5b0380583c952"
  },
  {
   "cell_type": "code",
   "outputs": [
    {
     "ename": "ValueError",
     "evalue": "Invalid defect configuration: ({'defect_type': 'vacancy', 'approximate_coordinate': [0.5, 0.5, 0.5]},)",
     "output_type": "error",
     "traceback": [
      "\u001B[0;31m---------------------------------------------------------------------------\u001B[0m",
      "\u001B[0;31mValueError\u001B[0m                                Traceback (most recent call last)",
      "Cell \u001B[0;32mIn[10], line 4\u001B[0m\n\u001B[1;32m      1\u001B[0m \u001B[38;5;28;01mfrom\u001B[39;00m \u001B[38;5;21;01mmat3ra\u001B[39;00m\u001B[38;5;21;01m.\u001B[39;00m\u001B[38;5;21;01mmade\u001B[39;00m\u001B[38;5;21;01m.\u001B[39;00m\u001B[38;5;21;01mtools\u001B[39;00m\u001B[38;5;21;01m.\u001B[39;00m\u001B[38;5;21;01mbuild\u001B[39;00m\u001B[38;5;21;01m.\u001B[39;00m\u001B[38;5;21;01mdefect\u001B[39;00m\u001B[38;5;21;01m.\u001B[39;00m\u001B[38;5;21;01mconfiguration\u001B[39;00m \u001B[38;5;28;01mimport\u001B[39;00m PointDefectPairConfiguration, PointDefectConfiguration\n\u001B[1;32m      2\u001B[0m \u001B[38;5;28;01mfrom\u001B[39;00m \u001B[38;5;21;01mmat3ra\u001B[39;00m\u001B[38;5;21;01m.\u001B[39;00m\u001B[38;5;21;01mmade\u001B[39;00m\u001B[38;5;21;01m.\u001B[39;00m\u001B[38;5;21;01mtools\u001B[39;00m\u001B[38;5;21;01m.\u001B[39;00m\u001B[38;5;21;01mbuild\u001B[39;00m\u001B[38;5;21;01m.\u001B[39;00m\u001B[38;5;21;01mdefect\u001B[39;00m\u001B[38;5;21;01m.\u001B[39;00m\u001B[38;5;21;01mbuilders\u001B[39;00m \u001B[38;5;28;01mimport\u001B[39;00m PointDefectBuilderParameters\n\u001B[0;32m----> 4\u001B[0m primary_defect_configuration \u001B[38;5;241m=\u001B[39m \u001B[43mPointDefectConfiguration\u001B[49m\u001B[38;5;241;43m.\u001B[39;49m\u001B[43mfrom_dict\u001B[49m\u001B[43m(\u001B[49m\u001B[43msupercell\u001B[49m\u001B[43m,\u001B[49m\u001B[43m \u001B[49m\u001B[43mPRIMARY_DEFECT_CONFIG\u001B[49m\u001B[43m)\u001B[49m\n\u001B[1;32m      5\u001B[0m secondary_defect_configuration \u001B[38;5;241m=\u001B[39m PointDefectConfiguration\u001B[38;5;241m.\u001B[39mfrom_dict(supercell, SECONDARY_DEFECT_CONFIG)\n\u001B[1;32m      7\u001B[0m pair_point_defect_configuration \u001B[38;5;241m=\u001B[39m PointDefectPairConfiguration(\n\u001B[1;32m      8\u001B[0m     primary_defect_configuration\u001B[38;5;241m=\u001B[39mprimary_defect_configuration,\n\u001B[1;32m      9\u001B[0m     secondary_defect_configuration\u001B[38;5;241m=\u001B[39msecondary_defect_configuration\n\u001B[1;32m     10\u001B[0m )\n",
      "File \u001B[0;32m~/code/GREEN/api-examples/.venv/lib/python3.11/site-packages/mat3ra/made/tools/build/defect/configuration.py:100\u001B[0m, in \u001B[0;36mPointDefectConfiguration.from_dict\u001B[0;34m(cls, crystal, data)\u001B[0m\n\u001B[1;32m     98\u001B[0m     \u001B[38;5;28;01mreturn\u001B[39;00m \u001B[38;5;28mcls\u001B[39m\u001B[38;5;241m.\u001B[39mfrom_approximate_coordinate(crystal\u001B[38;5;241m=\u001B[39mcrystal, \u001B[38;5;241m*\u001B[39m\u001B[38;5;241m*\u001B[39mdata)\n\u001B[1;32m     99\u001B[0m \u001B[38;5;28;01melse\u001B[39;00m:\n\u001B[0;32m--> 100\u001B[0m     \u001B[38;5;28;01mraise\u001B[39;00m \u001B[38;5;167;01mValueError\u001B[39;00m(\u001B[38;5;124mf\u001B[39m\u001B[38;5;124m\"\u001B[39m\u001B[38;5;124mInvalid defect configuration: \u001B[39m\u001B[38;5;132;01m{\u001B[39;00mdata\u001B[38;5;132;01m}\u001B[39;00m\u001B[38;5;124m\"\u001B[39m)\n",
      "\u001B[0;31mValueError\u001B[0m: Invalid defect configuration: ({'defect_type': 'vacancy', 'approximate_coordinate': [0.5, 0.5, 0.5]},)"
     ]
    }
   ],
   "source": [
    "from mat3ra.made.tools.build.defect.configuration import PointDefectPairConfiguration, PointDefectConfiguration\n",
    "from mat3ra.made.tools.build.defect.builders import PointDefectBuilderParameters\n",
    "\n",
    "primary_defect_configuration = PointDefectConfiguration.from_dict(supercell, PRIMARY_DEFECT_CONFIG)\n",
    "secondary_defect_configuration = PointDefectConfiguration.from_dict(supercell, SECONDARY_DEFECT_CONFIG)\n",
    "\n",
    "pair_point_defect_configuration = PointDefectPairConfiguration(\n",
    "    primary_defect_configuration=primary_defect_configuration,\n",
    "    secondary_defect_configuration=secondary_defect_configuration\n",
    ")\n",
    "\n",
    "defect_builder_parameters = PointDefectBuilderParameters(center_defect=False)"
   ],
   "metadata": {
    "collapsed": false,
    "ExecuteTime": {
     "end_time": "2024-11-13T02:18:52.814590Z",
     "start_time": "2024-11-13T02:18:52.772411Z"
    }
   },
   "id": "e385e50ae11ed2b9",
   "execution_count": 10
  },
  {
   "cell_type": "markdown",
   "source": [
    "### 2.2. Create the defects"
   ],
   "metadata": {
    "collapsed": false
   },
   "id": "489b51f0ee122c48"
  },
  {
   "cell_type": "code",
   "outputs": [],
   "source": [
    "from mat3ra.made.tools.build.defect import create_defect\n",
    "\n",
    "material_with_defect = create_defect(builder_parameters=defect_builder_parameters,\n",
    "                                      configuration=pair_point_defect_configuration)"
   ],
   "metadata": {
    "collapsed": false,
    "ExecuteTime": {
     "end_time": "2024-11-13T02:18:52.817438Z",
     "start_time": "2024-11-13T02:18:52.817127Z"
    }
   },
   "id": "a990fa35742d7269",
   "execution_count": null
  },
  {
   "cell_type": "markdown",
   "source": [
    "## 3. Visualize Result(s)"
   ],
   "metadata": {
    "collapsed": false
   },
   "id": "462549d016073446"
  },
  {
   "cell_type": "code",
   "outputs": [],
   "source": [
    "from utils.visualize import visualize_materials as visualize\n",
    "\n",
    "visualize([{\"material\": supercell, \"title\": \"Original material\"},\n",
    "           {\"material\": material_with_defect, \"title\": f\"Material with defect\"}],\n",
    "          rotation=\"-90x\")\n",
    "visualize([{\"material\": supercell, \"title\": \"Original material\"},\n",
    "           {\"material\": material_with_defect, \"title\": f\"Material with defect\"}])"
   ],
   "metadata": {
    "collapsed": false
   },
   "id": "509b18661a069e42",
   "execution_count": null
  },
  {
   "cell_type": "markdown",
   "source": [
    "## 4. Pass data to the outside runtime"
   ],
   "metadata": {
    "collapsed": false
   },
   "id": "d381df29a6bbdd82"
  },
  {
   "cell_type": "code",
   "outputs": [],
   "source": [
    "from utils.jupyterlite import set_materials\n",
    "\n",
    "set_materials([material_with_defect])"
   ],
   "metadata": {
    "collapsed": false
   },
   "id": "61daa5afcbc078a9",
   "execution_count": null
  }
 ],
 "metadata": {
  "kernelspec": {
   "display_name": "Python 3",
   "language": "python",
   "name": "python3"
  },
  "language_info": {
   "codemirror_mode": {
    "name": "ipython",
    "version": 2
   },
   "file_extension": ".py",
   "mimetype": "text/x-python",
   "name": "python",
   "nbconvert_exporter": "python",
   "pygments_lexer": "ipython2",
   "version": "2.7.6"
  }
 },
 "nbformat": 4,
 "nbformat_minor": 5
}
