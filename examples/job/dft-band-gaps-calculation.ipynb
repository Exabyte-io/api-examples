version https://git-lfs.github.com/spec/v1
oid sha256:77f60915d97997af921dd88a8e834e0290c51bb61c74db3ef0c77792207bb505
size 23082
