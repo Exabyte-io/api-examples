{
 "cells": [
  {
   "cell_type": "code",
   "execution_count": 3,
   "metadata": {},
   "outputs": [
    {
     "data": {
      "text/plain": [
       "b'ccopy_reg\\n_reconstructor\\np0\\n(ccloudpickle.cloudpickle\\n_make_skeleton_class\\np1\\n(c__builtin__\\ntype\\np2\\nVTest\\np3\\n(c__builtin__\\nobject\\np4\\ntp5\\n(dp6\\nV__module__\\np7\\nV__main__\\np8\\nsV9c9d2d434b1f404c97232f342818c56a\\np9\\nNtp10\\nRp11\\nccloudpickle.cloudpickle\\n_class_setstate\\np12\\ng11\\n((dp13\\ng7\\ng8\\nsV__init__\\np14\\nccloudpickle.cloudpickle\\n_make_function\\np15\\n(ccloudpickle.cloudpickle\\n_builtin_type\\np16\\n(VCodeType\\np17\\ntp18\\nRp19\\n(I1\\nI0\\nI0\\nI3\\nI1\\nI15\\nc_codecs\\nencode\\np20\\n(V\\x97\\\\u0000d\\\\u0000S\\\\u0000\\np21\\nVlatin1\\np22\\ntp23\\nRp24\\n(Ntp25\\n(t(Vself\\np26\\nVargs\\np27\\nVkwargs\\np28\\ntp29\\nV/var/folders/p2/dwnyx6w903d1s5rxs9br261m0000gn/T/ipykernel_9439/1462118015.py\\np30\\ng14\\nVTest.__init__\\np31\\nI3\\ng20\\n(V\\x80\\\\u0000\\xd8\\x08\\x0b\\x88\\x03\\np32\\ng22\\ntp33\\nRp34\\nc__builtin__\\nbytes\\np35\\n(tRp36\\n(t(ttp37\\nRp38\\n(dp39\\nV__package__\\np40\\nNsV__name__\\np41\\ng8\\nsNNNtp42\\nRp43\\nccloudpickle.cloudpickle\\n_function_setstate\\np44\\ng43\\n((dp45\\n(dp46\\ng41\\ng14\\nsV__qualname__\\np47\\ng31\\nsV__annotations__\\np48\\n(dp49\\nsV__kwdefaults__\\np50\\nNsV__defaults__\\np51\\nNsg7\\ng8\\nsV__doc__\\np52\\nNsV__closure__\\np53\\nNsV_cloudpickle_submodules\\np54\\n(lp55\\nsV__globals__\\np56\\n(dp57\\nstp58\\n\\x86R0sVget\\np59\\ng15\\n(g19\\n(I2\\nI0\\nI0\\nI2\\nI1\\nI3\\ng20\\n(V\\x97\\\\u0000|\\x01S\\\\u0000\\np60\\ng22\\ntp61\\nRp62\\ng25\\n(t(g26\\nVvalue\\np63\\ntp64\\ng30\\ng59\\nVTest.get\\np65\\nI5\\ng20\\n(V\\x80\\\\u0000\\xd8\\x0f\\x14\\x88\\x0c\\np66\\ng22\\ntp67\\nRp68\\ng36\\n(t(ttp69\\nRp70\\ng39\\nNNNtp71\\nRp72\\ng44\\ng72\\n((dp73\\n(dp74\\ng41\\ng59\\nsg47\\ng65\\nsg48\\n(dp75\\nsg50\\nNsg51\\n(I10\\ntp76\\nsg7\\ng8\\nsg52\\nNsg53\\nNsg54\\n(lp77\\nsg56\\n(dp78\\nstp79\\n\\x86R0sg52\\nNsV__slotnames__\\np80\\n(lp81\\ns(dp82\\ntp83\\n\\x86R0g4\\nNtp84\\nRp85\\n.'"
      ]
     },
     "execution_count": 3,
     "metadata": {},
     "output_type": "execute_result"
    },
    {
     "name": "stdout",
     "output_type": "stream",
     "text": [
      "\u001b[0;31mSignature:\u001b[0m \u001b[0mpickle\u001b[0m\u001b[0;34m.\u001b[0m\u001b[0mdumps\u001b[0m\u001b[0;34m(\u001b[0m\u001b[0mobj\u001b[0m\u001b[0;34m,\u001b[0m \u001b[0mprotocol\u001b[0m\u001b[0;34m=\u001b[0m\u001b[0;32mNone\u001b[0m\u001b[0;34m,\u001b[0m \u001b[0mbuffer_callback\u001b[0m\u001b[0;34m=\u001b[0m\u001b[0;32mNone\u001b[0m\u001b[0;34m)\u001b[0m\u001b[0;34m\u001b[0m\u001b[0;34m\u001b[0m\u001b[0m\n",
      "\u001b[0;31mDocstring:\u001b[0m\n",
      "Serialize obj as a string of bytes allocated in memory\n",
      "\n",
      "protocol defaults to cloudpickle.DEFAULT_PROTOCOL which is an alias to\n",
      "pickle.HIGHEST_PROTOCOL. This setting favors maximum communication\n",
      "speed between processes running the same Python version.\n",
      "\n",
      "Set protocol=pickle.DEFAULT_PROTOCOL instead if you need to ensure\n",
      "compatibility with older versions of Python (although this is not always\n",
      "guaranteed to work because cloudpickle relies on some internal\n",
      "implementation details that can change from one Python version to the\n",
      "next).\n",
      "\u001b[0;31mFile:\u001b[0m      ~/code/green/api-examples/.venv-3.11/lib/python3.11/site-packages/cloudpickle/cloudpickle.py\n",
      "\u001b[0;31mType:\u001b[0m      function"
     ]
    }
   ],
   "source": [
    "import cloudpickle as pickle\n",
    "\n",
    "class Test:\n",
    "    def __init__(self, *args, **kwargs):\n",
    "        ...\n",
    "    def get(self, value=10):\n",
    "        return value\n",
    "\n",
    "test_obj = Test()\n",
    "\n",
    "with open(\"test-3.11.pkl\", \"wb\") as f:\n",
    "    pickle.dump(test_obj, f)\n"
   ]
  },
  {
   "cell_type": "code",
   "execution_count": 11,
   "metadata": {},
   "outputs": [
    {
     "name": "stdout",
     "output_type": "stream",
     "text": [
      "<matgl.ext.ase.M3GNetCalculator object at 0x14ca4d110>\n"
     ]
    },
    {
     "name": "stderr",
     "output_type": "stream",
     "text": [
      "/Users/mat3ra/code/green/api-examples/.venv-3.11/lib/python3.11/site-packages/matgl/apps/pes.py:60: UserWarning: To copy construct from a tensor, it is recommended to use sourceTensor.clone().detach() or sourceTensor.clone().detach().requires_grad_(True), rather than torch.tensor(sourceTensor).\n",
      "  self.element_refs = AtomRef(property_offset=torch.tensor(element_refs, dtype=matgl.float_th))\n",
      "/Users/mat3ra/code/green/api-examples/.venv-3.11/lib/python3.11/site-packages/matgl/apps/pes.py:66: UserWarning: To copy construct from a tensor, it is recommended to use sourceTensor.clone().detach() or sourceTensor.clone().detach().requires_grad_(True), rather than torch.tensor(sourceTensor).\n",
      "  self.register_buffer(\"data_mean\", torch.tensor(data_mean, dtype=matgl.float_th))\n",
      "/Users/mat3ra/code/green/api-examples/.venv-3.11/lib/python3.11/site-packages/matgl/apps/pes.py:67: UserWarning: To copy construct from a tensor, it is recommended to use sourceTensor.clone().detach() or sourceTensor.clone().detach().requires_grad_(True), rather than torch.tensor(sourceTensor).\n",
      "  self.register_buffer(\"data_std\", torch.tensor(data_std, dtype=matgl.float_th))\n"
     ]
    }
   ],
   "source": [
    "import matgl\n",
    "from matgl.ext.ase import M3GNetCalculator\n",
    "from matgl.ext.ase import M3GNetCalculator\n",
    "\n",
    "import cloudpickle\n",
    "\n",
    "pot = matgl.load_model(\"M3GNet-MP-2021.2.8-PES\")\n",
    "\n",
    "# Save the calculator to pickle for use in the Pyodide environment\n",
    "calculator = M3GNetCalculator(pot)\n",
    "print(calculator)\n",
    "\n",
    "# with open(\"m3gnet_calculator_3.11_32.pkl\", \"wb\") as f:\n",
    "#     cloudpickle.dump(calculator, f, protocol=3)\n",
    "    "
   ]
  },
  {
   "cell_type": "code",
   "execution_count": null,
   "metadata": {},
   "outputs": [],
   "source": []
  }
 ],
 "metadata": {
  "kernelspec": {
   "display_name": ".venv-3.11",
   "language": "python",
   "name": "python3"
  },
  "language_info": {
   "codemirror_mode": {
    "name": "ipython",
    "version": 3
   },
   "file_extension": ".py",
   "mimetype": "text/x-python",
   "name": "python",
   "nbconvert_exporter": "python",
   "pygments_lexer": "ipython3",
   "version": "3.11.3"
  }
 },
 "nbformat": 4,
 "nbformat_minor": 2
}
