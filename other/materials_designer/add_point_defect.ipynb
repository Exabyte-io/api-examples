{
 "cells": [
  {
   "cell_type": "markdown",
   "source": [
    "# Add point defect to the material\n",
    "\n",
    "Create a vacancy, add substitution or interstitial atom to provided Material.\n",
    "\n",
    "<h2 style=\"color:green\">Usage</h2>\n",
    "\n",
    "1. Make sure to select Input Materials (in the outer runtime) before running the notebook.\n",
    "1. Set notebook parameters in cell 1.1. below (or use the default values).\n",
    "1. Set defects parameters in cell 2.1. (or use default).\n",
    "1. Click “Run” > “Run All” to run all cells. \n",
    "1. Wait for the run to complete (depending on the parameters can take a few min). \n",
    "1. Scroll down to view results. \n",
    "\n",
    "## Summary\n",
    "1. Prepare the Environment: Set up the notebook and install packages, preview the input materials\n",
    "1. Create the Defect: Add a vacancy defect to the bulk structure\n",
    "2. Visualize the Defect: Visualize the defect structure\n",
    "\n",
    "## Notes\n",
    "\n",
    "1. For more information, see [Introduction](Introduction.ipynb)\n",
    "<!-- # TODO: use a hashtag-based anchor link to interface creation documention above -->\n"
   ],
   "metadata": {
    "collapsed": false
   },
   "id": "f2e1e795020d7b3f"
  },
  {
   "cell_type": "markdown",
   "source": [
    "## 1. Prepare the Environment\n",
    "### 1.1. Set up the notebook \n",
    "\n",
    "Set the following flags to control the notebook behavior "
   ],
   "metadata": {
    "collapsed": false
   },
   "id": "5e43ff288847b784"
  },
  {
   "cell_type": "code",
   "outputs": [],
   "source": [
    "DEFECT_PARAMETERS = {\n",
    "\"TYPE\": \"vacancy\",  # Type of defect to create (\"vacancy\", \"substitution\", \"interstitial\")\n",
    "\"SITE_ID\": 0, # Site index of the defect\n",
    "\"SPECIE\": None, # Specie to be placed at the site\n",
    "\"POSITION_SHIFT\": [0,0,0] # shift from the site for interstitial atom in crystal units \n",
    "}"
   ],
   "metadata": {
    "collapsed": false,
    "ExecuteTime": {
     "end_time": "2024-06-07T03:27:57.014891Z",
     "start_time": "2024-06-07T03:27:57.011802Z"
    }
   },
   "id": "9d8b1890b34d850a",
   "execution_count": 2
  },
  {
   "cell_type": "markdown",
   "source": [
    "### 1.2. Install Packages\n",
    "The step executes only in Pyodide environment. For other environments, the packages should be installed via `pip install` (see [README](../../README.ipynb))."
   ],
   "metadata": {
    "collapsed": false
   },
   "id": "bb64de5ff32649f8"
  },
  {
   "cell_type": "code",
   "outputs": [],
   "source": [
    "import sys\n",
    "\n",
    "if sys.platform == \"emscripten\":\n",
    "    import micropip\n",
    "    await micropip.install('mat3ra-api-examples', deps=False)\n",
    "    from utils.jupyterlite import install_packages\n",
    "    await install_packages(\"create_interface_with_min_strain_zsl.ipynb\", \"../../config.yml\")"
   ],
   "metadata": {
    "collapsed": false,
    "ExecuteTime": {
     "end_time": "2024-06-07T03:27:57.060820Z",
     "start_time": "2024-06-07T03:27:57.057429Z"
    }
   },
   "id": "ef664b14457530fd",
   "execution_count": 3
  },
  {
   "cell_type": "markdown",
   "source": [
    "### 1.3. Get input material and \n",
    "Materials are loaded with `get_data()`. The first material is assigned as substrate and the second as film."
   ],
   "metadata": {
    "collapsed": false
   },
   "id": "919ad7af8dceeedd"
  },
  {
   "cell_type": "code",
   "outputs": [
    {
     "name": "stdout",
     "output_type": "stream",
     "text": [
      "Data from 0-Ni has been read successfully.\n",
      "Data from 1-Graphene has been read successfully.\n",
      "Data from 2-WS2 has been read successfully.\n",
      "Data from 3-BN has been read successfully.\n",
      "Data from 4-Te2Mo has been read successfully.\n",
      "Data from 5-HfO2 has been read successfully.\n",
      "Data from C2(001)-Ni4(111), Interface, Strain 0.105% has been read successfully.\n",
      "Data from Ni3 C2 has been read successfully.\n",
      "Data from Ni8 C2 has been read successfully.\n",
      "Data from Si has been read successfully.\n"
     ]
    }
   ],
   "source": [
    "from mat3ra.made.material import Material\n",
    "from utils.jupyterlite import get_data\n",
    "\n",
    "# Get the list of input materials and load them into `materials_in` variable\n",
    "get_data(\"materials_in\", globals())\n",
    "materials = list(map(Material, globals()[\"materials_in\"]))\n",
    "\n",
    "raw_material = materials[0]"
   ],
   "metadata": {
    "collapsed": false,
    "ExecuteTime": {
     "end_time": "2024-06-07T03:27:57.089679Z",
     "start_time": "2024-06-07T03:27:57.078435Z"
    }
   },
   "id": "be38fdda1984c654",
   "execution_count": 4
  },
  {
   "cell_type": "markdown",
   "source": [
    "### 1.4. Preview Raw Bulk Material"
   ],
   "metadata": {
    "collapsed": false
   },
   "id": "a132fe0ef8bbf0d0"
  },
  {
   "cell_type": "code",
   "outputs": [
    {
     "data": {
      "text/plain": "GridBox(children=(VBox(children=(Label(value='Ni - Material - rotation: 0x', layout=Layout(align_self='center'…",
      "application/vnd.jupyter.widget-view+json": {
       "version_major": 2,
       "version_minor": 0,
       "model_id": "1af094e51604497190978ec20efb7bcf"
      }
     },
     "metadata": {},
     "output_type": "display_data"
    }
   ],
   "source": [
    "from utils.visualize import visualize_materials as visualize\n",
    "visualize(raw_material, repetitions=[3, 3, 3], rotation=\"0x\")"
   ],
   "metadata": {
    "collapsed": false,
    "ExecuteTime": {
     "end_time": "2024-06-07T03:27:57.618039Z",
     "start_time": "2024-06-07T03:27:57.101704Z"
    }
   },
   "id": "e2d24109d3068c9e",
   "execution_count": 5
  },
  {
   "cell_type": "markdown",
   "source": [
    "### 1.5. Create and preview supercell"
   ],
   "metadata": {
    "collapsed": false
   },
   "id": "cd1e63d28be9146a"
  },
  {
   "cell_type": "code",
   "outputs": [
    {
     "data": {
      "text/plain": "GridBox(children=(VBox(children=(Label(value='Ni27 - Material - rotation: 0x,0y,0z', layout=Layout(align_self=…",
      "application/vnd.jupyter.widget-view+json": {
       "version_major": 2,
       "version_minor": 0,
       "model_id": "984af9a7b3d2430ca5694136f4ffc1af"
      }
     },
     "metadata": {},
     "output_type": "display_data"
    }
   ],
   "source": [
    "from mat3ra.made.tools.build.supercell import create_supercell\n",
    "material = create_supercell(raw_material, [[3, 0, 0], [0, 3, 0], [0, 0, 3]])\n",
    "visualize(material)"
   ],
   "metadata": {
    "collapsed": false,
    "ExecuteTime": {
     "end_time": "2024-06-07T03:27:57.687797Z",
     "start_time": "2024-06-07T03:27:57.622288Z"
    }
   },
   "id": "ba4268347aeaa443",
   "execution_count": 6
  },
  {
   "cell_type": "markdown",
   "source": [
    "## 2. Create the Defect\n",
    "### 2.1. Set defect parameters"
   ],
   "metadata": {
    "collapsed": false
   },
   "id": "5da5b0380583c952"
  },
  {
   "cell_type": "code",
   "outputs": [],
   "source": [
    "from mat3ra.made.tools.build.defect import PointDefectBuilder,PointDefectBuilderParameters, PointDefectConfiguration\n",
    "\n",
    "defect_configuration = PointDefectConfiguration(material=material, defect_type=DEFECT_PARAMETERS[\"TYPE\"], site_id=DEFECT_PARAMETERS[\"SITE_ID\"], specie=DEFECT_PARAMETERS[\"SPECIE\"], position_shift=DEFECT_PARAMETERS[\"POSITION_SHIFT\"])\n",
    "\n",
    "defect_builder_parameters = PointDefectBuilderParameters(target_site=0, center_defect=True)\n",
    "defect_builder = PointDefectBuilder(build_parameters=defect_builder_parameters)\n"
   ],
   "metadata": {
    "collapsed": false,
    "ExecuteTime": {
     "end_time": "2024-06-07T03:27:58.209674Z",
     "start_time": "2024-06-07T03:27:57.689956Z"
    }
   },
   "id": "e385e50ae11ed2b9",
   "execution_count": 7
  },
  {
   "cell_type": "markdown",
   "source": [
    "### 2.2. Create the defect"
   ],
   "metadata": {
    "collapsed": false
   },
   "id": "489b51f0ee122c48"
  },
  {
   "cell_type": "code",
   "outputs": [],
   "source": [
    "material_with_defect = defect_builder.get_material(defect_configuration)"
   ],
   "metadata": {
    "collapsed": false
   },
   "id": "a990fa35742d7269"
  },
  {
   "cell_type": "markdown",
   "source": [
    "## 3. Visualize the Defect"
   ],
   "metadata": {
    "collapsed": false
   },
   "id": "462549d016073446"
  },
  {
   "cell_type": "code",
   "outputs": [
    {
     "data": {
      "text/plain": "GridBox(children=(VBox(children=(Label(value='Ni27 - Original material - rotation: 90y', layout=Layout(align_s…",
      "application/vnd.jupyter.widget-view+json": {
       "version_major": 2,
       "version_minor": 0,
       "model_id": "fcf5b99debf141b499b0cddbbb5d8fd6"
      }
     },
     "metadata": {},
     "output_type": "display_data"
    }
   ],
   "source": [
    "from utils.visualize import visualize_materials as visualize\n",
    "\n",
    "visualize([{\"material\": material, \"title\":\"Original material\"}, {\"material\":material_with_defect, \"title\":\"Material with defect\"}], rotation=\"90y\")\n"
   ],
   "metadata": {
    "collapsed": false,
    "ExecuteTime": {
     "end_time": "2024-06-07T03:29:10.609183Z",
     "start_time": "2024-06-07T03:29:10.484253Z"
    }
   },
   "id": "509b18661a069e42",
   "execution_count": 12
  },
  {
   "cell_type": "markdown",
   "source": [
    "## 4. Pass data to the outside runtime"
   ],
   "metadata": {
    "collapsed": false
   },
   "id": "d381df29a6bbdd82"
  },
  {
   "cell_type": "code",
   "outputs": [
    {
     "name": "stdout",
     "output_type": "stream",
     "text": [
      "Data for materials written to uploads/Ni26.json\n"
     ]
    }
   ],
   "source": [
    "from utils.jupyterlite import set_data\n",
    "\n",
    "set_data(\"materials\", [material_with_defect.to_json()])"
   ],
   "metadata": {
    "collapsed": false,
    "ExecuteTime": {
     "end_time": "2024-06-07T03:29:33.012699Z",
     "start_time": "2024-06-07T03:29:33.006688Z"
    }
   },
   "id": "61daa5afcbc078a9",
   "execution_count": 13
  }
 ],
 "metadata": {
  "kernelspec": {
   "display_name": "Python 3",
   "language": "python",
   "name": "python3"
  },
  "language_info": {
   "codemirror_mode": {
    "name": "ipython",
    "version": 2
   },
   "file_extension": ".py",
   "mimetype": "text/x-python",
   "name": "python",
   "nbconvert_exporter": "python",
   "pygments_lexer": "ipython2",
   "version": "2.7.6"
  }
 },
 "nbformat": 4,
 "nbformat_minor": 5
}
