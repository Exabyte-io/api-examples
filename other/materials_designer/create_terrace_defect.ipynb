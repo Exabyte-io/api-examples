{
 "cells": [
  {
   "cell_type": "markdown",
   "source": [
    "# Create a Terrace Defect on a Slab\n",
    "\n",
    "Create a terrace defect by adding layers to a portion of a slab, defined by a cutting plane and number of additional layers.\n",
    "\n",
    "<h2 style=\"color:green\">Usage</h2>\n",
    "\n",
    "1. Make sure to select Input Material (in the outer runtime) before running the notebook.\n",
    "1. Set notebook parameters in cell 1.1. below (or use the default values).\n",
    "1. Click \"Run\" > \"Run All\" to run all cells.\n",
    "1. Wait for the run to complete.\n",
    "1. Scroll down to view results.\n",
    "\n",
    "## Notes\n",
    "\n",
    "1. The input material must be a Slab, or slab will be generated with provided parameters."
   ],
   "metadata": {
    "collapsed": false
   },
   "id": "f5ca6879c3872454"
  },
  {
   "cell_type": "markdown",
   "source": [
    "## 1. Prepare the Environment\n",
    "### 1.1. Set up the notebook\n",
    "The cut direction, pivot coordinate, and number of added layers define the terrace defect, shown in the image below.\n",
    "\n",
    "<img src=\"https://github.com/Exabyte-io/documentation/raw/88451ce38b0f57f804dcb5010a1a95bb9b9e50bc/images/notebooks/terrace_settings.webp\" alt=\"Terrace parameters visualized\" width=\"400\"/>"
   ],
   "metadata": {
    "collapsed": false
   },
   "id": "ff0f33c4e6ac1303"
  },
  {
   "cell_type": "code",
   "source": [
    "# Material selection\n",
    "MATERIAL_INDEX = 0  # Which material to use from input list\n",
    "\n",
    "# Terrace parameters\n",
    "CUT_DIRECTION = [1, 0, 0]  # Normal vector describing a plane that cuts the terrace from added layers (Miller indices)\n",
    "PIVOT_COORDINATE = [0.5, 0.5, 0.5]  # Point the cutting plane passes through, in crystal coordinates\n",
    "NUMBER_OF_ADDED_LAYERS = 1  # Height of terrace in atomic layers\n",
    "USE_CARTESIAN_COORDINATES = False  # Use cartesian instead of crystal coordinates\n",
    "ROTATE_TO_MATCH_PBC = True  # Rotate to match periodic boundary conditions\n",
    "\n",
    "# Slab parameters for creating a new slab if provided material is not a slab\n",
    "DEFAULT_SLAB_PARAMETERS = {\n",
    "    \"miller_indices\": (0, 0, 1),\n",
    "    \"thickness\": 6,\n",
    "    \"vacuum\": 10.0,\n",
    "    \"use_orthogonal_z\": True,\n",
    "    \"xy_supercell_matrix\": [[5, 0], [0, 5]]\n",
    "}\n",
    "\n",
    "# Visualization parameters\n",
    "SHOW_INTERMEDIATE_STEPS = True\n",
    "CELL_REPETITIONS_FOR_VISUALIZATION = [3, 3, 1]  # Structure repeat in view"
   ],
   "metadata": {
    "collapsed": false,
    "ExecuteTime": {
     "end_time": "2025-05-13T22:53:55.899740Z",
     "start_time": "2025-05-13T22:53:55.894773Z"
    }
   },
   "id": "dd6ca344ae34a2d6",
   "outputs": [],
   "execution_count": 1
  },
  {
   "cell_type": "markdown",
   "source": [
    "### 1.2. Install packages\n",
    "The step executes only in Pyodide environment. For other environments, the packages should be installed via `pip install`."
   ],
   "metadata": {
    "collapsed": false
   },
   "id": "ac4ec25db74d75f4"
  },
  {
   "cell_type": "code",
   "source": [
    "import sys\n",
    "\n",
    "if sys.platform == \"emscripten\":\n",
    "    import micropip\n",
    "\n",
    "    await micropip.install('mat3ra-api-examples', deps=False)\n",
    "    await micropip.install('mat3ra-utils')\n",
    "    from mat3ra.utils.jupyterlite.packages import install_packages\n",
    "\n",
    "    await install_packages(\"\")"
   ],
   "metadata": {
    "collapsed": false,
    "ExecuteTime": {
     "end_time": "2025-05-13T22:53:56.024643Z",
     "start_time": "2025-05-13T22:53:56.021253Z"
    }
   },
   "id": "38574beae9a769cd",
   "outputs": [],
   "execution_count": 2
  },
  {
   "cell_type": "markdown",
   "source": [
    "### 1.3. Load input material"
   ],
   "metadata": {
    "collapsed": false
   },
   "id": "c0eab57550f40708"
  },
  {
   "cell_type": "code",
   "source": [
    "from utils.jupyterlite import get_materials\n",
    "\n",
    "materials = get_materials(globals())"
   ],
   "metadata": {
    "collapsed": false,
    "ExecuteTime": {
     "end_time": "2025-05-13T22:53:56.404034Z",
     "start_time": "2025-05-13T22:53:56.029464Z"
    }
   },
   "id": "f2479655b99cca48",
   "outputs": [
    {
     "name": "stdout",
     "output_type": "stream",
     "text": [
      "0: 0-Ni\n",
      "1: 1-Graphene\n",
      "2: C2(001)-Ni4(111), Interface\n",
      "3: Ni26 C1, Substitution C Defect\n",
      "4: Ni4(001), termination Ni_P4:mmm_2, Slab\n",
      "5: O8Zr4(011), termination O2_P2:m_1, Slab\n",
      "Retrieved 6 materials.\n"
     ]
    }
   ],
   "execution_count": 3
  },
  {
   "cell_type": "markdown",
   "source": [
    "### 1.4. Create a slab if the input material is not a slab"
   ],
   "metadata": {
    "collapsed": false
   },
   "id": "4282a853c29a1501"
  },
  {
   "cell_type": "code",
   "source": [
    "from mat3ra.made.tools.build.slab import create_slab_if_not, SlabConfiguration\n",
    "\n",
    "default_slab_config = SlabConfiguration(\n",
    "    bulk=materials[0],\n",
    "    miller_indices=DEFAULT_SLAB_PARAMETERS[\"miller_indices\"],\n",
    "    number_of_layers=DEFAULT_SLAB_PARAMETERS[\"thickness\"],\n",
    "    vacuum=DEFAULT_SLAB_PARAMETERS[\"vacuum\"],\n",
    "    use_orthogonal_z=DEFAULT_SLAB_PARAMETERS[\"use_orthogonal_z\"],\n",
    "    xy_supercell_matrix=DEFAULT_SLAB_PARAMETERS[\"xy_supercell_matrix\"]\n",
    ")\n",
    "\n",
    "slab = create_slab_if_not(materials[0], default_slab_config)"
   ],
   "metadata": {
    "collapsed": false,
    "ExecuteTime": {
     "end_time": "2025-05-13T22:53:58.127131Z",
     "start_time": "2025-05-13T22:53:56.411318Z"
    }
   },
   "id": "80b7b827c2b390c3",
   "outputs": [
    {
     "name": "stdout",
     "output_type": "stream",
     "text": [
      "The material is not a slab. Creating a new slab...\n"
     ]
    },
    {
     "name": "stderr",
     "output_type": "stream",
     "text": [
      "/Users/mat3ra/code/GREEN/api-examples/.venv-3.11.2/lib/python3.11/site-packages/spglib/spglib.py:115: DeprecationWarning: dict interface (SpglibDataset['number']) is deprecated.Use attribute interface ({self.__class__.__name__}.{key}) instead\n",
      "  warnings.warn(\n",
      "/Users/mat3ra/code/GREEN/api-examples/.venv-3.11.2/lib/python3.11/site-packages/spglib/spglib.py:115: DeprecationWarning: dict interface (SpglibDataset['international']) is deprecated.Use attribute interface ({self.__class__.__name__}.{key}) instead\n",
      "  warnings.warn(\n",
      "/Users/mat3ra/code/GREEN/api-examples/.venv-3.11.2/lib/python3.11/site-packages/spglib/spglib.py:115: DeprecationWarning: dict interface (SpglibDataset['wyckoffs']) is deprecated.Use attribute interface ({self.__class__.__name__}.{key}) instead\n",
      "  warnings.warn(\n",
      "/Users/mat3ra/code/GREEN/api-examples/.venv-3.11.2/lib/python3.11/site-packages/spglib/spglib.py:115: DeprecationWarning: dict interface (SpglibDataset['equivalent_atoms']) is deprecated.Use attribute interface ({self.__class__.__name__}.{key}) instead\n",
      "  warnings.warn(\n",
      "/Users/mat3ra/code/GREEN/api-examples/.venv-3.11.2/lib/python3.11/site-packages/spglib/spglib.py:115: DeprecationWarning: dict interface (SpglibDataset['rotations']) is deprecated.Use attribute interface ({self.__class__.__name__}.{key}) instead\n",
      "  warnings.warn(\n"
     ]
    }
   ],
   "execution_count": 4
  },
  {
   "cell_type": "markdown",
   "source": [
    "### 1.5. Visualize slab"
   ],
   "metadata": {
    "collapsed": false
   },
   "id": "916c8b16e01f86ff"
  },
  {
   "cell_type": "code",
   "source": [
    "from utils.visualize import visualize_materials\n",
    "\n",
    "if SHOW_INTERMEDIATE_STEPS:\n",
    "    print(\"Initial slab structure:\")\n",
    "    visualize_materials(slab, repetitions=CELL_REPETITIONS_FOR_VISUALIZATION)\n",
    "    visualize_materials(slab, repetitions=CELL_REPETITIONS_FOR_VISUALIZATION, rotation=\"-90x\")"
   ],
   "metadata": {
    "collapsed": false,
    "ExecuteTime": {
     "end_time": "2025-05-13T22:54:00.098213Z",
     "start_time": "2025-05-13T22:53:58.147449Z"
    }
   },
   "id": "16bb968a93de4b9",
   "outputs": [
    {
     "name": "stdout",
     "output_type": "stream",
     "text": [
      "Initial slab structure:\n"
     ]
    },
    {
     "data": {
      "text/plain": [
       "GridBox(children=(VBox(children=(Label(value='Ni600 - Material - rotation: 0x,0y,0z', layout=Layout(align_self…"
      ],
      "application/vnd.jupyter.widget-view+json": {
       "version_major": 2,
       "version_minor": 0,
       "model_id": "5d8f3702971441c0948961611e5b5e05"
      }
     },
     "metadata": {},
     "output_type": "display_data"
    },
    {
     "data": {
      "text/plain": [
       "GridBox(children=(VBox(children=(Label(value='Ni600 - Material - rotation: -90x', layout=Layout(align_self='ce…"
      ],
      "application/vnd.jupyter.widget-view+json": {
       "version_major": 2,
       "version_minor": 0,
       "model_id": "513069d61748466dbeb41e1b657551dc"
      }
     },
     "metadata": {},
     "output_type": "display_data"
    }
   ],
   "execution_count": 5
  },
  {
   "cell_type": "markdown",
   "source": [
    "## 2. Create target material\n",
    "### 2.1. Set up terrace configuration and builder\n"
   ],
   "metadata": {
    "collapsed": false
   },
   "id": "9edaa3afb28ee0ad"
  },
  {
   "cell_type": "code",
   "source": [
    "from mat3ra.made.tools.build.defect.builders import TerraceSlabDefectConfiguration, TerraceSlabDefectBuilder\n",
    "\n",
    "config = TerraceSlabDefectConfiguration(\n",
    "    crystal=slab,\n",
    "    cut_direction=CUT_DIRECTION,\n",
    "    pivot_coordinate=PIVOT_COORDINATE,\n",
    "    number_of_added_layers=NUMBER_OF_ADDED_LAYERS,\n",
    "    use_cartesian_coordinates=USE_CARTESIAN_COORDINATES,\n",
    "    rotate_to_match_pbc=ROTATE_TO_MATCH_PBC\n",
    ")\n",
    "\n",
    "builder = TerraceSlabDefectBuilder()"
   ],
   "metadata": {
    "collapsed": false,
    "ExecuteTime": {
     "end_time": "2025-05-13T22:54:00.133631Z",
     "start_time": "2025-05-13T22:54:00.107036Z"
    }
   },
   "id": "c318fd03c7e667df",
   "outputs": [],
   "execution_count": 6
  },
  {
   "cell_type": "markdown",
   "source": [
    "### 2.2. Generate terrace defect\n"
   ],
   "metadata": {
    "collapsed": false
   },
   "id": "b9df79c67a870181"
  },
  {
   "cell_type": "code",
   "source": [
    "terrace_slab = builder.get_material(config)\n",
    "\n",
    "print(\"\\nTerrace defect created with:\")\n",
    "print(f\"Cut direction: {CUT_DIRECTION}\")\n",
    "print(f\"Pivot point: {PIVOT_COORDINATE}\")\n",
    "print(f\"Added layers: {NUMBER_OF_ADDED_LAYERS}\")\n",
    "print(f\"Number of atoms: {len(terrace_slab.basis.elements.ids)}\")"
   ],
   "metadata": {
    "collapsed": false,
    "ExecuteTime": {
     "end_time": "2025-05-13T22:54:00.552490Z",
     "start_time": "2025-05-13T22:54:00.226564Z"
    }
   },
   "id": "256bc04ff0aa1810",
   "outputs": [
    {
     "name": "stdout",
     "output_type": "stream",
     "text": [
      "\n",
      "Terrace defect created with:\n",
      "Cut direction: [1, 0, 0]\n",
      "Pivot point: [0.5, 0.5, 0.5]\n",
      "Added layers: 1\n",
      "Number of atoms: 654\n"
     ]
    }
   ],
   "execution_count": 7
  },
  {
   "cell_type": "markdown",
   "source": [
    "## 3. Visualize the result"
   ],
   "metadata": {
    "collapsed": false
   },
   "id": "9bee7a912a90e33c"
  },
  {
   "cell_type": "code",
   "source": [
    "print(\"Final structure with terrace:\")\n",
    "visualize_materials(terrace_slab, repetitions=CELL_REPETITIONS_FOR_VISUALIZATION)\n",
    "visualize_materials(terrace_slab, repetitions=CELL_REPETITIONS_FOR_VISUALIZATION, rotation=\"-90x\")"
   ],
   "metadata": {
    "collapsed": false,
    "ExecuteTime": {
     "end_time": "2025-05-13T22:54:02.576772Z",
     "start_time": "2025-05-13T22:54:00.605512Z"
    }
   },
   "id": "4ffdd8589b02de16",
   "outputs": [
    {
     "name": "stdout",
     "output_type": "stream",
     "text": [
      "Final structure with terrace:\n"
     ]
    },
    {
     "data": {
      "text/plain": [
       "GridBox(children=(VBox(children=(Label(value='Ni654 - Material - rotation: 0x,0y,0z', layout=Layout(align_self…"
      ],
      "application/vnd.jupyter.widget-view+json": {
       "version_major": 2,
       "version_minor": 0,
       "model_id": "7d35ca91ea174c9fb90877b4562f60ba"
      }
     },
     "metadata": {},
     "output_type": "display_data"
    },
    {
     "data": {
      "text/plain": [
       "GridBox(children=(VBox(children=(Label(value='Ni654 - Material - rotation: -90x', layout=Layout(align_self='ce…"
      ],
      "application/vnd.jupyter.widget-view+json": {
       "version_major": 2,
       "version_minor": 0,
       "model_id": "211766fcd37a42fc92982e958157b9ee"
      }
     },
     "metadata": {},
     "output_type": "display_data"
    }
   ],
   "execution_count": 8
  },
  {
   "cell_type": "markdown",
   "source": [
    "## 4. Pass data to the outside runtime\n"
   ],
   "metadata": {
    "collapsed": false
   },
   "id": "d65865cbab99478"
  },
  {
   "cell_type": "code",
   "source": [
    "from utils.jupyterlite import set_materials\n",
    "\n",
    "set_materials(terrace_slab)"
   ],
   "metadata": {
    "collapsed": false,
    "ExecuteTime": {
     "end_time": "2025-05-13T22:54:02.627875Z",
     "start_time": "2025-05-13T22:54:02.613998Z"
    }
   },
   "id": "e292358fe4803b4f",
   "outputs": [
    {
     "name": "stdout",
     "output_type": "stream",
     "text": [
      "Data for materials written to uploads/Ni4(001), termination Ni_P4:mmm_2, Slab, 1-step Terrace [1, 0, 0].json\n"
     ]
    }
   ],
   "execution_count": 9
  }
 ],
 "metadata": {
  "kernelspec": {
   "display_name": "Python 3",
   "language": "python",
   "name": "python3"
  },
  "language_info": {
   "codemirror_mode": {
    "name": "ipython",
    "version": 2
   },
   "file_extension": ".py",
   "mimetype": "text/x-python",
   "name": "python",
   "nbconvert_exporter": "python",
   "pygments_lexer": "ipython2",
   "version": "2.7.6"
  }
 },
 "nbformat": 4,
 "nbformat_minor": 5
}
