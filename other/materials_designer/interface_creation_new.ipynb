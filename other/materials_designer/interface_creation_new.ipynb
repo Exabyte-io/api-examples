{
 "cells": [
  {
   "cell_type": "code",
   "outputs": [],
   "source": [
    "from utils.jupyterlite import get_data\n",
    "get_data(\"materials\", globals())"
   ],
   "metadata": {
    "collapsed": false
   },
   "id": "d501149d594e8e15",
   "execution_count": null
  },
  {
   "cell_type": "markdown",
   "source": [
    "# Configure Slabs for Substrate and Film"
   ],
   "metadata": {
    "collapsed": false
   },
   "id": "49a6661d610406c4"
  },
  {
   "cell_type": "code",
   "execution_count": null,
   "id": "initial_id",
   "metadata": {
    "collapsed": true
   },
   "outputs": [],
   "source": [
    "from mat3ra.made.tools.build.slab import SlabConfiguration\n",
    "\n",
    "bulk_substrate = materials[0]\n",
    "bulk_film = materials[1]\n",
    "\n",
    "substrate_configuration = SlabConfiguration(bulk=bulk_substrate, miller_indices=(1,1,1), thickness=3, vacuum =1.0, xy_supercell_matrix=[[1,0],[0,1]])\n",
    "film_configuration = SlabConfiguration(bulk=bulk_film, miller_indices=(0,0,1), thickness=3, vacuum =1.0, xy_supercell_matrix=[[1,0],[0,1]])\n",
    "\n",
    "substrate_terminations = substrate_configuration.terminations\n",
    "film_terminations = film_configuration.terminations\n",
    "\n",
    "# visualize the slabs with terminations"
   ]
  },
  {
   "cell_type": "code",
   "outputs": [],
   "source": [
    "substrate_slab = substrate_configuration.get_material(substrate_terminations[0])\n",
    "film_slab = film_configuration.get_material(film_terminations[0])"
   ],
   "metadata": {
    "collapsed": false
   },
   "id": "cb77e0d6b53c2d02"
  },
  {
   "cell_type": "markdown",
   "source": [
    "# Create Interface Configuration"
   ],
   "metadata": {
    "collapsed": false
   },
   "id": "d2492263673c9ff5"
  },
  {
   "cell_type": "code",
   "outputs": [],
   "source": [
    "from mat3ra.made.tools.build.interface import InterfaceConfiguration\n",
    "\n",
    "interface_configuration = InterfaceConfiguration(substrate_slab, film_slab, distance_z=3.0, shift_x=0.0, shift_y=0.0)\n",
    "\n",
    "\n",
    "dumb_interface = interface_configuration.get_material()\n",
    "\n",
    "film_scaling_strain_matcher = InterfaceConfigurationStrainMatcher(\n",
    "    interface_configuration,\n",
    "    # This will scale the film to match the substrate lattice\n",
    "    strain_matching_parameters=None\n",
    ")\n",
    "\n",
    "interface_with_substrate_scaled = film_scaling_strain_matcher.get_interfaces()[0]\n"
   ],
   "metadata": {
    "collapsed": false
   },
   "id": "f562af31c3c55d28"
  },
  {
   "cell_type": "code",
   "outputs": [],
   "source": [
    "from mat3ra.made.tools.build.interface import  InterfaceConfigurationStrainMatcher, ZSLStrainMatchingParameters\n",
    "\n",
    "ZSLStrainMatchingParameters.max_area = 50\n",
    "\n",
    "zsl_strain_matcher = InterfaceConfigurationStrainMatcher(interface_configuration, strain_matching_parameters=ZSLStrainMatchingParameters)\n",
    "\n",
    "interfaces_ordered_by_strain = zsl_strain_matcher.get_interfaces()"
   ],
   "metadata": {
    "collapsed": false
   },
   "id": "5e57ad51bccc6701"
  },
  {
   "cell_type": "code",
   "outputs": [],
   "source": [],
   "metadata": {
    "collapsed": false
   },
   "id": "379c4158c4b5f84f"
  }
 ],
 "metadata": {
  "kernelspec": {
   "display_name": "Python 3",
   "language": "python",
   "name": "python3"
  },
  "language_info": {
   "codemirror_mode": {
    "name": "ipython",
    "version": 2
   },
   "file_extension": ".py",
   "mimetype": "text/x-python",
   "name": "python",
   "nbconvert_exporter": "python",
   "pygments_lexer": "ipython2",
   "version": "2.7.6"
  }
 },
 "nbformat": 4,
 "nbformat_minor": 5
}
