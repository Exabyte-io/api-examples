{
 "cells": [
  {
   "cell_type": "markdown",
   "source": [
    "# Create a Perturbation in a Material\n",
    "\n",
    "Create a perturbation in a material with a specified smooth function or a custom function described with [SymPy](https://docs.sympy.org/latest/tutorials/intro-tutorial/intro.html) expressions. \n",
    "\n",
    "<h2 style=\"color:green\">Usage</h2>\n",
    "\n",
    "1. Make sure to select Input Materials (in the outer runtime) before running the notebook.\n",
    "1. Set notebook parameters in cell 1.1. below (or use the default values).\n",
    "1. Set perturbation parameters in cell 2.1. (or use default).\n",
    "1. Click “Run” > “Run All” to run all cells. \n",
    "1. Wait for the run to complete (depending on the parameters can take a few min). \n",
    "1. Scroll down to view results. \n",
    "\n",
    "## Summary\n",
    "1. Prepare the Environment: Set up the notebook and install packages, preview the input materials\n",
    "1. Create the Perturbation: Add a smooth perturbation to the material\n",
    "2. Visualize the Perturbed Material\n",
    "\n",
    "## Notes\n",
    "\n",
    "1. For more information, see [Introduction](Introduction.ipynb)\n"
   ],
   "metadata": {
    "collapsed": false
   },
   "id": "367a698b29e22bd7"
  },
  {
   "cell_type": "markdown",
   "source": [
    "## 1. Prepare the Environment\n",
    "### 1.1. Set up supercell parameters "
   ],
   "metadata": {
    "collapsed": false
   },
   "id": "193a4e6a78fd5bd7"
  },
  {
   "cell_type": "code",
   "outputs": [],
   "source": [
    "SUPERCELL_MATRIX = [[30, 0, 0], [0, 30, 0], [0, 0, 1]] "
   ],
   "metadata": {
    "collapsed": false,
    "ExecuteTime": {
     "end_time": "2024-11-26T21:31:02.755893Z",
     "start_time": "2024-11-26T21:31:02.747558Z"
    }
   },
   "id": "a40d7b697c413113",
   "execution_count": 1
  },
  {
   "cell_type": "markdown",
   "source": [
    "### 1.2. Install Packages\n",
    "The step executes only in Pyodide environment. For other environments, the packages should be installed via `pip install` (see [README](../../README.ipynb))."
   ],
   "metadata": {
    "collapsed": false
   },
   "id": "49c9f5022d50517e"
  },
  {
   "cell_type": "code",
   "outputs": [],
   "source": [
    "import sys\n",
    "\n",
    "if sys.platform == \"emscripten\":\n",
    "    import micropip\n",
    "    await micropip.install('mat3ra-api-examples', deps=False)\n",
    "    from utils.jupyterlite import install_packages\n",
    "    await install_packages(\"\")"
   ],
   "metadata": {
    "collapsed": false,
    "ExecuteTime": {
     "end_time": "2024-11-26T21:31:02.770633Z",
     "start_time": "2024-11-26T21:31:02.759351Z"
    }
   },
   "id": "c6d9f8e57bef2f91",
   "execution_count": 2
  },
  {
   "cell_type": "markdown",
   "source": [
    "### 1.3. Get input materials\n",
    "Materials are loaded with `get_materials()`."
   ],
   "metadata": {
    "collapsed": false
   },
   "id": "edf02101e27a2742"
  },
  {
   "cell_type": "code",
   "outputs": [
    {
     "name": "stdout",
     "output_type": "stream",
     "text": [
      "0: Data from 0-Ni has been read successfully.\n",
      "1: Data from 1-Graphene has been read successfully.\n",
      "2: Data from 10-Al2O3, Sapphire, RHL (R-3c) 3D (Bulk), mp-1143 (1) has been read successfully.\n",
      "3: Data from 11-ZnO, Zinc Oxide, HEX (P6_3mc) 3D (Bulk), mp-2133 has been read successfully.\n",
      "4: Data from 12-Cd4 Te4 has been read successfully.\n",
      "5: Data from 13-Si4 C4 has been read successfully.\n",
      "6: Data from 14-GaN, Gallium Nitride, HEX (P6_3mc) 3D (Bulk), mp-804 has been read successfully.\n",
      "7: Data from 15-WS2, Tungsten Disulfide, HEX (P-6m2) 2D (Monolayer), 2dm-3749 has been read successfully.\n",
      "8: Data from 16 - In4 P4 has been read successfully.\n",
      "9: Data from 17 - Silicon FCC (8) has been read successfully.\n",
      "10: Data from 4-Te2Mo has been read successfully.\n",
      "11: Data from 5-HfO2 has been read successfully.\n",
      "12: Data from 6-Ni4(110), termination Ni_Pmmm_2, Slab, Terrace, 1 steps, [2 0 0] has been read successfully.\n",
      "13: Data from 7-Ag4 has been read successfully.\n",
      "14: Data from 8-Si, Silicene, HEX (P-3m1) 2D (Monolayer), 2dm-5934 has been read successfully.\n",
      "15: Data from 9-GaAs, Gallium Arsenide, FCC (F-43m) 3D (Bulk), mp-2534 has been read successfully.\n",
      "16: Data from C, Graphene, HEX (P6:mmm) 2D (Monolayer), 2dm-3993 (Zigzag nanoribbon) H-passivated H-passivated H-passivated H-passivated H-passivated H-passivated H-passivated has been read successfully.\n",
      "17: Data from C, Graphene, HEX (P6:mmm) 2D (Monolayer), 2dm-3993 (Zigzag nanoribbon) H-passivated H-passivated H-passivated H-passivated has been read successfully.\n",
      "18: Data from C, Graphene, HEX (P6:mmm) 2D (Monolayer), 2dm-3993 (Zigzag nanoribbon) H-passivated H-passivated H-passivated has been read successfully.\n",
      "19: Data from C, Graphene, HEX (P6:mmm) 2D (Monolayer), 2dm-3993 (Zigzag nanoribbon) H-passivated H-passivated has been read successfully.\n",
      "20: Data from C, Graphene, HEX (P6:mmm) 2D (Monolayer), 2dm-3993 (Zigzag nanoribbon) H-passivated has been read successfully.\n",
      "21: Data from C, Graphene, HEX (P6:mmm) 2D (Monolayer), 2dm-3993 (Zigzag nanoribbon) has been read successfully.\n",
      "22: Data from C, Graphene, HEX (P6:mmm) 2D (Monolayer), 2dm-3993, Grain Boundary (17.90°) has been read successfully.\n",
      "23: Data from Cu4(111)-Cu4(001), Grain Boundary has been read successfully.\n",
      "24: Data from Custom Shape - Etching Pattern has been read successfully.\n",
      "25: Data from Custom Shape - Transistor has been read successfully.\n",
      "26: Data from Ni, Nickel, FCC (Fm-3m) 3D (Bulk), mp-23 (Zigzag nanoribbon) has been read successfully.\n",
      "27: Data from Ni, Nickel, FCC (Fm-3m) 3D (Bulk), mp-23 Cluster R=0.5A has been read successfully.\n",
      "28: Data from Ni, Nickel, FCC (Fm-3m) 3D (Bulk), mp-23, Grain Boundary (17.90°) has been read successfully.\n",
      "29: Data from Ni, Nickel, FCC (Fm-3m) 3D (Bulk), mp-23 has been read successfully.\n",
      "30: Data from Ni25 C1, Substitution C Defect, Pair  Defect, Vacancy and Substitution Defect Pair has been read successfully.\n",
      "31: Data from Ni4(001), termination Ni_P4:mmm_2, Slab H-passivated has been read successfully.\n",
      "32: Data from Ni4(001), termination Ni_P4:mmm_2, Slab, 1-step Terrace [1, 0, 0] has been read successfully.\n",
      "33: Data from Ni4(001), termination Ni_P4:mmm_2, Slab has been read successfully.\n",
      "34: Data from Ni4(111)-Ni4(001), Grain Boundary has been read successfully.\n",
      "35: Data from S4W2(001), termination S_P6:mmm_1, Slab has been read successfully.\n",
      "36: Data from Si, Silicene, HEX (P-3m1) 2D (Monolayer), 2dm-5934 has been read successfully.\n",
      "37: Data from Twisted Nanoribbon Interface (60.00°) has been read successfully.\n",
      "38: Data from WS2, Tungsten Disulfide, HEX (P6_3_mmc) 3D (Bulk), mp-224 has been read successfully.\n",
      "Retrieved 39 materials.\n"
     ]
    }
   ],
   "source": [
    "from utils.jupyterlite import get_materials\n",
    "materials = get_materials(globals())"
   ],
   "metadata": {
    "collapsed": false,
    "ExecuteTime": {
     "end_time": "2024-11-26T21:31:03.729986Z",
     "start_time": "2024-11-26T21:31:02.773083Z"
    }
   },
   "id": "e0c53233ce728cc1",
   "execution_count": 3
  },
  {
   "cell_type": "markdown",
   "source": [
    "### 1.4. Create and preview Supercell"
   ],
   "metadata": {
    "collapsed": false
   },
   "id": "cf29b7f6fe114d8f"
  },
  {
   "cell_type": "code",
   "outputs": [
    {
     "data": {
      "text/plain": "GridBox(children=(VBox(children=(Label(value='Ni900 - Material - rotation: 0x', layout=Layout(align_self='cent…",
      "application/vnd.jupyter.widget-view+json": {
       "version_major": 2,
       "version_minor": 0,
       "model_id": "007dd5da06fb43ddb53f04285c23fd25"
      }
     },
     "metadata": {},
     "output_type": "display_data"
    }
   ],
   "source": [
    "from utils.visualize import visualize_materials as visualize\n",
    "from mat3ra.made.tools.build.supercell import create_supercell\n",
    "\n",
    "unit_cell = materials[0]\n",
    "supercell = create_supercell(unit_cell, supercell_matrix=SUPERCELL_MATRIX)\n",
    "visualize(supercell, repetitions=[1, 1, 1], rotation=\"0x\")"
   ],
   "metadata": {
    "collapsed": false,
    "ExecuteTime": {
     "end_time": "2024-11-26T21:31:10.106048Z",
     "start_time": "2024-11-26T21:31:03.731408Z"
    }
   },
   "id": "897ba7aa4e402d24",
   "execution_count": 4
  },
  {
   "cell_type": "markdown",
   "source": [
    "## 2. Create the SineWave Perturbation\n",
    "### 2.1. Set sine wave perturbation parameters\n",
    "Use perturbation function imported from `mat3ra.made.tools.utils.perturbation` folder."
   ],
   "metadata": {
    "collapsed": false
   },
   "id": "39a93c4635762a83"
  },
  {
   "cell_type": "code",
   "outputs": [],
   "source": [
    "from mat3ra.made.tools.build.perturbation import PerturbationConfiguration, SlabPerturbationBuilder\n",
    "from mat3ra.made.tools.utils.perturbation import SineWavePerturbationFunctionHolder\n",
    "\n",
    "amplitude = 0.05\n",
    "wavelength = 1\n",
    "phase = 0\n",
    "axis = \"y\"\n",
    "perturbation_function = SineWavePerturbationFunctionHolder(amplitude=amplitude, \n",
    "                                                           wavelength=wavelength, \n",
    "                                                           phase=phase,\n",
    "                                                           axis=axis)\n",
    "\n",
    "configuration = PerturbationConfiguration(material=supercell, \n",
    "                                          perturbation_function_holder=perturbation_function,\n",
    "                                          use_cartesian_coordinates=False)\n",
    "\n",
    "builder = SlabPerturbationBuilder()"
   ],
   "metadata": {
    "collapsed": false,
    "ExecuteTime": {
     "end_time": "2024-11-26T21:31:10.179352Z",
     "start_time": "2024-11-26T21:31:10.108109Z"
    }
   },
   "id": "1991efeeebe39db4",
   "execution_count": 5
  },
  {
   "cell_type": "markdown",
   "source": [
    "### 2.2. Apply perturbation to the material"
   ],
   "metadata": {
    "collapsed": false
   },
   "id": "d296d7287618dc0b"
  },
  {
   "cell_type": "code",
   "outputs": [
    {
     "name": "stderr",
     "output_type": "stream",
     "text": [
      "/Users/mat3ra/code/GREEN/api-examples/.venv/lib/python3.11/site-packages/mat3ra/made/tools/utils/perturbation.py:66: IntegrationWarning: The maximum number of subdivisions (50) has been achieved.\n",
      "  If increasing the limit yields no improvement it is advised to analyze \n",
      "  the integrand in order to determine the difficulties.  If the position of a \n",
      "  local difficulty can be determined (singularity, discontinuity) one will \n",
      "  probably gain from splitting up the interval and calling the integrator \n",
      "  on the subranges.  Perhaps a special-purpose integrator should be used.\n",
      "  arc_length = quad(self._integrand, a, b, args=(coordinate, axis))[0]\n"
     ]
    }
   ],
   "source": [
    "from mat3ra.made.tools.build.perturbation import create_perturbation\n",
    "\n",
    "material_with_perturbation = create_perturbation(configuration, builder)"
   ],
   "metadata": {
    "collapsed": false,
    "ExecuteTime": {
     "end_time": "2024-11-26T21:31:11.818655Z",
     "start_time": "2024-11-26T21:31:10.181617Z"
    }
   },
   "id": "d77821f7d0b8c330",
   "execution_count": 6
  },
  {
   "cell_type": "markdown",
   "source": [
    "### 2.3. Visualize the Material"
   ],
   "metadata": {
    "collapsed": false
   },
   "id": "eecd561cd92fb18a"
  },
  {
   "cell_type": "code",
   "outputs": [
    {
     "data": {
      "text/plain": "GridBox(children=(VBox(children=(Label(value='Ni900 - Original material - rotation: 0x,0y,0z', layout=Layout(a…",
      "application/vnd.jupyter.widget-view+json": {
       "version_major": 2,
       "version_minor": 0,
       "model_id": "f7d539af94b64263bf24b06137648f79"
      }
     },
     "metadata": {},
     "output_type": "display_data"
    }
   ],
   "source": [
    "from utils.visualize import visualize_materials as visualize\n",
    "\n",
    "visualize([{\"material\": supercell, \"title\": \"Original material\"},\n",
    "           {\"material\": material_with_perturbation, \"title\": f\"Material with perturbation\"},\n",
    "           {\"material\": material_with_perturbation, \"title\": f\"Material with perturbation\", \"rotation\": \"-90x\"},\n",
    "])"
   ],
   "metadata": {
    "collapsed": false,
    "ExecuteTime": {
     "end_time": "2024-11-26T21:31:13.286814Z",
     "start_time": "2024-11-26T21:31:11.820285Z"
    }
   },
   "id": "1ee393a7f2ec3bc8",
   "execution_count": 7
  },
  {
   "cell_type": "markdown",
   "source": [
    "## 3. Create a Custom Perturbation\n",
    "### 3.1. Set custom perturbation parameters\n",
    "Provide a SymPy expression for the perturbation function. The expression should be a function of `x`, `y` and `z` variables."
   ],
   "metadata": {
    "collapsed": false
   },
   "id": "6d4adf0d580e0340"
  },
  {
   "cell_type": "code",
   "outputs": [],
   "source": [
    "import sympy as sp\n",
    "from mat3ra.made.tools.build.perturbation import CellMatchingDistancePreservingSlabPerturbationBuilder\n",
    "from mat3ra.made.tools.utils.perturbation import PerturbationFunctionHolder\n",
    "\n",
    "x,y = sp.symbols('x y')\n",
    "function = amplitude * sp.sin(2 * sp.pi * x / wavelength + phase) * sp.sin(2 * sp.pi * y / wavelength)\n",
    "\n",
    "custom_perturbation_function = PerturbationFunctionHolder(function=function, variables=[\"x\", \"y\"])\n",
    "configuration_custom = PerturbationConfiguration(material=supercell,\n",
    "                                                 perturbation_function_holder=custom_perturbation_function,\n",
    "                                                 use_cartesian_coordinates=False)\n",
    "distance_preserving_builder = CellMatchingDistancePreservingSlabPerturbationBuilder()"
   ],
   "metadata": {
    "collapsed": false
   },
   "id": "8d90932312c418ee",
   "execution_count": 8
  },
  {
   "cell_type": "markdown",
   "source": [
    "### 3.2. Apply perturbation to the material"
   ],
   "metadata": {
    "collapsed": false
   },
   "id": "7695d5d1df6be2e3"
  },
  {
   "cell_type": "code",
   "outputs": [],
   "source": [
    "material_with_custom_perturbation = create_perturbation(configuration_custom, distance_preserving_builder)"
   ],
   "metadata": {
    "collapsed": false,
    "ExecuteTime": {
     "end_time": "2024-11-26T21:31:16.037095Z",
     "start_time": "2024-11-26T21:31:13.307955Z"
    }
   },
   "id": "69ccc90b8c5c1191",
   "execution_count": 9
  },
  {
   "cell_type": "markdown",
   "source": [
    "### 3.3. Visualize the Material"
   ],
   "metadata": {
    "collapsed": false
   },
   "id": "10e7ca8950839991"
  },
  {
   "cell_type": "code",
   "outputs": [
    {
     "data": {
      "text/plain": "GridBox(children=(VBox(children=(Label(value='Ni900 - Material with custom perturbation - rotation: 0x,0y,0z',…",
      "application/vnd.jupyter.widget-view+json": {
       "version_major": 2,
       "version_minor": 0,
       "model_id": "ab6a8b7bcd724c82b96c83fb29d3369d"
      }
     },
     "metadata": {},
     "output_type": "display_data"
    }
   ],
   "source": [
    "visualize([\n",
    "    {\"material\": material_with_custom_perturbation, \"title\": f\"Material with custom perturbation\"},\n",
    "    {\"material\": material_with_custom_perturbation, \"title\": f\"Material with custom perturbation\",\"rotation\": \"-90x\"}\n",
    "])"
   ],
   "metadata": {
    "collapsed": false,
    "ExecuteTime": {
     "end_time": "2024-11-26T21:31:16.966812Z",
     "start_time": "2024-11-26T21:31:16.038742Z"
    }
   },
   "id": "cbfe0878a16f6c83",
   "execution_count": 10
  },
  {
   "cell_type": "markdown",
   "source": [
    "## 4. Pass data to the outside runtime"
   ],
   "metadata": {
    "collapsed": false
   },
   "id": "9e0b241366592109"
  },
  {
   "cell_type": "code",
   "outputs": [
    {
     "name": "stdout",
     "output_type": "stream",
     "text": [
      "Data for materials written to uploads/Ni, Nickel, FCC (Fm-3m) 3D (Bulk), mp-23 (Perturbation: SineWavePerturbationFunctionHolder).json\n",
      "Data for materials written to uploads/Ni, Nickel, FCC (Fm-3m) 3D (Bulk), mp-23 (Perturbation: PerturbationFunctionHolder).json\n"
     ]
    }
   ],
   "source": [
    "from utils.jupyterlite import set_materials\n",
    "\n",
    "set_materials([material_with_perturbation, material_with_custom_perturbation])"
   ],
   "metadata": {
    "collapsed": false,
    "ExecuteTime": {
     "end_time": "2024-11-26T21:31:17.068212Z",
     "start_time": "2024-11-26T21:31:16.970895Z"
    }
   },
   "id": "29dfa0a329cca2fa",
   "execution_count": 11
  }
 ],
 "metadata": {
  "kernelspec": {
   "display_name": "Python 3",
   "language": "python",
   "name": "python3"
  },
  "language_info": {
   "codemirror_mode": {
    "name": "ipython",
    "version": 2
   },
   "file_extension": ".py",
   "mimetype": "text/x-python",
   "name": "python",
   "nbconvert_exporter": "python",
   "pygments_lexer": "ipython2",
   "version": "2.7.6"
  }
 },
 "nbformat": 4,
 "nbformat_minor": 5
}
