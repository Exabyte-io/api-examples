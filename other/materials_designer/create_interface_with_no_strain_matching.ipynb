{
 "cells": [
  {
   "cell_type": "markdown",
   "metadata": {},
   "source": [
    "# Create an interface with no strain matching\n",
    "\n",
    "<h2 style=\"color:green\">Usage</h2>\n",
    "\n",
    "1. Make sure to select Input Materials (in the outer runtime) before running the notebook.\n",
    "1. Set notebook parameters in cell 1.1. below (or use the default values).\n",
    "1. Set slab parameters for the substrate and film in cell 2.1. (or use default).\n",
    "1. Set interface parameters in cell 3.1. (or use default).\n",
    "1. Click “Run” > “Run All” to run all cells. \n",
    "1. Scroll down to view results. \n",
    "\n",
    "## Summary\n",
    "1. Prepare the Environment: Set up the notebook and install packages, preview the input materials\n",
    "1. Create substrate and film slabs and select the terminations\n",
    "1. Generate an interface by wrapping the film slab into the substrate slab. Optionally, the film slab can be scaled to match the substrate lattice.\n",
    "1. Select the interface with the desired strain and visualize it\n",
    "\n",
    "## Notes\n",
    "1. For more information, see [Introduction](Introduction.ipynb)\n",
    "<!-- # TODO: use a hashtag-based anchor link to interface creation documention above -->\n"
   ]
  },
  {
   "cell_type": "markdown",
   "source": [
    "## 1. Prepare Environment\n",
    "### 1.1. Set notebook parameters"
   ],
   "metadata": {
    "collapsed": false
   }
  },
  {
   "cell_type": "code",
   "outputs": [],
   "source": [
    "# Enable interactive selection of terminations via UI prompt\n",
    "IS_TERMINATIONS_SELECTION_INTERACTIVE = False \n",
    "# Enable scaling of the film slab atomic coordinates to match the substrate lattice (preserve coordinates in crystal units).\n",
    "ENABLE_FILM_SCALING = True\n",
    "\n",
    "FILM_INDEX = 1\n",
    "FILM_MILLER_INDICES = (0, 0, 1)\n",
    "FILM_THICKNESS = 1  # in atomic layers\n",
    "FILM_VACUUM = 0.0  # in angstroms\n",
    "FILM_XY_SUPERCELL_MATRIX = [[1, 0], [0, 1]]\n",
    "FILM_USE_ORTHOGONAL_Z = True\n",
    "\n",
    "SUBSTRATE_INDEX = 0\n",
    "SUBSTRATE_MILLER_INDICES = (1, 1, 1)\n",
    "SUBSTRATE_THICKNESS = 3  # in atomic layers\n",
    "SUBSTRATE_VACUUM = 3.0  # in angstroms\n",
    "SUBSTRATE_XY_SUPERCELL_MATRIX = [[1, 0], [0, 1]]\n",
    "SUBSTRATE_USE_ORTHOGONAL_Z = True\n",
    "\n",
    "# Set the termination pair indices\n",
    "TERMINATION_PAIR_INDEX = 0 # Will be overridden in interactive selection is used\n",
    "INTERFACE_DISTANCE = 3.0  # in Angstrom\n",
    "INTERFACE_VACUUM = 20.0  # in Angstrom"
   ],
   "metadata": {
    "collapsed": false
   },
   "execution_count": null
  },
  {
   "cell_type": "markdown",
   "source": [
    "\n",
    "### 1.2. Install Packages\n",
    "Note: the step executes only when using Pyodide. For other environments (e.g. Colab, JupyterLab), the packages should be installed via `pip install .` (see [README](../../README.ipynb))."
   ],
   "metadata": {
    "collapsed": false
   }
  },
  {
   "cell_type": "code",
   "outputs": [],
   "source": [
    "import sys\n",
    "\n",
    "if sys.platform == \"emscripten\":\n",
    "    import micropip\n",
    "    await micropip.install('mat3ra-api-examples', deps=False)\n",
    "    from utils.jupyterlite import install_packages\n",
    "    await install_packages(\"create_interface_with_min_strain_zsl.ipynb\")"
   ],
   "metadata": {
    "collapsed": false
   },
   "execution_count": null
  },
  {
   "cell_type": "markdown",
   "source": [
    "### 1.3. Get input materials and assign `substrate` and `film`\n",
    "Materials are loaded with `get_data()`. The first material is assigned as substrate and the second as film."
   ],
   "metadata": {
    "collapsed": false
   }
  },
  {
   "cell_type": "code",
   "outputs": [],
   "source": [
    "from utils.jupyterlite import get_materials\n",
    "\n",
    "materials = get_materials(globals())\n",
    "substrate = materials[SUBSTRATE_INDEX]\n",
    "try: \n",
    "    film = materials[FILM_INDEX]\n",
    "except IndexError:\n",
    "    print(\"Please select a film material. Film is set to substrate.\")\n",
    "    film = substrate"
   ],
   "metadata": {
    "collapsed": false
   },
   "execution_count": null
  },
  {
   "cell_type": "markdown",
   "source": [
    "### 1.4. Preview Substrate and Film"
   ],
   "metadata": {
    "collapsed": false
   }
  },
  {
   "cell_type": "code",
   "outputs": [],
   "source": [
    "from utils.visualize import visualize_materials as visualize\n",
    "visualize([substrate, film], repetitions=[3, 3, 1], rotation=\"0x\")"
   ],
   "metadata": {
    "collapsed": false
   },
   "execution_count": null
  },
  {
   "cell_type": "markdown",
   "source": [
    "## 2. Configure slabs and select termination pair\n",
    "\n",
    "### 2.1. Create Substrate and Layer Slabs\n",
    "Slab Configuration lets define the slab thickness, vacuum, and the Miller indices of the interfacial plane and get the slabs with possible terminations.\n",
    "Define the substrate slab cell that will be used as a base for the interface and the film slab cell that will be placed on top of the substrate slab."
   ],
   "metadata": {
    "collapsed": false
   }
  },
  {
   "cell_type": "code",
   "outputs": [],
   "source": [
    "from mat3ra.made.tools.build.slab import SlabConfiguration, get_terminations, create_slab\n",
    "\n",
    "film_slab_configuration = SlabConfiguration(\n",
    "    bulk=film,\n",
    "    miller_indices=FILM_MILLER_INDICES,\n",
    "    thickness=FILM_THICKNESS, # in atomic layers\n",
    "    vacuum=FILM_VACUUM, # in angstroms\n",
    "    xy_supercell_matrix=FILM_XY_SUPERCELL_MATRIX,\n",
    "    use_orthogonal_z=FILM_USE_ORTHOGONAL_Z\n",
    ")\n",
    "\n",
    "substrate_slab_configuration = SlabConfiguration(\n",
    "    bulk=substrate,\n",
    "    miller_indices=SUBSTRATE_MILLER_INDICES,\n",
    "    thickness=SUBSTRATE_THICKNESS, # in atomic layers\n",
    "    vacuum=SUBSTRATE_VACUUM, # in angstroms\n",
    "    xy_supercell_matrix=SUBSTRATE_XY_SUPERCELL_MATRIX,\n",
    "    use_orthogonal_z=SUBSTRATE_USE_ORTHOGONAL_Z\n",
    ")"
   ],
   "metadata": {
    "collapsed": false
   },
   "execution_count": null
  },
  {
   "cell_type": "markdown",
   "source": [
    "### 2.2. Get possible terminations for the slabs"
   ],
   "metadata": {
    "collapsed": false
   }
  },
  {
   "cell_type": "code",
   "outputs": [],
   "source": [
    "film_slab_terminations = get_terminations(film_slab_configuration)\n",
    "substrate_slab_terminations = get_terminations(substrate_slab_configuration)"
   ],
   "metadata": {
    "collapsed": false
   },
   "execution_count": null
  },
  {
   "cell_type": "markdown",
   "source": [
    "### 2.3. Visualize slabs for all possible terminations"
   ],
   "metadata": {
    "collapsed": false
   }
  },
  {
   "cell_type": "code",
   "outputs": [],
   "source": [
    "film_slabs = [create_slab(film_slab_configuration, termination) for termination in film_slab_terminations]\n",
    "substrate_slabs = [create_slab(substrate_slab_configuration, termination) for termination in substrate_slab_terminations]\n",
    "\n",
    "visualize([{\"material\":slab, \"title\": slab.metadata[\"build\"][\"termination\"]} for slab in film_slabs ], repetitions=[3, 3, 1], rotation=\"-90x\")\n",
    "visualize([{\"material\":slab, \"title\": slab.metadata[\"build\"][\"termination\"]} for slab in substrate_slabs ], repetitions=[3, 3, 1], rotation=\"-90x\")  "
   ],
   "metadata": {
    "collapsed": false
   },
   "execution_count": null
  },
  {
   "cell_type": "markdown",
   "source": [
    "### 2.4. Print terminations for the interface"
   ],
   "metadata": {
    "collapsed": false
   }
  },
  {
   "cell_type": "code",
   "outputs": [],
   "source": [
    "from itertools import product\n",
    "\n",
    "termination_pairs = list(product(film_slab_terminations, substrate_slab_terminations))    \n",
    "print(\"Termination Pairs (Film, Substrate)\")\n",
    "for idx, termination_pair in enumerate(termination_pairs):\n",
    "    print(f\"    {idx}: {termination_pair}\")\n",
    "    "
   ],
   "metadata": {
    "collapsed": false
   },
   "execution_count": null
  },
  {
   "cell_type": "markdown",
   "source": [
    "### 2.5. Select termination pair for the interface"
   ],
   "metadata": {
    "collapsed": false
   }
  },
  {
   "cell_type": "code",
   "outputs": [],
   "source": [
    "from utils.io import ui_prompt_select_array_element_by_index, ui_prompt_select_array_element_by_index_pyodide\n",
    "\n",
    "termination_pair_index = TERMINATION_PAIR_INDEX\n",
    "\n",
    "termination_pair = termination_pairs[termination_pair_index]\n",
    "if IS_TERMINATIONS_SELECTION_INTERACTIVE:\n",
    "    if sys.platform == \"emscripten\":\n",
    "        termination_pair = await ui_prompt_select_array_element_by_index_pyodide(termination_pairs, element_name=\"film/substrate termination pair\")\n",
    "    else:\n",
    "        termination_pair = ui_prompt_select_array_element_by_index(termination_pairs, element_name=\"film/substrate termination pair\")"
   ],
   "metadata": {
    "collapsed": false
   },
   "execution_count": null
  },
  {
   "cell_type": "markdown",
   "metadata": {},
   "source": [
    "## 3. Create an interface\n",
    "### 3.1. Initialize the Interface Configuration\n",
    "We use no strain matching for the interface construction. Substrate slab cell is used as a base and the film slab is placed on top of it with the specified distance."
   ]
  },
  {
   "cell_type": "code",
   "execution_count": null,
   "metadata": {},
   "outputs": [],
   "source": [
    "from mat3ra.made.tools.build.interface import InterfaceConfiguration, create_interface\n",
    "\n",
    "film_termination, substrate_termination = termination_pair\n",
    "interface_configuration = InterfaceConfiguration(\n",
    "    film_configuration=film_slab_configuration,\n",
    "    substrate_configuration=substrate_slab_configuration,\n",
    "    film_termination=film_termination,\n",
    "    substrate_termination=substrate_termination,\n",
    "    interface_distance=INTERFACE_DISTANCE, # in Angstrom\n",
    "    interface_vacuum=INTERFACE_VACUUM # in Angstrom\n",
    ")\n",
    "\n",
    "interface = create_interface(interface_configuration)"
   ]
  },
  {
   "cell_type": "markdown",
   "source": [
    "### 3.2. Scale the film slab to match the substrate lattice (optional)"
   ],
   "metadata": {
    "collapsed": false
   }
  },
  {
   "cell_type": "code",
   "outputs": [],
   "source": [
    "from mat3ra.made.tools.build.interface import SimpleInterfaceBuilder, SimpleInterfaceBuilderParameters\n",
    "if ENABLE_FILM_SCALING:\n",
    "    builder = SimpleInterfaceBuilder(build_parameters=SimpleInterfaceBuilderParameters(scale_film=True))\n",
    "    interface = builder.get_material(configuration=interface_configuration)"
   ],
   "metadata": {
    "collapsed": false
   },
   "execution_count": null
  },
  {
   "cell_type": "markdown",
   "source": [
    "## 4. Preview the selected material"
   ],
   "metadata": {
    "collapsed": false
   }
  },
  {
   "cell_type": "code",
   "outputs": [],
   "source": [
    "visualize([interface], repetitions=[3, 3, 1])\n",
    "visualize([interface], repetitions=[3, 3, 1], rotation=\"-90x\")"
   ],
   "metadata": {
    "collapsed": false
   },
   "execution_count": null
  },
  {
   "cell_type": "markdown",
   "metadata": {},
   "source": [
    "## 5. Pass data to the outside runtime"
   ]
  },
  {
   "cell_type": "code",
   "execution_count": null,
   "metadata": {},
   "outputs": [],
   "source": [
    "from utils.jupyterlite import set_materials\n",
    "set_materials(interface)"
   ]
  }
 ],
 "metadata": {
  "kernelspec": {
   "display_name": ".venv",
   "language": "python",
   "name": "python3"
  },
  "language_info": {
   "codemirror_mode": {
    "name": "ipython",
    "version": 3
   },
   "file_extension": ".py",
   "mimetype": "text/x-python",
   "name": "python",
   "nbconvert_exporter": "python",
   "pygments_lexer": "ipython3",
   "version": "3.10.12"
  },
  "widgets": {
   "application/vnd.jupyter.widget-state+json": {
    "state": {},
    "version_major": 2,
    "version_minor": 0
   }
  }
 },
 "nbformat": 4,
 "nbformat_minor": 4
}
