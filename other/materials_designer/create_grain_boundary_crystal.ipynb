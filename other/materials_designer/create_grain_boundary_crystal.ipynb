{
 "cells": [
  {
   "cell_type": "markdown",
   "source": [],
   "metadata": {
    "collapsed": false
   },
   "id": "ba979b741d79bad2"
  },
  {
   "cell_type": "markdown",
   "source": [
    "# Create a Grain Boundary with Strain Matching\n",
    "\n",
    "Create a grain boundary between two crystallographic orientations of the same material using strain matching algorithm to minimize interfacial strain.\n",
    "\n",
    "<h2 style=\"color:green\">Usage</h2>\n",
    "\n",
    "1. Make sure to select Input Material (in the outer runtime) before running the notebook.\n",
    "2. Set notebook parameters in cell 1.1 below (or use the default values).\n",
    "3. Set slab parameters for both phases in cell 2.1 (or use default).\n",
    "4. Set grain boundary parameters in cell 3.1 (or use default).\n",
    "5. Click \"Run\" > \"Run All\" to run all cells.\n",
    "6. Wait for the run to complete (depending on the parameters can take a few minutes).\n",
    "7. Scroll down to view results.\n",
    "\n",
    "## Summary\n",
    "1. Prepare the Environment: Set up the notebook and install packages, preview the input material\n",
    "2. Create slabs for both phases and select the terminations\n",
    "3. Generate grain boundaries with strain matcher and plot strain vs number of atoms\n",
    "4. Select the grain boundary with the desired strain and visualize it\n",
    "\n",
    "## Notes\n",
    "1. We perform strain matching on the slabs to extract the supercell dimensions.\n",
    "2. When the strain matching is finished, the grain boundary with the lowest strain (and reasonable number of atoms) is selected.\n",
    "3. For more information about grain boundaries, see the Introduction notebook.\n"
   ],
   "metadata": {
    "collapsed": false
   },
   "id": "64cac14fa1273938"
  },
  {
   "cell_type": "markdown",
   "source": [
    "## 1. Prepare the Environment\n",
    "### 1.1. Set up the notebook \n",
    "\n",
    "Set the following flags to control the notebook behavior "
   ],
   "metadata": {
    "collapsed": false
   },
   "id": "31ef78017669ea95"
  },
  {
   "cell_type": "code",
   "outputs": [],
   "source": [
    "# Enable interactive selection of terminations via UI prompt\n",
    "IS_TERMINATIONS_SELECTION_INTERACTIVE = False \n",
    "\n",
    "# Parameters for Phase 1\n",
    "PHASE_1_MILLER_INDICES = (1, 1, 1)\n",
    "PHASE_1_THICKNESS = 6  # in atomic layers\n",
    "PHASE_1_USE_ORTHOGONAL_Z = True\n",
    "\n",
    "# Parameters for Phase 2\n",
    "PHASE_2_MILLER_INDICES = (0, 0, 1)\n",
    "PHASE_2_THICKNESS = 4  # in atomic layers\n",
    "PHASE_2_USE_ORTHOGONAL_Z = True\n",
    "\n",
    "INTERPHASE_GAP = 2.0  # in Angstrom\n",
    "\n",
    "# Maximum area for the superlattice search algorithm\n",
    "MAX_AREA = 100  # in Angstrom^2\n",
    "\n",
    "# Parameters for the final material\n",
    "SLAB_MILLER_INDICES = (0,0,1)\n",
    "SLAB_THICKNESS = 4 # in atomic layers\n",
    "SLAB_XY_SUPERCELL_MATRIX = [[1, 0], [0, 1]]\n",
    "SLAB_VACUUM = 20.0  # in Angstrom\n",
    "\n",
    "# Set the termination pair indices\n",
    "TERMINATION_PAIR_INDEX = 0  # Will be overridden if interactive selection is used"
   ],
   "metadata": {
    "collapsed": false
   },
   "id": "38eac66e44951f88",
   "execution_count": null
  },
  {
   "cell_type": "markdown",
   "source": [
    "### 1.2. Install Packages\n",
    "The step executes only in Pyodide environment. For other environments, the packages should be installed via `pip install`."
   ],
   "metadata": {
    "collapsed": false
   },
   "id": "63f9747e4a43c49d"
  },
  {
   "cell_type": "code",
   "outputs": [],
   "source": [
    "import sys\n",
    "\n",
    "if sys.platform == \"emscripten\":\n",
    "    import micropip\n",
    "  \n",
    "    await micropip.install('mat3ra-api-examples', deps=False)\n",
    "    from utils.jupyterlite import install_packages\n",
    "    await install_packages(\"create_grain_boundary.ipynb\")\n"
   ],
   "metadata": {
    "collapsed": false
   },
   "id": "26c1a6af762eda56",
   "execution_count": null
  },
  {
   "cell_type": "markdown",
   "source": [
    "### 1.3. Get input material"
   ],
   "metadata": {
    "collapsed": false
   },
   "id": "1e2caebbe15a0e06"
  },
  {
   "cell_type": "code",
   "outputs": [],
   "source": [
    "from utils.jupyterlite import get_materials\n",
    "\n",
    "materials = get_materials(globals())\n",
    "material = materials[0]"
   ],
   "metadata": {
    "collapsed": false
   },
   "id": "c269a9fe44c400be",
   "execution_count": null
  },
  {
   "cell_type": "markdown",
   "source": [
    "### 1.4. Preview Material"
   ],
   "metadata": {
    "collapsed": false
   },
   "id": "91b2b7a5a2996487"
  },
  {
   "cell_type": "code",
   "outputs": [],
   "source": [
    "from utils.visualize import visualize_materials as visualize\n",
    "visualize([material], repetitions=[3, 3, 1], rotation=\"0x\")"
   ],
   "metadata": {
    "collapsed": false
   },
   "id": "4fb3d10f24145759",
   "execution_count": null
  },
  {
   "cell_type": "markdown",
   "source": [
    "## 2. Configure slabs and select termination pair\n",
    "\n",
    "### 2.1. Create Phase 1 and Phase 2 Slabs\n",
    "Slab Configuration lets define the slab thickness, vacuum, and the Miller indices of the interfacial plane and get the slabs with possible terminations."
   ],
   "metadata": {
    "collapsed": false
   },
   "id": "ed7b0a774220a297"
  },
  {
   "cell_type": "code",
   "outputs": [],
   "source": [
    "from mat3ra.made.tools.build.slab import SlabConfiguration, get_terminations, create_slab\n",
    "\n",
    "phase_1_configuration = SlabConfiguration(\n",
    "    bulk=material,\n",
    "    miller_indices=PHASE_1_MILLER_INDICES,\n",
    "    thickness=PHASE_1_THICKNESS,\n",
    "    use_orthogonal_z=PHASE_1_USE_ORTHOGONAL_Z\n",
    ")\n",
    "\n",
    "phase_2_configuration = SlabConfiguration(\n",
    "    bulk=material,\n",
    "    miller_indices=PHASE_2_MILLER_INDICES,\n",
    "    thickness=PHASE_2_THICKNESS,\n",
    "    use_orthogonal_z=PHASE_2_USE_ORTHOGONAL_Z\n",
    ")"
   ],
   "metadata": {
    "collapsed": false
   },
   "id": "70ce21f35a487b63",
   "execution_count": null
  },
  {
   "cell_type": "markdown",
   "source": [
    "### 2.2. Get possible terminations for the slabs"
   ],
   "metadata": {
    "collapsed": false
   },
   "id": "b8d50734bdf9ace5"
  },
  {
   "cell_type": "code",
   "outputs": [],
   "source": [
    "phase_1_terminations = get_terminations(phase_1_configuration)\n",
    "phase_2_terminations = get_terminations(phase_2_configuration)"
   ],
   "metadata": {
    "collapsed": false
   },
   "id": "af9c0e6d4daebe86",
   "execution_count": null
  },
  {
   "cell_type": "markdown",
   "source": [
    "### 2.3. Visualize slabs for all possible terminations"
   ],
   "metadata": {
    "collapsed": false
   },
   "id": "d233c1437eb21960"
  },
  {
   "cell_type": "code",
   "outputs": [],
   "source": [
    "phase_1_slabs = [create_slab(phase_1_configuration, termination) for termination in phase_1_terminations]\n",
    "phase_2_slabs = [create_slab(phase_2_configuration, termination) for termination in phase_2_terminations]\n",
    "\n",
    "visualize([{\"material\":slab, \"title\": slab.metadata[\"build\"][\"termination\"]} for slab in phase_1_slabs], repetitions=[3, 3, 1], rotation=\"-90x\")\n",
    "visualize([{\"material\":slab, \"title\": slab.metadata[\"build\"][\"termination\"]} for slab in phase_2_slabs], repetitions=[3, 3, 1], rotation=\"-90x\")"
   ],
   "metadata": {
    "collapsed": false
   },
   "id": "cd8e53c68e1c7569",
   "execution_count": null
  },
  {
   "cell_type": "markdown",
   "source": [
    "### 2.4. Print terminations for the grain boundary"
   ],
   "metadata": {
    "collapsed": false
   },
   "id": "c0ea66b533438153"
  },
  {
   "cell_type": "code",
   "outputs": [],
   "source": [
    "from itertools import product\n",
    "\n",
    "termination_pairs = list(product(phase_1_terminations, phase_2_terminations))    \n",
    "print(\"Termination Pairs (Phase 1, Phase 2)\")\n",
    "for idx, termination_pair in enumerate(termination_pairs):\n",
    "    print(f\"    {idx}: {termination_pair}\")"
   ],
   "metadata": {
    "collapsed": false
   },
   "id": "317faa88e021deea",
   "execution_count": null
  },
  {
   "cell_type": "markdown",
   "source": [
    "### 2.5. Select termination pair for the grain boundary"
   ],
   "metadata": {
    "collapsed": false
   },
   "id": "5fd99a07e51380b0"
  },
  {
   "cell_type": "code",
   "outputs": [],
   "source": [
    "from utils.io import ui_prompt_select_array_element_by_index, ui_prompt_select_array_element_by_index_pyodide\n",
    "\n",
    "termination_pair_index = TERMINATION_PAIR_INDEX\n",
    "\n",
    "termination_pair = termination_pairs[termination_pair_index]\n",
    "if IS_TERMINATIONS_SELECTION_INTERACTIVE:\n",
    "    if sys.platform == \"emscripten\":\n",
    "        termination_pair = await ui_prompt_select_array_element_by_index_pyodide(termination_pairs, element_name=\"phase 1/phase 2 termination pair\")\n",
    "    else:\n",
    "        termination_pair = ui_prompt_select_array_element_by_index(termination_pairs, element_name=\"phase 1/phase 2 termination pair\")"
   ],
   "metadata": {
    "collapsed": false
   },
   "id": "f7c932fb0e2b5086",
   "execution_count": null
  },
  {
   "cell_type": "markdown",
   "source": [
    "## 3. Create grain boundary\n",
    "\n",
    "### 3.1. Initialize the Grain Boundary Configuration"
   ],
   "metadata": {
    "collapsed": false
   },
   "id": "20186205803e07d9"
  },
  {
   "cell_type": "code",
   "outputs": [],
   "source": [
    "from mat3ra.made.tools.build.grain_boundary import SlabGrainBoundaryConfiguration\n",
    "\n",
    "phase_1_termination, phase_2_termination = termination_pair\n",
    "\n",
    "# Create a slab configuration for the final grain boundary structure\n",
    "slab_configuration = SlabConfiguration(\n",
    "    bulk=material,\n",
    "    miller_indices=SLAB_MILLER_INDICES,\n",
    "    thickness=SLAB_THICKNESS,\n",
    "    vacuum=SLAB_VACUUM,\n",
    ")\n",
    "\n",
    "grain_boundary_configuration = SlabGrainBoundaryConfiguration(\n",
    "    phase_1_configuration=phase_1_configuration,\n",
    "    phase_2_configuration=phase_2_configuration,\n",
    "    phase_1_termination=phase_1_termination,\n",
    "    phase_2_termination=phase_2_termination,\n",
    "    gap=INTERPHASE_GAP,\n",
    "    slab_configuration=slab_configuration\n",
    ")"
   ],
   "metadata": {
    "collapsed": false
   },
   "id": "e9977c17f97f0035",
   "execution_count": null
  },
  {
   "cell_type": "markdown",
   "source": [
    "### 3.2. Set Strain Matching Algorithm Parameters"
   ],
   "metadata": {
    "collapsed": false
   },
   "id": "8d647c5ed5401b55"
  },
  {
   "cell_type": "code",
   "outputs": [],
   "source": [
    "from mat3ra.made.tools.build.interface import ZSLStrainMatchingParameters\n",
    "from mat3ra.made.tools.build.grain_boundary.builders import SlabGrainBoundaryBuilderParameters\n",
    "\n",
    "zsl_strain_matching_parameters = ZSLStrainMatchingParameters(\n",
    "    max_area=MAX_AREA\n",
    ")\n",
    "\n",
    "builder_parameters = SlabGrainBoundaryBuilderParameters(\n",
    "    strain_matching_parameters=zsl_strain_matching_parameters\n",
    ")\n"
   ],
   "metadata": {
    "collapsed": false
   },
   "id": "f1eb5313cda0d05b",
   "execution_count": null
  },
  {
   "cell_type": "markdown",
   "source": [
    "### 3.3. Generate grain boundary with strain matcher"
   ],
   "metadata": {
    "collapsed": false
   },
   "id": "48ba06b5baf7d0b5"
  },
  {
   "cell_type": "code",
   "outputs": [],
   "source": [
    "from mat3ra.made.tools.build.grain_boundary import SlabGrainBoundaryBuilder\n",
    "\n",
    "grain_boundary_builder = SlabGrainBoundaryBuilder(build_parameters=builder_parameters)\n",
    "grain_boundary = grain_boundary_builder.get_material(configuration=grain_boundary_configuration)"
   ],
   "metadata": {
    "collapsed": false
   },
   "id": "ec2864bde87580b7",
   "execution_count": null
  },
  {
   "cell_type": "markdown",
   "source": [
    "## 4. Preview the grain boundary"
   ],
   "metadata": {
    "collapsed": false
   },
   "id": "aa55348911eb6679"
  },
  {
   "cell_type": "code",
   "outputs": [],
   "source": [
    "visualize([grain_boundary], repetitions=[1, 1, 1])\n",
    "visualize([grain_boundary], repetitions=[1, 1, 1], rotation=\"-90x\")"
   ],
   "metadata": {
    "collapsed": false
   },
   "id": "abd081a986bdca0",
   "execution_count": null
  },
  {
   "cell_type": "markdown",
   "source": [
    "## 5. Pass data to the outside runtime"
   ],
   "metadata": {
    "collapsed": false
   },
   "id": "bde2ea26c96543f5"
  },
  {
   "cell_type": "code",
   "outputs": [],
   "source": [
    "from utils.jupyterlite import set_materials\n",
    "set_materials(grain_boundary)"
   ],
   "metadata": {
    "collapsed": false
   },
   "id": "76469e88bd21a25d",
   "execution_count": null
  }
 ],
 "metadata": {
  "kernelspec": {
   "display_name": "Python 3",
   "language": "python",
   "name": "python3"
  },
  "language_info": {
   "codemirror_mode": {
    "name": "ipython",
    "version": 2
   },
   "file_extension": ".py",
   "mimetype": "text/x-python",
   "name": "python",
   "nbconvert_exporter": "python",
   "pygments_lexer": "ipython2",
   "version": "2.7.6"
  }
 },
 "nbformat": 4,
 "nbformat_minor": 5
}
