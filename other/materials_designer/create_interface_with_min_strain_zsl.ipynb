{
 "cells": [
  {
   "cell_type": "markdown",
   "metadata": {},
   "source": [
    "# Create an interface with strain matching\n",
    "\n",
    "Use Zur and McGill superlattices matching [algorithm](https://doi.org/10.1063/1.3330840) to select an interface between two materials with minimal strain.\n",
    "\n",
    "<h2 style=\"color:green\">Usage</h2>\n",
    "\n",
    "1. Make sure to select Input Materials (in the outer runtime) before running the notebook.\n",
    "1. Set notebook parameters in cell 1.1. below (or use the default values).\n",
    "1. Set slab parameters for the substrate and film in cell 2.1. (or use default).\n",
    "1. Set interface parameters in cell 3.1. (or use default).\n",
    "1. Click “Run” > “Run All” to run all cells. \n",
    "1. Wait for the run to complete (depending on the parameters can take a few min). \n",
    "1. Scroll down to view results. \n",
    "\n",
    "## Summary\n",
    "1. Prepare the Environment: Set up the notebook and install packages, preview the input materials\n",
    "1. Create substrate and film slabs and select the terminations\n",
    "1. Generate interfaces with strain matcher and plot strain vs number of atoms \n",
    "1. Select the interface with the desired strain and visualize it\n",
    "\n",
    "## Notes\n",
    "1. We perform strain matching on the slabs to extract the supercell dimensions. The algorithm has a set of parameters, such as the maximum area considered.\n",
    "1. When the strain matching is finished, the interface with the lowest strain (and the smallest number of atoms) is selected. \n",
    "1. ZSL strain matching is performed using Pymatgen [implementation](https://pymatgen.org/pymatgen.analysis.interfaces.html#pymatgen.analysis.interfaces.zsl).\n",
    "1. For more information, see [Introduction](Introduction.ipynb)\n",
    "<!-- # TODO: use a hashtag-based anchor link to interface creation documention above -->\n"
   ]
  },
  {
   "cell_type": "markdown",
   "metadata": {},
   "source": [
    "## 1. Prepare the Environment\n",
    "### 1.1. Set up the notebook \n",
    "\n",
    "Set the following flags to control the notebook behavior "
   ]
  },
  {
   "cell_type": "code",
   "execution_count": null,
   "metadata": {},
   "outputs": [],
   "source": [
    "FILM_INDEX = 1  # Index in the list of materials, to access as materials[FILM_INDEX]\n",
    "FILM_MILLER_INDICES = (0, 0, 1)\n",
    "FILM_THICKNESS = 1  # in atomic layers\n",
    "FILM_TERMINATION_FORMULA = None  # if None, the first termination will be used\n",
    "FILM_VACUUM = 0.0  # in angstroms\n",
    "FILM_XY_SUPERCELL_MATRIX = [[1, 0], [0, 1]]\n",
    "FILM_USE_ORTHOGONAL_C = True\n",
    "\n",
    "SUBSTRATE_INDEX = 0\n",
    "SUBSTRATE_MILLER_INDICES = (0, 0, 1)\n",
    "SUBSTRATE_THICKNESS = 3  # in atomic layers\n",
    "SUBSTRATE_TERMINATION_FORMULA = None  # if None, the first termination will be used\n",
    "SUBSTRATE_VACUUM = 0.0  # in angstroms\n",
    "SUBSTRATE_XY_SUPERCELL_MATRIX = [[1, 0], [0, 1]]\n",
    "SUBSTRATE_USE_ORTHOGONAL_C = True\n",
    "\n",
    "INTERFACE_DISTANCE = 3.0  # Gap between substrate and film, in Angstrom\n",
    "INTERFACE_VACUUM = 10.0  # Vacuum over film, in Angstrom\n",
    "\n",
    "# Whether to convert materials to conventional cells before creating slabs.\n",
    "# To create interfaces with smaller cells, set this flag to False. (and pass already conventional cells as input)\n",
    "USE_CONVENTIONAL_CELL = True\n",
    "\n",
    "# Maximum area for the superlattice search algorithm (the final interface area will be smaller)\n",
    "MAX_AREA = 150  # in Angstrom^2\n",
    "# Additional fine-tuning parameters (increase values to get more strained matches):\n",
    "MAX_AREA_TOLERANCE = 0.09  # in Angstrom^2\n",
    "MAX_LENGTH_TOLERANCE = 0.05\n",
    "MAX_ANGLE_TOLERANCE = 0.02\n",
    "\n",
    "# Whether to reduce the resulting interface cell to the primitive cell after the interface creation.\n",
    "# If the reduction causes unexpected results, try increasing the `MAX_AREA` for search.\n",
    "REDUCE_RESULT_CELL_TO_PRIMITIVE = True"
   ]
  },
  {
   "cell_type": "markdown",
   "metadata": {},
   "source": [
    "### 1.2. Install Packages\n",
    "The step executes only in Pyodide environment. For other environments, the packages should be installed via `pip install` (see [README](../../README.ipynb))."
   ]
  },
  {
   "cell_type": "code",
   "execution_count": null,
   "metadata": {},
   "outputs": [],
   "source": [
    "import sys\n",
    "\n",
    "if sys.platform == \"emscripten\":\n",
    "    import micropip\n",
    "\n",
    "    await micropip.install(\"mat3ra-api-examples\", deps=False)\n",
    "    await micropip.install('mat3ra-utils')\n",
    "    from mat3ra.utils.jupyterlite.packages import install_packages\n",
    "\n",
    "    await install_packages(\"create_interface_with_min_strain_zsl.ipynb\")"
   ]
  },
  {
   "cell_type": "markdown",
   "metadata": {},
   "source": [
    "### 1.3. Get input materials and assign `substrate` and `film`\n",
    "Materials are loaded with `get_data()`. The first material is assigned as substrate and the second as film."
   ]
  },
  {
   "cell_type": "code",
   "execution_count": null,
   "metadata": {},
   "outputs": [],
   "source": [
    "from utils.jupyterlite import get_materials\n",
    "\n",
    "materials = get_materials(globals())\n",
    "substrate = materials[SUBSTRATE_INDEX]\n",
    "try:\n",
    "    film = materials[FILM_INDEX]\n",
    "except IndexError:\n",
    "    print(\"Film material not found. Re-using substrate material as film.\")\n",
    "    film = substrate"
   ]
  },
  {
   "cell_type": "markdown",
   "metadata": {},
   "source": [
    "### 1.4. Preview Substrate and Film"
   ]
  },
  {
   "cell_type": "code",
   "execution_count": null,
   "metadata": {},
   "outputs": [],
   "source": [
    "from utils.visualize import visualize_materials as visualize\n",
    "\n",
    "visualize([substrate, film], repetitions=[3, 3, 1], rotation=\"0x\")"
   ]
  },
  {
   "cell_type": "markdown",
   "metadata": {},
   "source": [
    "## 2. Configure slabs for interface\n"
   ]
  },
  {
   "cell_type": "markdown",
   "metadata": {},
   "source": [
    "### 2.1. Get possible terminations for the slabs"
   ]
  },
  {
   "cell_type": "code",
   "execution_count": null,
   "metadata": {},
   "outputs": [],
   "source": [
    "from mat3ra.made.tools.helpers import get_slab_terminations\n",
    "\n",
    "film_slab_terminations = get_slab_terminations(material=film, miller_indices=FILM_MILLER_INDICES)\n",
    "substrate_slab_terminations = get_slab_terminations(material=substrate, miller_indices=SUBSTRATE_MILLER_INDICES)\n",
    "print(\"Film slab terminations:\", film_slab_terminations)\n",
    "print(\"Substrate slab terminations:\", substrate_slab_terminations)"
   ]
  },
  {
   "cell_type": "markdown",
   "metadata": {},
   "source": [
    "### 2.2. Visualize slabs for all possible terminations"
   ]
  },
  {
   "cell_type": "code",
   "execution_count": null,
   "metadata": {},
   "outputs": [],
   "source": [
    "from mat3ra.made.tools.helpers import create_slab, select_slab_termination\n",
    "from mat3ra.made.tools.helpers import create_interface_zsl_between_slabs as create_zsl_interface_between_slabs\n",
    "\n",
    "film_slabs = [create_slab(film, miller_indices=FILM_MILLER_INDICES, termination_top=termination, vacuum=0) for\n",
    "              termination\n",
    "              in\n",
    "              film_slab_terminations]\n",
    "\n",
    "substrate_slabs = [\n",
    "    create_slab(substrate, miller_indices=SUBSTRATE_MILLER_INDICES, termination_top=termination, vacuum=0)\n",
    "    for termination in\n",
    "    substrate_slab_terminations]\n",
    "\n",
    "film_slabs_with_titles = [{\"material\": slab, \"title\": str(termination)} for slab, termination in\n",
    "                          zip(film_slabs, film_slab_terminations)]\n",
    "substrate_slabs_with_titles = [{\"material\": slab, \"title\": str(termination)} for slab, termination in\n",
    "                               zip(substrate_slabs, substrate_slab_terminations)]\n",
    "\n",
    "visualize(film_slabs_with_titles, repetitions=[3, 3, 1], rotation=\"-90x\")\n",
    "visualize(substrate_slabs_with_titles, repetitions=[3, 3, 1], rotation=\"-90x\")"
   ]
  },
  {
   "cell_type": "markdown",
   "metadata": {},
   "source": [
    "### 2.3. Select terminations for the Slabs"
   ]
  },
  {
   "cell_type": "code",
   "execution_count": null,
   "metadata": {},
   "outputs": [],
   "source": [
    "film_termination = select_slab_termination(film_slab_terminations, FILM_TERMINATION_FORMULA)\n",
    "substrate_termination = select_slab_termination(substrate_slab_terminations, SUBSTRATE_TERMINATION_FORMULA)"
   ]
  },
  {
   "cell_type": "markdown",
   "metadata": {},
   "source": [
    "### 2.4. Create Substrate and Layer Slabs\n",
    "Slab Configuration lets define the slab thickness, vacuum, and the Miller indices of the interfacial plane and get the slabs with possible terminations.\n",
    "Define the substrate slab cell that will be used as a base for the interface and the film slab cell that will be placed on top of the substrate slab."
   ]
  },
  {
   "cell_type": "code",
   "execution_count": null,
   "metadata": {},
   "outputs": [],
   "source": [
    "from mat3ra.made.tools.build.pristine_structures.two_dimensional.slab import SlabConfiguration, SlabBuilder\n",
    "\n",
    "substrate_slab_config = SlabConfiguration.from_parameters(\n",
    "    material_or_dict=substrate,\n",
    "    miller_indices=SUBSTRATE_MILLER_INDICES,\n",
    "    number_of_layers=SUBSTRATE_THICKNESS,\n",
    "    vacuum=0.0,\n",
    "    termination_top_formula=SUBSTRATE_TERMINATION_FORMULA,\n",
    "    use_conventional_cell=USE_CONVENTIONAL_CELL\n",
    ")\n",
    "\n",
    "film_slab_config = SlabConfiguration.from_parameters(\n",
    "    material_or_dict=film,\n",
    "    miller_indices=FILM_MILLER_INDICES,\n",
    "    number_of_layers=FILM_THICKNESS,\n",
    "    vacuum=0.0,\n",
    "    termination_bottom_formula=FILM_TERMINATION_FORMULA,\n",
    "    use_conventional_cell=USE_CONVENTIONAL_CELL\n",
    ")\n",
    "\n",
    "substrate_slab = SlabBuilder().get_material(substrate_slab_config)\n",
    "film_slab = SlabBuilder().get_material(film_slab_config)"
   ]
  },
  {
   "cell_type": "markdown",
   "metadata": {},
   "source": [
    "### 3.2. Analyze possible interfaces with ZSL Analyzer\n",
    "The search algorithm for supercells matching can be tuned by setting its parameters directly, otherwise the default values are used."
   ]
  },
  {
   "cell_type": "code",
   "execution_count": null,
   "metadata": {},
   "outputs": [],
   "source": [
    "from mat3ra.made.tools.analyze.interface import ZSLInterfaceAnalyzer\n",
    "\n",
    "zsl_analyzer = ZSLInterfaceAnalyzer(\n",
    "    substrate_slab_configuration=substrate_slab_config,\n",
    "    film_slab_configuration=film_slab_config,\n",
    "    max_area=MAX_AREA,\n",
    "    max_area_ratio_tol=MAX_AREA_TOLERANCE,\n",
    "    max_length_tol=MAX_LENGTH_TOLERANCE,\n",
    "    max_angle_tol=MAX_ANGLE_TOLERANCE,\n",
    "    reduce_result_cell=False  # Reduces supercell matrices in analyzer\n",
    ")"
   ]
  },
  {
   "cell_type": "markdown",
   "metadata": {},
   "source": [
    "### 3.3. Generate interfaces with strain matcher\n",
    "Interfaces are sorted by size and strain."
   ]
  },
  {
   "cell_type": "code",
   "execution_count": null,
   "metadata": {},
   "outputs": [],
   "source": [
    "matches = zsl_analyzer.zsl_match_holders"
   ]
  },
  {
   "cell_type": "markdown",
   "metadata": {},
   "source": [
    "### 3.4. Plot interfaces by size and strain\n"
   ]
  },
  {
   "cell_type": "code",
   "execution_count": null,
   "metadata": {},
   "outputs": [],
   "source": [
    "from utils.plot import plot_strain_vs_area\n",
    "\n",
    "PLOT_SETTINGS = {\n",
    "    \"HEIGHT\": 600,\n",
    "    \"X_SCALE\": \"log\",  # or linear\n",
    "    \"Y_SCALE\": \"log\",  # or linear\n",
    "}\n",
    "\n",
    "plot_strain_vs_area(matches, PLOT_SETTINGS)"
   ]
  },
  {
   "cell_type": "markdown",
   "metadata": {},
   "source": [
    "### 3.5. Select the interface\n",
    "\n",
    "Select the index for the interface with the lowest strain and the smallest number of atoms."
   ]
  },
  {
   "cell_type": "code",
   "execution_count": null,
   "metadata": {},
   "outputs": [],
   "source": [
    "selected_index = 0"
   ]
  },
  {
   "cell_type": "markdown",
   "metadata": {},
   "source": [
    "## 3. Create the interface\n",
    "\n",
    "### 3.1. Initialize the Interface Configuration"
   ]
  },
  {
   "cell_type": "code",
   "execution_count": null,
   "metadata": {},
   "outputs": [],
   "source": [
    "\n",
    "interface = create_zsl_interface_between_slabs(\n",
    "    substrate_slab=substrate_slab,\n",
    "    film_slab=film_slab,\n",
    "    gap=INTERFACE_DISTANCE,\n",
    "    vacuum=INTERFACE_VACUUM,\n",
    "    match_id=selected_index,\n",
    "    max_area=MAX_AREA,\n",
    "    max_area_ratio_tol=MAX_AREA_TOLERANCE,\n",
    "    max_length_tol=MAX_LENGTH_TOLERANCE,\n",
    "    max_angle_tol=MAX_ANGLE_TOLERANCE,\n",
    "    reduce_result_cell_to_primitive=REDUCE_RESULT_CELL_TO_PRIMITIVE,\n",
    ")"
   ]
  },
  {
   "cell_type": "markdown",
   "metadata": {},
   "source": [
    "## 4. Preview the selected material"
   ]
  },
  {
   "cell_type": "code",
   "execution_count": null,
   "metadata": {},
   "outputs": [],
   "source": [
    "visualize(interface, repetitions=[1, 1, 1])\n",
    "visualize(interface, repetitions=[1, 1, 1], rotation=\"-90x\")"
   ]
  },
  {
   "cell_type": "markdown",
   "metadata": {},
   "source": [
    "## 5. Pass data to the outside runtime"
   ]
  },
  {
   "cell_type": "code",
   "execution_count": null,
   "metadata": {},
   "outputs": [],
   "source": [
    "from utils.jupyterlite import set_materials\n",
    "\n",
    "set_materials(interface)"
   ]
  }
 ],
 "metadata": {
  "kernelspec": {
   "display_name": ".venv",
   "language": "python",
   "name": "python3"
  },
  "language_info": {
   "codemirror_mode": {
    "name": "ipython",
    "version": 3
   },
   "file_extension": ".py",
   "mimetype": "text/x-python",
   "name": "python",
   "nbconvert_exporter": "python",
   "pygments_lexer": "ipython3",
   "version": "3.10.12"
  }
 },
 "nbformat": 4,
 "nbformat_minor": 4
}
