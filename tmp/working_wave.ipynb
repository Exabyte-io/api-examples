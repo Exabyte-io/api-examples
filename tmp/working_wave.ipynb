{
 "cells": [
  {
   "metadata": {},
   "cell_type": "code",
   "source": [
    "import json\n",
    "\n",
    "from mat3ra.standata.materials import Materials\n",
    "from mat3ra.made.material import Material\n",
    "\n",
    "material = Material(Materials.get_by_name_first_match(\"BN\"))\n",
    "material_json = json.dumps(material.to_json(), indent=2)\n",
    "material_json"
   ],
   "id": "b8fe62e8f2f079f3",
   "outputs": [],
   "execution_count": null
  },
  {
   "metadata": {},
   "cell_type": "code",
   "source": [
    "from IPython.display import display, HTML, Javascript\n",
    "\n",
    "display(\n",
    "    HTML(\n",
    "        \"\"\"\n",
    "<!DOCTYPE html>\n",
    "<html>\n",
    "<head>\n",
    "    <title>Home</title>\n",
    "\n",
    "</head>\n",
    "<body>\n",
    "    <h1>Home</h1>\n",
    "    <p>Home page</p>\n",
    "    <div id=\"root\" style=\"width:600px; height:600px; border:1px solid #ccc;\"></div>\n",
    "</body>\n",
    "</html>\n",
    "\"\"\"\n",
    "    )\n",
    ")\n",
    "\n",
    "display(\n",
    "    Javascript(\n",
    "        f\"\"\"\n",
    "const materialConfig={material_json};\n",
    "\"\"\"\n",
    "        + \"\"\"\n",
    "const container = document.getElementById('root');\n",
    "// only if it's not present\n",
    "var script = document.createElement('script');\n",
    "script.type=\"module\";\n",
    "script.src = \"https://exabyte-io.github.io/wave.js/main.js\";\n",
    "script.onload = () => {\n",
    "                if (window.renderThreeDEditor) {\n",
    "                    window.renderThreeDEditor(materialConfig, container);\n",
    "\n",
    "                }\n",
    "            };\n",
    "document.head.appendChild(script);\n",
    "\n",
    "var cssLink = document.createElement(\"link\");\n",
    "    cssLink.rel = \"stylesheet\";\n",
    "   cssLink.href = \"https://exabyte-io.github.io/wave.js/main.css\";\n",
    "    document.head.appendChild(cssLink);\n",
    "\"\"\"\n",
    "    )\n",
    ")"
   ],
   "id": "ec7ac78eff022b57",
   "outputs": [],
   "execution_count": null
  },
  {
   "metadata": {},
   "cell_type": "code",
   "source": "",
   "id": "3364731196f7a02f",
   "outputs": [],
   "execution_count": null
  }
 ],
 "metadata": {
  "kernelspec": {
   "display_name": "Python 3",
   "language": "python",
   "name": "python3"
  },
  "language_info": {
   "codemirror_mode": {
    "name": "ipython",
    "version": 2
   },
   "file_extension": ".py",
   "mimetype": "text/x-python",
   "name": "python",
   "nbconvert_exporter": "python",
   "pygments_lexer": "ipython2",
   "version": "2.7.6"
  }
 },
 "nbformat": 4,
 "nbformat_minor": 5
}
