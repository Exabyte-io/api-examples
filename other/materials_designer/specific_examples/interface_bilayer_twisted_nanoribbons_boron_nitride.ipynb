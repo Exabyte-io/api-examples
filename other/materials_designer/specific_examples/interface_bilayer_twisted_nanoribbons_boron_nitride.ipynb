{
 "cells": [
  {
   "cell_type": "markdown",
   "source": [
    "# Twisted bilayer Boron Nitride (TBBN).\n",
    "\n",
    "## 0. Introduction\n",
    "\n",
    "This tutorial demonstrates the process of creating a twisted bilayer boron nitride structure as described in:\n",
    "\n",
    "> **Lede Xian, Dante M. Kennes, Nicolas Tancogne-Dejean, Massimo Altarelli, and Angel Rubio**,\n",
    "> \"Multiflat Bands and Strong Correlations in Twisted Bilayer Boron Nitride: Doping-Induced Correlated Insulator and Superconductor\"\n",
    "> Phys. Rev. Lett. 125, 086402 – Published 20 August 2020\n",
    "> [DOI: 10.1021/acs.nanolett.9b00986](https://pubs.acs.org/doi/10.1021/acs.nanolett.9b00986)\n",
    "\n",
    "We will reproduce the structure shown in Figure 1(a,b) of the paper, which shows a twisted bilayer hBN with specific stacking regions.\n",
    "\n",
    "Key features to reproduce:\n",
    "1. Hexagonal boron nitride bilayer structure\n",
    "2. Twisted configurations with 2 specific twist angles\n",
    "\n",
    "The image shows the twisted bilayer hBN structure with a twist angle of 2.64° (a) and 62.64° (b).\n",
    "\n",
    "<img src=\"https://i.imgur.com/BRICYRV.jpeg\" alt=\"Twisted bilayer hBN\" width=\"800\"/>"
   ],
   "metadata": {
    "collapsed": false
   },
   "id": "6b26b3bd88c951b3"
  },
  {
   "cell_type": "markdown",
   "source": [
    "## 1. Prepare the Environment\n",
    "### 1.1. Set up structure parameters\n"
   ],
   "metadata": {
    "collapsed": false
   },
   "id": "21f76cc671b0e835"
  },
  {
   "cell_type": "code",
   "outputs": [],
   "source": [
    "# Material and structure parameters\n",
    "TWIST_ANGLE_A = 2.64  # Twist angle in degrees for A material\n",
    "TWIST_ANGLE_B = 60 + 2.64  # Twist angle in degrees for B material\n",
    "\n",
    "# Nanoribbons parameters\n",
    "\n",
    "RIBBON_WIDTH = 100  # Width of the nanoribbon in Angstroms\n",
    "RIBBON_LENGTH = 100  # Length of the nanoribbon in Angstrom\n",
    "\n",
    "# Interface parameters\n",
    "INTERFACE_DISTANCE = 3.23  # Distance between layers in Angstroms\n",
    "INTERFACE_VACUUM = 20.0  # Vacuum layer thickness in Angstroms\n",
    "\n",
    "# Visualization settings\n",
    "SHOW_INTERMEDIATE_STEPS = True\n",
    "VISUALIZE_REPETITIONS = [1, 1, 1]"
   ],
   "metadata": {
    "collapsed": false
   },
   "id": "47af0a587ce80b91",
   "execution_count": null
  },
  {
   "cell_type": "markdown",
   "source": [
    "### 1.2. Install Packages\n"
   ],
   "metadata": {
    "collapsed": false
   },
   "id": "4b91848e28033a8b"
  },
  {
   "cell_type": "code",
   "outputs": [],
   "source": [
    "import sys\n",
    "\n",
    "if sys.platform == \"emscripten\":\n",
    "    import micropip\n",
    "\n",
    "    await micropip.install('mat3ra-api-examples', deps=False)\n",
    "    from utils.jupyterlite import install_packages\n",
    "\n",
    "    await install_packages(\"specific_examples\")"
   ],
   "metadata": {
    "collapsed": false
   },
   "id": "f67b53c0f60f257c",
   "execution_count": null
  },
  {
   "cell_type": "markdown",
   "source": [
    "### 1.3. Get input material\n",
    "We'll use hexagonal boron nitride (h-BN) as our starting material.\n"
   ],
   "metadata": {
    "collapsed": false
   },
   "id": "c4370f1ce85b6507"
  },
  {
   "cell_type": "code",
   "outputs": [],
   "source": [
    "from mat3ra.made.material import Material\n",
    "from mat3ra.standata.materials import Materials\n",
    "from utils.visualize import visualize_materials\n",
    "\n",
    "material = Material(Materials.get_by_name_first_match(\"BN\"))\n",
    "\n",
    "print(\"Initial material properties:\")\n",
    "print(f\"Formula: {material.formula}\")\n",
    "print(f\"Number of atoms: {len(material.basis.elements.ids)}\")\n",
    "print(f\"Lattice vectors:\\n{material.basis.cell.vectors_as_array}\")\n",
    "\n",
    "if SHOW_INTERMEDIATE_STEPS:\n",
    "    visualize_materials(material, repetitions=VISUALIZE_REPETITIONS)\n"
   ],
   "metadata": {
    "collapsed": false
   },
   "id": "f1c2ac4b7553961b",
   "execution_count": null
  },
  {
   "cell_type": "markdown",
   "source": [
    "## 2. Create Twisted Bilayer Structure\n",
    "### 2.1. Set up interface configuration and builder\n"
   ],
   "metadata": {
    "collapsed": false
   },
   "id": "26064d36be06507f"
  },
  {
   "cell_type": "code",
   "outputs": [],
   "source": [
    "from mat3ra.made.tools.build.interface.builders import NanoRibbonTwistedInterfaceBuilder\n",
    "from mat3ra.made.tools.build.interface.configuration import NanoRibbonTwistedInterfaceConfiguration\n",
    "\n",
    "config_a = NanoRibbonTwistedInterfaceConfiguration(\n",
    "    film=material,\n",
    "    substrate=material,\n",
    "    twist_angle=TWIST_ANGLE_A,\n",
    "    distance_z=INTERFACE_DISTANCE,\n",
    "    ribbon_width=RIBBON_WIDTH,\n",
    "    ribbon_length=RIBBON_LENGTH,\n",
    ")\n",
    "\n",
    "config_b = NanoRibbonTwistedInterfaceConfiguration(\n",
    "    film=material,\n",
    "    substrate=material,\n",
    "    twist_angle=TWIST_ANGLE_B,\n",
    "    distance_z=INTERFACE_DISTANCE,\n",
    "    ribbon_width=RIBBON_WIDTH,\n",
    "    ribbon_length=RIBBON_LENGTH,\n",
    ")\n",
    "\n",
    "builder = NanoRibbonTwistedInterfaceBuilder()"
   ],
   "metadata": {
    "collapsed": false
   },
   "id": "80ac5dd96d8622b7",
   "execution_count": null
  },
  {
   "cell_type": "markdown",
   "source": [
    "### 2.2. Generate and analyze interfaces\n"
   ],
   "metadata": {
    "collapsed": false
   },
   "id": "f3019591d1ab5506"
  },
  {
   "cell_type": "code",
   "outputs": [],
   "source": [
    "interface_a = builder.get_material(config_a)\n",
    "interface_b = builder.get_material(config_b)\n",
    "\n",
    "actual_angle_a = interface_a.metadata.get(\"build\").get(\"configuration\").get(\"twist_angle\")\n",
    "print(f\"Actual twist angle: {actual_angle_a}°\")\n",
    "\n",
    "actual_angle_b = interface_b.metadata.get(\"build\").get(\"configuration\").get(\"twist_angle\")\n",
    "print(f\"Actual twist angle: {actual_angle_b}°\")"
   ],
   "metadata": {
    "collapsed": false
   },
   "id": "10f0a8aac5fec58f",
   "execution_count": null
  },
  {
   "cell_type": "markdown",
   "source": [
    "### 2.3. Select and visualize the best interface\n"
   ],
   "metadata": {
    "collapsed": false
   },
   "id": "fe5b798439e5b43a"
  },
  {
   "cell_type": "code",
   "outputs": [],
   "source": [
    "visualize_materials([interface_a, interface_b], repetitions=VISUALIZE_REPETITIONS)\n",
    "visualize_materials([interface_a, interface_b], repetitions=VISUALIZE_REPETITIONS, rotation=\"-90x\")"
   ],
   "metadata": {
    "collapsed": false
   },
   "id": "c4049a69b2dcbaa1",
   "execution_count": null
  },
  {
   "cell_type": "markdown",
   "source": [
    "## 5. Download the Materials\n"
   ],
   "metadata": {
    "collapsed": false
   },
   "id": "d58a1e4ada9d1a74"
  },
  {
   "cell_type": "code",
   "outputs": [],
   "source": [
    "from utils.jupyterlite import download_content_to_file\n",
    "\n",
    "download_content_to_file(interface_a, \"twisted_bilayer_hBN_A.json\")\n",
    "download_content_to_file(interface_b, \"twisted_bilayer_hBN_B.json\")"
   ],
   "metadata": {
    "collapsed": false
   },
   "id": "a64a81bb1ab4d47d",
   "execution_count": null
  }
 ],
 "metadata": {
  "kernelspec": {
   "display_name": "Python 3",
   "language": "python",
   "name": "python3"
  },
  "language_info": {
   "codemirror_mode": {
    "name": "ipython",
    "version": 2
   },
   "file_extension": ".py",
   "mimetype": "text/x-python",
   "name": "python",
   "nbconvert_exporter": "python",
   "pygments_lexer": "ipython2",
   "version": "2.7.6"
  }
 },
 "nbformat": 4,
 "nbformat_minor": 5
}
