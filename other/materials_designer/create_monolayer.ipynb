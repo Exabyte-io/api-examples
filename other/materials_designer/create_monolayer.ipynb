{
 "cells": [
  {
   "cell_type": "markdown",
   "id": "a79609c9bc772c5c",
   "metadata": {
    "collapsed": false
   },
   "source": [
    "# Create a Monolayer\n",
    "\n",
    "Create a Monolayer of the original structure. \n",
    "\n",
    "<h2 style=\"color:green\">Usage</h2>\n",
    "\n",
    "1. Make sure to select Input Materials (in the outer runtime) before running the notebook.\n",
    "1. Set notebook parameters in cell 1.1. below (or use the default values).\n",
    "1. Click “Run” > “Run All” to run all cells. \n",
    "1. Scroll down to view results. "
   ]
  },
  {
   "cell_type": "markdown",
   "id": "47d31d9834478007",
   "metadata": {
    "collapsed": false
   },
   "source": [
    "## 1. Prepare the Environment\n",
    "### 1.1. Set up transformation parameters "
   ]
  },
  {
   "cell_type": "code",
   "execution_count": null,
   "id": "a2c8922a4e627887",
   "metadata": {
    "collapsed": false
   },
   "outputs": [],
   "source": [
    "XY_SUPERCELL_MATRIX = [\n",
    "    [3, 0],\n",
    "    [0, 3],\n",
    "]\n",
    "\n",
    "VACUUM = 10.0  # Angstrom"
   ]
  },
  {
   "cell_type": "markdown",
   "id": "6fab076ea1d7a223",
   "metadata": {
    "collapsed": false
   },
   "source": [
    "### 1.2. Install Packages\n",
    "The step executes only in Pyodide environment. For other environments, the packages should be installed via `pip install` (see [README](../../README.ipynb))."
   ]
  },
  {
   "cell_type": "code",
   "execution_count": null,
   "id": "b0c332f1c1f451fd",
   "metadata": {
    "collapsed": false
   },
   "outputs": [],
   "source": [
    "import sys\n",
    "\n",
    "if sys.platform == \"emscripten\":\n",
    "    import micropip\n",
    "\n",
    "    await micropip.install(\"https://exabyte-io.github.io/api-examples/mat3ra_api_examples-0.1.dev1+g2d074bd-py3-none-any.whl\", deps=False)\n",
    "    await micropip.install('mat3ra-utils')\n",
    "    from mat3ra.utils.jupyterlite.packages import install_packages\n",
    "\n",
    "    await install_packages(\"\")"
   ]
  },
  {
   "cell_type": "markdown",
   "id": "3e9934b458d6cb4",
   "metadata": {
    "collapsed": false
   },
   "source": [
    "### 1.3. Get input materials"
   ]
  },
  {
   "cell_type": "code",
   "execution_count": null,
   "id": "74cd0d5a3881ab47",
   "metadata": {
    "collapsed": false
   },
   "outputs": [],
   "source": [
    "from utils.jupyterlite import get_materials\n",
    "\n",
    "materials = get_materials(globals())\n",
    "material = materials[0]"
   ]
  },
  {
   "cell_type": "markdown",
   "id": "d4535caf6debb8d4",
   "metadata": {
    "collapsed": false
   },
   "source": [
    "### 1.4. Preview the material"
   ]
  },
  {
   "cell_type": "code",
   "execution_count": null,
   "id": "d6bea39864c23ab5",
   "metadata": {
    "collapsed": false
   },
   "outputs": [],
   "source": [
    "from utils.visualize import visualize_materials as visualize\n",
    "\n",
    "visualize(material, repetitions=[3, 3, 1], rotation=\"0x\")\n",
    "visualize(material, repetitions=[3, 3, 1], rotation=\"-90x\")"
   ]
  },
  {
   "cell_type": "markdown",
   "id": "5473c36cd254aa89",
   "metadata": {
    "collapsed": false
   },
   "source": [
    "## 2. Create Monolayer"
   ]
  },
  {
   "cell_type": "markdown",
   "id": "ee17958872d03410",
   "metadata": {
    "collapsed": false
   },
   "source": [
    "### 2.1. Create a monolayer unit cell"
   ]
  },
  {
   "cell_type": "code",
   "execution_count": null,
   "id": "f05c4872edfef910",
   "metadata": {},
   "outputs": [],
   "source": [
    "from mat3ra.made.tools.helpers import create_monolayer\n",
    "\n",
    "monolayer = create_monolayer(\n",
    "    crystal=material,\n",
    "    vacuum=VACUUM,\n",
    ")"
   ]
  },
  {
   "cell_type": "markdown",
   "id": "372400a5610d7247",
   "metadata": {},
   "source": [
    "### 2.2 Create a supercell"
   ]
  },
  {
   "cell_type": "code",
   "execution_count": null,
   "id": "25d6681d5c1bfb0",
   "metadata": {},
   "outputs": [],
   "source": [
    "from mat3ra.made.tools.operations.core.unary import supercell\n",
    "\n",
    "monolayer = supercell(\n",
    "    material=monolayer,\n",
    "    supercell_matrix=XY_SUPERCELL_MATRIX, )"
   ]
  },
  {
   "cell_type": "markdown",
   "id": "82f9dfac4c711634",
   "metadata": {},
   "source": [
    "## 3. Visualize the result"
   ]
  },
  {
   "cell_type": "code",
   "execution_count": null,
   "id": "ab5c2f5ee249525c",
   "metadata": {},
   "outputs": [],
   "source": [
    "visualize(monolayer, repetitions=[1, 1, 1], rotation=\"0x\")\n",
    "visualize(monolayer, repetitions=[1, 1, 1], rotation=\"-90x\")"
   ]
  },
  {
   "cell_type": "markdown",
   "id": "6ce5f7dd9a919a08",
   "metadata": {
    "collapsed": false
   },
   "source": [
    "# 4. Pass material to the outside runtime"
   ]
  },
  {
   "cell_type": "code",
   "execution_count": null,
   "id": "865c71d008d87beb",
   "metadata": {
    "collapsed": false
   },
   "outputs": [],
   "source": [
    "from utils.jupyterlite import set_materials\n",
    "\n",
    "set_materials(monolayer)"
   ]
  }
 ],
 "metadata": {
  "kernelspec": {
   "display_name": "Python 3",
   "language": "python",
   "name": "python3"
  },
  "language_info": {
   "codemirror_mode": {
    "name": "ipython",
    "version": 2
   },
   "file_extension": ".py",
   "mimetype": "text/x-python",
   "name": "python",
   "nbconvert_exporter": "python",
   "pygments_lexer": "ipython2",
   "version": "2.7.6"
  }
 },
 "nbformat": 4,
 "nbformat_minor": 5
}
