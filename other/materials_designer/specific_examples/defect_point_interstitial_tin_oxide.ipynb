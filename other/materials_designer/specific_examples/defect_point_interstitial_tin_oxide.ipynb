{
 "cells": [
  {
   "cell_type": "markdown",
   "source": [
    "# Oxygen interstitial Defect(s) in SnO.\n",
    "\n",
    "This example demonstrates how to create a O interstitial defect in a SnO material. Following the publication:\n",
    "\n",
    "> **A. Togo, F. Oba, and I. Tanaka**\n",
    "> \"First-principles calculations of native defects in tin monoxide\"\n",
    "> Phys. Rev. B 74, 195128 (2006)\n",
    "> [DOI: 10.1103/PhysRevB.74.195128](https://doi.org/10.1103/PhysRevB.74.195128)\n",
    "\n",
    "Focusing on the Fig 4. a):\n",
    "<img src=\"https://i.imgur.com/xlZ4tsE.png\" alt=\"SnO with O-interstitial\" width=\"200\"/>\n",
    "\n",
    "!Note: Voronoi site placement method is used for the interstitial defect, for a precise reproduction relaxation is needed."
   ],
   "metadata": {
    "collapsed": false
   },
   "id": "f2e1e795020d7b3f"
  },
  {
   "cell_type": "markdown",
   "source": [
    "## 1. Prepare the Environment\n",
    "### 1.1. Set up defects parameters \n",
    "Defect Configuration parameters are described in [Defect Configuration](https://github.com/Exabyte-io/made/blob/8196b759242551c77d1791bf5bd2f4150763cfef/src/py/mat3ra/made/tools/build/defect/configuration.py#L102)."
   ],
   "metadata": {
    "collapsed": false
   },
   "id": "5e43ff288847b784"
  },
  {
   "cell_type": "code",
   "outputs": [],
   "source": [
    "MATERIAL_NAME = \"SnO\"\n",
    "SUPERCELL_MATRIX = [[2, 0, 0], [0, 2, 0], [0, 0, 2]]\n",
    "\n",
    "# List of dictionaries with defect parameters\n",
    "DEFECT_CONFIGS = [\n",
    "    {\n",
    "        \"defect_type\": \"vacancy\",\n",
    "        \"approximate_coordinate\": [0.0, 0.25, 0.525],\n",
    "    },\n",
    "    {\n",
    "        \"defect_type\": \"interstitial\",\n",
    "        \"coordinate\": [0.0, 0.25, 0.35],\n",
    "        \"chemical_element\": \"O\",\n",
    "        \"placement_method\": \"voronoi_site\"\n",
    "    }\n",
    "]"
   ],
   "metadata": {
    "collapsed": false
   },
   "id": "9d8b1890b34d850a",
   "execution_count": null
  },
  {
   "cell_type": "markdown",
   "source": [
    "### 1.2. Install Packages\n",
    "The step executes only in Pyodide environment. For other environments, the packages should be installed via `pip install` (see [README](../../README.ipynb))."
   ],
   "metadata": {
    "collapsed": false
   },
   "id": "bb64de5ff32649f8"
  },
  {
   "cell_type": "code",
   "outputs": [],
   "source": [
    "import sys\n",
    "\n",
    "if sys.platform == \"emscripten\":\n",
    "    import micropip\n",
    "\n",
    "    await micropip.install('mat3ra-api-examples', deps=False)\n",
    "    from utils.jupyterlite import install_packages\n",
    "\n",
    "    await install_packages(\"specific_examples|create_point_defect.ipynb\")"
   ],
   "metadata": {
    "collapsed": false
   },
   "id": "ef664b14457530fd",
   "execution_count": null
  },
  {
   "cell_type": "markdown",
   "source": [
    "### 1.3. Get input material"
   ],
   "metadata": {
    "collapsed": false
   },
   "id": "919ad7af8dceeedd"
  },
  {
   "cell_type": "code",
   "outputs": [],
   "source": [
    "from mat3ra.made.material import Material\n",
    "from mat3ra.standata.materials import Materials\n",
    "\n",
    "material = Material(Materials.get_by_name_first_match(MATERIAL_NAME))"
   ],
   "metadata": {
    "collapsed": false
   },
   "id": "be38fdda1984c654",
   "execution_count": null
  },
  {
   "cell_type": "markdown",
   "source": [
    "### 1.4. Create and preview Supercell"
   ],
   "metadata": {
    "collapsed": false
   },
   "id": "a132fe0ef8bbf0d0"
  },
  {
   "cell_type": "code",
   "outputs": [],
   "source": [
    "from utils.visualize import visualize_materials as visualize\n",
    "from mat3ra.made.tools.build.supercell import create_supercell\n",
    "\n",
    "supercell = create_supercell(material, supercell_matrix=SUPERCELL_MATRIX)\n",
    "visualize(supercell, repetitions=[1, 1, 1], rotation=\"0x\")"
   ],
   "metadata": {
    "collapsed": false
   },
   "id": "e2d24109d3068c9e",
   "execution_count": null
  },
  {
   "cell_type": "markdown",
   "source": [
    "## 2. Create the Defect\n",
    "### 2.1. Initialize Configuration and Builder parameters"
   ],
   "metadata": {
    "collapsed": false
   },
   "id": "5da5b0380583c952"
  },
  {
   "cell_type": "code",
   "outputs": [],
   "source": [
    "from mat3ra.made.tools.build.defect import PointDefectConfiguration\n",
    "from mat3ra.made.tools.build.defect.builders import PointDefectBuilderParameters, \\\n",
    "    VoronoiInterstitialPointDefectBuilderParameters\n",
    "\n",
    "defect_configurations = [PointDefectConfiguration.from_dict(\n",
    "    crystal=supercell,\n",
    "    data=DEFECT_CONFIG,\n",
    ") for DEFECT_CONFIG in DEFECT_CONFIGS]\n",
    "\n",
    "params = VoronoiInterstitialPointDefectBuilderParameters(clustering_tol=0.9, min_dist=0.2)"
   ],
   "metadata": {
    "collapsed": false
   },
   "id": "e385e50ae11ed2b9",
   "execution_count": null
  },
  {
   "cell_type": "markdown",
   "source": [
    "### 2.2. Create the defects"
   ],
   "metadata": {
    "collapsed": false
   },
   "id": "489b51f0ee122c48"
  },
  {
   "cell_type": "code",
   "outputs": [],
   "source": [
    "from mat3ra.made.tools.build.defect import create_defects\n",
    "\n",
    "material_with_defect = create_defects(configurations=defect_configurations, builder_parameters=params)"
   ],
   "metadata": {
    "collapsed": false
   },
   "id": "a990fa35742d7269",
   "execution_count": null
  },
  {
   "cell_type": "markdown",
   "source": [
    "## 3. Visualize Result(s)"
   ],
   "metadata": {
    "collapsed": false
   },
   "id": "462549d016073446"
  },
  {
   "cell_type": "code",
   "outputs": [],
   "source": [
    "from utils.visualize import visualize_materials as visualize\n",
    "\n",
    "visualize([{\"material\": supercell, \"title\": \"Original material\"},\n",
    "           {\"material\": material_with_defect, \"title\": f\"Material with defect\"}],\n",
    "          rotation=\"-90x\")\n",
    "visualize([{\"material\": supercell, \"title\": \"Original material\"},\n",
    "           {\"material\": material_with_defect, \"title\": f\"Material with defect\"}],\n",
    "          rotation=\"-90x,90y\"\n",
    "          )"
   ],
   "metadata": {
    "collapsed": false
   },
   "id": "509b18661a069e42",
   "execution_count": null
  },
  {
   "cell_type": "markdown",
   "source": [
    "## 4. Pass data to the outside runtime"
   ],
   "metadata": {
    "collapsed": false
   },
   "id": "d381df29a6bbdd82"
  },
  {
   "cell_type": "code",
   "outputs": [],
   "source": [
    "from utils.jupyterlite import set_materials, download_content_to_file\n",
    "\n",
    "set_materials([material_with_defect])\n",
    "download_content_to_file(material_with_defect, f\"{material_with_defect.name}.json\")"
   ],
   "metadata": {
    "collapsed": false
   },
   "id": "61daa5afcbc078a9",
   "execution_count": null
  },
  {
   "cell_type": "code",
   "outputs": [],
   "source": [],
   "metadata": {
    "collapsed": false
   },
   "id": "2c7d61327984af1c"
  }
 ],
 "metadata": {
  "kernelspec": {
   "display_name": "Python 3",
   "language": "python",
   "name": "python3"
  },
  "language_info": {
   "codemirror_mode": {
    "name": "ipython",
    "version": 2
   },
   "file_extension": ".py",
   "mimetype": "text/x-python",
   "name": "python",
   "nbconvert_exporter": "python",
   "pygments_lexer": "ipython2",
   "version": "2.7.6"
  }
 },
 "nbformat": 4,
 "nbformat_minor": 5
}
