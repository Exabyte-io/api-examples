{
 "cells": [
  {
   "cell_type": "markdown",
   "metadata": {},
   "source": [
    "# Materials Transformations with Python Notebooks\n",
    "\n",
    "## Overview\n",
    "\n",
    "This Jupyter Lite distribution contains pre-configured examples of materials transformations including simple ones like creation of supercell or a surface, and more complex like creating an interface with Zur and McGill Superlattice matching algorithm\n",
    "\n",
    "## Examples\n",
    "### 1. Builders / Transformations\n",
    "\n",
    "#### [1.1. Interface creation with Zur and McGill Superlattice (ZSL) algorithm](create_interface_with_min_strain_zsl.ipynb)\n",
    "\n",
    "This notebook lets user create an interface between two materials by finding matching superlattices and selecting optimal variants by (1) minimal strain and (2) minimal number of atoms. [Click here to open the notebook](create_interface_with_min_strain_zsl.ipynb).\n",
    "\n",
    "#### [1.2. Relaxed interface creation with ZSL algorithm and EMT potential](create_interface_with_relaxation_ase_emt.ipynb)\n",
    "\n",
    "This notebook lets user create an interface between two materials and then relax it using the EMT potential. Interface creation is done in the same way as in the previous example, employing ZSL algorithm. [Click here to open the notebook](create_interface_with_relaxation_ase_emt.ipynb).\n",
    "\n",
    "#### [1.3. Interface creation with a supercell matrix](create_interface_with_no_strain_matching.ipynb)\n",
    "\n",
    "This notebook lets user create an interface between two materials by specifying the supercell matrix, with ability to strain film to fit the substrate. [Click here to open the notebook](create_interface_with_no_strain_matching.ipynb).\n",
    "\n",
    "### 2. Data Import\n",
    "\n",
    "#### [2.1. Materials import from files in ASE-supported formats](import_materials_from_files.ipynb)\n",
    "\n",
    "This notebook demonstrates a workflow for converting materials data from user uploaded files in [formats supported by ASE](https://wiki.fysik.dtu.dk/ase/ase/io/io.html) into ESSE format for use with Mat3ra.com platform. [Click here to open the notebook](import_materials_from_files.ipynb).\n",
    "\n",
    "#### [2.2. Materials import from JARVIS](import_material_from_jarvis_db_entry.ipynb)\n",
    "\n",
    "This notebook demonstrates a workflow for converting materials data from the [JARVIS](https://jarvis.nist.gov/) database into ESSE format for use with Mat3ra.com platform. [Click here to open the notebook](import_material_from_jarvis_db_entry.ipynb).\n",
    "\n",
    "## 3. Under the hood\n",
    "\n",
    "### 3.1. Passing Data to and from the Outside Runtime\n",
    "The data is passed in *from* and *back to* the outside runtime (e.g. web application) using the `get_data` and `set_data` [helpers](../../utils/jupyterlite.py). The `get_data` function is used to retrieve the data from the outside runtime, while the `set_data` function is used to send the data back to the outside runtime.\n",
    "\n",
    "### 3.2. Specific Considerations\n",
    "\n",
    "#### 3.2.1. Interface creation\n",
    "\n",
    "The following conventions are used in the interface creation examples:\n",
    "\n",
    "3. We assume that two input materials are either in bulk form (e.g. Ni crystal) or layered (e.g. graphene). \n",
    "1. We construct the interface along the Z-axis. The material corresponding to the bottom of the interface is referred to as the \"**substrate**\", and the top - as the \"**film**\". "
   ]
  }
 ],
 "metadata": {
  "language_info": {
   "name": "python"
  }
 },
 "nbformat": 4,
 "nbformat_minor": 2
}
