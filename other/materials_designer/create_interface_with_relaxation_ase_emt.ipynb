{
 "cells": [
  {
   "cell_type": "markdown",
   "metadata": {},
   "source": [
    "# Create an interface with minimal strain and relax it using ASE EMT\n",
    "\n",
    "Use Zur and McGill superlattices matching [algorithm](https://doi.org/10.1063/1.3330840) to create interfaces between two materials using the Pymatgen [implementation](https://pymatgen.org/pymatgen.analysis.interfaces.html#pymatgen.analysis.interfaces.zsl). And then relax the interface using the EMT (Effective Medium Theory) potential. \n",
    "> <b style=\"color:red\">NOTE:</b> The [EMT potential](https://wiki.fysik.dtu.dk/ase/ase/calculators/emt.html) is available for a limited number of elements (Al, Cu, Ag, Au, Ni, Pd and Pt., as well as H, C, N, O in a limited way). If the interface contains elements not supported by EMT, the relaxation will not be performed.\n",
    "\n",
    "<h2 style=\"color:green\">Usage</h2>\n",
    "\n",
    "1. Make sure to select Input Materials\n",
    "2. Set Input Parameters (e.g. `THICKNESS`, `MAX_AREA`, `FMAX`) below or use the default values\n",
    "3. Click \"Run\" > \"Run All\" to run all cells\n",
    "4. Wait for the run to complete (depending on the parameters it can take a few min or more). Scroll down to view cell results.\n",
    "5. Review the strain plot and modify its parameters as needed\n",
    "6. Apply relaxation to the selected interface and analyze the difference\n",
    "7. Pass the results back to the web application\n",
    "\n",
    "## Methodology\n",
    "\n",
    "The following happens in the script below:\n",
    "\n",
    "1. The steps from [create_interface_with_min_strain_zsl.ipynb](create_interface_with_min_strain_zsl.ipynb)\n",
    "\n",
    "2. The interface with the lowest strain is selected and relaxed using the optimizer selected below (BFGS, by default). The EMT potential is used as an energy calculator.\n"
   ]
  },
  {
   "cell_type": "markdown",
   "metadata": {},
   "source": [
    "## 1. Set Input Parameters\n",
    "\n",
    "### 1.1. Select Substrate and Layer from Input Materials\n"
   ]
  },
  {
   "cell_type": "code",
   "execution_count": null,
   "metadata": {},
   "outputs": [],
   "source": [
    "SUBSTRATE_PARAMETERS = {\n",
    "    \"MATERIAL_INDEX\": 0,  # the index of the material in the materials_in list\n",
    "    \"MILLER_INDICES\": (1, 1, 1),  # the miller indices of the interfacial plane\n",
    "    \"THICKNESS\": 3,  # in layers\n",
    "}\n",
    "\n",
    "LAYER_PARAMETERS = {\n",
    "    \"MATERIAL_INDEX\": 1,  # the index of the material in the materials_in list\n",
    "    \"MILLER_INDICES\": (0, 0, 1),  # the miller indices of the interfacial plane\n",
    "    \"THICKNESS\": 1,  # in layers\n",
    "}\n",
    "\n",
    "USE_CONVENTIONAL_CELL = True  # if True, the surface plane is constructed using miller indices of the conventional cell"
   ]
  },
  {
   "cell_type": "markdown",
   "metadata": {},
   "source": [
    "### 1.2. Set Interface Parameters\n",
    "\n",
    "The distance between layer and substrate and maximum area to consider when matching.\n"
   ]
  },
  {
   "cell_type": "code",
   "execution_count": null,
   "metadata": {},
   "outputs": [],
   "source": [
    "INTERFACE_PARAMETERS = {\n",
    "    \"DISTANCE_Z\": 3.0,  # in Angstroms\n",
    "    \"MAX_AREA\": 400,  # in Angstroms^2\n",
    "}"
   ]
  },
  {
   "cell_type": "markdown",
   "metadata": {},
   "source": [
    "### 1.3. Set Algorithm Parameters\n"
   ]
  },
  {
   "cell_type": "code",
   "execution_count": null,
   "metadata": {},
   "outputs": [],
   "source": [
    "ZSL_PARAMETERS = {\n",
    "    \"MAX_AREA\": INTERFACE_PARAMETERS[\"MAX_AREA\"],  # The area to consider in Angstrom^2\n",
    "    \"MAX_AREA_TOL\": 0.09,  # The area within this tolerance is considered equal\n",
    "    \"MAX_LENGTH_TOL\": 0.03,  # supercell lattice vectors lengths within this tolerance are considered equal\n",
    "    \"MAX_ANGLE_TOL\": 0.01,  # supercell lattice angles within this tolerance are considered equal\n",
    "    \"STRAIN_TOL\": 10e-6,  # strains within this tolerance are considered equal\n",
    "}\n",
    "RELAXATION_PARAMETERS = {\n",
    "    # Relaxation stops when the largest force component is less than fmax.\n",
    "    # In ev/Angstrom, per https://wiki.fysik.dtu.dk/ase/ase/optimize.html\n",
    "    \"FMAX\": 0.05,\n",
    "    # The optimization algorithm: BFGS, FIRE, etc.\n",
    "    # per https://wiki.fysik.dtu.dk/ase/ase/optimize.html#local-optimization\n",
    "    \"OPTIMIZER\": \"BFGS\",\n",
    "}"
   ]
  },
  {
   "cell_type": "markdown",
   "metadata": {},
   "source": [
    "## 2. Install Packages\n"
   ]
  },
  {
   "cell_type": "code",
   "execution_count": null,
   "metadata": {},
   "outputs": [],
   "source": [
    "import sys\n",
    "if sys.platform == \"emscripten\":\n",
    "    import micropip\n",
    "    await micropip.install('mat3ra-api-examples', deps=False)\n",
    "from utils.jupyterlite import install_packages\n",
    "await install_packages(\"create_interface_with_min_strain_zsl.ipynb\",\"../../config.yml\")"
   ]
  },
  {
   "cell_type": "markdown",
   "source": [
    "## 3. Load and prepare Input Materials"
   ],
   "metadata": {
    "collapsed": false
   }
  },
  {
   "cell_type": "code",
   "outputs": [],
   "source": [
    "from utils.jupyterlite import get_data\n",
    "from pymatgen.analysis.structure_analyzer import SpacegroupAnalyzer\n",
    "from src.utils import to_pymatgen\n",
    "\n",
    "# Get the list of input materials and load them into `materials_in` variable\n",
    "get_data(\"materials_in\", globals())\n",
    "\n",
    "if \"materials_in\" in globals():\n",
    "    pymatgen_materials = [to_pymatgen(item) for item in materials_in]\n",
    "    if USE_CONVENTIONAL_CELL: pymatgen_materials = [SpacegroupAnalyzer(item).get_conventional_standard_structure() for\n",
    "                                                    item in pymatgen_materials]\n",
    "\n",
    "    for material in pymatgen_materials:\n",
    "        print(material, \"\\n\")"
   ],
   "metadata": {
    "collapsed": false
   }
  },
  {
   "cell_type": "markdown",
   "metadata": {},
   "source": [
    "## 4. Create interfaces\n",
    "\n",
    "### 4.1. Extract Interfaces and Terminations\n",
    "\n",
    "Extract all possible layer/substrate supercell combinations within the maximum area including different terminations.\n"
   ]
  },
  {
   "cell_type": "code",
   "execution_count": null,
   "metadata": {
    "tags": [],
    "trusted": true
   },
   "outputs": [],
   "source": [
    "from src.pymatgen_coherent_interface_builder import CoherentInterfaceBuilder, ZSLGenerator\n",
    "from src.utils import translate_to_bottom\n",
    "\n",
    "# Translate the materials to the bottom of the cell to allow for multilayer heterostructures creation\n",
    "pymatgen_materials = [translate_to_bottom(item) for item in pymatgen_materials]\n",
    "\n",
    "def create_interfaces(settings: dict):\n",
    "    print(\"Creating interfaces...\")\n",
    "    zsl = ZSLGenerator(\n",
    "        max_area_ratio_tol=settings[\"ZSL_PARAMETERS\"][\"MAX_AREA_TOL\"],\n",
    "        max_area=settings[\"ZSL_PARAMETERS\"][\"MAX_AREA\"],\n",
    "        max_length_tol=settings[\"ZSL_PARAMETERS\"][\"MAX_LENGTH_TOL\"],\n",
    "        max_angle_tol=settings[\"ZSL_PARAMETERS\"][\"MAX_ANGLE_TOL\"],\n",
    "    )\n",
    "\n",
    "    cib = CoherentInterfaceBuilder(\n",
    "        substrate_structure=pymatgen_materials[settings[\"SUBSTRATE_PARAMETERS\"][\"MATERIAL_INDEX\"]],\n",
    "        film_structure=pymatgen_materials[settings[\"LAYER_PARAMETERS\"][\"MATERIAL_INDEX\"]],\n",
    "        substrate_miller=settings[\"SUBSTRATE_PARAMETERS\"][\"MILLER_INDICES\"],\n",
    "        film_miller=settings[\"LAYER_PARAMETERS\"][\"MILLER_INDICES\"],\n",
    "        zslgen=zsl,\n",
    "        strain_tol=settings[\"ZSL_PARAMETERS\"][\"STRAIN_TOL\"],\n",
    "    )\n",
    "\n",
    "    # Find terminations\n",
    "    cib._find_terminations()\n",
    "    terminations = cib.terminations\n",
    "\n",
    "    # Create interfaces for each termination\n",
    "    interfaces = {}\n",
    "    for termination in terminations:\n",
    "        interfaces[termination] = []\n",
    "        for interface in cib.get_interfaces(\n",
    "                termination,\n",
    "                gap=settings[\"INTERFACE_PARAMETERS\"][\"DISTANCE_Z\"],\n",
    "                film_thickness=settings[\"LAYER_PARAMETERS\"][\"THICKNESS\"],\n",
    "                substrate_thickness=settings[\"SUBSTRATE_PARAMETERS\"][\"THICKNESS\"],\n",
    "                in_layers=True,\n",
    "        ):\n",
    "            # Wrap atoms to unit cell\n",
    "            interface[\"interface\"].make_supercell((1, 1, 1), to_unit_cell=True)\n",
    "            interfaces[termination].append(interface)\n",
    "    return interfaces, terminations\n",
    "\n",
    "\n",
    "interfaces, terminations = create_interfaces(\n",
    "    settings={\n",
    "        \"SUBSTRATE_PARAMETERS\": SUBSTRATE_PARAMETERS,\n",
    "        \"LAYER_PARAMETERS\": LAYER_PARAMETERS,\n",
    "        \"ZSL_PARAMETERS\": ZSL_PARAMETERS,\n",
    "        \"INTERFACE_PARAMETERS\": INTERFACE_PARAMETERS,\n",
    "    }\n",
    ")\n"
   ]
  },
  {
   "cell_type": "markdown",
   "metadata": {},
   "source": [
    "### 4.2. Print out the interfaces and terminations\n"
   ]
  },
  {
   "cell_type": "code",
   "execution_count": null,
   "metadata": {},
   "outputs": [],
   "source": [
    "print(f'Found {len(terminations)} terminations')\n",
    "for termination in terminations:\n",
    "    print(f\"Found {len(interfaces[termination])} interfaces for\", termination, \"termination\")"
   ]
  },
  {
   "cell_type": "markdown",
   "metadata": {},
   "source": [
    "## 5. Sort interfaces by strain\n",
    "\n",
    "### 5.1. Sort all interfaces\n"
   ]
  },
  {
   "cell_type": "code",
   "execution_count": null,
   "metadata": {},
   "outputs": [],
   "source": [
    "# Could be \"strain\", \"von_mises_strain\", \"mean_abs_strain\"\n",
    "strain_mode = \"mean_abs_strain\"\n",
    "\n",
    "\n",
    "# Sort interfaces by the specified strain mode and number of sites\n",
    "def sort_interfaces(interfaces, terminations):\n",
    "    sorted_interfaces = {}\n",
    "    for termination in terminations:\n",
    "        sorted_interfaces[termination] = sorted(\n",
    "            interfaces[termination], key=lambda x: (x[strain_mode], x[\"interface\"].num_sites)\n",
    "        )\n",
    "    return sorted_interfaces\n",
    "\n",
    "\n",
    "sorted_interfaces = sort_interfaces(interfaces, terminations)"
   ]
  },
  {
   "cell_type": "markdown",
   "metadata": {},
   "source": [
    "### 5.2. Print out interfaces with lowest strain for each termination\n"
   ]
  },
  {
   "cell_type": "code",
   "execution_count": null,
   "metadata": {},
   "outputs": [],
   "source": [
    "for termination in terminations:\n",
    "    print(f\"Interface with lowest strain for termination {termination} (index 0):\")\n",
    "    first_interface = interfaces[termination][0]\n",
    "    print(\"    strain:\", first_interface[strain_mode] * 100, \"%\")\n",
    "    print(\"    number of atoms:\", first_interface[\"interface\"].num_sites)"
   ]
  },
  {
   "cell_type": "markdown",
   "metadata": {},
   "source": [
    "## 6. Plot the results\n",
    "\n",
    "Plot the number of atoms vs strain. Adjust the parameters as needed.\n"
   ]
  },
  {
   "cell_type": "code",
   "execution_count": null,
   "metadata": {},
   "outputs": [],
   "source": [
    "import plotly.graph_objs as go\n",
    "from collections import defaultdict\n",
    "\n",
    "PLOT_SETTINGS = {\n",
    "    \"HEIGHT\": 600,\n",
    "    \"X_SCALE\": \"log\",  # or linear\n",
    "    \"Y_SCALE\": \"log\",  # or linear\n",
    "}\n",
    "\n",
    "\n",
    "def plot_strain_vs_atoms(sorted_interfaces, terminations, settings):\n",
    "    # Create a mapping from termination to its index\n",
    "    termination_to_index = {termination: i for i, termination in enumerate(terminations)}\n",
    "\n",
    "    grouped_interfaces = defaultdict(list)\n",
    "    for termination, interfaces in sorted_interfaces.items():\n",
    "        for index, interface_data in enumerate(interfaces):\n",
    "            strain_percentage = interface_data[\"mean_abs_strain\"] * 100\n",
    "            num_sites = interface_data[\"interface\"].num_sites\n",
    "            key = (strain_percentage, num_sites)\n",
    "            grouped_interfaces[key].append((index, termination))\n",
    "\n",
    "    data = []\n",
    "    for (strain, num_sites), indices_and_terminations in grouped_interfaces.items():\n",
    "        termination_indices = defaultdict(list)\n",
    "        for index, termination in indices_and_terminations:\n",
    "            termination_indices[termination].append(index)\n",
    "        all_indices = [index for indices in termination_indices.values() for index in indices]\n",
    "        index_range = f\"{min(all_indices)}-{max(all_indices)}\" if len(all_indices) > 1 else str(min(all_indices))\n",
    "\n",
    "        hover_text = \"<br>-----<br>\".join(\n",
    "            f\"Termination: {termination}<br>Termination index: {termination_to_index[termination]}<br>Interfaces Index Range: {index_range}<br>Strain: {strain:.2f}%<br>Atoms: {num_sites}\"\n",
    "            for termination, indices in termination_indices.items()\n",
    "        )\n",
    "        trace = go.Scatter(\n",
    "            x=[strain],\n",
    "            y=[num_sites],\n",
    "            text=[hover_text],\n",
    "            mode=\"markers\",\n",
    "            hoverinfo=\"text\",\n",
    "            name=f\"Indices: {index_range}\",\n",
    "        )\n",
    "        data.append(trace)\n",
    "\n",
    "    layout = go.Layout(\n",
    "        xaxis=dict(title=\"Strain (%)\", type=settings[\"X_SCALE\"]),\n",
    "        yaxis=dict(title=\"Number of atoms\", type=settings[\"Y_SCALE\"]),\n",
    "        hovermode=\"closest\",\n",
    "        height=settings[\"HEIGHT\"],\n",
    "        legend_title_text=\"Interfaces Index Range\",\n",
    "    )\n",
    "    fig = go.Figure(data=data, layout=layout)\n",
    "    fig.show()\n",
    "\n",
    "\n",
    "plot_strain_vs_atoms(sorted_interfaces, terminations, PLOT_SETTINGS)\n",
    "\n",
    "for i, termination in enumerate(terminations):\n",
    "    print(f\"Termination {i}:\", termination)"
   ]
  },
  {
   "cell_type": "markdown",
   "metadata": {},
   "source": [
    "## 7. Select the interface with the desired termination and strain\n",
    "\n",
    "The data in `sorted_interfaces` now contains an object with the following structure:\n",
    "\n",
    "```json\n",
    "{\n",
    "    \"('C_P6/mmm_2', 'Si_R-3m_1')\": [\n",
    "        { ...interface for ('C_P6/mmm_2', 'Si_R-3m_1') at index 0...},\n",
    "        { ...interface for ('C_P6/mmm_2', 'Si_R-3m_1') at index 1...},\n",
    "        ...\n",
    "    ],\n",
    "    \"<termination at index 1>\": [\n",
    "        { ...interface for 'termination at index 1' at index 0...},\n",
    "        { ...interface for 'termination at index 1' at index 1...},\n",
    "        ...\n",
    "    ]\n",
    "}\n",
    "```\n",
    "\n",
    "Select the index for termination first, and for it - the index in the list of corresponding interfaces sorted by strain (index 0 has minimum strain).\n"
   ]
  },
  {
   "cell_type": "code",
   "execution_count": null,
   "metadata": {},
   "outputs": [],
   "source": [
    "termination_index = 0\n",
    "interface_index = 0\n",
    "\n",
    "termination = terminations[termination_index]\n",
    "\n",
    "interface = sorted_interfaces[termination][interface_index][\"interface\"]\n",
    "\n",
    "interface_strain = f\"{sorted_interfaces[termination][interface_index]['mean_abs_strain'] * 100:.2f}%\""
   ]
  },
  {
   "cell_type": "markdown",
   "metadata": {},
   "source": [
    "## 8. Apply relaxation to the interface\n",
    "\n",
    "### 8.1. Apply relaxation to the selected interface with ASE\n",
    "\n",
    "Optimizer is set from the available options in the settings and EMT is used as the energy calculator."
   ]
  },
  {
   "cell_type": "code",
   "execution_count": null,
   "metadata": {},
   "outputs": [],
   "source": [
    "import logging\n",
    "\n",
    "import plotly.graph_objs as go\n",
    "from IPython.display import display\n",
    "from plotly.subplots import make_subplots\n",
    "\n",
    "# Per https://github.com/materialsvirtuallab/matgl/blob/main/examples/Relaxations%20and%20Simulations%20using%20the%20M3GNet%20Universal%20Potential.ipynb\n",
    "from src.utils import poscar_to_ase, ase_to_poscar, ase_to_pymatgen, pymatgen_to_ase\n",
    "from ase.optimize import BFGS, FIRE\n",
    "from ase.calculators.emt import EMT, parameters as EMT_parameters\n",
    "\n",
    "calculator = EMT()\n",
    "ase_original_interface = pymatgen_to_ase(interface)\n",
    "\n",
    "# Create a plotly figure widget to display energy convergence\n",
    "fig = make_subplots(rows=1, cols=1, specs=[[{\"type\": \"scatter\"}]])\n",
    "scatter = go.Scatter(x=[], y=[], mode='lines+markers', name='Energy')\n",
    "fig.add_trace(scatter)\n",
    "fig.update_layout(title_text='Convergence', xaxis_title='Step', yaxis_title='Energy (eV)')\n",
    "# Display figure widget\n",
    "f = go.FigureWidget(fig)\n",
    "display(f)\n",
    "\n",
    "\n",
    "# Define a callback function to update the plot at each step\n",
    "def plotly_callback():\n",
    "    step = dyn.nsteps\n",
    "    energy = ase_interface.get_total_energy()\n",
    "\n",
    "    # Add the new step and energy to the lists\n",
    "    steps.append(step)\n",
    "    energies.append(energy)\n",
    "\n",
    "    print(f\"Step: {step}, Energy: {energy:.4f} eV\")\n",
    "\n",
    "    # Update the figure with the new data\n",
    "    with f.batch_update():\n",
    "        f.data[0].x = steps\n",
    "        f.data[0].y = energies\n",
    "\n",
    "\n",
    "# check if EMT potential is available for every element in the interface\n",
    "emt_elements = EMT_parameters.keys()\n",
    "unique_elements = set(site.species_string for site in interface.sites)\n",
    "if unique_elements.issubset(emt_elements):\n",
    "    # select optimizer based on the setup parameters\n",
    "    optimizer = {\"BFGS\": BFGS, \"FIRE\": FIRE}[RELAXATION_PARAMETERS[\"OPTIMIZER\"]]\n",
    "\n",
    "    # relax the interface in place\n",
    "    ase_interface = ase_original_interface.copy()\n",
    "    ase_interface.set_calculator(calculator)\n",
    "    dyn = optimizer(ase_interface)\n",
    "    steps = []\n",
    "    energies = []\n",
    "\n",
    "    dyn.attach(plotly_callback, interval=1)\n",
    "    dyn.run(fmax=RELAXATION_PARAMETERS[\"FMAX\"])\n",
    "\n",
    "    # extract results\n",
    "    ase_final_interface = ase_interface\n",
    "    name_relaxation_suffix = f\"Relaxed {RELAXATION_PARAMETERS['OPTIMIZER']} fmax={RELAXATION_PARAMETERS['FMAX']}\"\n",
    "    ase_original_interface.set_calculator(calculator)\n",
    "    original_energy = ase_original_interface.get_total_energy()\n",
    "    relaxed_energy = ase_final_interface.get_total_energy()\n",
    "\n",
    "    # print out the final relaxed structure and energy\n",
    "    print('Original structure:\\n', ase_to_poscar(ase_original_interface))\n",
    "    print('\\nRelaxed structure:\\n', ase_to_poscar(ase_final_interface))\n",
    "    print(f\"The final energy is {float(relaxed_energy):.3f} eV.\")\n",
    "\n",
    "else:\n",
    "    logging.warning(\n",
    "        f\"The EMT potential is not implemented for the following elements in the interface: {unique_elements - emt_elements}.\\nList of supported elements: {list(emt_elements)}.\")\n",
    "    ase_final_interface = ase_original_interface\n",
    "    name_relaxation_suffix = \"Non-relaxed\"\n",
    "    relaxed_energy = original_energy = None\n"
   ]
  },
  {
   "cell_type": "markdown",
   "metadata": {},
   "source": [
    "### 8.2. View structure before and after relaxation\n"
   ]
  },
  {
   "cell_type": "code",
   "execution_count": null,
   "metadata": {},
   "outputs": [],
   "source": [
    "import base64\n",
    "from ase.io import write\n",
    "from ase.build import make_supercell\n",
    "from IPython.display import HTML\n",
    "import io\n",
    "from src.utils import calculate_average_interlayer_distance\n",
    "\n",
    "\n",
    "def visualize_material_base64(material, title: str, rotation: str = '0x', number_of_repetitions: int = 3):\n",
    "    \"\"\"\n",
    "    Returns an HTML string with a Base64-encoded image for visualization,\n",
    "    including the name of the file, positioned horizontally.\n",
    "    \"\"\"\n",
    "    # Set the number of unit cell repetition for the structure\n",
    "    n = number_of_repetitions\n",
    "    material_repeat = make_supercell(material, [[n, 0, 0], [0, n, 0], [0, 0, 1]])\n",
    "    text = f\"{material.symbols} - {title}\"\n",
    "\n",
    "    # Write image to a buffer to display in HTML\n",
    "    buf = io.BytesIO()\n",
    "    write(buf, material_repeat, format='png', rotation=rotation)\n",
    "    buf.seek(0)\n",
    "    img_str = base64.b64encode(buf.read()).decode('utf-8')\n",
    "    html_str = f'''\n",
    "    <div style=\"display: inline-block; margin: 10px; vertical-align: top;\">\n",
    "        <p>{text}</p>\n",
    "        <img src=\"data:image/png;base64,{img_str}\" alt=\"{title}\" />\n",
    "    </div>\n",
    "    '''\n",
    "    return html_str\n",
    "\n",
    "\n",
    "html_original = visualize_material_base64(ase_original_interface, \"original\", \"-90x\")\n",
    "html_relaxed = visualize_material_base64(ase_final_interface, \"relaxed\", \"-90x\")\n",
    "\n",
    "# Display the interfaces before and after relaxation\n",
    "html_content = f'<div style=\"display: flex;\">{html_original}{html_relaxed}</div>'\n",
    "display(HTML(html_content))\n",
    "\n",
    "# Calculate the average interlayer distance, see References [1] and [2] below\n",
    "average_distance = calculate_average_interlayer_distance(ase_final_interface, SUBSTRATE_PARAMETERS[\"MATERIAL_INDEX\"],\n",
    "                                                         LAYER_PARAMETERS[\"MATERIAL_INDEX\"])\n",
    "print(\"Interfacial distance:\")\n",
    "print(f\"     Original: {INTERFACE_PARAMETERS['DISTANCE_Z']:.3f} Å\")\n",
    "print(f\"Final average: {average_distance:.3f} Å\")\n",
    "print(f\"        Delta: {average_distance - INTERFACE_PARAMETERS['DISTANCE_Z']:.3f} Å\")"
   ]
  },
  {
   "cell_type": "markdown",
   "metadata": {
    "collapsed": false
   },
   "source": [
    "### 8.3. Calculate the energy metrics\n",
    "Calculate the energy metrics for the relaxed interface.\n",
    "The effective delta energy per area calculation accounts for the energy contribution of each component (substrate and layer) relative to their proportion in the overall interface. \n"
   ]
  },
  {
   "cell_type": "code",
   "execution_count": null,
   "metadata": {
    "collapsed": false
   },
   "outputs": [],
   "source": [
    "import numpy as np\n",
    "from ase import Atoms\n",
    "from ase.calculators.calculator import Calculator\n",
    "\n",
    "\n",
    "def filter_atoms_by_tag(atoms: Atoms, material_index):\n",
    "    \"\"\"Filter atoms by their tag, corresponding to the material index.\"\"\"\n",
    "    return atoms[atoms.get_tags() == material_index]\n",
    "\n",
    "\n",
    "def get_surface_area(atoms: Atoms):\n",
    "    \"\"\"Calculate the surface area of the atoms.\"\"\"\n",
    "    matrix = atoms.cell\n",
    "    return np.linalg.norm(np.cross(matrix[0], matrix[1]))\n",
    "\n",
    "\n",
    "def get_total_energy(atoms: Atoms, calculator: Calculator):\n",
    "    \"\"\"Set calculator for atoms and return their total energy.\"\"\"\n",
    "    atoms.set_calculator(calculator)\n",
    "    return atoms.get_total_energy()\n",
    "\n",
    "\n",
    "def get_total_energy_per_atom(atoms: Atoms, calculator: Calculator):\n",
    "    \"\"\"Calculate the energy per atom.\"\"\"\n",
    "    return get_total_energy(atoms, calculator) / atoms.get_global_number_of_atoms()\n",
    "\n",
    "\n",
    "def get_surface_energy(slab: Atoms, bulk: Atoms, calculator: Calculator):\n",
    "    \"\"\"Calculate the surface energy by subtracting the bulk energy from the slab energy.\"\"\"\n",
    "    number_of_atoms = slab.get_global_number_of_atoms()\n",
    "    area = get_surface_area(slab)\n",
    "    return (get_total_energy(slab, calculator) - get_total_energy_per_atom(bulk, calculator) * number_of_atoms) / (\n",
    "            2 * area)\n",
    "\n",
    "\n",
    "def get_adhesion_energy(interface: Atoms, substrate_slab: Atoms, layer_slab: Atoms, calculator: Calculator):\n",
    "    \"\"\"Calculate the adhesion energy.\n",
    "    The adhesion energy is the difference between the energy of the interface and the sum of the energies of the substrate and layer.\n",
    "    According to: 10.1088/0953-8984/27/30/305004\n",
    "    \"\"\"\n",
    "    energy_substrate_slab = get_total_energy(substrate_slab, calculator)\n",
    "    energy_layer_slab = get_total_energy(layer_slab, calculator)\n",
    "    energy_interface = get_total_energy(interface, calculator)\n",
    "    area = get_surface_area(interface)\n",
    "    return (energy_substrate_slab + energy_layer_slab - energy_interface) / area\n",
    "\n",
    "\n",
    "def get_interfacial_energy(interface: Atoms, substrate_slab: Atoms, substrate_bulk: Atoms, layer_slab: Atoms,\n",
    "                           layer_bulk: Atoms, calculator: Calculator):\n",
    "    \"\"\"Calculate the interfacial energy.\n",
    "    The interfacial energy is the sum of the surface energies of the substrate and layer minus the adhesion energy.\n",
    "    According to Dupré's formula\"\"\"\n",
    "\n",
    "    surface_energy_substrate = get_surface_energy(substrate_slab, substrate_bulk, calculator)\n",
    "    surface_energy_layer = get_surface_energy(layer_slab, layer_bulk, calculator)\n",
    "    adhesion_energy = get_adhesion_energy(interface, substrate_slab, layer_slab, calculator)\n",
    "    return surface_energy_layer + surface_energy_substrate - adhesion_energy\n",
    "\n",
    "\n",
    "# Create necessary structures\n",
    "original_substrate_slab = filter_atoms_by_tag(ase_original_interface, SUBSTRATE_PARAMETERS[\"MATERIAL_INDEX\"])\n",
    "original_substrate_bulk = pymatgen_to_ase(pymatgen_materials[SUBSTRATE_PARAMETERS[\"MATERIAL_INDEX\"]])\n",
    "original_layer_slab = filter_atoms_by_tag(ase_original_interface, LAYER_PARAMETERS[\"MATERIAL_INDEX\"])\n",
    "original_layer_bulk = pymatgen_to_ase(pymatgen_materials[LAYER_PARAMETERS[\"MATERIAL_INDEX\"]])\n",
    "\n",
    "# Calculate the energy metrics\n",
    "surface_energy_substrate = get_surface_energy(original_substrate_slab, original_substrate_bulk, calculator)\n",
    "surface_energy_layer = get_surface_energy(original_layer_slab, original_layer_bulk, calculator)\n",
    "adhesion_energy = get_adhesion_energy(ase_final_interface, original_substrate_slab, original_layer_slab, calculator)\n",
    "interfacial_energy = surface_energy_layer + surface_energy_substrate - adhesion_energy\n",
    "\n",
    "print(\"Energy metrics:\")\n",
    "print(\n",
    "    f\"Original surface energy substrate: {surface_energy_substrate:.3f} eV/Å^2 ({surface_energy_substrate / 0.16:.3f} J/m^2)\")\n",
    "print(f\"Original surface energy layer: {surface_energy_layer:.3f} eV/Å^2 ({surface_energy_layer / 0.16:.3f} J/m^2)\")\n",
    "print(f\"Adhesion energy: {adhesion_energy:.3f} eV/Å^2 ({adhesion_energy / 0.16:.3f} J/m^2)\")\n",
    "print(f\"Interfacial energy: {interfacial_energy:.3f} eV/Å^2 ({interfacial_energy / 0.16:.3f} J/m^2)\")"
   ]
  },
  {
   "cell_type": "markdown",
   "metadata": {},
   "source": [
    "## 9. Pass relaxed interface to Materials Designer"
   ]
  },
  {
   "cell_type": "code",
   "execution_count": null,
   "metadata": {},
   "outputs": [],
   "source": [
    "from utils.jupyterlite import set_data\n",
    "from src.utils import from_pymatgen\n",
    "\n",
    "esse_final_interface = from_pymatgen(ase_to_pymatgen(ase_final_interface))\n",
    "esse_final_interface[\n",
    "    'name'] = f\"{esse_final_interface['name']}, Interface, Strain: {interface_strain}, {name_relaxation_suffix}\"\n",
    "\n",
    "materials_out = [esse_final_interface]\n",
    "set_data(\"materials\", materials_out)"
   ]
  },
  {
   "cell_type": "markdown",
   "metadata": {
    "collapsed": false
   },
   "source": [
    "## References\n",
    "\n",
    "[1] Tesch, J., Leicht, P., Blumenschein, F. et al., \"Structural and electronic properties of graphene nanoflakes on Au(111) and Ag(111).\" Sci Rep 6, 23439 (2016). (https://doi.org/10.1038/srep23439). *Summary*: has Graphene/Au(111) and Graphene/Ag(111) interfaces with distances of 3.23 A and 3.13 A respectively.\n",
    "\n",
    "[2] Dahal, A., Batzill M., \"Graphene–nickel interfaces: a review.\" Nanoscale, 2014,6, 2548-2562. (https://doi.org/10.1039/C3NR05279F). *Summary*: has notion of Graphene-nickel interface with distance: 2.1 A."
   ]
  }
 ],
 "metadata": {
  "kernelspec": {
   "display_name": ".venv",
   "language": "python",
   "name": "python3"
  },
  "language_info": {
   "codemirror_mode": {
    "name": "ipython",
    "version": 3
   },
   "file_extension": ".py",
   "mimetype": "text/x-python",
   "name": "python",
   "nbconvert_exporter": "python",
   "pygments_lexer": "ipython3",
   "version": "3.11.2"
  },
  "widgets": {
   "application/vnd.jupyter.widget-state+json": {
    "state": {},
    "version_major": 2,
    "version_minor": 0
   }
  }
 },
 "nbformat": 4,
 "nbformat_minor": 4
}
