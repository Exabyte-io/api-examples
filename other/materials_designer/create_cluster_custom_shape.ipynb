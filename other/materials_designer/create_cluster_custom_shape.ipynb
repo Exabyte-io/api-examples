{
 "cells": [
  {
   "cell_type": "markdown",
   "id": "0",
   "metadata": {},
   "source": [
    "# Create a cluster of custom shape from a bulk material\n",
    "\n",
    "Create a cluster with shape provided by condition on coordinates and crystal orientation along the z-axis from a bulk material.\n",
    "\n",
    "<h2 style=\"color:green\">Usage</h2>\n",
    "\n",
    "1. Make sure to select Input Materials (in the outer runtime) before running the notebook.\n",
    "1. Set notebook parameters in cell 1.1. below (or use the default values).\n",
    "1. Click “Run” > “Run All” to run all cells. \n",
    "1. Scroll down to view results. \n",
    "\n",
    "\n",
    "## Notes\n",
    "\n",
    "1. For more information, see [Introduction](Introduction.ipynb)\n",
    "<!-- # TODO: use a hashtag-based anchor link to interface creation documention above -->\n"
   ]
  },
  {
   "cell_type": "markdown",
   "id": "1",
   "metadata": {},
   "source": [
    "## 1. Prepare the Environment\n"
   ]
  },
  {
   "cell_type": "markdown",
   "id": "2",
   "metadata": {},
   "source": [
    "### 1.1. Install Packages\n",
    "The step executes only in Pyodide environment. For other environments, the packages should be installed via `pip install` (see [README](../../README.ipynb))."
   ]
  },
  {
   "cell_type": "code",
   "execution_count": null,
   "id": "3",
   "metadata": {},
   "outputs": [],
   "source": [
    "import sys\n",
    "\n",
    "if sys.platform == \"emscripten\":\n",
    "    import micropip\n",
    "\n",
    "    await micropip.install(\"mat3ra-api-examples\", deps=False)\n",
    "    await micropip.install('mat3ra-utils')\n",
    "    from mat3ra.utils.jupyterlite.packages import install_packages\n",
    "\n",
    "    await install_packages(\"\")"
   ]
  },
  {
   "cell_type": "markdown",
   "id": "4",
   "metadata": {},
   "source": [
    "### 1.2. Set up cluster parameters"
   ]
  },
  {
   "cell_type": "code",
   "execution_count": null,
   "id": "5",
   "metadata": {},
   "outputs": [],
   "source": [
    "RADIUS = 5.3  # in Angstroms\n",
    "VACUUM = 10.0  # in Angstroms on each side\n",
    "Z_ORIENTATION = (0, 0, 1)  # Miller indices of the slab orientation along the z-axis for the cluster\n",
    "USE_CARTESIAN_COORDINATES = True\n",
    "NAME = \"Icosahedron\"  # Name of the cluster"
   ]
  },
  {
   "cell_type": "markdown",
   "id": "6",
   "metadata": {},
   "source": [
    "### 1.3. Set coordinates condition"
   ]
  },
  {
   "cell_type": "code",
   "execution_count": null,
   "id": "7",
   "metadata": {},
   "outputs": [],
   "source": [
    "import numpy as np\n",
    "from scipy.spatial import ConvexHull\n",
    "from typing import List\n",
    "from mat3ra.made.tools.helpers import CoordinateCondition\n",
    "\n",
    "\n",
    "class CustomCoordinateCondition(CoordinateCondition):\n",
    "    \"\"\"Creates a regular polyhedron shape using SciPy's ConvexHull\"\"\"\n",
    "    radius: float = 1\n",
    "    center_coordinate: List[float] = [0.5, 0.5, 0.5]\n",
    "\n",
    "    @property\n",
    "    def _hull_planes(self):\n",
    "        t = (1 + np.sqrt(5)) / 2\n",
    "        vertices = np.array([\n",
    "            [-1, t, 0], [1, t, 0], [-1, -t, 0], [1, -t, 0],\n",
    "            [0, -1, t], [0, 1, t], [0, -1, -t], [0, 1, -t],\n",
    "            [t, 0, -1], [t, 0, 1], [-t, 0, -1], [-t, 0, 1]\n",
    "        ]) * self.radius / np.sqrt(1 + t*t)\n",
    "        return ConvexHull(vertices).equations\n",
    "\n",
    "    def condition(self, coordinate: List[float]) -> bool:\n",
    "        \"\"\"Returns True if point is inside the polyhedron\"\"\"\n",
    "        point = np.array(coordinate) - self.center_coordinate\n",
    "        return all(np.dot(plane[:3], point) + plane[3] <= 0\n",
    "                  for plane in self._hull_planes)\n",
    "\n",
    "    \n",
    "condition = CustomCoordinateCondition(radius=RADIUS)"
   ]
  },
  {
   "cell_type": "markdown",
   "id": "8",
   "metadata": {},
   "source": [
    "### 1.3. Get input material"
   ]
  },
  {
   "cell_type": "code",
   "execution_count": null,
   "id": "9",
   "metadata": {},
   "outputs": [],
   "source": [
    "from utils.jupyterlite import get_materials\n",
    "\n",
    "materials = get_materials(globals())"
   ]
  },
  {
   "cell_type": "markdown",
   "id": "10",
   "metadata": {},
   "source": [
    "## 2. Create the Target Material\n",
    "### 2.1. Set the cluster configuration\n"
   ]
  },
  {
   "cell_type": "code",
   "execution_count": null,
   "id": "11",
   "metadata": {},
   "outputs": [],
   "source": [
    "from mat3ra.made.tools.helpers import create_nanoparticle_from_material\n",
    "material = materials[0]\n",
    "cluster = create_nanoparticle_from_material(material=material,condition=condition, orientation_z=Z_ORIENTATION, vacuum_padding=VACUUM, use_cartesian_coordinates=USE_CARTESIAN_COORDINATES)"
   ]
  },
  {
   "cell_type": "markdown",
   "id": "12",
   "metadata": {},
   "source": [
    "## 3. Visualize the Result(s)"
   ]
  },
  {
   "cell_type": "code",
   "execution_count": null,
   "id": "13",
   "metadata": {},
   "outputs": [],
   "source": [
    "from utils.visualize import visualize_materials as visualize\n",
    "visualize([{\"material\": cluster, \"title\": f\"Cluster\"},\n",
    "           {\"material\": cluster, \"title\": f\"Cluster\", \"rotation\": \"-90x\"}])"
   ]
  },
  {
   "cell_type": "markdown",
   "id": "14",
   "metadata": {},
   "source": [
    "## 4. Pass data to the outside runtime"
   ]
  },
  {
   "cell_type": "code",
   "execution_count": null,
   "id": "15",
   "metadata": {},
   "outputs": [],
   "source": [
    "from utils.jupyterlite import set_materials\n",
    "\n",
    "cluster.name = f\"{materials[0].name} {NAME}\"\n",
    "set_materials(cluster)"
   ]
  }
 ],
 "metadata": {
  "kernelspec": {
   "display_name": "Python 3",
   "language": "python",
   "name": "python3"
  },
  "language_info": {
   "codemirror_mode": {
    "name": "ipython",
    "version": 2
   },
   "file_extension": ".py",
   "mimetype": "text/x-python",
   "name": "python",
   "nbconvert_exporter": "python",
   "pygments_lexer": "ipython2",
   "version": "2.7.6"
  }
 },
 "nbformat": 4,
 "nbformat_minor": 5
}
