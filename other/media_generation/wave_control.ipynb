{
 "cells": [
  {
   "metadata": {
    "ExecuteTime": {
     "end_time": "2025-01-15T23:00:07.177049Z",
     "start_time": "2025-01-15T23:00:07.170608Z"
    }
   },
   "cell_type": "code",
   "source": [
    "from IPython.display import display, IFrame, Javascript\n",
    "import json\n",
    "\n",
    "from utils.visualize import visualize_materials\n",
    "\n",
    "\n",
    "def send_message_to_iframe(message):\n",
    "    \"\"\"\n",
    "    Creates and displays an iframe pointing to `url`,\n",
    "    then sends `message` to the iframe via postMessage.\n",
    "    \"\"\"\n",
    "    # Create and display iframe\n",
    "\n",
    "\n",
    "    # Prepare JavaScript code to send message to iframe\n",
    "    js_code = f\"\"\"\n",
    "    (function() {{\n",
    "        // Wait for the iframe to be available\n",
    "        const iframe = document.querySelector('iframe');\n",
    "        if (iframe && iframe.contentWindow) {{\n",
    "            setTimeout(() => {{\n",
    "                try {{\n",
    "                    iframe.contentWindow.postMessage({json.dumps(message)}, '*');\n",
    "                    console.log('Message sent to iframe');\n",
    "                }} catch (error) {{\n",
    "                    console.error('Error sending message:', error);\n",
    "                }}\n",
    "            }}, 1000);  // slight delay to ensure iframe is ready\n",
    "        }} else {{\n",
    "            console.error('Iframe not found or not ready');\n",
    "        }}\n",
    "    }})();\n",
    "    \"\"\"\n",
    "    display(Javascript(js_code))\n",
    "\n",
    "\n",
    "def set_material_in_iframe(material_json):\n",
    "    \"\"\"\n",
    "    Uses send_message_to_iframe to send a material configuration\n",
    "    under the \"material\" key to the iframe at `url`.\n",
    "    \"\"\"\n",
    "    send_message_to_iframe({\"material\": material_json})\n",
    "\n",
    "\n",
    "def record_gif(filename, rotation_speed=60, frame_duration=0.05):\n",
    "    \"\"\"\n",
    "    Uses send_message_to_iframe to send a message to the iframe at `url`\n",
    "    to start recording a GIF of the visualization with the specified parameters.\n",
    "    \"\"\"\n",
    "    message = {\n",
    "        \"action\": \"handleStartGifRecording\",\n",
    "        \"parameters\": [filename, rotation_speed, frame_duration]\n",
    "    }\n",
    "    send_message_to_iframe(message)\n",
    "\n",
    "def set_camera( pos=(0, 5, 0), target=(0, 0, 0)):\n",
    "    func_str = f\"(wave) => {{ wave.camera.position.set({pos[0]}, {pos[1]}, {pos[2]}); wave.camera.lookAt({target[0]}, {target[1]}, {target[2]}); wave.render(); }}\"\n",
    "    message = {\n",
    "        \"action\": \"doFunc\",\n",
    "        \"parameters\": [func_str]\n",
    "    }\n",
    "    send_message_to_iframe(message)\n",
    "\n",
    "def toggle_bonds():\n",
    "    message = {\n",
    "        \"action\": \"handleToggleBonds\",\n",
    "        \"parameters\": [None]\n",
    "    }\n",
    "    send_message_to_iframe(message)\n",
    "\n"
   ],
   "id": "93be5f1320e953c6",
   "outputs": [],
   "execution_count": 13
  },
  {
   "metadata": {
    "ExecuteTime": {
     "end_time": "2025-01-15T23:00:07.752017Z",
     "start_time": "2025-01-15T23:00:07.739055Z"
    }
   },
   "cell_type": "code",
   "source": [
    "# Example usage with a material configuration:\n",
    "import time\n",
    "material_example = {\n",
    "    \"name\": \"New Material\",\n",
    "    \"basis\": {\n",
    "        \"elements\": [\n",
    "            {\"id\": 0, \"value\": \"O\"},\n",
    "            {\"id\": 1, \"value\": \"C\"}\n",
    "        ],\n",
    "        \"coordinates\": [\n",
    "            {\"id\": 0, \"value\": [0, 0, 0]},\n",
    "            {\"id\": 1, \"value\": [0.25, 0.25, 0.5]}\n",
    "        ],\n",
    "        \"units\": \"crystal\",\n",
    "        \"cell\": [\n",
    "            [3.34892, 0, 1.9335],\n",
    "            [1.116307, 3.157392, 1.9335],\n",
    "            [0, 0, 3.867]\n",
    "        ],\n",
    "        \"constraints\": []\n",
    "    },\n",
    "    \"lattice\": {\n",
    "        \"a\": 3.867, \"b\": 3.867, \"c\": 3.867,\n",
    "        \"alpha\": 60, \"beta\": 90, \"gamma\": 90,\n",
    "        \"units\": {\"length\": \"angstrom\", \"angle\": \"degree\"},\n",
    "        \"type\": \"FCC\",\n",
    "        \"vectors\": {\n",
    "            \"a\": [3.34892, 0, 1.9335],\n",
    "            \"b\": [1.116307, 3.157392, 1.9335],\n",
    "            \"c\": [0, 0, 3.867],\n",
    "            \"alat\": 1,\n",
    "            \"units\": \"angstrom\"\n",
    "        }\n",
    "    },\n",
    "    \"isNonPeriodic\": False\n",
    "}\n",
    "\n",
    "URL = \"http://localhost:3002\"\n",
    "GIF_NAME = \"test_gif.gif\"\n",
    "\n",
    "iframe = IFrame(src=URL, width=\"800\", height=\"600\")\n",
    "display(iframe)\n",
    "# Send the material configuration to the iframe at the specified URL\n",
    "set_material_in_iframe(material_example)\n",
    "toggle_bonds()\n",
    "set_camera()\n",
    "record_gif( GIF_NAME, 60, 0.05)\n"
   ],
   "id": "6f65f2a33a405f16",
   "outputs": [
    {
     "data": {
      "text/plain": [
       "<IPython.lib.display.IFrame at 0x144254f90>"
      ],
      "text/html": [
       "\n",
       "        <iframe\n",
       "            width=\"800\"\n",
       "            height=\"600\"\n",
       "            src=\"http://localhost:3002\"\n",
       "            frameborder=\"0\"\n",
       "            allowfullscreen\n",
       "            \n",
       "        ></iframe>\n",
       "        "
      ]
     },
     "metadata": {},
     "output_type": "display_data"
    },
    {
     "data": {
      "text/plain": [
       "<IPython.core.display.Javascript object>"
      ],
      "application/javascript": "\n    (function() {\n        // Wait for the iframe to be available\n        const iframe = document.querySelector('iframe');\n        if (iframe && iframe.contentWindow) {\n            setTimeout(() => {\n                try {\n                    iframe.contentWindow.postMessage({\"material\": {\"name\": \"New Material\", \"basis\": {\"elements\": [{\"id\": 0, \"value\": \"O\"}, {\"id\": 1, \"value\": \"C\"}], \"coordinates\": [{\"id\": 0, \"value\": [0, 0, 0]}, {\"id\": 1, \"value\": [0.25, 0.25, 0.5]}], \"units\": \"crystal\", \"cell\": [[3.34892, 0, 1.9335], [1.116307, 3.157392, 1.9335], [0, 0, 3.867]], \"constraints\": []}, \"lattice\": {\"a\": 3.867, \"b\": 3.867, \"c\": 3.867, \"alpha\": 60, \"beta\": 90, \"gamma\": 90, \"units\": {\"length\": \"angstrom\", \"angle\": \"degree\"}, \"type\": \"FCC\", \"vectors\": {\"a\": [3.34892, 0, 1.9335], \"b\": [1.116307, 3.157392, 1.9335], \"c\": [0, 0, 3.867], \"alat\": 1, \"units\": \"angstrom\"}}, \"isNonPeriodic\": false}}, '*');\n                    console.log('Message sent to iframe');\n                } catch (error) {\n                    console.error('Error sending message:', error);\n                }\n            }, 1000);  // slight delay to ensure iframe is ready\n        } else {\n            console.error('Iframe not found or not ready');\n        }\n    })();\n    "
     },
     "metadata": {},
     "output_type": "display_data"
    },
    {
     "data": {
      "text/plain": [
       "<IPython.core.display.Javascript object>"
      ],
      "application/javascript": "\n    (function() {\n        // Wait for the iframe to be available\n        const iframe = document.querySelector('iframe');\n        if (iframe && iframe.contentWindow) {\n            setTimeout(() => {\n                try {\n                    iframe.contentWindow.postMessage({\"action\": \"handleToggleBonds\", \"parameters\": [null]}, '*');\n                    console.log('Message sent to iframe');\n                } catch (error) {\n                    console.error('Error sending message:', error);\n                }\n            }, 1000);  // slight delay to ensure iframe is ready\n        } else {\n            console.error('Iframe not found or not ready');\n        }\n    })();\n    "
     },
     "metadata": {},
     "output_type": "display_data"
    },
    {
     "data": {
      "text/plain": [
       "<IPython.core.display.Javascript object>"
      ],
      "application/javascript": "\n    (function() {\n        // Wait for the iframe to be available\n        const iframe = document.querySelector('iframe');\n        if (iframe && iframe.contentWindow) {\n            setTimeout(() => {\n                try {\n                    iframe.contentWindow.postMessage({\"action\": \"doWaveFunc\", \"parameters\": [\"(wave) => {\\n        // Get the current camera\\n        const camera = wave.camera;\\n        // Set position and look target\\n        camera.position.set(0, 0, 1);\\n        camera.lookAt(0, 0, 0);\\n        // Update orbit controls if they exist\\n        if (wave.orbitControls) {\\n            wave.orbitControls.target.set(0, 0, 0);\\n            wave.orbitControls.update();\\n        }\\n        // Force a render\\n        wave.render();\\n    }\"]}, '*');\n                    console.log('Message sent to iframe');\n                } catch (error) {\n                    console.error('Error sending message:', error);\n                }\n            }, 1000);  // slight delay to ensure iframe is ready\n        } else {\n            console.error('Iframe not found or not ready');\n        }\n    })();\n    "
     },
     "metadata": {},
     "output_type": "display_data"
    },
    {
     "data": {
      "text/plain": [
       "<IPython.core.display.Javascript object>"
      ],
      "application/javascript": "\n    (function() {\n        // Wait for the iframe to be available\n        const iframe = document.querySelector('iframe');\n        if (iframe && iframe.contentWindow) {\n            setTimeout(() => {\n                try {\n                    iframe.contentWindow.postMessage({\"action\": \"handleStartGifRecording\", \"parameters\": [\"test_gif.gif\", 60, 0.05]}, '*');\n                    console.log('Message sent to iframe');\n                } catch (error) {\n                    console.error('Error sending message:', error);\n                }\n            }, 1000);  // slight delay to ensure iframe is ready\n        } else {\n            console.error('Iframe not found or not ready');\n        }\n    })();\n    "
     },
     "metadata": {},
     "output_type": "display_data"
    }
   ],
   "execution_count": 14
  },
  {
   "metadata": {
    "ExecuteTime": {
     "end_time": "2025-01-15T22:54:48.999261Z",
     "start_time": "2025-01-15T22:54:48.856606Z"
    }
   },
   "cell_type": "code",
   "source": [
    "# get current path\n",
    "import os\n",
    "\n",
    "from IPython.display import IFrame, Javascript\n",
    "import json\n",
    "\n",
    "url = \"http://localhost:3002\"\n",
    "\n",
    "\n",
    "work_dir = os.getcwd()\n",
    "\n",
    "name = \"generic_command_test.gif\"\n",
    "full_name = os.path.join(work_dir, name)\n",
    "\n",
    "# Message to trigger handleStartGifRecording\n",
    "message = {\n",
    "    \"action\": \"handleStartGifRecording\",\n",
    "    \"parameters\": [full_name, 60, 0.05]  # [downloadPath, rotationSpeed, frameDuration]\n",
    "}\n",
    "\n",
    "# Send the message to the iframe\n",
    "send_message_to_iframe(url, message)\n"
   ],
   "id": "af3732c1752b3ab8",
   "outputs": [
    {
     "ename": "TypeError",
     "evalue": "send_message_to_iframe() takes 1 positional argument but 2 were given",
     "output_type": "error",
     "traceback": [
      "\u001B[0;31m---------------------------------------------------------------------------\u001B[0m",
      "\u001B[0;31mTypeError\u001B[0m                                 Traceback (most recent call last)",
      "Cell \u001B[0;32mIn[3], line 22\u001B[0m\n\u001B[1;32m     16\u001B[0m message \u001B[38;5;241m=\u001B[39m {\n\u001B[1;32m     17\u001B[0m     \u001B[38;5;124m\"\u001B[39m\u001B[38;5;124maction\u001B[39m\u001B[38;5;124m\"\u001B[39m: \u001B[38;5;124m\"\u001B[39m\u001B[38;5;124mhandleStartGifRecording\u001B[39m\u001B[38;5;124m\"\u001B[39m,\n\u001B[1;32m     18\u001B[0m     \u001B[38;5;124m\"\u001B[39m\u001B[38;5;124mparameters\u001B[39m\u001B[38;5;124m\"\u001B[39m: [full_name, \u001B[38;5;241m60\u001B[39m, \u001B[38;5;241m0.05\u001B[39m]  \u001B[38;5;66;03m# [downloadPath, rotationSpeed, frameDuration]\u001B[39;00m\n\u001B[1;32m     19\u001B[0m }\n\u001B[1;32m     21\u001B[0m \u001B[38;5;66;03m# Send the message to the iframe\u001B[39;00m\n\u001B[0;32m---> 22\u001B[0m \u001B[43msend_message_to_iframe\u001B[49m\u001B[43m(\u001B[49m\u001B[43murl\u001B[49m\u001B[43m,\u001B[49m\u001B[43m \u001B[49m\u001B[43mmessage\u001B[49m\u001B[43m)\u001B[49m\n",
      "\u001B[0;31mTypeError\u001B[0m: send_message_to_iframe() takes 1 positional argument but 2 were given"
     ]
    }
   ],
   "execution_count": 3
  },
  {
   "metadata": {},
   "cell_type": "code",
   "source": "",
   "id": "bd1e9c79e5457f3b",
   "outputs": [],
   "execution_count": null
  }
 ],
 "metadata": {
  "kernelspec": {
   "display_name": ".venv-3.11.2",
   "language": "python",
   "name": "python3"
  },
  "language_info": {
   "codemirror_mode": {
    "name": "ipython",
    "version": 3
   },
   "file_extension": ".py",
   "mimetype": "text/x-python",
   "name": "python",
   "nbconvert_exporter": "python",
   "pygments_lexer": "ipython3",
   "version": "3.11.2"
  }
 },
 "nbformat": 5,
 "nbformat_minor": 9
}
