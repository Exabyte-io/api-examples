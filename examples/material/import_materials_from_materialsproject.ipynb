version https://git-lfs.github.com/spec/v1
oid sha256:f8f599b52ee86ba28eaf159c76ced7a048062d5fffbb27a8c45b46f991b45fb6
size 39247
