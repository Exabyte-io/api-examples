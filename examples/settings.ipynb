version https://git-lfs.github.com/spec/v1
oid sha256:0665c2189666d61a2d6cee5d66371608345ba6116fb89142f1c220a4fdf294e2
size 2562
