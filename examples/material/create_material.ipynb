version https://git-lfs.github.com/spec/v1
oid sha256:572ac7e17a9c44ad0c2338c6bd924a33cfcb2af753f53b018032382ca0fbb8fa
size 18601
