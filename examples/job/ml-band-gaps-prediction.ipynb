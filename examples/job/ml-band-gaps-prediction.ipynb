version https://git-lfs.github.com/spec/v1
oid sha256:ed64d32ff13821344f8b061f3d65366e2f23346682de84f0b9cbd954a0b3a72e
size 19320
