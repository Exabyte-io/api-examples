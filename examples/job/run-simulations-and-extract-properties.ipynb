version https://git-lfs.github.com/spec/v1
oid sha256:244f37f2d35b890699973b18cef01c3b2f272b64a97f09be779df894e4f856e1
size 69401
