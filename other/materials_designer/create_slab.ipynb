{
 "cells": [
  {
   "cell_type": "markdown",
   "source": [
    "# Create a slab with specified termination\n",
    "\n",
    "This notebook guides through the process of creating a slab with a specified termination. The steps include:\n",
    "\n",
    "1. **Prepare the Environment**: Set up the notebook and install necessary packages.\n",
    "2. **Get Input Materials**: Load the input materials required for slab creation.\n",
    "3. **Configure Slab**: Define the slab configuration parameters such as thickness, vacuum, and Miller indices, and detect possible terminations.\n",
    "4. **Select Termination**: Choose the termination for the slab from the list of possible terminations.\n",
    "4. **Create the Slab**: Generate the slab with the selected termination.\n",
    "5. **Visualize the Slab**: Visualize the created slab to ensure it meets the desired specifications.\n",
    "6. **Pass Material to the Outside Runtime**: Export the created slab for further use.\n",
    "\n",
    "## Summary\n",
    "1. Prepare the Environment: Set up the notebook and install packages, preview the input materials.\n",
    "2. Configure slab and select termination: Define the slab parameters and detect possible terminations.\n",
    "3. Create the slab with the selected termination.\n",
    "4. Visualize the slab.\n",
    "5. Pass the material to the outside runtime."
   ],
   "metadata": {
    "collapsed": false
   },
   "id": "95a274d80df28ccd"
  },
  {
   "cell_type": "code",
   "outputs": [],
   "source": [
    "# Enable interactive selection of terminations via UI prompt\n",
    "IS_TERMINATIONS_SELECTION_INTERACTIVE = False \n",
    "\n",
    "MILLER_INDICES = (0, 0, 1)\n",
    "THICKNESS = 3  # in atomic layers\n",
    "VACUUM = 10.0  # in angstroms\n",
    "XY_SUPERCELL_MATRIX = [[1, 0], [0, 1]]\n",
    "USE_ORTHOGONAL_Z = True\n",
    "USE_CONVENTIONAL_CELL = True\n",
    "\n",
    "# Index of the termination to be selected\n",
    "TERMINATION_INDEX = 0"
   ],
   "metadata": {
    "collapsed": false
   },
   "id": "4b64735060047bec",
   "execution_count": null
  },
  {
   "cell_type": "markdown",
   "source": [
    "### 1.2. Install Packages\n",
    "The step executes only in Pyodide environment. For other environments, the packages should be installed via `pip install` (see [README](../../README.ipynb))."
   ],
   "metadata": {
    "collapsed": false
   },
   "id": "5e0ce05f6f031b3f"
  },
  {
   "cell_type": "code",
   "outputs": [],
   "source": [
    "import sys\n",
    "\n",
    "if sys.platform == \"emscripten\":\n",
    "    import micropip\n",
    "  \n",
    "    await micropip.install('mat3ra-api-examples', deps=False)\n",
    "    from utils.jupyterlite import install_packages\n",
    "    await install_packages(\"\", \"../../config.yml\")"
   ],
   "metadata": {
    "collapsed": false
   },
   "id": "b457673560550933",
   "execution_count": null
  },
  {
   "cell_type": "markdown",
   "source": [
    "### 1.3. Get input materials\n",
    "Materials are loaded according to [README](../../README.ipynb)"
   ],
   "metadata": {
    "collapsed": false
   },
   "id": "1659a8e9afe434fb"
  },
  {
   "cell_type": "code",
   "outputs": [],
   "source": [
    "from utils.jupyterlite import get_materials\n",
    "\n",
    "materials = get_materials(globals())\n",
    "material = materials[26]"
   ],
   "metadata": {
    "collapsed": false
   },
   "id": "b588ccfe51967a86",
   "execution_count": null
  },
  {
   "cell_type": "markdown",
   "source": [
    "### 1.4. Preview the material"
   ],
   "metadata": {
    "collapsed": false
   },
   "id": "8c13970a869adfa9"
  },
  {
   "cell_type": "code",
   "outputs": [],
   "source": [
    "from utils.visualize import visualize_materials as visualize\n",
    "visualize(material, repetitions=[3, 3, 1], rotation=\"0x\")\n",
    "visualize(material, repetitions=[3, 3, 1], rotation=\"-90x\")"
   ],
   "metadata": {
    "collapsed": false
   },
   "id": "c4f6e2697f97965f",
   "execution_count": null
  },
  {
   "cell_type": "markdown",
   "source": [
    "## 2. Configure slab and select termination\n",
    "\n",
    "### 2.1. Create slab configuration\n",
    "Slab Configuration lets define the slab thickness, vacuum, and the Miller indices of the interfacial plane and get the slabs with possible terminations.\n"
   ],
   "metadata": {
    "collapsed": false
   },
   "id": "6634dae92a6c07b9"
  },
  {
   "cell_type": "code",
   "outputs": [],
   "source": [
    "from mat3ra.made.tools.build.slab import SlabConfiguration\n",
    "\n",
    "slab_configuration = SlabConfiguration(\n",
    "    bulk=material,\n",
    "    miller_indices=MILLER_INDICES,\n",
    "    thickness=THICKNESS, # in atomic layers\n",
    "    vacuum=VACUUM, # in angstroms\n",
    "    xy_supercell_matrix=XY_SUPERCELL_MATRIX,\n",
    "    use_orthogonal_z=USE_ORTHOGONAL_Z,\n",
    "    use_conventional_cell=USE_CONVENTIONAL_CELL,\n",
    ")"
   ],
   "metadata": {
    "collapsed": false
   },
   "id": "3ad6765249610aa4",
   "execution_count": null
  },
  {
   "cell_type": "markdown",
   "source": [
    "### 2.2. Get possible terminations for the slabs"
   ],
   "metadata": {
    "collapsed": false
   },
   "id": "afb4c9bb89c8690b"
  },
  {
   "cell_type": "code",
   "outputs": [],
   "source": [
    "from mat3ra.made.tools.build.slab import get_terminations\n",
    "slab_terminations = get_terminations(slab_configuration)"
   ],
   "metadata": {
    "collapsed": false
   },
   "id": "70bec9d69d58b28a",
   "execution_count": null
  },
  {
   "cell_type": "markdown",
   "source": [
    "### 2.3. Visualize slabs for all possible terminations"
   ],
   "metadata": {
    "collapsed": false
   },
   "id": "c6e2e18452972b21"
  },
  {
   "cell_type": "code",
   "outputs": [],
   "source": [
    "from mat3ra.made.tools.build.slab import create_slab\n",
    "\n",
    "slabs = [create_slab(slab_configuration, termination) for termination in slab_terminations]\n",
    "\n",
    "visualize([{\"material\":slab, \"title\": slab.metadata[\"build\"][\"termination\"]} for slab in slabs ], repetitions=[3, 3, 1], rotation=\"-90x\")"
   ],
   "metadata": {
    "collapsed": false
   },
   "id": "246cb1f0437dbde0",
   "execution_count": null
  },
  {
   "cell_type": "markdown",
   "source": [
    "### 2.4. Print terminations for the Slab"
   ],
   "metadata": {
    "collapsed": false
   },
   "id": "c06cd779e3b76a5f"
  },
  {
   "cell_type": "code",
   "outputs": [],
   "source": [
    "\n",
    "print(\"Terminations\")\n",
    "for idx, termination in enumerate(slab_terminations):\n",
    "    print(f\"    {idx}: {termination}\")"
   ],
   "metadata": {
    "collapsed": false
   },
   "id": "92bdfc42a0d8e0c",
   "execution_count": null
  },
  {
   "cell_type": "markdown",
   "source": [
    "### 2.5. Select termination for the Slab"
   ],
   "metadata": {
    "collapsed": false
   },
   "id": "51e59fdb80b92b2d"
  },
  {
   "cell_type": "code",
   "outputs": [],
   "source": [
    "from utils.io import ui_prompt_select_array_element_by_index, ui_prompt_select_array_element_by_index_pyodide\n",
    "\n",
    "termination_index = TERMINATION_INDEX\n",
    "\n",
    "termination = slab_terminations[termination_index]\n",
    "if IS_TERMINATIONS_SELECTION_INTERACTIVE:\n",
    "    if sys.platform == \"emscripten\":\n",
    "        termination = await ui_prompt_select_array_element_by_index_pyodide(slab_terminations, element_name=\"termination\")\n",
    "    else:\n",
    "        termination = ui_prompt_select_array_element_by_index(slab_terminations, element_name=\"termination\")"
   ],
   "metadata": {
    "collapsed": false
   },
   "id": "905e116e59b3e16e",
   "execution_count": null
  },
  {
   "cell_type": "markdown",
   "source": [
    "## 3. Create the slab with selected termination"
   ],
   "metadata": {
    "collapsed": false
   },
   "id": "143bc82b430b37d5"
  },
  {
   "cell_type": "code",
   "outputs": [],
   "source": [
    "from mat3ra.made.tools.build.slab import create_slab\n",
    "\n",
    "slab = create_slab(slab_configuration, termination)"
   ],
   "metadata": {
    "collapsed": false
   },
   "id": "aeeac03a236fe058",
   "execution_count": null
  },
  {
   "cell_type": "markdown",
   "source": [
    "## 4. Visualize the slab"
   ],
   "metadata": {
    "collapsed": false
   },
   "id": "301dd99ed1425f62"
  },
  {
   "cell_type": "code",
   "outputs": [],
   "source": [
    "visualize(slab, repetitions=[1, 1, 1], rotation=\"0x\")"
   ],
   "metadata": {
    "collapsed": false
   },
   "id": "19b8867953bc3f1b",
   "execution_count": null
  },
  {
   "cell_type": "markdown",
   "source": [
    "# 5. Pass material to the outside runtime"
   ],
   "metadata": {
    "collapsed": false
   },
   "id": "d667623ad5f2e061"
  },
  {
   "cell_type": "code",
   "outputs": [],
   "source": [
    "from utils.jupyterlite import set_materials\n",
    "set_materials(slab)"
   ],
   "metadata": {
    "collapsed": false
   },
   "id": "3705115f04ac0010",
   "execution_count": null
  }
 ],
 "metadata": {
  "kernelspec": {
   "display_name": "Python 3",
   "language": "python",
   "name": "python3"
  },
  "language_info": {
   "codemirror_mode": {
    "name": "ipython",
    "version": 2
   },
   "file_extension": ".py",
   "mimetype": "text/x-python",
   "name": "python",
   "nbconvert_exporter": "python",
   "pygments_lexer": "ipython2",
   "version": "2.7.6"
  }
 },
 "nbformat": 4,
 "nbformat_minor": 5
}
