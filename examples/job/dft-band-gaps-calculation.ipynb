version https://git-lfs.github.com/spec/v1
oid sha256:afc69ce7e7ea948ce8bdb359cd6cf0d0bd347c000bfe5b21d91ff2f0429dd900
size 24926
