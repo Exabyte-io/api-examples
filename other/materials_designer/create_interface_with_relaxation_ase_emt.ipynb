{
 "cells": [
  {
   "cell_type": "markdown",
   "metadata": {},
   "source": [
    "\n",
    "\n",
    "# Create an interface with ZSL and relax it using EMT potentials\n",
    "\n",
    "Use Zur and McGill superlattices matching [algorithm](https://doi.org/10.1063/1.3330840) to create interfaces between two materials with minimal strain and then relax the resulting interface using the EMT potentials.\n",
    "\n",
    "<h2 style=\"color:green\">Usage</h2>\n",
    "\n",
    "1. Make sure to select Input Materials (in the outer runtime) before running the notebook.\n",
    "1. Set notebook parameters in cell 1.1. below (or use the default values).\n",
    "1. Set slab parameters for the substrate and film in cell 2.1. (or use default).\n",
    "1. Set interface parameters in cell 3.1. (or use default).\n",
    "1. Click “Run” > “Run All” to run all cells. \n",
    "1. Wait for the run to complete (depending on the parameters can take a few min). \n",
    "1. Scroll down to view results. \n",
    "\n",
    "## Summary\n",
    "1. Prepare the Environment: Set up the notebook and install packages, preview the input materials\n",
    "1. Create substrate and film slabs and select the terminations\n",
    "1. Generate interfaces with strain matcher and plot strain vs number of atoms \n",
    "1. Select the interface with the desired strain and visualize it\n",
    "\n",
    "## Notes\n",
    "1. We perform strain matching on the slabs to extract the supercell dimensions. The algorithm has a set of parameters, such as the maximum area considered.\n",
    "1. When the strain matching is finished, the interface with the lowest strain (and the smallest number of atoms) is selected. \n",
    "1. ZSL strain matching is performed using Pymatgen [implementation](https://pymatgen.org/pymatgen.analysis.interfaces.html#pymatgen.analysis.interfaces.zsl).\n",
    "1. For more information, see [Introduction](Introduction.ipynb)\n",
    "<!-- # TODO: use a hashtag-based anchor link to interface creation documention above -->\n"
   ]
  },
  {
   "cell_type": "markdown",
   "source": [
    "## 1. Prepare the Environment\n",
    "### 1.1. Set up the notebook \n",
    "\n",
    "Set the following flags to control the notebook behavior "
   ],
   "metadata": {
    "collapsed": false
   }
  },
  {
   "cell_type": "code",
   "outputs": [],
   "source": [
    "# Enable interactive selection of terminations via UI prompt\n",
    "IS_TERMINATIONS_SELECTION_INTERACTIVE = False \n",
    "# Maximum area for the superlattice search algorithm\n",
    "MAX_AREA = 50"
   ],
   "metadata": {
    "collapsed": false
   }
  },
  {
   "cell_type": "markdown",
   "source": [
    "### 1.2. Install Packages\n",
    "The step executes only in Pyodide environment. For other environments, the packages should be installed via `pip install` (see [README](../../README.ipynb))."
   ],
   "metadata": {
    "collapsed": false
   }
  },
  {
   "cell_type": "code",
   "outputs": [],
   "source": [
    "import sys\n",
    "\n",
    "if sys.platform == \"emscripten\":\n",
    "    import micropip\n",
    "    await micropip.install('mat3ra-api-examples', deps=False)\n",
    "    from utils.jupyterlite import install_packages\n",
    "    await install_packages(\"create_interface_with_min_strain_zsl.ipynb\", \"../../config.yml\")"
   ],
   "metadata": {
    "collapsed": false,
    "is_executing": true
   },
   "execution_count": null
  },
  {
   "cell_type": "markdown",
   "source": [
    "### 1.3. Get input materials and assign `substrate` and `film`\n",
    "Materials are loaded with `get_data()`. The first material is assigned as substrate and the second as film."
   ],
   "metadata": {
    "collapsed": false
   }
  },
  {
   "cell_type": "code",
   "execution_count": null,
   "metadata": {},
   "outputs": [],
   "source": [
    "from mat3ra.made.material import Material\n",
    "from utils.jupyterlite import get_data\n",
    "\n",
    "# Get the list of input materials and load them into `materials_in` variable\n",
    "get_data(\"materials_in\", globals())\n",
    "materials = list(map(Material, globals()[\"materials_in\"]))\n",
    "substrate = materials[0]\n",
    "film = materials[1]"
   ]
  },
  {
   "cell_type": "markdown",
   "source": [
    "### 1.4. Preview Substrate and Film"
   ],
   "metadata": {
    "collapsed": false
   }
  },
  {
   "cell_type": "code",
   "execution_count": null,
   "metadata": {},
   "outputs": [],
   "source": [
    "from utils.visualize import visualize_materials as visualize\n",
    "visualize([substrate, film], repetitions=[3, 3, 1], rotation=\"0x\")"
   ]
  },
  {
   "cell_type": "markdown",
   "source": [
    "## 2. Configure slabs and select termination pair\n",
    "\n",
    "### 2.1. Create Substrate and Layer Slabs\n",
    "Slab Configuration lets define the slab thickness, vacuum, and the Miller indices of the interfacial plane and get the slabs with possible terminations.\n",
    "Define the substrate slab cell that will be used as a base for the interface and the film slab cell that will be placed on top of the substrate slab."
   ],
   "metadata": {
    "collapsed": false
   }
  },
  {
   "cell_type": "code",
   "outputs": [],
   "source": [
    "from mat3ra.made.tools.build.slab import SlabConfiguration, get_terminations, create_slab\n",
    "\n",
    "film_slab_configuration = SlabConfiguration(\n",
    "    bulk=film,\n",
    "    miller_indices=(0, 0, 1),\n",
    "    thickness=1, # in atomic layers\n",
    "    vacuum=0, # in atomic layers\n",
    "    xy_supercell_matrix=[[1, 0], [0, 1]],\n",
    "    use_orthogonal_z=True\n",
    ")\n",
    "\n",
    "substrate_slab_configuration = SlabConfiguration(\n",
    "    bulk=substrate,\n",
    "    miller_indices=(1,1,1),\n",
    "    thickness=3, # in atomic layers\n",
    "    vacuum=3, # in atomic layers\n",
    "    xy_supercell_matrix=[[1, 0], [0, 1]],\n",
    "    use_orthogonal_z=True\n",
    ")"
   ],
   "metadata": {
    "collapsed": false
   }
  },
  {
   "cell_type": "markdown",
   "source": [
    "### 2.2. Get possible terminations for the slabs"
   ],
   "metadata": {
    "collapsed": false
   }
  },
  {
   "cell_type": "code",
   "outputs": [],
   "source": [
    "film_slab_terminations = get_terminations(film_slab_configuration)\n",
    "substrate_slab_terminations = get_terminations(substrate_slab_configuration)"
   ],
   "metadata": {
    "collapsed": false
   }
  },
  {
   "cell_type": "markdown",
   "source": [
    "### 2.3. Visualize slabs for all possible terminations"
   ],
   "metadata": {
    "collapsed": false
   }
  },
  {
   "cell_type": "code",
   "outputs": [],
   "source": [
    "film_slabs = [create_slab(film_slab_configuration, termination) for termination in film_slab_terminations]\n",
    "substrate_slabs = [create_slab(substrate_slab_configuration, termination) for termination in substrate_slab_terminations]\n",
    "\n",
    "visualize([{\"material\":slab, \"title\": slab.metadata[\"termination\"]} for slab in film_slabs ], repetitions=[3, 3, 1], rotation=\"-90x\")\n",
    "visualize([{\"material\":slab, \"title\": slab.metadata[\"termination\"]} for slab in substrate_slabs ], repetitions=[3, 3, 1], rotation=\"-90x\")  "
   ],
   "metadata": {
    "collapsed": false
   }
  },
  {
   "cell_type": "markdown",
   "source": [
    "### 2.4. Print terminations for the interface"
   ],
   "metadata": {
    "collapsed": false
   }
  },
  {
   "cell_type": "code",
   "outputs": [],
   "source": [
    "from itertools import product\n",
    "\n",
    "termination_pairs = list(product(film_slab_terminations, substrate_slab_terminations))    \n",
    "print(\"Termination Pairs (Film, Substrate)\")\n",
    "for idx, termination_pair in enumerate(termination_pairs):\n",
    "    print(f\"    {idx}: {termination_pair}\")"
   ],
   "metadata": {
    "collapsed": false
   }
  },
  {
   "cell_type": "markdown",
   "source": [
    "### 2.5. Select termination pair for the interface"
   ],
   "metadata": {
    "collapsed": false
   }
  },
  {
   "cell_type": "code",
   "outputs": [],
   "source": [
    "from utils.io import ui_prompt_select_array_element_by_index, ui_prompt_select_array_element_by_index_pyodide\n",
    "\n",
    "# Set the termination pair indices\n",
    "TERMINATION_PAIR_INDEX = 0\n",
    "\n",
    "termination_pair = termination_pairs[TERMINATION_PAIR_INDEX]\n",
    "if IS_TERMINATIONS_SELECTION_INTERACTIVE:\n",
    "    if sys.platform == \"emscripten\":\n",
    "        termination_pair = await ui_prompt_select_array_element_by_index_pyodide(termination_pairs, element_name=\"film/substrate termination pair\")\n",
    "    else:\n",
    "        termination_pair = ui_prompt_select_array_element_by_index(termination_pairs, element_name=\"film/substrate termination pair\")"
   ],
   "metadata": {
    "collapsed": false
   }
  },
  {
   "cell_type": "markdown",
   "source": [
    "## 3. Create interfaces\n",
    "\n",
    "### 3.1. Initialize the Interface Configuration"
   ],
   "metadata": {
    "collapsed": false
   }
  },
  {
   "cell_type": "code",
   "outputs": [],
   "source": [
    "from mat3ra.made.tools.build.interface import InterfaceConfiguration\n",
    "\n",
    "film_termination, substrate_termination = termination_pair\n",
    "interface_configuration = InterfaceConfiguration(\n",
    "    film_configuration=film_slab_configuration,\n",
    "    substrate_configuration=substrate_slab_configuration,\n",
    "    film_termination=film_termination,\n",
    "    substrate_termination=substrate_termination,\n",
    "    distance=3.0 # in Angstrom\n",
    ")"
   ],
   "metadata": {
    "collapsed": false
   }
  },
  {
   "cell_type": "markdown",
   "source": [
    "### 3.2. Set Strain Matching Algorithm Parameters (Optional)\n",
    "The search algorithm for supercells matching can be tuned by setting its parameters directly, otherwise the default values are used."
   ],
   "metadata": {
    "collapsed": false
   }
  },
  {
   "cell_type": "code",
   "outputs": [],
   "source": [
    "from mat3ra.made.tools.build.interface import ZSLStrainMatchingParameters\n",
    "zsl_strain_matching_parameters = ZSLStrainMatchingParameters(\n",
    "    max_area=MAX_AREA\n",
    ")"
   ],
   "metadata": {
    "collapsed": false
   }
  },
  {
   "cell_type": "markdown",
   "source": [
    "### 3.3. Generate interfaces with strain matcher\n",
    "Interfaces are sorted by size and strain."
   ],
   "metadata": {
    "collapsed": false
   }
  },
  {
   "cell_type": "code",
   "outputs": [],
   "source": [
    "from mat3ra.made.tools.build.interface import ZSLStrainMatchingInterfaceBuilder, ZSLStrainMatchingInterfaceBuilderParameters\n",
    "\n",
    "matched_interfaces_builder = ZSLStrainMatchingInterfaceBuilder(build_parameters=ZSLStrainMatchingInterfaceBuilderParameters(strain_matching_parameters=zsl_strain_matching_parameters))\n",
    "\n",
    "interfaces_sorted_by_size_and_strain= matched_interfaces_builder.get_materials(configuration=interface_configuration)"
   ],
   "metadata": {
    "collapsed": false
   }
  },
  {
   "cell_type": "markdown",
   "source": [
    "### 3.4. Plot interfaces by size and strain\n"
   ],
   "metadata": {
    "collapsed": false
   }
  },
  {
   "cell_type": "code",
   "outputs": [],
   "source": [
    "from utils.plot import plot_strain_vs_atoms\n",
    "\n",
    "PLOT_SETTINGS = {\n",
    "    \"HEIGHT\": 600,\n",
    "    \"X_SCALE\": \"log\",  # or linear\n",
    "    \"Y_SCALE\": \"log\",  # or linear\n",
    "}\n",
    "\n",
    "plot_strain_vs_atoms(interfaces_sorted_by_size_and_strain, PLOT_SETTINGS)"
   ],
   "metadata": {
    "collapsed": false
   },
   "execution_count": 0
  },
  {
   "cell_type": "markdown",
   "source": [
    "### 3.5. Select the interface to relax\n",
    "\n",
    "Select the index for the interface with the lowest strain and the smallest number of atoms."
   ],
   "metadata": {
    "collapsed": false
   }
  },
  {
   "cell_type": "code",
   "outputs": [],
   "source": [
    "# select the first interface with the lowest strain and the smallest number of atoms\n",
    "interface_index = 0\n",
    "selected_interfaces = interfaces_sorted_by_size_and_strain[interface_index]"
   ],
   "metadata": {
    "collapsed": false
   },
   "execution_count": 0
  },
  {
   "cell_type": "markdown",
   "source": [
    "## 4. Preview the selected material"
   ],
   "metadata": {
    "collapsed": false
   }
  },
  {
   "cell_type": "code",
   "outputs": [],
   "source": [
    "visualize(selected_interfaces, repetitions=[3, 3, 1])\n",
    "visualize(selected_interfaces, repetitions=[3, 3, 1], rotation=\"-90x\")"
   ],
   "metadata": {
    "collapsed": false
   },
   "execution_count": 0
  },
  {
   "cell_type": "markdown",
   "source": [
    "## 5. Perform Relaxation\n",
    "### 5.1. Set Relaxation Parameters"
   ],
   "metadata": {
    "collapsed": false
   }
  },
  {
   "cell_type": "code",
   "outputs": [],
   "source": [
    "RELAXATION_PARAMETERS = {\n",
    "    \"FMAX\": 0.018,\n",
    "}\n",
    "\n",
    "from mat3ra.made.tools.modify import RelaxationSettings, CalculatorEnum, OptimizerEnum\n",
    "relaxation_settings = RelaxationSettings()\n",
    "\n",
    "relaxation_settings.optimizer = OptimizerEnum.BFGS\n",
    "relaxation_settings.calculator = CalculatorEnum.EMT\n",
    "relaxation_settings.fmax = 0.05"
   ],
   "metadata": {
    "collapsed": false
   },
   "execution_count": null
  },
  {
   "cell_type": "markdown",
   "metadata": {},
   "source": [
    "### 5.2. Apply relaxation to the selected interface"
   ]
  },
  {
   "cell_type": "code",
   "outputs": [],
   "source": [
    "from utils.plot import create_realtime_plot, update_plot\n",
    "\n",
    "from mat3ra.made.tools.modify import relax_atoms\n",
    "from mat3ra.made.tools.convert import to_ase\n",
    "\n",
    "final_interface = relax_atoms(Material(interface), relaxation_settings)\n",
    "\n",
    "f = create_realtime_plot()\n",
    "steps = []\n",
    "energies = []\n",
    "update_plot(f, steps, energies)\n",
    "\n",
    "visualize(final_interface, repetitions=[1, 1, 1], rotation=\"0x\")"
   ],
   "metadata": {
    "collapsed": false
   },
   "execution_count": null
  },
  {
   "cell_type": "code",
   "execution_count": null,
   "metadata": {},
   "outputs": [],
   "source": [
    "import plotly.graph_objs as go\n",
    "from IPython.display import display\n",
    "from plotly.subplots import make_subplots\n",
    "from src.utils import ase_to_poscar, pymatgen_to_ase\n",
    "from ase.optimize import BFGS\n",
    "from ase.calculators.emt import EMT\n",
    "\n",
    "\n",
    "# Set up the calculator \n",
    "calculator = EMT()\n",
    "print(calculator)\n",
    "\n",
    "# Set up the interface for relaxation\n",
    "ase_interface = to_ase(interface)\n",
    "print(ase_interface)\n",
    "ase_interface.set_calculator(calculator)\n",
    "print(ase_interface)\n",
    "dyn = BFGS(ase_interface)\n",
    "\n"
   ]
  },
  {
   "cell_type": "code",
   "outputs": [],
   "source": [
    "# Initialize empty lists to store steps and energies\n",
    "steps = []\n",
    "energies = []\n",
    "\n",
    "# Create a plotly figure widget\n",
    "fig = make_subplots(rows=1, cols=1, specs=[[{\"type\": \"scatter\"}]])\n",
    "scatter = go.Scatter(x=[], y=[], mode='lines+markers', name='Energy')\n",
    "fig.add_trace(scatter)\n",
    "fig.update_layout(title_text='Real-time Optimization Progress', xaxis_title='Step', yaxis_title='Energy (eV)')\n",
    "\n",
    "# Display figure widget\n",
    "f = go.FigureWidget(fig)\n",
    "display(f)\n",
    "\n",
    "\n",
    "# Define a callback function to update the plot at each step\n",
    "def plotly_callback():\n",
    "    step = dyn.nsteps\n",
    "    energy = ase_interface.get_total_energy()\n",
    "\n",
    "    # Add the new step and energy to the lists\n",
    "    steps.append(step)\n",
    "    energies.append(energy)\n",
    "\n",
    "    print(f\"Step: {step}, Energy: {energy:.4f} eV\")\n",
    "\n",
    "    # Update the figure with the new data\n",
    "    with f.batch_update():\n",
    "        f.data[0].x = steps\n",
    "        f.data[0].y = energies\n",
    "\n",
    "\n",
    "# Run the relaxation\n",
    "dyn.attach(plotly_callback, interval=1)\n",
    "dyn.run(fmax=RELAXATION_PARAMETERS[\"FMAX\"])\n",
    "\n",
    "# Extract results\n",
    "ase_original_interface = pymatgen_to_ase(interface)\n",
    "ase_original_interface.set_calculator(calculator)\n",
    "ase_final_interface = ase_interface\n",
    "\n",
    "original_energy = ase_original_interface.get_total_energy()\n",
    "relaxed_energy = ase_interface.get_total_energy()\n",
    "\n",
    "# Print out the final relaxed structure and energy\n",
    "print('Original structure:\\n', ase_to_poscar(ase_original_interface))\n",
    "print('\\nRelaxed structure:\\n', ase_to_poscar(ase_final_interface))\n",
    "print(f\"The final energy is {float(relaxed_energy):.3f} eV.\")"
   ],
   "metadata": {
    "collapsed": false
   },
   "execution_count": null
  },
  {
   "cell_type": "markdown",
   "metadata": {},
   "source": [
    "### 7.2. View structure before and after relaxation"
   ]
  },
  {
   "cell_type": "code",
   "execution_count": null,
   "metadata": {},
   "outputs": [],
   "source": [
    "import base64\n",
    "from ase.io import write\n",
    "from ase.build import make_supercell\n",
    "from IPython.display import HTML\n",
    "import io\n",
    "\n",
    "\n",
    "def visualize_material_base64(material, title: str, rotation: str = '0x', number_of_repetitions: int = 3):\n",
    "    \"\"\"\n",
    "    Returns an HTML string with a Base64-encoded image for visualization,\n",
    "    including the name of the file, positioned horizontally.\n",
    "    \"\"\"\n",
    "    # Set the number of unit cell repetition for the structure\n",
    "    n = number_of_repetitions\n",
    "    material_repeat = make_supercell(material, [[n, 0, 0], [0, n, 0], [0, 0, 1]])\n",
    "    text = f\"{material.symbols} - {title}\"\n",
    "\n",
    "    # Write image to a buffer to display in HTML\n",
    "    buf = io.BytesIO()\n",
    "    write(buf, material_repeat, format='png', rotation=rotation)\n",
    "    buf.seek(0)\n",
    "    img_str = base64.b64encode(buf.read()).decode('utf-8')\n",
    "    html_str = f'''\n",
    "    <div style=\"display: inline-block; margin: 10px; vertical-align: top;\">\n",
    "        <p>{text}</p>\n",
    "        <img src=\"data:image/png;base64,{img_str}\" alt=\"{title}\" />\n",
    "    </div>\n",
    "    '''\n",
    "    return html_str\n",
    "\n",
    "\n",
    "html_original = visualize_material_base64(ase_original_interface, \"original\", \"-90x\")\n",
    "html_relaxed = visualize_material_base64(ase_final_interface, \"relaxed\", \"-90x\")\n",
    "\n",
    "# Display the interfaces before and after relaxation\n",
    "html_content = f'<div style=\"display: flex;\">{html_original}{html_relaxed}</div>'\n",
    "display(HTML(html_content))\n",
    "\n"
   ]
  },
  {
   "cell_type": "markdown",
   "metadata": {},
   "source": [
    "### 7.3. Calculate energy energy using ASE EMT"
   ]
  },
  {
   "cell_type": "code",
   "execution_count": null,
   "metadata": {},
   "outputs": [],
   "source": [
    "def filter_atoms_by_tag(atoms, material_index):\n",
    "    \"\"\"Filter atoms by their tag, corresponding to the material index.\"\"\"\n",
    "    return atoms[atoms.get_tags() == material_index]\n",
    "\n",
    "\n",
    "def calculate_energy(atoms, calculator):\n",
    "    \"\"\"Set calculator for atoms and return their total energy.\"\"\"\n",
    "    atoms.set_calculator(calculator)\n",
    "    return atoms.get_total_energy()\n",
    "\n",
    "\n",
    "def calculate_delta_energy(total_energy, *component_energies):\n",
    "    \"\"\"Calculate the delta energy by subtracting component energies from the total energy.\"\"\"\n",
    "    return total_energy - sum(component_energies)\n",
    "\n",
    "\n",
    "# Filter atoms for original and relaxed interfaces\n",
    "substrate_original_interface = filter_atoms_by_tag(ase_original_interface, SUBSTRATE_PARAMETERS[\"MATERIAL_INDEX\"])\n",
    "layer_original_interface = filter_atoms_by_tag(ase_original_interface, LAYER_PARAMETERS[\"MATERIAL_INDEX\"])\n",
    "substrate_relaxed_interface = filter_atoms_by_tag(ase_final_interface, SUBSTRATE_PARAMETERS[\"MATERIAL_INDEX\"])\n",
    "layer_relaxed_interface = filter_atoms_by_tag(ase_final_interface, LAYER_PARAMETERS[\"MATERIAL_INDEX\"])\n",
    "\n",
    "# Calculate energies\n",
    "original_substrate_energy = calculate_energy(substrate_original_interface, calculator)\n",
    "original_layer_energy = calculate_energy(layer_original_interface, calculator)\n",
    "relaxed_substrate_energy = calculate_energy(substrate_relaxed_interface, calculator)\n",
    "relaxed_layer_energy = calculate_energy(layer_relaxed_interface, calculator)\n",
    "\n",
    "# Calculate delta energies\n",
    "delta_original = calculate_delta_energy(original_energy, original_substrate_energy, original_layer_energy)\n",
    "delta_relaxed = calculate_delta_energy(relaxed_energy, relaxed_substrate_energy, relaxed_layer_energy)\n",
    "\n",
    "# Calculate area and effective delta per area\n",
    "area = ase_original_interface.get_volume() / ase_original_interface.cell[2, 2]\n",
    "number_of_interface_atoms = ase_final_interface.get_global_number_of_atoms()\n",
    "number_of_substrate_atoms = substrate_relaxed_interface.get_global_number_of_atoms()\n",
    "number_of_layer_atoms = layer_relaxed_interface.get_global_number_of_atoms()\n",
    "effective_delta_relaxed = (relaxed_energy/number_of_interface_atoms - (relaxed_substrate_energy/number_of_substrate_atoms + relaxed_layer_energy/number_of_layer_atoms)) / (2 * area)\n",
    "\n",
    "# Print out the metrics\n",
    "print(f\"Original Substrate energy: {original_substrate_energy:.4f} eV\")\n",
    "print(f\"Relaxed Substrate energy: {relaxed_substrate_energy:.4f} eV\")\n",
    "print(f\"Original Layer energy: {original_layer_energy:.4f} eV\")\n",
    "print(f\"Relaxed Layer energy: {relaxed_layer_energy:.4f} eV\")\n",
    "print(\"\\nDelta between interface energy and sum of component energies\")\n",
    "print(f\"Original Delta: {delta_original:.4f} eV\")\n",
    "print(f\"Relaxed Delta: {delta_relaxed:.4f} eV\")\n",
    "print(f\"Original Delta per area: {delta_original / area:.4f} eV/Ang^2\")\n",
    "print(f\"Relaxed Delta per area: {delta_relaxed / area:.4f} eV/Ang^2\")\n",
    "print(f\"Relaxed interface energy: {relaxed_energy:.4f} eV\")\n",
    "print(f\"Effective relaxed Delta per area: {effective_delta_relaxed:.4f} eV/Ang^2 ({effective_delta_relaxed / 0.16:.4f} J/m^2)\\n\")\n",
    "\n",
    "# Print out the POSCARs\n",
    "print(\"Relaxed interface:\\n\", ase_to_poscar(ase_final_interface))\n",
    "print(\"Relaxed substrate:\\n\", ase_to_poscar(substrate_relaxed_interface))\n",
    "print(\"Relaxed layer:\\n\", ase_to_poscar(layer_relaxed_interface))"
   ]
  },
  {
   "cell_type": "code",
   "outputs": [],
   "source": [],
   "metadata": {
    "collapsed": false
   }
  }
 ],
 "metadata": {
  "kernelspec": {
   "display_name": ".venv",
   "language": "python",
   "name": "python3"
  },
  "language_info": {
   "codemirror_mode": {
    "name": "ipython",
    "version": 3
   },
   "file_extension": ".py",
   "mimetype": "text/x-python",
   "name": "python",
   "nbconvert_exporter": "python",
   "pygments_lexer": "ipython3",
   "version": "3.10.12"
  },
  "widgets": {
   "application/vnd.jupyter.widget-state+json": {
    "state": {},
    "version_major": 2,
    "version_minor": 0
   }
  }
 },
 "nbformat": 4,
 "nbformat_minor": 4
}
