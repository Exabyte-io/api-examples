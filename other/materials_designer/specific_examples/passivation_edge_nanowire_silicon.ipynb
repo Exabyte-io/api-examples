{
 "cells": [
  {
   "cell_type": "markdown",
   "id": "0",
   "metadata": {},
   "source": [
    "# Passivation of Silicon Nanowire\n",
    "\n",
    "## 0. Introduction.\n",
    "\n",
    "In this notebook, we will demonstrate how to passivate a Silicon Nanowire using the Coordination Based Passivation Builder. The passivation is based on the coordination number of the atoms in the material. The passivation builder will saturate the bonds of the atoms with a coordination number below a certain threshold. The threshold can be set interactively or manually.\n",
    "Following the publication:\n",
    "\n",
    "> **B. Aradi, L. E. Ramos, P. Deák, Th. Köhler, F. Bechstedt, R. Q. Zhang, and Th. Frauenheim**,\n",
    "> Theoretical study of the chemical gap tuning in silicon nanowires\n",
    "> Phys. Rev. B 76, 035305 (2007)\n",
    "> DOI: [10.1103/PhysRevB.76.035305](https://doi.org/10.1103/PhysRevB.76.035305)\n",
    "\n",
    "\n",
    "This notebook will focus on recreating the material from Fig. 1. (Silicon nanowire passivated with hydrogen):\n",
    "\n",
    "<img src=\"https://github.com/Exabyte-io/documentation/raw/12617167278ae3523adc028583b21ea4e8ebd197/images/tutorials/materials/passivation/passivation_edge_nanowire_silicon/0-figure-from-manuscript.webp\" alt=\"Silicon Nanowire Passivated with Hydrogen\" width=\"400\"/>"
   ]
  },
  {
   "cell_type": "markdown",
   "id": "1",
   "metadata": {},
   "source": [
    "## 1. Prepare the environment\n",
    "### 1.1. Set up the notebook"
   ]
  },
  {
   "cell_type": "code",
   "execution_count": null,
   "id": "2",
   "metadata": {},
   "outputs": [],
   "source": [
    "# Enable interactive selection of coordination threshold\n",
    "IS_COORDINATION_SELECTION_INTERACTIVE = False\n",
    "\n",
    "BOND_LENGTH = 1.46  # in Angstroms\n",
    "PASSIVANT = \"H\"  # Chemical symbol of the passivant\n",
    "COORDINATION_SEARCH_RADIUS = 2.5  # in Angstroms (sphere in which to search for neighbors)\n",
    "COORDINATION_THRESHOLD = 3  # Coordination number below which to passivate\n",
    "MAX_BONDS_TO_SATURATE = 2  # Maximum number of bonds to saturate"
   ]
  },
  {
   "cell_type": "markdown",
   "id": "3",
   "metadata": {},
   "source": [
    " ### 1.2. Install packages\n",
    "The step executes only in Pyodide environment. For other environments, the packages should be installed via `pip install` (see [README](../../README.ipynb))."
   ]
  },
  {
   "cell_type": "code",
   "execution_count": null,
   "id": "4",
   "metadata": {},
   "outputs": [],
   "source": [
    "import sys\n",
    "\n",
    "if sys.platform == \"emscripten\":\n",
    "    import micropip\n",
    "\n",
    "    await micropip.install(\"mat3ra-api-examples\", deps=False)\n",
    "    await micropip.install('mat3ra-utils')\n",
    "    from mat3ra.utils.jupyterlite.packages import install_packages\n",
    "\n",
    "    await install_packages(\"specific_examples\")"
   ]
  },
  {
   "cell_type": "markdown",
   "id": "5",
   "metadata": {},
   "source": [
    "## 2. Create the Silicon Nanowire\n",
    "### 2.1. Get input material\n",
    "Import the Silicon from Standata"
   ]
  },
  {
   "cell_type": "code",
   "execution_count": null,
   "id": "6",
   "metadata": {},
   "outputs": [],
   "source": [
    "from mat3ra.standata.materials import Materials\n",
    "from mat3ra.made.material import Material\n",
    "\n",
    "silicon = Material.create(Materials.get_by_name_first_match('Silicon'))"
   ]
  },
  {
   "cell_type": "markdown",
   "id": "7",
   "metadata": {},
   "source": [
    "### 2.2. Create a silicon nanowire\n",
    "Nanowire is cut from a slab of Silicon with a box filter, crystal is rotated at an angle to allow for precise cut."
   ]
  },
  {
   "cell_type": "code",
   "execution_count": null,
   "id": "8",
   "metadata": {},
   "outputs": [],
   "source": [
    "from mat3ra.made.tools.operations.core.unary import rotate\n",
    "from mat3ra.made.tools.modify import filter_by_box, add_vacuum_sides, translate_to_center\n",
    "from mat3ra.made.tools.helpers import create_slab\n",
    "\n",
    "silicon_slab = create_slab(\n",
    "    crystal=silicon, \n",
    "    miller_indices=(1, 1, 0), \n",
    "    number_of_layers=2, \n",
    "    vacuum=0, \n",
    "    use_orthogonal_c=True,\n",
    "    xy_supercell_matrix=[[3, 0], [0, 2]]\n",
    ")\n",
    "\n",
    "angle = 50\n",
    "silicon_slab = translate_to_center(silicon_slab)\n",
    "rotated_slab = rotate(silicon_slab, \"z\", -angle)\n",
    "silicon_nanowire = filter_by_box(rotated_slab, [0.25, 0.2, 0], [0.85, 0.87, 1])\n",
    "\n",
    "# visualize_materials([{\"material\": rotated_slab},{\"material\": silicon_nanowire}, {\"material\": silicon_nanowire, \"rotation\": \"-90x\"}])\n",
    "nanowire_xy_pbc = rotate(silicon_nanowire, \"z\", 90+angle)\n",
    "nanowire_xy_pbc = add_vacuum_sides(nanowire_xy_pbc, 10.0, on_x=True, on_y=True)"
   ]
  },
  {
   "cell_type": "markdown",
   "id": "9",
   "metadata": {},
   "source": [
    "### 2.3. Visualize the Material"
   ]
  },
  {
   "cell_type": "code",
   "execution_count": null,
   "id": "10",
   "metadata": {},
   "outputs": [],
   "source": [
    "from utils.visualize import visualize_materials\n",
    "\n",
    "visualize_materials([{\"material\": nanowire_xy_pbc}, {\"material\": nanowire_xy_pbc, \"rotation\": \"-90x\"}])"
   ]
  },
  {
   "cell_type": "markdown",
   "id": "11",
   "metadata": {},
   "source": [
    "### 2.4. Compute the radial distribution function (RDF) of the Material"
   ]
  },
  {
   "cell_type": "code",
   "execution_count": null,
   "id": "12",
   "metadata": {},
   "outputs": [],
   "source": [
    "from utils.plot import plot_rdf\n",
    "\n",
    "plot_rdf(nanowire_xy_pbc, cutoff=10.0)"
   ]
  },
  {
   "cell_type": "markdown",
   "id": "13",
   "metadata": {},
   "source": [
    "## 3. Create passivated material\n",
    "### 3.1. Set the passivation parameters including the coordination threshold"
   ]
  },
  {
   "cell_type": "code",
   "execution_count": null,
   "id": "14",
   "metadata": {},
   "outputs": [],
   "source": [
    "from utils.io import select_coordination_threshold\n",
    "from mat3ra.made.tools.helpers import get_unique_coordination_numbers\n",
    "\n",
    "coordination_numbers = get_unique_coordination_numbers(material = nanowire_xy_pbc,  cutoff=10.0)\n",
    "\n",
    "print(f\"Unique coordination numbers: {coordination_numbers}\")\n",
    "\n",
    "coordination_threshold = COORDINATION_THRESHOLD\n",
    "if IS_COORDINATION_SELECTION_INTERACTIVE:\n",
    "    coordination_threshold = await select_coordination_threshold(coordination_numbers, COORDINATION_THRESHOLD)"
   ]
  },
  {
   "cell_type": "markdown",
   "id": "15",
   "metadata": {},
   "source": [
    "### 3.2. Create the passivated material"
   ]
  },
  {
   "cell_type": "code",
   "execution_count": null,
   "id": "16",
   "metadata": {},
   "outputs": [],
   "source": [
    "from mat3ra.made.tools.helpers import passivate_dangling_bonds\n",
    "\n",
    "passivated_nanowire = passivate_dangling_bonds(\n",
    "    material=nanowire_xy_pbc,\n",
    "    bond_length=BOND_LENGTH,\n",
    "    passivant=PASSIVANT,\n",
    "    shadowing_radius=COORDINATION_SEARCH_RADIUS,\n",
    "    coordination_threshold=coordination_threshold,\n",
    "    number_of_bonds_to_passivate=MAX_BONDS_TO_SATURATE,\n",
    ")"
   ]
  },
  {
   "cell_type": "markdown",
   "id": "17",
   "metadata": {},
   "source": [
    "## 4. Preview the Material"
   ]
  },
  {
   "cell_type": "code",
   "execution_count": null,
   "id": "18",
   "metadata": {},
   "outputs": [],
   "source": [
    "visualize_materials(passivated_nanowire, viewer=\"wave\")"
   ]
  },
  {
   "cell_type": "markdown",
   "id": "19",
   "metadata": {},
   "source": [
    "## 5. Download the Material"
   ]
  },
  {
   "cell_type": "code",
   "execution_count": null,
   "id": "20",
   "metadata": {},
   "outputs": [],
   "source": [
    "from utils.jupyterlite import download_content_to_file, set_materials\n",
    "\n",
    "passivated_nanowire.name = \"H-Passivated Silicon Nanowire\"\n",
    "set_materials(passivated_nanowire)\n",
    "download_content_to_file(passivated_nanowire.to_json(), \"passivated_nanowire.json\")"
   ]
  }
 ],
 "metadata": {
  "kernelspec": {
   "display_name": "Python 3",
   "language": "python",
   "name": "python3"
  },
  "language_info": {
   "codemirror_mode": {
    "name": "ipython",
    "version": 2
   },
   "file_extension": ".py",
   "mimetype": "text/x-python",
   "name": "python",
   "nbconvert_exporter": "python",
   "pygments_lexer": "ipython2",
   "version": "2.7.6"
  }
 },
 "nbformat": 4,
 "nbformat_minor": 5
}
