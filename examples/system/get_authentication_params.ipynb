{
 "cells": [
  {
   "attachments": {},
   "cell_type": "markdown",
   "metadata": {},
   "source": [
    "<a href=\"https://colab.research.google.com/github/Exabyte-io/api-examples/blob/dev/examples/system/get_authentication_params.ipynb\" target=\"_parent\">\n",
    "<img alt=\"Open in Google Colab\" src=\"https://user-images.githubusercontent.com/20477508/128780728-491fea90-9b23-495f-a091-11681150db37.jpeg\" width=\"150\" border=\"0\">\n",
    "</a>"
   ]
  },
  {
   "attachments": {},
   "cell_type": "markdown",
   "metadata": {},
   "source": [
    "# Execution\n",
    "\n",
    "> <span style=\"color: orange\">**NOTE**</span>: In order to run this example, an active Exabyte.io account is required."
   ]
  },
  {
   "cell_type": "code",
   "execution_count": null,
   "metadata": {},
   "outputs": [],
   "source": [
    "import os"
   ]
  },
  {
   "attachments": {},
   "cell_type": "markdown",
   "metadata": {},
   "source": [
    "## Set Parameters\n",
    "\n",
    "- **USERNAME**: Your Exabyte account username.\n",
    "\n",
    "- **PASSWORD**: Your Exabyte account password."
   ]
  },
  {
   "cell_type": "code",
   "execution_count": null,
   "metadata": {
    "jupyter": {
     "source_hidden": true
    },
    "tags": []
   },
   "outputs": [],
   "source": [
    "import ipywidgets as widgets\n",
    "username_f = widgets.Textarea(description=\"USERNAME\", value=\"\")\n",
    "password_f = widgets.Textarea(description=\"PASSWORD\", value=\"\")\n",
    "mp_f       = widgets.Textarea(description=\"MATERIALS_PROJECT_API_KEY\", value=\"MATERIALS_PROJECT_API_KEY\")\n",
    "org_f      = widgets.Textarea(description=\"ORGANIZATION_ID\", value=\"ORGANIZATION_ID\")\n",
    "\n",
    "\n",
    "display(username_f, password_f, mp_f, org_f)"
   ]
  },
  {
   "cell_type": "code",
   "execution_count": null,
   "metadata": {
    "jupyter": {
     "source_hidden": true
    },
    "tags": []
   },
   "outputs": [],
   "source": [
    "USERNAME = username_f.value\n",
    "PASSWORD = password_f.value\n",
    "MATERIALS_PROJECT_API_KEY = mp_f.value\n",
    "ORGANIZATION_ID = org_f.value"
   ]
  },
  {
   "attachments": {},
   "cell_type": "markdown",
   "metadata": {},
   "source": [
    "## Import packages"
   ]
  },
  {
   "cell_type": "code",
   "execution_count": null,
   "metadata": {},
   "outputs": [],
   "source": [
    "%run -i ../settings.py\n",
    "# %run -i utils/generic.py\n",
    "\n",
    "from exabyte_api_client.endpoints.login import LoginEndpoint"
   ]
  },
  {
   "attachments": {},
   "cell_type": "markdown",
   "metadata": {},
   "source": [
    "## Initialize the endpoint"
   ]
  },
  {
   "cell_type": "code",
   "execution_count": null,
   "metadata": {},
   "outputs": [],
   "source": [
    "endpoint = LoginEndpoint(HOST, PORT, USERNAME, PASSWORD, VERSION, SECURE)\n",
    "auth_params = endpoint.login()"
   ]
  },
  {
   "attachments": {},
   "cell_type": "markdown",
   "metadata": {},
   "source": [
    "## Print authentication parameters\n",
    "\n",
    "Print the authentication parameters in pretty JSON below. Update [settings](../settings.py) with this parameters to be able to run other examples."
   ]
  },
  {
   "cell_type": "code",
   "execution_count": null,
   "metadata": {
    "pycharm": {
     "name": "#%%\n"
    }
   },
   "outputs": [],
   "source": [
    "print(auth_params)"
   ]
  },
  {
   "cell_type": "code",
   "execution_count": null,
   "metadata": {},
   "outputs": [],
   "source": [
    "ACCOUNT_ID = auth_params[\"X-Account-Id\"]\n",
    "AUTH_TOKEN = auth_params[\"X-Auth-Token\"]\n",
    "\n",
    "os.environ.update({\n",
    "    \"ACCOUNT_ID\": ACCOUNT_ID,\n",
    "    \"AUTH_TOKEN\": AUTH_TOKEN,\n",
    "    \"MATERIALS_PROJECT_API_KEY\": MATERIALS_PROJECT_API_KEY,\n",
    "    \"ORGANIZATION_ID\": ORGANIZATION_ID,\n",
    "})"
   ]
  },
  {
   "cell_type": "code",
   "execution_count": null,
   "metadata": {},
   "outputs": [],
   "source": [
    "os.environ"
   ]
  },
  {
   "cell_type": "code",
   "execution_count": null,
   "metadata": {},
   "outputs": [],
   "source": []
  }
 ],
 "metadata": {
  "kernelspec": {
   "display_name": "Python 3 (ipykernel)",
   "language": "python",
   "name": "python3"
  },
  "language_info": {
   "codemirror_mode": {
    "name": "ipython",
    "version": 3
   },
   "file_extension": ".py",
   "mimetype": "text/x-python",
   "name": "python",
   "nbconvert_exporter": "python",
   "pygments_lexer": "ipython3",
   "version": "3.8.16"
  }
 },
 "nbformat": 4,
 "nbformat_minor": 4
}
