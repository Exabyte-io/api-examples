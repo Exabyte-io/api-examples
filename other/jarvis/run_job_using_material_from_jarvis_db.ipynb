{
 "cells": [
  {
   "cell_type": "markdown",
   "id": "0",
   "metadata": {},
   "source": [
    "<a href=\"https://colab.research.google.com/github/Exabyte-io/api-examples/blob/dev/other/jarvis/run_job_using_material_from_jarvis_db.ipynb\" target=\"_parent\">\n",
    "<img alt=\"Open in Google Colab\" src=\"https://user-images.githubusercontent.com/20477508/128780728-491fea90-9b23-495f-a091-11681150db37.jpeg\" width=\"150\" border=\"0\">\n",
    "</a>"
   ]
  },
  {
   "cell_type": "markdown",
   "id": "1",
   "metadata": {},
   "source": [
    "## Install Packages\n",
    "First, install `express-py` which includes `jarvis-tools` as dependency."
   ]
  },
  {
   "cell_type": "code",
   "execution_count": null,
   "id": "2",
   "metadata": {},
   "outputs": [],
   "source": [
    "!pip install express-py==2024.1.25.post7"
   ]
  },
  {
   "cell_type": "markdown",
   "id": "3",
   "metadata": {},
   "source": [
    "## Get Materials Data From JARVIS\n",
    "Then, let\"s get the dataset containing 2D materials from JARVIS and wrap it into a pandas dataframe."
   ]
  },
  {
   "cell_type": "code",
   "execution_count": null,
   "id": "4",
   "metadata": {},
   "outputs": [],
   "source": [
    "import pandas as pd\n",
    "from jarvis.db.figshare import data, get_jid_data\n",
    "\n",
    "dft_2d = data(\"dft_2d\")\n",
    "df = pd.DataFrame(dft_2d)"
   ]
  },
  {
   "cell_type": "markdown",
   "id": "5",
   "metadata": {},
   "source": [
    "## Create a simple heterostructure\n",
    "\n",
    "We use two material ids and place them one above another."
   ]
  },
  {
   "cell_type": "code",
   "execution_count": null,
   "id": "6",
   "metadata": {
    "pycharm": {
     "name": "#%%\n"
    }
   },
   "outputs": [],
   "source": [
    "from jarvis.core.atoms import Atoms\n",
    "from jarvis.analysis.interface.zur import make_interface\n",
    "\n",
    "## Note: JVASP-670 is an entry for MoTe2\n",
    "jid1 = \"JVASP-670\"\n",
    "jid2 =\"JVASP-664\"\n",
    "\n",
    "for i in dft_2d:\n",
    " if i[\"jid\"] == jid1:\n",
    "  atoms1 = Atoms.from_dict(i[\"atoms\"])\n",
    "for i in dft_2d:\n",
    " if i[\"jid\"] == jid2:\n",
    "  atoms2 = Atoms.from_dict(i[\"atoms\"])\n",
    "\n",
    "interface_atoms_dict = make_interface(film=atoms1, subs=atoms2)\n",
    "heterostructure_atoms = interface_atoms_dict[\"interface\"].center_around_origin()\n",
    "\n",
    "print (jid1,jid2,atoms1.composition.reduced_formula,atoms2.composition.reduced_formula, heterostructure_atoms)"
   ]
  },
  {
   "cell_type": "markdown",
   "id": "7",
   "metadata": {
    "pycharm": {
     "name": "#%% md\n"
    }
   },
   "source": [
    "## Extract the film and substrate"
   ]
  },
  {
   "cell_type": "code",
   "execution_count": null,
   "id": "8",
   "metadata": {
    "pycharm": {
     "name": "#%%\n"
    }
   },
   "outputs": [],
   "source": [
    "# Using the fractional coordinate Z level of 0.5 to separate top/bottom\n",
    "# See also https://github.com/usnistgov/jarvis/issues/311\n",
    "heterostructure_atoms_copy = Atoms.from_dict(heterostructure_atoms.to_dict())\n",
    "indices_to_remove = []\n",
    "for index, coord in enumerate(heterostructure_atoms_copy.coords):\n",
    "    print(coord, index)\n",
    "    if coord[2] < 0.5:\n",
    "        indices_to_remove.append(index)\n",
    "for i, ind in enumerate(indices_to_remove):\n",
    "    heterostructure_atoms_copy = heterostructure_atoms_copy.remove_site_by_index(ind - i)\n",
    "    print(\"removed\", ind, heterostructure_atoms_copy.props)\n",
    "substrate_atoms = Atoms.from_dict(heterostructure_atoms_copy.to_dict())\n",
    "\n",
    "heterostructure_atoms_copy = Atoms.from_dict(heterostructure_atoms.to_dict())\n",
    "indices_to_remove = []\n",
    "for index, coord in enumerate(heterostructure_atoms_copy.coords):\n",
    "    print(coord, index)\n",
    "    if coord[2] > 0.5:\n",
    "        indices_to_remove.append(index)\n",
    "for i, ind in enumerate(indices_to_remove):\n",
    "    heterostructure_atoms_copy = heterostructure_atoms_copy.remove_site_by_index(ind - i)\n",
    "    print(\"removed\", ind, heterostructure_atoms_copy.props)\n",
    "film_atoms = Atoms.from_dict(heterostructure_atoms_copy.to_dict())"
   ]
  },
  {
   "cell_type": "markdown",
   "id": "9",
   "metadata": {},
   "source": [
    "## Extract Structure and Convert to ESSE\n",
    "Next, we extract an entry from the JARVIS dataset and convert it into ESSE format ready to be uploaded to Mat3ra.com."
   ]
  },
  {
   "cell_type": "code",
   "execution_count": null,
   "id": "10",
   "metadata": {},
   "outputs": [],
   "source": [
    "import json\n",
    "from express import ExPrESS\n",
    "\n",
    "def jarvis_atoms_to_esse(atoms):\n",
    "    # JARVIS Atoms return poscar as representation\n",
    "    # https://github.com/usnistgov/jarvis/blob/master/jarvis/core/atoms.py#L1333\n",
    "    poscar = atoms.__repr__()\n",
    "    kwargs = {\n",
    "        \"structure_string\": poscar,\n",
    "        \"cell_type\": \"original\",\n",
    "        \"structure_format\": \"poscar\"\n",
    "    }\n",
    "    handler = ExPrESS(\"structure\", **kwargs)\n",
    "    material = handler.property(\"material\", **kwargs)\n",
    "    return material\n",
    "\n",
    "material_film = jarvis_atoms_to_esse(film_atoms)\n",
    "material_substrate = jarvis_atoms_to_esse(substrate_atoms)\n",
    "material_heterostructure = jarvis_atoms_to_esse(heterostructure_atoms)\n",
    "\n",
    "# To preview resulting JSON data\n",
    "print(json.dumps(material_heterostructure, indent=4))"
   ]
  },
  {
   "cell_type": "markdown",
   "id": "11",
   "metadata": {},
   "source": [
    "## Setup the API credentials\n",
    "Finally, we can upload the material to Mat3ra.com using the REST API: follow the explanation in another example notebook [here](../../examples/material/create_material.ipynb). One can replace the content of the `CONFIG` variable with the JSON data above."
   ]
  },
  {
   "cell_type": "code",
   "execution_count": null,
   "id": "12",
   "metadata": {
    "pycharm": {
     "name": "#%%\n"
    }
   },
   "outputs": [],
   "source": [
    "# @title Authorization Form\n",
    "ACCOUNT_ID = \"\"  # @param {type:\"string\"}\n",
    "AUTH_TOKEN = \"\"  # @param {type:\"string\"}\n",
    "MATERIALS_PROJECT_API_KEY = \"MATERIALS_PROJECT_API_KEY\"  # @param {type:\"string\"}\n",
    "ORGANIZATION_ID = \"\"\n",
    "\n",
    "\n",
    "import os\n",
    "\n",
    "if \"COLAB_JUPYTER_IP\" in os.environ:\n",
    "    os.environ.update(\n",
    "        dict(\n",
    "            ACCOUNT_ID=ACCOUNT_ID,\n",
    "            AUTH_TOKEN=AUTH_TOKEN,\n",
    "            MATERIALS_PROJECT_API_KEY=MATERIALS_PROJECT_API_KEY,\n",
    "            ORGANIZATION_ID=ORGANIZATION_ID,\n",
    "        )\n",
    "    )\n",
    "\n",
    "    !GIT_BRANCH=\"dev\"; export GIT_BRANCH; curl -s \"https://raw.githubusercontent.com/Exabyte-io/api-examples/${GIT_BRANCH}/scripts/env.sh\" | bash"
   ]
  },
  {
   "cell_type": "markdown",
   "id": "13",
   "metadata": {
    "pycharm": {
     "name": "#%% md\n"
    }
   },
   "source": [
    "## Initialize the API Endpoints"
   ]
  },
  {
   "cell_type": "code",
   "execution_count": null,
   "id": "14",
   "metadata": {
    "pycharm": {
     "name": "#%%\n"
    }
   },
   "outputs": [],
   "source": [
    "from utils.settings import ENDPOINT_ARGS, ACCOUNT_ID\n",
    "from utils.generic import wait_for_jobs_to_finish, get_property_by_subworkflow_and_unit_indicies, dataframe_to_html, display_JSON\n",
    "\n",
    "# Relevant functions from the API client\n",
    "from exabyte_api_client.endpoints.jobs import JobEndpoints\n",
    "from exabyte_api_client.endpoints.projects import ProjectEndpoints\n",
    "from exabyte_api_client.endpoints.materials import MaterialEndpoints\n",
    "from exabyte_api_client.endpoints.bank_workflows import BankWorkflowEndpoints\n",
    "from exabyte_api_client.endpoints.properties import PropertiesEndpoints\n",
    "\n",
    "job_endpoints = JobEndpoints(*ENDPOINT_ARGS)\n",
    "project_endpoints = ProjectEndpoints(*ENDPOINT_ARGS)\n",
    "material_endpoints = MaterialEndpoints(*ENDPOINT_ARGS)\n",
    "property_endpoints = PropertiesEndpoints(*ENDPOINT_ARGS)\n",
    "bank_workflow_endpoints = BankWorkflowEndpoints(*ENDPOINT_ARGS)"
   ]
  },
  {
   "cell_type": "markdown",
   "id": "15",
   "metadata": {
    "pycharm": {
     "name": "#%% md\n"
    }
   },
   "source": [
    "## Create Material in the platform"
   ]
  },
  {
   "cell_type": "code",
   "execution_count": null,
   "id": "16",
   "metadata": {
    "pycharm": {
     "name": "#%%\n"
    }
   },
   "outputs": [],
   "source": [
    "material_heterostructure[\"name\"] = f\"Heterostructure - {jid1} with {jid2}\"\n",
    "material_heterostructure_in_the_platform = material_endpoints.create(material_heterostructure)\n",
    "\n",
    "material_film[\"name\"] = f\"Film - {jid1}\"\n",
    "material_film_in_the_platform = material_endpoints.create(material_film)\n",
    "\n",
    "material_substrate[\"name\"] = f\"Substrate - {jid2}\"\n",
    "material_substrate_in_the_platform = material_endpoints.create(material_substrate)"
   ]
  },
  {
   "cell_type": "markdown",
   "id": "17",
   "metadata": {
    "pycharm": {
     "name": "#%% md\n"
    }
   },
   "source": [
    "## Create a workflow if it does not exist yet\n",
    "\n",
    "Here we utilize the id of the Valence Band bank workflow from \"curators\" account `kXJ9j9piJTddX9FHz` and import it if it does not exist in the account collection."
   ]
  },
  {
   "cell_type": "code",
   "execution_count": null,
   "id": "18",
   "metadata": {
    "pycharm": {
     "name": "#%%\n"
    }
   },
   "outputs": [],
   "source": [
    "BANK_ID = \"kXJ9j9piJTddX9FHz\"\n",
    "workflow_in_the_platform = bank_workflow_endpoints.copy(BANK_ID, ACCOUNT_ID)"
   ]
  },
  {
   "cell_type": "markdown",
   "id": "19",
   "metadata": {},
   "source": [
    "## Create and Run a Job\n",
    "\n",
    "Create Job config"
   ]
  },
  {
   "cell_type": "code",
   "execution_count": null,
   "id": "20",
   "metadata": {
    "pycharm": {
     "name": "#%%\n"
    }
   },
   "outputs": [],
   "source": [
    "PPN = \"4\"\n",
    "QUEUE = \"D\"\n",
    "NODES = \"1\"\n",
    "TIME_LIMIT = \"01:00:00\"\n",
    "# Using MSFT Azure cluster with a bit larger memory bandwidth in \"D\" queue\n",
    "CLUSTER = \"master-production-20160630-cluster-007.exabyte.io\"\n",
    "\n",
    "compute = job_endpoints.get_compute(CLUSTER, PPN, NODES, QUEUE, TIME_LIMIT)\n",
    "\n",
    "config = {\n",
    "    \"owner\": {\"_id\": ACCOUNT_ID},\n",
    "    \"_material\": {\n",
    "        \"_id\": material_heterostructure_in_the_platform[\"_id\"]\n",
    "    },\n",
    "    \"_materials\": [\n",
    "        {\"_id\": material_heterostructure_in_the_platform[\"_id\"]},\n",
    "        {\"_id\": material_substrate_in_the_platform[\"_id\"]},\n",
    "        {\"_id\": material_film_in_the_platform[\"_id\"]},\n",
    "    ],\n",
    "    \"workflow\": {\"_id\": workflow_in_the_platform[\"_id\"]},\n",
    "    \"name\": f\"Valence Band - {material_heterostructure['name']}\",\n",
    "    \"compute\": compute,\n",
    "}"
   ]
  },
  {
   "cell_type": "markdown",
   "id": "21",
   "metadata": {},
   "source": [
    "Then create a job"
   ]
  },
  {
   "cell_type": "code",
   "execution_count": null,
   "id": "22",
   "metadata": {
    "pycharm": {
     "name": "#%%\n"
    }
   },
   "outputs": [],
   "source": [
    "job = job_endpoints.create(config)"
   ]
  },
  {
   "cell_type": "markdown",
   "id": "23",
   "metadata": {
    "pycharm": {
     "name": "#%% md\n"
    }
   },
   "source": [
    "then run it"
   ]
  },
  {
   "cell_type": "code",
   "execution_count": null,
   "id": "24",
   "metadata": {
    "pycharm": {
     "name": "#%%\n"
    }
   },
   "outputs": [],
   "source": [
    "job_endpoints.submit(job[\"_id\"])"
   ]
  },
  {
   "cell_type": "markdown",
   "id": "25",
   "metadata": {},
   "source": [
    "and wait for it to finish"
   ]
  },
  {
   "cell_type": "code",
   "execution_count": null,
   "id": "26",
   "metadata": {
    "pycharm": {
     "name": "#%%\n"
    }
   },
   "outputs": [],
   "source": [
    "from utils.generic import wait_for_jobs_to_finish, get_property_by_subworkflow_and_unit_indicies\n",
    "job_id = job[\"_id\"]\n",
    "wait_for_jobs_to_finish(job_endpoints, [job_id])"
   ]
  },
  {
   "cell_type": "markdown",
   "id": "27",
   "metadata": {},
   "source": [
    "Then get job files:"
   ]
  },
  {
   "cell_type": "code",
   "execution_count": null,
   "id": "28",
   "metadata": {
    "pycharm": {
     "name": "#%%\n"
    }
   },
   "outputs": [],
   "source": [
    "files = job_endpoints.list_files(job_id)\n",
    "paths = [file[\"key\"] for file in files]\n",
    "for path in paths:\n",
    "    if \"outdir\" not in path:\n",
    "        print(path)\n",
    "\n",
    "for file in files:\n",
    "    if file[\"name\"] == \"pw_scf.out\":\n",
    "        output_file_metadata = file\n",
    "\n",
    "import urllib\n",
    "\n",
    "server_response = urllib.request.urlopen(output_file_metadata[\"signedUrl\"])\n",
    "output_file = server_response.read().decode(encoding=\"UTF-8\")\n",
    "\n",
    "with open(output_file_metadata[\"name\"], \"w\") as file_descriptor:\n",
    "    file_descriptor.write(output_file)"
   ]
  },
  {
   "cell_type": "markdown",
   "id": "29",
   "metadata": {},
   "source": [
    "and get job properties using the index of a subworkflow in workflow and the index of unit in subworkflow (0, 0) below"
   ]
  },
  {
   "cell_type": "code",
   "execution_count": null,
   "id": "30",
   "metadata": {
    "pycharm": {
     "name": "#%%\n"
    }
   },
   "outputs": [],
   "source": [
    "pressure = get_property_by_subworkflow_and_unit_indicies(property_endpoints, \"pressure\", job, 0, 0)\n",
    "print(pressure[\"data\"][\"value\"])"
   ]
  }
 ],
 "metadata": {
  "kernelspec": {
   "display_name": "Python 3",
   "language": "python",
   "name": "python3"
  },
  "language_info": {
   "codemirror_mode": {
    "name": "ipython",
    "version": 2
   },
   "file_extension": ".py",
   "mimetype": "text/x-python",
   "name": "python",
   "nbconvert_exporter": "python",
   "pygments_lexer": "ipython2",
   "version": "2.7.6"
  }
 },
 "nbformat": 4,
 "nbformat_minor": 5
}
