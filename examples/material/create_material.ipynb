version https://git-lfs.github.com/spec/v1
oid sha256:144b0c4e53f7fc53dff48613739484a1784beac1b105ae2e9b484fb446b5138e
size 12053
