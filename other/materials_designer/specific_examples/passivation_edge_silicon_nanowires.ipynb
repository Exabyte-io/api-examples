{
 "cells": [
  {
   "cell_type": "markdown",
   "source": [
    "# Passivation of Silicon Nanowire"
   ],
   "metadata": {
    "collapsed": false
   },
   "id": "81aa051ca1ca2e05"
  },
  {
   "cell_type": "markdown",
   "source": [
    "## Setup the environment"
   ],
   "metadata": {
    "collapsed": false
   },
   "id": "af879d0489a86849"
  },
  {
   "cell_type": "code",
   "outputs": [],
   "source": [
    "# Enable interactive selection of coordination threshold\n",
    "IS_COORDINATION_SELECTION_INTERACTIVE = False\n",
    "\n",
    "BOND_LENGTH = 1.46\n",
    "PASSIVANT = \"H\"\n",
    "COORDINATION_SEARCH_RADIUS = 2.5\n",
    "COORDINATION_THRESHOLD = 3\n",
    "MAX_BONDS_TO_SATURATE = 2"
   ],
   "metadata": {
    "collapsed": false
   },
   "id": "f704e7abe8fbe895",
   "execution_count": null
  },
  {
   "cell_type": "markdown",
   "source": [
    "## Load the Silicon material"
   ],
   "metadata": {
    "collapsed": false
   },
   "id": "25ed776c9802142e"
  },
  {
   "cell_type": "code",
   "outputs": [],
   "source": [
    "from mat3ra.standata.materials import Materials\n",
    "from mat3ra.made.material import Material\n",
    "\n",
    "silicon = Material(Materials.get_by_name_first_match('Silicon'))"
   ],
   "metadata": {
    "collapsed": false
   },
   "id": "6d48372afc12056e",
   "execution_count": null
  },
  {
   "cell_type": "markdown",
   "source": [
    "## Visualize the Silicon material"
   ],
   "metadata": {
    "collapsed": false
   },
   "id": "4198e1aad6f17ebb"
  },
  {
   "cell_type": "code",
   "outputs": [],
   "source": [
    "from utils.visualize import visualize_materials\n",
    "visualize_materials(silicon)"
   ],
   "metadata": {
    "collapsed": false
   },
   "id": "a918967d646088db",
   "execution_count": null
  },
  {
   "cell_type": "markdown",
   "source": [
    "## Create a silicon nanowire"
   ],
   "metadata": {
    "collapsed": false
   },
   "id": "602e2ef359ef1b83"
  },
  {
   "cell_type": "code",
   "outputs": [],
   "source": [
    "from mat3ra.made.tools.modify import rotate, filter_by_box, add_vacuum_sides\n",
    "from mat3ra.made.tools.build.slab import create_slab, SlabConfiguration\n",
    "\n",
    "slab_config = SlabConfiguration(bulk=silicon, miller_indices=(1,1,0), thickness=2, vacuum=0, use_orthogonal_z=True, xy_supercell_matrix=[[3,0],[0,2]]) \n",
    "silicon_slab = create_slab(slab_config)\n",
    "rotated_slab = rotate(silicon_slab, \"z\", -45)\n",
    "silicon_nanowire = filter_by_box(rotated_slab, [0.2,0.28,0], [0.78,0.87,1])\n",
    "nanowire_xy_pbc = rotate(silicon_nanowire, \"z\", -45)\n",
    "nanowire_xy_pbc = add_vacuum_sides(nanowire_xy_pbc, 10.0, on_x=True, on_y=True)\n",
    "visualize_materials(nanowire_xy_pbc)\n",
    "visualize_materials(nanowire_xy_pbc, rotation=\"-90x\")"
   ],
   "metadata": {
    "collapsed": false
   },
   "id": "f8431fd833f6ed",
   "execution_count": null
  },
  {
   "cell_type": "markdown",
   "source": [
    "## Compute the radial distribution function (RDF) of the Material"
   ],
   "metadata": {
    "collapsed": false
   },
   "id": "4eb261774078348f"
  },
  {
   "cell_type": "code",
   "outputs": [],
   "source": [
    "from mat3ra.made.tools.convert import to_pymatgen\n",
    "import numpy as np\n",
    "import matplotlib.pyplot as plt\n",
    "from scipy.spatial.distance import pdist\n",
    "\n",
    "structure = to_pymatgen(nanowire_xy_pbc)\n",
    "\n",
    "# Parameters for RDF\n",
    "cutoff = 10.0  # Maximum distance for RDF calculation\n",
    "bin_size = 0.1  # Size of each bin in the histogram\n",
    "\n",
    "# Get the Cartesian coordinates of all atoms\n",
    "coords = structure.cart_coords\n",
    "\n",
    "# Compute pairwise distances\n",
    "distances = pdist(coords)  # Pairwise distances\n",
    "distances = distances[distances <= cutoff]  # Only consider distances within the cutoff\n",
    "\n",
    "# Bin distances into a histogram\n",
    "bins = np.arange(0, cutoff + bin_size, bin_size)  # Bin edges\n",
    "hist, bin_edges = np.histogram(distances, bins=bins, density=False)\n",
    "\n",
    "# Convert to radial distribution function\n",
    "bin_centers = 0.5 * (bin_edges[:-1] + bin_edges[1:])\n",
    "shell_volumes = (4 / 3) * np.pi * (np.power(bin_edges[1:], 3) - np.power(bin_edges[:-1], 3))  # Volume of spherical shells\n",
    "density = len(coords) / structure.volume  # Atomic density (number of atoms per unit volume)\n",
    "rdf = hist / (shell_volumes * density)  # Normalize histogram\n",
    "\n",
    "# Plot the RDF\n",
    "plt.figure(figsize=(8, 5))\n",
    "plt.plot(bin_centers, rdf, label=\"Radial Distribution Function\")\n",
    "plt.xlabel(\"Distance (Å)\")\n",
    "plt.ylabel(\"g(r)\")\n",
    "plt.title(\"Radial Distribution Function (RDF)\")\n",
    "plt.legend()\n",
    "plt.grid()\n",
    "plt.show()"
   ],
   "metadata": {
    "collapsed": false
   },
   "id": "bb206aac50a38bb6",
   "execution_count": null
  },
  {
   "cell_type": "markdown",
   "source": [
    "## Set the passivation parameters including the coordination threshold"
   ],
   "metadata": {
    "collapsed": false
   },
   "id": "a79faa88a33c8fdb"
  },
  {
   "cell_type": "code",
   "outputs": [],
   "source": [
    "from utils.io import select_coordination_threshold\n",
    "from mat3ra.made.tools.build.passivation import get_unique_coordination_numbers, PassivationConfiguration\n",
    "from mat3ra.made.tools.build.passivation.builders import CoordinationBasedPassivationBuilder, \\\n",
    "    CoordinationBasedPassivationBuilderParameters\n",
    "\n",
    "config = PassivationConfiguration(\n",
    "    slab=nanowire_xy_pbc,\n",
    "    passivant=PASSIVANT,\n",
    "    bond_length=BOND_LENGTH\n",
    ")\n",
    "builder_params = CoordinationBasedPassivationBuilderParameters(\n",
    "    shadowing_radius=COORDINATION_SEARCH_RADIUS,\n",
    "    coordination_threshold=0,\n",
    ")\n",
    "passivation_builder = CoordinationBasedPassivationBuilder(builder_params)\n",
    "\n",
    "\n",
    "coordination_numbers     = sorted(list(passivation_builder.get_unique_coordination_numbers(nanowire_xy_pbc)))\n",
    "print(f\"Unique coordination numbers: {coordination_numbers}\")\n",
    "coordination_numbers = sorted(list(get_unique_coordination_numbers(config, builder_params)))\n",
    "print(f\"Unique coordination numbers: {coordination_numbers}\")\n",
    "\n",
    "coordination_threshold = COORDINATION_THRESHOLD\n",
    "if IS_COORDINATION_SELECTION_INTERACTIVE:\n",
    "    coordination_threshold = await select_coordination_threshold(coordination_numbers, COORDINATION_THRESHOLD)"
   ],
   "metadata": {
    "collapsed": false
   },
   "id": "7b80ee26896bbbfb",
   "execution_count": null
  },
  {
   "cell_type": "markdown",
   "source": [
    "## Passivate the Material"
   ],
   "metadata": {
    "collapsed": false
   },
   "id": "47744926ab328a82"
  },
  {
   "cell_type": "code",
   "outputs": [],
   "source": [
    "from mat3ra.made.tools.build.passivation import CoordinationBasedPassivationBuilderParameters, CoordinationBasedPassivationBuilder, create_passivation\n",
    "params = CoordinationBasedPassivationBuilderParameters(\n",
    "    shadowing_radius=COORDINATION_SEARCH_RADIUS, \n",
    "    coordination_threshold=coordination_threshold,    \n",
    "    bonds_to_passivate=MAX_BONDS_TO_SATURATE\n",
    ")\n",
    "\n",
    "passivation_builder = CoordinationBasedPassivationBuilder(params)\n",
    "passivated_nanowire = create_passivation(config, passivation_builder)\n"
   ],
   "metadata": {
    "collapsed": false
   },
   "id": "398b2dedef23e0fc",
   "execution_count": null
  },
  {
   "cell_type": "markdown",
   "source": [
    "## Visualize the resulting Material"
   ],
   "metadata": {
    "collapsed": false
   },
   "id": "2b1a300ab807ce6d"
  },
  {
   "cell_type": "code",
   "outputs": [],
   "source": [
    "visualize_materials([{\"material\": passivated_nanowire}, {\"material\": passivated_nanowire, \"rotation\": \"-90x\"}])"
   ],
   "metadata": {
    "collapsed": false
   },
   "id": "cb85e7e42c0944f2",
   "execution_count": null
  },
  {
   "cell_type": "markdown",
   "source": [
    "## Save the Material"
   ],
   "metadata": {
    "collapsed": false
   },
   "id": "5d7fa9201651fa72"
  },
  {
   "cell_type": "code",
   "outputs": [],
   "source": [
    "from utils.jupyterlite import set_materials\n",
    "passivated_nanowire.name = \"H-Passivated Silicon Nanowire\"\n",
    "set_materials([passivated_nanowire])"
   ],
   "metadata": {
    "collapsed": false
   },
   "id": "13f32826a5011952",
   "execution_count": null
  }
 ],
 "metadata": {
  "kernelspec": {
   "display_name": "Python 3",
   "language": "python",
   "name": "python3"
  },
  "language_info": {
   "codemirror_mode": {
    "name": "ipython",
    "version": 2
   },
   "file_extension": ".py",
   "mimetype": "text/x-python",
   "name": "python",
   "nbconvert_exporter": "python",
   "pygments_lexer": "ipython2",
   "version": "2.7.6"
  }
 },
 "nbformat": 4,
 "nbformat_minor": 5
}
