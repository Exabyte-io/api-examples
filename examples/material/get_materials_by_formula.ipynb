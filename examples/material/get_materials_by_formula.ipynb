version https://git-lfs.github.com/spec/v1
oid sha256:1d457d616e7867f936d63a344947468fcff836e19b49f75c61c7dbbd1b6f58d2
size 179132
