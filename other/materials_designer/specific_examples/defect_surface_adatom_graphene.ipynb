{
 "cells": [
  {
   "cell_type": "markdown",
   "id": "c62d2c5007947f56",
   "metadata": {
    "collapsed": false
   },
   "source": [
    "# Adatom Defect on Graphene surface\n",
    "\n",
    "## 0. Introduction\n",
    "\n",
    "This tutorial demonstrates creation of metal adatom on graphene hollow site.\n",
    "\n",
    "> **Chan, K. T., Neaton, J. B., & Cohen, M. L. (2008).** \n",
    "> First-principles study of metal adatom adsorption on graphene. Physical Review B, 77(23). \n",
    "> [DOI:10.1103/physrevb.77.235430 ](https://journals.aps.org/prb/abstract/10.1103/PhysRevB.77.235430)\n",
    "    \n",
    "\n",
    "Below is the figure 1 from the manuscript that shows the adsorption of metal adatom on graphene hollow site.\n",
    "\n",
    "\n",
    "![Fig 1.](https://github.com/Exabyte-io/documentation/raw/12617167278ae3523adc028583b21ea4e8ebd197/images/tutorials/materials/defects/defect-surface-adatom-graphene/me_adatom_on_hollow_graphene.webp)\n",
    "\n"
   ]
  },
  {
   "cell_type": "markdown",
   "id": "4d0772a456c9952c",
   "metadata": {
    "collapsed": false
   },
   "source": [
    "## 1. Prepare the Environment\n",
    "### 1.1. Set up defects parameters \n",
    "Adatom Defect Configuration parameters are described in [Adatom Defect Configuration](https://github.com/Exabyte-io/made/blob/8196b759242551c77d1791bf5bd2f4150763cfef/src/py/mat3ra/made/tools/build/defect/configuration.py#L141).\n"
   ]
  },
  {
   "cell_type": "code",
   "execution_count": null,
   "id": "b5459bac655071be",
   "metadata": {
    "collapsed": false
   },
   "outputs": [],
   "source": [
    "# Name of material to find in Standata\n",
    "MATERIAL_NAME = \"Graphene\"\n",
    "XY_SUPERCELL_MATRIX = [[4, 0], [0, 4]]\n",
    "\n",
    "PLACEMENT_METHOD = \"exact_coordinate\"\n",
    "\n",
    "HOLLOW_SITE_COORDINATE = [1 / 2, 1 / 2]  # in crystal coordinates\n",
    "BRIDGE_SITE_COORDINATE = [3 / 8, 1 / 2]  # in crystal coordinates\n",
    "TOP_SITE_COORDINATE = [7 / 12, 5 / 12]  # in crystal coordinates\n",
    "\n",
    "# Setting data according to Table 1 in the manuscript, distance_z is the `h` from the table.\n",
    "# Uncomment the lines to create the defect for the desired adatom.\n",
    "ADATOM_PARAMETERS = [\n",
    "    {\"chemical_element\": \"Li\", \"distance_z\": 1.71, \"position_on_surface\": HOLLOW_SITE_COORDINATE},\n",
    "    {\"chemical_element\": \"Na\", \"distance_z\": 2.28, \"position_on_surface\": HOLLOW_SITE_COORDINATE},\n",
    "    {\"chemical_element\": \"K\", \"distance_z\": 2.60, \"position_on_surface\": HOLLOW_SITE_COORDINATE},\n",
    "    # {\"chemical_element\": \"Ca\", \"distance_z\": 2.29, \"position_on_surface\": HOLLOW_SITE_COORDINATE},\n",
    "    # {\"chemical_element\": \"Al\", \"distance_z\": 2.13, \"position_on_surface\": HOLLOW_SITE_COORDINATE},\n",
    "    # {\"chemical_element\": \"Ga\", \"distance_z\": 2.20, \"position_on_surface\": HOLLOW_SITE_COORDINATE},\n",
    "    # {\"chemical_element\": \"In\", \"distance_z\": 2.45, \"position_on_surface\": HOLLOW_SITE_COORDINATE},\n",
    "    {\"chemical_element\": \"Sn\", \"distance_z\": 2.82, \"position_on_surface\": TOP_SITE_COORDINATE},\n",
    "    # {\"chemical_element\": \"Ti\", \"distance_z\": 1.80, \"position_on_surface\": HOLLOW_SITE_COORDINATE},\n",
    "    # {\"chemical_element\": \"Fe\", \"distance_z\": 1.53, \"position_on_surface\": HOLLOW_SITE_COORDINATE},\n",
    "    {\"chemical_element\": \"Pd\", \"distance_z\": 2.21, \"position_on_surface\": BRIDGE_SITE_COORDINATE},\n",
    "    # {\"chemical_element\": \"Au\", \"distance_z\": 2.69, \"position_on_surface\": TOP_SITE_COORDINATE},\n",
    "]"
   ]
  },
  {
   "cell_type": "markdown",
   "id": "d572e8697122fef5",
   "metadata": {
    "collapsed": false
   },
   "source": [
    "### 1.2. Install Packages\n",
    "The step executes only in Pyodide environment. For other environments, the packages should be installed via `pip install` (see [README](../../README.ipynb))."
   ]
  },
  {
   "cell_type": "code",
   "execution_count": null,
   "id": "58b0da5bbc87efc6",
   "metadata": {
    "collapsed": false
   },
   "outputs": [],
   "source": [
    "import sys\n",
    "\n",
    "if sys.platform == \"emscripten\":\n",
    "    import micropip\n",
    "\n",
    "    await micropip.install(\"https://exabyte-io.github.io/api-examples/mat3ra_api_examples-0.1.dev1+g03efa43-py3-none-any.whl\", deps=False)\n",
    "    await micropip.install('mat3ra-utils')\n",
    "    from mat3ra.utils.jupyterlite.packages import install_packages\n",
    "\n",
    "    await install_packages(\"specific_examples|create_point_defect.ipynb\")"
   ]
  },
  {
   "cell_type": "markdown",
   "id": "b342c025f3e369d4",
   "metadata": {
    "collapsed": false
   },
   "source": [
    "### 1.3. Load input material"
   ]
  },
  {
   "cell_type": "code",
   "execution_count": null,
   "id": "7ebdb82cd32c735c",
   "metadata": {
    "collapsed": false
   },
   "outputs": [],
   "source": [
    "from mat3ra.standata.materials import Materials\n",
    "from mat3ra.made.material import Material\n",
    "\n",
    "material = Material.create(Materials.get_by_name_first_match(MATERIAL_NAME))"
   ]
  },
  {
   "cell_type": "markdown",
   "id": "8f459296488702b1",
   "metadata": {
    "collapsed": false
   },
   "source": [
    "### 1.4. Create and preview Supercell"
   ]
  },
  {
   "cell_type": "code",
   "execution_count": null,
   "id": "926503f431d18cad",
   "metadata": {
    "collapsed": false
   },
   "outputs": [],
   "source": [
    "from mat3ra.made.tools.helpers import create_slab\n",
    "from utils.visualize import visualize_materials as visualize\n",
    "\n",
    "supercell = create_slab(crystal=material,\n",
    "                        miller_indices=(0, 0, 1),\n",
    "                        xy_supercell_matrix=XY_SUPERCELL_MATRIX\n",
    "                        )\n",
    "visualize(supercell, repetitions=[1, 1, 1], rotation=\"0x\")"
   ]
  },
  {
   "cell_type": "markdown",
   "id": "2de6554d42e97c9d",
   "metadata": {
    "collapsed": false
   },
   "source": [
    "## 2. Create the Defect"
   ]
  },
  {
   "cell_type": "code",
   "execution_count": null,
   "id": "6fc8ad13e12845f",
   "metadata": {
    "collapsed": false
   },
   "outputs": [],
   "source": [
    "from mat3ra.made.tools.build.defect.adatom.helpers import create_adatom_defect\n",
    "\n",
    "materials_with_adatom = [create_adatom_defect(\n",
    "    slab=supercell,\n",
    "    placement_method=PLACEMENT_METHOD,\n",
    "    element=adatom_parameters[\"chemical_element\"],\n",
    "    distance_z=adatom_parameters[\"distance_z\"],\n",
    "    position_on_surface=adatom_parameters[\"position_on_surface\"],\n",
    ") for adatom_parameters in ADATOM_PARAMETERS]"
   ]
  },
  {
   "cell_type": "markdown",
   "id": "5ebf2d6bb1a82b9a",
   "metadata": {
    "collapsed": false
   },
   "source": [
    "## 3. Visualize Result(s)"
   ]
  },
  {
   "cell_type": "code",
   "execution_count": null,
   "id": "93a18e3e1d6e3e6e",
   "metadata": {
    "collapsed": false
   },
   "outputs": [],
   "source": [
    "from utils.visualize import visualize_materials as visualize\n",
    "\n",
    "for material_with_defect in materials_with_adatom:\n",
    "    title = f\"{material_with_defect.name} adatom\"\n",
    "    visualize([{\"material\": material_with_defect, \"title\": title}], viewer=\"wave\")"
   ]
  },
  {
   "cell_type": "markdown",
   "id": "61176790d8d979e0",
   "metadata": {
    "collapsed": false
   },
   "source": [
    "## 4. Download the Results"
   ]
  },
  {
   "cell_type": "code",
   "execution_count": null,
   "id": "20ab1b4be207428c",
   "metadata": {
    "collapsed": false
   },
   "outputs": [],
   "source": [
    "from utils.jupyterlite import download_content_to_file, set_materials\n",
    "\n",
    "set_materials(materials_with_adatom)\n",
    "for material_with_defect in materials_with_adatom:\n",
    "    download_content_to_file(material_with_defect.to_json(),\n",
    "                             f\"{material_with_defect.name}.json\")"
   ]
  }
 ],
 "metadata": {
  "kernelspec": {
   "display_name": "Python 3",
   "language": "python",
   "name": "python3"
  },
  "language_info": {
   "codemirror_mode": {
    "name": "ipython",
    "version": 2
   },
   "file_extension": ".py",
   "mimetype": "text/x-python",
   "name": "python",
   "nbconvert_exporter": "python",
   "pygments_lexer": "ipython2",
   "version": "2.7.6"
  }
 },
 "nbformat": 4,
 "nbformat_minor": 5
}
