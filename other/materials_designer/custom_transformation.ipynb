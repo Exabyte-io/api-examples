{
 "cells": [
  {
   "cell_type": "markdown",
   "source": [
    "# Development Notebook\n",
    "\n",
    "This notebook enables loading materials and performing custom transformations with Python. The transformed materials can then be passed to the Materials Designer or saved to a folder. Necessary packages are installed and imported below.\n",
    "## 1. Setup Notebook\n",
    "### 1.1 Install packages"
   ],
   "metadata": {
    "collapsed": false
   },
   "id": "36708f17f40b64cb"
  },
  {
   "cell_type": "code",
   "execution_count": null,
   "id": "initial_id",
   "metadata": {
    "collapsed": true
   },
   "outputs": [],
   "source": [
    "# Install packages for JupyterLite\n",
    "from mat3ra.utils.jupyterlite.packages import install_packages\n",
    "import sys\n",
    "\n",
    "if sys.platform == \"emscripten\":\n",
    "    import micropip\n",
    "\n",
    "    # Import the mat3ra api-examples package to allow for relative imports\n",
    "    await micropip.install('mat3ra-api-examples', deps=False)\n",
    "\n",
    "await install_packages(\"\")"
   ]
  },
  {
   "cell_type": "markdown",
   "source": [
    "### 1.2 Import necessary packages"
   ],
   "metadata": {
    "collapsed": false
   },
   "id": "8185aca94726dc8f"
  },
  {
   "cell_type": "code",
   "outputs": [],
   "source": [
    "# Material class to hold structural data\n",
    "from mat3ra.made.material import Material\n",
    "# Materials class with JSONs of selected materials\n",
    "from mat3ra.standata.materials import Materials"
   ],
   "metadata": {
    "collapsed": false
   },
   "id": "b2fa69b96b195d30"
  },
  {
   "cell_type": "markdown",
   "source": [
    "## 2. Load materials"
   ],
   "metadata": {
    "collapsed": false
   },
   "id": "c783d38d94a627e4"
  },
  {
   "cell_type": "code",
   "outputs": [],
   "source": [
    "from utils.jupyterlite import get_materials\n",
    "materials = get_materials(globals())"
   ],
   "metadata": {
    "collapsed": false
   },
   "id": "54e68de6c6cc3e03"
  },
  {
   "cell_type": "markdown",
   "source": [
    "## 3. Transform materials"
   ],
   "metadata": {
    "collapsed": false
   },
   "id": "6ca73dec2609be4a"
  },
  {
   "cell_type": "code",
   "outputs": [],
   "source": [
    "new_materials = ..."
   ],
   "metadata": {
    "collapsed": false
   },
   "id": "91069f5712a65dbb"
  },
  {
   "cell_type": "markdown",
   "source": [
    "## 4. Save transformed materials"
   ],
   "metadata": {
    "collapsed": false
   },
   "id": "296f89e8dde270ed"
  },
  {
   "cell_type": "code",
   "outputs": [],
   "source": [
    "from utils.jupyterlite import set_materials, download_content_to_file\n",
    "\n",
    "set_materials(new_materials)\n",
    "# for idx, material in enumerate(new_materials):\n",
    "#   download_content_to_file(new_materials, f\"new_material_{idx}.json\")"
   ],
   "metadata": {
    "collapsed": false
   },
   "id": "7973f7ee67bdc42a"
  }
 ],
 "metadata": {
  "kernelspec": {
   "display_name": "Python 3",
   "language": "python",
   "name": "python3"
  },
  "language_info": {
   "codemirror_mode": {
    "name": "ipython",
    "version": 2
   },
   "file_extension": ".py",
   "mimetype": "text/x-python",
   "name": "python",
   "nbconvert_exporter": "python",
   "pygments_lexer": "ipython2",
   "version": "2.7.6"
  }
 },
 "nbformat": 4,
 "nbformat_minor": 5
}
