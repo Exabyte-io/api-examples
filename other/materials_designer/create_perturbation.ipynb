{
 "cells": [
  {
   "cell_type": "markdown",
   "source": [
    "# Create a Perturbation in a Material\n",
    "\n",
    "Create a perturbation in a material with a specified smooth function (SineWave by default)\n",
    "\n",
    "<h2 style=\"color:green\">Usage</h2>\n",
    "\n",
    "1. Make sure to select Input Materials (in the outer runtime) before running the notebook.\n",
    "1. Set notebook parameters in cell 1.1. below (or use the default values).\n",
    "1. Click “Run” > “Run All” to run all cells. \n",
    "1. Wait for the run to complete (depending on the parameters can take a few min). \n",
    "1. Scroll down to view results. \n",
    "\n",
    "## Notes\n",
    "\n",
    "1. For more information, see [Introduction](Introduction.ipynb)\n"
   ],
   "metadata": {
    "collapsed": false
   },
   "id": "367a698b29e22bd7"
  },
  {
   "cell_type": "markdown",
   "source": [
    "## 1. Prepare the Environment\n",
    "### 1.1. Set up perturbation parameters"
   ],
   "metadata": {
    "collapsed": false
   },
   "id": "193a4e6a78fd5bd7"
  },
  {
   "cell_type": "code",
   "outputs": [],
   "source": [
    "# Sine wave perturbation parameters\n",
    "AMPLITUDE = 0.5\n",
    "WAVELENGTH = 1.0\n",
    "PHASE = 0.0\n",
    "AXIS = \"y\"\n",
    "\n",
    "USE_CARTESIAN_COORDINATES = False\n",
    "\n",
    "SUPERCELL_MATRIX = [[30, 0, 0], [0, 30, 0], [0, 0, 1]]\n",
    "\n",
    "PRESERVE_GEODESIC_DISTANCE = False"
   ],
   "metadata": {
    "collapsed": false
   },
   "id": "a40d7b697c413113",
   "execution_count": null
  },
  {
   "cell_type": "markdown",
   "source": [
    "### 1.2. Install Packages\n",
    "The step executes only in Pyodide environment. For other environments, the packages should be installed via `pip install` (see [README](../../README.ipynb))."
   ],
   "metadata": {
    "collapsed": false
   },
   "id": "49c9f5022d50517e"
  },
  {
   "cell_type": "code",
   "outputs": [],
   "source": [
    "import sys\n",
    "\n",
    "if sys.platform == \"emscripten\":\n",
    "    import micropip\n",
    "\n",
    "    await micropip.install('mat3ra-api-examples', deps=False)\n",
    "    from utils.jupyterlite import install_packages\n",
    "\n",
    "    await install_packages(\"\")"
   ],
   "metadata": {
    "collapsed": false
   },
   "id": "c6d9f8e57bef2f91",
   "execution_count": null
  },
  {
   "cell_type": "markdown",
   "source": [
    "### 1.3. Get input materials\n",
    "Materials are loaded with `get_materials()`."
   ],
   "metadata": {
    "collapsed": false
   },
   "id": "edf02101e27a2742"
  },
  {
   "cell_type": "code",
   "outputs": [],
   "source": [
    "from utils.jupyterlite import get_materials\n",
    "\n",
    "materials = get_materials(globals())"
   ],
   "metadata": {
    "collapsed": false
   },
   "id": "e0c53233ce728cc1",
   "execution_count": null
  },
  {
   "cell_type": "markdown",
   "source": [
    "### 1.4. Create and preview Supercell"
   ],
   "metadata": {
    "collapsed": false
   },
   "id": "cf29b7f6fe114d8f"
  },
  {
   "cell_type": "code",
   "outputs": [],
   "source": [
    "from utils.visualize import visualize_materials as visualize\n",
    "from mat3ra.made.tools.build.supercell import create_supercell\n",
    "\n",
    "unit_cell = materials[0]\n",
    "supercell = create_supercell(unit_cell, supercell_matrix=SUPERCELL_MATRIX)\n",
    "visualize(supercell, repetitions=[1, 1, 1], rotation=\"0x\")"
   ],
   "metadata": {
    "collapsed": false
   },
   "id": "897ba7aa4e402d24",
   "execution_count": null
  },
  {
   "cell_type": "markdown",
   "source": [
    "## 2. Create the SineWave Perturbation\n",
    "### 2.1. Set sine wave perturbation parameters\n",
    "Use perturbation function imported from `mat3ra.made.tools.utils.perturbation` folder."
   ],
   "metadata": {
    "collapsed": false
   },
   "id": "39a93c4635762a83"
  },
  {
   "cell_type": "code",
   "outputs": [],
   "source": [
    "from mat3ra.made.tools.build.perturbation import PerturbationConfiguration, SlabPerturbationBuilder, CellMatchingDistancePreservingSlabPerturbationBuilder\n",
    "from mat3ra.made.tools.utils.perturbation import SineWavePerturbationFunctionHolder\n",
    "\n",
    "perturbation_function = SineWavePerturbationFunctionHolder(\n",
    "    amplitude=AMPLITUDE,\n",
    "    wavelength=WAVELENGTH,\n",
    "    phase=PHASE,\n",
    "    axis=AXIS)\n",
    "\n",
    "configuration = PerturbationConfiguration(\n",
    "    material=supercell,\n",
    "    perturbation_function_holder=perturbation_function,\n",
    "    use_cartesian_coordinates=USE_CARTESIAN_COORDINATES)\n",
    "\n",
    "if PRESERVE_GEODESIC_DISTANCE:\n",
    "    builder = CellMatchingDistancePreservingSlabPerturbationBuilder()\n",
    "else:\n",
    "    builder = SlabPerturbationBuilder()"
   ],
   "metadata": {
    "collapsed": false
   },
   "id": "1991efeeebe39db4",
   "execution_count": null
  },
  {
   "cell_type": "markdown",
   "source": [
    "### 2.2. Apply perturbation to the material"
   ],
   "metadata": {
    "collapsed": false
   },
   "id": "d296d7287618dc0b"
  },
  {
   "cell_type": "code",
   "outputs": [],
   "source": [
    "from mat3ra.made.tools.build.perturbation import create_perturbation\n",
    "\n",
    "material_with_perturbation = create_perturbation(configuration, builder)"
   ],
   "metadata": {
    "collapsed": false
   },
   "id": "d77821f7d0b8c330",
   "execution_count": null
  },
  {
   "cell_type": "markdown",
   "source": [
    "### 3. Visualize the Result"
   ],
   "metadata": {
    "collapsed": false
   },
   "id": "eecd561cd92fb18a"
  },
  {
   "cell_type": "code",
   "outputs": [],
   "source": [
    "from utils.visualize import visualize_materials as visualize\n",
    "\n",
    "visualize([{\"material\": supercell, \"title\": \"Original material\"},\n",
    "           {\"material\": material_with_perturbation, \"title\": f\"Material with perturbation\"},\n",
    "           {\"material\": material_with_perturbation, \"title\": f\"Material with perturbation\", \"rotation\": \"-90x\"},\n",
    "           ])"
   ],
   "metadata": {
    "collapsed": false
   },
   "id": "1ee393a7f2ec3bc8",
   "execution_count": null
  },
  {
   "cell_type": "markdown",
   "source": [
    "## 4. Pass data to the outside runtime"
   ],
   "metadata": {
    "collapsed": false
   },
   "id": "9e0b241366592109"
  },
  {
   "cell_type": "code",
   "outputs": [],
   "source": [
    "from utils.jupyterlite import set_materials\n",
    "\n",
    "set_materials(material_with_perturbation)"
   ],
   "metadata": {
    "collapsed": false
   },
   "id": "29dfa0a329cca2fa",
   "execution_count": null
  }
 ],
 "metadata": {
  "kernelspec": {
   "display_name": "Python 3",
   "language": "python",
   "name": "python3"
  },
  "language_info": {
   "codemirror_mode": {
    "name": "ipython",
    "version": 2
   },
   "file_extension": ".py",
   "mimetype": "text/x-python",
   "name": "python",
   "nbconvert_exporter": "python",
   "pygments_lexer": "ipython2",
   "version": "2.7.6"
  }
 },
 "nbformat": 4,
 "nbformat_minor": 5
}
