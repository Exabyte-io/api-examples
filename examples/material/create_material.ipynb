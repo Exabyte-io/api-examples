{
  "nbformat": 4,
  "nbformat_minor": 5,
  "metadata": {
    "kernelspec": {
      "display_name": "Python 3",
      "language": "python",
      "name": "python3"
    },
    "language_info": {
      "codemirror_mode": {
        "name": "ipython",
        "version": 3
      },
      "file_extension": ".py",
      "mimetype": "text/x-python",
      "name": "python",
      "nbconvert_exporter": "python",
      "pygments_lexer": "ipython3",
      "version": "3.8.6"
    },
    "colab": {
      "name": "create_material.ipynb",
      "provenance": [],
      "include_colab_link": true
    }
  },
  "cells": [
    {
      "cell_type": "markdown",
      "metadata": {
        "id": "view-in-github",
        "colab_type": "text"
      },
      "source": [
        "<a href=\"https://colab.research.google.com/github/Exabyte-io/exabyte-api-examples/blob/feature%2FSOF-4400/examples/material/create_material.ipynb\" target=\"_parent\"><img src=\"https://colab.research.google.com/assets/colab-badge.svg\" alt=\"Open In Colab\"/></a>"
      ]
    },
    {
      "cell_type": "markdown",
      "metadata": {
        "id": "innovative-asthma"
      },
      "source": [
        "# Overview\n",
        "\n",
        "In this example we create a material from a JSON config with [tags](https://docs.exabyte.io/entities-general/data/#tags) to identify the material."
      ],
      "id": "innovative-asthma"
    },
    {
      "cell_type": "markdown",
      "metadata": {
        "id": "atlantic-payment"
      },
      "source": [
        "# Complete Authorization Form\n",
        "Please complete the authorization form, by providing your Exabyte ACCOUNT_ID and AUTH_TOKEN. Additionaly, please provide your MATERIALS_PROJECT_API_KEY."
      ],
      "id": "atlantic-payment"
    },
    {
      "cell_type": "code",
      "metadata": {
        "cellView": "form",
        "id": "outdoor-volunteer"
      },
      "source": [
        "#@title Authorization Form\n",
        "ACCOUNT_ID = \"\" #@param {type:\"string\"}\n",
        "AUTH_TOKEN = \"\" #@param {type:\"string\"}\n",
        "MATERIALS_PROJECT_API_KEY = \"\" #@param {type:\"string\"}"
      ],
      "id": "outdoor-volunteer",
      "execution_count": 1,
      "outputs": []
    },
    {
      "cell_type": "markdown",
      "metadata": {
        "id": "acceptable-robert"
      },
      "source": [
        "# Determine Environment and Set All Environment Variables\n",
        "\n",
        "Here, we determine if we are using Jupyter Notebooks or Google Colab to run this tutorial."
      ],
      "id": "acceptable-robert"
    },
    {
      "cell_type": "code",
      "metadata": {
        "colab": {
          "base_uri": "https://localhost:8080/"
        },
        "id": "emerging-arrival",
        "outputId": "fb641df3-1709-42d6-8db4-70e48031fc27"
      },
      "source": [
        "import os\n",
        "\n",
        "if 'google.colab' in str(get_ipython()):\n",
        "  print('Running on CoLab')\n",
        "  os.environ['notebook_environment'] = \"Colab\"\n",
        "elif 'ZMQInteractiveShell'  in str(get_ipython()):\n",
        "  print('Running in Jupyter')\n",
        "  os.environ['notebook_environment'] = \"Jupyter\"\n",
        "else:\n",
        "  print('Unknown Environment')\n",
        "  os.environ['notebook_environment'] = \"\"\n",
        "    \n",
        "# Set user specific environment variables as per the Authorization Info.\n",
        "os.environ['ACCOUNT_ID'] = ACCOUNT_ID\n",
        "os.environ['AUTH_TOKEN'] = AUTH_TOKEN\n",
        "os.environ['MATERIALS_PROJECT_API_KEY'] = MATERIALS_PROJECT_API_KEY"
      ],
      "id": "emerging-arrival",
      "execution_count": 2,
      "outputs": [
        {
          "output_type": "stream",
          "text": [
            "Running on CoLab\n"
          ],
          "name": "stdout"
        }
      ]
    },
    {
      "cell_type": "markdown",
      "metadata": {
        "id": "wanted-daughter"
      },
      "source": [
        "# Requirements and Local Imports Checkpoint\n",
        "Before we go further, let's make a quick pit-stop and ensure that we have imported and installed all of the required dependencies."
      ],
      "id": "wanted-daughter"
    },
    {
      "cell_type": "code",
      "metadata": {
        "colab": {
          "base_uri": "https://localhost:8080/"
        },
        "id": "arranged-oxide",
        "outputId": "8cb23d3c-2b4a-4942-f441-697b0ebedc19"
      },
      "source": [
        "if os.environ['notebook_environment'] == \"Colab\":\n",
        "    !git clone -b feature/SOF-4400 https://github.com/Exabyte-io/exabyte-api-examples.git\n",
        "    %cd exabyte-api-examples/examples/material"
      ],
      "id": "arranged-oxide",
      "execution_count": 3,
      "outputs": [
        {
          "output_type": "stream",
          "text": [
            "Cloning into 'exabyte-api-examples'...\n",
            "remote: Enumerating objects: 1935, done.\u001b[K\n",
            "remote: Counting objects: 100% (540/540), done.\u001b[K\n",
            "remote: Compressing objects: 100% (339/339), done.\u001b[K\n",
            "remote: Total 1935 (delta 280), reused 429 (delta 196), pack-reused 1395\u001b[K\n",
            "Receiving objects: 100% (1935/1935), 402.74 KiB | 7.90 MiB/s, done.\n",
            "Resolving deltas: 100% (1041/1041), done.\n",
            "/content/exabyte-api-examples/examples/material\n"
          ],
          "name": "stdout"
        }
      ]
    },
    {
      "cell_type": "code",
      "metadata": {
        "id": "accepting-consistency"
      },
      "source": [
        "import sys\n",
        "\n",
        "module_path = os.path.abspath(os.path.join('..'))\n",
        "if module_path not in sys.path: sys.path.append(module_path)\n",
        "from settings import ENDPOINT_ARGS\n",
        "from utils.generic import ensure_packages_are_installed, display_JSON\n",
        "ensure_packages_are_installed()\n",
        "\n",
        "from exabyte_api_client.endpoints.materials import MaterialEndpoints"
      ],
      "id": "accepting-consistency",
      "execution_count": 4,
      "outputs": []
    },
    {
      "cell_type": "markdown",
      "metadata": {
        "id": "difficult-touch"
      },
      "source": [
        "## Create material config\n",
        "\n",
        "Create material config in JSON format. See [Material](https://docs.exabyte.io/api/Material/put_materials_create) endpoint for more information about material config format."
      ],
      "id": "difficult-touch"
    },
    {
      "cell_type": "code",
      "metadata": {
        "id": "blind-virtue"
      },
      "source": [
        "CONFIG = {\n",
        "    \"name\": \"TEST MATERIAL\",\n",
        "    \"basis\": {\n",
        "        \"elements\": [\n",
        "            {\n",
        "                \"id\": 1,\n",
        "                \"value\": \"Si\"\n",
        "            },\n",
        "            {\n",
        "                \"id\": 2,\n",
        "                \"value\": \"Si\"\n",
        "            }\n",
        "        ],\n",
        "        \"coordinates\": [\n",
        "            {\n",
        "                \"id\": 1,\n",
        "                \"value\": [\n",
        "                    0,\n",
        "                    0,\n",
        "                    0\n",
        "                ]\n",
        "            },\n",
        "            {\n",
        "                \"id\": 2,\n",
        "                \"value\": [\n",
        "                    0.25,\n",
        "                    0.25,\n",
        "                    0.25\n",
        "                ]\n",
        "            }\n",
        "        ],\n",
        "        \"units\": \"crystal\",\n",
        "        \"name\": \"basis\"\n",
        "    },\n",
        "    \"lattice\": {\n",
        "        \"type\": \"FCC\",\n",
        "        \"a\": 3.867,\n",
        "        \"b\": 3.867,\n",
        "        \"c\": 3.867,\n",
        "        \"alpha\": 60,\n",
        "        \"beta\": 60,\n",
        "        \"gamma\": 60,\n",
        "        \"units\": {\n",
        "            \"length\": \"angstrom\",\n",
        "            \"angle\": \"degree\"\n",
        "        },\n",
        "        \"vectors\": {\n",
        "            \"a\": [\n",
        "                3.867,\n",
        "                0,\n",
        "                0\n",
        "            ],\n",
        "            \"b\": [\n",
        "                1.9335000000000004,\n",
        "                3.348920236434424,\n",
        "                0\n",
        "            ],\n",
        "            \"c\": [\n",
        "                1.9335000000000004,\n",
        "                1.1163067454781415,\n",
        "                3.1573922784475164\n",
        "            ],\n",
        "            \"name\": \"lattice vectors\",\n",
        "            \"alat\": 1,\n",
        "            \"units\": \"angstrom\"\n",
        "        }\n",
        "    },\n",
        "    \"tags\": [\n",
        "        \"REST API\"\n",
        "    ]\n",
        "}"
      ],
      "id": "blind-virtue",
      "execution_count": 5,
      "outputs": []
    },
    {
      "cell_type": "markdown",
      "metadata": {
        "id": "abroad-element"
      },
      "source": [
        "## Create material\n",
        "\n",
        "Initialize `MaterialEndpoints` class and call `create` function to create material."
      ],
      "id": "abroad-element"
    },
    {
      "cell_type": "code",
      "metadata": {
        "id": "respective-setting"
      },
      "source": [
        "endpoint = MaterialEndpoints(*ENDPOINT_ARGS)\n",
        "material = endpoint.create(CONFIG)"
      ],
      "id": "respective-setting",
      "execution_count": 6,
      "outputs": []
    },
    {
      "cell_type": "markdown",
      "metadata": {
        "id": "latter-wisdom"
      },
      "source": [
        "## Print new material"
      ],
      "id": "latter-wisdom"
    },
    {
      "cell_type": "code",
      "metadata": {
        "colab": {
          "base_uri": "https://localhost:8080/"
        },
        "id": "objective-colombia",
        "outputId": "2036d524-cd4a-44d9-a764-29f619ba8922"
      },
      "source": [
        "display_JSON(material)"
      ],
      "id": "objective-colombia",
      "execution_count": 7,
      "outputs": [
        {
          "output_type": "stream",
          "text": [
            "{\n",
            "    \"_id\": \"bZXmvky2z9xK3CbJw\",\n",
            "    \"name\": \"TEST MATERIAL\",\n",
            "    \"basis\": {\n",
            "        \"elements\": [\n",
            "            {\n",
            "                \"id\": 0,\n",
            "                \"value\": \"Si\"\n",
            "            },\n",
            "            {\n",
            "                \"id\": 1,\n",
            "                \"value\": \"Si\"\n",
            "            }\n",
            "        ],\n",
            "        \"coordinates\": [\n",
            "            {\n",
            "                \"id\": 0,\n",
            "                \"value\": [\n",
            "                    0,\n",
            "                    0,\n",
            "                    0\n",
            "                ]\n",
            "            },\n",
            "            {\n",
            "                \"id\": 1,\n",
            "                \"value\": [\n",
            "                    0.25,\n",
            "                    0.25,\n",
            "                    0.25\n",
            "                ]\n",
            "            }\n",
            "        ],\n",
            "        \"units\": \"crystal\",\n",
            "        \"cell\": [\n",
            "            [\n",
            "                1,\n",
            "                0,\n",
            "                6.123233995736766e-17\n",
            "            ],\n",
            "            [\n",
            "                1.6081226496766366e-16,\n",
            "                1,\n",
            "                6.123233995736766e-17\n",
            "            ],\n",
            "            [\n",
            "                0,\n",
            "                0,\n",
            "                1\n",
            "            ]\n",
            "        ]\n",
            "    },\n",
            "    \"lattice\": {\n",
            "        \"a\": 3.867,\n",
            "        \"b\": 3.867,\n",
            "        \"c\": 3.867,\n",
            "        \"alpha\": 60,\n",
            "        \"beta\": 60,\n",
            "        \"gamma\": 59.99999,\n",
            "        \"units\": {\n",
            "            \"length\": \"angstrom\",\n",
            "            \"angle\": \"degree\"\n",
            "        },\n",
            "        \"type\": \"FCC\",\n",
            "        \"vectors\": {\n",
            "            \"a\": [\n",
            "                3.34892,\n",
            "                0,\n",
            "                1.9335\n",
            "            ],\n",
            "            \"b\": [\n",
            "                1.116307,\n",
            "                3.157392,\n",
            "                1.9335\n",
            "            ],\n",
            "            \"c\": [\n",
            "                0,\n",
            "                0,\n",
            "                3.867\n",
            "            ],\n",
            "            \"alat\": 1,\n",
            "            \"units\": \"angstrom\"\n",
            "        }\n",
            "    },\n",
            "    \"tags\": [\n",
            "        \"REST API\"\n",
            "    ],\n",
            "    \"owner\": {\n",
            "        \"_id\": \"HnTMM74xxPnTMFcm3\",\n",
            "        \"slug\": \"bsmith\",\n",
            "        \"cls\": \"Account\"\n",
            "    },\n",
            "    \"creator\": {\n",
            "        \"_id\": \"acky7GjD9aownD6iJ\",\n",
            "        \"slug\": \"bsmith\",\n",
            "        \"cls\": \"User\"\n",
            "    },\n",
            "    \"hash\": \"a665723ef7429caef6ca89385fe25bae\",\n",
            "    \"formula\": \"Si\",\n",
            "    \"unitCellFormula\": \"Si2\",\n",
            "    \"derivedProperties\": [\n",
            "        {\n",
            "            \"name\": \"volume\",\n",
            "            \"units\": \"angstrom^3\",\n",
            "            \"value\": 40.88909038874689\n",
            "        },\n",
            "        {\n",
            "            \"name\": \"density\",\n",
            "            \"units\": \"g/cm^3\",\n",
            "            \"value\": 2.281149788933887\n",
            "        },\n",
            "        {\n",
            "            \"spaceGroupSymbol\": \"Fd-3m\",\n",
            "            \"tolerance\": {\n",
            "                \"value\": 0.3,\n",
            "                \"units\": \"angstrom\"\n",
            "            },\n",
            "            \"name\": \"symmetry\"\n",
            "        },\n",
            "        {\n",
            "            \"name\": \"elemental_ratio\",\n",
            "            \"value\": 1,\n",
            "            \"element\": \"Si\"\n",
            "        },\n",
            "        {\n",
            "            \"name\": \"p-norm\",\n",
            "            \"value\": 1,\n",
            "            \"degree\": 0\n",
            "        },\n",
            "        {\n",
            "            \"name\": \"p-norm\",\n",
            "            \"value\": 1,\n",
            "            \"degree\": 2\n",
            "        },\n",
            "        {\n",
            "            \"name\": \"p-norm\",\n",
            "            \"value\": 1,\n",
            "            \"degree\": 3\n",
            "        },\n",
            "        {\n",
            "            \"name\": \"p-norm\",\n",
            "            \"value\": 1,\n",
            "            \"degree\": 5\n",
            "        },\n",
            "        {\n",
            "            \"name\": \"p-norm\",\n",
            "            \"value\": 1,\n",
            "            \"degree\": 7\n",
            "        },\n",
            "        {\n",
            "            \"name\": \"p-norm\",\n",
            "            \"value\": 1,\n",
            "            \"degree\": 10\n",
            "        }\n",
            "    ],\n",
            "    \"schemaVersion\": \"0.2.0\",\n",
            "    \"exabyteId\": \"tSohSgyQHg5sakYho\",\n",
            "    \"inSet\": [\n",
            "        {\n",
            "            \"_id\": \"nQtFH6EKKxYJFY98d\",\n",
            "            \"slug\": \"read\",\n",
            "            \"cls\": \"Team\"\n",
            "        },\n",
            "        {\n",
            "            \"_id\": \"3u3HBozhqNSF7x7dD\",\n",
            "            \"slug\": \"admin\",\n",
            "            \"cls\": \"Team\"\n",
            "        },\n",
            "        {\n",
            "            \"_id\": \"Q2KgxfbBTPqpSY4fw\",\n",
            "            \"slug\": \"owner\",\n",
            "            \"cls\": \"Team\"\n",
            "        },\n",
            "        {\n",
            "            \"_id\": \"QBnghAhrZstXct3eZ\",\n",
            "            \"slug\": \"read\",\n",
            "            \"cls\": \"Team\"\n",
            "        },\n",
            "        {\n",
            "            \"_id\": \"vTz2KjNZWRShYYXJR\",\n",
            "            \"slug\": \"comment\",\n",
            "            \"cls\": \"Team\"\n",
            "        },\n",
            "        {\n",
            "            \"_id\": \"3fSoLrHgwEbjuR7NL\",\n",
            "            \"slug\": \"execute\",\n",
            "            \"cls\": \"Team\"\n",
            "        },\n",
            "        {\n",
            "            \"_id\": \"MdDcBrcPRAG62hAmk\",\n",
            "            \"slug\": \"edit\",\n",
            "            \"cls\": \"Team\"\n",
            "        }\n",
            "    ],\n",
            "    \"isDefault\": false,\n",
            "    \"createdAt\": \"2021-06-16T17:01:35.095Z\",\n",
            "    \"isEntitySet\": false,\n",
            "    \"scaledHash\": \"87e416358789a7c435eaaba0344af51d\",\n",
            "    \"updatedAt\": \"2021-06-16T17:01:35.323Z\"\n",
            "}\n"
          ],
          "name": "stdout"
        }
      ]
    }
  ]
}