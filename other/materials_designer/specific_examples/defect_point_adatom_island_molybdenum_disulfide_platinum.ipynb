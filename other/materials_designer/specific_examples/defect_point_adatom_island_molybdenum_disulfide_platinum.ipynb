{
 "cells": [
  {
   "cell_type": "markdown",
   "id": "f2e1e795020d7b3f",
   "metadata": {
    "collapsed": false
   },
   "source": [
    "# Pt Adatoms Island on MoS2\n",
    "\n",
    "## 0. Introduction\n",
    "\n",
    "In this example, we will create a MoS2 slab with a Pt island formed by adatoms, replication the structure from the publication:\n",
    "\n",
    "> **Saidi, W. A.**\n",
    "> \"Density Functional Theory Study of Nucleation and Growth of Pt Nanoparticles on MoS2(001) Surface.\"\n",
    "> Crystal Growth & Design, 15(2), 642–652.  (2015)\n",
    "> [DOI](https://doi.org/10.1021/cg5013395)\n",
    "\n",
    "Island formation will be performed with consecutive addition of adatom defects to reproduce Figure 4. b) material:\n",
    "\n",
    "<img src=\"https://github.com/Exabyte-io/documentation/raw/12617167278ae3523adc028583b21ea4e8ebd197/images/tutorials/materials/defects/defect_point_adatom_island_molybdenum_disulfide_platinum/0-figure-from-manuscript.webp\" alt=\"Pt island on MoS2\" width=\"400\"/>"
   ]
  },
  {
   "cell_type": "markdown",
   "id": "5e43ff288847b784",
   "metadata": {
    "collapsed": false
   },
   "source": [
    "## 1. Prepare the Environment\n",
    "### 1.1. Set up defect parameters "
   ]
  },
  {
   "cell_type": "code",
   "id": "9d8b1890b34d850a",
   "metadata": {
    "collapsed": false
   },
   "source": [
    "# Slab parameters\n",
    "MATERIAL_NAME = \"MoS2.*2D\"  # Name of the material (regex) to be loaded from Standata\n",
    "MILLER_INDICES = (0, 0, 1)  # Miller indices of the surface\n",
    "SLAB_THICKNESS = 1  # Thickness of the slab in unit cells\n",
    "VACUUM = 10.0  # Vacuum thickness in Angstrom\n",
    "XY_SUPERCELL_MATRIX = [[3, 0], [0, 3]]\n",
    "\n",
    "# Defect parameters\n",
    "DEFECT_TYPE = \"adatom\"\n",
    "PLACEMENT_METHOD = \"exact_coordinate\"  # Choose between \"equidistant\", \"new_crystal_site\",  \"exact_coordinate\"\n",
    "CHEMICAL_ELEMENT = \"Pt\"  # Element to be placed at the site \n",
    "USE_CARTESIAN_COORDINATES = False  # If True, the position is in Cartesian coordinates\n",
    "\n",
    "# Values below are taken from the publication:\n",
    "DISTANCE_Z_1st_Pt_layer = 1.2  # Distance between S (MoS2) and Pt in first layer, in Angstrom\n",
    "DISTANCE_Z_2nd_Pt_layer = 2.8  # Distance between S (MoS2) and Pt in second layer, in Angstrom\n",
    "\n",
    "DISTANCE_Z_VALUES = [DISTANCE_Z_1st_Pt_layer, DISTANCE_Z_1st_Pt_layer, DISTANCE_Z_1st_Pt_layer, DISTANCE_Z_2nd_Pt_layer]\n",
    "\n",
    "# In the unit cell of MoS2 atoms have S: [2/3, 1/3, 0] and Mo: [1/3, 2/3, 0] crystal coordinates.\n",
    "# Creation of 3x3 supercell scales coordinates to steps of 1/9th between points: S, Mo and hollow.\n",
    "# The adatoms are placed on the top of Mo atoms and S atoms can be obtained:\n",
    "COORDINATES = [\n",
    "    [5 / 9, 4 / 9, 0],  # 1st atom, atop central Mo\n",
    "    [2 / 9, 4 / 9, 0],  # 2nd atom, next clockwise atop Mo\n",
    "    [5 / 9, 7 / 9, 0],  # 3rd atom, next clockwise atop Mo\n",
    "    [4 / 9, 5 / 9, 0],  # 4th topmost atom, atop S\n",
    "]\n"
   ],
   "outputs": [],
   "execution_count": null
  },
  {
   "cell_type": "markdown",
   "id": "bb64de5ff32649f8",
   "metadata": {
    "collapsed": false
   },
   "source": [
    "### 1.2. Install Packages\n",
    "The step executes only in Pyodide environment. For other environments, the packages should be installed via `pip install` (see [README](../../README.ipynb))."
   ]
  },
  {
   "cell_type": "code",
   "id": "ef664b14457530fd",
   "metadata": {
    "collapsed": false
   },
   "source": [
    "import sys\n",
    "\n",
    "if sys.platform == \"emscripten\":\n",
    "    import micropip\n",
    "\n",
    "    await micropip.install(\"mat3ra-api-examples\", deps=False)\n",
    "    await micropip.install('mat3ra-utils')\n",
    "    from mat3ra.utils.jupyterlite.packages import install_packages\n",
    "\n",
    "    await install_packages(\"specific_examples|create_point_defect.ipynb\")"
   ],
   "outputs": [],
   "execution_count": null
  },
  {
   "cell_type": "markdown",
   "id": "919ad7af8dceeedd",
   "metadata": {
    "collapsed": false
   },
   "source": [
    "### 1.3. Get input material\n",
    "Materials are loaded with `get_materials()`."
   ]
  },
  {
   "cell_type": "code",
   "id": "be38fdda1984c654",
   "metadata": {
    "collapsed": false
   },
   "source": [
    "from utils.visualize import visualize_materials\n",
    "from mat3ra.standata.materials import Materials\n",
    "from mat3ra.made.material import Material\n",
    "\n",
    "substrate = Material.create(Materials.get_by_name_first_match(MATERIAL_NAME))\n",
    "\n",
    "# Preview materials\n",
    "visualize_materials([substrate])\n",
    "visualize_materials([substrate], rotation=\"-90x\")\n"
   ],
   "outputs": [],
   "execution_count": null
  },
  {
   "cell_type": "markdown",
   "id": "a132fe0ef8bbf0d0",
   "metadata": {
    "collapsed": false
   },
   "source": [
    "### 1.4. Create and preview Slab"
   ]
  },
  {
   "cell_type": "code",
   "id": "f174b6be",
   "metadata": {},
   "source": [
    "from mat3ra.made.tools.build.slab.helpers import create_slab\n",
    "from utils.visualize import visualize_materials as visualize\n",
    "\n",
    "\n",
    "slab = create_slab(\n",
    "    crystal=substrate,\n",
    "    termination=None,  # Use default termination\n",
    "    miller_indices=MILLER_INDICES,\n",
    "    number_of_layers=SLAB_THICKNESS,\n",
    "    vacuum=VACUUM,\n",
    "    use_orthogonal_c=True,\n",
    "    xy_supercell_matrix=XY_SUPERCELL_MATRIX\n",
    ")\n",
    "visualize([{\"material\": slab, \"rotation\": \"0x\"}, {\"material\": slab, \"rotation\": \"-90x\"}], repetitions=[1, 1, 1])\n"
   ],
   "outputs": [],
   "execution_count": null
  },
  {
   "cell_type": "markdown",
   "id": "5da5b0380583c952",
   "metadata": {
    "collapsed": false
   },
   "source": "## 2. Create the Defects"
  },
  {
   "metadata": {},
   "cell_type": "markdown",
   "source": "#### 2.1. Create the defct dictionaries",
   "id": "174048812b11801e"
  },
  {
   "metadata": {},
   "cell_type": "code",
   "source": [
    "\n",
    "DEFECT_DICTS = [\n",
    "    {\n",
    "        \"coordinate\": coordinate[0:2],\n",
    "        \"distance_z\": DISTANCE_Z_VALUES[i],\n",
    "        \"element\": CHEMICAL_ELEMENT,\n",
    "        \"use_cartesian_coordinates\": USE_CARTESIAN_COORDINATES\n",
    "        # placement method is common for all adatoms\n",
    "    }\n",
    "    for i, coordinate in enumerate(COORDINATES)\n",
    "]"
   ],
   "id": "15bb5f2376e31ea7",
   "outputs": [],
   "execution_count": null
  },
  {
   "metadata": {},
   "cell_type": "markdown",
   "source": "### 2.2. Create the defects",
   "id": "f31763784a1abb19"
  },
  {
   "cell_type": "code",
   "id": "e385e50ae11ed2b9",
   "metadata": {
    "collapsed": false
   },
   "source": [
    "from mat3ra.made.tools.build.defect.adatom.helpers import create_multiple_adatom_defects\n",
    "\n",
    "slab_with_adatom = create_multiple_adatom_defects(\n",
    "    slab=slab,\n",
    "    defect_dicts=DEFECT_DICTS,\n",
    "    placement_method=PLACEMENT_METHOD,\n",
    ")\n"
   ],
   "outputs": [],
   "execution_count": null
  },
  {
   "cell_type": "markdown",
   "id": "462549d016073446",
   "metadata": {
    "collapsed": false
   },
   "source": [
    "## 3. Visualize the Slabs with Adatom"
   ]
  },
  {
   "cell_type": "code",
   "id": "509b18661a069e42",
   "metadata": {
    "collapsed": false
   },
   "source": [
    "from utils.visualize import visualize_materials as visualize\n",
    "\n",
    "visualize([{\"material\": slab, \"title\": \"Original material\"},\n",
    "           {\"material\": slab_with_adatom, \"title\": f\"Material with adatom defect at {PLACEMENT_METHOD} position\"}],\n",
    "          viewer=\"wave\")"
   ],
   "outputs": [],
   "execution_count": null
  },
  {
   "cell_type": "markdown",
   "id": "d381df29a6bbdd82",
   "metadata": {
    "collapsed": false
   },
   "source": [
    "## 4. Pass data to the outside runtime"
   ]
  },
  {
   "cell_type": "code",
   "id": "61daa5afcbc078a9",
   "metadata": {
    "collapsed": false
   },
   "source": [
    "from utils.jupyterlite import set_materials, download_content_to_file\n",
    "\n",
    "set_materials([slab_with_adatom])\n",
    "download_content_to_file(slab_with_adatom.to_json(), \"MoS2_Pt_island.json\")"
   ],
   "outputs": [],
   "execution_count": null
  }
 ],
 "metadata": {
  "kernelspec": {
   "display_name": "Python 3",
   "language": "python",
   "name": "python3"
  },
  "language_info": {
   "codemirror_mode": {
    "name": "ipython",
    "version": 2
   },
   "file_extension": ".py",
   "mimetype": "text/x-python",
   "name": "python",
   "nbconvert_exporter": "python",
   "pygments_lexer": "ipython2",
   "version": "2.7.6"
  }
 },
 "nbformat": 4,
 "nbformat_minor": 5
}
