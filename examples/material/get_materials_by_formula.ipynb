version https://git-lfs.github.com/spec/v1
oid sha256:b487e21849cf9fb321fcfcbe214aa9627de1b02d66e0a5d8c133b58daf135451
size 10889
