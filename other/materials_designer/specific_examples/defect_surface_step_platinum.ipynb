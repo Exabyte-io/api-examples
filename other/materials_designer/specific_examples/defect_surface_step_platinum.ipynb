{
 "cells": [
  {
   "cell_type": "markdown",
   "id": "95a274d80df28ccd",
   "metadata": {
    "collapsed": false
   },
   "source": [
    "# Step on a Platinum (211) surface\n",
    "\n",
    "## 0. Introduction\n",
    "\n",
    "This notebook demonstrates how to create a slab of Pt(211) which will show the step from the manuscript:\n",
    "\n",
    "> **Šljivančanin, Ž., & Hammer, B.**\n",
    "> \"Oxygen dissociation at close-packed Pt terraces, Pt steps, and Ag-covered Pt steps studied with density functional theory.\"\n",
    "> Surface Science, 515(1), 235–244. \n",
    "> [DOI: 10.1016/s0039-6028(02)01908-8 ](https://doi:10.1016/s0039-6028(02)01908-8 )\n",
    "\n",
    "Replicating the material from the FIG. 1. B.\n",
    "\n",
    "<img src=\"https://github.com/Exabyte-io/documentation/raw/12617167278ae3523adc028583b21ea4e8ebd197/images/tutorials/materials/defects/defect_surface_step_platinum/0-figure-from-manuscript.webp\" alt=\"Pt(211) step\" width=\"400\"/>\n",
    "\n",
    "\n"
   ]
  },
  {
   "cell_type": "markdown",
   "id": "d55eaee8bc55bffd",
   "metadata": {
    "collapsed": false
   },
   "source": [
    "## 1. Prepare the Environment\n",
    "### 1.1. Set up defect parameters "
   ]
  },
  {
   "cell_type": "code",
   "id": "4b64735060047bec",
   "metadata": {
    "collapsed": false,
    "ExecuteTime": {
     "end_time": "2025-07-28T19:33:36.364222Z",
     "start_time": "2025-07-28T19:33:36.361469Z"
    }
   },
   "source": [
    "MATERIAL_NAME = \"Pt\"\n",
    "MILLER_INDICES = (2, 1, 1)\n",
    "THICKNESS = 6  # in atomic layers\n",
    "VACUUM = 10.0  # in angstroms\n",
    "XY_SUPERCELL_MATRIX = [[1, 0], [0, 1]]\n",
    "USE_ORTHOGONAL_C = True\n",
    "USE_CONVENTIONAL_CELL = True\n",
    "\n",
    "VISUALIZATION_REPETITIONS = [1, 1, 1]"
   ],
   "outputs": [],
   "execution_count": 9
  },
  {
   "cell_type": "markdown",
   "id": "5e0ce05f6f031b3f",
   "metadata": {
    "collapsed": false
   },
   "source": [
    "### 1.2. Install Packages\n",
    "The step executes only in Pyodide environment. For other environments, the packages should be installed via `pip install` (see [README](../../README.ipynb))."
   ]
  },
  {
   "cell_type": "code",
   "id": "b457673560550933",
   "metadata": {
    "collapsed": false,
    "ExecuteTime": {
     "end_time": "2025-07-28T19:33:36.388494Z",
     "start_time": "2025-07-28T19:33:36.383239Z"
    }
   },
   "source": [
    "import sys\n",
    "\n",
    "if sys.platform == \"emscripten\":\n",
    "    import micropip\n",
    "\n",
    "    await micropip.install('mat3ra-api-examples', deps=False)\n",
    "    await micropip.install('mat3ra-utils')\n",
    "    from mat3ra.utils.jupyterlite.packages import install_packages\n",
    "\n",
    "    await install_packages(\"specific_examples\")"
   ],
   "outputs": [],
   "execution_count": 10
  },
  {
   "cell_type": "markdown",
   "id": "1659a8e9afe434fb",
   "metadata": {
    "collapsed": false
   },
   "source": [
    "### 1.3. Get input materials"
   ]
  },
  {
   "cell_type": "code",
   "id": "b588ccfe51967a86",
   "metadata": {
    "collapsed": false,
    "ExecuteTime": {
     "end_time": "2025-07-28T19:33:36.401752Z",
     "start_time": "2025-07-28T19:33:36.397803Z"
    }
   },
   "source": [
    "from mat3ra.made.material import Material\n",
    "from mat3ra.standata.materials import Materials\n",
    "\n",
    "material = Material.create(Materials.get_by_name_first_match(MATERIAL_NAME))"
   ],
   "outputs": [],
   "execution_count": 11
  },
  {
   "cell_type": "markdown",
   "id": "8c13970a869adfa9",
   "metadata": {
    "collapsed": false
   },
   "source": [
    "### 1.4. Preview the material"
   ]
  },
  {
   "cell_type": "code",
   "id": "c4f6e2697f97965f",
   "metadata": {
    "collapsed": false,
    "ExecuteTime": {
     "end_time": "2025-07-28T19:33:36.447463Z",
     "start_time": "2025-07-28T19:33:36.411780Z"
    }
   },
   "source": [
    "from utils.visualize import visualize_materials as visualize\n",
    "\n",
    "visualize(material, repetitions=VISUALIZATION_REPETITIONS, rotation=\"0x\")\n",
    "visualize(material, repetitions=VISUALIZATION_REPETITIONS, rotation=\"-90x\")"
   ],
   "outputs": [
    {
     "data": {
      "text/plain": [
       "GridBox(children=(VBox(children=(Label(value='Pt4 - Material - rotation: 0x', layout=Layout(align_self='center…"
      ],
      "application/vnd.jupyter.widget-view+json": {
       "version_major": 2,
       "version_minor": 0,
       "model_id": "667c2986c796425d99d479058e0ef5ed"
      }
     },
     "metadata": {},
     "output_type": "display_data"
    },
    {
     "data": {
      "text/plain": [
       "GridBox(children=(VBox(children=(Label(value='Pt4 - Material - rotation: -90x', layout=Layout(align_self='cent…"
      ],
      "application/vnd.jupyter.widget-view+json": {
       "version_major": 2,
       "version_minor": 0,
       "model_id": "981e82b1e7e443ef87b954d3e26bef00"
      }
     },
     "metadata": {},
     "output_type": "display_data"
    }
   ],
   "execution_count": 12
  },
  {
   "cell_type": "markdown",
   "id": "6634dae92a6c07b9",
   "metadata": {
    "collapsed": false
   },
   "source": [
    "## 2. Create a step with a slab\n",
    "\n",
    "### 2.1. Create slab configuration\n",
    "Slab Configuration lets define the slab thickness, vacuum, and the Miller indices of the interfacial plane and get the slabs with possible terminations.\n"
   ]
  },
  {
   "cell_type": "code",
   "id": "e9d81088",
   "metadata": {
    "ExecuteTime": {
     "end_time": "2025-07-28T19:33:36.840816Z",
     "start_time": "2025-07-28T19:33:36.465284Z"
    }
   },
   "source": [
    "from mat3ra.made.tools.build.slab.helpers import create_slab\n",
    "\n",
    "slab_211 = create_slab(\n",
    "    crystal=material,\n",
    "    termination=None,  # Use default termination\n",
    "    miller_indices=MILLER_INDICES,\n",
    "    number_of_layers=THICKNESS,\n",
    "    vacuum=VACUUM,\n",
    "    use_orthogonal_c=USE_ORTHOGONAL_C,\n",
    "    use_conventional_cell=USE_CONVENTIONAL_CELL,\n",
    "    xy_supercell_matrix=XY_SUPERCELL_MATRIX\n",
    ")\n",
    "\n"
   ],
   "outputs": [],
   "execution_count": 13
  },
  {
   "cell_type": "markdown",
   "id": "c6e2e18452972b21",
   "metadata": {
    "collapsed": false
   },
   "source": [
    "### 2.3. Visualize the slab"
   ]
  },
  {
   "cell_type": "code",
   "id": "246cb1f0437dbde0",
   "metadata": {
    "collapsed": false,
    "ExecuteTime": {
     "end_time": "2025-07-28T19:33:37.122076Z",
     "start_time": "2025-07-28T19:33:36.888728Z"
    }
   },
   "source": [
    "visualize(slab_211, repetitions=VISUALIZATION_REPETITIONS, rotation=\"0x\")\n",
    "visualize(slab_211, repetitions=VISUALIZATION_REPETITIONS, rotation=\"-90x\")"
   ],
   "outputs": [
    {
     "data": {
      "text/plain": [
       "GridBox(children=(VBox(children=(Label(value='Pt96 - Material - rotation: 0x', layout=Layout(align_self='cente…"
      ],
      "application/vnd.jupyter.widget-view+json": {
       "version_major": 2,
       "version_minor": 0,
       "model_id": "e384a16ba0474fbcabd026480a64202d"
      }
     },
     "metadata": {},
     "output_type": "display_data"
    },
    {
     "data": {
      "text/plain": [
       "GridBox(children=(VBox(children=(Label(value='Pt96 - Material - rotation: -90x', layout=Layout(align_self='cen…"
      ],
      "application/vnd.jupyter.widget-view+json": {
       "version_major": 2,
       "version_minor": 0,
       "model_id": "4bf99fba6f364bbf8460a4e069d06a5a"
      }
     },
     "metadata": {},
     "output_type": "display_data"
    }
   ],
   "execution_count": 14
  },
  {
   "cell_type": "markdown",
   "id": "c9ded02269a09c24",
   "metadata": {
    "collapsed": false
   },
   "source": [
    "## 3. Create a step with terrace builder\n",
    "### 3.1. Setup terrace parameters"
   ]
  },
  {
   "cell_type": "code",
   "id": "d6d9b6b5600a4eef",
   "metadata": {
    "collapsed": false,
    "ExecuteTime": {
     "end_time": "2025-07-28T19:33:37.151610Z",
     "start_time": "2025-07-28T19:33:37.147246Z"
    }
   },
   "source": [
    "# Material selection\n",
    "# Which material to use from input list\n",
    "MATERIAL_INDEX = 0  \n",
    "\n",
    "# Terrace parameters:\n",
    "# Normal vector describing a plane that cuts the terrace from added layers (Miller indices)\n",
    "CUT_DIRECTION = [0,1,1]  \n",
    "# Point the cutting plane passes through, in crystal coordinates\n",
    "PIVOT_COORDINATE = [0.5, 0.5, 0.5] \n",
    "# Height of terrace in atomic layers\n",
    "NUMBER_OF_ADDED_LAYERS = 1  \n",
    "# Use cartesian instead of crystal coordinates\n",
    "USE_CARTESIAN_COORDINATES = False  \n",
    "# Rotate to match periodic boundary conditions\n",
    "ROTATE_TO_MATCH_PBC = True  \n",
    "\n",
    "# Slab parameters for creating a new slab if provided material is not a slab\n",
    "DEFAULT_SLAB_PARAMETERS = {\n",
    "    \"miller_indices\": (1,1,1),\n",
    "    \"thickness\": 6,\n",
    "    \"vacuum\": 10.0,\n",
    "    \"USE_ORTHOGONAL_C\": True,\n",
    "    \"xy_supercell_matrix\": [[2, 0], [0, 2]]\n",
    "}\n",
    "\n",
    "# Visualization parameters\n",
    "SHOW_INTERMEDIATE_STEPS = True\n",
    "# Structure repeat in view\n",
    "CELL_REPETITIONS_FOR_VISUALIZATION = [1, 1, 1]  "
   ],
   "outputs": [],
   "execution_count": 15
  },
  {
   "cell_type": "markdown",
   "id": "12a15e84ec43f4f3",
   "metadata": {
    "collapsed": false
   },
   "source": [
    "### 3.2. Configure a terrace defect"
   ]
  },
  {
   "cell_type": "code",
   "id": "30b426c44f79582d",
   "metadata": {
    "collapsed": false,
    "ExecuteTime": {
     "end_time": "2025-07-28T19:33:37.240300Z",
     "start_time": "2025-07-28T19:33:37.170841Z"
    }
   },
   "source": [
    "from mat3ra.made.tools.build.slab.helpers import create_slab_if_not\n",
    "from mat3ra.made.tools.build.slab.configurations import SlabConfiguration\n",
    "\n",
    "default_slab_config = SlabConfiguration.from_parameters(\n",
    "    material_or_dict=material,\n",
    "    miller_indices=DEFAULT_SLAB_PARAMETERS[\"miller_indices\"],\n",
    "    number_of_layers=DEFAULT_SLAB_PARAMETERS[\"thickness\"],\n",
    "    vacuum=DEFAULT_SLAB_PARAMETERS[\"vacuum\"],\n",
    ")\n",
    "\n",
    "slab_111 = create_slab_if_not(material, default_slab_config)"
   ],
   "outputs": [
    {
     "ename": "AttributeError",
     "evalue": "'NoneType' object has no attribute 'get_build_metadata_of_type'",
     "output_type": "error",
     "traceback": [
      "\u001B[0;31m---------------------------------------------------------------------------\u001B[0m",
      "\u001B[0;31mAttributeError\u001B[0m                            Traceback (most recent call last)",
      "Cell \u001B[0;32mIn[16], line 11\u001B[0m\n\u001B[1;32m      2\u001B[0m \u001B[38;5;28;01mfrom\u001B[39;00m\u001B[38;5;250m \u001B[39m\u001B[38;5;21;01mmat3ra\u001B[39;00m\u001B[38;5;21;01m.\u001B[39;00m\u001B[38;5;21;01mmade\u001B[39;00m\u001B[38;5;21;01m.\u001B[39;00m\u001B[38;5;21;01mtools\u001B[39;00m\u001B[38;5;21;01m.\u001B[39;00m\u001B[38;5;21;01mbuild\u001B[39;00m\u001B[38;5;21;01m.\u001B[39;00m\u001B[38;5;21;01mslab\u001B[39;00m\u001B[38;5;21;01m.\u001B[39;00m\u001B[38;5;21;01mconfigurations\u001B[39;00m\u001B[38;5;250m \u001B[39m\u001B[38;5;28;01mimport\u001B[39;00m SlabConfiguration\n\u001B[1;32m      4\u001B[0m default_slab_config \u001B[38;5;241m=\u001B[39m SlabConfiguration\u001B[38;5;241m.\u001B[39mfrom_parameters(\n\u001B[1;32m      5\u001B[0m     material_or_dict\u001B[38;5;241m=\u001B[39mmaterial,\n\u001B[1;32m      6\u001B[0m     miller_indices\u001B[38;5;241m=\u001B[39mDEFAULT_SLAB_PARAMETERS[\u001B[38;5;124m\"\u001B[39m\u001B[38;5;124mmiller_indices\u001B[39m\u001B[38;5;124m\"\u001B[39m],\n\u001B[1;32m      7\u001B[0m     number_of_layers\u001B[38;5;241m=\u001B[39mDEFAULT_SLAB_PARAMETERS[\u001B[38;5;124m\"\u001B[39m\u001B[38;5;124mthickness\u001B[39m\u001B[38;5;124m\"\u001B[39m],\n\u001B[1;32m      8\u001B[0m     vacuum\u001B[38;5;241m=\u001B[39mDEFAULT_SLAB_PARAMETERS[\u001B[38;5;124m\"\u001B[39m\u001B[38;5;124mvacuum\u001B[39m\u001B[38;5;124m\"\u001B[39m],\n\u001B[1;32m      9\u001B[0m )\n\u001B[0;32m---> 11\u001B[0m slab_111 \u001B[38;5;241m=\u001B[39m \u001B[43mcreate_slab_if_not\u001B[49m\u001B[43m(\u001B[49m\u001B[43mmaterial\u001B[49m\u001B[43m,\u001B[49m\u001B[43m \u001B[49m\u001B[43mdefault_slab_config\u001B[49m\u001B[43m)\u001B[49m\n",
      "File \u001B[0;32m~/code/GREEN/api-examples/.venv-3.11.2/lib/python3.11/site-packages/mat3ra/made/tools/build/slab/helpers.py:114\u001B[0m, in \u001B[0;36mcreate_slab_if_not\u001B[0;34m(material, default_slab_configuration)\u001B[0m\n\u001B[1;32m    110\u001B[0m \u001B[38;5;28;01mdef\u001B[39;00m\u001B[38;5;250m \u001B[39m\u001B[38;5;21mcreate_slab_if_not\u001B[39m(\n\u001B[1;32m    111\u001B[0m     material: MaterialWithBuildMetadata, default_slab_configuration: SlabConfiguration\n\u001B[1;32m    112\u001B[0m ) \u001B[38;5;241m-\u001B[39m\u001B[38;5;241m>\u001B[39m MaterialWithBuildMetadata:\n\u001B[1;32m    113\u001B[0m     slab \u001B[38;5;241m=\u001B[39m material\n\u001B[0;32m--> 114\u001B[0m     build_metadata_slab \u001B[38;5;241m=\u001B[39m \u001B[43mslab\u001B[49m\u001B[38;5;241;43m.\u001B[39;49m\u001B[43mmetadata\u001B[49m\u001B[38;5;241;43m.\u001B[39;49m\u001B[43mget_build_metadata_of_type\u001B[49m(\u001B[38;5;124m\"\u001B[39m\u001B[38;5;124mSlabConfiguration\u001B[39m\u001B[38;5;124m\"\u001B[39m)\n\u001B[1;32m    115\u001B[0m     \u001B[38;5;28;01mif\u001B[39;00m build_metadata_slab \u001B[38;5;129;01mis\u001B[39;00m \u001B[38;5;28;01mNone\u001B[39;00m:\n\u001B[1;32m    116\u001B[0m         \u001B[38;5;28mprint\u001B[39m(\u001B[38;5;124m\"\u001B[39m\u001B[38;5;124mThe material is not a slab. Creating a new slab...\u001B[39m\u001B[38;5;124m\"\u001B[39m)\n",
      "\u001B[0;31mAttributeError\u001B[0m: 'NoneType' object has no attribute 'get_build_metadata_of_type'"
     ]
    }
   ],
   "execution_count": 16
  },
  {
   "cell_type": "code",
   "id": "f838761790cb392c",
   "metadata": {
    "collapsed": false
   },
   "source": [
    "from mat3ra.made.tools.build.defect.builders import TerraceSlabDefectConfiguration, TerraceSlabDefectBuilder\n",
    "\n",
    "config = TerraceSlabDefectConfiguration(\n",
    "    crystal=slab_111,\n",
    "    cut_direction=CUT_DIRECTION,\n",
    "    pivot_coordinate=PIVOT_COORDINATE,\n",
    "    number_of_added_layers=NUMBER_OF_ADDED_LAYERS,\n",
    "    use_cartesian_coordinates=USE_CARTESIAN_COORDINATES,\n",
    "    rotate_to_match_pbc=ROTATE_TO_MATCH_PBC\n",
    ")\n",
    "\n",
    "builder = TerraceSlabDefectBuilder()"
   ],
   "outputs": [],
   "execution_count": null
  },
  {
   "cell_type": "markdown",
   "id": "2a24adb037f45d0a",
   "metadata": {
    "collapsed": false
   },
   "source": [
    "### 3.3. Create a terrace defect"
   ]
  },
  {
   "cell_type": "code",
   "id": "2c2d722d81531839",
   "metadata": {
    "collapsed": false
   },
   "source": [
    "terrace_slab = builder.get_material(config)\n",
    "\n",
    "print(\"\\nTerrace defect created with:\")\n",
    "print(f\"Cut direction: {CUT_DIRECTION}\")\n",
    "print(f\"Pivot point: {PIVOT_COORDINATE}\")\n",
    "print(f\"Added layers: {NUMBER_OF_ADDED_LAYERS}\")\n",
    "print(f\"Number of atoms: {len(terrace_slab.basis.elements.ids)}\")"
   ],
   "outputs": [],
   "execution_count": null
  },
  {
   "cell_type": "markdown",
   "id": "847971b9e20420ec",
   "metadata": {
    "collapsed": false
   },
   "source": [
    "### 3.4. Visualize the terrace defect"
   ]
  },
  {
   "cell_type": "code",
   "id": "138a639f8a2b16bb",
   "metadata": {
    "collapsed": false
   },
   "source": [
    "visualize(terrace_slab, viewer=\"wave\")"
   ],
   "outputs": [],
   "execution_count": null
  },
  {
   "cell_type": "markdown",
   "id": "d667623ad5f2e061",
   "metadata": {
    "collapsed": false
   },
   "source": [
    "## 4. Download materials"
   ]
  },
  {
   "cell_type": "code",
   "id": "3705115f04ac0010",
   "metadata": {
    "collapsed": false
   },
   "source": [
    "from utils.jupyterlite import download_content_to_file, set_materials\n",
    "\n",
    "set_materials([slab_211, terrace_slab])\n",
    "download_content_to_file(slab_211, \"Pt_211_step.json\")\n",
    "download_content_to_file(terrace_slab, \"Pt_111_terrace.json\")"
   ],
   "outputs": [],
   "execution_count": null
  }
 ],
 "metadata": {
  "kernelspec": {
   "display_name": "Python 3",
   "language": "python",
   "name": "python3"
  },
  "language_info": {
   "codemirror_mode": {
    "name": "ipython",
    "version": 2
   },
   "file_extension": ".py",
   "mimetype": "text/x-python",
   "name": "python",
   "nbconvert_exporter": "python",
   "pygments_lexer": "ipython2",
   "version": "2.7.6"
  }
 },
 "nbformat": 4,
 "nbformat_minor": 5
}
