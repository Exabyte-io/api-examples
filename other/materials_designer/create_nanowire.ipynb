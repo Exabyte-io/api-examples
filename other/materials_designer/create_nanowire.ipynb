{
 "cells": [
  {
   "cell_type": "markdown",
   "source": [
    "# Create a nanowire\n",
    "\n",
    "Create a nanowire from original material by creating a slab (with specific Miller indices) and cutting a cylinder along its Z axis, then, optionally, rotating to align along X axis.\n",
    "\n",
    "<h2 style=\"color:green\">Usage</h2>\n",
    "\n",
    "1. Make sure to select Input Materials (in the outer runtime) before running the notebook.\n",
    "1. Set notebook parameters in cell 1.1. below (or use the default values).\n",
    "1. Click “Run” > “Run All” to run all cells. \n",
    "1. Scroll down to view results. "
   ],
   "metadata": {
    "collapsed": false
   },
   "id": "c9f342d4ac1988c6"
  },
  {
   "cell_type": "markdown",
   "source": [
    "## 1. Prepare the Environment\n",
    "### 1.1. Set up nanowire parameters"
   ],
   "metadata": {
    "collapsed": false
   },
   "id": "cbcd112c418fcaa4"
  },
  {
   "cell_type": "code",
   "outputs": [],
   "source": [
    "MILLER_INDICES= (0,0,1)  # Miller indices of the nanowire direction\n",
    "RADIUS = 5.0 # Wire radius in Angstroms\n",
    "LENGTH = 30.0 # Wire length in Angstroms\n",
    "VACUUM = 10.0 # Vacuum thickness on the sides in Angstroms\n",
    "ALIGN_ALONG_X = True"
   ],
   "metadata": {
    "collapsed": false
   },
   "id": "2269749714d81b93"
  },
  {
   "cell_type": "markdown",
   "source": [
    "### 1.2. Install Packages\n",
    "The step executes only in Pyodide environment. For other environments, the packages should be installed via `pip install` (see [README](../../README.ipynb))."
   ],
   "metadata": {
    "collapsed": false
   },
   "id": "65c906791f69bac9"
  },
  {
   "cell_type": "code",
   "outputs": [],
   "source": [
    "import sys\n",
    "\n",
    "if sys.platform == \"emscripten\":\n",
    "    import micropip\n",
    "  \n",
    "    await micropip.install('mat3ra-api-examples', deps=False)\n",
    "    from utils.jupyterlite import install_packages\n",
    "    await install_packages(\"\")"
   ],
   "metadata": {
    "collapsed": false
   },
   "id": "6dac92b719d539ec"
  },
  {
   "cell_type": "markdown",
   "source": [
    "### 1.3. Get input materials"
   ],
   "metadata": {
    "collapsed": false
   },
   "id": "2fe1d71e1b02aed9"
  },
  {
   "cell_type": "code",
   "outputs": [],
   "source": [
    "from utils.jupyterlite import get_materials\n",
    "\n",
    "materials = get_materials(globals())\n",
    "material = materials[0] "
   ],
   "metadata": {
    "collapsed": false
   },
   "id": "b95701d7a0e593fe"
  },
  {
   "cell_type": "markdown",
   "source": [
    "### 1.4. Preview the material"
   ],
   "metadata": {
    "collapsed": false
   },
   "id": "a8ebe61794b2e803"
  },
  {
   "cell_type": "code",
   "outputs": [],
   "source": [
    "from utils.visualize import visualize_materials as visualize\n",
    "visualize(material, repetitions=[3,3,3], rotation=\"0x\")\n",
    "visualize(material, repetitions=[3,3,3], rotation=\"-90x\")"
   ],
   "metadata": {
    "collapsed": false
   },
   "id": "c98ec170f3ee6d24"
  },
  {
   "cell_type": "markdown",
   "source": [
    "## 2. Create nanowire\n",
    "### 2.1. Create a slab and cut a cylinder"
   ],
   "metadata": {
    "collapsed": false
   },
   "id": "38ecf94e650e268d"
  },
  {
   "cell_type": "code",
   "outputs": [],
   "source": [
    "import math\n",
    "from mat3ra.made.tools.build.supercell import create_supercell\n",
    "from mat3ra.made.tools.modify import filter_by_cylinder, add_vacuum_sides\n",
    "from mat3ra.made.tools.build.slab import create_slab, SlabConfiguration\n",
    "\n",
    "slab_config = SlabConfiguration(\n",
    "    bulk=material,\n",
    "    miller_indices=MILLER_INDICES,\n",
    "    thickness=1,\n",
    "    vacuum=0,\n",
    "    use_orthogonal_z=True,\n",
    ")\n",
    "\n",
    "slab_unit_cell = create_slab(slab_config)\n",
    "n_for_x = math.ceil(int(2*RADIUS / slab_unit_cell.lattice.a)) + 1\n",
    "n_for_y = math.ceil(int(2*RADIUS / slab_unit_cell.lattice.b)) + 1\n",
    "n_for_z = int(LENGTH / slab_unit_cell.lattice.c)\n",
    "supercell = create_supercell(slab_unit_cell, supercell_matrix=[[n_for_x, 0, 0], [0, n_for_y, 0], [0, 0, n_for_z]])\n",
    "nanowire_z = filter_by_cylinder(supercell, radius=RADIUS, use_cartesian_coordinates=True)\n",
    "nanowire_z = add_vacuum_sides(nanowire_z, vacuum=VACUUM, on_x=True, on_y=True)    "
   ],
   "metadata": {
    "collapsed": false
   },
   "id": "c4b34b3287960dcc"
  },
  {
   "cell_type": "markdown",
   "source": [
    "### 2.2. Rotate to align along X axis (optional)"
   ],
   "metadata": {
    "collapsed": false
   },
   "id": "ae940638396f93a6"
  },
  {
   "cell_type": "code",
   "outputs": [],
   "source": [
    "rotate_90_degree_matrix = [[0, 0, 1], [0, 1, 0], [-1, 0, 0]]\n",
    "nanowire_x = create_supercell(nanowire_z, supercell_matrix=rotate_90_degree_matrix)\n",
    "nanowire = nanowire_x if ALIGN_ALONG_X else nanowire_z"
   ],
   "metadata": {
    "collapsed": false
   },
   "id": "7401ab24726bf4e5"
  },
  {
   "cell_type": "markdown",
   "source": [
    "## 3. Visualize the result"
   ],
   "metadata": {
    "collapsed": false
   },
   "id": "d8f41816d0b48edc"
  },
  {
   "cell_type": "code",
   "outputs": [],
   "source": [
    "visualize(nanowire, repetitions=[1, 1, 1], rotation=\"0x\")\n",
    "visualize(nanowire, repetitions=[1, 1, 1], rotation=\"-90x\")\n",
    "visualize(nanowire, repetitions=[1, 1, 1], rotation=\"-90y\")"
   ],
   "metadata": {
    "collapsed": false
   },
   "id": "aea078560283ca95",
   "execution_count": null
  },
  {
   "cell_type": "markdown",
   "source": [
    "# 4. Pass material to the outside runtime"
   ],
   "metadata": {
    "collapsed": false
   },
   "id": "a212abe25bf59b4f"
  },
  {
   "cell_type": "code",
   "outputs": [],
   "source": [
    "from utils.jupyterlite import set_materials\n",
    "set_materials(nanowire)"
   ],
   "metadata": {
    "collapsed": false
   },
   "id": "cdaf612bc6198546",
   "execution_count": null
  }
 ],
 "metadata": {
  "kernelspec": {
   "display_name": "Python 3",
   "language": "python",
   "name": "python3"
  },
  "language_info": {
   "codemirror_mode": {
    "name": "ipython",
    "version": 2
   },
   "file_extension": ".py",
   "mimetype": "text/x-python",
   "name": "python",
   "nbconvert_exporter": "python",
   "pygments_lexer": "ipython2",
   "version": "2.7.6"
  }
 },
 "nbformat": 4,
 "nbformat_minor": 5
}
