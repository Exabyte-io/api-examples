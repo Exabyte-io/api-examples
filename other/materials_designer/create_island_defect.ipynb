{
 "cells": [
  {
   "cell_type": "markdown",
   "source": [
    "# Create island defect on a slab\n",
    "\n",
    "Create an island defect on a slab\n",
    "\n",
    "<h2 style=\"color:green\">Usage</h2>\n",
    "\n",
    "1. Make sure to select Input Materials (in the outer runtime) before running the notebook.\n",
    "1. Set notebook parameters in cell 1.1. below (or use the default values).\n",
    "1. Click “Run” > “Run All” to run all cells. \n",
    "1. Scroll down to view results. \n",
    "\n",
    "\n",
    "## Notes\n",
    "\n",
    "1. For more information, see [Introduction](Introduction.ipynb)\n",
    "<!-- # TODO: use a hashtag-based anchor link to interface creation documention above -->\n"
   ],
   "metadata": {
    "collapsed": false
   },
   "id": "f2e1e795020d7b3f"
  },
  {
   "cell_type": "markdown",
   "source": [
    "## 1. Prepare the Environment\n",
    "### 1.1. Set up defect parameters "
   ],
   "metadata": {
    "collapsed": false
   },
   "id": "5e43ff288847b784"
  },
  {
   "cell_type": "code",
   "outputs": [],
   "source": [
    "# Shape-specific parameters\n",
    "# Choose the island shape: 'cylinder', 'sphere', 'box', or 'triangular_prism'\n",
    "# and the corresponding parameters\n",
    "SHAPE_PARAMETERS = {\n",
    "    'shape': 'cylinder',\n",
    "    'radius': 0.25,\n",
    "    'min_z': 0,\n",
    "    'max_z': 1\n",
    "}\n",
    "\n",
    "# Common parameters\n",
    "CENTER_POSITION = [0.5, 0.5, 0.5]  # Center of the island\n",
    "USE_CARTESIAN_COORDINATES = False  # Use Cartesian coordinates for the island\n",
    "NUMBER_OF_ADDED_LAYERS = 1  # Number of layers to add to the island\n",
    "\n",
    "# Vacuum parameters for builder\n",
    "AUTO_ADD_VACUUM = True  # Automatically add vacuum to the slab\n",
    "VACUUM_THICKNESS = 10.0  # Thickness of the vacuum\n",
    "\n",
    "# Slab parameters for creating a new slab if provided material is not a slab\n",
    "DEFAULT_SLAB_PARAMETERS = {\n",
    "    \"miller_indices\": (0,0,1),\n",
    "    \"thickness\": 3,\n",
    "    \"vacuum\": 5.0,\n",
    "    \"use_orthogonal_z\": True,\n",
    "    \"xy_supercell_matrix\": [[3, 0], [0, 3]]\n",
    "}\n",
    "\n",
    "\n",
    "# Uncomment and set the parameters for other shapes if needed\n",
    "# SHAPE_PARAMETERS = {\n",
    "#     'shape': 'sphere',\n",
    "#     'radius': 0.25\n",
    "# }\n",
    "# \n",
    "# SHAPE_PARAMETERS = {\n",
    "#     'shape': 'box',\n",
    "#     'min_coordinate': [0.25, 0.25, 0],\n",
    "#     'max_coordinate': [0.75, 0.75, 1]\n",
    "# }\n",
    "# \n",
    "# SHAPE_PARAMETERS = {\n",
    "#     'shape': 'triangular_prism',\n",
    "#     'position_on_surface_1': [0.25, 0.25],\n",
    "#     'position_on_surface_2': [0.75, 0.25],\n",
    "#     'position_on_surface_3': [0.5, 0.75],\n",
    "#     'min_z': 0,\n",
    "#     'max_z': 1\n",
    "# }\n",
    "\n"
   ],
   "metadata": {
    "collapsed": false
   },
   "id": "9d8b1890b34d850a",
   "execution_count": null
  },
  {
   "cell_type": "markdown",
   "source": [
    "### 1.2. Install Packages\n",
    "The step executes only in Pyodide environment. For other environments, the packages should be installed via `pip install` (see [README](../../README.ipynb))."
   ],
   "metadata": {
    "collapsed": false
   },
   "id": "bb64de5ff32649f8"
  },
  {
   "cell_type": "code",
   "outputs": [],
   "source": [
    "import sys\n",
    "\n",
    "if sys.platform == \"emscripten\":\n",
    "    import micropip\n",
    "    await micropip.install('mat3ra-api-examples', deps=False)\n",
    "    from utils.jupyterlite import install_packages\n",
    "    await install_packages(\"\")"
   ],
   "metadata": {
    "collapsed": false
   },
   "id": "ef664b14457530fd",
   "execution_count": null
  },
  {
   "cell_type": "markdown",
   "source": [
    "### 1.3. Get input material"
   ],
   "metadata": {
    "collapsed": false
   },
   "id": "919ad7af8dceeedd"
  },
  {
   "cell_type": "code",
   "outputs": [],
   "source": [
    "from utils.jupyterlite import get_materials\n",
    "materials = get_materials(globals())"
   ],
   "metadata": {
    "collapsed": false
   },
   "id": "be38fdda1984c654",
   "execution_count": null
  },
  {
   "cell_type": "markdown",
   "source": [
    "### 1.4. Preview Slab or create a new one"
   ],
   "metadata": {
    "collapsed": false
   },
   "id": "a132fe0ef8bbf0d0"
  },
  {
   "cell_type": "code",
   "outputs": [],
   "source": [
    "from mat3ra.made.tools.build.slab import create_slab, SlabConfiguration\n",
    "from utils.visualize import visualize_materials as visualize\n",
    "\n",
    "slab = materials[0]\n",
    "if not slab.metadata or slab.metadata[\"build\"][\"configuration\"][\"type\"] != SlabConfiguration.__name__:\n",
    "    print(\"The material is not a slab. Creating a new slab...\")\n",
    "    slab_config = SlabConfiguration(\n",
    "        bulk=materials[0],\n",
    "        miller_indices=DEFAULT_SLAB_PARAMETERS[\"miller_indices\"],\n",
    "        thickness=DEFAULT_SLAB_PARAMETERS[\"thickness\"],\n",
    "        vacuum= DEFAULT_SLAB_PARAMETERS[\"vacuum\"],\n",
    "        use_orthogonal_z=DEFAULT_SLAB_PARAMETERS[\"use_orthogonal_z\"],\n",
    "        xy_supercell_matrix=DEFAULT_SLAB_PARAMETERS[\"xy_supercell_matrix\"]\n",
    "    )\n",
    "        \n",
    "    slab = create_slab(slab_config)\n",
    "\n",
    "visualize([{\"material\": slab, \"title\": \"Original material\"}])\n",
    "visualize([{\"material\": slab, \"title\": \"Original material\"}], rotation=\"-90x\")"
   ],
   "metadata": {
    "collapsed": false
   },
   "id": "7fcb1e02e84c5f35",
   "execution_count": null
  },
  {
   "cell_type": "markdown",
   "source": [
    "## 2. Create the Target Material\n",
    "### 2.1. Initialize the defect configuration and builder"
   ],
   "metadata": {
    "collapsed": false
   },
   "id": "690241d87e7bbbe0"
  },
  {
   "cell_type": "code",
   "outputs": [],
   "source": [
    "from mat3ra.made.tools.build.defect import IslandSlabDefectConfiguration\n",
    "\n",
    "\n",
    "island_config = IslandSlabDefectConfiguration.from_dict(\n",
    "    crystal=slab,\n",
    "    condition=SHAPE_PARAMETERS,\n",
    "    number_of_added_layers = NUMBER_OF_ADDED_LAYERS\n",
    ")\n",
    "\n",
    "from mat3ra.made.tools.build.defect import IslandSlabDefectBuilder, SlabDefectBuilderParameters\n",
    "params = SlabDefectBuilderParameters(\n",
    "    auto_add_vacuum=AUTO_ADD_VACUUM,\n",
    "    vacuum_thickness=VACUUM_THICKNESS,\n",
    ")\n",
    "builder = IslandSlabDefectBuilder(build_parameters=params)"
   ],
   "metadata": {
    "collapsed": false
   },
   "id": "e2d24109d3068c9e",
   "execution_count": null
  },
  {
   "cell_type": "markdown",
   "source": [
    "### 2.2. Create the island"
   ],
   "metadata": {
    "collapsed": false
   },
   "id": "489b51f0ee122c48"
  },
  {
   "cell_type": "code",
   "outputs": [],
   "source": [
    "slab_with_island = builder.get_material(island_config)"
   ],
   "metadata": {
    "collapsed": false
   },
   "id": "a990fa35742d7269",
   "execution_count": null
  },
  {
   "cell_type": "markdown",
   "source": [
    "## 3. Visualize the Result(s)"
   ],
   "metadata": {
    "collapsed": false
   },
   "id": "462549d016073446"
  },
  {
   "cell_type": "code",
   "outputs": [],
   "source": [
    "visualize([{\"material\": slab, \"title\": \"Original material\"},\n",
    "           {\"material\": slab_with_island, \"title\": f\"Material with Island Defect ({SHAPE_PARAMETERS['shape']})\"}]  ,\n",
    "rotation=\"-90x\")\n",
    "\n",
    "visualize([{\"material\": slab, \"title\": \"Original material\"},\n",
    "           {\"material\": slab_with_island, \"title\": f\"Material with Island Defect ({SHAPE_PARAMETERS['shape']})\"}], rotation=\"-90x\")"
   ],
   "metadata": {
    "collapsed": false
   },
   "id": "509b18661a069e42",
   "execution_count": null
  },
  {
   "cell_type": "markdown",
   "source": [
    "## 4. Pass data to the outside runtime"
   ],
   "metadata": {
    "collapsed": false
   },
   "id": "d381df29a6bbdd82"
  },
  {
   "cell_type": "code",
   "outputs": [],
   "source": [
    "from utils.jupyterlite import set_materials\n",
    "\n",
    "set_materials(slab_with_island)"
   ],
   "metadata": {
    "collapsed": false
   },
   "id": "61daa5afcbc078a9",
   "execution_count": null
  }
 ],
 "metadata": {
  "kernelspec": {
   "display_name": "Python 3",
   "language": "python",
   "name": "python3"
  },
  "language_info": {
   "codemirror_mode": {
    "name": "ipython",
    "version": 2
   },
   "file_extension": ".py",
   "mimetype": "text/x-python",
   "name": "python",
   "nbconvert_exporter": "python",
   "pygments_lexer": "ipython2",
   "version": "2.7.6"
  }
 },
 "nbformat": 4,
 "nbformat_minor": 5
}
