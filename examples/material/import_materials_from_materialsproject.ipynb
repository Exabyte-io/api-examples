version https://git-lfs.github.com/spec/v1
oid sha256:1ca36fedba6c16e42731c7ed271db4e4d610e623299676a3a3be39c630f63251
size 39012
