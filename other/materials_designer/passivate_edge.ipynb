{
 "cells": [
  {
   "cell_type": "markdown",
   "id": "0",
   "metadata": {},
   "source": []
  },
  {
   "cell_type": "markdown",
   "id": "1",
   "metadata": {},
   "source": [
    "# Create Edge Passivation\n",
    "Passivate material edges by detecting and adding passivants to undercoordinated atoms (atoms with fewer neighbors than bulk).\n",
    "\n",
    "<h2 style=\"color:green\">Usage</h2>\n",
    "\n",
    "1. Make sure to select Input Material (nanoribbon) before running the notebook.\n",
    "1. Set notebook parameters in cell 1.1. below (or use the default values).\n",
    "1. When prompted, select the coordination threshold based on the analysis.\n",
    "1. Click \"Run\" > \"Run All\" to run all cells.\n",
    "1. Wait for the run to complete.\n",
    "1. Scroll down to view results.\n",
    "\n",
    "## Notes\n",
    "1. Coordination-based passivation finds atoms with fewer neighbors than expected\n",
    "2. Coordination threshold below which passivation is applied, must be set depending on the material\n",
    "3. Passivant atoms are placed along the direction away from existing bonds\n"
   ]
  },
  {
   "cell_type": "markdown",
   "id": "2",
   "metadata": {},
   "source": [
    "## 1. Prepare the Environment\n",
    "### 1.1. Set up the notebook\n",
    "Passivation Configuration parameters are described in [Passivation Configuration](https://github.com/Exabyte-io/made/blob/666a941a190a94979b5295f5039f6a4b9158d7dd/src/py/mat3ra/made/tools/build/passivation/configuration.py#L7).\n",
    "Coordination search radius shown on the image below:\n",
    "\n",
    "<img src=\"https://github.com/Exabyte-io/documentation/raw/88451ce38b0f57f804dcb5010a1a95bb9b9e50bc/images/notebooks/coordination_based_passivation_settings.webp\" alt=\"Coordination search radius\" width=\"400\"/>"
   ]
  },
  {
   "cell_type": "code",
   "execution_count": null,
   "id": "3",
   "metadata": {},
   "outputs": [],
   "source": [
    "# Enable interactive selection of coordination threshold\n",
    "IS_COORDINATION_SELECTION_INTERACTIVE = False\n",
    "\n",
    "# Material selection\n",
    "MATERIAL_INDEX = 0\n",
    "\n",
    "# Passivation parameters\n",
    "PASSIVANT = \"H\"  # Chemical element for passivating atom\n",
    "BOND_LENGTH = 1.09  # Distance from atom to passivant, in Angstroms\n",
    "\n",
    "# Undercoordinated atoms search algorithm parameters\n",
    "COORDINATION_THRESHOLD = 2  # Coordination threshold, below which passivation is applied to the atom\n",
    "COORDINATION_SEARCH_RADIUS = 3.0  # Distance to look for neighbors for coordination, in Angstroms\n",
    "NUMBER_OF_BONDS_TO_PASSIVATE = 1  # Number of bonds to passivate per undercoordinated atom\n",
    "\n",
    "SYMMETRY_TOLERANCE = 0.1  # Tolerance for symmetry analysis of existing bonds\n",
    "\n",
    "# Visualization parameters\n",
    "SHOW_INTERMEDIATE_STEPS = True\n",
    "CELL_REPETITIONS_FOR_VISUALIZATION = [1, 1, 1]  # Structure repeat in view"
   ]
  },
  {
   "cell_type": "markdown",
   "id": "4",
   "metadata": {},
   "source": [
    "### 1.2. Install packages\n",
    "The step executes only in Pyodide environment. For other environments, the packages should be installed via `pip install`.\n"
   ]
  },
  {
   "cell_type": "code",
   "execution_count": null,
   "id": "5",
   "metadata": {},
   "outputs": [],
   "source": [
    "import sys\n",
    "\n",
    "if sys.platform == \"emscripten\":\n",
    "    import micropip\n",
    "\n",
    "    await micropip.install(\"mat3ra-api-examples\", deps=False)\n",
    "    await micropip.install('mat3ra-utils')\n",
    "    from mat3ra.utils.jupyterlite.packages import install_packages\n",
    "\n",
    "    await install_packages(\"\")"
   ]
  },
  {
   "cell_type": "markdown",
   "id": "6",
   "metadata": {},
   "source": [
    "### 1.3. Load and preview input material\n"
   ]
  },
  {
   "cell_type": "code",
   "execution_count": null,
   "id": "7",
   "metadata": {},
   "outputs": [],
   "source": [
    "from utils.jupyterlite import get_materials\n",
    "from utils.visualize import visualize_materials\n",
    "\n",
    "materials = get_materials(globals())\n",
    "nanoribbon = materials[MATERIAL_INDEX]\n",
    "\n",
    "if SHOW_INTERMEDIATE_STEPS:\n",
    "    print(\"Initial nanoribbon structure:\")\n",
    "    visualize_materials(nanoribbon, repetitions=CELL_REPETITIONS_FOR_VISUALIZATION)\n",
    "    visualize_materials(nanoribbon, repetitions=CELL_REPETITIONS_FOR_VISUALIZATION, rotation=\"-90x\")"
   ]
  },
  {
   "cell_type": "markdown",
   "id": "8",
   "metadata": {},
   "source": [
    "## 2. Analyze Coordination Numbers and Select Threshold\n",
    "### 2.1. Plot RDF to estimate coordination search radius"
   ]
  },
  {
   "cell_type": "code",
   "execution_count": null,
   "id": "9",
   "metadata": {},
   "outputs": [],
   "source": [
    "from utils.plot import plot_rdf\n",
    "\n",
    "plot_rdf(nanoribbon, cutoff=10.0)"
   ]
  },
  {
   "cell_type": "markdown",
   "id": "10",
   "metadata": {},
   "source": [
    "### 2.2. Get coordination numbers and set coordination threshold"
   ]
  },
  {
   "cell_type": "code",
   "execution_count": null,
   "id": "11",
   "metadata": {},
   "outputs": [],
   "source": [
    "from utils.io import select_coordination_threshold\n",
    "from mat3ra.made.tools.helpers import get_unique_coordination_numbers, get_coordination_numbers_distribution\n",
    "\n",
    "coordination_search_radius = None  # Change this value according to the RDF plot if needed, Angstroms.\n",
    "cutoff = coordination_search_radius or COORDINATION_SEARCH_RADIUS\n",
    "\n",
    "# Get coordination numbers using the newer approach\n",
    "coordination_numbers = get_unique_coordination_numbers(\n",
    "    material=nanoribbon,\n",
    "    cutoff=cutoff\n",
    ")\n",
    "print(f\"Unique coordination numbers: {coordination_numbers}\")\n",
    "\n",
    "cn_distribution = get_coordination_numbers_distribution(\n",
    "    material=nanoribbon,\n",
    "    cutoff=cutoff\n",
    ")\n",
    "print(f\"Coordination numbers distribution: {cn_distribution}\")\n",
    "\n",
    "coordination_threshold = COORDINATION_THRESHOLD\n",
    "if IS_COORDINATION_SELECTION_INTERACTIVE:\n",
    "    coordination_threshold = await select_coordination_threshold(\n",
    "        cn_distribution, COORDINATION_THRESHOLD\n",
    "    )\n",
    "\n",
    "print(f\"\\nSelected coordination threshold: {coordination_threshold}\")\n",
    "print(f\"Atoms with coordination <= {coordination_threshold} will be passivated\")"
   ]
  },
  {
   "cell_type": "markdown",
   "id": "12",
   "metadata": {},
   "source": [
    "## 3. Create Passivated Material\n",
    "### 3.1. Set up passivation parameters\n"
   ]
  },
  {
   "cell_type": "code",
   "execution_count": null,
   "id": "13",
   "metadata": {},
   "outputs": [],
   "source": [
    "passivation_params = {\n",
    "    \"shadowing_radius\": COORDINATION_SEARCH_RADIUS,\n",
    "    \"coordination_threshold\": coordination_threshold,\n",
    "    \"number_of_bonds_to_passivate\": NUMBER_OF_BONDS_TO_PASSIVATE,\n",
    "    \"symmetry_tolerance\": SYMMETRY_TOLERANCE\n",
    "}\n",
    "\n",
    "print(f\"Passivation parameters:\")\n",
    "print(f\"  Shadowing radius: {passivation_params['shadowing_radius']} Å\")\n",
    "print(f\"  Coordination threshold: {passivation_params['coordination_threshold']}\")\n",
    "print(f\"  Number of bonds to passivate: {passivation_params['number_of_bonds_to_passivate']}\")\n",
    "print(f\"  Symmetry tolerance: {passivation_params['symmetry_tolerance']}\")"
   ]
  },
  {
   "cell_type": "markdown",
   "id": "14",
   "metadata": {},
   "source": [
    "### 3.2. Generate passivated structure\n"
   ]
  },
  {
   "cell_type": "code",
   "execution_count": null,
   "id": "15",
   "metadata": {},
   "outputs": [],
   "source": [
    "from mat3ra.made.tools.helpers import passivate_dangling_bonds\n",
    "\n",
    "passivated_nanoribbon = passivate_dangling_bonds(\n",
    "    material=nanoribbon,\n",
    "    passivant=PASSIVANT,\n",
    "    bond_length=BOND_LENGTH,\n",
    "    **passivation_params\n",
    ")\n",
    "\n",
    "print(\"\\nPassivation completed:\")\n",
    "print(f\"Passivant used: {PASSIVANT}\")\n",
    "print(f\"Bond length: {BOND_LENGTH} Å\")\n",
    "print(f\"Original atoms: {len(nanoribbon.basis.elements.ids)}\")\n",
    "print(f\"Final atoms: {len(passivated_nanoribbon.basis.elements.ids)}\")\n",
    "print(f\"Passivant atoms added: {len(passivated_nanoribbon.basis.elements.ids) - len(nanoribbon.basis.elements.ids)}\")"
   ]
  },
  {
   "cell_type": "markdown",
   "id": "16",
   "metadata": {},
   "source": [
    "## 4. Visualize the result"
   ]
  },
  {
   "cell_type": "code",
   "execution_count": null,
   "id": "17",
   "metadata": {},
   "outputs": [],
   "source": [
    "print(\"Final passivated structure:\")\n",
    "visualize_materials(passivated_nanoribbon, repetitions=CELL_REPETITIONS_FOR_VISUALIZATION)\n",
    "visualize_materials(passivated_nanoribbon, repetitions=CELL_REPETITIONS_FOR_VISUALIZATION, rotation=\"-90x\")"
   ]
  },
  {
   "cell_type": "markdown",
   "id": "18",
   "metadata": {},
   "source": [
    "## 5. Pass data to the outside runtime\n"
   ]
  },
  {
   "cell_type": "code",
   "execution_count": null,
   "id": "19",
   "metadata": {},
   "outputs": [],
   "source": [
    "from utils.jupyterlite import set_materials\n",
    "\n",
    "passivated_nanoribbon.name = f\"{nanoribbon.name} {PASSIVANT}-passivated\"\n",
    "set_materials(passivated_nanoribbon)"
   ]
  }
 ],
 "metadata": {
  "kernelspec": {
   "display_name": "Python 3",
   "language": "python",
   "name": "python3"
  },
  "language_info": {
   "codemirror_mode": {
    "name": "ipython",
    "version": 2
   },
   "file_extension": ".py",
   "mimetype": "text/x-python",
   "name": "python",
   "nbconvert_exporter": "python",
   "pygments_lexer": "ipython2",
   "version": "2.7.6"
  }
 },
 "nbformat": 4,
 "nbformat_minor": 5
}
