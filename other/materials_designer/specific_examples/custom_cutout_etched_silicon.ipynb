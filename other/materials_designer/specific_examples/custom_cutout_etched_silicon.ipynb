{
 "cells": [
  {
   "cell_type": "markdown",
   "id": "0",
   "metadata": {},
   "source": [
    "# Create a custom-shape cutout (Si)\n",
    "\n",
    "Create a slab with a complex cutout pattern.\n",
    "By default, this notebook generates a structure of etching pattern:\n",
    "- Two vertical side walls\n",
    "- Two parallel channels at the top\n",
    "- A deeper central cavity\n",
    "\n",
    "<h2 style=\"color:green\">Usage</h2>\n",
    "\n",
    "1. Make sure to select Input Material (in the outer runtime) before running the notebook.\n",
    "2. Set structural parameters in cell 1.2 below\n",
    "4. Click \"Run\" > \"Run All\" to create the structure\n",
    "5. Scroll down to view the resulting structure from multiple angles\n",
    "\n",
    "## Resulting structure:\n",
    "<img src=\"https://objects.mat3ra.com/images/notebooks/cutout_custom_shape_silicon.png\" width=\"400\">"
   ]
  },
  {
   "cell_type": "markdown",
   "id": "1",
   "metadata": {},
   "source": [
    "## 1. Prepare the Environment\n",
    "### 1.1. Install Packages\n",
    "The step executes only in Pyodide environment. For other environments, the packages should be installed via `pip install` (see [README](../../README.ipynb))."
   ]
  },
  {
   "cell_type": "code",
   "execution_count": null,
   "id": "2",
   "metadata": {},
   "outputs": [],
   "source": [
    "import sys\n",
    "\n",
    "if sys.platform == \"emscripten\":\n",
    "    import micropip\n",
    "\n",
    "    await micropip.install(\"mat3ra-api-examples\", deps=False)\n",
    "    await micropip.install('mat3ra-utils')\n",
    "    from mat3ra.utils.jupyterlite.packages import install_packages\n",
    "\n",
    "    await install_packages(\"specific_examples\")"
   ]
  },
  {
   "cell_type": "markdown",
   "id": "3",
   "metadata": {},
   "source": [
    "### 1.2. Set up structure parameters "
   ]
  },
  {
   "cell_type": "code",
   "execution_count": null,
   "id": "4",
   "metadata": {},
   "outputs": [],
   "source": [
    "# Slab parameters\n",
    "MILLER_INDICES = (0, 0, 1)\n",
    "THICKNESS = 6  # unit cell layers\n",
    "VACUUM = 10.0  # Angstrom\n",
    "XY_SUPERCELL_MATRIX = [[10, 0], [0, 10]]\n",
    "\n",
    "# Custom shape parameters in crystal units of the slab\n",
    "LEFT_WALL_POSITION = 0.2\n",
    "RIGHT_WALL_POSITION = 0.8\n",
    "LEFT_CHANNEL_POSITION = 0.25\n",
    "RIGHT_CHANNEL_POSITION = 0.75\n",
    "CHANNEL_TOP_Z = 0.8\n",
    "CAVITY_TOP_Z = 0.5\n",
    "\n",
    "NAME = \"Custom Shape - Etching Pattern\""
   ]
  },
  {
   "cell_type": "markdown",
   "id": "5",
   "metadata": {},
   "source": [
    "### 1.3. Create a condition on coordinates\n"
   ]
  },
  {
   "cell_type": "code",
   "execution_count": null,
   "id": "6",
   "metadata": {},
   "outputs": [],
   "source": [
    "from typing import List\n",
    "\n",
    "from mat3ra.made.tools.helpers import CoordinateCondition\n",
    "\n",
    "\n",
    "# Example of a custom coordinate condition. Adapt coordinate conditions to your needs.\n",
    "class CustomCoordinateCondition(CoordinateCondition):\n",
    "    \"\"\"\n",
    "    Defines an etched pattern structure with side walls, channels, and a central cavity.\n",
    "    All dimensions are specified as fractions of the total size (0.0 to 1.0).\n",
    "    \"\"\"\n",
    "    left_wall_position: float = 0.2\n",
    "    right_wall_position: float = 0.8\n",
    "    left_channel_position: float = 0.25\n",
    "    right_channel_position: float = 0.75\n",
    "    channel_top_z: float = 0.8\n",
    "    cavity_top_z: float = 0.5\n",
    "\n",
    "    def condition(self, coordinate: List[float]) -> bool:\n",
    "        \"\"\"\n",
    "        Determines which atoms to filter based on the coordinate.\n",
    "        Returns True for positions where atoms should be removed.\n",
    "        \n",
    "        The structure consists of:\n",
    "        1. Side walls: Two vertical walls running along the y-axis\n",
    "        2. Channels: Two trenches at the top running along the x-axis\n",
    "        3. Cavity: A deeper central region between the channels\n",
    "        \"\"\"\n",
    "        x, y, z = coordinate\n",
    "\n",
    "        # Define the structural elements\n",
    "        is_in_left_wall = x <= self.left_wall_position\n",
    "        is_in_right_wall = x >= self.right_wall_position\n",
    "\n",
    "        is_in_left_channel = y <= self.left_channel_position\n",
    "        is_in_right_channel = y >= self.right_channel_position\n",
    "\n",
    "        is_in_channel = (\n",
    "                z < self.channel_top_z and\n",
    "                (is_in_left_channel or is_in_right_channel)\n",
    "        )\n",
    "\n",
    "        is_below_cavity = (\n",
    "                z < self.cavity_top_z and  # Cavity depth\n",
    "                self.left_wall_position < x < self.right_wall_position and  # Between walls\n",
    "                not is_in_left_channel and not is_in_right_channel  # Between channels\n",
    "        )\n",
    "\n",
    "        return (\n",
    "                is_in_left_wall or\n",
    "                is_in_right_wall or\n",
    "                is_in_channel or\n",
    "                is_below_cavity\n",
    "        )\n",
    "\n",
    "\n",
    "condition = CustomCoordinateCondition(\n",
    "    left_wall_position=LEFT_WALL_POSITION,\n",
    "    right_wall_position=RIGHT_WALL_POSITION,\n",
    "    left_channel_position=LEFT_CHANNEL_POSITION,\n",
    "    right_channel_position=RIGHT_CHANNEL_POSITION,\n",
    "    channel_top_z=CHANNEL_TOP_Z,\n",
    "    cavity_top_z=CAVITY_TOP_Z,\n",
    ").condition"
   ]
  },
  {
   "cell_type": "markdown",
   "id": "7",
   "metadata": {},
   "source": [
    "### 1.4. Get input materials"
   ]
  },
  {
   "cell_type": "code",
   "execution_count": null,
   "id": "8",
   "metadata": {},
   "outputs": [],
   "source": [
    "from mat3ra.standata.materials import Materials\n",
    "from mat3ra.made.material import Material\n",
    "\n",
    "material_json = Materials.get_by_name_first_match(\"Si\")\n",
    "material = Material.create(material_json)"
   ]
  },
  {
   "cell_type": "markdown",
   "id": "9",
   "metadata": {},
   "source": [
    "### 1.5. Preview the material"
   ]
  },
  {
   "cell_type": "code",
   "execution_count": null,
   "id": "10",
   "metadata": {},
   "outputs": [],
   "source": [
    "from utils.visualize import visualize_materials as visualize\n",
    "\n",
    "visualize(material, repetitions=[1, 1, 1], rotation=\"0x\")\n",
    "visualize(material, repetitions=[1, 1, 1], rotation=\"-90x\")"
   ]
  },
  {
   "cell_type": "markdown",
   "id": "11",
   "metadata": {},
   "source": [
    "## 2. Create target material\n",
    "### 2.1. Create a slab and visualize it"
   ]
  },
  {
   "cell_type": "code",
   "execution_count": null,
   "id": "12",
   "metadata": {},
   "outputs": [],
   "source": [
    "from mat3ra.made.tools.helpers import create_slab\n",
    "\n",
    "slab = create_slab(\n",
    "    crystal=material,\n",
    "    miller_indices=MILLER_INDICES,\n",
    "    number_of_layers=THICKNESS,\n",
    "    vacuum=0,\n",
    "    xy_supercell_matrix=XY_SUPERCELL_MATRIX,\n",
    "    use_orthogonal_c=True,\n",
    "    use_conventional_cell=True,\n",
    ")\n",
    "\n",
    "visualize(slab, viewer=\"wave\")"
   ]
  },
  {
   "cell_type": "markdown",
   "id": "13",
   "metadata": {},
   "source": [
    "### 2.2. Apply the cutout condition and add vacuum"
   ]
  },
  {
   "cell_type": "code",
   "execution_count": null,
   "id": "14",
   "metadata": {},
   "outputs": [],
   "source": [
    "from mat3ra.made.tools.modify import filter_by_condition_on_coordinates, add_vacuum\n",
    "resulting_material = filter_by_condition_on_coordinates(slab, condition)\n",
    "resulting_material = add_vacuum(resulting_material, VACUUM)"
   ]
  },
  {
   "cell_type": "markdown",
   "id": "15",
   "metadata": {},
   "source": [
    "## 3. Visualize the result"
   ]
  },
  {
   "cell_type": "code",
   "execution_count": null,
   "id": "16",
   "metadata": {},
   "outputs": [],
   "source": [
    "visualize(resulting_material, title=\"Resulting Material\", rotation=\"-90x\")\n",
    "visualize(resulting_material, viewer=\"wave\")"
   ]
  },
  {
   "cell_type": "markdown",
   "id": "17",
   "metadata": {},
   "source": [
    "# 4. Pass material to the outside runtime"
   ]
  },
  {
   "cell_type": "code",
   "execution_count": null,
   "id": "18",
   "metadata": {},
   "outputs": [],
   "source": [
    "from utils.jupyterlite import set_materials\n",
    "\n",
    "resulting_material.name = NAME\n",
    "set_materials(resulting_material)"
   ]
  }
 ],
 "metadata": {
  "kernelspec": {
   "display_name": "Python 3",
   "language": "python",
   "name": "python3"
  },
  "language_info": {
   "codemirror_mode": {
    "name": "ipython",
    "version": 2
   },
   "file_extension": ".py",
   "mimetype": "text/x-python",
   "name": "python",
   "nbconvert_exporter": "python",
   "pygments_lexer": "ipython2",
   "version": "2.7.6"
  }
 },
 "nbformat": 4,
 "nbformat_minor": 5
}
