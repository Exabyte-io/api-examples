{
  "cells": [
    {
      "cell_type": "code",
      "execution_count": null,
      "metadata": {},
      "outputs": [],
      "source": [
        "# Parameters for the ZSL algorithm\n",
        "# as defined in: https://pymatgen.org/pymatgen.analysis.interfaces.html#pymatgen.analysis.interfaces.zsl.ZSLGenerator\n",
        "MAX_AREA = 400\n",
        "MAX_AREA_TOL = 0.09\n",
        "MAX_LENGTH_TOL = 0.03\n",
        "MAX_ANGLE_TOL = 0.01\n",
        "\n",
        "# Strains within this tolerance are considered equal\n",
        "STRAIN_TOL = 10e-6\n",
        "\n",
        "# Select materials\n",
        "SUBSTRATE_INDEX = 0\n",
        "LAYER_INDEX = 1\n",
        "\n",
        "# Miller indices and thickness for substrate and layer.\n",
        "SUBSTRATE_MILLER = (1, 1, 1)\n",
        "SUBSTRATE_THICKNESS = 1\n",
        "LAYER_MILLER = (0, 0, 1)\n",
        "LAYER_THICKNESS = 1\n",
        "\n",
        "# Distance between layers, in Angstroms\n",
        "DISTANCE = 3.0\n",
        "\n",
        "\n",
        "# Plot settings\n",
        "# Strain axis limits in percent\n",
        "X_MIN = 0.01\n",
        "X_MAX = 100\n",
        "\n",
        "# Number of atoms axis limits\n",
        "Y_MIN = 1\n",
        "Y_MAX = 1000"
      ]
    },
    {
      "cell_type": "code",
      "execution_count": null,
      "metadata": {},
      "outputs": [],
      "source": [
        "from install_packages import install_packages\n",
        "\n",
        "await install_packages()"
      ]
    },
    {
      "cell_type": "code",
      "execution_count": null,
      "metadata": {
        "trusted": true
      },
      "outputs": [],
      "source": [
        "from definitions import get_materials, set_materials, to_pymatgen, from_pymatgen, plot_strain_vs_atoms"
      ]
    },
    {
      "cell_type": "code",
      "execution_count": null,
      "metadata": {
        "trusted": true
      },
      "outputs": [],
      "source": [
        "# Load materials from Materials Designer list (in ESSE Material Config format, JSON) to `data` variable\n",
        "get_materials()"
      ]
    },
    {
      "cell_type": "code",
      "execution_count": null,
      "metadata": {},
      "outputs": [],
      "source": [
        "print(f\"Loaded {len(data)} materials from Materials Designer:\")\n",
        "pymatgen_materials = [to_pymatgen(item) for item in data]\n",
        "for material in pymatgen_materials:\n",
        "    print(material)"
      ]
    },
    {
      "cell_type": "code",
      "execution_count": null,
      "metadata": {
        "tags": [],
        "trusted": true
      },
      "outputs": [],
      "source": [
        "from pymatgen_coherent_interface_builder import CoherentInterfaceBuilder, ZSLGenerator\n",
        "from operator import itemgetter\n",
        "\n",
        "# Select materials from the list of input materials\n",
        "SUBSTRATE_MATERIAL = pymatgen_materials[SUBSTRATE_INDEX]\n",
        "LAYER_MATERIAL = pymatgen_materials[LAYER_INDEX]\n",
        "\n",
        "\n",
        "def main():\n",
        "    # Create Interface Builder class\n",
        "    zsl = ZSLGenerator(\n",
        "        max_area_ratio_tol=MAX_AREA_TOL,\n",
        "        max_area=MAX_AREA,\n",
        "        max_length_tol=MAX_LENGTH_TOL,\n",
        "        max_angle_tol=MAX_ANGLE_TOL,\n",
        "    )\n",
        "    cib = CoherentInterfaceBuilder(\n",
        "        substrate_structure=SUBSTRATE_MATERIAL,\n",
        "        film_structure=LAYER_MATERIAL,\n",
        "        substrate_miller=SUBSTRATE_MILLER,\n",
        "        film_miller=LAYER_MILLER,\n",
        "        zslgen=zsl,\n",
        "    )\n",
        "\n",
        "    # Run the Interface Building process\n",
        "    cib._find_terminations()\n",
        "    matches = cib.zsl_matches\n",
        "    terminations = cib.terminations\n",
        "\n",
        "    # Create interfaces\n",
        "    interfaces = []\n",
        "    for termination in terminations:\n",
        "        interfaces = list(\n",
        "            cib.get_interfaces(\n",
        "                termination,\n",
        "                gap=DISTANCE,\n",
        "                film_thickness=LAYER_THICKNESS,\n",
        "                substrate_thickness=SUBSTRATE_THICKNESS,\n",
        "                in_layers=True,\n",
        "            )\n",
        "        )\n",
        "\n",
        "    print(f\"Found {len(matches)} interfaces\")\n",
        "    print(f\"Found {len(terminations)} terminations:\", terminations)\n",
        "\n",
        "    strain_modes = {\n",
        "        \"VON_MISES\": \"von_mises_strain\",\n",
        "        \"STRAIN\": \"strain\",\n",
        "        \"MEAN\": \"mean_abs_strain\",\n",
        "    }\n",
        "    strain_mode = strain_modes[\"MEAN\"]\n",
        "    interfaces_list = list(interfaces)\n",
        "\n",
        "    # Sort interfaces by ascending strain and then by ascending number of atoms\n",
        "    sorted_interfaces = sorted(\n",
        "        interfaces_list,\n",
        "        key=lambda x: (itemgetter(strain_mode)(x), x[\"interface\"].num_sites),\n",
        "    )\n",
        "\n",
        "    print(\"Interface with lowest strain (index 0):\")\n",
        "    print(\"    strain:\", sorted_interfaces[0][strain_mode] * 100, \"%\")\n",
        "    print(\"    number of atoms:\", sorted_interfaces[0][\"interface\"].num_sites)\n",
        "\n",
        "    # plot stran vs number of atoms via matplotlib\n",
        "    plot_strain_vs_atoms(strain_mode, sorted_interfaces)\n",
        "    return sorted_interfaces\n",
        "\n",
        "\n",
        "interfaces = main()"
      ]
    },
    {
      "cell_type": "code",
      "execution_count": null,
      "metadata": {
        "trusted": true
      },
      "outputs": [],
      "source": [
        "m3_esse = from_pymatgen(interfaces[0][\"interface\"])\n",
        "print(m3_esse)"
      ]
    },
    {
      "cell_type": "code",
      "execution_count": null,
      "metadata": {
        "trusted": true
      },
      "outputs": [],
      "source": [
        "# Submit materials (JSON config format) back to Materials Designer\n",
        "set_materials([m3_esse])"
      ]
    }
  ],
  "metadata": {
    "kernelspec": {
      "display_name": ".venv",
      "language": "python",
      "name": "python3"
    },
    "language_info": {
      "codemirror_mode": {
        "name": "ipython",
        "version": 3
      },
      "file_extension": ".py",
      "mimetype": "text/x-python",
      "name": "python",
      "nbconvert_exporter": "python",
      "pygments_lexer": "ipython3",
      "version": "3.10.12"
    },
    "widgets": {
      "application/vnd.jupyter.widget-state+json": {
        "state": {},
        "version_major": 2,
        "version_minor": 0
      }
    }
  },
  "nbformat": 4,
  "nbformat_minor": 4
}
