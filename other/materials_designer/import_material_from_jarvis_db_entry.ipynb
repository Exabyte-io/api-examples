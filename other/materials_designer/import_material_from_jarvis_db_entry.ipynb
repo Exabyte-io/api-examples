{
  "cells": [
    {
      "cell_type": "markdown",
      "id": "8b00ab6854f2263b",
      "metadata": {},
      "source": [
        "## 1. Install Packages\n",
        "\n",
        "First, install necessary packages listed in `config.yml` for current notebook, including `express-py` which has `jarvis-tools` as dependency."
      ]
    },
    {
      "cell_type": "code",
      "execution_count": null,
      "id": "ef2b38a5-de7e-419e-b605-110e9e0095f5",
      "metadata": {
        "trusted": true
      },
      "outputs": [],
      "source": [
        "from jupyterlite.utils import install_packages\n",
        "\n",
        "await install_packages(\"import_material_from_jarvis_db_entry.ipynb\")"
      ]
    },
    {
      "cell_type": "markdown",
      "id": "f418c51a7f794f9f",
      "metadata": {},
      "source": [
        "## 2. Get Materials Data From JARVIS\n",
        "\n",
        "Then, let's get the dataset containing 2D materials from JARVIS and wrap it into a pandas dataframe.\n"
      ]
    },
    {
      "cell_type": "code",
      "execution_count": null,
      "id": "b1ee775d1476f884",
      "metadata": {
        "collapsed": false,
        "jupyter": {
          "outputs_hidden": false
        },
        "trusted": true
      },
      "outputs": [],
      "source": [
        "import pandas as pd\n",
        "from jarvis.db.figshare import data, get_jid_data\n",
        "\n",
        "dft_2d = data(\"dft_2d\")\n",
        "df = pd.DataFrame(dft_2d)"
      ]
    },
    {
      "cell_type": "markdown",
      "id": "15fe5f9de299c935",
      "metadata": {},
      "source": [
        "## 3. Extract Structure and Convert to ESSE\n",
        "\n",
        "Next, we extract an entry from the JARVIS dataset and convert it into ESSE format ready to be uploaded to Mat3ra.com.\n"
      ]
    },
    {
      "cell_type": "code",
      "execution_count": null,
      "id": "c41fb68c6d25fe48",
      "metadata": {
        "collapsed": false,
        "jupyter": {
          "outputs_hidden": false
        },
        "trusted": true
      },
      "outputs": [],
      "source": [
        "import json\n",
        "from express import ExPrESS\n",
        "\n",
        "## Note: JVASP-670 is an entry for MoTe2\n",
        "jarvis_db_entry = json.dumps(json.loads(df[(df[\"jid\"] == \"JVASP-670\")].to_json(orient=\"records\"))[0])\n",
        "\n",
        "kwargs = {\n",
        "    \"structure_string\": jarvis_db_entry,\n",
        "    \"cell_type\": \"original\",\n",
        "    \"structure_format\": \"jarvis-db-entry\",\n",
        "}\n",
        "\n",
        "handler = ExPrESS(\"structure\", **kwargs)\n",
        "data = handler.property(\"material\", **kwargs)\n",
        "\n",
        "# To preview resulting JSON data\n",
        "print(json.dumps(data, indent=4))"
      ]
    },
    {
      "cell_type": "markdown",
      "id": "a4a48479c7ea090f",
      "metadata": {},
      "source": [
        "### 4. Pass data to the outside runtime\n",
        "\n",
        "Finally, we can pass the material to the Materials Designer runtime to use it on the platform."
      ]
    },
    {
      "cell_type": "code",
      "execution_count": null,
      "id": "00b187ab",
      "metadata": {},
      "outputs": [],
      "source": [
        "from jupyterlite.utils import set_data\n",
        "\n",
        "output_materials = [data]\n",
        "set_data(\"materials\", output_materials)"
      ]
    }
  ],
  "metadata": {
    "kernelspec": {
      "display_name": "Python (Pyodide)",
      "language": "python",
      "name": "python"
    },
    "language_info": {
      "codemirror_mode": {
        "name": "python",
        "version": 3
      },
      "file_extension": ".py",
      "mimetype": "text/x-python",
      "name": "python",
      "nbconvert_exporter": "python",
      "pygments_lexer": "ipython3",
      "version": "3.8"
    },
    "widgets": {
      "application/vnd.jupyter.widget-state+json": {
        "state": {},
        "version_major": 2,
        "version_minor": 0
      }
    }
  },
  "nbformat": 4,
  "nbformat_minor": 5
}
