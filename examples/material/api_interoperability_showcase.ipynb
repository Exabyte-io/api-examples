{
  "nbformat": 4,
  "nbformat_minor": 5,
  "metadata": {
    "kernelspec": {
      "display_name": "Python 3",
      "language": "python",
      "name": "python3"
    },
    "language_info": {
      "codemirror_mode": {
        "name": "ipython",
        "version": 3
      },
      "file_extension": ".py",
      "mimetype": "text/x-python",
      "name": "python",
      "nbconvert_exporter": "python",
      "pygments_lexer": "ipython3",
      "version": "3.8.6"
    },
    "colab": {
      "name": "api_interoperability_showcase.ipynb",
      "provenance": []
    }
  },
  "cells": [
    {
      "cell_type": "markdown",
      "metadata": {
        "id": "technical-howard"
      },
      "source": [
        "<a href=\"https://colab.research.google.com/github/Exabyte-io/exabyte-api-examples/blob/feature/SOF-4618/examples/material/api_interoperability_showcase.ipynb\" target=\"_blank\">Open in Google Colab</a>"
      ],
      "id": "technical-howard"
    },
    {
      "cell_type": "markdown",
      "metadata": {
        "id": "civilian-stuart"
      },
      "source": [
        "# Overview\n",
        "\n",
        "This example was created as part of our [Advanced Topics Webinar](https://www.youtube.com/watch?v=psSFC409jSg) on February 19, 2021. This webinar focused on explaining our API in detail, and provided examples of many areas of its functionality.\n",
        "\n",
        "In this notebook, we showcase a major advantage of APIs: interoperability. We begin by performing a query using the [Materials Project](https://materialsproject.org) API for all systems containing Iron and Oxygen. We then filter our results (for demonstraiton purposes, we keep only the first 10 materials found). Finally, we upload our results to the Exabyte platform, where further calculations could be performed to characterize these materials."
      ],
      "id": "civilian-stuart"
    },
    {
      "cell_type": "markdown",
      "metadata": {
        "id": "numerical-geneva"
      },
      "source": [
        "# Complete Authorization Form and Initialize Settings\n",
        "\n",
        "This will also determine environment and set all environment variables. We determine if we are using Jupyter Notebooks or Google Colab to run this tutorial.\n",
        "\n",
        "ACCOUNT_ID and AUTH_TOKEN - Authentication parameters needed for when making requests to [Exabyte.io's API Endpoints](https://docs.exabyte.io/rest-api/endpoints/).\n",
        "\n",
        "MATERIALS_PROJECT_API_KEY - Authentication parameter needed for when making requests to [Material Project's API](https://materialsproject.org/open)\n",
        "\n",
        "ORGANIZATION_ID - Authentication parameter needed for when working with collaborative accounts https://docs.exabyte.io/collaboration/organizations/overview/\n",
        "\n",
        "> <span style=\"color: orange\">**NOTE**</span>: If you are running this notebook from Jupyter, the variables ACCOUNT_ID, AUTH_TOKEN, MATERIALS_PROJECT_API_KEY, and ORGANIZATION_ID should be set in the file [settings.json](../settings.json) if you need to use these variables. To obtain API token parameters, please see the following link to the documentation explaining how to get them: https://docs.exabyte.io/accounts/ui/preferences/api/"
      ],
      "id": "numerical-geneva"
    },
    {
      "cell_type": "code",
      "metadata": {
        "cellView": "form",
        "id": "infectious-cabin"
      },
      "source": [
        "#@title Authorization Form\n",
        "ACCOUNT_ID = \"ACCOUNT_ID\" #@param {type:\"string\"}\n",
        "AUTH_TOKEN = \"AUTH_TOKEN\" #@param {type:\"string\"}\n",
        "MATERIALS_PROJECT_API_KEY = \"MATERIALS_PROJECT_API_KEY\" #@param {type:\"string\"}\n",
        "ORGANIZATION_ID  = \"ORGANIZATION_ID\" #@param {type:\"string\"}\n",
        "import os, glob, sys, importlib, urllib.request\n",
        "\n",
        "# The below execution sets up runtime using code stored remotely in a url\n",
        "exec(urllib.request.urlopen('https://raw.githubusercontent.com/Exabyte-io/exabyte-api-examples/dev/examples/utils/initialize_settings.py').read())"
      ],
      "id": "infectious-cabin",
      "execution_count": null,
      "outputs": []
    },
    {
      "cell_type": "markdown",
      "metadata": {
        "id": "welcome-supplement"
      },
      "source": [
        "# Imports"
      ],
      "id": "welcome-supplement"
    },
    {
      "cell_type": "code",
      "metadata": {
        "id": "owned-fitness"
      },
      "source": [
        "from utils.generic import display_JSON\n",
        "import settings; importlib.reload(settings)\n",
        "from settings import ENDPOINT_ARGS, MATERIALS_PROJECT_API_KEY\n",
        "\n",
        "import ase.io\n",
        "import pymatgen\n",
        "\n",
        "from exabyte_api_client.endpoints.materials import MaterialEndpoints"
      ],
      "id": "owned-fitness",
      "execution_count": null,
      "outputs": []
    },
    {
      "cell_type": "markdown",
      "metadata": {
        "id": "consecutive-limit"
      },
      "source": [
        "# Query the Materials Project\n",
        "\n",
        "We begin by using the Materials Project API implemented in [PyMatGen](https://pymatgen.org/pymatgen.ext.matproj.html) to perform a query for all systems containing Iron and Oxygen."
      ],
      "id": "consecutive-limit"
    },
    {
      "cell_type": "markdown",
      "metadata": {
        "id": "mediterranean-consciousness"
      },
      "source": [
        "# Query Materials Project for all systems containing Iron and Oxygen"
      ],
      "id": "mediterranean-consciousness"
    },
    {
      "cell_type": "code",
      "metadata": {
        "id": "fourth-juvenile"
      },
      "source": [
        "materials_project_api = pymatgen.ext.matproj.MPRester(MATERIALS_PROJECT_API_KEY)\n",
        "iron_oxides_ids = materials_project_api.get_materials_ids(\"Fe-O\")\n",
        "\n",
        "print(iron_oxides_ids)"
      ],
      "id": "fourth-juvenile",
      "execution_count": null,
      "outputs": []
    },
    {
      "cell_type": "markdown",
      "metadata": {
        "id": "subsequent-backing"
      },
      "source": [
        "# Filtering the Results\n",
        "\n",
        "This returns a lot of materials - 160 to be exact! In many cases, it is useful to filter down the number of materials. For example, we may want to exclude large unit cells that may be computationally intensive to study. Or we may want to restrict our results to only thermodynamically-stable oxides, by use of the material's [energy above hull](https://wiki.materialsproject.org/Glossary_of_Terms).\n",
        "\n",
        "As a basic example, here we only keep the first 10 iron oxides that the Materials Project API returned to us, and discard the other 150."
      ],
      "id": "subsequent-backing"
    },
    {
      "cell_type": "code",
      "metadata": {
        "id": "silver-luxembourg"
      },
      "source": [
        "#As a demonstration, take the first 10 iron oxides\n",
        "some_iron_oxides = iron_oxides_ids[:10]\n",
        "print(some_iron_oxides)"
      ],
      "id": "silver-luxembourg",
      "execution_count": null,
      "outputs": []
    },
    {
      "cell_type": "markdown",
      "metadata": {
        "id": "cathedral-vulnerability"
      },
      "source": [
        "# Bringing Materials Into the User Account\n",
        "\n",
        "Now that we have filtered the results from Materials Project down to just 10 structures, we may want to study them further with the computational models provided by Exabyte. For example, we may be interested in leveraging a DFT code to find the structure with the largest band-gap, or perhaps we want to conduct a high-throughput screening of each material's surface energies."
      ],
      "id": "cathedral-vulnerability"
    },
    {
      "cell_type": "code",
      "metadata": {
        "id": "broke-writing"
      },
      "source": [
        "# Upload the first 10 iron oxides found to our account\n",
        "exabyte_materials_api = MaterialEndpoints(*ENDPOINT_ARGS)\n",
        "materials = exabyte_materials_api.import_from_materialsproject(MATERIALS_PROJECT_API_KEY, some_iron_oxides)"
      ],
      "id": "broke-writing",
      "execution_count": null,
      "outputs": []
    },
    {
      "cell_type": "markdown",
      "metadata": {
        "id": "alike-vegetable"
      },
      "source": [
        "Finally, it is always useful to stay organized. Materials sets make this convenient, acting as a folder to keep a group of related materials in. This would be especially helpful if, in the future, we wanted run a calculation over all the oxides we found in this example."
      ],
      "id": "alike-vegetable"
    },
    {
      "cell_type": "code",
      "metadata": {
        "id": "academic-samba"
      },
      "source": [
        "# Move the iron oxides to a materials set, just for this example\n",
        "materials_set = exabyte_materials_api.create_set({\"name\" : \"Some Iron Oxides\"})\n",
        "for material in materials:\n",
        "    exabyte_materials_api.move_to_set(material[\"_id\"], \"\", materials_set[\"_id\"])"
      ],
      "id": "academic-samba",
      "execution_count": null,
      "outputs": []
    }
  ]
}