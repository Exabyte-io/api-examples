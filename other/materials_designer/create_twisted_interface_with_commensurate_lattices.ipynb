{
 "cells": [
  {
   "cell_type": "markdown",
   "id": "0",
   "metadata": {},
   "source": [
    " # Create a Twisted Interface with Commensurate Lattices\n",
    "\n",
    "Use the `create_commensurate_interface` function to create twisted interfaces between two materials with commensurate lattice matching.\n",
    "\n",
    "<h2 style=\"color:green\">Usage</h2>\n",
    "\n",
    "1. Make sure to select Input Materials (in the outer runtime) before running the notebook.\n",
    "1. Set notebook parameters in cell 1.1. below (or use the default values).\n",
    "1. Click \"Run\" > \"Run All\" to run all cells.\n",
    "1. Wait for the run to complete (depending on the parameters can take a few min).\n",
    "1. Scroll down to view results.\n",
    "\n",
    "## Summary\n",
    "\n",
    "1. Prepare the Environment: Set up the notebook and install packages, preview the input materials\n",
    "1. Create and visualize the initial materials\n",
    "1. Create a slab from the input material using `create_slab`\n",
    "1. Generate twisted interface using `create_commensurate_interface` with the specified parameters\n",
    "1. Visualize the final twisted interface\n",
    "\n",
    "## Notes\n",
    "\n",
    "1. We first create a slab from the input material using specified Miller indices.\n",
    "1. The `create_commensurate_interface` function performs commensurate lattice matching to find valid supercells.\n",
    "1. The function searches for supercell matrices within specified size limits to achieve the target twist angle.\n",
    "1. The interface is created with a specified gap between the twisted layers.\n",
    "1. This approach follows the same pattern as the test suite for reliable results.\n",
    "1. For more information, see [Introduction](Introduction.ipynb)\n"
   ]
  },
  {
   "cell_type": "markdown",
   "id": "1",
   "metadata": {},
   "source": [
    "## 1. Prepare the Environment\n",
    "### 1.1. Set up the notebook\n",
    "Set the following flags to control the notebook behavior\n"
   ]
  },
  {
   "cell_type": "code",
   "execution_count": null,
   "id": "2",
   "metadata": {},
   "outputs": [],
   "source": [
    "# Material selection and basic parameters\n",
    "FILM_INDEX = 0  # Index in the list of materials, to access as materials[FILM_INDEX]\n",
    "SUBSTRATE_INDEX = None  # Can be None to use same material as film\n",
    "\n",
    "# Twisted interface parameters\n",
    "TARGET_TWIST_ANGLE = 17.9  # in degrees\n",
    "INTERFACE_DISTANCE = 3.0  # in Angstroms\n",
    "INTERFACE_VACUUM = 20.0  # in Angstroms\n",
    "\n",
    "# Commensurate interface parameters (following the test pattern)\n",
    "ANGLE_TOLERANCE = 2.5  # in degrees\n",
    "MAX_SUPERCELL_MATRIX_INT = 6  # Maximum supercell matrix element value\n",
    "RETURN_FIRST_MATCH = True  # If True, returns first solution within tolerance\n",
    "\n",
    "# Slab creation parameters\n",
    "MILLER_INDICES = (0, 0, 1)  # Miller indices for slab creation\n",
    "NUMBER_OF_LAYERS = 1  # Number of layers in the slab\n",
    "USE_CONVENTIONAL_CELL = True\n",
    "USE_ORTHOGONAL_C = True\n",
    "\n",
    "STACKING_DIRECTION = \"z\" # Stacking direction for the slab, can be \"x\", \"y\", or \"z\"\n",
    "\n",
    "# Visualization parameters\n",
    "SHOW_INTERMEDIATE_STEPS = True\n",
    "VISUALIZE_REPETITIONS = [3, 3, 1]"
   ]
  },
  {
   "cell_type": "markdown",
   "id": "3",
   "metadata": {},
   "source": [
    "### 1.2. Install packages\n",
    "Explanation is [here](under_the_hood.ipynb#1.2.-Install-packages)."
   ]
  },
  {
   "cell_type": "code",
   "execution_count": null,
   "id": "4",
   "metadata": {},
   "outputs": [],
   "source": [
    "import sys\n",
    "\n",
    "if sys.platform == \"emscripten\":\n",
    "    import micropip\n",
    "\n",
    "    await micropip.install(\"mat3ra-api-examples\", deps=False)\n",
    "    await micropip.install('mat3ra-utils')\n",
    "    from mat3ra.utils.jupyterlite.packages import install_packages\n",
    "    await install_packages(\"\")"
   ]
  },
  {
   "cell_type": "markdown",
   "id": "5",
   "metadata": {},
   "source": [
    "### 1.3. Load and preview input materials\n",
    "Explanation is [here](under_the_hood.ipynb#2.-Data-Exchange)."
   ]
  },
  {
   "cell_type": "code",
   "execution_count": null,
   "id": "6",
   "metadata": {},
   "outputs": [],
   "source": [
    "from utils.jupyterlite import get_materials\n",
    "\n",
    "materials = get_materials(globals())"
   ]
  },
  {
   "cell_type": "markdown",
   "id": "7",
   "metadata": {},
   "source": [
    " ## 2. Prepare Materials\n",
    " ### 2.1. Select and visualize initial materials"
   ]
  },
  {
   "cell_type": "code",
   "execution_count": null,
   "id": "8",
   "metadata": {},
   "outputs": [],
   "source": [
    "from utils.visualize import visualize_materials\n",
    "\n",
    "film = materials[FILM_INDEX]\n",
    "substrate = materials[SUBSTRATE_INDEX] if SUBSTRATE_INDEX is not None else film\n",
    "\n",
    "if SHOW_INTERMEDIATE_STEPS:\n",
    "    visualize_materials(film, repetitions=VISUALIZE_REPETITIONS)\n",
    "    if substrate is not film:\n",
    "        visualize_materials(substrate, repetitions=VISUALIZE_REPETITIONS)"
   ]
  },
  {
   "cell_type": "markdown",
   "id": "9",
   "metadata": {},
   "source": [
    "## 3. Create Twisted Interface\n",
    "### 3.1. Create slab and commensurate interface\n"
   ]
  },
  {
   "cell_type": "code",
   "execution_count": null,
   "id": "10",
   "metadata": {},
   "outputs": [],
   "source": [
    "from mat3ra.esse.models.core.reusable.axis_enum import AxisEnum\n",
    "from mat3ra.made.tools.helpers import create_slab\n",
    "from mat3ra.made.tools.helpers import create_interface_commensurate as create_commensurate_interface\n",
    "\n",
    "# Create slab from the material\n",
    "slab = create_slab(\n",
    "    crystal=film,\n",
    "    miller_indices=MILLER_INDICES,\n",
    "    use_conventional_cell=USE_CONVENTIONAL_CELL,\n",
    "    use_orthogonal_c=USE_ORTHOGONAL_C,\n",
    "    number_of_layers=NUMBER_OF_LAYERS,\n",
    "    vacuum=0.0,  # No vacuum in the slab initially\n",
    ")\n",
    "\n",
    "print(f\"Created slab with {len(slab.basis.elements.ids)} atoms\")\n",
    "\n",
    "# Create the commensurate twisted interface using the function from the test\n",
    "interface = create_commensurate_interface(\n",
    "    material=slab,\n",
    "    target_angle=TARGET_TWIST_ANGLE,\n",
    "    angle_tolerance=ANGLE_TOLERANCE,\n",
    "    max_repetition_int=MAX_SUPERCELL_MATRIX_INT,\n",
    "    return_first_match=RETURN_FIRST_MATCH,\n",
    "    direction=AxisEnum[STACKING_DIRECTION],  # Stacking direction for the interface\n",
    "    gap=INTERFACE_DISTANCE,  # Gap between layers\n",
    ")"
   ]
  },
  {
   "cell_type": "markdown",
   "id": "11",
   "metadata": {},
   "source": [
    "### 3.2. Interface creation results\n"
   ]
  },
  {
   "cell_type": "code",
   "execution_count": null,
   "id": "12",
   "metadata": {},
   "outputs": [],
   "source": [
    "# The interface was created above using create_commensurate_interface\n",
    "print(\"\\\\nInterface created successfully!\")\n",
    "print(f\"Target twist angle: {TARGET_TWIST_ANGLE}°\")\n",
    "print(f\"Number of atoms: {len(interface.basis.elements.ids)}\")\n",
    "print(f\"Interface name: {interface.name}\")\n",
    "\n",
    "# Show intermediate visualization if requested\n",
    "if SHOW_INTERMEDIATE_STEPS:\n",
    "    from utils.visualize import visualize_materials\n",
    "    print(\"\\\\nVisualizing the created interface:\")\n",
    "    visualize_materials(interface, repetitions=[1, 1, 1])\n",
    "    visualize_materials(interface, repetitions=[1, 1, 1], rotation=\"-90x\")"
   ]
  },
  {
   "cell_type": "markdown",
   "id": "13",
   "metadata": {},
   "source": [
    "## 4. Preview the selected material\n",
    "By default, the first interface is selected. You can change the selection by changing the `selected_interface` index."
   ]
  },
  {
   "cell_type": "code",
   "execution_count": null,
   "id": "14",
   "metadata": {},
   "outputs": [],
   "source": [
    "# The interface is already created above, so just display final results\n",
    "selected_interface = interface\n",
    "\n",
    "print(f\"Final Interface Summary:\")\n",
    "print(f\"Target angle: {TARGET_TWIST_ANGLE}°\")\n",
    "print(f\"Number of atoms: {len(selected_interface.basis.elements.ids)}\")\n",
    "print(f\"Cell vectors:\\\\n{selected_interface.basis.cell.vector_arrays}\")\n",
    "\n",
    "# Final visualization\n",
    "from utils.visualize import visualize_materials\n",
    "print(\"\\\\nFinal interface visualization:\")\n",
    "visualize_materials(selected_interface, repetitions=[1, 1, 1])\n",
    "visualize_materials(selected_interface, repetitions=[1, 1, 1], rotation=\"-90x\")"
   ]
  },
  {
   "cell_type": "markdown",
   "id": "15",
   "metadata": {},
   "source": [
    "### 5. Pass data to the outside runtime\n"
   ]
  },
  {
   "cell_type": "code",
   "execution_count": null,
   "id": "16",
   "metadata": {},
   "outputs": [],
   "source": [
    "from utils.jupyterlite import set_materials\n",
    "\n",
    "set_materials(selected_interface)"
   ]
  }
 ],
 "metadata": {
  "kernelspec": {
   "display_name": "Python 3",
   "language": "python",
   "name": "python3"
  },
  "language_info": {
   "codemirror_mode": {
    "name": "ipython",
    "version": 2
   },
   "file_extension": ".py",
   "mimetype": "text/x-python",
   "name": "python",
   "nbconvert_exporter": "python",
   "pygments_lexer": "ipython2",
   "version": "2.7.6"
  }
 },
 "nbformat": 4,
 "nbformat_minor": 5
}
