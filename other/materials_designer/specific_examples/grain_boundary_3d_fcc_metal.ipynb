{
 "cells": [
  {
   "cell_type": "code",
   "outputs": [],
   "source": [],
   "metadata": {
    "collapsed": false
   },
   "id": "initial_id",
   "execution_count": 0
  },
  {
   "cell_type": "markdown",
   "source": [
    "## 1. Prepare the Environment\n",
    "### 1.1. Set up the notebook \n",
    "\n",
    "Set the following flags to control the notebook behavior "
   ],
   "metadata": {
    "collapsed": false
   },
   "id": "bff2f2c26b1fa6ba"
  },
  {
   "cell_type": "code",
   "outputs": [],
   "source": [
    "# Enable interactive selection of terminations via UI prompt\n",
    "IS_TERMINATIONS_SELECTION_INTERACTIVE = False \n",
    "\n",
    "# Parameters for Phase 1\n",
    "PHASE_1_MILLER_INDICES = (1, 1, 1)\n",
    "PHASE_1_THICKNESS = 6  # in atomic layers\n",
    "PHASE_1_USE_ORTHOGONAL_Z = True\n",
    "\n",
    "# Parameters for Phase 2\n",
    "PHASE_2_MILLER_INDICES = (0, 0, 1)\n",
    "PHASE_2_THICKNESS = 4  # in atomic layers\n",
    "PHASE_2_USE_ORTHOGONAL_Z = True\n",
    "\n",
    "INTERPHASE_GAP = 2.0  # in Angstrom\n",
    "\n",
    "# Maximum area for the superlattice search algorithm\n",
    "MAX_AREA = 100  # in Angstrom^2\n",
    "\n",
    "# Parameters for the final material\n",
    "SLAB_MILLER_INDICES = (0,0,1)\n",
    "SLAB_THICKNESS = 4 # in atomic layers\n",
    "SLAB_XY_SUPERCELL_MATRIX = [[1, 0], [0, 1]]\n",
    "SLAB_VACUUM = 20.0  # in Angstrom\n",
    "\n",
    "# Set the termination pair indices\n",
    "TERMINATION_PAIR_INDEX = 0  # Will be overridden if interactive selection is used"
   ],
   "metadata": {
    "collapsed": false
   },
   "id": "45730b0f5384262b",
   "execution_count": 0
  },
  {
   "cell_type": "markdown",
   "source": [
    "### 1.2. Install Packages\n",
    "The step executes only in Pyodide environment. For other environments, the packages should be installed via `pip install`."
   ],
   "metadata": {
    "collapsed": false
   },
   "id": "2460242f9e7d86f1"
  },
  {
   "cell_type": "code",
   "outputs": [],
   "source": [
    "import sys\n",
    "\n",
    "if sys.platform == \"emscripten\":\n",
    "    import micropip\n",
    "  \n",
    "    await micropip.install('mat3ra-api-examples', deps=False)\n",
    "    from utils.jupyterlite import install_packages\n",
    "    await install_packages(\"create_grain_boundary.ipynb\")\n"
   ],
   "metadata": {
    "collapsed": false
   },
   "id": "bae18ae87d3cc5ba",
   "execution_count": 0
  },
  {
   "cell_type": "markdown",
   "source": [
    "### 1.3. Get input material"
   ],
   "metadata": {
    "collapsed": false
   },
   "id": "97eb71c0c9e31d2a"
  },
  {
   "cell_type": "code",
   "outputs": [],
   "source": [
    "from utils.jupyterlite import get_materials\n",
    "\n",
    "materials = get_materials(globals())\n",
    "material = materials[0]"
   ],
   "metadata": {
    "collapsed": false
   },
   "id": "950e5bef61bbd84a",
   "execution_count": 0
  },
  {
   "cell_type": "markdown",
   "source": [
    "### 1.4. Preview Material"
   ],
   "metadata": {
    "collapsed": false
   },
   "id": "c4eb191c2e23b464"
  },
  {
   "cell_type": "code",
   "outputs": [],
   "source": [
    "from utils.visualize import visualize_materials as visualize\n",
    "visualize([material], repetitions=[3, 3, 1], rotation=\"0x\")"
   ],
   "metadata": {
    "collapsed": false
   },
   "id": "4ebde830102b0b94",
   "execution_count": 0
  },
  {
   "cell_type": "markdown",
   "source": [
    "## 2. Configure slabs and select termination pair\n",
    "\n",
    "### 2.1. Create Phase 1 and Phase 2 Slabs\n",
    "Slab Configuration lets define the slab thickness, vacuum, and the Miller indices of the interfacial plane and get the slabs with possible terminations."
   ],
   "metadata": {
    "collapsed": false
   },
   "id": "916ab91fcc23c7df"
  },
  {
   "cell_type": "code",
   "outputs": [],
   "source": [
    "from mat3ra.made.tools.build.slab import SlabConfiguration, get_terminations, create_slab\n",
    "\n",
    "phase_1_configuration = SlabConfiguration(\n",
    "    bulk=material,\n",
    "    miller_indices=PHASE_1_MILLER_INDICES,\n",
    "    thickness=PHASE_1_THICKNESS,\n",
    "    use_orthogonal_z=PHASE_1_USE_ORTHOGONAL_Z\n",
    ")\n",
    "\n",
    "phase_2_configuration = SlabConfiguration(\n",
    "    bulk=material,\n",
    "    miller_indices=PHASE_2_MILLER_INDICES,\n",
    "    thickness=PHASE_2_THICKNESS,\n",
    "    use_orthogonal_z=PHASE_2_USE_ORTHOGONAL_Z\n",
    ")"
   ],
   "metadata": {
    "collapsed": false
   },
   "id": "b7cc3daa852d868d",
   "execution_count": 0
  },
  {
   "cell_type": "markdown",
   "source": [
    "### 2.2. Get possible terminations for the slabs"
   ],
   "metadata": {
    "collapsed": false
   },
   "id": "9e507e0b1534c0c5"
  },
  {
   "cell_type": "code",
   "outputs": [],
   "source": [
    "phase_1_terminations = get_terminations(phase_1_configuration)\n",
    "phase_2_terminations = get_terminations(phase_2_configuration)"
   ],
   "metadata": {
    "collapsed": false
   },
   "id": "5bdc0e37e3ec9891",
   "execution_count": 0
  },
  {
   "cell_type": "markdown",
   "source": [
    "### 2.3. Visualize slabs for all possible terminations"
   ],
   "metadata": {
    "collapsed": false
   },
   "id": "aebec268223b617c"
  },
  {
   "cell_type": "code",
   "outputs": [],
   "source": [
    "phase_1_slabs = [create_slab(phase_1_configuration, termination) for termination in phase_1_terminations]\n",
    "phase_2_slabs = [create_slab(phase_2_configuration, termination) for termination in phase_2_terminations]\n",
    "\n",
    "visualize([{\"material\":slab, \"title\": slab.metadata[\"build\"][\"termination\"]} for slab in phase_1_slabs], repetitions=[3, 3, 1], rotation=\"-90x\")\n",
    "visualize([{\"material\":slab, \"title\": slab.metadata[\"build\"][\"termination\"]} for slab in phase_2_slabs], repetitions=[3, 3, 1], rotation=\"-90x\")"
   ],
   "metadata": {
    "collapsed": false
   },
   "id": "f75092312b399f84",
   "execution_count": 0
  },
  {
   "cell_type": "markdown",
   "source": [
    "### 2.4. Print terminations for the grain boundary"
   ],
   "metadata": {
    "collapsed": false
   },
   "id": "a766392c3f119616"
  },
  {
   "cell_type": "code",
   "outputs": [],
   "source": [
    "from itertools import product\n",
    "\n",
    "termination_pairs = list(product(phase_1_terminations, phase_2_terminations))    \n",
    "print(\"Termination Pairs (Phase 1, Phase 2)\")\n",
    "for idx, termination_pair in enumerate(termination_pairs):\n",
    "    print(f\"    {idx}: {termination_pair}\")"
   ],
   "metadata": {
    "collapsed": false
   },
   "id": "40b4ba55613d9658",
   "execution_count": 0
  },
  {
   "cell_type": "markdown",
   "source": [
    "### 2.5. Select termination pair for the grain boundary"
   ],
   "metadata": {
    "collapsed": false
   },
   "id": "11d4044d37604022"
  },
  {
   "cell_type": "code",
   "outputs": [],
   "source": [
    "from utils.io import ui_prompt_select_array_element_by_index, ui_prompt_select_array_element_by_index_pyodide\n",
    "\n",
    "termination_pair_index = TERMINATION_PAIR_INDEX\n",
    "\n",
    "termination_pair = termination_pairs[termination_pair_index]\n",
    "if IS_TERMINATIONS_SELECTION_INTERACTIVE:\n",
    "    if sys.platform == \"emscripten\":\n",
    "        termination_pair = await ui_prompt_select_array_element_by_index_pyodide(termination_pairs, element_name=\"phase 1/phase 2 termination pair\")\n",
    "    else:\n",
    "        termination_pair = ui_prompt_select_array_element_by_index(termination_pairs, element_name=\"phase 1/phase 2 termination pair\")"
   ],
   "metadata": {
    "collapsed": false
   },
   "id": "8dfc5893f510bae4",
   "execution_count": 0
  },
  {
   "cell_type": "markdown",
   "source": [
    "## 3. Create grain boundary\n",
    "\n",
    "### 3.1. Initialize the Grain Boundary Configuration"
   ],
   "metadata": {
    "collapsed": false
   },
   "id": "8d87cbbb0d1ac1ab"
  },
  {
   "cell_type": "code",
   "outputs": [],
   "source": [
    "from mat3ra.made.tools.build.grain_boundary import SlabGrainBoundaryConfiguration\n",
    "\n",
    "phase_1_termination, phase_2_termination = termination_pair\n",
    "\n",
    "# Create a slab configuration for the final grain boundary structure\n",
    "slab_configuration = SlabConfiguration(\n",
    "    bulk=material,\n",
    "    miller_indices=SLAB_MILLER_INDICES,\n",
    "    thickness=SLAB_THICKNESS,\n",
    "    vacuum=SLAB_VACUUM,\n",
    ")\n",
    "\n",
    "grain_boundary_configuration = SlabGrainBoundaryConfiguration(\n",
    "    phase_1_configuration=phase_1_configuration,\n",
    "    phase_2_configuration=phase_2_configuration,\n",
    "    phase_1_termination=phase_1_termination,\n",
    "    phase_2_termination=phase_2_termination,\n",
    "    gap=INTERPHASE_GAP,\n",
    "    slab_configuration=slab_configuration\n",
    ")"
   ],
   "metadata": {
    "collapsed": false
   },
   "id": "40b6c8662d071f18",
   "execution_count": 0
  },
  {
   "cell_type": "markdown",
   "source": [
    "### 3.2. Set Strain Matching Algorithm Parameters"
   ],
   "metadata": {
    "collapsed": false
   },
   "id": "7fed41afcde4cb67"
  },
  {
   "cell_type": "code",
   "outputs": [],
   "source": [
    "from mat3ra.made.tools.build.interface import ZSLStrainMatchingParameters\n",
    "from mat3ra.made.tools.build.grain_boundary.builders import SlabGrainBoundaryBuilderParameters\n",
    "\n",
    "zsl_strain_matching_parameters = ZSLStrainMatchingParameters(\n",
    "    max_area=MAX_AREA\n",
    ")\n",
    "\n",
    "builder_parameters = SlabGrainBoundaryBuilderParameters(\n",
    "    strain_matching_parameters=zsl_strain_matching_parameters\n",
    ")\n"
   ],
   "metadata": {
    "collapsed": false
   },
   "id": "44015c5407563d4e",
   "execution_count": 0
  },
  {
   "cell_type": "markdown",
   "source": [
    "### 3.3. Generate grain boundary with strain matcher"
   ],
   "metadata": {
    "collapsed": false
   },
   "id": "605ed08a67d51cc8"
  },
  {
   "cell_type": "code",
   "outputs": [],
   "source": [
    "from mat3ra.made.tools.build.grain_boundary import SlabGrainBoundaryBuilder\n",
    "\n",
    "grain_boundary_builder = SlabGrainBoundaryBuilder(build_parameters=builder_parameters)\n",
    "grain_boundary = grain_boundary_builder.get_material(configuration=grain_boundary_configuration)"
   ],
   "metadata": {
    "collapsed": false
   },
   "id": "884b458236270a29",
   "execution_count": 0
  },
  {
   "cell_type": "markdown",
   "source": [
    "## 4. Preview the grain boundary"
   ],
   "metadata": {
    "collapsed": false
   },
   "id": "3c6187f70eb5beac"
  },
  {
   "cell_type": "code",
   "outputs": [],
   "source": [
    "visualize([grain_boundary], repetitions=[1, 1, 1])\n",
    "visualize([grain_boundary], repetitions=[1, 1, 1], rotation=\"-90x\")"
   ],
   "metadata": {
    "collapsed": false
   },
   "id": "892c0e7c932cd725",
   "execution_count": 0
  },
  {
   "cell_type": "markdown",
   "source": [
    "## 5. Pass data to the outside runtime"
   ],
   "metadata": {
    "collapsed": false
   },
   "id": "479d26e4a9e77d44"
  },
  {
   "cell_type": "code",
   "outputs": [],
   "source": [
    "from utils.jupyterlite import set_materials\n",
    "set_materials(grain_boundary)"
   ],
   "metadata": {
    "collapsed": false
   },
   "id": "503eff0dd5c1a160",
   "execution_count": 0
  }
 ],
 "metadata": {
  "kernelspec": {
   "display_name": "Python 3",
   "language": "python",
   "name": "python3"
  },
  "language_info": {
   "codemirror_mode": {
    "name": "ipython",
    "version": 2
   },
   "file_extension": ".py",
   "mimetype": "text/x-python",
   "name": "python",
   "nbconvert_exporter": "python",
   "pygments_lexer": "ipython2",
   "version": "2.7.6"
  }
 },
 "nbformat": 4,
 "nbformat_minor": 5
}
