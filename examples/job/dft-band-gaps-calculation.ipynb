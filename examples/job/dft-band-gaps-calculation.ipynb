version https://git-lfs.github.com/spec/v1
oid sha256:e4bc8fa3a530ef9795405e8ef50c43be741570ad276316b7a5779c679927f324
size 22124
