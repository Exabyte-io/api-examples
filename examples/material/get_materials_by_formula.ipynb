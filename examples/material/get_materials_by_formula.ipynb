version https://git-lfs.github.com/spec/v1
oid sha256:c6cdde5502a14c7524e82d8b3d0cd69bac60d4d105fe85641ef3058df5581c83
size 91847
