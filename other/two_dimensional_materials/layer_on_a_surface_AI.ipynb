{
 "cells": [
  {
   "cell_type": "code",
   "execution_count": 170,
   "id": "ccd22c95-511c-4a63-851f-7d108f53f979",
   "metadata": {},
   "outputs": [
    {
     "name": "stdout",
     "output_type": "stream",
     "text": [
      "/Users/mat3ra/.pyenv/versions/3.11.4/bin/python\n",
      "8.6.13\n"
     ]
    }
   ],
   "source": [
    "# This block is to install ase, tk for the GUI, and ipywidgets-jsonschema\n",
    "import sys\n",
    "\n",
    "print(sys.executable)\n",
    "# !{sys.executable} -m pip install ase\n",
    "# !{sys.executable} -m pip install tk\n",
    "import tkinter\n",
    "\n",
    "print(tkinter.Tcl().eval(\"info patchlevel\"))\n",
    "# !{sys.executable} -m pip install ipywidgets-jsonschema\n"
   ]
  },
  {
   "cell_type": "code",
   "execution_count": 171,
   "id": "fad3fa15-8b61-409e-aedc-a13f8bf83bb5",
   "metadata": {},
   "outputs": [],
   "source": [
    "# data that comes from JS, here are some examples\n",
    "poscars = {\n",
    "    \"Ni\": \"\"\"Ni - primitive\n",
    "1.0\n",
    "   2.130422000\t   0.000000000\t   1.230000000\n",
    "   0.710140800\t   2.008582000\t   1.230000000\n",
    "   0.000000000\t   0.000000000\t   2.460000000\n",
    "Ni\n",
    "1\n",
    "Selective dynamics\n",
    "direct\n",
    "   0.000000000    0.000000000    0.000000000 T T T Ni\n",
    "\"\"\",\n",
    "    \"Cu\": \"\"\"Cu4\n",
    "1.0\n",
    "   3.5774306715697510    0.0000000000000000    0.0000000000000002\n",
    "   0.0000000000000006    3.5774306715697510    0.0000000000000002\n",
    "   0.0000000000000000    0.0000000000000000    3.5774306715697510\n",
    "Cu\n",
    "4\n",
    "direct\n",
    "   0.0000000000000000    0.0000000000000000    0.0000000000000000 Cu\n",
    "   0.0000000000000000    0.5000000000000000    0.5000000000000000 Cu\n",
    "   0.5000000000000000    0.0000000000000000    0.5000000000000000 Cu\n",
    "   0.5000000000000000    0.5000000000000000    0.0000000000000000 Cu\n",
    "\"\"\",\n",
    "    \"Au\": \"\"\"Au4\n",
    "1.0\n",
    "   4.1712885314747270    0.0000000000000000    0.0000000000000003\n",
    "   0.0000000000000007    4.1712885314747270    0.0000000000000003\n",
    "   0.0000000000000000    0.0000000000000000    4.1712885314747270\n",
    "Au\n",
    "4\n",
    "direct\n",
    "   0.0000000000000000    0.0000000000000000    0.0000000000000000 Au\n",
    "   0.0000000000000000    0.5000000000000000    0.5000000000000000 Au\n",
    "   0.5000000000000000    0.0000000000000000    0.5000000000000000 Au\n",
    "   0.5000000000000000    0.5000000000000000    0.0000000000000000 Au\n",
    "\"\"\",\n",
    "    \"SiC\": \"\"\"Si4 C4\n",
    "1.0\n",
    "   4.3539932475828609    0.0000000000000000    0.0000000000000003\n",
    "   0.0000000000000007    4.3539932475828609    0.0000000000000003\n",
    "   0.0000000000000000    0.0000000000000000    4.3539932475828609\n",
    "Si C\n",
    "4 4\n",
    "direct\n",
    "   0.7500000000000000    0.2500000000000000    0.7500000000000000 Si4+\n",
    "   0.7500000000000000    0.7500000000000000    0.2500000000000000 Si4+\n",
    "   0.2500000000000000    0.2500000000000000    0.2500000000000000 Si4+\n",
    "   0.2500000000000000    0.7500000000000000    0.7500000000000000 Si4+\n",
    "   0.0000000000000000    0.0000000000000000    0.0000000000000000 C4-\n",
    "   0.0000000000000000    0.5000000000000000    0.5000000000000000 C4-\n",
    "   0.5000000000000000    0.0000000000000000    0.5000000000000000 C4-\n",
    "   0.5000000000000000    0.5000000000000000    0.0000000000000000 C4-\n",
    "\"\"\",\n",
    "    \"Graphene\": \"\"\"Graphene\n",
    "1.0\n",
    "   2.467291000\t   0.000000000\t   0.000000000\n",
    "  -1.233645000\t   2.136737000\t   0.000000000\n",
    "   0.000000000\t   0.000000000\t   7.803074000\n",
    "C\n",
    "2\n",
    "direct\n",
    "   0.000000000    0.000000000    0.000000000  C\n",
    "   0.333333000    0.666667000    0.000000000  C\n",
    "\"\"\",\n",
    "}\n"
   ]
  },
  {
   "cell_type": "code",
   "execution_count": 310,
   "id": "491ed5a5-5d3d-47c8-9226-211fff34f7e2",
   "metadata": {},
   "outputs": [],
   "source": [
    "import io\n",
    "from ase.build import surface, make_supercell\n",
    "from ase.io import read, write\n",
    "from ase import Atoms\n",
    "import numpy as np\n",
    "from ase.visualize import view\n",
    "\n",
    "# Define a function to read POSCAR content and return an Atoms object\n",
    "def poscar_to_atoms(poscar_content):\n",
    "    poscar_io = io.StringIO(poscar_content)\n",
    "    atoms = read(poscar_io, format=\"vasp\")\n",
    "    return atoms\n",
    "\n",
    "# Define a function to create a surface and supercell\n",
    "def create_surface_and_supercell(atoms, miller, number_of_layers, vacuum, superlattice_matrix):\n",
    "    miller_indices = (miller[\"h\"], miller[\"k\"], miller[\"l\"])\n",
    "    surface_atoms = surface(atoms, miller_indices, number_of_layers, vacuum)\n",
    "    supercell_atoms = make_supercell(surface_atoms, superlattice_matrix)\n",
    "    return supercell_atoms\n",
    "\n",
    "# Define a function to calculate strain on the layer\n",
    "def calculate_strain_matrix(original_layer_cell, scaled_layer_cell):\n",
    "    # Calculate the original and scaled norms\n",
    "    cell1 = np.array(original_layer_cell)[0:2,0:2]\n",
    "    cell2 = np.array(scaled_layer_cell)[0:2,0:2]\n",
    "    transformation_matrix = np.linalg.inv(cell1) @ cell2\n",
    "    difference_matrix = transformation_matrix - np.eye(2)\n",
    "    return difference_matrix\n",
    "\n",
    "# Define the main function to create the interface\n",
    "def create_interface(substrate_poscar, layer_poscar, substrate_surface_params, layer_surface_params, z_offset, force_wrap):\n",
    "    # Convert POSCAR content to Atoms objects\n",
    "    substrate_atoms = poscar_to_atoms(substrate_poscar)\n",
    "    layer_atoms = poscar_to_atoms(layer_poscar)\n",
    "    \n",
    "    # Create surface and supercell for substrate\n",
    "    substrate_supercell = create_surface_and_supercell(substrate_atoms, **substrate_surface_params)\n",
    "\n",
    "    # Create surface and supercell for layer\n",
    "    layer_supercell = create_surface_and_supercell(layer_atoms, **layer_surface_params)\n",
    "\n",
    "    # Calculate strain on the layer\n",
    "    m = calculate_strain_matrix(substrate_supercell.get_cell(), layer_supercell.get_cell())\n",
    "    m_percent = m * 100 \n",
    "    percent_str = np.array2string(m_percent, formatter={'float': '{:0.2f}%'.format})\n",
    "    print(\"Strain matrix as percentages:\\n\", percent_str)\n",
    "\n",
    "\n",
    "    # Adjust Z position based on the Z offset\n",
    "    z_max_substrate = max(substrate_supercell.positions[:, 2])\n",
    "    layer_supercell.positions[:, 2] += z_max_substrate + z_offset\n",
    "    \n",
    "    # Combine substrate and layer into one Atoms object\n",
    "    interface = substrate_supercell + layer_supercell\n",
    "    if force_wrap: interface.wrap()\n",
    "    return interface\n",
    "\n",
    "\n"
   ]
  },
  {
   "cell_type": "code",
   "execution_count": 320,
   "metadata": {},
   "outputs": [
    {
     "name": "stdout",
     "output_type": "stream",
     "text": [
      "Strain matrix as percentages:\n",
      " [[-5.89% -18.11%]\n",
      " [0.00% 2.45%]]\n"
     ]
    },
    {
     "data": {
      "text/plain": [
       "<Popen: returncode: None args: ['/Users/mat3ra/.pyenv/versions/3.11.4/bin/py...>"
      ]
     },
     "execution_count": 320,
     "metadata": {},
     "output_type": "execute_result"
    }
   ],
   "source": [
    "\n",
    "# Example usage\n",
    "substrate_poscar = poscars[\"Au\"]\n",
    "layer_poscar = poscars[\"Graphene\"]\n",
    "substrate_surface_params = {\n",
    "    \"miller\": {\"h\": 1, \"k\": 1, \"l\": 0},\n",
    "    \"number_of_layers\": 3,\n",
    "    \"vacuum\": 3,\n",
    "    \"superlattice_matrix\": [[2, 0, 0], [0, 2, 0], [0, 0, 1]],\n",
    "}\n",
    "layer_surface_params = {\n",
    "    \"miller\": {\"h\": 0, \"k\": 0, \"l\": 1},\n",
    "    \"number_of_layers\": 1,\n",
    "    \"vacuum\": 3,\n",
    "    \"superlattice_matrix\": [[4, -1, 0], [2, 4, 0], [0, 0, 1]],\n",
    "}\n",
    "z_offset = 0.0\n",
    "\n",
    "interface_atoms = create_interface(substrate_poscar, layer_poscar, substrate_surface_params,layer_surface_params, z_offset, force_wrap=False)\n",
    "\n",
    "view(interface_atoms*(2,2,1))\n",
    "\n",
    "\n"
   ]
  },
  {
   "cell_type": "code",
   "execution_count": 321,
   "metadata": {},
   "outputs": [
    {
     "name": "stdout",
     "output_type": "stream",
     "text": [
      "Strain matrix as percentages:\n",
      " [[-16.35% 0.00%]\n",
      " [-59.15% 2.45%]]\n"
     ]
    },
    {
     "data": {
      "text/plain": [
       "<Popen: returncode: None args: ['/Users/mat3ra/.pyenv/versions/3.11.4/bin/py...>"
      ]
     },
     "execution_count": 321,
     "metadata": {},
     "output_type": "execute_result"
    }
   ],
   "source": [
    "# Gr/Au(110) -- large mismatch\n",
    "substrate_poscar = poscars[\"Au\"]\n",
    "layer_poscar = poscars[\"Graphene\"]\n",
    "substrate_surface_params = {\n",
    "    \"miller\": {\"h\": 1, \"k\": 1, \"l\": 0},\n",
    "    \"number_of_layers\": 3,\n",
    "    \"vacuum\": 3,\n",
    "    \"superlattice_matrix\": [[2, 0, 0], [0, 2, 0], [0, 0, 1]],\n",
    "}\n",
    "layer_surface_params = {\n",
    "    \"miller\": {\"h\": 0, \"k\": 0, \"l\": 1},\n",
    "    \"number_of_layers\": 1,\n",
    "    \"vacuum\": 3,\n",
    "    \"superlattice_matrix\": [[4, 0, 0], [0, 4, 0], [0, 0, 1]],\n",
    "}\n",
    "z_offset = 0.0\n",
    "\n",
    "interface_atoms = create_interface(substrate_poscar, layer_poscar, substrate_surface_params,layer_surface_params, z_offset, force_wrap=False)\n",
    "\n",
    "view(interface_atoms*(2,2,1))\n",
    "\n"
   ]
  },
  {
   "cell_type": "code",
   "execution_count": 322,
   "metadata": {},
   "outputs": [
    {
     "name": "stdout",
     "output_type": "stream",
     "text": [
      "Strain matrix as percentages:\n",
      " [[-5.89% -18.11%]\n",
      " [0.00% 2.45%]]\n"
     ]
    },
    {
     "data": {
      "text/plain": [
       "<Popen: returncode: None args: ['/Users/mat3ra/.pyenv/versions/3.11.4/bin/py...>"
      ]
     },
     "execution_count": 322,
     "metadata": {},
     "output_type": "execute_result"
    }
   ],
   "source": [
    "# Gr/Au(110) -- small mismatch\n",
    "substrate_poscar = poscars[\"Au\"]\n",
    "layer_poscar = poscars[\"Graphene\"]\n",
    "substrate_surface_params = {\n",
    "    \"miller\": {\"h\": 1, \"k\": 1, \"l\": 0},\n",
    "    \"number_of_layers\": 3,\n",
    "    \"vacuum\": 3,\n",
    "    \"superlattice_matrix\": [[2, 0, 0], [0, 2, 0], [0, 0, 1]],\n",
    "}\n",
    "layer_surface_params = {\n",
    "    \"miller\": {\"h\": 0, \"k\": 0, \"l\": 1},\n",
    "    \"number_of_layers\": 1,\n",
    "    \"vacuum\": 3,\n",
    "    \"superlattice_matrix\": [[4, -1, 0], [2, 4, 0], [0, 0, 1]],\n",
    "}\n",
    "z_offset = 0.0\n",
    "\n",
    "interface_atoms = create_interface(substrate_poscar, layer_poscar, substrate_surface_params,layer_surface_params, z_offset, force_wrap=False)\n",
    "\n",
    "view(interface_atoms*(2,2,1))\n",
    "\n"
   ]
  },
  {
   "cell_type": "markdown",
   "metadata": {},
   "source": []
  },
  {
   "cell_type": "code",
   "execution_count": 275,
   "id": "46d747d4",
   "metadata": {},
   "outputs": [
    {
     "ename": "ValueError",
     "evalue": "The truth value of an array with more than one element is ambiguous. Use a.any() or a.all()",
     "output_type": "error",
     "traceback": [
      "\u001b[0;31m---------------------------------------------------------------------------\u001b[0m",
      "\u001b[0;31mValueError\u001b[0m                                Traceback (most recent call last)",
      "\u001b[1;32m/Users/mat3ra/code/api-examples/other/two_dimensional_materials/layer_on_a_surface_AI.ipynb Cell 6\u001b[0m line \u001b[0;36m1\n\u001b[1;32m     <a href='vscode-notebook-cell:/Users/mat3ra/code/api-examples/other/two_dimensional_materials/layer_on_a_surface_AI.ipynb#X14sZmlsZQ%3D%3D?line=13'>14</a>\u001b[0m min_val, max_val \u001b[39m=\u001b[39m \u001b[39m0\u001b[39m, \u001b[39m2\u001b[39m  \n\u001b[1;32m     <a href='vscode-notebook-cell:/Users/mat3ra/code/api-examples/other/two_dimensional_materials/layer_on_a_surface_AI.ipynb#X14sZmlsZQ%3D%3D?line=14'>15</a>\u001b[0m max_increase_percentage \u001b[39m=\u001b[39m \u001b[39m100\u001b[39m\n\u001b[0;32m---> <a href='vscode-notebook-cell:/Users/mat3ra/code/api-examples/other/two_dimensional_materials/layer_on_a_surface_AI.ipynb#X14sZmlsZQ%3D%3D?line=15'>16</a>\u001b[0m best_matrices \u001b[39m=\u001b[39m search_best_matrices(surface_atoms, layer_atoms, min_val, max_val, max_increase_percentage)\n\u001b[1;32m     <a href='vscode-notebook-cell:/Users/mat3ra/code/api-examples/other/two_dimensional_materials/layer_on_a_surface_AI.ipynb#X14sZmlsZQ%3D%3D?line=18'>19</a>\u001b[0m \u001b[39m# Print the best result\u001b[39;00m\n\u001b[1;32m     <a href='vscode-notebook-cell:/Users/mat3ra/code/api-examples/other/two_dimensional_materials/layer_on_a_surface_AI.ipynb#X14sZmlsZQ%3D%3D?line=19'>20</a>\u001b[0m \u001b[39mif\u001b[39;00m best_matrices:\n",
      "\u001b[1;32m/Users/mat3ra/code/api-examples/other/two_dimensional_materials/layer_on_a_surface_AI.ipynb Cell 6\u001b[0m line \u001b[0;36m1\n\u001b[1;32m    <a href='vscode-notebook-cell:/Users/mat3ra/code/api-examples/other/two_dimensional_materials/layer_on_a_surface_AI.ipynb#X14sZmlsZQ%3D%3D?line=165'>166</a>\u001b[0m                                 results\u001b[39m.\u001b[39mappend({\n\u001b[1;32m    <a href='vscode-notebook-cell:/Users/mat3ra/code/api-examples/other/two_dimensional_materials/layer_on_a_surface_AI.ipynb#X14sZmlsZQ%3D%3D?line=166'>167</a>\u001b[0m                                     \u001b[39m\"\u001b[39m\u001b[39mstrain_a\u001b[39m\u001b[39m\"\u001b[39m: strain_a,\n\u001b[1;32m    <a href='vscode-notebook-cell:/Users/mat3ra/code/api-examples/other/two_dimensional_materials/layer_on_a_surface_AI.ipynb#X14sZmlsZQ%3D%3D?line=167'>168</a>\u001b[0m                                     \u001b[39m\"\u001b[39m\u001b[39mstrain_b\u001b[39m\u001b[39m\"\u001b[39m: strain_b,\n\u001b[0;32m   (...)\u001b[0m\n\u001b[1;32m    <a href='vscode-notebook-cell:/Users/mat3ra/code/api-examples/other/two_dimensional_materials/layer_on_a_surface_AI.ipynb#X14sZmlsZQ%3D%3D?line=170'>171</a>\u001b[0m                                     \u001b[39m\"\u001b[39m\u001b[39mlayer_matrix\u001b[39m\u001b[39m\"\u001b[39m: layer_matrix\u001b[39m.\u001b[39mtolist()\n\u001b[1;32m    <a href='vscode-notebook-cell:/Users/mat3ra/code/api-examples/other/two_dimensional_materials/layer_on_a_surface_AI.ipynb#X14sZmlsZQ%3D%3D?line=171'>172</a>\u001b[0m                                 })\n\u001b[1;32m    <a href='vscode-notebook-cell:/Users/mat3ra/code/api-examples/other/two_dimensional_materials/layer_on_a_surface_AI.ipynb#X14sZmlsZQ%3D%3D?line=173'>174</a>\u001b[0m \u001b[39m# Sort results by total strain and return\u001b[39;00m\n\u001b[0;32m--> <a href='vscode-notebook-cell:/Users/mat3ra/code/api-examples/other/two_dimensional_materials/layer_on_a_surface_AI.ipynb#X14sZmlsZQ%3D%3D?line=174'>175</a>\u001b[0m sorted_results \u001b[39m=\u001b[39m \u001b[39msorted\u001b[39m(results, key\u001b[39m=\u001b[39m\u001b[39mlambda\u001b[39;00m x: x[\u001b[39m'\u001b[39m\u001b[39mtotal_strain\u001b[39m\u001b[39m'\u001b[39m])\n\u001b[1;32m    <a href='vscode-notebook-cell:/Users/mat3ra/code/api-examples/other/two_dimensional_materials/layer_on_a_surface_AI.ipynb#X14sZmlsZQ%3D%3D?line=175'>176</a>\u001b[0m \u001b[39mprint\u001b[39m(\u001b[39m\"\u001b[39m\u001b[39msorted_results:\u001b[39m\u001b[39m\"\u001b[39m, sorted_results)\n\u001b[1;32m    <a href='vscode-notebook-cell:/Users/mat3ra/code/api-examples/other/two_dimensional_materials/layer_on_a_surface_AI.ipynb#X14sZmlsZQ%3D%3D?line=176'>177</a>\u001b[0m \u001b[39mreturn\u001b[39;00m sorted_results\n",
      "\u001b[0;31mValueError\u001b[0m: The truth value of an array with more than one element is ambiguous. Use a.any() or a.all()"
     ]
    }
   ],
   "source": [
    "substrate_poscar = poscars[\"SiC\"]\n",
    "layer_poscar = poscars[\"Graphene\"]\n",
    "surface_params = {\n",
    "    \"miller\": {\"h\": 1, \"k\": 1, \"l\": 1},\n",
    "    \"number_of_layers\": 3,\n",
    "    \"vacuum\": 10,\n",
    "}\n",
    "substrate_atoms = poscar_to_atoms(substrate_poscar)  # Use the actual POSCAR content\n",
    "surface_atoms = surface(substrate_atoms, (surface_params[\"miller\"][\"h\"], surface_params[\"miller\"][\"k\"], surface_params[\"miller\"][\"l\"]), surface_params[\"number_of_layers\"], surface_params[\"vacuum\"])\n",
    "layer_atoms = poscar_to_atoms(layer_poscar)     \n",
    "\n",
    "\n",
    "# Brute force search for the best superlattice matrices\n",
    "min_val, max_val = 0, 2  \n",
    "max_increase_percentage = 100\n",
    "best_matrices = search_best_matrices(surface_atoms, layer_atoms, min_val, max_val, max_increase_percentage)\n",
    "\n",
    "\n",
    "# Print the best result\n",
    "if best_matrices:\n",
    "    best_result = best_matrices[0]\n",
    "    print(\"Best superlattice matrices with the smallest total strain:\")\n",
    "    print(\"Strain along a:\", best_result[\"strain_a\"])\n",
    "    print(\"Strain along b:\", best_result[\"strain_b\"])\n",
    "    print(\"Total strain:\", best_result[\"total_strain\"])\n",
    "    print(\"Substrate superlattice matrix:\", best_result[\"slab_matrix\"])\n",
    "    print(\"Layer superlattice matrix:\", best_result[\"layer_matrix\"])\n",
    "else:\n",
    "    print(\"No valid superlattice matrices found within the given range.\")\n",
    "\n",
    "# Visualize the best result\n",
    "if best_matrices:\n",
    "    superlattice_matrices = {\n",
    "        \"slab\": best_result[\"slab_matrix\"],\n",
    "        \"layer\": best_result[\"layer_matrix\"],\n",
    "    }\n",
    "    z_offset = 3.0  # Example Z offset\n",
    "    \n",
    "    interface_atoms = create_interface(substrate_poscar, layer_poscar, surface_params, superlattice_matrices, z_offset)\n",
    "    view(interface_atoms*(3,3,1))\n",
    "    print(interface_atoms)\n"
   ]
  },
  {
   "cell_type": "code",
   "execution_count": null,
   "metadata": {},
   "outputs": [],
   "source": []
  }
 ],
 "metadata": {
  "kernelspec": {
   "display_name": "Python 3 (ipykernel)",
   "language": "python",
   "name": "python3"
  },
  "language_info": {
   "codemirror_mode": {
    "name": "ipython",
    "version": 3
   },
   "file_extension": ".py",
   "mimetype": "text/x-python",
   "name": "python",
   "nbconvert_exporter": "python",
   "pygments_lexer": "ipython3",
   "version": "3.11.4"
  }
 },
 "nbformat": 4,
 "nbformat_minor": 5
}
