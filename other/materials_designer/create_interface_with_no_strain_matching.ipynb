{
 "cells": [
  {
   "cell_type": "markdown",
   "metadata": {},
   "source": [
    "# Create an interface between two materials with minimal strain\n",
    "\n",
    "Use Zur and McGill superlattices matching [algorithm](https://doi.org/10.1063/1.3330840) to create interfaces between two materials using the Pymatgen [implementation](https://pymatgen.org/pymatgen.analysis.interfaces.html#pymatgen.analysis.interfaces.zsl).\n",
    "\n",
    "<h2 style=\"color:green\">Usage</h2>\n",
    "\n",
    "1. Make sure to select Input Materials\n",
    "2. Create slabs for substrate and film using slab generator with specified parameters, view them and select terminations\n",
    "\n"
   ]
  },
  {
   "cell_type": "markdown",
   "source": [
    "## 1. Prepare the Environment\n",
    "\n",
    "### 1.1. Install the Required Packages\n",
    "Note: the step executes only when using Pyodide. For other environments (e.g. Colab, JupyterLab), the packages should be installed via `pip install .` (see [README](../../README.ipynb))."
   ],
   "metadata": {
    "collapsed": false
   }
  },
  {
   "cell_type": "code",
   "outputs": [],
   "source": [
    "import sys\n",
    "\n",
    "if sys.platform == \"emscripten\":\n",
    "    import micropip\n",
    "    await micropip.install('mat3ra-api-examples', deps=False)\n",
    "    from utils.jupyterlite import install_packages\n",
    "    await install_packages(\"create_interface_with_min_strain_zsl.ipynb\", \"../../config.yml\")"
   ],
   "metadata": {
    "collapsed": false
   },
   "execution_count": null
  },
  {
   "cell_type": "markdown",
   "source": [
    "### 1.2. Get input materials and assign `substrate` and `film`\n"
   ],
   "metadata": {
    "collapsed": false
   }
  },
  {
   "cell_type": "code",
   "outputs": [],
   "source": [
    "from mat3ra.made.material import Material\n",
    "from utils.jupyterlite import get_data\n",
    "\n",
    "# Get the list of input materials and load them into `materials_in` variable\n",
    "get_data(\"materials_in\", globals())\n",
    "materials = list(map(Material, globals()[\"materials_in\"]))\n",
    "substrate = materials[0]\n",
    "film = materials[1]"
   ],
   "metadata": {
    "collapsed": false
   },
   "execution_count": null
  },
  {
   "cell_type": "markdown",
   "source": [
    "### 1.3. Visualize Substrate and Film"
   ],
   "metadata": {
    "collapsed": false
   }
  },
  {
   "cell_type": "code",
   "outputs": [],
   "source": [
    "from utils.visualize import visualize_materials as visualize\n",
    "visualize([substrate, film], repetitions=[3, 3, 1], rotation=\"0x\")"
   ],
   "metadata": {
    "collapsed": false
   },
   "execution_count": null
  },
  {
   "cell_type": "markdown",
   "source": [
    "## 2. Create Slabs for the Interface\n",
    "\n",
    "### 2.1. Create Substrate and Layer Slabs via SlabGenerator"
   ],
   "metadata": {
    "collapsed": false
   }
  },
  {
   "cell_type": "code",
   "outputs": [],
   "source": [
    "substrate_slab_generator = SlabGenerator(\n",
    "    bulk=substrate,\n",
    "    # the Miller indices of the interfacial plane of the substrate\n",
    "    miller_indices=(1, 1, 1),\n",
    "    # substrate thickness in layers\n",
    "    thickness=3,\n",
    "    # the matrix of the surface cell along the basal plane dimension\n",
    "    xy_supercell_matrix=[[1,0], [0,1]],\n",
    ")\n",
    "\n",
    "film_slab_generator = SlabGenerator(\n",
    "    bulk=film,\n",
    "    # the Miller indices of the interfacial plane of the layer\n",
    "    miller_indices=(0, 0, 1),\n",
    "    # layer thickness in layers\n",
    "    thickness=1,\n",
    "    # the matrix of the surface cell along the basal plane dimension\n",
    "    xy_supercell_matrix=[[1,0], [0,1]],\n",
    ")\n",
    "\n",
    "substrate_slab_terminations = substrate_slab_generator.get_terminations()\n",
    "film_slab_terminations = film_slab_generator.get_terminations()"
   ],
   "metadata": {
    "collapsed": false
   }
  },
  {
   "cell_type": "markdown",
   "source": [
    "### 2.2. Visualize slabs for possible terminations"
   ],
   "metadata": {
    "collapsed": false
   }
  },
  {
   "cell_type": "code",
   "outputs": [],
   "source": [
    "for termination in substrate_slab_terminations:\n",
    "    visualize(substrate_slab_generator.get_slab(termination=termination), repetitions=[3, 3, 1], rotation=\"-90x\", title=f\"Termination: {termination}\")\n",
    "    \n",
    "for termination in film_slab_terminations:\n",
    "    visualize(film_slab_generator.get_slab(termination=termination), repetitions=[3, 3, 1], rotation=\"-90x\", title=f\"Termination: {termination}\")\n",
    "    "
   ],
   "metadata": {
    "collapsed": false
   },
   "execution_count": null
  },
  {
   "cell_type": "markdown",
   "source": [
    "### 2.3. Create slabs with specified termination\n",
    "Select termination that will be facing interfacial plane for substrate and film"
   ],
   "metadata": {
    "collapsed": false
   }
  },
  {
   "cell_type": "code",
   "outputs": [],
   "source": [
    "substrate_slab_termination = substrate_slab_terminations[0]\n",
    "film_slab_termination = film_slab_terminations[0]\n",
    "\n",
    "# Create substrate slab with the selected termination\n",
    "substrate_slab = substrate_slab_generator.get_slab(termination=substrate_slab_terminations[0])\n",
    "# Create film slab with the selected termination\n",
    "film_slab_generator = film_slab_generator.get_slab(termination=film_slab_terminations[0])"
   ],
   "metadata": {
    "collapsed": false
   }
  },
  {
   "cell_type": "markdown",
   "metadata": {},
   "source": [
    "## 3. Create an interface\n",
    "### 3.1. Initialize the Interface Builder\n",
    "We use no strain matching for the interface construction. Substrate slab cell is used as a base and the film slab is wrapped into it with optionally scaling atomic coordinates (preserve coordinates in crystal/alat units)."
   ]
  },
  {
   "cell_type": "code",
   "execution_count": null,
   "metadata": {},
   "outputs": [],
   "source": [
    "from mat3ra.made.tools.build.interface import InterfaceBuilder, NoStrainMatchingParameters\n",
    "\n",
    "no_strain_matching_parameters = NoStrainMatchingParameters.copy()\n",
    "no_strain_matching_parameters.use_scaling_for_film = False\n",
    "\n",
    "builder_with_no_strain_matching = InterfaceBuilder(\n",
    "    substrate_slab=substrate_slab,\n",
    "    film_parameters=film_slab_generator,\n",
    "    # distance between substrate and layer, in Angstroms\n",
    "    distance_z=3.0,\n",
    "    # shift in x direction, in Angstroms\n",
    "    shift_x=0.0,\n",
    "    # shift in y direction, in Angstroms\n",
    "    shift_y=0.0,\n",
    "    # if True, the surface plane is constructed using miller indices of the conventional cell\n",
    "    use_conventional_cell=True,\n",
    "    use_strain_matching=False,\n",
    "    strain_matching_parameters=no_strain_matching_parameters,\n",
    ")"
   ]
  },
  {
   "cell_type": "markdown",
   "source": [
    "# 3.2. Create interface for the termination\n",
    "Function `create_interfaces()` returns InterfaceDataHolder with list of interfaces for each termination when the strain matching algorithm is used. With no strain matching only one list item is returned."
   ],
   "metadata": {
    "collapsed": false
   }
  },
  {
   "cell_type": "code",
   "outputs": [],
   "source": [
    "from mat3ra.made.tools.build import create_interfaces\n",
    "\n",
    "interface_termination = (substrate_slab_termination, film_slab_termination)\n",
    "\n",
    "interface = create_interfaces(\n",
    "    interface_builder=builder_with_no_strain_matching,\n",
    "    termination=interface_termination,\n",
    ")[0]"
   ],
   "metadata": {
    "collapsed": false
   },
   "execution_count": null
  },
  {
   "cell_type": "markdown",
   "source": [
    "### 6.2. Visualize the interface\n"
   ],
   "metadata": {
    "collapsed": false
   }
  },
  {
   "cell_type": "code",
   "outputs": [],
   "source": [
    "visualize(interface, repetitions=[1, 1, 1], rotation=\"0x\")"
   ],
   "metadata": {
    "collapsed": false
   },
   "execution_count": null
  },
  {
   "cell_type": "markdown",
   "metadata": {},
   "source": [
    "### 6.3. Pass data to the outside runtime\n",
    "Enrich the interface names with the strain values and pass them to the application runtime."
   ]
  },
  {
   "cell_type": "code",
   "execution_count": null,
   "metadata": {},
   "outputs": [],
   "source": [
    "from utils.jupyterlite import set_data\n",
    "\n",
    "if \"Interface, Strain:\" not in interface[\"name\"]:\n",
    "    interface[\"name\"] = f'{interface[\"name\"]}, Interface, Strain:{interface[\"metadata\"][\"interface_properties\"][\"mean_abs_strain\"]*100:.3f}%'\n",
    "\n",
    "set_data(\"materials\", [interface])"
   ]
  }
 ],
 "metadata": {
  "kernelspec": {
   "display_name": ".venv",
   "language": "python",
   "name": "python3"
  },
  "language_info": {
   "codemirror_mode": {
    "name": "ipython",
    "version": 3
   },
   "file_extension": ".py",
   "mimetype": "text/x-python",
   "name": "python",
   "nbconvert_exporter": "python",
   "pygments_lexer": "ipython3",
   "version": "3.10.12"
  },
  "widgets": {
   "application/vnd.jupyter.widget-state+json": {
    "state": {},
    "version_major": 2,
    "version_minor": 0
   }
  }
 },
 "nbformat": 4,
 "nbformat_minor": 4
}
