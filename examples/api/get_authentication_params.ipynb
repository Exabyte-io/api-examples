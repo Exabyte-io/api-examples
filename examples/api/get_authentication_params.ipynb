{
 "cells": [
  {
   "cell_type": "markdown",
   "metadata": {},
   "source": [
    "# Overview\n",
    "\n",
    "Logins in to Exabyte RESTFul API and generates API authentication parameters.\n",
    "\n",
    "# Parameters\n",
    "\n",
    "1. **HOST**: Hostname of the RESTful API server. Defaults to platform.exabyte.io.\n",
    "\n",
    "2. **PORT**: The port RESTful API server is listening on. Defaults to 443.\n",
    "\n",
    "3. **VERSION**: RESTFul API version. Defaults to 2018-10-01.\n",
    "\n",
    "4. **SECURE**: Whether to use secure connection. Defaults to True.\n",
    "\n",
    "5. **USERNAME**: Your Exabyte account username.\n",
    "\n",
    "6. **PASSWORD**: Your Exabyte account password."
   ]
  },
  {
   "cell_type": "code",
   "execution_count": 1,
   "metadata": {},
   "outputs": [],
   "source": [
    "import json\n",
    "import argparse\n",
    "from endpoints.login import LoginEndpoint"
   ]
  },
  {
   "cell_type": "code",
   "execution_count": 2,
   "metadata": {},
   "outputs": [],
   "source": [
    "HOST = \"platform.exabyte.io\"\n",
    "PORT = 443\n",
    "SECURE = True\n",
    "VERSION = \"2018-10-01\"\n",
    "USERNAME = \"demo\"\n",
    "PASSWORD = \"demo\""
   ]
  },
  {
   "cell_type": "code",
   "execution_count": 4,
   "metadata": {},
   "outputs": [],
   "source": [
    "login_endpoint = LoginEndpoint(HOST, PORT, USERNAME, PASSWORD, VERSION, SECURE)\n",
    "auth_params = login_endpoint.login()"
   ]
  },
  {
   "cell_type": "code",
   "execution_count": 5,
   "metadata": {
    "scrolled": true
   },
   "outputs": [
    {
     "name": "stdout",
     "output_type": "stream",
     "text": [
      "{\n",
      "    \"X-Account-Id\": \"8nRSiEbyTvW4MRHrz\", \n",
      "    \"X-Auth-Token\": \"oZA55ndvchj78_WSHvWwVrLBEz_Xnd4eo0f3WnZ9ACi\"\n",
      "}\n"
     ]
    }
   ],
   "source": [
    "print json.dumps(auth_params, indent=4)"
   ]
  }
 ],
 "metadata": {
  "kernelspec": {
   "display_name": "Python 2",
   "language": "python",
   "name": "python2"
  },
  "language_info": {
   "codemirror_mode": {
    "name": "ipython",
    "version": 2
   },
   "file_extension": ".py",
   "mimetype": "text/x-python",
   "name": "python",
   "nbconvert_exporter": "python",
   "pygments_lexer": "ipython2",
   "version": "2.7.10"
  }
 },
 "nbformat": 4,
 "nbformat_minor": 2
}
