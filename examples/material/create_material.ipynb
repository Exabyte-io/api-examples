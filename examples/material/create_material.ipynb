version https://git-lfs.github.com/spec/v1
oid sha256:38653d1d732b31e2215a01bd54eb99e15bfb55b743b167c0223215d48da2afb0
size 12250
