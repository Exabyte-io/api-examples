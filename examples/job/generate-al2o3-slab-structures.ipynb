version https://git-lfs.github.com/spec/v1
oid sha256:a182282fcadab0e488a2fd199ec6c93e1b971f46a44ac2a73c8b7895ee9f28a1
size 35862
