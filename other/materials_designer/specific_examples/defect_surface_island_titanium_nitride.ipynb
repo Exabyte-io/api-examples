{
 "cells": [
  {
   "cell_type": "markdown",
   "source": [
    "# Island Surface Defect Formation on TiN(001) Surface\n",
    "\n",
    "## 0. Introduction\n",
    "\n",
    "This tutorial demonstrates the process of creating a rectangular island defect on a slab. \n",
    "\n",
    "\n",
    "> **D. G. Sangiovanni, A. B. Mei, D. Edström, L. Hultman, V. Chirita, I. Petrov, and J. E. Greene**, \"Effects of surface vibrations on interlayer mass transport: Ab initio molecular dynamics investigation of Ti adatom descent pathways and rates from TiN/TiN(001) islands\", Physical Review B, 2018. [DOI: 10.1103/PhysRevB.97.035406](https://journals.aps.org/prb/abstract/10.1103/PhysRevB.97.035406).\n",
    "> \n",
    "\n",
    "![Fig 2.](https://i.imgur.com/wgh5QRf.png)\n",
    "\n",
    "In this notebook we will reproduce material from FIG. 2 a)\n"
   ],
   "metadata": {
    "collapsed": false
   },
   "id": "f0ccd3190ce70a68"
  },
  {
   "cell_type": "markdown",
   "source": [
    "## 1. Prepare the Environment\n",
    "### 1.1. Set up defects parameters \n",
    "\n"
   ],
   "metadata": {
    "collapsed": false
   },
   "id": "aae97744e3023a1b"
  },
  {
   "cell_type": "code",
   "outputs": [],
   "source": [
    "AUTO_ADD_VACUUM = True\n",
    "VACUUM_THICKNESS = 15.0\n",
    "NUMBER_OF_ADDED_LAYERS = 0.5\n",
    "\n",
    "SHAPE_PARAMETERS = {\n",
    "    'shape': 'box',\n",
    "    'min_coordinate': [0.25, 0.2, 0],\n",
    "    'max_coordinate': [0.65, 0.6, 1]\n",
    "}\n",
    "\n",
    "# Create slab with default parameters if imported material is not a slab\n",
    "DEFAULT_SLAB_PARAMETERS = {\n",
    "    \"miller_indices\": (0, 0, 1),\n",
    "    \"thickness\": 3,\n",
    "    \"vacuum\": 0.0,\n",
    "    \"use_orthogonal_z\": True,\n",
    "    \"xy_supercell_matrix\": [[10, 0], [0, 10]]\n",
    "}"
   ],
   "metadata": {
    "collapsed": false
   },
   "id": "139422d7e6c3cb3e",
   "execution_count": null
  },
  {
   "cell_type": "markdown",
   "source": [
    "### 1.2. Install Packages\n",
    "The step executes only in Pyodide environment. For other environments, the packages should be installed via `pip install` (see [README](../../README.ipynb))."
   ],
   "metadata": {
    "collapsed": false
   },
   "id": "bede1fdd496fb639"
  },
  {
   "cell_type": "code",
   "outputs": [],
   "source": [
    "import sys\n",
    "\n",
    "if sys.platform == \"emscripten\":\n",
    "    import micropip\n",
    "\n",
    "    await micropip.install('mat3ra-api-examples', deps=False)\n",
    "    from utils.jupyterlite import install_packages\n",
    "\n",
    "    await install_packages(\"\")\n",
    "    await install_packages(\"specific_examples\")"
   ],
   "metadata": {
    "collapsed": false
   },
   "id": "a457db594c9e2b24",
   "execution_count": null
  },
  {
   "cell_type": "markdown",
   "source": [
    "### 1.3. Get input material\n",
    "In this notebook we will use materials from Standata."
   ],
   "metadata": {
    "collapsed": false
   },
   "id": "7d419807867fb1c9"
  },
  {
   "cell_type": "code",
   "outputs": [],
   "source": [
    "from mat3ra.made.material import Material\n",
    "from mat3ra.standata.materials import Materials\n",
    "\n",
    "material = Material(Materials.get_by_name_first_match(\"TiN\"))"
   ],
   "metadata": {
    "collapsed": false
   },
   "id": "ba2d38ba55128111",
   "execution_count": null
  },
  {
   "cell_type": "markdown",
   "source": [
    "### 1.4. Preview Slab or create a new one"
   ],
   "metadata": {
    "collapsed": false
   },
   "id": "3230f242ef26d70f"
  },
  {
   "cell_type": "code",
   "outputs": [],
   "source": [
    "from mat3ra.made.tools.build.slab import create_slab, SlabConfiguration, get_terminations\n",
    "from utils.visualize import visualize_materials as visualize\n",
    "\n",
    "slab = material\n",
    "if not slab.metadata or slab.metadata[\"build\"][\"configuration\"][\"type\"] != SlabConfiguration.__name__:\n",
    "    print(\"The material is not a slab. Creating a new slab...\")\n",
    "    slab_config = SlabConfiguration(\n",
    "        bulk=material,\n",
    "        miller_indices=DEFAULT_SLAB_PARAMETERS[\"miller_indices\"],\n",
    "        thickness=DEFAULT_SLAB_PARAMETERS[\"thickness\"],\n",
    "        vacuum=DEFAULT_SLAB_PARAMETERS[\"vacuum\"],\n",
    "        use_orthogonal_z=DEFAULT_SLAB_PARAMETERS[\"use_orthogonal_z\"],\n",
    "        xy_supercell_matrix=DEFAULT_SLAB_PARAMETERS[\"xy_supercell_matrix\"]\n",
    "    )\n",
    "    terminations = get_terminations(slab_config)\n",
    "    print(f\"Available terminations: {terminations}\")\n",
    "    slab = create_slab(slab_config, terminations[0])\n",
    "\n",
    "visualize([{\"material\": slab, \"title\": \"Original material\"}])\n",
    "visualize([{\"material\": slab, \"title\": \"Original material\"}], rotation=\"-90x\")"
   ],
   "metadata": {
    "collapsed": false
   },
   "id": "953c746c1e789a42",
   "execution_count": null
  },
  {
   "cell_type": "markdown",
   "source": [
    "## 2. Create the Target Material\n",
    "### 2.1. Initialize the defect configuration and builder"
   ],
   "metadata": {
    "collapsed": false
   },
   "id": "1098e7479b4ddbe"
  },
  {
   "cell_type": "code",
   "outputs": [],
   "source": [
    "from mat3ra.made.tools.utils.coordinate import (\n",
    "    BoxCoordinateCondition,\n",
    ")\n",
    "from mat3ra.made.tools.build.defect import IslandSlabDefectConfiguration\n",
    "\n",
    "coordinate_condition = BoxCoordinateCondition(\n",
    "    min_coordinate=SHAPE_PARAMETERS['min_coordinate'],\n",
    "    max_coordinate=SHAPE_PARAMETERS['max_coordinate']\n",
    ")\n",
    "\n",
    "island_config = IslandSlabDefectConfiguration(\n",
    "    crystal=slab,\n",
    "    condition=coordinate_condition,\n",
    "    number_of_added_layers=NUMBER_OF_ADDED_LAYERS,\n",
    "    use_cartesian_coordinates=False,\n",
    ")\n",
    "\n",
    "from mat3ra.made.tools.build.defect import IslandSlabDefectBuilder, SlabDefectBuilderParameters\n",
    "\n",
    "params = SlabDefectBuilderParameters(\n",
    "    auto_add_vacuum=AUTO_ADD_VACUUM,\n",
    "    vacuum_thickness=VACUUM_THICKNESS,\n",
    ")\n",
    "builder = IslandSlabDefectBuilder(build_parameters=params)"
   ],
   "metadata": {
    "collapsed": false
   },
   "id": "c1dfcb6ba96a8856",
   "execution_count": null
  },
  {
   "cell_type": "markdown",
   "source": [
    "### 2.2. Create the island"
   ],
   "metadata": {
    "collapsed": false
   },
   "id": "ade21ddf312cca79"
  },
  {
   "cell_type": "code",
   "outputs": [],
   "source": [
    "slab_with_island = builder.get_material(island_config)"
   ],
   "metadata": {
    "collapsed": false
   },
   "id": "cc2bca4b2f492280",
   "execution_count": null
  },
  {
   "cell_type": "markdown",
   "source": [
    "## 3. Visualize the Result(s)"
   ],
   "metadata": {
    "collapsed": false
   },
   "id": "163254119be36953"
  },
  {
   "cell_type": "code",
   "outputs": [],
   "source": [
    "visualize([{\"material\": slab, \"title\": \"Original material\"},\n",
    "           {\"material\": slab_with_island, \"title\": f\"Material with Island Defect ({SHAPE_PARAMETERS['shape']})\"}],\n",
    "          rotation=\"-90x\")\n",
    "\n",
    "visualize([{\"material\": slab, \"title\": \"Original material\"},\n",
    "           {\"material\": slab_with_island, \"title\": f\"Material with Island Defect ({SHAPE_PARAMETERS['shape']})\"}])"
   ],
   "metadata": {
    "collapsed": false
   },
   "id": "70d32719704d9ef2",
   "execution_count": null
  },
  {
   "cell_type": "markdown",
   "source": [
    "## 4. Pass data to the outside runtime"
   ],
   "metadata": {
    "collapsed": false
   },
   "id": "6ac5c59b901acf80"
  },
  {
   "cell_type": "code",
   "outputs": [],
   "source": [
    "from utils.jupyterlite import download_content_to_file\n",
    "\n",
    "download_content_to_file(slab_with_island, \"TiN_slab_with_island.json\")"
   ],
   "metadata": {
    "collapsed": false
   },
   "id": "3ec05765edc89d01",
   "execution_count": null
  }
 ],
 "metadata": {
  "kernelspec": {
   "display_name": "Python 3",
   "language": "python",
   "name": "python3"
  },
  "language_info": {
   "codemirror_mode": {
    "name": "ipython",
    "version": 2
   },
   "file_extension": ".py",
   "mimetype": "text/x-python",
   "name": "python",
   "nbconvert_exporter": "python",
   "pygments_lexer": "ipython2",
   "version": "2.7.6"
  }
 },
 "nbformat": 4,
 "nbformat_minor": 5
}
