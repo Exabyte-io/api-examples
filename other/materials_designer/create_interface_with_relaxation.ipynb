{
  "cells": [
    {
      "cell_type": "markdown",
      "metadata": {},
      "source": [
        "# Create an interface between two materials with minimal strain\n",
        "\n",
        "Use Zur and McGill superlattices matching [algorithm](https://doi.org/10.1063/1.3330840) to create interfaces between two materials using the Pymatgen [implementation](https://pymatgen.org/pymatgen.analysis.interfaces.html#pymatgen.analysis.interfaces.zsl).\n",
        "\n",
        "<h2 style=\"color:green\">Usage</h2>\n",
        "\n",
        "0. Make sure to select Input Materials\n",
        "1. Execute \"Run first: ...\" cell below to load Input Materials into the current kernel\n",
        "2. Set Input Parameters (e.g. `MILLER_INDICES`, `THICKNESS`, `MAX_AREA`) below or use the default values\n",
        "3. Click \"Run\" > \"Run All\" to run all cells\n",
        "4. Wait for the run to complete (depending on the area, it can take 1-2 min or more). Scroll down to view cell results.\n",
        "5. Review the strain plot and modify its parameters as needed\n",
        "\n",
        "## Methodology\n",
        "\n",
        "The following happens in the script below:\n",
        "\n",
        "1. Create slabs for each input material. The materials data is passed in from and back to the web application according to this description (TBA).\n",
        "   We assume that two input materials are either in bulk form (e.g. Ni crystal) or layered (e.g. graphene). \n",
        "   \n",
        "   We construct the interface along the Z-axis. The material corresponding to the bottom of the interface is referred to as the \"**substrate**\", and the top - as the \"**layer**\". \n",
        "\n",
        "2. Perform strain matching on the slabs to extract the supercell dimensions. The algorithm has a set of parameters, such as the maximum area considered, that can be configured by editing the cells below.\n",
        "\n",
        "3. When the strain matching is finished, the interface with the lowest strain (and the smallest number of atoms) is selected. We create the corresponding supercells and place them at a specified distance from each other (note no shift is performed currently).\n"
      ]
    },
    {
      "cell_type": "markdown",
      "metadata": {},
      "source": [
        "<h2 style=\"color:red\">Run first: load input materials in current kernel</h2>\n"
      ]
    },
    {
      "cell_type": "code",
      "execution_count": 1,
      "metadata": {},
      "outputs": [],
      "source": [
        "import json\n",
        "materials_in = []\n",
        "for file in [\"Ni.json\", \"Gr.json\"]:\n",
        "    with open(file, \"r\") as f:\n",
        "        data = f.read()\n",
        "        materials_in.append(json.loads(data))"
      ]
    },
    {
      "cell_type": "markdown",
      "metadata": {},
      "source": [
        "## 1. Set Input Parameters\n",
        "\n",
        "### 1.1. Select Substrate and Layer from Input Materials"
      ]
    },
    {
      "cell_type": "code",
      "execution_count": 2,
      "metadata": {},
      "outputs": [],
      "source": [
        "SUBSTRATE_PARAMETERS = {\n",
        "    \"MATERIAL_INDEX\": 0,  # the index of the material in the materials_in list\n",
        "    \"MILLER_INDICES\": (1, 1, 1),  # the miller indices of the interfacial plane\n",
        "    \"THICKNESS\": 3,  # in layers\n",
        "}\n",
        "\n",
        "LAYER_PARAMETERS = {\n",
        "    \"MATERIAL_INDEX\": 1, # the index of the material in the materials_in list\n",
        "    \"MILLER_INDICES\": (0, 0, 1),  # the miller indices of the interfacial plane\n",
        "    \"THICKNESS\": 1,  # in layers\n",
        "}"
      ]
    },
    {
      "cell_type": "markdown",
      "metadata": {},
      "source": [
        "### 1.2. Set Interface Parameters\n",
        "\n",
        "The distance between layer and substrate and maximum area to consider when matching.\n"
      ]
    },
    {
      "cell_type": "code",
      "execution_count": 3,
      "metadata": {},
      "outputs": [],
      "source": [
        "INTERFACE_PARAMETERS = {\n",
        "    \"DISTANCE_Z\": 3.0, # in Angstroms\n",
        "    \"MAX_AREA\": 50, # in Angstroms^2\n",
        "}"
      ]
    },
    {
      "cell_type": "markdown",
      "metadata": {},
      "source": [
        "### 1.3. Set Algorithm Parameters"
      ]
    },
    {
      "cell_type": "code",
      "execution_count": 4,
      "metadata": {},
      "outputs": [],
      "source": [
        "ZSL_PARAMETERS = {\n",
        "    \"MAX_AREA\": INTERFACE_PARAMETERS[\"MAX_AREA\"],  # The area to consider in Angstrom^2\n",
        "    \"MAX_AREA_TOL\": 0.09,  # The area within this tolerance is considered equal\n",
        "    \"MAX_LENGTH_TOL\": 0.03,  # supercell lattice vectors lengths within this tolerance are considered equal\n",
        "    \"MAX_ANGLE_TOL\": 0.01,  # supercell lattice angles within this tolerance are considered equal\n",
        "    \"STRAIN_TOL\": 10e-6,  # strains within this tolerance are considered equal\n",
        "}"
      ]
    },
    {
      "cell_type": "markdown",
      "metadata": {},
      "source": [
        "## 2. Install Packages"
      ]
    },
    {
      "cell_type": "code",
      "execution_count": 5,
      "metadata": {},
      "outputs": [
        {
          "name": "stdout",
          "output_type": "stream",
          "text": [
            "Python 3.10.12\n",
            "Package                   Version\n",
            "------------------------- ---------------\n",
            "aiohttp                   3.9.3\n",
            "aiosignal                 1.3.1\n",
            "anyio                     4.2.0\n",
            "appnope                   0.1.4\n",
            "argon2-cffi               23.1.0\n",
            "argon2-cffi-bindings      21.2.0\n",
            "arrow                     1.3.0\n",
            "ase                       3.22.1\n",
            "asttokens                 2.4.1\n",
            "async-lru                 2.0.4\n",
            "async-timeout             4.0.3\n",
            "attrs                     23.2.0\n",
            "Babel                     2.14.0\n",
            "beautifulsoup4            4.12.3\n",
            "bleach                    6.1.0\n",
            "certifi                   2024.2.2\n",
            "cffi                      1.16.0\n",
            "charset-normalizer        3.3.2\n",
            "comm                      0.2.1\n",
            "contourpy                 1.2.0\n",
            "cycler                    0.12.1\n",
            "debugpy                   1.8.1\n",
            "decorator                 5.1.1\n",
            "defusedxml                0.7.1\n",
            "dgl                       2.0.0\n",
            "exceptiongroup            1.2.0\n",
            "executing                 2.0.1\n",
            "fastjsonschema            2.19.1\n",
            "filelock                  3.13.1\n",
            "fonttools                 4.48.1\n",
            "fqdn                      1.5.1\n",
            "frozenlist                1.4.1\n",
            "fsspec                    2024.2.0\n",
            "future                    0.18.3\n",
            "idna                      3.6\n",
            "ipykernel                 6.29.2\n",
            "ipython                   8.21.0\n",
            "ipython-genutils          0.2.0\n",
            "ipywidgets                8.1.2\n",
            "isoduration               20.11.0\n",
            "jedi                      0.19.1\n",
            "Jinja2                    3.1.3\n",
            "joblib                    1.3.2\n",
            "json5                     0.9.14\n",
            "jsonpointer               2.4\n",
            "jsonschema                4.21.1\n",
            "jsonschema-specifications 2023.12.1\n",
            "jupyter_client            8.6.0\n",
            "jupyter_core              5.7.1\n",
            "jupyter-events            0.9.0\n",
            "jupyter-lsp               2.2.2\n",
            "jupyter_server            2.12.5\n",
            "jupyter_server_terminals  0.5.2\n",
            "jupyterlab                4.0.12\n",
            "jupyterlab_pygments       0.3.0\n",
            "jupyterlab_server         2.25.2\n",
            "jupyterlab_widgets        3.0.10\n",
            "kiwisolver                1.4.5\n",
            "latexcodec                2.0.1\n",
            "lightning-utilities       0.10.1\n",
            "MarkupSafe                2.1.5\n",
            "matgl                     0.9.2\n",
            "matplotlib                3.8.2\n",
            "matplotlib-inline         0.1.6\n",
            "mistune                   3.0.2\n",
            "monty                     2024.2.2\n",
            "mpmath                    1.3.0\n",
            "multidict                 6.0.5\n",
            "nbclient                  0.9.0\n",
            "nbconvert                 7.16.0\n",
            "nbformat                  5.9.2\n",
            "nest-asyncio              1.6.0\n",
            "networkx                  3.2.1\n",
            "nglview                   3.1.1\n",
            "notebook                  7.0.8\n",
            "notebook_shim             0.2.3\n",
            "numpy                     1.26.4\n",
            "overrides                 7.7.0\n",
            "packaging                 23.2\n",
            "palettable                3.3.3\n",
            "pandas                    2.2.0\n",
            "pandocfilters             1.5.1\n",
            "parso                     0.8.3\n",
            "pexpect                   4.9.0\n",
            "pillow                    10.2.0\n",
            "pip                       23.0.1\n",
            "platformdirs              4.2.0\n",
            "plotly                    5.18.0\n",
            "prometheus-client         0.19.0\n",
            "prompt-toolkit            3.0.43\n",
            "psutil                    5.9.8\n",
            "ptyprocess                0.7.0\n",
            "pure-eval                 0.2.2\n",
            "pybtex                    0.24.0\n",
            "pycparser                 2.21\n",
            "Pygments                  2.17.2\n",
            "pymatgen                  2024.2.8\n",
            "pyparsing                 3.1.1\n",
            "python-dateutil           2.8.2\n",
            "python-json-logger        2.0.7\n",
            "pytorch-lightning         2.2.0\n",
            "pytz                      2024.1\n",
            "PyYAML                    6.0.1\n",
            "pyzmq                     25.1.2\n",
            "referencing               0.33.0\n",
            "requests                  2.31.0\n",
            "rfc3339-validator         0.1.4\n",
            "rfc3986-validator         0.1.1\n",
            "rpds-py                   0.17.1\n",
            "ruamel.yaml               0.18.6\n",
            "ruamel.yaml.clib          0.2.8\n",
            "scipy                     1.12.0\n",
            "Send2Trash                1.8.2\n",
            "setuptools                65.5.0\n",
            "six                       1.16.0\n",
            "sniffio                   1.3.0\n",
            "soupsieve                 2.5\n",
            "spglib                    2.3.0\n",
            "stack-data                0.6.3\n",
            "sympy                     1.12\n",
            "tabulate                  0.9.0\n",
            "tenacity                  8.2.3\n",
            "terminado                 0.18.0\n",
            "tinycss2                  1.2.1\n",
            "tomli                     2.0.1\n",
            "torch                     2.2.0\n",
            "torchdata                 0.7.1\n",
            "torchmetrics              1.3.0.post0\n",
            "tornado                   6.4\n",
            "tqdm                      4.66.2\n",
            "traitlets                 5.14.1\n",
            "types-python-dateutil     2.8.19.20240106\n",
            "typing_extensions         4.9.0\n",
            "tzdata                    2023.4\n",
            "uncertainties             3.1.7\n",
            "uri-template              1.3.0\n",
            "urllib3                   2.2.0\n",
            "wcwidth                   0.2.13\n",
            "webcolors                 1.13\n",
            "webencodings              0.5.1\n",
            "websocket-client          1.7.0\n",
            "widgetsnbextension        4.0.10\n",
            "yarl                      1.9.4\n",
            "\n",
            "\u001b[1m[\u001b[0m\u001b[34;49mnotice\u001b[0m\u001b[1;39;49m]\u001b[0m\u001b[39;49m A new release of pip is available: \u001b[0m\u001b[31;49m23.0.1\u001b[0m\u001b[39;49m -> \u001b[0m\u001b[32;49m24.0\u001b[0m\n",
            "\u001b[1m[\u001b[0m\u001b[34;49mnotice\u001b[0m\u001b[1;39;49m]\u001b[0m\u001b[39;49m To update, run: \u001b[0m\u001b[32;49mpip install --upgrade pip\u001b[0m\n"
          ]
        }
      ],
      "source": [
        "!python --version\n",
        "!pip list\n",
        "#!pip install pymatgen==2024.2.8 ase==3.22.1 nbformat==5.9.2 ipykernel==6.29.2 matgl==0.9.2 nglview==3.1.1"
      ]
    },
    {
      "cell_type": "markdown",
      "metadata": {},
      "source": [
        "## 3. Create interfaces\n",
        "\n",
        "### 3.1. Extract Interfaces and Terminations\n",
        "\n",
        "Extract all possible layer/substrate supercell combinations within the maximum area including different terminations."
      ]
    },
    {
      "cell_type": "code",
      "execution_count": 6,
      "metadata": {
        "tags": [],
        "trusted": true
      },
      "outputs": [
        {
          "name": "stdout",
          "output_type": "stream",
          "text": [
            "Full Formula (Ni1)\n",
            "Reduced Formula: Ni\n",
            "abc   :   2.460000   2.460000   2.460000\n",
            "angles:  60.000004  59.999994  60.000003\n",
            "pbc   :       True       True       True\n",
            "Sites (1)\n",
            "  #  SP      a    b    c\n",
            "---  ----  ---  ---  ---\n",
            "  0  Ni      0    0    0 \n",
            "\n",
            "Full Formula (C2)\n",
            "Reduced Formula: C\n",
            "abc   :   2.467291   2.467291  20.000000\n",
            "angles:  90.000000  90.000000 119.999986\n",
            "pbc   :       True       True       True\n",
            "Sites (2)\n",
            "  #  SP           a         b    c\n",
            "---  ----  --------  --------  ---\n",
            "  0  C     0         0           0\n",
            "  1  C     0.333333  0.666667    0 \n",
            "\n",
            "Creating interfaces...\n"
          ]
        },
        {
          "name": "stderr",
          "output_type": "stream",
          "text": [
            "spglib: Too many lattice symmetries was found.\n",
            "        Reduce angle tolerance to 4.750000\n",
            "        (line 1015, /Users/runner/work/spglib/spglib/src/symmetry.c).\n",
            "spglib: Too many lattice symmetries was found.\n",
            "        Reduce angle tolerance to 4.512500\n",
            "        (line 1015, /Users/runner/work/spglib/spglib/src/symmetry.c).\n",
            "spglib: Too many lattice symmetries was found.\n",
            "        Reduce angle tolerance to 4.286875\n",
            "        (line 1015, /Users/runner/work/spglib/spglib/src/symmetry.c).\n",
            "spglib: Too many lattice symmetries was found.\n",
            "        Reduce angle tolerance to 4.072531\n",
            "        (line 1015, /Users/runner/work/spglib/spglib/src/symmetry.c).\n",
            "spglib: Too many lattice symmetries was found.\n",
            "        Reduce angle tolerance to 3.868905\n",
            "        (line 1015, /Users/runner/work/spglib/spglib/src/symmetry.c).\n",
            "spglib: Too many lattice symmetries was found.\n",
            "        Reduce angle tolerance to 3.675459\n",
            "        (line 1015, /Users/runner/work/spglib/spglib/src/symmetry.c).\n",
            "spglib: Too many lattice symmetries was found.\n",
            "        Reduce angle tolerance to 3.491686\n",
            "        (line 1015, /Users/runner/work/spglib/spglib/src/symmetry.c).\n",
            "spglib: Too many lattice symmetries was found.\n",
            "        Reduce angle tolerance to 3.317102\n",
            "        (line 1015, /Users/runner/work/spglib/spglib/src/symmetry.c).\n",
            "spglib: Too many lattice symmetries was found.\n",
            "        Reduce angle tolerance to 3.151247\n",
            "        (line 1015, /Users/runner/work/spglib/spglib/src/symmetry.c).\n",
            "spglib: Too many lattice symmetries was found.\n",
            "        Reduce angle tolerance to 2.993685\n",
            "        (line 1015, /Users/runner/work/spglib/spglib/src/symmetry.c).\n",
            "spglib: Too many lattice symmetries was found.\n",
            "        Reduce angle tolerance to 2.844000\n",
            "        (line 1015, /Users/runner/work/spglib/spglib/src/symmetry.c).\n",
            "spglib: Too many lattice symmetries was found.\n",
            "        Reduce angle tolerance to 2.701800\n",
            "        (line 1015, /Users/runner/work/spglib/spglib/src/symmetry.c).\n",
            "spglib: Too many lattice symmetries was found.\n",
            "        Reduce angle tolerance to 2.566710\n",
            "        (line 1015, /Users/runner/work/spglib/spglib/src/symmetry.c).\n",
            "spglib: Too many lattice symmetries was found.\n",
            "        Reduce angle tolerance to 2.438375\n",
            "        (line 1015, /Users/runner/work/spglib/spglib/src/symmetry.c).\n",
            "spglib: Too many lattice symmetries was found.\n",
            "        Reduce angle tolerance to 2.316456\n",
            "        (line 1015, /Users/runner/work/spglib/spglib/src/symmetry.c).\n",
            "spglib: Too many lattice symmetries was found.\n",
            "        Reduce angle tolerance to 2.200633\n",
            "        (line 1015, /Users/runner/work/spglib/spglib/src/symmetry.c).\n",
            "spglib: Too many lattice symmetries was found.\n",
            "        Reduce angle tolerance to 2.090602\n",
            "        (line 1015, /Users/runner/work/spglib/spglib/src/symmetry.c).\n",
            "spglib: Too many lattice symmetries was found.\n",
            "        Reduce angle tolerance to 1.986072\n",
            "        (line 1015, /Users/runner/work/spglib/spglib/src/symmetry.c).\n",
            "spglib: Too many lattice symmetries was found.\n",
            "        Reduce angle tolerance to 1.886768\n",
            "        (line 1015, /Users/runner/work/spglib/spglib/src/symmetry.c).\n",
            "spglib: Too many lattice symmetries was found.\n",
            "        Reduce angle tolerance to 1.792430\n",
            "        (line 1015, /Users/runner/work/spglib/spglib/src/symmetry.c).\n",
            "spglib: Too many lattice symmetries was found.\n",
            "        Reduce angle tolerance to 1.702808\n",
            "        (line 1015, /Users/runner/work/spglib/spglib/src/symmetry.c).\n",
            "spglib: Too many lattice symmetries was found.\n",
            "        Reduce angle tolerance to 1.617668\n",
            "        (line 1015, /Users/runner/work/spglib/spglib/src/symmetry.c).\n",
            "spglib: Too many lattice symmetries was found.\n",
            "        Reduce angle tolerance to 1.536784\n",
            "        (line 1015, /Users/runner/work/spglib/spglib/src/symmetry.c).\n",
            "spglib: Too many lattice symmetries was found.\n",
            "        Reduce angle tolerance to 1.459945\n",
            "        (line 1015, /Users/runner/work/spglib/spglib/src/symmetry.c).\n",
            "spglib: Too many lattice symmetries was found.\n",
            "        Reduce angle tolerance to 1.386948\n",
            "        (line 1015, /Users/runner/work/spglib/spglib/src/symmetry.c).\n",
            "spglib: Too many lattice symmetries was found.\n",
            "        Reduce angle tolerance to 1.317600\n",
            "        (line 1015, /Users/runner/work/spglib/spglib/src/symmetry.c).\n",
            "spglib: Too many lattice symmetries was found.\n",
            "        Reduce angle tolerance to 1.251720\n",
            "        (line 1015, /Users/runner/work/spglib/spglib/src/symmetry.c).\n",
            "spglib: Too many lattice symmetries was found.\n",
            "        Reduce angle tolerance to 1.189134\n",
            "        (line 1015, /Users/runner/work/spglib/spglib/src/symmetry.c).\n",
            "spglib: Too many lattice symmetries was found.\n",
            "        Reduce angle tolerance to 1.129678\n",
            "        (line 1015, /Users/runner/work/spglib/spglib/src/symmetry.c).\n",
            "spglib: Too many lattice symmetries was found.\n",
            "        Reduce angle tolerance to 1.073194\n",
            "        (line 1015, /Users/runner/work/spglib/spglib/src/symmetry.c).\n",
            "spglib: Too many lattice symmetries was found.\n",
            "        Reduce angle tolerance to 1.019534\n",
            "        (line 1015, /Users/runner/work/spglib/spglib/src/symmetry.c).\n",
            "spglib: Too many lattice symmetries was found.\n",
            "        Reduce angle tolerance to 0.968557\n",
            "        (line 1015, /Users/runner/work/spglib/spglib/src/symmetry.c).\n",
            "spglib: Too many lattice symmetries was found.\n",
            "        Reduce angle tolerance to 0.920130\n",
            "        (line 1015, /Users/runner/work/spglib/spglib/src/symmetry.c).\n",
            "spglib: Too many lattice symmetries was found.\n",
            "        Reduce angle tolerance to 0.874123\n",
            "        (line 1015, /Users/runner/work/spglib/spglib/src/symmetry.c).\n"
          ]
        }
      ],
      "source": [
        "from src.pymatgen_coherent_interface_builder import CoherentInterfaceBuilder, ZSLGenerator\n",
        "from src.utils import to_pymatgen\n",
        "\n",
        "if \"materials_in\" in globals():\n",
        "    pymatgen_materials = [to_pymatgen(item) for item in materials_in]\n",
        "for material in pymatgen_materials:\n",
        "    print(material, \"\\n\")\n",
        "\n",
        "\n",
        "def create_interfaces(settings):\n",
        "    print(\"Creating interfaces...\")\n",
        "    zsl = ZSLGenerator(\n",
        "        max_area_ratio_tol=settings[\"ZSL_PARAMETERS\"][\"MAX_AREA_TOL\"],\n",
        "        max_area=settings[\"ZSL_PARAMETERS\"][\"MAX_AREA\"],\n",
        "        max_length_tol=settings[\"ZSL_PARAMETERS\"][\"MAX_LENGTH_TOL\"],\n",
        "        max_angle_tol=settings[\"ZSL_PARAMETERS\"][\"MAX_ANGLE_TOL\"],\n",
        "    )\n",
        "\n",
        "    cib = CoherentInterfaceBuilder(\n",
        "        substrate_structure=pymatgen_materials[settings[\"SUBSTRATE_PARAMETERS\"][\"MATERIAL_INDEX\"]],\n",
        "        film_structure=pymatgen_materials[settings[\"LAYER_PARAMETERS\"][\"MATERIAL_INDEX\"]],\n",
        "        substrate_miller=settings[\"SUBSTRATE_PARAMETERS\"][\"MILLER_INDICES\"],\n",
        "        film_miller=settings[\"LAYER_PARAMETERS\"][\"MILLER_INDICES\"],\n",
        "        zslgen=zsl,\n",
        "        strain_tol=settings[\"ZSL_PARAMETERS\"][\"STRAIN_TOL\"],\n",
        "    )\n",
        "\n",
        "    # Find terminations\n",
        "    cib._find_terminations()\n",
        "    terminations = cib.terminations\n",
        "\n",
        "    # Create interfaces for each termination\n",
        "    interfaces = {}\n",
        "    for termination in terminations:\n",
        "        interfaces[termination] = []\n",
        "        for interface in cib.get_interfaces(\n",
        "            termination,\n",
        "            gap=settings[\"INTERFACE_PARAMETERS\"][\"DISTANCE_Z\"],\n",
        "            film_thickness=settings[\"LAYER_PARAMETERS\"][\"THICKNESS\"],\n",
        "            substrate_thickness=settings[\"SUBSTRATE_PARAMETERS\"][\"THICKNESS\"],\n",
        "            in_layers=True,\n",
        "        ):\n",
        "            # Wrap atoms to unit cell\n",
        "            interface[\"interface\"].make_supercell((1,1,1), to_unit_cell=True)\n",
        "            interfaces[termination].append(interface)\n",
        "    return interfaces, terminations\n",
        "\n",
        "\n",
        "interfaces, terminations = create_interfaces(\n",
        "    settings={\n",
        "        \"SUBSTRATE_PARAMETERS\": SUBSTRATE_PARAMETERS,\n",
        "        \"LAYER_PARAMETERS\": LAYER_PARAMETERS,\n",
        "        \"ZSL_PARAMETERS\": ZSL_PARAMETERS,\n",
        "        \"INTERFACE_PARAMETERS\": INTERFACE_PARAMETERS,\n",
        "    }\n",
        ")"
      ]
    },
    {
      "cell_type": "markdown",
      "metadata": {},
      "source": [
        "### 3.2. Print out the interfaces and terminations"
      ]
    },
    {
      "cell_type": "code",
      "execution_count": 7,
      "metadata": {},
      "outputs": [
        {
          "name": "stdout",
          "output_type": "stream",
          "text": [
            "Found 1 terminations\n",
            "Found 233 interfaces for ('C_P6/mmm_2', 'Ni_R-3m_1') termination\n"
          ]
        }
      ],
      "source": [
        "print(f'Found {len(terminations)} terminations')\n",
        "for termination in terminations:\n",
        "    print(f\"Found {len(interfaces[termination])} interfaces for\", termination, \"termination\")"
      ]
    },
    {
      "cell_type": "markdown",
      "metadata": {},
      "source": [
        "## 4. Sort interfaces by strain\n",
        "\n",
        "### 4.1. Sort all interfaces"
      ]
    },
    {
      "cell_type": "code",
      "execution_count": 8,
      "metadata": {},
      "outputs": [],
      "source": [
        "# Could be \"strain\", \"von_mises_strain\", \"mean_abs_strain\"\n",
        "strain_mode = \"mean_abs_strain\"\n",
        "\n",
        "# Sort interfaces by the specified strain mode and number of sites\n",
        "def sort_interfaces(interfaces, terminations):\n",
        "    sorted_interfaces = {}\n",
        "    for termination in terminations:\n",
        "        sorted_interfaces[termination] = sorted(\n",
        "            interfaces[termination], key=lambda x: (x[strain_mode], x[\"interface\"].num_sites)\n",
        "        )\n",
        "    return sorted_interfaces\n",
        "\n",
        "\n",
        "sorted_interfaces = sort_interfaces(interfaces, terminations)"
      ]
    },
    {
      "cell_type": "markdown",
      "metadata": {},
      "source": [
        "### 4.2. Print out interfaces with lowest strain for each termination"
      ]
    },
    {
      "cell_type": "code",
      "execution_count": 9,
      "metadata": {},
      "outputs": [
        {
          "name": "stdout",
          "output_type": "stream",
          "text": [
            "Interface with lowest strain for termination ('C_P6/mmm_2', 'Ni_R-3m_1') (index 0):\n",
            "    strain: 0.06600000000000002 %\n",
            "    number of atoms: 5\n"
          ]
        }
      ],
      "source": [
        "for termination in terminations:\n",
        "    print(f\"Interface with lowest strain for termination {termination} (index 0):\")\n",
        "    first_interface = interfaces[termination][0]\n",
        "    print(\"    strain:\", first_interface[strain_mode] * 100, \"%\")\n",
        "    print(\"    number of atoms:\", first_interface[\"interface\"].num_sites)"
      ]
    },
    {
      "cell_type": "markdown",
      "metadata": {},
      "source": [
        "## 5. Plot the results\n",
        "\n",
        "Plot the number of atoms vs strain. Adjust the parameters as needed.\n"
      ]
    },
    {
      "cell_type": "code",
      "execution_count": 10,
      "metadata": {},
      "outputs": [
        {
          "data": {
            "application/vnd.plotly.v1+json": {
              "config": {
                "plotlyServerURL": "https://plot.ly"
              },
              "data": [
                {
                  "hoverinfo": "text",
                  "mode": "markers",
                  "name": "Indices: 0",
                  "text": [
                    "Termination: ('C_P6/mmm_2', 'Ni_R-3m_1')<br>Termination index: 0<br>Interfaces Index Range: 0<br>Strain: 0.07%<br>Atoms: 5"
                  ],
                  "type": "scatter",
                  "x": [
                    0.06600000000000002
                  ],
                  "y": [
                    5
                  ]
                },
                {
                  "hoverinfo": "text",
                  "mode": "markers",
                  "name": "Indices: 1-9",
                  "text": [
                    "Termination: ('C_P6/mmm_2', 'Ni_R-3m_1')<br>Termination index: 0<br>Interfaces Index Range: 1-9<br>Strain: 0.07%<br>Atoms: 10"
                  ],
                  "type": "scatter",
                  "x": [
                    0.06600000000000002
                  ],
                  "y": [
                    10
                  ]
                },
                {
                  "hoverinfo": "text",
                  "mode": "markers",
                  "name": "Indices: 10-19",
                  "text": [
                    "Termination: ('C_P6/mmm_2', 'Ni_R-3m_1')<br>Termination index: 0<br>Interfaces Index Range: 10-19<br>Strain: 0.07%<br>Atoms: 15"
                  ],
                  "type": "scatter",
                  "x": [
                    0.06600000000000002
                  ],
                  "y": [
                    15
                  ]
                },
                {
                  "hoverinfo": "text",
                  "mode": "markers",
                  "name": "Indices: 20-38",
                  "text": [
                    "Termination: ('C_P6/mmm_2', 'Ni_R-3m_1')<br>Termination index: 0<br>Interfaces Index Range: 20-38<br>Strain: 0.07%<br>Atoms: 20"
                  ],
                  "type": "scatter",
                  "x": [
                    0.06600000000000002
                  ],
                  "y": [
                    20
                  ]
                },
                {
                  "hoverinfo": "text",
                  "mode": "markers",
                  "name": "Indices: 39-56",
                  "text": [
                    "Termination: ('C_P6/mmm_2', 'Ni_R-3m_1')<br>Termination index: 0<br>Interfaces Index Range: 39-56<br>Strain: 0.07%<br>Atoms: 25"
                  ],
                  "type": "scatter",
                  "x": [
                    0.06600000000000002
                  ],
                  "y": [
                    25
                  ]
                },
                {
                  "hoverinfo": "text",
                  "mode": "markers",
                  "name": "Indices: 57-110",
                  "text": [
                    "Termination: ('C_P6/mmm_2', 'Ni_R-3m_1')<br>Termination index: 0<br>Interfaces Index Range: 57-110<br>Strain: 0.07%<br>Atoms: 30"
                  ],
                  "type": "scatter",
                  "x": [
                    0.06600000000000002
                  ],
                  "y": [
                    30
                  ]
                },
                {
                  "hoverinfo": "text",
                  "mode": "markers",
                  "name": "Indices: 111-132",
                  "text": [
                    "Termination: ('C_P6/mmm_2', 'Ni_R-3m_1')<br>Termination index: 0<br>Interfaces Index Range: 111-132<br>Strain: 0.07%<br>Atoms: 35"
                  ],
                  "type": "scatter",
                  "x": [
                    0.06600000000000002
                  ],
                  "y": [
                    35
                  ]
                },
                {
                  "hoverinfo": "text",
                  "mode": "markers",
                  "name": "Indices: 133-177",
                  "text": [
                    "Termination: ('C_P6/mmm_2', 'Ni_R-3m_1')<br>Termination index: 0<br>Interfaces Index Range: 133-177<br>Strain: 0.07%<br>Atoms: 40"
                  ],
                  "type": "scatter",
                  "x": [
                    0.06600000000000002
                  ],
                  "y": [
                    40
                  ]
                },
                {
                  "hoverinfo": "text",
                  "mode": "markers",
                  "name": "Indices: 178-232",
                  "text": [
                    "Termination: ('C_P6/mmm_2', 'Ni_R-3m_1')<br>Termination index: 0<br>Interfaces Index Range: 178-232<br>Strain: 0.07%<br>Atoms: 45"
                  ],
                  "type": "scatter",
                  "x": [
                    0.06600000000000002
                  ],
                  "y": [
                    45
                  ]
                }
              ],
              "layout": {
                "height": 600,
                "hovermode": "closest",
                "legend": {
                  "title": {
                    "text": "Interfaces Index Range"
                  }
                },
                "template": {
                  "data": {
                    "bar": [
                      {
                        "error_x": {
                          "color": "#2a3f5f"
                        },
                        "error_y": {
                          "color": "#2a3f5f"
                        },
                        "marker": {
                          "line": {
                            "color": "#E5ECF6",
                            "width": 0.5
                          },
                          "pattern": {
                            "fillmode": "overlay",
                            "size": 10,
                            "solidity": 0.2
                          }
                        },
                        "type": "bar"
                      }
                    ],
                    "barpolar": [
                      {
                        "marker": {
                          "line": {
                            "color": "#E5ECF6",
                            "width": 0.5
                          },
                          "pattern": {
                            "fillmode": "overlay",
                            "size": 10,
                            "solidity": 0.2
                          }
                        },
                        "type": "barpolar"
                      }
                    ],
                    "carpet": [
                      {
                        "aaxis": {
                          "endlinecolor": "#2a3f5f",
                          "gridcolor": "white",
                          "linecolor": "white",
                          "minorgridcolor": "white",
                          "startlinecolor": "#2a3f5f"
                        },
                        "baxis": {
                          "endlinecolor": "#2a3f5f",
                          "gridcolor": "white",
                          "linecolor": "white",
                          "minorgridcolor": "white",
                          "startlinecolor": "#2a3f5f"
                        },
                        "type": "carpet"
                      }
                    ],
                    "choropleth": [
                      {
                        "colorbar": {
                          "outlinewidth": 0,
                          "ticks": ""
                        },
                        "type": "choropleth"
                      }
                    ],
                    "contour": [
                      {
                        "colorbar": {
                          "outlinewidth": 0,
                          "ticks": ""
                        },
                        "colorscale": [
                          [
                            0,
                            "#0d0887"
                          ],
                          [
                            0.1111111111111111,
                            "#46039f"
                          ],
                          [
                            0.2222222222222222,
                            "#7201a8"
                          ],
                          [
                            0.3333333333333333,
                            "#9c179e"
                          ],
                          [
                            0.4444444444444444,
                            "#bd3786"
                          ],
                          [
                            0.5555555555555556,
                            "#d8576b"
                          ],
                          [
                            0.6666666666666666,
                            "#ed7953"
                          ],
                          [
                            0.7777777777777778,
                            "#fb9f3a"
                          ],
                          [
                            0.8888888888888888,
                            "#fdca26"
                          ],
                          [
                            1,
                            "#f0f921"
                          ]
                        ],
                        "type": "contour"
                      }
                    ],
                    "contourcarpet": [
                      {
                        "colorbar": {
                          "outlinewidth": 0,
                          "ticks": ""
                        },
                        "type": "contourcarpet"
                      }
                    ],
                    "heatmap": [
                      {
                        "colorbar": {
                          "outlinewidth": 0,
                          "ticks": ""
                        },
                        "colorscale": [
                          [
                            0,
                            "#0d0887"
                          ],
                          [
                            0.1111111111111111,
                            "#46039f"
                          ],
                          [
                            0.2222222222222222,
                            "#7201a8"
                          ],
                          [
                            0.3333333333333333,
                            "#9c179e"
                          ],
                          [
                            0.4444444444444444,
                            "#bd3786"
                          ],
                          [
                            0.5555555555555556,
                            "#d8576b"
                          ],
                          [
                            0.6666666666666666,
                            "#ed7953"
                          ],
                          [
                            0.7777777777777778,
                            "#fb9f3a"
                          ],
                          [
                            0.8888888888888888,
                            "#fdca26"
                          ],
                          [
                            1,
                            "#f0f921"
                          ]
                        ],
                        "type": "heatmap"
                      }
                    ],
                    "heatmapgl": [
                      {
                        "colorbar": {
                          "outlinewidth": 0,
                          "ticks": ""
                        },
                        "colorscale": [
                          [
                            0,
                            "#0d0887"
                          ],
                          [
                            0.1111111111111111,
                            "#46039f"
                          ],
                          [
                            0.2222222222222222,
                            "#7201a8"
                          ],
                          [
                            0.3333333333333333,
                            "#9c179e"
                          ],
                          [
                            0.4444444444444444,
                            "#bd3786"
                          ],
                          [
                            0.5555555555555556,
                            "#d8576b"
                          ],
                          [
                            0.6666666666666666,
                            "#ed7953"
                          ],
                          [
                            0.7777777777777778,
                            "#fb9f3a"
                          ],
                          [
                            0.8888888888888888,
                            "#fdca26"
                          ],
                          [
                            1,
                            "#f0f921"
                          ]
                        ],
                        "type": "heatmapgl"
                      }
                    ],
                    "histogram": [
                      {
                        "marker": {
                          "pattern": {
                            "fillmode": "overlay",
                            "size": 10,
                            "solidity": 0.2
                          }
                        },
                        "type": "histogram"
                      }
                    ],
                    "histogram2d": [
                      {
                        "colorbar": {
                          "outlinewidth": 0,
                          "ticks": ""
                        },
                        "colorscale": [
                          [
                            0,
                            "#0d0887"
                          ],
                          [
                            0.1111111111111111,
                            "#46039f"
                          ],
                          [
                            0.2222222222222222,
                            "#7201a8"
                          ],
                          [
                            0.3333333333333333,
                            "#9c179e"
                          ],
                          [
                            0.4444444444444444,
                            "#bd3786"
                          ],
                          [
                            0.5555555555555556,
                            "#d8576b"
                          ],
                          [
                            0.6666666666666666,
                            "#ed7953"
                          ],
                          [
                            0.7777777777777778,
                            "#fb9f3a"
                          ],
                          [
                            0.8888888888888888,
                            "#fdca26"
                          ],
                          [
                            1,
                            "#f0f921"
                          ]
                        ],
                        "type": "histogram2d"
                      }
                    ],
                    "histogram2dcontour": [
                      {
                        "colorbar": {
                          "outlinewidth": 0,
                          "ticks": ""
                        },
                        "colorscale": [
                          [
                            0,
                            "#0d0887"
                          ],
                          [
                            0.1111111111111111,
                            "#46039f"
                          ],
                          [
                            0.2222222222222222,
                            "#7201a8"
                          ],
                          [
                            0.3333333333333333,
                            "#9c179e"
                          ],
                          [
                            0.4444444444444444,
                            "#bd3786"
                          ],
                          [
                            0.5555555555555556,
                            "#d8576b"
                          ],
                          [
                            0.6666666666666666,
                            "#ed7953"
                          ],
                          [
                            0.7777777777777778,
                            "#fb9f3a"
                          ],
                          [
                            0.8888888888888888,
                            "#fdca26"
                          ],
                          [
                            1,
                            "#f0f921"
                          ]
                        ],
                        "type": "histogram2dcontour"
                      }
                    ],
                    "mesh3d": [
                      {
                        "colorbar": {
                          "outlinewidth": 0,
                          "ticks": ""
                        },
                        "type": "mesh3d"
                      }
                    ],
                    "parcoords": [
                      {
                        "line": {
                          "colorbar": {
                            "outlinewidth": 0,
                            "ticks": ""
                          }
                        },
                        "type": "parcoords"
                      }
                    ],
                    "pie": [
                      {
                        "automargin": true,
                        "type": "pie"
                      }
                    ],
                    "scatter": [
                      {
                        "fillpattern": {
                          "fillmode": "overlay",
                          "size": 10,
                          "solidity": 0.2
                        },
                        "type": "scatter"
                      }
                    ],
                    "scatter3d": [
                      {
                        "line": {
                          "colorbar": {
                            "outlinewidth": 0,
                            "ticks": ""
                          }
                        },
                        "marker": {
                          "colorbar": {
                            "outlinewidth": 0,
                            "ticks": ""
                          }
                        },
                        "type": "scatter3d"
                      }
                    ],
                    "scattercarpet": [
                      {
                        "marker": {
                          "colorbar": {
                            "outlinewidth": 0,
                            "ticks": ""
                          }
                        },
                        "type": "scattercarpet"
                      }
                    ],
                    "scattergeo": [
                      {
                        "marker": {
                          "colorbar": {
                            "outlinewidth": 0,
                            "ticks": ""
                          }
                        },
                        "type": "scattergeo"
                      }
                    ],
                    "scattergl": [
                      {
                        "marker": {
                          "colorbar": {
                            "outlinewidth": 0,
                            "ticks": ""
                          }
                        },
                        "type": "scattergl"
                      }
                    ],
                    "scattermapbox": [
                      {
                        "marker": {
                          "colorbar": {
                            "outlinewidth": 0,
                            "ticks": ""
                          }
                        },
                        "type": "scattermapbox"
                      }
                    ],
                    "scatterpolar": [
                      {
                        "marker": {
                          "colorbar": {
                            "outlinewidth": 0,
                            "ticks": ""
                          }
                        },
                        "type": "scatterpolar"
                      }
                    ],
                    "scatterpolargl": [
                      {
                        "marker": {
                          "colorbar": {
                            "outlinewidth": 0,
                            "ticks": ""
                          }
                        },
                        "type": "scatterpolargl"
                      }
                    ],
                    "scatterternary": [
                      {
                        "marker": {
                          "colorbar": {
                            "outlinewidth": 0,
                            "ticks": ""
                          }
                        },
                        "type": "scatterternary"
                      }
                    ],
                    "surface": [
                      {
                        "colorbar": {
                          "outlinewidth": 0,
                          "ticks": ""
                        },
                        "colorscale": [
                          [
                            0,
                            "#0d0887"
                          ],
                          [
                            0.1111111111111111,
                            "#46039f"
                          ],
                          [
                            0.2222222222222222,
                            "#7201a8"
                          ],
                          [
                            0.3333333333333333,
                            "#9c179e"
                          ],
                          [
                            0.4444444444444444,
                            "#bd3786"
                          ],
                          [
                            0.5555555555555556,
                            "#d8576b"
                          ],
                          [
                            0.6666666666666666,
                            "#ed7953"
                          ],
                          [
                            0.7777777777777778,
                            "#fb9f3a"
                          ],
                          [
                            0.8888888888888888,
                            "#fdca26"
                          ],
                          [
                            1,
                            "#f0f921"
                          ]
                        ],
                        "type": "surface"
                      }
                    ],
                    "table": [
                      {
                        "cells": {
                          "fill": {
                            "color": "#EBF0F8"
                          },
                          "line": {
                            "color": "white"
                          }
                        },
                        "header": {
                          "fill": {
                            "color": "#C8D4E3"
                          },
                          "line": {
                            "color": "white"
                          }
                        },
                        "type": "table"
                      }
                    ]
                  },
                  "layout": {
                    "annotationdefaults": {
                      "arrowcolor": "#2a3f5f",
                      "arrowhead": 0,
                      "arrowwidth": 1
                    },
                    "autotypenumbers": "strict",
                    "coloraxis": {
                      "colorbar": {
                        "outlinewidth": 0,
                        "ticks": ""
                      }
                    },
                    "colorscale": {
                      "diverging": [
                        [
                          0,
                          "#8e0152"
                        ],
                        [
                          0.1,
                          "#c51b7d"
                        ],
                        [
                          0.2,
                          "#de77ae"
                        ],
                        [
                          0.3,
                          "#f1b6da"
                        ],
                        [
                          0.4,
                          "#fde0ef"
                        ],
                        [
                          0.5,
                          "#f7f7f7"
                        ],
                        [
                          0.6,
                          "#e6f5d0"
                        ],
                        [
                          0.7,
                          "#b8e186"
                        ],
                        [
                          0.8,
                          "#7fbc41"
                        ],
                        [
                          0.9,
                          "#4d9221"
                        ],
                        [
                          1,
                          "#276419"
                        ]
                      ],
                      "sequential": [
                        [
                          0,
                          "#0d0887"
                        ],
                        [
                          0.1111111111111111,
                          "#46039f"
                        ],
                        [
                          0.2222222222222222,
                          "#7201a8"
                        ],
                        [
                          0.3333333333333333,
                          "#9c179e"
                        ],
                        [
                          0.4444444444444444,
                          "#bd3786"
                        ],
                        [
                          0.5555555555555556,
                          "#d8576b"
                        ],
                        [
                          0.6666666666666666,
                          "#ed7953"
                        ],
                        [
                          0.7777777777777778,
                          "#fb9f3a"
                        ],
                        [
                          0.8888888888888888,
                          "#fdca26"
                        ],
                        [
                          1,
                          "#f0f921"
                        ]
                      ],
                      "sequentialminus": [
                        [
                          0,
                          "#0d0887"
                        ],
                        [
                          0.1111111111111111,
                          "#46039f"
                        ],
                        [
                          0.2222222222222222,
                          "#7201a8"
                        ],
                        [
                          0.3333333333333333,
                          "#9c179e"
                        ],
                        [
                          0.4444444444444444,
                          "#bd3786"
                        ],
                        [
                          0.5555555555555556,
                          "#d8576b"
                        ],
                        [
                          0.6666666666666666,
                          "#ed7953"
                        ],
                        [
                          0.7777777777777778,
                          "#fb9f3a"
                        ],
                        [
                          0.8888888888888888,
                          "#fdca26"
                        ],
                        [
                          1,
                          "#f0f921"
                        ]
                      ]
                    },
                    "colorway": [
                      "#636efa",
                      "#EF553B",
                      "#00cc96",
                      "#ab63fa",
                      "#FFA15A",
                      "#19d3f3",
                      "#FF6692",
                      "#B6E880",
                      "#FF97FF",
                      "#FECB52"
                    ],
                    "font": {
                      "color": "#2a3f5f"
                    },
                    "geo": {
                      "bgcolor": "white",
                      "lakecolor": "white",
                      "landcolor": "#E5ECF6",
                      "showlakes": true,
                      "showland": true,
                      "subunitcolor": "white"
                    },
                    "hoverlabel": {
                      "align": "left"
                    },
                    "hovermode": "closest",
                    "mapbox": {
                      "style": "light"
                    },
                    "paper_bgcolor": "white",
                    "plot_bgcolor": "#E5ECF6",
                    "polar": {
                      "angularaxis": {
                        "gridcolor": "white",
                        "linecolor": "white",
                        "ticks": ""
                      },
                      "bgcolor": "#E5ECF6",
                      "radialaxis": {
                        "gridcolor": "white",
                        "linecolor": "white",
                        "ticks": ""
                      }
                    },
                    "scene": {
                      "xaxis": {
                        "backgroundcolor": "#E5ECF6",
                        "gridcolor": "white",
                        "gridwidth": 2,
                        "linecolor": "white",
                        "showbackground": true,
                        "ticks": "",
                        "zerolinecolor": "white"
                      },
                      "yaxis": {
                        "backgroundcolor": "#E5ECF6",
                        "gridcolor": "white",
                        "gridwidth": 2,
                        "linecolor": "white",
                        "showbackground": true,
                        "ticks": "",
                        "zerolinecolor": "white"
                      },
                      "zaxis": {
                        "backgroundcolor": "#E5ECF6",
                        "gridcolor": "white",
                        "gridwidth": 2,
                        "linecolor": "white",
                        "showbackground": true,
                        "ticks": "",
                        "zerolinecolor": "white"
                      }
                    },
                    "shapedefaults": {
                      "line": {
                        "color": "#2a3f5f"
                      }
                    },
                    "ternary": {
                      "aaxis": {
                        "gridcolor": "white",
                        "linecolor": "white",
                        "ticks": ""
                      },
                      "baxis": {
                        "gridcolor": "white",
                        "linecolor": "white",
                        "ticks": ""
                      },
                      "bgcolor": "#E5ECF6",
                      "caxis": {
                        "gridcolor": "white",
                        "linecolor": "white",
                        "ticks": ""
                      }
                    },
                    "title": {
                      "x": 0.05
                    },
                    "xaxis": {
                      "automargin": true,
                      "gridcolor": "white",
                      "linecolor": "white",
                      "ticks": "",
                      "title": {
                        "standoff": 15
                      },
                      "zerolinecolor": "white",
                      "zerolinewidth": 2
                    },
                    "yaxis": {
                      "automargin": true,
                      "gridcolor": "white",
                      "linecolor": "white",
                      "ticks": "",
                      "title": {
                        "standoff": 15
                      },
                      "zerolinecolor": "white",
                      "zerolinewidth": 2
                    }
                  }
                },
                "xaxis": {
                  "title": {
                    "text": "Strain (%)"
                  },
                  "type": "log"
                },
                "yaxis": {
                  "title": {
                    "text": "Number of atoms"
                  },
                  "type": "log"
                }
              }
            }
          },
          "metadata": {},
          "output_type": "display_data"
        },
        {
          "name": "stdout",
          "output_type": "stream",
          "text": [
            "Termination 0: ('C_P6/mmm_2', 'Ni_R-3m_1')\n"
          ]
        }
      ],
      "source": [
        "import plotly.graph_objs as go\n",
        "from collections import defaultdict\n",
        "\n",
        "PLOT_SETTINGS = {\n",
        "    \"HEIGHT\": 600,\n",
        "    \"X_SCALE\": \"log\",  # or linear\n",
        "    \"Y_SCALE\": \"log\",  # or linear\n",
        "}\n",
        "\n",
        "\n",
        "def plot_strain_vs_atoms(sorted_interfaces, terminations, settings):\n",
        "    # Create a mapping from termination to its index\n",
        "    termination_to_index = {termination: i for i, termination in enumerate(terminations)}\n",
        "\n",
        "    grouped_interfaces = defaultdict(list)\n",
        "    for termination, interfaces in sorted_interfaces.items():\n",
        "        for index, interface_data in enumerate(interfaces):\n",
        "            strain_percentage = interface_data[\"mean_abs_strain\"] * 100\n",
        "            num_sites = interface_data[\"interface\"].num_sites\n",
        "            key = (strain_percentage, num_sites)\n",
        "            grouped_interfaces[key].append((index, termination))\n",
        "    \n",
        "    data = []\n",
        "    for (strain, num_sites), indices_and_terminations in grouped_interfaces.items():\n",
        "        termination_indices = defaultdict(list)\n",
        "        for index, termination in indices_and_terminations:\n",
        "            termination_indices[termination].append(index)\n",
        "        all_indices = [index for indices in termination_indices.values() for index in indices]\n",
        "        index_range = f\"{min(all_indices)}-{max(all_indices)}\" if len(all_indices) > 1 else str(min(all_indices))\n",
        "        \n",
        "        hover_text = \"<br>-----<br>\".join(\n",
        "             f\"Termination: {termination}<br>Termination index: {termination_to_index[termination]}<br>Interfaces Index Range: {index_range}<br>Strain: {strain:.2f}%<br>Atoms: {num_sites}\"\n",
        "            for termination, indices in termination_indices.items()\n",
        "        )\n",
        "        trace = go.Scatter(\n",
        "            x=[strain],\n",
        "            y=[num_sites],\n",
        "            text=[hover_text],\n",
        "            mode=\"markers\",\n",
        "            hoverinfo=\"text\",\n",
        "            name=f\"Indices: {index_range}\",\n",
        "        )\n",
        "        data.append(trace)\n",
        "\n",
        "    layout = go.Layout(\n",
        "        xaxis=dict(title=\"Strain (%)\", type=settings[\"X_SCALE\"]),\n",
        "        yaxis=dict(title=\"Number of atoms\", type=settings[\"Y_SCALE\"]),\n",
        "        hovermode=\"closest\",\n",
        "        height=settings[\"HEIGHT\"],\n",
        "        legend_title_text=\"Interfaces Index Range\",\n",
        "    )\n",
        "    fig = go.Figure(data=data, layout=layout)\n",
        "    fig.show()\n",
        "\n",
        "\n",
        "\n",
        "plot_strain_vs_atoms(sorted_interfaces, terminations, PLOT_SETTINGS)\n",
        "\n",
        "for i, termination in enumerate(terminations):\n",
        "    print(f\"Termination {i}:\", termination)"
      ]
    },
    {
      "cell_type": "markdown",
      "metadata": {},
      "source": [
        "## 6. Select the interface to pass outside this kernel\n",
        "\n",
        "### 6.1. Select the interface with the desired termination and strain\n",
        "\n",
        "The data in `sorted_interfaces` now contains an object with the following structure:\n",
        "\n",
        "```json\n",
        "{\n",
        "    \"('C_P6/mmm_2', 'Si_R-3m_1')\": [\n",
        "        { ...interface for ('C_P6/mmm_2', 'Si_R-3m_1') at index 0...},\n",
        "        { ...interface for ('C_P6/mmm_2', 'Si_R-3m_1') at index 1...},\n",
        "        ...\n",
        "    ],\n",
        "    \"<termination at index 1>\": [\n",
        "        { ...interface for 'termination at index 1' at index 0...},\n",
        "        { ...interface for 'termination at index 1' at index 1...},\n",
        "        ...\n",
        "    ]\n",
        "}\n",
        "```\n",
        "\n",
        "Select the index for termination first, and for it - the index in the list of corresponding interfaces sorted by strain (index 0 has minimum strain)."
      ]
    },
    {
      "cell_type": "code",
      "execution_count": 11,
      "metadata": {},
      "outputs": [],
      "source": [
        "termination_index = 0\n",
        "number_of_interfaces_to_include = 1\n",
        "\n",
        "termination = terminations[termination_index]\n",
        "\n",
        "selected_interfaces = sorted_interfaces[termination][:number_of_interfaces_to_include]"
      ]
    },
    {
      "cell_type": "markdown",
      "metadata": {},
      "source": [
        "### 6.2. Pass data to the outside runtime\n"
      ]
    },
    {
      "cell_type": "code",
      "execution_count": 12,
      "metadata": {},
      "outputs": [
        {
          "data": {
            "text/plain": [
              "[{'name': 'Ni3 C2',\n",
              "  'basis': {'elements': [{'id': 0, 'value': 'Ni'},\n",
              "    {'id': 1, 'value': 'Ni'},\n",
              "    {'id': 2, 'value': 'Ni'},\n",
              "    {'id': 3, 'value': 'C'},\n",
              "    {'id': 4, 'value': 'C'}],\n",
              "   'coordinates': [{'id': 0,\n",
              "     'value': [0.3333334309041891, 0.3333336930861107, 0.0]},\n",
              "    {'id': 1,\n",
              "     'value': [1.463562833148302e-07,\n",
              "      5.396291662407293e-07,\n",
              "      0.07434465064130956]},\n",
              "    {'id': 2,\n",
              "     'value': [0.6666668618083782, 0.6666673861722214, 0.14868930128261915]},\n",
              "    {'id': 3, 'value': [0.0, 0.0, 0.2597298272022775]},\n",
              "    {'id': 4, 'value': [0.3333330000000001, 0.333333, 0.2597298272022775]}],\n",
              "   'units': 'crystal',\n",
              "   'cell': [[2.4599995727812636, 0.0, 1.5063153013552154e-16],\n",
              "    [1.2299995285143266, 2.130422844801467, 1.5063156049921537e-16],\n",
              "    [0.0, 0.0, 27.017163104672278]],\n",
              "   'constraints': []},\n",
              "  'lattice': {'a': 2.4599995727812636,\n",
              "   'b': 2.4600000686580152,\n",
              "   'c': 27.017163104672278,\n",
              "   'alpha': 90.0,\n",
              "   'beta': 90.0,\n",
              "   'gamma': 60.00001360342549,\n",
              "   'units': {'length': 'angstrom', 'angle': 'degree'},\n",
              "   'type': 'FCC',\n",
              "   'vectors': {'a': [2.4599995727812636, 0.0, 1.5063153013552154e-16],\n",
              "    'b': [1.2299995285143266, 2.130422844801467, 1.5063156049921537e-16],\n",
              "    'c': [0.0, 0.0, 27.017163104672278],\n",
              "    'alat': 1,\n",
              "    'units': 'angstrom'}},\n",
              "  'isNonPeriodic': False,\n",
              "  '_id': '',\n",
              "  'metadata': {'boundaryConditions': {'type': 'pbc', 'offset': 0}},\n",
              "  'isUpdated': True}]"
            ]
          },
          "execution_count": 12,
          "metadata": {},
          "output_type": "execute_result"
        }
      ],
      "source": [
        "from src.utils import from_pymatgen\n",
        "\n",
        "\n",
        "materials = list(map(lambda interface_config: from_pymatgen(interface_config[\"interface\"]), selected_interfaces))\n",
        "\n",
        "materials"
      ]
    },
    {
      "cell_type": "markdown",
      "metadata": {},
      "source": [
        "## Relaxation"
      ]
    },
    {
      "cell_type": "code",
      "execution_count": 13,
      "metadata": {},
      "outputs": [
        {
          "data": {
            "text/plain": [
              "Structure Summary\n",
              "Lattice\n",
              "    abc : 2.4599995727812636 2.4600000686580152 27.017163104672278\n",
              " angles : 90.0 90.0 60.00001360342549\n",
              " volume : 141.5926098507579\n",
              "      A : 2.4599995727812636 0.0 1.5063153013552154e-16\n",
              "      B : 1.2299995285143266 2.130422844801467 1.5063156049921537e-16\n",
              "      C : 0.0 0.0 27.017163104672278\n",
              "    pbc : True True True\n",
              "PeriodicSite: Ni (1.23, 0.7101, 1.004e-16) [0.3333, 0.3333, 0.0]\n",
              "PeriodicSite: Ni (1.024e-06, 1.15e-06, 2.009) [1.464e-07, 5.396e-07, 0.07434]\n",
              "PeriodicSite: Ni (2.46, 1.42, 4.017) [0.6667, 0.6667, 0.1487]\n",
              "PeriodicSite: C (0.0, 0.0, 7.017) [0.0, 0.0, 0.2597]\n",
              "PeriodicSite: C (1.23, 0.7101, 7.017) [0.3333, 0.3333, 0.2597]"
            ]
          },
          "execution_count": 13,
          "metadata": {},
          "output_type": "execute_result"
        }
      ],
      "source": [
        "interface = selected_interfaces[0][\"interface\"]\n",
        "interface"
      ]
    },
    {
      "cell_type": "code",
      "execution_count": 14,
      "metadata": {},
      "outputs": [
        {
          "name": "stderr",
          "output_type": "stream",
          "text": [
            "/Users/mat3ra/code/green/api-examples/.venv-3.10/lib/python3.10/site-packages/matgl/apps/pes.py:60: UserWarning:\n",
            "\n",
            "To copy construct from a tensor, it is recommended to use sourceTensor.clone().detach() or sourceTensor.clone().detach().requires_grad_(True), rather than torch.tensor(sourceTensor).\n",
            "\n",
            "/Users/mat3ra/code/green/api-examples/.venv-3.10/lib/python3.10/site-packages/matgl/apps/pes.py:66: UserWarning:\n",
            "\n",
            "To copy construct from a tensor, it is recommended to use sourceTensor.clone().detach() or sourceTensor.clone().detach().requires_grad_(True), rather than torch.tensor(sourceTensor).\n",
            "\n",
            "/Users/mat3ra/code/green/api-examples/.venv-3.10/lib/python3.10/site-packages/matgl/apps/pes.py:67: UserWarning:\n",
            "\n",
            "To copy construct from a tensor, it is recommended to use sourceTensor.clone().detach() or sourceTensor.clone().detach().requires_grad_(True), rather than torch.tensor(sourceTensor).\n",
            "\n",
            "/Users/mat3ra/code/green/api-examples/.venv-3.10/lib/python3.10/site-packages/matgl/layers/_basis.py:121: UserWarning:\n",
            "\n",
            "To copy construct from a tensor, it is recommended to use sourceTensor.clone().detach() or sourceTensor.clone().detach().requires_grad_(True), rather than torch.tensor(sourceTensor).\n",
            "\n"
          ]
        },
        {
          "name": "stdout",
          "output_type": "stream",
          "text": [
            "Full Formula (Ni3 C2)\n",
            "Reduced Formula: Ni3C2\n",
            "abc   :   2.460151   2.460151  31.696931\n",
            "angles:  89.999988  90.000007  60.000013\n",
            "pbc   :       True       True       True\n",
            "Sites (5)\n",
            "  #  SP            a          b         c    bulk_equivalent  bulk_wyckoff    interface_label\n",
            "---  ----  ---------  ---------  --------  -----------------  --------------  -----------------\n",
            "  0  Ni     0.333333   0.333334  0.007396                  0  a               substrate\n",
            "  1  Ni     0          1e-06     0.071393                  0  a               substrate\n",
            "  2  Ni     0.666667   0.666667  0.135275                  0  a               substrate\n",
            "  3  C     -0         -0         0.264215                  0  c               film\n",
            "  4  C      0.333333   0.333333  0.264215                  0  c               film\n",
            "The final energy is -34.621 eV.\n"
          ]
        }
      ],
      "source": [
        "# Per https://github.com/materialsvirtuallab/matgl/blob/main/examples/Relaxations%20and%20Simulations%20using%20the%20M3GNet%20Universal%20Potential.ipynb\n",
        "\n",
        "import matgl\n",
        "from matgl.ext.ase import M3GNetCalculator, MolecularDynamics, Relaxer\n",
        "\n",
        "pot = matgl.load_model(\"M3GNet-MP-2021.2.8-PES\")\n",
        "\n",
        "relaxer = Relaxer(potential=pot)\n",
        "struct = interface\n",
        "relax_results = relaxer.relax(struct, fmax=0.01)\n",
        "\n",
        "# extract results\n",
        "final_structure = relax_results[\"final_structure\"]\n",
        "final_energy = relax_results[\"trajectory\"].energies[-1]\n",
        "# print out the final relaxed structure and energy\n",
        "\n",
        "print(final_structure)\n",
        "print(f\"The final energy is {float(final_energy):.3f} eV.\")"
      ]
    },
    {
      "cell_type": "code",
      "execution_count": 15,
      "metadata": {},
      "outputs": [
        {
          "data": {
            "text/plain": [
              "Structure Summary\n",
              "Lattice\n",
              "    abc : 2.460151333903277 2.4601506195880978 31.69693114999455\n",
              " angles : 89.99998780085411 90.00000687735196 60.00001257987962\n",
              " volume : 166.13893548105855\n",
              "      A : 2.4601513339032497 -3.2738659652956474e-07 -1.594126913463637e-07\n",
              "      B : 1.2300751255342108 2.130553040081757 2.827685773904575e-07\n",
              "      C : -1.7507640005469454e-06 4.596760550776735e-06 31.69693114999417\n",
              "    pbc : True True True\n",
              "PeriodicSite: Ni (1.23, 0.7102, 0.2344) [0.3333, 0.3333, 0.007396]\n",
              "PeriodicSite: Ni (1.576e-06, 1.55e-06, 2.263) [4.048e-07, 5.735e-07, 0.07139]\n",
              "PeriodicSite: Ni (2.46, 1.42, 4.288) [0.6667, 0.6667, 0.1353]\n",
              "PeriodicSite: C (-9.006e-07, 1.019e-06, 8.375) [-1.322e-07, -9.172e-08, 0.2642]\n",
              "PeriodicSite: C (1.23, 0.7102, 8.375) [0.3333, 0.3333, 0.2642]"
            ]
          },
          "execution_count": 15,
          "metadata": {},
          "output_type": "execute_result"
        }
      ],
      "source": [
        "final_structure"
      ]
    },
    {
      "cell_type": "code",
      "execution_count": null,
      "metadata": {},
      "outputs": [],
      "source": [
        "from src.utils import from_pymatgen, poscar_to_ase\n",
        "\n",
        "ase_structure = poscar_to_ase(final_structure.to(fmt=\"poscar\"))\n",
        "ase_interface = poscar_to_ase(interface.to(fmt=\"poscar\"))\n",
        "\n",
        "from ase.visualize import view\n",
        "\n",
        "# view(ase_structure, viewer=\"x3d\")\n"
      ]
    },
    {
      "cell_type": "code",
      "execution_count": 28,
      "metadata": {},
      "outputs": [
        {
          "name": "stdout",
          "output_type": "stream",
          "text": [
            "Ni3 C2\n",
            "1.0\n",
            "   2.4599995727812636    0.0000000000000000    0.0000000000000002\n",
            "   1.2299995285143266    2.1304228448014668    0.0000000000000002\n",
            "   0.0000000000000000    0.0000000000000000   27.0171631046722780\n",
            "Ni C\n",
            "3 2\n",
            "direct\n",
            "   0.3333334309041891    0.3333336930861107    0.0000000000000000 Ni\n",
            "   0.0000001463562833    0.0000005396291662    0.0743446506413096 Ni\n",
            "   0.6666668618083782    0.6666673861722214    0.1486893012826191 Ni\n",
            "   0.0000000000000000    0.0000000000000000    0.2597298272022775 C\n",
            "   0.3333330000000001    0.3333330000000000    0.2597298272022775 C\n",
            "\n",
            "Ni3 C2\n",
            "1.0\n",
            "   2.4601513339032497   -0.0000003273865965   -0.0000001594126913\n",
            "   1.2300751255342108    2.1305530400817569    0.0000002827685774\n",
            "  -0.0000017507640005    0.0000045967605508   31.6969311499941711\n",
            "Ni C\n",
            "3 2\n",
            "direct\n",
            "   0.3333334142510999    0.3333337851806225    0.0073958603916488 Ni\n",
            "   0.0000004048497147    0.0000005735050916    0.0713928639301646 Ni\n",
            "   0.6666665051022833    0.6666670910516759    0.1352752271752413 Ni\n",
            "  -0.0000001321954509   -0.0000000917160308    0.2642148231238195 C\n",
            "   0.3333332856726603    0.3333332528331279    0.2642148322675677 C\n",
            "\n"
          ]
        }
      ],
      "source": [
        "poscar_interface = interface.to(fmt=\"poscar\")\n",
        "poscar_final_structure = final_structure.to(fmt=\"poscar\")\n",
        "print(poscar_interface)\n",
        "print(poscar_final_structure)"
      ]
    },
    {
      "cell_type": "code",
      "execution_count": null,
      "metadata": {},
      "outputs": [],
      "source": []
    }
  ],
  "metadata": {
    "kernelspec": {
      "display_name": ".venv",
      "language": "python",
      "name": "python3"
    },
    "language_info": {
      "codemirror_mode": {
        "name": "ipython",
        "version": 3
      },
      "file_extension": ".py",
      "mimetype": "text/x-python",
      "name": "python",
      "nbconvert_exporter": "python",
      "pygments_lexer": "ipython3",
      "version": "3.10.12"
    },
    "widgets": {
      "application/vnd.jupyter.widget-state+json": {
        "state": {},
        "version_major": 2,
        "version_minor": 0
      }
    }
  },
  "nbformat": 4,
  "nbformat_minor": 4
}
