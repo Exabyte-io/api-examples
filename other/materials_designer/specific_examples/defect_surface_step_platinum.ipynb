{
 "cells": [
  {
   "cell_type": "markdown",
   "source": [
    "# Step on a Platinum (211) surface\n",
    "\n",
    "## 0. Introduction\n",
    "\n",
    "This notebook demonstrates how to create a slab of Pt(211) which will show the step from the manuscript:\n",
    "\n",
    "> **Šljivančanin, Ž., & Hammer, B.**\n",
    "> \"Oxygen dissociation at close-packed Pt terraces, Pt steps, and Ag-covered Pt steps studied with density functional theory.\"\n",
    "> Surface Science, 515(1), 235–244. \n",
    "> [DOI: 10.1016/s0039-6028(02)01908-8 ](https://doi:10.1016/s0039-6028(02)01908-8 )\n",
    "\n",
    "Replicating the material from the FIG. 1. B.\n",
    "\n",
    "<img src=\"https://github.com/Exabyte-io/documentation/raw/12617167278ae3523adc028583b21ea4e8ebd197/images/tutorials/materials/defects/defect_surface_step_platinum/0-figure-from-manuscript.webp\" alt=\"Pt(211) step\" width=\"400\"/>\n",
    "\n",
    "\n"
   ],
   "metadata": {
    "collapsed": false
   },
   "id": "95a274d80df28ccd"
  },
  {
   "cell_type": "markdown",
   "source": [
    "## 1. Prepare the Environment\n",
    "### 1.1. Set up defect parameters "
   ],
   "metadata": {
    "collapsed": false
   },
   "id": "d55eaee8bc55bffd"
  },
  {
   "cell_type": "code",
   "outputs": [],
   "source": [
    "MATERIAL_NAME = \"Pt\"\n",
    "MILLER_INDICES = (2, 1, 1)\n",
    "THICKNESS = 6  # in atomic layers\n",
    "VACUUM = 10.0  # in angstroms\n",
    "XY_SUPERCELL_MATRIX = [[1, 0], [0, 1]]\n",
    "USE_ORTHOGONAL_Z = True\n",
    "USE_CONVENTIONAL_CELL = True\n",
    "\n",
    "VISUALIZATION_REPETITIONS = [1, 1, 1]"
   ],
   "metadata": {
    "collapsed": false
   },
   "id": "4b64735060047bec",
   "execution_count": null
  },
  {
   "cell_type": "markdown",
   "source": [
    "### 1.2. Install Packages\n",
    "The step executes only in Pyodide environment. For other environments, the packages should be installed via `pip install` (see [README](../../README.ipynb))."
   ],
   "metadata": {
    "collapsed": false
   },
   "id": "5e0ce05f6f031b3f"
  },
  {
   "cell_type": "code",
   "outputs": [],
   "source": [
    "import sys\n",
    "\n",
    "if sys.platform == \"emscripten\":\n",
    "    import micropip\n",
    "\n",
    "    await micropip.install('mat3ra-api-examples', deps=False)\n",
    "    from utils.jupyterlite import install_packages\n",
    "\n",
    "    await install_packages(\"specific_examples\")"
   ],
   "metadata": {
    "collapsed": false
   },
   "id": "b457673560550933",
   "execution_count": null
  },
  {
   "cell_type": "markdown",
   "source": [
    "### 1.3. Get input materials"
   ],
   "metadata": {
    "collapsed": false
   },
   "id": "1659a8e9afe434fb"
  },
  {
   "cell_type": "code",
   "outputs": [],
   "source": [
    "from mat3ra.made.material import Material\n",
    "from mat3ra.standata.materials import Materials\n",
    "\n",
    "material = Material(Materials.get_by_name_first_match(MATERIAL_NAME))"
   ],
   "metadata": {
    "collapsed": false
   },
   "id": "b588ccfe51967a86",
   "execution_count": null
  },
  {
   "cell_type": "markdown",
   "source": [
    "### 1.4. Preview the material"
   ],
   "metadata": {
    "collapsed": false
   },
   "id": "8c13970a869adfa9"
  },
  {
   "cell_type": "code",
   "outputs": [],
   "source": [
    "from utils.visualize import visualize_materials as visualize\n",
    "\n",
    "visualize(material, repetitions=VISUALIZATION_REPETITIONS, rotation=\"0x\")\n",
    "visualize(material, repetitions=VISUALIZATION_REPETITIONS, rotation=\"-90x\")"
   ],
   "metadata": {
    "collapsed": false
   },
   "id": "c4f6e2697f97965f",
   "execution_count": null
  },
  {
   "cell_type": "markdown",
   "source": [
    "## 2. Create a step with a slab\n",
    "\n",
    "### 2.1. Create slab configuration\n",
    "Slab Configuration lets define the slab thickness, vacuum, and the Miller indices of the interfacial plane and get the slabs with possible terminations.\n"
   ],
   "metadata": {
    "collapsed": false
   },
   "id": "6634dae92a6c07b9"
  },
  {
   "cell_type": "code",
   "outputs": [],
   "source": [
    "\n",
    "from mat3ra.made.tools.build.slab import SlabConfiguration\n",
    "\n",
    "slab_configuration = SlabConfiguration(\n",
    "    bulk=material,\n",
    "    miller_indices=MILLER_INDICES,\n",
    "    thickness=THICKNESS,  # in atomic layers\n",
    "    vacuum=VACUUM,  # in angstroms\n",
    "    xy_supercell_matrix=XY_SUPERCELL_MATRIX,\n",
    "    use_orthogonal_z=USE_ORTHOGONAL_Z,\n",
    "    use_conventional_cell=USE_CONVENTIONAL_CELL,\n",
    ")"
   ],
   "metadata": {
    "collapsed": false
   },
   "id": "3ad6765249610aa4",
   "execution_count": null
  },
  {
   "cell_type": "markdown",
   "source": [
    "### 2.2. Get possible terminations for the slabs"
   ],
   "metadata": {
    "collapsed": false
   },
   "id": "afb4c9bb89c8690b"
  },
  {
   "cell_type": "code",
   "outputs": [],
   "source": [
    "from mat3ra.made.tools.build.slab import get_terminations\n",
    "\n",
    "slab_terminations = get_terminations(slab_configuration)\n",
    "print(\"Terminations\")\n",
    "for idx, termination in enumerate(slab_terminations):\n",
    "    print(f\"    {idx}: {termination}\")"
   ],
   "metadata": {
    "collapsed": false
   },
   "id": "70bec9d69d58b28a",
   "execution_count": null
  },
  {
   "cell_type": "markdown",
   "source": [
    "### 2.3. Visualize the slab"
   ],
   "metadata": {
    "collapsed": false
   },
   "id": "c6e2e18452972b21"
  },
  {
   "cell_type": "code",
   "outputs": [],
   "source": [
    "from mat3ra.made.tools.build.slab import create_slab\n",
    "\n",
    "slab_211 = create_slab(slab_configuration, slab_terminations[0])\n",
    "\n",
    "visualize(slab_211, repetitions=VISUALIZATION_REPETITIONS, rotation=\"0x\")\n",
    "visualize(slab_211, repetitions=VISUALIZATION_REPETITIONS, rotation=\"-90x\")"
   ],
   "metadata": {
    "collapsed": false
   },
   "id": "246cb1f0437dbde0",
   "execution_count": null
  },
  {
   "cell_type": "markdown",
   "source": [
    "## 3. Create a step with terrace builder\n",
    "### 3.1. Setup terrace parameters"
   ],
   "metadata": {
    "collapsed": false
   },
   "id": "c9ded02269a09c24"
  },
  {
   "cell_type": "code",
   "outputs": [],
   "source": [
    "# Material selection\n",
    "# Which material to use from input list\n",
    "MATERIAL_INDEX = 0  \n",
    "\n",
    "# Terrace parameters:\n",
    "# Normal vector describing a plane that cuts the terrace from added layers (Miller indices)\n",
    "CUT_DIRECTION = [0,1,1]  \n",
    "# Point the cutting plane passes through, in crystal coordinates\n",
    "PIVOT_COORDINATE = [0.5, 0.5, 0.5] \n",
    "# Height of terrace in atomic layers\n",
    "NUMBER_OF_ADDED_LAYERS = 1  \n",
    "# Use cartesian instead of crystal coordinates\n",
    "USE_CARTESIAN_COORDINATES = False  \n",
    "# Rotate to match periodic boundary conditions\n",
    "ROTATE_TO_MATCH_PBC = True  \n",
    "\n",
    "# Slab parameters for creating a new slab if provided material is not a slab\n",
    "DEFAULT_SLAB_PARAMETERS = {\n",
    "    \"miller_indices\": (1,1,1),\n",
    "    \"thickness\": 6,\n",
    "    \"vacuum\": 10.0,\n",
    "    \"use_orthogonal_z\": True,\n",
    "    \"xy_supercell_matrix\": [[2, 0], [0, 2]]\n",
    "}\n",
    "\n",
    "# Visualization parameters\n",
    "SHOW_INTERMEDIATE_STEPS = True\n",
    "# Structure repeat in view\n",
    "CELL_REPETITIONS_FOR_VISUALIZATION = [1, 1, 1]  "
   ],
   "metadata": {
    "collapsed": false
   },
   "id": "d6d9b6b5600a4eef",
   "execution_count": null
  },
  {
   "cell_type": "markdown",
   "source": [
    "### 3.2. Configure a terrace defect"
   ],
   "metadata": {
    "collapsed": false
   },
   "id": "12a15e84ec43f4f3"
  },
  {
   "cell_type": "code",
   "outputs": [],
   "source": [
    "from mat3ra.made.tools.build.slab import create_slab_if_not, SlabConfiguration\n",
    "\n",
    "default_slab_config = SlabConfiguration(\n",
    "    bulk=material,\n",
    "    miller_indices=DEFAULT_SLAB_PARAMETERS[\"miller_indices\"],\n",
    "    thickness=DEFAULT_SLAB_PARAMETERS[\"thickness\"],\n",
    "    vacuum=DEFAULT_SLAB_PARAMETERS[\"vacuum\"],\n",
    "    use_orthogonal_z=DEFAULT_SLAB_PARAMETERS[\"use_orthogonal_z\"],\n",
    "    xy_supercell_matrix=DEFAULT_SLAB_PARAMETERS[\"xy_supercell_matrix\"]\n",
    ")\n",
    "\n",
    "slab_111 = create_slab_if_not(material, default_slab_config)"
   ],
   "metadata": {
    "collapsed": false
   },
   "id": "30b426c44f79582d",
   "execution_count": null
  },
  {
   "cell_type": "code",
   "outputs": [],
   "source": [
    "from mat3ra.made.tools.build.defect.builders import TerraceSlabDefectConfiguration, TerraceSlabDefectBuilder\n",
    "\n",
    "config = TerraceSlabDefectConfiguration(\n",
    "    crystal=slab_111,\n",
    "    cut_direction=CUT_DIRECTION,\n",
    "    pivot_coordinate=PIVOT_COORDINATE,\n",
    "    number_of_added_layers=NUMBER_OF_ADDED_LAYERS,\n",
    "    use_cartesian_coordinates=USE_CARTESIAN_COORDINATES,\n",
    "    rotate_to_match_pbc=ROTATE_TO_MATCH_PBC\n",
    ")\n",
    "\n",
    "builder = TerraceSlabDefectBuilder()"
   ],
   "metadata": {
    "collapsed": false
   },
   "id": "f838761790cb392c",
   "execution_count": null
  },
  {
   "cell_type": "markdown",
   "source": [
    "### 3.3. Create a terrace defect"
   ],
   "metadata": {
    "collapsed": false
   },
   "id": "2a24adb037f45d0a"
  },
  {
   "cell_type": "code",
   "outputs": [],
   "source": [
    "terrace_slab = builder.get_material(config)\n",
    "\n",
    "print(\"\\nTerrace defect created with:\")\n",
    "print(f\"Cut direction: {CUT_DIRECTION}\")\n",
    "print(f\"Pivot point: {PIVOT_COORDINATE}\")\n",
    "print(f\"Added layers: {NUMBER_OF_ADDED_LAYERS}\")\n",
    "print(f\"Number of atoms: {len(terrace_slab.basis.elements.ids)}\")"
   ],
   "metadata": {
    "collapsed": false
   },
   "id": "2c2d722d81531839",
   "execution_count": null
  },
  {
   "cell_type": "markdown",
   "source": [
    "### 3.4. Visualize the terrace defect"
   ],
   "metadata": {
    "collapsed": false
   },
   "id": "847971b9e20420ec"
  },
  {
   "cell_type": "code",
   "outputs": [],
   "source": [
    "visualize(terrace_slab, repetitions=CELL_REPETITIONS_FOR_VISUALIZATION, rotation=\"0x\")\n",
    "visualize(terrace_slab, repetitions=CELL_REPETITIONS_FOR_VISUALIZATION, rotation=\"-90x\")\n",
    "visualize(terrace_slab, repetitions=CELL_REPETITIONS_FOR_VISUALIZATION, rotation=\"-90x,90y\")"
   ],
   "metadata": {
    "collapsed": false
   },
   "id": "138a639f8a2b16bb",
   "execution_count": null
  },
  {
   "cell_type": "markdown",
   "source": [
    "## 4. Download materials"
   ],
   "metadata": {
    "collapsed": false
   },
   "id": "d667623ad5f2e061"
  },
  {
   "cell_type": "code",
   "outputs": [],
   "source": [
    "from utils.jupyterlite import download_content_to_file, set_materials\n",
    "\n",
    "set_materials([slab_211, terrace_slab])\n",
    "download_content_to_file(slab_211, \"Pt_211_step.json\")\n",
    "download_content_to_file(terrace_slab, \"Pt_111_terrace.json\")"
   ],
   "metadata": {
    "collapsed": false
   },
   "id": "3705115f04ac0010",
   "execution_count": null
  }
 ],
 "metadata": {
  "kernelspec": {
   "display_name": "Python 3",
   "language": "python",
   "name": "python3"
  },
  "language_info": {
   "codemirror_mode": {
    "name": "ipython",
    "version": 2
   },
   "file_extension": ".py",
   "mimetype": "text/x-python",
   "name": "python",
   "nbconvert_exporter": "python",
   "pygments_lexer": "ipython2",
   "version": "2.7.6"
  }
 },
 "nbformat": 4,
 "nbformat_minor": 5
}
