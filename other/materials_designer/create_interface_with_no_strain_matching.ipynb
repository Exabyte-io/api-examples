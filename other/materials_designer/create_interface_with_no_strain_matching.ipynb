{
 "cells": [
  {
   "cell_type": "markdown",
   "metadata": {},
   "source": [
    "# Create an interface between two materials with no strain matching\n",
    "\n",
    "Interface created from two slabs with provided terminations. The interface is created without strain matching, so the film is wrapped into the substrate slab cell according to matrix ...????\n",
    "\n",
    "<h2 style=\"color:green\">Usage</h2>\n",
    "\n",
    "1. Make sure to select Input Materials\n",
    "2. Set notebook parameters\n",
    "2. Create slab configurations, view possible terminations and select the termination pair for the interface\n",
    "3. Create the interface with no strain matching based on the selected configurations\n",
    "4. Visualize the interface\n",
    "5. Pass the interface to the outside runtime\n"
   ]
  },
  {
   "cell_type": "markdown",
   "source": [
    "## 1. Prepare Environment\n",
    "### 1.1. Set notebook parameters"
   ],
   "metadata": {
    "collapsed": false
   }
  },
  {
   "cell_type": "code",
   "outputs": [],
   "source": [
    "# Enable interactive selection of terminations via UI prompt\n",
    "IS_TERMINATIONS_SELECTION_INTERACTIVE = False \n",
    "# Enable scaling of the film slab to match the substrate lattice\n",
    "ENABLE_FILM_SCALING = False"
   ],
   "metadata": {
    "collapsed": false,
    "ExecuteTime": {
     "end_time": "2024-05-28T00:58:47.488956Z",
     "start_time": "2024-05-28T00:58:47.486393Z"
    }
   },
   "execution_count": 12
  },
  {
   "cell_type": "markdown",
   "source": [
    "\n",
    "### 1.2. Install Packages\n",
    "Note: the step executes only when using Pyodide. For other environments (e.g. Colab, JupyterLab), the packages should be installed via `pip install .` (see [README](../../README.ipynb))."
   ],
   "metadata": {
    "collapsed": false
   }
  },
  {
   "cell_type": "code",
   "outputs": [],
   "source": [
    "import sys\n",
    "\n",
    "if sys.platform == \"emscripten\":\n",
    "    import micropip\n",
    "    await micropip.install('mat3ra-api-examples', deps=False)\n",
    "    from utils.jupyterlite import install_packages\n",
    "    await install_packages(\"create_interface_with_min_strain_zsl.ipynb\", \"../../config.yml\")"
   ],
   "metadata": {
    "collapsed": false,
    "ExecuteTime": {
     "end_time": "2024-05-28T00:58:47.524799Z",
     "start_time": "2024-05-28T00:58:47.521656Z"
    }
   },
   "execution_count": 13
  },
  {
   "cell_type": "markdown",
   "source": [
    "### 1.3. Get input materials and assign `substrate` and `film`\n",
    "Materials are loaded with `get_data()`. The first material is assigned as substrate and the second as film."
   ],
   "metadata": {
    "collapsed": false
   }
  },
  {
   "cell_type": "code",
   "outputs": [
    {
     "name": "stdout",
     "output_type": "stream",
     "text": [
      "Data from 0-Ni has been read successfully.\n",
      "Data from 1-Graphene has been read successfully.\n",
      "Data from 2-WS2 has been read successfully.\n",
      "Data from 3-BN has been read successfully.\n",
      "Data from 4-Te2Mo has been read successfully.\n",
      "Data from 5-HfO2 has been read successfully.\n",
      "Data from Hf12 C2 O24, Interface has been read successfully.\n"
     ]
    }
   ],
   "source": [
    "from mat3ra.made.material import Material\n",
    "from utils.jupyterlite import get_data\n",
    "\n",
    "# Get the list of input materials and load them into `materials_in` variable\n",
    "get_data(\"materials_in\", globals())\n",
    "materials = list(map(Material, globals()[\"materials_in\"]))\n",
    "substrate = materials[5]\n",
    "film = materials[1]"
   ],
   "metadata": {
    "collapsed": false,
    "ExecuteTime": {
     "end_time": "2024-05-28T00:58:47.532527Z",
     "start_time": "2024-05-28T00:58:47.526690Z"
    }
   },
   "execution_count": 14
  },
  {
   "cell_type": "markdown",
   "source": [
    "### 1.4. Preview Substrate and Film"
   ],
   "metadata": {
    "collapsed": false
   }
  },
  {
   "cell_type": "code",
   "outputs": [
    {
     "data": {
      "text/plain": "GridBox(children=(VBox(children=(Label(value='Hf4O8 - Material', layout=Layout(align_self='center', height='30…",
      "application/vnd.jupyter.widget-view+json": {
       "version_major": 2,
       "version_minor": 0,
       "model_id": "c9b205f9568946249577e3186ff6df7e"
      }
     },
     "metadata": {},
     "output_type": "display_data"
    }
   ],
   "source": [
    "from utils.visualize import visualize_materials as visualize\n",
    "visualize([substrate, film], repetitions=[3, 3, 1], rotation=\"0x\")"
   ],
   "metadata": {
    "collapsed": false,
    "ExecuteTime": {
     "end_time": "2024-05-28T00:58:47.700551Z",
     "start_time": "2024-05-28T00:58:47.534308Z"
    }
   },
   "execution_count": 15
  },
  {
   "cell_type": "markdown",
   "source": [
    "## 2. Create Slabs and select termination pair\n",
    "\n",
    "### 2.1. Create Substrate and Layer Slabs\n",
    "Slab Configuration lets define the slab thickness, vacuum, and the Miller indices of the interfacial plane and get the slabs with possible terminations.\n",
    "Define the substrate slab cell that will be used as a base for the interface and the film slab cell that will be placed on top of the substrate slab."
   ],
   "metadata": {
    "collapsed": false
   }
  },
  {
   "cell_type": "code",
   "outputs": [
    {
     "name": "stdout",
     "output_type": "stream",
     "text": [
      "Film terminations:\n",
      "0: C_P6/mmm_2\n",
      "Substrate terminations:\n",
      "0: Hf_P-1_2\n",
      "1: O2_P1_4\n",
      "2: O2_P1_3\n",
      "3: O2_P-1_2\n",
      "4: O2_P2/m_1\n"
     ]
    }
   ],
   "source": [
    "from mat3ra.made.tools.build.slab import SlabConfiguration\n",
    "\n",
    "film_slab_configuration = SlabConfiguration(\n",
    "    bulk=film,\n",
    "    # the Miller indices of the interfacial plane of the layer\n",
    "    miller_indices=(0, 0, 1),\n",
    "    thickness=1,\n",
    "    vacuum=1,\n",
    "    xy_supercell_matrix=[[1, 0], [0, 1]],\n",
    "    use_orthogonal_z=True\n",
    ")\n",
    "\n",
    "substrate_slab_configuration = SlabConfiguration(\n",
    "    bulk=substrate,\n",
    "    # the Miller indices of the interfacial plane of the substrate\n",
    "    miller_indices=(1,1,1),\n",
    "    thickness=3,\n",
    "    vacuum=3,\n",
    "    xy_supercell_matrix=[[1, 0], [0, 1]],\n",
    "    use_orthogonal_z=True\n",
    ")\n",
    "\n",
    "film_slab_terminations = film_slab_configuration.terminations\n",
    "substrate_slab_terminations = substrate_slab_configuration.terminations\n",
    "\n",
    "print(\"Film terminations:\")\n",
    "for idx, term in enumerate(film_slab_terminations):\n",
    "    print(f\"{idx}: {term}\")\n",
    "print(\"Substrate terminations:\")\n",
    "for idx, term in enumerate(substrate_slab_terminations):\n",
    "    print(f\"{idx}: {term}\")"
   ],
   "metadata": {
    "collapsed": false,
    "ExecuteTime": {
     "end_time": "2024-05-28T00:58:47.950435Z",
     "start_time": "2024-05-28T00:58:47.702967Z"
    }
   },
   "execution_count": 16
  },
  {
   "cell_type": "markdown",
   "source": [
    "### 2.2. Visualize slabs for all possible terminations"
   ],
   "metadata": {
    "collapsed": false
   }
  },
  {
   "cell_type": "code",
   "outputs": [
    {
     "data": {
      "text/plain": "GridBox(children=(VBox(children=(Label(value='C2 - Termination: C_P6/mmm_2', layout=Layout(align_self='center'…",
      "application/vnd.jupyter.widget-view+json": {
       "version_major": 2,
       "version_minor": 0,
       "model_id": "42a3641e37824517a293a40da92d99f1"
      }
     },
     "metadata": {},
     "output_type": "display_data"
    },
    {
     "data": {
      "text/plain": "GridBox(children=(VBox(children=(Label(value='Hf4O8Hf4O8Hf4O8 - Termination: Hf_P-1_2', layout=Layout(align_se…",
      "application/vnd.jupyter.widget-view+json": {
       "version_major": 2,
       "version_minor": 0,
       "model_id": "54ab34d7d1b2490486688ee76b0813c0"
      }
     },
     "metadata": {},
     "output_type": "display_data"
    }
   ],
   "source": [
    "visualize([{\"material\":film_slab_configuration.get_material(termination=termination), \"title\":f\"Termination: {termination}\"} for termination in film_slab_terminations], repetitions=[3, 3, 1], rotation=\"-90x\")\n",
    "\n",
    "visualize([{\"material\":substrate_slab_configuration.get_material(termination=termination), \"title\":f\"Termination: {termination}\"} for termination in substrate_slab_terminations], repetitions=[3, 3, 1], rotation=\"-90x\")\n"
   ],
   "metadata": {
    "collapsed": false,
    "ExecuteTime": {
     "end_time": "2024-05-28T00:58:50.041873Z",
     "start_time": "2024-05-28T00:58:47.954263Z"
    }
   },
   "execution_count": 17
  },
  {
   "cell_type": "markdown",
   "source": [
    "### 2.3. Select termination pair for the interface"
   ],
   "metadata": {
    "collapsed": false
   }
  },
  {
   "cell_type": "code",
   "outputs": [],
   "source": [
    "from itertools import product\n",
    "from utils.io import ui_prompt_select_array_element_by_index, ui_prompt_select_array_element_by_index_pyodide\n",
    "\n",
    "# Set the termination pair indices\n",
    "substrate_termination_index = 0\n",
    "film_termination_index = 0\n",
    "\n",
    "termination_pair = (film_slab_terminations[film_termination_index], substrate_slab_terminations[substrate_termination_index])\n",
    "termination_pairs = list(product(film_slab_terminations, substrate_slab_terminations))\n",
    "if IS_TERMINATIONS_SELECTION_INTERACTIVE:\n",
    "    if sys.platform == \"emscripten\":\n",
    "        termination_pair = await ui_prompt_select_array_element_by_index_pyodide(termination_pairs, element_name=\"film/substrate termination pair\")\n",
    "    else:\n",
    "        termination_pair = ui_prompt_select_array_element_by_index(termination_pairs, element_name=\"film/substrate termination pair\")"
   ],
   "metadata": {
    "collapsed": false
   },
   "execution_count": 18
  },
  {
   "cell_type": "markdown",
   "metadata": {},
   "source": [
    "## 3. Create an interface\n",
    "### 3.1. Initialize the Interface Configuration\n",
    "We use no strain matching for the interface construction. Substrate slab cell is used as a base and the film slab is wrapped into it with optionally scaling atomic coordinates (preserve coordinates in crystal/alat units)."
   ]
  },
  {
   "cell_type": "code",
   "execution_count": 19,
   "metadata": {
    "ExecuteTime": {
     "end_time": "2024-05-28T00:58:50.293919Z",
     "start_time": "2024-05-28T00:58:50.049278Z"
    }
   },
   "outputs": [],
   "source": [
    "from mat3ra.made.tools.build.interface import InterfaceConfiguration\n",
    "\n",
    "interface_configuration = InterfaceConfiguration(substrate_slab_configuration, film_slab_configuration, termination_pair, distance_z=3.0, vacuum=5.0)\n",
    "\n",
    "interface = interface_configuration.get_material()"
   ]
  },
  {
   "cell_type": "markdown",
   "source": [
    "### 3.2. Scale the film slab to match the substrate lattice (optional)"
   ],
   "metadata": {
    "collapsed": false
   }
  },
  {
   "cell_type": "code",
   "outputs": [],
   "source": [
    "from mat3ra.made.tools.build.interface import InterfaceConfigurationStrainMatcher\n",
    "if ENABLE_FILM_SCALING:\n",
    "    film_scaling_strain_matcher = InterfaceConfigurationStrainMatcher(interface_configuration, strain_matching_parameters=None)\n",
    "    interface = film_scaling_strain_matcher.get_interfaces()[0]"
   ],
   "metadata": {
    "collapsed": false,
    "ExecuteTime": {
     "end_time": "2024-05-28T00:58:50.298759Z",
     "start_time": "2024-05-28T00:58:50.295655Z"
    }
   },
   "execution_count": 20
  },
  {
   "cell_type": "markdown",
   "source": [
    "### 6.2. Visualize the interface\n"
   ],
   "metadata": {
    "collapsed": false
   }
  },
  {
   "cell_type": "code",
   "outputs": [
    {
     "name": "stdout",
     "output_type": "stream",
     "text": [
      "<class 'mat3ra.made.material.Material'>\n"
     ]
    },
    {
     "data": {
      "text/plain": "GridBox(children=(VBox(children=(Label(value='Hf4O8Hf4O8Hf4O8C2 - Material', layout=Layout(align_self='center'…",
      "application/vnd.jupyter.widget-view+json": {
       "version_major": 2,
       "version_minor": 0,
       "model_id": "e1e808d208cc47689188ed30d407fa89"
      }
     },
     "metadata": {},
     "output_type": "display_data"
    },
    {
     "data": {
      "text/plain": "GridBox(children=(VBox(children=(Label(value='Hf4O8Hf4O8Hf4O8C2 - Material', layout=Layout(align_self='center'…",
      "application/vnd.jupyter.widget-view+json": {
       "version_major": 2,
       "version_minor": 0,
       "model_id": "096ed92a4c6d41fa9e5cdf3bcc00fe24"
      }
     },
     "metadata": {},
     "output_type": "display_data"
    }
   ],
   "source": [
    "visualize([interface], repetitions=[3, 3, 1], rotation=\"0x\")\n",
    "visualize([interface], repetitions=[3, 3, 1], rotation=\"-90x\")"
   ],
   "metadata": {
    "collapsed": false,
    "ExecuteTime": {
     "end_time": "2024-05-28T00:58:50.665698Z",
     "start_time": "2024-05-28T00:58:50.300817Z"
    }
   },
   "execution_count": 21
  },
  {
   "cell_type": "markdown",
   "metadata": {},
   "source": [
    "### 6.3. Pass data to the outside runtime\n",
    "Enrich the interface names with the strain values and pass them to the application runtime."
   ]
  },
  {
   "cell_type": "code",
   "execution_count": 22,
   "metadata": {
    "ExecuteTime": {
     "end_time": "2024-05-28T00:58:50.672374Z",
     "start_time": "2024-05-28T00:58:50.667150Z"
    }
   },
   "outputs": [
    {
     "name": "stdout",
     "output_type": "stream",
     "text": [
      "Data for materials written to uploads/Hf12 C2 O24, Interface.json\n"
     ]
    }
   ],
   "source": [
    "from utils.jupyterlite import set_data\n",
    "\n",
    "if \"Interface\" not in interface.name:\n",
    "    interface.name = f'{interface.name}, Interface'\n",
    "set_data(\"materials\", [interface.to_json()])"
   ]
  },
  {
   "cell_type": "code",
   "outputs": [],
   "source": [],
   "metadata": {
    "collapsed": false,
    "ExecuteTime": {
     "end_time": "2024-05-28T00:58:50.675882Z",
     "start_time": "2024-05-28T00:58:50.674140Z"
    }
   },
   "execution_count": 22
  }
 ],
 "metadata": {
  "kernelspec": {
   "display_name": ".venv",
   "language": "python",
   "name": "python3"
  },
  "language_info": {
   "codemirror_mode": {
    "name": "ipython",
    "version": 3
   },
   "file_extension": ".py",
   "mimetype": "text/x-python",
   "name": "python",
   "nbconvert_exporter": "python",
   "pygments_lexer": "ipython3",
   "version": "3.10.12"
  },
  "widgets": {
   "application/vnd.jupyter.widget-state+json": {
    "state": {},
    "version_major": 2,
    "version_minor": 0
   }
  }
 },
 "nbformat": 4,
 "nbformat_minor": 4
}
