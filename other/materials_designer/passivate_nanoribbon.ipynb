{
 "cells": [
  {
   "cell_type": "markdown",
   "source": [
    "# Create Nanoribbon Edge Passivation\n",
    "\n",
    "Passivate nanoribbon edges by detecting and adding passivants to undercoordinated atoms (atoms with fewer neighbors than bulk).\n",
    "\n",
    "<h2 style=\"color:green\">Usage</h2>\n",
    "\n",
    "1. Make sure to select Input Material (nanoribbon) before running the notebook.\n",
    "1. Set notebook parameters in cell 1.1. below (or use the default values).\n",
    "1. Click \"Run\" > \"Run All\" to run all cells.\n",
    "1. Wait for the run to complete.\n",
    "1. Scroll down to view results.\n",
    "\n",
    "## Notes\n",
    "\n",
    "1. Coordination-based passivation finds atoms with fewer neighbors than expected\n",
    "2. Coordination threshold below which passivation is applied, must be set depending on the material\n",
    "3. Passivant atoms are placed along the direction away from existing bonds\n"
   ],
   "metadata": {
    "collapsed": false
   },
   "id": "6f144e89e46eb500"
  },
  {
   "cell_type": "markdown",
   "source": [
    "## 1. Prepare the Environment\n",
    "### 1.1. Set up the notebook\n",
    "Set the following flags to control the notebook behavior\n"
   ],
   "metadata": {
    "collapsed": false
   },
   "id": "ae39613078c0682b"
  },
  {
   "cell_type": "code",
   "outputs": [],
   "source": [
    "# Material selection\n",
    "MATERIAL_INDEX = 16  # Which material to use from input list\n",
    "\n",
    "# Passivation parameters\n",
    "PASSIVANT = \"H\"  # Chemical symbol of passivating atom\n",
    "BOND_LENGTH = 1.0  # Distance from atom to passivant (Å)\n",
    "COORDINATION_THRESHOLD = 6  # Minimum neighbors before passivation needed\n",
    "\n",
    "# Neighbor detection parameters\n",
    "NEIGHBOR_RADIUS = 2.5  # Distance to look for neighbors (Å)\n",
    "SEARCH_DEPTH = 5.0  # How deep to look for surface atoms (Å)\n",
    "\n",
    "# Visualization parameters\n",
    "SHOW_INTERMEDIATE_STEPS = True\n",
    "CELL_REPETITIONS_FOR_VISUALIZATION = [1, 1, 1]  # Structure repeat in view"
   ],
   "metadata": {
    "collapsed": false
   },
   "id": "f5300c6d059f387f",
   "execution_count": null
  },
  {
   "cell_type": "markdown",
   "source": [
    "### 1.2. Install packages\n",
    "The step executes only in Pyodide environment. For other environments, the packages should be installed via `pip install`."
   ],
   "metadata": {
    "collapsed": false
   },
   "id": "cf36d34610621046"
  },
  {
   "cell_type": "code",
   "outputs": [],
   "source": [
    "import sys\n",
    "\n",
    "if sys.platform == \"emscripten\":\n",
    "    import micropip\n",
    "\n",
    "    await micropip.install('mat3ra-api-examples', deps=False)\n",
    "    from utils.jupyterlite import install_packages\n",
    "    await install_packages(\"\")"
   ],
   "metadata": {
    "collapsed": false
   },
   "id": "f7bafa64d1858078",
   "execution_count": null
  },
  {
   "cell_type": "markdown",
   "source": [
    "### 1.3. Load and preview input material"
   ],
   "metadata": {
    "collapsed": false
   },
   "id": "8706794a888be69c"
  },
  {
   "cell_type": "code",
   "outputs": [],
   "source": [
    "from utils.jupyterlite import get_materials\n",
    "from utils.visualize import visualize_materials\n",
    "\n",
    "materials = get_materials(globals())\n",
    "nanoribbon = materials[MATERIAL_INDEX]\n",
    "\n",
    "if SHOW_INTERMEDIATE_STEPS:\n",
    "    print(\"Initial nanoribbon structure:\")\n",
    "    visualize_materials(nanoribbon, repetitions=CELL_REPETITIONS_FOR_VISUALIZATION)\n",
    "    visualize_materials(nanoribbon, repetitions=CELL_REPETITIONS_FOR_VISUALIZATION, rotation=\"-90x\")"
   ],
   "metadata": {
    "collapsed": false
   },
   "id": "fafc7403aa8aabd7",
   "execution_count": null
  },
  {
   "cell_type": "markdown",
   "source": [
    "## 2. Analyze Coordination Numbers"
   ],
   "metadata": {
    "collapsed": false
   },
   "id": "52906a41c61955fe"
  },
  {
   "cell_type": "code",
   "outputs": [],
   "source": [
    "from mat3ra.made.tools.build.passivation import get_unique_coordination_numbers,PassivationConfiguration\n",
    "\n",
    "config = PassivationConfiguration(\n",
    "    slab=nanoribbon,\n",
    "    passivant=PASSIVANT,\n",
    "    bond_length=BOND_LENGTH\n",
    ")\n",
    "coordination_numbers = get_unique_coordination_numbers(config)\n",
    "print(\"\\nCoordination numbers:\", coordination_numbers)"
   ],
   "metadata": {
    "collapsed": false
   },
   "id": "d6a6a8c7b5c56b9e",
   "execution_count": null
  },
  {
   "cell_type": "markdown",
   "source": [
    "## 3. Configure Passivation\n",
    "### 3.1. Set up passivation configuration and builder\n"
   ],
   "metadata": {
    "collapsed": false
   },
   "id": "5838c1364aa34ec0"
  },
  {
   "cell_type": "code",
   "outputs": [],
   "source": [
    "from mat3ra.made.tools.build.passivation.builders import CoordinationBasedPassivationBuilder, CoordinationBasedPassivationBuilderParameters\n",
    "\n",
    "builder_params = CoordinationBasedPassivationBuilderParameters(\n",
    "    shadowing_radius=NEIGHBOR_RADIUS,\n",
    "    depth=SEARCH_DEPTH,\n",
    "    coordination_threshold=COORDINATION_THRESHOLD\n",
    ")\n",
    "\n",
    "builder = CoordinationBasedPassivationBuilder(build_parameters=builder_params)"
   ],
   "metadata": {
    "collapsed": false
   },
   "id": "d78b853641264b86",
   "execution_count": null
  },
  {
   "cell_type": "markdown",
   "source": [
    "### 3.2. Generate passivated structure\n"
   ],
   "metadata": {
    "collapsed": false
   },
   "id": "cd912a136c2bbf99"
  },
  {
   "cell_type": "code",
   "outputs": [],
   "source": [
    "from mat3ra.made.tools.build.passivation import create_passivation\n",
    "\n",
    "passivated_nanoribbon = create_passivation(config, builder)"
   ],
   "metadata": {
    "collapsed": false
   },
   "id": "994463014703984e",
   "execution_count": null
  },
  {
   "cell_type": "markdown",
   "source": [
    "## 4. Preview the passivated structure"
   ],
   "metadata": {
    "collapsed": false
   },
   "id": "2d1538dbe26a6e8e"
  },
  {
   "cell_type": "code",
   "outputs": [],
   "source": [
    "print(\"Final passivated structure:\")\n",
    "visualize_materials(passivated_nanoribbon, repetitions=CELL_REPETITIONS_FOR_VISUALIZATION)\n",
    "visualize_materials(passivated_nanoribbon, repetitions=CELL_REPETITIONS_FOR_VISUALIZATION, rotation=\"-90x\")"
   ],
   "metadata": {
    "collapsed": false
   },
   "id": "885a0f3fd9a920b6",
   "execution_count": null
  },
  {
   "cell_type": "markdown",
   "source": [
    "### 5. Pass data to the outside runtime\n"
   ],
   "metadata": {
    "collapsed": false
   },
   "id": "2b6b3ee713d5a288"
  },
  {
   "cell_type": "code",
   "outputs": [],
   "source": [
    "from utils.jupyterlite import set_materials\n",
    "\n",
    "set_materials(passivated_nanoribbon)"
   ],
   "metadata": {
    "collapsed": false
   },
   "id": "87831a9f40368ff",
   "execution_count": null
  }
 ],
 "metadata": {
  "kernelspec": {
   "display_name": "Python 3",
   "language": "python",
   "name": "python3"
  },
  "language_info": {
   "codemirror_mode": {
    "name": "ipython",
    "version": 2
   },
   "file_extension": ".py",
   "mimetype": "text/x-python",
   "name": "python",
   "nbconvert_exporter": "python",
   "pygments_lexer": "ipython2",
   "version": "2.7.6"
  }
 },
 "nbformat": 4,
 "nbformat_minor": 5
}
