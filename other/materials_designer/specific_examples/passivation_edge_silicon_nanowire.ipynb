{
 "cells": [
  {
   "cell_type": "markdown",
   "source": [
    "# Passivation of Silicon Nanowire\n",
    "\n",
    "## 0. Introduction.\n",
    "\n",
    "In this notebook, we will demonstrate how to passivate a Silicon Nanowire using the Coordination Based Passivation Builder. The passivation is based on the coordination number of the atoms in the material. The passivation builder will saturate the bonds of the atoms with a coordination number below a certain threshold. The threshold can be set interactively or manually.\n",
    "Following the publication:\n",
    "\n",
    "> **B. Aradi, L. E. Ramos, P. Deák, Th. Köhler, F. Bechstedt, R. Q. Zhang, and Th. Frauenheim**,\n",
    "> Theoretical study of the chemical gap tuning in silicon nanowires\n",
    "> Phys. Rev. B 76, 035305 (2007)\n",
    "> DOI: [10.1103/PhysRevB.76.035305](https://doi.org/10.1103/PhysRevB.76.035305)\n",
    "\n",
    "\n",
    "This notebook will focus on recreating the material from Fig. 1. (Silicon nanowire passivated with hydrogen):\n",
    "\n",
    "<img src=\"https://i.imgur.com/StKnrzu.png\" alt=\"Silicon Nanowire Passivated with Hydrogen\" width=\"400\"/>"
   ],
   "metadata": {
    "collapsed": false
   },
   "id": "81aa051ca1ca2e05"
  },
  {
   "cell_type": "markdown",
   "source": [
    "## 1. Prepare the environment\n",
    "### 1.1. Set up the notebook"
   ],
   "metadata": {
    "collapsed": false
   },
   "id": "af879d0489a86849"
  },
  {
   "cell_type": "code",
   "outputs": [],
   "source": [
    "# Enable interactive selection of coordination threshold\n",
    "IS_COORDINATION_SELECTION_INTERACTIVE = False\n",
    "\n",
    "BOND_LENGTH = 1.46 # in Angstroms\n",
    "PASSIVANT = \"H\" # Chemical symbol of the passivant\n",
    "COORDINATION_SEARCH_RADIUS = 2.5 # in Angstroms (sphere in which to search for neighbors)\n",
    "COORDINATION_THRESHOLD = 3 # Coordination number below which to passivate\n",
    "MAX_BONDS_TO_SATURATE = 2 # Maximum number of bonds to saturate"
   ],
   "metadata": {
    "collapsed": false,
    "ExecuteTime": {
     "end_time": "2024-12-04T23:43:26.032021Z",
     "start_time": "2024-12-04T23:43:26.029023Z"
    }
   },
   "id": "f704e7abe8fbe895",
   "execution_count": 100
  },
  {
   "cell_type": "markdown",
   "source": [
    " ### 1.2. Install packages\n",
    "The step executes only in Pyodide environment. For other environments, the packages should be installed via `pip install` (see [README](../../README.ipynb))."
   ],
   "metadata": {
    "collapsed": false
   },
   "id": "aca8179cd83de117"
  },
  {
   "cell_type": "code",
   "outputs": [],
   "source": [
    "import sys\n",
    "\n",
    "if sys.platform == \"emscripten\":\n",
    "    import micropip\n",
    "\n",
    "    await micropip.install('mat3ra-api-examples', deps=False)\n",
    "    from utils.jupyterlite import install_packages\n",
    "\n",
    "    await install_packages(\"specific_examples\")"
   ],
   "metadata": {
    "collapsed": false,
    "ExecuteTime": {
     "end_time": "2024-12-04T23:43:26.071498Z",
     "start_time": "2024-12-04T23:43:26.068427Z"
    }
   },
   "id": "37904650f2478a1d",
   "execution_count": 101
  },
  {
   "cell_type": "markdown",
   "source": [
    "## 2. Create the Silicon Nanowire\n",
    "### 2.1. Get input material\n",
    "Import the Silicon from Standata"
   ],
   "metadata": {
    "collapsed": false
   },
   "id": "25ed776c9802142e"
  },
  {
   "cell_type": "code",
   "outputs": [],
   "source": [
    "from mat3ra.standata.materials import Materials\n",
    "from mat3ra.made.material import Material\n",
    "\n",
    "silicon = Material(Materials.get_by_name_first_match('Silicon'))"
   ],
   "metadata": {
    "collapsed": false,
    "ExecuteTime": {
     "end_time": "2024-12-04T23:43:26.088211Z",
     "start_time": "2024-12-04T23:43:26.085132Z"
    }
   },
   "id": "6d48372afc12056e",
   "execution_count": 102
  },
  {
   "cell_type": "markdown",
   "source": [
    "### 2.2. Create a silicon nanowire"
   ],
   "metadata": {
    "collapsed": false
   },
   "id": "602e2ef359ef1b83"
  },
  {
   "cell_type": "code",
   "outputs": [
    {
     "data": {
      "text/plain": "GridBox(children=(VBox(children=(Label(value='Si96 - Material - rotation: 0x,0y,0z', layout=Layout(align_self=…",
      "application/vnd.jupyter.widget-view+json": {
       "version_major": 2,
       "version_minor": 0,
       "model_id": "c2d032b19c0846db90fa8d39f225ab72"
      }
     },
     "metadata": {},
     "output_type": "display_data"
    },
    {
     "data": {
      "text/plain": "GridBox(children=(VBox(children=(Label(value='Si54 - Material - rotation: 0x,0y,0z', layout=Layout(align_self=…",
      "application/vnd.jupyter.widget-view+json": {
       "version_major": 2,
       "version_minor": 0,
       "model_id": "42c9e4e06c404cff96464baf83c0918c"
      }
     },
     "metadata": {},
     "output_type": "display_data"
    }
   ],
   "source": [
    "from mat3ra.made.tools.build.supercell import create_supercell\n",
    "from mat3ra.made.tools.modify import rotate, filter_by_box, add_vacuum_sides\n",
    "from mat3ra.made.tools.build.slab import create_slab, SlabConfiguration\n",
    "\n",
    "slab_config = SlabConfiguration(bulk=silicon, miller_indices=(1,1,0), thickness=2, vacuum=0, use_orthogonal_z=True, use_conventional_cell=True, xy_supercell_matrix=[[3,0],[0,2]], make_primitive=False) \n",
    "silicon_slab = create_slab(slab_config)\n",
    "visualize_materials([{\"material\": silicon_slab}, {\"material\": silicon_slab, \"rotation\": \"-90x\"}])\n",
    "\n",
    "supercell = create_supercell(silicon, scaling_factor=[3,3,3])\n",
    "visualize_materials([{\"material\": supercell}, {\"material\": supercell, \"rotation\": \"-90x\"}])\n",
    "# slab_config_2 = SlabConfiguration(bulk=silicon_slab, miller_indices=(0,0,1), thickness=4, vacuum=0, use_orthogonal_z=True, use_conventional_cell=False, xy_supercell_matrix=[[3,0],[0,3]], make_primitive=False)\n",
    "# silicon_slab = create_slab(slab_config_2)\n",
    "# silicon_slab = create_supercell(silicon_slab, scaling_factor= [1,1,1])\n",
    "nanowire_xy_pbc = add_vacuum_sides(silicon_slab, 10.0, on_x=True, on_y=True)"
   ],
   "metadata": {
    "collapsed": false,
    "ExecuteTime": {
     "end_time": "2024-12-05T00:28:38.329951Z",
     "start_time": "2024-12-05T00:28:37.825049Z"
    }
   },
   "id": "f8431fd833f6ed",
   "execution_count": 133
  },
  {
   "cell_type": "markdown",
   "source": [
    "### 2.3. Visualize the Material"
   ],
   "metadata": {
    "collapsed": false
   },
   "id": "ea153d126ac5695d"
  },
  {
   "cell_type": "code",
   "outputs": [
    {
     "data": {
      "text/plain": "GridBox(children=(VBox(children=(Label(value='Si192 - Material - rotation: 0x,0y,0z', layout=Layout(align_self…",
      "application/vnd.jupyter.widget-view+json": {
       "version_major": 2,
       "version_minor": 0,
       "model_id": "cbfb30ab25464141894299a46cd332b1"
      }
     },
     "metadata": {},
     "output_type": "display_data"
    },
    {
     "name": "stdout",
     "output_type": "stream",
     "text": [
      "Data for materials written to uploads/Si8(110), termination Si_Pmma_4, Slab.json\n"
     ]
    }
   ],
   "source": [
    "from utils.visualize import visualize_materials\n",
    "\n",
    "visualize_materials([{\"material\": nanowire_xy_pbc}, {\"material\": nanowire_xy_pbc, \"rotation\": \"-90x\"}])\n",
    "set_materials([nanowire_xy_pbc])"
   ],
   "metadata": {
    "collapsed": false,
    "ExecuteTime": {
     "end_time": "2024-12-04T23:55:10.353606Z",
     "start_time": "2024-12-04T23:55:09.908561Z"
    }
   },
   "id": "76a4b4b6318d2549",
   "execution_count": 122
  },
  {
   "cell_type": "markdown",
   "source": [
    "### 2.4. Compute the radial distribution function (RDF) of the Material"
   ],
   "metadata": {
    "collapsed": false
   },
   "id": "4eb261774078348f"
  },
  {
   "cell_type": "code",
   "outputs": [
    {
     "data": {
      "text/plain": "<Figure size 800x500 with 1 Axes>",
      "image/png": "[encoded data removed]"
     },
     "metadata": {},
     "output_type": "display_data"
    }
   ],
   "source": [
    "from utils.plot import plot_rdf\n",
    "\n",
    "plot_rdf(nanowire_xy_pbc, cutoff=10.0)"
   ],
   "metadata": {
    "collapsed": false,
    "ExecuteTime": {
     "end_time": "2024-12-04T23:43:26.717143Z",
     "start_time": "2024-12-04T23:43:26.522192Z"
    }
   },
   "id": "bb206aac50a38bb6",
   "execution_count": 105
  },
  {
   "cell_type": "markdown",
   "source": [
    "## 3. Create passivated material\n",
    "### 3.1. Set the passivation parameters including the coordination threshold"
   ],
   "metadata": {
    "collapsed": false
   },
   "id": "a79faa88a33c8fdb"
  },
  {
   "cell_type": "code",
   "outputs": [
    {
     "name": "stdout",
     "output_type": "stream",
     "text": [
      "Unique coordination numbers: [1, 2, 3]\n",
      "Unique coordination numbers: [1, 2, 3]\n"
     ]
    }
   ],
   "source": [
    "from utils.io import select_coordination_threshold\n",
    "from mat3ra.made.tools.build.passivation import get_unique_coordination_numbers, PassivationConfiguration\n",
    "from mat3ra.made.tools.build.passivation.builders import CoordinationBasedPassivationBuilder, \\\n",
    "    CoordinationBasedPassivationBuilderParameters\n",
    "\n",
    "config = PassivationConfiguration(\n",
    "    slab=nanowire_xy_pbc,\n",
    "    passivant=PASSIVANT,\n",
    "    bond_length=BOND_LENGTH\n",
    ")\n",
    "builder_params = CoordinationBasedPassivationBuilderParameters(\n",
    "    shadowing_radius=COORDINATION_SEARCH_RADIUS,\n",
    "    coordination_threshold=0,\n",
    ")\n",
    "passivation_builder = CoordinationBasedPassivationBuilder(builder_params)\n",
    "\n",
    "coordination_numbers     = sorted(list(passivation_builder.get_unique_coordination_numbers(nanowire_xy_pbc)))\n",
    "print(f\"Unique coordination numbers: {coordination_numbers}\")\n",
    "coordination_numbers = sorted(list(get_unique_coordination_numbers(config, builder_params)))\n",
    "print(f\"Unique coordination numbers: {coordination_numbers}\")\n",
    "\n",
    "coordination_threshold = COORDINATION_THRESHOLD\n",
    "if IS_COORDINATION_SELECTION_INTERACTIVE:\n",
    "    coordination_threshold = await select_coordination_threshold(coordination_numbers, COORDINATION_THRESHOLD)"
   ],
   "metadata": {
    "collapsed": false,
    "ExecuteTime": {
     "end_time": "2024-12-04T23:43:26.882325Z",
     "start_time": "2024-12-04T23:43:26.718711Z"
    }
   },
   "id": "7b80ee26896bbbfb",
   "execution_count": 106
  },
  {
   "cell_type": "markdown",
   "source": [
    "### 3.2. Create the passivated material"
   ],
   "metadata": {
    "collapsed": false
   },
   "id": "47744926ab328a82"
  },
  {
   "cell_type": "code",
   "outputs": [],
   "source": [
    "from mat3ra.made.tools.build.passivation import CoordinationBasedPassivationBuilderParameters, CoordinationBasedPassivationBuilder, create_passivation\n",
    "params = CoordinationBasedPassivationBuilderParameters(\n",
    "    shadowing_radius=COORDINATION_SEARCH_RADIUS, \n",
    "    coordination_threshold=coordination_threshold,    \n",
    "    bonds_to_passivate=MAX_BONDS_TO_SATURATE\n",
    ")\n",
    "\n",
    "passivation_builder = CoordinationBasedPassivationBuilder(params)\n",
    "passivated_nanowire = create_passivation(config, passivation_builder)"
   ],
   "metadata": {
    "collapsed": false,
    "ExecuteTime": {
     "end_time": "2024-12-04T23:43:27.578617Z",
     "start_time": "2024-12-04T23:43:26.884310Z"
    }
   },
   "id": "398b2dedef23e0fc",
   "execution_count": 107
  },
  {
   "cell_type": "markdown",
   "source": [
    "## 4. Preview the Material"
   ],
   "metadata": {
    "collapsed": false
   },
   "id": "2b1a300ab807ce6d"
  },
  {
   "cell_type": "code",
   "outputs": [
    {
     "data": {
      "text/plain": "GridBox(children=(VBox(children=(Label(value='H80Si72 - Material - rotation: 0x,0y,0z', layout=Layout(align_se…",
      "application/vnd.jupyter.widget-view+json": {
       "version_major": 2,
       "version_minor": 0,
       "model_id": "58ec5f311e7c416e9152d2af03cea9ce"
      }
     },
     "metadata": {},
     "output_type": "display_data"
    }
   ],
   "source": [
    "visualize_materials([{\"material\": passivated_nanowire}, {\"material\": passivated_nanowire, \"rotation\": \"-90x\"}])"
   ],
   "metadata": {
    "collapsed": false,
    "ExecuteTime": {
     "end_time": "2024-12-04T23:43:27.900741Z",
     "start_time": "2024-12-04T23:43:27.579845Z"
    }
   },
   "id": "cb85e7e42c0944f2",
   "execution_count": 108
  },
  {
   "cell_type": "markdown",
   "source": [
    "## 5. Download the Material"
   ],
   "metadata": {
    "collapsed": false
   },
   "id": "5d7fa9201651fa72"
  },
  {
   "cell_type": "code",
   "outputs": [
    {
     "data": {
      "text/plain": "<IPython.core.display.Javascript object>",
      "application/javascript": "\n    var content = `{'name': 'H-Passivated Silicon Nanowire', 'basis': {'elements': [{'id': 0, 'value': 'Si'}, {'id': 1, 'value': 'Si'}, {'id': 2, 'value': 'Si'}, {'id': 3, 'value': 'Si'}, {'id': 4, 'value': 'Si'}, {'id': 5, 'value': 'Si'}, {'id': 6, 'value': 'Si'}, {'id': 7, 'value': 'Si'}, {'id': 8, 'value': 'Si'}, {'id': 9, 'value': 'Si'}, {'id': 10, 'value': 'Si'}, {'id': 11, 'value': 'Si'}, {'id': 12, 'value': 'Si'}, {'id': 13, 'value': 'Si'}, {'id': 14, 'value': 'Si'}, {'id': 15, 'value': 'Si'}, {'id': 16, 'value': 'Si'}, {'id': 17, 'value': 'Si'}, {'id': 18, 'value': 'Si'}, {'id': 19, 'value': 'Si'}, {'id': 20, 'value': 'Si'}, {'id': 21, 'value': 'Si'}, {'id': 22, 'value': 'Si'}, {'id': 23, 'value': 'Si'}, {'id': 24, 'value': 'Si'}, {'id': 25, 'value': 'Si'}, {'id': 26, 'value': 'Si'}, {'id': 27, 'value': 'Si'}, {'id': 28, 'value': 'Si'}, {'id': 29, 'value': 'Si'}, {'id': 30, 'value': 'Si'}, {'id': 31, 'value': 'Si'}, {'id': 32, 'value': 'Si'}, {'id': 33, 'value': 'Si'}, {'id': 34, 'value': 'Si'}, {'id': 35, 'value': 'Si'}, {'id': 36, 'value': 'Si'}, {'id': 37, 'value': 'Si'}, {'id': 38, 'value': 'Si'}, {'id': 39, 'value': 'Si'}, {'id': 40, 'value': 'Si'}, {'id': 41, 'value': 'Si'}, {'id': 42, 'value': 'Si'}, {'id': 43, 'value': 'Si'}, {'id': 44, 'value': 'Si'}, {'id': 45, 'value': 'Si'}, {'id': 46, 'value': 'Si'}, {'id': 47, 'value': 'Si'}, {'id': 48, 'value': 'Si'}, {'id': 49, 'value': 'Si'}, {'id': 50, 'value': 'Si'}, {'id': 51, 'value': 'Si'}, {'id': 52, 'value': 'Si'}, {'id': 53, 'value': 'Si'}, {'id': 54, 'value': 'Si'}, {'id': 55, 'value': 'Si'}, {'id': 56, 'value': 'Si'}, {'id': 57, 'value': 'Si'}, {'id': 58, 'value': 'Si'}, {'id': 59, 'value': 'Si'}, {'id': 60, 'value': 'Si'}, {'id': 61, 'value': 'Si'}, {'id': 62, 'value': 'Si'}, {'id': 63, 'value': 'Si'}, {'id': 64, 'value': 'Si'}, {'id': 65, 'value': 'Si'}, {'id': 66, 'value': 'Si'}, {'id': 67, 'value': 'Si'}, {'id': 68, 'value': 'Si'}, {'id': 69, 'value': 'Si'}, {'id': 70, 'value': 'Si'}, {'id': 71, 'value': 'Si'}, {'id': 72, 'value': 'H'}, {'id': 73, 'value': 'H'}, {'id': 74, 'value': 'H'}, {'id': 75, 'value': 'H'}, {'id': 76, 'value': 'H'}, {'id': 77, 'value': 'H'}, {'id': 78, 'value': 'H'}, {'id': 79, 'value': 'H'}, {'id': 80, 'value': 'H'}, {'id': 81, 'value': 'H'}, {'id': 82, 'value': 'H'}, {'id': 83, 'value': 'H'}, {'id': 84, 'value': 'H'}, {'id': 85, 'value': 'H'}, {'id': 86, 'value': 'H'}, {'id': 87, 'value': 'H'}, {'id': 88, 'value': 'H'}, {'id': 89, 'value': 'H'}, {'id': 90, 'value': 'H'}, {'id': 91, 'value': 'H'}, {'id': 92, 'value': 'H'}, {'id': 93, 'value': 'H'}, {'id': 94, 'value': 'H'}, {'id': 95, 'value': 'H'}, {'id': 96, 'value': 'H'}, {'id': 97, 'value': 'H'}, {'id': 98, 'value': 'H'}, {'id': 99, 'value': 'H'}, {'id': 100, 'value': 'H'}, {'id': 101, 'value': 'H'}, {'id': 102, 'value': 'H'}, {'id': 103, 'value': 'H'}, {'id': 104, 'value': 'H'}, {'id': 105, 'value': 'H'}, {'id': 106, 'value': 'H'}, {'id': 107, 'value': 'H'}, {'id': 108, 'value': 'H'}, {'id': 109, 'value': 'H'}, {'id': 110, 'value': 'H'}, {'id': 111, 'value': 'H'}, {'id': 112, 'value': 'H'}, {'id': 113, 'value': 'H'}, {'id': 114, 'value': 'H'}, {'id': 115, 'value': 'H'}, {'id': 116, 'value': 'H'}, {'id': 117, 'value': 'H'}, {'id': 118, 'value': 'H'}, {'id': 119, 'value': 'H'}, {'id': 120, 'value': 'H'}, {'id': 121, 'value': 'H'}, {'id': 122, 'value': 'H'}, {'id': 123, 'value': 'H'}, {'id': 124, 'value': 'H'}, {'id': 125, 'value': 'H'}, {'id': 126, 'value': 'H'}, {'id': 127, 'value': 'H'}, {'id': 128, 'value': 'H'}, {'id': 129, 'value': 'H'}, {'id': 130, 'value': 'H'}, {'id': 131, 'value': 'H'}, {'id': 132, 'value': 'H'}, {'id': 133, 'value': 'H'}, {'id': 134, 'value': 'H'}, {'id': 135, 'value': 'H'}, {'id': 136, 'value': 'H'}, {'id': 137, 'value': 'H'}, {'id': 138, 'value': 'H'}, {'id': 139, 'value': 'H'}, {'id': 140, 'value': 'H'}, {'id': 141, 'value': 'H'}, {'id': 142, 'value': 'H'}, {'id': 143, 'value': 'H'}, {'id': 144, 'value': 'H'}, {'id': 145, 'value': 'H'}, {'id': 146, 'value': 'H'}, {'id': 147, 'value': 'H'}, {'id': 148, 'value': 'H'}, {'id': 149, 'value': 'H'}, {'id': 150, 'value': 'H'}, {'id': 151, 'value': 'H'}], 'coordinates': [{'id': 0, 'value': [0.413514769, 0.399664219, 0.03125]}, {'id': 1, 'value': [0.471171589, 0.359529908, 0.21875]}, {'id': 2, 'value': [0.413514769, 0.399664219, 0.28125]}, {'id': 3, 'value': [0.471171589, 0.359529908, 0.46875]}, {'id': 4, 'value': [0.413514769, 0.399664219, 0.53125]}, {'id': 5, 'value': [0.471171589, 0.359529908, 0.71875]}, {'id': 6, 'value': [0.413514769, 0.399664219, 0.78125]}, {'id': 7, 'value': [0.471171589, 0.359529908, 0.96875]}, {'id': 8, 'value': [0.355857949, 0.520067153, 0.03125]}, {'id': 9, 'value': [0.413514769, 0.479932842, 0.21875]}, {'id': 10, 'value': [0.355857949, 0.520067153, 0.28125]}, {'id': 11, 'value': [0.413514769, 0.479932842, 0.46875]}, {'id': 12, 'value': [0.355857949, 0.520067153, 0.53125]}, {'id': 13, 'value': [0.413514769, 0.479932842, 0.71875]}, {'id': 14, 'value': [0.355857949, 0.520067153, 0.78125]}, {'id': 15, 'value': [0.413514769, 0.479932842, 0.96875]}, {'id': 16, 'value': [0.298201129, 0.640470087, 0.03125]}, {'id': 17, 'value': [0.355857949, 0.600335776, 0.21875]}, {'id': 18, 'value': [0.298201129, 0.640470087, 0.28125]}, {'id': 19, 'value': [0.355857949, 0.600335776, 0.46875]}, {'id': 20, 'value': [0.298201129, 0.640470087, 0.53125]}, {'id': 21, 'value': [0.355857949, 0.600335776, 0.71875]}, {'id': 22, 'value': [0.298201129, 0.640470087, 0.78125]}, {'id': 23, 'value': [0.355857949, 0.600335776, 0.96875]}, {'id': 24, 'value': [0.528828409, 0.399664219, 0.03125]}, {'id': 25, 'value': [0.586485229, 0.359529908, 0.21875]}, {'id': 26, 'value': [0.528828409, 0.399664219, 0.28125]}, {'id': 27, 'value': [0.586485229, 0.359529908, 0.46875]}, {'id': 28, 'value': [0.528828409, 0.399664219, 0.53125]}, {'id': 29, 'value': [0.586485229, 0.359529908, 0.71875]}, {'id': 30, 'value': [0.528828409, 0.399664219, 0.78125]}, {'id': 31, 'value': [0.586485229, 0.359529908, 0.96875]}, {'id': 32, 'value': [0.471171589, 0.520067153, 0.03125]}, {'id': 33, 'value': [0.528828409, 0.479932842, 0.21875]}, {'id': 34, 'value': [0.471171589, 0.520067153, 0.28125]}, {'id': 35, 'value': [0.528828409, 0.479932842, 0.46875]}, {'id': 36, 'value': [0.471171589, 0.520067153, 0.53125]}, {'id': 37, 'value': [0.528828409, 0.479932842, 0.71875]}, {'id': 38, 'value': [0.471171589, 0.520067153, 0.78125]}, {'id': 39, 'value': [0.528828409, 0.479932842, 0.96875]}, {'id': 40, 'value': [0.413514769, 0.640470087, 0.03125]}, {'id': 41, 'value': [0.471171589, 0.600335776, 0.21875]}, {'id': 42, 'value': [0.413514769, 0.640470087, 0.28125]}, {'id': 43, 'value': [0.471171589, 0.600335776, 0.46875]}, {'id': 44, 'value': [0.413514769, 0.640470087, 0.53125]}, {'id': 45, 'value': [0.471171589, 0.600335776, 0.71875]}, {'id': 46, 'value': [0.413514769, 0.640470087, 0.78125]}, {'id': 47, 'value': [0.471171589, 0.600335776, 0.96875]}, {'id': 48, 'value': [0.644142049, 0.399664219, 0.03125]}, {'id': 49, 'value': [0.701798868, 0.359529908, 0.21875]}, {'id': 50, 'value': [0.644142049, 0.399664219, 0.28125]}, {'id': 51, 'value': [0.701798868, 0.359529908, 0.46875]}, {'id': 52, 'value': [0.644142049, 0.399664219, 0.53125]}, {'id': 53, 'value': [0.701798868, 0.359529908, 0.71875]}, {'id': 54, 'value': [0.644142049, 0.399664219, 0.78125]}, {'id': 55, 'value': [0.701798868, 0.359529908, 0.96875]}, {'id': 56, 'value': [0.586485229, 0.520067153, 0.03125]}, {'id': 57, 'value': [0.644142049, 0.479932842, 0.21875]}, {'id': 58, 'value': [0.586485229, 0.520067153, 0.28125]}, {'id': 59, 'value': [0.644142049, 0.479932842, 0.46875]}, {'id': 60, 'value': [0.586485229, 0.520067153, 0.53125]}, {'id': 61, 'value': [0.644142049, 0.479932842, 0.71875]}, {'id': 62, 'value': [0.586485229, 0.520067153, 0.78125]}, {'id': 63, 'value': [0.644142049, 0.479932842, 0.96875]}, {'id': 64, 'value': [0.528828409, 0.640470087, 0.03125]}, {'id': 65, 'value': [0.586485229, 0.600335776, 0.21875]}, {'id': 66, 'value': [0.528828409, 0.640470087, 0.28125]}, {'id': 67, 'value': [0.586485229, 0.600335776, 0.46875]}, {'id': 68, 'value': [0.528828409, 0.640470087, 0.53125]}, {'id': 69, 'value': [0.586485229, 0.600335776, 0.71875]}, {'id': 70, 'value': [0.528828409, 0.640470087, 0.78125]}, {'id': 71, 'value': [0.586485229, 0.600335776, 0.96875]}, {'id': 72, 'value': [0.37796666, 0.374919551, -0.007284154]}, {'id': 73, 'value': [0.471171589, 0.310040573, 0.257284153]}, {'id': 74, 'value': [0.37796666, 0.374919551, 0.242715846]}, {'id': 75, 'value': [0.471171589, 0.310040573, 0.507284153]}, {'id': 76, 'value': [0.37796666, 0.374919551, 0.492715846]}, {'id': 77, 'value': [0.471171589, 0.310040573, 0.757284153]}, {'id': 78, 'value': [0.37796666, 0.374919551, 0.742715846]}, {'id': 79, 'value': [0.471171589, 0.310040573, 1.007284153]}, {'id': 80, 'value': [0.32030984, 0.495322485, -0.007284154]}, {'id': 81, 'value': [0.413514769, 0.479932843, 0.10314754]}, {'id': 82, 'value': [0.32030984, 0.495322485, 0.242715846]}, {'id': 83, 'value': [0.413514769, 0.479932843, 0.35314754]}, {'id': 84, 'value': [0.32030984, 0.495322485, 0.492715846]}, {'id': 85, 'value': [0.413514769, 0.479932843, 0.60314754]}, {'id': 86, 'value': [0.32030984, 0.495322485, 0.742715846]}, {'id': 87, 'value': [0.413514769, 0.479932843, 0.85314754]}, {'id': 88, 'value': [0.26265302, 0.615725419, -0.007284154]}, {'id': 89, 'value': [0.298201129, 0.689959422, -0.007284153]}, {'id': 90, 'value': [0.355857949, 0.600335777, 0.10314754]}, {'id': 91, 'value': [0.26265302, 0.615725419, 0.242715846]}, {'id': 92, 'value': [0.298201129, 0.689959422, 0.242715847]}, {'id': 93, 'value': [0.355857949, 0.600335777, 0.35314754]}, {'id': 94, 'value': [0.26265302, 0.615725419, 0.492715846]}, {'id': 95, 'value': [0.298201129, 0.689959422, 0.492715847]}, {'id': 96, 'value': [0.355857949, 0.600335777, 0.60314754]}, {'id': 97, 'value': [0.26265302, 0.615725419, 0.742715846]}, {'id': 98, 'value': [0.298201129, 0.689959422, 0.742715847]}, {'id': 99, 'value': [0.355857949, 0.600335777, 0.85314754]}, {'id': 100, 'value': [0.528828409, 0.399664218, 0.14685246]}, {'id': 101, 'value': [0.586485229, 0.310040573, 0.257284153]}, {'id': 102, 'value': [0.528828409, 0.399664218, 0.39685246]}, {'id': 103, 'value': [0.586485229, 0.310040573, 0.507284153]}, {'id': 104, 'value': [0.528828409, 0.399664218, 0.64685246]}, {'id': 105, 'value': [0.586485229, 0.310040573, 0.757284153]}, {'id': 106, 'value': [0.528828409, 0.399664218, 0.89685246]}, {'id': 107, 'value': [0.586485229, 0.310040573, 1.007284153]}, {'id': 108, 'value': [0.471171589, 0.520067152, 0.14685246]}, {'id': 109, 'value': [0.528828409, 0.479932843, 0.10314754]}, {'id': 110, 'value': [0.471171589, 0.520067152, 0.39685246]}, {'id': 111, 'value': [0.528828409, 0.479932843, 0.35314754]}, {'id': 112, 'value': [0.471171589, 0.520067152, 0.64685246]}, {'id': 113, 'value': [0.528828409, 0.479932843, 0.60314754]}, {'id': 114, 'value': [0.471171589, 0.520067152, 0.89685246]}, {'id': 115, 'value': [0.528828409, 0.479932843, 0.85314754]}, {'id': 116, 'value': [0.413514769, 0.689959422, -0.007284153]}, {'id': 117, 'value': [0.471171589, 0.600335777, 0.10314754]}, {'id': 118, 'value': [0.413514769, 0.689959422, 0.242715847]}, {'id': 119, 'value': [0.471171589, 0.600335777, 0.35314754]}, {'id': 120, 'value': [0.413514769, 0.689959422, 0.492715847]}, {'id': 121, 'value': [0.471171589, 0.600335777, 0.60314754]}, {'id': 122, 'value': [0.413514769, 0.689959422, 0.742715847]}, {'id': 123, 'value': [0.471171589, 0.600335777, 0.85314754]}, {'id': 124, 'value': [0.64414205, 0.399664218, 0.14685246]}, {'id': 125, 'value': [0.737346977, 0.384274576, 0.257284154]}, {'id': 126, 'value': [0.701798868, 0.310040573, 0.257284153]}, {'id': 127, 'value': [0.64414205, 0.399664218, 0.39685246]}, {'id': 128, 'value': [0.737346977, 0.384274576, 0.507284154]}, {'id': 129, 'value': [0.701798868, 0.310040573, 0.507284153]}, {'id': 130, 'value': [0.64414205, 0.399664218, 0.64685246]}, {'id': 131, 'value': [0.737346977, 0.384274576, 0.757284154]}, {'id': 132, 'value': [0.701798868, 0.310040573, 0.757284153]}, {'id': 133, 'value': [0.64414205, 0.399664218, 0.89685246]}, {'id': 134, 'value': [0.737346977, 0.384274576, 1.007284154]}, {'id': 135, 'value': [0.701798868, 0.310040573, 1.007284153]}, {'id': 136, 'value': [0.586485229, 0.520067152, 0.14685246]}, {'id': 137, 'value': [0.679690158, 0.50467751, 0.257284154]}, {'id': 138, 'value': [0.586485229, 0.520067152, 0.39685246]}, {'id': 139, 'value': [0.679690158, 0.50467751, 0.507284154]}, {'id': 140, 'value': [0.586485229, 0.520067152, 0.64685246]}, {'id': 141, 'value': [0.679690158, 0.50467751, 0.757284154]}, {'id': 142, 'value': [0.586485229, 0.520067152, 0.89685246]}, {'id': 143, 'value': [0.679690158, 0.50467751, 1.007284154]}, {'id': 144, 'value': [0.528828409, 0.689959422, -0.007284153]}, {'id': 145, 'value': [0.622033338, 0.625080444, 0.257284154]}, {'id': 146, 'value': [0.528828409, 0.689959422, 0.242715847]}, {'id': 147, 'value': [0.622033338, 0.625080444, 0.507284154]}, {'id': 148, 'value': [0.528828409, 0.689959422, 0.492715847]}, {'id': 149, 'value': [0.622033338, 0.625080444, 0.757284154]}, {'id': 150, 'value': [0.528828409, 0.689959422, 0.742715847]}, {'id': 151, 'value': [0.622033338, 0.625080444, 1.007284154]}], 'units': 'crystal', 'cell': [[33.534414, 0.0, 0.0], [-0.0, 27.814098, 0.0], [0.0, 0.0, 12.629489]], 'labels': []}, 'lattice': {'a': 33.53441367, 'b': 27.814097668, 'c': 12.629488552, 'alpha': 90.0, 'beta': 90.0, 'gamma': 90.0, 'units': {'length': 'angstrom', 'angle': 'degree'}, 'type': 'TRI', 'vectors': {'a': [33.53441367, 0.0, 0.0], 'b': [-0.0, 27.814097668, 0.0], 'c': [0.0, 0.0, 12.629488552], 'alat': 1, 'units': 'angstrom'}}, 'isNonPeriodic': False, '_id': '', 'metadata': {'boundaryConditions': {'type': 'pbc', 'offset': 0}, 'build': {'termination': 'Si_P6/mmm_1', 'configuration': {'type': 'PassivationConfiguration', 'slab': {'name': 'Si2(001), termination Si_P6/mmm_1, Slab', 'basis': {'elements': [{'id': 0, 'value': 'Si'}, {'id': 1, 'value': 'Si'}, {'id': 2, 'value': 'Si'}, {'id': 3, 'value': 'Si'}, {'id': 4, 'value': 'Si'}, {'id': 5, 'value': 'Si'}, {'id': 6, 'value': 'Si'}, {'id': 7, 'value': 'Si'}, {'id': 8, 'value': 'Si'}, {'id': 9, 'value': 'Si'}, {'id': 10, 'value': 'Si'}, {'id': 11, 'value': 'Si'}, {'id': 12, 'value': 'Si'}, {'id': 13, 'value': 'Si'}, {'id': 14, 'value': 'Si'}, {'id': 15, 'value': 'Si'}, {'id': 16, 'value': 'Si'}, {'id': 17, 'value': 'Si'}, {'id': 18, 'value': 'Si'}, {'id': 19, 'value': 'Si'}, {'id': 20, 'value': 'Si'}, {'id': 21, 'value': 'Si'}, {'id': 22, 'value': 'Si'}, {'id': 23, 'value': 'Si'}, {'id': 24, 'value': 'Si'}, {'id': 25, 'value': 'Si'}, {'id': 26, 'value': 'Si'}, {'id': 27, 'value': 'Si'}, {'id': 28, 'value': 'Si'}, {'id': 29, 'value': 'Si'}, {'id': 30, 'value': 'Si'}, {'id': 31, 'value': 'Si'}, {'id': 32, 'value': 'Si'}, {'id': 33, 'value': 'Si'}, {'id': 34, 'value': 'Si'}, {'id': 35, 'value': 'Si'}, {'id': 36, 'value': 'Si'}, {'id': 37, 'value': 'Si'}, {'id': 38, 'value': 'Si'}, {'id': 39, 'value': 'Si'}, {'id': 40, 'value': 'Si'}, {'id': 41, 'value': 'Si'}, {'id': 42, 'value': 'Si'}, {'id': 43, 'value': 'Si'}, {'id': 44, 'value': 'Si'}, {'id': 45, 'value': 'Si'}, {'id': 46, 'value': 'Si'}, {'id': 47, 'value': 'Si'}, {'id': 48, 'value': 'Si'}, {'id': 49, 'value': 'Si'}, {'id': 50, 'value': 'Si'}, {'id': 51, 'value': 'Si'}, {'id': 52, 'value': 'Si'}, {'id': 53, 'value': 'Si'}, {'id': 54, 'value': 'Si'}, {'id': 55, 'value': 'Si'}, {'id': 56, 'value': 'Si'}, {'id': 57, 'value': 'Si'}, {'id': 58, 'value': 'Si'}, {'id': 59, 'value': 'Si'}, {'id': 60, 'value': 'Si'}, {'id': 61, 'value': 'Si'}, {'id': 62, 'value': 'Si'}, {'id': 63, 'value': 'Si'}, {'id': 64, 'value': 'Si'}, {'id': 65, 'value': 'Si'}, {'id': 66, 'value': 'Si'}, {'id': 67, 'value': 'Si'}, {'id': 68, 'value': 'Si'}, {'id': 69, 'value': 'Si'}, {'id': 70, 'value': 'Si'}, {'id': 71, 'value': 'Si'}], 'coordinates': [{'id': 0, 'value': [0.413514769, 0.399664219, 0.03125]}, {'id': 1, 'value': [0.471171589, 0.359529908, 0.21875]}, {'id': 2, 'value': [0.413514769, 0.399664219, 0.28125]}, {'id': 3, 'value': [0.471171589, 0.359529908, 0.46875]}, {'id': 4, 'value': [0.413514769, 0.399664219, 0.53125]}, {'id': 5, 'value': [0.471171589, 0.359529908, 0.71875]}, {'id': 6, 'value': [0.413514769, 0.399664219, 0.78125]}, {'id': 7, 'value': [0.471171589, 0.359529908, 0.96875]}, {'id': 8, 'value': [0.355857949, 0.520067153, 0.03125]}, {'id': 9, 'value': [0.413514769, 0.479932842, 0.21875]}, {'id': 10, 'value': [0.355857949, 0.520067153, 0.28125]}, {'id': 11, 'value': [0.413514769, 0.479932842, 0.46875]}, {'id': 12, 'value': [0.355857949, 0.520067153, 0.53125]}, {'id': 13, 'value': [0.413514769, 0.479932842, 0.71875]}, {'id': 14, 'value': [0.355857949, 0.520067153, 0.78125]}, {'id': 15, 'value': [0.413514769, 0.479932842, 0.96875]}, {'id': 16, 'value': [0.298201129, 0.640470087, 0.03125]}, {'id': 17, 'value': [0.355857949, 0.600335776, 0.21875]}, {'id': 18, 'value': [0.298201129, 0.640470087, 0.28125]}, {'id': 19, 'value': [0.355857949, 0.600335776, 0.46875]}, {'id': 20, 'value': [0.298201129, 0.640470087, 0.53125]}, {'id': 21, 'value': [0.355857949, 0.600335776, 0.71875]}, {'id': 22, 'value': [0.298201129, 0.640470087, 0.78125]}, {'id': 23, 'value': [0.355857949, 0.600335776, 0.96875]}, {'id': 24, 'value': [0.528828409, 0.399664219, 0.03125]}, {'id': 25, 'value': [0.586485229, 0.359529908, 0.21875]}, {'id': 26, 'value': [0.528828409, 0.399664219, 0.28125]}, {'id': 27, 'value': [0.586485229, 0.359529908, 0.46875]}, {'id': 28, 'value': [0.528828409, 0.399664219, 0.53125]}, {'id': 29, 'value': [0.586485229, 0.359529908, 0.71875]}, {'id': 30, 'value': [0.528828409, 0.399664219, 0.78125]}, {'id': 31, 'value': [0.586485229, 0.359529908, 0.96875]}, {'id': 32, 'value': [0.471171589, 0.520067153, 0.03125]}, {'id': 33, 'value': [0.528828409, 0.479932842, 0.21875]}, {'id': 34, 'value': [0.471171589, 0.520067153, 0.28125]}, {'id': 35, 'value': [0.528828409, 0.479932842, 0.46875]}, {'id': 36, 'value': [0.471171589, 0.520067153, 0.53125]}, {'id': 37, 'value': [0.528828409, 0.479932842, 0.71875]}, {'id': 38, 'value': [0.471171589, 0.520067153, 0.78125]}, {'id': 39, 'value': [0.528828409, 0.479932842, 0.96875]}, {'id': 40, 'value': [0.413514769, 0.640470087, 0.03125]}, {'id': 41, 'value': [0.471171589, 0.600335776, 0.21875]}, {'id': 42, 'value': [0.413514769, 0.640470087, 0.28125]}, {'id': 43, 'value': [0.471171589, 0.600335776, 0.46875]}, {'id': 44, 'value': [0.413514769, 0.640470087, 0.53125]}, {'id': 45, 'value': [0.471171589, 0.600335776, 0.71875]}, {'id': 46, 'value': [0.413514769, 0.640470087, 0.78125]}, {'id': 47, 'value': [0.471171589, 0.600335776, 0.96875]}, {'id': 48, 'value': [0.644142049, 0.399664219, 0.03125]}, {'id': 49, 'value': [0.701798868, 0.359529908, 0.21875]}, {'id': 50, 'value': [0.644142049, 0.399664219, 0.28125]}, {'id': 51, 'value': [0.701798868, 0.359529908, 0.46875]}, {'id': 52, 'value': [0.644142049, 0.399664219, 0.53125]}, {'id': 53, 'value': [0.701798868, 0.359529908, 0.71875]}, {'id': 54, 'value': [0.644142049, 0.399664219, 0.78125]}, {'id': 55, 'value': [0.701798868, 0.359529908, 0.96875]}, {'id': 56, 'value': [0.586485229, 0.520067153, 0.03125]}, {'id': 57, 'value': [0.644142049, 0.479932842, 0.21875]}, {'id': 58, 'value': [0.586485229, 0.520067153, 0.28125]}, {'id': 59, 'value': [0.644142049, 0.479932842, 0.46875]}, {'id': 60, 'value': [0.586485229, 0.520067153, 0.53125]}, {'id': 61, 'value': [0.644142049, 0.479932842, 0.71875]}, {'id': 62, 'value': [0.586485229, 0.520067153, 0.78125]}, {'id': 63, 'value': [0.644142049, 0.479932842, 0.96875]}, {'id': 64, 'value': [0.528828409, 0.640470087, 0.03125]}, {'id': 65, 'value': [0.586485229, 0.600335776, 0.21875]}, {'id': 66, 'value': [0.528828409, 0.640470087, 0.28125]}, {'id': 67, 'value': [0.586485229, 0.600335776, 0.46875]}, {'id': 68, 'value': [0.528828409, 0.640470087, 0.53125]}, {'id': 69, 'value': [0.586485229, 0.600335776, 0.71875]}, {'id': 70, 'value': [0.528828409, 0.640470087, 0.78125]}, {'id': 71, 'value': [0.586485229, 0.600335776, 0.96875]}], 'units': 'crystal', 'cell': [[33.53441367, 0.0, 0.0], [-0.0, 27.814097668, 0.0], [0.0, 0.0, 12.629488552]], 'constraints': [], 'labels': []}, 'lattice': {'a': 33.53441367, 'b': 27.814097668, 'c': 12.629488552, 'alpha': 90.0, 'beta': 90.0, 'gamma': 90.0, 'units': {'length': 'angstrom', 'angle': 'degree'}, 'type': 'TRI', 'vectors': {'a': [33.53441367, 0.0, 0.0], 'b': [-0.0, 27.814097668, 0.0], 'c': [0.0, 0.0, 12.629488552], 'alat': 1, 'units': 'angstrom'}}, 'isNonPeriodic': False, '_id': '', 'metadata': {'boundaryConditions': {'type': 'pbc', 'offset': 0}, 'build': {'termination': 'Si_P6/mmm_1', 'configuration': {'type': 'SlabConfiguration', 'bulk': {'name': 'Si2', 'basis': {'elements': [{'id': 0, 'value': 'Si'}, {'id': 1, 'value': 'Si'}], 'coordinates': [{'id': 0, 'value': [0.333333333, 0.666666667, 0.125]}, {'id': 1, 'value': [0.666666667, 0.333333333, 0.875]}], 'units': 'crystal', 'cell': [[1.933487667, -3.348898875, 0.0], [1.933487667, 3.348898875, 0.0], [0.0, 0.0, 3.157372138]], 'constraints': [], 'labels': []}, 'lattice': {'a': 3.866975334, 'b': 3.866975334, 'c': 3.157372138, 'alpha': 90.0, 'beta': 90.0, 'gamma': 120.0, 'units': {'length': 'angstrom', 'angle': 'degree'}, 'type': 'TRI', 'vectors': {'a': [1.933487667, -3.348898875, 0.0], 'b': [1.933487667, 3.348898875, 0.0], 'c': [0.0, 0.0, 3.157372138], 'alat': 1, 'units': 'angstrom'}}, 'isNonPeriodic': False, '_id': '', 'metadata': {'boundaryConditions': {'type': 'pbc', 'offset': 0}}, 'isUpdated': True}, 'miller_indices': (0, 0, 1), 'thickness': 4, 'vacuum': 0.0, 'xy_supercell_matrix': [[3, 0], [0, 3]], 'use_conventional_cell': True, 'use_orthogonal_z': True, 'make_primitive': False}}}, 'isUpdated': True}, 'passivant': 'H', 'bond_length': 1.46, 'surface': 'both'}}}, 'isUpdated': True}`;\n    var filename = `passivated_nanowire.xyz`;\n    var blob = new Blob([content], { type: 'application/json' });\n    var link = document.createElement('a');\n    link.href = window.URL.createObjectURL(blob);\n    link.download = filename;\n    document.body.appendChild(link);\n    link.click();\n    document.body.removeChild(link);\n    "
     },
     "metadata": {},
     "output_type": "display_data"
    },
    {
     "name": "stdout",
     "output_type": "stream",
     "text": [
      "Data for materials written to uploads/H-Passivated Silicon Nanowire.json\n"
     ]
    }
   ],
   "source": [
    "from utils.jupyterlite import download_content_to_file, set_materials\n",
    "passivated_nanowire.name = \"H-Passivated Silicon Nanowire\"\n",
    "download_content_to_file(passivated_nanowire, \"passivated_nanowire.xyz\")\n",
    "set_materials([passivated_nanowire])"
   ],
   "metadata": {
    "collapsed": false,
    "ExecuteTime": {
     "end_time": "2024-12-04T23:43:27.919472Z",
     "start_time": "2024-12-04T23:43:27.902725Z"
    }
   },
   "id": "13f32826a5011952",
   "execution_count": 109
  },
  {
   "cell_type": "code",
   "outputs": [],
   "source": [],
   "metadata": {
    "collapsed": false,
    "ExecuteTime": {
     "end_time": "2024-12-04T23:43:27.922652Z",
     "start_time": "2024-12-04T23:43:27.920826Z"
    }
   },
   "id": "689f93d38c44e8e3",
   "execution_count": 109
  }
 ],
 "metadata": {
  "kernelspec": {
   "display_name": "Python 3",
   "language": "python",
   "name": "python3"
  },
  "language_info": {
   "codemirror_mode": {
    "name": "ipython",
    "version": 2
   },
   "file_extension": ".py",
   "mimetype": "text/x-python",
   "name": "python",
   "nbconvert_exporter": "python",
   "pygments_lexer": "ipython2",
   "version": "2.7.6"
  }
 },
 "nbformat": 4,
 "nbformat_minor": 5
}
