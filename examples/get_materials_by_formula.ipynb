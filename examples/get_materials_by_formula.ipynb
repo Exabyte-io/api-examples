{
 "cells": [
  {
   "cell_type": "code",
   "execution_count": null,
   "metadata": {},
   "outputs": [],
   "source": [
    "import json\n",
    "import argparse\n",
    "\n",
    "from endpoints.login import LoginEndpoint\n",
    "from endpoints.materials import MaterialEndpoints\n",
    "\n",
    "HOST = 'platform.exabyte.io'\n",
    "PORT = 443\n",
    "SECURE = True\n",
    "\n",
    "\n",
    "def parse_arguments():\n",
    "    parser = argparse.ArgumentParser()\n",
    "    parser.add_argument('-u', '--username', required=True, help='username')\n",
    "    parser.add_argument('-p', '--password', required=True, help='password')\n",
    "    parser.add_argument('-f', '--formula', required=True, help='material formula')\n",
    "    return parser.parse_args()\n",
    "\n",
    "\n",
    "if __name__ == '__main__':\n",
    "    args = parse_arguments()\n",
    "\n",
    "    login_endpoint = LoginEndpoint(HOST, PORT, args.username, args.password, secure=SECURE)\n",
    "    response = login_endpoint.login()\n",
    "    account_id = response[\"X-Account-Id\"]\n",
    "    auth_token = response[\"X-Auth-Token\"]\n",
    "\n",
    "    materials_endpoint = MaterialEndpoints(HOST, PORT, account_id=account_id, auth_token=auth_token, secure=SECURE)\n",
    "    materials = materials_endpoint.list(query={'formula': args.formula})\n",
    "    print json.dumps(materials, indent=4)\n"
   ]
  }
 ],
 "metadata": {
  "kernelspec": {
   "display_name": "Python 2",
   "language": "python",
   "name": "python2"
  },
  "language_info": {
   "codemirror_mode": {
    "name": "ipython",
    "version": 2
   },
   "file_extension": ".py",
   "mimetype": "text/x-python",
   "name": "python",
   "nbconvert_exporter": "python",
   "pygments_lexer": "ipython2",
   "version": "2.7.10"
  }
 },
 "nbformat": 4,
 "nbformat_minor": 2
}
