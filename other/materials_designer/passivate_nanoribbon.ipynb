{
 "cells": [
  {
   "cell_type": "markdown",
   "source": [],
   "metadata": {
    "collapsed": false
   },
   "id": "759c70b8d39addc3"
  },
  {
   "cell_type": "markdown",
   "source": [
    "# Create Nanoribbon Edge Passivation\n",
    "Passivate nanoribbon edges by detecting and adding passivants to undercoordinated atoms (atoms with fewer neighbors than bulk).\n",
    "\n",
    "<h2 style=\"color:green\">Usage</h2>\n",
    "\n",
    "1. Make sure to select Input Material (nanoribbon) before running the notebook.\n",
    "1. Set notebook parameters in cell 1.1. below (or use the default values).\n",
    "1. When prompted, select the coordination threshold based on the analysis.\n",
    "1. Click \"Run\" > \"Run All\" to run all cells.\n",
    "1. Wait for the run to complete.\n",
    "1. Scroll down to view results.\n",
    "\n",
    "## Notes\n",
    "1. Coordination-based passivation finds atoms with fewer neighbors than expected\n",
    "2. Coordination threshold below which passivation is applied, must be set depending on the material\n",
    "3. Passivant atoms are placed along the direction away from existing bonds\n"
   ],
   "metadata": {
    "collapsed": false
   },
   "id": "4f5cab1ebbbe954"
  },
  {
   "cell_type": "markdown",
   "source": [
    "## 1. Prepare the Environment\n",
    "### 1.1. Set up the notebook\n",
    "Passivation Configuration parameters are described in [Passivation Configuration](https://github.com/Exabyte-io/made/blob/666a941a190a94979b5295f5039f6a4b9158d7dd/src/py/mat3ra/made/tools/build/passivation/configuration.py#L7).\n",
    "Coordination search radius shown on the image below:\n",
    "\n",
    "<img src=\"https://i.imgur.com/zJjjwHP.png\" alt=\"Coordination search radius\" width=\"400\"/>"
   ],
   "metadata": {
    "collapsed": false
   },
   "id": "a5e0f698748cbdcc"
  },
  {
   "cell_type": "code",
   "outputs": [],
   "source": [
    "# Enable interactive selection of coordination threshold\n",
    "IS_COORDINATION_SELECTION_INTERACTIVE = False\n",
    "\n",
    "# Material selection\n",
    "MATERIAL_INDEX = 0\n",
    "\n",
    "# Passivation parameters\n",
    "PASSIVANT = \"H\"  # Chemical element for passivating atom\n",
    "BOND_LENGTH = 1.0  # Distance from atom to passivant, in Angstroms\n",
    "\n",
    "# Undercoordinated atoms search algorithm parameters\n",
    "COORDINATION_THRESHOLD = 5  # Coordination threshold, below which passivation is applied to the atom\n",
    "COORDINATION_SEARCH_RADIUS = 2.5  # Distance to look for neighbors for coordination, in Angstroms\n",
    "SEARCH_DEPTH = 5.0  # How deep to look for surface atoms, in Angstroms. Ignored for 2D materials\n",
    "\n",
    "# Visualization parameters\n",
    "SHOW_INTERMEDIATE_STEPS = True\n",
    "CELL_REPETITIONS_FOR_VISUALIZATION = [1, 1, 1]  # Structure repeat in view"
   ],
   "metadata": {
    "collapsed": false
   },
   "id": "61ffccc3a309f183",
   "execution_count": null
  },
  {
   "cell_type": "markdown",
   "source": [
    "### 1.2. Install packages\n",
    "The step executes only in Pyodide environment. For other environments, the packages should be installed via `pip install`.\n"
   ],
   "metadata": {
    "collapsed": false
   },
   "id": "975da798561ccde8"
  },
  {
   "cell_type": "code",
   "outputs": [],
   "source": [
    "import sys\n",
    "\n",
    "if sys.platform == \"emscripten\":\n",
    "    import micropip\n",
    "\n",
    "    await micropip.install('mat3ra-api-examples', deps=False)\n",
    "    from utils.jupyterlite import install_packages\n",
    "\n",
    "    await install_packages(\"\")"
   ],
   "metadata": {
    "collapsed": false
   },
   "id": "4b010bef5b031158",
   "execution_count": null
  },
  {
   "cell_type": "markdown",
   "source": [
    "### 1.3. Load and preview input material\n"
   ],
   "metadata": {
    "collapsed": false
   },
   "id": "7df321ca07e11daa"
  },
  {
   "cell_type": "code",
   "outputs": [],
   "source": [
    "from utils.jupyterlite import get_materials\n",
    "from utils.visualize import visualize_materials\n",
    "\n",
    "materials = get_materials(globals())\n",
    "nanoribbon = materials[MATERIAL_INDEX]\n",
    "\n",
    "if SHOW_INTERMEDIATE_STEPS:\n",
    "    print(\"Initial nanoribbon structure:\")\n",
    "    visualize_materials(nanoribbon, repetitions=CELL_REPETITIONS_FOR_VISUALIZATION)\n",
    "    visualize_materials(nanoribbon, repetitions=CELL_REPETITIONS_FOR_VISUALIZATION, rotation=\"-90x\")"
   ],
   "metadata": {
    "collapsed": false
   },
   "id": "3a53ff74253cb09a",
   "execution_count": null
  },
  {
   "cell_type": "markdown",
   "source": [
    "## 2. Analyze Coordination Numbers and Select Threshold\n"
   ],
   "metadata": {
    "collapsed": false
   },
   "id": "b5940fc50c11c7b8"
  },
  {
   "cell_type": "code",
   "outputs": [],
   "source": [
    "from utils.io import select_coordination_threshold\n",
    "from mat3ra.made.tools.build.passivation import get_unique_coordination_numbers, PassivationConfiguration\n",
    "\n",
    "config = PassivationConfiguration(\n",
    "    slab=nanoribbon,\n",
    "    passivant=PASSIVANT,\n",
    "    bond_length=BOND_LENGTH\n",
    ")\n",
    "coordination_numbers = sorted(list(get_unique_coordination_numbers(config)))\n",
    "print(f\"Unique coordination numbers: {coordination_numbers}\")\n",
    "\n",
    "coordination_threshold = COORDINATION_THRESHOLD\n",
    "if IS_COORDINATION_SELECTION_INTERACTIVE:\n",
    "    coordination_threshold = await select_coordination_threshold(\n",
    "        coordination_numbers, COORDINATION_THRESHOLD\n",
    "    )   \n",
    "        \n",
    "print(f\"\\nSelected coordination threshold: {coordination_threshold}\")\n",
    "print(f\"Atoms with coordination < {coordination_threshold} will be passivated\")"
   ],
   "metadata": {
    "collapsed": false
   },
   "id": "54c265d8ca9408af",
   "execution_count": null
  },
  {
   "cell_type": "markdown",
   "source": [
    "## 3. Create target material\n",
    "### 3.1. Set up passivation configuration and builder\n"
   ],
   "metadata": {
    "collapsed": false
   },
   "id": "b873d2cb6eaa2bdb"
  },
  {
   "cell_type": "code",
   "outputs": [],
   "source": [
    "from mat3ra.made.tools.build.passivation.builders import CoordinationBasedPassivationBuilder, \\\n",
    "    CoordinationBasedPassivationBuilderParameters\n",
    "\n",
    "builder_params = CoordinationBasedPassivationBuilderParameters(\n",
    "    shadowing_radius=COORDINATION_SEARCH_RADIUS,\n",
    "    depth=SEARCH_DEPTH,\n",
    "    coordination_threshold=coordination_threshold\n",
    ")\n",
    "\n",
    "builder = CoordinationBasedPassivationBuilder(build_parameters=builder_params)"
   ],
   "metadata": {
    "collapsed": false
   },
   "id": "aca1c76a52e5376a",
   "execution_count": null
  },
  {
   "cell_type": "markdown",
   "source": [
    "### 3.2. Generate passivated structure\n"
   ],
   "metadata": {
    "collapsed": false
   },
   "id": "e40b5f67ef5b54aa"
  },
  {
   "cell_type": "code",
   "outputs": [],
   "source": [
    "from mat3ra.made.tools.build.passivation import create_passivation\n",
    "\n",
    "passivated_nanoribbon = create_passivation(config, builder)\n",
    "\n",
    "print(\"\\nPassivation completed:\")\n",
    "print(f\"Passivant used: {PASSIVANT}\")\n",
    "print(f\"Bond length: {BOND_LENGTH} Å\")\n",
    "print(f\"Original atoms: {len(nanoribbon.basis.elements.ids)}\")\n",
    "print(f\"Final atoms: {len(passivated_nanoribbon.basis.elements.ids)}\")"
   ],
   "metadata": {
    "collapsed": false
   },
   "id": "3c36dc3654f544c1",
   "execution_count": null
  },
  {
   "cell_type": "markdown",
   "source": [
    "## 4. Visualize the result"
   ],
   "metadata": {
    "collapsed": false
   },
   "id": "ad96b86aef8b28f5"
  },
  {
   "cell_type": "code",
   "outputs": [],
   "source": [
    "print(\"Final passivated structure:\")\n",
    "visualize_materials(passivated_nanoribbon, repetitions=CELL_REPETITIONS_FOR_VISUALIZATION)\n",
    "visualize_materials(passivated_nanoribbon, repetitions=CELL_REPETITIONS_FOR_VISUALIZATION, rotation=\"-90x\")"
   ],
   "metadata": {
    "collapsed": false
   },
   "id": "d08ff21e3650ba5d",
   "execution_count": null
  },
  {
   "cell_type": "markdown",
   "source": [
    "### 5. Pass data to the outside runtime\n"
   ],
   "metadata": {
    "collapsed": false
   },
   "id": "7151e48eae3b1886"
  },
  {
   "cell_type": "code",
   "outputs": [],
   "source": [
    "from utils.jupyterlite import set_materials\n",
    "\n",
    "set_materials(passivated_nanoribbon)"
   ],
   "metadata": {
    "collapsed": false
   },
   "id": "2d69736d0c71858c",
   "execution_count": null
  }
 ],
 "metadata": {
  "kernelspec": {
   "display_name": "Python 3",
   "language": "python",
   "name": "python3"
  },
  "language_info": {
   "codemirror_mode": {
    "name": "ipython",
    "version": 2
   },
   "file_extension": ".py",
   "mimetype": "text/x-python",
   "name": "python",
   "nbconvert_exporter": "python",
   "pygments_lexer": "ipython2",
   "version": "2.7.6"
  }
 },
 "nbformat": 4,
 "nbformat_minor": 5
}
