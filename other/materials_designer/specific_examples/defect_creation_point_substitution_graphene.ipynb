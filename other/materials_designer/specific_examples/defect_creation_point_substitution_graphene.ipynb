{
 "cells": [
  {
   "cell_type": "markdown",
   "source": [
    "# Substitutional Point Defects in Graphene\n",
    "\n",
    "## 0. Introduction\n",
    "\n",
    "This tutorial demonstrates the process of creating materials with substitution defects, based on the work presented in the following manuscript, where nitrogen defects in graphene are studied.\n",
    "\n",
    "[//]: # (<embed src=\"https://journals.aps.org/prb/abstract/10.1103/PhysRevB.84.245446\" width=\"100%\" height=\"300\">)\n",
    "\n",
    "> **Yoshitaka Fujimoto and Susumu Saito**, \"Formation, stabilities, and electronic properties of nitrogen defects in graphene\", Physical Review B, 2011. [DOI: 10.1103/PhysRevB.84.245446](https://journals.aps.org/prb/abstract/10.1103/PhysRevB.84.245446).\n",
    "\n"
   ],
   "metadata": {
    "collapsed": false
   },
   "id": "f0ccd3190ce70a68"
  },
  {
   "cell_type": "markdown",
   "source": [
    "## 1. Prepare the Environment\n",
    "### 1.1. Set up defects parameters \n",
    "Defect Configuration parameters are described in [Defect Configuration](https://github.com/Exabyte-io/made/blob/main/src/py/mat3ra/made/tools/build/defect/configuration.py)."
   ],
   "metadata": {
    "collapsed": false
   },
   "id": "f99e83b28546586b"
  }
 ],
 "metadata": {
  "kernelspec": {
   "display_name": "Python 3",
   "language": "python",
   "name": "python3"
  },
  "language_info": {
   "codemirror_mode": {
    "name": "ipython",
    "version": 2
   },
   "file_extension": ".py",
   "mimetype": "text/x-python",
   "name": "python",
   "nbconvert_exporter": "python",
   "pygments_lexer": "ipython2",
   "version": "2.7.6"
  }
 },
 "nbformat": 4,
 "nbformat_minor": 5
}
