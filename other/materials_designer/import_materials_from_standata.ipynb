{
 "cells": [
  {
   "cell_type": "markdown",
   "source": [
    "# Import materials from Standata\n",
    "\n",
    "This notebook uses Mat3ra Standata package to import materials.\n",
    "\n",
    "<h2 style=\"color:green\">Usage</h2>\n",
    "\n",
    "1. Run the first cell to import the required libraries.\n",
    "2. Run the second cell to get the list of available materials.\n",
    "3. Run the third cell to select a material by name.\n",
    "4. Run the fourth cell to select materials by categories\n"
   ],
   "metadata": {
    "collapsed": false
   },
   "id": "ffad30f04755fde0"
  },
  {
   "cell_type": "markdown",
   "source": [
    "## 1. Install the required libraries"
   ],
   "metadata": {
    "collapsed": false
   },
   "id": "3a21510793fa71f1"
  },
  {
   "cell_type": "code",
   "outputs": [],
   "source": [
    "import sys\n",
    "\n",
    "if sys.platform == \"emscripten\":\n",
    "    import micropip\n",
    "  \n",
    "    await micropip.install('mat3ra-api-examples', deps=False)\n",
    "    await micropip.install('mat3ra-standata')\n",
    "    from utils.jupyterlite import install_packages\n",
    "    await install_packages(\"\")"
   ],
   "metadata": {
    "collapsed": false
   },
   "id": "7a8c49f4612498a6",
   "execution_count": null
  },
  {
   "cell_type": "markdown",
   "source": [
    "## 2. Get  materials\n",
    "### 2.1. List the names of available materials"
   ],
   "metadata": {
    "collapsed": false
   },
   "id": "bd6a3ff0c7b23744"
  },
  {
   "cell_type": "code",
   "outputs": [],
   "source": [
    "from mat3ra.standata.materials import Materials\n",
    "Materials.get_names()"
   ],
   "metadata": {
    "collapsed": false
   },
   "id": "494aa9dceabed0e1",
   "execution_count": null
  },
  {
   "cell_type": "markdown",
   "source": [
    "### 2.2. Select a material by name\n",
    "A partial name match can be used to select a material."
   ],
   "metadata": {
    "collapsed": false
   },
   "id": "c29a8101462297ad"
  },
  {
   "cell_type": "code",
   "outputs": [],
   "source": [
    "from mat3ra.made.material import Material\n",
    "from utils.visualize import visualize_materials\n",
    "\n",
    "# use colloquial name, formula, dimensionality to select a material\n",
    "# returned material is a JSON object and needs to be converted to Material object\n",
    "material_by_name = Material(Materials.get_by_name(\"Graphene\")[0])\n",
    "material_by_name_first_match = Material(Materials.get_by_name_first_match(\"Graphene\"))\n",
    "visualize_materials([material_by_name, material_by_name_first_match])"
   ],
   "metadata": {
    "collapsed": false
   },
   "id": "a570e2668e86dfab",
   "execution_count": null
  },
  {
   "cell_type": "markdown",
   "source": [
    "### 2.3. Select materials by categories"
   ],
   "metadata": {
    "collapsed": false
   },
   "id": "456456a81a911d66"
  },
  {
   "cell_type": "code",
   "outputs": [],
   "source": [
    "materials_2d_jsons = Materials.get_by_categories(\"2D\")\n",
    "materials_2d = [Material(material_json) for material_json in materials_2d_jsons]\n",
    "\n",
    "materials_3d_insulator_jsons = Materials.get_by_categories(\"3D\", \"Insulator\")\n",
    "materials_3d_insulator = [Material(material_json) for material_json in materials_3d_insulator_jsons]\n",
    "\n",
    "visualize_materials(materials_2d)\n",
    "visualize_materials(materials_3d_insulator)"
   ],
   "metadata": {
    "collapsed": false
   },
   "id": "5f192496ce7776af",
   "execution_count": null
  },
  {
   "cell_type": "markdown",
   "source": [
    "## 3. Pass data to the outside runtime"
   ],
   "metadata": {
    "collapsed": false
   },
   "id": "937e08e1120711f0"
  },
  {
   "cell_type": "code",
   "outputs": [],
   "source": [
    "from utils.jupyterlite import set_materials\n",
    "\n",
    "set_materials(materials_2d + materials_3d_insulator)"
   ],
   "metadata": {
    "collapsed": false
   },
   "id": "dcb45a2daead9d55",
   "execution_count": null
  }
 ],
 "metadata": {
  "kernelspec": {
   "display_name": "Python 3",
   "language": "python",
   "name": "python3"
  },
  "language_info": {
   "codemirror_mode": {
    "name": "ipython",
    "version": 2
   },
   "file_extension": ".py",
   "mimetype": "text/x-python",
   "name": "python",
   "nbconvert_exporter": "python",
   "pygments_lexer": "ipython2",
   "version": "2.7.6"
  }
 },
 "nbformat": 4,
 "nbformat_minor": 5
}
