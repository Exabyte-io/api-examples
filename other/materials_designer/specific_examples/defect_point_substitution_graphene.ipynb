{
 "cells": [
  {
   "cell_type": "markdown",
   "id": "0",
   "metadata": {},
   "source": [
    "# Substitutional Point Defects in Graphene\n",
    "\n",
    "## 0. Introduction\n",
    "\n",
    "This tutorial demonstrates the process of creating materials with substitution defects, based on the work presented in the following manuscript, where nitrogen defects in graphene are studied.\n",
    "\n",
    "[//]: # (<embed src=\"https://journals.aps.org/prb/abstract/10.1103/PhysRevB.84.245446\" width=\"100%\" height=\"300\">)\n",
    "\n",
    "> **Yoshitaka Fujimoto and Susumu Saito**, \"Formation, stabilities, and electronic properties of nitrogen defects in graphene\", Physical Review B, 2011. [DOI: 10.1103/PhysRevB.84.245446](https://journals.aps.org/prb/abstract/10.1103/PhysRevB.84.245446).\n",
    "> \n",
    "Below is the figure 1 from the manuscript demonstrating the nitrogen substitution defects in graphene.\n",
    "\n",
    "![Fig 1.](https://github.com/Exabyte-io/documentation/raw/12617167278ae3523adc028583b21ea4e8ebd197/images/tutorials/materials/defects/defect_creation_point_substitution_graphene/0-figure-from-manuscript.webp)\n",
    "\n",
    "In this notebook we will reproduce material from FIG. 1 b)\n"
   ]
  },
  {
   "cell_type": "markdown",
   "id": "1",
   "metadata": {},
   "source": [
    "## 1. Prepare the Environment\n",
    "### 1.1. Set up defects parameters \n",
    "Defect Configuration parameters are described in [Defect Configuration](https://github.com/Exabyte-io/made/blob/8196b759242551c77d1791bf5bd2f4150763cfef/src/py/mat3ra/made/tools/build/defect/configuration.py#L102).\n",
    "\n",
    "Note that we use approximate coordinates in crystal coordinates to define the defect positions. The approximate coordinates are used to find the closest site in the crystal to the given coordinates. The approximate coordinates are in the range of [0, 1] for each axis. Adjust the approximate coordinates to place the defect at the desired site in the crystal. Using the visuals provided in the notebook could help in determining the approximate coordinates.\n",
    "(Coordinates found using 3D editor in Materials Designer)"
   ]
  },
  {
   "cell_type": "code",
   "execution_count": null,
   "id": "2",
   "metadata": {},
   "outputs": [],
   "source": [
    "# Element to be placed at the site (ignored for vacancy)\n",
    "CHEMICAL_ELEMENT = \"N\"\n",
    "\n",
    "SUPERCELL_MATRIX = [[4, 0, 0], [0, 4, 0], [0, 0, 1]]\n",
    "USE_CARTESIAN_COORDINATES = True\n",
    "\n",
    "DEFECT_CONFIGS = [\n",
    "    {\n",
    "        \"type\": \"substitution\",\n",
    "        \"coordinate\": [4.9, 2.85, 10],\n",
    "        \"element\": CHEMICAL_ELEMENT,\n",
    "        \"placement_method\": \"closest_site\",\n",
    "        \"use_cartesian_coordinates\": USE_CARTESIAN_COORDINATES\n",
    "    },\n",
    "    {\n",
    "        \"type\": \"substitution\",\n",
    "        \"coordinate\": [3.7, 4.9, 10],\n",
    "        \"element\": CHEMICAL_ELEMENT,\n",
    "        \"placement_method\": \"closest_site\",\n",
    "        \"use_cartesian_coordinates\": USE_CARTESIAN_COORDINATES\n",
    "    },\n",
    "    {\n",
    "        \"type\": \"substitution\",\n",
    "        \"coordinate\": [2.45, 2.85, 10],\n",
    "        \"element\": CHEMICAL_ELEMENT,\n",
    "        \"placement_method\": \"closest_site\",\n",
    "        \"use_cartesian_coordinates\": USE_CARTESIAN_COORDINATES\n",
    "    },\n",
    "    {\n",
    "        \"type\": \"vacancy\",\n",
    "        \"coordinate\": [3.7, 3.55, 10],\n",
    "        \"placement_method\": \"closest_site\",\n",
    "        \"use_cartesian_coordinates\": USE_CARTESIAN_COORDINATES\n",
    "    },\n",
    "\n",
    "]"
   ]
  },
  {
   "cell_type": "markdown",
   "id": "3",
   "metadata": {},
   "source": [
    "### 1.2. Install Packages\n",
    "The step executes only in Pyodide environment. For other environments, the packages should be installed via `pip install` (see [README](../../README.ipynb))."
   ]
  },
  {
   "cell_type": "code",
   "execution_count": null,
   "id": "4",
   "metadata": {},
   "outputs": [],
   "source": [
    "import sys\n",
    "\n",
    "if sys.platform == \"emscripten\":\n",
    "    import micropip\n",
    "\n",
    "    await micropip.install(\"mat3ra-api-examples\", deps=False)\n",
    "    await micropip.install('mat3ra-utils')\n",
    "    from mat3ra.utils.jupyterlite.packages import install_packages\n",
    "\n",
    "    await install_packages(\"specific_examples|create_point_defect.ipynb\")"
   ]
  },
  {
   "cell_type": "markdown",
   "id": "5",
   "metadata": {},
   "source": [
    "### 1.3. Load input material\n",
    "In this notebook we will use the material from the `uploads` folder that has a few pre-set materials."
   ]
  },
  {
   "cell_type": "code",
   "execution_count": null,
   "id": "6",
   "metadata": {},
   "outputs": [],
   "source": [
    "from utils.jupyterlite import load_material_from_folder\n",
    "\n",
    "material = load_material_from_folder(\"../uploads\", \"Graphene\")"
   ]
  },
  {
   "cell_type": "markdown",
   "id": "7",
   "metadata": {},
   "source": [
    "### 1.4. Create and preview Supercell"
   ]
  },
  {
   "cell_type": "code",
   "execution_count": null,
   "id": "8",
   "metadata": {},
   "outputs": [],
   "source": [
    "from utils.visualize import visualize_materials as visualize\n",
    "from mat3ra.made.tools.helpers import create_supercell\n",
    "\n",
    "supercell = create_supercell(material, supercell_matrix=SUPERCELL_MATRIX)\n",
    "visualize(supercell, repetitions=[1, 1, 1], rotation=\"0x\")"
   ]
  },
  {
   "cell_type": "markdown",
   "id": "9",
   "metadata": {},
   "source": [
    "## 2. Create the Defects"
   ]
  },
  {
   "cell_type": "markdown",
   "id": "10",
   "metadata": {},
   "source": [
    "### 2.1. Prepare defect dictionaries and validate them"
   ]
  },
  {
   "cell_type": "code",
   "execution_count": null,
   "id": "11",
   "metadata": {},
   "outputs": [],
   "source": [
    "from mat3ra.made.tools.build.defective_structures.zero_dimensional.point_defect.types import PointDefectDict\n",
    "\n",
    "defect_dicts = [PointDefectDict(**defect_config) for defect_config in DEFECT_CONFIGS]"
   ]
  },
  {
   "cell_type": "markdown",
   "id": "12",
   "metadata": {},
   "source": [
    "### 2.2. Create the defects"
   ]
  },
  {
   "cell_type": "code",
   "execution_count": null,
   "id": "13",
   "metadata": {},
   "outputs": [],
   "source": [
    "from mat3ra.made.tools.helpers import create_multiple_defects\n",
    "\n",
    "material_with_defect = create_multiple_defects(\n",
    "    supercell,\n",
    "    defect_dicts=defect_dicts,\n",
    ")"
   ]
  },
  {
   "cell_type": "markdown",
   "id": "14",
   "metadata": {},
   "source": [
    "## 3. Visualize Result(s)"
   ]
  },
  {
   "cell_type": "code",
   "execution_count": null,
   "id": "15",
   "metadata": {},
   "outputs": [],
   "source": [
    "from utils.visualize import visualize_materials as visualize\n",
    "\n",
    "visualize([{\"material\": supercell, \"title\": \"Original material\"},\n",
    "           {\"material\": material_with_defect, \"title\": f\"Material with defect\"}],\n",
    "          viewer=\"wave\")"
   ]
  },
  {
   "cell_type": "markdown",
   "id": "16",
   "metadata": {},
   "source": [
    "## 4. Write resulting material to the folder"
   ]
  },
  {
   "cell_type": "code",
   "execution_count": null,
   "id": "17",
   "metadata": {},
   "outputs": [],
   "source": [
    "from utils.jupyterlite import download_content_to_file, set_materials\n",
    "\n",
    "material_with_defect.name = \"N-doped Graphene\"\n",
    "set_materials(material_with_defect)\n",
    "download_content_to_file(material_with_defect.to_json(), \"N-doped_Graphene.json\")"
   ]
  }
 ],
 "metadata": {
  "kernelspec": {
   "display_name": "Python 3",
   "language": "python",
   "name": "python3"
  },
  "language_info": {
   "codemirror_mode": {
    "name": "ipython",
    "version": 2
   },
   "file_extension": ".py",
   "mimetype": "text/x-python",
   "name": "python",
   "nbconvert_exporter": "python",
   "pygments_lexer": "ipython2",
   "version": "2.7.6"
  }
 },
 "nbformat": 4,
 "nbformat_minor": 5
}
