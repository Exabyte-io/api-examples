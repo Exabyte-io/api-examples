{
  "cells": [
    {
      "cell_type": "markdown",
      "id": "88e35a0e",
      "metadata": {},
      "source": [
        "# Import material from JARVIS database\n",
        "\n",
        "<h2 style=\"color:green\">Usage</h2>\n",
        "\n",
        "1. Install `express-py` alongside the necessary packages\n",
        "2. Import the material from JARVIS database\n",
        "3. Convert the material to ESSE format\n",
        "4. Pass the material to Materials Designer runtime\n",
        "\n",
        "\n"
      ]
    },
    {
      "cell_type": "markdown",
      "id": "826fcc4c",
      "metadata": {},
      "source": [
        "# Create an interface between two materials with minimal strain\n",
        "\n",
        "Import a structure from the NIST JARVIS database by its ID. Use search at <a href=\"https://jarvis.nist.gov/jarvisdft/\" target=\"_blank\">JARVIS-DFT</a> to find the ID of the structure you are interested in.\n",
        "\n",
        "<h2 style=\"color:green\">Usage</h2>\n",
        "\n",
        "2. Set Input Parameters (e.g. `JARVIS_ID`) below or use the default value\n",
        "3. Click \"Run\" > \"Run All\" to run all cells\n",
        "4. Wait for the run to complete (it should take ~30 sec first time to install packages). Scroll down to view cell results.\n",
        "\n",
        "## Methodology\n",
        "\n",
        "The following happens in the script below:\n",
        "\n",
        "1. Install `express-py` alongside the necessary packages\n",
        "2. Import the material from JARVIS database\n",
        "3. Convert the material to ESSE format\n",
        "4. Pass the material to the outside runtime"
      ]
    },
    {
      "cell_type": "markdown",
      "id": "4299768d",
      "metadata": {},
      "source": [
        "## 1. Set Parameters"
      ]
    },
    {
      "cell_type": "code",
      "execution_count": null,
      "id": "9c1f4e9e",
      "metadata": {},
      "outputs": [],
      "source": [
        "# Note: JVASP-670 is an entry for MoTe2\n",
        "JARVIS_IDS = [\n",
        "    \"JVASP-670\",\n",
        "]"
      ]
    },
    {
      "cell_type": "markdown",
      "id": "8b00ab6854f2263b",
      "metadata": {},
      "source": [
        "## 2. Install Packages"
      ]
    },
    {
      "cell_type": "code",
      "execution_count": null,
      "id": "ef2b38a5-de7e-419e-b605-110e9e0095f5",
      "metadata": {
        "trusted": true
      },
      "outputs": [],
      "source": [
        "from jupyterlite.utils import install_packages\n",
        "\n",
        "await install_packages(\"import_material_from_jarvis_db_entry.ipynb\")"
      ]
    },
    {
      "cell_type": "markdown",
      "id": "f418c51a7f794f9f",
      "metadata": {},
      "source": [
        "## 3. Data Processing\n",
        "\n",
        "### 3.1. Get data and wrap it in dataframe."
      ]
    },
    {
      "cell_type": "code",
      "execution_count": null,
      "id": "b1ee775d1476f884",
      "metadata": {
        "collapsed": false,
        "jupyter": {
          "outputs_hidden": false
        },
        "trusted": true
      },
      "outputs": [],
      "source": [
        "import pandas as pd\n",
        "from jarvis.db.figshare import data\n",
        "\n",
        "dft_2d = data(\"dft_2d\")\n",
        "dataframe = pd.DataFrame(dft_2d)"
      ]
    },
    {
      "cell_type": "markdown",
      "id": "15fe5f9de299c935",
      "metadata": {},
      "source": [
        "### 3.2. Filter data"
      ]
    },
    {
      "cell_type": "code",
      "execution_count": null,
      "id": "a771a36a",
      "metadata": {},
      "outputs": [],
      "source": [
        "import json\n",
        "from express import ExPrESS\n",
        "\n",
        "dataframe_entry_for_jarvis_id = dataframe[(dataframe[\"jid\"].isin(JARVIS_IDS))]\n",
        "dataframe_entry_as_json = dataframe_entry_for_jarvis_id.to_json(orient=\"records\")\n",
        "jarvis_db_entry = json.dumps(json.loads(dataframe_entry_as_json)[0])\n"
      ]
    },
    {
      "cell_type": "markdown",
      "id": "ef5f9e9d",
      "metadata": {},
      "source": [
        "### 3.3. Convert to ESSE format"
      ]
    },
    {
      "cell_type": "code",
      "execution_count": null,
      "id": "c41fb68c6d25fe48",
      "metadata": {
        "collapsed": false,
        "jupyter": {
          "outputs_hidden": false
        },
        "trusted": true
      },
      "outputs": [],
      "source": [
        "kwargs = {\n",
        "    \"structure_string\": jarvis_db_entry,\n",
        "    \"cell_type\": \"original\",\n",
        "    \"structure_format\": \"jarvis-db-entry\",\n",
        "}\n",
        "\n",
        "handler = ExPrESS(\"structure\", **kwargs)\n",
        "data = handler.property(\"material\", **kwargs)"
      ]
    },
    {
      "cell_type": "markdown",
      "id": "8770ec48",
      "metadata": {},
      "source": [
        "### 3.4. Preview the data"
      ]
    },
    {
      "cell_type": "code",
      "execution_count": null,
      "id": "9ea63755",
      "metadata": {},
      "outputs": [],
      "source": [
        "print(json.dumps(data, indent=4))"
      ]
    },
    {
      "cell_type": "markdown",
      "id": "a4a48479c7ea090f",
      "metadata": {},
      "source": [
        "## 4. Pass data to the outside runtime"
      ]
    },
    {
      "cell_type": "code",
      "execution_count": null,
      "id": "00b187ab",
      "metadata": {},
      "outputs": [],
      "source": [
        "from jupyterlite.utils import set_data\n",
        "\n",
        "output_materials = [data]\n",
        "set_data(\"materials\", output_materials)"
      ]
    }
  ],
  "metadata": {
    "kernelspec": {
      "display_name": "Python (Pyodide)",
      "language": "python",
      "name": "python"
    },
    "language_info": {
      "codemirror_mode": {
        "name": "python",
        "version": 3
      },
      "file_extension": ".py",
      "mimetype": "text/x-python",
      "name": "python",
      "nbconvert_exporter": "python",
      "pygments_lexer": "ipython3",
      "version": "3.8"
    },
    "widgets": {
      "application/vnd.jupyter.widget-state+json": {
        "state": {},
        "version_major": 2,
        "version_minor": 0
      }
    }
  },
  "nbformat": 4,
  "nbformat_minor": 5
}
