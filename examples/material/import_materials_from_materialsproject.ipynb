version https://git-lfs.github.com/spec/v1
oid sha256:a8a6babf877c9b0406563a40a6a52dc69bfcc00fc6f857bbf7f765570c782d72
size 38270
