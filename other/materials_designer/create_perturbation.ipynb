{
 "cells": [
  {
   "cell_type": "markdown",
   "id": "367a698b29e22bd7",
   "metadata": {
    "collapsed": false
   },
   "source": [
    "# Create a Perturbation in a Material\n",
    "\n",
    "Create a perturbation in a material with a specified smooth function (SineWave by default)\n",
    "\n",
    "<h2 style=\"color:green\">Usage</h2>\n",
    "\n",
    "1. Make sure to select Input Materials (in the outer runtime) before running the notebook.\n",
    "1. Set notebook parameters in cell 1.1. below (or use the default values).\n",
    "1. Click “Run” > “Run All” to run all cells. \n",
    "1. Wait for the run to complete (depending on the parameters can take a few min). \n",
    "1. Scroll down to view results. \n",
    "\n",
    "## Notes\n",
    "\n",
    "1. For more information, see [Introduction](Introduction.ipynb)\n"
   ]
  },
  {
   "cell_type": "markdown",
   "id": "193a4e6a78fd5bd7",
   "metadata": {
    "collapsed": false
   },
   "source": [
    "## 1. Prepare the Environment\n",
    "### 1.1. Set up perturbation parameters"
   ]
  },
  {
   "cell_type": "code",
   "execution_count": null,
   "id": "a40d7b697c413113",
   "metadata": {
    "collapsed": false
   },
   "outputs": [],
   "source": [
    "# string representation of the perturbation function, function of x, y, z variables\n",
    "perturbation_function = \"0.5 * sin (2 * pi * x) \"\n",
    "\n",
    "USE_CARTESIAN_COORDINATES = False\n",
    "\n",
    "SUPERCELL_MATRIX = [[30, 0, 0], [0, 30, 0], [0, 0, 1]]\n",
    "\n",
    "PRESERVE_GEODESIC_DISTANCE = False"
   ]
  },
  {
   "cell_type": "markdown",
   "id": "49c9f5022d50517e",
   "metadata": {
    "collapsed": false
   },
   "source": [
    "### 1.2. Install Packages\n",
    "The step executes only in Pyodide environment. For other environments, the packages should be installed via `pip install` (see [README](../../README.ipynb))."
   ]
  },
  {
   "cell_type": "code",
   "execution_count": null,
   "id": "c6d9f8e57bef2f91",
   "metadata": {
    "collapsed": false
   },
   "outputs": [],
   "source": [
    "import sys\n",
    "\n",
    "if sys.platform == \"emscripten\":\n",
    "    import micropip\n",
    "\n",
    "    await micropip.install(\"https://exabyte-io.github.io/api-examples/mat3ra_api_examples-0.1.dev1+g03efa43-py3-none-any.whl\", deps=False)\n",
    "    await micropip.install('mat3ra-utils')\n",
    "    from mat3ra.utils.jupyterlite.packages import install_packages\n",
    "\n",
    "    await install_packages(\"\")"
   ]
  },
  {
   "cell_type": "markdown",
   "id": "edf02101e27a2742",
   "metadata": {
    "collapsed": false
   },
   "source": [
    "### 1.3. Get input materials\n",
    "Materials are loaded with `get_materials()`."
   ]
  },
  {
   "cell_type": "code",
   "execution_count": null,
   "id": "e0c53233ce728cc1",
   "metadata": {
    "collapsed": false
   },
   "outputs": [],
   "source": [
    "from utils.jupyterlite import get_materials\n",
    "\n",
    "materials = get_materials(globals())"
   ]
  },
  {
   "cell_type": "markdown",
   "id": "cf29b7f6fe114d8f",
   "metadata": {
    "collapsed": false
   },
   "source": [
    "### 1.4. Create and preview Supercell"
   ]
  },
  {
   "cell_type": "code",
   "execution_count": null,
   "id": "897ba7aa4e402d24",
   "metadata": {
    "collapsed": false
   },
   "outputs": [],
   "source": [
    "from utils.visualize import visualize_materials as visualize\n",
    "from mat3ra.made.tools.helpers import create_supercell\n",
    "\n",
    "unit_cell = materials[0]\n",
    "supercell = create_supercell(unit_cell, supercell_matrix=SUPERCELL_MATRIX)\n",
    "visualize(supercell, repetitions=[1, 1, 1], rotation=\"0x\")"
   ]
  },
  {
   "cell_type": "markdown",
   "id": "39a93c4635762a83",
   "metadata": {
    "collapsed": false
   },
   "source": [
    "## 2. Create the SineWave Perturbation\n",
    "### 2.1. Set sine wave perturbation parameters\n",
    "Use perturbation function imported from `mat3ra.made.tools.utils.perturbation` folder."
   ]
  },
  {
   "cell_type": "code",
   "execution_count": null,
   "id": "1991efeeebe39db4",
   "metadata": {
    "collapsed": false
   },
   "outputs": [],
   "source": [
    "from mat3ra.made.tools.helpers import create_perturbation\n",
    "\n",
    "material_with_perturbation = create_perturbation(\n",
    "    material=supercell,\n",
    "    perturbation_function=perturbation_function,\n",
    "    is_isometric=PRESERVE_GEODESIC_DISTANCE,\n",
    "    use_cartesian_coordinates=USE_CARTESIAN_COORDINATES\n",
    ")\n"
   ]
  },
  {
   "cell_type": "markdown",
   "id": "eecd561cd92fb18a",
   "metadata": {
    "collapsed": false
   },
   "source": [
    "### 3. Visualize the Result"
   ]
  },
  {
   "cell_type": "code",
   "execution_count": null,
   "id": "1ee393a7f2ec3bc8",
   "metadata": {
    "collapsed": false
   },
   "outputs": [],
   "source": [
    "from utils.visualize import visualize_materials as visualize\n",
    "\n",
    "visualize([{\"material\": supercell, \"title\": \"Original material\"},\n",
    "           {\"material\": material_with_perturbation, \"title\": f\"Material with perturbation\"},\n",
    "           {\"material\": material_with_perturbation, \"title\": f\"Material with perturbation\", \"rotation\": \"-90x\"},\n",
    "           ])"
   ]
  },
  {
   "cell_type": "markdown",
   "id": "9e0b241366592109",
   "metadata": {
    "collapsed": false
   },
   "source": [
    "## 4. Pass data to the outside runtime"
   ]
  },
  {
   "cell_type": "code",
   "execution_count": null,
   "id": "29dfa0a329cca2fa",
   "metadata": {
    "collapsed": false
   },
   "outputs": [],
   "source": [
    "from utils.jupyterlite import set_materials\n",
    "\n",
    "set_materials(material_with_perturbation)"
   ]
  }
 ],
 "metadata": {
  "kernelspec": {
   "display_name": "Python 3",
   "language": "python",
   "name": "python3"
  },
  "language_info": {
   "codemirror_mode": {
    "name": "ipython",
    "version": 2
   },
   "file_extension": ".py",
   "mimetype": "text/x-python",
   "name": "python",
   "nbconvert_exporter": "python",
   "pygments_lexer": "ipython2",
   "version": "2.7.6"
  }
 },
 "nbformat": 4,
 "nbformat_minor": 5
}
