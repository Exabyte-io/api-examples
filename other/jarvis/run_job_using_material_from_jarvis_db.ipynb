{
 "cells": [
  {
   "cell_type": "markdown",
   "source": [
    "<a href=\"https://colab.research.google.com/github/Exabyte-io/api-examples/blob/dev/other/jarvis/run_job_using_material_from_jarvis_db.ipynb\" target=\"_parent\">\n",
    "<img alt=\"Open in Google Colab\" src=\"https://user-images.githubusercontent.com/20477508/128780728-491fea90-9b23-495f-a091-11681150db37.jpeg\" width=\"150\" border=\"0\">\n",
    "</a>"
   ],
   "metadata": {
    "collapsed": false
   },
   "id": "3c567b6400249971"
  },
  {
   "cell_type": "markdown",
   "source": [
    "## Install Packages\n",
    "First, install `express-py` which includes `jarvis-tools` as dependency."
   ],
   "metadata": {
    "collapsed": false
   },
   "id": "8b00ab6854f2263b"
  },
  {
   "cell_type": "code",
   "execution_count": null,
   "outputs": [],
   "source": [
    "!pip install express-py==2024.1.25.post7"
   ],
   "metadata": {
    "collapsed": false
   },
   "id": "b1288bc79ee2c828"
  },
  {
   "cell_type": "markdown",
   "source": [
    "## Get Materials Data From JARVIS\n",
    "Then, let\"s get the dataset containing 2D materials from JARVIS and wrap it into a pandas dataframe."
   ],
   "metadata": {
    "collapsed": false
   },
   "id": "f418c51a7f794f9f"
  },
  {
   "cell_type": "code",
   "execution_count": null,
   "outputs": [],
   "source": [
    "import pandas as pd\n",
    "from jarvis.db.figshare import data, get_jid_data\n",
    "\n",
    "dft_2d = data(\"dft_2d\")\n",
    "df = pd.DataFrame(dft_2d)"
   ],
   "metadata": {
    "collapsed": false
   },
   "id": "b1ee775d1476f884"
  },
  {
   "cell_type": "markdown",
   "source": [
    "## Create a simple heterostructure\n",
    "\n",
    "We use two material ids and place them one above another."
   ],
   "metadata": {
    "collapsed": false
   },
   "id": "9035ff20f1483b33"
  },
  {
   "cell_type": "code",
   "execution_count": null,
   "outputs": [],
   "source": [
    "from jarvis.core.atoms import Atoms\n",
    "from jarvis.analysis.interface.zur import make_interface\n",
    "\n",
    "## Note: JVASP-670 is an entry for MoTe2\n",
    "jid1 = \"JVASP-670\"\n",
    "jid2 =\"JVASP-664\"\n",
    "\n",
    "for i in dft_2d:\n",
    " if i[\"jid\"] == jid1:\n",
    "  atoms1 = Atoms.from_dict(i[\"atoms\"])\n",
    "for i in dft_2d:\n",
    " if i[\"jid\"] == jid2:\n",
    "  atoms2 = Atoms.from_dict(i[\"atoms\"])\n",
    "\n",
    "interface_atoms_dict = make_interface(film=atoms1, subs=atoms2)\n",
    "heterostructure_atoms = interface_atoms_dict[\"interface\"].center_around_origin()\n",
    "\n",
    "print (jid1,jid2,atoms1.composition.reduced_formula,atoms2.composition.reduced_formula, heterostructure_atoms)"
   ],
   "metadata": {
    "collapsed": false,
    "pycharm": {
     "name": "#%%\n"
    }
   },
   "id": "1b3e7d016f30b61"
  },
  {
   "cell_type": "markdown",
   "source": [
    "## Extract the film and substrate"
   ],
   "metadata": {
    "collapsed": false,
    "pycharm": {
     "name": "#%% md\n"
    }
   },
   "id": "4d59e226b39bbf41"
  },
  {
   "cell_type": "code",
   "execution_count": null,
   "outputs": [],
   "source": [
    "# Using the fractional coordinate Z level of 0.5 to separate top/bottom\n",
    "# See also https://github.com/usnistgov/jarvis/issues/311\n",
    "heterostructure_atoms_copy = Atoms.from_dict(heterostructure_atoms.to_dict())\n",
    "indices_to_remove = []\n",
    "for index, coord in enumerate(heterostructure_atoms_copy.coords):\n",
    "    print(coord, index)\n",
    "    if coord[2] < 0.5:\n",
    "        indices_to_remove.append(index)\n",
    "for i, ind in enumerate(indices_to_remove):\n",
    "    heterostructure_atoms_copy = heterostructure_atoms_copy.remove_site_by_index(ind - i)\n",
    "    print(\"removed\", ind, heterostructure_atoms_copy.props)\n",
    "substrate_atoms = Atoms.from_dict(heterostructure_atoms_copy.to_dict())\n",
    "\n",
    "heterostructure_atoms_copy = Atoms.from_dict(heterostructure_atoms.to_dict())\n",
    "indices_to_remove = []\n",
    "for index, coord in enumerate(heterostructure_atoms_copy.coords):\n",
    "    print(coord, index)\n",
    "    if coord[2] > 0.5:\n",
    "        indices_to_remove.append(index)\n",
    "for i, ind in enumerate(indices_to_remove):\n",
    "    heterostructure_atoms_copy = heterostructure_atoms_copy.remove_site_by_index(ind - i)\n",
    "    print(\"removed\", ind, heterostructure_atoms_copy.props)\n",
    "film_atoms = Atoms.from_dict(heterostructure_atoms_copy.to_dict())"
   ],
   "metadata": {
    "collapsed": false,
    "pycharm": {
     "name": "#%%\n"
    }
   },
   "id": "c60f1cdeca83df6a"
  },
  {
   "cell_type": "markdown",
   "source": [
    "## Extract Structure and Convert to ESSE\n",
    "Next, we extract an entry from the JARVIS dataset and convert it into ESSE format ready to be uploaded to Mat3ra.com."
   ],
   "metadata": {
    "collapsed": false
   },
   "id": "15fe5f9de299c935"
  },
  {
   "cell_type": "code",
   "execution_count": null,
   "outputs": [],
   "source": [
    "import json\n",
    "from express import ExPrESS\n",
    "\n",
    "def jarvis_atoms_to_esse(atoms):\n",
    "    # JARVIS Atoms return poscar as representation\n",
    "    # https://github.com/usnistgov/jarvis/blob/master/jarvis/core/atoms.py#L1333\n",
    "    poscar = atoms.__repr__()\n",
    "    kwargs = {\n",
    "        \"structure_string\": poscar,\n",
    "        \"cell_type\": \"original\",\n",
    "        \"structure_format\": \"poscar\"\n",
    "    }\n",
    "    handler = ExPrESS(\"structure\", **kwargs)\n",
    "    material = handler.property(\"material\", **kwargs)\n",
    "    return material\n",
    "\n",
    "material_film = jarvis_atoms_to_esse(film_atoms)\n",
    "material_substrate = jarvis_atoms_to_esse(substrate_atoms)\n",
    "material_heterostructure = jarvis_atoms_to_esse(heterostructure_atoms)\n",
    "\n",
    "# To preview resulting JSON data\n",
    "print(json.dumps(material_heterostructure, indent=4))"
   ],
   "metadata": {
    "collapsed": false
   },
   "id": "c41fb68c6d25fe48"
  },
  {
   "cell_type": "markdown",
   "source": [
    "## Setup the API credentials\n",
    "Finally, we can upload the material to Mat3ra.com using the REST API: follow the explanation in another example notebook [here](../../examples/material/create_material.ipynb). One can replace the content of the `CONFIG` variable with the JSON data above."
   ],
   "metadata": {
    "collapsed": false
   },
   "id": "a4a48479c7ea090f"
  },
  {
   "cell_type": "code",
   "execution_count": null,
   "outputs": [],
   "source": [
    "# @title Authorization Form\n",
    "ACCOUNT_ID = \"\"  # @param {type:\"string\"}\n",
    "AUTH_TOKEN = \"\"  # @param {type:\"string\"}\n",
    "MATERIALS_PROJECT_API_KEY = \"MATERIALS_PROJECT_API_KEY\"  # @param {type:\"string\"}\n",
    "ORGANIZATION_ID = \"\"\n",
    "\n",
    "\n",
    "import os\n",
    "\n",
    "if \"COLAB_JUPYTER_IP\" in os.environ:\n",
    "    os.environ.update(\n",
    "        dict(\n",
    "            ACCOUNT_ID=ACCOUNT_ID,\n",
    "            AUTH_TOKEN=AUTH_TOKEN,\n",
    "            MATERIALS_PROJECT_API_KEY=MATERIALS_PROJECT_API_KEY,\n",
    "            ORGANIZATION_ID=ORGANIZATION_ID,\n",
    "        )\n",
    "    )\n",
    "\n",
    "    !GIT_BRANCH=\"dev\"; export GIT_BRANCH; curl -s \"https://raw.githubusercontent.com/Exabyte-io/api-examples/${GIT_BRANCH}/scripts/env.sh\" | bash"
   ],
   "metadata": {
    "collapsed": false,
    "pycharm": {
     "name": "#%%\n"
    }
   },
   "id": "5b2ae68afcacc16"
  },
  {
   "cell_type": "markdown",
   "source": [
    "## Initialize the API Endpoints"
   ],
   "metadata": {
    "collapsed": false,
    "pycharm": {
     "name": "#%% md\n"
    }
   },
   "id": "deac6f9f10d31b19"
  },
  {
   "cell_type": "code",
   "execution_count": null,
   "outputs": [],
   "source": [
    "from utils.settings import ENDPOINT_ARGS, ACCOUNT_ID\n",
    "from utils.generic import wait_for_jobs_to_finish, get_property_by_subworkflow_and_unit_indicies, dataframe_to_html, display_JSON\n",
    "\n",
    "# Relevant functions from the API client\n",
    "from exabyte_api_client.endpoints.jobs import JobEndpoints\n",
    "from exabyte_api_client.endpoints.projects import ProjectEndpoints\n",
    "from exabyte_api_client.endpoints.materials import MaterialEndpoints\n",
    "from exabyte_api_client.endpoints.bank_workflows import BankWorkflowEndpoints\n",
    "from exabyte_api_client.endpoints.properties import PropertiesEndpoints\n",
    "\n",
    "job_endpoints = JobEndpoints(*ENDPOINT_ARGS)\n",
    "project_endpoints = ProjectEndpoints(*ENDPOINT_ARGS)\n",
    "material_endpoints = MaterialEndpoints(*ENDPOINT_ARGS)\n",
    "property_endpoints = PropertiesEndpoints(*ENDPOINT_ARGS)\n",
    "bank_workflow_endpoints = BankWorkflowEndpoints(*ENDPOINT_ARGS)"
   ],
   "metadata": {
    "collapsed": false,
    "pycharm": {
     "name": "#%%\n"
    }
   },
   "id": "979e35d5e828f794"
  },
  {
   "cell_type": "markdown",
   "source": [
    "## Create Material in the platform"
   ],
   "metadata": {
    "collapsed": false,
    "pycharm": {
     "name": "#%% md\n"
    }
   },
   "id": "6ea47ba011947ad5"
  },
  {
   "cell_type": "code",
   "execution_count": null,
   "outputs": [],
   "source": [
    "material_heterostructure[\"name\"] = f\"Heterostructure - {jid1} with {jid2}\"\n",
    "material_heterostructure_in_the_platform = material_endpoints.create(material_heterostructure)\n",
    "\n",
    "material_film[\"name\"] = f\"Film - {jid1}\"\n",
    "material_film_in_the_platform = material_endpoints.create(material_film)\n",
    "\n",
    "material_substrate[\"name\"] = f\"Substrate - {jid2}\"\n",
    "material_substrate_in_the_platform = material_endpoints.create(material_substrate)"
   ],
   "metadata": {
    "collapsed": false,
    "pycharm": {
     "name": "#%%\n"
    }
   },
   "id": "84b4ae0786b716cc"
  },
  {
   "cell_type": "markdown",
   "source": [
    "## Create a workflow if it does not exist yet\n",
    "\n",
    "Here we utilize the id of the Valence Band bank workflow from \"curators\" account `kXJ9j9piJTddX9FHz` and import it if it does not exist in the account collection."
   ],
   "metadata": {
    "collapsed": false,
    "pycharm": {
     "name": "#%% md\n"
    }
   },
   "id": "ca5e8436bab6f5bd"
  },
  {
   "cell_type": "code",
   "execution_count": null,
   "outputs": [],
   "source": [
    "BANK_ID = \"kXJ9j9piJTddX9FHz\"\n",
    "workflow_in_the_platform = bank_workflow_endpoints.copy(BANK_ID, ACCOUNT_ID)"
   ],
   "metadata": {
    "collapsed": false,
    "pycharm": {
     "name": "#%%\n"
    }
   },
   "id": "443484aaa75ac2ff"
  },
  {
   "cell_type": "markdown",
   "source": [
    "## Create and Run a Job\n",
    "\n",
    "Create Job config"
   ],
   "metadata": {
    "collapsed": false
   },
   "id": "da418324b250a490"
  },
  {
   "cell_type": "code",
   "execution_count": null,
   "outputs": [],
   "source": [
    "PPN = \"4\"\n",
    "QUEUE = \"D\"\n",
    "NODES = \"1\"\n",
    "TIME_LIMIT = \"01:00:00\"\n",
    "# Using MSFT Azure cluster with a bit larger memory bandwidth in \"D\" queue\n",
    "CLUSTER = \"master-production-20160630-cluster-007.exabyte.io\"\n",
    "\n",
    "compute = job_endpoints.get_compute(CLUSTER, PPN, NODES, QUEUE, TIME_LIMIT)\n",
    "\n",
    "config = {\n",
    "    \"owner\": {\"_id\": ACCOUNT_ID},\n",
    "    \"_material\": {\n",
    "        \"_id\": material_heterostructure_in_the_platform[\"_id\"]\n",
    "    },\n",
    "    \"_materials\": [\n",
    "        {\"_id\": material_heterostructure_in_the_platform[\"_id\"]},\n",
    "        {\"_id\": material_substrate_in_the_platform[\"_id\"]},\n",
    "        {\"_id\": material_film_in_the_platform[\"_id\"]},\n",
    "    ],\n",
    "    \"workflow\": {\"_id\": workflow_in_the_platform[\"_id\"]},\n",
    "    \"name\": f\"Valence Band - {material_heterostructure['name']}\",\n",
    "    \"compute\": compute,\n",
    "}"
   ],
   "metadata": {
    "collapsed": false,
    "pycharm": {
     "name": "#%%\n"
    }
   },
   "id": "b4354c90697ee8de"
  },
  {
   "cell_type": "markdown",
   "source": [
    "Then create a job"
   ],
   "metadata": {
    "collapsed": false
   },
   "id": "c907fce6c3a3f59e"
  },
  {
   "cell_type": "code",
   "execution_count": null,
   "outputs": [],
   "source": [
    "job = job_endpoints.create(config)"
   ],
   "metadata": {
    "collapsed": false,
    "pycharm": {
     "name": "#%%\n"
    }
   },
   "id": "d6537b79de46978a"
  },
  {
   "cell_type": "markdown",
   "source": [
    "then run it"
   ],
   "metadata": {
    "collapsed": false,
    "pycharm": {
     "name": "#%% md\n"
    }
   },
   "id": "f4b7b12d8cd5019e"
  },
  {
   "cell_type": "code",
   "execution_count": null,
   "outputs": [],
   "source": [
    "job_endpoints.submit(job[\"_id\"])"
   ],
   "metadata": {
    "collapsed": false,
    "pycharm": {
     "name": "#%%\n"
    }
   },
   "id": "cc878e6674215ecc"
  },
  {
   "cell_type": "markdown",
   "source": [
    "and wait for it to finish"
   ],
   "metadata": {
    "collapsed": false
   },
   "id": "2ef0dfa179949972"
  },
  {
   "cell_type": "code",
   "execution_count": null,
   "outputs": [],
   "source": [
    "from utils.generic import wait_for_jobs_to_finish, get_property_by_subworkflow_and_unit_indicies\n",
    "job_id = job[\"_id\"]\n",
    "wait_for_jobs_to_finish(job_endpoints, [job_id])"
   ],
   "metadata": {
    "collapsed": false,
    "pycharm": {
     "name": "#%%\n"
    }
   },
   "id": "436d477f7245ea02"
  },
  {
   "cell_type": "markdown",
   "source": [
    "Then get job files:"
   ],
   "metadata": {
    "collapsed": false
   },
   "id": "2a2cc84332f6d98b"
  },
  {
   "cell_type": "code",
   "execution_count": null,
   "outputs": [],
   "source": [
    "files = job_endpoints.list_files(job_id)\n",
    "paths = [file[\"key\"] for file in files]\n",
    "for path in paths:\n",
    "    if \"outdir\" not in path:\n",
    "        print(path)\n",
    "\n",
    "for file in files:\n",
    "    if file[\"name\"] == \"pw_scf.out\":\n",
    "        output_file_metadata = file\n",
    "\n",
    "import urllib\n",
    "\n",
    "server_response = urllib.request.urlopen(output_file_metadata[\"signedUrl\"])\n",
    "output_file = server_response.read().decode(encoding=\"UTF-8\")\n",
    "\n",
    "with open(output_file_metadata[\"name\"], \"w\") as file_descriptor:\n",
    "    file_descriptor.write(output_file)"
   ],
   "metadata": {
    "collapsed": false,
    "pycharm": {
     "name": "#%%\n"
    }
   },
   "id": "3199c5b7ecf347ef"
  },
  {
   "cell_type": "markdown",
   "source": [
    "and get job properties using the index of a subworkflow in workflow and the index of unit in subworkflow (0, 0) below"
   ],
   "metadata": {
    "collapsed": false
   },
   "id": "d155c1096b7499f5"
  },
  {
   "cell_type": "code",
   "execution_count": null,
   "outputs": [],
   "source": [
    "pressure = get_property_by_subworkflow_and_unit_indicies(property_endpoints, \"pressure\", job, 0, 0)\n",
    "print(pressure[\"data\"][\"value\"])"
   ],
   "metadata": {
    "collapsed": false,
    "pycharm": {
     "name": "#%%\n"
    }
   },
   "id": "651c91cebd378528"
  }
 ],
 "metadata": {
  "kernelspec": {
   "display_name": "Python 3",
   "language": "python",
   "name": "python3"
  },
  "language_info": {
   "codemirror_mode": {
    "name": "ipython",
    "version": 2
   },
   "file_extension": ".py",
   "mimetype": "text/x-python",
   "name": "python",
   "nbconvert_exporter": "python",
   "pygments_lexer": "ipython2",
   "version": "2.7.6"
  }
 },
 "nbformat": 4,
 "nbformat_minor": 5
}
