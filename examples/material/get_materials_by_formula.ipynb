version https://git-lfs.github.com/spec/v1
oid sha256:95c44175fa75e0e03d51c188826171f3b36f1e35ac2aeb0d63ec535790edf7ea
size 11834
