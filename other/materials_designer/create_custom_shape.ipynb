{
 "cells": [
  {
   "cell_type": "markdown",
   "source": [
    "# Create Custom Shape\n",
    "\n",
    "Create a slab with a complex cutout pattern.\n",
    "By default, this notebook generates a structure resembling a transistor:\n",
    "- Two vertical side walls\n",
    "- Two parallel channels at the top\n",
    "- A deeper central cavity\n",
    "\n",
    "<h2 style=\"color:green\">Usage</h2>\n",
    "\n",
    "1. Make sure to select Input Material (in the outer runtime) before running the notebook.\n",
    "2. Set structural parameters in cell 1.2 below\n",
    "4. Click \"Run\" > \"Run All\" to:\n",
    "   - Create the base slab\n",
    "   - Apply the cutout pattern\n",
    "   - Generate the final structure\n",
    "5. Scroll down to view the resulting structure from multiple angles\n",
    "\n",
    "\n",
    "## Notes\n",
    "\n",
    "1. For more information, see [Introduction](Introduction.ipynb)\n",
    "<!-- # TODO: use a hashtag-based anchor link to interface creation documention above -->\n"
   ],
   "metadata": {
    "collapsed": false
   },
   "id": "f2e1e795020d7b3f"
  },
  {
   "cell_type": "markdown",
   "source": [
    "## 1. Prepare the Environment"
   ],
   "metadata": {
    "collapsed": false
   },
   "id": "98aa134f51746218"
  },
  {
   "cell_type": "markdown",
   "source": [
    "### 1.1. Install Packages\n",
    "The step executes only in Pyodide environment. For other environments, the packages should be installed via `pip install` (see [README](../../README.ipynb))."
   ],
   "metadata": {
    "collapsed": false
   },
   "id": "f416dcc0cc3cd89a"
  },
  {
   "cell_type": "code",
   "outputs": [],
   "source": [
    "import sys\n",
    "\n",
    "if sys.platform == \"emscripten\":\n",
    "    import micropip\n",
    "\n",
    "    await micropip.install('mat3ra-api-examples', deps=False)\n",
    "    from utils.jupyterlite import install_packages\n",
    "\n",
    "    await install_packages(\"\", \"../../config.yml\")"
   ],
   "metadata": {
    "collapsed": false
   },
   "id": "280f9794a876678b",
   "execution_count": null
  },
  {
   "cell_type": "markdown",
   "source": [
    "### 1.2. Set up transformation parameters "
   ],
   "metadata": {
    "collapsed": false
   },
   "id": "b3d4d3ea7b589f89"
  },
  {
   "cell_type": "code",
   "outputs": [],
   "source": [
    "from typing import List\n",
    "\n",
    "from mat3ra.made.tools.utils.coordinate import CoordinateCondition\n",
    "\n",
    "MILLER_INDICES = (0, 0, 1)\n",
    "THICKNESS = 8\n",
    "VACUUM = 10.0\n",
    "USE_ORTHOGONAL_Z = True\n",
    "XY_SUPERCELL_MATRIX = [[10, 0], [0, 10]]\n",
    "\n",
    "\n",
    "# Custom shape parameters in crystal units of the slab\n",
    "LEFT_WALL_POSITION = 0.2\n",
    "RIGHT_WALL_POSITION = 0.8\n",
    "LEFT_CHANNEL_POSITION = 0.3\n",
    "RIGHT_CHANNEL_POSITION = 0.7\n",
    "CHANNEL_DEPTH = 0.8\n",
    "CAVITY_DEPTH = 0.5\n",
    "\n",
    "\n",
    "# Custom Coordinate Condition for a transistor mock\n",
    "class CustomCoordinateCondition(CoordinateCondition):\n",
    "    \"\"\"\n",
    "    Defines a transistor-like structure with side walls, channels, and a central cavity.\n",
    "    All dimensions are specified as fractions of the total size (0.0 to 1.0).\n",
    "    \"\"\"\n",
    "    # Side walls positioning (x-direction)\n",
    "    left_wall_position: float = 0.2   # 20% from left edge\n",
    "    right_wall_position: float = 0.8  # 80% from left edge\n",
    "    \n",
    "    # Channel positioning (y-direction)\n",
    "    left_channel_position: float = 0.3   # 30% from front\n",
    "    right_channel_position: float = 0.7  # 70% from front\n",
    "    \n",
    "    # Height levels (z-direction)\n",
    "    channel_depth: float = 0.8    # Channels go down to 80% height\n",
    "    cavity_depth: float = 0.5     # Central cavity goes down to 50% height\n",
    "\n",
    "    def condition(self, coordinate: List[float]) -> bool:\n",
    "        \"\"\"\n",
    "        Determines which atoms should be removed to create the structure.\n",
    "        Returns True for positions where atoms should be removed.\n",
    "        \n",
    "        The structure consists of:\n",
    "        1. Side walls: Two vertical walls running along the y-axis\n",
    "        2. Channels: Two trenches at the top running along the x-axis\n",
    "        3. Cavity: A deeper central region between the channels\n",
    "        \"\"\"\n",
    "        x, y, z = coordinate  # Unpack coordinates for clarity\n",
    "        \n",
    "        # Define the structural elements\n",
    "        is_in_left_wall = x <= self.left_wall_position\n",
    "        is_in_right_wall = x >= self.right_wall_position\n",
    "        \n",
    "        is_in_left_channel = y <= self.left_channel_position\n",
    "        is_in_right_channel = y >= self.right_channel_position\n",
    "        \n",
    "        # Remove material to create channels at the top\n",
    "        should_remove_for_channels = (\n",
    "            z < self.channel_depth and \n",
    "            (is_in_left_channel or is_in_right_channel)\n",
    "        )\n",
    "        \n",
    "        # Remove material to create the deeper central cavity\n",
    "        should_remove_for_cavity = (\n",
    "            z < self.cavity_depth and                    # Check depth\n",
    "            self.left_wall_position < x < self.right_wall_position and  # Between walls\n",
    "            not is_in_left_channel and not is_in_right_channel          # Between channels\n",
    "        )\n",
    "        \n",
    "        return (\n",
    "            is_in_left_wall or   \n",
    "            is_in_right_wall or  \n",
    "            should_remove_for_channels or\n",
    "            should_remove_for_cavity   \n",
    "        )\n",
    "\n",
    "\n",
    "condition = CustomCoordinateCondition().condition"
   ],
   "metadata": {
    "collapsed": false
   },
   "id": "5177e239254e3601",
   "execution_count": null
  },
  {
   "cell_type": "markdown",
   "source": [
    "### 1.3. Get input materials"
   ],
   "metadata": {
    "collapsed": false
   },
   "id": "91724db55eddad60"
  },
  {
   "cell_type": "code",
   "outputs": [],
   "source": [
    "from utils.jupyterlite import get_materials\n",
    "\n",
    "materials = get_materials(globals())\n",
    "material = materials[0]"
   ],
   "metadata": {
    "collapsed": false
   },
   "id": "ceebf2a5229da67c",
   "execution_count": null
  },
  {
   "cell_type": "markdown",
   "source": [
    "### 1.4. Preview the material"
   ],
   "metadata": {
    "collapsed": false
   },
   "id": "13964644436b4156"
  },
  {
   "cell_type": "code",
   "outputs": [],
   "source": [
    "from utils.visualize import visualize_materials as visualize\n",
    "\n",
    "visualize(material, repetitions=[3, 3, 3], rotation=\"0x\")\n",
    "visualize(material, repetitions=[3, 3, 3], rotation=\"-90x\")"
   ],
   "metadata": {
    "collapsed": false
   },
   "id": "45f0c424ece00186",
   "execution_count": null
  },
  {
   "cell_type": "markdown",
   "source": [
    "## 2. Create target material\n",
    "### 2.1. Create a slab with custom shape cutout"
   ],
   "metadata": {
    "collapsed": false
   },
   "id": "615800437b2ef7a"
  },
  {
   "cell_type": "code",
   "outputs": [],
   "source": [
    "from mat3ra.made.tools.modify import filter_by_condition_on_coordinates, add_vacuum\n",
    "from mat3ra.made.tools.build.slab import create_slab, SlabConfiguration\n",
    "\n",
    "slab_config = SlabConfiguration(\n",
    "    bulk=material,\n",
    "    miller_indices=MILLER_INDICES,\n",
    "    thickness=THICKNESS,\n",
    "    vacuum=0,\n",
    "    xy_supercell_matrix=XY_SUPERCELL_MATRIX,\n",
    "    use_orthogonal_z=True,\n",
    ")\n",
    "\n",
    "slab_unit_cell = create_slab(slab_config)\n",
    "resulting_material = filter_by_condition_on_coordinates(slab_unit_cell, condition)\n",
    "resulting_material = add_vacuum(resulting_material, VACUUM)"
   ],
   "metadata": {
    "collapsed": false
   },
   "id": "422815d29aa347a1",
   "execution_count": null
  },
  {
   "cell_type": "markdown",
   "source": [
    "## 3. Visualize the result"
   ],
   "metadata": {
    "collapsed": false
   },
   "id": "57cc38ec0df3c1f7"
  },
  {
   "cell_type": "code",
   "outputs": [],
   "source": [
    "visualize(resulting_material, repetitions=[1, 1, 1], rotation=\"0x\")\n",
    "visualize(resulting_material, repetitions=[1, 1, 1], rotation=\"-90x\")\n",
    "visualize(resulting_material, repetitions=[1, 1, 1], rotation=\"-90x,-90y\")"
   ],
   "metadata": {
    "collapsed": false
   },
   "id": "2a9627cd4a261067",
   "execution_count": null
  },
  {
   "cell_type": "markdown",
   "source": [
    "# 4. Pass material to the outside runtime"
   ],
   "metadata": {
    "collapsed": false
   },
   "id": "c67e6f5363e80942"
  },
  {
   "cell_type": "code",
   "outputs": [],
   "source": [
    "from utils.jupyterlite import set_materials\n",
    "resulting_material.name = \"Custom Shape\"\n",
    "set_materials(resulting_material)"
   ],
   "metadata": {
    "collapsed": false
   },
   "id": "cbee60d4b936e5cb",
   "execution_count": null
  }
 ],
 "metadata": {
  "kernelspec": {
   "display_name": "Python 3",
   "language": "python",
   "name": "python3"
  },
  "language_info": {
   "codemirror_mode": {
    "name": "ipython",
    "version": 2
   },
   "file_extension": ".py",
   "mimetype": "text/x-python",
   "name": "python",
   "nbconvert_exporter": "python",
   "pygments_lexer": "ipython2",
   "version": "2.7.6"
  }
 },
 "nbformat": 4,
 "nbformat_minor": 5
}
