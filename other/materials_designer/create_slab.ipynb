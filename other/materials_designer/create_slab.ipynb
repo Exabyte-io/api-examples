{
 "cells": [
  {
   "cell_type": "code",
   "execution_count": null,
   "id": "initial_id",
   "metadata": {
    "collapsed": true
   },
   "outputs": [],
   "source": [
    "from mat3ra.made.tools.convert import to_ase\n",
    "\n",
    "from utils.jupyterlite import get_data\n",
    "from mat3ra.made.material import Material\n",
    "\n",
    "get_data(\"materials\", globals())\n",
    "material = Material(materials[5])"
   ]
  },
  {
   "cell_type": "code",
   "outputs": [],
   "source": [
    "from mat3ra.made.tools.build.defect.builders import SlabDefectBuilderParameters, EquidistantAdatomSlabDefectBuilder, CrystalSiteAdatomSlabDefectBuilder\n",
    "from mat3ra.made.tools.build.defect import create_slab_defect\n",
    "from mat3ra.made.tools.build.defect.configuration import AdatomSlabDefectConfiguration\n",
    "\n",
    "from mat3ra.made.tools.build.supercell import create_supercell\n",
    "from utils.visualize import visualize_materials\n",
    "from mat3ra.made.tools.build.slab import create_slab, SlabConfiguration, get_terminations\n",
    "material = Material(materials[0])\n",
    "visualize_materials(material)\n",
    "\n",
    "slab_config = SlabConfiguration(material, (1,1,1), thickness=3, vacuum=6, use_orthogonal_z=True, xy_supercell_matrix=[[3,0,0],[0,3,0],[0,0,1]])\n",
    "t = get_terminations(slab_config)[0]\n",
    "slab = create_slab(slab_config, t)\n",
    "supercell = create_supercell(slab, [[1,0,0],[0,1,0],[0,0,1]])\n",
    "\n",
    "\n",
    "slab_config_4 = SlabConfiguration(material, (1,1,1), thickness=4, vacuum=6, use_orthogonal_z=True, xy_supercell_matrix=[[3,0,0],[0,3,0],[0,0,1]])\n",
    "slab_4 = create_slab(slab_config_4, t)\n",
    "\n",
    "slab_config_5 = SlabConfiguration(material, (1,1,1), thickness=5, vacuum=6, use_orthogonal_z=True, xy_supercell_matrix=[[2,0,0],[0,2,0],[0,0,1]])\n",
    "\n",
    "slab_5 = create_slab(slab_config_5, t)\n",
    "\n",
    "from mat3ra.made.tools.modify import translate_by_vector, translate_to_z_level, remove_vacuum\n",
    "# translated_supercell = translate_by_vector(supercell, [0,0,0.25])\n",
    "# top_supercell = translate_to_z_level(supercell, z_level=\"top\")\n",
    "# visualize_materials([supercell, translated_supercell, top_supercell], rotation=\"-90x\")\n",
    "# no_vacuum_supercell = remove_vacuum(supercell)\n",
    "# visualize_materials([no_vacuum_supercell], rotation=\"-90x\")\n",
    "\n",
    "configuration = AdatomSlabDefectConfiguration(crystal = supercell, defect_type=\"adatom\", position_on_surface=[0.77, 0.85], chemical_element=\"Cu\", distance_z=2.5)\n",
    "builder_params = EquidistantAdatomSlabDefectBuilder()\n",
    "# \n",
    "material_adatom = create_slab_defect(configuration)\n",
    "visualize_materials([{\"material\":material_adatom, \"rotation\":\"-90x\"},{\"material\":material_adatom} ])\n",
    "\n",
    "# \n",
    "equidistant_adatom_slab_defect = create_slab_defect(configuration, builder_params)\n",
    "visualize_materials([{\"material\":equidistant_adatom_slab_defect, \"rotation\":\"-90x\"},{\"material\":equidistant_adatom_slab_defect} ])\n",
    "\n",
    "print(equidistant_adatom_slab_defect.basis.coordinates.values[-1])\n",
    "\n",
    "print(slab.metadata)\n",
    "crystal_site_configuration = AdatomSlabDefectConfiguration(crystal = slab, defect_type=\"adatom\", position_on_surface=[0.77, 0.5],  distance_z=2.0)\n",
    "crystal_site_builder_params = CrystalSiteAdatomSlabDefectBuilder()\n",
    "crystal_site_adatom_slab_defect = create_slab_defect(crystal_site_configuration, crystal_site_builder_params)\n",
    "visualize_materials([{\"material\":slab_4, \"rotation\":\"-90x\"}, {\"material\":crystal_site_adatom_slab_defect, \"rotation\":\"-90x\", \"title\":\"CRYSTAL SITE\"}])\n",
    "visualize_materials([{\"material\":slab_4}, {\"material\":crystal_site_adatom_slab_defect} ])\n",
    "# visualize_materials([{\"material\":slab_5}, {\"material\":crystal_site_adatom_slab_defect} ])\n",
    "\n",
    "# visualize_materials([{\"material\":slab_4, \"rotation\":\"-90x\"}, {\"material\":slab_5, \"rotation\":\"-90x\"}, {\"material\":crystal_site_adatom_slab_defect, \"rotation\":\"-90x\", \"title\":\"CRYSTAL SITE\"}])\n",
    "# print(crystal_site_adatom_slab_defect.basis.coordinates.values[-1])\n",
    "# print(crystal_site_adatom_slab_defect.basis.coordinates.values)\n",
    "print(crystal_site_adatom_slab_defect.lattice)"
   ],
   "metadata": {
    "collapsed": false
   },
   "id": "741d171aedcaea71",
   "execution_count": null
  },
  {
   "cell_type": "code",
   "outputs": [],
   "source": [
    "clean_material = Material.create(Material.default_config)\n",
    "\n",
    "material = Material.create(Material.default_config)\n",
    "slab_config = SlabConfiguration(material, (1, 1, 1), thickness=3, vacuum=3, use_orthogonal_z=True, xy_supercell_matrix=[[2,0,0], [0,2,0], [0,0,1]])\n",
    "t = get_terminations(slab_config)[0]\n",
    "slab = create_slab(slab_config, t)\n",
    "slab = remove_vacuum(slab)\n",
    "\n",
    "\n",
    "def test_create_adatom():\n",
    "    clean_slab = slab.clone()\n",
    "    # Adatom of Si at 0.5, 0.5 position\n",
    "    configuration = AdatomSlabDefectConfiguration(\n",
    "        crystal=clean_slab, position_on_surface=[0.5, 0.5], distance_z=2, chemical_element=\"Cu\"\n",
    "    )\n",
    "    defect = create_slab_defect(configuration=configuration, builder=None)\n",
    "    \n",
    "    visualize_materials([{\"material\":defect, \"rotation\":\"-90x\"}, {\"material\":defect} ])\n",
    "\n",
    "\n",
    "\n",
    "def test_create_adatom_equidistant():\n",
    "    clean_slab = slab.clone()\n",
    "    # Adatom of Si at approximate 0.5, 0.5 position\n",
    "    configuration = AdatomSlabDefectConfiguration(\n",
    "        crystal=clean_slab, position_on_surface=[0.5, 0.5], distance_z=2, chemical_element=\"Cu\"\n",
    "    )\n",
    "    defect = create_slab_defect(configuration=configuration, builder=EquidistantAdatomSlabDefectBuilder())\n",
    "    \n",
    "    visualize_materials([{\"material\":defect, \"rotation\":\"-40x\"}, {\"material\":defect} ])\n",
    "    \n",
    "    print(defect.basis.coordinates.values[-1])\n",
    "    print(defect.lattice)\n",
    "    \n",
    "test_create_adatom()\n",
    "test_create_adatom_equidistant()"
   ],
   "metadata": {
    "collapsed": false
   },
   "id": "26e4e4ec0f1a1297",
   "execution_count": null
  },
  {
   "cell_type": "markdown",
   "source": [],
   "metadata": {
    "collapsed": false
   },
   "id": "fc2c8797433f0748"
  },
  {
   "cell_type": "code",
   "outputs": [],
   "source": [
    "from mat3ra.made.utils import ArrayWithIds\n",
    "\n",
    "\n",
    "def test_create_adatom_equidistant():\n",
    "    clean_material = Material.create(Material.default_config)\n",
    "    slab_config = SlabConfiguration(\n",
    "        bulk=clean_material,\n",
    "        miller_indices=(1, 1, 1),\n",
    "        thickness=3,\n",
    "        vacuum=6,\n",
    "        use_orthogonal_z=True,\n",
    "        xy_supercell_matrix=[[3, 0], [0, 3]],\n",
    "    )\n",
    "    t = get_terminations(slab_config)[1]\n",
    "    slab = create_slab(slab_config, t)\n",
    "    slab_adjusted = slab.clone()\n",
    "    new_basis = slab_adjusted.basis.copy()\n",
    "    print(new_basis)\n",
    "    new_basis.coordinates = ArrayWithIds(values=[[0.305555556, 0.027777778, 0.013888889], [0.305555556, 0.027777778, 0.097222222], [0.083333333, 0.25, 0.125], [0.083333333, 0.25, 0.208333333], [0.194444444, 0.138888889, 0.236111111], [0.194444444, 0.138888889, 0.319444444], [0.305555556, 0.361111111, 0.013888889], [0.305555556, 0.361111111, 0.097222222], [0.083333333, 0.583333333, 0.125], [0.083333333, 0.583333333, 0.208333333], [0.194444444, 0.472222222, 0.236111111], [0.194444444, 0.472222222, 0.319444444], [0.305555556, 0.694444444, 0.013888889], [0.305555556, 0.694444444, 0.097222222], [0.083333333, 0.916666667, 0.125], [0.083333333, 0.916666667, 0.208333333], [0.194444444, 0.805555556, 0.236111111], [0.194444444, 0.805555556, 0.319444444], [0.638888889, 0.027777778, 0.013888889], [0.638888889, 0.027777778, 0.097222222], [0.416666667, 0.25, 0.125], [0.416666667, 0.25, 0.208333333], [0.527777778, 0.138888889, 0.236111111], [0.527777778, 0.138888889, 0.319444444], [0.638888889, 0.361111111, 0.013888889], [0.638888889, 0.361111111, 0.097222222], [0.416666667, 0.583333333, 0.125], [0.416666667, 0.583333333, 0.208333333], [0.527777778, 0.472222222, 0.236111111], [0.527777778, 0.472222222, 0.319444444], [0.638888889, 0.694444444, 0.013888889], [0.638888889, 0.694444444, 0.097222222], [0.416666667, 0.916666667, 0.125], [0.416666667, 0.916666667, 0.208333333], [0.527777778, 0.805555556, 0.236111111], [0.527777778, 0.805555556, 0.319444444], [0.972222222, 0.027777778, 0.013888889], [0.972222222, 0.027777778, 0.097222222], [0.75, 0.25, 0.125], [0.75, 0.25, 0.208333333], [0.861111111, 0.138888889, 0.236111111], [0.861111111, 0.138888889, 0.319444444], [0.972222222, 0.361111111, 0.013888889], [0.972222222, 0.361111111, 0.097222222], [0.75, 0.583333333, 0.125], [0.75, 0.583333333, 0.208333333], [0.861111111, 0.472222222, 0.236111111], [0.861111111, 0.472222222, 0.319444444], [0.972222222, 0.694444444, 0.013888889], [0.972222222, 0.694444444, 0.097222222], [0.75, 0.916666667, 0.125], [0.75, 0.916666667, 0.208333333], [0.861111111, 0.805555556, 0.236111111], [0.861111111, 0.805555556, 0.319444444]], ids=new_basis.coordinates.ids)\n",
    "    slab_adjusted.basis = new_basis\n",
    "    visualize_materials([slab, slab_adjusted], rotation=\"-90x\")\n",
    "    visualize_materials([slab, slab_adjusted])\n",
    "    # Adatom of Si at approximate 0.5, 0.5 position\n",
    "    configuration = AdatomSlabDefectConfiguration(\n",
    "        crystal=slab, position_on_surface=[0.5, 0.5], distance_z=2, chemical_element=\"Cu\"\n",
    "    )\n",
    "    defect = create_slab_defect(configuration=configuration, builder=EquidistantAdatomSlabDefectBuilder())\n",
    "    \n",
    "    visualize_materials([{\"material\":defect, \"rotation\":\"-40x\"}, {\"material\":defect} ])\n",
    "    print(defect.basis)\n",
    "    print(defect.basis.coordinates.values[-1])\n",
    "test_create_adatom_equidistant()"
   ],
   "metadata": {
    "collapsed": false
   },
   "id": "7718d3093f50797b",
   "execution_count": null
  },
  {
   "cell_type": "code",
   "outputs": [],
   "source": [
    "import numpy as np\n",
    "coordinates = equidistant_adatom_slab_defect.basis.coordinates.values\n",
    "print(coordinates[:-3])\n",
    "list(np.mean(np.array(coordinates), axis=0))"
   ],
   "metadata": {
    "collapsed": false
   },
   "id": "54c041f7a299f933",
   "execution_count": null
  },
  {
   "cell_type": "code",
   "outputs": [],
   "source": [
    "from typing import Callable, List\n",
    "\n",
    "\n",
    "def get_atom_indices_with_projection(\n",
    "    material: Material,\n",
    "    equation: Callable[[float, float], bool],\n",
    "    use_cartesian: bool = False,\n",
    "    invert: bool = False\n",
    ") -> List[int]:\n",
    "    \"\"\"\n",
    "    Select atoms whose x and y coordinates satisfy the given equation (or inequality).\n",
    "\n",
    "    Args:\n",
    "        material (Material): Material object\n",
    "        equation (Callable[[float, float], bool]): Function representing the equation or inequality.\n",
    "        invert (bool): Whether to invert the selection.\n",
    "\n",
    "    Returns:\n",
    "        List[int]: List of indices of atoms within the specified region.\n",
    "    \"\"\"\n",
    "    new_material = material.clone()\n",
    "    if use_cartesian:\n",
    "        new_basis = new_material.basis\n",
    "        new_basis.to_cartesian()\n",
    "        new_material.basis = new_basis\n",
    "    coordinates = new_material.basis.coordinates.to_array_of_values_with_ids()\n",
    "\n",
    "    selected_indices = []\n",
    "    for coord in coordinates:\n",
    "        x, y = coord.value[0], coord.value[1]\n",
    "        if invert ^ equation(x, y):\n",
    "            selected_indices.append(coord.id)\n",
    "\n",
    "    return selected_indices\n",
    "\n",
    "\n",
    "def circle_equation(x, y, h=0, k=0, r=1) -> bool:\n",
    "    return (x - h)**2 + (y - k)**2 <= r**2\n",
    "\n",
    "def rectangle_equation(x, y, a=0, b=1, c=0, d=1) -> bool:\n",
    "    return a <= x <= b and c <= y <= d\n"
   ],
   "metadata": {
    "collapsed": false
   },
   "id": "c40ba78a5c86fb44",
   "execution_count": null
  },
  {
   "cell_type": "code",
   "outputs": [],
   "source": [
    "from mat3ra.made.tools.modify import filter_material_by_ids\n",
    "\n",
    "# Select atoms within a circle\n",
    "# circle_indices = get_atom_indices_with_projection(supercell, lambda x, y: circle_equation(x, y, h=0.25, k=0.5, r=0.25))\n",
    "# circle_material = filter_material_by_ids(supercell, circle_indices)\n",
    "# visualize_materials([{\"material\":circle_material, \"rotation\":\"-90x\"}, {\"material\":circle_material},{\"material\":circle_material, \"rotation\":\"-90x,-90y\"}])\n",
    "# \n",
    "outside_circle_indices = get_atom_indices_with_projection(supercell, lambda x, y: circle_equation(x, y, h=0.25, k=0.5, r=0.25), invert=True)\n",
    "outside_circle_material = filter_material_by_ids(supercell, outside_circle_indices)\n",
    "visualize_materials([{\"material\":outside_circle_material, \"rotation\":\"-90x\"}, {\"material\":outside_circle_material},{\"material\":outside_circle_material, \"rotation\":\"-90x,-90y\"}])\n",
    "\n",
    "# Select atoms within a rectangle\n",
    "rectangle_indices = get_atom_indices_with_projection(supercell, lambda x, y: rectangle_equation(x, y, a=3, b=7, c=0, d=7), use_cartesian=True, invert=True)\n",
    "rectangle_material = filter_material_by_ids(supercell, rectangle_indices)\n",
    "visualize_materials([{\"material\":rectangle_material, \"rotation\":\"-90x\"}, {\"material\":rectangle_material},{\"material\":rectangle_material, \"rotation\":\"-90x,-90y\"}])"
   ],
   "metadata": {
    "collapsed": false
   },
   "id": "53e6877d99a27aad",
   "execution_count": null
  },
  {
   "cell_type": "code",
   "outputs": [],
   "source": [
    "cart_outside_circle_indices = get_atom_indices_with_projection(supercell, lambda x, y: circle_equation(x, y, h=10, k=10, r=5), use_cartesian=True, invert=True)\n",
    "cart_outside_circle_material = filter_material_by_ids(supercell, cart_outside_circle_indices)\n",
    "visualize_materials([{\"material\":cart_outside_circle_material, \"rotation\":\"-90x\"}, {\"material\":cart_outside_circle_material},{\"material\":cart_outside_circle_material, \"rotation\":\"-90x,-90y\"}])"
   ],
   "metadata": {
    "collapsed": false
   },
   "id": "c44696e4e309fff",
   "execution_count": null
  },
  {
   "cell_type": "code",
   "outputs": [],
   "source": [
    "import numpy as np\n",
    "\n",
    "\n",
    "def point_in_triangle(px, py, ax, ay, bx, by, cx, cy):\n",
    "    # Calculate vectors\n",
    "    v0 = [cx - ax, cy - ay]\n",
    "    v1 = [bx - ax, by - ay]\n",
    "    v2 = [px - ax, py - ay]\n",
    "\n",
    "    # Compute dot products\n",
    "    dot00 = np.dot(v0, v0)\n",
    "    dot01 = np.dot(v0, v1)\n",
    "    dot02 = np.dot(v0, v2)\n",
    "    dot11 = np.dot(v1, v1)\n",
    "    dot12 = np.dot(v1, v2)\n",
    "\n",
    "    # Compute barycentric coordinates\n",
    "    inv_denom = 1 / (dot00 * dot11 - dot01 * dot01)\n",
    "    u = (dot11 * dot02 - dot01 * dot12) * inv_denom\n",
    "    v = (dot00 * dot12 - dot01 * dot02) * inv_denom\n",
    "\n",
    "    # Check if point is in triangle\n",
    "    return (u >= 0) and (v >= 0) and (u + v < 1)\n",
    "\n",
    "def triangle_equation(x, y, ax, ay, bx, by, cx, cy):\n",
    "    return point_in_triangle(x, y, ax, ay, bx, by, cx, cy)"
   ],
   "metadata": {
    "collapsed": false
   },
   "id": "ac47c3a3410a711f",
   "execution_count": null
  },
  {
   "cell_type": "code",
   "outputs": [],
   "source": [
    "ax, ay = 0.1, 0.1\n",
    "bx, by = 0.75, 0.75\n",
    "cx, cy = 0.75, 0.1\n",
    "\n",
    "# Select atoms within the triangle\n",
    "triangle_indices = get_atom_indices_with_projection(supercell, lambda x, y: triangle_equation(x, y, ax, ay, bx, by, cx, cy), use_cartesian=False, invert=True)\n",
    "triangle_material = filter_material_by_ids(supercell, triangle_indices)\n",
    "visualize_materials([{\"material\":triangle_material, \"rotation\":\"-90x\"}, {\"material\":triangle_material},{\"material\":triangle_material, \"rotation\":\"-90x,-90y\"}])"
   ],
   "metadata": {
    "collapsed": false
   },
   "id": "4bb71de709bdb43d",
   "execution_count": null
  },
  {
   "cell_type": "code",
   "outputs": [],
   "source": [
    "material = Material.create(Material.default_config)\n",
    "\n",
    "\n",
    "def test_build_slab():\n",
    "    slab_config = SlabConfiguration(\n",
    "        bulk=material,\n",
    "        miller_indices=(0, 0, 1),\n",
    "        thickness=1,\n",
    "        vacuum=1,\n",
    "        xy_supercell_matrix=[[1, 0], [0, 1]],\n",
    "        use_orthogonal_z=True,\n",
    "    )\n",
    "    termination = get_terminations(slab_config)[0]\n",
    "    slab = create_slab(slab_config, termination)\n",
    "    visualize_materials(slab, rotation=\"-90x\")\n",
    "    assertion_utils.assert_deep_almost_equal(SI_SLAB, slab.to_json())\n",
    "\n",
    "test_build_slab()"
   ],
   "metadata": {
    "collapsed": false
   },
   "id": "8cce6f938015a5e7",
   "execution_count": null
  },
  {
   "cell_type": "code",
   "outputs": [],
   "source": [],
   "metadata": {
    "collapsed": false
   },
   "id": "520fe69132f3510c"
  }
 ],
 "metadata": {
  "kernelspec": {
   "display_name": "Python 3",
   "language": "python",
   "name": "python3"
  },
  "language_info": {
   "codemirror_mode": {
    "name": "ipython",
    "version": 2
   },
   "file_extension": ".py",
   "mimetype": "text/x-python",
   "name": "python",
   "nbconvert_exporter": "python",
   "pygments_lexer": "ipython2",
   "version": "2.7.6"
  }
 },
 "nbformat": 4,
 "nbformat_minor": 5
}
