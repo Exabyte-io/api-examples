{
 "cells": [
  {
   "cell_type": "markdown",
   "metadata": {},
   "source": [
    "\n",
    "\n",
    "# Relax interface using EMT potential\n",
    "Optimize atoms coordinates of the interface using the EMT (Effective Medium Theory) potential and BFGS.\n",
    "\n",
    "<b style=\"color:red\">NOTE:</b> The [EMT potential](https://wiki.fysik.dtu.dk/ase/ase/calculators/emt.html) is available for a limited number of elements (Al, Cu, Ag, Au, Ni, Pd and Pt, as well as H, C, N, O in a limited way). If the interface contains elements not supported by EMT, the relaxation will not be performed.\n",
    "\n",
    "<h2 style=\"color:green\">Usage</h2>\n",
    "\n",
    "1. To get interface material one can run [Create Interface with Min Strain ZSL](create_interface_with_min_strain_zsl.ipynb) notebook first. Upon completion, the resulting interface from it will be accessible in the current notebook as explained in [Data exchange](Introduction.ipynb#data-exchange).\n",
    "1. Set the relaxation parameter in cell 1.1. below (or use the default value).\n",
    "1. Click “Run” > “Run All” to run all cells. \n",
    "1. Wait for the run to complete (depending on the parameters can take a few min). \n",
    "1. Scroll down to view results. \n",
    "\n",
    "## Summary\n",
    "1. Prepare the Environment: Set up the notebook and install packages, preview the input materials\n",
    "1. Perform relaxation of the interface with set parameters\n",
    "1. View the structure before and after relaxation\n",
    "\n",
    "## Notes\n",
    "1. More detailed relaxation parameters can be set in cell 2.1. "
   ]
  },
  {
   "cell_type": "markdown",
   "source": [
    "## 1. Prepare the Environment\n",
    "### 1.1. Set up the relaxation parameter\n"
   ],
   "metadata": {
    "collapsed": false
   }
  },
  {
   "cell_type": "code",
   "outputs": [],
   "source": [
    "# Maximum force tolerance for the relaxation to stop, in eV/Å\n",
    "FMAX = 0.05"
   ],
   "metadata": {
    "collapsed": false
   },
   "execution_count": null
  },
  {
   "cell_type": "markdown",
   "source": [
    "### 1.2. Install Packages\n",
    "The step executes only in Pyodide environment. For other environments, the packages should be installed via `pip install` (see [README](../../README.ipynb))."
   ],
   "metadata": {
    "collapsed": false
   }
  },
  {
   "cell_type": "code",
   "outputs": [],
   "source": [
    "import sys\n",
    "\n",
    "if sys.platform == \"emscripten\":\n",
    "    import micropip\n",
    "    await micropip.install('mat3ra-api-examples', deps=False)\n",
    "    from utils.jupyterlite import install_packages\n",
    "    await install_packages(\"create_interface_with_min_strain_zsl.ipynb\", \"../../config.yml\")"
   ],
   "metadata": {
    "collapsed": false
   },
   "execution_count": null
  },
  {
   "cell_type": "markdown",
   "source": [
    "### 1.3. Get input interface material\n",
    "Materials are loaded with `get_data()`."
   ],
   "metadata": {
    "collapsed": false
   }
  },
  {
   "cell_type": "code",
   "execution_count": null,
   "metadata": {},
   "outputs": [],
   "source": [
    "from mat3ra.made.material import Material\n",
    "from utils.jupyterlite import get_data\n",
    "\n",
    "# Get the list of input materials and load them into `materials_in` variable\n",
    "get_data(\"materials_in\", globals())\n",
    "materials = list(map(Material, globals()[\"materials_in\"]))\n",
    "interface = materials[2]"
   ]
  },
  {
   "cell_type": "markdown",
   "source": [
    "### 1.4. Preview Interface"
   ],
   "metadata": {
    "collapsed": false
   }
  },
  {
   "cell_type": "code",
   "execution_count": null,
   "metadata": {},
   "outputs": [],
   "source": [
    "from utils.visualize import visualize_materials as visualize\n",
    "visualize(interface, repetitions=[3, 3, 1], rotation=\"0x\")"
   ]
  },
  {
   "cell_type": "markdown",
   "source": [
    "## 2. Perform Relaxation\n",
    "### 2.1. Set the optimization parameters"
   ],
   "metadata": {
    "collapsed": false
   }
  },
  {
   "cell_type": "code",
   "outputs": [],
   "source": [
    "from ase.optimize import BFGS\n",
    "from ase.calculators.emt import EMT\n",
    "from mat3ra.made.tools.convert import to_ase\n",
    "\n",
    "calculator = EMT()\n",
    "optimizer = BFGS\n",
    "OPTIMIZATION_PARAMETERS = {\n",
    "    \"FMAX\": FMAX\n",
    "}"
   ],
   "metadata": {
    "collapsed": false
   },
   "execution_count": null
  },
  {
   "cell_type": "markdown",
   "source": [
    "### 2.2. Optimize atomic coordinates of the interface and view energy/step plot"
   ],
   "metadata": {
    "collapsed": false
   }
  },
  {
   "cell_type": "code",
   "outputs": [],
   "source": [
    "from utils.plot import create_realtime_plot, plot_update_callback\n",
    "from mat3ra.made.tools.convert import from_ase\n",
    "\n",
    "# Add calculator to the interface for relaxation\n",
    "ase_interface = to_ase(interface)\n",
    "ase_interface.set_calculator(calculator)\n",
    "\n",
    "dyn = optimizer(ase_interface)\n",
    "steps = []\n",
    "energies = []\n",
    "\n",
    "fig = create_realtime_plot()\n",
    "\n",
    "# Run the relaxation\n",
    "dyn.attach(plot_update_callback(dyn, ase_interface, fig, steps, energies), interval=1)\n",
    "dyn.run(fmax=OPTIMIZATION_PARAMETERS[\"FMAX\"])\n",
    "\n",
    "ase_final_interface = ase_interface\n",
    "final_interface = Material(from_ase(ase_final_interface))"
   ],
   "metadata": {
    "collapsed": false
   },
   "execution_count": null
  },
  {
   "cell_type": "markdown",
   "metadata": {},
   "source": [
    "### 2.3. View structure before and after relaxation"
   ]
  },
  {
   "cell_type": "code",
   "execution_count": null,
   "metadata": {},
   "outputs": [],
   "source": [
    "visualize([{\"material\": interface, \"title\": \"original\"}, {\"material\":final_interface, \"title\":\"relaxed\"}], rotation= \"-90x\", repetitions=[3, 3, 1])\n"
   ]
  },
  {
   "cell_type": "markdown",
   "metadata": {},
   "source": [
    "### 2.4. Calculate energy using ASE EMT\n",
    "The interfacial energy is the sum of the surface energies of the substrate and film minus the adhesion energy. According to Dupré's formula"
   ]
  },
  {
   "cell_type": "code",
   "execution_count": null,
   "metadata": {},
   "outputs": [],
   "source": [
    "from mat3ra.made.tools.calculate import calculate_total_energy, calculate_interfacial_energy\n",
    "\n",
    "original_energy = calculate_total_energy(interface, calculator)\n",
    "relaxed_energy = calculate_total_energy(final_interface, calculator)\n",
    "interfacial_energy = calculate_interfacial_energy(interface=final_interface, calculator=calculator)\n",
    "\n",
    "# Print out the metrics\n",
    "print(f\"Starting interface energy: {original_energy:.4f} eV\")\n",
    "print(f\"Relaxed interface energy: {relaxed_energy:.4f} eV\")\n",
    "print(f\"Interfacial energy: {interfacial_energy:.4f} eV\")"
   ]
  },
  {
   "cell_type": "markdown",
   "source": [
    "## 3. Pass data to the outside runtime"
   ],
   "metadata": {
    "collapsed": false
   }
  },
  {
   "cell_type": "code",
   "outputs": [],
   "source": [
    "from utils.jupyterlite import set_data\n",
    "final_interface.name = f\"{interface.name}, Relaxed with EMT\" if \"Relaxed\" not in interface.name else interface.name\n",
    "set_data(\"materials\", [final_interface.to_json()])"
   ],
   "metadata": {
    "collapsed": false
   },
   "execution_count": null
  }
 ],
 "metadata": {
  "kernelspec": {
   "display_name": ".venv",
   "language": "python",
   "name": "python3"
  },
  "language_info": {
   "codemirror_mode": {
    "name": "ipython",
    "version": 3
   },
   "file_extension": ".py",
   "mimetype": "text/x-python",
   "name": "python",
   "nbconvert_exporter": "python",
   "pygments_lexer": "ipython3",
   "version": "3.10.12"
  },
  "widgets": {
   "application/vnd.jupyter.widget-state+json": {
    "state": {},
    "version_major": 2,
    "version_minor": 0
   }
  }
 },
 "nbformat": 4,
 "nbformat_minor": 4
}
