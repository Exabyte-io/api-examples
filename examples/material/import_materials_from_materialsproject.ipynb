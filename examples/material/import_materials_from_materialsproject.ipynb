version https://git-lfs.github.com/spec/v1
oid sha256:ed3b6d5e5c25a7d1cd83c72fd94a537f5d4e614d0732f1f39cdb51ef2cc13075
size 39171
