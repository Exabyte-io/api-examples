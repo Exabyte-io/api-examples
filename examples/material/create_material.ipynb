version https://git-lfs.github.com/spec/v1
oid sha256:ee4fea7c7e4c4853162ec9fde476d1375082bab41ad13a1235a5811ec68d9f05
size 11617
