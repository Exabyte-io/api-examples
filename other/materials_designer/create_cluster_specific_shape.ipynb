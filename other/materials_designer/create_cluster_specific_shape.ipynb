{
 "cells": [
  {
   "cell_type": "markdown",
   "source": [
    "# Create a nanocluster with a specific shape.\n",
    "\n",
    "Create a nanocluster using the ASE-based nanoparticle builder.\n",
    "\n",
    "<h2 style=\"color:green\">Usage</h2>\n",
    "\n",
    "1. Make sure to select Input Materials (in the outer runtime) before running the notebook.\n",
    "1. Set notebook parameters in cell 1.2. below (or use the default values).\n",
    "1. Click “Run” > “Run All” to run all cells. \n",
    "1. Scroll down to view results. \n",
    "\n",
    "\n",
    "## Notes\n",
    "\n",
    "1. For more information, see [Introduction](Introduction.ipynb)\n",
    "<!-- # TODO: use a hashtag-based anchor link to interface creation documention above -->\n"
   ],
   "metadata": {
    "collapsed": false
   },
   "id": "f2e1e795020d7b3f"
  },
  {
   "cell_type": "markdown",
   "source": [
    "## 1. Prepare the Environment\n"
   ],
   "metadata": {
    "collapsed": false
   },
   "id": "5e43ff288847b784"
  },
  {
   "cell_type": "markdown",
   "source": [
    "### 1.1. Install Packages\n",
    "The step executes only in Pyodide environment. For other environments, the packages should be installed via `pip install` (see [README](../../README.ipynb))."
   ],
   "metadata": {
    "collapsed": false
   },
   "id": "9adf37a8d2620dc4"
  },
  {
   "cell_type": "code",
   "source": [
    "import sys\n",
    "\n",
    "if sys.platform == \"emscripten\":\n",
    "    import micropip\n",
    "\n",
    "    await micropip.install(\"mat3ra-api-examples\", deps=False)\n",
    "    await micropip.install('mat3ra-utils')\n",
    "    from mat3ra.utils.jupyterlite.packages import install_packages\n",
    "\n",
    "    await install_packages(\"\")"
   ],
   "metadata": {
    "collapsed": false
   },
   "id": "d9e6be14343d00a1",
   "outputs": [],
   "execution_count": null
  },
  {
   "cell_type": "markdown",
   "source": [
    "### 1.2. Set up cluster parameters\n",
    "Parameters for the cuboctahedron and icosahedron shapes can be found at [ASE Clusters](https://wiki.fysik.dtu.dk/ase/ase/cluster/cluster.html#ase.cluster.Cluster)."
   ],
   "metadata": {
    "collapsed": false
   },
   "id": "26066db067a41c93"
  },
  {
   "cell_type": "code",
   "source": [
    "from mat3ra.made.tools.build.nanoparticle.enums import NanoparticleShapesEnum\n",
    "\n",
    "shape = NanoparticleShapesEnum.OCTAHEDRON\n",
    "parameters = {\n",
    "    \"length\": 5,\n",
    "    \"cutoff\": 2\n",
    "}"
   ],
   "metadata": {
    "collapsed": false
   },
   "id": "9d8b1890b34d850a",
   "outputs": [],
   "execution_count": null
  },
  {
   "cell_type": "markdown",
   "source": [
    "### 1.3. Get input material"
   ],
   "metadata": {
    "collapsed": false
   },
   "id": "919ad7af8dceeedd"
  },
  {
   "cell_type": "code",
   "source": [
    "from utils.jupyterlite import get_materials\n",
    "\n",
    "materials = get_materials(globals())"
   ],
   "metadata": {
    "collapsed": false
   },
   "id": "be38fdda1984c654",
   "outputs": [],
   "execution_count": null
  },
  {
   "cell_type": "markdown",
   "source": [
    "## 2. Create the Target Material\n",
    "\n"
   ],
   "metadata": {
    "collapsed": false
   },
   "id": "690241d87e7bbbe0"
  },
  {
   "cell_type": "code",
   "source": [
    "from mat3ra.made.tools.build.nanoparticle.helpers import create_nanoparticle_by_shape\n",
    "\n",
    "cluster = create_nanoparticle_by_shape(\n",
    "    crystal=materials[0],\n",
    "    shape=shape,\n",
    "    parameters=parameters\n",
    ")"
   ],
   "metadata": {
    "collapsed": false
   },
   "id": "a990fa35742d7269",
   "outputs": [],
   "execution_count": null
  },
  {
   "cell_type": "markdown",
   "source": [
    "## 3. Visualize the Result(s)"
   ],
   "metadata": {
    "collapsed": false
   },
   "id": "462549d016073446"
  },
  {
   "cell_type": "code",
   "source": [
    "from utils.visualize import visualize_materials\n",
    "\n",
    "visualize_materials([{\"material\": cluster}, {\"material\": cluster, \"rotation\": \"-90x\"}],viewer=\"wave\")"
   ],
   "metadata": {
    "collapsed": false
   },
   "id": "509b18661a069e42",
   "outputs": [],
   "execution_count": null
  },
  {
   "cell_type": "markdown",
   "source": [
    "## 4. Pass data to the outside runtime"
   ],
   "metadata": {
    "collapsed": false
   },
   "id": "d381df29a6bbdd82"
  },
  {
   "cell_type": "code",
   "source": [
    "from utils.jupyterlite import set_materials\n",
    "\n",
    "cluster.name = f\"{materials[0].name} {shape.name.capitalize()} cluster\"\n",
    "set_materials(cluster)"
   ],
   "metadata": {
    "collapsed": false
   },
   "id": "61daa5afcbc078a9",
   "outputs": [],
   "execution_count": null
  }
 ],
 "metadata": {
  "kernelspec": {
   "display_name": "Python 3",
   "language": "python",
   "name": "python3"
  },
  "language_info": {
   "codemirror_mode": {
    "name": "ipython",
    "version": 2
   },
   "file_extension": ".py",
   "mimetype": "text/x-python",
   "name": "python",
   "nbconvert_exporter": "python",
   "pygments_lexer": "ipython2",
   "version": "2.7.6"
  }
 },
 "nbformat": 4,
 "nbformat_minor": 5
}
