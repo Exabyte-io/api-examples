{
 "cells": [
  {
   "cell_type": "code",
   "execution_count": null,
   "metadata": {},
   "outputs": [],
   "source": [
    "import json\n",
    "import argparse\n",
    "\n",
    "from endpoints.login import LoginEndpoint\n",
    "from endpoints.materials import MaterialEndpoints\n",
    "\n",
    "\n",
    "def parse_arguments():\n",
    "    parser = argparse.ArgumentParser()\n",
    "    parser.add_argument('-H', '--host', default=\"platform.exabyte.io\", help='RESTful API hostname')\n",
    "    parser.add_argument('-P', '--port', type=int, default=443, help='RESTful API port')\n",
    "    parser.add_argument('-S', '--insecure', action=\"store_true\", default=False, help='Whether to use SSL')\n",
    "    parser.add_argument('-u', '--username', required=True, help='Your Exabyte username')\n",
    "    parser.add_argument('-p', '--password', required=True, help='Your Exabyte password')\n",
    "    parser.add_argument('-k', '--key', required=True, help='materialsproject key')\n",
    "    parser.add_argument('-m', '--material', dest=\"material_ids\", action=\"append\", required=True, help='material ID')\n",
    "    parser.add_argument('-t', '--tag', dest=\"tags\", action=\"append\", help='material tag')\n",
    "    return parser.parse_args()\n",
    "\n",
    "\n",
    "if __name__ == '__main__':\n",
    "    args = parse_arguments()\n",
    "\n",
    "    login_endpoint = LoginEndpoint(args.host, args.port, args.username, args.password, secure=not args.insecure)\n",
    "    response = login_endpoint.login()\n",
    "    account_id = response[\"X-Account-Id\"]\n",
    "    auth_token = response[\"X-Auth-Token\"]\n",
    "\n",
    "    materials_endpoint = MaterialEndpoints(args.host, args.port, account_id, auth_token, secure=not args.insecure)\n",
    "    materials = materials_endpoint.import_from_materialsproject(args.key, args.material_ids, args.tags or [])\n",
    "    print json.dumps(materials, indent=4)\n"
   ]
  }
 ],
 "metadata": {
  "kernelspec": {
   "display_name": "Python 2",
   "language": "python",
   "name": "python2"
  },
  "language_info": {
   "codemirror_mode": {
    "name": "ipython",
    "version": 2
   },
   "file_extension": ".py",
   "mimetype": "text/x-python",
   "name": "python",
   "nbconvert_exporter": "python",
   "pygments_lexer": "ipython2",
   "version": "2.7.10"
  }
 },
 "nbformat": 4,
 "nbformat_minor": 2
}
