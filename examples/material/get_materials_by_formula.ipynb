version https://git-lfs.github.com/spec/v1
oid sha256:8e3a25fbe1e15f25491011d7924ce7a4d4c477b1cc7b065c317998799e861a82
size 10946
