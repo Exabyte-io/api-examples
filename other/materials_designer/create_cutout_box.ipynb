{
 "cells": [
  {
   "cell_type": "markdown",
   "id": "0",
   "metadata": {},
   "source": [
    "# Create slab with box cutout\n",
    "\n",
    "Create a slab with a box cutout from the original slab. The box is defined by the minimum and maximum coordinates in the x, y, and z directions.\n",
    "\n",
    "<h2 style=\"color:green\">Usage</h2>\n",
    "\n",
    "1. Make sure to select Input Materials (in the outer runtime) before running the notebook.\n",
    "1. Set notebook parameters in cell 1.1. below (or use the default values).\n",
    "1. Click “Run” > “Run All” to run all cells. \n",
    "1. Scroll down to view results. \n",
    "\n",
    "\n",
    "## Notes\n",
    "\n",
    "1. For more information, see [Introduction](Introduction.ipynb)\n",
    "<!-- # TODO: use a hashtag-based anchor link to interface creation documention above -->\n"
   ]
  },
  {
   "cell_type": "markdown",
   "id": "1",
   "metadata": {},
   "source": [
    "## 1. Prepare the Environment\n",
    "### 1.1. Set up cluster parameters\n",
    "Min and Max coordinates correspond to opposite vertices of the parallelogram.\n",
    "\n",
    "<img src=\"https://objects.mat3ra.com/images/notebooks/cutout_box_parameters.png\" alt=\"Box cutout parameters\" width=\"400\"/>"
   ]
  },
  {
   "cell_type": "code",
   "execution_count": null,
   "id": "2",
   "metadata": {},
   "outputs": [],
   "source": [
    "# Box cutout parameters\n",
    "MIN_COORDINATE = [0.25, 0.25, 0.5]\n",
    "MAX_COORDINATE = [0.75, 0.75, 1]\n",
    "USE_CARTESIAN_COORDINATES = False\n",
    "\n",
    "# Slab parameters for creating a new slab if provided material is not a slab\n",
    "DEFAULT_SLAB_PARAMETERS = {\n",
    "    \"miller_indices\": (0, 0, 1),\n",
    "    \"thickness\": 6,\n",
    "    \"vacuum\": 10.0,\n",
    "    \"use_orthogonal_c\": True,\n",
    "    \"xy_supercell_matrix\": [[10, 0], [0, 10]]\n",
    "}"
   ]
  },
  {
   "cell_type": "markdown",
   "id": "3",
   "metadata": {},
   "source": [
    "### 1.2. Install Packages\n",
    "The step executes only in Pyodide environment. For other environments, the packages should be installed via `pip install` (see [README](../../README.ipynb))."
   ]
  },
  {
   "cell_type": "code",
   "execution_count": null,
   "id": "4",
   "metadata": {},
   "outputs": [],
   "source": [
    "import sys\n",
    "\n",
    "if sys.platform == \"emscripten\":\n",
    "    import micropip\n",
    "\n",
    "    await micropip.install(\"mat3ra-api-examples\", deps=False)\n",
    "    await micropip.install('mat3ra-utils')\n",
    "    from mat3ra.utils.jupyterlite.packages import install_packages\n",
    "\n",
    "    await install_packages(\"\")"
   ]
  },
  {
   "cell_type": "markdown",
   "id": "5",
   "metadata": {},
   "source": [
    "### 1.3. Get input material"
   ]
  },
  {
   "cell_type": "code",
   "execution_count": null,
   "id": "6",
   "metadata": {},
   "outputs": [],
   "source": [
    "from utils.jupyterlite import get_materials\n",
    "\n",
    "materials = get_materials(globals())"
   ]
  },
  {
   "cell_type": "markdown",
   "id": "7",
   "metadata": {},
   "source": [
    "### 1.4. Create a slab if the input material is not a slab"
   ]
  },
  {
   "cell_type": "code",
   "execution_count": null,
   "id": "8",
   "metadata": {},
   "outputs": [],
   "source": [
    "from mat3ra.made.tools.helpers import create_slab\n",
    "\n",
    "# Create analyzer to get terminations\n",
    "slab = create_slab(\n",
    "    crystal=materials[0],\n",
    "    miller_indices=DEFAULT_SLAB_PARAMETERS[\"miller_indices\"],\n",
    "    number_of_layers=DEFAULT_SLAB_PARAMETERS[\"thickness\"],\n",
    "    vacuum=DEFAULT_SLAB_PARAMETERS[\"vacuum\"],\n",
    "    use_orthogonal_c=DEFAULT_SLAB_PARAMETERS[\"use_orthogonal_c\"],\n",
    "    xy_supercell_matrix=DEFAULT_SLAB_PARAMETERS[\"xy_supercell_matrix\"]\n",
    ")"
   ]
  },
  {
   "cell_type": "markdown",
   "id": "9",
   "metadata": {},
   "source": [
    "### 1.5. Visualize the slab"
   ]
  },
  {
   "cell_type": "code",
   "execution_count": null,
   "id": "10",
   "metadata": {},
   "outputs": [],
   "source": [
    "from utils.visualize import visualize_materials as visualize\n",
    "\n",
    "visualize([{\"material\": slab, \"title\": \"Original material\"}])\n",
    "visualize([{\"material\": slab, \"title\": \"Original material\"}], rotation=\"-90x\")"
   ]
  },
  {
   "cell_type": "markdown",
   "id": "11",
   "metadata": {},
   "source": [
    "## 2. Create the Target Material\n",
    "### 2.1. Create a cutout"
   ]
  },
  {
   "cell_type": "code",
   "execution_count": null,
   "id": "12",
   "metadata": {},
   "outputs": [],
   "source": [
    "from mat3ra.made.tools.modify import filter_by_box\n",
    "\n",
    "slab_with_box_cutout = filter_by_box(\n",
    "    material=slab,\n",
    "    min_coordinate=MIN_COORDINATE,\n",
    "    max_coordinate=MAX_COORDINATE,\n",
    "    invert_selection=True,\n",
    "    use_cartesian_coordinates=USE_CARTESIAN_COORDINATES\n",
    ")"
   ]
  },
  {
   "cell_type": "markdown",
   "id": "13",
   "metadata": {},
   "source": [
    "## 3. Visualize the Result(s)"
   ]
  },
  {
   "cell_type": "code",
   "execution_count": null,
   "id": "14",
   "metadata": {},
   "outputs": [],
   "source": [
    "visualize([{\"material\": slab, \"title\": \"Original material\"},\n",
    "           {\"material\": slab_with_box_cutout, \"title\": f\"Cluster\"}])\n",
    "\n",
    "visualize([{\"material\": slab, \"title\": \"Original material\"},\n",
    "           {\"material\": slab_with_box_cutout, \"title\": f\"Cluster\"}], rotation=\"-90x\")"
   ]
  },
  {
   "cell_type": "markdown",
   "id": "15",
   "metadata": {},
   "source": [
    "## 4. Pass data to the outside runtime"
   ]
  },
  {
   "cell_type": "code",
   "execution_count": null,
   "id": "16",
   "metadata": {},
   "outputs": [],
   "source": [
    "from utils.jupyterlite import set_materials\n",
    "\n",
    "slab_with_box_cutout.name += \" with box cutout\"\n",
    "set_materials(slab_with_box_cutout)"
   ]
  }
 ],
 "metadata": {
  "kernelspec": {
   "display_name": "Python 3",
   "language": "python",
   "name": "python3"
  },
  "language_info": {
   "codemirror_mode": {
    "name": "ipython",
    "version": 2
   },
   "file_extension": ".py",
   "mimetype": "text/x-python",
   "name": "python",
   "nbconvert_exporter": "python",
   "pygments_lexer": "ipython2",
   "version": "2.7.6"
  }
 },
 "nbformat": 4,
 "nbformat_minor": 5
}
