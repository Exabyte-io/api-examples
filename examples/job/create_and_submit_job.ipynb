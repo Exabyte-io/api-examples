{
 "cells": [
  {
   "cell_type": "markdown",
   "metadata": {
    "id": "4iM5tpoN3sR3"
   },
   "source": [
    "<a href=\"https://colab.research.google.com/github/Exabyte-io/exabyte-api-examples/blob/dev/examples/job/create_and_submit_job.ipynb\" target=\"_parent\">\n",
    "<img alt=\"Open in Google Colab\" src=\"https://user-images.githubusercontent.com/20477508/128780728-491fea90-9b23-495f-a091-11681150db37.jpeg\" width=\"150\" border=\"0\">\n",
    "</a>"
   ]
  },
  {
   "cell_type": "markdown",
   "metadata": {
    "id": "mHaR0BOJ3sR5"
   },
   "source": [
    "# Overview\n",
    "\n",
    "This example demonstrates how to create and submit a job via [Job](https://docs.exabyte.io/api/Job/put_jobs_create) endpoints."
   ]
  },
  {
   "cell_type": "markdown",
   "metadata": {
    "id": "i-kHKlAM3sR5"
   },
   "source": [
    "# Complete Authorization Form and Initialize Settings\n",
    "\n",
    "The following environment variables need to be set:\n",
    "\n",
    "ACCOUNT_ID and AUTH_TOKEN - Authentication parameters needed for when making requests to [Exabyte.io's API Endpoints](https://docs.exabyte.io/rest-api/endpoints/).\n",
    "\n",
    "MATERIALS_PROJECT_API_KEY - Authentication parameter needed for when making requests to [Material Project's API](https://materialsproject.org/open)\n",
    "\n",
    "ORGANIZATION_ID - Authentication parameter needed for when working with collaborative accounts https://docs.exabyte.io/collaboration/organizations/overview/\n"
   ]
  },
  {
   "cell_type": "code",
   "execution_count": null,
   "metadata": {
    "cellView": "form",
    "colab": {
     "base_uri": "https://localhost:8080/"
    },
    "id": "BCOL6ona3sR6",
    "outputId": "e2ee53a4-5013-4730-c074-54ba11b381fd"
   },
   "outputs": [],
   "source": [
    "#@title Authorization Form\n",
    "ACCOUNT_ID = \"ACCOUNT_ID\" #@param {type:\"string\"}\n",
    "AUTH_TOKEN = \"AUTH_TOKEN\" #@param {type:\"string\"}\n",
    "MATERIALS_PROJECT_API_KEY = \"MATERIALS_PROJECT_API_KEY\" #@param {type:\"string\"}\n",
    "ORGANIZATION_ID  = \"ORGANIZATION_ID\" #@param {type:\"string\"}"
   ]
  },
  {
   "cell_type": "code",
   "execution_count": null,
   "metadata": {},
   "outputs": [],
   "source": [
    "from exabyte_api_examples_utils.enum import (\n",
    "    HOST,\n",
    "    PORT,\n",
    "    VERSION,\n",
    "    SECURE,\n",
    ")\n",
    "\n",
    "ENDPOINT_ARGS = [HOST, PORT, ACCOUNT_ID, AUTH_TOKEN, VERSION, SECURE]"
   ]
  },
  {
   "cell_type": "code",
   "execution_count": null,
   "metadata": {
    "id": "QRLd1WW23sR6"
   },
   "outputs": [],
   "source": [
    "from exabyte_api_examples_utils.generic import display_JSON\n",
    "\n",
    "from exabyte_api_client.endpoints.jobs import JobEndpoints\n",
    "from exabyte_api_client.endpoints.materials import MaterialEndpoints\n",
    "from exabyte_api_client.endpoints.workflows import WorkflowEndpoints"
   ]
  },
  {
   "cell_type": "markdown",
   "metadata": {
    "id": "zjK-3ew_3sR7"
   },
   "source": [
    "## Initialize the endpoints"
   ]
  },
  {
   "cell_type": "code",
   "execution_count": null,
   "metadata": {
    "id": "IEPURdwU3sR7"
   },
   "outputs": [],
   "source": [
    "job_endpoints = JobEndpoints(*ENDPOINT_ARGS)\n",
    "material_endpoints = MaterialEndpoints(*ENDPOINT_ARGS)\n",
    "workflow_endpoints = WorkflowEndpoints(*ENDPOINT_ARGS)"
   ]
  },
  {
   "cell_type": "markdown",
   "metadata": {
    "id": "21aAFcwp3sR8"
   },
   "source": [
    "Set job name."
   ]
  },
  {
   "cell_type": "code",
   "execution_count": null,
   "metadata": {
    "id": "lYUKdszw3sR8"
   },
   "outputs": [],
   "source": [
    "JOB_NAME = \"TEST JOB\""
   ]
  },
  {
   "cell_type": "markdown",
   "metadata": {
    "id": "efnIafH13sR9"
   },
   "source": [
    "## Retrieve IDs\n",
    "\n",
    "Default account's materail and workflow are used in this example to create the job. Adjust the queries to use different material and workflow."
   ]
  },
  {
   "cell_type": "code",
   "execution_count": null,
   "metadata": {
    "id": "qGTJOZDa3sR9"
   },
   "outputs": [],
   "source": [
    "default_material = material_endpoints.list({\"isDefault\": True, \"owner._id\": ACCOUNT_ID})[0]\n",
    "default_workflow = workflow_endpoints.list({\"isDefault\": True, \"owner._id\": ACCOUNT_ID})[0]\n",
    "\n",
    "material_id = default_material[\"_id\"]\n",
    "workflow_id = default_workflow[\"_id\"]\n",
    "owner_id = default_material[\"owner\"][\"_id\"]"
   ]
  },
  {
   "cell_type": "markdown",
   "metadata": {
    "id": "IL8DTcqB3sR9"
   },
   "source": [
    "## Create job config\n",
    "\n",
    "The job belongs to user's default account and it is created inside the defauult account's project. "
   ]
  },
  {
   "cell_type": "code",
   "execution_count": null,
   "metadata": {
    "id": "BHQnJpvR3sR-"
   },
   "outputs": [],
   "source": [
    "config = {\n",
    "    \"owner\": {\n",
    "        \"_id\": owner_id\n",
    "    },\n",
    "    \"_material\": {\n",
    "        \"_id\": material_id\n",
    "    },\n",
    "    \"workflow\": {\n",
    "        \"_id\": workflow_id\n",
    "    },\n",
    "    \"name\": JOB_NAME\n",
    "}"
   ]
  },
  {
   "cell_type": "markdown",
   "metadata": {
    "id": "L_pFN5n33sR-"
   },
   "source": [
    "## Create and submit job"
   ]
  },
  {
   "cell_type": "code",
   "execution_count": null,
   "metadata": {
    "id": "xaSRHY4j3sR-"
   },
   "outputs": [],
   "source": [
    "job = job_endpoints.create(config)\n",
    "job_endpoints.submit(job['_id'])"
   ]
  },
  {
   "cell_type": "markdown",
   "metadata": {
    "id": "1dkTzmQn3sR-"
   },
   "source": [
    "## Print the job\n",
    "\n",
    "Print the job in pretty JSON below. Check `status` field to make sure job is submiited."
   ]
  },
  {
   "cell_type": "code",
   "execution_count": null,
   "metadata": {
    "colab": {
     "base_uri": "https://localhost:8080/"
    },
    "id": "dJbjoBoJ3sR_",
    "outputId": "5f2ee6e2-edc1-450c-9eb1-4a29a83a12fb"
   },
   "outputs": [],
   "source": [
    "job = job_endpoints.get(job['_id'])\n",
    "display_JSON(job)"
   ]
  }
 ],
 "metadata": {
  "colab": {
   "name": "create_and_submit_job.ipynb",
   "provenance": []
  },
  "kernelspec": {
   "display_name": "Python 3 (ipykernel)",
   "language": "python",
   "name": "python3"
  },
  "language_info": {
   "codemirror_mode": {
    "name": "ipython",
    "version": 3
   },
   "file_extension": ".py",
   "mimetype": "text/x-python",
   "name": "python",
   "nbconvert_exporter": "python",
   "pygments_lexer": "ipython3",
   "version": "3.8.12"
  }
 },
 "nbformat": 4,
 "nbformat_minor": 1
}
