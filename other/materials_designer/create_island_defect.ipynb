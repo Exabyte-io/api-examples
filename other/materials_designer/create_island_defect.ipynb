{
 "cells": [
  {
   "cell_type": "markdown",
   "source": [
    "# Create island defect on a slab\n",
    "\n",
    "Create an island defect on a slab\n",
    "\n",
    "<h2 style=\"color:green\">Usage</h2>\n",
    "\n",
    "1. Make sure to select Input Materials (in the outer runtime) before running the notebook.\n",
    "1. Set notebook parameters in cell 1.1. below (or use the default values).\n",
    "1. Click “Run” > “Run All” to run all cells. \n",
    "1. Scroll down to view results. \n",
    "\n",
    "\n",
    "## Notes\n",
    "\n",
    "1. For more information, see [Introduction](Introduction.ipynb)\n",
    "<!-- # TODO: use a hashtag-based anchor link to interface creation documention above -->\n"
   ],
   "metadata": {
    "collapsed": false
   },
   "id": "f2e1e795020d7b3f"
  },
  {
   "cell_type": "markdown",
   "source": [
    "## 1. Prepare the Environment\n",
    "### 1.1. Set up defect parameters "
   ],
   "metadata": {
    "collapsed": false
   },
   "id": "5e43ff288847b784"
  },
  {
   "cell_type": "code",
   "outputs": [],
   "source": [
    "# Choose the island shape: 'cylinder', 'sphere', 'box', or 'triangular_prism'\n",
    "ISLAND_SHAPE = 'cylinder'\n",
    "\n",
    "# Common parameters\n",
    "CENTER_POSITION = [0.5, 0.5, 0.5]  # Center of the island\n",
    "\n",
    "# Shape-specific parameters\n",
    "CYLINDER_PARAMS = {\n",
    "    'radius': 0.25,\n",
    "    'min_z': 0,\n",
    "    'max_z': 1\n",
    "}\n",
    "\n",
    "SPHERE_PARAMS = {\n",
    "    'radius': 0.25\n",
    "}\n",
    "\n",
    "BOX_PARAMS = {\n",
    "    'min_coordinate': [0.25, 0.25, 0],\n",
    "    'max_coordinate': [0.75, 0.75, 1]\n",
    "}\n",
    "\n",
    "TRIANGULAR_PRISM_PARAMS = {\n",
    "    'position_on_surface_1': [0.25, 0.25],\n",
    "    'position_on_surface_2': [0.75, 0.25],\n",
    "    'position_on_surface_3': [0.5, 0.75],\n",
    "    'min_z': 0,\n",
    "    'max_z': 1\n",
    "}"
   ],
   "metadata": {
    "collapsed": false,
    "ExecuteTime": {
     "end_time": "2024-10-10T23:53:54.171643Z",
     "start_time": "2024-10-10T23:53:54.164133Z"
    }
   },
   "id": "9d8b1890b34d850a",
   "execution_count": 1
  },
  {
   "cell_type": "markdown",
   "source": [
    "### 1.2. Install Packages\n",
    "The step executes only in Pyodide environment. For other environments, the packages should be installed via `pip install` (see [README](../../README.ipynb))."
   ],
   "metadata": {
    "collapsed": false
   },
   "id": "bb64de5ff32649f8"
  },
  {
   "cell_type": "code",
   "outputs": [],
   "source": [
    "import sys\n",
    "\n",
    "if sys.platform == \"emscripten\":\n",
    "    import micropip\n",
    "    await micropip.install('mat3ra-api-examples', deps=False)\n",
    "    from utils.jupyterlite import install_packages\n",
    "    await install_packages(\"\", \"../../config.yml\")"
   ],
   "metadata": {
    "collapsed": false,
    "ExecuteTime": {
     "end_time": "2024-10-10T23:53:54.177542Z",
     "start_time": "2024-10-10T23:53:54.173696Z"
    }
   },
   "id": "ef664b14457530fd",
   "execution_count": 2
  },
  {
   "cell_type": "markdown",
   "source": [
    "### 1.3. Get input material\n",
    "Materials are loaded with `get_materials()`."
   ],
   "metadata": {
    "collapsed": false
   },
   "id": "919ad7af8dceeedd"
  },
  {
   "cell_type": "code",
   "outputs": [
    {
     "name": "stdout",
     "output_type": "stream",
     "text": [
      "0: Data from 0-Ni has been read successfully.\n",
      "1: Data from 1-Graphene has been read successfully.\n",
      "2: Data from 10-Al2O3, Sapphire, RHL (R-3c) 3D (Bulk), mp-1143 (1) has been read successfully.\n",
      "3: Data from 11-ZnO, Zinc Oxide, HEX (P6_3mc) 3D (Bulk), mp-2133 has been read successfully.\n",
      "4: Data from 12-Cd4 Te4 has been read successfully.\n",
      "5: Data from 13-Si4 C4 has been read successfully.\n",
      "6: Data from 14-GaN, Gallium Nitride, HEX (P6_3mc) 3D (Bulk), mp-804 has been read successfully.\n",
      "7: Data from 15-WS2, Tungsten Disulfide, HEX (P-6m2) 2D (Monolayer), 2dm-3749 has been read successfully.\n",
      "8: Data from 4-Te2Mo has been read successfully.\n",
      "9: Data from 5-HfO2 has been read successfully.\n",
      "10: Data from 6-Ni4(110), termination Ni_Pmmm_2, Slab, Terrace, 1 steps, [2 0 0] has been read successfully.\n",
      "11: Data from 7-Ag4 has been read successfully.\n",
      "12: Data from 8-Si, Silicene, HEX (P-3m1) 2D (Monolayer), 2dm-5934 has been read successfully.\n",
      "13: Data from 9-GaAs, Gallium Arsenide, FCC (F-43m) 3D (Bulk), mp-2534 has been read successfully.\n",
      "14: Data from C2(001)-Ni4(111), Interface, Strain 0.105pct has been read successfully.\n",
      "15: Data from C2(001)-Ni4(111), Interface has been read successfully.\n",
      "16: Data from C49 N1, Substitution N Defect has been read successfully.\n",
      "17: Data from Cu1 Ni26, Substitution Cu Defect has been read successfully.\n",
      "18: Data from Cu1 Ni27, Interstitial Cu Defect has been read successfully.\n",
      "19: Data from Ga2N2(001)-C4Si4(111), Interface, Strain 0.082pct has been read successfully.\n",
      "20: Data from Heterostructure_M0_M1_M2 has been read successfully.\n",
      "21: Data from Ni, Nickel, FCC (Fm-3m) 3D (Bulk), mp-23 (Perturbation: PerturbationFunctionHolder) has been read successfully.\n",
      "22: Data from Ni, Nickel, FCC (Fm-3m) 3D (Bulk), mp-23 (Perturbation: SineWavePerturbationFunctionHolder) has been read successfully.\n",
      "23: Data from Ni, Nickel, FCC (Fm-3m) 3D (Bulk), mp-23 - Graphene - Al2O3, Sapphire, RHL (R-3c) 3D (Bulk), mp-1143 - Heterostructure has been read successfully.\n",
      "24: Data from Ni25 N2, Substitution N Defect has been read successfully.\n",
      "25: Data from Ni26 C1, Substitution C Defect has been read successfully.\n",
      "26: Data from Ni27 C1, Interstitial C Defect has been read successfully.\n",
      "27: Data from Ni4(111), termination Ni_P6:mmm_4, Slab Island Island Passivated has been read successfully.\n",
      "28: Data from Ni4(111), termination Ni_P6:mmm_4, Slab Island Island has been read successfully.\n",
      "29: Data from Ni4(111), termination Ni_P6:mmm_4, Slab Island Surface Atoms Surface Atoms has been read successfully.\n",
      "30: Data from Ni4(111), termination Ni_P6:mmm_4, Slab, Adatom Ni Defect has been read successfully.\n",
      "Retrieved 31 materials.\n"
     ]
    }
   ],
   "source": [
    "from utils.jupyterlite import get_materials\n",
    "materials = get_materials(globals())"
   ],
   "metadata": {
    "collapsed": false,
    "ExecuteTime": {
     "end_time": "2024-10-10T23:53:54.854560Z",
     "start_time": "2024-10-10T23:53:54.178939Z"
    }
   },
   "id": "be38fdda1984c654",
   "execution_count": 3
  },
  {
   "cell_type": "markdown",
   "source": [
    "### 1.4. Create and preview Slab"
   ],
   "metadata": {
    "collapsed": false
   },
   "id": "a132fe0ef8bbf0d0"
  },
  {
   "cell_type": "code",
   "outputs": [],
   "source": [
    "\n",
    "from mat3ra.made.tools.utils.coordinate import (\n",
    "    CylinderCoordinateCondition,\n",
    "    SphereCoordinateCondition,\n",
    "    BoxCoordinateCondition,\n",
    "    TriangularPrismCoordinateCondition\n",
    ")\n",
    "from mat3ra.made.tools.build.defect import IslandSlabDefectConfiguration\n",
    "\n",
    "def get_coordinate_condition(shape):\n",
    "    if shape == 'cylinder':\n",
    "        return CylinderCoordinateCondition(\n",
    "            center_position=CENTER_POSITION[:2],\n",
    "            radius=CYLINDER_PARAMS['radius'],\n",
    "            min_z=CYLINDER_PARAMS['min_z'],\n",
    "            max_z=CYLINDER_PARAMS['max_z']\n",
    "        )\n",
    "    elif shape == 'sphere':\n",
    "        return SphereCoordinateCondition(\n",
    "            center_position=CENTER_POSITION,\n",
    "            radius=SPHERE_PARAMS['radius']\n",
    "        )\n",
    "    elif shape == 'box':\n",
    "        return BoxCoordinateCondition(\n",
    "            min_coordinate=BOX_PARAMS['min_coordinate'],\n",
    "            max_coordinate=BOX_PARAMS['max_coordinate']\n",
    "        )\n",
    "    elif shape == 'triangular_prism':\n",
    "        return TriangularPrismCoordinateCondition(\n",
    "            position_on_surface_1=TRIANGULAR_PRISM_PARAMS['position_on_surface_1'],\n",
    "            position_on_surface_2=TRIANGULAR_PRISM_PARAMS['position_on_surface_2'],\n",
    "            position_on_surface_3=TRIANGULAR_PRISM_PARAMS['position_on_surface_3'],\n",
    "            min_z=TRIANGULAR_PRISM_PARAMS['min_z'],\n",
    "            max_z=TRIANGULAR_PRISM_PARAMS['max_z']\n",
    "        )\n",
    "    else:\n",
    "        raise ValueError(f\"Unsupported island shape: {shape}\")\n",
    "\n",
    "coordinate_condition = get_coordinate_condition(ISLAND_SHAPE)\n",
    "material = materials[0]\n",
    "island_config = IslandSlabDefectConfiguration(\n",
    "    crystal=material,\n",
    "    condition=coordinate_condition\n",
    ")"
   ],
   "metadata": {
    "collapsed": false,
    "ExecuteTime": {
     "end_time": "2024-10-10T23:54:00.126664Z",
     "start_time": "2024-10-10T23:53:54.855931Z"
    }
   },
   "id": "e2d24109d3068c9e",
   "execution_count": 4
  },
  {
   "cell_type": "markdown",
   "source": [
    "## 2. Create the Defect\n",
    "### 2.1. Set slab builder parameters"
   ],
   "metadata": {
    "collapsed": false
   },
   "id": "5da5b0380583c952"
  },
  {
   "cell_type": "code",
   "outputs": [],
   "source": [
    "from mat3ra.made.tools.build.defect import IslandSlabDefectBuilder\n",
    "\n",
    "builder = IslandSlabDefectBuilder()"
   ],
   "metadata": {
    "collapsed": false,
    "ExecuteTime": {
     "end_time": "2024-10-10T23:54:00.131532Z",
     "start_time": "2024-10-10T23:54:00.128379Z"
    }
   },
   "id": "e385e50ae11ed2b9",
   "execution_count": 5
  },
  {
   "cell_type": "markdown",
   "source": [
    "### 2.2. Create the island"
   ],
   "metadata": {
    "collapsed": false
   },
   "id": "489b51f0ee122c48"
  },
  {
   "cell_type": "code",
   "outputs": [
    {
     "ename": "AttributeError",
     "evalue": "'bool' object has no attribute 'get'",
     "output_type": "error",
     "traceback": [
      "\u001B[0;31m---------------------------------------------------------------------------\u001B[0m",
      "\u001B[0;31mAttributeError\u001B[0m                            Traceback (most recent call last)",
      "Cell \u001B[0;32mIn[6], line 1\u001B[0m\n\u001B[0;32m----> 1\u001B[0m slab_with_island \u001B[38;5;241m=\u001B[39m \u001B[43mbuilder\u001B[49m\u001B[38;5;241;43m.\u001B[39;49m\u001B[43mget_material\u001B[49m\u001B[43m(\u001B[49m\u001B[43misland_config\u001B[49m\u001B[43m)\u001B[49m\n",
      "File \u001B[0;32m~/code/GREEN/api-examples/.venv/lib/python3.11/site-packages/mat3ra/made/tools/build/__init__.py:131\u001B[0m, in \u001B[0;36mBaseBuilder.get_material\u001B[0;34m(self, configuration, selector_parameters, post_process_parameters)\u001B[0m\n\u001B[1;32m    125\u001B[0m \u001B[38;5;28;01mdef\u001B[39;00m \u001B[38;5;21mget_material\u001B[39m(\n\u001B[1;32m    126\u001B[0m     \u001B[38;5;28mself\u001B[39m,\n\u001B[1;32m    127\u001B[0m     configuration: _ConfigurationType,\n\u001B[1;32m    128\u001B[0m     selector_parameters: Optional[_SelectorParametersType] \u001B[38;5;241m=\u001B[39m \u001B[38;5;28;01mNone\u001B[39;00m,\n\u001B[1;32m    129\u001B[0m     post_process_parameters: Optional[_PostProcessParametersType] \u001B[38;5;241m=\u001B[39m \u001B[38;5;28;01mNone\u001B[39;00m,\n\u001B[1;32m    130\u001B[0m ) \u001B[38;5;241m-\u001B[39m\u001B[38;5;241m>\u001B[39m Material:\n\u001B[0;32m--> 131\u001B[0m     \u001B[38;5;28;01mreturn\u001B[39;00m \u001B[38;5;28;43mself\u001B[39;49m\u001B[38;5;241;43m.\u001B[39;49m\u001B[43mget_materials\u001B[49m\u001B[43m(\u001B[49m\u001B[43mconfiguration\u001B[49m\u001B[43m,\u001B[49m\u001B[43m \u001B[49m\u001B[43mselector_parameters\u001B[49m\u001B[43m,\u001B[49m\u001B[43m \u001B[49m\u001B[43mpost_process_parameters\u001B[49m\u001B[43m)\u001B[49m[\n\u001B[1;32m    132\u001B[0m         \u001B[38;5;28mself\u001B[39m\u001B[38;5;241m.\u001B[39mselector_parameters\u001B[38;5;241m.\u001B[39mdefault_index\n\u001B[1;32m    133\u001B[0m     ]\n",
      "File \u001B[0;32m~/code/GREEN/api-examples/.venv/lib/python3.11/site-packages/mat3ra/made/tools/build/__init__.py:118\u001B[0m, in \u001B[0;36mBaseBuilder.get_materials\u001B[0;34m(self, configuration, selector_parameters, post_process_parameters)\u001B[0m\n\u001B[1;32m    112\u001B[0m \u001B[38;5;28;01mdef\u001B[39;00m \u001B[38;5;21mget_materials\u001B[39m(\n\u001B[1;32m    113\u001B[0m     \u001B[38;5;28mself\u001B[39m,\n\u001B[1;32m    114\u001B[0m     configuration: _ConfigurationType,\n\u001B[1;32m    115\u001B[0m     selector_parameters: Optional[_SelectorParametersType] \u001B[38;5;241m=\u001B[39m \u001B[38;5;28;01mNone\u001B[39;00m,\n\u001B[1;32m    116\u001B[0m     post_process_parameters: Optional[_PostProcessParametersType] \u001B[38;5;241m=\u001B[39m \u001B[38;5;28;01mNone\u001B[39;00m,\n\u001B[1;32m    117\u001B[0m ) \u001B[38;5;241m-\u001B[39m\u001B[38;5;241m>\u001B[39m List[Material]:\n\u001B[0;32m--> 118\u001B[0m     generated_items \u001B[38;5;241m=\u001B[39m \u001B[38;5;28;43mself\u001B[39;49m\u001B[38;5;241;43m.\u001B[39;49m\u001B[43m_generate_or_get_from_cache\u001B[49m\u001B[43m(\u001B[49m\u001B[43mconfiguration\u001B[49m\u001B[43m)\u001B[49m\n\u001B[1;32m    119\u001B[0m     sorted_items \u001B[38;5;241m=\u001B[39m \u001B[38;5;28mself\u001B[39m\u001B[38;5;241m.\u001B[39m_sort(generated_items)\n\u001B[1;32m    120\u001B[0m     selected_items \u001B[38;5;241m=\u001B[39m \u001B[38;5;28mself\u001B[39m\u001B[38;5;241m.\u001B[39m_select(sorted_items, selector_parameters)\n",
      "File \u001B[0;32m~/code/GREEN/api-examples/.venv/lib/python3.11/site-packages/mat3ra/made/tools/build/__init__.py:85\u001B[0m, in \u001B[0;36mBaseBuilder._generate_or_get_from_cache\u001B[0;34m(self, configuration)\u001B[0m\n\u001B[1;32m     83\u001B[0m \u001B[38;5;28;01mif\u001B[39;00m configuration \u001B[38;5;129;01mnot\u001B[39;00m \u001B[38;5;129;01min\u001B[39;00m \u001B[38;5;28mself\u001B[39m\u001B[38;5;241m.\u001B[39m__configurations:\n\u001B[1;32m     84\u001B[0m     \u001B[38;5;28mself\u001B[39m\u001B[38;5;241m.\u001B[39m__configurations\u001B[38;5;241m.\u001B[39mappend(configuration)\n\u001B[0;32m---> 85\u001B[0m     \u001B[38;5;28mself\u001B[39m\u001B[38;5;241m.\u001B[39m__generated_items\u001B[38;5;241m.\u001B[39mappend(\u001B[38;5;28;43mself\u001B[39;49m\u001B[38;5;241;43m.\u001B[39;49m\u001B[43m_generate\u001B[49m\u001B[43m(\u001B[49m\u001B[43mconfiguration\u001B[49m\u001B[43m)\u001B[49m)\n\u001B[1;32m     86\u001B[0m \u001B[38;5;28;01mreturn\u001B[39;00m \u001B[38;5;28mself\u001B[39m\u001B[38;5;241m.\u001B[39m__generated_items[\u001B[38;5;28mself\u001B[39m\u001B[38;5;241m.\u001B[39m__configurations\u001B[38;5;241m.\u001B[39mindex(configuration)]\n",
      "File \u001B[0;32m~/code/GREEN/api-examples/.venv/lib/python3.11/site-packages/mat3ra/made/tools/build/defect/builders.py:448\u001B[0m, in \u001B[0;36mIslandSlabDefectBuilder._generate\u001B[0;34m(self, configuration)\u001B[0m\n\u001B[1;32m    445\u001B[0m \u001B[38;5;28;01mdef\u001B[39;00m \u001B[38;5;21m_generate\u001B[39m(\u001B[38;5;28mself\u001B[39m, configuration: _ConfigurationType) \u001B[38;5;241m-\u001B[39m\u001B[38;5;241m>\u001B[39m List[_GeneratedItemType]:\n\u001B[1;32m    446\u001B[0m     condition_callable \u001B[38;5;241m=\u001B[39m configuration\u001B[38;5;241m.\u001B[39mcondition\u001B[38;5;241m.\u001B[39mcondition\n\u001B[1;32m    447\u001B[0m     \u001B[38;5;28;01mreturn\u001B[39;00m [\n\u001B[0;32m--> 448\u001B[0m         \u001B[38;5;28;43mself\u001B[39;49m\u001B[38;5;241;43m.\u001B[39;49m\u001B[43mcreate_island\u001B[49m\u001B[43m(\u001B[49m\n\u001B[1;32m    449\u001B[0m \u001B[43m            \u001B[49m\u001B[43mmaterial\u001B[49m\u001B[38;5;241;43m=\u001B[39;49m\u001B[43mconfiguration\u001B[49m\u001B[38;5;241;43m.\u001B[39;49m\u001B[43mcrystal\u001B[49m\u001B[43m,\u001B[49m\n\u001B[1;32m    450\u001B[0m \u001B[43m            \u001B[49m\u001B[43mcondition\u001B[49m\u001B[38;5;241;43m=\u001B[39;49m\u001B[43mcondition_callable\u001B[49m\u001B[43m,\u001B[49m\n\u001B[1;32m    451\u001B[0m \u001B[43m            \u001B[49m\u001B[43mthickness\u001B[49m\u001B[38;5;241;43m=\u001B[39;49m\u001B[43mconfiguration\u001B[49m\u001B[38;5;241;43m.\u001B[39;49m\u001B[43mnumber_of_added_layers\u001B[49m\u001B[43m,\u001B[49m\n\u001B[1;32m    452\u001B[0m \u001B[43m            \u001B[49m\u001B[43muse_cartesian_coordinates\u001B[49m\u001B[38;5;241;43m=\u001B[39;49m\u001B[43mconfiguration\u001B[49m\u001B[38;5;241;43m.\u001B[39;49m\u001B[43muse_cartesian_coordinates\u001B[49m\u001B[43m,\u001B[49m\n\u001B[1;32m    453\u001B[0m \u001B[43m        \u001B[49m\u001B[43m)\u001B[49m\n\u001B[1;32m    454\u001B[0m     ]\n",
      "File \u001B[0;32m~/code/GREEN/api-examples/.venv/lib/python3.11/site-packages/mat3ra/made/tools/build/defect/builders.py:423\u001B[0m, in \u001B[0;36mIslandSlabDefectBuilder.create_island\u001B[0;34m(self, material, condition, thickness, use_cartesian_coordinates)\u001B[0m\n\u001B[1;32m    421\u001B[0m new_material \u001B[38;5;241m=\u001B[39m material\u001B[38;5;241m.\u001B[39mclone()\n\u001B[1;32m    422\u001B[0m original_max_z \u001B[38;5;241m=\u001B[39m get_atomic_coordinates_extremum(new_material, use_cartesian_coordinates\u001B[38;5;241m=\u001B[39m\u001B[38;5;28;01mTrue\u001B[39;00m)\n\u001B[0;32m--> 423\u001B[0m material_with_additional_layers \u001B[38;5;241m=\u001B[39m \u001B[38;5;28;43mself\u001B[39;49m\u001B[38;5;241;43m.\u001B[39;49m\u001B[43mcreate_material_with_additional_layers\u001B[49m\u001B[43m(\u001B[49m\u001B[43mnew_material\u001B[49m\u001B[43m,\u001B[49m\u001B[43m \u001B[49m\u001B[43mthickness\u001B[49m\u001B[43m)\u001B[49m\n\u001B[1;32m    424\u001B[0m added_layers_max_z \u001B[38;5;241m=\u001B[39m get_atomic_coordinates_extremum(\n\u001B[1;32m    425\u001B[0m     material_with_additional_layers, use_cartesian_coordinates\u001B[38;5;241m=\u001B[39m\u001B[38;5;28;01mTrue\u001B[39;00m\n\u001B[1;32m    426\u001B[0m )\n\u001B[1;32m    427\u001B[0m \u001B[38;5;28;01mif\u001B[39;00m condition \u001B[38;5;129;01mis\u001B[39;00m \u001B[38;5;28;01mNone\u001B[39;00m:\n",
      "File \u001B[0;32m~/code/GREEN/api-examples/.venv/lib/python3.11/site-packages/mat3ra/made/tools/build/defect/builders.py:119\u001B[0m, in \u001B[0;36mSlabDefectBuilder.create_material_with_additional_layers\u001B[0;34m(self, material, added_thickness)\u001B[0m\n\u001B[1;32m    117\u001B[0m \u001B[38;5;28;01mdef\u001B[39;00m \u001B[38;5;21mcreate_material_with_additional_layers\u001B[39m(\u001B[38;5;28mself\u001B[39m, material: Material, added_thickness: \u001B[38;5;28mint\u001B[39m \u001B[38;5;241m=\u001B[39m \u001B[38;5;241m1\u001B[39m) \u001B[38;5;241m-\u001B[39m\u001B[38;5;241m>\u001B[39m Material:\n\u001B[1;32m    118\u001B[0m     new_material \u001B[38;5;241m=\u001B[39m material\u001B[38;5;241m.\u001B[39mclone()\n\u001B[0;32m--> 119\u001B[0m     termination \u001B[38;5;241m=\u001B[39m Termination\u001B[38;5;241m.\u001B[39mfrom_string(\u001B[43mnew_material\u001B[49m\u001B[38;5;241;43m.\u001B[39;49m\u001B[43mmetadata\u001B[49m\u001B[38;5;241;43m.\u001B[39;49m\u001B[43mget\u001B[49m(\u001B[38;5;124m\"\u001B[39m\u001B[38;5;124mbuild\u001B[39m\u001B[38;5;124m\"\u001B[39m)\u001B[38;5;241m.\u001B[39mget(\u001B[38;5;124m\"\u001B[39m\u001B[38;5;124mtermination\u001B[39m\u001B[38;5;124m\"\u001B[39m))\n\u001B[1;32m    120\u001B[0m     build_config \u001B[38;5;241m=\u001B[39m new_material\u001B[38;5;241m.\u001B[39mmetadata\u001B[38;5;241m.\u001B[39mget(\u001B[38;5;124m\"\u001B[39m\u001B[38;5;124mbuild\u001B[39m\u001B[38;5;124m\"\u001B[39m)\u001B[38;5;241m.\u001B[39mget(\u001B[38;5;124m\"\u001B[39m\u001B[38;5;124mconfiguration\u001B[39m\u001B[38;5;124m\"\u001B[39m)\n\u001B[1;32m    121\u001B[0m     \u001B[38;5;28;01mif\u001B[39;00m build_config[\u001B[38;5;124m\"\u001B[39m\u001B[38;5;124mtype\u001B[39m\u001B[38;5;124m\"\u001B[39m] \u001B[38;5;241m!=\u001B[39m \u001B[38;5;124m\"\u001B[39m\u001B[38;5;124mSlabConfiguration\u001B[39m\u001B[38;5;124m\"\u001B[39m:\n",
      "\u001B[0;31mAttributeError\u001B[0m: 'bool' object has no attribute 'get'"
     ]
    }
   ],
   "source": [
    "slab_with_island = builder.get_material(island_config)"
   ],
   "metadata": {
    "collapsed": false,
    "ExecuteTime": {
     "end_time": "2024-10-10T23:54:00.420287Z",
     "start_time": "2024-10-10T23:54:00.132994Z"
    }
   },
   "id": "a990fa35742d7269",
   "execution_count": 6
  },
  {
   "cell_type": "markdown",
   "source": [
    "## 3. Visualize the Slabs with Adatom"
   ],
   "metadata": {
    "collapsed": false
   },
   "id": "462549d016073446"
  },
  {
   "cell_type": "code",
   "outputs": [],
   "source": [
    "from utils.visualize import visualize_materials as visualize\n",
    "\n",
    "visualize([{\"material\": slab, \"title\": \"Original material\"},\n",
    "           {\"material\": slab_with_adatom_at_equidistant_position, \"title\": f\"Material with adatom defect at equidistant position\"},\n",
    "           {\"material\": slab_with_adatom_at_crystal_site, \"title\": f\"Material with adatom defect at crystal site\"}],\n",
    "          rotation=\"-90x\"\n",
    "          )\n",
    "visualize([{\"material\": slab, \"title\": \"Original material\"},\n",
    "           {\"material\": slab_with_adatom_at_equidistant_position, \"title\": f\"Material with adatom defect at equidistant position\"},\n",
    "           {\"material\": slab_with_adatom_at_crystal_site, \"title\": f\"Material with adatom defect at crystal site\"}]\n",
    ")"
   ],
   "metadata": {
    "collapsed": false,
    "ExecuteTime": {
     "end_time": "2024-10-10T23:54:00.421904Z",
     "start_time": "2024-10-10T23:54:00.421804Z"
    }
   },
   "id": "509b18661a069e42",
   "execution_count": null
  },
  {
   "cell_type": "markdown",
   "source": [
    "## 4. Pass data to the outside runtime"
   ],
   "metadata": {
    "collapsed": false
   },
   "id": "d381df29a6bbdd82"
  },
  {
   "cell_type": "code",
   "outputs": [],
   "source": [
    "from utils.jupyterlite import set_materials\n",
    "\n",
    "set_materials([slab_with_adatom_at_equidistant_position, slab_with_adatom_at_crystal_site])"
   ],
   "metadata": {
    "collapsed": false
   },
   "id": "61daa5afcbc078a9",
   "execution_count": null
  }
 ],
 "metadata": {
  "kernelspec": {
   "display_name": "Python 3",
   "language": "python",
   "name": "python3"
  },
  "language_info": {
   "codemirror_mode": {
    "name": "ipython",
    "version": 2
   },
   "file_extension": ".py",
   "mimetype": "text/x-python",
   "name": "python",
   "nbconvert_exporter": "python",
   "pygments_lexer": "ipython2",
   "version": "2.7.6"
  }
 },
 "nbformat": 4,
 "nbformat_minor": 5
}
