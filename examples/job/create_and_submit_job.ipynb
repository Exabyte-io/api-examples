version https://git-lfs.github.com/spec/v1
oid sha256:c87bc9cc2cfcf5b4d517193e63c0c6eba424d9c0d47a2bf5bca7520abb114793
size 18164
