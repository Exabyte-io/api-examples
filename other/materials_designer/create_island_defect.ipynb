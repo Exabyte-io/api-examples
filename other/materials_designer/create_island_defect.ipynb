{
 "cells": [
  {
   "cell_type": "markdown",
   "source": [
    "# Create island defect on a slab\n",
    "\n",
    "Create an island defect on a slab\n",
    "\n",
    "<h2 style=\"color:green\">Usage</h2>\n",
    "\n",
    "1. Make sure to select Input Materials (in the outer runtime) before running the notebook.\n",
    "1. Set notebook parameters in cell 1.1. below (or use the default values).\n",
    "1. Click “Run” > “Run All” to run all cells. \n",
    "1. Scroll down to view results. \n",
    "\n",
    "\n",
    "## Notes\n",
    "\n",
    "1. For more information, see [Introduction](Introduction.ipynb)\n",
    "<!-- # TODO: use a hashtag-based anchor link to interface creation documention above -->\n"
   ],
   "metadata": {
    "collapsed": false
   },
   "id": "f2e1e795020d7b3f"
  },
  {
   "cell_type": "markdown",
   "source": [
    "## 1. Prepare the Environment\n",
    "### 1.1. Set up defect parameters "
   ],
   "metadata": {
    "collapsed": false
   },
   "id": "5e43ff288847b784"
  },
  {
   "cell_type": "code",
   "outputs": [],
   "source": [
    "# Choose the island shape: 'cylinder', 'sphere', 'box', or 'triangular_prism'\n",
    "ISLAND_SHAPE = 'cylinder'\n",
    "\n",
    "# Common parameters\n",
    "CENTER_POSITION = [0.5, 0.5, 0.5]  # Center of the island\n",
    "\n",
    "# Shape-specific parameters\n",
    "CYLINDER_PARAMS = {\n",
    "    'radius': 0.25,\n",
    "    'min_z': 0,\n",
    "    'max_z': 1\n",
    "}\n",
    "\n",
    "SPHERE_PARAMS = {\n",
    "    'radius': 0.25\n",
    "}\n",
    "\n",
    "BOX_PARAMS = {\n",
    "    'min_coordinate': [0.25, 0.25, 0],\n",
    "    'max_coordinate': [0.75, 0.75, 1]\n",
    "}\n",
    "\n",
    "TRIANGULAR_PRISM_PARAMS = {\n",
    "    'position_on_surface_1': [0.25, 0.25],\n",
    "    'position_on_surface_2': [0.75, 0.25],\n",
    "    'position_on_surface_3': [0.5, 0.75],\n",
    "    'min_z': 0,\n",
    "    'max_z': 1\n",
    "}"
   ],
   "metadata": {
    "collapsed": false
   },
   "id": "9d8b1890b34d850a",
   "execution_count": null
  },
  {
   "cell_type": "markdown",
   "source": [
    "### 1.2. Install Packages\n",
    "The step executes only in Pyodide environment. For other environments, the packages should be installed via `pip install` (see [README](../../README.ipynb))."
   ],
   "metadata": {
    "collapsed": false
   },
   "id": "bb64de5ff32649f8"
  },
  {
   "cell_type": "code",
   "outputs": [],
   "source": [
    "import sys\n",
    "\n",
    "if sys.platform == \"emscripten\":\n",
    "    import micropip\n",
    "    await micropip.install('mat3ra-api-examples', deps=False)\n",
    "    from utils.jupyterlite import install_packages\n",
    "    await install_packages(\"\", \"../../config.yml\")"
   ],
   "metadata": {
    "collapsed": false
   },
   "id": "ef664b14457530fd",
   "execution_count": null
  },
  {
   "cell_type": "markdown",
   "source": [
    "### 1.3. Get input material\n",
    "Materials are loaded with `get_materials()`."
   ],
   "metadata": {
    "collapsed": false
   },
   "id": "919ad7af8dceeedd"
  },
  {
   "cell_type": "code",
   "outputs": [],
   "source": [
    "from utils.jupyterlite import get_materials\n",
    "materials = get_materials(globals())"
   ],
   "metadata": {
    "collapsed": false
   },
   "id": "be38fdda1984c654",
   "execution_count": null
  },
  {
   "cell_type": "markdown",
   "source": [
    "### 1.4. Create and preview Slab"
   ],
   "metadata": {
    "collapsed": false
   },
   "id": "a132fe0ef8bbf0d0"
  },
  {
   "cell_type": "code",
   "outputs": [],
   "source": [
    "\n",
    "from mat3ra.made.tools.utils.coordinate import (\n",
    "    CylinderCoordinateCondition,\n",
    "    SphereCoordinateCondition,\n",
    "    BoxCoordinateCondition,\n",
    "    TriangularPrismCoordinateCondition\n",
    ")\n",
    "from mat3ra.made.tools.build.defect import IslandSlabDefectConfiguration\n",
    "\n",
    "def get_coordinate_condition(shape):\n",
    "    if shape == 'cylinder':\n",
    "        return CylinderCoordinateCondition(\n",
    "            center_position=CENTER_POSITION[:2],\n",
    "            radius=CYLINDER_PARAMS['radius'],\n",
    "            min_z=CYLINDER_PARAMS['min_z'],\n",
    "            max_z=CYLINDER_PARAMS['max_z']\n",
    "        )\n",
    "    elif shape == 'sphere':\n",
    "        return SphereCoordinateCondition(\n",
    "            center_position=CENTER_POSITION,\n",
    "            radius=SPHERE_PARAMS['radius']\n",
    "        )\n",
    "    elif shape == 'box':\n",
    "        return BoxCoordinateCondition(\n",
    "            min_coordinate=BOX_PARAMS['min_coordinate'],\n",
    "            max_coordinate=BOX_PARAMS['max_coordinate']\n",
    "        )\n",
    "    elif shape == 'triangular_prism':\n",
    "        return TriangularPrismCoordinateCondition(\n",
    "            position_on_surface_1=TRIANGULAR_PRISM_PARAMS['position_on_surface_1'],\n",
    "            position_on_surface_2=TRIANGULAR_PRISM_PARAMS['position_on_surface_2'],\n",
    "            position_on_surface_3=TRIANGULAR_PRISM_PARAMS['position_on_surface_3'],\n",
    "            min_z=TRIANGULAR_PRISM_PARAMS['min_z'],\n",
    "            max_z=TRIANGULAR_PRISM_PARAMS['max_z']\n",
    "        )\n",
    "    else:\n",
    "        raise ValueError(f\"Unsupported island shape: {shape}\")\n",
    "\n",
    "coordinate_condition = get_coordinate_condition(ISLAND_SHAPE)\n",
    "slab = materials[0]\n",
    "if slab.metadata[\"build\"][\"type\"] != IslandSlabDefectConfiguration.__class__.__name__():\n",
    "    raise ValueError(\"The material is not a slab\")\n",
    "island_config = IslandSlabDefectConfiguration(\n",
    "    crystal=slab,\n",
    "    condition=coordinate_condition\n",
    ")"
   ],
   "metadata": {
    "collapsed": false
   },
   "id": "e2d24109d3068c9e",
   "execution_count": null
  },
  {
   "cell_type": "markdown",
   "source": [
    "## 2. Create the Defect\n",
    "### 2.1. Set slab builder parameters"
   ],
   "metadata": {
    "collapsed": false
   },
   "id": "5da5b0380583c952"
  },
  {
   "cell_type": "code",
   "outputs": [],
   "source": [
    "from mat3ra.made.tools.build.defect import IslandSlabDefectBuilder, SlabDefectBuilderParameters\n",
    "params = SlabDefectBuilderParameters(\n",
    "    auto_add_vacuum=True,\n",
    "    vacuum_thickness=10.0,\n",
    ")\n",
    "builder = IslandSlabDefectBuilder(build_parameters=params)"
   ],
   "metadata": {
    "collapsed": false
   },
   "id": "e385e50ae11ed2b9",
   "execution_count": null
  },
  {
   "cell_type": "markdown",
   "source": [
    "### 2.2. Create the island"
   ],
   "metadata": {
    "collapsed": false
   },
   "id": "489b51f0ee122c48"
  },
  {
   "cell_type": "code",
   "outputs": [],
   "source": [
    "slab_with_island = builder.get_material(island_config)"
   ],
   "metadata": {
    "collapsed": false
   },
   "id": "a990fa35742d7269",
   "execution_count": null
  },
  {
   "cell_type": "markdown",
   "source": [
    "## 3. Visualize the Slabs with Adatom"
   ],
   "metadata": {
    "collapsed": false
   },
   "id": "462549d016073446"
  },
  {
   "cell_type": "code",
   "outputs": [],
   "source": [
    "from utils.visualize import visualize_materials as visualize\n",
    "\n",
    "visualize([{\"material\": slab, \"title\": \"Original material\"},\n",
    "           {\"material\": slab_with_island, \"title\": f\"Material with Island Defect ({ISLAND_SHAPE})\"}],\n",
    "rotation=\"-90x\")\n",
    "\n",
    "visualize([{\"material\": slab, \"title\": \"Original material\"},\n",
    "           {\"material\": slab_with_island, \"title\": f\"Material with Island Defect ({ISLAND_SHAPE})\"}])"
   ],
   "metadata": {
    "collapsed": false
   },
   "id": "509b18661a069e42",
   "execution_count": null
  },
  {
   "cell_type": "markdown",
   "source": [
    "## 4. Pass data to the outside runtime"
   ],
   "metadata": {
    "collapsed": false
   },
   "id": "d381df29a6bbdd82"
  },
  {
   "cell_type": "code",
   "outputs": [],
   "source": [
    "from utils.jupyterlite import set_materials\n",
    "\n",
    "set_materials(slab_with_island)"
   ],
   "metadata": {
    "collapsed": false
   },
   "id": "61daa5afcbc078a9",
   "execution_count": null
  }
 ],
 "metadata": {
  "kernelspec": {
   "display_name": "Python 3",
   "language": "python",
   "name": "python3"
  },
  "language_info": {
   "codemirror_mode": {
    "name": "ipython",
    "version": 2
   },
   "file_extension": ".py",
   "mimetype": "text/x-python",
   "name": "python",
   "nbconvert_exporter": "python",
   "pygments_lexer": "ipython2",
   "version": "2.7.6"
  }
 },
 "nbformat": 4,
 "nbformat_minor": 5
}
