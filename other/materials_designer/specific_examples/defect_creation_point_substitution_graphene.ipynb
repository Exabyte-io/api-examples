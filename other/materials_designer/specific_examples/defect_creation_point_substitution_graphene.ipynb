{
 "cells": [
  {
   "cell_type": "markdown",
   "source": [
    "# Substitutional Point Defects in Graphene\n",
    "\n",
    "## 0. Introduction\n",
    "\n",
    "This tutorial demonstrates the process of creating materials with substitution defects, based on the work presented in the following manuscript, where nitrogen defects in graphene are studied.\n",
    "\n",
    "[//]: # (<embed src=\"https://journals.aps.org/prb/abstract/10.1103/PhysRevB.84.245446\" width=\"100%\" height=\"300\">)\n",
    "\n",
    "> **Yoshitaka Fujimoto and Susumu Saito**, \"Formation, stabilities, and electronic properties of nitrogen defects in graphene\", Physical Review B, 2011. [DOI: 10.1103/PhysRevB.84.245446](https://journals.aps.org/prb/abstract/10.1103/PhysRevB.84.245446).\n",
    "\n"
   ],
   "metadata": {
    "collapsed": false
   },
   "id": "f0ccd3190ce70a68"
  },
  {
   "cell_type": "markdown",
   "source": [
    "## 1. Prepare the Environment\n",
    "### 1.1. Set up defects parameters \n",
    "Defect Configuration parameters are described in [Defect Configuration](https://github.com/Exabyte-io/made/blob/main/src/py/mat3ra/made/tools/build/defect/configuration.py)."
   ],
   "metadata": {
    "collapsed": false
   },
   "id": "aae97744e3023a1b"
  },
  {
   "cell_type": "code",
   "outputs": [],
   "source": [
    "CHEMICAL_ELEMENT = \"N\"  # Element to be placed at the site (ignored for vacancy)\n",
    "\n",
    "SUPERCELL_MATRIX = [[4, 0, 0], [0, 4, 0], [0, 0, 1]]\n",
    "\n",
    "DEFECT_CONFIGS = [\n",
    "    {\n",
    "        \"defect_type\": \"substitution\",\n",
    "        \"approximate_coordinate\": [0.65, 0.25, 0.5],\n",
    "        \"chemical_element\": CHEMICAL_ELEMENT,\n",
    "    },\n",
    "      {\n",
    "        \"defect_type\": \"substitution\",\n",
    "        \"approximate_coordinate\": [0.75, 0.55, 0.5],\n",
    "        \"chemical_element\": CHEMICAL_ELEMENT,\n",
    "    },\n",
    "      {\n",
    "        \"defect_type\": \"substitution\",\n",
    "        \"approximate_coordinate\": [0.45, 0.25, 0.5],\n",
    "        \"chemical_element\": CHEMICAL_ELEMENT,\n",
    "    },\n",
    "      {\n",
    "        \"defect_type\": \"vacancy\",\n",
    "        \"approximate_coordinate\": [0.51, 0.5, 0.5],\n",
    "    },\n",
    "    \n",
    "]  "
   ],
   "metadata": {
    "collapsed": false
   },
   "id": "dff59577346dbece",
   "execution_count": null
  },
  {
   "cell_type": "markdown",
   "source": [
    "### 1.2. Install Packages\n",
    "The step executes only in Pyodide environment. For other environments, the packages should be installed via `pip install` (see [README](../../README.ipynb))."
   ],
   "metadata": {
    "collapsed": false
   },
   "id": "14d161d4b61ca219"
  },
  {
   "cell_type": "code",
   "outputs": [],
   "source": [
    "import sys\n",
    "\n",
    "if sys.platform == \"emscripten\":\n",
    "    import micropip\n",
    "\n",
    "    await micropip.install('mat3ra-api-examples', deps=False)\n",
    "    from utils.jupyterlite import install_packages\n",
    "\n",
    "    await install_packages(\"create_point_defect.ipynb\", \"../../config.yml\")"
   ],
   "metadata": {
    "collapsed": false
   },
   "id": "8c6ea8b36f1a6cc",
   "execution_count": null
  },
  {
   "cell_type": "markdown",
   "source": [
    "### 1.3. Get input Graphene material"
   ],
   "metadata": {
    "collapsed": false
   },
   "id": "da6733a515019677"
  },
  {
   "cell_type": "code",
   "outputs": [],
   "source": [
    "from utils.jupyterlite import load_material_from_folder\n",
    "\n",
    "material = load_material_from_folder(\"../uploads\", \"Graphene\")"
   ],
   "metadata": {
    "collapsed": false
   },
   "id": "14c40630ba2974e6",
   "execution_count": null
  },
  {
   "cell_type": "markdown",
   "source": [
    "### 1.4. Create and preview Supercell"
   ],
   "metadata": {
    "collapsed": false
   },
   "id": "9fcc51573071c301"
  },
  {
   "cell_type": "code",
   "outputs": [],
   "source": [
    "from utils.visualize import visualize_materials as visualize\n",
    "from mat3ra.made.tools.build.supercell import create_supercell\n",
    "\n",
    "supercell = create_supercell(material, supercell_matrix=SUPERCELL_MATRIX)\n",
    "visualize(supercell, repetitions=[1, 1, 1], rotation=\"0x\")"
   ],
   "metadata": {
    "collapsed": false
   },
   "id": "6d5a793dd5e45f16",
   "execution_count": null
  },
  {
   "cell_type": "markdown",
   "source": [
    "## 2. Create the Defect\n",
    "### 2.1. Set defect configurations and builder"
   ],
   "metadata": {
    "collapsed": false
   },
   "id": "e41cf1646620915d"
  },
  {
   "cell_type": "code",
   "outputs": [],
   "source": [
    "from mat3ra.made.tools.build.defect import PointDefectConfiguration\n",
    "from mat3ra.made.tools.build.defect.builders import PointDefectBuilderParameters\n",
    "\n",
    "configurations = []\n",
    "for defect in DEFECT_CONFIGS:\n",
    "    if \"site_id\" in defect:\n",
    "        config = PointDefectConfiguration.from_site_id(crystal=supercell, **defect)\n",
    "    elif \"coordinate\" in defect:\n",
    "        config = PointDefectConfiguration(crystal=supercell, **defect)\n",
    "    elif \"approximate_coordinate\" in defect:\n",
    "        config = PointDefectConfiguration.from_approximate_position(crystal=supercell, **defect)\n",
    "    else:\n",
    "        raise ValueError(f\"Invalid defect configuration: {defect}\")\n",
    "    configurations.append(config)\n",
    "\n",
    "defect_configurations = configurations\n",
    "\n",
    "defect_builder_parameters = PointDefectBuilderParameters(center_defect=False)"
   ],
   "metadata": {
    "collapsed": false
   },
   "id": "ae3bc8ed1bf133f4",
   "execution_count": null
  },
  {
   "cell_type": "markdown",
   "source": [
    "### 2.2. Create the defects"
   ],
   "metadata": {
    "collapsed": false
   },
   "id": "3a7b1416f29b2606"
  },
  {
   "cell_type": "code",
   "outputs": [],
   "source": [
    "from mat3ra.made.tools.build.defect import create_defects\n",
    "\n",
    "material_with_defect = create_defects(builder_parameters=defect_builder_parameters, configurations=defect_configurations)"
   ],
   "metadata": {
    "collapsed": false
   },
   "id": "db2d621e2fd4bbeb",
   "execution_count": null
  },
  {
   "cell_type": "markdown",
   "source": [
    "## 3. Visualize the Defects"
   ],
   "metadata": {
    "collapsed": false
   },
   "id": "2b58b5e76bd167d8"
  },
  {
   "cell_type": "code",
   "outputs": [],
   "source": [
    "from utils.visualize import visualize_materials as visualize\n",
    "\n",
    "visualize([{\"material\": supercell, \"title\": \"Original material\"},\n",
    "           {\"material\": material_with_defect, \"title\": f\"Material with defect\"}],\n",
    "          rotation=\"-90x\")\n",
    "visualize([{\"material\": supercell, \"title\": \"Original material\"},\n",
    "           {\"material\": material_with_defect, \"title\": f\"Material with defect\"}])"
   ],
   "metadata": {
    "collapsed": false
   },
   "id": "d4a1e920884b1a48",
   "execution_count": null
  },
  {
   "cell_type": "markdown",
   "source": [
    "## 4. Write resulting material to the folder"
   ],
   "metadata": {
    "collapsed": false
   },
   "id": "865c3b666e06fd10"
  },
  {
   "cell_type": "code",
   "outputs": [],
   "source": [
    "from utils.jupyterlite import write_materials_to_folder\n",
    "\n",
    "write_materials_to_folder([material_with_defect], \"../uploads\")"
   ],
   "metadata": {
    "collapsed": false
   },
   "id": "7dcf867f46422fa9",
   "execution_count": null
  }
 ],
 "metadata": {
  "kernelspec": {
   "display_name": "Python 3",
   "language": "python",
   "name": "python3"
  },
  "language_info": {
   "codemirror_mode": {
    "name": "ipython",
    "version": 2
   },
   "file_extension": ".py",
   "mimetype": "text/x-python",
   "name": "python",
   "nbconvert_exporter": "python",
   "pygments_lexer": "ipython2",
   "version": "2.7.6"
  }
 },
 "nbformat": 4,
 "nbformat_minor": 5
}
