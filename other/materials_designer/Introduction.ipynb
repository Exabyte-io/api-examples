{
 "cells": [
  {
   "cell_type": "markdown",
   "metadata": {},
   "source": [
    "# Materials Transformations with Python Notebooks\n",
    "\n",
    "## Overview\n",
    "\n",
    "This Jupyter Lite distribution contains pre-configured examples of materials transformations including simple ones like creation of supercell or a surface, and more complex like creating an interface with Zur and McGill Superlattice matching algorithm\n",
    "\n",
    "## Examples\n",
    "### 1. Builders / Transformations\n",
    "\n",
    "#### [1.1. Interface creation with Zur and McGill Superlattice algorithm](create_interface_with_min_strain_zsl.ipynb)\n",
    "\n",
    "This notebook lets user create an interface between two materials by finding matching superlattices and selecting optimal variants by (1) minimal strain and (2) minimal number of atoms. [Click here to open the notebook](create_interface_with_min_strain_zsl.ipynb).\n",
    "\n",
    "### 2. Data Import\n",
    "\n",
    "#### [2.1. Materials import from JARVIS](import_material_from_jarvis_db_entry.ipynb)\n",
    "\n",
    "This notebook demonstrates a workflow for converting materials data from the [JARVIS](https://jarvis.nist.gov/) database into ESSE format for use with Mat3ra.com platform. [Click here to open the notebook](import_material_from_jarvis_db_entry.ipynb).\n"
   ]
  },
  {
   "cell_type": "markdown",
   "metadata": {},
   "source": []
  }
 ],
 "metadata": {
  "language_info": {
   "name": "python"
  }
 },
 "nbformat": 4,
 "nbformat_minor": 2
}
