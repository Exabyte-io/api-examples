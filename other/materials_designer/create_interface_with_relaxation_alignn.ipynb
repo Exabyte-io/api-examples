{
 "cells": [
  {
   "cell_type": "markdown",
   "metadata": {},
   "source": [
    "# Create an interface between two materials with minimal strain\n",
    "\n",
    "Use Zur and McGill superlattices matching [algorithm](https://doi.org/10.1063/1.3330840) to create interfaces between two materials using the Pymatgen [implementation](https://pymatgen.org/pymatgen.analysis.interfaces.html#pymatgen.analysis.interfaces.zsl).\n",
    "\n",
    "<h2 style=\"color:green\">Usage</h2>\n",
    "\n",
    "0. Make sure to select Input Materials\n",
    "1. Execute \"Run first: ...\" cell below to load Input Materials into the current kernel\n",
    "2. Set Input Parameters (e.g. `MILLER_INDICES`, `THICKNESS`, `MAX_AREA`) below or use the default values\n",
    "3. Click \"Run\" > \"Run All\" to run all cells\n",
    "4. Wait for the run to complete (depending on the area, it can take 1-2 min or more). Scroll down to view cell results.\n",
    "5. Review the strain plot and modify its parameters as needed\n",
    "\n",
    "## Methodology\n",
    "\n",
    "The following happens in the script below:\n",
    "\n",
    "1. Create slabs for each input material. The materials data is passed in from and back to the web application according to this description (TBA).\n",
    "   We assume that two input materials are either in bulk form (e.g. Ni crystal) or layered (e.g. graphene). \n",
    "   \n",
    "   We construct the interface along the Z-axis. The material corresponding to the bottom of the interface is referred to as the \"**substrate**\", and the top - as the \"**layer**\". \n",
    "\n",
    "2. Perform strain matching on the slabs to extract the supercell dimensions. The algorithm has a set of parameters, such as the maximum area considered, that can be configured by editing the cells below.\n",
    "\n",
    "3. When the strain matching is finished, the interface with the lowest strain (and the smallest number of atoms) is selected. We create the corresponding supercells and place them at a specified distance from each other (note no shift is performed currently).\n"
   ]
  },
  {
   "cell_type": "markdown",
   "metadata": {},
   "source": [
    "<h2 style=\"color:red\">Run first: load input materials in current kernel</h2>\n"
   ]
  },
  {
   "cell_type": "code",
   "execution_count": 14,
   "metadata": {
    "ExecuteTime": {
     "end_time": "2024-02-23T06:21:39.653429Z",
     "start_time": "2024-02-23T06:21:39.322232Z"
    }
   },
   "outputs": [],
   "source": [
    "import json\n",
    "materials_in = []\n",
    "for file in [\"Ni.json\", \"Gr.json\"]:\n",
    "    with open(file, \"r\") as f:\n",
    "        data = f.read()\n",
    "        materials_in.append(json.loads(data))"
   ]
  },
  {
   "cell_type": "markdown",
   "metadata": {},
   "source": [
    "## 1. Set Input Parameters\n",
    "\n",
    "### 1.1. Select Substrate and Layer from Input Materials"
   ]
  },
  {
   "cell_type": "code",
   "execution_count": 15,
   "metadata": {
    "ExecuteTime": {
     "end_time": "2024-02-23T06:21:39.712342Z",
     "start_time": "2024-02-23T06:21:39.657944Z"
    }
   },
   "outputs": [],
   "source": [
    "SUBSTRATE_PARAMETERS = {\n",
    "    \"MATERIAL_INDEX\": 0,  # the index of the material in the materials_in list\n",
    "    \"MILLER_INDICES\": (1, 1, 1),  # the miller indices of the interfacial plane\n",
    "    \"THICKNESS\": 3,  # in layers\n",
    "}\n",
    "\n",
    "LAYER_PARAMETERS = {\n",
    "    \"MATERIAL_INDEX\": 1, # the index of the material in the materials_in list\n",
    "    \"MILLER_INDICES\": (0, 0, 1),  # the miller indices of the interfacial plane\n",
    "    \"THICKNESS\": 1,  # in layers\n",
    "}"
   ]
  },
  {
   "cell_type": "markdown",
   "metadata": {},
   "source": [
    "### 1.2. Set Interface Parameters\n",
    "\n",
    "The distance between layer and substrate and maximum area to consider when matching.\n"
   ]
  },
  {
   "cell_type": "code",
   "execution_count": 16,
   "metadata": {
    "ExecuteTime": {
     "end_time": "2024-02-23T06:21:39.777218Z",
     "start_time": "2024-02-23T06:21:39.705113Z"
    }
   },
   "outputs": [],
   "source": [
    "INTERFACE_PARAMETERS = {\n",
    "    \"DISTANCE_Z\": 3.0, # in Angstroms\n",
    "    \"MAX_AREA\": 50, # in Angstroms^2\n",
    "}"
   ]
  },
  {
   "cell_type": "markdown",
   "metadata": {},
   "source": [
    "### 1.3. Set Algorithm Parameters"
   ]
  },
  {
   "cell_type": "code",
   "execution_count": 17,
   "metadata": {
    "ExecuteTime": {
     "end_time": "2024-02-23T06:21:39.815764Z",
     "start_time": "2024-02-23T06:21:39.767635Z"
    }
   },
   "outputs": [],
   "source": [
    "ZSL_PARAMETERS = {\n",
    "    \"MAX_AREA\": INTERFACE_PARAMETERS[\"MAX_AREA\"],  # The area to consider in Angstrom^2\n",
    "    \"MAX_AREA_TOL\": 0.09,  # The area within this tolerance is considered equal\n",
    "    \"MAX_LENGTH_TOL\": 0.03,  # supercell lattice vectors lengths within this tolerance are considered equal\n",
    "    \"MAX_ANGLE_TOL\": 0.01,  # supercell lattice angles within this tolerance are considered equal\n",
    "    \"STRAIN_TOL\": 10e-6,  # strains within this tolerance are considered equal\n",
    "}"
   ]
  },
  {
   "cell_type": "markdown",
   "metadata": {},
   "source": [
    "## 2. Install Packages"
   ]
  },
  {
   "cell_type": "code",
   "execution_count": 18,
   "metadata": {
    "ExecuteTime": {
     "end_time": "2024-02-23T06:21:42.124334Z",
     "start_time": "2024-02-23T06:21:39.820311Z"
    }
   },
   "outputs": [
    {
     "name": "stdout",
     "output_type": "stream",
     "text": [
      "Python 3.11.2\r\n",
      "Package                    Version\r\n",
      "-------------------------- -----------------\r\n",
      "accelerate                 0.27.2\r\n",
      "aiohttp                    3.9.3\r\n",
      "aiosignal                  1.3.1\r\n",
      "alignn                     2024.2.4\r\n",
      "anyio                      4.3.0\r\n",
      "appnope                    0.1.4\r\n",
      "argon2-cffi                23.1.0\r\n",
      "argon2-cffi-bindings       21.2.0\r\n",
      "arrow                      1.3.0\r\n",
      "ase                        3.22.1\r\n",
      "asttokens                  2.4.1\r\n",
      "async-lru                  2.0.4\r\n",
      "attrs                      23.2.0\r\n",
      "Babel                      2.14.0\r\n",
      "beautifulsoup4             4.12.3\r\n",
      "bleach                     6.1.0\r\n",
      "build                      1.0.3\r\n",
      "certifi                    2024.2.2\r\n",
      "cffi                       1.16.0\r\n",
      "cfgv                       3.4.0\r\n",
      "charset-normalizer         3.3.2\r\n",
      "click                      8.1.7\r\n",
      "colorama                   0.4.6\r\n",
      "comm                       0.2.1\r\n",
      "contourpy                  1.2.0\r\n",
      "cycler                     0.12.1\r\n",
      "debugpy                    1.8.1\r\n",
      "decorator                  5.1.1\r\n",
      "defusedxml                 0.7.1\r\n",
      "dgl                        2.0.0\r\n",
      "distlib                    0.3.8\r\n",
      "executing                  2.0.1\r\n",
      "fastjsonschema             2.19.1\r\n",
      "filelock                   3.13.1\r\n",
      "flake8                     7.0.0\r\n",
      "fonttools                  4.49.0\r\n",
      "fqdn                       1.5.1\r\n",
      "frozenlist                 1.4.1\r\n",
      "fsspec                     2024.2.0\r\n",
      "future                     1.0.0\r\n",
      "ghp-import                 2.1.0\r\n",
      "h11                        0.14.0\r\n",
      "httpcore                   1.0.4\r\n",
      "httpx                      0.27.0\r\n",
      "huggingface-hub            0.20.3\r\n",
      "identify                   2.5.35\r\n",
      "idna                       3.6\r\n",
      "ipykernel                  6.29.2\r\n",
      "ipython                    8.22.1\r\n",
      "ipywidgets                 8.1.2\r\n",
      "isoduration                20.11.0\r\n",
      "jarvis-tools               2023.12.12\r\n",
      "jedi                       0.19.1\r\n",
      "Jinja2                     3.1.3\r\n",
      "joblib                     1.3.2\r\n",
      "json5                      0.9.17\r\n",
      "jsonpointer                2.4\r\n",
      "jsonschema                 4.21.1\r\n",
      "jsonschema-specifications  2023.12.1\r\n",
      "jupyter                    1.0.0\r\n",
      "jupyter_client             8.6.0\r\n",
      "jupyter-console            6.6.3\r\n",
      "jupyter_core               5.7.1\r\n",
      "jupyter-events             0.9.0\r\n",
      "jupyter-lsp                2.2.2\r\n",
      "jupyter_server             2.12.5\r\n",
      "jupyter_server_terminals   0.5.2\r\n",
      "jupyterlab                 4.1.2\r\n",
      "jupyterlab_pygments        0.3.0\r\n",
      "jupyterlab_server          2.25.3\r\n",
      "jupyterlab_widgets         3.0.10\r\n",
      "kiwisolver                 1.4.5\r\n",
      "latexcodec                 2.0.1\r\n",
      "lightning-utilities        0.10.1\r\n",
      "Markdown                   3.5.2\r\n",
      "MarkupSafe                 2.1.5\r\n",
      "mat3ra-api-examples        0.1.0\r\n",
      "matgl                      0.9.2\r\n",
      "matplotlib                 3.8.3\r\n",
      "matplotlib-inline          0.1.6\r\n",
      "mccabe                     0.7.0\r\n",
      "mergedeep                  1.3.4\r\n",
      "mistune                    3.0.2\r\n",
      "mkdocs                     1.5.3\r\n",
      "mkdocs-material            9.5.10\r\n",
      "mkdocs-material-extensions 1.3.1\r\n",
      "monty                      2024.2.2\r\n",
      "mpmath                     1.3.0\r\n",
      "multidict                  6.0.5\r\n",
      "nbclient                   0.9.0\r\n",
      "nbconvert                  7.16.1\r\n",
      "nbformat                   5.9.2\r\n",
      "nest-asyncio               1.6.0\r\n",
      "networkx                   3.2.1\r\n",
      "nglview                    3.1.1\r\n",
      "nodeenv                    1.8.0\r\n",
      "notebook                   7.1.0\r\n",
      "notebook_shim              0.2.4\r\n",
      "numpy                      1.26.4\r\n",
      "overrides                  7.7.0\r\n",
      "packaging                  23.2\r\n",
      "paginate                   0.5.6\r\n",
      "palettable                 3.3.3\r\n",
      "pandas                     2.2.0\r\n",
      "pandocfilters              1.5.1\r\n",
      "parso                      0.8.3\r\n",
      "pathspec                   0.12.1\r\n",
      "pexpect                    4.9.0\r\n",
      "pillow                     10.2.0\r\n",
      "pip                        23.3.2\r\n",
      "pip-tools                  7.4.0\r\n",
      "platformdirs               4.2.0\r\n",
      "plotly                     5.19.0\r\n",
      "pre-commit                 3.6.2\r\n",
      "prometheus_client          0.20.0\r\n",
      "prompt-toolkit             3.0.43\r\n",
      "psutil                     5.9.8\r\n",
      "ptyprocess                 0.7.0\r\n",
      "pure-eval                  0.2.2\r\n",
      "pybtex                     0.24.0\r\n",
      "pycodestyle                2.11.1\r\n",
      "pycparser                  2.21\r\n",
      "pydantic                   1.8.1\r\n",
      "pydocstyle                 6.3.0\r\n",
      "pyflakes                   3.2.0\r\n",
      "Pygments                   2.17.2\r\n",
      "pymatgen                   2024.2.8\r\n",
      "pymdown-extensions         10.7\r\n",
      "pyparsing                  2.4.7\r\n",
      "pyproject_hooks            1.0.0\r\n",
      "PyQt5                      5.15.10\r\n",
      "PyQt5-Qt5                  5.15.12\r\n",
      "PyQt5-sip                  12.13.0\r\n",
      "python-dateutil            2.8.2\r\n",
      "python-json-logger         2.0.7\r\n",
      "pytorch-ignite             0.5.0.dev20240223\r\n",
      "pytorch-lightning          2.2.0.post0\r\n",
      "pytz                       2024.1\r\n",
      "PyYAML                     6.0.1\r\n",
      "pyyaml_env_tag             0.1\r\n",
      "pyzmq                      25.1.2\r\n",
      "qtconsole                  5.5.1\r\n",
      "QtPy                       2.4.1\r\n",
      "referencing                0.33.0\r\n",
      "regex                      2023.12.25\r\n",
      "requests                   2.31.0\r\n",
      "rfc3339-validator          0.1.4\r\n",
      "rfc3986-validator          0.1.1\r\n",
      "rpds-py                    0.18.0\r\n",
      "ruamel.yaml                0.18.6\r\n",
      "ruamel.yaml.clib           0.2.8\r\n",
      "safetensors                0.4.2\r\n",
      "scikit-learn               1.4.1.post1\r\n",
      "scipy                      1.12.0\r\n",
      "Send2Trash                 1.8.2\r\n",
      "setuptools                 69.0.3\r\n",
      "six                        1.16.0\r\n",
      "sniffio                    1.3.0\r\n",
      "snowballstemmer            2.2.0\r\n",
      "soupsieve                  2.5\r\n",
      "spglib                     2.0.2\r\n",
      "stack-data                 0.6.3\r\n",
      "sympy                      1.12\r\n",
      "tabulate                   0.9.0\r\n",
      "tenacity                   8.2.3\r\n",
      "terminado                  0.18.0\r\n",
      "threadpoolctl              3.3.0\r\n",
      "tinycss2                   1.2.1\r\n",
      "toolz                      0.12.1\r\n",
      "torch                      2.0.0\r\n",
      "torchdata                  0.7.1\r\n",
      "torchmetrics               1.3.1\r\n",
      "tornado                    6.4\r\n",
      "tqdm                       4.66.2\r\n",
      "traitlets                  5.14.1\r\n",
      "types-python-dateutil      2.8.19.20240106\r\n",
      "typing_extensions          4.9.0\r\n",
      "tzdata                     2024.1\r\n",
      "uncertainties              3.1.7\r\n",
      "uri-template               1.3.0\r\n",
      "urllib3                    2.2.1\r\n",
      "virtualenv                 20.25.1\r\n",
      "watchdog                   4.0.0\r\n",
      "wcwidth                    0.2.13\r\n",
      "webcolors                  1.13\r\n",
      "webencodings               0.5.1\r\n",
      "websocket-client           1.7.0\r\n",
      "wheel                      0.42.0\r\n",
      "widgetsnbextension         4.0.10\r\n",
      "xmltodict                  0.13.0\r\n",
      "yarl                       1.9.4\r\n",
      "\r\n",
      "\u001B[1m[\u001B[0m\u001B[34;49mnotice\u001B[0m\u001B[1;39;49m]\u001B[0m\u001B[39;49m A new release of pip is available: \u001B[0m\u001B[31;49m23.3.2\u001B[0m\u001B[39;49m -> \u001B[0m\u001B[32;49m24.0\u001B[0m\r\n",
      "\u001B[1m[\u001B[0m\u001B[34;49mnotice\u001B[0m\u001B[1;39;49m]\u001B[0m\u001B[39;49m To update, run: \u001B[0m\u001B[32;49mpip install --upgrade pip\u001B[0m\r\n"
     ]
    }
   ],
   "source": [
    "!python --version\n",
    "!pip list\n",
    "# !pip install pymatgen==2024.2.8 ase==3.22.1 nbformat==5.9.2 ipykernel==6.29.2 matgl==0.9.2 nglview==3.1.1 alignn==2024.2.4 pip install PyQt5==5.15.10"
   ]
  },
  {
   "cell_type": "markdown",
   "metadata": {},
   "source": [
    "## 3. Create interfaces\n",
    "\n",
    "### 3.1. Extract Interfaces and Terminations\n",
    "\n",
    "Extract all possible layer/substrate supercell combinations within the maximum area including different terminations."
   ]
  },
  {
   "cell_type": "code",
   "execution_count": 19,
   "metadata": {
    "tags": [],
    "trusted": true,
    "ExecuteTime": {
     "end_time": "2024-02-23T06:21:44.084383Z",
     "start_time": "2024-02-23T06:21:42.155078Z"
    }
   },
   "outputs": [
    {
     "name": "stdout",
     "output_type": "stream",
     "text": [
      "Full Formula (Ni1)\n",
      "Reduced Formula: Ni\n",
      "abc   :   2.460000   2.460000   2.460000\n",
      "angles:  60.000004  59.999994  60.000003\n",
      "pbc   :       True       True       True\n",
      "Sites (1)\n",
      "  #  SP      a    b    c\n",
      "---  ----  ---  ---  ---\n",
      "  0  Ni      0    0    0 \n",
      "\n",
      "Full Formula (C2)\n",
      "Reduced Formula: C\n",
      "abc   :   2.467291   2.467291  20.000000\n",
      "angles:  90.000000  90.000000 119.999986\n",
      "pbc   :       True       True       True\n",
      "Sites (2)\n",
      "  #  SP           a         b    c\n",
      "---  ----  --------  --------  ---\n",
      "  0  C     0         0           0\n",
      "  1  C     0.333333  0.666667    0 \n",
      "\n",
      "Creating interfaces...\n"
     ]
    }
   ],
   "source": [
    "from src.pymatgen_coherent_interface_builder import CoherentInterfaceBuilder, ZSLGenerator\n",
    "from src.utils import to_pymatgen\n",
    "\n",
    "if \"materials_in\" in globals():\n",
    "    pymatgen_materials = [to_pymatgen(item) for item in materials_in]\n",
    "for material in pymatgen_materials:\n",
    "    print(material, \"\\n\")\n",
    "\n",
    "\n",
    "def create_interfaces(settings):\n",
    "    print(\"Creating interfaces...\")\n",
    "    zsl = ZSLGenerator(\n",
    "        max_area_ratio_tol=settings[\"ZSL_PARAMETERS\"][\"MAX_AREA_TOL\"],\n",
    "        max_area=settings[\"ZSL_PARAMETERS\"][\"MAX_AREA\"],\n",
    "        max_length_tol=settings[\"ZSL_PARAMETERS\"][\"MAX_LENGTH_TOL\"],\n",
    "        max_angle_tol=settings[\"ZSL_PARAMETERS\"][\"MAX_ANGLE_TOL\"],\n",
    "    )\n",
    "\n",
    "    cib = CoherentInterfaceBuilder(\n",
    "        substrate_structure=pymatgen_materials[settings[\"SUBSTRATE_PARAMETERS\"][\"MATERIAL_INDEX\"]],\n",
    "        film_structure=pymatgen_materials[settings[\"LAYER_PARAMETERS\"][\"MATERIAL_INDEX\"]],\n",
    "        substrate_miller=settings[\"SUBSTRATE_PARAMETERS\"][\"MILLER_INDICES\"],\n",
    "        film_miller=settings[\"LAYER_PARAMETERS\"][\"MILLER_INDICES\"],\n",
    "        zslgen=zsl,\n",
    "        strain_tol=settings[\"ZSL_PARAMETERS\"][\"STRAIN_TOL\"],\n",
    "    )\n",
    "\n",
    "    # Find terminations\n",
    "    cib._find_terminations()\n",
    "    terminations = cib.terminations\n",
    "\n",
    "    # Create interfaces for each termination\n",
    "    interfaces = {}\n",
    "    for termination in terminations:\n",
    "        interfaces[termination] = []\n",
    "        for interface in cib.get_interfaces(\n",
    "            termination,\n",
    "            gap=settings[\"INTERFACE_PARAMETERS\"][\"DISTANCE_Z\"],\n",
    "            film_thickness=settings[\"LAYER_PARAMETERS\"][\"THICKNESS\"],\n",
    "            substrate_thickness=settings[\"SUBSTRATE_PARAMETERS\"][\"THICKNESS\"],\n",
    "            in_layers=True,\n",
    "        ):\n",
    "            # Wrap atoms to unit cell\n",
    "            interface[\"interface\"].make_supercell((1,1,1), to_unit_cell=True)\n",
    "            interfaces[termination].append(interface)\n",
    "    return interfaces, terminations\n",
    "\n",
    "\n",
    "interfaces, terminations = create_interfaces(\n",
    "    settings={\n",
    "        \"SUBSTRATE_PARAMETERS\": SUBSTRATE_PARAMETERS,\n",
    "        \"LAYER_PARAMETERS\": LAYER_PARAMETERS,\n",
    "        \"ZSL_PARAMETERS\": ZSL_PARAMETERS,\n",
    "        \"INTERFACE_PARAMETERS\": INTERFACE_PARAMETERS,\n",
    "    }\n",
    ")"
   ]
  },
  {
   "cell_type": "markdown",
   "metadata": {},
   "source": [
    "### 3.2. Print out the interfaces and terminations"
   ]
  },
  {
   "cell_type": "code",
   "execution_count": 20,
   "metadata": {
    "ExecuteTime": {
     "end_time": "2024-02-23T06:21:44.086620Z",
     "start_time": "2024-02-23T06:21:44.082802Z"
    }
   },
   "outputs": [
    {
     "name": "stdout",
     "output_type": "stream",
     "text": [
      "Found 1 terminations\n",
      "Found 233 interfaces for ('C_P6/mmm_2', 'Ni_R-3m_1') termination\n"
     ]
    }
   ],
   "source": [
    "print(f'Found {len(terminations)} terminations')\n",
    "for termination in terminations:\n",
    "    print(f\"Found {len(interfaces[termination])} interfaces for\", termination, \"termination\")"
   ]
  },
  {
   "cell_type": "markdown",
   "metadata": {},
   "source": [
    "## 4. Sort interfaces by strain\n",
    "\n",
    "### 4.1. Sort all interfaces"
   ]
  },
  {
   "cell_type": "code",
   "execution_count": 21,
   "metadata": {
    "ExecuteTime": {
     "end_time": "2024-02-23T06:21:44.102375Z",
     "start_time": "2024-02-23T06:21:44.099140Z"
    }
   },
   "outputs": [],
   "source": [
    "# Could be \"strain\", \"von_mises_strain\", \"mean_abs_strain\"\n",
    "strain_mode = \"mean_abs_strain\"\n",
    "\n",
    "# Sort interfaces by the specified strain mode and number of sites\n",
    "def sort_interfaces(interfaces, terminations):\n",
    "    sorted_interfaces = {}\n",
    "    for termination in terminations:\n",
    "        sorted_interfaces[termination] = sorted(\n",
    "            interfaces[termination], key=lambda x: (x[strain_mode], x[\"interface\"].num_sites)\n",
    "        )\n",
    "    return sorted_interfaces\n",
    "\n",
    "\n",
    "sorted_interfaces = sort_interfaces(interfaces, terminations)"
   ]
  },
  {
   "cell_type": "markdown",
   "metadata": {},
   "source": [
    "### 4.2. Print out interfaces with lowest strain for each termination"
   ]
  },
  {
   "cell_type": "code",
   "execution_count": 22,
   "metadata": {
    "ExecuteTime": {
     "end_time": "2024-02-23T06:21:44.140150Z",
     "start_time": "2024-02-23T06:21:44.104056Z"
    }
   },
   "outputs": [
    {
     "name": "stdout",
     "output_type": "stream",
     "text": [
      "Interface with lowest strain for termination ('C_P6/mmm_2', 'Ni_R-3m_1') (index 0):\n",
      "    strain: 0.06600000000000002 %\n",
      "    number of atoms: 5\n"
     ]
    }
   ],
   "source": [
    "for termination in terminations:\n",
    "    print(f\"Interface with lowest strain for termination {termination} (index 0):\")\n",
    "    first_interface = interfaces[termination][0]\n",
    "    print(\"    strain:\", first_interface[strain_mode] * 100, \"%\")\n",
    "    print(\"    number of atoms:\", first_interface[\"interface\"].num_sites)"
   ]
  },
  {
   "cell_type": "markdown",
   "metadata": {},
   "source": [
    "## 5. Plot the results\n",
    "\n",
    "Plot the number of atoms vs strain. Adjust the parameters as needed.\n"
   ]
  },
  {
   "cell_type": "code",
   "execution_count": 23,
   "metadata": {
    "ExecuteTime": {
     "end_time": "2024-02-23T06:21:44.142375Z",
     "start_time": "2024-02-23T06:21:44.125448Z"
    }
   },
   "outputs": [
    {
     "data": {
      "application/vnd.plotly.v1+json": {
       "data": [
        {
         "hoverinfo": "text",
         "mode": "markers",
         "name": "Indices: 0",
         "text": [
          "Termination: ('C_P6/mmm_2', 'Ni_R-3m_1')<br>Termination index: 0<br>Interfaces Index Range: 0<br>Strain: 0.07%<br>Atoms: 5"
         ],
         "x": [
          0.06600000000000002
         ],
         "y": [
          5
         ],
         "type": "scatter"
        },
        {
         "hoverinfo": "text",
         "mode": "markers",
         "name": "Indices: 1-9",
         "text": [
          "Termination: ('C_P6/mmm_2', 'Ni_R-3m_1')<br>Termination index: 0<br>Interfaces Index Range: 1-9<br>Strain: 0.07%<br>Atoms: 10"
         ],
         "x": [
          0.06600000000000002
         ],
         "y": [
          10
         ],
         "type": "scatter"
        },
        {
         "hoverinfo": "text",
         "mode": "markers",
         "name": "Indices: 10-19",
         "text": [
          "Termination: ('C_P6/mmm_2', 'Ni_R-3m_1')<br>Termination index: 0<br>Interfaces Index Range: 10-19<br>Strain: 0.07%<br>Atoms: 15"
         ],
         "x": [
          0.06600000000000002
         ],
         "y": [
          15
         ],
         "type": "scatter"
        },
        {
         "hoverinfo": "text",
         "mode": "markers",
         "name": "Indices: 20-38",
         "text": [
          "Termination: ('C_P6/mmm_2', 'Ni_R-3m_1')<br>Termination index: 0<br>Interfaces Index Range: 20-38<br>Strain: 0.07%<br>Atoms: 20"
         ],
         "x": [
          0.06600000000000002
         ],
         "y": [
          20
         ],
         "type": "scatter"
        },
        {
         "hoverinfo": "text",
         "mode": "markers",
         "name": "Indices: 39-56",
         "text": [
          "Termination: ('C_P6/mmm_2', 'Ni_R-3m_1')<br>Termination index: 0<br>Interfaces Index Range: 39-56<br>Strain: 0.07%<br>Atoms: 25"
         ],
         "x": [
          0.06600000000000002
         ],
         "y": [
          25
         ],
         "type": "scatter"
        },
        {
         "hoverinfo": "text",
         "mode": "markers",
         "name": "Indices: 57-110",
         "text": [
          "Termination: ('C_P6/mmm_2', 'Ni_R-3m_1')<br>Termination index: 0<br>Interfaces Index Range: 57-110<br>Strain: 0.07%<br>Atoms: 30"
         ],
         "x": [
          0.06600000000000002
         ],
         "y": [
          30
         ],
         "type": "scatter"
        },
        {
         "hoverinfo": "text",
         "mode": "markers",
         "name": "Indices: 111-132",
         "text": [
          "Termination: ('C_P6/mmm_2', 'Ni_R-3m_1')<br>Termination index: 0<br>Interfaces Index Range: 111-132<br>Strain: 0.07%<br>Atoms: 35"
         ],
         "x": [
          0.06600000000000002
         ],
         "y": [
          35
         ],
         "type": "scatter"
        },
        {
         "hoverinfo": "text",
         "mode": "markers",
         "name": "Indices: 133-177",
         "text": [
          "Termination: ('C_P6/mmm_2', 'Ni_R-3m_1')<br>Termination index: 0<br>Interfaces Index Range: 133-177<br>Strain: 0.07%<br>Atoms: 40"
         ],
         "x": [
          0.06600000000000002
         ],
         "y": [
          40
         ],
         "type": "scatter"
        },
        {
         "hoverinfo": "text",
         "mode": "markers",
         "name": "Indices: 178-232",
         "text": [
          "Termination: ('C_P6/mmm_2', 'Ni_R-3m_1')<br>Termination index: 0<br>Interfaces Index Range: 178-232<br>Strain: 0.07%<br>Atoms: 45"
         ],
         "x": [
          0.06600000000000002
         ],
         "y": [
          45
         ],
         "type": "scatter"
        }
       ],
       "layout": {
        "height": 600,
        "hovermode": "closest",
        "legend": {
         "title": {
          "text": "Interfaces Index Range"
         }
        },
        "xaxis": {
         "title": {
          "text": "Strain (%)"
         },
         "type": "log"
        },
        "yaxis": {
         "title": {
          "text": "Number of atoms"
         },
         "type": "log"
        },
        "template": {
         "data": {
          "histogram2dcontour": [
           {
            "type": "histogram2dcontour",
            "colorbar": {
             "outlinewidth": 0,
             "ticks": ""
            },
            "colorscale": [
             [
              0.0,
              "#0d0887"
             ],
             [
              0.1111111111111111,
              "#46039f"
             ],
             [
              0.2222222222222222,
              "#7201a8"
             ],
             [
              0.3333333333333333,
              "#9c179e"
             ],
             [
              0.4444444444444444,
              "#bd3786"
             ],
             [
              0.5555555555555556,
              "#d8576b"
             ],
             [
              0.6666666666666666,
              "#ed7953"
             ],
             [
              0.7777777777777778,
              "#fb9f3a"
             ],
             [
              0.8888888888888888,
              "#fdca26"
             ],
             [
              1.0,
              "#f0f921"
             ]
            ]
           }
          ],
          "choropleth": [
           {
            "type": "choropleth",
            "colorbar": {
             "outlinewidth": 0,
             "ticks": ""
            }
           }
          ],
          "histogram2d": [
           {
            "type": "histogram2d",
            "colorbar": {
             "outlinewidth": 0,
             "ticks": ""
            },
            "colorscale": [
             [
              0.0,
              "#0d0887"
             ],
             [
              0.1111111111111111,
              "#46039f"
             ],
             [
              0.2222222222222222,
              "#7201a8"
             ],
             [
              0.3333333333333333,
              "#9c179e"
             ],
             [
              0.4444444444444444,
              "#bd3786"
             ],
             [
              0.5555555555555556,
              "#d8576b"
             ],
             [
              0.6666666666666666,
              "#ed7953"
             ],
             [
              0.7777777777777778,
              "#fb9f3a"
             ],
             [
              0.8888888888888888,
              "#fdca26"
             ],
             [
              1.0,
              "#f0f921"
             ]
            ]
           }
          ],
          "heatmap": [
           {
            "type": "heatmap",
            "colorbar": {
             "outlinewidth": 0,
             "ticks": ""
            },
            "colorscale": [
             [
              0.0,
              "#0d0887"
             ],
             [
              0.1111111111111111,
              "#46039f"
             ],
             [
              0.2222222222222222,
              "#7201a8"
             ],
             [
              0.3333333333333333,
              "#9c179e"
             ],
             [
              0.4444444444444444,
              "#bd3786"
             ],
             [
              0.5555555555555556,
              "#d8576b"
             ],
             [
              0.6666666666666666,
              "#ed7953"
             ],
             [
              0.7777777777777778,
              "#fb9f3a"
             ],
             [
              0.8888888888888888,
              "#fdca26"
             ],
             [
              1.0,
              "#f0f921"
             ]
            ]
           }
          ],
          "heatmapgl": [
           {
            "type": "heatmapgl",
            "colorbar": {
             "outlinewidth": 0,
             "ticks": ""
            },
            "colorscale": [
             [
              0.0,
              "#0d0887"
             ],
             [
              0.1111111111111111,
              "#46039f"
             ],
             [
              0.2222222222222222,
              "#7201a8"
             ],
             [
              0.3333333333333333,
              "#9c179e"
             ],
             [
              0.4444444444444444,
              "#bd3786"
             ],
             [
              0.5555555555555556,
              "#d8576b"
             ],
             [
              0.6666666666666666,
              "#ed7953"
             ],
             [
              0.7777777777777778,
              "#fb9f3a"
             ],
             [
              0.8888888888888888,
              "#fdca26"
             ],
             [
              1.0,
              "#f0f921"
             ]
            ]
           }
          ],
          "contourcarpet": [
           {
            "type": "contourcarpet",
            "colorbar": {
             "outlinewidth": 0,
             "ticks": ""
            }
           }
          ],
          "contour": [
           {
            "type": "contour",
            "colorbar": {
             "outlinewidth": 0,
             "ticks": ""
            },
            "colorscale": [
             [
              0.0,
              "#0d0887"
             ],
             [
              0.1111111111111111,
              "#46039f"
             ],
             [
              0.2222222222222222,
              "#7201a8"
             ],
             [
              0.3333333333333333,
              "#9c179e"
             ],
             [
              0.4444444444444444,
              "#bd3786"
             ],
             [
              0.5555555555555556,
              "#d8576b"
             ],
             [
              0.6666666666666666,
              "#ed7953"
             ],
             [
              0.7777777777777778,
              "#fb9f3a"
             ],
             [
              0.8888888888888888,
              "#fdca26"
             ],
             [
              1.0,
              "#f0f921"
             ]
            ]
           }
          ],
          "surface": [
           {
            "type": "surface",
            "colorbar": {
             "outlinewidth": 0,
             "ticks": ""
            },
            "colorscale": [
             [
              0.0,
              "#0d0887"
             ],
             [
              0.1111111111111111,
              "#46039f"
             ],
             [
              0.2222222222222222,
              "#7201a8"
             ],
             [
              0.3333333333333333,
              "#9c179e"
             ],
             [
              0.4444444444444444,
              "#bd3786"
             ],
             [
              0.5555555555555556,
              "#d8576b"
             ],
             [
              0.6666666666666666,
              "#ed7953"
             ],
             [
              0.7777777777777778,
              "#fb9f3a"
             ],
             [
              0.8888888888888888,
              "#fdca26"
             ],
             [
              1.0,
              "#f0f921"
             ]
            ]
           }
          ],
          "mesh3d": [
           {
            "type": "mesh3d",
            "colorbar": {
             "outlinewidth": 0,
             "ticks": ""
            }
           }
          ],
          "scatter": [
           {
            "marker": {
             "line": {
              "color": "#283442"
             }
            },
            "type": "scatter"
           }
          ],
          "parcoords": [
           {
            "type": "parcoords",
            "line": {
             "colorbar": {
              "outlinewidth": 0,
              "ticks": ""
             }
            }
           }
          ],
          "scatterpolargl": [
           {
            "type": "scatterpolargl",
            "marker": {
             "colorbar": {
              "outlinewidth": 0,
              "ticks": ""
             }
            }
           }
          ],
          "bar": [
           {
            "error_x": {
             "color": "#f2f5fa"
            },
            "error_y": {
             "color": "#f2f5fa"
            },
            "marker": {
             "line": {
              "color": "rgb(17,17,17)",
              "width": 0.5
             },
             "pattern": {
              "fillmode": "overlay",
              "size": 10,
              "solidity": 0.2
             }
            },
            "type": "bar"
           }
          ],
          "scattergeo": [
           {
            "type": "scattergeo",
            "marker": {
             "colorbar": {
              "outlinewidth": 0,
              "ticks": ""
             }
            }
           }
          ],
          "scatterpolar": [
           {
            "type": "scatterpolar",
            "marker": {
             "colorbar": {
              "outlinewidth": 0,
              "ticks": ""
             }
            }
           }
          ],
          "histogram": [
           {
            "marker": {
             "pattern": {
              "fillmode": "overlay",
              "size": 10,
              "solidity": 0.2
             }
            },
            "type": "histogram"
           }
          ],
          "scattergl": [
           {
            "marker": {
             "line": {
              "color": "#283442"
             }
            },
            "type": "scattergl"
           }
          ],
          "scatter3d": [
           {
            "type": "scatter3d",
            "line": {
             "colorbar": {
              "outlinewidth": 0,
              "ticks": ""
             }
            },
            "marker": {
             "colorbar": {
              "outlinewidth": 0,
              "ticks": ""
             }
            }
           }
          ],
          "scattermapbox": [
           {
            "type": "scattermapbox",
            "marker": {
             "colorbar": {
              "outlinewidth": 0,
              "ticks": ""
             }
            }
           }
          ],
          "scatterternary": [
           {
            "type": "scatterternary",
            "marker": {
             "colorbar": {
              "outlinewidth": 0,
              "ticks": ""
             }
            }
           }
          ],
          "scattercarpet": [
           {
            "type": "scattercarpet",
            "marker": {
             "colorbar": {
              "outlinewidth": 0,
              "ticks": ""
             }
            }
           }
          ],
          "carpet": [
           {
            "aaxis": {
             "endlinecolor": "#A2B1C6",
             "gridcolor": "#506784",
             "linecolor": "#506784",
             "minorgridcolor": "#506784",
             "startlinecolor": "#A2B1C6"
            },
            "baxis": {
             "endlinecolor": "#A2B1C6",
             "gridcolor": "#506784",
             "linecolor": "#506784",
             "minorgridcolor": "#506784",
             "startlinecolor": "#A2B1C6"
            },
            "type": "carpet"
           }
          ],
          "table": [
           {
            "cells": {
             "fill": {
              "color": "#506784"
             },
             "line": {
              "color": "rgb(17,17,17)"
             }
            },
            "header": {
             "fill": {
              "color": "#2a3f5f"
             },
             "line": {
              "color": "rgb(17,17,17)"
             }
            },
            "type": "table"
           }
          ],
          "barpolar": [
           {
            "marker": {
             "line": {
              "color": "rgb(17,17,17)",
              "width": 0.5
             },
             "pattern": {
              "fillmode": "overlay",
              "size": 10,
              "solidity": 0.2
             }
            },
            "type": "barpolar"
           }
          ],
          "pie": [
           {
            "automargin": true,
            "type": "pie"
           }
          ]
         },
         "layout": {
          "autotypenumbers": "strict",
          "colorway": [
           "#636efa",
           "#EF553B",
           "#00cc96",
           "#ab63fa",
           "#FFA15A",
           "#19d3f3",
           "#FF6692",
           "#B6E880",
           "#FF97FF",
           "#FECB52"
          ],
          "font": {
           "color": "#f2f5fa"
          },
          "hovermode": "closest",
          "hoverlabel": {
           "align": "left"
          },
          "paper_bgcolor": "rgb(17,17,17)",
          "plot_bgcolor": "rgb(17,17,17)",
          "polar": {
           "bgcolor": "rgb(17,17,17)",
           "angularaxis": {
            "gridcolor": "#506784",
            "linecolor": "#506784",
            "ticks": ""
           },
           "radialaxis": {
            "gridcolor": "#506784",
            "linecolor": "#506784",
            "ticks": ""
           }
          },
          "ternary": {
           "bgcolor": "rgb(17,17,17)",
           "aaxis": {
            "gridcolor": "#506784",
            "linecolor": "#506784",
            "ticks": ""
           },
           "baxis": {
            "gridcolor": "#506784",
            "linecolor": "#506784",
            "ticks": ""
           },
           "caxis": {
            "gridcolor": "#506784",
            "linecolor": "#506784",
            "ticks": ""
           }
          },
          "coloraxis": {
           "colorbar": {
            "outlinewidth": 0,
            "ticks": ""
           }
          },
          "colorscale": {
           "sequential": [
            [
             0.0,
             "#0d0887"
            ],
            [
             0.1111111111111111,
             "#46039f"
            ],
            [
             0.2222222222222222,
             "#7201a8"
            ],
            [
             0.3333333333333333,
             "#9c179e"
            ],
            [
             0.4444444444444444,
             "#bd3786"
            ],
            [
             0.5555555555555556,
             "#d8576b"
            ],
            [
             0.6666666666666666,
             "#ed7953"
            ],
            [
             0.7777777777777778,
             "#fb9f3a"
            ],
            [
             0.8888888888888888,
             "#fdca26"
            ],
            [
             1.0,
             "#f0f921"
            ]
           ],
           "sequentialminus": [
            [
             0.0,
             "#0d0887"
            ],
            [
             0.1111111111111111,
             "#46039f"
            ],
            [
             0.2222222222222222,
             "#7201a8"
            ],
            [
             0.3333333333333333,
             "#9c179e"
            ],
            [
             0.4444444444444444,
             "#bd3786"
            ],
            [
             0.5555555555555556,
             "#d8576b"
            ],
            [
             0.6666666666666666,
             "#ed7953"
            ],
            [
             0.7777777777777778,
             "#fb9f3a"
            ],
            [
             0.8888888888888888,
             "#fdca26"
            ],
            [
             1.0,
             "#f0f921"
            ]
           ],
           "diverging": [
            [
             0,
             "#8e0152"
            ],
            [
             0.1,
             "#c51b7d"
            ],
            [
             0.2,
             "#de77ae"
            ],
            [
             0.3,
             "#f1b6da"
            ],
            [
             0.4,
             "#fde0ef"
            ],
            [
             0.5,
             "#f7f7f7"
            ],
            [
             0.6,
             "#e6f5d0"
            ],
            [
             0.7,
             "#b8e186"
            ],
            [
             0.8,
             "#7fbc41"
            ],
            [
             0.9,
             "#4d9221"
            ],
            [
             1,
             "#276419"
            ]
           ]
          },
          "xaxis": {
           "gridcolor": "#283442",
           "linecolor": "#506784",
           "ticks": "",
           "title": {
            "standoff": 15
           },
           "zerolinecolor": "#283442",
           "automargin": true,
           "zerolinewidth": 2
          },
          "yaxis": {
           "gridcolor": "#283442",
           "linecolor": "#506784",
           "ticks": "",
           "title": {
            "standoff": 15
           },
           "zerolinecolor": "#283442",
           "automargin": true,
           "zerolinewidth": 2
          },
          "scene": {
           "xaxis": {
            "backgroundcolor": "rgb(17,17,17)",
            "gridcolor": "#506784",
            "linecolor": "#506784",
            "showbackground": true,
            "ticks": "",
            "zerolinecolor": "#C8D4E3",
            "gridwidth": 2
           },
           "yaxis": {
            "backgroundcolor": "rgb(17,17,17)",
            "gridcolor": "#506784",
            "linecolor": "#506784",
            "showbackground": true,
            "ticks": "",
            "zerolinecolor": "#C8D4E3",
            "gridwidth": 2
           },
           "zaxis": {
            "backgroundcolor": "rgb(17,17,17)",
            "gridcolor": "#506784",
            "linecolor": "#506784",
            "showbackground": true,
            "ticks": "",
            "zerolinecolor": "#C8D4E3",
            "gridwidth": 2
           }
          },
          "shapedefaults": {
           "line": {
            "color": "#f2f5fa"
           }
          },
          "annotationdefaults": {
           "arrowcolor": "#f2f5fa",
           "arrowhead": 0,
           "arrowwidth": 1
          },
          "geo": {
           "bgcolor": "rgb(17,17,17)",
           "landcolor": "rgb(17,17,17)",
           "subunitcolor": "#506784",
           "showland": true,
           "showlakes": true,
           "lakecolor": "rgb(17,17,17)"
          },
          "title": {
           "x": 0.05
          },
          "updatemenudefaults": {
           "bgcolor": "#506784",
           "borderwidth": 0
          },
          "sliderdefaults": {
           "bgcolor": "#C8D4E3",
           "borderwidth": 1,
           "bordercolor": "rgb(17,17,17)",
           "tickwidth": 0
          },
          "mapbox": {
           "style": "dark"
          }
         }
        }
       },
       "config": {
        "plotlyServerURL": "https://plot.ly"
       }
      },
      "text/html": "<div>                            <div id=\"35ba7b79-7991-47fa-8e9b-9568c0f6b40c\" class=\"plotly-graph-div\" style=\"height:600px; width:100%;\"></div>            <script type=\"text/javascript\">                require([\"plotly\"], function(Plotly) {                    window.PLOTLYENV=window.PLOTLYENV || {};                                    if (document.getElementById(\"35ba7b79-7991-47fa-8e9b-9568c0f6b40c\")) {                    Plotly.newPlot(                        \"35ba7b79-7991-47fa-8e9b-9568c0f6b40c\",                        [{\"hoverinfo\":\"text\",\"mode\":\"markers\",\"name\":\"Indices: 0\",\"text\":[\"Termination: ('C_P6\\u002fmmm_2', 'Ni_R-3m_1')\\u003cbr\\u003eTermination index: 0\\u003cbr\\u003eInterfaces Index Range: 0\\u003cbr\\u003eStrain: 0.07%\\u003cbr\\u003eAtoms: 5\"],\"x\":[0.06600000000000002],\"y\":[5],\"type\":\"scatter\"},{\"hoverinfo\":\"text\",\"mode\":\"markers\",\"name\":\"Indices: 1-9\",\"text\":[\"Termination: ('C_P6\\u002fmmm_2', 'Ni_R-3m_1')\\u003cbr\\u003eTermination index: 0\\u003cbr\\u003eInterfaces Index Range: 1-9\\u003cbr\\u003eStrain: 0.07%\\u003cbr\\u003eAtoms: 10\"],\"x\":[0.06600000000000002],\"y\":[10],\"type\":\"scatter\"},{\"hoverinfo\":\"text\",\"mode\":\"markers\",\"name\":\"Indices: 10-19\",\"text\":[\"Termination: ('C_P6\\u002fmmm_2', 'Ni_R-3m_1')\\u003cbr\\u003eTermination index: 0\\u003cbr\\u003eInterfaces Index Range: 10-19\\u003cbr\\u003eStrain: 0.07%\\u003cbr\\u003eAtoms: 15\"],\"x\":[0.06600000000000002],\"y\":[15],\"type\":\"scatter\"},{\"hoverinfo\":\"text\",\"mode\":\"markers\",\"name\":\"Indices: 20-38\",\"text\":[\"Termination: ('C_P6\\u002fmmm_2', 'Ni_R-3m_1')\\u003cbr\\u003eTermination index: 0\\u003cbr\\u003eInterfaces Index Range: 20-38\\u003cbr\\u003eStrain: 0.07%\\u003cbr\\u003eAtoms: 20\"],\"x\":[0.06600000000000002],\"y\":[20],\"type\":\"scatter\"},{\"hoverinfo\":\"text\",\"mode\":\"markers\",\"name\":\"Indices: 39-56\",\"text\":[\"Termination: ('C_P6\\u002fmmm_2', 'Ni_R-3m_1')\\u003cbr\\u003eTermination index: 0\\u003cbr\\u003eInterfaces Index Range: 39-56\\u003cbr\\u003eStrain: 0.07%\\u003cbr\\u003eAtoms: 25\"],\"x\":[0.06600000000000002],\"y\":[25],\"type\":\"scatter\"},{\"hoverinfo\":\"text\",\"mode\":\"markers\",\"name\":\"Indices: 57-110\",\"text\":[\"Termination: ('C_P6\\u002fmmm_2', 'Ni_R-3m_1')\\u003cbr\\u003eTermination index: 0\\u003cbr\\u003eInterfaces Index Range: 57-110\\u003cbr\\u003eStrain: 0.07%\\u003cbr\\u003eAtoms: 30\"],\"x\":[0.06600000000000002],\"y\":[30],\"type\":\"scatter\"},{\"hoverinfo\":\"text\",\"mode\":\"markers\",\"name\":\"Indices: 111-132\",\"text\":[\"Termination: ('C_P6\\u002fmmm_2', 'Ni_R-3m_1')\\u003cbr\\u003eTermination index: 0\\u003cbr\\u003eInterfaces Index Range: 111-132\\u003cbr\\u003eStrain: 0.07%\\u003cbr\\u003eAtoms: 35\"],\"x\":[0.06600000000000002],\"y\":[35],\"type\":\"scatter\"},{\"hoverinfo\":\"text\",\"mode\":\"markers\",\"name\":\"Indices: 133-177\",\"text\":[\"Termination: ('C_P6\\u002fmmm_2', 'Ni_R-3m_1')\\u003cbr\\u003eTermination index: 0\\u003cbr\\u003eInterfaces Index Range: 133-177\\u003cbr\\u003eStrain: 0.07%\\u003cbr\\u003eAtoms: 40\"],\"x\":[0.06600000000000002],\"y\":[40],\"type\":\"scatter\"},{\"hoverinfo\":\"text\",\"mode\":\"markers\",\"name\":\"Indices: 178-232\",\"text\":[\"Termination: ('C_P6\\u002fmmm_2', 'Ni_R-3m_1')\\u003cbr\\u003eTermination index: 0\\u003cbr\\u003eInterfaces Index Range: 178-232\\u003cbr\\u003eStrain: 0.07%\\u003cbr\\u003eAtoms: 45\"],\"x\":[0.06600000000000002],\"y\":[45],\"type\":\"scatter\"}],                        {\"height\":600,\"hovermode\":\"closest\",\"legend\":{\"title\":{\"text\":\"Interfaces Index Range\"}},\"xaxis\":{\"title\":{\"text\":\"Strain (%)\"},\"type\":\"log\"},\"yaxis\":{\"title\":{\"text\":\"Number of atoms\"},\"type\":\"log\"},\"template\":{\"data\":{\"histogram2dcontour\":[{\"type\":\"histogram2dcontour\",\"colorbar\":{\"outlinewidth\":0,\"ticks\":\"\"},\"colorscale\":[[0.0,\"#0d0887\"],[0.1111111111111111,\"#46039f\"],[0.2222222222222222,\"#7201a8\"],[0.3333333333333333,\"#9c179e\"],[0.4444444444444444,\"#bd3786\"],[0.5555555555555556,\"#d8576b\"],[0.6666666666666666,\"#ed7953\"],[0.7777777777777778,\"#fb9f3a\"],[0.8888888888888888,\"#fdca26\"],[1.0,\"#f0f921\"]]}],\"choropleth\":[{\"type\":\"choropleth\",\"colorbar\":{\"outlinewidth\":0,\"ticks\":\"\"}}],\"histogram2d\":[{\"type\":\"histogram2d\",\"colorbar\":{\"outlinewidth\":0,\"ticks\":\"\"},\"colorscale\":[[0.0,\"#0d0887\"],[0.1111111111111111,\"#46039f\"],[0.2222222222222222,\"#7201a8\"],[0.3333333333333333,\"#9c179e\"],[0.4444444444444444,\"#bd3786\"],[0.5555555555555556,\"#d8576b\"],[0.6666666666666666,\"#ed7953\"],[0.7777777777777778,\"#fb9f3a\"],[0.8888888888888888,\"#fdca26\"],[1.0,\"#f0f921\"]]}],\"heatmap\":[{\"type\":\"heatmap\",\"colorbar\":{\"outlinewidth\":0,\"ticks\":\"\"},\"colorscale\":[[0.0,\"#0d0887\"],[0.1111111111111111,\"#46039f\"],[0.2222222222222222,\"#7201a8\"],[0.3333333333333333,\"#9c179e\"],[0.4444444444444444,\"#bd3786\"],[0.5555555555555556,\"#d8576b\"],[0.6666666666666666,\"#ed7953\"],[0.7777777777777778,\"#fb9f3a\"],[0.8888888888888888,\"#fdca26\"],[1.0,\"#f0f921\"]]}],\"heatmapgl\":[{\"type\":\"heatmapgl\",\"colorbar\":{\"outlinewidth\":0,\"ticks\":\"\"},\"colorscale\":[[0.0,\"#0d0887\"],[0.1111111111111111,\"#46039f\"],[0.2222222222222222,\"#7201a8\"],[0.3333333333333333,\"#9c179e\"],[0.4444444444444444,\"#bd3786\"],[0.5555555555555556,\"#d8576b\"],[0.6666666666666666,\"#ed7953\"],[0.7777777777777778,\"#fb9f3a\"],[0.8888888888888888,\"#fdca26\"],[1.0,\"#f0f921\"]]}],\"contourcarpet\":[{\"type\":\"contourcarpet\",\"colorbar\":{\"outlinewidth\":0,\"ticks\":\"\"}}],\"contour\":[{\"type\":\"contour\",\"colorbar\":{\"outlinewidth\":0,\"ticks\":\"\"},\"colorscale\":[[0.0,\"#0d0887\"],[0.1111111111111111,\"#46039f\"],[0.2222222222222222,\"#7201a8\"],[0.3333333333333333,\"#9c179e\"],[0.4444444444444444,\"#bd3786\"],[0.5555555555555556,\"#d8576b\"],[0.6666666666666666,\"#ed7953\"],[0.7777777777777778,\"#fb9f3a\"],[0.8888888888888888,\"#fdca26\"],[1.0,\"#f0f921\"]]}],\"surface\":[{\"type\":\"surface\",\"colorbar\":{\"outlinewidth\":0,\"ticks\":\"\"},\"colorscale\":[[0.0,\"#0d0887\"],[0.1111111111111111,\"#46039f\"],[0.2222222222222222,\"#7201a8\"],[0.3333333333333333,\"#9c179e\"],[0.4444444444444444,\"#bd3786\"],[0.5555555555555556,\"#d8576b\"],[0.6666666666666666,\"#ed7953\"],[0.7777777777777778,\"#fb9f3a\"],[0.8888888888888888,\"#fdca26\"],[1.0,\"#f0f921\"]]}],\"mesh3d\":[{\"type\":\"mesh3d\",\"colorbar\":{\"outlinewidth\":0,\"ticks\":\"\"}}],\"scatter\":[{\"marker\":{\"line\":{\"color\":\"#283442\"}},\"type\":\"scatter\"}],\"parcoords\":[{\"type\":\"parcoords\",\"line\":{\"colorbar\":{\"outlinewidth\":0,\"ticks\":\"\"}}}],\"scatterpolargl\":[{\"type\":\"scatterpolargl\",\"marker\":{\"colorbar\":{\"outlinewidth\":0,\"ticks\":\"\"}}}],\"bar\":[{\"error_x\":{\"color\":\"#f2f5fa\"},\"error_y\":{\"color\":\"#f2f5fa\"},\"marker\":{\"line\":{\"color\":\"rgb(17,17,17)\",\"width\":0.5},\"pattern\":{\"fillmode\":\"overlay\",\"size\":10,\"solidity\":0.2}},\"type\":\"bar\"}],\"scattergeo\":[{\"type\":\"scattergeo\",\"marker\":{\"colorbar\":{\"outlinewidth\":0,\"ticks\":\"\"}}}],\"scatterpolar\":[{\"type\":\"scatterpolar\",\"marker\":{\"colorbar\":{\"outlinewidth\":0,\"ticks\":\"\"}}}],\"histogram\":[{\"marker\":{\"pattern\":{\"fillmode\":\"overlay\",\"size\":10,\"solidity\":0.2}},\"type\":\"histogram\"}],\"scattergl\":[{\"marker\":{\"line\":{\"color\":\"#283442\"}},\"type\":\"scattergl\"}],\"scatter3d\":[{\"type\":\"scatter3d\",\"line\":{\"colorbar\":{\"outlinewidth\":0,\"ticks\":\"\"}},\"marker\":{\"colorbar\":{\"outlinewidth\":0,\"ticks\":\"\"}}}],\"scattermapbox\":[{\"type\":\"scattermapbox\",\"marker\":{\"colorbar\":{\"outlinewidth\":0,\"ticks\":\"\"}}}],\"scatterternary\":[{\"type\":\"scatterternary\",\"marker\":{\"colorbar\":{\"outlinewidth\":0,\"ticks\":\"\"}}}],\"scattercarpet\":[{\"type\":\"scattercarpet\",\"marker\":{\"colorbar\":{\"outlinewidth\":0,\"ticks\":\"\"}}}],\"carpet\":[{\"aaxis\":{\"endlinecolor\":\"#A2B1C6\",\"gridcolor\":\"#506784\",\"linecolor\":\"#506784\",\"minorgridcolor\":\"#506784\",\"startlinecolor\":\"#A2B1C6\"},\"baxis\":{\"endlinecolor\":\"#A2B1C6\",\"gridcolor\":\"#506784\",\"linecolor\":\"#506784\",\"minorgridcolor\":\"#506784\",\"startlinecolor\":\"#A2B1C6\"},\"type\":\"carpet\"}],\"table\":[{\"cells\":{\"fill\":{\"color\":\"#506784\"},\"line\":{\"color\":\"rgb(17,17,17)\"}},\"header\":{\"fill\":{\"color\":\"#2a3f5f\"},\"line\":{\"color\":\"rgb(17,17,17)\"}},\"type\":\"table\"}],\"barpolar\":[{\"marker\":{\"line\":{\"color\":\"rgb(17,17,17)\",\"width\":0.5},\"pattern\":{\"fillmode\":\"overlay\",\"size\":10,\"solidity\":0.2}},\"type\":\"barpolar\"}],\"pie\":[{\"automargin\":true,\"type\":\"pie\"}]},\"layout\":{\"autotypenumbers\":\"strict\",\"colorway\":[\"#636efa\",\"#EF553B\",\"#00cc96\",\"#ab63fa\",\"#FFA15A\",\"#19d3f3\",\"#FF6692\",\"#B6E880\",\"#FF97FF\",\"#FECB52\"],\"font\":{\"color\":\"#f2f5fa\"},\"hovermode\":\"closest\",\"hoverlabel\":{\"align\":\"left\"},\"paper_bgcolor\":\"rgb(17,17,17)\",\"plot_bgcolor\":\"rgb(17,17,17)\",\"polar\":{\"bgcolor\":\"rgb(17,17,17)\",\"angularaxis\":{\"gridcolor\":\"#506784\",\"linecolor\":\"#506784\",\"ticks\":\"\"},\"radialaxis\":{\"gridcolor\":\"#506784\",\"linecolor\":\"#506784\",\"ticks\":\"\"}},\"ternary\":{\"bgcolor\":\"rgb(17,17,17)\",\"aaxis\":{\"gridcolor\":\"#506784\",\"linecolor\":\"#506784\",\"ticks\":\"\"},\"baxis\":{\"gridcolor\":\"#506784\",\"linecolor\":\"#506784\",\"ticks\":\"\"},\"caxis\":{\"gridcolor\":\"#506784\",\"linecolor\":\"#506784\",\"ticks\":\"\"}},\"coloraxis\":{\"colorbar\":{\"outlinewidth\":0,\"ticks\":\"\"}},\"colorscale\":{\"sequential\":[[0.0,\"#0d0887\"],[0.1111111111111111,\"#46039f\"],[0.2222222222222222,\"#7201a8\"],[0.3333333333333333,\"#9c179e\"],[0.4444444444444444,\"#bd3786\"],[0.5555555555555556,\"#d8576b\"],[0.6666666666666666,\"#ed7953\"],[0.7777777777777778,\"#fb9f3a\"],[0.8888888888888888,\"#fdca26\"],[1.0,\"#f0f921\"]],\"sequentialminus\":[[0.0,\"#0d0887\"],[0.1111111111111111,\"#46039f\"],[0.2222222222222222,\"#7201a8\"],[0.3333333333333333,\"#9c179e\"],[0.4444444444444444,\"#bd3786\"],[0.5555555555555556,\"#d8576b\"],[0.6666666666666666,\"#ed7953\"],[0.7777777777777778,\"#fb9f3a\"],[0.8888888888888888,\"#fdca26\"],[1.0,\"#f0f921\"]],\"diverging\":[[0,\"#8e0152\"],[0.1,\"#c51b7d\"],[0.2,\"#de77ae\"],[0.3,\"#f1b6da\"],[0.4,\"#fde0ef\"],[0.5,\"#f7f7f7\"],[0.6,\"#e6f5d0\"],[0.7,\"#b8e186\"],[0.8,\"#7fbc41\"],[0.9,\"#4d9221\"],[1,\"#276419\"]]},\"xaxis\":{\"gridcolor\":\"#283442\",\"linecolor\":\"#506784\",\"ticks\":\"\",\"title\":{\"standoff\":15},\"zerolinecolor\":\"#283442\",\"automargin\":true,\"zerolinewidth\":2},\"yaxis\":{\"gridcolor\":\"#283442\",\"linecolor\":\"#506784\",\"ticks\":\"\",\"title\":{\"standoff\":15},\"zerolinecolor\":\"#283442\",\"automargin\":true,\"zerolinewidth\":2},\"scene\":{\"xaxis\":{\"backgroundcolor\":\"rgb(17,17,17)\",\"gridcolor\":\"#506784\",\"linecolor\":\"#506784\",\"showbackground\":true,\"ticks\":\"\",\"zerolinecolor\":\"#C8D4E3\",\"gridwidth\":2},\"yaxis\":{\"backgroundcolor\":\"rgb(17,17,17)\",\"gridcolor\":\"#506784\",\"linecolor\":\"#506784\",\"showbackground\":true,\"ticks\":\"\",\"zerolinecolor\":\"#C8D4E3\",\"gridwidth\":2},\"zaxis\":{\"backgroundcolor\":\"rgb(17,17,17)\",\"gridcolor\":\"#506784\",\"linecolor\":\"#506784\",\"showbackground\":true,\"ticks\":\"\",\"zerolinecolor\":\"#C8D4E3\",\"gridwidth\":2}},\"shapedefaults\":{\"line\":{\"color\":\"#f2f5fa\"}},\"annotationdefaults\":{\"arrowcolor\":\"#f2f5fa\",\"arrowhead\":0,\"arrowwidth\":1},\"geo\":{\"bgcolor\":\"rgb(17,17,17)\",\"landcolor\":\"rgb(17,17,17)\",\"subunitcolor\":\"#506784\",\"showland\":true,\"showlakes\":true,\"lakecolor\":\"rgb(17,17,17)\"},\"title\":{\"x\":0.05},\"updatemenudefaults\":{\"bgcolor\":\"#506784\",\"borderwidth\":0},\"sliderdefaults\":{\"bgcolor\":\"#C8D4E3\",\"borderwidth\":1,\"bordercolor\":\"rgb(17,17,17)\",\"tickwidth\":0},\"mapbox\":{\"style\":\"dark\"}}}},                        {\"responsive\": true}                    ).then(function(){\n                            \nvar gd = document.getElementById('35ba7b79-7991-47fa-8e9b-9568c0f6b40c');\nvar x = new MutationObserver(function (mutations, observer) {{\n        var display = window.getComputedStyle(gd).display;\n        if (!display || display === 'none') {{\n            console.log([gd, 'removed!']);\n            Plotly.purge(gd);\n            observer.disconnect();\n        }}\n}});\n\n// Listen for the removal of the full notebook cells\nvar notebookContainer = gd.closest('#notebook-container');\nif (notebookContainer) {{\n    x.observe(notebookContainer, {childList: true});\n}}\n\n// Listen for the clearing of the current output cell\nvar outputEl = gd.closest('.output');\nif (outputEl) {{\n    x.observe(outputEl, {childList: true});\n}}\n\n                        })                };                });            </script>        </div>"
     },
     "metadata": {},
     "output_type": "display_data"
    },
    {
     "name": "stdout",
     "output_type": "stream",
     "text": [
      "Termination 0: ('C_P6/mmm_2', 'Ni_R-3m_1')\n"
     ]
    }
   ],
   "source": [
    "import plotly.graph_objs as go\n",
    "from collections import defaultdict\n",
    "\n",
    "PLOT_SETTINGS = {\n",
    "    \"HEIGHT\": 600,\n",
    "    \"X_SCALE\": \"log\",  # or linear\n",
    "    \"Y_SCALE\": \"log\",  # or linear\n",
    "}\n",
    "\n",
    "\n",
    "def plot_strain_vs_atoms(sorted_interfaces, terminations, settings):\n",
    "    # Create a mapping from termination to its index\n",
    "    termination_to_index = {termination: i for i, termination in enumerate(terminations)}\n",
    "\n",
    "    grouped_interfaces = defaultdict(list)\n",
    "    for termination, interfaces in sorted_interfaces.items():\n",
    "        for index, interface_data in enumerate(interfaces):\n",
    "            strain_percentage = interface_data[\"mean_abs_strain\"] * 100\n",
    "            num_sites = interface_data[\"interface\"].num_sites\n",
    "            key = (strain_percentage, num_sites)\n",
    "            grouped_interfaces[key].append((index, termination))\n",
    "    \n",
    "    data = []\n",
    "    for (strain, num_sites), indices_and_terminations in grouped_interfaces.items():\n",
    "        termination_indices = defaultdict(list)\n",
    "        for index, termination in indices_and_terminations:\n",
    "            termination_indices[termination].append(index)\n",
    "        all_indices = [index for indices in termination_indices.values() for index in indices]\n",
    "        index_range = f\"{min(all_indices)}-{max(all_indices)}\" if len(all_indices) > 1 else str(min(all_indices))\n",
    "        \n",
    "        hover_text = \"<br>-----<br>\".join(\n",
    "             f\"Termination: {termination}<br>Termination index: {termination_to_index[termination]}<br>Interfaces Index Range: {index_range}<br>Strain: {strain:.2f}%<br>Atoms: {num_sites}\"\n",
    "            for termination, indices in termination_indices.items()\n",
    "        )\n",
    "        trace = go.Scatter(\n",
    "            x=[strain],\n",
    "            y=[num_sites],\n",
    "            text=[hover_text],\n",
    "            mode=\"markers\",\n",
    "            hoverinfo=\"text\",\n",
    "            name=f\"Indices: {index_range}\",\n",
    "        )\n",
    "        data.append(trace)\n",
    "\n",
    "    layout = go.Layout(\n",
    "        xaxis=dict(title=\"Strain (%)\", type=settings[\"X_SCALE\"]),\n",
    "        yaxis=dict(title=\"Number of atoms\", type=settings[\"Y_SCALE\"]),\n",
    "        hovermode=\"closest\",\n",
    "        height=settings[\"HEIGHT\"],\n",
    "        legend_title_text=\"Interfaces Index Range\",\n",
    "    )\n",
    "    fig = go.Figure(data=data, layout=layout)\n",
    "    fig.show()\n",
    "\n",
    "\n",
    "\n",
    "plot_strain_vs_atoms(sorted_interfaces, terminations, PLOT_SETTINGS)\n",
    "\n",
    "for i, termination in enumerate(terminations):\n",
    "    print(f\"Termination {i}:\", termination)"
   ]
  },
  {
   "cell_type": "markdown",
   "metadata": {},
   "source": [
    "## 6. Select the interface to relax\n",
    "\n",
    "### 6.1. Select the interface with the desired termination and strain\n",
    "\n",
    "The data in `sorted_interfaces` now contains an object with the following structure:\n",
    "\n",
    "```json\n",
    "{\n",
    "    \"('C_P6/mmm_2', 'Si_R-3m_1')\": [\n",
    "        { ...interface for ('C_P6/mmm_2', 'Si_R-3m_1') at index 0...},\n",
    "        { ...interface for ('C_P6/mmm_2', 'Si_R-3m_1') at index 1...},\n",
    "        ...\n",
    "    ],\n",
    "    \"<termination at index 1>\": [\n",
    "        { ...interface for 'termination at index 1' at index 0...},\n",
    "        { ...interface for 'termination at index 1' at index 1...},\n",
    "        ...\n",
    "    ]\n",
    "}\n",
    "```\n",
    "\n",
    "Select the index for termination first, and for it - the index in the list of corresponding interfaces sorted by strain (index 0 has minimum strain)."
   ]
  },
  {
   "cell_type": "code",
   "execution_count": 24,
   "metadata": {
    "ExecuteTime": {
     "end_time": "2024-02-23T06:21:44.143030Z",
     "start_time": "2024-02-23T06:21:44.130553Z"
    }
   },
   "outputs": [],
   "source": [
    "termination_index = 0\n",
    "interface_index = 0\n",
    "\n",
    "termination = terminations[termination_index]\n",
    "\n",
    "interface = sorted_interfaces[termination][interface_index][\"interface\"]"
   ]
  },
  {
   "cell_type": "markdown",
   "metadata": {},
   "source": [
    "## 7. Apply relaxation\n",
    "### 7.1. Apply relaxation to the selected interface"
   ]
  },
  {
   "cell_type": "code",
   "execution_count": null,
   "metadata": {
    "is_executing": true
   },
   "outputs": [
    {
     "data": {
      "application/vnd.plotly.v1+json": {
       "data": [
        {
         "mode": "lines+markers",
         "name": "Energy",
         "x": [
          0,
          1,
          2,
          3
         ],
         "y": [
          -17.939895391464233,
          -17.944655418395996,
          -18.104430437088013,
          -18.10457706451416
         ],
         "type": "scatter"
        }
       ],
       "layout": {
        "template": {
         "data": {
          "histogram2dcontour": [
           {
            "type": "histogram2dcontour",
            "colorbar": {
             "outlinewidth": 0,
             "ticks": ""
            },
            "colorscale": [
             [
              0.0,
              "#0d0887"
             ],
             [
              0.1111111111111111,
              "#46039f"
             ],
             [
              0.2222222222222222,
              "#7201a8"
             ],
             [
              0.3333333333333333,
              "#9c179e"
             ],
             [
              0.4444444444444444,
              "#bd3786"
             ],
             [
              0.5555555555555556,
              "#d8576b"
             ],
             [
              0.6666666666666666,
              "#ed7953"
             ],
             [
              0.7777777777777778,
              "#fb9f3a"
             ],
             [
              0.8888888888888888,
              "#fdca26"
             ],
             [
              1.0,
              "#f0f921"
             ]
            ]
           }
          ],
          "choropleth": [
           {
            "type": "choropleth",
            "colorbar": {
             "outlinewidth": 0,
             "ticks": ""
            }
           }
          ],
          "histogram2d": [
           {
            "type": "histogram2d",
            "colorbar": {
             "outlinewidth": 0,
             "ticks": ""
            },
            "colorscale": [
             [
              0.0,
              "#0d0887"
             ],
             [
              0.1111111111111111,
              "#46039f"
             ],
             [
              0.2222222222222222,
              "#7201a8"
             ],
             [
              0.3333333333333333,
              "#9c179e"
             ],
             [
              0.4444444444444444,
              "#bd3786"
             ],
             [
              0.5555555555555556,
              "#d8576b"
             ],
             [
              0.6666666666666666,
              "#ed7953"
             ],
             [
              0.7777777777777778,
              "#fb9f3a"
             ],
             [
              0.8888888888888888,
              "#fdca26"
             ],
             [
              1.0,
              "#f0f921"
             ]
            ]
           }
          ],
          "heatmap": [
           {
            "type": "heatmap",
            "colorbar": {
             "outlinewidth": 0,
             "ticks": ""
            },
            "colorscale": [
             [
              0.0,
              "#0d0887"
             ],
             [
              0.1111111111111111,
              "#46039f"
             ],
             [
              0.2222222222222222,
              "#7201a8"
             ],
             [
              0.3333333333333333,
              "#9c179e"
             ],
             [
              0.4444444444444444,
              "#bd3786"
             ],
             [
              0.5555555555555556,
              "#d8576b"
             ],
             [
              0.6666666666666666,
              "#ed7953"
             ],
             [
              0.7777777777777778,
              "#fb9f3a"
             ],
             [
              0.8888888888888888,
              "#fdca26"
             ],
             [
              1.0,
              "#f0f921"
             ]
            ]
           }
          ],
          "heatmapgl": [
           {
            "type": "heatmapgl",
            "colorbar": {
             "outlinewidth": 0,
             "ticks": ""
            },
            "colorscale": [
             [
              0.0,
              "#0d0887"
             ],
             [
              0.1111111111111111,
              "#46039f"
             ],
             [
              0.2222222222222222,
              "#7201a8"
             ],
             [
              0.3333333333333333,
              "#9c179e"
             ],
             [
              0.4444444444444444,
              "#bd3786"
             ],
             [
              0.5555555555555556,
              "#d8576b"
             ],
             [
              0.6666666666666666,
              "#ed7953"
             ],
             [
              0.7777777777777778,
              "#fb9f3a"
             ],
             [
              0.8888888888888888,
              "#fdca26"
             ],
             [
              1.0,
              "#f0f921"
             ]
            ]
           }
          ],
          "contourcarpet": [
           {
            "type": "contourcarpet",
            "colorbar": {
             "outlinewidth": 0,
             "ticks": ""
            }
           }
          ],
          "contour": [
           {
            "type": "contour",
            "colorbar": {
             "outlinewidth": 0,
             "ticks": ""
            },
            "colorscale": [
             [
              0.0,
              "#0d0887"
             ],
             [
              0.1111111111111111,
              "#46039f"
             ],
             [
              0.2222222222222222,
              "#7201a8"
             ],
             [
              0.3333333333333333,
              "#9c179e"
             ],
             [
              0.4444444444444444,
              "#bd3786"
             ],
             [
              0.5555555555555556,
              "#d8576b"
             ],
             [
              0.6666666666666666,
              "#ed7953"
             ],
             [
              0.7777777777777778,
              "#fb9f3a"
             ],
             [
              0.8888888888888888,
              "#fdca26"
             ],
             [
              1.0,
              "#f0f921"
             ]
            ]
           }
          ],
          "surface": [
           {
            "type": "surface",
            "colorbar": {
             "outlinewidth": 0,
             "ticks": ""
            },
            "colorscale": [
             [
              0.0,
              "#0d0887"
             ],
             [
              0.1111111111111111,
              "#46039f"
             ],
             [
              0.2222222222222222,
              "#7201a8"
             ],
             [
              0.3333333333333333,
              "#9c179e"
             ],
             [
              0.4444444444444444,
              "#bd3786"
             ],
             [
              0.5555555555555556,
              "#d8576b"
             ],
             [
              0.6666666666666666,
              "#ed7953"
             ],
             [
              0.7777777777777778,
              "#fb9f3a"
             ],
             [
              0.8888888888888888,
              "#fdca26"
             ],
             [
              1.0,
              "#f0f921"
             ]
            ]
           }
          ],
          "mesh3d": [
           {
            "type": "mesh3d",
            "colorbar": {
             "outlinewidth": 0,
             "ticks": ""
            }
           }
          ],
          "scatter": [
           {
            "marker": {
             "line": {
              "color": "#283442"
             }
            },
            "type": "scatter"
           }
          ],
          "parcoords": [
           {
            "type": "parcoords",
            "line": {
             "colorbar": {
              "outlinewidth": 0,
              "ticks": ""
             }
            }
           }
          ],
          "scatterpolargl": [
           {
            "type": "scatterpolargl",
            "marker": {
             "colorbar": {
              "outlinewidth": 0,
              "ticks": ""
             }
            }
           }
          ],
          "bar": [
           {
            "error_x": {
             "color": "#f2f5fa"
            },
            "error_y": {
             "color": "#f2f5fa"
            },
            "marker": {
             "line": {
              "color": "rgb(17,17,17)",
              "width": 0.5
             },
             "pattern": {
              "fillmode": "overlay",
              "size": 10,
              "solidity": 0.2
             }
            },
            "type": "bar"
           }
          ],
          "scattergeo": [
           {
            "type": "scattergeo",
            "marker": {
             "colorbar": {
              "outlinewidth": 0,
              "ticks": ""
             }
            }
           }
          ],
          "scatterpolar": [
           {
            "type": "scatterpolar",
            "marker": {
             "colorbar": {
              "outlinewidth": 0,
              "ticks": ""
             }
            }
           }
          ],
          "histogram": [
           {
            "marker": {
             "pattern": {
              "fillmode": "overlay",
              "size": 10,
              "solidity": 0.2
             }
            },
            "type": "histogram"
           }
          ],
          "scattergl": [
           {
            "marker": {
             "line": {
              "color": "#283442"
             }
            },
            "type": "scattergl"
           }
          ],
          "scatter3d": [
           {
            "type": "scatter3d",
            "line": {
             "colorbar": {
              "outlinewidth": 0,
              "ticks": ""
             }
            },
            "marker": {
             "colorbar": {
              "outlinewidth": 0,
              "ticks": ""
             }
            }
           }
          ],
          "scattermapbox": [
           {
            "type": "scattermapbox",
            "marker": {
             "colorbar": {
              "outlinewidth": 0,
              "ticks": ""
             }
            }
           }
          ],
          "scatterternary": [
           {
            "type": "scatterternary",
            "marker": {
             "colorbar": {
              "outlinewidth": 0,
              "ticks": ""
             }
            }
           }
          ],
          "scattercarpet": [
           {
            "type": "scattercarpet",
            "marker": {
             "colorbar": {
              "outlinewidth": 0,
              "ticks": ""
             }
            }
           }
          ],
          "carpet": [
           {
            "aaxis": {
             "endlinecolor": "#A2B1C6",
             "gridcolor": "#506784",
             "linecolor": "#506784",
             "minorgridcolor": "#506784",
             "startlinecolor": "#A2B1C6"
            },
            "baxis": {
             "endlinecolor": "#A2B1C6",
             "gridcolor": "#506784",
             "linecolor": "#506784",
             "minorgridcolor": "#506784",
             "startlinecolor": "#A2B1C6"
            },
            "type": "carpet"
           }
          ],
          "table": [
           {
            "cells": {
             "fill": {
              "color": "#506784"
             },
             "line": {
              "color": "rgb(17,17,17)"
             }
            },
            "header": {
             "fill": {
              "color": "#2a3f5f"
             },
             "line": {
              "color": "rgb(17,17,17)"
             }
            },
            "type": "table"
           }
          ],
          "barpolar": [
           {
            "marker": {
             "line": {
              "color": "rgb(17,17,17)",
              "width": 0.5
             },
             "pattern": {
              "fillmode": "overlay",
              "size": 10,
              "solidity": 0.2
             }
            },
            "type": "barpolar"
           }
          ],
          "pie": [
           {
            "automargin": true,
            "type": "pie"
           }
          ]
         },
         "layout": {
          "autotypenumbers": "strict",
          "colorway": [
           "#636efa",
           "#EF553B",
           "#00cc96",
           "#ab63fa",
           "#FFA15A",
           "#19d3f3",
           "#FF6692",
           "#B6E880",
           "#FF97FF",
           "#FECB52"
          ],
          "font": {
           "color": "#f2f5fa"
          },
          "hovermode": "closest",
          "hoverlabel": {
           "align": "left"
          },
          "paper_bgcolor": "rgb(17,17,17)",
          "plot_bgcolor": "rgb(17,17,17)",
          "polar": {
           "bgcolor": "rgb(17,17,17)",
           "angularaxis": {
            "gridcolor": "#506784",
            "linecolor": "#506784",
            "ticks": ""
           },
           "radialaxis": {
            "gridcolor": "#506784",
            "linecolor": "#506784",
            "ticks": ""
           }
          },
          "ternary": {
           "bgcolor": "rgb(17,17,17)",
           "aaxis": {
            "gridcolor": "#506784",
            "linecolor": "#506784",
            "ticks": ""
           },
           "baxis": {
            "gridcolor": "#506784",
            "linecolor": "#506784",
            "ticks": ""
           },
           "caxis": {
            "gridcolor": "#506784",
            "linecolor": "#506784",
            "ticks": ""
           }
          },
          "coloraxis": {
           "colorbar": {
            "outlinewidth": 0,
            "ticks": ""
           }
          },
          "colorscale": {
           "sequential": [
            [
             0.0,
             "#0d0887"
            ],
            [
             0.1111111111111111,
             "#46039f"
            ],
            [
             0.2222222222222222,
             "#7201a8"
            ],
            [
             0.3333333333333333,
             "#9c179e"
            ],
            [
             0.4444444444444444,
             "#bd3786"
            ],
            [
             0.5555555555555556,
             "#d8576b"
            ],
            [
             0.6666666666666666,
             "#ed7953"
            ],
            [
             0.7777777777777778,
             "#fb9f3a"
            ],
            [
             0.8888888888888888,
             "#fdca26"
            ],
            [
             1.0,
             "#f0f921"
            ]
           ],
           "sequentialminus": [
            [
             0.0,
             "#0d0887"
            ],
            [
             0.1111111111111111,
             "#46039f"
            ],
            [
             0.2222222222222222,
             "#7201a8"
            ],
            [
             0.3333333333333333,
             "#9c179e"
            ],
            [
             0.4444444444444444,
             "#bd3786"
            ],
            [
             0.5555555555555556,
             "#d8576b"
            ],
            [
             0.6666666666666666,
             "#ed7953"
            ],
            [
             0.7777777777777778,
             "#fb9f3a"
            ],
            [
             0.8888888888888888,
             "#fdca26"
            ],
            [
             1.0,
             "#f0f921"
            ]
           ],
           "diverging": [
            [
             0,
             "#8e0152"
            ],
            [
             0.1,
             "#c51b7d"
            ],
            [
             0.2,
             "#de77ae"
            ],
            [
             0.3,
             "#f1b6da"
            ],
            [
             0.4,
             "#fde0ef"
            ],
            [
             0.5,
             "#f7f7f7"
            ],
            [
             0.6,
             "#e6f5d0"
            ],
            [
             0.7,
             "#b8e186"
            ],
            [
             0.8,
             "#7fbc41"
            ],
            [
             0.9,
             "#4d9221"
            ],
            [
             1,
             "#276419"
            ]
           ]
          },
          "xaxis": {
           "gridcolor": "#283442",
           "linecolor": "#506784",
           "ticks": "",
           "title": {
            "standoff": 15
           },
           "zerolinecolor": "#283442",
           "automargin": true,
           "zerolinewidth": 2
          },
          "yaxis": {
           "gridcolor": "#283442",
           "linecolor": "#506784",
           "ticks": "",
           "title": {
            "standoff": 15
           },
           "zerolinecolor": "#283442",
           "automargin": true,
           "zerolinewidth": 2
          },
          "scene": {
           "xaxis": {
            "backgroundcolor": "rgb(17,17,17)",
            "gridcolor": "#506784",
            "linecolor": "#506784",
            "showbackground": true,
            "ticks": "",
            "zerolinecolor": "#C8D4E3",
            "gridwidth": 2
           },
           "yaxis": {
            "backgroundcolor": "rgb(17,17,17)",
            "gridcolor": "#506784",
            "linecolor": "#506784",
            "showbackground": true,
            "ticks": "",
            "zerolinecolor": "#C8D4E3",
            "gridwidth": 2
           },
           "zaxis": {
            "backgroundcolor": "rgb(17,17,17)",
            "gridcolor": "#506784",
            "linecolor": "#506784",
            "showbackground": true,
            "ticks": "",
            "zerolinecolor": "#C8D4E3",
            "gridwidth": 2
           }
          },
          "shapedefaults": {
           "line": {
            "color": "#f2f5fa"
           }
          },
          "annotationdefaults": {
           "arrowcolor": "#f2f5fa",
           "arrowhead": 0,
           "arrowwidth": 1
          },
          "geo": {
           "bgcolor": "rgb(17,17,17)",
           "landcolor": "rgb(17,17,17)",
           "subunitcolor": "#506784",
           "showland": true,
           "showlakes": true,
           "lakecolor": "rgb(17,17,17)"
          },
          "title": {
           "x": 0.05
          },
          "updatemenudefaults": {
           "bgcolor": "#506784",
           "borderwidth": 0
          },
          "sliderdefaults": {
           "bgcolor": "#C8D4E3",
           "borderwidth": 1,
           "bordercolor": "rgb(17,17,17)",
           "tickwidth": 0
          },
          "mapbox": {
           "style": "dark"
          }
         }
        },
        "xaxis": {
         "anchor": "y",
         "domain": [
          0.0,
          1.0
         ],
         "title": {
          "text": "Step"
         }
        },
        "yaxis": {
         "anchor": "x",
         "domain": [
          0.0,
          1.0
         ],
         "title": {
          "text": "Energy (eV)"
         }
        },
        "title": {
         "text": "Real-time Optimization Progress"
        }
       },
       "config": {
        "plotlyServerURL": "https://plot.ly"
       }
      },
      "text/html": "<div>                            <div id=\"11f2b05e-753b-4a36-943c-177b6d610b45\" class=\"plotly-graph-div\" style=\"height:525px; width:100%;\"></div>            <script type=\"text/javascript\">                require([\"plotly\"], function(Plotly) {                    window.PLOTLYENV=window.PLOTLYENV || {};                                    if (document.getElementById(\"11f2b05e-753b-4a36-943c-177b6d610b45\")) {                    Plotly.newPlot(                        \"11f2b05e-753b-4a36-943c-177b6d610b45\",                        [{\"mode\":\"lines+markers\",\"name\":\"Energy\",\"x\":[0,1,2,3],\"y\":[-17.939895391464233,-17.944655418395996,-18.104430437088013,-18.10457706451416],\"type\":\"scatter\"}],                        {\"template\":{\"data\":{\"histogram2dcontour\":[{\"type\":\"histogram2dcontour\",\"colorbar\":{\"outlinewidth\":0,\"ticks\":\"\"},\"colorscale\":[[0.0,\"#0d0887\"],[0.1111111111111111,\"#46039f\"],[0.2222222222222222,\"#7201a8\"],[0.3333333333333333,\"#9c179e\"],[0.4444444444444444,\"#bd3786\"],[0.5555555555555556,\"#d8576b\"],[0.6666666666666666,\"#ed7953\"],[0.7777777777777778,\"#fb9f3a\"],[0.8888888888888888,\"#fdca26\"],[1.0,\"#f0f921\"]]}],\"choropleth\":[{\"type\":\"choropleth\",\"colorbar\":{\"outlinewidth\":0,\"ticks\":\"\"}}],\"histogram2d\":[{\"type\":\"histogram2d\",\"colorbar\":{\"outlinewidth\":0,\"ticks\":\"\"},\"colorscale\":[[0.0,\"#0d0887\"],[0.1111111111111111,\"#46039f\"],[0.2222222222222222,\"#7201a8\"],[0.3333333333333333,\"#9c179e\"],[0.4444444444444444,\"#bd3786\"],[0.5555555555555556,\"#d8576b\"],[0.6666666666666666,\"#ed7953\"],[0.7777777777777778,\"#fb9f3a\"],[0.8888888888888888,\"#fdca26\"],[1.0,\"#f0f921\"]]}],\"heatmap\":[{\"type\":\"heatmap\",\"colorbar\":{\"outlinewidth\":0,\"ticks\":\"\"},\"colorscale\":[[0.0,\"#0d0887\"],[0.1111111111111111,\"#46039f\"],[0.2222222222222222,\"#7201a8\"],[0.3333333333333333,\"#9c179e\"],[0.4444444444444444,\"#bd3786\"],[0.5555555555555556,\"#d8576b\"],[0.6666666666666666,\"#ed7953\"],[0.7777777777777778,\"#fb9f3a\"],[0.8888888888888888,\"#fdca26\"],[1.0,\"#f0f921\"]]}],\"heatmapgl\":[{\"type\":\"heatmapgl\",\"colorbar\":{\"outlinewidth\":0,\"ticks\":\"\"},\"colorscale\":[[0.0,\"#0d0887\"],[0.1111111111111111,\"#46039f\"],[0.2222222222222222,\"#7201a8\"],[0.3333333333333333,\"#9c179e\"],[0.4444444444444444,\"#bd3786\"],[0.5555555555555556,\"#d8576b\"],[0.6666666666666666,\"#ed7953\"],[0.7777777777777778,\"#fb9f3a\"],[0.8888888888888888,\"#fdca26\"],[1.0,\"#f0f921\"]]}],\"contourcarpet\":[{\"type\":\"contourcarpet\",\"colorbar\":{\"outlinewidth\":0,\"ticks\":\"\"}}],\"contour\":[{\"type\":\"contour\",\"colorbar\":{\"outlinewidth\":0,\"ticks\":\"\"},\"colorscale\":[[0.0,\"#0d0887\"],[0.1111111111111111,\"#46039f\"],[0.2222222222222222,\"#7201a8\"],[0.3333333333333333,\"#9c179e\"],[0.4444444444444444,\"#bd3786\"],[0.5555555555555556,\"#d8576b\"],[0.6666666666666666,\"#ed7953\"],[0.7777777777777778,\"#fb9f3a\"],[0.8888888888888888,\"#fdca26\"],[1.0,\"#f0f921\"]]}],\"surface\":[{\"type\":\"surface\",\"colorbar\":{\"outlinewidth\":0,\"ticks\":\"\"},\"colorscale\":[[0.0,\"#0d0887\"],[0.1111111111111111,\"#46039f\"],[0.2222222222222222,\"#7201a8\"],[0.3333333333333333,\"#9c179e\"],[0.4444444444444444,\"#bd3786\"],[0.5555555555555556,\"#d8576b\"],[0.6666666666666666,\"#ed7953\"],[0.7777777777777778,\"#fb9f3a\"],[0.8888888888888888,\"#fdca26\"],[1.0,\"#f0f921\"]]}],\"mesh3d\":[{\"type\":\"mesh3d\",\"colorbar\":{\"outlinewidth\":0,\"ticks\":\"\"}}],\"scatter\":[{\"marker\":{\"line\":{\"color\":\"#283442\"}},\"type\":\"scatter\"}],\"parcoords\":[{\"type\":\"parcoords\",\"line\":{\"colorbar\":{\"outlinewidth\":0,\"ticks\":\"\"}}}],\"scatterpolargl\":[{\"type\":\"scatterpolargl\",\"marker\":{\"colorbar\":{\"outlinewidth\":0,\"ticks\":\"\"}}}],\"bar\":[{\"error_x\":{\"color\":\"#f2f5fa\"},\"error_y\":{\"color\":\"#f2f5fa\"},\"marker\":{\"line\":{\"color\":\"rgb(17,17,17)\",\"width\":0.5},\"pattern\":{\"fillmode\":\"overlay\",\"size\":10,\"solidity\":0.2}},\"type\":\"bar\"}],\"scattergeo\":[{\"type\":\"scattergeo\",\"marker\":{\"colorbar\":{\"outlinewidth\":0,\"ticks\":\"\"}}}],\"scatterpolar\":[{\"type\":\"scatterpolar\",\"marker\":{\"colorbar\":{\"outlinewidth\":0,\"ticks\":\"\"}}}],\"histogram\":[{\"marker\":{\"pattern\":{\"fillmode\":\"overlay\",\"size\":10,\"solidity\":0.2}},\"type\":\"histogram\"}],\"scattergl\":[{\"marker\":{\"line\":{\"color\":\"#283442\"}},\"type\":\"scattergl\"}],\"scatter3d\":[{\"type\":\"scatter3d\",\"line\":{\"colorbar\":{\"outlinewidth\":0,\"ticks\":\"\"}},\"marker\":{\"colorbar\":{\"outlinewidth\":0,\"ticks\":\"\"}}}],\"scattermapbox\":[{\"type\":\"scattermapbox\",\"marker\":{\"colorbar\":{\"outlinewidth\":0,\"ticks\":\"\"}}}],\"scatterternary\":[{\"type\":\"scatterternary\",\"marker\":{\"colorbar\":{\"outlinewidth\":0,\"ticks\":\"\"}}}],\"scattercarpet\":[{\"type\":\"scattercarpet\",\"marker\":{\"colorbar\":{\"outlinewidth\":0,\"ticks\":\"\"}}}],\"carpet\":[{\"aaxis\":{\"endlinecolor\":\"#A2B1C6\",\"gridcolor\":\"#506784\",\"linecolor\":\"#506784\",\"minorgridcolor\":\"#506784\",\"startlinecolor\":\"#A2B1C6\"},\"baxis\":{\"endlinecolor\":\"#A2B1C6\",\"gridcolor\":\"#506784\",\"linecolor\":\"#506784\",\"minorgridcolor\":\"#506784\",\"startlinecolor\":\"#A2B1C6\"},\"type\":\"carpet\"}],\"table\":[{\"cells\":{\"fill\":{\"color\":\"#506784\"},\"line\":{\"color\":\"rgb(17,17,17)\"}},\"header\":{\"fill\":{\"color\":\"#2a3f5f\"},\"line\":{\"color\":\"rgb(17,17,17)\"}},\"type\":\"table\"}],\"barpolar\":[{\"marker\":{\"line\":{\"color\":\"rgb(17,17,17)\",\"width\":0.5},\"pattern\":{\"fillmode\":\"overlay\",\"size\":10,\"solidity\":0.2}},\"type\":\"barpolar\"}],\"pie\":[{\"automargin\":true,\"type\":\"pie\"}]},\"layout\":{\"autotypenumbers\":\"strict\",\"colorway\":[\"#636efa\",\"#EF553B\",\"#00cc96\",\"#ab63fa\",\"#FFA15A\",\"#19d3f3\",\"#FF6692\",\"#B6E880\",\"#FF97FF\",\"#FECB52\"],\"font\":{\"color\":\"#f2f5fa\"},\"hovermode\":\"closest\",\"hoverlabel\":{\"align\":\"left\"},\"paper_bgcolor\":\"rgb(17,17,17)\",\"plot_bgcolor\":\"rgb(17,17,17)\",\"polar\":{\"bgcolor\":\"rgb(17,17,17)\",\"angularaxis\":{\"gridcolor\":\"#506784\",\"linecolor\":\"#506784\",\"ticks\":\"\"},\"radialaxis\":{\"gridcolor\":\"#506784\",\"linecolor\":\"#506784\",\"ticks\":\"\"}},\"ternary\":{\"bgcolor\":\"rgb(17,17,17)\",\"aaxis\":{\"gridcolor\":\"#506784\",\"linecolor\":\"#506784\",\"ticks\":\"\"},\"baxis\":{\"gridcolor\":\"#506784\",\"linecolor\":\"#506784\",\"ticks\":\"\"},\"caxis\":{\"gridcolor\":\"#506784\",\"linecolor\":\"#506784\",\"ticks\":\"\"}},\"coloraxis\":{\"colorbar\":{\"outlinewidth\":0,\"ticks\":\"\"}},\"colorscale\":{\"sequential\":[[0.0,\"#0d0887\"],[0.1111111111111111,\"#46039f\"],[0.2222222222222222,\"#7201a8\"],[0.3333333333333333,\"#9c179e\"],[0.4444444444444444,\"#bd3786\"],[0.5555555555555556,\"#d8576b\"],[0.6666666666666666,\"#ed7953\"],[0.7777777777777778,\"#fb9f3a\"],[0.8888888888888888,\"#fdca26\"],[1.0,\"#f0f921\"]],\"sequentialminus\":[[0.0,\"#0d0887\"],[0.1111111111111111,\"#46039f\"],[0.2222222222222222,\"#7201a8\"],[0.3333333333333333,\"#9c179e\"],[0.4444444444444444,\"#bd3786\"],[0.5555555555555556,\"#d8576b\"],[0.6666666666666666,\"#ed7953\"],[0.7777777777777778,\"#fb9f3a\"],[0.8888888888888888,\"#fdca26\"],[1.0,\"#f0f921\"]],\"diverging\":[[0,\"#8e0152\"],[0.1,\"#c51b7d\"],[0.2,\"#de77ae\"],[0.3,\"#f1b6da\"],[0.4,\"#fde0ef\"],[0.5,\"#f7f7f7\"],[0.6,\"#e6f5d0\"],[0.7,\"#b8e186\"],[0.8,\"#7fbc41\"],[0.9,\"#4d9221\"],[1,\"#276419\"]]},\"xaxis\":{\"gridcolor\":\"#283442\",\"linecolor\":\"#506784\",\"ticks\":\"\",\"title\":{\"standoff\":15},\"zerolinecolor\":\"#283442\",\"automargin\":true,\"zerolinewidth\":2},\"yaxis\":{\"gridcolor\":\"#283442\",\"linecolor\":\"#506784\",\"ticks\":\"\",\"title\":{\"standoff\":15},\"zerolinecolor\":\"#283442\",\"automargin\":true,\"zerolinewidth\":2},\"scene\":{\"xaxis\":{\"backgroundcolor\":\"rgb(17,17,17)\",\"gridcolor\":\"#506784\",\"linecolor\":\"#506784\",\"showbackground\":true,\"ticks\":\"\",\"zerolinecolor\":\"#C8D4E3\",\"gridwidth\":2},\"yaxis\":{\"backgroundcolor\":\"rgb(17,17,17)\",\"gridcolor\":\"#506784\",\"linecolor\":\"#506784\",\"showbackground\":true,\"ticks\":\"\",\"zerolinecolor\":\"#C8D4E3\",\"gridwidth\":2},\"zaxis\":{\"backgroundcolor\":\"rgb(17,17,17)\",\"gridcolor\":\"#506784\",\"linecolor\":\"#506784\",\"showbackground\":true,\"ticks\":\"\",\"zerolinecolor\":\"#C8D4E3\",\"gridwidth\":2}},\"shapedefaults\":{\"line\":{\"color\":\"#f2f5fa\"}},\"annotationdefaults\":{\"arrowcolor\":\"#f2f5fa\",\"arrowhead\":0,\"arrowwidth\":1},\"geo\":{\"bgcolor\":\"rgb(17,17,17)\",\"landcolor\":\"rgb(17,17,17)\",\"subunitcolor\":\"#506784\",\"showland\":true,\"showlakes\":true,\"lakecolor\":\"rgb(17,17,17)\"},\"title\":{\"x\":0.05},\"updatemenudefaults\":{\"bgcolor\":\"#506784\",\"borderwidth\":0},\"sliderdefaults\":{\"bgcolor\":\"#C8D4E3\",\"borderwidth\":1,\"bordercolor\":\"rgb(17,17,17)\",\"tickwidth\":0},\"mapbox\":{\"style\":\"dark\"}}},\"xaxis\":{\"anchor\":\"y\",\"domain\":[0.0,1.0],\"title\":{\"text\":\"Step\"}},\"yaxis\":{\"anchor\":\"x\",\"domain\":[0.0,1.0],\"title\":{\"text\":\"Energy (eV)\"}},\"title\":{\"text\":\"Real-time Optimization Progress\"}},                        {\"responsive\": true}                    ).then(function(){\n                            \nvar gd = document.getElementById('11f2b05e-753b-4a36-943c-177b6d610b45');\nvar x = new MutationObserver(function (mutations, observer) {{\n        var display = window.getComputedStyle(gd).display;\n        if (!display || display === 'none') {{\n            console.log([gd, 'removed!']);\n            Plotly.purge(gd);\n            observer.disconnect();\n        }}\n}});\n\n// Listen for the removal of the full notebook cells\nvar notebookContainer = gd.closest('#notebook-container');\nif (notebookContainer) {{\n    x.observe(notebookContainer, {childList: true});\n}}\n\n// Listen for the clearing of the current output cell\nvar outputEl = gd.closest('.output');\nif (outputEl) {{\n    x.observe(outputEl, {childList: true});\n}}\n\n                        })                };                });            </script>        </div>"
     },
     "metadata": {},
     "output_type": "display_data"
    }
   ],
   "source": [
    "import plotly.graph_objs as go\n",
    "from IPython.display import display, clear_output\n",
    "from plotly.subplots import make_subplots\n",
    "from src.utils import poscar_to_ase, ase_to_poscar, ase_to_pymatgen, pymatgen_to_ase\n",
    "from ase.optimize import BFGS\n",
    "from ase.calculators.emt import EMT\n",
    "\n",
    "\n",
    "from alignn.ff.ff import AlignnAtomwiseCalculator,default_path\n",
    "model_path = default_path()\n",
    "calc = AlignnAtomwiseCalculator(path=model_path)\n",
    "\n",
    "# relax the interface\n",
    "ase_interface = poscar_to_ase(interface.to(fmt=\"poscar\"))\n",
    "ase_interface.set_calculator(calc)\n",
    "dyn = BFGS(ase_interface)\n",
    "\n",
    "# Initialize empty lists to store steps and energies\n",
    "steps = []\n",
    "energies = []\n",
    "\n",
    "# Create a plotly figure\n",
    "fig = make_subplots(rows=1, cols=1)\n",
    "fig.update_layout(title_text='Real-time Optimization Progress', xaxis_title='Step', yaxis_title='Energy (eV)')\n",
    "\n",
    "# Define a callback function to update the plot at each step\n",
    "def plotly_callback():\n",
    "    step = dyn.nsteps\n",
    "    energy = ase_interface.get_total_energy()\n",
    "    \n",
    "    # Add the new step and energy to the lists\n",
    "    steps.append(step)\n",
    "    energies.append(energy)\n",
    "    \n",
    "    # Update the figure with the new data\n",
    "    fig.data = []\n",
    "    fig.add_trace(go.Scatter(x=steps, y=energies, mode='lines+markers', name='Energy'))\n",
    "    \n",
    "    # Clear the output for the next plot update\n",
    "    clear_output(wait=True)\n",
    "    # Display the updated figure\n",
    "    fig.show()\n",
    "\n",
    "\n",
    "\n",
    "dyn.attach(plotly_callback, interval=1)\n",
    "dyn.run(fmax=0.01)\n",
    "\n",
    "# extract results\n",
    "ase_original_interface = pymatgen_to_ase(interface)\n",
    "ase_final_interface = ase_interface\n",
    "relaxed_energy = ase_interface.get_total_energy()\n",
    "\n",
    "# print out the final relaxed structure and energy\n",
    "print('Original structure:\\n', ase_to_poscar(ase_original_interface))\n",
    "print('\\nRelaxed structure:\\n', ase_to_poscar(ase_final_interface))\n",
    "print(f\"The final energy is {float(relaxed_energy):.3f} eV.\")"
   ]
  },
  {
   "cell_type": "markdown",
   "metadata": {},
   "source": [
    "### 7.2. View structure before and after relaxation"
   ]
  },
  {
   "cell_type": "code",
   "execution_count": null,
   "metadata": {
    "ExecuteTime": {
     "end_time": "2024-02-23T06:21:45.277372Z",
     "start_time": "2024-02-23T06:21:45.276984Z"
    }
   },
   "outputs": [],
   "source": [
    "import base64\n",
    "from ase.io import write\n",
    "from ase.build import make_supercell\n",
    "from IPython.display import HTML\n",
    "import io\n",
    "\n",
    "def visualize_material_base64(material, title: str, rotation: str = '0x', number_of_repetitions: int = 3):\n",
    "    \"\"\"\n",
    "    Returns an HTML string with a Base64-encoded image for visualization,\n",
    "    including the name of the file, positioned horizontally.\n",
    "    \"\"\"\n",
    "    # Set the number of unit cell repetition for the structure\n",
    "    n = number_of_repetitions\n",
    "    material_repeat = make_supercell(material, [[n,0,0],[0,n,0],[0,0,1]])\n",
    "    text = f\"{material.symbols} - {title}\"\n",
    "    \n",
    "    # Write image to a buffer to display in HTML\n",
    "    buf = io.BytesIO()\n",
    "    write(buf, material_repeat, format='png', rotation=rotation)\n",
    "    buf.seek(0)\n",
    "    img_str = base64.b64encode(buf.read()).decode('utf-8')\n",
    "    html_str = f'''\n",
    "    <div style=\"display: inline-block; margin: 10px; vertical-align: top;\">\n",
    "        <p>{text}</p>\n",
    "        <img src=\"data:image/png;base64,{img_str}\" alt=\"{title}\" />\n",
    "    </div>\n",
    "    '''\n",
    "    return html_str\n",
    "\n",
    "html_original = visualize_material_base64(ase_original_interface, \"original\", \"-90x\")\n",
    "html_relaxed = visualize_material_base64(ase_final_interface, \"relaxed\", \"-90x\")\n",
    "\n",
    "# Display the interfaces before and after relaxation\n",
    "html_content = f'<div style=\"display: flex;\">{html_original}{html_relaxed}</div>'\n",
    "display(HTML(html_content))\n"
   ]
  },
  {
   "cell_type": "markdown",
   "metadata": {},
   "source": [
    "### 7.3. Calculate energy energy using matgl M3GNet"
   ]
  },
  {
   "cell_type": "code",
   "execution_count": null,
   "metadata": {
    "ExecuteTime": {
     "start_time": "2024-02-23T06:21:45.279492Z"
    }
   },
   "outputs": [],
   "source": [
    "nickel_relaxed_interface = ase_final_interface.copy()\n",
    "graphene_relaxed_interface = ase_final_interface.copy()\n",
    "nickel_original_interface = ase_original_interface.copy()\n",
    "graphene_original_interface = ase_original_interface.copy()\n",
    "\n",
    "del nickel_relaxed_interface[[atom.index for atom in nickel_relaxed_interface if atom.symbol != 'Ni']]\n",
    "del graphene_relaxed_interface[[atom.index for atom in graphene_relaxed_interface if atom.symbol != 'C']]\n",
    "del nickel_original_interface[[atom.index for atom in nickel_original_interface if atom.symbol != 'Ni']]\n",
    "del graphene_original_interface[[atom.index for atom in graphene_original_interface if atom.symbol != 'C']]\n",
    "\n",
    "#set EMT calculator\n",
    "nickel_relaxed_interface.set_calculator(EMT())\n",
    "graphene_relaxed_interface.set_calculator(EMT())\n",
    "nickel_original_interface.set_calculator(EMT())\n",
    "graphene_original_interface.set_calculator(EMT())\n",
    "\n",
    "original_substrate_energy = nickel_original_interface.get_total_energy()\n",
    "original_layer_energy = graphene_original_interface.get_total_energy()\n",
    "relaxed_substrate_energy = nickel_relaxed_interface.get_total_energy()\n",
    "relaxed_layer_energy = graphene_relaxed_interface.get_total_energy()\n",
    "\n",
    "delta_original = relaxed_energy - original_substrate_energy - original_layer_energy\n",
    "delta_relaxed = relaxed_energy - relaxed_substrate_energy - relaxed_layer_energy\n",
    "\n",
    "# calculate area of interface\n",
    "area = ase_original_interface.get_volume() / ase_original_interface.cell[2, 2]\n",
    "print(area)\n",
    "\n",
    "effective_delta_relaxed = (relaxed_energy * ase_final_interface.get_global_number_of_atoms() -\n",
    "                           nickel_relaxed_interface.get_global_number_of_atoms() * relaxed_substrate_energy -\n",
    "                           graphene_relaxed_interface.get_global_number_of_atoms() * relaxed_layer_energy)/(2 * area * ase_final_interface.get_global_number_of_atoms())\n",
    "print(ase_final_interface.get_global_number_of_atoms())\n",
    "print(nickel_relaxed_interface.get_global_number_of_atoms())\n",
    "print(graphene_relaxed_interface.get_global_number_of_atoms())\n",
    "# print(f\"Original interface energy: {ase_original_interface.get_total_energy():.4f} eV\")\n",
    "print(f\"Relaxed interface energy: {relaxed_energy:.4f} eV\")\n",
    "print(f\"Original Substrate energy: {original_substrate_energy:.4f} eV\")\n",
    "print(f\"Original Layer energy: {original_layer_energy:.4f} eV\")\n",
    "print(f\"Original Delta: {delta_original:.4f} eV\")\n",
    "print(f\"Original Delta per area: {delta_original / area:.4f} eV/Ang^2\")\n",
    "print(f\"Relaxed Substrate energy: {relaxed_substrate_energy:.4f} eV\")\n",
    "print(f\"Relaxed Layer energy: {relaxed_layer_energy:.4f} eV\")\n",
    "print(f\"Relaxed Delta: {delta_relaxed:.4f} eV\")\n",
    "print(f\"Relaxed Delta per area: {delta_relaxed / area:.4f} eV/Ang^2\")\n",
    "print(f\"Effective relaxed Delta per area: {effective_delta_relaxed:.4f} eV/Ang^2\")\n",
    "\n",
    "\n",
    "print(ase_to_poscar(ase_final_interface))\n",
    "print(ase_to_poscar(nickel_relaxed_interface))\n",
    "print(ase_to_poscar(graphene_relaxed_interface))\n",
    "print(ase_to_poscar(nickel_original_interface))\n",
    "print(ase_to_poscar(graphene_original_interface))"
   ]
  },
  {
   "cell_type": "code",
   "execution_count": null,
   "metadata": {
    "ExecuteTime": {
     "start_time": "2024-02-23T06:21:45.281792Z"
    }
   },
   "outputs": [],
   "source": []
  },
  {
   "cell_type": "code",
   "outputs": [],
   "source": [],
   "metadata": {
    "collapsed": false,
    "ExecuteTime": {
     "end_time": "2024-02-23T06:21:45.284181Z",
     "start_time": "2024-02-23T06:21:45.283514Z"
    }
   },
   "execution_count": null
  },
  {
   "cell_type": "markdown",
   "source": [
    "## References\n",
    "\n",
    "[1] ASE alignn calculator relaxation example: https://github.com/usnistgov/alignn?tab=readme-ov-file#alignnff "
   ],
   "metadata": {
    "collapsed": false
   }
  }
 ],
 "metadata": {
  "kernelspec": {
   "display_name": ".venv",
   "language": "python",
   "name": "python3"
  },
  "language_info": {
   "codemirror_mode": {
    "name": "ipython",
    "version": 3
   },
   "file_extension": ".py",
   "mimetype": "text/x-python",
   "name": "python",
   "nbconvert_exporter": "python",
   "pygments_lexer": "ipython3",
   "version": "3.10.12"
  },
  "widgets": {
   "application/vnd.jupyter.widget-state+json": {
    "state": {},
    "version_major": 2,
    "version_minor": 0
   }
  }
 },
 "nbformat": 4,
 "nbformat_minor": 4
}
