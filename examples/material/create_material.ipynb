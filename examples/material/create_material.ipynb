version https://git-lfs.github.com/spec/v1
oid sha256:543440606229f48afc5c04371458fee9e5de7ef3f0263c158476359e553d36fe
size 7356
