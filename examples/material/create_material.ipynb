{
  "nbformat": 4,
  "nbformat_minor": 0,
  "metadata": {
    "colab": {
      "name": "create_material.ipynb",
      "provenance": [],
      "authorship_tag": "ABX9TyMaaVy0M0w8X82Skz5xkcja",
      "include_colab_link": true
    },
    "kernelspec": {
      "name": "python3",
      "display_name": "Python 3"
    },
    "language_info": {
      "name": "python"
    }
  },
  "cells": [
    {
      "cell_type": "markdown",
      "metadata": {
        "id": "view-in-github",
        "colab_type": "text"
      },
      "source": [
        "<a href=\"https://colab.research.google.com/github/Exabyte-io/exabyte-api-examples/blob/feature%2FSOF-4400-nolfs/examples/material/create_material.ipynb\" target=\"_parent\"><img src=\"https://colab.research.google.com/assets/colab-badge.svg\" alt=\"Open In Colab\"/></a>"
      ]
    },
    {
      "cell_type": "markdown",
      "metadata": {
        "id": "2XRdJuT1y0dg"
      },
      "source": [
        "# Overview\n",
        "\n",
        "In this example we create a material from a JSON config with [tags](https://docs.exabyte.io/entities-general/data/#tags) to identify the material."
      ]
    },
    {
      "cell_type": "markdown",
      "metadata": {
        "id": "8CcrJoLQy0lI"
      },
      "source": [
        "# Complete Authorization Form\n",
        "Please complete the authorization form, by providing your Exabyte ACCOUNT_ID and AUTH_TOKEN. Additionaly, please provide your MATERIALS_PROJECT_API_KEY."
      ]
    },
    {
      "cell_type": "code",
      "metadata": {
        "id": "aaS_k0CNy5Wi",
        "cellView": "form"
      },
      "source": [
        "#@title Authorization Form\n",
        "ACCOUNT_ID = \"\" #@param {type:\"string\"}\n",
        "AUTH_TOKEN = \"\" #@param {type:\"string\"}\n",
        "MATERIALS_PROJECT_API_KEY = \"\" #@param {type:\"string\"}\n",
        "\n",
        "#Skip Below Code\n",
        "import os\n",
        "if 'google.colab' in str(get_ipython()):\n",
        "  print('Running on Colab')\n",
        "  os.environ['notebook_environment'] = \"Colab\"\n",
        "    \n",
        "elif 'ZMQInteractiveShell'  in str(get_ipython()):\n",
        "  print('Running in Jupyter')\n",
        "  os.environ['notebook_environment'] = \"Jupyter\"\n",
        "else:\n",
        "  print('Unknown Environment')\n",
        "  os.environ['notebook_environment'] = \"\"\n",
        "\n",
        "if os.environ['notebook_environment'] == \"Colab\":\n",
        "    !git clone https://github.com/Exabyte-io/exabyte-api-examples.git\n",
        "    %cd exabyte-api-examples/examples/material\n",
        "    \n",
        "with open('../settings.py') as settings:\n",
        "    settings_filelines = settings.readlines()\n",
        "with open('../settings.py', \"w\") as settings:\n",
        "    for line in settings_filelines:\n",
        "        if 'ACCOUNT_ID = ' in line:\n",
        "            settings.write('%s \"%s\"\\n' % (\"ACCOUNT_ID =\", ACCOUNT_ID))\n",
        "        elif 'AUTH_TOKEN = ' in line:\n",
        "            settings.write('%s \"%s\"\\n' % (\"AUTH_TOKEN =\", AUTH_TOKEN))\n",
        "        elif 'MATERIALS_PROJECT_API_KEY = ' in line:\n",
        "            settings.write('%s \"%s\"\\n' % (\"MATERIALS_PROJECT_API_KEY =\", MATERIALS_PROJECT_API_KEY))\n",
        "        else:\n",
        "            settings.write(line)\n",
        "\n",
        "os.environ['ACCOUNT_ID'] = ACCOUNT_ID\n",
        "os.environ['AUTH_TOKEN'] = AUTH_TOKEN\n",
        "os.environ['MATERIALS_PROJECT_API_KEY'] = MATERIALS_PROJECT_API_KEY"
      ],
      "execution_count": null,
      "outputs": []
    },
    {
      "cell_type": "markdown",
      "metadata": {
        "id": "b3BNg2txy71H"
      },
      "source": [
        "# Local Imports"
      ]
    },
    {
      "cell_type": "code",
      "metadata": {
        "id": "WnPLLNfQy-FM"
      },
      "source": [
        "import sys\n",
        "\n",
        "!pip install -r ../../requirements.txt\n",
        "\n",
        "module_path = os.path.abspath(os.path.join('..'))\n",
        "if module_path not in sys.path: sys.path.append(module_path)\n",
        "from settings import ENDPOINT_ARGS\n",
        "from utils.generic import display_JSON\n",
        "\n",
        "#from utils.generic import ensure_packages_are_installed, display_JSON\n",
        "#ensure_packages_are_installed()\n",
        "\n",
        "from exabyte_api_client.endpoints.materials import MaterialEndpoints"
      ],
      "execution_count": null,
      "outputs": []
    },
    {
      "cell_type": "markdown",
      "metadata": {
        "id": "fubsibe5y_1Z"
      },
      "source": [
        "## Create material config\n",
        "\n",
        "Create material config in JSON format. See [Material](https://docs.exabyte.io/api/Material/put_materials_create) endpoint for more information about material config format."
      ]
    },
    {
      "cell_type": "code",
      "metadata": {
        "id": "RJhET6FgzCCp"
      },
      "source": [
        "CONFIG = {\n",
        "    \"name\": \"TEST MATERIAL\",\n",
        "    \"basis\": {\n",
        "        \"elements\": [\n",
        "            {\n",
        "                \"id\": 1,\n",
        "                \"value\": \"Si\"\n",
        "            },\n",
        "            {\n",
        "                \"id\": 2,\n",
        "                \"value\": \"Si\"\n",
        "            }\n",
        "        ],\n",
        "        \"coordinates\": [\n",
        "            {\n",
        "                \"id\": 1,\n",
        "                \"value\": [\n",
        "                    0,\n",
        "                    0,\n",
        "                    0\n",
        "                ]\n",
        "            },\n",
        "            {\n",
        "                \"id\": 2,\n",
        "                \"value\": [\n",
        "                    0.25,\n",
        "                    0.25,\n",
        "                    0.25\n",
        "                ]\n",
        "            }\n",
        "        ],\n",
        "        \"units\": \"crystal\",\n",
        "        \"name\": \"basis\"\n",
        "    },\n",
        "    \"lattice\": {\n",
        "        \"type\": \"FCC\",\n",
        "        \"a\": 3.867,\n",
        "        \"b\": 3.867,\n",
        "        \"c\": 3.867,\n",
        "        \"alpha\": 60,\n",
        "        \"beta\": 60,\n",
        "        \"gamma\": 60,\n",
        "        \"units\": {\n",
        "            \"length\": \"angstrom\",\n",
        "            \"angle\": \"degree\"\n",
        "        },\n",
        "        \"vectors\": {\n",
        "            \"a\": [\n",
        "                3.867,\n",
        "                0,\n",
        "                0\n",
        "            ],\n",
        "            \"b\": [\n",
        "                1.9335000000000004,\n",
        "                3.348920236434424,\n",
        "                0\n",
        "            ],\n",
        "            \"c\": [\n",
        "                1.9335000000000004,\n",
        "                1.1163067454781415,\n",
        "                3.1573922784475164\n",
        "            ],\n",
        "            \"name\": \"lattice vectors\",\n",
        "            \"alat\": 1,\n",
        "            \"units\": \"angstrom\"\n",
        "        }\n",
        "    },\n",
        "    \"tags\": [\n",
        "        \"REST API\"\n",
        "    ]\n",
        "}"
      ],
      "execution_count": null,
      "outputs": []
    },
    {
      "cell_type": "markdown",
      "metadata": {
        "id": "BfcrR-yXzD6Z"
      },
      "source": [
        "## Create material\n",
        "\n",
        "Initialize `MaterialEndpoints` class and call `create` function to create material."
      ]
    },
    {
      "cell_type": "code",
      "metadata": {
        "id": "eOUyDSn8zGyd"
      },
      "source": [
        "endpoint = MaterialEndpoints(*ENDPOINT_ARGS)\n",
        "material = endpoint.create(CONFIG)"
      ],
      "execution_count": null,
      "outputs": []
    },
    {
      "cell_type": "markdown",
      "metadata": {
        "id": "La1pmpvvzHZx"
      },
      "source": [
        "## Print new material"
      ]
    },
    {
      "cell_type": "code",
      "metadata": {
        "id": "4n9fZ_BXzHg_"
      },
      "source": [
        "display_JSON(material)"
      ],
      "execution_count": null,
      "outputs": []
    }
  ]
}