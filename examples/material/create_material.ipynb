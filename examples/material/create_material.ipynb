{
 "cells": [
  {
   "cell_type": "markdown",
   "metadata": {},
   "source": [
    "<a href=\"https://colab.research.google.com/github/Exabyte-io/exabyte-api-examples/blob/feature/SOF-4685/examples/material/create_material.ipynb\" target=\"_parent\">\n",
    "<img alt=\"Open in Google Colab\" src=\"https://user-images.githubusercontent.com/20477508/128780728-491fea90-9b23-495f-a091-11681150db37.jpeg\" width=\"150\" border=\"0\">\n",
    "</a>"
   ]
  },
  {
   "cell_type": "markdown",
   "metadata": {
    "id": "4icy6yP1nrTF"
   },
   "source": [
    "# Overview\n",
    "\n",
    "In this example we create a material from a JSON config with [tags](https://docs.exabyte.io/entities-general/data/#tags) to identify the material."
   ]
  },
  {
   "cell_type": "markdown",
   "metadata": {
    "id": "UC33AKk8stwN"
   },
   "source": [
    "# Complete Authorization Form and Initialize Settings\n",
    "\n",
    "This will also determine environment and set all environment variables. We determine if we are using Jupyter Notebooks or Google Colab to run this tutorial.\n",
    "\n",
    "If you are running this notebook from Google Colab, Colab takes ~1 min to execute the following cell.\n",
    "\n",
    "ACCOUNT_ID and AUTH_TOKEN - Authentication parameters needed for when making requests to [Exabyte.io's API Endpoints](https://docs.exabyte.io/rest-api/endpoints/).\n",
    "\n",
    "MATERIALS_PROJECT_API_KEY - Authentication parameter needed for when making requests to [Material Project's API](https://materialsproject.org/open)\n",
    "\n",
    "ORGANIZATION_ID - Authentication parameter needed for when working with collaborative accounts https://docs.exabyte.io/collaboration/organizations/overview/\n",
    "\n",
    "> <span style=\"color: orange\">**NOTE**</span>: If you are running this notebook from Jupyter, the variables ACCOUNT_ID, AUTH_TOKEN, MATERIALS_PROJECT_API_KEY, and ORGANIZATION_ID should be set in the file [settings.json](../settings.json) if you need to use these variables. To obtain API token parameters, please see the following link to the documentation explaining how to get them: https://docs.exabyte.io/accounts/ui/preferences/api/"
   ]
  },
  {
   "cell_type": "code",
   "execution_count": 1,
   "metadata": {
    "cellView": "form",
    "id": "63oC9xGZsuyy",
    "outputId": "1419f649-9ac2-4e50-a197-ff90c3769987"
   },
   "outputs": [],
   "source": [
    "#@title Authorization Form\n",
    "ACCOUNT_ID = \"ACCOUNT_ID\" #@param {type:\"string\"}\n",
    "AUTH_TOKEN = \"AUTH_TOKEN\" #@param {type:\"string\"}\n",
    "MATERIALS_PROJECT_API_KEY = \"MATERIALS_PROJECT_API_KEY\" #@param {type:\"string\"}\n",
    "ORGANIZATION_ID  = \"ORGANIZATION_ID\" #@param {type:\"string\"}\n",
    "import os, glob, sys, importlib, urllib.request\n",
    "\n",
    "# The below execution sets up runtime using code stored remotely in a url\n",
    "if 'isExecuted' not in globals():\n",
    "    exec(urllib.request.urlopen('https://raw.githubusercontent.com/Exabyte-io/exabyte-api-examples/dev/examples/utils/initialize_settings.py').read())\n",
    "    isExecuted = True"
   ]
  },
  {
   "cell_type": "markdown",
   "metadata": {
    "id": "n3qID8yysRA9"
   },
   "source": [
    "# Imports"
   ]
  },
  {
   "cell_type": "code",
   "execution_count": 2,
   "metadata": {
    "id": "eohqW-ICsRA-"
   },
   "outputs": [],
   "source": [
    "from utils.generic import display_JSON\n",
    "import settings; importlib.reload(settings); from settings import ENDPOINT_ARGS\n",
    "from exabyte_api_client.endpoints.materials import MaterialEndpoints"
   ]
  },
  {
   "cell_type": "markdown",
   "metadata": {
    "id": "-afD9DmxsRA_"
   },
   "source": [
    "## Create material config\n",
    "\n",
    "Create material config in JSON format. See [Material](https://docs.exabyte.io/api/Material/put_materials_create) endpoint for more information about material config format."
   ]
  },
  {
   "cell_type": "code",
   "execution_count": 3,
   "metadata": {
    "id": "YrcuQGZSsRA_"
   },
   "outputs": [],
   "source": [
    "CONFIG = {\n",
    "    \"name\": \"TEST MATERIAL\",\n",
    "    \"basis\": {\n",
    "        \"elements\": [\n",
    "            {\n",
    "                \"id\": 1,\n",
    "                \"value\": \"Si\"\n",
    "            },\n",
    "            {\n",
    "                \"id\": 2,\n",
    "                \"value\": \"Si\"\n",
    "            }\n",
    "        ],\n",
    "        \"coordinates\": [\n",
    "            {\n",
    "                \"id\": 1,\n",
    "                \"value\": [\n",
    "                    0,\n",
    "                    0,\n",
    "                    0\n",
    "                ]\n",
    "            },\n",
    "            {\n",
    "                \"id\": 2,\n",
    "                \"value\": [\n",
    "                    0.25,\n",
    "                    0.25,\n",
    "                    0.25\n",
    "                ]\n",
    "            }\n",
    "        ],\n",
    "        \"units\": \"crystal\",\n",
    "        \"name\": \"basis\"\n",
    "    },\n",
    "    \"lattice\": {\n",
    "        \"type\": \"FCC\",\n",
    "        \"a\": 3.867,\n",
    "        \"b\": 3.867,\n",
    "        \"c\": 3.867,\n",
    "        \"alpha\": 60,\n",
    "        \"beta\": 60,\n",
    "        \"gamma\": 60,\n",
    "        \"units\": {\n",
    "            \"length\": \"angstrom\",\n",
    "            \"angle\": \"degree\"\n",
    "        },\n",
    "        \"vectors\": {\n",
    "            \"a\": [\n",
    "                3.867,\n",
    "                0,\n",
    "                0\n",
    "            ],\n",
    "            \"b\": [\n",
    "                1.9335000000000004,\n",
    "                3.348920236434424,\n",
    "                0\n",
    "            ],\n",
    "            \"c\": [\n",
    "                1.9335000000000004,\n",
    "                1.1163067454781415,\n",
    "                3.1573922784475164\n",
    "            ],\n",
    "            \"name\": \"lattice vectors\",\n",
    "            \"alat\": 1,\n",
    "            \"units\": \"angstrom\"\n",
    "        }\n",
    "    },\n",
    "    \"tags\": [\n",
    "        \"REST API\"\n",
    "    ]\n",
    "}"
   ]
  },
  {
   "cell_type": "markdown",
   "metadata": {
    "id": "1S914EcCsRBA"
   },
   "source": [
    "## Create material\n",
    "\n",
    "Initialize `MaterialEndpoints` class and call `create` function to create material."
   ]
  },
  {
   "cell_type": "code",
   "execution_count": 4,
   "metadata": {
    "id": "sEr2jm5wsRBA"
   },
   "outputs": [],
   "source": [
    "endpoint = MaterialEndpoints(*ENDPOINT_ARGS)\n",
    "material = endpoint.create(CONFIG)"
   ]
  },
  {
   "cell_type": "markdown",
   "metadata": {
    "id": "Lr8AYzECsRBA"
   },
   "source": [
    "## Print new material"
   ]
  },
  {
   "cell_type": "code",
   "execution_count": 5,
   "metadata": {
    "id": "NGMxmSLUsRBB",
    "outputId": "0f8e0efa-e94b-4292-968c-a6252658c14a"
   },
   "outputs": [
    {
     "name": "stdout",
     "output_type": "stream",
     "text": [
      "{\n",
      "    \"_id\": \"9RgYmGHkyMRRKpP6x\",\n",
      "    \"name\": \"TEST MATERIAL\",\n",
      "    \"basis\": {\n",
      "        \"elements\": [\n",
      "            {\n",
      "                \"id\": 0,\n",
      "                \"value\": \"Si\"\n",
      "            },\n",
      "            {\n",
      "                \"id\": 1,\n",
      "                \"value\": \"Si\"\n",
      "            }\n",
      "        ],\n",
      "        \"coordinates\": [\n",
      "            {\n",
      "                \"id\": 0,\n",
      "                \"value\": [\n",
      "                    0,\n",
      "                    0,\n",
      "                    0\n",
      "                ]\n",
      "            },\n",
      "            {\n",
      "                \"id\": 1,\n",
      "                \"value\": [\n",
      "                    0.25,\n",
      "                    0.25,\n",
      "                    0.25\n",
      "                ]\n",
      "            }\n",
      "        ],\n",
      "        \"units\": \"crystal\",\n",
      "        \"cell\": [\n",
      "            [\n",
      "                1,\n",
      "                0,\n",
      "                6.123233995736766e-17\n",
      "            ],\n",
      "            [\n",
      "                1.6081226496766366e-16,\n",
      "                1,\n",
      "                6.123233995736766e-17\n",
      "            ],\n",
      "            [\n",
      "                0,\n",
      "                0,\n",
      "                1\n",
      "            ]\n",
      "        ]\n",
      "    },\n",
      "    \"lattice\": {\n",
      "        \"a\": 3.867,\n",
      "        \"b\": 3.867,\n",
      "        \"c\": 3.867,\n",
      "        \"alpha\": 60,\n",
      "        \"beta\": 60,\n",
      "        \"gamma\": 59.99999,\n",
      "        \"units\": {\n",
      "            \"length\": \"angstrom\",\n",
      "            \"angle\": \"degree\"\n",
      "        },\n",
      "        \"type\": \"FCC\",\n",
      "        \"vectors\": {\n",
      "            \"a\": [\n",
      "                3.34892,\n",
      "                0,\n",
      "                1.9335\n",
      "            ],\n",
      "            \"b\": [\n",
      "                1.116307,\n",
      "                3.157392,\n",
      "                1.9335\n",
      "            ],\n",
      "            \"c\": [\n",
      "                0,\n",
      "                0,\n",
      "                3.867\n",
      "            ],\n",
      "            \"alat\": 1,\n",
      "            \"units\": \"angstrom\"\n",
      "        }\n",
      "    },\n",
      "    \"tags\": [\n",
      "        \"REST API\"\n",
      "    ],\n",
      "    \"owner\": {\n",
      "        \"_id\": \"HnTMM74xxPnTMFcm3\",\n",
      "        \"slug\": \"bsmith\",\n",
      "        \"cls\": \"Account\"\n",
      "    },\n",
      "    \"creator\": {\n",
      "        \"_id\": \"acky7GjD9aownD6iJ\",\n",
      "        \"slug\": \"bsmith\",\n",
      "        \"cls\": \"User\"\n",
      "    },\n",
      "    \"hash\": \"a665723ef7429caef6ca89385fe25bae\",\n",
      "    \"formula\": \"Si\",\n",
      "    \"unitCellFormula\": \"Si2\",\n",
      "    \"derivedProperties\": [\n",
      "        {\n",
      "            \"name\": \"volume\",\n",
      "            \"units\": \"angstrom^3\",\n",
      "            \"value\": 40.88909038874689\n",
      "        },\n",
      "        {\n",
      "            \"name\": \"density\",\n",
      "            \"units\": \"g/cm^3\",\n",
      "            \"value\": 2.281149788933887\n",
      "        },\n",
      "        {\n",
      "            \"spaceGroupSymbol\": \"Fd-3m\",\n",
      "            \"tolerance\": {\n",
      "                \"value\": 0.3,\n",
      "                \"units\": \"angstrom\"\n",
      "            },\n",
      "            \"name\": \"symmetry\"\n",
      "        },\n",
      "        {\n",
      "            \"name\": \"elemental_ratio\",\n",
      "            \"value\": 1,\n",
      "            \"element\": \"Si\"\n",
      "        },\n",
      "        {\n",
      "            \"name\": \"p-norm\",\n",
      "            \"value\": 1,\n",
      "            \"degree\": 0\n",
      "        },\n",
      "        {\n",
      "            \"name\": \"p-norm\",\n",
      "            \"value\": 1,\n",
      "            \"degree\": 2\n",
      "        },\n",
      "        {\n",
      "            \"name\": \"p-norm\",\n",
      "            \"value\": 1,\n",
      "            \"degree\": 3\n",
      "        },\n",
      "        {\n",
      "            \"name\": \"p-norm\",\n",
      "            \"value\": 1,\n",
      "            \"degree\": 5\n",
      "        },\n",
      "        {\n",
      "            \"name\": \"p-norm\",\n",
      "            \"value\": 1,\n",
      "            \"degree\": 7\n",
      "        },\n",
      "        {\n",
      "            \"name\": \"p-norm\",\n",
      "            \"value\": 1,\n",
      "            \"degree\": 10\n",
      "        }\n",
      "    ],\n",
      "    \"schemaVersion\": \"0.2.0\",\n",
      "    \"exabyteId\": \"tSohSgyQHg5sakYho\",\n",
      "    \"inSet\": [\n",
      "        {\n",
      "            \"_id\": \"nQtFH6EKKxYJFY98d\",\n",
      "            \"slug\": \"read\",\n",
      "            \"cls\": \"Team\"\n",
      "        },\n",
      "        {\n",
      "            \"_id\": \"3u3HBozhqNSF7x7dD\",\n",
      "            \"slug\": \"admin\",\n",
      "            \"cls\": \"Team\"\n",
      "        },\n",
      "        {\n",
      "            \"_id\": \"Q2KgxfbBTPqpSY4fw\",\n",
      "            \"slug\": \"owner\",\n",
      "            \"cls\": \"Team\"\n",
      "        },\n",
      "        {\n",
      "            \"_id\": \"QBnghAhrZstXct3eZ\",\n",
      "            \"slug\": \"read\",\n",
      "            \"cls\": \"Team\"\n",
      "        },\n",
      "        {\n",
      "            \"_id\": \"vTz2KjNZWRShYYXJR\",\n",
      "            \"slug\": \"comment\",\n",
      "            \"cls\": \"Team\"\n",
      "        },\n",
      "        {\n",
      "            \"_id\": \"3fSoLrHgwEbjuR7NL\",\n",
      "            \"slug\": \"execute\",\n",
      "            \"cls\": \"Team\"\n",
      "        },\n",
      "        {\n",
      "            \"_id\": \"MdDcBrcPRAG62hAmk\",\n",
      "            \"slug\": \"edit\",\n",
      "            \"cls\": \"Team\"\n",
      "        }\n",
      "    ],\n",
      "    \"isDefault\": false,\n",
      "    \"createdAt\": \"2021-06-30T17:32:57.658Z\",\n",
      "    \"isEntitySet\": false,\n",
      "    \"scaledHash\": \"87e416358789a7c435eaaba0344af51d\",\n",
      "    \"updatedAt\": \"2021-06-30T17:32:57.967Z\"\n",
      "}\n"
     ]
    }
   ],
   "source": [
    "display_JSON(material)"
   ]
  }
 ],
 "metadata": {
  "colab": {
   "collapsed_sections": [],
   "name": "create_material.ipynb",
   "provenance": []
  },
  "kernelspec": {
   "display_name": "Python 3",
   "language": "python",
   "name": "python3"
  },
  "language_info": {
   "codemirror_mode": {
    "name": "ipython",
    "version": 3
   },
   "file_extension": ".py",
   "mimetype": "text/x-python",
   "name": "python",
   "nbconvert_exporter": "python",
   "pygments_lexer": "ipython3",
   "version": "3.8.6"
  }
 },
 "nbformat": 4,
 "nbformat_minor": 1
}
