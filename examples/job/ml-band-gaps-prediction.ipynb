version https://git-lfs.github.com/spec/v1
oid sha256:d36337afa23eeeee828253c34b2d212435cac7f2abf11ace2d1162222bb9e74c
size 18791
