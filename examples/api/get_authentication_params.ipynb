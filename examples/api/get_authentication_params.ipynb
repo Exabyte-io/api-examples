{
 "cells": [
  {
   "cell_type": "markdown",
   "metadata": {},
   "source": [
    "# Overview\n",
    "\n",
    "Logins in to Exabyte RESTFul API and generates API authentication parameters.\n",
    "\n",
    "# Parameters\n",
    "\n",
    "- **USERNAME**: Your Exabyte account username.\n",
    "\n",
    "\n",
    "- **PASSWORD**: Your Exabyte account password."
   ]
  },
  {
   "cell_type": "code",
   "execution_count": 5,
   "metadata": {},
   "outputs": [],
   "source": [
    "import json\n",
    "import argparse\n",
    "import nbimporter\n",
    "nbimporter.options['only_defs'] = False\n",
    "\n",
    "from endpoints.login import LoginEndpoint\n",
    "from settings import HOST, PORT, SECURE, VERSION"
   ]
  },
  {
   "cell_type": "code",
   "execution_count": 2,
   "metadata": {},
   "outputs": [],
   "source": [
    "USERNAME = \"demo\"\n",
    "PASSWORD = \"demo\""
   ]
  },
  {
   "cell_type": "code",
   "execution_count": 3,
   "metadata": {},
   "outputs": [],
   "source": [
    "login_endpoint = LoginEndpoint(HOST, PORT, USERNAME, PASSWORD, VERSION, SECURE)\n",
    "auth_params = login_endpoint.login()"
   ]
  },
  {
   "cell_type": "code",
   "execution_count": 4,
   "metadata": {
    "scrolled": true
   },
   "outputs": [
    {
     "name": "stdout",
     "output_type": "stream",
     "text": [
      "{\n",
      "    \"X-Account-Id\": \"8nRSiEbyTvW4MRHrz\", \n",
      "    \"X-Auth-Token\": \"AbIObpS-OU8etxlrszvwBuE5_yKdOE5HNlqUwp3bwoF\"\n",
      "}\n"
     ]
    }
   ],
   "source": [
    "print json.dumps(auth_params, indent=4)"
   ]
  }
 ],
 "metadata": {
  "kernelspec": {
   "display_name": "Python 2",
   "language": "python",
   "name": "python2"
  },
  "language_info": {
   "codemirror_mode": {
    "name": "ipython",
    "version": 2
   },
   "file_extension": ".py",
   "mimetype": "text/x-python",
   "name": "python",
   "nbconvert_exporter": "python",
   "pygments_lexer": "ipython2",
   "version": "2.7.10"
  }
 },
 "nbformat": 4,
 "nbformat_minor": 2
}
