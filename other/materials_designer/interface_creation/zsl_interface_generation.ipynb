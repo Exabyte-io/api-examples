{
  "cells": [
    {
      "cell_type": "markdown",
      "metadata": {},
      "source": [
        "# Interface creation\n",
        "\n",
        "### Overview\n",
        "\n",
        "This notebook helps create interface between two materials using Zur and McGill matching superlattices algorithm (according to https://doi.org/10.1063/1.3330840), where it searches for all possible superlattices for both materials and checks them for match within tolerances.\n",
        "Pymatgen implementation of the algorithm is used here, where it is regarded as ZSL algorithm. (Documentation found in https://pymatgen.org/pymatgen.analysis.interfaces.html#pymatgen.analysis.interfaces.zsl)\n",
        "\n",
        "### Steps to create an interface:\n",
        "\n",
        "1.  Pass in materials from Materials Designer list by selecting input materials `materials_in` in the selector above:\n",
        "    -   Material with index 0 regarded as a `Substrate`,\n",
        "    -   Material with index 1 regarded as a `Layer`.\n",
        "2.  Specify surface parameters as well as thickness in atomic layers for both materials (for 2D materials Miller indices (0, 0, 1) and thickness of 1 is assumed);\n",
        "\n",
        "3.  Set the main parameter for the ZSL algorithm `MAX_AREA` -- maximum area of the interfaces search space in Angstroms^2;\n",
        "4.  You can set fine-tuning parameters like `MAX_AREA_TOL`, `MAX_LENGTH_TOL`, etc if you want and know how to optimize search for your specific case;\n",
        "5.  Add displacement of the layer relative to the substrate after the matching superlattice is found;\n",
        "6.  Run cells below to:\n",
        "    -   Load materials into JupyterLite environment,\n",
        "    -   Execute the algorithm and find all matching lattices,\n",
        "    -   Draw a scatter plot number of atoms vs strain for all found interfaces.\n",
        "7.  Choose the index of the most optimal material for your task and run cell to `set_materials()`;\n",
        "8.  Newly created interface should appear in the `materials_out` selector at the bottom of the dialog. Hit Submit to make it available it in the Materials Designer.\n"
      ]
    },
    {
      "cell_type": "code",
      "execution_count": 2,
      "metadata": {},
      "outputs": [],
      "source": [
        "ZSL_GENERATOR_PARAMS = {\n",
        "    # Main parameter:\n",
        "    \"MAX_AREA\": 400,  # required\n",
        "    # Fine-tuning parameters:\n",
        "    \"MAX_AREA_TOL\": 0.09,  # optional\n",
        "    \"MAX_LENGTH_TOL\": 0.03,  # optional\n",
        "    \"MAX_ANGLE_TOL\": 0.01,  # optional\n",
        "    \"STRAIN_TOL\": 10e-6,  # optional\n",
        "}\n",
        "\n",
        "INTERFACE_PARAMS = {\n",
        "    \"SUBSTRATE_INDEX\": 0,\n",
        "    \"LAYER_INDEX\": 1,\n",
        "    \"SUBSTRATE_MILLER\": (1, 1, 1),\n",
        "    \"SUBSTRATE_THICKNESS\": 1,\n",
        "    \"LAYER_MILLER\": (0, 0, 1),\n",
        "    \"LAYER_THICKNESS\": 1,\n",
        "    \"DISPLACEMENT_X\": 0.0,\n",
        "    \"DISPLACEMENT_Y\": 0.0,\n",
        "    \"DISPLACEMENT_Z\": 3.0,\n",
        "}"
      ]
    },
    {
      "cell_type": "code",
      "execution_count": null,
      "metadata": {},
      "outputs": [],
      "source": [
        "get_materials()"
      ]
    },
    {
      "cell_type": "code",
      "execution_count": null,
      "metadata": {
        "tags": [],
        "trusted": true
      },
      "outputs": [],
      "source": [
        "from development.pymatgen_coherent_interface_builder import CoherentInterfaceBuilder, ZSLGenerator\n",
        "from operator import itemgetter\n",
        "\n",
        "pymatgen_materials = [to_pymatgen(item) for item in data]\n",
        "for material in pymatgen_materials:\n",
        "    print(material)\n",
        "\n",
        "\n",
        "def create_interfaces(settings):\n",
        "    # Create Interface Builder class\n",
        "    zsl = ZSLGenerator(\n",
        "        max_area_ratio_tol=settings[\"MAX_AREA_TOL\"],\n",
        "        max_area=settings[\"MAX_AREA\"],\n",
        "        max_length_tol=settings[\"MAX_LENGTH_TOL\"],\n",
        "        max_angle_tol=settings[\"MAX_ANGLE_TOL\"],\n",
        "    )\n",
        "\n",
        "    cib = CoherentInterfaceBuilder(\n",
        "        substrate_structure=pymatgen_materials[settings[\"SUBSTRATE_INDEX\"]],\n",
        "        film_structure=pymatgen_materials[settings[\"LAYER_INDEX\"]],\n",
        "        substrate_miller=settings[\"SUBSTRATE_MILLER\"],\n",
        "        film_miller=settings[\"LAYER_MILLER\"],\n",
        "        zslgen=zsl,\n",
        "        strain_tol=settings[\"STRAIN_TOL\"],\n",
        "    )\n",
        "\n",
        "    # Run the Interface Building process\n",
        "    cib._find_terminations()\n",
        "    matches = cib.zsl_matches\n",
        "    terminations = cib.terminations\n",
        "\n",
        "    # Create interfaces\n",
        "    interfaces = []\n",
        "    for termination in terminations:\n",
        "        interfaces = list(\n",
        "            cib.get_interfaces(\n",
        "                termination,\n",
        "                gap=settings[\"DISPLACEMENT_Z\"],\n",
        "                film_thickness=settings[\"LAYER_THICKNESS\"],\n",
        "                substrate_thickness=settings[\"SUBSTRATE_THICKNESS\"],\n",
        "                in_layers=True,\n",
        "            )\n",
        "        )\n",
        "\n",
        "    print(f\"Found {len(matches)} interfaces\")\n",
        "    print(f\"Found {len(terminations)} terminations:\", terminations)\n",
        "\n",
        "    strain_modes = {\n",
        "        \"VON_MISES\": \"von_mises_strain\",\n",
        "        \"STRAIN\": \"strain\",\n",
        "        \"MEAN\": \"mean_abs_strain\",\n",
        "    }\n",
        "    strain_mode = strain_modes[\"MEAN\"]\n",
        "    interfaces_list = list(interfaces)\n",
        "\n",
        "    # Sort interfaces by ascending strain and then by ascending number of atoms\n",
        "    sorted_interfaces = sorted(\n",
        "        interfaces_list,\n",
        "        key=lambda x: (itemgetter(strain_mode)(x), x[\"interface\"].num_sites),\n",
        "    )\n",
        "\n",
        "    print(\"Interface with lowest strain (index 0):\")\n",
        "    print(\"    strain:\", sorted_interfaces[0][strain_mode] * 100, \"%\")\n",
        "    print(\"    number of atoms:\", sorted_interfaces[0][\"interface\"].num_sites)\n",
        "    PS = get_plot_settings()\n",
        "    # plot stran vs number of atoms via matplotlib\n",
        "    plot_strain_vs_atoms(strain_mode, sorted_interfaces, settings=PS)\n",
        "    return sorted_interfaces\n",
        "\n",
        "\n",
        "ZP = get_zsl_generator_params()\n",
        "IP = get_interface_params()\n",
        "interfaces = create_interfaces(settings={**ZP, **IP})"
      ]
    },
    {
      "cell_type": "code",
      "execution_count": null,
      "metadata": {},
      "outputs": [],
      "source": [
        "m3_esse = from_pymatgen(interfaces[0][\"interface\"])\n",
        "set_materials([m3_esse])"
      ]
    }
  ],
  "metadata": {
    "kernelspec": {
      "display_name": ".venv",
      "language": "python",
      "name": "python3"
    },
    "language_info": {
      "codemirror_mode": {
        "name": "ipython",
        "version": 3
      },
      "file_extension": ".py",
      "mimetype": "text/x-python",
      "name": "python",
      "nbconvert_exporter": "python",
      "pygments_lexer": "ipython3",
      "version": "3.10.12"
    },
    "widgets": {
      "application/vnd.jupyter.widget-state+json": {
        "state": {},
        "version_major": 2,
        "version_minor": 0
      }
    }
  },
  "nbformat": 4,
  "nbformat_minor": 4
}
