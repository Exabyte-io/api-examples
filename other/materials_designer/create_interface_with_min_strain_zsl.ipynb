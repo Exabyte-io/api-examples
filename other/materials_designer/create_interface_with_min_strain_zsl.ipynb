{
 "cells": [
  {
   "cell_type": "markdown",
   "metadata": {},
   "source": [
    "# Create an interface between two materials with minimal strain\n",
    "\n",
    "Use Zur and McGill superlattices matching [algorithm](https://doi.org/10.1063/1.3330840) to create interfaces between two materials using the Pymatgen [implementation](https://pymatgen.org/pymatgen.analysis.interfaces.html#pymatgen.analysis.interfaces.zsl).\n",
    "\n",
    "<h2 style=\"color:green\">Usage</h2>\n",
    "\n",
    "1. Make sure to select Input Materials\n",
    "2. Set Interface Parameters (e.g. `distance_z`, `max_area`, `miller_indices`) below or use the default values\n",
    "3. Additionally, specify whether termination is selected using interactive prompt, or the via the variable in the code.\n",
    "3. Click \"Run\" > \"Run All Cells\" to run all cells\n",
    "4. Wait for the run to complete (depending on the area, it can take 1-2 min or more). Scroll down to view cell results.\n",
    "5. Review the strain plot and modify its parameters as needed\n",
    "\n",
    "## Methodology\n",
    "\n",
    "The following happens in the script below:\n",
    "\n",
    "1. Create slabs for each input material. The materials data is passed in from and back to the web application according to this description (TBA).\n",
    "   We assume that two input materials are either in bulk form (e.g. Ni crystal) or layered (e.g. graphene). \n",
    "   \n",
    "   We construct the interface along the Z-axis. The material corresponding to the bottom of the interface is referred to as the \"**substrate**\", and the top - as the \"**layer**\". \n",
    "\n",
    "2. Perform strain matching on the slabs to extract the supercell dimensions. The algorithm has a set of parameters, such as the maximum area considered, that can be configured by editing the cells below.\n",
    "\n",
    "3. When the strain matching is finished, the interface with the lowest strain (and the smallest number of atoms) is selected. We create the corresponding supercells and place them at a specified distance from each other (note no shift is performed currently).\n"
   ]
  },
  {
   "cell_type": "markdown",
   "source": [
    "## 1. Install Packages\n",
    "The step executes only in Pyodide environment. For other environments, the packages should be installed via `pip install` as directed in README."
   ],
   "metadata": {
    "collapsed": false
   }
  },
  {
   "cell_type": "code",
   "outputs": [],
   "source": [
    "import sys\n",
    "\n",
    "if sys.platform == \"emscripten\":\n",
    "    import micropip\n",
    "    await micropip.install('mat3ra-api-examples', deps=False)\n",
    "    from utils.jupyterlite import install_packages\n",
    "    await install_packages(\"create_interface_with_min_strain_zsl.ipynb\", \"../../config.yml\")"
   ],
   "metadata": {
    "collapsed": false
   },
   "execution_count": null
  },
  {
   "cell_type": "markdown",
   "metadata": {},
   "source": [
    "## 2. Set Interface Parameters\n",
    "\n",
    "### 2.1. Set Substrate and Layer Parameters \n",
    "Imported `InterfaceBuilderSettings` is a class that specifies the parameters for the builder that generates interfaces. The default values are assumed if properties are not set during the initialization.\n",
    "Additionally, specify if the termination selection is done using interactive prompt, or the via selecting the termination index in the code."
   ]
  },
  {
   "cell_type": "code",
   "execution_count": null,
   "metadata": {},
   "outputs": [],
   "source": [
    "from mat3ra.made.tools.build.interface import InterfaceBuilderSettings\n",
    "\n",
    "# Parameters can be set during the class initialization:\n",
    "interface_builder_settings = InterfaceBuilderSettings(\n",
    "    distance_z=3.0,                  # distance between substrate and layer, in Angstroms\n",
    "    use_conventional_cell=True,      # if True, the surface plane is constructed using miller indices of the conventional cell\n",
    ")\n",
    "\n",
    "# Parameters can be set after the initialization:\n",
    "interface_builder_settings.SubstrateParameters.miller_indices = (1, 1, 1) # the Miller indices of the interfacial plane of the substrate\n",
    "interface_builder_settings.SubstrateParameters.thickness = 3 # substrate thickness in layers\n",
    "interface_builder_settings.LayerParameters.miller_indices = (0, 0, 1)  # the Miller indices of the interfacial plane of the layer\n",
    "interface_builder_settings.LayerParameters.thickness = 1 # layer thickness in layers\n",
    "\n",
    "IS_TERMINATION_SELECTION_INTERACTIVE = False  # if True, the user can select the termination interactively\n",
    "TERMINATION_INDEX = 0  # the default termination index that is used if no termination selected, ignored in interactive mode"
   ]
  },
  {
   "cell_type": "markdown",
   "source": [
    "### 2.2. Set Strain Matching Algorithm Parameters (Optional)\n",
    "The search algorithm for supercells matching can be tuned by setting its parameters directly, otherwise the default values are used."
   ],
   "metadata": {
    "collapsed": false
   }
  },
  {
   "cell_type": "code",
   "outputs": [],
   "source": [
    "from mat3ra.made.tools.build.interface import StrainMatchingParameters\n",
    "interface_builder_settings.StrainMatchingParameters = StrainMatchingParameters(\n",
    "    algorithm=\"ZSL\",     # the algorithm to use for strain matching, currently only \"zsl\" is supported\n",
    "    max_area=50,         # maximum area of the generated interfaces, in Angstroms^2\n",
    "    max_area_tol=0.09,   # maximum tolerance on ratio of super-lattices to consider equal\n",
    "    max_length_tol=0.03, # maximum length tolerance for two vectors to be considered equal\n",
    "    max_angle_tol=0.01,  # maximum angle tolerance for two sets of vectors to have equal angles\n",
    ")"
   ],
   "metadata": {
    "collapsed": false
   },
   "execution_count": null
  },
  {
   "cell_type": "markdown",
   "metadata": {},
   "source": [
    "## 3. Load input Materials\n"
   ]
  },
  {
   "cell_type": "code",
   "outputs": [],
   "source": [
    "from mat3ra.made.material import Material\n",
    "from utils.jupyterlite import get_data\n",
    "\n",
    "from utils.visualize import visualize_materials as visualize\n",
    "\n",
    "# Get the list of input materials and load them into `materials_in` variable\n",
    "get_data(\"materials_in\", globals())\n",
    "materials = list(map(Material, globals()[\"materials_in\"]))\n",
    "visualize(materials, repetitions=[1, 1, 1], rotation=\"0x\")"
   ],
   "metadata": {
    "collapsed": false
   },
   "execution_count": null
  },
  {
   "cell_type": "markdown",
   "source": [
    "## 4. Create interfaces\n",
    "\n",
    "### 4.1. Initialize the interface builder\n",
    "\n",
    "Initialize the interface builder with the materials and interface settings."
   ],
   "metadata": {
    "collapsed": false
   }
  },
  {
   "cell_type": "code",
   "outputs": [],
   "source": [
    "from mat3ra.made.tools.build import init_interface_builder\n",
    "\n",
    "interface_builder = init_interface_builder(\n",
    "    substrate=materials[0],\n",
    "    layer=materials[1],\n",
    "    settings=interface_builder_settings\n",
    ")"
   ],
   "metadata": {
    "collapsed": false
   },
   "execution_count": null
  },
  {
   "cell_type": "markdown",
   "source": [
    "### 4.2. Select the termination\n",
    "Possible terminations for the interface are found by the interface builder. The user can select the termination interactively or use the default one."
   ],
   "metadata": {
    "collapsed": false
   }
  },
  {
   "cell_type": "code",
   "outputs": [],
   "source": [
    "from utils.io import ui_prompt_select_array_element_by_index, ui_prompt_select_array_element_by_index_pyodide\n",
    "terminations = interface_builder.terminations\n",
    "\n",
    "if IS_TERMINATION_SELECTION_INTERACTIVE:\n",
    "    if sys.platform == \"emscripten\":\n",
    "        selected_termination = await ui_prompt_select_array_element_by_index_pyodide(terminations, element_name=\"termination\")\n",
    "    else:\n",
    "         selected_termination = ui_prompt_select_array_element_by_index(terminations, element_name=\"termination\")\n",
    "else:    \n",
    "    selected_termination = terminations[TERMINATION_INDEX]"
   ],
   "metadata": {
    "collapsed": false
   },
   "execution_count": null
  },
  {
   "cell_type": "markdown",
   "source": [
    "### 4.3. Create interfaces for the selected termination"
   ],
   "metadata": {
    "collapsed": false
   }
  },
  {
   "cell_type": "code",
   "outputs": [],
   "source": [
    "from mat3ra.made.tools.build import create_interfaces\n",
    "\n",
    "interface_data_holder = create_interfaces(\n",
    "    sort_by_strain_and_size=True,\n",
    "    remove_duplicates=True,\n",
    "    interface_builder=interface_builder,\n",
    "    termination=selected_termination,\n",
    ")"
   ],
   "metadata": {
    "collapsed": false
   },
   "execution_count": null
  },
  {
   "cell_type": "markdown",
   "source": [
    "### 4.4. Print out interface with the lowest strain for selected termination"
   ],
   "metadata": {
    "collapsed": false
   }
  },
  {
   "cell_type": "code",
   "outputs": [],
   "source": [
    "print(f\"Interface with lowest strain for termination {selected_termination} (index 0):\")\n",
    "interfaces = interface_data_holder.get_interfaces_for_termination(selected_termination)\n",
    "first_interface = interfaces[0]\n",
    "print(f\"    strain: {first_interface.get_mean_abs_strain() * 100:.3f}%\")\n",
    "print(\"    number of atoms:\", first_interface.num_sites)"
   ],
   "metadata": {
    "collapsed": false
   },
   "execution_count": null
  },
  {
   "cell_type": "markdown",
   "source": [
    "## 5. Plot the results\n",
    "\n",
    "Plot the number of atoms vs strain. Adjust the parameters as needed.\n"
   ],
   "metadata": {
    "collapsed": false
   }
  },
  {
   "cell_type": "code",
   "outputs": [],
   "source": [
    "from utils.plot import plot_strain_vs_atoms\n",
    "\n",
    "PLOT_SETTINGS = {\n",
    "    \"HEIGHT\": 600,\n",
    "    \"X_SCALE\": \"log\",  # or linear\n",
    "    \"Y_SCALE\": \"log\",  # or linear\n",
    "}\n",
    "\n",
    "plot_strain_vs_atoms(interface_data_holder, PLOT_SETTINGS)\n",
    "\n",
    "print(\"Terminations: \\n\", interface_data_holder.terminations)"
   ],
   "metadata": {
    "collapsed": false
   },
   "execution_count": null
  },
  {
   "cell_type": "markdown",
   "source": [
    "## 6. Select the interface to pass outside this kernel\n",
    "\n",
    "### 6.1. Select the interface with the desired termination and strain\n",
    "\n",
    "Select the index for termination first, and for it - the index in the list of corresponding interfaces sorted by strain (index 0 has minimum strain)."
   ],
   "metadata": {
    "collapsed": false
   }
  },
  {
   "cell_type": "code",
   "outputs": [],
   "source": [
    "# Could be either the termination as tuple, e.g. `('Ni_P6/mmm_1', 'C_C2/m_2')` or its index: `0`\n",
    "termination_or_its_index = selected_termination\n",
    "# select the first interface with the lowest strain and the smallest number of atoms\n",
    "interfaces_slice_range_or_index = slice(0, 1)\n",
    "selected_interfaces = interface_data_holder.get_interfaces_as_materials(termination_or_its_index, interfaces_slice_range_or_index)"
   ],
   "metadata": {
    "collapsed": false
   },
   "execution_count": null
  },
  {
   "cell_type": "markdown",
   "source": [
    "### 6.2. Visualize the selected interface(s)"
   ],
   "metadata": {
    "collapsed": false
   }
  },
  {
   "cell_type": "code",
   "outputs": [],
   "source": [
    "visualize(selected_interfaces, repetitions=[1, 1, 1], rotation=\"0x\")"
   ],
   "metadata": {
    "collapsed": false
   },
   "execution_count": null
  },
  {
   "cell_type": "markdown",
   "metadata": {},
   "source": [
    "### 6.3. Pass data to the outside runtime\n",
    "Enrich the selected interfaces names with the strain values and pass them to the application runtime."
   ]
  },
  {
   "cell_type": "code",
   "execution_count": null,
   "metadata": {},
   "outputs": [],
   "source": [
    "from utils.jupyterlite import set_data\n",
    "\n",
    "for interface in selected_interfaces:\n",
    "    if \"Interface, Strain:\" not in interface[\"name\"]:\n",
    "        interface[\"name\"] = f'{interface[\"name\"]}, Interface, Strain:{interface[\"metadata\"][\"interface_properties\"][\"mean_abs_strain\"]*100:.3f}%'\n",
    "\n",
    "set_data(\"materials\", selected_interfaces)"
   ]
  },
  {
   "cell_type": "code",
   "outputs": [],
   "source": [],
   "metadata": {
    "collapsed": false
   },
   "execution_count": null
  }
 ],
 "metadata": {
  "kernelspec": {
   "display_name": ".venv",
   "language": "python",
   "name": "python3"
  },
  "language_info": {
   "codemirror_mode": {
    "name": "ipython",
    "version": 3
   },
   "file_extension": ".py",
   "mimetype": "text/x-python",
   "name": "python",
   "nbconvert_exporter": "python",
   "pygments_lexer": "ipython3",
   "version": "3.10.12"
  },
  "widgets": {
   "application/vnd.jupyter.widget-state+json": {
    "state": {},
    "version_major": 2,
    "version_minor": 0
   }
  }
 },
 "nbformat": 4,
 "nbformat_minor": 4
}
