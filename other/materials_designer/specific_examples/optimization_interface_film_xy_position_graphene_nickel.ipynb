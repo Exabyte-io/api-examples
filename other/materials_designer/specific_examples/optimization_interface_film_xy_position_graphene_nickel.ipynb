{
 "cells": [
  {
   "cell_type": "markdown",
   "id": "567b1b812acb1718",
   "metadata": {
    "collapsed": false
   },
   "source": [
    "# Optimize Interface Film Position in Gr/Ni(111) Interface\n",
    "\n",
    "## 0. Introduction\n",
    "\n",
    "This notebook demonstrates how to create Gr/Ni(111) interface and optimize the film position.\n",
    "\n",
    "Following the manuscript:\n",
    "\n",
    "> **Arjun Dahal, Matthias Batzill**\n",
    "> \"Graphene–nickel interfaces: a review\"\n",
    "> Nanoscale, 6(5), 2548. (2014)\n",
    "> [DOI: 10.1039/c3nr05279f](https://doi.org/10.1039/c3nr05279f)\n",
    " \n",
    "Recreating interface and shifting the film to the most favorable energy position showed in the image below. Fig 1. b.\n",
    "\n",
    "<img src=\"https://github.com/Exabyte-io/documentation/raw/12617167278ae3523adc028583b21ea4e8ebd197/images/tutorials/materials/optimization/optimization_interface_film_xy_position_graphene_nickel/0-figure-from-manuscript.webp\" alt=\"Optimal position of the film\" width=\"400\"/>\n",
    "\n",
    "## 1. Prepare the Environment\n",
    "### 1.1. Install Packages\n"
   ]
  },
  {
   "cell_type": "code",
   "id": "6cc535057854a4d1",
   "metadata": {
    "collapsed": false
   },
   "source": [
    "import sys\n",
    "\n",
    "if sys.platform == \"emscripten\":\n",
    "    import micropip\n",
    "\n",
    "    await micropip.install(\"mat3ra-api-examples\", deps=False)\n",
    "    await micropip.install('mat3ra-utils')\n",
    "    from mat3ra.utils.jupyterlite.packages import install_packages\n",
    "\n",
    "    await install_packages(\"specific_examples|create_interface_with_min_strain_zsl.ipynb\")\n"
   ],
   "outputs": [],
   "execution_count": null
  },
  {
   "cell_type": "markdown",
   "id": "63d36e1a062ae33a",
   "metadata": {
    "collapsed": false
   },
   "source": [
    "### 1.2. Set Parameters\n"
   ]
  },
  {
   "cell_type": "code",
   "id": "a2b35c2f3e3b092a",
   "metadata": {},
   "source": [
    "# Material selection\n",
    "SUBSTRATE_NAME = \"Nickel\"\n",
    "FILM_NAME = \"Graphene\"\n",
    "\n",
    "# Slab parameters\n",
    "FILM_MILLER_INDICES = (0, 0, 1)\n",
    "FILM_THICKNESS = 1  # in atomic layers\n",
    "FILM_TERMINATION_FORMULA = None  # if None, the first termination will be used\n",
    "FILM_VACUUM = 0.0  # in angstroms\n",
    "\n",
    "SUBSTRATE_MILLER_INDICES = (1, 1, 1)\n",
    "SUBSTRATE_THICKNESS = 4  # in atomic layers\n",
    "SUBSTRATE_TERMINATION_FORMULA = None  # if None, the first termination will be used\n",
    "SUBSTRATE_VACUUM = 0.0  # in angstroms\n",
    "\n",
    "# Interface parameters\n",
    "INTERFACE_DISTANCE = 2.58  # Gap between substrate and film, in Angstrom\n",
    "INTERFACE_VACUUM = 20.0  # Vacuum over film, in Angstrom\n",
    "\n",
    "# Whether to convert materials to conventional cells before creating slabs.\n",
    "USE_CONVENTIONAL_CELL = True\n",
    "\n",
    "# Maximum area for the superlattice search algorithm (the final interface area will be smaller)\n",
    "MAX_AREA = 350  # in Angstrom^2\n",
    "# Additional fine-tuning parameters (increase values to get more strained matches):\n",
    "MAX_AREA_TOLERANCE = 0.09  # in Angstrom^2\n",
    "MAX_LENGTH_TOLERANCE = 0.05\n",
    "MAX_ANGLE_TOLERANCE = 0.02\n",
    "\n",
    "# Whether to reduce the resulting interface cell to the primitive cell after the interface creation.\n",
    "REDUCE_RESULT_CELL_TO_PRIMITIVE = True\n",
    "\n",
    "# Optimization parameters\n",
    "GRID_SIZE = (20, 20)  # Resolution of the x-y grid\n",
    "GRID_RANGE_X = (-0.5, 0.5)  # Range to search in x direction\n",
    "GRID_RANGE_Y = (-0.5, 0.5)  # Range to search in y direction\n",
    "USE_CARTESIAN = False  # Whether to use Cartesian coordinates\n",
    "\n",
    "# Visualization parameters\n",
    "SHOW_3D_LANDSCAPE = False  # Whether to show 3D energy landscape\n",
    "STRUCTURE_REPETITIONS = [3, 3, 1]  # Repetitions for structure visualization\n"
   ],
   "outputs": [],
   "execution_count": null
  },
  {
   "cell_type": "markdown",
   "id": "d4ee2a1c17a07fa7",
   "metadata": {
    "collapsed": false
   },
   "source": [
    "## 2. Create Interface Material\n",
    "### 2.1. Load Materials\n"
   ]
  },
  {
   "cell_type": "code",
   "id": "f1047ca2cc30b87a",
   "metadata": {
    "collapsed": false
   },
   "source": [
    "from utils.visualize import visualize_materials\n",
    "from mat3ra.standata.materials import Materials\n",
    "from mat3ra.made.material import Material\n",
    "\n",
    "substrate = Material.create(Materials.get_by_name_first_match(SUBSTRATE_NAME))\n",
    "film = Material.create(Materials.get_by_name_first_match(FILM_NAME))\n",
    "\n",
    "# Preview materials\n",
    "visualize_materials([substrate, film], repetitions=STRUCTURE_REPETITIONS, rotation=\"0x\")\n"
   ],
   "outputs": [],
   "execution_count": null
  },
  {
   "cell_type": "markdown",
   "id": "14c4e4f9aa6721a",
   "metadata": {
    "collapsed": false
   },
   "source": [
    "### 2.2. Create Slabs"
   ]
  },
  {
   "cell_type": "code",
   "id": "4943dcc4a793f623",
   "metadata": {},
   "source": [
    "from mat3ra.made.tools.build.slab.configurations import SlabConfiguration\n",
    "from mat3ra.made.tools.build.slab.builders import SlabBuilder\n",
    "\n",
    "substrate_slab_config = SlabConfiguration.from_parameters(\n",
    "    material_or_dict=substrate,\n",
    "    miller_indices=SUBSTRATE_MILLER_INDICES,\n",
    "    number_of_layers=SUBSTRATE_THICKNESS,\n",
    "    vacuum=0.0,\n",
    "    termination_formula=SUBSTRATE_TERMINATION_FORMULA,\n",
    "    use_conventional_cell=USE_CONVENTIONAL_CELL\n",
    ")\n",
    "\n",
    "film_slab_config = SlabConfiguration.from_parameters(\n",
    "    material_or_dict=film,\n",
    "    miller_indices=FILM_MILLER_INDICES,\n",
    "    number_of_layers=FILM_THICKNESS,\n",
    "    vacuum=0.0,\n",
    "    termination_formula=FILM_TERMINATION_FORMULA,\n",
    "    use_conventional_cell=USE_CONVENTIONAL_CELL\n",
    ")\n",
    "\n",
    "substrate_slab = SlabBuilder().get_material(substrate_slab_config)\n",
    "film_slab = SlabBuilder().get_material(film_slab_config)\n",
    "\n",
    "# Visualize the created slabs\n",
    "visualize_materials([{\"material\": film_slab, \"title\": \"Film Slab\"}, {\"material\": substrate_slab, \"title\": \"Substrate Slab\"}],\n",
    "          repetitions=[3, 3, 1], rotation=\"-90x\")\n"
   ],
   "outputs": [],
   "execution_count": null
  },
  {
   "cell_type": "markdown",
   "id": "a09ee4efe7c65600",
   "metadata": {},
   "source": [
    "### 2.3. Create Interface\n"
   ]
  },
  {
   "cell_type": "code",
   "id": "e64b278750d997f0",
   "metadata": {},
   "source": [
    "from mat3ra.made.tools.build.interface.helpers import create_zsl_interface_between_slabs\n",
    "\n",
    "interface_material = create_zsl_interface_between_slabs(\n",
    "    substrate_slab=substrate_slab,\n",
    "    film_slab=film_slab,\n",
    "    gap=INTERFACE_DISTANCE,\n",
    "    vacuum=INTERFACE_VACUUM,\n",
    "    match_id=0,\n",
    "    max_area=MAX_AREA,\n",
    "    max_area_ratio_tol=MAX_AREA_TOLERANCE,\n",
    "    max_length_tol=MAX_LENGTH_TOLERANCE,\n",
    "    max_angle_tol=MAX_ANGLE_TOLERANCE,\n",
    "    reduce_result_cell_to_primitive=REDUCE_RESULT_CELL_TO_PRIMITIVE,\n",
    ")\n",
    "\n",
    "interface_material.name = f\"{FILM_NAME}_{SUBSTRATE_NAME}_interface\"\n",
    "\n",
    "# Visualize interface\n",
    "visualize_materials([interface_material], repetitions=STRUCTURE_REPETITIONS)\n",
    "visualize_materials([interface_material], repetitions=STRUCTURE_REPETITIONS, rotation=\"-90x\")\n"
   ],
   "outputs": [],
   "execution_count": null
  },
  {
   "cell_type": "markdown",
   "id": "8b20dc13f57cfce7",
   "metadata": {
    "collapsed": false
   },
   "source": [
    "## 3. Optimize Interface Position\n",
    "### 3.1. Calculate Energy Landscape\n"
   ]
  },
  {
   "cell_type": "code",
   "id": "3dd3a069a69b4be1",
   "metadata": {
    "collapsed": false
   },
   "source": [
    "from mat3ra.made.tools.build.interface import get_optimal_film_displacement\n",
    "from mat3ra.made.tools.modify import interface_displace_part\n",
    "from mat3ra.made.tools.optimize import evaluate_calculator_on_xy_grid\n",
    "from mat3ra.made.tools.calculate.calculators import InterfaceMaterialCalculator\n",
    "\n",
    "calculator = InterfaceMaterialCalculator()\n",
    "\n",
    "# Calculate energy landscape\n",
    "xy_matrix, energy_matrix = evaluate_calculator_on_xy_grid(\n",
    "    material=interface_material,\n",
    "    calculator_function=calculator.get_energy,\n",
    "    modifier=interface_displace_part,\n",
    "    grid_size_xy=GRID_SIZE,\n",
    "    grid_range_x=GRID_RANGE_X,\n",
    "    grid_range_y=GRID_RANGE_Y,\n",
    "    use_cartesian_coordinates=USE_CARTESIAN\n",
    ")\n",
    "\n",
    "# Find optimal position\n",
    "optimal_displacement = get_optimal_film_displacement(\n",
    "    material=interface_material,\n",
    "    calculator=calculator,\n",
    "    grid_size_xy=GRID_SIZE,\n",
    "    grid_range_x=GRID_RANGE_X,\n",
    "    grid_range_y=GRID_RANGE_Y,\n",
    "    use_cartesian_coordinates=USE_CARTESIAN\n",
    ")\n",
    "print(f\"\\nOptimal displacement vector: {optimal_displacement}\")\n"
   ],
   "outputs": [],
   "execution_count": null
  },
  {
   "cell_type": "markdown",
   "id": "4028cb9ac8d438f0",
   "metadata": {
    "collapsed": false
   },
   "source": [
    "### 3.2. Visualize Energy Landscape\n"
   ]
  },
  {
   "cell_type": "code",
   "id": "291e197f524e12d2",
   "metadata": {},
   "source": [
    "from mat3ra.utils.jupyterlite.plot import plot_2d_heatmap, plot_3d_surface\n",
    "\n",
    "x_values, y_values = xy_matrix\n",
    "# Plot energy landscape\n",
    "plot_2d_heatmap(x_values, y_values, energy_matrix,\n",
    "                optimal_point=optimal_displacement[:2],\n",
    "                title=\"Energy Heatmap\",\n",
    "                labels={\"x\": \"x\", \"y\": \"y\", \"z\": \"Energy\"})\n",
    "if SHOW_3D_LANDSCAPE:\n",
    "    plot_3d_surface(x_values, y_values, energy_matrix,\n",
    "                    optimal_point=optimal_displacement[:2],\n",
    "                    title=\"Energy Landscape\",\n",
    "                    labels={\"x\": \"x\", \"y\": \"y\", \"z\": \"Energy\"})\n",
    "\n",
    "# Create and visualize optimized material\n",
    "optimized_material = interface_displace_part(\n",
    "    interface_material,\n",
    "    displacement=optimal_displacement,\n",
    "    use_cartesian_coordinates=USE_CARTESIAN\n",
    ")"
   ],
   "outputs": [],
   "execution_count": null
  },
  {
   "cell_type": "markdown",
   "id": "ee1f1248729697af",
   "metadata": {},
   "source": [
    "### 3.3. Visualize Material\n"
   ]
  },
  {
   "cell_type": "code",
   "id": "aa330d1c1a0b249e",
   "metadata": {},
   "source": [
    "print(\"\\nVisualization of original and optimized materials:\")\n",
    "visualize_materials([{\"material\": interface_material, \"title\": \"Original Interface\"},\n",
    "                     {\"material\": optimized_material, \"title\": \"Optimized Interface\"}],\n",
    "                    repetitions=STRUCTURE_REPETITIONS,\n",
    "                    )\n",
    "visualize_materials([{\"material\": interface_material, \"title\": \"Original Interface\"},\n",
    "                     {\"material\": optimized_material, \"title\": \"Optimized Interface\"}],\n",
    "                    repetitions=STRUCTURE_REPETITIONS,\n",
    "                    rotation=\"-90x\")"
   ],
   "outputs": [],
   "execution_count": null
  },
  {
   "cell_type": "markdown",
   "id": "78304054eca1564e",
   "metadata": {
    "collapsed": false
   },
   "source": [
    "# 4. Save optimized material"
   ]
  },
  {
   "cell_type": "code",
   "id": "fb3a1781c32f144f",
   "metadata": {
    "collapsed": false
   },
   "source": [
    "from utils.jupyterlite import download_content_to_file, set_materials\n",
    "\n",
    "optimized_material.name = f\"{interface_material.name}_optimized_xy\"\n",
    "set_materials(optimized_material)\n",
    "download_content_to_file(optimized_material.to_json(), f\"{interface_material.name}_optimized_xy.json\")"
   ],
   "outputs": [],
   "execution_count": null
  }
 ],
 "metadata": {
  "kernelspec": {
   "display_name": "Python 3",
   "language": "python",
   "name": "python3"
  },
  "language_info": {
   "codemirror_mode": {
    "name": "ipython",
    "version": 2
   },
   "file_extension": ".py",
   "mimetype": "text/x-python",
   "name": "python",
   "nbconvert_exporter": "python",
   "pygments_lexer": "ipython2",
   "version": "2.7.6"
  }
 },
 "nbformat": 4,
 "nbformat_minor": 5
}
