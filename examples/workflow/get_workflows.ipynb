{
 "cells": [
  {
   "cell_type": "markdown",
   "metadata": {
    "id": "rqmhDMSkIQAT"
   },
   "source": [
    "<a href=\"https://colab.research.google.com/github/Exabyte-io/api-examples/blob/dev/examples/workflow/get_workflows.ipynb\" target=\"_parent\">\n",
    "<img alt=\"Open in Google Colab\" src=\"https://user-images.githubusercontent.com/20477508/128780728-491fea90-9b23-495f-a091-11681150db37.jpeg\" width=\"150\" border=\"0\">\n",
    "</a>"
   ]
  },
  {
   "cell_type": "markdown",
   "metadata": {
    "id": "OtfhrLhwIQAV"
   },
   "source": [
    "# Overview\n",
    "\n",
    "Inside this example we contact [Workflow](https://docs.exabyte.io/api/Workflows/get_workflows) endpoint to obtain a list of workflows that an account has access to."
   ]
  },
  {
   "cell_type": "markdown",
   "metadata": {
    "id": "stJCOZz0IQAW"
   },
   "source": [
    "# Complete Authorization Form and Initialize Settings\n",
    "\n",
    "This will also determine environment and set all environment variables. We determine if we are using Jupyter Notebooks or Google Colab to run this tutorial.\n",
    "\n",
    "If you are running this notebook from Google Colab, Colab takes ~1 min to execute the following cell.\n",
    "\n",
    "ACCOUNT_ID and AUTH_TOKEN - Authentication parameters needed for when making requests to [Exabyte.io's API Endpoints](https://docs.exabyte.io/rest-api/endpoints/).\n",
    "\n",
    "MATERIALS_PROJECT_API_KEY - Authentication parameter needed for when making requests to [Material Project's API](https://materialsproject.org/open)\n",
    "\n",
    "ORGANIZATION_ID - Authentication parameter needed for when working with collaborative accounts https://docs.exabyte.io/collaboration/organizations/overview/\n",
    "\n",
    "> <span style=\"color: orange\">**NOTE**</span>: If you are running this notebook from Jupyter, the variables ACCOUNT_ID, AUTH_TOKEN, MATERIALS_PROJECT_API_KEY, and ORGANIZATION_ID should be set in the file [settings.json](../settings.json) if you need to use these variables. To obtain API token parameters, please see the following link to the documentation explaining how to get them: https://docs.exabyte.io/accounts/ui/preferences/api/"
   ]
  },
  {
   "cell_type": "code",
   "execution_count": 1,
   "metadata": {
    "cellView": "form",
    "colab": {
     "base_uri": "https://localhost:8080/"
    },
    "id": "KenNuzjjIQAW",
    "outputId": "1622a36b-7d5c-4798-a684-ca9f1e069ff2"
   },
   "outputs": [],
   "source": [
    "#@title Authorization Form\n",
    "ACCOUNT_ID = \"ACCOUNT_ID\" #@param {type:\"string\"}\n",
    "AUTH_TOKEN = \"AUTH_TOKEN\" #@param {type:\"string\"}\n",
    "MATERIALS_PROJECT_API_KEY = \"MATERIALS_PROJECT_API_KEY\" #@param {type:\"string\"}\n",
    "ORGANIZATION_ID  = \"ORGANIZATION_ID\" #@param {type:\"string\"}\n",
    "import os, glob, sys, importlib, urllib.request\n",
    "\n",
    "# The below execution sets up runtime using code stored remotely in a url\n",
    "exec(urllib.request.urlopen('https://raw.githubusercontent.com/Exabyte-io/api-examples/dev/examples/utils/initialize_settings.py').read())"
   ]
  },
  {
   "cell_type": "markdown",
   "metadata": {
    "id": "t0TQd18kIQAX"
   },
   "source": [
    "## Imports"
   ]
  },
  {
   "cell_type": "code",
   "execution_count": 2,
   "metadata": {
    "id": "dX3VXdWJIQAX"
   },
   "outputs": [],
   "source": [
    "import settings; importlib.reload(settings)\n",
    "from settings import ENDPOINT_ARGS, ACCOUNT_ID\n",
    "from utils.generic import display_JSON\n",
    "\n",
    "from exabyte_api_client.endpoints.workflows import WorkflowEndpoints"
   ]
  },
  {
   "cell_type": "markdown",
   "metadata": {
    "id": "h8JubXPxIQAY"
   },
   "source": [
    "## Set Parameters\n",
    "\n",
    "- **QUERY**: A query describing the documents to find. See [Meteor collection](https://docs.meteor.com/api/collections.html#Mongo-Collection-find) for more information. \n",
    "\n",
    "- **limit**: Maximum number of results to return. See [Meteor collection](https://docs.meteor.com/api/collections.html#Mongo-Collection-find) for more information."
   ]
  },
  {
   "cell_type": "code",
   "execution_count": 3,
   "metadata": {
    "id": "xCEktmwiIQAZ"
   },
   "outputs": [],
   "source": [
    "QUERY = {\n",
    "    \"name\": \"Total Energy\",\n",
    "    \"owner._id\": ACCOUNT_ID\n",
    "}\n",
    "\n",
    "OPTIONS = {\n",
    "    \"limit\": 2\n",
    "}"
   ]
  },
  {
   "cell_type": "markdown",
   "metadata": {
    "id": "1fgv7cWSIQAZ"
   },
   "source": [
    "## Initialize the endpoint\n",
    "\n",
    "Initialize a helper class to interact with `WorkflowEndpoints`. This only has to be done once."
   ]
  },
  {
   "cell_type": "code",
   "execution_count": 4,
   "metadata": {
    "id": "pwEMspn7IQAa"
   },
   "outputs": [],
   "source": [
    "endpoint = WorkflowEndpoints(*ENDPOINT_ARGS)"
   ]
  },
  {
   "cell_type": "markdown",
   "metadata": {
    "id": "iKpJYJYjIQAa"
   },
   "source": [
    "## List workflows\n",
    "\n",
    "Contact the endpoint to list workflows according to the query above."
   ]
  },
  {
   "cell_type": "code",
   "execution_count": 5,
   "metadata": {
    "id": "wzFp8DcCIQAa"
   },
   "outputs": [],
   "source": [
    "workflows = endpoint.list(QUERY, OPTIONS)"
   ]
  },
  {
   "cell_type": "markdown",
   "metadata": {
    "id": "mrZ2nEmJIQAb"
   },
   "source": [
    "## Print workflows\n",
    "\n",
    "Print the list of workflows saved under the corresponding variable in pretty JSON below."
   ]
  },
  {
   "cell_type": "code",
   "execution_count": 6,
   "metadata": {
    "colab": {
     "base_uri": "https://localhost:8080/"
    },
    "id": "KSJgpWRzIQAb",
    "outputId": "7ee3b7f6-208f-427e-ee32-07486078072c"
   },
   "outputs": [
    {
     "name": "stdout",
     "output_type": "stream",
     "text": [
      "[\n",
      "    {\n",
      "        \"_id\": \"759db973ac0d17d1d619d33f\",\n",
      "        \"name\": \"Total Energy\",\n",
      "        \"subworkflows\": [\n",
      "            {\n",
      "                \"_id\": \"88720c95261b067a17488b79\",\n",
      "                \"name\": \"Total Energy\",\n",
      "                \"application\": {\n",
      "                    \"_id\": \"XXNZ9pqkerTJtfkwk\",\n",
      "                    \"name\": \"espresso\",\n",
      "                    \"version\": \"5.4.0\",\n",
      "                    \"build\": \"Default\",\n",
      "                    \"isDefault\": true,\n",
      "                    \"summary\": \"Quantum Espresso\",\n",
      "                    \"updatedAt\": \"2021-04-16T22:26:57.811Z\",\n",
      "                    \"shortName\": \"qe\"\n",
      "                },\n",
      "                \"properties\": [\n",
      "                    null\n",
      "                ],\n",
      "                \"model\": {\n",
      "                    \"type\": \"dft\",\n",
      "                    \"subtype\": \"gga\",\n",
      "                    \"method\": {\n",
      "                        \"type\": \"pseudopotential\",\n",
      "                        \"subtype\": \"us\",\n",
      "                        \"data\": {}\n",
      "                    },\n",
      "                    \"functional\": {\n",
      "                        \"slug\": \"pbe\"\n",
      "                    },\n",
      "                    \"refiners\": [],\n",
      "                    \"modifiers\": []\n",
      "                },\n",
      "                \"units\": [\n",
      "                    {\n",
      "                        \"type\": \"execution\",\n",
      "                        \"name\": \"pw_scf\",\n",
      "                        \"head\": true,\n",
      "                        \"results\": [\n",
      "                            {\n",
      "                                \"name\": \"total_energy\"\n",
      "                            },\n",
      "                            {\n",
      "                                \"name\": \"total_energy_contributions\"\n",
      "                            },\n",
      "                            {\n",
      "                                \"name\": \"pressure\"\n",
      "                            },\n",
      "                            {\n",
      "                                \"name\": \"fermi_energy\"\n",
      "                            },\n",
      "                            {\n",
      "                                \"name\": \"atomic_forces\"\n",
      "                            },\n",
      "                            {\n",
      "                                \"name\": \"total_force\"\n",
      "                            },\n",
      "                            {\n",
      "                                \"name\": \"stress_tensor\"\n",
      "                            }\n",
      "                        ],\n",
      "                        \"monitors\": [\n",
      "                            {\n",
      "                                \"name\": \"standard_output\"\n",
      "                            },\n",
      "                            {\n",
      "                                \"name\": \"convergence_electronic\"\n",
      "                            }\n",
      "                        ],\n",
      "                        \"flowchartId\": \"3cdb01d7e21b28f25d6749bd\",\n",
      "                        \"preProcessors\": [],\n",
      "                        \"postProcessors\": [],\n",
      "                        \"application\": {\n",
      "                            \"_id\": \"XXNZ9pqkerTJtfkwk\",\n",
      "                            \"name\": \"espresso\",\n",
      "                            \"version\": \"5.4.0\",\n",
      "                            \"build\": \"Default\",\n",
      "                            \"isDefault\": true,\n",
      "                            \"summary\": \"Quantum Espresso\",\n",
      "                            \"updatedAt\": \"2021-04-16T22:26:57.811Z\",\n",
      "                            \"shortName\": \"qe\"\n",
      "                        },\n",
      "                        \"executable\": {\n",
      "                            \"_id\": \"YoysB5wYKWWBhbF8s\",\n",
      "                            \"monitors\": [\n",
      "                                \"standard_output\",\n",
      "                                \"convergence_ionic\",\n",
      "                                \"convergence_electronic\"\n",
      "                            ],\n",
      "                            \"name\": \"pw.x\",\n",
      "                            \"results\": [\n",
      "                                \"atomic_forces\",\n",
      "                                \"band_gaps\",\n",
      "                                \"density_of_states\",\n",
      "                                \"fermi_energy\",\n",
      "                                \"pressure\",\n",
      "                                \"stress_tensor\",\n",
      "                                \"total_energy\",\n",
      "                                \"total_energy_contributions\",\n",
      "                                \"total_force\",\n",
      "                                \"final_structure\",\n",
      "                                \"magnetic_moments\",\n",
      "                                \"reaction_energy_barrier\",\n",
      "                                \"reaction_energy_profile\",\n",
      "                                \"potential_profile\",\n",
      "                                \"charge_density_profile\"\n",
      "                            ],\n",
      "                            \"isDefault\": true,\n",
      "                            \"postProcessors\": [\n",
      "                                \"remove_non_zero_weight_kpoints\"\n",
      "                            ],\n",
      "                            \"applicationId\": [\n",
      "                                \"meE8WJ9Xci649i76e\",\n",
      "                                \"XXNZ9pqkerTJtfkwk\",\n",
      "                                \"xqepjmWk7MfsNwPp5\",\n",
      "                                \"a2skXBfaexWa5r2Fd\"\n",
      "                            ],\n",
      "                            \"createdAt\": \"2018-03-14T18:39:55.805Z\",\n",
      "                            \"updatedAt\": \"2021-04-16T22:26:58.869Z\",\n",
      "                            \"schemaVersion\": \"0.2.0\",\n",
      "                            \"tags\": [],\n",
      "                            \"inSet\": []\n",
      "                        },\n",
      "                        \"flavor\": {\n",
      "                            \"_id\": \"Q8zRDZ2MNPzQbuxAL\",\n",
      "                            \"name\": \"pw_scf\",\n",
      "                            \"executableId\": \"YoysB5wYKWWBhbF8s\",\n",
      "                            \"isDefault\": true,\n",
      "                            \"input\": [\n",
      "                                {\n",
      "                                    \"name\": \"pw_scf.in\",\n",
      "                                    \"templateId\": \"rXQNWpqq2eYZZDbNc\"\n",
      "                                }\n",
      "                            ],\n",
      "                            \"results\": [\n",
      "                                \"total_energy\",\n",
      "                                \"total_energy_contributions\",\n",
      "                                \"pressure\",\n",
      "                                \"fermi_energy\",\n",
      "                                \"atomic_forces\",\n",
      "                                \"total_force\",\n",
      "                                \"stress_tensor\"\n",
      "                            ],\n",
      "                            \"monitors\": [\n",
      "                                \"standard_output\",\n",
      "                                \"convergence_electronic\"\n",
      "                            ],\n",
      "                            \"schemaVersion\": \"0.2.0\",\n",
      "                            \"tags\": [],\n",
      "                            \"updatedAt\": \"2021-04-16T22:26:58.881Z\",\n",
      "                            \"inSet\": []\n",
      "                        },\n",
      "                        \"status\": \"idle\",\n",
      "                        \"statusTrack\": [],\n",
      "                        \"input\": [\n",
      "                            {\n",
      "                                \"_id\": \"rXQNWpqq2eYZZDbNc\",\n",
      "                                \"applicationName\": \"espresso\",\n",
      "                                \"executableName\": \"pw.x\",\n",
      "                                \"name\": \"pw_scf.in\",\n",
      "                                \"content\": \"&CONTROL\\n    calculation = 'scf'\\n    title = ''\\n    verbosity = 'low'\\n    restart_mode = '{{ input.RESTART_MODE }}'\\n    wf_collect = .true.\\n    tstress = .true.\\n    tprnfor = .true.\\n    outdir = {% raw %}'{{ JOB_WORK_DIR }}/outdir'{% endraw %}\\n    wfcdir = {% raw %}'{{ JOB_WORK_DIR }}/outdir'{% endraw %}\\n    prefix = '__prefix__'\\n    pseudo_dir = {% raw %}'{{ JOB_WORK_DIR }}/pseudo'{% endraw %}\\n/\\n&SYSTEM\\n    ibrav = {{ input.IBRAV }}\\n    nat = {{ input.NAT }}\\n    ntyp = {{ input.NTYP }}\\n    ecutwfc = {{ cutoffs.wavefunction }}\\n    ecutrho = {{ cutoffs.density }}\\n    occupations = 'smearing'\\n    degauss = 0.005\\n/\\n&ELECTRONS\\n    diagonalization = 'david'\\n    diago_david_ndim = 4\\n    diago_full_acc = .true.\\n    mixing_beta = 0.3\\n    startingwfc = 'atomic+random'\\n/\\n&IONS\\n/\\n&CELL\\n/\\nATOMIC_SPECIES\\n{{ input.ATOMIC_SPECIES }}\\nATOMIC_POSITIONS crystal\\n{{ input.ATOMIC_POSITIONS }}\\nCELL_PARAMETERS angstrom\\n{{ input.CELL_PARAMETERS }}\\nK_POINTS automatic\\n{% for d in kgrid.dimensions %}{{d}} {% endfor %}{% for s in kgrid.shifts %}{{s}} {% endfor %}\",\n",
      "                                \"contextProviders\": [\n",
      "                                    {\n",
      "                                        \"name\": \"KGridFormDataManager\"\n",
      "                                    },\n",
      "                                    {\n",
      "                                        \"name\": \"QEPWXInputDataManager\"\n",
      "                                    },\n",
      "                                    {\n",
      "                                        \"name\": \"PlanewaveCutoffDataManager\"\n",
      "                                    }\n",
      "                                ],\n",
      "                                \"updatedAt\": \"2021-04-16T22:26:56.645Z\",\n",
      "                                \"rendered\": \"&CONTROL\\n    calculation = 'scf'\\n    title = ''\\n    verbosity = 'low'\\n    restart_mode = 'from_scratch'\\n    wf_collect = .true.\\n    tstress = .true.\\n    tprnfor = .true.\\n    outdir = '{{ JOB_WORK_DIR }}/outdir'\\n    wfcdir = '{{ JOB_WORK_DIR }}/outdir'\\n    prefix = '__prefix__'\\n    pseudo_dir = '{{ JOB_WORK_DIR }}/pseudo'\\n/\\n&SYSTEM\\n    ibrav = 0\\n    nat = 2\\n    ntyp = 1\\n    ecutwfc = 40\\n    ecutrho = 200\\n    occupations = 'smearing'\\n    degauss = 0.005\\n/\\n&ELECTRONS\\n    diagonalization = 'david'\\n    diago_david_ndim = 4\\n    diago_full_acc = .true.\\n    mixing_beta = 0.3\\n    startingwfc = 'atomic+random'\\n/\\n&IONS\\n/\\n&CELL\\n/\\nATOMIC_SPECIES\\nSi 28.0855 \\nATOMIC_POSITIONS crystal\\nSi  0.000000000 0.000000000 0.000000000 \\nSi  0.250000000 0.250000000 0.250000000 \\nCELL_PARAMETERS angstrom\\n3.348920236 0.000000000 1.933500000\\n1.116306745 3.157392278 1.933500000\\n0.000000000 0.000000000 3.867000000\\nK_POINTS automatic\\n10 10 10 0 0 0 \"\n",
      "                            }\n",
      "                        ]\n",
      "                    }\n",
      "                ],\n",
      "                \"compute\": null\n",
      "            }\n",
      "        ],\n",
      "        \"units\": [\n",
      "            {\n",
      "                \"type\": \"subworkflow\",\n",
      "                \"_id\": \"88720c95261b067a17488b79\",\n",
      "                \"name\": \"Total Energy\",\n",
      "                \"status\": \"idle\",\n",
      "                \"statusTrack\": [],\n",
      "                \"flowchartId\": \"af0883f9f46268241aed2937\",\n",
      "                \"results\": [],\n",
      "                \"monitors\": [],\n",
      "                \"preProcessors\": [],\n",
      "                \"postProcessors\": [],\n",
      "                \"head\": true\n",
      "            }\n",
      "        ],\n",
      "        \"properties\": [\n",
      "            \"total_energy\",\n",
      "            \"total_energy_contributions\",\n",
      "            \"pressure\",\n",
      "            \"fermi_energy\",\n",
      "            \"atomic_forces\",\n",
      "            \"total_force\",\n",
      "            \"stress_tensor\"\n",
      "        ],\n",
      "        \"isDefault\": true,\n",
      "        \"hash\": \"50b01eb183ba4f861da835af14102b55\",\n",
      "        \"isOutdated\": false,\n",
      "        \"createdAt\": \"2021-04-27T17:01:23.637Z\",\n",
      "        \"updatedAt\": \"2021-04-27T17:01:32.762Z\",\n",
      "        \"workflows\": [],\n",
      "        \"schemaVersion\": \"0.2.0\",\n",
      "        \"tags\": [],\n",
      "        \"owner\": {\n",
      "            \"_id\": \"HnTMM74xxPnTMFcm3\",\n",
      "            \"slug\": \"bsmith\",\n",
      "            \"cls\": \"Account\"\n",
      "        },\n",
      "        \"creator\": {\n",
      "            \"_id\": \"acky7GjD9aownD6iJ\",\n",
      "            \"slug\": \"bsmith\",\n",
      "            \"cls\": \"User\"\n",
      "        },\n",
      "        \"compute\": null,\n",
      "        \"exabyteId\": \"84DAjE9YyTFndx6z3\",\n",
      "        \"inSet\": [\n",
      "            {\n",
      "                \"_id\": \"nQtFH6EKKxYJFY98d\",\n",
      "                \"slug\": \"read\",\n",
      "                \"cls\": \"Team\"\n",
      "            },\n",
      "            {\n",
      "                \"_id\": \"3u3HBozhqNSF7x7dD\",\n",
      "                \"slug\": \"admin\",\n",
      "                \"cls\": \"Team\"\n",
      "            },\n",
      "            {\n",
      "                \"_id\": \"Q2KgxfbBTPqpSY4fw\",\n",
      "                \"slug\": \"owner\",\n",
      "                \"cls\": \"Team\"\n",
      "            },\n",
      "            {\n",
      "                \"_id\": \"QBnghAhrZstXct3eZ\",\n",
      "                \"slug\": \"read\",\n",
      "                \"cls\": \"Team\"\n",
      "            },\n",
      "            {\n",
      "                \"_id\": \"vTz2KjNZWRShYYXJR\",\n",
      "                \"slug\": \"comment\",\n",
      "                \"cls\": \"Team\"\n",
      "            },\n",
      "            {\n",
      "                \"_id\": \"3fSoLrHgwEbjuR7NL\",\n",
      "                \"slug\": \"execute\",\n",
      "                \"cls\": \"Team\"\n",
      "            },\n",
      "            {\n",
      "                \"_id\": \"MdDcBrcPRAG62hAmk\",\n",
      "                \"slug\": \"edit\",\n",
      "                \"cls\": \"Team\"\n",
      "            }\n",
      "        ],\n",
      "        \"history\": [\n",
      "            {\n",
      "                \"id\": \"y6FZHw9yPA2rnqZzs\",\n",
      "                \"revision\": 0\n",
      "            },\n",
      "            {\n",
      "                \"id\": \"4k2PWq47jzW6csacC\",\n",
      "                \"revision\": 1\n",
      "            },\n",
      "            {\n",
      "                \"id\": \"gAhQ326kaxdqDAihz\",\n",
      "                \"revision\": 2\n",
      "            },\n",
      "            {\n",
      "                \"id\": \"ShxKWNYJoQ6ajv32r\",\n",
      "                \"revision\": 3\n",
      "            },\n",
      "            {\n",
      "                \"id\": \"sQdJbX2EAznhxSg3L\",\n",
      "                \"revision\": 4\n",
      "            },\n",
      "            {\n",
      "                \"id\": \"xhfsgmotgJwqMj32Y\",\n",
      "                \"revision\": 5\n",
      "            },\n",
      "            {\n",
      "                \"id\": \"Kf5raq49JnBGT3K8r\",\n",
      "                \"revision\": 6\n",
      "            },\n",
      "            {\n",
      "                \"id\": \"9r6YQ492QZ98k9ijt\",\n",
      "                \"revision\": 7\n",
      "            },\n",
      "            {\n",
      "                \"id\": \"XxbSAN9chq67rnKfb\",\n",
      "                \"revision\": 8\n",
      "            }\n",
      "        ]\n",
      "    }\n",
      "]\n"
     ]
    }
   ],
   "source": [
    "display_JSON(workflows)"
   ]
  }
 ],
 "metadata": {
  "colab": {
   "name": "get_workflows.ipynb",
   "provenance": []
  },
  "kernelspec": {
   "display_name": "Python 3",
   "language": "python",
   "name": "python3"
  },
  "language_info": {
   "codemirror_mode": {
    "name": "ipython",
    "version": 3
   },
   "file_extension": ".py",
   "mimetype": "text/x-python",
   "name": "python",
   "nbconvert_exporter": "python",
   "pygments_lexer": "ipython3",
   "version": "3.8.6"
  }
 },
 "nbformat": 4,
 "nbformat_minor": 1
}
