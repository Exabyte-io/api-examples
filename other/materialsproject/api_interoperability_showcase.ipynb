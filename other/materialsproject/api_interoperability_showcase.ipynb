{
 "cells": [
  {
   "attachments": {},
   "cell_type": "markdown",
   "id": "matched-portal",
   "metadata": {},
   "source": [
    "<a href=\"https://colab.research.google.com/github/Exabyte-io/api-examples/blob/dev/examples/material/api_interoperability_showcase.ipynb\" target=\"_parent\">\n",
    "<img alt=\"Open in Google Colab\" src=\"https://user-images.githubusercontent.com/20477508/128780728-491fea90-9b23-495f-a091-11681150db37.jpeg\" width=\"150\" border=\"0\">\n",
    "</a>"
   ]
  },
  {
   "attachments": {},
   "cell_type": "markdown",
   "id": "civilian-stuart",
   "metadata": {
    "id": "civilian-stuart"
   },
   "source": [
    "# Overview\n",
    "\n",
    "This example was created as part of our [Advanced Topics Webinar](https://www.youtube.com/watch?v=psSFC409jSg) on February 19, 2021. This webinar focused on explaining our API in detail, and provided examples of many areas of its functionality.\n",
    "\n",
    "In this notebook, we showcase a major advantage of APIs: interoperability. We begin by performing a query using the [Materials Project](https://materialsproject.org) API for all systems containing Iron and Oxygen. We then filter our results (for demonstraiton purposes, we keep only the first 10 materials found). Finally, we upload our results to the Mat3ra platform, where further calculations could be performed to characterize these materials."
   ]
  },
  {
   "attachments": {},
   "cell_type": "markdown",
   "id": "numerical-geneva",
   "metadata": {
    "id": "numerical-geneva"
   },
   "source": [
    "# Complete Authorization Form and Initialize Settings\n",
    "\n",
    "This will also determine environment and set all environment variables. We determine if we are using Jupyter Notebooks or Google Colab to run this tutorial.\n",
    "\n",
    "If you are running this notebook from Google Colab, Colab takes ~1 min to execute the following cell.\n",
    "\n",
    "ACCOUNT_ID and AUTH_TOKEN - Authentication parameters needed for when making requests to [Mat3ra.com's API Endpoints](https://docs.mat3ra.com/rest-api/endpoints/).\n",
    "\n",
    "MATERIALS_PROJECT_API_KEY - Authentication parameter needed for when making requests to [Material Project's API](https://materialsproject.org/open)\n",
    "\n",
    "ORGANIZATION_ID - Authentication parameter needed for when working with collaborative accounts https://docs.mat3ra.com/collaboration/organizations/overview/\n",
    "\n",
    "> <span style=\"color: orange\">**NOTE**</span>: If you are running this notebook from Jupyter, the variables ACCOUNT_ID, AUTH_TOKEN, MATERIALS_PROJECT_API_KEY, and ORGANIZATION_ID should be set in the file [settings.json](../../utils/settings.json) if you need to use these variables. To obtain API token parameters, please see the following link to the documentation explaining how to get them: https://docs.mat3ra.com/accounts/ui/preferences/api/"
   ]
  },
  {
   "cell_type": "code",
   "execution_count": null,
   "id": "infectious-cabin",
   "metadata": {
    "cellView": "form",
    "id": "infectious-cabin"
   },
   "outputs": [],
   "source": [
    "# @title Authorization Form\n",
    "ACCOUNT_ID = \"ACCOUNT_ID\"  # @param {type:\"string\"}\n",
    "AUTH_TOKEN = \"AUTH_TOKEN\"  # @param {type:\"string\"}\n",
    "MATERIALS_PROJECT_API_KEY = \"MATERIALS_PROJECT_API_KEY\"  # @param {type:\"string\"}\n",
    "ORGANIZATION_ID = \"ORGANIZATION_ID\"  # @param {type:\"string\"}\n",
    "\n",
    "import os\n",
    "import sys\n",
    "\n",
    "if \"COLAB_JUPYTER_IP\" in os.environ:\n",
    "    os.environ.update(\n",
    "        dict(\n",
    "            ACCOUNT_ID=ACCOUNT_ID,\n",
    "            AUTH_TOKEN=AUTH_TOKEN,\n",
    "            MATERIALS_PROJECT_API_KEY=MATERIALS_PROJECT_API_KEY,\n",
    "            ORGANIZATION_ID=ORGANIZATION_ID,\n",
    "        )\n",
    "    )\n",
    "\n",
    "    !GIT_BRANCH=\"dev\"; export GIT_BRANCH; curl -s \"https://raw.githubusercontent.com/Exabyte-io/api-examples/${GIT_BRANCH}/scripts/env.sh\" | bash\n",
    "\n",
    "if sys.platform == \"emscripten\":\n",
    "    apiConfig = data_from_host.get(\"apiConfig\")\n",
    "    ACCOUNT_ID = apiConfig.get(\"accountId\")\n",
    "    AUTH_TOKEN = apiConfig.get(\"authToken\")\n",
    "    ORGANIZATION_ID = apiConfig.get(\"organizationId\") or \"\"\n",
    "    os.environ.update(\n",
    "        dict(\n",
    "            ACCOUNT_ID=ACCOUNT_ID,\n",
    "            AUTH_TOKEN=AUTH_TOKEN,\n",
    "            MATERIALS_PROJECT_API_KEY=MATERIALS_PROJECT_API_KEY,\n",
    "            ORGANIZATION_ID=ORGANIZATION_ID,\n",
    "        )\n",
    "    )\n",
    "    \n",
    "    import micropip\n",
    "    await micropip.install('mat3ra-api-examples', deps=False)\n",
    "    await micropip.install(\"exabyte-api-client\")\n",
    "    from utils.jupyterlite import install_packages\n",
    "    await install_packages(\"api_interoperability_showcase.ipynb\",\"../../config.yml\")"
   ]
  },
  {
   "attachments": {},
   "cell_type": "markdown",
   "id": "welcome-supplement",
   "metadata": {
    "id": "welcome-supplement"
   },
   "source": [
    "# Imports"
   ]
  },
  {
   "cell_type": "code",
   "execution_count": null,
   "id": "owned-fitness",
   "metadata": {
    "id": "owned-fitness"
   },
   "outputs": [],
   "source": [
    "from utils.settings import ENDPOINT_ARGS, MATERIALS_PROJECT_API_KEY\n",
    "from utils.generic import display_JSON\n",
    "\n",
    "import ase.io\n",
    "from pymatgen.ext.matproj import MPRester\n",
    "\n",
    "from exabyte_api_client.endpoints.materials import MaterialEndpoints"
   ]
  },
  {
   "attachments": {},
   "cell_type": "markdown",
   "id": "consecutive-limit",
   "metadata": {
    "id": "consecutive-limit"
   },
   "source": [
    "# Query the Materials Project\n",
    "\n",
    "We begin by using the Materials Project API implemented in [PyMatGen](https://pymatgen.org/pymatgen.ext.matproj.html) to perform a query for all systems containing Iron and Oxygen."
   ]
  },
  {
   "attachments": {},
   "cell_type": "markdown",
   "id": "mediterranean-consciousness",
   "metadata": {
    "id": "mediterranean-consciousness"
   },
   "source": [
    "# Query Materials Project for all systems containing Iron and Oxygen"
   ]
  },
  {
   "cell_type": "code",
   "execution_count": null,
   "id": "fourth-juvenile",
   "metadata": {
    "id": "fourth-juvenile"
   },
   "outputs": [],
   "source": [
    "materials_project_api = MPRester(MATERIALS_PROJECT_API_KEY)\n",
    "iron_oxides_ids = materials_project_api.get_materials_ids(\"Fe-O\")\n",
    "\n",
    "print(iron_oxides_ids)"
   ]
  },
  {
   "attachments": {},
   "cell_type": "markdown",
   "id": "subsequent-backing",
   "metadata": {
    "id": "subsequent-backing"
   },
   "source": [
    "# Filtering the Results\n",
    "\n",
    "This returns a lot of materials - 160 to be exact! In many cases, it is useful to filter down the number of materials. For example, we may want to exclude large unit cells that may be computationally intensive to study. Or we may want to restrict our results to only thermodynamically-stable oxides, by use of the material's [energy above hull](https://wiki.materialsproject.org/Glossary_of_Terms).\n",
    "\n",
    "As a basic example, here we only keep the first 10 iron oxides that the Materials Project API returned to us, and discard the other 150."
   ]
  },
  {
   "cell_type": "code",
   "execution_count": null,
   "id": "silver-luxembourg",
   "metadata": {
    "id": "silver-luxembourg"
   },
   "outputs": [],
   "source": [
    "# As a demonstration, take the first 10 iron oxides\n",
    "some_iron_oxides = iron_oxides_ids[:10]\n",
    "print(some_iron_oxides)"
   ]
  },
  {
   "attachments": {},
   "cell_type": "markdown",
   "id": "cathedral-vulnerability",
   "metadata": {
    "id": "cathedral-vulnerability"
   },
   "source": [
    "# Bringing Materials Into the User Account\n",
    "\n",
    "Now that we have filtered the results from Materials Project down to just 10 structures, we may want to study them further with the computational models provided by Mat3ra. For example, we may be interested in leveraging a DFT code to find the structure with the largest band-gap, or perhaps we want to conduct a high-throughput screening of each material's surface energies."
   ]
  },
  {
   "cell_type": "code",
   "execution_count": null,
   "id": "broke-writing",
   "metadata": {
    "id": "broke-writing"
   },
   "outputs": [],
   "source": [
    "# Upload the first 10 iron oxides found to our account\n",
    "exabyte_materials_api = MaterialEndpoints(*ENDPOINT_ARGS)\n",
    "materials = exabyte_materials_api.import_from_materialsproject(MATERIALS_PROJECT_API_KEY, some_iron_oxides)"
   ]
  },
  {
   "attachments": {},
   "cell_type": "markdown",
   "id": "alike-vegetable",
   "metadata": {
    "id": "alike-vegetable"
   },
   "source": [
    "Finally, it is always useful to stay organized. Materials sets make this convenient, acting as a folder to keep a group of related materials in. This would be especially helpful if, in the future, we wanted run a calculation over all the oxides we found in this example."
   ]
  },
  {
   "cell_type": "code",
   "execution_count": null,
   "id": "academic-samba",
   "metadata": {
    "id": "academic-samba"
   },
   "outputs": [],
   "source": [
    "# Move the iron oxides to a materials set, just for this example\n",
    "materials_set = exabyte_materials_api.create_set({\"name\": \"Some Iron Oxides\"})\n",
    "for material in materials:\n",
    "    exabyte_materials_api.move_to_set(material[\"_id\"], \"\", materials_set[\"_id\"])"
   ]
  }
 ],
 "metadata": {
  "colab": {
   "name": "api_interoperability_showcase.ipynb",
   "provenance": []
  },
  "kernelspec": {
   "display_name": "Python 3",
   "language": "python",
   "name": "python3"
  },
  "language_info": {
   "codemirror_mode": {
    "name": "ipython",
    "version": 3
   },
   "file_extension": ".py",
   "mimetype": "text/x-python",
   "name": "python",
   "nbconvert_exporter": "python",
   "pygments_lexer": "ipython3",
   "version": "3.8.6"
  }
 },
 "nbformat": 4,
 "nbformat_minor": 5
}
