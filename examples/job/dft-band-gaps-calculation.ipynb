version https://git-lfs.github.com/spec/v1
oid sha256:57f1cd2b72f61d134d9a13584ddd4040668b4f7319b21d16fa2bfec889340386
size 21777
